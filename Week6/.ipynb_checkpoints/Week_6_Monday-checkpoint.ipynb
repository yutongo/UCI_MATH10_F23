{
 "cells": [
  {
   "cell_type": "markdown",
   "metadata": {
    "cell_id": "418d31a33b034082964337d0ac70504e",
    "deepnote_cell_type": "markdown"
   },
   "source": [
    "# Week 6 Monday\n",
    "\n",
    "## Announcements\n",
    "\n",
    "* HW5 due Wednesday.\n",
    "* Quiz tomorrow is based on HW5.\n",
    "\n",
    "\n",
    "## Plan:\n",
    "* Performance measures for regression\n",
    "* More on polynomical regression"
   ]
  },
  {
   "cell_type": "code",
   "execution_count": null,
   "metadata": {
    "cell_id": "35cc3e9aee6349ba8b35c032bbb8b53a",
    "deepnote_cell_type": "code",
    "deepnote_to_be_reexecuted": false,
    "execution_millis": 190,
    "execution_start": 1699304427645,
    "source_hash": null
   },
   "outputs": [],
   "source": [
    "import numpy as np\n",
    "import pandas as pd\n",
    "import altair as alt"
   ]
  },
  {
   "cell_type": "markdown",
   "metadata": {
    "cell_id": "33ef0e185efc467488d6888a49f91e00",
    "deepnote_cell_type": "markdown"
   },
   "source": [
    "## Performance measures for regression\n",
    "\n",
    "Here is a dataset with only 4 data points."
   ]
  },
  {
   "cell_type": "code",
   "execution_count": null,
   "metadata": {
    "cell_id": "3f0aae9a43e042e789d27b2deb89f615",
    "deepnote_cell_type": "code",
    "deepnote_to_be_reexecuted": false,
    "execution_millis": 73,
    "execution_start": 1699304575080,
    "source_hash": null
   },
   "outputs": [
    {
     "data": {
      "application/vnd.deepnote.dataframe.v3+json": {
       "column_count": 2,
       "columns": [
        {
         "dtype": "int64",
         "name": "x",
         "stats": {
          "histogram": [
           {
            "bin_end": 0.3,
            "bin_start": 0,
            "count": 1
           },
           {
            "bin_end": 0.6,
            "bin_start": 0.3,
            "count": 0
           },
           {
            "bin_end": 0.8999999999999999,
            "bin_start": 0.6,
            "count": 0
           },
           {
            "bin_end": 1.2,
            "bin_start": 0.8999999999999999,
            "count": 1
           },
           {
            "bin_end": 1.5,
            "bin_start": 1.2,
            "count": 0
           },
           {
            "bin_end": 1.7999999999999998,
            "bin_start": 1.5,
            "count": 0
           },
           {
            "bin_end": 2.1,
            "bin_start": 1.7999999999999998,
            "count": 1
           },
           {
            "bin_end": 2.4,
            "bin_start": 2.1,
            "count": 0
           },
           {
            "bin_end": 2.6999999999999997,
            "bin_start": 2.4,
            "count": 0
           },
           {
            "bin_end": 3,
            "bin_start": 2.6999999999999997,
            "count": 1
           }
          ],
          "max": "3",
          "min": "0",
          "nan_count": 0,
          "unique_count": 4
         }
        },
        {
         "dtype": "int64",
         "name": "y",
         "stats": {
          "histogram": [
           {
            "bin_end": -8.4,
            "bin_start": -10,
            "count": 1
           },
           {
            "bin_end": -6.8,
            "bin_start": -8.4,
            "count": 0
           },
           {
            "bin_end": -5.199999999999999,
            "bin_start": -6.8,
            "count": 0
           },
           {
            "bin_end": -3.5999999999999996,
            "bin_start": -5.199999999999999,
            "count": 0
           },
           {
            "bin_end": -2,
            "bin_start": -3.5999999999999996,
            "count": 0
           },
           {
            "bin_end": -0.3999999999999986,
            "bin_start": -2,
            "count": 0
           },
           {
            "bin_end": 1.200000000000001,
            "bin_start": -0.3999999999999986,
            "count": 1
           },
           {
            "bin_end": 2.8000000000000007,
            "bin_start": 1.200000000000001,
            "count": 1
           },
           {
            "bin_end": 4.4,
            "bin_start": 2.8000000000000007,
            "count": 0
           },
           {
            "bin_end": 6,
            "bin_start": 4.4,
            "count": 1
           }
          ],
          "max": "6",
          "min": "-10",
          "nan_count": 0,
          "unique_count": 4
         }
        },
        {
         "dtype": "int64",
         "name": "_deepnote_index_column"
        }
       ],
       "row_count": 4,
       "rows": [
        {
         "_deepnote_index_column": 0,
         "x": 0,
         "y": 0
        },
        {
         "_deepnote_index_column": 1,
         "x": 1,
         "y": 2
        },
        {
         "_deepnote_index_column": 2,
         "x": 2,
         "y": -10
        },
        {
         "_deepnote_index_column": 3,
         "x": 3,
         "y": 6
        }
       ]
      },
      "text/html": [
       "<div>\n",
       "<style scoped>\n",
       "    .dataframe tbody tr th:only-of-type {\n",
       "        vertical-align: middle;\n",
       "    }\n",
       "\n",
       "    .dataframe tbody tr th {\n",
       "        vertical-align: top;\n",
       "    }\n",
       "\n",
       "    .dataframe thead th {\n",
       "        text-align: right;\n",
       "    }\n",
       "</style>\n",
       "<table border=\"1\" class=\"dataframe\">\n",
       "  <thead>\n",
       "    <tr style=\"text-align: right;\">\n",
       "      <th></th>\n",
       "      <th>x</th>\n",
       "      <th>y</th>\n",
       "    </tr>\n",
       "  </thead>\n",
       "  <tbody>\n",
       "    <tr>\n",
       "      <th>0</th>\n",
       "      <td>0</td>\n",
       "      <td>0</td>\n",
       "    </tr>\n",
       "    <tr>\n",
       "      <th>1</th>\n",
       "      <td>1</td>\n",
       "      <td>2</td>\n",
       "    </tr>\n",
       "    <tr>\n",
       "      <th>2</th>\n",
       "      <td>2</td>\n",
       "      <td>-10</td>\n",
       "    </tr>\n",
       "    <tr>\n",
       "      <th>3</th>\n",
       "      <td>3</td>\n",
       "      <td>6</td>\n",
       "    </tr>\n",
       "  </tbody>\n",
       "</table>\n",
       "</div>"
      ],
      "text/plain": [
       "   x   y\n",
       "0  0   0\n",
       "1  1   2\n",
       "2  2 -10\n",
       "3  3   6"
      ]
     },
     "execution_count": 2,
     "metadata": {},
     "output_type": "execute_result"
    }
   ],
   "source": [
    "df = pd.DataFrame({\n",
    "    \"x\":np.arange(4),\n",
    "    \"y\":[0,2,-10,6]},\n",
    ")\n",
    "\n",
    "df"
   ]
  },
  {
   "cell_type": "markdown",
   "metadata": {
    "cell_id": "5f3b55d09f2e4516a3e2a3c8e6c204ee",
    "deepnote_cell_type": "markdown"
   },
   "source": [
    "Here is how the data looks."
   ]
  },
  {
   "cell_type": "code",
   "execution_count": null,
   "metadata": {
    "cell_id": "e74751c8715849d295bb3e1ec0580fd9",
    "deepnote_cell_type": "code",
    "deepnote_to_be_reexecuted": false,
    "execution_millis": 17,
    "execution_start": 1699210717410,
    "source_hash": null
   },
   "outputs": [
    {
     "data": {
      "text/html": [
       "\n",
       "<div id=\"altair-viz-b278e0bdc0ef43f8b7d4eb6a1364c6c8\"></div>\n",
       "<script type=\"text/javascript\">\n",
       "  var VEGA_DEBUG = (typeof VEGA_DEBUG == \"undefined\") ? {} : VEGA_DEBUG;\n",
       "  (function(spec, embedOpt){\n",
       "    let outputDiv = document.currentScript.previousElementSibling;\n",
       "    if (outputDiv.id !== \"altair-viz-b278e0bdc0ef43f8b7d4eb6a1364c6c8\") {\n",
       "      outputDiv = document.getElementById(\"altair-viz-b278e0bdc0ef43f8b7d4eb6a1364c6c8\");\n",
       "    }\n",
       "    const paths = {\n",
       "      \"vega\": \"https://cdn.jsdelivr.net/npm//vega@5?noext\",\n",
       "      \"vega-lib\": \"https://cdn.jsdelivr.net/npm//vega-lib?noext\",\n",
       "      \"vega-lite\": \"https://cdn.jsdelivr.net/npm//vega-lite@4.17.0?noext\",\n",
       "      \"vega-embed\": \"https://cdn.jsdelivr.net/npm//vega-embed@6?noext\",\n",
       "    };\n",
       "\n",
       "    function maybeLoadScript(lib, version) {\n",
       "      var key = `${lib.replace(\"-\", \"\")}_version`;\n",
       "      return (VEGA_DEBUG[key] == version) ?\n",
       "        Promise.resolve(paths[lib]) :\n",
       "        new Promise(function(resolve, reject) {\n",
       "          var s = document.createElement('script');\n",
       "          document.getElementsByTagName(\"head\")[0].appendChild(s);\n",
       "          s.async = true;\n",
       "          s.onload = () => {\n",
       "            VEGA_DEBUG[key] = version;\n",
       "            return resolve(paths[lib]);\n",
       "          };\n",
       "          s.onerror = () => reject(`Error loading script: ${paths[lib]}`);\n",
       "          s.src = paths[lib];\n",
       "        });\n",
       "    }\n",
       "\n",
       "    function showError(err) {\n",
       "      outputDiv.innerHTML = `<div class=\"error\" style=\"color:red;\">${err}</div>`;\n",
       "      throw err;\n",
       "    }\n",
       "\n",
       "    function displayChart(vegaEmbed) {\n",
       "      vegaEmbed(outputDiv, spec, embedOpt)\n",
       "        .catch(err => showError(`Javascript Error: ${err.message}<br>This usually means there's a typo in your chart specification. See the javascript console for the full traceback.`));\n",
       "    }\n",
       "\n",
       "    if(typeof define === \"function\" && define.amd) {\n",
       "      requirejs.config({paths});\n",
       "      require([\"vega-embed\"], displayChart, err => showError(`Error loading script: ${err.message}`));\n",
       "    } else {\n",
       "      maybeLoadScript(\"vega\", \"5\")\n",
       "        .then(() => maybeLoadScript(\"vega-lite\", \"4.17.0\"))\n",
       "        .then(() => maybeLoadScript(\"vega-embed\", \"6\"))\n",
       "        .catch(showError)\n",
       "        .then(() => displayChart(vegaEmbed));\n",
       "    }\n",
       "  })({\"config\": {\"view\": {\"continuousWidth\": 400, \"continuousHeight\": 300}}, \"data\": {\"name\": \"data-dd2f37c2feb906cd9c4f4b68fb9fb7ee\"}, \"mark\": {\"type\": \"circle\", \"size\": 150}, \"encoding\": {\"x\": {\"field\": \"x\", \"type\": \"quantitative\"}, \"y\": {\"field\": \"y\", \"type\": \"quantitative\"}}, \"$schema\": \"https://vega.github.io/schema/vega-lite/v4.17.0.json\", \"datasets\": {\"data-dd2f37c2feb906cd9c4f4b68fb9fb7ee\": [{\"x\": 0, \"y\": 0}, {\"x\": 1, \"y\": 2}, {\"x\": 2, \"y\": -10}, {\"x\": 3, \"y\": 6}]}}, {\"mode\": \"vega-lite\"});\n",
       "</script>"
      ],
      "text/plain": [
       "alt.Chart(...)"
      ]
     },
     "execution_count": 3,
     "metadata": {},
     "output_type": "execute_result"
    }
   ],
   "source": [
    "alt.Chart(df).mark_circle(size=150).encode(\n",
    "    x=\"x\",\n",
    "    y=\"y\"\n",
    ")"
   ]
  },
  {
   "cell_type": "markdown",
   "metadata": {
    "cell_id": "4a258574a69b4a1ba523c76ecebf839d",
    "deepnote_cell_type": "markdown"
   },
   "source": [
    "Let's figure out which of the following linear models better fits the data:\n",
    "* Line A: $f(x) = 2x$\n",
    "* Line B: $g(x) = 0.6x - 1.4$"
   ]
  },
  {
   "cell_type": "markdown",
   "metadata": {
    "cell_id": "ef5f3979aef6455997e6d0b41e2b06b3",
    "deepnote_cell_type": "markdown"
   },
   "source": [
    "* Add columns to `df` corresponding to these lines.  Name the new columns \"lineA\" and \"lineB\"."
   ]
  },
  {
   "cell_type": "markdown",
   "metadata": {
    "cell_id": "2df325bc3ea94881b4ad81c3a6318e7e",
    "deepnote_cell_type": "markdown"
   },
   "source": [
    "The following works, but is overly complicated.  There's no need to use the `map` method for these basic examples."
   ]
  },
  {
   "cell_type": "code",
   "execution_count": null,
   "metadata": {
    "cell_id": "ce238fce098640a881a227d84a50766c",
    "deepnote_cell_type": "code",
    "deepnote_to_be_reexecuted": false,
    "execution_millis": 11,
    "execution_start": 1699304795119,
    "source_hash": null
   },
   "outputs": [
    {
     "data": {
      "application/vnd.deepnote.dataframe.v3+json": {
       "column_count": 3,
       "columns": [
        {
         "dtype": "int64",
         "name": "x",
         "stats": {
          "histogram": [
           {
            "bin_end": 0.3,
            "bin_start": 0,
            "count": 1
           },
           {
            "bin_end": 0.6,
            "bin_start": 0.3,
            "count": 0
           },
           {
            "bin_end": 0.8999999999999999,
            "bin_start": 0.6,
            "count": 0
           },
           {
            "bin_end": 1.2,
            "bin_start": 0.8999999999999999,
            "count": 1
           },
           {
            "bin_end": 1.5,
            "bin_start": 1.2,
            "count": 0
           },
           {
            "bin_end": 1.7999999999999998,
            "bin_start": 1.5,
            "count": 0
           },
           {
            "bin_end": 2.1,
            "bin_start": 1.7999999999999998,
            "count": 1
           },
           {
            "bin_end": 2.4,
            "bin_start": 2.1,
            "count": 0
           },
           {
            "bin_end": 2.6999999999999997,
            "bin_start": 2.4,
            "count": 0
           },
           {
            "bin_end": 3,
            "bin_start": 2.6999999999999997,
            "count": 1
           }
          ],
          "max": "3",
          "min": "0",
          "nan_count": 0,
          "unique_count": 4
         }
        },
        {
         "dtype": "int64",
         "name": "y",
         "stats": {
          "histogram": [
           {
            "bin_end": -8.4,
            "bin_start": -10,
            "count": 1
           },
           {
            "bin_end": -6.8,
            "bin_start": -8.4,
            "count": 0
           },
           {
            "bin_end": -5.199999999999999,
            "bin_start": -6.8,
            "count": 0
           },
           {
            "bin_end": -3.5999999999999996,
            "bin_start": -5.199999999999999,
            "count": 0
           },
           {
            "bin_end": -2,
            "bin_start": -3.5999999999999996,
            "count": 0
           },
           {
            "bin_end": -0.3999999999999986,
            "bin_start": -2,
            "count": 0
           },
           {
            "bin_end": 1.200000000000001,
            "bin_start": -0.3999999999999986,
            "count": 1
           },
           {
            "bin_end": 2.8000000000000007,
            "bin_start": 1.200000000000001,
            "count": 1
           },
           {
            "bin_end": 4.4,
            "bin_start": 2.8000000000000007,
            "count": 0
           },
           {
            "bin_end": 6,
            "bin_start": 4.4,
            "count": 1
           }
          ],
          "max": "6",
          "min": "-10",
          "nan_count": 0,
          "unique_count": 4
         }
        },
        {
         "dtype": "int64",
         "name": "lineA",
         "stats": {
          "histogram": [
           {
            "bin_end": 0.6,
            "bin_start": 0,
            "count": 1
           },
           {
            "bin_end": 1.2,
            "bin_start": 0.6,
            "count": 0
           },
           {
            "bin_end": 1.7999999999999998,
            "bin_start": 1.2,
            "count": 0
           },
           {
            "bin_end": 2.4,
            "bin_start": 1.7999999999999998,
            "count": 1
           },
           {
            "bin_end": 3,
            "bin_start": 2.4,
            "count": 0
           },
           {
            "bin_end": 3.5999999999999996,
            "bin_start": 3,
            "count": 0
           },
           {
            "bin_end": 4.2,
            "bin_start": 3.5999999999999996,
            "count": 1
           },
           {
            "bin_end": 4.8,
            "bin_start": 4.2,
            "count": 0
           },
           {
            "bin_end": 5.3999999999999995,
            "bin_start": 4.8,
            "count": 0
           },
           {
            "bin_end": 6,
            "bin_start": 5.3999999999999995,
            "count": 1
           }
          ],
          "max": "6",
          "min": "0",
          "nan_count": 0,
          "unique_count": 4
         }
        },
        {
         "dtype": "int64",
         "name": "_deepnote_index_column"
        }
       ],
       "row_count": 4,
       "rows": [
        {
         "_deepnote_index_column": 0,
         "lineA": 0,
         "x": 0,
         "y": 0
        },
        {
         "_deepnote_index_column": 1,
         "lineA": 2,
         "x": 1,
         "y": 2
        },
        {
         "_deepnote_index_column": 2,
         "lineA": 4,
         "x": 2,
         "y": -10
        },
        {
         "_deepnote_index_column": 3,
         "lineA": 6,
         "x": 3,
         "y": 6
        }
       ]
      },
      "text/html": [
       "<div>\n",
       "<style scoped>\n",
       "    .dataframe tbody tr th:only-of-type {\n",
       "        vertical-align: middle;\n",
       "    }\n",
       "\n",
       "    .dataframe tbody tr th {\n",
       "        vertical-align: top;\n",
       "    }\n",
       "\n",
       "    .dataframe thead th {\n",
       "        text-align: right;\n",
       "    }\n",
       "</style>\n",
       "<table border=\"1\" class=\"dataframe\">\n",
       "  <thead>\n",
       "    <tr style=\"text-align: right;\">\n",
       "      <th></th>\n",
       "      <th>x</th>\n",
       "      <th>y</th>\n",
       "      <th>lineA</th>\n",
       "    </tr>\n",
       "  </thead>\n",
       "  <tbody>\n",
       "    <tr>\n",
       "      <th>0</th>\n",
       "      <td>0</td>\n",
       "      <td>0</td>\n",
       "      <td>0</td>\n",
       "    </tr>\n",
       "    <tr>\n",
       "      <th>1</th>\n",
       "      <td>1</td>\n",
       "      <td>2</td>\n",
       "      <td>2</td>\n",
       "    </tr>\n",
       "    <tr>\n",
       "      <th>2</th>\n",
       "      <td>2</td>\n",
       "      <td>-10</td>\n",
       "      <td>4</td>\n",
       "    </tr>\n",
       "    <tr>\n",
       "      <th>3</th>\n",
       "      <td>3</td>\n",
       "      <td>6</td>\n",
       "      <td>6</td>\n",
       "    </tr>\n",
       "  </tbody>\n",
       "</table>\n",
       "</div>"
      ],
      "text/plain": [
       "   x   y  lineA\n",
       "0  0   0      0\n",
       "1  1   2      2\n",
       "2  2 -10      4\n",
       "3  3   6      6"
      ]
     },
     "execution_count": 5,
     "metadata": {},
     "output_type": "execute_result"
    }
   ],
   "source": [
    "df[\"lineA\"] = df['x'].map(lambda x : 2*x)\n",
    "df"
   ]
  },
  {
   "cell_type": "markdown",
   "metadata": {
    "cell_id": "2d4279967eab4310a9b8362a779bee17",
    "deepnote_cell_type": "markdown"
   },
   "source": [
    "This is the most natural way to include the Line A points."
   ]
  },
  {
   "cell_type": "code",
   "execution_count": null,
   "metadata": {
    "cell_id": "3bad203f09cb4f8cb6a4b6d65d971f13",
    "deepnote_cell_type": "code",
    "deepnote_to_be_reexecuted": false,
    "execution_millis": 21,
    "execution_start": 1699304842662,
    "source_hash": null
   },
   "outputs": [
    {
     "data": {
      "application/vnd.deepnote.dataframe.v3+json": {
       "column_count": 3,
       "columns": [
        {
         "dtype": "int64",
         "name": "x",
         "stats": {
          "histogram": [
           {
            "bin_end": 0.3,
            "bin_start": 0,
            "count": 1
           },
           {
            "bin_end": 0.6,
            "bin_start": 0.3,
            "count": 0
           },
           {
            "bin_end": 0.8999999999999999,
            "bin_start": 0.6,
            "count": 0
           },
           {
            "bin_end": 1.2,
            "bin_start": 0.8999999999999999,
            "count": 1
           },
           {
            "bin_end": 1.5,
            "bin_start": 1.2,
            "count": 0
           },
           {
            "bin_end": 1.7999999999999998,
            "bin_start": 1.5,
            "count": 0
           },
           {
            "bin_end": 2.1,
            "bin_start": 1.7999999999999998,
            "count": 1
           },
           {
            "bin_end": 2.4,
            "bin_start": 2.1,
            "count": 0
           },
           {
            "bin_end": 2.6999999999999997,
            "bin_start": 2.4,
            "count": 0
           },
           {
            "bin_end": 3,
            "bin_start": 2.6999999999999997,
            "count": 1
           }
          ],
          "max": "3",
          "min": "0",
          "nan_count": 0,
          "unique_count": 4
         }
        },
        {
         "dtype": "int64",
         "name": "y",
         "stats": {
          "histogram": [
           {
            "bin_end": -8.4,
            "bin_start": -10,
            "count": 1
           },
           {
            "bin_end": -6.8,
            "bin_start": -8.4,
            "count": 0
           },
           {
            "bin_end": -5.199999999999999,
            "bin_start": -6.8,
            "count": 0
           },
           {
            "bin_end": -3.5999999999999996,
            "bin_start": -5.199999999999999,
            "count": 0
           },
           {
            "bin_end": -2,
            "bin_start": -3.5999999999999996,
            "count": 0
           },
           {
            "bin_end": -0.3999999999999986,
            "bin_start": -2,
            "count": 0
           },
           {
            "bin_end": 1.200000000000001,
            "bin_start": -0.3999999999999986,
            "count": 1
           },
           {
            "bin_end": 2.8000000000000007,
            "bin_start": 1.200000000000001,
            "count": 1
           },
           {
            "bin_end": 4.4,
            "bin_start": 2.8000000000000007,
            "count": 0
           },
           {
            "bin_end": 6,
            "bin_start": 4.4,
            "count": 1
           }
          ],
          "max": "6",
          "min": "-10",
          "nan_count": 0,
          "unique_count": 4
         }
        },
        {
         "dtype": "int64",
         "name": "lineA",
         "stats": {
          "histogram": [
           {
            "bin_end": 0.6,
            "bin_start": 0,
            "count": 1
           },
           {
            "bin_end": 1.2,
            "bin_start": 0.6,
            "count": 0
           },
           {
            "bin_end": 1.7999999999999998,
            "bin_start": 1.2,
            "count": 0
           },
           {
            "bin_end": 2.4,
            "bin_start": 1.7999999999999998,
            "count": 1
           },
           {
            "bin_end": 3,
            "bin_start": 2.4,
            "count": 0
           },
           {
            "bin_end": 3.5999999999999996,
            "bin_start": 3,
            "count": 0
           },
           {
            "bin_end": 4.2,
            "bin_start": 3.5999999999999996,
            "count": 1
           },
           {
            "bin_end": 4.8,
            "bin_start": 4.2,
            "count": 0
           },
           {
            "bin_end": 5.3999999999999995,
            "bin_start": 4.8,
            "count": 0
           },
           {
            "bin_end": 6,
            "bin_start": 5.3999999999999995,
            "count": 1
           }
          ],
          "max": "6",
          "min": "0",
          "nan_count": 0,
          "unique_count": 4
         }
        },
        {
         "dtype": "int64",
         "name": "_deepnote_index_column"
        }
       ],
       "row_count": 4,
       "rows": [
        {
         "_deepnote_index_column": 0,
         "lineA": 0,
         "x": 0,
         "y": 0
        },
        {
         "_deepnote_index_column": 1,
         "lineA": 2,
         "x": 1,
         "y": 2
        },
        {
         "_deepnote_index_column": 2,
         "lineA": 4,
         "x": 2,
         "y": -10
        },
        {
         "_deepnote_index_column": 3,
         "lineA": 6,
         "x": 3,
         "y": 6
        }
       ]
      },
      "text/html": [
       "<div>\n",
       "<style scoped>\n",
       "    .dataframe tbody tr th:only-of-type {\n",
       "        vertical-align: middle;\n",
       "    }\n",
       "\n",
       "    .dataframe tbody tr th {\n",
       "        vertical-align: top;\n",
       "    }\n",
       "\n",
       "    .dataframe thead th {\n",
       "        text-align: right;\n",
       "    }\n",
       "</style>\n",
       "<table border=\"1\" class=\"dataframe\">\n",
       "  <thead>\n",
       "    <tr style=\"text-align: right;\">\n",
       "      <th></th>\n",
       "      <th>x</th>\n",
       "      <th>y</th>\n",
       "      <th>lineA</th>\n",
       "    </tr>\n",
       "  </thead>\n",
       "  <tbody>\n",
       "    <tr>\n",
       "      <th>0</th>\n",
       "      <td>0</td>\n",
       "      <td>0</td>\n",
       "      <td>0</td>\n",
       "    </tr>\n",
       "    <tr>\n",
       "      <th>1</th>\n",
       "      <td>1</td>\n",
       "      <td>2</td>\n",
       "      <td>2</td>\n",
       "    </tr>\n",
       "    <tr>\n",
       "      <th>2</th>\n",
       "      <td>2</td>\n",
       "      <td>-10</td>\n",
       "      <td>4</td>\n",
       "    </tr>\n",
       "    <tr>\n",
       "      <th>3</th>\n",
       "      <td>3</td>\n",
       "      <td>6</td>\n",
       "      <td>6</td>\n",
       "    </tr>\n",
       "  </tbody>\n",
       "</table>\n",
       "</div>"
      ],
      "text/plain": [
       "   x   y  lineA\n",
       "0  0   0      0\n",
       "1  1   2      2\n",
       "2  2 -10      4\n",
       "3  3   6      6"
      ]
     },
     "execution_count": 6,
     "metadata": {},
     "output_type": "execute_result"
    }
   ],
   "source": [
    "df[\"lineA\"] = 2*df['x']\n",
    "df"
   ]
  },
  {
   "cell_type": "markdown",
   "metadata": {
    "cell_id": "cc534effde654fc38780a1ec59b5c37d",
    "deepnote_cell_type": "markdown"
   },
   "source": [
    "Similarly for Line B: no `map` method is needed."
   ]
  },
  {
   "cell_type": "code",
   "execution_count": null,
   "metadata": {
    "cell_id": "be528022b793477c9b2962f99fd22923",
    "deepnote_cell_type": "code",
    "deepnote_to_be_reexecuted": false,
    "execution_millis": 14,
    "execution_start": 1699304883859,
    "source_hash": null
   },
   "outputs": [
    {
     "data": {
      "application/vnd.deepnote.dataframe.v3+json": {
       "column_count": 4,
       "columns": [
        {
         "dtype": "int64",
         "name": "x",
         "stats": {
          "histogram": [
           {
            "bin_end": 0.3,
            "bin_start": 0,
            "count": 1
           },
           {
            "bin_end": 0.6,
            "bin_start": 0.3,
            "count": 0
           },
           {
            "bin_end": 0.8999999999999999,
            "bin_start": 0.6,
            "count": 0
           },
           {
            "bin_end": 1.2,
            "bin_start": 0.8999999999999999,
            "count": 1
           },
           {
            "bin_end": 1.5,
            "bin_start": 1.2,
            "count": 0
           },
           {
            "bin_end": 1.7999999999999998,
            "bin_start": 1.5,
            "count": 0
           },
           {
            "bin_end": 2.1,
            "bin_start": 1.7999999999999998,
            "count": 1
           },
           {
            "bin_end": 2.4,
            "bin_start": 2.1,
            "count": 0
           },
           {
            "bin_end": 2.6999999999999997,
            "bin_start": 2.4,
            "count": 0
           },
           {
            "bin_end": 3,
            "bin_start": 2.6999999999999997,
            "count": 1
           }
          ],
          "max": "3",
          "min": "0",
          "nan_count": 0,
          "unique_count": 4
         }
        },
        {
         "dtype": "int64",
         "name": "y",
         "stats": {
          "histogram": [
           {
            "bin_end": -8.4,
            "bin_start": -10,
            "count": 1
           },
           {
            "bin_end": -6.8,
            "bin_start": -8.4,
            "count": 0
           },
           {
            "bin_end": -5.199999999999999,
            "bin_start": -6.8,
            "count": 0
           },
           {
            "bin_end": -3.5999999999999996,
            "bin_start": -5.199999999999999,
            "count": 0
           },
           {
            "bin_end": -2,
            "bin_start": -3.5999999999999996,
            "count": 0
           },
           {
            "bin_end": -0.3999999999999986,
            "bin_start": -2,
            "count": 0
           },
           {
            "bin_end": 1.200000000000001,
            "bin_start": -0.3999999999999986,
            "count": 1
           },
           {
            "bin_end": 2.8000000000000007,
            "bin_start": 1.200000000000001,
            "count": 1
           },
           {
            "bin_end": 4.4,
            "bin_start": 2.8000000000000007,
            "count": 0
           },
           {
            "bin_end": 6,
            "bin_start": 4.4,
            "count": 1
           }
          ],
          "max": "6",
          "min": "-10",
          "nan_count": 0,
          "unique_count": 4
         }
        },
        {
         "dtype": "int64",
         "name": "lineA",
         "stats": {
          "histogram": [
           {
            "bin_end": 0.6,
            "bin_start": 0,
            "count": 1
           },
           {
            "bin_end": 1.2,
            "bin_start": 0.6,
            "count": 0
           },
           {
            "bin_end": 1.7999999999999998,
            "bin_start": 1.2,
            "count": 0
           },
           {
            "bin_end": 2.4,
            "bin_start": 1.7999999999999998,
            "count": 1
           },
           {
            "bin_end": 3,
            "bin_start": 2.4,
            "count": 0
           },
           {
            "bin_end": 3.5999999999999996,
            "bin_start": 3,
            "count": 0
           },
           {
            "bin_end": 4.2,
            "bin_start": 3.5999999999999996,
            "count": 1
           },
           {
            "bin_end": 4.8,
            "bin_start": 4.2,
            "count": 0
           },
           {
            "bin_end": 5.3999999999999995,
            "bin_start": 4.8,
            "count": 0
           },
           {
            "bin_end": 6,
            "bin_start": 5.3999999999999995,
            "count": 1
           }
          ],
          "max": "6",
          "min": "0",
          "nan_count": 0,
          "unique_count": 4
         }
        },
        {
         "dtype": "float64",
         "name": "lineB",
         "stats": {
          "histogram": [
           {
            "bin_end": -1.22,
            "bin_start": -1.4,
            "count": 1
           },
           {
            "bin_end": -1.04,
            "bin_start": -1.22,
            "count": 0
           },
           {
            "bin_end": -0.8599999999999999,
            "bin_start": -1.04,
            "count": 0
           },
           {
            "bin_end": -0.6799999999999999,
            "bin_start": -0.8599999999999999,
            "count": 1
           },
           {
            "bin_end": -0.5,
            "bin_start": -0.6799999999999999,
            "count": 0
           },
           {
            "bin_end": -0.31999999999999984,
            "bin_start": -0.5,
            "count": 0
           },
           {
            "bin_end": -0.1399999999999999,
            "bin_start": -0.31999999999999984,
            "count": 1
           },
           {
            "bin_end": 0.040000000000000036,
            "bin_start": -0.1399999999999999,
            "count": 0
           },
           {
            "bin_end": 0.21999999999999997,
            "bin_start": 0.040000000000000036,
            "count": 0
           },
           {
            "bin_end": 0.3999999999999999,
            "bin_start": 0.21999999999999997,
            "count": 1
           }
          ],
          "max": "0.3999999999999999",
          "min": "-1.4",
          "nan_count": 0,
          "unique_count": 4
         }
        },
        {
         "dtype": "int64",
         "name": "_deepnote_index_column"
        }
       ],
       "row_count": 4,
       "rows": [
        {
         "_deepnote_index_column": 0,
         "lineA": 0,
         "lineB": -1.4,
         "x": 0,
         "y": 0
        },
        {
         "_deepnote_index_column": 1,
         "lineA": 2,
         "lineB": -0.7999999999999999,
         "x": 1,
         "y": 2
        },
        {
         "_deepnote_index_column": 2,
         "lineA": 4,
         "lineB": -0.19999999999999996,
         "x": 2,
         "y": -10
        },
        {
         "_deepnote_index_column": 3,
         "lineA": 6,
         "lineB": 0.3999999999999999,
         "x": 3,
         "y": 6
        }
       ]
      },
      "text/html": [
       "<div>\n",
       "<style scoped>\n",
       "    .dataframe tbody tr th:only-of-type {\n",
       "        vertical-align: middle;\n",
       "    }\n",
       "\n",
       "    .dataframe tbody tr th {\n",
       "        vertical-align: top;\n",
       "    }\n",
       "\n",
       "    .dataframe thead th {\n",
       "        text-align: right;\n",
       "    }\n",
       "</style>\n",
       "<table border=\"1\" class=\"dataframe\">\n",
       "  <thead>\n",
       "    <tr style=\"text-align: right;\">\n",
       "      <th></th>\n",
       "      <th>x</th>\n",
       "      <th>y</th>\n",
       "      <th>lineA</th>\n",
       "      <th>lineB</th>\n",
       "    </tr>\n",
       "  </thead>\n",
       "  <tbody>\n",
       "    <tr>\n",
       "      <th>0</th>\n",
       "      <td>0</td>\n",
       "      <td>0</td>\n",
       "      <td>0</td>\n",
       "      <td>-1.4</td>\n",
       "    </tr>\n",
       "    <tr>\n",
       "      <th>1</th>\n",
       "      <td>1</td>\n",
       "      <td>2</td>\n",
       "      <td>2</td>\n",
       "      <td>-0.8</td>\n",
       "    </tr>\n",
       "    <tr>\n",
       "      <th>2</th>\n",
       "      <td>2</td>\n",
       "      <td>-10</td>\n",
       "      <td>4</td>\n",
       "      <td>-0.2</td>\n",
       "    </tr>\n",
       "    <tr>\n",
       "      <th>3</th>\n",
       "      <td>3</td>\n",
       "      <td>6</td>\n",
       "      <td>6</td>\n",
       "      <td>0.4</td>\n",
       "    </tr>\n",
       "  </tbody>\n",
       "</table>\n",
       "</div>"
      ],
      "text/plain": [
       "   x   y  lineA  lineB\n",
       "0  0   0      0   -1.4\n",
       "1  1   2      2   -0.8\n",
       "2  2 -10      4   -0.2\n",
       "3  3   6      6    0.4"
      ]
     },
     "execution_count": 7,
     "metadata": {},
     "output_type": "execute_result"
    }
   ],
   "source": [
    "df[\"lineB\"] = 0.6*df['x']-1.4\n",
    "df"
   ]
  },
  {
   "cell_type": "markdown",
   "metadata": {
    "cell_id": "f769d04016224e92a9c4a379ed326e10",
    "deepnote_cell_type": "markdown"
   },
   "source": [
    "* Plot the data together with these lines, using the color red for Line A and the color black for Line B.  Use a base chart so that you are not repeating the same code three times."
   ]
  },
  {
   "cell_type": "markdown",
   "metadata": {
    "cell_id": "02e921e33ded47b98b48ae825cba24c9",
    "deepnote_cell_type": "markdown"
   },
   "source": [
    "Here is a trick that will save us some typing.  This trick is not that important and I don't expect it to show up on a quiz or exam, but it is nice to know it exists.  We define a base chart that contains the common components to all our charts."
   ]
  },
  {
   "cell_type": "code",
   "execution_count": null,
   "metadata": {
    "cell_id": "2be7ed30d33a454ca774b3b1a3608e98",
    "deepnote_cell_type": "code",
    "deepnote_to_be_reexecuted": false,
    "execution_millis": 9,
    "execution_start": 1699305049004,
    "source_hash": null
   },
   "outputs": [],
   "source": [
    "base = alt.Chart(df).encode(\n",
    "    x = \"x\"\n",
    ")"
   ]
  },
  {
   "cell_type": "markdown",
   "metadata": {
    "cell_id": "ebd648b009424590bd9488cf73ae7657",
    "deepnote_cell_type": "markdown"
   },
   "source": [
    "If we try to display `base` on its own, we get an error, because this by itself is not a valid chart (it's missing the `mark` code)."
   ]
  },
  {
   "cell_type": "code",
   "execution_count": null,
   "metadata": {
    "cell_id": "8f03bfaa2fd44c2b93b8dcb82363ba75",
    "deepnote_cell_type": "code",
    "deepnote_to_be_reexecuted": false,
    "execution_millis": 330,
    "execution_start": 1699305058481,
    "source_hash": null
   },
   "outputs": [
    {
     "ename": "SchemaValidationError",
     "evalue": "Invalid specification\n\n        altair.vegalite.v4.api.Chart, validating 'required'\n\n        'mark' is a required property\n        ",
     "output_type": "error",
     "traceback": [
      "\u001b[0;31m---------------------------------------------------------------------------\u001b[0m",
      "\u001b[0;31mSchemaValidationError\u001b[0m                     Traceback (most recent call last)",
      "File \u001b[0;32m/shared-libs/python3.9/py/lib/python3.9/site-packages/altair/vegalite/v4/api.py:2020\u001b[0m, in \u001b[0;36mChart.to_dict\u001b[0;34m(self, *args, **kwargs)\u001b[0m\n\u001b[1;32m   2018\u001b[0m     copy\u001b[38;5;241m.\u001b[39mdata \u001b[38;5;241m=\u001b[39m core\u001b[38;5;241m.\u001b[39mInlineData(values\u001b[38;5;241m=\u001b[39m[{}])\n\u001b[1;32m   2019\u001b[0m     \u001b[38;5;28;01mreturn\u001b[39;00m \u001b[38;5;28msuper\u001b[39m(Chart, copy)\u001b[38;5;241m.\u001b[39mto_dict(\u001b[38;5;241m*\u001b[39margs, \u001b[38;5;241m*\u001b[39m\u001b[38;5;241m*\u001b[39mkwargs)\n\u001b[0;32m-> 2020\u001b[0m \u001b[38;5;28;01mreturn\u001b[39;00m \u001b[38;5;28;43msuper\u001b[39;49m\u001b[43m(\u001b[49m\u001b[43m)\u001b[49m\u001b[38;5;241;43m.\u001b[39;49m\u001b[43mto_dict\u001b[49m\u001b[43m(\u001b[49m\u001b[38;5;241;43m*\u001b[39;49m\u001b[43margs\u001b[49m\u001b[43m,\u001b[49m\u001b[43m \u001b[49m\u001b[38;5;241;43m*\u001b[39;49m\u001b[38;5;241;43m*\u001b[39;49m\u001b[43mkwargs\u001b[49m\u001b[43m)\u001b[49m\n",
      "File \u001b[0;32m/shared-libs/python3.9/py/lib/python3.9/site-packages/altair/vegalite/v4/api.py:393\u001b[0m, in \u001b[0;36mTopLevelMixin.to_dict\u001b[0;34m(self, *args, **kwargs)\u001b[0m\n\u001b[1;32m    391\u001b[0m \u001b[38;5;28;01mif\u001b[39;00m dct \u001b[38;5;129;01mis\u001b[39;00m \u001b[38;5;28;01mNone\u001b[39;00m:\n\u001b[1;32m    392\u001b[0m     kwargs[\u001b[38;5;124m\"\u001b[39m\u001b[38;5;124mvalidate\u001b[39m\u001b[38;5;124m\"\u001b[39m] \u001b[38;5;241m=\u001b[39m \u001b[38;5;124m\"\u001b[39m\u001b[38;5;124mdeep\u001b[39m\u001b[38;5;124m\"\u001b[39m\n\u001b[0;32m--> 393\u001b[0m     dct \u001b[38;5;241m=\u001b[39m \u001b[38;5;28;43msuper\u001b[39;49m\u001b[43m(\u001b[49m\u001b[43mTopLevelMixin\u001b[49m\u001b[43m,\u001b[49m\u001b[43m \u001b[49m\u001b[43mcopy\u001b[49m\u001b[43m)\u001b[49m\u001b[38;5;241;43m.\u001b[39;49m\u001b[43mto_dict\u001b[49m\u001b[43m(\u001b[49m\u001b[38;5;241;43m*\u001b[39;49m\u001b[43margs\u001b[49m\u001b[43m,\u001b[49m\u001b[43m \u001b[49m\u001b[38;5;241;43m*\u001b[39;49m\u001b[38;5;241;43m*\u001b[39;49m\u001b[43mkwargs\u001b[49m\u001b[43m)\u001b[49m\n\u001b[1;32m    395\u001b[0m \u001b[38;5;66;03m# TODO: following entries are added after validation. Should they be validated?\u001b[39;00m\n\u001b[1;32m    396\u001b[0m \u001b[38;5;28;01mif\u001b[39;00m is_top_level:\n\u001b[1;32m    397\u001b[0m     \u001b[38;5;66;03m# since this is top-level we add $schema if it's missing\u001b[39;00m\n",
      "File \u001b[0;32m/shared-libs/python3.9/py/lib/python3.9/site-packages/altair/utils/schemapi.py:360\u001b[0m, in \u001b[0;36mSchemaBase.to_dict\u001b[0;34m(self, validate, ignore, context)\u001b[0m\n\u001b[1;32m    358\u001b[0m         \u001b[38;5;28mself\u001b[39m\u001b[38;5;241m.\u001b[39mvalidate(result)\n\u001b[1;32m    359\u001b[0m     \u001b[38;5;28;01mexcept\u001b[39;00m jsonschema\u001b[38;5;241m.\u001b[39mValidationError \u001b[38;5;28;01mas\u001b[39;00m err:\n\u001b[0;32m--> 360\u001b[0m         \u001b[38;5;28;01mraise\u001b[39;00m SchemaValidationError(\u001b[38;5;28mself\u001b[39m, err)\n\u001b[1;32m    361\u001b[0m \u001b[38;5;28;01mreturn\u001b[39;00m result\n",
      "\u001b[0;31mSchemaValidationError\u001b[0m: Invalid specification\n\n        altair.vegalite.v4.api.Chart, validating 'required'\n\n        'mark' is a required property\n        "
     ]
    },
    {
     "data": {
      "text/plain": [
       "alt.Chart(...)"
      ]
     },
     "execution_count": 9,
     "metadata": {},
     "output_type": "execute_result"
    }
   ],
   "source": [
    "base"
   ]
  },
  {
   "cell_type": "markdown",
   "metadata": {
    "cell_id": "c18eafe09235483a8d930bd299099ff4",
    "deepnote_cell_type": "markdown"
   },
   "source": [
    "Now we can layer these three charts on top of each other.\n"
   ]
  },
  {
   "cell_type": "code",
   "execution_count": null,
   "metadata": {
    "cell_id": "69a37bf090334db2b2935340982cc5e4",
    "deepnote_cell_type": "code",
    "deepnote_to_be_reexecuted": false,
    "execution_millis": 10,
    "execution_start": 1699305261797,
    "source_hash": null
   },
   "outputs": [
    {
     "data": {
      "text/html": [
       "\n",
       "<div id=\"altair-viz-a0c3d42a554b424784c0603b6d7ef02f\"></div>\n",
       "<script type=\"text/javascript\">\n",
       "  var VEGA_DEBUG = (typeof VEGA_DEBUG == \"undefined\") ? {} : VEGA_DEBUG;\n",
       "  (function(spec, embedOpt){\n",
       "    let outputDiv = document.currentScript.previousElementSibling;\n",
       "    if (outputDiv.id !== \"altair-viz-a0c3d42a554b424784c0603b6d7ef02f\") {\n",
       "      outputDiv = document.getElementById(\"altair-viz-a0c3d42a554b424784c0603b6d7ef02f\");\n",
       "    }\n",
       "    const paths = {\n",
       "      \"vega\": \"https://cdn.jsdelivr.net/npm//vega@5?noext\",\n",
       "      \"vega-lib\": \"https://cdn.jsdelivr.net/npm//vega-lib?noext\",\n",
       "      \"vega-lite\": \"https://cdn.jsdelivr.net/npm//vega-lite@4.17.0?noext\",\n",
       "      \"vega-embed\": \"https://cdn.jsdelivr.net/npm//vega-embed@6?noext\",\n",
       "    };\n",
       "\n",
       "    function maybeLoadScript(lib, version) {\n",
       "      var key = `${lib.replace(\"-\", \"\")}_version`;\n",
       "      return (VEGA_DEBUG[key] == version) ?\n",
       "        Promise.resolve(paths[lib]) :\n",
       "        new Promise(function(resolve, reject) {\n",
       "          var s = document.createElement('script');\n",
       "          document.getElementsByTagName(\"head\")[0].appendChild(s);\n",
       "          s.async = true;\n",
       "          s.onload = () => {\n",
       "            VEGA_DEBUG[key] = version;\n",
       "            return resolve(paths[lib]);\n",
       "          };\n",
       "          s.onerror = () => reject(`Error loading script: ${paths[lib]}`);\n",
       "          s.src = paths[lib];\n",
       "        });\n",
       "    }\n",
       "\n",
       "    function showError(err) {\n",
       "      outputDiv.innerHTML = `<div class=\"error\" style=\"color:red;\">${err}</div>`;\n",
       "      throw err;\n",
       "    }\n",
       "\n",
       "    function displayChart(vegaEmbed) {\n",
       "      vegaEmbed(outputDiv, spec, embedOpt)\n",
       "        .catch(err => showError(`Javascript Error: ${err.message}<br>This usually means there's a typo in your chart specification. See the javascript console for the full traceback.`));\n",
       "    }\n",
       "\n",
       "    if(typeof define === \"function\" && define.amd) {\n",
       "      requirejs.config({paths});\n",
       "      require([\"vega-embed\"], displayChart, err => showError(`Error loading script: ${err.message}`));\n",
       "    } else {\n",
       "      maybeLoadScript(\"vega\", \"5\")\n",
       "        .then(() => maybeLoadScript(\"vega-lite\", \"4.17.0\"))\n",
       "        .then(() => maybeLoadScript(\"vega-embed\", \"6\"))\n",
       "        .catch(showError)\n",
       "        .then(() => displayChart(vegaEmbed));\n",
       "    }\n",
       "  })({\"config\": {\"view\": {\"continuousWidth\": 400, \"continuousHeight\": 300}}, \"layer\": [{\"mark\": {\"type\": \"circle\", \"size\": 150}, \"encoding\": {\"x\": {\"field\": \"x\", \"type\": \"quantitative\"}, \"y\": {\"field\": \"y\", \"type\": \"quantitative\"}}}, {\"mark\": {\"type\": \"line\", \"color\": \"red\"}, \"encoding\": {\"x\": {\"field\": \"x\", \"type\": \"quantitative\"}, \"y\": {\"field\": \"lineA\", \"type\": \"quantitative\"}}}, {\"mark\": {\"type\": \"line\", \"color\": \"black\"}, \"encoding\": {\"x\": {\"field\": \"x\", \"type\": \"quantitative\"}, \"y\": {\"field\": \"lineB\", \"type\": \"quantitative\"}}}], \"data\": {\"name\": \"data-e85beb7529ff9a23a83e49d3894e7618\"}, \"$schema\": \"https://vega.github.io/schema/vega-lite/v4.17.0.json\", \"datasets\": {\"data-e85beb7529ff9a23a83e49d3894e7618\": [{\"x\": 0, \"y\": 0, \"lineA\": 0, \"lineB\": -1.4}, {\"x\": 1, \"y\": 2, \"lineA\": 2, \"lineB\": -0.7999999999999999}, {\"x\": 2, \"y\": -10, \"lineA\": 4, \"lineB\": -0.19999999999999996}, {\"x\": 3, \"y\": 6, \"lineA\": 6, \"lineB\": 0.3999999999999999}]}}, {\"mode\": \"vega-lite\"});\n",
       "</script>"
      ],
      "text/plain": [
       "alt.LayerChart(...)"
      ]
     },
     "execution_count": 10,
     "metadata": {},
     "output_type": "execute_result"
    }
   ],
   "source": [
    "c1 = base.mark_circle(size = 150).encode(y = 'y')\n",
    "c2 = base.mark_line(color='red').encode(y = \"lineA\")\n",
    "c3 = base.mark_line(color='black').encode(y = \"lineB\")\n",
    "c1 + c2 + c3"
   ]
  },
  {
   "cell_type": "markdown",
   "metadata": {
    "cell_id": "6f51d00926f446298979ca6c70a553da",
    "deepnote_cell_type": "markdown"
   },
   "source": [
    "* Which line fits the data better?"
   ]
  },
  {
   "cell_type": "markdown",
   "metadata": {
    "cell_id": "80f1d48a4b6d4dce8833199abface2b3",
    "deepnote_cell_type": "markdown"
   },
   "source": [
    "There's no single correct answer to this, as we will see, it depends what \"performance measure\" we are using."
   ]
  },
  {
   "cell_type": "markdown",
   "metadata": {
    "cell_id": "7ce2474ee68048558f572d675debe045",
    "deepnote_cell_type": "markdown"
   },
   "source": [
    "* Using scikit-learn, find the line of best fit for this data.  How does it compare to the above lines?"
   ]
  },
  {
   "cell_type": "markdown",
   "metadata": {
    "cell_id": "4e4f79665f194d0096e1fec2efbb7128",
    "deepnote_cell_type": "markdown"
   },
   "source": [
    "Here we return to the routine we used several times last week: Import, instantiate, fit.\n",
    "\n",
    "We need an instance of LinearRegression to:\n",
    "1. Store the specific model data (like coefficients) after fitting it to your data.\n",
    "2. Use the methods that belong to LinearRegression (like fit and predict) on that specific model data.\n",
    "\n",
    "Here we fit it to the data in the \"y\" column.  It wouldn't make much sense to fit it to the \"lineA\" or \"lineB\" data, because that data already lies on a line, and we already know the equation.  Linear regression is really only interesting when the data does not perfectly lie on a line.\n"
   ]
  },
  {
   "cell_type": "code",
   "execution_count": null,
   "metadata": {
    "cell_id": "7e30b8afd8474d9992644b54fc8d7147",
    "deepnote_cell_type": "code",
    "deepnote_to_be_reexecuted": false,
    "execution_millis": 1515,
    "execution_start": 1699305442028,
    "source_hash": null
   },
   "outputs": [
    {
     "data": {
      "text/html": [
       "<style>#sk-container-id-1 {color: black;background-color: white;}#sk-container-id-1 pre{padding: 0;}#sk-container-id-1 div.sk-toggleable {background-color: white;}#sk-container-id-1 label.sk-toggleable__label {cursor: pointer;display: block;width: 100%;margin-bottom: 0;padding: 0.3em;box-sizing: border-box;text-align: center;}#sk-container-id-1 label.sk-toggleable__label-arrow:before {content: \"▸\";float: left;margin-right: 0.25em;color: #696969;}#sk-container-id-1 label.sk-toggleable__label-arrow:hover:before {color: black;}#sk-container-id-1 div.sk-estimator:hover label.sk-toggleable__label-arrow:before {color: black;}#sk-container-id-1 div.sk-toggleable__content {max-height: 0;max-width: 0;overflow: hidden;text-align: left;background-color: #f0f8ff;}#sk-container-id-1 div.sk-toggleable__content pre {margin: 0.2em;color: black;border-radius: 0.25em;background-color: #f0f8ff;}#sk-container-id-1 input.sk-toggleable__control:checked~div.sk-toggleable__content {max-height: 200px;max-width: 100%;overflow: auto;}#sk-container-id-1 input.sk-toggleable__control:checked~label.sk-toggleable__label-arrow:before {content: \"▾\";}#sk-container-id-1 div.sk-estimator input.sk-toggleable__control:checked~label.sk-toggleable__label {background-color: #d4ebff;}#sk-container-id-1 div.sk-label input.sk-toggleable__control:checked~label.sk-toggleable__label {background-color: #d4ebff;}#sk-container-id-1 input.sk-hidden--visually {border: 0;clip: rect(1px 1px 1px 1px);clip: rect(1px, 1px, 1px, 1px);height: 1px;margin: -1px;overflow: hidden;padding: 0;position: absolute;width: 1px;}#sk-container-id-1 div.sk-estimator {font-family: monospace;background-color: #f0f8ff;border: 1px dotted black;border-radius: 0.25em;box-sizing: border-box;margin-bottom: 0.5em;}#sk-container-id-1 div.sk-estimator:hover {background-color: #d4ebff;}#sk-container-id-1 div.sk-parallel-item::after {content: \"\";width: 100%;border-bottom: 1px solid gray;flex-grow: 1;}#sk-container-id-1 div.sk-label:hover label.sk-toggleable__label {background-color: #d4ebff;}#sk-container-id-1 div.sk-serial::before {content: \"\";position: absolute;border-left: 1px solid gray;box-sizing: border-box;top: 0;bottom: 0;left: 50%;z-index: 0;}#sk-container-id-1 div.sk-serial {display: flex;flex-direction: column;align-items: center;background-color: white;padding-right: 0.2em;padding-left: 0.2em;position: relative;}#sk-container-id-1 div.sk-item {position: relative;z-index: 1;}#sk-container-id-1 div.sk-parallel {display: flex;align-items: stretch;justify-content: center;background-color: white;position: relative;}#sk-container-id-1 div.sk-item::before, #sk-container-id-1 div.sk-parallel-item::before {content: \"\";position: absolute;border-left: 1px solid gray;box-sizing: border-box;top: 0;bottom: 0;left: 50%;z-index: -1;}#sk-container-id-1 div.sk-parallel-item {display: flex;flex-direction: column;z-index: 1;position: relative;background-color: white;}#sk-container-id-1 div.sk-parallel-item:first-child::after {align-self: flex-end;width: 50%;}#sk-container-id-1 div.sk-parallel-item:last-child::after {align-self: flex-start;width: 50%;}#sk-container-id-1 div.sk-parallel-item:only-child::after {width: 0;}#sk-container-id-1 div.sk-dashed-wrapped {border: 1px dashed gray;margin: 0 0.4em 0.5em 0.4em;box-sizing: border-box;padding-bottom: 0.4em;background-color: white;}#sk-container-id-1 div.sk-label label {font-family: monospace;font-weight: bold;display: inline-block;line-height: 1.2em;}#sk-container-id-1 div.sk-label-container {text-align: center;}#sk-container-id-1 div.sk-container {/* jupyter's `normalize.less` sets `[hidden] { display: none; }` but bootstrap.min.css set `[hidden] { display: none !important; }` so we also need the `!important` here to be able to override the default hidden behavior on the sphinx rendered scikit-learn.org. See: https://github.com/scikit-learn/scikit-learn/issues/21755 */display: inline-block !important;position: relative;}#sk-container-id-1 div.sk-text-repr-fallback {display: none;}</style><div id=\"sk-container-id-1\" class=\"sk-top-container\"><div class=\"sk-text-repr-fallback\"><pre>LinearRegression()</pre><b>In a Jupyter environment, please rerun this cell to show the HTML representation or trust the notebook. <br />On GitHub, the HTML representation is unable to render, please try loading this page with nbviewer.org.</b></div><div class=\"sk-container\" hidden><div class=\"sk-item\"><div class=\"sk-estimator sk-toggleable\"><input class=\"sk-toggleable__control sk-hidden--visually\" id=\"sk-estimator-id-1\" type=\"checkbox\" checked><label for=\"sk-estimator-id-1\" class=\"sk-toggleable__label sk-toggleable__label-arrow\">LinearRegression</label><div class=\"sk-toggleable__content\"><pre>LinearRegression()</pre></div></div></div></div></div>"
      ],
      "text/plain": [
       "LinearRegression()"
      ]
     },
     "execution_count": 11,
     "metadata": {},
     "output_type": "execute_result"
    }
   ],
   "source": [
    "from sklearn.linear_model import LinearRegression\n",
    "reg = LinearRegression()\n",
    "reg.fit(df[[\"x\"]], df[\"y\"])"
   ]
  },
  {
   "cell_type": "markdown",
   "metadata": {
    "cell_id": "65a724d11d3b4d6dbfd0a9dcdb968dc8",
    "deepnote_cell_type": "markdown"
   },
   "source": [
    "Here is the coefficient of the line of \"best\" fit to this data."
   ]
  },
  {
   "cell_type": "code",
   "execution_count": null,
   "metadata": {
    "cell_id": "6e4e46f0eaf14c47bde16867a0e3eede",
    "deepnote_cell_type": "code",
    "deepnote_to_be_reexecuted": false,
    "execution_millis": 11,
    "execution_start": 1699305462790,
    "source_hash": null
   },
   "outputs": [
    {
     "data": {
      "text/plain": [
       "array([0.6])"
      ]
     },
     "execution_count": 12,
     "metadata": {},
     "output_type": "execute_result"
    }
   ],
   "source": [
    "reg.coef_"
   ]
  },
  {
   "cell_type": "markdown",
   "metadata": {
    "cell_id": "83465c06158649279f370b855ae72643",
    "deepnote_cell_type": "markdown"
   },
   "source": [
    "Here is the y-intercept."
   ]
  },
  {
   "cell_type": "code",
   "execution_count": null,
   "metadata": {
    "cell_id": "73d2924c135e4c8f8e597d5c19c03780",
    "deepnote_cell_type": "code",
    "deepnote_to_be_reexecuted": false,
    "execution_millis": 13,
    "execution_start": 1699305472567,
    "source_hash": null
   },
   "outputs": [
    {
     "data": {
      "text/plain": [
       "-1.4"
      ]
     },
     "execution_count": 13,
     "metadata": {},
     "output_type": "execute_result"
    }
   ],
   "source": [
    "reg.intercept_"
   ]
  },
  {
   "cell_type": "markdown",
   "metadata": {
    "cell_id": "0b1a7d50bafd4b71a9c547ddf4042aab",
    "deepnote_cell_type": "markdown"
   },
   "source": [
    "Notice that this describes exactly the black line above.  So from the point of view of scikit-learn's linear regression, the black line (Line B) fits the data better than the red line, but also better than every other possible line."
   ]
  },
  {
   "cell_type": "markdown",
   "metadata": {
    "cell_id": "1e7664ff6198465a81e4217712329d70",
    "deepnote_cell_type": "markdown"
   },
   "source": [
    "* Import the `mean_squared_error` function from `sklearn.metrics`.  Which of our lines fits the data better according to this metric?"
   ]
  },
  {
   "cell_type": "code",
   "execution_count": null,
   "metadata": {
    "cell_id": "9f6f0d815b324832995d376e522a5b02",
    "deepnote_cell_type": "code",
    "deepnote_to_be_reexecuted": false,
    "execution_millis": 7,
    "execution_start": 1699305976993,
    "source_hash": null
   },
   "outputs": [],
   "source": [
    "from sklearn.metrics import mean_squared_error"
   ]
  },
  {
   "cell_type": "markdown",
   "metadata": {
    "cell_id": "f21589bc23aa4617ad101474e48ad6af",
    "deepnote_cell_type": "markdown"
   },
   "source": [
    "Here is an example of computing the mean squared error (MSE) between the true data and Line A.\n",
    "\n",
    "Important: when computing errors (or loss functions), a smaller number is better."
   ]
  },
  {
   "cell_type": "code",
   "execution_count": null,
   "metadata": {
    "cell_id": "05fb608999e341ca9c5b83882e83ee0d",
    "deepnote_cell_type": "code",
    "deepnote_to_be_reexecuted": false,
    "execution_millis": 16,
    "execution_start": 1699306015599,
    "source_hash": null
   },
   "outputs": [
    {
     "data": {
      "text/plain": [
       "49.0"
      ]
     },
     "execution_count": 20,
     "metadata": {},
     "output_type": "execute_result"
    }
   ],
   "source": [
    "mean_squared_error(df['y'], df[\"lineA\"])"
   ]
  },
  {
   "cell_type": "markdown",
   "metadata": {
    "cell_id": "1fd322d37ea54798a691cd2a13271efa",
    "deepnote_cell_type": "markdown"
   },
   "source": [
    "Here is the same computation with Line B.  Because the Line B value is smaller, from the point of view of Mean Squared Error, Line B fits the data better than Line A.\n",
    "\n",
    "When scikit-learn performs linear regression, it is seeking the line that minimizes the mean squared error."
   ]
  },
  {
   "cell_type": "code",
   "execution_count": null,
   "metadata": {
    "cell_id": "d119d69c0b8e4cd5bf2d2e9da00aaff3",
    "deepnote_cell_type": "code",
    "deepnote_to_be_reexecuted": false,
    "execution_millis": 11,
    "execution_start": 1699306024968,
    "source_hash": null
   },
   "outputs": [
    {
     "data": {
      "text/plain": [
       "34.300000000000004"
      ]
     },
     "execution_count": 21,
     "metadata": {},
     "output_type": "execute_result"
    }
   ],
   "source": [
    "mean_squared_error(df['y'], df[\"lineB\"])"
   ]
  },
  {
   "cell_type": "markdown",
   "metadata": {
    "cell_id": "32c788ac8c5d45139ec90b52e2824e77",
    "deepnote_cell_type": "markdown"
   },
   "source": [
    "The best hypothetical error is `0`, but there is no line that achieves a mean squared error of `0` for this data (because no line passes through all four data points)."
   ]
  },
  {
   "cell_type": "markdown",
   "metadata": {
    "cell_id": "ad524cc693b84275bd53151123e61589",
    "deepnote_cell_type": "markdown"
   },
   "source": [
    "* Import the `mean_absolute_error` function from `sklearn.metrics`.  Which of our lines fits the data better according to this metric?"
   ]
  },
  {
   "cell_type": "code",
   "execution_count": null,
   "metadata": {
    "cell_id": "845efc3f1efb4a70b07e155884a14632",
    "deepnote_cell_type": "code",
    "deepnote_to_be_reexecuted": false,
    "execution_millis": 12,
    "execution_start": 1699306198202,
    "source_hash": null
   },
   "outputs": [
    {
     "name": "stdout",
     "output_type": "stream",
     "text": [
      "3.5\n",
      "4.9\n"
     ]
    }
   ],
   "source": [
    "from sklearn.metrics import mean_absolute_error\n",
    "print(mean_absolute_error(df['y'], df[\"lineA\"]))\n",
    "print(mean_absolute_error(df['y'], df[\"lineB\"]))"
   ]
  },
  {
   "cell_type": "markdown",
   "metadata": {
    "cell_id": "aaa86f39e2be4d708a5ddb5254b29445",
    "deepnote_cell_type": "markdown"
   },
   "source": [
    "There is no *correct* answer to which line fits the data better: it depends what performance measure is used.\n",
    "\n",
    "Summary: \n",
    "\n",
    "Line B is better (actually the best possible) wrt mean squared error\n",
    "\n",
    "Line A is better with respect to mean absolute error.\n",
    "\n",
    "Different performance measures (different loss functions) will lead to different lines of \"best\" fit."
   ]
  },
  {
   "cell_type": "markdown",
   "metadata": {
    "cell_id": "da714d5da640414abfbe625d7e5a3886",
    "deepnote_cell_type": "markdown"
   },
   "source": [
    "## More on polynomial regression"
   ]
  },
  {
   "cell_type": "markdown",
   "metadata": {
    "cell_id": "913d649080bc4b84abcc3980da9c0595",
    "deepnote_cell_type": "markdown"
   },
   "source": [
    "### Polynomial features"
   ]
  },
  {
   "cell_type": "markdown",
   "metadata": {
    "cell_id": "d0ced501f05b48ef831cf9439e942177",
    "deepnote_cell_type": "markdown"
   },
   "source": [
    "We saw how to perform polynomial regression \"by hand\" last week.  The process is much easier if we take advantage of some additional functionality in scikit-learn."
   ]
  },
  {
   "cell_type": "markdown",
   "metadata": {
    "cell_id": "d01cfbd9d96348eb892cb482133ef60a",
    "deepnote_cell_type": "markdown"
   },
   "source": [
    "* Demonstrate the `PolynomialFeatures` class from `sklearn.preprocessing` by evaluating it on the \"x\" column in `df`.  Use a `degree` value of `3`."
   ]
  },
  {
   "cell_type": "code",
   "execution_count": null,
   "metadata": {
    "cell_id": "b40a7db29dae4ed8b19eed7d68495eb6",
    "deepnote_cell_type": "code",
    "deepnote_to_be_reexecuted": false,
    "execution_millis": 1266,
    "execution_start": 1699306362748,
    "source_hash": null
   },
   "outputs": [],
   "source": [
    "from sklearn.preprocessing import PolynomialFeatures\n",
    "from sklearn.model_selection import train_test_split\n",
    "import seaborn as sns\n",
    "df = sns.load_dataset(\"mpg\").dropna(axis=0).copy()"
   ]
  },
  {
   "cell_type": "code",
   "execution_count": null,
   "metadata": {
    "cell_id": "295b10162e6d44f984bcf70236202d3c",
    "deepnote_cell_type": "code",
    "deepnote_to_be_reexecuted": false,
    "execution_millis": 13,
    "execution_start": 1699306600938,
    "source_hash": null
   },
   "outputs": [
    {
     "name": "stdout",
     "output_type": "stream",
     "text": [
      "Help on method fit_transform in module sklearn.base:\n",
      "\n",
      "fit_transform(X, y=None, **fit_params) method of sklearn.preprocessing._polynomial.PolynomialFeatures instance\n",
      "    Fit to data, then transform it.\n",
      "    \n",
      "    Fits transformer to `X` and `y` with optional parameters `fit_params`\n",
      "    and returns a transformed version of `X`.\n",
      "    \n",
      "    Parameters\n",
      "    ----------\n",
      "    X : array-like of shape (n_samples, n_features)\n",
      "        Input samples.\n",
      "    \n",
      "    y :  array-like of shape (n_samples,) or (n_samples, n_outputs),                 default=None\n",
      "        Target values (None for unsupervised transformations).\n",
      "    \n",
      "    **fit_params : dict\n",
      "        Additional fit parameters.\n",
      "    \n",
      "    Returns\n",
      "    -------\n",
      "    X_new : ndarray array of shape (n_samples, n_features_new)\n",
      "        Transformed array.\n",
      "\n"
     ]
    }
   ],
   "source": [
    "help(poly.fit_transform)"
   ]
  },
  {
   "cell_type": "code",
   "execution_count": null,
   "metadata": {
    "cell_id": "913bb4b6423b4e7a8f04348f26057f9c",
    "deepnote_cell_type": "code",
    "deepnote_to_be_reexecuted": false,
    "execution_millis": 14,
    "execution_start": 1699306689689,
    "source_hash": null
   },
   "outputs": [
    {
     "data": {
      "application/vnd.deepnote.dataframe.v3+json": {
       "column_count": 4,
       "columns": [
        {
         "dtype": "float64",
         "name": 0,
         "stats": {
          "histogram": [
           {
            "bin_end": 0.6,
            "bin_start": 0.5,
            "count": 0
           },
           {
            "bin_end": 0.7,
            "bin_start": 0.6,
            "count": 0
           },
           {
            "bin_end": 0.8,
            "bin_start": 0.7,
            "count": 0
           },
           {
            "bin_end": 0.9,
            "bin_start": 0.8,
            "count": 0
           },
           {
            "bin_end": 1,
            "bin_start": 0.9,
            "count": 0
           },
           {
            "bin_end": 1.1,
            "bin_start": 1,
            "count": 392
           },
           {
            "bin_end": 1.2000000000000002,
            "bin_start": 1.1,
            "count": 0
           },
           {
            "bin_end": 1.3,
            "bin_start": 1.2000000000000002,
            "count": 0
           },
           {
            "bin_end": 1.4,
            "bin_start": 1.3,
            "count": 0
           },
           {
            "bin_end": 1.5,
            "bin_start": 1.4,
            "count": 0
           }
          ],
          "max": "1.0",
          "min": "1.0",
          "nan_count": 0,
          "unique_count": 1
         }
        },
        {
         "dtype": "float64",
         "name": 1,
         "stats": {
          "histogram": [
           {
            "bin_end": 64.4,
            "bin_start": 46,
            "count": 27
           },
           {
            "bin_end": 82.8,
            "bin_start": 64.4,
            "count": 95
           },
           {
            "bin_end": 101.19999999999999,
            "bin_start": 82.8,
            "count": 120
           },
           {
            "bin_end": 119.6,
            "bin_start": 101.19999999999999,
            "count": 44
           },
           {
            "bin_end": 138,
            "bin_start": 119.6,
            "count": 19
           },
           {
            "bin_end": 156.39999999999998,
            "bin_start": 138,
            "count": 47
           },
           {
            "bin_end": 174.79999999999998,
            "bin_start": 156.39999999999998,
            "count": 13
           },
           {
            "bin_end": 193.2,
            "bin_start": 174.79999999999998,
            "count": 14
           },
           {
            "bin_end": 211.6,
            "bin_start": 193.2,
            "count": 5
           },
           {
            "bin_end": 230,
            "bin_start": 211.6,
            "count": 8
           }
          ],
          "max": "230.0",
          "min": "46.0",
          "nan_count": 0,
          "unique_count": 93
         }
        },
        {
         "dtype": "float64",
         "name": 2,
         "stats": {
          "histogram": [
           {
            "bin_end": 7194.4,
            "bin_start": 2116,
            "count": 132
           },
           {
            "bin_end": 12272.8,
            "bin_start": 7194.4,
            "count": 144
           },
           {
            "bin_end": 17351.199999999997,
            "bin_start": 12272.8,
            "count": 25
           },
           {
            "bin_end": 22429.6,
            "bin_start": 17351.199999999997,
            "count": 24
           },
           {
            "bin_end": 27508,
            "bin_start": 22429.6,
            "count": 34
           },
           {
            "bin_end": 32586.399999999998,
            "bin_start": 27508,
            "count": 16
           },
           {
            "bin_end": 37664.799999999996,
            "bin_start": 32586.399999999998,
            "count": 4
           },
           {
            "bin_end": 42743.2,
            "bin_start": 37664.799999999996,
            "count": 3
           },
           {
            "bin_end": 47821.6,
            "bin_start": 42743.2,
            "count": 5
           },
           {
            "bin_end": 52900,
            "bin_start": 47821.6,
            "count": 5
           }
          ],
          "max": "52900.0",
          "min": "2116.0",
          "nan_count": 0,
          "unique_count": 93
         }
        },
        {
         "dtype": "float64",
         "name": 3,
         "stats": {
          "histogram": [
           {
            "bin_end": 1304302.4,
            "bin_start": 97336,
            "count": 258
           },
           {
            "bin_end": 2511268.8,
            "bin_start": 1304302.4,
            "count": 46
           },
           {
            "bin_end": 3718235.1999999997,
            "bin_start": 2511268.8,
            "count": 46
           },
           {
            "bin_end": 4925201.6,
            "bin_start": 3718235.1999999997,
            "count": 15
           },
           {
            "bin_end": 6132168,
            "bin_start": 4925201.6,
            "count": 10
           },
           {
            "bin_end": 7339134.399999999,
            "bin_start": 6132168,
            "count": 4
           },
           {
            "bin_end": 8546100.799999999,
            "bin_start": 7339134.399999999,
            "count": 3
           },
           {
            "bin_end": 9753067.2,
            "bin_start": 8546100.799999999,
            "count": 2
           },
           {
            "bin_end": 10960033.6,
            "bin_start": 9753067.2,
            "count": 4
           },
           {
            "bin_end": 12167000,
            "bin_start": 10960033.6,
            "count": 4
           }
          ],
          "max": "12167000.0",
          "min": "97336.0",
          "nan_count": 0,
          "unique_count": 93
         }
        },
        {
         "dtype": "int64",
         "name": "_deepnote_index_column"
        }
       ],
       "row_count": 392,
       "rows": [
        {
         "0": 1,
         "1": 130,
         "2": 16900,
         "3": 2197000,
         "_deepnote_index_column": 0
        },
        {
         "0": 1,
         "1": 165,
         "2": 27225,
         "3": 4492125,
         "_deepnote_index_column": 1
        },
        {
         "0": 1,
         "1": 150,
         "2": 22500,
         "3": 3375000,
         "_deepnote_index_column": 2
        },
        {
         "0": 1,
         "1": 150,
         "2": 22500,
         "3": 3375000,
         "_deepnote_index_column": 3
        },
        {
         "0": 1,
         "1": 140,
         "2": 19600,
         "3": 2744000,
         "_deepnote_index_column": 4
        },
        {
         "0": 1,
         "1": 198,
         "2": 39204,
         "3": 7762392,
         "_deepnote_index_column": 5
        },
        {
         "0": 1,
         "1": 220,
         "2": 48400,
         "3": 10648000,
         "_deepnote_index_column": 6
        },
        {
         "0": 1,
         "1": 215,
         "2": 46225,
         "3": 9938375,
         "_deepnote_index_column": 7
        },
        {
         "0": 1,
         "1": 225,
         "2": 50625,
         "3": 11390625,
         "_deepnote_index_column": 8
        },
        {
         "0": 1,
         "1": 190,
         "2": 36100,
         "3": 6859000,
         "_deepnote_index_column": 9
        }
       ]
      },
      "text/html": [
       "<div>\n",
       "<style scoped>\n",
       "    .dataframe tbody tr th:only-of-type {\n",
       "        vertical-align: middle;\n",
       "    }\n",
       "\n",
       "    .dataframe tbody tr th {\n",
       "        vertical-align: top;\n",
       "    }\n",
       "\n",
       "    .dataframe thead th {\n",
       "        text-align: right;\n",
       "    }\n",
       "</style>\n",
       "<table border=\"1\" class=\"dataframe\">\n",
       "  <thead>\n",
       "    <tr style=\"text-align: right;\">\n",
       "      <th></th>\n",
       "      <th>0</th>\n",
       "      <th>1</th>\n",
       "      <th>2</th>\n",
       "      <th>3</th>\n",
       "    </tr>\n",
       "  </thead>\n",
       "  <tbody>\n",
       "    <tr>\n",
       "      <th>0</th>\n",
       "      <td>1.0</td>\n",
       "      <td>130.0</td>\n",
       "      <td>16900.0</td>\n",
       "      <td>2197000.0</td>\n",
       "    </tr>\n",
       "    <tr>\n",
       "      <th>1</th>\n",
       "      <td>1.0</td>\n",
       "      <td>165.0</td>\n",
       "      <td>27225.0</td>\n",
       "      <td>4492125.0</td>\n",
       "    </tr>\n",
       "    <tr>\n",
       "      <th>2</th>\n",
       "      <td>1.0</td>\n",
       "      <td>150.0</td>\n",
       "      <td>22500.0</td>\n",
       "      <td>3375000.0</td>\n",
       "    </tr>\n",
       "    <tr>\n",
       "      <th>3</th>\n",
       "      <td>1.0</td>\n",
       "      <td>150.0</td>\n",
       "      <td>22500.0</td>\n",
       "      <td>3375000.0</td>\n",
       "    </tr>\n",
       "    <tr>\n",
       "      <th>4</th>\n",
       "      <td>1.0</td>\n",
       "      <td>140.0</td>\n",
       "      <td>19600.0</td>\n",
       "      <td>2744000.0</td>\n",
       "    </tr>\n",
       "    <tr>\n",
       "      <th>...</th>\n",
       "      <td>...</td>\n",
       "      <td>...</td>\n",
       "      <td>...</td>\n",
       "      <td>...</td>\n",
       "    </tr>\n",
       "    <tr>\n",
       "      <th>387</th>\n",
       "      <td>1.0</td>\n",
       "      <td>86.0</td>\n",
       "      <td>7396.0</td>\n",
       "      <td>636056.0</td>\n",
       "    </tr>\n",
       "    <tr>\n",
       "      <th>388</th>\n",
       "      <td>1.0</td>\n",
       "      <td>52.0</td>\n",
       "      <td>2704.0</td>\n",
       "      <td>140608.0</td>\n",
       "    </tr>\n",
       "    <tr>\n",
       "      <th>389</th>\n",
       "      <td>1.0</td>\n",
       "      <td>84.0</td>\n",
       "      <td>7056.0</td>\n",
       "      <td>592704.0</td>\n",
       "    </tr>\n",
       "    <tr>\n",
       "      <th>390</th>\n",
       "      <td>1.0</td>\n",
       "      <td>79.0</td>\n",
       "      <td>6241.0</td>\n",
       "      <td>493039.0</td>\n",
       "    </tr>\n",
       "    <tr>\n",
       "      <th>391</th>\n",
       "      <td>1.0</td>\n",
       "      <td>82.0</td>\n",
       "      <td>6724.0</td>\n",
       "      <td>551368.0</td>\n",
       "    </tr>\n",
       "  </tbody>\n",
       "</table>\n",
       "<p>392 rows × 4 columns</p>\n",
       "</div>"
      ],
      "text/plain": [
       "       0      1        2          3\n",
       "0    1.0  130.0  16900.0  2197000.0\n",
       "1    1.0  165.0  27225.0  4492125.0\n",
       "2    1.0  150.0  22500.0  3375000.0\n",
       "3    1.0  150.0  22500.0  3375000.0\n",
       "4    1.0  140.0  19600.0  2744000.0\n",
       "..   ...    ...      ...        ...\n",
       "387  1.0   86.0   7396.0   636056.0\n",
       "388  1.0   52.0   2704.0   140608.0\n",
       "389  1.0   84.0   7056.0   592704.0\n",
       "390  1.0   79.0   6241.0   493039.0\n",
       "391  1.0   82.0   6724.0   551368.0\n",
       "\n",
       "[392 rows x 4 columns]"
      ]
     },
     "execution_count": 29,
     "metadata": {},
     "output_type": "execute_result"
    }
   ],
   "source": [
    "X = df[[\"horsepower\"]]\n",
    "y = df[\"mpg\"]\n",
    "\n",
    "#Create a PolynomialFeatures object with degree=3\n",
    "poly = PolynomialFeatures(degree = 3)\n",
    "#Transform 'horsepower' into polynomial features\n",
    "X_poly = poly.fit_transform(X)\n",
    "\n",
    "#To make the result easier to read, put the transformed data into a pandas DataFrame\n",
    "df_ploy = pd.DataFrame(X_poly)\n",
    "df_ploy"
   ]
  },
  {
   "cell_type": "code",
   "execution_count": null,
   "metadata": {
    "cell_id": "46ea27bcb0d6429f87abe9702c62e78b",
    "deepnote_cell_type": "code",
    "deepnote_to_be_reexecuted": false,
    "execution_millis": 10,
    "execution_start": 1699307001473,
    "source_hash": null
   },
   "outputs": [],
   "source": [
    "#Split data into training and testing sets\n",
    "X_train, X_test, y_train, y_test = train_test_split(X_poly, y, test_size=0.1, random_state=42)\n",
    "\n",
    "model = LinearRegression()\n",
    "model.fit(X_train, y_train)\n",
    "\n",
    "#Make predictions using the model on the test set\n",
    "y_pred_test = model.predict(X_test)"
   ]
  },
  {
   "cell_type": "code",
   "execution_count": null,
   "metadata": {
    "cell_id": "4b9064b5f3f0431280cb89f785d3d8ed",
    "deepnote_cell_type": "code",
    "deepnote_to_be_reexecuted": false,
    "execution_millis": 109,
    "execution_start": 1699307110579,
    "source_hash": null
   },
   "outputs": [
    {
     "data": {
      "text/plain": [
       "19.680376038411936"
      ]
     },
     "execution_count": 32,
     "metadata": {},
     "output_type": "execute_result"
    }
   ],
   "source": [
    "#Calculate MSE for the predictions\n",
    "mean_squared_error(y_test, y_pred_test)"
   ]
  },
  {
   "cell_type": "code",
   "execution_count": null,
   "metadata": {
    "cell_id": "ed48a89e2dcb42b98806e55a632f9015",
    "deepnote_cell_type": "code",
    "deepnote_to_be_reexecuted": false,
    "execution_millis": 14,
    "execution_start": 1699307273215,
    "source_hash": null
   },
   "outputs": [
    {
     "data": {
      "text/plain": [
       "63.46111330910941"
      ]
     },
     "execution_count": 33,
     "metadata": {},
     "output_type": "execute_result"
    }
   ],
   "source": [
    "model.intercept_"
   ]
  },
  {
   "cell_type": "markdown",
   "metadata": {
    "cell_id": "d659e2d142634f479860d231b28c746f",
    "deepnote_cell_type": "markdown"
   },
   "source": [
    "Here are the coefficients. Based on what we were saying with the taxis dataset (“Oh look, the number of passengers is not very meaningful to the duration of the taxis ride, because the coefficient is pretty small”), you might think the 'housepower'$^2$ and 'housepower'$^3$ columns are not very meaningful here, because their coefficients are so small. But look at the values in these columns, they are huge (often over a million in the 'housepower'$^3$ column), so even with these small coefficients, there is still a meaningful impact of these columns."
   ]
  },
  {
   "cell_type": "code",
   "execution_count": null,
   "metadata": {
    "cell_id": "b0dfafb8230b4dd5aa7c016b2c9b70d4",
    "deepnote_cell_type": "code",
    "deepnote_to_be_reexecuted": false,
    "execution_millis": 10,
    "execution_start": 1699307280301,
    "source_hash": null
   },
   "outputs": [
    {
     "data": {
      "text/plain": [
       "array([ 0.00000000e+00, -6.31876607e-01,  2.52981240e-03, -3.15086840e-06])"
      ]
     },
     "execution_count": 34,
     "metadata": {},
     "output_type": "execute_result"
    }
   ],
   "source": [
    "model.coef_"
   ]
  },
  {
   "cell_type": "markdown",
   "metadata": {
    "created_in_deepnote_cell": true,
    "deepnote_cell_type": "markdown"
   },
   "source": [
    "<a style='text-decoration:none;line-height:16px;display:flex;color:#5B5B62;padding:10px;justify-content:end;' href='https://deepnote.com?utm_source=created-in-deepnote-cell&projectId=3f8c83aa-4630-4165-a04e-98e177d1a371' target=\"_blank\">\n",
    "<img alt='Created in deepnote.com' style='display:inline;max-height:16px;margin:0px;margin-right:7.5px;' src='data:image/svg+xml;base64,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' > </img>\n",
    "Created in <span style='font-weight:600;margin-left:4px;'>Deepnote</span></a>"
   ]
  }
 ],
 "metadata": {
  "deepnote": {},
  "deepnote_execution_queue": [],
  "deepnote_notebook_id": "bcb83eea06a84dbf86df966e01d032e2",
  "deepnote_persisted_session": {
   "createdAt": "2023-11-06T22:16:38.715Z"
  },
  "kernelspec": {
   "display_name": "Python 3 (ipykernel)",
   "language": "python",
   "name": "python3"
  },
  "language_info": {
   "codemirror_mode": {
    "name": "ipython",
    "version": 3
   },
   "file_extension": ".py",
   "mimetype": "text/x-python",
   "name": "python",
   "nbconvert_exporter": "python",
   "pygments_lexer": "ipython3",
   "version": "3.9.18"
  }
 },
 "nbformat": 4,
 "nbformat_minor": 4
}
