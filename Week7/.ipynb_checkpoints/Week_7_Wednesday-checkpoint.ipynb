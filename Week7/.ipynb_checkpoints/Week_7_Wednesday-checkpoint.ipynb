{
 "cells": [
  {
   "cell_type": "markdown",
   "metadata": {
    "cell_id": "9bb8246dd18a47dd88a339cb0826e8bb",
    "deepnote_cell_height": 120.390625,
    "deepnote_cell_type": "markdown",
    "tags": []
   },
   "source": [
    "# Week 7 Wednesday\n"
   ]
  },
  {
   "cell_type": "markdown",
   "metadata": {
    "cell_id": "7b97b3fab082446bb3b4dce8656b0841",
    "deepnote_cell_height": 271.78125,
    "deepnote_cell_type": "markdown",
    "owner_user_id": "02be19f8-8497-4212-b8d0-46ca9f1d48b9",
    "tags": []
   },
   "source": [
    "## Announcements\n",
    "\n",
    "* Swap Thursday discussion and Friday lecture\n",
    "* HW6 due Wednesday\n",
    "* HW7 has been posted\n",
    "\n",
    "## Plan\n",
    "* Multi-class Classification"
   ]
  },
  {
   "cell_type": "code",
   "execution_count": null,
   "metadata": {
    "cell_id": "64a2ea7955c5482db1ca0db20f46e4a6",
    "deepnote_cell_type": "code",
    "deepnote_to_be_reexecuted": false,
    "execution_millis": 5,
    "execution_start": 1700082077298,
    "source_hash": null,
    "tags": []
   },
   "outputs": [],
   "source": [
    "import pandas as pd\n",
    "import numpy as np\n",
    "import altair as alt\n",
    "import seaborn as sns\n",
    "df = sns.load_dataset(\"penguins\").dropna(axis=0)"
   ]
  },
  {
   "cell_type": "markdown",
   "metadata": {
    "cell_id": "fa394ce31d5b4ec7897bd2bf987a5169",
    "deepnote_cell_height": 228.984375,
    "deepnote_cell_type": "markdown",
    "tags": []
   },
   "source": [
    "## Recap of Monday\n",
    "\n",
    "On Monday we used Logistic Regression with the flipper length and bill length columns in the penguins dataset to predict if a penguin is in the Chinstrap species."
   ]
  },
  {
   "cell_type": "code",
   "execution_count": null,
   "metadata": {
    "cell_id": "9c8a3a878332429aa4db5415500afd43",
    "deepnote_cell_type": "code",
    "deepnote_to_be_reexecuted": false,
    "execution_millis": 12,
    "execution_start": 1700082090382,
    "source_hash": null
   },
   "outputs": [],
   "source": [
    "df = sns.load_dataset(\"penguins\").dropna(axis=0).copy()\n",
    "df[\"isChinstrap\"] = (df[\"species\"] == \"Chinstrap\")\n",
    "cols = [\"flipper_length_mm\", \"bill_length_mm\"]"
   ]
  },
  {
   "cell_type": "code",
   "execution_count": null,
   "metadata": {
    "cell_id": "8858a0d850944181885542dbb3ea8d32",
    "deepnote_cell_type": "code",
    "deepnote_to_be_reexecuted": false,
    "execution_millis": 7,
    "execution_start": 1700082484394,
    "source_hash": null
   },
   "outputs": [],
   "source": [
    "from sklearn.linear_model import LogisticRegression\n",
    "clf = LogisticRegression()\n",
    "clf.fit(df[cols], df[\"isChinstrap\"])\n",
    "df[\"pred\"] = clf.predict(df[cols])"
   ]
  },
  {
   "cell_type": "markdown",
   "metadata": {
    "cell_id": "855ebfcb3ff5448791151d4dcaa77948",
    "deepnote_cell_type": "markdown"
   },
   "source": [
    "## Multi-class Classification\n",
    "\n",
    "### Model \n",
    "Let $\\tilde{x}\\in\\mathbb{R}^{p+1}$ denotes the augmented row vector (one sample). We approximate the probabilities to take value in $K$ classes as\n",
    "\n",
    "$$\n",
    "f(\\mathbf{x};W) =\n",
    "\\begin{pmatrix}\n",
    "P(y = 1 | \\mathbf{x}; \\mathbf{w}) \\\\\n",
    "P(y = 2 | \\mathbf{x}; \\mathbf{w}) \\\\\n",
    "\\vdots \\\\\n",
    "P(y = K | \\mathbf{x}; \\mathbf{w})\n",
    "\\end{pmatrix}\n",
    "=\n",
    "\\frac{1}{ \\sum_{k=1}^{K}{\\exp\\big(\\tilde{x}\\mathbf{w}_{k}\\big) }}\n",
    "\\begin{pmatrix}\n",
    "\\exp(\\tilde{x}\\mathbf{w}_{1} ) \\\\\n",
    "\\exp(\\tilde{x}\\mathbf{w}_{2} ) \\\\\n",
    "\\vdots \\\\\n",
    "\\exp(\\tilde{x}\\mathbf{w}_{K} ) \\\\\n",
    "\\end{pmatrix}.\n",
    "$$\n",
    "where we have $K$ sets of parameters, $\\mathbf{w}_1, \\mathbf{w}_2, \\dots, \\mathbf{w}_K$, and the sum factor normalizes the results to be a probability.\n",
    "\n",
    "$\\mathbf{W}$ is an $(p+1)\\times K$ matrix containing all $K$ sets of parameters, obtained by concatenating $\\mathbf{w}_1, \\mathbf{w}_2, \\dots, \\mathbf{w}_K$ into columns, so that $\\mathbf{w}_k = (w_{k0}, \\dots, w_{kp})^{\\top}\\in \\mathbb{R}^{p+1}$.\n",
    "\n",
    "$$\n",
    "\\mathbf{w} = \\left(\n",
    "\\begin{array}{cccc}| & | & | & | \\\\\n",
    "\\mathbf{w}_1 & \\mathbf{w}_2 & \\cdots & \\mathbf{w}_K \\\\\n",
    "| & | & | & |\n",
    "\\end{array}\\right),\n",
    "$$\n",
    "and $\\tilde{X}\\mathbf{W}$ is valid and useful in vectorized code.\n",
    "\n",
    "**Another Expression**: Introduce the hidden variable $\\mathbf{z} = (z_{1},...,z_{K})$ and define \n",
    "\n",
    "$$ \\mathbf{z}= \\tilde{\\mathbf{x}} \\mathbf{W}$$\n",
    "or element-wise written as \n",
    "$$z_{k} = \\tilde{\\mathbf{x}} \\mathbf{w_{k}}, k = 1,2,...,K$$\n",
    "\n",
    "Then the **predicted probability distribution** can be denoted as \n",
    "\n",
    "$$f(\\mathbf{x};W) = \\sigma(z)\\in\\mathbb{R}^{k}$$\n",
    "where $\\sigma(\\mathbf{z})$ is called the [soft-max function](https://en.wikipedia.org/wiki/Softmax_function) which is defined as \n",
    "\n",
    "$$ \\sigma (\\mathbf {z} )_{i}={\\frac {e^{z_{i}}}{\\sum _{j=1}^{K}e^{z_{j}}}}{\\text{ for }}i=1,\\dotsc ,K{\\text{ and }}\\mathbf {z} =(z_{1},\\dotsc ,z_{K})\\in \\mathbb {R} ^{K}$$\n",
    "\n",
    "This is a valid probability distribution with $K$ classes because you can check its element-wise sum is one and each component is positive.\n",
    "\n",
    "This can be assumed as the (degenerate) simplest example of neural network that we're going to learn in later lectures, and that's why some people call multi-class logistic regression (also known as **soft-max logistic regression**) as **one-layer neural network**.\n",
    "\n",
    "----\n",
    "\n",
    "### Loss function\n",
    "\n",
    "Define the following indicator function (and again can be derived from MLE):\n",
    "$$\n",
    "1_{\\{y = k\\}} = 1_{\\{k\\}}(y) = \\delta_{yk} = \\begin{cases}\n",
    "1 & \\text{when } y = k,\n",
    "\\\\[5pt]\n",
    "0 & \\text{otherwise}.\n",
    "\\end{cases}\n",
    "$$\n",
    "\n",
    "Loss function is again using the cross entropy:\n",
    "\n",
    "$$\n",
    "\\begin{aligned}\n",
    "L (\\mathbf{W};X,\\mathbf{y})  & = - \\frac{1}{N}\\sum_{i=1}^N \\sum_{k=1}^K\n",
    "\\Bigl\\{ 1_{\\{y^{(i)} = k\\}} \\ln P\\big(y^{(i)}=k | \\mathbf{x}^{(i)} ; \\mathbf{w} \\big) \\Bigr\\}\n",
    "\\\\\n",
    " & = - \\frac{1}{N}\\sum_{i=1}^N \\sum_{k=1}^K\n",
    "\\left\\{1_{\\{y^{(i)} = k\\}} \\ln \\Bigg( \\frac{\\exp(\\tilde{x}^{(i)}\\mathbf{w}_{k})}{\\sum_{m=1}^{K} \n",
    "\\exp\\big(\\tilde{x}^{(i)}\\mathbf{w}_m\\big) }  \\Bigg)\\right\\}.\n",
    "\\end{aligned}\n",
    "$$\n",
    "\n",
    "Notice that for each term in the summation over N (i.e. fix sample i), only one term is non-zero in the sum of K elements due to the indicator function.\n",
    "\n",
    "\n",
    "### Gradient descent\n",
    "After **careful calculation**, the gradient of $L$ with respect the whole $k$-th set of weights is then:\n",
    "\n",
    "$$\n",
    "\\frac{\\partial L }{\\partial \\mathbf{w}_{k}}\n",
    "= \n",
    "\\frac{1}{N}\\sum_{i=1}^N \n",
    "\\left(    \\frac{\\exp(\\tilde{x}^{(i)}\\mathbf{w}_{k})} {\\sum_{m=1}^{K} \n",
    "\\exp(\\tilde{x}^{(i)}\\mathbf{w}_m)} -1_{\\{y^{(i)} = k\\}} \n",
    "\\right)\\tilde{x}^{(i)}\\in\\mathbb{R}^{p+1}.\n",
    "$$\n",
    "\n",
    "In writing the code, it's helpful to make this as the column vector, and stack all the $K$ gradients together as a new matrix $\\mathbf{dW}\\in\\mathbb{R}^{(p+1)\\times K}$. This makes the update of matrix $\\mathbf{W}$ very convenient in gradient descent.\n",
    "\n",
    "\n",
    "### Prediction\n",
    "The largest estimated probability's class as this sample's predicted label.\n",
    "$$\n",
    "\\hat{y} = \\operatorname{arg}\\max_{j} P\\big(y = j| \\mathbf{x}\\big),\n",
    "$$"
   ]
  },
  {
   "cell_type": "markdown",
   "metadata": {
    "cell_id": "d58350db5c3748c0a52848e6fcd31326",
    "deepnote_cell_type": "markdown"
   },
   "source": [
    "* Drop the \"pred\" column from `df` (we will make a new one below) using the `drop` method and a suitable `axis` keyword argument.\n",
    "\n",
    "We are using `axis=1` because it is the column labels that are changing (one of the column labels is being removed). "
   ]
  },
  {
   "cell_type": "code",
   "execution_count": null,
   "metadata": {
    "cell_id": "6894adf62ce54441a3c9c82e34985864",
    "deepnote_cell_type": "code",
    "deepnote_to_be_reexecuted": false,
    "execution_millis": 7,
    "execution_start": 1700082487632,
    "source_hash": null
   },
   "outputs": [],
   "source": [
    "df = df.drop(\"pred\", axis = 1)"
   ]
  },
  {
   "cell_type": "code",
   "execution_count": null,
   "metadata": {
    "cell_id": "49b98e25cc6c46f2a0a5d666b8933059",
    "deepnote_cell_type": "code",
    "deepnote_to_be_reexecuted": false,
    "execution_millis": 72,
    "execution_start": 1700082492763,
    "source_hash": null
   },
   "outputs": [
    {
     "data": {
      "application/vnd.deepnote.dataframe.v3+json": {
       "column_count": 8,
       "columns": [
        {
         "dtype": "object",
         "name": "species",
         "stats": {
          "categories": [
           {
            "count": 146,
            "name": "Adelie"
           },
           {
            "count": 119,
            "name": "Gentoo"
           },
           {
            "count": 68,
            "name": "Chinstrap"
           }
          ],
          "nan_count": 0,
          "unique_count": 3
         }
        },
        {
         "dtype": "object",
         "name": "island",
         "stats": {
          "categories": [
           {
            "count": 163,
            "name": "Biscoe"
           },
           {
            "count": 123,
            "name": "Dream"
           },
           {
            "count": 47,
            "name": "Torgersen"
           }
          ],
          "nan_count": 0,
          "unique_count": 3
         }
        },
        {
         "dtype": "float64",
         "name": "bill_length_mm",
         "stats": {
          "histogram": [
           {
            "bin_end": 34.85,
            "bin_start": 32.1,
            "count": 8
           },
           {
            "bin_end": 37.6,
            "bin_start": 34.85,
            "count": 39
           },
           {
            "bin_end": 40.35,
            "bin_start": 37.6,
            "count": 55
           },
           {
            "bin_end": 43.1,
            "bin_start": 40.35,
            "count": 47
           },
           {
            "bin_end": 45.85,
            "bin_start": 43.1,
            "count": 47
           },
           {
            "bin_end": 48.6,
            "bin_start": 45.85,
            "count": 53
           },
           {
            "bin_end": 51.35,
            "bin_start": 48.6,
            "count": 61
           },
           {
            "bin_end": 54.1,
            "bin_start": 51.35,
            "count": 16
           },
           {
            "bin_end": 56.85,
            "bin_start": 54.1,
            "count": 5
           },
           {
            "bin_end": 59.6,
            "bin_start": 56.85,
            "count": 2
           }
          ],
          "max": "59.6",
          "min": "32.1",
          "nan_count": 0,
          "unique_count": 163
         }
        },
        {
         "dtype": "float64",
         "name": "bill_depth_mm",
         "stats": {
          "histogram": [
           {
            "bin_end": 13.94,
            "bin_start": 13.1,
            "count": 20
           },
           {
            "bin_end": 14.78,
            "bin_start": 13.94,
            "count": 33
           },
           {
            "bin_end": 15.620000000000001,
            "bin_start": 14.78,
            "count": 32
           },
           {
            "bin_end": 16.46,
            "bin_start": 15.620000000000001,
            "count": 33
           },
           {
            "bin_end": 17.3,
            "bin_start": 16.46,
            "count": 43
           },
           {
            "bin_end": 18.14,
            "bin_start": 17.3,
            "count": 53
           },
           {
            "bin_end": 18.98,
            "bin_start": 18.14,
            "count": 55
           },
           {
            "bin_end": 19.82,
            "bin_start": 18.98,
            "count": 39
           },
           {
            "bin_end": 20.66,
            "bin_start": 19.82,
            "count": 15
           },
           {
            "bin_end": 21.5,
            "bin_start": 20.66,
            "count": 10
           }
          ],
          "max": "21.5",
          "min": "13.1",
          "nan_count": 0,
          "unique_count": 79
         }
        },
        {
         "dtype": "float64",
         "name": "flipper_length_mm",
         "stats": {
          "histogram": [
           {
            "bin_end": 177.9,
            "bin_start": 172,
            "count": 3
           },
           {
            "bin_end": 183.8,
            "bin_start": 177.9,
            "count": 20
           },
           {
            "bin_end": 189.7,
            "bin_start": 183.8,
            "count": 51
           },
           {
            "bin_end": 195.6,
            "bin_start": 189.7,
            "count": 77
           },
           {
            "bin_end": 201.5,
            "bin_start": 195.6,
            "count": 44
           },
           {
            "bin_end": 207.4,
            "bin_start": 201.5,
            "count": 15
           },
           {
            "bin_end": 213.3,
            "bin_start": 207.4,
            "count": 42
           },
           {
            "bin_end": 219.2,
            "bin_start": 213.3,
            "count": 38
           },
           {
            "bin_end": 225.1,
            "bin_start": 219.2,
            "count": 28
           },
           {
            "bin_end": 231,
            "bin_start": 225.1,
            "count": 15
           }
          ],
          "max": "231.0",
          "min": "172.0",
          "nan_count": 0,
          "unique_count": 54
         }
        },
        {
         "dtype": "float64",
         "name": "body_mass_g",
         "stats": {
          "histogram": [
           {
            "bin_end": 3060,
            "bin_start": 2700,
            "count": 14
           },
           {
            "bin_end": 3420,
            "bin_start": 3060,
            "count": 42
           },
           {
            "bin_end": 3780,
            "bin_start": 3420,
            "count": 69
           },
           {
            "bin_end": 4140,
            "bin_start": 3780,
            "count": 52
           },
           {
            "bin_end": 4500,
            "bin_start": 4140,
            "count": 41
           },
           {
            "bin_end": 4860,
            "bin_start": 4500,
            "count": 39
           },
           {
            "bin_end": 5220,
            "bin_start": 4860,
            "count": 27
           },
           {
            "bin_end": 5580,
            "bin_start": 5220,
            "count": 27
           },
           {
            "bin_end": 5940,
            "bin_start": 5580,
            "count": 16
           },
           {
            "bin_end": 6300,
            "bin_start": 5940,
            "count": 6
           }
          ],
          "max": "6300.0",
          "min": "2700.0",
          "nan_count": 0,
          "unique_count": 93
         }
        },
        {
         "dtype": "object",
         "name": "sex",
         "stats": {
          "categories": [
           {
            "count": 168,
            "name": "Male"
           },
           {
            "count": 165,
            "name": "Female"
           }
          ],
          "nan_count": 0,
          "unique_count": 2
         }
        },
        {
         "dtype": "bool",
         "name": "isChinstrap",
         "stats": {
          "categories": [
           {
            "count": 265,
            "name": "False"
           },
           {
            "count": 68,
            "name": "True"
           }
          ],
          "nan_count": 0,
          "unique_count": 2
         }
        },
        {
         "dtype": "int64",
         "name": "_deepnote_index_column"
        }
       ],
       "row_count": 333,
       "rows": [
        {
         "_deepnote_index_column": 0,
         "bill_depth_mm": 18.7,
         "bill_length_mm": 39.1,
         "body_mass_g": 3750,
         "flipper_length_mm": 181,
         "isChinstrap": "False",
         "island": "Torgersen",
         "sex": "Male",
         "species": "Adelie"
        },
        {
         "_deepnote_index_column": 1,
         "bill_depth_mm": 17.4,
         "bill_length_mm": 39.5,
         "body_mass_g": 3800,
         "flipper_length_mm": 186,
         "isChinstrap": "False",
         "island": "Torgersen",
         "sex": "Female",
         "species": "Adelie"
        },
        {
         "_deepnote_index_column": 2,
         "bill_depth_mm": 18,
         "bill_length_mm": 40.3,
         "body_mass_g": 3250,
         "flipper_length_mm": 195,
         "isChinstrap": "False",
         "island": "Torgersen",
         "sex": "Female",
         "species": "Adelie"
        },
        {
         "_deepnote_index_column": 4,
         "bill_depth_mm": 19.3,
         "bill_length_mm": 36.7,
         "body_mass_g": 3450,
         "flipper_length_mm": 193,
         "isChinstrap": "False",
         "island": "Torgersen",
         "sex": "Female",
         "species": "Adelie"
        },
        {
         "_deepnote_index_column": 5,
         "bill_depth_mm": 20.6,
         "bill_length_mm": 39.3,
         "body_mass_g": 3650,
         "flipper_length_mm": 190,
         "isChinstrap": "False",
         "island": "Torgersen",
         "sex": "Male",
         "species": "Adelie"
        },
        {
         "_deepnote_index_column": 6,
         "bill_depth_mm": 17.8,
         "bill_length_mm": 38.9,
         "body_mass_g": 3625,
         "flipper_length_mm": 181,
         "isChinstrap": "False",
         "island": "Torgersen",
         "sex": "Female",
         "species": "Adelie"
        },
        {
         "_deepnote_index_column": 7,
         "bill_depth_mm": 19.6,
         "bill_length_mm": 39.2,
         "body_mass_g": 4675,
         "flipper_length_mm": 195,
         "isChinstrap": "False",
         "island": "Torgersen",
         "sex": "Male",
         "species": "Adelie"
        },
        {
         "_deepnote_index_column": 12,
         "bill_depth_mm": 17.6,
         "bill_length_mm": 41.1,
         "body_mass_g": 3200,
         "flipper_length_mm": 182,
         "isChinstrap": "False",
         "island": "Torgersen",
         "sex": "Female",
         "species": "Adelie"
        },
        {
         "_deepnote_index_column": 13,
         "bill_depth_mm": 21.2,
         "bill_length_mm": 38.6,
         "body_mass_g": 3800,
         "flipper_length_mm": 191,
         "isChinstrap": "False",
         "island": "Torgersen",
         "sex": "Male",
         "species": "Adelie"
        },
        {
         "_deepnote_index_column": 14,
         "bill_depth_mm": 21.1,
         "bill_length_mm": 34.6,
         "body_mass_g": 4400,
         "flipper_length_mm": 198,
         "isChinstrap": "False",
         "island": "Torgersen",
         "sex": "Male",
         "species": "Adelie"
        }
       ]
      },
      "text/html": [
       "<div>\n",
       "<style scoped>\n",
       "    .dataframe tbody tr th:only-of-type {\n",
       "        vertical-align: middle;\n",
       "    }\n",
       "\n",
       "    .dataframe tbody tr th {\n",
       "        vertical-align: top;\n",
       "    }\n",
       "\n",
       "    .dataframe thead th {\n",
       "        text-align: right;\n",
       "    }\n",
       "</style>\n",
       "<table border=\"1\" class=\"dataframe\">\n",
       "  <thead>\n",
       "    <tr style=\"text-align: right;\">\n",
       "      <th></th>\n",
       "      <th>species</th>\n",
       "      <th>island</th>\n",
       "      <th>bill_length_mm</th>\n",
       "      <th>bill_depth_mm</th>\n",
       "      <th>flipper_length_mm</th>\n",
       "      <th>body_mass_g</th>\n",
       "      <th>sex</th>\n",
       "      <th>isChinstrap</th>\n",
       "    </tr>\n",
       "  </thead>\n",
       "  <tbody>\n",
       "    <tr>\n",
       "      <th>0</th>\n",
       "      <td>Adelie</td>\n",
       "      <td>Torgersen</td>\n",
       "      <td>39.1</td>\n",
       "      <td>18.7</td>\n",
       "      <td>181.0</td>\n",
       "      <td>3750.0</td>\n",
       "      <td>Male</td>\n",
       "      <td>False</td>\n",
       "    </tr>\n",
       "    <tr>\n",
       "      <th>1</th>\n",
       "      <td>Adelie</td>\n",
       "      <td>Torgersen</td>\n",
       "      <td>39.5</td>\n",
       "      <td>17.4</td>\n",
       "      <td>186.0</td>\n",
       "      <td>3800.0</td>\n",
       "      <td>Female</td>\n",
       "      <td>False</td>\n",
       "    </tr>\n",
       "    <tr>\n",
       "      <th>2</th>\n",
       "      <td>Adelie</td>\n",
       "      <td>Torgersen</td>\n",
       "      <td>40.3</td>\n",
       "      <td>18.0</td>\n",
       "      <td>195.0</td>\n",
       "      <td>3250.0</td>\n",
       "      <td>Female</td>\n",
       "      <td>False</td>\n",
       "    </tr>\n",
       "    <tr>\n",
       "      <th>4</th>\n",
       "      <td>Adelie</td>\n",
       "      <td>Torgersen</td>\n",
       "      <td>36.7</td>\n",
       "      <td>19.3</td>\n",
       "      <td>193.0</td>\n",
       "      <td>3450.0</td>\n",
       "      <td>Female</td>\n",
       "      <td>False</td>\n",
       "    </tr>\n",
       "    <tr>\n",
       "      <th>5</th>\n",
       "      <td>Adelie</td>\n",
       "      <td>Torgersen</td>\n",
       "      <td>39.3</td>\n",
       "      <td>20.6</td>\n",
       "      <td>190.0</td>\n",
       "      <td>3650.0</td>\n",
       "      <td>Male</td>\n",
       "      <td>False</td>\n",
       "    </tr>\n",
       "    <tr>\n",
       "      <th>...</th>\n",
       "      <td>...</td>\n",
       "      <td>...</td>\n",
       "      <td>...</td>\n",
       "      <td>...</td>\n",
       "      <td>...</td>\n",
       "      <td>...</td>\n",
       "      <td>...</td>\n",
       "      <td>...</td>\n",
       "    </tr>\n",
       "    <tr>\n",
       "      <th>338</th>\n",
       "      <td>Gentoo</td>\n",
       "      <td>Biscoe</td>\n",
       "      <td>47.2</td>\n",
       "      <td>13.7</td>\n",
       "      <td>214.0</td>\n",
       "      <td>4925.0</td>\n",
       "      <td>Female</td>\n",
       "      <td>False</td>\n",
       "    </tr>\n",
       "    <tr>\n",
       "      <th>340</th>\n",
       "      <td>Gentoo</td>\n",
       "      <td>Biscoe</td>\n",
       "      <td>46.8</td>\n",
       "      <td>14.3</td>\n",
       "      <td>215.0</td>\n",
       "      <td>4850.0</td>\n",
       "      <td>Female</td>\n",
       "      <td>False</td>\n",
       "    </tr>\n",
       "    <tr>\n",
       "      <th>341</th>\n",
       "      <td>Gentoo</td>\n",
       "      <td>Biscoe</td>\n",
       "      <td>50.4</td>\n",
       "      <td>15.7</td>\n",
       "      <td>222.0</td>\n",
       "      <td>5750.0</td>\n",
       "      <td>Male</td>\n",
       "      <td>False</td>\n",
       "    </tr>\n",
       "    <tr>\n",
       "      <th>342</th>\n",
       "      <td>Gentoo</td>\n",
       "      <td>Biscoe</td>\n",
       "      <td>45.2</td>\n",
       "      <td>14.8</td>\n",
       "      <td>212.0</td>\n",
       "      <td>5200.0</td>\n",
       "      <td>Female</td>\n",
       "      <td>False</td>\n",
       "    </tr>\n",
       "    <tr>\n",
       "      <th>343</th>\n",
       "      <td>Gentoo</td>\n",
       "      <td>Biscoe</td>\n",
       "      <td>49.9</td>\n",
       "      <td>16.1</td>\n",
       "      <td>213.0</td>\n",
       "      <td>5400.0</td>\n",
       "      <td>Male</td>\n",
       "      <td>False</td>\n",
       "    </tr>\n",
       "  </tbody>\n",
       "</table>\n",
       "<p>333 rows × 8 columns</p>\n",
       "</div>"
      ],
      "text/plain": [
       "    species     island  bill_length_mm  bill_depth_mm  flipper_length_mm  \\\n",
       "0    Adelie  Torgersen            39.1           18.7              181.0   \n",
       "1    Adelie  Torgersen            39.5           17.4              186.0   \n",
       "2    Adelie  Torgersen            40.3           18.0              195.0   \n",
       "4    Adelie  Torgersen            36.7           19.3              193.0   \n",
       "5    Adelie  Torgersen            39.3           20.6              190.0   \n",
       "..      ...        ...             ...            ...                ...   \n",
       "338  Gentoo     Biscoe            47.2           13.7              214.0   \n",
       "340  Gentoo     Biscoe            46.8           14.3              215.0   \n",
       "341  Gentoo     Biscoe            50.4           15.7              222.0   \n",
       "342  Gentoo     Biscoe            45.2           14.8              212.0   \n",
       "343  Gentoo     Biscoe            49.9           16.1              213.0   \n",
       "\n",
       "     body_mass_g     sex  isChinstrap  \n",
       "0         3750.0    Male        False  \n",
       "1         3800.0  Female        False  \n",
       "2         3250.0  Female        False  \n",
       "4         3450.0  Female        False  \n",
       "5         3650.0    Male        False  \n",
       "..           ...     ...          ...  \n",
       "338       4925.0  Female        False  \n",
       "340       4850.0  Female        False  \n",
       "341       5750.0    Male        False  \n",
       "342       5200.0  Female        False  \n",
       "343       5400.0    Male        False  \n",
       "\n",
       "[333 rows x 8 columns]"
      ]
     },
     "execution_count": 9,
     "metadata": {},
     "output_type": "execute_result"
    }
   ],
   "source": [
    "df"
   ]
  },
  {
   "cell_type": "markdown",
   "metadata": {
    "cell_id": "806c67bf4e334ac0bcc358dc5b4f789a",
    "deepnote_cell_type": "markdown"
   },
   "source": [
    "* Fit a new logistic regression classifier, using the same input features, but this time using the \"species\" column as our target. \n",
    "\n",
    "Even though we have three output classes, the procedure is the same we have been using all along."
   ]
  },
  {
   "cell_type": "code",
   "execution_count": null,
   "metadata": {
    "cell_id": "bd5a07fc704d47768ef4800504013e0a",
    "deepnote_cell_type": "code",
    "deepnote_to_be_reexecuted": false,
    "execution_millis": 11,
    "execution_start": 1700082650389,
    "source_hash": null
   },
   "outputs": [],
   "source": [
    "clf = LogisticRegression()\n",
    "\n",
    "from sklearn.model_selection import train_test_split\n",
    "X_train, X_test, y_train, y_test = train_test_split(df[cols], df[\"species\"], test_size=0.1, random_state=42)"
   ]
  },
  {
   "cell_type": "code",
   "execution_count": null,
   "metadata": {
    "cell_id": "1f0b82b3ccf94a49a0ffd8bcb340bee1",
    "deepnote_cell_type": "code",
    "deepnote_to_be_reexecuted": false,
    "execution_millis": 35,
    "execution_start": 1700082691433,
    "source_hash": null
   },
   "outputs": [
    {
     "name": "stderr",
     "output_type": "stream",
     "text": [
      "/shared-libs/python3.9/py/lib/python3.9/site-packages/sklearn/linear_model/_logistic.py:444: ConvergenceWarning: lbfgs failed to converge (status=1):\n",
      "STOP: TOTAL NO. of ITERATIONS REACHED LIMIT.\n",
      "\n",
      "Increase the number of iterations (max_iter) or scale the data as shown in:\n",
      "    https://scikit-learn.org/stable/modules/preprocessing.html\n",
      "Please also refer to the documentation for alternative solver options:\n",
      "    https://scikit-learn.org/stable/modules/linear_model.html#logistic-regression\n",
      "  n_iter_i = _check_optimize_result(\n"
     ]
    },
    {
     "data": {
      "text/html": [
       "<style>#sk-container-id-1 {color: black;background-color: white;}#sk-container-id-1 pre{padding: 0;}#sk-container-id-1 div.sk-toggleable {background-color: white;}#sk-container-id-1 label.sk-toggleable__label {cursor: pointer;display: block;width: 100%;margin-bottom: 0;padding: 0.3em;box-sizing: border-box;text-align: center;}#sk-container-id-1 label.sk-toggleable__label-arrow:before {content: \"▸\";float: left;margin-right: 0.25em;color: #696969;}#sk-container-id-1 label.sk-toggleable__label-arrow:hover:before {color: black;}#sk-container-id-1 div.sk-estimator:hover label.sk-toggleable__label-arrow:before {color: black;}#sk-container-id-1 div.sk-toggleable__content {max-height: 0;max-width: 0;overflow: hidden;text-align: left;background-color: #f0f8ff;}#sk-container-id-1 div.sk-toggleable__content pre {margin: 0.2em;color: black;border-radius: 0.25em;background-color: #f0f8ff;}#sk-container-id-1 input.sk-toggleable__control:checked~div.sk-toggleable__content {max-height: 200px;max-width: 100%;overflow: auto;}#sk-container-id-1 input.sk-toggleable__control:checked~label.sk-toggleable__label-arrow:before {content: \"▾\";}#sk-container-id-1 div.sk-estimator input.sk-toggleable__control:checked~label.sk-toggleable__label {background-color: #d4ebff;}#sk-container-id-1 div.sk-label input.sk-toggleable__control:checked~label.sk-toggleable__label {background-color: #d4ebff;}#sk-container-id-1 input.sk-hidden--visually {border: 0;clip: rect(1px 1px 1px 1px);clip: rect(1px, 1px, 1px, 1px);height: 1px;margin: -1px;overflow: hidden;padding: 0;position: absolute;width: 1px;}#sk-container-id-1 div.sk-estimator {font-family: monospace;background-color: #f0f8ff;border: 1px dotted black;border-radius: 0.25em;box-sizing: border-box;margin-bottom: 0.5em;}#sk-container-id-1 div.sk-estimator:hover {background-color: #d4ebff;}#sk-container-id-1 div.sk-parallel-item::after {content: \"\";width: 100%;border-bottom: 1px solid gray;flex-grow: 1;}#sk-container-id-1 div.sk-label:hover label.sk-toggleable__label {background-color: #d4ebff;}#sk-container-id-1 div.sk-serial::before {content: \"\";position: absolute;border-left: 1px solid gray;box-sizing: border-box;top: 0;bottom: 0;left: 50%;z-index: 0;}#sk-container-id-1 div.sk-serial {display: flex;flex-direction: column;align-items: center;background-color: white;padding-right: 0.2em;padding-left: 0.2em;position: relative;}#sk-container-id-1 div.sk-item {position: relative;z-index: 1;}#sk-container-id-1 div.sk-parallel {display: flex;align-items: stretch;justify-content: center;background-color: white;position: relative;}#sk-container-id-1 div.sk-item::before, #sk-container-id-1 div.sk-parallel-item::before {content: \"\";position: absolute;border-left: 1px solid gray;box-sizing: border-box;top: 0;bottom: 0;left: 50%;z-index: -1;}#sk-container-id-1 div.sk-parallel-item {display: flex;flex-direction: column;z-index: 1;position: relative;background-color: white;}#sk-container-id-1 div.sk-parallel-item:first-child::after {align-self: flex-end;width: 50%;}#sk-container-id-1 div.sk-parallel-item:last-child::after {align-self: flex-start;width: 50%;}#sk-container-id-1 div.sk-parallel-item:only-child::after {width: 0;}#sk-container-id-1 div.sk-dashed-wrapped {border: 1px dashed gray;margin: 0 0.4em 0.5em 0.4em;box-sizing: border-box;padding-bottom: 0.4em;background-color: white;}#sk-container-id-1 div.sk-label label {font-family: monospace;font-weight: bold;display: inline-block;line-height: 1.2em;}#sk-container-id-1 div.sk-label-container {text-align: center;}#sk-container-id-1 div.sk-container {/* jupyter's `normalize.less` sets `[hidden] { display: none; }` but bootstrap.min.css set `[hidden] { display: none !important; }` so we also need the `!important` here to be able to override the default hidden behavior on the sphinx rendered scikit-learn.org. See: https://github.com/scikit-learn/scikit-learn/issues/21755 */display: inline-block !important;position: relative;}#sk-container-id-1 div.sk-text-repr-fallback {display: none;}</style><div id=\"sk-container-id-1\" class=\"sk-top-container\"><div class=\"sk-text-repr-fallback\"><pre>LogisticRegression()</pre><b>In a Jupyter environment, please rerun this cell to show the HTML representation or trust the notebook. <br />On GitHub, the HTML representation is unable to render, please try loading this page with nbviewer.org.</b></div><div class=\"sk-container\" hidden><div class=\"sk-item\"><div class=\"sk-estimator sk-toggleable\"><input class=\"sk-toggleable__control sk-hidden--visually\" id=\"sk-estimator-id-1\" type=\"checkbox\" checked><label for=\"sk-estimator-id-1\" class=\"sk-toggleable__label sk-toggleable__label-arrow\">LogisticRegression</label><div class=\"sk-toggleable__content\"><pre>LogisticRegression()</pre></div></div></div></div></div>"
      ],
      "text/plain": [
       "LogisticRegression()"
      ]
     },
     "execution_count": 11,
     "metadata": {},
     "output_type": "execute_result"
    }
   ],
   "source": [
    "clf.fit(X_train, y_train)"
   ]
  },
  {
   "cell_type": "markdown",
   "metadata": {
    "cell_id": "23c3c8b79ef4433b874f6a5057ba7c0a",
    "deepnote_cell_type": "markdown"
   },
   "source": [
    "This warning indicates that the algorithm did not converge to a solution within the number of iterations specified by the max_iter parameter.\n",
    "\n",
    "The most straightforward approach is to increase the max_iter parameter in your logistic regression model. This gives the algorithm more iterations to converge to a solution. However, be aware that setting this number too high might lead to longer training times."
   ]
  },
  {
   "cell_type": "code",
   "execution_count": null,
   "metadata": {
    "cell_id": "669be929506847bb8b93e1f11de1d785",
    "deepnote_cell_type": "code",
    "deepnote_to_be_reexecuted": false,
    "editable": true,
    "execution_millis": 16,
    "execution_start": 1700082877527,
    "scrolled": true,
    "slideshow": {
     "slide_type": ""
    },
    "source_hash": null,
    "tags": []
   },
   "outputs": [
    {
     "name": "stdout",
     "output_type": "stream",
     "text": [
      "Help on LogisticRegression in module sklearn.linear_model._logistic object:\n",
      "\n",
      "class LogisticRegression(sklearn.linear_model._base.LinearClassifierMixin, sklearn.linear_model._base.SparseCoefMixin, sklearn.base.BaseEstimator)\n",
      " |  LogisticRegression(penalty='l2', *, dual=False, tol=0.0001, C=1.0, fit_intercept=True, intercept_scaling=1, class_weight=None, random_state=None, solver='lbfgs', max_iter=100, multi_class='auto', verbose=0, warm_start=False, n_jobs=None, l1_ratio=None)\n",
      " |  \n",
      " |  Logistic Regression (aka logit, MaxEnt) classifier.\n",
      " |  \n",
      " |  In the multiclass case, the training algorithm uses the one-vs-rest (OvR)\n",
      " |  scheme if the 'multi_class' option is set to 'ovr', and uses the\n",
      " |  cross-entropy loss if the 'multi_class' option is set to 'multinomial'.\n",
      " |  (Currently the 'multinomial' option is supported only by the 'lbfgs',\n",
      " |  'sag', 'saga' and 'newton-cg' solvers.)\n",
      " |  \n",
      " |  This class implements regularized logistic regression using the\n",
      " |  'liblinear' library, 'newton-cg', 'sag', 'saga' and 'lbfgs' solvers. **Note\n",
      " |  that regularization is applied by default**. It can handle both dense\n",
      " |  and sparse input. Use C-ordered arrays or CSR matrices containing 64-bit\n",
      " |  floats for optimal performance; any other input format will be converted\n",
      " |  (and copied).\n",
      " |  \n",
      " |  The 'newton-cg', 'sag', and 'lbfgs' solvers support only L2 regularization\n",
      " |  with primal formulation, or no regularization. The 'liblinear' solver\n",
      " |  supports both L1 and L2 regularization, with a dual formulation only for\n",
      " |  the L2 penalty. The Elastic-Net regularization is only supported by the\n",
      " |  'saga' solver.\n",
      " |  \n",
      " |  Read more in the :ref:`User Guide <logistic_regression>`.\n",
      " |  \n",
      " |  Parameters\n",
      " |  ----------\n",
      " |  penalty : {'l1', 'l2', 'elasticnet', 'none'}, default='l2'\n",
      " |      Specify the norm of the penalty:\n",
      " |  \n",
      " |      - `'none'`: no penalty is added;\n",
      " |      - `'l2'`: add a L2 penalty term and it is the default choice;\n",
      " |      - `'l1'`: add a L1 penalty term;\n",
      " |      - `'elasticnet'`: both L1 and L2 penalty terms are added.\n",
      " |  \n",
      " |      .. warning::\n",
      " |         Some penalties may not work with some solvers. See the parameter\n",
      " |         `solver` below, to know the compatibility between the penalty and\n",
      " |         solver.\n",
      " |  \n",
      " |      .. versionadded:: 0.19\n",
      " |         l1 penalty with SAGA solver (allowing 'multinomial' + L1)\n",
      " |  \n",
      " |  dual : bool, default=False\n",
      " |      Dual or primal formulation. Dual formulation is only implemented for\n",
      " |      l2 penalty with liblinear solver. Prefer dual=False when\n",
      " |      n_samples > n_features.\n",
      " |  \n",
      " |  tol : float, default=1e-4\n",
      " |      Tolerance for stopping criteria.\n",
      " |  \n",
      " |  C : float, default=1.0\n",
      " |      Inverse of regularization strength; must be a positive float.\n",
      " |      Like in support vector machines, smaller values specify stronger\n",
      " |      regularization.\n",
      " |  \n",
      " |  fit_intercept : bool, default=True\n",
      " |      Specifies if a constant (a.k.a. bias or intercept) should be\n",
      " |      added to the decision function.\n",
      " |  \n",
      " |  intercept_scaling : float, default=1\n",
      " |      Useful only when the solver 'liblinear' is used\n",
      " |      and self.fit_intercept is set to True. In this case, x becomes\n",
      " |      [x, self.intercept_scaling],\n",
      " |      i.e. a \"synthetic\" feature with constant value equal to\n",
      " |      intercept_scaling is appended to the instance vector.\n",
      " |      The intercept becomes ``intercept_scaling * synthetic_feature_weight``.\n",
      " |  \n",
      " |      Note! the synthetic feature weight is subject to l1/l2 regularization\n",
      " |      as all other features.\n",
      " |      To lessen the effect of regularization on synthetic feature weight\n",
      " |      (and therefore on the intercept) intercept_scaling has to be increased.\n",
      " |  \n",
      " |  class_weight : dict or 'balanced', default=None\n",
      " |      Weights associated with classes in the form ``{class_label: weight}``.\n",
      " |      If not given, all classes are supposed to have weight one.\n",
      " |  \n",
      " |      The \"balanced\" mode uses the values of y to automatically adjust\n",
      " |      weights inversely proportional to class frequencies in the input data\n",
      " |      as ``n_samples / (n_classes * np.bincount(y))``.\n",
      " |  \n",
      " |      Note that these weights will be multiplied with sample_weight (passed\n",
      " |      through the fit method) if sample_weight is specified.\n",
      " |  \n",
      " |      .. versionadded:: 0.17\n",
      " |         *class_weight='balanced'*\n",
      " |  \n",
      " |  random_state : int, RandomState instance, default=None\n",
      " |      Used when ``solver`` == 'sag', 'saga' or 'liblinear' to shuffle the\n",
      " |      data. See :term:`Glossary <random_state>` for details.\n",
      " |  \n",
      " |  solver : {'newton-cg', 'lbfgs', 'liblinear', 'sag', 'saga'},             default='lbfgs'\n",
      " |  \n",
      " |      Algorithm to use in the optimization problem. Default is 'lbfgs'.\n",
      " |      To choose a solver, you might want to consider the following aspects:\n",
      " |  \n",
      " |          - For small datasets, 'liblinear' is a good choice, whereas 'sag'\n",
      " |            and 'saga' are faster for large ones;\n",
      " |          - For multiclass problems, only 'newton-cg', 'sag', 'saga' and\n",
      " |            'lbfgs' handle multinomial loss;\n",
      " |          - 'liblinear' is limited to one-versus-rest schemes.\n",
      " |  \n",
      " |      .. warning::\n",
      " |         The choice of the algorithm depends on the penalty chosen:\n",
      " |         Supported penalties by solver:\n",
      " |  \n",
      " |         - 'newton-cg'   -   ['l2', 'none']\n",
      " |         - 'lbfgs'       -   ['l2', 'none']\n",
      " |         - 'liblinear'   -   ['l1', 'l2']\n",
      " |         - 'sag'         -   ['l2', 'none']\n",
      " |         - 'saga'        -   ['elasticnet', 'l1', 'l2', 'none']\n",
      " |  \n",
      " |      .. note::\n",
      " |         'sag' and 'saga' fast convergence is only guaranteed on\n",
      " |         features with approximately the same scale. You can\n",
      " |         preprocess the data with a scaler from :mod:`sklearn.preprocessing`.\n",
      " |  \n",
      " |      .. seealso::\n",
      " |         Refer to the User Guide for more information regarding\n",
      " |         :class:`LogisticRegression` and more specifically the\n",
      " |         :ref:`Table <Logistic_regression>`\n",
      " |         summarizing solver/penalty supports.\n",
      " |  \n",
      " |      .. versionadded:: 0.17\n",
      " |         Stochastic Average Gradient descent solver.\n",
      " |      .. versionadded:: 0.19\n",
      " |         SAGA solver.\n",
      " |      .. versionchanged:: 0.22\n",
      " |          The default solver changed from 'liblinear' to 'lbfgs' in 0.22.\n",
      " |  \n",
      " |  max_iter : int, default=100\n",
      " |      Maximum number of iterations taken for the solvers to converge.\n",
      " |  \n",
      " |  multi_class : {'auto', 'ovr', 'multinomial'}, default='auto'\n",
      " |      If the option chosen is 'ovr', then a binary problem is fit for each\n",
      " |      label. For 'multinomial' the loss minimised is the multinomial loss fit\n",
      " |      across the entire probability distribution, *even when the data is\n",
      " |      binary*. 'multinomial' is unavailable when solver='liblinear'.\n",
      " |      'auto' selects 'ovr' if the data is binary, or if solver='liblinear',\n",
      " |      and otherwise selects 'multinomial'.\n",
      " |  \n",
      " |      .. versionadded:: 0.18\n",
      " |         Stochastic Average Gradient descent solver for 'multinomial' case.\n",
      " |      .. versionchanged:: 0.22\n",
      " |          Default changed from 'ovr' to 'auto' in 0.22.\n",
      " |  \n",
      " |  verbose : int, default=0\n",
      " |      For the liblinear and lbfgs solvers set verbose to any positive\n",
      " |      number for verbosity.\n",
      " |  \n",
      " |  warm_start : bool, default=False\n",
      " |      When set to True, reuse the solution of the previous call to fit as\n",
      " |      initialization, otherwise, just erase the previous solution.\n",
      " |      Useless for liblinear solver. See :term:`the Glossary <warm_start>`.\n",
      " |  \n",
      " |      .. versionadded:: 0.17\n",
      " |         *warm_start* to support *lbfgs*, *newton-cg*, *sag*, *saga* solvers.\n",
      " |  \n",
      " |  n_jobs : int, default=None\n",
      " |      Number of CPU cores used when parallelizing over classes if\n",
      " |      multi_class='ovr'\". This parameter is ignored when the ``solver`` is\n",
      " |      set to 'liblinear' regardless of whether 'multi_class' is specified or\n",
      " |      not. ``None`` means 1 unless in a :obj:`joblib.parallel_backend`\n",
      " |      context. ``-1`` means using all processors.\n",
      " |      See :term:`Glossary <n_jobs>` for more details.\n",
      " |  \n",
      " |  l1_ratio : float, default=None\n",
      " |      The Elastic-Net mixing parameter, with ``0 <= l1_ratio <= 1``. Only\n",
      " |      used if ``penalty='elasticnet'``. Setting ``l1_ratio=0`` is equivalent\n",
      " |      to using ``penalty='l2'``, while setting ``l1_ratio=1`` is equivalent\n",
      " |      to using ``penalty='l1'``. For ``0 < l1_ratio <1``, the penalty is a\n",
      " |      combination of L1 and L2.\n",
      " |  \n",
      " |  Attributes\n",
      " |  ----------\n",
      " |  \n",
      " |  classes_ : ndarray of shape (n_classes, )\n",
      " |      A list of class labels known to the classifier.\n",
      " |  \n",
      " |  coef_ : ndarray of shape (1, n_features) or (n_classes, n_features)\n",
      " |      Coefficient of the features in the decision function.\n",
      " |  \n",
      " |      `coef_` is of shape (1, n_features) when the given problem is binary.\n",
      " |      In particular, when `multi_class='multinomial'`, `coef_` corresponds\n",
      " |      to outcome 1 (True) and `-coef_` corresponds to outcome 0 (False).\n",
      " |  \n",
      " |  intercept_ : ndarray of shape (1,) or (n_classes,)\n",
      " |      Intercept (a.k.a. bias) added to the decision function.\n",
      " |  \n",
      " |      If `fit_intercept` is set to False, the intercept is set to zero.\n",
      " |      `intercept_` is of shape (1,) when the given problem is binary.\n",
      " |      In particular, when `multi_class='multinomial'`, `intercept_`\n",
      " |      corresponds to outcome 1 (True) and `-intercept_` corresponds to\n",
      " |      outcome 0 (False).\n",
      " |  \n",
      " |  n_features_in_ : int\n",
      " |      Number of features seen during :term:`fit`.\n",
      " |  \n",
      " |      .. versionadded:: 0.24\n",
      " |  \n",
      " |  feature_names_in_ : ndarray of shape (`n_features_in_`,)\n",
      " |      Names of features seen during :term:`fit`. Defined only when `X`\n",
      " |      has feature names that are all strings.\n",
      " |  \n",
      " |      .. versionadded:: 1.0\n",
      " |  \n",
      " |  n_iter_ : ndarray of shape (n_classes,) or (1, )\n",
      " |      Actual number of iterations for all classes. If binary or multinomial,\n",
      " |      it returns only 1 element. For liblinear solver, only the maximum\n",
      " |      number of iteration across all classes is given.\n",
      " |  \n",
      " |      .. versionchanged:: 0.20\n",
      " |  \n",
      " |          In SciPy <= 1.0.0 the number of lbfgs iterations may exceed\n",
      " |          ``max_iter``. ``n_iter_`` will now report at most ``max_iter``.\n",
      " |  \n",
      " |  See Also\n",
      " |  --------\n",
      " |  SGDClassifier : Incrementally trained logistic regression (when given\n",
      " |      the parameter ``loss=\"log\"``).\n",
      " |  LogisticRegressionCV : Logistic regression with built-in cross validation.\n",
      " |  \n",
      " |  Notes\n",
      " |  -----\n",
      " |  The underlying C implementation uses a random number generator to\n",
      " |  select features when fitting the model. It is thus not uncommon,\n",
      " |  to have slightly different results for the same input data. If\n",
      " |  that happens, try with a smaller tol parameter.\n",
      " |  \n",
      " |  Predict output may not match that of standalone liblinear in certain\n",
      " |  cases. See :ref:`differences from liblinear <liblinear_differences>`\n",
      " |  in the narrative documentation.\n",
      " |  \n",
      " |  References\n",
      " |  ----------\n",
      " |  \n",
      " |  L-BFGS-B -- Software for Large-scale Bound-constrained Optimization\n",
      " |      Ciyou Zhu, Richard Byrd, Jorge Nocedal and Jose Luis Morales.\n",
      " |      http://users.iems.northwestern.edu/~nocedal/lbfgsb.html\n",
      " |  \n",
      " |  LIBLINEAR -- A Library for Large Linear Classification\n",
      " |      https://www.csie.ntu.edu.tw/~cjlin/liblinear/\n",
      " |  \n",
      " |  SAG -- Mark Schmidt, Nicolas Le Roux, and Francis Bach\n",
      " |      Minimizing Finite Sums with the Stochastic Average Gradient\n",
      " |      https://hal.inria.fr/hal-00860051/document\n",
      " |  \n",
      " |  SAGA -- Defazio, A., Bach F. & Lacoste-Julien S. (2014).\n",
      " |          :arxiv:`\"SAGA: A Fast Incremental Gradient Method With Support\n",
      " |          for Non-Strongly Convex Composite Objectives\" <1407.0202>`\n",
      " |  \n",
      " |  Hsiang-Fu Yu, Fang-Lan Huang, Chih-Jen Lin (2011). Dual coordinate descent\n",
      " |      methods for logistic regression and maximum entropy models.\n",
      " |      Machine Learning 85(1-2):41-75.\n",
      " |      https://www.csie.ntu.edu.tw/~cjlin/papers/maxent_dual.pdf\n",
      " |  \n",
      " |  Examples\n",
      " |  --------\n",
      " |  >>> from sklearn.datasets import load_iris\n",
      " |  >>> from sklearn.linear_model import LogisticRegression\n",
      " |  >>> X, y = load_iris(return_X_y=True)\n",
      " |  >>> clf = LogisticRegression(random_state=0).fit(X, y)\n",
      " |  >>> clf.predict(X[:2, :])\n",
      " |  array([0, 0])\n",
      " |  >>> clf.predict_proba(X[:2, :])\n",
      " |  array([[9.8...e-01, 1.8...e-02, 1.4...e-08],\n",
      " |         [9.7...e-01, 2.8...e-02, ...e-08]])\n",
      " |  >>> clf.score(X, y)\n",
      " |  0.97...\n",
      " |  \n",
      " |  Method resolution order:\n",
      " |      LogisticRegression\n",
      " |      sklearn.linear_model._base.LinearClassifierMixin\n",
      " |      sklearn.base.ClassifierMixin\n",
      " |      sklearn.linear_model._base.SparseCoefMixin\n",
      " |      sklearn.base.BaseEstimator\n",
      " |      builtins.object\n",
      " |  \n",
      " |  Methods defined here:\n",
      " |  \n",
      " |  __init__(self, penalty='l2', *, dual=False, tol=0.0001, C=1.0, fit_intercept=True, intercept_scaling=1, class_weight=None, random_state=None, solver='lbfgs', max_iter=100, multi_class='auto', verbose=0, warm_start=False, n_jobs=None, l1_ratio=None)\n",
      " |      Initialize self.  See help(type(self)) for accurate signature.\n",
      " |  \n",
      " |  fit(self, X, y, sample_weight=None)\n",
      " |      Fit the model according to the given training data.\n",
      " |      \n",
      " |      Parameters\n",
      " |      ----------\n",
      " |      X : {array-like, sparse matrix} of shape (n_samples, n_features)\n",
      " |          Training vector, where `n_samples` is the number of samples and\n",
      " |          `n_features` is the number of features.\n",
      " |      \n",
      " |      y : array-like of shape (n_samples,)\n",
      " |          Target vector relative to X.\n",
      " |      \n",
      " |      sample_weight : array-like of shape (n_samples,) default=None\n",
      " |          Array of weights that are assigned to individual samples.\n",
      " |          If not provided, then each sample is given unit weight.\n",
      " |      \n",
      " |          .. versionadded:: 0.17\n",
      " |             *sample_weight* support to LogisticRegression.\n",
      " |      \n",
      " |      Returns\n",
      " |      -------\n",
      " |      self\n",
      " |          Fitted estimator.\n",
      " |      \n",
      " |      Notes\n",
      " |      -----\n",
      " |      The SAGA solver supports both float64 and float32 bit arrays.\n",
      " |  \n",
      " |  predict_log_proba(self, X)\n",
      " |      Predict logarithm of probability estimates.\n",
      " |      \n",
      " |      The returned estimates for all classes are ordered by the\n",
      " |      label of classes.\n",
      " |      \n",
      " |      Parameters\n",
      " |      ----------\n",
      " |      X : array-like of shape (n_samples, n_features)\n",
      " |          Vector to be scored, where `n_samples` is the number of samples and\n",
      " |          `n_features` is the number of features.\n",
      " |      \n",
      " |      Returns\n",
      " |      -------\n",
      " |      T : array-like of shape (n_samples, n_classes)\n",
      " |          Returns the log-probability of the sample for each class in the\n",
      " |          model, where classes are ordered as they are in ``self.classes_``.\n",
      " |  \n",
      " |  predict_proba(self, X)\n",
      " |      Probability estimates.\n",
      " |      \n",
      " |      The returned estimates for all classes are ordered by the\n",
      " |      label of classes.\n",
      " |      \n",
      " |      For a multi_class problem, if multi_class is set to be \"multinomial\"\n",
      " |      the softmax function is used to find the predicted probability of\n",
      " |      each class.\n",
      " |      Else use a one-vs-rest approach, i.e calculate the probability\n",
      " |      of each class assuming it to be positive using the logistic function.\n",
      " |      and normalize these values across all the classes.\n",
      " |      \n",
      " |      Parameters\n",
      " |      ----------\n",
      " |      X : array-like of shape (n_samples, n_features)\n",
      " |          Vector to be scored, where `n_samples` is the number of samples and\n",
      " |          `n_features` is the number of features.\n",
      " |      \n",
      " |      Returns\n",
      " |      -------\n",
      " |      T : array-like of shape (n_samples, n_classes)\n",
      " |          Returns the probability of the sample for each class in the model,\n",
      " |          where classes are ordered as they are in ``self.classes_``.\n",
      " |  \n",
      " |  ----------------------------------------------------------------------\n",
      " |  Methods inherited from sklearn.linear_model._base.LinearClassifierMixin:\n",
      " |  \n",
      " |  decision_function(self, X)\n",
      " |      Predict confidence scores for samples.\n",
      " |      \n",
      " |      The confidence score for a sample is proportional to the signed\n",
      " |      distance of that sample to the hyperplane.\n",
      " |      \n",
      " |      Parameters\n",
      " |      ----------\n",
      " |      X : {array-like, sparse matrix} of shape (n_samples, n_features)\n",
      " |          The data matrix for which we want to get the confidence scores.\n",
      " |      \n",
      " |      Returns\n",
      " |      -------\n",
      " |      scores : ndarray of shape (n_samples,) or (n_samples, n_classes)\n",
      " |          Confidence scores per `(n_samples, n_classes)` combination. In the\n",
      " |          binary case, confidence score for `self.classes_[1]` where >0 means\n",
      " |          this class would be predicted.\n",
      " |  \n",
      " |  predict(self, X)\n",
      " |      Predict class labels for samples in X.\n",
      " |      \n",
      " |      Parameters\n",
      " |      ----------\n",
      " |      X : {array-like, sparse matrix} of shape (n_samples, n_features)\n",
      " |          The data matrix for which we want to get the predictions.\n",
      " |      \n",
      " |      Returns\n",
      " |      -------\n",
      " |      y_pred : ndarray of shape (n_samples,)\n",
      " |          Vector containing the class labels for each sample.\n",
      " |  \n",
      " |  ----------------------------------------------------------------------\n",
      " |  Methods inherited from sklearn.base.ClassifierMixin:\n",
      " |  \n",
      " |  score(self, X, y, sample_weight=None)\n",
      " |      Return the mean accuracy on the given test data and labels.\n",
      " |      \n",
      " |      In multi-label classification, this is the subset accuracy\n",
      " |      which is a harsh metric since you require for each sample that\n",
      " |      each label set be correctly predicted.\n",
      " |      \n",
      " |      Parameters\n",
      " |      ----------\n",
      " |      X : array-like of shape (n_samples, n_features)\n",
      " |          Test samples.\n",
      " |      \n",
      " |      y : array-like of shape (n_samples,) or (n_samples, n_outputs)\n",
      " |          True labels for `X`.\n",
      " |      \n",
      " |      sample_weight : array-like of shape (n_samples,), default=None\n",
      " |          Sample weights.\n",
      " |      \n",
      " |      Returns\n",
      " |      -------\n",
      " |      score : float\n",
      " |          Mean accuracy of ``self.predict(X)`` wrt. `y`.\n",
      " |  \n",
      " |  ----------------------------------------------------------------------\n",
      " |  Data descriptors inherited from sklearn.base.ClassifierMixin:\n",
      " |  \n",
      " |  __dict__\n",
      " |      dictionary for instance variables (if defined)\n",
      " |  \n",
      " |  __weakref__\n",
      " |      list of weak references to the object (if defined)\n",
      " |  \n",
      " |  ----------------------------------------------------------------------\n",
      " |  Methods inherited from sklearn.linear_model._base.SparseCoefMixin:\n",
      " |  \n",
      " |  densify(self)\n",
      " |      Convert coefficient matrix to dense array format.\n",
      " |      \n",
      " |      Converts the ``coef_`` member (back) to a numpy.ndarray. This is the\n",
      " |      default format of ``coef_`` and is required for fitting, so calling\n",
      " |      this method is only required on models that have previously been\n",
      " |      sparsified; otherwise, it is a no-op.\n",
      " |      \n",
      " |      Returns\n",
      " |      -------\n",
      " |      self\n",
      " |          Fitted estimator.\n",
      " |  \n",
      " |  sparsify(self)\n",
      " |      Convert coefficient matrix to sparse format.\n",
      " |      \n",
      " |      Converts the ``coef_`` member to a scipy.sparse matrix, which for\n",
      " |      L1-regularized models can be much more memory- and storage-efficient\n",
      " |      than the usual numpy.ndarray representation.\n",
      " |      \n",
      " |      The ``intercept_`` member is not converted.\n",
      " |      \n",
      " |      Returns\n",
      " |      -------\n",
      " |      self\n",
      " |          Fitted estimator.\n",
      " |      \n",
      " |      Notes\n",
      " |      -----\n",
      " |      For non-sparse models, i.e. when there are not many zeros in ``coef_``,\n",
      " |      this may actually *increase* memory usage, so use this method with\n",
      " |      care. A rule of thumb is that the number of zero elements, which can\n",
      " |      be computed with ``(coef_ == 0).sum()``, must be more than 50% for this\n",
      " |      to provide significant benefits.\n",
      " |      \n",
      " |      After calling this method, further fitting with the partial_fit\n",
      " |      method (if any) will not work until you call densify.\n",
      " |  \n",
      " |  ----------------------------------------------------------------------\n",
      " |  Methods inherited from sklearn.base.BaseEstimator:\n",
      " |  \n",
      " |  __getstate__(self)\n",
      " |  \n",
      " |  __repr__(self, N_CHAR_MAX=700)\n",
      " |      Return repr(self).\n",
      " |  \n",
      " |  __setstate__(self, state)\n",
      " |  \n",
      " |  get_params(self, deep=True)\n",
      " |      Get parameters for this estimator.\n",
      " |      \n",
      " |      Parameters\n",
      " |      ----------\n",
      " |      deep : bool, default=True\n",
      " |          If True, will return the parameters for this estimator and\n",
      " |          contained subobjects that are estimators.\n",
      " |      \n",
      " |      Returns\n",
      " |      -------\n",
      " |      params : dict\n",
      " |          Parameter names mapped to their values.\n",
      " |  \n",
      " |  set_params(self, **params)\n",
      " |      Set the parameters of this estimator.\n",
      " |      \n",
      " |      The method works on simple estimators as well as on nested objects\n",
      " |      (such as :class:`~sklearn.pipeline.Pipeline`). The latter have\n",
      " |      parameters of the form ``<component>__<parameter>`` so that it's\n",
      " |      possible to update each component of a nested object.\n",
      " |      \n",
      " |      Parameters\n",
      " |      ----------\n",
      " |      **params : dict\n",
      " |          Estimator parameters.\n",
      " |      \n",
      " |      Returns\n",
      " |      -------\n",
      " |      self : estimator instance\n",
      " |          Estimator instance.\n",
      "\n"
     ]
    }
   ],
   "source": [
    "help(clf)"
   ]
  },
  {
   "cell_type": "code",
   "execution_count": null,
   "metadata": {
    "cell_id": "33d2f953edab4993be0447f3a898362e",
    "deepnote_cell_type": "code",
    "deepnote_to_be_reexecuted": false,
    "execution_millis": 26,
    "execution_start": 1700082951188,
    "source_hash": null
   },
   "outputs": [
    {
     "data": {
      "text/html": [
       "<style>#sk-container-id-2 {color: black;background-color: white;}#sk-container-id-2 pre{padding: 0;}#sk-container-id-2 div.sk-toggleable {background-color: white;}#sk-container-id-2 label.sk-toggleable__label {cursor: pointer;display: block;width: 100%;margin-bottom: 0;padding: 0.3em;box-sizing: border-box;text-align: center;}#sk-container-id-2 label.sk-toggleable__label-arrow:before {content: \"▸\";float: left;margin-right: 0.25em;color: #696969;}#sk-container-id-2 label.sk-toggleable__label-arrow:hover:before {color: black;}#sk-container-id-2 div.sk-estimator:hover label.sk-toggleable__label-arrow:before {color: black;}#sk-container-id-2 div.sk-toggleable__content {max-height: 0;max-width: 0;overflow: hidden;text-align: left;background-color: #f0f8ff;}#sk-container-id-2 div.sk-toggleable__content pre {margin: 0.2em;color: black;border-radius: 0.25em;background-color: #f0f8ff;}#sk-container-id-2 input.sk-toggleable__control:checked~div.sk-toggleable__content {max-height: 200px;max-width: 100%;overflow: auto;}#sk-container-id-2 input.sk-toggleable__control:checked~label.sk-toggleable__label-arrow:before {content: \"▾\";}#sk-container-id-2 div.sk-estimator input.sk-toggleable__control:checked~label.sk-toggleable__label {background-color: #d4ebff;}#sk-container-id-2 div.sk-label input.sk-toggleable__control:checked~label.sk-toggleable__label {background-color: #d4ebff;}#sk-container-id-2 input.sk-hidden--visually {border: 0;clip: rect(1px 1px 1px 1px);clip: rect(1px, 1px, 1px, 1px);height: 1px;margin: -1px;overflow: hidden;padding: 0;position: absolute;width: 1px;}#sk-container-id-2 div.sk-estimator {font-family: monospace;background-color: #f0f8ff;border: 1px dotted black;border-radius: 0.25em;box-sizing: border-box;margin-bottom: 0.5em;}#sk-container-id-2 div.sk-estimator:hover {background-color: #d4ebff;}#sk-container-id-2 div.sk-parallel-item::after {content: \"\";width: 100%;border-bottom: 1px solid gray;flex-grow: 1;}#sk-container-id-2 div.sk-label:hover label.sk-toggleable__label {background-color: #d4ebff;}#sk-container-id-2 div.sk-serial::before {content: \"\";position: absolute;border-left: 1px solid gray;box-sizing: border-box;top: 0;bottom: 0;left: 50%;z-index: 0;}#sk-container-id-2 div.sk-serial {display: flex;flex-direction: column;align-items: center;background-color: white;padding-right: 0.2em;padding-left: 0.2em;position: relative;}#sk-container-id-2 div.sk-item {position: relative;z-index: 1;}#sk-container-id-2 div.sk-parallel {display: flex;align-items: stretch;justify-content: center;background-color: white;position: relative;}#sk-container-id-2 div.sk-item::before, #sk-container-id-2 div.sk-parallel-item::before {content: \"\";position: absolute;border-left: 1px solid gray;box-sizing: border-box;top: 0;bottom: 0;left: 50%;z-index: -1;}#sk-container-id-2 div.sk-parallel-item {display: flex;flex-direction: column;z-index: 1;position: relative;background-color: white;}#sk-container-id-2 div.sk-parallel-item:first-child::after {align-self: flex-end;width: 50%;}#sk-container-id-2 div.sk-parallel-item:last-child::after {align-self: flex-start;width: 50%;}#sk-container-id-2 div.sk-parallel-item:only-child::after {width: 0;}#sk-container-id-2 div.sk-dashed-wrapped {border: 1px dashed gray;margin: 0 0.4em 0.5em 0.4em;box-sizing: border-box;padding-bottom: 0.4em;background-color: white;}#sk-container-id-2 div.sk-label label {font-family: monospace;font-weight: bold;display: inline-block;line-height: 1.2em;}#sk-container-id-2 div.sk-label-container {text-align: center;}#sk-container-id-2 div.sk-container {/* jupyter's `normalize.less` sets `[hidden] { display: none; }` but bootstrap.min.css set `[hidden] { display: none !important; }` so we also need the `!important` here to be able to override the default hidden behavior on the sphinx rendered scikit-learn.org. See: https://github.com/scikit-learn/scikit-learn/issues/21755 */display: inline-block !important;position: relative;}#sk-container-id-2 div.sk-text-repr-fallback {display: none;}</style><div id=\"sk-container-id-2\" class=\"sk-top-container\"><div class=\"sk-text-repr-fallback\"><pre>LogisticRegression(max_iter=400)</pre><b>In a Jupyter environment, please rerun this cell to show the HTML representation or trust the notebook. <br />On GitHub, the HTML representation is unable to render, please try loading this page with nbviewer.org.</b></div><div class=\"sk-container\" hidden><div class=\"sk-item\"><div class=\"sk-estimator sk-toggleable\"><input class=\"sk-toggleable__control sk-hidden--visually\" id=\"sk-estimator-id-2\" type=\"checkbox\" checked><label for=\"sk-estimator-id-2\" class=\"sk-toggleable__label sk-toggleable__label-arrow\">LogisticRegression</label><div class=\"sk-toggleable__content\"><pre>LogisticRegression(max_iter=400)</pre></div></div></div></div></div>"
      ],
      "text/plain": [
       "LogisticRegression(max_iter=400)"
      ]
     },
     "execution_count": 13,
     "metadata": {},
     "output_type": "execute_result"
    }
   ],
   "source": [
    "clf = LogisticRegression(max_iter=400)\n",
    "clf.fit(X_train, y_train)"
   ]
  },
  {
   "cell_type": "code",
   "execution_count": null,
   "metadata": {
    "cell_id": "792b4dbbc40747068fe60c8bfbfe620c",
    "deepnote_cell_type": "code",
    "deepnote_to_be_reexecuted": false,
    "execution_millis": 8,
    "execution_start": 1700083059609,
    "source_hash": null
   },
   "outputs": [
    {
     "data": {
      "text/plain": [
       "0.9705882352941176"
      ]
     },
     "execution_count": 14,
     "metadata": {},
     "output_type": "execute_result"
    }
   ],
   "source": [
    "clf.score(X_test, y_test)"
   ]
  },
  {
   "cell_type": "markdown",
   "metadata": {
    "cell_id": "7079563e011449d986434ff4ac126c56",
    "deepnote_cell_type": "markdown"
   },
   "source": [
    "* Check the `coef_` attribute.  How does it relate to the `coef_` attribute we found above, where we were only considering Chinstrap penguins?"
   ]
  },
  {
   "cell_type": "code",
   "execution_count": null,
   "metadata": {
    "cell_id": "a38291e5431f445f9a71613601c83526",
    "deepnote_cell_type": "code",
    "deepnote_to_be_reexecuted": false,
    "execution_millis": 9,
    "execution_start": 1700083205922,
    "source_hash": null
   },
   "outputs": [
    {
     "data": {
      "text/plain": [
       "array([[-0.10784061, -0.57168209],\n",
       "       [-0.2536906 ,  0.67608474],\n",
       "       [ 0.36153121, -0.10440267]])"
      ]
     },
     "execution_count": 15,
     "metadata": {},
     "output_type": "execute_result"
    }
   ],
   "source": [
    "clf.coef_"
   ]
  },
  {
   "cell_type": "markdown",
   "metadata": {
    "cell_id": "3a8018c342de4244b16bd63ef7c247d6",
    "deepnote_cell_type": "markdown"
   },
   "source": [
    "Remember how the order of `False` and `True` above was important.  Here the order of the penguin species is also important."
   ]
  },
  {
   "cell_type": "code",
   "execution_count": null,
   "metadata": {
    "cell_id": "a3426f57b3e64117aa4ca7ac84a930d3",
    "deepnote_cell_type": "code",
    "deepnote_to_be_reexecuted": false,
    "execution_millis": 7,
    "execution_start": 1700083235739,
    "source_hash": null
   },
   "outputs": [
    {
     "data": {
      "text/plain": [
       "array(['Adelie', 'Chinstrap', 'Gentoo'], dtype=object)"
      ]
     },
     "execution_count": 16,
     "metadata": {},
     "output_type": "execute_result"
    }
   ],
   "source": [
    "clf.classes_"
   ]
  },
  {
   "cell_type": "markdown",
   "metadata": {
    "cell_id": "145fac970c754a34aeea575292c236f1",
    "deepnote_cell_type": "markdown"
   },
   "source": [
    "Here are the predicted probabilities for that \"incorrect\" row `122` from above. (We know the middle number corresponds to Chinstrap, by looking at the order of the values in `clf.classes_`.)"
   ]
  },
  {
   "cell_type": "code",
   "execution_count": null,
   "metadata": {
    "cell_id": "f3661486adc7454789e8ed14d6686776",
    "deepnote_cell_type": "code",
    "deepnote_to_be_reexecuted": false,
    "execution_millis": 9,
    "execution_start": 1700083384646,
    "source_hash": null
   },
   "outputs": [
    {
     "data": {
      "text/plain": [
       "array([[9.14508321e-01, 8.54914364e-02, 2.42247434e-07]])"
      ]
     },
     "execution_count": 17,
     "metadata": {},
     "output_type": "execute_result"
    }
   ],
   "source": [
    "clf.predict_proba(df.loc[[122],cols])"
   ]
  },
  {
   "cell_type": "code",
   "execution_count": null,
   "metadata": {
    "cell_id": "9cf945a012c04f9eb82909063eba790b",
    "deepnote_cell_type": "code",
    "deepnote_to_be_reexecuted": false,
    "execution_millis": 8,
    "execution_start": 1700083453615,
    "source_hash": null
   },
   "outputs": [
    {
     "data": {
      "text/plain": [
       "species                 Adelie\n",
       "island               Torgersen\n",
       "bill_length_mm            40.2\n",
       "bill_depth_mm             17.0\n",
       "flipper_length_mm        176.0\n",
       "body_mass_g             3450.0\n",
       "sex                     Female\n",
       "isChinstrap              False\n",
       "Name: 122, dtype: object"
      ]
     },
     "execution_count": 19,
     "metadata": {},
     "output_type": "execute_result"
    }
   ],
   "source": [
    "df.loc[122,:]"
   ]
  },
  {
   "cell_type": "markdown",
   "metadata": {
    "cell_id": "87ef0e9d47944bd2831746f008a80954",
    "deepnote_cell_type": "markdown"
   },
   "source": [
    "Here is what it looks like if we evaluate the `predict_proba` method on a 4-row sub-DataFrame.  Notice how the output has four rows also and three columns (one column for each target class)."
   ]
  },
  {
   "cell_type": "code",
   "execution_count": null,
   "metadata": {
    "cell_id": "8765855b515143ae8536fe3227508c1f",
    "deepnote_cell_type": "code",
    "deepnote_to_be_reexecuted": false,
    "execution_millis": 7,
    "execution_start": 1700083519370,
    "source_hash": null
   },
   "outputs": [
    {
     "data": {
      "text/plain": [
       "array([[9.97326453e-01, 1.66458507e-04, 2.50708838e-03],\n",
       "       [9.14508321e-01, 8.54914364e-02, 2.42247434e-07],\n",
       "       [9.07428478e-01, 8.54943022e-03, 8.40220913e-02],\n",
       "       [9.99954759e-01, 4.24429522e-05, 2.79784347e-06]])"
      ]
     },
     "execution_count": 20,
     "metadata": {},
     "output_type": "execute_result"
    }
   ],
   "source": [
    "clf.predict_proba(df.loc[121:124,cols])"
   ]
  },
  {
   "cell_type": "markdown",
   "metadata": {
    "cell_id": "58384ad4961e4c37b06289f4a80e6e46",
    "deepnote_cell_type": "markdown"
   },
   "source": [
    "* Add a column \"pred\" to `df` containing the predicted values."
   ]
  },
  {
   "cell_type": "code",
   "execution_count": null,
   "metadata": {
    "cell_id": "95c89a424b2f4d979c45296f82aedd00",
    "deepnote_cell_type": "code",
    "deepnote_to_be_reexecuted": false,
    "execution_millis": 8,
    "execution_start": 1700083579378,
    "source_hash": null
   },
   "outputs": [],
   "source": [
    "df['pred'] = clf.predict(df[cols])"
   ]
  },
  {
   "cell_type": "markdown",
   "metadata": {
    "cell_id": "84161e1f78a240899bdcecd679c4ad12",
    "deepnote_cell_type": "markdown"
   },
   "source": [
    "Notice how the \"pred\" column at the far right contains penguin species strings.  So the `predict` method can output strings, not just numbers or Boolean values."
   ]
  },
  {
   "cell_type": "code",
   "execution_count": null,
   "metadata": {
    "cell_id": "320ceba8d1bc4c19832cf6db0c4dbed0",
    "deepnote_cell_type": "code",
    "deepnote_to_be_reexecuted": false,
    "execution_millis": 31,
    "execution_start": 1700083586775,
    "source_hash": null
   },
   "outputs": [
    {
     "data": {
      "application/vnd.deepnote.dataframe.v3+json": {
       "column_count": 9,
       "columns": [
        {
         "dtype": "object",
         "name": "species",
         "stats": {
          "categories": [
           {
            "count": 146,
            "name": "Adelie"
           },
           {
            "count": 119,
            "name": "Gentoo"
           },
           {
            "count": 68,
            "name": "Chinstrap"
           }
          ],
          "nan_count": 0,
          "unique_count": 3
         }
        },
        {
         "dtype": "object",
         "name": "island",
         "stats": {
          "categories": [
           {
            "count": 163,
            "name": "Biscoe"
           },
           {
            "count": 123,
            "name": "Dream"
           },
           {
            "count": 47,
            "name": "Torgersen"
           }
          ],
          "nan_count": 0,
          "unique_count": 3
         }
        },
        {
         "dtype": "float64",
         "name": "bill_length_mm",
         "stats": {
          "histogram": [
           {
            "bin_end": 34.85,
            "bin_start": 32.1,
            "count": 8
           },
           {
            "bin_end": 37.6,
            "bin_start": 34.85,
            "count": 39
           },
           {
            "bin_end": 40.35,
            "bin_start": 37.6,
            "count": 55
           },
           {
            "bin_end": 43.1,
            "bin_start": 40.35,
            "count": 47
           },
           {
            "bin_end": 45.85,
            "bin_start": 43.1,
            "count": 47
           },
           {
            "bin_end": 48.6,
            "bin_start": 45.85,
            "count": 53
           },
           {
            "bin_end": 51.35,
            "bin_start": 48.6,
            "count": 61
           },
           {
            "bin_end": 54.1,
            "bin_start": 51.35,
            "count": 16
           },
           {
            "bin_end": 56.85,
            "bin_start": 54.1,
            "count": 5
           },
           {
            "bin_end": 59.6,
            "bin_start": 56.85,
            "count": 2
           }
          ],
          "max": "59.6",
          "min": "32.1",
          "nan_count": 0,
          "unique_count": 163
         }
        },
        {
         "dtype": "float64",
         "name": "bill_depth_mm",
         "stats": {
          "histogram": [
           {
            "bin_end": 13.94,
            "bin_start": 13.1,
            "count": 20
           },
           {
            "bin_end": 14.78,
            "bin_start": 13.94,
            "count": 33
           },
           {
            "bin_end": 15.620000000000001,
            "bin_start": 14.78,
            "count": 32
           },
           {
            "bin_end": 16.46,
            "bin_start": 15.620000000000001,
            "count": 33
           },
           {
            "bin_end": 17.3,
            "bin_start": 16.46,
            "count": 43
           },
           {
            "bin_end": 18.14,
            "bin_start": 17.3,
            "count": 53
           },
           {
            "bin_end": 18.98,
            "bin_start": 18.14,
            "count": 55
           },
           {
            "bin_end": 19.82,
            "bin_start": 18.98,
            "count": 39
           },
           {
            "bin_end": 20.66,
            "bin_start": 19.82,
            "count": 15
           },
           {
            "bin_end": 21.5,
            "bin_start": 20.66,
            "count": 10
           }
          ],
          "max": "21.5",
          "min": "13.1",
          "nan_count": 0,
          "unique_count": 79
         }
        },
        {
         "dtype": "float64",
         "name": "flipper_length_mm",
         "stats": {
          "histogram": [
           {
            "bin_end": 177.9,
            "bin_start": 172,
            "count": 3
           },
           {
            "bin_end": 183.8,
            "bin_start": 177.9,
            "count": 20
           },
           {
            "bin_end": 189.7,
            "bin_start": 183.8,
            "count": 51
           },
           {
            "bin_end": 195.6,
            "bin_start": 189.7,
            "count": 77
           },
           {
            "bin_end": 201.5,
            "bin_start": 195.6,
            "count": 44
           },
           {
            "bin_end": 207.4,
            "bin_start": 201.5,
            "count": 15
           },
           {
            "bin_end": 213.3,
            "bin_start": 207.4,
            "count": 42
           },
           {
            "bin_end": 219.2,
            "bin_start": 213.3,
            "count": 38
           },
           {
            "bin_end": 225.1,
            "bin_start": 219.2,
            "count": 28
           },
           {
            "bin_end": 231,
            "bin_start": 225.1,
            "count": 15
           }
          ],
          "max": "231.0",
          "min": "172.0",
          "nan_count": 0,
          "unique_count": 54
         }
        },
        {
         "dtype": "float64",
         "name": "body_mass_g",
         "stats": {
          "histogram": [
           {
            "bin_end": 3060,
            "bin_start": 2700,
            "count": 14
           },
           {
            "bin_end": 3420,
            "bin_start": 3060,
            "count": 42
           },
           {
            "bin_end": 3780,
            "bin_start": 3420,
            "count": 69
           },
           {
            "bin_end": 4140,
            "bin_start": 3780,
            "count": 52
           },
           {
            "bin_end": 4500,
            "bin_start": 4140,
            "count": 41
           },
           {
            "bin_end": 4860,
            "bin_start": 4500,
            "count": 39
           },
           {
            "bin_end": 5220,
            "bin_start": 4860,
            "count": 27
           },
           {
            "bin_end": 5580,
            "bin_start": 5220,
            "count": 27
           },
           {
            "bin_end": 5940,
            "bin_start": 5580,
            "count": 16
           },
           {
            "bin_end": 6300,
            "bin_start": 5940,
            "count": 6
           }
          ],
          "max": "6300.0",
          "min": "2700.0",
          "nan_count": 0,
          "unique_count": 93
         }
        },
        {
         "dtype": "object",
         "name": "sex",
         "stats": {
          "categories": [
           {
            "count": 168,
            "name": "Male"
           },
           {
            "count": 165,
            "name": "Female"
           }
          ],
          "nan_count": 0,
          "unique_count": 2
         }
        },
        {
         "dtype": "bool",
         "name": "isChinstrap",
         "stats": {
          "categories": [
           {
            "count": 265,
            "name": "False"
           },
           {
            "count": 68,
            "name": "True"
           }
          ],
          "nan_count": 0,
          "unique_count": 2
         }
        },
        {
         "dtype": "object",
         "name": "pred",
         "stats": {
          "categories": [
           {
            "count": 147,
            "name": "Adelie"
           },
           {
            "count": 122,
            "name": "Gentoo"
           },
           {
            "count": 64,
            "name": "Chinstrap"
           }
          ],
          "nan_count": 0,
          "unique_count": 3
         }
        },
        {
         "dtype": "int64",
         "name": "_deepnote_index_column"
        }
       ],
       "row_count": 333,
       "rows": [
        {
         "_deepnote_index_column": 0,
         "bill_depth_mm": 18.7,
         "bill_length_mm": 39.1,
         "body_mass_g": 3750,
         "flipper_length_mm": 181,
         "isChinstrap": "False",
         "island": "Torgersen",
         "pred": "Adelie",
         "sex": "Male",
         "species": "Adelie"
        },
        {
         "_deepnote_index_column": 1,
         "bill_depth_mm": 17.4,
         "bill_length_mm": 39.5,
         "body_mass_g": 3800,
         "flipper_length_mm": 186,
         "isChinstrap": "False",
         "island": "Torgersen",
         "pred": "Adelie",
         "sex": "Female",
         "species": "Adelie"
        },
        {
         "_deepnote_index_column": 2,
         "bill_depth_mm": 18,
         "bill_length_mm": 40.3,
         "body_mass_g": 3250,
         "flipper_length_mm": 195,
         "isChinstrap": "False",
         "island": "Torgersen",
         "pred": "Adelie",
         "sex": "Female",
         "species": "Adelie"
        },
        {
         "_deepnote_index_column": 4,
         "bill_depth_mm": 19.3,
         "bill_length_mm": 36.7,
         "body_mass_g": 3450,
         "flipper_length_mm": 193,
         "isChinstrap": "False",
         "island": "Torgersen",
         "pred": "Adelie",
         "sex": "Female",
         "species": "Adelie"
        },
        {
         "_deepnote_index_column": 5,
         "bill_depth_mm": 20.6,
         "bill_length_mm": 39.3,
         "body_mass_g": 3650,
         "flipper_length_mm": 190,
         "isChinstrap": "False",
         "island": "Torgersen",
         "pred": "Adelie",
         "sex": "Male",
         "species": "Adelie"
        },
        {
         "_deepnote_index_column": 6,
         "bill_depth_mm": 17.8,
         "bill_length_mm": 38.9,
         "body_mass_g": 3625,
         "flipper_length_mm": 181,
         "isChinstrap": "False",
         "island": "Torgersen",
         "pred": "Adelie",
         "sex": "Female",
         "species": "Adelie"
        },
        {
         "_deepnote_index_column": 7,
         "bill_depth_mm": 19.6,
         "bill_length_mm": 39.2,
         "body_mass_g": 4675,
         "flipper_length_mm": 195,
         "isChinstrap": "False",
         "island": "Torgersen",
         "pred": "Adelie",
         "sex": "Male",
         "species": "Adelie"
        },
        {
         "_deepnote_index_column": 12,
         "bill_depth_mm": 17.6,
         "bill_length_mm": 41.1,
         "body_mass_g": 3200,
         "flipper_length_mm": 182,
         "isChinstrap": "False",
         "island": "Torgersen",
         "pred": "Adelie",
         "sex": "Female",
         "species": "Adelie"
        },
        {
         "_deepnote_index_column": 13,
         "bill_depth_mm": 21.2,
         "bill_length_mm": 38.6,
         "body_mass_g": 3800,
         "flipper_length_mm": 191,
         "isChinstrap": "False",
         "island": "Torgersen",
         "pred": "Adelie",
         "sex": "Male",
         "species": "Adelie"
        },
        {
         "_deepnote_index_column": 14,
         "bill_depth_mm": 21.1,
         "bill_length_mm": 34.6,
         "body_mass_g": 4400,
         "flipper_length_mm": 198,
         "isChinstrap": "False",
         "island": "Torgersen",
         "pred": "Adelie",
         "sex": "Male",
         "species": "Adelie"
        }
       ]
      },
      "text/html": [
       "<div>\n",
       "<style scoped>\n",
       "    .dataframe tbody tr th:only-of-type {\n",
       "        vertical-align: middle;\n",
       "    }\n",
       "\n",
       "    .dataframe tbody tr th {\n",
       "        vertical-align: top;\n",
       "    }\n",
       "\n",
       "    .dataframe thead th {\n",
       "        text-align: right;\n",
       "    }\n",
       "</style>\n",
       "<table border=\"1\" class=\"dataframe\">\n",
       "  <thead>\n",
       "    <tr style=\"text-align: right;\">\n",
       "      <th></th>\n",
       "      <th>species</th>\n",
       "      <th>island</th>\n",
       "      <th>bill_length_mm</th>\n",
       "      <th>bill_depth_mm</th>\n",
       "      <th>flipper_length_mm</th>\n",
       "      <th>body_mass_g</th>\n",
       "      <th>sex</th>\n",
       "      <th>isChinstrap</th>\n",
       "      <th>pred</th>\n",
       "    </tr>\n",
       "  </thead>\n",
       "  <tbody>\n",
       "    <tr>\n",
       "      <th>0</th>\n",
       "      <td>Adelie</td>\n",
       "      <td>Torgersen</td>\n",
       "      <td>39.1</td>\n",
       "      <td>18.7</td>\n",
       "      <td>181.0</td>\n",
       "      <td>3750.0</td>\n",
       "      <td>Male</td>\n",
       "      <td>False</td>\n",
       "      <td>Adelie</td>\n",
       "    </tr>\n",
       "    <tr>\n",
       "      <th>1</th>\n",
       "      <td>Adelie</td>\n",
       "      <td>Torgersen</td>\n",
       "      <td>39.5</td>\n",
       "      <td>17.4</td>\n",
       "      <td>186.0</td>\n",
       "      <td>3800.0</td>\n",
       "      <td>Female</td>\n",
       "      <td>False</td>\n",
       "      <td>Adelie</td>\n",
       "    </tr>\n",
       "    <tr>\n",
       "      <th>2</th>\n",
       "      <td>Adelie</td>\n",
       "      <td>Torgersen</td>\n",
       "      <td>40.3</td>\n",
       "      <td>18.0</td>\n",
       "      <td>195.0</td>\n",
       "      <td>3250.0</td>\n",
       "      <td>Female</td>\n",
       "      <td>False</td>\n",
       "      <td>Adelie</td>\n",
       "    </tr>\n",
       "    <tr>\n",
       "      <th>4</th>\n",
       "      <td>Adelie</td>\n",
       "      <td>Torgersen</td>\n",
       "      <td>36.7</td>\n",
       "      <td>19.3</td>\n",
       "      <td>193.0</td>\n",
       "      <td>3450.0</td>\n",
       "      <td>Female</td>\n",
       "      <td>False</td>\n",
       "      <td>Adelie</td>\n",
       "    </tr>\n",
       "    <tr>\n",
       "      <th>5</th>\n",
       "      <td>Adelie</td>\n",
       "      <td>Torgersen</td>\n",
       "      <td>39.3</td>\n",
       "      <td>20.6</td>\n",
       "      <td>190.0</td>\n",
       "      <td>3650.0</td>\n",
       "      <td>Male</td>\n",
       "      <td>False</td>\n",
       "      <td>Adelie</td>\n",
       "    </tr>\n",
       "    <tr>\n",
       "      <th>...</th>\n",
       "      <td>...</td>\n",
       "      <td>...</td>\n",
       "      <td>...</td>\n",
       "      <td>...</td>\n",
       "      <td>...</td>\n",
       "      <td>...</td>\n",
       "      <td>...</td>\n",
       "      <td>...</td>\n",
       "      <td>...</td>\n",
       "    </tr>\n",
       "    <tr>\n",
       "      <th>338</th>\n",
       "      <td>Gentoo</td>\n",
       "      <td>Biscoe</td>\n",
       "      <td>47.2</td>\n",
       "      <td>13.7</td>\n",
       "      <td>214.0</td>\n",
       "      <td>4925.0</td>\n",
       "      <td>Female</td>\n",
       "      <td>False</td>\n",
       "      <td>Gentoo</td>\n",
       "    </tr>\n",
       "    <tr>\n",
       "      <th>340</th>\n",
       "      <td>Gentoo</td>\n",
       "      <td>Biscoe</td>\n",
       "      <td>46.8</td>\n",
       "      <td>14.3</td>\n",
       "      <td>215.0</td>\n",
       "      <td>4850.0</td>\n",
       "      <td>Female</td>\n",
       "      <td>False</td>\n",
       "      <td>Gentoo</td>\n",
       "    </tr>\n",
       "    <tr>\n",
       "      <th>341</th>\n",
       "      <td>Gentoo</td>\n",
       "      <td>Biscoe</td>\n",
       "      <td>50.4</td>\n",
       "      <td>15.7</td>\n",
       "      <td>222.0</td>\n",
       "      <td>5750.0</td>\n",
       "      <td>Male</td>\n",
       "      <td>False</td>\n",
       "      <td>Gentoo</td>\n",
       "    </tr>\n",
       "    <tr>\n",
       "      <th>342</th>\n",
       "      <td>Gentoo</td>\n",
       "      <td>Biscoe</td>\n",
       "      <td>45.2</td>\n",
       "      <td>14.8</td>\n",
       "      <td>212.0</td>\n",
       "      <td>5200.0</td>\n",
       "      <td>Female</td>\n",
       "      <td>False</td>\n",
       "      <td>Gentoo</td>\n",
       "    </tr>\n",
       "    <tr>\n",
       "      <th>343</th>\n",
       "      <td>Gentoo</td>\n",
       "      <td>Biscoe</td>\n",
       "      <td>49.9</td>\n",
       "      <td>16.1</td>\n",
       "      <td>213.0</td>\n",
       "      <td>5400.0</td>\n",
       "      <td>Male</td>\n",
       "      <td>False</td>\n",
       "      <td>Gentoo</td>\n",
       "    </tr>\n",
       "  </tbody>\n",
       "</table>\n",
       "<p>333 rows × 9 columns</p>\n",
       "</div>"
      ],
      "text/plain": [
       "    species     island  bill_length_mm  bill_depth_mm  flipper_length_mm  \\\n",
       "0    Adelie  Torgersen            39.1           18.7              181.0   \n",
       "1    Adelie  Torgersen            39.5           17.4              186.0   \n",
       "2    Adelie  Torgersen            40.3           18.0              195.0   \n",
       "4    Adelie  Torgersen            36.7           19.3              193.0   \n",
       "5    Adelie  Torgersen            39.3           20.6              190.0   \n",
       "..      ...        ...             ...            ...                ...   \n",
       "338  Gentoo     Biscoe            47.2           13.7              214.0   \n",
       "340  Gentoo     Biscoe            46.8           14.3              215.0   \n",
       "341  Gentoo     Biscoe            50.4           15.7              222.0   \n",
       "342  Gentoo     Biscoe            45.2           14.8              212.0   \n",
       "343  Gentoo     Biscoe            49.9           16.1              213.0   \n",
       "\n",
       "     body_mass_g     sex  isChinstrap    pred  \n",
       "0         3750.0    Male        False  Adelie  \n",
       "1         3800.0  Female        False  Adelie  \n",
       "2         3250.0  Female        False  Adelie  \n",
       "4         3450.0  Female        False  Adelie  \n",
       "5         3650.0    Male        False  Adelie  \n",
       "..           ...     ...          ...     ...  \n",
       "338       4925.0  Female        False  Gentoo  \n",
       "340       4850.0  Female        False  Gentoo  \n",
       "341       5750.0    Male        False  Gentoo  \n",
       "342       5200.0  Female        False  Gentoo  \n",
       "343       5400.0    Male        False  Gentoo  \n",
       "\n",
       "[333 rows x 9 columns]"
      ]
     },
     "execution_count": 22,
     "metadata": {},
     "output_type": "execute_result"
    }
   ],
   "source": [
    "df"
   ]
  },
  {
   "cell_type": "markdown",
   "metadata": {
    "cell_id": "0c6741a5a87242a792c2fd15ffb79ad4",
    "deepnote_cell_type": "markdown"
   },
   "source": [
    "* Make an Altair scatter plot showing the predicted values.\n",
    "\n",
    "The portion where the model switches from one prediction to another prediction is called the \"decision boundary\".  It's hard to recognize the decision boundary in this picture, because there is so much empty space."
   ]
  },
  {
   "cell_type": "code",
   "execution_count": null,
   "metadata": {
    "cell_id": "0ef454c85a55409cba8ef050cc4e3342",
    "deepnote_cell_type": "code",
    "deepnote_to_be_reexecuted": false,
    "execution_millis": 52,
    "execution_start": 1700083815323,
    "source_hash": null
   },
   "outputs": [
    {
     "data": {
      "text/html": [
       "\n",
       "<div id=\"altair-viz-519a447fc33b47e89ec7dfe359152273\"></div>\n",
       "<script type=\"text/javascript\">\n",
       "  var VEGA_DEBUG = (typeof VEGA_DEBUG == \"undefined\") ? {} : VEGA_DEBUG;\n",
       "  (function(spec, embedOpt){\n",
       "    let outputDiv = document.currentScript.previousElementSibling;\n",
       "    if (outputDiv.id !== \"altair-viz-519a447fc33b47e89ec7dfe359152273\") {\n",
       "      outputDiv = document.getElementById(\"altair-viz-519a447fc33b47e89ec7dfe359152273\");\n",
       "    }\n",
       "    const paths = {\n",
       "      \"vega\": \"https://cdn.jsdelivr.net/npm//vega@5?noext\",\n",
       "      \"vega-lib\": \"https://cdn.jsdelivr.net/npm//vega-lib?noext\",\n",
       "      \"vega-lite\": \"https://cdn.jsdelivr.net/npm//vega-lite@4.17.0?noext\",\n",
       "      \"vega-embed\": \"https://cdn.jsdelivr.net/npm//vega-embed@6?noext\",\n",
       "    };\n",
       "\n",
       "    function maybeLoadScript(lib, version) {\n",
       "      var key = `${lib.replace(\"-\", \"\")}_version`;\n",
       "      return (VEGA_DEBUG[key] == version) ?\n",
       "        Promise.resolve(paths[lib]) :\n",
       "        new Promise(function(resolve, reject) {\n",
       "          var s = document.createElement('script');\n",
       "          document.getElementsByTagName(\"head\")[0].appendChild(s);\n",
       "          s.async = true;\n",
       "          s.onload = () => {\n",
       "            VEGA_DEBUG[key] = version;\n",
       "            return resolve(paths[lib]);\n",
       "          };\n",
       "          s.onerror = () => reject(`Error loading script: ${paths[lib]}`);\n",
       "          s.src = paths[lib];\n",
       "        });\n",
       "    }\n",
       "\n",
       "    function showError(err) {\n",
       "      outputDiv.innerHTML = `<div class=\"error\" style=\"color:red;\">${err}</div>`;\n",
       "      throw err;\n",
       "    }\n",
       "\n",
       "    function displayChart(vegaEmbed) {\n",
       "      vegaEmbed(outputDiv, spec, embedOpt)\n",
       "        .catch(err => showError(`Javascript Error: ${err.message}<br>This usually means there's a typo in your chart specification. See the javascript console for the full traceback.`));\n",
       "    }\n",
       "\n",
       "    if(typeof define === \"function\" && define.amd) {\n",
       "      requirejs.config({paths});\n",
       "      require([\"vega-embed\"], displayChart, err => showError(`Error loading script: ${err.message}`));\n",
       "    } else {\n",
       "      maybeLoadScript(\"vega\", \"5\")\n",
       "        .then(() => maybeLoadScript(\"vega-lite\", \"4.17.0\"))\n",
       "        .then(() => maybeLoadScript(\"vega-embed\", \"6\"))\n",
       "        .catch(showError)\n",
       "        .then(() => displayChart(vegaEmbed));\n",
       "    }\n",
       "  })({\"config\": {\"view\": {\"continuousWidth\": 400, \"continuousHeight\": 300}}, \"data\": {\"name\": \"data-27d1a44d445a56ec7a59eaa945d29753\"}, \"mark\": \"circle\", \"encoding\": {\"color\": {\"field\": \"pred\", \"type\": \"nominal\"}, \"x\": {\"field\": \"flipper_length_mm\", \"scale\": {\"zero\": false}, \"type\": \"quantitative\"}, \"y\": {\"field\": \"bill_length_mm\", \"scale\": {\"zero\": false}, \"type\": \"quantitative\"}}, \"$schema\": \"https://vega.github.io/schema/vega-lite/v4.17.0.json\", \"datasets\": {\"data-27d1a44d445a56ec7a59eaa945d29753\": [{\"species\": \"Adelie\", \"island\": \"Torgersen\", \"bill_length_mm\": 39.1, \"bill_depth_mm\": 18.7, \"flipper_length_mm\": 181.0, \"body_mass_g\": 3750.0, \"sex\": \"Male\", \"isChinstrap\": false, \"pred\": \"Adelie\"}, {\"species\": \"Adelie\", \"island\": \"Torgersen\", \"bill_length_mm\": 39.5, \"bill_depth_mm\": 17.4, \"flipper_length_mm\": 186.0, \"body_mass_g\": 3800.0, \"sex\": \"Female\", \"isChinstrap\": false, \"pred\": \"Adelie\"}, {\"species\": \"Adelie\", \"island\": \"Torgersen\", \"bill_length_mm\": 40.3, \"bill_depth_mm\": 18.0, \"flipper_length_mm\": 195.0, \"body_mass_g\": 3250.0, \"sex\": \"Female\", \"isChinstrap\": false, \"pred\": \"Adelie\"}, {\"species\": \"Adelie\", \"island\": \"Torgersen\", \"bill_length_mm\": 36.7, \"bill_depth_mm\": 19.3, \"flipper_length_mm\": 193.0, \"body_mass_g\": 3450.0, \"sex\": \"Female\", \"isChinstrap\": false, \"pred\": \"Adelie\"}, {\"species\": \"Adelie\", \"island\": \"Torgersen\", \"bill_length_mm\": 39.3, \"bill_depth_mm\": 20.6, \"flipper_length_mm\": 190.0, \"body_mass_g\": 3650.0, \"sex\": \"Male\", \"isChinstrap\": false, \"pred\": \"Adelie\"}, {\"species\": \"Adelie\", \"island\": \"Torgersen\", \"bill_length_mm\": 38.9, \"bill_depth_mm\": 17.8, \"flipper_length_mm\": 181.0, \"body_mass_g\": 3625.0, \"sex\": \"Female\", \"isChinstrap\": false, \"pred\": \"Adelie\"}, {\"species\": \"Adelie\", \"island\": \"Torgersen\", \"bill_length_mm\": 39.2, \"bill_depth_mm\": 19.6, \"flipper_length_mm\": 195.0, \"body_mass_g\": 4675.0, \"sex\": \"Male\", \"isChinstrap\": false, \"pred\": \"Adelie\"}, {\"species\": \"Adelie\", \"island\": \"Torgersen\", \"bill_length_mm\": 41.1, \"bill_depth_mm\": 17.6, \"flipper_length_mm\": 182.0, \"body_mass_g\": 3200.0, \"sex\": \"Female\", \"isChinstrap\": false, \"pred\": \"Adelie\"}, {\"species\": \"Adelie\", \"island\": \"Torgersen\", \"bill_length_mm\": 38.6, \"bill_depth_mm\": 21.2, \"flipper_length_mm\": 191.0, \"body_mass_g\": 3800.0, \"sex\": \"Male\", \"isChinstrap\": false, \"pred\": \"Adelie\"}, {\"species\": \"Adelie\", \"island\": \"Torgersen\", \"bill_length_mm\": 34.6, \"bill_depth_mm\": 21.1, \"flipper_length_mm\": 198.0, \"body_mass_g\": 4400.0, \"sex\": \"Male\", \"isChinstrap\": false, \"pred\": \"Adelie\"}, {\"species\": \"Adelie\", \"island\": \"Torgersen\", \"bill_length_mm\": 36.6, \"bill_depth_mm\": 17.8, \"flipper_length_mm\": 185.0, \"body_mass_g\": 3700.0, \"sex\": \"Female\", \"isChinstrap\": false, \"pred\": \"Adelie\"}, {\"species\": \"Adelie\", \"island\": \"Torgersen\", \"bill_length_mm\": 38.7, \"bill_depth_mm\": 19.0, \"flipper_length_mm\": 195.0, \"body_mass_g\": 3450.0, \"sex\": \"Female\", \"isChinstrap\": false, \"pred\": \"Adelie\"}, {\"species\": \"Adelie\", \"island\": \"Torgersen\", \"bill_length_mm\": 42.5, \"bill_depth_mm\": 20.7, \"flipper_length_mm\": 197.0, \"body_mass_g\": 4500.0, \"sex\": \"Male\", \"isChinstrap\": false, \"pred\": \"Adelie\"}, {\"species\": \"Adelie\", \"island\": \"Torgersen\", \"bill_length_mm\": 34.4, \"bill_depth_mm\": 18.4, \"flipper_length_mm\": 184.0, \"body_mass_g\": 3325.0, \"sex\": \"Female\", \"isChinstrap\": false, \"pred\": \"Adelie\"}, {\"species\": \"Adelie\", \"island\": \"Torgersen\", \"bill_length_mm\": 46.0, \"bill_depth_mm\": 21.5, \"flipper_length_mm\": 194.0, \"body_mass_g\": 4200.0, \"sex\": \"Male\", \"isChinstrap\": false, \"pred\": \"Chinstrap\"}, {\"species\": \"Adelie\", \"island\": \"Biscoe\", \"bill_length_mm\": 37.8, \"bill_depth_mm\": 18.3, \"flipper_length_mm\": 174.0, \"body_mass_g\": 3400.0, \"sex\": \"Female\", \"isChinstrap\": false, \"pred\": \"Adelie\"}, {\"species\": \"Adelie\", \"island\": \"Biscoe\", \"bill_length_mm\": 37.7, \"bill_depth_mm\": 18.7, \"flipper_length_mm\": 180.0, \"body_mass_g\": 3600.0, \"sex\": \"Male\", \"isChinstrap\": false, \"pred\": \"Adelie\"}, {\"species\": \"Adelie\", \"island\": \"Biscoe\", \"bill_length_mm\": 35.9, \"bill_depth_mm\": 19.2, \"flipper_length_mm\": 189.0, \"body_mass_g\": 3800.0, \"sex\": \"Female\", \"isChinstrap\": false, \"pred\": \"Adelie\"}, {\"species\": \"Adelie\", \"island\": \"Biscoe\", \"bill_length_mm\": 38.2, \"bill_depth_mm\": 18.1, \"flipper_length_mm\": 185.0, \"body_mass_g\": 3950.0, \"sex\": \"Male\", \"isChinstrap\": false, \"pred\": \"Adelie\"}, {\"species\": \"Adelie\", \"island\": \"Biscoe\", \"bill_length_mm\": 38.8, \"bill_depth_mm\": 17.2, \"flipper_length_mm\": 180.0, \"body_mass_g\": 3800.0, \"sex\": \"Male\", \"isChinstrap\": false, \"pred\": \"Adelie\"}, {\"species\": \"Adelie\", \"island\": \"Biscoe\", \"bill_length_mm\": 35.3, \"bill_depth_mm\": 18.9, \"flipper_length_mm\": 187.0, \"body_mass_g\": 3800.0, \"sex\": \"Female\", \"isChinstrap\": false, \"pred\": \"Adelie\"}, {\"species\": \"Adelie\", \"island\": \"Biscoe\", \"bill_length_mm\": 40.6, \"bill_depth_mm\": 18.6, \"flipper_length_mm\": 183.0, \"body_mass_g\": 3550.0, \"sex\": \"Male\", \"isChinstrap\": false, \"pred\": \"Adelie\"}, {\"species\": \"Adelie\", \"island\": \"Biscoe\", \"bill_length_mm\": 40.5, \"bill_depth_mm\": 17.9, \"flipper_length_mm\": 187.0, \"body_mass_g\": 3200.0, \"sex\": \"Female\", \"isChinstrap\": false, \"pred\": \"Adelie\"}, {\"species\": \"Adelie\", \"island\": \"Biscoe\", \"bill_length_mm\": 37.9, \"bill_depth_mm\": 18.6, \"flipper_length_mm\": 172.0, \"body_mass_g\": 3150.0, \"sex\": \"Female\", \"isChinstrap\": false, \"pred\": \"Adelie\"}, {\"species\": \"Adelie\", \"island\": \"Biscoe\", \"bill_length_mm\": 40.5, \"bill_depth_mm\": 18.9, \"flipper_length_mm\": 180.0, \"body_mass_g\": 3950.0, \"sex\": \"Male\", \"isChinstrap\": false, \"pred\": \"Adelie\"}, {\"species\": \"Adelie\", \"island\": \"Dream\", \"bill_length_mm\": 39.5, \"bill_depth_mm\": 16.7, \"flipper_length_mm\": 178.0, \"body_mass_g\": 3250.0, \"sex\": \"Female\", \"isChinstrap\": false, \"pred\": \"Adelie\"}, {\"species\": \"Adelie\", \"island\": \"Dream\", \"bill_length_mm\": 37.2, \"bill_depth_mm\": 18.1, \"flipper_length_mm\": 178.0, \"body_mass_g\": 3900.0, \"sex\": \"Male\", \"isChinstrap\": false, \"pred\": \"Adelie\"}, {\"species\": \"Adelie\", \"island\": \"Dream\", \"bill_length_mm\": 39.5, \"bill_depth_mm\": 17.8, \"flipper_length_mm\": 188.0, \"body_mass_g\": 3300.0, \"sex\": \"Female\", \"isChinstrap\": false, \"pred\": \"Adelie\"}, {\"species\": \"Adelie\", \"island\": \"Dream\", \"bill_length_mm\": 40.9, \"bill_depth_mm\": 18.9, \"flipper_length_mm\": 184.0, \"body_mass_g\": 3900.0, \"sex\": \"Male\", \"isChinstrap\": false, \"pred\": \"Adelie\"}, {\"species\": \"Adelie\", \"island\": \"Dream\", \"bill_length_mm\": 36.4, \"bill_depth_mm\": 17.0, \"flipper_length_mm\": 195.0, \"body_mass_g\": 3325.0, \"sex\": \"Female\", \"isChinstrap\": false, \"pred\": \"Adelie\"}, {\"species\": \"Adelie\", \"island\": \"Dream\", \"bill_length_mm\": 39.2, \"bill_depth_mm\": 21.1, \"flipper_length_mm\": 196.0, \"body_mass_g\": 4150.0, \"sex\": \"Male\", \"isChinstrap\": false, \"pred\": \"Adelie\"}, {\"species\": \"Adelie\", \"island\": \"Dream\", \"bill_length_mm\": 38.8, \"bill_depth_mm\": 20.0, \"flipper_length_mm\": 190.0, \"body_mass_g\": 3950.0, \"sex\": \"Male\", \"isChinstrap\": false, \"pred\": \"Adelie\"}, {\"species\": \"Adelie\", \"island\": \"Dream\", \"bill_length_mm\": 42.2, \"bill_depth_mm\": 18.5, \"flipper_length_mm\": 180.0, \"body_mass_g\": 3550.0, \"sex\": \"Female\", \"isChinstrap\": false, \"pred\": \"Adelie\"}, {\"species\": \"Adelie\", \"island\": \"Dream\", \"bill_length_mm\": 37.6, \"bill_depth_mm\": 19.3, \"flipper_length_mm\": 181.0, \"body_mass_g\": 3300.0, \"sex\": \"Female\", \"isChinstrap\": false, \"pred\": \"Adelie\"}, {\"species\": \"Adelie\", \"island\": \"Dream\", \"bill_length_mm\": 39.8, \"bill_depth_mm\": 19.1, \"flipper_length_mm\": 184.0, \"body_mass_g\": 4650.0, \"sex\": \"Male\", \"isChinstrap\": false, \"pred\": \"Adelie\"}, {\"species\": \"Adelie\", \"island\": \"Dream\", \"bill_length_mm\": 36.5, \"bill_depth_mm\": 18.0, \"flipper_length_mm\": 182.0, \"body_mass_g\": 3150.0, \"sex\": \"Female\", \"isChinstrap\": false, \"pred\": \"Adelie\"}, {\"species\": \"Adelie\", \"island\": \"Dream\", \"bill_length_mm\": 40.8, \"bill_depth_mm\": 18.4, \"flipper_length_mm\": 195.0, \"body_mass_g\": 3900.0, \"sex\": \"Male\", \"isChinstrap\": false, \"pred\": \"Adelie\"}, {\"species\": \"Adelie\", \"island\": \"Dream\", \"bill_length_mm\": 36.0, \"bill_depth_mm\": 18.5, \"flipper_length_mm\": 186.0, \"body_mass_g\": 3100.0, \"sex\": \"Female\", \"isChinstrap\": false, \"pred\": \"Adelie\"}, {\"species\": \"Adelie\", \"island\": \"Dream\", \"bill_length_mm\": 44.1, \"bill_depth_mm\": 19.7, \"flipper_length_mm\": 196.0, \"body_mass_g\": 4400.0, \"sex\": \"Male\", \"isChinstrap\": false, \"pred\": \"Adelie\"}, {\"species\": \"Adelie\", \"island\": \"Dream\", \"bill_length_mm\": 37.0, \"bill_depth_mm\": 16.9, \"flipper_length_mm\": 185.0, \"body_mass_g\": 3000.0, \"sex\": \"Female\", \"isChinstrap\": false, \"pred\": \"Adelie\"}, {\"species\": \"Adelie\", \"island\": \"Dream\", \"bill_length_mm\": 39.6, \"bill_depth_mm\": 18.8, \"flipper_length_mm\": 190.0, \"body_mass_g\": 4600.0, \"sex\": \"Male\", \"isChinstrap\": false, \"pred\": \"Adelie\"}, {\"species\": \"Adelie\", \"island\": \"Dream\", \"bill_length_mm\": 41.1, \"bill_depth_mm\": 19.0, \"flipper_length_mm\": 182.0, \"body_mass_g\": 3425.0, \"sex\": \"Male\", \"isChinstrap\": false, \"pred\": \"Adelie\"}, {\"species\": \"Adelie\", \"island\": \"Dream\", \"bill_length_mm\": 36.0, \"bill_depth_mm\": 17.9, \"flipper_length_mm\": 190.0, \"body_mass_g\": 3450.0, \"sex\": \"Female\", \"isChinstrap\": false, \"pred\": \"Adelie\"}, {\"species\": \"Adelie\", \"island\": \"Dream\", \"bill_length_mm\": 42.3, \"bill_depth_mm\": 21.2, \"flipper_length_mm\": 191.0, \"body_mass_g\": 4150.0, \"sex\": \"Male\", \"isChinstrap\": false, \"pred\": \"Adelie\"}, {\"species\": \"Adelie\", \"island\": \"Biscoe\", \"bill_length_mm\": 39.6, \"bill_depth_mm\": 17.7, \"flipper_length_mm\": 186.0, \"body_mass_g\": 3500.0, \"sex\": \"Female\", \"isChinstrap\": false, \"pred\": \"Adelie\"}, {\"species\": \"Adelie\", \"island\": \"Biscoe\", \"bill_length_mm\": 40.1, \"bill_depth_mm\": 18.9, \"flipper_length_mm\": 188.0, \"body_mass_g\": 4300.0, \"sex\": \"Male\", \"isChinstrap\": false, \"pred\": \"Adelie\"}, {\"species\": \"Adelie\", \"island\": \"Biscoe\", \"bill_length_mm\": 35.0, \"bill_depth_mm\": 17.9, \"flipper_length_mm\": 190.0, \"body_mass_g\": 3450.0, \"sex\": \"Female\", \"isChinstrap\": false, \"pred\": \"Adelie\"}, {\"species\": \"Adelie\", \"island\": \"Biscoe\", \"bill_length_mm\": 42.0, \"bill_depth_mm\": 19.5, \"flipper_length_mm\": 200.0, \"body_mass_g\": 4050.0, \"sex\": \"Male\", \"isChinstrap\": false, \"pred\": \"Adelie\"}, {\"species\": \"Adelie\", \"island\": \"Biscoe\", \"bill_length_mm\": 34.5, \"bill_depth_mm\": 18.1, \"flipper_length_mm\": 187.0, \"body_mass_g\": 2900.0, \"sex\": \"Female\", \"isChinstrap\": false, \"pred\": \"Adelie\"}, {\"species\": \"Adelie\", \"island\": \"Biscoe\", \"bill_length_mm\": 41.4, \"bill_depth_mm\": 18.6, \"flipper_length_mm\": 191.0, \"body_mass_g\": 3700.0, \"sex\": \"Male\", \"isChinstrap\": false, \"pred\": \"Adelie\"}, {\"species\": \"Adelie\", \"island\": \"Biscoe\", \"bill_length_mm\": 39.0, \"bill_depth_mm\": 17.5, \"flipper_length_mm\": 186.0, \"body_mass_g\": 3550.0, \"sex\": \"Female\", \"isChinstrap\": false, \"pred\": \"Adelie\"}, {\"species\": \"Adelie\", \"island\": \"Biscoe\", \"bill_length_mm\": 40.6, \"bill_depth_mm\": 18.8, \"flipper_length_mm\": 193.0, \"body_mass_g\": 3800.0, \"sex\": \"Male\", \"isChinstrap\": false, \"pred\": \"Adelie\"}, {\"species\": \"Adelie\", \"island\": \"Biscoe\", \"bill_length_mm\": 36.5, \"bill_depth_mm\": 16.6, \"flipper_length_mm\": 181.0, \"body_mass_g\": 2850.0, \"sex\": \"Female\", \"isChinstrap\": false, \"pred\": \"Adelie\"}, {\"species\": \"Adelie\", \"island\": \"Biscoe\", \"bill_length_mm\": 37.6, \"bill_depth_mm\": 19.1, \"flipper_length_mm\": 194.0, \"body_mass_g\": 3750.0, \"sex\": \"Male\", \"isChinstrap\": false, \"pred\": \"Adelie\"}, {\"species\": \"Adelie\", \"island\": \"Biscoe\", \"bill_length_mm\": 35.7, \"bill_depth_mm\": 16.9, \"flipper_length_mm\": 185.0, \"body_mass_g\": 3150.0, \"sex\": \"Female\", \"isChinstrap\": false, \"pred\": \"Adelie\"}, {\"species\": \"Adelie\", \"island\": \"Biscoe\", \"bill_length_mm\": 41.3, \"bill_depth_mm\": 21.1, \"flipper_length_mm\": 195.0, \"body_mass_g\": 4400.0, \"sex\": \"Male\", \"isChinstrap\": false, \"pred\": \"Adelie\"}, {\"species\": \"Adelie\", \"island\": \"Biscoe\", \"bill_length_mm\": 37.6, \"bill_depth_mm\": 17.0, \"flipper_length_mm\": 185.0, \"body_mass_g\": 3600.0, \"sex\": \"Female\", \"isChinstrap\": false, \"pred\": \"Adelie\"}, {\"species\": \"Adelie\", \"island\": \"Biscoe\", \"bill_length_mm\": 41.1, \"bill_depth_mm\": 18.2, \"flipper_length_mm\": 192.0, \"body_mass_g\": 4050.0, \"sex\": \"Male\", \"isChinstrap\": false, \"pred\": \"Adelie\"}, {\"species\": \"Adelie\", \"island\": \"Biscoe\", \"bill_length_mm\": 36.4, \"bill_depth_mm\": 17.1, \"flipper_length_mm\": 184.0, \"body_mass_g\": 2850.0, \"sex\": \"Female\", \"isChinstrap\": false, \"pred\": \"Adelie\"}, {\"species\": \"Adelie\", \"island\": \"Biscoe\", \"bill_length_mm\": 41.6, \"bill_depth_mm\": 18.0, \"flipper_length_mm\": 192.0, \"body_mass_g\": 3950.0, \"sex\": \"Male\", \"isChinstrap\": false, \"pred\": \"Adelie\"}, {\"species\": \"Adelie\", \"island\": \"Biscoe\", \"bill_length_mm\": 35.5, \"bill_depth_mm\": 16.2, \"flipper_length_mm\": 195.0, \"body_mass_g\": 3350.0, \"sex\": \"Female\", \"isChinstrap\": false, \"pred\": \"Adelie\"}, {\"species\": \"Adelie\", \"island\": \"Biscoe\", \"bill_length_mm\": 41.1, \"bill_depth_mm\": 19.1, \"flipper_length_mm\": 188.0, \"body_mass_g\": 4100.0, \"sex\": \"Male\", \"isChinstrap\": false, \"pred\": \"Adelie\"}, {\"species\": \"Adelie\", \"island\": \"Torgersen\", \"bill_length_mm\": 35.9, \"bill_depth_mm\": 16.6, \"flipper_length_mm\": 190.0, \"body_mass_g\": 3050.0, \"sex\": \"Female\", \"isChinstrap\": false, \"pred\": \"Adelie\"}, {\"species\": \"Adelie\", \"island\": \"Torgersen\", \"bill_length_mm\": 41.8, \"bill_depth_mm\": 19.4, \"flipper_length_mm\": 198.0, \"body_mass_g\": 4450.0, \"sex\": \"Male\", \"isChinstrap\": false, \"pred\": \"Adelie\"}, {\"species\": \"Adelie\", \"island\": \"Torgersen\", \"bill_length_mm\": 33.5, \"bill_depth_mm\": 19.0, \"flipper_length_mm\": 190.0, \"body_mass_g\": 3600.0, \"sex\": \"Female\", \"isChinstrap\": false, \"pred\": \"Adelie\"}, {\"species\": \"Adelie\", \"island\": \"Torgersen\", \"bill_length_mm\": 39.7, \"bill_depth_mm\": 18.4, \"flipper_length_mm\": 190.0, \"body_mass_g\": 3900.0, \"sex\": \"Male\", \"isChinstrap\": false, \"pred\": \"Adelie\"}, {\"species\": \"Adelie\", \"island\": \"Torgersen\", \"bill_length_mm\": 39.6, \"bill_depth_mm\": 17.2, \"flipper_length_mm\": 196.0, \"body_mass_g\": 3550.0, \"sex\": \"Female\", \"isChinstrap\": false, \"pred\": \"Adelie\"}, {\"species\": \"Adelie\", \"island\": \"Torgersen\", \"bill_length_mm\": 45.8, \"bill_depth_mm\": 18.9, \"flipper_length_mm\": 197.0, \"body_mass_g\": 4150.0, \"sex\": \"Male\", \"isChinstrap\": false, \"pred\": \"Chinstrap\"}, {\"species\": \"Adelie\", \"island\": \"Torgersen\", \"bill_length_mm\": 35.5, \"bill_depth_mm\": 17.5, \"flipper_length_mm\": 190.0, \"body_mass_g\": 3700.0, \"sex\": \"Female\", \"isChinstrap\": false, \"pred\": \"Adelie\"}, {\"species\": \"Adelie\", \"island\": \"Torgersen\", \"bill_length_mm\": 42.8, \"bill_depth_mm\": 18.5, \"flipper_length_mm\": 195.0, \"body_mass_g\": 4250.0, \"sex\": \"Male\", \"isChinstrap\": false, \"pred\": \"Adelie\"}, {\"species\": \"Adelie\", \"island\": \"Torgersen\", \"bill_length_mm\": 40.9, \"bill_depth_mm\": 16.8, \"flipper_length_mm\": 191.0, \"body_mass_g\": 3700.0, \"sex\": \"Female\", \"isChinstrap\": false, \"pred\": \"Adelie\"}, {\"species\": \"Adelie\", \"island\": \"Torgersen\", \"bill_length_mm\": 37.2, \"bill_depth_mm\": 19.4, \"flipper_length_mm\": 184.0, \"body_mass_g\": 3900.0, \"sex\": \"Male\", \"isChinstrap\": false, \"pred\": \"Adelie\"}, {\"species\": \"Adelie\", \"island\": \"Torgersen\", \"bill_length_mm\": 36.2, \"bill_depth_mm\": 16.1, \"flipper_length_mm\": 187.0, \"body_mass_g\": 3550.0, \"sex\": \"Female\", \"isChinstrap\": false, \"pred\": \"Adelie\"}, {\"species\": \"Adelie\", \"island\": \"Torgersen\", \"bill_length_mm\": 42.1, \"bill_depth_mm\": 19.1, \"flipper_length_mm\": 195.0, \"body_mass_g\": 4000.0, \"sex\": \"Male\", \"isChinstrap\": false, \"pred\": \"Adelie\"}, {\"species\": \"Adelie\", \"island\": \"Torgersen\", \"bill_length_mm\": 34.6, \"bill_depth_mm\": 17.2, \"flipper_length_mm\": 189.0, \"body_mass_g\": 3200.0, \"sex\": \"Female\", \"isChinstrap\": false, \"pred\": \"Adelie\"}, {\"species\": \"Adelie\", \"island\": \"Torgersen\", \"bill_length_mm\": 42.9, \"bill_depth_mm\": 17.6, \"flipper_length_mm\": 196.0, \"body_mass_g\": 4700.0, \"sex\": \"Male\", \"isChinstrap\": false, \"pred\": \"Adelie\"}, {\"species\": \"Adelie\", \"island\": \"Torgersen\", \"bill_length_mm\": 36.7, \"bill_depth_mm\": 18.8, \"flipper_length_mm\": 187.0, \"body_mass_g\": 3800.0, \"sex\": \"Female\", \"isChinstrap\": false, \"pred\": \"Adelie\"}, {\"species\": \"Adelie\", \"island\": \"Torgersen\", \"bill_length_mm\": 35.1, \"bill_depth_mm\": 19.4, \"flipper_length_mm\": 193.0, \"body_mass_g\": 4200.0, \"sex\": \"Male\", \"isChinstrap\": false, \"pred\": \"Adelie\"}, {\"species\": \"Adelie\", \"island\": \"Dream\", \"bill_length_mm\": 37.3, \"bill_depth_mm\": 17.8, \"flipper_length_mm\": 191.0, \"body_mass_g\": 3350.0, \"sex\": \"Female\", \"isChinstrap\": false, \"pred\": \"Adelie\"}, {\"species\": \"Adelie\", \"island\": \"Dream\", \"bill_length_mm\": 41.3, \"bill_depth_mm\": 20.3, \"flipper_length_mm\": 194.0, \"body_mass_g\": 3550.0, \"sex\": \"Male\", \"isChinstrap\": false, \"pred\": \"Adelie\"}, {\"species\": \"Adelie\", \"island\": \"Dream\", \"bill_length_mm\": 36.3, \"bill_depth_mm\": 19.5, \"flipper_length_mm\": 190.0, \"body_mass_g\": 3800.0, \"sex\": \"Male\", \"isChinstrap\": false, \"pred\": \"Adelie\"}, {\"species\": \"Adelie\", \"island\": \"Dream\", \"bill_length_mm\": 36.9, \"bill_depth_mm\": 18.6, \"flipper_length_mm\": 189.0, \"body_mass_g\": 3500.0, \"sex\": \"Female\", \"isChinstrap\": false, \"pred\": \"Adelie\"}, {\"species\": \"Adelie\", \"island\": \"Dream\", \"bill_length_mm\": 38.3, \"bill_depth_mm\": 19.2, \"flipper_length_mm\": 189.0, \"body_mass_g\": 3950.0, \"sex\": \"Male\", \"isChinstrap\": false, \"pred\": \"Adelie\"}, {\"species\": \"Adelie\", \"island\": \"Dream\", \"bill_length_mm\": 38.9, \"bill_depth_mm\": 18.8, \"flipper_length_mm\": 190.0, \"body_mass_g\": 3600.0, \"sex\": \"Female\", \"isChinstrap\": false, \"pred\": \"Adelie\"}, {\"species\": \"Adelie\", \"island\": \"Dream\", \"bill_length_mm\": 35.7, \"bill_depth_mm\": 18.0, \"flipper_length_mm\": 202.0, \"body_mass_g\": 3550.0, \"sex\": \"Female\", \"isChinstrap\": false, \"pred\": \"Adelie\"}, {\"species\": \"Adelie\", \"island\": \"Dream\", \"bill_length_mm\": 41.1, \"bill_depth_mm\": 18.1, \"flipper_length_mm\": 205.0, \"body_mass_g\": 4300.0, \"sex\": \"Male\", \"isChinstrap\": false, \"pred\": \"Adelie\"}, {\"species\": \"Adelie\", \"island\": \"Dream\", \"bill_length_mm\": 34.0, \"bill_depth_mm\": 17.1, \"flipper_length_mm\": 185.0, \"body_mass_g\": 3400.0, \"sex\": \"Female\", \"isChinstrap\": false, \"pred\": \"Adelie\"}, {\"species\": \"Adelie\", \"island\": \"Dream\", \"bill_length_mm\": 39.6, \"bill_depth_mm\": 18.1, \"flipper_length_mm\": 186.0, \"body_mass_g\": 4450.0, \"sex\": \"Male\", \"isChinstrap\": false, \"pred\": \"Adelie\"}, {\"species\": \"Adelie\", \"island\": \"Dream\", \"bill_length_mm\": 36.2, \"bill_depth_mm\": 17.3, \"flipper_length_mm\": 187.0, \"body_mass_g\": 3300.0, \"sex\": \"Female\", \"isChinstrap\": false, \"pred\": \"Adelie\"}, {\"species\": \"Adelie\", \"island\": \"Dream\", \"bill_length_mm\": 40.8, \"bill_depth_mm\": 18.9, \"flipper_length_mm\": 208.0, \"body_mass_g\": 4300.0, \"sex\": \"Male\", \"isChinstrap\": false, \"pred\": \"Gentoo\"}, {\"species\": \"Adelie\", \"island\": \"Dream\", \"bill_length_mm\": 38.1, \"bill_depth_mm\": 18.6, \"flipper_length_mm\": 190.0, \"body_mass_g\": 3700.0, \"sex\": \"Female\", \"isChinstrap\": false, \"pred\": \"Adelie\"}, {\"species\": \"Adelie\", \"island\": \"Dream\", \"bill_length_mm\": 40.3, \"bill_depth_mm\": 18.5, \"flipper_length_mm\": 196.0, \"body_mass_g\": 4350.0, \"sex\": \"Male\", \"isChinstrap\": false, \"pred\": \"Adelie\"}, {\"species\": \"Adelie\", \"island\": \"Dream\", \"bill_length_mm\": 33.1, \"bill_depth_mm\": 16.1, \"flipper_length_mm\": 178.0, \"body_mass_g\": 2900.0, \"sex\": \"Female\", \"isChinstrap\": false, \"pred\": \"Adelie\"}, {\"species\": \"Adelie\", \"island\": \"Dream\", \"bill_length_mm\": 43.2, \"bill_depth_mm\": 18.5, \"flipper_length_mm\": 192.0, \"body_mass_g\": 4100.0, \"sex\": \"Male\", \"isChinstrap\": false, \"pred\": \"Adelie\"}, {\"species\": \"Adelie\", \"island\": \"Biscoe\", \"bill_length_mm\": 35.0, \"bill_depth_mm\": 17.9, \"flipper_length_mm\": 192.0, \"body_mass_g\": 3725.0, \"sex\": \"Female\", \"isChinstrap\": false, \"pred\": \"Adelie\"}, {\"species\": \"Adelie\", \"island\": \"Biscoe\", \"bill_length_mm\": 41.0, \"bill_depth_mm\": 20.0, \"flipper_length_mm\": 203.0, \"body_mass_g\": 4725.0, \"sex\": \"Male\", \"isChinstrap\": false, \"pred\": \"Adelie\"}, {\"species\": \"Adelie\", \"island\": \"Biscoe\", \"bill_length_mm\": 37.7, \"bill_depth_mm\": 16.0, \"flipper_length_mm\": 183.0, \"body_mass_g\": 3075.0, \"sex\": \"Female\", \"isChinstrap\": false, \"pred\": \"Adelie\"}, {\"species\": \"Adelie\", \"island\": \"Biscoe\", \"bill_length_mm\": 37.8, \"bill_depth_mm\": 20.0, \"flipper_length_mm\": 190.0, \"body_mass_g\": 4250.0, \"sex\": \"Male\", \"isChinstrap\": false, \"pred\": \"Adelie\"}, {\"species\": \"Adelie\", \"island\": \"Biscoe\", \"bill_length_mm\": 37.9, \"bill_depth_mm\": 18.6, \"flipper_length_mm\": 193.0, \"body_mass_g\": 2925.0, \"sex\": \"Female\", \"isChinstrap\": false, \"pred\": \"Adelie\"}, {\"species\": \"Adelie\", \"island\": \"Biscoe\", \"bill_length_mm\": 39.7, \"bill_depth_mm\": 18.9, \"flipper_length_mm\": 184.0, \"body_mass_g\": 3550.0, \"sex\": \"Male\", \"isChinstrap\": false, \"pred\": \"Adelie\"}, {\"species\": \"Adelie\", \"island\": \"Biscoe\", \"bill_length_mm\": 38.6, \"bill_depth_mm\": 17.2, \"flipper_length_mm\": 199.0, \"body_mass_g\": 3750.0, \"sex\": \"Female\", \"isChinstrap\": false, \"pred\": \"Adelie\"}, {\"species\": \"Adelie\", \"island\": \"Biscoe\", \"bill_length_mm\": 38.2, \"bill_depth_mm\": 20.0, \"flipper_length_mm\": 190.0, \"body_mass_g\": 3900.0, \"sex\": \"Male\", \"isChinstrap\": false, \"pred\": \"Adelie\"}, {\"species\": \"Adelie\", \"island\": \"Biscoe\", \"bill_length_mm\": 38.1, \"bill_depth_mm\": 17.0, \"flipper_length_mm\": 181.0, \"body_mass_g\": 3175.0, \"sex\": \"Female\", \"isChinstrap\": false, \"pred\": \"Adelie\"}, {\"species\": \"Adelie\", \"island\": \"Biscoe\", \"bill_length_mm\": 43.2, \"bill_depth_mm\": 19.0, \"flipper_length_mm\": 197.0, \"body_mass_g\": 4775.0, \"sex\": \"Male\", \"isChinstrap\": false, \"pred\": \"Adelie\"}, {\"species\": \"Adelie\", \"island\": \"Biscoe\", \"bill_length_mm\": 38.1, \"bill_depth_mm\": 16.5, \"flipper_length_mm\": 198.0, \"body_mass_g\": 3825.0, \"sex\": \"Female\", \"isChinstrap\": false, \"pred\": \"Adelie\"}, {\"species\": \"Adelie\", \"island\": \"Biscoe\", \"bill_length_mm\": 45.6, \"bill_depth_mm\": 20.3, \"flipper_length_mm\": 191.0, \"body_mass_g\": 4600.0, \"sex\": \"Male\", \"isChinstrap\": false, \"pred\": \"Chinstrap\"}, {\"species\": \"Adelie\", \"island\": \"Biscoe\", \"bill_length_mm\": 39.7, \"bill_depth_mm\": 17.7, \"flipper_length_mm\": 193.0, \"body_mass_g\": 3200.0, \"sex\": \"Female\", \"isChinstrap\": false, \"pred\": \"Adelie\"}, {\"species\": \"Adelie\", \"island\": \"Biscoe\", \"bill_length_mm\": 42.2, \"bill_depth_mm\": 19.5, \"flipper_length_mm\": 197.0, \"body_mass_g\": 4275.0, \"sex\": \"Male\", \"isChinstrap\": false, \"pred\": \"Adelie\"}, {\"species\": \"Adelie\", \"island\": \"Biscoe\", \"bill_length_mm\": 39.6, \"bill_depth_mm\": 20.7, \"flipper_length_mm\": 191.0, \"body_mass_g\": 3900.0, \"sex\": \"Female\", \"isChinstrap\": false, \"pred\": \"Adelie\"}, {\"species\": \"Adelie\", \"island\": \"Biscoe\", \"bill_length_mm\": 42.7, \"bill_depth_mm\": 18.3, \"flipper_length_mm\": 196.0, \"body_mass_g\": 4075.0, \"sex\": \"Male\", \"isChinstrap\": false, \"pred\": \"Adelie\"}, {\"species\": \"Adelie\", \"island\": \"Torgersen\", \"bill_length_mm\": 38.6, \"bill_depth_mm\": 17.0, \"flipper_length_mm\": 188.0, \"body_mass_g\": 2900.0, \"sex\": \"Female\", \"isChinstrap\": false, \"pred\": \"Adelie\"}, {\"species\": \"Adelie\", \"island\": \"Torgersen\", \"bill_length_mm\": 37.3, \"bill_depth_mm\": 20.5, \"flipper_length_mm\": 199.0, \"body_mass_g\": 3775.0, \"sex\": \"Male\", \"isChinstrap\": false, \"pred\": \"Adelie\"}, {\"species\": \"Adelie\", \"island\": \"Torgersen\", \"bill_length_mm\": 35.7, \"bill_depth_mm\": 17.0, \"flipper_length_mm\": 189.0, \"body_mass_g\": 3350.0, \"sex\": \"Female\", \"isChinstrap\": false, \"pred\": \"Adelie\"}, {\"species\": \"Adelie\", \"island\": \"Torgersen\", \"bill_length_mm\": 41.1, \"bill_depth_mm\": 18.6, \"flipper_length_mm\": 189.0, \"body_mass_g\": 3325.0, \"sex\": \"Male\", \"isChinstrap\": false, \"pred\": \"Adelie\"}, {\"species\": \"Adelie\", \"island\": \"Torgersen\", \"bill_length_mm\": 36.2, \"bill_depth_mm\": 17.2, \"flipper_length_mm\": 187.0, \"body_mass_g\": 3150.0, \"sex\": \"Female\", \"isChinstrap\": false, \"pred\": \"Adelie\"}, {\"species\": \"Adelie\", \"island\": \"Torgersen\", \"bill_length_mm\": 37.7, \"bill_depth_mm\": 19.8, \"flipper_length_mm\": 198.0, \"body_mass_g\": 3500.0, \"sex\": \"Male\", \"isChinstrap\": false, \"pred\": \"Adelie\"}, {\"species\": \"Adelie\", \"island\": \"Torgersen\", \"bill_length_mm\": 40.2, \"bill_depth_mm\": 17.0, \"flipper_length_mm\": 176.0, \"body_mass_g\": 3450.0, \"sex\": \"Female\", \"isChinstrap\": false, \"pred\": \"Adelie\"}, {\"species\": \"Adelie\", \"island\": \"Torgersen\", \"bill_length_mm\": 41.4, \"bill_depth_mm\": 18.5, \"flipper_length_mm\": 202.0, \"body_mass_g\": 3875.0, \"sex\": \"Male\", \"isChinstrap\": false, \"pred\": \"Adelie\"}, {\"species\": \"Adelie\", \"island\": \"Torgersen\", \"bill_length_mm\": 35.2, \"bill_depth_mm\": 15.9, \"flipper_length_mm\": 186.0, \"body_mass_g\": 3050.0, \"sex\": \"Female\", \"isChinstrap\": false, \"pred\": \"Adelie\"}, {\"species\": \"Adelie\", \"island\": \"Torgersen\", \"bill_length_mm\": 40.6, \"bill_depth_mm\": 19.0, \"flipper_length_mm\": 199.0, \"body_mass_g\": 4000.0, \"sex\": \"Male\", \"isChinstrap\": false, \"pred\": \"Adelie\"}, {\"species\": \"Adelie\", \"island\": \"Torgersen\", \"bill_length_mm\": 38.8, \"bill_depth_mm\": 17.6, \"flipper_length_mm\": 191.0, \"body_mass_g\": 3275.0, \"sex\": \"Female\", \"isChinstrap\": false, \"pred\": \"Adelie\"}, {\"species\": \"Adelie\", \"island\": \"Torgersen\", \"bill_length_mm\": 41.5, \"bill_depth_mm\": 18.3, \"flipper_length_mm\": 195.0, \"body_mass_g\": 4300.0, \"sex\": \"Male\", \"isChinstrap\": false, \"pred\": \"Adelie\"}, {\"species\": \"Adelie\", \"island\": \"Torgersen\", \"bill_length_mm\": 39.0, \"bill_depth_mm\": 17.1, \"flipper_length_mm\": 191.0, \"body_mass_g\": 3050.0, \"sex\": \"Female\", \"isChinstrap\": false, \"pred\": \"Adelie\"}, {\"species\": \"Adelie\", \"island\": \"Torgersen\", \"bill_length_mm\": 44.1, \"bill_depth_mm\": 18.0, \"flipper_length_mm\": 210.0, \"body_mass_g\": 4000.0, \"sex\": \"Male\", \"isChinstrap\": false, \"pred\": \"Gentoo\"}, {\"species\": \"Adelie\", \"island\": \"Torgersen\", \"bill_length_mm\": 38.5, \"bill_depth_mm\": 17.9, \"flipper_length_mm\": 190.0, \"body_mass_g\": 3325.0, \"sex\": \"Female\", \"isChinstrap\": false, \"pred\": \"Adelie\"}, {\"species\": \"Adelie\", \"island\": \"Torgersen\", \"bill_length_mm\": 43.1, \"bill_depth_mm\": 19.2, \"flipper_length_mm\": 197.0, \"body_mass_g\": 3500.0, \"sex\": \"Male\", \"isChinstrap\": false, \"pred\": \"Adelie\"}, {\"species\": \"Adelie\", \"island\": \"Dream\", \"bill_length_mm\": 36.8, \"bill_depth_mm\": 18.5, \"flipper_length_mm\": 193.0, \"body_mass_g\": 3500.0, \"sex\": \"Female\", \"isChinstrap\": false, \"pred\": \"Adelie\"}, {\"species\": \"Adelie\", \"island\": \"Dream\", \"bill_length_mm\": 37.5, \"bill_depth_mm\": 18.5, \"flipper_length_mm\": 199.0, \"body_mass_g\": 4475.0, \"sex\": \"Male\", \"isChinstrap\": false, \"pred\": \"Adelie\"}, {\"species\": \"Adelie\", \"island\": \"Dream\", \"bill_length_mm\": 38.1, \"bill_depth_mm\": 17.6, \"flipper_length_mm\": 187.0, \"body_mass_g\": 3425.0, \"sex\": \"Female\", \"isChinstrap\": false, \"pred\": \"Adelie\"}, {\"species\": \"Adelie\", \"island\": \"Dream\", \"bill_length_mm\": 41.1, \"bill_depth_mm\": 17.5, \"flipper_length_mm\": 190.0, \"body_mass_g\": 3900.0, \"sex\": \"Male\", \"isChinstrap\": false, \"pred\": \"Adelie\"}, {\"species\": \"Adelie\", \"island\": \"Dream\", \"bill_length_mm\": 35.6, \"bill_depth_mm\": 17.5, \"flipper_length_mm\": 191.0, \"body_mass_g\": 3175.0, \"sex\": \"Female\", \"isChinstrap\": false, \"pred\": \"Adelie\"}, {\"species\": \"Adelie\", \"island\": \"Dream\", \"bill_length_mm\": 40.2, \"bill_depth_mm\": 20.1, \"flipper_length_mm\": 200.0, \"body_mass_g\": 3975.0, \"sex\": \"Male\", \"isChinstrap\": false, \"pred\": \"Adelie\"}, {\"species\": \"Adelie\", \"island\": \"Dream\", \"bill_length_mm\": 37.0, \"bill_depth_mm\": 16.5, \"flipper_length_mm\": 185.0, \"body_mass_g\": 3400.0, \"sex\": \"Female\", \"isChinstrap\": false, \"pred\": \"Adelie\"}, {\"species\": \"Adelie\", \"island\": \"Dream\", \"bill_length_mm\": 39.7, \"bill_depth_mm\": 17.9, \"flipper_length_mm\": 193.0, \"body_mass_g\": 4250.0, \"sex\": \"Male\", \"isChinstrap\": false, \"pred\": \"Adelie\"}, {\"species\": \"Adelie\", \"island\": \"Dream\", \"bill_length_mm\": 40.2, \"bill_depth_mm\": 17.1, \"flipper_length_mm\": 193.0, \"body_mass_g\": 3400.0, \"sex\": \"Female\", \"isChinstrap\": false, \"pred\": \"Adelie\"}, {\"species\": \"Adelie\", \"island\": \"Dream\", \"bill_length_mm\": 40.6, \"bill_depth_mm\": 17.2, \"flipper_length_mm\": 187.0, \"body_mass_g\": 3475.0, \"sex\": \"Male\", \"isChinstrap\": false, \"pred\": \"Adelie\"}, {\"species\": \"Adelie\", \"island\": \"Dream\", \"bill_length_mm\": 32.1, \"bill_depth_mm\": 15.5, \"flipper_length_mm\": 188.0, \"body_mass_g\": 3050.0, \"sex\": \"Female\", \"isChinstrap\": false, \"pred\": \"Adelie\"}, {\"species\": \"Adelie\", \"island\": \"Dream\", \"bill_length_mm\": 40.7, \"bill_depth_mm\": 17.0, \"flipper_length_mm\": 190.0, \"body_mass_g\": 3725.0, \"sex\": \"Male\", \"isChinstrap\": false, \"pred\": \"Adelie\"}, {\"species\": \"Adelie\", \"island\": \"Dream\", \"bill_length_mm\": 37.3, \"bill_depth_mm\": 16.8, \"flipper_length_mm\": 192.0, \"body_mass_g\": 3000.0, \"sex\": \"Female\", \"isChinstrap\": false, \"pred\": \"Adelie\"}, {\"species\": \"Adelie\", \"island\": \"Dream\", \"bill_length_mm\": 39.0, \"bill_depth_mm\": 18.7, \"flipper_length_mm\": 185.0, \"body_mass_g\": 3650.0, \"sex\": \"Male\", \"isChinstrap\": false, \"pred\": \"Adelie\"}, {\"species\": \"Adelie\", \"island\": \"Dream\", \"bill_length_mm\": 39.2, \"bill_depth_mm\": 18.6, \"flipper_length_mm\": 190.0, \"body_mass_g\": 4250.0, \"sex\": \"Male\", \"isChinstrap\": false, \"pred\": \"Adelie\"}, {\"species\": \"Adelie\", \"island\": \"Dream\", \"bill_length_mm\": 36.6, \"bill_depth_mm\": 18.4, \"flipper_length_mm\": 184.0, \"body_mass_g\": 3475.0, \"sex\": \"Female\", \"isChinstrap\": false, \"pred\": \"Adelie\"}, {\"species\": \"Adelie\", \"island\": \"Dream\", \"bill_length_mm\": 36.0, \"bill_depth_mm\": 17.8, \"flipper_length_mm\": 195.0, \"body_mass_g\": 3450.0, \"sex\": \"Female\", \"isChinstrap\": false, \"pred\": \"Adelie\"}, {\"species\": \"Adelie\", \"island\": \"Dream\", \"bill_length_mm\": 37.8, \"bill_depth_mm\": 18.1, \"flipper_length_mm\": 193.0, \"body_mass_g\": 3750.0, \"sex\": \"Male\", \"isChinstrap\": false, \"pred\": \"Adelie\"}, {\"species\": \"Adelie\", \"island\": \"Dream\", \"bill_length_mm\": 36.0, \"bill_depth_mm\": 17.1, \"flipper_length_mm\": 187.0, \"body_mass_g\": 3700.0, \"sex\": \"Female\", \"isChinstrap\": false, \"pred\": \"Adelie\"}, {\"species\": \"Adelie\", \"island\": \"Dream\", \"bill_length_mm\": 41.5, \"bill_depth_mm\": 18.5, \"flipper_length_mm\": 201.0, \"body_mass_g\": 4000.0, \"sex\": \"Male\", \"isChinstrap\": false, \"pred\": \"Adelie\"}, {\"species\": \"Chinstrap\", \"island\": \"Dream\", \"bill_length_mm\": 46.5, \"bill_depth_mm\": 17.9, \"flipper_length_mm\": 192.0, \"body_mass_g\": 3500.0, \"sex\": \"Female\", \"isChinstrap\": true, \"pred\": \"Chinstrap\"}, {\"species\": \"Chinstrap\", \"island\": \"Dream\", \"bill_length_mm\": 50.0, \"bill_depth_mm\": 19.5, \"flipper_length_mm\": 196.0, \"body_mass_g\": 3900.0, \"sex\": \"Male\", \"isChinstrap\": true, \"pred\": \"Chinstrap\"}, {\"species\": \"Chinstrap\", \"island\": \"Dream\", \"bill_length_mm\": 51.3, \"bill_depth_mm\": 19.2, \"flipper_length_mm\": 193.0, \"body_mass_g\": 3650.0, \"sex\": \"Male\", \"isChinstrap\": true, \"pred\": \"Chinstrap\"}, {\"species\": \"Chinstrap\", \"island\": \"Dream\", \"bill_length_mm\": 45.4, \"bill_depth_mm\": 18.7, \"flipper_length_mm\": 188.0, \"body_mass_g\": 3525.0, \"sex\": \"Female\", \"isChinstrap\": true, \"pred\": \"Chinstrap\"}, {\"species\": \"Chinstrap\", \"island\": \"Dream\", \"bill_length_mm\": 52.7, \"bill_depth_mm\": 19.8, \"flipper_length_mm\": 197.0, \"body_mass_g\": 3725.0, \"sex\": \"Male\", \"isChinstrap\": true, \"pred\": \"Chinstrap\"}, {\"species\": \"Chinstrap\", \"island\": \"Dream\", \"bill_length_mm\": 45.2, \"bill_depth_mm\": 17.8, \"flipper_length_mm\": 198.0, \"body_mass_g\": 3950.0, \"sex\": \"Female\", \"isChinstrap\": true, \"pred\": \"Chinstrap\"}, {\"species\": \"Chinstrap\", \"island\": \"Dream\", \"bill_length_mm\": 46.1, \"bill_depth_mm\": 18.2, \"flipper_length_mm\": 178.0, \"body_mass_g\": 3250.0, \"sex\": \"Female\", \"isChinstrap\": true, \"pred\": \"Chinstrap\"}, {\"species\": \"Chinstrap\", \"island\": \"Dream\", \"bill_length_mm\": 51.3, \"bill_depth_mm\": 18.2, \"flipper_length_mm\": 197.0, \"body_mass_g\": 3750.0, \"sex\": \"Male\", \"isChinstrap\": true, \"pred\": \"Chinstrap\"}, {\"species\": \"Chinstrap\", \"island\": \"Dream\", \"bill_length_mm\": 46.0, \"bill_depth_mm\": 18.9, \"flipper_length_mm\": 195.0, \"body_mass_g\": 4150.0, \"sex\": \"Female\", \"isChinstrap\": true, \"pred\": \"Chinstrap\"}, {\"species\": \"Chinstrap\", \"island\": \"Dream\", \"bill_length_mm\": 51.3, \"bill_depth_mm\": 19.9, \"flipper_length_mm\": 198.0, \"body_mass_g\": 3700.0, \"sex\": \"Male\", \"isChinstrap\": true, \"pred\": \"Chinstrap\"}, {\"species\": \"Chinstrap\", \"island\": \"Dream\", \"bill_length_mm\": 46.6, \"bill_depth_mm\": 17.8, \"flipper_length_mm\": 193.0, \"body_mass_g\": 3800.0, \"sex\": \"Female\", \"isChinstrap\": true, \"pred\": \"Chinstrap\"}, {\"species\": \"Chinstrap\", \"island\": \"Dream\", \"bill_length_mm\": 51.7, \"bill_depth_mm\": 20.3, \"flipper_length_mm\": 194.0, \"body_mass_g\": 3775.0, \"sex\": \"Male\", \"isChinstrap\": true, \"pred\": \"Chinstrap\"}, {\"species\": \"Chinstrap\", \"island\": \"Dream\", \"bill_length_mm\": 47.0, \"bill_depth_mm\": 17.3, \"flipper_length_mm\": 185.0, \"body_mass_g\": 3700.0, \"sex\": \"Female\", \"isChinstrap\": true, \"pred\": \"Chinstrap\"}, {\"species\": \"Chinstrap\", \"island\": \"Dream\", \"bill_length_mm\": 52.0, \"bill_depth_mm\": 18.1, \"flipper_length_mm\": 201.0, \"body_mass_g\": 4050.0, \"sex\": \"Male\", \"isChinstrap\": true, \"pred\": \"Chinstrap\"}, {\"species\": \"Chinstrap\", \"island\": \"Dream\", \"bill_length_mm\": 45.9, \"bill_depth_mm\": 17.1, \"flipper_length_mm\": 190.0, \"body_mass_g\": 3575.0, \"sex\": \"Female\", \"isChinstrap\": true, \"pred\": \"Chinstrap\"}, {\"species\": \"Chinstrap\", \"island\": \"Dream\", \"bill_length_mm\": 50.5, \"bill_depth_mm\": 19.6, \"flipper_length_mm\": 201.0, \"body_mass_g\": 4050.0, \"sex\": \"Male\", \"isChinstrap\": true, \"pred\": \"Chinstrap\"}, {\"species\": \"Chinstrap\", \"island\": \"Dream\", \"bill_length_mm\": 50.3, \"bill_depth_mm\": 20.0, \"flipper_length_mm\": 197.0, \"body_mass_g\": 3300.0, \"sex\": \"Male\", \"isChinstrap\": true, \"pred\": \"Chinstrap\"}, {\"species\": \"Chinstrap\", \"island\": \"Dream\", \"bill_length_mm\": 58.0, \"bill_depth_mm\": 17.8, \"flipper_length_mm\": 181.0, \"body_mass_g\": 3700.0, \"sex\": \"Female\", \"isChinstrap\": true, \"pred\": \"Chinstrap\"}, {\"species\": \"Chinstrap\", \"island\": \"Dream\", \"bill_length_mm\": 46.4, \"bill_depth_mm\": 18.6, \"flipper_length_mm\": 190.0, \"body_mass_g\": 3450.0, \"sex\": \"Female\", \"isChinstrap\": true, \"pred\": \"Chinstrap\"}, {\"species\": \"Chinstrap\", \"island\": \"Dream\", \"bill_length_mm\": 49.2, \"bill_depth_mm\": 18.2, \"flipper_length_mm\": 195.0, \"body_mass_g\": 4400.0, \"sex\": \"Male\", \"isChinstrap\": true, \"pred\": \"Chinstrap\"}, {\"species\": \"Chinstrap\", \"island\": \"Dream\", \"bill_length_mm\": 42.4, \"bill_depth_mm\": 17.3, \"flipper_length_mm\": 181.0, \"body_mass_g\": 3600.0, \"sex\": \"Female\", \"isChinstrap\": true, \"pred\": \"Adelie\"}, {\"species\": \"Chinstrap\", \"island\": \"Dream\", \"bill_length_mm\": 48.5, \"bill_depth_mm\": 17.5, \"flipper_length_mm\": 191.0, \"body_mass_g\": 3400.0, \"sex\": \"Male\", \"isChinstrap\": true, \"pred\": \"Chinstrap\"}, {\"species\": \"Chinstrap\", \"island\": \"Dream\", \"bill_length_mm\": 43.2, \"bill_depth_mm\": 16.6, \"flipper_length_mm\": 187.0, \"body_mass_g\": 2900.0, \"sex\": \"Female\", \"isChinstrap\": true, \"pred\": \"Adelie\"}, {\"species\": \"Chinstrap\", \"island\": \"Dream\", \"bill_length_mm\": 50.6, \"bill_depth_mm\": 19.4, \"flipper_length_mm\": 193.0, \"body_mass_g\": 3800.0, \"sex\": \"Male\", \"isChinstrap\": true, \"pred\": \"Chinstrap\"}, {\"species\": \"Chinstrap\", \"island\": \"Dream\", \"bill_length_mm\": 46.7, \"bill_depth_mm\": 17.9, \"flipper_length_mm\": 195.0, \"body_mass_g\": 3300.0, \"sex\": \"Female\", \"isChinstrap\": true, \"pred\": \"Chinstrap\"}, {\"species\": \"Chinstrap\", \"island\": \"Dream\", \"bill_length_mm\": 52.0, \"bill_depth_mm\": 19.0, \"flipper_length_mm\": 197.0, \"body_mass_g\": 4150.0, \"sex\": \"Male\", \"isChinstrap\": true, \"pred\": \"Chinstrap\"}, {\"species\": \"Chinstrap\", \"island\": \"Dream\", \"bill_length_mm\": 50.5, \"bill_depth_mm\": 18.4, \"flipper_length_mm\": 200.0, \"body_mass_g\": 3400.0, \"sex\": \"Female\", \"isChinstrap\": true, \"pred\": \"Chinstrap\"}, {\"species\": \"Chinstrap\", \"island\": \"Dream\", \"bill_length_mm\": 49.5, \"bill_depth_mm\": 19.0, \"flipper_length_mm\": 200.0, \"body_mass_g\": 3800.0, \"sex\": \"Male\", \"isChinstrap\": true, \"pred\": \"Chinstrap\"}, {\"species\": \"Chinstrap\", \"island\": \"Dream\", \"bill_length_mm\": 46.4, \"bill_depth_mm\": 17.8, \"flipper_length_mm\": 191.0, \"body_mass_g\": 3700.0, \"sex\": \"Female\", \"isChinstrap\": true, \"pred\": \"Chinstrap\"}, {\"species\": \"Chinstrap\", \"island\": \"Dream\", \"bill_length_mm\": 52.8, \"bill_depth_mm\": 20.0, \"flipper_length_mm\": 205.0, \"body_mass_g\": 4550.0, \"sex\": \"Male\", \"isChinstrap\": true, \"pred\": \"Chinstrap\"}, {\"species\": \"Chinstrap\", \"island\": \"Dream\", \"bill_length_mm\": 40.9, \"bill_depth_mm\": 16.6, \"flipper_length_mm\": 187.0, \"body_mass_g\": 3200.0, \"sex\": \"Female\", \"isChinstrap\": true, \"pred\": \"Adelie\"}, {\"species\": \"Chinstrap\", \"island\": \"Dream\", \"bill_length_mm\": 54.2, \"bill_depth_mm\": 20.8, \"flipper_length_mm\": 201.0, \"body_mass_g\": 4300.0, \"sex\": \"Male\", \"isChinstrap\": true, \"pred\": \"Chinstrap\"}, {\"species\": \"Chinstrap\", \"island\": \"Dream\", \"bill_length_mm\": 42.5, \"bill_depth_mm\": 16.7, \"flipper_length_mm\": 187.0, \"body_mass_g\": 3350.0, \"sex\": \"Female\", \"isChinstrap\": true, \"pred\": \"Adelie\"}, {\"species\": \"Chinstrap\", \"island\": \"Dream\", \"bill_length_mm\": 51.0, \"bill_depth_mm\": 18.8, \"flipper_length_mm\": 203.0, \"body_mass_g\": 4100.0, \"sex\": \"Male\", \"isChinstrap\": true, \"pred\": \"Chinstrap\"}, {\"species\": \"Chinstrap\", \"island\": \"Dream\", \"bill_length_mm\": 49.7, \"bill_depth_mm\": 18.6, \"flipper_length_mm\": 195.0, \"body_mass_g\": 3600.0, \"sex\": \"Male\", \"isChinstrap\": true, \"pred\": \"Chinstrap\"}, {\"species\": \"Chinstrap\", \"island\": \"Dream\", \"bill_length_mm\": 47.5, \"bill_depth_mm\": 16.8, \"flipper_length_mm\": 199.0, \"body_mass_g\": 3900.0, \"sex\": \"Female\", \"isChinstrap\": true, \"pred\": \"Chinstrap\"}, {\"species\": \"Chinstrap\", \"island\": \"Dream\", \"bill_length_mm\": 47.6, \"bill_depth_mm\": 18.3, \"flipper_length_mm\": 195.0, \"body_mass_g\": 3850.0, \"sex\": \"Female\", \"isChinstrap\": true, \"pred\": \"Chinstrap\"}, {\"species\": \"Chinstrap\", \"island\": \"Dream\", \"bill_length_mm\": 52.0, \"bill_depth_mm\": 20.7, \"flipper_length_mm\": 210.0, \"body_mass_g\": 4800.0, \"sex\": \"Male\", \"isChinstrap\": true, \"pred\": \"Chinstrap\"}, {\"species\": \"Chinstrap\", \"island\": \"Dream\", \"bill_length_mm\": 46.9, \"bill_depth_mm\": 16.6, \"flipper_length_mm\": 192.0, \"body_mass_g\": 2700.0, \"sex\": \"Female\", \"isChinstrap\": true, \"pred\": \"Chinstrap\"}, {\"species\": \"Chinstrap\", \"island\": \"Dream\", \"bill_length_mm\": 53.5, \"bill_depth_mm\": 19.9, \"flipper_length_mm\": 205.0, \"body_mass_g\": 4500.0, \"sex\": \"Male\", \"isChinstrap\": true, \"pred\": \"Chinstrap\"}, {\"species\": \"Chinstrap\", \"island\": \"Dream\", \"bill_length_mm\": 49.0, \"bill_depth_mm\": 19.5, \"flipper_length_mm\": 210.0, \"body_mass_g\": 3950.0, \"sex\": \"Male\", \"isChinstrap\": true, \"pred\": \"Gentoo\"}, {\"species\": \"Chinstrap\", \"island\": \"Dream\", \"bill_length_mm\": 46.2, \"bill_depth_mm\": 17.5, \"flipper_length_mm\": 187.0, \"body_mass_g\": 3650.0, \"sex\": \"Female\", \"isChinstrap\": true, \"pred\": \"Chinstrap\"}, {\"species\": \"Chinstrap\", \"island\": \"Dream\", \"bill_length_mm\": 50.9, \"bill_depth_mm\": 19.1, \"flipper_length_mm\": 196.0, \"body_mass_g\": 3550.0, \"sex\": \"Male\", \"isChinstrap\": true, \"pred\": \"Chinstrap\"}, {\"species\": \"Chinstrap\", \"island\": \"Dream\", \"bill_length_mm\": 45.5, \"bill_depth_mm\": 17.0, \"flipper_length_mm\": 196.0, \"body_mass_g\": 3500.0, \"sex\": \"Female\", \"isChinstrap\": true, \"pred\": \"Chinstrap\"}, {\"species\": \"Chinstrap\", \"island\": \"Dream\", \"bill_length_mm\": 50.9, \"bill_depth_mm\": 17.9, \"flipper_length_mm\": 196.0, \"body_mass_g\": 3675.0, \"sex\": \"Female\", \"isChinstrap\": true, \"pred\": \"Chinstrap\"}, {\"species\": \"Chinstrap\", \"island\": \"Dream\", \"bill_length_mm\": 50.8, \"bill_depth_mm\": 18.5, \"flipper_length_mm\": 201.0, \"body_mass_g\": 4450.0, \"sex\": \"Male\", \"isChinstrap\": true, \"pred\": \"Chinstrap\"}, {\"species\": \"Chinstrap\", \"island\": \"Dream\", \"bill_length_mm\": 50.1, \"bill_depth_mm\": 17.9, \"flipper_length_mm\": 190.0, \"body_mass_g\": 3400.0, \"sex\": \"Female\", \"isChinstrap\": true, \"pred\": \"Chinstrap\"}, {\"species\": \"Chinstrap\", \"island\": \"Dream\", \"bill_length_mm\": 49.0, \"bill_depth_mm\": 19.6, \"flipper_length_mm\": 212.0, \"body_mass_g\": 4300.0, \"sex\": \"Male\", \"isChinstrap\": true, \"pred\": \"Gentoo\"}, {\"species\": \"Chinstrap\", \"island\": \"Dream\", \"bill_length_mm\": 51.5, \"bill_depth_mm\": 18.7, \"flipper_length_mm\": 187.0, \"body_mass_g\": 3250.0, \"sex\": \"Male\", \"isChinstrap\": true, \"pred\": \"Chinstrap\"}, {\"species\": \"Chinstrap\", \"island\": \"Dream\", \"bill_length_mm\": 49.8, \"bill_depth_mm\": 17.3, \"flipper_length_mm\": 198.0, \"body_mass_g\": 3675.0, \"sex\": \"Female\", \"isChinstrap\": true, \"pred\": \"Chinstrap\"}, {\"species\": \"Chinstrap\", \"island\": \"Dream\", \"bill_length_mm\": 48.1, \"bill_depth_mm\": 16.4, \"flipper_length_mm\": 199.0, \"body_mass_g\": 3325.0, \"sex\": \"Female\", \"isChinstrap\": true, \"pred\": \"Chinstrap\"}, {\"species\": \"Chinstrap\", \"island\": \"Dream\", \"bill_length_mm\": 51.4, \"bill_depth_mm\": 19.0, \"flipper_length_mm\": 201.0, \"body_mass_g\": 3950.0, \"sex\": \"Male\", \"isChinstrap\": true, \"pred\": \"Chinstrap\"}, {\"species\": \"Chinstrap\", \"island\": \"Dream\", \"bill_length_mm\": 45.7, \"bill_depth_mm\": 17.3, \"flipper_length_mm\": 193.0, \"body_mass_g\": 3600.0, \"sex\": \"Female\", \"isChinstrap\": true, \"pred\": \"Chinstrap\"}, {\"species\": \"Chinstrap\", \"island\": \"Dream\", \"bill_length_mm\": 50.7, \"bill_depth_mm\": 19.7, \"flipper_length_mm\": 203.0, \"body_mass_g\": 4050.0, \"sex\": \"Male\", \"isChinstrap\": true, \"pred\": \"Chinstrap\"}, {\"species\": \"Chinstrap\", \"island\": \"Dream\", \"bill_length_mm\": 42.5, \"bill_depth_mm\": 17.3, \"flipper_length_mm\": 187.0, \"body_mass_g\": 3350.0, \"sex\": \"Female\", \"isChinstrap\": true, \"pred\": \"Adelie\"}, {\"species\": \"Chinstrap\", \"island\": \"Dream\", \"bill_length_mm\": 52.2, \"bill_depth_mm\": 18.8, \"flipper_length_mm\": 197.0, \"body_mass_g\": 3450.0, \"sex\": \"Male\", \"isChinstrap\": true, \"pred\": \"Chinstrap\"}, {\"species\": \"Chinstrap\", \"island\": \"Dream\", \"bill_length_mm\": 45.2, \"bill_depth_mm\": 16.6, \"flipper_length_mm\": 191.0, \"body_mass_g\": 3250.0, \"sex\": \"Female\", \"isChinstrap\": true, \"pred\": \"Chinstrap\"}, {\"species\": \"Chinstrap\", \"island\": \"Dream\", \"bill_length_mm\": 49.3, \"bill_depth_mm\": 19.9, \"flipper_length_mm\": 203.0, \"body_mass_g\": 4050.0, \"sex\": \"Male\", \"isChinstrap\": true, \"pred\": \"Chinstrap\"}, {\"species\": \"Chinstrap\", \"island\": \"Dream\", \"bill_length_mm\": 50.2, \"bill_depth_mm\": 18.8, \"flipper_length_mm\": 202.0, \"body_mass_g\": 3800.0, \"sex\": \"Male\", \"isChinstrap\": true, \"pred\": \"Chinstrap\"}, {\"species\": \"Chinstrap\", \"island\": \"Dream\", \"bill_length_mm\": 45.6, \"bill_depth_mm\": 19.4, \"flipper_length_mm\": 194.0, \"body_mass_g\": 3525.0, \"sex\": \"Female\", \"isChinstrap\": true, \"pred\": \"Chinstrap\"}, {\"species\": \"Chinstrap\", \"island\": \"Dream\", \"bill_length_mm\": 51.9, \"bill_depth_mm\": 19.5, \"flipper_length_mm\": 206.0, \"body_mass_g\": 3950.0, \"sex\": \"Male\", \"isChinstrap\": true, \"pred\": \"Chinstrap\"}, {\"species\": \"Chinstrap\", \"island\": \"Dream\", \"bill_length_mm\": 46.8, \"bill_depth_mm\": 16.5, \"flipper_length_mm\": 189.0, \"body_mass_g\": 3650.0, \"sex\": \"Female\", \"isChinstrap\": true, \"pred\": \"Chinstrap\"}, {\"species\": \"Chinstrap\", \"island\": \"Dream\", \"bill_length_mm\": 45.7, \"bill_depth_mm\": 17.0, \"flipper_length_mm\": 195.0, \"body_mass_g\": 3650.0, \"sex\": \"Female\", \"isChinstrap\": true, \"pred\": \"Chinstrap\"}, {\"species\": \"Chinstrap\", \"island\": \"Dream\", \"bill_length_mm\": 55.8, \"bill_depth_mm\": 19.8, \"flipper_length_mm\": 207.0, \"body_mass_g\": 4000.0, \"sex\": \"Male\", \"isChinstrap\": true, \"pred\": \"Chinstrap\"}, {\"species\": \"Chinstrap\", \"island\": \"Dream\", \"bill_length_mm\": 43.5, \"bill_depth_mm\": 18.1, \"flipper_length_mm\": 202.0, \"body_mass_g\": 3400.0, \"sex\": \"Female\", \"isChinstrap\": true, \"pred\": \"Adelie\"}, {\"species\": \"Chinstrap\", \"island\": \"Dream\", \"bill_length_mm\": 49.6, \"bill_depth_mm\": 18.2, \"flipper_length_mm\": 193.0, \"body_mass_g\": 3775.0, \"sex\": \"Male\", \"isChinstrap\": true, \"pred\": \"Chinstrap\"}, {\"species\": \"Chinstrap\", \"island\": \"Dream\", \"bill_length_mm\": 50.8, \"bill_depth_mm\": 19.0, \"flipper_length_mm\": 210.0, \"body_mass_g\": 4100.0, \"sex\": \"Male\", \"isChinstrap\": true, \"pred\": \"Chinstrap\"}, {\"species\": \"Chinstrap\", \"island\": \"Dream\", \"bill_length_mm\": 50.2, \"bill_depth_mm\": 18.7, \"flipper_length_mm\": 198.0, \"body_mass_g\": 3775.0, \"sex\": \"Female\", \"isChinstrap\": true, \"pred\": \"Chinstrap\"}, {\"species\": \"Gentoo\", \"island\": \"Biscoe\", \"bill_length_mm\": 46.1, \"bill_depth_mm\": 13.2, \"flipper_length_mm\": 211.0, \"body_mass_g\": 4500.0, \"sex\": \"Female\", \"isChinstrap\": false, \"pred\": \"Gentoo\"}, {\"species\": \"Gentoo\", \"island\": \"Biscoe\", \"bill_length_mm\": 50.0, \"bill_depth_mm\": 16.3, \"flipper_length_mm\": 230.0, \"body_mass_g\": 5700.0, \"sex\": \"Male\", \"isChinstrap\": false, \"pred\": \"Gentoo\"}, {\"species\": \"Gentoo\", \"island\": \"Biscoe\", \"bill_length_mm\": 48.7, \"bill_depth_mm\": 14.1, \"flipper_length_mm\": 210.0, \"body_mass_g\": 4450.0, \"sex\": \"Female\", \"isChinstrap\": false, \"pred\": \"Gentoo\"}, {\"species\": \"Gentoo\", \"island\": \"Biscoe\", \"bill_length_mm\": 50.0, \"bill_depth_mm\": 15.2, \"flipper_length_mm\": 218.0, \"body_mass_g\": 5700.0, \"sex\": \"Male\", \"isChinstrap\": false, \"pred\": \"Gentoo\"}, {\"species\": \"Gentoo\", \"island\": \"Biscoe\", \"bill_length_mm\": 47.6, \"bill_depth_mm\": 14.5, \"flipper_length_mm\": 215.0, \"body_mass_g\": 5400.0, \"sex\": \"Male\", \"isChinstrap\": false, \"pred\": \"Gentoo\"}, {\"species\": \"Gentoo\", \"island\": \"Biscoe\", \"bill_length_mm\": 46.5, \"bill_depth_mm\": 13.5, \"flipper_length_mm\": 210.0, \"body_mass_g\": 4550.0, \"sex\": \"Female\", \"isChinstrap\": false, \"pred\": \"Gentoo\"}, {\"species\": \"Gentoo\", \"island\": \"Biscoe\", \"bill_length_mm\": 45.4, \"bill_depth_mm\": 14.6, \"flipper_length_mm\": 211.0, \"body_mass_g\": 4800.0, \"sex\": \"Female\", \"isChinstrap\": false, \"pred\": \"Gentoo\"}, {\"species\": \"Gentoo\", \"island\": \"Biscoe\", \"bill_length_mm\": 46.7, \"bill_depth_mm\": 15.3, \"flipper_length_mm\": 219.0, \"body_mass_g\": 5200.0, \"sex\": \"Male\", \"isChinstrap\": false, \"pred\": \"Gentoo\"}, {\"species\": \"Gentoo\", \"island\": \"Biscoe\", \"bill_length_mm\": 43.3, \"bill_depth_mm\": 13.4, \"flipper_length_mm\": 209.0, \"body_mass_g\": 4400.0, \"sex\": \"Female\", \"isChinstrap\": false, \"pred\": \"Gentoo\"}, {\"species\": \"Gentoo\", \"island\": \"Biscoe\", \"bill_length_mm\": 46.8, \"bill_depth_mm\": 15.4, \"flipper_length_mm\": 215.0, \"body_mass_g\": 5150.0, \"sex\": \"Male\", \"isChinstrap\": false, \"pred\": \"Gentoo\"}, {\"species\": \"Gentoo\", \"island\": \"Biscoe\", \"bill_length_mm\": 40.9, \"bill_depth_mm\": 13.7, \"flipper_length_mm\": 214.0, \"body_mass_g\": 4650.0, \"sex\": \"Female\", \"isChinstrap\": false, \"pred\": \"Gentoo\"}, {\"species\": \"Gentoo\", \"island\": \"Biscoe\", \"bill_length_mm\": 49.0, \"bill_depth_mm\": 16.1, \"flipper_length_mm\": 216.0, \"body_mass_g\": 5550.0, \"sex\": \"Male\", \"isChinstrap\": false, \"pred\": \"Gentoo\"}, {\"species\": \"Gentoo\", \"island\": \"Biscoe\", \"bill_length_mm\": 45.5, \"bill_depth_mm\": 13.7, \"flipper_length_mm\": 214.0, \"body_mass_g\": 4650.0, \"sex\": \"Female\", \"isChinstrap\": false, \"pred\": \"Gentoo\"}, {\"species\": \"Gentoo\", \"island\": \"Biscoe\", \"bill_length_mm\": 48.4, \"bill_depth_mm\": 14.6, \"flipper_length_mm\": 213.0, \"body_mass_g\": 5850.0, \"sex\": \"Male\", \"isChinstrap\": false, \"pred\": \"Gentoo\"}, {\"species\": \"Gentoo\", \"island\": \"Biscoe\", \"bill_length_mm\": 45.8, \"bill_depth_mm\": 14.6, \"flipper_length_mm\": 210.0, \"body_mass_g\": 4200.0, \"sex\": \"Female\", \"isChinstrap\": false, \"pred\": \"Gentoo\"}, {\"species\": \"Gentoo\", \"island\": \"Biscoe\", \"bill_length_mm\": 49.3, \"bill_depth_mm\": 15.7, \"flipper_length_mm\": 217.0, \"body_mass_g\": 5850.0, \"sex\": \"Male\", \"isChinstrap\": false, \"pred\": \"Gentoo\"}, {\"species\": \"Gentoo\", \"island\": \"Biscoe\", \"bill_length_mm\": 42.0, \"bill_depth_mm\": 13.5, \"flipper_length_mm\": 210.0, \"body_mass_g\": 4150.0, \"sex\": \"Female\", \"isChinstrap\": false, \"pred\": \"Gentoo\"}, {\"species\": \"Gentoo\", \"island\": \"Biscoe\", \"bill_length_mm\": 49.2, \"bill_depth_mm\": 15.2, \"flipper_length_mm\": 221.0, \"body_mass_g\": 6300.0, \"sex\": \"Male\", \"isChinstrap\": false, \"pred\": \"Gentoo\"}, {\"species\": \"Gentoo\", \"island\": \"Biscoe\", \"bill_length_mm\": 46.2, \"bill_depth_mm\": 14.5, \"flipper_length_mm\": 209.0, \"body_mass_g\": 4800.0, \"sex\": \"Female\", \"isChinstrap\": false, \"pred\": \"Gentoo\"}, {\"species\": \"Gentoo\", \"island\": \"Biscoe\", \"bill_length_mm\": 48.7, \"bill_depth_mm\": 15.1, \"flipper_length_mm\": 222.0, \"body_mass_g\": 5350.0, \"sex\": \"Male\", \"isChinstrap\": false, \"pred\": \"Gentoo\"}, {\"species\": \"Gentoo\", \"island\": \"Biscoe\", \"bill_length_mm\": 50.2, \"bill_depth_mm\": 14.3, \"flipper_length_mm\": 218.0, \"body_mass_g\": 5700.0, \"sex\": \"Male\", \"isChinstrap\": false, \"pred\": \"Gentoo\"}, {\"species\": \"Gentoo\", \"island\": \"Biscoe\", \"bill_length_mm\": 45.1, \"bill_depth_mm\": 14.5, \"flipper_length_mm\": 215.0, \"body_mass_g\": 5000.0, \"sex\": \"Female\", \"isChinstrap\": false, \"pred\": \"Gentoo\"}, {\"species\": \"Gentoo\", \"island\": \"Biscoe\", \"bill_length_mm\": 46.5, \"bill_depth_mm\": 14.5, \"flipper_length_mm\": 213.0, \"body_mass_g\": 4400.0, \"sex\": \"Female\", \"isChinstrap\": false, \"pred\": \"Gentoo\"}, {\"species\": \"Gentoo\", \"island\": \"Biscoe\", \"bill_length_mm\": 46.3, \"bill_depth_mm\": 15.8, \"flipper_length_mm\": 215.0, \"body_mass_g\": 5050.0, \"sex\": \"Male\", \"isChinstrap\": false, \"pred\": \"Gentoo\"}, {\"species\": \"Gentoo\", \"island\": \"Biscoe\", \"bill_length_mm\": 42.9, \"bill_depth_mm\": 13.1, \"flipper_length_mm\": 215.0, \"body_mass_g\": 5000.0, \"sex\": \"Female\", \"isChinstrap\": false, \"pred\": \"Gentoo\"}, {\"species\": \"Gentoo\", \"island\": \"Biscoe\", \"bill_length_mm\": 46.1, \"bill_depth_mm\": 15.1, \"flipper_length_mm\": 215.0, \"body_mass_g\": 5100.0, \"sex\": \"Male\", \"isChinstrap\": false, \"pred\": \"Gentoo\"}, {\"species\": \"Gentoo\", \"island\": \"Biscoe\", \"bill_length_mm\": 47.8, \"bill_depth_mm\": 15.0, \"flipper_length_mm\": 215.0, \"body_mass_g\": 5650.0, \"sex\": \"Male\", \"isChinstrap\": false, \"pred\": \"Gentoo\"}, {\"species\": \"Gentoo\", \"island\": \"Biscoe\", \"bill_length_mm\": 48.2, \"bill_depth_mm\": 14.3, \"flipper_length_mm\": 210.0, \"body_mass_g\": 4600.0, \"sex\": \"Female\", \"isChinstrap\": false, \"pred\": \"Gentoo\"}, {\"species\": \"Gentoo\", \"island\": \"Biscoe\", \"bill_length_mm\": 50.0, \"bill_depth_mm\": 15.3, \"flipper_length_mm\": 220.0, \"body_mass_g\": 5550.0, \"sex\": \"Male\", \"isChinstrap\": false, \"pred\": \"Gentoo\"}, {\"species\": \"Gentoo\", \"island\": \"Biscoe\", \"bill_length_mm\": 47.3, \"bill_depth_mm\": 15.3, \"flipper_length_mm\": 222.0, \"body_mass_g\": 5250.0, \"sex\": \"Male\", \"isChinstrap\": false, \"pred\": \"Gentoo\"}, {\"species\": \"Gentoo\", \"island\": \"Biscoe\", \"bill_length_mm\": 42.8, \"bill_depth_mm\": 14.2, \"flipper_length_mm\": 209.0, \"body_mass_g\": 4700.0, \"sex\": \"Female\", \"isChinstrap\": false, \"pred\": \"Gentoo\"}, {\"species\": \"Gentoo\", \"island\": \"Biscoe\", \"bill_length_mm\": 45.1, \"bill_depth_mm\": 14.5, \"flipper_length_mm\": 207.0, \"body_mass_g\": 5050.0, \"sex\": \"Female\", \"isChinstrap\": false, \"pred\": \"Gentoo\"}, {\"species\": \"Gentoo\", \"island\": \"Biscoe\", \"bill_length_mm\": 59.6, \"bill_depth_mm\": 17.0, \"flipper_length_mm\": 230.0, \"body_mass_g\": 6050.0, \"sex\": \"Male\", \"isChinstrap\": false, \"pred\": \"Gentoo\"}, {\"species\": \"Gentoo\", \"island\": \"Biscoe\", \"bill_length_mm\": 49.1, \"bill_depth_mm\": 14.8, \"flipper_length_mm\": 220.0, \"body_mass_g\": 5150.0, \"sex\": \"Female\", \"isChinstrap\": false, \"pred\": \"Gentoo\"}, {\"species\": \"Gentoo\", \"island\": \"Biscoe\", \"bill_length_mm\": 48.4, \"bill_depth_mm\": 16.3, \"flipper_length_mm\": 220.0, \"body_mass_g\": 5400.0, \"sex\": \"Male\", \"isChinstrap\": false, \"pred\": \"Gentoo\"}, {\"species\": \"Gentoo\", \"island\": \"Biscoe\", \"bill_length_mm\": 42.6, \"bill_depth_mm\": 13.7, \"flipper_length_mm\": 213.0, \"body_mass_g\": 4950.0, \"sex\": \"Female\", \"isChinstrap\": false, \"pred\": \"Gentoo\"}, {\"species\": \"Gentoo\", \"island\": \"Biscoe\", \"bill_length_mm\": 44.4, \"bill_depth_mm\": 17.3, \"flipper_length_mm\": 219.0, \"body_mass_g\": 5250.0, \"sex\": \"Male\", \"isChinstrap\": false, \"pred\": \"Gentoo\"}, {\"species\": \"Gentoo\", \"island\": \"Biscoe\", \"bill_length_mm\": 44.0, \"bill_depth_mm\": 13.6, \"flipper_length_mm\": 208.0, \"body_mass_g\": 4350.0, \"sex\": \"Female\", \"isChinstrap\": false, \"pred\": \"Gentoo\"}, {\"species\": \"Gentoo\", \"island\": \"Biscoe\", \"bill_length_mm\": 48.7, \"bill_depth_mm\": 15.7, \"flipper_length_mm\": 208.0, \"body_mass_g\": 5350.0, \"sex\": \"Male\", \"isChinstrap\": false, \"pred\": \"Gentoo\"}, {\"species\": \"Gentoo\", \"island\": \"Biscoe\", \"bill_length_mm\": 42.7, \"bill_depth_mm\": 13.7, \"flipper_length_mm\": 208.0, \"body_mass_g\": 3950.0, \"sex\": \"Female\", \"isChinstrap\": false, \"pred\": \"Gentoo\"}, {\"species\": \"Gentoo\", \"island\": \"Biscoe\", \"bill_length_mm\": 49.6, \"bill_depth_mm\": 16.0, \"flipper_length_mm\": 225.0, \"body_mass_g\": 5700.0, \"sex\": \"Male\", \"isChinstrap\": false, \"pred\": \"Gentoo\"}, {\"species\": \"Gentoo\", \"island\": \"Biscoe\", \"bill_length_mm\": 45.3, \"bill_depth_mm\": 13.7, \"flipper_length_mm\": 210.0, \"body_mass_g\": 4300.0, \"sex\": \"Female\", \"isChinstrap\": false, \"pred\": \"Gentoo\"}, {\"species\": \"Gentoo\", \"island\": \"Biscoe\", \"bill_length_mm\": 49.6, \"bill_depth_mm\": 15.0, \"flipper_length_mm\": 216.0, \"body_mass_g\": 4750.0, \"sex\": \"Male\", \"isChinstrap\": false, \"pred\": \"Gentoo\"}, {\"species\": \"Gentoo\", \"island\": \"Biscoe\", \"bill_length_mm\": 50.5, \"bill_depth_mm\": 15.9, \"flipper_length_mm\": 222.0, \"body_mass_g\": 5550.0, \"sex\": \"Male\", \"isChinstrap\": false, \"pred\": \"Gentoo\"}, {\"species\": \"Gentoo\", \"island\": \"Biscoe\", \"bill_length_mm\": 43.6, \"bill_depth_mm\": 13.9, \"flipper_length_mm\": 217.0, \"body_mass_g\": 4900.0, \"sex\": \"Female\", \"isChinstrap\": false, \"pred\": \"Gentoo\"}, {\"species\": \"Gentoo\", \"island\": \"Biscoe\", \"bill_length_mm\": 45.5, \"bill_depth_mm\": 13.9, \"flipper_length_mm\": 210.0, \"body_mass_g\": 4200.0, \"sex\": \"Female\", \"isChinstrap\": false, \"pred\": \"Gentoo\"}, {\"species\": \"Gentoo\", \"island\": \"Biscoe\", \"bill_length_mm\": 50.5, \"bill_depth_mm\": 15.9, \"flipper_length_mm\": 225.0, \"body_mass_g\": 5400.0, \"sex\": \"Male\", \"isChinstrap\": false, \"pred\": \"Gentoo\"}, {\"species\": \"Gentoo\", \"island\": \"Biscoe\", \"bill_length_mm\": 44.9, \"bill_depth_mm\": 13.3, \"flipper_length_mm\": 213.0, \"body_mass_g\": 5100.0, \"sex\": \"Female\", \"isChinstrap\": false, \"pred\": \"Gentoo\"}, {\"species\": \"Gentoo\", \"island\": \"Biscoe\", \"bill_length_mm\": 45.2, \"bill_depth_mm\": 15.8, \"flipper_length_mm\": 215.0, \"body_mass_g\": 5300.0, \"sex\": \"Male\", \"isChinstrap\": false, \"pred\": \"Gentoo\"}, {\"species\": \"Gentoo\", \"island\": \"Biscoe\", \"bill_length_mm\": 46.6, \"bill_depth_mm\": 14.2, \"flipper_length_mm\": 210.0, \"body_mass_g\": 4850.0, \"sex\": \"Female\", \"isChinstrap\": false, \"pred\": \"Gentoo\"}, {\"species\": \"Gentoo\", \"island\": \"Biscoe\", \"bill_length_mm\": 48.5, \"bill_depth_mm\": 14.1, \"flipper_length_mm\": 220.0, \"body_mass_g\": 5300.0, \"sex\": \"Male\", \"isChinstrap\": false, \"pred\": \"Gentoo\"}, {\"species\": \"Gentoo\", \"island\": \"Biscoe\", \"bill_length_mm\": 45.1, \"bill_depth_mm\": 14.4, \"flipper_length_mm\": 210.0, \"body_mass_g\": 4400.0, \"sex\": \"Female\", \"isChinstrap\": false, \"pred\": \"Gentoo\"}, {\"species\": \"Gentoo\", \"island\": \"Biscoe\", \"bill_length_mm\": 50.1, \"bill_depth_mm\": 15.0, \"flipper_length_mm\": 225.0, \"body_mass_g\": 5000.0, \"sex\": \"Male\", \"isChinstrap\": false, \"pred\": \"Gentoo\"}, {\"species\": \"Gentoo\", \"island\": \"Biscoe\", \"bill_length_mm\": 46.5, \"bill_depth_mm\": 14.4, \"flipper_length_mm\": 217.0, \"body_mass_g\": 4900.0, \"sex\": \"Female\", \"isChinstrap\": false, \"pred\": \"Gentoo\"}, {\"species\": \"Gentoo\", \"island\": \"Biscoe\", \"bill_length_mm\": 45.0, \"bill_depth_mm\": 15.4, \"flipper_length_mm\": 220.0, \"body_mass_g\": 5050.0, \"sex\": \"Male\", \"isChinstrap\": false, \"pred\": \"Gentoo\"}, {\"species\": \"Gentoo\", \"island\": \"Biscoe\", \"bill_length_mm\": 43.8, \"bill_depth_mm\": 13.9, \"flipper_length_mm\": 208.0, \"body_mass_g\": 4300.0, \"sex\": \"Female\", \"isChinstrap\": false, \"pred\": \"Gentoo\"}, {\"species\": \"Gentoo\", \"island\": \"Biscoe\", \"bill_length_mm\": 45.5, \"bill_depth_mm\": 15.0, \"flipper_length_mm\": 220.0, \"body_mass_g\": 5000.0, \"sex\": \"Male\", \"isChinstrap\": false, \"pred\": \"Gentoo\"}, {\"species\": \"Gentoo\", \"island\": \"Biscoe\", \"bill_length_mm\": 43.2, \"bill_depth_mm\": 14.5, \"flipper_length_mm\": 208.0, \"body_mass_g\": 4450.0, \"sex\": \"Female\", \"isChinstrap\": false, \"pred\": \"Gentoo\"}, {\"species\": \"Gentoo\", \"island\": \"Biscoe\", \"bill_length_mm\": 50.4, \"bill_depth_mm\": 15.3, \"flipper_length_mm\": 224.0, \"body_mass_g\": 5550.0, \"sex\": \"Male\", \"isChinstrap\": false, \"pred\": \"Gentoo\"}, {\"species\": \"Gentoo\", \"island\": \"Biscoe\", \"bill_length_mm\": 45.3, \"bill_depth_mm\": 13.8, \"flipper_length_mm\": 208.0, \"body_mass_g\": 4200.0, \"sex\": \"Female\", \"isChinstrap\": false, \"pred\": \"Gentoo\"}, {\"species\": \"Gentoo\", \"island\": \"Biscoe\", \"bill_length_mm\": 46.2, \"bill_depth_mm\": 14.9, \"flipper_length_mm\": 221.0, \"body_mass_g\": 5300.0, \"sex\": \"Male\", \"isChinstrap\": false, \"pred\": \"Gentoo\"}, {\"species\": \"Gentoo\", \"island\": \"Biscoe\", \"bill_length_mm\": 45.7, \"bill_depth_mm\": 13.9, \"flipper_length_mm\": 214.0, \"body_mass_g\": 4400.0, \"sex\": \"Female\", \"isChinstrap\": false, \"pred\": \"Gentoo\"}, {\"species\": \"Gentoo\", \"island\": \"Biscoe\", \"bill_length_mm\": 54.3, \"bill_depth_mm\": 15.7, \"flipper_length_mm\": 231.0, \"body_mass_g\": 5650.0, \"sex\": \"Male\", \"isChinstrap\": false, \"pred\": \"Gentoo\"}, {\"species\": \"Gentoo\", \"island\": \"Biscoe\", \"bill_length_mm\": 45.8, \"bill_depth_mm\": 14.2, \"flipper_length_mm\": 219.0, \"body_mass_g\": 4700.0, \"sex\": \"Female\", \"isChinstrap\": false, \"pred\": \"Gentoo\"}, {\"species\": \"Gentoo\", \"island\": \"Biscoe\", \"bill_length_mm\": 49.8, \"bill_depth_mm\": 16.8, \"flipper_length_mm\": 230.0, \"body_mass_g\": 5700.0, \"sex\": \"Male\", \"isChinstrap\": false, \"pred\": \"Gentoo\"}, {\"species\": \"Gentoo\", \"island\": \"Biscoe\", \"bill_length_mm\": 49.5, \"bill_depth_mm\": 16.2, \"flipper_length_mm\": 229.0, \"body_mass_g\": 5800.0, \"sex\": \"Male\", \"isChinstrap\": false, \"pred\": \"Gentoo\"}, {\"species\": \"Gentoo\", \"island\": \"Biscoe\", \"bill_length_mm\": 43.5, \"bill_depth_mm\": 14.2, \"flipper_length_mm\": 220.0, \"body_mass_g\": 4700.0, \"sex\": \"Female\", \"isChinstrap\": false, \"pred\": \"Gentoo\"}, {\"species\": \"Gentoo\", \"island\": \"Biscoe\", \"bill_length_mm\": 50.7, \"bill_depth_mm\": 15.0, \"flipper_length_mm\": 223.0, \"body_mass_g\": 5550.0, \"sex\": \"Male\", \"isChinstrap\": false, \"pred\": \"Gentoo\"}, {\"species\": \"Gentoo\", \"island\": \"Biscoe\", \"bill_length_mm\": 47.7, \"bill_depth_mm\": 15.0, \"flipper_length_mm\": 216.0, \"body_mass_g\": 4750.0, \"sex\": \"Female\", \"isChinstrap\": false, \"pred\": \"Gentoo\"}, {\"species\": \"Gentoo\", \"island\": \"Biscoe\", \"bill_length_mm\": 46.4, \"bill_depth_mm\": 15.6, \"flipper_length_mm\": 221.0, \"body_mass_g\": 5000.0, \"sex\": \"Male\", \"isChinstrap\": false, \"pred\": \"Gentoo\"}, {\"species\": \"Gentoo\", \"island\": \"Biscoe\", \"bill_length_mm\": 48.2, \"bill_depth_mm\": 15.6, \"flipper_length_mm\": 221.0, \"body_mass_g\": 5100.0, \"sex\": \"Male\", \"isChinstrap\": false, \"pred\": \"Gentoo\"}, {\"species\": \"Gentoo\", \"island\": \"Biscoe\", \"bill_length_mm\": 46.5, \"bill_depth_mm\": 14.8, \"flipper_length_mm\": 217.0, \"body_mass_g\": 5200.0, \"sex\": \"Female\", \"isChinstrap\": false, \"pred\": \"Gentoo\"}, {\"species\": \"Gentoo\", \"island\": \"Biscoe\", \"bill_length_mm\": 46.4, \"bill_depth_mm\": 15.0, \"flipper_length_mm\": 216.0, \"body_mass_g\": 4700.0, \"sex\": \"Female\", \"isChinstrap\": false, \"pred\": \"Gentoo\"}, {\"species\": \"Gentoo\", \"island\": \"Biscoe\", \"bill_length_mm\": 48.6, \"bill_depth_mm\": 16.0, \"flipper_length_mm\": 230.0, \"body_mass_g\": 5800.0, \"sex\": \"Male\", \"isChinstrap\": false, \"pred\": \"Gentoo\"}, {\"species\": \"Gentoo\", \"island\": \"Biscoe\", \"bill_length_mm\": 47.5, \"bill_depth_mm\": 14.2, \"flipper_length_mm\": 209.0, \"body_mass_g\": 4600.0, \"sex\": \"Female\", \"isChinstrap\": false, \"pred\": \"Gentoo\"}, {\"species\": \"Gentoo\", \"island\": \"Biscoe\", \"bill_length_mm\": 51.1, \"bill_depth_mm\": 16.3, \"flipper_length_mm\": 220.0, \"body_mass_g\": 6000.0, \"sex\": \"Male\", \"isChinstrap\": false, \"pred\": \"Gentoo\"}, {\"species\": \"Gentoo\", \"island\": \"Biscoe\", \"bill_length_mm\": 45.2, \"bill_depth_mm\": 13.8, \"flipper_length_mm\": 215.0, \"body_mass_g\": 4750.0, \"sex\": \"Female\", \"isChinstrap\": false, \"pred\": \"Gentoo\"}, {\"species\": \"Gentoo\", \"island\": \"Biscoe\", \"bill_length_mm\": 45.2, \"bill_depth_mm\": 16.4, \"flipper_length_mm\": 223.0, \"body_mass_g\": 5950.0, \"sex\": \"Male\", \"isChinstrap\": false, \"pred\": \"Gentoo\"}, {\"species\": \"Gentoo\", \"island\": \"Biscoe\", \"bill_length_mm\": 49.1, \"bill_depth_mm\": 14.5, \"flipper_length_mm\": 212.0, \"body_mass_g\": 4625.0, \"sex\": \"Female\", \"isChinstrap\": false, \"pred\": \"Gentoo\"}, {\"species\": \"Gentoo\", \"island\": \"Biscoe\", \"bill_length_mm\": 52.5, \"bill_depth_mm\": 15.6, \"flipper_length_mm\": 221.0, \"body_mass_g\": 5450.0, \"sex\": \"Male\", \"isChinstrap\": false, \"pred\": \"Gentoo\"}, {\"species\": \"Gentoo\", \"island\": \"Biscoe\", \"bill_length_mm\": 47.4, \"bill_depth_mm\": 14.6, \"flipper_length_mm\": 212.0, \"body_mass_g\": 4725.0, \"sex\": \"Female\", \"isChinstrap\": false, \"pred\": \"Gentoo\"}, {\"species\": \"Gentoo\", \"island\": \"Biscoe\", \"bill_length_mm\": 50.0, \"bill_depth_mm\": 15.9, \"flipper_length_mm\": 224.0, \"body_mass_g\": 5350.0, \"sex\": \"Male\", \"isChinstrap\": false, \"pred\": \"Gentoo\"}, {\"species\": \"Gentoo\", \"island\": \"Biscoe\", \"bill_length_mm\": 44.9, \"bill_depth_mm\": 13.8, \"flipper_length_mm\": 212.0, \"body_mass_g\": 4750.0, \"sex\": \"Female\", \"isChinstrap\": false, \"pred\": \"Gentoo\"}, {\"species\": \"Gentoo\", \"island\": \"Biscoe\", \"bill_length_mm\": 50.8, \"bill_depth_mm\": 17.3, \"flipper_length_mm\": 228.0, \"body_mass_g\": 5600.0, \"sex\": \"Male\", \"isChinstrap\": false, \"pred\": \"Gentoo\"}, {\"species\": \"Gentoo\", \"island\": \"Biscoe\", \"bill_length_mm\": 43.4, \"bill_depth_mm\": 14.4, \"flipper_length_mm\": 218.0, \"body_mass_g\": 4600.0, \"sex\": \"Female\", \"isChinstrap\": false, \"pred\": \"Gentoo\"}, {\"species\": \"Gentoo\", \"island\": \"Biscoe\", \"bill_length_mm\": 51.3, \"bill_depth_mm\": 14.2, \"flipper_length_mm\": 218.0, \"body_mass_g\": 5300.0, \"sex\": \"Male\", \"isChinstrap\": false, \"pred\": \"Gentoo\"}, {\"species\": \"Gentoo\", \"island\": \"Biscoe\", \"bill_length_mm\": 47.5, \"bill_depth_mm\": 14.0, \"flipper_length_mm\": 212.0, \"body_mass_g\": 4875.0, \"sex\": \"Female\", \"isChinstrap\": false, \"pred\": \"Gentoo\"}, {\"species\": \"Gentoo\", \"island\": \"Biscoe\", \"bill_length_mm\": 52.1, \"bill_depth_mm\": 17.0, \"flipper_length_mm\": 230.0, \"body_mass_g\": 5550.0, \"sex\": \"Male\", \"isChinstrap\": false, \"pred\": \"Gentoo\"}, {\"species\": \"Gentoo\", \"island\": \"Biscoe\", \"bill_length_mm\": 47.5, \"bill_depth_mm\": 15.0, \"flipper_length_mm\": 218.0, \"body_mass_g\": 4950.0, \"sex\": \"Female\", \"isChinstrap\": false, \"pred\": \"Gentoo\"}, {\"species\": \"Gentoo\", \"island\": \"Biscoe\", \"bill_length_mm\": 52.2, \"bill_depth_mm\": 17.1, \"flipper_length_mm\": 228.0, \"body_mass_g\": 5400.0, \"sex\": \"Male\", \"isChinstrap\": false, \"pred\": \"Gentoo\"}, {\"species\": \"Gentoo\", \"island\": \"Biscoe\", \"bill_length_mm\": 45.5, \"bill_depth_mm\": 14.5, \"flipper_length_mm\": 212.0, \"body_mass_g\": 4750.0, \"sex\": \"Female\", \"isChinstrap\": false, \"pred\": \"Gentoo\"}, {\"species\": \"Gentoo\", \"island\": \"Biscoe\", \"bill_length_mm\": 49.5, \"bill_depth_mm\": 16.1, \"flipper_length_mm\": 224.0, \"body_mass_g\": 5650.0, \"sex\": \"Male\", \"isChinstrap\": false, \"pred\": \"Gentoo\"}, {\"species\": \"Gentoo\", \"island\": \"Biscoe\", \"bill_length_mm\": 44.5, \"bill_depth_mm\": 14.7, \"flipper_length_mm\": 214.0, \"body_mass_g\": 4850.0, \"sex\": \"Female\", \"isChinstrap\": false, \"pred\": \"Gentoo\"}, {\"species\": \"Gentoo\", \"island\": \"Biscoe\", \"bill_length_mm\": 50.8, \"bill_depth_mm\": 15.7, \"flipper_length_mm\": 226.0, \"body_mass_g\": 5200.0, \"sex\": \"Male\", \"isChinstrap\": false, \"pred\": \"Gentoo\"}, {\"species\": \"Gentoo\", \"island\": \"Biscoe\", \"bill_length_mm\": 49.4, \"bill_depth_mm\": 15.8, \"flipper_length_mm\": 216.0, \"body_mass_g\": 4925.0, \"sex\": \"Male\", \"isChinstrap\": false, \"pred\": \"Gentoo\"}, {\"species\": \"Gentoo\", \"island\": \"Biscoe\", \"bill_length_mm\": 46.9, \"bill_depth_mm\": 14.6, \"flipper_length_mm\": 222.0, \"body_mass_g\": 4875.0, \"sex\": \"Female\", \"isChinstrap\": false, \"pred\": \"Gentoo\"}, {\"species\": \"Gentoo\", \"island\": \"Biscoe\", \"bill_length_mm\": 48.4, \"bill_depth_mm\": 14.4, \"flipper_length_mm\": 203.0, \"body_mass_g\": 4625.0, \"sex\": \"Female\", \"isChinstrap\": false, \"pred\": \"Chinstrap\"}, {\"species\": \"Gentoo\", \"island\": \"Biscoe\", \"bill_length_mm\": 51.1, \"bill_depth_mm\": 16.5, \"flipper_length_mm\": 225.0, \"body_mass_g\": 5250.0, \"sex\": \"Male\", \"isChinstrap\": false, \"pred\": \"Gentoo\"}, {\"species\": \"Gentoo\", \"island\": \"Biscoe\", \"bill_length_mm\": 48.5, \"bill_depth_mm\": 15.0, \"flipper_length_mm\": 219.0, \"body_mass_g\": 4850.0, \"sex\": \"Female\", \"isChinstrap\": false, \"pred\": \"Gentoo\"}, {\"species\": \"Gentoo\", \"island\": \"Biscoe\", \"bill_length_mm\": 55.9, \"bill_depth_mm\": 17.0, \"flipper_length_mm\": 228.0, \"body_mass_g\": 5600.0, \"sex\": \"Male\", \"isChinstrap\": false, \"pred\": \"Gentoo\"}, {\"species\": \"Gentoo\", \"island\": \"Biscoe\", \"bill_length_mm\": 47.2, \"bill_depth_mm\": 15.5, \"flipper_length_mm\": 215.0, \"body_mass_g\": 4975.0, \"sex\": \"Female\", \"isChinstrap\": false, \"pred\": \"Gentoo\"}, {\"species\": \"Gentoo\", \"island\": \"Biscoe\", \"bill_length_mm\": 49.1, \"bill_depth_mm\": 15.0, \"flipper_length_mm\": 228.0, \"body_mass_g\": 5500.0, \"sex\": \"Male\", \"isChinstrap\": false, \"pred\": \"Gentoo\"}, {\"species\": \"Gentoo\", \"island\": \"Biscoe\", \"bill_length_mm\": 46.8, \"bill_depth_mm\": 16.1, \"flipper_length_mm\": 215.0, \"body_mass_g\": 5500.0, \"sex\": \"Male\", \"isChinstrap\": false, \"pred\": \"Gentoo\"}, {\"species\": \"Gentoo\", \"island\": \"Biscoe\", \"bill_length_mm\": 41.7, \"bill_depth_mm\": 14.7, \"flipper_length_mm\": 210.0, \"body_mass_g\": 4700.0, \"sex\": \"Female\", \"isChinstrap\": false, \"pred\": \"Gentoo\"}, {\"species\": \"Gentoo\", \"island\": \"Biscoe\", \"bill_length_mm\": 53.4, \"bill_depth_mm\": 15.8, \"flipper_length_mm\": 219.0, \"body_mass_g\": 5500.0, \"sex\": \"Male\", \"isChinstrap\": false, \"pred\": \"Gentoo\"}, {\"species\": \"Gentoo\", \"island\": \"Biscoe\", \"bill_length_mm\": 43.3, \"bill_depth_mm\": 14.0, \"flipper_length_mm\": 208.0, \"body_mass_g\": 4575.0, \"sex\": \"Female\", \"isChinstrap\": false, \"pred\": \"Gentoo\"}, {\"species\": \"Gentoo\", \"island\": \"Biscoe\", \"bill_length_mm\": 48.1, \"bill_depth_mm\": 15.1, \"flipper_length_mm\": 209.0, \"body_mass_g\": 5500.0, \"sex\": \"Male\", \"isChinstrap\": false, \"pred\": \"Gentoo\"}, {\"species\": \"Gentoo\", \"island\": \"Biscoe\", \"bill_length_mm\": 50.5, \"bill_depth_mm\": 15.2, \"flipper_length_mm\": 216.0, \"body_mass_g\": 5000.0, \"sex\": \"Female\", \"isChinstrap\": false, \"pred\": \"Gentoo\"}, {\"species\": \"Gentoo\", \"island\": \"Biscoe\", \"bill_length_mm\": 49.8, \"bill_depth_mm\": 15.9, \"flipper_length_mm\": 229.0, \"body_mass_g\": 5950.0, \"sex\": \"Male\", \"isChinstrap\": false, \"pred\": \"Gentoo\"}, {\"species\": \"Gentoo\", \"island\": \"Biscoe\", \"bill_length_mm\": 43.5, \"bill_depth_mm\": 15.2, \"flipper_length_mm\": 213.0, \"body_mass_g\": 4650.0, \"sex\": \"Female\", \"isChinstrap\": false, \"pred\": \"Gentoo\"}, {\"species\": \"Gentoo\", \"island\": \"Biscoe\", \"bill_length_mm\": 51.5, \"bill_depth_mm\": 16.3, \"flipper_length_mm\": 230.0, \"body_mass_g\": 5500.0, \"sex\": \"Male\", \"isChinstrap\": false, \"pred\": \"Gentoo\"}, {\"species\": \"Gentoo\", \"island\": \"Biscoe\", \"bill_length_mm\": 46.2, \"bill_depth_mm\": 14.1, \"flipper_length_mm\": 217.0, \"body_mass_g\": 4375.0, \"sex\": \"Female\", \"isChinstrap\": false, \"pred\": \"Gentoo\"}, {\"species\": \"Gentoo\", \"island\": \"Biscoe\", \"bill_length_mm\": 55.1, \"bill_depth_mm\": 16.0, \"flipper_length_mm\": 230.0, \"body_mass_g\": 5850.0, \"sex\": \"Male\", \"isChinstrap\": false, \"pred\": \"Gentoo\"}, {\"species\": \"Gentoo\", \"island\": \"Biscoe\", \"bill_length_mm\": 48.8, \"bill_depth_mm\": 16.2, \"flipper_length_mm\": 222.0, \"body_mass_g\": 6000.0, \"sex\": \"Male\", \"isChinstrap\": false, \"pred\": \"Gentoo\"}, {\"species\": \"Gentoo\", \"island\": \"Biscoe\", \"bill_length_mm\": 47.2, \"bill_depth_mm\": 13.7, \"flipper_length_mm\": 214.0, \"body_mass_g\": 4925.0, \"sex\": \"Female\", \"isChinstrap\": false, \"pred\": \"Gentoo\"}, {\"species\": \"Gentoo\", \"island\": \"Biscoe\", \"bill_length_mm\": 46.8, \"bill_depth_mm\": 14.3, \"flipper_length_mm\": 215.0, \"body_mass_g\": 4850.0, \"sex\": \"Female\", \"isChinstrap\": false, \"pred\": \"Gentoo\"}, {\"species\": \"Gentoo\", \"island\": \"Biscoe\", \"bill_length_mm\": 50.4, \"bill_depth_mm\": 15.7, \"flipper_length_mm\": 222.0, \"body_mass_g\": 5750.0, \"sex\": \"Male\", \"isChinstrap\": false, \"pred\": \"Gentoo\"}, {\"species\": \"Gentoo\", \"island\": \"Biscoe\", \"bill_length_mm\": 45.2, \"bill_depth_mm\": 14.8, \"flipper_length_mm\": 212.0, \"body_mass_g\": 5200.0, \"sex\": \"Female\", \"isChinstrap\": false, \"pred\": \"Gentoo\"}, {\"species\": \"Gentoo\", \"island\": \"Biscoe\", \"bill_length_mm\": 49.9, \"bill_depth_mm\": 16.1, \"flipper_length_mm\": 213.0, \"body_mass_g\": 5400.0, \"sex\": \"Male\", \"isChinstrap\": false, \"pred\": \"Gentoo\"}]}}, {\"mode\": \"vega-lite\"});\n",
       "</script>"
      ],
      "text/plain": [
       "alt.Chart(...)"
      ]
     },
     "execution_count": 23,
     "metadata": {},
     "output_type": "execute_result"
    }
   ],
   "source": [
    "alt.Chart(df).mark_circle().encode(\n",
    "    x = alt.X(cols[0], scale = alt.Scale(zero=False)),\n",
    "    y = alt.Y(cols[1], scale = alt.Scale(zero=False)),\n",
    "    color = 'pred:N'\n",
    ")"
   ]
  },
  {
   "cell_type": "markdown",
   "metadata": {
    "cell_id": "8cec10bcefd6486499d8299c2333beef",
    "deepnote_cell_type": "markdown"
   },
   "source": [
    "It is a little hard to see from the above picture how the predictions are made.  It turns out there are a few straight line segments, and on one side of each line segment, one prediction is made, and on the other side, another prediction is made.  We will make a fake dataset from which these \"decision boundaries\" are more clear.\n",
    "\n",
    "* Using `np.linspace`, make a NumPy array of 70 equally spaced x-coordinates and 70 equally spaced y-coordinates.  Name these NumPy arrays `x` and `y`.\n",
    "\n",
    "Notice how the ranges chosen here are chosen so that it matches the approximate ranges of the flipper length and the bill length."
   ]
  },
  {
   "cell_type": "code",
   "execution_count": null,
   "metadata": {
    "cell_id": "a206d8dcda8f44ffbabe118140462ea3",
    "deepnote_cell_type": "code",
    "deepnote_to_be_reexecuted": false,
    "execution_millis": 13,
    "execution_start": 1700084120905,
    "source_hash": null
   },
   "outputs": [],
   "source": [
    "x = np.linspace(170, 235, 70)\n",
    "y = np.linspace(30, 60, 70)"
   ]
  },
  {
   "cell_type": "code",
   "execution_count": null,
   "metadata": {
    "cell_id": "b7be945806a94a80bc375494a258e3ea",
    "deepnote_cell_type": "code",
    "deepnote_to_be_reexecuted": false,
    "execution_millis": 19,
    "execution_start": 1700084127483,
    "source_hash": null
   },
   "outputs": [
    {
     "data": {
      "text/plain": [
       "(70,)"
      ]
     },
     "execution_count": 25,
     "metadata": {},
     "output_type": "execute_result"
    }
   ],
   "source": [
    "x.shape"
   ]
  },
  {
   "cell_type": "markdown",
   "metadata": {
    "cell_id": "67b5cae0ce364d99b64b46dccdac7953",
    "deepnote_cell_type": "markdown"
   },
   "source": [
    "* Make a DataFrame `df_art` (for \"artificial\") containing all the possible pairs of coordinates from `x` and `y`.  (We chose `70` above so `df_art` will have `4900` rows, which is a good length for Altair.)\n",
    "\n",
    "To get these pairs, we can use `itertools.product`.\n"
   ]
  },
  {
   "cell_type": "code",
   "execution_count": null,
   "metadata": {
    "cell_id": "95b849ef7e5149138daf0f87a0ee1e87",
    "deepnote_cell_type": "code",
    "deepnote_to_be_reexecuted": false,
    "execution_millis": 7,
    "execution_start": 1700084226793,
    "source_hash": null
   },
   "outputs": [],
   "source": [
    "from itertools import product"
   ]
  },
  {
   "cell_type": "code",
   "execution_count": null,
   "metadata": {
    "cell_id": "fc03b3da92d54da3bc166cd5f1368a30",
    "deepnote_cell_type": "code",
    "deepnote_to_be_reexecuted": false,
    "execution_millis": 8,
    "execution_start": 1700084251894,
    "source_hash": null
   },
   "outputs": [
    {
     "data": {
      "text/plain": [
       "<itertools.product at 0x7f51428f6ec0>"
      ]
     },
     "execution_count": 27,
     "metadata": {},
     "output_type": "execute_result"
    }
   ],
   "source": [
    "product(x, y)"
   ]
  },
  {
   "cell_type": "code",
   "execution_count": null,
   "metadata": {
    "cell_id": "10a6ad4d767e418c8a1dbe0676042d25",
    "deepnote_cell_type": "code",
    "deepnote_to_be_reexecuted": false,
    "editable": true,
    "execution_millis": 11,
    "execution_start": 1700084276996,
    "scrolled": true,
    "slideshow": {
     "slide_type": ""
    },
    "source_hash": null,
    "tags": []
   },
   "outputs": [
    {
     "data": {
      "text/plain": [
       "[(170.0, 30.0),\n",
       " (170.0, 30.434782608695652),\n",
       " (170.0, 30.869565217391305),\n",
       " (170.0, 31.304347826086957),\n",
       " (170.0, 31.73913043478261),\n",
       " (170.0, 32.17391304347826),\n",
       " (170.0, 32.608695652173914),\n",
       " (170.0, 33.04347826086956),\n",
       " (170.0, 33.47826086956522),\n",
       " (170.0, 33.91304347826087),\n",
       " (170.0, 34.34782608695652),\n",
       " (170.0, 34.78260869565217),\n",
       " (170.0, 35.21739130434783),\n",
       " (170.0, 35.65217391304348),\n",
       " (170.0, 36.08695652173913),\n",
       " (170.0, 36.52173913043478),\n",
       " (170.0, 36.95652173913044),\n",
       " (170.0, 37.391304347826086),\n",
       " (170.0, 37.82608695652174),\n",
       " (170.0, 38.26086956521739),\n",
       " (170.0, 38.69565217391305),\n",
       " (170.0, 39.130434782608695),\n",
       " (170.0, 39.565217391304344),\n",
       " (170.0, 40.0),\n",
       " (170.0, 40.434782608695656),\n",
       " (170.0, 40.869565217391305),\n",
       " (170.0, 41.30434782608695),\n",
       " (170.0, 41.73913043478261),\n",
       " (170.0, 42.17391304347826),\n",
       " (170.0, 42.608695652173914),\n",
       " (170.0, 43.04347826086956),\n",
       " (170.0, 43.47826086956522),\n",
       " (170.0, 43.91304347826087),\n",
       " (170.0, 44.34782608695652),\n",
       " (170.0, 44.78260869565217),\n",
       " (170.0, 45.21739130434783),\n",
       " (170.0, 45.65217391304348),\n",
       " (170.0, 46.086956521739125),\n",
       " (170.0, 46.52173913043478),\n",
       " (170.0, 46.95652173913044),\n",
       " (170.0, 47.391304347826086),\n",
       " (170.0, 47.826086956521735),\n",
       " (170.0, 48.26086956521739),\n",
       " (170.0, 48.69565217391305),\n",
       " (170.0, 49.130434782608695),\n",
       " (170.0, 49.565217391304344),\n",
       " (170.0, 50.0),\n",
       " (170.0, 50.434782608695656),\n",
       " (170.0, 50.869565217391305),\n",
       " (170.0, 51.30434782608695),\n",
       " (170.0, 51.73913043478261),\n",
       " (170.0, 52.173913043478265),\n",
       " (170.0, 52.608695652173914),\n",
       " (170.0, 53.04347826086956),\n",
       " (170.0, 53.47826086956522),\n",
       " (170.0, 53.91304347826087),\n",
       " (170.0, 54.347826086956516),\n",
       " (170.0, 54.78260869565217),\n",
       " (170.0, 55.21739130434783),\n",
       " (170.0, 55.65217391304348),\n",
       " (170.0, 56.086956521739125),\n",
       " (170.0, 56.52173913043478),\n",
       " (170.0, 56.95652173913044),\n",
       " (170.0, 57.391304347826086),\n",
       " (170.0, 57.826086956521735),\n",
       " (170.0, 58.26086956521739),\n",
       " (170.0, 58.69565217391305),\n",
       " (170.0, 59.130434782608695),\n",
       " (170.0, 59.565217391304344),\n",
       " (170.0, 60.0),\n",
       " (170.94202898550725, 30.0),\n",
       " (170.94202898550725, 30.434782608695652),\n",
       " (170.94202898550725, 30.869565217391305),\n",
       " (170.94202898550725, 31.304347826086957),\n",
       " (170.94202898550725, 31.73913043478261),\n",
       " (170.94202898550725, 32.17391304347826),\n",
       " (170.94202898550725, 32.608695652173914),\n",
       " (170.94202898550725, 33.04347826086956),\n",
       " (170.94202898550725, 33.47826086956522),\n",
       " (170.94202898550725, 33.91304347826087),\n",
       " (170.94202898550725, 34.34782608695652),\n",
       " (170.94202898550725, 34.78260869565217),\n",
       " (170.94202898550725, 35.21739130434783),\n",
       " (170.94202898550725, 35.65217391304348),\n",
       " (170.94202898550725, 36.08695652173913),\n",
       " (170.94202898550725, 36.52173913043478),\n",
       " (170.94202898550725, 36.95652173913044),\n",
       " (170.94202898550725, 37.391304347826086),\n",
       " (170.94202898550725, 37.82608695652174),\n",
       " (170.94202898550725, 38.26086956521739),\n",
       " (170.94202898550725, 38.69565217391305),\n",
       " (170.94202898550725, 39.130434782608695),\n",
       " (170.94202898550725, 39.565217391304344),\n",
       " (170.94202898550725, 40.0),\n",
       " (170.94202898550725, 40.434782608695656),\n",
       " (170.94202898550725, 40.869565217391305),\n",
       " (170.94202898550725, 41.30434782608695),\n",
       " (170.94202898550725, 41.73913043478261),\n",
       " (170.94202898550725, 42.17391304347826),\n",
       " (170.94202898550725, 42.608695652173914),\n",
       " (170.94202898550725, 43.04347826086956),\n",
       " (170.94202898550725, 43.47826086956522),\n",
       " (170.94202898550725, 43.91304347826087),\n",
       " (170.94202898550725, 44.34782608695652),\n",
       " (170.94202898550725, 44.78260869565217),\n",
       " (170.94202898550725, 45.21739130434783),\n",
       " (170.94202898550725, 45.65217391304348),\n",
       " (170.94202898550725, 46.086956521739125),\n",
       " (170.94202898550725, 46.52173913043478),\n",
       " (170.94202898550725, 46.95652173913044),\n",
       " (170.94202898550725, 47.391304347826086),\n",
       " (170.94202898550725, 47.826086956521735),\n",
       " (170.94202898550725, 48.26086956521739),\n",
       " (170.94202898550725, 48.69565217391305),\n",
       " (170.94202898550725, 49.130434782608695),\n",
       " (170.94202898550725, 49.565217391304344),\n",
       " (170.94202898550725, 50.0),\n",
       " (170.94202898550725, 50.434782608695656),\n",
       " (170.94202898550725, 50.869565217391305),\n",
       " (170.94202898550725, 51.30434782608695),\n",
       " (170.94202898550725, 51.73913043478261),\n",
       " (170.94202898550725, 52.173913043478265),\n",
       " (170.94202898550725, 52.608695652173914),\n",
       " (170.94202898550725, 53.04347826086956),\n",
       " (170.94202898550725, 53.47826086956522),\n",
       " (170.94202898550725, 53.91304347826087),\n",
       " (170.94202898550725, 54.347826086956516),\n",
       " (170.94202898550725, 54.78260869565217),\n",
       " (170.94202898550725, 55.21739130434783),\n",
       " (170.94202898550725, 55.65217391304348),\n",
       " (170.94202898550725, 56.086956521739125),\n",
       " (170.94202898550725, 56.52173913043478),\n",
       " (170.94202898550725, 56.95652173913044),\n",
       " (170.94202898550725, 57.391304347826086),\n",
       " (170.94202898550725, 57.826086956521735),\n",
       " (170.94202898550725, 58.26086956521739),\n",
       " (170.94202898550725, 58.69565217391305),\n",
       " (170.94202898550725, 59.130434782608695),\n",
       " (170.94202898550725, 59.565217391304344),\n",
       " (170.94202898550725, 60.0),\n",
       " (171.8840579710145, 30.0),\n",
       " (171.8840579710145, 30.434782608695652),\n",
       " (171.8840579710145, 30.869565217391305),\n",
       " (171.8840579710145, 31.304347826086957),\n",
       " (171.8840579710145, 31.73913043478261),\n",
       " (171.8840579710145, 32.17391304347826),\n",
       " (171.8840579710145, 32.608695652173914),\n",
       " (171.8840579710145, 33.04347826086956),\n",
       " (171.8840579710145, 33.47826086956522),\n",
       " (171.8840579710145, 33.91304347826087),\n",
       " (171.8840579710145, 34.34782608695652),\n",
       " (171.8840579710145, 34.78260869565217),\n",
       " (171.8840579710145, 35.21739130434783),\n",
       " (171.8840579710145, 35.65217391304348),\n",
       " (171.8840579710145, 36.08695652173913),\n",
       " (171.8840579710145, 36.52173913043478),\n",
       " (171.8840579710145, 36.95652173913044),\n",
       " (171.8840579710145, 37.391304347826086),\n",
       " (171.8840579710145, 37.82608695652174),\n",
       " (171.8840579710145, 38.26086956521739),\n",
       " (171.8840579710145, 38.69565217391305),\n",
       " (171.8840579710145, 39.130434782608695),\n",
       " (171.8840579710145, 39.565217391304344),\n",
       " (171.8840579710145, 40.0),\n",
       " (171.8840579710145, 40.434782608695656),\n",
       " (171.8840579710145, 40.869565217391305),\n",
       " (171.8840579710145, 41.30434782608695),\n",
       " (171.8840579710145, 41.73913043478261),\n",
       " (171.8840579710145, 42.17391304347826),\n",
       " (171.8840579710145, 42.608695652173914),\n",
       " (171.8840579710145, 43.04347826086956),\n",
       " (171.8840579710145, 43.47826086956522),\n",
       " (171.8840579710145, 43.91304347826087),\n",
       " (171.8840579710145, 44.34782608695652),\n",
       " (171.8840579710145, 44.78260869565217),\n",
       " (171.8840579710145, 45.21739130434783),\n",
       " (171.8840579710145, 45.65217391304348),\n",
       " (171.8840579710145, 46.086956521739125),\n",
       " (171.8840579710145, 46.52173913043478),\n",
       " (171.8840579710145, 46.95652173913044),\n",
       " (171.8840579710145, 47.391304347826086),\n",
       " (171.8840579710145, 47.826086956521735),\n",
       " (171.8840579710145, 48.26086956521739),\n",
       " (171.8840579710145, 48.69565217391305),\n",
       " (171.8840579710145, 49.130434782608695),\n",
       " (171.8840579710145, 49.565217391304344),\n",
       " (171.8840579710145, 50.0),\n",
       " (171.8840579710145, 50.434782608695656),\n",
       " (171.8840579710145, 50.869565217391305),\n",
       " (171.8840579710145, 51.30434782608695),\n",
       " (171.8840579710145, 51.73913043478261),\n",
       " (171.8840579710145, 52.173913043478265),\n",
       " (171.8840579710145, 52.608695652173914),\n",
       " (171.8840579710145, 53.04347826086956),\n",
       " (171.8840579710145, 53.47826086956522),\n",
       " (171.8840579710145, 53.91304347826087),\n",
       " (171.8840579710145, 54.347826086956516),\n",
       " (171.8840579710145, 54.78260869565217),\n",
       " (171.8840579710145, 55.21739130434783),\n",
       " (171.8840579710145, 55.65217391304348),\n",
       " (171.8840579710145, 56.086956521739125),\n",
       " (171.8840579710145, 56.52173913043478),\n",
       " (171.8840579710145, 56.95652173913044),\n",
       " (171.8840579710145, 57.391304347826086),\n",
       " (171.8840579710145, 57.826086956521735),\n",
       " (171.8840579710145, 58.26086956521739),\n",
       " (171.8840579710145, 58.69565217391305),\n",
       " (171.8840579710145, 59.130434782608695),\n",
       " (171.8840579710145, 59.565217391304344),\n",
       " (171.8840579710145, 60.0),\n",
       " (172.82608695652175, 30.0),\n",
       " (172.82608695652175, 30.434782608695652),\n",
       " (172.82608695652175, 30.869565217391305),\n",
       " (172.82608695652175, 31.304347826086957),\n",
       " (172.82608695652175, 31.73913043478261),\n",
       " (172.82608695652175, 32.17391304347826),\n",
       " (172.82608695652175, 32.608695652173914),\n",
       " (172.82608695652175, 33.04347826086956),\n",
       " (172.82608695652175, 33.47826086956522),\n",
       " (172.82608695652175, 33.91304347826087),\n",
       " (172.82608695652175, 34.34782608695652),\n",
       " (172.82608695652175, 34.78260869565217),\n",
       " (172.82608695652175, 35.21739130434783),\n",
       " (172.82608695652175, 35.65217391304348),\n",
       " (172.82608695652175, 36.08695652173913),\n",
       " (172.82608695652175, 36.52173913043478),\n",
       " (172.82608695652175, 36.95652173913044),\n",
       " (172.82608695652175, 37.391304347826086),\n",
       " (172.82608695652175, 37.82608695652174),\n",
       " (172.82608695652175, 38.26086956521739),\n",
       " (172.82608695652175, 38.69565217391305),\n",
       " (172.82608695652175, 39.130434782608695),\n",
       " (172.82608695652175, 39.565217391304344),\n",
       " (172.82608695652175, 40.0),\n",
       " (172.82608695652175, 40.434782608695656),\n",
       " (172.82608695652175, 40.869565217391305),\n",
       " (172.82608695652175, 41.30434782608695),\n",
       " (172.82608695652175, 41.73913043478261),\n",
       " (172.82608695652175, 42.17391304347826),\n",
       " (172.82608695652175, 42.608695652173914),\n",
       " (172.82608695652175, 43.04347826086956),\n",
       " (172.82608695652175, 43.47826086956522),\n",
       " (172.82608695652175, 43.91304347826087),\n",
       " (172.82608695652175, 44.34782608695652),\n",
       " (172.82608695652175, 44.78260869565217),\n",
       " (172.82608695652175, 45.21739130434783),\n",
       " (172.82608695652175, 45.65217391304348),\n",
       " (172.82608695652175, 46.086956521739125),\n",
       " (172.82608695652175, 46.52173913043478),\n",
       " (172.82608695652175, 46.95652173913044),\n",
       " (172.82608695652175, 47.391304347826086),\n",
       " (172.82608695652175, 47.826086956521735),\n",
       " (172.82608695652175, 48.26086956521739),\n",
       " (172.82608695652175, 48.69565217391305),\n",
       " (172.82608695652175, 49.130434782608695),\n",
       " (172.82608695652175, 49.565217391304344),\n",
       " (172.82608695652175, 50.0),\n",
       " (172.82608695652175, 50.434782608695656),\n",
       " (172.82608695652175, 50.869565217391305),\n",
       " (172.82608695652175, 51.30434782608695),\n",
       " (172.82608695652175, 51.73913043478261),\n",
       " (172.82608695652175, 52.173913043478265),\n",
       " (172.82608695652175, 52.608695652173914),\n",
       " (172.82608695652175, 53.04347826086956),\n",
       " (172.82608695652175, 53.47826086956522),\n",
       " (172.82608695652175, 53.91304347826087),\n",
       " (172.82608695652175, 54.347826086956516),\n",
       " (172.82608695652175, 54.78260869565217),\n",
       " (172.82608695652175, 55.21739130434783),\n",
       " (172.82608695652175, 55.65217391304348),\n",
       " (172.82608695652175, 56.086956521739125),\n",
       " (172.82608695652175, 56.52173913043478),\n",
       " (172.82608695652175, 56.95652173913044),\n",
       " (172.82608695652175, 57.391304347826086),\n",
       " (172.82608695652175, 57.826086956521735),\n",
       " (172.82608695652175, 58.26086956521739),\n",
       " (172.82608695652175, 58.69565217391305),\n",
       " (172.82608695652175, 59.130434782608695),\n",
       " (172.82608695652175, 59.565217391304344),\n",
       " (172.82608695652175, 60.0),\n",
       " (173.768115942029, 30.0),\n",
       " (173.768115942029, 30.434782608695652),\n",
       " (173.768115942029, 30.869565217391305),\n",
       " (173.768115942029, 31.304347826086957),\n",
       " (173.768115942029, 31.73913043478261),\n",
       " (173.768115942029, 32.17391304347826),\n",
       " (173.768115942029, 32.608695652173914),\n",
       " (173.768115942029, 33.04347826086956),\n",
       " (173.768115942029, 33.47826086956522),\n",
       " (173.768115942029, 33.91304347826087),\n",
       " (173.768115942029, 34.34782608695652),\n",
       " (173.768115942029, 34.78260869565217),\n",
       " (173.768115942029, 35.21739130434783),\n",
       " (173.768115942029, 35.65217391304348),\n",
       " (173.768115942029, 36.08695652173913),\n",
       " (173.768115942029, 36.52173913043478),\n",
       " (173.768115942029, 36.95652173913044),\n",
       " (173.768115942029, 37.391304347826086),\n",
       " (173.768115942029, 37.82608695652174),\n",
       " (173.768115942029, 38.26086956521739),\n",
       " (173.768115942029, 38.69565217391305),\n",
       " (173.768115942029, 39.130434782608695),\n",
       " (173.768115942029, 39.565217391304344),\n",
       " (173.768115942029, 40.0),\n",
       " (173.768115942029, 40.434782608695656),\n",
       " (173.768115942029, 40.869565217391305),\n",
       " (173.768115942029, 41.30434782608695),\n",
       " (173.768115942029, 41.73913043478261),\n",
       " (173.768115942029, 42.17391304347826),\n",
       " (173.768115942029, 42.608695652173914),\n",
       " (173.768115942029, 43.04347826086956),\n",
       " (173.768115942029, 43.47826086956522),\n",
       " (173.768115942029, 43.91304347826087),\n",
       " (173.768115942029, 44.34782608695652),\n",
       " (173.768115942029, 44.78260869565217),\n",
       " (173.768115942029, 45.21739130434783),\n",
       " (173.768115942029, 45.65217391304348),\n",
       " (173.768115942029, 46.086956521739125),\n",
       " (173.768115942029, 46.52173913043478),\n",
       " (173.768115942029, 46.95652173913044),\n",
       " (173.768115942029, 47.391304347826086),\n",
       " (173.768115942029, 47.826086956521735),\n",
       " (173.768115942029, 48.26086956521739),\n",
       " (173.768115942029, 48.69565217391305),\n",
       " (173.768115942029, 49.130434782608695),\n",
       " (173.768115942029, 49.565217391304344),\n",
       " (173.768115942029, 50.0),\n",
       " (173.768115942029, 50.434782608695656),\n",
       " (173.768115942029, 50.869565217391305),\n",
       " (173.768115942029, 51.30434782608695),\n",
       " (173.768115942029, 51.73913043478261),\n",
       " (173.768115942029, 52.173913043478265),\n",
       " (173.768115942029, 52.608695652173914),\n",
       " (173.768115942029, 53.04347826086956),\n",
       " (173.768115942029, 53.47826086956522),\n",
       " (173.768115942029, 53.91304347826087),\n",
       " (173.768115942029, 54.347826086956516),\n",
       " (173.768115942029, 54.78260869565217),\n",
       " (173.768115942029, 55.21739130434783),\n",
       " (173.768115942029, 55.65217391304348),\n",
       " (173.768115942029, 56.086956521739125),\n",
       " (173.768115942029, 56.52173913043478),\n",
       " (173.768115942029, 56.95652173913044),\n",
       " (173.768115942029, 57.391304347826086),\n",
       " (173.768115942029, 57.826086956521735),\n",
       " (173.768115942029, 58.26086956521739),\n",
       " (173.768115942029, 58.69565217391305),\n",
       " (173.768115942029, 59.130434782608695),\n",
       " (173.768115942029, 59.565217391304344),\n",
       " (173.768115942029, 60.0),\n",
       " (174.71014492753622, 30.0),\n",
       " (174.71014492753622, 30.434782608695652),\n",
       " (174.71014492753622, 30.869565217391305),\n",
       " (174.71014492753622, 31.304347826086957),\n",
       " (174.71014492753622, 31.73913043478261),\n",
       " (174.71014492753622, 32.17391304347826),\n",
       " (174.71014492753622, 32.608695652173914),\n",
       " (174.71014492753622, 33.04347826086956),\n",
       " (174.71014492753622, 33.47826086956522),\n",
       " (174.71014492753622, 33.91304347826087),\n",
       " (174.71014492753622, 34.34782608695652),\n",
       " (174.71014492753622, 34.78260869565217),\n",
       " (174.71014492753622, 35.21739130434783),\n",
       " (174.71014492753622, 35.65217391304348),\n",
       " (174.71014492753622, 36.08695652173913),\n",
       " (174.71014492753622, 36.52173913043478),\n",
       " (174.71014492753622, 36.95652173913044),\n",
       " (174.71014492753622, 37.391304347826086),\n",
       " (174.71014492753622, 37.82608695652174),\n",
       " (174.71014492753622, 38.26086956521739),\n",
       " (174.71014492753622, 38.69565217391305),\n",
       " (174.71014492753622, 39.130434782608695),\n",
       " (174.71014492753622, 39.565217391304344),\n",
       " (174.71014492753622, 40.0),\n",
       " (174.71014492753622, 40.434782608695656),\n",
       " (174.71014492753622, 40.869565217391305),\n",
       " (174.71014492753622, 41.30434782608695),\n",
       " (174.71014492753622, 41.73913043478261),\n",
       " (174.71014492753622, 42.17391304347826),\n",
       " (174.71014492753622, 42.608695652173914),\n",
       " (174.71014492753622, 43.04347826086956),\n",
       " (174.71014492753622, 43.47826086956522),\n",
       " (174.71014492753622, 43.91304347826087),\n",
       " (174.71014492753622, 44.34782608695652),\n",
       " (174.71014492753622, 44.78260869565217),\n",
       " (174.71014492753622, 45.21739130434783),\n",
       " (174.71014492753622, 45.65217391304348),\n",
       " (174.71014492753622, 46.086956521739125),\n",
       " (174.71014492753622, 46.52173913043478),\n",
       " (174.71014492753622, 46.95652173913044),\n",
       " (174.71014492753622, 47.391304347826086),\n",
       " (174.71014492753622, 47.826086956521735),\n",
       " (174.71014492753622, 48.26086956521739),\n",
       " (174.71014492753622, 48.69565217391305),\n",
       " (174.71014492753622, 49.130434782608695),\n",
       " (174.71014492753622, 49.565217391304344),\n",
       " (174.71014492753622, 50.0),\n",
       " (174.71014492753622, 50.434782608695656),\n",
       " (174.71014492753622, 50.869565217391305),\n",
       " (174.71014492753622, 51.30434782608695),\n",
       " (174.71014492753622, 51.73913043478261),\n",
       " (174.71014492753622, 52.173913043478265),\n",
       " (174.71014492753622, 52.608695652173914),\n",
       " (174.71014492753622, 53.04347826086956),\n",
       " (174.71014492753622, 53.47826086956522),\n",
       " (174.71014492753622, 53.91304347826087),\n",
       " (174.71014492753622, 54.347826086956516),\n",
       " (174.71014492753622, 54.78260869565217),\n",
       " (174.71014492753622, 55.21739130434783),\n",
       " (174.71014492753622, 55.65217391304348),\n",
       " (174.71014492753622, 56.086956521739125),\n",
       " (174.71014492753622, 56.52173913043478),\n",
       " (174.71014492753622, 56.95652173913044),\n",
       " (174.71014492753622, 57.391304347826086),\n",
       " (174.71014492753622, 57.826086956521735),\n",
       " (174.71014492753622, 58.26086956521739),\n",
       " (174.71014492753622, 58.69565217391305),\n",
       " (174.71014492753622, 59.130434782608695),\n",
       " (174.71014492753622, 59.565217391304344),\n",
       " (174.71014492753622, 60.0),\n",
       " (175.65217391304347, 30.0),\n",
       " (175.65217391304347, 30.434782608695652),\n",
       " (175.65217391304347, 30.869565217391305),\n",
       " (175.65217391304347, 31.304347826086957),\n",
       " (175.65217391304347, 31.73913043478261),\n",
       " (175.65217391304347, 32.17391304347826),\n",
       " (175.65217391304347, 32.608695652173914),\n",
       " (175.65217391304347, 33.04347826086956),\n",
       " (175.65217391304347, 33.47826086956522),\n",
       " (175.65217391304347, 33.91304347826087),\n",
       " (175.65217391304347, 34.34782608695652),\n",
       " (175.65217391304347, 34.78260869565217),\n",
       " (175.65217391304347, 35.21739130434783),\n",
       " (175.65217391304347, 35.65217391304348),\n",
       " (175.65217391304347, 36.08695652173913),\n",
       " (175.65217391304347, 36.52173913043478),\n",
       " (175.65217391304347, 36.95652173913044),\n",
       " (175.65217391304347, 37.391304347826086),\n",
       " (175.65217391304347, 37.82608695652174),\n",
       " (175.65217391304347, 38.26086956521739),\n",
       " (175.65217391304347, 38.69565217391305),\n",
       " (175.65217391304347, 39.130434782608695),\n",
       " (175.65217391304347, 39.565217391304344),\n",
       " (175.65217391304347, 40.0),\n",
       " (175.65217391304347, 40.434782608695656),\n",
       " (175.65217391304347, 40.869565217391305),\n",
       " (175.65217391304347, 41.30434782608695),\n",
       " (175.65217391304347, 41.73913043478261),\n",
       " (175.65217391304347, 42.17391304347826),\n",
       " (175.65217391304347, 42.608695652173914),\n",
       " (175.65217391304347, 43.04347826086956),\n",
       " (175.65217391304347, 43.47826086956522),\n",
       " (175.65217391304347, 43.91304347826087),\n",
       " (175.65217391304347, 44.34782608695652),\n",
       " (175.65217391304347, 44.78260869565217),\n",
       " (175.65217391304347, 45.21739130434783),\n",
       " (175.65217391304347, 45.65217391304348),\n",
       " (175.65217391304347, 46.086956521739125),\n",
       " (175.65217391304347, 46.52173913043478),\n",
       " (175.65217391304347, 46.95652173913044),\n",
       " (175.65217391304347, 47.391304347826086),\n",
       " (175.65217391304347, 47.826086956521735),\n",
       " (175.65217391304347, 48.26086956521739),\n",
       " (175.65217391304347, 48.69565217391305),\n",
       " (175.65217391304347, 49.130434782608695),\n",
       " (175.65217391304347, 49.565217391304344),\n",
       " (175.65217391304347, 50.0),\n",
       " (175.65217391304347, 50.434782608695656),\n",
       " (175.65217391304347, 50.869565217391305),\n",
       " (175.65217391304347, 51.30434782608695),\n",
       " (175.65217391304347, 51.73913043478261),\n",
       " (175.65217391304347, 52.173913043478265),\n",
       " (175.65217391304347, 52.608695652173914),\n",
       " (175.65217391304347, 53.04347826086956),\n",
       " (175.65217391304347, 53.47826086956522),\n",
       " (175.65217391304347, 53.91304347826087),\n",
       " (175.65217391304347, 54.347826086956516),\n",
       " (175.65217391304347, 54.78260869565217),\n",
       " (175.65217391304347, 55.21739130434783),\n",
       " (175.65217391304347, 55.65217391304348),\n",
       " (175.65217391304347, 56.086956521739125),\n",
       " (175.65217391304347, 56.52173913043478),\n",
       " (175.65217391304347, 56.95652173913044),\n",
       " (175.65217391304347, 57.391304347826086),\n",
       " (175.65217391304347, 57.826086956521735),\n",
       " (175.65217391304347, 58.26086956521739),\n",
       " (175.65217391304347, 58.69565217391305),\n",
       " (175.65217391304347, 59.130434782608695),\n",
       " (175.65217391304347, 59.565217391304344),\n",
       " (175.65217391304347, 60.0),\n",
       " (176.59420289855072, 30.0),\n",
       " (176.59420289855072, 30.434782608695652),\n",
       " (176.59420289855072, 30.869565217391305),\n",
       " (176.59420289855072, 31.304347826086957),\n",
       " (176.59420289855072, 31.73913043478261),\n",
       " (176.59420289855072, 32.17391304347826),\n",
       " (176.59420289855072, 32.608695652173914),\n",
       " (176.59420289855072, 33.04347826086956),\n",
       " (176.59420289855072, 33.47826086956522),\n",
       " (176.59420289855072, 33.91304347826087),\n",
       " (176.59420289855072, 34.34782608695652),\n",
       " (176.59420289855072, 34.78260869565217),\n",
       " (176.59420289855072, 35.21739130434783),\n",
       " (176.59420289855072, 35.65217391304348),\n",
       " (176.59420289855072, 36.08695652173913),\n",
       " (176.59420289855072, 36.52173913043478),\n",
       " (176.59420289855072, 36.95652173913044),\n",
       " (176.59420289855072, 37.391304347826086),\n",
       " (176.59420289855072, 37.82608695652174),\n",
       " (176.59420289855072, 38.26086956521739),\n",
       " (176.59420289855072, 38.69565217391305),\n",
       " (176.59420289855072, 39.130434782608695),\n",
       " (176.59420289855072, 39.565217391304344),\n",
       " (176.59420289855072, 40.0),\n",
       " (176.59420289855072, 40.434782608695656),\n",
       " (176.59420289855072, 40.869565217391305),\n",
       " (176.59420289855072, 41.30434782608695),\n",
       " (176.59420289855072, 41.73913043478261),\n",
       " (176.59420289855072, 42.17391304347826),\n",
       " (176.59420289855072, 42.608695652173914),\n",
       " (176.59420289855072, 43.04347826086956),\n",
       " (176.59420289855072, 43.47826086956522),\n",
       " (176.59420289855072, 43.91304347826087),\n",
       " (176.59420289855072, 44.34782608695652),\n",
       " (176.59420289855072, 44.78260869565217),\n",
       " (176.59420289855072, 45.21739130434783),\n",
       " (176.59420289855072, 45.65217391304348),\n",
       " (176.59420289855072, 46.086956521739125),\n",
       " (176.59420289855072, 46.52173913043478),\n",
       " (176.59420289855072, 46.95652173913044),\n",
       " (176.59420289855072, 47.391304347826086),\n",
       " (176.59420289855072, 47.826086956521735),\n",
       " (176.59420289855072, 48.26086956521739),\n",
       " (176.59420289855072, 48.69565217391305),\n",
       " (176.59420289855072, 49.130434782608695),\n",
       " (176.59420289855072, 49.565217391304344),\n",
       " (176.59420289855072, 50.0),\n",
       " (176.59420289855072, 50.434782608695656),\n",
       " (176.59420289855072, 50.869565217391305),\n",
       " (176.59420289855072, 51.30434782608695),\n",
       " (176.59420289855072, 51.73913043478261),\n",
       " (176.59420289855072, 52.173913043478265),\n",
       " (176.59420289855072, 52.608695652173914),\n",
       " (176.59420289855072, 53.04347826086956),\n",
       " (176.59420289855072, 53.47826086956522),\n",
       " (176.59420289855072, 53.91304347826087),\n",
       " (176.59420289855072, 54.347826086956516),\n",
       " (176.59420289855072, 54.78260869565217),\n",
       " (176.59420289855072, 55.21739130434783),\n",
       " (176.59420289855072, 55.65217391304348),\n",
       " (176.59420289855072, 56.086956521739125),\n",
       " (176.59420289855072, 56.52173913043478),\n",
       " (176.59420289855072, 56.95652173913044),\n",
       " (176.59420289855072, 57.391304347826086),\n",
       " (176.59420289855072, 57.826086956521735),\n",
       " (176.59420289855072, 58.26086956521739),\n",
       " (176.59420289855072, 58.69565217391305),\n",
       " (176.59420289855072, 59.130434782608695),\n",
       " (176.59420289855072, 59.565217391304344),\n",
       " (176.59420289855072, 60.0),\n",
       " (177.53623188405797, 30.0),\n",
       " (177.53623188405797, 30.434782608695652),\n",
       " (177.53623188405797, 30.869565217391305),\n",
       " (177.53623188405797, 31.304347826086957),\n",
       " (177.53623188405797, 31.73913043478261),\n",
       " (177.53623188405797, 32.17391304347826),\n",
       " (177.53623188405797, 32.608695652173914),\n",
       " (177.53623188405797, 33.04347826086956),\n",
       " (177.53623188405797, 33.47826086956522),\n",
       " (177.53623188405797, 33.91304347826087),\n",
       " (177.53623188405797, 34.34782608695652),\n",
       " (177.53623188405797, 34.78260869565217),\n",
       " (177.53623188405797, 35.21739130434783),\n",
       " (177.53623188405797, 35.65217391304348),\n",
       " (177.53623188405797, 36.08695652173913),\n",
       " (177.53623188405797, 36.52173913043478),\n",
       " (177.53623188405797, 36.95652173913044),\n",
       " (177.53623188405797, 37.391304347826086),\n",
       " (177.53623188405797, 37.82608695652174),\n",
       " (177.53623188405797, 38.26086956521739),\n",
       " (177.53623188405797, 38.69565217391305),\n",
       " (177.53623188405797, 39.130434782608695),\n",
       " (177.53623188405797, 39.565217391304344),\n",
       " (177.53623188405797, 40.0),\n",
       " (177.53623188405797, 40.434782608695656),\n",
       " (177.53623188405797, 40.869565217391305),\n",
       " (177.53623188405797, 41.30434782608695),\n",
       " (177.53623188405797, 41.73913043478261),\n",
       " (177.53623188405797, 42.17391304347826),\n",
       " (177.53623188405797, 42.608695652173914),\n",
       " (177.53623188405797, 43.04347826086956),\n",
       " (177.53623188405797, 43.47826086956522),\n",
       " (177.53623188405797, 43.91304347826087),\n",
       " (177.53623188405797, 44.34782608695652),\n",
       " (177.53623188405797, 44.78260869565217),\n",
       " (177.53623188405797, 45.21739130434783),\n",
       " (177.53623188405797, 45.65217391304348),\n",
       " (177.53623188405797, 46.086956521739125),\n",
       " (177.53623188405797, 46.52173913043478),\n",
       " (177.53623188405797, 46.95652173913044),\n",
       " (177.53623188405797, 47.391304347826086),\n",
       " (177.53623188405797, 47.826086956521735),\n",
       " (177.53623188405797, 48.26086956521739),\n",
       " (177.53623188405797, 48.69565217391305),\n",
       " (177.53623188405797, 49.130434782608695),\n",
       " (177.53623188405797, 49.565217391304344),\n",
       " (177.53623188405797, 50.0),\n",
       " (177.53623188405797, 50.434782608695656),\n",
       " (177.53623188405797, 50.869565217391305),\n",
       " (177.53623188405797, 51.30434782608695),\n",
       " (177.53623188405797, 51.73913043478261),\n",
       " (177.53623188405797, 52.173913043478265),\n",
       " (177.53623188405797, 52.608695652173914),\n",
       " (177.53623188405797, 53.04347826086956),\n",
       " (177.53623188405797, 53.47826086956522),\n",
       " (177.53623188405797, 53.91304347826087),\n",
       " (177.53623188405797, 54.347826086956516),\n",
       " (177.53623188405797, 54.78260869565217),\n",
       " (177.53623188405797, 55.21739130434783),\n",
       " (177.53623188405797, 55.65217391304348),\n",
       " (177.53623188405797, 56.086956521739125),\n",
       " (177.53623188405797, 56.52173913043478),\n",
       " (177.53623188405797, 56.95652173913044),\n",
       " (177.53623188405797, 57.391304347826086),\n",
       " (177.53623188405797, 57.826086956521735),\n",
       " (177.53623188405797, 58.26086956521739),\n",
       " (177.53623188405797, 58.69565217391305),\n",
       " (177.53623188405797, 59.130434782608695),\n",
       " (177.53623188405797, 59.565217391304344),\n",
       " (177.53623188405797, 60.0),\n",
       " (178.47826086956522, 30.0),\n",
       " (178.47826086956522, 30.434782608695652),\n",
       " (178.47826086956522, 30.869565217391305),\n",
       " (178.47826086956522, 31.304347826086957),\n",
       " (178.47826086956522, 31.73913043478261),\n",
       " (178.47826086956522, 32.17391304347826),\n",
       " (178.47826086956522, 32.608695652173914),\n",
       " (178.47826086956522, 33.04347826086956),\n",
       " (178.47826086956522, 33.47826086956522),\n",
       " (178.47826086956522, 33.91304347826087),\n",
       " (178.47826086956522, 34.34782608695652),\n",
       " (178.47826086956522, 34.78260869565217),\n",
       " (178.47826086956522, 35.21739130434783),\n",
       " (178.47826086956522, 35.65217391304348),\n",
       " (178.47826086956522, 36.08695652173913),\n",
       " (178.47826086956522, 36.52173913043478),\n",
       " (178.47826086956522, 36.95652173913044),\n",
       " (178.47826086956522, 37.391304347826086),\n",
       " (178.47826086956522, 37.82608695652174),\n",
       " (178.47826086956522, 38.26086956521739),\n",
       " (178.47826086956522, 38.69565217391305),\n",
       " (178.47826086956522, 39.130434782608695),\n",
       " (178.47826086956522, 39.565217391304344),\n",
       " (178.47826086956522, 40.0),\n",
       " (178.47826086956522, 40.434782608695656),\n",
       " (178.47826086956522, 40.869565217391305),\n",
       " (178.47826086956522, 41.30434782608695),\n",
       " (178.47826086956522, 41.73913043478261),\n",
       " (178.47826086956522, 42.17391304347826),\n",
       " (178.47826086956522, 42.608695652173914),\n",
       " (178.47826086956522, 43.04347826086956),\n",
       " (178.47826086956522, 43.47826086956522),\n",
       " (178.47826086956522, 43.91304347826087),\n",
       " (178.47826086956522, 44.34782608695652),\n",
       " (178.47826086956522, 44.78260869565217),\n",
       " (178.47826086956522, 45.21739130434783),\n",
       " (178.47826086956522, 45.65217391304348),\n",
       " (178.47826086956522, 46.086956521739125),\n",
       " (178.47826086956522, 46.52173913043478),\n",
       " (178.47826086956522, 46.95652173913044),\n",
       " (178.47826086956522, 47.391304347826086),\n",
       " (178.47826086956522, 47.826086956521735),\n",
       " (178.47826086956522, 48.26086956521739),\n",
       " (178.47826086956522, 48.69565217391305),\n",
       " (178.47826086956522, 49.130434782608695),\n",
       " (178.47826086956522, 49.565217391304344),\n",
       " (178.47826086956522, 50.0),\n",
       " (178.47826086956522, 50.434782608695656),\n",
       " (178.47826086956522, 50.869565217391305),\n",
       " (178.47826086956522, 51.30434782608695),\n",
       " (178.47826086956522, 51.73913043478261),\n",
       " (178.47826086956522, 52.173913043478265),\n",
       " (178.47826086956522, 52.608695652173914),\n",
       " (178.47826086956522, 53.04347826086956),\n",
       " (178.47826086956522, 53.47826086956522),\n",
       " (178.47826086956522, 53.91304347826087),\n",
       " (178.47826086956522, 54.347826086956516),\n",
       " (178.47826086956522, 54.78260869565217),\n",
       " (178.47826086956522, 55.21739130434783),\n",
       " (178.47826086956522, 55.65217391304348),\n",
       " (178.47826086956522, 56.086956521739125),\n",
       " (178.47826086956522, 56.52173913043478),\n",
       " (178.47826086956522, 56.95652173913044),\n",
       " (178.47826086956522, 57.391304347826086),\n",
       " (178.47826086956522, 57.826086956521735),\n",
       " (178.47826086956522, 58.26086956521739),\n",
       " (178.47826086956522, 58.69565217391305),\n",
       " (178.47826086956522, 59.130434782608695),\n",
       " (178.47826086956522, 59.565217391304344),\n",
       " (178.47826086956522, 60.0),\n",
       " (179.42028985507247, 30.0),\n",
       " (179.42028985507247, 30.434782608695652),\n",
       " (179.42028985507247, 30.869565217391305),\n",
       " (179.42028985507247, 31.304347826086957),\n",
       " (179.42028985507247, 31.73913043478261),\n",
       " (179.42028985507247, 32.17391304347826),\n",
       " (179.42028985507247, 32.608695652173914),\n",
       " (179.42028985507247, 33.04347826086956),\n",
       " (179.42028985507247, 33.47826086956522),\n",
       " (179.42028985507247, 33.91304347826087),\n",
       " (179.42028985507247, 34.34782608695652),\n",
       " (179.42028985507247, 34.78260869565217),\n",
       " (179.42028985507247, 35.21739130434783),\n",
       " (179.42028985507247, 35.65217391304348),\n",
       " (179.42028985507247, 36.08695652173913),\n",
       " (179.42028985507247, 36.52173913043478),\n",
       " (179.42028985507247, 36.95652173913044),\n",
       " (179.42028985507247, 37.391304347826086),\n",
       " (179.42028985507247, 37.82608695652174),\n",
       " (179.42028985507247, 38.26086956521739),\n",
       " (179.42028985507247, 38.69565217391305),\n",
       " (179.42028985507247, 39.130434782608695),\n",
       " (179.42028985507247, 39.565217391304344),\n",
       " (179.42028985507247, 40.0),\n",
       " (179.42028985507247, 40.434782608695656),\n",
       " (179.42028985507247, 40.869565217391305),\n",
       " (179.42028985507247, 41.30434782608695),\n",
       " (179.42028985507247, 41.73913043478261),\n",
       " (179.42028985507247, 42.17391304347826),\n",
       " (179.42028985507247, 42.608695652173914),\n",
       " (179.42028985507247, 43.04347826086956),\n",
       " (179.42028985507247, 43.47826086956522),\n",
       " (179.42028985507247, 43.91304347826087),\n",
       " (179.42028985507247, 44.34782608695652),\n",
       " (179.42028985507247, 44.78260869565217),\n",
       " (179.42028985507247, 45.21739130434783),\n",
       " (179.42028985507247, 45.65217391304348),\n",
       " (179.42028985507247, 46.086956521739125),\n",
       " (179.42028985507247, 46.52173913043478),\n",
       " (179.42028985507247, 46.95652173913044),\n",
       " (179.42028985507247, 47.391304347826086),\n",
       " (179.42028985507247, 47.826086956521735),\n",
       " (179.42028985507247, 48.26086956521739),\n",
       " (179.42028985507247, 48.69565217391305),\n",
       " (179.42028985507247, 49.130434782608695),\n",
       " (179.42028985507247, 49.565217391304344),\n",
       " (179.42028985507247, 50.0),\n",
       " (179.42028985507247, 50.434782608695656),\n",
       " (179.42028985507247, 50.869565217391305),\n",
       " (179.42028985507247, 51.30434782608695),\n",
       " (179.42028985507247, 51.73913043478261),\n",
       " (179.42028985507247, 52.173913043478265),\n",
       " (179.42028985507247, 52.608695652173914),\n",
       " (179.42028985507247, 53.04347826086956),\n",
       " (179.42028985507247, 53.47826086956522),\n",
       " (179.42028985507247, 53.91304347826087),\n",
       " (179.42028985507247, 54.347826086956516),\n",
       " (179.42028985507247, 54.78260869565217),\n",
       " (179.42028985507247, 55.21739130434783),\n",
       " (179.42028985507247, 55.65217391304348),\n",
       " (179.42028985507247, 56.086956521739125),\n",
       " (179.42028985507247, 56.52173913043478),\n",
       " (179.42028985507247, 56.95652173913044),\n",
       " (179.42028985507247, 57.391304347826086),\n",
       " (179.42028985507247, 57.826086956521735),\n",
       " (179.42028985507247, 58.26086956521739),\n",
       " (179.42028985507247, 58.69565217391305),\n",
       " (179.42028985507247, 59.130434782608695),\n",
       " (179.42028985507247, 59.565217391304344),\n",
       " (179.42028985507247, 60.0),\n",
       " (180.36231884057972, 30.0),\n",
       " (180.36231884057972, 30.434782608695652),\n",
       " (180.36231884057972, 30.869565217391305),\n",
       " (180.36231884057972, 31.304347826086957),\n",
       " (180.36231884057972, 31.73913043478261),\n",
       " (180.36231884057972, 32.17391304347826),\n",
       " (180.36231884057972, 32.608695652173914),\n",
       " (180.36231884057972, 33.04347826086956),\n",
       " (180.36231884057972, 33.47826086956522),\n",
       " (180.36231884057972, 33.91304347826087),\n",
       " (180.36231884057972, 34.34782608695652),\n",
       " (180.36231884057972, 34.78260869565217),\n",
       " (180.36231884057972, 35.21739130434783),\n",
       " (180.36231884057972, 35.65217391304348),\n",
       " (180.36231884057972, 36.08695652173913),\n",
       " (180.36231884057972, 36.52173913043478),\n",
       " (180.36231884057972, 36.95652173913044),\n",
       " (180.36231884057972, 37.391304347826086),\n",
       " (180.36231884057972, 37.82608695652174),\n",
       " (180.36231884057972, 38.26086956521739),\n",
       " (180.36231884057972, 38.69565217391305),\n",
       " (180.36231884057972, 39.130434782608695),\n",
       " (180.36231884057972, 39.565217391304344),\n",
       " (180.36231884057972, 40.0),\n",
       " (180.36231884057972, 40.434782608695656),\n",
       " (180.36231884057972, 40.869565217391305),\n",
       " (180.36231884057972, 41.30434782608695),\n",
       " (180.36231884057972, 41.73913043478261),\n",
       " (180.36231884057972, 42.17391304347826),\n",
       " (180.36231884057972, 42.608695652173914),\n",
       " (180.36231884057972, 43.04347826086956),\n",
       " (180.36231884057972, 43.47826086956522),\n",
       " (180.36231884057972, 43.91304347826087),\n",
       " (180.36231884057972, 44.34782608695652),\n",
       " (180.36231884057972, 44.78260869565217),\n",
       " (180.36231884057972, 45.21739130434783),\n",
       " (180.36231884057972, 45.65217391304348),\n",
       " (180.36231884057972, 46.086956521739125),\n",
       " (180.36231884057972, 46.52173913043478),\n",
       " (180.36231884057972, 46.95652173913044),\n",
       " (180.36231884057972, 47.391304347826086),\n",
       " (180.36231884057972, 47.826086956521735),\n",
       " (180.36231884057972, 48.26086956521739),\n",
       " (180.36231884057972, 48.69565217391305),\n",
       " (180.36231884057972, 49.130434782608695),\n",
       " (180.36231884057972, 49.565217391304344),\n",
       " (180.36231884057972, 50.0),\n",
       " (180.36231884057972, 50.434782608695656),\n",
       " (180.36231884057972, 50.869565217391305),\n",
       " (180.36231884057972, 51.30434782608695),\n",
       " (180.36231884057972, 51.73913043478261),\n",
       " (180.36231884057972, 52.173913043478265),\n",
       " (180.36231884057972, 52.608695652173914),\n",
       " (180.36231884057972, 53.04347826086956),\n",
       " (180.36231884057972, 53.47826086956522),\n",
       " (180.36231884057972, 53.91304347826087),\n",
       " (180.36231884057972, 54.347826086956516),\n",
       " (180.36231884057972, 54.78260869565217),\n",
       " (180.36231884057972, 55.21739130434783),\n",
       " (180.36231884057972, 55.65217391304348),\n",
       " (180.36231884057972, 56.086956521739125),\n",
       " (180.36231884057972, 56.52173913043478),\n",
       " (180.36231884057972, 56.95652173913044),\n",
       " (180.36231884057972, 57.391304347826086),\n",
       " (180.36231884057972, 57.826086956521735),\n",
       " (180.36231884057972, 58.26086956521739),\n",
       " (180.36231884057972, 58.69565217391305),\n",
       " (180.36231884057972, 59.130434782608695),\n",
       " (180.36231884057972, 59.565217391304344),\n",
       " (180.36231884057972, 60.0),\n",
       " (181.30434782608697, 30.0),\n",
       " (181.30434782608697, 30.434782608695652),\n",
       " (181.30434782608697, 30.869565217391305),\n",
       " (181.30434782608697, 31.304347826086957),\n",
       " (181.30434782608697, 31.73913043478261),\n",
       " (181.30434782608697, 32.17391304347826),\n",
       " (181.30434782608697, 32.608695652173914),\n",
       " (181.30434782608697, 33.04347826086956),\n",
       " (181.30434782608697, 33.47826086956522),\n",
       " (181.30434782608697, 33.91304347826087),\n",
       " (181.30434782608697, 34.34782608695652),\n",
       " (181.30434782608697, 34.78260869565217),\n",
       " (181.30434782608697, 35.21739130434783),\n",
       " (181.30434782608697, 35.65217391304348),\n",
       " (181.30434782608697, 36.08695652173913),\n",
       " (181.30434782608697, 36.52173913043478),\n",
       " (181.30434782608697, 36.95652173913044),\n",
       " (181.30434782608697, 37.391304347826086),\n",
       " (181.30434782608697, 37.82608695652174),\n",
       " (181.30434782608697, 38.26086956521739),\n",
       " (181.30434782608697, 38.69565217391305),\n",
       " (181.30434782608697, 39.130434782608695),\n",
       " (181.30434782608697, 39.565217391304344),\n",
       " (181.30434782608697, 40.0),\n",
       " (181.30434782608697, 40.434782608695656),\n",
       " (181.30434782608697, 40.869565217391305),\n",
       " (181.30434782608697, 41.30434782608695),\n",
       " (181.30434782608697, 41.73913043478261),\n",
       " (181.30434782608697, 42.17391304347826),\n",
       " (181.30434782608697, 42.608695652173914),\n",
       " (181.30434782608697, 43.04347826086956),\n",
       " (181.30434782608697, 43.47826086956522),\n",
       " (181.30434782608697, 43.91304347826087),\n",
       " (181.30434782608697, 44.34782608695652),\n",
       " (181.30434782608697, 44.78260869565217),\n",
       " (181.30434782608697, 45.21739130434783),\n",
       " (181.30434782608697, 45.65217391304348),\n",
       " (181.30434782608697, 46.086956521739125),\n",
       " (181.30434782608697, 46.52173913043478),\n",
       " (181.30434782608697, 46.95652173913044),\n",
       " (181.30434782608697, 47.391304347826086),\n",
       " (181.30434782608697, 47.826086956521735),\n",
       " (181.30434782608697, 48.26086956521739),\n",
       " (181.30434782608697, 48.69565217391305),\n",
       " (181.30434782608697, 49.130434782608695),\n",
       " (181.30434782608697, 49.565217391304344),\n",
       " (181.30434782608697, 50.0),\n",
       " (181.30434782608697, 50.434782608695656),\n",
       " (181.30434782608697, 50.869565217391305),\n",
       " (181.30434782608697, 51.30434782608695),\n",
       " (181.30434782608697, 51.73913043478261),\n",
       " (181.30434782608697, 52.173913043478265),\n",
       " (181.30434782608697, 52.608695652173914),\n",
       " (181.30434782608697, 53.04347826086956),\n",
       " (181.30434782608697, 53.47826086956522),\n",
       " (181.30434782608697, 53.91304347826087),\n",
       " (181.30434782608697, 54.347826086956516),\n",
       " (181.30434782608697, 54.78260869565217),\n",
       " (181.30434782608697, 55.21739130434783),\n",
       " (181.30434782608697, 55.65217391304348),\n",
       " (181.30434782608697, 56.086956521739125),\n",
       " (181.30434782608697, 56.52173913043478),\n",
       " (181.30434782608697, 56.95652173913044),\n",
       " (181.30434782608697, 57.391304347826086),\n",
       " (181.30434782608697, 57.826086956521735),\n",
       " (181.30434782608697, 58.26086956521739),\n",
       " (181.30434782608697, 58.69565217391305),\n",
       " (181.30434782608697, 59.130434782608695),\n",
       " (181.30434782608697, 59.565217391304344),\n",
       " (181.30434782608697, 60.0),\n",
       " (182.2463768115942, 30.0),\n",
       " (182.2463768115942, 30.434782608695652),\n",
       " (182.2463768115942, 30.869565217391305),\n",
       " (182.2463768115942, 31.304347826086957),\n",
       " (182.2463768115942, 31.73913043478261),\n",
       " (182.2463768115942, 32.17391304347826),\n",
       " (182.2463768115942, 32.608695652173914),\n",
       " (182.2463768115942, 33.04347826086956),\n",
       " (182.2463768115942, 33.47826086956522),\n",
       " (182.2463768115942, 33.91304347826087),\n",
       " (182.2463768115942, 34.34782608695652),\n",
       " (182.2463768115942, 34.78260869565217),\n",
       " (182.2463768115942, 35.21739130434783),\n",
       " (182.2463768115942, 35.65217391304348),\n",
       " (182.2463768115942, 36.08695652173913),\n",
       " (182.2463768115942, 36.52173913043478),\n",
       " (182.2463768115942, 36.95652173913044),\n",
       " (182.2463768115942, 37.391304347826086),\n",
       " (182.2463768115942, 37.82608695652174),\n",
       " (182.2463768115942, 38.26086956521739),\n",
       " (182.2463768115942, 38.69565217391305),\n",
       " (182.2463768115942, 39.130434782608695),\n",
       " (182.2463768115942, 39.565217391304344),\n",
       " (182.2463768115942, 40.0),\n",
       " (182.2463768115942, 40.434782608695656),\n",
       " (182.2463768115942, 40.869565217391305),\n",
       " (182.2463768115942, 41.30434782608695),\n",
       " (182.2463768115942, 41.73913043478261),\n",
       " (182.2463768115942, 42.17391304347826),\n",
       " (182.2463768115942, 42.608695652173914),\n",
       " (182.2463768115942, 43.04347826086956),\n",
       " (182.2463768115942, 43.47826086956522),\n",
       " (182.2463768115942, 43.91304347826087),\n",
       " (182.2463768115942, 44.34782608695652),\n",
       " (182.2463768115942, 44.78260869565217),\n",
       " (182.2463768115942, 45.21739130434783),\n",
       " (182.2463768115942, 45.65217391304348),\n",
       " (182.2463768115942, 46.086956521739125),\n",
       " (182.2463768115942, 46.52173913043478),\n",
       " (182.2463768115942, 46.95652173913044),\n",
       " (182.2463768115942, 47.391304347826086),\n",
       " (182.2463768115942, 47.826086956521735),\n",
       " (182.2463768115942, 48.26086956521739),\n",
       " (182.2463768115942, 48.69565217391305),\n",
       " (182.2463768115942, 49.130434782608695),\n",
       " (182.2463768115942, 49.565217391304344),\n",
       " (182.2463768115942, 50.0),\n",
       " (182.2463768115942, 50.434782608695656),\n",
       " (182.2463768115942, 50.869565217391305),\n",
       " (182.2463768115942, 51.30434782608695),\n",
       " (182.2463768115942, 51.73913043478261),\n",
       " (182.2463768115942, 52.173913043478265),\n",
       " (182.2463768115942, 52.608695652173914),\n",
       " (182.2463768115942, 53.04347826086956),\n",
       " (182.2463768115942, 53.47826086956522),\n",
       " (182.2463768115942, 53.91304347826087),\n",
       " (182.2463768115942, 54.347826086956516),\n",
       " (182.2463768115942, 54.78260869565217),\n",
       " (182.2463768115942, 55.21739130434783),\n",
       " (182.2463768115942, 55.65217391304348),\n",
       " (182.2463768115942, 56.086956521739125),\n",
       " (182.2463768115942, 56.52173913043478),\n",
       " (182.2463768115942, 56.95652173913044),\n",
       " (182.2463768115942, 57.391304347826086),\n",
       " (182.2463768115942, 57.826086956521735),\n",
       " (182.2463768115942, 58.26086956521739),\n",
       " (182.2463768115942, 58.69565217391305),\n",
       " (182.2463768115942, 59.130434782608695),\n",
       " (182.2463768115942, 59.565217391304344),\n",
       " (182.2463768115942, 60.0),\n",
       " (183.18840579710144, 30.0),\n",
       " (183.18840579710144, 30.434782608695652),\n",
       " (183.18840579710144, 30.869565217391305),\n",
       " (183.18840579710144, 31.304347826086957),\n",
       " (183.18840579710144, 31.73913043478261),\n",
       " (183.18840579710144, 32.17391304347826),\n",
       " (183.18840579710144, 32.608695652173914),\n",
       " (183.18840579710144, 33.04347826086956),\n",
       " (183.18840579710144, 33.47826086956522),\n",
       " (183.18840579710144, 33.91304347826087),\n",
       " (183.18840579710144, 34.34782608695652),\n",
       " (183.18840579710144, 34.78260869565217),\n",
       " (183.18840579710144, 35.21739130434783),\n",
       " (183.18840579710144, 35.65217391304348),\n",
       " (183.18840579710144, 36.08695652173913),\n",
       " (183.18840579710144, 36.52173913043478),\n",
       " (183.18840579710144, 36.95652173913044),\n",
       " (183.18840579710144, 37.391304347826086),\n",
       " (183.18840579710144, 37.82608695652174),\n",
       " (183.18840579710144, 38.26086956521739),\n",
       " ...]"
      ]
     },
     "execution_count": 28,
     "metadata": {},
     "output_type": "execute_result"
    }
   ],
   "source": [
    "# If we convert it to a list, it's more clear.\n",
    "list(product(x, y))"
   ]
  },
  {
   "cell_type": "markdown",
   "metadata": {
    "cell_id": "837c480e24154cdda1858ea5ef89c850",
    "deepnote_cell_type": "markdown"
   },
   "source": [
    "There are `4900` tuples in this list ($70 \\cdot 70$)."
   ]
  },
  {
   "cell_type": "code",
   "execution_count": null,
   "metadata": {
    "cell_id": "e0be375ba576433995c7cb228a5532ca",
    "deepnote_cell_type": "code",
    "deepnote_to_be_reexecuted": false,
    "execution_millis": 9,
    "execution_start": 1700084360851,
    "source_hash": null
   },
   "outputs": [
    {
     "data": {
      "text/plain": [
       "4900"
      ]
     },
     "execution_count": 29,
     "metadata": {},
     "output_type": "execute_result"
    }
   ],
   "source": [
    "len(list(product(x, y)))"
   ]
  },
  {
   "cell_type": "markdown",
   "metadata": {
    "cell_id": "d92be18d424c45419e3320c9d6f4239e",
    "deepnote_cell_type": "markdown"
   },
   "source": [
    "We convert this into a DataFrame with 4900 rows and two columns."
   ]
  },
  {
   "cell_type": "code",
   "execution_count": null,
   "metadata": {
    "cell_id": "61dcd71e49be48769e5dfb55c29602c2",
    "deepnote_cell_type": "code",
    "deepnote_to_be_reexecuted": false,
    "execution_millis": 12,
    "execution_start": 1700084500523,
    "source_hash": null
   },
   "outputs": [
    {
     "data": {
      "application/vnd.deepnote.dataframe.v3+json": {
       "column_count": 2,
       "columns": [
        {
         "dtype": "float64",
         "name": 0,
         "stats": {
          "histogram": [
           {
            "bin_end": 176.5,
            "bin_start": 170,
            "count": 490
           },
           {
            "bin_end": 183,
            "bin_start": 176.5,
            "count": 490
           },
           {
            "bin_end": 189.5,
            "bin_start": 183,
            "count": 490
           },
           {
            "bin_end": 196,
            "bin_start": 189.5,
            "count": 490
           },
           {
            "bin_end": 202.5,
            "bin_start": 196,
            "count": 490
           },
           {
            "bin_end": 209,
            "bin_start": 202.5,
            "count": 490
           },
           {
            "bin_end": 215.5,
            "bin_start": 209,
            "count": 490
           },
           {
            "bin_end": 222,
            "bin_start": 215.5,
            "count": 490
           },
           {
            "bin_end": 228.5,
            "bin_start": 222,
            "count": 490
           },
           {
            "bin_end": 235,
            "bin_start": 228.5,
            "count": 490
           }
          ],
          "max": "235.0",
          "min": "170.0",
          "nan_count": 0,
          "unique_count": 70
         }
        },
        {
         "dtype": "float64",
         "name": 1,
         "stats": {
          "histogram": [
           {
            "bin_end": 33,
            "bin_start": 30,
            "count": 490
           },
           {
            "bin_end": 36,
            "bin_start": 33,
            "count": 490
           },
           {
            "bin_end": 39,
            "bin_start": 36,
            "count": 490
           },
           {
            "bin_end": 42,
            "bin_start": 39,
            "count": 490
           },
           {
            "bin_end": 45,
            "bin_start": 42,
            "count": 490
           },
           {
            "bin_end": 48,
            "bin_start": 45,
            "count": 490
           },
           {
            "bin_end": 51,
            "bin_start": 48,
            "count": 490
           },
           {
            "bin_end": 54,
            "bin_start": 51,
            "count": 490
           },
           {
            "bin_end": 57,
            "bin_start": 54,
            "count": 490
           },
           {
            "bin_end": 60,
            "bin_start": 57,
            "count": 490
           }
          ],
          "max": "60.0",
          "min": "30.0",
          "nan_count": 0,
          "unique_count": 70
         }
        },
        {
         "dtype": "int64",
         "name": "_deepnote_index_column"
        }
       ],
       "row_count": 4900,
       "rows": [
        {
         "0": 170,
         "1": 30,
         "_deepnote_index_column": 0
        },
        {
         "0": 170,
         "1": 30.434782608695652,
         "_deepnote_index_column": 1
        },
        {
         "0": 170,
         "1": 30.869565217391305,
         "_deepnote_index_column": 2
        },
        {
         "0": 170,
         "1": 31.304347826086957,
         "_deepnote_index_column": 3
        },
        {
         "0": 170,
         "1": 31.73913043478261,
         "_deepnote_index_column": 4
        },
        {
         "0": 170,
         "1": 32.17391304347826,
         "_deepnote_index_column": 5
        },
        {
         "0": 170,
         "1": 32.608695652173914,
         "_deepnote_index_column": 6
        },
        {
         "0": 170,
         "1": 33.04347826086956,
         "_deepnote_index_column": 7
        },
        {
         "0": 170,
         "1": 33.47826086956522,
         "_deepnote_index_column": 8
        },
        {
         "0": 170,
         "1": 33.91304347826087,
         "_deepnote_index_column": 9
        }
       ]
      },
      "text/html": [
       "<div>\n",
       "<style scoped>\n",
       "    .dataframe tbody tr th:only-of-type {\n",
       "        vertical-align: middle;\n",
       "    }\n",
       "\n",
       "    .dataframe tbody tr th {\n",
       "        vertical-align: top;\n",
       "    }\n",
       "\n",
       "    .dataframe thead th {\n",
       "        text-align: right;\n",
       "    }\n",
       "</style>\n",
       "<table border=\"1\" class=\"dataframe\">\n",
       "  <thead>\n",
       "    <tr style=\"text-align: right;\">\n",
       "      <th></th>\n",
       "      <th>0</th>\n",
       "      <th>1</th>\n",
       "    </tr>\n",
       "  </thead>\n",
       "  <tbody>\n",
       "    <tr>\n",
       "      <th>0</th>\n",
       "      <td>170.0</td>\n",
       "      <td>30.000000</td>\n",
       "    </tr>\n",
       "    <tr>\n",
       "      <th>1</th>\n",
       "      <td>170.0</td>\n",
       "      <td>30.434783</td>\n",
       "    </tr>\n",
       "    <tr>\n",
       "      <th>2</th>\n",
       "      <td>170.0</td>\n",
       "      <td>30.869565</td>\n",
       "    </tr>\n",
       "    <tr>\n",
       "      <th>3</th>\n",
       "      <td>170.0</td>\n",
       "      <td>31.304348</td>\n",
       "    </tr>\n",
       "    <tr>\n",
       "      <th>4</th>\n",
       "      <td>170.0</td>\n",
       "      <td>31.739130</td>\n",
       "    </tr>\n",
       "    <tr>\n",
       "      <th>...</th>\n",
       "      <td>...</td>\n",
       "      <td>...</td>\n",
       "    </tr>\n",
       "    <tr>\n",
       "      <th>4895</th>\n",
       "      <td>235.0</td>\n",
       "      <td>58.260870</td>\n",
       "    </tr>\n",
       "    <tr>\n",
       "      <th>4896</th>\n",
       "      <td>235.0</td>\n",
       "      <td>58.695652</td>\n",
       "    </tr>\n",
       "    <tr>\n",
       "      <th>4897</th>\n",
       "      <td>235.0</td>\n",
       "      <td>59.130435</td>\n",
       "    </tr>\n",
       "    <tr>\n",
       "      <th>4898</th>\n",
       "      <td>235.0</td>\n",
       "      <td>59.565217</td>\n",
       "    </tr>\n",
       "    <tr>\n",
       "      <th>4899</th>\n",
       "      <td>235.0</td>\n",
       "      <td>60.000000</td>\n",
       "    </tr>\n",
       "  </tbody>\n",
       "</table>\n",
       "<p>4900 rows × 2 columns</p>\n",
       "</div>"
      ],
      "text/plain": [
       "          0          1\n",
       "0     170.0  30.000000\n",
       "1     170.0  30.434783\n",
       "2     170.0  30.869565\n",
       "3     170.0  31.304348\n",
       "4     170.0  31.739130\n",
       "...     ...        ...\n",
       "4895  235.0  58.260870\n",
       "4896  235.0  58.695652\n",
       "4897  235.0  59.130435\n",
       "4898  235.0  59.565217\n",
       "4899  235.0  60.000000\n",
       "\n",
       "[4900 rows x 2 columns]"
      ]
     },
     "execution_count": 30,
     "metadata": {},
     "output_type": "execute_result"
    }
   ],
   "source": [
    "df_art = pd.DataFrame(list(product(x, y)))\n",
    "df_art"
   ]
  },
  {
   "cell_type": "markdown",
   "metadata": {
    "cell_id": "52ad3c876b914188b7649076b8378dad",
    "deepnote_cell_type": "markdown"
   },
   "source": [
    "We give the columns the same names as our input features."
   ]
  },
  {
   "cell_type": "code",
   "execution_count": null,
   "metadata": {
    "cell_id": "24303cde381e4fd4b2902232a00236c3",
    "deepnote_cell_type": "code",
    "deepnote_to_be_reexecuted": false,
    "execution_millis": 13,
    "execution_start": 1700084552707,
    "source_hash": null
   },
   "outputs": [],
   "source": [
    "df_art.columns = cols"
   ]
  },
  {
   "cell_type": "code",
   "execution_count": null,
   "metadata": {
    "cell_id": "0d4ac11586694f27b102134978da92f1",
    "deepnote_cell_type": "code",
    "deepnote_to_be_reexecuted": false,
    "execution_millis": 28,
    "execution_start": 1700084560012,
    "source_hash": null
   },
   "outputs": [
    {
     "data": {
      "application/vnd.deepnote.dataframe.v3+json": {
       "column_count": 2,
       "columns": [
        {
         "dtype": "float64",
         "name": "flipper_length_mm",
         "stats": {
          "histogram": [
           {
            "bin_end": 176.5,
            "bin_start": 170,
            "count": 490
           },
           {
            "bin_end": 183,
            "bin_start": 176.5,
            "count": 490
           },
           {
            "bin_end": 189.5,
            "bin_start": 183,
            "count": 490
           },
           {
            "bin_end": 196,
            "bin_start": 189.5,
            "count": 490
           },
           {
            "bin_end": 202.5,
            "bin_start": 196,
            "count": 490
           },
           {
            "bin_end": 209,
            "bin_start": 202.5,
            "count": 490
           },
           {
            "bin_end": 215.5,
            "bin_start": 209,
            "count": 490
           },
           {
            "bin_end": 222,
            "bin_start": 215.5,
            "count": 490
           },
           {
            "bin_end": 228.5,
            "bin_start": 222,
            "count": 490
           },
           {
            "bin_end": 235,
            "bin_start": 228.5,
            "count": 490
           }
          ],
          "max": "235.0",
          "min": "170.0",
          "nan_count": 0,
          "unique_count": 70
         }
        },
        {
         "dtype": "float64",
         "name": "bill_length_mm",
         "stats": {
          "histogram": [
           {
            "bin_end": 33,
            "bin_start": 30,
            "count": 490
           },
           {
            "bin_end": 36,
            "bin_start": 33,
            "count": 490
           },
           {
            "bin_end": 39,
            "bin_start": 36,
            "count": 490
           },
           {
            "bin_end": 42,
            "bin_start": 39,
            "count": 490
           },
           {
            "bin_end": 45,
            "bin_start": 42,
            "count": 490
           },
           {
            "bin_end": 48,
            "bin_start": 45,
            "count": 490
           },
           {
            "bin_end": 51,
            "bin_start": 48,
            "count": 490
           },
           {
            "bin_end": 54,
            "bin_start": 51,
            "count": 490
           },
           {
            "bin_end": 57,
            "bin_start": 54,
            "count": 490
           },
           {
            "bin_end": 60,
            "bin_start": 57,
            "count": 490
           }
          ],
          "max": "60.0",
          "min": "30.0",
          "nan_count": 0,
          "unique_count": 70
         }
        },
        {
         "dtype": "int64",
         "name": "_deepnote_index_column"
        }
       ],
       "row_count": 4900,
       "rows": [
        {
         "_deepnote_index_column": 0,
         "bill_length_mm": 30,
         "flipper_length_mm": 170
        },
        {
         "_deepnote_index_column": 1,
         "bill_length_mm": 30.434782608695652,
         "flipper_length_mm": 170
        },
        {
         "_deepnote_index_column": 2,
         "bill_length_mm": 30.869565217391305,
         "flipper_length_mm": 170
        },
        {
         "_deepnote_index_column": 3,
         "bill_length_mm": 31.304347826086957,
         "flipper_length_mm": 170
        },
        {
         "_deepnote_index_column": 4,
         "bill_length_mm": 31.73913043478261,
         "flipper_length_mm": 170
        },
        {
         "_deepnote_index_column": 5,
         "bill_length_mm": 32.17391304347826,
         "flipper_length_mm": 170
        },
        {
         "_deepnote_index_column": 6,
         "bill_length_mm": 32.608695652173914,
         "flipper_length_mm": 170
        },
        {
         "_deepnote_index_column": 7,
         "bill_length_mm": 33.04347826086956,
         "flipper_length_mm": 170
        },
        {
         "_deepnote_index_column": 8,
         "bill_length_mm": 33.47826086956522,
         "flipper_length_mm": 170
        },
        {
         "_deepnote_index_column": 9,
         "bill_length_mm": 33.91304347826087,
         "flipper_length_mm": 170
        }
       ]
      },
      "text/html": [
       "<div>\n",
       "<style scoped>\n",
       "    .dataframe tbody tr th:only-of-type {\n",
       "        vertical-align: middle;\n",
       "    }\n",
       "\n",
       "    .dataframe tbody tr th {\n",
       "        vertical-align: top;\n",
       "    }\n",
       "\n",
       "    .dataframe thead th {\n",
       "        text-align: right;\n",
       "    }\n",
       "</style>\n",
       "<table border=\"1\" class=\"dataframe\">\n",
       "  <thead>\n",
       "    <tr style=\"text-align: right;\">\n",
       "      <th></th>\n",
       "      <th>flipper_length_mm</th>\n",
       "      <th>bill_length_mm</th>\n",
       "    </tr>\n",
       "  </thead>\n",
       "  <tbody>\n",
       "    <tr>\n",
       "      <th>0</th>\n",
       "      <td>170.0</td>\n",
       "      <td>30.000000</td>\n",
       "    </tr>\n",
       "    <tr>\n",
       "      <th>1</th>\n",
       "      <td>170.0</td>\n",
       "      <td>30.434783</td>\n",
       "    </tr>\n",
       "    <tr>\n",
       "      <th>2</th>\n",
       "      <td>170.0</td>\n",
       "      <td>30.869565</td>\n",
       "    </tr>\n",
       "    <tr>\n",
       "      <th>3</th>\n",
       "      <td>170.0</td>\n",
       "      <td>31.304348</td>\n",
       "    </tr>\n",
       "    <tr>\n",
       "      <th>4</th>\n",
       "      <td>170.0</td>\n",
       "      <td>31.739130</td>\n",
       "    </tr>\n",
       "    <tr>\n",
       "      <th>...</th>\n",
       "      <td>...</td>\n",
       "      <td>...</td>\n",
       "    </tr>\n",
       "    <tr>\n",
       "      <th>4895</th>\n",
       "      <td>235.0</td>\n",
       "      <td>58.260870</td>\n",
       "    </tr>\n",
       "    <tr>\n",
       "      <th>4896</th>\n",
       "      <td>235.0</td>\n",
       "      <td>58.695652</td>\n",
       "    </tr>\n",
       "    <tr>\n",
       "      <th>4897</th>\n",
       "      <td>235.0</td>\n",
       "      <td>59.130435</td>\n",
       "    </tr>\n",
       "    <tr>\n",
       "      <th>4898</th>\n",
       "      <td>235.0</td>\n",
       "      <td>59.565217</td>\n",
       "    </tr>\n",
       "    <tr>\n",
       "      <th>4899</th>\n",
       "      <td>235.0</td>\n",
       "      <td>60.000000</td>\n",
       "    </tr>\n",
       "  </tbody>\n",
       "</table>\n",
       "<p>4900 rows × 2 columns</p>\n",
       "</div>"
      ],
      "text/plain": [
       "      flipper_length_mm  bill_length_mm\n",
       "0                 170.0       30.000000\n",
       "1                 170.0       30.434783\n",
       "2                 170.0       30.869565\n",
       "3                 170.0       31.304348\n",
       "4                 170.0       31.739130\n",
       "...                 ...             ...\n",
       "4895              235.0       58.260870\n",
       "4896              235.0       58.695652\n",
       "4897              235.0       59.130435\n",
       "4898              235.0       59.565217\n",
       "4899              235.0       60.000000\n",
       "\n",
       "[4900 rows x 2 columns]"
      ]
     },
     "execution_count": 32,
     "metadata": {},
     "output_type": "execute_result"
    }
   ],
   "source": [
    "df_art"
   ]
  },
  {
   "cell_type": "markdown",
   "metadata": {
    "cell_id": "796dabea902243a9b10774f64d12485e",
    "deepnote_cell_type": "markdown"
   },
   "source": [
    "* Add a corresponding \"pred\" column to `df_art`.\n"
   ]
  },
  {
   "cell_type": "markdown",
   "metadata": {
    "cell_id": "6e20257bfded4e35b3af91b2f0f5f8ad",
    "deepnote_cell_type": "markdown"
   },
   "source": [
    "We now add a prediction column.  (A warning would be raised if we didn't have the same column names as when we fit the classifier using `clf.fit`.)"
   ]
  },
  {
   "cell_type": "code",
   "execution_count": null,
   "metadata": {
    "cell_id": "56e7c11644ab47b5886f77acf659e841",
    "deepnote_cell_type": "code",
    "deepnote_to_be_reexecuted": false,
    "execution_millis": 13,
    "execution_start": 1700084642831,
    "source_hash": null
   },
   "outputs": [],
   "source": [
    "df_art['pred'] = clf.predict(df_art[cols])"
   ]
  },
  {
   "cell_type": "markdown",
   "metadata": {
    "cell_id": "eec49cf0af3a461b9573e51eb80cdc06",
    "deepnote_cell_type": "markdown"
   },
   "source": [
    "Here is the new DataFrame.  For example, our classifier predicts a penguin with flipper length 170 and bill length 30 is an Adelie penguin.  (Notice how there is probably no actual penguin with these measurements.)"
   ]
  },
  {
   "cell_type": "code",
   "execution_count": null,
   "metadata": {
    "cell_id": "9aa50b08d5944508bb20275b7ea56dd7",
    "deepnote_cell_type": "code",
    "deepnote_to_be_reexecuted": false,
    "execution_millis": 28,
    "execution_start": 1700084650089,
    "source_hash": null
   },
   "outputs": [
    {
     "data": {
      "application/vnd.deepnote.dataframe.v3+json": {
       "column_count": 3,
       "columns": [
        {
         "dtype": "float64",
         "name": "flipper_length_mm",
         "stats": {
          "histogram": [
           {
            "bin_end": 176.5,
            "bin_start": 170,
            "count": 490
           },
           {
            "bin_end": 183,
            "bin_start": 176.5,
            "count": 490
           },
           {
            "bin_end": 189.5,
            "bin_start": 183,
            "count": 490
           },
           {
            "bin_end": 196,
            "bin_start": 189.5,
            "count": 490
           },
           {
            "bin_end": 202.5,
            "bin_start": 196,
            "count": 490
           },
           {
            "bin_end": 209,
            "bin_start": 202.5,
            "count": 490
           },
           {
            "bin_end": 215.5,
            "bin_start": 209,
            "count": 490
           },
           {
            "bin_end": 222,
            "bin_start": 215.5,
            "count": 490
           },
           {
            "bin_end": 228.5,
            "bin_start": 222,
            "count": 490
           },
           {
            "bin_end": 235,
            "bin_start": 228.5,
            "count": 490
           }
          ],
          "max": "235.0",
          "min": "170.0",
          "nan_count": 0,
          "unique_count": 70
         }
        },
        {
         "dtype": "float64",
         "name": "bill_length_mm",
         "stats": {
          "histogram": [
           {
            "bin_end": 33,
            "bin_start": 30,
            "count": 490
           },
           {
            "bin_end": 36,
            "bin_start": 33,
            "count": 490
           },
           {
            "bin_end": 39,
            "bin_start": 36,
            "count": 490
           },
           {
            "bin_end": 42,
            "bin_start": 39,
            "count": 490
           },
           {
            "bin_end": 45,
            "bin_start": 42,
            "count": 490
           },
           {
            "bin_end": 48,
            "bin_start": 45,
            "count": 490
           },
           {
            "bin_end": 51,
            "bin_start": 48,
            "count": 490
           },
           {
            "bin_end": 54,
            "bin_start": 51,
            "count": 490
           },
           {
            "bin_end": 57,
            "bin_start": 54,
            "count": 490
           },
           {
            "bin_end": 60,
            "bin_start": 57,
            "count": 490
           }
          ],
          "max": "60.0",
          "min": "30.0",
          "nan_count": 0,
          "unique_count": 70
         }
        },
        {
         "dtype": "object",
         "name": "pred",
         "stats": {
          "categories": [
           {
            "count": 1760,
            "name": "Gentoo"
           },
           {
            "count": 1734,
            "name": "Chinstrap"
           },
           {
            "count": 1406,
            "name": "Adelie"
           }
          ],
          "nan_count": 0,
          "unique_count": 3
         }
        },
        {
         "dtype": "int64",
         "name": "_deepnote_index_column"
        }
       ],
       "row_count": 4900,
       "rows": [
        {
         "_deepnote_index_column": 0,
         "bill_length_mm": 30,
         "flipper_length_mm": 170,
         "pred": "Adelie"
        },
        {
         "_deepnote_index_column": 1,
         "bill_length_mm": 30.434782608695652,
         "flipper_length_mm": 170,
         "pred": "Adelie"
        },
        {
         "_deepnote_index_column": 2,
         "bill_length_mm": 30.869565217391305,
         "flipper_length_mm": 170,
         "pred": "Adelie"
        },
        {
         "_deepnote_index_column": 3,
         "bill_length_mm": 31.304347826086957,
         "flipper_length_mm": 170,
         "pred": "Adelie"
        },
        {
         "_deepnote_index_column": 4,
         "bill_length_mm": 31.73913043478261,
         "flipper_length_mm": 170,
         "pred": "Adelie"
        },
        {
         "_deepnote_index_column": 5,
         "bill_length_mm": 32.17391304347826,
         "flipper_length_mm": 170,
         "pred": "Adelie"
        },
        {
         "_deepnote_index_column": 6,
         "bill_length_mm": 32.608695652173914,
         "flipper_length_mm": 170,
         "pred": "Adelie"
        },
        {
         "_deepnote_index_column": 7,
         "bill_length_mm": 33.04347826086956,
         "flipper_length_mm": 170,
         "pred": "Adelie"
        },
        {
         "_deepnote_index_column": 8,
         "bill_length_mm": 33.47826086956522,
         "flipper_length_mm": 170,
         "pred": "Adelie"
        },
        {
         "_deepnote_index_column": 9,
         "bill_length_mm": 33.91304347826087,
         "flipper_length_mm": 170,
         "pred": "Adelie"
        }
       ]
      },
      "text/html": [
       "<div>\n",
       "<style scoped>\n",
       "    .dataframe tbody tr th:only-of-type {\n",
       "        vertical-align: middle;\n",
       "    }\n",
       "\n",
       "    .dataframe tbody tr th {\n",
       "        vertical-align: top;\n",
       "    }\n",
       "\n",
       "    .dataframe thead th {\n",
       "        text-align: right;\n",
       "    }\n",
       "</style>\n",
       "<table border=\"1\" class=\"dataframe\">\n",
       "  <thead>\n",
       "    <tr style=\"text-align: right;\">\n",
       "      <th></th>\n",
       "      <th>flipper_length_mm</th>\n",
       "      <th>bill_length_mm</th>\n",
       "      <th>pred</th>\n",
       "    </tr>\n",
       "  </thead>\n",
       "  <tbody>\n",
       "    <tr>\n",
       "      <th>0</th>\n",
       "      <td>170.0</td>\n",
       "      <td>30.000000</td>\n",
       "      <td>Adelie</td>\n",
       "    </tr>\n",
       "    <tr>\n",
       "      <th>1</th>\n",
       "      <td>170.0</td>\n",
       "      <td>30.434783</td>\n",
       "      <td>Adelie</td>\n",
       "    </tr>\n",
       "    <tr>\n",
       "      <th>2</th>\n",
       "      <td>170.0</td>\n",
       "      <td>30.869565</td>\n",
       "      <td>Adelie</td>\n",
       "    </tr>\n",
       "    <tr>\n",
       "      <th>3</th>\n",
       "      <td>170.0</td>\n",
       "      <td>31.304348</td>\n",
       "      <td>Adelie</td>\n",
       "    </tr>\n",
       "    <tr>\n",
       "      <th>4</th>\n",
       "      <td>170.0</td>\n",
       "      <td>31.739130</td>\n",
       "      <td>Adelie</td>\n",
       "    </tr>\n",
       "    <tr>\n",
       "      <th>...</th>\n",
       "      <td>...</td>\n",
       "      <td>...</td>\n",
       "      <td>...</td>\n",
       "    </tr>\n",
       "    <tr>\n",
       "      <th>4895</th>\n",
       "      <td>235.0</td>\n",
       "      <td>58.260870</td>\n",
       "      <td>Gentoo</td>\n",
       "    </tr>\n",
       "    <tr>\n",
       "      <th>4896</th>\n",
       "      <td>235.0</td>\n",
       "      <td>58.695652</td>\n",
       "      <td>Gentoo</td>\n",
       "    </tr>\n",
       "    <tr>\n",
       "      <th>4897</th>\n",
       "      <td>235.0</td>\n",
       "      <td>59.130435</td>\n",
       "      <td>Gentoo</td>\n",
       "    </tr>\n",
       "    <tr>\n",
       "      <th>4898</th>\n",
       "      <td>235.0</td>\n",
       "      <td>59.565217</td>\n",
       "      <td>Gentoo</td>\n",
       "    </tr>\n",
       "    <tr>\n",
       "      <th>4899</th>\n",
       "      <td>235.0</td>\n",
       "      <td>60.000000</td>\n",
       "      <td>Gentoo</td>\n",
       "    </tr>\n",
       "  </tbody>\n",
       "</table>\n",
       "<p>4900 rows × 3 columns</p>\n",
       "</div>"
      ],
      "text/plain": [
       "      flipper_length_mm  bill_length_mm    pred\n",
       "0                 170.0       30.000000  Adelie\n",
       "1                 170.0       30.434783  Adelie\n",
       "2                 170.0       30.869565  Adelie\n",
       "3                 170.0       31.304348  Adelie\n",
       "4                 170.0       31.739130  Adelie\n",
       "...                 ...             ...     ...\n",
       "4895              235.0       58.260870  Gentoo\n",
       "4896              235.0       58.695652  Gentoo\n",
       "4897              235.0       59.130435  Gentoo\n",
       "4898              235.0       59.565217  Gentoo\n",
       "4899              235.0       60.000000  Gentoo\n",
       "\n",
       "[4900 rows x 3 columns]"
      ]
     },
     "execution_count": 34,
     "metadata": {},
     "output_type": "execute_result"
    }
   ],
   "source": [
    "df_art"
   ]
  },
  {
   "cell_type": "markdown",
   "metadata": {
    "cell_id": "58a03b1f892b4c2bb03a17f694f69d47",
    "deepnote_cell_type": "markdown"
   },
   "source": [
    "* Make another Altair scatter plot of the predicted species, this time using `df_art`."
   ]
  },
  {
   "cell_type": "markdown",
   "metadata": {
    "cell_id": "575e645b6cbe48e2b5cfe81a6085dd75",
    "deepnote_cell_type": "markdown"
   },
   "source": [
    "The most important thing to recognize from the following picture is that there are three regions (corresponding to the three classes) and that regions are separated by linear boundaries.  This partly explains why `LogisticRegression` is defined in the `linear_model` library of scikit-learn."
   ]
  },
  {
   "cell_type": "code",
   "execution_count": null,
   "metadata": {
    "cell_id": "061920a8bcae4b96bf36f3a1c4af95a4",
    "deepnote_cell_type": "code",
    "deepnote_to_be_reexecuted": false,
    "execution_millis": 163,
    "execution_start": 1700084711566,
    "source_hash": null
   },
   "outputs": [
    {
     "data": {
      "text/html": [
       "\n",
       "<div id=\"altair-viz-97a207b8dc96444986e82ec7e706913d\"></div>\n",
       "<script type=\"text/javascript\">\n",
       "  var VEGA_DEBUG = (typeof VEGA_DEBUG == \"undefined\") ? {} : VEGA_DEBUG;\n",
       "  (function(spec, embedOpt){\n",
       "    let outputDiv = document.currentScript.previousElementSibling;\n",
       "    if (outputDiv.id !== \"altair-viz-97a207b8dc96444986e82ec7e706913d\") {\n",
       "      outputDiv = document.getElementById(\"altair-viz-97a207b8dc96444986e82ec7e706913d\");\n",
       "    }\n",
       "    const paths = {\n",
       "      \"vega\": \"https://cdn.jsdelivr.net/npm//vega@5?noext\",\n",
       "      \"vega-lib\": \"https://cdn.jsdelivr.net/npm//vega-lib?noext\",\n",
       "      \"vega-lite\": \"https://cdn.jsdelivr.net/npm//vega-lite@4.17.0?noext\",\n",
       "      \"vega-embed\": \"https://cdn.jsdelivr.net/npm//vega-embed@6?noext\",\n",
       "    };\n",
       "\n",
       "    function maybeLoadScript(lib, version) {\n",
       "      var key = `${lib.replace(\"-\", \"\")}_version`;\n",
       "      return (VEGA_DEBUG[key] == version) ?\n",
       "        Promise.resolve(paths[lib]) :\n",
       "        new Promise(function(resolve, reject) {\n",
       "          var s = document.createElement('script');\n",
       "          document.getElementsByTagName(\"head\")[0].appendChild(s);\n",
       "          s.async = true;\n",
       "          s.onload = () => {\n",
       "            VEGA_DEBUG[key] = version;\n",
       "            return resolve(paths[lib]);\n",
       "          };\n",
       "          s.onerror = () => reject(`Error loading script: ${paths[lib]}`);\n",
       "          s.src = paths[lib];\n",
       "        });\n",
       "    }\n",
       "\n",
       "    function showError(err) {\n",
       "      outputDiv.innerHTML = `<div class=\"error\" style=\"color:red;\">${err}</div>`;\n",
       "      throw err;\n",
       "    }\n",
       "\n",
       "    function displayChart(vegaEmbed) {\n",
       "      vegaEmbed(outputDiv, spec, embedOpt)\n",
       "        .catch(err => showError(`Javascript Error: ${err.message}<br>This usually means there's a typo in your chart specification. See the javascript console for the full traceback.`));\n",
       "    }\n",
       "\n",
       "    if(typeof define === \"function\" && define.amd) {\n",
       "      requirejs.config({paths});\n",
       "      require([\"vega-embed\"], displayChart, err => showError(`Error loading script: ${err.message}`));\n",
       "    } else {\n",
       "      maybeLoadScript(\"vega\", \"5\")\n",
       "        .then(() => maybeLoadScript(\"vega-lite\", \"4.17.0\"))\n",
       "        .then(() => maybeLoadScript(\"vega-embed\", \"6\"))\n",
       "        .catch(showError)\n",
       "        .then(() => displayChart(vegaEmbed));\n",
       "    }\n",
       "  })({\"config\": {\"view\": {\"continuousWidth\": 400, \"continuousHeight\": 300}}, \"data\": {\"name\": \"data-84f6e3d1af7bf649f8ce59b319afb0e8\"}, \"mark\": \"circle\", \"encoding\": {\"color\": {\"field\": \"pred\", \"type\": \"nominal\"}, \"x\": {\"field\": \"flipper_length_mm\", \"scale\": {\"zero\": false}, \"type\": \"quantitative\"}, \"y\": {\"field\": \"bill_length_mm\", \"scale\": {\"zero\": false}, \"type\": \"quantitative\"}}, \"$schema\": \"https://vega.github.io/schema/vega-lite/v4.17.0.json\", \"datasets\": {\"data-84f6e3d1af7bf649f8ce59b319afb0e8\": [{\"flipper_length_mm\": 170.0, \"bill_length_mm\": 30.0, \"pred\": \"Adelie\"}, {\"flipper_length_mm\": 170.0, \"bill_length_mm\": 30.434782608695652, \"pred\": \"Adelie\"}, {\"flipper_length_mm\": 170.0, \"bill_length_mm\": 30.869565217391305, \"pred\": \"Adelie\"}, {\"flipper_length_mm\": 170.0, \"bill_length_mm\": 31.304347826086957, \"pred\": \"Adelie\"}, {\"flipper_length_mm\": 170.0, \"bill_length_mm\": 31.73913043478261, \"pred\": \"Adelie\"}, {\"flipper_length_mm\": 170.0, \"bill_length_mm\": 32.17391304347826, \"pred\": \"Adelie\"}, {\"flipper_length_mm\": 170.0, \"bill_length_mm\": 32.608695652173914, \"pred\": \"Adelie\"}, {\"flipper_length_mm\": 170.0, \"bill_length_mm\": 33.04347826086956, \"pred\": \"Adelie\"}, {\"flipper_length_mm\": 170.0, \"bill_length_mm\": 33.47826086956522, \"pred\": \"Adelie\"}, {\"flipper_length_mm\": 170.0, \"bill_length_mm\": 33.91304347826087, \"pred\": \"Adelie\"}, {\"flipper_length_mm\": 170.0, \"bill_length_mm\": 34.34782608695652, \"pred\": \"Adelie\"}, {\"flipper_length_mm\": 170.0, \"bill_length_mm\": 34.78260869565217, \"pred\": \"Adelie\"}, {\"flipper_length_mm\": 170.0, \"bill_length_mm\": 35.21739130434783, \"pred\": \"Adelie\"}, {\"flipper_length_mm\": 170.0, \"bill_length_mm\": 35.65217391304348, \"pred\": \"Adelie\"}, {\"flipper_length_mm\": 170.0, \"bill_length_mm\": 36.08695652173913, \"pred\": \"Adelie\"}, {\"flipper_length_mm\": 170.0, \"bill_length_mm\": 36.52173913043478, \"pred\": \"Adelie\"}, {\"flipper_length_mm\": 170.0, \"bill_length_mm\": 36.95652173913044, \"pred\": \"Adelie\"}, {\"flipper_length_mm\": 170.0, \"bill_length_mm\": 37.391304347826086, \"pred\": \"Adelie\"}, {\"flipper_length_mm\": 170.0, \"bill_length_mm\": 37.82608695652174, \"pred\": \"Adelie\"}, {\"flipper_length_mm\": 170.0, \"bill_length_mm\": 38.26086956521739, \"pred\": \"Adelie\"}, {\"flipper_length_mm\": 170.0, \"bill_length_mm\": 38.69565217391305, \"pred\": \"Adelie\"}, {\"flipper_length_mm\": 170.0, \"bill_length_mm\": 39.130434782608695, \"pred\": \"Adelie\"}, {\"flipper_length_mm\": 170.0, \"bill_length_mm\": 39.565217391304344, \"pred\": \"Adelie\"}, {\"flipper_length_mm\": 170.0, \"bill_length_mm\": 40.0, \"pred\": \"Adelie\"}, {\"flipper_length_mm\": 170.0, \"bill_length_mm\": 40.434782608695656, \"pred\": \"Adelie\"}, {\"flipper_length_mm\": 170.0, \"bill_length_mm\": 40.869565217391305, \"pred\": \"Adelie\"}, {\"flipper_length_mm\": 170.0, \"bill_length_mm\": 41.30434782608695, \"pred\": \"Adelie\"}, {\"flipper_length_mm\": 170.0, \"bill_length_mm\": 41.73913043478261, \"pred\": \"Chinstrap\"}, {\"flipper_length_mm\": 170.0, \"bill_length_mm\": 42.17391304347826, \"pred\": \"Chinstrap\"}, {\"flipper_length_mm\": 170.0, \"bill_length_mm\": 42.608695652173914, \"pred\": \"Chinstrap\"}, {\"flipper_length_mm\": 170.0, \"bill_length_mm\": 43.04347826086956, \"pred\": \"Chinstrap\"}, {\"flipper_length_mm\": 170.0, \"bill_length_mm\": 43.47826086956522, \"pred\": \"Chinstrap\"}, {\"flipper_length_mm\": 170.0, \"bill_length_mm\": 43.91304347826087, \"pred\": \"Chinstrap\"}, {\"flipper_length_mm\": 170.0, \"bill_length_mm\": 44.34782608695652, \"pred\": \"Chinstrap\"}, {\"flipper_length_mm\": 170.0, \"bill_length_mm\": 44.78260869565217, \"pred\": \"Chinstrap\"}, {\"flipper_length_mm\": 170.0, \"bill_length_mm\": 45.21739130434783, \"pred\": \"Chinstrap\"}, {\"flipper_length_mm\": 170.0, \"bill_length_mm\": 45.65217391304348, \"pred\": \"Chinstrap\"}, {\"flipper_length_mm\": 170.0, \"bill_length_mm\": 46.086956521739125, \"pred\": \"Chinstrap\"}, {\"flipper_length_mm\": 170.0, \"bill_length_mm\": 46.52173913043478, \"pred\": \"Chinstrap\"}, {\"flipper_length_mm\": 170.0, \"bill_length_mm\": 46.95652173913044, \"pred\": \"Chinstrap\"}, {\"flipper_length_mm\": 170.0, \"bill_length_mm\": 47.391304347826086, \"pred\": \"Chinstrap\"}, {\"flipper_length_mm\": 170.0, \"bill_length_mm\": 47.826086956521735, \"pred\": \"Chinstrap\"}, {\"flipper_length_mm\": 170.0, \"bill_length_mm\": 48.26086956521739, \"pred\": \"Chinstrap\"}, {\"flipper_length_mm\": 170.0, \"bill_length_mm\": 48.69565217391305, \"pred\": \"Chinstrap\"}, {\"flipper_length_mm\": 170.0, \"bill_length_mm\": 49.130434782608695, \"pred\": \"Chinstrap\"}, {\"flipper_length_mm\": 170.0, \"bill_length_mm\": 49.565217391304344, \"pred\": \"Chinstrap\"}, {\"flipper_length_mm\": 170.0, \"bill_length_mm\": 50.0, \"pred\": \"Chinstrap\"}, {\"flipper_length_mm\": 170.0, \"bill_length_mm\": 50.434782608695656, \"pred\": \"Chinstrap\"}, {\"flipper_length_mm\": 170.0, \"bill_length_mm\": 50.869565217391305, \"pred\": \"Chinstrap\"}, {\"flipper_length_mm\": 170.0, \"bill_length_mm\": 51.30434782608695, \"pred\": \"Chinstrap\"}, {\"flipper_length_mm\": 170.0, \"bill_length_mm\": 51.73913043478261, \"pred\": \"Chinstrap\"}, {\"flipper_length_mm\": 170.0, \"bill_length_mm\": 52.173913043478265, \"pred\": \"Chinstrap\"}, {\"flipper_length_mm\": 170.0, \"bill_length_mm\": 52.608695652173914, \"pred\": \"Chinstrap\"}, {\"flipper_length_mm\": 170.0, \"bill_length_mm\": 53.04347826086956, \"pred\": \"Chinstrap\"}, {\"flipper_length_mm\": 170.0, \"bill_length_mm\": 53.47826086956522, \"pred\": \"Chinstrap\"}, {\"flipper_length_mm\": 170.0, \"bill_length_mm\": 53.91304347826087, \"pred\": \"Chinstrap\"}, {\"flipper_length_mm\": 170.0, \"bill_length_mm\": 54.347826086956516, \"pred\": \"Chinstrap\"}, {\"flipper_length_mm\": 170.0, \"bill_length_mm\": 54.78260869565217, \"pred\": \"Chinstrap\"}, {\"flipper_length_mm\": 170.0, \"bill_length_mm\": 55.21739130434783, \"pred\": \"Chinstrap\"}, {\"flipper_length_mm\": 170.0, \"bill_length_mm\": 55.65217391304348, \"pred\": \"Chinstrap\"}, {\"flipper_length_mm\": 170.0, \"bill_length_mm\": 56.086956521739125, \"pred\": \"Chinstrap\"}, {\"flipper_length_mm\": 170.0, \"bill_length_mm\": 56.52173913043478, \"pred\": \"Chinstrap\"}, {\"flipper_length_mm\": 170.0, \"bill_length_mm\": 56.95652173913044, \"pred\": \"Chinstrap\"}, {\"flipper_length_mm\": 170.0, \"bill_length_mm\": 57.391304347826086, \"pred\": \"Chinstrap\"}, {\"flipper_length_mm\": 170.0, \"bill_length_mm\": 57.826086956521735, \"pred\": \"Chinstrap\"}, {\"flipper_length_mm\": 170.0, \"bill_length_mm\": 58.26086956521739, \"pred\": \"Chinstrap\"}, {\"flipper_length_mm\": 170.0, \"bill_length_mm\": 58.69565217391305, \"pred\": \"Chinstrap\"}, {\"flipper_length_mm\": 170.0, \"bill_length_mm\": 59.130434782608695, \"pred\": \"Chinstrap\"}, {\"flipper_length_mm\": 170.0, \"bill_length_mm\": 59.565217391304344, \"pred\": \"Chinstrap\"}, {\"flipper_length_mm\": 170.0, \"bill_length_mm\": 60.0, \"pred\": \"Chinstrap\"}, {\"flipper_length_mm\": 170.94202898550725, \"bill_length_mm\": 30.0, \"pred\": \"Adelie\"}, {\"flipper_length_mm\": 170.94202898550725, \"bill_length_mm\": 30.434782608695652, \"pred\": \"Adelie\"}, {\"flipper_length_mm\": 170.94202898550725, \"bill_length_mm\": 30.869565217391305, \"pred\": \"Adelie\"}, {\"flipper_length_mm\": 170.94202898550725, \"bill_length_mm\": 31.304347826086957, \"pred\": \"Adelie\"}, {\"flipper_length_mm\": 170.94202898550725, \"bill_length_mm\": 31.73913043478261, \"pred\": \"Adelie\"}, {\"flipper_length_mm\": 170.94202898550725, \"bill_length_mm\": 32.17391304347826, \"pred\": \"Adelie\"}, {\"flipper_length_mm\": 170.94202898550725, \"bill_length_mm\": 32.608695652173914, \"pred\": \"Adelie\"}, {\"flipper_length_mm\": 170.94202898550725, \"bill_length_mm\": 33.04347826086956, \"pred\": \"Adelie\"}, {\"flipper_length_mm\": 170.94202898550725, \"bill_length_mm\": 33.47826086956522, \"pred\": \"Adelie\"}, {\"flipper_length_mm\": 170.94202898550725, \"bill_length_mm\": 33.91304347826087, \"pred\": \"Adelie\"}, {\"flipper_length_mm\": 170.94202898550725, \"bill_length_mm\": 34.34782608695652, \"pred\": \"Adelie\"}, {\"flipper_length_mm\": 170.94202898550725, \"bill_length_mm\": 34.78260869565217, \"pred\": \"Adelie\"}, {\"flipper_length_mm\": 170.94202898550725, \"bill_length_mm\": 35.21739130434783, \"pred\": \"Adelie\"}, {\"flipper_length_mm\": 170.94202898550725, \"bill_length_mm\": 35.65217391304348, \"pred\": \"Adelie\"}, {\"flipper_length_mm\": 170.94202898550725, \"bill_length_mm\": 36.08695652173913, \"pred\": \"Adelie\"}, {\"flipper_length_mm\": 170.94202898550725, \"bill_length_mm\": 36.52173913043478, \"pred\": \"Adelie\"}, {\"flipper_length_mm\": 170.94202898550725, \"bill_length_mm\": 36.95652173913044, \"pred\": \"Adelie\"}, {\"flipper_length_mm\": 170.94202898550725, \"bill_length_mm\": 37.391304347826086, \"pred\": \"Adelie\"}, {\"flipper_length_mm\": 170.94202898550725, \"bill_length_mm\": 37.82608695652174, \"pred\": \"Adelie\"}, {\"flipper_length_mm\": 170.94202898550725, \"bill_length_mm\": 38.26086956521739, \"pred\": \"Adelie\"}, {\"flipper_length_mm\": 170.94202898550725, \"bill_length_mm\": 38.69565217391305, \"pred\": \"Adelie\"}, {\"flipper_length_mm\": 170.94202898550725, \"bill_length_mm\": 39.130434782608695, \"pred\": \"Adelie\"}, {\"flipper_length_mm\": 170.94202898550725, \"bill_length_mm\": 39.565217391304344, \"pred\": \"Adelie\"}, {\"flipper_length_mm\": 170.94202898550725, \"bill_length_mm\": 40.0, \"pred\": \"Adelie\"}, {\"flipper_length_mm\": 170.94202898550725, \"bill_length_mm\": 40.434782608695656, \"pred\": \"Adelie\"}, {\"flipper_length_mm\": 170.94202898550725, \"bill_length_mm\": 40.869565217391305, \"pred\": \"Adelie\"}, {\"flipper_length_mm\": 170.94202898550725, \"bill_length_mm\": 41.30434782608695, \"pred\": \"Adelie\"}, {\"flipper_length_mm\": 170.94202898550725, \"bill_length_mm\": 41.73913043478261, \"pred\": \"Chinstrap\"}, {\"flipper_length_mm\": 170.94202898550725, \"bill_length_mm\": 42.17391304347826, \"pred\": \"Chinstrap\"}, {\"flipper_length_mm\": 170.94202898550725, \"bill_length_mm\": 42.608695652173914, \"pred\": \"Chinstrap\"}, {\"flipper_length_mm\": 170.94202898550725, \"bill_length_mm\": 43.04347826086956, \"pred\": \"Chinstrap\"}, {\"flipper_length_mm\": 170.94202898550725, \"bill_length_mm\": 43.47826086956522, \"pred\": \"Chinstrap\"}, {\"flipper_length_mm\": 170.94202898550725, \"bill_length_mm\": 43.91304347826087, \"pred\": \"Chinstrap\"}, {\"flipper_length_mm\": 170.94202898550725, \"bill_length_mm\": 44.34782608695652, \"pred\": \"Chinstrap\"}, {\"flipper_length_mm\": 170.94202898550725, \"bill_length_mm\": 44.78260869565217, \"pred\": \"Chinstrap\"}, {\"flipper_length_mm\": 170.94202898550725, \"bill_length_mm\": 45.21739130434783, \"pred\": \"Chinstrap\"}, {\"flipper_length_mm\": 170.94202898550725, \"bill_length_mm\": 45.65217391304348, \"pred\": \"Chinstrap\"}, {\"flipper_length_mm\": 170.94202898550725, \"bill_length_mm\": 46.086956521739125, \"pred\": \"Chinstrap\"}, {\"flipper_length_mm\": 170.94202898550725, \"bill_length_mm\": 46.52173913043478, \"pred\": \"Chinstrap\"}, {\"flipper_length_mm\": 170.94202898550725, \"bill_length_mm\": 46.95652173913044, \"pred\": \"Chinstrap\"}, {\"flipper_length_mm\": 170.94202898550725, \"bill_length_mm\": 47.391304347826086, \"pred\": \"Chinstrap\"}, {\"flipper_length_mm\": 170.94202898550725, \"bill_length_mm\": 47.826086956521735, \"pred\": \"Chinstrap\"}, {\"flipper_length_mm\": 170.94202898550725, \"bill_length_mm\": 48.26086956521739, \"pred\": \"Chinstrap\"}, {\"flipper_length_mm\": 170.94202898550725, \"bill_length_mm\": 48.69565217391305, \"pred\": \"Chinstrap\"}, {\"flipper_length_mm\": 170.94202898550725, \"bill_length_mm\": 49.130434782608695, \"pred\": \"Chinstrap\"}, {\"flipper_length_mm\": 170.94202898550725, \"bill_length_mm\": 49.565217391304344, \"pred\": \"Chinstrap\"}, {\"flipper_length_mm\": 170.94202898550725, \"bill_length_mm\": 50.0, \"pred\": \"Chinstrap\"}, {\"flipper_length_mm\": 170.94202898550725, \"bill_length_mm\": 50.434782608695656, \"pred\": \"Chinstrap\"}, {\"flipper_length_mm\": 170.94202898550725, \"bill_length_mm\": 50.869565217391305, \"pred\": \"Chinstrap\"}, {\"flipper_length_mm\": 170.94202898550725, \"bill_length_mm\": 51.30434782608695, \"pred\": \"Chinstrap\"}, {\"flipper_length_mm\": 170.94202898550725, \"bill_length_mm\": 51.73913043478261, \"pred\": \"Chinstrap\"}, {\"flipper_length_mm\": 170.94202898550725, \"bill_length_mm\": 52.173913043478265, \"pred\": \"Chinstrap\"}, {\"flipper_length_mm\": 170.94202898550725, \"bill_length_mm\": 52.608695652173914, \"pred\": \"Chinstrap\"}, {\"flipper_length_mm\": 170.94202898550725, \"bill_length_mm\": 53.04347826086956, \"pred\": \"Chinstrap\"}, {\"flipper_length_mm\": 170.94202898550725, \"bill_length_mm\": 53.47826086956522, \"pred\": \"Chinstrap\"}, {\"flipper_length_mm\": 170.94202898550725, \"bill_length_mm\": 53.91304347826087, \"pred\": \"Chinstrap\"}, {\"flipper_length_mm\": 170.94202898550725, \"bill_length_mm\": 54.347826086956516, \"pred\": \"Chinstrap\"}, {\"flipper_length_mm\": 170.94202898550725, \"bill_length_mm\": 54.78260869565217, \"pred\": \"Chinstrap\"}, {\"flipper_length_mm\": 170.94202898550725, \"bill_length_mm\": 55.21739130434783, \"pred\": \"Chinstrap\"}, {\"flipper_length_mm\": 170.94202898550725, \"bill_length_mm\": 55.65217391304348, \"pred\": \"Chinstrap\"}, {\"flipper_length_mm\": 170.94202898550725, \"bill_length_mm\": 56.086956521739125, \"pred\": \"Chinstrap\"}, {\"flipper_length_mm\": 170.94202898550725, \"bill_length_mm\": 56.52173913043478, \"pred\": \"Chinstrap\"}, {\"flipper_length_mm\": 170.94202898550725, \"bill_length_mm\": 56.95652173913044, \"pred\": \"Chinstrap\"}, {\"flipper_length_mm\": 170.94202898550725, \"bill_length_mm\": 57.391304347826086, \"pred\": \"Chinstrap\"}, {\"flipper_length_mm\": 170.94202898550725, \"bill_length_mm\": 57.826086956521735, \"pred\": \"Chinstrap\"}, {\"flipper_length_mm\": 170.94202898550725, \"bill_length_mm\": 58.26086956521739, \"pred\": \"Chinstrap\"}, {\"flipper_length_mm\": 170.94202898550725, \"bill_length_mm\": 58.69565217391305, \"pred\": \"Chinstrap\"}, {\"flipper_length_mm\": 170.94202898550725, \"bill_length_mm\": 59.130434782608695, \"pred\": \"Chinstrap\"}, {\"flipper_length_mm\": 170.94202898550725, \"bill_length_mm\": 59.565217391304344, \"pred\": \"Chinstrap\"}, {\"flipper_length_mm\": 170.94202898550725, \"bill_length_mm\": 60.0, \"pred\": \"Chinstrap\"}, {\"flipper_length_mm\": 171.8840579710145, \"bill_length_mm\": 30.0, \"pred\": \"Adelie\"}, {\"flipper_length_mm\": 171.8840579710145, \"bill_length_mm\": 30.434782608695652, \"pred\": \"Adelie\"}, {\"flipper_length_mm\": 171.8840579710145, \"bill_length_mm\": 30.869565217391305, \"pred\": \"Adelie\"}, {\"flipper_length_mm\": 171.8840579710145, \"bill_length_mm\": 31.304347826086957, \"pred\": \"Adelie\"}, {\"flipper_length_mm\": 171.8840579710145, \"bill_length_mm\": 31.73913043478261, \"pred\": \"Adelie\"}, {\"flipper_length_mm\": 171.8840579710145, \"bill_length_mm\": 32.17391304347826, \"pred\": \"Adelie\"}, {\"flipper_length_mm\": 171.8840579710145, \"bill_length_mm\": 32.608695652173914, \"pred\": \"Adelie\"}, {\"flipper_length_mm\": 171.8840579710145, \"bill_length_mm\": 33.04347826086956, \"pred\": \"Adelie\"}, {\"flipper_length_mm\": 171.8840579710145, \"bill_length_mm\": 33.47826086956522, \"pred\": \"Adelie\"}, {\"flipper_length_mm\": 171.8840579710145, \"bill_length_mm\": 33.91304347826087, \"pred\": \"Adelie\"}, {\"flipper_length_mm\": 171.8840579710145, \"bill_length_mm\": 34.34782608695652, \"pred\": \"Adelie\"}, {\"flipper_length_mm\": 171.8840579710145, \"bill_length_mm\": 34.78260869565217, \"pred\": \"Adelie\"}, {\"flipper_length_mm\": 171.8840579710145, \"bill_length_mm\": 35.21739130434783, \"pred\": \"Adelie\"}, {\"flipper_length_mm\": 171.8840579710145, \"bill_length_mm\": 35.65217391304348, \"pred\": \"Adelie\"}, {\"flipper_length_mm\": 171.8840579710145, \"bill_length_mm\": 36.08695652173913, \"pred\": \"Adelie\"}, {\"flipper_length_mm\": 171.8840579710145, \"bill_length_mm\": 36.52173913043478, \"pred\": \"Adelie\"}, {\"flipper_length_mm\": 171.8840579710145, \"bill_length_mm\": 36.95652173913044, \"pred\": \"Adelie\"}, {\"flipper_length_mm\": 171.8840579710145, \"bill_length_mm\": 37.391304347826086, \"pred\": \"Adelie\"}, {\"flipper_length_mm\": 171.8840579710145, \"bill_length_mm\": 37.82608695652174, \"pred\": \"Adelie\"}, {\"flipper_length_mm\": 171.8840579710145, \"bill_length_mm\": 38.26086956521739, \"pred\": \"Adelie\"}, {\"flipper_length_mm\": 171.8840579710145, \"bill_length_mm\": 38.69565217391305, \"pred\": \"Adelie\"}, {\"flipper_length_mm\": 171.8840579710145, \"bill_length_mm\": 39.130434782608695, \"pred\": \"Adelie\"}, {\"flipper_length_mm\": 171.8840579710145, \"bill_length_mm\": 39.565217391304344, \"pred\": \"Adelie\"}, {\"flipper_length_mm\": 171.8840579710145, \"bill_length_mm\": 40.0, \"pred\": \"Adelie\"}, {\"flipper_length_mm\": 171.8840579710145, \"bill_length_mm\": 40.434782608695656, \"pred\": \"Adelie\"}, {\"flipper_length_mm\": 171.8840579710145, \"bill_length_mm\": 40.869565217391305, \"pred\": \"Adelie\"}, {\"flipper_length_mm\": 171.8840579710145, \"bill_length_mm\": 41.30434782608695, \"pred\": \"Adelie\"}, {\"flipper_length_mm\": 171.8840579710145, \"bill_length_mm\": 41.73913043478261, \"pred\": \"Chinstrap\"}, {\"flipper_length_mm\": 171.8840579710145, \"bill_length_mm\": 42.17391304347826, \"pred\": \"Chinstrap\"}, {\"flipper_length_mm\": 171.8840579710145, \"bill_length_mm\": 42.608695652173914, \"pred\": \"Chinstrap\"}, {\"flipper_length_mm\": 171.8840579710145, \"bill_length_mm\": 43.04347826086956, \"pred\": \"Chinstrap\"}, {\"flipper_length_mm\": 171.8840579710145, \"bill_length_mm\": 43.47826086956522, \"pred\": \"Chinstrap\"}, {\"flipper_length_mm\": 171.8840579710145, \"bill_length_mm\": 43.91304347826087, \"pred\": \"Chinstrap\"}, {\"flipper_length_mm\": 171.8840579710145, \"bill_length_mm\": 44.34782608695652, \"pred\": \"Chinstrap\"}, {\"flipper_length_mm\": 171.8840579710145, \"bill_length_mm\": 44.78260869565217, \"pred\": \"Chinstrap\"}, {\"flipper_length_mm\": 171.8840579710145, \"bill_length_mm\": 45.21739130434783, \"pred\": \"Chinstrap\"}, {\"flipper_length_mm\": 171.8840579710145, \"bill_length_mm\": 45.65217391304348, \"pred\": \"Chinstrap\"}, {\"flipper_length_mm\": 171.8840579710145, \"bill_length_mm\": 46.086956521739125, \"pred\": \"Chinstrap\"}, {\"flipper_length_mm\": 171.8840579710145, \"bill_length_mm\": 46.52173913043478, \"pred\": \"Chinstrap\"}, {\"flipper_length_mm\": 171.8840579710145, \"bill_length_mm\": 46.95652173913044, \"pred\": \"Chinstrap\"}, {\"flipper_length_mm\": 171.8840579710145, \"bill_length_mm\": 47.391304347826086, \"pred\": \"Chinstrap\"}, {\"flipper_length_mm\": 171.8840579710145, \"bill_length_mm\": 47.826086956521735, \"pred\": \"Chinstrap\"}, {\"flipper_length_mm\": 171.8840579710145, \"bill_length_mm\": 48.26086956521739, \"pred\": \"Chinstrap\"}, {\"flipper_length_mm\": 171.8840579710145, \"bill_length_mm\": 48.69565217391305, \"pred\": \"Chinstrap\"}, {\"flipper_length_mm\": 171.8840579710145, \"bill_length_mm\": 49.130434782608695, \"pred\": \"Chinstrap\"}, {\"flipper_length_mm\": 171.8840579710145, \"bill_length_mm\": 49.565217391304344, \"pred\": \"Chinstrap\"}, {\"flipper_length_mm\": 171.8840579710145, \"bill_length_mm\": 50.0, \"pred\": \"Chinstrap\"}, {\"flipper_length_mm\": 171.8840579710145, \"bill_length_mm\": 50.434782608695656, \"pred\": \"Chinstrap\"}, {\"flipper_length_mm\": 171.8840579710145, \"bill_length_mm\": 50.869565217391305, \"pred\": \"Chinstrap\"}, {\"flipper_length_mm\": 171.8840579710145, \"bill_length_mm\": 51.30434782608695, \"pred\": \"Chinstrap\"}, {\"flipper_length_mm\": 171.8840579710145, \"bill_length_mm\": 51.73913043478261, \"pred\": \"Chinstrap\"}, {\"flipper_length_mm\": 171.8840579710145, \"bill_length_mm\": 52.173913043478265, \"pred\": \"Chinstrap\"}, {\"flipper_length_mm\": 171.8840579710145, \"bill_length_mm\": 52.608695652173914, \"pred\": \"Chinstrap\"}, {\"flipper_length_mm\": 171.8840579710145, \"bill_length_mm\": 53.04347826086956, \"pred\": \"Chinstrap\"}, {\"flipper_length_mm\": 171.8840579710145, \"bill_length_mm\": 53.47826086956522, \"pred\": \"Chinstrap\"}, {\"flipper_length_mm\": 171.8840579710145, \"bill_length_mm\": 53.91304347826087, \"pred\": \"Chinstrap\"}, {\"flipper_length_mm\": 171.8840579710145, \"bill_length_mm\": 54.347826086956516, \"pred\": \"Chinstrap\"}, {\"flipper_length_mm\": 171.8840579710145, \"bill_length_mm\": 54.78260869565217, \"pred\": \"Chinstrap\"}, {\"flipper_length_mm\": 171.8840579710145, \"bill_length_mm\": 55.21739130434783, \"pred\": \"Chinstrap\"}, {\"flipper_length_mm\": 171.8840579710145, \"bill_length_mm\": 55.65217391304348, \"pred\": \"Chinstrap\"}, {\"flipper_length_mm\": 171.8840579710145, \"bill_length_mm\": 56.086956521739125, \"pred\": \"Chinstrap\"}, {\"flipper_length_mm\": 171.8840579710145, \"bill_length_mm\": 56.52173913043478, \"pred\": \"Chinstrap\"}, {\"flipper_length_mm\": 171.8840579710145, \"bill_length_mm\": 56.95652173913044, \"pred\": \"Chinstrap\"}, {\"flipper_length_mm\": 171.8840579710145, \"bill_length_mm\": 57.391304347826086, \"pred\": \"Chinstrap\"}, {\"flipper_length_mm\": 171.8840579710145, \"bill_length_mm\": 57.826086956521735, \"pred\": \"Chinstrap\"}, {\"flipper_length_mm\": 171.8840579710145, \"bill_length_mm\": 58.26086956521739, \"pred\": \"Chinstrap\"}, {\"flipper_length_mm\": 171.8840579710145, \"bill_length_mm\": 58.69565217391305, \"pred\": \"Chinstrap\"}, {\"flipper_length_mm\": 171.8840579710145, \"bill_length_mm\": 59.130434782608695, \"pred\": \"Chinstrap\"}, {\"flipper_length_mm\": 171.8840579710145, \"bill_length_mm\": 59.565217391304344, \"pred\": \"Chinstrap\"}, {\"flipper_length_mm\": 171.8840579710145, \"bill_length_mm\": 60.0, \"pred\": \"Chinstrap\"}, {\"flipper_length_mm\": 172.82608695652175, \"bill_length_mm\": 30.0, \"pred\": \"Adelie\"}, {\"flipper_length_mm\": 172.82608695652175, \"bill_length_mm\": 30.434782608695652, \"pred\": \"Adelie\"}, {\"flipper_length_mm\": 172.82608695652175, \"bill_length_mm\": 30.869565217391305, \"pred\": \"Adelie\"}, {\"flipper_length_mm\": 172.82608695652175, \"bill_length_mm\": 31.304347826086957, \"pred\": \"Adelie\"}, {\"flipper_length_mm\": 172.82608695652175, \"bill_length_mm\": 31.73913043478261, \"pred\": \"Adelie\"}, {\"flipper_length_mm\": 172.82608695652175, \"bill_length_mm\": 32.17391304347826, \"pred\": \"Adelie\"}, {\"flipper_length_mm\": 172.82608695652175, \"bill_length_mm\": 32.608695652173914, \"pred\": \"Adelie\"}, {\"flipper_length_mm\": 172.82608695652175, \"bill_length_mm\": 33.04347826086956, \"pred\": \"Adelie\"}, {\"flipper_length_mm\": 172.82608695652175, \"bill_length_mm\": 33.47826086956522, \"pred\": \"Adelie\"}, {\"flipper_length_mm\": 172.82608695652175, \"bill_length_mm\": 33.91304347826087, \"pred\": \"Adelie\"}, {\"flipper_length_mm\": 172.82608695652175, \"bill_length_mm\": 34.34782608695652, \"pred\": \"Adelie\"}, {\"flipper_length_mm\": 172.82608695652175, \"bill_length_mm\": 34.78260869565217, \"pred\": \"Adelie\"}, {\"flipper_length_mm\": 172.82608695652175, \"bill_length_mm\": 35.21739130434783, \"pred\": \"Adelie\"}, {\"flipper_length_mm\": 172.82608695652175, \"bill_length_mm\": 35.65217391304348, \"pred\": \"Adelie\"}, {\"flipper_length_mm\": 172.82608695652175, \"bill_length_mm\": 36.08695652173913, \"pred\": \"Adelie\"}, {\"flipper_length_mm\": 172.82608695652175, \"bill_length_mm\": 36.52173913043478, \"pred\": \"Adelie\"}, {\"flipper_length_mm\": 172.82608695652175, \"bill_length_mm\": 36.95652173913044, \"pred\": \"Adelie\"}, {\"flipper_length_mm\": 172.82608695652175, \"bill_length_mm\": 37.391304347826086, \"pred\": \"Adelie\"}, {\"flipper_length_mm\": 172.82608695652175, \"bill_length_mm\": 37.82608695652174, \"pred\": \"Adelie\"}, {\"flipper_length_mm\": 172.82608695652175, \"bill_length_mm\": 38.26086956521739, \"pred\": \"Adelie\"}, {\"flipper_length_mm\": 172.82608695652175, \"bill_length_mm\": 38.69565217391305, \"pred\": \"Adelie\"}, {\"flipper_length_mm\": 172.82608695652175, \"bill_length_mm\": 39.130434782608695, \"pred\": \"Adelie\"}, {\"flipper_length_mm\": 172.82608695652175, \"bill_length_mm\": 39.565217391304344, \"pred\": \"Adelie\"}, {\"flipper_length_mm\": 172.82608695652175, \"bill_length_mm\": 40.0, \"pred\": \"Adelie\"}, {\"flipper_length_mm\": 172.82608695652175, \"bill_length_mm\": 40.434782608695656, \"pred\": \"Adelie\"}, {\"flipper_length_mm\": 172.82608695652175, \"bill_length_mm\": 40.869565217391305, \"pred\": \"Adelie\"}, {\"flipper_length_mm\": 172.82608695652175, \"bill_length_mm\": 41.30434782608695, \"pred\": \"Adelie\"}, {\"flipper_length_mm\": 172.82608695652175, \"bill_length_mm\": 41.73913043478261, \"pred\": \"Chinstrap\"}, {\"flipper_length_mm\": 172.82608695652175, \"bill_length_mm\": 42.17391304347826, \"pred\": \"Chinstrap\"}, {\"flipper_length_mm\": 172.82608695652175, \"bill_length_mm\": 42.608695652173914, \"pred\": \"Chinstrap\"}, {\"flipper_length_mm\": 172.82608695652175, \"bill_length_mm\": 43.04347826086956, \"pred\": \"Chinstrap\"}, {\"flipper_length_mm\": 172.82608695652175, \"bill_length_mm\": 43.47826086956522, \"pred\": \"Chinstrap\"}, {\"flipper_length_mm\": 172.82608695652175, \"bill_length_mm\": 43.91304347826087, \"pred\": \"Chinstrap\"}, {\"flipper_length_mm\": 172.82608695652175, \"bill_length_mm\": 44.34782608695652, \"pred\": \"Chinstrap\"}, {\"flipper_length_mm\": 172.82608695652175, \"bill_length_mm\": 44.78260869565217, \"pred\": \"Chinstrap\"}, {\"flipper_length_mm\": 172.82608695652175, \"bill_length_mm\": 45.21739130434783, \"pred\": \"Chinstrap\"}, {\"flipper_length_mm\": 172.82608695652175, \"bill_length_mm\": 45.65217391304348, \"pred\": \"Chinstrap\"}, {\"flipper_length_mm\": 172.82608695652175, \"bill_length_mm\": 46.086956521739125, \"pred\": \"Chinstrap\"}, {\"flipper_length_mm\": 172.82608695652175, \"bill_length_mm\": 46.52173913043478, \"pred\": \"Chinstrap\"}, {\"flipper_length_mm\": 172.82608695652175, \"bill_length_mm\": 46.95652173913044, \"pred\": \"Chinstrap\"}, {\"flipper_length_mm\": 172.82608695652175, \"bill_length_mm\": 47.391304347826086, \"pred\": \"Chinstrap\"}, {\"flipper_length_mm\": 172.82608695652175, \"bill_length_mm\": 47.826086956521735, \"pred\": \"Chinstrap\"}, {\"flipper_length_mm\": 172.82608695652175, \"bill_length_mm\": 48.26086956521739, \"pred\": \"Chinstrap\"}, {\"flipper_length_mm\": 172.82608695652175, \"bill_length_mm\": 48.69565217391305, \"pred\": \"Chinstrap\"}, {\"flipper_length_mm\": 172.82608695652175, \"bill_length_mm\": 49.130434782608695, \"pred\": \"Chinstrap\"}, {\"flipper_length_mm\": 172.82608695652175, \"bill_length_mm\": 49.565217391304344, \"pred\": \"Chinstrap\"}, {\"flipper_length_mm\": 172.82608695652175, \"bill_length_mm\": 50.0, \"pred\": \"Chinstrap\"}, {\"flipper_length_mm\": 172.82608695652175, \"bill_length_mm\": 50.434782608695656, \"pred\": \"Chinstrap\"}, {\"flipper_length_mm\": 172.82608695652175, \"bill_length_mm\": 50.869565217391305, \"pred\": \"Chinstrap\"}, {\"flipper_length_mm\": 172.82608695652175, \"bill_length_mm\": 51.30434782608695, \"pred\": \"Chinstrap\"}, {\"flipper_length_mm\": 172.82608695652175, \"bill_length_mm\": 51.73913043478261, \"pred\": \"Chinstrap\"}, {\"flipper_length_mm\": 172.82608695652175, \"bill_length_mm\": 52.173913043478265, \"pred\": \"Chinstrap\"}, {\"flipper_length_mm\": 172.82608695652175, \"bill_length_mm\": 52.608695652173914, \"pred\": \"Chinstrap\"}, {\"flipper_length_mm\": 172.82608695652175, \"bill_length_mm\": 53.04347826086956, \"pred\": \"Chinstrap\"}, {\"flipper_length_mm\": 172.82608695652175, \"bill_length_mm\": 53.47826086956522, \"pred\": \"Chinstrap\"}, {\"flipper_length_mm\": 172.82608695652175, \"bill_length_mm\": 53.91304347826087, \"pred\": \"Chinstrap\"}, {\"flipper_length_mm\": 172.82608695652175, \"bill_length_mm\": 54.347826086956516, \"pred\": \"Chinstrap\"}, {\"flipper_length_mm\": 172.82608695652175, \"bill_length_mm\": 54.78260869565217, \"pred\": \"Chinstrap\"}, {\"flipper_length_mm\": 172.82608695652175, \"bill_length_mm\": 55.21739130434783, \"pred\": \"Chinstrap\"}, {\"flipper_length_mm\": 172.82608695652175, \"bill_length_mm\": 55.65217391304348, \"pred\": \"Chinstrap\"}, {\"flipper_length_mm\": 172.82608695652175, \"bill_length_mm\": 56.086956521739125, \"pred\": \"Chinstrap\"}, {\"flipper_length_mm\": 172.82608695652175, \"bill_length_mm\": 56.52173913043478, \"pred\": \"Chinstrap\"}, {\"flipper_length_mm\": 172.82608695652175, \"bill_length_mm\": 56.95652173913044, \"pred\": \"Chinstrap\"}, {\"flipper_length_mm\": 172.82608695652175, \"bill_length_mm\": 57.391304347826086, \"pred\": \"Chinstrap\"}, {\"flipper_length_mm\": 172.82608695652175, \"bill_length_mm\": 57.826086956521735, \"pred\": \"Chinstrap\"}, {\"flipper_length_mm\": 172.82608695652175, \"bill_length_mm\": 58.26086956521739, \"pred\": \"Chinstrap\"}, {\"flipper_length_mm\": 172.82608695652175, \"bill_length_mm\": 58.69565217391305, \"pred\": \"Chinstrap\"}, {\"flipper_length_mm\": 172.82608695652175, \"bill_length_mm\": 59.130434782608695, \"pred\": \"Chinstrap\"}, {\"flipper_length_mm\": 172.82608695652175, \"bill_length_mm\": 59.565217391304344, \"pred\": \"Chinstrap\"}, {\"flipper_length_mm\": 172.82608695652175, \"bill_length_mm\": 60.0, \"pred\": \"Chinstrap\"}, {\"flipper_length_mm\": 173.768115942029, \"bill_length_mm\": 30.0, \"pred\": \"Adelie\"}, {\"flipper_length_mm\": 173.768115942029, \"bill_length_mm\": 30.434782608695652, \"pred\": \"Adelie\"}, {\"flipper_length_mm\": 173.768115942029, \"bill_length_mm\": 30.869565217391305, \"pred\": \"Adelie\"}, {\"flipper_length_mm\": 173.768115942029, \"bill_length_mm\": 31.304347826086957, \"pred\": \"Adelie\"}, {\"flipper_length_mm\": 173.768115942029, \"bill_length_mm\": 31.73913043478261, \"pred\": \"Adelie\"}, {\"flipper_length_mm\": 173.768115942029, \"bill_length_mm\": 32.17391304347826, \"pred\": \"Adelie\"}, {\"flipper_length_mm\": 173.768115942029, \"bill_length_mm\": 32.608695652173914, \"pred\": \"Adelie\"}, {\"flipper_length_mm\": 173.768115942029, \"bill_length_mm\": 33.04347826086956, \"pred\": \"Adelie\"}, {\"flipper_length_mm\": 173.768115942029, \"bill_length_mm\": 33.47826086956522, \"pred\": \"Adelie\"}, {\"flipper_length_mm\": 173.768115942029, \"bill_length_mm\": 33.91304347826087, \"pred\": \"Adelie\"}, {\"flipper_length_mm\": 173.768115942029, \"bill_length_mm\": 34.34782608695652, \"pred\": \"Adelie\"}, {\"flipper_length_mm\": 173.768115942029, \"bill_length_mm\": 34.78260869565217, \"pred\": \"Adelie\"}, {\"flipper_length_mm\": 173.768115942029, \"bill_length_mm\": 35.21739130434783, \"pred\": \"Adelie\"}, {\"flipper_length_mm\": 173.768115942029, \"bill_length_mm\": 35.65217391304348, \"pred\": \"Adelie\"}, {\"flipper_length_mm\": 173.768115942029, \"bill_length_mm\": 36.08695652173913, \"pred\": \"Adelie\"}, {\"flipper_length_mm\": 173.768115942029, \"bill_length_mm\": 36.52173913043478, \"pred\": \"Adelie\"}, {\"flipper_length_mm\": 173.768115942029, \"bill_length_mm\": 36.95652173913044, \"pred\": \"Adelie\"}, {\"flipper_length_mm\": 173.768115942029, \"bill_length_mm\": 37.391304347826086, \"pred\": \"Adelie\"}, {\"flipper_length_mm\": 173.768115942029, \"bill_length_mm\": 37.82608695652174, \"pred\": \"Adelie\"}, {\"flipper_length_mm\": 173.768115942029, \"bill_length_mm\": 38.26086956521739, \"pred\": \"Adelie\"}, {\"flipper_length_mm\": 173.768115942029, \"bill_length_mm\": 38.69565217391305, \"pred\": \"Adelie\"}, {\"flipper_length_mm\": 173.768115942029, \"bill_length_mm\": 39.130434782608695, \"pred\": \"Adelie\"}, {\"flipper_length_mm\": 173.768115942029, \"bill_length_mm\": 39.565217391304344, \"pred\": \"Adelie\"}, {\"flipper_length_mm\": 173.768115942029, \"bill_length_mm\": 40.0, \"pred\": \"Adelie\"}, {\"flipper_length_mm\": 173.768115942029, \"bill_length_mm\": 40.434782608695656, \"pred\": \"Adelie\"}, {\"flipper_length_mm\": 173.768115942029, \"bill_length_mm\": 40.869565217391305, \"pred\": \"Adelie\"}, {\"flipper_length_mm\": 173.768115942029, \"bill_length_mm\": 41.30434782608695, \"pred\": \"Adelie\"}, {\"flipper_length_mm\": 173.768115942029, \"bill_length_mm\": 41.73913043478261, \"pred\": \"Adelie\"}, {\"flipper_length_mm\": 173.768115942029, \"bill_length_mm\": 42.17391304347826, \"pred\": \"Chinstrap\"}, {\"flipper_length_mm\": 173.768115942029, \"bill_length_mm\": 42.608695652173914, \"pred\": \"Chinstrap\"}, {\"flipper_length_mm\": 173.768115942029, \"bill_length_mm\": 43.04347826086956, \"pred\": \"Chinstrap\"}, {\"flipper_length_mm\": 173.768115942029, \"bill_length_mm\": 43.47826086956522, \"pred\": \"Chinstrap\"}, {\"flipper_length_mm\": 173.768115942029, \"bill_length_mm\": 43.91304347826087, \"pred\": \"Chinstrap\"}, {\"flipper_length_mm\": 173.768115942029, \"bill_length_mm\": 44.34782608695652, \"pred\": \"Chinstrap\"}, {\"flipper_length_mm\": 173.768115942029, \"bill_length_mm\": 44.78260869565217, \"pred\": \"Chinstrap\"}, {\"flipper_length_mm\": 173.768115942029, \"bill_length_mm\": 45.21739130434783, \"pred\": \"Chinstrap\"}, {\"flipper_length_mm\": 173.768115942029, \"bill_length_mm\": 45.65217391304348, \"pred\": \"Chinstrap\"}, {\"flipper_length_mm\": 173.768115942029, \"bill_length_mm\": 46.086956521739125, \"pred\": \"Chinstrap\"}, {\"flipper_length_mm\": 173.768115942029, \"bill_length_mm\": 46.52173913043478, \"pred\": \"Chinstrap\"}, {\"flipper_length_mm\": 173.768115942029, \"bill_length_mm\": 46.95652173913044, \"pred\": \"Chinstrap\"}, {\"flipper_length_mm\": 173.768115942029, \"bill_length_mm\": 47.391304347826086, \"pred\": \"Chinstrap\"}, {\"flipper_length_mm\": 173.768115942029, \"bill_length_mm\": 47.826086956521735, \"pred\": \"Chinstrap\"}, {\"flipper_length_mm\": 173.768115942029, \"bill_length_mm\": 48.26086956521739, \"pred\": \"Chinstrap\"}, {\"flipper_length_mm\": 173.768115942029, \"bill_length_mm\": 48.69565217391305, \"pred\": \"Chinstrap\"}, {\"flipper_length_mm\": 173.768115942029, \"bill_length_mm\": 49.130434782608695, \"pred\": \"Chinstrap\"}, {\"flipper_length_mm\": 173.768115942029, \"bill_length_mm\": 49.565217391304344, \"pred\": \"Chinstrap\"}, {\"flipper_length_mm\": 173.768115942029, \"bill_length_mm\": 50.0, \"pred\": \"Chinstrap\"}, {\"flipper_length_mm\": 173.768115942029, \"bill_length_mm\": 50.434782608695656, \"pred\": \"Chinstrap\"}, {\"flipper_length_mm\": 173.768115942029, \"bill_length_mm\": 50.869565217391305, \"pred\": \"Chinstrap\"}, {\"flipper_length_mm\": 173.768115942029, \"bill_length_mm\": 51.30434782608695, \"pred\": \"Chinstrap\"}, {\"flipper_length_mm\": 173.768115942029, \"bill_length_mm\": 51.73913043478261, \"pred\": \"Chinstrap\"}, {\"flipper_length_mm\": 173.768115942029, \"bill_length_mm\": 52.173913043478265, \"pred\": \"Chinstrap\"}, {\"flipper_length_mm\": 173.768115942029, \"bill_length_mm\": 52.608695652173914, \"pred\": \"Chinstrap\"}, {\"flipper_length_mm\": 173.768115942029, \"bill_length_mm\": 53.04347826086956, \"pred\": \"Chinstrap\"}, {\"flipper_length_mm\": 173.768115942029, \"bill_length_mm\": 53.47826086956522, \"pred\": \"Chinstrap\"}, {\"flipper_length_mm\": 173.768115942029, \"bill_length_mm\": 53.91304347826087, \"pred\": \"Chinstrap\"}, {\"flipper_length_mm\": 173.768115942029, \"bill_length_mm\": 54.347826086956516, \"pred\": \"Chinstrap\"}, {\"flipper_length_mm\": 173.768115942029, \"bill_length_mm\": 54.78260869565217, \"pred\": \"Chinstrap\"}, {\"flipper_length_mm\": 173.768115942029, \"bill_length_mm\": 55.21739130434783, \"pred\": \"Chinstrap\"}, {\"flipper_length_mm\": 173.768115942029, \"bill_length_mm\": 55.65217391304348, \"pred\": \"Chinstrap\"}, {\"flipper_length_mm\": 173.768115942029, \"bill_length_mm\": 56.086956521739125, \"pred\": \"Chinstrap\"}, {\"flipper_length_mm\": 173.768115942029, \"bill_length_mm\": 56.52173913043478, \"pred\": \"Chinstrap\"}, {\"flipper_length_mm\": 173.768115942029, \"bill_length_mm\": 56.95652173913044, \"pred\": \"Chinstrap\"}, {\"flipper_length_mm\": 173.768115942029, \"bill_length_mm\": 57.391304347826086, \"pred\": \"Chinstrap\"}, {\"flipper_length_mm\": 173.768115942029, \"bill_length_mm\": 57.826086956521735, \"pred\": \"Chinstrap\"}, {\"flipper_length_mm\": 173.768115942029, \"bill_length_mm\": 58.26086956521739, \"pred\": \"Chinstrap\"}, {\"flipper_length_mm\": 173.768115942029, \"bill_length_mm\": 58.69565217391305, \"pred\": \"Chinstrap\"}, {\"flipper_length_mm\": 173.768115942029, \"bill_length_mm\": 59.130434782608695, \"pred\": \"Chinstrap\"}, {\"flipper_length_mm\": 173.768115942029, \"bill_length_mm\": 59.565217391304344, \"pred\": \"Chinstrap\"}, {\"flipper_length_mm\": 173.768115942029, \"bill_length_mm\": 60.0, \"pred\": \"Chinstrap\"}, {\"flipper_length_mm\": 174.71014492753622, \"bill_length_mm\": 30.0, \"pred\": \"Adelie\"}, {\"flipper_length_mm\": 174.71014492753622, \"bill_length_mm\": 30.434782608695652, \"pred\": \"Adelie\"}, {\"flipper_length_mm\": 174.71014492753622, \"bill_length_mm\": 30.869565217391305, \"pred\": \"Adelie\"}, {\"flipper_length_mm\": 174.71014492753622, \"bill_length_mm\": 31.304347826086957, \"pred\": \"Adelie\"}, {\"flipper_length_mm\": 174.71014492753622, \"bill_length_mm\": 31.73913043478261, \"pred\": \"Adelie\"}, {\"flipper_length_mm\": 174.71014492753622, \"bill_length_mm\": 32.17391304347826, \"pred\": \"Adelie\"}, {\"flipper_length_mm\": 174.71014492753622, \"bill_length_mm\": 32.608695652173914, \"pred\": \"Adelie\"}, {\"flipper_length_mm\": 174.71014492753622, \"bill_length_mm\": 33.04347826086956, \"pred\": \"Adelie\"}, {\"flipper_length_mm\": 174.71014492753622, \"bill_length_mm\": 33.47826086956522, \"pred\": \"Adelie\"}, {\"flipper_length_mm\": 174.71014492753622, \"bill_length_mm\": 33.91304347826087, \"pred\": \"Adelie\"}, {\"flipper_length_mm\": 174.71014492753622, \"bill_length_mm\": 34.34782608695652, \"pred\": \"Adelie\"}, {\"flipper_length_mm\": 174.71014492753622, \"bill_length_mm\": 34.78260869565217, \"pred\": \"Adelie\"}, {\"flipper_length_mm\": 174.71014492753622, \"bill_length_mm\": 35.21739130434783, \"pred\": \"Adelie\"}, {\"flipper_length_mm\": 174.71014492753622, \"bill_length_mm\": 35.65217391304348, \"pred\": \"Adelie\"}, {\"flipper_length_mm\": 174.71014492753622, \"bill_length_mm\": 36.08695652173913, \"pred\": \"Adelie\"}, {\"flipper_length_mm\": 174.71014492753622, \"bill_length_mm\": 36.52173913043478, \"pred\": \"Adelie\"}, {\"flipper_length_mm\": 174.71014492753622, \"bill_length_mm\": 36.95652173913044, \"pred\": \"Adelie\"}, {\"flipper_length_mm\": 174.71014492753622, \"bill_length_mm\": 37.391304347826086, \"pred\": \"Adelie\"}, {\"flipper_length_mm\": 174.71014492753622, \"bill_length_mm\": 37.82608695652174, \"pred\": \"Adelie\"}, {\"flipper_length_mm\": 174.71014492753622, \"bill_length_mm\": 38.26086956521739, \"pred\": \"Adelie\"}, {\"flipper_length_mm\": 174.71014492753622, \"bill_length_mm\": 38.69565217391305, \"pred\": \"Adelie\"}, {\"flipper_length_mm\": 174.71014492753622, \"bill_length_mm\": 39.130434782608695, \"pred\": \"Adelie\"}, {\"flipper_length_mm\": 174.71014492753622, \"bill_length_mm\": 39.565217391304344, \"pred\": \"Adelie\"}, {\"flipper_length_mm\": 174.71014492753622, \"bill_length_mm\": 40.0, \"pred\": \"Adelie\"}, {\"flipper_length_mm\": 174.71014492753622, \"bill_length_mm\": 40.434782608695656, \"pred\": \"Adelie\"}, {\"flipper_length_mm\": 174.71014492753622, \"bill_length_mm\": 40.869565217391305, \"pred\": \"Adelie\"}, {\"flipper_length_mm\": 174.71014492753622, \"bill_length_mm\": 41.30434782608695, \"pred\": \"Adelie\"}, {\"flipper_length_mm\": 174.71014492753622, \"bill_length_mm\": 41.73913043478261, \"pred\": \"Adelie\"}, {\"flipper_length_mm\": 174.71014492753622, \"bill_length_mm\": 42.17391304347826, \"pred\": \"Chinstrap\"}, {\"flipper_length_mm\": 174.71014492753622, \"bill_length_mm\": 42.608695652173914, \"pred\": \"Chinstrap\"}, {\"flipper_length_mm\": 174.71014492753622, \"bill_length_mm\": 43.04347826086956, \"pred\": \"Chinstrap\"}, {\"flipper_length_mm\": 174.71014492753622, \"bill_length_mm\": 43.47826086956522, \"pred\": \"Chinstrap\"}, {\"flipper_length_mm\": 174.71014492753622, \"bill_length_mm\": 43.91304347826087, \"pred\": \"Chinstrap\"}, {\"flipper_length_mm\": 174.71014492753622, \"bill_length_mm\": 44.34782608695652, \"pred\": \"Chinstrap\"}, {\"flipper_length_mm\": 174.71014492753622, \"bill_length_mm\": 44.78260869565217, \"pred\": \"Chinstrap\"}, {\"flipper_length_mm\": 174.71014492753622, \"bill_length_mm\": 45.21739130434783, \"pred\": \"Chinstrap\"}, {\"flipper_length_mm\": 174.71014492753622, \"bill_length_mm\": 45.65217391304348, \"pred\": \"Chinstrap\"}, {\"flipper_length_mm\": 174.71014492753622, \"bill_length_mm\": 46.086956521739125, \"pred\": \"Chinstrap\"}, {\"flipper_length_mm\": 174.71014492753622, \"bill_length_mm\": 46.52173913043478, \"pred\": \"Chinstrap\"}, {\"flipper_length_mm\": 174.71014492753622, \"bill_length_mm\": 46.95652173913044, \"pred\": \"Chinstrap\"}, {\"flipper_length_mm\": 174.71014492753622, \"bill_length_mm\": 47.391304347826086, \"pred\": \"Chinstrap\"}, {\"flipper_length_mm\": 174.71014492753622, \"bill_length_mm\": 47.826086956521735, \"pred\": \"Chinstrap\"}, {\"flipper_length_mm\": 174.71014492753622, \"bill_length_mm\": 48.26086956521739, \"pred\": \"Chinstrap\"}, {\"flipper_length_mm\": 174.71014492753622, \"bill_length_mm\": 48.69565217391305, \"pred\": \"Chinstrap\"}, {\"flipper_length_mm\": 174.71014492753622, \"bill_length_mm\": 49.130434782608695, \"pred\": \"Chinstrap\"}, {\"flipper_length_mm\": 174.71014492753622, \"bill_length_mm\": 49.565217391304344, \"pred\": \"Chinstrap\"}, {\"flipper_length_mm\": 174.71014492753622, \"bill_length_mm\": 50.0, \"pred\": \"Chinstrap\"}, {\"flipper_length_mm\": 174.71014492753622, \"bill_length_mm\": 50.434782608695656, \"pred\": \"Chinstrap\"}, {\"flipper_length_mm\": 174.71014492753622, \"bill_length_mm\": 50.869565217391305, \"pred\": \"Chinstrap\"}, {\"flipper_length_mm\": 174.71014492753622, \"bill_length_mm\": 51.30434782608695, \"pred\": \"Chinstrap\"}, {\"flipper_length_mm\": 174.71014492753622, \"bill_length_mm\": 51.73913043478261, \"pred\": \"Chinstrap\"}, {\"flipper_length_mm\": 174.71014492753622, \"bill_length_mm\": 52.173913043478265, \"pred\": \"Chinstrap\"}, {\"flipper_length_mm\": 174.71014492753622, \"bill_length_mm\": 52.608695652173914, \"pred\": \"Chinstrap\"}, {\"flipper_length_mm\": 174.71014492753622, \"bill_length_mm\": 53.04347826086956, \"pred\": \"Chinstrap\"}, {\"flipper_length_mm\": 174.71014492753622, \"bill_length_mm\": 53.47826086956522, \"pred\": \"Chinstrap\"}, {\"flipper_length_mm\": 174.71014492753622, \"bill_length_mm\": 53.91304347826087, \"pred\": \"Chinstrap\"}, {\"flipper_length_mm\": 174.71014492753622, \"bill_length_mm\": 54.347826086956516, \"pred\": \"Chinstrap\"}, {\"flipper_length_mm\": 174.71014492753622, \"bill_length_mm\": 54.78260869565217, \"pred\": \"Chinstrap\"}, {\"flipper_length_mm\": 174.71014492753622, \"bill_length_mm\": 55.21739130434783, \"pred\": \"Chinstrap\"}, {\"flipper_length_mm\": 174.71014492753622, \"bill_length_mm\": 55.65217391304348, \"pred\": \"Chinstrap\"}, {\"flipper_length_mm\": 174.71014492753622, \"bill_length_mm\": 56.086956521739125, \"pred\": \"Chinstrap\"}, {\"flipper_length_mm\": 174.71014492753622, \"bill_length_mm\": 56.52173913043478, \"pred\": \"Chinstrap\"}, {\"flipper_length_mm\": 174.71014492753622, \"bill_length_mm\": 56.95652173913044, \"pred\": \"Chinstrap\"}, {\"flipper_length_mm\": 174.71014492753622, \"bill_length_mm\": 57.391304347826086, \"pred\": \"Chinstrap\"}, {\"flipper_length_mm\": 174.71014492753622, \"bill_length_mm\": 57.826086956521735, \"pred\": \"Chinstrap\"}, {\"flipper_length_mm\": 174.71014492753622, \"bill_length_mm\": 58.26086956521739, \"pred\": \"Chinstrap\"}, {\"flipper_length_mm\": 174.71014492753622, \"bill_length_mm\": 58.69565217391305, \"pred\": \"Chinstrap\"}, {\"flipper_length_mm\": 174.71014492753622, \"bill_length_mm\": 59.130434782608695, \"pred\": \"Chinstrap\"}, {\"flipper_length_mm\": 174.71014492753622, \"bill_length_mm\": 59.565217391304344, \"pred\": \"Chinstrap\"}, {\"flipper_length_mm\": 174.71014492753622, \"bill_length_mm\": 60.0, \"pred\": \"Chinstrap\"}, {\"flipper_length_mm\": 175.65217391304347, \"bill_length_mm\": 30.0, \"pred\": \"Adelie\"}, {\"flipper_length_mm\": 175.65217391304347, \"bill_length_mm\": 30.434782608695652, \"pred\": \"Adelie\"}, {\"flipper_length_mm\": 175.65217391304347, \"bill_length_mm\": 30.869565217391305, \"pred\": \"Adelie\"}, {\"flipper_length_mm\": 175.65217391304347, \"bill_length_mm\": 31.304347826086957, \"pred\": \"Adelie\"}, {\"flipper_length_mm\": 175.65217391304347, \"bill_length_mm\": 31.73913043478261, \"pred\": \"Adelie\"}, {\"flipper_length_mm\": 175.65217391304347, \"bill_length_mm\": 32.17391304347826, \"pred\": \"Adelie\"}, {\"flipper_length_mm\": 175.65217391304347, \"bill_length_mm\": 32.608695652173914, \"pred\": \"Adelie\"}, {\"flipper_length_mm\": 175.65217391304347, \"bill_length_mm\": 33.04347826086956, \"pred\": \"Adelie\"}, {\"flipper_length_mm\": 175.65217391304347, \"bill_length_mm\": 33.47826086956522, \"pred\": \"Adelie\"}, {\"flipper_length_mm\": 175.65217391304347, \"bill_length_mm\": 33.91304347826087, \"pred\": \"Adelie\"}, {\"flipper_length_mm\": 175.65217391304347, \"bill_length_mm\": 34.34782608695652, \"pred\": \"Adelie\"}, {\"flipper_length_mm\": 175.65217391304347, \"bill_length_mm\": 34.78260869565217, \"pred\": \"Adelie\"}, {\"flipper_length_mm\": 175.65217391304347, \"bill_length_mm\": 35.21739130434783, \"pred\": \"Adelie\"}, {\"flipper_length_mm\": 175.65217391304347, \"bill_length_mm\": 35.65217391304348, \"pred\": \"Adelie\"}, {\"flipper_length_mm\": 175.65217391304347, \"bill_length_mm\": 36.08695652173913, \"pred\": \"Adelie\"}, {\"flipper_length_mm\": 175.65217391304347, \"bill_length_mm\": 36.52173913043478, \"pred\": \"Adelie\"}, {\"flipper_length_mm\": 175.65217391304347, \"bill_length_mm\": 36.95652173913044, \"pred\": \"Adelie\"}, {\"flipper_length_mm\": 175.65217391304347, \"bill_length_mm\": 37.391304347826086, \"pred\": \"Adelie\"}, {\"flipper_length_mm\": 175.65217391304347, \"bill_length_mm\": 37.82608695652174, \"pred\": \"Adelie\"}, {\"flipper_length_mm\": 175.65217391304347, \"bill_length_mm\": 38.26086956521739, \"pred\": \"Adelie\"}, {\"flipper_length_mm\": 175.65217391304347, \"bill_length_mm\": 38.69565217391305, \"pred\": \"Adelie\"}, {\"flipper_length_mm\": 175.65217391304347, \"bill_length_mm\": 39.130434782608695, \"pred\": \"Adelie\"}, {\"flipper_length_mm\": 175.65217391304347, \"bill_length_mm\": 39.565217391304344, \"pred\": \"Adelie\"}, {\"flipper_length_mm\": 175.65217391304347, \"bill_length_mm\": 40.0, \"pred\": \"Adelie\"}, {\"flipper_length_mm\": 175.65217391304347, \"bill_length_mm\": 40.434782608695656, \"pred\": \"Adelie\"}, {\"flipper_length_mm\": 175.65217391304347, \"bill_length_mm\": 40.869565217391305, \"pred\": \"Adelie\"}, {\"flipper_length_mm\": 175.65217391304347, \"bill_length_mm\": 41.30434782608695, \"pred\": \"Adelie\"}, {\"flipper_length_mm\": 175.65217391304347, \"bill_length_mm\": 41.73913043478261, \"pred\": \"Adelie\"}, {\"flipper_length_mm\": 175.65217391304347, \"bill_length_mm\": 42.17391304347826, \"pred\": \"Chinstrap\"}, {\"flipper_length_mm\": 175.65217391304347, \"bill_length_mm\": 42.608695652173914, \"pred\": \"Chinstrap\"}, {\"flipper_length_mm\": 175.65217391304347, \"bill_length_mm\": 43.04347826086956, \"pred\": \"Chinstrap\"}, {\"flipper_length_mm\": 175.65217391304347, \"bill_length_mm\": 43.47826086956522, \"pred\": \"Chinstrap\"}, {\"flipper_length_mm\": 175.65217391304347, \"bill_length_mm\": 43.91304347826087, \"pred\": \"Chinstrap\"}, {\"flipper_length_mm\": 175.65217391304347, \"bill_length_mm\": 44.34782608695652, \"pred\": \"Chinstrap\"}, {\"flipper_length_mm\": 175.65217391304347, \"bill_length_mm\": 44.78260869565217, \"pred\": \"Chinstrap\"}, {\"flipper_length_mm\": 175.65217391304347, \"bill_length_mm\": 45.21739130434783, \"pred\": \"Chinstrap\"}, {\"flipper_length_mm\": 175.65217391304347, \"bill_length_mm\": 45.65217391304348, \"pred\": \"Chinstrap\"}, {\"flipper_length_mm\": 175.65217391304347, \"bill_length_mm\": 46.086956521739125, \"pred\": \"Chinstrap\"}, {\"flipper_length_mm\": 175.65217391304347, \"bill_length_mm\": 46.52173913043478, \"pred\": \"Chinstrap\"}, {\"flipper_length_mm\": 175.65217391304347, \"bill_length_mm\": 46.95652173913044, \"pred\": \"Chinstrap\"}, {\"flipper_length_mm\": 175.65217391304347, \"bill_length_mm\": 47.391304347826086, \"pred\": \"Chinstrap\"}, {\"flipper_length_mm\": 175.65217391304347, \"bill_length_mm\": 47.826086956521735, \"pred\": \"Chinstrap\"}, {\"flipper_length_mm\": 175.65217391304347, \"bill_length_mm\": 48.26086956521739, \"pred\": \"Chinstrap\"}, {\"flipper_length_mm\": 175.65217391304347, \"bill_length_mm\": 48.69565217391305, \"pred\": \"Chinstrap\"}, {\"flipper_length_mm\": 175.65217391304347, \"bill_length_mm\": 49.130434782608695, \"pred\": \"Chinstrap\"}, {\"flipper_length_mm\": 175.65217391304347, \"bill_length_mm\": 49.565217391304344, \"pred\": \"Chinstrap\"}, {\"flipper_length_mm\": 175.65217391304347, \"bill_length_mm\": 50.0, \"pred\": \"Chinstrap\"}, {\"flipper_length_mm\": 175.65217391304347, \"bill_length_mm\": 50.434782608695656, \"pred\": \"Chinstrap\"}, {\"flipper_length_mm\": 175.65217391304347, \"bill_length_mm\": 50.869565217391305, \"pred\": \"Chinstrap\"}, {\"flipper_length_mm\": 175.65217391304347, \"bill_length_mm\": 51.30434782608695, \"pred\": \"Chinstrap\"}, {\"flipper_length_mm\": 175.65217391304347, \"bill_length_mm\": 51.73913043478261, \"pred\": \"Chinstrap\"}, {\"flipper_length_mm\": 175.65217391304347, \"bill_length_mm\": 52.173913043478265, \"pred\": \"Chinstrap\"}, {\"flipper_length_mm\": 175.65217391304347, \"bill_length_mm\": 52.608695652173914, \"pred\": \"Chinstrap\"}, {\"flipper_length_mm\": 175.65217391304347, \"bill_length_mm\": 53.04347826086956, \"pred\": \"Chinstrap\"}, {\"flipper_length_mm\": 175.65217391304347, \"bill_length_mm\": 53.47826086956522, \"pred\": \"Chinstrap\"}, {\"flipper_length_mm\": 175.65217391304347, \"bill_length_mm\": 53.91304347826087, \"pred\": \"Chinstrap\"}, {\"flipper_length_mm\": 175.65217391304347, \"bill_length_mm\": 54.347826086956516, \"pred\": \"Chinstrap\"}, {\"flipper_length_mm\": 175.65217391304347, \"bill_length_mm\": 54.78260869565217, \"pred\": \"Chinstrap\"}, {\"flipper_length_mm\": 175.65217391304347, \"bill_length_mm\": 55.21739130434783, \"pred\": \"Chinstrap\"}, {\"flipper_length_mm\": 175.65217391304347, \"bill_length_mm\": 55.65217391304348, \"pred\": \"Chinstrap\"}, {\"flipper_length_mm\": 175.65217391304347, \"bill_length_mm\": 56.086956521739125, \"pred\": \"Chinstrap\"}, {\"flipper_length_mm\": 175.65217391304347, \"bill_length_mm\": 56.52173913043478, \"pred\": \"Chinstrap\"}, {\"flipper_length_mm\": 175.65217391304347, \"bill_length_mm\": 56.95652173913044, \"pred\": \"Chinstrap\"}, {\"flipper_length_mm\": 175.65217391304347, \"bill_length_mm\": 57.391304347826086, \"pred\": \"Chinstrap\"}, {\"flipper_length_mm\": 175.65217391304347, \"bill_length_mm\": 57.826086956521735, \"pred\": \"Chinstrap\"}, {\"flipper_length_mm\": 175.65217391304347, \"bill_length_mm\": 58.26086956521739, \"pred\": \"Chinstrap\"}, {\"flipper_length_mm\": 175.65217391304347, \"bill_length_mm\": 58.69565217391305, \"pred\": \"Chinstrap\"}, {\"flipper_length_mm\": 175.65217391304347, \"bill_length_mm\": 59.130434782608695, \"pred\": \"Chinstrap\"}, {\"flipper_length_mm\": 175.65217391304347, \"bill_length_mm\": 59.565217391304344, \"pred\": \"Chinstrap\"}, {\"flipper_length_mm\": 175.65217391304347, \"bill_length_mm\": 60.0, \"pred\": \"Chinstrap\"}, {\"flipper_length_mm\": 176.59420289855072, \"bill_length_mm\": 30.0, \"pred\": \"Adelie\"}, {\"flipper_length_mm\": 176.59420289855072, \"bill_length_mm\": 30.434782608695652, \"pred\": \"Adelie\"}, {\"flipper_length_mm\": 176.59420289855072, \"bill_length_mm\": 30.869565217391305, \"pred\": \"Adelie\"}, {\"flipper_length_mm\": 176.59420289855072, \"bill_length_mm\": 31.304347826086957, \"pred\": \"Adelie\"}, {\"flipper_length_mm\": 176.59420289855072, \"bill_length_mm\": 31.73913043478261, \"pred\": \"Adelie\"}, {\"flipper_length_mm\": 176.59420289855072, \"bill_length_mm\": 32.17391304347826, \"pred\": \"Adelie\"}, {\"flipper_length_mm\": 176.59420289855072, \"bill_length_mm\": 32.608695652173914, \"pred\": \"Adelie\"}, {\"flipper_length_mm\": 176.59420289855072, \"bill_length_mm\": 33.04347826086956, \"pred\": \"Adelie\"}, {\"flipper_length_mm\": 176.59420289855072, \"bill_length_mm\": 33.47826086956522, \"pred\": \"Adelie\"}, {\"flipper_length_mm\": 176.59420289855072, \"bill_length_mm\": 33.91304347826087, \"pred\": \"Adelie\"}, {\"flipper_length_mm\": 176.59420289855072, \"bill_length_mm\": 34.34782608695652, \"pred\": \"Adelie\"}, {\"flipper_length_mm\": 176.59420289855072, \"bill_length_mm\": 34.78260869565217, \"pred\": \"Adelie\"}, {\"flipper_length_mm\": 176.59420289855072, \"bill_length_mm\": 35.21739130434783, \"pred\": \"Adelie\"}, {\"flipper_length_mm\": 176.59420289855072, \"bill_length_mm\": 35.65217391304348, \"pred\": \"Adelie\"}, {\"flipper_length_mm\": 176.59420289855072, \"bill_length_mm\": 36.08695652173913, \"pred\": \"Adelie\"}, {\"flipper_length_mm\": 176.59420289855072, \"bill_length_mm\": 36.52173913043478, \"pred\": \"Adelie\"}, {\"flipper_length_mm\": 176.59420289855072, \"bill_length_mm\": 36.95652173913044, \"pred\": \"Adelie\"}, {\"flipper_length_mm\": 176.59420289855072, \"bill_length_mm\": 37.391304347826086, \"pred\": \"Adelie\"}, {\"flipper_length_mm\": 176.59420289855072, \"bill_length_mm\": 37.82608695652174, \"pred\": \"Adelie\"}, {\"flipper_length_mm\": 176.59420289855072, \"bill_length_mm\": 38.26086956521739, \"pred\": \"Adelie\"}, {\"flipper_length_mm\": 176.59420289855072, \"bill_length_mm\": 38.69565217391305, \"pred\": \"Adelie\"}, {\"flipper_length_mm\": 176.59420289855072, \"bill_length_mm\": 39.130434782608695, \"pred\": \"Adelie\"}, {\"flipper_length_mm\": 176.59420289855072, \"bill_length_mm\": 39.565217391304344, \"pred\": \"Adelie\"}, {\"flipper_length_mm\": 176.59420289855072, \"bill_length_mm\": 40.0, \"pred\": \"Adelie\"}, {\"flipper_length_mm\": 176.59420289855072, \"bill_length_mm\": 40.434782608695656, \"pred\": \"Adelie\"}, {\"flipper_length_mm\": 176.59420289855072, \"bill_length_mm\": 40.869565217391305, \"pred\": \"Adelie\"}, {\"flipper_length_mm\": 176.59420289855072, \"bill_length_mm\": 41.30434782608695, \"pred\": \"Adelie\"}, {\"flipper_length_mm\": 176.59420289855072, \"bill_length_mm\": 41.73913043478261, \"pred\": \"Adelie\"}, {\"flipper_length_mm\": 176.59420289855072, \"bill_length_mm\": 42.17391304347826, \"pred\": \"Chinstrap\"}, {\"flipper_length_mm\": 176.59420289855072, \"bill_length_mm\": 42.608695652173914, \"pred\": \"Chinstrap\"}, {\"flipper_length_mm\": 176.59420289855072, \"bill_length_mm\": 43.04347826086956, \"pred\": \"Chinstrap\"}, {\"flipper_length_mm\": 176.59420289855072, \"bill_length_mm\": 43.47826086956522, \"pred\": \"Chinstrap\"}, {\"flipper_length_mm\": 176.59420289855072, \"bill_length_mm\": 43.91304347826087, \"pred\": \"Chinstrap\"}, {\"flipper_length_mm\": 176.59420289855072, \"bill_length_mm\": 44.34782608695652, \"pred\": \"Chinstrap\"}, {\"flipper_length_mm\": 176.59420289855072, \"bill_length_mm\": 44.78260869565217, \"pred\": \"Chinstrap\"}, {\"flipper_length_mm\": 176.59420289855072, \"bill_length_mm\": 45.21739130434783, \"pred\": \"Chinstrap\"}, {\"flipper_length_mm\": 176.59420289855072, \"bill_length_mm\": 45.65217391304348, \"pred\": \"Chinstrap\"}, {\"flipper_length_mm\": 176.59420289855072, \"bill_length_mm\": 46.086956521739125, \"pred\": \"Chinstrap\"}, {\"flipper_length_mm\": 176.59420289855072, \"bill_length_mm\": 46.52173913043478, \"pred\": \"Chinstrap\"}, {\"flipper_length_mm\": 176.59420289855072, \"bill_length_mm\": 46.95652173913044, \"pred\": \"Chinstrap\"}, {\"flipper_length_mm\": 176.59420289855072, \"bill_length_mm\": 47.391304347826086, \"pred\": \"Chinstrap\"}, {\"flipper_length_mm\": 176.59420289855072, \"bill_length_mm\": 47.826086956521735, \"pred\": \"Chinstrap\"}, {\"flipper_length_mm\": 176.59420289855072, \"bill_length_mm\": 48.26086956521739, \"pred\": \"Chinstrap\"}, {\"flipper_length_mm\": 176.59420289855072, \"bill_length_mm\": 48.69565217391305, \"pred\": \"Chinstrap\"}, {\"flipper_length_mm\": 176.59420289855072, \"bill_length_mm\": 49.130434782608695, \"pred\": \"Chinstrap\"}, {\"flipper_length_mm\": 176.59420289855072, \"bill_length_mm\": 49.565217391304344, \"pred\": \"Chinstrap\"}, {\"flipper_length_mm\": 176.59420289855072, \"bill_length_mm\": 50.0, \"pred\": \"Chinstrap\"}, {\"flipper_length_mm\": 176.59420289855072, \"bill_length_mm\": 50.434782608695656, \"pred\": \"Chinstrap\"}, {\"flipper_length_mm\": 176.59420289855072, \"bill_length_mm\": 50.869565217391305, \"pred\": \"Chinstrap\"}, {\"flipper_length_mm\": 176.59420289855072, \"bill_length_mm\": 51.30434782608695, \"pred\": \"Chinstrap\"}, {\"flipper_length_mm\": 176.59420289855072, \"bill_length_mm\": 51.73913043478261, \"pred\": \"Chinstrap\"}, {\"flipper_length_mm\": 176.59420289855072, \"bill_length_mm\": 52.173913043478265, \"pred\": \"Chinstrap\"}, {\"flipper_length_mm\": 176.59420289855072, \"bill_length_mm\": 52.608695652173914, \"pred\": \"Chinstrap\"}, {\"flipper_length_mm\": 176.59420289855072, \"bill_length_mm\": 53.04347826086956, \"pred\": \"Chinstrap\"}, {\"flipper_length_mm\": 176.59420289855072, \"bill_length_mm\": 53.47826086956522, \"pred\": \"Chinstrap\"}, {\"flipper_length_mm\": 176.59420289855072, \"bill_length_mm\": 53.91304347826087, \"pred\": \"Chinstrap\"}, {\"flipper_length_mm\": 176.59420289855072, \"bill_length_mm\": 54.347826086956516, \"pred\": \"Chinstrap\"}, {\"flipper_length_mm\": 176.59420289855072, \"bill_length_mm\": 54.78260869565217, \"pred\": \"Chinstrap\"}, {\"flipper_length_mm\": 176.59420289855072, \"bill_length_mm\": 55.21739130434783, \"pred\": \"Chinstrap\"}, {\"flipper_length_mm\": 176.59420289855072, \"bill_length_mm\": 55.65217391304348, \"pred\": \"Chinstrap\"}, {\"flipper_length_mm\": 176.59420289855072, \"bill_length_mm\": 56.086956521739125, \"pred\": \"Chinstrap\"}, {\"flipper_length_mm\": 176.59420289855072, \"bill_length_mm\": 56.52173913043478, \"pred\": \"Chinstrap\"}, {\"flipper_length_mm\": 176.59420289855072, \"bill_length_mm\": 56.95652173913044, \"pred\": \"Chinstrap\"}, {\"flipper_length_mm\": 176.59420289855072, \"bill_length_mm\": 57.391304347826086, \"pred\": \"Chinstrap\"}, {\"flipper_length_mm\": 176.59420289855072, \"bill_length_mm\": 57.826086956521735, \"pred\": \"Chinstrap\"}, {\"flipper_length_mm\": 176.59420289855072, \"bill_length_mm\": 58.26086956521739, \"pred\": \"Chinstrap\"}, {\"flipper_length_mm\": 176.59420289855072, \"bill_length_mm\": 58.69565217391305, \"pred\": \"Chinstrap\"}, {\"flipper_length_mm\": 176.59420289855072, \"bill_length_mm\": 59.130434782608695, \"pred\": \"Chinstrap\"}, {\"flipper_length_mm\": 176.59420289855072, \"bill_length_mm\": 59.565217391304344, \"pred\": \"Chinstrap\"}, {\"flipper_length_mm\": 176.59420289855072, \"bill_length_mm\": 60.0, \"pred\": \"Chinstrap\"}, {\"flipper_length_mm\": 177.53623188405797, \"bill_length_mm\": 30.0, \"pred\": \"Adelie\"}, {\"flipper_length_mm\": 177.53623188405797, \"bill_length_mm\": 30.434782608695652, \"pred\": \"Adelie\"}, {\"flipper_length_mm\": 177.53623188405797, \"bill_length_mm\": 30.869565217391305, \"pred\": \"Adelie\"}, {\"flipper_length_mm\": 177.53623188405797, \"bill_length_mm\": 31.304347826086957, \"pred\": \"Adelie\"}, {\"flipper_length_mm\": 177.53623188405797, \"bill_length_mm\": 31.73913043478261, \"pred\": \"Adelie\"}, {\"flipper_length_mm\": 177.53623188405797, \"bill_length_mm\": 32.17391304347826, \"pred\": \"Adelie\"}, {\"flipper_length_mm\": 177.53623188405797, \"bill_length_mm\": 32.608695652173914, \"pred\": \"Adelie\"}, {\"flipper_length_mm\": 177.53623188405797, \"bill_length_mm\": 33.04347826086956, \"pred\": \"Adelie\"}, {\"flipper_length_mm\": 177.53623188405797, \"bill_length_mm\": 33.47826086956522, \"pred\": \"Adelie\"}, {\"flipper_length_mm\": 177.53623188405797, \"bill_length_mm\": 33.91304347826087, \"pred\": \"Adelie\"}, {\"flipper_length_mm\": 177.53623188405797, \"bill_length_mm\": 34.34782608695652, \"pred\": \"Adelie\"}, {\"flipper_length_mm\": 177.53623188405797, \"bill_length_mm\": 34.78260869565217, \"pred\": \"Adelie\"}, {\"flipper_length_mm\": 177.53623188405797, \"bill_length_mm\": 35.21739130434783, \"pred\": \"Adelie\"}, {\"flipper_length_mm\": 177.53623188405797, \"bill_length_mm\": 35.65217391304348, \"pred\": \"Adelie\"}, {\"flipper_length_mm\": 177.53623188405797, \"bill_length_mm\": 36.08695652173913, \"pred\": \"Adelie\"}, {\"flipper_length_mm\": 177.53623188405797, \"bill_length_mm\": 36.52173913043478, \"pred\": \"Adelie\"}, {\"flipper_length_mm\": 177.53623188405797, \"bill_length_mm\": 36.95652173913044, \"pred\": \"Adelie\"}, {\"flipper_length_mm\": 177.53623188405797, \"bill_length_mm\": 37.391304347826086, \"pred\": \"Adelie\"}, {\"flipper_length_mm\": 177.53623188405797, \"bill_length_mm\": 37.82608695652174, \"pred\": \"Adelie\"}, {\"flipper_length_mm\": 177.53623188405797, \"bill_length_mm\": 38.26086956521739, \"pred\": \"Adelie\"}, {\"flipper_length_mm\": 177.53623188405797, \"bill_length_mm\": 38.69565217391305, \"pred\": \"Adelie\"}, {\"flipper_length_mm\": 177.53623188405797, \"bill_length_mm\": 39.130434782608695, \"pred\": \"Adelie\"}, {\"flipper_length_mm\": 177.53623188405797, \"bill_length_mm\": 39.565217391304344, \"pred\": \"Adelie\"}, {\"flipper_length_mm\": 177.53623188405797, \"bill_length_mm\": 40.0, \"pred\": \"Adelie\"}, {\"flipper_length_mm\": 177.53623188405797, \"bill_length_mm\": 40.434782608695656, \"pred\": \"Adelie\"}, {\"flipper_length_mm\": 177.53623188405797, \"bill_length_mm\": 40.869565217391305, \"pred\": \"Adelie\"}, {\"flipper_length_mm\": 177.53623188405797, \"bill_length_mm\": 41.30434782608695, \"pred\": \"Adelie\"}, {\"flipper_length_mm\": 177.53623188405797, \"bill_length_mm\": 41.73913043478261, \"pred\": \"Adelie\"}, {\"flipper_length_mm\": 177.53623188405797, \"bill_length_mm\": 42.17391304347826, \"pred\": \"Adelie\"}, {\"flipper_length_mm\": 177.53623188405797, \"bill_length_mm\": 42.608695652173914, \"pred\": \"Chinstrap\"}, {\"flipper_length_mm\": 177.53623188405797, \"bill_length_mm\": 43.04347826086956, \"pred\": \"Chinstrap\"}, {\"flipper_length_mm\": 177.53623188405797, \"bill_length_mm\": 43.47826086956522, \"pred\": \"Chinstrap\"}, {\"flipper_length_mm\": 177.53623188405797, \"bill_length_mm\": 43.91304347826087, \"pred\": \"Chinstrap\"}, {\"flipper_length_mm\": 177.53623188405797, \"bill_length_mm\": 44.34782608695652, \"pred\": \"Chinstrap\"}, {\"flipper_length_mm\": 177.53623188405797, \"bill_length_mm\": 44.78260869565217, \"pred\": \"Chinstrap\"}, {\"flipper_length_mm\": 177.53623188405797, \"bill_length_mm\": 45.21739130434783, \"pred\": \"Chinstrap\"}, {\"flipper_length_mm\": 177.53623188405797, \"bill_length_mm\": 45.65217391304348, \"pred\": \"Chinstrap\"}, {\"flipper_length_mm\": 177.53623188405797, \"bill_length_mm\": 46.086956521739125, \"pred\": \"Chinstrap\"}, {\"flipper_length_mm\": 177.53623188405797, \"bill_length_mm\": 46.52173913043478, \"pred\": \"Chinstrap\"}, {\"flipper_length_mm\": 177.53623188405797, \"bill_length_mm\": 46.95652173913044, \"pred\": \"Chinstrap\"}, {\"flipper_length_mm\": 177.53623188405797, \"bill_length_mm\": 47.391304347826086, \"pred\": \"Chinstrap\"}, {\"flipper_length_mm\": 177.53623188405797, \"bill_length_mm\": 47.826086956521735, \"pred\": \"Chinstrap\"}, {\"flipper_length_mm\": 177.53623188405797, \"bill_length_mm\": 48.26086956521739, \"pred\": \"Chinstrap\"}, {\"flipper_length_mm\": 177.53623188405797, \"bill_length_mm\": 48.69565217391305, \"pred\": \"Chinstrap\"}, {\"flipper_length_mm\": 177.53623188405797, \"bill_length_mm\": 49.130434782608695, \"pred\": \"Chinstrap\"}, {\"flipper_length_mm\": 177.53623188405797, \"bill_length_mm\": 49.565217391304344, \"pred\": \"Chinstrap\"}, {\"flipper_length_mm\": 177.53623188405797, \"bill_length_mm\": 50.0, \"pred\": \"Chinstrap\"}, {\"flipper_length_mm\": 177.53623188405797, \"bill_length_mm\": 50.434782608695656, \"pred\": \"Chinstrap\"}, {\"flipper_length_mm\": 177.53623188405797, \"bill_length_mm\": 50.869565217391305, \"pred\": \"Chinstrap\"}, {\"flipper_length_mm\": 177.53623188405797, \"bill_length_mm\": 51.30434782608695, \"pred\": \"Chinstrap\"}, {\"flipper_length_mm\": 177.53623188405797, \"bill_length_mm\": 51.73913043478261, \"pred\": \"Chinstrap\"}, {\"flipper_length_mm\": 177.53623188405797, \"bill_length_mm\": 52.173913043478265, \"pred\": \"Chinstrap\"}, {\"flipper_length_mm\": 177.53623188405797, \"bill_length_mm\": 52.608695652173914, \"pred\": \"Chinstrap\"}, {\"flipper_length_mm\": 177.53623188405797, \"bill_length_mm\": 53.04347826086956, \"pred\": \"Chinstrap\"}, {\"flipper_length_mm\": 177.53623188405797, \"bill_length_mm\": 53.47826086956522, \"pred\": \"Chinstrap\"}, {\"flipper_length_mm\": 177.53623188405797, \"bill_length_mm\": 53.91304347826087, \"pred\": \"Chinstrap\"}, {\"flipper_length_mm\": 177.53623188405797, \"bill_length_mm\": 54.347826086956516, \"pred\": \"Chinstrap\"}, {\"flipper_length_mm\": 177.53623188405797, \"bill_length_mm\": 54.78260869565217, \"pred\": \"Chinstrap\"}, {\"flipper_length_mm\": 177.53623188405797, \"bill_length_mm\": 55.21739130434783, \"pred\": \"Chinstrap\"}, {\"flipper_length_mm\": 177.53623188405797, \"bill_length_mm\": 55.65217391304348, \"pred\": \"Chinstrap\"}, {\"flipper_length_mm\": 177.53623188405797, \"bill_length_mm\": 56.086956521739125, \"pred\": \"Chinstrap\"}, {\"flipper_length_mm\": 177.53623188405797, \"bill_length_mm\": 56.52173913043478, \"pred\": \"Chinstrap\"}, {\"flipper_length_mm\": 177.53623188405797, \"bill_length_mm\": 56.95652173913044, \"pred\": \"Chinstrap\"}, {\"flipper_length_mm\": 177.53623188405797, \"bill_length_mm\": 57.391304347826086, \"pred\": \"Chinstrap\"}, {\"flipper_length_mm\": 177.53623188405797, \"bill_length_mm\": 57.826086956521735, \"pred\": \"Chinstrap\"}, {\"flipper_length_mm\": 177.53623188405797, \"bill_length_mm\": 58.26086956521739, \"pred\": \"Chinstrap\"}, {\"flipper_length_mm\": 177.53623188405797, \"bill_length_mm\": 58.69565217391305, \"pred\": \"Chinstrap\"}, {\"flipper_length_mm\": 177.53623188405797, \"bill_length_mm\": 59.130434782608695, \"pred\": \"Chinstrap\"}, {\"flipper_length_mm\": 177.53623188405797, \"bill_length_mm\": 59.565217391304344, \"pred\": \"Chinstrap\"}, {\"flipper_length_mm\": 177.53623188405797, \"bill_length_mm\": 60.0, \"pred\": \"Chinstrap\"}, {\"flipper_length_mm\": 178.47826086956522, \"bill_length_mm\": 30.0, \"pred\": \"Adelie\"}, {\"flipper_length_mm\": 178.47826086956522, \"bill_length_mm\": 30.434782608695652, \"pred\": \"Adelie\"}, {\"flipper_length_mm\": 178.47826086956522, \"bill_length_mm\": 30.869565217391305, \"pred\": \"Adelie\"}, {\"flipper_length_mm\": 178.47826086956522, \"bill_length_mm\": 31.304347826086957, \"pred\": \"Adelie\"}, {\"flipper_length_mm\": 178.47826086956522, \"bill_length_mm\": 31.73913043478261, \"pred\": \"Adelie\"}, {\"flipper_length_mm\": 178.47826086956522, \"bill_length_mm\": 32.17391304347826, \"pred\": \"Adelie\"}, {\"flipper_length_mm\": 178.47826086956522, \"bill_length_mm\": 32.608695652173914, \"pred\": \"Adelie\"}, {\"flipper_length_mm\": 178.47826086956522, \"bill_length_mm\": 33.04347826086956, \"pred\": \"Adelie\"}, {\"flipper_length_mm\": 178.47826086956522, \"bill_length_mm\": 33.47826086956522, \"pred\": \"Adelie\"}, {\"flipper_length_mm\": 178.47826086956522, \"bill_length_mm\": 33.91304347826087, \"pred\": \"Adelie\"}, {\"flipper_length_mm\": 178.47826086956522, \"bill_length_mm\": 34.34782608695652, \"pred\": \"Adelie\"}, {\"flipper_length_mm\": 178.47826086956522, \"bill_length_mm\": 34.78260869565217, \"pred\": \"Adelie\"}, {\"flipper_length_mm\": 178.47826086956522, \"bill_length_mm\": 35.21739130434783, \"pred\": \"Adelie\"}, {\"flipper_length_mm\": 178.47826086956522, \"bill_length_mm\": 35.65217391304348, \"pred\": \"Adelie\"}, {\"flipper_length_mm\": 178.47826086956522, \"bill_length_mm\": 36.08695652173913, \"pred\": \"Adelie\"}, {\"flipper_length_mm\": 178.47826086956522, \"bill_length_mm\": 36.52173913043478, \"pred\": \"Adelie\"}, {\"flipper_length_mm\": 178.47826086956522, \"bill_length_mm\": 36.95652173913044, \"pred\": \"Adelie\"}, {\"flipper_length_mm\": 178.47826086956522, \"bill_length_mm\": 37.391304347826086, \"pred\": \"Adelie\"}, {\"flipper_length_mm\": 178.47826086956522, \"bill_length_mm\": 37.82608695652174, \"pred\": \"Adelie\"}, {\"flipper_length_mm\": 178.47826086956522, \"bill_length_mm\": 38.26086956521739, \"pred\": \"Adelie\"}, {\"flipper_length_mm\": 178.47826086956522, \"bill_length_mm\": 38.69565217391305, \"pred\": \"Adelie\"}, {\"flipper_length_mm\": 178.47826086956522, \"bill_length_mm\": 39.130434782608695, \"pred\": \"Adelie\"}, {\"flipper_length_mm\": 178.47826086956522, \"bill_length_mm\": 39.565217391304344, \"pred\": \"Adelie\"}, {\"flipper_length_mm\": 178.47826086956522, \"bill_length_mm\": 40.0, \"pred\": \"Adelie\"}, {\"flipper_length_mm\": 178.47826086956522, \"bill_length_mm\": 40.434782608695656, \"pred\": \"Adelie\"}, {\"flipper_length_mm\": 178.47826086956522, \"bill_length_mm\": 40.869565217391305, \"pred\": \"Adelie\"}, {\"flipper_length_mm\": 178.47826086956522, \"bill_length_mm\": 41.30434782608695, \"pred\": \"Adelie\"}, {\"flipper_length_mm\": 178.47826086956522, \"bill_length_mm\": 41.73913043478261, \"pred\": \"Adelie\"}, {\"flipper_length_mm\": 178.47826086956522, \"bill_length_mm\": 42.17391304347826, \"pred\": \"Adelie\"}, {\"flipper_length_mm\": 178.47826086956522, \"bill_length_mm\": 42.608695652173914, \"pred\": \"Chinstrap\"}, {\"flipper_length_mm\": 178.47826086956522, \"bill_length_mm\": 43.04347826086956, \"pred\": \"Chinstrap\"}, {\"flipper_length_mm\": 178.47826086956522, \"bill_length_mm\": 43.47826086956522, \"pred\": \"Chinstrap\"}, {\"flipper_length_mm\": 178.47826086956522, \"bill_length_mm\": 43.91304347826087, \"pred\": \"Chinstrap\"}, {\"flipper_length_mm\": 178.47826086956522, \"bill_length_mm\": 44.34782608695652, \"pred\": \"Chinstrap\"}, {\"flipper_length_mm\": 178.47826086956522, \"bill_length_mm\": 44.78260869565217, \"pred\": \"Chinstrap\"}, {\"flipper_length_mm\": 178.47826086956522, \"bill_length_mm\": 45.21739130434783, \"pred\": \"Chinstrap\"}, {\"flipper_length_mm\": 178.47826086956522, \"bill_length_mm\": 45.65217391304348, \"pred\": \"Chinstrap\"}, {\"flipper_length_mm\": 178.47826086956522, \"bill_length_mm\": 46.086956521739125, \"pred\": \"Chinstrap\"}, {\"flipper_length_mm\": 178.47826086956522, \"bill_length_mm\": 46.52173913043478, \"pred\": \"Chinstrap\"}, {\"flipper_length_mm\": 178.47826086956522, \"bill_length_mm\": 46.95652173913044, \"pred\": \"Chinstrap\"}, {\"flipper_length_mm\": 178.47826086956522, \"bill_length_mm\": 47.391304347826086, \"pred\": \"Chinstrap\"}, {\"flipper_length_mm\": 178.47826086956522, \"bill_length_mm\": 47.826086956521735, \"pred\": \"Chinstrap\"}, {\"flipper_length_mm\": 178.47826086956522, \"bill_length_mm\": 48.26086956521739, \"pred\": \"Chinstrap\"}, {\"flipper_length_mm\": 178.47826086956522, \"bill_length_mm\": 48.69565217391305, \"pred\": \"Chinstrap\"}, {\"flipper_length_mm\": 178.47826086956522, \"bill_length_mm\": 49.130434782608695, \"pred\": \"Chinstrap\"}, {\"flipper_length_mm\": 178.47826086956522, \"bill_length_mm\": 49.565217391304344, \"pred\": \"Chinstrap\"}, {\"flipper_length_mm\": 178.47826086956522, \"bill_length_mm\": 50.0, \"pred\": \"Chinstrap\"}, {\"flipper_length_mm\": 178.47826086956522, \"bill_length_mm\": 50.434782608695656, \"pred\": \"Chinstrap\"}, {\"flipper_length_mm\": 178.47826086956522, \"bill_length_mm\": 50.869565217391305, \"pred\": \"Chinstrap\"}, {\"flipper_length_mm\": 178.47826086956522, \"bill_length_mm\": 51.30434782608695, \"pred\": \"Chinstrap\"}, {\"flipper_length_mm\": 178.47826086956522, \"bill_length_mm\": 51.73913043478261, \"pred\": \"Chinstrap\"}, {\"flipper_length_mm\": 178.47826086956522, \"bill_length_mm\": 52.173913043478265, \"pred\": \"Chinstrap\"}, {\"flipper_length_mm\": 178.47826086956522, \"bill_length_mm\": 52.608695652173914, \"pred\": \"Chinstrap\"}, {\"flipper_length_mm\": 178.47826086956522, \"bill_length_mm\": 53.04347826086956, \"pred\": \"Chinstrap\"}, {\"flipper_length_mm\": 178.47826086956522, \"bill_length_mm\": 53.47826086956522, \"pred\": \"Chinstrap\"}, {\"flipper_length_mm\": 178.47826086956522, \"bill_length_mm\": 53.91304347826087, \"pred\": \"Chinstrap\"}, {\"flipper_length_mm\": 178.47826086956522, \"bill_length_mm\": 54.347826086956516, \"pred\": \"Chinstrap\"}, {\"flipper_length_mm\": 178.47826086956522, \"bill_length_mm\": 54.78260869565217, \"pred\": \"Chinstrap\"}, {\"flipper_length_mm\": 178.47826086956522, \"bill_length_mm\": 55.21739130434783, \"pred\": \"Chinstrap\"}, {\"flipper_length_mm\": 178.47826086956522, \"bill_length_mm\": 55.65217391304348, \"pred\": \"Chinstrap\"}, {\"flipper_length_mm\": 178.47826086956522, \"bill_length_mm\": 56.086956521739125, \"pred\": \"Chinstrap\"}, {\"flipper_length_mm\": 178.47826086956522, \"bill_length_mm\": 56.52173913043478, \"pred\": \"Chinstrap\"}, {\"flipper_length_mm\": 178.47826086956522, \"bill_length_mm\": 56.95652173913044, \"pred\": \"Chinstrap\"}, {\"flipper_length_mm\": 178.47826086956522, \"bill_length_mm\": 57.391304347826086, \"pred\": \"Chinstrap\"}, {\"flipper_length_mm\": 178.47826086956522, \"bill_length_mm\": 57.826086956521735, \"pred\": \"Chinstrap\"}, {\"flipper_length_mm\": 178.47826086956522, \"bill_length_mm\": 58.26086956521739, \"pred\": \"Chinstrap\"}, {\"flipper_length_mm\": 178.47826086956522, \"bill_length_mm\": 58.69565217391305, \"pred\": \"Chinstrap\"}, {\"flipper_length_mm\": 178.47826086956522, \"bill_length_mm\": 59.130434782608695, \"pred\": \"Chinstrap\"}, {\"flipper_length_mm\": 178.47826086956522, \"bill_length_mm\": 59.565217391304344, \"pred\": \"Chinstrap\"}, {\"flipper_length_mm\": 178.47826086956522, \"bill_length_mm\": 60.0, \"pred\": \"Chinstrap\"}, {\"flipper_length_mm\": 179.42028985507247, \"bill_length_mm\": 30.0, \"pred\": \"Adelie\"}, {\"flipper_length_mm\": 179.42028985507247, \"bill_length_mm\": 30.434782608695652, \"pred\": \"Adelie\"}, {\"flipper_length_mm\": 179.42028985507247, \"bill_length_mm\": 30.869565217391305, \"pred\": \"Adelie\"}, {\"flipper_length_mm\": 179.42028985507247, \"bill_length_mm\": 31.304347826086957, \"pred\": \"Adelie\"}, {\"flipper_length_mm\": 179.42028985507247, \"bill_length_mm\": 31.73913043478261, \"pred\": \"Adelie\"}, {\"flipper_length_mm\": 179.42028985507247, \"bill_length_mm\": 32.17391304347826, \"pred\": \"Adelie\"}, {\"flipper_length_mm\": 179.42028985507247, \"bill_length_mm\": 32.608695652173914, \"pred\": \"Adelie\"}, {\"flipper_length_mm\": 179.42028985507247, \"bill_length_mm\": 33.04347826086956, \"pred\": \"Adelie\"}, {\"flipper_length_mm\": 179.42028985507247, \"bill_length_mm\": 33.47826086956522, \"pred\": \"Adelie\"}, {\"flipper_length_mm\": 179.42028985507247, \"bill_length_mm\": 33.91304347826087, \"pred\": \"Adelie\"}, {\"flipper_length_mm\": 179.42028985507247, \"bill_length_mm\": 34.34782608695652, \"pred\": \"Adelie\"}, {\"flipper_length_mm\": 179.42028985507247, \"bill_length_mm\": 34.78260869565217, \"pred\": \"Adelie\"}, {\"flipper_length_mm\": 179.42028985507247, \"bill_length_mm\": 35.21739130434783, \"pred\": \"Adelie\"}, {\"flipper_length_mm\": 179.42028985507247, \"bill_length_mm\": 35.65217391304348, \"pred\": \"Adelie\"}, {\"flipper_length_mm\": 179.42028985507247, \"bill_length_mm\": 36.08695652173913, \"pred\": \"Adelie\"}, {\"flipper_length_mm\": 179.42028985507247, \"bill_length_mm\": 36.52173913043478, \"pred\": \"Adelie\"}, {\"flipper_length_mm\": 179.42028985507247, \"bill_length_mm\": 36.95652173913044, \"pred\": \"Adelie\"}, {\"flipper_length_mm\": 179.42028985507247, \"bill_length_mm\": 37.391304347826086, \"pred\": \"Adelie\"}, {\"flipper_length_mm\": 179.42028985507247, \"bill_length_mm\": 37.82608695652174, \"pred\": \"Adelie\"}, {\"flipper_length_mm\": 179.42028985507247, \"bill_length_mm\": 38.26086956521739, \"pred\": \"Adelie\"}, {\"flipper_length_mm\": 179.42028985507247, \"bill_length_mm\": 38.69565217391305, \"pred\": \"Adelie\"}, {\"flipper_length_mm\": 179.42028985507247, \"bill_length_mm\": 39.130434782608695, \"pred\": \"Adelie\"}, {\"flipper_length_mm\": 179.42028985507247, \"bill_length_mm\": 39.565217391304344, \"pred\": \"Adelie\"}, {\"flipper_length_mm\": 179.42028985507247, \"bill_length_mm\": 40.0, \"pred\": \"Adelie\"}, {\"flipper_length_mm\": 179.42028985507247, \"bill_length_mm\": 40.434782608695656, \"pred\": \"Adelie\"}, {\"flipper_length_mm\": 179.42028985507247, \"bill_length_mm\": 40.869565217391305, \"pred\": \"Adelie\"}, {\"flipper_length_mm\": 179.42028985507247, \"bill_length_mm\": 41.30434782608695, \"pred\": \"Adelie\"}, {\"flipper_length_mm\": 179.42028985507247, \"bill_length_mm\": 41.73913043478261, \"pred\": \"Adelie\"}, {\"flipper_length_mm\": 179.42028985507247, \"bill_length_mm\": 42.17391304347826, \"pred\": \"Adelie\"}, {\"flipper_length_mm\": 179.42028985507247, \"bill_length_mm\": 42.608695652173914, \"pred\": \"Chinstrap\"}, {\"flipper_length_mm\": 179.42028985507247, \"bill_length_mm\": 43.04347826086956, \"pred\": \"Chinstrap\"}, {\"flipper_length_mm\": 179.42028985507247, \"bill_length_mm\": 43.47826086956522, \"pred\": \"Chinstrap\"}, {\"flipper_length_mm\": 179.42028985507247, \"bill_length_mm\": 43.91304347826087, \"pred\": \"Chinstrap\"}, {\"flipper_length_mm\": 179.42028985507247, \"bill_length_mm\": 44.34782608695652, \"pred\": \"Chinstrap\"}, {\"flipper_length_mm\": 179.42028985507247, \"bill_length_mm\": 44.78260869565217, \"pred\": \"Chinstrap\"}, {\"flipper_length_mm\": 179.42028985507247, \"bill_length_mm\": 45.21739130434783, \"pred\": \"Chinstrap\"}, {\"flipper_length_mm\": 179.42028985507247, \"bill_length_mm\": 45.65217391304348, \"pred\": \"Chinstrap\"}, {\"flipper_length_mm\": 179.42028985507247, \"bill_length_mm\": 46.086956521739125, \"pred\": \"Chinstrap\"}, {\"flipper_length_mm\": 179.42028985507247, \"bill_length_mm\": 46.52173913043478, \"pred\": \"Chinstrap\"}, {\"flipper_length_mm\": 179.42028985507247, \"bill_length_mm\": 46.95652173913044, \"pred\": \"Chinstrap\"}, {\"flipper_length_mm\": 179.42028985507247, \"bill_length_mm\": 47.391304347826086, \"pred\": \"Chinstrap\"}, {\"flipper_length_mm\": 179.42028985507247, \"bill_length_mm\": 47.826086956521735, \"pred\": \"Chinstrap\"}, {\"flipper_length_mm\": 179.42028985507247, \"bill_length_mm\": 48.26086956521739, \"pred\": \"Chinstrap\"}, {\"flipper_length_mm\": 179.42028985507247, \"bill_length_mm\": 48.69565217391305, \"pred\": \"Chinstrap\"}, {\"flipper_length_mm\": 179.42028985507247, \"bill_length_mm\": 49.130434782608695, \"pred\": \"Chinstrap\"}, {\"flipper_length_mm\": 179.42028985507247, \"bill_length_mm\": 49.565217391304344, \"pred\": \"Chinstrap\"}, {\"flipper_length_mm\": 179.42028985507247, \"bill_length_mm\": 50.0, \"pred\": \"Chinstrap\"}, {\"flipper_length_mm\": 179.42028985507247, \"bill_length_mm\": 50.434782608695656, \"pred\": \"Chinstrap\"}, {\"flipper_length_mm\": 179.42028985507247, \"bill_length_mm\": 50.869565217391305, \"pred\": \"Chinstrap\"}, {\"flipper_length_mm\": 179.42028985507247, \"bill_length_mm\": 51.30434782608695, \"pred\": \"Chinstrap\"}, {\"flipper_length_mm\": 179.42028985507247, \"bill_length_mm\": 51.73913043478261, \"pred\": \"Chinstrap\"}, {\"flipper_length_mm\": 179.42028985507247, \"bill_length_mm\": 52.173913043478265, \"pred\": \"Chinstrap\"}, {\"flipper_length_mm\": 179.42028985507247, \"bill_length_mm\": 52.608695652173914, \"pred\": \"Chinstrap\"}, {\"flipper_length_mm\": 179.42028985507247, \"bill_length_mm\": 53.04347826086956, \"pred\": \"Chinstrap\"}, {\"flipper_length_mm\": 179.42028985507247, \"bill_length_mm\": 53.47826086956522, \"pred\": \"Chinstrap\"}, {\"flipper_length_mm\": 179.42028985507247, \"bill_length_mm\": 53.91304347826087, \"pred\": \"Chinstrap\"}, {\"flipper_length_mm\": 179.42028985507247, \"bill_length_mm\": 54.347826086956516, \"pred\": \"Chinstrap\"}, {\"flipper_length_mm\": 179.42028985507247, \"bill_length_mm\": 54.78260869565217, \"pred\": \"Chinstrap\"}, {\"flipper_length_mm\": 179.42028985507247, \"bill_length_mm\": 55.21739130434783, \"pred\": \"Chinstrap\"}, {\"flipper_length_mm\": 179.42028985507247, \"bill_length_mm\": 55.65217391304348, \"pred\": \"Chinstrap\"}, {\"flipper_length_mm\": 179.42028985507247, \"bill_length_mm\": 56.086956521739125, \"pred\": \"Chinstrap\"}, {\"flipper_length_mm\": 179.42028985507247, \"bill_length_mm\": 56.52173913043478, \"pred\": \"Chinstrap\"}, {\"flipper_length_mm\": 179.42028985507247, \"bill_length_mm\": 56.95652173913044, \"pred\": \"Chinstrap\"}, {\"flipper_length_mm\": 179.42028985507247, \"bill_length_mm\": 57.391304347826086, \"pred\": \"Chinstrap\"}, {\"flipper_length_mm\": 179.42028985507247, \"bill_length_mm\": 57.826086956521735, \"pred\": \"Chinstrap\"}, {\"flipper_length_mm\": 179.42028985507247, \"bill_length_mm\": 58.26086956521739, \"pred\": \"Chinstrap\"}, {\"flipper_length_mm\": 179.42028985507247, \"bill_length_mm\": 58.69565217391305, \"pred\": \"Chinstrap\"}, {\"flipper_length_mm\": 179.42028985507247, \"bill_length_mm\": 59.130434782608695, \"pred\": \"Chinstrap\"}, {\"flipper_length_mm\": 179.42028985507247, \"bill_length_mm\": 59.565217391304344, \"pred\": \"Chinstrap\"}, {\"flipper_length_mm\": 179.42028985507247, \"bill_length_mm\": 60.0, \"pred\": \"Chinstrap\"}, {\"flipper_length_mm\": 180.36231884057972, \"bill_length_mm\": 30.0, \"pred\": \"Adelie\"}, {\"flipper_length_mm\": 180.36231884057972, \"bill_length_mm\": 30.434782608695652, \"pred\": \"Adelie\"}, {\"flipper_length_mm\": 180.36231884057972, \"bill_length_mm\": 30.869565217391305, \"pred\": \"Adelie\"}, {\"flipper_length_mm\": 180.36231884057972, \"bill_length_mm\": 31.304347826086957, \"pred\": \"Adelie\"}, {\"flipper_length_mm\": 180.36231884057972, \"bill_length_mm\": 31.73913043478261, \"pred\": \"Adelie\"}, {\"flipper_length_mm\": 180.36231884057972, \"bill_length_mm\": 32.17391304347826, \"pred\": \"Adelie\"}, {\"flipper_length_mm\": 180.36231884057972, \"bill_length_mm\": 32.608695652173914, \"pred\": \"Adelie\"}, {\"flipper_length_mm\": 180.36231884057972, \"bill_length_mm\": 33.04347826086956, \"pred\": \"Adelie\"}, {\"flipper_length_mm\": 180.36231884057972, \"bill_length_mm\": 33.47826086956522, \"pred\": \"Adelie\"}, {\"flipper_length_mm\": 180.36231884057972, \"bill_length_mm\": 33.91304347826087, \"pred\": \"Adelie\"}, {\"flipper_length_mm\": 180.36231884057972, \"bill_length_mm\": 34.34782608695652, \"pred\": \"Adelie\"}, {\"flipper_length_mm\": 180.36231884057972, \"bill_length_mm\": 34.78260869565217, \"pred\": \"Adelie\"}, {\"flipper_length_mm\": 180.36231884057972, \"bill_length_mm\": 35.21739130434783, \"pred\": \"Adelie\"}, {\"flipper_length_mm\": 180.36231884057972, \"bill_length_mm\": 35.65217391304348, \"pred\": \"Adelie\"}, {\"flipper_length_mm\": 180.36231884057972, \"bill_length_mm\": 36.08695652173913, \"pred\": \"Adelie\"}, {\"flipper_length_mm\": 180.36231884057972, \"bill_length_mm\": 36.52173913043478, \"pred\": \"Adelie\"}, {\"flipper_length_mm\": 180.36231884057972, \"bill_length_mm\": 36.95652173913044, \"pred\": \"Adelie\"}, {\"flipper_length_mm\": 180.36231884057972, \"bill_length_mm\": 37.391304347826086, \"pred\": \"Adelie\"}, {\"flipper_length_mm\": 180.36231884057972, \"bill_length_mm\": 37.82608695652174, \"pred\": \"Adelie\"}, {\"flipper_length_mm\": 180.36231884057972, \"bill_length_mm\": 38.26086956521739, \"pred\": \"Adelie\"}, {\"flipper_length_mm\": 180.36231884057972, \"bill_length_mm\": 38.69565217391305, \"pred\": \"Adelie\"}, {\"flipper_length_mm\": 180.36231884057972, \"bill_length_mm\": 39.130434782608695, \"pred\": \"Adelie\"}, {\"flipper_length_mm\": 180.36231884057972, \"bill_length_mm\": 39.565217391304344, \"pred\": \"Adelie\"}, {\"flipper_length_mm\": 180.36231884057972, \"bill_length_mm\": 40.0, \"pred\": \"Adelie\"}, {\"flipper_length_mm\": 180.36231884057972, \"bill_length_mm\": 40.434782608695656, \"pred\": \"Adelie\"}, {\"flipper_length_mm\": 180.36231884057972, \"bill_length_mm\": 40.869565217391305, \"pred\": \"Adelie\"}, {\"flipper_length_mm\": 180.36231884057972, \"bill_length_mm\": 41.30434782608695, \"pred\": \"Adelie\"}, {\"flipper_length_mm\": 180.36231884057972, \"bill_length_mm\": 41.73913043478261, \"pred\": \"Adelie\"}, {\"flipper_length_mm\": 180.36231884057972, \"bill_length_mm\": 42.17391304347826, \"pred\": \"Adelie\"}, {\"flipper_length_mm\": 180.36231884057972, \"bill_length_mm\": 42.608695652173914, \"pred\": \"Adelie\"}, {\"flipper_length_mm\": 180.36231884057972, \"bill_length_mm\": 43.04347826086956, \"pred\": \"Chinstrap\"}, {\"flipper_length_mm\": 180.36231884057972, \"bill_length_mm\": 43.47826086956522, \"pred\": \"Chinstrap\"}, {\"flipper_length_mm\": 180.36231884057972, \"bill_length_mm\": 43.91304347826087, \"pred\": \"Chinstrap\"}, {\"flipper_length_mm\": 180.36231884057972, \"bill_length_mm\": 44.34782608695652, \"pred\": \"Chinstrap\"}, {\"flipper_length_mm\": 180.36231884057972, \"bill_length_mm\": 44.78260869565217, \"pred\": \"Chinstrap\"}, {\"flipper_length_mm\": 180.36231884057972, \"bill_length_mm\": 45.21739130434783, \"pred\": \"Chinstrap\"}, {\"flipper_length_mm\": 180.36231884057972, \"bill_length_mm\": 45.65217391304348, \"pred\": \"Chinstrap\"}, {\"flipper_length_mm\": 180.36231884057972, \"bill_length_mm\": 46.086956521739125, \"pred\": \"Chinstrap\"}, {\"flipper_length_mm\": 180.36231884057972, \"bill_length_mm\": 46.52173913043478, \"pred\": \"Chinstrap\"}, {\"flipper_length_mm\": 180.36231884057972, \"bill_length_mm\": 46.95652173913044, \"pred\": \"Chinstrap\"}, {\"flipper_length_mm\": 180.36231884057972, \"bill_length_mm\": 47.391304347826086, \"pred\": \"Chinstrap\"}, {\"flipper_length_mm\": 180.36231884057972, \"bill_length_mm\": 47.826086956521735, \"pred\": \"Chinstrap\"}, {\"flipper_length_mm\": 180.36231884057972, \"bill_length_mm\": 48.26086956521739, \"pred\": \"Chinstrap\"}, {\"flipper_length_mm\": 180.36231884057972, \"bill_length_mm\": 48.69565217391305, \"pred\": \"Chinstrap\"}, {\"flipper_length_mm\": 180.36231884057972, \"bill_length_mm\": 49.130434782608695, \"pred\": \"Chinstrap\"}, {\"flipper_length_mm\": 180.36231884057972, \"bill_length_mm\": 49.565217391304344, \"pred\": \"Chinstrap\"}, {\"flipper_length_mm\": 180.36231884057972, \"bill_length_mm\": 50.0, \"pred\": \"Chinstrap\"}, {\"flipper_length_mm\": 180.36231884057972, \"bill_length_mm\": 50.434782608695656, \"pred\": \"Chinstrap\"}, {\"flipper_length_mm\": 180.36231884057972, \"bill_length_mm\": 50.869565217391305, \"pred\": \"Chinstrap\"}, {\"flipper_length_mm\": 180.36231884057972, \"bill_length_mm\": 51.30434782608695, \"pred\": \"Chinstrap\"}, {\"flipper_length_mm\": 180.36231884057972, \"bill_length_mm\": 51.73913043478261, \"pred\": \"Chinstrap\"}, {\"flipper_length_mm\": 180.36231884057972, \"bill_length_mm\": 52.173913043478265, \"pred\": \"Chinstrap\"}, {\"flipper_length_mm\": 180.36231884057972, \"bill_length_mm\": 52.608695652173914, \"pred\": \"Chinstrap\"}, {\"flipper_length_mm\": 180.36231884057972, \"bill_length_mm\": 53.04347826086956, \"pred\": \"Chinstrap\"}, {\"flipper_length_mm\": 180.36231884057972, \"bill_length_mm\": 53.47826086956522, \"pred\": \"Chinstrap\"}, {\"flipper_length_mm\": 180.36231884057972, \"bill_length_mm\": 53.91304347826087, \"pred\": \"Chinstrap\"}, {\"flipper_length_mm\": 180.36231884057972, \"bill_length_mm\": 54.347826086956516, \"pred\": \"Chinstrap\"}, {\"flipper_length_mm\": 180.36231884057972, \"bill_length_mm\": 54.78260869565217, \"pred\": \"Chinstrap\"}, {\"flipper_length_mm\": 180.36231884057972, \"bill_length_mm\": 55.21739130434783, \"pred\": \"Chinstrap\"}, {\"flipper_length_mm\": 180.36231884057972, \"bill_length_mm\": 55.65217391304348, \"pred\": \"Chinstrap\"}, {\"flipper_length_mm\": 180.36231884057972, \"bill_length_mm\": 56.086956521739125, \"pred\": \"Chinstrap\"}, {\"flipper_length_mm\": 180.36231884057972, \"bill_length_mm\": 56.52173913043478, \"pred\": \"Chinstrap\"}, {\"flipper_length_mm\": 180.36231884057972, \"bill_length_mm\": 56.95652173913044, \"pred\": \"Chinstrap\"}, {\"flipper_length_mm\": 180.36231884057972, \"bill_length_mm\": 57.391304347826086, \"pred\": \"Chinstrap\"}, {\"flipper_length_mm\": 180.36231884057972, \"bill_length_mm\": 57.826086956521735, \"pred\": \"Chinstrap\"}, {\"flipper_length_mm\": 180.36231884057972, \"bill_length_mm\": 58.26086956521739, \"pred\": \"Chinstrap\"}, {\"flipper_length_mm\": 180.36231884057972, \"bill_length_mm\": 58.69565217391305, \"pred\": \"Chinstrap\"}, {\"flipper_length_mm\": 180.36231884057972, \"bill_length_mm\": 59.130434782608695, \"pred\": \"Chinstrap\"}, {\"flipper_length_mm\": 180.36231884057972, \"bill_length_mm\": 59.565217391304344, \"pred\": \"Chinstrap\"}, {\"flipper_length_mm\": 180.36231884057972, \"bill_length_mm\": 60.0, \"pred\": \"Chinstrap\"}, {\"flipper_length_mm\": 181.30434782608697, \"bill_length_mm\": 30.0, \"pred\": \"Adelie\"}, {\"flipper_length_mm\": 181.30434782608697, \"bill_length_mm\": 30.434782608695652, \"pred\": \"Adelie\"}, {\"flipper_length_mm\": 181.30434782608697, \"bill_length_mm\": 30.869565217391305, \"pred\": \"Adelie\"}, {\"flipper_length_mm\": 181.30434782608697, \"bill_length_mm\": 31.304347826086957, \"pred\": \"Adelie\"}, {\"flipper_length_mm\": 181.30434782608697, \"bill_length_mm\": 31.73913043478261, \"pred\": \"Adelie\"}, {\"flipper_length_mm\": 181.30434782608697, \"bill_length_mm\": 32.17391304347826, \"pred\": \"Adelie\"}, {\"flipper_length_mm\": 181.30434782608697, \"bill_length_mm\": 32.608695652173914, \"pred\": \"Adelie\"}, {\"flipper_length_mm\": 181.30434782608697, \"bill_length_mm\": 33.04347826086956, \"pred\": \"Adelie\"}, {\"flipper_length_mm\": 181.30434782608697, \"bill_length_mm\": 33.47826086956522, \"pred\": \"Adelie\"}, {\"flipper_length_mm\": 181.30434782608697, \"bill_length_mm\": 33.91304347826087, \"pred\": \"Adelie\"}, {\"flipper_length_mm\": 181.30434782608697, \"bill_length_mm\": 34.34782608695652, \"pred\": \"Adelie\"}, {\"flipper_length_mm\": 181.30434782608697, \"bill_length_mm\": 34.78260869565217, \"pred\": \"Adelie\"}, {\"flipper_length_mm\": 181.30434782608697, \"bill_length_mm\": 35.21739130434783, \"pred\": \"Adelie\"}, {\"flipper_length_mm\": 181.30434782608697, \"bill_length_mm\": 35.65217391304348, \"pred\": \"Adelie\"}, {\"flipper_length_mm\": 181.30434782608697, \"bill_length_mm\": 36.08695652173913, \"pred\": \"Adelie\"}, {\"flipper_length_mm\": 181.30434782608697, \"bill_length_mm\": 36.52173913043478, \"pred\": \"Adelie\"}, {\"flipper_length_mm\": 181.30434782608697, \"bill_length_mm\": 36.95652173913044, \"pred\": \"Adelie\"}, {\"flipper_length_mm\": 181.30434782608697, \"bill_length_mm\": 37.391304347826086, \"pred\": \"Adelie\"}, {\"flipper_length_mm\": 181.30434782608697, \"bill_length_mm\": 37.82608695652174, \"pred\": \"Adelie\"}, {\"flipper_length_mm\": 181.30434782608697, \"bill_length_mm\": 38.26086956521739, \"pred\": \"Adelie\"}, {\"flipper_length_mm\": 181.30434782608697, \"bill_length_mm\": 38.69565217391305, \"pred\": \"Adelie\"}, {\"flipper_length_mm\": 181.30434782608697, \"bill_length_mm\": 39.130434782608695, \"pred\": \"Adelie\"}, {\"flipper_length_mm\": 181.30434782608697, \"bill_length_mm\": 39.565217391304344, \"pred\": \"Adelie\"}, {\"flipper_length_mm\": 181.30434782608697, \"bill_length_mm\": 40.0, \"pred\": \"Adelie\"}, {\"flipper_length_mm\": 181.30434782608697, \"bill_length_mm\": 40.434782608695656, \"pred\": \"Adelie\"}, {\"flipper_length_mm\": 181.30434782608697, \"bill_length_mm\": 40.869565217391305, \"pred\": \"Adelie\"}, {\"flipper_length_mm\": 181.30434782608697, \"bill_length_mm\": 41.30434782608695, \"pred\": \"Adelie\"}, {\"flipper_length_mm\": 181.30434782608697, \"bill_length_mm\": 41.73913043478261, \"pred\": \"Adelie\"}, {\"flipper_length_mm\": 181.30434782608697, \"bill_length_mm\": 42.17391304347826, \"pred\": \"Adelie\"}, {\"flipper_length_mm\": 181.30434782608697, \"bill_length_mm\": 42.608695652173914, \"pred\": \"Adelie\"}, {\"flipper_length_mm\": 181.30434782608697, \"bill_length_mm\": 43.04347826086956, \"pred\": \"Chinstrap\"}, {\"flipper_length_mm\": 181.30434782608697, \"bill_length_mm\": 43.47826086956522, \"pred\": \"Chinstrap\"}, {\"flipper_length_mm\": 181.30434782608697, \"bill_length_mm\": 43.91304347826087, \"pred\": \"Chinstrap\"}, {\"flipper_length_mm\": 181.30434782608697, \"bill_length_mm\": 44.34782608695652, \"pred\": \"Chinstrap\"}, {\"flipper_length_mm\": 181.30434782608697, \"bill_length_mm\": 44.78260869565217, \"pred\": \"Chinstrap\"}, {\"flipper_length_mm\": 181.30434782608697, \"bill_length_mm\": 45.21739130434783, \"pred\": \"Chinstrap\"}, {\"flipper_length_mm\": 181.30434782608697, \"bill_length_mm\": 45.65217391304348, \"pred\": \"Chinstrap\"}, {\"flipper_length_mm\": 181.30434782608697, \"bill_length_mm\": 46.086956521739125, \"pred\": \"Chinstrap\"}, {\"flipper_length_mm\": 181.30434782608697, \"bill_length_mm\": 46.52173913043478, \"pred\": \"Chinstrap\"}, {\"flipper_length_mm\": 181.30434782608697, \"bill_length_mm\": 46.95652173913044, \"pred\": \"Chinstrap\"}, {\"flipper_length_mm\": 181.30434782608697, \"bill_length_mm\": 47.391304347826086, \"pred\": \"Chinstrap\"}, {\"flipper_length_mm\": 181.30434782608697, \"bill_length_mm\": 47.826086956521735, \"pred\": \"Chinstrap\"}, {\"flipper_length_mm\": 181.30434782608697, \"bill_length_mm\": 48.26086956521739, \"pred\": \"Chinstrap\"}, {\"flipper_length_mm\": 181.30434782608697, \"bill_length_mm\": 48.69565217391305, \"pred\": \"Chinstrap\"}, {\"flipper_length_mm\": 181.30434782608697, \"bill_length_mm\": 49.130434782608695, \"pred\": \"Chinstrap\"}, {\"flipper_length_mm\": 181.30434782608697, \"bill_length_mm\": 49.565217391304344, \"pred\": \"Chinstrap\"}, {\"flipper_length_mm\": 181.30434782608697, \"bill_length_mm\": 50.0, \"pred\": \"Chinstrap\"}, {\"flipper_length_mm\": 181.30434782608697, \"bill_length_mm\": 50.434782608695656, \"pred\": \"Chinstrap\"}, {\"flipper_length_mm\": 181.30434782608697, \"bill_length_mm\": 50.869565217391305, \"pred\": \"Chinstrap\"}, {\"flipper_length_mm\": 181.30434782608697, \"bill_length_mm\": 51.30434782608695, \"pred\": \"Chinstrap\"}, {\"flipper_length_mm\": 181.30434782608697, \"bill_length_mm\": 51.73913043478261, \"pred\": \"Chinstrap\"}, {\"flipper_length_mm\": 181.30434782608697, \"bill_length_mm\": 52.173913043478265, \"pred\": \"Chinstrap\"}, {\"flipper_length_mm\": 181.30434782608697, \"bill_length_mm\": 52.608695652173914, \"pred\": \"Chinstrap\"}, {\"flipper_length_mm\": 181.30434782608697, \"bill_length_mm\": 53.04347826086956, \"pred\": \"Chinstrap\"}, {\"flipper_length_mm\": 181.30434782608697, \"bill_length_mm\": 53.47826086956522, \"pred\": \"Chinstrap\"}, {\"flipper_length_mm\": 181.30434782608697, \"bill_length_mm\": 53.91304347826087, \"pred\": \"Chinstrap\"}, {\"flipper_length_mm\": 181.30434782608697, \"bill_length_mm\": 54.347826086956516, \"pred\": \"Chinstrap\"}, {\"flipper_length_mm\": 181.30434782608697, \"bill_length_mm\": 54.78260869565217, \"pred\": \"Chinstrap\"}, {\"flipper_length_mm\": 181.30434782608697, \"bill_length_mm\": 55.21739130434783, \"pred\": \"Chinstrap\"}, {\"flipper_length_mm\": 181.30434782608697, \"bill_length_mm\": 55.65217391304348, \"pred\": \"Chinstrap\"}, {\"flipper_length_mm\": 181.30434782608697, \"bill_length_mm\": 56.086956521739125, \"pred\": \"Chinstrap\"}, {\"flipper_length_mm\": 181.30434782608697, \"bill_length_mm\": 56.52173913043478, \"pred\": \"Chinstrap\"}, {\"flipper_length_mm\": 181.30434782608697, \"bill_length_mm\": 56.95652173913044, \"pred\": \"Chinstrap\"}, {\"flipper_length_mm\": 181.30434782608697, \"bill_length_mm\": 57.391304347826086, \"pred\": \"Chinstrap\"}, {\"flipper_length_mm\": 181.30434782608697, \"bill_length_mm\": 57.826086956521735, \"pred\": \"Chinstrap\"}, {\"flipper_length_mm\": 181.30434782608697, \"bill_length_mm\": 58.26086956521739, \"pred\": \"Chinstrap\"}, {\"flipper_length_mm\": 181.30434782608697, \"bill_length_mm\": 58.69565217391305, \"pred\": \"Chinstrap\"}, {\"flipper_length_mm\": 181.30434782608697, \"bill_length_mm\": 59.130434782608695, \"pred\": \"Chinstrap\"}, {\"flipper_length_mm\": 181.30434782608697, \"bill_length_mm\": 59.565217391304344, \"pred\": \"Chinstrap\"}, {\"flipper_length_mm\": 181.30434782608697, \"bill_length_mm\": 60.0, \"pred\": \"Chinstrap\"}, {\"flipper_length_mm\": 182.2463768115942, \"bill_length_mm\": 30.0, \"pred\": \"Adelie\"}, {\"flipper_length_mm\": 182.2463768115942, \"bill_length_mm\": 30.434782608695652, \"pred\": \"Adelie\"}, {\"flipper_length_mm\": 182.2463768115942, \"bill_length_mm\": 30.869565217391305, \"pred\": \"Adelie\"}, {\"flipper_length_mm\": 182.2463768115942, \"bill_length_mm\": 31.304347826086957, \"pred\": \"Adelie\"}, {\"flipper_length_mm\": 182.2463768115942, \"bill_length_mm\": 31.73913043478261, \"pred\": \"Adelie\"}, {\"flipper_length_mm\": 182.2463768115942, \"bill_length_mm\": 32.17391304347826, \"pred\": \"Adelie\"}, {\"flipper_length_mm\": 182.2463768115942, \"bill_length_mm\": 32.608695652173914, \"pred\": \"Adelie\"}, {\"flipper_length_mm\": 182.2463768115942, \"bill_length_mm\": 33.04347826086956, \"pred\": \"Adelie\"}, {\"flipper_length_mm\": 182.2463768115942, \"bill_length_mm\": 33.47826086956522, \"pred\": \"Adelie\"}, {\"flipper_length_mm\": 182.2463768115942, \"bill_length_mm\": 33.91304347826087, \"pred\": \"Adelie\"}, {\"flipper_length_mm\": 182.2463768115942, \"bill_length_mm\": 34.34782608695652, \"pred\": \"Adelie\"}, {\"flipper_length_mm\": 182.2463768115942, \"bill_length_mm\": 34.78260869565217, \"pred\": \"Adelie\"}, {\"flipper_length_mm\": 182.2463768115942, \"bill_length_mm\": 35.21739130434783, \"pred\": \"Adelie\"}, {\"flipper_length_mm\": 182.2463768115942, \"bill_length_mm\": 35.65217391304348, \"pred\": \"Adelie\"}, {\"flipper_length_mm\": 182.2463768115942, \"bill_length_mm\": 36.08695652173913, \"pred\": \"Adelie\"}, {\"flipper_length_mm\": 182.2463768115942, \"bill_length_mm\": 36.52173913043478, \"pred\": \"Adelie\"}, {\"flipper_length_mm\": 182.2463768115942, \"bill_length_mm\": 36.95652173913044, \"pred\": \"Adelie\"}, {\"flipper_length_mm\": 182.2463768115942, \"bill_length_mm\": 37.391304347826086, \"pred\": \"Adelie\"}, {\"flipper_length_mm\": 182.2463768115942, \"bill_length_mm\": 37.82608695652174, \"pred\": \"Adelie\"}, {\"flipper_length_mm\": 182.2463768115942, \"bill_length_mm\": 38.26086956521739, \"pred\": \"Adelie\"}, {\"flipper_length_mm\": 182.2463768115942, \"bill_length_mm\": 38.69565217391305, \"pred\": \"Adelie\"}, {\"flipper_length_mm\": 182.2463768115942, \"bill_length_mm\": 39.130434782608695, \"pred\": \"Adelie\"}, {\"flipper_length_mm\": 182.2463768115942, \"bill_length_mm\": 39.565217391304344, \"pred\": \"Adelie\"}, {\"flipper_length_mm\": 182.2463768115942, \"bill_length_mm\": 40.0, \"pred\": \"Adelie\"}, {\"flipper_length_mm\": 182.2463768115942, \"bill_length_mm\": 40.434782608695656, \"pred\": \"Adelie\"}, {\"flipper_length_mm\": 182.2463768115942, \"bill_length_mm\": 40.869565217391305, \"pred\": \"Adelie\"}, {\"flipper_length_mm\": 182.2463768115942, \"bill_length_mm\": 41.30434782608695, \"pred\": \"Adelie\"}, {\"flipper_length_mm\": 182.2463768115942, \"bill_length_mm\": 41.73913043478261, \"pred\": \"Adelie\"}, {\"flipper_length_mm\": 182.2463768115942, \"bill_length_mm\": 42.17391304347826, \"pred\": \"Adelie\"}, {\"flipper_length_mm\": 182.2463768115942, \"bill_length_mm\": 42.608695652173914, \"pred\": \"Adelie\"}, {\"flipper_length_mm\": 182.2463768115942, \"bill_length_mm\": 43.04347826086956, \"pred\": \"Chinstrap\"}, {\"flipper_length_mm\": 182.2463768115942, \"bill_length_mm\": 43.47826086956522, \"pred\": \"Chinstrap\"}, {\"flipper_length_mm\": 182.2463768115942, \"bill_length_mm\": 43.91304347826087, \"pred\": \"Chinstrap\"}, {\"flipper_length_mm\": 182.2463768115942, \"bill_length_mm\": 44.34782608695652, \"pred\": \"Chinstrap\"}, {\"flipper_length_mm\": 182.2463768115942, \"bill_length_mm\": 44.78260869565217, \"pred\": \"Chinstrap\"}, {\"flipper_length_mm\": 182.2463768115942, \"bill_length_mm\": 45.21739130434783, \"pred\": \"Chinstrap\"}, {\"flipper_length_mm\": 182.2463768115942, \"bill_length_mm\": 45.65217391304348, \"pred\": \"Chinstrap\"}, {\"flipper_length_mm\": 182.2463768115942, \"bill_length_mm\": 46.086956521739125, \"pred\": \"Chinstrap\"}, {\"flipper_length_mm\": 182.2463768115942, \"bill_length_mm\": 46.52173913043478, \"pred\": \"Chinstrap\"}, {\"flipper_length_mm\": 182.2463768115942, \"bill_length_mm\": 46.95652173913044, \"pred\": \"Chinstrap\"}, {\"flipper_length_mm\": 182.2463768115942, \"bill_length_mm\": 47.391304347826086, \"pred\": \"Chinstrap\"}, {\"flipper_length_mm\": 182.2463768115942, \"bill_length_mm\": 47.826086956521735, \"pred\": \"Chinstrap\"}, {\"flipper_length_mm\": 182.2463768115942, \"bill_length_mm\": 48.26086956521739, \"pred\": \"Chinstrap\"}, {\"flipper_length_mm\": 182.2463768115942, \"bill_length_mm\": 48.69565217391305, \"pred\": \"Chinstrap\"}, {\"flipper_length_mm\": 182.2463768115942, \"bill_length_mm\": 49.130434782608695, \"pred\": \"Chinstrap\"}, {\"flipper_length_mm\": 182.2463768115942, \"bill_length_mm\": 49.565217391304344, \"pred\": \"Chinstrap\"}, {\"flipper_length_mm\": 182.2463768115942, \"bill_length_mm\": 50.0, \"pred\": \"Chinstrap\"}, {\"flipper_length_mm\": 182.2463768115942, \"bill_length_mm\": 50.434782608695656, \"pred\": \"Chinstrap\"}, {\"flipper_length_mm\": 182.2463768115942, \"bill_length_mm\": 50.869565217391305, \"pred\": \"Chinstrap\"}, {\"flipper_length_mm\": 182.2463768115942, \"bill_length_mm\": 51.30434782608695, \"pred\": \"Chinstrap\"}, {\"flipper_length_mm\": 182.2463768115942, \"bill_length_mm\": 51.73913043478261, \"pred\": \"Chinstrap\"}, {\"flipper_length_mm\": 182.2463768115942, \"bill_length_mm\": 52.173913043478265, \"pred\": \"Chinstrap\"}, {\"flipper_length_mm\": 182.2463768115942, \"bill_length_mm\": 52.608695652173914, \"pred\": \"Chinstrap\"}, {\"flipper_length_mm\": 182.2463768115942, \"bill_length_mm\": 53.04347826086956, \"pred\": \"Chinstrap\"}, {\"flipper_length_mm\": 182.2463768115942, \"bill_length_mm\": 53.47826086956522, \"pred\": \"Chinstrap\"}, {\"flipper_length_mm\": 182.2463768115942, \"bill_length_mm\": 53.91304347826087, \"pred\": \"Chinstrap\"}, {\"flipper_length_mm\": 182.2463768115942, \"bill_length_mm\": 54.347826086956516, \"pred\": \"Chinstrap\"}, {\"flipper_length_mm\": 182.2463768115942, \"bill_length_mm\": 54.78260869565217, \"pred\": \"Chinstrap\"}, {\"flipper_length_mm\": 182.2463768115942, \"bill_length_mm\": 55.21739130434783, \"pred\": \"Chinstrap\"}, {\"flipper_length_mm\": 182.2463768115942, \"bill_length_mm\": 55.65217391304348, \"pred\": \"Chinstrap\"}, {\"flipper_length_mm\": 182.2463768115942, \"bill_length_mm\": 56.086956521739125, \"pred\": \"Chinstrap\"}, {\"flipper_length_mm\": 182.2463768115942, \"bill_length_mm\": 56.52173913043478, \"pred\": \"Chinstrap\"}, {\"flipper_length_mm\": 182.2463768115942, \"bill_length_mm\": 56.95652173913044, \"pred\": \"Chinstrap\"}, {\"flipper_length_mm\": 182.2463768115942, \"bill_length_mm\": 57.391304347826086, \"pred\": \"Chinstrap\"}, {\"flipper_length_mm\": 182.2463768115942, \"bill_length_mm\": 57.826086956521735, \"pred\": \"Chinstrap\"}, {\"flipper_length_mm\": 182.2463768115942, \"bill_length_mm\": 58.26086956521739, \"pred\": \"Chinstrap\"}, {\"flipper_length_mm\": 182.2463768115942, \"bill_length_mm\": 58.69565217391305, \"pred\": \"Chinstrap\"}, {\"flipper_length_mm\": 182.2463768115942, \"bill_length_mm\": 59.130434782608695, \"pred\": \"Chinstrap\"}, {\"flipper_length_mm\": 182.2463768115942, \"bill_length_mm\": 59.565217391304344, \"pred\": \"Chinstrap\"}, {\"flipper_length_mm\": 182.2463768115942, \"bill_length_mm\": 60.0, \"pred\": \"Chinstrap\"}, {\"flipper_length_mm\": 183.18840579710144, \"bill_length_mm\": 30.0, \"pred\": \"Adelie\"}, {\"flipper_length_mm\": 183.18840579710144, \"bill_length_mm\": 30.434782608695652, \"pred\": \"Adelie\"}, {\"flipper_length_mm\": 183.18840579710144, \"bill_length_mm\": 30.869565217391305, \"pred\": \"Adelie\"}, {\"flipper_length_mm\": 183.18840579710144, \"bill_length_mm\": 31.304347826086957, \"pred\": \"Adelie\"}, {\"flipper_length_mm\": 183.18840579710144, \"bill_length_mm\": 31.73913043478261, \"pred\": \"Adelie\"}, {\"flipper_length_mm\": 183.18840579710144, \"bill_length_mm\": 32.17391304347826, \"pred\": \"Adelie\"}, {\"flipper_length_mm\": 183.18840579710144, \"bill_length_mm\": 32.608695652173914, \"pred\": \"Adelie\"}, {\"flipper_length_mm\": 183.18840579710144, \"bill_length_mm\": 33.04347826086956, \"pred\": \"Adelie\"}, {\"flipper_length_mm\": 183.18840579710144, \"bill_length_mm\": 33.47826086956522, \"pred\": \"Adelie\"}, {\"flipper_length_mm\": 183.18840579710144, \"bill_length_mm\": 33.91304347826087, \"pred\": \"Adelie\"}, {\"flipper_length_mm\": 183.18840579710144, \"bill_length_mm\": 34.34782608695652, \"pred\": \"Adelie\"}, {\"flipper_length_mm\": 183.18840579710144, \"bill_length_mm\": 34.78260869565217, \"pred\": \"Adelie\"}, {\"flipper_length_mm\": 183.18840579710144, \"bill_length_mm\": 35.21739130434783, \"pred\": \"Adelie\"}, {\"flipper_length_mm\": 183.18840579710144, \"bill_length_mm\": 35.65217391304348, \"pred\": \"Adelie\"}, {\"flipper_length_mm\": 183.18840579710144, \"bill_length_mm\": 36.08695652173913, \"pred\": \"Adelie\"}, {\"flipper_length_mm\": 183.18840579710144, \"bill_length_mm\": 36.52173913043478, \"pred\": \"Adelie\"}, {\"flipper_length_mm\": 183.18840579710144, \"bill_length_mm\": 36.95652173913044, \"pred\": \"Adelie\"}, {\"flipper_length_mm\": 183.18840579710144, \"bill_length_mm\": 37.391304347826086, \"pred\": \"Adelie\"}, {\"flipper_length_mm\": 183.18840579710144, \"bill_length_mm\": 37.82608695652174, \"pred\": \"Adelie\"}, {\"flipper_length_mm\": 183.18840579710144, \"bill_length_mm\": 38.26086956521739, \"pred\": \"Adelie\"}, {\"flipper_length_mm\": 183.18840579710144, \"bill_length_mm\": 38.69565217391305, \"pred\": \"Adelie\"}, {\"flipper_length_mm\": 183.18840579710144, \"bill_length_mm\": 39.130434782608695, \"pred\": \"Adelie\"}, {\"flipper_length_mm\": 183.18840579710144, \"bill_length_mm\": 39.565217391304344, \"pred\": \"Adelie\"}, {\"flipper_length_mm\": 183.18840579710144, \"bill_length_mm\": 40.0, \"pred\": \"Adelie\"}, {\"flipper_length_mm\": 183.18840579710144, \"bill_length_mm\": 40.434782608695656, \"pred\": \"Adelie\"}, {\"flipper_length_mm\": 183.18840579710144, \"bill_length_mm\": 40.869565217391305, \"pred\": \"Adelie\"}, {\"flipper_length_mm\": 183.18840579710144, \"bill_length_mm\": 41.30434782608695, \"pred\": \"Adelie\"}, {\"flipper_length_mm\": 183.18840579710144, \"bill_length_mm\": 41.73913043478261, \"pred\": \"Adelie\"}, {\"flipper_length_mm\": 183.18840579710144, \"bill_length_mm\": 42.17391304347826, \"pred\": \"Adelie\"}, {\"flipper_length_mm\": 183.18840579710144, \"bill_length_mm\": 42.608695652173914, \"pred\": \"Adelie\"}, {\"flipper_length_mm\": 183.18840579710144, \"bill_length_mm\": 43.04347826086956, \"pred\": \"Chinstrap\"}, {\"flipper_length_mm\": 183.18840579710144, \"bill_length_mm\": 43.47826086956522, \"pred\": \"Chinstrap\"}, {\"flipper_length_mm\": 183.18840579710144, \"bill_length_mm\": 43.91304347826087, \"pred\": \"Chinstrap\"}, {\"flipper_length_mm\": 183.18840579710144, \"bill_length_mm\": 44.34782608695652, \"pred\": \"Chinstrap\"}, {\"flipper_length_mm\": 183.18840579710144, \"bill_length_mm\": 44.78260869565217, \"pred\": \"Chinstrap\"}, {\"flipper_length_mm\": 183.18840579710144, \"bill_length_mm\": 45.21739130434783, \"pred\": \"Chinstrap\"}, {\"flipper_length_mm\": 183.18840579710144, \"bill_length_mm\": 45.65217391304348, \"pred\": \"Chinstrap\"}, {\"flipper_length_mm\": 183.18840579710144, \"bill_length_mm\": 46.086956521739125, \"pred\": \"Chinstrap\"}, {\"flipper_length_mm\": 183.18840579710144, \"bill_length_mm\": 46.52173913043478, \"pred\": \"Chinstrap\"}, {\"flipper_length_mm\": 183.18840579710144, \"bill_length_mm\": 46.95652173913044, \"pred\": \"Chinstrap\"}, {\"flipper_length_mm\": 183.18840579710144, \"bill_length_mm\": 47.391304347826086, \"pred\": \"Chinstrap\"}, {\"flipper_length_mm\": 183.18840579710144, \"bill_length_mm\": 47.826086956521735, \"pred\": \"Chinstrap\"}, {\"flipper_length_mm\": 183.18840579710144, \"bill_length_mm\": 48.26086956521739, \"pred\": \"Chinstrap\"}, {\"flipper_length_mm\": 183.18840579710144, \"bill_length_mm\": 48.69565217391305, \"pred\": \"Chinstrap\"}, {\"flipper_length_mm\": 183.18840579710144, \"bill_length_mm\": 49.130434782608695, \"pred\": \"Chinstrap\"}, {\"flipper_length_mm\": 183.18840579710144, \"bill_length_mm\": 49.565217391304344, \"pred\": \"Chinstrap\"}, {\"flipper_length_mm\": 183.18840579710144, \"bill_length_mm\": 50.0, \"pred\": \"Chinstrap\"}, {\"flipper_length_mm\": 183.18840579710144, \"bill_length_mm\": 50.434782608695656, \"pred\": \"Chinstrap\"}, {\"flipper_length_mm\": 183.18840579710144, \"bill_length_mm\": 50.869565217391305, \"pred\": \"Chinstrap\"}, {\"flipper_length_mm\": 183.18840579710144, \"bill_length_mm\": 51.30434782608695, \"pred\": \"Chinstrap\"}, {\"flipper_length_mm\": 183.18840579710144, \"bill_length_mm\": 51.73913043478261, \"pred\": \"Chinstrap\"}, {\"flipper_length_mm\": 183.18840579710144, \"bill_length_mm\": 52.173913043478265, \"pred\": \"Chinstrap\"}, {\"flipper_length_mm\": 183.18840579710144, \"bill_length_mm\": 52.608695652173914, \"pred\": \"Chinstrap\"}, {\"flipper_length_mm\": 183.18840579710144, \"bill_length_mm\": 53.04347826086956, \"pred\": \"Chinstrap\"}, {\"flipper_length_mm\": 183.18840579710144, \"bill_length_mm\": 53.47826086956522, \"pred\": \"Chinstrap\"}, {\"flipper_length_mm\": 183.18840579710144, \"bill_length_mm\": 53.91304347826087, \"pred\": \"Chinstrap\"}, {\"flipper_length_mm\": 183.18840579710144, \"bill_length_mm\": 54.347826086956516, \"pred\": \"Chinstrap\"}, {\"flipper_length_mm\": 183.18840579710144, \"bill_length_mm\": 54.78260869565217, \"pred\": \"Chinstrap\"}, {\"flipper_length_mm\": 183.18840579710144, \"bill_length_mm\": 55.21739130434783, \"pred\": \"Chinstrap\"}, {\"flipper_length_mm\": 183.18840579710144, \"bill_length_mm\": 55.65217391304348, \"pred\": \"Chinstrap\"}, {\"flipper_length_mm\": 183.18840579710144, \"bill_length_mm\": 56.086956521739125, \"pred\": \"Chinstrap\"}, {\"flipper_length_mm\": 183.18840579710144, \"bill_length_mm\": 56.52173913043478, \"pred\": \"Chinstrap\"}, {\"flipper_length_mm\": 183.18840579710144, \"bill_length_mm\": 56.95652173913044, \"pred\": \"Chinstrap\"}, {\"flipper_length_mm\": 183.18840579710144, \"bill_length_mm\": 57.391304347826086, \"pred\": \"Chinstrap\"}, {\"flipper_length_mm\": 183.18840579710144, \"bill_length_mm\": 57.826086956521735, \"pred\": \"Chinstrap\"}, {\"flipper_length_mm\": 183.18840579710144, \"bill_length_mm\": 58.26086956521739, \"pred\": \"Chinstrap\"}, {\"flipper_length_mm\": 183.18840579710144, \"bill_length_mm\": 58.69565217391305, \"pred\": \"Chinstrap\"}, {\"flipper_length_mm\": 183.18840579710144, \"bill_length_mm\": 59.130434782608695, \"pred\": \"Chinstrap\"}, {\"flipper_length_mm\": 183.18840579710144, \"bill_length_mm\": 59.565217391304344, \"pred\": \"Chinstrap\"}, {\"flipper_length_mm\": 183.18840579710144, \"bill_length_mm\": 60.0, \"pred\": \"Chinstrap\"}, {\"flipper_length_mm\": 184.1304347826087, \"bill_length_mm\": 30.0, \"pred\": \"Adelie\"}, {\"flipper_length_mm\": 184.1304347826087, \"bill_length_mm\": 30.434782608695652, \"pred\": \"Adelie\"}, {\"flipper_length_mm\": 184.1304347826087, \"bill_length_mm\": 30.869565217391305, \"pred\": \"Adelie\"}, {\"flipper_length_mm\": 184.1304347826087, \"bill_length_mm\": 31.304347826086957, \"pred\": \"Adelie\"}, {\"flipper_length_mm\": 184.1304347826087, \"bill_length_mm\": 31.73913043478261, \"pred\": \"Adelie\"}, {\"flipper_length_mm\": 184.1304347826087, \"bill_length_mm\": 32.17391304347826, \"pred\": \"Adelie\"}, {\"flipper_length_mm\": 184.1304347826087, \"bill_length_mm\": 32.608695652173914, \"pred\": \"Adelie\"}, {\"flipper_length_mm\": 184.1304347826087, \"bill_length_mm\": 33.04347826086956, \"pred\": \"Adelie\"}, {\"flipper_length_mm\": 184.1304347826087, \"bill_length_mm\": 33.47826086956522, \"pred\": \"Adelie\"}, {\"flipper_length_mm\": 184.1304347826087, \"bill_length_mm\": 33.91304347826087, \"pred\": \"Adelie\"}, {\"flipper_length_mm\": 184.1304347826087, \"bill_length_mm\": 34.34782608695652, \"pred\": \"Adelie\"}, {\"flipper_length_mm\": 184.1304347826087, \"bill_length_mm\": 34.78260869565217, \"pred\": \"Adelie\"}, {\"flipper_length_mm\": 184.1304347826087, \"bill_length_mm\": 35.21739130434783, \"pred\": \"Adelie\"}, {\"flipper_length_mm\": 184.1304347826087, \"bill_length_mm\": 35.65217391304348, \"pred\": \"Adelie\"}, {\"flipper_length_mm\": 184.1304347826087, \"bill_length_mm\": 36.08695652173913, \"pred\": \"Adelie\"}, {\"flipper_length_mm\": 184.1304347826087, \"bill_length_mm\": 36.52173913043478, \"pred\": \"Adelie\"}, {\"flipper_length_mm\": 184.1304347826087, \"bill_length_mm\": 36.95652173913044, \"pred\": \"Adelie\"}, {\"flipper_length_mm\": 184.1304347826087, \"bill_length_mm\": 37.391304347826086, \"pred\": \"Adelie\"}, {\"flipper_length_mm\": 184.1304347826087, \"bill_length_mm\": 37.82608695652174, \"pred\": \"Adelie\"}, {\"flipper_length_mm\": 184.1304347826087, \"bill_length_mm\": 38.26086956521739, \"pred\": \"Adelie\"}, {\"flipper_length_mm\": 184.1304347826087, \"bill_length_mm\": 38.69565217391305, \"pred\": \"Adelie\"}, {\"flipper_length_mm\": 184.1304347826087, \"bill_length_mm\": 39.130434782608695, \"pred\": \"Adelie\"}, {\"flipper_length_mm\": 184.1304347826087, \"bill_length_mm\": 39.565217391304344, \"pred\": \"Adelie\"}, {\"flipper_length_mm\": 184.1304347826087, \"bill_length_mm\": 40.0, \"pred\": \"Adelie\"}, {\"flipper_length_mm\": 184.1304347826087, \"bill_length_mm\": 40.434782608695656, \"pred\": \"Adelie\"}, {\"flipper_length_mm\": 184.1304347826087, \"bill_length_mm\": 40.869565217391305, \"pred\": \"Adelie\"}, {\"flipper_length_mm\": 184.1304347826087, \"bill_length_mm\": 41.30434782608695, \"pred\": \"Adelie\"}, {\"flipper_length_mm\": 184.1304347826087, \"bill_length_mm\": 41.73913043478261, \"pred\": \"Adelie\"}, {\"flipper_length_mm\": 184.1304347826087, \"bill_length_mm\": 42.17391304347826, \"pred\": \"Adelie\"}, {\"flipper_length_mm\": 184.1304347826087, \"bill_length_mm\": 42.608695652173914, \"pred\": \"Adelie\"}, {\"flipper_length_mm\": 184.1304347826087, \"bill_length_mm\": 43.04347826086956, \"pred\": \"Adelie\"}, {\"flipper_length_mm\": 184.1304347826087, \"bill_length_mm\": 43.47826086956522, \"pred\": \"Chinstrap\"}, {\"flipper_length_mm\": 184.1304347826087, \"bill_length_mm\": 43.91304347826087, \"pred\": \"Chinstrap\"}, {\"flipper_length_mm\": 184.1304347826087, \"bill_length_mm\": 44.34782608695652, \"pred\": \"Chinstrap\"}, {\"flipper_length_mm\": 184.1304347826087, \"bill_length_mm\": 44.78260869565217, \"pred\": \"Chinstrap\"}, {\"flipper_length_mm\": 184.1304347826087, \"bill_length_mm\": 45.21739130434783, \"pred\": \"Chinstrap\"}, {\"flipper_length_mm\": 184.1304347826087, \"bill_length_mm\": 45.65217391304348, \"pred\": \"Chinstrap\"}, {\"flipper_length_mm\": 184.1304347826087, \"bill_length_mm\": 46.086956521739125, \"pred\": \"Chinstrap\"}, {\"flipper_length_mm\": 184.1304347826087, \"bill_length_mm\": 46.52173913043478, \"pred\": \"Chinstrap\"}, {\"flipper_length_mm\": 184.1304347826087, \"bill_length_mm\": 46.95652173913044, \"pred\": \"Chinstrap\"}, {\"flipper_length_mm\": 184.1304347826087, \"bill_length_mm\": 47.391304347826086, \"pred\": \"Chinstrap\"}, {\"flipper_length_mm\": 184.1304347826087, \"bill_length_mm\": 47.826086956521735, \"pred\": \"Chinstrap\"}, {\"flipper_length_mm\": 184.1304347826087, \"bill_length_mm\": 48.26086956521739, \"pred\": \"Chinstrap\"}, {\"flipper_length_mm\": 184.1304347826087, \"bill_length_mm\": 48.69565217391305, \"pred\": \"Chinstrap\"}, {\"flipper_length_mm\": 184.1304347826087, \"bill_length_mm\": 49.130434782608695, \"pred\": \"Chinstrap\"}, {\"flipper_length_mm\": 184.1304347826087, \"bill_length_mm\": 49.565217391304344, \"pred\": \"Chinstrap\"}, {\"flipper_length_mm\": 184.1304347826087, \"bill_length_mm\": 50.0, \"pred\": \"Chinstrap\"}, {\"flipper_length_mm\": 184.1304347826087, \"bill_length_mm\": 50.434782608695656, \"pred\": \"Chinstrap\"}, {\"flipper_length_mm\": 184.1304347826087, \"bill_length_mm\": 50.869565217391305, \"pred\": \"Chinstrap\"}, {\"flipper_length_mm\": 184.1304347826087, \"bill_length_mm\": 51.30434782608695, \"pred\": \"Chinstrap\"}, {\"flipper_length_mm\": 184.1304347826087, \"bill_length_mm\": 51.73913043478261, \"pred\": \"Chinstrap\"}, {\"flipper_length_mm\": 184.1304347826087, \"bill_length_mm\": 52.173913043478265, \"pred\": \"Chinstrap\"}, {\"flipper_length_mm\": 184.1304347826087, \"bill_length_mm\": 52.608695652173914, \"pred\": \"Chinstrap\"}, {\"flipper_length_mm\": 184.1304347826087, \"bill_length_mm\": 53.04347826086956, \"pred\": \"Chinstrap\"}, {\"flipper_length_mm\": 184.1304347826087, \"bill_length_mm\": 53.47826086956522, \"pred\": \"Chinstrap\"}, {\"flipper_length_mm\": 184.1304347826087, \"bill_length_mm\": 53.91304347826087, \"pred\": \"Chinstrap\"}, {\"flipper_length_mm\": 184.1304347826087, \"bill_length_mm\": 54.347826086956516, \"pred\": \"Chinstrap\"}, {\"flipper_length_mm\": 184.1304347826087, \"bill_length_mm\": 54.78260869565217, \"pred\": \"Chinstrap\"}, {\"flipper_length_mm\": 184.1304347826087, \"bill_length_mm\": 55.21739130434783, \"pred\": \"Chinstrap\"}, {\"flipper_length_mm\": 184.1304347826087, \"bill_length_mm\": 55.65217391304348, \"pred\": \"Chinstrap\"}, {\"flipper_length_mm\": 184.1304347826087, \"bill_length_mm\": 56.086956521739125, \"pred\": \"Chinstrap\"}, {\"flipper_length_mm\": 184.1304347826087, \"bill_length_mm\": 56.52173913043478, \"pred\": \"Chinstrap\"}, {\"flipper_length_mm\": 184.1304347826087, \"bill_length_mm\": 56.95652173913044, \"pred\": \"Chinstrap\"}, {\"flipper_length_mm\": 184.1304347826087, \"bill_length_mm\": 57.391304347826086, \"pred\": \"Chinstrap\"}, {\"flipper_length_mm\": 184.1304347826087, \"bill_length_mm\": 57.826086956521735, \"pred\": \"Chinstrap\"}, {\"flipper_length_mm\": 184.1304347826087, \"bill_length_mm\": 58.26086956521739, \"pred\": \"Chinstrap\"}, {\"flipper_length_mm\": 184.1304347826087, \"bill_length_mm\": 58.69565217391305, \"pred\": \"Chinstrap\"}, {\"flipper_length_mm\": 184.1304347826087, \"bill_length_mm\": 59.130434782608695, \"pred\": \"Chinstrap\"}, {\"flipper_length_mm\": 184.1304347826087, \"bill_length_mm\": 59.565217391304344, \"pred\": \"Chinstrap\"}, {\"flipper_length_mm\": 184.1304347826087, \"bill_length_mm\": 60.0, \"pred\": \"Chinstrap\"}, {\"flipper_length_mm\": 185.07246376811594, \"bill_length_mm\": 30.0, \"pred\": \"Adelie\"}, {\"flipper_length_mm\": 185.07246376811594, \"bill_length_mm\": 30.434782608695652, \"pred\": \"Adelie\"}, {\"flipper_length_mm\": 185.07246376811594, \"bill_length_mm\": 30.869565217391305, \"pred\": \"Adelie\"}, {\"flipper_length_mm\": 185.07246376811594, \"bill_length_mm\": 31.304347826086957, \"pred\": \"Adelie\"}, {\"flipper_length_mm\": 185.07246376811594, \"bill_length_mm\": 31.73913043478261, \"pred\": \"Adelie\"}, {\"flipper_length_mm\": 185.07246376811594, \"bill_length_mm\": 32.17391304347826, \"pred\": \"Adelie\"}, {\"flipper_length_mm\": 185.07246376811594, \"bill_length_mm\": 32.608695652173914, \"pred\": \"Adelie\"}, {\"flipper_length_mm\": 185.07246376811594, \"bill_length_mm\": 33.04347826086956, \"pred\": \"Adelie\"}, {\"flipper_length_mm\": 185.07246376811594, \"bill_length_mm\": 33.47826086956522, \"pred\": \"Adelie\"}, {\"flipper_length_mm\": 185.07246376811594, \"bill_length_mm\": 33.91304347826087, \"pred\": \"Adelie\"}, {\"flipper_length_mm\": 185.07246376811594, \"bill_length_mm\": 34.34782608695652, \"pred\": \"Adelie\"}, {\"flipper_length_mm\": 185.07246376811594, \"bill_length_mm\": 34.78260869565217, \"pred\": \"Adelie\"}, {\"flipper_length_mm\": 185.07246376811594, \"bill_length_mm\": 35.21739130434783, \"pred\": \"Adelie\"}, {\"flipper_length_mm\": 185.07246376811594, \"bill_length_mm\": 35.65217391304348, \"pred\": \"Adelie\"}, {\"flipper_length_mm\": 185.07246376811594, \"bill_length_mm\": 36.08695652173913, \"pred\": \"Adelie\"}, {\"flipper_length_mm\": 185.07246376811594, \"bill_length_mm\": 36.52173913043478, \"pred\": \"Adelie\"}, {\"flipper_length_mm\": 185.07246376811594, \"bill_length_mm\": 36.95652173913044, \"pred\": \"Adelie\"}, {\"flipper_length_mm\": 185.07246376811594, \"bill_length_mm\": 37.391304347826086, \"pred\": \"Adelie\"}, {\"flipper_length_mm\": 185.07246376811594, \"bill_length_mm\": 37.82608695652174, \"pred\": \"Adelie\"}, {\"flipper_length_mm\": 185.07246376811594, \"bill_length_mm\": 38.26086956521739, \"pred\": \"Adelie\"}, {\"flipper_length_mm\": 185.07246376811594, \"bill_length_mm\": 38.69565217391305, \"pred\": \"Adelie\"}, {\"flipper_length_mm\": 185.07246376811594, \"bill_length_mm\": 39.130434782608695, \"pred\": \"Adelie\"}, {\"flipper_length_mm\": 185.07246376811594, \"bill_length_mm\": 39.565217391304344, \"pred\": \"Adelie\"}, {\"flipper_length_mm\": 185.07246376811594, \"bill_length_mm\": 40.0, \"pred\": \"Adelie\"}, {\"flipper_length_mm\": 185.07246376811594, \"bill_length_mm\": 40.434782608695656, \"pred\": \"Adelie\"}, {\"flipper_length_mm\": 185.07246376811594, \"bill_length_mm\": 40.869565217391305, \"pred\": \"Adelie\"}, {\"flipper_length_mm\": 185.07246376811594, \"bill_length_mm\": 41.30434782608695, \"pred\": \"Adelie\"}, {\"flipper_length_mm\": 185.07246376811594, \"bill_length_mm\": 41.73913043478261, \"pred\": \"Adelie\"}, {\"flipper_length_mm\": 185.07246376811594, \"bill_length_mm\": 42.17391304347826, \"pred\": \"Adelie\"}, {\"flipper_length_mm\": 185.07246376811594, \"bill_length_mm\": 42.608695652173914, \"pred\": \"Adelie\"}, {\"flipper_length_mm\": 185.07246376811594, \"bill_length_mm\": 43.04347826086956, \"pred\": \"Adelie\"}, {\"flipper_length_mm\": 185.07246376811594, \"bill_length_mm\": 43.47826086956522, \"pred\": \"Chinstrap\"}, {\"flipper_length_mm\": 185.07246376811594, \"bill_length_mm\": 43.91304347826087, \"pred\": \"Chinstrap\"}, {\"flipper_length_mm\": 185.07246376811594, \"bill_length_mm\": 44.34782608695652, \"pred\": \"Chinstrap\"}, {\"flipper_length_mm\": 185.07246376811594, \"bill_length_mm\": 44.78260869565217, \"pred\": \"Chinstrap\"}, {\"flipper_length_mm\": 185.07246376811594, \"bill_length_mm\": 45.21739130434783, \"pred\": \"Chinstrap\"}, {\"flipper_length_mm\": 185.07246376811594, \"bill_length_mm\": 45.65217391304348, \"pred\": \"Chinstrap\"}, {\"flipper_length_mm\": 185.07246376811594, \"bill_length_mm\": 46.086956521739125, \"pred\": \"Chinstrap\"}, {\"flipper_length_mm\": 185.07246376811594, \"bill_length_mm\": 46.52173913043478, \"pred\": \"Chinstrap\"}, {\"flipper_length_mm\": 185.07246376811594, \"bill_length_mm\": 46.95652173913044, \"pred\": \"Chinstrap\"}, {\"flipper_length_mm\": 185.07246376811594, \"bill_length_mm\": 47.391304347826086, \"pred\": \"Chinstrap\"}, {\"flipper_length_mm\": 185.07246376811594, \"bill_length_mm\": 47.826086956521735, \"pred\": \"Chinstrap\"}, {\"flipper_length_mm\": 185.07246376811594, \"bill_length_mm\": 48.26086956521739, \"pred\": \"Chinstrap\"}, {\"flipper_length_mm\": 185.07246376811594, \"bill_length_mm\": 48.69565217391305, \"pred\": \"Chinstrap\"}, {\"flipper_length_mm\": 185.07246376811594, \"bill_length_mm\": 49.130434782608695, \"pred\": \"Chinstrap\"}, {\"flipper_length_mm\": 185.07246376811594, \"bill_length_mm\": 49.565217391304344, \"pred\": \"Chinstrap\"}, {\"flipper_length_mm\": 185.07246376811594, \"bill_length_mm\": 50.0, \"pred\": \"Chinstrap\"}, {\"flipper_length_mm\": 185.07246376811594, \"bill_length_mm\": 50.434782608695656, \"pred\": \"Chinstrap\"}, {\"flipper_length_mm\": 185.07246376811594, \"bill_length_mm\": 50.869565217391305, \"pred\": \"Chinstrap\"}, {\"flipper_length_mm\": 185.07246376811594, \"bill_length_mm\": 51.30434782608695, \"pred\": \"Chinstrap\"}, {\"flipper_length_mm\": 185.07246376811594, \"bill_length_mm\": 51.73913043478261, \"pred\": \"Chinstrap\"}, {\"flipper_length_mm\": 185.07246376811594, \"bill_length_mm\": 52.173913043478265, \"pred\": \"Chinstrap\"}, {\"flipper_length_mm\": 185.07246376811594, \"bill_length_mm\": 52.608695652173914, \"pred\": \"Chinstrap\"}, {\"flipper_length_mm\": 185.07246376811594, \"bill_length_mm\": 53.04347826086956, \"pred\": \"Chinstrap\"}, {\"flipper_length_mm\": 185.07246376811594, \"bill_length_mm\": 53.47826086956522, \"pred\": \"Chinstrap\"}, {\"flipper_length_mm\": 185.07246376811594, \"bill_length_mm\": 53.91304347826087, \"pred\": \"Chinstrap\"}, {\"flipper_length_mm\": 185.07246376811594, \"bill_length_mm\": 54.347826086956516, \"pred\": \"Chinstrap\"}, {\"flipper_length_mm\": 185.07246376811594, \"bill_length_mm\": 54.78260869565217, \"pred\": \"Chinstrap\"}, {\"flipper_length_mm\": 185.07246376811594, \"bill_length_mm\": 55.21739130434783, \"pred\": \"Chinstrap\"}, {\"flipper_length_mm\": 185.07246376811594, \"bill_length_mm\": 55.65217391304348, \"pred\": \"Chinstrap\"}, {\"flipper_length_mm\": 185.07246376811594, \"bill_length_mm\": 56.086956521739125, \"pred\": \"Chinstrap\"}, {\"flipper_length_mm\": 185.07246376811594, \"bill_length_mm\": 56.52173913043478, \"pred\": \"Chinstrap\"}, {\"flipper_length_mm\": 185.07246376811594, \"bill_length_mm\": 56.95652173913044, \"pred\": \"Chinstrap\"}, {\"flipper_length_mm\": 185.07246376811594, \"bill_length_mm\": 57.391304347826086, \"pred\": \"Chinstrap\"}, {\"flipper_length_mm\": 185.07246376811594, \"bill_length_mm\": 57.826086956521735, \"pred\": \"Chinstrap\"}, {\"flipper_length_mm\": 185.07246376811594, \"bill_length_mm\": 58.26086956521739, \"pred\": \"Chinstrap\"}, {\"flipper_length_mm\": 185.07246376811594, \"bill_length_mm\": 58.69565217391305, \"pred\": \"Chinstrap\"}, {\"flipper_length_mm\": 185.07246376811594, \"bill_length_mm\": 59.130434782608695, \"pred\": \"Chinstrap\"}, {\"flipper_length_mm\": 185.07246376811594, \"bill_length_mm\": 59.565217391304344, \"pred\": \"Chinstrap\"}, {\"flipper_length_mm\": 185.07246376811594, \"bill_length_mm\": 60.0, \"pred\": \"Chinstrap\"}, {\"flipper_length_mm\": 186.0144927536232, \"bill_length_mm\": 30.0, \"pred\": \"Adelie\"}, {\"flipper_length_mm\": 186.0144927536232, \"bill_length_mm\": 30.434782608695652, \"pred\": \"Adelie\"}, {\"flipper_length_mm\": 186.0144927536232, \"bill_length_mm\": 30.869565217391305, \"pred\": \"Adelie\"}, {\"flipper_length_mm\": 186.0144927536232, \"bill_length_mm\": 31.304347826086957, \"pred\": \"Adelie\"}, {\"flipper_length_mm\": 186.0144927536232, \"bill_length_mm\": 31.73913043478261, \"pred\": \"Adelie\"}, {\"flipper_length_mm\": 186.0144927536232, \"bill_length_mm\": 32.17391304347826, \"pred\": \"Adelie\"}, {\"flipper_length_mm\": 186.0144927536232, \"bill_length_mm\": 32.608695652173914, \"pred\": \"Adelie\"}, {\"flipper_length_mm\": 186.0144927536232, \"bill_length_mm\": 33.04347826086956, \"pred\": \"Adelie\"}, {\"flipper_length_mm\": 186.0144927536232, \"bill_length_mm\": 33.47826086956522, \"pred\": \"Adelie\"}, {\"flipper_length_mm\": 186.0144927536232, \"bill_length_mm\": 33.91304347826087, \"pred\": \"Adelie\"}, {\"flipper_length_mm\": 186.0144927536232, \"bill_length_mm\": 34.34782608695652, \"pred\": \"Adelie\"}, {\"flipper_length_mm\": 186.0144927536232, \"bill_length_mm\": 34.78260869565217, \"pred\": \"Adelie\"}, {\"flipper_length_mm\": 186.0144927536232, \"bill_length_mm\": 35.21739130434783, \"pred\": \"Adelie\"}, {\"flipper_length_mm\": 186.0144927536232, \"bill_length_mm\": 35.65217391304348, \"pred\": \"Adelie\"}, {\"flipper_length_mm\": 186.0144927536232, \"bill_length_mm\": 36.08695652173913, \"pred\": \"Adelie\"}, {\"flipper_length_mm\": 186.0144927536232, \"bill_length_mm\": 36.52173913043478, \"pred\": \"Adelie\"}, {\"flipper_length_mm\": 186.0144927536232, \"bill_length_mm\": 36.95652173913044, \"pred\": \"Adelie\"}, {\"flipper_length_mm\": 186.0144927536232, \"bill_length_mm\": 37.391304347826086, \"pred\": \"Adelie\"}, {\"flipper_length_mm\": 186.0144927536232, \"bill_length_mm\": 37.82608695652174, \"pred\": \"Adelie\"}, {\"flipper_length_mm\": 186.0144927536232, \"bill_length_mm\": 38.26086956521739, \"pred\": \"Adelie\"}, {\"flipper_length_mm\": 186.0144927536232, \"bill_length_mm\": 38.69565217391305, \"pred\": \"Adelie\"}, {\"flipper_length_mm\": 186.0144927536232, \"bill_length_mm\": 39.130434782608695, \"pred\": \"Adelie\"}, {\"flipper_length_mm\": 186.0144927536232, \"bill_length_mm\": 39.565217391304344, \"pred\": \"Adelie\"}, {\"flipper_length_mm\": 186.0144927536232, \"bill_length_mm\": 40.0, \"pred\": \"Adelie\"}, {\"flipper_length_mm\": 186.0144927536232, \"bill_length_mm\": 40.434782608695656, \"pred\": \"Adelie\"}, {\"flipper_length_mm\": 186.0144927536232, \"bill_length_mm\": 40.869565217391305, \"pred\": \"Adelie\"}, {\"flipper_length_mm\": 186.0144927536232, \"bill_length_mm\": 41.30434782608695, \"pred\": \"Adelie\"}, {\"flipper_length_mm\": 186.0144927536232, \"bill_length_mm\": 41.73913043478261, \"pred\": \"Adelie\"}, {\"flipper_length_mm\": 186.0144927536232, \"bill_length_mm\": 42.17391304347826, \"pred\": \"Adelie\"}, {\"flipper_length_mm\": 186.0144927536232, \"bill_length_mm\": 42.608695652173914, \"pred\": \"Adelie\"}, {\"flipper_length_mm\": 186.0144927536232, \"bill_length_mm\": 43.04347826086956, \"pred\": \"Adelie\"}, {\"flipper_length_mm\": 186.0144927536232, \"bill_length_mm\": 43.47826086956522, \"pred\": \"Chinstrap\"}, {\"flipper_length_mm\": 186.0144927536232, \"bill_length_mm\": 43.91304347826087, \"pred\": \"Chinstrap\"}, {\"flipper_length_mm\": 186.0144927536232, \"bill_length_mm\": 44.34782608695652, \"pred\": \"Chinstrap\"}, {\"flipper_length_mm\": 186.0144927536232, \"bill_length_mm\": 44.78260869565217, \"pred\": \"Chinstrap\"}, {\"flipper_length_mm\": 186.0144927536232, \"bill_length_mm\": 45.21739130434783, \"pred\": \"Chinstrap\"}, {\"flipper_length_mm\": 186.0144927536232, \"bill_length_mm\": 45.65217391304348, \"pred\": \"Chinstrap\"}, {\"flipper_length_mm\": 186.0144927536232, \"bill_length_mm\": 46.086956521739125, \"pred\": \"Chinstrap\"}, {\"flipper_length_mm\": 186.0144927536232, \"bill_length_mm\": 46.52173913043478, \"pred\": \"Chinstrap\"}, {\"flipper_length_mm\": 186.0144927536232, \"bill_length_mm\": 46.95652173913044, \"pred\": \"Chinstrap\"}, {\"flipper_length_mm\": 186.0144927536232, \"bill_length_mm\": 47.391304347826086, \"pred\": \"Chinstrap\"}, {\"flipper_length_mm\": 186.0144927536232, \"bill_length_mm\": 47.826086956521735, \"pred\": \"Chinstrap\"}, {\"flipper_length_mm\": 186.0144927536232, \"bill_length_mm\": 48.26086956521739, \"pred\": \"Chinstrap\"}, {\"flipper_length_mm\": 186.0144927536232, \"bill_length_mm\": 48.69565217391305, \"pred\": \"Chinstrap\"}, {\"flipper_length_mm\": 186.0144927536232, \"bill_length_mm\": 49.130434782608695, \"pred\": \"Chinstrap\"}, {\"flipper_length_mm\": 186.0144927536232, \"bill_length_mm\": 49.565217391304344, \"pred\": \"Chinstrap\"}, {\"flipper_length_mm\": 186.0144927536232, \"bill_length_mm\": 50.0, \"pred\": \"Chinstrap\"}, {\"flipper_length_mm\": 186.0144927536232, \"bill_length_mm\": 50.434782608695656, \"pred\": \"Chinstrap\"}, {\"flipper_length_mm\": 186.0144927536232, \"bill_length_mm\": 50.869565217391305, \"pred\": \"Chinstrap\"}, {\"flipper_length_mm\": 186.0144927536232, \"bill_length_mm\": 51.30434782608695, \"pred\": \"Chinstrap\"}, {\"flipper_length_mm\": 186.0144927536232, \"bill_length_mm\": 51.73913043478261, \"pred\": \"Chinstrap\"}, {\"flipper_length_mm\": 186.0144927536232, \"bill_length_mm\": 52.173913043478265, \"pred\": \"Chinstrap\"}, {\"flipper_length_mm\": 186.0144927536232, \"bill_length_mm\": 52.608695652173914, \"pred\": \"Chinstrap\"}, {\"flipper_length_mm\": 186.0144927536232, \"bill_length_mm\": 53.04347826086956, \"pred\": \"Chinstrap\"}, {\"flipper_length_mm\": 186.0144927536232, \"bill_length_mm\": 53.47826086956522, \"pred\": \"Chinstrap\"}, {\"flipper_length_mm\": 186.0144927536232, \"bill_length_mm\": 53.91304347826087, \"pred\": \"Chinstrap\"}, {\"flipper_length_mm\": 186.0144927536232, \"bill_length_mm\": 54.347826086956516, \"pred\": \"Chinstrap\"}, {\"flipper_length_mm\": 186.0144927536232, \"bill_length_mm\": 54.78260869565217, \"pred\": \"Chinstrap\"}, {\"flipper_length_mm\": 186.0144927536232, \"bill_length_mm\": 55.21739130434783, \"pred\": \"Chinstrap\"}, {\"flipper_length_mm\": 186.0144927536232, \"bill_length_mm\": 55.65217391304348, \"pred\": \"Chinstrap\"}, {\"flipper_length_mm\": 186.0144927536232, \"bill_length_mm\": 56.086956521739125, \"pred\": \"Chinstrap\"}, {\"flipper_length_mm\": 186.0144927536232, \"bill_length_mm\": 56.52173913043478, \"pred\": \"Chinstrap\"}, {\"flipper_length_mm\": 186.0144927536232, \"bill_length_mm\": 56.95652173913044, \"pred\": \"Chinstrap\"}, {\"flipper_length_mm\": 186.0144927536232, \"bill_length_mm\": 57.391304347826086, \"pred\": \"Chinstrap\"}, {\"flipper_length_mm\": 186.0144927536232, \"bill_length_mm\": 57.826086956521735, \"pred\": \"Chinstrap\"}, {\"flipper_length_mm\": 186.0144927536232, \"bill_length_mm\": 58.26086956521739, \"pred\": \"Chinstrap\"}, {\"flipper_length_mm\": 186.0144927536232, \"bill_length_mm\": 58.69565217391305, \"pred\": \"Chinstrap\"}, {\"flipper_length_mm\": 186.0144927536232, \"bill_length_mm\": 59.130434782608695, \"pred\": \"Chinstrap\"}, {\"flipper_length_mm\": 186.0144927536232, \"bill_length_mm\": 59.565217391304344, \"pred\": \"Chinstrap\"}, {\"flipper_length_mm\": 186.0144927536232, \"bill_length_mm\": 60.0, \"pred\": \"Chinstrap\"}, {\"flipper_length_mm\": 186.95652173913044, \"bill_length_mm\": 30.0, \"pred\": \"Adelie\"}, {\"flipper_length_mm\": 186.95652173913044, \"bill_length_mm\": 30.434782608695652, \"pred\": \"Adelie\"}, {\"flipper_length_mm\": 186.95652173913044, \"bill_length_mm\": 30.869565217391305, \"pred\": \"Adelie\"}, {\"flipper_length_mm\": 186.95652173913044, \"bill_length_mm\": 31.304347826086957, \"pred\": \"Adelie\"}, {\"flipper_length_mm\": 186.95652173913044, \"bill_length_mm\": 31.73913043478261, \"pred\": \"Adelie\"}, {\"flipper_length_mm\": 186.95652173913044, \"bill_length_mm\": 32.17391304347826, \"pred\": \"Adelie\"}, {\"flipper_length_mm\": 186.95652173913044, \"bill_length_mm\": 32.608695652173914, \"pred\": \"Adelie\"}, {\"flipper_length_mm\": 186.95652173913044, \"bill_length_mm\": 33.04347826086956, \"pred\": \"Adelie\"}, {\"flipper_length_mm\": 186.95652173913044, \"bill_length_mm\": 33.47826086956522, \"pred\": \"Adelie\"}, {\"flipper_length_mm\": 186.95652173913044, \"bill_length_mm\": 33.91304347826087, \"pred\": \"Adelie\"}, {\"flipper_length_mm\": 186.95652173913044, \"bill_length_mm\": 34.34782608695652, \"pred\": \"Adelie\"}, {\"flipper_length_mm\": 186.95652173913044, \"bill_length_mm\": 34.78260869565217, \"pred\": \"Adelie\"}, {\"flipper_length_mm\": 186.95652173913044, \"bill_length_mm\": 35.21739130434783, \"pred\": \"Adelie\"}, {\"flipper_length_mm\": 186.95652173913044, \"bill_length_mm\": 35.65217391304348, \"pred\": \"Adelie\"}, {\"flipper_length_mm\": 186.95652173913044, \"bill_length_mm\": 36.08695652173913, \"pred\": \"Adelie\"}, {\"flipper_length_mm\": 186.95652173913044, \"bill_length_mm\": 36.52173913043478, \"pred\": \"Adelie\"}, {\"flipper_length_mm\": 186.95652173913044, \"bill_length_mm\": 36.95652173913044, \"pred\": \"Adelie\"}, {\"flipper_length_mm\": 186.95652173913044, \"bill_length_mm\": 37.391304347826086, \"pred\": \"Adelie\"}, {\"flipper_length_mm\": 186.95652173913044, \"bill_length_mm\": 37.82608695652174, \"pred\": \"Adelie\"}, {\"flipper_length_mm\": 186.95652173913044, \"bill_length_mm\": 38.26086956521739, \"pred\": \"Adelie\"}, {\"flipper_length_mm\": 186.95652173913044, \"bill_length_mm\": 38.69565217391305, \"pred\": \"Adelie\"}, {\"flipper_length_mm\": 186.95652173913044, \"bill_length_mm\": 39.130434782608695, \"pred\": \"Adelie\"}, {\"flipper_length_mm\": 186.95652173913044, \"bill_length_mm\": 39.565217391304344, \"pred\": \"Adelie\"}, {\"flipper_length_mm\": 186.95652173913044, \"bill_length_mm\": 40.0, \"pred\": \"Adelie\"}, {\"flipper_length_mm\": 186.95652173913044, \"bill_length_mm\": 40.434782608695656, \"pred\": \"Adelie\"}, {\"flipper_length_mm\": 186.95652173913044, \"bill_length_mm\": 40.869565217391305, \"pred\": \"Adelie\"}, {\"flipper_length_mm\": 186.95652173913044, \"bill_length_mm\": 41.30434782608695, \"pred\": \"Adelie\"}, {\"flipper_length_mm\": 186.95652173913044, \"bill_length_mm\": 41.73913043478261, \"pred\": \"Adelie\"}, {\"flipper_length_mm\": 186.95652173913044, \"bill_length_mm\": 42.17391304347826, \"pred\": \"Adelie\"}, {\"flipper_length_mm\": 186.95652173913044, \"bill_length_mm\": 42.608695652173914, \"pred\": \"Adelie\"}, {\"flipper_length_mm\": 186.95652173913044, \"bill_length_mm\": 43.04347826086956, \"pred\": \"Adelie\"}, {\"flipper_length_mm\": 186.95652173913044, \"bill_length_mm\": 43.47826086956522, \"pred\": \"Chinstrap\"}, {\"flipper_length_mm\": 186.95652173913044, \"bill_length_mm\": 43.91304347826087, \"pred\": \"Chinstrap\"}, {\"flipper_length_mm\": 186.95652173913044, \"bill_length_mm\": 44.34782608695652, \"pred\": \"Chinstrap\"}, {\"flipper_length_mm\": 186.95652173913044, \"bill_length_mm\": 44.78260869565217, \"pred\": \"Chinstrap\"}, {\"flipper_length_mm\": 186.95652173913044, \"bill_length_mm\": 45.21739130434783, \"pred\": \"Chinstrap\"}, {\"flipper_length_mm\": 186.95652173913044, \"bill_length_mm\": 45.65217391304348, \"pred\": \"Chinstrap\"}, {\"flipper_length_mm\": 186.95652173913044, \"bill_length_mm\": 46.086956521739125, \"pred\": \"Chinstrap\"}, {\"flipper_length_mm\": 186.95652173913044, \"bill_length_mm\": 46.52173913043478, \"pred\": \"Chinstrap\"}, {\"flipper_length_mm\": 186.95652173913044, \"bill_length_mm\": 46.95652173913044, \"pred\": \"Chinstrap\"}, {\"flipper_length_mm\": 186.95652173913044, \"bill_length_mm\": 47.391304347826086, \"pred\": \"Chinstrap\"}, {\"flipper_length_mm\": 186.95652173913044, \"bill_length_mm\": 47.826086956521735, \"pred\": \"Chinstrap\"}, {\"flipper_length_mm\": 186.95652173913044, \"bill_length_mm\": 48.26086956521739, \"pred\": \"Chinstrap\"}, {\"flipper_length_mm\": 186.95652173913044, \"bill_length_mm\": 48.69565217391305, \"pred\": \"Chinstrap\"}, {\"flipper_length_mm\": 186.95652173913044, \"bill_length_mm\": 49.130434782608695, \"pred\": \"Chinstrap\"}, {\"flipper_length_mm\": 186.95652173913044, \"bill_length_mm\": 49.565217391304344, \"pred\": \"Chinstrap\"}, {\"flipper_length_mm\": 186.95652173913044, \"bill_length_mm\": 50.0, \"pred\": \"Chinstrap\"}, {\"flipper_length_mm\": 186.95652173913044, \"bill_length_mm\": 50.434782608695656, \"pred\": \"Chinstrap\"}, {\"flipper_length_mm\": 186.95652173913044, \"bill_length_mm\": 50.869565217391305, \"pred\": \"Chinstrap\"}, {\"flipper_length_mm\": 186.95652173913044, \"bill_length_mm\": 51.30434782608695, \"pred\": \"Chinstrap\"}, {\"flipper_length_mm\": 186.95652173913044, \"bill_length_mm\": 51.73913043478261, \"pred\": \"Chinstrap\"}, {\"flipper_length_mm\": 186.95652173913044, \"bill_length_mm\": 52.173913043478265, \"pred\": \"Chinstrap\"}, {\"flipper_length_mm\": 186.95652173913044, \"bill_length_mm\": 52.608695652173914, \"pred\": \"Chinstrap\"}, {\"flipper_length_mm\": 186.95652173913044, \"bill_length_mm\": 53.04347826086956, \"pred\": \"Chinstrap\"}, {\"flipper_length_mm\": 186.95652173913044, \"bill_length_mm\": 53.47826086956522, \"pred\": \"Chinstrap\"}, {\"flipper_length_mm\": 186.95652173913044, \"bill_length_mm\": 53.91304347826087, \"pred\": \"Chinstrap\"}, {\"flipper_length_mm\": 186.95652173913044, \"bill_length_mm\": 54.347826086956516, \"pred\": \"Chinstrap\"}, {\"flipper_length_mm\": 186.95652173913044, \"bill_length_mm\": 54.78260869565217, \"pred\": \"Chinstrap\"}, {\"flipper_length_mm\": 186.95652173913044, \"bill_length_mm\": 55.21739130434783, \"pred\": \"Chinstrap\"}, {\"flipper_length_mm\": 186.95652173913044, \"bill_length_mm\": 55.65217391304348, \"pred\": \"Chinstrap\"}, {\"flipper_length_mm\": 186.95652173913044, \"bill_length_mm\": 56.086956521739125, \"pred\": \"Chinstrap\"}, {\"flipper_length_mm\": 186.95652173913044, \"bill_length_mm\": 56.52173913043478, \"pred\": \"Chinstrap\"}, {\"flipper_length_mm\": 186.95652173913044, \"bill_length_mm\": 56.95652173913044, \"pred\": \"Chinstrap\"}, {\"flipper_length_mm\": 186.95652173913044, \"bill_length_mm\": 57.391304347826086, \"pred\": \"Chinstrap\"}, {\"flipper_length_mm\": 186.95652173913044, \"bill_length_mm\": 57.826086956521735, \"pred\": \"Chinstrap\"}, {\"flipper_length_mm\": 186.95652173913044, \"bill_length_mm\": 58.26086956521739, \"pred\": \"Chinstrap\"}, {\"flipper_length_mm\": 186.95652173913044, \"bill_length_mm\": 58.69565217391305, \"pred\": \"Chinstrap\"}, {\"flipper_length_mm\": 186.95652173913044, \"bill_length_mm\": 59.130434782608695, \"pred\": \"Chinstrap\"}, {\"flipper_length_mm\": 186.95652173913044, \"bill_length_mm\": 59.565217391304344, \"pred\": \"Chinstrap\"}, {\"flipper_length_mm\": 186.95652173913044, \"bill_length_mm\": 60.0, \"pred\": \"Chinstrap\"}, {\"flipper_length_mm\": 187.8985507246377, \"bill_length_mm\": 30.0, \"pred\": \"Adelie\"}, {\"flipper_length_mm\": 187.8985507246377, \"bill_length_mm\": 30.434782608695652, \"pred\": \"Adelie\"}, {\"flipper_length_mm\": 187.8985507246377, \"bill_length_mm\": 30.869565217391305, \"pred\": \"Adelie\"}, {\"flipper_length_mm\": 187.8985507246377, \"bill_length_mm\": 31.304347826086957, \"pred\": \"Adelie\"}, {\"flipper_length_mm\": 187.8985507246377, \"bill_length_mm\": 31.73913043478261, \"pred\": \"Adelie\"}, {\"flipper_length_mm\": 187.8985507246377, \"bill_length_mm\": 32.17391304347826, \"pred\": \"Adelie\"}, {\"flipper_length_mm\": 187.8985507246377, \"bill_length_mm\": 32.608695652173914, \"pred\": \"Adelie\"}, {\"flipper_length_mm\": 187.8985507246377, \"bill_length_mm\": 33.04347826086956, \"pred\": \"Adelie\"}, {\"flipper_length_mm\": 187.8985507246377, \"bill_length_mm\": 33.47826086956522, \"pred\": \"Adelie\"}, {\"flipper_length_mm\": 187.8985507246377, \"bill_length_mm\": 33.91304347826087, \"pred\": \"Adelie\"}, {\"flipper_length_mm\": 187.8985507246377, \"bill_length_mm\": 34.34782608695652, \"pred\": \"Adelie\"}, {\"flipper_length_mm\": 187.8985507246377, \"bill_length_mm\": 34.78260869565217, \"pred\": \"Adelie\"}, {\"flipper_length_mm\": 187.8985507246377, \"bill_length_mm\": 35.21739130434783, \"pred\": \"Adelie\"}, {\"flipper_length_mm\": 187.8985507246377, \"bill_length_mm\": 35.65217391304348, \"pred\": \"Adelie\"}, {\"flipper_length_mm\": 187.8985507246377, \"bill_length_mm\": 36.08695652173913, \"pred\": \"Adelie\"}, {\"flipper_length_mm\": 187.8985507246377, \"bill_length_mm\": 36.52173913043478, \"pred\": \"Adelie\"}, {\"flipper_length_mm\": 187.8985507246377, \"bill_length_mm\": 36.95652173913044, \"pred\": \"Adelie\"}, {\"flipper_length_mm\": 187.8985507246377, \"bill_length_mm\": 37.391304347826086, \"pred\": \"Adelie\"}, {\"flipper_length_mm\": 187.8985507246377, \"bill_length_mm\": 37.82608695652174, \"pred\": \"Adelie\"}, {\"flipper_length_mm\": 187.8985507246377, \"bill_length_mm\": 38.26086956521739, \"pred\": \"Adelie\"}, {\"flipper_length_mm\": 187.8985507246377, \"bill_length_mm\": 38.69565217391305, \"pred\": \"Adelie\"}, {\"flipper_length_mm\": 187.8985507246377, \"bill_length_mm\": 39.130434782608695, \"pred\": \"Adelie\"}, {\"flipper_length_mm\": 187.8985507246377, \"bill_length_mm\": 39.565217391304344, \"pred\": \"Adelie\"}, {\"flipper_length_mm\": 187.8985507246377, \"bill_length_mm\": 40.0, \"pred\": \"Adelie\"}, {\"flipper_length_mm\": 187.8985507246377, \"bill_length_mm\": 40.434782608695656, \"pred\": \"Adelie\"}, {\"flipper_length_mm\": 187.8985507246377, \"bill_length_mm\": 40.869565217391305, \"pred\": \"Adelie\"}, {\"flipper_length_mm\": 187.8985507246377, \"bill_length_mm\": 41.30434782608695, \"pred\": \"Adelie\"}, {\"flipper_length_mm\": 187.8985507246377, \"bill_length_mm\": 41.73913043478261, \"pred\": \"Adelie\"}, {\"flipper_length_mm\": 187.8985507246377, \"bill_length_mm\": 42.17391304347826, \"pred\": \"Adelie\"}, {\"flipper_length_mm\": 187.8985507246377, \"bill_length_mm\": 42.608695652173914, \"pred\": \"Adelie\"}, {\"flipper_length_mm\": 187.8985507246377, \"bill_length_mm\": 43.04347826086956, \"pred\": \"Adelie\"}, {\"flipper_length_mm\": 187.8985507246377, \"bill_length_mm\": 43.47826086956522, \"pred\": \"Adelie\"}, {\"flipper_length_mm\": 187.8985507246377, \"bill_length_mm\": 43.91304347826087, \"pred\": \"Chinstrap\"}, {\"flipper_length_mm\": 187.8985507246377, \"bill_length_mm\": 44.34782608695652, \"pred\": \"Chinstrap\"}, {\"flipper_length_mm\": 187.8985507246377, \"bill_length_mm\": 44.78260869565217, \"pred\": \"Chinstrap\"}, {\"flipper_length_mm\": 187.8985507246377, \"bill_length_mm\": 45.21739130434783, \"pred\": \"Chinstrap\"}, {\"flipper_length_mm\": 187.8985507246377, \"bill_length_mm\": 45.65217391304348, \"pred\": \"Chinstrap\"}, {\"flipper_length_mm\": 187.8985507246377, \"bill_length_mm\": 46.086956521739125, \"pred\": \"Chinstrap\"}, {\"flipper_length_mm\": 187.8985507246377, \"bill_length_mm\": 46.52173913043478, \"pred\": \"Chinstrap\"}, {\"flipper_length_mm\": 187.8985507246377, \"bill_length_mm\": 46.95652173913044, \"pred\": \"Chinstrap\"}, {\"flipper_length_mm\": 187.8985507246377, \"bill_length_mm\": 47.391304347826086, \"pred\": \"Chinstrap\"}, {\"flipper_length_mm\": 187.8985507246377, \"bill_length_mm\": 47.826086956521735, \"pred\": \"Chinstrap\"}, {\"flipper_length_mm\": 187.8985507246377, \"bill_length_mm\": 48.26086956521739, \"pred\": \"Chinstrap\"}, {\"flipper_length_mm\": 187.8985507246377, \"bill_length_mm\": 48.69565217391305, \"pred\": \"Chinstrap\"}, {\"flipper_length_mm\": 187.8985507246377, \"bill_length_mm\": 49.130434782608695, \"pred\": \"Chinstrap\"}, {\"flipper_length_mm\": 187.8985507246377, \"bill_length_mm\": 49.565217391304344, \"pred\": \"Chinstrap\"}, {\"flipper_length_mm\": 187.8985507246377, \"bill_length_mm\": 50.0, \"pred\": \"Chinstrap\"}, {\"flipper_length_mm\": 187.8985507246377, \"bill_length_mm\": 50.434782608695656, \"pred\": \"Chinstrap\"}, {\"flipper_length_mm\": 187.8985507246377, \"bill_length_mm\": 50.869565217391305, \"pred\": \"Chinstrap\"}, {\"flipper_length_mm\": 187.8985507246377, \"bill_length_mm\": 51.30434782608695, \"pred\": \"Chinstrap\"}, {\"flipper_length_mm\": 187.8985507246377, \"bill_length_mm\": 51.73913043478261, \"pred\": \"Chinstrap\"}, {\"flipper_length_mm\": 187.8985507246377, \"bill_length_mm\": 52.173913043478265, \"pred\": \"Chinstrap\"}, {\"flipper_length_mm\": 187.8985507246377, \"bill_length_mm\": 52.608695652173914, \"pred\": \"Chinstrap\"}, {\"flipper_length_mm\": 187.8985507246377, \"bill_length_mm\": 53.04347826086956, \"pred\": \"Chinstrap\"}, {\"flipper_length_mm\": 187.8985507246377, \"bill_length_mm\": 53.47826086956522, \"pred\": \"Chinstrap\"}, {\"flipper_length_mm\": 187.8985507246377, \"bill_length_mm\": 53.91304347826087, \"pred\": \"Chinstrap\"}, {\"flipper_length_mm\": 187.8985507246377, \"bill_length_mm\": 54.347826086956516, \"pred\": \"Chinstrap\"}, {\"flipper_length_mm\": 187.8985507246377, \"bill_length_mm\": 54.78260869565217, \"pred\": \"Chinstrap\"}, {\"flipper_length_mm\": 187.8985507246377, \"bill_length_mm\": 55.21739130434783, \"pred\": \"Chinstrap\"}, {\"flipper_length_mm\": 187.8985507246377, \"bill_length_mm\": 55.65217391304348, \"pred\": \"Chinstrap\"}, {\"flipper_length_mm\": 187.8985507246377, \"bill_length_mm\": 56.086956521739125, \"pred\": \"Chinstrap\"}, {\"flipper_length_mm\": 187.8985507246377, \"bill_length_mm\": 56.52173913043478, \"pred\": \"Chinstrap\"}, {\"flipper_length_mm\": 187.8985507246377, \"bill_length_mm\": 56.95652173913044, \"pred\": \"Chinstrap\"}, {\"flipper_length_mm\": 187.8985507246377, \"bill_length_mm\": 57.391304347826086, \"pred\": \"Chinstrap\"}, {\"flipper_length_mm\": 187.8985507246377, \"bill_length_mm\": 57.826086956521735, \"pred\": \"Chinstrap\"}, {\"flipper_length_mm\": 187.8985507246377, \"bill_length_mm\": 58.26086956521739, \"pred\": \"Chinstrap\"}, {\"flipper_length_mm\": 187.8985507246377, \"bill_length_mm\": 58.69565217391305, \"pred\": \"Chinstrap\"}, {\"flipper_length_mm\": 187.8985507246377, \"bill_length_mm\": 59.130434782608695, \"pred\": \"Chinstrap\"}, {\"flipper_length_mm\": 187.8985507246377, \"bill_length_mm\": 59.565217391304344, \"pred\": \"Chinstrap\"}, {\"flipper_length_mm\": 187.8985507246377, \"bill_length_mm\": 60.0, \"pred\": \"Chinstrap\"}, {\"flipper_length_mm\": 188.84057971014494, \"bill_length_mm\": 30.0, \"pred\": \"Adelie\"}, {\"flipper_length_mm\": 188.84057971014494, \"bill_length_mm\": 30.434782608695652, \"pred\": \"Adelie\"}, {\"flipper_length_mm\": 188.84057971014494, \"bill_length_mm\": 30.869565217391305, \"pred\": \"Adelie\"}, {\"flipper_length_mm\": 188.84057971014494, \"bill_length_mm\": 31.304347826086957, \"pred\": \"Adelie\"}, {\"flipper_length_mm\": 188.84057971014494, \"bill_length_mm\": 31.73913043478261, \"pred\": \"Adelie\"}, {\"flipper_length_mm\": 188.84057971014494, \"bill_length_mm\": 32.17391304347826, \"pred\": \"Adelie\"}, {\"flipper_length_mm\": 188.84057971014494, \"bill_length_mm\": 32.608695652173914, \"pred\": \"Adelie\"}, {\"flipper_length_mm\": 188.84057971014494, \"bill_length_mm\": 33.04347826086956, \"pred\": \"Adelie\"}, {\"flipper_length_mm\": 188.84057971014494, \"bill_length_mm\": 33.47826086956522, \"pred\": \"Adelie\"}, {\"flipper_length_mm\": 188.84057971014494, \"bill_length_mm\": 33.91304347826087, \"pred\": \"Adelie\"}, {\"flipper_length_mm\": 188.84057971014494, \"bill_length_mm\": 34.34782608695652, \"pred\": \"Adelie\"}, {\"flipper_length_mm\": 188.84057971014494, \"bill_length_mm\": 34.78260869565217, \"pred\": \"Adelie\"}, {\"flipper_length_mm\": 188.84057971014494, \"bill_length_mm\": 35.21739130434783, \"pred\": \"Adelie\"}, {\"flipper_length_mm\": 188.84057971014494, \"bill_length_mm\": 35.65217391304348, \"pred\": \"Adelie\"}, {\"flipper_length_mm\": 188.84057971014494, \"bill_length_mm\": 36.08695652173913, \"pred\": \"Adelie\"}, {\"flipper_length_mm\": 188.84057971014494, \"bill_length_mm\": 36.52173913043478, \"pred\": \"Adelie\"}, {\"flipper_length_mm\": 188.84057971014494, \"bill_length_mm\": 36.95652173913044, \"pred\": \"Adelie\"}, {\"flipper_length_mm\": 188.84057971014494, \"bill_length_mm\": 37.391304347826086, \"pred\": \"Adelie\"}, {\"flipper_length_mm\": 188.84057971014494, \"bill_length_mm\": 37.82608695652174, \"pred\": \"Adelie\"}, {\"flipper_length_mm\": 188.84057971014494, \"bill_length_mm\": 38.26086956521739, \"pred\": \"Adelie\"}, {\"flipper_length_mm\": 188.84057971014494, \"bill_length_mm\": 38.69565217391305, \"pred\": \"Adelie\"}, {\"flipper_length_mm\": 188.84057971014494, \"bill_length_mm\": 39.130434782608695, \"pred\": \"Adelie\"}, {\"flipper_length_mm\": 188.84057971014494, \"bill_length_mm\": 39.565217391304344, \"pred\": \"Adelie\"}, {\"flipper_length_mm\": 188.84057971014494, \"bill_length_mm\": 40.0, \"pred\": \"Adelie\"}, {\"flipper_length_mm\": 188.84057971014494, \"bill_length_mm\": 40.434782608695656, \"pred\": \"Adelie\"}, {\"flipper_length_mm\": 188.84057971014494, \"bill_length_mm\": 40.869565217391305, \"pred\": \"Adelie\"}, {\"flipper_length_mm\": 188.84057971014494, \"bill_length_mm\": 41.30434782608695, \"pred\": \"Adelie\"}, {\"flipper_length_mm\": 188.84057971014494, \"bill_length_mm\": 41.73913043478261, \"pred\": \"Adelie\"}, {\"flipper_length_mm\": 188.84057971014494, \"bill_length_mm\": 42.17391304347826, \"pred\": \"Adelie\"}, {\"flipper_length_mm\": 188.84057971014494, \"bill_length_mm\": 42.608695652173914, \"pred\": \"Adelie\"}, {\"flipper_length_mm\": 188.84057971014494, \"bill_length_mm\": 43.04347826086956, \"pred\": \"Adelie\"}, {\"flipper_length_mm\": 188.84057971014494, \"bill_length_mm\": 43.47826086956522, \"pred\": \"Adelie\"}, {\"flipper_length_mm\": 188.84057971014494, \"bill_length_mm\": 43.91304347826087, \"pred\": \"Chinstrap\"}, {\"flipper_length_mm\": 188.84057971014494, \"bill_length_mm\": 44.34782608695652, \"pred\": \"Chinstrap\"}, {\"flipper_length_mm\": 188.84057971014494, \"bill_length_mm\": 44.78260869565217, \"pred\": \"Chinstrap\"}, {\"flipper_length_mm\": 188.84057971014494, \"bill_length_mm\": 45.21739130434783, \"pred\": \"Chinstrap\"}, {\"flipper_length_mm\": 188.84057971014494, \"bill_length_mm\": 45.65217391304348, \"pred\": \"Chinstrap\"}, {\"flipper_length_mm\": 188.84057971014494, \"bill_length_mm\": 46.086956521739125, \"pred\": \"Chinstrap\"}, {\"flipper_length_mm\": 188.84057971014494, \"bill_length_mm\": 46.52173913043478, \"pred\": \"Chinstrap\"}, {\"flipper_length_mm\": 188.84057971014494, \"bill_length_mm\": 46.95652173913044, \"pred\": \"Chinstrap\"}, {\"flipper_length_mm\": 188.84057971014494, \"bill_length_mm\": 47.391304347826086, \"pred\": \"Chinstrap\"}, {\"flipper_length_mm\": 188.84057971014494, \"bill_length_mm\": 47.826086956521735, \"pred\": \"Chinstrap\"}, {\"flipper_length_mm\": 188.84057971014494, \"bill_length_mm\": 48.26086956521739, \"pred\": \"Chinstrap\"}, {\"flipper_length_mm\": 188.84057971014494, \"bill_length_mm\": 48.69565217391305, \"pred\": \"Chinstrap\"}, {\"flipper_length_mm\": 188.84057971014494, \"bill_length_mm\": 49.130434782608695, \"pred\": \"Chinstrap\"}, {\"flipper_length_mm\": 188.84057971014494, \"bill_length_mm\": 49.565217391304344, \"pred\": \"Chinstrap\"}, {\"flipper_length_mm\": 188.84057971014494, \"bill_length_mm\": 50.0, \"pred\": \"Chinstrap\"}, {\"flipper_length_mm\": 188.84057971014494, \"bill_length_mm\": 50.434782608695656, \"pred\": \"Chinstrap\"}, {\"flipper_length_mm\": 188.84057971014494, \"bill_length_mm\": 50.869565217391305, \"pred\": \"Chinstrap\"}, {\"flipper_length_mm\": 188.84057971014494, \"bill_length_mm\": 51.30434782608695, \"pred\": \"Chinstrap\"}, {\"flipper_length_mm\": 188.84057971014494, \"bill_length_mm\": 51.73913043478261, \"pred\": \"Chinstrap\"}, {\"flipper_length_mm\": 188.84057971014494, \"bill_length_mm\": 52.173913043478265, \"pred\": \"Chinstrap\"}, {\"flipper_length_mm\": 188.84057971014494, \"bill_length_mm\": 52.608695652173914, \"pred\": \"Chinstrap\"}, {\"flipper_length_mm\": 188.84057971014494, \"bill_length_mm\": 53.04347826086956, \"pred\": \"Chinstrap\"}, {\"flipper_length_mm\": 188.84057971014494, \"bill_length_mm\": 53.47826086956522, \"pred\": \"Chinstrap\"}, {\"flipper_length_mm\": 188.84057971014494, \"bill_length_mm\": 53.91304347826087, \"pred\": \"Chinstrap\"}, {\"flipper_length_mm\": 188.84057971014494, \"bill_length_mm\": 54.347826086956516, \"pred\": \"Chinstrap\"}, {\"flipper_length_mm\": 188.84057971014494, \"bill_length_mm\": 54.78260869565217, \"pred\": \"Chinstrap\"}, {\"flipper_length_mm\": 188.84057971014494, \"bill_length_mm\": 55.21739130434783, \"pred\": \"Chinstrap\"}, {\"flipper_length_mm\": 188.84057971014494, \"bill_length_mm\": 55.65217391304348, \"pred\": \"Chinstrap\"}, {\"flipper_length_mm\": 188.84057971014494, \"bill_length_mm\": 56.086956521739125, \"pred\": \"Chinstrap\"}, {\"flipper_length_mm\": 188.84057971014494, \"bill_length_mm\": 56.52173913043478, \"pred\": \"Chinstrap\"}, {\"flipper_length_mm\": 188.84057971014494, \"bill_length_mm\": 56.95652173913044, \"pred\": \"Chinstrap\"}, {\"flipper_length_mm\": 188.84057971014494, \"bill_length_mm\": 57.391304347826086, \"pred\": \"Chinstrap\"}, {\"flipper_length_mm\": 188.84057971014494, \"bill_length_mm\": 57.826086956521735, \"pred\": \"Chinstrap\"}, {\"flipper_length_mm\": 188.84057971014494, \"bill_length_mm\": 58.26086956521739, \"pred\": \"Chinstrap\"}, {\"flipper_length_mm\": 188.84057971014494, \"bill_length_mm\": 58.69565217391305, \"pred\": \"Chinstrap\"}, {\"flipper_length_mm\": 188.84057971014494, \"bill_length_mm\": 59.130434782608695, \"pred\": \"Chinstrap\"}, {\"flipper_length_mm\": 188.84057971014494, \"bill_length_mm\": 59.565217391304344, \"pred\": \"Chinstrap\"}, {\"flipper_length_mm\": 188.84057971014494, \"bill_length_mm\": 60.0, \"pred\": \"Chinstrap\"}, {\"flipper_length_mm\": 189.7826086956522, \"bill_length_mm\": 30.0, \"pred\": \"Adelie\"}, {\"flipper_length_mm\": 189.7826086956522, \"bill_length_mm\": 30.434782608695652, \"pred\": \"Adelie\"}, {\"flipper_length_mm\": 189.7826086956522, \"bill_length_mm\": 30.869565217391305, \"pred\": \"Adelie\"}, {\"flipper_length_mm\": 189.7826086956522, \"bill_length_mm\": 31.304347826086957, \"pred\": \"Adelie\"}, {\"flipper_length_mm\": 189.7826086956522, \"bill_length_mm\": 31.73913043478261, \"pred\": \"Adelie\"}, {\"flipper_length_mm\": 189.7826086956522, \"bill_length_mm\": 32.17391304347826, \"pred\": \"Adelie\"}, {\"flipper_length_mm\": 189.7826086956522, \"bill_length_mm\": 32.608695652173914, \"pred\": \"Adelie\"}, {\"flipper_length_mm\": 189.7826086956522, \"bill_length_mm\": 33.04347826086956, \"pred\": \"Adelie\"}, {\"flipper_length_mm\": 189.7826086956522, \"bill_length_mm\": 33.47826086956522, \"pred\": \"Adelie\"}, {\"flipper_length_mm\": 189.7826086956522, \"bill_length_mm\": 33.91304347826087, \"pred\": \"Adelie\"}, {\"flipper_length_mm\": 189.7826086956522, \"bill_length_mm\": 34.34782608695652, \"pred\": \"Adelie\"}, {\"flipper_length_mm\": 189.7826086956522, \"bill_length_mm\": 34.78260869565217, \"pred\": \"Adelie\"}, {\"flipper_length_mm\": 189.7826086956522, \"bill_length_mm\": 35.21739130434783, \"pred\": \"Adelie\"}, {\"flipper_length_mm\": 189.7826086956522, \"bill_length_mm\": 35.65217391304348, \"pred\": \"Adelie\"}, {\"flipper_length_mm\": 189.7826086956522, \"bill_length_mm\": 36.08695652173913, \"pred\": \"Adelie\"}, {\"flipper_length_mm\": 189.7826086956522, \"bill_length_mm\": 36.52173913043478, \"pred\": \"Adelie\"}, {\"flipper_length_mm\": 189.7826086956522, \"bill_length_mm\": 36.95652173913044, \"pred\": \"Adelie\"}, {\"flipper_length_mm\": 189.7826086956522, \"bill_length_mm\": 37.391304347826086, \"pred\": \"Adelie\"}, {\"flipper_length_mm\": 189.7826086956522, \"bill_length_mm\": 37.82608695652174, \"pred\": \"Adelie\"}, {\"flipper_length_mm\": 189.7826086956522, \"bill_length_mm\": 38.26086956521739, \"pred\": \"Adelie\"}, {\"flipper_length_mm\": 189.7826086956522, \"bill_length_mm\": 38.69565217391305, \"pred\": \"Adelie\"}, {\"flipper_length_mm\": 189.7826086956522, \"bill_length_mm\": 39.130434782608695, \"pred\": \"Adelie\"}, {\"flipper_length_mm\": 189.7826086956522, \"bill_length_mm\": 39.565217391304344, \"pred\": \"Adelie\"}, {\"flipper_length_mm\": 189.7826086956522, \"bill_length_mm\": 40.0, \"pred\": \"Adelie\"}, {\"flipper_length_mm\": 189.7826086956522, \"bill_length_mm\": 40.434782608695656, \"pred\": \"Adelie\"}, {\"flipper_length_mm\": 189.7826086956522, \"bill_length_mm\": 40.869565217391305, \"pred\": \"Adelie\"}, {\"flipper_length_mm\": 189.7826086956522, \"bill_length_mm\": 41.30434782608695, \"pred\": \"Adelie\"}, {\"flipper_length_mm\": 189.7826086956522, \"bill_length_mm\": 41.73913043478261, \"pred\": \"Adelie\"}, {\"flipper_length_mm\": 189.7826086956522, \"bill_length_mm\": 42.17391304347826, \"pred\": \"Adelie\"}, {\"flipper_length_mm\": 189.7826086956522, \"bill_length_mm\": 42.608695652173914, \"pred\": \"Adelie\"}, {\"flipper_length_mm\": 189.7826086956522, \"bill_length_mm\": 43.04347826086956, \"pred\": \"Adelie\"}, {\"flipper_length_mm\": 189.7826086956522, \"bill_length_mm\": 43.47826086956522, \"pred\": \"Adelie\"}, {\"flipper_length_mm\": 189.7826086956522, \"bill_length_mm\": 43.91304347826087, \"pred\": \"Chinstrap\"}, {\"flipper_length_mm\": 189.7826086956522, \"bill_length_mm\": 44.34782608695652, \"pred\": \"Chinstrap\"}, {\"flipper_length_mm\": 189.7826086956522, \"bill_length_mm\": 44.78260869565217, \"pred\": \"Chinstrap\"}, {\"flipper_length_mm\": 189.7826086956522, \"bill_length_mm\": 45.21739130434783, \"pred\": \"Chinstrap\"}, {\"flipper_length_mm\": 189.7826086956522, \"bill_length_mm\": 45.65217391304348, \"pred\": \"Chinstrap\"}, {\"flipper_length_mm\": 189.7826086956522, \"bill_length_mm\": 46.086956521739125, \"pred\": \"Chinstrap\"}, {\"flipper_length_mm\": 189.7826086956522, \"bill_length_mm\": 46.52173913043478, \"pred\": \"Chinstrap\"}, {\"flipper_length_mm\": 189.7826086956522, \"bill_length_mm\": 46.95652173913044, \"pred\": \"Chinstrap\"}, {\"flipper_length_mm\": 189.7826086956522, \"bill_length_mm\": 47.391304347826086, \"pred\": \"Chinstrap\"}, {\"flipper_length_mm\": 189.7826086956522, \"bill_length_mm\": 47.826086956521735, \"pred\": \"Chinstrap\"}, {\"flipper_length_mm\": 189.7826086956522, \"bill_length_mm\": 48.26086956521739, \"pred\": \"Chinstrap\"}, {\"flipper_length_mm\": 189.7826086956522, \"bill_length_mm\": 48.69565217391305, \"pred\": \"Chinstrap\"}, {\"flipper_length_mm\": 189.7826086956522, \"bill_length_mm\": 49.130434782608695, \"pred\": \"Chinstrap\"}, {\"flipper_length_mm\": 189.7826086956522, \"bill_length_mm\": 49.565217391304344, \"pred\": \"Chinstrap\"}, {\"flipper_length_mm\": 189.7826086956522, \"bill_length_mm\": 50.0, \"pred\": \"Chinstrap\"}, {\"flipper_length_mm\": 189.7826086956522, \"bill_length_mm\": 50.434782608695656, \"pred\": \"Chinstrap\"}, {\"flipper_length_mm\": 189.7826086956522, \"bill_length_mm\": 50.869565217391305, \"pred\": \"Chinstrap\"}, {\"flipper_length_mm\": 189.7826086956522, \"bill_length_mm\": 51.30434782608695, \"pred\": \"Chinstrap\"}, {\"flipper_length_mm\": 189.7826086956522, \"bill_length_mm\": 51.73913043478261, \"pred\": \"Chinstrap\"}, {\"flipper_length_mm\": 189.7826086956522, \"bill_length_mm\": 52.173913043478265, \"pred\": \"Chinstrap\"}, {\"flipper_length_mm\": 189.7826086956522, \"bill_length_mm\": 52.608695652173914, \"pred\": \"Chinstrap\"}, {\"flipper_length_mm\": 189.7826086956522, \"bill_length_mm\": 53.04347826086956, \"pred\": \"Chinstrap\"}, {\"flipper_length_mm\": 189.7826086956522, \"bill_length_mm\": 53.47826086956522, \"pred\": \"Chinstrap\"}, {\"flipper_length_mm\": 189.7826086956522, \"bill_length_mm\": 53.91304347826087, \"pred\": \"Chinstrap\"}, {\"flipper_length_mm\": 189.7826086956522, \"bill_length_mm\": 54.347826086956516, \"pred\": \"Chinstrap\"}, {\"flipper_length_mm\": 189.7826086956522, \"bill_length_mm\": 54.78260869565217, \"pred\": \"Chinstrap\"}, {\"flipper_length_mm\": 189.7826086956522, \"bill_length_mm\": 55.21739130434783, \"pred\": \"Chinstrap\"}, {\"flipper_length_mm\": 189.7826086956522, \"bill_length_mm\": 55.65217391304348, \"pred\": \"Chinstrap\"}, {\"flipper_length_mm\": 189.7826086956522, \"bill_length_mm\": 56.086956521739125, \"pred\": \"Chinstrap\"}, {\"flipper_length_mm\": 189.7826086956522, \"bill_length_mm\": 56.52173913043478, \"pred\": \"Chinstrap\"}, {\"flipper_length_mm\": 189.7826086956522, \"bill_length_mm\": 56.95652173913044, \"pred\": \"Chinstrap\"}, {\"flipper_length_mm\": 189.7826086956522, \"bill_length_mm\": 57.391304347826086, \"pred\": \"Chinstrap\"}, {\"flipper_length_mm\": 189.7826086956522, \"bill_length_mm\": 57.826086956521735, \"pred\": \"Chinstrap\"}, {\"flipper_length_mm\": 189.7826086956522, \"bill_length_mm\": 58.26086956521739, \"pred\": \"Chinstrap\"}, {\"flipper_length_mm\": 189.7826086956522, \"bill_length_mm\": 58.69565217391305, \"pred\": \"Chinstrap\"}, {\"flipper_length_mm\": 189.7826086956522, \"bill_length_mm\": 59.130434782608695, \"pred\": \"Chinstrap\"}, {\"flipper_length_mm\": 189.7826086956522, \"bill_length_mm\": 59.565217391304344, \"pred\": \"Chinstrap\"}, {\"flipper_length_mm\": 189.7826086956522, \"bill_length_mm\": 60.0, \"pred\": \"Chinstrap\"}, {\"flipper_length_mm\": 190.7246376811594, \"bill_length_mm\": 30.0, \"pred\": \"Adelie\"}, {\"flipper_length_mm\": 190.7246376811594, \"bill_length_mm\": 30.434782608695652, \"pred\": \"Adelie\"}, {\"flipper_length_mm\": 190.7246376811594, \"bill_length_mm\": 30.869565217391305, \"pred\": \"Adelie\"}, {\"flipper_length_mm\": 190.7246376811594, \"bill_length_mm\": 31.304347826086957, \"pred\": \"Adelie\"}, {\"flipper_length_mm\": 190.7246376811594, \"bill_length_mm\": 31.73913043478261, \"pred\": \"Adelie\"}, {\"flipper_length_mm\": 190.7246376811594, \"bill_length_mm\": 32.17391304347826, \"pred\": \"Adelie\"}, {\"flipper_length_mm\": 190.7246376811594, \"bill_length_mm\": 32.608695652173914, \"pred\": \"Adelie\"}, {\"flipper_length_mm\": 190.7246376811594, \"bill_length_mm\": 33.04347826086956, \"pred\": \"Adelie\"}, {\"flipper_length_mm\": 190.7246376811594, \"bill_length_mm\": 33.47826086956522, \"pred\": \"Adelie\"}, {\"flipper_length_mm\": 190.7246376811594, \"bill_length_mm\": 33.91304347826087, \"pred\": \"Adelie\"}, {\"flipper_length_mm\": 190.7246376811594, \"bill_length_mm\": 34.34782608695652, \"pred\": \"Adelie\"}, {\"flipper_length_mm\": 190.7246376811594, \"bill_length_mm\": 34.78260869565217, \"pred\": \"Adelie\"}, {\"flipper_length_mm\": 190.7246376811594, \"bill_length_mm\": 35.21739130434783, \"pred\": \"Adelie\"}, {\"flipper_length_mm\": 190.7246376811594, \"bill_length_mm\": 35.65217391304348, \"pred\": \"Adelie\"}, {\"flipper_length_mm\": 190.7246376811594, \"bill_length_mm\": 36.08695652173913, \"pred\": \"Adelie\"}, {\"flipper_length_mm\": 190.7246376811594, \"bill_length_mm\": 36.52173913043478, \"pred\": \"Adelie\"}, {\"flipper_length_mm\": 190.7246376811594, \"bill_length_mm\": 36.95652173913044, \"pred\": \"Adelie\"}, {\"flipper_length_mm\": 190.7246376811594, \"bill_length_mm\": 37.391304347826086, \"pred\": \"Adelie\"}, {\"flipper_length_mm\": 190.7246376811594, \"bill_length_mm\": 37.82608695652174, \"pred\": \"Adelie\"}, {\"flipper_length_mm\": 190.7246376811594, \"bill_length_mm\": 38.26086956521739, \"pred\": \"Adelie\"}, {\"flipper_length_mm\": 190.7246376811594, \"bill_length_mm\": 38.69565217391305, \"pred\": \"Adelie\"}, {\"flipper_length_mm\": 190.7246376811594, \"bill_length_mm\": 39.130434782608695, \"pred\": \"Adelie\"}, {\"flipper_length_mm\": 190.7246376811594, \"bill_length_mm\": 39.565217391304344, \"pred\": \"Adelie\"}, {\"flipper_length_mm\": 190.7246376811594, \"bill_length_mm\": 40.0, \"pred\": \"Adelie\"}, {\"flipper_length_mm\": 190.7246376811594, \"bill_length_mm\": 40.434782608695656, \"pred\": \"Adelie\"}, {\"flipper_length_mm\": 190.7246376811594, \"bill_length_mm\": 40.869565217391305, \"pred\": \"Adelie\"}, {\"flipper_length_mm\": 190.7246376811594, \"bill_length_mm\": 41.30434782608695, \"pred\": \"Adelie\"}, {\"flipper_length_mm\": 190.7246376811594, \"bill_length_mm\": 41.73913043478261, \"pred\": \"Adelie\"}, {\"flipper_length_mm\": 190.7246376811594, \"bill_length_mm\": 42.17391304347826, \"pred\": \"Adelie\"}, {\"flipper_length_mm\": 190.7246376811594, \"bill_length_mm\": 42.608695652173914, \"pred\": \"Adelie\"}, {\"flipper_length_mm\": 190.7246376811594, \"bill_length_mm\": 43.04347826086956, \"pred\": \"Adelie\"}, {\"flipper_length_mm\": 190.7246376811594, \"bill_length_mm\": 43.47826086956522, \"pred\": \"Adelie\"}, {\"flipper_length_mm\": 190.7246376811594, \"bill_length_mm\": 43.91304347826087, \"pred\": \"Chinstrap\"}, {\"flipper_length_mm\": 190.7246376811594, \"bill_length_mm\": 44.34782608695652, \"pred\": \"Chinstrap\"}, {\"flipper_length_mm\": 190.7246376811594, \"bill_length_mm\": 44.78260869565217, \"pred\": \"Chinstrap\"}, {\"flipper_length_mm\": 190.7246376811594, \"bill_length_mm\": 45.21739130434783, \"pred\": \"Chinstrap\"}, {\"flipper_length_mm\": 190.7246376811594, \"bill_length_mm\": 45.65217391304348, \"pred\": \"Chinstrap\"}, {\"flipper_length_mm\": 190.7246376811594, \"bill_length_mm\": 46.086956521739125, \"pred\": \"Chinstrap\"}, {\"flipper_length_mm\": 190.7246376811594, \"bill_length_mm\": 46.52173913043478, \"pred\": \"Chinstrap\"}, {\"flipper_length_mm\": 190.7246376811594, \"bill_length_mm\": 46.95652173913044, \"pred\": \"Chinstrap\"}, {\"flipper_length_mm\": 190.7246376811594, \"bill_length_mm\": 47.391304347826086, \"pred\": \"Chinstrap\"}, {\"flipper_length_mm\": 190.7246376811594, \"bill_length_mm\": 47.826086956521735, \"pred\": \"Chinstrap\"}, {\"flipper_length_mm\": 190.7246376811594, \"bill_length_mm\": 48.26086956521739, \"pred\": \"Chinstrap\"}, {\"flipper_length_mm\": 190.7246376811594, \"bill_length_mm\": 48.69565217391305, \"pred\": \"Chinstrap\"}, {\"flipper_length_mm\": 190.7246376811594, \"bill_length_mm\": 49.130434782608695, \"pred\": \"Chinstrap\"}, {\"flipper_length_mm\": 190.7246376811594, \"bill_length_mm\": 49.565217391304344, \"pred\": \"Chinstrap\"}, {\"flipper_length_mm\": 190.7246376811594, \"bill_length_mm\": 50.0, \"pred\": \"Chinstrap\"}, {\"flipper_length_mm\": 190.7246376811594, \"bill_length_mm\": 50.434782608695656, \"pred\": \"Chinstrap\"}, {\"flipper_length_mm\": 190.7246376811594, \"bill_length_mm\": 50.869565217391305, \"pred\": \"Chinstrap\"}, {\"flipper_length_mm\": 190.7246376811594, \"bill_length_mm\": 51.30434782608695, \"pred\": \"Chinstrap\"}, {\"flipper_length_mm\": 190.7246376811594, \"bill_length_mm\": 51.73913043478261, \"pred\": \"Chinstrap\"}, {\"flipper_length_mm\": 190.7246376811594, \"bill_length_mm\": 52.173913043478265, \"pred\": \"Chinstrap\"}, {\"flipper_length_mm\": 190.7246376811594, \"bill_length_mm\": 52.608695652173914, \"pred\": \"Chinstrap\"}, {\"flipper_length_mm\": 190.7246376811594, \"bill_length_mm\": 53.04347826086956, \"pred\": \"Chinstrap\"}, {\"flipper_length_mm\": 190.7246376811594, \"bill_length_mm\": 53.47826086956522, \"pred\": \"Chinstrap\"}, {\"flipper_length_mm\": 190.7246376811594, \"bill_length_mm\": 53.91304347826087, \"pred\": \"Chinstrap\"}, {\"flipper_length_mm\": 190.7246376811594, \"bill_length_mm\": 54.347826086956516, \"pred\": \"Chinstrap\"}, {\"flipper_length_mm\": 190.7246376811594, \"bill_length_mm\": 54.78260869565217, \"pred\": \"Chinstrap\"}, {\"flipper_length_mm\": 190.7246376811594, \"bill_length_mm\": 55.21739130434783, \"pred\": \"Chinstrap\"}, {\"flipper_length_mm\": 190.7246376811594, \"bill_length_mm\": 55.65217391304348, \"pred\": \"Chinstrap\"}, {\"flipper_length_mm\": 190.7246376811594, \"bill_length_mm\": 56.086956521739125, \"pred\": \"Chinstrap\"}, {\"flipper_length_mm\": 190.7246376811594, \"bill_length_mm\": 56.52173913043478, \"pred\": \"Chinstrap\"}, {\"flipper_length_mm\": 190.7246376811594, \"bill_length_mm\": 56.95652173913044, \"pred\": \"Chinstrap\"}, {\"flipper_length_mm\": 190.7246376811594, \"bill_length_mm\": 57.391304347826086, \"pred\": \"Chinstrap\"}, {\"flipper_length_mm\": 190.7246376811594, \"bill_length_mm\": 57.826086956521735, \"pred\": \"Chinstrap\"}, {\"flipper_length_mm\": 190.7246376811594, \"bill_length_mm\": 58.26086956521739, \"pred\": \"Chinstrap\"}, {\"flipper_length_mm\": 190.7246376811594, \"bill_length_mm\": 58.69565217391305, \"pred\": \"Chinstrap\"}, {\"flipper_length_mm\": 190.7246376811594, \"bill_length_mm\": 59.130434782608695, \"pred\": \"Chinstrap\"}, {\"flipper_length_mm\": 190.7246376811594, \"bill_length_mm\": 59.565217391304344, \"pred\": \"Chinstrap\"}, {\"flipper_length_mm\": 190.7246376811594, \"bill_length_mm\": 60.0, \"pred\": \"Chinstrap\"}, {\"flipper_length_mm\": 191.66666666666666, \"bill_length_mm\": 30.0, \"pred\": \"Adelie\"}, {\"flipper_length_mm\": 191.66666666666666, \"bill_length_mm\": 30.434782608695652, \"pred\": \"Adelie\"}, {\"flipper_length_mm\": 191.66666666666666, \"bill_length_mm\": 30.869565217391305, \"pred\": \"Adelie\"}, {\"flipper_length_mm\": 191.66666666666666, \"bill_length_mm\": 31.304347826086957, \"pred\": \"Adelie\"}, {\"flipper_length_mm\": 191.66666666666666, \"bill_length_mm\": 31.73913043478261, \"pred\": \"Adelie\"}, {\"flipper_length_mm\": 191.66666666666666, \"bill_length_mm\": 32.17391304347826, \"pred\": \"Adelie\"}, {\"flipper_length_mm\": 191.66666666666666, \"bill_length_mm\": 32.608695652173914, \"pred\": \"Adelie\"}, {\"flipper_length_mm\": 191.66666666666666, \"bill_length_mm\": 33.04347826086956, \"pred\": \"Adelie\"}, {\"flipper_length_mm\": 191.66666666666666, \"bill_length_mm\": 33.47826086956522, \"pred\": \"Adelie\"}, {\"flipper_length_mm\": 191.66666666666666, \"bill_length_mm\": 33.91304347826087, \"pred\": \"Adelie\"}, {\"flipper_length_mm\": 191.66666666666666, \"bill_length_mm\": 34.34782608695652, \"pred\": \"Adelie\"}, {\"flipper_length_mm\": 191.66666666666666, \"bill_length_mm\": 34.78260869565217, \"pred\": \"Adelie\"}, {\"flipper_length_mm\": 191.66666666666666, \"bill_length_mm\": 35.21739130434783, \"pred\": \"Adelie\"}, {\"flipper_length_mm\": 191.66666666666666, \"bill_length_mm\": 35.65217391304348, \"pred\": \"Adelie\"}, {\"flipper_length_mm\": 191.66666666666666, \"bill_length_mm\": 36.08695652173913, \"pred\": \"Adelie\"}, {\"flipper_length_mm\": 191.66666666666666, \"bill_length_mm\": 36.52173913043478, \"pred\": \"Adelie\"}, {\"flipper_length_mm\": 191.66666666666666, \"bill_length_mm\": 36.95652173913044, \"pred\": \"Adelie\"}, {\"flipper_length_mm\": 191.66666666666666, \"bill_length_mm\": 37.391304347826086, \"pred\": \"Adelie\"}, {\"flipper_length_mm\": 191.66666666666666, \"bill_length_mm\": 37.82608695652174, \"pred\": \"Adelie\"}, {\"flipper_length_mm\": 191.66666666666666, \"bill_length_mm\": 38.26086956521739, \"pred\": \"Adelie\"}, {\"flipper_length_mm\": 191.66666666666666, \"bill_length_mm\": 38.69565217391305, \"pred\": \"Adelie\"}, {\"flipper_length_mm\": 191.66666666666666, \"bill_length_mm\": 39.130434782608695, \"pred\": \"Adelie\"}, {\"flipper_length_mm\": 191.66666666666666, \"bill_length_mm\": 39.565217391304344, \"pred\": \"Adelie\"}, {\"flipper_length_mm\": 191.66666666666666, \"bill_length_mm\": 40.0, \"pred\": \"Adelie\"}, {\"flipper_length_mm\": 191.66666666666666, \"bill_length_mm\": 40.434782608695656, \"pred\": \"Adelie\"}, {\"flipper_length_mm\": 191.66666666666666, \"bill_length_mm\": 40.869565217391305, \"pred\": \"Adelie\"}, {\"flipper_length_mm\": 191.66666666666666, \"bill_length_mm\": 41.30434782608695, \"pred\": \"Adelie\"}, {\"flipper_length_mm\": 191.66666666666666, \"bill_length_mm\": 41.73913043478261, \"pred\": \"Adelie\"}, {\"flipper_length_mm\": 191.66666666666666, \"bill_length_mm\": 42.17391304347826, \"pred\": \"Adelie\"}, {\"flipper_length_mm\": 191.66666666666666, \"bill_length_mm\": 42.608695652173914, \"pred\": \"Adelie\"}, {\"flipper_length_mm\": 191.66666666666666, \"bill_length_mm\": 43.04347826086956, \"pred\": \"Adelie\"}, {\"flipper_length_mm\": 191.66666666666666, \"bill_length_mm\": 43.47826086956522, \"pred\": \"Adelie\"}, {\"flipper_length_mm\": 191.66666666666666, \"bill_length_mm\": 43.91304347826087, \"pred\": \"Adelie\"}, {\"flipper_length_mm\": 191.66666666666666, \"bill_length_mm\": 44.34782608695652, \"pred\": \"Chinstrap\"}, {\"flipper_length_mm\": 191.66666666666666, \"bill_length_mm\": 44.78260869565217, \"pred\": \"Chinstrap\"}, {\"flipper_length_mm\": 191.66666666666666, \"bill_length_mm\": 45.21739130434783, \"pred\": \"Chinstrap\"}, {\"flipper_length_mm\": 191.66666666666666, \"bill_length_mm\": 45.65217391304348, \"pred\": \"Chinstrap\"}, {\"flipper_length_mm\": 191.66666666666666, \"bill_length_mm\": 46.086956521739125, \"pred\": \"Chinstrap\"}, {\"flipper_length_mm\": 191.66666666666666, \"bill_length_mm\": 46.52173913043478, \"pred\": \"Chinstrap\"}, {\"flipper_length_mm\": 191.66666666666666, \"bill_length_mm\": 46.95652173913044, \"pred\": \"Chinstrap\"}, {\"flipper_length_mm\": 191.66666666666666, \"bill_length_mm\": 47.391304347826086, \"pred\": \"Chinstrap\"}, {\"flipper_length_mm\": 191.66666666666666, \"bill_length_mm\": 47.826086956521735, \"pred\": \"Chinstrap\"}, {\"flipper_length_mm\": 191.66666666666666, \"bill_length_mm\": 48.26086956521739, \"pred\": \"Chinstrap\"}, {\"flipper_length_mm\": 191.66666666666666, \"bill_length_mm\": 48.69565217391305, \"pred\": \"Chinstrap\"}, {\"flipper_length_mm\": 191.66666666666666, \"bill_length_mm\": 49.130434782608695, \"pred\": \"Chinstrap\"}, {\"flipper_length_mm\": 191.66666666666666, \"bill_length_mm\": 49.565217391304344, \"pred\": \"Chinstrap\"}, {\"flipper_length_mm\": 191.66666666666666, \"bill_length_mm\": 50.0, \"pred\": \"Chinstrap\"}, {\"flipper_length_mm\": 191.66666666666666, \"bill_length_mm\": 50.434782608695656, \"pred\": \"Chinstrap\"}, {\"flipper_length_mm\": 191.66666666666666, \"bill_length_mm\": 50.869565217391305, \"pred\": \"Chinstrap\"}, {\"flipper_length_mm\": 191.66666666666666, \"bill_length_mm\": 51.30434782608695, \"pred\": \"Chinstrap\"}, {\"flipper_length_mm\": 191.66666666666666, \"bill_length_mm\": 51.73913043478261, \"pred\": \"Chinstrap\"}, {\"flipper_length_mm\": 191.66666666666666, \"bill_length_mm\": 52.173913043478265, \"pred\": \"Chinstrap\"}, {\"flipper_length_mm\": 191.66666666666666, \"bill_length_mm\": 52.608695652173914, \"pred\": \"Chinstrap\"}, {\"flipper_length_mm\": 191.66666666666666, \"bill_length_mm\": 53.04347826086956, \"pred\": \"Chinstrap\"}, {\"flipper_length_mm\": 191.66666666666666, \"bill_length_mm\": 53.47826086956522, \"pred\": \"Chinstrap\"}, {\"flipper_length_mm\": 191.66666666666666, \"bill_length_mm\": 53.91304347826087, \"pred\": \"Chinstrap\"}, {\"flipper_length_mm\": 191.66666666666666, \"bill_length_mm\": 54.347826086956516, \"pred\": \"Chinstrap\"}, {\"flipper_length_mm\": 191.66666666666666, \"bill_length_mm\": 54.78260869565217, \"pred\": \"Chinstrap\"}, {\"flipper_length_mm\": 191.66666666666666, \"bill_length_mm\": 55.21739130434783, \"pred\": \"Chinstrap\"}, {\"flipper_length_mm\": 191.66666666666666, \"bill_length_mm\": 55.65217391304348, \"pred\": \"Chinstrap\"}, {\"flipper_length_mm\": 191.66666666666666, \"bill_length_mm\": 56.086956521739125, \"pred\": \"Chinstrap\"}, {\"flipper_length_mm\": 191.66666666666666, \"bill_length_mm\": 56.52173913043478, \"pred\": \"Chinstrap\"}, {\"flipper_length_mm\": 191.66666666666666, \"bill_length_mm\": 56.95652173913044, \"pred\": \"Chinstrap\"}, {\"flipper_length_mm\": 191.66666666666666, \"bill_length_mm\": 57.391304347826086, \"pred\": \"Chinstrap\"}, {\"flipper_length_mm\": 191.66666666666666, \"bill_length_mm\": 57.826086956521735, \"pred\": \"Chinstrap\"}, {\"flipper_length_mm\": 191.66666666666666, \"bill_length_mm\": 58.26086956521739, \"pred\": \"Chinstrap\"}, {\"flipper_length_mm\": 191.66666666666666, \"bill_length_mm\": 58.69565217391305, \"pred\": \"Chinstrap\"}, {\"flipper_length_mm\": 191.66666666666666, \"bill_length_mm\": 59.130434782608695, \"pred\": \"Chinstrap\"}, {\"flipper_length_mm\": 191.66666666666666, \"bill_length_mm\": 59.565217391304344, \"pred\": \"Chinstrap\"}, {\"flipper_length_mm\": 191.66666666666666, \"bill_length_mm\": 60.0, \"pred\": \"Chinstrap\"}, {\"flipper_length_mm\": 192.6086956521739, \"bill_length_mm\": 30.0, \"pred\": \"Adelie\"}, {\"flipper_length_mm\": 192.6086956521739, \"bill_length_mm\": 30.434782608695652, \"pred\": \"Adelie\"}, {\"flipper_length_mm\": 192.6086956521739, \"bill_length_mm\": 30.869565217391305, \"pred\": \"Adelie\"}, {\"flipper_length_mm\": 192.6086956521739, \"bill_length_mm\": 31.304347826086957, \"pred\": \"Adelie\"}, {\"flipper_length_mm\": 192.6086956521739, \"bill_length_mm\": 31.73913043478261, \"pred\": \"Adelie\"}, {\"flipper_length_mm\": 192.6086956521739, \"bill_length_mm\": 32.17391304347826, \"pred\": \"Adelie\"}, {\"flipper_length_mm\": 192.6086956521739, \"bill_length_mm\": 32.608695652173914, \"pred\": \"Adelie\"}, {\"flipper_length_mm\": 192.6086956521739, \"bill_length_mm\": 33.04347826086956, \"pred\": \"Adelie\"}, {\"flipper_length_mm\": 192.6086956521739, \"bill_length_mm\": 33.47826086956522, \"pred\": \"Adelie\"}, {\"flipper_length_mm\": 192.6086956521739, \"bill_length_mm\": 33.91304347826087, \"pred\": \"Adelie\"}, {\"flipper_length_mm\": 192.6086956521739, \"bill_length_mm\": 34.34782608695652, \"pred\": \"Adelie\"}, {\"flipper_length_mm\": 192.6086956521739, \"bill_length_mm\": 34.78260869565217, \"pred\": \"Adelie\"}, {\"flipper_length_mm\": 192.6086956521739, \"bill_length_mm\": 35.21739130434783, \"pred\": \"Adelie\"}, {\"flipper_length_mm\": 192.6086956521739, \"bill_length_mm\": 35.65217391304348, \"pred\": \"Adelie\"}, {\"flipper_length_mm\": 192.6086956521739, \"bill_length_mm\": 36.08695652173913, \"pred\": \"Adelie\"}, {\"flipper_length_mm\": 192.6086956521739, \"bill_length_mm\": 36.52173913043478, \"pred\": \"Adelie\"}, {\"flipper_length_mm\": 192.6086956521739, \"bill_length_mm\": 36.95652173913044, \"pred\": \"Adelie\"}, {\"flipper_length_mm\": 192.6086956521739, \"bill_length_mm\": 37.391304347826086, \"pred\": \"Adelie\"}, {\"flipper_length_mm\": 192.6086956521739, \"bill_length_mm\": 37.82608695652174, \"pred\": \"Adelie\"}, {\"flipper_length_mm\": 192.6086956521739, \"bill_length_mm\": 38.26086956521739, \"pred\": \"Adelie\"}, {\"flipper_length_mm\": 192.6086956521739, \"bill_length_mm\": 38.69565217391305, \"pred\": \"Adelie\"}, {\"flipper_length_mm\": 192.6086956521739, \"bill_length_mm\": 39.130434782608695, \"pred\": \"Adelie\"}, {\"flipper_length_mm\": 192.6086956521739, \"bill_length_mm\": 39.565217391304344, \"pred\": \"Adelie\"}, {\"flipper_length_mm\": 192.6086956521739, \"bill_length_mm\": 40.0, \"pred\": \"Adelie\"}, {\"flipper_length_mm\": 192.6086956521739, \"bill_length_mm\": 40.434782608695656, \"pred\": \"Adelie\"}, {\"flipper_length_mm\": 192.6086956521739, \"bill_length_mm\": 40.869565217391305, \"pred\": \"Adelie\"}, {\"flipper_length_mm\": 192.6086956521739, \"bill_length_mm\": 41.30434782608695, \"pred\": \"Adelie\"}, {\"flipper_length_mm\": 192.6086956521739, \"bill_length_mm\": 41.73913043478261, \"pred\": \"Adelie\"}, {\"flipper_length_mm\": 192.6086956521739, \"bill_length_mm\": 42.17391304347826, \"pred\": \"Adelie\"}, {\"flipper_length_mm\": 192.6086956521739, \"bill_length_mm\": 42.608695652173914, \"pred\": \"Adelie\"}, {\"flipper_length_mm\": 192.6086956521739, \"bill_length_mm\": 43.04347826086956, \"pred\": \"Adelie\"}, {\"flipper_length_mm\": 192.6086956521739, \"bill_length_mm\": 43.47826086956522, \"pred\": \"Adelie\"}, {\"flipper_length_mm\": 192.6086956521739, \"bill_length_mm\": 43.91304347826087, \"pred\": \"Adelie\"}, {\"flipper_length_mm\": 192.6086956521739, \"bill_length_mm\": 44.34782608695652, \"pred\": \"Chinstrap\"}, {\"flipper_length_mm\": 192.6086956521739, \"bill_length_mm\": 44.78260869565217, \"pred\": \"Chinstrap\"}, {\"flipper_length_mm\": 192.6086956521739, \"bill_length_mm\": 45.21739130434783, \"pred\": \"Chinstrap\"}, {\"flipper_length_mm\": 192.6086956521739, \"bill_length_mm\": 45.65217391304348, \"pred\": \"Chinstrap\"}, {\"flipper_length_mm\": 192.6086956521739, \"bill_length_mm\": 46.086956521739125, \"pred\": \"Chinstrap\"}, {\"flipper_length_mm\": 192.6086956521739, \"bill_length_mm\": 46.52173913043478, \"pred\": \"Chinstrap\"}, {\"flipper_length_mm\": 192.6086956521739, \"bill_length_mm\": 46.95652173913044, \"pred\": \"Chinstrap\"}, {\"flipper_length_mm\": 192.6086956521739, \"bill_length_mm\": 47.391304347826086, \"pred\": \"Chinstrap\"}, {\"flipper_length_mm\": 192.6086956521739, \"bill_length_mm\": 47.826086956521735, \"pred\": \"Chinstrap\"}, {\"flipper_length_mm\": 192.6086956521739, \"bill_length_mm\": 48.26086956521739, \"pred\": \"Chinstrap\"}, {\"flipper_length_mm\": 192.6086956521739, \"bill_length_mm\": 48.69565217391305, \"pred\": \"Chinstrap\"}, {\"flipper_length_mm\": 192.6086956521739, \"bill_length_mm\": 49.130434782608695, \"pred\": \"Chinstrap\"}, {\"flipper_length_mm\": 192.6086956521739, \"bill_length_mm\": 49.565217391304344, \"pred\": \"Chinstrap\"}, {\"flipper_length_mm\": 192.6086956521739, \"bill_length_mm\": 50.0, \"pred\": \"Chinstrap\"}, {\"flipper_length_mm\": 192.6086956521739, \"bill_length_mm\": 50.434782608695656, \"pred\": \"Chinstrap\"}, {\"flipper_length_mm\": 192.6086956521739, \"bill_length_mm\": 50.869565217391305, \"pred\": \"Chinstrap\"}, {\"flipper_length_mm\": 192.6086956521739, \"bill_length_mm\": 51.30434782608695, \"pred\": \"Chinstrap\"}, {\"flipper_length_mm\": 192.6086956521739, \"bill_length_mm\": 51.73913043478261, \"pred\": \"Chinstrap\"}, {\"flipper_length_mm\": 192.6086956521739, \"bill_length_mm\": 52.173913043478265, \"pred\": \"Chinstrap\"}, {\"flipper_length_mm\": 192.6086956521739, \"bill_length_mm\": 52.608695652173914, \"pred\": \"Chinstrap\"}, {\"flipper_length_mm\": 192.6086956521739, \"bill_length_mm\": 53.04347826086956, \"pred\": \"Chinstrap\"}, {\"flipper_length_mm\": 192.6086956521739, \"bill_length_mm\": 53.47826086956522, \"pred\": \"Chinstrap\"}, {\"flipper_length_mm\": 192.6086956521739, \"bill_length_mm\": 53.91304347826087, \"pred\": \"Chinstrap\"}, {\"flipper_length_mm\": 192.6086956521739, \"bill_length_mm\": 54.347826086956516, \"pred\": \"Chinstrap\"}, {\"flipper_length_mm\": 192.6086956521739, \"bill_length_mm\": 54.78260869565217, \"pred\": \"Chinstrap\"}, {\"flipper_length_mm\": 192.6086956521739, \"bill_length_mm\": 55.21739130434783, \"pred\": \"Chinstrap\"}, {\"flipper_length_mm\": 192.6086956521739, \"bill_length_mm\": 55.65217391304348, \"pred\": \"Chinstrap\"}, {\"flipper_length_mm\": 192.6086956521739, \"bill_length_mm\": 56.086956521739125, \"pred\": \"Chinstrap\"}, {\"flipper_length_mm\": 192.6086956521739, \"bill_length_mm\": 56.52173913043478, \"pred\": \"Chinstrap\"}, {\"flipper_length_mm\": 192.6086956521739, \"bill_length_mm\": 56.95652173913044, \"pred\": \"Chinstrap\"}, {\"flipper_length_mm\": 192.6086956521739, \"bill_length_mm\": 57.391304347826086, \"pred\": \"Chinstrap\"}, {\"flipper_length_mm\": 192.6086956521739, \"bill_length_mm\": 57.826086956521735, \"pred\": \"Chinstrap\"}, {\"flipper_length_mm\": 192.6086956521739, \"bill_length_mm\": 58.26086956521739, \"pred\": \"Chinstrap\"}, {\"flipper_length_mm\": 192.6086956521739, \"bill_length_mm\": 58.69565217391305, \"pred\": \"Chinstrap\"}, {\"flipper_length_mm\": 192.6086956521739, \"bill_length_mm\": 59.130434782608695, \"pred\": \"Chinstrap\"}, {\"flipper_length_mm\": 192.6086956521739, \"bill_length_mm\": 59.565217391304344, \"pred\": \"Chinstrap\"}, {\"flipper_length_mm\": 192.6086956521739, \"bill_length_mm\": 60.0, \"pred\": \"Chinstrap\"}, {\"flipper_length_mm\": 193.55072463768116, \"bill_length_mm\": 30.0, \"pred\": \"Adelie\"}, {\"flipper_length_mm\": 193.55072463768116, \"bill_length_mm\": 30.434782608695652, \"pred\": \"Adelie\"}, {\"flipper_length_mm\": 193.55072463768116, \"bill_length_mm\": 30.869565217391305, \"pred\": \"Adelie\"}, {\"flipper_length_mm\": 193.55072463768116, \"bill_length_mm\": 31.304347826086957, \"pred\": \"Adelie\"}, {\"flipper_length_mm\": 193.55072463768116, \"bill_length_mm\": 31.73913043478261, \"pred\": \"Adelie\"}, {\"flipper_length_mm\": 193.55072463768116, \"bill_length_mm\": 32.17391304347826, \"pred\": \"Adelie\"}, {\"flipper_length_mm\": 193.55072463768116, \"bill_length_mm\": 32.608695652173914, \"pred\": \"Adelie\"}, {\"flipper_length_mm\": 193.55072463768116, \"bill_length_mm\": 33.04347826086956, \"pred\": \"Adelie\"}, {\"flipper_length_mm\": 193.55072463768116, \"bill_length_mm\": 33.47826086956522, \"pred\": \"Adelie\"}, {\"flipper_length_mm\": 193.55072463768116, \"bill_length_mm\": 33.91304347826087, \"pred\": \"Adelie\"}, {\"flipper_length_mm\": 193.55072463768116, \"bill_length_mm\": 34.34782608695652, \"pred\": \"Adelie\"}, {\"flipper_length_mm\": 193.55072463768116, \"bill_length_mm\": 34.78260869565217, \"pred\": \"Adelie\"}, {\"flipper_length_mm\": 193.55072463768116, \"bill_length_mm\": 35.21739130434783, \"pred\": \"Adelie\"}, {\"flipper_length_mm\": 193.55072463768116, \"bill_length_mm\": 35.65217391304348, \"pred\": \"Adelie\"}, {\"flipper_length_mm\": 193.55072463768116, \"bill_length_mm\": 36.08695652173913, \"pred\": \"Adelie\"}, {\"flipper_length_mm\": 193.55072463768116, \"bill_length_mm\": 36.52173913043478, \"pred\": \"Adelie\"}, {\"flipper_length_mm\": 193.55072463768116, \"bill_length_mm\": 36.95652173913044, \"pred\": \"Adelie\"}, {\"flipper_length_mm\": 193.55072463768116, \"bill_length_mm\": 37.391304347826086, \"pred\": \"Adelie\"}, {\"flipper_length_mm\": 193.55072463768116, \"bill_length_mm\": 37.82608695652174, \"pred\": \"Adelie\"}, {\"flipper_length_mm\": 193.55072463768116, \"bill_length_mm\": 38.26086956521739, \"pred\": \"Adelie\"}, {\"flipper_length_mm\": 193.55072463768116, \"bill_length_mm\": 38.69565217391305, \"pred\": \"Adelie\"}, {\"flipper_length_mm\": 193.55072463768116, \"bill_length_mm\": 39.130434782608695, \"pred\": \"Adelie\"}, {\"flipper_length_mm\": 193.55072463768116, \"bill_length_mm\": 39.565217391304344, \"pred\": \"Adelie\"}, {\"flipper_length_mm\": 193.55072463768116, \"bill_length_mm\": 40.0, \"pred\": \"Adelie\"}, {\"flipper_length_mm\": 193.55072463768116, \"bill_length_mm\": 40.434782608695656, \"pred\": \"Adelie\"}, {\"flipper_length_mm\": 193.55072463768116, \"bill_length_mm\": 40.869565217391305, \"pred\": \"Adelie\"}, {\"flipper_length_mm\": 193.55072463768116, \"bill_length_mm\": 41.30434782608695, \"pred\": \"Adelie\"}, {\"flipper_length_mm\": 193.55072463768116, \"bill_length_mm\": 41.73913043478261, \"pred\": \"Adelie\"}, {\"flipper_length_mm\": 193.55072463768116, \"bill_length_mm\": 42.17391304347826, \"pred\": \"Adelie\"}, {\"flipper_length_mm\": 193.55072463768116, \"bill_length_mm\": 42.608695652173914, \"pred\": \"Adelie\"}, {\"flipper_length_mm\": 193.55072463768116, \"bill_length_mm\": 43.04347826086956, \"pred\": \"Adelie\"}, {\"flipper_length_mm\": 193.55072463768116, \"bill_length_mm\": 43.47826086956522, \"pred\": \"Adelie\"}, {\"flipper_length_mm\": 193.55072463768116, \"bill_length_mm\": 43.91304347826087, \"pred\": \"Adelie\"}, {\"flipper_length_mm\": 193.55072463768116, \"bill_length_mm\": 44.34782608695652, \"pred\": \"Chinstrap\"}, {\"flipper_length_mm\": 193.55072463768116, \"bill_length_mm\": 44.78260869565217, \"pred\": \"Chinstrap\"}, {\"flipper_length_mm\": 193.55072463768116, \"bill_length_mm\": 45.21739130434783, \"pred\": \"Chinstrap\"}, {\"flipper_length_mm\": 193.55072463768116, \"bill_length_mm\": 45.65217391304348, \"pred\": \"Chinstrap\"}, {\"flipper_length_mm\": 193.55072463768116, \"bill_length_mm\": 46.086956521739125, \"pred\": \"Chinstrap\"}, {\"flipper_length_mm\": 193.55072463768116, \"bill_length_mm\": 46.52173913043478, \"pred\": \"Chinstrap\"}, {\"flipper_length_mm\": 193.55072463768116, \"bill_length_mm\": 46.95652173913044, \"pred\": \"Chinstrap\"}, {\"flipper_length_mm\": 193.55072463768116, \"bill_length_mm\": 47.391304347826086, \"pred\": \"Chinstrap\"}, {\"flipper_length_mm\": 193.55072463768116, \"bill_length_mm\": 47.826086956521735, \"pred\": \"Chinstrap\"}, {\"flipper_length_mm\": 193.55072463768116, \"bill_length_mm\": 48.26086956521739, \"pred\": \"Chinstrap\"}, {\"flipper_length_mm\": 193.55072463768116, \"bill_length_mm\": 48.69565217391305, \"pred\": \"Chinstrap\"}, {\"flipper_length_mm\": 193.55072463768116, \"bill_length_mm\": 49.130434782608695, \"pred\": \"Chinstrap\"}, {\"flipper_length_mm\": 193.55072463768116, \"bill_length_mm\": 49.565217391304344, \"pred\": \"Chinstrap\"}, {\"flipper_length_mm\": 193.55072463768116, \"bill_length_mm\": 50.0, \"pred\": \"Chinstrap\"}, {\"flipper_length_mm\": 193.55072463768116, \"bill_length_mm\": 50.434782608695656, \"pred\": \"Chinstrap\"}, {\"flipper_length_mm\": 193.55072463768116, \"bill_length_mm\": 50.869565217391305, \"pred\": \"Chinstrap\"}, {\"flipper_length_mm\": 193.55072463768116, \"bill_length_mm\": 51.30434782608695, \"pred\": \"Chinstrap\"}, {\"flipper_length_mm\": 193.55072463768116, \"bill_length_mm\": 51.73913043478261, \"pred\": \"Chinstrap\"}, {\"flipper_length_mm\": 193.55072463768116, \"bill_length_mm\": 52.173913043478265, \"pred\": \"Chinstrap\"}, {\"flipper_length_mm\": 193.55072463768116, \"bill_length_mm\": 52.608695652173914, \"pred\": \"Chinstrap\"}, {\"flipper_length_mm\": 193.55072463768116, \"bill_length_mm\": 53.04347826086956, \"pred\": \"Chinstrap\"}, {\"flipper_length_mm\": 193.55072463768116, \"bill_length_mm\": 53.47826086956522, \"pred\": \"Chinstrap\"}, {\"flipper_length_mm\": 193.55072463768116, \"bill_length_mm\": 53.91304347826087, \"pred\": \"Chinstrap\"}, {\"flipper_length_mm\": 193.55072463768116, \"bill_length_mm\": 54.347826086956516, \"pred\": \"Chinstrap\"}, {\"flipper_length_mm\": 193.55072463768116, \"bill_length_mm\": 54.78260869565217, \"pred\": \"Chinstrap\"}, {\"flipper_length_mm\": 193.55072463768116, \"bill_length_mm\": 55.21739130434783, \"pred\": \"Chinstrap\"}, {\"flipper_length_mm\": 193.55072463768116, \"bill_length_mm\": 55.65217391304348, \"pred\": \"Chinstrap\"}, {\"flipper_length_mm\": 193.55072463768116, \"bill_length_mm\": 56.086956521739125, \"pred\": \"Chinstrap\"}, {\"flipper_length_mm\": 193.55072463768116, \"bill_length_mm\": 56.52173913043478, \"pred\": \"Chinstrap\"}, {\"flipper_length_mm\": 193.55072463768116, \"bill_length_mm\": 56.95652173913044, \"pred\": \"Chinstrap\"}, {\"flipper_length_mm\": 193.55072463768116, \"bill_length_mm\": 57.391304347826086, \"pred\": \"Chinstrap\"}, {\"flipper_length_mm\": 193.55072463768116, \"bill_length_mm\": 57.826086956521735, \"pred\": \"Chinstrap\"}, {\"flipper_length_mm\": 193.55072463768116, \"bill_length_mm\": 58.26086956521739, \"pred\": \"Chinstrap\"}, {\"flipper_length_mm\": 193.55072463768116, \"bill_length_mm\": 58.69565217391305, \"pred\": \"Chinstrap\"}, {\"flipper_length_mm\": 193.55072463768116, \"bill_length_mm\": 59.130434782608695, \"pred\": \"Chinstrap\"}, {\"flipper_length_mm\": 193.55072463768116, \"bill_length_mm\": 59.565217391304344, \"pred\": \"Chinstrap\"}, {\"flipper_length_mm\": 193.55072463768116, \"bill_length_mm\": 60.0, \"pred\": \"Chinstrap\"}, {\"flipper_length_mm\": 194.4927536231884, \"bill_length_mm\": 30.0, \"pred\": \"Adelie\"}, {\"flipper_length_mm\": 194.4927536231884, \"bill_length_mm\": 30.434782608695652, \"pred\": \"Adelie\"}, {\"flipper_length_mm\": 194.4927536231884, \"bill_length_mm\": 30.869565217391305, \"pred\": \"Adelie\"}, {\"flipper_length_mm\": 194.4927536231884, \"bill_length_mm\": 31.304347826086957, \"pred\": \"Adelie\"}, {\"flipper_length_mm\": 194.4927536231884, \"bill_length_mm\": 31.73913043478261, \"pred\": \"Adelie\"}, {\"flipper_length_mm\": 194.4927536231884, \"bill_length_mm\": 32.17391304347826, \"pred\": \"Adelie\"}, {\"flipper_length_mm\": 194.4927536231884, \"bill_length_mm\": 32.608695652173914, \"pred\": \"Adelie\"}, {\"flipper_length_mm\": 194.4927536231884, \"bill_length_mm\": 33.04347826086956, \"pred\": \"Adelie\"}, {\"flipper_length_mm\": 194.4927536231884, \"bill_length_mm\": 33.47826086956522, \"pred\": \"Adelie\"}, {\"flipper_length_mm\": 194.4927536231884, \"bill_length_mm\": 33.91304347826087, \"pred\": \"Adelie\"}, {\"flipper_length_mm\": 194.4927536231884, \"bill_length_mm\": 34.34782608695652, \"pred\": \"Adelie\"}, {\"flipper_length_mm\": 194.4927536231884, \"bill_length_mm\": 34.78260869565217, \"pred\": \"Adelie\"}, {\"flipper_length_mm\": 194.4927536231884, \"bill_length_mm\": 35.21739130434783, \"pred\": \"Adelie\"}, {\"flipper_length_mm\": 194.4927536231884, \"bill_length_mm\": 35.65217391304348, \"pred\": \"Adelie\"}, {\"flipper_length_mm\": 194.4927536231884, \"bill_length_mm\": 36.08695652173913, \"pred\": \"Adelie\"}, {\"flipper_length_mm\": 194.4927536231884, \"bill_length_mm\": 36.52173913043478, \"pred\": \"Adelie\"}, {\"flipper_length_mm\": 194.4927536231884, \"bill_length_mm\": 36.95652173913044, \"pred\": \"Adelie\"}, {\"flipper_length_mm\": 194.4927536231884, \"bill_length_mm\": 37.391304347826086, \"pred\": \"Adelie\"}, {\"flipper_length_mm\": 194.4927536231884, \"bill_length_mm\": 37.82608695652174, \"pred\": \"Adelie\"}, {\"flipper_length_mm\": 194.4927536231884, \"bill_length_mm\": 38.26086956521739, \"pred\": \"Adelie\"}, {\"flipper_length_mm\": 194.4927536231884, \"bill_length_mm\": 38.69565217391305, \"pred\": \"Adelie\"}, {\"flipper_length_mm\": 194.4927536231884, \"bill_length_mm\": 39.130434782608695, \"pred\": \"Adelie\"}, {\"flipper_length_mm\": 194.4927536231884, \"bill_length_mm\": 39.565217391304344, \"pred\": \"Adelie\"}, {\"flipper_length_mm\": 194.4927536231884, \"bill_length_mm\": 40.0, \"pred\": \"Adelie\"}, {\"flipper_length_mm\": 194.4927536231884, \"bill_length_mm\": 40.434782608695656, \"pred\": \"Adelie\"}, {\"flipper_length_mm\": 194.4927536231884, \"bill_length_mm\": 40.869565217391305, \"pred\": \"Adelie\"}, {\"flipper_length_mm\": 194.4927536231884, \"bill_length_mm\": 41.30434782608695, \"pred\": \"Adelie\"}, {\"flipper_length_mm\": 194.4927536231884, \"bill_length_mm\": 41.73913043478261, \"pred\": \"Adelie\"}, {\"flipper_length_mm\": 194.4927536231884, \"bill_length_mm\": 42.17391304347826, \"pred\": \"Adelie\"}, {\"flipper_length_mm\": 194.4927536231884, \"bill_length_mm\": 42.608695652173914, \"pred\": \"Adelie\"}, {\"flipper_length_mm\": 194.4927536231884, \"bill_length_mm\": 43.04347826086956, \"pred\": \"Adelie\"}, {\"flipper_length_mm\": 194.4927536231884, \"bill_length_mm\": 43.47826086956522, \"pred\": \"Adelie\"}, {\"flipper_length_mm\": 194.4927536231884, \"bill_length_mm\": 43.91304347826087, \"pred\": \"Adelie\"}, {\"flipper_length_mm\": 194.4927536231884, \"bill_length_mm\": 44.34782608695652, \"pred\": \"Chinstrap\"}, {\"flipper_length_mm\": 194.4927536231884, \"bill_length_mm\": 44.78260869565217, \"pred\": \"Chinstrap\"}, {\"flipper_length_mm\": 194.4927536231884, \"bill_length_mm\": 45.21739130434783, \"pred\": \"Chinstrap\"}, {\"flipper_length_mm\": 194.4927536231884, \"bill_length_mm\": 45.65217391304348, \"pred\": \"Chinstrap\"}, {\"flipper_length_mm\": 194.4927536231884, \"bill_length_mm\": 46.086956521739125, \"pred\": \"Chinstrap\"}, {\"flipper_length_mm\": 194.4927536231884, \"bill_length_mm\": 46.52173913043478, \"pred\": \"Chinstrap\"}, {\"flipper_length_mm\": 194.4927536231884, \"bill_length_mm\": 46.95652173913044, \"pred\": \"Chinstrap\"}, {\"flipper_length_mm\": 194.4927536231884, \"bill_length_mm\": 47.391304347826086, \"pred\": \"Chinstrap\"}, {\"flipper_length_mm\": 194.4927536231884, \"bill_length_mm\": 47.826086956521735, \"pred\": \"Chinstrap\"}, {\"flipper_length_mm\": 194.4927536231884, \"bill_length_mm\": 48.26086956521739, \"pred\": \"Chinstrap\"}, {\"flipper_length_mm\": 194.4927536231884, \"bill_length_mm\": 48.69565217391305, \"pred\": \"Chinstrap\"}, {\"flipper_length_mm\": 194.4927536231884, \"bill_length_mm\": 49.130434782608695, \"pred\": \"Chinstrap\"}, {\"flipper_length_mm\": 194.4927536231884, \"bill_length_mm\": 49.565217391304344, \"pred\": \"Chinstrap\"}, {\"flipper_length_mm\": 194.4927536231884, \"bill_length_mm\": 50.0, \"pred\": \"Chinstrap\"}, {\"flipper_length_mm\": 194.4927536231884, \"bill_length_mm\": 50.434782608695656, \"pred\": \"Chinstrap\"}, {\"flipper_length_mm\": 194.4927536231884, \"bill_length_mm\": 50.869565217391305, \"pred\": \"Chinstrap\"}, {\"flipper_length_mm\": 194.4927536231884, \"bill_length_mm\": 51.30434782608695, \"pred\": \"Chinstrap\"}, {\"flipper_length_mm\": 194.4927536231884, \"bill_length_mm\": 51.73913043478261, \"pred\": \"Chinstrap\"}, {\"flipper_length_mm\": 194.4927536231884, \"bill_length_mm\": 52.173913043478265, \"pred\": \"Chinstrap\"}, {\"flipper_length_mm\": 194.4927536231884, \"bill_length_mm\": 52.608695652173914, \"pred\": \"Chinstrap\"}, {\"flipper_length_mm\": 194.4927536231884, \"bill_length_mm\": 53.04347826086956, \"pred\": \"Chinstrap\"}, {\"flipper_length_mm\": 194.4927536231884, \"bill_length_mm\": 53.47826086956522, \"pred\": \"Chinstrap\"}, {\"flipper_length_mm\": 194.4927536231884, \"bill_length_mm\": 53.91304347826087, \"pred\": \"Chinstrap\"}, {\"flipper_length_mm\": 194.4927536231884, \"bill_length_mm\": 54.347826086956516, \"pred\": \"Chinstrap\"}, {\"flipper_length_mm\": 194.4927536231884, \"bill_length_mm\": 54.78260869565217, \"pred\": \"Chinstrap\"}, {\"flipper_length_mm\": 194.4927536231884, \"bill_length_mm\": 55.21739130434783, \"pred\": \"Chinstrap\"}, {\"flipper_length_mm\": 194.4927536231884, \"bill_length_mm\": 55.65217391304348, \"pred\": \"Chinstrap\"}, {\"flipper_length_mm\": 194.4927536231884, \"bill_length_mm\": 56.086956521739125, \"pred\": \"Chinstrap\"}, {\"flipper_length_mm\": 194.4927536231884, \"bill_length_mm\": 56.52173913043478, \"pred\": \"Chinstrap\"}, {\"flipper_length_mm\": 194.4927536231884, \"bill_length_mm\": 56.95652173913044, \"pred\": \"Chinstrap\"}, {\"flipper_length_mm\": 194.4927536231884, \"bill_length_mm\": 57.391304347826086, \"pred\": \"Chinstrap\"}, {\"flipper_length_mm\": 194.4927536231884, \"bill_length_mm\": 57.826086956521735, \"pred\": \"Chinstrap\"}, {\"flipper_length_mm\": 194.4927536231884, \"bill_length_mm\": 58.26086956521739, \"pred\": \"Chinstrap\"}, {\"flipper_length_mm\": 194.4927536231884, \"bill_length_mm\": 58.69565217391305, \"pred\": \"Chinstrap\"}, {\"flipper_length_mm\": 194.4927536231884, \"bill_length_mm\": 59.130434782608695, \"pred\": \"Chinstrap\"}, {\"flipper_length_mm\": 194.4927536231884, \"bill_length_mm\": 59.565217391304344, \"pred\": \"Chinstrap\"}, {\"flipper_length_mm\": 194.4927536231884, \"bill_length_mm\": 60.0, \"pred\": \"Chinstrap\"}, {\"flipper_length_mm\": 195.43478260869566, \"bill_length_mm\": 30.0, \"pred\": \"Adelie\"}, {\"flipper_length_mm\": 195.43478260869566, \"bill_length_mm\": 30.434782608695652, \"pred\": \"Adelie\"}, {\"flipper_length_mm\": 195.43478260869566, \"bill_length_mm\": 30.869565217391305, \"pred\": \"Adelie\"}, {\"flipper_length_mm\": 195.43478260869566, \"bill_length_mm\": 31.304347826086957, \"pred\": \"Adelie\"}, {\"flipper_length_mm\": 195.43478260869566, \"bill_length_mm\": 31.73913043478261, \"pred\": \"Adelie\"}, {\"flipper_length_mm\": 195.43478260869566, \"bill_length_mm\": 32.17391304347826, \"pred\": \"Adelie\"}, {\"flipper_length_mm\": 195.43478260869566, \"bill_length_mm\": 32.608695652173914, \"pred\": \"Adelie\"}, {\"flipper_length_mm\": 195.43478260869566, \"bill_length_mm\": 33.04347826086956, \"pred\": \"Adelie\"}, {\"flipper_length_mm\": 195.43478260869566, \"bill_length_mm\": 33.47826086956522, \"pred\": \"Adelie\"}, {\"flipper_length_mm\": 195.43478260869566, \"bill_length_mm\": 33.91304347826087, \"pred\": \"Adelie\"}, {\"flipper_length_mm\": 195.43478260869566, \"bill_length_mm\": 34.34782608695652, \"pred\": \"Adelie\"}, {\"flipper_length_mm\": 195.43478260869566, \"bill_length_mm\": 34.78260869565217, \"pred\": \"Adelie\"}, {\"flipper_length_mm\": 195.43478260869566, \"bill_length_mm\": 35.21739130434783, \"pred\": \"Adelie\"}, {\"flipper_length_mm\": 195.43478260869566, \"bill_length_mm\": 35.65217391304348, \"pred\": \"Adelie\"}, {\"flipper_length_mm\": 195.43478260869566, \"bill_length_mm\": 36.08695652173913, \"pred\": \"Adelie\"}, {\"flipper_length_mm\": 195.43478260869566, \"bill_length_mm\": 36.52173913043478, \"pred\": \"Adelie\"}, {\"flipper_length_mm\": 195.43478260869566, \"bill_length_mm\": 36.95652173913044, \"pred\": \"Adelie\"}, {\"flipper_length_mm\": 195.43478260869566, \"bill_length_mm\": 37.391304347826086, \"pred\": \"Adelie\"}, {\"flipper_length_mm\": 195.43478260869566, \"bill_length_mm\": 37.82608695652174, \"pred\": \"Adelie\"}, {\"flipper_length_mm\": 195.43478260869566, \"bill_length_mm\": 38.26086956521739, \"pred\": \"Adelie\"}, {\"flipper_length_mm\": 195.43478260869566, \"bill_length_mm\": 38.69565217391305, \"pred\": \"Adelie\"}, {\"flipper_length_mm\": 195.43478260869566, \"bill_length_mm\": 39.130434782608695, \"pred\": \"Adelie\"}, {\"flipper_length_mm\": 195.43478260869566, \"bill_length_mm\": 39.565217391304344, \"pred\": \"Adelie\"}, {\"flipper_length_mm\": 195.43478260869566, \"bill_length_mm\": 40.0, \"pred\": \"Adelie\"}, {\"flipper_length_mm\": 195.43478260869566, \"bill_length_mm\": 40.434782608695656, \"pred\": \"Adelie\"}, {\"flipper_length_mm\": 195.43478260869566, \"bill_length_mm\": 40.869565217391305, \"pred\": \"Adelie\"}, {\"flipper_length_mm\": 195.43478260869566, \"bill_length_mm\": 41.30434782608695, \"pred\": \"Adelie\"}, {\"flipper_length_mm\": 195.43478260869566, \"bill_length_mm\": 41.73913043478261, \"pred\": \"Adelie\"}, {\"flipper_length_mm\": 195.43478260869566, \"bill_length_mm\": 42.17391304347826, \"pred\": \"Adelie\"}, {\"flipper_length_mm\": 195.43478260869566, \"bill_length_mm\": 42.608695652173914, \"pred\": \"Adelie\"}, {\"flipper_length_mm\": 195.43478260869566, \"bill_length_mm\": 43.04347826086956, \"pred\": \"Adelie\"}, {\"flipper_length_mm\": 195.43478260869566, \"bill_length_mm\": 43.47826086956522, \"pred\": \"Adelie\"}, {\"flipper_length_mm\": 195.43478260869566, \"bill_length_mm\": 43.91304347826087, \"pred\": \"Adelie\"}, {\"flipper_length_mm\": 195.43478260869566, \"bill_length_mm\": 44.34782608695652, \"pred\": \"Adelie\"}, {\"flipper_length_mm\": 195.43478260869566, \"bill_length_mm\": 44.78260869565217, \"pred\": \"Chinstrap\"}, {\"flipper_length_mm\": 195.43478260869566, \"bill_length_mm\": 45.21739130434783, \"pred\": \"Chinstrap\"}, {\"flipper_length_mm\": 195.43478260869566, \"bill_length_mm\": 45.65217391304348, \"pred\": \"Chinstrap\"}, {\"flipper_length_mm\": 195.43478260869566, \"bill_length_mm\": 46.086956521739125, \"pred\": \"Chinstrap\"}, {\"flipper_length_mm\": 195.43478260869566, \"bill_length_mm\": 46.52173913043478, \"pred\": \"Chinstrap\"}, {\"flipper_length_mm\": 195.43478260869566, \"bill_length_mm\": 46.95652173913044, \"pred\": \"Chinstrap\"}, {\"flipper_length_mm\": 195.43478260869566, \"bill_length_mm\": 47.391304347826086, \"pred\": \"Chinstrap\"}, {\"flipper_length_mm\": 195.43478260869566, \"bill_length_mm\": 47.826086956521735, \"pred\": \"Chinstrap\"}, {\"flipper_length_mm\": 195.43478260869566, \"bill_length_mm\": 48.26086956521739, \"pred\": \"Chinstrap\"}, {\"flipper_length_mm\": 195.43478260869566, \"bill_length_mm\": 48.69565217391305, \"pred\": \"Chinstrap\"}, {\"flipper_length_mm\": 195.43478260869566, \"bill_length_mm\": 49.130434782608695, \"pred\": \"Chinstrap\"}, {\"flipper_length_mm\": 195.43478260869566, \"bill_length_mm\": 49.565217391304344, \"pred\": \"Chinstrap\"}, {\"flipper_length_mm\": 195.43478260869566, \"bill_length_mm\": 50.0, \"pred\": \"Chinstrap\"}, {\"flipper_length_mm\": 195.43478260869566, \"bill_length_mm\": 50.434782608695656, \"pred\": \"Chinstrap\"}, {\"flipper_length_mm\": 195.43478260869566, \"bill_length_mm\": 50.869565217391305, \"pred\": \"Chinstrap\"}, {\"flipper_length_mm\": 195.43478260869566, \"bill_length_mm\": 51.30434782608695, \"pred\": \"Chinstrap\"}, {\"flipper_length_mm\": 195.43478260869566, \"bill_length_mm\": 51.73913043478261, \"pred\": \"Chinstrap\"}, {\"flipper_length_mm\": 195.43478260869566, \"bill_length_mm\": 52.173913043478265, \"pred\": \"Chinstrap\"}, {\"flipper_length_mm\": 195.43478260869566, \"bill_length_mm\": 52.608695652173914, \"pred\": \"Chinstrap\"}, {\"flipper_length_mm\": 195.43478260869566, \"bill_length_mm\": 53.04347826086956, \"pred\": \"Chinstrap\"}, {\"flipper_length_mm\": 195.43478260869566, \"bill_length_mm\": 53.47826086956522, \"pred\": \"Chinstrap\"}, {\"flipper_length_mm\": 195.43478260869566, \"bill_length_mm\": 53.91304347826087, \"pred\": \"Chinstrap\"}, {\"flipper_length_mm\": 195.43478260869566, \"bill_length_mm\": 54.347826086956516, \"pred\": \"Chinstrap\"}, {\"flipper_length_mm\": 195.43478260869566, \"bill_length_mm\": 54.78260869565217, \"pred\": \"Chinstrap\"}, {\"flipper_length_mm\": 195.43478260869566, \"bill_length_mm\": 55.21739130434783, \"pred\": \"Chinstrap\"}, {\"flipper_length_mm\": 195.43478260869566, \"bill_length_mm\": 55.65217391304348, \"pred\": \"Chinstrap\"}, {\"flipper_length_mm\": 195.43478260869566, \"bill_length_mm\": 56.086956521739125, \"pred\": \"Chinstrap\"}, {\"flipper_length_mm\": 195.43478260869566, \"bill_length_mm\": 56.52173913043478, \"pred\": \"Chinstrap\"}, {\"flipper_length_mm\": 195.43478260869566, \"bill_length_mm\": 56.95652173913044, \"pred\": \"Chinstrap\"}, {\"flipper_length_mm\": 195.43478260869566, \"bill_length_mm\": 57.391304347826086, \"pred\": \"Chinstrap\"}, {\"flipper_length_mm\": 195.43478260869566, \"bill_length_mm\": 57.826086956521735, \"pred\": \"Chinstrap\"}, {\"flipper_length_mm\": 195.43478260869566, \"bill_length_mm\": 58.26086956521739, \"pred\": \"Chinstrap\"}, {\"flipper_length_mm\": 195.43478260869566, \"bill_length_mm\": 58.69565217391305, \"pred\": \"Chinstrap\"}, {\"flipper_length_mm\": 195.43478260869566, \"bill_length_mm\": 59.130434782608695, \"pred\": \"Chinstrap\"}, {\"flipper_length_mm\": 195.43478260869566, \"bill_length_mm\": 59.565217391304344, \"pred\": \"Chinstrap\"}, {\"flipper_length_mm\": 195.43478260869566, \"bill_length_mm\": 60.0, \"pred\": \"Chinstrap\"}, {\"flipper_length_mm\": 196.3768115942029, \"bill_length_mm\": 30.0, \"pred\": \"Adelie\"}, {\"flipper_length_mm\": 196.3768115942029, \"bill_length_mm\": 30.434782608695652, \"pred\": \"Adelie\"}, {\"flipper_length_mm\": 196.3768115942029, \"bill_length_mm\": 30.869565217391305, \"pred\": \"Adelie\"}, {\"flipper_length_mm\": 196.3768115942029, \"bill_length_mm\": 31.304347826086957, \"pred\": \"Adelie\"}, {\"flipper_length_mm\": 196.3768115942029, \"bill_length_mm\": 31.73913043478261, \"pred\": \"Adelie\"}, {\"flipper_length_mm\": 196.3768115942029, \"bill_length_mm\": 32.17391304347826, \"pred\": \"Adelie\"}, {\"flipper_length_mm\": 196.3768115942029, \"bill_length_mm\": 32.608695652173914, \"pred\": \"Adelie\"}, {\"flipper_length_mm\": 196.3768115942029, \"bill_length_mm\": 33.04347826086956, \"pred\": \"Adelie\"}, {\"flipper_length_mm\": 196.3768115942029, \"bill_length_mm\": 33.47826086956522, \"pred\": \"Adelie\"}, {\"flipper_length_mm\": 196.3768115942029, \"bill_length_mm\": 33.91304347826087, \"pred\": \"Adelie\"}, {\"flipper_length_mm\": 196.3768115942029, \"bill_length_mm\": 34.34782608695652, \"pred\": \"Adelie\"}, {\"flipper_length_mm\": 196.3768115942029, \"bill_length_mm\": 34.78260869565217, \"pred\": \"Adelie\"}, {\"flipper_length_mm\": 196.3768115942029, \"bill_length_mm\": 35.21739130434783, \"pred\": \"Adelie\"}, {\"flipper_length_mm\": 196.3768115942029, \"bill_length_mm\": 35.65217391304348, \"pred\": \"Adelie\"}, {\"flipper_length_mm\": 196.3768115942029, \"bill_length_mm\": 36.08695652173913, \"pred\": \"Adelie\"}, {\"flipper_length_mm\": 196.3768115942029, \"bill_length_mm\": 36.52173913043478, \"pred\": \"Adelie\"}, {\"flipper_length_mm\": 196.3768115942029, \"bill_length_mm\": 36.95652173913044, \"pred\": \"Adelie\"}, {\"flipper_length_mm\": 196.3768115942029, \"bill_length_mm\": 37.391304347826086, \"pred\": \"Adelie\"}, {\"flipper_length_mm\": 196.3768115942029, \"bill_length_mm\": 37.82608695652174, \"pred\": \"Adelie\"}, {\"flipper_length_mm\": 196.3768115942029, \"bill_length_mm\": 38.26086956521739, \"pred\": \"Adelie\"}, {\"flipper_length_mm\": 196.3768115942029, \"bill_length_mm\": 38.69565217391305, \"pred\": \"Adelie\"}, {\"flipper_length_mm\": 196.3768115942029, \"bill_length_mm\": 39.130434782608695, \"pred\": \"Adelie\"}, {\"flipper_length_mm\": 196.3768115942029, \"bill_length_mm\": 39.565217391304344, \"pred\": \"Adelie\"}, {\"flipper_length_mm\": 196.3768115942029, \"bill_length_mm\": 40.0, \"pred\": \"Adelie\"}, {\"flipper_length_mm\": 196.3768115942029, \"bill_length_mm\": 40.434782608695656, \"pred\": \"Adelie\"}, {\"flipper_length_mm\": 196.3768115942029, \"bill_length_mm\": 40.869565217391305, \"pred\": \"Adelie\"}, {\"flipper_length_mm\": 196.3768115942029, \"bill_length_mm\": 41.30434782608695, \"pred\": \"Adelie\"}, {\"flipper_length_mm\": 196.3768115942029, \"bill_length_mm\": 41.73913043478261, \"pred\": \"Adelie\"}, {\"flipper_length_mm\": 196.3768115942029, \"bill_length_mm\": 42.17391304347826, \"pred\": \"Adelie\"}, {\"flipper_length_mm\": 196.3768115942029, \"bill_length_mm\": 42.608695652173914, \"pred\": \"Adelie\"}, {\"flipper_length_mm\": 196.3768115942029, \"bill_length_mm\": 43.04347826086956, \"pred\": \"Adelie\"}, {\"flipper_length_mm\": 196.3768115942029, \"bill_length_mm\": 43.47826086956522, \"pred\": \"Adelie\"}, {\"flipper_length_mm\": 196.3768115942029, \"bill_length_mm\": 43.91304347826087, \"pred\": \"Adelie\"}, {\"flipper_length_mm\": 196.3768115942029, \"bill_length_mm\": 44.34782608695652, \"pred\": \"Adelie\"}, {\"flipper_length_mm\": 196.3768115942029, \"bill_length_mm\": 44.78260869565217, \"pred\": \"Chinstrap\"}, {\"flipper_length_mm\": 196.3768115942029, \"bill_length_mm\": 45.21739130434783, \"pred\": \"Chinstrap\"}, {\"flipper_length_mm\": 196.3768115942029, \"bill_length_mm\": 45.65217391304348, \"pred\": \"Chinstrap\"}, {\"flipper_length_mm\": 196.3768115942029, \"bill_length_mm\": 46.086956521739125, \"pred\": \"Chinstrap\"}, {\"flipper_length_mm\": 196.3768115942029, \"bill_length_mm\": 46.52173913043478, \"pred\": \"Chinstrap\"}, {\"flipper_length_mm\": 196.3768115942029, \"bill_length_mm\": 46.95652173913044, \"pred\": \"Chinstrap\"}, {\"flipper_length_mm\": 196.3768115942029, \"bill_length_mm\": 47.391304347826086, \"pred\": \"Chinstrap\"}, {\"flipper_length_mm\": 196.3768115942029, \"bill_length_mm\": 47.826086956521735, \"pred\": \"Chinstrap\"}, {\"flipper_length_mm\": 196.3768115942029, \"bill_length_mm\": 48.26086956521739, \"pred\": \"Chinstrap\"}, {\"flipper_length_mm\": 196.3768115942029, \"bill_length_mm\": 48.69565217391305, \"pred\": \"Chinstrap\"}, {\"flipper_length_mm\": 196.3768115942029, \"bill_length_mm\": 49.130434782608695, \"pred\": \"Chinstrap\"}, {\"flipper_length_mm\": 196.3768115942029, \"bill_length_mm\": 49.565217391304344, \"pred\": \"Chinstrap\"}, {\"flipper_length_mm\": 196.3768115942029, \"bill_length_mm\": 50.0, \"pred\": \"Chinstrap\"}, {\"flipper_length_mm\": 196.3768115942029, \"bill_length_mm\": 50.434782608695656, \"pred\": \"Chinstrap\"}, {\"flipper_length_mm\": 196.3768115942029, \"bill_length_mm\": 50.869565217391305, \"pred\": \"Chinstrap\"}, {\"flipper_length_mm\": 196.3768115942029, \"bill_length_mm\": 51.30434782608695, \"pred\": \"Chinstrap\"}, {\"flipper_length_mm\": 196.3768115942029, \"bill_length_mm\": 51.73913043478261, \"pred\": \"Chinstrap\"}, {\"flipper_length_mm\": 196.3768115942029, \"bill_length_mm\": 52.173913043478265, \"pred\": \"Chinstrap\"}, {\"flipper_length_mm\": 196.3768115942029, \"bill_length_mm\": 52.608695652173914, \"pred\": \"Chinstrap\"}, {\"flipper_length_mm\": 196.3768115942029, \"bill_length_mm\": 53.04347826086956, \"pred\": \"Chinstrap\"}, {\"flipper_length_mm\": 196.3768115942029, \"bill_length_mm\": 53.47826086956522, \"pred\": \"Chinstrap\"}, {\"flipper_length_mm\": 196.3768115942029, \"bill_length_mm\": 53.91304347826087, \"pred\": \"Chinstrap\"}, {\"flipper_length_mm\": 196.3768115942029, \"bill_length_mm\": 54.347826086956516, \"pred\": \"Chinstrap\"}, {\"flipper_length_mm\": 196.3768115942029, \"bill_length_mm\": 54.78260869565217, \"pred\": \"Chinstrap\"}, {\"flipper_length_mm\": 196.3768115942029, \"bill_length_mm\": 55.21739130434783, \"pred\": \"Chinstrap\"}, {\"flipper_length_mm\": 196.3768115942029, \"bill_length_mm\": 55.65217391304348, \"pred\": \"Chinstrap\"}, {\"flipper_length_mm\": 196.3768115942029, \"bill_length_mm\": 56.086956521739125, \"pred\": \"Chinstrap\"}, {\"flipper_length_mm\": 196.3768115942029, \"bill_length_mm\": 56.52173913043478, \"pred\": \"Chinstrap\"}, {\"flipper_length_mm\": 196.3768115942029, \"bill_length_mm\": 56.95652173913044, \"pred\": \"Chinstrap\"}, {\"flipper_length_mm\": 196.3768115942029, \"bill_length_mm\": 57.391304347826086, \"pred\": \"Chinstrap\"}, {\"flipper_length_mm\": 196.3768115942029, \"bill_length_mm\": 57.826086956521735, \"pred\": \"Chinstrap\"}, {\"flipper_length_mm\": 196.3768115942029, \"bill_length_mm\": 58.26086956521739, \"pred\": \"Chinstrap\"}, {\"flipper_length_mm\": 196.3768115942029, \"bill_length_mm\": 58.69565217391305, \"pred\": \"Chinstrap\"}, {\"flipper_length_mm\": 196.3768115942029, \"bill_length_mm\": 59.130434782608695, \"pred\": \"Chinstrap\"}, {\"flipper_length_mm\": 196.3768115942029, \"bill_length_mm\": 59.565217391304344, \"pred\": \"Chinstrap\"}, {\"flipper_length_mm\": 196.3768115942029, \"bill_length_mm\": 60.0, \"pred\": \"Chinstrap\"}, {\"flipper_length_mm\": 197.31884057971016, \"bill_length_mm\": 30.0, \"pred\": \"Adelie\"}, {\"flipper_length_mm\": 197.31884057971016, \"bill_length_mm\": 30.434782608695652, \"pred\": \"Adelie\"}, {\"flipper_length_mm\": 197.31884057971016, \"bill_length_mm\": 30.869565217391305, \"pred\": \"Adelie\"}, {\"flipper_length_mm\": 197.31884057971016, \"bill_length_mm\": 31.304347826086957, \"pred\": \"Adelie\"}, {\"flipper_length_mm\": 197.31884057971016, \"bill_length_mm\": 31.73913043478261, \"pred\": \"Adelie\"}, {\"flipper_length_mm\": 197.31884057971016, \"bill_length_mm\": 32.17391304347826, \"pred\": \"Adelie\"}, {\"flipper_length_mm\": 197.31884057971016, \"bill_length_mm\": 32.608695652173914, \"pred\": \"Adelie\"}, {\"flipper_length_mm\": 197.31884057971016, \"bill_length_mm\": 33.04347826086956, \"pred\": \"Adelie\"}, {\"flipper_length_mm\": 197.31884057971016, \"bill_length_mm\": 33.47826086956522, \"pred\": \"Adelie\"}, {\"flipper_length_mm\": 197.31884057971016, \"bill_length_mm\": 33.91304347826087, \"pred\": \"Adelie\"}, {\"flipper_length_mm\": 197.31884057971016, \"bill_length_mm\": 34.34782608695652, \"pred\": \"Adelie\"}, {\"flipper_length_mm\": 197.31884057971016, \"bill_length_mm\": 34.78260869565217, \"pred\": \"Adelie\"}, {\"flipper_length_mm\": 197.31884057971016, \"bill_length_mm\": 35.21739130434783, \"pred\": \"Adelie\"}, {\"flipper_length_mm\": 197.31884057971016, \"bill_length_mm\": 35.65217391304348, \"pred\": \"Adelie\"}, {\"flipper_length_mm\": 197.31884057971016, \"bill_length_mm\": 36.08695652173913, \"pred\": \"Adelie\"}, {\"flipper_length_mm\": 197.31884057971016, \"bill_length_mm\": 36.52173913043478, \"pred\": \"Adelie\"}, {\"flipper_length_mm\": 197.31884057971016, \"bill_length_mm\": 36.95652173913044, \"pred\": \"Adelie\"}, {\"flipper_length_mm\": 197.31884057971016, \"bill_length_mm\": 37.391304347826086, \"pred\": \"Adelie\"}, {\"flipper_length_mm\": 197.31884057971016, \"bill_length_mm\": 37.82608695652174, \"pred\": \"Adelie\"}, {\"flipper_length_mm\": 197.31884057971016, \"bill_length_mm\": 38.26086956521739, \"pred\": \"Adelie\"}, {\"flipper_length_mm\": 197.31884057971016, \"bill_length_mm\": 38.69565217391305, \"pred\": \"Adelie\"}, {\"flipper_length_mm\": 197.31884057971016, \"bill_length_mm\": 39.130434782608695, \"pred\": \"Adelie\"}, {\"flipper_length_mm\": 197.31884057971016, \"bill_length_mm\": 39.565217391304344, \"pred\": \"Adelie\"}, {\"flipper_length_mm\": 197.31884057971016, \"bill_length_mm\": 40.0, \"pred\": \"Adelie\"}, {\"flipper_length_mm\": 197.31884057971016, \"bill_length_mm\": 40.434782608695656, \"pred\": \"Adelie\"}, {\"flipper_length_mm\": 197.31884057971016, \"bill_length_mm\": 40.869565217391305, \"pred\": \"Adelie\"}, {\"flipper_length_mm\": 197.31884057971016, \"bill_length_mm\": 41.30434782608695, \"pred\": \"Adelie\"}, {\"flipper_length_mm\": 197.31884057971016, \"bill_length_mm\": 41.73913043478261, \"pred\": \"Adelie\"}, {\"flipper_length_mm\": 197.31884057971016, \"bill_length_mm\": 42.17391304347826, \"pred\": \"Adelie\"}, {\"flipper_length_mm\": 197.31884057971016, \"bill_length_mm\": 42.608695652173914, \"pred\": \"Adelie\"}, {\"flipper_length_mm\": 197.31884057971016, \"bill_length_mm\": 43.04347826086956, \"pred\": \"Adelie\"}, {\"flipper_length_mm\": 197.31884057971016, \"bill_length_mm\": 43.47826086956522, \"pred\": \"Adelie\"}, {\"flipper_length_mm\": 197.31884057971016, \"bill_length_mm\": 43.91304347826087, \"pred\": \"Adelie\"}, {\"flipper_length_mm\": 197.31884057971016, \"bill_length_mm\": 44.34782608695652, \"pred\": \"Adelie\"}, {\"flipper_length_mm\": 197.31884057971016, \"bill_length_mm\": 44.78260869565217, \"pred\": \"Chinstrap\"}, {\"flipper_length_mm\": 197.31884057971016, \"bill_length_mm\": 45.21739130434783, \"pred\": \"Chinstrap\"}, {\"flipper_length_mm\": 197.31884057971016, \"bill_length_mm\": 45.65217391304348, \"pred\": \"Chinstrap\"}, {\"flipper_length_mm\": 197.31884057971016, \"bill_length_mm\": 46.086956521739125, \"pred\": \"Chinstrap\"}, {\"flipper_length_mm\": 197.31884057971016, \"bill_length_mm\": 46.52173913043478, \"pred\": \"Chinstrap\"}, {\"flipper_length_mm\": 197.31884057971016, \"bill_length_mm\": 46.95652173913044, \"pred\": \"Chinstrap\"}, {\"flipper_length_mm\": 197.31884057971016, \"bill_length_mm\": 47.391304347826086, \"pred\": \"Chinstrap\"}, {\"flipper_length_mm\": 197.31884057971016, \"bill_length_mm\": 47.826086956521735, \"pred\": \"Chinstrap\"}, {\"flipper_length_mm\": 197.31884057971016, \"bill_length_mm\": 48.26086956521739, \"pred\": \"Chinstrap\"}, {\"flipper_length_mm\": 197.31884057971016, \"bill_length_mm\": 48.69565217391305, \"pred\": \"Chinstrap\"}, {\"flipper_length_mm\": 197.31884057971016, \"bill_length_mm\": 49.130434782608695, \"pred\": \"Chinstrap\"}, {\"flipper_length_mm\": 197.31884057971016, \"bill_length_mm\": 49.565217391304344, \"pred\": \"Chinstrap\"}, {\"flipper_length_mm\": 197.31884057971016, \"bill_length_mm\": 50.0, \"pred\": \"Chinstrap\"}, {\"flipper_length_mm\": 197.31884057971016, \"bill_length_mm\": 50.434782608695656, \"pred\": \"Chinstrap\"}, {\"flipper_length_mm\": 197.31884057971016, \"bill_length_mm\": 50.869565217391305, \"pred\": \"Chinstrap\"}, {\"flipper_length_mm\": 197.31884057971016, \"bill_length_mm\": 51.30434782608695, \"pred\": \"Chinstrap\"}, {\"flipper_length_mm\": 197.31884057971016, \"bill_length_mm\": 51.73913043478261, \"pred\": \"Chinstrap\"}, {\"flipper_length_mm\": 197.31884057971016, \"bill_length_mm\": 52.173913043478265, \"pred\": \"Chinstrap\"}, {\"flipper_length_mm\": 197.31884057971016, \"bill_length_mm\": 52.608695652173914, \"pred\": \"Chinstrap\"}, {\"flipper_length_mm\": 197.31884057971016, \"bill_length_mm\": 53.04347826086956, \"pred\": \"Chinstrap\"}, {\"flipper_length_mm\": 197.31884057971016, \"bill_length_mm\": 53.47826086956522, \"pred\": \"Chinstrap\"}, {\"flipper_length_mm\": 197.31884057971016, \"bill_length_mm\": 53.91304347826087, \"pred\": \"Chinstrap\"}, {\"flipper_length_mm\": 197.31884057971016, \"bill_length_mm\": 54.347826086956516, \"pred\": \"Chinstrap\"}, {\"flipper_length_mm\": 197.31884057971016, \"bill_length_mm\": 54.78260869565217, \"pred\": \"Chinstrap\"}, {\"flipper_length_mm\": 197.31884057971016, \"bill_length_mm\": 55.21739130434783, \"pred\": \"Chinstrap\"}, {\"flipper_length_mm\": 197.31884057971016, \"bill_length_mm\": 55.65217391304348, \"pred\": \"Chinstrap\"}, {\"flipper_length_mm\": 197.31884057971016, \"bill_length_mm\": 56.086956521739125, \"pred\": \"Chinstrap\"}, {\"flipper_length_mm\": 197.31884057971016, \"bill_length_mm\": 56.52173913043478, \"pred\": \"Chinstrap\"}, {\"flipper_length_mm\": 197.31884057971016, \"bill_length_mm\": 56.95652173913044, \"pred\": \"Chinstrap\"}, {\"flipper_length_mm\": 197.31884057971016, \"bill_length_mm\": 57.391304347826086, \"pred\": \"Chinstrap\"}, {\"flipper_length_mm\": 197.31884057971016, \"bill_length_mm\": 57.826086956521735, \"pred\": \"Chinstrap\"}, {\"flipper_length_mm\": 197.31884057971016, \"bill_length_mm\": 58.26086956521739, \"pred\": \"Chinstrap\"}, {\"flipper_length_mm\": 197.31884057971016, \"bill_length_mm\": 58.69565217391305, \"pred\": \"Chinstrap\"}, {\"flipper_length_mm\": 197.31884057971016, \"bill_length_mm\": 59.130434782608695, \"pred\": \"Chinstrap\"}, {\"flipper_length_mm\": 197.31884057971016, \"bill_length_mm\": 59.565217391304344, \"pred\": \"Chinstrap\"}, {\"flipper_length_mm\": 197.31884057971016, \"bill_length_mm\": 60.0, \"pred\": \"Chinstrap\"}, {\"flipper_length_mm\": 198.26086956521738, \"bill_length_mm\": 30.0, \"pred\": \"Adelie\"}, {\"flipper_length_mm\": 198.26086956521738, \"bill_length_mm\": 30.434782608695652, \"pred\": \"Adelie\"}, {\"flipper_length_mm\": 198.26086956521738, \"bill_length_mm\": 30.869565217391305, \"pred\": \"Adelie\"}, {\"flipper_length_mm\": 198.26086956521738, \"bill_length_mm\": 31.304347826086957, \"pred\": \"Adelie\"}, {\"flipper_length_mm\": 198.26086956521738, \"bill_length_mm\": 31.73913043478261, \"pred\": \"Adelie\"}, {\"flipper_length_mm\": 198.26086956521738, \"bill_length_mm\": 32.17391304347826, \"pred\": \"Adelie\"}, {\"flipper_length_mm\": 198.26086956521738, \"bill_length_mm\": 32.608695652173914, \"pred\": \"Adelie\"}, {\"flipper_length_mm\": 198.26086956521738, \"bill_length_mm\": 33.04347826086956, \"pred\": \"Adelie\"}, {\"flipper_length_mm\": 198.26086956521738, \"bill_length_mm\": 33.47826086956522, \"pred\": \"Adelie\"}, {\"flipper_length_mm\": 198.26086956521738, \"bill_length_mm\": 33.91304347826087, \"pred\": \"Adelie\"}, {\"flipper_length_mm\": 198.26086956521738, \"bill_length_mm\": 34.34782608695652, \"pred\": \"Adelie\"}, {\"flipper_length_mm\": 198.26086956521738, \"bill_length_mm\": 34.78260869565217, \"pred\": \"Adelie\"}, {\"flipper_length_mm\": 198.26086956521738, \"bill_length_mm\": 35.21739130434783, \"pred\": \"Adelie\"}, {\"flipper_length_mm\": 198.26086956521738, \"bill_length_mm\": 35.65217391304348, \"pred\": \"Adelie\"}, {\"flipper_length_mm\": 198.26086956521738, \"bill_length_mm\": 36.08695652173913, \"pred\": \"Adelie\"}, {\"flipper_length_mm\": 198.26086956521738, \"bill_length_mm\": 36.52173913043478, \"pred\": \"Adelie\"}, {\"flipper_length_mm\": 198.26086956521738, \"bill_length_mm\": 36.95652173913044, \"pred\": \"Adelie\"}, {\"flipper_length_mm\": 198.26086956521738, \"bill_length_mm\": 37.391304347826086, \"pred\": \"Adelie\"}, {\"flipper_length_mm\": 198.26086956521738, \"bill_length_mm\": 37.82608695652174, \"pred\": \"Adelie\"}, {\"flipper_length_mm\": 198.26086956521738, \"bill_length_mm\": 38.26086956521739, \"pred\": \"Adelie\"}, {\"flipper_length_mm\": 198.26086956521738, \"bill_length_mm\": 38.69565217391305, \"pred\": \"Adelie\"}, {\"flipper_length_mm\": 198.26086956521738, \"bill_length_mm\": 39.130434782608695, \"pred\": \"Adelie\"}, {\"flipper_length_mm\": 198.26086956521738, \"bill_length_mm\": 39.565217391304344, \"pred\": \"Adelie\"}, {\"flipper_length_mm\": 198.26086956521738, \"bill_length_mm\": 40.0, \"pred\": \"Adelie\"}, {\"flipper_length_mm\": 198.26086956521738, \"bill_length_mm\": 40.434782608695656, \"pred\": \"Adelie\"}, {\"flipper_length_mm\": 198.26086956521738, \"bill_length_mm\": 40.869565217391305, \"pred\": \"Adelie\"}, {\"flipper_length_mm\": 198.26086956521738, \"bill_length_mm\": 41.30434782608695, \"pred\": \"Adelie\"}, {\"flipper_length_mm\": 198.26086956521738, \"bill_length_mm\": 41.73913043478261, \"pred\": \"Adelie\"}, {\"flipper_length_mm\": 198.26086956521738, \"bill_length_mm\": 42.17391304347826, \"pred\": \"Adelie\"}, {\"flipper_length_mm\": 198.26086956521738, \"bill_length_mm\": 42.608695652173914, \"pred\": \"Adelie\"}, {\"flipper_length_mm\": 198.26086956521738, \"bill_length_mm\": 43.04347826086956, \"pred\": \"Adelie\"}, {\"flipper_length_mm\": 198.26086956521738, \"bill_length_mm\": 43.47826086956522, \"pred\": \"Adelie\"}, {\"flipper_length_mm\": 198.26086956521738, \"bill_length_mm\": 43.91304347826087, \"pred\": \"Adelie\"}, {\"flipper_length_mm\": 198.26086956521738, \"bill_length_mm\": 44.34782608695652, \"pred\": \"Adelie\"}, {\"flipper_length_mm\": 198.26086956521738, \"bill_length_mm\": 44.78260869565217, \"pred\": \"Chinstrap\"}, {\"flipper_length_mm\": 198.26086956521738, \"bill_length_mm\": 45.21739130434783, \"pred\": \"Chinstrap\"}, {\"flipper_length_mm\": 198.26086956521738, \"bill_length_mm\": 45.65217391304348, \"pred\": \"Chinstrap\"}, {\"flipper_length_mm\": 198.26086956521738, \"bill_length_mm\": 46.086956521739125, \"pred\": \"Chinstrap\"}, {\"flipper_length_mm\": 198.26086956521738, \"bill_length_mm\": 46.52173913043478, \"pred\": \"Chinstrap\"}, {\"flipper_length_mm\": 198.26086956521738, \"bill_length_mm\": 46.95652173913044, \"pred\": \"Chinstrap\"}, {\"flipper_length_mm\": 198.26086956521738, \"bill_length_mm\": 47.391304347826086, \"pred\": \"Chinstrap\"}, {\"flipper_length_mm\": 198.26086956521738, \"bill_length_mm\": 47.826086956521735, \"pred\": \"Chinstrap\"}, {\"flipper_length_mm\": 198.26086956521738, \"bill_length_mm\": 48.26086956521739, \"pred\": \"Chinstrap\"}, {\"flipper_length_mm\": 198.26086956521738, \"bill_length_mm\": 48.69565217391305, \"pred\": \"Chinstrap\"}, {\"flipper_length_mm\": 198.26086956521738, \"bill_length_mm\": 49.130434782608695, \"pred\": \"Chinstrap\"}, {\"flipper_length_mm\": 198.26086956521738, \"bill_length_mm\": 49.565217391304344, \"pred\": \"Chinstrap\"}, {\"flipper_length_mm\": 198.26086956521738, \"bill_length_mm\": 50.0, \"pred\": \"Chinstrap\"}, {\"flipper_length_mm\": 198.26086956521738, \"bill_length_mm\": 50.434782608695656, \"pred\": \"Chinstrap\"}, {\"flipper_length_mm\": 198.26086956521738, \"bill_length_mm\": 50.869565217391305, \"pred\": \"Chinstrap\"}, {\"flipper_length_mm\": 198.26086956521738, \"bill_length_mm\": 51.30434782608695, \"pred\": \"Chinstrap\"}, {\"flipper_length_mm\": 198.26086956521738, \"bill_length_mm\": 51.73913043478261, \"pred\": \"Chinstrap\"}, {\"flipper_length_mm\": 198.26086956521738, \"bill_length_mm\": 52.173913043478265, \"pred\": \"Chinstrap\"}, {\"flipper_length_mm\": 198.26086956521738, \"bill_length_mm\": 52.608695652173914, \"pred\": \"Chinstrap\"}, {\"flipper_length_mm\": 198.26086956521738, \"bill_length_mm\": 53.04347826086956, \"pred\": \"Chinstrap\"}, {\"flipper_length_mm\": 198.26086956521738, \"bill_length_mm\": 53.47826086956522, \"pred\": \"Chinstrap\"}, {\"flipper_length_mm\": 198.26086956521738, \"bill_length_mm\": 53.91304347826087, \"pred\": \"Chinstrap\"}, {\"flipper_length_mm\": 198.26086956521738, \"bill_length_mm\": 54.347826086956516, \"pred\": \"Chinstrap\"}, {\"flipper_length_mm\": 198.26086956521738, \"bill_length_mm\": 54.78260869565217, \"pred\": \"Chinstrap\"}, {\"flipper_length_mm\": 198.26086956521738, \"bill_length_mm\": 55.21739130434783, \"pred\": \"Chinstrap\"}, {\"flipper_length_mm\": 198.26086956521738, \"bill_length_mm\": 55.65217391304348, \"pred\": \"Chinstrap\"}, {\"flipper_length_mm\": 198.26086956521738, \"bill_length_mm\": 56.086956521739125, \"pred\": \"Chinstrap\"}, {\"flipper_length_mm\": 198.26086956521738, \"bill_length_mm\": 56.52173913043478, \"pred\": \"Chinstrap\"}, {\"flipper_length_mm\": 198.26086956521738, \"bill_length_mm\": 56.95652173913044, \"pred\": \"Chinstrap\"}, {\"flipper_length_mm\": 198.26086956521738, \"bill_length_mm\": 57.391304347826086, \"pred\": \"Chinstrap\"}, {\"flipper_length_mm\": 198.26086956521738, \"bill_length_mm\": 57.826086956521735, \"pred\": \"Chinstrap\"}, {\"flipper_length_mm\": 198.26086956521738, \"bill_length_mm\": 58.26086956521739, \"pred\": \"Chinstrap\"}, {\"flipper_length_mm\": 198.26086956521738, \"bill_length_mm\": 58.69565217391305, \"pred\": \"Chinstrap\"}, {\"flipper_length_mm\": 198.26086956521738, \"bill_length_mm\": 59.130434782608695, \"pred\": \"Chinstrap\"}, {\"flipper_length_mm\": 198.26086956521738, \"bill_length_mm\": 59.565217391304344, \"pred\": \"Chinstrap\"}, {\"flipper_length_mm\": 198.26086956521738, \"bill_length_mm\": 60.0, \"pred\": \"Chinstrap\"}, {\"flipper_length_mm\": 199.20289855072463, \"bill_length_mm\": 30.0, \"pred\": \"Adelie\"}, {\"flipper_length_mm\": 199.20289855072463, \"bill_length_mm\": 30.434782608695652, \"pred\": \"Adelie\"}, {\"flipper_length_mm\": 199.20289855072463, \"bill_length_mm\": 30.869565217391305, \"pred\": \"Adelie\"}, {\"flipper_length_mm\": 199.20289855072463, \"bill_length_mm\": 31.304347826086957, \"pred\": \"Adelie\"}, {\"flipper_length_mm\": 199.20289855072463, \"bill_length_mm\": 31.73913043478261, \"pred\": \"Adelie\"}, {\"flipper_length_mm\": 199.20289855072463, \"bill_length_mm\": 32.17391304347826, \"pred\": \"Adelie\"}, {\"flipper_length_mm\": 199.20289855072463, \"bill_length_mm\": 32.608695652173914, \"pred\": \"Adelie\"}, {\"flipper_length_mm\": 199.20289855072463, \"bill_length_mm\": 33.04347826086956, \"pred\": \"Adelie\"}, {\"flipper_length_mm\": 199.20289855072463, \"bill_length_mm\": 33.47826086956522, \"pred\": \"Adelie\"}, {\"flipper_length_mm\": 199.20289855072463, \"bill_length_mm\": 33.91304347826087, \"pred\": \"Adelie\"}, {\"flipper_length_mm\": 199.20289855072463, \"bill_length_mm\": 34.34782608695652, \"pred\": \"Adelie\"}, {\"flipper_length_mm\": 199.20289855072463, \"bill_length_mm\": 34.78260869565217, \"pred\": \"Adelie\"}, {\"flipper_length_mm\": 199.20289855072463, \"bill_length_mm\": 35.21739130434783, \"pred\": \"Adelie\"}, {\"flipper_length_mm\": 199.20289855072463, \"bill_length_mm\": 35.65217391304348, \"pred\": \"Adelie\"}, {\"flipper_length_mm\": 199.20289855072463, \"bill_length_mm\": 36.08695652173913, \"pred\": \"Adelie\"}, {\"flipper_length_mm\": 199.20289855072463, \"bill_length_mm\": 36.52173913043478, \"pred\": \"Adelie\"}, {\"flipper_length_mm\": 199.20289855072463, \"bill_length_mm\": 36.95652173913044, \"pred\": \"Adelie\"}, {\"flipper_length_mm\": 199.20289855072463, \"bill_length_mm\": 37.391304347826086, \"pred\": \"Adelie\"}, {\"flipper_length_mm\": 199.20289855072463, \"bill_length_mm\": 37.82608695652174, \"pred\": \"Adelie\"}, {\"flipper_length_mm\": 199.20289855072463, \"bill_length_mm\": 38.26086956521739, \"pred\": \"Adelie\"}, {\"flipper_length_mm\": 199.20289855072463, \"bill_length_mm\": 38.69565217391305, \"pred\": \"Adelie\"}, {\"flipper_length_mm\": 199.20289855072463, \"bill_length_mm\": 39.130434782608695, \"pred\": \"Adelie\"}, {\"flipper_length_mm\": 199.20289855072463, \"bill_length_mm\": 39.565217391304344, \"pred\": \"Adelie\"}, {\"flipper_length_mm\": 199.20289855072463, \"bill_length_mm\": 40.0, \"pred\": \"Adelie\"}, {\"flipper_length_mm\": 199.20289855072463, \"bill_length_mm\": 40.434782608695656, \"pred\": \"Adelie\"}, {\"flipper_length_mm\": 199.20289855072463, \"bill_length_mm\": 40.869565217391305, \"pred\": \"Adelie\"}, {\"flipper_length_mm\": 199.20289855072463, \"bill_length_mm\": 41.30434782608695, \"pred\": \"Adelie\"}, {\"flipper_length_mm\": 199.20289855072463, \"bill_length_mm\": 41.73913043478261, \"pred\": \"Adelie\"}, {\"flipper_length_mm\": 199.20289855072463, \"bill_length_mm\": 42.17391304347826, \"pred\": \"Adelie\"}, {\"flipper_length_mm\": 199.20289855072463, \"bill_length_mm\": 42.608695652173914, \"pred\": \"Adelie\"}, {\"flipper_length_mm\": 199.20289855072463, \"bill_length_mm\": 43.04347826086956, \"pred\": \"Adelie\"}, {\"flipper_length_mm\": 199.20289855072463, \"bill_length_mm\": 43.47826086956522, \"pred\": \"Adelie\"}, {\"flipper_length_mm\": 199.20289855072463, \"bill_length_mm\": 43.91304347826087, \"pred\": \"Adelie\"}, {\"flipper_length_mm\": 199.20289855072463, \"bill_length_mm\": 44.34782608695652, \"pred\": \"Adelie\"}, {\"flipper_length_mm\": 199.20289855072463, \"bill_length_mm\": 44.78260869565217, \"pred\": \"Adelie\"}, {\"flipper_length_mm\": 199.20289855072463, \"bill_length_mm\": 45.21739130434783, \"pred\": \"Chinstrap\"}, {\"flipper_length_mm\": 199.20289855072463, \"bill_length_mm\": 45.65217391304348, \"pred\": \"Chinstrap\"}, {\"flipper_length_mm\": 199.20289855072463, \"bill_length_mm\": 46.086956521739125, \"pred\": \"Chinstrap\"}, {\"flipper_length_mm\": 199.20289855072463, \"bill_length_mm\": 46.52173913043478, \"pred\": \"Chinstrap\"}, {\"flipper_length_mm\": 199.20289855072463, \"bill_length_mm\": 46.95652173913044, \"pred\": \"Chinstrap\"}, {\"flipper_length_mm\": 199.20289855072463, \"bill_length_mm\": 47.391304347826086, \"pred\": \"Chinstrap\"}, {\"flipper_length_mm\": 199.20289855072463, \"bill_length_mm\": 47.826086956521735, \"pred\": \"Chinstrap\"}, {\"flipper_length_mm\": 199.20289855072463, \"bill_length_mm\": 48.26086956521739, \"pred\": \"Chinstrap\"}, {\"flipper_length_mm\": 199.20289855072463, \"bill_length_mm\": 48.69565217391305, \"pred\": \"Chinstrap\"}, {\"flipper_length_mm\": 199.20289855072463, \"bill_length_mm\": 49.130434782608695, \"pred\": \"Chinstrap\"}, {\"flipper_length_mm\": 199.20289855072463, \"bill_length_mm\": 49.565217391304344, \"pred\": \"Chinstrap\"}, {\"flipper_length_mm\": 199.20289855072463, \"bill_length_mm\": 50.0, \"pred\": \"Chinstrap\"}, {\"flipper_length_mm\": 199.20289855072463, \"bill_length_mm\": 50.434782608695656, \"pred\": \"Chinstrap\"}, {\"flipper_length_mm\": 199.20289855072463, \"bill_length_mm\": 50.869565217391305, \"pred\": \"Chinstrap\"}, {\"flipper_length_mm\": 199.20289855072463, \"bill_length_mm\": 51.30434782608695, \"pred\": \"Chinstrap\"}, {\"flipper_length_mm\": 199.20289855072463, \"bill_length_mm\": 51.73913043478261, \"pred\": \"Chinstrap\"}, {\"flipper_length_mm\": 199.20289855072463, \"bill_length_mm\": 52.173913043478265, \"pred\": \"Chinstrap\"}, {\"flipper_length_mm\": 199.20289855072463, \"bill_length_mm\": 52.608695652173914, \"pred\": \"Chinstrap\"}, {\"flipper_length_mm\": 199.20289855072463, \"bill_length_mm\": 53.04347826086956, \"pred\": \"Chinstrap\"}, {\"flipper_length_mm\": 199.20289855072463, \"bill_length_mm\": 53.47826086956522, \"pred\": \"Chinstrap\"}, {\"flipper_length_mm\": 199.20289855072463, \"bill_length_mm\": 53.91304347826087, \"pred\": \"Chinstrap\"}, {\"flipper_length_mm\": 199.20289855072463, \"bill_length_mm\": 54.347826086956516, \"pred\": \"Chinstrap\"}, {\"flipper_length_mm\": 199.20289855072463, \"bill_length_mm\": 54.78260869565217, \"pred\": \"Chinstrap\"}, {\"flipper_length_mm\": 199.20289855072463, \"bill_length_mm\": 55.21739130434783, \"pred\": \"Chinstrap\"}, {\"flipper_length_mm\": 199.20289855072463, \"bill_length_mm\": 55.65217391304348, \"pred\": \"Chinstrap\"}, {\"flipper_length_mm\": 199.20289855072463, \"bill_length_mm\": 56.086956521739125, \"pred\": \"Chinstrap\"}, {\"flipper_length_mm\": 199.20289855072463, \"bill_length_mm\": 56.52173913043478, \"pred\": \"Chinstrap\"}, {\"flipper_length_mm\": 199.20289855072463, \"bill_length_mm\": 56.95652173913044, \"pred\": \"Chinstrap\"}, {\"flipper_length_mm\": 199.20289855072463, \"bill_length_mm\": 57.391304347826086, \"pred\": \"Chinstrap\"}, {\"flipper_length_mm\": 199.20289855072463, \"bill_length_mm\": 57.826086956521735, \"pred\": \"Chinstrap\"}, {\"flipper_length_mm\": 199.20289855072463, \"bill_length_mm\": 58.26086956521739, \"pred\": \"Chinstrap\"}, {\"flipper_length_mm\": 199.20289855072463, \"bill_length_mm\": 58.69565217391305, \"pred\": \"Chinstrap\"}, {\"flipper_length_mm\": 199.20289855072463, \"bill_length_mm\": 59.130434782608695, \"pred\": \"Chinstrap\"}, {\"flipper_length_mm\": 199.20289855072463, \"bill_length_mm\": 59.565217391304344, \"pred\": \"Chinstrap\"}, {\"flipper_length_mm\": 199.20289855072463, \"bill_length_mm\": 60.0, \"pred\": \"Chinstrap\"}, {\"flipper_length_mm\": 200.14492753623188, \"bill_length_mm\": 30.0, \"pred\": \"Adelie\"}, {\"flipper_length_mm\": 200.14492753623188, \"bill_length_mm\": 30.434782608695652, \"pred\": \"Adelie\"}, {\"flipper_length_mm\": 200.14492753623188, \"bill_length_mm\": 30.869565217391305, \"pred\": \"Adelie\"}, {\"flipper_length_mm\": 200.14492753623188, \"bill_length_mm\": 31.304347826086957, \"pred\": \"Adelie\"}, {\"flipper_length_mm\": 200.14492753623188, \"bill_length_mm\": 31.73913043478261, \"pred\": \"Adelie\"}, {\"flipper_length_mm\": 200.14492753623188, \"bill_length_mm\": 32.17391304347826, \"pred\": \"Adelie\"}, {\"flipper_length_mm\": 200.14492753623188, \"bill_length_mm\": 32.608695652173914, \"pred\": \"Adelie\"}, {\"flipper_length_mm\": 200.14492753623188, \"bill_length_mm\": 33.04347826086956, \"pred\": \"Adelie\"}, {\"flipper_length_mm\": 200.14492753623188, \"bill_length_mm\": 33.47826086956522, \"pred\": \"Adelie\"}, {\"flipper_length_mm\": 200.14492753623188, \"bill_length_mm\": 33.91304347826087, \"pred\": \"Adelie\"}, {\"flipper_length_mm\": 200.14492753623188, \"bill_length_mm\": 34.34782608695652, \"pred\": \"Adelie\"}, {\"flipper_length_mm\": 200.14492753623188, \"bill_length_mm\": 34.78260869565217, \"pred\": \"Adelie\"}, {\"flipper_length_mm\": 200.14492753623188, \"bill_length_mm\": 35.21739130434783, \"pred\": \"Adelie\"}, {\"flipper_length_mm\": 200.14492753623188, \"bill_length_mm\": 35.65217391304348, \"pred\": \"Adelie\"}, {\"flipper_length_mm\": 200.14492753623188, \"bill_length_mm\": 36.08695652173913, \"pred\": \"Adelie\"}, {\"flipper_length_mm\": 200.14492753623188, \"bill_length_mm\": 36.52173913043478, \"pred\": \"Adelie\"}, {\"flipper_length_mm\": 200.14492753623188, \"bill_length_mm\": 36.95652173913044, \"pred\": \"Adelie\"}, {\"flipper_length_mm\": 200.14492753623188, \"bill_length_mm\": 37.391304347826086, \"pred\": \"Adelie\"}, {\"flipper_length_mm\": 200.14492753623188, \"bill_length_mm\": 37.82608695652174, \"pred\": \"Adelie\"}, {\"flipper_length_mm\": 200.14492753623188, \"bill_length_mm\": 38.26086956521739, \"pred\": \"Adelie\"}, {\"flipper_length_mm\": 200.14492753623188, \"bill_length_mm\": 38.69565217391305, \"pred\": \"Adelie\"}, {\"flipper_length_mm\": 200.14492753623188, \"bill_length_mm\": 39.130434782608695, \"pred\": \"Adelie\"}, {\"flipper_length_mm\": 200.14492753623188, \"bill_length_mm\": 39.565217391304344, \"pred\": \"Adelie\"}, {\"flipper_length_mm\": 200.14492753623188, \"bill_length_mm\": 40.0, \"pred\": \"Adelie\"}, {\"flipper_length_mm\": 200.14492753623188, \"bill_length_mm\": 40.434782608695656, \"pred\": \"Adelie\"}, {\"flipper_length_mm\": 200.14492753623188, \"bill_length_mm\": 40.869565217391305, \"pred\": \"Adelie\"}, {\"flipper_length_mm\": 200.14492753623188, \"bill_length_mm\": 41.30434782608695, \"pred\": \"Adelie\"}, {\"flipper_length_mm\": 200.14492753623188, \"bill_length_mm\": 41.73913043478261, \"pred\": \"Adelie\"}, {\"flipper_length_mm\": 200.14492753623188, \"bill_length_mm\": 42.17391304347826, \"pred\": \"Adelie\"}, {\"flipper_length_mm\": 200.14492753623188, \"bill_length_mm\": 42.608695652173914, \"pred\": \"Adelie\"}, {\"flipper_length_mm\": 200.14492753623188, \"bill_length_mm\": 43.04347826086956, \"pred\": \"Adelie\"}, {\"flipper_length_mm\": 200.14492753623188, \"bill_length_mm\": 43.47826086956522, \"pred\": \"Adelie\"}, {\"flipper_length_mm\": 200.14492753623188, \"bill_length_mm\": 43.91304347826087, \"pred\": \"Adelie\"}, {\"flipper_length_mm\": 200.14492753623188, \"bill_length_mm\": 44.34782608695652, \"pred\": \"Adelie\"}, {\"flipper_length_mm\": 200.14492753623188, \"bill_length_mm\": 44.78260869565217, \"pred\": \"Adelie\"}, {\"flipper_length_mm\": 200.14492753623188, \"bill_length_mm\": 45.21739130434783, \"pred\": \"Chinstrap\"}, {\"flipper_length_mm\": 200.14492753623188, \"bill_length_mm\": 45.65217391304348, \"pred\": \"Chinstrap\"}, {\"flipper_length_mm\": 200.14492753623188, \"bill_length_mm\": 46.086956521739125, \"pred\": \"Chinstrap\"}, {\"flipper_length_mm\": 200.14492753623188, \"bill_length_mm\": 46.52173913043478, \"pred\": \"Chinstrap\"}, {\"flipper_length_mm\": 200.14492753623188, \"bill_length_mm\": 46.95652173913044, \"pred\": \"Chinstrap\"}, {\"flipper_length_mm\": 200.14492753623188, \"bill_length_mm\": 47.391304347826086, \"pred\": \"Chinstrap\"}, {\"flipper_length_mm\": 200.14492753623188, \"bill_length_mm\": 47.826086956521735, \"pred\": \"Chinstrap\"}, {\"flipper_length_mm\": 200.14492753623188, \"bill_length_mm\": 48.26086956521739, \"pred\": \"Chinstrap\"}, {\"flipper_length_mm\": 200.14492753623188, \"bill_length_mm\": 48.69565217391305, \"pred\": \"Chinstrap\"}, {\"flipper_length_mm\": 200.14492753623188, \"bill_length_mm\": 49.130434782608695, \"pred\": \"Chinstrap\"}, {\"flipper_length_mm\": 200.14492753623188, \"bill_length_mm\": 49.565217391304344, \"pred\": \"Chinstrap\"}, {\"flipper_length_mm\": 200.14492753623188, \"bill_length_mm\": 50.0, \"pred\": \"Chinstrap\"}, {\"flipper_length_mm\": 200.14492753623188, \"bill_length_mm\": 50.434782608695656, \"pred\": \"Chinstrap\"}, {\"flipper_length_mm\": 200.14492753623188, \"bill_length_mm\": 50.869565217391305, \"pred\": \"Chinstrap\"}, {\"flipper_length_mm\": 200.14492753623188, \"bill_length_mm\": 51.30434782608695, \"pred\": \"Chinstrap\"}, {\"flipper_length_mm\": 200.14492753623188, \"bill_length_mm\": 51.73913043478261, \"pred\": \"Chinstrap\"}, {\"flipper_length_mm\": 200.14492753623188, \"bill_length_mm\": 52.173913043478265, \"pred\": \"Chinstrap\"}, {\"flipper_length_mm\": 200.14492753623188, \"bill_length_mm\": 52.608695652173914, \"pred\": \"Chinstrap\"}, {\"flipper_length_mm\": 200.14492753623188, \"bill_length_mm\": 53.04347826086956, \"pred\": \"Chinstrap\"}, {\"flipper_length_mm\": 200.14492753623188, \"bill_length_mm\": 53.47826086956522, \"pred\": \"Chinstrap\"}, {\"flipper_length_mm\": 200.14492753623188, \"bill_length_mm\": 53.91304347826087, \"pred\": \"Chinstrap\"}, {\"flipper_length_mm\": 200.14492753623188, \"bill_length_mm\": 54.347826086956516, \"pred\": \"Chinstrap\"}, {\"flipper_length_mm\": 200.14492753623188, \"bill_length_mm\": 54.78260869565217, \"pred\": \"Chinstrap\"}, {\"flipper_length_mm\": 200.14492753623188, \"bill_length_mm\": 55.21739130434783, \"pred\": \"Chinstrap\"}, {\"flipper_length_mm\": 200.14492753623188, \"bill_length_mm\": 55.65217391304348, \"pred\": \"Chinstrap\"}, {\"flipper_length_mm\": 200.14492753623188, \"bill_length_mm\": 56.086956521739125, \"pred\": \"Chinstrap\"}, {\"flipper_length_mm\": 200.14492753623188, \"bill_length_mm\": 56.52173913043478, \"pred\": \"Chinstrap\"}, {\"flipper_length_mm\": 200.14492753623188, \"bill_length_mm\": 56.95652173913044, \"pred\": \"Chinstrap\"}, {\"flipper_length_mm\": 200.14492753623188, \"bill_length_mm\": 57.391304347826086, \"pred\": \"Chinstrap\"}, {\"flipper_length_mm\": 200.14492753623188, \"bill_length_mm\": 57.826086956521735, \"pred\": \"Chinstrap\"}, {\"flipper_length_mm\": 200.14492753623188, \"bill_length_mm\": 58.26086956521739, \"pred\": \"Chinstrap\"}, {\"flipper_length_mm\": 200.14492753623188, \"bill_length_mm\": 58.69565217391305, \"pred\": \"Chinstrap\"}, {\"flipper_length_mm\": 200.14492753623188, \"bill_length_mm\": 59.130434782608695, \"pred\": \"Chinstrap\"}, {\"flipper_length_mm\": 200.14492753623188, \"bill_length_mm\": 59.565217391304344, \"pred\": \"Chinstrap\"}, {\"flipper_length_mm\": 200.14492753623188, \"bill_length_mm\": 60.0, \"pred\": \"Chinstrap\"}, {\"flipper_length_mm\": 201.08695652173913, \"bill_length_mm\": 30.0, \"pred\": \"Adelie\"}, {\"flipper_length_mm\": 201.08695652173913, \"bill_length_mm\": 30.434782608695652, \"pred\": \"Adelie\"}, {\"flipper_length_mm\": 201.08695652173913, \"bill_length_mm\": 30.869565217391305, \"pred\": \"Adelie\"}, {\"flipper_length_mm\": 201.08695652173913, \"bill_length_mm\": 31.304347826086957, \"pred\": \"Adelie\"}, {\"flipper_length_mm\": 201.08695652173913, \"bill_length_mm\": 31.73913043478261, \"pred\": \"Adelie\"}, {\"flipper_length_mm\": 201.08695652173913, \"bill_length_mm\": 32.17391304347826, \"pred\": \"Adelie\"}, {\"flipper_length_mm\": 201.08695652173913, \"bill_length_mm\": 32.608695652173914, \"pred\": \"Adelie\"}, {\"flipper_length_mm\": 201.08695652173913, \"bill_length_mm\": 33.04347826086956, \"pred\": \"Adelie\"}, {\"flipper_length_mm\": 201.08695652173913, \"bill_length_mm\": 33.47826086956522, \"pred\": \"Adelie\"}, {\"flipper_length_mm\": 201.08695652173913, \"bill_length_mm\": 33.91304347826087, \"pred\": \"Adelie\"}, {\"flipper_length_mm\": 201.08695652173913, \"bill_length_mm\": 34.34782608695652, \"pred\": \"Adelie\"}, {\"flipper_length_mm\": 201.08695652173913, \"bill_length_mm\": 34.78260869565217, \"pred\": \"Adelie\"}, {\"flipper_length_mm\": 201.08695652173913, \"bill_length_mm\": 35.21739130434783, \"pred\": \"Adelie\"}, {\"flipper_length_mm\": 201.08695652173913, \"bill_length_mm\": 35.65217391304348, \"pred\": \"Adelie\"}, {\"flipper_length_mm\": 201.08695652173913, \"bill_length_mm\": 36.08695652173913, \"pred\": \"Adelie\"}, {\"flipper_length_mm\": 201.08695652173913, \"bill_length_mm\": 36.52173913043478, \"pred\": \"Adelie\"}, {\"flipper_length_mm\": 201.08695652173913, \"bill_length_mm\": 36.95652173913044, \"pred\": \"Adelie\"}, {\"flipper_length_mm\": 201.08695652173913, \"bill_length_mm\": 37.391304347826086, \"pred\": \"Adelie\"}, {\"flipper_length_mm\": 201.08695652173913, \"bill_length_mm\": 37.82608695652174, \"pred\": \"Adelie\"}, {\"flipper_length_mm\": 201.08695652173913, \"bill_length_mm\": 38.26086956521739, \"pred\": \"Adelie\"}, {\"flipper_length_mm\": 201.08695652173913, \"bill_length_mm\": 38.69565217391305, \"pred\": \"Adelie\"}, {\"flipper_length_mm\": 201.08695652173913, \"bill_length_mm\": 39.130434782608695, \"pred\": \"Adelie\"}, {\"flipper_length_mm\": 201.08695652173913, \"bill_length_mm\": 39.565217391304344, \"pred\": \"Adelie\"}, {\"flipper_length_mm\": 201.08695652173913, \"bill_length_mm\": 40.0, \"pred\": \"Adelie\"}, {\"flipper_length_mm\": 201.08695652173913, \"bill_length_mm\": 40.434782608695656, \"pred\": \"Adelie\"}, {\"flipper_length_mm\": 201.08695652173913, \"bill_length_mm\": 40.869565217391305, \"pred\": \"Adelie\"}, {\"flipper_length_mm\": 201.08695652173913, \"bill_length_mm\": 41.30434782608695, \"pred\": \"Adelie\"}, {\"flipper_length_mm\": 201.08695652173913, \"bill_length_mm\": 41.73913043478261, \"pred\": \"Adelie\"}, {\"flipper_length_mm\": 201.08695652173913, \"bill_length_mm\": 42.17391304347826, \"pred\": \"Adelie\"}, {\"flipper_length_mm\": 201.08695652173913, \"bill_length_mm\": 42.608695652173914, \"pred\": \"Adelie\"}, {\"flipper_length_mm\": 201.08695652173913, \"bill_length_mm\": 43.04347826086956, \"pred\": \"Adelie\"}, {\"flipper_length_mm\": 201.08695652173913, \"bill_length_mm\": 43.47826086956522, \"pred\": \"Adelie\"}, {\"flipper_length_mm\": 201.08695652173913, \"bill_length_mm\": 43.91304347826087, \"pred\": \"Adelie\"}, {\"flipper_length_mm\": 201.08695652173913, \"bill_length_mm\": 44.34782608695652, \"pred\": \"Adelie\"}, {\"flipper_length_mm\": 201.08695652173913, \"bill_length_mm\": 44.78260869565217, \"pred\": \"Adelie\"}, {\"flipper_length_mm\": 201.08695652173913, \"bill_length_mm\": 45.21739130434783, \"pred\": \"Chinstrap\"}, {\"flipper_length_mm\": 201.08695652173913, \"bill_length_mm\": 45.65217391304348, \"pred\": \"Chinstrap\"}, {\"flipper_length_mm\": 201.08695652173913, \"bill_length_mm\": 46.086956521739125, \"pred\": \"Chinstrap\"}, {\"flipper_length_mm\": 201.08695652173913, \"bill_length_mm\": 46.52173913043478, \"pred\": \"Chinstrap\"}, {\"flipper_length_mm\": 201.08695652173913, \"bill_length_mm\": 46.95652173913044, \"pred\": \"Chinstrap\"}, {\"flipper_length_mm\": 201.08695652173913, \"bill_length_mm\": 47.391304347826086, \"pred\": \"Chinstrap\"}, {\"flipper_length_mm\": 201.08695652173913, \"bill_length_mm\": 47.826086956521735, \"pred\": \"Chinstrap\"}, {\"flipper_length_mm\": 201.08695652173913, \"bill_length_mm\": 48.26086956521739, \"pred\": \"Chinstrap\"}, {\"flipper_length_mm\": 201.08695652173913, \"bill_length_mm\": 48.69565217391305, \"pred\": \"Chinstrap\"}, {\"flipper_length_mm\": 201.08695652173913, \"bill_length_mm\": 49.130434782608695, \"pred\": \"Chinstrap\"}, {\"flipper_length_mm\": 201.08695652173913, \"bill_length_mm\": 49.565217391304344, \"pred\": \"Chinstrap\"}, {\"flipper_length_mm\": 201.08695652173913, \"bill_length_mm\": 50.0, \"pred\": \"Chinstrap\"}, {\"flipper_length_mm\": 201.08695652173913, \"bill_length_mm\": 50.434782608695656, \"pred\": \"Chinstrap\"}, {\"flipper_length_mm\": 201.08695652173913, \"bill_length_mm\": 50.869565217391305, \"pred\": \"Chinstrap\"}, {\"flipper_length_mm\": 201.08695652173913, \"bill_length_mm\": 51.30434782608695, \"pred\": \"Chinstrap\"}, {\"flipper_length_mm\": 201.08695652173913, \"bill_length_mm\": 51.73913043478261, \"pred\": \"Chinstrap\"}, {\"flipper_length_mm\": 201.08695652173913, \"bill_length_mm\": 52.173913043478265, \"pred\": \"Chinstrap\"}, {\"flipper_length_mm\": 201.08695652173913, \"bill_length_mm\": 52.608695652173914, \"pred\": \"Chinstrap\"}, {\"flipper_length_mm\": 201.08695652173913, \"bill_length_mm\": 53.04347826086956, \"pred\": \"Chinstrap\"}, {\"flipper_length_mm\": 201.08695652173913, \"bill_length_mm\": 53.47826086956522, \"pred\": \"Chinstrap\"}, {\"flipper_length_mm\": 201.08695652173913, \"bill_length_mm\": 53.91304347826087, \"pred\": \"Chinstrap\"}, {\"flipper_length_mm\": 201.08695652173913, \"bill_length_mm\": 54.347826086956516, \"pred\": \"Chinstrap\"}, {\"flipper_length_mm\": 201.08695652173913, \"bill_length_mm\": 54.78260869565217, \"pred\": \"Chinstrap\"}, {\"flipper_length_mm\": 201.08695652173913, \"bill_length_mm\": 55.21739130434783, \"pred\": \"Chinstrap\"}, {\"flipper_length_mm\": 201.08695652173913, \"bill_length_mm\": 55.65217391304348, \"pred\": \"Chinstrap\"}, {\"flipper_length_mm\": 201.08695652173913, \"bill_length_mm\": 56.086956521739125, \"pred\": \"Chinstrap\"}, {\"flipper_length_mm\": 201.08695652173913, \"bill_length_mm\": 56.52173913043478, \"pred\": \"Chinstrap\"}, {\"flipper_length_mm\": 201.08695652173913, \"bill_length_mm\": 56.95652173913044, \"pred\": \"Chinstrap\"}, {\"flipper_length_mm\": 201.08695652173913, \"bill_length_mm\": 57.391304347826086, \"pred\": \"Chinstrap\"}, {\"flipper_length_mm\": 201.08695652173913, \"bill_length_mm\": 57.826086956521735, \"pred\": \"Chinstrap\"}, {\"flipper_length_mm\": 201.08695652173913, \"bill_length_mm\": 58.26086956521739, \"pred\": \"Chinstrap\"}, {\"flipper_length_mm\": 201.08695652173913, \"bill_length_mm\": 58.69565217391305, \"pred\": \"Chinstrap\"}, {\"flipper_length_mm\": 201.08695652173913, \"bill_length_mm\": 59.130434782608695, \"pred\": \"Chinstrap\"}, {\"flipper_length_mm\": 201.08695652173913, \"bill_length_mm\": 59.565217391304344, \"pred\": \"Chinstrap\"}, {\"flipper_length_mm\": 201.08695652173913, \"bill_length_mm\": 60.0, \"pred\": \"Chinstrap\"}, {\"flipper_length_mm\": 202.02898550724638, \"bill_length_mm\": 30.0, \"pred\": \"Adelie\"}, {\"flipper_length_mm\": 202.02898550724638, \"bill_length_mm\": 30.434782608695652, \"pred\": \"Adelie\"}, {\"flipper_length_mm\": 202.02898550724638, \"bill_length_mm\": 30.869565217391305, \"pred\": \"Adelie\"}, {\"flipper_length_mm\": 202.02898550724638, \"bill_length_mm\": 31.304347826086957, \"pred\": \"Adelie\"}, {\"flipper_length_mm\": 202.02898550724638, \"bill_length_mm\": 31.73913043478261, \"pred\": \"Adelie\"}, {\"flipper_length_mm\": 202.02898550724638, \"bill_length_mm\": 32.17391304347826, \"pred\": \"Adelie\"}, {\"flipper_length_mm\": 202.02898550724638, \"bill_length_mm\": 32.608695652173914, \"pred\": \"Adelie\"}, {\"flipper_length_mm\": 202.02898550724638, \"bill_length_mm\": 33.04347826086956, \"pred\": \"Adelie\"}, {\"flipper_length_mm\": 202.02898550724638, \"bill_length_mm\": 33.47826086956522, \"pred\": \"Adelie\"}, {\"flipper_length_mm\": 202.02898550724638, \"bill_length_mm\": 33.91304347826087, \"pred\": \"Adelie\"}, {\"flipper_length_mm\": 202.02898550724638, \"bill_length_mm\": 34.34782608695652, \"pred\": \"Adelie\"}, {\"flipper_length_mm\": 202.02898550724638, \"bill_length_mm\": 34.78260869565217, \"pred\": \"Adelie\"}, {\"flipper_length_mm\": 202.02898550724638, \"bill_length_mm\": 35.21739130434783, \"pred\": \"Adelie\"}, {\"flipper_length_mm\": 202.02898550724638, \"bill_length_mm\": 35.65217391304348, \"pred\": \"Adelie\"}, {\"flipper_length_mm\": 202.02898550724638, \"bill_length_mm\": 36.08695652173913, \"pred\": \"Adelie\"}, {\"flipper_length_mm\": 202.02898550724638, \"bill_length_mm\": 36.52173913043478, \"pred\": \"Adelie\"}, {\"flipper_length_mm\": 202.02898550724638, \"bill_length_mm\": 36.95652173913044, \"pred\": \"Adelie\"}, {\"flipper_length_mm\": 202.02898550724638, \"bill_length_mm\": 37.391304347826086, \"pred\": \"Adelie\"}, {\"flipper_length_mm\": 202.02898550724638, \"bill_length_mm\": 37.82608695652174, \"pred\": \"Adelie\"}, {\"flipper_length_mm\": 202.02898550724638, \"bill_length_mm\": 38.26086956521739, \"pred\": \"Adelie\"}, {\"flipper_length_mm\": 202.02898550724638, \"bill_length_mm\": 38.69565217391305, \"pred\": \"Adelie\"}, {\"flipper_length_mm\": 202.02898550724638, \"bill_length_mm\": 39.130434782608695, \"pred\": \"Adelie\"}, {\"flipper_length_mm\": 202.02898550724638, \"bill_length_mm\": 39.565217391304344, \"pred\": \"Adelie\"}, {\"flipper_length_mm\": 202.02898550724638, \"bill_length_mm\": 40.0, \"pred\": \"Adelie\"}, {\"flipper_length_mm\": 202.02898550724638, \"bill_length_mm\": 40.434782608695656, \"pred\": \"Adelie\"}, {\"flipper_length_mm\": 202.02898550724638, \"bill_length_mm\": 40.869565217391305, \"pred\": \"Adelie\"}, {\"flipper_length_mm\": 202.02898550724638, \"bill_length_mm\": 41.30434782608695, \"pred\": \"Adelie\"}, {\"flipper_length_mm\": 202.02898550724638, \"bill_length_mm\": 41.73913043478261, \"pred\": \"Adelie\"}, {\"flipper_length_mm\": 202.02898550724638, \"bill_length_mm\": 42.17391304347826, \"pred\": \"Adelie\"}, {\"flipper_length_mm\": 202.02898550724638, \"bill_length_mm\": 42.608695652173914, \"pred\": \"Adelie\"}, {\"flipper_length_mm\": 202.02898550724638, \"bill_length_mm\": 43.04347826086956, \"pred\": \"Adelie\"}, {\"flipper_length_mm\": 202.02898550724638, \"bill_length_mm\": 43.47826086956522, \"pred\": \"Adelie\"}, {\"flipper_length_mm\": 202.02898550724638, \"bill_length_mm\": 43.91304347826087, \"pred\": \"Adelie\"}, {\"flipper_length_mm\": 202.02898550724638, \"bill_length_mm\": 44.34782608695652, \"pred\": \"Adelie\"}, {\"flipper_length_mm\": 202.02898550724638, \"bill_length_mm\": 44.78260869565217, \"pred\": \"Adelie\"}, {\"flipper_length_mm\": 202.02898550724638, \"bill_length_mm\": 45.21739130434783, \"pred\": \"Chinstrap\"}, {\"flipper_length_mm\": 202.02898550724638, \"bill_length_mm\": 45.65217391304348, \"pred\": \"Chinstrap\"}, {\"flipper_length_mm\": 202.02898550724638, \"bill_length_mm\": 46.086956521739125, \"pred\": \"Chinstrap\"}, {\"flipper_length_mm\": 202.02898550724638, \"bill_length_mm\": 46.52173913043478, \"pred\": \"Chinstrap\"}, {\"flipper_length_mm\": 202.02898550724638, \"bill_length_mm\": 46.95652173913044, \"pred\": \"Chinstrap\"}, {\"flipper_length_mm\": 202.02898550724638, \"bill_length_mm\": 47.391304347826086, \"pred\": \"Chinstrap\"}, {\"flipper_length_mm\": 202.02898550724638, \"bill_length_mm\": 47.826086956521735, \"pred\": \"Chinstrap\"}, {\"flipper_length_mm\": 202.02898550724638, \"bill_length_mm\": 48.26086956521739, \"pred\": \"Chinstrap\"}, {\"flipper_length_mm\": 202.02898550724638, \"bill_length_mm\": 48.69565217391305, \"pred\": \"Chinstrap\"}, {\"flipper_length_mm\": 202.02898550724638, \"bill_length_mm\": 49.130434782608695, \"pred\": \"Chinstrap\"}, {\"flipper_length_mm\": 202.02898550724638, \"bill_length_mm\": 49.565217391304344, \"pred\": \"Chinstrap\"}, {\"flipper_length_mm\": 202.02898550724638, \"bill_length_mm\": 50.0, \"pred\": \"Chinstrap\"}, {\"flipper_length_mm\": 202.02898550724638, \"bill_length_mm\": 50.434782608695656, \"pred\": \"Chinstrap\"}, {\"flipper_length_mm\": 202.02898550724638, \"bill_length_mm\": 50.869565217391305, \"pred\": \"Chinstrap\"}, {\"flipper_length_mm\": 202.02898550724638, \"bill_length_mm\": 51.30434782608695, \"pred\": \"Chinstrap\"}, {\"flipper_length_mm\": 202.02898550724638, \"bill_length_mm\": 51.73913043478261, \"pred\": \"Chinstrap\"}, {\"flipper_length_mm\": 202.02898550724638, \"bill_length_mm\": 52.173913043478265, \"pred\": \"Chinstrap\"}, {\"flipper_length_mm\": 202.02898550724638, \"bill_length_mm\": 52.608695652173914, \"pred\": \"Chinstrap\"}, {\"flipper_length_mm\": 202.02898550724638, \"bill_length_mm\": 53.04347826086956, \"pred\": \"Chinstrap\"}, {\"flipper_length_mm\": 202.02898550724638, \"bill_length_mm\": 53.47826086956522, \"pred\": \"Chinstrap\"}, {\"flipper_length_mm\": 202.02898550724638, \"bill_length_mm\": 53.91304347826087, \"pred\": \"Chinstrap\"}, {\"flipper_length_mm\": 202.02898550724638, \"bill_length_mm\": 54.347826086956516, \"pred\": \"Chinstrap\"}, {\"flipper_length_mm\": 202.02898550724638, \"bill_length_mm\": 54.78260869565217, \"pred\": \"Chinstrap\"}, {\"flipper_length_mm\": 202.02898550724638, \"bill_length_mm\": 55.21739130434783, \"pred\": \"Chinstrap\"}, {\"flipper_length_mm\": 202.02898550724638, \"bill_length_mm\": 55.65217391304348, \"pred\": \"Chinstrap\"}, {\"flipper_length_mm\": 202.02898550724638, \"bill_length_mm\": 56.086956521739125, \"pred\": \"Chinstrap\"}, {\"flipper_length_mm\": 202.02898550724638, \"bill_length_mm\": 56.52173913043478, \"pred\": \"Chinstrap\"}, {\"flipper_length_mm\": 202.02898550724638, \"bill_length_mm\": 56.95652173913044, \"pred\": \"Chinstrap\"}, {\"flipper_length_mm\": 202.02898550724638, \"bill_length_mm\": 57.391304347826086, \"pred\": \"Chinstrap\"}, {\"flipper_length_mm\": 202.02898550724638, \"bill_length_mm\": 57.826086956521735, \"pred\": \"Chinstrap\"}, {\"flipper_length_mm\": 202.02898550724638, \"bill_length_mm\": 58.26086956521739, \"pred\": \"Chinstrap\"}, {\"flipper_length_mm\": 202.02898550724638, \"bill_length_mm\": 58.69565217391305, \"pred\": \"Chinstrap\"}, {\"flipper_length_mm\": 202.02898550724638, \"bill_length_mm\": 59.130434782608695, \"pred\": \"Chinstrap\"}, {\"flipper_length_mm\": 202.02898550724638, \"bill_length_mm\": 59.565217391304344, \"pred\": \"Chinstrap\"}, {\"flipper_length_mm\": 202.02898550724638, \"bill_length_mm\": 60.0, \"pred\": \"Chinstrap\"}, {\"flipper_length_mm\": 202.97101449275362, \"bill_length_mm\": 30.0, \"pred\": \"Adelie\"}, {\"flipper_length_mm\": 202.97101449275362, \"bill_length_mm\": 30.434782608695652, \"pred\": \"Adelie\"}, {\"flipper_length_mm\": 202.97101449275362, \"bill_length_mm\": 30.869565217391305, \"pred\": \"Adelie\"}, {\"flipper_length_mm\": 202.97101449275362, \"bill_length_mm\": 31.304347826086957, \"pred\": \"Adelie\"}, {\"flipper_length_mm\": 202.97101449275362, \"bill_length_mm\": 31.73913043478261, \"pred\": \"Adelie\"}, {\"flipper_length_mm\": 202.97101449275362, \"bill_length_mm\": 32.17391304347826, \"pred\": \"Adelie\"}, {\"flipper_length_mm\": 202.97101449275362, \"bill_length_mm\": 32.608695652173914, \"pred\": \"Adelie\"}, {\"flipper_length_mm\": 202.97101449275362, \"bill_length_mm\": 33.04347826086956, \"pred\": \"Adelie\"}, {\"flipper_length_mm\": 202.97101449275362, \"bill_length_mm\": 33.47826086956522, \"pred\": \"Adelie\"}, {\"flipper_length_mm\": 202.97101449275362, \"bill_length_mm\": 33.91304347826087, \"pred\": \"Adelie\"}, {\"flipper_length_mm\": 202.97101449275362, \"bill_length_mm\": 34.34782608695652, \"pred\": \"Adelie\"}, {\"flipper_length_mm\": 202.97101449275362, \"bill_length_mm\": 34.78260869565217, \"pred\": \"Adelie\"}, {\"flipper_length_mm\": 202.97101449275362, \"bill_length_mm\": 35.21739130434783, \"pred\": \"Adelie\"}, {\"flipper_length_mm\": 202.97101449275362, \"bill_length_mm\": 35.65217391304348, \"pred\": \"Adelie\"}, {\"flipper_length_mm\": 202.97101449275362, \"bill_length_mm\": 36.08695652173913, \"pred\": \"Adelie\"}, {\"flipper_length_mm\": 202.97101449275362, \"bill_length_mm\": 36.52173913043478, \"pred\": \"Adelie\"}, {\"flipper_length_mm\": 202.97101449275362, \"bill_length_mm\": 36.95652173913044, \"pred\": \"Adelie\"}, {\"flipper_length_mm\": 202.97101449275362, \"bill_length_mm\": 37.391304347826086, \"pred\": \"Adelie\"}, {\"flipper_length_mm\": 202.97101449275362, \"bill_length_mm\": 37.82608695652174, \"pred\": \"Adelie\"}, {\"flipper_length_mm\": 202.97101449275362, \"bill_length_mm\": 38.26086956521739, \"pred\": \"Adelie\"}, {\"flipper_length_mm\": 202.97101449275362, \"bill_length_mm\": 38.69565217391305, \"pred\": \"Adelie\"}, {\"flipper_length_mm\": 202.97101449275362, \"bill_length_mm\": 39.130434782608695, \"pred\": \"Adelie\"}, {\"flipper_length_mm\": 202.97101449275362, \"bill_length_mm\": 39.565217391304344, \"pred\": \"Adelie\"}, {\"flipper_length_mm\": 202.97101449275362, \"bill_length_mm\": 40.0, \"pred\": \"Adelie\"}, {\"flipper_length_mm\": 202.97101449275362, \"bill_length_mm\": 40.434782608695656, \"pred\": \"Adelie\"}, {\"flipper_length_mm\": 202.97101449275362, \"bill_length_mm\": 40.869565217391305, \"pred\": \"Adelie\"}, {\"flipper_length_mm\": 202.97101449275362, \"bill_length_mm\": 41.30434782608695, \"pred\": \"Adelie\"}, {\"flipper_length_mm\": 202.97101449275362, \"bill_length_mm\": 41.73913043478261, \"pred\": \"Adelie\"}, {\"flipper_length_mm\": 202.97101449275362, \"bill_length_mm\": 42.17391304347826, \"pred\": \"Adelie\"}, {\"flipper_length_mm\": 202.97101449275362, \"bill_length_mm\": 42.608695652173914, \"pred\": \"Adelie\"}, {\"flipper_length_mm\": 202.97101449275362, \"bill_length_mm\": 43.04347826086956, \"pred\": \"Adelie\"}, {\"flipper_length_mm\": 202.97101449275362, \"bill_length_mm\": 43.47826086956522, \"pred\": \"Adelie\"}, {\"flipper_length_mm\": 202.97101449275362, \"bill_length_mm\": 43.91304347826087, \"pred\": \"Adelie\"}, {\"flipper_length_mm\": 202.97101449275362, \"bill_length_mm\": 44.34782608695652, \"pred\": \"Adelie\"}, {\"flipper_length_mm\": 202.97101449275362, \"bill_length_mm\": 44.78260869565217, \"pred\": \"Adelie\"}, {\"flipper_length_mm\": 202.97101449275362, \"bill_length_mm\": 45.21739130434783, \"pred\": \"Adelie\"}, {\"flipper_length_mm\": 202.97101449275362, \"bill_length_mm\": 45.65217391304348, \"pred\": \"Chinstrap\"}, {\"flipper_length_mm\": 202.97101449275362, \"bill_length_mm\": 46.086956521739125, \"pred\": \"Chinstrap\"}, {\"flipper_length_mm\": 202.97101449275362, \"bill_length_mm\": 46.52173913043478, \"pred\": \"Chinstrap\"}, {\"flipper_length_mm\": 202.97101449275362, \"bill_length_mm\": 46.95652173913044, \"pred\": \"Chinstrap\"}, {\"flipper_length_mm\": 202.97101449275362, \"bill_length_mm\": 47.391304347826086, \"pred\": \"Chinstrap\"}, {\"flipper_length_mm\": 202.97101449275362, \"bill_length_mm\": 47.826086956521735, \"pred\": \"Chinstrap\"}, {\"flipper_length_mm\": 202.97101449275362, \"bill_length_mm\": 48.26086956521739, \"pred\": \"Chinstrap\"}, {\"flipper_length_mm\": 202.97101449275362, \"bill_length_mm\": 48.69565217391305, \"pred\": \"Chinstrap\"}, {\"flipper_length_mm\": 202.97101449275362, \"bill_length_mm\": 49.130434782608695, \"pred\": \"Chinstrap\"}, {\"flipper_length_mm\": 202.97101449275362, \"bill_length_mm\": 49.565217391304344, \"pred\": \"Chinstrap\"}, {\"flipper_length_mm\": 202.97101449275362, \"bill_length_mm\": 50.0, \"pred\": \"Chinstrap\"}, {\"flipper_length_mm\": 202.97101449275362, \"bill_length_mm\": 50.434782608695656, \"pred\": \"Chinstrap\"}, {\"flipper_length_mm\": 202.97101449275362, \"bill_length_mm\": 50.869565217391305, \"pred\": \"Chinstrap\"}, {\"flipper_length_mm\": 202.97101449275362, \"bill_length_mm\": 51.30434782608695, \"pred\": \"Chinstrap\"}, {\"flipper_length_mm\": 202.97101449275362, \"bill_length_mm\": 51.73913043478261, \"pred\": \"Chinstrap\"}, {\"flipper_length_mm\": 202.97101449275362, \"bill_length_mm\": 52.173913043478265, \"pred\": \"Chinstrap\"}, {\"flipper_length_mm\": 202.97101449275362, \"bill_length_mm\": 52.608695652173914, \"pred\": \"Chinstrap\"}, {\"flipper_length_mm\": 202.97101449275362, \"bill_length_mm\": 53.04347826086956, \"pred\": \"Chinstrap\"}, {\"flipper_length_mm\": 202.97101449275362, \"bill_length_mm\": 53.47826086956522, \"pred\": \"Chinstrap\"}, {\"flipper_length_mm\": 202.97101449275362, \"bill_length_mm\": 53.91304347826087, \"pred\": \"Chinstrap\"}, {\"flipper_length_mm\": 202.97101449275362, \"bill_length_mm\": 54.347826086956516, \"pred\": \"Chinstrap\"}, {\"flipper_length_mm\": 202.97101449275362, \"bill_length_mm\": 54.78260869565217, \"pred\": \"Chinstrap\"}, {\"flipper_length_mm\": 202.97101449275362, \"bill_length_mm\": 55.21739130434783, \"pred\": \"Chinstrap\"}, {\"flipper_length_mm\": 202.97101449275362, \"bill_length_mm\": 55.65217391304348, \"pred\": \"Chinstrap\"}, {\"flipper_length_mm\": 202.97101449275362, \"bill_length_mm\": 56.086956521739125, \"pred\": \"Chinstrap\"}, {\"flipper_length_mm\": 202.97101449275362, \"bill_length_mm\": 56.52173913043478, \"pred\": \"Chinstrap\"}, {\"flipper_length_mm\": 202.97101449275362, \"bill_length_mm\": 56.95652173913044, \"pred\": \"Chinstrap\"}, {\"flipper_length_mm\": 202.97101449275362, \"bill_length_mm\": 57.391304347826086, \"pred\": \"Chinstrap\"}, {\"flipper_length_mm\": 202.97101449275362, \"bill_length_mm\": 57.826086956521735, \"pred\": \"Chinstrap\"}, {\"flipper_length_mm\": 202.97101449275362, \"bill_length_mm\": 58.26086956521739, \"pred\": \"Chinstrap\"}, {\"flipper_length_mm\": 202.97101449275362, \"bill_length_mm\": 58.69565217391305, \"pred\": \"Chinstrap\"}, {\"flipper_length_mm\": 202.97101449275362, \"bill_length_mm\": 59.130434782608695, \"pred\": \"Chinstrap\"}, {\"flipper_length_mm\": 202.97101449275362, \"bill_length_mm\": 59.565217391304344, \"pred\": \"Chinstrap\"}, {\"flipper_length_mm\": 202.97101449275362, \"bill_length_mm\": 60.0, \"pred\": \"Chinstrap\"}, {\"flipper_length_mm\": 203.91304347826087, \"bill_length_mm\": 30.0, \"pred\": \"Adelie\"}, {\"flipper_length_mm\": 203.91304347826087, \"bill_length_mm\": 30.434782608695652, \"pred\": \"Adelie\"}, {\"flipper_length_mm\": 203.91304347826087, \"bill_length_mm\": 30.869565217391305, \"pred\": \"Adelie\"}, {\"flipper_length_mm\": 203.91304347826087, \"bill_length_mm\": 31.304347826086957, \"pred\": \"Adelie\"}, {\"flipper_length_mm\": 203.91304347826087, \"bill_length_mm\": 31.73913043478261, \"pred\": \"Adelie\"}, {\"flipper_length_mm\": 203.91304347826087, \"bill_length_mm\": 32.17391304347826, \"pred\": \"Adelie\"}, {\"flipper_length_mm\": 203.91304347826087, \"bill_length_mm\": 32.608695652173914, \"pred\": \"Adelie\"}, {\"flipper_length_mm\": 203.91304347826087, \"bill_length_mm\": 33.04347826086956, \"pred\": \"Adelie\"}, {\"flipper_length_mm\": 203.91304347826087, \"bill_length_mm\": 33.47826086956522, \"pred\": \"Adelie\"}, {\"flipper_length_mm\": 203.91304347826087, \"bill_length_mm\": 33.91304347826087, \"pred\": \"Adelie\"}, {\"flipper_length_mm\": 203.91304347826087, \"bill_length_mm\": 34.34782608695652, \"pred\": \"Adelie\"}, {\"flipper_length_mm\": 203.91304347826087, \"bill_length_mm\": 34.78260869565217, \"pred\": \"Adelie\"}, {\"flipper_length_mm\": 203.91304347826087, \"bill_length_mm\": 35.21739130434783, \"pred\": \"Adelie\"}, {\"flipper_length_mm\": 203.91304347826087, \"bill_length_mm\": 35.65217391304348, \"pred\": \"Adelie\"}, {\"flipper_length_mm\": 203.91304347826087, \"bill_length_mm\": 36.08695652173913, \"pred\": \"Adelie\"}, {\"flipper_length_mm\": 203.91304347826087, \"bill_length_mm\": 36.52173913043478, \"pred\": \"Adelie\"}, {\"flipper_length_mm\": 203.91304347826087, \"bill_length_mm\": 36.95652173913044, \"pred\": \"Adelie\"}, {\"flipper_length_mm\": 203.91304347826087, \"bill_length_mm\": 37.391304347826086, \"pred\": \"Adelie\"}, {\"flipper_length_mm\": 203.91304347826087, \"bill_length_mm\": 37.82608695652174, \"pred\": \"Adelie\"}, {\"flipper_length_mm\": 203.91304347826087, \"bill_length_mm\": 38.26086956521739, \"pred\": \"Adelie\"}, {\"flipper_length_mm\": 203.91304347826087, \"bill_length_mm\": 38.69565217391305, \"pred\": \"Adelie\"}, {\"flipper_length_mm\": 203.91304347826087, \"bill_length_mm\": 39.130434782608695, \"pred\": \"Adelie\"}, {\"flipper_length_mm\": 203.91304347826087, \"bill_length_mm\": 39.565217391304344, \"pred\": \"Adelie\"}, {\"flipper_length_mm\": 203.91304347826087, \"bill_length_mm\": 40.0, \"pred\": \"Adelie\"}, {\"flipper_length_mm\": 203.91304347826087, \"bill_length_mm\": 40.434782608695656, \"pred\": \"Adelie\"}, {\"flipper_length_mm\": 203.91304347826087, \"bill_length_mm\": 40.869565217391305, \"pred\": \"Adelie\"}, {\"flipper_length_mm\": 203.91304347826087, \"bill_length_mm\": 41.30434782608695, \"pred\": \"Adelie\"}, {\"flipper_length_mm\": 203.91304347826087, \"bill_length_mm\": 41.73913043478261, \"pred\": \"Adelie\"}, {\"flipper_length_mm\": 203.91304347826087, \"bill_length_mm\": 42.17391304347826, \"pred\": \"Adelie\"}, {\"flipper_length_mm\": 203.91304347826087, \"bill_length_mm\": 42.608695652173914, \"pred\": \"Adelie\"}, {\"flipper_length_mm\": 203.91304347826087, \"bill_length_mm\": 43.04347826086956, \"pred\": \"Adelie\"}, {\"flipper_length_mm\": 203.91304347826087, \"bill_length_mm\": 43.47826086956522, \"pred\": \"Adelie\"}, {\"flipper_length_mm\": 203.91304347826087, \"bill_length_mm\": 43.91304347826087, \"pred\": \"Adelie\"}, {\"flipper_length_mm\": 203.91304347826087, \"bill_length_mm\": 44.34782608695652, \"pred\": \"Adelie\"}, {\"flipper_length_mm\": 203.91304347826087, \"bill_length_mm\": 44.78260869565217, \"pred\": \"Gentoo\"}, {\"flipper_length_mm\": 203.91304347826087, \"bill_length_mm\": 45.21739130434783, \"pred\": \"Gentoo\"}, {\"flipper_length_mm\": 203.91304347826087, \"bill_length_mm\": 45.65217391304348, \"pred\": \"Gentoo\"}, {\"flipper_length_mm\": 203.91304347826087, \"bill_length_mm\": 46.086956521739125, \"pred\": \"Chinstrap\"}, {\"flipper_length_mm\": 203.91304347826087, \"bill_length_mm\": 46.52173913043478, \"pred\": \"Chinstrap\"}, {\"flipper_length_mm\": 203.91304347826087, \"bill_length_mm\": 46.95652173913044, \"pred\": \"Chinstrap\"}, {\"flipper_length_mm\": 203.91304347826087, \"bill_length_mm\": 47.391304347826086, \"pred\": \"Chinstrap\"}, {\"flipper_length_mm\": 203.91304347826087, \"bill_length_mm\": 47.826086956521735, \"pred\": \"Chinstrap\"}, {\"flipper_length_mm\": 203.91304347826087, \"bill_length_mm\": 48.26086956521739, \"pred\": \"Chinstrap\"}, {\"flipper_length_mm\": 203.91304347826087, \"bill_length_mm\": 48.69565217391305, \"pred\": \"Chinstrap\"}, {\"flipper_length_mm\": 203.91304347826087, \"bill_length_mm\": 49.130434782608695, \"pred\": \"Chinstrap\"}, {\"flipper_length_mm\": 203.91304347826087, \"bill_length_mm\": 49.565217391304344, \"pred\": \"Chinstrap\"}, {\"flipper_length_mm\": 203.91304347826087, \"bill_length_mm\": 50.0, \"pred\": \"Chinstrap\"}, {\"flipper_length_mm\": 203.91304347826087, \"bill_length_mm\": 50.434782608695656, \"pred\": \"Chinstrap\"}, {\"flipper_length_mm\": 203.91304347826087, \"bill_length_mm\": 50.869565217391305, \"pred\": \"Chinstrap\"}, {\"flipper_length_mm\": 203.91304347826087, \"bill_length_mm\": 51.30434782608695, \"pred\": \"Chinstrap\"}, {\"flipper_length_mm\": 203.91304347826087, \"bill_length_mm\": 51.73913043478261, \"pred\": \"Chinstrap\"}, {\"flipper_length_mm\": 203.91304347826087, \"bill_length_mm\": 52.173913043478265, \"pred\": \"Chinstrap\"}, {\"flipper_length_mm\": 203.91304347826087, \"bill_length_mm\": 52.608695652173914, \"pred\": \"Chinstrap\"}, {\"flipper_length_mm\": 203.91304347826087, \"bill_length_mm\": 53.04347826086956, \"pred\": \"Chinstrap\"}, {\"flipper_length_mm\": 203.91304347826087, \"bill_length_mm\": 53.47826086956522, \"pred\": \"Chinstrap\"}, {\"flipper_length_mm\": 203.91304347826087, \"bill_length_mm\": 53.91304347826087, \"pred\": \"Chinstrap\"}, {\"flipper_length_mm\": 203.91304347826087, \"bill_length_mm\": 54.347826086956516, \"pred\": \"Chinstrap\"}, {\"flipper_length_mm\": 203.91304347826087, \"bill_length_mm\": 54.78260869565217, \"pred\": \"Chinstrap\"}, {\"flipper_length_mm\": 203.91304347826087, \"bill_length_mm\": 55.21739130434783, \"pred\": \"Chinstrap\"}, {\"flipper_length_mm\": 203.91304347826087, \"bill_length_mm\": 55.65217391304348, \"pred\": \"Chinstrap\"}, {\"flipper_length_mm\": 203.91304347826087, \"bill_length_mm\": 56.086956521739125, \"pred\": \"Chinstrap\"}, {\"flipper_length_mm\": 203.91304347826087, \"bill_length_mm\": 56.52173913043478, \"pred\": \"Chinstrap\"}, {\"flipper_length_mm\": 203.91304347826087, \"bill_length_mm\": 56.95652173913044, \"pred\": \"Chinstrap\"}, {\"flipper_length_mm\": 203.91304347826087, \"bill_length_mm\": 57.391304347826086, \"pred\": \"Chinstrap\"}, {\"flipper_length_mm\": 203.91304347826087, \"bill_length_mm\": 57.826086956521735, \"pred\": \"Chinstrap\"}, {\"flipper_length_mm\": 203.91304347826087, \"bill_length_mm\": 58.26086956521739, \"pred\": \"Chinstrap\"}, {\"flipper_length_mm\": 203.91304347826087, \"bill_length_mm\": 58.69565217391305, \"pred\": \"Chinstrap\"}, {\"flipper_length_mm\": 203.91304347826087, \"bill_length_mm\": 59.130434782608695, \"pred\": \"Chinstrap\"}, {\"flipper_length_mm\": 203.91304347826087, \"bill_length_mm\": 59.565217391304344, \"pred\": \"Chinstrap\"}, {\"flipper_length_mm\": 203.91304347826087, \"bill_length_mm\": 60.0, \"pred\": \"Chinstrap\"}, {\"flipper_length_mm\": 204.85507246376812, \"bill_length_mm\": 30.0, \"pred\": \"Adelie\"}, {\"flipper_length_mm\": 204.85507246376812, \"bill_length_mm\": 30.434782608695652, \"pred\": \"Adelie\"}, {\"flipper_length_mm\": 204.85507246376812, \"bill_length_mm\": 30.869565217391305, \"pred\": \"Adelie\"}, {\"flipper_length_mm\": 204.85507246376812, \"bill_length_mm\": 31.304347826086957, \"pred\": \"Adelie\"}, {\"flipper_length_mm\": 204.85507246376812, \"bill_length_mm\": 31.73913043478261, \"pred\": \"Adelie\"}, {\"flipper_length_mm\": 204.85507246376812, \"bill_length_mm\": 32.17391304347826, \"pred\": \"Adelie\"}, {\"flipper_length_mm\": 204.85507246376812, \"bill_length_mm\": 32.608695652173914, \"pred\": \"Adelie\"}, {\"flipper_length_mm\": 204.85507246376812, \"bill_length_mm\": 33.04347826086956, \"pred\": \"Adelie\"}, {\"flipper_length_mm\": 204.85507246376812, \"bill_length_mm\": 33.47826086956522, \"pred\": \"Adelie\"}, {\"flipper_length_mm\": 204.85507246376812, \"bill_length_mm\": 33.91304347826087, \"pred\": \"Adelie\"}, {\"flipper_length_mm\": 204.85507246376812, \"bill_length_mm\": 34.34782608695652, \"pred\": \"Adelie\"}, {\"flipper_length_mm\": 204.85507246376812, \"bill_length_mm\": 34.78260869565217, \"pred\": \"Adelie\"}, {\"flipper_length_mm\": 204.85507246376812, \"bill_length_mm\": 35.21739130434783, \"pred\": \"Adelie\"}, {\"flipper_length_mm\": 204.85507246376812, \"bill_length_mm\": 35.65217391304348, \"pred\": \"Adelie\"}, {\"flipper_length_mm\": 204.85507246376812, \"bill_length_mm\": 36.08695652173913, \"pred\": \"Adelie\"}, {\"flipper_length_mm\": 204.85507246376812, \"bill_length_mm\": 36.52173913043478, \"pred\": \"Adelie\"}, {\"flipper_length_mm\": 204.85507246376812, \"bill_length_mm\": 36.95652173913044, \"pred\": \"Adelie\"}, {\"flipper_length_mm\": 204.85507246376812, \"bill_length_mm\": 37.391304347826086, \"pred\": \"Adelie\"}, {\"flipper_length_mm\": 204.85507246376812, \"bill_length_mm\": 37.82608695652174, \"pred\": \"Adelie\"}, {\"flipper_length_mm\": 204.85507246376812, \"bill_length_mm\": 38.26086956521739, \"pred\": \"Adelie\"}, {\"flipper_length_mm\": 204.85507246376812, \"bill_length_mm\": 38.69565217391305, \"pred\": \"Adelie\"}, {\"flipper_length_mm\": 204.85507246376812, \"bill_length_mm\": 39.130434782608695, \"pred\": \"Adelie\"}, {\"flipper_length_mm\": 204.85507246376812, \"bill_length_mm\": 39.565217391304344, \"pred\": \"Adelie\"}, {\"flipper_length_mm\": 204.85507246376812, \"bill_length_mm\": 40.0, \"pred\": \"Adelie\"}, {\"flipper_length_mm\": 204.85507246376812, \"bill_length_mm\": 40.434782608695656, \"pred\": \"Adelie\"}, {\"flipper_length_mm\": 204.85507246376812, \"bill_length_mm\": 40.869565217391305, \"pred\": \"Adelie\"}, {\"flipper_length_mm\": 204.85507246376812, \"bill_length_mm\": 41.30434782608695, \"pred\": \"Adelie\"}, {\"flipper_length_mm\": 204.85507246376812, \"bill_length_mm\": 41.73913043478261, \"pred\": \"Adelie\"}, {\"flipper_length_mm\": 204.85507246376812, \"bill_length_mm\": 42.17391304347826, \"pred\": \"Adelie\"}, {\"flipper_length_mm\": 204.85507246376812, \"bill_length_mm\": 42.608695652173914, \"pred\": \"Adelie\"}, {\"flipper_length_mm\": 204.85507246376812, \"bill_length_mm\": 43.04347826086956, \"pred\": \"Adelie\"}, {\"flipper_length_mm\": 204.85507246376812, \"bill_length_mm\": 43.47826086956522, \"pred\": \"Adelie\"}, {\"flipper_length_mm\": 204.85507246376812, \"bill_length_mm\": 43.91304347826087, \"pred\": \"Gentoo\"}, {\"flipper_length_mm\": 204.85507246376812, \"bill_length_mm\": 44.34782608695652, \"pred\": \"Gentoo\"}, {\"flipper_length_mm\": 204.85507246376812, \"bill_length_mm\": 44.78260869565217, \"pred\": \"Gentoo\"}, {\"flipper_length_mm\": 204.85507246376812, \"bill_length_mm\": 45.21739130434783, \"pred\": \"Gentoo\"}, {\"flipper_length_mm\": 204.85507246376812, \"bill_length_mm\": 45.65217391304348, \"pred\": \"Gentoo\"}, {\"flipper_length_mm\": 204.85507246376812, \"bill_length_mm\": 46.086956521739125, \"pred\": \"Gentoo\"}, {\"flipper_length_mm\": 204.85507246376812, \"bill_length_mm\": 46.52173913043478, \"pred\": \"Gentoo\"}, {\"flipper_length_mm\": 204.85507246376812, \"bill_length_mm\": 46.95652173913044, \"pred\": \"Chinstrap\"}, {\"flipper_length_mm\": 204.85507246376812, \"bill_length_mm\": 47.391304347826086, \"pred\": \"Chinstrap\"}, {\"flipper_length_mm\": 204.85507246376812, \"bill_length_mm\": 47.826086956521735, \"pred\": \"Chinstrap\"}, {\"flipper_length_mm\": 204.85507246376812, \"bill_length_mm\": 48.26086956521739, \"pred\": \"Chinstrap\"}, {\"flipper_length_mm\": 204.85507246376812, \"bill_length_mm\": 48.69565217391305, \"pred\": \"Chinstrap\"}, {\"flipper_length_mm\": 204.85507246376812, \"bill_length_mm\": 49.130434782608695, \"pred\": \"Chinstrap\"}, {\"flipper_length_mm\": 204.85507246376812, \"bill_length_mm\": 49.565217391304344, \"pred\": \"Chinstrap\"}, {\"flipper_length_mm\": 204.85507246376812, \"bill_length_mm\": 50.0, \"pred\": \"Chinstrap\"}, {\"flipper_length_mm\": 204.85507246376812, \"bill_length_mm\": 50.434782608695656, \"pred\": \"Chinstrap\"}, {\"flipper_length_mm\": 204.85507246376812, \"bill_length_mm\": 50.869565217391305, \"pred\": \"Chinstrap\"}, {\"flipper_length_mm\": 204.85507246376812, \"bill_length_mm\": 51.30434782608695, \"pred\": \"Chinstrap\"}, {\"flipper_length_mm\": 204.85507246376812, \"bill_length_mm\": 51.73913043478261, \"pred\": \"Chinstrap\"}, {\"flipper_length_mm\": 204.85507246376812, \"bill_length_mm\": 52.173913043478265, \"pred\": \"Chinstrap\"}, {\"flipper_length_mm\": 204.85507246376812, \"bill_length_mm\": 52.608695652173914, \"pred\": \"Chinstrap\"}, {\"flipper_length_mm\": 204.85507246376812, \"bill_length_mm\": 53.04347826086956, \"pred\": \"Chinstrap\"}, {\"flipper_length_mm\": 204.85507246376812, \"bill_length_mm\": 53.47826086956522, \"pred\": \"Chinstrap\"}, {\"flipper_length_mm\": 204.85507246376812, \"bill_length_mm\": 53.91304347826087, \"pred\": \"Chinstrap\"}, {\"flipper_length_mm\": 204.85507246376812, \"bill_length_mm\": 54.347826086956516, \"pred\": \"Chinstrap\"}, {\"flipper_length_mm\": 204.85507246376812, \"bill_length_mm\": 54.78260869565217, \"pred\": \"Chinstrap\"}, {\"flipper_length_mm\": 204.85507246376812, \"bill_length_mm\": 55.21739130434783, \"pred\": \"Chinstrap\"}, {\"flipper_length_mm\": 204.85507246376812, \"bill_length_mm\": 55.65217391304348, \"pred\": \"Chinstrap\"}, {\"flipper_length_mm\": 204.85507246376812, \"bill_length_mm\": 56.086956521739125, \"pred\": \"Chinstrap\"}, {\"flipper_length_mm\": 204.85507246376812, \"bill_length_mm\": 56.52173913043478, \"pred\": \"Chinstrap\"}, {\"flipper_length_mm\": 204.85507246376812, \"bill_length_mm\": 56.95652173913044, \"pred\": \"Chinstrap\"}, {\"flipper_length_mm\": 204.85507246376812, \"bill_length_mm\": 57.391304347826086, \"pred\": \"Chinstrap\"}, {\"flipper_length_mm\": 204.85507246376812, \"bill_length_mm\": 57.826086956521735, \"pred\": \"Chinstrap\"}, {\"flipper_length_mm\": 204.85507246376812, \"bill_length_mm\": 58.26086956521739, \"pred\": \"Chinstrap\"}, {\"flipper_length_mm\": 204.85507246376812, \"bill_length_mm\": 58.69565217391305, \"pred\": \"Chinstrap\"}, {\"flipper_length_mm\": 204.85507246376812, \"bill_length_mm\": 59.130434782608695, \"pred\": \"Chinstrap\"}, {\"flipper_length_mm\": 204.85507246376812, \"bill_length_mm\": 59.565217391304344, \"pred\": \"Chinstrap\"}, {\"flipper_length_mm\": 204.85507246376812, \"bill_length_mm\": 60.0, \"pred\": \"Chinstrap\"}, {\"flipper_length_mm\": 205.79710144927537, \"bill_length_mm\": 30.0, \"pred\": \"Adelie\"}, {\"flipper_length_mm\": 205.79710144927537, \"bill_length_mm\": 30.434782608695652, \"pred\": \"Adelie\"}, {\"flipper_length_mm\": 205.79710144927537, \"bill_length_mm\": 30.869565217391305, \"pred\": \"Adelie\"}, {\"flipper_length_mm\": 205.79710144927537, \"bill_length_mm\": 31.304347826086957, \"pred\": \"Adelie\"}, {\"flipper_length_mm\": 205.79710144927537, \"bill_length_mm\": 31.73913043478261, \"pred\": \"Adelie\"}, {\"flipper_length_mm\": 205.79710144927537, \"bill_length_mm\": 32.17391304347826, \"pred\": \"Adelie\"}, {\"flipper_length_mm\": 205.79710144927537, \"bill_length_mm\": 32.608695652173914, \"pred\": \"Adelie\"}, {\"flipper_length_mm\": 205.79710144927537, \"bill_length_mm\": 33.04347826086956, \"pred\": \"Adelie\"}, {\"flipper_length_mm\": 205.79710144927537, \"bill_length_mm\": 33.47826086956522, \"pred\": \"Adelie\"}, {\"flipper_length_mm\": 205.79710144927537, \"bill_length_mm\": 33.91304347826087, \"pred\": \"Adelie\"}, {\"flipper_length_mm\": 205.79710144927537, \"bill_length_mm\": 34.34782608695652, \"pred\": \"Adelie\"}, {\"flipper_length_mm\": 205.79710144927537, \"bill_length_mm\": 34.78260869565217, \"pred\": \"Adelie\"}, {\"flipper_length_mm\": 205.79710144927537, \"bill_length_mm\": 35.21739130434783, \"pred\": \"Adelie\"}, {\"flipper_length_mm\": 205.79710144927537, \"bill_length_mm\": 35.65217391304348, \"pred\": \"Adelie\"}, {\"flipper_length_mm\": 205.79710144927537, \"bill_length_mm\": 36.08695652173913, \"pred\": \"Adelie\"}, {\"flipper_length_mm\": 205.79710144927537, \"bill_length_mm\": 36.52173913043478, \"pred\": \"Adelie\"}, {\"flipper_length_mm\": 205.79710144927537, \"bill_length_mm\": 36.95652173913044, \"pred\": \"Adelie\"}, {\"flipper_length_mm\": 205.79710144927537, \"bill_length_mm\": 37.391304347826086, \"pred\": \"Adelie\"}, {\"flipper_length_mm\": 205.79710144927537, \"bill_length_mm\": 37.82608695652174, \"pred\": \"Adelie\"}, {\"flipper_length_mm\": 205.79710144927537, \"bill_length_mm\": 38.26086956521739, \"pred\": \"Adelie\"}, {\"flipper_length_mm\": 205.79710144927537, \"bill_length_mm\": 38.69565217391305, \"pred\": \"Adelie\"}, {\"flipper_length_mm\": 205.79710144927537, \"bill_length_mm\": 39.130434782608695, \"pred\": \"Adelie\"}, {\"flipper_length_mm\": 205.79710144927537, \"bill_length_mm\": 39.565217391304344, \"pred\": \"Adelie\"}, {\"flipper_length_mm\": 205.79710144927537, \"bill_length_mm\": 40.0, \"pred\": \"Adelie\"}, {\"flipper_length_mm\": 205.79710144927537, \"bill_length_mm\": 40.434782608695656, \"pred\": \"Adelie\"}, {\"flipper_length_mm\": 205.79710144927537, \"bill_length_mm\": 40.869565217391305, \"pred\": \"Adelie\"}, {\"flipper_length_mm\": 205.79710144927537, \"bill_length_mm\": 41.30434782608695, \"pred\": \"Adelie\"}, {\"flipper_length_mm\": 205.79710144927537, \"bill_length_mm\": 41.73913043478261, \"pred\": \"Adelie\"}, {\"flipper_length_mm\": 205.79710144927537, \"bill_length_mm\": 42.17391304347826, \"pred\": \"Adelie\"}, {\"flipper_length_mm\": 205.79710144927537, \"bill_length_mm\": 42.608695652173914, \"pred\": \"Adelie\"}, {\"flipper_length_mm\": 205.79710144927537, \"bill_length_mm\": 43.04347826086956, \"pred\": \"Gentoo\"}, {\"flipper_length_mm\": 205.79710144927537, \"bill_length_mm\": 43.47826086956522, \"pred\": \"Gentoo\"}, {\"flipper_length_mm\": 205.79710144927537, \"bill_length_mm\": 43.91304347826087, \"pred\": \"Gentoo\"}, {\"flipper_length_mm\": 205.79710144927537, \"bill_length_mm\": 44.34782608695652, \"pred\": \"Gentoo\"}, {\"flipper_length_mm\": 205.79710144927537, \"bill_length_mm\": 44.78260869565217, \"pred\": \"Gentoo\"}, {\"flipper_length_mm\": 205.79710144927537, \"bill_length_mm\": 45.21739130434783, \"pred\": \"Gentoo\"}, {\"flipper_length_mm\": 205.79710144927537, \"bill_length_mm\": 45.65217391304348, \"pred\": \"Gentoo\"}, {\"flipper_length_mm\": 205.79710144927537, \"bill_length_mm\": 46.086956521739125, \"pred\": \"Gentoo\"}, {\"flipper_length_mm\": 205.79710144927537, \"bill_length_mm\": 46.52173913043478, \"pred\": \"Gentoo\"}, {\"flipper_length_mm\": 205.79710144927537, \"bill_length_mm\": 46.95652173913044, \"pred\": \"Gentoo\"}, {\"flipper_length_mm\": 205.79710144927537, \"bill_length_mm\": 47.391304347826086, \"pred\": \"Chinstrap\"}, {\"flipper_length_mm\": 205.79710144927537, \"bill_length_mm\": 47.826086956521735, \"pred\": \"Chinstrap\"}, {\"flipper_length_mm\": 205.79710144927537, \"bill_length_mm\": 48.26086956521739, \"pred\": \"Chinstrap\"}, {\"flipper_length_mm\": 205.79710144927537, \"bill_length_mm\": 48.69565217391305, \"pred\": \"Chinstrap\"}, {\"flipper_length_mm\": 205.79710144927537, \"bill_length_mm\": 49.130434782608695, \"pred\": \"Chinstrap\"}, {\"flipper_length_mm\": 205.79710144927537, \"bill_length_mm\": 49.565217391304344, \"pred\": \"Chinstrap\"}, {\"flipper_length_mm\": 205.79710144927537, \"bill_length_mm\": 50.0, \"pred\": \"Chinstrap\"}, {\"flipper_length_mm\": 205.79710144927537, \"bill_length_mm\": 50.434782608695656, \"pred\": \"Chinstrap\"}, {\"flipper_length_mm\": 205.79710144927537, \"bill_length_mm\": 50.869565217391305, \"pred\": \"Chinstrap\"}, {\"flipper_length_mm\": 205.79710144927537, \"bill_length_mm\": 51.30434782608695, \"pred\": \"Chinstrap\"}, {\"flipper_length_mm\": 205.79710144927537, \"bill_length_mm\": 51.73913043478261, \"pred\": \"Chinstrap\"}, {\"flipper_length_mm\": 205.79710144927537, \"bill_length_mm\": 52.173913043478265, \"pred\": \"Chinstrap\"}, {\"flipper_length_mm\": 205.79710144927537, \"bill_length_mm\": 52.608695652173914, \"pred\": \"Chinstrap\"}, {\"flipper_length_mm\": 205.79710144927537, \"bill_length_mm\": 53.04347826086956, \"pred\": \"Chinstrap\"}, {\"flipper_length_mm\": 205.79710144927537, \"bill_length_mm\": 53.47826086956522, \"pred\": \"Chinstrap\"}, {\"flipper_length_mm\": 205.79710144927537, \"bill_length_mm\": 53.91304347826087, \"pred\": \"Chinstrap\"}, {\"flipper_length_mm\": 205.79710144927537, \"bill_length_mm\": 54.347826086956516, \"pred\": \"Chinstrap\"}, {\"flipper_length_mm\": 205.79710144927537, \"bill_length_mm\": 54.78260869565217, \"pred\": \"Chinstrap\"}, {\"flipper_length_mm\": 205.79710144927537, \"bill_length_mm\": 55.21739130434783, \"pred\": \"Chinstrap\"}, {\"flipper_length_mm\": 205.79710144927537, \"bill_length_mm\": 55.65217391304348, \"pred\": \"Chinstrap\"}, {\"flipper_length_mm\": 205.79710144927537, \"bill_length_mm\": 56.086956521739125, \"pred\": \"Chinstrap\"}, {\"flipper_length_mm\": 205.79710144927537, \"bill_length_mm\": 56.52173913043478, \"pred\": \"Chinstrap\"}, {\"flipper_length_mm\": 205.79710144927537, \"bill_length_mm\": 56.95652173913044, \"pred\": \"Chinstrap\"}, {\"flipper_length_mm\": 205.79710144927537, \"bill_length_mm\": 57.391304347826086, \"pred\": \"Chinstrap\"}, {\"flipper_length_mm\": 205.79710144927537, \"bill_length_mm\": 57.826086956521735, \"pred\": \"Chinstrap\"}, {\"flipper_length_mm\": 205.79710144927537, \"bill_length_mm\": 58.26086956521739, \"pred\": \"Chinstrap\"}, {\"flipper_length_mm\": 205.79710144927537, \"bill_length_mm\": 58.69565217391305, \"pred\": \"Chinstrap\"}, {\"flipper_length_mm\": 205.79710144927537, \"bill_length_mm\": 59.130434782608695, \"pred\": \"Chinstrap\"}, {\"flipper_length_mm\": 205.79710144927537, \"bill_length_mm\": 59.565217391304344, \"pred\": \"Chinstrap\"}, {\"flipper_length_mm\": 205.79710144927537, \"bill_length_mm\": 60.0, \"pred\": \"Chinstrap\"}, {\"flipper_length_mm\": 206.73913043478262, \"bill_length_mm\": 30.0, \"pred\": \"Adelie\"}, {\"flipper_length_mm\": 206.73913043478262, \"bill_length_mm\": 30.434782608695652, \"pred\": \"Adelie\"}, {\"flipper_length_mm\": 206.73913043478262, \"bill_length_mm\": 30.869565217391305, \"pred\": \"Adelie\"}, {\"flipper_length_mm\": 206.73913043478262, \"bill_length_mm\": 31.304347826086957, \"pred\": \"Adelie\"}, {\"flipper_length_mm\": 206.73913043478262, \"bill_length_mm\": 31.73913043478261, \"pred\": \"Adelie\"}, {\"flipper_length_mm\": 206.73913043478262, \"bill_length_mm\": 32.17391304347826, \"pred\": \"Adelie\"}, {\"flipper_length_mm\": 206.73913043478262, \"bill_length_mm\": 32.608695652173914, \"pred\": \"Adelie\"}, {\"flipper_length_mm\": 206.73913043478262, \"bill_length_mm\": 33.04347826086956, \"pred\": \"Adelie\"}, {\"flipper_length_mm\": 206.73913043478262, \"bill_length_mm\": 33.47826086956522, \"pred\": \"Adelie\"}, {\"flipper_length_mm\": 206.73913043478262, \"bill_length_mm\": 33.91304347826087, \"pred\": \"Adelie\"}, {\"flipper_length_mm\": 206.73913043478262, \"bill_length_mm\": 34.34782608695652, \"pred\": \"Adelie\"}, {\"flipper_length_mm\": 206.73913043478262, \"bill_length_mm\": 34.78260869565217, \"pred\": \"Adelie\"}, {\"flipper_length_mm\": 206.73913043478262, \"bill_length_mm\": 35.21739130434783, \"pred\": \"Adelie\"}, {\"flipper_length_mm\": 206.73913043478262, \"bill_length_mm\": 35.65217391304348, \"pred\": \"Adelie\"}, {\"flipper_length_mm\": 206.73913043478262, \"bill_length_mm\": 36.08695652173913, \"pred\": \"Adelie\"}, {\"flipper_length_mm\": 206.73913043478262, \"bill_length_mm\": 36.52173913043478, \"pred\": \"Adelie\"}, {\"flipper_length_mm\": 206.73913043478262, \"bill_length_mm\": 36.95652173913044, \"pred\": \"Adelie\"}, {\"flipper_length_mm\": 206.73913043478262, \"bill_length_mm\": 37.391304347826086, \"pred\": \"Adelie\"}, {\"flipper_length_mm\": 206.73913043478262, \"bill_length_mm\": 37.82608695652174, \"pred\": \"Adelie\"}, {\"flipper_length_mm\": 206.73913043478262, \"bill_length_mm\": 38.26086956521739, \"pred\": \"Adelie\"}, {\"flipper_length_mm\": 206.73913043478262, \"bill_length_mm\": 38.69565217391305, \"pred\": \"Adelie\"}, {\"flipper_length_mm\": 206.73913043478262, \"bill_length_mm\": 39.130434782608695, \"pred\": \"Adelie\"}, {\"flipper_length_mm\": 206.73913043478262, \"bill_length_mm\": 39.565217391304344, \"pred\": \"Adelie\"}, {\"flipper_length_mm\": 206.73913043478262, \"bill_length_mm\": 40.0, \"pred\": \"Adelie\"}, {\"flipper_length_mm\": 206.73913043478262, \"bill_length_mm\": 40.434782608695656, \"pred\": \"Adelie\"}, {\"flipper_length_mm\": 206.73913043478262, \"bill_length_mm\": 40.869565217391305, \"pred\": \"Adelie\"}, {\"flipper_length_mm\": 206.73913043478262, \"bill_length_mm\": 41.30434782608695, \"pred\": \"Adelie\"}, {\"flipper_length_mm\": 206.73913043478262, \"bill_length_mm\": 41.73913043478261, \"pred\": \"Gentoo\"}, {\"flipper_length_mm\": 206.73913043478262, \"bill_length_mm\": 42.17391304347826, \"pred\": \"Gentoo\"}, {\"flipper_length_mm\": 206.73913043478262, \"bill_length_mm\": 42.608695652173914, \"pred\": \"Gentoo\"}, {\"flipper_length_mm\": 206.73913043478262, \"bill_length_mm\": 43.04347826086956, \"pred\": \"Gentoo\"}, {\"flipper_length_mm\": 206.73913043478262, \"bill_length_mm\": 43.47826086956522, \"pred\": \"Gentoo\"}, {\"flipper_length_mm\": 206.73913043478262, \"bill_length_mm\": 43.91304347826087, \"pred\": \"Gentoo\"}, {\"flipper_length_mm\": 206.73913043478262, \"bill_length_mm\": 44.34782608695652, \"pred\": \"Gentoo\"}, {\"flipper_length_mm\": 206.73913043478262, \"bill_length_mm\": 44.78260869565217, \"pred\": \"Gentoo\"}, {\"flipper_length_mm\": 206.73913043478262, \"bill_length_mm\": 45.21739130434783, \"pred\": \"Gentoo\"}, {\"flipper_length_mm\": 206.73913043478262, \"bill_length_mm\": 45.65217391304348, \"pred\": \"Gentoo\"}, {\"flipper_length_mm\": 206.73913043478262, \"bill_length_mm\": 46.086956521739125, \"pred\": \"Gentoo\"}, {\"flipper_length_mm\": 206.73913043478262, \"bill_length_mm\": 46.52173913043478, \"pred\": \"Gentoo\"}, {\"flipper_length_mm\": 206.73913043478262, \"bill_length_mm\": 46.95652173913044, \"pred\": \"Gentoo\"}, {\"flipper_length_mm\": 206.73913043478262, \"bill_length_mm\": 47.391304347826086, \"pred\": \"Gentoo\"}, {\"flipper_length_mm\": 206.73913043478262, \"bill_length_mm\": 47.826086956521735, \"pred\": \"Gentoo\"}, {\"flipper_length_mm\": 206.73913043478262, \"bill_length_mm\": 48.26086956521739, \"pred\": \"Chinstrap\"}, {\"flipper_length_mm\": 206.73913043478262, \"bill_length_mm\": 48.69565217391305, \"pred\": \"Chinstrap\"}, {\"flipper_length_mm\": 206.73913043478262, \"bill_length_mm\": 49.130434782608695, \"pred\": \"Chinstrap\"}, {\"flipper_length_mm\": 206.73913043478262, \"bill_length_mm\": 49.565217391304344, \"pred\": \"Chinstrap\"}, {\"flipper_length_mm\": 206.73913043478262, \"bill_length_mm\": 50.0, \"pred\": \"Chinstrap\"}, {\"flipper_length_mm\": 206.73913043478262, \"bill_length_mm\": 50.434782608695656, \"pred\": \"Chinstrap\"}, {\"flipper_length_mm\": 206.73913043478262, \"bill_length_mm\": 50.869565217391305, \"pred\": \"Chinstrap\"}, {\"flipper_length_mm\": 206.73913043478262, \"bill_length_mm\": 51.30434782608695, \"pred\": \"Chinstrap\"}, {\"flipper_length_mm\": 206.73913043478262, \"bill_length_mm\": 51.73913043478261, \"pred\": \"Chinstrap\"}, {\"flipper_length_mm\": 206.73913043478262, \"bill_length_mm\": 52.173913043478265, \"pred\": \"Chinstrap\"}, {\"flipper_length_mm\": 206.73913043478262, \"bill_length_mm\": 52.608695652173914, \"pred\": \"Chinstrap\"}, {\"flipper_length_mm\": 206.73913043478262, \"bill_length_mm\": 53.04347826086956, \"pred\": \"Chinstrap\"}, {\"flipper_length_mm\": 206.73913043478262, \"bill_length_mm\": 53.47826086956522, \"pred\": \"Chinstrap\"}, {\"flipper_length_mm\": 206.73913043478262, \"bill_length_mm\": 53.91304347826087, \"pred\": \"Chinstrap\"}, {\"flipper_length_mm\": 206.73913043478262, \"bill_length_mm\": 54.347826086956516, \"pred\": \"Chinstrap\"}, {\"flipper_length_mm\": 206.73913043478262, \"bill_length_mm\": 54.78260869565217, \"pred\": \"Chinstrap\"}, {\"flipper_length_mm\": 206.73913043478262, \"bill_length_mm\": 55.21739130434783, \"pred\": \"Chinstrap\"}, {\"flipper_length_mm\": 206.73913043478262, \"bill_length_mm\": 55.65217391304348, \"pred\": \"Chinstrap\"}, {\"flipper_length_mm\": 206.73913043478262, \"bill_length_mm\": 56.086956521739125, \"pred\": \"Chinstrap\"}, {\"flipper_length_mm\": 206.73913043478262, \"bill_length_mm\": 56.52173913043478, \"pred\": \"Chinstrap\"}, {\"flipper_length_mm\": 206.73913043478262, \"bill_length_mm\": 56.95652173913044, \"pred\": \"Chinstrap\"}, {\"flipper_length_mm\": 206.73913043478262, \"bill_length_mm\": 57.391304347826086, \"pred\": \"Chinstrap\"}, {\"flipper_length_mm\": 206.73913043478262, \"bill_length_mm\": 57.826086956521735, \"pred\": \"Chinstrap\"}, {\"flipper_length_mm\": 206.73913043478262, \"bill_length_mm\": 58.26086956521739, \"pred\": \"Chinstrap\"}, {\"flipper_length_mm\": 206.73913043478262, \"bill_length_mm\": 58.69565217391305, \"pred\": \"Chinstrap\"}, {\"flipper_length_mm\": 206.73913043478262, \"bill_length_mm\": 59.130434782608695, \"pred\": \"Chinstrap\"}, {\"flipper_length_mm\": 206.73913043478262, \"bill_length_mm\": 59.565217391304344, \"pred\": \"Chinstrap\"}, {\"flipper_length_mm\": 206.73913043478262, \"bill_length_mm\": 60.0, \"pred\": \"Chinstrap\"}, {\"flipper_length_mm\": 207.68115942028984, \"bill_length_mm\": 30.0, \"pred\": \"Adelie\"}, {\"flipper_length_mm\": 207.68115942028984, \"bill_length_mm\": 30.434782608695652, \"pred\": \"Adelie\"}, {\"flipper_length_mm\": 207.68115942028984, \"bill_length_mm\": 30.869565217391305, \"pred\": \"Adelie\"}, {\"flipper_length_mm\": 207.68115942028984, \"bill_length_mm\": 31.304347826086957, \"pred\": \"Adelie\"}, {\"flipper_length_mm\": 207.68115942028984, \"bill_length_mm\": 31.73913043478261, \"pred\": \"Adelie\"}, {\"flipper_length_mm\": 207.68115942028984, \"bill_length_mm\": 32.17391304347826, \"pred\": \"Adelie\"}, {\"flipper_length_mm\": 207.68115942028984, \"bill_length_mm\": 32.608695652173914, \"pred\": \"Adelie\"}, {\"flipper_length_mm\": 207.68115942028984, \"bill_length_mm\": 33.04347826086956, \"pred\": \"Adelie\"}, {\"flipper_length_mm\": 207.68115942028984, \"bill_length_mm\": 33.47826086956522, \"pred\": \"Adelie\"}, {\"flipper_length_mm\": 207.68115942028984, \"bill_length_mm\": 33.91304347826087, \"pred\": \"Adelie\"}, {\"flipper_length_mm\": 207.68115942028984, \"bill_length_mm\": 34.34782608695652, \"pred\": \"Adelie\"}, {\"flipper_length_mm\": 207.68115942028984, \"bill_length_mm\": 34.78260869565217, \"pred\": \"Adelie\"}, {\"flipper_length_mm\": 207.68115942028984, \"bill_length_mm\": 35.21739130434783, \"pred\": \"Adelie\"}, {\"flipper_length_mm\": 207.68115942028984, \"bill_length_mm\": 35.65217391304348, \"pred\": \"Adelie\"}, {\"flipper_length_mm\": 207.68115942028984, \"bill_length_mm\": 36.08695652173913, \"pred\": \"Adelie\"}, {\"flipper_length_mm\": 207.68115942028984, \"bill_length_mm\": 36.52173913043478, \"pred\": \"Adelie\"}, {\"flipper_length_mm\": 207.68115942028984, \"bill_length_mm\": 36.95652173913044, \"pred\": \"Adelie\"}, {\"flipper_length_mm\": 207.68115942028984, \"bill_length_mm\": 37.391304347826086, \"pred\": \"Adelie\"}, {\"flipper_length_mm\": 207.68115942028984, \"bill_length_mm\": 37.82608695652174, \"pred\": \"Adelie\"}, {\"flipper_length_mm\": 207.68115942028984, \"bill_length_mm\": 38.26086956521739, \"pred\": \"Adelie\"}, {\"flipper_length_mm\": 207.68115942028984, \"bill_length_mm\": 38.69565217391305, \"pred\": \"Adelie\"}, {\"flipper_length_mm\": 207.68115942028984, \"bill_length_mm\": 39.130434782608695, \"pred\": \"Adelie\"}, {\"flipper_length_mm\": 207.68115942028984, \"bill_length_mm\": 39.565217391304344, \"pred\": \"Adelie\"}, {\"flipper_length_mm\": 207.68115942028984, \"bill_length_mm\": 40.0, \"pred\": \"Adelie\"}, {\"flipper_length_mm\": 207.68115942028984, \"bill_length_mm\": 40.434782608695656, \"pred\": \"Adelie\"}, {\"flipper_length_mm\": 207.68115942028984, \"bill_length_mm\": 40.869565217391305, \"pred\": \"Gentoo\"}, {\"flipper_length_mm\": 207.68115942028984, \"bill_length_mm\": 41.30434782608695, \"pred\": \"Gentoo\"}, {\"flipper_length_mm\": 207.68115942028984, \"bill_length_mm\": 41.73913043478261, \"pred\": \"Gentoo\"}, {\"flipper_length_mm\": 207.68115942028984, \"bill_length_mm\": 42.17391304347826, \"pred\": \"Gentoo\"}, {\"flipper_length_mm\": 207.68115942028984, \"bill_length_mm\": 42.608695652173914, \"pred\": \"Gentoo\"}, {\"flipper_length_mm\": 207.68115942028984, \"bill_length_mm\": 43.04347826086956, \"pred\": \"Gentoo\"}, {\"flipper_length_mm\": 207.68115942028984, \"bill_length_mm\": 43.47826086956522, \"pred\": \"Gentoo\"}, {\"flipper_length_mm\": 207.68115942028984, \"bill_length_mm\": 43.91304347826087, \"pred\": \"Gentoo\"}, {\"flipper_length_mm\": 207.68115942028984, \"bill_length_mm\": 44.34782608695652, \"pred\": \"Gentoo\"}, {\"flipper_length_mm\": 207.68115942028984, \"bill_length_mm\": 44.78260869565217, \"pred\": \"Gentoo\"}, {\"flipper_length_mm\": 207.68115942028984, \"bill_length_mm\": 45.21739130434783, \"pred\": \"Gentoo\"}, {\"flipper_length_mm\": 207.68115942028984, \"bill_length_mm\": 45.65217391304348, \"pred\": \"Gentoo\"}, {\"flipper_length_mm\": 207.68115942028984, \"bill_length_mm\": 46.086956521739125, \"pred\": \"Gentoo\"}, {\"flipper_length_mm\": 207.68115942028984, \"bill_length_mm\": 46.52173913043478, \"pred\": \"Gentoo\"}, {\"flipper_length_mm\": 207.68115942028984, \"bill_length_mm\": 46.95652173913044, \"pred\": \"Gentoo\"}, {\"flipper_length_mm\": 207.68115942028984, \"bill_length_mm\": 47.391304347826086, \"pred\": \"Gentoo\"}, {\"flipper_length_mm\": 207.68115942028984, \"bill_length_mm\": 47.826086956521735, \"pred\": \"Gentoo\"}, {\"flipper_length_mm\": 207.68115942028984, \"bill_length_mm\": 48.26086956521739, \"pred\": \"Gentoo\"}, {\"flipper_length_mm\": 207.68115942028984, \"bill_length_mm\": 48.69565217391305, \"pred\": \"Gentoo\"}, {\"flipper_length_mm\": 207.68115942028984, \"bill_length_mm\": 49.130434782608695, \"pred\": \"Chinstrap\"}, {\"flipper_length_mm\": 207.68115942028984, \"bill_length_mm\": 49.565217391304344, \"pred\": \"Chinstrap\"}, {\"flipper_length_mm\": 207.68115942028984, \"bill_length_mm\": 50.0, \"pred\": \"Chinstrap\"}, {\"flipper_length_mm\": 207.68115942028984, \"bill_length_mm\": 50.434782608695656, \"pred\": \"Chinstrap\"}, {\"flipper_length_mm\": 207.68115942028984, \"bill_length_mm\": 50.869565217391305, \"pred\": \"Chinstrap\"}, {\"flipper_length_mm\": 207.68115942028984, \"bill_length_mm\": 51.30434782608695, \"pred\": \"Chinstrap\"}, {\"flipper_length_mm\": 207.68115942028984, \"bill_length_mm\": 51.73913043478261, \"pred\": \"Chinstrap\"}, {\"flipper_length_mm\": 207.68115942028984, \"bill_length_mm\": 52.173913043478265, \"pred\": \"Chinstrap\"}, {\"flipper_length_mm\": 207.68115942028984, \"bill_length_mm\": 52.608695652173914, \"pred\": \"Chinstrap\"}, {\"flipper_length_mm\": 207.68115942028984, \"bill_length_mm\": 53.04347826086956, \"pred\": \"Chinstrap\"}, {\"flipper_length_mm\": 207.68115942028984, \"bill_length_mm\": 53.47826086956522, \"pred\": \"Chinstrap\"}, {\"flipper_length_mm\": 207.68115942028984, \"bill_length_mm\": 53.91304347826087, \"pred\": \"Chinstrap\"}, {\"flipper_length_mm\": 207.68115942028984, \"bill_length_mm\": 54.347826086956516, \"pred\": \"Chinstrap\"}, {\"flipper_length_mm\": 207.68115942028984, \"bill_length_mm\": 54.78260869565217, \"pred\": \"Chinstrap\"}, {\"flipper_length_mm\": 207.68115942028984, \"bill_length_mm\": 55.21739130434783, \"pred\": \"Chinstrap\"}, {\"flipper_length_mm\": 207.68115942028984, \"bill_length_mm\": 55.65217391304348, \"pred\": \"Chinstrap\"}, {\"flipper_length_mm\": 207.68115942028984, \"bill_length_mm\": 56.086956521739125, \"pred\": \"Chinstrap\"}, {\"flipper_length_mm\": 207.68115942028984, \"bill_length_mm\": 56.52173913043478, \"pred\": \"Chinstrap\"}, {\"flipper_length_mm\": 207.68115942028984, \"bill_length_mm\": 56.95652173913044, \"pred\": \"Chinstrap\"}, {\"flipper_length_mm\": 207.68115942028984, \"bill_length_mm\": 57.391304347826086, \"pred\": \"Chinstrap\"}, {\"flipper_length_mm\": 207.68115942028984, \"bill_length_mm\": 57.826086956521735, \"pred\": \"Chinstrap\"}, {\"flipper_length_mm\": 207.68115942028984, \"bill_length_mm\": 58.26086956521739, \"pred\": \"Chinstrap\"}, {\"flipper_length_mm\": 207.68115942028984, \"bill_length_mm\": 58.69565217391305, \"pred\": \"Chinstrap\"}, {\"flipper_length_mm\": 207.68115942028984, \"bill_length_mm\": 59.130434782608695, \"pred\": \"Chinstrap\"}, {\"flipper_length_mm\": 207.68115942028984, \"bill_length_mm\": 59.565217391304344, \"pred\": \"Chinstrap\"}, {\"flipper_length_mm\": 207.68115942028984, \"bill_length_mm\": 60.0, \"pred\": \"Chinstrap\"}, {\"flipper_length_mm\": 208.6231884057971, \"bill_length_mm\": 30.0, \"pred\": \"Adelie\"}, {\"flipper_length_mm\": 208.6231884057971, \"bill_length_mm\": 30.434782608695652, \"pred\": \"Adelie\"}, {\"flipper_length_mm\": 208.6231884057971, \"bill_length_mm\": 30.869565217391305, \"pred\": \"Adelie\"}, {\"flipper_length_mm\": 208.6231884057971, \"bill_length_mm\": 31.304347826086957, \"pred\": \"Adelie\"}, {\"flipper_length_mm\": 208.6231884057971, \"bill_length_mm\": 31.73913043478261, \"pred\": \"Adelie\"}, {\"flipper_length_mm\": 208.6231884057971, \"bill_length_mm\": 32.17391304347826, \"pred\": \"Adelie\"}, {\"flipper_length_mm\": 208.6231884057971, \"bill_length_mm\": 32.608695652173914, \"pred\": \"Adelie\"}, {\"flipper_length_mm\": 208.6231884057971, \"bill_length_mm\": 33.04347826086956, \"pred\": \"Adelie\"}, {\"flipper_length_mm\": 208.6231884057971, \"bill_length_mm\": 33.47826086956522, \"pred\": \"Adelie\"}, {\"flipper_length_mm\": 208.6231884057971, \"bill_length_mm\": 33.91304347826087, \"pred\": \"Adelie\"}, {\"flipper_length_mm\": 208.6231884057971, \"bill_length_mm\": 34.34782608695652, \"pred\": \"Adelie\"}, {\"flipper_length_mm\": 208.6231884057971, \"bill_length_mm\": 34.78260869565217, \"pred\": \"Adelie\"}, {\"flipper_length_mm\": 208.6231884057971, \"bill_length_mm\": 35.21739130434783, \"pred\": \"Adelie\"}, {\"flipper_length_mm\": 208.6231884057971, \"bill_length_mm\": 35.65217391304348, \"pred\": \"Adelie\"}, {\"flipper_length_mm\": 208.6231884057971, \"bill_length_mm\": 36.08695652173913, \"pred\": \"Adelie\"}, {\"flipper_length_mm\": 208.6231884057971, \"bill_length_mm\": 36.52173913043478, \"pred\": \"Adelie\"}, {\"flipper_length_mm\": 208.6231884057971, \"bill_length_mm\": 36.95652173913044, \"pred\": \"Adelie\"}, {\"flipper_length_mm\": 208.6231884057971, \"bill_length_mm\": 37.391304347826086, \"pred\": \"Adelie\"}, {\"flipper_length_mm\": 208.6231884057971, \"bill_length_mm\": 37.82608695652174, \"pred\": \"Adelie\"}, {\"flipper_length_mm\": 208.6231884057971, \"bill_length_mm\": 38.26086956521739, \"pred\": \"Adelie\"}, {\"flipper_length_mm\": 208.6231884057971, \"bill_length_mm\": 38.69565217391305, \"pred\": \"Adelie\"}, {\"flipper_length_mm\": 208.6231884057971, \"bill_length_mm\": 39.130434782608695, \"pred\": \"Adelie\"}, {\"flipper_length_mm\": 208.6231884057971, \"bill_length_mm\": 39.565217391304344, \"pred\": \"Adelie\"}, {\"flipper_length_mm\": 208.6231884057971, \"bill_length_mm\": 40.0, \"pred\": \"Gentoo\"}, {\"flipper_length_mm\": 208.6231884057971, \"bill_length_mm\": 40.434782608695656, \"pred\": \"Gentoo\"}, {\"flipper_length_mm\": 208.6231884057971, \"bill_length_mm\": 40.869565217391305, \"pred\": \"Gentoo\"}, {\"flipper_length_mm\": 208.6231884057971, \"bill_length_mm\": 41.30434782608695, \"pred\": \"Gentoo\"}, {\"flipper_length_mm\": 208.6231884057971, \"bill_length_mm\": 41.73913043478261, \"pred\": \"Gentoo\"}, {\"flipper_length_mm\": 208.6231884057971, \"bill_length_mm\": 42.17391304347826, \"pred\": \"Gentoo\"}, {\"flipper_length_mm\": 208.6231884057971, \"bill_length_mm\": 42.608695652173914, \"pred\": \"Gentoo\"}, {\"flipper_length_mm\": 208.6231884057971, \"bill_length_mm\": 43.04347826086956, \"pred\": \"Gentoo\"}, {\"flipper_length_mm\": 208.6231884057971, \"bill_length_mm\": 43.47826086956522, \"pred\": \"Gentoo\"}, {\"flipper_length_mm\": 208.6231884057971, \"bill_length_mm\": 43.91304347826087, \"pred\": \"Gentoo\"}, {\"flipper_length_mm\": 208.6231884057971, \"bill_length_mm\": 44.34782608695652, \"pred\": \"Gentoo\"}, {\"flipper_length_mm\": 208.6231884057971, \"bill_length_mm\": 44.78260869565217, \"pred\": \"Gentoo\"}, {\"flipper_length_mm\": 208.6231884057971, \"bill_length_mm\": 45.21739130434783, \"pred\": \"Gentoo\"}, {\"flipper_length_mm\": 208.6231884057971, \"bill_length_mm\": 45.65217391304348, \"pred\": \"Gentoo\"}, {\"flipper_length_mm\": 208.6231884057971, \"bill_length_mm\": 46.086956521739125, \"pred\": \"Gentoo\"}, {\"flipper_length_mm\": 208.6231884057971, \"bill_length_mm\": 46.52173913043478, \"pred\": \"Gentoo\"}, {\"flipper_length_mm\": 208.6231884057971, \"bill_length_mm\": 46.95652173913044, \"pred\": \"Gentoo\"}, {\"flipper_length_mm\": 208.6231884057971, \"bill_length_mm\": 47.391304347826086, \"pred\": \"Gentoo\"}, {\"flipper_length_mm\": 208.6231884057971, \"bill_length_mm\": 47.826086956521735, \"pred\": \"Gentoo\"}, {\"flipper_length_mm\": 208.6231884057971, \"bill_length_mm\": 48.26086956521739, \"pred\": \"Gentoo\"}, {\"flipper_length_mm\": 208.6231884057971, \"bill_length_mm\": 48.69565217391305, \"pred\": \"Gentoo\"}, {\"flipper_length_mm\": 208.6231884057971, \"bill_length_mm\": 49.130434782608695, \"pred\": \"Gentoo\"}, {\"flipper_length_mm\": 208.6231884057971, \"bill_length_mm\": 49.565217391304344, \"pred\": \"Chinstrap\"}, {\"flipper_length_mm\": 208.6231884057971, \"bill_length_mm\": 50.0, \"pred\": \"Chinstrap\"}, {\"flipper_length_mm\": 208.6231884057971, \"bill_length_mm\": 50.434782608695656, \"pred\": \"Chinstrap\"}, {\"flipper_length_mm\": 208.6231884057971, \"bill_length_mm\": 50.869565217391305, \"pred\": \"Chinstrap\"}, {\"flipper_length_mm\": 208.6231884057971, \"bill_length_mm\": 51.30434782608695, \"pred\": \"Chinstrap\"}, {\"flipper_length_mm\": 208.6231884057971, \"bill_length_mm\": 51.73913043478261, \"pred\": \"Chinstrap\"}, {\"flipper_length_mm\": 208.6231884057971, \"bill_length_mm\": 52.173913043478265, \"pred\": \"Chinstrap\"}, {\"flipper_length_mm\": 208.6231884057971, \"bill_length_mm\": 52.608695652173914, \"pred\": \"Chinstrap\"}, {\"flipper_length_mm\": 208.6231884057971, \"bill_length_mm\": 53.04347826086956, \"pred\": \"Chinstrap\"}, {\"flipper_length_mm\": 208.6231884057971, \"bill_length_mm\": 53.47826086956522, \"pred\": \"Chinstrap\"}, {\"flipper_length_mm\": 208.6231884057971, \"bill_length_mm\": 53.91304347826087, \"pred\": \"Chinstrap\"}, {\"flipper_length_mm\": 208.6231884057971, \"bill_length_mm\": 54.347826086956516, \"pred\": \"Chinstrap\"}, {\"flipper_length_mm\": 208.6231884057971, \"bill_length_mm\": 54.78260869565217, \"pred\": \"Chinstrap\"}, {\"flipper_length_mm\": 208.6231884057971, \"bill_length_mm\": 55.21739130434783, \"pred\": \"Chinstrap\"}, {\"flipper_length_mm\": 208.6231884057971, \"bill_length_mm\": 55.65217391304348, \"pred\": \"Chinstrap\"}, {\"flipper_length_mm\": 208.6231884057971, \"bill_length_mm\": 56.086956521739125, \"pred\": \"Chinstrap\"}, {\"flipper_length_mm\": 208.6231884057971, \"bill_length_mm\": 56.52173913043478, \"pred\": \"Chinstrap\"}, {\"flipper_length_mm\": 208.6231884057971, \"bill_length_mm\": 56.95652173913044, \"pred\": \"Chinstrap\"}, {\"flipper_length_mm\": 208.6231884057971, \"bill_length_mm\": 57.391304347826086, \"pred\": \"Chinstrap\"}, {\"flipper_length_mm\": 208.6231884057971, \"bill_length_mm\": 57.826086956521735, \"pred\": \"Chinstrap\"}, {\"flipper_length_mm\": 208.6231884057971, \"bill_length_mm\": 58.26086956521739, \"pred\": \"Chinstrap\"}, {\"flipper_length_mm\": 208.6231884057971, \"bill_length_mm\": 58.69565217391305, \"pred\": \"Chinstrap\"}, {\"flipper_length_mm\": 208.6231884057971, \"bill_length_mm\": 59.130434782608695, \"pred\": \"Chinstrap\"}, {\"flipper_length_mm\": 208.6231884057971, \"bill_length_mm\": 59.565217391304344, \"pred\": \"Chinstrap\"}, {\"flipper_length_mm\": 208.6231884057971, \"bill_length_mm\": 60.0, \"pred\": \"Chinstrap\"}, {\"flipper_length_mm\": 209.56521739130434, \"bill_length_mm\": 30.0, \"pred\": \"Adelie\"}, {\"flipper_length_mm\": 209.56521739130434, \"bill_length_mm\": 30.434782608695652, \"pred\": \"Adelie\"}, {\"flipper_length_mm\": 209.56521739130434, \"bill_length_mm\": 30.869565217391305, \"pred\": \"Adelie\"}, {\"flipper_length_mm\": 209.56521739130434, \"bill_length_mm\": 31.304347826086957, \"pred\": \"Adelie\"}, {\"flipper_length_mm\": 209.56521739130434, \"bill_length_mm\": 31.73913043478261, \"pred\": \"Adelie\"}, {\"flipper_length_mm\": 209.56521739130434, \"bill_length_mm\": 32.17391304347826, \"pred\": \"Adelie\"}, {\"flipper_length_mm\": 209.56521739130434, \"bill_length_mm\": 32.608695652173914, \"pred\": \"Adelie\"}, {\"flipper_length_mm\": 209.56521739130434, \"bill_length_mm\": 33.04347826086956, \"pred\": \"Adelie\"}, {\"flipper_length_mm\": 209.56521739130434, \"bill_length_mm\": 33.47826086956522, \"pred\": \"Adelie\"}, {\"flipper_length_mm\": 209.56521739130434, \"bill_length_mm\": 33.91304347826087, \"pred\": \"Adelie\"}, {\"flipper_length_mm\": 209.56521739130434, \"bill_length_mm\": 34.34782608695652, \"pred\": \"Adelie\"}, {\"flipper_length_mm\": 209.56521739130434, \"bill_length_mm\": 34.78260869565217, \"pred\": \"Adelie\"}, {\"flipper_length_mm\": 209.56521739130434, \"bill_length_mm\": 35.21739130434783, \"pred\": \"Adelie\"}, {\"flipper_length_mm\": 209.56521739130434, \"bill_length_mm\": 35.65217391304348, \"pred\": \"Adelie\"}, {\"flipper_length_mm\": 209.56521739130434, \"bill_length_mm\": 36.08695652173913, \"pred\": \"Adelie\"}, {\"flipper_length_mm\": 209.56521739130434, \"bill_length_mm\": 36.52173913043478, \"pred\": \"Adelie\"}, {\"flipper_length_mm\": 209.56521739130434, \"bill_length_mm\": 36.95652173913044, \"pred\": \"Adelie\"}, {\"flipper_length_mm\": 209.56521739130434, \"bill_length_mm\": 37.391304347826086, \"pred\": \"Adelie\"}, {\"flipper_length_mm\": 209.56521739130434, \"bill_length_mm\": 37.82608695652174, \"pred\": \"Adelie\"}, {\"flipper_length_mm\": 209.56521739130434, \"bill_length_mm\": 38.26086956521739, \"pred\": \"Adelie\"}, {\"flipper_length_mm\": 209.56521739130434, \"bill_length_mm\": 38.69565217391305, \"pred\": \"Adelie\"}, {\"flipper_length_mm\": 209.56521739130434, \"bill_length_mm\": 39.130434782608695, \"pred\": \"Gentoo\"}, {\"flipper_length_mm\": 209.56521739130434, \"bill_length_mm\": 39.565217391304344, \"pred\": \"Gentoo\"}, {\"flipper_length_mm\": 209.56521739130434, \"bill_length_mm\": 40.0, \"pred\": \"Gentoo\"}, {\"flipper_length_mm\": 209.56521739130434, \"bill_length_mm\": 40.434782608695656, \"pred\": \"Gentoo\"}, {\"flipper_length_mm\": 209.56521739130434, \"bill_length_mm\": 40.869565217391305, \"pred\": \"Gentoo\"}, {\"flipper_length_mm\": 209.56521739130434, \"bill_length_mm\": 41.30434782608695, \"pred\": \"Gentoo\"}, {\"flipper_length_mm\": 209.56521739130434, \"bill_length_mm\": 41.73913043478261, \"pred\": \"Gentoo\"}, {\"flipper_length_mm\": 209.56521739130434, \"bill_length_mm\": 42.17391304347826, \"pred\": \"Gentoo\"}, {\"flipper_length_mm\": 209.56521739130434, \"bill_length_mm\": 42.608695652173914, \"pred\": \"Gentoo\"}, {\"flipper_length_mm\": 209.56521739130434, \"bill_length_mm\": 43.04347826086956, \"pred\": \"Gentoo\"}, {\"flipper_length_mm\": 209.56521739130434, \"bill_length_mm\": 43.47826086956522, \"pred\": \"Gentoo\"}, {\"flipper_length_mm\": 209.56521739130434, \"bill_length_mm\": 43.91304347826087, \"pred\": \"Gentoo\"}, {\"flipper_length_mm\": 209.56521739130434, \"bill_length_mm\": 44.34782608695652, \"pred\": \"Gentoo\"}, {\"flipper_length_mm\": 209.56521739130434, \"bill_length_mm\": 44.78260869565217, \"pred\": \"Gentoo\"}, {\"flipper_length_mm\": 209.56521739130434, \"bill_length_mm\": 45.21739130434783, \"pred\": \"Gentoo\"}, {\"flipper_length_mm\": 209.56521739130434, \"bill_length_mm\": 45.65217391304348, \"pred\": \"Gentoo\"}, {\"flipper_length_mm\": 209.56521739130434, \"bill_length_mm\": 46.086956521739125, \"pred\": \"Gentoo\"}, {\"flipper_length_mm\": 209.56521739130434, \"bill_length_mm\": 46.52173913043478, \"pred\": \"Gentoo\"}, {\"flipper_length_mm\": 209.56521739130434, \"bill_length_mm\": 46.95652173913044, \"pred\": \"Gentoo\"}, {\"flipper_length_mm\": 209.56521739130434, \"bill_length_mm\": 47.391304347826086, \"pred\": \"Gentoo\"}, {\"flipper_length_mm\": 209.56521739130434, \"bill_length_mm\": 47.826086956521735, \"pred\": \"Gentoo\"}, {\"flipper_length_mm\": 209.56521739130434, \"bill_length_mm\": 48.26086956521739, \"pred\": \"Gentoo\"}, {\"flipper_length_mm\": 209.56521739130434, \"bill_length_mm\": 48.69565217391305, \"pred\": \"Gentoo\"}, {\"flipper_length_mm\": 209.56521739130434, \"bill_length_mm\": 49.130434782608695, \"pred\": \"Gentoo\"}, {\"flipper_length_mm\": 209.56521739130434, \"bill_length_mm\": 49.565217391304344, \"pred\": \"Gentoo\"}, {\"flipper_length_mm\": 209.56521739130434, \"bill_length_mm\": 50.0, \"pred\": \"Gentoo\"}, {\"flipper_length_mm\": 209.56521739130434, \"bill_length_mm\": 50.434782608695656, \"pred\": \"Chinstrap\"}, {\"flipper_length_mm\": 209.56521739130434, \"bill_length_mm\": 50.869565217391305, \"pred\": \"Chinstrap\"}, {\"flipper_length_mm\": 209.56521739130434, \"bill_length_mm\": 51.30434782608695, \"pred\": \"Chinstrap\"}, {\"flipper_length_mm\": 209.56521739130434, \"bill_length_mm\": 51.73913043478261, \"pred\": \"Chinstrap\"}, {\"flipper_length_mm\": 209.56521739130434, \"bill_length_mm\": 52.173913043478265, \"pred\": \"Chinstrap\"}, {\"flipper_length_mm\": 209.56521739130434, \"bill_length_mm\": 52.608695652173914, \"pred\": \"Chinstrap\"}, {\"flipper_length_mm\": 209.56521739130434, \"bill_length_mm\": 53.04347826086956, \"pred\": \"Chinstrap\"}, {\"flipper_length_mm\": 209.56521739130434, \"bill_length_mm\": 53.47826086956522, \"pred\": \"Chinstrap\"}, {\"flipper_length_mm\": 209.56521739130434, \"bill_length_mm\": 53.91304347826087, \"pred\": \"Chinstrap\"}, {\"flipper_length_mm\": 209.56521739130434, \"bill_length_mm\": 54.347826086956516, \"pred\": \"Chinstrap\"}, {\"flipper_length_mm\": 209.56521739130434, \"bill_length_mm\": 54.78260869565217, \"pred\": \"Chinstrap\"}, {\"flipper_length_mm\": 209.56521739130434, \"bill_length_mm\": 55.21739130434783, \"pred\": \"Chinstrap\"}, {\"flipper_length_mm\": 209.56521739130434, \"bill_length_mm\": 55.65217391304348, \"pred\": \"Chinstrap\"}, {\"flipper_length_mm\": 209.56521739130434, \"bill_length_mm\": 56.086956521739125, \"pred\": \"Chinstrap\"}, {\"flipper_length_mm\": 209.56521739130434, \"bill_length_mm\": 56.52173913043478, \"pred\": \"Chinstrap\"}, {\"flipper_length_mm\": 209.56521739130434, \"bill_length_mm\": 56.95652173913044, \"pred\": \"Chinstrap\"}, {\"flipper_length_mm\": 209.56521739130434, \"bill_length_mm\": 57.391304347826086, \"pred\": \"Chinstrap\"}, {\"flipper_length_mm\": 209.56521739130434, \"bill_length_mm\": 57.826086956521735, \"pred\": \"Chinstrap\"}, {\"flipper_length_mm\": 209.56521739130434, \"bill_length_mm\": 58.26086956521739, \"pred\": \"Chinstrap\"}, {\"flipper_length_mm\": 209.56521739130434, \"bill_length_mm\": 58.69565217391305, \"pred\": \"Chinstrap\"}, {\"flipper_length_mm\": 209.56521739130434, \"bill_length_mm\": 59.130434782608695, \"pred\": \"Chinstrap\"}, {\"flipper_length_mm\": 209.56521739130434, \"bill_length_mm\": 59.565217391304344, \"pred\": \"Chinstrap\"}, {\"flipper_length_mm\": 209.56521739130434, \"bill_length_mm\": 60.0, \"pred\": \"Chinstrap\"}, {\"flipper_length_mm\": 210.5072463768116, \"bill_length_mm\": 30.0, \"pred\": \"Adelie\"}, {\"flipper_length_mm\": 210.5072463768116, \"bill_length_mm\": 30.434782608695652, \"pred\": \"Adelie\"}, {\"flipper_length_mm\": 210.5072463768116, \"bill_length_mm\": 30.869565217391305, \"pred\": \"Adelie\"}, {\"flipper_length_mm\": 210.5072463768116, \"bill_length_mm\": 31.304347826086957, \"pred\": \"Adelie\"}, {\"flipper_length_mm\": 210.5072463768116, \"bill_length_mm\": 31.73913043478261, \"pred\": \"Adelie\"}, {\"flipper_length_mm\": 210.5072463768116, \"bill_length_mm\": 32.17391304347826, \"pred\": \"Adelie\"}, {\"flipper_length_mm\": 210.5072463768116, \"bill_length_mm\": 32.608695652173914, \"pred\": \"Adelie\"}, {\"flipper_length_mm\": 210.5072463768116, \"bill_length_mm\": 33.04347826086956, \"pred\": \"Adelie\"}, {\"flipper_length_mm\": 210.5072463768116, \"bill_length_mm\": 33.47826086956522, \"pred\": \"Adelie\"}, {\"flipper_length_mm\": 210.5072463768116, \"bill_length_mm\": 33.91304347826087, \"pred\": \"Adelie\"}, {\"flipper_length_mm\": 210.5072463768116, \"bill_length_mm\": 34.34782608695652, \"pred\": \"Adelie\"}, {\"flipper_length_mm\": 210.5072463768116, \"bill_length_mm\": 34.78260869565217, \"pred\": \"Adelie\"}, {\"flipper_length_mm\": 210.5072463768116, \"bill_length_mm\": 35.21739130434783, \"pred\": \"Adelie\"}, {\"flipper_length_mm\": 210.5072463768116, \"bill_length_mm\": 35.65217391304348, \"pred\": \"Adelie\"}, {\"flipper_length_mm\": 210.5072463768116, \"bill_length_mm\": 36.08695652173913, \"pred\": \"Adelie\"}, {\"flipper_length_mm\": 210.5072463768116, \"bill_length_mm\": 36.52173913043478, \"pred\": \"Adelie\"}, {\"flipper_length_mm\": 210.5072463768116, \"bill_length_mm\": 36.95652173913044, \"pred\": \"Adelie\"}, {\"flipper_length_mm\": 210.5072463768116, \"bill_length_mm\": 37.391304347826086, \"pred\": \"Adelie\"}, {\"flipper_length_mm\": 210.5072463768116, \"bill_length_mm\": 37.82608695652174, \"pred\": \"Adelie\"}, {\"flipper_length_mm\": 210.5072463768116, \"bill_length_mm\": 38.26086956521739, \"pred\": \"Gentoo\"}, {\"flipper_length_mm\": 210.5072463768116, \"bill_length_mm\": 38.69565217391305, \"pred\": \"Gentoo\"}, {\"flipper_length_mm\": 210.5072463768116, \"bill_length_mm\": 39.130434782608695, \"pred\": \"Gentoo\"}, {\"flipper_length_mm\": 210.5072463768116, \"bill_length_mm\": 39.565217391304344, \"pred\": \"Gentoo\"}, {\"flipper_length_mm\": 210.5072463768116, \"bill_length_mm\": 40.0, \"pred\": \"Gentoo\"}, {\"flipper_length_mm\": 210.5072463768116, \"bill_length_mm\": 40.434782608695656, \"pred\": \"Gentoo\"}, {\"flipper_length_mm\": 210.5072463768116, \"bill_length_mm\": 40.869565217391305, \"pred\": \"Gentoo\"}, {\"flipper_length_mm\": 210.5072463768116, \"bill_length_mm\": 41.30434782608695, \"pred\": \"Gentoo\"}, {\"flipper_length_mm\": 210.5072463768116, \"bill_length_mm\": 41.73913043478261, \"pred\": \"Gentoo\"}, {\"flipper_length_mm\": 210.5072463768116, \"bill_length_mm\": 42.17391304347826, \"pred\": \"Gentoo\"}, {\"flipper_length_mm\": 210.5072463768116, \"bill_length_mm\": 42.608695652173914, \"pred\": \"Gentoo\"}, {\"flipper_length_mm\": 210.5072463768116, \"bill_length_mm\": 43.04347826086956, \"pred\": \"Gentoo\"}, {\"flipper_length_mm\": 210.5072463768116, \"bill_length_mm\": 43.47826086956522, \"pred\": \"Gentoo\"}, {\"flipper_length_mm\": 210.5072463768116, \"bill_length_mm\": 43.91304347826087, \"pred\": \"Gentoo\"}, {\"flipper_length_mm\": 210.5072463768116, \"bill_length_mm\": 44.34782608695652, \"pred\": \"Gentoo\"}, {\"flipper_length_mm\": 210.5072463768116, \"bill_length_mm\": 44.78260869565217, \"pred\": \"Gentoo\"}, {\"flipper_length_mm\": 210.5072463768116, \"bill_length_mm\": 45.21739130434783, \"pred\": \"Gentoo\"}, {\"flipper_length_mm\": 210.5072463768116, \"bill_length_mm\": 45.65217391304348, \"pred\": \"Gentoo\"}, {\"flipper_length_mm\": 210.5072463768116, \"bill_length_mm\": 46.086956521739125, \"pred\": \"Gentoo\"}, {\"flipper_length_mm\": 210.5072463768116, \"bill_length_mm\": 46.52173913043478, \"pred\": \"Gentoo\"}, {\"flipper_length_mm\": 210.5072463768116, \"bill_length_mm\": 46.95652173913044, \"pred\": \"Gentoo\"}, {\"flipper_length_mm\": 210.5072463768116, \"bill_length_mm\": 47.391304347826086, \"pred\": \"Gentoo\"}, {\"flipper_length_mm\": 210.5072463768116, \"bill_length_mm\": 47.826086956521735, \"pred\": \"Gentoo\"}, {\"flipper_length_mm\": 210.5072463768116, \"bill_length_mm\": 48.26086956521739, \"pred\": \"Gentoo\"}, {\"flipper_length_mm\": 210.5072463768116, \"bill_length_mm\": 48.69565217391305, \"pred\": \"Gentoo\"}, {\"flipper_length_mm\": 210.5072463768116, \"bill_length_mm\": 49.130434782608695, \"pred\": \"Gentoo\"}, {\"flipper_length_mm\": 210.5072463768116, \"bill_length_mm\": 49.565217391304344, \"pred\": \"Gentoo\"}, {\"flipper_length_mm\": 210.5072463768116, \"bill_length_mm\": 50.0, \"pred\": \"Gentoo\"}, {\"flipper_length_mm\": 210.5072463768116, \"bill_length_mm\": 50.434782608695656, \"pred\": \"Gentoo\"}, {\"flipper_length_mm\": 210.5072463768116, \"bill_length_mm\": 50.869565217391305, \"pred\": \"Gentoo\"}, {\"flipper_length_mm\": 210.5072463768116, \"bill_length_mm\": 51.30434782608695, \"pred\": \"Chinstrap\"}, {\"flipper_length_mm\": 210.5072463768116, \"bill_length_mm\": 51.73913043478261, \"pred\": \"Chinstrap\"}, {\"flipper_length_mm\": 210.5072463768116, \"bill_length_mm\": 52.173913043478265, \"pred\": \"Chinstrap\"}, {\"flipper_length_mm\": 210.5072463768116, \"bill_length_mm\": 52.608695652173914, \"pred\": \"Chinstrap\"}, {\"flipper_length_mm\": 210.5072463768116, \"bill_length_mm\": 53.04347826086956, \"pred\": \"Chinstrap\"}, {\"flipper_length_mm\": 210.5072463768116, \"bill_length_mm\": 53.47826086956522, \"pred\": \"Chinstrap\"}, {\"flipper_length_mm\": 210.5072463768116, \"bill_length_mm\": 53.91304347826087, \"pred\": \"Chinstrap\"}, {\"flipper_length_mm\": 210.5072463768116, \"bill_length_mm\": 54.347826086956516, \"pred\": \"Chinstrap\"}, {\"flipper_length_mm\": 210.5072463768116, \"bill_length_mm\": 54.78260869565217, \"pred\": \"Chinstrap\"}, {\"flipper_length_mm\": 210.5072463768116, \"bill_length_mm\": 55.21739130434783, \"pred\": \"Chinstrap\"}, {\"flipper_length_mm\": 210.5072463768116, \"bill_length_mm\": 55.65217391304348, \"pred\": \"Chinstrap\"}, {\"flipper_length_mm\": 210.5072463768116, \"bill_length_mm\": 56.086956521739125, \"pred\": \"Chinstrap\"}, {\"flipper_length_mm\": 210.5072463768116, \"bill_length_mm\": 56.52173913043478, \"pred\": \"Chinstrap\"}, {\"flipper_length_mm\": 210.5072463768116, \"bill_length_mm\": 56.95652173913044, \"pred\": \"Chinstrap\"}, {\"flipper_length_mm\": 210.5072463768116, \"bill_length_mm\": 57.391304347826086, \"pred\": \"Chinstrap\"}, {\"flipper_length_mm\": 210.5072463768116, \"bill_length_mm\": 57.826086956521735, \"pred\": \"Chinstrap\"}, {\"flipper_length_mm\": 210.5072463768116, \"bill_length_mm\": 58.26086956521739, \"pred\": \"Chinstrap\"}, {\"flipper_length_mm\": 210.5072463768116, \"bill_length_mm\": 58.69565217391305, \"pred\": \"Chinstrap\"}, {\"flipper_length_mm\": 210.5072463768116, \"bill_length_mm\": 59.130434782608695, \"pred\": \"Chinstrap\"}, {\"flipper_length_mm\": 210.5072463768116, \"bill_length_mm\": 59.565217391304344, \"pred\": \"Chinstrap\"}, {\"flipper_length_mm\": 210.5072463768116, \"bill_length_mm\": 60.0, \"pred\": \"Chinstrap\"}, {\"flipper_length_mm\": 211.44927536231884, \"bill_length_mm\": 30.0, \"pred\": \"Adelie\"}, {\"flipper_length_mm\": 211.44927536231884, \"bill_length_mm\": 30.434782608695652, \"pred\": \"Adelie\"}, {\"flipper_length_mm\": 211.44927536231884, \"bill_length_mm\": 30.869565217391305, \"pred\": \"Adelie\"}, {\"flipper_length_mm\": 211.44927536231884, \"bill_length_mm\": 31.304347826086957, \"pred\": \"Adelie\"}, {\"flipper_length_mm\": 211.44927536231884, \"bill_length_mm\": 31.73913043478261, \"pred\": \"Adelie\"}, {\"flipper_length_mm\": 211.44927536231884, \"bill_length_mm\": 32.17391304347826, \"pred\": \"Adelie\"}, {\"flipper_length_mm\": 211.44927536231884, \"bill_length_mm\": 32.608695652173914, \"pred\": \"Adelie\"}, {\"flipper_length_mm\": 211.44927536231884, \"bill_length_mm\": 33.04347826086956, \"pred\": \"Adelie\"}, {\"flipper_length_mm\": 211.44927536231884, \"bill_length_mm\": 33.47826086956522, \"pred\": \"Adelie\"}, {\"flipper_length_mm\": 211.44927536231884, \"bill_length_mm\": 33.91304347826087, \"pred\": \"Adelie\"}, {\"flipper_length_mm\": 211.44927536231884, \"bill_length_mm\": 34.34782608695652, \"pred\": \"Adelie\"}, {\"flipper_length_mm\": 211.44927536231884, \"bill_length_mm\": 34.78260869565217, \"pred\": \"Adelie\"}, {\"flipper_length_mm\": 211.44927536231884, \"bill_length_mm\": 35.21739130434783, \"pred\": \"Adelie\"}, {\"flipper_length_mm\": 211.44927536231884, \"bill_length_mm\": 35.65217391304348, \"pred\": \"Adelie\"}, {\"flipper_length_mm\": 211.44927536231884, \"bill_length_mm\": 36.08695652173913, \"pred\": \"Adelie\"}, {\"flipper_length_mm\": 211.44927536231884, \"bill_length_mm\": 36.52173913043478, \"pred\": \"Adelie\"}, {\"flipper_length_mm\": 211.44927536231884, \"bill_length_mm\": 36.95652173913044, \"pred\": \"Adelie\"}, {\"flipper_length_mm\": 211.44927536231884, \"bill_length_mm\": 37.391304347826086, \"pred\": \"Gentoo\"}, {\"flipper_length_mm\": 211.44927536231884, \"bill_length_mm\": 37.82608695652174, \"pred\": \"Gentoo\"}, {\"flipper_length_mm\": 211.44927536231884, \"bill_length_mm\": 38.26086956521739, \"pred\": \"Gentoo\"}, {\"flipper_length_mm\": 211.44927536231884, \"bill_length_mm\": 38.69565217391305, \"pred\": \"Gentoo\"}, {\"flipper_length_mm\": 211.44927536231884, \"bill_length_mm\": 39.130434782608695, \"pred\": \"Gentoo\"}, {\"flipper_length_mm\": 211.44927536231884, \"bill_length_mm\": 39.565217391304344, \"pred\": \"Gentoo\"}, {\"flipper_length_mm\": 211.44927536231884, \"bill_length_mm\": 40.0, \"pred\": \"Gentoo\"}, {\"flipper_length_mm\": 211.44927536231884, \"bill_length_mm\": 40.434782608695656, \"pred\": \"Gentoo\"}, {\"flipper_length_mm\": 211.44927536231884, \"bill_length_mm\": 40.869565217391305, \"pred\": \"Gentoo\"}, {\"flipper_length_mm\": 211.44927536231884, \"bill_length_mm\": 41.30434782608695, \"pred\": \"Gentoo\"}, {\"flipper_length_mm\": 211.44927536231884, \"bill_length_mm\": 41.73913043478261, \"pred\": \"Gentoo\"}, {\"flipper_length_mm\": 211.44927536231884, \"bill_length_mm\": 42.17391304347826, \"pred\": \"Gentoo\"}, {\"flipper_length_mm\": 211.44927536231884, \"bill_length_mm\": 42.608695652173914, \"pred\": \"Gentoo\"}, {\"flipper_length_mm\": 211.44927536231884, \"bill_length_mm\": 43.04347826086956, \"pred\": \"Gentoo\"}, {\"flipper_length_mm\": 211.44927536231884, \"bill_length_mm\": 43.47826086956522, \"pred\": \"Gentoo\"}, {\"flipper_length_mm\": 211.44927536231884, \"bill_length_mm\": 43.91304347826087, \"pred\": \"Gentoo\"}, {\"flipper_length_mm\": 211.44927536231884, \"bill_length_mm\": 44.34782608695652, \"pred\": \"Gentoo\"}, {\"flipper_length_mm\": 211.44927536231884, \"bill_length_mm\": 44.78260869565217, \"pred\": \"Gentoo\"}, {\"flipper_length_mm\": 211.44927536231884, \"bill_length_mm\": 45.21739130434783, \"pred\": \"Gentoo\"}, {\"flipper_length_mm\": 211.44927536231884, \"bill_length_mm\": 45.65217391304348, \"pred\": \"Gentoo\"}, {\"flipper_length_mm\": 211.44927536231884, \"bill_length_mm\": 46.086956521739125, \"pred\": \"Gentoo\"}, {\"flipper_length_mm\": 211.44927536231884, \"bill_length_mm\": 46.52173913043478, \"pred\": \"Gentoo\"}, {\"flipper_length_mm\": 211.44927536231884, \"bill_length_mm\": 46.95652173913044, \"pred\": \"Gentoo\"}, {\"flipper_length_mm\": 211.44927536231884, \"bill_length_mm\": 47.391304347826086, \"pred\": \"Gentoo\"}, {\"flipper_length_mm\": 211.44927536231884, \"bill_length_mm\": 47.826086956521735, \"pred\": \"Gentoo\"}, {\"flipper_length_mm\": 211.44927536231884, \"bill_length_mm\": 48.26086956521739, \"pred\": \"Gentoo\"}, {\"flipper_length_mm\": 211.44927536231884, \"bill_length_mm\": 48.69565217391305, \"pred\": \"Gentoo\"}, {\"flipper_length_mm\": 211.44927536231884, \"bill_length_mm\": 49.130434782608695, \"pred\": \"Gentoo\"}, {\"flipper_length_mm\": 211.44927536231884, \"bill_length_mm\": 49.565217391304344, \"pred\": \"Gentoo\"}, {\"flipper_length_mm\": 211.44927536231884, \"bill_length_mm\": 50.0, \"pred\": \"Gentoo\"}, {\"flipper_length_mm\": 211.44927536231884, \"bill_length_mm\": 50.434782608695656, \"pred\": \"Gentoo\"}, {\"flipper_length_mm\": 211.44927536231884, \"bill_length_mm\": 50.869565217391305, \"pred\": \"Gentoo\"}, {\"flipper_length_mm\": 211.44927536231884, \"bill_length_mm\": 51.30434782608695, \"pred\": \"Gentoo\"}, {\"flipper_length_mm\": 211.44927536231884, \"bill_length_mm\": 51.73913043478261, \"pred\": \"Gentoo\"}, {\"flipper_length_mm\": 211.44927536231884, \"bill_length_mm\": 52.173913043478265, \"pred\": \"Chinstrap\"}, {\"flipper_length_mm\": 211.44927536231884, \"bill_length_mm\": 52.608695652173914, \"pred\": \"Chinstrap\"}, {\"flipper_length_mm\": 211.44927536231884, \"bill_length_mm\": 53.04347826086956, \"pred\": \"Chinstrap\"}, {\"flipper_length_mm\": 211.44927536231884, \"bill_length_mm\": 53.47826086956522, \"pred\": \"Chinstrap\"}, {\"flipper_length_mm\": 211.44927536231884, \"bill_length_mm\": 53.91304347826087, \"pred\": \"Chinstrap\"}, {\"flipper_length_mm\": 211.44927536231884, \"bill_length_mm\": 54.347826086956516, \"pred\": \"Chinstrap\"}, {\"flipper_length_mm\": 211.44927536231884, \"bill_length_mm\": 54.78260869565217, \"pred\": \"Chinstrap\"}, {\"flipper_length_mm\": 211.44927536231884, \"bill_length_mm\": 55.21739130434783, \"pred\": \"Chinstrap\"}, {\"flipper_length_mm\": 211.44927536231884, \"bill_length_mm\": 55.65217391304348, \"pred\": \"Chinstrap\"}, {\"flipper_length_mm\": 211.44927536231884, \"bill_length_mm\": 56.086956521739125, \"pred\": \"Chinstrap\"}, {\"flipper_length_mm\": 211.44927536231884, \"bill_length_mm\": 56.52173913043478, \"pred\": \"Chinstrap\"}, {\"flipper_length_mm\": 211.44927536231884, \"bill_length_mm\": 56.95652173913044, \"pred\": \"Chinstrap\"}, {\"flipper_length_mm\": 211.44927536231884, \"bill_length_mm\": 57.391304347826086, \"pred\": \"Chinstrap\"}, {\"flipper_length_mm\": 211.44927536231884, \"bill_length_mm\": 57.826086956521735, \"pred\": \"Chinstrap\"}, {\"flipper_length_mm\": 211.44927536231884, \"bill_length_mm\": 58.26086956521739, \"pred\": \"Chinstrap\"}, {\"flipper_length_mm\": 211.44927536231884, \"bill_length_mm\": 58.69565217391305, \"pred\": \"Chinstrap\"}, {\"flipper_length_mm\": 211.44927536231884, \"bill_length_mm\": 59.130434782608695, \"pred\": \"Chinstrap\"}, {\"flipper_length_mm\": 211.44927536231884, \"bill_length_mm\": 59.565217391304344, \"pred\": \"Chinstrap\"}, {\"flipper_length_mm\": 211.44927536231884, \"bill_length_mm\": 60.0, \"pred\": \"Chinstrap\"}, {\"flipper_length_mm\": 212.3913043478261, \"bill_length_mm\": 30.0, \"pred\": \"Adelie\"}, {\"flipper_length_mm\": 212.3913043478261, \"bill_length_mm\": 30.434782608695652, \"pred\": \"Adelie\"}, {\"flipper_length_mm\": 212.3913043478261, \"bill_length_mm\": 30.869565217391305, \"pred\": \"Adelie\"}, {\"flipper_length_mm\": 212.3913043478261, \"bill_length_mm\": 31.304347826086957, \"pred\": \"Adelie\"}, {\"flipper_length_mm\": 212.3913043478261, \"bill_length_mm\": 31.73913043478261, \"pred\": \"Adelie\"}, {\"flipper_length_mm\": 212.3913043478261, \"bill_length_mm\": 32.17391304347826, \"pred\": \"Adelie\"}, {\"flipper_length_mm\": 212.3913043478261, \"bill_length_mm\": 32.608695652173914, \"pred\": \"Adelie\"}, {\"flipper_length_mm\": 212.3913043478261, \"bill_length_mm\": 33.04347826086956, \"pred\": \"Adelie\"}, {\"flipper_length_mm\": 212.3913043478261, \"bill_length_mm\": 33.47826086956522, \"pred\": \"Adelie\"}, {\"flipper_length_mm\": 212.3913043478261, \"bill_length_mm\": 33.91304347826087, \"pred\": \"Adelie\"}, {\"flipper_length_mm\": 212.3913043478261, \"bill_length_mm\": 34.34782608695652, \"pred\": \"Adelie\"}, {\"flipper_length_mm\": 212.3913043478261, \"bill_length_mm\": 34.78260869565217, \"pred\": \"Adelie\"}, {\"flipper_length_mm\": 212.3913043478261, \"bill_length_mm\": 35.21739130434783, \"pred\": \"Adelie\"}, {\"flipper_length_mm\": 212.3913043478261, \"bill_length_mm\": 35.65217391304348, \"pred\": \"Adelie\"}, {\"flipper_length_mm\": 212.3913043478261, \"bill_length_mm\": 36.08695652173913, \"pred\": \"Gentoo\"}, {\"flipper_length_mm\": 212.3913043478261, \"bill_length_mm\": 36.52173913043478, \"pred\": \"Gentoo\"}, {\"flipper_length_mm\": 212.3913043478261, \"bill_length_mm\": 36.95652173913044, \"pred\": \"Gentoo\"}, {\"flipper_length_mm\": 212.3913043478261, \"bill_length_mm\": 37.391304347826086, \"pred\": \"Gentoo\"}, {\"flipper_length_mm\": 212.3913043478261, \"bill_length_mm\": 37.82608695652174, \"pred\": \"Gentoo\"}, {\"flipper_length_mm\": 212.3913043478261, \"bill_length_mm\": 38.26086956521739, \"pred\": \"Gentoo\"}, {\"flipper_length_mm\": 212.3913043478261, \"bill_length_mm\": 38.69565217391305, \"pred\": \"Gentoo\"}, {\"flipper_length_mm\": 212.3913043478261, \"bill_length_mm\": 39.130434782608695, \"pred\": \"Gentoo\"}, {\"flipper_length_mm\": 212.3913043478261, \"bill_length_mm\": 39.565217391304344, \"pred\": \"Gentoo\"}, {\"flipper_length_mm\": 212.3913043478261, \"bill_length_mm\": 40.0, \"pred\": \"Gentoo\"}, {\"flipper_length_mm\": 212.3913043478261, \"bill_length_mm\": 40.434782608695656, \"pred\": \"Gentoo\"}, {\"flipper_length_mm\": 212.3913043478261, \"bill_length_mm\": 40.869565217391305, \"pred\": \"Gentoo\"}, {\"flipper_length_mm\": 212.3913043478261, \"bill_length_mm\": 41.30434782608695, \"pred\": \"Gentoo\"}, {\"flipper_length_mm\": 212.3913043478261, \"bill_length_mm\": 41.73913043478261, \"pred\": \"Gentoo\"}, {\"flipper_length_mm\": 212.3913043478261, \"bill_length_mm\": 42.17391304347826, \"pred\": \"Gentoo\"}, {\"flipper_length_mm\": 212.3913043478261, \"bill_length_mm\": 42.608695652173914, \"pred\": \"Gentoo\"}, {\"flipper_length_mm\": 212.3913043478261, \"bill_length_mm\": 43.04347826086956, \"pred\": \"Gentoo\"}, {\"flipper_length_mm\": 212.3913043478261, \"bill_length_mm\": 43.47826086956522, \"pred\": \"Gentoo\"}, {\"flipper_length_mm\": 212.3913043478261, \"bill_length_mm\": 43.91304347826087, \"pred\": \"Gentoo\"}, {\"flipper_length_mm\": 212.3913043478261, \"bill_length_mm\": 44.34782608695652, \"pred\": \"Gentoo\"}, {\"flipper_length_mm\": 212.3913043478261, \"bill_length_mm\": 44.78260869565217, \"pred\": \"Gentoo\"}, {\"flipper_length_mm\": 212.3913043478261, \"bill_length_mm\": 45.21739130434783, \"pred\": \"Gentoo\"}, {\"flipper_length_mm\": 212.3913043478261, \"bill_length_mm\": 45.65217391304348, \"pred\": \"Gentoo\"}, {\"flipper_length_mm\": 212.3913043478261, \"bill_length_mm\": 46.086956521739125, \"pred\": \"Gentoo\"}, {\"flipper_length_mm\": 212.3913043478261, \"bill_length_mm\": 46.52173913043478, \"pred\": \"Gentoo\"}, {\"flipper_length_mm\": 212.3913043478261, \"bill_length_mm\": 46.95652173913044, \"pred\": \"Gentoo\"}, {\"flipper_length_mm\": 212.3913043478261, \"bill_length_mm\": 47.391304347826086, \"pred\": \"Gentoo\"}, {\"flipper_length_mm\": 212.3913043478261, \"bill_length_mm\": 47.826086956521735, \"pred\": \"Gentoo\"}, {\"flipper_length_mm\": 212.3913043478261, \"bill_length_mm\": 48.26086956521739, \"pred\": \"Gentoo\"}, {\"flipper_length_mm\": 212.3913043478261, \"bill_length_mm\": 48.69565217391305, \"pred\": \"Gentoo\"}, {\"flipper_length_mm\": 212.3913043478261, \"bill_length_mm\": 49.130434782608695, \"pred\": \"Gentoo\"}, {\"flipper_length_mm\": 212.3913043478261, \"bill_length_mm\": 49.565217391304344, \"pred\": \"Gentoo\"}, {\"flipper_length_mm\": 212.3913043478261, \"bill_length_mm\": 50.0, \"pred\": \"Gentoo\"}, {\"flipper_length_mm\": 212.3913043478261, \"bill_length_mm\": 50.434782608695656, \"pred\": \"Gentoo\"}, {\"flipper_length_mm\": 212.3913043478261, \"bill_length_mm\": 50.869565217391305, \"pred\": \"Gentoo\"}, {\"flipper_length_mm\": 212.3913043478261, \"bill_length_mm\": 51.30434782608695, \"pred\": \"Gentoo\"}, {\"flipper_length_mm\": 212.3913043478261, \"bill_length_mm\": 51.73913043478261, \"pred\": \"Gentoo\"}, {\"flipper_length_mm\": 212.3913043478261, \"bill_length_mm\": 52.173913043478265, \"pred\": \"Gentoo\"}, {\"flipper_length_mm\": 212.3913043478261, \"bill_length_mm\": 52.608695652173914, \"pred\": \"Chinstrap\"}, {\"flipper_length_mm\": 212.3913043478261, \"bill_length_mm\": 53.04347826086956, \"pred\": \"Chinstrap\"}, {\"flipper_length_mm\": 212.3913043478261, \"bill_length_mm\": 53.47826086956522, \"pred\": \"Chinstrap\"}, {\"flipper_length_mm\": 212.3913043478261, \"bill_length_mm\": 53.91304347826087, \"pred\": \"Chinstrap\"}, {\"flipper_length_mm\": 212.3913043478261, \"bill_length_mm\": 54.347826086956516, \"pred\": \"Chinstrap\"}, {\"flipper_length_mm\": 212.3913043478261, \"bill_length_mm\": 54.78260869565217, \"pred\": \"Chinstrap\"}, {\"flipper_length_mm\": 212.3913043478261, \"bill_length_mm\": 55.21739130434783, \"pred\": \"Chinstrap\"}, {\"flipper_length_mm\": 212.3913043478261, \"bill_length_mm\": 55.65217391304348, \"pred\": \"Chinstrap\"}, {\"flipper_length_mm\": 212.3913043478261, \"bill_length_mm\": 56.086956521739125, \"pred\": \"Chinstrap\"}, {\"flipper_length_mm\": 212.3913043478261, \"bill_length_mm\": 56.52173913043478, \"pred\": \"Chinstrap\"}, {\"flipper_length_mm\": 212.3913043478261, \"bill_length_mm\": 56.95652173913044, \"pred\": \"Chinstrap\"}, {\"flipper_length_mm\": 212.3913043478261, \"bill_length_mm\": 57.391304347826086, \"pred\": \"Chinstrap\"}, {\"flipper_length_mm\": 212.3913043478261, \"bill_length_mm\": 57.826086956521735, \"pred\": \"Chinstrap\"}, {\"flipper_length_mm\": 212.3913043478261, \"bill_length_mm\": 58.26086956521739, \"pred\": \"Chinstrap\"}, {\"flipper_length_mm\": 212.3913043478261, \"bill_length_mm\": 58.69565217391305, \"pred\": \"Chinstrap\"}, {\"flipper_length_mm\": 212.3913043478261, \"bill_length_mm\": 59.130434782608695, \"pred\": \"Chinstrap\"}, {\"flipper_length_mm\": 212.3913043478261, \"bill_length_mm\": 59.565217391304344, \"pred\": \"Chinstrap\"}, {\"flipper_length_mm\": 212.3913043478261, \"bill_length_mm\": 60.0, \"pred\": \"Chinstrap\"}, {\"flipper_length_mm\": 213.33333333333331, \"bill_length_mm\": 30.0, \"pred\": \"Adelie\"}, {\"flipper_length_mm\": 213.33333333333331, \"bill_length_mm\": 30.434782608695652, \"pred\": \"Adelie\"}, {\"flipper_length_mm\": 213.33333333333331, \"bill_length_mm\": 30.869565217391305, \"pred\": \"Adelie\"}, {\"flipper_length_mm\": 213.33333333333331, \"bill_length_mm\": 31.304347826086957, \"pred\": \"Adelie\"}, {\"flipper_length_mm\": 213.33333333333331, \"bill_length_mm\": 31.73913043478261, \"pred\": \"Adelie\"}, {\"flipper_length_mm\": 213.33333333333331, \"bill_length_mm\": 32.17391304347826, \"pred\": \"Adelie\"}, {\"flipper_length_mm\": 213.33333333333331, \"bill_length_mm\": 32.608695652173914, \"pred\": \"Adelie\"}, {\"flipper_length_mm\": 213.33333333333331, \"bill_length_mm\": 33.04347826086956, \"pred\": \"Adelie\"}, {\"flipper_length_mm\": 213.33333333333331, \"bill_length_mm\": 33.47826086956522, \"pred\": \"Adelie\"}, {\"flipper_length_mm\": 213.33333333333331, \"bill_length_mm\": 33.91304347826087, \"pred\": \"Adelie\"}, {\"flipper_length_mm\": 213.33333333333331, \"bill_length_mm\": 34.34782608695652, \"pred\": \"Adelie\"}, {\"flipper_length_mm\": 213.33333333333331, \"bill_length_mm\": 34.78260869565217, \"pred\": \"Adelie\"}, {\"flipper_length_mm\": 213.33333333333331, \"bill_length_mm\": 35.21739130434783, \"pred\": \"Gentoo\"}, {\"flipper_length_mm\": 213.33333333333331, \"bill_length_mm\": 35.65217391304348, \"pred\": \"Gentoo\"}, {\"flipper_length_mm\": 213.33333333333331, \"bill_length_mm\": 36.08695652173913, \"pred\": \"Gentoo\"}, {\"flipper_length_mm\": 213.33333333333331, \"bill_length_mm\": 36.52173913043478, \"pred\": \"Gentoo\"}, {\"flipper_length_mm\": 213.33333333333331, \"bill_length_mm\": 36.95652173913044, \"pred\": \"Gentoo\"}, {\"flipper_length_mm\": 213.33333333333331, \"bill_length_mm\": 37.391304347826086, \"pred\": \"Gentoo\"}, {\"flipper_length_mm\": 213.33333333333331, \"bill_length_mm\": 37.82608695652174, \"pred\": \"Gentoo\"}, {\"flipper_length_mm\": 213.33333333333331, \"bill_length_mm\": 38.26086956521739, \"pred\": \"Gentoo\"}, {\"flipper_length_mm\": 213.33333333333331, \"bill_length_mm\": 38.69565217391305, \"pred\": \"Gentoo\"}, {\"flipper_length_mm\": 213.33333333333331, \"bill_length_mm\": 39.130434782608695, \"pred\": \"Gentoo\"}, {\"flipper_length_mm\": 213.33333333333331, \"bill_length_mm\": 39.565217391304344, \"pred\": \"Gentoo\"}, {\"flipper_length_mm\": 213.33333333333331, \"bill_length_mm\": 40.0, \"pred\": \"Gentoo\"}, {\"flipper_length_mm\": 213.33333333333331, \"bill_length_mm\": 40.434782608695656, \"pred\": \"Gentoo\"}, {\"flipper_length_mm\": 213.33333333333331, \"bill_length_mm\": 40.869565217391305, \"pred\": \"Gentoo\"}, {\"flipper_length_mm\": 213.33333333333331, \"bill_length_mm\": 41.30434782608695, \"pred\": \"Gentoo\"}, {\"flipper_length_mm\": 213.33333333333331, \"bill_length_mm\": 41.73913043478261, \"pred\": \"Gentoo\"}, {\"flipper_length_mm\": 213.33333333333331, \"bill_length_mm\": 42.17391304347826, \"pred\": \"Gentoo\"}, {\"flipper_length_mm\": 213.33333333333331, \"bill_length_mm\": 42.608695652173914, \"pred\": \"Gentoo\"}, {\"flipper_length_mm\": 213.33333333333331, \"bill_length_mm\": 43.04347826086956, \"pred\": \"Gentoo\"}, {\"flipper_length_mm\": 213.33333333333331, \"bill_length_mm\": 43.47826086956522, \"pred\": \"Gentoo\"}, {\"flipper_length_mm\": 213.33333333333331, \"bill_length_mm\": 43.91304347826087, \"pred\": \"Gentoo\"}, {\"flipper_length_mm\": 213.33333333333331, \"bill_length_mm\": 44.34782608695652, \"pred\": \"Gentoo\"}, {\"flipper_length_mm\": 213.33333333333331, \"bill_length_mm\": 44.78260869565217, \"pred\": \"Gentoo\"}, {\"flipper_length_mm\": 213.33333333333331, \"bill_length_mm\": 45.21739130434783, \"pred\": \"Gentoo\"}, {\"flipper_length_mm\": 213.33333333333331, \"bill_length_mm\": 45.65217391304348, \"pred\": \"Gentoo\"}, {\"flipper_length_mm\": 213.33333333333331, \"bill_length_mm\": 46.086956521739125, \"pred\": \"Gentoo\"}, {\"flipper_length_mm\": 213.33333333333331, \"bill_length_mm\": 46.52173913043478, \"pred\": \"Gentoo\"}, {\"flipper_length_mm\": 213.33333333333331, \"bill_length_mm\": 46.95652173913044, \"pred\": \"Gentoo\"}, {\"flipper_length_mm\": 213.33333333333331, \"bill_length_mm\": 47.391304347826086, \"pred\": \"Gentoo\"}, {\"flipper_length_mm\": 213.33333333333331, \"bill_length_mm\": 47.826086956521735, \"pred\": \"Gentoo\"}, {\"flipper_length_mm\": 213.33333333333331, \"bill_length_mm\": 48.26086956521739, \"pred\": \"Gentoo\"}, {\"flipper_length_mm\": 213.33333333333331, \"bill_length_mm\": 48.69565217391305, \"pred\": \"Gentoo\"}, {\"flipper_length_mm\": 213.33333333333331, \"bill_length_mm\": 49.130434782608695, \"pred\": \"Gentoo\"}, {\"flipper_length_mm\": 213.33333333333331, \"bill_length_mm\": 49.565217391304344, \"pred\": \"Gentoo\"}, {\"flipper_length_mm\": 213.33333333333331, \"bill_length_mm\": 50.0, \"pred\": \"Gentoo\"}, {\"flipper_length_mm\": 213.33333333333331, \"bill_length_mm\": 50.434782608695656, \"pred\": \"Gentoo\"}, {\"flipper_length_mm\": 213.33333333333331, \"bill_length_mm\": 50.869565217391305, \"pred\": \"Gentoo\"}, {\"flipper_length_mm\": 213.33333333333331, \"bill_length_mm\": 51.30434782608695, \"pred\": \"Gentoo\"}, {\"flipper_length_mm\": 213.33333333333331, \"bill_length_mm\": 51.73913043478261, \"pred\": \"Gentoo\"}, {\"flipper_length_mm\": 213.33333333333331, \"bill_length_mm\": 52.173913043478265, \"pred\": \"Gentoo\"}, {\"flipper_length_mm\": 213.33333333333331, \"bill_length_mm\": 52.608695652173914, \"pred\": \"Gentoo\"}, {\"flipper_length_mm\": 213.33333333333331, \"bill_length_mm\": 53.04347826086956, \"pred\": \"Gentoo\"}, {\"flipper_length_mm\": 213.33333333333331, \"bill_length_mm\": 53.47826086956522, \"pred\": \"Chinstrap\"}, {\"flipper_length_mm\": 213.33333333333331, \"bill_length_mm\": 53.91304347826087, \"pred\": \"Chinstrap\"}, {\"flipper_length_mm\": 213.33333333333331, \"bill_length_mm\": 54.347826086956516, \"pred\": \"Chinstrap\"}, {\"flipper_length_mm\": 213.33333333333331, \"bill_length_mm\": 54.78260869565217, \"pred\": \"Chinstrap\"}, {\"flipper_length_mm\": 213.33333333333331, \"bill_length_mm\": 55.21739130434783, \"pred\": \"Chinstrap\"}, {\"flipper_length_mm\": 213.33333333333331, \"bill_length_mm\": 55.65217391304348, \"pred\": \"Chinstrap\"}, {\"flipper_length_mm\": 213.33333333333331, \"bill_length_mm\": 56.086956521739125, \"pred\": \"Chinstrap\"}, {\"flipper_length_mm\": 213.33333333333331, \"bill_length_mm\": 56.52173913043478, \"pred\": \"Chinstrap\"}, {\"flipper_length_mm\": 213.33333333333331, \"bill_length_mm\": 56.95652173913044, \"pred\": \"Chinstrap\"}, {\"flipper_length_mm\": 213.33333333333331, \"bill_length_mm\": 57.391304347826086, \"pred\": \"Chinstrap\"}, {\"flipper_length_mm\": 213.33333333333331, \"bill_length_mm\": 57.826086956521735, \"pred\": \"Chinstrap\"}, {\"flipper_length_mm\": 213.33333333333331, \"bill_length_mm\": 58.26086956521739, \"pred\": \"Chinstrap\"}, {\"flipper_length_mm\": 213.33333333333331, \"bill_length_mm\": 58.69565217391305, \"pred\": \"Chinstrap\"}, {\"flipper_length_mm\": 213.33333333333331, \"bill_length_mm\": 59.130434782608695, \"pred\": \"Chinstrap\"}, {\"flipper_length_mm\": 213.33333333333331, \"bill_length_mm\": 59.565217391304344, \"pred\": \"Chinstrap\"}, {\"flipper_length_mm\": 213.33333333333331, \"bill_length_mm\": 60.0, \"pred\": \"Chinstrap\"}, {\"flipper_length_mm\": 214.27536231884056, \"bill_length_mm\": 30.0, \"pred\": \"Adelie\"}, {\"flipper_length_mm\": 214.27536231884056, \"bill_length_mm\": 30.434782608695652, \"pred\": \"Adelie\"}, {\"flipper_length_mm\": 214.27536231884056, \"bill_length_mm\": 30.869565217391305, \"pred\": \"Adelie\"}, {\"flipper_length_mm\": 214.27536231884056, \"bill_length_mm\": 31.304347826086957, \"pred\": \"Adelie\"}, {\"flipper_length_mm\": 214.27536231884056, \"bill_length_mm\": 31.73913043478261, \"pred\": \"Adelie\"}, {\"flipper_length_mm\": 214.27536231884056, \"bill_length_mm\": 32.17391304347826, \"pred\": \"Adelie\"}, {\"flipper_length_mm\": 214.27536231884056, \"bill_length_mm\": 32.608695652173914, \"pred\": \"Adelie\"}, {\"flipper_length_mm\": 214.27536231884056, \"bill_length_mm\": 33.04347826086956, \"pred\": \"Adelie\"}, {\"flipper_length_mm\": 214.27536231884056, \"bill_length_mm\": 33.47826086956522, \"pred\": \"Adelie\"}, {\"flipper_length_mm\": 214.27536231884056, \"bill_length_mm\": 33.91304347826087, \"pred\": \"Adelie\"}, {\"flipper_length_mm\": 214.27536231884056, \"bill_length_mm\": 34.34782608695652, \"pred\": \"Gentoo\"}, {\"flipper_length_mm\": 214.27536231884056, \"bill_length_mm\": 34.78260869565217, \"pred\": \"Gentoo\"}, {\"flipper_length_mm\": 214.27536231884056, \"bill_length_mm\": 35.21739130434783, \"pred\": \"Gentoo\"}, {\"flipper_length_mm\": 214.27536231884056, \"bill_length_mm\": 35.65217391304348, \"pred\": \"Gentoo\"}, {\"flipper_length_mm\": 214.27536231884056, \"bill_length_mm\": 36.08695652173913, \"pred\": \"Gentoo\"}, {\"flipper_length_mm\": 214.27536231884056, \"bill_length_mm\": 36.52173913043478, \"pred\": \"Gentoo\"}, {\"flipper_length_mm\": 214.27536231884056, \"bill_length_mm\": 36.95652173913044, \"pred\": \"Gentoo\"}, {\"flipper_length_mm\": 214.27536231884056, \"bill_length_mm\": 37.391304347826086, \"pred\": \"Gentoo\"}, {\"flipper_length_mm\": 214.27536231884056, \"bill_length_mm\": 37.82608695652174, \"pred\": \"Gentoo\"}, {\"flipper_length_mm\": 214.27536231884056, \"bill_length_mm\": 38.26086956521739, \"pred\": \"Gentoo\"}, {\"flipper_length_mm\": 214.27536231884056, \"bill_length_mm\": 38.69565217391305, \"pred\": \"Gentoo\"}, {\"flipper_length_mm\": 214.27536231884056, \"bill_length_mm\": 39.130434782608695, \"pred\": \"Gentoo\"}, {\"flipper_length_mm\": 214.27536231884056, \"bill_length_mm\": 39.565217391304344, \"pred\": \"Gentoo\"}, {\"flipper_length_mm\": 214.27536231884056, \"bill_length_mm\": 40.0, \"pred\": \"Gentoo\"}, {\"flipper_length_mm\": 214.27536231884056, \"bill_length_mm\": 40.434782608695656, \"pred\": \"Gentoo\"}, {\"flipper_length_mm\": 214.27536231884056, \"bill_length_mm\": 40.869565217391305, \"pred\": \"Gentoo\"}, {\"flipper_length_mm\": 214.27536231884056, \"bill_length_mm\": 41.30434782608695, \"pred\": \"Gentoo\"}, {\"flipper_length_mm\": 214.27536231884056, \"bill_length_mm\": 41.73913043478261, \"pred\": \"Gentoo\"}, {\"flipper_length_mm\": 214.27536231884056, \"bill_length_mm\": 42.17391304347826, \"pred\": \"Gentoo\"}, {\"flipper_length_mm\": 214.27536231884056, \"bill_length_mm\": 42.608695652173914, \"pred\": \"Gentoo\"}, {\"flipper_length_mm\": 214.27536231884056, \"bill_length_mm\": 43.04347826086956, \"pred\": \"Gentoo\"}, {\"flipper_length_mm\": 214.27536231884056, \"bill_length_mm\": 43.47826086956522, \"pred\": \"Gentoo\"}, {\"flipper_length_mm\": 214.27536231884056, \"bill_length_mm\": 43.91304347826087, \"pred\": \"Gentoo\"}, {\"flipper_length_mm\": 214.27536231884056, \"bill_length_mm\": 44.34782608695652, \"pred\": \"Gentoo\"}, {\"flipper_length_mm\": 214.27536231884056, \"bill_length_mm\": 44.78260869565217, \"pred\": \"Gentoo\"}, {\"flipper_length_mm\": 214.27536231884056, \"bill_length_mm\": 45.21739130434783, \"pred\": \"Gentoo\"}, {\"flipper_length_mm\": 214.27536231884056, \"bill_length_mm\": 45.65217391304348, \"pred\": \"Gentoo\"}, {\"flipper_length_mm\": 214.27536231884056, \"bill_length_mm\": 46.086956521739125, \"pred\": \"Gentoo\"}, {\"flipper_length_mm\": 214.27536231884056, \"bill_length_mm\": 46.52173913043478, \"pred\": \"Gentoo\"}, {\"flipper_length_mm\": 214.27536231884056, \"bill_length_mm\": 46.95652173913044, \"pred\": \"Gentoo\"}, {\"flipper_length_mm\": 214.27536231884056, \"bill_length_mm\": 47.391304347826086, \"pred\": \"Gentoo\"}, {\"flipper_length_mm\": 214.27536231884056, \"bill_length_mm\": 47.826086956521735, \"pred\": \"Gentoo\"}, {\"flipper_length_mm\": 214.27536231884056, \"bill_length_mm\": 48.26086956521739, \"pred\": \"Gentoo\"}, {\"flipper_length_mm\": 214.27536231884056, \"bill_length_mm\": 48.69565217391305, \"pred\": \"Gentoo\"}, {\"flipper_length_mm\": 214.27536231884056, \"bill_length_mm\": 49.130434782608695, \"pred\": \"Gentoo\"}, {\"flipper_length_mm\": 214.27536231884056, \"bill_length_mm\": 49.565217391304344, \"pred\": \"Gentoo\"}, {\"flipper_length_mm\": 214.27536231884056, \"bill_length_mm\": 50.0, \"pred\": \"Gentoo\"}, {\"flipper_length_mm\": 214.27536231884056, \"bill_length_mm\": 50.434782608695656, \"pred\": \"Gentoo\"}, {\"flipper_length_mm\": 214.27536231884056, \"bill_length_mm\": 50.869565217391305, \"pred\": \"Gentoo\"}, {\"flipper_length_mm\": 214.27536231884056, \"bill_length_mm\": 51.30434782608695, \"pred\": \"Gentoo\"}, {\"flipper_length_mm\": 214.27536231884056, \"bill_length_mm\": 51.73913043478261, \"pred\": \"Gentoo\"}, {\"flipper_length_mm\": 214.27536231884056, \"bill_length_mm\": 52.173913043478265, \"pred\": \"Gentoo\"}, {\"flipper_length_mm\": 214.27536231884056, \"bill_length_mm\": 52.608695652173914, \"pred\": \"Gentoo\"}, {\"flipper_length_mm\": 214.27536231884056, \"bill_length_mm\": 53.04347826086956, \"pred\": \"Gentoo\"}, {\"flipper_length_mm\": 214.27536231884056, \"bill_length_mm\": 53.47826086956522, \"pred\": \"Gentoo\"}, {\"flipper_length_mm\": 214.27536231884056, \"bill_length_mm\": 53.91304347826087, \"pred\": \"Gentoo\"}, {\"flipper_length_mm\": 214.27536231884056, \"bill_length_mm\": 54.347826086956516, \"pred\": \"Chinstrap\"}, {\"flipper_length_mm\": 214.27536231884056, \"bill_length_mm\": 54.78260869565217, \"pred\": \"Chinstrap\"}, {\"flipper_length_mm\": 214.27536231884056, \"bill_length_mm\": 55.21739130434783, \"pred\": \"Chinstrap\"}, {\"flipper_length_mm\": 214.27536231884056, \"bill_length_mm\": 55.65217391304348, \"pred\": \"Chinstrap\"}, {\"flipper_length_mm\": 214.27536231884056, \"bill_length_mm\": 56.086956521739125, \"pred\": \"Chinstrap\"}, {\"flipper_length_mm\": 214.27536231884056, \"bill_length_mm\": 56.52173913043478, \"pred\": \"Chinstrap\"}, {\"flipper_length_mm\": 214.27536231884056, \"bill_length_mm\": 56.95652173913044, \"pred\": \"Chinstrap\"}, {\"flipper_length_mm\": 214.27536231884056, \"bill_length_mm\": 57.391304347826086, \"pred\": \"Chinstrap\"}, {\"flipper_length_mm\": 214.27536231884056, \"bill_length_mm\": 57.826086956521735, \"pred\": \"Chinstrap\"}, {\"flipper_length_mm\": 214.27536231884056, \"bill_length_mm\": 58.26086956521739, \"pred\": \"Chinstrap\"}, {\"flipper_length_mm\": 214.27536231884056, \"bill_length_mm\": 58.69565217391305, \"pred\": \"Chinstrap\"}, {\"flipper_length_mm\": 214.27536231884056, \"bill_length_mm\": 59.130434782608695, \"pred\": \"Chinstrap\"}, {\"flipper_length_mm\": 214.27536231884056, \"bill_length_mm\": 59.565217391304344, \"pred\": \"Chinstrap\"}, {\"flipper_length_mm\": 214.27536231884056, \"bill_length_mm\": 60.0, \"pred\": \"Chinstrap\"}, {\"flipper_length_mm\": 215.2173913043478, \"bill_length_mm\": 30.0, \"pred\": \"Adelie\"}, {\"flipper_length_mm\": 215.2173913043478, \"bill_length_mm\": 30.434782608695652, \"pred\": \"Adelie\"}, {\"flipper_length_mm\": 215.2173913043478, \"bill_length_mm\": 30.869565217391305, \"pred\": \"Adelie\"}, {\"flipper_length_mm\": 215.2173913043478, \"bill_length_mm\": 31.304347826086957, \"pred\": \"Adelie\"}, {\"flipper_length_mm\": 215.2173913043478, \"bill_length_mm\": 31.73913043478261, \"pred\": \"Adelie\"}, {\"flipper_length_mm\": 215.2173913043478, \"bill_length_mm\": 32.17391304347826, \"pred\": \"Adelie\"}, {\"flipper_length_mm\": 215.2173913043478, \"bill_length_mm\": 32.608695652173914, \"pred\": \"Adelie\"}, {\"flipper_length_mm\": 215.2173913043478, \"bill_length_mm\": 33.04347826086956, \"pred\": \"Adelie\"}, {\"flipper_length_mm\": 215.2173913043478, \"bill_length_mm\": 33.47826086956522, \"pred\": \"Gentoo\"}, {\"flipper_length_mm\": 215.2173913043478, \"bill_length_mm\": 33.91304347826087, \"pred\": \"Gentoo\"}, {\"flipper_length_mm\": 215.2173913043478, \"bill_length_mm\": 34.34782608695652, \"pred\": \"Gentoo\"}, {\"flipper_length_mm\": 215.2173913043478, \"bill_length_mm\": 34.78260869565217, \"pred\": \"Gentoo\"}, {\"flipper_length_mm\": 215.2173913043478, \"bill_length_mm\": 35.21739130434783, \"pred\": \"Gentoo\"}, {\"flipper_length_mm\": 215.2173913043478, \"bill_length_mm\": 35.65217391304348, \"pred\": \"Gentoo\"}, {\"flipper_length_mm\": 215.2173913043478, \"bill_length_mm\": 36.08695652173913, \"pred\": \"Gentoo\"}, {\"flipper_length_mm\": 215.2173913043478, \"bill_length_mm\": 36.52173913043478, \"pred\": \"Gentoo\"}, {\"flipper_length_mm\": 215.2173913043478, \"bill_length_mm\": 36.95652173913044, \"pred\": \"Gentoo\"}, {\"flipper_length_mm\": 215.2173913043478, \"bill_length_mm\": 37.391304347826086, \"pred\": \"Gentoo\"}, {\"flipper_length_mm\": 215.2173913043478, \"bill_length_mm\": 37.82608695652174, \"pred\": \"Gentoo\"}, {\"flipper_length_mm\": 215.2173913043478, \"bill_length_mm\": 38.26086956521739, \"pred\": \"Gentoo\"}, {\"flipper_length_mm\": 215.2173913043478, \"bill_length_mm\": 38.69565217391305, \"pred\": \"Gentoo\"}, {\"flipper_length_mm\": 215.2173913043478, \"bill_length_mm\": 39.130434782608695, \"pred\": \"Gentoo\"}, {\"flipper_length_mm\": 215.2173913043478, \"bill_length_mm\": 39.565217391304344, \"pred\": \"Gentoo\"}, {\"flipper_length_mm\": 215.2173913043478, \"bill_length_mm\": 40.0, \"pred\": \"Gentoo\"}, {\"flipper_length_mm\": 215.2173913043478, \"bill_length_mm\": 40.434782608695656, \"pred\": \"Gentoo\"}, {\"flipper_length_mm\": 215.2173913043478, \"bill_length_mm\": 40.869565217391305, \"pred\": \"Gentoo\"}, {\"flipper_length_mm\": 215.2173913043478, \"bill_length_mm\": 41.30434782608695, \"pred\": \"Gentoo\"}, {\"flipper_length_mm\": 215.2173913043478, \"bill_length_mm\": 41.73913043478261, \"pred\": \"Gentoo\"}, {\"flipper_length_mm\": 215.2173913043478, \"bill_length_mm\": 42.17391304347826, \"pred\": \"Gentoo\"}, {\"flipper_length_mm\": 215.2173913043478, \"bill_length_mm\": 42.608695652173914, \"pred\": \"Gentoo\"}, {\"flipper_length_mm\": 215.2173913043478, \"bill_length_mm\": 43.04347826086956, \"pred\": \"Gentoo\"}, {\"flipper_length_mm\": 215.2173913043478, \"bill_length_mm\": 43.47826086956522, \"pred\": \"Gentoo\"}, {\"flipper_length_mm\": 215.2173913043478, \"bill_length_mm\": 43.91304347826087, \"pred\": \"Gentoo\"}, {\"flipper_length_mm\": 215.2173913043478, \"bill_length_mm\": 44.34782608695652, \"pred\": \"Gentoo\"}, {\"flipper_length_mm\": 215.2173913043478, \"bill_length_mm\": 44.78260869565217, \"pred\": \"Gentoo\"}, {\"flipper_length_mm\": 215.2173913043478, \"bill_length_mm\": 45.21739130434783, \"pred\": \"Gentoo\"}, {\"flipper_length_mm\": 215.2173913043478, \"bill_length_mm\": 45.65217391304348, \"pred\": \"Gentoo\"}, {\"flipper_length_mm\": 215.2173913043478, \"bill_length_mm\": 46.086956521739125, \"pred\": \"Gentoo\"}, {\"flipper_length_mm\": 215.2173913043478, \"bill_length_mm\": 46.52173913043478, \"pred\": \"Gentoo\"}, {\"flipper_length_mm\": 215.2173913043478, \"bill_length_mm\": 46.95652173913044, \"pred\": \"Gentoo\"}, {\"flipper_length_mm\": 215.2173913043478, \"bill_length_mm\": 47.391304347826086, \"pred\": \"Gentoo\"}, {\"flipper_length_mm\": 215.2173913043478, \"bill_length_mm\": 47.826086956521735, \"pred\": \"Gentoo\"}, {\"flipper_length_mm\": 215.2173913043478, \"bill_length_mm\": 48.26086956521739, \"pred\": \"Gentoo\"}, {\"flipper_length_mm\": 215.2173913043478, \"bill_length_mm\": 48.69565217391305, \"pred\": \"Gentoo\"}, {\"flipper_length_mm\": 215.2173913043478, \"bill_length_mm\": 49.130434782608695, \"pred\": \"Gentoo\"}, {\"flipper_length_mm\": 215.2173913043478, \"bill_length_mm\": 49.565217391304344, \"pred\": \"Gentoo\"}, {\"flipper_length_mm\": 215.2173913043478, \"bill_length_mm\": 50.0, \"pred\": \"Gentoo\"}, {\"flipper_length_mm\": 215.2173913043478, \"bill_length_mm\": 50.434782608695656, \"pred\": \"Gentoo\"}, {\"flipper_length_mm\": 215.2173913043478, \"bill_length_mm\": 50.869565217391305, \"pred\": \"Gentoo\"}, {\"flipper_length_mm\": 215.2173913043478, \"bill_length_mm\": 51.30434782608695, \"pred\": \"Gentoo\"}, {\"flipper_length_mm\": 215.2173913043478, \"bill_length_mm\": 51.73913043478261, \"pred\": \"Gentoo\"}, {\"flipper_length_mm\": 215.2173913043478, \"bill_length_mm\": 52.173913043478265, \"pred\": \"Gentoo\"}, {\"flipper_length_mm\": 215.2173913043478, \"bill_length_mm\": 52.608695652173914, \"pred\": \"Gentoo\"}, {\"flipper_length_mm\": 215.2173913043478, \"bill_length_mm\": 53.04347826086956, \"pred\": \"Gentoo\"}, {\"flipper_length_mm\": 215.2173913043478, \"bill_length_mm\": 53.47826086956522, \"pred\": \"Gentoo\"}, {\"flipper_length_mm\": 215.2173913043478, \"bill_length_mm\": 53.91304347826087, \"pred\": \"Gentoo\"}, {\"flipper_length_mm\": 215.2173913043478, \"bill_length_mm\": 54.347826086956516, \"pred\": \"Gentoo\"}, {\"flipper_length_mm\": 215.2173913043478, \"bill_length_mm\": 54.78260869565217, \"pred\": \"Chinstrap\"}, {\"flipper_length_mm\": 215.2173913043478, \"bill_length_mm\": 55.21739130434783, \"pred\": \"Chinstrap\"}, {\"flipper_length_mm\": 215.2173913043478, \"bill_length_mm\": 55.65217391304348, \"pred\": \"Chinstrap\"}, {\"flipper_length_mm\": 215.2173913043478, \"bill_length_mm\": 56.086956521739125, \"pred\": \"Chinstrap\"}, {\"flipper_length_mm\": 215.2173913043478, \"bill_length_mm\": 56.52173913043478, \"pred\": \"Chinstrap\"}, {\"flipper_length_mm\": 215.2173913043478, \"bill_length_mm\": 56.95652173913044, \"pred\": \"Chinstrap\"}, {\"flipper_length_mm\": 215.2173913043478, \"bill_length_mm\": 57.391304347826086, \"pred\": \"Chinstrap\"}, {\"flipper_length_mm\": 215.2173913043478, \"bill_length_mm\": 57.826086956521735, \"pred\": \"Chinstrap\"}, {\"flipper_length_mm\": 215.2173913043478, \"bill_length_mm\": 58.26086956521739, \"pred\": \"Chinstrap\"}, {\"flipper_length_mm\": 215.2173913043478, \"bill_length_mm\": 58.69565217391305, \"pred\": \"Chinstrap\"}, {\"flipper_length_mm\": 215.2173913043478, \"bill_length_mm\": 59.130434782608695, \"pred\": \"Chinstrap\"}, {\"flipper_length_mm\": 215.2173913043478, \"bill_length_mm\": 59.565217391304344, \"pred\": \"Chinstrap\"}, {\"flipper_length_mm\": 215.2173913043478, \"bill_length_mm\": 60.0, \"pred\": \"Chinstrap\"}, {\"flipper_length_mm\": 216.15942028985506, \"bill_length_mm\": 30.0, \"pred\": \"Adelie\"}, {\"flipper_length_mm\": 216.15942028985506, \"bill_length_mm\": 30.434782608695652, \"pred\": \"Adelie\"}, {\"flipper_length_mm\": 216.15942028985506, \"bill_length_mm\": 30.869565217391305, \"pred\": \"Adelie\"}, {\"flipper_length_mm\": 216.15942028985506, \"bill_length_mm\": 31.304347826086957, \"pred\": \"Adelie\"}, {\"flipper_length_mm\": 216.15942028985506, \"bill_length_mm\": 31.73913043478261, \"pred\": \"Adelie\"}, {\"flipper_length_mm\": 216.15942028985506, \"bill_length_mm\": 32.17391304347826, \"pred\": \"Adelie\"}, {\"flipper_length_mm\": 216.15942028985506, \"bill_length_mm\": 32.608695652173914, \"pred\": \"Gentoo\"}, {\"flipper_length_mm\": 216.15942028985506, \"bill_length_mm\": 33.04347826086956, \"pred\": \"Gentoo\"}, {\"flipper_length_mm\": 216.15942028985506, \"bill_length_mm\": 33.47826086956522, \"pred\": \"Gentoo\"}, {\"flipper_length_mm\": 216.15942028985506, \"bill_length_mm\": 33.91304347826087, \"pred\": \"Gentoo\"}, {\"flipper_length_mm\": 216.15942028985506, \"bill_length_mm\": 34.34782608695652, \"pred\": \"Gentoo\"}, {\"flipper_length_mm\": 216.15942028985506, \"bill_length_mm\": 34.78260869565217, \"pred\": \"Gentoo\"}, {\"flipper_length_mm\": 216.15942028985506, \"bill_length_mm\": 35.21739130434783, \"pred\": \"Gentoo\"}, {\"flipper_length_mm\": 216.15942028985506, \"bill_length_mm\": 35.65217391304348, \"pred\": \"Gentoo\"}, {\"flipper_length_mm\": 216.15942028985506, \"bill_length_mm\": 36.08695652173913, \"pred\": \"Gentoo\"}, {\"flipper_length_mm\": 216.15942028985506, \"bill_length_mm\": 36.52173913043478, \"pred\": \"Gentoo\"}, {\"flipper_length_mm\": 216.15942028985506, \"bill_length_mm\": 36.95652173913044, \"pred\": \"Gentoo\"}, {\"flipper_length_mm\": 216.15942028985506, \"bill_length_mm\": 37.391304347826086, \"pred\": \"Gentoo\"}, {\"flipper_length_mm\": 216.15942028985506, \"bill_length_mm\": 37.82608695652174, \"pred\": \"Gentoo\"}, {\"flipper_length_mm\": 216.15942028985506, \"bill_length_mm\": 38.26086956521739, \"pred\": \"Gentoo\"}, {\"flipper_length_mm\": 216.15942028985506, \"bill_length_mm\": 38.69565217391305, \"pred\": \"Gentoo\"}, {\"flipper_length_mm\": 216.15942028985506, \"bill_length_mm\": 39.130434782608695, \"pred\": \"Gentoo\"}, {\"flipper_length_mm\": 216.15942028985506, \"bill_length_mm\": 39.565217391304344, \"pred\": \"Gentoo\"}, {\"flipper_length_mm\": 216.15942028985506, \"bill_length_mm\": 40.0, \"pred\": \"Gentoo\"}, {\"flipper_length_mm\": 216.15942028985506, \"bill_length_mm\": 40.434782608695656, \"pred\": \"Gentoo\"}, {\"flipper_length_mm\": 216.15942028985506, \"bill_length_mm\": 40.869565217391305, \"pred\": \"Gentoo\"}, {\"flipper_length_mm\": 216.15942028985506, \"bill_length_mm\": 41.30434782608695, \"pred\": \"Gentoo\"}, {\"flipper_length_mm\": 216.15942028985506, \"bill_length_mm\": 41.73913043478261, \"pred\": \"Gentoo\"}, {\"flipper_length_mm\": 216.15942028985506, \"bill_length_mm\": 42.17391304347826, \"pred\": \"Gentoo\"}, {\"flipper_length_mm\": 216.15942028985506, \"bill_length_mm\": 42.608695652173914, \"pred\": \"Gentoo\"}, {\"flipper_length_mm\": 216.15942028985506, \"bill_length_mm\": 43.04347826086956, \"pred\": \"Gentoo\"}, {\"flipper_length_mm\": 216.15942028985506, \"bill_length_mm\": 43.47826086956522, \"pred\": \"Gentoo\"}, {\"flipper_length_mm\": 216.15942028985506, \"bill_length_mm\": 43.91304347826087, \"pred\": \"Gentoo\"}, {\"flipper_length_mm\": 216.15942028985506, \"bill_length_mm\": 44.34782608695652, \"pred\": \"Gentoo\"}, {\"flipper_length_mm\": 216.15942028985506, \"bill_length_mm\": 44.78260869565217, \"pred\": \"Gentoo\"}, {\"flipper_length_mm\": 216.15942028985506, \"bill_length_mm\": 45.21739130434783, \"pred\": \"Gentoo\"}, {\"flipper_length_mm\": 216.15942028985506, \"bill_length_mm\": 45.65217391304348, \"pred\": \"Gentoo\"}, {\"flipper_length_mm\": 216.15942028985506, \"bill_length_mm\": 46.086956521739125, \"pred\": \"Gentoo\"}, {\"flipper_length_mm\": 216.15942028985506, \"bill_length_mm\": 46.52173913043478, \"pred\": \"Gentoo\"}, {\"flipper_length_mm\": 216.15942028985506, \"bill_length_mm\": 46.95652173913044, \"pred\": \"Gentoo\"}, {\"flipper_length_mm\": 216.15942028985506, \"bill_length_mm\": 47.391304347826086, \"pred\": \"Gentoo\"}, {\"flipper_length_mm\": 216.15942028985506, \"bill_length_mm\": 47.826086956521735, \"pred\": \"Gentoo\"}, {\"flipper_length_mm\": 216.15942028985506, \"bill_length_mm\": 48.26086956521739, \"pred\": \"Gentoo\"}, {\"flipper_length_mm\": 216.15942028985506, \"bill_length_mm\": 48.69565217391305, \"pred\": \"Gentoo\"}, {\"flipper_length_mm\": 216.15942028985506, \"bill_length_mm\": 49.130434782608695, \"pred\": \"Gentoo\"}, {\"flipper_length_mm\": 216.15942028985506, \"bill_length_mm\": 49.565217391304344, \"pred\": \"Gentoo\"}, {\"flipper_length_mm\": 216.15942028985506, \"bill_length_mm\": 50.0, \"pred\": \"Gentoo\"}, {\"flipper_length_mm\": 216.15942028985506, \"bill_length_mm\": 50.434782608695656, \"pred\": \"Gentoo\"}, {\"flipper_length_mm\": 216.15942028985506, \"bill_length_mm\": 50.869565217391305, \"pred\": \"Gentoo\"}, {\"flipper_length_mm\": 216.15942028985506, \"bill_length_mm\": 51.30434782608695, \"pred\": \"Gentoo\"}, {\"flipper_length_mm\": 216.15942028985506, \"bill_length_mm\": 51.73913043478261, \"pred\": \"Gentoo\"}, {\"flipper_length_mm\": 216.15942028985506, \"bill_length_mm\": 52.173913043478265, \"pred\": \"Gentoo\"}, {\"flipper_length_mm\": 216.15942028985506, \"bill_length_mm\": 52.608695652173914, \"pred\": \"Gentoo\"}, {\"flipper_length_mm\": 216.15942028985506, \"bill_length_mm\": 53.04347826086956, \"pred\": \"Gentoo\"}, {\"flipper_length_mm\": 216.15942028985506, \"bill_length_mm\": 53.47826086956522, \"pred\": \"Gentoo\"}, {\"flipper_length_mm\": 216.15942028985506, \"bill_length_mm\": 53.91304347826087, \"pred\": \"Gentoo\"}, {\"flipper_length_mm\": 216.15942028985506, \"bill_length_mm\": 54.347826086956516, \"pred\": \"Gentoo\"}, {\"flipper_length_mm\": 216.15942028985506, \"bill_length_mm\": 54.78260869565217, \"pred\": \"Gentoo\"}, {\"flipper_length_mm\": 216.15942028985506, \"bill_length_mm\": 55.21739130434783, \"pred\": \"Gentoo\"}, {\"flipper_length_mm\": 216.15942028985506, \"bill_length_mm\": 55.65217391304348, \"pred\": \"Chinstrap\"}, {\"flipper_length_mm\": 216.15942028985506, \"bill_length_mm\": 56.086956521739125, \"pred\": \"Chinstrap\"}, {\"flipper_length_mm\": 216.15942028985506, \"bill_length_mm\": 56.52173913043478, \"pred\": \"Chinstrap\"}, {\"flipper_length_mm\": 216.15942028985506, \"bill_length_mm\": 56.95652173913044, \"pred\": \"Chinstrap\"}, {\"flipper_length_mm\": 216.15942028985506, \"bill_length_mm\": 57.391304347826086, \"pred\": \"Chinstrap\"}, {\"flipper_length_mm\": 216.15942028985506, \"bill_length_mm\": 57.826086956521735, \"pred\": \"Chinstrap\"}, {\"flipper_length_mm\": 216.15942028985506, \"bill_length_mm\": 58.26086956521739, \"pred\": \"Chinstrap\"}, {\"flipper_length_mm\": 216.15942028985506, \"bill_length_mm\": 58.69565217391305, \"pred\": \"Chinstrap\"}, {\"flipper_length_mm\": 216.15942028985506, \"bill_length_mm\": 59.130434782608695, \"pred\": \"Chinstrap\"}, {\"flipper_length_mm\": 216.15942028985506, \"bill_length_mm\": 59.565217391304344, \"pred\": \"Chinstrap\"}, {\"flipper_length_mm\": 216.15942028985506, \"bill_length_mm\": 60.0, \"pred\": \"Chinstrap\"}, {\"flipper_length_mm\": 217.1014492753623, \"bill_length_mm\": 30.0, \"pred\": \"Adelie\"}, {\"flipper_length_mm\": 217.1014492753623, \"bill_length_mm\": 30.434782608695652, \"pred\": \"Adelie\"}, {\"flipper_length_mm\": 217.1014492753623, \"bill_length_mm\": 30.869565217391305, \"pred\": \"Adelie\"}, {\"flipper_length_mm\": 217.1014492753623, \"bill_length_mm\": 31.304347826086957, \"pred\": \"Adelie\"}, {\"flipper_length_mm\": 217.1014492753623, \"bill_length_mm\": 31.73913043478261, \"pred\": \"Gentoo\"}, {\"flipper_length_mm\": 217.1014492753623, \"bill_length_mm\": 32.17391304347826, \"pred\": \"Gentoo\"}, {\"flipper_length_mm\": 217.1014492753623, \"bill_length_mm\": 32.608695652173914, \"pred\": \"Gentoo\"}, {\"flipper_length_mm\": 217.1014492753623, \"bill_length_mm\": 33.04347826086956, \"pred\": \"Gentoo\"}, {\"flipper_length_mm\": 217.1014492753623, \"bill_length_mm\": 33.47826086956522, \"pred\": \"Gentoo\"}, {\"flipper_length_mm\": 217.1014492753623, \"bill_length_mm\": 33.91304347826087, \"pred\": \"Gentoo\"}, {\"flipper_length_mm\": 217.1014492753623, \"bill_length_mm\": 34.34782608695652, \"pred\": \"Gentoo\"}, {\"flipper_length_mm\": 217.1014492753623, \"bill_length_mm\": 34.78260869565217, \"pred\": \"Gentoo\"}, {\"flipper_length_mm\": 217.1014492753623, \"bill_length_mm\": 35.21739130434783, \"pred\": \"Gentoo\"}, {\"flipper_length_mm\": 217.1014492753623, \"bill_length_mm\": 35.65217391304348, \"pred\": \"Gentoo\"}, {\"flipper_length_mm\": 217.1014492753623, \"bill_length_mm\": 36.08695652173913, \"pred\": \"Gentoo\"}, {\"flipper_length_mm\": 217.1014492753623, \"bill_length_mm\": 36.52173913043478, \"pred\": \"Gentoo\"}, {\"flipper_length_mm\": 217.1014492753623, \"bill_length_mm\": 36.95652173913044, \"pred\": \"Gentoo\"}, {\"flipper_length_mm\": 217.1014492753623, \"bill_length_mm\": 37.391304347826086, \"pred\": \"Gentoo\"}, {\"flipper_length_mm\": 217.1014492753623, \"bill_length_mm\": 37.82608695652174, \"pred\": \"Gentoo\"}, {\"flipper_length_mm\": 217.1014492753623, \"bill_length_mm\": 38.26086956521739, \"pred\": \"Gentoo\"}, {\"flipper_length_mm\": 217.1014492753623, \"bill_length_mm\": 38.69565217391305, \"pred\": \"Gentoo\"}, {\"flipper_length_mm\": 217.1014492753623, \"bill_length_mm\": 39.130434782608695, \"pred\": \"Gentoo\"}, {\"flipper_length_mm\": 217.1014492753623, \"bill_length_mm\": 39.565217391304344, \"pred\": \"Gentoo\"}, {\"flipper_length_mm\": 217.1014492753623, \"bill_length_mm\": 40.0, \"pred\": \"Gentoo\"}, {\"flipper_length_mm\": 217.1014492753623, \"bill_length_mm\": 40.434782608695656, \"pred\": \"Gentoo\"}, {\"flipper_length_mm\": 217.1014492753623, \"bill_length_mm\": 40.869565217391305, \"pred\": \"Gentoo\"}, {\"flipper_length_mm\": 217.1014492753623, \"bill_length_mm\": 41.30434782608695, \"pred\": \"Gentoo\"}, {\"flipper_length_mm\": 217.1014492753623, \"bill_length_mm\": 41.73913043478261, \"pred\": \"Gentoo\"}, {\"flipper_length_mm\": 217.1014492753623, \"bill_length_mm\": 42.17391304347826, \"pred\": \"Gentoo\"}, {\"flipper_length_mm\": 217.1014492753623, \"bill_length_mm\": 42.608695652173914, \"pred\": \"Gentoo\"}, {\"flipper_length_mm\": 217.1014492753623, \"bill_length_mm\": 43.04347826086956, \"pred\": \"Gentoo\"}, {\"flipper_length_mm\": 217.1014492753623, \"bill_length_mm\": 43.47826086956522, \"pred\": \"Gentoo\"}, {\"flipper_length_mm\": 217.1014492753623, \"bill_length_mm\": 43.91304347826087, \"pred\": \"Gentoo\"}, {\"flipper_length_mm\": 217.1014492753623, \"bill_length_mm\": 44.34782608695652, \"pred\": \"Gentoo\"}, {\"flipper_length_mm\": 217.1014492753623, \"bill_length_mm\": 44.78260869565217, \"pred\": \"Gentoo\"}, {\"flipper_length_mm\": 217.1014492753623, \"bill_length_mm\": 45.21739130434783, \"pred\": \"Gentoo\"}, {\"flipper_length_mm\": 217.1014492753623, \"bill_length_mm\": 45.65217391304348, \"pred\": \"Gentoo\"}, {\"flipper_length_mm\": 217.1014492753623, \"bill_length_mm\": 46.086956521739125, \"pred\": \"Gentoo\"}, {\"flipper_length_mm\": 217.1014492753623, \"bill_length_mm\": 46.52173913043478, \"pred\": \"Gentoo\"}, {\"flipper_length_mm\": 217.1014492753623, \"bill_length_mm\": 46.95652173913044, \"pred\": \"Gentoo\"}, {\"flipper_length_mm\": 217.1014492753623, \"bill_length_mm\": 47.391304347826086, \"pred\": \"Gentoo\"}, {\"flipper_length_mm\": 217.1014492753623, \"bill_length_mm\": 47.826086956521735, \"pred\": \"Gentoo\"}, {\"flipper_length_mm\": 217.1014492753623, \"bill_length_mm\": 48.26086956521739, \"pred\": \"Gentoo\"}, {\"flipper_length_mm\": 217.1014492753623, \"bill_length_mm\": 48.69565217391305, \"pred\": \"Gentoo\"}, {\"flipper_length_mm\": 217.1014492753623, \"bill_length_mm\": 49.130434782608695, \"pred\": \"Gentoo\"}, {\"flipper_length_mm\": 217.1014492753623, \"bill_length_mm\": 49.565217391304344, \"pred\": \"Gentoo\"}, {\"flipper_length_mm\": 217.1014492753623, \"bill_length_mm\": 50.0, \"pred\": \"Gentoo\"}, {\"flipper_length_mm\": 217.1014492753623, \"bill_length_mm\": 50.434782608695656, \"pred\": \"Gentoo\"}, {\"flipper_length_mm\": 217.1014492753623, \"bill_length_mm\": 50.869565217391305, \"pred\": \"Gentoo\"}, {\"flipper_length_mm\": 217.1014492753623, \"bill_length_mm\": 51.30434782608695, \"pred\": \"Gentoo\"}, {\"flipper_length_mm\": 217.1014492753623, \"bill_length_mm\": 51.73913043478261, \"pred\": \"Gentoo\"}, {\"flipper_length_mm\": 217.1014492753623, \"bill_length_mm\": 52.173913043478265, \"pred\": \"Gentoo\"}, {\"flipper_length_mm\": 217.1014492753623, \"bill_length_mm\": 52.608695652173914, \"pred\": \"Gentoo\"}, {\"flipper_length_mm\": 217.1014492753623, \"bill_length_mm\": 53.04347826086956, \"pred\": \"Gentoo\"}, {\"flipper_length_mm\": 217.1014492753623, \"bill_length_mm\": 53.47826086956522, \"pred\": \"Gentoo\"}, {\"flipper_length_mm\": 217.1014492753623, \"bill_length_mm\": 53.91304347826087, \"pred\": \"Gentoo\"}, {\"flipper_length_mm\": 217.1014492753623, \"bill_length_mm\": 54.347826086956516, \"pred\": \"Gentoo\"}, {\"flipper_length_mm\": 217.1014492753623, \"bill_length_mm\": 54.78260869565217, \"pred\": \"Gentoo\"}, {\"flipper_length_mm\": 217.1014492753623, \"bill_length_mm\": 55.21739130434783, \"pred\": \"Gentoo\"}, {\"flipper_length_mm\": 217.1014492753623, \"bill_length_mm\": 55.65217391304348, \"pred\": \"Gentoo\"}, {\"flipper_length_mm\": 217.1014492753623, \"bill_length_mm\": 56.086956521739125, \"pred\": \"Gentoo\"}, {\"flipper_length_mm\": 217.1014492753623, \"bill_length_mm\": 56.52173913043478, \"pred\": \"Chinstrap\"}, {\"flipper_length_mm\": 217.1014492753623, \"bill_length_mm\": 56.95652173913044, \"pred\": \"Chinstrap\"}, {\"flipper_length_mm\": 217.1014492753623, \"bill_length_mm\": 57.391304347826086, \"pred\": \"Chinstrap\"}, {\"flipper_length_mm\": 217.1014492753623, \"bill_length_mm\": 57.826086956521735, \"pred\": \"Chinstrap\"}, {\"flipper_length_mm\": 217.1014492753623, \"bill_length_mm\": 58.26086956521739, \"pred\": \"Chinstrap\"}, {\"flipper_length_mm\": 217.1014492753623, \"bill_length_mm\": 58.69565217391305, \"pred\": \"Chinstrap\"}, {\"flipper_length_mm\": 217.1014492753623, \"bill_length_mm\": 59.130434782608695, \"pred\": \"Chinstrap\"}, {\"flipper_length_mm\": 217.1014492753623, \"bill_length_mm\": 59.565217391304344, \"pred\": \"Chinstrap\"}, {\"flipper_length_mm\": 217.1014492753623, \"bill_length_mm\": 60.0, \"pred\": \"Chinstrap\"}, {\"flipper_length_mm\": 218.04347826086956, \"bill_length_mm\": 30.0, \"pred\": \"Adelie\"}, {\"flipper_length_mm\": 218.04347826086956, \"bill_length_mm\": 30.434782608695652, \"pred\": \"Gentoo\"}, {\"flipper_length_mm\": 218.04347826086956, \"bill_length_mm\": 30.869565217391305, \"pred\": \"Gentoo\"}, {\"flipper_length_mm\": 218.04347826086956, \"bill_length_mm\": 31.304347826086957, \"pred\": \"Gentoo\"}, {\"flipper_length_mm\": 218.04347826086956, \"bill_length_mm\": 31.73913043478261, \"pred\": \"Gentoo\"}, {\"flipper_length_mm\": 218.04347826086956, \"bill_length_mm\": 32.17391304347826, \"pred\": \"Gentoo\"}, {\"flipper_length_mm\": 218.04347826086956, \"bill_length_mm\": 32.608695652173914, \"pred\": \"Gentoo\"}, {\"flipper_length_mm\": 218.04347826086956, \"bill_length_mm\": 33.04347826086956, \"pred\": \"Gentoo\"}, {\"flipper_length_mm\": 218.04347826086956, \"bill_length_mm\": 33.47826086956522, \"pred\": \"Gentoo\"}, {\"flipper_length_mm\": 218.04347826086956, \"bill_length_mm\": 33.91304347826087, \"pred\": \"Gentoo\"}, {\"flipper_length_mm\": 218.04347826086956, \"bill_length_mm\": 34.34782608695652, \"pred\": \"Gentoo\"}, {\"flipper_length_mm\": 218.04347826086956, \"bill_length_mm\": 34.78260869565217, \"pred\": \"Gentoo\"}, {\"flipper_length_mm\": 218.04347826086956, \"bill_length_mm\": 35.21739130434783, \"pred\": \"Gentoo\"}, {\"flipper_length_mm\": 218.04347826086956, \"bill_length_mm\": 35.65217391304348, \"pred\": \"Gentoo\"}, {\"flipper_length_mm\": 218.04347826086956, \"bill_length_mm\": 36.08695652173913, \"pred\": \"Gentoo\"}, {\"flipper_length_mm\": 218.04347826086956, \"bill_length_mm\": 36.52173913043478, \"pred\": \"Gentoo\"}, {\"flipper_length_mm\": 218.04347826086956, \"bill_length_mm\": 36.95652173913044, \"pred\": \"Gentoo\"}, {\"flipper_length_mm\": 218.04347826086956, \"bill_length_mm\": 37.391304347826086, \"pred\": \"Gentoo\"}, {\"flipper_length_mm\": 218.04347826086956, \"bill_length_mm\": 37.82608695652174, \"pred\": \"Gentoo\"}, {\"flipper_length_mm\": 218.04347826086956, \"bill_length_mm\": 38.26086956521739, \"pred\": \"Gentoo\"}, {\"flipper_length_mm\": 218.04347826086956, \"bill_length_mm\": 38.69565217391305, \"pred\": \"Gentoo\"}, {\"flipper_length_mm\": 218.04347826086956, \"bill_length_mm\": 39.130434782608695, \"pred\": \"Gentoo\"}, {\"flipper_length_mm\": 218.04347826086956, \"bill_length_mm\": 39.565217391304344, \"pred\": \"Gentoo\"}, {\"flipper_length_mm\": 218.04347826086956, \"bill_length_mm\": 40.0, \"pred\": \"Gentoo\"}, {\"flipper_length_mm\": 218.04347826086956, \"bill_length_mm\": 40.434782608695656, \"pred\": \"Gentoo\"}, {\"flipper_length_mm\": 218.04347826086956, \"bill_length_mm\": 40.869565217391305, \"pred\": \"Gentoo\"}, {\"flipper_length_mm\": 218.04347826086956, \"bill_length_mm\": 41.30434782608695, \"pred\": \"Gentoo\"}, {\"flipper_length_mm\": 218.04347826086956, \"bill_length_mm\": 41.73913043478261, \"pred\": \"Gentoo\"}, {\"flipper_length_mm\": 218.04347826086956, \"bill_length_mm\": 42.17391304347826, \"pred\": \"Gentoo\"}, {\"flipper_length_mm\": 218.04347826086956, \"bill_length_mm\": 42.608695652173914, \"pred\": \"Gentoo\"}, {\"flipper_length_mm\": 218.04347826086956, \"bill_length_mm\": 43.04347826086956, \"pred\": \"Gentoo\"}, {\"flipper_length_mm\": 218.04347826086956, \"bill_length_mm\": 43.47826086956522, \"pred\": \"Gentoo\"}, {\"flipper_length_mm\": 218.04347826086956, \"bill_length_mm\": 43.91304347826087, \"pred\": \"Gentoo\"}, {\"flipper_length_mm\": 218.04347826086956, \"bill_length_mm\": 44.34782608695652, \"pred\": \"Gentoo\"}, {\"flipper_length_mm\": 218.04347826086956, \"bill_length_mm\": 44.78260869565217, \"pred\": \"Gentoo\"}, {\"flipper_length_mm\": 218.04347826086956, \"bill_length_mm\": 45.21739130434783, \"pred\": \"Gentoo\"}, {\"flipper_length_mm\": 218.04347826086956, \"bill_length_mm\": 45.65217391304348, \"pred\": \"Gentoo\"}, {\"flipper_length_mm\": 218.04347826086956, \"bill_length_mm\": 46.086956521739125, \"pred\": \"Gentoo\"}, {\"flipper_length_mm\": 218.04347826086956, \"bill_length_mm\": 46.52173913043478, \"pred\": \"Gentoo\"}, {\"flipper_length_mm\": 218.04347826086956, \"bill_length_mm\": 46.95652173913044, \"pred\": \"Gentoo\"}, {\"flipper_length_mm\": 218.04347826086956, \"bill_length_mm\": 47.391304347826086, \"pred\": \"Gentoo\"}, {\"flipper_length_mm\": 218.04347826086956, \"bill_length_mm\": 47.826086956521735, \"pred\": \"Gentoo\"}, {\"flipper_length_mm\": 218.04347826086956, \"bill_length_mm\": 48.26086956521739, \"pred\": \"Gentoo\"}, {\"flipper_length_mm\": 218.04347826086956, \"bill_length_mm\": 48.69565217391305, \"pred\": \"Gentoo\"}, {\"flipper_length_mm\": 218.04347826086956, \"bill_length_mm\": 49.130434782608695, \"pred\": \"Gentoo\"}, {\"flipper_length_mm\": 218.04347826086956, \"bill_length_mm\": 49.565217391304344, \"pred\": \"Gentoo\"}, {\"flipper_length_mm\": 218.04347826086956, \"bill_length_mm\": 50.0, \"pred\": \"Gentoo\"}, {\"flipper_length_mm\": 218.04347826086956, \"bill_length_mm\": 50.434782608695656, \"pred\": \"Gentoo\"}, {\"flipper_length_mm\": 218.04347826086956, \"bill_length_mm\": 50.869565217391305, \"pred\": \"Gentoo\"}, {\"flipper_length_mm\": 218.04347826086956, \"bill_length_mm\": 51.30434782608695, \"pred\": \"Gentoo\"}, {\"flipper_length_mm\": 218.04347826086956, \"bill_length_mm\": 51.73913043478261, \"pred\": \"Gentoo\"}, {\"flipper_length_mm\": 218.04347826086956, \"bill_length_mm\": 52.173913043478265, \"pred\": \"Gentoo\"}, {\"flipper_length_mm\": 218.04347826086956, \"bill_length_mm\": 52.608695652173914, \"pred\": \"Gentoo\"}, {\"flipper_length_mm\": 218.04347826086956, \"bill_length_mm\": 53.04347826086956, \"pred\": \"Gentoo\"}, {\"flipper_length_mm\": 218.04347826086956, \"bill_length_mm\": 53.47826086956522, \"pred\": \"Gentoo\"}, {\"flipper_length_mm\": 218.04347826086956, \"bill_length_mm\": 53.91304347826087, \"pred\": \"Gentoo\"}, {\"flipper_length_mm\": 218.04347826086956, \"bill_length_mm\": 54.347826086956516, \"pred\": \"Gentoo\"}, {\"flipper_length_mm\": 218.04347826086956, \"bill_length_mm\": 54.78260869565217, \"pred\": \"Gentoo\"}, {\"flipper_length_mm\": 218.04347826086956, \"bill_length_mm\": 55.21739130434783, \"pred\": \"Gentoo\"}, {\"flipper_length_mm\": 218.04347826086956, \"bill_length_mm\": 55.65217391304348, \"pred\": \"Gentoo\"}, {\"flipper_length_mm\": 218.04347826086956, \"bill_length_mm\": 56.086956521739125, \"pred\": \"Gentoo\"}, {\"flipper_length_mm\": 218.04347826086956, \"bill_length_mm\": 56.52173913043478, \"pred\": \"Gentoo\"}, {\"flipper_length_mm\": 218.04347826086956, \"bill_length_mm\": 56.95652173913044, \"pred\": \"Gentoo\"}, {\"flipper_length_mm\": 218.04347826086956, \"bill_length_mm\": 57.391304347826086, \"pred\": \"Chinstrap\"}, {\"flipper_length_mm\": 218.04347826086956, \"bill_length_mm\": 57.826086956521735, \"pred\": \"Chinstrap\"}, {\"flipper_length_mm\": 218.04347826086956, \"bill_length_mm\": 58.26086956521739, \"pred\": \"Chinstrap\"}, {\"flipper_length_mm\": 218.04347826086956, \"bill_length_mm\": 58.69565217391305, \"pred\": \"Chinstrap\"}, {\"flipper_length_mm\": 218.04347826086956, \"bill_length_mm\": 59.130434782608695, \"pred\": \"Chinstrap\"}, {\"flipper_length_mm\": 218.04347826086956, \"bill_length_mm\": 59.565217391304344, \"pred\": \"Chinstrap\"}, {\"flipper_length_mm\": 218.04347826086956, \"bill_length_mm\": 60.0, \"pred\": \"Chinstrap\"}, {\"flipper_length_mm\": 218.9855072463768, \"bill_length_mm\": 30.0, \"pred\": \"Gentoo\"}, {\"flipper_length_mm\": 218.9855072463768, \"bill_length_mm\": 30.434782608695652, \"pred\": \"Gentoo\"}, {\"flipper_length_mm\": 218.9855072463768, \"bill_length_mm\": 30.869565217391305, \"pred\": \"Gentoo\"}, {\"flipper_length_mm\": 218.9855072463768, \"bill_length_mm\": 31.304347826086957, \"pred\": \"Gentoo\"}, {\"flipper_length_mm\": 218.9855072463768, \"bill_length_mm\": 31.73913043478261, \"pred\": \"Gentoo\"}, {\"flipper_length_mm\": 218.9855072463768, \"bill_length_mm\": 32.17391304347826, \"pred\": \"Gentoo\"}, {\"flipper_length_mm\": 218.9855072463768, \"bill_length_mm\": 32.608695652173914, \"pred\": \"Gentoo\"}, {\"flipper_length_mm\": 218.9855072463768, \"bill_length_mm\": 33.04347826086956, \"pred\": \"Gentoo\"}, {\"flipper_length_mm\": 218.9855072463768, \"bill_length_mm\": 33.47826086956522, \"pred\": \"Gentoo\"}, {\"flipper_length_mm\": 218.9855072463768, \"bill_length_mm\": 33.91304347826087, \"pred\": \"Gentoo\"}, {\"flipper_length_mm\": 218.9855072463768, \"bill_length_mm\": 34.34782608695652, \"pred\": \"Gentoo\"}, {\"flipper_length_mm\": 218.9855072463768, \"bill_length_mm\": 34.78260869565217, \"pred\": \"Gentoo\"}, {\"flipper_length_mm\": 218.9855072463768, \"bill_length_mm\": 35.21739130434783, \"pred\": \"Gentoo\"}, {\"flipper_length_mm\": 218.9855072463768, \"bill_length_mm\": 35.65217391304348, \"pred\": \"Gentoo\"}, {\"flipper_length_mm\": 218.9855072463768, \"bill_length_mm\": 36.08695652173913, \"pred\": \"Gentoo\"}, {\"flipper_length_mm\": 218.9855072463768, \"bill_length_mm\": 36.52173913043478, \"pred\": \"Gentoo\"}, {\"flipper_length_mm\": 218.9855072463768, \"bill_length_mm\": 36.95652173913044, \"pred\": \"Gentoo\"}, {\"flipper_length_mm\": 218.9855072463768, \"bill_length_mm\": 37.391304347826086, \"pred\": \"Gentoo\"}, {\"flipper_length_mm\": 218.9855072463768, \"bill_length_mm\": 37.82608695652174, \"pred\": \"Gentoo\"}, {\"flipper_length_mm\": 218.9855072463768, \"bill_length_mm\": 38.26086956521739, \"pred\": \"Gentoo\"}, {\"flipper_length_mm\": 218.9855072463768, \"bill_length_mm\": 38.69565217391305, \"pred\": \"Gentoo\"}, {\"flipper_length_mm\": 218.9855072463768, \"bill_length_mm\": 39.130434782608695, \"pred\": \"Gentoo\"}, {\"flipper_length_mm\": 218.9855072463768, \"bill_length_mm\": 39.565217391304344, \"pred\": \"Gentoo\"}, {\"flipper_length_mm\": 218.9855072463768, \"bill_length_mm\": 40.0, \"pred\": \"Gentoo\"}, {\"flipper_length_mm\": 218.9855072463768, \"bill_length_mm\": 40.434782608695656, \"pred\": \"Gentoo\"}, {\"flipper_length_mm\": 218.9855072463768, \"bill_length_mm\": 40.869565217391305, \"pred\": \"Gentoo\"}, {\"flipper_length_mm\": 218.9855072463768, \"bill_length_mm\": 41.30434782608695, \"pred\": \"Gentoo\"}, {\"flipper_length_mm\": 218.9855072463768, \"bill_length_mm\": 41.73913043478261, \"pred\": \"Gentoo\"}, {\"flipper_length_mm\": 218.9855072463768, \"bill_length_mm\": 42.17391304347826, \"pred\": \"Gentoo\"}, {\"flipper_length_mm\": 218.9855072463768, \"bill_length_mm\": 42.608695652173914, \"pred\": \"Gentoo\"}, {\"flipper_length_mm\": 218.9855072463768, \"bill_length_mm\": 43.04347826086956, \"pred\": \"Gentoo\"}, {\"flipper_length_mm\": 218.9855072463768, \"bill_length_mm\": 43.47826086956522, \"pred\": \"Gentoo\"}, {\"flipper_length_mm\": 218.9855072463768, \"bill_length_mm\": 43.91304347826087, \"pred\": \"Gentoo\"}, {\"flipper_length_mm\": 218.9855072463768, \"bill_length_mm\": 44.34782608695652, \"pred\": \"Gentoo\"}, {\"flipper_length_mm\": 218.9855072463768, \"bill_length_mm\": 44.78260869565217, \"pred\": \"Gentoo\"}, {\"flipper_length_mm\": 218.9855072463768, \"bill_length_mm\": 45.21739130434783, \"pred\": \"Gentoo\"}, {\"flipper_length_mm\": 218.9855072463768, \"bill_length_mm\": 45.65217391304348, \"pred\": \"Gentoo\"}, {\"flipper_length_mm\": 218.9855072463768, \"bill_length_mm\": 46.086956521739125, \"pred\": \"Gentoo\"}, {\"flipper_length_mm\": 218.9855072463768, \"bill_length_mm\": 46.52173913043478, \"pred\": \"Gentoo\"}, {\"flipper_length_mm\": 218.9855072463768, \"bill_length_mm\": 46.95652173913044, \"pred\": \"Gentoo\"}, {\"flipper_length_mm\": 218.9855072463768, \"bill_length_mm\": 47.391304347826086, \"pred\": \"Gentoo\"}, {\"flipper_length_mm\": 218.9855072463768, \"bill_length_mm\": 47.826086956521735, \"pred\": \"Gentoo\"}, {\"flipper_length_mm\": 218.9855072463768, \"bill_length_mm\": 48.26086956521739, \"pred\": \"Gentoo\"}, {\"flipper_length_mm\": 218.9855072463768, \"bill_length_mm\": 48.69565217391305, \"pred\": \"Gentoo\"}, {\"flipper_length_mm\": 218.9855072463768, \"bill_length_mm\": 49.130434782608695, \"pred\": \"Gentoo\"}, {\"flipper_length_mm\": 218.9855072463768, \"bill_length_mm\": 49.565217391304344, \"pred\": \"Gentoo\"}, {\"flipper_length_mm\": 218.9855072463768, \"bill_length_mm\": 50.0, \"pred\": \"Gentoo\"}, {\"flipper_length_mm\": 218.9855072463768, \"bill_length_mm\": 50.434782608695656, \"pred\": \"Gentoo\"}, {\"flipper_length_mm\": 218.9855072463768, \"bill_length_mm\": 50.869565217391305, \"pred\": \"Gentoo\"}, {\"flipper_length_mm\": 218.9855072463768, \"bill_length_mm\": 51.30434782608695, \"pred\": \"Gentoo\"}, {\"flipper_length_mm\": 218.9855072463768, \"bill_length_mm\": 51.73913043478261, \"pred\": \"Gentoo\"}, {\"flipper_length_mm\": 218.9855072463768, \"bill_length_mm\": 52.173913043478265, \"pred\": \"Gentoo\"}, {\"flipper_length_mm\": 218.9855072463768, \"bill_length_mm\": 52.608695652173914, \"pred\": \"Gentoo\"}, {\"flipper_length_mm\": 218.9855072463768, \"bill_length_mm\": 53.04347826086956, \"pred\": \"Gentoo\"}, {\"flipper_length_mm\": 218.9855072463768, \"bill_length_mm\": 53.47826086956522, \"pred\": \"Gentoo\"}, {\"flipper_length_mm\": 218.9855072463768, \"bill_length_mm\": 53.91304347826087, \"pred\": \"Gentoo\"}, {\"flipper_length_mm\": 218.9855072463768, \"bill_length_mm\": 54.347826086956516, \"pred\": \"Gentoo\"}, {\"flipper_length_mm\": 218.9855072463768, \"bill_length_mm\": 54.78260869565217, \"pred\": \"Gentoo\"}, {\"flipper_length_mm\": 218.9855072463768, \"bill_length_mm\": 55.21739130434783, \"pred\": \"Gentoo\"}, {\"flipper_length_mm\": 218.9855072463768, \"bill_length_mm\": 55.65217391304348, \"pred\": \"Gentoo\"}, {\"flipper_length_mm\": 218.9855072463768, \"bill_length_mm\": 56.086956521739125, \"pred\": \"Gentoo\"}, {\"flipper_length_mm\": 218.9855072463768, \"bill_length_mm\": 56.52173913043478, \"pred\": \"Gentoo\"}, {\"flipper_length_mm\": 218.9855072463768, \"bill_length_mm\": 56.95652173913044, \"pred\": \"Gentoo\"}, {\"flipper_length_mm\": 218.9855072463768, \"bill_length_mm\": 57.391304347826086, \"pred\": \"Gentoo\"}, {\"flipper_length_mm\": 218.9855072463768, \"bill_length_mm\": 57.826086956521735, \"pred\": \"Chinstrap\"}, {\"flipper_length_mm\": 218.9855072463768, \"bill_length_mm\": 58.26086956521739, \"pred\": \"Chinstrap\"}, {\"flipper_length_mm\": 218.9855072463768, \"bill_length_mm\": 58.69565217391305, \"pred\": \"Chinstrap\"}, {\"flipper_length_mm\": 218.9855072463768, \"bill_length_mm\": 59.130434782608695, \"pred\": \"Chinstrap\"}, {\"flipper_length_mm\": 218.9855072463768, \"bill_length_mm\": 59.565217391304344, \"pred\": \"Chinstrap\"}, {\"flipper_length_mm\": 218.9855072463768, \"bill_length_mm\": 60.0, \"pred\": \"Chinstrap\"}, {\"flipper_length_mm\": 219.92753623188406, \"bill_length_mm\": 30.0, \"pred\": \"Gentoo\"}, {\"flipper_length_mm\": 219.92753623188406, \"bill_length_mm\": 30.434782608695652, \"pred\": \"Gentoo\"}, {\"flipper_length_mm\": 219.92753623188406, \"bill_length_mm\": 30.869565217391305, \"pred\": \"Gentoo\"}, {\"flipper_length_mm\": 219.92753623188406, \"bill_length_mm\": 31.304347826086957, \"pred\": \"Gentoo\"}, {\"flipper_length_mm\": 219.92753623188406, \"bill_length_mm\": 31.73913043478261, \"pred\": \"Gentoo\"}, {\"flipper_length_mm\": 219.92753623188406, \"bill_length_mm\": 32.17391304347826, \"pred\": \"Gentoo\"}, {\"flipper_length_mm\": 219.92753623188406, \"bill_length_mm\": 32.608695652173914, \"pred\": \"Gentoo\"}, {\"flipper_length_mm\": 219.92753623188406, \"bill_length_mm\": 33.04347826086956, \"pred\": \"Gentoo\"}, {\"flipper_length_mm\": 219.92753623188406, \"bill_length_mm\": 33.47826086956522, \"pred\": \"Gentoo\"}, {\"flipper_length_mm\": 219.92753623188406, \"bill_length_mm\": 33.91304347826087, \"pred\": \"Gentoo\"}, {\"flipper_length_mm\": 219.92753623188406, \"bill_length_mm\": 34.34782608695652, \"pred\": \"Gentoo\"}, {\"flipper_length_mm\": 219.92753623188406, \"bill_length_mm\": 34.78260869565217, \"pred\": \"Gentoo\"}, {\"flipper_length_mm\": 219.92753623188406, \"bill_length_mm\": 35.21739130434783, \"pred\": \"Gentoo\"}, {\"flipper_length_mm\": 219.92753623188406, \"bill_length_mm\": 35.65217391304348, \"pred\": \"Gentoo\"}, {\"flipper_length_mm\": 219.92753623188406, \"bill_length_mm\": 36.08695652173913, \"pred\": \"Gentoo\"}, {\"flipper_length_mm\": 219.92753623188406, \"bill_length_mm\": 36.52173913043478, \"pred\": \"Gentoo\"}, {\"flipper_length_mm\": 219.92753623188406, \"bill_length_mm\": 36.95652173913044, \"pred\": \"Gentoo\"}, {\"flipper_length_mm\": 219.92753623188406, \"bill_length_mm\": 37.391304347826086, \"pred\": \"Gentoo\"}, {\"flipper_length_mm\": 219.92753623188406, \"bill_length_mm\": 37.82608695652174, \"pred\": \"Gentoo\"}, {\"flipper_length_mm\": 219.92753623188406, \"bill_length_mm\": 38.26086956521739, \"pred\": \"Gentoo\"}, {\"flipper_length_mm\": 219.92753623188406, \"bill_length_mm\": 38.69565217391305, \"pred\": \"Gentoo\"}, {\"flipper_length_mm\": 219.92753623188406, \"bill_length_mm\": 39.130434782608695, \"pred\": \"Gentoo\"}, {\"flipper_length_mm\": 219.92753623188406, \"bill_length_mm\": 39.565217391304344, \"pred\": \"Gentoo\"}, {\"flipper_length_mm\": 219.92753623188406, \"bill_length_mm\": 40.0, \"pred\": \"Gentoo\"}, {\"flipper_length_mm\": 219.92753623188406, \"bill_length_mm\": 40.434782608695656, \"pred\": \"Gentoo\"}, {\"flipper_length_mm\": 219.92753623188406, \"bill_length_mm\": 40.869565217391305, \"pred\": \"Gentoo\"}, {\"flipper_length_mm\": 219.92753623188406, \"bill_length_mm\": 41.30434782608695, \"pred\": \"Gentoo\"}, {\"flipper_length_mm\": 219.92753623188406, \"bill_length_mm\": 41.73913043478261, \"pred\": \"Gentoo\"}, {\"flipper_length_mm\": 219.92753623188406, \"bill_length_mm\": 42.17391304347826, \"pred\": \"Gentoo\"}, {\"flipper_length_mm\": 219.92753623188406, \"bill_length_mm\": 42.608695652173914, \"pred\": \"Gentoo\"}, {\"flipper_length_mm\": 219.92753623188406, \"bill_length_mm\": 43.04347826086956, \"pred\": \"Gentoo\"}, {\"flipper_length_mm\": 219.92753623188406, \"bill_length_mm\": 43.47826086956522, \"pred\": \"Gentoo\"}, {\"flipper_length_mm\": 219.92753623188406, \"bill_length_mm\": 43.91304347826087, \"pred\": \"Gentoo\"}, {\"flipper_length_mm\": 219.92753623188406, \"bill_length_mm\": 44.34782608695652, \"pred\": \"Gentoo\"}, {\"flipper_length_mm\": 219.92753623188406, \"bill_length_mm\": 44.78260869565217, \"pred\": \"Gentoo\"}, {\"flipper_length_mm\": 219.92753623188406, \"bill_length_mm\": 45.21739130434783, \"pred\": \"Gentoo\"}, {\"flipper_length_mm\": 219.92753623188406, \"bill_length_mm\": 45.65217391304348, \"pred\": \"Gentoo\"}, {\"flipper_length_mm\": 219.92753623188406, \"bill_length_mm\": 46.086956521739125, \"pred\": \"Gentoo\"}, {\"flipper_length_mm\": 219.92753623188406, \"bill_length_mm\": 46.52173913043478, \"pred\": \"Gentoo\"}, {\"flipper_length_mm\": 219.92753623188406, \"bill_length_mm\": 46.95652173913044, \"pred\": \"Gentoo\"}, {\"flipper_length_mm\": 219.92753623188406, \"bill_length_mm\": 47.391304347826086, \"pred\": \"Gentoo\"}, {\"flipper_length_mm\": 219.92753623188406, \"bill_length_mm\": 47.826086956521735, \"pred\": \"Gentoo\"}, {\"flipper_length_mm\": 219.92753623188406, \"bill_length_mm\": 48.26086956521739, \"pred\": \"Gentoo\"}, {\"flipper_length_mm\": 219.92753623188406, \"bill_length_mm\": 48.69565217391305, \"pred\": \"Gentoo\"}, {\"flipper_length_mm\": 219.92753623188406, \"bill_length_mm\": 49.130434782608695, \"pred\": \"Gentoo\"}, {\"flipper_length_mm\": 219.92753623188406, \"bill_length_mm\": 49.565217391304344, \"pred\": \"Gentoo\"}, {\"flipper_length_mm\": 219.92753623188406, \"bill_length_mm\": 50.0, \"pred\": \"Gentoo\"}, {\"flipper_length_mm\": 219.92753623188406, \"bill_length_mm\": 50.434782608695656, \"pred\": \"Gentoo\"}, {\"flipper_length_mm\": 219.92753623188406, \"bill_length_mm\": 50.869565217391305, \"pred\": \"Gentoo\"}, {\"flipper_length_mm\": 219.92753623188406, \"bill_length_mm\": 51.30434782608695, \"pred\": \"Gentoo\"}, {\"flipper_length_mm\": 219.92753623188406, \"bill_length_mm\": 51.73913043478261, \"pred\": \"Gentoo\"}, {\"flipper_length_mm\": 219.92753623188406, \"bill_length_mm\": 52.173913043478265, \"pred\": \"Gentoo\"}, {\"flipper_length_mm\": 219.92753623188406, \"bill_length_mm\": 52.608695652173914, \"pred\": \"Gentoo\"}, {\"flipper_length_mm\": 219.92753623188406, \"bill_length_mm\": 53.04347826086956, \"pred\": \"Gentoo\"}, {\"flipper_length_mm\": 219.92753623188406, \"bill_length_mm\": 53.47826086956522, \"pred\": \"Gentoo\"}, {\"flipper_length_mm\": 219.92753623188406, \"bill_length_mm\": 53.91304347826087, \"pred\": \"Gentoo\"}, {\"flipper_length_mm\": 219.92753623188406, \"bill_length_mm\": 54.347826086956516, \"pred\": \"Gentoo\"}, {\"flipper_length_mm\": 219.92753623188406, \"bill_length_mm\": 54.78260869565217, \"pred\": \"Gentoo\"}, {\"flipper_length_mm\": 219.92753623188406, \"bill_length_mm\": 55.21739130434783, \"pred\": \"Gentoo\"}, {\"flipper_length_mm\": 219.92753623188406, \"bill_length_mm\": 55.65217391304348, \"pred\": \"Gentoo\"}, {\"flipper_length_mm\": 219.92753623188406, \"bill_length_mm\": 56.086956521739125, \"pred\": \"Gentoo\"}, {\"flipper_length_mm\": 219.92753623188406, \"bill_length_mm\": 56.52173913043478, \"pred\": \"Gentoo\"}, {\"flipper_length_mm\": 219.92753623188406, \"bill_length_mm\": 56.95652173913044, \"pred\": \"Gentoo\"}, {\"flipper_length_mm\": 219.92753623188406, \"bill_length_mm\": 57.391304347826086, \"pred\": \"Gentoo\"}, {\"flipper_length_mm\": 219.92753623188406, \"bill_length_mm\": 57.826086956521735, \"pred\": \"Gentoo\"}, {\"flipper_length_mm\": 219.92753623188406, \"bill_length_mm\": 58.26086956521739, \"pred\": \"Gentoo\"}, {\"flipper_length_mm\": 219.92753623188406, \"bill_length_mm\": 58.69565217391305, \"pred\": \"Chinstrap\"}, {\"flipper_length_mm\": 219.92753623188406, \"bill_length_mm\": 59.130434782608695, \"pred\": \"Chinstrap\"}, {\"flipper_length_mm\": 219.92753623188406, \"bill_length_mm\": 59.565217391304344, \"pred\": \"Chinstrap\"}, {\"flipper_length_mm\": 219.92753623188406, \"bill_length_mm\": 60.0, \"pred\": \"Chinstrap\"}, {\"flipper_length_mm\": 220.8695652173913, \"bill_length_mm\": 30.0, \"pred\": \"Gentoo\"}, {\"flipper_length_mm\": 220.8695652173913, \"bill_length_mm\": 30.434782608695652, \"pred\": \"Gentoo\"}, {\"flipper_length_mm\": 220.8695652173913, \"bill_length_mm\": 30.869565217391305, \"pred\": \"Gentoo\"}, {\"flipper_length_mm\": 220.8695652173913, \"bill_length_mm\": 31.304347826086957, \"pred\": \"Gentoo\"}, {\"flipper_length_mm\": 220.8695652173913, \"bill_length_mm\": 31.73913043478261, \"pred\": \"Gentoo\"}, {\"flipper_length_mm\": 220.8695652173913, \"bill_length_mm\": 32.17391304347826, \"pred\": \"Gentoo\"}, {\"flipper_length_mm\": 220.8695652173913, \"bill_length_mm\": 32.608695652173914, \"pred\": \"Gentoo\"}, {\"flipper_length_mm\": 220.8695652173913, \"bill_length_mm\": 33.04347826086956, \"pred\": \"Gentoo\"}, {\"flipper_length_mm\": 220.8695652173913, \"bill_length_mm\": 33.47826086956522, \"pred\": \"Gentoo\"}, {\"flipper_length_mm\": 220.8695652173913, \"bill_length_mm\": 33.91304347826087, \"pred\": \"Gentoo\"}, {\"flipper_length_mm\": 220.8695652173913, \"bill_length_mm\": 34.34782608695652, \"pred\": \"Gentoo\"}, {\"flipper_length_mm\": 220.8695652173913, \"bill_length_mm\": 34.78260869565217, \"pred\": \"Gentoo\"}, {\"flipper_length_mm\": 220.8695652173913, \"bill_length_mm\": 35.21739130434783, \"pred\": \"Gentoo\"}, {\"flipper_length_mm\": 220.8695652173913, \"bill_length_mm\": 35.65217391304348, \"pred\": \"Gentoo\"}, {\"flipper_length_mm\": 220.8695652173913, \"bill_length_mm\": 36.08695652173913, \"pred\": \"Gentoo\"}, {\"flipper_length_mm\": 220.8695652173913, \"bill_length_mm\": 36.52173913043478, \"pred\": \"Gentoo\"}, {\"flipper_length_mm\": 220.8695652173913, \"bill_length_mm\": 36.95652173913044, \"pred\": \"Gentoo\"}, {\"flipper_length_mm\": 220.8695652173913, \"bill_length_mm\": 37.391304347826086, \"pred\": \"Gentoo\"}, {\"flipper_length_mm\": 220.8695652173913, \"bill_length_mm\": 37.82608695652174, \"pred\": \"Gentoo\"}, {\"flipper_length_mm\": 220.8695652173913, \"bill_length_mm\": 38.26086956521739, \"pred\": \"Gentoo\"}, {\"flipper_length_mm\": 220.8695652173913, \"bill_length_mm\": 38.69565217391305, \"pred\": \"Gentoo\"}, {\"flipper_length_mm\": 220.8695652173913, \"bill_length_mm\": 39.130434782608695, \"pred\": \"Gentoo\"}, {\"flipper_length_mm\": 220.8695652173913, \"bill_length_mm\": 39.565217391304344, \"pred\": \"Gentoo\"}, {\"flipper_length_mm\": 220.8695652173913, \"bill_length_mm\": 40.0, \"pred\": \"Gentoo\"}, {\"flipper_length_mm\": 220.8695652173913, \"bill_length_mm\": 40.434782608695656, \"pred\": \"Gentoo\"}, {\"flipper_length_mm\": 220.8695652173913, \"bill_length_mm\": 40.869565217391305, \"pred\": \"Gentoo\"}, {\"flipper_length_mm\": 220.8695652173913, \"bill_length_mm\": 41.30434782608695, \"pred\": \"Gentoo\"}, {\"flipper_length_mm\": 220.8695652173913, \"bill_length_mm\": 41.73913043478261, \"pred\": \"Gentoo\"}, {\"flipper_length_mm\": 220.8695652173913, \"bill_length_mm\": 42.17391304347826, \"pred\": \"Gentoo\"}, {\"flipper_length_mm\": 220.8695652173913, \"bill_length_mm\": 42.608695652173914, \"pred\": \"Gentoo\"}, {\"flipper_length_mm\": 220.8695652173913, \"bill_length_mm\": 43.04347826086956, \"pred\": \"Gentoo\"}, {\"flipper_length_mm\": 220.8695652173913, \"bill_length_mm\": 43.47826086956522, \"pred\": \"Gentoo\"}, {\"flipper_length_mm\": 220.8695652173913, \"bill_length_mm\": 43.91304347826087, \"pred\": \"Gentoo\"}, {\"flipper_length_mm\": 220.8695652173913, \"bill_length_mm\": 44.34782608695652, \"pred\": \"Gentoo\"}, {\"flipper_length_mm\": 220.8695652173913, \"bill_length_mm\": 44.78260869565217, \"pred\": \"Gentoo\"}, {\"flipper_length_mm\": 220.8695652173913, \"bill_length_mm\": 45.21739130434783, \"pred\": \"Gentoo\"}, {\"flipper_length_mm\": 220.8695652173913, \"bill_length_mm\": 45.65217391304348, \"pred\": \"Gentoo\"}, {\"flipper_length_mm\": 220.8695652173913, \"bill_length_mm\": 46.086956521739125, \"pred\": \"Gentoo\"}, {\"flipper_length_mm\": 220.8695652173913, \"bill_length_mm\": 46.52173913043478, \"pred\": \"Gentoo\"}, {\"flipper_length_mm\": 220.8695652173913, \"bill_length_mm\": 46.95652173913044, \"pred\": \"Gentoo\"}, {\"flipper_length_mm\": 220.8695652173913, \"bill_length_mm\": 47.391304347826086, \"pred\": \"Gentoo\"}, {\"flipper_length_mm\": 220.8695652173913, \"bill_length_mm\": 47.826086956521735, \"pred\": \"Gentoo\"}, {\"flipper_length_mm\": 220.8695652173913, \"bill_length_mm\": 48.26086956521739, \"pred\": \"Gentoo\"}, {\"flipper_length_mm\": 220.8695652173913, \"bill_length_mm\": 48.69565217391305, \"pred\": \"Gentoo\"}, {\"flipper_length_mm\": 220.8695652173913, \"bill_length_mm\": 49.130434782608695, \"pred\": \"Gentoo\"}, {\"flipper_length_mm\": 220.8695652173913, \"bill_length_mm\": 49.565217391304344, \"pred\": \"Gentoo\"}, {\"flipper_length_mm\": 220.8695652173913, \"bill_length_mm\": 50.0, \"pred\": \"Gentoo\"}, {\"flipper_length_mm\": 220.8695652173913, \"bill_length_mm\": 50.434782608695656, \"pred\": \"Gentoo\"}, {\"flipper_length_mm\": 220.8695652173913, \"bill_length_mm\": 50.869565217391305, \"pred\": \"Gentoo\"}, {\"flipper_length_mm\": 220.8695652173913, \"bill_length_mm\": 51.30434782608695, \"pred\": \"Gentoo\"}, {\"flipper_length_mm\": 220.8695652173913, \"bill_length_mm\": 51.73913043478261, \"pred\": \"Gentoo\"}, {\"flipper_length_mm\": 220.8695652173913, \"bill_length_mm\": 52.173913043478265, \"pred\": \"Gentoo\"}, {\"flipper_length_mm\": 220.8695652173913, \"bill_length_mm\": 52.608695652173914, \"pred\": \"Gentoo\"}, {\"flipper_length_mm\": 220.8695652173913, \"bill_length_mm\": 53.04347826086956, \"pred\": \"Gentoo\"}, {\"flipper_length_mm\": 220.8695652173913, \"bill_length_mm\": 53.47826086956522, \"pred\": \"Gentoo\"}, {\"flipper_length_mm\": 220.8695652173913, \"bill_length_mm\": 53.91304347826087, \"pred\": \"Gentoo\"}, {\"flipper_length_mm\": 220.8695652173913, \"bill_length_mm\": 54.347826086956516, \"pred\": \"Gentoo\"}, {\"flipper_length_mm\": 220.8695652173913, \"bill_length_mm\": 54.78260869565217, \"pred\": \"Gentoo\"}, {\"flipper_length_mm\": 220.8695652173913, \"bill_length_mm\": 55.21739130434783, \"pred\": \"Gentoo\"}, {\"flipper_length_mm\": 220.8695652173913, \"bill_length_mm\": 55.65217391304348, \"pred\": \"Gentoo\"}, {\"flipper_length_mm\": 220.8695652173913, \"bill_length_mm\": 56.086956521739125, \"pred\": \"Gentoo\"}, {\"flipper_length_mm\": 220.8695652173913, \"bill_length_mm\": 56.52173913043478, \"pred\": \"Gentoo\"}, {\"flipper_length_mm\": 220.8695652173913, \"bill_length_mm\": 56.95652173913044, \"pred\": \"Gentoo\"}, {\"flipper_length_mm\": 220.8695652173913, \"bill_length_mm\": 57.391304347826086, \"pred\": \"Gentoo\"}, {\"flipper_length_mm\": 220.8695652173913, \"bill_length_mm\": 57.826086956521735, \"pred\": \"Gentoo\"}, {\"flipper_length_mm\": 220.8695652173913, \"bill_length_mm\": 58.26086956521739, \"pred\": \"Gentoo\"}, {\"flipper_length_mm\": 220.8695652173913, \"bill_length_mm\": 58.69565217391305, \"pred\": \"Gentoo\"}, {\"flipper_length_mm\": 220.8695652173913, \"bill_length_mm\": 59.130434782608695, \"pred\": \"Gentoo\"}, {\"flipper_length_mm\": 220.8695652173913, \"bill_length_mm\": 59.565217391304344, \"pred\": \"Chinstrap\"}, {\"flipper_length_mm\": 220.8695652173913, \"bill_length_mm\": 60.0, \"pred\": \"Chinstrap\"}, {\"flipper_length_mm\": 221.81159420289856, \"bill_length_mm\": 30.0, \"pred\": \"Gentoo\"}, {\"flipper_length_mm\": 221.81159420289856, \"bill_length_mm\": 30.434782608695652, \"pred\": \"Gentoo\"}, {\"flipper_length_mm\": 221.81159420289856, \"bill_length_mm\": 30.869565217391305, \"pred\": \"Gentoo\"}, {\"flipper_length_mm\": 221.81159420289856, \"bill_length_mm\": 31.304347826086957, \"pred\": \"Gentoo\"}, {\"flipper_length_mm\": 221.81159420289856, \"bill_length_mm\": 31.73913043478261, \"pred\": \"Gentoo\"}, {\"flipper_length_mm\": 221.81159420289856, \"bill_length_mm\": 32.17391304347826, \"pred\": \"Gentoo\"}, {\"flipper_length_mm\": 221.81159420289856, \"bill_length_mm\": 32.608695652173914, \"pred\": \"Gentoo\"}, {\"flipper_length_mm\": 221.81159420289856, \"bill_length_mm\": 33.04347826086956, \"pred\": \"Gentoo\"}, {\"flipper_length_mm\": 221.81159420289856, \"bill_length_mm\": 33.47826086956522, \"pred\": \"Gentoo\"}, {\"flipper_length_mm\": 221.81159420289856, \"bill_length_mm\": 33.91304347826087, \"pred\": \"Gentoo\"}, {\"flipper_length_mm\": 221.81159420289856, \"bill_length_mm\": 34.34782608695652, \"pred\": \"Gentoo\"}, {\"flipper_length_mm\": 221.81159420289856, \"bill_length_mm\": 34.78260869565217, \"pred\": \"Gentoo\"}, {\"flipper_length_mm\": 221.81159420289856, \"bill_length_mm\": 35.21739130434783, \"pred\": \"Gentoo\"}, {\"flipper_length_mm\": 221.81159420289856, \"bill_length_mm\": 35.65217391304348, \"pred\": \"Gentoo\"}, {\"flipper_length_mm\": 221.81159420289856, \"bill_length_mm\": 36.08695652173913, \"pred\": \"Gentoo\"}, {\"flipper_length_mm\": 221.81159420289856, \"bill_length_mm\": 36.52173913043478, \"pred\": \"Gentoo\"}, {\"flipper_length_mm\": 221.81159420289856, \"bill_length_mm\": 36.95652173913044, \"pred\": \"Gentoo\"}, {\"flipper_length_mm\": 221.81159420289856, \"bill_length_mm\": 37.391304347826086, \"pred\": \"Gentoo\"}, {\"flipper_length_mm\": 221.81159420289856, \"bill_length_mm\": 37.82608695652174, \"pred\": \"Gentoo\"}, {\"flipper_length_mm\": 221.81159420289856, \"bill_length_mm\": 38.26086956521739, \"pred\": \"Gentoo\"}, {\"flipper_length_mm\": 221.81159420289856, \"bill_length_mm\": 38.69565217391305, \"pred\": \"Gentoo\"}, {\"flipper_length_mm\": 221.81159420289856, \"bill_length_mm\": 39.130434782608695, \"pred\": \"Gentoo\"}, {\"flipper_length_mm\": 221.81159420289856, \"bill_length_mm\": 39.565217391304344, \"pred\": \"Gentoo\"}, {\"flipper_length_mm\": 221.81159420289856, \"bill_length_mm\": 40.0, \"pred\": \"Gentoo\"}, {\"flipper_length_mm\": 221.81159420289856, \"bill_length_mm\": 40.434782608695656, \"pred\": \"Gentoo\"}, {\"flipper_length_mm\": 221.81159420289856, \"bill_length_mm\": 40.869565217391305, \"pred\": \"Gentoo\"}, {\"flipper_length_mm\": 221.81159420289856, \"bill_length_mm\": 41.30434782608695, \"pred\": \"Gentoo\"}, {\"flipper_length_mm\": 221.81159420289856, \"bill_length_mm\": 41.73913043478261, \"pred\": \"Gentoo\"}, {\"flipper_length_mm\": 221.81159420289856, \"bill_length_mm\": 42.17391304347826, \"pred\": \"Gentoo\"}, {\"flipper_length_mm\": 221.81159420289856, \"bill_length_mm\": 42.608695652173914, \"pred\": \"Gentoo\"}, {\"flipper_length_mm\": 221.81159420289856, \"bill_length_mm\": 43.04347826086956, \"pred\": \"Gentoo\"}, {\"flipper_length_mm\": 221.81159420289856, \"bill_length_mm\": 43.47826086956522, \"pred\": \"Gentoo\"}, {\"flipper_length_mm\": 221.81159420289856, \"bill_length_mm\": 43.91304347826087, \"pred\": \"Gentoo\"}, {\"flipper_length_mm\": 221.81159420289856, \"bill_length_mm\": 44.34782608695652, \"pred\": \"Gentoo\"}, {\"flipper_length_mm\": 221.81159420289856, \"bill_length_mm\": 44.78260869565217, \"pred\": \"Gentoo\"}, {\"flipper_length_mm\": 221.81159420289856, \"bill_length_mm\": 45.21739130434783, \"pred\": \"Gentoo\"}, {\"flipper_length_mm\": 221.81159420289856, \"bill_length_mm\": 45.65217391304348, \"pred\": \"Gentoo\"}, {\"flipper_length_mm\": 221.81159420289856, \"bill_length_mm\": 46.086956521739125, \"pred\": \"Gentoo\"}, {\"flipper_length_mm\": 221.81159420289856, \"bill_length_mm\": 46.52173913043478, \"pred\": \"Gentoo\"}, {\"flipper_length_mm\": 221.81159420289856, \"bill_length_mm\": 46.95652173913044, \"pred\": \"Gentoo\"}, {\"flipper_length_mm\": 221.81159420289856, \"bill_length_mm\": 47.391304347826086, \"pred\": \"Gentoo\"}, {\"flipper_length_mm\": 221.81159420289856, \"bill_length_mm\": 47.826086956521735, \"pred\": \"Gentoo\"}, {\"flipper_length_mm\": 221.81159420289856, \"bill_length_mm\": 48.26086956521739, \"pred\": \"Gentoo\"}, {\"flipper_length_mm\": 221.81159420289856, \"bill_length_mm\": 48.69565217391305, \"pred\": \"Gentoo\"}, {\"flipper_length_mm\": 221.81159420289856, \"bill_length_mm\": 49.130434782608695, \"pred\": \"Gentoo\"}, {\"flipper_length_mm\": 221.81159420289856, \"bill_length_mm\": 49.565217391304344, \"pred\": \"Gentoo\"}, {\"flipper_length_mm\": 221.81159420289856, \"bill_length_mm\": 50.0, \"pred\": \"Gentoo\"}, {\"flipper_length_mm\": 221.81159420289856, \"bill_length_mm\": 50.434782608695656, \"pred\": \"Gentoo\"}, {\"flipper_length_mm\": 221.81159420289856, \"bill_length_mm\": 50.869565217391305, \"pred\": \"Gentoo\"}, {\"flipper_length_mm\": 221.81159420289856, \"bill_length_mm\": 51.30434782608695, \"pred\": \"Gentoo\"}, {\"flipper_length_mm\": 221.81159420289856, \"bill_length_mm\": 51.73913043478261, \"pred\": \"Gentoo\"}, {\"flipper_length_mm\": 221.81159420289856, \"bill_length_mm\": 52.173913043478265, \"pred\": \"Gentoo\"}, {\"flipper_length_mm\": 221.81159420289856, \"bill_length_mm\": 52.608695652173914, \"pred\": \"Gentoo\"}, {\"flipper_length_mm\": 221.81159420289856, \"bill_length_mm\": 53.04347826086956, \"pred\": \"Gentoo\"}, {\"flipper_length_mm\": 221.81159420289856, \"bill_length_mm\": 53.47826086956522, \"pred\": \"Gentoo\"}, {\"flipper_length_mm\": 221.81159420289856, \"bill_length_mm\": 53.91304347826087, \"pred\": \"Gentoo\"}, {\"flipper_length_mm\": 221.81159420289856, \"bill_length_mm\": 54.347826086956516, \"pred\": \"Gentoo\"}, {\"flipper_length_mm\": 221.81159420289856, \"bill_length_mm\": 54.78260869565217, \"pred\": \"Gentoo\"}, {\"flipper_length_mm\": 221.81159420289856, \"bill_length_mm\": 55.21739130434783, \"pred\": \"Gentoo\"}, {\"flipper_length_mm\": 221.81159420289856, \"bill_length_mm\": 55.65217391304348, \"pred\": \"Gentoo\"}, {\"flipper_length_mm\": 221.81159420289856, \"bill_length_mm\": 56.086956521739125, \"pred\": \"Gentoo\"}, {\"flipper_length_mm\": 221.81159420289856, \"bill_length_mm\": 56.52173913043478, \"pred\": \"Gentoo\"}, {\"flipper_length_mm\": 221.81159420289856, \"bill_length_mm\": 56.95652173913044, \"pred\": \"Gentoo\"}, {\"flipper_length_mm\": 221.81159420289856, \"bill_length_mm\": 57.391304347826086, \"pred\": \"Gentoo\"}, {\"flipper_length_mm\": 221.81159420289856, \"bill_length_mm\": 57.826086956521735, \"pred\": \"Gentoo\"}, {\"flipper_length_mm\": 221.81159420289856, \"bill_length_mm\": 58.26086956521739, \"pred\": \"Gentoo\"}, {\"flipper_length_mm\": 221.81159420289856, \"bill_length_mm\": 58.69565217391305, \"pred\": \"Gentoo\"}, {\"flipper_length_mm\": 221.81159420289856, \"bill_length_mm\": 59.130434782608695, \"pred\": \"Gentoo\"}, {\"flipper_length_mm\": 221.81159420289856, \"bill_length_mm\": 59.565217391304344, \"pred\": \"Gentoo\"}, {\"flipper_length_mm\": 221.81159420289856, \"bill_length_mm\": 60.0, \"pred\": \"Chinstrap\"}, {\"flipper_length_mm\": 222.7536231884058, \"bill_length_mm\": 30.0, \"pred\": \"Gentoo\"}, {\"flipper_length_mm\": 222.7536231884058, \"bill_length_mm\": 30.434782608695652, \"pred\": \"Gentoo\"}, {\"flipper_length_mm\": 222.7536231884058, \"bill_length_mm\": 30.869565217391305, \"pred\": \"Gentoo\"}, {\"flipper_length_mm\": 222.7536231884058, \"bill_length_mm\": 31.304347826086957, \"pred\": \"Gentoo\"}, {\"flipper_length_mm\": 222.7536231884058, \"bill_length_mm\": 31.73913043478261, \"pred\": \"Gentoo\"}, {\"flipper_length_mm\": 222.7536231884058, \"bill_length_mm\": 32.17391304347826, \"pred\": \"Gentoo\"}, {\"flipper_length_mm\": 222.7536231884058, \"bill_length_mm\": 32.608695652173914, \"pred\": \"Gentoo\"}, {\"flipper_length_mm\": 222.7536231884058, \"bill_length_mm\": 33.04347826086956, \"pred\": \"Gentoo\"}, {\"flipper_length_mm\": 222.7536231884058, \"bill_length_mm\": 33.47826086956522, \"pred\": \"Gentoo\"}, {\"flipper_length_mm\": 222.7536231884058, \"bill_length_mm\": 33.91304347826087, \"pred\": \"Gentoo\"}, {\"flipper_length_mm\": 222.7536231884058, \"bill_length_mm\": 34.34782608695652, \"pred\": \"Gentoo\"}, {\"flipper_length_mm\": 222.7536231884058, \"bill_length_mm\": 34.78260869565217, \"pred\": \"Gentoo\"}, {\"flipper_length_mm\": 222.7536231884058, \"bill_length_mm\": 35.21739130434783, \"pred\": \"Gentoo\"}, {\"flipper_length_mm\": 222.7536231884058, \"bill_length_mm\": 35.65217391304348, \"pred\": \"Gentoo\"}, {\"flipper_length_mm\": 222.7536231884058, \"bill_length_mm\": 36.08695652173913, \"pred\": \"Gentoo\"}, {\"flipper_length_mm\": 222.7536231884058, \"bill_length_mm\": 36.52173913043478, \"pred\": \"Gentoo\"}, {\"flipper_length_mm\": 222.7536231884058, \"bill_length_mm\": 36.95652173913044, \"pred\": \"Gentoo\"}, {\"flipper_length_mm\": 222.7536231884058, \"bill_length_mm\": 37.391304347826086, \"pred\": \"Gentoo\"}, {\"flipper_length_mm\": 222.7536231884058, \"bill_length_mm\": 37.82608695652174, \"pred\": \"Gentoo\"}, {\"flipper_length_mm\": 222.7536231884058, \"bill_length_mm\": 38.26086956521739, \"pred\": \"Gentoo\"}, {\"flipper_length_mm\": 222.7536231884058, \"bill_length_mm\": 38.69565217391305, \"pred\": \"Gentoo\"}, {\"flipper_length_mm\": 222.7536231884058, \"bill_length_mm\": 39.130434782608695, \"pred\": \"Gentoo\"}, {\"flipper_length_mm\": 222.7536231884058, \"bill_length_mm\": 39.565217391304344, \"pred\": \"Gentoo\"}, {\"flipper_length_mm\": 222.7536231884058, \"bill_length_mm\": 40.0, \"pred\": \"Gentoo\"}, {\"flipper_length_mm\": 222.7536231884058, \"bill_length_mm\": 40.434782608695656, \"pred\": \"Gentoo\"}, {\"flipper_length_mm\": 222.7536231884058, \"bill_length_mm\": 40.869565217391305, \"pred\": \"Gentoo\"}, {\"flipper_length_mm\": 222.7536231884058, \"bill_length_mm\": 41.30434782608695, \"pred\": \"Gentoo\"}, {\"flipper_length_mm\": 222.7536231884058, \"bill_length_mm\": 41.73913043478261, \"pred\": \"Gentoo\"}, {\"flipper_length_mm\": 222.7536231884058, \"bill_length_mm\": 42.17391304347826, \"pred\": \"Gentoo\"}, {\"flipper_length_mm\": 222.7536231884058, \"bill_length_mm\": 42.608695652173914, \"pred\": \"Gentoo\"}, {\"flipper_length_mm\": 222.7536231884058, \"bill_length_mm\": 43.04347826086956, \"pred\": \"Gentoo\"}, {\"flipper_length_mm\": 222.7536231884058, \"bill_length_mm\": 43.47826086956522, \"pred\": \"Gentoo\"}, {\"flipper_length_mm\": 222.7536231884058, \"bill_length_mm\": 43.91304347826087, \"pred\": \"Gentoo\"}, {\"flipper_length_mm\": 222.7536231884058, \"bill_length_mm\": 44.34782608695652, \"pred\": \"Gentoo\"}, {\"flipper_length_mm\": 222.7536231884058, \"bill_length_mm\": 44.78260869565217, \"pred\": \"Gentoo\"}, {\"flipper_length_mm\": 222.7536231884058, \"bill_length_mm\": 45.21739130434783, \"pred\": \"Gentoo\"}, {\"flipper_length_mm\": 222.7536231884058, \"bill_length_mm\": 45.65217391304348, \"pred\": \"Gentoo\"}, {\"flipper_length_mm\": 222.7536231884058, \"bill_length_mm\": 46.086956521739125, \"pred\": \"Gentoo\"}, {\"flipper_length_mm\": 222.7536231884058, \"bill_length_mm\": 46.52173913043478, \"pred\": \"Gentoo\"}, {\"flipper_length_mm\": 222.7536231884058, \"bill_length_mm\": 46.95652173913044, \"pred\": \"Gentoo\"}, {\"flipper_length_mm\": 222.7536231884058, \"bill_length_mm\": 47.391304347826086, \"pred\": \"Gentoo\"}, {\"flipper_length_mm\": 222.7536231884058, \"bill_length_mm\": 47.826086956521735, \"pred\": \"Gentoo\"}, {\"flipper_length_mm\": 222.7536231884058, \"bill_length_mm\": 48.26086956521739, \"pred\": \"Gentoo\"}, {\"flipper_length_mm\": 222.7536231884058, \"bill_length_mm\": 48.69565217391305, \"pred\": \"Gentoo\"}, {\"flipper_length_mm\": 222.7536231884058, \"bill_length_mm\": 49.130434782608695, \"pred\": \"Gentoo\"}, {\"flipper_length_mm\": 222.7536231884058, \"bill_length_mm\": 49.565217391304344, \"pred\": \"Gentoo\"}, {\"flipper_length_mm\": 222.7536231884058, \"bill_length_mm\": 50.0, \"pred\": \"Gentoo\"}, {\"flipper_length_mm\": 222.7536231884058, \"bill_length_mm\": 50.434782608695656, \"pred\": \"Gentoo\"}, {\"flipper_length_mm\": 222.7536231884058, \"bill_length_mm\": 50.869565217391305, \"pred\": \"Gentoo\"}, {\"flipper_length_mm\": 222.7536231884058, \"bill_length_mm\": 51.30434782608695, \"pred\": \"Gentoo\"}, {\"flipper_length_mm\": 222.7536231884058, \"bill_length_mm\": 51.73913043478261, \"pred\": \"Gentoo\"}, {\"flipper_length_mm\": 222.7536231884058, \"bill_length_mm\": 52.173913043478265, \"pred\": \"Gentoo\"}, {\"flipper_length_mm\": 222.7536231884058, \"bill_length_mm\": 52.608695652173914, \"pred\": \"Gentoo\"}, {\"flipper_length_mm\": 222.7536231884058, \"bill_length_mm\": 53.04347826086956, \"pred\": \"Gentoo\"}, {\"flipper_length_mm\": 222.7536231884058, \"bill_length_mm\": 53.47826086956522, \"pred\": \"Gentoo\"}, {\"flipper_length_mm\": 222.7536231884058, \"bill_length_mm\": 53.91304347826087, \"pred\": \"Gentoo\"}, {\"flipper_length_mm\": 222.7536231884058, \"bill_length_mm\": 54.347826086956516, \"pred\": \"Gentoo\"}, {\"flipper_length_mm\": 222.7536231884058, \"bill_length_mm\": 54.78260869565217, \"pred\": \"Gentoo\"}, {\"flipper_length_mm\": 222.7536231884058, \"bill_length_mm\": 55.21739130434783, \"pred\": \"Gentoo\"}, {\"flipper_length_mm\": 222.7536231884058, \"bill_length_mm\": 55.65217391304348, \"pred\": \"Gentoo\"}, {\"flipper_length_mm\": 222.7536231884058, \"bill_length_mm\": 56.086956521739125, \"pred\": \"Gentoo\"}, {\"flipper_length_mm\": 222.7536231884058, \"bill_length_mm\": 56.52173913043478, \"pred\": \"Gentoo\"}, {\"flipper_length_mm\": 222.7536231884058, \"bill_length_mm\": 56.95652173913044, \"pred\": \"Gentoo\"}, {\"flipper_length_mm\": 222.7536231884058, \"bill_length_mm\": 57.391304347826086, \"pred\": \"Gentoo\"}, {\"flipper_length_mm\": 222.7536231884058, \"bill_length_mm\": 57.826086956521735, \"pred\": \"Gentoo\"}, {\"flipper_length_mm\": 222.7536231884058, \"bill_length_mm\": 58.26086956521739, \"pred\": \"Gentoo\"}, {\"flipper_length_mm\": 222.7536231884058, \"bill_length_mm\": 58.69565217391305, \"pred\": \"Gentoo\"}, {\"flipper_length_mm\": 222.7536231884058, \"bill_length_mm\": 59.130434782608695, \"pred\": \"Gentoo\"}, {\"flipper_length_mm\": 222.7536231884058, \"bill_length_mm\": 59.565217391304344, \"pred\": \"Gentoo\"}, {\"flipper_length_mm\": 222.7536231884058, \"bill_length_mm\": 60.0, \"pred\": \"Gentoo\"}, {\"flipper_length_mm\": 223.69565217391303, \"bill_length_mm\": 30.0, \"pred\": \"Gentoo\"}, {\"flipper_length_mm\": 223.69565217391303, \"bill_length_mm\": 30.434782608695652, \"pred\": \"Gentoo\"}, {\"flipper_length_mm\": 223.69565217391303, \"bill_length_mm\": 30.869565217391305, \"pred\": \"Gentoo\"}, {\"flipper_length_mm\": 223.69565217391303, \"bill_length_mm\": 31.304347826086957, \"pred\": \"Gentoo\"}, {\"flipper_length_mm\": 223.69565217391303, \"bill_length_mm\": 31.73913043478261, \"pred\": \"Gentoo\"}, {\"flipper_length_mm\": 223.69565217391303, \"bill_length_mm\": 32.17391304347826, \"pred\": \"Gentoo\"}, {\"flipper_length_mm\": 223.69565217391303, \"bill_length_mm\": 32.608695652173914, \"pred\": \"Gentoo\"}, {\"flipper_length_mm\": 223.69565217391303, \"bill_length_mm\": 33.04347826086956, \"pred\": \"Gentoo\"}, {\"flipper_length_mm\": 223.69565217391303, \"bill_length_mm\": 33.47826086956522, \"pred\": \"Gentoo\"}, {\"flipper_length_mm\": 223.69565217391303, \"bill_length_mm\": 33.91304347826087, \"pred\": \"Gentoo\"}, {\"flipper_length_mm\": 223.69565217391303, \"bill_length_mm\": 34.34782608695652, \"pred\": \"Gentoo\"}, {\"flipper_length_mm\": 223.69565217391303, \"bill_length_mm\": 34.78260869565217, \"pred\": \"Gentoo\"}, {\"flipper_length_mm\": 223.69565217391303, \"bill_length_mm\": 35.21739130434783, \"pred\": \"Gentoo\"}, {\"flipper_length_mm\": 223.69565217391303, \"bill_length_mm\": 35.65217391304348, \"pred\": \"Gentoo\"}, {\"flipper_length_mm\": 223.69565217391303, \"bill_length_mm\": 36.08695652173913, \"pred\": \"Gentoo\"}, {\"flipper_length_mm\": 223.69565217391303, \"bill_length_mm\": 36.52173913043478, \"pred\": \"Gentoo\"}, {\"flipper_length_mm\": 223.69565217391303, \"bill_length_mm\": 36.95652173913044, \"pred\": \"Gentoo\"}, {\"flipper_length_mm\": 223.69565217391303, \"bill_length_mm\": 37.391304347826086, \"pred\": \"Gentoo\"}, {\"flipper_length_mm\": 223.69565217391303, \"bill_length_mm\": 37.82608695652174, \"pred\": \"Gentoo\"}, {\"flipper_length_mm\": 223.69565217391303, \"bill_length_mm\": 38.26086956521739, \"pred\": \"Gentoo\"}, {\"flipper_length_mm\": 223.69565217391303, \"bill_length_mm\": 38.69565217391305, \"pred\": \"Gentoo\"}, {\"flipper_length_mm\": 223.69565217391303, \"bill_length_mm\": 39.130434782608695, \"pred\": \"Gentoo\"}, {\"flipper_length_mm\": 223.69565217391303, \"bill_length_mm\": 39.565217391304344, \"pred\": \"Gentoo\"}, {\"flipper_length_mm\": 223.69565217391303, \"bill_length_mm\": 40.0, \"pred\": \"Gentoo\"}, {\"flipper_length_mm\": 223.69565217391303, \"bill_length_mm\": 40.434782608695656, \"pred\": \"Gentoo\"}, {\"flipper_length_mm\": 223.69565217391303, \"bill_length_mm\": 40.869565217391305, \"pred\": \"Gentoo\"}, {\"flipper_length_mm\": 223.69565217391303, \"bill_length_mm\": 41.30434782608695, \"pred\": \"Gentoo\"}, {\"flipper_length_mm\": 223.69565217391303, \"bill_length_mm\": 41.73913043478261, \"pred\": \"Gentoo\"}, {\"flipper_length_mm\": 223.69565217391303, \"bill_length_mm\": 42.17391304347826, \"pred\": \"Gentoo\"}, {\"flipper_length_mm\": 223.69565217391303, \"bill_length_mm\": 42.608695652173914, \"pred\": \"Gentoo\"}, {\"flipper_length_mm\": 223.69565217391303, \"bill_length_mm\": 43.04347826086956, \"pred\": \"Gentoo\"}, {\"flipper_length_mm\": 223.69565217391303, \"bill_length_mm\": 43.47826086956522, \"pred\": \"Gentoo\"}, {\"flipper_length_mm\": 223.69565217391303, \"bill_length_mm\": 43.91304347826087, \"pred\": \"Gentoo\"}, {\"flipper_length_mm\": 223.69565217391303, \"bill_length_mm\": 44.34782608695652, \"pred\": \"Gentoo\"}, {\"flipper_length_mm\": 223.69565217391303, \"bill_length_mm\": 44.78260869565217, \"pred\": \"Gentoo\"}, {\"flipper_length_mm\": 223.69565217391303, \"bill_length_mm\": 45.21739130434783, \"pred\": \"Gentoo\"}, {\"flipper_length_mm\": 223.69565217391303, \"bill_length_mm\": 45.65217391304348, \"pred\": \"Gentoo\"}, {\"flipper_length_mm\": 223.69565217391303, \"bill_length_mm\": 46.086956521739125, \"pred\": \"Gentoo\"}, {\"flipper_length_mm\": 223.69565217391303, \"bill_length_mm\": 46.52173913043478, \"pred\": \"Gentoo\"}, {\"flipper_length_mm\": 223.69565217391303, \"bill_length_mm\": 46.95652173913044, \"pred\": \"Gentoo\"}, {\"flipper_length_mm\": 223.69565217391303, \"bill_length_mm\": 47.391304347826086, \"pred\": \"Gentoo\"}, {\"flipper_length_mm\": 223.69565217391303, \"bill_length_mm\": 47.826086956521735, \"pred\": \"Gentoo\"}, {\"flipper_length_mm\": 223.69565217391303, \"bill_length_mm\": 48.26086956521739, \"pred\": \"Gentoo\"}, {\"flipper_length_mm\": 223.69565217391303, \"bill_length_mm\": 48.69565217391305, \"pred\": \"Gentoo\"}, {\"flipper_length_mm\": 223.69565217391303, \"bill_length_mm\": 49.130434782608695, \"pred\": \"Gentoo\"}, {\"flipper_length_mm\": 223.69565217391303, \"bill_length_mm\": 49.565217391304344, \"pred\": \"Gentoo\"}, {\"flipper_length_mm\": 223.69565217391303, \"bill_length_mm\": 50.0, \"pred\": \"Gentoo\"}, {\"flipper_length_mm\": 223.69565217391303, \"bill_length_mm\": 50.434782608695656, \"pred\": \"Gentoo\"}, {\"flipper_length_mm\": 223.69565217391303, \"bill_length_mm\": 50.869565217391305, \"pred\": \"Gentoo\"}, {\"flipper_length_mm\": 223.69565217391303, \"bill_length_mm\": 51.30434782608695, \"pred\": \"Gentoo\"}, {\"flipper_length_mm\": 223.69565217391303, \"bill_length_mm\": 51.73913043478261, \"pred\": \"Gentoo\"}, {\"flipper_length_mm\": 223.69565217391303, \"bill_length_mm\": 52.173913043478265, \"pred\": \"Gentoo\"}, {\"flipper_length_mm\": 223.69565217391303, \"bill_length_mm\": 52.608695652173914, \"pred\": \"Gentoo\"}, {\"flipper_length_mm\": 223.69565217391303, \"bill_length_mm\": 53.04347826086956, \"pred\": \"Gentoo\"}, {\"flipper_length_mm\": 223.69565217391303, \"bill_length_mm\": 53.47826086956522, \"pred\": \"Gentoo\"}, {\"flipper_length_mm\": 223.69565217391303, \"bill_length_mm\": 53.91304347826087, \"pred\": \"Gentoo\"}, {\"flipper_length_mm\": 223.69565217391303, \"bill_length_mm\": 54.347826086956516, \"pred\": \"Gentoo\"}, {\"flipper_length_mm\": 223.69565217391303, \"bill_length_mm\": 54.78260869565217, \"pred\": \"Gentoo\"}, {\"flipper_length_mm\": 223.69565217391303, \"bill_length_mm\": 55.21739130434783, \"pred\": \"Gentoo\"}, {\"flipper_length_mm\": 223.69565217391303, \"bill_length_mm\": 55.65217391304348, \"pred\": \"Gentoo\"}, {\"flipper_length_mm\": 223.69565217391303, \"bill_length_mm\": 56.086956521739125, \"pred\": \"Gentoo\"}, {\"flipper_length_mm\": 223.69565217391303, \"bill_length_mm\": 56.52173913043478, \"pred\": \"Gentoo\"}, {\"flipper_length_mm\": 223.69565217391303, \"bill_length_mm\": 56.95652173913044, \"pred\": \"Gentoo\"}, {\"flipper_length_mm\": 223.69565217391303, \"bill_length_mm\": 57.391304347826086, \"pred\": \"Gentoo\"}, {\"flipper_length_mm\": 223.69565217391303, \"bill_length_mm\": 57.826086956521735, \"pred\": \"Gentoo\"}, {\"flipper_length_mm\": 223.69565217391303, \"bill_length_mm\": 58.26086956521739, \"pred\": \"Gentoo\"}, {\"flipper_length_mm\": 223.69565217391303, \"bill_length_mm\": 58.69565217391305, \"pred\": \"Gentoo\"}, {\"flipper_length_mm\": 223.69565217391303, \"bill_length_mm\": 59.130434782608695, \"pred\": \"Gentoo\"}, {\"flipper_length_mm\": 223.69565217391303, \"bill_length_mm\": 59.565217391304344, \"pred\": \"Gentoo\"}, {\"flipper_length_mm\": 223.69565217391303, \"bill_length_mm\": 60.0, \"pred\": \"Gentoo\"}, {\"flipper_length_mm\": 224.63768115942028, \"bill_length_mm\": 30.0, \"pred\": \"Gentoo\"}, {\"flipper_length_mm\": 224.63768115942028, \"bill_length_mm\": 30.434782608695652, \"pred\": \"Gentoo\"}, {\"flipper_length_mm\": 224.63768115942028, \"bill_length_mm\": 30.869565217391305, \"pred\": \"Gentoo\"}, {\"flipper_length_mm\": 224.63768115942028, \"bill_length_mm\": 31.304347826086957, \"pred\": \"Gentoo\"}, {\"flipper_length_mm\": 224.63768115942028, \"bill_length_mm\": 31.73913043478261, \"pred\": \"Gentoo\"}, {\"flipper_length_mm\": 224.63768115942028, \"bill_length_mm\": 32.17391304347826, \"pred\": \"Gentoo\"}, {\"flipper_length_mm\": 224.63768115942028, \"bill_length_mm\": 32.608695652173914, \"pred\": \"Gentoo\"}, {\"flipper_length_mm\": 224.63768115942028, \"bill_length_mm\": 33.04347826086956, \"pred\": \"Gentoo\"}, {\"flipper_length_mm\": 224.63768115942028, \"bill_length_mm\": 33.47826086956522, \"pred\": \"Gentoo\"}, {\"flipper_length_mm\": 224.63768115942028, \"bill_length_mm\": 33.91304347826087, \"pred\": \"Gentoo\"}, {\"flipper_length_mm\": 224.63768115942028, \"bill_length_mm\": 34.34782608695652, \"pred\": \"Gentoo\"}, {\"flipper_length_mm\": 224.63768115942028, \"bill_length_mm\": 34.78260869565217, \"pred\": \"Gentoo\"}, {\"flipper_length_mm\": 224.63768115942028, \"bill_length_mm\": 35.21739130434783, \"pred\": \"Gentoo\"}, {\"flipper_length_mm\": 224.63768115942028, \"bill_length_mm\": 35.65217391304348, \"pred\": \"Gentoo\"}, {\"flipper_length_mm\": 224.63768115942028, \"bill_length_mm\": 36.08695652173913, \"pred\": \"Gentoo\"}, {\"flipper_length_mm\": 224.63768115942028, \"bill_length_mm\": 36.52173913043478, \"pred\": \"Gentoo\"}, {\"flipper_length_mm\": 224.63768115942028, \"bill_length_mm\": 36.95652173913044, \"pred\": \"Gentoo\"}, {\"flipper_length_mm\": 224.63768115942028, \"bill_length_mm\": 37.391304347826086, \"pred\": \"Gentoo\"}, {\"flipper_length_mm\": 224.63768115942028, \"bill_length_mm\": 37.82608695652174, \"pred\": \"Gentoo\"}, {\"flipper_length_mm\": 224.63768115942028, \"bill_length_mm\": 38.26086956521739, \"pred\": \"Gentoo\"}, {\"flipper_length_mm\": 224.63768115942028, \"bill_length_mm\": 38.69565217391305, \"pred\": \"Gentoo\"}, {\"flipper_length_mm\": 224.63768115942028, \"bill_length_mm\": 39.130434782608695, \"pred\": \"Gentoo\"}, {\"flipper_length_mm\": 224.63768115942028, \"bill_length_mm\": 39.565217391304344, \"pred\": \"Gentoo\"}, {\"flipper_length_mm\": 224.63768115942028, \"bill_length_mm\": 40.0, \"pred\": \"Gentoo\"}, {\"flipper_length_mm\": 224.63768115942028, \"bill_length_mm\": 40.434782608695656, \"pred\": \"Gentoo\"}, {\"flipper_length_mm\": 224.63768115942028, \"bill_length_mm\": 40.869565217391305, \"pred\": \"Gentoo\"}, {\"flipper_length_mm\": 224.63768115942028, \"bill_length_mm\": 41.30434782608695, \"pred\": \"Gentoo\"}, {\"flipper_length_mm\": 224.63768115942028, \"bill_length_mm\": 41.73913043478261, \"pred\": \"Gentoo\"}, {\"flipper_length_mm\": 224.63768115942028, \"bill_length_mm\": 42.17391304347826, \"pred\": \"Gentoo\"}, {\"flipper_length_mm\": 224.63768115942028, \"bill_length_mm\": 42.608695652173914, \"pred\": \"Gentoo\"}, {\"flipper_length_mm\": 224.63768115942028, \"bill_length_mm\": 43.04347826086956, \"pred\": \"Gentoo\"}, {\"flipper_length_mm\": 224.63768115942028, \"bill_length_mm\": 43.47826086956522, \"pred\": \"Gentoo\"}, {\"flipper_length_mm\": 224.63768115942028, \"bill_length_mm\": 43.91304347826087, \"pred\": \"Gentoo\"}, {\"flipper_length_mm\": 224.63768115942028, \"bill_length_mm\": 44.34782608695652, \"pred\": \"Gentoo\"}, {\"flipper_length_mm\": 224.63768115942028, \"bill_length_mm\": 44.78260869565217, \"pred\": \"Gentoo\"}, {\"flipper_length_mm\": 224.63768115942028, \"bill_length_mm\": 45.21739130434783, \"pred\": \"Gentoo\"}, {\"flipper_length_mm\": 224.63768115942028, \"bill_length_mm\": 45.65217391304348, \"pred\": \"Gentoo\"}, {\"flipper_length_mm\": 224.63768115942028, \"bill_length_mm\": 46.086956521739125, \"pred\": \"Gentoo\"}, {\"flipper_length_mm\": 224.63768115942028, \"bill_length_mm\": 46.52173913043478, \"pred\": \"Gentoo\"}, {\"flipper_length_mm\": 224.63768115942028, \"bill_length_mm\": 46.95652173913044, \"pred\": \"Gentoo\"}, {\"flipper_length_mm\": 224.63768115942028, \"bill_length_mm\": 47.391304347826086, \"pred\": \"Gentoo\"}, {\"flipper_length_mm\": 224.63768115942028, \"bill_length_mm\": 47.826086956521735, \"pred\": \"Gentoo\"}, {\"flipper_length_mm\": 224.63768115942028, \"bill_length_mm\": 48.26086956521739, \"pred\": \"Gentoo\"}, {\"flipper_length_mm\": 224.63768115942028, \"bill_length_mm\": 48.69565217391305, \"pred\": \"Gentoo\"}, {\"flipper_length_mm\": 224.63768115942028, \"bill_length_mm\": 49.130434782608695, \"pred\": \"Gentoo\"}, {\"flipper_length_mm\": 224.63768115942028, \"bill_length_mm\": 49.565217391304344, \"pred\": \"Gentoo\"}, {\"flipper_length_mm\": 224.63768115942028, \"bill_length_mm\": 50.0, \"pred\": \"Gentoo\"}, {\"flipper_length_mm\": 224.63768115942028, \"bill_length_mm\": 50.434782608695656, \"pred\": \"Gentoo\"}, {\"flipper_length_mm\": 224.63768115942028, \"bill_length_mm\": 50.869565217391305, \"pred\": \"Gentoo\"}, {\"flipper_length_mm\": 224.63768115942028, \"bill_length_mm\": 51.30434782608695, \"pred\": \"Gentoo\"}, {\"flipper_length_mm\": 224.63768115942028, \"bill_length_mm\": 51.73913043478261, \"pred\": \"Gentoo\"}, {\"flipper_length_mm\": 224.63768115942028, \"bill_length_mm\": 52.173913043478265, \"pred\": \"Gentoo\"}, {\"flipper_length_mm\": 224.63768115942028, \"bill_length_mm\": 52.608695652173914, \"pred\": \"Gentoo\"}, {\"flipper_length_mm\": 224.63768115942028, \"bill_length_mm\": 53.04347826086956, \"pred\": \"Gentoo\"}, {\"flipper_length_mm\": 224.63768115942028, \"bill_length_mm\": 53.47826086956522, \"pred\": \"Gentoo\"}, {\"flipper_length_mm\": 224.63768115942028, \"bill_length_mm\": 53.91304347826087, \"pred\": \"Gentoo\"}, {\"flipper_length_mm\": 224.63768115942028, \"bill_length_mm\": 54.347826086956516, \"pred\": \"Gentoo\"}, {\"flipper_length_mm\": 224.63768115942028, \"bill_length_mm\": 54.78260869565217, \"pred\": \"Gentoo\"}, {\"flipper_length_mm\": 224.63768115942028, \"bill_length_mm\": 55.21739130434783, \"pred\": \"Gentoo\"}, {\"flipper_length_mm\": 224.63768115942028, \"bill_length_mm\": 55.65217391304348, \"pred\": \"Gentoo\"}, {\"flipper_length_mm\": 224.63768115942028, \"bill_length_mm\": 56.086956521739125, \"pred\": \"Gentoo\"}, {\"flipper_length_mm\": 224.63768115942028, \"bill_length_mm\": 56.52173913043478, \"pred\": \"Gentoo\"}, {\"flipper_length_mm\": 224.63768115942028, \"bill_length_mm\": 56.95652173913044, \"pred\": \"Gentoo\"}, {\"flipper_length_mm\": 224.63768115942028, \"bill_length_mm\": 57.391304347826086, \"pred\": \"Gentoo\"}, {\"flipper_length_mm\": 224.63768115942028, \"bill_length_mm\": 57.826086956521735, \"pred\": \"Gentoo\"}, {\"flipper_length_mm\": 224.63768115942028, \"bill_length_mm\": 58.26086956521739, \"pred\": \"Gentoo\"}, {\"flipper_length_mm\": 224.63768115942028, \"bill_length_mm\": 58.69565217391305, \"pred\": \"Gentoo\"}, {\"flipper_length_mm\": 224.63768115942028, \"bill_length_mm\": 59.130434782608695, \"pred\": \"Gentoo\"}, {\"flipper_length_mm\": 224.63768115942028, \"bill_length_mm\": 59.565217391304344, \"pred\": \"Gentoo\"}, {\"flipper_length_mm\": 224.63768115942028, \"bill_length_mm\": 60.0, \"pred\": \"Gentoo\"}, {\"flipper_length_mm\": 225.57971014492753, \"bill_length_mm\": 30.0, \"pred\": \"Gentoo\"}, {\"flipper_length_mm\": 225.57971014492753, \"bill_length_mm\": 30.434782608695652, \"pred\": \"Gentoo\"}, {\"flipper_length_mm\": 225.57971014492753, \"bill_length_mm\": 30.869565217391305, \"pred\": \"Gentoo\"}, {\"flipper_length_mm\": 225.57971014492753, \"bill_length_mm\": 31.304347826086957, \"pred\": \"Gentoo\"}, {\"flipper_length_mm\": 225.57971014492753, \"bill_length_mm\": 31.73913043478261, \"pred\": \"Gentoo\"}, {\"flipper_length_mm\": 225.57971014492753, \"bill_length_mm\": 32.17391304347826, \"pred\": \"Gentoo\"}, {\"flipper_length_mm\": 225.57971014492753, \"bill_length_mm\": 32.608695652173914, \"pred\": \"Gentoo\"}, {\"flipper_length_mm\": 225.57971014492753, \"bill_length_mm\": 33.04347826086956, \"pred\": \"Gentoo\"}, {\"flipper_length_mm\": 225.57971014492753, \"bill_length_mm\": 33.47826086956522, \"pred\": \"Gentoo\"}, {\"flipper_length_mm\": 225.57971014492753, \"bill_length_mm\": 33.91304347826087, \"pred\": \"Gentoo\"}, {\"flipper_length_mm\": 225.57971014492753, \"bill_length_mm\": 34.34782608695652, \"pred\": \"Gentoo\"}, {\"flipper_length_mm\": 225.57971014492753, \"bill_length_mm\": 34.78260869565217, \"pred\": \"Gentoo\"}, {\"flipper_length_mm\": 225.57971014492753, \"bill_length_mm\": 35.21739130434783, \"pred\": \"Gentoo\"}, {\"flipper_length_mm\": 225.57971014492753, \"bill_length_mm\": 35.65217391304348, \"pred\": \"Gentoo\"}, {\"flipper_length_mm\": 225.57971014492753, \"bill_length_mm\": 36.08695652173913, \"pred\": \"Gentoo\"}, {\"flipper_length_mm\": 225.57971014492753, \"bill_length_mm\": 36.52173913043478, \"pred\": \"Gentoo\"}, {\"flipper_length_mm\": 225.57971014492753, \"bill_length_mm\": 36.95652173913044, \"pred\": \"Gentoo\"}, {\"flipper_length_mm\": 225.57971014492753, \"bill_length_mm\": 37.391304347826086, \"pred\": \"Gentoo\"}, {\"flipper_length_mm\": 225.57971014492753, \"bill_length_mm\": 37.82608695652174, \"pred\": \"Gentoo\"}, {\"flipper_length_mm\": 225.57971014492753, \"bill_length_mm\": 38.26086956521739, \"pred\": \"Gentoo\"}, {\"flipper_length_mm\": 225.57971014492753, \"bill_length_mm\": 38.69565217391305, \"pred\": \"Gentoo\"}, {\"flipper_length_mm\": 225.57971014492753, \"bill_length_mm\": 39.130434782608695, \"pred\": \"Gentoo\"}, {\"flipper_length_mm\": 225.57971014492753, \"bill_length_mm\": 39.565217391304344, \"pred\": \"Gentoo\"}, {\"flipper_length_mm\": 225.57971014492753, \"bill_length_mm\": 40.0, \"pred\": \"Gentoo\"}, {\"flipper_length_mm\": 225.57971014492753, \"bill_length_mm\": 40.434782608695656, \"pred\": \"Gentoo\"}, {\"flipper_length_mm\": 225.57971014492753, \"bill_length_mm\": 40.869565217391305, \"pred\": \"Gentoo\"}, {\"flipper_length_mm\": 225.57971014492753, \"bill_length_mm\": 41.30434782608695, \"pred\": \"Gentoo\"}, {\"flipper_length_mm\": 225.57971014492753, \"bill_length_mm\": 41.73913043478261, \"pred\": \"Gentoo\"}, {\"flipper_length_mm\": 225.57971014492753, \"bill_length_mm\": 42.17391304347826, \"pred\": \"Gentoo\"}, {\"flipper_length_mm\": 225.57971014492753, \"bill_length_mm\": 42.608695652173914, \"pred\": \"Gentoo\"}, {\"flipper_length_mm\": 225.57971014492753, \"bill_length_mm\": 43.04347826086956, \"pred\": \"Gentoo\"}, {\"flipper_length_mm\": 225.57971014492753, \"bill_length_mm\": 43.47826086956522, \"pred\": \"Gentoo\"}, {\"flipper_length_mm\": 225.57971014492753, \"bill_length_mm\": 43.91304347826087, \"pred\": \"Gentoo\"}, {\"flipper_length_mm\": 225.57971014492753, \"bill_length_mm\": 44.34782608695652, \"pred\": \"Gentoo\"}, {\"flipper_length_mm\": 225.57971014492753, \"bill_length_mm\": 44.78260869565217, \"pred\": \"Gentoo\"}, {\"flipper_length_mm\": 225.57971014492753, \"bill_length_mm\": 45.21739130434783, \"pred\": \"Gentoo\"}, {\"flipper_length_mm\": 225.57971014492753, \"bill_length_mm\": 45.65217391304348, \"pred\": \"Gentoo\"}, {\"flipper_length_mm\": 225.57971014492753, \"bill_length_mm\": 46.086956521739125, \"pred\": \"Gentoo\"}, {\"flipper_length_mm\": 225.57971014492753, \"bill_length_mm\": 46.52173913043478, \"pred\": \"Gentoo\"}, {\"flipper_length_mm\": 225.57971014492753, \"bill_length_mm\": 46.95652173913044, \"pred\": \"Gentoo\"}, {\"flipper_length_mm\": 225.57971014492753, \"bill_length_mm\": 47.391304347826086, \"pred\": \"Gentoo\"}, {\"flipper_length_mm\": 225.57971014492753, \"bill_length_mm\": 47.826086956521735, \"pred\": \"Gentoo\"}, {\"flipper_length_mm\": 225.57971014492753, \"bill_length_mm\": 48.26086956521739, \"pred\": \"Gentoo\"}, {\"flipper_length_mm\": 225.57971014492753, \"bill_length_mm\": 48.69565217391305, \"pred\": \"Gentoo\"}, {\"flipper_length_mm\": 225.57971014492753, \"bill_length_mm\": 49.130434782608695, \"pred\": \"Gentoo\"}, {\"flipper_length_mm\": 225.57971014492753, \"bill_length_mm\": 49.565217391304344, \"pred\": \"Gentoo\"}, {\"flipper_length_mm\": 225.57971014492753, \"bill_length_mm\": 50.0, \"pred\": \"Gentoo\"}, {\"flipper_length_mm\": 225.57971014492753, \"bill_length_mm\": 50.434782608695656, \"pred\": \"Gentoo\"}, {\"flipper_length_mm\": 225.57971014492753, \"bill_length_mm\": 50.869565217391305, \"pred\": \"Gentoo\"}, {\"flipper_length_mm\": 225.57971014492753, \"bill_length_mm\": 51.30434782608695, \"pred\": \"Gentoo\"}, {\"flipper_length_mm\": 225.57971014492753, \"bill_length_mm\": 51.73913043478261, \"pred\": \"Gentoo\"}, {\"flipper_length_mm\": 225.57971014492753, \"bill_length_mm\": 52.173913043478265, \"pred\": \"Gentoo\"}, {\"flipper_length_mm\": 225.57971014492753, \"bill_length_mm\": 52.608695652173914, \"pred\": \"Gentoo\"}, {\"flipper_length_mm\": 225.57971014492753, \"bill_length_mm\": 53.04347826086956, \"pred\": \"Gentoo\"}, {\"flipper_length_mm\": 225.57971014492753, \"bill_length_mm\": 53.47826086956522, \"pred\": \"Gentoo\"}, {\"flipper_length_mm\": 225.57971014492753, \"bill_length_mm\": 53.91304347826087, \"pred\": \"Gentoo\"}, {\"flipper_length_mm\": 225.57971014492753, \"bill_length_mm\": 54.347826086956516, \"pred\": \"Gentoo\"}, {\"flipper_length_mm\": 225.57971014492753, \"bill_length_mm\": 54.78260869565217, \"pred\": \"Gentoo\"}, {\"flipper_length_mm\": 225.57971014492753, \"bill_length_mm\": 55.21739130434783, \"pred\": \"Gentoo\"}, {\"flipper_length_mm\": 225.57971014492753, \"bill_length_mm\": 55.65217391304348, \"pred\": \"Gentoo\"}, {\"flipper_length_mm\": 225.57971014492753, \"bill_length_mm\": 56.086956521739125, \"pred\": \"Gentoo\"}, {\"flipper_length_mm\": 225.57971014492753, \"bill_length_mm\": 56.52173913043478, \"pred\": \"Gentoo\"}, {\"flipper_length_mm\": 225.57971014492753, \"bill_length_mm\": 56.95652173913044, \"pred\": \"Gentoo\"}, {\"flipper_length_mm\": 225.57971014492753, \"bill_length_mm\": 57.391304347826086, \"pred\": \"Gentoo\"}, {\"flipper_length_mm\": 225.57971014492753, \"bill_length_mm\": 57.826086956521735, \"pred\": \"Gentoo\"}, {\"flipper_length_mm\": 225.57971014492753, \"bill_length_mm\": 58.26086956521739, \"pred\": \"Gentoo\"}, {\"flipper_length_mm\": 225.57971014492753, \"bill_length_mm\": 58.69565217391305, \"pred\": \"Gentoo\"}, {\"flipper_length_mm\": 225.57971014492753, \"bill_length_mm\": 59.130434782608695, \"pred\": \"Gentoo\"}, {\"flipper_length_mm\": 225.57971014492753, \"bill_length_mm\": 59.565217391304344, \"pred\": \"Gentoo\"}, {\"flipper_length_mm\": 225.57971014492753, \"bill_length_mm\": 60.0, \"pred\": \"Gentoo\"}, {\"flipper_length_mm\": 226.52173913043478, \"bill_length_mm\": 30.0, \"pred\": \"Gentoo\"}, {\"flipper_length_mm\": 226.52173913043478, \"bill_length_mm\": 30.434782608695652, \"pred\": \"Gentoo\"}, {\"flipper_length_mm\": 226.52173913043478, \"bill_length_mm\": 30.869565217391305, \"pred\": \"Gentoo\"}, {\"flipper_length_mm\": 226.52173913043478, \"bill_length_mm\": 31.304347826086957, \"pred\": \"Gentoo\"}, {\"flipper_length_mm\": 226.52173913043478, \"bill_length_mm\": 31.73913043478261, \"pred\": \"Gentoo\"}, {\"flipper_length_mm\": 226.52173913043478, \"bill_length_mm\": 32.17391304347826, \"pred\": \"Gentoo\"}, {\"flipper_length_mm\": 226.52173913043478, \"bill_length_mm\": 32.608695652173914, \"pred\": \"Gentoo\"}, {\"flipper_length_mm\": 226.52173913043478, \"bill_length_mm\": 33.04347826086956, \"pred\": \"Gentoo\"}, {\"flipper_length_mm\": 226.52173913043478, \"bill_length_mm\": 33.47826086956522, \"pred\": \"Gentoo\"}, {\"flipper_length_mm\": 226.52173913043478, \"bill_length_mm\": 33.91304347826087, \"pred\": \"Gentoo\"}, {\"flipper_length_mm\": 226.52173913043478, \"bill_length_mm\": 34.34782608695652, \"pred\": \"Gentoo\"}, {\"flipper_length_mm\": 226.52173913043478, \"bill_length_mm\": 34.78260869565217, \"pred\": \"Gentoo\"}, {\"flipper_length_mm\": 226.52173913043478, \"bill_length_mm\": 35.21739130434783, \"pred\": \"Gentoo\"}, {\"flipper_length_mm\": 226.52173913043478, \"bill_length_mm\": 35.65217391304348, \"pred\": \"Gentoo\"}, {\"flipper_length_mm\": 226.52173913043478, \"bill_length_mm\": 36.08695652173913, \"pred\": \"Gentoo\"}, {\"flipper_length_mm\": 226.52173913043478, \"bill_length_mm\": 36.52173913043478, \"pred\": \"Gentoo\"}, {\"flipper_length_mm\": 226.52173913043478, \"bill_length_mm\": 36.95652173913044, \"pred\": \"Gentoo\"}, {\"flipper_length_mm\": 226.52173913043478, \"bill_length_mm\": 37.391304347826086, \"pred\": \"Gentoo\"}, {\"flipper_length_mm\": 226.52173913043478, \"bill_length_mm\": 37.82608695652174, \"pred\": \"Gentoo\"}, {\"flipper_length_mm\": 226.52173913043478, \"bill_length_mm\": 38.26086956521739, \"pred\": \"Gentoo\"}, {\"flipper_length_mm\": 226.52173913043478, \"bill_length_mm\": 38.69565217391305, \"pred\": \"Gentoo\"}, {\"flipper_length_mm\": 226.52173913043478, \"bill_length_mm\": 39.130434782608695, \"pred\": \"Gentoo\"}, {\"flipper_length_mm\": 226.52173913043478, \"bill_length_mm\": 39.565217391304344, \"pred\": \"Gentoo\"}, {\"flipper_length_mm\": 226.52173913043478, \"bill_length_mm\": 40.0, \"pred\": \"Gentoo\"}, {\"flipper_length_mm\": 226.52173913043478, \"bill_length_mm\": 40.434782608695656, \"pred\": \"Gentoo\"}, {\"flipper_length_mm\": 226.52173913043478, \"bill_length_mm\": 40.869565217391305, \"pred\": \"Gentoo\"}, {\"flipper_length_mm\": 226.52173913043478, \"bill_length_mm\": 41.30434782608695, \"pred\": \"Gentoo\"}, {\"flipper_length_mm\": 226.52173913043478, \"bill_length_mm\": 41.73913043478261, \"pred\": \"Gentoo\"}, {\"flipper_length_mm\": 226.52173913043478, \"bill_length_mm\": 42.17391304347826, \"pred\": \"Gentoo\"}, {\"flipper_length_mm\": 226.52173913043478, \"bill_length_mm\": 42.608695652173914, \"pred\": \"Gentoo\"}, {\"flipper_length_mm\": 226.52173913043478, \"bill_length_mm\": 43.04347826086956, \"pred\": \"Gentoo\"}, {\"flipper_length_mm\": 226.52173913043478, \"bill_length_mm\": 43.47826086956522, \"pred\": \"Gentoo\"}, {\"flipper_length_mm\": 226.52173913043478, \"bill_length_mm\": 43.91304347826087, \"pred\": \"Gentoo\"}, {\"flipper_length_mm\": 226.52173913043478, \"bill_length_mm\": 44.34782608695652, \"pred\": \"Gentoo\"}, {\"flipper_length_mm\": 226.52173913043478, \"bill_length_mm\": 44.78260869565217, \"pred\": \"Gentoo\"}, {\"flipper_length_mm\": 226.52173913043478, \"bill_length_mm\": 45.21739130434783, \"pred\": \"Gentoo\"}, {\"flipper_length_mm\": 226.52173913043478, \"bill_length_mm\": 45.65217391304348, \"pred\": \"Gentoo\"}, {\"flipper_length_mm\": 226.52173913043478, \"bill_length_mm\": 46.086956521739125, \"pred\": \"Gentoo\"}, {\"flipper_length_mm\": 226.52173913043478, \"bill_length_mm\": 46.52173913043478, \"pred\": \"Gentoo\"}, {\"flipper_length_mm\": 226.52173913043478, \"bill_length_mm\": 46.95652173913044, \"pred\": \"Gentoo\"}, {\"flipper_length_mm\": 226.52173913043478, \"bill_length_mm\": 47.391304347826086, \"pred\": \"Gentoo\"}, {\"flipper_length_mm\": 226.52173913043478, \"bill_length_mm\": 47.826086956521735, \"pred\": \"Gentoo\"}, {\"flipper_length_mm\": 226.52173913043478, \"bill_length_mm\": 48.26086956521739, \"pred\": \"Gentoo\"}, {\"flipper_length_mm\": 226.52173913043478, \"bill_length_mm\": 48.69565217391305, \"pred\": \"Gentoo\"}, {\"flipper_length_mm\": 226.52173913043478, \"bill_length_mm\": 49.130434782608695, \"pred\": \"Gentoo\"}, {\"flipper_length_mm\": 226.52173913043478, \"bill_length_mm\": 49.565217391304344, \"pred\": \"Gentoo\"}, {\"flipper_length_mm\": 226.52173913043478, \"bill_length_mm\": 50.0, \"pred\": \"Gentoo\"}, {\"flipper_length_mm\": 226.52173913043478, \"bill_length_mm\": 50.434782608695656, \"pred\": \"Gentoo\"}, {\"flipper_length_mm\": 226.52173913043478, \"bill_length_mm\": 50.869565217391305, \"pred\": \"Gentoo\"}, {\"flipper_length_mm\": 226.52173913043478, \"bill_length_mm\": 51.30434782608695, \"pred\": \"Gentoo\"}, {\"flipper_length_mm\": 226.52173913043478, \"bill_length_mm\": 51.73913043478261, \"pred\": \"Gentoo\"}, {\"flipper_length_mm\": 226.52173913043478, \"bill_length_mm\": 52.173913043478265, \"pred\": \"Gentoo\"}, {\"flipper_length_mm\": 226.52173913043478, \"bill_length_mm\": 52.608695652173914, \"pred\": \"Gentoo\"}, {\"flipper_length_mm\": 226.52173913043478, \"bill_length_mm\": 53.04347826086956, \"pred\": \"Gentoo\"}, {\"flipper_length_mm\": 226.52173913043478, \"bill_length_mm\": 53.47826086956522, \"pred\": \"Gentoo\"}, {\"flipper_length_mm\": 226.52173913043478, \"bill_length_mm\": 53.91304347826087, \"pred\": \"Gentoo\"}, {\"flipper_length_mm\": 226.52173913043478, \"bill_length_mm\": 54.347826086956516, \"pred\": \"Gentoo\"}, {\"flipper_length_mm\": 226.52173913043478, \"bill_length_mm\": 54.78260869565217, \"pred\": \"Gentoo\"}, {\"flipper_length_mm\": 226.52173913043478, \"bill_length_mm\": 55.21739130434783, \"pred\": \"Gentoo\"}, {\"flipper_length_mm\": 226.52173913043478, \"bill_length_mm\": 55.65217391304348, \"pred\": \"Gentoo\"}, {\"flipper_length_mm\": 226.52173913043478, \"bill_length_mm\": 56.086956521739125, \"pred\": \"Gentoo\"}, {\"flipper_length_mm\": 226.52173913043478, \"bill_length_mm\": 56.52173913043478, \"pred\": \"Gentoo\"}, {\"flipper_length_mm\": 226.52173913043478, \"bill_length_mm\": 56.95652173913044, \"pred\": \"Gentoo\"}, {\"flipper_length_mm\": 226.52173913043478, \"bill_length_mm\": 57.391304347826086, \"pred\": \"Gentoo\"}, {\"flipper_length_mm\": 226.52173913043478, \"bill_length_mm\": 57.826086956521735, \"pred\": \"Gentoo\"}, {\"flipper_length_mm\": 226.52173913043478, \"bill_length_mm\": 58.26086956521739, \"pred\": \"Gentoo\"}, {\"flipper_length_mm\": 226.52173913043478, \"bill_length_mm\": 58.69565217391305, \"pred\": \"Gentoo\"}, {\"flipper_length_mm\": 226.52173913043478, \"bill_length_mm\": 59.130434782608695, \"pred\": \"Gentoo\"}, {\"flipper_length_mm\": 226.52173913043478, \"bill_length_mm\": 59.565217391304344, \"pred\": \"Gentoo\"}, {\"flipper_length_mm\": 226.52173913043478, \"bill_length_mm\": 60.0, \"pred\": \"Gentoo\"}, {\"flipper_length_mm\": 227.46376811594203, \"bill_length_mm\": 30.0, \"pred\": \"Gentoo\"}, {\"flipper_length_mm\": 227.46376811594203, \"bill_length_mm\": 30.434782608695652, \"pred\": \"Gentoo\"}, {\"flipper_length_mm\": 227.46376811594203, \"bill_length_mm\": 30.869565217391305, \"pred\": \"Gentoo\"}, {\"flipper_length_mm\": 227.46376811594203, \"bill_length_mm\": 31.304347826086957, \"pred\": \"Gentoo\"}, {\"flipper_length_mm\": 227.46376811594203, \"bill_length_mm\": 31.73913043478261, \"pred\": \"Gentoo\"}, {\"flipper_length_mm\": 227.46376811594203, \"bill_length_mm\": 32.17391304347826, \"pred\": \"Gentoo\"}, {\"flipper_length_mm\": 227.46376811594203, \"bill_length_mm\": 32.608695652173914, \"pred\": \"Gentoo\"}, {\"flipper_length_mm\": 227.46376811594203, \"bill_length_mm\": 33.04347826086956, \"pred\": \"Gentoo\"}, {\"flipper_length_mm\": 227.46376811594203, \"bill_length_mm\": 33.47826086956522, \"pred\": \"Gentoo\"}, {\"flipper_length_mm\": 227.46376811594203, \"bill_length_mm\": 33.91304347826087, \"pred\": \"Gentoo\"}, {\"flipper_length_mm\": 227.46376811594203, \"bill_length_mm\": 34.34782608695652, \"pred\": \"Gentoo\"}, {\"flipper_length_mm\": 227.46376811594203, \"bill_length_mm\": 34.78260869565217, \"pred\": \"Gentoo\"}, {\"flipper_length_mm\": 227.46376811594203, \"bill_length_mm\": 35.21739130434783, \"pred\": \"Gentoo\"}, {\"flipper_length_mm\": 227.46376811594203, \"bill_length_mm\": 35.65217391304348, \"pred\": \"Gentoo\"}, {\"flipper_length_mm\": 227.46376811594203, \"bill_length_mm\": 36.08695652173913, \"pred\": \"Gentoo\"}, {\"flipper_length_mm\": 227.46376811594203, \"bill_length_mm\": 36.52173913043478, \"pred\": \"Gentoo\"}, {\"flipper_length_mm\": 227.46376811594203, \"bill_length_mm\": 36.95652173913044, \"pred\": \"Gentoo\"}, {\"flipper_length_mm\": 227.46376811594203, \"bill_length_mm\": 37.391304347826086, \"pred\": \"Gentoo\"}, {\"flipper_length_mm\": 227.46376811594203, \"bill_length_mm\": 37.82608695652174, \"pred\": \"Gentoo\"}, {\"flipper_length_mm\": 227.46376811594203, \"bill_length_mm\": 38.26086956521739, \"pred\": \"Gentoo\"}, {\"flipper_length_mm\": 227.46376811594203, \"bill_length_mm\": 38.69565217391305, \"pred\": \"Gentoo\"}, {\"flipper_length_mm\": 227.46376811594203, \"bill_length_mm\": 39.130434782608695, \"pred\": \"Gentoo\"}, {\"flipper_length_mm\": 227.46376811594203, \"bill_length_mm\": 39.565217391304344, \"pred\": \"Gentoo\"}, {\"flipper_length_mm\": 227.46376811594203, \"bill_length_mm\": 40.0, \"pred\": \"Gentoo\"}, {\"flipper_length_mm\": 227.46376811594203, \"bill_length_mm\": 40.434782608695656, \"pred\": \"Gentoo\"}, {\"flipper_length_mm\": 227.46376811594203, \"bill_length_mm\": 40.869565217391305, \"pred\": \"Gentoo\"}, {\"flipper_length_mm\": 227.46376811594203, \"bill_length_mm\": 41.30434782608695, \"pred\": \"Gentoo\"}, {\"flipper_length_mm\": 227.46376811594203, \"bill_length_mm\": 41.73913043478261, \"pred\": \"Gentoo\"}, {\"flipper_length_mm\": 227.46376811594203, \"bill_length_mm\": 42.17391304347826, \"pred\": \"Gentoo\"}, {\"flipper_length_mm\": 227.46376811594203, \"bill_length_mm\": 42.608695652173914, \"pred\": \"Gentoo\"}, {\"flipper_length_mm\": 227.46376811594203, \"bill_length_mm\": 43.04347826086956, \"pred\": \"Gentoo\"}, {\"flipper_length_mm\": 227.46376811594203, \"bill_length_mm\": 43.47826086956522, \"pred\": \"Gentoo\"}, {\"flipper_length_mm\": 227.46376811594203, \"bill_length_mm\": 43.91304347826087, \"pred\": \"Gentoo\"}, {\"flipper_length_mm\": 227.46376811594203, \"bill_length_mm\": 44.34782608695652, \"pred\": \"Gentoo\"}, {\"flipper_length_mm\": 227.46376811594203, \"bill_length_mm\": 44.78260869565217, \"pred\": \"Gentoo\"}, {\"flipper_length_mm\": 227.46376811594203, \"bill_length_mm\": 45.21739130434783, \"pred\": \"Gentoo\"}, {\"flipper_length_mm\": 227.46376811594203, \"bill_length_mm\": 45.65217391304348, \"pred\": \"Gentoo\"}, {\"flipper_length_mm\": 227.46376811594203, \"bill_length_mm\": 46.086956521739125, \"pred\": \"Gentoo\"}, {\"flipper_length_mm\": 227.46376811594203, \"bill_length_mm\": 46.52173913043478, \"pred\": \"Gentoo\"}, {\"flipper_length_mm\": 227.46376811594203, \"bill_length_mm\": 46.95652173913044, \"pred\": \"Gentoo\"}, {\"flipper_length_mm\": 227.46376811594203, \"bill_length_mm\": 47.391304347826086, \"pred\": \"Gentoo\"}, {\"flipper_length_mm\": 227.46376811594203, \"bill_length_mm\": 47.826086956521735, \"pred\": \"Gentoo\"}, {\"flipper_length_mm\": 227.46376811594203, \"bill_length_mm\": 48.26086956521739, \"pred\": \"Gentoo\"}, {\"flipper_length_mm\": 227.46376811594203, \"bill_length_mm\": 48.69565217391305, \"pred\": \"Gentoo\"}, {\"flipper_length_mm\": 227.46376811594203, \"bill_length_mm\": 49.130434782608695, \"pred\": \"Gentoo\"}, {\"flipper_length_mm\": 227.46376811594203, \"bill_length_mm\": 49.565217391304344, \"pred\": \"Gentoo\"}, {\"flipper_length_mm\": 227.46376811594203, \"bill_length_mm\": 50.0, \"pred\": \"Gentoo\"}, {\"flipper_length_mm\": 227.46376811594203, \"bill_length_mm\": 50.434782608695656, \"pred\": \"Gentoo\"}, {\"flipper_length_mm\": 227.46376811594203, \"bill_length_mm\": 50.869565217391305, \"pred\": \"Gentoo\"}, {\"flipper_length_mm\": 227.46376811594203, \"bill_length_mm\": 51.30434782608695, \"pred\": \"Gentoo\"}, {\"flipper_length_mm\": 227.46376811594203, \"bill_length_mm\": 51.73913043478261, \"pred\": \"Gentoo\"}, {\"flipper_length_mm\": 227.46376811594203, \"bill_length_mm\": 52.173913043478265, \"pred\": \"Gentoo\"}, {\"flipper_length_mm\": 227.46376811594203, \"bill_length_mm\": 52.608695652173914, \"pred\": \"Gentoo\"}, {\"flipper_length_mm\": 227.46376811594203, \"bill_length_mm\": 53.04347826086956, \"pred\": \"Gentoo\"}, {\"flipper_length_mm\": 227.46376811594203, \"bill_length_mm\": 53.47826086956522, \"pred\": \"Gentoo\"}, {\"flipper_length_mm\": 227.46376811594203, \"bill_length_mm\": 53.91304347826087, \"pred\": \"Gentoo\"}, {\"flipper_length_mm\": 227.46376811594203, \"bill_length_mm\": 54.347826086956516, \"pred\": \"Gentoo\"}, {\"flipper_length_mm\": 227.46376811594203, \"bill_length_mm\": 54.78260869565217, \"pred\": \"Gentoo\"}, {\"flipper_length_mm\": 227.46376811594203, \"bill_length_mm\": 55.21739130434783, \"pred\": \"Gentoo\"}, {\"flipper_length_mm\": 227.46376811594203, \"bill_length_mm\": 55.65217391304348, \"pred\": \"Gentoo\"}, {\"flipper_length_mm\": 227.46376811594203, \"bill_length_mm\": 56.086956521739125, \"pred\": \"Gentoo\"}, {\"flipper_length_mm\": 227.46376811594203, \"bill_length_mm\": 56.52173913043478, \"pred\": \"Gentoo\"}, {\"flipper_length_mm\": 227.46376811594203, \"bill_length_mm\": 56.95652173913044, \"pred\": \"Gentoo\"}, {\"flipper_length_mm\": 227.46376811594203, \"bill_length_mm\": 57.391304347826086, \"pred\": \"Gentoo\"}, {\"flipper_length_mm\": 227.46376811594203, \"bill_length_mm\": 57.826086956521735, \"pred\": \"Gentoo\"}, {\"flipper_length_mm\": 227.46376811594203, \"bill_length_mm\": 58.26086956521739, \"pred\": \"Gentoo\"}, {\"flipper_length_mm\": 227.46376811594203, \"bill_length_mm\": 58.69565217391305, \"pred\": \"Gentoo\"}, {\"flipper_length_mm\": 227.46376811594203, \"bill_length_mm\": 59.130434782608695, \"pred\": \"Gentoo\"}, {\"flipper_length_mm\": 227.46376811594203, \"bill_length_mm\": 59.565217391304344, \"pred\": \"Gentoo\"}, {\"flipper_length_mm\": 227.46376811594203, \"bill_length_mm\": 60.0, \"pred\": \"Gentoo\"}, {\"flipper_length_mm\": 228.40579710144928, \"bill_length_mm\": 30.0, \"pred\": \"Gentoo\"}, {\"flipper_length_mm\": 228.40579710144928, \"bill_length_mm\": 30.434782608695652, \"pred\": \"Gentoo\"}, {\"flipper_length_mm\": 228.40579710144928, \"bill_length_mm\": 30.869565217391305, \"pred\": \"Gentoo\"}, {\"flipper_length_mm\": 228.40579710144928, \"bill_length_mm\": 31.304347826086957, \"pred\": \"Gentoo\"}, {\"flipper_length_mm\": 228.40579710144928, \"bill_length_mm\": 31.73913043478261, \"pred\": \"Gentoo\"}, {\"flipper_length_mm\": 228.40579710144928, \"bill_length_mm\": 32.17391304347826, \"pred\": \"Gentoo\"}, {\"flipper_length_mm\": 228.40579710144928, \"bill_length_mm\": 32.608695652173914, \"pred\": \"Gentoo\"}, {\"flipper_length_mm\": 228.40579710144928, \"bill_length_mm\": 33.04347826086956, \"pred\": \"Gentoo\"}, {\"flipper_length_mm\": 228.40579710144928, \"bill_length_mm\": 33.47826086956522, \"pred\": \"Gentoo\"}, {\"flipper_length_mm\": 228.40579710144928, \"bill_length_mm\": 33.91304347826087, \"pred\": \"Gentoo\"}, {\"flipper_length_mm\": 228.40579710144928, \"bill_length_mm\": 34.34782608695652, \"pred\": \"Gentoo\"}, {\"flipper_length_mm\": 228.40579710144928, \"bill_length_mm\": 34.78260869565217, \"pred\": \"Gentoo\"}, {\"flipper_length_mm\": 228.40579710144928, \"bill_length_mm\": 35.21739130434783, \"pred\": \"Gentoo\"}, {\"flipper_length_mm\": 228.40579710144928, \"bill_length_mm\": 35.65217391304348, \"pred\": \"Gentoo\"}, {\"flipper_length_mm\": 228.40579710144928, \"bill_length_mm\": 36.08695652173913, \"pred\": \"Gentoo\"}, {\"flipper_length_mm\": 228.40579710144928, \"bill_length_mm\": 36.52173913043478, \"pred\": \"Gentoo\"}, {\"flipper_length_mm\": 228.40579710144928, \"bill_length_mm\": 36.95652173913044, \"pred\": \"Gentoo\"}, {\"flipper_length_mm\": 228.40579710144928, \"bill_length_mm\": 37.391304347826086, \"pred\": \"Gentoo\"}, {\"flipper_length_mm\": 228.40579710144928, \"bill_length_mm\": 37.82608695652174, \"pred\": \"Gentoo\"}, {\"flipper_length_mm\": 228.40579710144928, \"bill_length_mm\": 38.26086956521739, \"pred\": \"Gentoo\"}, {\"flipper_length_mm\": 228.40579710144928, \"bill_length_mm\": 38.69565217391305, \"pred\": \"Gentoo\"}, {\"flipper_length_mm\": 228.40579710144928, \"bill_length_mm\": 39.130434782608695, \"pred\": \"Gentoo\"}, {\"flipper_length_mm\": 228.40579710144928, \"bill_length_mm\": 39.565217391304344, \"pred\": \"Gentoo\"}, {\"flipper_length_mm\": 228.40579710144928, \"bill_length_mm\": 40.0, \"pred\": \"Gentoo\"}, {\"flipper_length_mm\": 228.40579710144928, \"bill_length_mm\": 40.434782608695656, \"pred\": \"Gentoo\"}, {\"flipper_length_mm\": 228.40579710144928, \"bill_length_mm\": 40.869565217391305, \"pred\": \"Gentoo\"}, {\"flipper_length_mm\": 228.40579710144928, \"bill_length_mm\": 41.30434782608695, \"pred\": \"Gentoo\"}, {\"flipper_length_mm\": 228.40579710144928, \"bill_length_mm\": 41.73913043478261, \"pred\": \"Gentoo\"}, {\"flipper_length_mm\": 228.40579710144928, \"bill_length_mm\": 42.17391304347826, \"pred\": \"Gentoo\"}, {\"flipper_length_mm\": 228.40579710144928, \"bill_length_mm\": 42.608695652173914, \"pred\": \"Gentoo\"}, {\"flipper_length_mm\": 228.40579710144928, \"bill_length_mm\": 43.04347826086956, \"pred\": \"Gentoo\"}, {\"flipper_length_mm\": 228.40579710144928, \"bill_length_mm\": 43.47826086956522, \"pred\": \"Gentoo\"}, {\"flipper_length_mm\": 228.40579710144928, \"bill_length_mm\": 43.91304347826087, \"pred\": \"Gentoo\"}, {\"flipper_length_mm\": 228.40579710144928, \"bill_length_mm\": 44.34782608695652, \"pred\": \"Gentoo\"}, {\"flipper_length_mm\": 228.40579710144928, \"bill_length_mm\": 44.78260869565217, \"pred\": \"Gentoo\"}, {\"flipper_length_mm\": 228.40579710144928, \"bill_length_mm\": 45.21739130434783, \"pred\": \"Gentoo\"}, {\"flipper_length_mm\": 228.40579710144928, \"bill_length_mm\": 45.65217391304348, \"pred\": \"Gentoo\"}, {\"flipper_length_mm\": 228.40579710144928, \"bill_length_mm\": 46.086956521739125, \"pred\": \"Gentoo\"}, {\"flipper_length_mm\": 228.40579710144928, \"bill_length_mm\": 46.52173913043478, \"pred\": \"Gentoo\"}, {\"flipper_length_mm\": 228.40579710144928, \"bill_length_mm\": 46.95652173913044, \"pred\": \"Gentoo\"}, {\"flipper_length_mm\": 228.40579710144928, \"bill_length_mm\": 47.391304347826086, \"pred\": \"Gentoo\"}, {\"flipper_length_mm\": 228.40579710144928, \"bill_length_mm\": 47.826086956521735, \"pred\": \"Gentoo\"}, {\"flipper_length_mm\": 228.40579710144928, \"bill_length_mm\": 48.26086956521739, \"pred\": \"Gentoo\"}, {\"flipper_length_mm\": 228.40579710144928, \"bill_length_mm\": 48.69565217391305, \"pred\": \"Gentoo\"}, {\"flipper_length_mm\": 228.40579710144928, \"bill_length_mm\": 49.130434782608695, \"pred\": \"Gentoo\"}, {\"flipper_length_mm\": 228.40579710144928, \"bill_length_mm\": 49.565217391304344, \"pred\": \"Gentoo\"}, {\"flipper_length_mm\": 228.40579710144928, \"bill_length_mm\": 50.0, \"pred\": \"Gentoo\"}, {\"flipper_length_mm\": 228.40579710144928, \"bill_length_mm\": 50.434782608695656, \"pred\": \"Gentoo\"}, {\"flipper_length_mm\": 228.40579710144928, \"bill_length_mm\": 50.869565217391305, \"pred\": \"Gentoo\"}, {\"flipper_length_mm\": 228.40579710144928, \"bill_length_mm\": 51.30434782608695, \"pred\": \"Gentoo\"}, {\"flipper_length_mm\": 228.40579710144928, \"bill_length_mm\": 51.73913043478261, \"pred\": \"Gentoo\"}, {\"flipper_length_mm\": 228.40579710144928, \"bill_length_mm\": 52.173913043478265, \"pred\": \"Gentoo\"}, {\"flipper_length_mm\": 228.40579710144928, \"bill_length_mm\": 52.608695652173914, \"pred\": \"Gentoo\"}, {\"flipper_length_mm\": 228.40579710144928, \"bill_length_mm\": 53.04347826086956, \"pred\": \"Gentoo\"}, {\"flipper_length_mm\": 228.40579710144928, \"bill_length_mm\": 53.47826086956522, \"pred\": \"Gentoo\"}, {\"flipper_length_mm\": 228.40579710144928, \"bill_length_mm\": 53.91304347826087, \"pred\": \"Gentoo\"}, {\"flipper_length_mm\": 228.40579710144928, \"bill_length_mm\": 54.347826086956516, \"pred\": \"Gentoo\"}, {\"flipper_length_mm\": 228.40579710144928, \"bill_length_mm\": 54.78260869565217, \"pred\": \"Gentoo\"}, {\"flipper_length_mm\": 228.40579710144928, \"bill_length_mm\": 55.21739130434783, \"pred\": \"Gentoo\"}, {\"flipper_length_mm\": 228.40579710144928, \"bill_length_mm\": 55.65217391304348, \"pred\": \"Gentoo\"}, {\"flipper_length_mm\": 228.40579710144928, \"bill_length_mm\": 56.086956521739125, \"pred\": \"Gentoo\"}, {\"flipper_length_mm\": 228.40579710144928, \"bill_length_mm\": 56.52173913043478, \"pred\": \"Gentoo\"}, {\"flipper_length_mm\": 228.40579710144928, \"bill_length_mm\": 56.95652173913044, \"pred\": \"Gentoo\"}, {\"flipper_length_mm\": 228.40579710144928, \"bill_length_mm\": 57.391304347826086, \"pred\": \"Gentoo\"}, {\"flipper_length_mm\": 228.40579710144928, \"bill_length_mm\": 57.826086956521735, \"pred\": \"Gentoo\"}, {\"flipper_length_mm\": 228.40579710144928, \"bill_length_mm\": 58.26086956521739, \"pred\": \"Gentoo\"}, {\"flipper_length_mm\": 228.40579710144928, \"bill_length_mm\": 58.69565217391305, \"pred\": \"Gentoo\"}, {\"flipper_length_mm\": 228.40579710144928, \"bill_length_mm\": 59.130434782608695, \"pred\": \"Gentoo\"}, {\"flipper_length_mm\": 228.40579710144928, \"bill_length_mm\": 59.565217391304344, \"pred\": \"Gentoo\"}, {\"flipper_length_mm\": 228.40579710144928, \"bill_length_mm\": 60.0, \"pred\": \"Gentoo\"}, {\"flipper_length_mm\": 229.3478260869565, \"bill_length_mm\": 30.0, \"pred\": \"Gentoo\"}, {\"flipper_length_mm\": 229.3478260869565, \"bill_length_mm\": 30.434782608695652, \"pred\": \"Gentoo\"}, {\"flipper_length_mm\": 229.3478260869565, \"bill_length_mm\": 30.869565217391305, \"pred\": \"Gentoo\"}, {\"flipper_length_mm\": 229.3478260869565, \"bill_length_mm\": 31.304347826086957, \"pred\": \"Gentoo\"}, {\"flipper_length_mm\": 229.3478260869565, \"bill_length_mm\": 31.73913043478261, \"pred\": \"Gentoo\"}, {\"flipper_length_mm\": 229.3478260869565, \"bill_length_mm\": 32.17391304347826, \"pred\": \"Gentoo\"}, {\"flipper_length_mm\": 229.3478260869565, \"bill_length_mm\": 32.608695652173914, \"pred\": \"Gentoo\"}, {\"flipper_length_mm\": 229.3478260869565, \"bill_length_mm\": 33.04347826086956, \"pred\": \"Gentoo\"}, {\"flipper_length_mm\": 229.3478260869565, \"bill_length_mm\": 33.47826086956522, \"pred\": \"Gentoo\"}, {\"flipper_length_mm\": 229.3478260869565, \"bill_length_mm\": 33.91304347826087, \"pred\": \"Gentoo\"}, {\"flipper_length_mm\": 229.3478260869565, \"bill_length_mm\": 34.34782608695652, \"pred\": \"Gentoo\"}, {\"flipper_length_mm\": 229.3478260869565, \"bill_length_mm\": 34.78260869565217, \"pred\": \"Gentoo\"}, {\"flipper_length_mm\": 229.3478260869565, \"bill_length_mm\": 35.21739130434783, \"pred\": \"Gentoo\"}, {\"flipper_length_mm\": 229.3478260869565, \"bill_length_mm\": 35.65217391304348, \"pred\": \"Gentoo\"}, {\"flipper_length_mm\": 229.3478260869565, \"bill_length_mm\": 36.08695652173913, \"pred\": \"Gentoo\"}, {\"flipper_length_mm\": 229.3478260869565, \"bill_length_mm\": 36.52173913043478, \"pred\": \"Gentoo\"}, {\"flipper_length_mm\": 229.3478260869565, \"bill_length_mm\": 36.95652173913044, \"pred\": \"Gentoo\"}, {\"flipper_length_mm\": 229.3478260869565, \"bill_length_mm\": 37.391304347826086, \"pred\": \"Gentoo\"}, {\"flipper_length_mm\": 229.3478260869565, \"bill_length_mm\": 37.82608695652174, \"pred\": \"Gentoo\"}, {\"flipper_length_mm\": 229.3478260869565, \"bill_length_mm\": 38.26086956521739, \"pred\": \"Gentoo\"}, {\"flipper_length_mm\": 229.3478260869565, \"bill_length_mm\": 38.69565217391305, \"pred\": \"Gentoo\"}, {\"flipper_length_mm\": 229.3478260869565, \"bill_length_mm\": 39.130434782608695, \"pred\": \"Gentoo\"}, {\"flipper_length_mm\": 229.3478260869565, \"bill_length_mm\": 39.565217391304344, \"pred\": \"Gentoo\"}, {\"flipper_length_mm\": 229.3478260869565, \"bill_length_mm\": 40.0, \"pred\": \"Gentoo\"}, {\"flipper_length_mm\": 229.3478260869565, \"bill_length_mm\": 40.434782608695656, \"pred\": \"Gentoo\"}, {\"flipper_length_mm\": 229.3478260869565, \"bill_length_mm\": 40.869565217391305, \"pred\": \"Gentoo\"}, {\"flipper_length_mm\": 229.3478260869565, \"bill_length_mm\": 41.30434782608695, \"pred\": \"Gentoo\"}, {\"flipper_length_mm\": 229.3478260869565, \"bill_length_mm\": 41.73913043478261, \"pred\": \"Gentoo\"}, {\"flipper_length_mm\": 229.3478260869565, \"bill_length_mm\": 42.17391304347826, \"pred\": \"Gentoo\"}, {\"flipper_length_mm\": 229.3478260869565, \"bill_length_mm\": 42.608695652173914, \"pred\": \"Gentoo\"}, {\"flipper_length_mm\": 229.3478260869565, \"bill_length_mm\": 43.04347826086956, \"pred\": \"Gentoo\"}, {\"flipper_length_mm\": 229.3478260869565, \"bill_length_mm\": 43.47826086956522, \"pred\": \"Gentoo\"}, {\"flipper_length_mm\": 229.3478260869565, \"bill_length_mm\": 43.91304347826087, \"pred\": \"Gentoo\"}, {\"flipper_length_mm\": 229.3478260869565, \"bill_length_mm\": 44.34782608695652, \"pred\": \"Gentoo\"}, {\"flipper_length_mm\": 229.3478260869565, \"bill_length_mm\": 44.78260869565217, \"pred\": \"Gentoo\"}, {\"flipper_length_mm\": 229.3478260869565, \"bill_length_mm\": 45.21739130434783, \"pred\": \"Gentoo\"}, {\"flipper_length_mm\": 229.3478260869565, \"bill_length_mm\": 45.65217391304348, \"pred\": \"Gentoo\"}, {\"flipper_length_mm\": 229.3478260869565, \"bill_length_mm\": 46.086956521739125, \"pred\": \"Gentoo\"}, {\"flipper_length_mm\": 229.3478260869565, \"bill_length_mm\": 46.52173913043478, \"pred\": \"Gentoo\"}, {\"flipper_length_mm\": 229.3478260869565, \"bill_length_mm\": 46.95652173913044, \"pred\": \"Gentoo\"}, {\"flipper_length_mm\": 229.3478260869565, \"bill_length_mm\": 47.391304347826086, \"pred\": \"Gentoo\"}, {\"flipper_length_mm\": 229.3478260869565, \"bill_length_mm\": 47.826086956521735, \"pred\": \"Gentoo\"}, {\"flipper_length_mm\": 229.3478260869565, \"bill_length_mm\": 48.26086956521739, \"pred\": \"Gentoo\"}, {\"flipper_length_mm\": 229.3478260869565, \"bill_length_mm\": 48.69565217391305, \"pred\": \"Gentoo\"}, {\"flipper_length_mm\": 229.3478260869565, \"bill_length_mm\": 49.130434782608695, \"pred\": \"Gentoo\"}, {\"flipper_length_mm\": 229.3478260869565, \"bill_length_mm\": 49.565217391304344, \"pred\": \"Gentoo\"}, {\"flipper_length_mm\": 229.3478260869565, \"bill_length_mm\": 50.0, \"pred\": \"Gentoo\"}, {\"flipper_length_mm\": 229.3478260869565, \"bill_length_mm\": 50.434782608695656, \"pred\": \"Gentoo\"}, {\"flipper_length_mm\": 229.3478260869565, \"bill_length_mm\": 50.869565217391305, \"pred\": \"Gentoo\"}, {\"flipper_length_mm\": 229.3478260869565, \"bill_length_mm\": 51.30434782608695, \"pred\": \"Gentoo\"}, {\"flipper_length_mm\": 229.3478260869565, \"bill_length_mm\": 51.73913043478261, \"pred\": \"Gentoo\"}, {\"flipper_length_mm\": 229.3478260869565, \"bill_length_mm\": 52.173913043478265, \"pred\": \"Gentoo\"}, {\"flipper_length_mm\": 229.3478260869565, \"bill_length_mm\": 52.608695652173914, \"pred\": \"Gentoo\"}, {\"flipper_length_mm\": 229.3478260869565, \"bill_length_mm\": 53.04347826086956, \"pred\": \"Gentoo\"}, {\"flipper_length_mm\": 229.3478260869565, \"bill_length_mm\": 53.47826086956522, \"pred\": \"Gentoo\"}, {\"flipper_length_mm\": 229.3478260869565, \"bill_length_mm\": 53.91304347826087, \"pred\": \"Gentoo\"}, {\"flipper_length_mm\": 229.3478260869565, \"bill_length_mm\": 54.347826086956516, \"pred\": \"Gentoo\"}, {\"flipper_length_mm\": 229.3478260869565, \"bill_length_mm\": 54.78260869565217, \"pred\": \"Gentoo\"}, {\"flipper_length_mm\": 229.3478260869565, \"bill_length_mm\": 55.21739130434783, \"pred\": \"Gentoo\"}, {\"flipper_length_mm\": 229.3478260869565, \"bill_length_mm\": 55.65217391304348, \"pred\": \"Gentoo\"}, {\"flipper_length_mm\": 229.3478260869565, \"bill_length_mm\": 56.086956521739125, \"pred\": \"Gentoo\"}, {\"flipper_length_mm\": 229.3478260869565, \"bill_length_mm\": 56.52173913043478, \"pred\": \"Gentoo\"}, {\"flipper_length_mm\": 229.3478260869565, \"bill_length_mm\": 56.95652173913044, \"pred\": \"Gentoo\"}, {\"flipper_length_mm\": 229.3478260869565, \"bill_length_mm\": 57.391304347826086, \"pred\": \"Gentoo\"}, {\"flipper_length_mm\": 229.3478260869565, \"bill_length_mm\": 57.826086956521735, \"pred\": \"Gentoo\"}, {\"flipper_length_mm\": 229.3478260869565, \"bill_length_mm\": 58.26086956521739, \"pred\": \"Gentoo\"}, {\"flipper_length_mm\": 229.3478260869565, \"bill_length_mm\": 58.69565217391305, \"pred\": \"Gentoo\"}, {\"flipper_length_mm\": 229.3478260869565, \"bill_length_mm\": 59.130434782608695, \"pred\": \"Gentoo\"}, {\"flipper_length_mm\": 229.3478260869565, \"bill_length_mm\": 59.565217391304344, \"pred\": \"Gentoo\"}, {\"flipper_length_mm\": 229.3478260869565, \"bill_length_mm\": 60.0, \"pred\": \"Gentoo\"}, {\"flipper_length_mm\": 230.28985507246375, \"bill_length_mm\": 30.0, \"pred\": \"Gentoo\"}, {\"flipper_length_mm\": 230.28985507246375, \"bill_length_mm\": 30.434782608695652, \"pred\": \"Gentoo\"}, {\"flipper_length_mm\": 230.28985507246375, \"bill_length_mm\": 30.869565217391305, \"pred\": \"Gentoo\"}, {\"flipper_length_mm\": 230.28985507246375, \"bill_length_mm\": 31.304347826086957, \"pred\": \"Gentoo\"}, {\"flipper_length_mm\": 230.28985507246375, \"bill_length_mm\": 31.73913043478261, \"pred\": \"Gentoo\"}, {\"flipper_length_mm\": 230.28985507246375, \"bill_length_mm\": 32.17391304347826, \"pred\": \"Gentoo\"}, {\"flipper_length_mm\": 230.28985507246375, \"bill_length_mm\": 32.608695652173914, \"pred\": \"Gentoo\"}, {\"flipper_length_mm\": 230.28985507246375, \"bill_length_mm\": 33.04347826086956, \"pred\": \"Gentoo\"}, {\"flipper_length_mm\": 230.28985507246375, \"bill_length_mm\": 33.47826086956522, \"pred\": \"Gentoo\"}, {\"flipper_length_mm\": 230.28985507246375, \"bill_length_mm\": 33.91304347826087, \"pred\": \"Gentoo\"}, {\"flipper_length_mm\": 230.28985507246375, \"bill_length_mm\": 34.34782608695652, \"pred\": \"Gentoo\"}, {\"flipper_length_mm\": 230.28985507246375, \"bill_length_mm\": 34.78260869565217, \"pred\": \"Gentoo\"}, {\"flipper_length_mm\": 230.28985507246375, \"bill_length_mm\": 35.21739130434783, \"pred\": \"Gentoo\"}, {\"flipper_length_mm\": 230.28985507246375, \"bill_length_mm\": 35.65217391304348, \"pred\": \"Gentoo\"}, {\"flipper_length_mm\": 230.28985507246375, \"bill_length_mm\": 36.08695652173913, \"pred\": \"Gentoo\"}, {\"flipper_length_mm\": 230.28985507246375, \"bill_length_mm\": 36.52173913043478, \"pred\": \"Gentoo\"}, {\"flipper_length_mm\": 230.28985507246375, \"bill_length_mm\": 36.95652173913044, \"pred\": \"Gentoo\"}, {\"flipper_length_mm\": 230.28985507246375, \"bill_length_mm\": 37.391304347826086, \"pred\": \"Gentoo\"}, {\"flipper_length_mm\": 230.28985507246375, \"bill_length_mm\": 37.82608695652174, \"pred\": \"Gentoo\"}, {\"flipper_length_mm\": 230.28985507246375, \"bill_length_mm\": 38.26086956521739, \"pred\": \"Gentoo\"}, {\"flipper_length_mm\": 230.28985507246375, \"bill_length_mm\": 38.69565217391305, \"pred\": \"Gentoo\"}, {\"flipper_length_mm\": 230.28985507246375, \"bill_length_mm\": 39.130434782608695, \"pred\": \"Gentoo\"}, {\"flipper_length_mm\": 230.28985507246375, \"bill_length_mm\": 39.565217391304344, \"pred\": \"Gentoo\"}, {\"flipper_length_mm\": 230.28985507246375, \"bill_length_mm\": 40.0, \"pred\": \"Gentoo\"}, {\"flipper_length_mm\": 230.28985507246375, \"bill_length_mm\": 40.434782608695656, \"pred\": \"Gentoo\"}, {\"flipper_length_mm\": 230.28985507246375, \"bill_length_mm\": 40.869565217391305, \"pred\": \"Gentoo\"}, {\"flipper_length_mm\": 230.28985507246375, \"bill_length_mm\": 41.30434782608695, \"pred\": \"Gentoo\"}, {\"flipper_length_mm\": 230.28985507246375, \"bill_length_mm\": 41.73913043478261, \"pred\": \"Gentoo\"}, {\"flipper_length_mm\": 230.28985507246375, \"bill_length_mm\": 42.17391304347826, \"pred\": \"Gentoo\"}, {\"flipper_length_mm\": 230.28985507246375, \"bill_length_mm\": 42.608695652173914, \"pred\": \"Gentoo\"}, {\"flipper_length_mm\": 230.28985507246375, \"bill_length_mm\": 43.04347826086956, \"pred\": \"Gentoo\"}, {\"flipper_length_mm\": 230.28985507246375, \"bill_length_mm\": 43.47826086956522, \"pred\": \"Gentoo\"}, {\"flipper_length_mm\": 230.28985507246375, \"bill_length_mm\": 43.91304347826087, \"pred\": \"Gentoo\"}, {\"flipper_length_mm\": 230.28985507246375, \"bill_length_mm\": 44.34782608695652, \"pred\": \"Gentoo\"}, {\"flipper_length_mm\": 230.28985507246375, \"bill_length_mm\": 44.78260869565217, \"pred\": \"Gentoo\"}, {\"flipper_length_mm\": 230.28985507246375, \"bill_length_mm\": 45.21739130434783, \"pred\": \"Gentoo\"}, {\"flipper_length_mm\": 230.28985507246375, \"bill_length_mm\": 45.65217391304348, \"pred\": \"Gentoo\"}, {\"flipper_length_mm\": 230.28985507246375, \"bill_length_mm\": 46.086956521739125, \"pred\": \"Gentoo\"}, {\"flipper_length_mm\": 230.28985507246375, \"bill_length_mm\": 46.52173913043478, \"pred\": \"Gentoo\"}, {\"flipper_length_mm\": 230.28985507246375, \"bill_length_mm\": 46.95652173913044, \"pred\": \"Gentoo\"}, {\"flipper_length_mm\": 230.28985507246375, \"bill_length_mm\": 47.391304347826086, \"pred\": \"Gentoo\"}, {\"flipper_length_mm\": 230.28985507246375, \"bill_length_mm\": 47.826086956521735, \"pred\": \"Gentoo\"}, {\"flipper_length_mm\": 230.28985507246375, \"bill_length_mm\": 48.26086956521739, \"pred\": \"Gentoo\"}, {\"flipper_length_mm\": 230.28985507246375, \"bill_length_mm\": 48.69565217391305, \"pred\": \"Gentoo\"}, {\"flipper_length_mm\": 230.28985507246375, \"bill_length_mm\": 49.130434782608695, \"pred\": \"Gentoo\"}, {\"flipper_length_mm\": 230.28985507246375, \"bill_length_mm\": 49.565217391304344, \"pred\": \"Gentoo\"}, {\"flipper_length_mm\": 230.28985507246375, \"bill_length_mm\": 50.0, \"pred\": \"Gentoo\"}, {\"flipper_length_mm\": 230.28985507246375, \"bill_length_mm\": 50.434782608695656, \"pred\": \"Gentoo\"}, {\"flipper_length_mm\": 230.28985507246375, \"bill_length_mm\": 50.869565217391305, \"pred\": \"Gentoo\"}, {\"flipper_length_mm\": 230.28985507246375, \"bill_length_mm\": 51.30434782608695, \"pred\": \"Gentoo\"}, {\"flipper_length_mm\": 230.28985507246375, \"bill_length_mm\": 51.73913043478261, \"pred\": \"Gentoo\"}, {\"flipper_length_mm\": 230.28985507246375, \"bill_length_mm\": 52.173913043478265, \"pred\": \"Gentoo\"}, {\"flipper_length_mm\": 230.28985507246375, \"bill_length_mm\": 52.608695652173914, \"pred\": \"Gentoo\"}, {\"flipper_length_mm\": 230.28985507246375, \"bill_length_mm\": 53.04347826086956, \"pred\": \"Gentoo\"}, {\"flipper_length_mm\": 230.28985507246375, \"bill_length_mm\": 53.47826086956522, \"pred\": \"Gentoo\"}, {\"flipper_length_mm\": 230.28985507246375, \"bill_length_mm\": 53.91304347826087, \"pred\": \"Gentoo\"}, {\"flipper_length_mm\": 230.28985507246375, \"bill_length_mm\": 54.347826086956516, \"pred\": \"Gentoo\"}, {\"flipper_length_mm\": 230.28985507246375, \"bill_length_mm\": 54.78260869565217, \"pred\": \"Gentoo\"}, {\"flipper_length_mm\": 230.28985507246375, \"bill_length_mm\": 55.21739130434783, \"pred\": \"Gentoo\"}, {\"flipper_length_mm\": 230.28985507246375, \"bill_length_mm\": 55.65217391304348, \"pred\": \"Gentoo\"}, {\"flipper_length_mm\": 230.28985507246375, \"bill_length_mm\": 56.086956521739125, \"pred\": \"Gentoo\"}, {\"flipper_length_mm\": 230.28985507246375, \"bill_length_mm\": 56.52173913043478, \"pred\": \"Gentoo\"}, {\"flipper_length_mm\": 230.28985507246375, \"bill_length_mm\": 56.95652173913044, \"pred\": \"Gentoo\"}, {\"flipper_length_mm\": 230.28985507246375, \"bill_length_mm\": 57.391304347826086, \"pred\": \"Gentoo\"}, {\"flipper_length_mm\": 230.28985507246375, \"bill_length_mm\": 57.826086956521735, \"pred\": \"Gentoo\"}, {\"flipper_length_mm\": 230.28985507246375, \"bill_length_mm\": 58.26086956521739, \"pred\": \"Gentoo\"}, {\"flipper_length_mm\": 230.28985507246375, \"bill_length_mm\": 58.69565217391305, \"pred\": \"Gentoo\"}, {\"flipper_length_mm\": 230.28985507246375, \"bill_length_mm\": 59.130434782608695, \"pred\": \"Gentoo\"}, {\"flipper_length_mm\": 230.28985507246375, \"bill_length_mm\": 59.565217391304344, \"pred\": \"Gentoo\"}, {\"flipper_length_mm\": 230.28985507246375, \"bill_length_mm\": 60.0, \"pred\": \"Gentoo\"}, {\"flipper_length_mm\": 231.231884057971, \"bill_length_mm\": 30.0, \"pred\": \"Gentoo\"}, {\"flipper_length_mm\": 231.231884057971, \"bill_length_mm\": 30.434782608695652, \"pred\": \"Gentoo\"}, {\"flipper_length_mm\": 231.231884057971, \"bill_length_mm\": 30.869565217391305, \"pred\": \"Gentoo\"}, {\"flipper_length_mm\": 231.231884057971, \"bill_length_mm\": 31.304347826086957, \"pred\": \"Gentoo\"}, {\"flipper_length_mm\": 231.231884057971, \"bill_length_mm\": 31.73913043478261, \"pred\": \"Gentoo\"}, {\"flipper_length_mm\": 231.231884057971, \"bill_length_mm\": 32.17391304347826, \"pred\": \"Gentoo\"}, {\"flipper_length_mm\": 231.231884057971, \"bill_length_mm\": 32.608695652173914, \"pred\": \"Gentoo\"}, {\"flipper_length_mm\": 231.231884057971, \"bill_length_mm\": 33.04347826086956, \"pred\": \"Gentoo\"}, {\"flipper_length_mm\": 231.231884057971, \"bill_length_mm\": 33.47826086956522, \"pred\": \"Gentoo\"}, {\"flipper_length_mm\": 231.231884057971, \"bill_length_mm\": 33.91304347826087, \"pred\": \"Gentoo\"}, {\"flipper_length_mm\": 231.231884057971, \"bill_length_mm\": 34.34782608695652, \"pred\": \"Gentoo\"}, {\"flipper_length_mm\": 231.231884057971, \"bill_length_mm\": 34.78260869565217, \"pred\": \"Gentoo\"}, {\"flipper_length_mm\": 231.231884057971, \"bill_length_mm\": 35.21739130434783, \"pred\": \"Gentoo\"}, {\"flipper_length_mm\": 231.231884057971, \"bill_length_mm\": 35.65217391304348, \"pred\": \"Gentoo\"}, {\"flipper_length_mm\": 231.231884057971, \"bill_length_mm\": 36.08695652173913, \"pred\": \"Gentoo\"}, {\"flipper_length_mm\": 231.231884057971, \"bill_length_mm\": 36.52173913043478, \"pred\": \"Gentoo\"}, {\"flipper_length_mm\": 231.231884057971, \"bill_length_mm\": 36.95652173913044, \"pred\": \"Gentoo\"}, {\"flipper_length_mm\": 231.231884057971, \"bill_length_mm\": 37.391304347826086, \"pred\": \"Gentoo\"}, {\"flipper_length_mm\": 231.231884057971, \"bill_length_mm\": 37.82608695652174, \"pred\": \"Gentoo\"}, {\"flipper_length_mm\": 231.231884057971, \"bill_length_mm\": 38.26086956521739, \"pred\": \"Gentoo\"}, {\"flipper_length_mm\": 231.231884057971, \"bill_length_mm\": 38.69565217391305, \"pred\": \"Gentoo\"}, {\"flipper_length_mm\": 231.231884057971, \"bill_length_mm\": 39.130434782608695, \"pred\": \"Gentoo\"}, {\"flipper_length_mm\": 231.231884057971, \"bill_length_mm\": 39.565217391304344, \"pred\": \"Gentoo\"}, {\"flipper_length_mm\": 231.231884057971, \"bill_length_mm\": 40.0, \"pred\": \"Gentoo\"}, {\"flipper_length_mm\": 231.231884057971, \"bill_length_mm\": 40.434782608695656, \"pred\": \"Gentoo\"}, {\"flipper_length_mm\": 231.231884057971, \"bill_length_mm\": 40.869565217391305, \"pred\": \"Gentoo\"}, {\"flipper_length_mm\": 231.231884057971, \"bill_length_mm\": 41.30434782608695, \"pred\": \"Gentoo\"}, {\"flipper_length_mm\": 231.231884057971, \"bill_length_mm\": 41.73913043478261, \"pred\": \"Gentoo\"}, {\"flipper_length_mm\": 231.231884057971, \"bill_length_mm\": 42.17391304347826, \"pred\": \"Gentoo\"}, {\"flipper_length_mm\": 231.231884057971, \"bill_length_mm\": 42.608695652173914, \"pred\": \"Gentoo\"}, {\"flipper_length_mm\": 231.231884057971, \"bill_length_mm\": 43.04347826086956, \"pred\": \"Gentoo\"}, {\"flipper_length_mm\": 231.231884057971, \"bill_length_mm\": 43.47826086956522, \"pred\": \"Gentoo\"}, {\"flipper_length_mm\": 231.231884057971, \"bill_length_mm\": 43.91304347826087, \"pred\": \"Gentoo\"}, {\"flipper_length_mm\": 231.231884057971, \"bill_length_mm\": 44.34782608695652, \"pred\": \"Gentoo\"}, {\"flipper_length_mm\": 231.231884057971, \"bill_length_mm\": 44.78260869565217, \"pred\": \"Gentoo\"}, {\"flipper_length_mm\": 231.231884057971, \"bill_length_mm\": 45.21739130434783, \"pred\": \"Gentoo\"}, {\"flipper_length_mm\": 231.231884057971, \"bill_length_mm\": 45.65217391304348, \"pred\": \"Gentoo\"}, {\"flipper_length_mm\": 231.231884057971, \"bill_length_mm\": 46.086956521739125, \"pred\": \"Gentoo\"}, {\"flipper_length_mm\": 231.231884057971, \"bill_length_mm\": 46.52173913043478, \"pred\": \"Gentoo\"}, {\"flipper_length_mm\": 231.231884057971, \"bill_length_mm\": 46.95652173913044, \"pred\": \"Gentoo\"}, {\"flipper_length_mm\": 231.231884057971, \"bill_length_mm\": 47.391304347826086, \"pred\": \"Gentoo\"}, {\"flipper_length_mm\": 231.231884057971, \"bill_length_mm\": 47.826086956521735, \"pred\": \"Gentoo\"}, {\"flipper_length_mm\": 231.231884057971, \"bill_length_mm\": 48.26086956521739, \"pred\": \"Gentoo\"}, {\"flipper_length_mm\": 231.231884057971, \"bill_length_mm\": 48.69565217391305, \"pred\": \"Gentoo\"}, {\"flipper_length_mm\": 231.231884057971, \"bill_length_mm\": 49.130434782608695, \"pred\": \"Gentoo\"}, {\"flipper_length_mm\": 231.231884057971, \"bill_length_mm\": 49.565217391304344, \"pred\": \"Gentoo\"}, {\"flipper_length_mm\": 231.231884057971, \"bill_length_mm\": 50.0, \"pred\": \"Gentoo\"}, {\"flipper_length_mm\": 231.231884057971, \"bill_length_mm\": 50.434782608695656, \"pred\": \"Gentoo\"}, {\"flipper_length_mm\": 231.231884057971, \"bill_length_mm\": 50.869565217391305, \"pred\": \"Gentoo\"}, {\"flipper_length_mm\": 231.231884057971, \"bill_length_mm\": 51.30434782608695, \"pred\": \"Gentoo\"}, {\"flipper_length_mm\": 231.231884057971, \"bill_length_mm\": 51.73913043478261, \"pred\": \"Gentoo\"}, {\"flipper_length_mm\": 231.231884057971, \"bill_length_mm\": 52.173913043478265, \"pred\": \"Gentoo\"}, {\"flipper_length_mm\": 231.231884057971, \"bill_length_mm\": 52.608695652173914, \"pred\": \"Gentoo\"}, {\"flipper_length_mm\": 231.231884057971, \"bill_length_mm\": 53.04347826086956, \"pred\": \"Gentoo\"}, {\"flipper_length_mm\": 231.231884057971, \"bill_length_mm\": 53.47826086956522, \"pred\": \"Gentoo\"}, {\"flipper_length_mm\": 231.231884057971, \"bill_length_mm\": 53.91304347826087, \"pred\": \"Gentoo\"}, {\"flipper_length_mm\": 231.231884057971, \"bill_length_mm\": 54.347826086956516, \"pred\": \"Gentoo\"}, {\"flipper_length_mm\": 231.231884057971, \"bill_length_mm\": 54.78260869565217, \"pred\": \"Gentoo\"}, {\"flipper_length_mm\": 231.231884057971, \"bill_length_mm\": 55.21739130434783, \"pred\": \"Gentoo\"}, {\"flipper_length_mm\": 231.231884057971, \"bill_length_mm\": 55.65217391304348, \"pred\": \"Gentoo\"}, {\"flipper_length_mm\": 231.231884057971, \"bill_length_mm\": 56.086956521739125, \"pred\": \"Gentoo\"}, {\"flipper_length_mm\": 231.231884057971, \"bill_length_mm\": 56.52173913043478, \"pred\": \"Gentoo\"}, {\"flipper_length_mm\": 231.231884057971, \"bill_length_mm\": 56.95652173913044, \"pred\": \"Gentoo\"}, {\"flipper_length_mm\": 231.231884057971, \"bill_length_mm\": 57.391304347826086, \"pred\": \"Gentoo\"}, {\"flipper_length_mm\": 231.231884057971, \"bill_length_mm\": 57.826086956521735, \"pred\": \"Gentoo\"}, {\"flipper_length_mm\": 231.231884057971, \"bill_length_mm\": 58.26086956521739, \"pred\": \"Gentoo\"}, {\"flipper_length_mm\": 231.231884057971, \"bill_length_mm\": 58.69565217391305, \"pred\": \"Gentoo\"}, {\"flipper_length_mm\": 231.231884057971, \"bill_length_mm\": 59.130434782608695, \"pred\": \"Gentoo\"}, {\"flipper_length_mm\": 231.231884057971, \"bill_length_mm\": 59.565217391304344, \"pred\": \"Gentoo\"}, {\"flipper_length_mm\": 231.231884057971, \"bill_length_mm\": 60.0, \"pred\": \"Gentoo\"}, {\"flipper_length_mm\": 232.17391304347825, \"bill_length_mm\": 30.0, \"pred\": \"Gentoo\"}, {\"flipper_length_mm\": 232.17391304347825, \"bill_length_mm\": 30.434782608695652, \"pred\": \"Gentoo\"}, {\"flipper_length_mm\": 232.17391304347825, \"bill_length_mm\": 30.869565217391305, \"pred\": \"Gentoo\"}, {\"flipper_length_mm\": 232.17391304347825, \"bill_length_mm\": 31.304347826086957, \"pred\": \"Gentoo\"}, {\"flipper_length_mm\": 232.17391304347825, \"bill_length_mm\": 31.73913043478261, \"pred\": \"Gentoo\"}, {\"flipper_length_mm\": 232.17391304347825, \"bill_length_mm\": 32.17391304347826, \"pred\": \"Gentoo\"}, {\"flipper_length_mm\": 232.17391304347825, \"bill_length_mm\": 32.608695652173914, \"pred\": \"Gentoo\"}, {\"flipper_length_mm\": 232.17391304347825, \"bill_length_mm\": 33.04347826086956, \"pred\": \"Gentoo\"}, {\"flipper_length_mm\": 232.17391304347825, \"bill_length_mm\": 33.47826086956522, \"pred\": \"Gentoo\"}, {\"flipper_length_mm\": 232.17391304347825, \"bill_length_mm\": 33.91304347826087, \"pred\": \"Gentoo\"}, {\"flipper_length_mm\": 232.17391304347825, \"bill_length_mm\": 34.34782608695652, \"pred\": \"Gentoo\"}, {\"flipper_length_mm\": 232.17391304347825, \"bill_length_mm\": 34.78260869565217, \"pred\": \"Gentoo\"}, {\"flipper_length_mm\": 232.17391304347825, \"bill_length_mm\": 35.21739130434783, \"pred\": \"Gentoo\"}, {\"flipper_length_mm\": 232.17391304347825, \"bill_length_mm\": 35.65217391304348, \"pred\": \"Gentoo\"}, {\"flipper_length_mm\": 232.17391304347825, \"bill_length_mm\": 36.08695652173913, \"pred\": \"Gentoo\"}, {\"flipper_length_mm\": 232.17391304347825, \"bill_length_mm\": 36.52173913043478, \"pred\": \"Gentoo\"}, {\"flipper_length_mm\": 232.17391304347825, \"bill_length_mm\": 36.95652173913044, \"pred\": \"Gentoo\"}, {\"flipper_length_mm\": 232.17391304347825, \"bill_length_mm\": 37.391304347826086, \"pred\": \"Gentoo\"}, {\"flipper_length_mm\": 232.17391304347825, \"bill_length_mm\": 37.82608695652174, \"pred\": \"Gentoo\"}, {\"flipper_length_mm\": 232.17391304347825, \"bill_length_mm\": 38.26086956521739, \"pred\": \"Gentoo\"}, {\"flipper_length_mm\": 232.17391304347825, \"bill_length_mm\": 38.69565217391305, \"pred\": \"Gentoo\"}, {\"flipper_length_mm\": 232.17391304347825, \"bill_length_mm\": 39.130434782608695, \"pred\": \"Gentoo\"}, {\"flipper_length_mm\": 232.17391304347825, \"bill_length_mm\": 39.565217391304344, \"pred\": \"Gentoo\"}, {\"flipper_length_mm\": 232.17391304347825, \"bill_length_mm\": 40.0, \"pred\": \"Gentoo\"}, {\"flipper_length_mm\": 232.17391304347825, \"bill_length_mm\": 40.434782608695656, \"pred\": \"Gentoo\"}, {\"flipper_length_mm\": 232.17391304347825, \"bill_length_mm\": 40.869565217391305, \"pred\": \"Gentoo\"}, {\"flipper_length_mm\": 232.17391304347825, \"bill_length_mm\": 41.30434782608695, \"pred\": \"Gentoo\"}, {\"flipper_length_mm\": 232.17391304347825, \"bill_length_mm\": 41.73913043478261, \"pred\": \"Gentoo\"}, {\"flipper_length_mm\": 232.17391304347825, \"bill_length_mm\": 42.17391304347826, \"pred\": \"Gentoo\"}, {\"flipper_length_mm\": 232.17391304347825, \"bill_length_mm\": 42.608695652173914, \"pred\": \"Gentoo\"}, {\"flipper_length_mm\": 232.17391304347825, \"bill_length_mm\": 43.04347826086956, \"pred\": \"Gentoo\"}, {\"flipper_length_mm\": 232.17391304347825, \"bill_length_mm\": 43.47826086956522, \"pred\": \"Gentoo\"}, {\"flipper_length_mm\": 232.17391304347825, \"bill_length_mm\": 43.91304347826087, \"pred\": \"Gentoo\"}, {\"flipper_length_mm\": 232.17391304347825, \"bill_length_mm\": 44.34782608695652, \"pred\": \"Gentoo\"}, {\"flipper_length_mm\": 232.17391304347825, \"bill_length_mm\": 44.78260869565217, \"pred\": \"Gentoo\"}, {\"flipper_length_mm\": 232.17391304347825, \"bill_length_mm\": 45.21739130434783, \"pred\": \"Gentoo\"}, {\"flipper_length_mm\": 232.17391304347825, \"bill_length_mm\": 45.65217391304348, \"pred\": \"Gentoo\"}, {\"flipper_length_mm\": 232.17391304347825, \"bill_length_mm\": 46.086956521739125, \"pred\": \"Gentoo\"}, {\"flipper_length_mm\": 232.17391304347825, \"bill_length_mm\": 46.52173913043478, \"pred\": \"Gentoo\"}, {\"flipper_length_mm\": 232.17391304347825, \"bill_length_mm\": 46.95652173913044, \"pred\": \"Gentoo\"}, {\"flipper_length_mm\": 232.17391304347825, \"bill_length_mm\": 47.391304347826086, \"pred\": \"Gentoo\"}, {\"flipper_length_mm\": 232.17391304347825, \"bill_length_mm\": 47.826086956521735, \"pred\": \"Gentoo\"}, {\"flipper_length_mm\": 232.17391304347825, \"bill_length_mm\": 48.26086956521739, \"pred\": \"Gentoo\"}, {\"flipper_length_mm\": 232.17391304347825, \"bill_length_mm\": 48.69565217391305, \"pred\": \"Gentoo\"}, {\"flipper_length_mm\": 232.17391304347825, \"bill_length_mm\": 49.130434782608695, \"pred\": \"Gentoo\"}, {\"flipper_length_mm\": 232.17391304347825, \"bill_length_mm\": 49.565217391304344, \"pred\": \"Gentoo\"}, {\"flipper_length_mm\": 232.17391304347825, \"bill_length_mm\": 50.0, \"pred\": \"Gentoo\"}, {\"flipper_length_mm\": 232.17391304347825, \"bill_length_mm\": 50.434782608695656, \"pred\": \"Gentoo\"}, {\"flipper_length_mm\": 232.17391304347825, \"bill_length_mm\": 50.869565217391305, \"pred\": \"Gentoo\"}, {\"flipper_length_mm\": 232.17391304347825, \"bill_length_mm\": 51.30434782608695, \"pred\": \"Gentoo\"}, {\"flipper_length_mm\": 232.17391304347825, \"bill_length_mm\": 51.73913043478261, \"pred\": \"Gentoo\"}, {\"flipper_length_mm\": 232.17391304347825, \"bill_length_mm\": 52.173913043478265, \"pred\": \"Gentoo\"}, {\"flipper_length_mm\": 232.17391304347825, \"bill_length_mm\": 52.608695652173914, \"pred\": \"Gentoo\"}, {\"flipper_length_mm\": 232.17391304347825, \"bill_length_mm\": 53.04347826086956, \"pred\": \"Gentoo\"}, {\"flipper_length_mm\": 232.17391304347825, \"bill_length_mm\": 53.47826086956522, \"pred\": \"Gentoo\"}, {\"flipper_length_mm\": 232.17391304347825, \"bill_length_mm\": 53.91304347826087, \"pred\": \"Gentoo\"}, {\"flipper_length_mm\": 232.17391304347825, \"bill_length_mm\": 54.347826086956516, \"pred\": \"Gentoo\"}, {\"flipper_length_mm\": 232.17391304347825, \"bill_length_mm\": 54.78260869565217, \"pred\": \"Gentoo\"}, {\"flipper_length_mm\": 232.17391304347825, \"bill_length_mm\": 55.21739130434783, \"pred\": \"Gentoo\"}, {\"flipper_length_mm\": 232.17391304347825, \"bill_length_mm\": 55.65217391304348, \"pred\": \"Gentoo\"}, {\"flipper_length_mm\": 232.17391304347825, \"bill_length_mm\": 56.086956521739125, \"pred\": \"Gentoo\"}, {\"flipper_length_mm\": 232.17391304347825, \"bill_length_mm\": 56.52173913043478, \"pred\": \"Gentoo\"}, {\"flipper_length_mm\": 232.17391304347825, \"bill_length_mm\": 56.95652173913044, \"pred\": \"Gentoo\"}, {\"flipper_length_mm\": 232.17391304347825, \"bill_length_mm\": 57.391304347826086, \"pred\": \"Gentoo\"}, {\"flipper_length_mm\": 232.17391304347825, \"bill_length_mm\": 57.826086956521735, \"pred\": \"Gentoo\"}, {\"flipper_length_mm\": 232.17391304347825, \"bill_length_mm\": 58.26086956521739, \"pred\": \"Gentoo\"}, {\"flipper_length_mm\": 232.17391304347825, \"bill_length_mm\": 58.69565217391305, \"pred\": \"Gentoo\"}, {\"flipper_length_mm\": 232.17391304347825, \"bill_length_mm\": 59.130434782608695, \"pred\": \"Gentoo\"}, {\"flipper_length_mm\": 232.17391304347825, \"bill_length_mm\": 59.565217391304344, \"pred\": \"Gentoo\"}, {\"flipper_length_mm\": 232.17391304347825, \"bill_length_mm\": 60.0, \"pred\": \"Gentoo\"}, {\"flipper_length_mm\": 233.1159420289855, \"bill_length_mm\": 30.0, \"pred\": \"Gentoo\"}, {\"flipper_length_mm\": 233.1159420289855, \"bill_length_mm\": 30.434782608695652, \"pred\": \"Gentoo\"}, {\"flipper_length_mm\": 233.1159420289855, \"bill_length_mm\": 30.869565217391305, \"pred\": \"Gentoo\"}, {\"flipper_length_mm\": 233.1159420289855, \"bill_length_mm\": 31.304347826086957, \"pred\": \"Gentoo\"}, {\"flipper_length_mm\": 233.1159420289855, \"bill_length_mm\": 31.73913043478261, \"pred\": \"Gentoo\"}, {\"flipper_length_mm\": 233.1159420289855, \"bill_length_mm\": 32.17391304347826, \"pred\": \"Gentoo\"}, {\"flipper_length_mm\": 233.1159420289855, \"bill_length_mm\": 32.608695652173914, \"pred\": \"Gentoo\"}, {\"flipper_length_mm\": 233.1159420289855, \"bill_length_mm\": 33.04347826086956, \"pred\": \"Gentoo\"}, {\"flipper_length_mm\": 233.1159420289855, \"bill_length_mm\": 33.47826086956522, \"pred\": \"Gentoo\"}, {\"flipper_length_mm\": 233.1159420289855, \"bill_length_mm\": 33.91304347826087, \"pred\": \"Gentoo\"}, {\"flipper_length_mm\": 233.1159420289855, \"bill_length_mm\": 34.34782608695652, \"pred\": \"Gentoo\"}, {\"flipper_length_mm\": 233.1159420289855, \"bill_length_mm\": 34.78260869565217, \"pred\": \"Gentoo\"}, {\"flipper_length_mm\": 233.1159420289855, \"bill_length_mm\": 35.21739130434783, \"pred\": \"Gentoo\"}, {\"flipper_length_mm\": 233.1159420289855, \"bill_length_mm\": 35.65217391304348, \"pred\": \"Gentoo\"}, {\"flipper_length_mm\": 233.1159420289855, \"bill_length_mm\": 36.08695652173913, \"pred\": \"Gentoo\"}, {\"flipper_length_mm\": 233.1159420289855, \"bill_length_mm\": 36.52173913043478, \"pred\": \"Gentoo\"}, {\"flipper_length_mm\": 233.1159420289855, \"bill_length_mm\": 36.95652173913044, \"pred\": \"Gentoo\"}, {\"flipper_length_mm\": 233.1159420289855, \"bill_length_mm\": 37.391304347826086, \"pred\": \"Gentoo\"}, {\"flipper_length_mm\": 233.1159420289855, \"bill_length_mm\": 37.82608695652174, \"pred\": \"Gentoo\"}, {\"flipper_length_mm\": 233.1159420289855, \"bill_length_mm\": 38.26086956521739, \"pred\": \"Gentoo\"}, {\"flipper_length_mm\": 233.1159420289855, \"bill_length_mm\": 38.69565217391305, \"pred\": \"Gentoo\"}, {\"flipper_length_mm\": 233.1159420289855, \"bill_length_mm\": 39.130434782608695, \"pred\": \"Gentoo\"}, {\"flipper_length_mm\": 233.1159420289855, \"bill_length_mm\": 39.565217391304344, \"pred\": \"Gentoo\"}, {\"flipper_length_mm\": 233.1159420289855, \"bill_length_mm\": 40.0, \"pred\": \"Gentoo\"}, {\"flipper_length_mm\": 233.1159420289855, \"bill_length_mm\": 40.434782608695656, \"pred\": \"Gentoo\"}, {\"flipper_length_mm\": 233.1159420289855, \"bill_length_mm\": 40.869565217391305, \"pred\": \"Gentoo\"}, {\"flipper_length_mm\": 233.1159420289855, \"bill_length_mm\": 41.30434782608695, \"pred\": \"Gentoo\"}, {\"flipper_length_mm\": 233.1159420289855, \"bill_length_mm\": 41.73913043478261, \"pred\": \"Gentoo\"}, {\"flipper_length_mm\": 233.1159420289855, \"bill_length_mm\": 42.17391304347826, \"pred\": \"Gentoo\"}, {\"flipper_length_mm\": 233.1159420289855, \"bill_length_mm\": 42.608695652173914, \"pred\": \"Gentoo\"}, {\"flipper_length_mm\": 233.1159420289855, \"bill_length_mm\": 43.04347826086956, \"pred\": \"Gentoo\"}, {\"flipper_length_mm\": 233.1159420289855, \"bill_length_mm\": 43.47826086956522, \"pred\": \"Gentoo\"}, {\"flipper_length_mm\": 233.1159420289855, \"bill_length_mm\": 43.91304347826087, \"pred\": \"Gentoo\"}, {\"flipper_length_mm\": 233.1159420289855, \"bill_length_mm\": 44.34782608695652, \"pred\": \"Gentoo\"}, {\"flipper_length_mm\": 233.1159420289855, \"bill_length_mm\": 44.78260869565217, \"pred\": \"Gentoo\"}, {\"flipper_length_mm\": 233.1159420289855, \"bill_length_mm\": 45.21739130434783, \"pred\": \"Gentoo\"}, {\"flipper_length_mm\": 233.1159420289855, \"bill_length_mm\": 45.65217391304348, \"pred\": \"Gentoo\"}, {\"flipper_length_mm\": 233.1159420289855, \"bill_length_mm\": 46.086956521739125, \"pred\": \"Gentoo\"}, {\"flipper_length_mm\": 233.1159420289855, \"bill_length_mm\": 46.52173913043478, \"pred\": \"Gentoo\"}, {\"flipper_length_mm\": 233.1159420289855, \"bill_length_mm\": 46.95652173913044, \"pred\": \"Gentoo\"}, {\"flipper_length_mm\": 233.1159420289855, \"bill_length_mm\": 47.391304347826086, \"pred\": \"Gentoo\"}, {\"flipper_length_mm\": 233.1159420289855, \"bill_length_mm\": 47.826086956521735, \"pred\": \"Gentoo\"}, {\"flipper_length_mm\": 233.1159420289855, \"bill_length_mm\": 48.26086956521739, \"pred\": \"Gentoo\"}, {\"flipper_length_mm\": 233.1159420289855, \"bill_length_mm\": 48.69565217391305, \"pred\": \"Gentoo\"}, {\"flipper_length_mm\": 233.1159420289855, \"bill_length_mm\": 49.130434782608695, \"pred\": \"Gentoo\"}, {\"flipper_length_mm\": 233.1159420289855, \"bill_length_mm\": 49.565217391304344, \"pred\": \"Gentoo\"}, {\"flipper_length_mm\": 233.1159420289855, \"bill_length_mm\": 50.0, \"pred\": \"Gentoo\"}, {\"flipper_length_mm\": 233.1159420289855, \"bill_length_mm\": 50.434782608695656, \"pred\": \"Gentoo\"}, {\"flipper_length_mm\": 233.1159420289855, \"bill_length_mm\": 50.869565217391305, \"pred\": \"Gentoo\"}, {\"flipper_length_mm\": 233.1159420289855, \"bill_length_mm\": 51.30434782608695, \"pred\": \"Gentoo\"}, {\"flipper_length_mm\": 233.1159420289855, \"bill_length_mm\": 51.73913043478261, \"pred\": \"Gentoo\"}, {\"flipper_length_mm\": 233.1159420289855, \"bill_length_mm\": 52.173913043478265, \"pred\": \"Gentoo\"}, {\"flipper_length_mm\": 233.1159420289855, \"bill_length_mm\": 52.608695652173914, \"pred\": \"Gentoo\"}, {\"flipper_length_mm\": 233.1159420289855, \"bill_length_mm\": 53.04347826086956, \"pred\": \"Gentoo\"}, {\"flipper_length_mm\": 233.1159420289855, \"bill_length_mm\": 53.47826086956522, \"pred\": \"Gentoo\"}, {\"flipper_length_mm\": 233.1159420289855, \"bill_length_mm\": 53.91304347826087, \"pred\": \"Gentoo\"}, {\"flipper_length_mm\": 233.1159420289855, \"bill_length_mm\": 54.347826086956516, \"pred\": \"Gentoo\"}, {\"flipper_length_mm\": 233.1159420289855, \"bill_length_mm\": 54.78260869565217, \"pred\": \"Gentoo\"}, {\"flipper_length_mm\": 233.1159420289855, \"bill_length_mm\": 55.21739130434783, \"pred\": \"Gentoo\"}, {\"flipper_length_mm\": 233.1159420289855, \"bill_length_mm\": 55.65217391304348, \"pred\": \"Gentoo\"}, {\"flipper_length_mm\": 233.1159420289855, \"bill_length_mm\": 56.086956521739125, \"pred\": \"Gentoo\"}, {\"flipper_length_mm\": 233.1159420289855, \"bill_length_mm\": 56.52173913043478, \"pred\": \"Gentoo\"}, {\"flipper_length_mm\": 233.1159420289855, \"bill_length_mm\": 56.95652173913044, \"pred\": \"Gentoo\"}, {\"flipper_length_mm\": 233.1159420289855, \"bill_length_mm\": 57.391304347826086, \"pred\": \"Gentoo\"}, {\"flipper_length_mm\": 233.1159420289855, \"bill_length_mm\": 57.826086956521735, \"pred\": \"Gentoo\"}, {\"flipper_length_mm\": 233.1159420289855, \"bill_length_mm\": 58.26086956521739, \"pred\": \"Gentoo\"}, {\"flipper_length_mm\": 233.1159420289855, \"bill_length_mm\": 58.69565217391305, \"pred\": \"Gentoo\"}, {\"flipper_length_mm\": 233.1159420289855, \"bill_length_mm\": 59.130434782608695, \"pred\": \"Gentoo\"}, {\"flipper_length_mm\": 233.1159420289855, \"bill_length_mm\": 59.565217391304344, \"pred\": \"Gentoo\"}, {\"flipper_length_mm\": 233.1159420289855, \"bill_length_mm\": 60.0, \"pred\": \"Gentoo\"}, {\"flipper_length_mm\": 234.05797101449275, \"bill_length_mm\": 30.0, \"pred\": \"Gentoo\"}, {\"flipper_length_mm\": 234.05797101449275, \"bill_length_mm\": 30.434782608695652, \"pred\": \"Gentoo\"}, {\"flipper_length_mm\": 234.05797101449275, \"bill_length_mm\": 30.869565217391305, \"pred\": \"Gentoo\"}, {\"flipper_length_mm\": 234.05797101449275, \"bill_length_mm\": 31.304347826086957, \"pred\": \"Gentoo\"}, {\"flipper_length_mm\": 234.05797101449275, \"bill_length_mm\": 31.73913043478261, \"pred\": \"Gentoo\"}, {\"flipper_length_mm\": 234.05797101449275, \"bill_length_mm\": 32.17391304347826, \"pred\": \"Gentoo\"}, {\"flipper_length_mm\": 234.05797101449275, \"bill_length_mm\": 32.608695652173914, \"pred\": \"Gentoo\"}, {\"flipper_length_mm\": 234.05797101449275, \"bill_length_mm\": 33.04347826086956, \"pred\": \"Gentoo\"}, {\"flipper_length_mm\": 234.05797101449275, \"bill_length_mm\": 33.47826086956522, \"pred\": \"Gentoo\"}, {\"flipper_length_mm\": 234.05797101449275, \"bill_length_mm\": 33.91304347826087, \"pred\": \"Gentoo\"}, {\"flipper_length_mm\": 234.05797101449275, \"bill_length_mm\": 34.34782608695652, \"pred\": \"Gentoo\"}, {\"flipper_length_mm\": 234.05797101449275, \"bill_length_mm\": 34.78260869565217, \"pred\": \"Gentoo\"}, {\"flipper_length_mm\": 234.05797101449275, \"bill_length_mm\": 35.21739130434783, \"pred\": \"Gentoo\"}, {\"flipper_length_mm\": 234.05797101449275, \"bill_length_mm\": 35.65217391304348, \"pred\": \"Gentoo\"}, {\"flipper_length_mm\": 234.05797101449275, \"bill_length_mm\": 36.08695652173913, \"pred\": \"Gentoo\"}, {\"flipper_length_mm\": 234.05797101449275, \"bill_length_mm\": 36.52173913043478, \"pred\": \"Gentoo\"}, {\"flipper_length_mm\": 234.05797101449275, \"bill_length_mm\": 36.95652173913044, \"pred\": \"Gentoo\"}, {\"flipper_length_mm\": 234.05797101449275, \"bill_length_mm\": 37.391304347826086, \"pred\": \"Gentoo\"}, {\"flipper_length_mm\": 234.05797101449275, \"bill_length_mm\": 37.82608695652174, \"pred\": \"Gentoo\"}, {\"flipper_length_mm\": 234.05797101449275, \"bill_length_mm\": 38.26086956521739, \"pred\": \"Gentoo\"}, {\"flipper_length_mm\": 234.05797101449275, \"bill_length_mm\": 38.69565217391305, \"pred\": \"Gentoo\"}, {\"flipper_length_mm\": 234.05797101449275, \"bill_length_mm\": 39.130434782608695, \"pred\": \"Gentoo\"}, {\"flipper_length_mm\": 234.05797101449275, \"bill_length_mm\": 39.565217391304344, \"pred\": \"Gentoo\"}, {\"flipper_length_mm\": 234.05797101449275, \"bill_length_mm\": 40.0, \"pred\": \"Gentoo\"}, {\"flipper_length_mm\": 234.05797101449275, \"bill_length_mm\": 40.434782608695656, \"pred\": \"Gentoo\"}, {\"flipper_length_mm\": 234.05797101449275, \"bill_length_mm\": 40.869565217391305, \"pred\": \"Gentoo\"}, {\"flipper_length_mm\": 234.05797101449275, \"bill_length_mm\": 41.30434782608695, \"pred\": \"Gentoo\"}, {\"flipper_length_mm\": 234.05797101449275, \"bill_length_mm\": 41.73913043478261, \"pred\": \"Gentoo\"}, {\"flipper_length_mm\": 234.05797101449275, \"bill_length_mm\": 42.17391304347826, \"pred\": \"Gentoo\"}, {\"flipper_length_mm\": 234.05797101449275, \"bill_length_mm\": 42.608695652173914, \"pred\": \"Gentoo\"}, {\"flipper_length_mm\": 234.05797101449275, \"bill_length_mm\": 43.04347826086956, \"pred\": \"Gentoo\"}, {\"flipper_length_mm\": 234.05797101449275, \"bill_length_mm\": 43.47826086956522, \"pred\": \"Gentoo\"}, {\"flipper_length_mm\": 234.05797101449275, \"bill_length_mm\": 43.91304347826087, \"pred\": \"Gentoo\"}, {\"flipper_length_mm\": 234.05797101449275, \"bill_length_mm\": 44.34782608695652, \"pred\": \"Gentoo\"}, {\"flipper_length_mm\": 234.05797101449275, \"bill_length_mm\": 44.78260869565217, \"pred\": \"Gentoo\"}, {\"flipper_length_mm\": 234.05797101449275, \"bill_length_mm\": 45.21739130434783, \"pred\": \"Gentoo\"}, {\"flipper_length_mm\": 234.05797101449275, \"bill_length_mm\": 45.65217391304348, \"pred\": \"Gentoo\"}, {\"flipper_length_mm\": 234.05797101449275, \"bill_length_mm\": 46.086956521739125, \"pred\": \"Gentoo\"}, {\"flipper_length_mm\": 234.05797101449275, \"bill_length_mm\": 46.52173913043478, \"pred\": \"Gentoo\"}, {\"flipper_length_mm\": 234.05797101449275, \"bill_length_mm\": 46.95652173913044, \"pred\": \"Gentoo\"}, {\"flipper_length_mm\": 234.05797101449275, \"bill_length_mm\": 47.391304347826086, \"pred\": \"Gentoo\"}, {\"flipper_length_mm\": 234.05797101449275, \"bill_length_mm\": 47.826086956521735, \"pred\": \"Gentoo\"}, {\"flipper_length_mm\": 234.05797101449275, \"bill_length_mm\": 48.26086956521739, \"pred\": \"Gentoo\"}, {\"flipper_length_mm\": 234.05797101449275, \"bill_length_mm\": 48.69565217391305, \"pred\": \"Gentoo\"}, {\"flipper_length_mm\": 234.05797101449275, \"bill_length_mm\": 49.130434782608695, \"pred\": \"Gentoo\"}, {\"flipper_length_mm\": 234.05797101449275, \"bill_length_mm\": 49.565217391304344, \"pred\": \"Gentoo\"}, {\"flipper_length_mm\": 234.05797101449275, \"bill_length_mm\": 50.0, \"pred\": \"Gentoo\"}, {\"flipper_length_mm\": 234.05797101449275, \"bill_length_mm\": 50.434782608695656, \"pred\": \"Gentoo\"}, {\"flipper_length_mm\": 234.05797101449275, \"bill_length_mm\": 50.869565217391305, \"pred\": \"Gentoo\"}, {\"flipper_length_mm\": 234.05797101449275, \"bill_length_mm\": 51.30434782608695, \"pred\": \"Gentoo\"}, {\"flipper_length_mm\": 234.05797101449275, \"bill_length_mm\": 51.73913043478261, \"pred\": \"Gentoo\"}, {\"flipper_length_mm\": 234.05797101449275, \"bill_length_mm\": 52.173913043478265, \"pred\": \"Gentoo\"}, {\"flipper_length_mm\": 234.05797101449275, \"bill_length_mm\": 52.608695652173914, \"pred\": \"Gentoo\"}, {\"flipper_length_mm\": 234.05797101449275, \"bill_length_mm\": 53.04347826086956, \"pred\": \"Gentoo\"}, {\"flipper_length_mm\": 234.05797101449275, \"bill_length_mm\": 53.47826086956522, \"pred\": \"Gentoo\"}, {\"flipper_length_mm\": 234.05797101449275, \"bill_length_mm\": 53.91304347826087, \"pred\": \"Gentoo\"}, {\"flipper_length_mm\": 234.05797101449275, \"bill_length_mm\": 54.347826086956516, \"pred\": \"Gentoo\"}, {\"flipper_length_mm\": 234.05797101449275, \"bill_length_mm\": 54.78260869565217, \"pred\": \"Gentoo\"}, {\"flipper_length_mm\": 234.05797101449275, \"bill_length_mm\": 55.21739130434783, \"pred\": \"Gentoo\"}, {\"flipper_length_mm\": 234.05797101449275, \"bill_length_mm\": 55.65217391304348, \"pred\": \"Gentoo\"}, {\"flipper_length_mm\": 234.05797101449275, \"bill_length_mm\": 56.086956521739125, \"pred\": \"Gentoo\"}, {\"flipper_length_mm\": 234.05797101449275, \"bill_length_mm\": 56.52173913043478, \"pred\": \"Gentoo\"}, {\"flipper_length_mm\": 234.05797101449275, \"bill_length_mm\": 56.95652173913044, \"pred\": \"Gentoo\"}, {\"flipper_length_mm\": 234.05797101449275, \"bill_length_mm\": 57.391304347826086, \"pred\": \"Gentoo\"}, {\"flipper_length_mm\": 234.05797101449275, \"bill_length_mm\": 57.826086956521735, \"pred\": \"Gentoo\"}, {\"flipper_length_mm\": 234.05797101449275, \"bill_length_mm\": 58.26086956521739, \"pred\": \"Gentoo\"}, {\"flipper_length_mm\": 234.05797101449275, \"bill_length_mm\": 58.69565217391305, \"pred\": \"Gentoo\"}, {\"flipper_length_mm\": 234.05797101449275, \"bill_length_mm\": 59.130434782608695, \"pred\": \"Gentoo\"}, {\"flipper_length_mm\": 234.05797101449275, \"bill_length_mm\": 59.565217391304344, \"pred\": \"Gentoo\"}, {\"flipper_length_mm\": 234.05797101449275, \"bill_length_mm\": 60.0, \"pred\": \"Gentoo\"}, {\"flipper_length_mm\": 235.0, \"bill_length_mm\": 30.0, \"pred\": \"Gentoo\"}, {\"flipper_length_mm\": 235.0, \"bill_length_mm\": 30.434782608695652, \"pred\": \"Gentoo\"}, {\"flipper_length_mm\": 235.0, \"bill_length_mm\": 30.869565217391305, \"pred\": \"Gentoo\"}, {\"flipper_length_mm\": 235.0, \"bill_length_mm\": 31.304347826086957, \"pred\": \"Gentoo\"}, {\"flipper_length_mm\": 235.0, \"bill_length_mm\": 31.73913043478261, \"pred\": \"Gentoo\"}, {\"flipper_length_mm\": 235.0, \"bill_length_mm\": 32.17391304347826, \"pred\": \"Gentoo\"}, {\"flipper_length_mm\": 235.0, \"bill_length_mm\": 32.608695652173914, \"pred\": \"Gentoo\"}, {\"flipper_length_mm\": 235.0, \"bill_length_mm\": 33.04347826086956, \"pred\": \"Gentoo\"}, {\"flipper_length_mm\": 235.0, \"bill_length_mm\": 33.47826086956522, \"pred\": \"Gentoo\"}, {\"flipper_length_mm\": 235.0, \"bill_length_mm\": 33.91304347826087, \"pred\": \"Gentoo\"}, {\"flipper_length_mm\": 235.0, \"bill_length_mm\": 34.34782608695652, \"pred\": \"Gentoo\"}, {\"flipper_length_mm\": 235.0, \"bill_length_mm\": 34.78260869565217, \"pred\": \"Gentoo\"}, {\"flipper_length_mm\": 235.0, \"bill_length_mm\": 35.21739130434783, \"pred\": \"Gentoo\"}, {\"flipper_length_mm\": 235.0, \"bill_length_mm\": 35.65217391304348, \"pred\": \"Gentoo\"}, {\"flipper_length_mm\": 235.0, \"bill_length_mm\": 36.08695652173913, \"pred\": \"Gentoo\"}, {\"flipper_length_mm\": 235.0, \"bill_length_mm\": 36.52173913043478, \"pred\": \"Gentoo\"}, {\"flipper_length_mm\": 235.0, \"bill_length_mm\": 36.95652173913044, \"pred\": \"Gentoo\"}, {\"flipper_length_mm\": 235.0, \"bill_length_mm\": 37.391304347826086, \"pred\": \"Gentoo\"}, {\"flipper_length_mm\": 235.0, \"bill_length_mm\": 37.82608695652174, \"pred\": \"Gentoo\"}, {\"flipper_length_mm\": 235.0, \"bill_length_mm\": 38.26086956521739, \"pred\": \"Gentoo\"}, {\"flipper_length_mm\": 235.0, \"bill_length_mm\": 38.69565217391305, \"pred\": \"Gentoo\"}, {\"flipper_length_mm\": 235.0, \"bill_length_mm\": 39.130434782608695, \"pred\": \"Gentoo\"}, {\"flipper_length_mm\": 235.0, \"bill_length_mm\": 39.565217391304344, \"pred\": \"Gentoo\"}, {\"flipper_length_mm\": 235.0, \"bill_length_mm\": 40.0, \"pred\": \"Gentoo\"}, {\"flipper_length_mm\": 235.0, \"bill_length_mm\": 40.434782608695656, \"pred\": \"Gentoo\"}, {\"flipper_length_mm\": 235.0, \"bill_length_mm\": 40.869565217391305, \"pred\": \"Gentoo\"}, {\"flipper_length_mm\": 235.0, \"bill_length_mm\": 41.30434782608695, \"pred\": \"Gentoo\"}, {\"flipper_length_mm\": 235.0, \"bill_length_mm\": 41.73913043478261, \"pred\": \"Gentoo\"}, {\"flipper_length_mm\": 235.0, \"bill_length_mm\": 42.17391304347826, \"pred\": \"Gentoo\"}, {\"flipper_length_mm\": 235.0, \"bill_length_mm\": 42.608695652173914, \"pred\": \"Gentoo\"}, {\"flipper_length_mm\": 235.0, \"bill_length_mm\": 43.04347826086956, \"pred\": \"Gentoo\"}, {\"flipper_length_mm\": 235.0, \"bill_length_mm\": 43.47826086956522, \"pred\": \"Gentoo\"}, {\"flipper_length_mm\": 235.0, \"bill_length_mm\": 43.91304347826087, \"pred\": \"Gentoo\"}, {\"flipper_length_mm\": 235.0, \"bill_length_mm\": 44.34782608695652, \"pred\": \"Gentoo\"}, {\"flipper_length_mm\": 235.0, \"bill_length_mm\": 44.78260869565217, \"pred\": \"Gentoo\"}, {\"flipper_length_mm\": 235.0, \"bill_length_mm\": 45.21739130434783, \"pred\": \"Gentoo\"}, {\"flipper_length_mm\": 235.0, \"bill_length_mm\": 45.65217391304348, \"pred\": \"Gentoo\"}, {\"flipper_length_mm\": 235.0, \"bill_length_mm\": 46.086956521739125, \"pred\": \"Gentoo\"}, {\"flipper_length_mm\": 235.0, \"bill_length_mm\": 46.52173913043478, \"pred\": \"Gentoo\"}, {\"flipper_length_mm\": 235.0, \"bill_length_mm\": 46.95652173913044, \"pred\": \"Gentoo\"}, {\"flipper_length_mm\": 235.0, \"bill_length_mm\": 47.391304347826086, \"pred\": \"Gentoo\"}, {\"flipper_length_mm\": 235.0, \"bill_length_mm\": 47.826086956521735, \"pred\": \"Gentoo\"}, {\"flipper_length_mm\": 235.0, \"bill_length_mm\": 48.26086956521739, \"pred\": \"Gentoo\"}, {\"flipper_length_mm\": 235.0, \"bill_length_mm\": 48.69565217391305, \"pred\": \"Gentoo\"}, {\"flipper_length_mm\": 235.0, \"bill_length_mm\": 49.130434782608695, \"pred\": \"Gentoo\"}, {\"flipper_length_mm\": 235.0, \"bill_length_mm\": 49.565217391304344, \"pred\": \"Gentoo\"}, {\"flipper_length_mm\": 235.0, \"bill_length_mm\": 50.0, \"pred\": \"Gentoo\"}, {\"flipper_length_mm\": 235.0, \"bill_length_mm\": 50.434782608695656, \"pred\": \"Gentoo\"}, {\"flipper_length_mm\": 235.0, \"bill_length_mm\": 50.869565217391305, \"pred\": \"Gentoo\"}, {\"flipper_length_mm\": 235.0, \"bill_length_mm\": 51.30434782608695, \"pred\": \"Gentoo\"}, {\"flipper_length_mm\": 235.0, \"bill_length_mm\": 51.73913043478261, \"pred\": \"Gentoo\"}, {\"flipper_length_mm\": 235.0, \"bill_length_mm\": 52.173913043478265, \"pred\": \"Gentoo\"}, {\"flipper_length_mm\": 235.0, \"bill_length_mm\": 52.608695652173914, \"pred\": \"Gentoo\"}, {\"flipper_length_mm\": 235.0, \"bill_length_mm\": 53.04347826086956, \"pred\": \"Gentoo\"}, {\"flipper_length_mm\": 235.0, \"bill_length_mm\": 53.47826086956522, \"pred\": \"Gentoo\"}, {\"flipper_length_mm\": 235.0, \"bill_length_mm\": 53.91304347826087, \"pred\": \"Gentoo\"}, {\"flipper_length_mm\": 235.0, \"bill_length_mm\": 54.347826086956516, \"pred\": \"Gentoo\"}, {\"flipper_length_mm\": 235.0, \"bill_length_mm\": 54.78260869565217, \"pred\": \"Gentoo\"}, {\"flipper_length_mm\": 235.0, \"bill_length_mm\": 55.21739130434783, \"pred\": \"Gentoo\"}, {\"flipper_length_mm\": 235.0, \"bill_length_mm\": 55.65217391304348, \"pred\": \"Gentoo\"}, {\"flipper_length_mm\": 235.0, \"bill_length_mm\": 56.086956521739125, \"pred\": \"Gentoo\"}, {\"flipper_length_mm\": 235.0, \"bill_length_mm\": 56.52173913043478, \"pred\": \"Gentoo\"}, {\"flipper_length_mm\": 235.0, \"bill_length_mm\": 56.95652173913044, \"pred\": \"Gentoo\"}, {\"flipper_length_mm\": 235.0, \"bill_length_mm\": 57.391304347826086, \"pred\": \"Gentoo\"}, {\"flipper_length_mm\": 235.0, \"bill_length_mm\": 57.826086956521735, \"pred\": \"Gentoo\"}, {\"flipper_length_mm\": 235.0, \"bill_length_mm\": 58.26086956521739, \"pred\": \"Gentoo\"}, {\"flipper_length_mm\": 235.0, \"bill_length_mm\": 58.69565217391305, \"pred\": \"Gentoo\"}, {\"flipper_length_mm\": 235.0, \"bill_length_mm\": 59.130434782608695, \"pred\": \"Gentoo\"}, {\"flipper_length_mm\": 235.0, \"bill_length_mm\": 59.565217391304344, \"pred\": \"Gentoo\"}, {\"flipper_length_mm\": 235.0, \"bill_length_mm\": 60.0, \"pred\": \"Gentoo\"}]}}, {\"mode\": \"vega-lite\"});\n",
       "</script>"
      ],
      "text/plain": [
       "alt.Chart(...)"
      ]
     },
     "execution_count": 35,
     "metadata": {},
     "output_type": "execute_result"
    }
   ],
   "source": [
    "alt.Chart(df_art).mark_circle().encode(\n",
    "    x = alt.X(cols[0], scale = alt.Scale(zero=False)),\n",
    "    y = alt.Y(cols[1], scale = alt.Scale(zero=False)),\n",
    "    color = 'pred:N'\n",
    ")"
   ]
  },
  {
   "cell_type": "markdown",
   "metadata": {
    "created_in_deepnote_cell": true,
    "deepnote_cell_type": "markdown"
   },
   "source": [
    "<a style='text-decoration:none;line-height:16px;display:flex;color:#5B5B62;padding:10px;justify-content:end;' href='https://deepnote.com?utm_source=created-in-deepnote-cell&projectId=d93dddb6-f9a9-4f42-9ac6-4d86bae7ecb7' target=\"_blank\">\n",
    "<img alt='Created in deepnote.com' style='display:inline;max-height:16px;margin:0px;margin-right:7.5px;' src='data:image/svg+xml;base64,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' > </img>\n",
    "Created in <span style='font-weight:600;margin-left:4px;'>Deepnote</span></a>"
   ]
  }
 ],
 "metadata": {
  "deepnote": {},
  "deepnote_execution_queue": [],
  "deepnote_notebook_id": "b40d400b98844a73b19d423aece1b3d7",
  "deepnote_persisted_session": {
   "createdAt": "2023-11-15T22:00:43.743Z"
  },
  "kernelspec": {
   "display_name": "Python 3 (ipykernel)",
   "language": "python",
   "name": "python3"
  },
  "language_info": {
   "codemirror_mode": {
    "name": "ipython",
    "version": 3
   },
   "file_extension": ".py",
   "mimetype": "text/x-python",
   "name": "python",
   "nbconvert_exporter": "python",
   "pygments_lexer": "ipython3",
   "version": "3.9.18"
  }
 },
 "nbformat": 4,
 "nbformat_minor": 4
}
