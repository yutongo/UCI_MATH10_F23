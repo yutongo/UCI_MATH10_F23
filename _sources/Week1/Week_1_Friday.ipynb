{
 "cells": [
  {
   "cell_type": "markdown",
   "metadata": {
    "cell_id": "e8cc40aa827e427980098fdf7576899d",
    "deepnote_cell_type": "markdown",
    "editable": true,
    "slideshow": {
     "slide_type": ""
    },
    "tags": [
     "output_scroll"
    ]
   },
   "source": [
    "# Week 1 Friday\n"
   ]
  },
  {
   "cell_type": "markdown",
   "metadata": {
    "cell_id": "28f0f6dd1d0c4cc7a23049ba6d5ed10f",
    "deepnote_cell_type": "markdown"
   },
   "source": [
    "## Functions in Python\n",
    "\n",
    "A function is a block of organized, reusable code that is used to perform a single, related action. \n",
    "\n",
    "* Write a function `getsub` which takes two inputs, a NumPy `arr` and an integer `n`, and as output returns the subarray of `arr` containing all rows with at least two entries equal to `n`."
   ]
  },
  {
   "cell_type": "markdown",
   "metadata": {
    "cell_id": "4a09af9eff634ced89d29a259c02ee6a",
    "deepnote_cell_type": "markdown"
   },
   "source": [
    "A function with two input arguments. Be sure you are using the `return` statement to indicate what should be returned."
   ]
  },
  {
   "cell_type": "code",
   "execution_count": 1,
   "metadata": {
    "cell_id": "87597186a00a4507a02b284b6875f9c6",
    "deepnote_cell_type": "code",
    "deepnote_to_be_reexecuted": false,
    "editable": true,
    "execution_millis": 27,
    "execution_start": 1696623335136,
    "slideshow": {
     "slide_type": ""
    },
    "source_hash": null,
    "tags": []
   },
   "outputs": [],
   "source": [
    "def getsub(arr, n):\n",
    "    cts = (arr == n).sum(axis = 1)\n",
    "    subarr = arr[cts >= 2]\n",
    "    return subarr\n",
    "\n"
   ]
  },
  {
   "cell_type": "code",
   "execution_count": 2,
   "metadata": {
    "cell_id": "b9988b87b8c7463e9d4140d7bee26b94",
    "deepnote_cell_type": "code",
    "deepnote_to_be_reexecuted": false,
    "editable": true,
    "execution_millis": 265,
    "execution_start": 1696623336284,
    "slideshow": {
     "slide_type": ""
    },
    "source_hash": null,
    "tags": []
   },
   "outputs": [
    {
     "data": {
      "text/plain": [
       "array([[1, 2, 3],\n",
       "       [3, 0, 0],\n",
       "       [3, 3, 0],\n",
       "       [1, 3, 1],\n",
       "       [1, 3, 1],\n",
       "       [1, 2, 2],\n",
       "       [0, 0, 3],\n",
       "       [3, 3, 2],\n",
       "       [3, 1, 1],\n",
       "       [3, 0, 1],\n",
       "       [0, 1, 3],\n",
       "       [0, 1, 1],\n",
       "       [3, 0, 2],\n",
       "       [1, 0, 3],\n",
       "       [0, 1, 1],\n",
       "       [1, 0, 3],\n",
       "       [2, 3, 0],\n",
       "       [2, 1, 2],\n",
       "       [3, 1, 2],\n",
       "       [0, 1, 3],\n",
       "       [1, 2, 1],\n",
       "       [0, 1, 2],\n",
       "       [1, 3, 1],\n",
       "       [2, 3, 3],\n",
       "       [1, 0, 2],\n",
       "       [2, 3, 1],\n",
       "       [1, 0, 1],\n",
       "       [2, 3, 3],\n",
       "       [0, 2, 3],\n",
       "       [1, 1, 3],\n",
       "       [2, 2, 2],\n",
       "       [2, 3, 3],\n",
       "       [0, 0, 2],\n",
       "       [3, 0, 2],\n",
       "       [3, 3, 3],\n",
       "       [0, 2, 3],\n",
       "       [1, 0, 1],\n",
       "       [0, 0, 3],\n",
       "       [2, 3, 3],\n",
       "       [3, 1, 1],\n",
       "       [2, 1, 3],\n",
       "       [0, 3, 2],\n",
       "       [1, 2, 1],\n",
       "       [3, 3, 1],\n",
       "       [1, 0, 2],\n",
       "       [2, 3, 3],\n",
       "       [3, 3, 3],\n",
       "       [0, 0, 1],\n",
       "       [1, 3, 3],\n",
       "       [1, 2, 2],\n",
       "       [3, 0, 1],\n",
       "       [2, 1, 3],\n",
       "       [3, 3, 1],\n",
       "       [3, 0, 2],\n",
       "       [1, 0, 2],\n",
       "       [3, 3, 0],\n",
       "       [3, 3, 1],\n",
       "       [0, 3, 3],\n",
       "       [1, 0, 0],\n",
       "       [1, 3, 1],\n",
       "       [0, 2, 2],\n",
       "       [0, 2, 1],\n",
       "       [2, 0, 2],\n",
       "       [1, 2, 1],\n",
       "       [2, 0, 1],\n",
       "       [2, 3, 1],\n",
       "       [0, 2, 2],\n",
       "       [2, 0, 1],\n",
       "       [3, 3, 1],\n",
       "       [2, 0, 3],\n",
       "       [1, 1, 3],\n",
       "       [2, 3, 0],\n",
       "       [3, 3, 0],\n",
       "       [0, 0, 1],\n",
       "       [1, 0, 3],\n",
       "       [1, 3, 3],\n",
       "       [0, 2, 3],\n",
       "       [0, 0, 1],\n",
       "       [0, 1, 1],\n",
       "       [2, 2, 1],\n",
       "       [0, 2, 1],\n",
       "       [3, 2, 2],\n",
       "       [2, 1, 1],\n",
       "       [1, 2, 1],\n",
       "       [0, 0, 0],\n",
       "       [0, 1, 1],\n",
       "       [0, 1, 2],\n",
       "       [1, 3, 2],\n",
       "       [0, 3, 3],\n",
       "       [3, 0, 3],\n",
       "       [2, 3, 2],\n",
       "       [2, 1, 3],\n",
       "       [3, 2, 1],\n",
       "       [2, 2, 0],\n",
       "       [0, 1, 2],\n",
       "       [0, 1, 0],\n",
       "       [3, 2, 1],\n",
       "       [3, 3, 1],\n",
       "       [3, 3, 3],\n",
       "       [2, 3, 0]])"
      ]
     },
     "execution_count": 2,
     "metadata": {},
     "output_type": "execute_result"
    }
   ],
   "source": [
    "import numpy as np\n",
    "rng = np.random.default_rng(seed = 1)\n",
    "arr = rng.integers(0,4, size = (100,3))\n",
    "arr"
   ]
  },
  {
   "cell_type": "code",
   "execution_count": 3,
   "metadata": {
    "cell_id": "7a82a85617e14a8eadab7f93a6cc3af8",
    "deepnote_cell_type": "code",
    "deepnote_to_be_reexecuted": false,
    "editable": true,
    "execution_millis": 34,
    "execution_start": 1696623337972,
    "slideshow": {
     "slide_type": ""
    },
    "source_hash": null,
    "tags": []
   },
   "outputs": [
    {
     "data": {
      "text/plain": [
       "array([[3, 3, 0],\n",
       "       [3, 3, 2],\n",
       "       [2, 3, 3],\n",
       "       [2, 3, 3],\n",
       "       [2, 3, 3],\n",
       "       [3, 3, 3],\n",
       "       [2, 3, 3],\n",
       "       [3, 3, 1],\n",
       "       [2, 3, 3],\n",
       "       [3, 3, 3],\n",
       "       [1, 3, 3],\n",
       "       [3, 3, 1],\n",
       "       [3, 3, 0],\n",
       "       [3, 3, 1],\n",
       "       [0, 3, 3],\n",
       "       [3, 3, 1],\n",
       "       [3, 3, 0],\n",
       "       [1, 3, 3],\n",
       "       [0, 3, 3],\n",
       "       [3, 0, 3],\n",
       "       [3, 3, 1],\n",
       "       [3, 3, 3]])"
      ]
     },
     "execution_count": 3,
     "metadata": {},
     "output_type": "execute_result"
    }
   ],
   "source": [
    "getsub(arr, 3)"
   ]
  },
  {
   "cell_type": "markdown",
   "metadata": {
    "cell_id": "f0b1daf3d0af473dbb860c95e4fd2fa0",
    "deepnote_cell_type": "markdown",
    "editable": true,
    "slideshow": {
     "slide_type": ""
    },
    "tags": []
   },
   "source": [
    "Properly formatted code can help in preventing errors. "
   ]
  },
  {
   "cell_type": "code",
   "execution_count": 4,
   "metadata": {
    "cell_id": "7735f5c2f2b64bb8b73b70792ec79442",
    "deepnote_cell_type": "code",
    "deepnote_to_be_reexecuted": false,
    "editable": true,
    "execution_millis": 16,
    "execution_start": 1696623375824,
    "slideshow": {
     "slide_type": ""
    },
    "source_hash": null,
    "tags": []
   },
   "outputs": [
    {
     "ename": "IndentationError",
     "evalue": "expected an indented block (3254561424.py, line 2)",
     "output_type": "error",
     "traceback": [
      "\u001b[0;36m  Input \u001b[0;32mIn [4]\u001b[0;36m\u001b[0m\n\u001b[0;31m    cts = (arr == n).sum(axis = 1)\u001b[0m\n\u001b[0m    ^\u001b[0m\n\u001b[0;31mIndentationError\u001b[0m\u001b[0;31m:\u001b[0m expected an indented block\n"
     ]
    }
   ],
   "source": [
    "def getsub(arr, n):\n",
    "cts = (arr == n).sum(axis = 1)\n",
    "subarr = arr[cts >= 2]\n",
    "return subarr"
   ]
  },
  {
   "cell_type": "markdown",
   "metadata": {
    "cell_id": "42365c24b9dc409e87e638f736eeda27",
    "deepnote_cell_type": "markdown",
    "editable": true,
    "slideshow": {
     "slide_type": ""
    },
    "tags": []
   },
   "source": [
    "There aren’t any `5` values in this array, so that’s why the following returns an empty array."
   ]
  },
  {
   "cell_type": "code",
   "execution_count": 5,
   "metadata": {
    "cell_id": "47bb784d201647b8ac7e5094b386326f",
    "deepnote_cell_type": "code",
    "deepnote_to_be_reexecuted": false,
    "editable": true,
    "execution_millis": 28,
    "execution_start": 1696623417460,
    "slideshow": {
     "slide_type": ""
    },
    "source_hash": null,
    "tags": []
   },
   "outputs": [
    {
     "data": {
      "text/plain": [
       "array([], shape=(0, 3), dtype=int64)"
      ]
     },
     "execution_count": 5,
     "metadata": {},
     "output_type": "execute_result"
    }
   ],
   "source": [
    "getsub(arr, 5)"
   ]
  },
  {
   "cell_type": "markdown",
   "metadata": {
    "cell_id": "342ec2e7d48a4963aadcb83360b4f483",
    "deepnote_cell_type": "markdown",
    "editable": true,
    "slideshow": {
     "slide_type": ""
    },
    "tags": []
   },
   "source": [
    "## Why pandas?"
   ]
  },
  {
   "cell_type": "markdown",
   "metadata": {
    "cell_id": "6762870bfaad40949ea2b6c9d192c3eb",
    "deepnote_cell_type": "markdown",
    "editable": true,
    "slideshow": {
     "slide_type": ""
    },
    "tags": []
   },
   "source": [
    "Imagine we have made our own tiny dataset like the following.  It's shown here and is attached to Deepnote as the file `our-own.csv`.  Most of the data files we work with will be csv files (which stands for comma-separated values).  Working with Excel files (xlsx files) is basically the same, but there is an extra step, so I usually would recommend converting to a csv file first.\n",
    "![3 rows of data](our-own.png)"
   ]
  },
  {
   "cell_type": "markdown",
   "metadata": {
    "cell_id": "ca63f1b62fc3444cbdb4783f234d799a",
    "deepnote_cell_type": "markdown",
    "editable": true,
    "slideshow": {
     "slide_type": ""
    },
    "tags": []
   },
   "source": [
    "What approach could we use to represent this in Python?"
   ]
  },
  {
   "cell_type": "markdown",
   "metadata": {
    "cell_id": "85fb5162c9f04daa8d924356dc817973",
    "deepnote_cell_type": "markdown",
    "editable": true,
    "slideshow": {
     "slide_type": ""
    },
    "tags": []
   },
   "source": [
    "### Wrong approach 1: as a list of lists\n",
    "\n",
    "Here is a pure Python approach (not using any libraries) where we represent the data as a list of lists.  We're skipping the column names, but that's not the biggest issue."
   ]
  },
  {
   "cell_type": "code",
   "execution_count": 6,
   "metadata": {
    "editable": true,
    "slideshow": {
     "slide_type": ""
    },
    "tags": []
   },
   "outputs": [],
   "source": [
    "our_list = [\n",
    "        [6.43, 10, \"Alice\", 4.7],\n",
    "        [5.81, 15, \"Bob\", 4.4],\n",
    "        [4.99, 2, \"Eve\", 2]\n",
    "    ]"
   ]
  },
  {
   "cell_type": "markdown",
   "metadata": {
    "cell_id": "88b0997f49144512a274e672117591ce",
    "deepnote_cell_type": "markdown",
    "editable": true,
    "slideshow": {
     "slide_type": ""
    },
    "tags": []
   },
   "source": [
    "* Compute the average value in the \"Rating\" column (the column at index `3`).\n",
    "\n",
    "Any approach using this list-of-lists data type is inevitably going to be a little awkward."
   ]
  },
  {
   "cell_type": "code",
   "execution_count": 7,
   "metadata": {
    "cell_id": "0ba1003c078940c19b65899625df93bd",
    "deepnote_cell_type": "code",
    "deepnote_to_be_reexecuted": false,
    "editable": true,
    "execution_millis": 20,
    "execution_start": 1696623679252,
    "slideshow": {
     "slide_type": ""
    },
    "source_hash": null,
    "tags": []
   },
   "outputs": [
    {
     "data": {
      "text/plain": [
       "list"
      ]
     },
     "execution_count": 7,
     "metadata": {},
     "output_type": "execute_result"
    }
   ],
   "source": [
    "type(our_list)"
   ]
  },
  {
   "cell_type": "markdown",
   "metadata": {
    "cell_id": "e421a7bf70fb4e9eb9d1599652f1352c",
    "deepnote_cell_type": "markdown",
    "editable": true,
    "slideshow": {
     "slide_type": ""
    },
    "tags": []
   },
   "source": [
    "Convenient slicing for multiple dimensions does not work with our list of lists."
   ]
  },
  {
   "cell_type": "code",
   "execution_count": 8,
   "metadata": {
    "cell_id": "e769da65155949ebb44f7653ad1fd3aa",
    "deepnote_cell_type": "code",
    "deepnote_to_be_reexecuted": false,
    "editable": true,
    "execution_millis": 491,
    "execution_start": 1696623650639,
    "slideshow": {
     "slide_type": ""
    },
    "source_hash": null,
    "tags": []
   },
   "outputs": [
    {
     "ename": "TypeError",
     "evalue": "list indices must be integers or slices, not tuple",
     "output_type": "error",
     "traceback": [
      "\u001b[0;31m---------------------------------------------------------------------------\u001b[0m",
      "\u001b[0;31mTypeError\u001b[0m                                 Traceback (most recent call last)",
      "Input \u001b[0;32mIn [8]\u001b[0m, in \u001b[0;36m<cell line: 1>\u001b[0;34m()\u001b[0m\n\u001b[0;32m----> 1\u001b[0m \u001b[43mour_list\u001b[49m\u001b[43m[\u001b[49m\u001b[43m:\u001b[49m\u001b[43m,\u001b[49m\u001b[38;5;241;43m-\u001b[39;49m\u001b[38;5;241;43m1\u001b[39;49m\u001b[43m]\u001b[49m \u001b[38;5;66;03m# not a numpy array\u001b[39;00m\n",
      "\u001b[0;31mTypeError\u001b[0m: list indices must be integers or slices, not tuple"
     ]
    }
   ],
   "source": [
    "our_list[:,-1] # not a numpy array"
   ]
  },
  {
   "cell_type": "markdown",
   "metadata": {
    "cell_id": "1b7f8482c1a140c1a07101d68ab4f83b",
    "deepnote_cell_type": "markdown",
    "editable": true,
    "slideshow": {
     "slide_type": ""
    },
    "tags": []
   },
   "source": [
    "Some practice with for loops."
   ]
  },
  {
   "cell_type": "code",
   "execution_count": 9,
   "metadata": {
    "cell_id": "bbb8c8ca808c478180e0692a0a12a930",
    "deepnote_cell_type": "code",
    "deepnote_to_be_reexecuted": false,
    "editable": true,
    "execution_millis": 24,
    "execution_start": 1696623798880,
    "slideshow": {
     "slide_type": ""
    },
    "source_hash": null,
    "tags": []
   },
   "outputs": [
    {
     "name": "stdout",
     "output_type": "stream",
     "text": [
      "[6.43, 10, 'Alice', 4.7]\n",
      "[5.81, 15, 'Bob', 4.4]\n",
      "[4.99, 2, 'Eve', 2]\n"
     ]
    }
   ],
   "source": [
    "for inside_list in our_list:\n",
    "    print(inside_list)"
   ]
  },
  {
   "cell_type": "markdown",
   "metadata": {
    "cell_id": "7b85d93ca2c94640b5312e45cff3d1e4",
    "deepnote_cell_type": "markdown",
    "editable": true,
    "slideshow": {
     "slide_type": ""
    },
    "tags": []
   },
   "source": [
    "We start out making a list of ratings. We use the `append` method (that is available for any list) to put the ratings onto the end of the `rating` list, one at a time."
   ]
  },
  {
   "cell_type": "code",
   "execution_count": 10,
   "metadata": {
    "cell_id": "717b298c5dc24e28ac24153b99d6dc50",
    "deepnote_cell_type": "code",
    "deepnote_to_be_reexecuted": false,
    "editable": true,
    "execution_millis": 22,
    "execution_start": 1696623995042,
    "slideshow": {
     "slide_type": ""
    },
    "source_hash": null,
    "tags": []
   },
   "outputs": [
    {
     "data": {
      "text/plain": [
       "[4.7, 4.4, 2]"
      ]
     },
     "execution_count": 10,
     "metadata": {},
     "output_type": "execute_result"
    }
   ],
   "source": [
    "rating = []\n",
    "for inside_list in our_list:\n",
    "    #print(inside_list[-1])\n",
    "    rating.append(inside_list[-1])\n",
    "\n",
    "rating\n"
   ]
  },
  {
   "cell_type": "markdown",
   "metadata": {
    "cell_id": "5be106feb02c499690aec02087c857ad",
    "deepnote_cell_type": "markdown",
    "editable": true,
    "slideshow": {
     "slide_type": ""
    },
    "tags": []
   },
   "source": [
    "We now compute the average. Notice the small rounding error (the true answer is exactly `3.7`). These sorts of rounding errors are pretty much inevitable when working with floats (decimal values) in Python."
   ]
  },
  {
   "cell_type": "code",
   "execution_count": 11,
   "metadata": {
    "cell_id": "e5101db22c3d42c2ba54ed37a68b085a",
    "deepnote_cell_type": "code",
    "deepnote_to_be_reexecuted": false,
    "editable": true,
    "execution_millis": 17,
    "execution_start": 1696624088191,
    "slideshow": {
     "slide_type": ""
    },
    "source_hash": null,
    "tags": []
   },
   "outputs": [
    {
     "data": {
      "text/plain": [
       "3.7000000000000006"
      ]
     },
     "execution_count": 11,
     "metadata": {},
     "output_type": "execute_result"
    }
   ],
   "source": [
    "sum(rating)/len(rating)"
   ]
  },
  {
   "cell_type": "markdown",
   "metadata": {
    "cell_id": "eac136aca5b14a32b44a342d486b4a4a",
    "deepnote_cell_type": "markdown",
    "editable": true,
    "slideshow": {
     "slide_type": ""
    },
    "tags": []
   },
   "source": [
    "Be careful testing equality `==` with floats in Python."
   ]
  },
  {
   "cell_type": "code",
   "execution_count": 12,
   "metadata": {
    "cell_id": "27ebcee1c72741f5acf6fe21af0fe47d",
    "deepnote_cell_type": "code",
    "deepnote_to_be_reexecuted": false,
    "editable": true,
    "execution_millis": 22,
    "execution_start": 1696626948637,
    "slideshow": {
     "slide_type": ""
    },
    "source_hash": null,
    "tags": []
   },
   "outputs": [
    {
     "data": {
      "text/plain": [
       "False"
      ]
     },
     "execution_count": 12,
     "metadata": {},
     "output_type": "execute_result"
    }
   ],
   "source": [
    "# be careful with numerical precision\n",
    "# that's also true in NumPy and pandas\n",
    "sum(rating)/len(rating) == 3.7"
   ]
  },
  {
   "cell_type": "markdown",
   "metadata": {
    "cell_id": "aae23a98317e4d03b85afb52c81b14be",
    "deepnote_cell_type": "markdown",
    "editable": true,
    "slideshow": {
     "slide_type": ""
    },
    "tags": []
   },
   "source": [
    "The following simple computation already fails. (Using equality is safer when working with integers instead of floats.)"
   ]
  },
  {
   "cell_type": "code",
   "execution_count": 13,
   "metadata": {
    "cell_id": "4104ac3d253946d988fe37b735f69c39",
    "deepnote_cell_type": "code",
    "deepnote_to_be_reexecuted": false,
    "editable": true,
    "execution_millis": 56,
    "execution_start": 1696624210936,
    "slideshow": {
     "slide_type": ""
    },
    "source_hash": null,
    "tags": []
   },
   "outputs": [
    {
     "data": {
      "text/plain": [
       "False"
      ]
     },
     "execution_count": 13,
     "metadata": {},
     "output_type": "execute_result"
    }
   ],
   "source": [
    "0.1 + 0.1 + 0.1 == 0.3"
   ]
  },
  {
   "cell_type": "markdown",
   "metadata": {
    "cell_id": "40cd41b1ff5b4e5fb145ad450595e118",
    "deepnote_cell_type": "markdown",
    "editable": true,
    "slideshow": {
     "slide_type": ""
    },
    "tags": []
   },
   "source": [
    "Append a string onto the end of it. (We can make strings using either single or double quotation marks)"
   ]
  },
  {
   "cell_type": "code",
   "execution_count": 14,
   "metadata": {
    "cell_id": "16ebb781512048ba90261ae2a04cd2f8",
    "deepnote_cell_type": "code",
    "deepnote_to_be_reexecuted": false,
    "editable": true,
    "execution_millis": 30,
    "execution_start": 1696624304865,
    "slideshow": {
     "slide_type": ""
    },
    "source_hash": null,
    "tags": []
   },
   "outputs": [
    {
     "data": {
      "text/plain": [
       "[4.7, 4.4, 2, 'Friday']"
      ]
     },
     "execution_count": 14,
     "metadata": {},
     "output_type": "execute_result"
    }
   ],
   "source": [
    "new_list = rating\n",
    "new_list.append('Friday')\n",
    "new_list"
   ]
  },
  {
   "cell_type": "code",
   "execution_count": 15,
   "metadata": {
    "cell_id": "1742d9084c18436c93f331632b5e5429",
    "deepnote_cell_type": "code",
    "deepnote_to_be_reexecuted": false,
    "editable": true,
    "execution_millis": 20,
    "execution_start": 1696624332344,
    "slideshow": {
     "slide_type": ""
    },
    "source_hash": null,
    "tags": []
   },
   "outputs": [
    {
     "data": {
      "text/plain": [
       "[4.7, 4.4, 2, 'Friday']"
      ]
     },
     "execution_count": 15,
     "metadata": {},
     "output_type": "execute_result"
    }
   ],
   "source": [
    "rating"
   ]
  },
  {
   "cell_type": "markdown",
   "metadata": {
    "cell_id": "fa6f04fc29c84c4f993811bce0a65da3",
    "deepnote_cell_type": "markdown",
    "editable": true,
    "slideshow": {
     "slide_type": ""
    },
    "tags": []
   },
   "source": [
    "Because we used copy, the original ratings list did not change."
   ]
  },
  {
   "cell_type": "code",
   "execution_count": 16,
   "metadata": {
    "cell_id": "1f4855b607b341c0959201eb4c344eef",
    "deepnote_cell_type": "code",
    "deepnote_to_be_reexecuted": false,
    "editable": true,
    "execution_millis": 18,
    "execution_start": 1696624471314,
    "slideshow": {
     "slide_type": ""
    },
    "source_hash": null,
    "tags": []
   },
   "outputs": [
    {
     "name": "stdout",
     "output_type": "stream",
     "text": [
      "[4.7, 4.4, 2, 'friday']\n",
      "[4.7, 4.4, 2]\n"
     ]
    }
   ],
   "source": [
    "rating = [4.7, 4.4, 2]\n",
    "new_list = rating.copy()\n",
    "new_list.append('friday')\n",
    "print(new_list)\n",
    "print(rating)"
   ]
  },
  {
   "cell_type": "markdown",
   "metadata": {
    "cell_id": "aec82c37b94040da806994853bd6b453",
    "deepnote_cell_type": "markdown",
    "editable": true,
    "slideshow": {
     "slide_type": ""
    },
    "tags": []
   },
   "source": [
    "### Wrong approach 2: as a NumPy array\n",
    "\n",
    "It might be surprising that NumPy also does not work great for this data."
   ]
  },
  {
   "cell_type": "markdown",
   "metadata": {
    "cell_id": "2c3e1fc2e0424a4eacb7a9093d18c26a",
    "deepnote_cell_type": "markdown",
    "editable": true,
    "slideshow": {
     "slide_type": ""
    },
    "tags": []
   },
   "source": [
    "Convert `our_list` to a NumPy array."
   ]
  },
  {
   "cell_type": "code",
   "execution_count": 17,
   "metadata": {
    "cell_id": "dffe92286003499e978e36293f240ce2",
    "deepnote_cell_type": "code",
    "deepnote_to_be_reexecuted": false,
    "editable": true,
    "execution_millis": 34,
    "execution_start": 1696624734335,
    "slideshow": {
     "slide_type": ""
    },
    "source_hash": null,
    "tags": []
   },
   "outputs": [
    {
     "name": "stdout",
     "output_type": "stream",
     "text": [
      "[['6.43' '10' 'Alice' '4.7']\n",
      " ['5.81' '15' 'Bob' '4.4']\n",
      " ['4.99' '2' 'Eve' '2']]\n",
      "<class 'numpy.ndarray'>\n"
     ]
    }
   ],
   "source": [
    "our_arr = np.array(our_list)\n",
    "print(our_arr) #Notice the quotation marks.\n",
    "print(type(our_arr))"
   ]
  },
  {
   "cell_type": "markdown",
   "metadata": {
    "cell_id": "26f3a5565d77413ba1d56ea1c273d346",
    "deepnote_cell_type": "markdown",
    "editable": true,
    "slideshow": {
     "slide_type": ""
    },
    "tags": []
   },
   "source": [
    "If we check the type, we are told this is some NumPy version of a string. (It should be a number!) The problem is the column of seller names. NumPy wants homogeneous data, where all data types are the same within an array. But our data set is most naturally made using different data types in different columns. That is a problem that will be solved using pandas."
   ]
  },
  {
   "cell_type": "code",
   "execution_count": 18,
   "metadata": {
    "cell_id": "594b56be59564a6ca82c1f97be3a50d2",
    "deepnote_cell_type": "code",
    "deepnote_to_be_reexecuted": false,
    "editable": true,
    "execution_millis": 27,
    "execution_start": 1696624815863,
    "slideshow": {
     "slide_type": ""
    },
    "source_hash": null,
    "tags": []
   },
   "outputs": [
    {
     "data": {
      "text/plain": [
       "numpy.str_"
      ]
     },
     "execution_count": 18,
     "metadata": {},
     "output_type": "execute_result"
    }
   ],
   "source": [
    "type(our_arr[0,1]) #string not integer"
   ]
  },
  {
   "cell_type": "code",
   "execution_count": 19,
   "metadata": {
    "cell_id": "57296a15a09b46a3a004d4d0d07155d6",
    "deepnote_cell_type": "code",
    "deepnote_to_be_reexecuted": false,
    "editable": true,
    "execution_millis": 40,
    "execution_start": 1696624943368,
    "slideshow": {
     "slide_type": ""
    },
    "source_hash": null,
    "tags": []
   },
   "outputs": [
    {
     "name": "stdout",
     "output_type": "stream",
     "text": [
      "[[ 6.43 10.    4.7 ]\n",
      " [ 5.81 15.    4.4 ]\n",
      " [ 4.99  2.    2.  ]]\n"
     ]
    }
   ],
   "source": [
    "# if all data types are numbers\n",
    "our_list2 = [\n",
    "        [6.43, 10,  4.7],\n",
    "        [5.81, 15, 4.4],\n",
    "        [4.99, 2, 2]\n",
    "    ]\n",
    "print(np.array(our_list2))"
   ]
  },
  {
   "cell_type": "code",
   "execution_count": 20,
   "metadata": {
    "cell_id": "e790a84a47674a8b906a210fdbcb9a85",
    "deepnote_cell_type": "code",
    "deepnote_to_be_reexecuted": false,
    "editable": true,
    "execution_millis": 41,
    "execution_start": 1696625063182,
    "slideshow": {
     "slide_type": ""
    },
    "source_hash": null,
    "tags": []
   },
   "outputs": [
    {
     "data": {
      "text/plain": [
       "'1010'"
      ]
     },
     "execution_count": 20,
     "metadata": {},
     "output_type": "execute_result"
    }
   ],
   "source": [
    "our_arr[0,1] + our_arr[0,1]"
   ]
  },
  {
   "cell_type": "code",
   "execution_count": 21,
   "metadata": {
    "cell_id": "e9da7d4b82c74ed7bab535ce00e4b886",
    "deepnote_cell_type": "code",
    "deepnote_to_be_reexecuted": false,
    "editable": true,
    "execution_millis": 49,
    "execution_start": 1696625080484,
    "slideshow": {
     "slide_type": ""
    },
    "source_hash": null,
    "tags": []
   },
   "outputs": [
    {
     "data": {
      "text/plain": [
       "'1010'"
      ]
     },
     "execution_count": 21,
     "metadata": {},
     "output_type": "execute_result"
    }
   ],
   "source": [
    "'10' + '10'"
   ]
  },
  {
   "cell_type": "markdown",
   "metadata": {
    "cell_id": "afeabbc02f004059b797e32b3da3cd2c",
    "deepnote_cell_type": "markdown",
    "editable": true,
    "slideshow": {
     "slide_type": ""
    },
    "tags": []
   },
   "source": [
    "We can convert to floats using the astype method."
   ]
  },
  {
   "cell_type": "code",
   "execution_count": 22,
   "metadata": {
    "cell_id": "5098afae868145989c0bc7a632acb780",
    "deepnote_cell_type": "code",
    "deepnote_to_be_reexecuted": false,
    "editable": true,
    "execution_millis": 23,
    "execution_start": 1696625216584,
    "slideshow": {
     "slide_type": ""
    },
    "source_hash": null,
    "tags": []
   },
   "outputs": [
    {
     "data": {
      "text/plain": [
       "array([6.43, 5.81, 4.99])"
      ]
     },
     "execution_count": 22,
     "metadata": {},
     "output_type": "execute_result"
    }
   ],
   "source": [
    "our_arr[:,0].astype(float)"
   ]
  },
  {
   "cell_type": "markdown",
   "metadata": {
    "cell_id": "0cca4a0d87a440009a634c77a96e33f1",
    "deepnote_cell_type": "markdown",
    "editable": true,
    "slideshow": {
     "slide_type": ""
    },
    "tags": []
   },
   "source": [
    "### Right approach: as a pandas DataFrame\n",
    "\n",
    "The most important Python library in Math 10 is the pandas library.  pandas is like the Python version of Excel."
   ]
  },
  {
   "cell_type": "markdown",
   "metadata": {
    "cell_id": "d15fb8f4f60744d7ae26f50c41ee3297",
    "deepnote_cell_type": "markdown",
    "editable": true,
    "slideshow": {
     "slide_type": ""
    },
    "tags": []
   },
   "source": [
    "* Convert `our_list` to a pandas DataFrame."
   ]
  },
  {
   "cell_type": "code",
   "execution_count": 23,
   "metadata": {
    "cell_id": "dce409e31fcc4b1cab7dd7295e7df27d",
    "deepnote_cell_type": "code",
    "deepnote_to_be_reexecuted": false,
    "editable": true,
    "execution_millis": 191,
    "execution_start": 1696625315778,
    "slideshow": {
     "slide_type": ""
    },
    "source_hash": null,
    "tags": []
   },
   "outputs": [
    {
     "data": {
      "text/html": [
       "<div>\n",
       "<style scoped>\n",
       "    .dataframe tbody tr th:only-of-type {\n",
       "        vertical-align: middle;\n",
       "    }\n",
       "\n",
       "    .dataframe tbody tr th {\n",
       "        vertical-align: top;\n",
       "    }\n",
       "\n",
       "    .dataframe thead th {\n",
       "        text-align: right;\n",
       "    }\n",
       "</style>\n",
       "<table border=\"1\" class=\"dataframe\">\n",
       "  <thead>\n",
       "    <tr style=\"text-align: right;\">\n",
       "      <th></th>\n",
       "      <th>0</th>\n",
       "      <th>1</th>\n",
       "      <th>2</th>\n",
       "      <th>3</th>\n",
       "    </tr>\n",
       "  </thead>\n",
       "  <tbody>\n",
       "    <tr>\n",
       "      <th>0</th>\n",
       "      <td>6.43</td>\n",
       "      <td>10</td>\n",
       "      <td>Alice</td>\n",
       "      <td>4.7</td>\n",
       "    </tr>\n",
       "    <tr>\n",
       "      <th>1</th>\n",
       "      <td>5.81</td>\n",
       "      <td>15</td>\n",
       "      <td>Bob</td>\n",
       "      <td>4.4</td>\n",
       "    </tr>\n",
       "    <tr>\n",
       "      <th>2</th>\n",
       "      <td>4.99</td>\n",
       "      <td>2</td>\n",
       "      <td>Eve</td>\n",
       "      <td>2.0</td>\n",
       "    </tr>\n",
       "  </tbody>\n",
       "</table>\n",
       "</div>"
      ],
      "text/plain": [
       "      0   1      2    3\n",
       "0  6.43  10  Alice  4.7\n",
       "1  5.81  15    Bob  4.4\n",
       "2  4.99   2    Eve  2.0"
      ]
     },
     "execution_count": 23,
     "metadata": {},
     "output_type": "execute_result"
    }
   ],
   "source": [
    "import pandas as pd\n",
    "pd.DataFrame(our_list)"
   ]
  },
  {
   "cell_type": "markdown",
   "metadata": {
    "cell_id": "272ad80311994436a00a06e3e9de660b",
    "deepnote_cell_type": "markdown",
    "editable": true,
    "slideshow": {
     "slide_type": ""
    },
    "tags": []
   },
   "source": [
    "Actually it's better to import directly from the csv file.\n",
    "\n",
    "* Read in the data directly from `our-own.csv` using the pandas function `read_csv` and store it with the variable name `df`."
   ]
  },
  {
   "cell_type": "markdown",
   "metadata": {
    "cell_id": "f219866c38be449d8e05cc69a1aff6e8",
    "deepnote_cell_type": "markdown",
    "editable": true,
    "slideshow": {
     "slide_type": ""
    },
    "tags": []
   },
   "source": [
    "One advantage of this approach: the column names show up."
   ]
  },
  {
   "cell_type": "code",
   "execution_count": 24,
   "metadata": {
    "cell_id": "cbe9157c562d4a64a42e30a6f45c1f02",
    "deepnote_cell_type": "code",
    "deepnote_to_be_reexecuted": false,
    "editable": true,
    "execution_millis": 155,
    "execution_start": 1696625417600,
    "slideshow": {
     "slide_type": ""
    },
    "source_hash": null,
    "tags": []
   },
   "outputs": [
    {
     "data": {
      "text/html": [
       "<div>\n",
       "<style scoped>\n",
       "    .dataframe tbody tr th:only-of-type {\n",
       "        vertical-align: middle;\n",
       "    }\n",
       "\n",
       "    .dataframe tbody tr th {\n",
       "        vertical-align: top;\n",
       "    }\n",
       "\n",
       "    .dataframe thead th {\n",
       "        text-align: right;\n",
       "    }\n",
       "</style>\n",
       "<table border=\"1\" class=\"dataframe\">\n",
       "  <thead>\n",
       "    <tr style=\"text-align: right;\">\n",
       "      <th></th>\n",
       "      <th>Cost</th>\n",
       "      <th>Quantity</th>\n",
       "      <th>Seller</th>\n",
       "      <th>Rating</th>\n",
       "    </tr>\n",
       "  </thead>\n",
       "  <tbody>\n",
       "    <tr>\n",
       "      <th>0</th>\n",
       "      <td>6.43</td>\n",
       "      <td>10</td>\n",
       "      <td>Alice</td>\n",
       "      <td>4.7</td>\n",
       "    </tr>\n",
       "    <tr>\n",
       "      <th>1</th>\n",
       "      <td>5.81</td>\n",
       "      <td>15</td>\n",
       "      <td>Bob</td>\n",
       "      <td>4.4</td>\n",
       "    </tr>\n",
       "    <tr>\n",
       "      <th>2</th>\n",
       "      <td>4.99</td>\n",
       "      <td>2</td>\n",
       "      <td>Eve</td>\n",
       "      <td>2.0</td>\n",
       "    </tr>\n",
       "  </tbody>\n",
       "</table>\n",
       "</div>"
      ],
      "text/plain": [
       "   Cost  Quantity Seller  Rating\n",
       "0  6.43        10  Alice     4.7\n",
       "1  5.81        15    Bob     4.4\n",
       "2  4.99         2    Eve     2.0"
      ]
     },
     "execution_count": 24,
     "metadata": {},
     "output_type": "execute_result"
    }
   ],
   "source": [
    "df = pd.read_csv('our-own.csv')\n",
    "df"
   ]
  }
 ],
 "metadata": {
  "deepnote": {},
  "deepnote_execution_queue": [],
  "deepnote_notebook_id": "31318822a4ed4e7a92b6acba301815c8",
  "deepnote_persisted_session": {
   "createdAt": "2023-10-06T21:16:28.462Z"
  },
  "kernelspec": {
   "display_name": "Python 3 (ipykernel)",
   "language": "python",
   "name": "python3"
  },
  "language_info": {
   "codemirror_mode": {
    "name": "ipython",
    "version": 3
   },
   "file_extension": ".py",
   "mimetype": "text/x-python",
   "name": "python",
   "nbconvert_exporter": "python",
   "pygments_lexer": "ipython3",
   "version": "3.8.16"
  }
 },
 "nbformat": 4,
 "nbformat_minor": 4
}
