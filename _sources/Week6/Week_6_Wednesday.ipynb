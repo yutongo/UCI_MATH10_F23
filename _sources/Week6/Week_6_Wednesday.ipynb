{
 "cells": [
  {
   "cell_type": "markdown",
   "metadata": {
    "cell_id": "483ca290e17f4a5e89c7112b34f7d732",
    "deepnote_cell_type": "markdown"
   },
   "source": [
    "# Week 6 Wednesday\n",
    "\n",
    "## Announcements\n",
    "\n",
    "* HW5 due Wednesday.\n",
    "* HW6 is posted (due next Wednesday).\n",
    "\n",
    "\n",
    "## Plan:\n",
    "* Using `Pipeline` to combine multiple steps"
   ]
  },
  {
   "cell_type": "code",
   "execution_count": null,
   "metadata": {
    "cell_id": "ecdd871ac1f247e397bfb4fa0007be66",
    "deepnote_cell_type": "code",
    "deepnote_to_be_reexecuted": false,
    "execution_millis": 209,
    "execution_start": 1699477362918,
    "source_hash": null
   },
   "outputs": [],
   "source": [
    "import numpy as np\n",
    "import pandas as pd\n",
    "import altair as alt"
   ]
  },
  {
   "cell_type": "markdown",
   "metadata": {
    "cell_id": "9b0b72dda61e4c8abf374d4f469b6c77",
    "deepnote_cell_type": "markdown"
   },
   "source": [
    "### Generating random data\n",
    "\n",
    "Here we make some data that follows a random polynomial.  Can we use scikit-learn to estimate the underlying polynomial?\n",
    "\n",
    "Here are some comments about the code:\n",
    "* It's written so that if you change `deg` to another integer, the rest should work the same.\n",
    "* The \"y_true\" column values follow a degree 3 polynomial exactly.\n",
    "* The \"y\" column values are obtained by adding random noise to the \"y_true\" values.\n",
    "* We use two different `size` keyword arguments, one for getting the coefficients, and one for getting a different random value for each row in the DataFrame.\n",
    "* It's better to use normally distributed random values, rather than uniformly distributed values in [0,1], so that the data points are not all within a band of width 1 from the true polynomial.\n",
    "* In general in Python, if you find yourself writing `range(len(???))`, you're probably not writing your code in a \"Pythonic\" way.  We will see an elegant way to replace `range(len(???))` below."
   ]
  },
  {
   "cell_type": "code",
   "execution_count": null,
   "metadata": {
    "cell_id": "831ba11b99964e5fab336accbf009735",
    "deepnote_cell_type": "code",
    "deepnote_to_be_reexecuted": false,
    "execution_millis": 10,
    "execution_start": 1699477591035,
    "source_hash": null
   },
   "outputs": [
    {
     "data": {
      "text/plain": [
       "array([-3.00000000e+00, -2.90000000e+00, -2.80000000e+00, -2.70000000e+00,\n",
       "       -2.60000000e+00, -2.50000000e+00, -2.40000000e+00, -2.30000000e+00,\n",
       "       -2.20000000e+00, -2.10000000e+00, -2.00000000e+00, -1.90000000e+00,\n",
       "       -1.80000000e+00, -1.70000000e+00, -1.60000000e+00, -1.50000000e+00,\n",
       "       -1.40000000e+00, -1.30000000e+00, -1.20000000e+00, -1.10000000e+00,\n",
       "       -1.00000000e+00, -9.00000000e-01, -8.00000000e-01, -7.00000000e-01,\n",
       "       -6.00000000e-01, -5.00000000e-01, -4.00000000e-01, -3.00000000e-01,\n",
       "       -2.00000000e-01, -1.00000000e-01,  2.66453526e-15,  1.00000000e-01,\n",
       "        2.00000000e-01,  3.00000000e-01,  4.00000000e-01,  5.00000000e-01,\n",
       "        6.00000000e-01,  7.00000000e-01,  8.00000000e-01,  9.00000000e-01,\n",
       "        1.00000000e+00,  1.10000000e+00,  1.20000000e+00,  1.30000000e+00,\n",
       "        1.40000000e+00,  1.50000000e+00,  1.60000000e+00,  1.70000000e+00,\n",
       "        1.80000000e+00,  1.90000000e+00])"
      ]
     },
     "execution_count": 3,
     "metadata": {},
     "output_type": "execute_result"
    }
   ],
   "source": [
    "np.arange(-3, 2, 0.1)"
   ]
  },
  {
   "cell_type": "code",
   "execution_count": null,
   "metadata": {
    "cell_id": "91e7bd39afb2455abb9d17f0213cfdbd",
    "deepnote_cell_type": "code",
    "deepnote_to_be_reexecuted": false,
    "execution_millis": 12,
    "execution_start": 1699477497529,
    "source_hash": null
   },
   "outputs": [
    {
     "name": "stdout",
     "output_type": "stream",
     "text": [
      "[-5  1 -3 -2]\n"
     ]
    }
   ],
   "source": [
    "deg = 3\n",
    "rng = np.random.default_rng(seed=27)\n",
    "# random integers in [-5,5)\n",
    "m = rng.integers(low=-5, high=5, size=deg+1)\n",
    "print(m)\n",
    "# A pandas DataFrame df is created with a column x that ranges from -3 to 2 in increments of 0.1. \n",
    "df = pd.DataFrame({\"x\": np.arange(-3, 2, 0.1)})\n",
    "\n",
    "# Calculate the true oolynomial values y_true\n",
    "df[\"y_true\"] = 0\n",
    "for i in range(len(m)):\n",
    "    df[\"y_true\"] += m[i]*df[\"x\"]**i\n",
    "#Add noise to generate y:\n",
    "df[\"y\"] = df[\"y_true\"] + rng.normal(scale=5, size=len(df))"
   ]
  },
  {
   "cell_type": "markdown",
   "metadata": {
    "cell_id": "2dfa1ebe69144ff6b0c30257f79ab657",
    "deepnote_cell_type": "markdown"
   },
   "source": [
    "At the end of that process, here is how `df` looks."
   ]
  },
  {
   "cell_type": "code",
   "execution_count": null,
   "metadata": {
    "cell_id": "754ffbe6ec8640c9b3b9344261146a43",
    "deepnote_cell_type": "code",
    "deepnote_to_be_reexecuted": false,
    "execution_millis": 97,
    "execution_start": 1699477899111,
    "source_hash": null
   },
   "outputs": [
    {
     "data": {
      "application/vnd.deepnote.dataframe.v3+json": {
       "column_count": 3,
       "columns": [
        {
         "dtype": "float64",
         "name": "x",
         "stats": {
          "histogram": [
           {
            "bin_end": -2.51,
            "bin_start": -3,
            "count": 5
           },
           {
            "bin_end": -2.019999999999999,
            "bin_start": -2.51,
            "count": 5
           },
           {
            "bin_end": -1.529999999999999,
            "bin_start": -2.019999999999999,
            "count": 5
           },
           {
            "bin_end": -1.0399999999999985,
            "bin_start": -1.529999999999999,
            "count": 5
           },
           {
            "bin_end": -0.549999999999998,
            "bin_start": -1.0399999999999985,
            "count": 5
           },
           {
            "bin_end": -0.05999999999999783,
            "bin_start": -0.549999999999998,
            "count": 5
           },
           {
            "bin_end": 0.4300000000000028,
            "bin_start": -0.05999999999999783,
            "count": 5
           },
           {
            "bin_end": 0.920000000000003,
            "bin_start": 0.4300000000000028,
            "count": 5
           },
           {
            "bin_end": 1.4100000000000037,
            "bin_start": 0.920000000000003,
            "count": 5
           },
           {
            "bin_end": 1.900000000000004,
            "bin_start": 1.4100000000000037,
            "count": 5
           }
          ],
          "max": "1.900000000000004",
          "min": "-3.0",
          "nan_count": 0,
          "unique_count": 50
         }
        },
        {
         "dtype": "float64",
         "name": "y_true",
         "stats": {
          "histogram": [
           {
            "bin_end": -22.98320000000011,
            "bin_start": -27.648000000000124,
            "count": 2
           },
           {
            "bin_end": -18.3184000000001,
            "bin_start": -22.98320000000011,
            "count": 2
           },
           {
            "bin_end": -13.653600000000088,
            "bin_start": -18.3184000000001,
            "count": 2
           },
           {
            "bin_end": -8.988800000000076,
            "bin_start": -13.653600000000088,
            "count": 4
           },
           {
            "bin_end": -4.324000000000062,
            "bin_start": -8.988800000000076,
            "count": 28
           },
           {
            "bin_end": 0.34079999999994826,
            "bin_start": -4.324000000000062,
            "count": 4
           },
           {
            "bin_end": 5.0055999999999585,
            "bin_start": 0.34079999999994826,
            "count": 3
           },
           {
            "bin_end": 9.670399999999972,
            "bin_start": 5.0055999999999585,
            "count": 1
           },
           {
            "bin_end": 14.335199999999986,
            "bin_start": 9.670399999999972,
            "count": 2
           },
           {
            "bin_end": 19,
            "bin_start": 14.335199999999986,
            "count": 2
           }
          ],
          "max": "19.0",
          "min": "-27.648000000000124",
          "nan_count": 0,
          "unique_count": 50
         }
        },
        {
         "dtype": "float64",
         "name": "y",
         "stats": {
          "histogram": [
           {
            "bin_end": -19.74769268223246,
            "bin_start": -24.589036941447688,
            "count": 3
           },
           {
            "bin_end": -14.906348423017233,
            "bin_start": -19.74769268223246,
            "count": 4
           },
           {
            "bin_end": -10.065004163802005,
            "bin_start": -14.906348423017233,
            "count": 7
           },
           {
            "bin_end": -5.223659904586778,
            "bin_start": -10.065004163802005,
            "count": 15
           },
           {
            "bin_end": -0.38231564537155194,
            "bin_start": -5.223659904586778,
            "count": 12
           },
           {
            "bin_end": 4.459028613843678,
            "bin_start": -0.38231564537155194,
            "count": 3
           },
           {
            "bin_end": 9.300372873058905,
            "bin_start": 4.459028613843678,
            "count": 2
           },
           {
            "bin_end": 14.141717132274131,
            "bin_start": 9.300372873058905,
            "count": 2
           },
           {
            "bin_end": 18.983061391489358,
            "bin_start": 14.141717132274131,
            "count": 1
           },
           {
            "bin_end": 23.824405650704584,
            "bin_start": 18.983061391489358,
            "count": 1
           }
          ],
          "max": "23.824405650704584",
          "min": "-24.589036941447688",
          "nan_count": 0,
          "unique_count": 50
         }
        },
        {
         "dtype": "int64",
         "name": "_deepnote_index_column"
        }
       ],
       "row_count": 50,
       "rows": [
        {
         "_deepnote_index_column": 0,
         "x": -3,
         "y": 23.824405650704584,
         "y_true": 19
        },
        {
         "_deepnote_index_column": 1,
         "x": -2.9,
         "y": 10.237108055098796,
         "y_true": 15.647999999999996
        },
        {
         "_deepnote_index_column": 2,
         "x": -2.8,
         "y": 16.91908679057319,
         "y_true": 12.583999999999993
        },
        {
         "_deepnote_index_column": 3,
         "x": -2.6999999999999997,
         "y": 8.955196204317206,
         "y_true": 9.795999999999992
        },
        {
         "_deepnote_index_column": 4,
         "x": -2.5999999999999996,
         "y": 6.323695104370164,
         "y_true": 7.271999999999991
        },
        {
         "_deepnote_index_column": 5,
         "x": -2.4999999999999996,
         "y": 10.602832278036008,
         "y_true": 4.999999999999989
        },
        {
         "_deepnote_index_column": 6,
         "x": -2.3999999999999995,
         "y": 0.7841046813223418,
         "y_true": 2.967999999999993
        },
        {
         "_deepnote_index_column": 7,
         "x": -2.2999999999999994,
         "y": -5.234226812329393,
         "y_true": 1.1639999999999908
        },
        {
         "_deepnote_index_column": 8,
         "x": -2.1999999999999993,
         "y": -2.7714988713165125,
         "y_true": -0.4240000000000137
        },
        {
         "_deepnote_index_column": 9,
         "x": -2.099999999999999,
         "y": -7.792135811821553,
         "y_true": -1.808000000000014
        }
       ]
      },
      "text/html": [
       "<div>\n",
       "<style scoped>\n",
       "    .dataframe tbody tr th:only-of-type {\n",
       "        vertical-align: middle;\n",
       "    }\n",
       "\n",
       "    .dataframe tbody tr th {\n",
       "        vertical-align: top;\n",
       "    }\n",
       "\n",
       "    .dataframe thead th {\n",
       "        text-align: right;\n",
       "    }\n",
       "</style>\n",
       "<table border=\"1\" class=\"dataframe\">\n",
       "  <thead>\n",
       "    <tr style=\"text-align: right;\">\n",
       "      <th></th>\n",
       "      <th>x</th>\n",
       "      <th>y_true</th>\n",
       "      <th>y</th>\n",
       "    </tr>\n",
       "  </thead>\n",
       "  <tbody>\n",
       "    <tr>\n",
       "      <th>0</th>\n",
       "      <td>-3.000000e+00</td>\n",
       "      <td>19.000</td>\n",
       "      <td>23.824406</td>\n",
       "    </tr>\n",
       "    <tr>\n",
       "      <th>1</th>\n",
       "      <td>-2.900000e+00</td>\n",
       "      <td>15.648</td>\n",
       "      <td>10.237108</td>\n",
       "    </tr>\n",
       "    <tr>\n",
       "      <th>2</th>\n",
       "      <td>-2.800000e+00</td>\n",
       "      <td>12.584</td>\n",
       "      <td>16.919087</td>\n",
       "    </tr>\n",
       "    <tr>\n",
       "      <th>3</th>\n",
       "      <td>-2.700000e+00</td>\n",
       "      <td>9.796</td>\n",
       "      <td>8.955196</td>\n",
       "    </tr>\n",
       "    <tr>\n",
       "      <th>4</th>\n",
       "      <td>-2.600000e+00</td>\n",
       "      <td>7.272</td>\n",
       "      <td>6.323695</td>\n",
       "    </tr>\n",
       "    <tr>\n",
       "      <th>5</th>\n",
       "      <td>-2.500000e+00</td>\n",
       "      <td>5.000</td>\n",
       "      <td>10.602832</td>\n",
       "    </tr>\n",
       "    <tr>\n",
       "      <th>6</th>\n",
       "      <td>-2.400000e+00</td>\n",
       "      <td>2.968</td>\n",
       "      <td>0.784105</td>\n",
       "    </tr>\n",
       "    <tr>\n",
       "      <th>7</th>\n",
       "      <td>-2.300000e+00</td>\n",
       "      <td>1.164</td>\n",
       "      <td>-5.234227</td>\n",
       "    </tr>\n",
       "    <tr>\n",
       "      <th>8</th>\n",
       "      <td>-2.200000e+00</td>\n",
       "      <td>-0.424</td>\n",
       "      <td>-2.771499</td>\n",
       "    </tr>\n",
       "    <tr>\n",
       "      <th>9</th>\n",
       "      <td>-2.100000e+00</td>\n",
       "      <td>-1.808</td>\n",
       "      <td>-7.792136</td>\n",
       "    </tr>\n",
       "    <tr>\n",
       "      <th>10</th>\n",
       "      <td>-2.000000e+00</td>\n",
       "      <td>-3.000</td>\n",
       "      <td>-12.199286</td>\n",
       "    </tr>\n",
       "    <tr>\n",
       "      <th>11</th>\n",
       "      <td>-1.900000e+00</td>\n",
       "      <td>-4.012</td>\n",
       "      <td>-4.739785</td>\n",
       "    </tr>\n",
       "    <tr>\n",
       "      <th>12</th>\n",
       "      <td>-1.800000e+00</td>\n",
       "      <td>-4.856</td>\n",
       "      <td>-2.864605</td>\n",
       "    </tr>\n",
       "    <tr>\n",
       "      <th>13</th>\n",
       "      <td>-1.700000e+00</td>\n",
       "      <td>-5.544</td>\n",
       "      <td>-16.354306</td>\n",
       "    </tr>\n",
       "    <tr>\n",
       "      <th>14</th>\n",
       "      <td>-1.600000e+00</td>\n",
       "      <td>-6.088</td>\n",
       "      <td>-6.015613</td>\n",
       "    </tr>\n",
       "    <tr>\n",
       "      <th>15</th>\n",
       "      <td>-1.500000e+00</td>\n",
       "      <td>-6.500</td>\n",
       "      <td>-5.224009</td>\n",
       "    </tr>\n",
       "    <tr>\n",
       "      <th>16</th>\n",
       "      <td>-1.400000e+00</td>\n",
       "      <td>-6.792</td>\n",
       "      <td>-5.926045</td>\n",
       "    </tr>\n",
       "    <tr>\n",
       "      <th>17</th>\n",
       "      <td>-1.300000e+00</td>\n",
       "      <td>-6.976</td>\n",
       "      <td>-13.326468</td>\n",
       "    </tr>\n",
       "    <tr>\n",
       "      <th>18</th>\n",
       "      <td>-1.200000e+00</td>\n",
       "      <td>-7.064</td>\n",
       "      <td>-8.618807</td>\n",
       "    </tr>\n",
       "    <tr>\n",
       "      <th>19</th>\n",
       "      <td>-1.100000e+00</td>\n",
       "      <td>-7.068</td>\n",
       "      <td>-7.999078</td>\n",
       "    </tr>\n",
       "    <tr>\n",
       "      <th>20</th>\n",
       "      <td>-1.000000e+00</td>\n",
       "      <td>-7.000</td>\n",
       "      <td>-4.835120</td>\n",
       "    </tr>\n",
       "    <tr>\n",
       "      <th>21</th>\n",
       "      <td>-9.000000e-01</td>\n",
       "      <td>-6.872</td>\n",
       "      <td>-13.308757</td>\n",
       "    </tr>\n",
       "    <tr>\n",
       "      <th>22</th>\n",
       "      <td>-8.000000e-01</td>\n",
       "      <td>-6.696</td>\n",
       "      <td>-4.778936</td>\n",
       "    </tr>\n",
       "    <tr>\n",
       "      <th>23</th>\n",
       "      <td>-7.000000e-01</td>\n",
       "      <td>-6.484</td>\n",
       "      <td>-1.524600</td>\n",
       "    </tr>\n",
       "    <tr>\n",
       "      <th>24</th>\n",
       "      <td>-6.000000e-01</td>\n",
       "      <td>-6.248</td>\n",
       "      <td>-17.686227</td>\n",
       "    </tr>\n",
       "    <tr>\n",
       "      <th>25</th>\n",
       "      <td>-5.000000e-01</td>\n",
       "      <td>-6.000</td>\n",
       "      <td>-4.880304</td>\n",
       "    </tr>\n",
       "    <tr>\n",
       "      <th>26</th>\n",
       "      <td>-4.000000e-01</td>\n",
       "      <td>-5.752</td>\n",
       "      <td>-13.385067</td>\n",
       "    </tr>\n",
       "    <tr>\n",
       "      <th>27</th>\n",
       "      <td>-3.000000e-01</td>\n",
       "      <td>-5.516</td>\n",
       "      <td>-6.368335</td>\n",
       "    </tr>\n",
       "    <tr>\n",
       "      <th>28</th>\n",
       "      <td>-2.000000e-01</td>\n",
       "      <td>-5.304</td>\n",
       "      <td>-8.704742</td>\n",
       "    </tr>\n",
       "    <tr>\n",
       "      <th>29</th>\n",
       "      <td>-1.000000e-01</td>\n",
       "      <td>-5.128</td>\n",
       "      <td>1.240175</td>\n",
       "    </tr>\n",
       "    <tr>\n",
       "      <th>30</th>\n",
       "      <td>2.664535e-15</td>\n",
       "      <td>-5.000</td>\n",
       "      <td>-4.714457</td>\n",
       "    </tr>\n",
       "    <tr>\n",
       "      <th>31</th>\n",
       "      <td>1.000000e-01</td>\n",
       "      <td>-4.932</td>\n",
       "      <td>-0.955557</td>\n",
       "    </tr>\n",
       "    <tr>\n",
       "      <th>32</th>\n",
       "      <td>2.000000e-01</td>\n",
       "      <td>-4.936</td>\n",
       "      <td>-10.169895</td>\n",
       "    </tr>\n",
       "    <tr>\n",
       "      <th>33</th>\n",
       "      <td>3.000000e-01</td>\n",
       "      <td>-5.024</td>\n",
       "      <td>-2.721364</td>\n",
       "    </tr>\n",
       "    <tr>\n",
       "      <th>34</th>\n",
       "      <td>4.000000e-01</td>\n",
       "      <td>-5.208</td>\n",
       "      <td>1.903864</td>\n",
       "    </tr>\n",
       "    <tr>\n",
       "      <th>35</th>\n",
       "      <td>5.000000e-01</td>\n",
       "      <td>-5.500</td>\n",
       "      <td>-9.036285</td>\n",
       "    </tr>\n",
       "    <tr>\n",
       "      <th>36</th>\n",
       "      <td>6.000000e-01</td>\n",
       "      <td>-5.912</td>\n",
       "      <td>-2.582631</td>\n",
       "    </tr>\n",
       "    <tr>\n",
       "      <th>37</th>\n",
       "      <td>7.000000e-01</td>\n",
       "      <td>-6.456</td>\n",
       "      <td>-4.049151</td>\n",
       "    </tr>\n",
       "    <tr>\n",
       "      <th>38</th>\n",
       "      <td>8.000000e-01</td>\n",
       "      <td>-7.144</td>\n",
       "      <td>-7.467370</td>\n",
       "    </tr>\n",
       "    <tr>\n",
       "      <th>39</th>\n",
       "      <td>9.000000e-01</td>\n",
       "      <td>-7.988</td>\n",
       "      <td>-14.245467</td>\n",
       "    </tr>\n",
       "    <tr>\n",
       "      <th>40</th>\n",
       "      <td>1.000000e+00</td>\n",
       "      <td>-9.000</td>\n",
       "      <td>-7.584490</td>\n",
       "    </tr>\n",
       "    <tr>\n",
       "      <th>41</th>\n",
       "      <td>1.100000e+00</td>\n",
       "      <td>-10.192</td>\n",
       "      <td>-11.543440</td>\n",
       "    </tr>\n",
       "    <tr>\n",
       "      <th>42</th>\n",
       "      <td>1.200000e+00</td>\n",
       "      <td>-11.576</td>\n",
       "      <td>-8.565901</td>\n",
       "    </tr>\n",
       "    <tr>\n",
       "      <th>43</th>\n",
       "      <td>1.300000e+00</td>\n",
       "      <td>-13.164</td>\n",
       "      <td>-9.269588</td>\n",
       "    </tr>\n",
       "    <tr>\n",
       "      <th>44</th>\n",
       "      <td>1.400000e+00</td>\n",
       "      <td>-14.968</td>\n",
       "      <td>-7.295300</td>\n",
       "    </tr>\n",
       "    <tr>\n",
       "      <th>45</th>\n",
       "      <td>1.500000e+00</td>\n",
       "      <td>-17.000</td>\n",
       "      <td>-21.182783</td>\n",
       "    </tr>\n",
       "    <tr>\n",
       "      <th>46</th>\n",
       "      <td>1.600000e+00</td>\n",
       "      <td>-19.272</td>\n",
       "      <td>-14.946791</td>\n",
       "    </tr>\n",
       "    <tr>\n",
       "      <th>47</th>\n",
       "      <td>1.700000e+00</td>\n",
       "      <td>-21.796</td>\n",
       "      <td>-18.291899</td>\n",
       "    </tr>\n",
       "    <tr>\n",
       "      <th>48</th>\n",
       "      <td>1.800000e+00</td>\n",
       "      <td>-24.584</td>\n",
       "      <td>-24.206884</td>\n",
       "    </tr>\n",
       "    <tr>\n",
       "      <th>49</th>\n",
       "      <td>1.900000e+00</td>\n",
       "      <td>-27.648</td>\n",
       "      <td>-24.589037</td>\n",
       "    </tr>\n",
       "  </tbody>\n",
       "</table>\n",
       "</div>"
      ],
      "text/plain": [
       "               x  y_true          y\n",
       "0  -3.000000e+00  19.000  23.824406\n",
       "1  -2.900000e+00  15.648  10.237108\n",
       "2  -2.800000e+00  12.584  16.919087\n",
       "3  -2.700000e+00   9.796   8.955196\n",
       "4  -2.600000e+00   7.272   6.323695\n",
       "5  -2.500000e+00   5.000  10.602832\n",
       "6  -2.400000e+00   2.968   0.784105\n",
       "7  -2.300000e+00   1.164  -5.234227\n",
       "8  -2.200000e+00  -0.424  -2.771499\n",
       "9  -2.100000e+00  -1.808  -7.792136\n",
       "10 -2.000000e+00  -3.000 -12.199286\n",
       "11 -1.900000e+00  -4.012  -4.739785\n",
       "12 -1.800000e+00  -4.856  -2.864605\n",
       "13 -1.700000e+00  -5.544 -16.354306\n",
       "14 -1.600000e+00  -6.088  -6.015613\n",
       "15 -1.500000e+00  -6.500  -5.224009\n",
       "16 -1.400000e+00  -6.792  -5.926045\n",
       "17 -1.300000e+00  -6.976 -13.326468\n",
       "18 -1.200000e+00  -7.064  -8.618807\n",
       "19 -1.100000e+00  -7.068  -7.999078\n",
       "20 -1.000000e+00  -7.000  -4.835120\n",
       "21 -9.000000e-01  -6.872 -13.308757\n",
       "22 -8.000000e-01  -6.696  -4.778936\n",
       "23 -7.000000e-01  -6.484  -1.524600\n",
       "24 -6.000000e-01  -6.248 -17.686227\n",
       "25 -5.000000e-01  -6.000  -4.880304\n",
       "26 -4.000000e-01  -5.752 -13.385067\n",
       "27 -3.000000e-01  -5.516  -6.368335\n",
       "28 -2.000000e-01  -5.304  -8.704742\n",
       "29 -1.000000e-01  -5.128   1.240175\n",
       "30  2.664535e-15  -5.000  -4.714457\n",
       "31  1.000000e-01  -4.932  -0.955557\n",
       "32  2.000000e-01  -4.936 -10.169895\n",
       "33  3.000000e-01  -5.024  -2.721364\n",
       "34  4.000000e-01  -5.208   1.903864\n",
       "35  5.000000e-01  -5.500  -9.036285\n",
       "36  6.000000e-01  -5.912  -2.582631\n",
       "37  7.000000e-01  -6.456  -4.049151\n",
       "38  8.000000e-01  -7.144  -7.467370\n",
       "39  9.000000e-01  -7.988 -14.245467\n",
       "40  1.000000e+00  -9.000  -7.584490\n",
       "41  1.100000e+00 -10.192 -11.543440\n",
       "42  1.200000e+00 -11.576  -8.565901\n",
       "43  1.300000e+00 -13.164  -9.269588\n",
       "44  1.400000e+00 -14.968  -7.295300\n",
       "45  1.500000e+00 -17.000 -21.182783\n",
       "46  1.600000e+00 -19.272 -14.946791\n",
       "47  1.700000e+00 -21.796 -18.291899\n",
       "48  1.800000e+00 -24.584 -24.206884\n",
       "49  1.900000e+00 -27.648 -24.589037"
      ]
     },
     "execution_count": 4,
     "metadata": {},
     "output_type": "execute_result"
    }
   ],
   "source": [
    "df"
   ]
  },
  {
   "cell_type": "markdown",
   "metadata": {
    "cell_id": "5bcdbc98fbb54baaacd43740ff054bc0",
    "deepnote_cell_type": "markdown"
   },
   "source": [
    "Aside: If you are using `range(len(???))` in Python, there is almost always a more elegant way to accomplish the same thing.\n",
    "\n",
    "* Rewrite the code above using `enumerate(m)` instead of `range(len(m))`.\n",
    "\n",
    "Recall that `m` holds the four randomly chosen coefficients for our true polynomial.  Why couldn't we use just `for c in m:` above?  Because we needed to know both the value in `m` and its index.  For example, we needed to know that `-3` corresponded to the `x**2` column (`m[2]` is `-3`).\n",
    "\n",
    "This is such a common pattern in Python, that a function is provided to help accomplish this, called `enumerate`.  When we iterate through `enumerate(m)`, pairs of elements are returned: the index, and the value.  For example in our case `m = [-5,  1, -3, -2]`, and so the initial pair returned will be `(0, -5)`, the next pair will be `(1, 1)`, the next pair will be `(2, -3)`, and the last pair will be `(3, -2)`.  We assign the values in these pairs to `i` and `c`, respectively."
   ]
  },
  {
   "cell_type": "code",
   "execution_count": null,
   "metadata": {
    "cell_id": "476fd7e9a84a451ba52be9e695a04a14",
    "deepnote_cell_type": "code",
    "deepnote_to_be_reexecuted": false,
    "execution_millis": 26,
    "execution_start": 1699478096118,
    "source_hash": null
   },
   "outputs": [
    {
     "data": {
      "application/vnd.deepnote.dataframe.v3+json": {
       "column_count": 3,
       "columns": [
        {
         "dtype": "float64",
         "name": "x",
         "stats": {
          "histogram": [
           {
            "bin_end": -2.51,
            "bin_start": -3,
            "count": 5
           },
           {
            "bin_end": -2.019999999999999,
            "bin_start": -2.51,
            "count": 5
           },
           {
            "bin_end": -1.529999999999999,
            "bin_start": -2.019999999999999,
            "count": 5
           },
           {
            "bin_end": -1.0399999999999985,
            "bin_start": -1.529999999999999,
            "count": 5
           },
           {
            "bin_end": -0.549999999999998,
            "bin_start": -1.0399999999999985,
            "count": 5
           },
           {
            "bin_end": -0.05999999999999783,
            "bin_start": -0.549999999999998,
            "count": 5
           },
           {
            "bin_end": 0.4300000000000028,
            "bin_start": -0.05999999999999783,
            "count": 5
           },
           {
            "bin_end": 0.920000000000003,
            "bin_start": 0.4300000000000028,
            "count": 5
           },
           {
            "bin_end": 1.4100000000000037,
            "bin_start": 0.920000000000003,
            "count": 5
           },
           {
            "bin_end": 1.900000000000004,
            "bin_start": 1.4100000000000037,
            "count": 5
           }
          ],
          "max": "1.900000000000004",
          "min": "-3.0",
          "nan_count": 0,
          "unique_count": 50
         }
        },
        {
         "dtype": "float64",
         "name": "y_true",
         "stats": {
          "histogram": [
           {
            "bin_end": -22.98320000000011,
            "bin_start": -27.648000000000124,
            "count": 2
           },
           {
            "bin_end": -18.3184000000001,
            "bin_start": -22.98320000000011,
            "count": 2
           },
           {
            "bin_end": -13.653600000000088,
            "bin_start": -18.3184000000001,
            "count": 2
           },
           {
            "bin_end": -8.988800000000076,
            "bin_start": -13.653600000000088,
            "count": 4
           },
           {
            "bin_end": -4.324000000000062,
            "bin_start": -8.988800000000076,
            "count": 28
           },
           {
            "bin_end": 0.34079999999994826,
            "bin_start": -4.324000000000062,
            "count": 4
           },
           {
            "bin_end": 5.0055999999999585,
            "bin_start": 0.34079999999994826,
            "count": 3
           },
           {
            "bin_end": 9.670399999999972,
            "bin_start": 5.0055999999999585,
            "count": 1
           },
           {
            "bin_end": 14.335199999999986,
            "bin_start": 9.670399999999972,
            "count": 2
           },
           {
            "bin_end": 19,
            "bin_start": 14.335199999999986,
            "count": 2
           }
          ],
          "max": "19.0",
          "min": "-27.648000000000124",
          "nan_count": 0,
          "unique_count": 50
         }
        },
        {
         "dtype": "float64",
         "name": "y",
         "stats": {
          "histogram": [
           {
            "bin_end": -20.334782925066932,
            "bin_start": -24.77847715028231,
            "count": 2
           },
           {
            "bin_end": -15.89108869985155,
            "bin_start": -20.334782925066932,
            "count": 3
           },
           {
            "bin_end": -11.447394474636171,
            "bin_start": -15.89108869985155,
            "count": 9
           },
           {
            "bin_end": -7.003700249420792,
            "bin_start": -11.447394474636171,
            "count": 8
           },
           {
            "bin_end": -2.5600060242054106,
            "bin_start": -7.003700249420792,
            "count": 12
           },
           {
            "bin_end": 1.8836882010099671,
            "bin_start": -2.5600060242054106,
            "count": 7
           },
           {
            "bin_end": 6.327382426225345,
            "bin_start": 1.8836882010099671,
            "count": 3
           },
           {
            "bin_end": 10.771076651440726,
            "bin_start": 6.327382426225345,
            "count": 3
           },
           {
            "bin_end": 15.214770876656107,
            "bin_start": 10.771076651440726,
            "count": 1
           },
           {
            "bin_end": 19.658465101871492,
            "bin_start": 15.214770876656107,
            "count": 2
           }
          ],
          "max": "19.658465101871492",
          "min": "-24.77847715028231",
          "nan_count": 0,
          "unique_count": 50
         }
        },
        {
         "dtype": "int64",
         "name": "_deepnote_index_column"
        }
       ],
       "row_count": 50,
       "rows": [
        {
         "_deepnote_index_column": 0,
         "x": -3,
         "y": 19.658465101871492,
         "y_true": 19
        },
        {
         "_deepnote_index_column": 1,
         "x": -2.9,
         "y": 19.004528282618537,
         "y_true": 15.647999999999996
        },
        {
         "_deepnote_index_column": 2,
         "x": -2.8,
         "y": 14.544002144257137,
         "y_true": 12.583999999999993
        },
        {
         "_deepnote_index_column": 3,
         "x": -2.6999999999999997,
         "y": 6.982884893264817,
         "y_true": 9.795999999999992
        },
        {
         "_deepnote_index_column": 4,
         "x": -2.5999999999999996,
         "y": 7.806070461300174,
         "y_true": 7.271999999999991
        },
        {
         "_deepnote_index_column": 5,
         "x": -2.4999999999999996,
         "y": 8.322150273840546,
         "y_true": 4.999999999999989
        },
        {
         "_deepnote_index_column": 6,
         "x": -2.3999999999999995,
         "y": -1.2896924420726732,
         "y_true": 2.967999999999993
        },
        {
         "_deepnote_index_column": 7,
         "x": -2.2999999999999994,
         "y": -0.8273918144512216,
         "y_true": 1.1639999999999908
        },
        {
         "_deepnote_index_column": 8,
         "x": -2.1999999999999993,
         "y": 6.149442465409061,
         "y_true": -0.4240000000000137
        },
        {
         "_deepnote_index_column": 9,
         "x": -2.099999999999999,
         "y": -0.1839666032241829,
         "y_true": -1.808000000000014
        }
       ]
      },
      "text/html": [
       "<div>\n",
       "<style scoped>\n",
       "    .dataframe tbody tr th:only-of-type {\n",
       "        vertical-align: middle;\n",
       "    }\n",
       "\n",
       "    .dataframe tbody tr th {\n",
       "        vertical-align: top;\n",
       "    }\n",
       "\n",
       "    .dataframe thead th {\n",
       "        text-align: right;\n",
       "    }\n",
       "</style>\n",
       "<table border=\"1\" class=\"dataframe\">\n",
       "  <thead>\n",
       "    <tr style=\"text-align: right;\">\n",
       "      <th></th>\n",
       "      <th>x</th>\n",
       "      <th>y_true</th>\n",
       "      <th>y</th>\n",
       "    </tr>\n",
       "  </thead>\n",
       "  <tbody>\n",
       "    <tr>\n",
       "      <th>0</th>\n",
       "      <td>-3.000000e+00</td>\n",
       "      <td>19.000</td>\n",
       "      <td>19.658465</td>\n",
       "    </tr>\n",
       "    <tr>\n",
       "      <th>1</th>\n",
       "      <td>-2.900000e+00</td>\n",
       "      <td>15.648</td>\n",
       "      <td>19.004528</td>\n",
       "    </tr>\n",
       "    <tr>\n",
       "      <th>2</th>\n",
       "      <td>-2.800000e+00</td>\n",
       "      <td>12.584</td>\n",
       "      <td>14.544002</td>\n",
       "    </tr>\n",
       "    <tr>\n",
       "      <th>3</th>\n",
       "      <td>-2.700000e+00</td>\n",
       "      <td>9.796</td>\n",
       "      <td>6.982885</td>\n",
       "    </tr>\n",
       "    <tr>\n",
       "      <th>4</th>\n",
       "      <td>-2.600000e+00</td>\n",
       "      <td>7.272</td>\n",
       "      <td>7.806070</td>\n",
       "    </tr>\n",
       "    <tr>\n",
       "      <th>5</th>\n",
       "      <td>-2.500000e+00</td>\n",
       "      <td>5.000</td>\n",
       "      <td>8.322150</td>\n",
       "    </tr>\n",
       "    <tr>\n",
       "      <th>6</th>\n",
       "      <td>-2.400000e+00</td>\n",
       "      <td>2.968</td>\n",
       "      <td>-1.289692</td>\n",
       "    </tr>\n",
       "    <tr>\n",
       "      <th>7</th>\n",
       "      <td>-2.300000e+00</td>\n",
       "      <td>1.164</td>\n",
       "      <td>-0.827392</td>\n",
       "    </tr>\n",
       "    <tr>\n",
       "      <th>8</th>\n",
       "      <td>-2.200000e+00</td>\n",
       "      <td>-0.424</td>\n",
       "      <td>6.149442</td>\n",
       "    </tr>\n",
       "    <tr>\n",
       "      <th>9</th>\n",
       "      <td>-2.100000e+00</td>\n",
       "      <td>-1.808</td>\n",
       "      <td>-0.183967</td>\n",
       "    </tr>\n",
       "    <tr>\n",
       "      <th>10</th>\n",
       "      <td>-2.000000e+00</td>\n",
       "      <td>-3.000</td>\n",
       "      <td>-6.093065</td>\n",
       "    </tr>\n",
       "    <tr>\n",
       "      <th>11</th>\n",
       "      <td>-1.900000e+00</td>\n",
       "      <td>-4.012</td>\n",
       "      <td>-6.817643</td>\n",
       "    </tr>\n",
       "    <tr>\n",
       "      <th>12</th>\n",
       "      <td>-1.800000e+00</td>\n",
       "      <td>-4.856</td>\n",
       "      <td>2.249072</td>\n",
       "    </tr>\n",
       "    <tr>\n",
       "      <th>13</th>\n",
       "      <td>-1.700000e+00</td>\n",
       "      <td>-5.544</td>\n",
       "      <td>-3.184134</td>\n",
       "    </tr>\n",
       "    <tr>\n",
       "      <th>14</th>\n",
       "      <td>-1.600000e+00</td>\n",
       "      <td>-6.088</td>\n",
       "      <td>-15.528922</td>\n",
       "    </tr>\n",
       "    <tr>\n",
       "      <th>15</th>\n",
       "      <td>-1.500000e+00</td>\n",
       "      <td>-6.500</td>\n",
       "      <td>-3.867985</td>\n",
       "    </tr>\n",
       "    <tr>\n",
       "      <th>16</th>\n",
       "      <td>-1.400000e+00</td>\n",
       "      <td>-6.792</td>\n",
       "      <td>-11.173514</td>\n",
       "    </tr>\n",
       "    <tr>\n",
       "      <th>17</th>\n",
       "      <td>-1.300000e+00</td>\n",
       "      <td>-6.976</td>\n",
       "      <td>-7.492278</td>\n",
       "    </tr>\n",
       "    <tr>\n",
       "      <th>18</th>\n",
       "      <td>-1.200000e+00</td>\n",
       "      <td>-7.064</td>\n",
       "      <td>-14.988038</td>\n",
       "    </tr>\n",
       "    <tr>\n",
       "      <th>19</th>\n",
       "      <td>-1.100000e+00</td>\n",
       "      <td>-7.068</td>\n",
       "      <td>-8.428815</td>\n",
       "    </tr>\n",
       "    <tr>\n",
       "      <th>20</th>\n",
       "      <td>-1.000000e+00</td>\n",
       "      <td>-7.000</td>\n",
       "      <td>-10.778717</td>\n",
       "    </tr>\n",
       "    <tr>\n",
       "      <th>21</th>\n",
       "      <td>-9.000000e-01</td>\n",
       "      <td>-6.872</td>\n",
       "      <td>-12.853986</td>\n",
       "    </tr>\n",
       "    <tr>\n",
       "      <th>22</th>\n",
       "      <td>-8.000000e-01</td>\n",
       "      <td>-6.696</td>\n",
       "      <td>-2.085862</td>\n",
       "    </tr>\n",
       "    <tr>\n",
       "      <th>23</th>\n",
       "      <td>-7.000000e-01</td>\n",
       "      <td>-6.484</td>\n",
       "      <td>5.928608</td>\n",
       "    </tr>\n",
       "    <tr>\n",
       "      <th>24</th>\n",
       "      <td>-6.000000e-01</td>\n",
       "      <td>-6.248</td>\n",
       "      <td>-3.419772</td>\n",
       "    </tr>\n",
       "    <tr>\n",
       "      <th>25</th>\n",
       "      <td>-5.000000e-01</td>\n",
       "      <td>-6.000</td>\n",
       "      <td>-5.006722</td>\n",
       "    </tr>\n",
       "    <tr>\n",
       "      <th>26</th>\n",
       "      <td>-4.000000e-01</td>\n",
       "      <td>-5.752</td>\n",
       "      <td>-11.888357</td>\n",
       "    </tr>\n",
       "    <tr>\n",
       "      <th>27</th>\n",
       "      <td>-3.000000e-01</td>\n",
       "      <td>-5.516</td>\n",
       "      <td>-6.781925</td>\n",
       "    </tr>\n",
       "    <tr>\n",
       "      <th>28</th>\n",
       "      <td>-2.000000e-01</td>\n",
       "      <td>-5.304</td>\n",
       "      <td>-8.647650</td>\n",
       "    </tr>\n",
       "    <tr>\n",
       "      <th>29</th>\n",
       "      <td>-1.000000e-01</td>\n",
       "      <td>-5.128</td>\n",
       "      <td>-14.463928</td>\n",
       "    </tr>\n",
       "    <tr>\n",
       "      <th>30</th>\n",
       "      <td>2.664535e-15</td>\n",
       "      <td>-5.000</td>\n",
       "      <td>-2.247368</td>\n",
       "    </tr>\n",
       "    <tr>\n",
       "      <th>31</th>\n",
       "      <td>1.000000e-01</td>\n",
       "      <td>-4.932</td>\n",
       "      <td>-5.226225</td>\n",
       "    </tr>\n",
       "    <tr>\n",
       "      <th>32</th>\n",
       "      <td>2.000000e-01</td>\n",
       "      <td>-4.936</td>\n",
       "      <td>-8.567178</td>\n",
       "    </tr>\n",
       "    <tr>\n",
       "      <th>33</th>\n",
       "      <td>3.000000e-01</td>\n",
       "      <td>-5.024</td>\n",
       "      <td>-12.507355</td>\n",
       "    </tr>\n",
       "    <tr>\n",
       "      <th>34</th>\n",
       "      <td>4.000000e-01</td>\n",
       "      <td>-5.208</td>\n",
       "      <td>-2.985618</td>\n",
       "    </tr>\n",
       "    <tr>\n",
       "      <th>35</th>\n",
       "      <td>5.000000e-01</td>\n",
       "      <td>-5.500</td>\n",
       "      <td>1.248474</td>\n",
       "    </tr>\n",
       "    <tr>\n",
       "      <th>36</th>\n",
       "      <td>6.000000e-01</td>\n",
       "      <td>-5.912</td>\n",
       "      <td>-5.436481</td>\n",
       "    </tr>\n",
       "    <tr>\n",
       "      <th>37</th>\n",
       "      <td>7.000000e-01</td>\n",
       "      <td>-6.456</td>\n",
       "      <td>-9.005758</td>\n",
       "    </tr>\n",
       "    <tr>\n",
       "      <th>38</th>\n",
       "      <td>8.000000e-01</td>\n",
       "      <td>-7.144</td>\n",
       "      <td>-4.079082</td>\n",
       "    </tr>\n",
       "    <tr>\n",
       "      <th>39</th>\n",
       "      <td>9.000000e-01</td>\n",
       "      <td>-7.988</td>\n",
       "      <td>-12.877670</td>\n",
       "    </tr>\n",
       "    <tr>\n",
       "      <th>40</th>\n",
       "      <td>1.000000e+00</td>\n",
       "      <td>-9.000</td>\n",
       "      <td>-19.902710</td>\n",
       "    </tr>\n",
       "    <tr>\n",
       "      <th>41</th>\n",
       "      <td>1.100000e+00</td>\n",
       "      <td>-10.192</td>\n",
       "      <td>-1.632357</td>\n",
       "    </tr>\n",
       "    <tr>\n",
       "      <th>42</th>\n",
       "      <td>1.200000e+00</td>\n",
       "      <td>-11.576</td>\n",
       "      <td>-3.138947</td>\n",
       "    </tr>\n",
       "    <tr>\n",
       "      <th>43</th>\n",
       "      <td>1.300000e+00</td>\n",
       "      <td>-13.164</td>\n",
       "      <td>-14.674297</td>\n",
       "    </tr>\n",
       "    <tr>\n",
       "      <th>44</th>\n",
       "      <td>1.400000e+00</td>\n",
       "      <td>-14.968</td>\n",
       "      <td>-14.626226</td>\n",
       "    </tr>\n",
       "    <tr>\n",
       "      <th>45</th>\n",
       "      <td>1.500000e+00</td>\n",
       "      <td>-17.000</td>\n",
       "      <td>-8.663278</td>\n",
       "    </tr>\n",
       "    <tr>\n",
       "      <th>46</th>\n",
       "      <td>1.600000e+00</td>\n",
       "      <td>-19.272</td>\n",
       "      <td>-24.778477</td>\n",
       "    </tr>\n",
       "    <tr>\n",
       "      <th>47</th>\n",
       "      <td>1.700000e+00</td>\n",
       "      <td>-21.796</td>\n",
       "      <td>-21.197001</td>\n",
       "    </tr>\n",
       "    <tr>\n",
       "      <th>48</th>\n",
       "      <td>1.800000e+00</td>\n",
       "      <td>-24.584</td>\n",
       "      <td>-20.253230</td>\n",
       "    </tr>\n",
       "    <tr>\n",
       "      <th>49</th>\n",
       "      <td>1.900000e+00</td>\n",
       "      <td>-27.648</td>\n",
       "      <td>-18.957032</td>\n",
       "    </tr>\n",
       "  </tbody>\n",
       "</table>\n",
       "</div>"
      ],
      "text/plain": [
       "               x  y_true          y\n",
       "0  -3.000000e+00  19.000  19.658465\n",
       "1  -2.900000e+00  15.648  19.004528\n",
       "2  -2.800000e+00  12.584  14.544002\n",
       "3  -2.700000e+00   9.796   6.982885\n",
       "4  -2.600000e+00   7.272   7.806070\n",
       "5  -2.500000e+00   5.000   8.322150\n",
       "6  -2.400000e+00   2.968  -1.289692\n",
       "7  -2.300000e+00   1.164  -0.827392\n",
       "8  -2.200000e+00  -0.424   6.149442\n",
       "9  -2.100000e+00  -1.808  -0.183967\n",
       "10 -2.000000e+00  -3.000  -6.093065\n",
       "11 -1.900000e+00  -4.012  -6.817643\n",
       "12 -1.800000e+00  -4.856   2.249072\n",
       "13 -1.700000e+00  -5.544  -3.184134\n",
       "14 -1.600000e+00  -6.088 -15.528922\n",
       "15 -1.500000e+00  -6.500  -3.867985\n",
       "16 -1.400000e+00  -6.792 -11.173514\n",
       "17 -1.300000e+00  -6.976  -7.492278\n",
       "18 -1.200000e+00  -7.064 -14.988038\n",
       "19 -1.100000e+00  -7.068  -8.428815\n",
       "20 -1.000000e+00  -7.000 -10.778717\n",
       "21 -9.000000e-01  -6.872 -12.853986\n",
       "22 -8.000000e-01  -6.696  -2.085862\n",
       "23 -7.000000e-01  -6.484   5.928608\n",
       "24 -6.000000e-01  -6.248  -3.419772\n",
       "25 -5.000000e-01  -6.000  -5.006722\n",
       "26 -4.000000e-01  -5.752 -11.888357\n",
       "27 -3.000000e-01  -5.516  -6.781925\n",
       "28 -2.000000e-01  -5.304  -8.647650\n",
       "29 -1.000000e-01  -5.128 -14.463928\n",
       "30  2.664535e-15  -5.000  -2.247368\n",
       "31  1.000000e-01  -4.932  -5.226225\n",
       "32  2.000000e-01  -4.936  -8.567178\n",
       "33  3.000000e-01  -5.024 -12.507355\n",
       "34  4.000000e-01  -5.208  -2.985618\n",
       "35  5.000000e-01  -5.500   1.248474\n",
       "36  6.000000e-01  -5.912  -5.436481\n",
       "37  7.000000e-01  -6.456  -9.005758\n",
       "38  8.000000e-01  -7.144  -4.079082\n",
       "39  9.000000e-01  -7.988 -12.877670\n",
       "40  1.000000e+00  -9.000 -19.902710\n",
       "41  1.100000e+00 -10.192  -1.632357\n",
       "42  1.200000e+00 -11.576  -3.138947\n",
       "43  1.300000e+00 -13.164 -14.674297\n",
       "44  1.400000e+00 -14.968 -14.626226\n",
       "45  1.500000e+00 -17.000  -8.663278\n",
       "46  1.600000e+00 -19.272 -24.778477\n",
       "47  1.700000e+00 -21.796 -21.197001\n",
       "48  1.800000e+00 -24.584 -20.253230\n",
       "49  1.900000e+00 -27.648 -18.957032"
      ]
     },
     "execution_count": 5,
     "metadata": {},
     "output_type": "execute_result"
    }
   ],
   "source": [
    "# A pandas DataFrame df is created with a column x that ranges from -3 to 2 in increments of 0.1. \n",
    "df = pd.DataFrame({\"x\": np.arange(-3, 2, 0.1)})\n",
    "\n",
    "# Calculate the true oolynomial values y_true\n",
    "df[\"y_true\"] = 0\n",
    "for i,c in enumerate(m): #c is m[i]\n",
    "    df[\"y_true\"] += c*df[\"x\"]**i\n",
    "#Add noise to generate y:\n",
    "df[\"y\"] = df[\"y_true\"] + rng.normal(scale=5, size=len(df))\n",
    "df"
   ]
  },
  {
   "cell_type": "markdown",
   "metadata": {
    "cell_id": "6e22df8eaa594fe09cf3e95d91f98ed3",
    "deepnote_cell_type": "markdown"
   },
   "source": [
    "* Here is what the data looks like.\n",
    "\n",
    "Based on the values in `m` above, we know these points are approximately following the curve $y = -2x^3 - 3x^2 + x - 5$.  For example, because the leading coefficient is negative, we know the outputs should be getting more negative as `x` increases, which seems to match what we see in the plotted data."
   ]
  },
  {
   "cell_type": "code",
   "execution_count": null,
   "metadata": {
    "cell_id": "1af9cfcaeb264366b72b02d8dca80f37",
    "deepnote_cell_type": "code",
    "deepnote_to_be_reexecuted": false,
    "execution_millis": 10,
    "execution_start": 1699478177362,
    "source_hash": null,
    "tags": []
   },
   "outputs": [
    {
     "data": {
      "text/html": [
       "\n",
       "<div id=\"altair-viz-4ab74b08831f469a96775214af744da8\"></div>\n",
       "<script type=\"text/javascript\">\n",
       "  var VEGA_DEBUG = (typeof VEGA_DEBUG == \"undefined\") ? {} : VEGA_DEBUG;\n",
       "  (function(spec, embedOpt){\n",
       "    let outputDiv = document.currentScript.previousElementSibling;\n",
       "    if (outputDiv.id !== \"altair-viz-4ab74b08831f469a96775214af744da8\") {\n",
       "      outputDiv = document.getElementById(\"altair-viz-4ab74b08831f469a96775214af744da8\");\n",
       "    }\n",
       "    const paths = {\n",
       "      \"vega\": \"https://cdn.jsdelivr.net/npm//vega@5?noext\",\n",
       "      \"vega-lib\": \"https://cdn.jsdelivr.net/npm//vega-lib?noext\",\n",
       "      \"vega-lite\": \"https://cdn.jsdelivr.net/npm//vega-lite@4.17.0?noext\",\n",
       "      \"vega-embed\": \"https://cdn.jsdelivr.net/npm//vega-embed@6?noext\",\n",
       "    };\n",
       "\n",
       "    function maybeLoadScript(lib, version) {\n",
       "      var key = `${lib.replace(\"-\", \"\")}_version`;\n",
       "      return (VEGA_DEBUG[key] == version) ?\n",
       "        Promise.resolve(paths[lib]) :\n",
       "        new Promise(function(resolve, reject) {\n",
       "          var s = document.createElement('script');\n",
       "          document.getElementsByTagName(\"head\")[0].appendChild(s);\n",
       "          s.async = true;\n",
       "          s.onload = () => {\n",
       "            VEGA_DEBUG[key] = version;\n",
       "            return resolve(paths[lib]);\n",
       "          };\n",
       "          s.onerror = () => reject(`Error loading script: ${paths[lib]}`);\n",
       "          s.src = paths[lib];\n",
       "        });\n",
       "    }\n",
       "\n",
       "    function showError(err) {\n",
       "      outputDiv.innerHTML = `<div class=\"error\" style=\"color:red;\">${err}</div>`;\n",
       "      throw err;\n",
       "    }\n",
       "\n",
       "    function displayChart(vegaEmbed) {\n",
       "      vegaEmbed(outputDiv, spec, embedOpt)\n",
       "        .catch(err => showError(`Javascript Error: ${err.message}<br>This usually means there's a typo in your chart specification. See the javascript console for the full traceback.`));\n",
       "    }\n",
       "\n",
       "    if(typeof define === \"function\" && define.amd) {\n",
       "      requirejs.config({paths});\n",
       "      require([\"vega-embed\"], displayChart, err => showError(`Error loading script: ${err.message}`));\n",
       "    } else {\n",
       "      maybeLoadScript(\"vega\", \"5\")\n",
       "        .then(() => maybeLoadScript(\"vega-lite\", \"4.17.0\"))\n",
       "        .then(() => maybeLoadScript(\"vega-embed\", \"6\"))\n",
       "        .catch(showError)\n",
       "        .then(() => displayChart(vegaEmbed));\n",
       "    }\n",
       "  })({\"config\": {\"view\": {\"continuousWidth\": 400, \"continuousHeight\": 300}}, \"data\": {\"name\": \"data-973d98ea2fd439e3a83dab5951372e19\"}, \"mark\": \"circle\", \"encoding\": {\"x\": {\"field\": \"x\", \"type\": \"quantitative\"}, \"y\": {\"field\": \"y\", \"type\": \"quantitative\"}}, \"$schema\": \"https://vega.github.io/schema/vega-lite/v4.17.0.json\", \"datasets\": {\"data-973d98ea2fd439e3a83dab5951372e19\": [{\"x\": -3.0, \"y_true\": 19.0, \"y\": 19.658465101871492}, {\"x\": -2.9, \"y_true\": 15.647999999999996, \"y\": 19.004528282618537}, {\"x\": -2.8, \"y_true\": 12.583999999999993, \"y\": 14.544002144257137}, {\"x\": -2.6999999999999997, \"y_true\": 9.795999999999992, \"y\": 6.982884893264817}, {\"x\": -2.5999999999999996, \"y_true\": 7.271999999999991, \"y\": 7.806070461300174}, {\"x\": -2.4999999999999996, \"y_true\": 4.999999999999989, \"y\": 8.322150273840546}, {\"x\": -2.3999999999999995, \"y_true\": 2.967999999999993, \"y\": -1.2896924420726732}, {\"x\": -2.2999999999999994, \"y_true\": 1.1639999999999908, \"y\": -0.8273918144512216}, {\"x\": -2.1999999999999993, \"y_true\": -0.4240000000000137, \"y\": 6.149442465409061}, {\"x\": -2.099999999999999, \"y_true\": -1.808000000000014, \"y\": -0.1839666032241829}, {\"x\": -1.9999999999999991, \"y_true\": -3.0000000000000107, \"y\": -6.093064646935422}, {\"x\": -1.899999999999999, \"y_true\": -4.012000000000011, \"y\": -6.817643470650995}, {\"x\": -1.799999999999999, \"y_true\": -4.856000000000009, \"y\": 2.2490716154049766}, {\"x\": -1.6999999999999988, \"y_true\": -5.544000000000008, \"y\": -3.184134467800284}, {\"x\": -1.5999999999999988, \"y_true\": -6.088000000000006, \"y\": -15.528922098150966}, {\"x\": -1.4999999999999987, \"y_true\": -6.5000000000000036, \"y\": -3.8679852243435735}, {\"x\": -1.3999999999999986, \"y_true\": -6.792000000000003, \"y\": -11.173514248402546}, {\"x\": -1.2999999999999985, \"y_true\": -6.976000000000002, \"y\": -7.492277631790138}, {\"x\": -1.1999999999999984, \"y_true\": -7.064000000000001, \"y\": -14.988038234518648}, {\"x\": -1.0999999999999983, \"y_true\": -7.067999999999998, \"y\": -8.428814724570906}, {\"x\": -0.9999999999999982, \"y_true\": -6.999999999999998, \"y\": -10.778717290673644}, {\"x\": -0.8999999999999981, \"y_true\": -6.871999999999996, \"y\": -12.85398568413452}, {\"x\": -0.799999999999998, \"y_true\": -6.695999999999996, \"y\": -2.0858623063889468}, {\"x\": -0.699999999999998, \"y_true\": -6.4839999999999955, \"y\": 5.928608153155058}, {\"x\": -0.5999999999999979, \"y_true\": -6.247999999999995, \"y\": -3.419772362889407}, {\"x\": -0.4999999999999978, \"y_true\": -5.999999999999995, \"y\": -5.00672191742912}, {\"x\": -0.3999999999999977, \"y_true\": -5.7519999999999945, \"y\": -11.88835694329487}, {\"x\": -0.2999999999999976, \"y_true\": -5.515999999999995, \"y\": -6.781924771898778}, {\"x\": -0.1999999999999975, \"y_true\": -5.303999999999996, \"y\": -8.647650201598005}, {\"x\": -0.09999999999999742, \"y_true\": -5.127999999999997, \"y\": -14.463927863664011}, {\"x\": 2.6645352591003757e-15, \"y_true\": -4.999999999999997, \"y\": -2.247368229087651}, {\"x\": 0.10000000000000275, \"y_true\": -4.931999999999999, \"y\": -5.226225230895909}, {\"x\": 0.20000000000000284, \"y_true\": -4.936000000000002, \"y\": -8.567177543511436}, {\"x\": 0.30000000000000293, \"y_true\": -5.024000000000004, \"y\": -12.507354574983232}, {\"x\": 0.400000000000003, \"y_true\": -5.208000000000007, \"y\": -2.98561847906008}, {\"x\": 0.5000000000000031, \"y_true\": -5.50000000000001, \"y\": 1.248473713097777}, {\"x\": 0.6000000000000032, \"y_true\": -5.912000000000015, \"y\": -5.4364812249440515}, {\"x\": 0.7000000000000033, \"y_true\": -6.456000000000021, \"y\": -9.005757557933645}, {\"x\": 0.8000000000000034, \"y_true\": -7.144000000000027, \"y\": -4.079081500436287}, {\"x\": 0.9000000000000035, \"y_true\": -7.988000000000032, \"y\": -12.87766973757309}, {\"x\": 1.0000000000000036, \"y_true\": -9.000000000000039, \"y\": -19.902709876868947}, {\"x\": 1.1000000000000032, \"y_true\": -10.192000000000041, \"y\": -1.6323568121990473}, {\"x\": 1.2000000000000037, \"y_true\": -11.576000000000054, \"y\": -3.138946733006403}, {\"x\": 1.3000000000000043, \"y_true\": -13.164000000000073, \"y\": -14.67429660470881}, {\"x\": 1.400000000000004, \"y_true\": -14.968000000000075, \"y\": -14.626225655987446}, {\"x\": 1.5000000000000036, \"y_true\": -17.000000000000078, \"y\": -8.663278321211596}, {\"x\": 1.600000000000004, \"y_true\": -19.272000000000098, \"y\": -24.77847715028231}, {\"x\": 1.7000000000000046, \"y_true\": -21.796000000000124, \"y\": -21.19700080694238}, {\"x\": 1.8000000000000043, \"y_true\": -24.584000000000124, \"y\": -20.25323039464798}, {\"x\": 1.900000000000004, \"y_true\": -27.648000000000124, \"y\": -18.957032440056313}]}}, {\"mode\": \"vega-lite\"});\n",
       "</script>"
      ],
      "text/plain": [
       "alt.Chart(...)"
      ]
     },
     "execution_count": 6,
     "metadata": {},
     "output_type": "execute_result"
    }
   ],
   "source": [
    "c1 = alt.Chart(df).mark_circle().encode(\n",
    "    x=\"x\",\n",
    "    y=\"y\"\n",
    ")\n",
    "\n",
    "c1"
   ]
  },
  {
   "cell_type": "markdown",
   "metadata": {
    "cell_id": "d92635f22985462788d46740942492f3",
    "deepnote_cell_type": "markdown"
   },
   "source": [
    "### Polynomial regression using `PolynomialFeatures`"
   ]
  },
  {
   "cell_type": "markdown",
   "metadata": {
    "cell_id": "a4405f4eb3b04c04b82a0af6e9a4ad17",
    "deepnote_cell_type": "markdown"
   },
   "source": [
    "* Use the `include_bias` keyword argument in `PolynomialFeatures` so we do not get a column for $x^0$"
   ]
  },
  {
   "cell_type": "markdown",
   "metadata": {
    "cell_id": "9405924aaf37470a975a70dd9345bf0e",
    "deepnote_cell_type": "markdown"
   },
   "source": [
    "Notice how these values correspond to powers of the \"x\" column, including the zero-th power (all 1s)."
   ]
  },
  {
   "cell_type": "code",
   "execution_count": null,
   "metadata": {
    "cell_id": "01fdaa656a3c4603b55d3283843f333f",
    "deepnote_cell_type": "code",
    "deepnote_to_be_reexecuted": false,
    "execution_millis": 633,
    "execution_start": 1699478315257,
    "source_hash": null
   },
   "outputs": [
    {
     "data": {
      "application/vnd.deepnote.dataframe.v3+json": {
       "column_count": 4,
       "columns": [
        {
         "dtype": "float64",
         "name": 0,
         "stats": {
          "histogram": [
           {
            "bin_end": 0.6,
            "bin_start": 0.5,
            "count": 0
           },
           {
            "bin_end": 0.7,
            "bin_start": 0.6,
            "count": 0
           },
           {
            "bin_end": 0.8,
            "bin_start": 0.7,
            "count": 0
           },
           {
            "bin_end": 0.9,
            "bin_start": 0.8,
            "count": 0
           },
           {
            "bin_end": 1,
            "bin_start": 0.9,
            "count": 0
           },
           {
            "bin_end": 1.1,
            "bin_start": 1,
            "count": 50
           },
           {
            "bin_end": 1.2000000000000002,
            "bin_start": 1.1,
            "count": 0
           },
           {
            "bin_end": 1.3,
            "bin_start": 1.2000000000000002,
            "count": 0
           },
           {
            "bin_end": 1.4,
            "bin_start": 1.3,
            "count": 0
           },
           {
            "bin_end": 1.5,
            "bin_start": 1.4,
            "count": 0
           }
          ],
          "max": "1.0",
          "min": "1.0",
          "nan_count": 0,
          "unique_count": 1
         }
        },
        {
         "dtype": "float64",
         "name": 1,
         "stats": {
          "histogram": [
           {
            "bin_end": -2.51,
            "bin_start": -3,
            "count": 5
           },
           {
            "bin_end": -2.019999999999999,
            "bin_start": -2.51,
            "count": 5
           },
           {
            "bin_end": -1.529999999999999,
            "bin_start": -2.019999999999999,
            "count": 5
           },
           {
            "bin_end": -1.0399999999999985,
            "bin_start": -1.529999999999999,
            "count": 5
           },
           {
            "bin_end": -0.549999999999998,
            "bin_start": -1.0399999999999985,
            "count": 5
           },
           {
            "bin_end": -0.05999999999999783,
            "bin_start": -0.549999999999998,
            "count": 5
           },
           {
            "bin_end": 0.4300000000000028,
            "bin_start": -0.05999999999999783,
            "count": 5
           },
           {
            "bin_end": 0.920000000000003,
            "bin_start": 0.4300000000000028,
            "count": 5
           },
           {
            "bin_end": 1.4100000000000037,
            "bin_start": 0.920000000000003,
            "count": 5
           },
           {
            "bin_end": 1.900000000000004,
            "bin_start": 1.4100000000000037,
            "count": 5
           }
          ],
          "max": "1.900000000000004",
          "min": "-3.0",
          "nan_count": 0,
          "unique_count": 50
         }
        },
        {
         "dtype": "float64",
         "name": 2,
         "stats": {
          "histogram": [
           {
            "bin_end": 0.9,
            "bin_start": 7.099748146989106e-30,
            "count": 19
           },
           {
            "bin_end": 1.8,
            "bin_start": 0.9,
            "count": 8
           },
           {
            "bin_end": 2.7,
            "bin_start": 1.8,
            "count": 6
           },
           {
            "bin_end": 3.6,
            "bin_start": 2.7,
            "count": 4
           },
           {
            "bin_end": 4.5,
            "bin_start": 3.6,
            "count": 4
           },
           {
            "bin_end": 5.4,
            "bin_start": 4.5,
            "count": 2
           },
           {
            "bin_end": 6.3,
            "bin_start": 5.4,
            "count": 2
           },
           {
            "bin_end": 7.2,
            "bin_start": 6.3,
            "count": 1
           },
           {
            "bin_end": 8.1,
            "bin_start": 7.2,
            "count": 2
           },
           {
            "bin_end": 9,
            "bin_start": 8.1,
            "count": 2
           }
          ],
          "max": "9.0",
          "min": "7.099748146989106e-30",
          "nan_count": 0,
          "unique_count": 50
         }
        },
        {
         "dtype": "float64",
         "name": 3,
         "stats": {
          "histogram": [
           {
            "bin_end": -23.614099999999997,
            "bin_start": -27,
            "count": 2
           },
           {
            "bin_end": -20.22819999999999,
            "bin_start": -23.614099999999997,
            "count": 1
           },
           {
            "bin_end": -16.842299999999987,
            "bin_start": -20.22819999999999,
            "count": 2
           },
           {
            "bin_end": -13.456399999999983,
            "bin_start": -16.842299999999987,
            "count": 2
           },
           {
            "bin_end": -10.070499999999978,
            "bin_start": -13.456399999999983,
            "count": 2
           },
           {
            "bin_end": -6.684599999999975,
            "bin_start": -10.070499999999978,
            "count": 3
           },
           {
            "bin_end": -3.298699999999968,
            "bin_start": -6.684599999999975,
            "count": 4
           },
           {
            "bin_end": 0.0872000000000348,
            "bin_start": -3.298699999999968,
            "count": 19
           },
           {
            "bin_end": 3.473100000000038,
            "bin_start": 0.0872000000000348,
            "count": 11
           },
           {
            "bin_end": 6.859000000000043,
            "bin_start": 3.473100000000038,
            "count": 4
           }
          ],
          "max": "6.859000000000043",
          "min": "-27.0",
          "nan_count": 0,
          "unique_count": 50
         }
        },
        {
         "dtype": "int64",
         "name": "_deepnote_index_column"
        }
       ],
       "row_count": 50,
       "rows": [
        {
         "0": 1,
         "1": -3,
         "2": 9,
         "3": -27,
         "_deepnote_index_column": 0
        },
        {
         "0": 1,
         "1": -2.9,
         "2": 8.41,
         "3": -24.389,
         "_deepnote_index_column": 1
        },
        {
         "0": 1,
         "1": -2.8,
         "2": 7.839999999999999,
         "3": -21.951999999999995,
         "_deepnote_index_column": 2
        },
        {
         "0": 1,
         "1": -2.6999999999999997,
         "2": 7.289999999999998,
         "3": -19.682999999999993,
         "_deepnote_index_column": 3
        },
        {
         "0": 1,
         "1": -2.5999999999999996,
         "2": 6.759999999999998,
         "3": -17.575999999999993,
         "_deepnote_index_column": 4
        },
        {
         "0": 1,
         "1": -2.4999999999999996,
         "2": 6.249999999999998,
         "3": -15.624999999999993,
         "_deepnote_index_column": 5
        },
        {
         "0": 1,
         "1": -2.3999999999999995,
         "2": 5.759999999999997,
         "3": -13.82399999999999,
         "_deepnote_index_column": 6
        },
        {
         "0": 1,
         "1": -2.2999999999999994,
         "2": 5.289999999999997,
         "3": -12.166999999999991,
         "_deepnote_index_column": 7
        },
        {
         "0": 1,
         "1": -2.1999999999999993,
         "2": 4.839999999999997,
         "3": -10.64799999999999,
         "_deepnote_index_column": 8
        },
        {
         "0": 1,
         "1": -2.099999999999999,
         "2": 4.409999999999997,
         "3": -9.260999999999989,
         "_deepnote_index_column": 9
        }
       ]
      },
      "text/html": [
       "<div>\n",
       "<style scoped>\n",
       "    .dataframe tbody tr th:only-of-type {\n",
       "        vertical-align: middle;\n",
       "    }\n",
       "\n",
       "    .dataframe tbody tr th {\n",
       "        vertical-align: top;\n",
       "    }\n",
       "\n",
       "    .dataframe thead th {\n",
       "        text-align: right;\n",
       "    }\n",
       "</style>\n",
       "<table border=\"1\" class=\"dataframe\">\n",
       "  <thead>\n",
       "    <tr style=\"text-align: right;\">\n",
       "      <th></th>\n",
       "      <th>0</th>\n",
       "      <th>1</th>\n",
       "      <th>2</th>\n",
       "      <th>3</th>\n",
       "    </tr>\n",
       "  </thead>\n",
       "  <tbody>\n",
       "    <tr>\n",
       "      <th>0</th>\n",
       "      <td>1.0</td>\n",
       "      <td>-3.000000e+00</td>\n",
       "      <td>9.000000e+00</td>\n",
       "      <td>-2.700000e+01</td>\n",
       "    </tr>\n",
       "    <tr>\n",
       "      <th>1</th>\n",
       "      <td>1.0</td>\n",
       "      <td>-2.900000e+00</td>\n",
       "      <td>8.410000e+00</td>\n",
       "      <td>-2.438900e+01</td>\n",
       "    </tr>\n",
       "    <tr>\n",
       "      <th>2</th>\n",
       "      <td>1.0</td>\n",
       "      <td>-2.800000e+00</td>\n",
       "      <td>7.840000e+00</td>\n",
       "      <td>-2.195200e+01</td>\n",
       "    </tr>\n",
       "    <tr>\n",
       "      <th>3</th>\n",
       "      <td>1.0</td>\n",
       "      <td>-2.700000e+00</td>\n",
       "      <td>7.290000e+00</td>\n",
       "      <td>-1.968300e+01</td>\n",
       "    </tr>\n",
       "    <tr>\n",
       "      <th>4</th>\n",
       "      <td>1.0</td>\n",
       "      <td>-2.600000e+00</td>\n",
       "      <td>6.760000e+00</td>\n",
       "      <td>-1.757600e+01</td>\n",
       "    </tr>\n",
       "    <tr>\n",
       "      <th>5</th>\n",
       "      <td>1.0</td>\n",
       "      <td>-2.500000e+00</td>\n",
       "      <td>6.250000e+00</td>\n",
       "      <td>-1.562500e+01</td>\n",
       "    </tr>\n",
       "    <tr>\n",
       "      <th>6</th>\n",
       "      <td>1.0</td>\n",
       "      <td>-2.400000e+00</td>\n",
       "      <td>5.760000e+00</td>\n",
       "      <td>-1.382400e+01</td>\n",
       "    </tr>\n",
       "    <tr>\n",
       "      <th>7</th>\n",
       "      <td>1.0</td>\n",
       "      <td>-2.300000e+00</td>\n",
       "      <td>5.290000e+00</td>\n",
       "      <td>-1.216700e+01</td>\n",
       "    </tr>\n",
       "    <tr>\n",
       "      <th>8</th>\n",
       "      <td>1.0</td>\n",
       "      <td>-2.200000e+00</td>\n",
       "      <td>4.840000e+00</td>\n",
       "      <td>-1.064800e+01</td>\n",
       "    </tr>\n",
       "    <tr>\n",
       "      <th>9</th>\n",
       "      <td>1.0</td>\n",
       "      <td>-2.100000e+00</td>\n",
       "      <td>4.410000e+00</td>\n",
       "      <td>-9.261000e+00</td>\n",
       "    </tr>\n",
       "    <tr>\n",
       "      <th>10</th>\n",
       "      <td>1.0</td>\n",
       "      <td>-2.000000e+00</td>\n",
       "      <td>4.000000e+00</td>\n",
       "      <td>-8.000000e+00</td>\n",
       "    </tr>\n",
       "    <tr>\n",
       "      <th>11</th>\n",
       "      <td>1.0</td>\n",
       "      <td>-1.900000e+00</td>\n",
       "      <td>3.610000e+00</td>\n",
       "      <td>-6.859000e+00</td>\n",
       "    </tr>\n",
       "    <tr>\n",
       "      <th>12</th>\n",
       "      <td>1.0</td>\n",
       "      <td>-1.800000e+00</td>\n",
       "      <td>3.240000e+00</td>\n",
       "      <td>-5.832000e+00</td>\n",
       "    </tr>\n",
       "    <tr>\n",
       "      <th>13</th>\n",
       "      <td>1.0</td>\n",
       "      <td>-1.700000e+00</td>\n",
       "      <td>2.890000e+00</td>\n",
       "      <td>-4.913000e+00</td>\n",
       "    </tr>\n",
       "    <tr>\n",
       "      <th>14</th>\n",
       "      <td>1.0</td>\n",
       "      <td>-1.600000e+00</td>\n",
       "      <td>2.560000e+00</td>\n",
       "      <td>-4.096000e+00</td>\n",
       "    </tr>\n",
       "    <tr>\n",
       "      <th>15</th>\n",
       "      <td>1.0</td>\n",
       "      <td>-1.500000e+00</td>\n",
       "      <td>2.250000e+00</td>\n",
       "      <td>-3.375000e+00</td>\n",
       "    </tr>\n",
       "    <tr>\n",
       "      <th>16</th>\n",
       "      <td>1.0</td>\n",
       "      <td>-1.400000e+00</td>\n",
       "      <td>1.960000e+00</td>\n",
       "      <td>-2.744000e+00</td>\n",
       "    </tr>\n",
       "    <tr>\n",
       "      <th>17</th>\n",
       "      <td>1.0</td>\n",
       "      <td>-1.300000e+00</td>\n",
       "      <td>1.690000e+00</td>\n",
       "      <td>-2.197000e+00</td>\n",
       "    </tr>\n",
       "    <tr>\n",
       "      <th>18</th>\n",
       "      <td>1.0</td>\n",
       "      <td>-1.200000e+00</td>\n",
       "      <td>1.440000e+00</td>\n",
       "      <td>-1.728000e+00</td>\n",
       "    </tr>\n",
       "    <tr>\n",
       "      <th>19</th>\n",
       "      <td>1.0</td>\n",
       "      <td>-1.100000e+00</td>\n",
       "      <td>1.210000e+00</td>\n",
       "      <td>-1.331000e+00</td>\n",
       "    </tr>\n",
       "    <tr>\n",
       "      <th>20</th>\n",
       "      <td>1.0</td>\n",
       "      <td>-1.000000e+00</td>\n",
       "      <td>1.000000e+00</td>\n",
       "      <td>-1.000000e+00</td>\n",
       "    </tr>\n",
       "    <tr>\n",
       "      <th>21</th>\n",
       "      <td>1.0</td>\n",
       "      <td>-9.000000e-01</td>\n",
       "      <td>8.100000e-01</td>\n",
       "      <td>-7.290000e-01</td>\n",
       "    </tr>\n",
       "    <tr>\n",
       "      <th>22</th>\n",
       "      <td>1.0</td>\n",
       "      <td>-8.000000e-01</td>\n",
       "      <td>6.400000e-01</td>\n",
       "      <td>-5.120000e-01</td>\n",
       "    </tr>\n",
       "    <tr>\n",
       "      <th>23</th>\n",
       "      <td>1.0</td>\n",
       "      <td>-7.000000e-01</td>\n",
       "      <td>4.900000e-01</td>\n",
       "      <td>-3.430000e-01</td>\n",
       "    </tr>\n",
       "    <tr>\n",
       "      <th>24</th>\n",
       "      <td>1.0</td>\n",
       "      <td>-6.000000e-01</td>\n",
       "      <td>3.600000e-01</td>\n",
       "      <td>-2.160000e-01</td>\n",
       "    </tr>\n",
       "    <tr>\n",
       "      <th>25</th>\n",
       "      <td>1.0</td>\n",
       "      <td>-5.000000e-01</td>\n",
       "      <td>2.500000e-01</td>\n",
       "      <td>-1.250000e-01</td>\n",
       "    </tr>\n",
       "    <tr>\n",
       "      <th>26</th>\n",
       "      <td>1.0</td>\n",
       "      <td>-4.000000e-01</td>\n",
       "      <td>1.600000e-01</td>\n",
       "      <td>-6.400000e-02</td>\n",
       "    </tr>\n",
       "    <tr>\n",
       "      <th>27</th>\n",
       "      <td>1.0</td>\n",
       "      <td>-3.000000e-01</td>\n",
       "      <td>9.000000e-02</td>\n",
       "      <td>-2.700000e-02</td>\n",
       "    </tr>\n",
       "    <tr>\n",
       "      <th>28</th>\n",
       "      <td>1.0</td>\n",
       "      <td>-2.000000e-01</td>\n",
       "      <td>4.000000e-02</td>\n",
       "      <td>-8.000000e-03</td>\n",
       "    </tr>\n",
       "    <tr>\n",
       "      <th>29</th>\n",
       "      <td>1.0</td>\n",
       "      <td>-1.000000e-01</td>\n",
       "      <td>1.000000e-02</td>\n",
       "      <td>-1.000000e-03</td>\n",
       "    </tr>\n",
       "    <tr>\n",
       "      <th>30</th>\n",
       "      <td>1.0</td>\n",
       "      <td>2.664535e-15</td>\n",
       "      <td>7.099748e-30</td>\n",
       "      <td>1.891753e-44</td>\n",
       "    </tr>\n",
       "    <tr>\n",
       "      <th>31</th>\n",
       "      <td>1.0</td>\n",
       "      <td>1.000000e-01</td>\n",
       "      <td>1.000000e-02</td>\n",
       "      <td>1.000000e-03</td>\n",
       "    </tr>\n",
       "    <tr>\n",
       "      <th>32</th>\n",
       "      <td>1.0</td>\n",
       "      <td>2.000000e-01</td>\n",
       "      <td>4.000000e-02</td>\n",
       "      <td>8.000000e-03</td>\n",
       "    </tr>\n",
       "    <tr>\n",
       "      <th>33</th>\n",
       "      <td>1.0</td>\n",
       "      <td>3.000000e-01</td>\n",
       "      <td>9.000000e-02</td>\n",
       "      <td>2.700000e-02</td>\n",
       "    </tr>\n",
       "    <tr>\n",
       "      <th>34</th>\n",
       "      <td>1.0</td>\n",
       "      <td>4.000000e-01</td>\n",
       "      <td>1.600000e-01</td>\n",
       "      <td>6.400000e-02</td>\n",
       "    </tr>\n",
       "    <tr>\n",
       "      <th>35</th>\n",
       "      <td>1.0</td>\n",
       "      <td>5.000000e-01</td>\n",
       "      <td>2.500000e-01</td>\n",
       "      <td>1.250000e-01</td>\n",
       "    </tr>\n",
       "    <tr>\n",
       "      <th>36</th>\n",
       "      <td>1.0</td>\n",
       "      <td>6.000000e-01</td>\n",
       "      <td>3.600000e-01</td>\n",
       "      <td>2.160000e-01</td>\n",
       "    </tr>\n",
       "    <tr>\n",
       "      <th>37</th>\n",
       "      <td>1.0</td>\n",
       "      <td>7.000000e-01</td>\n",
       "      <td>4.900000e-01</td>\n",
       "      <td>3.430000e-01</td>\n",
       "    </tr>\n",
       "    <tr>\n",
       "      <th>38</th>\n",
       "      <td>1.0</td>\n",
       "      <td>8.000000e-01</td>\n",
       "      <td>6.400000e-01</td>\n",
       "      <td>5.120000e-01</td>\n",
       "    </tr>\n",
       "    <tr>\n",
       "      <th>39</th>\n",
       "      <td>1.0</td>\n",
       "      <td>9.000000e-01</td>\n",
       "      <td>8.100000e-01</td>\n",
       "      <td>7.290000e-01</td>\n",
       "    </tr>\n",
       "    <tr>\n",
       "      <th>40</th>\n",
       "      <td>1.0</td>\n",
       "      <td>1.000000e+00</td>\n",
       "      <td>1.000000e+00</td>\n",
       "      <td>1.000000e+00</td>\n",
       "    </tr>\n",
       "    <tr>\n",
       "      <th>41</th>\n",
       "      <td>1.0</td>\n",
       "      <td>1.100000e+00</td>\n",
       "      <td>1.210000e+00</td>\n",
       "      <td>1.331000e+00</td>\n",
       "    </tr>\n",
       "    <tr>\n",
       "      <th>42</th>\n",
       "      <td>1.0</td>\n",
       "      <td>1.200000e+00</td>\n",
       "      <td>1.440000e+00</td>\n",
       "      <td>1.728000e+00</td>\n",
       "    </tr>\n",
       "    <tr>\n",
       "      <th>43</th>\n",
       "      <td>1.0</td>\n",
       "      <td>1.300000e+00</td>\n",
       "      <td>1.690000e+00</td>\n",
       "      <td>2.197000e+00</td>\n",
       "    </tr>\n",
       "    <tr>\n",
       "      <th>44</th>\n",
       "      <td>1.0</td>\n",
       "      <td>1.400000e+00</td>\n",
       "      <td>1.960000e+00</td>\n",
       "      <td>2.744000e+00</td>\n",
       "    </tr>\n",
       "    <tr>\n",
       "      <th>45</th>\n",
       "      <td>1.0</td>\n",
       "      <td>1.500000e+00</td>\n",
       "      <td>2.250000e+00</td>\n",
       "      <td>3.375000e+00</td>\n",
       "    </tr>\n",
       "    <tr>\n",
       "      <th>46</th>\n",
       "      <td>1.0</td>\n",
       "      <td>1.600000e+00</td>\n",
       "      <td>2.560000e+00</td>\n",
       "      <td>4.096000e+00</td>\n",
       "    </tr>\n",
       "    <tr>\n",
       "      <th>47</th>\n",
       "      <td>1.0</td>\n",
       "      <td>1.700000e+00</td>\n",
       "      <td>2.890000e+00</td>\n",
       "      <td>4.913000e+00</td>\n",
       "    </tr>\n",
       "    <tr>\n",
       "      <th>48</th>\n",
       "      <td>1.0</td>\n",
       "      <td>1.800000e+00</td>\n",
       "      <td>3.240000e+00</td>\n",
       "      <td>5.832000e+00</td>\n",
       "    </tr>\n",
       "    <tr>\n",
       "      <th>49</th>\n",
       "      <td>1.0</td>\n",
       "      <td>1.900000e+00</td>\n",
       "      <td>3.610000e+00</td>\n",
       "      <td>6.859000e+00</td>\n",
       "    </tr>\n",
       "  </tbody>\n",
       "</table>\n",
       "</div>"
      ],
      "text/plain": [
       "      0             1             2             3\n",
       "0   1.0 -3.000000e+00  9.000000e+00 -2.700000e+01\n",
       "1   1.0 -2.900000e+00  8.410000e+00 -2.438900e+01\n",
       "2   1.0 -2.800000e+00  7.840000e+00 -2.195200e+01\n",
       "3   1.0 -2.700000e+00  7.290000e+00 -1.968300e+01\n",
       "4   1.0 -2.600000e+00  6.760000e+00 -1.757600e+01\n",
       "5   1.0 -2.500000e+00  6.250000e+00 -1.562500e+01\n",
       "6   1.0 -2.400000e+00  5.760000e+00 -1.382400e+01\n",
       "7   1.0 -2.300000e+00  5.290000e+00 -1.216700e+01\n",
       "8   1.0 -2.200000e+00  4.840000e+00 -1.064800e+01\n",
       "9   1.0 -2.100000e+00  4.410000e+00 -9.261000e+00\n",
       "10  1.0 -2.000000e+00  4.000000e+00 -8.000000e+00\n",
       "11  1.0 -1.900000e+00  3.610000e+00 -6.859000e+00\n",
       "12  1.0 -1.800000e+00  3.240000e+00 -5.832000e+00\n",
       "13  1.0 -1.700000e+00  2.890000e+00 -4.913000e+00\n",
       "14  1.0 -1.600000e+00  2.560000e+00 -4.096000e+00\n",
       "15  1.0 -1.500000e+00  2.250000e+00 -3.375000e+00\n",
       "16  1.0 -1.400000e+00  1.960000e+00 -2.744000e+00\n",
       "17  1.0 -1.300000e+00  1.690000e+00 -2.197000e+00\n",
       "18  1.0 -1.200000e+00  1.440000e+00 -1.728000e+00\n",
       "19  1.0 -1.100000e+00  1.210000e+00 -1.331000e+00\n",
       "20  1.0 -1.000000e+00  1.000000e+00 -1.000000e+00\n",
       "21  1.0 -9.000000e-01  8.100000e-01 -7.290000e-01\n",
       "22  1.0 -8.000000e-01  6.400000e-01 -5.120000e-01\n",
       "23  1.0 -7.000000e-01  4.900000e-01 -3.430000e-01\n",
       "24  1.0 -6.000000e-01  3.600000e-01 -2.160000e-01\n",
       "25  1.0 -5.000000e-01  2.500000e-01 -1.250000e-01\n",
       "26  1.0 -4.000000e-01  1.600000e-01 -6.400000e-02\n",
       "27  1.0 -3.000000e-01  9.000000e-02 -2.700000e-02\n",
       "28  1.0 -2.000000e-01  4.000000e-02 -8.000000e-03\n",
       "29  1.0 -1.000000e-01  1.000000e-02 -1.000000e-03\n",
       "30  1.0  2.664535e-15  7.099748e-30  1.891753e-44\n",
       "31  1.0  1.000000e-01  1.000000e-02  1.000000e-03\n",
       "32  1.0  2.000000e-01  4.000000e-02  8.000000e-03\n",
       "33  1.0  3.000000e-01  9.000000e-02  2.700000e-02\n",
       "34  1.0  4.000000e-01  1.600000e-01  6.400000e-02\n",
       "35  1.0  5.000000e-01  2.500000e-01  1.250000e-01\n",
       "36  1.0  6.000000e-01  3.600000e-01  2.160000e-01\n",
       "37  1.0  7.000000e-01  4.900000e-01  3.430000e-01\n",
       "38  1.0  8.000000e-01  6.400000e-01  5.120000e-01\n",
       "39  1.0  9.000000e-01  8.100000e-01  7.290000e-01\n",
       "40  1.0  1.000000e+00  1.000000e+00  1.000000e+00\n",
       "41  1.0  1.100000e+00  1.210000e+00  1.331000e+00\n",
       "42  1.0  1.200000e+00  1.440000e+00  1.728000e+00\n",
       "43  1.0  1.300000e+00  1.690000e+00  2.197000e+00\n",
       "44  1.0  1.400000e+00  1.960000e+00  2.744000e+00\n",
       "45  1.0  1.500000e+00  2.250000e+00  3.375000e+00\n",
       "46  1.0  1.600000e+00  2.560000e+00  4.096000e+00\n",
       "47  1.0  1.700000e+00  2.890000e+00  4.913000e+00\n",
       "48  1.0  1.800000e+00  3.240000e+00  5.832000e+00\n",
       "49  1.0  1.900000e+00  3.610000e+00  6.859000e+00"
      ]
     },
     "execution_count": 7,
     "metadata": {},
     "output_type": "execute_result"
    }
   ],
   "source": [
    "from sklearn.preprocessing import PolynomialFeatures\n",
    "poly = PolynomialFeatures(degree=3)\n",
    "pd.DataFrame(poly.fit_transform(df[['x']]))"
   ]
  },
  {
   "cell_type": "markdown",
   "metadata": {
    "cell_id": "7158a2a4cde542479699cea88a100efa",
    "deepnote_cell_type": "markdown"
   },
   "source": [
    "Let's get rid of the column of all `1` values.  We do this by setting `include_bias=False` when we instantiate the PolynomialFeatures object. "
   ]
  },
  {
   "cell_type": "markdown",
   "metadata": {
    "cell_id": "d84f2347a6d845b097c95c1aa9dfcb7b",
    "deepnote_cell_type": "markdown"
   },
   "source": [
    "We can perform both the `fit` and the `transform` steps in the same step using `fit_transform`."
   ]
  },
  {
   "cell_type": "code",
   "execution_count": null,
   "metadata": {
    "cell_id": "49a94867be424c18b9511828fce8c48b",
    "deepnote_cell_type": "code",
    "deepnote_to_be_reexecuted": false,
    "execution_millis": 10,
    "execution_start": 1699478427776,
    "source_hash": null
   },
   "outputs": [
    {
     "data": {
      "application/vnd.deepnote.dataframe.v3+json": {
       "column_count": 3,
       "columns": [
        {
         "dtype": "float64",
         "name": 0,
         "stats": {
          "histogram": [
           {
            "bin_end": -2.51,
            "bin_start": -3,
            "count": 5
           },
           {
            "bin_end": -2.019999999999999,
            "bin_start": -2.51,
            "count": 5
           },
           {
            "bin_end": -1.529999999999999,
            "bin_start": -2.019999999999999,
            "count": 5
           },
           {
            "bin_end": -1.0399999999999985,
            "bin_start": -1.529999999999999,
            "count": 5
           },
           {
            "bin_end": -0.549999999999998,
            "bin_start": -1.0399999999999985,
            "count": 5
           },
           {
            "bin_end": -0.05999999999999783,
            "bin_start": -0.549999999999998,
            "count": 5
           },
           {
            "bin_end": 0.4300000000000028,
            "bin_start": -0.05999999999999783,
            "count": 5
           },
           {
            "bin_end": 0.920000000000003,
            "bin_start": 0.4300000000000028,
            "count": 5
           },
           {
            "bin_end": 1.4100000000000037,
            "bin_start": 0.920000000000003,
            "count": 5
           },
           {
            "bin_end": 1.900000000000004,
            "bin_start": 1.4100000000000037,
            "count": 5
           }
          ],
          "max": "1.900000000000004",
          "min": "-3.0",
          "nan_count": 0,
          "unique_count": 50
         }
        },
        {
         "dtype": "float64",
         "name": 1,
         "stats": {
          "histogram": [
           {
            "bin_end": 0.9,
            "bin_start": 7.099748146989106e-30,
            "count": 19
           },
           {
            "bin_end": 1.8,
            "bin_start": 0.9,
            "count": 8
           },
           {
            "bin_end": 2.7,
            "bin_start": 1.8,
            "count": 6
           },
           {
            "bin_end": 3.6,
            "bin_start": 2.7,
            "count": 4
           },
           {
            "bin_end": 4.5,
            "bin_start": 3.6,
            "count": 4
           },
           {
            "bin_end": 5.4,
            "bin_start": 4.5,
            "count": 2
           },
           {
            "bin_end": 6.3,
            "bin_start": 5.4,
            "count": 2
           },
           {
            "bin_end": 7.2,
            "bin_start": 6.3,
            "count": 1
           },
           {
            "bin_end": 8.1,
            "bin_start": 7.2,
            "count": 2
           },
           {
            "bin_end": 9,
            "bin_start": 8.1,
            "count": 2
           }
          ],
          "max": "9.0",
          "min": "7.099748146989106e-30",
          "nan_count": 0,
          "unique_count": 50
         }
        },
        {
         "dtype": "float64",
         "name": 2,
         "stats": {
          "histogram": [
           {
            "bin_end": -23.614099999999997,
            "bin_start": -27,
            "count": 2
           },
           {
            "bin_end": -20.22819999999999,
            "bin_start": -23.614099999999997,
            "count": 1
           },
           {
            "bin_end": -16.842299999999987,
            "bin_start": -20.22819999999999,
            "count": 2
           },
           {
            "bin_end": -13.456399999999983,
            "bin_start": -16.842299999999987,
            "count": 2
           },
           {
            "bin_end": -10.070499999999978,
            "bin_start": -13.456399999999983,
            "count": 2
           },
           {
            "bin_end": -6.684599999999975,
            "bin_start": -10.070499999999978,
            "count": 3
           },
           {
            "bin_end": -3.298699999999968,
            "bin_start": -6.684599999999975,
            "count": 4
           },
           {
            "bin_end": 0.0872000000000348,
            "bin_start": -3.298699999999968,
            "count": 19
           },
           {
            "bin_end": 3.473100000000038,
            "bin_start": 0.0872000000000348,
            "count": 11
           },
           {
            "bin_end": 6.859000000000043,
            "bin_start": 3.473100000000038,
            "count": 4
           }
          ],
          "max": "6.859000000000043",
          "min": "-27.0",
          "nan_count": 0,
          "unique_count": 50
         }
        },
        {
         "dtype": "int64",
         "name": "_deepnote_index_column"
        }
       ],
       "row_count": 50,
       "rows": [
        {
         "0": -3,
         "1": 9,
         "2": -27,
         "_deepnote_index_column": 0
        },
        {
         "0": -2.9,
         "1": 8.41,
         "2": -24.389,
         "_deepnote_index_column": 1
        },
        {
         "0": -2.8,
         "1": 7.839999999999999,
         "2": -21.951999999999995,
         "_deepnote_index_column": 2
        },
        {
         "0": -2.6999999999999997,
         "1": 7.289999999999998,
         "2": -19.682999999999993,
         "_deepnote_index_column": 3
        },
        {
         "0": -2.5999999999999996,
         "1": 6.759999999999998,
         "2": -17.575999999999993,
         "_deepnote_index_column": 4
        },
        {
         "0": -2.4999999999999996,
         "1": 6.249999999999998,
         "2": -15.624999999999993,
         "_deepnote_index_column": 5
        },
        {
         "0": -2.3999999999999995,
         "1": 5.759999999999997,
         "2": -13.82399999999999,
         "_deepnote_index_column": 6
        },
        {
         "0": -2.2999999999999994,
         "1": 5.289999999999997,
         "2": -12.166999999999991,
         "_deepnote_index_column": 7
        },
        {
         "0": -2.1999999999999993,
         "1": 4.839999999999997,
         "2": -10.64799999999999,
         "_deepnote_index_column": 8
        },
        {
         "0": -2.099999999999999,
         "1": 4.409999999999997,
         "2": -9.260999999999989,
         "_deepnote_index_column": 9
        }
       ]
      },
      "text/html": [
       "<div>\n",
       "<style scoped>\n",
       "    .dataframe tbody tr th:only-of-type {\n",
       "        vertical-align: middle;\n",
       "    }\n",
       "\n",
       "    .dataframe tbody tr th {\n",
       "        vertical-align: top;\n",
       "    }\n",
       "\n",
       "    .dataframe thead th {\n",
       "        text-align: right;\n",
       "    }\n",
       "</style>\n",
       "<table border=\"1\" class=\"dataframe\">\n",
       "  <thead>\n",
       "    <tr style=\"text-align: right;\">\n",
       "      <th></th>\n",
       "      <th>0</th>\n",
       "      <th>1</th>\n",
       "      <th>2</th>\n",
       "    </tr>\n",
       "  </thead>\n",
       "  <tbody>\n",
       "    <tr>\n",
       "      <th>0</th>\n",
       "      <td>-3.000000e+00</td>\n",
       "      <td>9.000000e+00</td>\n",
       "      <td>-2.700000e+01</td>\n",
       "    </tr>\n",
       "    <tr>\n",
       "      <th>1</th>\n",
       "      <td>-2.900000e+00</td>\n",
       "      <td>8.410000e+00</td>\n",
       "      <td>-2.438900e+01</td>\n",
       "    </tr>\n",
       "    <tr>\n",
       "      <th>2</th>\n",
       "      <td>-2.800000e+00</td>\n",
       "      <td>7.840000e+00</td>\n",
       "      <td>-2.195200e+01</td>\n",
       "    </tr>\n",
       "    <tr>\n",
       "      <th>3</th>\n",
       "      <td>-2.700000e+00</td>\n",
       "      <td>7.290000e+00</td>\n",
       "      <td>-1.968300e+01</td>\n",
       "    </tr>\n",
       "    <tr>\n",
       "      <th>4</th>\n",
       "      <td>-2.600000e+00</td>\n",
       "      <td>6.760000e+00</td>\n",
       "      <td>-1.757600e+01</td>\n",
       "    </tr>\n",
       "    <tr>\n",
       "      <th>5</th>\n",
       "      <td>-2.500000e+00</td>\n",
       "      <td>6.250000e+00</td>\n",
       "      <td>-1.562500e+01</td>\n",
       "    </tr>\n",
       "    <tr>\n",
       "      <th>6</th>\n",
       "      <td>-2.400000e+00</td>\n",
       "      <td>5.760000e+00</td>\n",
       "      <td>-1.382400e+01</td>\n",
       "    </tr>\n",
       "    <tr>\n",
       "      <th>7</th>\n",
       "      <td>-2.300000e+00</td>\n",
       "      <td>5.290000e+00</td>\n",
       "      <td>-1.216700e+01</td>\n",
       "    </tr>\n",
       "    <tr>\n",
       "      <th>8</th>\n",
       "      <td>-2.200000e+00</td>\n",
       "      <td>4.840000e+00</td>\n",
       "      <td>-1.064800e+01</td>\n",
       "    </tr>\n",
       "    <tr>\n",
       "      <th>9</th>\n",
       "      <td>-2.100000e+00</td>\n",
       "      <td>4.410000e+00</td>\n",
       "      <td>-9.261000e+00</td>\n",
       "    </tr>\n",
       "    <tr>\n",
       "      <th>10</th>\n",
       "      <td>-2.000000e+00</td>\n",
       "      <td>4.000000e+00</td>\n",
       "      <td>-8.000000e+00</td>\n",
       "    </tr>\n",
       "    <tr>\n",
       "      <th>11</th>\n",
       "      <td>-1.900000e+00</td>\n",
       "      <td>3.610000e+00</td>\n",
       "      <td>-6.859000e+00</td>\n",
       "    </tr>\n",
       "    <tr>\n",
       "      <th>12</th>\n",
       "      <td>-1.800000e+00</td>\n",
       "      <td>3.240000e+00</td>\n",
       "      <td>-5.832000e+00</td>\n",
       "    </tr>\n",
       "    <tr>\n",
       "      <th>13</th>\n",
       "      <td>-1.700000e+00</td>\n",
       "      <td>2.890000e+00</td>\n",
       "      <td>-4.913000e+00</td>\n",
       "    </tr>\n",
       "    <tr>\n",
       "      <th>14</th>\n",
       "      <td>-1.600000e+00</td>\n",
       "      <td>2.560000e+00</td>\n",
       "      <td>-4.096000e+00</td>\n",
       "    </tr>\n",
       "    <tr>\n",
       "      <th>15</th>\n",
       "      <td>-1.500000e+00</td>\n",
       "      <td>2.250000e+00</td>\n",
       "      <td>-3.375000e+00</td>\n",
       "    </tr>\n",
       "    <tr>\n",
       "      <th>16</th>\n",
       "      <td>-1.400000e+00</td>\n",
       "      <td>1.960000e+00</td>\n",
       "      <td>-2.744000e+00</td>\n",
       "    </tr>\n",
       "    <tr>\n",
       "      <th>17</th>\n",
       "      <td>-1.300000e+00</td>\n",
       "      <td>1.690000e+00</td>\n",
       "      <td>-2.197000e+00</td>\n",
       "    </tr>\n",
       "    <tr>\n",
       "      <th>18</th>\n",
       "      <td>-1.200000e+00</td>\n",
       "      <td>1.440000e+00</td>\n",
       "      <td>-1.728000e+00</td>\n",
       "    </tr>\n",
       "    <tr>\n",
       "      <th>19</th>\n",
       "      <td>-1.100000e+00</td>\n",
       "      <td>1.210000e+00</td>\n",
       "      <td>-1.331000e+00</td>\n",
       "    </tr>\n",
       "    <tr>\n",
       "      <th>20</th>\n",
       "      <td>-1.000000e+00</td>\n",
       "      <td>1.000000e+00</td>\n",
       "      <td>-1.000000e+00</td>\n",
       "    </tr>\n",
       "    <tr>\n",
       "      <th>21</th>\n",
       "      <td>-9.000000e-01</td>\n",
       "      <td>8.100000e-01</td>\n",
       "      <td>-7.290000e-01</td>\n",
       "    </tr>\n",
       "    <tr>\n",
       "      <th>22</th>\n",
       "      <td>-8.000000e-01</td>\n",
       "      <td>6.400000e-01</td>\n",
       "      <td>-5.120000e-01</td>\n",
       "    </tr>\n",
       "    <tr>\n",
       "      <th>23</th>\n",
       "      <td>-7.000000e-01</td>\n",
       "      <td>4.900000e-01</td>\n",
       "      <td>-3.430000e-01</td>\n",
       "    </tr>\n",
       "    <tr>\n",
       "      <th>24</th>\n",
       "      <td>-6.000000e-01</td>\n",
       "      <td>3.600000e-01</td>\n",
       "      <td>-2.160000e-01</td>\n",
       "    </tr>\n",
       "    <tr>\n",
       "      <th>25</th>\n",
       "      <td>-5.000000e-01</td>\n",
       "      <td>2.500000e-01</td>\n",
       "      <td>-1.250000e-01</td>\n",
       "    </tr>\n",
       "    <tr>\n",
       "      <th>26</th>\n",
       "      <td>-4.000000e-01</td>\n",
       "      <td>1.600000e-01</td>\n",
       "      <td>-6.400000e-02</td>\n",
       "    </tr>\n",
       "    <tr>\n",
       "      <th>27</th>\n",
       "      <td>-3.000000e-01</td>\n",
       "      <td>9.000000e-02</td>\n",
       "      <td>-2.700000e-02</td>\n",
       "    </tr>\n",
       "    <tr>\n",
       "      <th>28</th>\n",
       "      <td>-2.000000e-01</td>\n",
       "      <td>4.000000e-02</td>\n",
       "      <td>-8.000000e-03</td>\n",
       "    </tr>\n",
       "    <tr>\n",
       "      <th>29</th>\n",
       "      <td>-1.000000e-01</td>\n",
       "      <td>1.000000e-02</td>\n",
       "      <td>-1.000000e-03</td>\n",
       "    </tr>\n",
       "    <tr>\n",
       "      <th>30</th>\n",
       "      <td>2.664535e-15</td>\n",
       "      <td>7.099748e-30</td>\n",
       "      <td>1.891753e-44</td>\n",
       "    </tr>\n",
       "    <tr>\n",
       "      <th>31</th>\n",
       "      <td>1.000000e-01</td>\n",
       "      <td>1.000000e-02</td>\n",
       "      <td>1.000000e-03</td>\n",
       "    </tr>\n",
       "    <tr>\n",
       "      <th>32</th>\n",
       "      <td>2.000000e-01</td>\n",
       "      <td>4.000000e-02</td>\n",
       "      <td>8.000000e-03</td>\n",
       "    </tr>\n",
       "    <tr>\n",
       "      <th>33</th>\n",
       "      <td>3.000000e-01</td>\n",
       "      <td>9.000000e-02</td>\n",
       "      <td>2.700000e-02</td>\n",
       "    </tr>\n",
       "    <tr>\n",
       "      <th>34</th>\n",
       "      <td>4.000000e-01</td>\n",
       "      <td>1.600000e-01</td>\n",
       "      <td>6.400000e-02</td>\n",
       "    </tr>\n",
       "    <tr>\n",
       "      <th>35</th>\n",
       "      <td>5.000000e-01</td>\n",
       "      <td>2.500000e-01</td>\n",
       "      <td>1.250000e-01</td>\n",
       "    </tr>\n",
       "    <tr>\n",
       "      <th>36</th>\n",
       "      <td>6.000000e-01</td>\n",
       "      <td>3.600000e-01</td>\n",
       "      <td>2.160000e-01</td>\n",
       "    </tr>\n",
       "    <tr>\n",
       "      <th>37</th>\n",
       "      <td>7.000000e-01</td>\n",
       "      <td>4.900000e-01</td>\n",
       "      <td>3.430000e-01</td>\n",
       "    </tr>\n",
       "    <tr>\n",
       "      <th>38</th>\n",
       "      <td>8.000000e-01</td>\n",
       "      <td>6.400000e-01</td>\n",
       "      <td>5.120000e-01</td>\n",
       "    </tr>\n",
       "    <tr>\n",
       "      <th>39</th>\n",
       "      <td>9.000000e-01</td>\n",
       "      <td>8.100000e-01</td>\n",
       "      <td>7.290000e-01</td>\n",
       "    </tr>\n",
       "    <tr>\n",
       "      <th>40</th>\n",
       "      <td>1.000000e+00</td>\n",
       "      <td>1.000000e+00</td>\n",
       "      <td>1.000000e+00</td>\n",
       "    </tr>\n",
       "    <tr>\n",
       "      <th>41</th>\n",
       "      <td>1.100000e+00</td>\n",
       "      <td>1.210000e+00</td>\n",
       "      <td>1.331000e+00</td>\n",
       "    </tr>\n",
       "    <tr>\n",
       "      <th>42</th>\n",
       "      <td>1.200000e+00</td>\n",
       "      <td>1.440000e+00</td>\n",
       "      <td>1.728000e+00</td>\n",
       "    </tr>\n",
       "    <tr>\n",
       "      <th>43</th>\n",
       "      <td>1.300000e+00</td>\n",
       "      <td>1.690000e+00</td>\n",
       "      <td>2.197000e+00</td>\n",
       "    </tr>\n",
       "    <tr>\n",
       "      <th>44</th>\n",
       "      <td>1.400000e+00</td>\n",
       "      <td>1.960000e+00</td>\n",
       "      <td>2.744000e+00</td>\n",
       "    </tr>\n",
       "    <tr>\n",
       "      <th>45</th>\n",
       "      <td>1.500000e+00</td>\n",
       "      <td>2.250000e+00</td>\n",
       "      <td>3.375000e+00</td>\n",
       "    </tr>\n",
       "    <tr>\n",
       "      <th>46</th>\n",
       "      <td>1.600000e+00</td>\n",
       "      <td>2.560000e+00</td>\n",
       "      <td>4.096000e+00</td>\n",
       "    </tr>\n",
       "    <tr>\n",
       "      <th>47</th>\n",
       "      <td>1.700000e+00</td>\n",
       "      <td>2.890000e+00</td>\n",
       "      <td>4.913000e+00</td>\n",
       "    </tr>\n",
       "    <tr>\n",
       "      <th>48</th>\n",
       "      <td>1.800000e+00</td>\n",
       "      <td>3.240000e+00</td>\n",
       "      <td>5.832000e+00</td>\n",
       "    </tr>\n",
       "    <tr>\n",
       "      <th>49</th>\n",
       "      <td>1.900000e+00</td>\n",
       "      <td>3.610000e+00</td>\n",
       "      <td>6.859000e+00</td>\n",
       "    </tr>\n",
       "  </tbody>\n",
       "</table>\n",
       "</div>"
      ],
      "text/plain": [
       "               0             1             2\n",
       "0  -3.000000e+00  9.000000e+00 -2.700000e+01\n",
       "1  -2.900000e+00  8.410000e+00 -2.438900e+01\n",
       "2  -2.800000e+00  7.840000e+00 -2.195200e+01\n",
       "3  -2.700000e+00  7.290000e+00 -1.968300e+01\n",
       "4  -2.600000e+00  6.760000e+00 -1.757600e+01\n",
       "5  -2.500000e+00  6.250000e+00 -1.562500e+01\n",
       "6  -2.400000e+00  5.760000e+00 -1.382400e+01\n",
       "7  -2.300000e+00  5.290000e+00 -1.216700e+01\n",
       "8  -2.200000e+00  4.840000e+00 -1.064800e+01\n",
       "9  -2.100000e+00  4.410000e+00 -9.261000e+00\n",
       "10 -2.000000e+00  4.000000e+00 -8.000000e+00\n",
       "11 -1.900000e+00  3.610000e+00 -6.859000e+00\n",
       "12 -1.800000e+00  3.240000e+00 -5.832000e+00\n",
       "13 -1.700000e+00  2.890000e+00 -4.913000e+00\n",
       "14 -1.600000e+00  2.560000e+00 -4.096000e+00\n",
       "15 -1.500000e+00  2.250000e+00 -3.375000e+00\n",
       "16 -1.400000e+00  1.960000e+00 -2.744000e+00\n",
       "17 -1.300000e+00  1.690000e+00 -2.197000e+00\n",
       "18 -1.200000e+00  1.440000e+00 -1.728000e+00\n",
       "19 -1.100000e+00  1.210000e+00 -1.331000e+00\n",
       "20 -1.000000e+00  1.000000e+00 -1.000000e+00\n",
       "21 -9.000000e-01  8.100000e-01 -7.290000e-01\n",
       "22 -8.000000e-01  6.400000e-01 -5.120000e-01\n",
       "23 -7.000000e-01  4.900000e-01 -3.430000e-01\n",
       "24 -6.000000e-01  3.600000e-01 -2.160000e-01\n",
       "25 -5.000000e-01  2.500000e-01 -1.250000e-01\n",
       "26 -4.000000e-01  1.600000e-01 -6.400000e-02\n",
       "27 -3.000000e-01  9.000000e-02 -2.700000e-02\n",
       "28 -2.000000e-01  4.000000e-02 -8.000000e-03\n",
       "29 -1.000000e-01  1.000000e-02 -1.000000e-03\n",
       "30  2.664535e-15  7.099748e-30  1.891753e-44\n",
       "31  1.000000e-01  1.000000e-02  1.000000e-03\n",
       "32  2.000000e-01  4.000000e-02  8.000000e-03\n",
       "33  3.000000e-01  9.000000e-02  2.700000e-02\n",
       "34  4.000000e-01  1.600000e-01  6.400000e-02\n",
       "35  5.000000e-01  2.500000e-01  1.250000e-01\n",
       "36  6.000000e-01  3.600000e-01  2.160000e-01\n",
       "37  7.000000e-01  4.900000e-01  3.430000e-01\n",
       "38  8.000000e-01  6.400000e-01  5.120000e-01\n",
       "39  9.000000e-01  8.100000e-01  7.290000e-01\n",
       "40  1.000000e+00  1.000000e+00  1.000000e+00\n",
       "41  1.100000e+00  1.210000e+00  1.331000e+00\n",
       "42  1.200000e+00  1.440000e+00  1.728000e+00\n",
       "43  1.300000e+00  1.690000e+00  2.197000e+00\n",
       "44  1.400000e+00  1.960000e+00  2.744000e+00\n",
       "45  1.500000e+00  2.250000e+00  3.375000e+00\n",
       "46  1.600000e+00  2.560000e+00  4.096000e+00\n",
       "47  1.700000e+00  2.890000e+00  4.913000e+00\n",
       "48  1.800000e+00  3.240000e+00  5.832000e+00\n",
       "49  1.900000e+00  3.610000e+00  6.859000e+00"
      ]
     },
     "execution_count": 9,
     "metadata": {},
     "output_type": "execute_result"
    }
   ],
   "source": [
    "poly = PolynomialFeatures(degree=3, include_bias=False)\n",
    "df_pow = pd.DataFrame(poly.fit_transform(df[['x']]))\n",
    "df_pow"
   ]
  },
  {
   "cell_type": "markdown",
   "metadata": {
    "cell_id": "2c8e75acac414a7fb90fe75a383d5217",
    "deepnote_cell_type": "markdown"
   },
   "source": [
    "* Name the columns using the `get_feature_names_out` method of the `PolynomialFeatures` object."
   ]
  },
  {
   "cell_type": "code",
   "execution_count": null,
   "metadata": {
    "cell_id": "2cb2db2b6f2c4894b3727209d04de6da",
    "deepnote_cell_type": "code",
    "deepnote_to_be_reexecuted": false,
    "execution_millis": 14,
    "execution_start": 1699478508001,
    "source_hash": null
   },
   "outputs": [
    {
     "data": {
      "text/plain": [
       "array(['x', 'x^2', 'x^3'], dtype=object)"
      ]
     },
     "execution_count": 10,
     "metadata": {},
     "output_type": "execute_result"
    }
   ],
   "source": [
    "poly.get_feature_names_out()"
   ]
  },
  {
   "cell_type": "code",
   "execution_count": null,
   "metadata": {
    "cell_id": "f14f193debf84d7696ab149a4cecb08a",
    "deepnote_cell_type": "code",
    "deepnote_to_be_reexecuted": false,
    "execution_millis": 25,
    "execution_start": 1699478583663,
    "source_hash": null
   },
   "outputs": [
    {
     "data": {
      "application/vnd.deepnote.dataframe.v3+json": {
       "column_count": 3,
       "columns": [
        {
         "dtype": "float64",
         "name": "x",
         "stats": {
          "histogram": [
           {
            "bin_end": -2.51,
            "bin_start": -3,
            "count": 5
           },
           {
            "bin_end": -2.019999999999999,
            "bin_start": -2.51,
            "count": 5
           },
           {
            "bin_end": -1.529999999999999,
            "bin_start": -2.019999999999999,
            "count": 5
           },
           {
            "bin_end": -1.0399999999999985,
            "bin_start": -1.529999999999999,
            "count": 5
           },
           {
            "bin_end": -0.549999999999998,
            "bin_start": -1.0399999999999985,
            "count": 5
           },
           {
            "bin_end": -0.05999999999999783,
            "bin_start": -0.549999999999998,
            "count": 5
           },
           {
            "bin_end": 0.4300000000000028,
            "bin_start": -0.05999999999999783,
            "count": 5
           },
           {
            "bin_end": 0.920000000000003,
            "bin_start": 0.4300000000000028,
            "count": 5
           },
           {
            "bin_end": 1.4100000000000037,
            "bin_start": 0.920000000000003,
            "count": 5
           },
           {
            "bin_end": 1.900000000000004,
            "bin_start": 1.4100000000000037,
            "count": 5
           }
          ],
          "max": "1.900000000000004",
          "min": "-3.0",
          "nan_count": 0,
          "unique_count": 50
         }
        },
        {
         "dtype": "float64",
         "name": "x^2",
         "stats": {
          "histogram": [
           {
            "bin_end": 0.9,
            "bin_start": 7.099748146989106e-30,
            "count": 19
           },
           {
            "bin_end": 1.8,
            "bin_start": 0.9,
            "count": 8
           },
           {
            "bin_end": 2.7,
            "bin_start": 1.8,
            "count": 6
           },
           {
            "bin_end": 3.6,
            "bin_start": 2.7,
            "count": 4
           },
           {
            "bin_end": 4.5,
            "bin_start": 3.6,
            "count": 4
           },
           {
            "bin_end": 5.4,
            "bin_start": 4.5,
            "count": 2
           },
           {
            "bin_end": 6.3,
            "bin_start": 5.4,
            "count": 2
           },
           {
            "bin_end": 7.2,
            "bin_start": 6.3,
            "count": 1
           },
           {
            "bin_end": 8.1,
            "bin_start": 7.2,
            "count": 2
           },
           {
            "bin_end": 9,
            "bin_start": 8.1,
            "count": 2
           }
          ],
          "max": "9.0",
          "min": "7.099748146989106e-30",
          "nan_count": 0,
          "unique_count": 50
         }
        },
        {
         "dtype": "float64",
         "name": "x^3",
         "stats": {
          "histogram": [
           {
            "bin_end": -23.614099999999997,
            "bin_start": -27,
            "count": 2
           },
           {
            "bin_end": -20.22819999999999,
            "bin_start": -23.614099999999997,
            "count": 1
           },
           {
            "bin_end": -16.842299999999987,
            "bin_start": -20.22819999999999,
            "count": 2
           },
           {
            "bin_end": -13.456399999999983,
            "bin_start": -16.842299999999987,
            "count": 2
           },
           {
            "bin_end": -10.070499999999978,
            "bin_start": -13.456399999999983,
            "count": 2
           },
           {
            "bin_end": -6.684599999999975,
            "bin_start": -10.070499999999978,
            "count": 3
           },
           {
            "bin_end": -3.298699999999968,
            "bin_start": -6.684599999999975,
            "count": 4
           },
           {
            "bin_end": 0.0872000000000348,
            "bin_start": -3.298699999999968,
            "count": 19
           },
           {
            "bin_end": 3.473100000000038,
            "bin_start": 0.0872000000000348,
            "count": 11
           },
           {
            "bin_end": 6.859000000000043,
            "bin_start": 3.473100000000038,
            "count": 4
           }
          ],
          "max": "6.859000000000043",
          "min": "-27.0",
          "nan_count": 0,
          "unique_count": 50
         }
        },
        {
         "dtype": "int64",
         "name": "_deepnote_index_column"
        }
       ],
       "row_count": 50,
       "rows": [
        {
         "_deepnote_index_column": 0,
         "x": -3,
         "x^2": 9,
         "x^3": -27
        },
        {
         "_deepnote_index_column": 1,
         "x": -2.9,
         "x^2": 8.41,
         "x^3": -24.389
        },
        {
         "_deepnote_index_column": 2,
         "x": -2.8,
         "x^2": 7.839999999999999,
         "x^3": -21.951999999999995
        },
        {
         "_deepnote_index_column": 3,
         "x": -2.6999999999999997,
         "x^2": 7.289999999999998,
         "x^3": -19.682999999999993
        },
        {
         "_deepnote_index_column": 4,
         "x": -2.5999999999999996,
         "x^2": 6.759999999999998,
         "x^3": -17.575999999999993
        },
        {
         "_deepnote_index_column": 5,
         "x": -2.4999999999999996,
         "x^2": 6.249999999999998,
         "x^3": -15.624999999999993
        },
        {
         "_deepnote_index_column": 6,
         "x": -2.3999999999999995,
         "x^2": 5.759999999999997,
         "x^3": -13.82399999999999
        },
        {
         "_deepnote_index_column": 7,
         "x": -2.2999999999999994,
         "x^2": 5.289999999999997,
         "x^3": -12.166999999999991
        },
        {
         "_deepnote_index_column": 8,
         "x": -2.1999999999999993,
         "x^2": 4.839999999999997,
         "x^3": -10.64799999999999
        },
        {
         "_deepnote_index_column": 9,
         "x": -2.099999999999999,
         "x^2": 4.409999999999997,
         "x^3": -9.260999999999989
        }
       ]
      },
      "text/html": [
       "<div>\n",
       "<style scoped>\n",
       "    .dataframe tbody tr th:only-of-type {\n",
       "        vertical-align: middle;\n",
       "    }\n",
       "\n",
       "    .dataframe tbody tr th {\n",
       "        vertical-align: top;\n",
       "    }\n",
       "\n",
       "    .dataframe thead th {\n",
       "        text-align: right;\n",
       "    }\n",
       "</style>\n",
       "<table border=\"1\" class=\"dataframe\">\n",
       "  <thead>\n",
       "    <tr style=\"text-align: right;\">\n",
       "      <th></th>\n",
       "      <th>x</th>\n",
       "      <th>x^2</th>\n",
       "      <th>x^3</th>\n",
       "    </tr>\n",
       "  </thead>\n",
       "  <tbody>\n",
       "    <tr>\n",
       "      <th>0</th>\n",
       "      <td>-3.000000e+00</td>\n",
       "      <td>9.000000e+00</td>\n",
       "      <td>-2.700000e+01</td>\n",
       "    </tr>\n",
       "    <tr>\n",
       "      <th>1</th>\n",
       "      <td>-2.900000e+00</td>\n",
       "      <td>8.410000e+00</td>\n",
       "      <td>-2.438900e+01</td>\n",
       "    </tr>\n",
       "    <tr>\n",
       "      <th>2</th>\n",
       "      <td>-2.800000e+00</td>\n",
       "      <td>7.840000e+00</td>\n",
       "      <td>-2.195200e+01</td>\n",
       "    </tr>\n",
       "    <tr>\n",
       "      <th>3</th>\n",
       "      <td>-2.700000e+00</td>\n",
       "      <td>7.290000e+00</td>\n",
       "      <td>-1.968300e+01</td>\n",
       "    </tr>\n",
       "    <tr>\n",
       "      <th>4</th>\n",
       "      <td>-2.600000e+00</td>\n",
       "      <td>6.760000e+00</td>\n",
       "      <td>-1.757600e+01</td>\n",
       "    </tr>\n",
       "    <tr>\n",
       "      <th>5</th>\n",
       "      <td>-2.500000e+00</td>\n",
       "      <td>6.250000e+00</td>\n",
       "      <td>-1.562500e+01</td>\n",
       "    </tr>\n",
       "    <tr>\n",
       "      <th>6</th>\n",
       "      <td>-2.400000e+00</td>\n",
       "      <td>5.760000e+00</td>\n",
       "      <td>-1.382400e+01</td>\n",
       "    </tr>\n",
       "    <tr>\n",
       "      <th>7</th>\n",
       "      <td>-2.300000e+00</td>\n",
       "      <td>5.290000e+00</td>\n",
       "      <td>-1.216700e+01</td>\n",
       "    </tr>\n",
       "    <tr>\n",
       "      <th>8</th>\n",
       "      <td>-2.200000e+00</td>\n",
       "      <td>4.840000e+00</td>\n",
       "      <td>-1.064800e+01</td>\n",
       "    </tr>\n",
       "    <tr>\n",
       "      <th>9</th>\n",
       "      <td>-2.100000e+00</td>\n",
       "      <td>4.410000e+00</td>\n",
       "      <td>-9.261000e+00</td>\n",
       "    </tr>\n",
       "    <tr>\n",
       "      <th>10</th>\n",
       "      <td>-2.000000e+00</td>\n",
       "      <td>4.000000e+00</td>\n",
       "      <td>-8.000000e+00</td>\n",
       "    </tr>\n",
       "    <tr>\n",
       "      <th>11</th>\n",
       "      <td>-1.900000e+00</td>\n",
       "      <td>3.610000e+00</td>\n",
       "      <td>-6.859000e+00</td>\n",
       "    </tr>\n",
       "    <tr>\n",
       "      <th>12</th>\n",
       "      <td>-1.800000e+00</td>\n",
       "      <td>3.240000e+00</td>\n",
       "      <td>-5.832000e+00</td>\n",
       "    </tr>\n",
       "    <tr>\n",
       "      <th>13</th>\n",
       "      <td>-1.700000e+00</td>\n",
       "      <td>2.890000e+00</td>\n",
       "      <td>-4.913000e+00</td>\n",
       "    </tr>\n",
       "    <tr>\n",
       "      <th>14</th>\n",
       "      <td>-1.600000e+00</td>\n",
       "      <td>2.560000e+00</td>\n",
       "      <td>-4.096000e+00</td>\n",
       "    </tr>\n",
       "    <tr>\n",
       "      <th>15</th>\n",
       "      <td>-1.500000e+00</td>\n",
       "      <td>2.250000e+00</td>\n",
       "      <td>-3.375000e+00</td>\n",
       "    </tr>\n",
       "    <tr>\n",
       "      <th>16</th>\n",
       "      <td>-1.400000e+00</td>\n",
       "      <td>1.960000e+00</td>\n",
       "      <td>-2.744000e+00</td>\n",
       "    </tr>\n",
       "    <tr>\n",
       "      <th>17</th>\n",
       "      <td>-1.300000e+00</td>\n",
       "      <td>1.690000e+00</td>\n",
       "      <td>-2.197000e+00</td>\n",
       "    </tr>\n",
       "    <tr>\n",
       "      <th>18</th>\n",
       "      <td>-1.200000e+00</td>\n",
       "      <td>1.440000e+00</td>\n",
       "      <td>-1.728000e+00</td>\n",
       "    </tr>\n",
       "    <tr>\n",
       "      <th>19</th>\n",
       "      <td>-1.100000e+00</td>\n",
       "      <td>1.210000e+00</td>\n",
       "      <td>-1.331000e+00</td>\n",
       "    </tr>\n",
       "    <tr>\n",
       "      <th>20</th>\n",
       "      <td>-1.000000e+00</td>\n",
       "      <td>1.000000e+00</td>\n",
       "      <td>-1.000000e+00</td>\n",
       "    </tr>\n",
       "    <tr>\n",
       "      <th>21</th>\n",
       "      <td>-9.000000e-01</td>\n",
       "      <td>8.100000e-01</td>\n",
       "      <td>-7.290000e-01</td>\n",
       "    </tr>\n",
       "    <tr>\n",
       "      <th>22</th>\n",
       "      <td>-8.000000e-01</td>\n",
       "      <td>6.400000e-01</td>\n",
       "      <td>-5.120000e-01</td>\n",
       "    </tr>\n",
       "    <tr>\n",
       "      <th>23</th>\n",
       "      <td>-7.000000e-01</td>\n",
       "      <td>4.900000e-01</td>\n",
       "      <td>-3.430000e-01</td>\n",
       "    </tr>\n",
       "    <tr>\n",
       "      <th>24</th>\n",
       "      <td>-6.000000e-01</td>\n",
       "      <td>3.600000e-01</td>\n",
       "      <td>-2.160000e-01</td>\n",
       "    </tr>\n",
       "    <tr>\n",
       "      <th>25</th>\n",
       "      <td>-5.000000e-01</td>\n",
       "      <td>2.500000e-01</td>\n",
       "      <td>-1.250000e-01</td>\n",
       "    </tr>\n",
       "    <tr>\n",
       "      <th>26</th>\n",
       "      <td>-4.000000e-01</td>\n",
       "      <td>1.600000e-01</td>\n",
       "      <td>-6.400000e-02</td>\n",
       "    </tr>\n",
       "    <tr>\n",
       "      <th>27</th>\n",
       "      <td>-3.000000e-01</td>\n",
       "      <td>9.000000e-02</td>\n",
       "      <td>-2.700000e-02</td>\n",
       "    </tr>\n",
       "    <tr>\n",
       "      <th>28</th>\n",
       "      <td>-2.000000e-01</td>\n",
       "      <td>4.000000e-02</td>\n",
       "      <td>-8.000000e-03</td>\n",
       "    </tr>\n",
       "    <tr>\n",
       "      <th>29</th>\n",
       "      <td>-1.000000e-01</td>\n",
       "      <td>1.000000e-02</td>\n",
       "      <td>-1.000000e-03</td>\n",
       "    </tr>\n",
       "    <tr>\n",
       "      <th>30</th>\n",
       "      <td>2.664535e-15</td>\n",
       "      <td>7.099748e-30</td>\n",
       "      <td>1.891753e-44</td>\n",
       "    </tr>\n",
       "    <tr>\n",
       "      <th>31</th>\n",
       "      <td>1.000000e-01</td>\n",
       "      <td>1.000000e-02</td>\n",
       "      <td>1.000000e-03</td>\n",
       "    </tr>\n",
       "    <tr>\n",
       "      <th>32</th>\n",
       "      <td>2.000000e-01</td>\n",
       "      <td>4.000000e-02</td>\n",
       "      <td>8.000000e-03</td>\n",
       "    </tr>\n",
       "    <tr>\n",
       "      <th>33</th>\n",
       "      <td>3.000000e-01</td>\n",
       "      <td>9.000000e-02</td>\n",
       "      <td>2.700000e-02</td>\n",
       "    </tr>\n",
       "    <tr>\n",
       "      <th>34</th>\n",
       "      <td>4.000000e-01</td>\n",
       "      <td>1.600000e-01</td>\n",
       "      <td>6.400000e-02</td>\n",
       "    </tr>\n",
       "    <tr>\n",
       "      <th>35</th>\n",
       "      <td>5.000000e-01</td>\n",
       "      <td>2.500000e-01</td>\n",
       "      <td>1.250000e-01</td>\n",
       "    </tr>\n",
       "    <tr>\n",
       "      <th>36</th>\n",
       "      <td>6.000000e-01</td>\n",
       "      <td>3.600000e-01</td>\n",
       "      <td>2.160000e-01</td>\n",
       "    </tr>\n",
       "    <tr>\n",
       "      <th>37</th>\n",
       "      <td>7.000000e-01</td>\n",
       "      <td>4.900000e-01</td>\n",
       "      <td>3.430000e-01</td>\n",
       "    </tr>\n",
       "    <tr>\n",
       "      <th>38</th>\n",
       "      <td>8.000000e-01</td>\n",
       "      <td>6.400000e-01</td>\n",
       "      <td>5.120000e-01</td>\n",
       "    </tr>\n",
       "    <tr>\n",
       "      <th>39</th>\n",
       "      <td>9.000000e-01</td>\n",
       "      <td>8.100000e-01</td>\n",
       "      <td>7.290000e-01</td>\n",
       "    </tr>\n",
       "    <tr>\n",
       "      <th>40</th>\n",
       "      <td>1.000000e+00</td>\n",
       "      <td>1.000000e+00</td>\n",
       "      <td>1.000000e+00</td>\n",
       "    </tr>\n",
       "    <tr>\n",
       "      <th>41</th>\n",
       "      <td>1.100000e+00</td>\n",
       "      <td>1.210000e+00</td>\n",
       "      <td>1.331000e+00</td>\n",
       "    </tr>\n",
       "    <tr>\n",
       "      <th>42</th>\n",
       "      <td>1.200000e+00</td>\n",
       "      <td>1.440000e+00</td>\n",
       "      <td>1.728000e+00</td>\n",
       "    </tr>\n",
       "    <tr>\n",
       "      <th>43</th>\n",
       "      <td>1.300000e+00</td>\n",
       "      <td>1.690000e+00</td>\n",
       "      <td>2.197000e+00</td>\n",
       "    </tr>\n",
       "    <tr>\n",
       "      <th>44</th>\n",
       "      <td>1.400000e+00</td>\n",
       "      <td>1.960000e+00</td>\n",
       "      <td>2.744000e+00</td>\n",
       "    </tr>\n",
       "    <tr>\n",
       "      <th>45</th>\n",
       "      <td>1.500000e+00</td>\n",
       "      <td>2.250000e+00</td>\n",
       "      <td>3.375000e+00</td>\n",
       "    </tr>\n",
       "    <tr>\n",
       "      <th>46</th>\n",
       "      <td>1.600000e+00</td>\n",
       "      <td>2.560000e+00</td>\n",
       "      <td>4.096000e+00</td>\n",
       "    </tr>\n",
       "    <tr>\n",
       "      <th>47</th>\n",
       "      <td>1.700000e+00</td>\n",
       "      <td>2.890000e+00</td>\n",
       "      <td>4.913000e+00</td>\n",
       "    </tr>\n",
       "    <tr>\n",
       "      <th>48</th>\n",
       "      <td>1.800000e+00</td>\n",
       "      <td>3.240000e+00</td>\n",
       "      <td>5.832000e+00</td>\n",
       "    </tr>\n",
       "    <tr>\n",
       "      <th>49</th>\n",
       "      <td>1.900000e+00</td>\n",
       "      <td>3.610000e+00</td>\n",
       "      <td>6.859000e+00</td>\n",
       "    </tr>\n",
       "  </tbody>\n",
       "</table>\n",
       "</div>"
      ],
      "text/plain": [
       "               x           x^2           x^3\n",
       "0  -3.000000e+00  9.000000e+00 -2.700000e+01\n",
       "1  -2.900000e+00  8.410000e+00 -2.438900e+01\n",
       "2  -2.800000e+00  7.840000e+00 -2.195200e+01\n",
       "3  -2.700000e+00  7.290000e+00 -1.968300e+01\n",
       "4  -2.600000e+00  6.760000e+00 -1.757600e+01\n",
       "5  -2.500000e+00  6.250000e+00 -1.562500e+01\n",
       "6  -2.400000e+00  5.760000e+00 -1.382400e+01\n",
       "7  -2.300000e+00  5.290000e+00 -1.216700e+01\n",
       "8  -2.200000e+00  4.840000e+00 -1.064800e+01\n",
       "9  -2.100000e+00  4.410000e+00 -9.261000e+00\n",
       "10 -2.000000e+00  4.000000e+00 -8.000000e+00\n",
       "11 -1.900000e+00  3.610000e+00 -6.859000e+00\n",
       "12 -1.800000e+00  3.240000e+00 -5.832000e+00\n",
       "13 -1.700000e+00  2.890000e+00 -4.913000e+00\n",
       "14 -1.600000e+00  2.560000e+00 -4.096000e+00\n",
       "15 -1.500000e+00  2.250000e+00 -3.375000e+00\n",
       "16 -1.400000e+00  1.960000e+00 -2.744000e+00\n",
       "17 -1.300000e+00  1.690000e+00 -2.197000e+00\n",
       "18 -1.200000e+00  1.440000e+00 -1.728000e+00\n",
       "19 -1.100000e+00  1.210000e+00 -1.331000e+00\n",
       "20 -1.000000e+00  1.000000e+00 -1.000000e+00\n",
       "21 -9.000000e-01  8.100000e-01 -7.290000e-01\n",
       "22 -8.000000e-01  6.400000e-01 -5.120000e-01\n",
       "23 -7.000000e-01  4.900000e-01 -3.430000e-01\n",
       "24 -6.000000e-01  3.600000e-01 -2.160000e-01\n",
       "25 -5.000000e-01  2.500000e-01 -1.250000e-01\n",
       "26 -4.000000e-01  1.600000e-01 -6.400000e-02\n",
       "27 -3.000000e-01  9.000000e-02 -2.700000e-02\n",
       "28 -2.000000e-01  4.000000e-02 -8.000000e-03\n",
       "29 -1.000000e-01  1.000000e-02 -1.000000e-03\n",
       "30  2.664535e-15  7.099748e-30  1.891753e-44\n",
       "31  1.000000e-01  1.000000e-02  1.000000e-03\n",
       "32  2.000000e-01  4.000000e-02  8.000000e-03\n",
       "33  3.000000e-01  9.000000e-02  2.700000e-02\n",
       "34  4.000000e-01  1.600000e-01  6.400000e-02\n",
       "35  5.000000e-01  2.500000e-01  1.250000e-01\n",
       "36  6.000000e-01  3.600000e-01  2.160000e-01\n",
       "37  7.000000e-01  4.900000e-01  3.430000e-01\n",
       "38  8.000000e-01  6.400000e-01  5.120000e-01\n",
       "39  9.000000e-01  8.100000e-01  7.290000e-01\n",
       "40  1.000000e+00  1.000000e+00  1.000000e+00\n",
       "41  1.100000e+00  1.210000e+00  1.331000e+00\n",
       "42  1.200000e+00  1.440000e+00  1.728000e+00\n",
       "43  1.300000e+00  1.690000e+00  2.197000e+00\n",
       "44  1.400000e+00  1.960000e+00  2.744000e+00\n",
       "45  1.500000e+00  2.250000e+00  3.375000e+00\n",
       "46  1.600000e+00  2.560000e+00  4.096000e+00\n",
       "47  1.700000e+00  2.890000e+00  4.913000e+00\n",
       "48  1.800000e+00  3.240000e+00  5.832000e+00\n",
       "49  1.900000e+00  3.610000e+00  6.859000e+00"
      ]
     },
     "execution_count": 12,
     "metadata": {},
     "output_type": "execute_result"
    }
   ],
   "source": [
    "df_pow.columns = poly.get_feature_names_out()\n",
    "df_pow"
   ]
  },
  {
   "cell_type": "markdown",
   "metadata": {
    "cell_id": "3f0b2573e9b942b98c567c6d343e18f8",
    "deepnote_cell_type": "markdown"
   },
   "source": [
    "* Concatenate the \"y\" and \"y_true\" columns from `df` onto the end of `df_pow` using `pd.concat((???, ???), axis=???)`.  Name the result `df_both`."
   ]
  },
  {
   "cell_type": "markdown",
   "metadata": {
    "cell_id": "93c95e75c4de473997a3fb53e7a81e76",
    "deepnote_cell_type": "markdown"
   },
   "source": [
    "Notice how we use `axis=1`, because the column labels are changing but the row labels are staying the same."
   ]
  },
  {
   "cell_type": "code",
   "execution_count": null,
   "metadata": {
    "cell_id": "ed66942edab5495cb850dda90a7348d7",
    "deepnote_cell_type": "code",
    "deepnote_to_be_reexecuted": false,
    "execution_millis": 26,
    "execution_start": 1699478775248,
    "source_hash": null
   },
   "outputs": [
    {
     "data": {
      "application/vnd.deepnote.dataframe.v3+json": {
       "column_count": 5,
       "columns": [
        {
         "dtype": "float64",
         "name": "x",
         "stats": {
          "histogram": [
           {
            "bin_end": -2.51,
            "bin_start": -3,
            "count": 5
           },
           {
            "bin_end": -2.019999999999999,
            "bin_start": -2.51,
            "count": 5
           },
           {
            "bin_end": -1.529999999999999,
            "bin_start": -2.019999999999999,
            "count": 5
           },
           {
            "bin_end": -1.0399999999999985,
            "bin_start": -1.529999999999999,
            "count": 5
           },
           {
            "bin_end": -0.549999999999998,
            "bin_start": -1.0399999999999985,
            "count": 5
           },
           {
            "bin_end": -0.05999999999999783,
            "bin_start": -0.549999999999998,
            "count": 5
           },
           {
            "bin_end": 0.4300000000000028,
            "bin_start": -0.05999999999999783,
            "count": 5
           },
           {
            "bin_end": 0.920000000000003,
            "bin_start": 0.4300000000000028,
            "count": 5
           },
           {
            "bin_end": 1.4100000000000037,
            "bin_start": 0.920000000000003,
            "count": 5
           },
           {
            "bin_end": 1.900000000000004,
            "bin_start": 1.4100000000000037,
            "count": 5
           }
          ],
          "max": "1.900000000000004",
          "min": "-3.0",
          "nan_count": 0,
          "unique_count": 50
         }
        },
        {
         "dtype": "float64",
         "name": "x^2",
         "stats": {
          "histogram": [
           {
            "bin_end": 0.9,
            "bin_start": 7.099748146989106e-30,
            "count": 19
           },
           {
            "bin_end": 1.8,
            "bin_start": 0.9,
            "count": 8
           },
           {
            "bin_end": 2.7,
            "bin_start": 1.8,
            "count": 6
           },
           {
            "bin_end": 3.6,
            "bin_start": 2.7,
            "count": 4
           },
           {
            "bin_end": 4.5,
            "bin_start": 3.6,
            "count": 4
           },
           {
            "bin_end": 5.4,
            "bin_start": 4.5,
            "count": 2
           },
           {
            "bin_end": 6.3,
            "bin_start": 5.4,
            "count": 2
           },
           {
            "bin_end": 7.2,
            "bin_start": 6.3,
            "count": 1
           },
           {
            "bin_end": 8.1,
            "bin_start": 7.2,
            "count": 2
           },
           {
            "bin_end": 9,
            "bin_start": 8.1,
            "count": 2
           }
          ],
          "max": "9.0",
          "min": "7.099748146989106e-30",
          "nan_count": 0,
          "unique_count": 50
         }
        },
        {
         "dtype": "float64",
         "name": "x^3",
         "stats": {
          "histogram": [
           {
            "bin_end": -23.614099999999997,
            "bin_start": -27,
            "count": 2
           },
           {
            "bin_end": -20.22819999999999,
            "bin_start": -23.614099999999997,
            "count": 1
           },
           {
            "bin_end": -16.842299999999987,
            "bin_start": -20.22819999999999,
            "count": 2
           },
           {
            "bin_end": -13.456399999999983,
            "bin_start": -16.842299999999987,
            "count": 2
           },
           {
            "bin_end": -10.070499999999978,
            "bin_start": -13.456399999999983,
            "count": 2
           },
           {
            "bin_end": -6.684599999999975,
            "bin_start": -10.070499999999978,
            "count": 3
           },
           {
            "bin_end": -3.298699999999968,
            "bin_start": -6.684599999999975,
            "count": 4
           },
           {
            "bin_end": 0.0872000000000348,
            "bin_start": -3.298699999999968,
            "count": 19
           },
           {
            "bin_end": 3.473100000000038,
            "bin_start": 0.0872000000000348,
            "count": 11
           },
           {
            "bin_end": 6.859000000000043,
            "bin_start": 3.473100000000038,
            "count": 4
           }
          ],
          "max": "6.859000000000043",
          "min": "-27.0",
          "nan_count": 0,
          "unique_count": 50
         }
        },
        {
         "dtype": "float64",
         "name": "y",
         "stats": {
          "histogram": [
           {
            "bin_end": -20.334782925066932,
            "bin_start": -24.77847715028231,
            "count": 2
           },
           {
            "bin_end": -15.89108869985155,
            "bin_start": -20.334782925066932,
            "count": 3
           },
           {
            "bin_end": -11.447394474636171,
            "bin_start": -15.89108869985155,
            "count": 9
           },
           {
            "bin_end": -7.003700249420792,
            "bin_start": -11.447394474636171,
            "count": 8
           },
           {
            "bin_end": -2.5600060242054106,
            "bin_start": -7.003700249420792,
            "count": 12
           },
           {
            "bin_end": 1.8836882010099671,
            "bin_start": -2.5600060242054106,
            "count": 7
           },
           {
            "bin_end": 6.327382426225345,
            "bin_start": 1.8836882010099671,
            "count": 3
           },
           {
            "bin_end": 10.771076651440726,
            "bin_start": 6.327382426225345,
            "count": 3
           },
           {
            "bin_end": 15.214770876656107,
            "bin_start": 10.771076651440726,
            "count": 1
           },
           {
            "bin_end": 19.658465101871492,
            "bin_start": 15.214770876656107,
            "count": 2
           }
          ],
          "max": "19.658465101871492",
          "min": "-24.77847715028231",
          "nan_count": 0,
          "unique_count": 50
         }
        },
        {
         "dtype": "float64",
         "name": "y_true",
         "stats": {
          "histogram": [
           {
            "bin_end": -22.98320000000011,
            "bin_start": -27.648000000000124,
            "count": 2
           },
           {
            "bin_end": -18.3184000000001,
            "bin_start": -22.98320000000011,
            "count": 2
           },
           {
            "bin_end": -13.653600000000088,
            "bin_start": -18.3184000000001,
            "count": 2
           },
           {
            "bin_end": -8.988800000000076,
            "bin_start": -13.653600000000088,
            "count": 4
           },
           {
            "bin_end": -4.324000000000062,
            "bin_start": -8.988800000000076,
            "count": 28
           },
           {
            "bin_end": 0.34079999999994826,
            "bin_start": -4.324000000000062,
            "count": 4
           },
           {
            "bin_end": 5.0055999999999585,
            "bin_start": 0.34079999999994826,
            "count": 3
           },
           {
            "bin_end": 9.670399999999972,
            "bin_start": 5.0055999999999585,
            "count": 1
           },
           {
            "bin_end": 14.335199999999986,
            "bin_start": 9.670399999999972,
            "count": 2
           },
           {
            "bin_end": 19,
            "bin_start": 14.335199999999986,
            "count": 2
           }
          ],
          "max": "19.0",
          "min": "-27.648000000000124",
          "nan_count": 0,
          "unique_count": 50
         }
        },
        {
         "dtype": "int64",
         "name": "_deepnote_index_column"
        }
       ],
       "row_count": 50,
       "rows": [
        {
         "_deepnote_index_column": 0,
         "x": -3,
         "x^2": 9,
         "x^3": -27,
         "y": 19.658465101871492,
         "y_true": 19
        },
        {
         "_deepnote_index_column": 1,
         "x": -2.9,
         "x^2": 8.41,
         "x^3": -24.389,
         "y": 19.004528282618537,
         "y_true": 15.647999999999996
        },
        {
         "_deepnote_index_column": 2,
         "x": -2.8,
         "x^2": 7.839999999999999,
         "x^3": -21.951999999999995,
         "y": 14.544002144257137,
         "y_true": 12.583999999999993
        },
        {
         "_deepnote_index_column": 3,
         "x": -2.6999999999999997,
         "x^2": 7.289999999999998,
         "x^3": -19.682999999999993,
         "y": 6.982884893264817,
         "y_true": 9.795999999999992
        },
        {
         "_deepnote_index_column": 4,
         "x": -2.5999999999999996,
         "x^2": 6.759999999999998,
         "x^3": -17.575999999999993,
         "y": 7.806070461300174,
         "y_true": 7.271999999999991
        },
        {
         "_deepnote_index_column": 5,
         "x": -2.4999999999999996,
         "x^2": 6.249999999999998,
         "x^3": -15.624999999999993,
         "y": 8.322150273840546,
         "y_true": 4.999999999999989
        },
        {
         "_deepnote_index_column": 6,
         "x": -2.3999999999999995,
         "x^2": 5.759999999999997,
         "x^3": -13.82399999999999,
         "y": -1.2896924420726732,
         "y_true": 2.967999999999993
        },
        {
         "_deepnote_index_column": 7,
         "x": -2.2999999999999994,
         "x^2": 5.289999999999997,
         "x^3": -12.166999999999991,
         "y": -0.8273918144512216,
         "y_true": 1.1639999999999908
        },
        {
         "_deepnote_index_column": 8,
         "x": -2.1999999999999993,
         "x^2": 4.839999999999997,
         "x^3": -10.64799999999999,
         "y": 6.149442465409061,
         "y_true": -0.4240000000000137
        },
        {
         "_deepnote_index_column": 9,
         "x": -2.099999999999999,
         "x^2": 4.409999999999997,
         "x^3": -9.260999999999989,
         "y": -0.1839666032241829,
         "y_true": -1.808000000000014
        }
       ]
      },
      "text/html": [
       "<div>\n",
       "<style scoped>\n",
       "    .dataframe tbody tr th:only-of-type {\n",
       "        vertical-align: middle;\n",
       "    }\n",
       "\n",
       "    .dataframe tbody tr th {\n",
       "        vertical-align: top;\n",
       "    }\n",
       "\n",
       "    .dataframe thead th {\n",
       "        text-align: right;\n",
       "    }\n",
       "</style>\n",
       "<table border=\"1\" class=\"dataframe\">\n",
       "  <thead>\n",
       "    <tr style=\"text-align: right;\">\n",
       "      <th></th>\n",
       "      <th>x</th>\n",
       "      <th>x^2</th>\n",
       "      <th>x^3</th>\n",
       "      <th>y</th>\n",
       "      <th>y_true</th>\n",
       "    </tr>\n",
       "  </thead>\n",
       "  <tbody>\n",
       "    <tr>\n",
       "      <th>0</th>\n",
       "      <td>-3.000000e+00</td>\n",
       "      <td>9.000000e+00</td>\n",
       "      <td>-2.700000e+01</td>\n",
       "      <td>19.658465</td>\n",
       "      <td>19.000</td>\n",
       "    </tr>\n",
       "    <tr>\n",
       "      <th>1</th>\n",
       "      <td>-2.900000e+00</td>\n",
       "      <td>8.410000e+00</td>\n",
       "      <td>-2.438900e+01</td>\n",
       "      <td>19.004528</td>\n",
       "      <td>15.648</td>\n",
       "    </tr>\n",
       "    <tr>\n",
       "      <th>2</th>\n",
       "      <td>-2.800000e+00</td>\n",
       "      <td>7.840000e+00</td>\n",
       "      <td>-2.195200e+01</td>\n",
       "      <td>14.544002</td>\n",
       "      <td>12.584</td>\n",
       "    </tr>\n",
       "    <tr>\n",
       "      <th>3</th>\n",
       "      <td>-2.700000e+00</td>\n",
       "      <td>7.290000e+00</td>\n",
       "      <td>-1.968300e+01</td>\n",
       "      <td>6.982885</td>\n",
       "      <td>9.796</td>\n",
       "    </tr>\n",
       "    <tr>\n",
       "      <th>4</th>\n",
       "      <td>-2.600000e+00</td>\n",
       "      <td>6.760000e+00</td>\n",
       "      <td>-1.757600e+01</td>\n",
       "      <td>7.806070</td>\n",
       "      <td>7.272</td>\n",
       "    </tr>\n",
       "    <tr>\n",
       "      <th>5</th>\n",
       "      <td>-2.500000e+00</td>\n",
       "      <td>6.250000e+00</td>\n",
       "      <td>-1.562500e+01</td>\n",
       "      <td>8.322150</td>\n",
       "      <td>5.000</td>\n",
       "    </tr>\n",
       "    <tr>\n",
       "      <th>6</th>\n",
       "      <td>-2.400000e+00</td>\n",
       "      <td>5.760000e+00</td>\n",
       "      <td>-1.382400e+01</td>\n",
       "      <td>-1.289692</td>\n",
       "      <td>2.968</td>\n",
       "    </tr>\n",
       "    <tr>\n",
       "      <th>7</th>\n",
       "      <td>-2.300000e+00</td>\n",
       "      <td>5.290000e+00</td>\n",
       "      <td>-1.216700e+01</td>\n",
       "      <td>-0.827392</td>\n",
       "      <td>1.164</td>\n",
       "    </tr>\n",
       "    <tr>\n",
       "      <th>8</th>\n",
       "      <td>-2.200000e+00</td>\n",
       "      <td>4.840000e+00</td>\n",
       "      <td>-1.064800e+01</td>\n",
       "      <td>6.149442</td>\n",
       "      <td>-0.424</td>\n",
       "    </tr>\n",
       "    <tr>\n",
       "      <th>9</th>\n",
       "      <td>-2.100000e+00</td>\n",
       "      <td>4.410000e+00</td>\n",
       "      <td>-9.261000e+00</td>\n",
       "      <td>-0.183967</td>\n",
       "      <td>-1.808</td>\n",
       "    </tr>\n",
       "    <tr>\n",
       "      <th>10</th>\n",
       "      <td>-2.000000e+00</td>\n",
       "      <td>4.000000e+00</td>\n",
       "      <td>-8.000000e+00</td>\n",
       "      <td>-6.093065</td>\n",
       "      <td>-3.000</td>\n",
       "    </tr>\n",
       "    <tr>\n",
       "      <th>11</th>\n",
       "      <td>-1.900000e+00</td>\n",
       "      <td>3.610000e+00</td>\n",
       "      <td>-6.859000e+00</td>\n",
       "      <td>-6.817643</td>\n",
       "      <td>-4.012</td>\n",
       "    </tr>\n",
       "    <tr>\n",
       "      <th>12</th>\n",
       "      <td>-1.800000e+00</td>\n",
       "      <td>3.240000e+00</td>\n",
       "      <td>-5.832000e+00</td>\n",
       "      <td>2.249072</td>\n",
       "      <td>-4.856</td>\n",
       "    </tr>\n",
       "    <tr>\n",
       "      <th>13</th>\n",
       "      <td>-1.700000e+00</td>\n",
       "      <td>2.890000e+00</td>\n",
       "      <td>-4.913000e+00</td>\n",
       "      <td>-3.184134</td>\n",
       "      <td>-5.544</td>\n",
       "    </tr>\n",
       "    <tr>\n",
       "      <th>14</th>\n",
       "      <td>-1.600000e+00</td>\n",
       "      <td>2.560000e+00</td>\n",
       "      <td>-4.096000e+00</td>\n",
       "      <td>-15.528922</td>\n",
       "      <td>-6.088</td>\n",
       "    </tr>\n",
       "    <tr>\n",
       "      <th>15</th>\n",
       "      <td>-1.500000e+00</td>\n",
       "      <td>2.250000e+00</td>\n",
       "      <td>-3.375000e+00</td>\n",
       "      <td>-3.867985</td>\n",
       "      <td>-6.500</td>\n",
       "    </tr>\n",
       "    <tr>\n",
       "      <th>16</th>\n",
       "      <td>-1.400000e+00</td>\n",
       "      <td>1.960000e+00</td>\n",
       "      <td>-2.744000e+00</td>\n",
       "      <td>-11.173514</td>\n",
       "      <td>-6.792</td>\n",
       "    </tr>\n",
       "    <tr>\n",
       "      <th>17</th>\n",
       "      <td>-1.300000e+00</td>\n",
       "      <td>1.690000e+00</td>\n",
       "      <td>-2.197000e+00</td>\n",
       "      <td>-7.492278</td>\n",
       "      <td>-6.976</td>\n",
       "    </tr>\n",
       "    <tr>\n",
       "      <th>18</th>\n",
       "      <td>-1.200000e+00</td>\n",
       "      <td>1.440000e+00</td>\n",
       "      <td>-1.728000e+00</td>\n",
       "      <td>-14.988038</td>\n",
       "      <td>-7.064</td>\n",
       "    </tr>\n",
       "    <tr>\n",
       "      <th>19</th>\n",
       "      <td>-1.100000e+00</td>\n",
       "      <td>1.210000e+00</td>\n",
       "      <td>-1.331000e+00</td>\n",
       "      <td>-8.428815</td>\n",
       "      <td>-7.068</td>\n",
       "    </tr>\n",
       "    <tr>\n",
       "      <th>20</th>\n",
       "      <td>-1.000000e+00</td>\n",
       "      <td>1.000000e+00</td>\n",
       "      <td>-1.000000e+00</td>\n",
       "      <td>-10.778717</td>\n",
       "      <td>-7.000</td>\n",
       "    </tr>\n",
       "    <tr>\n",
       "      <th>21</th>\n",
       "      <td>-9.000000e-01</td>\n",
       "      <td>8.100000e-01</td>\n",
       "      <td>-7.290000e-01</td>\n",
       "      <td>-12.853986</td>\n",
       "      <td>-6.872</td>\n",
       "    </tr>\n",
       "    <tr>\n",
       "      <th>22</th>\n",
       "      <td>-8.000000e-01</td>\n",
       "      <td>6.400000e-01</td>\n",
       "      <td>-5.120000e-01</td>\n",
       "      <td>-2.085862</td>\n",
       "      <td>-6.696</td>\n",
       "    </tr>\n",
       "    <tr>\n",
       "      <th>23</th>\n",
       "      <td>-7.000000e-01</td>\n",
       "      <td>4.900000e-01</td>\n",
       "      <td>-3.430000e-01</td>\n",
       "      <td>5.928608</td>\n",
       "      <td>-6.484</td>\n",
       "    </tr>\n",
       "    <tr>\n",
       "      <th>24</th>\n",
       "      <td>-6.000000e-01</td>\n",
       "      <td>3.600000e-01</td>\n",
       "      <td>-2.160000e-01</td>\n",
       "      <td>-3.419772</td>\n",
       "      <td>-6.248</td>\n",
       "    </tr>\n",
       "    <tr>\n",
       "      <th>25</th>\n",
       "      <td>-5.000000e-01</td>\n",
       "      <td>2.500000e-01</td>\n",
       "      <td>-1.250000e-01</td>\n",
       "      <td>-5.006722</td>\n",
       "      <td>-6.000</td>\n",
       "    </tr>\n",
       "    <tr>\n",
       "      <th>26</th>\n",
       "      <td>-4.000000e-01</td>\n",
       "      <td>1.600000e-01</td>\n",
       "      <td>-6.400000e-02</td>\n",
       "      <td>-11.888357</td>\n",
       "      <td>-5.752</td>\n",
       "    </tr>\n",
       "    <tr>\n",
       "      <th>27</th>\n",
       "      <td>-3.000000e-01</td>\n",
       "      <td>9.000000e-02</td>\n",
       "      <td>-2.700000e-02</td>\n",
       "      <td>-6.781925</td>\n",
       "      <td>-5.516</td>\n",
       "    </tr>\n",
       "    <tr>\n",
       "      <th>28</th>\n",
       "      <td>-2.000000e-01</td>\n",
       "      <td>4.000000e-02</td>\n",
       "      <td>-8.000000e-03</td>\n",
       "      <td>-8.647650</td>\n",
       "      <td>-5.304</td>\n",
       "    </tr>\n",
       "    <tr>\n",
       "      <th>29</th>\n",
       "      <td>-1.000000e-01</td>\n",
       "      <td>1.000000e-02</td>\n",
       "      <td>-1.000000e-03</td>\n",
       "      <td>-14.463928</td>\n",
       "      <td>-5.128</td>\n",
       "    </tr>\n",
       "    <tr>\n",
       "      <th>30</th>\n",
       "      <td>2.664535e-15</td>\n",
       "      <td>7.099748e-30</td>\n",
       "      <td>1.891753e-44</td>\n",
       "      <td>-2.247368</td>\n",
       "      <td>-5.000</td>\n",
       "    </tr>\n",
       "    <tr>\n",
       "      <th>31</th>\n",
       "      <td>1.000000e-01</td>\n",
       "      <td>1.000000e-02</td>\n",
       "      <td>1.000000e-03</td>\n",
       "      <td>-5.226225</td>\n",
       "      <td>-4.932</td>\n",
       "    </tr>\n",
       "    <tr>\n",
       "      <th>32</th>\n",
       "      <td>2.000000e-01</td>\n",
       "      <td>4.000000e-02</td>\n",
       "      <td>8.000000e-03</td>\n",
       "      <td>-8.567178</td>\n",
       "      <td>-4.936</td>\n",
       "    </tr>\n",
       "    <tr>\n",
       "      <th>33</th>\n",
       "      <td>3.000000e-01</td>\n",
       "      <td>9.000000e-02</td>\n",
       "      <td>2.700000e-02</td>\n",
       "      <td>-12.507355</td>\n",
       "      <td>-5.024</td>\n",
       "    </tr>\n",
       "    <tr>\n",
       "      <th>34</th>\n",
       "      <td>4.000000e-01</td>\n",
       "      <td>1.600000e-01</td>\n",
       "      <td>6.400000e-02</td>\n",
       "      <td>-2.985618</td>\n",
       "      <td>-5.208</td>\n",
       "    </tr>\n",
       "    <tr>\n",
       "      <th>35</th>\n",
       "      <td>5.000000e-01</td>\n",
       "      <td>2.500000e-01</td>\n",
       "      <td>1.250000e-01</td>\n",
       "      <td>1.248474</td>\n",
       "      <td>-5.500</td>\n",
       "    </tr>\n",
       "    <tr>\n",
       "      <th>36</th>\n",
       "      <td>6.000000e-01</td>\n",
       "      <td>3.600000e-01</td>\n",
       "      <td>2.160000e-01</td>\n",
       "      <td>-5.436481</td>\n",
       "      <td>-5.912</td>\n",
       "    </tr>\n",
       "    <tr>\n",
       "      <th>37</th>\n",
       "      <td>7.000000e-01</td>\n",
       "      <td>4.900000e-01</td>\n",
       "      <td>3.430000e-01</td>\n",
       "      <td>-9.005758</td>\n",
       "      <td>-6.456</td>\n",
       "    </tr>\n",
       "    <tr>\n",
       "      <th>38</th>\n",
       "      <td>8.000000e-01</td>\n",
       "      <td>6.400000e-01</td>\n",
       "      <td>5.120000e-01</td>\n",
       "      <td>-4.079082</td>\n",
       "      <td>-7.144</td>\n",
       "    </tr>\n",
       "    <tr>\n",
       "      <th>39</th>\n",
       "      <td>9.000000e-01</td>\n",
       "      <td>8.100000e-01</td>\n",
       "      <td>7.290000e-01</td>\n",
       "      <td>-12.877670</td>\n",
       "      <td>-7.988</td>\n",
       "    </tr>\n",
       "    <tr>\n",
       "      <th>40</th>\n",
       "      <td>1.000000e+00</td>\n",
       "      <td>1.000000e+00</td>\n",
       "      <td>1.000000e+00</td>\n",
       "      <td>-19.902710</td>\n",
       "      <td>-9.000</td>\n",
       "    </tr>\n",
       "    <tr>\n",
       "      <th>41</th>\n",
       "      <td>1.100000e+00</td>\n",
       "      <td>1.210000e+00</td>\n",
       "      <td>1.331000e+00</td>\n",
       "      <td>-1.632357</td>\n",
       "      <td>-10.192</td>\n",
       "    </tr>\n",
       "    <tr>\n",
       "      <th>42</th>\n",
       "      <td>1.200000e+00</td>\n",
       "      <td>1.440000e+00</td>\n",
       "      <td>1.728000e+00</td>\n",
       "      <td>-3.138947</td>\n",
       "      <td>-11.576</td>\n",
       "    </tr>\n",
       "    <tr>\n",
       "      <th>43</th>\n",
       "      <td>1.300000e+00</td>\n",
       "      <td>1.690000e+00</td>\n",
       "      <td>2.197000e+00</td>\n",
       "      <td>-14.674297</td>\n",
       "      <td>-13.164</td>\n",
       "    </tr>\n",
       "    <tr>\n",
       "      <th>44</th>\n",
       "      <td>1.400000e+00</td>\n",
       "      <td>1.960000e+00</td>\n",
       "      <td>2.744000e+00</td>\n",
       "      <td>-14.626226</td>\n",
       "      <td>-14.968</td>\n",
       "    </tr>\n",
       "    <tr>\n",
       "      <th>45</th>\n",
       "      <td>1.500000e+00</td>\n",
       "      <td>2.250000e+00</td>\n",
       "      <td>3.375000e+00</td>\n",
       "      <td>-8.663278</td>\n",
       "      <td>-17.000</td>\n",
       "    </tr>\n",
       "    <tr>\n",
       "      <th>46</th>\n",
       "      <td>1.600000e+00</td>\n",
       "      <td>2.560000e+00</td>\n",
       "      <td>4.096000e+00</td>\n",
       "      <td>-24.778477</td>\n",
       "      <td>-19.272</td>\n",
       "    </tr>\n",
       "    <tr>\n",
       "      <th>47</th>\n",
       "      <td>1.700000e+00</td>\n",
       "      <td>2.890000e+00</td>\n",
       "      <td>4.913000e+00</td>\n",
       "      <td>-21.197001</td>\n",
       "      <td>-21.796</td>\n",
       "    </tr>\n",
       "    <tr>\n",
       "      <th>48</th>\n",
       "      <td>1.800000e+00</td>\n",
       "      <td>3.240000e+00</td>\n",
       "      <td>5.832000e+00</td>\n",
       "      <td>-20.253230</td>\n",
       "      <td>-24.584</td>\n",
       "    </tr>\n",
       "    <tr>\n",
       "      <th>49</th>\n",
       "      <td>1.900000e+00</td>\n",
       "      <td>3.610000e+00</td>\n",
       "      <td>6.859000e+00</td>\n",
       "      <td>-18.957032</td>\n",
       "      <td>-27.648</td>\n",
       "    </tr>\n",
       "  </tbody>\n",
       "</table>\n",
       "</div>"
      ],
      "text/plain": [
       "               x           x^2           x^3          y  y_true\n",
       "0  -3.000000e+00  9.000000e+00 -2.700000e+01  19.658465  19.000\n",
       "1  -2.900000e+00  8.410000e+00 -2.438900e+01  19.004528  15.648\n",
       "2  -2.800000e+00  7.840000e+00 -2.195200e+01  14.544002  12.584\n",
       "3  -2.700000e+00  7.290000e+00 -1.968300e+01   6.982885   9.796\n",
       "4  -2.600000e+00  6.760000e+00 -1.757600e+01   7.806070   7.272\n",
       "5  -2.500000e+00  6.250000e+00 -1.562500e+01   8.322150   5.000\n",
       "6  -2.400000e+00  5.760000e+00 -1.382400e+01  -1.289692   2.968\n",
       "7  -2.300000e+00  5.290000e+00 -1.216700e+01  -0.827392   1.164\n",
       "8  -2.200000e+00  4.840000e+00 -1.064800e+01   6.149442  -0.424\n",
       "9  -2.100000e+00  4.410000e+00 -9.261000e+00  -0.183967  -1.808\n",
       "10 -2.000000e+00  4.000000e+00 -8.000000e+00  -6.093065  -3.000\n",
       "11 -1.900000e+00  3.610000e+00 -6.859000e+00  -6.817643  -4.012\n",
       "12 -1.800000e+00  3.240000e+00 -5.832000e+00   2.249072  -4.856\n",
       "13 -1.700000e+00  2.890000e+00 -4.913000e+00  -3.184134  -5.544\n",
       "14 -1.600000e+00  2.560000e+00 -4.096000e+00 -15.528922  -6.088\n",
       "15 -1.500000e+00  2.250000e+00 -3.375000e+00  -3.867985  -6.500\n",
       "16 -1.400000e+00  1.960000e+00 -2.744000e+00 -11.173514  -6.792\n",
       "17 -1.300000e+00  1.690000e+00 -2.197000e+00  -7.492278  -6.976\n",
       "18 -1.200000e+00  1.440000e+00 -1.728000e+00 -14.988038  -7.064\n",
       "19 -1.100000e+00  1.210000e+00 -1.331000e+00  -8.428815  -7.068\n",
       "20 -1.000000e+00  1.000000e+00 -1.000000e+00 -10.778717  -7.000\n",
       "21 -9.000000e-01  8.100000e-01 -7.290000e-01 -12.853986  -6.872\n",
       "22 -8.000000e-01  6.400000e-01 -5.120000e-01  -2.085862  -6.696\n",
       "23 -7.000000e-01  4.900000e-01 -3.430000e-01   5.928608  -6.484\n",
       "24 -6.000000e-01  3.600000e-01 -2.160000e-01  -3.419772  -6.248\n",
       "25 -5.000000e-01  2.500000e-01 -1.250000e-01  -5.006722  -6.000\n",
       "26 -4.000000e-01  1.600000e-01 -6.400000e-02 -11.888357  -5.752\n",
       "27 -3.000000e-01  9.000000e-02 -2.700000e-02  -6.781925  -5.516\n",
       "28 -2.000000e-01  4.000000e-02 -8.000000e-03  -8.647650  -5.304\n",
       "29 -1.000000e-01  1.000000e-02 -1.000000e-03 -14.463928  -5.128\n",
       "30  2.664535e-15  7.099748e-30  1.891753e-44  -2.247368  -5.000\n",
       "31  1.000000e-01  1.000000e-02  1.000000e-03  -5.226225  -4.932\n",
       "32  2.000000e-01  4.000000e-02  8.000000e-03  -8.567178  -4.936\n",
       "33  3.000000e-01  9.000000e-02  2.700000e-02 -12.507355  -5.024\n",
       "34  4.000000e-01  1.600000e-01  6.400000e-02  -2.985618  -5.208\n",
       "35  5.000000e-01  2.500000e-01  1.250000e-01   1.248474  -5.500\n",
       "36  6.000000e-01  3.600000e-01  2.160000e-01  -5.436481  -5.912\n",
       "37  7.000000e-01  4.900000e-01  3.430000e-01  -9.005758  -6.456\n",
       "38  8.000000e-01  6.400000e-01  5.120000e-01  -4.079082  -7.144\n",
       "39  9.000000e-01  8.100000e-01  7.290000e-01 -12.877670  -7.988\n",
       "40  1.000000e+00  1.000000e+00  1.000000e+00 -19.902710  -9.000\n",
       "41  1.100000e+00  1.210000e+00  1.331000e+00  -1.632357 -10.192\n",
       "42  1.200000e+00  1.440000e+00  1.728000e+00  -3.138947 -11.576\n",
       "43  1.300000e+00  1.690000e+00  2.197000e+00 -14.674297 -13.164\n",
       "44  1.400000e+00  1.960000e+00  2.744000e+00 -14.626226 -14.968\n",
       "45  1.500000e+00  2.250000e+00  3.375000e+00  -8.663278 -17.000\n",
       "46  1.600000e+00  2.560000e+00  4.096000e+00 -24.778477 -19.272\n",
       "47  1.700000e+00  2.890000e+00  4.913000e+00 -21.197001 -21.796\n",
       "48  1.800000e+00  3.240000e+00  5.832000e+00 -20.253230 -24.584\n",
       "49  1.900000e+00  3.610000e+00  6.859000e+00 -18.957032 -27.648"
      ]
     },
     "execution_count": 13,
     "metadata": {},
     "output_type": "execute_result"
    }
   ],
   "source": [
    "df_both = pd.concat((df_pow, df[[\"y\", \"y_true\"]]), axis=1)\n",
    "df_both"
   ]
  },
  {
   "cell_type": "markdown",
   "metadata": {
    "cell_id": "bb88ec74730c44819dd7f57f3ddd9255",
    "deepnote_cell_type": "markdown"
   },
   "source": [
    "* Find the \"best\" coefficient values for modeling $y \\approx c_3 x^3 + c_2 x^2 + c_1 x + c_0$.\n"
   ]
  },
  {
   "cell_type": "code",
   "execution_count": null,
   "metadata": {
    "cell_id": "b282cb493e1c4c5ab39169a53b1a980a",
    "deepnote_cell_type": "code",
    "deepnote_to_be_reexecuted": false,
    "execution_millis": 10,
    "execution_start": 1699478930886,
    "source_hash": null
   },
   "outputs": [
    {
     "data": {
      "text/html": [
       "<style>#sk-container-id-1 {color: black;background-color: white;}#sk-container-id-1 pre{padding: 0;}#sk-container-id-1 div.sk-toggleable {background-color: white;}#sk-container-id-1 label.sk-toggleable__label {cursor: pointer;display: block;width: 100%;margin-bottom: 0;padding: 0.3em;box-sizing: border-box;text-align: center;}#sk-container-id-1 label.sk-toggleable__label-arrow:before {content: \"▸\";float: left;margin-right: 0.25em;color: #696969;}#sk-container-id-1 label.sk-toggleable__label-arrow:hover:before {color: black;}#sk-container-id-1 div.sk-estimator:hover label.sk-toggleable__label-arrow:before {color: black;}#sk-container-id-1 div.sk-toggleable__content {max-height: 0;max-width: 0;overflow: hidden;text-align: left;background-color: #f0f8ff;}#sk-container-id-1 div.sk-toggleable__content pre {margin: 0.2em;color: black;border-radius: 0.25em;background-color: #f0f8ff;}#sk-container-id-1 input.sk-toggleable__control:checked~div.sk-toggleable__content {max-height: 200px;max-width: 100%;overflow: auto;}#sk-container-id-1 input.sk-toggleable__control:checked~label.sk-toggleable__label-arrow:before {content: \"▾\";}#sk-container-id-1 div.sk-estimator input.sk-toggleable__control:checked~label.sk-toggleable__label {background-color: #d4ebff;}#sk-container-id-1 div.sk-label input.sk-toggleable__control:checked~label.sk-toggleable__label {background-color: #d4ebff;}#sk-container-id-1 input.sk-hidden--visually {border: 0;clip: rect(1px 1px 1px 1px);clip: rect(1px, 1px, 1px, 1px);height: 1px;margin: -1px;overflow: hidden;padding: 0;position: absolute;width: 1px;}#sk-container-id-1 div.sk-estimator {font-family: monospace;background-color: #f0f8ff;border: 1px dotted black;border-radius: 0.25em;box-sizing: border-box;margin-bottom: 0.5em;}#sk-container-id-1 div.sk-estimator:hover {background-color: #d4ebff;}#sk-container-id-1 div.sk-parallel-item::after {content: \"\";width: 100%;border-bottom: 1px solid gray;flex-grow: 1;}#sk-container-id-1 div.sk-label:hover label.sk-toggleable__label {background-color: #d4ebff;}#sk-container-id-1 div.sk-serial::before {content: \"\";position: absolute;border-left: 1px solid gray;box-sizing: border-box;top: 0;bottom: 0;left: 50%;z-index: 0;}#sk-container-id-1 div.sk-serial {display: flex;flex-direction: column;align-items: center;background-color: white;padding-right: 0.2em;padding-left: 0.2em;position: relative;}#sk-container-id-1 div.sk-item {position: relative;z-index: 1;}#sk-container-id-1 div.sk-parallel {display: flex;align-items: stretch;justify-content: center;background-color: white;position: relative;}#sk-container-id-1 div.sk-item::before, #sk-container-id-1 div.sk-parallel-item::before {content: \"\";position: absolute;border-left: 1px solid gray;box-sizing: border-box;top: 0;bottom: 0;left: 50%;z-index: -1;}#sk-container-id-1 div.sk-parallel-item {display: flex;flex-direction: column;z-index: 1;position: relative;background-color: white;}#sk-container-id-1 div.sk-parallel-item:first-child::after {align-self: flex-end;width: 50%;}#sk-container-id-1 div.sk-parallel-item:last-child::after {align-self: flex-start;width: 50%;}#sk-container-id-1 div.sk-parallel-item:only-child::after {width: 0;}#sk-container-id-1 div.sk-dashed-wrapped {border: 1px dashed gray;margin: 0 0.4em 0.5em 0.4em;box-sizing: border-box;padding-bottom: 0.4em;background-color: white;}#sk-container-id-1 div.sk-label label {font-family: monospace;font-weight: bold;display: inline-block;line-height: 1.2em;}#sk-container-id-1 div.sk-label-container {text-align: center;}#sk-container-id-1 div.sk-container {/* jupyter's `normalize.less` sets `[hidden] { display: none; }` but bootstrap.min.css set `[hidden] { display: none !important; }` so we also need the `!important` here to be able to override the default hidden behavior on the sphinx rendered scikit-learn.org. See: https://github.com/scikit-learn/scikit-learn/issues/21755 */display: inline-block !important;position: relative;}#sk-container-id-1 div.sk-text-repr-fallback {display: none;}</style><div id=\"sk-container-id-1\" class=\"sk-top-container\"><div class=\"sk-text-repr-fallback\"><pre>LinearRegression()</pre><b>In a Jupyter environment, please rerun this cell to show the HTML representation or trust the notebook. <br />On GitHub, the HTML representation is unable to render, please try loading this page with nbviewer.org.</b></div><div class=\"sk-container\" hidden><div class=\"sk-item\"><div class=\"sk-estimator sk-toggleable\"><input class=\"sk-toggleable__control sk-hidden--visually\" id=\"sk-estimator-id-1\" type=\"checkbox\" checked><label for=\"sk-estimator-id-1\" class=\"sk-toggleable__label sk-toggleable__label-arrow\">LinearRegression</label><div class=\"sk-toggleable__content\"><pre>LinearRegression()</pre></div></div></div></div></div>"
      ],
      "text/plain": [
       "LinearRegression()"
      ]
     },
     "execution_count": 14,
     "metadata": {},
     "output_type": "execute_result"
    }
   ],
   "source": [
    "from sklearn.linear_model import LinearRegression\n",
    "reg = LinearRegression()\n",
    "reg.fit(df_both[[\"x\",\"x^2\",\"x^3\"]], df_both[\"y\"])"
   ]
  },
  {
   "cell_type": "markdown",
   "metadata": {
    "cell_id": "93636e80e066431bb42ea0bea68b54eb",
    "deepnote_cell_type": "markdown"
   },
   "source": [
    "* How do these values compare to the true coefficient values?\n"
   ]
  },
  {
   "cell_type": "code",
   "execution_count": null,
   "metadata": {
    "cell_id": "84666d42f47141ee97217d3dedcbca7b",
    "deepnote_cell_type": "code",
    "deepnote_to_be_reexecuted": false,
    "execution_millis": 16,
    "execution_start": 1699478950947,
    "source_hash": null
   },
   "outputs": [
    {
     "data": {
      "text/plain": [
       "array([ 1.6446191 , -2.03654891, -1.83956523])"
      ]
     },
     "execution_count": 15,
     "metadata": {},
     "output_type": "execute_result"
    }
   ],
   "source": [
    "reg.coef_"
   ]
  },
  {
   "cell_type": "code",
   "execution_count": null,
   "metadata": {
    "cell_id": "75d48ffb47344c26865b2cc30ecc74c6",
    "deepnote_cell_type": "code",
    "deepnote_to_be_reexecuted": false,
    "execution_millis": 30,
    "execution_start": 1699478957535,
    "source_hash": null
   },
   "outputs": [
    {
     "data": {
      "text/plain": [
       "-6.358623201499859"
      ]
     },
     "execution_count": 16,
     "metadata": {},
     "output_type": "execute_result"
    }
   ],
   "source": [
    "reg.intercept_"
   ]
  },
  {
   "cell_type": "markdown",
   "metadata": {
    "cell_id": "26fb7f2553ac4022a8d12f3d3cf0fc48",
    "deepnote_cell_type": "markdown"
   },
   "source": [
    "The true values follow the polynomial $y = -2x^3 - 3x^2 + x - 5$.  In our case, we have found approximately $-1.8 x^3 - 2x^2 + 1.6 x - 6.4$.  These two sequences of coefficients are remarkably similar.\n",
    "\n",
    "We will see a more efficient way to do all of these steps below, using `Pipeline`."
   ]
  },
  {
   "cell_type": "markdown",
   "metadata": {
    "cell_id": "b30de5c8615948e08241ea97d6a1171e",
    "deepnote_cell_type": "markdown"
   },
   "source": [
    "### Using `Pipeline` to combine multiple steps\n",
    "\n",
    "The above process is a little awkward.  We can achieve the same thing much more efficiently by using another data type defined by scikit-learn, `Pipeline`.  (The tradeoff is that it is less explicit what is happening.)"
   ]
  },
  {
   "cell_type": "markdown",
   "metadata": {
    "cell_id": "9b3895a24b2c46c490366d4046e80b9e",
    "deepnote_cell_type": "markdown"
   },
   "source": [
    "* Import the `Pipeline` class from `sklearn.pipeline`."
   ]
  },
  {
   "cell_type": "code",
   "execution_count": null,
   "metadata": {
    "cell_id": "1776890cffcc4b669be0bedc29fb76b9",
    "deepnote_cell_type": "code",
    "deepnote_to_be_reexecuted": false,
    "execution_millis": 32,
    "execution_start": 1699479154169,
    "source_hash": null
   },
   "outputs": [],
   "source": [
    "from sklearn.pipeline import Pipeline"
   ]
  },
  {
   "cell_type": "markdown",
   "metadata": {
    "cell_id": "acca09f20fe149c990d15680eaca008a",
    "deepnote_cell_type": "markdown"
   },
   "source": [
    "* Make an instance of this `Pipeline` class.  Pass to the constructor a list of length-2 tuples, where each tuple provides a name for the step (as a string) and the constructor (like `PolynomialFeatures(???)`)."
   ]
  },
  {
   "cell_type": "code",
   "execution_count": null,
   "metadata": {
    "cell_id": "0c28ceaf096e494b9ff827ec9b63188a",
    "deepnote_cell_type": "code",
    "deepnote_to_be_reexecuted": false,
    "execution_millis": 13,
    "execution_start": 1699479349150,
    "source_hash": null
   },
   "outputs": [],
   "source": [
    "pipe = Pipeline(\n",
    "    [\n",
    "        ('poly', PolynomialFeatures(degree=3, include_bias=False)),\n",
    "        ('reg', LinearRegression())\n",
    "    ]\n",
    ")"
   ]
  },
  {
   "cell_type": "markdown",
   "metadata": {
    "cell_id": "f3efaa8a2c3b4c0687bbcca3681c868a",
    "deepnote_cell_type": "markdown"
   },
   "source": [
    "* Fit this object to the data.\n",
    "\n",
    "This is where we really benefit from Pipeline.  The following call of `pipe.fit` first fits and transforms the data using `PolynomialFeatures`, and then fits that transformed data using `LinearRegression`."
   ]
  },
  {
   "cell_type": "code",
   "execution_count": null,
   "metadata": {
    "cell_id": "1ec1264ef1ba45b6b3e26487be05ab9f",
    "deepnote_cell_type": "code",
    "deepnote_to_be_reexecuted": false,
    "execution_millis": 11,
    "execution_start": 1699479451601,
    "source_hash": null
   },
   "outputs": [
    {
     "data": {
      "text/html": [
       "<style>#sk-container-id-2 {color: black;background-color: white;}#sk-container-id-2 pre{padding: 0;}#sk-container-id-2 div.sk-toggleable {background-color: white;}#sk-container-id-2 label.sk-toggleable__label {cursor: pointer;display: block;width: 100%;margin-bottom: 0;padding: 0.3em;box-sizing: border-box;text-align: center;}#sk-container-id-2 label.sk-toggleable__label-arrow:before {content: \"▸\";float: left;margin-right: 0.25em;color: #696969;}#sk-container-id-2 label.sk-toggleable__label-arrow:hover:before {color: black;}#sk-container-id-2 div.sk-estimator:hover label.sk-toggleable__label-arrow:before {color: black;}#sk-container-id-2 div.sk-toggleable__content {max-height: 0;max-width: 0;overflow: hidden;text-align: left;background-color: #f0f8ff;}#sk-container-id-2 div.sk-toggleable__content pre {margin: 0.2em;color: black;border-radius: 0.25em;background-color: #f0f8ff;}#sk-container-id-2 input.sk-toggleable__control:checked~div.sk-toggleable__content {max-height: 200px;max-width: 100%;overflow: auto;}#sk-container-id-2 input.sk-toggleable__control:checked~label.sk-toggleable__label-arrow:before {content: \"▾\";}#sk-container-id-2 div.sk-estimator input.sk-toggleable__control:checked~label.sk-toggleable__label {background-color: #d4ebff;}#sk-container-id-2 div.sk-label input.sk-toggleable__control:checked~label.sk-toggleable__label {background-color: #d4ebff;}#sk-container-id-2 input.sk-hidden--visually {border: 0;clip: rect(1px 1px 1px 1px);clip: rect(1px, 1px, 1px, 1px);height: 1px;margin: -1px;overflow: hidden;padding: 0;position: absolute;width: 1px;}#sk-container-id-2 div.sk-estimator {font-family: monospace;background-color: #f0f8ff;border: 1px dotted black;border-radius: 0.25em;box-sizing: border-box;margin-bottom: 0.5em;}#sk-container-id-2 div.sk-estimator:hover {background-color: #d4ebff;}#sk-container-id-2 div.sk-parallel-item::after {content: \"\";width: 100%;border-bottom: 1px solid gray;flex-grow: 1;}#sk-container-id-2 div.sk-label:hover label.sk-toggleable__label {background-color: #d4ebff;}#sk-container-id-2 div.sk-serial::before {content: \"\";position: absolute;border-left: 1px solid gray;box-sizing: border-box;top: 0;bottom: 0;left: 50%;z-index: 0;}#sk-container-id-2 div.sk-serial {display: flex;flex-direction: column;align-items: center;background-color: white;padding-right: 0.2em;padding-left: 0.2em;position: relative;}#sk-container-id-2 div.sk-item {position: relative;z-index: 1;}#sk-container-id-2 div.sk-parallel {display: flex;align-items: stretch;justify-content: center;background-color: white;position: relative;}#sk-container-id-2 div.sk-item::before, #sk-container-id-2 div.sk-parallel-item::before {content: \"\";position: absolute;border-left: 1px solid gray;box-sizing: border-box;top: 0;bottom: 0;left: 50%;z-index: -1;}#sk-container-id-2 div.sk-parallel-item {display: flex;flex-direction: column;z-index: 1;position: relative;background-color: white;}#sk-container-id-2 div.sk-parallel-item:first-child::after {align-self: flex-end;width: 50%;}#sk-container-id-2 div.sk-parallel-item:last-child::after {align-self: flex-start;width: 50%;}#sk-container-id-2 div.sk-parallel-item:only-child::after {width: 0;}#sk-container-id-2 div.sk-dashed-wrapped {border: 1px dashed gray;margin: 0 0.4em 0.5em 0.4em;box-sizing: border-box;padding-bottom: 0.4em;background-color: white;}#sk-container-id-2 div.sk-label label {font-family: monospace;font-weight: bold;display: inline-block;line-height: 1.2em;}#sk-container-id-2 div.sk-label-container {text-align: center;}#sk-container-id-2 div.sk-container {/* jupyter's `normalize.less` sets `[hidden] { display: none; }` but bootstrap.min.css set `[hidden] { display: none !important; }` so we also need the `!important` here to be able to override the default hidden behavior on the sphinx rendered scikit-learn.org. See: https://github.com/scikit-learn/scikit-learn/issues/21755 */display: inline-block !important;position: relative;}#sk-container-id-2 div.sk-text-repr-fallback {display: none;}</style><div id=\"sk-container-id-2\" class=\"sk-top-container\"><div class=\"sk-text-repr-fallback\"><pre>Pipeline(steps=[(&#x27;poly&#x27;, PolynomialFeatures(degree=3, include_bias=False)),\n",
       "                (&#x27;reg&#x27;, LinearRegression())])</pre><b>In a Jupyter environment, please rerun this cell to show the HTML representation or trust the notebook. <br />On GitHub, the HTML representation is unable to render, please try loading this page with nbviewer.org.</b></div><div class=\"sk-container\" hidden><div class=\"sk-item sk-dashed-wrapped\"><div class=\"sk-label-container\"><div class=\"sk-label sk-toggleable\"><input class=\"sk-toggleable__control sk-hidden--visually\" id=\"sk-estimator-id-2\" type=\"checkbox\" ><label for=\"sk-estimator-id-2\" class=\"sk-toggleable__label sk-toggleable__label-arrow\">Pipeline</label><div class=\"sk-toggleable__content\"><pre>Pipeline(steps=[(&#x27;poly&#x27;, PolynomialFeatures(degree=3, include_bias=False)),\n",
       "                (&#x27;reg&#x27;, LinearRegression())])</pre></div></div></div><div class=\"sk-serial\"><div class=\"sk-item\"><div class=\"sk-estimator sk-toggleable\"><input class=\"sk-toggleable__control sk-hidden--visually\" id=\"sk-estimator-id-3\" type=\"checkbox\" ><label for=\"sk-estimator-id-3\" class=\"sk-toggleable__label sk-toggleable__label-arrow\">PolynomialFeatures</label><div class=\"sk-toggleable__content\"><pre>PolynomialFeatures(degree=3, include_bias=False)</pre></div></div></div><div class=\"sk-item\"><div class=\"sk-estimator sk-toggleable\"><input class=\"sk-toggleable__control sk-hidden--visually\" id=\"sk-estimator-id-4\" type=\"checkbox\" ><label for=\"sk-estimator-id-4\" class=\"sk-toggleable__label sk-toggleable__label-arrow\">LinearRegression</label><div class=\"sk-toggleable__content\"><pre>LinearRegression()</pre></div></div></div></div></div></div></div>"
      ],
      "text/plain": [
       "Pipeline(steps=[('poly', PolynomialFeatures(degree=3, include_bias=False)),\n",
       "                ('reg', LinearRegression())])"
      ]
     },
     "execution_count": 19,
     "metadata": {},
     "output_type": "execute_result"
    }
   ],
   "source": [
    "pipe.fit(df[[\"x\"]], df['y'])"
   ]
  },
  {
   "cell_type": "markdown",
   "metadata": {
    "cell_id": "b8df2b78f6054bbc801aa0a9a99fd83b",
    "deepnote_cell_type": "markdown"
   },
   "source": [
    "* Do the coefficients match what we found above?  Use the `named_steps` attribute, or just use the name directly.\n",
    "\n",
    "You might try calling `pipe.coef_`, but we get an error message.  It's not the `Pipeline` object itself that has the fit coefficients, but the `LinearRegression` object within it."
   ]
  },
  {
   "cell_type": "code",
   "execution_count": null,
   "metadata": {
    "cell_id": "bee25669f9994025b9aef0b7807d208a",
    "deepnote_cell_type": "code",
    "deepnote_to_be_reexecuted": false,
    "execution_millis": 929,
    "execution_start": 1699479520350,
    "source_hash": null
   },
   "outputs": [
    {
     "ename": "AttributeError",
     "evalue": "'Pipeline' object has no attribute 'coef_'",
     "output_type": "error",
     "traceback": [
      "\u001b[0;31m---------------------------------------------------------------------------\u001b[0m",
      "\u001b[0;31mAttributeError\u001b[0m                            Traceback (most recent call last)",
      "Cell \u001b[0;32mIn [20], line 1\u001b[0m\n\u001b[0;32m----> 1\u001b[0m \u001b[43mpipe\u001b[49m\u001b[38;5;241;43m.\u001b[39;49m\u001b[43mcoef_\u001b[49m\n",
      "\u001b[0;31mAttributeError\u001b[0m: 'Pipeline' object has no attribute 'coef_'"
     ]
    }
   ],
   "source": [
    "pipe.coef_"
   ]
  },
  {
   "cell_type": "markdown",
   "metadata": {
    "cell_id": "71ccfdea3b7548cab3a2651df05664ae",
    "deepnote_cell_type": "markdown"
   },
   "source": [
    "The information is recorded in a Python dictionary stored in the `named_steps` attribute of our `Pipeline` object."
   ]
  },
  {
   "cell_type": "code",
   "execution_count": null,
   "metadata": {
    "cell_id": "bc3c8d8794d8436ba09eaa388890e72e",
    "deepnote_cell_type": "code",
    "deepnote_to_be_reexecuted": false,
    "execution_millis": 10,
    "execution_start": 1699479588897,
    "source_hash": null
   },
   "outputs": [
    {
     "data": {
      "text/plain": [
       "{'poly': PolynomialFeatures(degree=3, include_bias=False),\n",
       " 'reg': LinearRegression()}"
      ]
     },
     "execution_count": 22,
     "metadata": {},
     "output_type": "execute_result"
    }
   ],
   "source": [
    "pipe.named_steps"
   ]
  },
  {
   "cell_type": "markdown",
   "metadata": {
    "cell_id": "e6e3b48b50644f0084a21bf3b70b0c7b",
    "deepnote_cell_type": "markdown"
   },
   "source": [
    "The point of all that is, now that we know how to access the `LinearRegression` object, we can get its `coef_` attribute just like usual when performing linear regression.  (Remember that this attribute only exists after we call `fit`.)\n",
    "\n",
    "Notice that these are the exact same values as what we found above.  It's worth looking over both procedures and noticing how much shorter this procedure using `Pipeline` is."
   ]
  },
  {
   "cell_type": "code",
   "execution_count": null,
   "metadata": {
    "cell_id": "cb926a1c6c794bf7822ea5f9178b78ea",
    "deepnote_cell_type": "code",
    "deepnote_to_be_reexecuted": false,
    "execution_millis": 28,
    "execution_start": 1699479574106,
    "source_hash": null
   },
   "outputs": [
    {
     "data": {
      "text/plain": [
       "array([ 1.6446191 , -2.03654891, -1.83956523])"
      ]
     },
     "execution_count": 21,
     "metadata": {},
     "output_type": "execute_result"
    }
   ],
   "source": [
    "pipe['reg'].coef_"
   ]
  },
  {
   "cell_type": "code",
   "execution_count": null,
   "metadata": {
    "cell_id": "bf3811697ba54bb6aab36edc16c2f37d",
    "deepnote_cell_type": "code",
    "deepnote_to_be_reexecuted": false,
    "execution_millis": 17,
    "execution_start": 1699479621889,
    "source_hash": null
   },
   "outputs": [
    {
     "data": {
      "text/plain": [
       "-6.3586232014998565"
      ]
     },
     "execution_count": 23,
     "metadata": {},
     "output_type": "execute_result"
    }
   ],
   "source": [
    "pipe['reg'].intercept_"
   ]
  },
  {
   "cell_type": "markdown",
   "metadata": {
    "cell_id": "15fb7be8ec6b485e8feb4e7d952802e9",
    "deepnote_cell_type": "markdown"
   },
   "source": [
    "* Call the predict method, and add the resulting values to a new column in `df` named \"pred\"."
   ]
  },
  {
   "cell_type": "markdown",
   "metadata": {
    "cell_id": "49583fc01f5b42168901cf2ab0be82e1",
    "deepnote_cell_type": "markdown"
   },
   "source": [
    "The following simple code is evaluating our \"best fit\" degree three polynomial $-1.8 x^3 - 2x^2 + 1.6 x - 6.4$ for every value of in the \"x\" column.  Notice how we don't need to explicitly type `\"x^2\"` or anything like that, the polynomial part of this polynomial regression is happening \"under the hood\"."
   ]
  },
  {
   "cell_type": "code",
   "execution_count": null,
   "metadata": {
    "cell_id": "2a3fba92098c446d94b34d172fbc63a1",
    "deepnote_cell_type": "code",
    "deepnote_to_be_reexecuted": false,
    "execution_millis": 13,
    "execution_start": 1699479738546,
    "source_hash": null
   },
   "outputs": [],
   "source": [
    "df[\"pred\"] = pipe.predict(df[[\"x\"]])"
   ]
  },
  {
   "cell_type": "markdown",
   "metadata": {
    "cell_id": "d0e540fdd1f54054bd5002af1544b3d2",
    "deepnote_cell_type": "markdown"
   },
   "source": [
    "* Plot the resulting predictions using a red line.  Name the chart `c2`."
   ]
  },
  {
   "cell_type": "markdown",
   "metadata": {
    "cell_id": "0ddd3e06110944289ca6f5717732180a",
    "deepnote_cell_type": "markdown"
   },
   "source": [
    "This one does lie perfectly on a cubic polynomial, more specifically, that cubic polynomial is approximately $-1.8 x^3 - 2x^2 + 1.6 x - 6.4$.  This is our cubic polynomial of \"best fit\" (meaning the Mean Squared Error between the data and this polynomial is minimized).  For the given data, using Mean Squared Error, this polynomial fits the data \"better\" than the true underlying polynomial $-2x^3 - 3x^2 + x - 5$."
   ]
  },
  {
   "cell_type": "code",
   "execution_count": null,
   "metadata": {
    "cell_id": "46feddceb1ec4f2e964c2bb629fbee06",
    "deepnote_cell_type": "code",
    "deepnote_to_be_reexecuted": false,
    "execution_millis": 47,
    "execution_start": 1699479823646,
    "source_hash": null
   },
   "outputs": [
    {
     "data": {
      "text/html": [
       "\n",
       "<div id=\"altair-viz-77f41a8a8eba4eb6b4239114ad9df0fc\"></div>\n",
       "<script type=\"text/javascript\">\n",
       "  var VEGA_DEBUG = (typeof VEGA_DEBUG == \"undefined\") ? {} : VEGA_DEBUG;\n",
       "  (function(spec, embedOpt){\n",
       "    let outputDiv = document.currentScript.previousElementSibling;\n",
       "    if (outputDiv.id !== \"altair-viz-77f41a8a8eba4eb6b4239114ad9df0fc\") {\n",
       "      outputDiv = document.getElementById(\"altair-viz-77f41a8a8eba4eb6b4239114ad9df0fc\");\n",
       "    }\n",
       "    const paths = {\n",
       "      \"vega\": \"https://cdn.jsdelivr.net/npm//vega@5?noext\",\n",
       "      \"vega-lib\": \"https://cdn.jsdelivr.net/npm//vega-lib?noext\",\n",
       "      \"vega-lite\": \"https://cdn.jsdelivr.net/npm//vega-lite@4.17.0?noext\",\n",
       "      \"vega-embed\": \"https://cdn.jsdelivr.net/npm//vega-embed@6?noext\",\n",
       "    };\n",
       "\n",
       "    function maybeLoadScript(lib, version) {\n",
       "      var key = `${lib.replace(\"-\", \"\")}_version`;\n",
       "      return (VEGA_DEBUG[key] == version) ?\n",
       "        Promise.resolve(paths[lib]) :\n",
       "        new Promise(function(resolve, reject) {\n",
       "          var s = document.createElement('script');\n",
       "          document.getElementsByTagName(\"head\")[0].appendChild(s);\n",
       "          s.async = true;\n",
       "          s.onload = () => {\n",
       "            VEGA_DEBUG[key] = version;\n",
       "            return resolve(paths[lib]);\n",
       "          };\n",
       "          s.onerror = () => reject(`Error loading script: ${paths[lib]}`);\n",
       "          s.src = paths[lib];\n",
       "        });\n",
       "    }\n",
       "\n",
       "    function showError(err) {\n",
       "      outputDiv.innerHTML = `<div class=\"error\" style=\"color:red;\">${err}</div>`;\n",
       "      throw err;\n",
       "    }\n",
       "\n",
       "    function displayChart(vegaEmbed) {\n",
       "      vegaEmbed(outputDiv, spec, embedOpt)\n",
       "        .catch(err => showError(`Javascript Error: ${err.message}<br>This usually means there's a typo in your chart specification. See the javascript console for the full traceback.`));\n",
       "    }\n",
       "\n",
       "    if(typeof define === \"function\" && define.amd) {\n",
       "      requirejs.config({paths});\n",
       "      require([\"vega-embed\"], displayChart, err => showError(`Error loading script: ${err.message}`));\n",
       "    } else {\n",
       "      maybeLoadScript(\"vega\", \"5\")\n",
       "        .then(() => maybeLoadScript(\"vega-lite\", \"4.17.0\"))\n",
       "        .then(() => maybeLoadScript(\"vega-embed\", \"6\"))\n",
       "        .catch(showError)\n",
       "        .then(() => displayChart(vegaEmbed));\n",
       "    }\n",
       "  })({\"config\": {\"view\": {\"continuousWidth\": 400, \"continuousHeight\": 300}}, \"data\": {\"name\": \"data-71995db8fe2b48e4b471cbce0c3c09d3\"}, \"mark\": {\"type\": \"line\", \"color\": \"red\"}, \"encoding\": {\"x\": {\"field\": \"x\", \"type\": \"quantitative\"}, \"y\": {\"field\": \"pred\", \"type\": \"quantitative\"}}, \"$schema\": \"https://vega.github.io/schema/vega-lite/v4.17.0.json\", \"datasets\": {\"data-71995db8fe2b48e4b471cbce0c3c09d3\": [{\"x\": -3.0, \"y_true\": 19.0, \"y\": 19.658465101871492, \"pred\": 20.046840407036083}, {\"x\": -2.9, \"y_true\": 15.647999999999996, \"y\": 19.004528282618537, \"pred\": 16.609761368238182}, {\"x\": -2.8, \"y_true\": 12.583999999999993, \"y\": 14.544002144257137, \"pred\": 13.452035700667675}, {\"x\": -2.6999999999999997, \"y_true\": 9.795999999999992, \"y\": 6.982884893264817, \"pred\": 10.562626012962866}, {\"x\": -2.5999999999999996, \"y_true\": 7.271999999999991, \"y\": 7.806070461300174, \"pred\": 7.9304949137620575}, {\"x\": -2.4999999999999996, \"y_true\": 4.999999999999989, \"y\": 8.322150273840546, \"pred\": 5.544605011703531}, {\"x\": -2.3999999999999995, \"y_true\": 2.967999999999993, \"y\": -1.2896924420726732, \"pred\": 3.3939189154255907}, {\"x\": -2.2999999999999994, \"y_true\": 1.1639999999999908, \"y\": -0.8273918144512216, \"pred\": 1.4673992335665362}, {\"x\": -2.1999999999999993, \"y_true\": -0.4240000000000137, \"y\": 6.149442465409061, \"pred\": -0.24599142523534567}, {\"x\": -2.099999999999999, \"y_true\": -1.808000000000014, \"y\": -0.1839666032241829, \"pred\": -1.757290452341758}, {\"x\": -1.9999999999999991, \"y_true\": -3.0000000000000107, \"y\": -6.093064646935422, \"pred\": -3.077535239114395}, {\"x\": -1.899999999999999, \"y_true\": -4.012000000000011, \"y\": -6.817643470650995, \"pred\": -4.217763176914971}, {\"x\": -1.799999999999999, \"y_true\": -4.856000000000009, \"y\": 2.2490716154049766, \"pred\": -5.189011657105183}, {\"x\": -1.6999999999999988, \"y_true\": -5.544000000000008, \"y\": -3.184134467800284, \"pred\": -6.002318071046741}, {\"x\": -1.5999999999999988, \"y_true\": -6.088000000000006, \"y\": -15.528922098150966, \"pred\": -6.668719810101345}, {\"x\": -1.4999999999999987, \"y_true\": -6.5000000000000036, \"y\": -3.8679852243435735, \"pred\": -7.1992542656306995}, {\"x\": -1.3999999999999986, \"y_true\": -6.792000000000003, \"y\": -11.173514248402546, \"pred\": -7.6049588289965095}, {\"x\": -1.2999999999999985, \"y_true\": -6.976000000000002, \"y\": -7.492277631790138, \"pred\": -7.896870891560479}, {\"x\": -1.1999999999999984, \"y_true\": -7.064000000000001, \"y\": -14.988038234518648, \"pred\": -8.08602784468431}, {\"x\": -1.0999999999999983, \"y_true\": -7.067999999999998, \"y\": -8.428814724570906, \"pred\": -8.18346707972971}, {\"x\": -0.9999999999999982, \"y_true\": -6.999999999999998, \"y\": -10.778717290673644, \"pred\": -8.200225988058378}, {\"x\": -0.8999999999999981, \"y_true\": -6.871999999999996, \"y\": -12.85398568413452, \"pred\": -8.147341961032023}, {\"x\": -0.799999999999998, \"y_true\": -6.695999999999996, \"y\": -2.0858623063889468, \"pred\": -8.035852390012346}, {\"x\": -0.699999999999998, \"y_true\": -6.4839999999999955, \"y\": 5.928608153155058, \"pred\": -7.876794666361052}, {\"x\": -0.5999999999999979, \"y_true\": -6.247999999999995, \"y\": -3.419772362889407, \"pred\": -7.681206181439846}, {\"x\": -0.4999999999999978, \"y_true\": -5.999999999999995, \"y\": -5.00672191742912, \"pred\": -7.46012432661043}, {\"x\": -0.3999999999999977, \"y_true\": -5.7519999999999945, \"y\": -11.88835694329487, \"pred\": -7.224586493234508}, {\"x\": -0.2999999999999976, \"y_true\": -5.515999999999995, \"y\": -6.781924771898778, \"pred\": -6.985630072673786}, {\"x\": -0.1999999999999975, \"y_true\": -5.303999999999996, \"y\": -8.647650201598005, \"pred\": -6.754292456289966}, {\"x\": -0.09999999999999742, \"y_true\": -5.127999999999997, \"y\": -14.463927863664011, \"pred\": -6.541611035444754}, {\"x\": 2.6645352591003757e-15, \"y_true\": -4.999999999999997, \"y\": -2.247368229087651, \"pred\": -6.358623201499852}, {\"x\": 0.10000000000000275, \"y_true\": -4.931999999999999, \"y\": -5.226225230895909, \"pred\": -6.216366345816965}, {\"x\": 0.20000000000000284, \"y_true\": -4.936000000000002, \"y\": -8.567177543511436, \"pred\": -6.1258778597577965}, {\"x\": 0.30000000000000293, \"y_true\": -5.024000000000004, \"y\": -12.507354574983232, \"pred\": -6.098195134684051}, {\"x\": 0.400000000000003, \"y_true\": -5.208000000000007, \"y\": -2.98561847906008, \"pred\": -6.144355561957433}, {\"x\": 0.5000000000000031, \"y_true\": -5.50000000000001, \"y\": 1.248473713097777, \"pred\": -6.275396532939645}, {\"x\": 0.6000000000000032, \"y_true\": -5.912000000000015, \"y\": -5.4364812249440515, \"pred\": -6.502355438992391}, {\"x\": 0.7000000000000033, \"y_true\": -6.456000000000021, \"y\": -9.005757557933645, \"pred\": -6.836269671477377}, {\"x\": 0.8000000000000034, \"y_true\": -7.144000000000027, \"y\": -4.079081500436287, \"pred\": -7.288176621756306}, {\"x\": 0.9000000000000035, \"y_true\": -7.988000000000032, \"y\": -12.87766973757309, \"pred\": -7.869113681190881}, {\"x\": 1.0000000000000036, \"y_true\": -9.000000000000039, \"y\": -19.902709876868947, \"pred\": -8.590118241142807}, {\"x\": 1.1000000000000032, \"y_true\": -10.192000000000041, \"y\": -1.6323568121990473, \"pred\": -9.462227692973784}, {\"x\": 1.2000000000000037, \"y_true\": -11.576000000000054, \"y\": -3.138946733006403, \"pred\": -10.496479428045527}, {\"x\": 1.3000000000000043, \"y_true\": -13.164000000000073, \"y\": -14.67429660470881, \"pred\": -11.703910837719732}, {\"x\": 1.400000000000004, \"y_true\": -14.968000000000075, \"y\": -14.626225655987446, \"pred\": -13.095559313358097}, {\"x\": 1.5000000000000036, \"y_true\": -17.000000000000078, \"y\": -8.663278321211596, \"pred\": -14.682462246322329}, {\"x\": 1.600000000000004, \"y_true\": -19.272000000000098, \"y\": -24.77847715028231, \"pred\": -16.47565702797415}, {\"x\": 1.7000000000000046, \"y_true\": -21.796000000000124, \"y\": -21.19700080694238, \"pred\": -18.486181049675253}, {\"x\": 1.8000000000000043, \"y_true\": -24.584000000000124, \"y\": -20.25323039464798, \"pred\": -20.725071702787318}, {\"x\": 1.900000000000004, \"y_true\": -27.648000000000124, \"y\": -18.957032440056313, \"pred\": -23.20336637867207}]}}, {\"mode\": \"vega-lite\"});\n",
       "</script>"
      ],
      "text/plain": [
       "alt.Chart(...)"
      ]
     },
     "execution_count": 26,
     "metadata": {},
     "output_type": "execute_result"
    }
   ],
   "source": [
    "c2 = alt.Chart(df).mark_line(color = \"red\").encode(\n",
    "    x = \"x\",\n",
    "    y = \"pred\"\n",
    ")\n",
    "c2"
   ]
  },
  {
   "cell_type": "markdown",
   "metadata": {
    "cell_id": "37b81dfd01d54a668b26a7407dfacbdb",
    "deepnote_cell_type": "markdown"
   },
   "source": [
    "* Plot the true values using a dashed black line, using `strokeDash=[10,5]` as an argument to `mark_line`.  Name the chart `c3`.\n",
    "\n",
    "Don't focus too much on the `strokeDash=[10,5]` part, I just wanted to show you an example of an option that exists.  Here the dashes are made with 10 black pixels followed by a gap of 5 pixels.\n",
    "\n",
    "This curve represents the true underlying polynomial that we used to generate the data (before adding the random noise to it)."
   ]
  },
  {
   "cell_type": "code",
   "execution_count": null,
   "metadata": {
    "cell_id": "817fef30d2ab462987c8d95bfc69bc8b",
    "deepnote_cell_type": "code",
    "deepnote_to_be_reexecuted": false,
    "execution_millis": 21,
    "execution_start": 1699479958671,
    "source_hash": null
   },
   "outputs": [
    {
     "data": {
      "text/html": [
       "\n",
       "<div id=\"altair-viz-db968db4e2944e01bdb8b478438d3173\"></div>\n",
       "<script type=\"text/javascript\">\n",
       "  var VEGA_DEBUG = (typeof VEGA_DEBUG == \"undefined\") ? {} : VEGA_DEBUG;\n",
       "  (function(spec, embedOpt){\n",
       "    let outputDiv = document.currentScript.previousElementSibling;\n",
       "    if (outputDiv.id !== \"altair-viz-db968db4e2944e01bdb8b478438d3173\") {\n",
       "      outputDiv = document.getElementById(\"altair-viz-db968db4e2944e01bdb8b478438d3173\");\n",
       "    }\n",
       "    const paths = {\n",
       "      \"vega\": \"https://cdn.jsdelivr.net/npm//vega@5?noext\",\n",
       "      \"vega-lib\": \"https://cdn.jsdelivr.net/npm//vega-lib?noext\",\n",
       "      \"vega-lite\": \"https://cdn.jsdelivr.net/npm//vega-lite@4.17.0?noext\",\n",
       "      \"vega-embed\": \"https://cdn.jsdelivr.net/npm//vega-embed@6?noext\",\n",
       "    };\n",
       "\n",
       "    function maybeLoadScript(lib, version) {\n",
       "      var key = `${lib.replace(\"-\", \"\")}_version`;\n",
       "      return (VEGA_DEBUG[key] == version) ?\n",
       "        Promise.resolve(paths[lib]) :\n",
       "        new Promise(function(resolve, reject) {\n",
       "          var s = document.createElement('script');\n",
       "          document.getElementsByTagName(\"head\")[0].appendChild(s);\n",
       "          s.async = true;\n",
       "          s.onload = () => {\n",
       "            VEGA_DEBUG[key] = version;\n",
       "            return resolve(paths[lib]);\n",
       "          };\n",
       "          s.onerror = () => reject(`Error loading script: ${paths[lib]}`);\n",
       "          s.src = paths[lib];\n",
       "        });\n",
       "    }\n",
       "\n",
       "    function showError(err) {\n",
       "      outputDiv.innerHTML = `<div class=\"error\" style=\"color:red;\">${err}</div>`;\n",
       "      throw err;\n",
       "    }\n",
       "\n",
       "    function displayChart(vegaEmbed) {\n",
       "      vegaEmbed(outputDiv, spec, embedOpt)\n",
       "        .catch(err => showError(`Javascript Error: ${err.message}<br>This usually means there's a typo in your chart specification. See the javascript console for the full traceback.`));\n",
       "    }\n",
       "\n",
       "    if(typeof define === \"function\" && define.amd) {\n",
       "      requirejs.config({paths});\n",
       "      require([\"vega-embed\"], displayChart, err => showError(`Error loading script: ${err.message}`));\n",
       "    } else {\n",
       "      maybeLoadScript(\"vega\", \"5\")\n",
       "        .then(() => maybeLoadScript(\"vega-lite\", \"4.17.0\"))\n",
       "        .then(() => maybeLoadScript(\"vega-embed\", \"6\"))\n",
       "        .catch(showError)\n",
       "        .then(() => displayChart(vegaEmbed));\n",
       "    }\n",
       "  })({\"config\": {\"view\": {\"continuousWidth\": 400, \"continuousHeight\": 300}}, \"data\": {\"name\": \"data-71995db8fe2b48e4b471cbce0c3c09d3\"}, \"mark\": {\"type\": \"line\", \"color\": \"black\", \"strokeDash\": [10, 5]}, \"encoding\": {\"x\": {\"field\": \"x\", \"type\": \"quantitative\"}, \"y\": {\"field\": \"y_true\", \"type\": \"quantitative\"}}, \"$schema\": \"https://vega.github.io/schema/vega-lite/v4.17.0.json\", \"datasets\": {\"data-71995db8fe2b48e4b471cbce0c3c09d3\": [{\"x\": -3.0, \"y_true\": 19.0, \"y\": 19.658465101871492, \"pred\": 20.046840407036083}, {\"x\": -2.9, \"y_true\": 15.647999999999996, \"y\": 19.004528282618537, \"pred\": 16.609761368238182}, {\"x\": -2.8, \"y_true\": 12.583999999999993, \"y\": 14.544002144257137, \"pred\": 13.452035700667675}, {\"x\": -2.6999999999999997, \"y_true\": 9.795999999999992, \"y\": 6.982884893264817, \"pred\": 10.562626012962866}, {\"x\": -2.5999999999999996, \"y_true\": 7.271999999999991, \"y\": 7.806070461300174, \"pred\": 7.9304949137620575}, {\"x\": -2.4999999999999996, \"y_true\": 4.999999999999989, \"y\": 8.322150273840546, \"pred\": 5.544605011703531}, {\"x\": -2.3999999999999995, \"y_true\": 2.967999999999993, \"y\": -1.2896924420726732, \"pred\": 3.3939189154255907}, {\"x\": -2.2999999999999994, \"y_true\": 1.1639999999999908, \"y\": -0.8273918144512216, \"pred\": 1.4673992335665362}, {\"x\": -2.1999999999999993, \"y_true\": -0.4240000000000137, \"y\": 6.149442465409061, \"pred\": -0.24599142523534567}, {\"x\": -2.099999999999999, \"y_true\": -1.808000000000014, \"y\": -0.1839666032241829, \"pred\": -1.757290452341758}, {\"x\": -1.9999999999999991, \"y_true\": -3.0000000000000107, \"y\": -6.093064646935422, \"pred\": -3.077535239114395}, {\"x\": -1.899999999999999, \"y_true\": -4.012000000000011, \"y\": -6.817643470650995, \"pred\": -4.217763176914971}, {\"x\": -1.799999999999999, \"y_true\": -4.856000000000009, \"y\": 2.2490716154049766, \"pred\": -5.189011657105183}, {\"x\": -1.6999999999999988, \"y_true\": -5.544000000000008, \"y\": -3.184134467800284, \"pred\": -6.002318071046741}, {\"x\": -1.5999999999999988, \"y_true\": -6.088000000000006, \"y\": -15.528922098150966, \"pred\": -6.668719810101345}, {\"x\": -1.4999999999999987, \"y_true\": -6.5000000000000036, \"y\": -3.8679852243435735, \"pred\": -7.1992542656306995}, {\"x\": -1.3999999999999986, \"y_true\": -6.792000000000003, \"y\": -11.173514248402546, \"pred\": -7.6049588289965095}, {\"x\": -1.2999999999999985, \"y_true\": -6.976000000000002, \"y\": -7.492277631790138, \"pred\": -7.896870891560479}, {\"x\": -1.1999999999999984, \"y_true\": -7.064000000000001, \"y\": -14.988038234518648, \"pred\": -8.08602784468431}, {\"x\": -1.0999999999999983, \"y_true\": -7.067999999999998, \"y\": -8.428814724570906, \"pred\": -8.18346707972971}, {\"x\": -0.9999999999999982, \"y_true\": -6.999999999999998, \"y\": -10.778717290673644, \"pred\": -8.200225988058378}, {\"x\": -0.8999999999999981, \"y_true\": -6.871999999999996, \"y\": -12.85398568413452, \"pred\": -8.147341961032023}, {\"x\": -0.799999999999998, \"y_true\": -6.695999999999996, \"y\": -2.0858623063889468, \"pred\": -8.035852390012346}, {\"x\": -0.699999999999998, \"y_true\": -6.4839999999999955, \"y\": 5.928608153155058, \"pred\": -7.876794666361052}, {\"x\": -0.5999999999999979, \"y_true\": -6.247999999999995, \"y\": -3.419772362889407, \"pred\": -7.681206181439846}, {\"x\": -0.4999999999999978, \"y_true\": -5.999999999999995, \"y\": -5.00672191742912, \"pred\": -7.46012432661043}, {\"x\": -0.3999999999999977, \"y_true\": -5.7519999999999945, \"y\": -11.88835694329487, \"pred\": -7.224586493234508}, {\"x\": -0.2999999999999976, \"y_true\": -5.515999999999995, \"y\": -6.781924771898778, \"pred\": -6.985630072673786}, {\"x\": -0.1999999999999975, \"y_true\": -5.303999999999996, \"y\": -8.647650201598005, \"pred\": -6.754292456289966}, {\"x\": -0.09999999999999742, \"y_true\": -5.127999999999997, \"y\": -14.463927863664011, \"pred\": -6.541611035444754}, {\"x\": 2.6645352591003757e-15, \"y_true\": -4.999999999999997, \"y\": -2.247368229087651, \"pred\": -6.358623201499852}, {\"x\": 0.10000000000000275, \"y_true\": -4.931999999999999, \"y\": -5.226225230895909, \"pred\": -6.216366345816965}, {\"x\": 0.20000000000000284, \"y_true\": -4.936000000000002, \"y\": -8.567177543511436, \"pred\": -6.1258778597577965}, {\"x\": 0.30000000000000293, \"y_true\": -5.024000000000004, \"y\": -12.507354574983232, \"pred\": -6.098195134684051}, {\"x\": 0.400000000000003, \"y_true\": -5.208000000000007, \"y\": -2.98561847906008, \"pred\": -6.144355561957433}, {\"x\": 0.5000000000000031, \"y_true\": -5.50000000000001, \"y\": 1.248473713097777, \"pred\": -6.275396532939645}, {\"x\": 0.6000000000000032, \"y_true\": -5.912000000000015, \"y\": -5.4364812249440515, \"pred\": -6.502355438992391}, {\"x\": 0.7000000000000033, \"y_true\": -6.456000000000021, \"y\": -9.005757557933645, \"pred\": -6.836269671477377}, {\"x\": 0.8000000000000034, \"y_true\": -7.144000000000027, \"y\": -4.079081500436287, \"pred\": -7.288176621756306}, {\"x\": 0.9000000000000035, \"y_true\": -7.988000000000032, \"y\": -12.87766973757309, \"pred\": -7.869113681190881}, {\"x\": 1.0000000000000036, \"y_true\": -9.000000000000039, \"y\": -19.902709876868947, \"pred\": -8.590118241142807}, {\"x\": 1.1000000000000032, \"y_true\": -10.192000000000041, \"y\": -1.6323568121990473, \"pred\": -9.462227692973784}, {\"x\": 1.2000000000000037, \"y_true\": -11.576000000000054, \"y\": -3.138946733006403, \"pred\": -10.496479428045527}, {\"x\": 1.3000000000000043, \"y_true\": -13.164000000000073, \"y\": -14.67429660470881, \"pred\": -11.703910837719732}, {\"x\": 1.400000000000004, \"y_true\": -14.968000000000075, \"y\": -14.626225655987446, \"pred\": -13.095559313358097}, {\"x\": 1.5000000000000036, \"y_true\": -17.000000000000078, \"y\": -8.663278321211596, \"pred\": -14.682462246322329}, {\"x\": 1.600000000000004, \"y_true\": -19.272000000000098, \"y\": -24.77847715028231, \"pred\": -16.47565702797415}, {\"x\": 1.7000000000000046, \"y_true\": -21.796000000000124, \"y\": -21.19700080694238, \"pred\": -18.486181049675253}, {\"x\": 1.8000000000000043, \"y_true\": -24.584000000000124, \"y\": -20.25323039464798, \"pred\": -20.725071702787318}, {\"x\": 1.900000000000004, \"y_true\": -27.648000000000124, \"y\": -18.957032440056313, \"pred\": -23.20336637867207}]}}, {\"mode\": \"vega-lite\"});\n",
       "</script>"
      ],
      "text/plain": [
       "alt.Chart(...)"
      ]
     },
     "execution_count": 27,
     "metadata": {},
     "output_type": "execute_result"
    }
   ],
   "source": [
    "c3 = alt.Chart(df).mark_line(color = \"black\", strokeDash = [10,5]).encode(\n",
    "    x = \"x\",\n",
    "    y = \"y_true\"\n",
    ")\n",
    "c3"
   ]
  },
  {
   "cell_type": "markdown",
   "metadata": {
    "cell_id": "5792196594a844b6ac6f4b0d13537dde",
    "deepnote_cell_type": "markdown"
   },
   "source": [
    "* Layer these plots on top of the above scatter plot `c1`.\n",
    "\n",
    "Notice how similar our two polynomial curves are.  If we had used more data points or less standard deviation for our random noise, we would expect the curves to be even closer to each other."
   ]
  },
  {
   "cell_type": "code",
   "execution_count": null,
   "metadata": {
    "cell_id": "8acdede2cbed44cf98a3676d9c2dd1b6",
    "deepnote_cell_type": "code",
    "deepnote_to_be_reexecuted": false,
    "execution_millis": 15,
    "execution_start": 1699479987695,
    "source_hash": null
   },
   "outputs": [
    {
     "data": {
      "text/html": [
       "\n",
       "<div id=\"altair-viz-c6f4e429c8f2415ea4048272ff273af7\"></div>\n",
       "<script type=\"text/javascript\">\n",
       "  var VEGA_DEBUG = (typeof VEGA_DEBUG == \"undefined\") ? {} : VEGA_DEBUG;\n",
       "  (function(spec, embedOpt){\n",
       "    let outputDiv = document.currentScript.previousElementSibling;\n",
       "    if (outputDiv.id !== \"altair-viz-c6f4e429c8f2415ea4048272ff273af7\") {\n",
       "      outputDiv = document.getElementById(\"altair-viz-c6f4e429c8f2415ea4048272ff273af7\");\n",
       "    }\n",
       "    const paths = {\n",
       "      \"vega\": \"https://cdn.jsdelivr.net/npm//vega@5?noext\",\n",
       "      \"vega-lib\": \"https://cdn.jsdelivr.net/npm//vega-lib?noext\",\n",
       "      \"vega-lite\": \"https://cdn.jsdelivr.net/npm//vega-lite@4.17.0?noext\",\n",
       "      \"vega-embed\": \"https://cdn.jsdelivr.net/npm//vega-embed@6?noext\",\n",
       "    };\n",
       "\n",
       "    function maybeLoadScript(lib, version) {\n",
       "      var key = `${lib.replace(\"-\", \"\")}_version`;\n",
       "      return (VEGA_DEBUG[key] == version) ?\n",
       "        Promise.resolve(paths[lib]) :\n",
       "        new Promise(function(resolve, reject) {\n",
       "          var s = document.createElement('script');\n",
       "          document.getElementsByTagName(\"head\")[0].appendChild(s);\n",
       "          s.async = true;\n",
       "          s.onload = () => {\n",
       "            VEGA_DEBUG[key] = version;\n",
       "            return resolve(paths[lib]);\n",
       "          };\n",
       "          s.onerror = () => reject(`Error loading script: ${paths[lib]}`);\n",
       "          s.src = paths[lib];\n",
       "        });\n",
       "    }\n",
       "\n",
       "    function showError(err) {\n",
       "      outputDiv.innerHTML = `<div class=\"error\" style=\"color:red;\">${err}</div>`;\n",
       "      throw err;\n",
       "    }\n",
       "\n",
       "    function displayChart(vegaEmbed) {\n",
       "      vegaEmbed(outputDiv, spec, embedOpt)\n",
       "        .catch(err => showError(`Javascript Error: ${err.message}<br>This usually means there's a typo in your chart specification. See the javascript console for the full traceback.`));\n",
       "    }\n",
       "\n",
       "    if(typeof define === \"function\" && define.amd) {\n",
       "      requirejs.config({paths});\n",
       "      require([\"vega-embed\"], displayChart, err => showError(`Error loading script: ${err.message}`));\n",
       "    } else {\n",
       "      maybeLoadScript(\"vega\", \"5\")\n",
       "        .then(() => maybeLoadScript(\"vega-lite\", \"4.17.0\"))\n",
       "        .then(() => maybeLoadScript(\"vega-embed\", \"6\"))\n",
       "        .catch(showError)\n",
       "        .then(() => displayChart(vegaEmbed));\n",
       "    }\n",
       "  })({\"config\": {\"view\": {\"continuousWidth\": 400, \"continuousHeight\": 300}}, \"layer\": [{\"mark\": \"circle\", \"encoding\": {\"x\": {\"field\": \"x\", \"type\": \"quantitative\"}, \"y\": {\"field\": \"y\", \"type\": \"quantitative\"}}}, {\"mark\": {\"type\": \"line\", \"color\": \"red\"}, \"encoding\": {\"x\": {\"field\": \"x\", \"type\": \"quantitative\"}, \"y\": {\"field\": \"pred\", \"type\": \"quantitative\"}}}, {\"mark\": {\"type\": \"line\", \"color\": \"black\", \"strokeDash\": [10, 5]}, \"encoding\": {\"x\": {\"field\": \"x\", \"type\": \"quantitative\"}, \"y\": {\"field\": \"y_true\", \"type\": \"quantitative\"}}}], \"data\": {\"name\": \"data-71995db8fe2b48e4b471cbce0c3c09d3\"}, \"$schema\": \"https://vega.github.io/schema/vega-lite/v4.17.0.json\", \"datasets\": {\"data-71995db8fe2b48e4b471cbce0c3c09d3\": [{\"x\": -3.0, \"y_true\": 19.0, \"y\": 19.658465101871492, \"pred\": 20.046840407036083}, {\"x\": -2.9, \"y_true\": 15.647999999999996, \"y\": 19.004528282618537, \"pred\": 16.609761368238182}, {\"x\": -2.8, \"y_true\": 12.583999999999993, \"y\": 14.544002144257137, \"pred\": 13.452035700667675}, {\"x\": -2.6999999999999997, \"y_true\": 9.795999999999992, \"y\": 6.982884893264817, \"pred\": 10.562626012962866}, {\"x\": -2.5999999999999996, \"y_true\": 7.271999999999991, \"y\": 7.806070461300174, \"pred\": 7.9304949137620575}, {\"x\": -2.4999999999999996, \"y_true\": 4.999999999999989, \"y\": 8.322150273840546, \"pred\": 5.544605011703531}, {\"x\": -2.3999999999999995, \"y_true\": 2.967999999999993, \"y\": -1.2896924420726732, \"pred\": 3.3939189154255907}, {\"x\": -2.2999999999999994, \"y_true\": 1.1639999999999908, \"y\": -0.8273918144512216, \"pred\": 1.4673992335665362}, {\"x\": -2.1999999999999993, \"y_true\": -0.4240000000000137, \"y\": 6.149442465409061, \"pred\": -0.24599142523534567}, {\"x\": -2.099999999999999, \"y_true\": -1.808000000000014, \"y\": -0.1839666032241829, \"pred\": -1.757290452341758}, {\"x\": -1.9999999999999991, \"y_true\": -3.0000000000000107, \"y\": -6.093064646935422, \"pred\": -3.077535239114395}, {\"x\": -1.899999999999999, \"y_true\": -4.012000000000011, \"y\": -6.817643470650995, \"pred\": -4.217763176914971}, {\"x\": -1.799999999999999, \"y_true\": -4.856000000000009, \"y\": 2.2490716154049766, \"pred\": -5.189011657105183}, {\"x\": -1.6999999999999988, \"y_true\": -5.544000000000008, \"y\": -3.184134467800284, \"pred\": -6.002318071046741}, {\"x\": -1.5999999999999988, \"y_true\": -6.088000000000006, \"y\": -15.528922098150966, \"pred\": -6.668719810101345}, {\"x\": -1.4999999999999987, \"y_true\": -6.5000000000000036, \"y\": -3.8679852243435735, \"pred\": -7.1992542656306995}, {\"x\": -1.3999999999999986, \"y_true\": -6.792000000000003, \"y\": -11.173514248402546, \"pred\": -7.6049588289965095}, {\"x\": -1.2999999999999985, \"y_true\": -6.976000000000002, \"y\": -7.492277631790138, \"pred\": -7.896870891560479}, {\"x\": -1.1999999999999984, \"y_true\": -7.064000000000001, \"y\": -14.988038234518648, \"pred\": -8.08602784468431}, {\"x\": -1.0999999999999983, \"y_true\": -7.067999999999998, \"y\": -8.428814724570906, \"pred\": -8.18346707972971}, {\"x\": -0.9999999999999982, \"y_true\": -6.999999999999998, \"y\": -10.778717290673644, \"pred\": -8.200225988058378}, {\"x\": -0.8999999999999981, \"y_true\": -6.871999999999996, \"y\": -12.85398568413452, \"pred\": -8.147341961032023}, {\"x\": -0.799999999999998, \"y_true\": -6.695999999999996, \"y\": -2.0858623063889468, \"pred\": -8.035852390012346}, {\"x\": -0.699999999999998, \"y_true\": -6.4839999999999955, \"y\": 5.928608153155058, \"pred\": -7.876794666361052}, {\"x\": -0.5999999999999979, \"y_true\": -6.247999999999995, \"y\": -3.419772362889407, \"pred\": -7.681206181439846}, {\"x\": -0.4999999999999978, \"y_true\": -5.999999999999995, \"y\": -5.00672191742912, \"pred\": -7.46012432661043}, {\"x\": -0.3999999999999977, \"y_true\": -5.7519999999999945, \"y\": -11.88835694329487, \"pred\": -7.224586493234508}, {\"x\": -0.2999999999999976, \"y_true\": -5.515999999999995, \"y\": -6.781924771898778, \"pred\": -6.985630072673786}, {\"x\": -0.1999999999999975, \"y_true\": -5.303999999999996, \"y\": -8.647650201598005, \"pred\": -6.754292456289966}, {\"x\": -0.09999999999999742, \"y_true\": -5.127999999999997, \"y\": -14.463927863664011, \"pred\": -6.541611035444754}, {\"x\": 2.6645352591003757e-15, \"y_true\": -4.999999999999997, \"y\": -2.247368229087651, \"pred\": -6.358623201499852}, {\"x\": 0.10000000000000275, \"y_true\": -4.931999999999999, \"y\": -5.226225230895909, \"pred\": -6.216366345816965}, {\"x\": 0.20000000000000284, \"y_true\": -4.936000000000002, \"y\": -8.567177543511436, \"pred\": -6.1258778597577965}, {\"x\": 0.30000000000000293, \"y_true\": -5.024000000000004, \"y\": -12.507354574983232, \"pred\": -6.098195134684051}, {\"x\": 0.400000000000003, \"y_true\": -5.208000000000007, \"y\": -2.98561847906008, \"pred\": -6.144355561957433}, {\"x\": 0.5000000000000031, \"y_true\": -5.50000000000001, \"y\": 1.248473713097777, \"pred\": -6.275396532939645}, {\"x\": 0.6000000000000032, \"y_true\": -5.912000000000015, \"y\": -5.4364812249440515, \"pred\": -6.502355438992391}, {\"x\": 0.7000000000000033, \"y_true\": -6.456000000000021, \"y\": -9.005757557933645, \"pred\": -6.836269671477377}, {\"x\": 0.8000000000000034, \"y_true\": -7.144000000000027, \"y\": -4.079081500436287, \"pred\": -7.288176621756306}, {\"x\": 0.9000000000000035, \"y_true\": -7.988000000000032, \"y\": -12.87766973757309, \"pred\": -7.869113681190881}, {\"x\": 1.0000000000000036, \"y_true\": -9.000000000000039, \"y\": -19.902709876868947, \"pred\": -8.590118241142807}, {\"x\": 1.1000000000000032, \"y_true\": -10.192000000000041, \"y\": -1.6323568121990473, \"pred\": -9.462227692973784}, {\"x\": 1.2000000000000037, \"y_true\": -11.576000000000054, \"y\": -3.138946733006403, \"pred\": -10.496479428045527}, {\"x\": 1.3000000000000043, \"y_true\": -13.164000000000073, \"y\": -14.67429660470881, \"pred\": -11.703910837719732}, {\"x\": 1.400000000000004, \"y_true\": -14.968000000000075, \"y\": -14.626225655987446, \"pred\": -13.095559313358097}, {\"x\": 1.5000000000000036, \"y_true\": -17.000000000000078, \"y\": -8.663278321211596, \"pred\": -14.682462246322329}, {\"x\": 1.600000000000004, \"y_true\": -19.272000000000098, \"y\": -24.77847715028231, \"pred\": -16.47565702797415}, {\"x\": 1.7000000000000046, \"y_true\": -21.796000000000124, \"y\": -21.19700080694238, \"pred\": -18.486181049675253}, {\"x\": 1.8000000000000043, \"y_true\": -24.584000000000124, \"y\": -20.25323039464798, \"pred\": -20.725071702787318}, {\"x\": 1.900000000000004, \"y_true\": -27.648000000000124, \"y\": -18.957032440056313, \"pred\": -23.20336637867207}]}}, {\"mode\": \"vega-lite\"});\n",
       "</script>"
      ],
      "text/plain": [
       "alt.LayerChart(...)"
      ]
     },
     "execution_count": 28,
     "metadata": {},
     "output_type": "execute_result"
    }
   ],
   "source": [
    "c1 + c2 + c3"
   ]
  },
  {
   "cell_type": "markdown",
   "metadata": {
    "created_in_deepnote_cell": true,
    "deepnote_cell_type": "markdown"
   },
   "source": [
    "<a style='text-decoration:none;line-height:16px;display:flex;color:#5B5B62;padding:10px;justify-content:end;' href='https://deepnote.com?utm_source=created-in-deepnote-cell&projectId=03591586-6943-4af5-9d03-4870fcf0ad7c' target=\"_blank\">\n",
    "<img alt='Created in deepnote.com' style='display:inline;max-height:16px;margin:0px;margin-right:7.5px;' src='data:image/svg+xml;base64,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' > </img>\n",
    "Created in <span style='font-weight:600;margin-left:4px;'>Deepnote</span></a>"
   ]
  }
 ],
 "metadata": {
  "deepnote": {},
  "deepnote_execution_queue": [],
  "deepnote_notebook_id": "2cee767a0ba04a6594a09767234ef8ce",
  "kernelspec": {
   "display_name": "Python 3 (ipykernel)",
   "language": "python",
   "name": "python3"
  },
  "language_info": {
   "codemirror_mode": {
    "name": "ipython",
    "version": 3
   },
   "file_extension": ".py",
   "mimetype": "text/x-python",
   "name": "python",
   "nbconvert_exporter": "python",
   "pygments_lexer": "ipython3",
   "version": "3.9.18"
  }
 },
 "nbformat": 4,
 "nbformat_minor": 4
}
