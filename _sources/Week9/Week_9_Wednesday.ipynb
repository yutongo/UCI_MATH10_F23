{
 "cells": [
  {
   "cell_type": "markdown",
   "metadata": {
    "cell_id": "c9b2ad7553d54d5fb91fb1b1bb11bd82",
    "deepnote_cell_type": "markdown"
   },
   "source": [
    "# Week 9 Wednesday"
   ]
  },
  {
   "cell_type": "markdown",
   "metadata": {
    "cell_id": "527855c4a881437c84f9165b31f0d7cb",
    "deepnote_cell_type": "markdown"
   },
   "source": []
  },
  {
   "cell_type": "markdown",
   "metadata": {
    "cell_id": "27679eb4e00a4fb4bf677bdbdb66bee6",
    "deepnote_cell_type": "markdown"
   },
   "source": [
    "## Unsupervised Learning: Clustering\n",
    "\n",
    "In addition to **dimension reduction**, another typical task of unsupervised machine learning is **clustering**: assigning the data samples into several groups (called clusters) based on their similarity -- similar samples should be in the same cluster, and dissimilar samples should be in different clusters.\n",
    "\n",
    "**Caution**: Don't confuse clustering (unsupervised) with classification (supervised)!"
   ]
  },
  {
   "cell_type": "markdown",
   "metadata": {
    "cell_id": "a2d94ef30b38449eb020d733cd2a5699",
    "deepnote_cell_type": "markdown"
   },
   "source": [
    "## [K-Means Clustering](https://en.wikipedia.org/wiki/K-means_clustering)"
   ]
  },
  {
   "cell_type": "markdown",
   "metadata": {
    "cell_id": "1f43f7d30ff14b5db8e0e539f9dcd691",
    "deepnote_cell_type": "markdown"
   },
   "source": [
    "**Mathematical Description:** Given a set of observations $(x^{(1)}, x^{(2)}, ..., x^{(n)})$, where each observation is a p-dimensional real vector, k-means clustering aims to partition the $n$ samples into $K (\\leq n)$ sets $S = {S_1, S_2, ..., S_K}$ so as to minimize the within-cluster sum of squares (i.e. variance). Formally, the objective is to find the best parition of groups such that minimize the \"loss function\" of $S$\n",
    "\n",
    "$$\\min_{S}\\sum_{i=1}^{K}\\sum_{x\\in S_{i}}\\|x-\\mu_{i}\\|^{2}$$\n",
    "\n",
    "where $\\mu_{i}$ is the mean of points in $S_i$.\n",
    "\n",
    "\n",
    "**How to solve it:** The exact solution to the K-means problem is [NP hard](https://en.wikipedia.org/wiki/P_versus_NP_problem). In practical, the common approach is to apply [Lloyd's algorithm](https://en.wikipedia.org/wiki/Lloyd%27s_algorithm) to find the heuristic solutions (local minimum).\n",
    "\n",
    "In the iterative algorithm, each iteration contains two steps:\n",
    "- (**assignment step**) Given the cluster center, update the cluster of data according to its nearest cluster center.\n",
    "- (**update step**) Given the cluster assignment, update the cluster centers by calculating the means within each cluster.\n",
    "\n",
    "The algorithm may converge if no further adjustments can be made.\n",
    "\n",
    "Because the algorithm may stuck in local minimums, the practical strategy is to randomly initialize the algorithm, and run multiple parallel programs to find the best partition with smallest \"loss function \".\n"
   ]
  },
  {
   "cell_type": "markdown",
   "metadata": {
    "cell_id": "633663eb66a14030b9fb935561eeb95c",
    "deepnote_cell_type": "markdown"
   },
   "source": [
    "Below we will apply the functions in [scikit-learn](https://scikit-learn.org/stable/modules/generated/sklearn.cluster.KMeans.html). Note that to visualize the results of k-means on high-dimensional data, it is often combined with dimension reductions. Another pratical strategy is to use dimension reduction to pre-process the data, and apply clustering on the reduced datasets.\n",
    "\n",
    "It is also worth noting that in practice, [determining true number of clusters ($K$) is a very hard problem](https://en.wikipedia.org/wiki/Determining_the_number_of_clusters_in_a_data_set)."
   ]
  },
  {
   "cell_type": "markdown",
   "metadata": {
    "cell_id": "9944c6ffe2ed460bb8553779ddd5fa6c",
    "deepnote_cell_type": "markdown"
   },
   "source": [
    "## K-means clustering using scikit-learn\n",
    "Using `KMeans` from scikit-learn, cluster the iris data using the columns 'sepal_length', 'sepal_width', 'petal_length', 'petal_width'."
   ]
  },
  {
   "cell_type": "code",
   "execution_count": null,
   "metadata": {
    "cell_id": "11956fc22c1542a9bbba4adbe40c3317",
    "deepnote_cell_type": "code",
    "deepnote_to_be_reexecuted": false,
    "execution_millis": 11,
    "execution_start": 1701293074491,
    "source_hash": null
   },
   "outputs": [],
   "source": [
    "import seaborn as sns\n",
    "import pandas as pd\n",
    "import altair as alt\n",
    "# Load the Iris dataset using Seaborn\n",
    "df = sns.load_dataset(\"iris\")"
   ]
  },
  {
   "cell_type": "code",
   "execution_count": null,
   "metadata": {
    "cell_id": "1ae76b67eed04849bd6f366d2be9b711",
    "deepnote_cell_type": "code",
    "deepnote_to_be_reexecuted": false,
    "execution_millis": 20,
    "execution_start": 1701293075639,
    "source_hash": null
   },
   "outputs": [
    {
     "data": {
      "application/vnd.deepnote.dataframe.v3+json": {
       "column_count": 5,
       "columns": [
        {
         "dtype": "float64",
         "name": "sepal_length",
         "stats": {
          "histogram": [
           {
            "bin_end": 4.6499999999999995,
            "bin_start": 4.6,
            "count": 1
           },
           {
            "bin_end": 4.699999999999999,
            "bin_start": 4.6499999999999995,
            "count": 0
           },
           {
            "bin_end": 4.75,
            "bin_start": 4.699999999999999,
            "count": 1
           },
           {
            "bin_end": 4.8,
            "bin_start": 4.75,
            "count": 0
           },
           {
            "bin_end": 4.85,
            "bin_start": 4.8,
            "count": 0
           },
           {
            "bin_end": 4.8999999999999995,
            "bin_start": 4.85,
            "count": 0
           },
           {
            "bin_end": 4.949999999999999,
            "bin_start": 4.8999999999999995,
            "count": 1
           },
           {
            "bin_end": 5,
            "bin_start": 4.949999999999999,
            "count": 0
           },
           {
            "bin_end": 5.05,
            "bin_start": 5,
            "count": 1
           },
           {
            "bin_end": 5.1,
            "bin_start": 5.05,
            "count": 1
           }
          ],
          "max": "5.1",
          "min": "4.6",
          "nan_count": 0,
          "unique_count": 5
         }
        },
        {
         "dtype": "float64",
         "name": "sepal_width",
         "stats": {
          "histogram": [
           {
            "bin_end": 3.06,
            "bin_start": 3,
            "count": 1
           },
           {
            "bin_end": 3.12,
            "bin_start": 3.06,
            "count": 1
           },
           {
            "bin_end": 3.18,
            "bin_start": 3.12,
            "count": 0
           },
           {
            "bin_end": 3.24,
            "bin_start": 3.18,
            "count": 1
           },
           {
            "bin_end": 3.3,
            "bin_start": 3.24,
            "count": 0
           },
           {
            "bin_end": 3.3600000000000003,
            "bin_start": 3.3,
            "count": 0
           },
           {
            "bin_end": 3.42,
            "bin_start": 3.3600000000000003,
            "count": 0
           },
           {
            "bin_end": 3.48,
            "bin_start": 3.42,
            "count": 0
           },
           {
            "bin_end": 3.54,
            "bin_start": 3.48,
            "count": 1
           },
           {
            "bin_end": 3.6,
            "bin_start": 3.54,
            "count": 1
           }
          ],
          "max": "3.6",
          "min": "3.0",
          "nan_count": 0,
          "unique_count": 5
         }
        },
        {
         "dtype": "float64",
         "name": "petal_length",
         "stats": {
          "histogram": [
           {
            "bin_end": 1.32,
            "bin_start": 1.3,
            "count": 1
           },
           {
            "bin_end": 1.34,
            "bin_start": 1.32,
            "count": 0
           },
           {
            "bin_end": 1.36,
            "bin_start": 1.34,
            "count": 0
           },
           {
            "bin_end": 1.3800000000000001,
            "bin_start": 1.36,
            "count": 0
           },
           {
            "bin_end": 1.4,
            "bin_start": 1.3800000000000001,
            "count": 0
           },
           {
            "bin_end": 1.42,
            "bin_start": 1.4,
            "count": 3
           },
           {
            "bin_end": 1.44,
            "bin_start": 1.42,
            "count": 0
           },
           {
            "bin_end": 1.46,
            "bin_start": 1.44,
            "count": 0
           },
           {
            "bin_end": 1.48,
            "bin_start": 1.46,
            "count": 0
           },
           {
            "bin_end": 1.5,
            "bin_start": 1.48,
            "count": 1
           }
          ],
          "max": "1.5",
          "min": "1.3",
          "nan_count": 0,
          "unique_count": 3
         }
        },
        {
         "dtype": "float64",
         "name": "petal_width",
         "stats": {
          "histogram": [
           {
            "bin_end": -0.19999999999999998,
            "bin_start": -0.3,
            "count": 0
           },
           {
            "bin_end": -0.09999999999999998,
            "bin_start": -0.19999999999999998,
            "count": 0
           },
           {
            "bin_end": 5.551115123125783e-17,
            "bin_start": -0.09999999999999998,
            "count": 0
           },
           {
            "bin_end": 0.10000000000000003,
            "bin_start": 5.551115123125783e-17,
            "count": 0
           },
           {
            "bin_end": 0.2,
            "bin_start": 0.10000000000000003,
            "count": 0
           },
           {
            "bin_end": 0.3000000000000001,
            "bin_start": 0.2,
            "count": 5
           },
           {
            "bin_end": 0.4000000000000001,
            "bin_start": 0.3000000000000001,
            "count": 0
           },
           {
            "bin_end": 0.5,
            "bin_start": 0.4000000000000001,
            "count": 0
           },
           {
            "bin_end": 0.6000000000000001,
            "bin_start": 0.5,
            "count": 0
           },
           {
            "bin_end": 0.7,
            "bin_start": 0.6000000000000001,
            "count": 0
           }
          ],
          "max": "0.2",
          "min": "0.2",
          "nan_count": 0,
          "unique_count": 1
         }
        },
        {
         "dtype": "object",
         "name": "species",
         "stats": {
          "categories": [
           {
            "count": 5,
            "name": "setosa"
           }
          ],
          "nan_count": 0,
          "unique_count": 1
         }
        },
        {
         "dtype": "int64",
         "name": "_deepnote_index_column"
        }
       ],
       "row_count": 5,
       "rows": [
        {
         "_deepnote_index_column": 0,
         "petal_length": 1.4,
         "petal_width": 0.2,
         "sepal_length": 5.1,
         "sepal_width": 3.5,
         "species": "setosa"
        },
        {
         "_deepnote_index_column": 1,
         "petal_length": 1.4,
         "petal_width": 0.2,
         "sepal_length": 4.9,
         "sepal_width": 3,
         "species": "setosa"
        },
        {
         "_deepnote_index_column": 2,
         "petal_length": 1.3,
         "petal_width": 0.2,
         "sepal_length": 4.7,
         "sepal_width": 3.2,
         "species": "setosa"
        },
        {
         "_deepnote_index_column": 3,
         "petal_length": 1.5,
         "petal_width": 0.2,
         "sepal_length": 4.6,
         "sepal_width": 3.1,
         "species": "setosa"
        },
        {
         "_deepnote_index_column": 4,
         "petal_length": 1.4,
         "petal_width": 0.2,
         "sepal_length": 5,
         "sepal_width": 3.6,
         "species": "setosa"
        }
       ]
      },
      "text/html": [
       "<div>\n",
       "<style scoped>\n",
       "    .dataframe tbody tr th:only-of-type {\n",
       "        vertical-align: middle;\n",
       "    }\n",
       "\n",
       "    .dataframe tbody tr th {\n",
       "        vertical-align: top;\n",
       "    }\n",
       "\n",
       "    .dataframe thead th {\n",
       "        text-align: right;\n",
       "    }\n",
       "</style>\n",
       "<table border=\"1\" class=\"dataframe\">\n",
       "  <thead>\n",
       "    <tr style=\"text-align: right;\">\n",
       "      <th></th>\n",
       "      <th>sepal_length</th>\n",
       "      <th>sepal_width</th>\n",
       "      <th>petal_length</th>\n",
       "      <th>petal_width</th>\n",
       "      <th>species</th>\n",
       "    </tr>\n",
       "  </thead>\n",
       "  <tbody>\n",
       "    <tr>\n",
       "      <th>0</th>\n",
       "      <td>5.1</td>\n",
       "      <td>3.5</td>\n",
       "      <td>1.4</td>\n",
       "      <td>0.2</td>\n",
       "      <td>setosa</td>\n",
       "    </tr>\n",
       "    <tr>\n",
       "      <th>1</th>\n",
       "      <td>4.9</td>\n",
       "      <td>3.0</td>\n",
       "      <td>1.4</td>\n",
       "      <td>0.2</td>\n",
       "      <td>setosa</td>\n",
       "    </tr>\n",
       "    <tr>\n",
       "      <th>2</th>\n",
       "      <td>4.7</td>\n",
       "      <td>3.2</td>\n",
       "      <td>1.3</td>\n",
       "      <td>0.2</td>\n",
       "      <td>setosa</td>\n",
       "    </tr>\n",
       "    <tr>\n",
       "      <th>3</th>\n",
       "      <td>4.6</td>\n",
       "      <td>3.1</td>\n",
       "      <td>1.5</td>\n",
       "      <td>0.2</td>\n",
       "      <td>setosa</td>\n",
       "    </tr>\n",
       "    <tr>\n",
       "      <th>4</th>\n",
       "      <td>5.0</td>\n",
       "      <td>3.6</td>\n",
       "      <td>1.4</td>\n",
       "      <td>0.2</td>\n",
       "      <td>setosa</td>\n",
       "    </tr>\n",
       "  </tbody>\n",
       "</table>\n",
       "</div>"
      ],
      "text/plain": [
       "   sepal_length  sepal_width  petal_length  petal_width species\n",
       "0           5.1          3.5           1.4          0.2  setosa\n",
       "1           4.9          3.0           1.4          0.2  setosa\n",
       "2           4.7          3.2           1.3          0.2  setosa\n",
       "3           4.6          3.1           1.5          0.2  setosa\n",
       "4           5.0          3.6           1.4          0.2  setosa"
      ]
     },
     "execution_count": 16,
     "metadata": {},
     "output_type": "execute_result"
    }
   ],
   "source": [
    "df.head(5)"
   ]
  },
  {
   "cell_type": "code",
   "execution_count": null,
   "metadata": {
    "cell_id": "0f0308dd7bab4065a21186103843357b",
    "deepnote_cell_type": "code",
    "deepnote_to_be_reexecuted": false,
    "execution_millis": 10,
    "execution_start": 1701293077643,
    "source_hash": null
   },
   "outputs": [
    {
     "data": {
      "text/plain": [
       "Index(['sepal_length', 'sepal_width', 'petal_length', 'petal_width'], dtype='object')"
      ]
     },
     "execution_count": 17,
     "metadata": {},
     "output_type": "execute_result"
    }
   ],
   "source": [
    "df.columns[0:4]"
   ]
  },
  {
   "cell_type": "code",
   "execution_count": null,
   "metadata": {
    "cell_id": "de784e59c43a4a73ba9bb7cc24b6bd14",
    "deepnote_cell_type": "code",
    "deepnote_to_be_reexecuted": false,
    "execution_millis": 14,
    "execution_start": 1701293078655,
    "source_hash": null
   },
   "outputs": [
    {
     "data": {
      "text/plain": [
       "['sepal_length', 'sepal_width', 'petal_length', 'petal_width']"
      ]
     },
     "execution_count": 18,
     "metadata": {},
     "output_type": "execute_result"
    }
   ],
   "source": [
    "cols = list(df.columns[0:4])\n",
    "cols"
   ]
  },
  {
   "cell_type": "markdown",
   "metadata": {
    "cell_id": "ec0a92f7deca402cb65e87aca271f3ba",
    "deepnote_cell_type": "markdown"
   },
   "source": [
    "* Divide that data into three clusters. "
   ]
  },
  {
   "cell_type": "code",
   "execution_count": null,
   "metadata": {
    "cell_id": "e585c348bf6f40438e8078cab5804f01",
    "deepnote_cell_type": "code",
    "deepnote_to_be_reexecuted": false,
    "execution_millis": 110,
    "execution_start": 1701293080924,
    "source_hash": null
   },
   "outputs": [],
   "source": [
    "from sklearn.cluster import KMeans\n",
    "kmeans = KMeans(n_clusters=3, random_state=0)\n",
    "y_km = kmeans.fit_predict(df[cols])"
   ]
  },
  {
   "cell_type": "code",
   "execution_count": null,
   "metadata": {
    "cell_id": "20cc3da204f844e29754931ce587023b",
    "deepnote_cell_type": "code",
    "deepnote_to_be_reexecuted": false,
    "execution_millis": 15,
    "execution_start": 1701293081692,
    "source_hash": null
   },
   "outputs": [
    {
     "data": {
      "text/plain": [
       "array([1, 1, 1, 1, 1, 1, 1, 1, 1, 1, 1, 1, 1, 1, 1, 1, 1, 1, 1, 1, 1, 1,\n",
       "       1, 1, 1, 1, 1, 1, 1, 1, 1, 1, 1, 1, 1, 1, 1, 1, 1, 1, 1, 1, 1, 1,\n",
       "       1, 1, 1, 1, 1, 1, 0, 0, 2, 0, 0, 0, 0, 0, 0, 0, 0, 0, 0, 0, 0, 0,\n",
       "       0, 0, 0, 0, 0, 0, 0, 0, 0, 0, 0, 2, 0, 0, 0, 0, 0, 0, 0, 0, 0, 0,\n",
       "       0, 0, 0, 0, 0, 0, 0, 0, 0, 0, 0, 0, 2, 0, 2, 2, 2, 2, 0, 2, 2, 2,\n",
       "       2, 2, 2, 0, 0, 2, 2, 2, 2, 0, 2, 0, 2, 0, 2, 2, 0, 0, 2, 2, 2, 2,\n",
       "       2, 0, 2, 2, 2, 2, 0, 2, 2, 2, 0, 2, 2, 2, 0, 2, 2, 0], dtype=int32)"
      ]
     },
     "execution_count": 20,
     "metadata": {},
     "output_type": "execute_result"
    }
   ],
   "source": [
    "y_km"
   ]
  },
  {
   "cell_type": "code",
   "execution_count": null,
   "metadata": {
    "cell_id": "f5fe30aa4b44452ebb0b303c4e11d6ba",
    "deepnote_cell_type": "code",
    "deepnote_to_be_reexecuted": false,
    "execution_millis": 32,
    "execution_start": 1701293083331,
    "source_hash": null
   },
   "outputs": [
    {
     "data": {
      "application/vnd.deepnote.dataframe.v3+json": {
       "column_count": 6,
       "columns": [
        {
         "dtype": "float64",
         "name": "sepal_length",
         "stats": {
          "histogram": [
           {
            "bin_end": 4.6499999999999995,
            "bin_start": 4.6,
            "count": 1
           },
           {
            "bin_end": 4.699999999999999,
            "bin_start": 4.6499999999999995,
            "count": 0
           },
           {
            "bin_end": 4.75,
            "bin_start": 4.699999999999999,
            "count": 1
           },
           {
            "bin_end": 4.8,
            "bin_start": 4.75,
            "count": 0
           },
           {
            "bin_end": 4.85,
            "bin_start": 4.8,
            "count": 0
           },
           {
            "bin_end": 4.8999999999999995,
            "bin_start": 4.85,
            "count": 0
           },
           {
            "bin_end": 4.949999999999999,
            "bin_start": 4.8999999999999995,
            "count": 1
           },
           {
            "bin_end": 5,
            "bin_start": 4.949999999999999,
            "count": 0
           },
           {
            "bin_end": 5.05,
            "bin_start": 5,
            "count": 1
           },
           {
            "bin_end": 5.1,
            "bin_start": 5.05,
            "count": 1
           }
          ],
          "max": "5.1",
          "min": "4.6",
          "nan_count": 0,
          "unique_count": 5
         }
        },
        {
         "dtype": "float64",
         "name": "sepal_width",
         "stats": {
          "histogram": [
           {
            "bin_end": 3.06,
            "bin_start": 3,
            "count": 1
           },
           {
            "bin_end": 3.12,
            "bin_start": 3.06,
            "count": 1
           },
           {
            "bin_end": 3.18,
            "bin_start": 3.12,
            "count": 0
           },
           {
            "bin_end": 3.24,
            "bin_start": 3.18,
            "count": 1
           },
           {
            "bin_end": 3.3,
            "bin_start": 3.24,
            "count": 0
           },
           {
            "bin_end": 3.3600000000000003,
            "bin_start": 3.3,
            "count": 0
           },
           {
            "bin_end": 3.42,
            "bin_start": 3.3600000000000003,
            "count": 0
           },
           {
            "bin_end": 3.48,
            "bin_start": 3.42,
            "count": 0
           },
           {
            "bin_end": 3.54,
            "bin_start": 3.48,
            "count": 1
           },
           {
            "bin_end": 3.6,
            "bin_start": 3.54,
            "count": 1
           }
          ],
          "max": "3.6",
          "min": "3.0",
          "nan_count": 0,
          "unique_count": 5
         }
        },
        {
         "dtype": "float64",
         "name": "petal_length",
         "stats": {
          "histogram": [
           {
            "bin_end": 1.32,
            "bin_start": 1.3,
            "count": 1
           },
           {
            "bin_end": 1.34,
            "bin_start": 1.32,
            "count": 0
           },
           {
            "bin_end": 1.36,
            "bin_start": 1.34,
            "count": 0
           },
           {
            "bin_end": 1.3800000000000001,
            "bin_start": 1.36,
            "count": 0
           },
           {
            "bin_end": 1.4,
            "bin_start": 1.3800000000000001,
            "count": 0
           },
           {
            "bin_end": 1.42,
            "bin_start": 1.4,
            "count": 3
           },
           {
            "bin_end": 1.44,
            "bin_start": 1.42,
            "count": 0
           },
           {
            "bin_end": 1.46,
            "bin_start": 1.44,
            "count": 0
           },
           {
            "bin_end": 1.48,
            "bin_start": 1.46,
            "count": 0
           },
           {
            "bin_end": 1.5,
            "bin_start": 1.48,
            "count": 1
           }
          ],
          "max": "1.5",
          "min": "1.3",
          "nan_count": 0,
          "unique_count": 3
         }
        },
        {
         "dtype": "float64",
         "name": "petal_width",
         "stats": {
          "histogram": [
           {
            "bin_end": -0.19999999999999998,
            "bin_start": -0.3,
            "count": 0
           },
           {
            "bin_end": -0.09999999999999998,
            "bin_start": -0.19999999999999998,
            "count": 0
           },
           {
            "bin_end": 5.551115123125783e-17,
            "bin_start": -0.09999999999999998,
            "count": 0
           },
           {
            "bin_end": 0.10000000000000003,
            "bin_start": 5.551115123125783e-17,
            "count": 0
           },
           {
            "bin_end": 0.2,
            "bin_start": 0.10000000000000003,
            "count": 0
           },
           {
            "bin_end": 0.3000000000000001,
            "bin_start": 0.2,
            "count": 5
           },
           {
            "bin_end": 0.4000000000000001,
            "bin_start": 0.3000000000000001,
            "count": 0
           },
           {
            "bin_end": 0.5,
            "bin_start": 0.4000000000000001,
            "count": 0
           },
           {
            "bin_end": 0.6000000000000001,
            "bin_start": 0.5,
            "count": 0
           },
           {
            "bin_end": 0.7,
            "bin_start": 0.6000000000000001,
            "count": 0
           }
          ],
          "max": "0.2",
          "min": "0.2",
          "nan_count": 0,
          "unique_count": 1
         }
        },
        {
         "dtype": "object",
         "name": "species",
         "stats": {
          "categories": [
           {
            "count": 5,
            "name": "setosa"
           }
          ],
          "nan_count": 0,
          "unique_count": 1
         }
        },
        {
         "dtype": "int32",
         "name": "kmeans_cluster",
         "stats": {
          "histogram": [
           {
            "bin_end": 0.6,
            "bin_start": 0.5,
            "count": 0
           },
           {
            "bin_end": 0.7,
            "bin_start": 0.6,
            "count": 0
           },
           {
            "bin_end": 0.8,
            "bin_start": 0.7,
            "count": 0
           },
           {
            "bin_end": 0.9,
            "bin_start": 0.8,
            "count": 0
           },
           {
            "bin_end": 1,
            "bin_start": 0.9,
            "count": 0
           },
           {
            "bin_end": 1.1,
            "bin_start": 1,
            "count": 5
           },
           {
            "bin_end": 1.2000000000000002,
            "bin_start": 1.1,
            "count": 0
           },
           {
            "bin_end": 1.3,
            "bin_start": 1.2000000000000002,
            "count": 0
           },
           {
            "bin_end": 1.4,
            "bin_start": 1.3,
            "count": 0
           },
           {
            "bin_end": 1.5,
            "bin_start": 1.4,
            "count": 0
           }
          ],
          "max": "1",
          "min": "1",
          "nan_count": 0,
          "unique_count": 1
         }
        },
        {
         "dtype": "int64",
         "name": "_deepnote_index_column"
        }
       ],
       "row_count": 5,
       "rows": [
        {
         "_deepnote_index_column": 0,
         "kmeans_cluster": 1,
         "petal_length": 1.4,
         "petal_width": 0.2,
         "sepal_length": 5.1,
         "sepal_width": 3.5,
         "species": "setosa"
        },
        {
         "_deepnote_index_column": 1,
         "kmeans_cluster": 1,
         "petal_length": 1.4,
         "petal_width": 0.2,
         "sepal_length": 4.9,
         "sepal_width": 3,
         "species": "setosa"
        },
        {
         "_deepnote_index_column": 2,
         "kmeans_cluster": 1,
         "petal_length": 1.3,
         "petal_width": 0.2,
         "sepal_length": 4.7,
         "sepal_width": 3.2,
         "species": "setosa"
        },
        {
         "_deepnote_index_column": 3,
         "kmeans_cluster": 1,
         "petal_length": 1.5,
         "petal_width": 0.2,
         "sepal_length": 4.6,
         "sepal_width": 3.1,
         "species": "setosa"
        },
        {
         "_deepnote_index_column": 4,
         "kmeans_cluster": 1,
         "petal_length": 1.4,
         "petal_width": 0.2,
         "sepal_length": 5,
         "sepal_width": 3.6,
         "species": "setosa"
        }
       ]
      },
      "text/html": [
       "<div>\n",
       "<style scoped>\n",
       "    .dataframe tbody tr th:only-of-type {\n",
       "        vertical-align: middle;\n",
       "    }\n",
       "\n",
       "    .dataframe tbody tr th {\n",
       "        vertical-align: top;\n",
       "    }\n",
       "\n",
       "    .dataframe thead th {\n",
       "        text-align: right;\n",
       "    }\n",
       "</style>\n",
       "<table border=\"1\" class=\"dataframe\">\n",
       "  <thead>\n",
       "    <tr style=\"text-align: right;\">\n",
       "      <th></th>\n",
       "      <th>sepal_length</th>\n",
       "      <th>sepal_width</th>\n",
       "      <th>petal_length</th>\n",
       "      <th>petal_width</th>\n",
       "      <th>species</th>\n",
       "      <th>kmeans_cluster</th>\n",
       "    </tr>\n",
       "  </thead>\n",
       "  <tbody>\n",
       "    <tr>\n",
       "      <th>0</th>\n",
       "      <td>5.1</td>\n",
       "      <td>3.5</td>\n",
       "      <td>1.4</td>\n",
       "      <td>0.2</td>\n",
       "      <td>setosa</td>\n",
       "      <td>1</td>\n",
       "    </tr>\n",
       "    <tr>\n",
       "      <th>1</th>\n",
       "      <td>4.9</td>\n",
       "      <td>3.0</td>\n",
       "      <td>1.4</td>\n",
       "      <td>0.2</td>\n",
       "      <td>setosa</td>\n",
       "      <td>1</td>\n",
       "    </tr>\n",
       "    <tr>\n",
       "      <th>2</th>\n",
       "      <td>4.7</td>\n",
       "      <td>3.2</td>\n",
       "      <td>1.3</td>\n",
       "      <td>0.2</td>\n",
       "      <td>setosa</td>\n",
       "      <td>1</td>\n",
       "    </tr>\n",
       "    <tr>\n",
       "      <th>3</th>\n",
       "      <td>4.6</td>\n",
       "      <td>3.1</td>\n",
       "      <td>1.5</td>\n",
       "      <td>0.2</td>\n",
       "      <td>setosa</td>\n",
       "      <td>1</td>\n",
       "    </tr>\n",
       "    <tr>\n",
       "      <th>4</th>\n",
       "      <td>5.0</td>\n",
       "      <td>3.6</td>\n",
       "      <td>1.4</td>\n",
       "      <td>0.2</td>\n",
       "      <td>setosa</td>\n",
       "      <td>1</td>\n",
       "    </tr>\n",
       "  </tbody>\n",
       "</table>\n",
       "</div>"
      ],
      "text/plain": [
       "   sepal_length  sepal_width  petal_length  petal_width species  \\\n",
       "0           5.1          3.5           1.4          0.2  setosa   \n",
       "1           4.9          3.0           1.4          0.2  setosa   \n",
       "2           4.7          3.2           1.3          0.2  setosa   \n",
       "3           4.6          3.1           1.5          0.2  setosa   \n",
       "4           5.0          3.6           1.4          0.2  setosa   \n",
       "\n",
       "   kmeans_cluster  \n",
       "0               1  \n",
       "1               1  \n",
       "2               1  \n",
       "3               1  \n",
       "4               1  "
      ]
     },
     "execution_count": 21,
     "metadata": {},
     "output_type": "execute_result"
    }
   ],
   "source": [
    "df['kmeans_cluster'] = y_km\n",
    "df.head(5)"
   ]
  },
  {
   "cell_type": "markdown",
   "metadata": {
    "cell_id": "55d2465b7a1340a193af2fa830214580",
    "deepnote_cell_type": "markdown"
   },
   "source": [
    "* Visualize the clustering result on PCs"
   ]
  },
  {
   "cell_type": "code",
   "execution_count": null,
   "metadata": {
    "cell_id": "92296979134c4c4589d3bd4aef4efb66",
    "deepnote_cell_type": "code",
    "deepnote_to_be_reexecuted": false,
    "execution_millis": 10,
    "execution_start": 1701293085098,
    "source_hash": null
   },
   "outputs": [
    {
     "data": {
      "text/plain": [
       "(150, 2)"
      ]
     },
     "execution_count": 22,
     "metadata": {},
     "output_type": "execute_result"
    }
   ],
   "source": [
    "from sklearn.decomposition import PCA\n",
    "pca = PCA(n_components=2)\n",
    "X_pca = pca.fit_transform(df[cols])\n",
    "X_pca.shape"
   ]
  },
  {
   "cell_type": "code",
   "execution_count": null,
   "metadata": {
    "cell_id": "d03f023ad6e847c1ae3e86470e77f2d0",
    "deepnote_cell_type": "code",
    "deepnote_to_be_reexecuted": false,
    "execution_millis": 66,
    "execution_start": 1701293086369,
    "source_hash": null
   },
   "outputs": [
    {
     "data": {
      "application/vnd.deepnote.dataframe.v3+json": {
       "column_count": 8,
       "columns": [
        {
         "dtype": "float64",
         "name": "sepal_length",
         "stats": {
          "histogram": [
           {
            "bin_end": 4.6499999999999995,
            "bin_start": 4.6,
            "count": 1
           },
           {
            "bin_end": 4.699999999999999,
            "bin_start": 4.6499999999999995,
            "count": 0
           },
           {
            "bin_end": 4.75,
            "bin_start": 4.699999999999999,
            "count": 1
           },
           {
            "bin_end": 4.8,
            "bin_start": 4.75,
            "count": 0
           },
           {
            "bin_end": 4.85,
            "bin_start": 4.8,
            "count": 0
           },
           {
            "bin_end": 4.8999999999999995,
            "bin_start": 4.85,
            "count": 0
           },
           {
            "bin_end": 4.949999999999999,
            "bin_start": 4.8999999999999995,
            "count": 1
           },
           {
            "bin_end": 5,
            "bin_start": 4.949999999999999,
            "count": 0
           },
           {
            "bin_end": 5.05,
            "bin_start": 5,
            "count": 1
           },
           {
            "bin_end": 5.1,
            "bin_start": 5.05,
            "count": 1
           }
          ],
          "max": "5.1",
          "min": "4.6",
          "nan_count": 0,
          "unique_count": 5
         }
        },
        {
         "dtype": "float64",
         "name": "sepal_width",
         "stats": {
          "histogram": [
           {
            "bin_end": 3.06,
            "bin_start": 3,
            "count": 1
           },
           {
            "bin_end": 3.12,
            "bin_start": 3.06,
            "count": 1
           },
           {
            "bin_end": 3.18,
            "bin_start": 3.12,
            "count": 0
           },
           {
            "bin_end": 3.24,
            "bin_start": 3.18,
            "count": 1
           },
           {
            "bin_end": 3.3,
            "bin_start": 3.24,
            "count": 0
           },
           {
            "bin_end": 3.3600000000000003,
            "bin_start": 3.3,
            "count": 0
           },
           {
            "bin_end": 3.42,
            "bin_start": 3.3600000000000003,
            "count": 0
           },
           {
            "bin_end": 3.48,
            "bin_start": 3.42,
            "count": 0
           },
           {
            "bin_end": 3.54,
            "bin_start": 3.48,
            "count": 1
           },
           {
            "bin_end": 3.6,
            "bin_start": 3.54,
            "count": 1
           }
          ],
          "max": "3.6",
          "min": "3.0",
          "nan_count": 0,
          "unique_count": 5
         }
        },
        {
         "dtype": "float64",
         "name": "petal_length",
         "stats": {
          "histogram": [
           {
            "bin_end": 1.32,
            "bin_start": 1.3,
            "count": 1
           },
           {
            "bin_end": 1.34,
            "bin_start": 1.32,
            "count": 0
           },
           {
            "bin_end": 1.36,
            "bin_start": 1.34,
            "count": 0
           },
           {
            "bin_end": 1.3800000000000001,
            "bin_start": 1.36,
            "count": 0
           },
           {
            "bin_end": 1.4,
            "bin_start": 1.3800000000000001,
            "count": 0
           },
           {
            "bin_end": 1.42,
            "bin_start": 1.4,
            "count": 3
           },
           {
            "bin_end": 1.44,
            "bin_start": 1.42,
            "count": 0
           },
           {
            "bin_end": 1.46,
            "bin_start": 1.44,
            "count": 0
           },
           {
            "bin_end": 1.48,
            "bin_start": 1.46,
            "count": 0
           },
           {
            "bin_end": 1.5,
            "bin_start": 1.48,
            "count": 1
           }
          ],
          "max": "1.5",
          "min": "1.3",
          "nan_count": 0,
          "unique_count": 3
         }
        },
        {
         "dtype": "float64",
         "name": "petal_width",
         "stats": {
          "histogram": [
           {
            "bin_end": -0.19999999999999998,
            "bin_start": -0.3,
            "count": 0
           },
           {
            "bin_end": -0.09999999999999998,
            "bin_start": -0.19999999999999998,
            "count": 0
           },
           {
            "bin_end": 5.551115123125783e-17,
            "bin_start": -0.09999999999999998,
            "count": 0
           },
           {
            "bin_end": 0.10000000000000003,
            "bin_start": 5.551115123125783e-17,
            "count": 0
           },
           {
            "bin_end": 0.2,
            "bin_start": 0.10000000000000003,
            "count": 0
           },
           {
            "bin_end": 0.3000000000000001,
            "bin_start": 0.2,
            "count": 5
           },
           {
            "bin_end": 0.4000000000000001,
            "bin_start": 0.3000000000000001,
            "count": 0
           },
           {
            "bin_end": 0.5,
            "bin_start": 0.4000000000000001,
            "count": 0
           },
           {
            "bin_end": 0.6000000000000001,
            "bin_start": 0.5,
            "count": 0
           },
           {
            "bin_end": 0.7,
            "bin_start": 0.6000000000000001,
            "count": 0
           }
          ],
          "max": "0.2",
          "min": "0.2",
          "nan_count": 0,
          "unique_count": 1
         }
        },
        {
         "dtype": "object",
         "name": "species",
         "stats": {
          "categories": [
           {
            "count": 5,
            "name": "setosa"
           }
          ],
          "nan_count": 0,
          "unique_count": 1
         }
        },
        {
         "dtype": "int32",
         "name": "kmeans_cluster",
         "stats": {
          "histogram": [
           {
            "bin_end": 0.6,
            "bin_start": 0.5,
            "count": 0
           },
           {
            "bin_end": 0.7,
            "bin_start": 0.6,
            "count": 0
           },
           {
            "bin_end": 0.8,
            "bin_start": 0.7,
            "count": 0
           },
           {
            "bin_end": 0.9,
            "bin_start": 0.8,
            "count": 0
           },
           {
            "bin_end": 1,
            "bin_start": 0.9,
            "count": 0
           },
           {
            "bin_end": 1.1,
            "bin_start": 1,
            "count": 5
           },
           {
            "bin_end": 1.2000000000000002,
            "bin_start": 1.1,
            "count": 0
           },
           {
            "bin_end": 1.3,
            "bin_start": 1.2000000000000002,
            "count": 0
           },
           {
            "bin_end": 1.4,
            "bin_start": 1.3,
            "count": 0
           },
           {
            "bin_end": 1.5,
            "bin_start": 1.4,
            "count": 0
           }
          ],
          "max": "1",
          "min": "1",
          "nan_count": 0,
          "unique_count": 1
         }
        },
        {
         "dtype": "float64",
         "name": "PC1",
         "stats": {
          "histogram": [
           {
            "bin_end": -2.8685040747503203,
            "bin_start": -2.888990569059296,
            "count": 1
           },
           {
            "bin_end": -2.848017580441345,
            "bin_start": -2.8685040747503203,
            "count": 0
           },
           {
            "bin_end": -2.8275310861323693,
            "bin_start": -2.848017580441345,
            "count": 0
           },
           {
            "bin_end": -2.8070445918233937,
            "bin_start": -2.8275310861323693,
            "count": 0
           },
           {
            "bin_end": -2.786558097514418,
            "bin_start": -2.8070445918233937,
            "count": 0
           },
           {
            "bin_end": -2.766071603205443,
            "bin_start": -2.786558097514418,
            "count": 0
           },
           {
            "bin_end": -2.7455851088964676,
            "bin_start": -2.766071603205443,
            "count": 0
           },
           {
            "bin_end": -2.725098614587492,
            "bin_start": -2.7455851088964676,
            "count": 2
           },
           {
            "bin_end": -2.7046121202785165,
            "bin_start": -2.725098614587492,
            "count": 1
           },
           {
            "bin_end": -2.684125625969541,
            "bin_start": -2.7046121202785165,
            "count": 1
           }
          ],
          "max": "-2.684125625969541",
          "min": "-2.888990569059296",
          "nan_count": 0,
          "unique_count": 5
         }
        },
        {
         "dtype": "float64",
         "name": "PC2",
         "stats": {
          "histogram": [
           {
            "bin_end": -0.25379363003323224,
            "bin_start": -0.31829897925191586,
            "count": 1
           },
           {
            "bin_end": -0.1892882808145486,
            "bin_start": -0.25379363003323224,
            "count": 0
           },
           {
            "bin_end": -0.12478293159586495,
            "bin_start": -0.1892882808145486,
            "count": 2
           },
           {
            "bin_end": -0.06027758237718134,
            "bin_start": -0.12478293159586495,
            "count": 0
           },
           {
            "bin_end": 0.0042277668415022784,
            "bin_start": -0.06027758237718134,
            "count": 0
           },
           {
            "bin_end": 0.06873311606018595,
            "bin_start": 0.0042277668415022784,
            "count": 0
           },
           {
            "bin_end": 0.13323846527886957,
            "bin_start": 0.06873311606018595,
            "count": 0
           },
           {
            "bin_end": 0.19774381449755318,
            "bin_start": 0.13323846527886957,
            "count": 0
           },
           {
            "bin_end": 0.26224916371623685,
            "bin_start": 0.19774381449755318,
            "count": 0
           },
           {
            "bin_end": 0.32675451293492047,
            "bin_start": 0.26224916371623685,
            "count": 2
           }
          ],
          "max": "0.32675451293492047",
          "min": "-0.31829897925191586",
          "nan_count": 0,
          "unique_count": 5
         }
        },
        {
         "dtype": "int64",
         "name": "_deepnote_index_column"
        }
       ],
       "row_count": 5,
       "rows": [
        {
         "PC1": -2.684125625969541,
         "PC2": 0.3193972465851031,
         "_deepnote_index_column": 0,
         "kmeans_cluster": 1,
         "petal_length": 1.4,
         "petal_width": 0.2,
         "sepal_length": 5.1,
         "sepal_width": 3.5,
         "species": "setosa"
        },
        {
         "PC1": -2.7141416872943274,
         "PC2": -0.17700122506477925,
         "_deepnote_index_column": 1,
         "kmeans_cluster": 1,
         "petal_length": 1.4,
         "petal_width": 0.2,
         "sepal_length": 4.9,
         "sepal_width": 3,
         "species": "setosa"
        },
        {
         "PC1": -2.888990569059296,
         "PC2": -0.14494942608555722,
         "_deepnote_index_column": 2,
         "kmeans_cluster": 1,
         "petal_length": 1.3,
         "petal_width": 0.2,
         "sepal_length": 4.7,
         "sepal_width": 3.2,
         "species": "setosa"
        },
        {
         "PC1": -2.745342855641409,
         "PC2": -0.31829897925191586,
         "_deepnote_index_column": 3,
         "kmeans_cluster": 1,
         "petal_length": 1.5,
         "petal_width": 0.2,
         "sepal_length": 4.6,
         "sepal_width": 3.1,
         "species": "setosa"
        },
        {
         "PC1": -2.7287165365545287,
         "PC2": 0.32675451293492047,
         "_deepnote_index_column": 4,
         "kmeans_cluster": 1,
         "petal_length": 1.4,
         "petal_width": 0.2,
         "sepal_length": 5,
         "sepal_width": 3.6,
         "species": "setosa"
        }
       ]
      },
      "text/html": [
       "<div>\n",
       "<style scoped>\n",
       "    .dataframe tbody tr th:only-of-type {\n",
       "        vertical-align: middle;\n",
       "    }\n",
       "\n",
       "    .dataframe tbody tr th {\n",
       "        vertical-align: top;\n",
       "    }\n",
       "\n",
       "    .dataframe thead th {\n",
       "        text-align: right;\n",
       "    }\n",
       "</style>\n",
       "<table border=\"1\" class=\"dataframe\">\n",
       "  <thead>\n",
       "    <tr style=\"text-align: right;\">\n",
       "      <th></th>\n",
       "      <th>sepal_length</th>\n",
       "      <th>sepal_width</th>\n",
       "      <th>petal_length</th>\n",
       "      <th>petal_width</th>\n",
       "      <th>species</th>\n",
       "      <th>kmeans_cluster</th>\n",
       "      <th>PC1</th>\n",
       "      <th>PC2</th>\n",
       "    </tr>\n",
       "  </thead>\n",
       "  <tbody>\n",
       "    <tr>\n",
       "      <th>0</th>\n",
       "      <td>5.1</td>\n",
       "      <td>3.5</td>\n",
       "      <td>1.4</td>\n",
       "      <td>0.2</td>\n",
       "      <td>setosa</td>\n",
       "      <td>1</td>\n",
       "      <td>-2.684126</td>\n",
       "      <td>0.319397</td>\n",
       "    </tr>\n",
       "    <tr>\n",
       "      <th>1</th>\n",
       "      <td>4.9</td>\n",
       "      <td>3.0</td>\n",
       "      <td>1.4</td>\n",
       "      <td>0.2</td>\n",
       "      <td>setosa</td>\n",
       "      <td>1</td>\n",
       "      <td>-2.714142</td>\n",
       "      <td>-0.177001</td>\n",
       "    </tr>\n",
       "    <tr>\n",
       "      <th>2</th>\n",
       "      <td>4.7</td>\n",
       "      <td>3.2</td>\n",
       "      <td>1.3</td>\n",
       "      <td>0.2</td>\n",
       "      <td>setosa</td>\n",
       "      <td>1</td>\n",
       "      <td>-2.888991</td>\n",
       "      <td>-0.144949</td>\n",
       "    </tr>\n",
       "    <tr>\n",
       "      <th>3</th>\n",
       "      <td>4.6</td>\n",
       "      <td>3.1</td>\n",
       "      <td>1.5</td>\n",
       "      <td>0.2</td>\n",
       "      <td>setosa</td>\n",
       "      <td>1</td>\n",
       "      <td>-2.745343</td>\n",
       "      <td>-0.318299</td>\n",
       "    </tr>\n",
       "    <tr>\n",
       "      <th>4</th>\n",
       "      <td>5.0</td>\n",
       "      <td>3.6</td>\n",
       "      <td>1.4</td>\n",
       "      <td>0.2</td>\n",
       "      <td>setosa</td>\n",
       "      <td>1</td>\n",
       "      <td>-2.728717</td>\n",
       "      <td>0.326755</td>\n",
       "    </tr>\n",
       "  </tbody>\n",
       "</table>\n",
       "</div>"
      ],
      "text/plain": [
       "   sepal_length  sepal_width  petal_length  petal_width species  \\\n",
       "0           5.1          3.5           1.4          0.2  setosa   \n",
       "1           4.9          3.0           1.4          0.2  setosa   \n",
       "2           4.7          3.2           1.3          0.2  setosa   \n",
       "3           4.6          3.1           1.5          0.2  setosa   \n",
       "4           5.0          3.6           1.4          0.2  setosa   \n",
       "\n",
       "   kmeans_cluster       PC1       PC2  \n",
       "0               1 -2.684126  0.319397  \n",
       "1               1 -2.714142 -0.177001  \n",
       "2               1 -2.888991 -0.144949  \n",
       "3               1 -2.745343 -0.318299  \n",
       "4               1 -2.728717  0.326755  "
      ]
     },
     "execution_count": 23,
     "metadata": {},
     "output_type": "execute_result"
    }
   ],
   "source": [
    "df[['PC1','PC2']] = X_pca\n",
    "df.head(5)"
   ]
  },
  {
   "cell_type": "code",
   "execution_count": null,
   "metadata": {
    "cell_id": "4d82d59534084fc693d00079b18e1a28",
    "deepnote_cell_type": "code",
    "deepnote_to_be_reexecuted": false,
    "execution_millis": 65,
    "execution_start": 1701293222439,
    "source_hash": null
   },
   "outputs": [
    {
     "data": {
      "text/html": [
       "\n",
       "<div id=\"altair-viz-3934a746bbdf46909ab36c53c837cf34\"></div>\n",
       "<script type=\"text/javascript\">\n",
       "  var VEGA_DEBUG = (typeof VEGA_DEBUG == \"undefined\") ? {} : VEGA_DEBUG;\n",
       "  (function(spec, embedOpt){\n",
       "    let outputDiv = document.currentScript.previousElementSibling;\n",
       "    if (outputDiv.id !== \"altair-viz-3934a746bbdf46909ab36c53c837cf34\") {\n",
       "      outputDiv = document.getElementById(\"altair-viz-3934a746bbdf46909ab36c53c837cf34\");\n",
       "    }\n",
       "    const paths = {\n",
       "      \"vega\": \"https://cdn.jsdelivr.net/npm//vega@5?noext\",\n",
       "      \"vega-lib\": \"https://cdn.jsdelivr.net/npm//vega-lib?noext\",\n",
       "      \"vega-lite\": \"https://cdn.jsdelivr.net/npm//vega-lite@4.17.0?noext\",\n",
       "      \"vega-embed\": \"https://cdn.jsdelivr.net/npm//vega-embed@6?noext\",\n",
       "    };\n",
       "\n",
       "    function maybeLoadScript(lib, version) {\n",
       "      var key = `${lib.replace(\"-\", \"\")}_version`;\n",
       "      return (VEGA_DEBUG[key] == version) ?\n",
       "        Promise.resolve(paths[lib]) :\n",
       "        new Promise(function(resolve, reject) {\n",
       "          var s = document.createElement('script');\n",
       "          document.getElementsByTagName(\"head\")[0].appendChild(s);\n",
       "          s.async = true;\n",
       "          s.onload = () => {\n",
       "            VEGA_DEBUG[key] = version;\n",
       "            return resolve(paths[lib]);\n",
       "          };\n",
       "          s.onerror = () => reject(`Error loading script: ${paths[lib]}`);\n",
       "          s.src = paths[lib];\n",
       "        });\n",
       "    }\n",
       "\n",
       "    function showError(err) {\n",
       "      outputDiv.innerHTML = `<div class=\"error\" style=\"color:red;\">${err}</div>`;\n",
       "      throw err;\n",
       "    }\n",
       "\n",
       "    function displayChart(vegaEmbed) {\n",
       "      vegaEmbed(outputDiv, spec, embedOpt)\n",
       "        .catch(err => showError(`Javascript Error: ${err.message}<br>This usually means there's a typo in your chart specification. See the javascript console for the full traceback.`));\n",
       "    }\n",
       "\n",
       "    if(typeof define === \"function\" && define.amd) {\n",
       "      requirejs.config({paths});\n",
       "      require([\"vega-embed\"], displayChart, err => showError(`Error loading script: ${err.message}`));\n",
       "    } else {\n",
       "      maybeLoadScript(\"vega\", \"5\")\n",
       "        .then(() => maybeLoadScript(\"vega-lite\", \"4.17.0\"))\n",
       "        .then(() => maybeLoadScript(\"vega-embed\", \"6\"))\n",
       "        .catch(showError)\n",
       "        .then(() => displayChart(vegaEmbed));\n",
       "    }\n",
       "  })({\"config\": {\"view\": {\"continuousWidth\": 400, \"continuousHeight\": 300}}, \"data\": {\"name\": \"data-26e70527714a8290ce6f0e3a8a5ebbc5\"}, \"mark\": {\"type\": \"circle\", \"size\": 60}, \"encoding\": {\"color\": {\"field\": \"kmeans_cluster\", \"scale\": {\"scheme\": \"set1\"}, \"type\": \"nominal\"}, \"tooltip\": [{\"field\": \"kmeans_cluster\", \"type\": \"nominal\"}], \"x\": {\"field\": \"PC1\", \"type\": \"quantitative\"}, \"y\": {\"field\": \"PC2\", \"type\": \"quantitative\"}}, \"title\": \"K-means clustering\", \"$schema\": \"https://vega.github.io/schema/vega-lite/v4.17.0.json\", \"datasets\": {\"data-26e70527714a8290ce6f0e3a8a5ebbc5\": [{\"sepal_length\": 5.1, \"sepal_width\": 3.5, \"petal_length\": 1.4, \"petal_width\": 0.2, \"species\": \"setosa\", \"kmeans_cluster\": 1, \"PC1\": -2.684125625969541, \"PC2\": 0.3193972465851031}, {\"sepal_length\": 4.9, \"sepal_width\": 3.0, \"petal_length\": 1.4, \"petal_width\": 0.2, \"species\": \"setosa\", \"kmeans_cluster\": 1, \"PC1\": -2.7141416872943274, \"PC2\": -0.17700122506477925}, {\"sepal_length\": 4.7, \"sepal_width\": 3.2, \"petal_length\": 1.3, \"petal_width\": 0.2, \"species\": \"setosa\", \"kmeans_cluster\": 1, \"PC1\": -2.888990569059296, \"PC2\": -0.14494942608555722}, {\"sepal_length\": 4.6, \"sepal_width\": 3.1, \"petal_length\": 1.5, \"petal_width\": 0.2, \"species\": \"setosa\", \"kmeans_cluster\": 1, \"PC1\": -2.745342855641409, \"PC2\": -0.31829897925191586}, {\"sepal_length\": 5.0, \"sepal_width\": 3.6, \"petal_length\": 1.4, \"petal_width\": 0.2, \"species\": \"setosa\", \"kmeans_cluster\": 1, \"PC1\": -2.7287165365545287, \"PC2\": 0.32675451293492047}, {\"sepal_length\": 5.4, \"sepal_width\": 3.9, \"petal_length\": 1.7, \"petal_width\": 0.4, \"species\": \"setosa\", \"kmeans_cluster\": 1, \"PC1\": -2.2808596328444914, \"PC2\": 0.7413304490629157}, {\"sepal_length\": 4.6, \"sepal_width\": 3.4, \"petal_length\": 1.4, \"petal_width\": 0.3, \"species\": \"setosa\", \"kmeans_cluster\": 1, \"PC1\": -2.820537750740608, \"PC2\": -0.08946138452856846}, {\"sepal_length\": 5.0, \"sepal_width\": 3.4, \"petal_length\": 1.5, \"petal_width\": 0.2, \"species\": \"setosa\", \"kmeans_cluster\": 1, \"PC1\": -2.6261449731466318, \"PC2\": 0.16338495969832917}, {\"sepal_length\": 4.4, \"sepal_width\": 2.9, \"petal_length\": 1.4, \"petal_width\": 0.2, \"species\": \"setosa\", \"kmeans_cluster\": 1, \"PC1\": -2.8863827317805524, \"PC2\": -0.5783117541867038}, {\"sepal_length\": 4.9, \"sepal_width\": 3.1, \"petal_length\": 1.5, \"petal_width\": 0.1, \"species\": \"setosa\", \"kmeans_cluster\": 1, \"PC1\": -2.672755797820953, \"PC2\": -0.11377424587411651}, {\"sepal_length\": 5.4, \"sepal_width\": 3.7, \"petal_length\": 1.5, \"petal_width\": 0.2, \"species\": \"setosa\", \"kmeans_cluster\": 1, \"PC1\": -2.5069470906518547, \"PC2\": 0.6450688986485744}, {\"sepal_length\": 4.8, \"sepal_width\": 3.4, \"petal_length\": 1.6, \"petal_width\": 0.2, \"species\": \"setosa\", \"kmeans_cluster\": 1, \"PC1\": -2.612755230908722, \"PC2\": 0.014729939161374953}, {\"sepal_length\": 4.8, \"sepal_width\": 3.0, \"petal_length\": 1.4, \"petal_width\": 0.1, \"species\": \"setosa\", \"kmeans_cluster\": 1, \"PC1\": -2.786109266188017, \"PC2\": -0.23511200020171813}, {\"sepal_length\": 4.3, \"sepal_width\": 3.0, \"petal_length\": 1.1, \"petal_width\": 0.1, \"species\": \"setosa\", \"kmeans_cluster\": 1, \"PC1\": -3.223803743865651, \"PC2\": -0.511394587006382}, {\"sepal_length\": 5.8, \"sepal_width\": 4.0, \"petal_length\": 1.2, \"petal_width\": 0.2, \"species\": \"setosa\", \"kmeans_cluster\": 1, \"PC1\": -2.644750389942029, \"PC2\": 1.1787646364375761}, {\"sepal_length\": 5.7, \"sepal_width\": 4.4, \"petal_length\": 1.5, \"petal_width\": 0.4, \"species\": \"setosa\", \"kmeans_cluster\": 1, \"PC1\": -2.386039033531132, \"PC2\": 1.3380623304006534}, {\"sepal_length\": 5.4, \"sepal_width\": 3.9, \"petal_length\": 1.3, \"petal_width\": 0.4, \"species\": \"setosa\", \"kmeans_cluster\": 1, \"PC1\": -2.623527875224425, \"PC2\": 0.8106795141812584}, {\"sepal_length\": 5.1, \"sepal_width\": 3.5, \"petal_length\": 1.4, \"petal_width\": 0.3, \"species\": \"setosa\", \"kmeans_cluster\": 1, \"PC1\": -2.6482967062543805, \"PC2\": 0.3118491445933553}, {\"sepal_length\": 5.7, \"sepal_width\": 3.8, \"petal_length\": 1.7, \"petal_width\": 0.3, \"species\": \"setosa\", \"kmeans_cluster\": 1, \"PC1\": -2.199820323617579, \"PC2\": 0.8728390389622118}, {\"sepal_length\": 5.1, \"sepal_width\": 3.8, \"petal_length\": 1.5, \"petal_width\": 0.3, \"species\": \"setosa\", \"kmeans_cluster\": 1, \"PC1\": -2.5879863998787673, \"PC2\": 0.5135603087492776}, {\"sepal_length\": 5.4, \"sepal_width\": 3.4, \"petal_length\": 1.7, \"petal_width\": 0.2, \"species\": \"setosa\", \"kmeans_cluster\": 1, \"PC1\": -2.3102562152425175, \"PC2\": 0.39134593565389486}, {\"sepal_length\": 5.1, \"sepal_width\": 3.7, \"petal_length\": 1.5, \"petal_width\": 0.4, \"species\": \"setosa\", \"kmeans_cluster\": 1, \"PC1\": -2.5437052287571555, \"PC2\": 0.43299606327902873}, {\"sepal_length\": 4.6, \"sepal_width\": 3.6, \"petal_length\": 1.0, \"petal_width\": 0.2, \"species\": \"setosa\", \"kmeans_cluster\": 1, \"PC1\": -3.2159394156486107, \"PC2\": 0.13346806953852625}, {\"sepal_length\": 5.1, \"sepal_width\": 3.3, \"petal_length\": 1.7, \"petal_width\": 0.5, \"species\": \"setosa\", \"kmeans_cluster\": 1, \"PC1\": -2.3027331822262065, \"PC2\": 0.09870885481409995}, {\"sepal_length\": 4.8, \"sepal_width\": 3.4, \"petal_length\": 1.9, \"petal_width\": 0.2, \"species\": \"setosa\", \"kmeans_cluster\": 1, \"PC1\": -2.355754049123772, \"PC2\": -0.03728185967738212}, {\"sepal_length\": 5.0, \"sepal_width\": 3.0, \"petal_length\": 1.6, \"petal_width\": 0.2, \"species\": \"setosa\", \"kmeans_cluster\": 1, \"PC1\": -2.5066689069258206, \"PC2\": -0.14601688049526743}, {\"sepal_length\": 5.0, \"sepal_width\": 3.4, \"petal_length\": 1.6, \"petal_width\": 0.4, \"species\": \"setosa\", \"kmeans_cluster\": 1, \"PC1\": -2.468820073121338, \"PC2\": 0.13095148943525073}, {\"sepal_length\": 5.2, \"sepal_width\": 3.5, \"petal_length\": 1.5, \"petal_width\": 0.2, \"species\": \"setosa\", \"kmeans_cluster\": 1, \"PC1\": -2.562319906196015, \"PC2\": 0.3677188574342005}, {\"sepal_length\": 5.2, \"sepal_width\": 3.4, \"petal_length\": 1.4, \"petal_width\": 0.2, \"species\": \"setosa\", \"kmeans_cluster\": 1, \"PC1\": -2.6395347153845417, \"PC2\": 0.3120399802352835}, {\"sepal_length\": 4.7, \"sepal_width\": 3.2, \"petal_length\": 1.6, \"petal_width\": 0.2, \"species\": \"setosa\", \"kmeans_cluster\": 1, \"PC1\": -2.6319893872743454, \"PC2\": -0.1969612249243143}, {\"sepal_length\": 4.8, \"sepal_width\": 3.1, \"petal_length\": 1.6, \"petal_width\": 0.2, \"species\": \"setosa\", \"kmeans_cluster\": 1, \"PC1\": -2.5873984766893514, \"PC2\": -0.20431849127413315}, {\"sepal_length\": 5.4, \"sepal_width\": 3.4, \"petal_length\": 1.5, \"petal_width\": 0.4, \"species\": \"setosa\", \"kmeans_cluster\": 1, \"PC1\": -2.409932497002174, \"PC2\": 0.41092426422957334}, {\"sepal_length\": 5.2, \"sepal_width\": 4.1, \"petal_length\": 1.5, \"petal_width\": 0.1, \"species\": \"setosa\", \"kmeans_cluster\": 1, \"PC1\": -2.648862334349911, \"PC2\": 0.813363820296963}, {\"sepal_length\": 5.5, \"sepal_width\": 4.2, \"petal_length\": 1.4, \"petal_width\": 0.2, \"species\": \"setosa\", \"kmeans_cluster\": 1, \"PC1\": -2.5987367491005857, \"PC2\": 1.0931457594493577}, {\"sepal_length\": 4.9, \"sepal_width\": 3.1, \"petal_length\": 1.5, \"petal_width\": 0.2, \"species\": \"setosa\", \"kmeans_cluster\": 1, \"PC1\": -2.6369268781057977, \"PC2\": -0.12132234786586286}, {\"sepal_length\": 5.0, \"sepal_width\": 3.2, \"petal_length\": 1.2, \"petal_width\": 0.2, \"species\": \"setosa\", \"kmeans_cluster\": 1, \"PC1\": -2.866241652118669, \"PC2\": 0.06936447158008105}, {\"sepal_length\": 5.5, \"sepal_width\": 3.5, \"petal_length\": 1.3, \"petal_width\": 0.2, \"species\": \"setosa\", \"kmeans_cluster\": 1, \"PC1\": -2.625238049850371, \"PC2\": 0.5993700213794242}, {\"sepal_length\": 4.9, \"sepal_width\": 3.6, \"petal_length\": 1.4, \"petal_width\": 0.1, \"species\": \"setosa\", \"kmeans_cluster\": 1, \"PC1\": -2.8006841154482207, \"PC2\": 0.26864373779798284}, {\"sepal_length\": 4.4, \"sepal_width\": 3.0, \"petal_length\": 1.3, \"petal_width\": 0.2, \"species\": \"setosa\", \"kmeans_cluster\": 1, \"PC1\": -2.9805020437819927, \"PC2\": -0.4879583444286153}, {\"sepal_length\": 5.1, \"sepal_width\": 3.4, \"petal_length\": 1.5, \"petal_width\": 0.2, \"species\": \"setosa\", \"kmeans_cluster\": 1, \"PC1\": -2.5900063139680944, \"PC2\": 0.22904383682701318}, {\"sepal_length\": 5.0, \"sepal_width\": 3.5, \"petal_length\": 1.3, \"petal_width\": 0.3, \"species\": \"setosa\", \"kmeans_cluster\": 1, \"PC1\": -2.7701024260279006, \"PC2\": 0.263527533744257}, {\"sepal_length\": 4.5, \"sepal_width\": 2.3, \"petal_length\": 1.3, \"petal_width\": 0.3, \"species\": \"setosa\", \"kmeans_cluster\": 1, \"PC1\": -2.8493687050431022, \"PC2\": -0.9409605736411968}, {\"sepal_length\": 4.4, \"sepal_width\": 3.2, \"petal_length\": 1.3, \"petal_width\": 0.2, \"species\": \"setosa\", \"kmeans_cluster\": 1, \"PC1\": -2.997406546594907, \"PC2\": -0.34192605747160976}, {\"sepal_length\": 5.0, \"sepal_width\": 3.5, \"petal_length\": 1.6, \"petal_width\": 0.6, \"species\": \"setosa\", \"kmeans_cluster\": 1, \"PC1\": -2.4056144850974843, \"PC2\": 0.18887142893026088}, {\"sepal_length\": 5.1, \"sepal_width\": 3.8, \"petal_length\": 1.9, \"petal_width\": 0.4, \"species\": \"setosa\", \"kmeans_cluster\": 1, \"PC1\": -2.2094892377836786, \"PC2\": 0.4366631416391884}, {\"sepal_length\": 4.8, \"sepal_width\": 3.0, \"petal_length\": 1.4, \"petal_width\": 0.3, \"species\": \"setosa\", \"kmeans_cluster\": 1, \"PC1\": -2.714451426757707, \"PC2\": -0.2502082041852109}, {\"sepal_length\": 5.1, \"sepal_width\": 3.8, \"petal_length\": 1.6, \"petal_width\": 0.2, \"species\": \"setosa\", \"kmeans_cluster\": 1, \"PC1\": -2.538148258998939, \"PC2\": 0.5037711444614382}, {\"sepal_length\": 4.6, \"sepal_width\": 3.2, \"petal_length\": 1.4, \"petal_width\": 0.2, \"species\": \"setosa\", \"kmeans_cluster\": 1, \"PC1\": -2.839462167642849, \"PC2\": -0.22794556949382733}, {\"sepal_length\": 5.3, \"sepal_width\": 3.7, \"petal_length\": 1.5, \"petal_width\": 0.2, \"species\": \"setosa\", \"kmeans_cluster\": 1, \"PC1\": -2.543085749830392, \"PC2\": 0.5794100215198902}, {\"sepal_length\": 5.0, \"sepal_width\": 3.3, \"petal_length\": 1.4, \"petal_width\": 0.2, \"species\": \"setosa\", \"kmeans_cluster\": 1, \"PC1\": -2.7033597823351587, \"PC2\": 0.1077060824994121}, {\"sepal_length\": 7.0, \"sepal_width\": 3.2, \"petal_length\": 4.7, \"petal_width\": 1.4, \"species\": \"versicolor\", \"kmeans_cluster\": 0, \"PC1\": 1.2848256888583536, \"PC2\": 0.6851604704673091}, {\"sepal_length\": 6.4, \"sepal_width\": 3.2, \"petal_length\": 4.5, \"petal_width\": 1.5, \"species\": \"versicolor\", \"kmeans_cluster\": 0, \"PC1\": 0.9324885323123204, \"PC2\": 0.3183336382626293}, {\"sepal_length\": 6.9, \"sepal_width\": 3.1, \"petal_length\": 4.9, \"petal_width\": 1.5, \"species\": \"versicolor\", \"kmeans_cluster\": 2, \"PC1\": 1.4643023219913962, \"PC2\": 0.5042628153092046}, {\"sepal_length\": 5.5, \"sepal_width\": 2.3, \"petal_length\": 4.0, \"petal_width\": 1.3, \"species\": \"versicolor\", \"kmeans_cluster\": 0, \"PC1\": 0.1833177199583726, \"PC2\": -0.8279590118206326}, {\"sepal_length\": 6.5, \"sepal_width\": 2.8, \"petal_length\": 4.6, \"petal_width\": 1.5, \"species\": \"versicolor\", \"kmeans_cluster\": 0, \"PC1\": 1.088103257711668, \"PC2\": 0.07459067519771641}, {\"sepal_length\": 5.7, \"sepal_width\": 2.8, \"petal_length\": 4.5, \"petal_width\": 1.3, \"species\": \"versicolor\", \"kmeans_cluster\": 0, \"PC1\": 0.6416690842580796, \"PC2\": -0.4182468715686787}, {\"sepal_length\": 6.3, \"sepal_width\": 3.3, \"petal_length\": 4.7, \"petal_width\": 1.6, \"species\": \"versicolor\", \"kmeans_cluster\": 0, \"PC1\": 1.095060662632449, \"PC2\": 0.2834682700615294}, {\"sepal_length\": 4.9, \"sepal_width\": 2.4, \"petal_length\": 3.3, \"petal_width\": 1.0, \"species\": \"versicolor\", \"kmeans_cluster\": 0, \"PC1\": -0.7491226698296556, \"PC2\": -1.0048909611818955}, {\"sepal_length\": 6.6, \"sepal_width\": 2.9, \"petal_length\": 4.6, \"petal_width\": 1.3, \"species\": \"versicolor\", \"kmeans_cluster\": 0, \"PC1\": 1.0441318260534382, \"PC2\": 0.2283618997883959}, {\"sepal_length\": 5.2, \"sepal_width\": 2.7, \"petal_length\": 3.9, \"petal_width\": 1.4, \"species\": \"versicolor\", \"kmeans_cluster\": 0, \"PC1\": -0.008745404082894285, \"PC2\": -0.7230819050048343}, {\"sepal_length\": 5.0, \"sepal_width\": 2.0, \"petal_length\": 3.5, \"petal_width\": 1.0, \"species\": \"versicolor\", \"kmeans_cluster\": 0, \"PC1\": -0.5078408838353242, \"PC2\": -1.265971190526394}, {\"sepal_length\": 5.9, \"sepal_width\": 3.0, \"petal_length\": 4.2, \"petal_width\": 1.5, \"species\": \"versicolor\", \"kmeans_cluster\": 0, \"PC1\": 0.5116985574475993, \"PC2\": -0.10398123549904023}, {\"sepal_length\": 6.0, \"sepal_width\": 2.2, \"petal_length\": 4.0, \"petal_width\": 1.0, \"species\": \"versicolor\", \"kmeans_cluster\": 0, \"PC1\": 0.2649765081120483, \"PC2\": -0.5500364636804747}, {\"sepal_length\": 6.1, \"sepal_width\": 2.9, \"petal_length\": 4.7, \"petal_width\": 1.4, \"species\": \"versicolor\", \"kmeans_cluster\": 0, \"PC1\": 0.9849345104708923, \"PC2\": -0.12481785412635721}, {\"sepal_length\": 5.6, \"sepal_width\": 2.9, \"petal_length\": 3.6, \"petal_width\": 1.3, \"species\": \"versicolor\", \"kmeans_cluster\": 0, \"PC1\": -0.17392537168176606, \"PC2\": -0.2548542087025892}, {\"sepal_length\": 6.7, \"sepal_width\": 3.1, \"petal_length\": 4.4, \"petal_width\": 1.4, \"species\": \"versicolor\", \"kmeans_cluster\": 0, \"PC1\": 0.9278607809442491, \"PC2\": 0.4671794944415109}, {\"sepal_length\": 5.6, \"sepal_width\": 3.0, \"petal_length\": 4.5, \"petal_width\": 1.5, \"species\": \"versicolor\", \"kmeans_cluster\": 0, \"PC1\": 0.660283761696939, \"PC2\": -0.35296966572385036}, {\"sepal_length\": 5.8, \"sepal_width\": 2.7, \"petal_length\": 4.1, \"petal_width\": 1.0, \"species\": \"versicolor\", \"kmeans_cluster\": 0, \"PC1\": 0.2361049933176735, \"PC2\": -0.33361076682491525}, {\"sepal_length\": 6.2, \"sepal_width\": 2.2, \"petal_length\": 4.5, \"petal_width\": 1.5, \"species\": \"versicolor\", \"kmeans_cluster\": 0, \"PC1\": 0.9447337280198155, \"PC2\": -0.5431455507797666}, {\"sepal_length\": 5.6, \"sepal_width\": 2.5, \"petal_length\": 3.9, \"petal_width\": 1.1, \"species\": \"versicolor\", \"kmeans_cluster\": 0, \"PC1\": 0.04522697629870169, \"PC2\": -0.5838343774718644}, {\"sepal_length\": 5.9, \"sepal_width\": 3.2, \"petal_length\": 4.8, \"petal_width\": 1.8, \"species\": \"versicolor\", \"kmeans_cluster\": 0, \"PC1\": 1.1162831773500517, \"PC2\": -0.08461685219478782}, {\"sepal_length\": 6.1, \"sepal_width\": 2.8, \"petal_length\": 4.0, \"petal_width\": 1.3, \"species\": \"versicolor\", \"kmeans_cluster\": 0, \"PC1\": 0.3578884179973092, \"PC2\": -0.06892503165601371}, {\"sepal_length\": 6.3, \"sepal_width\": 2.5, \"petal_length\": 4.9, \"petal_width\": 1.5, \"species\": \"versicolor\", \"kmeans_cluster\": 0, \"PC1\": 1.2981838753589157, \"PC2\": -0.32778730833391734}, {\"sepal_length\": 6.1, \"sepal_width\": 2.8, \"petal_length\": 4.7, \"petal_width\": 1.2, \"species\": \"versicolor\", \"kmeans_cluster\": 0, \"PC1\": 0.9217289224470391, \"PC2\": -0.1827377936213673}, {\"sepal_length\": 6.4, \"sepal_width\": 2.9, \"petal_length\": 4.3, \"petal_width\": 1.3, \"species\": \"versicolor\", \"kmeans_cluster\": 0, \"PC1\": 0.7148533259114135, \"PC2\": 0.14905594436978506}, {\"sepal_length\": 6.6, \"sepal_width\": 3.0, \"petal_length\": 4.4, \"petal_width\": 1.4, \"species\": \"versicolor\", \"kmeans_cluster\": 0, \"PC1\": 0.9001743731721693, \"PC2\": 0.3285044738343237}, {\"sepal_length\": 6.8, \"sepal_width\": 2.8, \"petal_length\": 4.8, \"petal_width\": 1.4, \"species\": \"versicolor\", \"kmeans_cluster\": 0, \"PC1\": 1.3320244367220904, \"PC2\": 0.2444408760163438}, {\"sepal_length\": 6.7, \"sepal_width\": 3.0, \"petal_length\": 5.0, \"petal_width\": 1.7, \"species\": \"versicolor\", \"kmeans_cluster\": 2, \"PC1\": 1.5578021550660723, \"PC2\": 0.2674954473102549}, {\"sepal_length\": 6.0, \"sepal_width\": 2.9, \"petal_length\": 4.5, \"petal_width\": 1.5, \"species\": \"versicolor\", \"kmeans_cluster\": 0, \"PC1\": 0.8132906498175435, \"PC2\": -0.16335030068761613}, {\"sepal_length\": 5.7, \"sepal_width\": 2.6, \"petal_length\": 3.5, \"petal_width\": 1.0, \"species\": \"versicolor\", \"kmeans_cluster\": 0, \"PC1\": -0.30558377802430736, \"PC2\": -0.3682621897545878}, {\"sepal_length\": 5.5, \"sepal_width\": 2.4, \"petal_length\": 3.8, \"petal_width\": 1.1, \"species\": \"versicolor\", \"kmeans_cluster\": 0, \"PC1\": -0.06812649206836169, \"PC2\": -0.7051721317994655}, {\"sepal_length\": 5.5, \"sepal_width\": 2.4, \"petal_length\": 3.7, \"petal_width\": 1.0, \"species\": \"versicolor\", \"kmeans_cluster\": 0, \"PC1\": -0.18962247237849997, \"PC2\": -0.6802867635281336}, {\"sepal_length\": 5.8, \"sepal_width\": 2.7, \"petal_length\": 3.9, \"petal_width\": 1.2, \"species\": \"versicolor\", \"kmeans_cluster\": 0, \"PC1\": 0.1364287115580168, \"PC2\": -0.31403243824923666}, {\"sepal_length\": 6.0, \"sepal_width\": 2.7, \"petal_length\": 5.1, \"petal_width\": 1.6, \"species\": \"versicolor\", \"kmeans_cluster\": 0, \"PC1\": 1.3800264359155132, \"PC2\": -0.42095428731388185}, {\"sepal_length\": 5.4, \"sepal_width\": 3.0, \"petal_length\": 4.5, \"petal_width\": 1.5, \"species\": \"versicolor\", \"kmeans_cluster\": 0, \"PC1\": 0.5880064433398654, \"PC2\": -0.48428741998121827}, {\"sepal_length\": 6.0, \"sepal_width\": 3.4, \"petal_length\": 4.5, \"petal_width\": 1.6, \"species\": \"versicolor\", \"kmeans_cluster\": 0, \"PC1\": 0.8068583125004142, \"PC2\": 0.1941823147131512}, {\"sepal_length\": 6.7, \"sepal_width\": 3.1, \"petal_length\": 4.7, \"petal_width\": 1.5, \"species\": \"versicolor\", \"kmeans_cluster\": 0, \"PC1\": 1.2206908824443548, \"PC2\": 0.4076195936110074}, {\"sepal_length\": 6.3, \"sepal_width\": 2.3, \"petal_length\": 4.4, \"petal_width\": 1.3, \"species\": \"versicolor\", \"kmeans_cluster\": 0, \"PC1\": 0.815095235766602, \"PC2\": -0.37203705990950175}, {\"sepal_length\": 5.6, \"sepal_width\": 3.0, \"petal_length\": 4.1, \"petal_width\": 1.3, \"species\": \"versicolor\", \"kmeans_cluster\": 0, \"PC1\": 0.24595767988669426, \"PC2\": -0.2685243966220147}, {\"sepal_length\": 5.5, \"sepal_width\": 2.5, \"petal_length\": 4.0, \"petal_width\": 1.3, \"species\": \"versicolor\", \"kmeans_cluster\": 0, \"PC1\": 0.16641321714545868, \"PC2\": -0.6819267248636267}, {\"sepal_length\": 5.5, \"sepal_width\": 2.6, \"petal_length\": 4.4, \"petal_width\": 1.2, \"species\": \"versicolor\", \"kmeans_cluster\": 0, \"PC1\": 0.4648002884037811, \"PC2\": -0.6707115445117203}, {\"sepal_length\": 6.1, \"sepal_width\": 3.0, \"petal_length\": 4.6, \"petal_width\": 1.4, \"species\": \"versicolor\", \"kmeans_cluster\": 0, \"PC1\": 0.8908151984694513, \"PC2\": -0.034464444368268635}, {\"sepal_length\": 5.8, \"sepal_width\": 2.6, \"petal_length\": 4.0, \"petal_width\": 1.2, \"species\": \"versicolor\", \"kmeans_cluster\": 0, \"PC1\": 0.2305480235594573, \"PC2\": -0.4043858480073251}, {\"sepal_length\": 5.0, \"sepal_width\": 2.3, \"petal_length\": 3.3, \"petal_width\": 1.0, \"species\": \"versicolor\", \"kmeans_cluster\": 0, \"PC1\": -0.7045317592446619, \"PC2\": -1.0122482275317146}, {\"sepal_length\": 5.6, \"sepal_width\": 2.7, \"petal_length\": 4.2, \"petal_width\": 1.3, \"species\": \"versicolor\", \"kmeans_cluster\": 0, \"PC1\": 0.35698149470104884, \"PC2\": -0.5049100933371085}, {\"sepal_length\": 5.7, \"sepal_width\": 3.0, \"petal_length\": 4.2, \"petal_width\": 1.2, \"species\": \"versicolor\", \"kmeans_cluster\": 0, \"PC1\": 0.3319344799450603, \"PC2\": -0.21265468378116967}, {\"sepal_length\": 5.7, \"sepal_width\": 2.9, \"petal_length\": 4.2, \"petal_width\": 1.3, \"species\": \"versicolor\", \"kmeans_cluster\": 0, \"PC1\": 0.3762156510666724, \"PC2\": -0.2932189292514188}, {\"sepal_length\": 6.2, \"sepal_width\": 2.9, \"petal_length\": 4.3, \"petal_width\": 1.3, \"species\": \"versicolor\", \"kmeans_cluster\": 0, \"PC1\": 0.64257600755434, \"PC2\": 0.017738190112416535}, {\"sepal_length\": 5.1, \"sepal_width\": 2.5, \"petal_length\": 3.0, \"petal_width\": 1.1, \"species\": \"versicolor\", \"kmeans_cluster\": 0, \"PC1\": -0.9064698649488343, \"PC2\": -0.7560933665990142}, {\"sepal_length\": 5.7, \"sepal_width\": 2.8, \"petal_length\": 4.1, \"petal_width\": 1.3, \"species\": \"versicolor\", \"kmeans_cluster\": 0, \"PC1\": 0.29900084187814524, \"PC2\": -0.3488978064503358}, {\"sepal_length\": 6.3, \"sepal_width\": 3.3, \"petal_length\": 6.0, \"petal_width\": 2.5, \"species\": \"virginica\", \"kmeans_cluster\": 2, \"PC1\": 2.53119272780363, \"PC2\": -0.009849109498801816}, {\"sepal_length\": 5.8, \"sepal_width\": 2.7, \"petal_length\": 5.1, \"petal_width\": 1.9, \"species\": \"virginica\", \"kmeans_cluster\": 0, \"PC1\": 1.4152358767039046, \"PC2\": -0.5749163475464895}, {\"sepal_length\": 7.1, \"sepal_width\": 3.0, \"petal_length\": 5.9, \"petal_width\": 2.1, \"species\": \"virginica\", \"kmeans_cluster\": 2, \"PC1\": 2.6166760159956923, \"PC2\": 0.34390315134173455}, {\"sepal_length\": 6.3, \"sepal_width\": 2.9, \"petal_length\": 5.6, \"petal_width\": 1.8, \"species\": \"virginica\", \"kmeans_cluster\": 2, \"PC1\": 1.9715310530434376, \"PC2\": -0.1797279043522453}, {\"sepal_length\": 6.5, \"sepal_width\": 3.0, \"petal_length\": 5.8, \"petal_width\": 2.2, \"species\": \"virginica\", \"kmeans_cluster\": 2, \"PC1\": 2.3500059200446426, \"PC2\": -0.040260947142530965}, {\"sepal_length\": 7.6, \"sepal_width\": 3.0, \"petal_length\": 6.6, \"petal_width\": 2.1, \"species\": \"virginica\", \"kmeans_cluster\": 2, \"PC1\": 3.397038736053262, \"PC2\": 0.5508366730280557}, {\"sepal_length\": 4.9, \"sepal_width\": 2.5, \"petal_length\": 4.5, \"petal_width\": 1.7, \"species\": \"virginica\", \"kmeans_cluster\": 0, \"PC1\": 0.5212322439097756, \"PC2\": -1.1927587270006454}, {\"sepal_length\": 7.3, \"sepal_width\": 2.9, \"petal_length\": 6.3, \"petal_width\": 1.8, \"species\": \"virginica\", \"kmeans_cluster\": 2, \"PC1\": 2.9325870689936915, \"PC2\": 0.3555000029774966}, {\"sepal_length\": 6.7, \"sepal_width\": 2.5, \"petal_length\": 5.8, \"petal_width\": 1.8, \"species\": \"virginica\", \"kmeans_cluster\": 2, \"PC1\": 2.32122881657338, \"PC2\": -0.24383150231069073}, {\"sepal_length\": 7.2, \"sepal_width\": 3.6, \"petal_length\": 6.1, \"petal_width\": 2.5, \"species\": \"virginica\", \"kmeans_cluster\": 2, \"PC1\": 2.9167509667860747, \"PC2\": 0.7827919488152788}, {\"sepal_length\": 6.5, \"sepal_width\": 3.2, \"petal_length\": 5.1, \"petal_width\": 2.0, \"species\": \"virginica\", \"kmeans_cluster\": 2, \"PC1\": 1.6617741536365338, \"PC2\": 0.24222840775506727}, {\"sepal_length\": 6.4, \"sepal_width\": 2.7, \"petal_length\": 5.3, \"petal_width\": 1.9, \"species\": \"virginica\", \"kmeans_cluster\": 2, \"PC1\": 1.8034019529650933, \"PC2\": -0.21563761733355535}, {\"sepal_length\": 6.8, \"sepal_width\": 3.0, \"petal_length\": 5.5, \"petal_width\": 2.1, \"species\": \"virginica\", \"kmeans_cluster\": 2, \"PC1\": 2.1655917960801476, \"PC2\": 0.21627558507402495}, {\"sepal_length\": 5.7, \"sepal_width\": 2.5, \"petal_length\": 5.0, \"petal_width\": 2.0, \"species\": \"virginica\", \"kmeans_cluster\": 0, \"PC1\": 1.3461635794584532, \"PC2\": -0.7768183473443395}, {\"sepal_length\": 5.8, \"sepal_width\": 2.8, \"petal_length\": 5.1, \"petal_width\": 2.4, \"species\": \"virginica\", \"kmeans_cluster\": 0, \"PC1\": 1.5859282238732233, \"PC2\": -0.5396407140267188}, {\"sepal_length\": 6.4, \"sepal_width\": 3.2, \"petal_length\": 5.3, \"petal_width\": 2.3, \"species\": \"virginica\", \"kmeans_cluster\": 2, \"PC1\": 1.9044563747934289, \"PC2\": 0.1192506920919729}, {\"sepal_length\": 6.5, \"sepal_width\": 3.0, \"petal_length\": 5.5, \"petal_width\": 1.8, \"species\": \"virginica\", \"kmeans_cluster\": 2, \"PC1\": 1.9496890593990717, \"PC2\": 0.04194325966321156}, {\"sepal_length\": 7.7, \"sepal_width\": 3.8, \"petal_length\": 6.7, \"petal_width\": 2.2, \"species\": \"virginica\", \"kmeans_cluster\": 2, \"PC1\": 3.487055364290282, \"PC2\": 1.1757393297134298}, {\"sepal_length\": 7.7, \"sepal_width\": 2.6, \"petal_length\": 6.9, \"petal_width\": 2.3, \"species\": \"virginica\", \"kmeans_cluster\": 2, \"PC1\": 3.7956454220728855, \"PC2\": 0.2573229734204796}, {\"sepal_length\": 6.0, \"sepal_width\": 2.2, \"petal_length\": 5.0, \"petal_width\": 1.5, \"species\": \"virginica\", \"kmeans_cluster\": 0, \"PC1\": 1.3007917126376594, \"PC2\": -0.7611496364350634}, {\"sepal_length\": 6.9, \"sepal_width\": 3.2, \"petal_length\": 5.7, \"petal_width\": 2.3, \"species\": \"virginica\", \"kmeans_cluster\": 2, \"PC1\": 2.4278179130660478, \"PC2\": 0.37819601261705094}, {\"sepal_length\": 5.6, \"sepal_width\": 2.8, \"petal_length\": 4.9, \"petal_width\": 2.0, \"species\": \"virginica\", \"kmeans_cluster\": 0, \"PC1\": 1.1990011054655627, \"PC2\": -0.6060915277579306}, {\"sepal_length\": 7.7, \"sepal_width\": 2.8, \"petal_length\": 6.7, \"petal_width\": 2.0, \"species\": \"virginica\", \"kmeans_cluster\": 2, \"PC1\": 3.49992003892454, \"PC2\": 0.46067409891189526}, {\"sepal_length\": 6.3, \"sepal_width\": 2.7, \"petal_length\": 4.9, \"petal_width\": 1.8, \"species\": \"virginica\", \"kmeans_cluster\": 0, \"PC1\": 1.3887661316914672, \"PC2\": -0.2043993273521508}, {\"sepal_length\": 6.7, \"sepal_width\": 3.3, \"petal_length\": 5.7, \"petal_width\": 2.1, \"species\": \"virginica\", \"kmeans_cluster\": 2, \"PC1\": 2.275430503872207, \"PC2\": 0.3349906058216776}, {\"sepal_length\": 7.2, \"sepal_width\": 3.2, \"petal_length\": 6.0, \"petal_width\": 1.8, \"species\": \"virginica\", \"kmeans_cluster\": 2, \"PC1\": 2.6140904738108337, \"PC2\": 0.5609013551230783}, {\"sepal_length\": 6.2, \"sepal_width\": 2.8, \"petal_length\": 4.8, \"petal_width\": 1.8, \"species\": \"virginica\", \"kmeans_cluster\": 0, \"PC1\": 1.2585081605114898, \"PC2\": -0.17970479472274653}, {\"sepal_length\": 6.1, \"sepal_width\": 3.0, \"petal_length\": 4.9, \"petal_width\": 1.8, \"species\": \"virginica\", \"kmeans_cluster\": 0, \"PC1\": 1.291132059115023, \"PC2\": -0.11666865117401132}, {\"sepal_length\": 6.4, \"sepal_width\": 2.8, \"petal_length\": 5.6, \"petal_width\": 2.1, \"species\": \"virginica\", \"kmeans_cluster\": 2, \"PC1\": 2.123608722773897, \"PC2\": -0.20972947667730266}, {\"sepal_length\": 7.2, \"sepal_width\": 3.0, \"petal_length\": 5.8, \"petal_width\": 1.6, \"species\": \"virginica\", \"kmeans_cluster\": 2, \"PC1\": 2.38800301600347, \"PC2\": 0.4646398047087367}, {\"sepal_length\": 7.4, \"sepal_width\": 2.8, \"petal_length\": 6.1, \"petal_width\": 1.9, \"species\": \"virginica\", \"kmeans_cluster\": 2, \"PC1\": 2.841672778103873, \"PC2\": 0.37526916719510356}, {\"sepal_length\": 7.9, \"sepal_width\": 3.8, \"petal_length\": 6.4, \"petal_width\": 2.0, \"species\": \"virginica\", \"kmeans_cluster\": 2, \"PC1\": 3.2306736614320952, \"PC2\": 1.3741650867930482}, {\"sepal_length\": 6.4, \"sepal_width\": 2.8, \"petal_length\": 5.6, \"petal_width\": 2.2, \"species\": \"virginica\", \"kmeans_cluster\": 2, \"PC1\": 2.1594376424890522, \"PC2\": -0.21727757866904904}, {\"sepal_length\": 6.3, \"sepal_width\": 2.8, \"petal_length\": 5.1, \"petal_width\": 1.5, \"species\": \"virginica\", \"kmeans_cluster\": 0, \"PC1\": 1.4441612423295116, \"PC2\": -0.14341341045758058}, {\"sepal_length\": 6.1, \"sepal_width\": 2.6, \"petal_length\": 5.6, \"petal_width\": 1.4, \"species\": \"virginica\", \"kmeans_cluster\": 2, \"PC1\": 1.7812948100451143, \"PC2\": -0.49990168107813643}, {\"sepal_length\": 7.7, \"sepal_width\": 3.0, \"petal_length\": 6.1, \"petal_width\": 2.3, \"species\": \"virginica\", \"kmeans_cluster\": 2, \"PC1\": 3.0764999316871897, \"PC2\": 0.6880856775711761}, {\"sepal_length\": 6.3, \"sepal_width\": 3.4, \"petal_length\": 5.6, \"petal_width\": 2.4, \"species\": \"virginica\", \"kmeans_cluster\": 2, \"PC1\": 2.144243314302084, \"PC2\": 0.14006420108979026}, {\"sepal_length\": 6.4, \"sepal_width\": 3.1, \"petal_length\": 5.5, \"petal_width\": 1.8, \"species\": \"virginica\", \"kmeans_cluster\": 2, \"PC1\": 1.9050981488140784, \"PC2\": 0.04930052601303041}, {\"sepal_length\": 6.0, \"sepal_width\": 3.0, \"petal_length\": 4.8, \"petal_width\": 1.8, \"species\": \"virginica\", \"kmeans_cluster\": 0, \"PC1\": 1.1693263393415023, \"PC2\": -0.16499026202310949}, {\"sepal_length\": 6.9, \"sepal_width\": 3.1, \"petal_length\": 5.4, \"petal_width\": 2.1, \"species\": \"virginica\", \"kmeans_cluster\": 2, \"PC1\": 2.1076111432572446, \"PC2\": 0.3722878719607979}, {\"sepal_length\": 6.7, \"sepal_width\": 3.1, \"petal_length\": 5.6, \"petal_width\": 2.4, \"species\": \"virginica\", \"kmeans_cluster\": 2, \"PC1\": 2.314154705235602, \"PC2\": 0.18365127916901905}, {\"sepal_length\": 6.9, \"sepal_width\": 3.1, \"petal_length\": 5.1, \"petal_width\": 2.3, \"species\": \"virginica\", \"kmeans_cluster\": 2, \"PC1\": 1.922267800902603, \"PC2\": 0.40920346681606246}, {\"sepal_length\": 5.8, \"sepal_width\": 2.7, \"petal_length\": 5.1, \"petal_width\": 1.9, \"species\": \"virginica\", \"kmeans_cluster\": 0, \"PC1\": 1.4152358767039046, \"PC2\": -0.5749163475464895}, {\"sepal_length\": 6.8, \"sepal_width\": 3.2, \"petal_length\": 5.9, \"petal_width\": 2.3, \"species\": \"virginica\", \"kmeans_cluster\": 2, \"PC1\": 2.5630133750774777, \"PC2\": 0.277862602929195}, {\"sepal_length\": 6.7, \"sepal_width\": 3.3, \"petal_length\": 5.7, \"petal_width\": 2.5, \"species\": \"virginica\", \"kmeans_cluster\": 2, \"PC1\": 2.418746182732827, \"PC2\": 0.3047981978546921}, {\"sepal_length\": 6.7, \"sepal_width\": 3.0, \"petal_length\": 5.2, \"petal_width\": 2.3, \"species\": \"virginica\", \"kmeans_cluster\": 2, \"PC1\": 1.9441097945469699, \"PC2\": 0.18753230280060532}, {\"sepal_length\": 6.3, \"sepal_width\": 2.5, \"petal_length\": 5.0, \"petal_width\": 1.9, \"species\": \"virginica\", \"kmeans_cluster\": 0, \"PC1\": 1.5271666148145193, \"PC2\": -0.3753169825804884}, {\"sepal_length\": 6.5, \"sepal_width\": 3.0, \"petal_length\": 5.2, \"petal_width\": 2.0, \"species\": \"virginica\", \"kmeans_cluster\": 2, \"PC1\": 1.7643457170444314, \"PC2\": 0.07885885451847592}, {\"sepal_length\": 6.2, \"sepal_width\": 3.4, \"petal_length\": 5.4, \"petal_width\": 2.3, \"species\": \"virginica\", \"kmeans_cluster\": 2, \"PC1\": 1.900941614218426, \"PC2\": 0.11662795851202372}, {\"sepal_length\": 5.9, \"sepal_width\": 3.0, \"petal_length\": 5.1, \"petal_width\": 1.8, \"species\": \"virginica\", \"kmeans_cluster\": 0, \"PC1\": 1.3901888619479161, \"PC2\": -0.2826609379905505}]}}, {\"mode\": \"vega-lite\"});\n",
       "</script>"
      ],
      "text/plain": [
       "alt.Chart(...)"
      ]
     },
     "execution_count": 27,
     "metadata": {},
     "output_type": "execute_result"
    }
   ],
   "source": [
    "c1 = alt.Chart(df).mark_circle(size = 60).encode(\n",
    "    x = 'PC1',\n",
    "    y = 'PC2',\n",
    "    color = alt.Color('kmeans_cluster:N', scale = alt.Scale(scheme='set1')),\n",
    "    tooltip = ['kmeans_cluster:N']\n",
    ").properties(\n",
    "    title = 'K-means clustering'\n",
    ")\n",
    "c1"
   ]
  },
  {
   "cell_type": "code",
   "execution_count": null,
   "metadata": {
    "cell_id": "53554706b3df457bbf9218d0e2dd4449",
    "deepnote_cell_type": "code",
    "deepnote_to_be_reexecuted": false,
    "execution_millis": 48,
    "execution_start": 1701293313594,
    "source_hash": null
   },
   "outputs": [
    {
     "data": {
      "text/html": [
       "\n",
       "<div id=\"altair-viz-bc1ffa7d798843a2871a5982368395b9\"></div>\n",
       "<script type=\"text/javascript\">\n",
       "  var VEGA_DEBUG = (typeof VEGA_DEBUG == \"undefined\") ? {} : VEGA_DEBUG;\n",
       "  (function(spec, embedOpt){\n",
       "    let outputDiv = document.currentScript.previousElementSibling;\n",
       "    if (outputDiv.id !== \"altair-viz-bc1ffa7d798843a2871a5982368395b9\") {\n",
       "      outputDiv = document.getElementById(\"altair-viz-bc1ffa7d798843a2871a5982368395b9\");\n",
       "    }\n",
       "    const paths = {\n",
       "      \"vega\": \"https://cdn.jsdelivr.net/npm//vega@5?noext\",\n",
       "      \"vega-lib\": \"https://cdn.jsdelivr.net/npm//vega-lib?noext\",\n",
       "      \"vega-lite\": \"https://cdn.jsdelivr.net/npm//vega-lite@4.17.0?noext\",\n",
       "      \"vega-embed\": \"https://cdn.jsdelivr.net/npm//vega-embed@6?noext\",\n",
       "    };\n",
       "\n",
       "    function maybeLoadScript(lib, version) {\n",
       "      var key = `${lib.replace(\"-\", \"\")}_version`;\n",
       "      return (VEGA_DEBUG[key] == version) ?\n",
       "        Promise.resolve(paths[lib]) :\n",
       "        new Promise(function(resolve, reject) {\n",
       "          var s = document.createElement('script');\n",
       "          document.getElementsByTagName(\"head\")[0].appendChild(s);\n",
       "          s.async = true;\n",
       "          s.onload = () => {\n",
       "            VEGA_DEBUG[key] = version;\n",
       "            return resolve(paths[lib]);\n",
       "          };\n",
       "          s.onerror = () => reject(`Error loading script: ${paths[lib]}`);\n",
       "          s.src = paths[lib];\n",
       "        });\n",
       "    }\n",
       "\n",
       "    function showError(err) {\n",
       "      outputDiv.innerHTML = `<div class=\"error\" style=\"color:red;\">${err}</div>`;\n",
       "      throw err;\n",
       "    }\n",
       "\n",
       "    function displayChart(vegaEmbed) {\n",
       "      vegaEmbed(outputDiv, spec, embedOpt)\n",
       "        .catch(err => showError(`Javascript Error: ${err.message}<br>This usually means there's a typo in your chart specification. See the javascript console for the full traceback.`));\n",
       "    }\n",
       "\n",
       "    if(typeof define === \"function\" && define.amd) {\n",
       "      requirejs.config({paths});\n",
       "      require([\"vega-embed\"], displayChart, err => showError(`Error loading script: ${err.message}`));\n",
       "    } else {\n",
       "      maybeLoadScript(\"vega\", \"5\")\n",
       "        .then(() => maybeLoadScript(\"vega-lite\", \"4.17.0\"))\n",
       "        .then(() => maybeLoadScript(\"vega-embed\", \"6\"))\n",
       "        .catch(showError)\n",
       "        .then(() => displayChart(vegaEmbed));\n",
       "    }\n",
       "  })({\"config\": {\"view\": {\"continuousWidth\": 400, \"continuousHeight\": 300}}, \"data\": {\"name\": \"data-26e70527714a8290ce6f0e3a8a5ebbc5\"}, \"mark\": {\"type\": \"circle\", \"size\": 60}, \"encoding\": {\"color\": {\"field\": \"species\", \"scale\": {\"scheme\": \"set1\"}, \"type\": \"nominal\"}, \"tooltip\": [{\"field\": \"species\", \"type\": \"nominal\"}], \"x\": {\"field\": \"PC1\", \"type\": \"quantitative\"}, \"y\": {\"field\": \"PC2\", \"type\": \"quantitative\"}}, \"title\": \"Species\", \"$schema\": \"https://vega.github.io/schema/vega-lite/v4.17.0.json\", \"datasets\": {\"data-26e70527714a8290ce6f0e3a8a5ebbc5\": [{\"sepal_length\": 5.1, \"sepal_width\": 3.5, \"petal_length\": 1.4, \"petal_width\": 0.2, \"species\": \"setosa\", \"kmeans_cluster\": 1, \"PC1\": -2.684125625969541, \"PC2\": 0.3193972465851031}, {\"sepal_length\": 4.9, \"sepal_width\": 3.0, \"petal_length\": 1.4, \"petal_width\": 0.2, \"species\": \"setosa\", \"kmeans_cluster\": 1, \"PC1\": -2.7141416872943274, \"PC2\": -0.17700122506477925}, {\"sepal_length\": 4.7, \"sepal_width\": 3.2, \"petal_length\": 1.3, \"petal_width\": 0.2, \"species\": \"setosa\", \"kmeans_cluster\": 1, \"PC1\": -2.888990569059296, \"PC2\": -0.14494942608555722}, {\"sepal_length\": 4.6, \"sepal_width\": 3.1, \"petal_length\": 1.5, \"petal_width\": 0.2, \"species\": \"setosa\", \"kmeans_cluster\": 1, \"PC1\": -2.745342855641409, \"PC2\": -0.31829897925191586}, {\"sepal_length\": 5.0, \"sepal_width\": 3.6, \"petal_length\": 1.4, \"petal_width\": 0.2, \"species\": \"setosa\", \"kmeans_cluster\": 1, \"PC1\": -2.7287165365545287, \"PC2\": 0.32675451293492047}, {\"sepal_length\": 5.4, \"sepal_width\": 3.9, \"petal_length\": 1.7, \"petal_width\": 0.4, \"species\": \"setosa\", \"kmeans_cluster\": 1, \"PC1\": -2.2808596328444914, \"PC2\": 0.7413304490629157}, {\"sepal_length\": 4.6, \"sepal_width\": 3.4, \"petal_length\": 1.4, \"petal_width\": 0.3, \"species\": \"setosa\", \"kmeans_cluster\": 1, \"PC1\": -2.820537750740608, \"PC2\": -0.08946138452856846}, {\"sepal_length\": 5.0, \"sepal_width\": 3.4, \"petal_length\": 1.5, \"petal_width\": 0.2, \"species\": \"setosa\", \"kmeans_cluster\": 1, \"PC1\": -2.6261449731466318, \"PC2\": 0.16338495969832917}, {\"sepal_length\": 4.4, \"sepal_width\": 2.9, \"petal_length\": 1.4, \"petal_width\": 0.2, \"species\": \"setosa\", \"kmeans_cluster\": 1, \"PC1\": -2.8863827317805524, \"PC2\": -0.5783117541867038}, {\"sepal_length\": 4.9, \"sepal_width\": 3.1, \"petal_length\": 1.5, \"petal_width\": 0.1, \"species\": \"setosa\", \"kmeans_cluster\": 1, \"PC1\": -2.672755797820953, \"PC2\": -0.11377424587411651}, {\"sepal_length\": 5.4, \"sepal_width\": 3.7, \"petal_length\": 1.5, \"petal_width\": 0.2, \"species\": \"setosa\", \"kmeans_cluster\": 1, \"PC1\": -2.5069470906518547, \"PC2\": 0.6450688986485744}, {\"sepal_length\": 4.8, \"sepal_width\": 3.4, \"petal_length\": 1.6, \"petal_width\": 0.2, \"species\": \"setosa\", \"kmeans_cluster\": 1, \"PC1\": -2.612755230908722, \"PC2\": 0.014729939161374953}, {\"sepal_length\": 4.8, \"sepal_width\": 3.0, \"petal_length\": 1.4, \"petal_width\": 0.1, \"species\": \"setosa\", \"kmeans_cluster\": 1, \"PC1\": -2.786109266188017, \"PC2\": -0.23511200020171813}, {\"sepal_length\": 4.3, \"sepal_width\": 3.0, \"petal_length\": 1.1, \"petal_width\": 0.1, \"species\": \"setosa\", \"kmeans_cluster\": 1, \"PC1\": -3.223803743865651, \"PC2\": -0.511394587006382}, {\"sepal_length\": 5.8, \"sepal_width\": 4.0, \"petal_length\": 1.2, \"petal_width\": 0.2, \"species\": \"setosa\", \"kmeans_cluster\": 1, \"PC1\": -2.644750389942029, \"PC2\": 1.1787646364375761}, {\"sepal_length\": 5.7, \"sepal_width\": 4.4, \"petal_length\": 1.5, \"petal_width\": 0.4, \"species\": \"setosa\", \"kmeans_cluster\": 1, \"PC1\": -2.386039033531132, \"PC2\": 1.3380623304006534}, {\"sepal_length\": 5.4, \"sepal_width\": 3.9, \"petal_length\": 1.3, \"petal_width\": 0.4, \"species\": \"setosa\", \"kmeans_cluster\": 1, \"PC1\": -2.623527875224425, \"PC2\": 0.8106795141812584}, {\"sepal_length\": 5.1, \"sepal_width\": 3.5, \"petal_length\": 1.4, \"petal_width\": 0.3, \"species\": \"setosa\", \"kmeans_cluster\": 1, \"PC1\": -2.6482967062543805, \"PC2\": 0.3118491445933553}, {\"sepal_length\": 5.7, \"sepal_width\": 3.8, \"petal_length\": 1.7, \"petal_width\": 0.3, \"species\": \"setosa\", \"kmeans_cluster\": 1, \"PC1\": -2.199820323617579, \"PC2\": 0.8728390389622118}, {\"sepal_length\": 5.1, \"sepal_width\": 3.8, \"petal_length\": 1.5, \"petal_width\": 0.3, \"species\": \"setosa\", \"kmeans_cluster\": 1, \"PC1\": -2.5879863998787673, \"PC2\": 0.5135603087492776}, {\"sepal_length\": 5.4, \"sepal_width\": 3.4, \"petal_length\": 1.7, \"petal_width\": 0.2, \"species\": \"setosa\", \"kmeans_cluster\": 1, \"PC1\": -2.3102562152425175, \"PC2\": 0.39134593565389486}, {\"sepal_length\": 5.1, \"sepal_width\": 3.7, \"petal_length\": 1.5, \"petal_width\": 0.4, \"species\": \"setosa\", \"kmeans_cluster\": 1, \"PC1\": -2.5437052287571555, \"PC2\": 0.43299606327902873}, {\"sepal_length\": 4.6, \"sepal_width\": 3.6, \"petal_length\": 1.0, \"petal_width\": 0.2, \"species\": \"setosa\", \"kmeans_cluster\": 1, \"PC1\": -3.2159394156486107, \"PC2\": 0.13346806953852625}, {\"sepal_length\": 5.1, \"sepal_width\": 3.3, \"petal_length\": 1.7, \"petal_width\": 0.5, \"species\": \"setosa\", \"kmeans_cluster\": 1, \"PC1\": -2.3027331822262065, \"PC2\": 0.09870885481409995}, {\"sepal_length\": 4.8, \"sepal_width\": 3.4, \"petal_length\": 1.9, \"petal_width\": 0.2, \"species\": \"setosa\", \"kmeans_cluster\": 1, \"PC1\": -2.355754049123772, \"PC2\": -0.03728185967738212}, {\"sepal_length\": 5.0, \"sepal_width\": 3.0, \"petal_length\": 1.6, \"petal_width\": 0.2, \"species\": \"setosa\", \"kmeans_cluster\": 1, \"PC1\": -2.5066689069258206, \"PC2\": -0.14601688049526743}, {\"sepal_length\": 5.0, \"sepal_width\": 3.4, \"petal_length\": 1.6, \"petal_width\": 0.4, \"species\": \"setosa\", \"kmeans_cluster\": 1, \"PC1\": -2.468820073121338, \"PC2\": 0.13095148943525073}, {\"sepal_length\": 5.2, \"sepal_width\": 3.5, \"petal_length\": 1.5, \"petal_width\": 0.2, \"species\": \"setosa\", \"kmeans_cluster\": 1, \"PC1\": -2.562319906196015, \"PC2\": 0.3677188574342005}, {\"sepal_length\": 5.2, \"sepal_width\": 3.4, \"petal_length\": 1.4, \"petal_width\": 0.2, \"species\": \"setosa\", \"kmeans_cluster\": 1, \"PC1\": -2.6395347153845417, \"PC2\": 0.3120399802352835}, {\"sepal_length\": 4.7, \"sepal_width\": 3.2, \"petal_length\": 1.6, \"petal_width\": 0.2, \"species\": \"setosa\", \"kmeans_cluster\": 1, \"PC1\": -2.6319893872743454, \"PC2\": -0.1969612249243143}, {\"sepal_length\": 4.8, \"sepal_width\": 3.1, \"petal_length\": 1.6, \"petal_width\": 0.2, \"species\": \"setosa\", \"kmeans_cluster\": 1, \"PC1\": -2.5873984766893514, \"PC2\": -0.20431849127413315}, {\"sepal_length\": 5.4, \"sepal_width\": 3.4, \"petal_length\": 1.5, \"petal_width\": 0.4, \"species\": \"setosa\", \"kmeans_cluster\": 1, \"PC1\": -2.409932497002174, \"PC2\": 0.41092426422957334}, {\"sepal_length\": 5.2, \"sepal_width\": 4.1, \"petal_length\": 1.5, \"petal_width\": 0.1, \"species\": \"setosa\", \"kmeans_cluster\": 1, \"PC1\": -2.648862334349911, \"PC2\": 0.813363820296963}, {\"sepal_length\": 5.5, \"sepal_width\": 4.2, \"petal_length\": 1.4, \"petal_width\": 0.2, \"species\": \"setosa\", \"kmeans_cluster\": 1, \"PC1\": -2.5987367491005857, \"PC2\": 1.0931457594493577}, {\"sepal_length\": 4.9, \"sepal_width\": 3.1, \"petal_length\": 1.5, \"petal_width\": 0.2, \"species\": \"setosa\", \"kmeans_cluster\": 1, \"PC1\": -2.6369268781057977, \"PC2\": -0.12132234786586286}, {\"sepal_length\": 5.0, \"sepal_width\": 3.2, \"petal_length\": 1.2, \"petal_width\": 0.2, \"species\": \"setosa\", \"kmeans_cluster\": 1, \"PC1\": -2.866241652118669, \"PC2\": 0.06936447158008105}, {\"sepal_length\": 5.5, \"sepal_width\": 3.5, \"petal_length\": 1.3, \"petal_width\": 0.2, \"species\": \"setosa\", \"kmeans_cluster\": 1, \"PC1\": -2.625238049850371, \"PC2\": 0.5993700213794242}, {\"sepal_length\": 4.9, \"sepal_width\": 3.6, \"petal_length\": 1.4, \"petal_width\": 0.1, \"species\": \"setosa\", \"kmeans_cluster\": 1, \"PC1\": -2.8006841154482207, \"PC2\": 0.26864373779798284}, {\"sepal_length\": 4.4, \"sepal_width\": 3.0, \"petal_length\": 1.3, \"petal_width\": 0.2, \"species\": \"setosa\", \"kmeans_cluster\": 1, \"PC1\": -2.9805020437819927, \"PC2\": -0.4879583444286153}, {\"sepal_length\": 5.1, \"sepal_width\": 3.4, \"petal_length\": 1.5, \"petal_width\": 0.2, \"species\": \"setosa\", \"kmeans_cluster\": 1, \"PC1\": -2.5900063139680944, \"PC2\": 0.22904383682701318}, {\"sepal_length\": 5.0, \"sepal_width\": 3.5, \"petal_length\": 1.3, \"petal_width\": 0.3, \"species\": \"setosa\", \"kmeans_cluster\": 1, \"PC1\": -2.7701024260279006, \"PC2\": 0.263527533744257}, {\"sepal_length\": 4.5, \"sepal_width\": 2.3, \"petal_length\": 1.3, \"petal_width\": 0.3, \"species\": \"setosa\", \"kmeans_cluster\": 1, \"PC1\": -2.8493687050431022, \"PC2\": -0.9409605736411968}, {\"sepal_length\": 4.4, \"sepal_width\": 3.2, \"petal_length\": 1.3, \"petal_width\": 0.2, \"species\": \"setosa\", \"kmeans_cluster\": 1, \"PC1\": -2.997406546594907, \"PC2\": -0.34192605747160976}, {\"sepal_length\": 5.0, \"sepal_width\": 3.5, \"petal_length\": 1.6, \"petal_width\": 0.6, \"species\": \"setosa\", \"kmeans_cluster\": 1, \"PC1\": -2.4056144850974843, \"PC2\": 0.18887142893026088}, {\"sepal_length\": 5.1, \"sepal_width\": 3.8, \"petal_length\": 1.9, \"petal_width\": 0.4, \"species\": \"setosa\", \"kmeans_cluster\": 1, \"PC1\": -2.2094892377836786, \"PC2\": 0.4366631416391884}, {\"sepal_length\": 4.8, \"sepal_width\": 3.0, \"petal_length\": 1.4, \"petal_width\": 0.3, \"species\": \"setosa\", \"kmeans_cluster\": 1, \"PC1\": -2.714451426757707, \"PC2\": -0.2502082041852109}, {\"sepal_length\": 5.1, \"sepal_width\": 3.8, \"petal_length\": 1.6, \"petal_width\": 0.2, \"species\": \"setosa\", \"kmeans_cluster\": 1, \"PC1\": -2.538148258998939, \"PC2\": 0.5037711444614382}, {\"sepal_length\": 4.6, \"sepal_width\": 3.2, \"petal_length\": 1.4, \"petal_width\": 0.2, \"species\": \"setosa\", \"kmeans_cluster\": 1, \"PC1\": -2.839462167642849, \"PC2\": -0.22794556949382733}, {\"sepal_length\": 5.3, \"sepal_width\": 3.7, \"petal_length\": 1.5, \"petal_width\": 0.2, \"species\": \"setosa\", \"kmeans_cluster\": 1, \"PC1\": -2.543085749830392, \"PC2\": 0.5794100215198902}, {\"sepal_length\": 5.0, \"sepal_width\": 3.3, \"petal_length\": 1.4, \"petal_width\": 0.2, \"species\": \"setosa\", \"kmeans_cluster\": 1, \"PC1\": -2.7033597823351587, \"PC2\": 0.1077060824994121}, {\"sepal_length\": 7.0, \"sepal_width\": 3.2, \"petal_length\": 4.7, \"petal_width\": 1.4, \"species\": \"versicolor\", \"kmeans_cluster\": 0, \"PC1\": 1.2848256888583536, \"PC2\": 0.6851604704673091}, {\"sepal_length\": 6.4, \"sepal_width\": 3.2, \"petal_length\": 4.5, \"petal_width\": 1.5, \"species\": \"versicolor\", \"kmeans_cluster\": 0, \"PC1\": 0.9324885323123204, \"PC2\": 0.3183336382626293}, {\"sepal_length\": 6.9, \"sepal_width\": 3.1, \"petal_length\": 4.9, \"petal_width\": 1.5, \"species\": \"versicolor\", \"kmeans_cluster\": 2, \"PC1\": 1.4643023219913962, \"PC2\": 0.5042628153092046}, {\"sepal_length\": 5.5, \"sepal_width\": 2.3, \"petal_length\": 4.0, \"petal_width\": 1.3, \"species\": \"versicolor\", \"kmeans_cluster\": 0, \"PC1\": 0.1833177199583726, \"PC2\": -0.8279590118206326}, {\"sepal_length\": 6.5, \"sepal_width\": 2.8, \"petal_length\": 4.6, \"petal_width\": 1.5, \"species\": \"versicolor\", \"kmeans_cluster\": 0, \"PC1\": 1.088103257711668, \"PC2\": 0.07459067519771641}, {\"sepal_length\": 5.7, \"sepal_width\": 2.8, \"petal_length\": 4.5, \"petal_width\": 1.3, \"species\": \"versicolor\", \"kmeans_cluster\": 0, \"PC1\": 0.6416690842580796, \"PC2\": -0.4182468715686787}, {\"sepal_length\": 6.3, \"sepal_width\": 3.3, \"petal_length\": 4.7, \"petal_width\": 1.6, \"species\": \"versicolor\", \"kmeans_cluster\": 0, \"PC1\": 1.095060662632449, \"PC2\": 0.2834682700615294}, {\"sepal_length\": 4.9, \"sepal_width\": 2.4, \"petal_length\": 3.3, \"petal_width\": 1.0, \"species\": \"versicolor\", \"kmeans_cluster\": 0, \"PC1\": -0.7491226698296556, \"PC2\": -1.0048909611818955}, {\"sepal_length\": 6.6, \"sepal_width\": 2.9, \"petal_length\": 4.6, \"petal_width\": 1.3, \"species\": \"versicolor\", \"kmeans_cluster\": 0, \"PC1\": 1.0441318260534382, \"PC2\": 0.2283618997883959}, {\"sepal_length\": 5.2, \"sepal_width\": 2.7, \"petal_length\": 3.9, \"petal_width\": 1.4, \"species\": \"versicolor\", \"kmeans_cluster\": 0, \"PC1\": -0.008745404082894285, \"PC2\": -0.7230819050048343}, {\"sepal_length\": 5.0, \"sepal_width\": 2.0, \"petal_length\": 3.5, \"petal_width\": 1.0, \"species\": \"versicolor\", \"kmeans_cluster\": 0, \"PC1\": -0.5078408838353242, \"PC2\": -1.265971190526394}, {\"sepal_length\": 5.9, \"sepal_width\": 3.0, \"petal_length\": 4.2, \"petal_width\": 1.5, \"species\": \"versicolor\", \"kmeans_cluster\": 0, \"PC1\": 0.5116985574475993, \"PC2\": -0.10398123549904023}, {\"sepal_length\": 6.0, \"sepal_width\": 2.2, \"petal_length\": 4.0, \"petal_width\": 1.0, \"species\": \"versicolor\", \"kmeans_cluster\": 0, \"PC1\": 0.2649765081120483, \"PC2\": -0.5500364636804747}, {\"sepal_length\": 6.1, \"sepal_width\": 2.9, \"petal_length\": 4.7, \"petal_width\": 1.4, \"species\": \"versicolor\", \"kmeans_cluster\": 0, \"PC1\": 0.9849345104708923, \"PC2\": -0.12481785412635721}, {\"sepal_length\": 5.6, \"sepal_width\": 2.9, \"petal_length\": 3.6, \"petal_width\": 1.3, \"species\": \"versicolor\", \"kmeans_cluster\": 0, \"PC1\": -0.17392537168176606, \"PC2\": -0.2548542087025892}, {\"sepal_length\": 6.7, \"sepal_width\": 3.1, \"petal_length\": 4.4, \"petal_width\": 1.4, \"species\": \"versicolor\", \"kmeans_cluster\": 0, \"PC1\": 0.9278607809442491, \"PC2\": 0.4671794944415109}, {\"sepal_length\": 5.6, \"sepal_width\": 3.0, \"petal_length\": 4.5, \"petal_width\": 1.5, \"species\": \"versicolor\", \"kmeans_cluster\": 0, \"PC1\": 0.660283761696939, \"PC2\": -0.35296966572385036}, {\"sepal_length\": 5.8, \"sepal_width\": 2.7, \"petal_length\": 4.1, \"petal_width\": 1.0, \"species\": \"versicolor\", \"kmeans_cluster\": 0, \"PC1\": 0.2361049933176735, \"PC2\": -0.33361076682491525}, {\"sepal_length\": 6.2, \"sepal_width\": 2.2, \"petal_length\": 4.5, \"petal_width\": 1.5, \"species\": \"versicolor\", \"kmeans_cluster\": 0, \"PC1\": 0.9447337280198155, \"PC2\": -0.5431455507797666}, {\"sepal_length\": 5.6, \"sepal_width\": 2.5, \"petal_length\": 3.9, \"petal_width\": 1.1, \"species\": \"versicolor\", \"kmeans_cluster\": 0, \"PC1\": 0.04522697629870169, \"PC2\": -0.5838343774718644}, {\"sepal_length\": 5.9, \"sepal_width\": 3.2, \"petal_length\": 4.8, \"petal_width\": 1.8, \"species\": \"versicolor\", \"kmeans_cluster\": 0, \"PC1\": 1.1162831773500517, \"PC2\": -0.08461685219478782}, {\"sepal_length\": 6.1, \"sepal_width\": 2.8, \"petal_length\": 4.0, \"petal_width\": 1.3, \"species\": \"versicolor\", \"kmeans_cluster\": 0, \"PC1\": 0.3578884179973092, \"PC2\": -0.06892503165601371}, {\"sepal_length\": 6.3, \"sepal_width\": 2.5, \"petal_length\": 4.9, \"petal_width\": 1.5, \"species\": \"versicolor\", \"kmeans_cluster\": 0, \"PC1\": 1.2981838753589157, \"PC2\": -0.32778730833391734}, {\"sepal_length\": 6.1, \"sepal_width\": 2.8, \"petal_length\": 4.7, \"petal_width\": 1.2, \"species\": \"versicolor\", \"kmeans_cluster\": 0, \"PC1\": 0.9217289224470391, \"PC2\": -0.1827377936213673}, {\"sepal_length\": 6.4, \"sepal_width\": 2.9, \"petal_length\": 4.3, \"petal_width\": 1.3, \"species\": \"versicolor\", \"kmeans_cluster\": 0, \"PC1\": 0.7148533259114135, \"PC2\": 0.14905594436978506}, {\"sepal_length\": 6.6, \"sepal_width\": 3.0, \"petal_length\": 4.4, \"petal_width\": 1.4, \"species\": \"versicolor\", \"kmeans_cluster\": 0, \"PC1\": 0.9001743731721693, \"PC2\": 0.3285044738343237}, {\"sepal_length\": 6.8, \"sepal_width\": 2.8, \"petal_length\": 4.8, \"petal_width\": 1.4, \"species\": \"versicolor\", \"kmeans_cluster\": 0, \"PC1\": 1.3320244367220904, \"PC2\": 0.2444408760163438}, {\"sepal_length\": 6.7, \"sepal_width\": 3.0, \"petal_length\": 5.0, \"petal_width\": 1.7, \"species\": \"versicolor\", \"kmeans_cluster\": 2, \"PC1\": 1.5578021550660723, \"PC2\": 0.2674954473102549}, {\"sepal_length\": 6.0, \"sepal_width\": 2.9, \"petal_length\": 4.5, \"petal_width\": 1.5, \"species\": \"versicolor\", \"kmeans_cluster\": 0, \"PC1\": 0.8132906498175435, \"PC2\": -0.16335030068761613}, {\"sepal_length\": 5.7, \"sepal_width\": 2.6, \"petal_length\": 3.5, \"petal_width\": 1.0, \"species\": \"versicolor\", \"kmeans_cluster\": 0, \"PC1\": -0.30558377802430736, \"PC2\": -0.3682621897545878}, {\"sepal_length\": 5.5, \"sepal_width\": 2.4, \"petal_length\": 3.8, \"petal_width\": 1.1, \"species\": \"versicolor\", \"kmeans_cluster\": 0, \"PC1\": -0.06812649206836169, \"PC2\": -0.7051721317994655}, {\"sepal_length\": 5.5, \"sepal_width\": 2.4, \"petal_length\": 3.7, \"petal_width\": 1.0, \"species\": \"versicolor\", \"kmeans_cluster\": 0, \"PC1\": -0.18962247237849997, \"PC2\": -0.6802867635281336}, {\"sepal_length\": 5.8, \"sepal_width\": 2.7, \"petal_length\": 3.9, \"petal_width\": 1.2, \"species\": \"versicolor\", \"kmeans_cluster\": 0, \"PC1\": 0.1364287115580168, \"PC2\": -0.31403243824923666}, {\"sepal_length\": 6.0, \"sepal_width\": 2.7, \"petal_length\": 5.1, \"petal_width\": 1.6, \"species\": \"versicolor\", \"kmeans_cluster\": 0, \"PC1\": 1.3800264359155132, \"PC2\": -0.42095428731388185}, {\"sepal_length\": 5.4, \"sepal_width\": 3.0, \"petal_length\": 4.5, \"petal_width\": 1.5, \"species\": \"versicolor\", \"kmeans_cluster\": 0, \"PC1\": 0.5880064433398654, \"PC2\": -0.48428741998121827}, {\"sepal_length\": 6.0, \"sepal_width\": 3.4, \"petal_length\": 4.5, \"petal_width\": 1.6, \"species\": \"versicolor\", \"kmeans_cluster\": 0, \"PC1\": 0.8068583125004142, \"PC2\": 0.1941823147131512}, {\"sepal_length\": 6.7, \"sepal_width\": 3.1, \"petal_length\": 4.7, \"petal_width\": 1.5, \"species\": \"versicolor\", \"kmeans_cluster\": 0, \"PC1\": 1.2206908824443548, \"PC2\": 0.4076195936110074}, {\"sepal_length\": 6.3, \"sepal_width\": 2.3, \"petal_length\": 4.4, \"petal_width\": 1.3, \"species\": \"versicolor\", \"kmeans_cluster\": 0, \"PC1\": 0.815095235766602, \"PC2\": -0.37203705990950175}, {\"sepal_length\": 5.6, \"sepal_width\": 3.0, \"petal_length\": 4.1, \"petal_width\": 1.3, \"species\": \"versicolor\", \"kmeans_cluster\": 0, \"PC1\": 0.24595767988669426, \"PC2\": -0.2685243966220147}, {\"sepal_length\": 5.5, \"sepal_width\": 2.5, \"petal_length\": 4.0, \"petal_width\": 1.3, \"species\": \"versicolor\", \"kmeans_cluster\": 0, \"PC1\": 0.16641321714545868, \"PC2\": -0.6819267248636267}, {\"sepal_length\": 5.5, \"sepal_width\": 2.6, \"petal_length\": 4.4, \"petal_width\": 1.2, \"species\": \"versicolor\", \"kmeans_cluster\": 0, \"PC1\": 0.4648002884037811, \"PC2\": -0.6707115445117203}, {\"sepal_length\": 6.1, \"sepal_width\": 3.0, \"petal_length\": 4.6, \"petal_width\": 1.4, \"species\": \"versicolor\", \"kmeans_cluster\": 0, \"PC1\": 0.8908151984694513, \"PC2\": -0.034464444368268635}, {\"sepal_length\": 5.8, \"sepal_width\": 2.6, \"petal_length\": 4.0, \"petal_width\": 1.2, \"species\": \"versicolor\", \"kmeans_cluster\": 0, \"PC1\": 0.2305480235594573, \"PC2\": -0.4043858480073251}, {\"sepal_length\": 5.0, \"sepal_width\": 2.3, \"petal_length\": 3.3, \"petal_width\": 1.0, \"species\": \"versicolor\", \"kmeans_cluster\": 0, \"PC1\": -0.7045317592446619, \"PC2\": -1.0122482275317146}, {\"sepal_length\": 5.6, \"sepal_width\": 2.7, \"petal_length\": 4.2, \"petal_width\": 1.3, \"species\": \"versicolor\", \"kmeans_cluster\": 0, \"PC1\": 0.35698149470104884, \"PC2\": -0.5049100933371085}, {\"sepal_length\": 5.7, \"sepal_width\": 3.0, \"petal_length\": 4.2, \"petal_width\": 1.2, \"species\": \"versicolor\", \"kmeans_cluster\": 0, \"PC1\": 0.3319344799450603, \"PC2\": -0.21265468378116967}, {\"sepal_length\": 5.7, \"sepal_width\": 2.9, \"petal_length\": 4.2, \"petal_width\": 1.3, \"species\": \"versicolor\", \"kmeans_cluster\": 0, \"PC1\": 0.3762156510666724, \"PC2\": -0.2932189292514188}, {\"sepal_length\": 6.2, \"sepal_width\": 2.9, \"petal_length\": 4.3, \"petal_width\": 1.3, \"species\": \"versicolor\", \"kmeans_cluster\": 0, \"PC1\": 0.64257600755434, \"PC2\": 0.017738190112416535}, {\"sepal_length\": 5.1, \"sepal_width\": 2.5, \"petal_length\": 3.0, \"petal_width\": 1.1, \"species\": \"versicolor\", \"kmeans_cluster\": 0, \"PC1\": -0.9064698649488343, \"PC2\": -0.7560933665990142}, {\"sepal_length\": 5.7, \"sepal_width\": 2.8, \"petal_length\": 4.1, \"petal_width\": 1.3, \"species\": \"versicolor\", \"kmeans_cluster\": 0, \"PC1\": 0.29900084187814524, \"PC2\": -0.3488978064503358}, {\"sepal_length\": 6.3, \"sepal_width\": 3.3, \"petal_length\": 6.0, \"petal_width\": 2.5, \"species\": \"virginica\", \"kmeans_cluster\": 2, \"PC1\": 2.53119272780363, \"PC2\": -0.009849109498801816}, {\"sepal_length\": 5.8, \"sepal_width\": 2.7, \"petal_length\": 5.1, \"petal_width\": 1.9, \"species\": \"virginica\", \"kmeans_cluster\": 0, \"PC1\": 1.4152358767039046, \"PC2\": -0.5749163475464895}, {\"sepal_length\": 7.1, \"sepal_width\": 3.0, \"petal_length\": 5.9, \"petal_width\": 2.1, \"species\": \"virginica\", \"kmeans_cluster\": 2, \"PC1\": 2.6166760159956923, \"PC2\": 0.34390315134173455}, {\"sepal_length\": 6.3, \"sepal_width\": 2.9, \"petal_length\": 5.6, \"petal_width\": 1.8, \"species\": \"virginica\", \"kmeans_cluster\": 2, \"PC1\": 1.9715310530434376, \"PC2\": -0.1797279043522453}, {\"sepal_length\": 6.5, \"sepal_width\": 3.0, \"petal_length\": 5.8, \"petal_width\": 2.2, \"species\": \"virginica\", \"kmeans_cluster\": 2, \"PC1\": 2.3500059200446426, \"PC2\": -0.040260947142530965}, {\"sepal_length\": 7.6, \"sepal_width\": 3.0, \"petal_length\": 6.6, \"petal_width\": 2.1, \"species\": \"virginica\", \"kmeans_cluster\": 2, \"PC1\": 3.397038736053262, \"PC2\": 0.5508366730280557}, {\"sepal_length\": 4.9, \"sepal_width\": 2.5, \"petal_length\": 4.5, \"petal_width\": 1.7, \"species\": \"virginica\", \"kmeans_cluster\": 0, \"PC1\": 0.5212322439097756, \"PC2\": -1.1927587270006454}, {\"sepal_length\": 7.3, \"sepal_width\": 2.9, \"petal_length\": 6.3, \"petal_width\": 1.8, \"species\": \"virginica\", \"kmeans_cluster\": 2, \"PC1\": 2.9325870689936915, \"PC2\": 0.3555000029774966}, {\"sepal_length\": 6.7, \"sepal_width\": 2.5, \"petal_length\": 5.8, \"petal_width\": 1.8, \"species\": \"virginica\", \"kmeans_cluster\": 2, \"PC1\": 2.32122881657338, \"PC2\": -0.24383150231069073}, {\"sepal_length\": 7.2, \"sepal_width\": 3.6, \"petal_length\": 6.1, \"petal_width\": 2.5, \"species\": \"virginica\", \"kmeans_cluster\": 2, \"PC1\": 2.9167509667860747, \"PC2\": 0.7827919488152788}, {\"sepal_length\": 6.5, \"sepal_width\": 3.2, \"petal_length\": 5.1, \"petal_width\": 2.0, \"species\": \"virginica\", \"kmeans_cluster\": 2, \"PC1\": 1.6617741536365338, \"PC2\": 0.24222840775506727}, {\"sepal_length\": 6.4, \"sepal_width\": 2.7, \"petal_length\": 5.3, \"petal_width\": 1.9, \"species\": \"virginica\", \"kmeans_cluster\": 2, \"PC1\": 1.8034019529650933, \"PC2\": -0.21563761733355535}, {\"sepal_length\": 6.8, \"sepal_width\": 3.0, \"petal_length\": 5.5, \"petal_width\": 2.1, \"species\": \"virginica\", \"kmeans_cluster\": 2, \"PC1\": 2.1655917960801476, \"PC2\": 0.21627558507402495}, {\"sepal_length\": 5.7, \"sepal_width\": 2.5, \"petal_length\": 5.0, \"petal_width\": 2.0, \"species\": \"virginica\", \"kmeans_cluster\": 0, \"PC1\": 1.3461635794584532, \"PC2\": -0.7768183473443395}, {\"sepal_length\": 5.8, \"sepal_width\": 2.8, \"petal_length\": 5.1, \"petal_width\": 2.4, \"species\": \"virginica\", \"kmeans_cluster\": 0, \"PC1\": 1.5859282238732233, \"PC2\": -0.5396407140267188}, {\"sepal_length\": 6.4, \"sepal_width\": 3.2, \"petal_length\": 5.3, \"petal_width\": 2.3, \"species\": \"virginica\", \"kmeans_cluster\": 2, \"PC1\": 1.9044563747934289, \"PC2\": 0.1192506920919729}, {\"sepal_length\": 6.5, \"sepal_width\": 3.0, \"petal_length\": 5.5, \"petal_width\": 1.8, \"species\": \"virginica\", \"kmeans_cluster\": 2, \"PC1\": 1.9496890593990717, \"PC2\": 0.04194325966321156}, {\"sepal_length\": 7.7, \"sepal_width\": 3.8, \"petal_length\": 6.7, \"petal_width\": 2.2, \"species\": \"virginica\", \"kmeans_cluster\": 2, \"PC1\": 3.487055364290282, \"PC2\": 1.1757393297134298}, {\"sepal_length\": 7.7, \"sepal_width\": 2.6, \"petal_length\": 6.9, \"petal_width\": 2.3, \"species\": \"virginica\", \"kmeans_cluster\": 2, \"PC1\": 3.7956454220728855, \"PC2\": 0.2573229734204796}, {\"sepal_length\": 6.0, \"sepal_width\": 2.2, \"petal_length\": 5.0, \"petal_width\": 1.5, \"species\": \"virginica\", \"kmeans_cluster\": 0, \"PC1\": 1.3007917126376594, \"PC2\": -0.7611496364350634}, {\"sepal_length\": 6.9, \"sepal_width\": 3.2, \"petal_length\": 5.7, \"petal_width\": 2.3, \"species\": \"virginica\", \"kmeans_cluster\": 2, \"PC1\": 2.4278179130660478, \"PC2\": 0.37819601261705094}, {\"sepal_length\": 5.6, \"sepal_width\": 2.8, \"petal_length\": 4.9, \"petal_width\": 2.0, \"species\": \"virginica\", \"kmeans_cluster\": 0, \"PC1\": 1.1990011054655627, \"PC2\": -0.6060915277579306}, {\"sepal_length\": 7.7, \"sepal_width\": 2.8, \"petal_length\": 6.7, \"petal_width\": 2.0, \"species\": \"virginica\", \"kmeans_cluster\": 2, \"PC1\": 3.49992003892454, \"PC2\": 0.46067409891189526}, {\"sepal_length\": 6.3, \"sepal_width\": 2.7, \"petal_length\": 4.9, \"petal_width\": 1.8, \"species\": \"virginica\", \"kmeans_cluster\": 0, \"PC1\": 1.3887661316914672, \"PC2\": -0.2043993273521508}, {\"sepal_length\": 6.7, \"sepal_width\": 3.3, \"petal_length\": 5.7, \"petal_width\": 2.1, \"species\": \"virginica\", \"kmeans_cluster\": 2, \"PC1\": 2.275430503872207, \"PC2\": 0.3349906058216776}, {\"sepal_length\": 7.2, \"sepal_width\": 3.2, \"petal_length\": 6.0, \"petal_width\": 1.8, \"species\": \"virginica\", \"kmeans_cluster\": 2, \"PC1\": 2.6140904738108337, \"PC2\": 0.5609013551230783}, {\"sepal_length\": 6.2, \"sepal_width\": 2.8, \"petal_length\": 4.8, \"petal_width\": 1.8, \"species\": \"virginica\", \"kmeans_cluster\": 0, \"PC1\": 1.2585081605114898, \"PC2\": -0.17970479472274653}, {\"sepal_length\": 6.1, \"sepal_width\": 3.0, \"petal_length\": 4.9, \"petal_width\": 1.8, \"species\": \"virginica\", \"kmeans_cluster\": 0, \"PC1\": 1.291132059115023, \"PC2\": -0.11666865117401132}, {\"sepal_length\": 6.4, \"sepal_width\": 2.8, \"petal_length\": 5.6, \"petal_width\": 2.1, \"species\": \"virginica\", \"kmeans_cluster\": 2, \"PC1\": 2.123608722773897, \"PC2\": -0.20972947667730266}, {\"sepal_length\": 7.2, \"sepal_width\": 3.0, \"petal_length\": 5.8, \"petal_width\": 1.6, \"species\": \"virginica\", \"kmeans_cluster\": 2, \"PC1\": 2.38800301600347, \"PC2\": 0.4646398047087367}, {\"sepal_length\": 7.4, \"sepal_width\": 2.8, \"petal_length\": 6.1, \"petal_width\": 1.9, \"species\": \"virginica\", \"kmeans_cluster\": 2, \"PC1\": 2.841672778103873, \"PC2\": 0.37526916719510356}, {\"sepal_length\": 7.9, \"sepal_width\": 3.8, \"petal_length\": 6.4, \"petal_width\": 2.0, \"species\": \"virginica\", \"kmeans_cluster\": 2, \"PC1\": 3.2306736614320952, \"PC2\": 1.3741650867930482}, {\"sepal_length\": 6.4, \"sepal_width\": 2.8, \"petal_length\": 5.6, \"petal_width\": 2.2, \"species\": \"virginica\", \"kmeans_cluster\": 2, \"PC1\": 2.1594376424890522, \"PC2\": -0.21727757866904904}, {\"sepal_length\": 6.3, \"sepal_width\": 2.8, \"petal_length\": 5.1, \"petal_width\": 1.5, \"species\": \"virginica\", \"kmeans_cluster\": 0, \"PC1\": 1.4441612423295116, \"PC2\": -0.14341341045758058}, {\"sepal_length\": 6.1, \"sepal_width\": 2.6, \"petal_length\": 5.6, \"petal_width\": 1.4, \"species\": \"virginica\", \"kmeans_cluster\": 2, \"PC1\": 1.7812948100451143, \"PC2\": -0.49990168107813643}, {\"sepal_length\": 7.7, \"sepal_width\": 3.0, \"petal_length\": 6.1, \"petal_width\": 2.3, \"species\": \"virginica\", \"kmeans_cluster\": 2, \"PC1\": 3.0764999316871897, \"PC2\": 0.6880856775711761}, {\"sepal_length\": 6.3, \"sepal_width\": 3.4, \"petal_length\": 5.6, \"petal_width\": 2.4, \"species\": \"virginica\", \"kmeans_cluster\": 2, \"PC1\": 2.144243314302084, \"PC2\": 0.14006420108979026}, {\"sepal_length\": 6.4, \"sepal_width\": 3.1, \"petal_length\": 5.5, \"petal_width\": 1.8, \"species\": \"virginica\", \"kmeans_cluster\": 2, \"PC1\": 1.9050981488140784, \"PC2\": 0.04930052601303041}, {\"sepal_length\": 6.0, \"sepal_width\": 3.0, \"petal_length\": 4.8, \"petal_width\": 1.8, \"species\": \"virginica\", \"kmeans_cluster\": 0, \"PC1\": 1.1693263393415023, \"PC2\": -0.16499026202310949}, {\"sepal_length\": 6.9, \"sepal_width\": 3.1, \"petal_length\": 5.4, \"petal_width\": 2.1, \"species\": \"virginica\", \"kmeans_cluster\": 2, \"PC1\": 2.1076111432572446, \"PC2\": 0.3722878719607979}, {\"sepal_length\": 6.7, \"sepal_width\": 3.1, \"petal_length\": 5.6, \"petal_width\": 2.4, \"species\": \"virginica\", \"kmeans_cluster\": 2, \"PC1\": 2.314154705235602, \"PC2\": 0.18365127916901905}, {\"sepal_length\": 6.9, \"sepal_width\": 3.1, \"petal_length\": 5.1, \"petal_width\": 2.3, \"species\": \"virginica\", \"kmeans_cluster\": 2, \"PC1\": 1.922267800902603, \"PC2\": 0.40920346681606246}, {\"sepal_length\": 5.8, \"sepal_width\": 2.7, \"petal_length\": 5.1, \"petal_width\": 1.9, \"species\": \"virginica\", \"kmeans_cluster\": 0, \"PC1\": 1.4152358767039046, \"PC2\": -0.5749163475464895}, {\"sepal_length\": 6.8, \"sepal_width\": 3.2, \"petal_length\": 5.9, \"petal_width\": 2.3, \"species\": \"virginica\", \"kmeans_cluster\": 2, \"PC1\": 2.5630133750774777, \"PC2\": 0.277862602929195}, {\"sepal_length\": 6.7, \"sepal_width\": 3.3, \"petal_length\": 5.7, \"petal_width\": 2.5, \"species\": \"virginica\", \"kmeans_cluster\": 2, \"PC1\": 2.418746182732827, \"PC2\": 0.3047981978546921}, {\"sepal_length\": 6.7, \"sepal_width\": 3.0, \"petal_length\": 5.2, \"petal_width\": 2.3, \"species\": \"virginica\", \"kmeans_cluster\": 2, \"PC1\": 1.9441097945469699, \"PC2\": 0.18753230280060532}, {\"sepal_length\": 6.3, \"sepal_width\": 2.5, \"petal_length\": 5.0, \"petal_width\": 1.9, \"species\": \"virginica\", \"kmeans_cluster\": 0, \"PC1\": 1.5271666148145193, \"PC2\": -0.3753169825804884}, {\"sepal_length\": 6.5, \"sepal_width\": 3.0, \"petal_length\": 5.2, \"petal_width\": 2.0, \"species\": \"virginica\", \"kmeans_cluster\": 2, \"PC1\": 1.7643457170444314, \"PC2\": 0.07885885451847592}, {\"sepal_length\": 6.2, \"sepal_width\": 3.4, \"petal_length\": 5.4, \"petal_width\": 2.3, \"species\": \"virginica\", \"kmeans_cluster\": 2, \"PC1\": 1.900941614218426, \"PC2\": 0.11662795851202372}, {\"sepal_length\": 5.9, \"sepal_width\": 3.0, \"petal_length\": 5.1, \"petal_width\": 1.8, \"species\": \"virginica\", \"kmeans_cluster\": 0, \"PC1\": 1.3901888619479161, \"PC2\": -0.2826609379905505}]}}, {\"mode\": \"vega-lite\"});\n",
       "</script>"
      ],
      "text/plain": [
       "alt.Chart(...)"
      ]
     },
     "execution_count": 29,
     "metadata": {},
     "output_type": "execute_result"
    }
   ],
   "source": [
    "c2 = alt.Chart(df).mark_circle(size = 60).encode(\n",
    "    x = 'PC1',\n",
    "    y = 'PC2',\n",
    "    color = alt.Color('species:N', scale = alt.Scale(scheme='set1')),\n",
    "    tooltip = ['species:N']\n",
    ").properties(\n",
    "    title = 'Species'\n",
    ")\n",
    "c2"
   ]
  },
  {
   "cell_type": "code",
   "execution_count": null,
   "metadata": {
    "cell_id": "fb2ddfeee67541d0a03e761335ffa5e2",
    "deepnote_cell_type": "code",
    "deepnote_to_be_reexecuted": false,
    "execution_millis": 47,
    "execution_start": 1701293505293,
    "source_hash": null
   },
   "outputs": [
    {
     "data": {
      "text/html": [
       "\n",
       "<div id=\"altair-viz-83017cc1eb254162a26043efc4f3c424\"></div>\n",
       "<script type=\"text/javascript\">\n",
       "  var VEGA_DEBUG = (typeof VEGA_DEBUG == \"undefined\") ? {} : VEGA_DEBUG;\n",
       "  (function(spec, embedOpt){\n",
       "    let outputDiv = document.currentScript.previousElementSibling;\n",
       "    if (outputDiv.id !== \"altair-viz-83017cc1eb254162a26043efc4f3c424\") {\n",
       "      outputDiv = document.getElementById(\"altair-viz-83017cc1eb254162a26043efc4f3c424\");\n",
       "    }\n",
       "    const paths = {\n",
       "      \"vega\": \"https://cdn.jsdelivr.net/npm//vega@5?noext\",\n",
       "      \"vega-lib\": \"https://cdn.jsdelivr.net/npm//vega-lib?noext\",\n",
       "      \"vega-lite\": \"https://cdn.jsdelivr.net/npm//vega-lite@4.17.0?noext\",\n",
       "      \"vega-embed\": \"https://cdn.jsdelivr.net/npm//vega-embed@6?noext\",\n",
       "    };\n",
       "\n",
       "    function maybeLoadScript(lib, version) {\n",
       "      var key = `${lib.replace(\"-\", \"\")}_version`;\n",
       "      return (VEGA_DEBUG[key] == version) ?\n",
       "        Promise.resolve(paths[lib]) :\n",
       "        new Promise(function(resolve, reject) {\n",
       "          var s = document.createElement('script');\n",
       "          document.getElementsByTagName(\"head\")[0].appendChild(s);\n",
       "          s.async = true;\n",
       "          s.onload = () => {\n",
       "            VEGA_DEBUG[key] = version;\n",
       "            return resolve(paths[lib]);\n",
       "          };\n",
       "          s.onerror = () => reject(`Error loading script: ${paths[lib]}`);\n",
       "          s.src = paths[lib];\n",
       "        });\n",
       "    }\n",
       "\n",
       "    function showError(err) {\n",
       "      outputDiv.innerHTML = `<div class=\"error\" style=\"color:red;\">${err}</div>`;\n",
       "      throw err;\n",
       "    }\n",
       "\n",
       "    function displayChart(vegaEmbed) {\n",
       "      vegaEmbed(outputDiv, spec, embedOpt)\n",
       "        .catch(err => showError(`Javascript Error: ${err.message}<br>This usually means there's a typo in your chart specification. See the javascript console for the full traceback.`));\n",
       "    }\n",
       "\n",
       "    if(typeof define === \"function\" && define.amd) {\n",
       "      requirejs.config({paths});\n",
       "      require([\"vega-embed\"], displayChart, err => showError(`Error loading script: ${err.message}`));\n",
       "    } else {\n",
       "      maybeLoadScript(\"vega\", \"5\")\n",
       "        .then(() => maybeLoadScript(\"vega-lite\", \"4.17.0\"))\n",
       "        .then(() => maybeLoadScript(\"vega-embed\", \"6\"))\n",
       "        .catch(showError)\n",
       "        .then(() => displayChart(vegaEmbed));\n",
       "    }\n",
       "  })({\"config\": {\"view\": {\"continuousWidth\": 400, \"continuousHeight\": 300}}, \"hconcat\": [{\"mark\": {\"type\": \"circle\", \"size\": 60}, \"encoding\": {\"color\": {\"field\": \"kmeans_cluster\", \"scale\": {\"scheme\": \"set1\"}, \"type\": \"nominal\"}, \"tooltip\": [{\"field\": \"kmeans_cluster\", \"type\": \"nominal\"}], \"x\": {\"field\": \"PC1\", \"type\": \"quantitative\"}, \"y\": {\"field\": \"PC2\", \"type\": \"quantitative\"}}, \"title\": \"K-means clustering\"}, {\"mark\": {\"type\": \"circle\", \"size\": 60}, \"encoding\": {\"color\": {\"field\": \"species\", \"scale\": {\"scheme\": \"set1\"}, \"type\": \"nominal\"}, \"tooltip\": [{\"field\": \"species\", \"type\": \"nominal\"}], \"x\": {\"field\": \"PC1\", \"type\": \"quantitative\"}, \"y\": {\"field\": \"PC2\", \"type\": \"quantitative\"}}, \"title\": \"Species\"}], \"data\": {\"name\": \"data-26e70527714a8290ce6f0e3a8a5ebbc5\"}, \"title\": \"PCA: k-means clusterting vs species label\", \"$schema\": \"https://vega.github.io/schema/vega-lite/v4.17.0.json\", \"datasets\": {\"data-26e70527714a8290ce6f0e3a8a5ebbc5\": [{\"sepal_length\": 5.1, \"sepal_width\": 3.5, \"petal_length\": 1.4, \"petal_width\": 0.2, \"species\": \"setosa\", \"kmeans_cluster\": 1, \"PC1\": -2.684125625969541, \"PC2\": 0.3193972465851031}, {\"sepal_length\": 4.9, \"sepal_width\": 3.0, \"petal_length\": 1.4, \"petal_width\": 0.2, \"species\": \"setosa\", \"kmeans_cluster\": 1, \"PC1\": -2.7141416872943274, \"PC2\": -0.17700122506477925}, {\"sepal_length\": 4.7, \"sepal_width\": 3.2, \"petal_length\": 1.3, \"petal_width\": 0.2, \"species\": \"setosa\", \"kmeans_cluster\": 1, \"PC1\": -2.888990569059296, \"PC2\": -0.14494942608555722}, {\"sepal_length\": 4.6, \"sepal_width\": 3.1, \"petal_length\": 1.5, \"petal_width\": 0.2, \"species\": \"setosa\", \"kmeans_cluster\": 1, \"PC1\": -2.745342855641409, \"PC2\": -0.31829897925191586}, {\"sepal_length\": 5.0, \"sepal_width\": 3.6, \"petal_length\": 1.4, \"petal_width\": 0.2, \"species\": \"setosa\", \"kmeans_cluster\": 1, \"PC1\": -2.7287165365545287, \"PC2\": 0.32675451293492047}, {\"sepal_length\": 5.4, \"sepal_width\": 3.9, \"petal_length\": 1.7, \"petal_width\": 0.4, \"species\": \"setosa\", \"kmeans_cluster\": 1, \"PC1\": -2.2808596328444914, \"PC2\": 0.7413304490629157}, {\"sepal_length\": 4.6, \"sepal_width\": 3.4, \"petal_length\": 1.4, \"petal_width\": 0.3, \"species\": \"setosa\", \"kmeans_cluster\": 1, \"PC1\": -2.820537750740608, \"PC2\": -0.08946138452856846}, {\"sepal_length\": 5.0, \"sepal_width\": 3.4, \"petal_length\": 1.5, \"petal_width\": 0.2, \"species\": \"setosa\", \"kmeans_cluster\": 1, \"PC1\": -2.6261449731466318, \"PC2\": 0.16338495969832917}, {\"sepal_length\": 4.4, \"sepal_width\": 2.9, \"petal_length\": 1.4, \"petal_width\": 0.2, \"species\": \"setosa\", \"kmeans_cluster\": 1, \"PC1\": -2.8863827317805524, \"PC2\": -0.5783117541867038}, {\"sepal_length\": 4.9, \"sepal_width\": 3.1, \"petal_length\": 1.5, \"petal_width\": 0.1, \"species\": \"setosa\", \"kmeans_cluster\": 1, \"PC1\": -2.672755797820953, \"PC2\": -0.11377424587411651}, {\"sepal_length\": 5.4, \"sepal_width\": 3.7, \"petal_length\": 1.5, \"petal_width\": 0.2, \"species\": \"setosa\", \"kmeans_cluster\": 1, \"PC1\": -2.5069470906518547, \"PC2\": 0.6450688986485744}, {\"sepal_length\": 4.8, \"sepal_width\": 3.4, \"petal_length\": 1.6, \"petal_width\": 0.2, \"species\": \"setosa\", \"kmeans_cluster\": 1, \"PC1\": -2.612755230908722, \"PC2\": 0.014729939161374953}, {\"sepal_length\": 4.8, \"sepal_width\": 3.0, \"petal_length\": 1.4, \"petal_width\": 0.1, \"species\": \"setosa\", \"kmeans_cluster\": 1, \"PC1\": -2.786109266188017, \"PC2\": -0.23511200020171813}, {\"sepal_length\": 4.3, \"sepal_width\": 3.0, \"petal_length\": 1.1, \"petal_width\": 0.1, \"species\": \"setosa\", \"kmeans_cluster\": 1, \"PC1\": -3.223803743865651, \"PC2\": -0.511394587006382}, {\"sepal_length\": 5.8, \"sepal_width\": 4.0, \"petal_length\": 1.2, \"petal_width\": 0.2, \"species\": \"setosa\", \"kmeans_cluster\": 1, \"PC1\": -2.644750389942029, \"PC2\": 1.1787646364375761}, {\"sepal_length\": 5.7, \"sepal_width\": 4.4, \"petal_length\": 1.5, \"petal_width\": 0.4, \"species\": \"setosa\", \"kmeans_cluster\": 1, \"PC1\": -2.386039033531132, \"PC2\": 1.3380623304006534}, {\"sepal_length\": 5.4, \"sepal_width\": 3.9, \"petal_length\": 1.3, \"petal_width\": 0.4, \"species\": \"setosa\", \"kmeans_cluster\": 1, \"PC1\": -2.623527875224425, \"PC2\": 0.8106795141812584}, {\"sepal_length\": 5.1, \"sepal_width\": 3.5, \"petal_length\": 1.4, \"petal_width\": 0.3, \"species\": \"setosa\", \"kmeans_cluster\": 1, \"PC1\": -2.6482967062543805, \"PC2\": 0.3118491445933553}, {\"sepal_length\": 5.7, \"sepal_width\": 3.8, \"petal_length\": 1.7, \"petal_width\": 0.3, \"species\": \"setosa\", \"kmeans_cluster\": 1, \"PC1\": -2.199820323617579, \"PC2\": 0.8728390389622118}, {\"sepal_length\": 5.1, \"sepal_width\": 3.8, \"petal_length\": 1.5, \"petal_width\": 0.3, \"species\": \"setosa\", \"kmeans_cluster\": 1, \"PC1\": -2.5879863998787673, \"PC2\": 0.5135603087492776}, {\"sepal_length\": 5.4, \"sepal_width\": 3.4, \"petal_length\": 1.7, \"petal_width\": 0.2, \"species\": \"setosa\", \"kmeans_cluster\": 1, \"PC1\": -2.3102562152425175, \"PC2\": 0.39134593565389486}, {\"sepal_length\": 5.1, \"sepal_width\": 3.7, \"petal_length\": 1.5, \"petal_width\": 0.4, \"species\": \"setosa\", \"kmeans_cluster\": 1, \"PC1\": -2.5437052287571555, \"PC2\": 0.43299606327902873}, {\"sepal_length\": 4.6, \"sepal_width\": 3.6, \"petal_length\": 1.0, \"petal_width\": 0.2, \"species\": \"setosa\", \"kmeans_cluster\": 1, \"PC1\": -3.2159394156486107, \"PC2\": 0.13346806953852625}, {\"sepal_length\": 5.1, \"sepal_width\": 3.3, \"petal_length\": 1.7, \"petal_width\": 0.5, \"species\": \"setosa\", \"kmeans_cluster\": 1, \"PC1\": -2.3027331822262065, \"PC2\": 0.09870885481409995}, {\"sepal_length\": 4.8, \"sepal_width\": 3.4, \"petal_length\": 1.9, \"petal_width\": 0.2, \"species\": \"setosa\", \"kmeans_cluster\": 1, \"PC1\": -2.355754049123772, \"PC2\": -0.03728185967738212}, {\"sepal_length\": 5.0, \"sepal_width\": 3.0, \"petal_length\": 1.6, \"petal_width\": 0.2, \"species\": \"setosa\", \"kmeans_cluster\": 1, \"PC1\": -2.5066689069258206, \"PC2\": -0.14601688049526743}, {\"sepal_length\": 5.0, \"sepal_width\": 3.4, \"petal_length\": 1.6, \"petal_width\": 0.4, \"species\": \"setosa\", \"kmeans_cluster\": 1, \"PC1\": -2.468820073121338, \"PC2\": 0.13095148943525073}, {\"sepal_length\": 5.2, \"sepal_width\": 3.5, \"petal_length\": 1.5, \"petal_width\": 0.2, \"species\": \"setosa\", \"kmeans_cluster\": 1, \"PC1\": -2.562319906196015, \"PC2\": 0.3677188574342005}, {\"sepal_length\": 5.2, \"sepal_width\": 3.4, \"petal_length\": 1.4, \"petal_width\": 0.2, \"species\": \"setosa\", \"kmeans_cluster\": 1, \"PC1\": -2.6395347153845417, \"PC2\": 0.3120399802352835}, {\"sepal_length\": 4.7, \"sepal_width\": 3.2, \"petal_length\": 1.6, \"petal_width\": 0.2, \"species\": \"setosa\", \"kmeans_cluster\": 1, \"PC1\": -2.6319893872743454, \"PC2\": -0.1969612249243143}, {\"sepal_length\": 4.8, \"sepal_width\": 3.1, \"petal_length\": 1.6, \"petal_width\": 0.2, \"species\": \"setosa\", \"kmeans_cluster\": 1, \"PC1\": -2.5873984766893514, \"PC2\": -0.20431849127413315}, {\"sepal_length\": 5.4, \"sepal_width\": 3.4, \"petal_length\": 1.5, \"petal_width\": 0.4, \"species\": \"setosa\", \"kmeans_cluster\": 1, \"PC1\": -2.409932497002174, \"PC2\": 0.41092426422957334}, {\"sepal_length\": 5.2, \"sepal_width\": 4.1, \"petal_length\": 1.5, \"petal_width\": 0.1, \"species\": \"setosa\", \"kmeans_cluster\": 1, \"PC1\": -2.648862334349911, \"PC2\": 0.813363820296963}, {\"sepal_length\": 5.5, \"sepal_width\": 4.2, \"petal_length\": 1.4, \"petal_width\": 0.2, \"species\": \"setosa\", \"kmeans_cluster\": 1, \"PC1\": -2.5987367491005857, \"PC2\": 1.0931457594493577}, {\"sepal_length\": 4.9, \"sepal_width\": 3.1, \"petal_length\": 1.5, \"petal_width\": 0.2, \"species\": \"setosa\", \"kmeans_cluster\": 1, \"PC1\": -2.6369268781057977, \"PC2\": -0.12132234786586286}, {\"sepal_length\": 5.0, \"sepal_width\": 3.2, \"petal_length\": 1.2, \"petal_width\": 0.2, \"species\": \"setosa\", \"kmeans_cluster\": 1, \"PC1\": -2.866241652118669, \"PC2\": 0.06936447158008105}, {\"sepal_length\": 5.5, \"sepal_width\": 3.5, \"petal_length\": 1.3, \"petal_width\": 0.2, \"species\": \"setosa\", \"kmeans_cluster\": 1, \"PC1\": -2.625238049850371, \"PC2\": 0.5993700213794242}, {\"sepal_length\": 4.9, \"sepal_width\": 3.6, \"petal_length\": 1.4, \"petal_width\": 0.1, \"species\": \"setosa\", \"kmeans_cluster\": 1, \"PC1\": -2.8006841154482207, \"PC2\": 0.26864373779798284}, {\"sepal_length\": 4.4, \"sepal_width\": 3.0, \"petal_length\": 1.3, \"petal_width\": 0.2, \"species\": \"setosa\", \"kmeans_cluster\": 1, \"PC1\": -2.9805020437819927, \"PC2\": -0.4879583444286153}, {\"sepal_length\": 5.1, \"sepal_width\": 3.4, \"petal_length\": 1.5, \"petal_width\": 0.2, \"species\": \"setosa\", \"kmeans_cluster\": 1, \"PC1\": -2.5900063139680944, \"PC2\": 0.22904383682701318}, {\"sepal_length\": 5.0, \"sepal_width\": 3.5, \"petal_length\": 1.3, \"petal_width\": 0.3, \"species\": \"setosa\", \"kmeans_cluster\": 1, \"PC1\": -2.7701024260279006, \"PC2\": 0.263527533744257}, {\"sepal_length\": 4.5, \"sepal_width\": 2.3, \"petal_length\": 1.3, \"petal_width\": 0.3, \"species\": \"setosa\", \"kmeans_cluster\": 1, \"PC1\": -2.8493687050431022, \"PC2\": -0.9409605736411968}, {\"sepal_length\": 4.4, \"sepal_width\": 3.2, \"petal_length\": 1.3, \"petal_width\": 0.2, \"species\": \"setosa\", \"kmeans_cluster\": 1, \"PC1\": -2.997406546594907, \"PC2\": -0.34192605747160976}, {\"sepal_length\": 5.0, \"sepal_width\": 3.5, \"petal_length\": 1.6, \"petal_width\": 0.6, \"species\": \"setosa\", \"kmeans_cluster\": 1, \"PC1\": -2.4056144850974843, \"PC2\": 0.18887142893026088}, {\"sepal_length\": 5.1, \"sepal_width\": 3.8, \"petal_length\": 1.9, \"petal_width\": 0.4, \"species\": \"setosa\", \"kmeans_cluster\": 1, \"PC1\": -2.2094892377836786, \"PC2\": 0.4366631416391884}, {\"sepal_length\": 4.8, \"sepal_width\": 3.0, \"petal_length\": 1.4, \"petal_width\": 0.3, \"species\": \"setosa\", \"kmeans_cluster\": 1, \"PC1\": -2.714451426757707, \"PC2\": -0.2502082041852109}, {\"sepal_length\": 5.1, \"sepal_width\": 3.8, \"petal_length\": 1.6, \"petal_width\": 0.2, \"species\": \"setosa\", \"kmeans_cluster\": 1, \"PC1\": -2.538148258998939, \"PC2\": 0.5037711444614382}, {\"sepal_length\": 4.6, \"sepal_width\": 3.2, \"petal_length\": 1.4, \"petal_width\": 0.2, \"species\": \"setosa\", \"kmeans_cluster\": 1, \"PC1\": -2.839462167642849, \"PC2\": -0.22794556949382733}, {\"sepal_length\": 5.3, \"sepal_width\": 3.7, \"petal_length\": 1.5, \"petal_width\": 0.2, \"species\": \"setosa\", \"kmeans_cluster\": 1, \"PC1\": -2.543085749830392, \"PC2\": 0.5794100215198902}, {\"sepal_length\": 5.0, \"sepal_width\": 3.3, \"petal_length\": 1.4, \"petal_width\": 0.2, \"species\": \"setosa\", \"kmeans_cluster\": 1, \"PC1\": -2.7033597823351587, \"PC2\": 0.1077060824994121}, {\"sepal_length\": 7.0, \"sepal_width\": 3.2, \"petal_length\": 4.7, \"petal_width\": 1.4, \"species\": \"versicolor\", \"kmeans_cluster\": 0, \"PC1\": 1.2848256888583536, \"PC2\": 0.6851604704673091}, {\"sepal_length\": 6.4, \"sepal_width\": 3.2, \"petal_length\": 4.5, \"petal_width\": 1.5, \"species\": \"versicolor\", \"kmeans_cluster\": 0, \"PC1\": 0.9324885323123204, \"PC2\": 0.3183336382626293}, {\"sepal_length\": 6.9, \"sepal_width\": 3.1, \"petal_length\": 4.9, \"petal_width\": 1.5, \"species\": \"versicolor\", \"kmeans_cluster\": 2, \"PC1\": 1.4643023219913962, \"PC2\": 0.5042628153092046}, {\"sepal_length\": 5.5, \"sepal_width\": 2.3, \"petal_length\": 4.0, \"petal_width\": 1.3, \"species\": \"versicolor\", \"kmeans_cluster\": 0, \"PC1\": 0.1833177199583726, \"PC2\": -0.8279590118206326}, {\"sepal_length\": 6.5, \"sepal_width\": 2.8, \"petal_length\": 4.6, \"petal_width\": 1.5, \"species\": \"versicolor\", \"kmeans_cluster\": 0, \"PC1\": 1.088103257711668, \"PC2\": 0.07459067519771641}, {\"sepal_length\": 5.7, \"sepal_width\": 2.8, \"petal_length\": 4.5, \"petal_width\": 1.3, \"species\": \"versicolor\", \"kmeans_cluster\": 0, \"PC1\": 0.6416690842580796, \"PC2\": -0.4182468715686787}, {\"sepal_length\": 6.3, \"sepal_width\": 3.3, \"petal_length\": 4.7, \"petal_width\": 1.6, \"species\": \"versicolor\", \"kmeans_cluster\": 0, \"PC1\": 1.095060662632449, \"PC2\": 0.2834682700615294}, {\"sepal_length\": 4.9, \"sepal_width\": 2.4, \"petal_length\": 3.3, \"petal_width\": 1.0, \"species\": \"versicolor\", \"kmeans_cluster\": 0, \"PC1\": -0.7491226698296556, \"PC2\": -1.0048909611818955}, {\"sepal_length\": 6.6, \"sepal_width\": 2.9, \"petal_length\": 4.6, \"petal_width\": 1.3, \"species\": \"versicolor\", \"kmeans_cluster\": 0, \"PC1\": 1.0441318260534382, \"PC2\": 0.2283618997883959}, {\"sepal_length\": 5.2, \"sepal_width\": 2.7, \"petal_length\": 3.9, \"petal_width\": 1.4, \"species\": \"versicolor\", \"kmeans_cluster\": 0, \"PC1\": -0.008745404082894285, \"PC2\": -0.7230819050048343}, {\"sepal_length\": 5.0, \"sepal_width\": 2.0, \"petal_length\": 3.5, \"petal_width\": 1.0, \"species\": \"versicolor\", \"kmeans_cluster\": 0, \"PC1\": -0.5078408838353242, \"PC2\": -1.265971190526394}, {\"sepal_length\": 5.9, \"sepal_width\": 3.0, \"petal_length\": 4.2, \"petal_width\": 1.5, \"species\": \"versicolor\", \"kmeans_cluster\": 0, \"PC1\": 0.5116985574475993, \"PC2\": -0.10398123549904023}, {\"sepal_length\": 6.0, \"sepal_width\": 2.2, \"petal_length\": 4.0, \"petal_width\": 1.0, \"species\": \"versicolor\", \"kmeans_cluster\": 0, \"PC1\": 0.2649765081120483, \"PC2\": -0.5500364636804747}, {\"sepal_length\": 6.1, \"sepal_width\": 2.9, \"petal_length\": 4.7, \"petal_width\": 1.4, \"species\": \"versicolor\", \"kmeans_cluster\": 0, \"PC1\": 0.9849345104708923, \"PC2\": -0.12481785412635721}, {\"sepal_length\": 5.6, \"sepal_width\": 2.9, \"petal_length\": 3.6, \"petal_width\": 1.3, \"species\": \"versicolor\", \"kmeans_cluster\": 0, \"PC1\": -0.17392537168176606, \"PC2\": -0.2548542087025892}, {\"sepal_length\": 6.7, \"sepal_width\": 3.1, \"petal_length\": 4.4, \"petal_width\": 1.4, \"species\": \"versicolor\", \"kmeans_cluster\": 0, \"PC1\": 0.9278607809442491, \"PC2\": 0.4671794944415109}, {\"sepal_length\": 5.6, \"sepal_width\": 3.0, \"petal_length\": 4.5, \"petal_width\": 1.5, \"species\": \"versicolor\", \"kmeans_cluster\": 0, \"PC1\": 0.660283761696939, \"PC2\": -0.35296966572385036}, {\"sepal_length\": 5.8, \"sepal_width\": 2.7, \"petal_length\": 4.1, \"petal_width\": 1.0, \"species\": \"versicolor\", \"kmeans_cluster\": 0, \"PC1\": 0.2361049933176735, \"PC2\": -0.33361076682491525}, {\"sepal_length\": 6.2, \"sepal_width\": 2.2, \"petal_length\": 4.5, \"petal_width\": 1.5, \"species\": \"versicolor\", \"kmeans_cluster\": 0, \"PC1\": 0.9447337280198155, \"PC2\": -0.5431455507797666}, {\"sepal_length\": 5.6, \"sepal_width\": 2.5, \"petal_length\": 3.9, \"petal_width\": 1.1, \"species\": \"versicolor\", \"kmeans_cluster\": 0, \"PC1\": 0.04522697629870169, \"PC2\": -0.5838343774718644}, {\"sepal_length\": 5.9, \"sepal_width\": 3.2, \"petal_length\": 4.8, \"petal_width\": 1.8, \"species\": \"versicolor\", \"kmeans_cluster\": 0, \"PC1\": 1.1162831773500517, \"PC2\": -0.08461685219478782}, {\"sepal_length\": 6.1, \"sepal_width\": 2.8, \"petal_length\": 4.0, \"petal_width\": 1.3, \"species\": \"versicolor\", \"kmeans_cluster\": 0, \"PC1\": 0.3578884179973092, \"PC2\": -0.06892503165601371}, {\"sepal_length\": 6.3, \"sepal_width\": 2.5, \"petal_length\": 4.9, \"petal_width\": 1.5, \"species\": \"versicolor\", \"kmeans_cluster\": 0, \"PC1\": 1.2981838753589157, \"PC2\": -0.32778730833391734}, {\"sepal_length\": 6.1, \"sepal_width\": 2.8, \"petal_length\": 4.7, \"petal_width\": 1.2, \"species\": \"versicolor\", \"kmeans_cluster\": 0, \"PC1\": 0.9217289224470391, \"PC2\": -0.1827377936213673}, {\"sepal_length\": 6.4, \"sepal_width\": 2.9, \"petal_length\": 4.3, \"petal_width\": 1.3, \"species\": \"versicolor\", \"kmeans_cluster\": 0, \"PC1\": 0.7148533259114135, \"PC2\": 0.14905594436978506}, {\"sepal_length\": 6.6, \"sepal_width\": 3.0, \"petal_length\": 4.4, \"petal_width\": 1.4, \"species\": \"versicolor\", \"kmeans_cluster\": 0, \"PC1\": 0.9001743731721693, \"PC2\": 0.3285044738343237}, {\"sepal_length\": 6.8, \"sepal_width\": 2.8, \"petal_length\": 4.8, \"petal_width\": 1.4, \"species\": \"versicolor\", \"kmeans_cluster\": 0, \"PC1\": 1.3320244367220904, \"PC2\": 0.2444408760163438}, {\"sepal_length\": 6.7, \"sepal_width\": 3.0, \"petal_length\": 5.0, \"petal_width\": 1.7, \"species\": \"versicolor\", \"kmeans_cluster\": 2, \"PC1\": 1.5578021550660723, \"PC2\": 0.2674954473102549}, {\"sepal_length\": 6.0, \"sepal_width\": 2.9, \"petal_length\": 4.5, \"petal_width\": 1.5, \"species\": \"versicolor\", \"kmeans_cluster\": 0, \"PC1\": 0.8132906498175435, \"PC2\": -0.16335030068761613}, {\"sepal_length\": 5.7, \"sepal_width\": 2.6, \"petal_length\": 3.5, \"petal_width\": 1.0, \"species\": \"versicolor\", \"kmeans_cluster\": 0, \"PC1\": -0.30558377802430736, \"PC2\": -0.3682621897545878}, {\"sepal_length\": 5.5, \"sepal_width\": 2.4, \"petal_length\": 3.8, \"petal_width\": 1.1, \"species\": \"versicolor\", \"kmeans_cluster\": 0, \"PC1\": -0.06812649206836169, \"PC2\": -0.7051721317994655}, {\"sepal_length\": 5.5, \"sepal_width\": 2.4, \"petal_length\": 3.7, \"petal_width\": 1.0, \"species\": \"versicolor\", \"kmeans_cluster\": 0, \"PC1\": -0.18962247237849997, \"PC2\": -0.6802867635281336}, {\"sepal_length\": 5.8, \"sepal_width\": 2.7, \"petal_length\": 3.9, \"petal_width\": 1.2, \"species\": \"versicolor\", \"kmeans_cluster\": 0, \"PC1\": 0.1364287115580168, \"PC2\": -0.31403243824923666}, {\"sepal_length\": 6.0, \"sepal_width\": 2.7, \"petal_length\": 5.1, \"petal_width\": 1.6, \"species\": \"versicolor\", \"kmeans_cluster\": 0, \"PC1\": 1.3800264359155132, \"PC2\": -0.42095428731388185}, {\"sepal_length\": 5.4, \"sepal_width\": 3.0, \"petal_length\": 4.5, \"petal_width\": 1.5, \"species\": \"versicolor\", \"kmeans_cluster\": 0, \"PC1\": 0.5880064433398654, \"PC2\": -0.48428741998121827}, {\"sepal_length\": 6.0, \"sepal_width\": 3.4, \"petal_length\": 4.5, \"petal_width\": 1.6, \"species\": \"versicolor\", \"kmeans_cluster\": 0, \"PC1\": 0.8068583125004142, \"PC2\": 0.1941823147131512}, {\"sepal_length\": 6.7, \"sepal_width\": 3.1, \"petal_length\": 4.7, \"petal_width\": 1.5, \"species\": \"versicolor\", \"kmeans_cluster\": 0, \"PC1\": 1.2206908824443548, \"PC2\": 0.4076195936110074}, {\"sepal_length\": 6.3, \"sepal_width\": 2.3, \"petal_length\": 4.4, \"petal_width\": 1.3, \"species\": \"versicolor\", \"kmeans_cluster\": 0, \"PC1\": 0.815095235766602, \"PC2\": -0.37203705990950175}, {\"sepal_length\": 5.6, \"sepal_width\": 3.0, \"petal_length\": 4.1, \"petal_width\": 1.3, \"species\": \"versicolor\", \"kmeans_cluster\": 0, \"PC1\": 0.24595767988669426, \"PC2\": -0.2685243966220147}, {\"sepal_length\": 5.5, \"sepal_width\": 2.5, \"petal_length\": 4.0, \"petal_width\": 1.3, \"species\": \"versicolor\", \"kmeans_cluster\": 0, \"PC1\": 0.16641321714545868, \"PC2\": -0.6819267248636267}, {\"sepal_length\": 5.5, \"sepal_width\": 2.6, \"petal_length\": 4.4, \"petal_width\": 1.2, \"species\": \"versicolor\", \"kmeans_cluster\": 0, \"PC1\": 0.4648002884037811, \"PC2\": -0.6707115445117203}, {\"sepal_length\": 6.1, \"sepal_width\": 3.0, \"petal_length\": 4.6, \"petal_width\": 1.4, \"species\": \"versicolor\", \"kmeans_cluster\": 0, \"PC1\": 0.8908151984694513, \"PC2\": -0.034464444368268635}, {\"sepal_length\": 5.8, \"sepal_width\": 2.6, \"petal_length\": 4.0, \"petal_width\": 1.2, \"species\": \"versicolor\", \"kmeans_cluster\": 0, \"PC1\": 0.2305480235594573, \"PC2\": -0.4043858480073251}, {\"sepal_length\": 5.0, \"sepal_width\": 2.3, \"petal_length\": 3.3, \"petal_width\": 1.0, \"species\": \"versicolor\", \"kmeans_cluster\": 0, \"PC1\": -0.7045317592446619, \"PC2\": -1.0122482275317146}, {\"sepal_length\": 5.6, \"sepal_width\": 2.7, \"petal_length\": 4.2, \"petal_width\": 1.3, \"species\": \"versicolor\", \"kmeans_cluster\": 0, \"PC1\": 0.35698149470104884, \"PC2\": -0.5049100933371085}, {\"sepal_length\": 5.7, \"sepal_width\": 3.0, \"petal_length\": 4.2, \"petal_width\": 1.2, \"species\": \"versicolor\", \"kmeans_cluster\": 0, \"PC1\": 0.3319344799450603, \"PC2\": -0.21265468378116967}, {\"sepal_length\": 5.7, \"sepal_width\": 2.9, \"petal_length\": 4.2, \"petal_width\": 1.3, \"species\": \"versicolor\", \"kmeans_cluster\": 0, \"PC1\": 0.3762156510666724, \"PC2\": -0.2932189292514188}, {\"sepal_length\": 6.2, \"sepal_width\": 2.9, \"petal_length\": 4.3, \"petal_width\": 1.3, \"species\": \"versicolor\", \"kmeans_cluster\": 0, \"PC1\": 0.64257600755434, \"PC2\": 0.017738190112416535}, {\"sepal_length\": 5.1, \"sepal_width\": 2.5, \"petal_length\": 3.0, \"petal_width\": 1.1, \"species\": \"versicolor\", \"kmeans_cluster\": 0, \"PC1\": -0.9064698649488343, \"PC2\": -0.7560933665990142}, {\"sepal_length\": 5.7, \"sepal_width\": 2.8, \"petal_length\": 4.1, \"petal_width\": 1.3, \"species\": \"versicolor\", \"kmeans_cluster\": 0, \"PC1\": 0.29900084187814524, \"PC2\": -0.3488978064503358}, {\"sepal_length\": 6.3, \"sepal_width\": 3.3, \"petal_length\": 6.0, \"petal_width\": 2.5, \"species\": \"virginica\", \"kmeans_cluster\": 2, \"PC1\": 2.53119272780363, \"PC2\": -0.009849109498801816}, {\"sepal_length\": 5.8, \"sepal_width\": 2.7, \"petal_length\": 5.1, \"petal_width\": 1.9, \"species\": \"virginica\", \"kmeans_cluster\": 0, \"PC1\": 1.4152358767039046, \"PC2\": -0.5749163475464895}, {\"sepal_length\": 7.1, \"sepal_width\": 3.0, \"petal_length\": 5.9, \"petal_width\": 2.1, \"species\": \"virginica\", \"kmeans_cluster\": 2, \"PC1\": 2.6166760159956923, \"PC2\": 0.34390315134173455}, {\"sepal_length\": 6.3, \"sepal_width\": 2.9, \"petal_length\": 5.6, \"petal_width\": 1.8, \"species\": \"virginica\", \"kmeans_cluster\": 2, \"PC1\": 1.9715310530434376, \"PC2\": -0.1797279043522453}, {\"sepal_length\": 6.5, \"sepal_width\": 3.0, \"petal_length\": 5.8, \"petal_width\": 2.2, \"species\": \"virginica\", \"kmeans_cluster\": 2, \"PC1\": 2.3500059200446426, \"PC2\": -0.040260947142530965}, {\"sepal_length\": 7.6, \"sepal_width\": 3.0, \"petal_length\": 6.6, \"petal_width\": 2.1, \"species\": \"virginica\", \"kmeans_cluster\": 2, \"PC1\": 3.397038736053262, \"PC2\": 0.5508366730280557}, {\"sepal_length\": 4.9, \"sepal_width\": 2.5, \"petal_length\": 4.5, \"petal_width\": 1.7, \"species\": \"virginica\", \"kmeans_cluster\": 0, \"PC1\": 0.5212322439097756, \"PC2\": -1.1927587270006454}, {\"sepal_length\": 7.3, \"sepal_width\": 2.9, \"petal_length\": 6.3, \"petal_width\": 1.8, \"species\": \"virginica\", \"kmeans_cluster\": 2, \"PC1\": 2.9325870689936915, \"PC2\": 0.3555000029774966}, {\"sepal_length\": 6.7, \"sepal_width\": 2.5, \"petal_length\": 5.8, \"petal_width\": 1.8, \"species\": \"virginica\", \"kmeans_cluster\": 2, \"PC1\": 2.32122881657338, \"PC2\": -0.24383150231069073}, {\"sepal_length\": 7.2, \"sepal_width\": 3.6, \"petal_length\": 6.1, \"petal_width\": 2.5, \"species\": \"virginica\", \"kmeans_cluster\": 2, \"PC1\": 2.9167509667860747, \"PC2\": 0.7827919488152788}, {\"sepal_length\": 6.5, \"sepal_width\": 3.2, \"petal_length\": 5.1, \"petal_width\": 2.0, \"species\": \"virginica\", \"kmeans_cluster\": 2, \"PC1\": 1.6617741536365338, \"PC2\": 0.24222840775506727}, {\"sepal_length\": 6.4, \"sepal_width\": 2.7, \"petal_length\": 5.3, \"petal_width\": 1.9, \"species\": \"virginica\", \"kmeans_cluster\": 2, \"PC1\": 1.8034019529650933, \"PC2\": -0.21563761733355535}, {\"sepal_length\": 6.8, \"sepal_width\": 3.0, \"petal_length\": 5.5, \"petal_width\": 2.1, \"species\": \"virginica\", \"kmeans_cluster\": 2, \"PC1\": 2.1655917960801476, \"PC2\": 0.21627558507402495}, {\"sepal_length\": 5.7, \"sepal_width\": 2.5, \"petal_length\": 5.0, \"petal_width\": 2.0, \"species\": \"virginica\", \"kmeans_cluster\": 0, \"PC1\": 1.3461635794584532, \"PC2\": -0.7768183473443395}, {\"sepal_length\": 5.8, \"sepal_width\": 2.8, \"petal_length\": 5.1, \"petal_width\": 2.4, \"species\": \"virginica\", \"kmeans_cluster\": 0, \"PC1\": 1.5859282238732233, \"PC2\": -0.5396407140267188}, {\"sepal_length\": 6.4, \"sepal_width\": 3.2, \"petal_length\": 5.3, \"petal_width\": 2.3, \"species\": \"virginica\", \"kmeans_cluster\": 2, \"PC1\": 1.9044563747934289, \"PC2\": 0.1192506920919729}, {\"sepal_length\": 6.5, \"sepal_width\": 3.0, \"petal_length\": 5.5, \"petal_width\": 1.8, \"species\": \"virginica\", \"kmeans_cluster\": 2, \"PC1\": 1.9496890593990717, \"PC2\": 0.04194325966321156}, {\"sepal_length\": 7.7, \"sepal_width\": 3.8, \"petal_length\": 6.7, \"petal_width\": 2.2, \"species\": \"virginica\", \"kmeans_cluster\": 2, \"PC1\": 3.487055364290282, \"PC2\": 1.1757393297134298}, {\"sepal_length\": 7.7, \"sepal_width\": 2.6, \"petal_length\": 6.9, \"petal_width\": 2.3, \"species\": \"virginica\", \"kmeans_cluster\": 2, \"PC1\": 3.7956454220728855, \"PC2\": 0.2573229734204796}, {\"sepal_length\": 6.0, \"sepal_width\": 2.2, \"petal_length\": 5.0, \"petal_width\": 1.5, \"species\": \"virginica\", \"kmeans_cluster\": 0, \"PC1\": 1.3007917126376594, \"PC2\": -0.7611496364350634}, {\"sepal_length\": 6.9, \"sepal_width\": 3.2, \"petal_length\": 5.7, \"petal_width\": 2.3, \"species\": \"virginica\", \"kmeans_cluster\": 2, \"PC1\": 2.4278179130660478, \"PC2\": 0.37819601261705094}, {\"sepal_length\": 5.6, \"sepal_width\": 2.8, \"petal_length\": 4.9, \"petal_width\": 2.0, \"species\": \"virginica\", \"kmeans_cluster\": 0, \"PC1\": 1.1990011054655627, \"PC2\": -0.6060915277579306}, {\"sepal_length\": 7.7, \"sepal_width\": 2.8, \"petal_length\": 6.7, \"petal_width\": 2.0, \"species\": \"virginica\", \"kmeans_cluster\": 2, \"PC1\": 3.49992003892454, \"PC2\": 0.46067409891189526}, {\"sepal_length\": 6.3, \"sepal_width\": 2.7, \"petal_length\": 4.9, \"petal_width\": 1.8, \"species\": \"virginica\", \"kmeans_cluster\": 0, \"PC1\": 1.3887661316914672, \"PC2\": -0.2043993273521508}, {\"sepal_length\": 6.7, \"sepal_width\": 3.3, \"petal_length\": 5.7, \"petal_width\": 2.1, \"species\": \"virginica\", \"kmeans_cluster\": 2, \"PC1\": 2.275430503872207, \"PC2\": 0.3349906058216776}, {\"sepal_length\": 7.2, \"sepal_width\": 3.2, \"petal_length\": 6.0, \"petal_width\": 1.8, \"species\": \"virginica\", \"kmeans_cluster\": 2, \"PC1\": 2.6140904738108337, \"PC2\": 0.5609013551230783}, {\"sepal_length\": 6.2, \"sepal_width\": 2.8, \"petal_length\": 4.8, \"petal_width\": 1.8, \"species\": \"virginica\", \"kmeans_cluster\": 0, \"PC1\": 1.2585081605114898, \"PC2\": -0.17970479472274653}, {\"sepal_length\": 6.1, \"sepal_width\": 3.0, \"petal_length\": 4.9, \"petal_width\": 1.8, \"species\": \"virginica\", \"kmeans_cluster\": 0, \"PC1\": 1.291132059115023, \"PC2\": -0.11666865117401132}, {\"sepal_length\": 6.4, \"sepal_width\": 2.8, \"petal_length\": 5.6, \"petal_width\": 2.1, \"species\": \"virginica\", \"kmeans_cluster\": 2, \"PC1\": 2.123608722773897, \"PC2\": -0.20972947667730266}, {\"sepal_length\": 7.2, \"sepal_width\": 3.0, \"petal_length\": 5.8, \"petal_width\": 1.6, \"species\": \"virginica\", \"kmeans_cluster\": 2, \"PC1\": 2.38800301600347, \"PC2\": 0.4646398047087367}, {\"sepal_length\": 7.4, \"sepal_width\": 2.8, \"petal_length\": 6.1, \"petal_width\": 1.9, \"species\": \"virginica\", \"kmeans_cluster\": 2, \"PC1\": 2.841672778103873, \"PC2\": 0.37526916719510356}, {\"sepal_length\": 7.9, \"sepal_width\": 3.8, \"petal_length\": 6.4, \"petal_width\": 2.0, \"species\": \"virginica\", \"kmeans_cluster\": 2, \"PC1\": 3.2306736614320952, \"PC2\": 1.3741650867930482}, {\"sepal_length\": 6.4, \"sepal_width\": 2.8, \"petal_length\": 5.6, \"petal_width\": 2.2, \"species\": \"virginica\", \"kmeans_cluster\": 2, \"PC1\": 2.1594376424890522, \"PC2\": -0.21727757866904904}, {\"sepal_length\": 6.3, \"sepal_width\": 2.8, \"petal_length\": 5.1, \"petal_width\": 1.5, \"species\": \"virginica\", \"kmeans_cluster\": 0, \"PC1\": 1.4441612423295116, \"PC2\": -0.14341341045758058}, {\"sepal_length\": 6.1, \"sepal_width\": 2.6, \"petal_length\": 5.6, \"petal_width\": 1.4, \"species\": \"virginica\", \"kmeans_cluster\": 2, \"PC1\": 1.7812948100451143, \"PC2\": -0.49990168107813643}, {\"sepal_length\": 7.7, \"sepal_width\": 3.0, \"petal_length\": 6.1, \"petal_width\": 2.3, \"species\": \"virginica\", \"kmeans_cluster\": 2, \"PC1\": 3.0764999316871897, \"PC2\": 0.6880856775711761}, {\"sepal_length\": 6.3, \"sepal_width\": 3.4, \"petal_length\": 5.6, \"petal_width\": 2.4, \"species\": \"virginica\", \"kmeans_cluster\": 2, \"PC1\": 2.144243314302084, \"PC2\": 0.14006420108979026}, {\"sepal_length\": 6.4, \"sepal_width\": 3.1, \"petal_length\": 5.5, \"petal_width\": 1.8, \"species\": \"virginica\", \"kmeans_cluster\": 2, \"PC1\": 1.9050981488140784, \"PC2\": 0.04930052601303041}, {\"sepal_length\": 6.0, \"sepal_width\": 3.0, \"petal_length\": 4.8, \"petal_width\": 1.8, \"species\": \"virginica\", \"kmeans_cluster\": 0, \"PC1\": 1.1693263393415023, \"PC2\": -0.16499026202310949}, {\"sepal_length\": 6.9, \"sepal_width\": 3.1, \"petal_length\": 5.4, \"petal_width\": 2.1, \"species\": \"virginica\", \"kmeans_cluster\": 2, \"PC1\": 2.1076111432572446, \"PC2\": 0.3722878719607979}, {\"sepal_length\": 6.7, \"sepal_width\": 3.1, \"petal_length\": 5.6, \"petal_width\": 2.4, \"species\": \"virginica\", \"kmeans_cluster\": 2, \"PC1\": 2.314154705235602, \"PC2\": 0.18365127916901905}, {\"sepal_length\": 6.9, \"sepal_width\": 3.1, \"petal_length\": 5.1, \"petal_width\": 2.3, \"species\": \"virginica\", \"kmeans_cluster\": 2, \"PC1\": 1.922267800902603, \"PC2\": 0.40920346681606246}, {\"sepal_length\": 5.8, \"sepal_width\": 2.7, \"petal_length\": 5.1, \"petal_width\": 1.9, \"species\": \"virginica\", \"kmeans_cluster\": 0, \"PC1\": 1.4152358767039046, \"PC2\": -0.5749163475464895}, {\"sepal_length\": 6.8, \"sepal_width\": 3.2, \"petal_length\": 5.9, \"petal_width\": 2.3, \"species\": \"virginica\", \"kmeans_cluster\": 2, \"PC1\": 2.5630133750774777, \"PC2\": 0.277862602929195}, {\"sepal_length\": 6.7, \"sepal_width\": 3.3, \"petal_length\": 5.7, \"petal_width\": 2.5, \"species\": \"virginica\", \"kmeans_cluster\": 2, \"PC1\": 2.418746182732827, \"PC2\": 0.3047981978546921}, {\"sepal_length\": 6.7, \"sepal_width\": 3.0, \"petal_length\": 5.2, \"petal_width\": 2.3, \"species\": \"virginica\", \"kmeans_cluster\": 2, \"PC1\": 1.9441097945469699, \"PC2\": 0.18753230280060532}, {\"sepal_length\": 6.3, \"sepal_width\": 2.5, \"petal_length\": 5.0, \"petal_width\": 1.9, \"species\": \"virginica\", \"kmeans_cluster\": 0, \"PC1\": 1.5271666148145193, \"PC2\": -0.3753169825804884}, {\"sepal_length\": 6.5, \"sepal_width\": 3.0, \"petal_length\": 5.2, \"petal_width\": 2.0, \"species\": \"virginica\", \"kmeans_cluster\": 2, \"PC1\": 1.7643457170444314, \"PC2\": 0.07885885451847592}, {\"sepal_length\": 6.2, \"sepal_width\": 3.4, \"petal_length\": 5.4, \"petal_width\": 2.3, \"species\": \"virginica\", \"kmeans_cluster\": 2, \"PC1\": 1.900941614218426, \"PC2\": 0.11662795851202372}, {\"sepal_length\": 5.9, \"sepal_width\": 3.0, \"petal_length\": 5.1, \"petal_width\": 1.8, \"species\": \"virginica\", \"kmeans_cluster\": 0, \"PC1\": 1.3901888619479161, \"PC2\": -0.2826609379905505}]}}, {\"mode\": \"vega-lite\"});\n",
       "</script>"
      ],
      "text/plain": [
       "alt.HConcatChart(...)"
      ]
     },
     "execution_count": 31,
     "metadata": {},
     "output_type": "execute_result"
    }
   ],
   "source": [
    "alt.hconcat(c1, c2).properties(\n",
    "    title = 'PCA: k-means clusterting vs species label'\n",
    ")"
   ]
  },
  {
   "cell_type": "markdown",
   "metadata": {
    "cell_id": "451dace000fd402caead7d6bff63e67e",
    "deepnote_cell_type": "markdown"
   },
   "source": [
    "To quantitatively measure the performace, it is not a good idea to naively compute \"accuracy\" as in the classification case, because permutation of the label values does not affect clustering results, while severely affects the \"accuracy\". There are many [good measures](https://scikit-learn.org/stable/modules/clustering.html) considering such effects in the clustering."
   ]
  },
  {
   "cell_type": "markdown",
   "metadata": {
    "cell_id": "a46ef649fc7c48f0ade33efbc613962c",
    "deepnote_cell_type": "markdown"
   },
   "source": [
    "Adjusted Rand Index (ARI)\n",
    "The Adjusted Rand Index is a function that measures the similarity of the two assignments, ignoring permutations and with chance normalization. It's a common way to compare the clustering result with the true labels.\n",
    "\n"
   ]
  },
  {
   "cell_type": "code",
   "execution_count": null,
   "metadata": {
    "cell_id": "88231054ee9a4493867961114a1e235d",
    "deepnote_cell_type": "code",
    "deepnote_to_be_reexecuted": false,
    "execution_millis": 44,
    "execution_start": 1701293788575,
    "source_hash": null
   },
   "outputs": [
    {
     "data": {
      "text/plain": [
       "0.7302382722834697"
      ]
     },
     "execution_count": 32,
     "metadata": {},
     "output_type": "execute_result"
    }
   ],
   "source": [
    "from sklearn import metrics\n",
    "metrics.adjusted_rand_score(df['species'],df['kmeans_cluster'])"
   ]
  },
  {
   "cell_type": "markdown",
   "metadata": {
    "cell_id": "7f145af38acc41ebb8622bc0e51760fe",
    "deepnote_cell_type": "markdown"
   },
   "source": [
    "* Visualiztion on tsne"
   ]
  },
  {
   "cell_type": "code",
   "execution_count": null,
   "metadata": {
    "cell_id": "89b5d9e4a09243d58b29cdf19754b5a1",
    "deepnote_cell_type": "code",
    "deepnote_to_be_reexecuted": false,
    "execution_millis": 1706,
    "execution_start": 1701293980854,
    "source_hash": null
   },
   "outputs": [
    {
     "name": "stderr",
     "output_type": "stream",
     "text": [
      "/shared-libs/python3.9/py/lib/python3.9/site-packages/sklearn/manifold/_t_sne.py:800: FutureWarning: The default initialization in TSNE will change from 'random' to 'pca' in 1.2.\n",
      "  warnings.warn(\n",
      "/shared-libs/python3.9/py/lib/python3.9/site-packages/sklearn/manifold/_t_sne.py:810: FutureWarning: The default learning rate in TSNE will change from 200.0 to 'auto' in 1.2.\n",
      "  warnings.warn(\n"
     ]
    },
    {
     "data": {
      "application/vnd.deepnote.dataframe.v3+json": {
       "column_count": 10,
       "columns": [
        {
         "dtype": "float64",
         "name": "sepal_length",
         "stats": {
          "histogram": [
           {
            "bin_end": 4.6499999999999995,
            "bin_start": 4.6,
            "count": 1
           },
           {
            "bin_end": 4.699999999999999,
            "bin_start": 4.6499999999999995,
            "count": 0
           },
           {
            "bin_end": 4.75,
            "bin_start": 4.699999999999999,
            "count": 1
           },
           {
            "bin_end": 4.8,
            "bin_start": 4.75,
            "count": 0
           },
           {
            "bin_end": 4.85,
            "bin_start": 4.8,
            "count": 0
           },
           {
            "bin_end": 4.8999999999999995,
            "bin_start": 4.85,
            "count": 0
           },
           {
            "bin_end": 4.949999999999999,
            "bin_start": 4.8999999999999995,
            "count": 1
           },
           {
            "bin_end": 5,
            "bin_start": 4.949999999999999,
            "count": 0
           },
           {
            "bin_end": 5.05,
            "bin_start": 5,
            "count": 1
           },
           {
            "bin_end": 5.1,
            "bin_start": 5.05,
            "count": 1
           }
          ],
          "max": "5.1",
          "min": "4.6",
          "nan_count": 0,
          "unique_count": 5
         }
        },
        {
         "dtype": "float64",
         "name": "sepal_width",
         "stats": {
          "histogram": [
           {
            "bin_end": 3.06,
            "bin_start": 3,
            "count": 1
           },
           {
            "bin_end": 3.12,
            "bin_start": 3.06,
            "count": 1
           },
           {
            "bin_end": 3.18,
            "bin_start": 3.12,
            "count": 0
           },
           {
            "bin_end": 3.24,
            "bin_start": 3.18,
            "count": 1
           },
           {
            "bin_end": 3.3,
            "bin_start": 3.24,
            "count": 0
           },
           {
            "bin_end": 3.3600000000000003,
            "bin_start": 3.3,
            "count": 0
           },
           {
            "bin_end": 3.42,
            "bin_start": 3.3600000000000003,
            "count": 0
           },
           {
            "bin_end": 3.48,
            "bin_start": 3.42,
            "count": 0
           },
           {
            "bin_end": 3.54,
            "bin_start": 3.48,
            "count": 1
           },
           {
            "bin_end": 3.6,
            "bin_start": 3.54,
            "count": 1
           }
          ],
          "max": "3.6",
          "min": "3.0",
          "nan_count": 0,
          "unique_count": 5
         }
        },
        {
         "dtype": "float64",
         "name": "petal_length",
         "stats": {
          "histogram": [
           {
            "bin_end": 1.32,
            "bin_start": 1.3,
            "count": 1
           },
           {
            "bin_end": 1.34,
            "bin_start": 1.32,
            "count": 0
           },
           {
            "bin_end": 1.36,
            "bin_start": 1.34,
            "count": 0
           },
           {
            "bin_end": 1.3800000000000001,
            "bin_start": 1.36,
            "count": 0
           },
           {
            "bin_end": 1.4,
            "bin_start": 1.3800000000000001,
            "count": 0
           },
           {
            "bin_end": 1.42,
            "bin_start": 1.4,
            "count": 3
           },
           {
            "bin_end": 1.44,
            "bin_start": 1.42,
            "count": 0
           },
           {
            "bin_end": 1.46,
            "bin_start": 1.44,
            "count": 0
           },
           {
            "bin_end": 1.48,
            "bin_start": 1.46,
            "count": 0
           },
           {
            "bin_end": 1.5,
            "bin_start": 1.48,
            "count": 1
           }
          ],
          "max": "1.5",
          "min": "1.3",
          "nan_count": 0,
          "unique_count": 3
         }
        },
        {
         "dtype": "float64",
         "name": "petal_width",
         "stats": {
          "histogram": [
           {
            "bin_end": -0.19999999999999998,
            "bin_start": -0.3,
            "count": 0
           },
           {
            "bin_end": -0.09999999999999998,
            "bin_start": -0.19999999999999998,
            "count": 0
           },
           {
            "bin_end": 5.551115123125783e-17,
            "bin_start": -0.09999999999999998,
            "count": 0
           },
           {
            "bin_end": 0.10000000000000003,
            "bin_start": 5.551115123125783e-17,
            "count": 0
           },
           {
            "bin_end": 0.2,
            "bin_start": 0.10000000000000003,
            "count": 0
           },
           {
            "bin_end": 0.3000000000000001,
            "bin_start": 0.2,
            "count": 5
           },
           {
            "bin_end": 0.4000000000000001,
            "bin_start": 0.3000000000000001,
            "count": 0
           },
           {
            "bin_end": 0.5,
            "bin_start": 0.4000000000000001,
            "count": 0
           },
           {
            "bin_end": 0.6000000000000001,
            "bin_start": 0.5,
            "count": 0
           },
           {
            "bin_end": 0.7,
            "bin_start": 0.6000000000000001,
            "count": 0
           }
          ],
          "max": "0.2",
          "min": "0.2",
          "nan_count": 0,
          "unique_count": 1
         }
        },
        {
         "dtype": "object",
         "name": "species",
         "stats": {
          "categories": [
           {
            "count": 5,
            "name": "setosa"
           }
          ],
          "nan_count": 0,
          "unique_count": 1
         }
        },
        {
         "dtype": "int32",
         "name": "kmeans_cluster",
         "stats": {
          "histogram": [
           {
            "bin_end": 0.6,
            "bin_start": 0.5,
            "count": 0
           },
           {
            "bin_end": 0.7,
            "bin_start": 0.6,
            "count": 0
           },
           {
            "bin_end": 0.8,
            "bin_start": 0.7,
            "count": 0
           },
           {
            "bin_end": 0.9,
            "bin_start": 0.8,
            "count": 0
           },
           {
            "bin_end": 1,
            "bin_start": 0.9,
            "count": 0
           },
           {
            "bin_end": 1.1,
            "bin_start": 1,
            "count": 5
           },
           {
            "bin_end": 1.2000000000000002,
            "bin_start": 1.1,
            "count": 0
           },
           {
            "bin_end": 1.3,
            "bin_start": 1.2000000000000002,
            "count": 0
           },
           {
            "bin_end": 1.4,
            "bin_start": 1.3,
            "count": 0
           },
           {
            "bin_end": 1.5,
            "bin_start": 1.4,
            "count": 0
           }
          ],
          "max": "1",
          "min": "1",
          "nan_count": 0,
          "unique_count": 1
         }
        },
        {
         "dtype": "float64",
         "name": "PC1",
         "stats": {
          "histogram": [
           {
            "bin_end": -2.8685040747503203,
            "bin_start": -2.888990569059296,
            "count": 1
           },
           {
            "bin_end": -2.848017580441345,
            "bin_start": -2.8685040747503203,
            "count": 0
           },
           {
            "bin_end": -2.8275310861323693,
            "bin_start": -2.848017580441345,
            "count": 0
           },
           {
            "bin_end": -2.8070445918233937,
            "bin_start": -2.8275310861323693,
            "count": 0
           },
           {
            "bin_end": -2.786558097514418,
            "bin_start": -2.8070445918233937,
            "count": 0
           },
           {
            "bin_end": -2.766071603205443,
            "bin_start": -2.786558097514418,
            "count": 0
           },
           {
            "bin_end": -2.7455851088964676,
            "bin_start": -2.766071603205443,
            "count": 0
           },
           {
            "bin_end": -2.725098614587492,
            "bin_start": -2.7455851088964676,
            "count": 2
           },
           {
            "bin_end": -2.7046121202785165,
            "bin_start": -2.725098614587492,
            "count": 1
           },
           {
            "bin_end": -2.684125625969541,
            "bin_start": -2.7046121202785165,
            "count": 1
           }
          ],
          "max": "-2.684125625969541",
          "min": "-2.888990569059296",
          "nan_count": 0,
          "unique_count": 5
         }
        },
        {
         "dtype": "float64",
         "name": "PC2",
         "stats": {
          "histogram": [
           {
            "bin_end": -0.25379363003323224,
            "bin_start": -0.31829897925191586,
            "count": 1
           },
           {
            "bin_end": -0.1892882808145486,
            "bin_start": -0.25379363003323224,
            "count": 0
           },
           {
            "bin_end": -0.12478293159586495,
            "bin_start": -0.1892882808145486,
            "count": 2
           },
           {
            "bin_end": -0.06027758237718134,
            "bin_start": -0.12478293159586495,
            "count": 0
           },
           {
            "bin_end": 0.0042277668415022784,
            "bin_start": -0.06027758237718134,
            "count": 0
           },
           {
            "bin_end": 0.06873311606018595,
            "bin_start": 0.0042277668415022784,
            "count": 0
           },
           {
            "bin_end": 0.13323846527886957,
            "bin_start": 0.06873311606018595,
            "count": 0
           },
           {
            "bin_end": 0.19774381449755318,
            "bin_start": 0.13323846527886957,
            "count": 0
           },
           {
            "bin_end": 0.26224916371623685,
            "bin_start": 0.19774381449755318,
            "count": 0
           },
           {
            "bin_end": 0.32675451293492047,
            "bin_start": 0.26224916371623685,
            "count": 2
           }
          ],
          "max": "0.32675451293492047",
          "min": "-0.31829897925191586",
          "nan_count": 0,
          "unique_count": 5
         }
        },
        {
         "dtype": "float64",
         "name": "tsne1",
         "stats": {
          "histogram": [
           {
            "bin_end": 7.6884363174438475,
            "bin_start": 7.589658737182617,
            "count": 1
           },
           {
            "bin_end": 7.787213897705078,
            "bin_start": 7.6884363174438475,
            "count": 1
           },
           {
            "bin_end": 7.885991477966309,
            "bin_start": 7.787213897705078,
            "count": 0
           },
           {
            "bin_end": 7.984769058227539,
            "bin_start": 7.885991477966309,
            "count": 1
           },
           {
            "bin_end": 8.08354663848877,
            "bin_start": 7.984769058227539,
            "count": 1
           },
           {
            "bin_end": 8.18232421875,
            "bin_start": 8.08354663848877,
            "count": 0
           },
           {
            "bin_end": 8.28110179901123,
            "bin_start": 8.18232421875,
            "count": 0
           },
           {
            "bin_end": 8.379879379272461,
            "bin_start": 8.28110179901123,
            "count": 0
           },
           {
            "bin_end": 8.47865695953369,
            "bin_start": 8.379879379272461,
            "count": 0
           },
           {
            "bin_end": 8.577434539794922,
            "bin_start": 8.47865695953369,
            "count": 1
           }
          ],
          "max": "8.577434539794922",
          "min": "7.589658737182617",
          "nan_count": 0,
          "unique_count": 5
         }
        },
        {
         "dtype": "float64",
         "name": "tsne2",
         "stats": {
          "histogram": [
           {
            "bin_end": 23.55917148590088,
            "bin_start": 23.25638771057129,
            "count": 2
           },
           {
            "bin_end": 23.86195526123047,
            "bin_start": 23.55917148590088,
            "count": 0
           },
           {
            "bin_end": 24.164739036560057,
            "bin_start": 23.86195526123047,
            "count": 1
           },
           {
            "bin_end": 24.467522811889648,
            "bin_start": 24.164739036560057,
            "count": 0
           },
           {
            "bin_end": 24.77030658721924,
            "bin_start": 24.467522811889648,
            "count": 0
           },
           {
            "bin_end": 25.07309036254883,
            "bin_start": 24.77030658721924,
            "count": 0
           },
           {
            "bin_end": 25.37587413787842,
            "bin_start": 25.07309036254883,
            "count": 0
           },
           {
            "bin_end": 25.678657913208006,
            "bin_start": 25.37587413787842,
            "count": 0
           },
           {
            "bin_end": 25.981441688537597,
            "bin_start": 25.678657913208006,
            "count": 0
           },
           {
            "bin_end": 26.284225463867188,
            "bin_start": 25.981441688537597,
            "count": 2
           }
          ],
          "max": "26.284225463867188",
          "min": "23.25638771057129",
          "nan_count": 0,
          "unique_count": 5
         }
        },
        {
         "dtype": "int64",
         "name": "_deepnote_index_column"
        }
       ],
       "row_count": 5,
       "rows": [
        {
         "PC1": -2.684125625969541,
         "PC2": 0.3193972465851031,
         "_deepnote_index_column": 0,
         "kmeans_cluster": 1,
         "petal_length": 1.4,
         "petal_width": 0.2,
         "sepal_length": 5.1,
         "sepal_width": 3.5,
         "species": "setosa",
         "tsne1": 8.037638664245605,
         "tsne2": 26.252500534057617
        },
        {
         "PC1": -2.7141416872943274,
         "PC2": -0.17700122506477925,
         "_deepnote_index_column": 1,
         "kmeans_cluster": 1,
         "petal_length": 1.4,
         "petal_width": 0.2,
         "sepal_length": 4.9,
         "sepal_width": 3,
         "species": "setosa",
         "tsne1": 8.577434539794922,
         "tsne2": 23.864986419677734
        },
        {
         "PC1": -2.888990569059296,
         "PC2": -0.14494942608555722,
         "_deepnote_index_column": 2,
         "kmeans_cluster": 1,
         "petal_length": 1.3,
         "petal_width": 0.2,
         "sepal_length": 4.7,
         "sepal_width": 3.2,
         "species": "setosa",
         "tsne1": 7.902760028839111,
         "tsne2": 23.48047637939453
        },
        {
         "PC1": -2.745342855641409,
         "PC2": -0.31829897925191586,
         "_deepnote_index_column": 3,
         "kmeans_cluster": 1,
         "petal_length": 1.5,
         "petal_width": 0.2,
         "sepal_length": 4.6,
         "sepal_width": 3.1,
         "species": "setosa",
         "tsne1": 7.690999507904053,
         "tsne2": 23.25638771057129
        },
        {
         "PC1": -2.7287165365545287,
         "PC2": 0.32675451293492047,
         "_deepnote_index_column": 4,
         "kmeans_cluster": 1,
         "petal_length": 1.4,
         "petal_width": 0.2,
         "sepal_length": 5,
         "sepal_width": 3.6,
         "species": "setosa",
         "tsne1": 7.589658737182617,
         "tsne2": 26.284225463867188
        }
       ]
      },
      "text/html": [
       "<div>\n",
       "<style scoped>\n",
       "    .dataframe tbody tr th:only-of-type {\n",
       "        vertical-align: middle;\n",
       "    }\n",
       "\n",
       "    .dataframe tbody tr th {\n",
       "        vertical-align: top;\n",
       "    }\n",
       "\n",
       "    .dataframe thead th {\n",
       "        text-align: right;\n",
       "    }\n",
       "</style>\n",
       "<table border=\"1\" class=\"dataframe\">\n",
       "  <thead>\n",
       "    <tr style=\"text-align: right;\">\n",
       "      <th></th>\n",
       "      <th>sepal_length</th>\n",
       "      <th>sepal_width</th>\n",
       "      <th>petal_length</th>\n",
       "      <th>petal_width</th>\n",
       "      <th>species</th>\n",
       "      <th>kmeans_cluster</th>\n",
       "      <th>PC1</th>\n",
       "      <th>PC2</th>\n",
       "      <th>tsne1</th>\n",
       "      <th>tsne2</th>\n",
       "    </tr>\n",
       "  </thead>\n",
       "  <tbody>\n",
       "    <tr>\n",
       "      <th>0</th>\n",
       "      <td>5.1</td>\n",
       "      <td>3.5</td>\n",
       "      <td>1.4</td>\n",
       "      <td>0.2</td>\n",
       "      <td>setosa</td>\n",
       "      <td>1</td>\n",
       "      <td>-2.684126</td>\n",
       "      <td>0.319397</td>\n",
       "      <td>8.037639</td>\n",
       "      <td>26.252501</td>\n",
       "    </tr>\n",
       "    <tr>\n",
       "      <th>1</th>\n",
       "      <td>4.9</td>\n",
       "      <td>3.0</td>\n",
       "      <td>1.4</td>\n",
       "      <td>0.2</td>\n",
       "      <td>setosa</td>\n",
       "      <td>1</td>\n",
       "      <td>-2.714142</td>\n",
       "      <td>-0.177001</td>\n",
       "      <td>8.577435</td>\n",
       "      <td>23.864986</td>\n",
       "    </tr>\n",
       "    <tr>\n",
       "      <th>2</th>\n",
       "      <td>4.7</td>\n",
       "      <td>3.2</td>\n",
       "      <td>1.3</td>\n",
       "      <td>0.2</td>\n",
       "      <td>setosa</td>\n",
       "      <td>1</td>\n",
       "      <td>-2.888991</td>\n",
       "      <td>-0.144949</td>\n",
       "      <td>7.902760</td>\n",
       "      <td>23.480476</td>\n",
       "    </tr>\n",
       "    <tr>\n",
       "      <th>3</th>\n",
       "      <td>4.6</td>\n",
       "      <td>3.1</td>\n",
       "      <td>1.5</td>\n",
       "      <td>0.2</td>\n",
       "      <td>setosa</td>\n",
       "      <td>1</td>\n",
       "      <td>-2.745343</td>\n",
       "      <td>-0.318299</td>\n",
       "      <td>7.691000</td>\n",
       "      <td>23.256388</td>\n",
       "    </tr>\n",
       "    <tr>\n",
       "      <th>4</th>\n",
       "      <td>5.0</td>\n",
       "      <td>3.6</td>\n",
       "      <td>1.4</td>\n",
       "      <td>0.2</td>\n",
       "      <td>setosa</td>\n",
       "      <td>1</td>\n",
       "      <td>-2.728717</td>\n",
       "      <td>0.326755</td>\n",
       "      <td>7.589659</td>\n",
       "      <td>26.284225</td>\n",
       "    </tr>\n",
       "  </tbody>\n",
       "</table>\n",
       "</div>"
      ],
      "text/plain": [
       "   sepal_length  sepal_width  petal_length  petal_width species  \\\n",
       "0           5.1          3.5           1.4          0.2  setosa   \n",
       "1           4.9          3.0           1.4          0.2  setosa   \n",
       "2           4.7          3.2           1.3          0.2  setosa   \n",
       "3           4.6          3.1           1.5          0.2  setosa   \n",
       "4           5.0          3.6           1.4          0.2  setosa   \n",
       "\n",
       "   kmeans_cluster       PC1       PC2     tsne1      tsne2  \n",
       "0               1 -2.684126  0.319397  8.037639  26.252501  \n",
       "1               1 -2.714142 -0.177001  8.577435  23.864986  \n",
       "2               1 -2.888991 -0.144949  7.902760  23.480476  \n",
       "3               1 -2.745343 -0.318299  7.691000  23.256388  \n",
       "4               1 -2.728717  0.326755  7.589659  26.284225  "
      ]
     },
     "execution_count": 33,
     "metadata": {},
     "output_type": "execute_result"
    }
   ],
   "source": [
    "from sklearn.manifold import TSNE\n",
    "tsne = TSNE(n_components=2, random_state=0, n_jobs=-1)\n",
    "X_tsne = tsne.fit_transform(df[cols])\n",
    "\n",
    "df[['tsne1','tsne2']] = X_tsne\n",
    "df.head(5)"
   ]
  },
  {
   "cell_type": "code",
   "execution_count": null,
   "metadata": {
    "cell_id": "ffc4b00fb0e04699b3dffcdd469502e1",
    "deepnote_cell_type": "code",
    "deepnote_to_be_reexecuted": false,
    "execution_millis": 76,
    "execution_start": 1701294079210,
    "source_hash": null
   },
   "outputs": [
    {
     "data": {
      "text/html": [
       "\n",
       "<div id=\"altair-viz-65c12319af8f49bfacb1c5f6d63e7283\"></div>\n",
       "<script type=\"text/javascript\">\n",
       "  var VEGA_DEBUG = (typeof VEGA_DEBUG == \"undefined\") ? {} : VEGA_DEBUG;\n",
       "  (function(spec, embedOpt){\n",
       "    let outputDiv = document.currentScript.previousElementSibling;\n",
       "    if (outputDiv.id !== \"altair-viz-65c12319af8f49bfacb1c5f6d63e7283\") {\n",
       "      outputDiv = document.getElementById(\"altair-viz-65c12319af8f49bfacb1c5f6d63e7283\");\n",
       "    }\n",
       "    const paths = {\n",
       "      \"vega\": \"https://cdn.jsdelivr.net/npm//vega@5?noext\",\n",
       "      \"vega-lib\": \"https://cdn.jsdelivr.net/npm//vega-lib?noext\",\n",
       "      \"vega-lite\": \"https://cdn.jsdelivr.net/npm//vega-lite@4.17.0?noext\",\n",
       "      \"vega-embed\": \"https://cdn.jsdelivr.net/npm//vega-embed@6?noext\",\n",
       "    };\n",
       "\n",
       "    function maybeLoadScript(lib, version) {\n",
       "      var key = `${lib.replace(\"-\", \"\")}_version`;\n",
       "      return (VEGA_DEBUG[key] == version) ?\n",
       "        Promise.resolve(paths[lib]) :\n",
       "        new Promise(function(resolve, reject) {\n",
       "          var s = document.createElement('script');\n",
       "          document.getElementsByTagName(\"head\")[0].appendChild(s);\n",
       "          s.async = true;\n",
       "          s.onload = () => {\n",
       "            VEGA_DEBUG[key] = version;\n",
       "            return resolve(paths[lib]);\n",
       "          };\n",
       "          s.onerror = () => reject(`Error loading script: ${paths[lib]}`);\n",
       "          s.src = paths[lib];\n",
       "        });\n",
       "    }\n",
       "\n",
       "    function showError(err) {\n",
       "      outputDiv.innerHTML = `<div class=\"error\" style=\"color:red;\">${err}</div>`;\n",
       "      throw err;\n",
       "    }\n",
       "\n",
       "    function displayChart(vegaEmbed) {\n",
       "      vegaEmbed(outputDiv, spec, embedOpt)\n",
       "        .catch(err => showError(`Javascript Error: ${err.message}<br>This usually means there's a typo in your chart specification. See the javascript console for the full traceback.`));\n",
       "    }\n",
       "\n",
       "    if(typeof define === \"function\" && define.amd) {\n",
       "      requirejs.config({paths});\n",
       "      require([\"vega-embed\"], displayChart, err => showError(`Error loading script: ${err.message}`));\n",
       "    } else {\n",
       "      maybeLoadScript(\"vega\", \"5\")\n",
       "        .then(() => maybeLoadScript(\"vega-lite\", \"4.17.0\"))\n",
       "        .then(() => maybeLoadScript(\"vega-embed\", \"6\"))\n",
       "        .catch(showError)\n",
       "        .then(() => displayChart(vegaEmbed));\n",
       "    }\n",
       "  })({\"config\": {\"view\": {\"continuousWidth\": 400, \"continuousHeight\": 300}}, \"hconcat\": [{\"mark\": {\"type\": \"circle\", \"size\": 60}, \"encoding\": {\"color\": {\"field\": \"kmeans_cluster\", \"scale\": {\"scheme\": \"set1\"}, \"type\": \"nominal\"}, \"tooltip\": [{\"field\": \"kmeans_cluster\", \"type\": \"nominal\"}], \"x\": {\"field\": \"tsne1\", \"type\": \"quantitative\"}, \"y\": {\"field\": \"tsne2\", \"type\": \"quantitative\"}}, \"title\": \"K-means clustering\"}, {\"mark\": {\"type\": \"circle\", \"size\": 60}, \"encoding\": {\"color\": {\"field\": \"species\", \"scale\": {\"scheme\": \"set1\"}, \"type\": \"nominal\"}, \"tooltip\": [{\"field\": \"species\", \"type\": \"nominal\"}], \"x\": {\"field\": \"tsne1\", \"type\": \"quantitative\"}, \"y\": {\"field\": \"tsne2\", \"type\": \"quantitative\"}}, \"title\": \"Species\"}], \"data\": {\"name\": \"data-2330e2a745f65b9f6a04a6185a0b7c7b\"}, \"title\": \"tsne: k-means clusterting vs species label\", \"$schema\": \"https://vega.github.io/schema/vega-lite/v4.17.0.json\", \"datasets\": {\"data-2330e2a745f65b9f6a04a6185a0b7c7b\": [{\"sepal_length\": 5.1, \"sepal_width\": 3.5, \"petal_length\": 1.4, \"petal_width\": 0.2, \"species\": \"setosa\", \"kmeans_cluster\": 1, \"PC1\": -2.684125625969541, \"PC2\": 0.3193972465851031, \"tsne1\": 8.037638664245605, \"tsne2\": 26.252500534057617}, {\"sepal_length\": 4.9, \"sepal_width\": 3.0, \"petal_length\": 1.4, \"petal_width\": 0.2, \"species\": \"setosa\", \"kmeans_cluster\": 1, \"PC1\": -2.7141416872943274, \"PC2\": -0.17700122506477925, \"tsne1\": 8.577434539794922, \"tsne2\": 23.864986419677734}, {\"sepal_length\": 4.7, \"sepal_width\": 3.2, \"petal_length\": 1.3, \"petal_width\": 0.2, \"species\": \"setosa\", \"kmeans_cluster\": 1, \"PC1\": -2.888990569059296, \"PC2\": -0.14494942608555722, \"tsne1\": 7.902760028839111, \"tsne2\": 23.48047637939453}, {\"sepal_length\": 4.6, \"sepal_width\": 3.1, \"petal_length\": 1.5, \"petal_width\": 0.2, \"species\": \"setosa\", \"kmeans_cluster\": 1, \"PC1\": -2.745342855641409, \"PC2\": -0.31829897925191586, \"tsne1\": 7.690999507904053, \"tsne2\": 23.25638771057129}, {\"sepal_length\": 5.0, \"sepal_width\": 3.6, \"petal_length\": 1.4, \"petal_width\": 0.2, \"species\": \"setosa\", \"kmeans_cluster\": 1, \"PC1\": -2.7287165365545287, \"PC2\": 0.32675451293492047, \"tsne1\": 7.589658737182617, \"tsne2\": 26.284225463867188}, {\"sepal_length\": 5.4, \"sepal_width\": 3.9, \"petal_length\": 1.7, \"petal_width\": 0.4, \"species\": \"setosa\", \"kmeans_cluster\": 1, \"PC1\": -2.2808596328444914, \"PC2\": 0.7413304490629157, \"tsne1\": 7.209024429321289, \"tsne2\": 28.15073585510254}, {\"sepal_length\": 4.6, \"sepal_width\": 3.4, \"petal_length\": 1.4, \"petal_width\": 0.3, \"species\": \"setosa\", \"kmeans_cluster\": 1, \"PC1\": -2.820537750740608, \"PC2\": -0.08946138452856846, \"tsne1\": 7.049851417541504, \"tsne2\": 23.645645141601562}, {\"sepal_length\": 5.0, \"sepal_width\": 3.4, \"petal_length\": 1.5, \"petal_width\": 0.2, \"species\": \"setosa\", \"kmeans_cluster\": 1, \"PC1\": -2.6261449731466318, \"PC2\": 0.16338495969832917, \"tsne1\": 7.771018028259277, \"tsne2\": 25.48414421081543}, {\"sepal_length\": 4.4, \"sepal_width\": 2.9, \"petal_length\": 1.4, \"petal_width\": 0.2, \"species\": \"setosa\", \"kmeans_cluster\": 1, \"PC1\": -2.8863827317805524, \"PC2\": -0.5783117541867038, \"tsne1\": 8.21087646484375, \"tsne2\": 22.541921615600586}, {\"sepal_length\": 4.9, \"sepal_width\": 3.1, \"petal_length\": 1.5, \"petal_width\": 0.1, \"species\": \"setosa\", \"kmeans_cluster\": 1, \"PC1\": -2.672755797820953, \"PC2\": -0.11377424587411651, \"tsne1\": 8.172469139099121, \"tsne2\": 24.208656311035156}, {\"sepal_length\": 5.4, \"sepal_width\": 3.7, \"petal_length\": 1.5, \"petal_width\": 0.2, \"species\": \"setosa\", \"kmeans_cluster\": 1, \"PC1\": -2.5069470906518547, \"PC2\": 0.6450688986485744, \"tsne1\": 7.95173454284668, \"tsne2\": 27.74275016784668}, {\"sepal_length\": 4.8, \"sepal_width\": 3.4, \"petal_length\": 1.6, \"petal_width\": 0.2, \"species\": \"setosa\", \"kmeans_cluster\": 1, \"PC1\": -2.612755230908722, \"PC2\": 0.014729939161374953, \"tsne1\": 7.2248311042785645, \"tsne2\": 24.751399993896484}, {\"sepal_length\": 4.8, \"sepal_width\": 3.0, \"petal_length\": 1.4, \"petal_width\": 0.1, \"species\": \"setosa\", \"kmeans_cluster\": 1, \"PC1\": -2.786109266188017, \"PC2\": -0.23511200020171813, \"tsne1\": 8.468332290649414, \"tsne2\": 23.507112503051758}, {\"sepal_length\": 4.3, \"sepal_width\": 3.0, \"petal_length\": 1.1, \"petal_width\": 0.1, \"species\": \"setosa\", \"kmeans_cluster\": 1, \"PC1\": -3.223803743865651, \"PC2\": -0.511394587006382, \"tsne1\": 7.934102535247803, \"tsne2\": 22.189376831054688}, {\"sepal_length\": 5.8, \"sepal_width\": 4.0, \"petal_length\": 1.2, \"petal_width\": 0.2, \"species\": \"setosa\", \"kmeans_cluster\": 1, \"PC1\": -2.644750389942029, \"PC2\": 1.1787646364375761, \"tsne1\": 7.977337837219238, \"tsne2\": 29.013093948364258}, {\"sepal_length\": 5.7, \"sepal_width\": 4.4, \"petal_length\": 1.5, \"petal_width\": 0.4, \"species\": \"setosa\", \"kmeans_cluster\": 1, \"PC1\": -2.386039033531132, \"PC2\": 1.3380623304006534, \"tsne1\": 7.400376796722412, \"tsne2\": 29.17398452758789}, {\"sepal_length\": 5.4, \"sepal_width\": 3.9, \"petal_length\": 1.3, \"petal_width\": 0.4, \"species\": \"setosa\", \"kmeans_cluster\": 1, \"PC1\": -2.623527875224425, \"PC2\": 0.8106795141812584, \"tsne1\": 7.661418437957764, \"tsne2\": 28.311866760253906}, {\"sepal_length\": 5.1, \"sepal_width\": 3.5, \"petal_length\": 1.4, \"petal_width\": 0.3, \"species\": \"setosa\", \"kmeans_cluster\": 1, \"PC1\": -2.6482967062543805, \"PC2\": 0.3118491445933553, \"tsne1\": 7.832046985626221, \"tsne2\": 26.311338424682617}, {\"sepal_length\": 5.7, \"sepal_width\": 3.8, \"petal_length\": 1.7, \"petal_width\": 0.3, \"species\": \"setosa\", \"kmeans_cluster\": 1, \"PC1\": -2.199820323617579, \"PC2\": 0.8728390389622118, \"tsne1\": 8.144353866577148, \"tsne2\": 28.526371002197266}, {\"sepal_length\": 5.1, \"sepal_width\": 3.8, \"petal_length\": 1.5, \"petal_width\": 0.3, \"species\": \"setosa\", \"kmeans_cluster\": 1, \"PC1\": -2.5879863998787673, \"PC2\": 0.5135603087492776, \"tsne1\": 7.181656360626221, \"tsne2\": 27.267560958862305}, {\"sepal_length\": 5.4, \"sepal_width\": 3.4, \"petal_length\": 1.7, \"petal_width\": 0.2, \"species\": \"setosa\", \"kmeans_cluster\": 1, \"PC1\": -2.3102562152425175, \"PC2\": 0.39134593565389486, \"tsne1\": 8.703426361083984, \"tsne2\": 27.177526473999023}, {\"sepal_length\": 5.1, \"sepal_width\": 3.7, \"petal_length\": 1.5, \"petal_width\": 0.4, \"species\": \"setosa\", \"kmeans_cluster\": 1, \"PC1\": -2.5437052287571555, \"PC2\": 0.43299606327902873, \"tsne1\": 7.175339698791504, \"tsne2\": 26.926179885864258}, {\"sepal_length\": 4.6, \"sepal_width\": 3.6, \"petal_length\": 1.0, \"petal_width\": 0.2, \"species\": \"setosa\", \"kmeans_cluster\": 1, \"PC1\": -3.2159394156486107, \"PC2\": 0.13346806953852625, \"tsne1\": 9.731256484985352, \"tsne2\": 24.364505767822266}, {\"sepal_length\": 5.1, \"sepal_width\": 3.3, \"petal_length\": 1.7, \"petal_width\": 0.5, \"species\": \"setosa\", \"kmeans_cluster\": 1, \"PC1\": -2.3027331822262065, \"PC2\": 0.09870885481409995, \"tsne1\": 6.619461536407471, \"tsne2\": 25.72086524963379}, {\"sepal_length\": 4.8, \"sepal_width\": 3.4, \"petal_length\": 1.9, \"petal_width\": 0.2, \"species\": \"setosa\", \"kmeans_cluster\": 1, \"PC1\": -2.355754049123772, \"PC2\": -0.03728185967738212, \"tsne1\": 6.536403179168701, \"tsne2\": 24.707927703857422}, {\"sepal_length\": 5.0, \"sepal_width\": 3.0, \"petal_length\": 1.6, \"petal_width\": 0.2, \"species\": \"setosa\", \"kmeans_cluster\": 1, \"PC1\": -2.5066689069258206, \"PC2\": -0.14601688049526743, \"tsne1\": 8.505605697631836, \"tsne2\": 24.246990203857422}, {\"sepal_length\": 5.0, \"sepal_width\": 3.4, \"petal_length\": 1.6, \"petal_width\": 0.4, \"species\": \"setosa\", \"kmeans_cluster\": 1, \"PC1\": -2.468820073121338, \"PC2\": 0.13095148943525073, \"tsne1\": 7.050191402435303, \"tsne2\": 25.652454376220703}, {\"sepal_length\": 5.2, \"sepal_width\": 3.5, \"petal_length\": 1.5, \"petal_width\": 0.2, \"species\": \"setosa\", \"kmeans_cluster\": 1, \"PC1\": -2.562319906196015, \"PC2\": 0.3677188574342005, \"tsne1\": 8.049202919006348, \"tsne2\": 26.687559127807617}, {\"sepal_length\": 5.2, \"sepal_width\": 3.4, \"petal_length\": 1.4, \"petal_width\": 0.2, \"species\": \"setosa\", \"kmeans_cluster\": 1, \"PC1\": -2.6395347153845417, \"PC2\": 0.3120399802352835, \"tsne1\": 8.469137191772461, \"tsne2\": 26.288982391357422}, {\"sepal_length\": 4.7, \"sepal_width\": 3.2, \"petal_length\": 1.6, \"petal_width\": 0.2, \"species\": \"setosa\", \"kmeans_cluster\": 1, \"PC1\": -2.6319893872743454, \"PC2\": -0.1969612249243143, \"tsne1\": 7.3592987060546875, \"tsne2\": 23.94168472290039}, {\"sepal_length\": 4.8, \"sepal_width\": 3.1, \"petal_length\": 1.6, \"petal_width\": 0.2, \"species\": \"setosa\", \"kmeans_cluster\": 1, \"PC1\": -2.5873984766893514, \"PC2\": -0.20431849127413315, \"tsne1\": 7.715032577514648, \"tsne2\": 24.02857208251953}, {\"sepal_length\": 5.4, \"sepal_width\": 3.4, \"petal_length\": 1.5, \"petal_width\": 0.4, \"species\": \"setosa\", \"kmeans_cluster\": 1, \"PC1\": -2.409932497002174, \"PC2\": 0.41092426422957334, \"tsne1\": 8.594305992126465, \"tsne2\": 27.135068893432617}, {\"sepal_length\": 5.2, \"sepal_width\": 4.1, \"petal_length\": 1.5, \"petal_width\": 0.1, \"species\": \"setosa\", \"kmeans_cluster\": 1, \"PC1\": -2.648862334349911, \"PC2\": 0.813363820296963, \"tsne1\": 6.891043186187744, \"tsne2\": 28.31686782836914}, {\"sepal_length\": 5.5, \"sepal_width\": 4.2, \"petal_length\": 1.4, \"petal_width\": 0.2, \"species\": \"setosa\", \"kmeans_cluster\": 1, \"PC1\": -2.5987367491005857, \"PC2\": 1.0931457594493577, \"tsne1\": 7.35365629196167, \"tsne2\": 28.86300277709961}, {\"sepal_length\": 4.9, \"sepal_width\": 3.1, \"petal_length\": 1.5, \"petal_width\": 0.2, \"species\": \"setosa\", \"kmeans_cluster\": 1, \"PC1\": -2.6369268781057977, \"PC2\": -0.12132234786586286, \"tsne1\": 8.089524269104004, \"tsne2\": 24.249935150146484}, {\"sepal_length\": 5.0, \"sepal_width\": 3.2, \"petal_length\": 1.2, \"petal_width\": 0.2, \"species\": \"setosa\", \"kmeans_cluster\": 1, \"PC1\": -2.866241652118669, \"PC2\": 0.06936447158008105, \"tsne1\": 8.766927719116211, \"tsne2\": 24.83224868774414}, {\"sepal_length\": 5.5, \"sepal_width\": 3.5, \"petal_length\": 1.3, \"petal_width\": 0.2, \"species\": \"setosa\", \"kmeans_cluster\": 1, \"PC1\": -2.625238049850371, \"PC2\": 0.5993700213794242, \"tsne1\": 8.635529518127441, \"tsne2\": 27.655927658081055}, {\"sepal_length\": 4.9, \"sepal_width\": 3.6, \"petal_length\": 1.4, \"petal_width\": 0.1, \"species\": \"setosa\", \"kmeans_cluster\": 1, \"PC1\": -2.8006841154482207, \"PC2\": 0.26864373779798284, \"tsne1\": 7.623937606811523, \"tsne2\": 25.808197021484375}, {\"sepal_length\": 4.4, \"sepal_width\": 3.0, \"petal_length\": 1.3, \"petal_width\": 0.2, \"species\": \"setosa\", \"kmeans_cluster\": 1, \"PC1\": -2.9805020437819927, \"PC2\": -0.4879583444286153, \"tsne1\": 7.962337017059326, \"tsne2\": 22.54875946044922}, {\"sepal_length\": 5.1, \"sepal_width\": 3.4, \"petal_length\": 1.5, \"petal_width\": 0.2, \"species\": \"setosa\", \"kmeans_cluster\": 1, \"PC1\": -2.5900063139680944, \"PC2\": 0.22904383682701318, \"tsne1\": 8.06701374053955, \"tsne2\": 25.876379013061523}, {\"sepal_length\": 5.0, \"sepal_width\": 3.5, \"petal_length\": 1.3, \"petal_width\": 0.3, \"species\": \"setosa\", \"kmeans_cluster\": 1, \"PC1\": -2.7701024260279006, \"PC2\": 0.263527533744257, \"tsne1\": 8.210968971252441, \"tsne2\": 25.851945877075195}, {\"sepal_length\": 4.5, \"sepal_width\": 2.3, \"petal_length\": 1.3, \"petal_width\": 0.3, \"species\": \"setosa\", \"kmeans_cluster\": 1, \"PC1\": -2.8493687050431022, \"PC2\": -0.9409605736411968, \"tsne1\": 8.955004692077637, \"tsne2\": 22.28942108154297}, {\"sepal_length\": 4.4, \"sepal_width\": 3.2, \"petal_length\": 1.3, \"petal_width\": 0.2, \"species\": \"setosa\", \"kmeans_cluster\": 1, \"PC1\": -2.997406546594907, \"PC2\": -0.34192605747160976, \"tsne1\": 7.507742881774902, \"tsne2\": 22.690305709838867}, {\"sepal_length\": 5.0, \"sepal_width\": 3.5, \"petal_length\": 1.6, \"petal_width\": 0.6, \"species\": \"setosa\", \"kmeans_cluster\": 1, \"PC1\": -2.4056144850974843, \"PC2\": 0.18887142893026088, \"tsne1\": 6.558348178863525, \"tsne2\": 26.141496658325195}, {\"sepal_length\": 5.1, \"sepal_width\": 3.8, \"petal_length\": 1.9, \"petal_width\": 0.4, \"species\": \"setosa\", \"kmeans_cluster\": 1, \"PC1\": -2.2094892377836786, \"PC2\": 0.4366631416391884, \"tsne1\": 6.406949996948242, \"tsne2\": 27.37746238708496}, {\"sepal_length\": 4.8, \"sepal_width\": 3.0, \"petal_length\": 1.4, \"petal_width\": 0.3, \"species\": \"setosa\", \"kmeans_cluster\": 1, \"PC1\": -2.714451426757707, \"PC2\": -0.2502082041852109, \"tsne1\": 8.432035446166992, \"tsne2\": 23.518281936645508}, {\"sepal_length\": 5.1, \"sepal_width\": 3.8, \"petal_length\": 1.6, \"petal_width\": 0.2, \"species\": \"setosa\", \"kmeans_cluster\": 1, \"PC1\": -2.538148258998939, \"PC2\": 0.5037711444614382, \"tsne1\": 7.0979084968566895, \"tsne2\": 27.328832626342773}, {\"sepal_length\": 4.6, \"sepal_width\": 3.2, \"petal_length\": 1.4, \"petal_width\": 0.2, \"species\": \"setosa\", \"kmeans_cluster\": 1, \"PC1\": -2.839462167642849, \"PC2\": -0.22794556949382733, \"tsne1\": 7.540639400482178, \"tsne2\": 23.294198989868164}, {\"sepal_length\": 5.3, \"sepal_width\": 3.7, \"petal_length\": 1.5, \"petal_width\": 0.2, \"species\": \"setosa\", \"kmeans_cluster\": 1, \"PC1\": -2.543085749830392, \"PC2\": 0.5794100215198902, \"tsne1\": 7.777353763580322, \"tsne2\": 27.470993041992188}, {\"sepal_length\": 5.0, \"sepal_width\": 3.3, \"petal_length\": 1.4, \"petal_width\": 0.2, \"species\": \"setosa\", \"kmeans_cluster\": 1, \"PC1\": -2.7033597823351587, \"PC2\": 0.1077060824994121, \"tsne1\": 8.178937911987305, \"tsne2\": 25.17437744140625}, {\"sepal_length\": 7.0, \"sepal_width\": 3.2, \"petal_length\": 4.7, \"petal_width\": 1.4, \"species\": \"versicolor\", \"kmeans_cluster\": 0, \"PC1\": 1.2848256888583536, \"PC2\": 0.6851604704673091, \"tsne1\": -1.2945570945739746, \"tsne2\": -11.710289001464844}, {\"sepal_length\": 6.4, \"sepal_width\": 3.2, \"petal_length\": 4.5, \"petal_width\": 1.5, \"species\": \"versicolor\", \"kmeans_cluster\": 0, \"PC1\": 0.9324885323123204, \"PC2\": 0.3183336382626293, \"tsne1\": -0.8836458921432495, \"tsne2\": -10.0156831741333}, {\"sepal_length\": 6.9, \"sepal_width\": 3.1, \"petal_length\": 4.9, \"petal_width\": 1.5, \"species\": \"versicolor\", \"kmeans_cluster\": 2, \"PC1\": 1.4643023219913962, \"PC2\": 0.5042628153092046, \"tsne1\": -1.7892093658447266, \"tsne2\": -11.681868553161621}, {\"sepal_length\": 5.5, \"sepal_width\": 2.3, \"petal_length\": 4.0, \"petal_width\": 1.3, \"species\": \"versicolor\", \"kmeans_cluster\": 0, \"PC1\": 0.1833177199583726, \"PC2\": -0.8279590118206326, \"tsne1\": 3.2198238372802734, \"tsne2\": -7.217206954956055}, {\"sepal_length\": 6.5, \"sepal_width\": 2.8, \"petal_length\": 4.6, \"petal_width\": 1.5, \"species\": \"versicolor\", \"kmeans_cluster\": 0, \"PC1\": 1.088103257711668, \"PC2\": 0.07459067519771641, \"tsne1\": -1.1289691925048828, \"tsne2\": -10.440545082092285}, {\"sepal_length\": 5.7, \"sepal_width\": 2.8, \"petal_length\": 4.5, \"petal_width\": 1.3, \"species\": \"versicolor\", \"kmeans_cluster\": 0, \"PC1\": 0.6416690842580796, \"PC2\": -0.4182468715686787, \"tsne1\": 0.7124359011650085, \"tsne2\": -7.486250400543213}, {\"sepal_length\": 6.3, \"sepal_width\": 3.3, \"petal_length\": 4.7, \"petal_width\": 1.6, \"species\": \"versicolor\", \"kmeans_cluster\": 0, \"PC1\": 1.095060662632449, \"PC2\": 0.2834682700615294, \"tsne1\": -1.4640872478485107, \"tsne2\": -9.538566589355469}, {\"sepal_length\": 4.9, \"sepal_width\": 2.4, \"petal_length\": 3.3, \"petal_width\": 1.0, \"species\": \"versicolor\", \"kmeans_cluster\": 0, \"PC1\": -0.7491226698296556, \"PC2\": -1.0048909611818955, \"tsne1\": 4.114863395690918, \"tsne2\": -5.802488803863525}, {\"sepal_length\": 6.6, \"sepal_width\": 2.9, \"petal_length\": 4.6, \"petal_width\": 1.3, \"species\": \"versicolor\", \"kmeans_cluster\": 0, \"PC1\": 1.0441318260534382, \"PC2\": 0.2283618997883959, \"tsne1\": -0.8679096698760986, \"tsne2\": -10.778643608093262}, {\"sepal_length\": 5.2, \"sepal_width\": 2.7, \"petal_length\": 3.9, \"petal_width\": 1.4, \"species\": \"versicolor\", \"kmeans_cluster\": 0, \"PC1\": -0.008745404082894285, \"PC2\": -0.7230819050048343, \"tsne1\": 3.512542963027954, \"tsne2\": -7.086820602416992}, {\"sepal_length\": 5.0, \"sepal_width\": 2.0, \"petal_length\": 3.5, \"petal_width\": 1.0, \"species\": \"versicolor\", \"kmeans_cluster\": 0, \"PC1\": -0.5078408838353242, \"PC2\": -1.265971190526394, \"tsne1\": 4.227342128753662, \"tsne2\": -6.112034797668457}, {\"sepal_length\": 5.9, \"sepal_width\": 3.0, \"petal_length\": 4.2, \"petal_width\": 1.5, \"species\": \"versicolor\", \"kmeans_cluster\": 0, \"PC1\": 0.5116985574475993, \"PC2\": -0.10398123549904023, \"tsne1\": 0.7800210118293762, \"tsne2\": -8.053461074829102}, {\"sepal_length\": 6.0, \"sepal_width\": 2.2, \"petal_length\": 4.0, \"petal_width\": 1.0, \"species\": \"versicolor\", \"kmeans_cluster\": 0, \"PC1\": 0.2649765081120483, \"PC2\": -0.5500364636804747, \"tsne1\": 2.943513870239258, \"tsne2\": -8.18418025970459}, {\"sepal_length\": 6.1, \"sepal_width\": 2.9, \"petal_length\": 4.7, \"petal_width\": 1.4, \"species\": \"versicolor\", \"kmeans_cluster\": 0, \"PC1\": 0.9849345104708923, \"PC2\": -0.12481785412635721, \"tsne1\": -0.8904536962509155, \"tsne2\": -9.029486656188965}, {\"sepal_length\": 5.6, \"sepal_width\": 2.9, \"petal_length\": 3.6, \"petal_width\": 1.3, \"species\": \"versicolor\", \"kmeans_cluster\": 0, \"PC1\": -0.17392537168176606, \"PC2\": -0.2548542087025892, \"tsne1\": 2.555950880050659, \"tsne2\": -6.214560031890869}, {\"sepal_length\": 6.7, \"sepal_width\": 3.1, \"petal_length\": 4.4, \"petal_width\": 1.4, \"species\": \"versicolor\", \"kmeans_cluster\": 0, \"PC1\": 0.9278607809442491, \"PC2\": 0.4671794944415109, \"tsne1\": -0.6554071307182312, \"tsne2\": -10.991935729980469}, {\"sepal_length\": 5.6, \"sepal_width\": 3.0, \"petal_length\": 4.5, \"petal_width\": 1.5, \"species\": \"versicolor\", \"kmeans_cluster\": 0, \"PC1\": 0.660283761696939, \"PC2\": -0.35296966572385036, \"tsne1\": 0.3097721040248871, \"tsne2\": -7.278628349304199}, {\"sepal_length\": 5.8, \"sepal_width\": 2.7, \"petal_length\": 4.1, \"petal_width\": 1.0, \"species\": \"versicolor\", \"kmeans_cluster\": 0, \"PC1\": 0.2361049933176735, \"PC2\": -0.33361076682491525, \"tsne1\": 2.2516541481018066, \"tsne2\": -7.711475372314453}, {\"sepal_length\": 6.2, \"sepal_width\": 2.2, \"petal_length\": 4.5, \"petal_width\": 1.5, \"species\": \"versicolor\", \"kmeans_cluster\": 0, \"PC1\": 0.9447337280198155, \"PC2\": -0.5431455507797666, \"tsne1\": 1.187354326248169, \"tsne2\": -10.084668159484863}, {\"sepal_length\": 5.6, \"sepal_width\": 2.5, \"petal_length\": 3.9, \"petal_width\": 1.1, \"species\": \"versicolor\", \"kmeans_cluster\": 0, \"PC1\": 0.04522697629870169, \"PC2\": -0.5838343774718644, \"tsne1\": 2.8474576473236084, \"tsne2\": -6.939335823059082}, {\"sepal_length\": 5.9, \"sepal_width\": 3.2, \"petal_length\": 4.8, \"petal_width\": 1.8, \"species\": \"versicolor\", \"kmeans_cluster\": 0, \"PC1\": 1.1162831773500517, \"PC2\": -0.08461685219478782, \"tsne1\": -2.271684408187866, \"tsne2\": -8.31466007232666}, {\"sepal_length\": 6.1, \"sepal_width\": 2.8, \"petal_length\": 4.0, \"petal_width\": 1.3, \"species\": \"versicolor\", \"kmeans_cluster\": 0, \"PC1\": 0.3578884179973092, \"PC2\": -0.06892503165601371, \"tsne1\": 1.6393659114837646, \"tsne2\": -8.409477233886719}, {\"sepal_length\": 6.3, \"sepal_width\": 2.5, \"petal_length\": 4.9, \"petal_width\": 1.5, \"species\": \"versicolor\", \"kmeans_cluster\": 0, \"PC1\": 1.2981838753589157, \"PC2\": -0.32778730833391734, \"tsne1\": -2.8025107383728027, \"tsne2\": -10.11656379699707}, {\"sepal_length\": 6.1, \"sepal_width\": 2.8, \"petal_length\": 4.7, \"petal_width\": 1.2, \"species\": \"versicolor\", \"kmeans_cluster\": 0, \"PC1\": 0.9217289224470391, \"PC2\": -0.1827377936213673, \"tsne1\": -0.43521103262901306, \"tsne2\": -9.085315704345703}, {\"sepal_length\": 6.4, \"sepal_width\": 2.9, \"petal_length\": 4.3, \"petal_width\": 1.3, \"species\": \"versicolor\", \"kmeans_cluster\": 0, \"PC1\": 0.7148533259114135, \"PC2\": 0.14905594436978506, \"tsne1\": -0.02543257735669613, \"tsne2\": -9.967598915100098}, {\"sepal_length\": 6.6, \"sepal_width\": 3.0, \"petal_length\": 4.4, \"petal_width\": 1.4, \"species\": \"versicolor\", \"kmeans_cluster\": 0, \"PC1\": 0.9001743731721693, \"PC2\": 0.3285044738343237, \"tsne1\": -0.5508893132209778, \"tsne2\": -10.65787410736084}, {\"sepal_length\": 6.8, \"sepal_width\": 2.8, \"petal_length\": 4.8, \"petal_width\": 1.4, \"species\": \"versicolor\", \"kmeans_cluster\": 0, \"PC1\": 1.3320244367220904, \"PC2\": 0.2444408760163438, \"tsne1\": -1.5535622835159302, \"tsne2\": -11.31238842010498}, {\"sepal_length\": 6.7, \"sepal_width\": 3.0, \"petal_length\": 5.0, \"petal_width\": 1.7, \"species\": \"versicolor\", \"kmeans_cluster\": 2, \"PC1\": 1.5578021550660723, \"PC2\": 0.2674954473102549, \"tsne1\": -2.6650712490081787, \"tsne2\": -11.488554954528809}, {\"sepal_length\": 6.0, \"sepal_width\": 2.9, \"petal_length\": 4.5, \"petal_width\": 1.5, \"species\": \"versicolor\", \"kmeans_cluster\": 0, \"PC1\": 0.8132906498175435, \"PC2\": -0.16335030068761613, \"tsne1\": -0.2828073799610138, \"tsne2\": -8.54355525970459}, {\"sepal_length\": 5.7, \"sepal_width\": 2.6, \"petal_length\": 3.5, \"petal_width\": 1.0, \"species\": \"versicolor\", \"kmeans_cluster\": 0, \"PC1\": -0.30558377802430736, \"PC2\": -0.3682621897545878, \"tsne1\": 3.07594633102417, \"tsne2\": -6.132905006408691}, {\"sepal_length\": 5.5, \"sepal_width\": 2.4, \"petal_length\": 3.8, \"petal_width\": 1.1, \"species\": \"versicolor\", \"kmeans_cluster\": 0, \"PC1\": -0.06812649206836169, \"PC2\": -0.7051721317994655, \"tsne1\": 3.2391583919525146, \"tsne2\": -6.702661514282227}, {\"sepal_length\": 5.5, \"sepal_width\": 2.4, \"petal_length\": 3.7, \"petal_width\": 1.0, \"species\": \"versicolor\", \"kmeans_cluster\": 0, \"PC1\": -0.18962247237849997, \"PC2\": -0.6802867635281336, \"tsne1\": 3.390876531600952, \"tsne2\": -6.482435703277588}, {\"sepal_length\": 5.8, \"sepal_width\": 2.7, \"petal_length\": 3.9, \"petal_width\": 1.2, \"species\": \"versicolor\", \"kmeans_cluster\": 0, \"PC1\": 0.1364287115580168, \"PC2\": -0.31403243824923666, \"tsne1\": 2.413472890853882, \"tsne2\": -7.348581314086914}, {\"sepal_length\": 6.0, \"sepal_width\": 2.7, \"petal_length\": 5.1, \"petal_width\": 1.6, \"species\": \"versicolor\", \"kmeans_cluster\": 0, \"PC1\": 1.3800264359155132, \"PC2\": -0.42095428731388185, \"tsne1\": -3.4976844787597656, \"tsne2\": -9.305670738220215}, {\"sepal_length\": 5.4, \"sepal_width\": 3.0, \"petal_length\": 4.5, \"petal_width\": 1.5, \"species\": \"versicolor\", \"kmeans_cluster\": 0, \"PC1\": 0.5880064433398654, \"PC2\": -0.48428741998121827, \"tsne1\": 0.5034925937652588, \"tsne2\": -6.896073818206787}, {\"sepal_length\": 6.0, \"sepal_width\": 3.4, \"petal_length\": 4.5, \"petal_width\": 1.6, \"species\": \"versicolor\", \"kmeans_cluster\": 0, \"PC1\": 0.8068583125004142, \"PC2\": 0.1941823147131512, \"tsne1\": -1.1740953922271729, \"tsne2\": -8.244975090026855}, {\"sepal_length\": 6.7, \"sepal_width\": 3.1, \"petal_length\": 4.7, \"petal_width\": 1.5, \"species\": \"versicolor\", \"kmeans_cluster\": 0, \"PC1\": 1.2206908824443548, \"PC2\": 0.4076195936110074, \"tsne1\": -1.3558744192123413, \"tsne2\": -11.149300575256348}, {\"sepal_length\": 6.3, \"sepal_width\": 2.3, \"petal_length\": 4.4, \"petal_width\": 1.3, \"species\": \"versicolor\", \"kmeans_cluster\": 0, \"PC1\": 0.815095235766602, \"PC2\": -0.37203705990950175, \"tsne1\": 1.1989325284957886, \"tsne2\": -9.9827880859375}, {\"sepal_length\": 5.6, \"sepal_width\": 3.0, \"petal_length\": 4.1, \"petal_width\": 1.3, \"species\": \"versicolor\", \"kmeans_cluster\": 0, \"PC1\": 0.24595767988669426, \"PC2\": -0.2685243966220147, \"tsne1\": 1.4698491096496582, \"tsne2\": -7.042045593261719}, {\"sepal_length\": 5.5, \"sepal_width\": 2.5, \"petal_length\": 4.0, \"petal_width\": 1.3, \"species\": \"versicolor\", \"kmeans_cluster\": 0, \"PC1\": 0.16641321714545868, \"PC2\": -0.6819267248636267, \"tsne1\": 2.785522937774658, \"tsne2\": -7.013978004455566}, {\"sepal_length\": 5.5, \"sepal_width\": 2.6, \"petal_length\": 4.4, \"petal_width\": 1.2, \"species\": \"versicolor\", \"kmeans_cluster\": 0, \"PC1\": 0.4648002884037811, \"PC2\": -0.6707115445117203, \"tsne1\": 1.6692216396331787, \"tsne2\": -6.721004962921143}, {\"sepal_length\": 6.1, \"sepal_width\": 3.0, \"petal_length\": 4.6, \"petal_width\": 1.4, \"species\": \"versicolor\", \"kmeans_cluster\": 0, \"PC1\": 0.8908151984694513, \"PC2\": -0.034464444368268635, \"tsne1\": -0.6581556797027588, \"tsne2\": -8.96056079864502}, {\"sepal_length\": 5.8, \"sepal_width\": 2.6, \"petal_length\": 4.0, \"petal_width\": 1.2, \"species\": \"versicolor\", \"kmeans_cluster\": 0, \"PC1\": 0.2305480235594573, \"PC2\": -0.4043858480073251, \"tsne1\": 2.440960168838501, \"tsne2\": -7.541062831878662}, {\"sepal_length\": 5.0, \"sepal_width\": 2.3, \"petal_length\": 3.3, \"petal_width\": 1.0, \"species\": \"versicolor\", \"kmeans_cluster\": 0, \"PC1\": -0.7045317592446619, \"PC2\": -1.0122482275317146, \"tsne1\": 4.083958148956299, \"tsne2\": -5.85300350189209}, {\"sepal_length\": 5.6, \"sepal_width\": 2.7, \"petal_length\": 4.2, \"petal_width\": 1.3, \"species\": \"versicolor\", \"kmeans_cluster\": 0, \"PC1\": 0.35698149470104884, \"PC2\": -0.5049100933371085, \"tsne1\": 1.8726147413253784, \"tsne2\": -7.0823798179626465}, {\"sepal_length\": 5.7, \"sepal_width\": 3.0, \"petal_length\": 4.2, \"petal_width\": 1.2, \"species\": \"versicolor\", \"kmeans_cluster\": 0, \"PC1\": 0.3319344799450603, \"PC2\": -0.21265468378116967, \"tsne1\": 1.3252679109573364, \"tsne2\": -7.442198276519775}, {\"sepal_length\": 5.7, \"sepal_width\": 2.9, \"petal_length\": 4.2, \"petal_width\": 1.3, \"species\": \"versicolor\", \"kmeans_cluster\": 0, \"PC1\": 0.3762156510666724, \"PC2\": -0.2932189292514188, \"tsne1\": 1.3844656944274902, \"tsne2\": -7.461421966552734}, {\"sepal_length\": 6.2, \"sepal_width\": 2.9, \"petal_length\": 4.3, \"petal_width\": 1.3, \"species\": \"versicolor\", \"kmeans_cluster\": 0, \"PC1\": 0.64257600755434, \"PC2\": 0.017738190112416535, \"tsne1\": 0.3362622559070587, \"tsne2\": -9.11912727355957}, {\"sepal_length\": 5.1, \"sepal_width\": 2.5, \"petal_length\": 3.0, \"petal_width\": 1.1, \"species\": \"versicolor\", \"kmeans_cluster\": 0, \"PC1\": -0.9064698649488343, \"PC2\": -0.7560933665990142, \"tsne1\": 4.082752704620361, \"tsne2\": -5.626028060913086}, {\"sepal_length\": 5.7, \"sepal_width\": 2.8, \"petal_length\": 4.1, \"petal_width\": 1.3, \"species\": \"versicolor\", \"kmeans_cluster\": 0, \"PC1\": 0.29900084187814524, \"PC2\": -0.3488978064503358, \"tsne1\": 1.8322677612304688, \"tsne2\": -7.401577949523926}, {\"sepal_length\": 6.3, \"sepal_width\": 3.3, \"petal_length\": 6.0, \"petal_width\": 2.5, \"species\": \"virginica\", \"kmeans_cluster\": 2, \"PC1\": 2.53119272780363, \"PC2\": -0.009849109498801816, \"tsne1\": -8.394185066223145, \"tsne2\": -11.390911102294922}, {\"sepal_length\": 5.8, \"sepal_width\": 2.7, \"petal_length\": 5.1, \"petal_width\": 1.9, \"species\": \"virginica\", \"kmeans_cluster\": 0, \"PC1\": 1.4152358767039046, \"PC2\": -0.5749163475464895, \"tsne1\": -3.880399227142334, \"tsne2\": -8.51451587677002}, {\"sepal_length\": 7.1, \"sepal_width\": 3.0, \"petal_length\": 5.9, \"petal_width\": 2.1, \"species\": \"virginica\", \"kmeans_cluster\": 2, \"PC1\": 2.6166760159956923, \"PC2\": 0.34390315134173455, \"tsne1\": -7.7704291343688965, \"tsne2\": -13.217301368713379}, {\"sepal_length\": 6.3, \"sepal_width\": 2.9, \"petal_length\": 5.6, \"petal_width\": 1.8, \"species\": \"virginica\", \"kmeans_cluster\": 2, \"PC1\": 1.9715310530434376, \"PC2\": -0.1797279043522453, \"tsne1\": -5.449875354766846, \"tsne2\": -11.706485748291016}, {\"sepal_length\": 6.5, \"sepal_width\": 3.0, \"petal_length\": 5.8, \"petal_width\": 2.2, \"species\": \"virginica\", \"kmeans_cluster\": 2, \"PC1\": 2.3500059200446426, \"PC2\": -0.040260947142530965, \"tsne1\": -6.9507856369018555, \"tsne2\": -12.252273559570312}, {\"sepal_length\": 7.6, \"sepal_width\": 3.0, \"petal_length\": 6.6, \"petal_width\": 2.1, \"species\": \"virginica\", \"kmeans_cluster\": 2, \"PC1\": 3.397038736053262, \"PC2\": 0.5508366730280557, \"tsne1\": -8.68402099609375, \"tsne2\": -14.319967269897461}, {\"sepal_length\": 4.9, \"sepal_width\": 2.5, \"petal_length\": 4.5, \"petal_width\": 1.7, \"species\": \"virginica\", \"kmeans_cluster\": 0, \"PC1\": 0.5212322439097756, \"PC2\": -1.1927587270006454, \"tsne1\": 4.033458709716797, \"tsne2\": -8.147181510925293}, {\"sepal_length\": 7.3, \"sepal_width\": 2.9, \"petal_length\": 6.3, \"petal_width\": 1.8, \"species\": \"virginica\", \"kmeans_cluster\": 2, \"PC1\": 2.9325870689936915, \"PC2\": 0.3555000029774966, \"tsne1\": -8.025580406188965, \"tsne2\": -14.144096374511719}, {\"sepal_length\": 6.7, \"sepal_width\": 2.5, \"petal_length\": 5.8, \"petal_width\": 1.8, \"species\": \"virginica\", \"kmeans_cluster\": 2, \"PC1\": 2.32122881657338, \"PC2\": -0.24383150231069073, \"tsne1\": -6.058757305145264, \"tsne2\": -12.958596229553223}, {\"sepal_length\": 7.2, \"sepal_width\": 3.6, \"petal_length\": 6.1, \"petal_width\": 2.5, \"species\": \"virginica\", \"kmeans_cluster\": 2, \"PC1\": 2.9167509667860747, \"PC2\": 0.7827919488152788, \"tsne1\": -8.8179931640625, \"tsne2\": -13.00367546081543}, {\"sepal_length\": 6.5, \"sepal_width\": 3.2, \"petal_length\": 5.1, \"petal_width\": 2.0, \"species\": \"virginica\", \"kmeans_cluster\": 2, \"PC1\": 1.6617741536365338, \"PC2\": 0.24222840775506727, \"tsne1\": -6.065643310546875, \"tsne2\": -10.632020950317383}, {\"sepal_length\": 6.4, \"sepal_width\": 2.7, \"petal_length\": 5.3, \"petal_width\": 1.9, \"species\": \"virginica\", \"kmeans_cluster\": 2, \"PC1\": 1.8034019529650933, \"PC2\": -0.21563761733355535, \"tsne1\": -5.042642593383789, \"tsne2\": -11.003211975097656}, {\"sepal_length\": 6.8, \"sepal_width\": 3.0, \"petal_length\": 5.5, \"petal_width\": 2.1, \"species\": \"virginica\", \"kmeans_cluster\": 2, \"PC1\": 2.1655917960801476, \"PC2\": 0.21627558507402495, \"tsne1\": -6.922510623931885, \"tsne2\": -12.035285949707031}, {\"sepal_length\": 5.7, \"sepal_width\": 2.5, \"petal_length\": 5.0, \"petal_width\": 2.0, \"species\": \"virginica\", \"kmeans_cluster\": 0, \"PC1\": 1.3461635794584532, \"PC2\": -0.7768183473443395, \"tsne1\": -4.0526814460754395, \"tsne2\": -8.226213455200195}, {\"sepal_length\": 5.8, \"sepal_width\": 2.8, \"petal_length\": 5.1, \"petal_width\": 2.4, \"species\": \"virginica\", \"kmeans_cluster\": 0, \"PC1\": 1.5859282238732233, \"PC2\": -0.5396407140267188, \"tsne1\": -4.637925624847412, \"tsne2\": -8.216827392578125}, {\"sepal_length\": 6.4, \"sepal_width\": 3.2, \"petal_length\": 5.3, \"petal_width\": 2.3, \"species\": \"virginica\", \"kmeans_cluster\": 2, \"PC1\": 1.9044563747934289, \"PC2\": 0.1192506920919729, \"tsne1\": -7.000857353210449, \"tsne2\": -10.789495468139648}, {\"sepal_length\": 6.5, \"sepal_width\": 3.0, \"petal_length\": 5.5, \"petal_width\": 1.8, \"species\": \"virginica\", \"kmeans_cluster\": 2, \"PC1\": 1.9496890593990717, \"PC2\": 0.04194325966321156, \"tsne1\": -5.731449127197266, \"tsne2\": -11.67740535736084}, {\"sepal_length\": 7.7, \"sepal_width\": 3.8, \"petal_length\": 6.7, \"petal_width\": 2.2, \"species\": \"virginica\", \"kmeans_cluster\": 2, \"PC1\": 3.487055364290282, \"PC2\": 1.1757393297134298, \"tsne1\": -9.312179565429688, \"tsne2\": -13.9089937210083}, {\"sepal_length\": 7.7, \"sepal_width\": 2.6, \"petal_length\": 6.9, \"petal_width\": 2.3, \"species\": \"virginica\", \"kmeans_cluster\": 2, \"PC1\": 3.7956454220728855, \"PC2\": 0.2573229734204796, \"tsne1\": -8.725564002990723, \"tsne2\": -14.714971542358398}, {\"sepal_length\": 6.0, \"sepal_width\": 2.2, \"petal_length\": 5.0, \"petal_width\": 1.5, \"species\": \"virginica\", \"kmeans_cluster\": 0, \"PC1\": 1.3007917126376594, \"PC2\": -0.7611496364350634, \"tsne1\": -3.792342185974121, \"tsne2\": -9.6718111038208}, {\"sepal_length\": 6.9, \"sepal_width\": 3.2, \"petal_length\": 5.7, \"petal_width\": 2.3, \"species\": \"virginica\", \"kmeans_cluster\": 2, \"PC1\": 2.4278179130660478, \"PC2\": 0.37819601261705094, \"tsne1\": -7.787441730499268, \"tsne2\": -12.366480827331543}, {\"sepal_length\": 5.6, \"sepal_width\": 2.8, \"petal_length\": 4.9, \"petal_width\": 2.0, \"species\": \"virginica\", \"kmeans_cluster\": 0, \"PC1\": 1.1990011054655627, \"PC2\": -0.6060915277579306, \"tsne1\": -3.7131242752075195, \"tsne2\": -7.954213619232178}, {\"sepal_length\": 7.7, \"sepal_width\": 2.8, \"petal_length\": 6.7, \"petal_width\": 2.0, \"species\": \"virginica\", \"kmeans_cluster\": 2, \"PC1\": 3.49992003892454, \"PC2\": 0.46067409891189526, \"tsne1\": -8.634709358215332, \"tsne2\": -14.536380767822266}, {\"sepal_length\": 6.3, \"sepal_width\": 2.7, \"petal_length\": 4.9, \"petal_width\": 1.8, \"species\": \"virginica\", \"kmeans_cluster\": 0, \"PC1\": 1.3887661316914672, \"PC2\": -0.2043993273521508, \"tsne1\": -3.133837938308716, \"tsne2\": -9.820793151855469}, {\"sepal_length\": 6.7, \"sepal_width\": 3.3, \"petal_length\": 5.7, \"petal_width\": 2.1, \"species\": \"virginica\", \"kmeans_cluster\": 2, \"PC1\": 2.275430503872207, \"PC2\": 0.3349906058216776, \"tsne1\": -7.536156177520752, \"tsne2\": -12.158856391906738}, {\"sepal_length\": 7.2, \"sepal_width\": 3.2, \"petal_length\": 6.0, \"petal_width\": 1.8, \"species\": \"virginica\", \"kmeans_cluster\": 2, \"PC1\": 2.6140904738108337, \"PC2\": 0.5609013551230783, \"tsne1\": -7.799706935882568, \"tsne2\": -13.66523551940918}, {\"sepal_length\": 6.2, \"sepal_width\": 2.8, \"petal_length\": 4.8, \"petal_width\": 1.8, \"species\": \"virginica\", \"kmeans_cluster\": 0, \"PC1\": 1.2585081605114898, \"PC2\": -0.17970479472274653, \"tsne1\": -2.730534076690674, \"tsne2\": -9.400190353393555}, {\"sepal_length\": 6.1, \"sepal_width\": 3.0, \"petal_length\": 4.9, \"petal_width\": 1.8, \"species\": \"virginica\", \"kmeans_cluster\": 0, \"PC1\": 1.291132059115023, \"PC2\": -0.11666865117401132, \"tsne1\": -2.7299551963806152, \"tsne2\": -8.915462493896484}, {\"sepal_length\": 6.4, \"sepal_width\": 2.8, \"petal_length\": 5.6, \"petal_width\": 2.1, \"species\": \"virginica\", \"kmeans_cluster\": 2, \"PC1\": 2.123608722773897, \"PC2\": -0.20972947667730266, \"tsne1\": -6.1056599617004395, \"tsne2\": -11.968024253845215}, {\"sepal_length\": 7.2, \"sepal_width\": 3.0, \"petal_length\": 5.8, \"petal_width\": 1.6, \"species\": \"virginica\", \"kmeans_cluster\": 2, \"PC1\": 2.38800301600347, \"PC2\": 0.4646398047087367, \"tsne1\": -7.367094039916992, \"tsne2\": -13.793980598449707}, {\"sepal_length\": 7.4, \"sepal_width\": 2.8, \"petal_length\": 6.1, \"petal_width\": 1.9, \"species\": \"virginica\", \"kmeans_cluster\": 2, \"PC1\": 2.841672778103873, \"PC2\": 0.37526916719510356, \"tsne1\": -7.955420970916748, \"tsne2\": -14.068000793457031}, {\"sepal_length\": 7.9, \"sepal_width\": 3.8, \"petal_length\": 6.4, \"petal_width\": 2.0, \"species\": \"virginica\", \"kmeans_cluster\": 2, \"PC1\": 3.2306736614320952, \"PC2\": 1.3741650867930482, \"tsne1\": -9.296833038330078, \"tsne2\": -13.903291702270508}, {\"sepal_length\": 6.4, \"sepal_width\": 2.8, \"petal_length\": 5.6, \"petal_width\": 2.2, \"species\": \"virginica\", \"kmeans_cluster\": 2, \"PC1\": 2.1594376424890522, \"PC2\": -0.21727757866904904, \"tsne1\": -6.28963565826416, \"tsne2\": -11.957566261291504}, {\"sepal_length\": 6.3, \"sepal_width\": 2.8, \"petal_length\": 5.1, \"petal_width\": 1.5, \"species\": \"virginica\", \"kmeans_cluster\": 0, \"PC1\": 1.4441612423295116, \"PC2\": -0.14341341045758058, \"tsne1\": -3.1397931575775146, \"tsne2\": -10.281630516052246}, {\"sepal_length\": 6.1, \"sepal_width\": 2.6, \"petal_length\": 5.6, \"petal_width\": 1.4, \"species\": \"virginica\", \"kmeans_cluster\": 2, \"PC1\": 1.7812948100451143, \"PC2\": -0.49990168107813643, \"tsne1\": -4.300772666931152, \"tsne2\": -10.878091812133789}, {\"sepal_length\": 7.7, \"sepal_width\": 3.0, \"petal_length\": 6.1, \"petal_width\": 2.3, \"species\": \"virginica\", \"kmeans_cluster\": 2, \"PC1\": 3.0764999316871897, \"PC2\": 0.6880856775711761, \"tsne1\": -8.572111129760742, \"tsne2\": -13.961385726928711}, {\"sepal_length\": 6.3, \"sepal_width\": 3.4, \"petal_length\": 5.6, \"petal_width\": 2.4, \"species\": \"virginica\", \"kmeans_cluster\": 2, \"PC1\": 2.144243314302084, \"PC2\": 0.14006420108979026, \"tsne1\": -7.884738922119141, \"tsne2\": -10.964376449584961}, {\"sepal_length\": 6.4, \"sepal_width\": 3.1, \"petal_length\": 5.5, \"petal_width\": 1.8, \"species\": \"virginica\", \"kmeans_cluster\": 2, \"PC1\": 1.9050981488140784, \"PC2\": 0.04930052601303041, \"tsne1\": -5.7022552490234375, \"tsne2\": -11.554409980773926}, {\"sepal_length\": 6.0, \"sepal_width\": 3.0, \"petal_length\": 4.8, \"petal_width\": 1.8, \"species\": \"virginica\", \"kmeans_cluster\": 0, \"PC1\": 1.1693263393415023, \"PC2\": -0.16499026202310949, \"tsne1\": -2.517545461654663, \"tsne2\": -8.65364933013916}, {\"sepal_length\": 6.9, \"sepal_width\": 3.1, \"petal_length\": 5.4, \"petal_width\": 2.1, \"species\": \"virginica\", \"kmeans_cluster\": 2, \"PC1\": 2.1076111432572446, \"PC2\": 0.3722878719607979, \"tsne1\": -7.069395542144775, \"tsne2\": -11.852046966552734}, {\"sepal_length\": 6.7, \"sepal_width\": 3.1, \"petal_length\": 5.6, \"petal_width\": 2.4, \"species\": \"virginica\", \"kmeans_cluster\": 2, \"PC1\": 2.314154705235602, \"PC2\": 0.18365127916901905, \"tsne1\": -7.559508800506592, \"tsne2\": -11.763911247253418}, {\"sepal_length\": 6.9, \"sepal_width\": 3.1, \"petal_length\": 5.1, \"petal_width\": 2.3, \"species\": \"virginica\", \"kmeans_cluster\": 2, \"PC1\": 1.922267800902603, \"PC2\": 0.40920346681606246, \"tsne1\": -6.938949108123779, \"tsne2\": -11.089298248291016}, {\"sepal_length\": 5.8, \"sepal_width\": 2.7, \"petal_length\": 5.1, \"petal_width\": 1.9, \"species\": \"virginica\", \"kmeans_cluster\": 0, \"PC1\": 1.4152358767039046, \"PC2\": -0.5749163475464895, \"tsne1\": -3.8804004192352295, \"tsne2\": -8.514516830444336}, {\"sepal_length\": 6.8, \"sepal_width\": 3.2, \"petal_length\": 5.9, \"petal_width\": 2.3, \"species\": \"virginica\", \"kmeans_cluster\": 2, \"PC1\": 2.5630133750774777, \"PC2\": 0.277862602929195, \"tsne1\": -7.981276512145996, \"tsne2\": -12.43749713897705}, {\"sepal_length\": 6.7, \"sepal_width\": 3.3, \"petal_length\": 5.7, \"petal_width\": 2.5, \"species\": \"virginica\", \"kmeans_cluster\": 2, \"PC1\": 2.418746182732827, \"PC2\": 0.3047981978546921, \"tsne1\": -8.05691146850586, \"tsne2\": -11.801994323730469}, {\"sepal_length\": 6.7, \"sepal_width\": 3.0, \"petal_length\": 5.2, \"petal_width\": 2.3, \"species\": \"virginica\", \"kmeans_cluster\": 2, \"PC1\": 1.9441097945469699, \"PC2\": 0.18753230280060532, \"tsne1\": -6.793459892272949, \"tsne2\": -11.124968528747559}, {\"sepal_length\": 6.3, \"sepal_width\": 2.5, \"petal_length\": 5.0, \"petal_width\": 1.9, \"species\": \"virginica\", \"kmeans_cluster\": 0, \"PC1\": 1.5271666148145193, \"PC2\": -0.3753169825804884, \"tsne1\": -3.7788634300231934, \"tsne2\": -9.919071197509766}, {\"sepal_length\": 6.5, \"sepal_width\": 3.0, \"petal_length\": 5.2, \"petal_width\": 2.0, \"species\": \"virginica\", \"kmeans_cluster\": 2, \"PC1\": 1.7643457170444314, \"PC2\": 0.07885885451847592, \"tsne1\": -5.89301872253418, \"tsne2\": -10.912468910217285}, {\"sepal_length\": 6.2, \"sepal_width\": 3.4, \"petal_length\": 5.4, \"petal_width\": 2.3, \"species\": \"virginica\", \"kmeans_cluster\": 2, \"PC1\": 1.900941614218426, \"PC2\": 0.11662795851202372, \"tsne1\": -7.532608509063721, \"tsne2\": -10.540789604187012}, {\"sepal_length\": 5.9, \"sepal_width\": 3.0, \"petal_length\": 5.1, \"petal_width\": 1.8, \"species\": \"virginica\", \"kmeans_cluster\": 0, \"PC1\": 1.3901888619479161, \"PC2\": -0.2826609379905505, \"tsne1\": -3.2918267250061035, \"tsne2\": -8.562695503234863}]}}, {\"mode\": \"vega-lite\"});\n",
       "</script>"
      ],
      "text/plain": [
       "alt.HConcatChart(...)"
      ]
     },
     "execution_count": 34,
     "metadata": {},
     "output_type": "execute_result"
    }
   ],
   "source": [
    "c1 = alt.Chart(df).mark_circle(size = 60).encode(\n",
    "    x = 'tsne1',\n",
    "    y = 'tsne2',\n",
    "    color = alt.Color('kmeans_cluster:N', scale = alt.Scale(scheme='set1')),\n",
    "    tooltip = ['kmeans_cluster:N']\n",
    ").properties(\n",
    "    title = 'K-means clustering'\n",
    ")\n",
    "c2 = alt.Chart(df).mark_circle(size = 60).encode(\n",
    "    x = 'tsne1',\n",
    "    y = 'tsne2',\n",
    "    color = alt.Color('species:N', scale = alt.Scale(scheme='set1')),\n",
    "    tooltip = ['species:N']\n",
    ").properties(\n",
    "    title = 'Species'\n",
    ")\n",
    "\n",
    "alt.hconcat(c1, c2).properties(\n",
    "    title = 'tsne: k-means clusterting vs species label'\n",
    ")"
   ]
  },
  {
   "cell_type": "markdown",
   "metadata": {
    "cell_id": "7be98727ebe84838983d85bb2f3545b7",
    "deepnote_cell_type": "markdown"
   },
   "source": [
    "* How about clustering on TSNE instaed of orginal features?"
   ]
  },
  {
   "cell_type": "code",
   "execution_count": null,
   "metadata": {
    "cell_id": "1de84edbb4294cd7aaab07d639d164ac",
    "deepnote_cell_type": "code",
    "deepnote_to_be_reexecuted": false,
    "execution_millis": 80,
    "execution_start": 1701294360568,
    "source_hash": null
   },
   "outputs": [
    {
     "data": {
      "text/plain": [
       "0.7591987071071522"
      ]
     },
     "execution_count": 35,
     "metadata": {},
     "output_type": "execute_result"
    }
   ],
   "source": [
    "y_km_tsne = kmeans.fit_predict(X_tsne)\n",
    "metrics.adjusted_rand_score(df['species'], y_km_tsne)"
   ]
  },
  {
   "cell_type": "markdown",
   "metadata": {
    "cell_id": "e3f8237c07124c89b093e6e04588c30b",
    "deepnote_cell_type": "markdown"
   },
   "source": [
    "* How about try other clustering methods?"
   ]
  },
  {
   "cell_type": "markdown",
   "metadata": {
    "cell_id": "90ccc2cbfcec44a1939f353577bac06b",
    "deepnote_cell_type": "markdown"
   },
   "source": [
    "## [Gaussian Mixture Model (GMM)](https://www.kaggle.com/code/vipulgandhi/gaussian-mixture-models-clustering-explained)\n",
    "GMMs provide a flexible and probabilistic approach to clustering, making them suitable for complex datasets where the assumption of spherical clusters (as in k-means) is too restrictive."
   ]
  },
  {
   "cell_type": "markdown",
   "metadata": {
    "cell_id": "e0cd55645b15477eb29436772a75d64d",
    "deepnote_cell_type": "markdown"
   },
   "source": [
    "Explore yourself and you may upload your results to [Kaggle](https://www.kaggle.com/uciml/iris)!"
   ]
  },
  {
   "cell_type": "markdown",
   "metadata": {
    "created_in_deepnote_cell": true,
    "deepnote_cell_type": "markdown"
   },
   "source": [
    "<a style='text-decoration:none;line-height:16px;display:flex;color:#5B5B62;padding:10px;justify-content:end;' href='https://deepnote.com?utm_source=created-in-deepnote-cell&projectId=9ba2e9ff-5bd6-44a5-9be4-ae1ee96b31aa' target=\"_blank\">\n",
    "<img alt='Created in deepnote.com' style='display:inline;max-height:16px;margin:0px;margin-right:7.5px;' src='data:image/svg+xml;base64,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' > </img>\n",
    "Created in <span style='font-weight:600;margin-left:4px;'>Deepnote</span></a>"
   ]
  }
 ],
 "metadata": {
  "deepnote": {},
  "deepnote_execution_queue": [],
  "deepnote_notebook_id": "c1632db0e0714b0a8cf5937d7b16c742",
  "deepnote_persisted_session": {
   "createdAt": "2023-11-30T02:15:32.489Z"
  },
  "kernelspec": {
   "display_name": "Python 3",
   "language": "python",
   "name": "python3"
  },
  "language_info": {
   "codemirror_mode": {
    "name": "ipython",
    "version": 3
   },
   "file_extension": ".py",
   "mimetype": "text/x-python",
   "name": "python",
   "nbconvert_exporter": "python",
   "pygments_lexer": "ipython3",
   "version": "3.8.8"
  }
 },
 "nbformat": 4,
 "nbformat_minor": 4
}
