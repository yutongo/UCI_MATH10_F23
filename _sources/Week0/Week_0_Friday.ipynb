{
 "cells": [
  {
   "cell_type": "markdown",
   "metadata": {
    "cell_id": "64580b96786e4a13b83db27b4782e174",
    "deepnote_app_coordinates": {
     "h": 5,
     "w": 12,
     "x": 0,
     "y": 0
    },
    "deepnote_cell_type": "markdown",
    "editable": true,
    "slideshow": {
     "slide_type": ""
    },
    "tags": [
     "output_scroll"
    ]
   },
   "source": [
    "# Week 0 Friday\n",
    "\n",
    "Welcome to Math 10!\n",
    "\n",
    "[Canvas homepage](https://canvas.eee.uci.edu/courses/58295)\n",
    "\n",
    "This class is an introduction to using Python for data science. There are two primary parts of the course:\n",
    "* Part 1.  Exploratory Data Analysis.  (Weeks 1-5)\n",
    "* Part 2.  Introduction to Machine Learning.  (Weeks 5-10)\n",
    "\n",
    "Two in-class midterms: Monday Week 5 (10/30) and Monday Week 10 (12/04).  They're closed book and closed computer.\n",
    "\n",
    "There's no final exam; instead there is a class project.\n",
    "\n",
    "\n",
    "##### There will be NO official textbook for this course. You may find the following references helpful:\n",
    "* For Basic Python Programming: [A Byte of Python](https://python.swaroopch.com/)\n",
    "* For Machine Learning Codes in Python: [Python Data Science Handbook](https://jakevdp.github.io/PythonDataScienceHandbook/)\n",
    "* For Machine Learning Applications and Theories: [An Introduction to Statistical Learning](https://www.statlearning.com/) with [solutions in Python](https://github.com/hardikkamboj/An-Introduction-to-Statistical-Learning); [The Elements of Statistical Learning](https://hastie.su.domains/ElemStatLearn/); [Probabilistic Machine Learning: An Introduction](https://probml.github.io/pml-book/book1.html)\n",
    "* For Deep Learning: [Deep Learning](https://www.deeplearningbook.org/)\n"
   ]
  },
  {
   "cell_type": "markdown",
   "metadata": {
    "cell_id": "b5d3315806334203bb5fd4d6e016fbd2",
    "deepnote_app_coordinates": {
     "h": 5,
     "w": 12,
     "x": 0,
     "y": 0
    },
    "deepnote_cell_type": "markdown"
   },
   "source": [
    "## Announcements\n",
    "\n",
    "* If you're on the waitlist, please submit homework/take quizzes on the same schedule as the regular class.  (Assignments won't be excused, but I do drop the one lowest worksheet scores.)"
   ]
  },
  {
   "cell_type": "markdown",
   "metadata": {
    "cell_id": "b549ebadb9b44834a789375ab94c0f71",
    "deepnote_app_coordinates": {
     "h": 5,
     "w": 12,
     "x": 0,
     "y": 0
    },
    "deepnote_cell_type": "markdown"
   },
   "source": [
    "## What is Data Science?\n",
    "\n",
    "Three correlated concepts: \n",
    "- Data Science\n",
    "- Artificial Intelligence \n",
    "- Machine Learning\n",
    "\n",
    "[Battle of the Data Science Venn Diagrams ](https://www.kdnuggets.com/2016/10/battle-data-science-venn-diagrams.html)\n",
    "\n",
    "The original Venn diagram from Drew Conway:\n",
    "<img src=\"https://images.squarespace-cdn.com/content/v1/5150aec6e4b0e340ec52710a/1364352051365-HZAS3CLBF7ABLE3F5OBY/Data_Science_VD.png?format=2500w\" width=\"300\" height=\"300\"/>\n",
    "\n",
    "\n",
    "\n",
    "Another diagram from Steven Geringer:\n",
    "<img src=\"http://2.bp.blogspot.com/-Qi-0utjhySM/UsteLrV6NyI/AAAAAAAACNQ/AdkizQfS8l8/s320/moz-screenshot-3-729576.png\" width=\"300\" height=\"300\"/>\n",
    "\n",
    "\n",
    "Perhaps the reality should be:\n",
    "<img src=\"https://www.researchgate.net/profile/Iva-Kostadinova/publication/326715653/figure/fig1/AS:711037263302656@1546535902683/Data-science-disciplines-1.png\" width=\"500\" height=\"500\"/>\n",
    "\n",
    "\n",
    "\n",
    "[David Robinson's Auto-pilot example](http://varianceexplained.org/r/ds-ml-ai/):\n",
    "- Machine learning: **predict** whether there is a stop sign in the camera\n",
    "- Artificial intelligence: decide when to take the **action** of applying brakes (either by rules or from data)\n",
    "- Data science: provide the **insights** why it’s more likely to miss a stop sign before sunrise or after sunset"
   ]
  },
  {
   "cell_type": "markdown",
   "metadata": {
    "cell_id": "92ea9c9712ad42ad9344888bcbcdd094",
    "deepnote_app_coordinates": {
     "h": 5,
     "w": 12,
     "x": 0,
     "y": 0
    },
    "deepnote_cell_type": "markdown"
   },
   "source": [
    "### [Example: Precision Medicine and Single-cell Sequencing.](https://learn.gencore.bio.nyu.edu/single-cell-rnaseq/)\n",
    "\n",
    "<img src=\"https://learn.gencore.bio.nyu.edu/wp-content/uploads/2018/01/scRNA-overview.jpg\" width=\"500\" height=\"500\"/>\n",
    "\n",
    "\n",
    "- A structured data table, with $n$ observations and $p$ variables.\n",
    "- **Mathematical representation**: The data *matrix* $X\\in\\mathbb{R}^{p\\times n}$. For notations we write\n",
    "$X=\\left(\\mathbf{x}^{(1)},\\mathbf{x}^{(2)} \\cdots, \\mathbf{x}^{(n)} \\right)$, where the $i$-th column vector represents $i$-th observation,  $\\mathbf{x}^{(i)}=\\left(\n",
    "\\begin{matrix}\n",
    "   x_{1}^{(i)}\\\\\n",
    "   x_{2}^{(i)} \\\\\n",
    "   \\cdots \\\\\n",
    "   x_{p}^{(i)}\n",
    "  \\end{matrix} \n",
    "\\right) \\in\\mathbb{R}^{p}$\n",
    "\n",
    "\n",
    "- *Roughly speaking*, big data -- large $n$, high-dimensional data -- large $p$."
   ]
  },
  {
   "cell_type": "markdown",
   "metadata": {
    "cell_id": "4b36b8457ea94c9e96dba744b375527d",
    "deepnote_app_coordinates": {
     "h": 5,
     "w": 12,
     "x": 0,
     "y": 0
    },
    "deepnote_cell_type": "markdown"
   },
   "source": [
    "## Why Python?\n",
    "\n",
    "### Python is Popular\n",
    "How to measure popularity? It is indeed a data science problem!\n",
    "\n",
    "- [TIOBE](https://tiobe.com/tiobe-index/): Based on google search results\n",
    "- [PYPL PopularitY](https://pypl.github.io/PYPL.html): Based on google trends\n",
    "- [GitHut 2.0](https://madnight.github.io/githut/#/pull_requests/2020/2): Based on Github\n",
    "- [Redmonk](https://redmonk.com/sogrady/2020/07/27/language-rankings-6-20/): Based on Github+Stack Overflow\n",
    "\n",
    "### Python is Good\n",
    "- Stable Learning Curves\n",
    "\n",
    "[An entertaning cartoon from Tobias Hermann](https://github.com/Dobiasd/articles/blob/master/programming_language_learning_curves.md)\n",
    "\n",
    "- Scalability of Computation (with the help with other packages)\n",
    "\n",
    "[benchmarking of scientific computation problems](https://modelingguru.nasa.gov/docs/DOC-2783)\n",
    "\n",
    "[comparison between Numpy and Matlab](https://jekel.me/2017/Python-with-Numba-faster-than-fortran/)\n",
    "\n",
    "- Useful Packages\n",
    "    - [Numpy](https://numpy.org/): Scientific Computing\n",
    "    - [Pandas](https://pandas.pydata.org/): Data Analysis and Manipulation\n",
    "    - [Scikit-Learn](https://scikit-learn.org/stable/): Machine Learning\n",
    "    - [Matplotlib](https://matplotlib.org/): Visualizing Functions/Datasets\n",
    "    - [Seaborn](https://seaborn.pydata.org/): Visualizing Statistical Data"
   ]
  },
  {
   "cell_type": "markdown",
   "metadata": {
    "cell_id": "1b60096a6b214485a1f0463f40630d7a",
    "deepnote_app_coordinates": {
     "h": 5,
     "w": 12,
     "x": 0,
     "y": 0
    },
    "deepnote_cell_type": "markdown"
   },
   "source": [
    "## Warm-up with Deepnote and some Python concepts\n",
    "\n",
    "* [Deepnote vs Jupyter notebook](https://datasciencenotebook.org/compare/jupyter/deepnote)\n",
    "\n",
    "\n",
    "You can type alone with me.\n",
    "\n",
    "You execute a cell/block in Deepnote (or in a Jupyter notebook) by holding down shift and hitting return. The order in which you execute cells is important."
   ]
  },
  {
   "cell_type": "markdown",
   "metadata": {
    "cell_id": "74cd74ce5bd7449dab9bafd36dd51dac",
    "deepnote_app_coordinates": {
     "h": 5,
     "w": 12,
     "x": 0,
     "y": 0
    },
    "deepnote_cell_type": "markdown"
   },
   "source": [
    "This is an example of a markdown cell. Markdown cells are used to write explanation for your code and format text nicely.\n",
    "\n",
    "* This is an example of making a list.\n",
    "To execute a cell, you can use `command+enter`. To edit a cell, make sure it's highlighted, and then press enter."
   ]
  },
  {
   "cell_type": "markdown",
   "metadata": {
    "cell_id": "c0dc91843d394d8c809fe2415a921de5",
    "deepnote_app_coordinates": {
     "h": 5,
     "w": 12,
     "x": 0,
     "y": 0
    },
    "deepnote_cell_type": "markdown"
   },
   "source": [
    "# Math 10\n",
    "## Week 0 \n",
    "### Friday\n",
    "If you are fimilar with $\\LaTeX$\n",
    "* $\\int_0^1 x^2 dx$\n",
    "\n",
    "Here's an example of how we can change text color:\n",
    "\n",
    "<font color = red> Warning: </font> Midterm1 is on Week 5 Monday."
   ]
  },
  {
   "cell_type": "markdown",
   "metadata": {
    "cell_id": "ad7a090a4e3e4b0d831ac23738cfc5c4",
    "deepnote_app_coordinates": {
     "h": 5,
     "w": 12,
     "x": 0,
     "y": 0
    },
    "deepnote_cell_type": "markdown"
   },
   "source": [
    "Here are some examples of code cells:"
   ]
  },
  {
   "cell_type": "code",
   "execution_count": null,
   "metadata": {
    "cell_id": "37984c4dadc2473db795f8e8debb5ba2",
    "deepnote_app_coordinates": {
     "h": 5,
     "w": 12,
     "x": 0,
     "y": 0
    },
    "deepnote_cell_type": "code",
    "deepnote_to_be_reexecuted": false,
    "execution_millis": 15,
    "execution_start": 1696019287208,
    "source_hash": null
   },
   "outputs": [
    {
     "data": {
      "text/plain": [
       "4"
      ]
     },
     "execution_count": 1,
     "metadata": {},
     "output_type": "execute_result"
    }
   ],
   "source": [
    "2+2"
   ]
  },
  {
   "cell_type": "code",
   "execution_count": null,
   "metadata": {
    "cell_id": "9629c660d0394f5390600b5ace358b1e",
    "deepnote_app_coordinates": {
     "h": 5,
     "w": 12,
     "x": 0,
     "y": 0
    },
    "deepnote_cell_type": "code",
    "deepnote_to_be_reexecuted": false,
    "execution_millis": 44,
    "execution_start": 1696019365536,
    "source_hash": null
   },
   "outputs": [
    {
     "data": {
      "text/plain": [
       "12"
      ]
     },
     "execution_count": 2,
     "metadata": {},
     "output_type": "execute_result"
    }
   ],
   "source": [
    "a = 4\n",
    "b = 8\n",
    "a+b"
   ]
  },
  {
   "cell_type": "markdown",
   "metadata": {
    "cell_id": "7fa0fae16fc447b6ac159ff5a49a3e66",
    "deepnote_app_coordinates": {
     "h": 5,
     "w": 12,
     "x": 0,
     "y": 0
    },
    "deepnote_cell_type": "markdown"
   },
   "source": [
    "The order in which we evaluate cells matters!"
   ]
  },
  {
   "cell_type": "code",
   "execution_count": null,
   "metadata": {
    "cell_id": "acecd5e7b7f646fcb721ef2177cff32b",
    "deepnote_app_coordinates": {
     "h": 5,
     "w": 12,
     "x": 0,
     "y": 0
    },
    "deepnote_cell_type": "code",
    "deepnote_to_be_reexecuted": false,
    "execution_millis": 669,
    "execution_start": 1696019815842,
    "source_hash": null
   },
   "outputs": [
    {
     "ename": "NameError",
     "evalue": "name 'x' is not defined",
     "output_type": "error",
     "traceback": [
      "\u001b[0;31m---------------------------------------------------------------------------\u001b[0m",
      "\u001b[0;31mNameError\u001b[0m                                 Traceback (most recent call last)",
      "Cell \u001b[0;32mIn [3], line 1\u001b[0m\n\u001b[0;32m----> 1\u001b[0m \u001b[38;5;28mprint\u001b[39m(\u001b[43mx\u001b[49m)\n",
      "\u001b[0;31mNameError\u001b[0m: name 'x' is not defined"
     ]
    }
   ],
   "source": [
    "print(x)"
   ]
  },
  {
   "cell_type": "code",
   "execution_count": null,
   "metadata": {
    "cell_id": "be016bb12a924ad3a682815628b08270",
    "deepnote_app_coordinates": {
     "h": 5,
     "w": 12,
     "x": 0,
     "y": 0
    },
    "deepnote_cell_type": "code",
    "deepnote_to_be_reexecuted": false,
    "execution_millis": 9,
    "execution_start": 1696019833714,
    "source_hash": null
   },
   "outputs": [],
   "source": [
    "x = 10"
   ]
  },
  {
   "cell_type": "code",
   "execution_count": null,
   "metadata": {
    "cell_id": "77e72baddc47475997288f0782b051ed",
    "deepnote_app_coordinates": {
     "h": 5,
     "w": 12,
     "x": 0,
     "y": 0
    },
    "deepnote_cell_type": "code",
    "deepnote_to_be_reexecuted": false,
    "execution_millis": 17,
    "execution_start": 1696019842090,
    "source_hash": null
   },
   "outputs": [
    {
     "name": "stdout",
     "output_type": "stream",
     "text": [
      "10\n"
     ]
    }
   ],
   "source": [
    "print(x)"
   ]
  },
  {
   "cell_type": "code",
   "execution_count": null,
   "metadata": {
    "cell_id": "8ecaadf98da14f188b87a57f5ad12242",
    "deepnote_app_coordinates": {
     "h": 5,
     "w": 12,
     "x": 0,
     "y": 0
    },
    "deepnote_cell_type": "code",
    "deepnote_to_be_reexecuted": false,
    "execution_millis": 50,
    "execution_start": 1696019923378,
    "source_hash": null
   },
   "outputs": [
    {
     "data": {
      "text/plain": [
       "100"
      ]
     },
     "execution_count": 7,
     "metadata": {},
     "output_type": "execute_result"
    }
   ],
   "source": [
    "# take square of x\n",
    "x**2"
   ]
  },
  {
   "cell_type": "code",
   "execution_count": null,
   "metadata": {
    "cell_id": "1be9351c6a52417c8f5edf5cfb090666",
    "deepnote_app_coordinates": {
     "h": 5,
     "w": 12,
     "x": 0,
     "y": 0
    },
    "deepnote_cell_type": "code",
    "deepnote_to_be_reexecuted": false,
    "execution_millis": 21,
    "execution_start": 1696020012682,
    "source_hash": null
   },
   "outputs": [
    {
     "name": "stdout",
     "output_type": "stream",
     "text": [
      "Hello World!\n"
     ]
    }
   ],
   "source": [
    "print('Hello World!')"
   ]
  },
  {
   "cell_type": "code",
   "execution_count": null,
   "metadata": {
    "cell_id": "af4baa2afd2d4b4fa31020617905e040",
    "deepnote_app_coordinates": {
     "h": 5,
     "w": 12,
     "x": 0,
     "y": 0
    },
    "deepnote_cell_type": "code",
    "deepnote_to_be_reexecuted": false,
    "execution_millis": 22,
    "execution_start": 1696213994436,
    "source_hash": null
   },
   "outputs": [],
   "source": [
    "list = [5, 6, 7, 8]"
   ]
  },
  {
   "cell_type": "code",
   "execution_count": null,
   "metadata": {
    "cell_id": "a7246899bf1645c2ab945b4d49562bff",
    "deepnote_app_coordinates": {
     "h": 5,
     "w": 12,
     "x": 0,
     "y": 0
    },
    "deepnote_cell_type": "code",
    "deepnote_to_be_reexecuted": false,
    "execution_millis": 22,
    "execution_start": 1696213997345,
    "source_hash": null
   },
   "outputs": [
    {
     "data": {
      "text/plain": [
       "6"
      ]
     },
     "execution_count": 5,
     "metadata": {},
     "output_type": "execute_result"
    }
   ],
   "source": [
    "list[1]"
   ]
  },
  {
   "cell_type": "markdown",
   "metadata": {
    "cell_id": "9520080d4b004ca8992eeed5a442fba9",
    "deepnote_app_coordinates": {
     "h": 5,
     "w": 12,
     "x": 0,
     "y": 0
    },
    "deepnote_cell_type": "markdown"
   },
   "source": [
    "Indexing in Python starts at 0!"
   ]
  },
  {
   "cell_type": "code",
   "execution_count": null,
   "metadata": {
    "cell_id": "78484c1e143d40779ca2162b248faac2",
    "deepnote_app_coordinates": {
     "h": 5,
     "w": 12,
     "x": 0,
     "y": 0
    },
    "deepnote_cell_type": "code",
    "deepnote_to_be_reexecuted": false,
    "execution_millis": 39,
    "execution_start": 1696213998301,
    "source_hash": null
   },
   "outputs": [
    {
     "data": {
      "text/plain": [
       "5"
      ]
     },
     "execution_count": 6,
     "metadata": {},
     "output_type": "execute_result"
    }
   ],
   "source": [
    "list[0]"
   ]
  },
  {
   "cell_type": "code",
   "execution_count": null,
   "metadata": {
    "cell_id": "addf566e8a0448ad8ce3589978f8ce18",
    "deepnote_app_coordinates": {
     "h": 5,
     "w": 12,
     "x": 0,
     "y": 0
    },
    "deepnote_cell_type": "code",
    "deepnote_to_be_reexecuted": false,
    "execution_millis": 17,
    "execution_start": 1696213999268,
    "source_hash": null
   },
   "outputs": [
    {
     "data": {
      "text/plain": [
       "8"
      ]
     },
     "execution_count": 7,
     "metadata": {},
     "output_type": "execute_result"
    }
   ],
   "source": [
    "list[3]"
   ]
  },
  {
   "cell_type": "code",
   "execution_count": null,
   "metadata": {
    "cell_id": "eb66770cf8254e67af9718535414c2d4",
    "deepnote_app_coordinates": {
     "h": 5,
     "w": 12,
     "x": 0,
     "y": 0
    },
    "deepnote_cell_type": "code",
    "deepnote_to_be_reexecuted": false,
    "execution_millis": 39,
    "execution_start": 1696214000599,
    "source_hash": null
   },
   "outputs": [
    {
     "data": {
      "text/plain": [
       "8"
      ]
     },
     "execution_count": 8,
     "metadata": {},
     "output_type": "execute_result"
    }
   ],
   "source": [
    "list[-1]"
   ]
  },
  {
   "cell_type": "code",
   "execution_count": null,
   "metadata": {
    "cell_id": "0b1cce3b206b4620bf2de6bddee80f61",
    "deepnote_app_coordinates": {
     "h": 5,
     "w": 12,
     "x": 0,
     "y": 0
    },
    "deepnote_cell_type": "code",
    "deepnote_to_be_reexecuted": false,
    "execution_millis": 21,
    "execution_start": 1696214003443,
    "source_hash": null
   },
   "outputs": [
    {
     "data": {
      "text/plain": [
       "[8, 7, 6, 5]"
      ]
     },
     "execution_count": 9,
     "metadata": {},
     "output_type": "execute_result"
    }
   ],
   "source": [
    "list[::-1]"
   ]
  },
  {
   "cell_type": "markdown",
   "metadata": {
    "cell_id": "0cd3f3c6deef412da6d38a42383f5753",
    "deepnote_app_coordinates": {
     "h": 5,
     "w": 12,
     "x": 0,
     "y": 0
    },
    "deepnote_cell_type": "markdown"
   },
   "source": [
    "* NumPy is one of the most important python libraries\n",
    "* NumPy does not come with base python, we will need to import it every time we start a new notebook\n",
    "The abbreviation `np` is a standard convention, and we will always use it in Math 10."
   ]
  },
  {
   "cell_type": "code",
   "execution_count": null,
   "metadata": {
    "cell_id": "e181697224da4e4ab131235024a4f237",
    "deepnote_app_coordinates": {
     "h": 5,
     "w": 12,
     "x": 0,
     "y": 0
    },
    "deepnote_cell_type": "code",
    "deepnote_to_be_reexecuted": false,
    "execution_millis": 9,
    "execution_start": 1696214201021,
    "source_hash": null
   },
   "outputs": [],
   "source": [
    "# load Numpy\n",
    "import numpy as np"
   ]
  },
  {
   "cell_type": "code",
   "execution_count": null,
   "metadata": {
    "cell_id": "08c1689725864fa88b1cb1b25f593872",
    "collapsed": true,
    "deepnote_app_coordinates": {
     "h": 5,
     "w": 12,
     "x": 0,
     "y": 0
    },
    "deepnote_cell_type": "code",
    "deepnote_to_be_reexecuted": false,
    "editable": true,
    "execution_millis": 325,
    "execution_start": 1696214201906,
    "jupyter": {
     "outputs_hidden": true
    },
    "scrolled": true,
    "slideshow": {
     "slide_type": ""
    },
    "source_hash": null,
    "tags": [
     "output_scroll"
    ]
   },
   "outputs": [
    {
     "name": "stdout",
     "output_type": "stream",
     "text": [
      "\u001b[0;31mDocstring:\u001b[0m\n",
      "Construct a new Generator with the default BitGenerator (PCG64).\n",
      "\n",
      "Parameters\n",
      "----------\n",
      "seed : {None, int, array_like[ints], SeedSequence, BitGenerator, Generator}, optional\n",
      "    A seed to initialize the `BitGenerator`. If None, then fresh,\n",
      "    unpredictable entropy will be pulled from the OS. If an ``int`` or\n",
      "    ``array_like[ints]`` is passed, then it will be passed to\n",
      "    `SeedSequence` to derive the initial `BitGenerator` state. One may also\n",
      "    pass in a `SeedSequence` instance.\n",
      "    Additionally, when passed a `BitGenerator`, it will be wrapped by\n",
      "    `Generator`. If passed a `Generator`, it will be returned unaltered.\n",
      "\n",
      "Returns\n",
      "-------\n",
      "Generator\n",
      "    The initialized generator object.\n",
      "\n",
      "Notes\n",
      "-----\n",
      "If ``seed`` is not a `BitGenerator` or a `Generator`, a new `BitGenerator`\n",
      "is instantiated. This function does not manage a default global instance.\n",
      "\n",
      "Examples\n",
      "--------\n",
      "``default_rng`` is the recommended constructor for the random number class\n",
      "``Generator``. Here are several ways we can construct a random \n",
      "number generator using ``default_rng`` and the ``Generator`` class. \n",
      "\n",
      "Here we use ``default_rng`` to generate a random float:\n",
      "\n",
      ">>> import numpy as np\n",
      ">>> rng = np.random.default_rng(12345)\n",
      ">>> print(rng)\n",
      "Generator(PCG64)\n",
      ">>> rfloat = rng.random()\n",
      ">>> rfloat\n",
      "0.22733602246716966\n",
      ">>> type(rfloat)\n",
      "<class 'float'>\n",
      " \n",
      "Here we use ``default_rng`` to generate 3 random integers between 0 \n",
      "(inclusive) and 10 (exclusive):\n",
      "    \n",
      ">>> import numpy as np\n",
      ">>> rng = np.random.default_rng(12345)\n",
      ">>> rints = rng.integers(low=0, high=10, size=3)\n",
      ">>> rints\n",
      "array([6, 2, 7])\n",
      ">>> type(rints[0])\n",
      "<class 'numpy.int64'>\n",
      "\n",
      "Here we specify a seed so that we have reproducible results:\n",
      "\n",
      ">>> import numpy as np\n",
      ">>> rng = np.random.default_rng(seed=42)\n",
      ">>> print(rng)\n",
      "Generator(PCG64)\n",
      ">>> arr1 = rng.random((3, 3))\n",
      ">>> arr1\n",
      "array([[0.77395605, 0.43887844, 0.85859792],\n",
      "       [0.69736803, 0.09417735, 0.97562235],\n",
      "       [0.7611397 , 0.78606431, 0.12811363]])\n",
      "\n",
      "If we exit and restart our Python interpreter, we'll see that we\n",
      "generate the same random numbers again:\n",
      "\n",
      ">>> import numpy as np\n",
      ">>> rng = np.random.default_rng(seed=42)\n",
      ">>> arr2 = rng.random((3, 3))\n",
      ">>> arr2\n",
      "array([[0.77395605, 0.43887844, 0.85859792],\n",
      "       [0.69736803, 0.09417735, 0.97562235],\n",
      "       [0.7611397 , 0.78606431, 0.12811363]])\n",
      "\u001b[0;31mType:\u001b[0m      builtin_function_or_method\n",
      "\n"
     ]
    }
   ],
   "source": [
    "# generate a random variable\n",
    "# we can use the funtion in numpy random.default_rng\n",
    "\n",
    "np.random.default_rng?"
   ]
  },
  {
   "cell_type": "code",
   "execution_count": null,
   "metadata": {
    "cell_id": "abf5864000024821b89910896117cef7",
    "deepnote_app_coordinates": {
     "h": 5,
     "w": 12,
     "x": 0,
     "y": 0
    },
    "deepnote_cell_type": "code",
    "deepnote_to_be_reexecuted": false,
    "execution_millis": 19,
    "execution_start": 1696214203536,
    "source_hash": null
   },
   "outputs": [
    {
     "data": {
      "text/plain": [
       "array([0.78238483, 0.81217947, 0.52612065, 0.91363018, 0.65672153])"
      ]
     },
     "execution_count": 13,
     "metadata": {},
     "output_type": "execute_result"
    }
   ],
   "source": [
    "rng = np.random.default_rng()\n",
    "rng.random(5)"
   ]
  },
  {
   "cell_type": "code",
   "execution_count": null,
   "metadata": {
    "cell_id": "720a24bcfc1049b788b3d02e86b5abf1",
    "deepnote_app_coordinates": {
     "h": 5,
     "w": 12,
     "x": 0,
     "y": 0
    },
    "deepnote_cell_type": "code",
    "deepnote_to_be_reexecuted": false,
    "editable": true,
    "execution_millis": 136,
    "execution_start": 1696214204643,
    "scrolled": true,
    "slideshow": {
     "slide_type": ""
    },
    "source_hash": null,
    "tags": []
   },
   "outputs": [
    {
     "name": "stdout",
     "output_type": "stream",
     "text": [
      "Help on built-in function random:\n",
      "\n",
      "random(...) method of numpy.random._generator.Generator instance\n",
      "    random(size=None, dtype=np.float64, out=None)\n",
      "    \n",
      "    Return random floats in the half-open interval [0.0, 1.0).\n",
      "    \n",
      "    Results are from the \"continuous uniform\" distribution over the\n",
      "    stated interval.  To sample :math:`Unif[a, b), b > a` multiply\n",
      "    the output of `random` by `(b-a)` and add `a`::\n",
      "    \n",
      "      (b - a) * random() + a\n",
      "    \n",
      "    Parameters\n",
      "    ----------\n",
      "    size : int or tuple of ints, optional\n",
      "        Output shape.  If the given shape is, e.g., ``(m, n, k)``, then\n",
      "        ``m * n * k`` samples are drawn.  Default is None, in which case a\n",
      "        single value is returned.\n",
      "    dtype : dtype, optional\n",
      "        Desired dtype of the result, only `float64` and `float32` are supported.\n",
      "        Byteorder must be native. The default value is np.float64.\n",
      "    out : ndarray, optional\n",
      "        Alternative output array in which to place the result. If size is not None,\n",
      "        it must have the same shape as the provided size and must match the type of\n",
      "        the output values.\n",
      "    \n",
      "    Returns\n",
      "    -------\n",
      "    out : float or ndarray of floats\n",
      "        Array of random floats of shape `size` (unless ``size=None``, in which\n",
      "        case a single float is returned).\n",
      "    \n",
      "    Examples\n",
      "    --------\n",
      "    >>> rng = np.random.default_rng()\n",
      "    >>> rng.random()\n",
      "    0.47108547995356098 # random\n",
      "    >>> type(rng.random())\n",
      "    <class 'float'>\n",
      "    >>> rng.random((5,))\n",
      "    array([ 0.30220482,  0.86820401,  0.1654503 ,  0.11659149,  0.54323428]) # random\n",
      "    \n",
      "    Three-by-two array of random numbers from [-5, 0):\n",
      "    \n",
      "    >>> 5 * rng.random((3, 2)) - 5\n",
      "    array([[-3.99149989, -0.52338984], # random\n",
      "           [-2.99091858, -0.79479508],\n",
      "           [-1.23204345, -1.75224494]])\n",
      "\n"
     ]
    }
   ],
   "source": [
    "help(rng.random)"
   ]
  },
  {
   "cell_type": "code",
   "execution_count": null,
   "metadata": {
    "cell_id": "f4483120e5de40568d5f1a745c1dfe1a",
    "deepnote_app_coordinates": {
     "h": 5,
     "w": 12,
     "x": 0,
     "y": 0
    },
    "deepnote_cell_type": "code",
    "deepnote_to_be_reexecuted": false,
    "editable": true,
    "execution_millis": 30,
    "execution_start": 1696020557200,
    "slideshow": {
     "slide_type": ""
    },
    "source_hash": null,
    "tags": []
   },
   "outputs": [
    {
     "data": {
      "text/plain": [
       "array([0.39916726, 0.40975624, 0.24989856])"
      ]
     },
     "execution_count": 18,
     "metadata": {},
     "output_type": "execute_result"
    }
   ],
   "source": [
    "rng.random(3)"
   ]
  }
 ],
 "metadata": {
  "deepnote": {},
  "deepnote_app_layout": "powerful-article",
  "deepnote_execution_queue": [],
  "deepnote_notebook_id": "235c51cbde6b42669bab67ac0e618959",
  "deepnote_persisted_session": {
   "createdAt": "2023-10-02T03:01:58.201Z"
  },
  "kernelspec": {
   "display_name": "Python 3 (ipykernel)",
   "language": "python",
   "name": "python3"
  },
  "language_info": {
   "codemirror_mode": {
    "name": "ipython",
    "version": 3
   },
   "file_extension": ".py",
   "mimetype": "text/x-python",
   "name": "python",
   "nbconvert_exporter": "python",
   "pygments_lexer": "ipython3",
   "version": "3.9.18"
  }
 },
 "nbformat": 4,
 "nbformat_minor": 4
}
