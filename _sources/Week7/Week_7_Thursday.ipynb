{
 "cells": [
  {
   "cell_type": "markdown",
   "metadata": {
    "cell_id": "c7ba45deb08548589f2702243b9a8aa2",
    "deepnote_cell_type": "markdown"
   },
   "source": [
    "# Week 7 Thursday"
   ]
  },
  {
   "cell_type": "markdown",
   "metadata": {
    "cell_id": "25f18f2a583440989148c4c80e60af85",
    "deepnote_cell_type": "markdown"
   },
   "source": [
    "## Plan:  \n",
    "* Overfitting"
   ]
  },
  {
   "cell_type": "markdown",
   "metadata": {
    "cell_id": "5be1e28f28254b7093593f83c30fd314",
    "deepnote_cell_type": "markdown"
   },
   "source": [
    "## Warm-up: Most common values"
   ]
  },
  {
   "cell_type": "code",
   "execution_count": null,
   "metadata": {
    "cell_id": "c5410adce58c4350b0bde563e39b30bb",
    "deepnote_cell_type": "code",
    "deepnote_to_be_reexecuted": false,
    "execution_millis": 12,
    "execution_start": 1700179624569,
    "source_hash": null
   },
   "outputs": [],
   "source": [
    "import seaborn as sns\n",
    "import altair as alt\n",
    "import pandas as pd"
   ]
  },
  {
   "cell_type": "code",
   "execution_count": null,
   "metadata": {
    "cell_id": "51720c0170344501af1031c5ed902896",
    "deepnote_cell_type": "code",
    "deepnote_to_be_reexecuted": false,
    "execution_millis": 20,
    "execution_start": 1700179626164,
    "source_hash": null
   },
   "outputs": [],
   "source": [
    "df_pre = sns.load_dataset(\"taxis\")"
   ]
  },
  {
   "cell_type": "markdown",
   "metadata": {
    "cell_id": "b5b6bc2b937e4071b7075da9bf41cbb9",
    "deepnote_cell_type": "markdown"
   },
   "source": [
    "Here is a reminder of how the dataset looks."
   ]
  },
  {
   "cell_type": "code",
   "execution_count": null,
   "metadata": {
    "cell_id": "5a2bcc697e324eaf82c7f1ab4e5efc3f",
    "deepnote_cell_type": "code",
    "deepnote_to_be_reexecuted": false,
    "execution_millis": 112,
    "execution_start": 1700179263910,
    "source_hash": null,
    "tags": [
     "output_scroll"
    ]
   },
   "outputs": [
    {
     "data": {
      "application/vnd.deepnote.dataframe.v3+json": {
       "column_count": 14,
       "columns": [
        {
         "dtype": "datetime64[ns]",
         "name": "pickup",
         "stats": {
          "histogram": [
           {
            "bin_end": 1551664471200000000,
            "bin_start": 1551396543000000000,
            "count": 613
           },
           {
            "bin_end": 1551932399400000000,
            "bin_start": 1551664471200000000,
            "count": 666
           },
           {
            "bin_end": 1552200327600000000,
            "bin_start": 1551932399400000000,
            "count": 677
           },
           {
            "bin_end": 1552468255800000000,
            "bin_start": 1552200327600000000,
            "count": 611
           },
           {
            "bin_end": 1552736184000000000,
            "bin_start": 1552468255800000000,
            "count": 753
           },
           {
            "bin_end": 1553004112200000000,
            "bin_start": 1552736184000000000,
            "count": 579
           },
           {
            "bin_end": 1553272040400000000,
            "bin_start": 1553004112200000000,
            "count": 694
           },
           {
            "bin_end": 1553539968600000000,
            "bin_start": 1553272040400000000,
            "count": 569
           },
           {
            "bin_end": 1553807896800000000,
            "bin_start": 1553539968600000000,
            "count": 635
           },
           {
            "bin_end": 1554075825000000000,
            "bin_start": 1553807896800000000,
            "count": 636
           }
          ],
          "max": "2019-03-31 23:43:45",
          "min": "2019-02-28 23:29:03",
          "nan_count": 0,
          "unique_count": 6414
         }
        },
        {
         "dtype": "datetime64[ns]",
         "name": "dropoff",
         "stats": {
          "histogram": [
           {
            "bin_end": 1551664843300000000,
            "bin_start": 1551396755000000000,
            "count": 613
           },
           {
            "bin_end": 1551932931600000000,
            "bin_start": 1551664843300000000,
            "count": 666
           },
           {
            "bin_end": 1552201019900000000,
            "bin_start": 1551932931600000000,
            "count": 677
           },
           {
            "bin_end": 1552469108200000000,
            "bin_start": 1552201019900000000,
            "count": 607
           },
           {
            "bin_end": 1552737196500000000,
            "bin_start": 1552469108200000000,
            "count": 759
           },
           {
            "bin_end": 1553005284800000000,
            "bin_start": 1552737196500000000,
            "count": 576
           },
           {
            "bin_end": 1553273373100000000,
            "bin_start": 1553005284800000000,
            "count": 697
           },
           {
            "bin_end": 1553541461400000000,
            "bin_start": 1553273373100000000,
            "count": 570
           },
           {
            "bin_end": 1553809549700000000,
            "bin_start": 1553541461400000000,
            "count": 635
           },
           {
            "bin_end": 1554077638000000000,
            "bin_start": 1553809549700000000,
            "count": 633
           }
          ],
          "max": "2019-04-01 00:13:58",
          "min": "2019-02-28 23:32:35",
          "nan_count": 0,
          "unique_count": 6425
         }
        },
        {
         "dtype": "int64",
         "name": "passengers",
         "stats": {
          "histogram": [
           {
            "bin_end": 0.6,
            "bin_start": 0,
            "count": 96
           },
           {
            "bin_end": 1.2,
            "bin_start": 0.6,
            "count": 4678
           },
           {
            "bin_end": 1.7999999999999998,
            "bin_start": 1.2,
            "count": 0
           },
           {
            "bin_end": 2.4,
            "bin_start": 1.7999999999999998,
            "count": 876
           },
           {
            "bin_end": 3,
            "bin_start": 2.4,
            "count": 0
           },
           {
            "bin_end": 3.5999999999999996,
            "bin_start": 3,
            "count": 243
           },
           {
            "bin_end": 4.2,
            "bin_start": 3.5999999999999996,
            "count": 110
           },
           {
            "bin_end": 4.8,
            "bin_start": 4.2,
            "count": 0
           },
           {
            "bin_end": 5.3999999999999995,
            "bin_start": 4.8,
            "count": 277
           },
           {
            "bin_end": 6,
            "bin_start": 5.3999999999999995,
            "count": 153
           }
          ],
          "max": "6",
          "min": "0",
          "nan_count": 0,
          "unique_count": 7
         }
        },
        {
         "dtype": "float64",
         "name": "distance",
         "stats": {
          "histogram": [
           {
            "bin_end": 3.6700000000000004,
            "bin_start": 0,
            "count": 5050
           },
           {
            "bin_end": 7.340000000000001,
            "bin_start": 3.6700000000000004,
            "count": 746
           },
           {
            "bin_end": 11.010000000000002,
            "bin_start": 7.340000000000001,
            "count": 319
           },
           {
            "bin_end": 14.680000000000001,
            "bin_start": 11.010000000000002,
            "count": 126
           },
           {
            "bin_end": 18.35,
            "bin_start": 14.680000000000001,
            "count": 103
           },
           {
            "bin_end": 22.020000000000003,
            "bin_start": 18.35,
            "count": 65
           },
           {
            "bin_end": 25.69,
            "bin_start": 22.020000000000003,
            "count": 15
           },
           {
            "bin_end": 29.360000000000003,
            "bin_start": 25.69,
            "count": 4
           },
           {
            "bin_end": 33.03,
            "bin_start": 29.360000000000003,
            "count": 1
           },
           {
            "bin_end": 36.7,
            "bin_start": 33.03,
            "count": 4
           }
          ],
          "max": "36.7",
          "min": "0.0",
          "nan_count": 0,
          "unique_count": 1079
         }
        },
        {
         "dtype": "float64",
         "name": "fare",
         "stats": {
          "histogram": [
           {
            "bin_end": 15.9,
            "bin_start": 1,
            "count": 4966
           },
           {
            "bin_end": 30.8,
            "bin_start": 15.9,
            "count": 983
           },
           {
            "bin_end": 45.7,
            "bin_start": 30.8,
            "count": 269
           },
           {
            "bin_end": 60.6,
            "bin_start": 45.7,
            "count": 184
           },
           {
            "bin_end": 75.5,
            "bin_start": 60.6,
            "count": 14
           },
           {
            "bin_end": 90.4,
            "bin_start": 75.5,
            "count": 8
           },
           {
            "bin_end": 105.3,
            "bin_start": 90.4,
            "count": 4
           },
           {
            "bin_end": 120.2,
            "bin_start": 105.3,
            "count": 1
           },
           {
            "bin_end": 135.1,
            "bin_start": 120.2,
            "count": 1
           },
           {
            "bin_end": 150,
            "bin_start": 135.1,
            "count": 3
           }
          ],
          "max": "150.0",
          "min": "1.0",
          "nan_count": 0,
          "unique_count": 220
         }
        },
        {
         "dtype": "float64",
         "name": "tip",
         "stats": {
          "histogram": [
           {
            "bin_end": 3.3200000000000003,
            "bin_start": 0,
            "count": 5315
           },
           {
            "bin_end": 6.640000000000001,
            "bin_start": 3.3200000000000003,
            "count": 826
           },
           {
            "bin_end": 9.96,
            "bin_start": 6.640000000000001,
            "count": 158
           },
           {
            "bin_end": 13.280000000000001,
            "bin_start": 9.96,
            "count": 107
           },
           {
            "bin_end": 16.6,
            "bin_start": 13.280000000000001,
            "count": 18
           },
           {
            "bin_end": 19.92,
            "bin_start": 16.6,
            "count": 3
           },
           {
            "bin_end": 23.240000000000002,
            "bin_start": 19.92,
            "count": 5
           },
           {
            "bin_end": 26.560000000000002,
            "bin_start": 23.240000000000002,
            "count": 0
           },
           {
            "bin_end": 29.880000000000003,
            "bin_start": 26.560000000000002,
            "count": 0
           },
           {
            "bin_end": 33.2,
            "bin_start": 29.880000000000003,
            "count": 1
           }
          ],
          "max": "33.2",
          "min": "0.0",
          "nan_count": 0,
          "unique_count": 489
         }
        },
        {
         "dtype": "float64",
         "name": "tolls",
         "stats": {
          "histogram": [
           {
            "bin_end": 2.402,
            "bin_start": 0,
            "count": 6083
           },
           {
            "bin_end": 4.804,
            "bin_start": 2.402,
            "count": 8
           },
           {
            "bin_end": 7.206,
            "bin_start": 4.804,
            "count": 329
           },
           {
            "bin_end": 9.608,
            "bin_start": 7.206,
            "count": 3
           },
           {
            "bin_end": 12.010000000000002,
            "bin_start": 9.608,
            "count": 4
           },
           {
            "bin_end": 14.412,
            "bin_start": 12.010000000000002,
            "count": 2
           },
           {
            "bin_end": 16.814,
            "bin_start": 14.412,
            "count": 1
           },
           {
            "bin_end": 19.216,
            "bin_start": 16.814,
            "count": 2
           },
           {
            "bin_end": 21.618000000000002,
            "bin_start": 19.216,
            "count": 0
           },
           {
            "bin_end": 24.02,
            "bin_start": 21.618000000000002,
            "count": 1
           }
          ],
          "max": "24.02",
          "min": "0.0",
          "nan_count": 0,
          "unique_count": 16
         }
        },
        {
         "dtype": "float64",
         "name": "total",
         "stats": {
          "histogram": [
           {
            "bin_end": 18.651999999999997,
            "bin_start": 1.3,
            "count": 4508
           },
           {
            "bin_end": 36.00399999999999,
            "bin_start": 18.651999999999997,
            "count": 1366
           },
           {
            "bin_end": 53.35599999999999,
            "bin_start": 36.00399999999999,
            "count": 307
           },
           {
            "bin_end": 70.70799999999998,
            "bin_start": 53.35599999999999,
            "count": 160
           },
           {
            "bin_end": 88.05999999999999,
            "bin_start": 70.70799999999998,
            "count": 78
           },
           {
            "bin_end": 105.41199999999998,
            "bin_start": 88.05999999999999,
            "count": 5
           },
           {
            "bin_end": 122.76399999999997,
            "bin_start": 105.41199999999998,
            "count": 2
           },
           {
            "bin_end": 140.11599999999999,
            "bin_start": 122.76399999999997,
            "count": 3
           },
           {
            "bin_end": 157.468,
            "bin_start": 140.11599999999999,
            "count": 1
           },
           {
            "bin_end": 174.82,
            "bin_start": 157.468,
            "count": 3
           }
          ],
          "max": "174.82",
          "min": "1.3",
          "nan_count": 0,
          "unique_count": 898
         }
        },
        {
         "dtype": "object",
         "name": "color",
         "stats": {
          "categories": [
           {
            "count": 5451,
            "name": "yellow"
           },
           {
            "count": 982,
            "name": "green"
           }
          ],
          "nan_count": 0,
          "unique_count": 2
         }
        },
        {
         "dtype": "object",
         "name": "payment",
         "stats": {
          "categories": [
           {
            "count": 4577,
            "name": "credit card"
           },
           {
            "count": 1812,
            "name": "cash"
           },
           {
            "count": 44,
            "name": "Missing"
           }
          ],
          "nan_count": 44,
          "unique_count": 2
         }
        },
        {
         "dtype": "object",
         "name": "pickup_zone",
         "stats": {
          "categories": [
           {
            "count": 230,
            "name": "Midtown Center"
           },
           {
            "count": 6177,
            "name": "193 others"
           },
           {
            "count": 26,
            "name": "Missing"
           }
          ],
          "nan_count": 26,
          "unique_count": 194
         }
        },
        {
         "dtype": "object",
         "name": "dropoff_zone",
         "stats": {
          "categories": [
           {
            "count": 245,
            "name": "Upper East Side North"
           },
           {
            "count": 6143,
            "name": "202 others"
           },
           {
            "count": 45,
            "name": "Missing"
           }
          ],
          "nan_count": 45,
          "unique_count": 203
         }
        },
        {
         "dtype": "object",
         "name": "pickup_borough",
         "stats": {
          "categories": [
           {
            "count": 5268,
            "name": "Manhattan"
           },
           {
            "count": 1139,
            "name": "3 others"
           },
           {
            "count": 26,
            "name": "Missing"
           }
          ],
          "nan_count": 26,
          "unique_count": 4
         }
        },
        {
         "dtype": "object",
         "name": "dropoff_borough",
         "stats": {
          "categories": [
           {
            "count": 5206,
            "name": "Manhattan"
           },
           {
            "count": 1182,
            "name": "4 others"
           },
           {
            "count": 45,
            "name": "Missing"
           }
          ],
          "nan_count": 45,
          "unique_count": 5
         }
        },
        {
         "dtype": "int64",
         "name": "_deepnote_index_column"
        }
       ],
       "row_count": 6433,
       "rows": [
        {
         "_deepnote_index_column": 0,
         "color": "yellow",
         "distance": 1.6,
         "dropoff": "2019-03-23 20:27:24",
         "dropoff_borough": "Manhattan",
         "dropoff_zone": "UN/Turtle Bay South",
         "fare": 7,
         "passengers": 1,
         "payment": "credit card",
         "pickup": "2019-03-23 20:21:09",
         "pickup_borough": "Manhattan",
         "pickup_zone": "Lenox Hill West",
         "tip": 2.15,
         "tolls": 0,
         "total": 12.95
        },
        {
         "_deepnote_index_column": 1,
         "color": "yellow",
         "distance": 0.79,
         "dropoff": "2019-03-04 16:19:00",
         "dropoff_borough": "Manhattan",
         "dropoff_zone": "Upper West Side South",
         "fare": 5,
         "passengers": 1,
         "payment": "cash",
         "pickup": "2019-03-04 16:11:55",
         "pickup_borough": "Manhattan",
         "pickup_zone": "Upper West Side South",
         "tip": 0,
         "tolls": 0,
         "total": 9.3
        },
        {
         "_deepnote_index_column": 2,
         "color": "yellow",
         "distance": 1.37,
         "dropoff": "2019-03-27 18:00:25",
         "dropoff_borough": "Manhattan",
         "dropoff_zone": "West Village",
         "fare": 7.5,
         "passengers": 1,
         "payment": "credit card",
         "pickup": "2019-03-27 17:53:01",
         "pickup_borough": "Manhattan",
         "pickup_zone": "Alphabet City",
         "tip": 2.36,
         "tolls": 0,
         "total": 14.16
        },
        {
         "_deepnote_index_column": 3,
         "color": "yellow",
         "distance": 7.7,
         "dropoff": "2019-03-10 01:49:51",
         "dropoff_borough": "Manhattan",
         "dropoff_zone": "Yorkville West",
         "fare": 27,
         "passengers": 1,
         "payment": "credit card",
         "pickup": "2019-03-10 01:23:59",
         "pickup_borough": "Manhattan",
         "pickup_zone": "Hudson Sq",
         "tip": 6.15,
         "tolls": 0,
         "total": 36.95
        },
        {
         "_deepnote_index_column": 4,
         "color": "yellow",
         "distance": 2.16,
         "dropoff": "2019-03-30 13:37:14",
         "dropoff_borough": "Manhattan",
         "dropoff_zone": "Yorkville West",
         "fare": 9,
         "passengers": 3,
         "payment": "credit card",
         "pickup": "2019-03-30 13:27:42",
         "pickup_borough": "Manhattan",
         "pickup_zone": "Midtown East",
         "tip": 1.1,
         "tolls": 0,
         "total": 13.4
        },
        {
         "_deepnote_index_column": 5,
         "color": "yellow",
         "distance": 0.49,
         "dropoff": "2019-03-11 10:47:31",
         "dropoff_borough": "Manhattan",
         "dropoff_zone": "Midtown East",
         "fare": 7.5,
         "passengers": 1,
         "payment": "credit card",
         "pickup": "2019-03-11 10:37:23",
         "pickup_borough": "Manhattan",
         "pickup_zone": "Times Sq/Theatre District",
         "tip": 2.16,
         "tolls": 0,
         "total": 12.96
        },
        {
         "_deepnote_index_column": 6,
         "color": "yellow",
         "distance": 3.65,
         "dropoff": "2019-03-26 21:17:29",
         "dropoff_borough": "Manhattan",
         "dropoff_zone": "Two Bridges/Seward Park",
         "fare": 13,
         "passengers": 1,
         "payment": "credit card",
         "pickup": "2019-03-26 21:07:31",
         "pickup_borough": "Manhattan",
         "pickup_zone": "Battery Park City",
         "tip": 2,
         "tolls": 0,
         "total": 18.8
        },
        {
         "_deepnote_index_column": 7,
         "color": "yellow",
         "distance": 1.4,
         "dropoff": "2019-03-22 12:58:17",
         "dropoff_borough": "Manhattan",
         "dropoff_zone": "Flatiron",
         "fare": 8.5,
         "passengers": 0,
         "payment": "nan",
         "pickup": "2019-03-22 12:47:13",
         "pickup_borough": "Manhattan",
         "pickup_zone": "Murray Hill",
         "tip": 0,
         "tolls": 0,
         "total": 11.8
        },
        {
         "_deepnote_index_column": 8,
         "color": "yellow",
         "distance": 3.63,
         "dropoff": "2019-03-23 12:06:14",
         "dropoff_borough": "Manhattan",
         "dropoff_zone": "Midtown Center",
         "fare": 15,
         "passengers": 1,
         "payment": "credit card",
         "pickup": "2019-03-23 11:48:50",
         "pickup_borough": "Manhattan",
         "pickup_zone": "East Harlem South",
         "tip": 1,
         "tolls": 0,
         "total": 19.3
        },
        {
         "_deepnote_index_column": 9,
         "color": "yellow",
         "distance": 1.52,
         "dropoff": "2019-03-08 16:26:57",
         "dropoff_borough": "Manhattan",
         "dropoff_zone": "Central Park",
         "fare": 8,
         "passengers": 1,
         "payment": "credit card",
         "pickup": "2019-03-08 16:18:37",
         "pickup_borough": "Manhattan",
         "pickup_zone": "Lincoln Square East",
         "tip": 1,
         "tolls": 0,
         "total": 13.3
        }
       ]
      },
      "text/html": [
       "<div>\n",
       "<style scoped>\n",
       "    .dataframe tbody tr th:only-of-type {\n",
       "        vertical-align: middle;\n",
       "    }\n",
       "\n",
       "    .dataframe tbody tr th {\n",
       "        vertical-align: top;\n",
       "    }\n",
       "\n",
       "    .dataframe thead th {\n",
       "        text-align: right;\n",
       "    }\n",
       "</style>\n",
       "<table border=\"1\" class=\"dataframe\">\n",
       "  <thead>\n",
       "    <tr style=\"text-align: right;\">\n",
       "      <th></th>\n",
       "      <th>pickup</th>\n",
       "      <th>dropoff</th>\n",
       "      <th>passengers</th>\n",
       "      <th>distance</th>\n",
       "      <th>fare</th>\n",
       "      <th>tip</th>\n",
       "      <th>tolls</th>\n",
       "      <th>total</th>\n",
       "      <th>color</th>\n",
       "      <th>payment</th>\n",
       "      <th>pickup_zone</th>\n",
       "      <th>dropoff_zone</th>\n",
       "      <th>pickup_borough</th>\n",
       "      <th>dropoff_borough</th>\n",
       "    </tr>\n",
       "  </thead>\n",
       "  <tbody>\n",
       "    <tr>\n",
       "      <th>0</th>\n",
       "      <td>2019-03-23 20:21:09</td>\n",
       "      <td>2019-03-23 20:27:24</td>\n",
       "      <td>1</td>\n",
       "      <td>1.60</td>\n",
       "      <td>7.0</td>\n",
       "      <td>2.15</td>\n",
       "      <td>0.0</td>\n",
       "      <td>12.95</td>\n",
       "      <td>yellow</td>\n",
       "      <td>credit card</td>\n",
       "      <td>Lenox Hill West</td>\n",
       "      <td>UN/Turtle Bay South</td>\n",
       "      <td>Manhattan</td>\n",
       "      <td>Manhattan</td>\n",
       "    </tr>\n",
       "    <tr>\n",
       "      <th>1</th>\n",
       "      <td>2019-03-04 16:11:55</td>\n",
       "      <td>2019-03-04 16:19:00</td>\n",
       "      <td>1</td>\n",
       "      <td>0.79</td>\n",
       "      <td>5.0</td>\n",
       "      <td>0.00</td>\n",
       "      <td>0.0</td>\n",
       "      <td>9.30</td>\n",
       "      <td>yellow</td>\n",
       "      <td>cash</td>\n",
       "      <td>Upper West Side South</td>\n",
       "      <td>Upper West Side South</td>\n",
       "      <td>Manhattan</td>\n",
       "      <td>Manhattan</td>\n",
       "    </tr>\n",
       "    <tr>\n",
       "      <th>2</th>\n",
       "      <td>2019-03-27 17:53:01</td>\n",
       "      <td>2019-03-27 18:00:25</td>\n",
       "      <td>1</td>\n",
       "      <td>1.37</td>\n",
       "      <td>7.5</td>\n",
       "      <td>2.36</td>\n",
       "      <td>0.0</td>\n",
       "      <td>14.16</td>\n",
       "      <td>yellow</td>\n",
       "      <td>credit card</td>\n",
       "      <td>Alphabet City</td>\n",
       "      <td>West Village</td>\n",
       "      <td>Manhattan</td>\n",
       "      <td>Manhattan</td>\n",
       "    </tr>\n",
       "    <tr>\n",
       "      <th>3</th>\n",
       "      <td>2019-03-10 01:23:59</td>\n",
       "      <td>2019-03-10 01:49:51</td>\n",
       "      <td>1</td>\n",
       "      <td>7.70</td>\n",
       "      <td>27.0</td>\n",
       "      <td>6.15</td>\n",
       "      <td>0.0</td>\n",
       "      <td>36.95</td>\n",
       "      <td>yellow</td>\n",
       "      <td>credit card</td>\n",
       "      <td>Hudson Sq</td>\n",
       "      <td>Yorkville West</td>\n",
       "      <td>Manhattan</td>\n",
       "      <td>Manhattan</td>\n",
       "    </tr>\n",
       "    <tr>\n",
       "      <th>4</th>\n",
       "      <td>2019-03-30 13:27:42</td>\n",
       "      <td>2019-03-30 13:37:14</td>\n",
       "      <td>3</td>\n",
       "      <td>2.16</td>\n",
       "      <td>9.0</td>\n",
       "      <td>1.10</td>\n",
       "      <td>0.0</td>\n",
       "      <td>13.40</td>\n",
       "      <td>yellow</td>\n",
       "      <td>credit card</td>\n",
       "      <td>Midtown East</td>\n",
       "      <td>Yorkville West</td>\n",
       "      <td>Manhattan</td>\n",
       "      <td>Manhattan</td>\n",
       "    </tr>\n",
       "    <tr>\n",
       "      <th>...</th>\n",
       "      <td>...</td>\n",
       "      <td>...</td>\n",
       "      <td>...</td>\n",
       "      <td>...</td>\n",
       "      <td>...</td>\n",
       "      <td>...</td>\n",
       "      <td>...</td>\n",
       "      <td>...</td>\n",
       "      <td>...</td>\n",
       "      <td>...</td>\n",
       "      <td>...</td>\n",
       "      <td>...</td>\n",
       "      <td>...</td>\n",
       "      <td>...</td>\n",
       "    </tr>\n",
       "    <tr>\n",
       "      <th>6428</th>\n",
       "      <td>2019-03-31 09:51:53</td>\n",
       "      <td>2019-03-31 09:55:27</td>\n",
       "      <td>1</td>\n",
       "      <td>0.75</td>\n",
       "      <td>4.5</td>\n",
       "      <td>1.06</td>\n",
       "      <td>0.0</td>\n",
       "      <td>6.36</td>\n",
       "      <td>green</td>\n",
       "      <td>credit card</td>\n",
       "      <td>East Harlem North</td>\n",
       "      <td>Central Harlem North</td>\n",
       "      <td>Manhattan</td>\n",
       "      <td>Manhattan</td>\n",
       "    </tr>\n",
       "    <tr>\n",
       "      <th>6429</th>\n",
       "      <td>2019-03-31 17:38:00</td>\n",
       "      <td>2019-03-31 18:34:23</td>\n",
       "      <td>1</td>\n",
       "      <td>18.74</td>\n",
       "      <td>58.0</td>\n",
       "      <td>0.00</td>\n",
       "      <td>0.0</td>\n",
       "      <td>58.80</td>\n",
       "      <td>green</td>\n",
       "      <td>credit card</td>\n",
       "      <td>Jamaica</td>\n",
       "      <td>East Concourse/Concourse Village</td>\n",
       "      <td>Queens</td>\n",
       "      <td>Bronx</td>\n",
       "    </tr>\n",
       "    <tr>\n",
       "      <th>6430</th>\n",
       "      <td>2019-03-23 22:55:18</td>\n",
       "      <td>2019-03-23 23:14:25</td>\n",
       "      <td>1</td>\n",
       "      <td>4.14</td>\n",
       "      <td>16.0</td>\n",
       "      <td>0.00</td>\n",
       "      <td>0.0</td>\n",
       "      <td>17.30</td>\n",
       "      <td>green</td>\n",
       "      <td>cash</td>\n",
       "      <td>Crown Heights North</td>\n",
       "      <td>Bushwick North</td>\n",
       "      <td>Brooklyn</td>\n",
       "      <td>Brooklyn</td>\n",
       "    </tr>\n",
       "    <tr>\n",
       "      <th>6431</th>\n",
       "      <td>2019-03-04 10:09:25</td>\n",
       "      <td>2019-03-04 10:14:29</td>\n",
       "      <td>1</td>\n",
       "      <td>1.12</td>\n",
       "      <td>6.0</td>\n",
       "      <td>0.00</td>\n",
       "      <td>0.0</td>\n",
       "      <td>6.80</td>\n",
       "      <td>green</td>\n",
       "      <td>credit card</td>\n",
       "      <td>East New York</td>\n",
       "      <td>East Flatbush/Remsen Village</td>\n",
       "      <td>Brooklyn</td>\n",
       "      <td>Brooklyn</td>\n",
       "    </tr>\n",
       "    <tr>\n",
       "      <th>6432</th>\n",
       "      <td>2019-03-13 19:31:22</td>\n",
       "      <td>2019-03-13 19:48:02</td>\n",
       "      <td>1</td>\n",
       "      <td>3.85</td>\n",
       "      <td>15.0</td>\n",
       "      <td>3.36</td>\n",
       "      <td>0.0</td>\n",
       "      <td>20.16</td>\n",
       "      <td>green</td>\n",
       "      <td>credit card</td>\n",
       "      <td>Boerum Hill</td>\n",
       "      <td>Windsor Terrace</td>\n",
       "      <td>Brooklyn</td>\n",
       "      <td>Brooklyn</td>\n",
       "    </tr>\n",
       "  </tbody>\n",
       "</table>\n",
       "<p>6433 rows × 14 columns</p>\n",
       "</div>"
      ],
      "text/plain": [
       "                  pickup             dropoff  passengers  distance  fare  \\\n",
       "0    2019-03-23 20:21:09 2019-03-23 20:27:24           1      1.60   7.0   \n",
       "1    2019-03-04 16:11:55 2019-03-04 16:19:00           1      0.79   5.0   \n",
       "2    2019-03-27 17:53:01 2019-03-27 18:00:25           1      1.37   7.5   \n",
       "3    2019-03-10 01:23:59 2019-03-10 01:49:51           1      7.70  27.0   \n",
       "4    2019-03-30 13:27:42 2019-03-30 13:37:14           3      2.16   9.0   \n",
       "...                  ...                 ...         ...       ...   ...   \n",
       "6428 2019-03-31 09:51:53 2019-03-31 09:55:27           1      0.75   4.5   \n",
       "6429 2019-03-31 17:38:00 2019-03-31 18:34:23           1     18.74  58.0   \n",
       "6430 2019-03-23 22:55:18 2019-03-23 23:14:25           1      4.14  16.0   \n",
       "6431 2019-03-04 10:09:25 2019-03-04 10:14:29           1      1.12   6.0   \n",
       "6432 2019-03-13 19:31:22 2019-03-13 19:48:02           1      3.85  15.0   \n",
       "\n",
       "       tip  tolls  total   color      payment            pickup_zone  \\\n",
       "0     2.15    0.0  12.95  yellow  credit card        Lenox Hill West   \n",
       "1     0.00    0.0   9.30  yellow         cash  Upper West Side South   \n",
       "2     2.36    0.0  14.16  yellow  credit card          Alphabet City   \n",
       "3     6.15    0.0  36.95  yellow  credit card              Hudson Sq   \n",
       "4     1.10    0.0  13.40  yellow  credit card           Midtown East   \n",
       "...    ...    ...    ...     ...          ...                    ...   \n",
       "6428  1.06    0.0   6.36   green  credit card      East Harlem North   \n",
       "6429  0.00    0.0  58.80   green  credit card                Jamaica   \n",
       "6430  0.00    0.0  17.30   green         cash    Crown Heights North   \n",
       "6431  0.00    0.0   6.80   green  credit card          East New York   \n",
       "6432  3.36    0.0  20.16   green  credit card            Boerum Hill   \n",
       "\n",
       "                          dropoff_zone pickup_borough dropoff_borough  \n",
       "0                  UN/Turtle Bay South      Manhattan       Manhattan  \n",
       "1                Upper West Side South      Manhattan       Manhattan  \n",
       "2                         West Village      Manhattan       Manhattan  \n",
       "3                       Yorkville West      Manhattan       Manhattan  \n",
       "4                       Yorkville West      Manhattan       Manhattan  \n",
       "...                                ...            ...             ...  \n",
       "6428              Central Harlem North      Manhattan       Manhattan  \n",
       "6429  East Concourse/Concourse Village         Queens           Bronx  \n",
       "6430                    Bushwick North       Brooklyn        Brooklyn  \n",
       "6431      East Flatbush/Remsen Village       Brooklyn        Brooklyn  \n",
       "6432                   Windsor Terrace       Brooklyn        Brooklyn  \n",
       "\n",
       "[6433 rows x 14 columns]"
      ]
     },
     "execution_count": 3,
     "metadata": {},
     "output_type": "execute_result"
    }
   ],
   "source": [
    "df_pre"
   ]
  },
  {
   "cell_type": "markdown",
   "metadata": {
    "cell_id": "647ffdd215f3438bb382dda881760c03",
    "deepnote_cell_type": "markdown"
   },
   "source": [
    "I don't think it's realistic to perform logistic regression directly on the \"pickup_zone\" column, because there are so many values.  Here are those values."
   ]
  },
  {
   "cell_type": "code",
   "execution_count": null,
   "metadata": {
    "cell_id": "a88de0fd872c42849d2c74334c04de04",
    "deepnote_cell_type": "code",
    "deepnote_to_be_reexecuted": false,
    "execution_millis": 23,
    "execution_start": 1700179375188,
    "source_hash": null
   },
   "outputs": [
    {
     "data": {
      "text/plain": [
       "array(['Lenox Hill West', 'Upper West Side South', 'Alphabet City',\n",
       "       'Hudson Sq', 'Midtown East', 'Times Sq/Theatre District',\n",
       "       'Battery Park City', 'Murray Hill', 'East Harlem South',\n",
       "       'Lincoln Square East', 'LaGuardia Airport', 'Lincoln Square West',\n",
       "       'Financial District North', 'Upper West Side North',\n",
       "       'East Chelsea', 'Midtown Center', 'Gramercy',\n",
       "       'Penn Station/Madison Sq West', 'Sutton Place/Turtle Bay North',\n",
       "       'West Chelsea/Hudson Yards', 'Clinton East', 'Clinton West',\n",
       "       'UN/Turtle Bay South', 'Midtown South', 'Midtown North',\n",
       "       'Garment District', 'Lenox Hill East', 'Flatiron',\n",
       "       'TriBeCa/Civic Center', nan, 'Upper East Side North',\n",
       "       'West Village', 'Greenwich Village South', 'JFK Airport',\n",
       "       'East Village', 'Union Sq', 'Yorkville West', 'Central Park',\n",
       "       'Meatpacking/West Village West', 'Kips Bay', 'Morningside Heights',\n",
       "       'Astoria', 'East Tremont', 'Upper East Side South',\n",
       "       'Financial District South', 'Bloomingdale', 'Queensboro Hill',\n",
       "       'SoHo', 'Brooklyn Heights', 'Yorkville East', 'Manhattan Valley',\n",
       "       'DUMBO/Vinegar Hill', 'Little Italy/NoLiTa',\n",
       "       'Mott Haven/Port Morris', 'Greenwich Village North',\n",
       "       'Stuyvesant Heights', 'Lower East Side', 'East Harlem North',\n",
       "       'Chinatown', 'Fort Greene', 'Steinway', 'Central Harlem',\n",
       "       'Crown Heights North', 'Seaport', 'Two Bridges/Seward Park',\n",
       "       'Boerum Hill', 'Williamsburg (South Side)', 'Rosedale', 'Flushing',\n",
       "       'Old Astoria', 'Soundview/Castle Hill',\n",
       "       'Stuy Town/Peter Cooper Village', 'World Trade Center',\n",
       "       'Sunnyside', 'Washington Heights South', 'Prospect Heights',\n",
       "       'East New York', 'Hamilton Heights', 'Cobble Hill',\n",
       "       'Long Island City/Queens Plaza', 'Central Harlem North',\n",
       "       'Manhattanville', 'East Flatbush/Farragut', 'Elmhurst',\n",
       "       'East Concourse/Concourse Village', 'Park Slope', 'Greenpoint',\n",
       "       'Williamsburg (North Side)', 'Long Island City/Hunters Point',\n",
       "       'South Ozone Park', 'Ridgewood', 'Downtown Brooklyn/MetroTech',\n",
       "       'Queensbridge/Ravenswood', 'Williamsbridge/Olinville', 'Bedford',\n",
       "       'Gowanus', 'Jackson Heights', 'South Jamaica', 'Bushwick North',\n",
       "       'West Concourse', 'Queens Village', 'Windsor Terrace', 'Flatlands',\n",
       "       'Van Cortlandt Village', 'Woodside', 'East Williamsburg',\n",
       "       'Fordham South', 'East Elmhurst', 'Kew Gardens',\n",
       "       'Flushing Meadows-Corona Park', 'Marine Park/Mill Basin',\n",
       "       'Carroll Gardens', 'Canarsie', 'East Flatbush/Remsen Village',\n",
       "       'Jamaica', 'Marble Hill', 'Bushwick South', 'Erasmus',\n",
       "       'Claremont/Bathgate', 'Pelham Bay', 'Soundview/Bruckner',\n",
       "       'South Williamsburg', 'Battery Park', 'Forest Hills', 'Maspeth',\n",
       "       'Bronx Park', 'Starrett City', 'Brighton Beach', 'Brownsville',\n",
       "       'Highbridge Park', 'Bensonhurst East', 'Mount Hope',\n",
       "       'Prospect-Lefferts Gardens', 'Bayside', 'Douglaston', 'Midwood',\n",
       "       'North Corona', 'Homecrest', 'Westchester Village/Unionport',\n",
       "       'University Heights/Morris Heights', 'Inwood',\n",
       "       'Washington Heights North', 'Flatbush/Ditmas Park', 'Rego Park',\n",
       "       'Riverdale/North Riverdale/Fieldston', 'Jamaica Estates',\n",
       "       'Borough Park', 'Sunset Park West', 'Belmont', 'Auburndale',\n",
       "       'Schuylerville/Edgewater Park', 'Co-Op City',\n",
       "       'Crown Heights South', 'Spuyten Duyvil/Kingsbridge',\n",
       "       'Morrisania/Melrose', 'Hollis', 'Parkchester', 'Coney Island',\n",
       "       'East Flushing', 'Richmond Hill', 'Bedford Park', 'Highbridge',\n",
       "       'Clinton Hill', 'Sheepshead Bay', 'Madison', 'Dyker Heights',\n",
       "       'Cambria Heights', 'Pelham Parkway', 'Hunts Point',\n",
       "       'Melrose South', 'Springfield Gardens North', 'Bay Ridge',\n",
       "       'Elmhurst/Maspeth', 'Crotona Park East', 'Bronxdale',\n",
       "       'Briarwood/Jamaica Hills', 'Van Nest/Morris Park',\n",
       "       'Murray Hill-Queens', 'Kingsbridge Heights', 'Whitestone',\n",
       "       'Saint Albans', 'Allerton/Pelham Gardens', 'Howard Beach',\n",
       "       'Norwood', 'Bensonhurst West', 'Columbia Street', 'Middle Village',\n",
       "       'Prospect Park', 'Ozone Park', 'Gravesend', 'Glendale',\n",
       "       'Kew Gardens Hills', 'Woodlawn/Wakefield',\n",
       "       'West Farms/Bronx River', 'Hillcrest/Pomonok'], dtype=object)"
      ]
     },
     "execution_count": 4,
     "metadata": {},
     "output_type": "execute_result"
    }
   ],
   "source": [
    "df_pre['pickup_zone'].unique()"
   ]
  },
  {
   "cell_type": "code",
   "execution_count": null,
   "metadata": {
    "cell_id": "93b98b3dba024019ab71b6b0e43b4f5b",
    "deepnote_cell_type": "code",
    "deepnote_to_be_reexecuted": false,
    "execution_millis": 12,
    "execution_start": 1700179405727,
    "source_hash": null
   },
   "outputs": [
    {
     "data": {
      "text/plain": [
       "195"
      ]
     },
     "execution_count": 5,
     "metadata": {},
     "output_type": "execute_result"
    }
   ],
   "source": [
    "len(df_pre[\"pickup_zone\"].unique())"
   ]
  },
  {
   "cell_type": "markdown",
   "metadata": {
    "cell_id": "059bf2418ef34047b063862d5507c6e8",
    "deepnote_cell_type": "markdown"
   },
   "source": [
    "* In the *taxis* dataset from Seaborn, keep only the rows with a pickup zone that occurs at least 200 times in the dataset.  Store the resulting DataFrame as `df`.\n",
    "\n",
    "This is an example of working with a pandas Series.  Most of our examples of pandas Series are columns in a DataFrame, but in this case, the `value_counts` method returns a pandas Series also."
   ]
  },
  {
   "cell_type": "code",
   "execution_count": null,
   "metadata": {
    "cell_id": "cafe470c75c24f7e85180149aac4acdf",
    "deepnote_cell_type": "code",
    "deepnote_to_be_reexecuted": false,
    "execution_millis": 9,
    "execution_start": 1700179634194,
    "source_hash": null
   },
   "outputs": [
    {
     "data": {
      "text/plain": [
       "Midtown Center                  230\n",
       "Upper East Side South           211\n",
       "Penn Station/Madison Sq West    210\n",
       "Clinton East                    208\n",
       "Midtown East                    198\n",
       "                               ... \n",
       "Pelham Bay                        1\n",
       "Hollis                            1\n",
       "Battery Park                      1\n",
       "Columbia Street                   1\n",
       "Howard Beach                      1\n",
       "Name: pickup_zone, Length: 194, dtype: int64"
      ]
     },
     "execution_count": 9,
     "metadata": {},
     "output_type": "execute_result"
    }
   ],
   "source": [
    "vc = df_pre[\"pickup_zone\"].value_counts()\n",
    "vc"
   ]
  },
  {
   "cell_type": "markdown",
   "metadata": {
    "cell_id": "1a2ebeaee38a48a68d1702a06715bfe2",
    "deepnote_cell_type": "markdown"
   },
   "source": [
    "There are lots of nice properties of this particular Series.  The terms are written in order from most frequent to least frequent (in the index).  The values correspond to how often the terms occur.\n",
    "\n",
    "Here is a Boolean Series indicating which occur at least `200` times."
   ]
  },
  {
   "cell_type": "code",
   "execution_count": null,
   "metadata": {
    "cell_id": "adb59c64df0343eb97a2c692ed32506a",
    "deepnote_cell_type": "code",
    "deepnote_to_be_reexecuted": false,
    "execution_millis": 15,
    "execution_start": 1700179635622,
    "source_hash": null
   },
   "outputs": [
    {
     "data": {
      "text/plain": [
       "Midtown Center                   True\n",
       "Upper East Side South            True\n",
       "Penn Station/Madison Sq West     True\n",
       "Clinton East                     True\n",
       "Midtown East                    False\n",
       "                                ...  \n",
       "Pelham Bay                      False\n",
       "Hollis                          False\n",
       "Battery Park                    False\n",
       "Columbia Street                 False\n",
       "Howard Beach                    False\n",
       "Name: pickup_zone, Length: 194, dtype: bool"
      ]
     },
     "execution_count": 10,
     "metadata": {},
     "output_type": "execute_result"
    }
   ],
   "source": [
    "vc >= 200"
   ]
  },
  {
   "cell_type": "markdown",
   "metadata": {
    "cell_id": "360f75c50e5c4b79bda43741e0959842",
    "deepnote_cell_type": "markdown"
   },
   "source": [
    "Here we perform Boolean indexing to keep only those entries where the value is at least `200`.\n",
    "\n",
    "Since we only care about the index, we can use the following.  Read this as, \"Keep only those Series entries for which the value is greater than `200`, and then extract the `index` from that Series.\""
   ]
  },
  {
   "cell_type": "code",
   "execution_count": null,
   "metadata": {
    "cell_id": "8a70604834ce4d95b8cf7dbc75af91ee",
    "deepnote_cell_type": "code",
    "deepnote_to_be_reexecuted": false,
    "execution_millis": 35,
    "execution_start": 1700179744881,
    "source_hash": null
   },
   "outputs": [
    {
     "data": {
      "text/plain": [
       "Index(['Midtown Center', 'Upper East Side South',\n",
       "       'Penn Station/Madison Sq West', 'Clinton East'],\n",
       "      dtype='object')"
      ]
     },
     "execution_count": 11,
     "metadata": {},
     "output_type": "execute_result"
    }
   ],
   "source": [
    "vc[vc>=200].index"
   ]
  },
  {
   "cell_type": "markdown",
   "metadata": {
    "cell_id": "dc03aeaa076e4585b2dd357d745f2051",
    "deepnote_cell_type": "markdown"
   },
   "source": [
    "Here is an alternative approach. Read this as, \"Keep only those index terms for which the value is greater than `200`.\"\n",
    "\n",
    "Let's store the above pandas Index (the ones corresponding to at least `200` rows) with the variable name `pz200` (short for \"pickup zone 200\")."
   ]
  },
  {
   "cell_type": "code",
   "execution_count": null,
   "metadata": {
    "cell_id": "bd885d112b184ce9842d40267b181ef2",
    "deepnote_cell_type": "code",
    "deepnote_to_be_reexecuted": false,
    "execution_millis": 23,
    "execution_start": 1700179864725,
    "source_hash": null
   },
   "outputs": [
    {
     "data": {
      "text/plain": [
       "Index(['Midtown Center', 'Upper East Side South',\n",
       "       'Penn Station/Madison Sq West', 'Clinton East'],\n",
       "      dtype='object')"
      ]
     },
     "execution_count": 13,
     "metadata": {},
     "output_type": "execute_result"
    }
   ],
   "source": [
    "pz200 = vc.index[vc>=200]\n",
    "pz200"
   ]
  },
  {
   "cell_type": "code",
   "execution_count": null,
   "metadata": {
    "cell_id": "1d9786c068004d3ca09e721b99823903",
    "deepnote_cell_type": "code",
    "deepnote_to_be_reexecuted": false,
    "execution_millis": 29,
    "execution_start": 1700179999799,
    "source_hash": null
   },
   "outputs": [
    {
     "data": {
      "text/plain": [
       "0       False\n",
       "1       False\n",
       "2       False\n",
       "3       False\n",
       "4       False\n",
       "        ...  \n",
       "6428    False\n",
       "6429    False\n",
       "6430    False\n",
       "6431    False\n",
       "6432    False\n",
       "Name: pickup_zone, Length: 6433, dtype: bool"
      ]
     },
     "execution_count": 14,
     "metadata": {},
     "output_type": "execute_result"
    }
   ],
   "source": [
    "df_pre[\"pickup_zone\"].isin(pz200)"
   ]
  },
  {
   "cell_type": "markdown",
   "metadata": {
    "cell_id": "e0bafff9b3fc4efb94996d337ae91920",
    "deepnote_cell_type": "markdown"
   },
   "source": [
    "We can turn any list-like object (like the above `pz200`, which is a pandas Index, not a list) into a Boolean Series by passing it as an argument to the `isin` method.  For example, the following is showing which of the pickup zones are in our `pz200` variable."
   ]
  },
  {
   "cell_type": "code",
   "execution_count": null,
   "metadata": {
    "cell_id": "c83324a36cbb4b13b4bbcf1baf71f408",
    "deepnote_cell_type": "code"
   },
   "outputs": [],
   "source": [
    "df_pre[\"pickup_zone\"].isin(pz200)"
   ]
  },
  {
   "cell_type": "markdown",
   "metadata": {
    "cell_id": "8c230b0102c04111aceb15e38668da3b",
    "deepnote_cell_type": "markdown"
   },
   "source": [
    "We can use Boolean indexing with this `isin` method, to get only the rows for which the pickup zone is one of the entries that occurs at least `200` times."
   ]
  },
  {
   "cell_type": "code",
   "execution_count": null,
   "metadata": {
    "cell_id": "dd87fd0c6cc04e8095ae3bdb85e324d0",
    "deepnote_cell_type": "code",
    "deepnote_to_be_reexecuted": false,
    "execution_millis": 74,
    "execution_start": 1700180069399,
    "source_hash": null
   },
   "outputs": [
    {
     "data": {
      "application/vnd.deepnote.dataframe.v3+json": {
       "column_count": 14,
       "columns": [
        {
         "dtype": "datetime64[ns]",
         "name": "pickup",
         "stats": {
          "histogram": [
           {
            "bin_end": 1551667096300000000,
            "bin_start": 1551400369000000000,
            "count": 76
           },
           {
            "bin_end": 1551933823600000000,
            "bin_start": 1551667096300000000,
            "count": 90
           },
           {
            "bin_end": 1552200550900000000,
            "bin_start": 1551933823600000000,
            "count": 75
           },
           {
            "bin_end": 1552467278200000000,
            "bin_start": 1552200550900000000,
            "count": 87
           },
           {
            "bin_end": 1552734005500000000,
            "bin_start": 1552467278200000000,
            "count": 111
           },
           {
            "bin_end": 1553000732800000000,
            "bin_start": 1552734005500000000,
            "count": 74
           },
           {
            "bin_end": 1553267460100000000,
            "bin_start": 1553000732800000000,
            "count": 98
           },
           {
            "bin_end": 1553534187400000000,
            "bin_start": 1553267460100000000,
            "count": 74
           },
           {
            "bin_end": 1553800914700000000,
            "bin_start": 1553534187400000000,
            "count": 99
           },
           {
            "bin_end": 1554067642000000000,
            "bin_start": 1553800914700000000,
            "count": 75
           }
          ],
          "max": "2019-03-31 21:27:22",
          "min": "2019-03-01 00:32:49",
          "nan_count": 0,
          "unique_count": 859
         }
        },
        {
         "dtype": "datetime64[ns]",
         "name": "dropoff",
         "stats": {
          "histogram": [
           {
            "bin_end": 1551668230400000000,
            "bin_start": 1551401598000000000,
            "count": 76
           },
           {
            "bin_end": 1551934862800000000,
            "bin_start": 1551668230400000000,
            "count": 90
           },
           {
            "bin_end": 1552201495200000000,
            "bin_start": 1551934862800000000,
            "count": 75
           },
           {
            "bin_end": 1552468127600000000,
            "bin_start": 1552201495200000000,
            "count": 87
           },
           {
            "bin_end": 1552734760000000000,
            "bin_start": 1552468127600000000,
            "count": 111
           },
           {
            "bin_end": 1553001392400000000,
            "bin_start": 1552734760000000000,
            "count": 74
           },
           {
            "bin_end": 1553268024800000000,
            "bin_start": 1553001392400000000,
            "count": 97
           },
           {
            "bin_end": 1553534657200000000,
            "bin_start": 1553268024800000000,
            "count": 75
           },
           {
            "bin_end": 1553801289600000000,
            "bin_start": 1553534657200000000,
            "count": 98
           },
           {
            "bin_end": 1554067922000000000,
            "bin_start": 1553801289600000000,
            "count": 76
           }
          ],
          "max": "2019-03-31 21:32:02",
          "min": "2019-03-01 00:53:18",
          "nan_count": 0,
          "unique_count": 859
         }
        },
        {
         "dtype": "int64",
         "name": "passengers",
         "stats": {
          "histogram": [
           {
            "bin_end": 0.6,
            "bin_start": 0,
            "count": 17
           },
           {
            "bin_end": 1.2,
            "bin_start": 0.6,
            "count": 599
           },
           {
            "bin_end": 1.7999999999999998,
            "bin_start": 1.2,
            "count": 0
           },
           {
            "bin_end": 2.4,
            "bin_start": 1.7999999999999998,
            "count": 140
           },
           {
            "bin_end": 3,
            "bin_start": 2.4,
            "count": 0
           },
           {
            "bin_end": 3.5999999999999996,
            "bin_start": 3,
            "count": 30
           },
           {
            "bin_end": 4.2,
            "bin_start": 3.5999999999999996,
            "count": 14
           },
           {
            "bin_end": 4.8,
            "bin_start": 4.2,
            "count": 0
           },
           {
            "bin_end": 5.3999999999999995,
            "bin_start": 4.8,
            "count": 35
           },
           {
            "bin_end": 6,
            "bin_start": 5.3999999999999995,
            "count": 24
           }
          ],
          "max": "6",
          "min": "0",
          "nan_count": 0,
          "unique_count": 7
         }
        },
        {
         "dtype": "float64",
         "name": "distance",
         "stats": {
          "histogram": [
           {
            "bin_end": 1.9940000000000002,
            "bin_start": 0,
            "count": 589
           },
           {
            "bin_end": 3.9880000000000004,
            "bin_start": 1.9940000000000002,
            "count": 178
           },
           {
            "bin_end": 5.982000000000001,
            "bin_start": 3.9880000000000004,
            "count": 41
           },
           {
            "bin_end": 7.976000000000001,
            "bin_start": 5.982000000000001,
            "count": 17
           },
           {
            "bin_end": 9.97,
            "bin_start": 7.976000000000001,
            "count": 13
           },
           {
            "bin_end": 11.964000000000002,
            "bin_start": 9.97,
            "count": 9
           },
           {
            "bin_end": 13.958000000000002,
            "bin_start": 11.964000000000002,
            "count": 4
           },
           {
            "bin_end": 15.952000000000002,
            "bin_start": 13.958000000000002,
            "count": 3
           },
           {
            "bin_end": 17.946,
            "bin_start": 15.952000000000002,
            "count": 4
           },
           {
            "bin_end": 19.94,
            "bin_start": 17.946,
            "count": 1
           }
          ],
          "max": "19.94",
          "min": "0.0",
          "nan_count": 0,
          "unique_count": 324
         }
        },
        {
         "dtype": "float64",
         "name": "fare",
         "stats": {
          "histogram": [
           {
            "bin_end": 7.45,
            "bin_start": 2.5,
            "count": 311
           },
           {
            "bin_end": 12.4,
            "bin_start": 7.45,
            "count": 321
           },
           {
            "bin_end": 17.35,
            "bin_start": 12.4,
            "count": 120
           },
           {
            "bin_end": 22.3,
            "bin_start": 17.35,
            "count": 50
           },
           {
            "bin_end": 27.25,
            "bin_start": 22.3,
            "count": 18
           },
           {
            "bin_end": 32.2,
            "bin_start": 27.25,
            "count": 16
           },
           {
            "bin_end": 37.15,
            "bin_start": 32.2,
            "count": 7
           },
           {
            "bin_end": 42.1,
            "bin_start": 37.15,
            "count": 3
           },
           {
            "bin_end": 47.050000000000004,
            "bin_start": 42.1,
            "count": 5
           },
           {
            "bin_end": 52,
            "bin_start": 47.050000000000004,
            "count": 8
           }
          ],
          "max": "52.0",
          "min": "2.5",
          "nan_count": 0,
          "unique_count": 73
         }
        },
        {
         "dtype": "float64",
         "name": "tip",
         "stats": {
          "histogram": [
           {
            "bin_end": 1.31,
            "bin_start": 0,
            "count": 328
           },
           {
            "bin_end": 2.62,
            "bin_start": 1.31,
            "count": 288
           },
           {
            "bin_end": 3.93,
            "bin_start": 2.62,
            "count": 155
           },
           {
            "bin_end": 5.24,
            "bin_start": 3.93,
            "count": 63
           },
           {
            "bin_end": 6.550000000000001,
            "bin_start": 5.24,
            "count": 10
           },
           {
            "bin_end": 7.86,
            "bin_start": 6.550000000000001,
            "count": 5
           },
           {
            "bin_end": 9.17,
            "bin_start": 7.86,
            "count": 2
           },
           {
            "bin_end": 10.48,
            "bin_start": 9.17,
            "count": 2
           },
           {
            "bin_end": 11.790000000000001,
            "bin_start": 10.48,
            "count": 4
           },
           {
            "bin_end": 13.1,
            "bin_start": 11.790000000000001,
            "count": 2
           }
          ],
          "max": "13.1",
          "min": "0.0",
          "nan_count": 0,
          "unique_count": 167
         }
        },
        {
         "dtype": "float64",
         "name": "tolls",
         "stats": {
          "histogram": [
           {
            "bin_end": 0.576,
            "bin_start": 0,
            "count": 840
           },
           {
            "bin_end": 1.152,
            "bin_start": 0.576,
            "count": 0
           },
           {
            "bin_end": 1.7279999999999998,
            "bin_start": 1.152,
            "count": 0
           },
           {
            "bin_end": 2.304,
            "bin_start": 1.7279999999999998,
            "count": 0
           },
           {
            "bin_end": 2.88,
            "bin_start": 2.304,
            "count": 0
           },
           {
            "bin_end": 3.4559999999999995,
            "bin_start": 2.88,
            "count": 0
           },
           {
            "bin_end": 4.032,
            "bin_start": 3.4559999999999995,
            "count": 0
           },
           {
            "bin_end": 4.608,
            "bin_start": 4.032,
            "count": 0
           },
           {
            "bin_end": 5.183999999999999,
            "bin_start": 4.608,
            "count": 0
           },
           {
            "bin_end": 5.76,
            "bin_start": 5.183999999999999,
            "count": 19
           }
          ],
          "max": "5.76",
          "min": "0.0",
          "nan_count": 0,
          "unique_count": 2
         }
        },
        {
         "dtype": "float64",
         "name": "total",
         "stats": {
          "histogram": [
           {
            "bin_end": 11.286,
            "bin_start": 3.8,
            "count": 221
           },
           {
            "bin_end": 18.772,
            "bin_start": 11.286,
            "count": 427
           },
           {
            "bin_end": 26.258,
            "bin_start": 18.772,
            "count": 136
           },
           {
            "bin_end": 33.744,
            "bin_start": 26.258,
            "count": 32
           },
           {
            "bin_end": 41.23,
            "bin_start": 33.744,
            "count": 20
           },
           {
            "bin_end": 48.715999999999994,
            "bin_start": 41.23,
            "count": 5
           },
           {
            "bin_end": 56.202,
            "bin_start": 48.715999999999994,
            "count": 10
           },
           {
            "bin_end": 63.687999999999995,
            "bin_start": 56.202,
            "count": 4
           },
           {
            "bin_end": 71.17399999999999,
            "bin_start": 63.687999999999995,
            "count": 2
           },
           {
            "bin_end": 78.66,
            "bin_start": 71.17399999999999,
            "count": 2
           }
          ],
          "max": "78.66",
          "min": "3.8",
          "nan_count": 0,
          "unique_count": 238
         }
        },
        {
         "dtype": "object",
         "name": "color",
         "stats": {
          "categories": [
           {
            "count": 859,
            "name": "yellow"
           }
          ],
          "nan_count": 0,
          "unique_count": 1
         }
        },
        {
         "dtype": "object",
         "name": "payment",
         "stats": {
          "categories": [
           {
            "count": 627,
            "name": "credit card"
           },
           {
            "count": 227,
            "name": "cash"
           },
           {
            "count": 5,
            "name": "Missing"
           }
          ],
          "nan_count": 5,
          "unique_count": 2
         }
        },
        {
         "dtype": "object",
         "name": "pickup_zone",
         "stats": {
          "categories": [
           {
            "count": 230,
            "name": "Midtown Center"
           },
           {
            "count": 211,
            "name": "Upper East Side South"
           },
           {
            "count": 418,
            "name": "2 others"
           }
          ],
          "nan_count": 0,
          "unique_count": 4
         }
        },
        {
         "dtype": "object",
         "name": "dropoff_zone",
         "stats": {
          "categories": [
           {
            "count": 54,
            "name": "Upper East Side North"
           },
           {
            "count": 803,
            "name": "85 others"
           },
           {
            "count": 2,
            "name": "Missing"
           }
          ],
          "nan_count": 2,
          "unique_count": 86
         }
        },
        {
         "dtype": "object",
         "name": "pickup_borough",
         "stats": {
          "categories": [
           {
            "count": 859,
            "name": "Manhattan"
           }
          ],
          "nan_count": 0,
          "unique_count": 1
         }
        },
        {
         "dtype": "object",
         "name": "dropoff_borough",
         "stats": {
          "categories": [
           {
            "count": 802,
            "name": "Manhattan"
           },
           {
            "count": 55,
            "name": "3 others"
           },
           {
            "count": 2,
            "name": "Missing"
           }
          ],
          "nan_count": 2,
          "unique_count": 4
         }
        },
        {
         "dtype": "int64",
         "name": "_deepnote_index_column"
        }
       ],
       "row_count": 859,
       "rows": [
        {
         "_deepnote_index_column": 17,
         "color": "yellow",
         "distance": 2.6,
         "dropoff": "2019-03-23 21:02:07",
         "dropoff_borough": "Manhattan",
         "dropoff_zone": "East Harlem South",
         "fare": 10.5,
         "passengers": 1,
         "payment": "credit card",
         "pickup": "2019-03-23 20:50:49",
         "pickup_borough": "Manhattan",
         "pickup_zone": "Midtown Center",
         "tip": 2,
         "tolls": 0,
         "total": 16.3
        },
        {
         "_deepnote_index_column": 20,
         "color": "yellow",
         "distance": 1.07,
         "dropoff": "2019-03-21 03:44:13",
         "dropoff_borough": "Manhattan",
         "dropoff_zone": "Kips Bay",
         "fare": 6.5,
         "passengers": 1,
         "payment": "credit card",
         "pickup": "2019-03-21 03:37:34",
         "pickup_borough": "Manhattan",
         "pickup_zone": "Penn Station/Madison Sq West",
         "tip": 1.54,
         "tolls": 0,
         "total": 11.84
        },
        {
         "_deepnote_index_column": 21,
         "color": "yellow",
         "distance": 0.8,
         "dropoff": "2019-03-25 23:11:13",
         "dropoff_borough": "Manhattan",
         "dropoff_zone": "Murray Hill",
         "fare": 5.5,
         "passengers": 1,
         "payment": "credit card",
         "pickup": "2019-03-25 23:05:54",
         "pickup_borough": "Manhattan",
         "pickup_zone": "Penn Station/Madison Sq West",
         "tip": 2.3,
         "tolls": 0,
         "total": 11.6
        },
        {
         "_deepnote_index_column": 27,
         "color": "yellow",
         "distance": 2.6,
         "dropoff": "2019-03-16 20:46:22",
         "dropoff_borough": "Manhattan",
         "dropoff_zone": "Lenox Hill West",
         "fare": 12.5,
         "passengers": 1,
         "payment": "credit card",
         "pickup": "2019-03-16 20:30:36",
         "pickup_borough": "Manhattan",
         "pickup_zone": "Clinton East",
         "tip": 3.26,
         "tolls": 0,
         "total": 19.56
        },
        {
         "_deepnote_index_column": 31,
         "color": "yellow",
         "distance": 0.74,
         "dropoff": "2019-03-01 02:57:59",
         "dropoff_borough": "Manhattan",
         "dropoff_zone": "West Chelsea/Hudson Yards",
         "fare": 4,
         "passengers": 3,
         "payment": "cash",
         "pickup": "2019-03-01 02:55:55",
         "pickup_borough": "Manhattan",
         "pickup_zone": "Clinton East",
         "tip": 0,
         "tolls": 0,
         "total": 7.8
        },
        {
         "_deepnote_index_column": 32,
         "color": "yellow",
         "distance": 0.62,
         "dropoff": "2019-03-17 19:29:58",
         "dropoff_borough": "Manhattan",
         "dropoff_zone": "Sutton Place/Turtle Bay North",
         "fare": 5.5,
         "passengers": 1,
         "payment": "credit card",
         "pickup": "2019-03-17 19:24:50",
         "pickup_borough": "Manhattan",
         "pickup_zone": "Midtown Center",
         "tip": 1,
         "tolls": 0,
         "total": 9.8
        },
        {
         "_deepnote_index_column": 50,
         "color": "yellow",
         "distance": 1,
         "dropoff": "2019-03-16 16:54:50",
         "dropoff_borough": "Manhattan",
         "dropoff_zone": "Penn Station/Madison Sq West",
         "fare": 11.5,
         "passengers": 2,
         "payment": "cash",
         "pickup": "2019-03-16 16:36:34",
         "pickup_borough": "Manhattan",
         "pickup_zone": "Clinton East",
         "tip": 0,
         "tolls": 0,
         "total": 14.8
        },
        {
         "_deepnote_index_column": 63,
         "color": "yellow",
         "distance": 1.02,
         "dropoff": "2019-03-28 22:04:04",
         "dropoff_borough": "Manhattan",
         "dropoff_zone": "Garment District",
         "fare": 5.5,
         "passengers": 4,
         "payment": "cash",
         "pickup": "2019-03-28 21:59:44",
         "pickup_borough": "Manhattan",
         "pickup_zone": "Penn Station/Madison Sq West",
         "tip": 0,
         "tolls": 0,
         "total": 9.3
        },
        {
         "_deepnote_index_column": 68,
         "color": "yellow",
         "distance": 1.22,
         "dropoff": "2019-03-22 02:30:21",
         "dropoff_borough": "Manhattan",
         "dropoff_zone": "Midtown North",
         "fare": 7.5,
         "passengers": 3,
         "payment": "cash",
         "pickup": "2019-03-22 02:22:01",
         "pickup_borough": "Manhattan",
         "pickup_zone": "Clinton East",
         "tip": 0,
         "tolls": 0,
         "total": 11.3
        },
        {
         "_deepnote_index_column": 69,
         "color": "yellow",
         "distance": 0.55,
         "dropoff": "2019-03-31 15:53:39",
         "dropoff_borough": "Manhattan",
         "dropoff_zone": "Times Sq/Theatre District",
         "fare": 7.5,
         "passengers": 1,
         "payment": "credit card",
         "pickup": "2019-03-31 15:43:37",
         "pickup_borough": "Manhattan",
         "pickup_zone": "Clinton East",
         "tip": 1.5,
         "tolls": 0,
         "total": 12.3
        }
       ]
      },
      "text/html": [
       "<div>\n",
       "<style scoped>\n",
       "    .dataframe tbody tr th:only-of-type {\n",
       "        vertical-align: middle;\n",
       "    }\n",
       "\n",
       "    .dataframe tbody tr th {\n",
       "        vertical-align: top;\n",
       "    }\n",
       "\n",
       "    .dataframe thead th {\n",
       "        text-align: right;\n",
       "    }\n",
       "</style>\n",
       "<table border=\"1\" class=\"dataframe\">\n",
       "  <thead>\n",
       "    <tr style=\"text-align: right;\">\n",
       "      <th></th>\n",
       "      <th>pickup</th>\n",
       "      <th>dropoff</th>\n",
       "      <th>passengers</th>\n",
       "      <th>distance</th>\n",
       "      <th>fare</th>\n",
       "      <th>tip</th>\n",
       "      <th>tolls</th>\n",
       "      <th>total</th>\n",
       "      <th>color</th>\n",
       "      <th>payment</th>\n",
       "      <th>pickup_zone</th>\n",
       "      <th>dropoff_zone</th>\n",
       "      <th>pickup_borough</th>\n",
       "      <th>dropoff_borough</th>\n",
       "    </tr>\n",
       "  </thead>\n",
       "  <tbody>\n",
       "    <tr>\n",
       "      <th>17</th>\n",
       "      <td>2019-03-23 20:50:49</td>\n",
       "      <td>2019-03-23 21:02:07</td>\n",
       "      <td>1</td>\n",
       "      <td>2.60</td>\n",
       "      <td>10.5</td>\n",
       "      <td>2.00</td>\n",
       "      <td>0.0</td>\n",
       "      <td>16.30</td>\n",
       "      <td>yellow</td>\n",
       "      <td>credit card</td>\n",
       "      <td>Midtown Center</td>\n",
       "      <td>East Harlem South</td>\n",
       "      <td>Manhattan</td>\n",
       "      <td>Manhattan</td>\n",
       "    </tr>\n",
       "    <tr>\n",
       "      <th>20</th>\n",
       "      <td>2019-03-21 03:37:34</td>\n",
       "      <td>2019-03-21 03:44:13</td>\n",
       "      <td>1</td>\n",
       "      <td>1.07</td>\n",
       "      <td>6.5</td>\n",
       "      <td>1.54</td>\n",
       "      <td>0.0</td>\n",
       "      <td>11.84</td>\n",
       "      <td>yellow</td>\n",
       "      <td>credit card</td>\n",
       "      <td>Penn Station/Madison Sq West</td>\n",
       "      <td>Kips Bay</td>\n",
       "      <td>Manhattan</td>\n",
       "      <td>Manhattan</td>\n",
       "    </tr>\n",
       "    <tr>\n",
       "      <th>21</th>\n",
       "      <td>2019-03-25 23:05:54</td>\n",
       "      <td>2019-03-25 23:11:13</td>\n",
       "      <td>1</td>\n",
       "      <td>0.80</td>\n",
       "      <td>5.5</td>\n",
       "      <td>2.30</td>\n",
       "      <td>0.0</td>\n",
       "      <td>11.60</td>\n",
       "      <td>yellow</td>\n",
       "      <td>credit card</td>\n",
       "      <td>Penn Station/Madison Sq West</td>\n",
       "      <td>Murray Hill</td>\n",
       "      <td>Manhattan</td>\n",
       "      <td>Manhattan</td>\n",
       "    </tr>\n",
       "    <tr>\n",
       "      <th>27</th>\n",
       "      <td>2019-03-16 20:30:36</td>\n",
       "      <td>2019-03-16 20:46:22</td>\n",
       "      <td>1</td>\n",
       "      <td>2.60</td>\n",
       "      <td>12.5</td>\n",
       "      <td>3.26</td>\n",
       "      <td>0.0</td>\n",
       "      <td>19.56</td>\n",
       "      <td>yellow</td>\n",
       "      <td>credit card</td>\n",
       "      <td>Clinton East</td>\n",
       "      <td>Lenox Hill West</td>\n",
       "      <td>Manhattan</td>\n",
       "      <td>Manhattan</td>\n",
       "    </tr>\n",
       "    <tr>\n",
       "      <th>31</th>\n",
       "      <td>2019-03-01 02:55:55</td>\n",
       "      <td>2019-03-01 02:57:59</td>\n",
       "      <td>3</td>\n",
       "      <td>0.74</td>\n",
       "      <td>4.0</td>\n",
       "      <td>0.00</td>\n",
       "      <td>0.0</td>\n",
       "      <td>7.80</td>\n",
       "      <td>yellow</td>\n",
       "      <td>cash</td>\n",
       "      <td>Clinton East</td>\n",
       "      <td>West Chelsea/Hudson Yards</td>\n",
       "      <td>Manhattan</td>\n",
       "      <td>Manhattan</td>\n",
       "    </tr>\n",
       "    <tr>\n",
       "      <th>...</th>\n",
       "      <td>...</td>\n",
       "      <td>...</td>\n",
       "      <td>...</td>\n",
       "      <td>...</td>\n",
       "      <td>...</td>\n",
       "      <td>...</td>\n",
       "      <td>...</td>\n",
       "      <td>...</td>\n",
       "      <td>...</td>\n",
       "      <td>...</td>\n",
       "      <td>...</td>\n",
       "      <td>...</td>\n",
       "      <td>...</td>\n",
       "      <td>...</td>\n",
       "    </tr>\n",
       "    <tr>\n",
       "      <th>5403</th>\n",
       "      <td>2019-03-15 08:42:56</td>\n",
       "      <td>2019-03-15 08:47:27</td>\n",
       "      <td>1</td>\n",
       "      <td>0.64</td>\n",
       "      <td>5.0</td>\n",
       "      <td>1.00</td>\n",
       "      <td>0.0</td>\n",
       "      <td>9.30</td>\n",
       "      <td>yellow</td>\n",
       "      <td>credit card</td>\n",
       "      <td>Upper East Side South</td>\n",
       "      <td>Lenox Hill East</td>\n",
       "      <td>Manhattan</td>\n",
       "      <td>Manhattan</td>\n",
       "    </tr>\n",
       "    <tr>\n",
       "      <th>5404</th>\n",
       "      <td>2019-03-20 21:03:10</td>\n",
       "      <td>2019-03-20 21:11:12</td>\n",
       "      <td>1</td>\n",
       "      <td>1.79</td>\n",
       "      <td>8.5</td>\n",
       "      <td>0.00</td>\n",
       "      <td>0.0</td>\n",
       "      <td>12.30</td>\n",
       "      <td>yellow</td>\n",
       "      <td>cash</td>\n",
       "      <td>Midtown Center</td>\n",
       "      <td>Upper East Side North</td>\n",
       "      <td>Manhattan</td>\n",
       "      <td>Manhattan</td>\n",
       "    </tr>\n",
       "    <tr>\n",
       "      <th>5423</th>\n",
       "      <td>2019-03-22 13:47:56</td>\n",
       "      <td>2019-03-22 14:01:32</td>\n",
       "      <td>1</td>\n",
       "      <td>1.00</td>\n",
       "      <td>9.5</td>\n",
       "      <td>2.00</td>\n",
       "      <td>0.0</td>\n",
       "      <td>14.80</td>\n",
       "      <td>yellow</td>\n",
       "      <td>credit card</td>\n",
       "      <td>Midtown Center</td>\n",
       "      <td>Union Sq</td>\n",
       "      <td>Manhattan</td>\n",
       "      <td>Manhattan</td>\n",
       "    </tr>\n",
       "    <tr>\n",
       "      <th>5444</th>\n",
       "      <td>2019-03-05 21:39:03</td>\n",
       "      <td>2019-03-05 21:49:12</td>\n",
       "      <td>5</td>\n",
       "      <td>1.31</td>\n",
       "      <td>8.0</td>\n",
       "      <td>0.00</td>\n",
       "      <td>0.0</td>\n",
       "      <td>11.80</td>\n",
       "      <td>yellow</td>\n",
       "      <td>cash</td>\n",
       "      <td>Clinton East</td>\n",
       "      <td>Midtown East</td>\n",
       "      <td>Manhattan</td>\n",
       "      <td>Manhattan</td>\n",
       "    </tr>\n",
       "    <tr>\n",
       "      <th>5445</th>\n",
       "      <td>2019-03-13 10:57:06</td>\n",
       "      <td>2019-03-13 11:03:29</td>\n",
       "      <td>1</td>\n",
       "      <td>0.83</td>\n",
       "      <td>6.0</td>\n",
       "      <td>1.86</td>\n",
       "      <td>0.0</td>\n",
       "      <td>11.16</td>\n",
       "      <td>yellow</td>\n",
       "      <td>credit card</td>\n",
       "      <td>Upper East Side South</td>\n",
       "      <td>Upper East Side North</td>\n",
       "      <td>Manhattan</td>\n",
       "      <td>Manhattan</td>\n",
       "    </tr>\n",
       "  </tbody>\n",
       "</table>\n",
       "<p>859 rows × 14 columns</p>\n",
       "</div>"
      ],
      "text/plain": [
       "                  pickup             dropoff  passengers  distance  fare  \\\n",
       "17   2019-03-23 20:50:49 2019-03-23 21:02:07           1      2.60  10.5   \n",
       "20   2019-03-21 03:37:34 2019-03-21 03:44:13           1      1.07   6.5   \n",
       "21   2019-03-25 23:05:54 2019-03-25 23:11:13           1      0.80   5.5   \n",
       "27   2019-03-16 20:30:36 2019-03-16 20:46:22           1      2.60  12.5   \n",
       "31   2019-03-01 02:55:55 2019-03-01 02:57:59           3      0.74   4.0   \n",
       "...                  ...                 ...         ...       ...   ...   \n",
       "5403 2019-03-15 08:42:56 2019-03-15 08:47:27           1      0.64   5.0   \n",
       "5404 2019-03-20 21:03:10 2019-03-20 21:11:12           1      1.79   8.5   \n",
       "5423 2019-03-22 13:47:56 2019-03-22 14:01:32           1      1.00   9.5   \n",
       "5444 2019-03-05 21:39:03 2019-03-05 21:49:12           5      1.31   8.0   \n",
       "5445 2019-03-13 10:57:06 2019-03-13 11:03:29           1      0.83   6.0   \n",
       "\n",
       "       tip  tolls  total   color      payment                   pickup_zone  \\\n",
       "17    2.00    0.0  16.30  yellow  credit card                Midtown Center   \n",
       "20    1.54    0.0  11.84  yellow  credit card  Penn Station/Madison Sq West   \n",
       "21    2.30    0.0  11.60  yellow  credit card  Penn Station/Madison Sq West   \n",
       "27    3.26    0.0  19.56  yellow  credit card                  Clinton East   \n",
       "31    0.00    0.0   7.80  yellow         cash                  Clinton East   \n",
       "...    ...    ...    ...     ...          ...                           ...   \n",
       "5403  1.00    0.0   9.30  yellow  credit card         Upper East Side South   \n",
       "5404  0.00    0.0  12.30  yellow         cash                Midtown Center   \n",
       "5423  2.00    0.0  14.80  yellow  credit card                Midtown Center   \n",
       "5444  0.00    0.0  11.80  yellow         cash                  Clinton East   \n",
       "5445  1.86    0.0  11.16  yellow  credit card         Upper East Side South   \n",
       "\n",
       "                   dropoff_zone pickup_borough dropoff_borough  \n",
       "17            East Harlem South      Manhattan       Manhattan  \n",
       "20                     Kips Bay      Manhattan       Manhattan  \n",
       "21                  Murray Hill      Manhattan       Manhattan  \n",
       "27              Lenox Hill West      Manhattan       Manhattan  \n",
       "31    West Chelsea/Hudson Yards      Manhattan       Manhattan  \n",
       "...                         ...            ...             ...  \n",
       "5403            Lenox Hill East      Manhattan       Manhattan  \n",
       "5404      Upper East Side North      Manhattan       Manhattan  \n",
       "5423                   Union Sq      Manhattan       Manhattan  \n",
       "5444               Midtown East      Manhattan       Manhattan  \n",
       "5445      Upper East Side North      Manhattan       Manhattan  \n",
       "\n",
       "[859 rows x 14 columns]"
      ]
     },
     "execution_count": 15,
     "metadata": {},
     "output_type": "execute_result"
    }
   ],
   "source": [
    "df = df_pre[df_pre[\"pickup_zone\"].isin(pz200)]\n",
    "df"
   ]
  },
  {
   "cell_type": "markdown",
   "metadata": {
    "cell_id": "bd0f218789114aa5b1d107fcce5363d6",
    "deepnote_cell_type": "markdown"
   },
   "source": [
    "* How many rows are in `df`?"
   ]
  },
  {
   "cell_type": "code",
   "execution_count": null,
   "metadata": {
    "cell_id": "04bb3e0baa4a4e4e89c294ee5a633449",
    "deepnote_cell_type": "code",
    "deepnote_to_be_reexecuted": false,
    "execution_millis": 11,
    "execution_start": 1700180149250,
    "source_hash": null
   },
   "outputs": [
    {
     "data": {
      "text/plain": [
       "859"
      ]
     },
     "execution_count": 16,
     "metadata": {},
     "output_type": "execute_result"
    }
   ],
   "source": [
    "len(df)"
   ]
  },
  {
   "cell_type": "code",
   "execution_count": null,
   "metadata": {
    "cell_id": "badb96e176be49ffa64c0f782054bcdc",
    "deepnote_cell_type": "code",
    "deepnote_to_be_reexecuted": false,
    "execution_millis": 9,
    "execution_start": 1700180167310,
    "source_hash": null
   },
   "outputs": [
    {
     "data": {
      "text/plain": [
       "859"
      ]
     },
     "execution_count": 17,
     "metadata": {},
     "output_type": "execute_result"
    }
   ],
   "source": [
    "df.shape[0]"
   ]
  },
  {
   "cell_type": "markdown",
   "metadata": {
    "cell_id": "fd8b9e6fcad84066889b15df77994ad7",
    "deepnote_cell_type": "markdown"
   },
   "source": [
    "* Draw a scatter plot in Altair encoding the \"distance\" in the x-channel, the \"total\" in the y-channel, and the \"pickup_zone\" in the color."
   ]
  },
  {
   "cell_type": "markdown",
   "metadata": {
    "cell_id": "f0822628f4e8409c82f0a7d4199d7594",
    "deepnote_cell_type": "markdown"
   },
   "source": [
    "Now there are only four pickup zones. It does not seem like a good candidate for predictions, because there are no clear patterns in this data."
   ]
  },
  {
   "cell_type": "code",
   "execution_count": null,
   "metadata": {
    "cell_id": "93df2a47ec9848f68295a03c33c45bad",
    "deepnote_cell_type": "code",
    "deepnote_to_be_reexecuted": false,
    "execution_millis": 115,
    "execution_start": 1700180307686,
    "source_hash": null
   },
   "outputs": [
    {
     "data": {
      "text/html": [
       "\n",
       "<div id=\"altair-viz-bff2a3a0a42e45e9a10682ce434dcb12\"></div>\n",
       "<script type=\"text/javascript\">\n",
       "  var VEGA_DEBUG = (typeof VEGA_DEBUG == \"undefined\") ? {} : VEGA_DEBUG;\n",
       "  (function(spec, embedOpt){\n",
       "    let outputDiv = document.currentScript.previousElementSibling;\n",
       "    if (outputDiv.id !== \"altair-viz-bff2a3a0a42e45e9a10682ce434dcb12\") {\n",
       "      outputDiv = document.getElementById(\"altair-viz-bff2a3a0a42e45e9a10682ce434dcb12\");\n",
       "    }\n",
       "    const paths = {\n",
       "      \"vega\": \"https://cdn.jsdelivr.net/npm//vega@5?noext\",\n",
       "      \"vega-lib\": \"https://cdn.jsdelivr.net/npm//vega-lib?noext\",\n",
       "      \"vega-lite\": \"https://cdn.jsdelivr.net/npm//vega-lite@4.17.0?noext\",\n",
       "      \"vega-embed\": \"https://cdn.jsdelivr.net/npm//vega-embed@6?noext\",\n",
       "    };\n",
       "\n",
       "    function maybeLoadScript(lib, version) {\n",
       "      var key = `${lib.replace(\"-\", \"\")}_version`;\n",
       "      return (VEGA_DEBUG[key] == version) ?\n",
       "        Promise.resolve(paths[lib]) :\n",
       "        new Promise(function(resolve, reject) {\n",
       "          var s = document.createElement('script');\n",
       "          document.getElementsByTagName(\"head\")[0].appendChild(s);\n",
       "          s.async = true;\n",
       "          s.onload = () => {\n",
       "            VEGA_DEBUG[key] = version;\n",
       "            return resolve(paths[lib]);\n",
       "          };\n",
       "          s.onerror = () => reject(`Error loading script: ${paths[lib]}`);\n",
       "          s.src = paths[lib];\n",
       "        });\n",
       "    }\n",
       "\n",
       "    function showError(err) {\n",
       "      outputDiv.innerHTML = `<div class=\"error\" style=\"color:red;\">${err}</div>`;\n",
       "      throw err;\n",
       "    }\n",
       "\n",
       "    function displayChart(vegaEmbed) {\n",
       "      vegaEmbed(outputDiv, spec, embedOpt)\n",
       "        .catch(err => showError(`Javascript Error: ${err.message}<br>This usually means there's a typo in your chart specification. See the javascript console for the full traceback.`));\n",
       "    }\n",
       "\n",
       "    if(typeof define === \"function\" && define.amd) {\n",
       "      requirejs.config({paths});\n",
       "      require([\"vega-embed\"], displayChart, err => showError(`Error loading script: ${err.message}`));\n",
       "    } else {\n",
       "      maybeLoadScript(\"vega\", \"5\")\n",
       "        .then(() => maybeLoadScript(\"vega-lite\", \"4.17.0\"))\n",
       "        .then(() => maybeLoadScript(\"vega-embed\", \"6\"))\n",
       "        .catch(showError)\n",
       "        .then(() => displayChart(vegaEmbed));\n",
       "    }\n",
       "  })({\"config\": {\"view\": {\"continuousWidth\": 400, \"continuousHeight\": 300}}, \"data\": {\"name\": \"data-de8a743af935577b6e47e5c84adc150b\"}, \"mark\": \"circle\", \"encoding\": {\"color\": {\"field\": \"pickup_zone\", \"type\": \"nominal\"}, \"x\": {\"field\": \"distance\", \"type\": \"quantitative\"}, \"y\": {\"field\": \"total\", \"type\": \"quantitative\"}}, \"$schema\": \"https://vega.github.io/schema/vega-lite/v4.17.0.json\", \"datasets\": {\"data-de8a743af935577b6e47e5c84adc150b\": [{\"pickup\": \"2019-03-23T20:50:49\", \"dropoff\": \"2019-03-23T21:02:07\", \"passengers\": 1, \"distance\": 2.6, \"fare\": 10.5, \"tip\": 2.0, \"tolls\": 0.0, \"total\": 16.3, \"color\": \"yellow\", \"payment\": \"credit card\", \"pickup_zone\": \"Midtown Center\", \"dropoff_zone\": \"East Harlem South\", \"pickup_borough\": \"Manhattan\", \"dropoff_borough\": \"Manhattan\"}, {\"pickup\": \"2019-03-21T03:37:34\", \"dropoff\": \"2019-03-21T03:44:13\", \"passengers\": 1, \"distance\": 1.07, \"fare\": 6.5, \"tip\": 1.54, \"tolls\": 0.0, \"total\": 11.84, \"color\": \"yellow\", \"payment\": \"credit card\", \"pickup_zone\": \"Penn Station/Madison Sq West\", \"dropoff_zone\": \"Kips Bay\", \"pickup_borough\": \"Manhattan\", \"dropoff_borough\": \"Manhattan\"}, {\"pickup\": \"2019-03-25T23:05:54\", \"dropoff\": \"2019-03-25T23:11:13\", \"passengers\": 1, \"distance\": 0.8, \"fare\": 5.5, \"tip\": 2.3, \"tolls\": 0.0, \"total\": 11.6, \"color\": \"yellow\", \"payment\": \"credit card\", \"pickup_zone\": \"Penn Station/Madison Sq West\", \"dropoff_zone\": \"Murray Hill\", \"pickup_borough\": \"Manhattan\", \"dropoff_borough\": \"Manhattan\"}, {\"pickup\": \"2019-03-16T20:30:36\", \"dropoff\": \"2019-03-16T20:46:22\", \"passengers\": 1, \"distance\": 2.6, \"fare\": 12.5, \"tip\": 3.26, \"tolls\": 0.0, \"total\": 19.56, \"color\": \"yellow\", \"payment\": \"credit card\", \"pickup_zone\": \"Clinton East\", \"dropoff_zone\": \"Lenox Hill West\", \"pickup_borough\": \"Manhattan\", \"dropoff_borough\": \"Manhattan\"}, {\"pickup\": \"2019-03-01T02:55:55\", \"dropoff\": \"2019-03-01T02:57:59\", \"passengers\": 3, \"distance\": 0.74, \"fare\": 4.0, \"tip\": 0.0, \"tolls\": 0.0, \"total\": 7.8, \"color\": \"yellow\", \"payment\": \"cash\", \"pickup_zone\": \"Clinton East\", \"dropoff_zone\": \"West Chelsea/Hudson Yards\", \"pickup_borough\": \"Manhattan\", \"dropoff_borough\": \"Manhattan\"}, {\"pickup\": \"2019-03-17T19:24:50\", \"dropoff\": \"2019-03-17T19:29:58\", \"passengers\": 1, \"distance\": 0.62, \"fare\": 5.5, \"tip\": 1.0, \"tolls\": 0.0, \"total\": 9.8, \"color\": \"yellow\", \"payment\": \"credit card\", \"pickup_zone\": \"Midtown Center\", \"dropoff_zone\": \"Sutton Place/Turtle Bay North\", \"pickup_borough\": \"Manhattan\", \"dropoff_borough\": \"Manhattan\"}, {\"pickup\": \"2019-03-16T16:36:34\", \"dropoff\": \"2019-03-16T16:54:50\", \"passengers\": 2, \"distance\": 1.0, \"fare\": 11.5, \"tip\": 0.0, \"tolls\": 0.0, \"total\": 14.8, \"color\": \"yellow\", \"payment\": \"cash\", \"pickup_zone\": \"Clinton East\", \"dropoff_zone\": \"Penn Station/Madison Sq West\", \"pickup_borough\": \"Manhattan\", \"dropoff_borough\": \"Manhattan\"}, {\"pickup\": \"2019-03-28T21:59:44\", \"dropoff\": \"2019-03-28T22:04:04\", \"passengers\": 4, \"distance\": 1.02, \"fare\": 5.5, \"tip\": 0.0, \"tolls\": 0.0, \"total\": 9.3, \"color\": \"yellow\", \"payment\": \"cash\", \"pickup_zone\": \"Penn Station/Madison Sq West\", \"dropoff_zone\": \"Garment District\", \"pickup_borough\": \"Manhattan\", \"dropoff_borough\": \"Manhattan\"}, {\"pickup\": \"2019-03-22T02:22:01\", \"dropoff\": \"2019-03-22T02:30:21\", \"passengers\": 3, \"distance\": 1.22, \"fare\": 7.5, \"tip\": 0.0, \"tolls\": 0.0, \"total\": 11.3, \"color\": \"yellow\", \"payment\": \"cash\", \"pickup_zone\": \"Clinton East\", \"dropoff_zone\": \"Midtown North\", \"pickup_borough\": \"Manhattan\", \"dropoff_borough\": \"Manhattan\"}, {\"pickup\": \"2019-03-31T15:43:37\", \"dropoff\": \"2019-03-31T15:53:39\", \"passengers\": 1, \"distance\": 0.55, \"fare\": 7.5, \"tip\": 1.5, \"tolls\": 0.0, \"total\": 12.3, \"color\": \"yellow\", \"payment\": \"credit card\", \"pickup_zone\": \"Clinton East\", \"dropoff_zone\": \"Times Sq/Theatre District\", \"pickup_borough\": \"Manhattan\", \"dropoff_borough\": \"Manhattan\"}, {\"pickup\": \"2019-03-02T23:05:12\", \"dropoff\": \"2019-03-02T23:17:34\", \"passengers\": 1, \"distance\": 1.85, \"fare\": 10.0, \"tip\": 0.0, \"tolls\": 0.0, \"total\": 13.8, \"color\": \"yellow\", \"payment\": \"cash\", \"pickup_zone\": \"Clinton East\", \"dropoff_zone\": \"Lenox Hill West\", \"pickup_borough\": \"Manhattan\", \"dropoff_borough\": \"Manhattan\"}, {\"pickup\": \"2019-03-05T15:41:23\", \"dropoff\": \"2019-03-05T15:46:30\", \"passengers\": 1, \"distance\": 0.6, \"fare\": 5.0, \"tip\": 1.65, \"tolls\": 0.0, \"total\": 9.95, \"color\": \"yellow\", \"payment\": \"credit card\", \"pickup_zone\": \"Midtown Center\", \"dropoff_zone\": \"Midtown Center\", \"pickup_borough\": \"Manhattan\", \"dropoff_borough\": \"Manhattan\"}, {\"pickup\": \"2019-03-07T10:39:25\", \"dropoff\": \"2019-03-07T11:05:01\", \"passengers\": 5, \"distance\": 2.55, \"fare\": 16.5, \"tip\": 0.0, \"tolls\": 0.0, \"total\": 19.8, \"color\": \"yellow\", \"payment\": \"cash\", \"pickup_zone\": \"Midtown Center\", \"dropoff_zone\": \"Little Italy/NoLiTa\", \"pickup_borough\": \"Manhattan\", \"dropoff_borough\": \"Manhattan\"}, {\"pickup\": \"2019-03-06T20:00:28\", \"dropoff\": \"2019-03-06T20:11:50\", \"passengers\": 3, \"distance\": 2.6, \"fare\": 11.0, \"tip\": 4.4, \"tolls\": 0.0, \"total\": 19.2, \"color\": \"yellow\", \"payment\": \"credit card\", \"pickup_zone\": \"Upper East Side South\", \"dropoff_zone\": \"Upper West Side North\", \"pickup_borough\": \"Manhattan\", \"dropoff_borough\": \"Manhattan\"}, {\"pickup\": \"2019-03-28T21:30:43\", \"dropoff\": \"2019-03-28T21:42:10\", \"passengers\": 1, \"distance\": 1.6, \"fare\": 9.0, \"tip\": 2.55, \"tolls\": 0.0, \"total\": 15.35, \"color\": \"yellow\", \"payment\": \"credit card\", \"pickup_zone\": \"Penn Station/Madison Sq West\", \"dropoff_zone\": \"Stuy Town/Peter Cooper Village\", \"pickup_borough\": \"Manhattan\", \"dropoff_borough\": \"Manhattan\"}, {\"pickup\": \"2019-03-04T22:34:00\", \"dropoff\": \"2019-03-04T22:41:34\", \"passengers\": 1, \"distance\": 1.3, \"fare\": 7.5, \"tip\": 0.5, \"tolls\": 0.0, \"total\": 11.8, \"color\": \"yellow\", \"payment\": \"credit card\", \"pickup_zone\": \"Midtown Center\", \"dropoff_zone\": \"Upper East Side South\", \"pickup_borough\": \"Manhattan\", \"dropoff_borough\": \"Manhattan\"}, {\"pickup\": \"2019-03-29T14:24:32\", \"dropoff\": \"2019-03-29T14:31:52\", \"passengers\": 1, \"distance\": 1.15, \"fare\": 7.0, \"tip\": 2.06, \"tolls\": 0.0, \"total\": 12.36, \"color\": \"yellow\", \"payment\": \"credit card\", \"pickup_zone\": \"Midtown Center\", \"dropoff_zone\": \"Lenox Hill West\", \"pickup_borough\": \"Manhattan\", \"dropoff_borough\": \"Manhattan\"}, {\"pickup\": \"2019-03-22T23:19:12\", \"dropoff\": \"2019-03-22T23:31:20\", \"passengers\": 1, \"distance\": 1.7, \"fare\": 10.0, \"tip\": 2.75, \"tolls\": 0.0, \"total\": 16.55, \"color\": \"yellow\", \"payment\": \"credit card\", \"pickup_zone\": \"Midtown Center\", \"dropoff_zone\": \"Upper West Side South\", \"pickup_borough\": \"Manhattan\", \"dropoff_borough\": \"Manhattan\"}, {\"pickup\": \"2019-03-30T12:28:42\", \"dropoff\": \"2019-03-30T12:49:34\", \"passengers\": 1, \"distance\": 2.9, \"fare\": 15.0, \"tip\": 0.0, \"tolls\": 0.0, \"total\": 18.3, \"color\": \"yellow\", \"payment\": \"cash\", \"pickup_zone\": \"Penn Station/Madison Sq West\", \"dropoff_zone\": \"Upper West Side South\", \"pickup_borough\": \"Manhattan\", \"dropoff_borough\": \"Manhattan\"}, {\"pickup\": \"2019-03-01T16:10:56\", \"dropoff\": \"2019-03-01T16:15:58\", \"passengers\": 1, \"distance\": 0.65, \"fare\": 5.0, \"tip\": 1.86, \"tolls\": 0.0, \"total\": 11.16, \"color\": \"yellow\", \"payment\": \"credit card\", \"pickup_zone\": \"Midtown Center\", \"dropoff_zone\": \"Sutton Place/Turtle Bay North\", \"pickup_borough\": \"Manhattan\", \"dropoff_borough\": \"Manhattan\"}, {\"pickup\": \"2019-03-11T10:00:32\", \"dropoff\": \"2019-03-11T10:04:24\", \"passengers\": 2, \"distance\": 0.58, \"fare\": 4.5, \"tip\": 0.78, \"tolls\": 0.0, \"total\": 8.58, \"color\": \"yellow\", \"payment\": \"credit card\", \"pickup_zone\": \"Upper East Side South\", \"dropoff_zone\": \"Upper East Side North\", \"pickup_borough\": \"Manhattan\", \"dropoff_borough\": \"Manhattan\"}, {\"pickup\": \"2019-03-20T21:17:25\", \"dropoff\": \"2019-03-20T21:22:39\", \"passengers\": 1, \"distance\": 0.83, \"fare\": 5.5, \"tip\": 0.0, \"tolls\": 0.0, \"total\": 9.3, \"color\": \"yellow\", \"payment\": \"cash\", \"pickup_zone\": \"Clinton East\", \"dropoff_zone\": \"Midtown Center\", \"pickup_borough\": \"Manhattan\", \"dropoff_borough\": \"Manhattan\"}, {\"pickup\": \"2019-03-04T13:06:09\", \"dropoff\": \"2019-03-04T13:16:31\", \"passengers\": 1, \"distance\": 1.79, \"fare\": 9.5, \"tip\": 1.0, \"tolls\": 0.0, \"total\": 13.8, \"color\": \"yellow\", \"payment\": \"credit card\", \"pickup_zone\": \"Midtown Center\", \"dropoff_zone\": \"Upper East Side North\", \"pickup_borough\": \"Manhattan\", \"dropoff_borough\": \"Manhattan\"}, {\"pickup\": \"2019-03-31T08:55:25\", \"dropoff\": \"2019-03-31T09:00:23\", \"passengers\": 1, \"distance\": 1.1, \"fare\": 6.0, \"tip\": 0.0, \"tolls\": 0.0, \"total\": 9.3, \"color\": \"yellow\", \"payment\": \"cash\", \"pickup_zone\": \"Clinton East\", \"dropoff_zone\": \"Central Park\", \"pickup_borough\": \"Manhattan\", \"dropoff_borough\": \"Manhattan\"}, {\"pickup\": \"2019-03-13T18:32:01\", \"dropoff\": \"2019-03-13T18:45:07\", \"passengers\": 1, \"distance\": 2.0, \"fare\": 10.0, \"tip\": 0.0, \"tolls\": 0.0, \"total\": 14.3, \"color\": \"yellow\", \"payment\": \"cash\", \"pickup_zone\": \"Clinton East\", \"dropoff_zone\": \"Gramercy\", \"pickup_borough\": \"Manhattan\", \"dropoff_borough\": \"Manhattan\"}, {\"pickup\": \"2019-03-05T15:39:52\", \"dropoff\": \"2019-03-05T15:44:51\", \"passengers\": 3, \"distance\": 0.92, \"fare\": 5.5, \"tip\": 0.0, \"tolls\": 0.0, \"total\": 8.8, \"color\": \"yellow\", \"payment\": \"cash\", \"pickup_zone\": \"Clinton East\", \"dropoff_zone\": \"Midtown North\", \"pickup_borough\": \"Manhattan\", \"dropoff_borough\": \"Manhattan\"}, {\"pickup\": \"2019-03-28T22:33:16\", \"dropoff\": \"2019-03-28T22:45:37\", \"passengers\": 2, \"distance\": 1.56, \"fare\": 9.5, \"tip\": 0.0, \"tolls\": 0.0, \"total\": 13.3, \"color\": \"yellow\", \"payment\": \"cash\", \"pickup_zone\": \"Midtown Center\", \"dropoff_zone\": \"Murray Hill\", \"pickup_borough\": \"Manhattan\", \"dropoff_borough\": \"Manhattan\"}, {\"pickup\": \"2019-03-04T20:40:56\", \"dropoff\": \"2019-03-04T20:44:27\", \"passengers\": 1, \"distance\": 1.1, \"fare\": 5.5, \"tip\": 1.86, \"tolls\": 0.0, \"total\": 11.16, \"color\": \"yellow\", \"payment\": \"credit card\", \"pickup_zone\": \"Clinton East\", \"dropoff_zone\": \"Clinton East\", \"pickup_borough\": \"Manhattan\", \"dropoff_borough\": \"Manhattan\"}, {\"pickup\": \"2019-03-13T08:34:03\", \"dropoff\": \"2019-03-13T08:51:10\", \"passengers\": 1, \"distance\": 1.8, \"fare\": 11.5, \"tip\": 0.0, \"tolls\": 0.0, \"total\": 14.8, \"color\": \"yellow\", \"payment\": \"cash\", \"pickup_zone\": \"Penn Station/Madison Sq West\", \"dropoff_zone\": \"Lincoln Square West\", \"pickup_borough\": \"Manhattan\", \"dropoff_borough\": \"Manhattan\"}, {\"pickup\": \"2019-03-19T14:05:07\", \"dropoff\": \"2019-03-19T14:11:25\", \"passengers\": 1, \"distance\": 1.3, \"fare\": 6.5, \"tip\": 2.45, \"tolls\": 0.0, \"total\": 12.25, \"color\": \"yellow\", \"payment\": \"credit card\", \"pickup_zone\": \"Penn Station/Madison Sq West\", \"dropoff_zone\": \"Clinton West\", \"pickup_borough\": \"Manhattan\", \"dropoff_borough\": \"Manhattan\"}, {\"pickup\": \"2019-03-14T07:59:57\", \"dropoff\": \"2019-03-14T08:09:42\", \"passengers\": 1, \"distance\": 1.4, \"fare\": 8.5, \"tip\": 2.35, \"tolls\": 0.0, \"total\": 14.15, \"color\": \"yellow\", \"payment\": \"credit card\", \"pickup_zone\": \"Upper East Side South\", \"dropoff_zone\": \"Upper East Side North\", \"pickup_borough\": \"Manhattan\", \"dropoff_borough\": \"Manhattan\"}, {\"pickup\": \"2019-03-15T21:25:04\", \"dropoff\": \"2019-03-15T21:31:55\", \"passengers\": 1, \"distance\": 0.88, \"fare\": 6.0, \"tip\": 0.0, \"tolls\": 0.0, \"total\": 9.8, \"color\": \"yellow\", \"payment\": \"cash\", \"pickup_zone\": \"Upper East Side South\", \"dropoff_zone\": \"Midtown Center\", \"pickup_borough\": \"Manhattan\", \"dropoff_borough\": \"Manhattan\"}, {\"pickup\": \"2019-03-25T21:36:30\", \"dropoff\": \"2019-03-25T21:44:52\", \"passengers\": 1, \"distance\": 0.9, \"fare\": 7.0, \"tip\": 2.16, \"tolls\": 0.0, \"total\": 12.96, \"color\": \"yellow\", \"payment\": \"credit card\", \"pickup_zone\": \"Midtown Center\", \"dropoff_zone\": \"Penn Station/Madison Sq West\", \"pickup_borough\": \"Manhattan\", \"dropoff_borough\": \"Manhattan\"}, {\"pickup\": \"2019-03-22T21:39:15\", \"dropoff\": \"2019-03-22T21:45:25\", \"passengers\": 1, \"distance\": 0.84, \"fare\": 6.0, \"tip\": 2.0, \"tolls\": 0.0, \"total\": 11.8, \"color\": \"yellow\", \"payment\": \"credit card\", \"pickup_zone\": \"Upper East Side South\", \"dropoff_zone\": \"Sutton Place/Turtle Bay North\", \"pickup_borough\": \"Manhattan\", \"dropoff_borough\": \"Manhattan\"}, {\"pickup\": \"2019-03-19T23:41:10\", \"dropoff\": \"2019-03-19T23:43:55\", \"passengers\": 1, \"distance\": 0.4, \"fare\": 4.0, \"tip\": 0.0, \"tolls\": 0.0, \"total\": 7.8, \"color\": \"yellow\", \"payment\": \"cash\", \"pickup_zone\": \"Upper East Side South\", \"dropoff_zone\": \"Lenox Hill East\", \"pickup_borough\": \"Manhattan\", \"dropoff_borough\": \"Manhattan\"}, {\"pickup\": \"2019-03-14T14:28:42\", \"dropoff\": \"2019-03-14T14:56:54\", \"passengers\": 1, \"distance\": 3.79, \"fare\": 19.5, \"tip\": 4.56, \"tolls\": 0.0, \"total\": 29.31, \"color\": \"yellow\", \"payment\": \"credit card\", \"pickup_zone\": \"Midtown Center\", \"dropoff_zone\": \"Lenox Hill East\", \"pickup_borough\": \"Manhattan\", \"dropoff_borough\": \"Manhattan\"}, {\"pickup\": \"2019-03-04T15:30:13\", \"dropoff\": \"2019-03-04T15:41:03\", \"passengers\": 1, \"distance\": 0.62, \"fare\": 7.5, \"tip\": 2.16, \"tolls\": 0.0, \"total\": 12.96, \"color\": \"yellow\", \"payment\": \"credit card\", \"pickup_zone\": \"Midtown Center\", \"dropoff_zone\": \"Midtown Center\", \"pickup_borough\": \"Manhattan\", \"dropoff_borough\": \"Manhattan\"}, {\"pickup\": \"2019-03-07T23:46:25\", \"dropoff\": \"2019-03-07T23:51:55\", \"passengers\": 1, \"distance\": 1.09, \"fare\": 6.0, \"tip\": 1.96, \"tolls\": 0.0, \"total\": 11.76, \"color\": \"yellow\", \"payment\": \"credit card\", \"pickup_zone\": \"Penn Station/Madison Sq West\", \"dropoff_zone\": \"Midtown Center\", \"pickup_borough\": \"Manhattan\", \"dropoff_borough\": \"Manhattan\"}, {\"pickup\": \"2019-03-15T19:33:40\", \"dropoff\": \"2019-03-15T19:54:59\", \"passengers\": 1, \"distance\": 3.3, \"fare\": 15.5, \"tip\": 2.96, \"tolls\": 0.0, \"total\": 22.76, \"color\": \"yellow\", \"payment\": \"credit card\", \"pickup_zone\": \"Upper East Side South\", \"dropoff_zone\": \"Gramercy\", \"pickup_borough\": \"Manhattan\", \"dropoff_borough\": \"Manhattan\"}, {\"pickup\": \"2019-03-26T12:11:08\", \"dropoff\": \"2019-03-26T12:23:55\", \"passengers\": 1, \"distance\": 1.0, \"fare\": 8.5, \"tip\": 0.0, \"tolls\": 0.0, \"total\": 11.8, \"color\": \"yellow\", \"payment\": \"cash\", \"pickup_zone\": \"Clinton East\", \"dropoff_zone\": \"Garment District\", \"pickup_borough\": \"Manhattan\", \"dropoff_borough\": \"Manhattan\"}, {\"pickup\": \"2019-03-31T18:09:31\", \"dropoff\": \"2019-03-31T18:25:30\", \"passengers\": 1, \"distance\": 2.62, \"fare\": 12.0, \"tip\": 3.06, \"tolls\": 0.0, \"total\": 18.36, \"color\": \"yellow\", \"payment\": \"credit card\", \"pickup_zone\": \"Midtown Center\", \"dropoff_zone\": \"East Village\", \"pickup_borough\": \"Manhattan\", \"dropoff_borough\": \"Manhattan\"}, {\"pickup\": \"2019-03-07T13:07:41\", \"dropoff\": \"2019-03-07T13:22:19\", \"passengers\": 6, \"distance\": 1.7, \"fare\": 10.5, \"tip\": 2.75, \"tolls\": 0.0, \"total\": 16.55, \"color\": \"yellow\", \"payment\": \"credit card\", \"pickup_zone\": \"Midtown Center\", \"dropoff_zone\": \"Union Sq\", \"pickup_borough\": \"Manhattan\", \"dropoff_borough\": \"Manhattan\"}, {\"pickup\": \"2019-03-05T22:16:23\", \"dropoff\": \"2019-03-05T22:24:14\", \"passengers\": 1, \"distance\": 1.06, \"fare\": 7.0, \"tip\": 1.08, \"tolls\": 0.0, \"total\": 11.88, \"color\": \"yellow\", \"payment\": \"credit card\", \"pickup_zone\": \"Penn Station/Madison Sq West\", \"dropoff_zone\": \"Murray Hill\", \"pickup_borough\": \"Manhattan\", \"dropoff_borough\": \"Manhattan\"}, {\"pickup\": \"2019-03-14T19:56:56\", \"dropoff\": \"2019-03-14T20:07:03\", \"passengers\": 1, \"distance\": 1.24, \"fare\": 8.0, \"tip\": 3.69, \"tolls\": 0.0, \"total\": 15.99, \"color\": \"yellow\", \"payment\": \"credit card\", \"pickup_zone\": \"Midtown Center\", \"dropoff_zone\": \"Upper East Side South\", \"pickup_borough\": \"Manhattan\", \"dropoff_borough\": \"Manhattan\"}, {\"pickup\": \"2019-03-14T17:52:20\", \"dropoff\": \"2019-03-14T18:08:32\", \"passengers\": 1, \"distance\": 2.1, \"fare\": 12.0, \"tip\": 3.25, \"tolls\": 0.0, \"total\": 19.55, \"color\": \"yellow\", \"payment\": \"credit card\", \"pickup_zone\": \"Midtown Center\", \"dropoff_zone\": \"Kips Bay\", \"pickup_borough\": \"Manhattan\", \"dropoff_borough\": \"Manhattan\"}, {\"pickup\": \"2019-03-22T11:55:00\", \"dropoff\": \"2019-03-22T12:36:56\", \"passengers\": 2, \"distance\": 16.6, \"fare\": 52.0, \"tip\": 6.0, \"tolls\": 5.76, \"total\": 67.06, \"color\": \"yellow\", \"payment\": \"credit card\", \"pickup_zone\": \"Midtown Center\", \"dropoff_zone\": \"JFK Airport\", \"pickup_borough\": \"Manhattan\", \"dropoff_borough\": \"Queens\"}, {\"pickup\": \"2019-03-04T22:21:05\", \"dropoff\": \"2019-03-04T22:30:40\", \"passengers\": 2, \"distance\": 2.41, \"fare\": 9.5, \"tip\": 3.32, \"tolls\": 0.0, \"total\": 16.62, \"color\": \"yellow\", \"payment\": \"credit card\", \"pickup_zone\": \"Midtown Center\", \"dropoff_zone\": \"Yorkville West\", \"pickup_borough\": \"Manhattan\", \"dropoff_borough\": \"Manhattan\"}, {\"pickup\": \"2019-03-27T08:38:24\", \"dropoff\": \"2019-03-27T08:43:49\", \"passengers\": 1, \"distance\": 0.9, \"fare\": 5.5, \"tip\": 0.0, \"tolls\": 0.0, \"total\": 8.8, \"color\": \"yellow\", \"payment\": \"cash\", \"pickup_zone\": \"Upper East Side South\", \"dropoff_zone\": \"Upper East Side North\", \"pickup_borough\": \"Manhattan\", \"dropoff_borough\": \"Manhattan\"}, {\"pickup\": \"2019-03-25T22:43:54\", \"dropoff\": \"2019-03-25T22:51:42\", \"passengers\": 1, \"distance\": 1.4, \"fare\": 7.5, \"tip\": 0.0, \"tolls\": 0.0, \"total\": 11.3, \"color\": \"yellow\", \"payment\": \"cash\", \"pickup_zone\": \"Upper East Side South\", \"dropoff_zone\": \"UN/Turtle Bay South\", \"pickup_borough\": \"Manhattan\", \"dropoff_borough\": \"Manhattan\"}, {\"pickup\": \"2019-03-27T16:25:43\", \"dropoff\": \"2019-03-27T16:35:23\", \"passengers\": 1, \"distance\": 0.68, \"fare\": 7.5, \"tip\": 0.0, \"tolls\": 0.0, \"total\": 11.8, \"color\": \"yellow\", \"payment\": \"cash\", \"pickup_zone\": \"Upper East Side South\", \"dropoff_zone\": \"Upper East Side South\", \"pickup_borough\": \"Manhattan\", \"dropoff_borough\": \"Manhattan\"}, {\"pickup\": \"2019-03-16T14:02:05\", \"dropoff\": \"2019-03-16T14:10:07\", \"passengers\": 3, \"distance\": 1.2, \"fare\": 7.5, \"tip\": 2.16, \"tolls\": 0.0, \"total\": 12.96, \"color\": \"yellow\", \"payment\": \"credit card\", \"pickup_zone\": \"Upper East Side South\", \"dropoff_zone\": \"Lenox Hill West\", \"pickup_borough\": \"Manhattan\", \"dropoff_borough\": \"Manhattan\"}, {\"pickup\": \"2019-03-01T17:51:29\", \"dropoff\": \"2019-03-01T18:02:41\", \"passengers\": 1, \"distance\": 1.75, \"fare\": 9.0, \"tip\": 3.99, \"tolls\": 0.0, \"total\": 17.29, \"color\": \"yellow\", \"payment\": \"credit card\", \"pickup_zone\": \"Penn Station/Madison Sq West\", \"dropoff_zone\": \"Greenwich Village North\", \"pickup_borough\": \"Manhattan\", \"dropoff_borough\": \"Manhattan\"}, {\"pickup\": \"2019-03-21T06:12:16\", \"dropoff\": \"2019-03-21T06:16:45\", \"passengers\": 5, \"distance\": 1.2, \"fare\": 5.5, \"tip\": 1.76, \"tolls\": 0.0, \"total\": 10.56, \"color\": \"yellow\", \"payment\": \"credit card\", \"pickup_zone\": \"Penn Station/Madison Sq West\", \"dropoff_zone\": \"Times Sq/Theatre District\", \"pickup_borough\": \"Manhattan\", \"dropoff_borough\": \"Manhattan\"}, {\"pickup\": \"2019-03-29T19:24:36\", \"dropoff\": \"2019-03-29T19:33:39\", \"passengers\": 1, \"distance\": 2.23, \"fare\": 9.5, \"tip\": 3.45, \"tolls\": 0.0, \"total\": 17.25, \"color\": \"yellow\", \"payment\": \"credit card\", \"pickup_zone\": \"Upper East Side South\", \"dropoff_zone\": \"Long Island City/Hunters Point\", \"pickup_borough\": \"Manhattan\", \"dropoff_borough\": \"Queens\"}, {\"pickup\": \"2019-03-24T16:49:27\", \"dropoff\": \"2019-03-24T16:56:46\", \"passengers\": 3, \"distance\": 1.3, \"fare\": 6.5, \"tip\": 1.0, \"tolls\": 0.0, \"total\": 10.8, \"color\": \"yellow\", \"payment\": \"credit card\", \"pickup_zone\": \"Penn Station/Madison Sq West\", \"dropoff_zone\": \"Union Sq\", \"pickup_borough\": \"Manhattan\", \"dropoff_borough\": \"Manhattan\"}, {\"pickup\": \"2019-03-01T11:56:33\", \"dropoff\": \"2019-03-01T12:24:09\", \"passengers\": 1, \"distance\": 12.05, \"fare\": 35.5, \"tip\": 0.0, \"tolls\": 0.0, \"total\": 36.3, \"color\": \"yellow\", \"payment\": \"credit card\", \"pickup_zone\": \"Clinton East\", \"dropoff_zone\": \"Soundview/Castle Hill\", \"pickup_borough\": \"Manhattan\", \"dropoff_borough\": \"Bronx\"}, {\"pickup\": \"2019-03-08T17:25:38\", \"dropoff\": \"2019-03-08T17:32:08\", \"passengers\": 1, \"distance\": 0.6, \"fare\": 6.0, \"tip\": 0.0, \"tolls\": 0.0, \"total\": 10.3, \"color\": \"yellow\", \"payment\": \"credit card\", \"pickup_zone\": \"Midtown Center\", \"dropoff_zone\": \"Sutton Place/Turtle Bay North\", \"pickup_borough\": \"Manhattan\", \"dropoff_borough\": \"Manhattan\"}, {\"pickup\": \"2019-03-25T18:42:25\", \"dropoff\": \"2019-03-25T18:54:54\", \"passengers\": 1, \"distance\": 1.8, \"fare\": 9.5, \"tip\": 2.0, \"tolls\": 0.0, \"total\": 15.8, \"color\": \"yellow\", \"payment\": \"credit card\", \"pickup_zone\": \"Midtown Center\", \"dropoff_zone\": \"Union Sq\", \"pickup_borough\": \"Manhattan\", \"dropoff_borough\": \"Manhattan\"}, {\"pickup\": \"2019-03-23T04:21:32\", \"dropoff\": \"2019-03-23T04:27:31\", \"passengers\": 1, \"distance\": 1.2, \"fare\": 6.5, \"tip\": 1.0, \"tolls\": 0.0, \"total\": 11.3, \"color\": \"yellow\", \"payment\": \"credit card\", \"pickup_zone\": \"Clinton East\", \"dropoff_zone\": \"Penn Station/Madison Sq West\", \"pickup_borough\": \"Manhattan\", \"dropoff_borough\": \"Manhattan\"}, {\"pickup\": \"2019-03-17T17:25:09\", \"dropoff\": \"2019-03-17T17:32:05\", \"passengers\": 3, \"distance\": 0.8, \"fare\": 6.0, \"tip\": 0.0, \"tolls\": 0.0, \"total\": 9.3, \"color\": \"yellow\", \"payment\": \"cash\", \"pickup_zone\": \"Midtown Center\", \"dropoff_zone\": \"Clinton East\", \"pickup_borough\": \"Manhattan\", \"dropoff_borough\": \"Manhattan\"}, {\"pickup\": \"2019-03-21T08:08:23\", \"dropoff\": \"2019-03-21T08:16:12\", \"passengers\": 1, \"distance\": 0.9, \"fare\": 7.0, \"tip\": 1.8, \"tolls\": 0.0, \"total\": 12.1, \"color\": \"yellow\", \"payment\": \"credit card\", \"pickup_zone\": \"Penn Station/Madison Sq West\", \"dropoff_zone\": \"West Chelsea/Hudson Yards\", \"pickup_borough\": \"Manhattan\", \"dropoff_borough\": \"Manhattan\"}, {\"pickup\": \"2019-03-31T06:51:54\", \"dropoff\": \"2019-03-31T07:02:42\", \"passengers\": 1, \"distance\": 3.9, \"fare\": 12.5, \"tip\": 4.0, \"tolls\": 0.0, \"total\": 19.8, \"color\": \"yellow\", \"payment\": \"credit card\", \"pickup_zone\": \"Clinton East\", \"dropoff_zone\": \"East Harlem South\", \"pickup_borough\": \"Manhattan\", \"dropoff_borough\": \"Manhattan\"}, {\"pickup\": \"2019-03-08T13:52:36\", \"dropoff\": \"2019-03-08T13:59:15\", \"passengers\": 1, \"distance\": 0.68, \"fare\": 6.0, \"tip\": 1.86, \"tolls\": 0.0, \"total\": 11.16, \"color\": \"yellow\", \"payment\": \"credit card\", \"pickup_zone\": \"Upper East Side South\", \"dropoff_zone\": \"Upper East Side South\", \"pickup_borough\": \"Manhattan\", \"dropoff_borough\": \"Manhattan\"}, {\"pickup\": \"2019-03-01T09:33:42\", \"dropoff\": \"2019-03-01T09:48:36\", \"passengers\": 1, \"distance\": 1.11, \"fare\": 10.0, \"tip\": 2.66, \"tolls\": 0.0, \"total\": 15.96, \"color\": \"yellow\", \"payment\": \"credit card\", \"pickup_zone\": \"Clinton East\", \"dropoff_zone\": \"Penn Station/Madison Sq West\", \"pickup_borough\": \"Manhattan\", \"dropoff_borough\": \"Manhattan\"}, {\"pickup\": \"2019-03-19T23:23:12\", \"dropoff\": \"2019-03-19T23:38:38\", \"passengers\": 1, \"distance\": 3.37, \"fare\": 13.5, \"tip\": 2.0, \"tolls\": 0.0, \"total\": 19.3, \"color\": \"yellow\", \"payment\": \"credit card\", \"pickup_zone\": \"Clinton East\", \"dropoff_zone\": \"Alphabet City\", \"pickup_borough\": \"Manhattan\", \"dropoff_borough\": \"Manhattan\"}, {\"pickup\": \"2019-03-20T20:38:18\", \"dropoff\": \"2019-03-20T20:45:26\", \"passengers\": 0, \"distance\": 1.1, \"fare\": 6.5, \"tip\": 1.56, \"tolls\": 0.0, \"total\": 9.36, \"color\": \"yellow\", \"payment\": \"credit card\", \"pickup_zone\": \"Midtown Center\", \"dropoff_zone\": \"Midtown Center\", \"pickup_borough\": \"Manhattan\", \"dropoff_borough\": \"Manhattan\"}, {\"pickup\": \"2019-03-15T22:38:47\", \"dropoff\": \"2019-03-15T22:41:19\", \"passengers\": 1, \"distance\": 0.6, \"fare\": 4.0, \"tip\": 1.0, \"tolls\": 0.0, \"total\": 8.8, \"color\": \"yellow\", \"payment\": \"credit card\", \"pickup_zone\": \"Clinton East\", \"dropoff_zone\": \"Lincoln Square West\", \"pickup_borough\": \"Manhattan\", \"dropoff_borough\": \"Manhattan\"}, {\"pickup\": \"2019-03-12T18:23:06\", \"dropoff\": \"2019-03-12T18:31:25\", \"passengers\": 1, \"distance\": 0.53, \"fare\": 6.5, \"tip\": 2.16, \"tolls\": 0.0, \"total\": 12.96, \"color\": \"yellow\", \"payment\": \"credit card\", \"pickup_zone\": \"Midtown Center\", \"dropoff_zone\": \"Midtown South\", \"pickup_borough\": \"Manhattan\", \"dropoff_borough\": \"Manhattan\"}, {\"pickup\": \"2019-03-01T21:29:24\", \"dropoff\": \"2019-03-01T21:42:30\", \"passengers\": 1, \"distance\": 2.8, \"fare\": 12.0, \"tip\": 3.16, \"tolls\": 0.0, \"total\": 18.96, \"color\": \"yellow\", \"payment\": \"credit card\", \"pickup_zone\": \"Midtown Center\", \"dropoff_zone\": \"Upper West Side North\", \"pickup_borough\": \"Manhattan\", \"dropoff_borough\": \"Manhattan\"}, {\"pickup\": \"2019-03-26T08:44:47\", \"dropoff\": \"2019-03-26T08:51:36\", \"passengers\": 1, \"distance\": 1.2, \"fare\": 6.5, \"tip\": 2.45, \"tolls\": 0.0, \"total\": 12.25, \"color\": \"yellow\", \"payment\": \"credit card\", \"pickup_zone\": \"Clinton East\", \"dropoff_zone\": \"Clinton West\", \"pickup_borough\": \"Manhattan\", \"dropoff_borough\": \"Manhattan\"}, {\"pickup\": \"2019-03-14T20:33:35\", \"dropoff\": \"2019-03-14T20:47:52\", \"passengers\": 1, \"distance\": 2.58, \"fare\": 12.0, \"tip\": 3.16, \"tolls\": 0.0, \"total\": 18.96, \"color\": \"yellow\", \"payment\": \"credit card\", \"pickup_zone\": \"Clinton East\", \"dropoff_zone\": \"Yorkville East\", \"pickup_borough\": \"Manhattan\", \"dropoff_borough\": \"Manhattan\"}, {\"pickup\": \"2019-03-15T08:17:30\", \"dropoff\": \"2019-03-15T08:25:03\", \"passengers\": 1, \"distance\": 1.4, \"fare\": 7.0, \"tip\": 2.05, \"tolls\": 0.0, \"total\": 12.35, \"color\": \"yellow\", \"payment\": \"credit card\", \"pickup_zone\": \"Upper East Side South\", \"dropoff_zone\": \"Midtown North\", \"pickup_borough\": \"Manhattan\", \"dropoff_borough\": \"Manhattan\"}, {\"pickup\": \"2019-03-02T07:28:47\", \"dropoff\": \"2019-03-02T07:35:25\", \"passengers\": 1, \"distance\": 1.5, \"fare\": 7.0, \"tip\": 0.0, \"tolls\": 0.0, \"total\": 10.3, \"color\": \"yellow\", \"payment\": \"cash\", \"pickup_zone\": \"Upper East Side South\", \"dropoff_zone\": \"Murray Hill\", \"pickup_borough\": \"Manhattan\", \"dropoff_borough\": \"Manhattan\"}, {\"pickup\": \"2019-03-18T19:48:37\", \"dropoff\": \"2019-03-18T19:51:15\", \"passengers\": 1, \"distance\": 0.69, \"fare\": 4.0, \"tip\": 1.24, \"tolls\": 0.0, \"total\": 9.54, \"color\": \"yellow\", \"payment\": \"credit card\", \"pickup_zone\": \"Midtown Center\", \"dropoff_zone\": \"Times Sq/Theatre District\", \"pickup_borough\": \"Manhattan\", \"dropoff_borough\": \"Manhattan\"}, {\"pickup\": \"2019-03-27T17:59:17\", \"dropoff\": \"2019-03-27T18:27:22\", \"passengers\": 1, \"distance\": 2.75, \"fare\": 18.0, \"tip\": 4.46, \"tolls\": 0.0, \"total\": 26.76, \"color\": \"yellow\", \"payment\": \"credit card\", \"pickup_zone\": \"Midtown Center\", \"dropoff_zone\": \"Kips Bay\", \"pickup_borough\": \"Manhattan\", \"dropoff_borough\": \"Manhattan\"}, {\"pickup\": \"2019-03-25T22:38:58\", \"dropoff\": \"2019-03-25T22:43:42\", \"passengers\": 2, \"distance\": 0.81, \"fare\": 5.5, \"tip\": 0.0, \"tolls\": 0.0, \"total\": 9.3, \"color\": \"yellow\", \"payment\": \"cash\", \"pickup_zone\": \"Clinton East\", \"dropoff_zone\": \"Midtown North\", \"pickup_borough\": \"Manhattan\", \"dropoff_borough\": \"Manhattan\"}, {\"pickup\": \"2019-03-20T12:49:35\", \"dropoff\": \"2019-03-20T12:58:37\", \"passengers\": 3, \"distance\": 0.37, \"fare\": 7.0, \"tip\": 0.0, \"tolls\": 0.0, \"total\": 10.3, \"color\": \"yellow\", \"payment\": \"cash\", \"pickup_zone\": \"Penn Station/Madison Sq West\", \"dropoff_zone\": \"Garment District\", \"pickup_borough\": \"Manhattan\", \"dropoff_borough\": \"Manhattan\"}, {\"pickup\": \"2019-03-09T20:25:17\", \"dropoff\": \"2019-03-09T20:40:18\", \"passengers\": 2, \"distance\": 2.6, \"fare\": 12.0, \"tip\": 3.15, \"tolls\": 0.0, \"total\": 18.95, \"color\": \"yellow\", \"payment\": \"credit card\", \"pickup_zone\": \"Penn Station/Madison Sq West\", \"dropoff_zone\": \"Battery Park City\", \"pickup_borough\": \"Manhattan\", \"dropoff_borough\": \"Manhattan\"}, {\"pickup\": \"2019-03-11T22:41:38\", \"dropoff\": \"2019-03-11T22:50:06\", \"passengers\": 2, \"distance\": 1.32, \"fare\": 7.5, \"tip\": 0.0, \"tolls\": 0.0, \"total\": 11.3, \"color\": \"yellow\", \"payment\": \"cash\", \"pickup_zone\": \"Clinton East\", \"dropoff_zone\": \"Midtown South\", \"pickup_borough\": \"Manhattan\", \"dropoff_borough\": \"Manhattan\"}, {\"pickup\": \"2019-03-29T03:34:59\", \"dropoff\": \"2019-03-29T03:50:49\", \"passengers\": 1, \"distance\": 6.18, \"fare\": 19.5, \"tip\": 4.66, \"tolls\": 0.0, \"total\": 27.96, \"color\": \"yellow\", \"payment\": \"credit card\", \"pickup_zone\": \"Clinton East\", \"dropoff_zone\": \"Washington Heights South\", \"pickup_borough\": \"Manhattan\", \"dropoff_borough\": \"Manhattan\"}, {\"pickup\": \"2019-03-02T16:29:57\", \"dropoff\": \"2019-03-02T16:34:41\", \"passengers\": 1, \"distance\": 0.86, \"fare\": 5.5, \"tip\": 1.76, \"tolls\": 0.0, \"total\": 10.56, \"color\": \"yellow\", \"payment\": \"credit card\", \"pickup_zone\": \"Penn Station/Madison Sq West\", \"dropoff_zone\": \"Flatiron\", \"pickup_borough\": \"Manhattan\", \"dropoff_borough\": \"Manhattan\"}, {\"pickup\": \"2019-03-13T07:55:53\", \"dropoff\": \"2019-03-13T07:59:35\", \"passengers\": 1, \"distance\": 0.88, \"fare\": 5.0, \"tip\": 2.08, \"tolls\": 0.0, \"total\": 10.38, \"color\": \"yellow\", \"payment\": \"credit card\", \"pickup_zone\": \"Upper East Side South\", \"dropoff_zone\": \"Midtown East\", \"pickup_borough\": \"Manhattan\", \"dropoff_borough\": \"Manhattan\"}, {\"pickup\": \"2019-03-09T13:24:54\", \"dropoff\": \"2019-03-09T13:28:50\", \"passengers\": 1, \"distance\": 0.57, \"fare\": 4.5, \"tip\": 1.56, \"tolls\": 0.0, \"total\": 9.36, \"color\": \"yellow\", \"payment\": \"credit card\", \"pickup_zone\": \"Upper East Side South\", \"dropoff_zone\": \"Midtown East\", \"pickup_borough\": \"Manhattan\", \"dropoff_borough\": \"Manhattan\"}, {\"pickup\": \"2019-03-31T09:52:21\", \"dropoff\": \"2019-03-31T09:57:46\", \"passengers\": 6, \"distance\": 1.19, \"fare\": 6.0, \"tip\": 1.86, \"tolls\": 0.0, \"total\": 11.16, \"color\": \"yellow\", \"payment\": \"credit card\", \"pickup_zone\": \"Penn Station/Madison Sq West\", \"dropoff_zone\": \"Union Sq\", \"pickup_borough\": \"Manhattan\", \"dropoff_borough\": \"Manhattan\"}, {\"pickup\": \"2019-03-25T09:07:29\", \"dropoff\": \"2019-03-25T09:30:47\", \"passengers\": 1, \"distance\": 2.92, \"fare\": 16.0, \"tip\": 4.82, \"tolls\": 0.0, \"total\": 24.12, \"color\": \"yellow\", \"payment\": \"credit card\", \"pickup_zone\": \"Midtown Center\", \"dropoff_zone\": \"Hudson Sq\", \"pickup_borough\": \"Manhattan\", \"dropoff_borough\": \"Manhattan\"}, {\"pickup\": \"2019-03-08T16:26:52\", \"dropoff\": \"2019-03-08T16:32:17\", \"passengers\": 1, \"distance\": 0.6, \"fare\": 5.5, \"tip\": 2.45, \"tolls\": 0.0, \"total\": 12.25, \"color\": \"yellow\", \"payment\": \"credit card\", \"pickup_zone\": \"Midtown Center\", \"dropoff_zone\": \"Midtown South\", \"pickup_borough\": \"Manhattan\", \"dropoff_borough\": \"Manhattan\"}, {\"pickup\": \"2019-03-29T09:44:36\", \"dropoff\": \"2019-03-29T10:07:13\", \"passengers\": 1, \"distance\": 2.17, \"fare\": 14.5, \"tip\": 1.0, \"tolls\": 0.0, \"total\": 18.8, \"color\": \"yellow\", \"payment\": \"credit card\", \"pickup_zone\": \"Upper East Side South\", \"dropoff_zone\": \"Garment District\", \"pickup_borough\": \"Manhattan\", \"dropoff_borough\": \"Manhattan\"}, {\"pickup\": \"2019-03-31T12:48:27\", \"dropoff\": \"2019-03-31T12:58:46\", \"passengers\": 1, \"distance\": 1.56, \"fare\": 8.0, \"tip\": 1.7, \"tolls\": 0.0, \"total\": 13.0, \"color\": \"yellow\", \"payment\": \"credit card\", \"pickup_zone\": \"Upper East Side South\", \"dropoff_zone\": \"Murray Hill\", \"pickup_borough\": \"Manhattan\", \"dropoff_borough\": \"Manhattan\"}, {\"pickup\": \"2019-03-12T15:04:51\", \"dropoff\": \"2019-03-12T15:12:22\", \"passengers\": 1, \"distance\": 0.6, \"fare\": 6.0, \"tip\": 0.0, \"tolls\": 0.0, \"total\": 9.3, \"color\": \"yellow\", \"payment\": \"cash\", \"pickup_zone\": \"Upper East Side South\", \"dropoff_zone\": \"Midtown East\", \"pickup_borough\": \"Manhattan\", \"dropoff_borough\": \"Manhattan\"}, {\"pickup\": \"2019-03-05T22:01:02\", \"dropoff\": \"2019-03-05T22:22:52\", \"passengers\": 1, \"distance\": 4.36, \"fare\": 18.0, \"tip\": 4.36, \"tolls\": 0.0, \"total\": 26.16, \"color\": \"yellow\", \"payment\": \"credit card\", \"pickup_zone\": \"Penn Station/Madison Sq West\", \"dropoff_zone\": \"Long Island City/Hunters Point\", \"pickup_borough\": \"Manhattan\", \"dropoff_borough\": \"Queens\"}, {\"pickup\": \"2019-03-21T16:33:14\", \"dropoff\": \"2019-03-21T17:17:49\", \"passengers\": 1, \"distance\": 9.65, \"fare\": 33.0, \"tip\": 10.76, \"tolls\": 5.76, \"total\": 53.82, \"color\": \"yellow\", \"payment\": \"credit card\", \"pickup_zone\": \"Midtown Center\", \"dropoff_zone\": \"LaGuardia Airport\", \"pickup_borough\": \"Manhattan\", \"dropoff_borough\": \"Queens\"}, {\"pickup\": \"2019-03-05T08:17:41\", \"dropoff\": \"2019-03-05T08:29:39\", \"passengers\": 1, \"distance\": 0.91, \"fare\": 8.5, \"tip\": 2.36, \"tolls\": 0.0, \"total\": 14.16, \"color\": \"yellow\", \"payment\": \"credit card\", \"pickup_zone\": \"Penn Station/Madison Sq West\", \"dropoff_zone\": \"Kips Bay\", \"pickup_borough\": \"Manhattan\", \"dropoff_borough\": \"Manhattan\"}, {\"pickup\": \"2019-03-20T13:02:55\", \"dropoff\": \"2019-03-20T13:42:30\", \"passengers\": 1, \"distance\": 6.93, \"fare\": 29.5, \"tip\": 0.0, \"tolls\": 0.0, \"total\": 32.8, \"color\": \"yellow\", \"payment\": \"cash\", \"pickup_zone\": \"Penn Station/Madison Sq West\", \"dropoff_zone\": \"Williamsburg (South Side)\", \"pickup_borough\": \"Manhattan\", \"dropoff_borough\": \"Brooklyn\"}, {\"pickup\": \"2019-03-08T02:41:09\", \"dropoff\": \"2019-03-08T03:03:39\", \"passengers\": 1, \"distance\": 6.5, \"fare\": 21.5, \"tip\": 2.0, \"tolls\": 0.0, \"total\": 27.3, \"color\": \"yellow\", \"payment\": \"credit card\", \"pickup_zone\": \"Clinton East\", \"dropoff_zone\": \"Cobble Hill\", \"pickup_borough\": \"Manhattan\", \"dropoff_borough\": \"Brooklyn\"}, {\"pickup\": \"2019-03-02T18:20:08\", \"dropoff\": \"2019-03-02T18:44:15\", \"passengers\": 1, \"distance\": 6.0, \"fare\": 22.5, \"tip\": 0.0, \"tolls\": 0.0, \"total\": 25.8, \"color\": \"yellow\", \"payment\": \"cash\", \"pickup_zone\": \"Midtown Center\", \"dropoff_zone\": \"Financial District South\", \"pickup_borough\": \"Manhattan\", \"dropoff_borough\": \"Manhattan\"}, {\"pickup\": \"2019-03-28T14:07:41\", \"dropoff\": \"2019-03-28T14:23:58\", \"passengers\": 1, \"distance\": 2.39, \"fare\": 12.0, \"tip\": 0.0, \"tolls\": 0.0, \"total\": 15.3, \"color\": \"yellow\", \"payment\": \"cash\", \"pickup_zone\": \"Clinton East\", \"dropoff_zone\": \"West Village\", \"pickup_borough\": \"Manhattan\", \"dropoff_borough\": \"Manhattan\"}, {\"pickup\": \"2019-03-22T15:59:29\", \"dropoff\": \"2019-03-22T16:10:08\", \"passengers\": 1, \"distance\": 0.52, \"fare\": 8.0, \"tip\": 2.26, \"tolls\": 0.0, \"total\": 13.56, \"color\": \"yellow\", \"payment\": \"credit card\", \"pickup_zone\": \"Clinton East\", \"dropoff_zone\": \"Times Sq/Theatre District\", \"pickup_borough\": \"Manhattan\", \"dropoff_borough\": \"Manhattan\"}, {\"pickup\": \"2019-03-14T22:01:03\", \"dropoff\": \"2019-03-14T22:24:33\", \"passengers\": 2, \"distance\": 3.58, \"fare\": 17.0, \"tip\": 4.16, \"tolls\": 0.0, \"total\": 24.96, \"color\": \"yellow\", \"payment\": \"credit card\", \"pickup_zone\": \"Clinton East\", \"dropoff_zone\": \"Little Italy/NoLiTa\", \"pickup_borough\": \"Manhattan\", \"dropoff_borough\": \"Manhattan\"}, {\"pickup\": \"2019-03-11T18:51:46\", \"dropoff\": \"2019-03-11T18:57:50\", \"passengers\": 1, \"distance\": 0.9, \"fare\": 6.0, \"tip\": 2.55, \"tolls\": 0.0, \"total\": 12.85, \"color\": \"yellow\", \"payment\": \"credit card\", \"pickup_zone\": \"Midtown Center\", \"dropoff_zone\": \"Midtown East\", \"pickup_borough\": \"Manhattan\", \"dropoff_borough\": \"Manhattan\"}, {\"pickup\": \"2019-03-12T08:17:33\", \"dropoff\": \"2019-03-12T08:38:51\", \"passengers\": 1, \"distance\": 4.7, \"fare\": 18.5, \"tip\": 4.35, \"tolls\": 0.0, \"total\": 26.15, \"color\": \"yellow\", \"payment\": \"credit card\", \"pickup_zone\": \"Clinton East\", \"dropoff_zone\": \"Battery Park City\", \"pickup_borough\": \"Manhattan\", \"dropoff_borough\": \"Manhattan\"}, {\"pickup\": \"2019-03-15T21:39:33\", \"dropoff\": \"2019-03-15T21:57:41\", \"passengers\": 1, \"distance\": 1.47, \"fare\": 11.5, \"tip\": 1.0, \"tolls\": 0.0, \"total\": 16.3, \"color\": \"yellow\", \"payment\": \"credit card\", \"pickup_zone\": \"Midtown Center\", \"dropoff_zone\": \"Penn Station/Madison Sq West\", \"pickup_borough\": \"Manhattan\", \"dropoff_borough\": \"Manhattan\"}, {\"pickup\": \"2019-03-29T21:49:47\", \"dropoff\": \"2019-03-29T22:13:52\", \"passengers\": 2, \"distance\": 2.9, \"fare\": 16.5, \"tip\": 0.0, \"tolls\": 0.0, \"total\": 20.3, \"color\": \"yellow\", \"payment\": \"cash\", \"pickup_zone\": \"Penn Station/Madison Sq West\", \"dropoff_zone\": \"Lower East Side\", \"pickup_borough\": \"Manhattan\", \"dropoff_borough\": \"Manhattan\"}, {\"pickup\": \"2019-03-15T16:13:07\", \"dropoff\": \"2019-03-15T16:17:32\", \"passengers\": 1, \"distance\": 0.6, \"fare\": 5.0, \"tip\": 0.0, \"tolls\": 0.0, \"total\": 9.3, \"color\": \"yellow\", \"payment\": \"cash\", \"pickup_zone\": \"Upper East Side South\", \"dropoff_zone\": \"Upper East Side South\", \"pickup_borough\": \"Manhattan\", \"dropoff_borough\": \"Manhattan\"}, {\"pickup\": \"2019-03-02T17:36:56\", \"dropoff\": \"2019-03-02T17:46:32\", \"passengers\": 1, \"distance\": 1.7, \"fare\": 8.5, \"tip\": 1.0, \"tolls\": 0.0, \"total\": 12.8, \"color\": \"yellow\", \"payment\": \"credit card\", \"pickup_zone\": \"Clinton East\", \"dropoff_zone\": \"East Chelsea\", \"pickup_borough\": \"Manhattan\", \"dropoff_borough\": \"Manhattan\"}, {\"pickup\": \"2019-03-13T14:26:22\", \"dropoff\": \"2019-03-13T14:33:08\", \"passengers\": 1, \"distance\": 1.2, \"fare\": 6.5, \"tip\": 1.0, \"tolls\": 0.0, \"total\": 10.8, \"color\": \"yellow\", \"payment\": \"credit card\", \"pickup_zone\": \"Midtown Center\", \"dropoff_zone\": \"Union Sq\", \"pickup_borough\": \"Manhattan\", \"dropoff_borough\": \"Manhattan\"}, {\"pickup\": \"2019-03-17T12:10:05\", \"dropoff\": \"2019-03-17T12:15:28\", \"passengers\": 4, \"distance\": 1.3, \"fare\": 6.0, \"tip\": 1.0, \"tolls\": 0.0, \"total\": 10.3, \"color\": \"yellow\", \"payment\": \"credit card\", \"pickup_zone\": \"Upper East Side South\", \"dropoff_zone\": \"Yorkville West\", \"pickup_borough\": \"Manhattan\", \"dropoff_borough\": \"Manhattan\"}, {\"pickup\": \"2019-03-22T19:25:34\", \"dropoff\": \"2019-03-22T19:39:24\", \"passengers\": 1, \"distance\": 1.45, \"fare\": 9.5, \"tip\": 1.0, \"tolls\": 0.0, \"total\": 14.8, \"color\": \"yellow\", \"payment\": \"credit card\", \"pickup_zone\": \"Midtown Center\", \"dropoff_zone\": \"Penn Station/Madison Sq West\", \"pickup_borough\": \"Manhattan\", \"dropoff_borough\": \"Manhattan\"}, {\"pickup\": \"2019-03-14T07:19:23\", \"dropoff\": \"2019-03-14T07:27:28\", \"passengers\": 1, \"distance\": 1.8, \"fare\": 8.0, \"tip\": 2.25, \"tolls\": 0.0, \"total\": 13.55, \"color\": \"yellow\", \"payment\": \"credit card\", \"pickup_zone\": \"Penn Station/Madison Sq West\", \"dropoff_zone\": \"Greenwich Village South\", \"pickup_borough\": \"Manhattan\", \"dropoff_borough\": \"Manhattan\"}, {\"pickup\": \"2019-03-14T08:22:13\", \"dropoff\": \"2019-03-14T08:32:32\", \"passengers\": 1, \"distance\": 1.86, \"fare\": 9.5, \"tip\": 0.0, \"tolls\": 0.0, \"total\": 12.8, \"color\": \"yellow\", \"payment\": \"cash\", \"pickup_zone\": \"Upper East Side South\", \"dropoff_zone\": \"Upper West Side North\", \"pickup_borough\": \"Manhattan\", \"dropoff_borough\": \"Manhattan\"}, {\"pickup\": \"2019-03-04T06:47:08\", \"dropoff\": \"2019-03-04T06:49:48\", \"passengers\": 2, \"distance\": 0.82, \"fare\": 4.5, \"tip\": 1.56, \"tolls\": 0.0, \"total\": 9.36, \"color\": \"yellow\", \"payment\": \"credit card\", \"pickup_zone\": \"Upper East Side South\", \"dropoff_zone\": \"Midtown East\", \"pickup_borough\": \"Manhattan\", \"dropoff_borough\": \"Manhattan\"}, {\"pickup\": \"2019-03-06T14:20:54\", \"dropoff\": \"2019-03-06T14:26:36\", \"passengers\": 2, \"distance\": 1.23, \"fare\": 6.0, \"tip\": 1.86, \"tolls\": 0.0, \"total\": 11.16, \"color\": \"yellow\", \"payment\": \"credit card\", \"pickup_zone\": \"Upper East Side South\", \"dropoff_zone\": \"Upper West Side North\", \"pickup_borough\": \"Manhattan\", \"dropoff_borough\": \"Manhattan\"}, {\"pickup\": \"2019-03-28T11:30:22\", \"dropoff\": \"2019-03-28T11:40:46\", \"passengers\": 2, \"distance\": 0.85, \"fare\": 7.5, \"tip\": 2.16, \"tolls\": 0.0, \"total\": 12.96, \"color\": \"yellow\", \"payment\": \"credit card\", \"pickup_zone\": \"Midtown Center\", \"dropoff_zone\": \"Garment District\", \"pickup_borough\": \"Manhattan\", \"dropoff_borough\": \"Manhattan\"}, {\"pickup\": \"2019-03-19T18:22:18\", \"dropoff\": \"2019-03-19T18:37:55\", \"passengers\": 1, \"distance\": 1.9, \"fare\": 11.0, \"tip\": 1.5, \"tolls\": 0.0, \"total\": 16.8, \"color\": \"yellow\", \"payment\": \"credit card\", \"pickup_zone\": \"Penn Station/Madison Sq West\", \"dropoff_zone\": \"Lincoln Square East\", \"pickup_borough\": \"Manhattan\", \"dropoff_borough\": \"Manhattan\"}, {\"pickup\": \"2019-03-11T14:47:42\", \"dropoff\": \"2019-03-11T15:00:34\", \"passengers\": 1, \"distance\": 0.9, \"fare\": 9.0, \"tip\": 1.0, \"tolls\": 0.0, \"total\": 13.3, \"color\": \"yellow\", \"payment\": \"credit card\", \"pickup_zone\": \"Midtown Center\", \"dropoff_zone\": \"Penn Station/Madison Sq West\", \"pickup_borough\": \"Manhattan\", \"dropoff_borough\": \"Manhattan\"}, {\"pickup\": \"2019-03-16T17:54:48\", \"dropoff\": \"2019-03-16T18:30:32\", \"passengers\": 1, \"distance\": 6.34, \"fare\": 27.5, \"tip\": 6.0, \"tolls\": 0.0, \"total\": 36.8, \"color\": \"yellow\", \"payment\": \"credit card\", \"pickup_zone\": \"Penn Station/Madison Sq West\", \"dropoff_zone\": \"East Williamsburg\", \"pickup_borough\": \"Manhattan\", \"dropoff_borough\": \"Brooklyn\"}, {\"pickup\": \"2019-03-02T14:55:02\", \"dropoff\": \"2019-03-02T15:02:32\", \"passengers\": 1, \"distance\": 0.43, \"fare\": 6.0, \"tip\": 1.86, \"tolls\": 0.0, \"total\": 11.16, \"color\": \"yellow\", \"payment\": \"credit card\", \"pickup_zone\": \"Penn Station/Madison Sq West\", \"dropoff_zone\": \"Flatiron\", \"pickup_borough\": \"Manhattan\", \"dropoff_borough\": \"Manhattan\"}, {\"pickup\": \"2019-03-31T14:38:27\", \"dropoff\": \"2019-03-31T14:57:02\", \"passengers\": 1, \"distance\": 3.35, \"fare\": 14.0, \"tip\": 0.0, \"tolls\": 0.0, \"total\": 17.3, \"color\": \"yellow\", \"payment\": \"cash\", \"pickup_zone\": \"Penn Station/Madison Sq West\", \"dropoff_zone\": \"Financial District North\", \"pickup_borough\": \"Manhattan\", \"dropoff_borough\": \"Manhattan\"}, {\"pickup\": \"2019-03-06T14:49:20\", \"dropoff\": \"2019-03-06T15:00:14\", \"passengers\": 1, \"distance\": 1.15, \"fare\": 8.5, \"tip\": 2.36, \"tolls\": 0.0, \"total\": 14.16, \"color\": \"yellow\", \"payment\": \"credit card\", \"pickup_zone\": \"Upper East Side South\", \"dropoff_zone\": \"Midtown East\", \"pickup_borough\": \"Manhattan\", \"dropoff_borough\": \"Manhattan\"}, {\"pickup\": \"2019-03-12T22:10:39\", \"dropoff\": \"2019-03-12T22:19:06\", \"passengers\": 1, \"distance\": 1.33, \"fare\": 7.5, \"tip\": 2.26, \"tolls\": 0.0, \"total\": 13.56, \"color\": \"yellow\", \"payment\": \"credit card\", \"pickup_zone\": \"Clinton East\", \"dropoff_zone\": \"Penn Station/Madison Sq West\", \"pickup_borough\": \"Manhattan\", \"dropoff_borough\": \"Manhattan\"}, {\"pickup\": \"2019-03-14T19:27:03\", \"dropoff\": \"2019-03-14T19:30:46\", \"passengers\": 1, \"distance\": 1.0, \"fare\": 5.0, \"tip\": 1.85, \"tolls\": 0.0, \"total\": 11.15, \"color\": \"yellow\", \"payment\": \"credit card\", \"pickup_zone\": \"Upper East Side South\", \"dropoff_zone\": \"Upper East Side North\", \"pickup_borough\": \"Manhattan\", \"dropoff_borough\": \"Manhattan\"}, {\"pickup\": \"2019-03-06T22:02:51\", \"dropoff\": \"2019-03-06T22:12:40\", \"passengers\": 1, \"distance\": 1.6, \"fare\": 9.0, \"tip\": 2.55, \"tolls\": 0.0, \"total\": 15.35, \"color\": \"yellow\", \"payment\": \"credit card\", \"pickup_zone\": \"Clinton East\", \"dropoff_zone\": \"Upper West Side North\", \"pickup_borough\": \"Manhattan\", \"dropoff_borough\": \"Manhattan\"}, {\"pickup\": \"2019-03-31T11:04:13\", \"dropoff\": \"2019-03-31T11:29:35\", \"passengers\": 1, \"distance\": 10.97, \"fare\": 33.0, \"tip\": 10.52, \"tolls\": 5.76, \"total\": 52.58, \"color\": \"yellow\", \"payment\": \"credit card\", \"pickup_zone\": \"Upper East Side South\", \"dropoff_zone\": \"LaGuardia Airport\", \"pickup_borough\": \"Manhattan\", \"dropoff_borough\": \"Queens\"}, {\"pickup\": \"2019-03-15T14:09:58\", \"dropoff\": \"2019-03-15T14:28:28\", \"passengers\": 4, \"distance\": 2.57, \"fare\": 13.5, \"tip\": 0.0, \"tolls\": 0.0, \"total\": 16.8, \"color\": \"yellow\", \"payment\": \"cash\", \"pickup_zone\": \"Clinton East\", \"dropoff_zone\": \"Greenwich Village North\", \"pickup_borough\": \"Manhattan\", \"dropoff_borough\": \"Manhattan\"}, {\"pickup\": \"2019-03-26T22:36:11\", \"dropoff\": \"2019-03-26T22:53:38\", \"passengers\": 2, \"distance\": 4.4, \"fare\": 16.5, \"tip\": 4.06, \"tolls\": 0.0, \"total\": 24.36, \"color\": \"yellow\", \"payment\": \"credit card\", \"pickup_zone\": \"Midtown Center\", \"dropoff_zone\": \"East Village\", \"pickup_borough\": \"Manhattan\", \"dropoff_borough\": \"Manhattan\"}, {\"pickup\": \"2019-03-29T17:07:27\", \"dropoff\": \"2019-03-29T17:20:41\", \"passengers\": 2, \"distance\": 1.3, \"fare\": 9.5, \"tip\": 2.75, \"tolls\": 0.0, \"total\": 16.55, \"color\": \"yellow\", \"payment\": \"credit card\", \"pickup_zone\": \"Midtown Center\", \"dropoff_zone\": \"Clinton East\", \"pickup_borough\": \"Manhattan\", \"dropoff_borough\": \"Manhattan\"}, {\"pickup\": \"2019-03-14T00:09:17\", \"dropoff\": \"2019-03-14T00:09:21\", \"passengers\": 1, \"distance\": 0.03, \"fare\": 2.5, \"tip\": 0.0, \"tolls\": 0.0, \"total\": 3.8, \"color\": \"yellow\", \"payment\": \"cash\", \"pickup_zone\": \"Upper East Side South\", \"dropoff_zone\": null, \"pickup_borough\": \"Manhattan\", \"dropoff_borough\": null}, {\"pickup\": \"2019-03-11T06:46:52\", \"dropoff\": \"2019-03-11T06:56:23\", \"passengers\": 1, \"distance\": 1.5, \"fare\": 8.5, \"tip\": 2.35, \"tolls\": 0.0, \"total\": 14.15, \"color\": \"yellow\", \"payment\": \"credit card\", \"pickup_zone\": \"Clinton East\", \"dropoff_zone\": \"Murray Hill\", \"pickup_borough\": \"Manhattan\", \"dropoff_borough\": \"Manhattan\"}, {\"pickup\": \"2019-03-08T15:11:18\", \"dropoff\": \"2019-03-08T15:22:50\", \"passengers\": 1, \"distance\": 0.66, \"fare\": 7.5, \"tip\": 0.0, \"tolls\": 0.0, \"total\": 10.8, \"color\": \"yellow\", \"payment\": \"cash\", \"pickup_zone\": \"Penn Station/Madison Sq West\", \"dropoff_zone\": \"Garment District\", \"pickup_borough\": \"Manhattan\", \"dropoff_borough\": \"Manhattan\"}, {\"pickup\": \"2019-03-05T14:01:16\", \"dropoff\": \"2019-03-05T14:15:19\", \"passengers\": 1, \"distance\": 2.0, \"fare\": 10.5, \"tip\": 3.45, \"tolls\": 0.0, \"total\": 17.25, \"color\": \"yellow\", \"payment\": \"credit card\", \"pickup_zone\": \"Penn Station/Madison Sq West\", \"dropoff_zone\": \"Greenwich Village South\", \"pickup_borough\": \"Manhattan\", \"dropoff_borough\": \"Manhattan\"}, {\"pickup\": \"2019-03-27T10:58:53\", \"dropoff\": \"2019-03-27T11:17:26\", \"passengers\": 2, \"distance\": 1.9, \"fare\": 13.0, \"tip\": 0.0, \"tolls\": 0.0, \"total\": 16.3, \"color\": \"yellow\", \"payment\": \"cash\", \"pickup_zone\": \"Midtown Center\", \"dropoff_zone\": \"Upper East Side North\", \"pickup_borough\": \"Manhattan\", \"dropoff_borough\": \"Manhattan\"}, {\"pickup\": \"2019-03-14T13:27:37\", \"dropoff\": \"2019-03-14T13:32:26\", \"passengers\": 1, \"distance\": 0.74, \"fare\": 5.5, \"tip\": 1.76, \"tolls\": 0.0, \"total\": 10.56, \"color\": \"yellow\", \"payment\": \"credit card\", \"pickup_zone\": \"Upper East Side South\", \"dropoff_zone\": \"Upper East Side North\", \"pickup_borough\": \"Manhattan\", \"dropoff_borough\": \"Manhattan\"}, {\"pickup\": \"2019-03-31T12:38:17\", \"dropoff\": \"2019-03-31T12:47:31\", \"passengers\": 1, \"distance\": 1.32, \"fare\": 7.5, \"tip\": 2.16, \"tolls\": 0.0, \"total\": 12.96, \"color\": \"yellow\", \"payment\": \"credit card\", \"pickup_zone\": \"Midtown Center\", \"dropoff_zone\": \"Clinton East\", \"pickup_borough\": \"Manhattan\", \"dropoff_borough\": \"Manhattan\"}, {\"pickup\": \"2019-03-07T08:24:28\", \"dropoff\": \"2019-03-07T08:28:45\", \"passengers\": 1, \"distance\": 0.58, \"fare\": 5.0, \"tip\": 1.66, \"tolls\": 0.0, \"total\": 9.96, \"color\": \"yellow\", \"payment\": \"credit card\", \"pickup_zone\": \"Clinton East\", \"dropoff_zone\": \"Lincoln Square East\", \"pickup_borough\": \"Manhattan\", \"dropoff_borough\": \"Manhattan\"}, {\"pickup\": \"2019-03-06T10:01:53\", \"dropoff\": \"2019-03-06T10:27:29\", \"passengers\": 2, \"distance\": 2.15, \"fare\": 16.0, \"tip\": 3.86, \"tolls\": 0.0, \"total\": 23.16, \"color\": \"yellow\", \"payment\": \"credit card\", \"pickup_zone\": \"Upper East Side South\", \"dropoff_zone\": \"Clinton East\", \"pickup_borough\": \"Manhattan\", \"dropoff_borough\": \"Manhattan\"}, {\"pickup\": \"2019-03-20T20:56:41\", \"dropoff\": \"2019-03-20T21:16:57\", \"passengers\": 2, \"distance\": 3.26, \"fare\": 14.5, \"tip\": 3.66, \"tolls\": 0.0, \"total\": 21.96, \"color\": \"yellow\", \"payment\": \"credit card\", \"pickup_zone\": \"Clinton East\", \"dropoff_zone\": \"Stuy Town/Peter Cooper Village\", \"pickup_borough\": \"Manhattan\", \"dropoff_borough\": \"Manhattan\"}, {\"pickup\": \"2019-03-23T13:15:50\", \"dropoff\": \"2019-03-23T13:30:47\", \"passengers\": 6, \"distance\": 0.91, \"fare\": 10.5, \"tip\": 3.45, \"tolls\": 0.0, \"total\": 17.25, \"color\": \"yellow\", \"payment\": \"credit card\", \"pickup_zone\": \"Penn Station/Madison Sq West\", \"dropoff_zone\": \"East Chelsea\", \"pickup_borough\": \"Manhattan\", \"dropoff_borough\": \"Manhattan\"}, {\"pickup\": \"2019-03-09T17:14:24\", \"dropoff\": \"2019-03-09T17:23:42\", \"passengers\": 3, \"distance\": 1.6, \"fare\": 8.0, \"tip\": 0.0, \"tolls\": 0.0, \"total\": 11.3, \"color\": \"yellow\", \"payment\": \"cash\", \"pickup_zone\": \"Midtown Center\", \"dropoff_zone\": \"Upper East Side North\", \"pickup_borough\": \"Manhattan\", \"dropoff_borough\": \"Manhattan\"}, {\"pickup\": \"2019-03-16T20:36:10\", \"dropoff\": \"2019-03-16T21:16:11\", \"passengers\": 1, \"distance\": 3.2, \"fare\": 23.5, \"tip\": 5.45, \"tolls\": 0.0, \"total\": 32.75, \"color\": \"yellow\", \"payment\": \"credit card\", \"pickup_zone\": \"Clinton East\", \"dropoff_zone\": \"East Village\", \"pickup_borough\": \"Manhattan\", \"dropoff_borough\": \"Manhattan\"}, {\"pickup\": \"2019-03-23T15:08:14\", \"dropoff\": \"2019-03-23T15:35:29\", \"passengers\": 1, \"distance\": 3.3, \"fare\": 18.5, \"tip\": 4.35, \"tolls\": 0.0, \"total\": 26.15, \"color\": \"yellow\", \"payment\": \"credit card\", \"pickup_zone\": \"Penn Station/Madison Sq West\", \"dropoff_zone\": \"Lenox Hill West\", \"pickup_borough\": \"Manhattan\", \"dropoff_borough\": \"Manhattan\"}, {\"pickup\": \"2019-03-16T18:45:55\", \"dropoff\": \"2019-03-16T18:48:45\", \"passengers\": 1, \"distance\": 0.56, \"fare\": 4.0, \"tip\": 0.0, \"tolls\": 0.0, \"total\": 7.3, \"color\": \"yellow\", \"payment\": \"cash\", \"pickup_zone\": \"Penn Station/Madison Sq West\", \"dropoff_zone\": \"West Chelsea/Hudson Yards\", \"pickup_borough\": \"Manhattan\", \"dropoff_borough\": \"Manhattan\"}, {\"pickup\": \"2019-03-10T10:15:12\", \"dropoff\": \"2019-03-10T10:21:50\", \"passengers\": 2, \"distance\": 1.42, \"fare\": 7.0, \"tip\": 2.58, \"tolls\": 0.0, \"total\": 12.88, \"color\": \"yellow\", \"payment\": \"credit card\", \"pickup_zone\": \"Upper East Side South\", \"dropoff_zone\": \"Murray Hill\", \"pickup_borough\": \"Manhattan\", \"dropoff_borough\": \"Manhattan\"}, {\"pickup\": \"2019-03-12T15:29:13\", \"dropoff\": \"2019-03-12T15:41:52\", \"passengers\": 1, \"distance\": 1.1, \"fare\": 9.0, \"tip\": 3.65, \"tolls\": 0.0, \"total\": 15.95, \"color\": \"yellow\", \"payment\": \"credit card\", \"pickup_zone\": \"Clinton East\", \"dropoff_zone\": \"Midtown Center\", \"pickup_borough\": \"Manhattan\", \"dropoff_borough\": \"Manhattan\"}, {\"pickup\": \"2019-03-29T21:34:45\", \"dropoff\": \"2019-03-29T21:38:40\", \"passengers\": 1, \"distance\": 0.5, \"fare\": 4.5, \"tip\": 1.0, \"tolls\": 0.0, \"total\": 9.3, \"color\": \"yellow\", \"payment\": \"credit card\", \"pickup_zone\": \"Penn Station/Madison Sq West\", \"dropoff_zone\": \"Midtown South\", \"pickup_borough\": \"Manhattan\", \"dropoff_borough\": \"Manhattan\"}, {\"pickup\": \"2019-03-08T11:21:57\", \"dropoff\": \"2019-03-08T11:47:46\", \"passengers\": 1, \"distance\": 2.27, \"fare\": 16.5, \"tip\": 3.96, \"tolls\": 0.0, \"total\": 23.76, \"color\": \"yellow\", \"payment\": \"credit card\", \"pickup_zone\": \"Midtown Center\", \"dropoff_zone\": \"Greenwich Village North\", \"pickup_borough\": \"Manhattan\", \"dropoff_borough\": \"Manhattan\"}, {\"pickup\": \"2019-03-15T09:29:42\", \"dropoff\": \"2019-03-15T09:34:42\", \"passengers\": 1, \"distance\": 0.5, \"fare\": 5.0, \"tip\": 1.65, \"tolls\": 0.0, \"total\": 9.95, \"color\": \"yellow\", \"payment\": \"credit card\", \"pickup_zone\": \"Midtown Center\", \"dropoff_zone\": \"Murray Hill\", \"pickup_borough\": \"Manhattan\", \"dropoff_borough\": \"Manhattan\"}, {\"pickup\": \"2019-03-19T06:28:39\", \"dropoff\": \"2019-03-19T06:36:28\", \"passengers\": 3, \"distance\": 1.1, \"fare\": 7.0, \"tip\": 1.03, \"tolls\": 0.0, \"total\": 11.33, \"color\": \"yellow\", \"payment\": \"credit card\", \"pickup_zone\": \"Clinton East\", \"dropoff_zone\": \"Midtown Center\", \"pickup_borough\": \"Manhattan\", \"dropoff_borough\": \"Manhattan\"}, {\"pickup\": \"2019-03-17T12:51:07\", \"dropoff\": \"2019-03-17T13:09:27\", \"passengers\": 1, \"distance\": 3.34, \"fare\": 14.5, \"tip\": 0.0, \"tolls\": 0.0, \"total\": 17.8, \"color\": \"yellow\", \"payment\": \"cash\", \"pickup_zone\": \"Midtown Center\", \"dropoff_zone\": \"Lower East Side\", \"pickup_borough\": \"Manhattan\", \"dropoff_borough\": \"Manhattan\"}, {\"pickup\": \"2019-03-02T19:17:49\", \"dropoff\": \"2019-03-02T19:30:05\", \"passengers\": 2, \"distance\": 1.62, \"fare\": 9.0, \"tip\": 2.46, \"tolls\": 0.0, \"total\": 14.76, \"color\": \"yellow\", \"payment\": \"credit card\", \"pickup_zone\": \"Midtown Center\", \"dropoff_zone\": \"Union Sq\", \"pickup_borough\": \"Manhattan\", \"dropoff_borough\": \"Manhattan\"}, {\"pickup\": \"2019-03-13T10:47:48\", \"dropoff\": \"2019-03-13T10:59:51\", \"passengers\": 1, \"distance\": 0.9, \"fare\": 8.5, \"tip\": 1.77, \"tolls\": 0.0, \"total\": 13.57, \"color\": \"yellow\", \"payment\": \"credit card\", \"pickup_zone\": \"Midtown Center\", \"dropoff_zone\": \"Penn Station/Madison Sq West\", \"pickup_borough\": \"Manhattan\", \"dropoff_borough\": \"Manhattan\"}, {\"pickup\": \"2019-03-20T10:03:57\", \"dropoff\": \"2019-03-20T10:06:02\", \"passengers\": 2, \"distance\": 0.4, \"fare\": 3.5, \"tip\": 2.0, \"tolls\": 0.0, \"total\": 8.8, \"color\": \"yellow\", \"payment\": \"credit card\", \"pickup_zone\": \"Upper East Side South\", \"dropoff_zone\": \"Upper East Side South\", \"pickup_borough\": \"Manhattan\", \"dropoff_borough\": \"Manhattan\"}, {\"pickup\": \"2019-03-29T18:12:14\", \"dropoff\": \"2019-03-29T18:22:04\", \"passengers\": 2, \"distance\": 1.42, \"fare\": 8.0, \"tip\": 2.46, \"tolls\": 0.0, \"total\": 14.76, \"color\": \"yellow\", \"payment\": \"credit card\", \"pickup_zone\": \"Midtown Center\", \"dropoff_zone\": \"Upper East Side South\", \"pickup_borough\": \"Manhattan\", \"dropoff_borough\": \"Manhattan\"}, {\"pickup\": \"2019-03-26T18:44:26\", \"dropoff\": \"2019-03-26T18:49:25\", \"passengers\": 1, \"distance\": 0.62, \"fare\": 5.0, \"tip\": 2.32, \"tolls\": 0.0, \"total\": 11.62, \"color\": \"yellow\", \"payment\": \"credit card\", \"pickup_zone\": \"Upper East Side South\", \"dropoff_zone\": \"Lenox Hill East\", \"pickup_borough\": \"Manhattan\", \"dropoff_borough\": \"Manhattan\"}, {\"pickup\": \"2019-03-16T22:58:35\", \"dropoff\": \"2019-03-16T23:03:58\", \"passengers\": 1, \"distance\": 1.28, \"fare\": 6.0, \"tip\": 0.0, \"tolls\": 0.0, \"total\": 9.8, \"color\": \"yellow\", \"payment\": \"cash\", \"pickup_zone\": \"Upper East Side South\", \"dropoff_zone\": \"Midtown East\", \"pickup_borough\": \"Manhattan\", \"dropoff_borough\": \"Manhattan\"}, {\"pickup\": \"2019-03-21T18:07:55\", \"dropoff\": \"2019-03-21T18:32:47\", \"passengers\": 1, \"distance\": 3.44, \"fare\": 17.5, \"tip\": 0.0, \"tolls\": 0.0, \"total\": 21.8, \"color\": \"yellow\", \"payment\": \"cash\", \"pickup_zone\": \"Midtown Center\", \"dropoff_zone\": \"Upper West Side North\", \"pickup_borough\": \"Manhattan\", \"dropoff_borough\": \"Manhattan\"}, {\"pickup\": \"2019-03-18T06:22:16\", \"dropoff\": \"2019-03-18T06:28:51\", \"passengers\": 5, \"distance\": 1.52, \"fare\": 7.0, \"tip\": 2.06, \"tolls\": 0.0, \"total\": 12.36, \"color\": \"yellow\", \"payment\": \"credit card\", \"pickup_zone\": \"Clinton East\", \"dropoff_zone\": \"Penn Station/Madison Sq West\", \"pickup_borough\": \"Manhattan\", \"dropoff_borough\": \"Manhattan\"}, {\"pickup\": \"2019-03-15T00:17:16\", \"dropoff\": \"2019-03-15T00:19:55\", \"passengers\": 2, \"distance\": 0.59, \"fare\": 4.0, \"tip\": 0.0, \"tolls\": 0.0, \"total\": 7.8, \"color\": \"yellow\", \"payment\": \"cash\", \"pickup_zone\": \"Midtown Center\", \"dropoff_zone\": \"Midtown North\", \"pickup_borough\": \"Manhattan\", \"dropoff_borough\": \"Manhattan\"}, {\"pickup\": \"2019-03-08T07:26:53\", \"dropoff\": \"2019-03-08T07:36:20\", \"passengers\": 1, \"distance\": 0.6, \"fare\": 7.0, \"tip\": 0.0, \"tolls\": 0.0, \"total\": 10.3, \"color\": \"yellow\", \"payment\": \"cash\", \"pickup_zone\": \"Penn Station/Madison Sq West\", \"dropoff_zone\": \"Union Sq\", \"pickup_borough\": \"Manhattan\", \"dropoff_borough\": \"Manhattan\"}, {\"pickup\": \"2019-03-23T11:26:58\", \"dropoff\": \"2019-03-23T11:35:17\", \"passengers\": 2, \"distance\": 1.3, \"fare\": 7.5, \"tip\": 0.0, \"tolls\": 0.0, \"total\": 10.8, \"color\": \"yellow\", \"payment\": null, \"pickup_zone\": \"Upper East Side South\", \"dropoff_zone\": \"Lincoln Square West\", \"pickup_borough\": \"Manhattan\", \"dropoff_borough\": \"Manhattan\"}, {\"pickup\": \"2019-03-16T14:43:14\", \"dropoff\": \"2019-03-16T14:45:29\", \"passengers\": 1, \"distance\": 0.6, \"fare\": 4.0, \"tip\": 0.0, \"tolls\": 0.0, \"total\": 7.3, \"color\": \"yellow\", \"payment\": \"cash\", \"pickup_zone\": \"Upper East Side South\", \"dropoff_zone\": \"Upper East Side North\", \"pickup_borough\": \"Manhattan\", \"dropoff_borough\": \"Manhattan\"}, {\"pickup\": \"2019-03-21T15:47:42\", \"dropoff\": \"2019-03-21T16:13:10\", \"passengers\": 2, \"distance\": 5.5, \"fare\": 20.0, \"tip\": 4.65, \"tolls\": 0.0, \"total\": 27.95, \"color\": \"yellow\", \"payment\": \"credit card\", \"pickup_zone\": \"Upper East Side South\", \"dropoff_zone\": \"East Village\", \"pickup_borough\": \"Manhattan\", \"dropoff_borough\": \"Manhattan\"}, {\"pickup\": \"2019-03-28T16:50:32\", \"dropoff\": \"2019-03-28T17:02:14\", \"passengers\": 2, \"distance\": 1.1, \"fare\": 9.0, \"tip\": 1.33, \"tolls\": 0.0, \"total\": 14.63, \"color\": \"yellow\", \"payment\": \"credit card\", \"pickup_zone\": \"Upper East Side South\", \"dropoff_zone\": \"Times Sq/Theatre District\", \"pickup_borough\": \"Manhattan\", \"dropoff_borough\": \"Manhattan\"}, {\"pickup\": \"2019-03-05T10:01:27\", \"dropoff\": \"2019-03-05T10:16:57\", \"passengers\": 1, \"distance\": 2.4, \"fare\": 12.0, \"tip\": 3.05, \"tolls\": 0.0, \"total\": 18.35, \"color\": \"yellow\", \"payment\": \"credit card\", \"pickup_zone\": \"Penn Station/Madison Sq West\", \"dropoff_zone\": \"TriBeCa/Civic Center\", \"pickup_borough\": \"Manhattan\", \"dropoff_borough\": \"Manhattan\"}, {\"pickup\": \"2019-03-10T14:10:22\", \"dropoff\": \"2019-03-10T14:19:28\", \"passengers\": 1, \"distance\": 0.6, \"fare\": 7.0, \"tip\": 1.0, \"tolls\": 0.0, \"total\": 11.3, \"color\": \"yellow\", \"payment\": \"credit card\", \"pickup_zone\": \"Clinton East\", \"dropoff_zone\": \"Clinton West\", \"pickup_borough\": \"Manhattan\", \"dropoff_borough\": \"Manhattan\"}, {\"pickup\": \"2019-03-11T13:37:20\", \"dropoff\": \"2019-03-11T13:51:45\", \"passengers\": 5, \"distance\": 2.06, \"fare\": 11.0, \"tip\": 2.86, \"tolls\": 0.0, \"total\": 17.16, \"color\": \"yellow\", \"payment\": \"credit card\", \"pickup_zone\": \"Midtown Center\", \"dropoff_zone\": \"Greenwich Village North\", \"pickup_borough\": \"Manhattan\", \"dropoff_borough\": \"Manhattan\"}, {\"pickup\": \"2019-03-27T21:02:45\", \"dropoff\": \"2019-03-27T21:10:55\", \"passengers\": 1, \"distance\": 1.08, \"fare\": 7.5, \"tip\": 2.26, \"tolls\": 0.0, \"total\": 13.56, \"color\": \"yellow\", \"payment\": \"credit card\", \"pickup_zone\": \"Midtown Center\", \"dropoff_zone\": \"Lincoln Square East\", \"pickup_borough\": \"Manhattan\", \"dropoff_borough\": \"Manhattan\"}, {\"pickup\": \"2019-03-16T14:38:18\", \"dropoff\": \"2019-03-16T14:44:58\", \"passengers\": 2, \"distance\": 0.85, \"fare\": 6.0, \"tip\": 0.0, \"tolls\": 0.0, \"total\": 9.3, \"color\": \"yellow\", \"payment\": \"credit card\", \"pickup_zone\": \"Upper East Side South\", \"dropoff_zone\": \"Upper East Side South\", \"pickup_borough\": \"Manhattan\", \"dropoff_borough\": \"Manhattan\"}, {\"pickup\": \"2019-03-21T18:03:47\", \"dropoff\": \"2019-03-21T18:30:47\", \"passengers\": 5, \"distance\": 4.99, \"fare\": 20.5, \"tip\": 4.96, \"tolls\": 0.0, \"total\": 29.76, \"color\": \"yellow\", \"payment\": \"credit card\", \"pickup_zone\": \"Midtown Center\", \"dropoff_zone\": \"Central Harlem North\", \"pickup_borough\": \"Manhattan\", \"dropoff_borough\": \"Manhattan\"}, {\"pickup\": \"2019-03-09T20:48:43\", \"dropoff\": \"2019-03-09T20:55:09\", \"passengers\": 1, \"distance\": 0.87, \"fare\": 6.0, \"tip\": 1.0, \"tolls\": 0.0, \"total\": 10.8, \"color\": \"yellow\", \"payment\": \"credit card\", \"pickup_zone\": \"Upper East Side South\", \"dropoff_zone\": \"Lincoln Square East\", \"pickup_borough\": \"Manhattan\", \"dropoff_borough\": \"Manhattan\"}, {\"pickup\": \"2019-03-18T21:52:51\", \"dropoff\": \"2019-03-18T22:23:12\", \"passengers\": 3, \"distance\": 8.7, \"fare\": 28.5, \"tip\": 6.2, \"tolls\": 0.0, \"total\": 38.5, \"color\": \"yellow\", \"payment\": \"credit card\", \"pickup_zone\": \"Midtown Center\", \"dropoff_zone\": \"Clinton Hill\", \"pickup_borough\": \"Manhattan\", \"dropoff_borough\": \"Brooklyn\"}, {\"pickup\": \"2019-03-01T13:17:12\", \"dropoff\": \"2019-03-01T13:25:18\", \"passengers\": 1, \"distance\": 0.8, \"fare\": 6.5, \"tip\": 1.95, \"tolls\": 0.0, \"total\": 11.75, \"color\": \"yellow\", \"payment\": \"credit card\", \"pickup_zone\": \"Midtown Center\", \"dropoff_zone\": \"UN/Turtle Bay South\", \"pickup_borough\": \"Manhattan\", \"dropoff_borough\": \"Manhattan\"}, {\"pickup\": \"2019-03-19T08:51:33\", \"dropoff\": \"2019-03-19T09:01:10\", \"passengers\": 1, \"distance\": 0.8, \"fare\": 7.5, \"tip\": 2.15, \"tolls\": 0.0, \"total\": 12.95, \"color\": \"yellow\", \"payment\": \"credit card\", \"pickup_zone\": \"Clinton East\", \"dropoff_zone\": \"Midtown Center\", \"pickup_borough\": \"Manhattan\", \"dropoff_borough\": \"Manhattan\"}, {\"pickup\": \"2019-03-27T22:24:45\", \"dropoff\": \"2019-03-27T22:40:25\", \"passengers\": 1, \"distance\": 5.15, \"fare\": 16.5, \"tip\": 4.06, \"tolls\": 0.0, \"total\": 24.36, \"color\": \"yellow\", \"payment\": \"credit card\", \"pickup_zone\": \"Midtown Center\", \"dropoff_zone\": \"Central Harlem North\", \"pickup_borough\": \"Manhattan\", \"dropoff_borough\": \"Manhattan\"}, {\"pickup\": \"2019-03-14T16:49:58\", \"dropoff\": \"2019-03-14T17:07:29\", \"passengers\": 1, \"distance\": 3.6, \"fare\": 14.5, \"tip\": 1.5, \"tolls\": 0.0, \"total\": 20.3, \"color\": \"yellow\", \"payment\": \"credit card\", \"pickup_zone\": \"Penn Station/Madison Sq West\", \"dropoff_zone\": \"Upper East Side North\", \"pickup_borough\": \"Manhattan\", \"dropoff_borough\": \"Manhattan\"}, {\"pickup\": \"2019-03-05T18:25:45\", \"dropoff\": \"2019-03-05T18:30:44\", \"passengers\": 1, \"distance\": 0.7, \"fare\": 5.0, \"tip\": 1.85, \"tolls\": 0.0, \"total\": 11.15, \"color\": \"yellow\", \"payment\": \"credit card\", \"pickup_zone\": \"Upper East Side South\", \"dropoff_zone\": \"Lenox Hill West\", \"pickup_borough\": \"Manhattan\", \"dropoff_borough\": \"Manhattan\"}, {\"pickup\": \"2019-03-14T19:07:34\", \"dropoff\": \"2019-03-14T19:27:16\", \"passengers\": 1, \"distance\": 1.24, \"fare\": 12.5, \"tip\": 3.36, \"tolls\": 0.0, \"total\": 20.16, \"color\": \"yellow\", \"payment\": \"credit card\", \"pickup_zone\": \"Midtown Center\", \"dropoff_zone\": \"Penn Station/Madison Sq West\", \"pickup_borough\": \"Manhattan\", \"dropoff_borough\": \"Manhattan\"}, {\"pickup\": \"2019-03-06T20:29:15\", \"dropoff\": \"2019-03-06T20:37:55\", \"passengers\": 1, \"distance\": 1.1, \"fare\": 7.0, \"tip\": 2.15, \"tolls\": 0.0, \"total\": 12.95, \"color\": \"yellow\", \"payment\": \"credit card\", \"pickup_zone\": \"Midtown Center\", \"dropoff_zone\": \"UN/Turtle Bay South\", \"pickup_borough\": \"Manhattan\", \"dropoff_borough\": \"Manhattan\"}, {\"pickup\": \"2019-03-21T21:25:59\", \"dropoff\": \"2019-03-21T21:53:28\", \"passengers\": 1, \"distance\": 6.9, \"fare\": 24.5, \"tip\": 0.0, \"tolls\": 0.0, \"total\": 28.3, \"color\": \"yellow\", \"payment\": \"cash\", \"pickup_zone\": \"Upper East Side South\", \"dropoff_zone\": \"Middle Village\", \"pickup_borough\": \"Manhattan\", \"dropoff_borough\": \"Queens\"}, {\"pickup\": \"2019-03-19T14:25:42\", \"dropoff\": \"2019-03-19T14:33:07\", \"passengers\": 1, \"distance\": 0.51, \"fare\": 6.0, \"tip\": 0.0, \"tolls\": 0.0, \"total\": 9.3, \"color\": \"yellow\", \"payment\": \"cash\", \"pickup_zone\": \"Upper East Side South\", \"dropoff_zone\": \"Lenox Hill West\", \"pickup_borough\": \"Manhattan\", \"dropoff_borough\": \"Manhattan\"}, {\"pickup\": \"2019-03-28T03:34:34\", \"dropoff\": \"2019-03-28T03:51:14\", \"passengers\": 2, \"distance\": 9.43, \"fare\": 27.5, \"tip\": 3.0, \"tolls\": 0.0, \"total\": 34.3, \"color\": \"yellow\", \"payment\": \"credit card\", \"pickup_zone\": \"Clinton East\", \"dropoff_zone\": \"Inwood\", \"pickup_borough\": \"Manhattan\", \"dropoff_borough\": \"Manhattan\"}, {\"pickup\": \"2019-03-31T19:35:04\", \"dropoff\": \"2019-03-31T19:51:08\", \"passengers\": 2, \"distance\": 2.33, \"fare\": 12.0, \"tip\": 3.06, \"tolls\": 0.0, \"total\": 18.36, \"color\": \"yellow\", \"payment\": \"credit card\", \"pickup_zone\": \"Penn Station/Madison Sq West\", \"dropoff_zone\": \"East Village\", \"pickup_borough\": \"Manhattan\", \"dropoff_borough\": \"Manhattan\"}, {\"pickup\": \"2019-03-08T20:08:54\", \"dropoff\": \"2019-03-08T20:21:56\", \"passengers\": 1, \"distance\": 2.2, \"fare\": 11.0, \"tip\": 0.0, \"tolls\": 0.0, \"total\": 14.8, \"color\": \"yellow\", \"payment\": \"cash\", \"pickup_zone\": \"Upper East Side South\", \"dropoff_zone\": \"Upper West Side North\", \"pickup_borough\": \"Manhattan\", \"dropoff_borough\": \"Manhattan\"}, {\"pickup\": \"2019-03-09T16:59:20\", \"dropoff\": \"2019-03-09T17:24:47\", \"passengers\": 2, \"distance\": 4.44, \"fare\": 19.0, \"tip\": 4.46, \"tolls\": 0.0, \"total\": 26.76, \"color\": \"yellow\", \"payment\": \"credit card\", \"pickup_zone\": \"Penn Station/Madison Sq West\", \"dropoff_zone\": \"Morningside Heights\", \"pickup_borough\": \"Manhattan\", \"dropoff_borough\": \"Manhattan\"}, {\"pickup\": \"2019-03-14T23:09:39\", \"dropoff\": \"2019-03-14T23:17:53\", \"passengers\": 2, \"distance\": 1.4, \"fare\": 8.0, \"tip\": 0.0, \"tolls\": 0.0, \"total\": 11.8, \"color\": \"yellow\", \"payment\": \"cash\", \"pickup_zone\": \"Upper East Side South\", \"dropoff_zone\": \"Midtown Center\", \"pickup_borough\": \"Manhattan\", \"dropoff_borough\": \"Manhattan\"}, {\"pickup\": \"2019-03-10T15:40:18\", \"dropoff\": \"2019-03-10T15:57:26\", \"passengers\": 0, \"distance\": 1.9, \"fare\": 12.0, \"tip\": 0.0, \"tolls\": 0.0, \"total\": 15.3, \"color\": \"yellow\", \"payment\": \"cash\", \"pickup_zone\": \"Penn Station/Madison Sq West\", \"dropoff_zone\": \"UN/Turtle Bay South\", \"pickup_borough\": \"Manhattan\", \"dropoff_borough\": \"Manhattan\"}, {\"pickup\": \"2019-03-08T23:00:17\", \"dropoff\": \"2019-03-08T23:24:29\", \"passengers\": 1, \"distance\": 3.22, \"fare\": 16.0, \"tip\": 3.96, \"tolls\": 0.0, \"total\": 23.76, \"color\": \"yellow\", \"payment\": \"credit card\", \"pickup_zone\": \"Midtown Center\", \"dropoff_zone\": \"SoHo\", \"pickup_borough\": \"Manhattan\", \"dropoff_borough\": \"Manhattan\"}, {\"pickup\": \"2019-03-10T15:23:24\", \"dropoff\": \"2019-03-10T15:27:15\", \"passengers\": 1, \"distance\": 1.17, \"fare\": 5.5, \"tip\": 1.0, \"tolls\": 0.0, \"total\": 9.8, \"color\": \"yellow\", \"payment\": \"credit card\", \"pickup_zone\": \"Upper East Side South\", \"dropoff_zone\": \"Central Park\", \"pickup_borough\": \"Manhattan\", \"dropoff_borough\": \"Manhattan\"}, {\"pickup\": \"2019-03-05T20:17:31\", \"dropoff\": \"2019-03-05T20:35:21\", \"passengers\": 1, \"distance\": 4.2, \"fare\": 16.0, \"tip\": 0.0, \"tolls\": 0.0, \"total\": 19.8, \"color\": \"yellow\", \"payment\": \"cash\", \"pickup_zone\": \"Penn Station/Madison Sq West\", \"dropoff_zone\": \"Battery Park City\", \"pickup_borough\": \"Manhattan\", \"dropoff_borough\": \"Manhattan\"}, {\"pickup\": \"2019-03-30T12:55:12\", \"dropoff\": \"2019-03-30T13:03:45\", \"passengers\": 1, \"distance\": 1.2, \"fare\": 7.5, \"tip\": 0.0, \"tolls\": 0.0, \"total\": 10.8, \"color\": \"yellow\", \"payment\": \"cash\", \"pickup_zone\": \"Clinton East\", \"dropoff_zone\": \"East Chelsea\", \"pickup_borough\": \"Manhattan\", \"dropoff_borough\": \"Manhattan\"}, {\"pickup\": \"2019-03-09T14:49:45\", \"dropoff\": \"2019-03-09T15:28:59\", \"passengers\": 1, \"distance\": 2.25, \"fare\": 21.5, \"tip\": 0.0, \"tolls\": 0.0, \"total\": 24.8, \"color\": \"yellow\", \"payment\": \"cash\", \"pickup_zone\": \"Penn Station/Madison Sq West\", \"dropoff_zone\": \"Union Sq\", \"pickup_borough\": \"Manhattan\", \"dropoff_borough\": \"Manhattan\"}, {\"pickup\": \"2019-03-09T22:34:01\", \"dropoff\": \"2019-03-09T22:43:02\", \"passengers\": 1, \"distance\": 1.79, \"fare\": 8.5, \"tip\": 0.0, \"tolls\": 0.0, \"total\": 12.3, \"color\": \"yellow\", \"payment\": \"cash\", \"pickup_zone\": \"Upper East Side South\", \"dropoff_zone\": \"Upper West Side North\", \"pickup_borough\": \"Manhattan\", \"dropoff_borough\": \"Manhattan\"}, {\"pickup\": \"2019-03-21T19:44:05\", \"dropoff\": \"2019-03-21T20:02:01\", \"passengers\": 1, \"distance\": 1.13, \"fare\": 11.5, \"tip\": 3.16, \"tolls\": 0.0, \"total\": 18.96, \"color\": \"yellow\", \"payment\": \"credit card\", \"pickup_zone\": \"Penn Station/Madison Sq West\", \"dropoff_zone\": \"Gramercy\", \"pickup_borough\": \"Manhattan\", \"dropoff_borough\": \"Manhattan\"}, {\"pickup\": \"2019-03-25T16:59:11\", \"dropoff\": \"2019-03-25T17:10:21\", \"passengers\": 1, \"distance\": 2.0, \"fare\": 10.0, \"tip\": 2.85, \"tolls\": 0.0, \"total\": 17.15, \"color\": \"yellow\", \"payment\": \"credit card\", \"pickup_zone\": \"Upper East Side South\", \"dropoff_zone\": \"Upper West Side South\", \"pickup_borough\": \"Manhattan\", \"dropoff_borough\": \"Manhattan\"}, {\"pickup\": \"2019-03-18T16:18:58\", \"dropoff\": \"2019-03-18T16:26:04\", \"passengers\": 1, \"distance\": 0.8, \"fare\": 6.0, \"tip\": 0.0, \"tolls\": 0.0, \"total\": 10.3, \"color\": \"yellow\", \"payment\": \"cash\", \"pickup_zone\": \"Midtown Center\", \"dropoff_zone\": \"Midtown East\", \"pickup_borough\": \"Manhattan\", \"dropoff_borough\": \"Manhattan\"}, {\"pickup\": \"2019-03-05T13:26:57\", \"dropoff\": \"2019-03-05T13:34:13\", \"passengers\": 1, \"distance\": 1.0, \"fare\": 6.5, \"tip\": 1.0, \"tolls\": 0.0, \"total\": 10.8, \"color\": \"yellow\", \"payment\": \"credit card\", \"pickup_zone\": \"Upper East Side South\", \"dropoff_zone\": \"Lenox Hill West\", \"pickup_borough\": \"Manhattan\", \"dropoff_borough\": \"Manhattan\"}, {\"pickup\": \"2019-03-18T15:13:20\", \"dropoff\": \"2019-03-18T15:18:16\", \"passengers\": 1, \"distance\": 0.8, \"fare\": 5.5, \"tip\": 0.0, \"tolls\": 0.0, \"total\": 8.8, \"color\": \"yellow\", \"payment\": \"cash\", \"pickup_zone\": \"Upper East Side South\", \"dropoff_zone\": \"Upper East Side North\", \"pickup_borough\": \"Manhattan\", \"dropoff_borough\": \"Manhattan\"}, {\"pickup\": \"2019-03-27T21:30:02\", \"dropoff\": \"2019-03-27T21:34:02\", \"passengers\": 1, \"distance\": 0.7, \"fare\": 5.0, \"tip\": 0.0, \"tolls\": 0.0, \"total\": 8.8, \"color\": \"yellow\", \"payment\": \"cash\", \"pickup_zone\": \"Upper East Side South\", \"dropoff_zone\": \"Lenox Hill West\", \"pickup_borough\": \"Manhattan\", \"dropoff_borough\": \"Manhattan\"}, {\"pickup\": \"2019-03-24T14:16:54\", \"dropoff\": \"2019-03-24T14:23:09\", \"passengers\": 1, \"distance\": 0.7, \"fare\": 5.5, \"tip\": 0.0, \"tolls\": 0.0, \"total\": 8.8, \"color\": \"yellow\", \"payment\": \"cash\", \"pickup_zone\": \"Clinton East\", \"dropoff_zone\": \"Penn Station/Madison Sq West\", \"pickup_borough\": \"Manhattan\", \"dropoff_borough\": \"Manhattan\"}, {\"pickup\": \"2019-03-08T11:05:04\", \"dropoff\": \"2019-03-08T11:14:23\", \"passengers\": 1, \"distance\": 1.1, \"fare\": 7.5, \"tip\": 2.16, \"tolls\": 0.0, \"total\": 12.96, \"color\": \"yellow\", \"payment\": \"credit card\", \"pickup_zone\": \"Penn Station/Madison Sq West\", \"dropoff_zone\": \"Union Sq\", \"pickup_borough\": \"Manhattan\", \"dropoff_borough\": \"Manhattan\"}, {\"pickup\": \"2019-03-09T18:43:41\", \"dropoff\": \"2019-03-09T18:51:34\", \"passengers\": 2, \"distance\": 0.9, \"fare\": 6.5, \"tip\": 0.0, \"tolls\": 0.0, \"total\": 9.8, \"color\": \"yellow\", \"payment\": \"cash\", \"pickup_zone\": \"Clinton East\", \"dropoff_zone\": \"Midtown East\", \"pickup_borough\": \"Manhattan\", \"dropoff_borough\": \"Manhattan\"}, {\"pickup\": \"2019-03-06T09:29:10\", \"dropoff\": \"2019-03-06T09:40:22\", \"passengers\": 1, \"distance\": 1.09, \"fare\": 8.5, \"tip\": 2.36, \"tolls\": 0.0, \"total\": 14.16, \"color\": \"yellow\", \"payment\": \"credit card\", \"pickup_zone\": \"Upper East Side South\", \"dropoff_zone\": \"Midtown North\", \"pickup_borough\": \"Manhattan\", \"dropoff_borough\": \"Manhattan\"}, {\"pickup\": \"2019-03-27T13:52:07\", \"dropoff\": \"2019-03-27T14:05:35\", \"passengers\": 2, \"distance\": 2.23, \"fare\": 11.0, \"tip\": 2.86, \"tolls\": 0.0, \"total\": 17.16, \"color\": \"yellow\", \"payment\": \"credit card\", \"pickup_zone\": \"Upper East Side South\", \"dropoff_zone\": \"Upper West Side North\", \"pickup_borough\": \"Manhattan\", \"dropoff_borough\": \"Manhattan\"}, {\"pickup\": \"2019-03-04T08:43:29\", \"dropoff\": \"2019-03-04T08:56:04\", \"passengers\": 1, \"distance\": 1.56, \"fare\": 9.5, \"tip\": 0.0, \"tolls\": 0.0, \"total\": 12.8, \"color\": \"yellow\", \"payment\": \"cash\", \"pickup_zone\": \"Penn Station/Madison Sq West\", \"dropoff_zone\": \"Midtown Center\", \"pickup_borough\": \"Manhattan\", \"dropoff_borough\": \"Manhattan\"}, {\"pickup\": \"2019-03-24T13:40:10\", \"dropoff\": \"2019-03-24T13:47:25\", \"passengers\": 2, \"distance\": 1.1, \"fare\": 6.5, \"tip\": 1.0, \"tolls\": 0.0, \"total\": 10.8, \"color\": \"yellow\", \"payment\": \"credit card\", \"pickup_zone\": \"Clinton East\", \"dropoff_zone\": \"Clinton West\", \"pickup_borough\": \"Manhattan\", \"dropoff_borough\": \"Manhattan\"}, {\"pickup\": \"2019-03-10T23:00:03\", \"dropoff\": \"2019-03-10T23:13:05\", \"passengers\": 1, \"distance\": 3.23, \"fare\": 12.0, \"tip\": 3.95, \"tolls\": 0.0, \"total\": 19.75, \"color\": \"yellow\", \"payment\": \"credit card\", \"pickup_zone\": \"Clinton East\", \"dropoff_zone\": \"Yorkville West\", \"pickup_borough\": \"Manhattan\", \"dropoff_borough\": \"Manhattan\"}, {\"pickup\": \"2019-03-01T18:18:50\", \"dropoff\": \"2019-03-01T18:25:55\", \"passengers\": 2, \"distance\": 0.64, \"fare\": 6.0, \"tip\": 2.06, \"tolls\": 0.0, \"total\": 12.36, \"color\": \"yellow\", \"payment\": \"credit card\", \"pickup_zone\": \"Midtown Center\", \"dropoff_zone\": \"UN/Turtle Bay South\", \"pickup_borough\": \"Manhattan\", \"dropoff_borough\": \"Manhattan\"}, {\"pickup\": \"2019-03-08T18:56:25\", \"dropoff\": \"2019-03-08T19:01:58\", \"passengers\": 1, \"distance\": 0.53, \"fare\": 5.0, \"tip\": 0.0, \"tolls\": 0.0, \"total\": 9.3, \"color\": \"yellow\", \"payment\": \"cash\", \"pickup_zone\": \"Penn Station/Madison Sq West\", \"dropoff_zone\": \"Midtown South\", \"pickup_borough\": \"Manhattan\", \"dropoff_borough\": \"Manhattan\"}, {\"pickup\": \"2019-03-11T20:50:28\", \"dropoff\": \"2019-03-11T20:58:53\", \"passengers\": 3, \"distance\": 1.99, \"fare\": 8.5, \"tip\": 0.0, \"tolls\": 0.0, \"total\": 12.3, \"color\": \"yellow\", \"payment\": \"cash\", \"pickup_zone\": \"Midtown Center\", \"dropoff_zone\": \"Upper East Side North\", \"pickup_borough\": \"Manhattan\", \"dropoff_borough\": \"Manhattan\"}, {\"pickup\": \"2019-03-05T17:20:51\", \"dropoff\": \"2019-03-05T17:29:04\", \"passengers\": 1, \"distance\": 1.6, \"fare\": 8.0, \"tip\": 2.45, \"tolls\": 0.0, \"total\": 14.75, \"color\": \"yellow\", \"payment\": \"credit card\", \"pickup_zone\": \"Clinton East\", \"dropoff_zone\": \"Upper West Side South\", \"pickup_borough\": \"Manhattan\", \"dropoff_borough\": \"Manhattan\"}, {\"pickup\": \"2019-03-20T23:16:28\", \"dropoff\": \"2019-03-20T23:22:24\", \"passengers\": 1, \"distance\": 0.98, \"fare\": 6.0, \"tip\": 0.0, \"tolls\": 0.0, \"total\": 9.8, \"color\": \"yellow\", \"payment\": \"cash\", \"pickup_zone\": \"Upper East Side South\", \"dropoff_zone\": \"Sutton Place/Turtle Bay North\", \"pickup_borough\": \"Manhattan\", \"dropoff_borough\": \"Manhattan\"}, {\"pickup\": \"2019-03-18T06:45:35\", \"dropoff\": \"2019-03-18T06:48:51\", \"passengers\": 1, \"distance\": 0.45, \"fare\": 4.0, \"tip\": 1.46, \"tolls\": 0.0, \"total\": 8.76, \"color\": \"yellow\", \"payment\": \"credit card\", \"pickup_zone\": \"Clinton East\", \"dropoff_zone\": \"Times Sq/Theatre District\", \"pickup_borough\": \"Manhattan\", \"dropoff_borough\": \"Manhattan\"}, {\"pickup\": \"2019-03-22T09:29:40\", \"dropoff\": \"2019-03-22T09:35:42\", \"passengers\": 2, \"distance\": 0.59, \"fare\": 5.5, \"tip\": 0.0, \"tolls\": 0.0, \"total\": 8.8, \"color\": \"yellow\", \"payment\": \"credit card\", \"pickup_zone\": \"Midtown Center\", \"dropoff_zone\": \"Murray Hill\", \"pickup_borough\": \"Manhattan\", \"dropoff_borough\": \"Manhattan\"}, {\"pickup\": \"2019-03-23T14:20:01\", \"dropoff\": \"2019-03-23T14:34:18\", \"passengers\": 3, \"distance\": 1.6, \"fare\": 11.0, \"tip\": 0.0, \"tolls\": 0.0, \"total\": 14.3, \"color\": \"yellow\", \"payment\": \"cash\", \"pickup_zone\": \"Penn Station/Madison Sq West\", \"dropoff_zone\": \"Times Sq/Theatre District\", \"pickup_borough\": \"Manhattan\", \"dropoff_borough\": \"Manhattan\"}, {\"pickup\": \"2019-03-21T18:43:22\", \"dropoff\": \"2019-03-21T19:45:04\", \"passengers\": 1, \"distance\": 16.8, \"fare\": 52.0, \"tip\": 13.1, \"tolls\": 5.76, \"total\": 78.66, \"color\": \"yellow\", \"payment\": \"credit card\", \"pickup_zone\": \"Midtown Center\", \"dropoff_zone\": \"JFK Airport\", \"pickup_borough\": \"Manhattan\", \"dropoff_borough\": \"Queens\"}, {\"pickup\": \"2019-03-20T06:15:01\", \"dropoff\": \"2019-03-20T06:25:30\", \"passengers\": 1, \"distance\": 2.75, \"fare\": 10.5, \"tip\": 2.0, \"tolls\": 0.0, \"total\": 15.8, \"color\": \"yellow\", \"payment\": \"credit card\", \"pickup_zone\": \"Clinton East\", \"dropoff_zone\": \"Upper East Side North\", \"pickup_borough\": \"Manhattan\", \"dropoff_borough\": \"Manhattan\"}, {\"pickup\": \"2019-03-22T18:23:05\", \"dropoff\": \"2019-03-22T18:32:04\", \"passengers\": 1, \"distance\": 1.6, \"fare\": 8.0, \"tip\": 2.0, \"tolls\": 0.0, \"total\": 14.3, \"color\": \"yellow\", \"payment\": \"credit card\", \"pickup_zone\": \"Midtown Center\", \"dropoff_zone\": \"Lincoln Square East\", \"pickup_borough\": \"Manhattan\", \"dropoff_borough\": \"Manhattan\"}, {\"pickup\": \"2019-03-05T21:01:07\", \"dropoff\": \"2019-03-05T21:15:43\", \"passengers\": 1, \"distance\": 2.68, \"fare\": 11.5, \"tip\": 1.53, \"tolls\": 0.0, \"total\": 16.83, \"color\": \"yellow\", \"payment\": \"credit card\", \"pickup_zone\": \"Midtown Center\", \"dropoff_zone\": \"East Village\", \"pickup_borough\": \"Manhattan\", \"dropoff_borough\": \"Manhattan\"}, {\"pickup\": \"2019-03-31T16:29:10\", \"dropoff\": \"2019-03-31T16:48:01\", \"passengers\": 1, \"distance\": 4.6, \"fare\": 16.5, \"tip\": 3.95, \"tolls\": 0.0, \"total\": 23.75, \"color\": \"yellow\", \"payment\": \"credit card\", \"pickup_zone\": \"Midtown Center\", \"dropoff_zone\": \"Central Harlem\", \"pickup_borough\": \"Manhattan\", \"dropoff_borough\": \"Manhattan\"}, {\"pickup\": \"2019-03-27T08:32:50\", \"dropoff\": \"2019-03-27T09:07:19\", \"passengers\": 2, \"distance\": 4.4, \"fare\": 23.0, \"tip\": 0.0, \"tolls\": 0.0, \"total\": 26.3, \"color\": \"yellow\", \"payment\": \"cash\", \"pickup_zone\": \"Penn Station/Madison Sq West\", \"dropoff_zone\": \"East Harlem South\", \"pickup_borough\": \"Manhattan\", \"dropoff_borough\": \"Manhattan\"}, {\"pickup\": \"2019-03-13T10:07:59\", \"dropoff\": \"2019-03-13T10:12:13\", \"passengers\": 1, \"distance\": 0.6, \"fare\": 5.0, \"tip\": 0.0, \"tolls\": 0.0, \"total\": 8.3, \"color\": \"yellow\", \"payment\": \"cash\", \"pickup_zone\": \"Upper East Side South\", \"dropoff_zone\": \"Upper East Side North\", \"pickup_borough\": \"Manhattan\", \"dropoff_borough\": \"Manhattan\"}, {\"pickup\": \"2019-03-16T17:47:02\", \"dropoff\": \"2019-03-16T17:59:47\", \"passengers\": 2, \"distance\": 1.97, \"fare\": 10.5, \"tip\": 0.0, \"tolls\": 0.0, \"total\": 13.8, \"color\": \"yellow\", \"payment\": \"cash\", \"pickup_zone\": \"Upper East Side South\", \"dropoff_zone\": \"East Harlem South\", \"pickup_borough\": \"Manhattan\", \"dropoff_borough\": \"Manhattan\"}, {\"pickup\": \"2019-03-17T00:48:56\", \"dropoff\": \"2019-03-17T00:59:54\", \"passengers\": 1, \"distance\": 2.34, \"fare\": 10.0, \"tip\": 3.45, \"tolls\": 0.0, \"total\": 17.25, \"color\": \"yellow\", \"payment\": \"credit card\", \"pickup_zone\": \"Midtown Center\", \"dropoff_zone\": \"Greenwich Village North\", \"pickup_borough\": \"Manhattan\", \"dropoff_borough\": \"Manhattan\"}, {\"pickup\": \"2019-03-27T11:47:04\", \"dropoff\": \"2019-03-27T12:03:33\", \"passengers\": 1, \"distance\": 1.1, \"fare\": 11.0, \"tip\": 2.85, \"tolls\": 0.0, \"total\": 17.15, \"color\": \"yellow\", \"payment\": \"credit card\", \"pickup_zone\": \"Midtown Center\", \"dropoff_zone\": \"Clinton East\", \"pickup_borough\": \"Manhattan\", \"dropoff_borough\": \"Manhattan\"}, {\"pickup\": \"2019-03-06T12:56:04\", \"dropoff\": \"2019-03-06T12:58:15\", \"passengers\": 1, \"distance\": 0.42, \"fare\": 3.5, \"tip\": 0.0, \"tolls\": 0.0, \"total\": 6.8, \"color\": \"yellow\", \"payment\": \"credit card\", \"pickup_zone\": \"Midtown Center\", \"dropoff_zone\": \"Midtown South\", \"pickup_borough\": \"Manhattan\", \"dropoff_borough\": \"Manhattan\"}, {\"pickup\": \"2019-03-17T21:57:28\", \"dropoff\": \"2019-03-17T22:01:39\", \"passengers\": 1, \"distance\": 0.6, \"fare\": 5.0, \"tip\": 1.75, \"tolls\": 0.0, \"total\": 10.55, \"color\": \"yellow\", \"payment\": \"credit card\", \"pickup_zone\": \"Penn Station/Madison Sq West\", \"dropoff_zone\": \"East Chelsea\", \"pickup_borough\": \"Manhattan\", \"dropoff_borough\": \"Manhattan\"}, {\"pickup\": \"2019-03-19T10:34:15\", \"dropoff\": \"2019-03-19T10:45:48\", \"passengers\": 2, \"distance\": 1.3, \"fare\": 9.0, \"tip\": 3.05, \"tolls\": 0.0, \"total\": 15.35, \"color\": \"yellow\", \"payment\": \"credit card\", \"pickup_zone\": \"Clinton East\", \"dropoff_zone\": \"Lenox Hill West\", \"pickup_borough\": \"Manhattan\", \"dropoff_borough\": \"Manhattan\"}, {\"pickup\": \"2019-03-05T20:20:44\", \"dropoff\": \"2019-03-05T20:26:21\", \"passengers\": 5, \"distance\": 1.3, \"fare\": 6.5, \"tip\": 2.58, \"tolls\": 0.0, \"total\": 12.88, \"color\": \"yellow\", \"payment\": \"credit card\", \"pickup_zone\": \"Upper East Side South\", \"dropoff_zone\": \"Upper East Side North\", \"pickup_borough\": \"Manhattan\", \"dropoff_borough\": \"Manhattan\"}, {\"pickup\": \"2019-03-19T13:21:04\", \"dropoff\": \"2019-03-19T14:04:47\", \"passengers\": 1, \"distance\": 5.77, \"fare\": 29.5, \"tip\": 2.0, \"tolls\": 0.0, \"total\": 34.8, \"color\": \"yellow\", \"payment\": \"credit card\", \"pickup_zone\": \"Penn Station/Madison Sq West\", \"dropoff_zone\": \"Astoria\", \"pickup_borough\": \"Manhattan\", \"dropoff_borough\": \"Queens\"}, {\"pickup\": \"2019-03-09T14:26:25\", \"dropoff\": \"2019-03-09T14:38:56\", \"passengers\": 1, \"distance\": 1.14, \"fare\": 9.0, \"tip\": 2.46, \"tolls\": 0.0, \"total\": 14.76, \"color\": \"yellow\", \"payment\": \"credit card\", \"pickup_zone\": \"Midtown Center\", \"dropoff_zone\": \"East Chelsea\", \"pickup_borough\": \"Manhattan\", \"dropoff_borough\": \"Manhattan\"}, {\"pickup\": \"2019-03-08T03:04:58\", \"dropoff\": \"2019-03-08T03:13:59\", \"passengers\": 1, \"distance\": 2.8, \"fare\": 10.0, \"tip\": 2.75, \"tolls\": 0.0, \"total\": 16.55, \"color\": \"yellow\", \"payment\": \"credit card\", \"pickup_zone\": \"Midtown Center\", \"dropoff_zone\": \"Yorkville East\", \"pickup_borough\": \"Manhattan\", \"dropoff_borough\": \"Manhattan\"}, {\"pickup\": \"2019-03-06T20:03:40\", \"dropoff\": \"2019-03-06T20:13:16\", \"passengers\": 1, \"distance\": 1.27, \"fare\": 7.5, \"tip\": 2.26, \"tolls\": 0.0, \"total\": 13.56, \"color\": \"yellow\", \"payment\": \"credit card\", \"pickup_zone\": \"Midtown Center\", \"dropoff_zone\": \"Garment District\", \"pickup_borough\": \"Manhattan\", \"dropoff_borough\": \"Manhattan\"}, {\"pickup\": \"2019-03-12T05:50:18\", \"dropoff\": \"2019-03-12T05:55:23\", \"passengers\": 1, \"distance\": 0.5, \"fare\": 5.5, \"tip\": 0.0, \"tolls\": 0.0, \"total\": 9.3, \"color\": \"yellow\", \"payment\": \"cash\", \"pickup_zone\": \"Clinton East\", \"dropoff_zone\": \"Times Sq/Theatre District\", \"pickup_borough\": \"Manhattan\", \"dropoff_borough\": \"Manhattan\"}, {\"pickup\": \"2019-03-13T21:02:07\", \"dropoff\": \"2019-03-13T21:13:01\", \"passengers\": 1, \"distance\": 1.23, \"fare\": 8.5, \"tip\": 2.46, \"tolls\": 0.0, \"total\": 14.76, \"color\": \"yellow\", \"payment\": \"credit card\", \"pickup_zone\": \"Midtown Center\", \"dropoff_zone\": \"UN/Turtle Bay South\", \"pickup_borough\": \"Manhattan\", \"dropoff_borough\": \"Manhattan\"}, {\"pickup\": \"2019-03-27T16:06:54\", \"dropoff\": \"2019-03-27T16:16:59\", \"passengers\": 0, \"distance\": 0.8, \"fare\": 7.5, \"tip\": 1.77, \"tolls\": 0.0, \"total\": 13.57, \"color\": \"yellow\", \"payment\": \"credit card\", \"pickup_zone\": \"Upper East Side South\", \"dropoff_zone\": \"Lenox Hill West\", \"pickup_borough\": \"Manhattan\", \"dropoff_borough\": \"Manhattan\"}, {\"pickup\": \"2019-03-19T12:19:06\", \"dropoff\": \"2019-03-19T12:33:55\", \"passengers\": 4, \"distance\": 0.5, \"fare\": 9.5, \"tip\": 2.55, \"tolls\": 0.0, \"total\": 15.35, \"color\": \"yellow\", \"payment\": \"credit card\", \"pickup_zone\": \"Midtown Center\", \"dropoff_zone\": \"Midtown Center\", \"pickup_borough\": \"Manhattan\", \"dropoff_borough\": \"Manhattan\"}, {\"pickup\": \"2019-03-26T19:38:12\", \"dropoff\": \"2019-03-26T19:46:21\", \"passengers\": 2, \"distance\": 1.23, \"fare\": 7.5, \"tip\": 0.0, \"tolls\": 0.0, \"total\": 11.8, \"color\": \"yellow\", \"payment\": \"cash\", \"pickup_zone\": \"Penn Station/Madison Sq West\", \"dropoff_zone\": \"Midtown Center\", \"pickup_borough\": \"Manhattan\", \"dropoff_borough\": \"Manhattan\"}, {\"pickup\": \"2019-03-01T19:26:40\", \"dropoff\": \"2019-03-01T19:45:38\", \"passengers\": 1, \"distance\": 3.0, \"fare\": 14.5, \"tip\": 3.75, \"tolls\": 0.0, \"total\": 22.55, \"color\": \"yellow\", \"payment\": \"credit card\", \"pickup_zone\": \"Penn Station/Madison Sq West\", \"dropoff_zone\": \"Lenox Hill East\", \"pickup_borough\": \"Manhattan\", \"dropoff_borough\": \"Manhattan\"}, {\"pickup\": \"2019-03-06T21:00:00\", \"dropoff\": \"2019-03-06T21:04:45\", \"passengers\": 1, \"distance\": 0.6, \"fare\": 5.0, \"tip\": 2.6, \"tolls\": 0.0, \"total\": 11.4, \"color\": \"yellow\", \"payment\": \"credit card\", \"pickup_zone\": \"Clinton East\", \"dropoff_zone\": \"Clinton West\", \"pickup_borough\": \"Manhattan\", \"dropoff_borough\": \"Manhattan\"}, {\"pickup\": \"2019-03-28T07:15:43\", \"dropoff\": \"2019-03-28T07:28:50\", \"passengers\": 0, \"distance\": 2.4, \"fare\": 11.0, \"tip\": 2.85, \"tolls\": 0.0, \"total\": 17.15, \"color\": \"yellow\", \"payment\": \"credit card\", \"pickup_zone\": \"Upper East Side South\", \"dropoff_zone\": \"Garment District\", \"pickup_borough\": \"Manhattan\", \"dropoff_borough\": \"Manhattan\"}, {\"pickup\": \"2019-03-22T06:29:23\", \"dropoff\": \"2019-03-22T06:38:00\", \"passengers\": 1, \"distance\": 1.4, \"fare\": 7.5, \"tip\": 2.15, \"tolls\": 0.0, \"total\": 12.95, \"color\": \"yellow\", \"payment\": \"credit card\", \"pickup_zone\": \"Penn Station/Madison Sq West\", \"dropoff_zone\": \"Midtown Center\", \"pickup_borough\": \"Manhattan\", \"dropoff_borough\": \"Manhattan\"}, {\"pickup\": \"2019-03-21T14:35:19\", \"dropoff\": \"2019-03-21T15:19:35\", \"passengers\": 6, \"distance\": 10.06, \"fare\": 35.0, \"tip\": 0.0, \"tolls\": 0.0, \"total\": 38.3, \"color\": \"yellow\", \"payment\": \"cash\", \"pickup_zone\": \"Midtown Center\", \"dropoff_zone\": \"Park Slope\", \"pickup_borough\": \"Manhattan\", \"dropoff_borough\": \"Brooklyn\"}, {\"pickup\": \"2019-03-09T19:24:29\", \"dropoff\": \"2019-03-09T19:30:12\", \"passengers\": 2, \"distance\": 0.67, \"fare\": 5.5, \"tip\": 1.0, \"tolls\": 0.0, \"total\": 9.8, \"color\": \"yellow\", \"payment\": \"credit card\", \"pickup_zone\": \"Upper East Side South\", \"dropoff_zone\": \"Midtown Center\", \"pickup_borough\": \"Manhattan\", \"dropoff_borough\": \"Manhattan\"}, {\"pickup\": \"2019-03-15T17:58:43\", \"dropoff\": \"2019-03-15T18:15:32\", \"passengers\": 2, \"distance\": 2.84, \"fare\": 13.0, \"tip\": 0.0, \"tolls\": 0.0, \"total\": 17.3, \"color\": \"yellow\", \"payment\": \"cash\", \"pickup_zone\": \"Upper East Side South\", \"dropoff_zone\": \"East Village\", \"pickup_borough\": \"Manhattan\", \"dropoff_borough\": \"Manhattan\"}, {\"pickup\": \"2019-03-08T23:13:46\", \"dropoff\": \"2019-03-08T23:30:30\", \"passengers\": 1, \"distance\": 3.31, \"fare\": 13.5, \"tip\": 3.0, \"tolls\": 0.0, \"total\": 20.3, \"color\": \"yellow\", \"payment\": \"credit card\", \"pickup_zone\": \"Penn Station/Madison Sq West\", \"dropoff_zone\": \"Upper East Side North\", \"pickup_borough\": \"Manhattan\", \"dropoff_borough\": \"Manhattan\"}, {\"pickup\": \"2019-03-06T09:57:11\", \"dropoff\": \"2019-03-06T10:16:04\", \"passengers\": 1, \"distance\": 3.1, \"fare\": 14.0, \"tip\": 3.0, \"tolls\": 0.0, \"total\": 20.3, \"color\": \"yellow\", \"payment\": \"credit card\", \"pickup_zone\": \"Midtown Center\", \"dropoff_zone\": \"Upper West Side North\", \"pickup_borough\": \"Manhattan\", \"dropoff_borough\": \"Manhattan\"}, {\"pickup\": \"2019-03-07T20:36:25\", \"dropoff\": \"2019-03-07T20:51:36\", \"passengers\": 5, \"distance\": 2.4, \"fare\": 11.5, \"tip\": 3.06, \"tolls\": 0.0, \"total\": 18.36, \"color\": \"yellow\", \"payment\": \"credit card\", \"pickup_zone\": \"Midtown Center\", \"dropoff_zone\": \"Yorkville East\", \"pickup_borough\": \"Manhattan\", \"dropoff_borough\": \"Manhattan\"}, {\"pickup\": \"2019-03-04T20:06:05\", \"dropoff\": \"2019-03-04T20:15:24\", \"passengers\": 1, \"distance\": 1.0, \"fare\": 7.5, \"tip\": 0.0, \"tolls\": 0.0, \"total\": 11.3, \"color\": \"yellow\", \"payment\": \"cash\", \"pickup_zone\": \"Clinton East\", \"dropoff_zone\": \"Midtown Center\", \"pickup_borough\": \"Manhattan\", \"dropoff_borough\": \"Manhattan\"}, {\"pickup\": \"2019-03-05T20:18:40\", \"dropoff\": \"2019-03-05T20:36:38\", \"passengers\": 2, \"distance\": 3.2, \"fare\": 14.0, \"tip\": 0.0, \"tolls\": 0.0, \"total\": 17.8, \"color\": \"yellow\", \"payment\": \"cash\", \"pickup_zone\": \"Clinton East\", \"dropoff_zone\": \"Lenox Hill East\", \"pickup_borough\": \"Manhattan\", \"dropoff_borough\": \"Manhattan\"}, {\"pickup\": \"2019-03-28T09:27:27\", \"dropoff\": \"2019-03-28T09:53:38\", \"passengers\": 2, \"distance\": 2.5, \"fare\": 16.5, \"tip\": 1.0, \"tolls\": 0.0, \"total\": 20.8, \"color\": \"yellow\", \"payment\": \"credit card\", \"pickup_zone\": \"Clinton East\", \"dropoff_zone\": \"Greenwich Village South\", \"pickup_borough\": \"Manhattan\", \"dropoff_borough\": \"Manhattan\"}, {\"pickup\": \"2019-03-08T03:51:00\", \"dropoff\": \"2019-03-08T04:07:13\", \"passengers\": 1, \"distance\": 3.5, \"fare\": 14.0, \"tip\": 0.0, \"tolls\": 0.0, \"total\": 17.8, \"color\": \"yellow\", \"payment\": \"credit card\", \"pickup_zone\": \"Penn Station/Madison Sq West\", \"dropoff_zone\": \"Lower East Side\", \"pickup_borough\": \"Manhattan\", \"dropoff_borough\": \"Manhattan\"}, {\"pickup\": \"2019-03-13T10:23:20\", \"dropoff\": \"2019-03-13T10:29:11\", \"passengers\": 1, \"distance\": 0.6, \"fare\": 5.5, \"tip\": 1.75, \"tolls\": 0.0, \"total\": 10.55, \"color\": \"yellow\", \"payment\": \"credit card\", \"pickup_zone\": \"Midtown Center\", \"dropoff_zone\": \"Sutton Place/Turtle Bay North\", \"pickup_borough\": \"Manhattan\", \"dropoff_borough\": \"Manhattan\"}, {\"pickup\": \"2019-03-27T20:27:08\", \"dropoff\": \"2019-03-27T20:42:02\", \"passengers\": 1, \"distance\": 2.9, \"fare\": 12.5, \"tip\": 3.26, \"tolls\": 0.0, \"total\": 19.56, \"color\": \"yellow\", \"payment\": \"credit card\", \"pickup_zone\": \"Upper East Side South\", \"dropoff_zone\": \"East Village\", \"pickup_borough\": \"Manhattan\", \"dropoff_borough\": \"Manhattan\"}, {\"pickup\": \"2019-03-11T14:27:51\", \"dropoff\": \"2019-03-11T14:37:40\", \"passengers\": 1, \"distance\": 1.52, \"fare\": 8.5, \"tip\": 2.36, \"tolls\": 0.0, \"total\": 14.16, \"color\": \"yellow\", \"payment\": \"credit card\", \"pickup_zone\": \"Upper East Side South\", \"dropoff_zone\": \"Upper East Side North\", \"pickup_borough\": \"Manhattan\", \"dropoff_borough\": \"Manhattan\"}, {\"pickup\": \"2019-03-29T15:43:24\", \"dropoff\": \"2019-03-29T16:00:23\", \"passengers\": 1, \"distance\": 2.27, \"fare\": 12.0, \"tip\": 2.3, \"tolls\": 0.0, \"total\": 17.6, \"color\": \"yellow\", \"payment\": \"credit card\", \"pickup_zone\": \"Midtown Center\", \"dropoff_zone\": \"Upper East Side North\", \"pickup_borough\": \"Manhattan\", \"dropoff_borough\": \"Manhattan\"}, {\"pickup\": \"2019-03-29T06:38:08\", \"dropoff\": \"2019-03-29T06:52:35\", \"passengers\": 1, \"distance\": 3.06, \"fare\": 12.5, \"tip\": 3.0, \"tolls\": 0.0, \"total\": 18.8, \"color\": \"yellow\", \"payment\": \"credit card\", \"pickup_zone\": \"Penn Station/Madison Sq West\", \"dropoff_zone\": \"Lenox Hill East\", \"pickup_borough\": \"Manhattan\", \"dropoff_borough\": \"Manhattan\"}, {\"pickup\": \"2019-03-04T15:27:49\", \"dropoff\": \"2019-03-04T15:47:56\", \"passengers\": 1, \"distance\": 2.39, \"fare\": 13.5, \"tip\": 3.36, \"tolls\": 0.0, \"total\": 20.16, \"color\": \"yellow\", \"payment\": \"credit card\", \"pickup_zone\": \"Clinton East\", \"dropoff_zone\": \"Midtown East\", \"pickup_borough\": \"Manhattan\", \"dropoff_borough\": \"Manhattan\"}, {\"pickup\": \"2019-03-26T12:49:52\", \"dropoff\": \"2019-03-26T13:25:30\", \"passengers\": 1, \"distance\": 6.21, \"fare\": 27.5, \"tip\": 5.5, \"tolls\": 0.0, \"total\": 36.3, \"color\": \"yellow\", \"payment\": \"credit card\", \"pickup_zone\": \"Midtown Center\", \"dropoff_zone\": \"World Trade Center\", \"pickup_borough\": \"Manhattan\", \"dropoff_borough\": \"Manhattan\"}, {\"pickup\": \"2019-03-17T17:23:05\", \"dropoff\": \"2019-03-17T17:26:58\", \"passengers\": 2, \"distance\": 0.98, \"fare\": 5.0, \"tip\": 1.66, \"tolls\": 0.0, \"total\": 9.96, \"color\": \"yellow\", \"payment\": \"credit card\", \"pickup_zone\": \"Penn Station/Madison Sq West\", \"dropoff_zone\": \"Times Sq/Theatre District\", \"pickup_borough\": \"Manhattan\", \"dropoff_borough\": \"Manhattan\"}, {\"pickup\": \"2019-03-06T10:05:02\", \"dropoff\": \"2019-03-06T10:22:09\", \"passengers\": 1, \"distance\": 1.52, \"fare\": 11.5, \"tip\": 2.96, \"tolls\": 0.0, \"total\": 17.76, \"color\": \"yellow\", \"payment\": \"credit card\", \"pickup_zone\": \"Penn Station/Madison Sq West\", \"dropoff_zone\": \"Union Sq\", \"pickup_borough\": \"Manhattan\", \"dropoff_borough\": \"Manhattan\"}, {\"pickup\": \"2019-03-20T11:38:48\", \"dropoff\": \"2019-03-20T11:48:46\", \"passengers\": 1, \"distance\": 0.7, \"fare\": 7.5, \"tip\": 2.15, \"tolls\": 0.0, \"total\": 12.95, \"color\": \"yellow\", \"payment\": \"credit card\", \"pickup_zone\": \"Midtown Center\", \"dropoff_zone\": \"Midtown North\", \"pickup_borough\": \"Manhattan\", \"dropoff_borough\": \"Manhattan\"}, {\"pickup\": \"2019-03-14T21:17:22\", \"dropoff\": \"2019-03-14T21:31:23\", \"passengers\": 2, \"distance\": 2.9, \"fare\": 12.5, \"tip\": 3.25, \"tolls\": 0.0, \"total\": 19.55, \"color\": \"yellow\", \"payment\": \"credit card\", \"pickup_zone\": \"Midtown Center\", \"dropoff_zone\": \"Long Island City/Hunters Point\", \"pickup_borough\": \"Manhattan\", \"dropoff_borough\": \"Queens\"}, {\"pickup\": \"2019-03-07T12:49:34\", \"dropoff\": \"2019-03-07T13:09:33\", \"passengers\": 2, \"distance\": 1.1, \"fare\": 12.5, \"tip\": 3.15, \"tolls\": 0.0, \"total\": 18.95, \"color\": \"yellow\", \"payment\": \"credit card\", \"pickup_zone\": \"Penn Station/Madison Sq West\", \"dropoff_zone\": \"Murray Hill\", \"pickup_borough\": \"Manhattan\", \"dropoff_borough\": \"Manhattan\"}, {\"pickup\": \"2019-03-19T17:25:44\", \"dropoff\": \"2019-03-19T17:50:41\", \"passengers\": 5, \"distance\": 3.26, \"fare\": 17.5, \"tip\": 2.18, \"tolls\": 0.0, \"total\": 23.98, \"color\": \"yellow\", \"payment\": \"credit card\", \"pickup_zone\": \"Upper East Side South\", \"dropoff_zone\": \"Upper East Side North\", \"pickup_borough\": \"Manhattan\", \"dropoff_borough\": \"Manhattan\"}, {\"pickup\": \"2019-03-16T00:35:00\", \"dropoff\": \"2019-03-16T01:13:31\", \"passengers\": 1, \"distance\": 3.73, \"fare\": 24.0, \"tip\": 0.0, \"tolls\": 0.0, \"total\": 27.8, \"color\": \"yellow\", \"payment\": \"cash\", \"pickup_zone\": \"Clinton East\", \"dropoff_zone\": \"Lower East Side\", \"pickup_borough\": \"Manhattan\", \"dropoff_borough\": \"Manhattan\"}, {\"pickup\": \"2019-03-31T12:10:06\", \"dropoff\": \"2019-03-31T12:19:35\", \"passengers\": 1, \"distance\": 1.25, \"fare\": 8.0, \"tip\": 0.0, \"tolls\": 0.0, \"total\": 11.3, \"color\": \"yellow\", \"payment\": \"cash\", \"pickup_zone\": \"Midtown Center\", \"dropoff_zone\": \"Clinton East\", \"pickup_borough\": \"Manhattan\", \"dropoff_borough\": \"Manhattan\"}, {\"pickup\": \"2019-03-22T23:43:59\", \"dropoff\": \"2019-03-22T23:57:03\", \"passengers\": 5, \"distance\": 2.28, \"fare\": 10.0, \"tip\": 3.45, \"tolls\": 0.0, \"total\": 17.25, \"color\": \"yellow\", \"payment\": \"credit card\", \"pickup_zone\": \"Clinton East\", \"dropoff_zone\": \"Union Sq\", \"pickup_borough\": \"Manhattan\", \"dropoff_borough\": \"Manhattan\"}, {\"pickup\": \"2019-03-18T17:24:06\", \"dropoff\": \"2019-03-18T17:27:34\", \"passengers\": 1, \"distance\": 0.45, \"fare\": 4.0, \"tip\": 0.0, \"tolls\": 0.0, \"total\": 8.3, \"color\": \"yellow\", \"payment\": \"cash\", \"pickup_zone\": \"Clinton East\", \"dropoff_zone\": \"East Chelsea\", \"pickup_borough\": \"Manhattan\", \"dropoff_borough\": \"Manhattan\"}, {\"pickup\": \"2019-03-16T19:58:16\", \"dropoff\": \"2019-03-16T20:15:22\", \"passengers\": 1, \"distance\": 2.89, \"fare\": 13.0, \"tip\": 3.26, \"tolls\": 0.0, \"total\": 19.56, \"color\": \"yellow\", \"payment\": \"credit card\", \"pickup_zone\": \"Penn Station/Madison Sq West\", \"dropoff_zone\": \"Lincoln Square West\", \"pickup_borough\": \"Manhattan\", \"dropoff_borough\": \"Manhattan\"}, {\"pickup\": \"2019-03-23T07:11:34\", \"dropoff\": \"2019-03-23T07:15:10\", \"passengers\": 1, \"distance\": 0.8, \"fare\": 5.0, \"tip\": 1.65, \"tolls\": 0.0, \"total\": 9.95, \"color\": \"yellow\", \"payment\": \"credit card\", \"pickup_zone\": \"Penn Station/Madison Sq West\", \"dropoff_zone\": \"Midtown Center\", \"pickup_borough\": \"Manhattan\", \"dropoff_borough\": \"Manhattan\"}, {\"pickup\": \"2019-03-23T12:06:35\", \"dropoff\": \"2019-03-23T12:17:24\", \"passengers\": 2, \"distance\": 1.3, \"fare\": 8.5, \"tip\": 0.0, \"tolls\": 0.0, \"total\": 11.8, \"color\": \"yellow\", \"payment\": \"cash\", \"pickup_zone\": \"Penn Station/Madison Sq West\", \"dropoff_zone\": \"Clinton East\", \"pickup_borough\": \"Manhattan\", \"dropoff_borough\": \"Manhattan\"}, {\"pickup\": \"2019-03-23T22:18:37\", \"dropoff\": \"2019-03-23T22:23:57\", \"passengers\": 2, \"distance\": 1.19, \"fare\": 6.0, \"tip\": 1.96, \"tolls\": 0.0, \"total\": 11.76, \"color\": \"yellow\", \"payment\": \"credit card\", \"pickup_zone\": \"Upper East Side South\", \"dropoff_zone\": \"Upper East Side North\", \"pickup_borough\": \"Manhattan\", \"dropoff_borough\": \"Manhattan\"}, {\"pickup\": \"2019-03-28T01:17:23\", \"dropoff\": \"2019-03-28T01:27:33\", \"passengers\": 1, \"distance\": 4.29, \"fare\": 14.0, \"tip\": 0.0, \"tolls\": 0.0, \"total\": 17.8, \"color\": \"yellow\", \"payment\": \"cash\", \"pickup_zone\": \"Upper East Side South\", \"dropoff_zone\": \"Mott Haven/Port Morris\", \"pickup_borough\": \"Manhattan\", \"dropoff_borough\": \"Bronx\"}, {\"pickup\": \"2019-03-10T21:04:50\", \"dropoff\": \"2019-03-10T21:11:22\", \"passengers\": 0, \"distance\": 1.2, \"fare\": 7.0, \"tip\": 2.15, \"tolls\": 0.0, \"total\": 12.95, \"color\": \"yellow\", \"payment\": \"credit card\", \"pickup_zone\": \"Clinton East\", \"dropoff_zone\": \"Lincoln Square West\", \"pickup_borough\": \"Manhattan\", \"dropoff_borough\": \"Manhattan\"}, {\"pickup\": \"2019-03-22T19:57:46\", \"dropoff\": \"2019-03-22T20:04:51\", \"passengers\": 1, \"distance\": 1.31, \"fare\": 7.0, \"tip\": 0.0, \"tolls\": 0.0, \"total\": 11.3, \"color\": \"yellow\", \"payment\": \"cash\", \"pickup_zone\": \"Upper East Side South\", \"dropoff_zone\": \"Lenox Hill East\", \"pickup_borough\": \"Manhattan\", \"dropoff_borough\": \"Manhattan\"}, {\"pickup\": \"2019-03-07T17:43:27\", \"dropoff\": \"2019-03-07T18:16:20\", \"passengers\": 2, \"distance\": 4.8, \"fare\": 21.5, \"tip\": 5.16, \"tolls\": 0.0, \"total\": 30.96, \"color\": \"yellow\", \"payment\": \"credit card\", \"pickup_zone\": \"Midtown Center\", \"dropoff_zone\": \"Astoria\", \"pickup_borough\": \"Manhattan\", \"dropoff_borough\": \"Queens\"}, {\"pickup\": \"2019-03-02T15:08:55\", \"dropoff\": \"2019-03-02T15:16:40\", \"passengers\": 1, \"distance\": 1.2, \"fare\": 7.0, \"tip\": 0.0, \"tolls\": 0.0, \"total\": 10.3, \"color\": \"yellow\", \"payment\": \"cash\", \"pickup_zone\": \"Upper East Side South\", \"dropoff_zone\": \"Lenox Hill East\", \"pickup_borough\": \"Manhattan\", \"dropoff_borough\": \"Manhattan\"}, {\"pickup\": \"2019-03-13T09:56:58\", \"dropoff\": \"2019-03-13T10:49:35\", \"passengers\": 1, \"distance\": 17.1, \"fare\": 52.0, \"tip\": 0.0, \"tolls\": 0.0, \"total\": 55.3, \"color\": \"yellow\", \"payment\": \"cash\", \"pickup_zone\": \"Midtown Center\", \"dropoff_zone\": \"JFK Airport\", \"pickup_borough\": \"Manhattan\", \"dropoff_borough\": \"Queens\"}, {\"pickup\": \"2019-03-22T14:58:33\", \"dropoff\": \"2019-03-22T15:32:25\", \"passengers\": 1, \"distance\": 7.31, \"fare\": 27.0, \"tip\": 0.0, \"tolls\": 5.76, \"total\": 36.06, \"color\": \"yellow\", \"payment\": \"cash\", \"pickup_zone\": \"Penn Station/Madison Sq West\", \"dropoff_zone\": \"Boerum Hill\", \"pickup_borough\": \"Manhattan\", \"dropoff_borough\": \"Brooklyn\"}, {\"pickup\": \"2019-03-29T07:13:54\", \"dropoff\": \"2019-03-29T07:20:17\", \"passengers\": 5, \"distance\": 0.95, \"fare\": 6.5, \"tip\": 1.96, \"tolls\": 0.0, \"total\": 11.76, \"color\": \"yellow\", \"payment\": \"credit card\", \"pickup_zone\": \"Midtown Center\", \"dropoff_zone\": \"Lenox Hill West\", \"pickup_borough\": \"Manhattan\", \"dropoff_borough\": \"Manhattan\"}, {\"pickup\": \"2019-03-15T07:09:54\", \"dropoff\": \"2019-03-15T07:19:49\", \"passengers\": 1, \"distance\": 1.57, \"fare\": 8.5, \"tip\": 2.36, \"tolls\": 0.0, \"total\": 14.16, \"color\": \"yellow\", \"payment\": \"credit card\", \"pickup_zone\": \"Penn Station/Madison Sq West\", \"dropoff_zone\": \"Kips Bay\", \"pickup_borough\": \"Manhattan\", \"dropoff_borough\": \"Manhattan\"}, {\"pickup\": \"2019-03-28T19:53:03\", \"dropoff\": \"2019-03-28T20:04:10\", \"passengers\": 6, \"distance\": 2.39, \"fare\": 10.5, \"tip\": 2.96, \"tolls\": 0.0, \"total\": 17.76, \"color\": \"yellow\", \"payment\": \"credit card\", \"pickup_zone\": \"Midtown Center\", \"dropoff_zone\": \"Long Island City/Hunters Point\", \"pickup_borough\": \"Manhattan\", \"dropoff_borough\": \"Queens\"}, {\"pickup\": \"2019-03-11T11:42:54\", \"dropoff\": \"2019-03-11T11:57:52\", \"passengers\": 1, \"distance\": 1.6, \"fare\": 10.5, \"tip\": 0.0, \"tolls\": 0.0, \"total\": 13.8, \"color\": \"yellow\", \"payment\": \"cash\", \"pickup_zone\": \"Midtown Center\", \"dropoff_zone\": \"Lenox Hill West\", \"pickup_borough\": \"Manhattan\", \"dropoff_borough\": \"Manhattan\"}, {\"pickup\": \"2019-03-22T19:16:00\", \"dropoff\": \"2019-03-22T19:24:56\", \"passengers\": 1, \"distance\": 1.8, \"fare\": 8.5, \"tip\": 3.2, \"tolls\": 0.0, \"total\": 16.0, \"color\": \"yellow\", \"payment\": \"credit card\", \"pickup_zone\": \"Midtown Center\", \"dropoff_zone\": \"Upper East Side North\", \"pickup_borough\": \"Manhattan\", \"dropoff_borough\": \"Manhattan\"}, {\"pickup\": \"2019-03-27T11:59:57\", \"dropoff\": \"2019-03-27T12:22:29\", \"passengers\": 1, \"distance\": 2.7, \"fare\": 16.0, \"tip\": 4.8, \"tolls\": 0.0, \"total\": 24.1, \"color\": \"yellow\", \"payment\": \"credit card\", \"pickup_zone\": \"Clinton East\", \"dropoff_zone\": \"Upper East Side North\", \"pickup_borough\": \"Manhattan\", \"dropoff_borough\": \"Manhattan\"}, {\"pickup\": \"2019-03-19T14:01:31\", \"dropoff\": \"2019-03-19T14:23:46\", \"passengers\": 1, \"distance\": 4.43, \"fare\": 18.0, \"tip\": 0.0, \"tolls\": 0.0, \"total\": 18.8, \"color\": \"yellow\", \"payment\": \"credit card\", \"pickup_zone\": \"Midtown Center\", \"dropoff_zone\": \"Sunnyside\", \"pickup_borough\": \"Manhattan\", \"dropoff_borough\": \"Queens\"}, {\"pickup\": \"2019-03-05T19:07:39\", \"dropoff\": \"2019-03-05T19:17:51\", \"passengers\": 6, \"distance\": 1.21, \"fare\": 8.0, \"tip\": 2.46, \"tolls\": 0.0, \"total\": 14.76, \"color\": \"yellow\", \"payment\": \"credit card\", \"pickup_zone\": \"Upper East Side South\", \"dropoff_zone\": \"Lenox Hill East\", \"pickup_borough\": \"Manhattan\", \"dropoff_borough\": \"Manhattan\"}, {\"pickup\": \"2019-03-27T07:31:25\", \"dropoff\": \"2019-03-27T07:34:58\", \"passengers\": 1, \"distance\": 0.5, \"fare\": 4.5, \"tip\": 1.0, \"tolls\": 0.0, \"total\": 8.8, \"color\": \"yellow\", \"payment\": \"credit card\", \"pickup_zone\": \"Clinton East\", \"dropoff_zone\": \"West Chelsea/Hudson Yards\", \"pickup_borough\": \"Manhattan\", \"dropoff_borough\": \"Manhattan\"}, {\"pickup\": \"2019-03-27T18:14:35\", \"dropoff\": \"2019-03-27T18:18:28\", \"passengers\": 1, \"distance\": 0.59, \"fare\": 4.5, \"tip\": 0.0, \"tolls\": 0.0, \"total\": 8.8, \"color\": \"yellow\", \"payment\": \"cash\", \"pickup_zone\": \"Clinton East\", \"dropoff_zone\": \"East Chelsea\", \"pickup_borough\": \"Manhattan\", \"dropoff_borough\": \"Manhattan\"}, {\"pickup\": \"2019-03-22T01:01:00\", \"dropoff\": \"2019-03-22T01:06:34\", \"passengers\": 1, \"distance\": 1.12, \"fare\": 6.0, \"tip\": 1.96, \"tolls\": 0.0, \"total\": 11.76, \"color\": \"yellow\", \"payment\": \"credit card\", \"pickup_zone\": \"Midtown Center\", \"dropoff_zone\": \"Midtown East\", \"pickup_borough\": \"Manhattan\", \"dropoff_borough\": \"Manhattan\"}, {\"pickup\": \"2019-03-07T16:44:20\", \"dropoff\": \"2019-03-07T17:01:57\", \"passengers\": 1, \"distance\": 1.4, \"fare\": 11.5, \"tip\": 1.2, \"tolls\": 0.0, \"total\": 17.0, \"color\": \"yellow\", \"payment\": \"credit card\", \"pickup_zone\": \"Midtown Center\", \"dropoff_zone\": \"Clinton West\", \"pickup_borough\": \"Manhattan\", \"dropoff_borough\": \"Manhattan\"}, {\"pickup\": \"2019-03-13T20:15:33\", \"dropoff\": \"2019-03-13T20:33:00\", \"passengers\": 5, \"distance\": 1.7, \"fare\": 11.5, \"tip\": 0.0, \"tolls\": 0.0, \"total\": 15.3, \"color\": \"yellow\", \"payment\": \"cash\", \"pickup_zone\": \"Clinton East\", \"dropoff_zone\": \"Sutton Place/Turtle Bay North\", \"pickup_borough\": \"Manhattan\", \"dropoff_borough\": \"Manhattan\"}, {\"pickup\": \"2019-03-24T11:08:38\", \"dropoff\": \"2019-03-24T11:22:18\", \"passengers\": 2, \"distance\": 1.7, \"fare\": 10.0, \"tip\": 0.0, \"tolls\": 0.0, \"total\": 13.3, \"color\": \"yellow\", \"payment\": \"cash\", \"pickup_zone\": \"Midtown Center\", \"dropoff_zone\": \"Penn Station/Madison Sq West\", \"pickup_borough\": \"Manhattan\", \"dropoff_borough\": \"Manhattan\"}, {\"pickup\": \"2019-03-01T06:42:17\", \"dropoff\": \"2019-03-01T06:47:43\", \"passengers\": 1, \"distance\": 0.7, \"fare\": 5.5, \"tip\": 1.75, \"tolls\": 0.0, \"total\": 10.55, \"color\": \"yellow\", \"payment\": \"credit card\", \"pickup_zone\": \"Clinton East\", \"dropoff_zone\": \"Times Sq/Theatre District\", \"pickup_borough\": \"Manhattan\", \"dropoff_borough\": \"Manhattan\"}, {\"pickup\": \"2019-03-18T11:22:40\", \"dropoff\": \"2019-03-18T11:34:00\", \"passengers\": 1, \"distance\": 1.46, \"fare\": 9.0, \"tip\": 2.0, \"tolls\": 0.0, \"total\": 14.3, \"color\": \"yellow\", \"payment\": \"credit card\", \"pickup_zone\": \"Midtown Center\", \"dropoff_zone\": \"Garment District\", \"pickup_borough\": \"Manhattan\", \"dropoff_borough\": \"Manhattan\"}, {\"pickup\": \"2019-03-11T22:00:46\", \"dropoff\": \"2019-03-11T22:17:59\", \"passengers\": 3, \"distance\": 3.11, \"fare\": 14.0, \"tip\": 3.56, \"tolls\": 0.0, \"total\": 21.36, \"color\": \"yellow\", \"payment\": \"credit card\", \"pickup_zone\": \"Midtown Center\", \"dropoff_zone\": \"Upper West Side North\", \"pickup_borough\": \"Manhattan\", \"dropoff_borough\": \"Manhattan\"}, {\"pickup\": \"2019-03-19T18:17:13\", \"dropoff\": \"2019-03-19T18:30:20\", \"passengers\": 1, \"distance\": 0.99, \"fare\": 9.0, \"tip\": 2.66, \"tolls\": 0.0, \"total\": 15.96, \"color\": \"yellow\", \"payment\": \"credit card\", \"pickup_zone\": \"Penn Station/Madison Sq West\", \"dropoff_zone\": \"Times Sq/Theatre District\", \"pickup_borough\": \"Manhattan\", \"dropoff_borough\": \"Manhattan\"}, {\"pickup\": \"2019-03-19T21:20:43\", \"dropoff\": \"2019-03-19T21:47:33\", \"passengers\": 1, \"distance\": 5.3, \"fare\": 20.5, \"tip\": 3.0, \"tolls\": 0.0, \"total\": 27.3, \"color\": \"yellow\", \"payment\": \"credit card\", \"pickup_zone\": \"Midtown Center\", \"dropoff_zone\": \"Brooklyn Heights\", \"pickup_borough\": \"Manhattan\", \"dropoff_borough\": \"Brooklyn\"}, {\"pickup\": \"2019-03-15T17:30:47\", \"dropoff\": \"2019-03-15T17:39:59\", \"passengers\": 1, \"distance\": 0.87, \"fare\": 7.5, \"tip\": 2.36, \"tolls\": 0.0, \"total\": 14.16, \"color\": \"yellow\", \"payment\": \"credit card\", \"pickup_zone\": \"Upper East Side South\", \"dropoff_zone\": \"Times Sq/Theatre District\", \"pickup_borough\": \"Manhattan\", \"dropoff_borough\": \"Manhattan\"}, {\"pickup\": \"2019-03-22T11:15:41\", \"dropoff\": \"2019-03-22T11:30:10\", \"passengers\": 1, \"distance\": 1.8, \"fare\": 10.5, \"tip\": 2.76, \"tolls\": 0.0, \"total\": 16.56, \"color\": \"yellow\", \"payment\": \"credit card\", \"pickup_zone\": \"Midtown Center\", \"dropoff_zone\": \"Upper West Side South\", \"pickup_borough\": \"Manhattan\", \"dropoff_borough\": \"Manhattan\"}, {\"pickup\": \"2019-03-06T09:07:45\", \"dropoff\": \"2019-03-06T09:23:31\", \"passengers\": 2, \"distance\": 1.31, \"fare\": 10.5, \"tip\": 2.76, \"tolls\": 0.0, \"total\": 16.56, \"color\": \"yellow\", \"payment\": \"credit card\", \"pickup_zone\": \"Midtown Center\", \"dropoff_zone\": \"Penn Station/Madison Sq West\", \"pickup_borough\": \"Manhattan\", \"dropoff_borough\": \"Manhattan\"}, {\"pickup\": \"2019-03-02T13:56:39\", \"dropoff\": \"2019-03-02T14:19:31\", \"passengers\": 1, \"distance\": 2.8, \"fare\": 15.0, \"tip\": 0.0, \"tolls\": 0.0, \"total\": 18.3, \"color\": \"yellow\", \"payment\": \"credit card\", \"pickup_zone\": \"Penn Station/Madison Sq West\", \"dropoff_zone\": \"East Village\", \"pickup_borough\": \"Manhattan\", \"dropoff_borough\": \"Manhattan\"}, {\"pickup\": \"2019-03-18T20:39:17\", \"dropoff\": \"2019-03-18T20:44:54\", \"passengers\": 1, \"distance\": 0.8, \"fare\": 5.5, \"tip\": 0.0, \"tolls\": 0.0, \"total\": 9.3, \"color\": \"yellow\", \"payment\": \"cash\", \"pickup_zone\": \"Clinton East\", \"dropoff_zone\": \"East Chelsea\", \"pickup_borough\": \"Manhattan\", \"dropoff_borough\": \"Manhattan\"}, {\"pickup\": \"2019-03-14T21:03:15\", \"dropoff\": \"2019-03-14T21:19:16\", \"passengers\": 1, \"distance\": 2.47, \"fare\": 12.0, \"tip\": 2.37, \"tolls\": 0.0, \"total\": 18.17, \"color\": \"yellow\", \"payment\": \"credit card\", \"pickup_zone\": \"Midtown Center\", \"dropoff_zone\": \"Yorkville West\", \"pickup_borough\": \"Manhattan\", \"dropoff_borough\": \"Manhattan\"}, {\"pickup\": \"2019-03-22T15:07:37\", \"dropoff\": \"2019-03-22T15:15:51\", \"passengers\": 1, \"distance\": 1.2, \"fare\": 7.5, \"tip\": 0.0, \"tolls\": 0.0, \"total\": 10.8, \"color\": \"yellow\", \"payment\": \"cash\", \"pickup_zone\": \"Clinton East\", \"dropoff_zone\": \"Midtown North\", \"pickup_borough\": \"Manhattan\", \"dropoff_borough\": \"Manhattan\"}, {\"pickup\": \"2019-03-30T20:50:21\", \"dropoff\": \"2019-03-30T20:58:20\", \"passengers\": 1, \"distance\": 1.0, \"fare\": 7.0, \"tip\": 2.7, \"tolls\": 0.0, \"total\": 13.5, \"color\": \"yellow\", \"payment\": \"credit card\", \"pickup_zone\": \"Clinton East\", \"dropoff_zone\": \"Lincoln Square East\", \"pickup_borough\": \"Manhattan\", \"dropoff_borough\": \"Manhattan\"}, {\"pickup\": \"2019-03-24T00:13:15\", \"dropoff\": \"2019-03-24T00:28:27\", \"passengers\": 1, \"distance\": 2.4, \"fare\": 11.5, \"tip\": 3.05, \"tolls\": 0.0, \"total\": 18.35, \"color\": \"yellow\", \"payment\": \"credit card\", \"pickup_zone\": \"Clinton East\", \"dropoff_zone\": \"Greenwich Village South\", \"pickup_borough\": \"Manhattan\", \"dropoff_borough\": \"Manhattan\"}, {\"pickup\": \"2019-03-30T02:42:20\", \"dropoff\": \"2019-03-30T02:49:21\", \"passengers\": 4, \"distance\": 1.0, \"fare\": 7.0, \"tip\": 2.15, \"tolls\": 0.0, \"total\": 12.95, \"color\": \"yellow\", \"payment\": \"credit card\", \"pickup_zone\": \"Penn Station/Madison Sq West\", \"dropoff_zone\": \"Clinton East\", \"pickup_borough\": \"Manhattan\", \"dropoff_borough\": \"Manhattan\"}, {\"pickup\": \"2019-03-14T21:20:40\", \"dropoff\": \"2019-03-14T21:34:04\", \"passengers\": 1, \"distance\": 2.81, \"fare\": 11.5, \"tip\": 1.7, \"tolls\": 0.0, \"total\": 17.0, \"color\": \"yellow\", \"payment\": \"credit card\", \"pickup_zone\": \"Midtown Center\", \"dropoff_zone\": \"Yorkville West\", \"pickup_borough\": \"Manhattan\", \"dropoff_borough\": \"Manhattan\"}, {\"pickup\": \"2019-03-12T07:55:46\", \"dropoff\": \"2019-03-12T08:06:00\", \"passengers\": 1, \"distance\": 1.34, \"fare\": 8.5, \"tip\": 2.36, \"tolls\": 0.0, \"total\": 14.16, \"color\": \"yellow\", \"payment\": \"credit card\", \"pickup_zone\": \"Upper East Side South\", \"dropoff_zone\": \"Midtown East\", \"pickup_borough\": \"Manhattan\", \"dropoff_borough\": \"Manhattan\"}, {\"pickup\": \"2019-03-17T14:01:35\", \"dropoff\": \"2019-03-17T14:16:58\", \"passengers\": 1, \"distance\": 1.42, \"fare\": 10.5, \"tip\": 0.0, \"tolls\": 0.0, \"total\": 13.8, \"color\": \"yellow\", \"payment\": \"cash\", \"pickup_zone\": \"Penn Station/Madison Sq West\", \"dropoff_zone\": \"Midtown Center\", \"pickup_borough\": \"Manhattan\", \"dropoff_borough\": \"Manhattan\"}, {\"pickup\": \"2019-03-10T15:01:11\", \"dropoff\": \"2019-03-10T15:14:20\", \"passengers\": 3, \"distance\": 2.0, \"fare\": 10.5, \"tip\": 0.0, \"tolls\": 0.0, \"total\": 13.8, \"color\": \"yellow\", \"payment\": \"cash\", \"pickup_zone\": \"Upper East Side South\", \"dropoff_zone\": \"Times Sq/Theatre District\", \"pickup_borough\": \"Manhattan\", \"dropoff_borough\": \"Manhattan\"}, {\"pickup\": \"2019-03-06T21:25:41\", \"dropoff\": \"2019-03-06T21:31:41\", \"passengers\": 1, \"distance\": 1.5, \"fare\": 7.0, \"tip\": 0.0, \"tolls\": 0.0, \"total\": 10.8, \"color\": \"yellow\", \"payment\": \"cash\", \"pickup_zone\": \"Clinton East\", \"dropoff_zone\": \"Upper West Side South\", \"pickup_borough\": \"Manhattan\", \"dropoff_borough\": \"Manhattan\"}, {\"pickup\": \"2019-03-13T18:23:20\", \"dropoff\": \"2019-03-13T18:27:44\", \"passengers\": 2, \"distance\": 0.86, \"fare\": 5.0, \"tip\": 0.0, \"tolls\": 0.0, \"total\": 9.3, \"color\": \"yellow\", \"payment\": \"cash\", \"pickup_zone\": \"Clinton East\", \"dropoff_zone\": \"East Chelsea\", \"pickup_borough\": \"Manhattan\", \"dropoff_borough\": \"Manhattan\"}, {\"pickup\": \"2019-03-26T15:41:42\", \"dropoff\": \"2019-03-26T16:14:05\", \"passengers\": 1, \"distance\": 2.5, \"fare\": 20.0, \"tip\": 5.0, \"tolls\": 0.0, \"total\": 28.3, \"color\": \"yellow\", \"payment\": \"credit card\", \"pickup_zone\": \"Penn Station/Madison Sq West\", \"dropoff_zone\": \"Hudson Sq\", \"pickup_borough\": \"Manhattan\", \"dropoff_borough\": \"Manhattan\"}, {\"pickup\": \"2019-03-25T23:40:55\", \"dropoff\": \"2019-03-25T23:42:40\", \"passengers\": 2, \"distance\": 0.34, \"fare\": 3.5, \"tip\": 0.0, \"tolls\": 0.0, \"total\": 7.3, \"color\": \"yellow\", \"payment\": \"cash\", \"pickup_zone\": \"Clinton East\", \"dropoff_zone\": \"Clinton East\", \"pickup_borough\": \"Manhattan\", \"dropoff_borough\": \"Manhattan\"}, {\"pickup\": \"2019-03-03T10:21:29\", \"dropoff\": \"2019-03-03T10:26:54\", \"passengers\": 2, \"distance\": 1.34, \"fare\": 6.5, \"tip\": 1.47, \"tolls\": 0.0, \"total\": 11.27, \"color\": \"yellow\", \"payment\": \"credit card\", \"pickup_zone\": \"Clinton East\", \"dropoff_zone\": \"East Chelsea\", \"pickup_borough\": \"Manhattan\", \"dropoff_borough\": \"Manhattan\"}, {\"pickup\": \"2019-03-30T23:14:50\", \"dropoff\": \"2019-03-30T23:18:50\", \"passengers\": 1, \"distance\": 1.0, \"fare\": 5.5, \"tip\": 1.86, \"tolls\": 0.0, \"total\": 11.16, \"color\": \"yellow\", \"payment\": \"credit card\", \"pickup_zone\": \"Upper East Side South\", \"dropoff_zone\": \"Upper East Side North\", \"pickup_borough\": \"Manhattan\", \"dropoff_borough\": \"Manhattan\"}, {\"pickup\": \"2019-03-05T10:30:18\", \"dropoff\": \"2019-03-05T10:46:25\", \"passengers\": 2, \"distance\": 0.88, \"fare\": 10.5, \"tip\": 2.0, \"tolls\": 0.0, \"total\": 15.8, \"color\": \"yellow\", \"payment\": \"credit card\", \"pickup_zone\": \"Penn Station/Madison Sq West\", \"dropoff_zone\": \"Murray Hill\", \"pickup_borough\": \"Manhattan\", \"dropoff_borough\": \"Manhattan\"}, {\"pickup\": \"2019-03-31T13:49:23\", \"dropoff\": \"2019-03-31T13:53:45\", \"passengers\": 1, \"distance\": 0.71, \"fare\": 5.0, \"tip\": 1.0, \"tolls\": 0.0, \"total\": 9.3, \"color\": \"yellow\", \"payment\": \"credit card\", \"pickup_zone\": \"Upper East Side South\", \"dropoff_zone\": \"Upper East Side South\", \"pickup_borough\": \"Manhattan\", \"dropoff_borough\": \"Manhattan\"}, {\"pickup\": \"2019-03-23T07:07:13\", \"dropoff\": \"2019-03-23T07:14:10\", \"passengers\": 1, \"distance\": 1.37, \"fare\": 7.0, \"tip\": 3.09, \"tolls\": 0.0, \"total\": 13.39, \"color\": \"yellow\", \"payment\": \"credit card\", \"pickup_zone\": \"Penn Station/Madison Sq West\", \"dropoff_zone\": \"Times Sq/Theatre District\", \"pickup_borough\": \"Manhattan\", \"dropoff_borough\": \"Manhattan\"}, {\"pickup\": \"2019-03-25T11:48:15\", \"dropoff\": \"2019-03-25T11:55:33\", \"passengers\": 1, \"distance\": 0.6, \"fare\": 6.0, \"tip\": 0.0, \"tolls\": 0.0, \"total\": 9.3, \"color\": \"yellow\", \"payment\": \"cash\", \"pickup_zone\": \"Midtown Center\", \"dropoff_zone\": \"Murray Hill\", \"pickup_borough\": \"Manhattan\", \"dropoff_borough\": \"Manhattan\"}, {\"pickup\": \"2019-03-18T13:58:37\", \"dropoff\": \"2019-03-18T14:11:47\", \"passengers\": 1, \"distance\": 1.3, \"fare\": 10.0, \"tip\": 2.65, \"tolls\": 0.0, \"total\": 15.95, \"color\": \"yellow\", \"payment\": \"credit card\", \"pickup_zone\": \"Clinton East\", \"dropoff_zone\": \"Murray Hill\", \"pickup_borough\": \"Manhattan\", \"dropoff_borough\": \"Manhattan\"}, {\"pickup\": \"2019-03-14T12:24:24\", \"dropoff\": \"2019-03-14T12:31:25\", \"passengers\": 1, \"distance\": 0.7, \"fare\": 6.0, \"tip\": 1.86, \"tolls\": 0.0, \"total\": 11.16, \"color\": \"yellow\", \"payment\": \"credit card\", \"pickup_zone\": \"Upper East Side South\", \"dropoff_zone\": \"Central Park\", \"pickup_borough\": \"Manhattan\", \"dropoff_borough\": \"Manhattan\"}, {\"pickup\": \"2019-03-04T06:09:39\", \"dropoff\": \"2019-03-04T06:12:56\", \"passengers\": 1, \"distance\": 0.7, \"fare\": 4.5, \"tip\": 1.55, \"tolls\": 0.0, \"total\": 9.35, \"color\": \"yellow\", \"payment\": \"credit card\", \"pickup_zone\": \"Clinton East\", \"dropoff_zone\": \"East Chelsea\", \"pickup_borough\": \"Manhattan\", \"dropoff_borough\": \"Manhattan\"}, {\"pickup\": \"2019-03-09T16:08:37\", \"dropoff\": \"2019-03-09T16:12:48\", \"passengers\": 1, \"distance\": 1.01, \"fare\": 5.0, \"tip\": 2.08, \"tolls\": 0.0, \"total\": 10.38, \"color\": \"yellow\", \"payment\": \"credit card\", \"pickup_zone\": \"Upper East Side South\", \"dropoff_zone\": \"Lincoln Square East\", \"pickup_borough\": \"Manhattan\", \"dropoff_borough\": \"Manhattan\"}, {\"pickup\": \"2019-03-13T19:20:31\", \"dropoff\": \"2019-03-13T19:36:06\", \"passengers\": 1, \"distance\": 2.99, \"fare\": 13.5, \"tip\": 0.0, \"tolls\": 0.0, \"total\": 17.8, \"color\": \"yellow\", \"payment\": \"cash\", \"pickup_zone\": \"Upper East Side South\", \"dropoff_zone\": \"Central Harlem\", \"pickup_borough\": \"Manhattan\", \"dropoff_borough\": \"Manhattan\"}, {\"pickup\": \"2019-03-10T23:35:03\", \"dropoff\": \"2019-03-10T23:46:14\", \"passengers\": 1, \"distance\": 3.16, \"fare\": 12.0, \"tip\": 3.0, \"tolls\": 0.0, \"total\": 18.8, \"color\": \"yellow\", \"payment\": \"credit card\", \"pickup_zone\": \"Upper East Side South\", \"dropoff_zone\": \"Greenwich Village North\", \"pickup_borough\": \"Manhattan\", \"dropoff_borough\": \"Manhattan\"}, {\"pickup\": \"2019-03-01T14:04:08\", \"dropoff\": \"2019-03-01T14:20:56\", \"passengers\": 1, \"distance\": 2.16, \"fare\": 12.0, \"tip\": 3.06, \"tolls\": 0.0, \"total\": 18.36, \"color\": \"yellow\", \"payment\": \"credit card\", \"pickup_zone\": \"Clinton East\", \"dropoff_zone\": \"Gramercy\", \"pickup_borough\": \"Manhattan\", \"dropoff_borough\": \"Manhattan\"}, {\"pickup\": \"2019-03-28T20:34:26\", \"dropoff\": \"2019-03-28T20:43:28\", \"passengers\": 1, \"distance\": 1.1, \"fare\": 7.5, \"tip\": 2.26, \"tolls\": 0.0, \"total\": 13.56, \"color\": \"yellow\", \"payment\": \"credit card\", \"pickup_zone\": \"Midtown Center\", \"dropoff_zone\": \"Penn Station/Madison Sq West\", \"pickup_borough\": \"Manhattan\", \"dropoff_borough\": \"Manhattan\"}, {\"pickup\": \"2019-03-12T14:55:42\", \"dropoff\": \"2019-03-12T15:06:04\", \"passengers\": 0, \"distance\": 1.0, \"fare\": 8.0, \"tip\": 2.25, \"tolls\": 0.0, \"total\": 13.55, \"color\": \"yellow\", \"payment\": \"credit card\", \"pickup_zone\": \"Midtown Center\", \"dropoff_zone\": \"Penn Station/Madison Sq West\", \"pickup_borough\": \"Manhattan\", \"dropoff_borough\": \"Manhattan\"}, {\"pickup\": \"2019-03-28T12:33:44\", \"dropoff\": \"2019-03-28T12:50:22\", \"passengers\": 1, \"distance\": 1.05, \"fare\": 11.0, \"tip\": 0.0, \"tolls\": 0.0, \"total\": 14.3, \"color\": \"yellow\", \"payment\": \"cash\", \"pickup_zone\": \"Midtown Center\", \"dropoff_zone\": \"Midtown South\", \"pickup_borough\": \"Manhattan\", \"dropoff_borough\": \"Manhattan\"}, {\"pickup\": \"2019-03-14T19:49:46\", \"dropoff\": \"2019-03-14T20:10:14\", \"passengers\": 1, \"distance\": 2.1, \"fare\": 13.5, \"tip\": 3.0, \"tolls\": 0.0, \"total\": 20.8, \"color\": \"yellow\", \"payment\": \"credit card\", \"pickup_zone\": \"Clinton East\", \"dropoff_zone\": \"Upper East Side South\", \"pickup_borough\": \"Manhattan\", \"dropoff_borough\": \"Manhattan\"}, {\"pickup\": \"2019-03-02T23:07:24\", \"dropoff\": \"2019-03-02T23:23:49\", \"passengers\": 1, \"distance\": 2.08, \"fare\": 12.0, \"tip\": 2.0, \"tolls\": 0.0, \"total\": 17.8, \"color\": \"yellow\", \"payment\": \"credit card\", \"pickup_zone\": \"Midtown Center\", \"dropoff_zone\": \"Lincoln Square West\", \"pickup_borough\": \"Manhattan\", \"dropoff_borough\": \"Manhattan\"}, {\"pickup\": \"2019-03-16T09:55:00\", \"dropoff\": \"2019-03-16T09:59:31\", \"passengers\": 1, \"distance\": 1.09, \"fare\": 5.5, \"tip\": 1.76, \"tolls\": 0.0, \"total\": 10.56, \"color\": \"yellow\", \"payment\": \"credit card\", \"pickup_zone\": \"Upper East Side South\", \"dropoff_zone\": \"Sutton Place/Turtle Bay North\", \"pickup_borough\": \"Manhattan\", \"dropoff_borough\": \"Manhattan\"}, {\"pickup\": \"2019-03-05T20:10:48\", \"dropoff\": \"2019-03-05T20:26:08\", \"passengers\": 5, \"distance\": 1.61, \"fare\": 11.0, \"tip\": 2.96, \"tolls\": 0.0, \"total\": 17.76, \"color\": \"yellow\", \"payment\": \"credit card\", \"pickup_zone\": \"Penn Station/Madison Sq West\", \"dropoff_zone\": \"West Chelsea/Hudson Yards\", \"pickup_borough\": \"Manhattan\", \"dropoff_borough\": \"Manhattan\"}, {\"pickup\": \"2019-03-20T12:31:21\", \"dropoff\": \"2019-03-20T13:12:07\", \"passengers\": 1, \"distance\": 12.9, \"fare\": 42.5, \"tip\": 10.3, \"tolls\": 5.76, \"total\": 61.86, \"color\": \"yellow\", \"payment\": \"credit card\", \"pickup_zone\": \"Clinton East\", \"dropoff_zone\": \"Hillcrest/Pomonok\", \"pickup_borough\": \"Manhattan\", \"dropoff_borough\": \"Queens\"}, {\"pickup\": \"2019-03-12T13:36:25\", \"dropoff\": \"2019-03-12T13:42:21\", \"passengers\": 2, \"distance\": 0.7, \"fare\": 6.0, \"tip\": 1.85, \"tolls\": 0.0, \"total\": 11.15, \"color\": \"yellow\", \"payment\": \"credit card\", \"pickup_zone\": \"Midtown Center\", \"dropoff_zone\": \"Upper East Side South\", \"pickup_borough\": \"Manhattan\", \"dropoff_borough\": \"Manhattan\"}, {\"pickup\": \"2019-03-06T13:48:29\", \"dropoff\": \"2019-03-06T14:08:58\", \"passengers\": 1, \"distance\": 1.31, \"fare\": 13.0, \"tip\": 4.08, \"tolls\": 0.0, \"total\": 20.38, \"color\": \"yellow\", \"payment\": \"credit card\", \"pickup_zone\": \"Upper East Side South\", \"dropoff_zone\": \"Midtown Center\", \"pickup_borough\": \"Manhattan\", \"dropoff_borough\": \"Manhattan\"}, {\"pickup\": \"2019-03-06T20:41:35\", \"dropoff\": \"2019-03-06T20:49:05\", \"passengers\": 1, \"distance\": 1.5, \"fare\": 7.5, \"tip\": 1.0, \"tolls\": 0.0, \"total\": 12.3, \"color\": \"yellow\", \"payment\": \"credit card\", \"pickup_zone\": \"Clinton East\", \"dropoff_zone\": \"West Chelsea/Hudson Yards\", \"pickup_borough\": \"Manhattan\", \"dropoff_borough\": \"Manhattan\"}, {\"pickup\": \"2019-03-26T22:18:02\", \"dropoff\": \"2019-03-26T22:52:49\", \"passengers\": 1, \"distance\": 14.4, \"fare\": 43.0, \"tip\": 4.0, \"tolls\": 0.0, \"total\": 50.8, \"color\": \"yellow\", \"payment\": \"credit card\", \"pickup_zone\": \"Penn Station/Madison Sq West\", \"dropoff_zone\": \"Forest Hills\", \"pickup_borough\": \"Manhattan\", \"dropoff_borough\": \"Queens\"}, {\"pickup\": \"2019-03-25T13:07:20\", \"dropoff\": \"2019-03-25T13:18:38\", \"passengers\": 1, \"distance\": 1.36, \"fare\": 8.5, \"tip\": 0.0, \"tolls\": 0.0, \"total\": 11.8, \"color\": \"yellow\", \"payment\": \"cash\", \"pickup_zone\": \"Midtown Center\", \"dropoff_zone\": \"Lincoln Square East\", \"pickup_borough\": \"Manhattan\", \"dropoff_borough\": \"Manhattan\"}, {\"pickup\": \"2019-03-05T09:54:13\", \"dropoff\": \"2019-03-05T10:18:37\", \"passengers\": 1, \"distance\": 1.54, \"fare\": 15.0, \"tip\": 4.58, \"tolls\": 0.0, \"total\": 22.88, \"color\": \"yellow\", \"payment\": \"credit card\", \"pickup_zone\": \"Clinton East\", \"dropoff_zone\": \"Midtown North\", \"pickup_borough\": \"Manhattan\", \"dropoff_borough\": \"Manhattan\"}, {\"pickup\": \"2019-03-23T19:23:50\", \"dropoff\": \"2019-03-23T19:27:25\", \"passengers\": 1, \"distance\": 0.51, \"fare\": 4.5, \"tip\": 1.0, \"tolls\": 0.0, \"total\": 8.8, \"color\": \"yellow\", \"payment\": \"credit card\", \"pickup_zone\": \"Clinton East\", \"dropoff_zone\": \"Clinton East\", \"pickup_borough\": \"Manhattan\", \"dropoff_borough\": \"Manhattan\"}, {\"pickup\": \"2019-03-10T12:44:10\", \"dropoff\": \"2019-03-10T12:49:47\", \"passengers\": 2, \"distance\": 0.8, \"fare\": 5.5, \"tip\": 1.0, \"tolls\": 0.0, \"total\": 9.8, \"color\": \"yellow\", \"payment\": \"credit card\", \"pickup_zone\": \"Upper East Side South\", \"dropoff_zone\": \"Yorkville East\", \"pickup_borough\": \"Manhattan\", \"dropoff_borough\": \"Manhattan\"}, {\"pickup\": \"2019-03-05T22:04:53\", \"dropoff\": \"2019-03-05T22:12:22\", \"passengers\": 5, \"distance\": 2.35, \"fare\": 9.0, \"tip\": 2.46, \"tolls\": 0.0, \"total\": 14.76, \"color\": \"yellow\", \"payment\": \"credit card\", \"pickup_zone\": \"Upper East Side South\", \"dropoff_zone\": \"Manhattan Valley\", \"pickup_borough\": \"Manhattan\", \"dropoff_borough\": \"Manhattan\"}, {\"pickup\": \"2019-03-06T15:48:35\", \"dropoff\": \"2019-03-06T15:51:33\", \"passengers\": 1, \"distance\": 0.6, \"fare\": 4.5, \"tip\": 1.55, \"tolls\": 0.0, \"total\": 9.35, \"color\": \"yellow\", \"payment\": \"credit card\", \"pickup_zone\": \"Upper East Side South\", \"dropoff_zone\": \"Upper East Side North\", \"pickup_borough\": \"Manhattan\", \"dropoff_borough\": \"Manhattan\"}, {\"pickup\": \"2019-03-21T16:37:15\", \"dropoff\": \"2019-03-21T16:43:32\", \"passengers\": 1, \"distance\": 0.44, \"fare\": 5.5, \"tip\": 1.25, \"tolls\": 0.0, \"total\": 11.05, \"color\": \"yellow\", \"payment\": \"credit card\", \"pickup_zone\": \"Midtown Center\", \"dropoff_zone\": \"Midtown North\", \"pickup_borough\": \"Manhattan\", \"dropoff_borough\": \"Manhattan\"}, {\"pickup\": \"2019-03-13T17:27:27\", \"dropoff\": \"2019-03-13T17:32:13\", \"passengers\": 1, \"distance\": 1.0, \"fare\": 5.5, \"tip\": 1.95, \"tolls\": 0.0, \"total\": 11.75, \"color\": \"yellow\", \"payment\": \"credit card\", \"pickup_zone\": \"Upper East Side South\", \"dropoff_zone\": \"Lenox Hill East\", \"pickup_borough\": \"Manhattan\", \"dropoff_borough\": \"Manhattan\"}, {\"pickup\": \"2019-03-26T15:14:06\", \"dropoff\": \"2019-03-26T15:46:23\", \"passengers\": 1, \"distance\": 10.44, \"fare\": 32.0, \"tip\": 0.0, \"tolls\": 5.76, \"total\": 38.56, \"color\": \"yellow\", \"payment\": \"credit card\", \"pickup_zone\": \"Upper East Side South\", \"dropoff_zone\": \"Bronxdale\", \"pickup_borough\": \"Manhattan\", \"dropoff_borough\": \"Bronx\"}, {\"pickup\": \"2019-03-12T22:31:17\", \"dropoff\": \"2019-03-12T22:34:24\", \"passengers\": 3, \"distance\": 1.16, \"fare\": 5.0, \"tip\": 1.76, \"tolls\": 0.0, \"total\": 10.56, \"color\": \"yellow\", \"payment\": \"credit card\", \"pickup_zone\": \"Upper East Side South\", \"dropoff_zone\": \"Upper East Side North\", \"pickup_borough\": \"Manhattan\", \"dropoff_borough\": \"Manhattan\"}, {\"pickup\": \"2019-03-27T20:44:38\", \"dropoff\": \"2019-03-27T20:53:14\", \"passengers\": 1, \"distance\": 1.49, \"fare\": 8.0, \"tip\": 2.36, \"tolls\": 0.0, \"total\": 14.16, \"color\": \"yellow\", \"payment\": \"credit card\", \"pickup_zone\": \"Upper East Side South\", \"dropoff_zone\": \"Lincoln Square East\", \"pickup_borough\": \"Manhattan\", \"dropoff_borough\": \"Manhattan\"}, {\"pickup\": \"2019-03-10T08:43:57\", \"dropoff\": \"2019-03-10T08:47:23\", \"passengers\": 1, \"distance\": 0.84, \"fare\": 5.0, \"tip\": 2.0, \"tolls\": 0.0, \"total\": 10.3, \"color\": \"yellow\", \"payment\": \"credit card\", \"pickup_zone\": \"Clinton East\", \"dropoff_zone\": \"East Chelsea\", \"pickup_borough\": \"Manhattan\", \"dropoff_borough\": \"Manhattan\"}, {\"pickup\": \"2019-03-08T23:38:12\", \"dropoff\": \"2019-03-08T23:43:18\", \"passengers\": 1, \"distance\": 1.13, \"fare\": 5.5, \"tip\": 0.0, \"tolls\": 0.0, \"total\": 9.3, \"color\": \"yellow\", \"payment\": \"cash\", \"pickup_zone\": \"Penn Station/Madison Sq West\", \"dropoff_zone\": \"East Chelsea\", \"pickup_borough\": \"Manhattan\", \"dropoff_borough\": \"Manhattan\"}, {\"pickup\": \"2019-03-14T06:18:49\", \"dropoff\": \"2019-03-14T06:23:05\", \"passengers\": 1, \"distance\": 0.7, \"fare\": 5.0, \"tip\": 0.0, \"tolls\": 0.0, \"total\": 8.3, \"color\": \"yellow\", \"payment\": \"cash\", \"pickup_zone\": \"Penn Station/Madison Sq West\", \"dropoff_zone\": \"Clinton East\", \"pickup_borough\": \"Manhattan\", \"dropoff_borough\": \"Manhattan\"}, {\"pickup\": \"2019-03-15T10:16:00\", \"dropoff\": \"2019-03-15T10:32:26\", \"passengers\": 1, \"distance\": 1.91, \"fare\": 11.5, \"tip\": 2.96, \"tolls\": 0.0, \"total\": 17.76, \"color\": \"yellow\", \"payment\": \"credit card\", \"pickup_zone\": \"Midtown Center\", \"dropoff_zone\": \"Lenox Hill East\", \"pickup_borough\": \"Manhattan\", \"dropoff_borough\": \"Manhattan\"}, {\"pickup\": \"2019-03-11T22:23:49\", \"dropoff\": \"2019-03-11T22:30:39\", \"passengers\": 2, \"distance\": 0.9, \"fare\": 6.5, \"tip\": 1.7, \"tolls\": 0.0, \"total\": 12.0, \"color\": \"yellow\", \"payment\": \"credit card\", \"pickup_zone\": \"Penn Station/Madison Sq West\", \"dropoff_zone\": \"Murray Hill\", \"pickup_borough\": \"Manhattan\", \"dropoff_borough\": \"Manhattan\"}, {\"pickup\": \"2019-03-27T14:33:39\", \"dropoff\": \"2019-03-27T14:54:00\", \"passengers\": 1, \"distance\": 0.82, \"fare\": 12.5, \"tip\": 3.95, \"tolls\": 0.0, \"total\": 19.75, \"color\": \"yellow\", \"payment\": \"credit card\", \"pickup_zone\": \"Midtown Center\", \"dropoff_zone\": \"Times Sq/Theatre District\", \"pickup_borough\": \"Manhattan\", \"dropoff_borough\": \"Manhattan\"}, {\"pickup\": \"2019-03-05T06:25:49\", \"dropoff\": \"2019-03-05T06:38:17\", \"passengers\": 1, \"distance\": 0.5, \"fare\": 4.5, \"tip\": 0.0, \"tolls\": 0.0, \"total\": 7.8, \"color\": \"yellow\", \"payment\": \"cash\", \"pickup_zone\": \"Upper East Side South\", \"dropoff_zone\": \"Upper East Side North\", \"pickup_borough\": \"Manhattan\", \"dropoff_borough\": \"Manhattan\"}, {\"pickup\": \"2019-03-27T16:49:48\", \"dropoff\": \"2019-03-27T17:35:09\", \"passengers\": 1, \"distance\": 9.9, \"fare\": 36.5, \"tip\": 0.0, \"tolls\": 5.76, \"total\": 46.56, \"color\": \"yellow\", \"payment\": \"cash\", \"pickup_zone\": \"Midtown Center\", \"dropoff_zone\": \"LaGuardia Airport\", \"pickup_borough\": \"Manhattan\", \"dropoff_borough\": \"Queens\"}, {\"pickup\": \"2019-03-13T09:32:43\", \"dropoff\": \"2019-03-13T10:08:58\", \"passengers\": 2, \"distance\": 3.03, \"fare\": 22.0, \"tip\": 3.8, \"tolls\": 0.0, \"total\": 29.1, \"color\": \"yellow\", \"payment\": \"credit card\", \"pickup_zone\": \"Penn Station/Madison Sq West\", \"dropoff_zone\": \"Central Park\", \"pickup_borough\": \"Manhattan\", \"dropoff_borough\": \"Manhattan\"}, {\"pickup\": \"2019-03-20T10:22:30\", \"dropoff\": \"2019-03-20T10:34:03\", \"passengers\": 1, \"distance\": 0.7, \"fare\": 8.5, \"tip\": 2.35, \"tolls\": 0.0, \"total\": 14.15, \"color\": \"yellow\", \"payment\": \"credit card\", \"pickup_zone\": \"Penn Station/Madison Sq West\", \"dropoff_zone\": \"Garment District\", \"pickup_borough\": \"Manhattan\", \"dropoff_borough\": \"Manhattan\"}, {\"pickup\": \"2019-03-14T23:31:59\", \"dropoff\": \"2019-03-14T23:42:08\", \"passengers\": 1, \"distance\": 2.09, \"fare\": 9.5, \"tip\": 2.66, \"tolls\": 0.0, \"total\": 15.96, \"color\": \"yellow\", \"payment\": \"credit card\", \"pickup_zone\": \"Penn Station/Madison Sq West\", \"dropoff_zone\": \"Lincoln Square East\", \"pickup_borough\": \"Manhattan\", \"dropoff_borough\": \"Manhattan\"}, {\"pickup\": \"2019-03-25T21:43:33\", \"dropoff\": \"2019-03-25T21:51:23\", \"passengers\": 1, \"distance\": 1.6, \"fare\": 8.0, \"tip\": 2.35, \"tolls\": 0.0, \"total\": 14.15, \"color\": \"yellow\", \"payment\": \"credit card\", \"pickup_zone\": \"Penn Station/Madison Sq West\", \"dropoff_zone\": \"Gramercy\", \"pickup_borough\": \"Manhattan\", \"dropoff_borough\": \"Manhattan\"}, {\"pickup\": \"2019-03-03T19:41:59\", \"dropoff\": \"2019-03-03T19:50:18\", \"passengers\": 0, \"distance\": 1.2, \"fare\": 7.0, \"tip\": 1.5, \"tolls\": 0.0, \"total\": 11.8, \"color\": \"yellow\", \"payment\": \"credit card\", \"pickup_zone\": \"Clinton East\", \"dropoff_zone\": \"Midtown North\", \"pickup_borough\": \"Manhattan\", \"dropoff_borough\": \"Manhattan\"}, {\"pickup\": \"2019-03-09T19:04:26\", \"dropoff\": \"2019-03-09T19:08:16\", \"passengers\": 5, \"distance\": 0.57, \"fare\": 4.5, \"tip\": 1.56, \"tolls\": 0.0, \"total\": 9.36, \"color\": \"yellow\", \"payment\": \"credit card\", \"pickup_zone\": \"Upper East Side South\", \"dropoff_zone\": \"Upper East Side South\", \"pickup_borough\": \"Manhattan\", \"dropoff_borough\": \"Manhattan\"}, {\"pickup\": \"2019-03-27T22:44:10\", \"dropoff\": \"2019-03-27T22:49:18\", \"passengers\": 1, \"distance\": 1.13, \"fare\": 6.0, \"tip\": 1.5, \"tolls\": 0.0, \"total\": 11.3, \"color\": \"yellow\", \"payment\": \"credit card\", \"pickup_zone\": \"Clinton East\", \"dropoff_zone\": \"West Chelsea/Hudson Yards\", \"pickup_borough\": \"Manhattan\", \"dropoff_borough\": \"Manhattan\"}, {\"pickup\": \"2019-03-21T13:40:19\", \"dropoff\": \"2019-03-21T13:42:43\", \"passengers\": 1, \"distance\": 0.3, \"fare\": 3.5, \"tip\": 1.35, \"tolls\": 0.0, \"total\": 8.15, \"color\": \"yellow\", \"payment\": \"credit card\", \"pickup_zone\": \"Penn Station/Madison Sq West\", \"dropoff_zone\": \"Penn Station/Madison Sq West\", \"pickup_borough\": \"Manhattan\", \"dropoff_borough\": \"Manhattan\"}, {\"pickup\": \"2019-03-03T07:21:40\", \"dropoff\": \"2019-03-03T07:39:12\", \"passengers\": 1, \"distance\": 7.2, \"fare\": 22.0, \"tip\": 7.55, \"tolls\": 0.0, \"total\": 32.85, \"color\": \"yellow\", \"payment\": \"credit card\", \"pickup_zone\": \"Midtown Center\", \"dropoff_zone\": \"World Trade Center\", \"pickup_borough\": \"Manhattan\", \"dropoff_borough\": \"Manhattan\"}, {\"pickup\": \"2019-03-18T21:16:42\", \"dropoff\": \"2019-03-18T21:27:49\", \"passengers\": 1, \"distance\": 3.0, \"fare\": 11.5, \"tip\": 3.06, \"tolls\": 0.0, \"total\": 18.36, \"color\": \"yellow\", \"payment\": \"credit card\", \"pickup_zone\": \"Clinton East\", \"dropoff_zone\": \"Upper East Side North\", \"pickup_borough\": \"Manhattan\", \"dropoff_borough\": \"Manhattan\"}, {\"pickup\": \"2019-03-01T14:39:19\", \"dropoff\": \"2019-03-01T14:49:18\", \"passengers\": 1, \"distance\": 0.72, \"fare\": 7.5, \"tip\": 1.0, \"tolls\": 0.0, \"total\": 11.8, \"color\": \"yellow\", \"payment\": \"credit card\", \"pickup_zone\": \"Midtown Center\", \"dropoff_zone\": \"Midtown East\", \"pickup_borough\": \"Manhattan\", \"dropoff_borough\": \"Manhattan\"}, {\"pickup\": \"2019-03-12T22:21:20\", \"dropoff\": \"2019-03-12T22:26:02\", \"passengers\": 1, \"distance\": 0.75, \"fare\": 5.0, \"tip\": 4.0, \"tolls\": 0.0, \"total\": 12.8, \"color\": \"yellow\", \"payment\": \"credit card\", \"pickup_zone\": \"Midtown Center\", \"dropoff_zone\": \"Midtown Center\", \"pickup_borough\": \"Manhattan\", \"dropoff_borough\": \"Manhattan\"}, {\"pickup\": \"2019-03-28T09:58:48\", \"dropoff\": \"2019-03-28T10:26:19\", \"passengers\": 1, \"distance\": 1.7, \"fare\": 17.0, \"tip\": 4.05, \"tolls\": 0.0, \"total\": 24.35, \"color\": \"yellow\", \"payment\": \"credit card\", \"pickup_zone\": \"Penn Station/Madison Sq West\", \"dropoff_zone\": \"Midtown East\", \"pickup_borough\": \"Manhattan\", \"dropoff_borough\": \"Manhattan\"}, {\"pickup\": \"2019-03-23T18:58:35\", \"dropoff\": \"2019-03-23T19:05:47\", \"passengers\": 2, \"distance\": 0.59, \"fare\": 6.0, \"tip\": 0.0, \"tolls\": 0.0, \"total\": 9.3, \"color\": \"yellow\", \"payment\": \"cash\", \"pickup_zone\": \"Penn Station/Madison Sq West\", \"dropoff_zone\": \"Flatiron\", \"pickup_borough\": \"Manhattan\", \"dropoff_borough\": \"Manhattan\"}, {\"pickup\": \"2019-03-26T16:10:01\", \"dropoff\": \"2019-03-26T16:14:18\", \"passengers\": 1, \"distance\": 0.47, \"fare\": 4.5, \"tip\": 1.0, \"tolls\": 0.0, \"total\": 9.8, \"color\": \"yellow\", \"payment\": \"credit card\", \"pickup_zone\": \"Midtown Center\", \"dropoff_zone\": \"Midtown Center\", \"pickup_borough\": \"Manhattan\", \"dropoff_borough\": \"Manhattan\"}, {\"pickup\": \"2019-03-31T16:41:36\", \"dropoff\": \"2019-03-31T16:56:41\", \"passengers\": 1, \"distance\": 0.98, \"fare\": 10.0, \"tip\": 2.66, \"tolls\": 0.0, \"total\": 15.96, \"color\": \"yellow\", \"payment\": \"credit card\", \"pickup_zone\": \"Penn Station/Madison Sq West\", \"dropoff_zone\": \"Kips Bay\", \"pickup_borough\": \"Manhattan\", \"dropoff_borough\": \"Manhattan\"}, {\"pickup\": \"2019-03-24T16:40:42\", \"dropoff\": \"2019-03-24T16:54:10\", \"passengers\": 6, \"distance\": 1.59, \"fare\": 10.0, \"tip\": 2.66, \"tolls\": 0.0, \"total\": 15.96, \"color\": \"yellow\", \"payment\": \"credit card\", \"pickup_zone\": \"Clinton East\", \"dropoff_zone\": \"Penn Station/Madison Sq West\", \"pickup_borough\": \"Manhattan\", \"dropoff_borough\": \"Manhattan\"}, {\"pickup\": \"2019-03-12T13:16:13\", \"dropoff\": \"2019-03-12T13:38:58\", \"passengers\": 2, \"distance\": 2.6, \"fare\": 16.0, \"tip\": 0.0, \"tolls\": 0.0, \"total\": 19.3, \"color\": \"yellow\", \"payment\": \"cash\", \"pickup_zone\": \"Penn Station/Madison Sq West\", \"dropoff_zone\": \"Upper East Side South\", \"pickup_borough\": \"Manhattan\", \"dropoff_borough\": \"Manhattan\"}, {\"pickup\": \"2019-03-16T11:17:33\", \"dropoff\": \"2019-03-16T11:22:10\", \"passengers\": 2, \"distance\": 1.4, \"fare\": 6.0, \"tip\": 2.3, \"tolls\": 0.0, \"total\": 11.6, \"color\": \"yellow\", \"payment\": \"credit card\", \"pickup_zone\": \"Upper East Side South\", \"dropoff_zone\": \"Yorkville West\", \"pickup_borough\": \"Manhattan\", \"dropoff_borough\": \"Manhattan\"}, {\"pickup\": \"2019-03-18T16:32:46\", \"dropoff\": \"2019-03-18T16:41:57\", \"passengers\": 1, \"distance\": 1.2, \"fare\": 7.5, \"tip\": 0.0, \"tolls\": 0.0, \"total\": 11.8, \"color\": \"yellow\", \"payment\": \"cash\", \"pickup_zone\": \"Midtown Center\", \"dropoff_zone\": \"Penn Station/Madison Sq West\", \"pickup_borough\": \"Manhattan\", \"dropoff_borough\": \"Manhattan\"}, {\"pickup\": \"2019-03-11T15:32:33\", \"dropoff\": \"2019-03-11T16:06:54\", \"passengers\": 1, \"distance\": 8.0, \"fare\": 29.5, \"tip\": 0.0, \"tolls\": 0.0, \"total\": 30.3, \"color\": \"yellow\", \"payment\": \"credit card\", \"pickup_zone\": \"Midtown Center\", \"dropoff_zone\": \"Washington Heights South\", \"pickup_borough\": \"Manhattan\", \"dropoff_borough\": \"Manhattan\"}, {\"pickup\": \"2019-03-02T12:18:02\", \"dropoff\": \"2019-03-02T12:37:42\", \"passengers\": 1, \"distance\": 3.25, \"fare\": 15.0, \"tip\": 3.66, \"tolls\": 0.0, \"total\": 21.96, \"color\": \"yellow\", \"payment\": \"credit card\", \"pickup_zone\": \"Penn Station/Madison Sq West\", \"dropoff_zone\": \"East Village\", \"pickup_borough\": \"Manhattan\", \"dropoff_borough\": \"Manhattan\"}, {\"pickup\": \"2019-03-23T07:56:10\", \"dropoff\": \"2019-03-23T08:02:34\", \"passengers\": 0, \"distance\": 1.0, \"fare\": 6.0, \"tip\": 0.0, \"tolls\": 0.0, \"total\": 9.3, \"color\": \"yellow\", \"payment\": \"cash\", \"pickup_zone\": \"Penn Station/Madison Sq West\", \"dropoff_zone\": \"West Chelsea/Hudson Yards\", \"pickup_borough\": \"Manhattan\", \"dropoff_borough\": \"Manhattan\"}, {\"pickup\": \"2019-03-10T18:54:29\", \"dropoff\": \"2019-03-10T19:05:40\", \"passengers\": 1, \"distance\": 1.62, \"fare\": 8.5, \"tip\": 1.0, \"tolls\": 0.0, \"total\": 12.8, \"color\": \"yellow\", \"payment\": \"credit card\", \"pickup_zone\": \"Penn Station/Madison Sq West\", \"dropoff_zone\": \"Greenwich Village North\", \"pickup_borough\": \"Manhattan\", \"dropoff_borough\": \"Manhattan\"}, {\"pickup\": \"2019-03-14T15:34:20\", \"dropoff\": \"2019-03-14T15:41:17\", \"passengers\": 1, \"distance\": 0.83, \"fare\": 6.0, \"tip\": 1.86, \"tolls\": 0.0, \"total\": 11.16, \"color\": \"yellow\", \"payment\": \"credit card\", \"pickup_zone\": \"Clinton East\", \"dropoff_zone\": \"East Chelsea\", \"pickup_borough\": \"Manhattan\", \"dropoff_borough\": \"Manhattan\"}, {\"pickup\": \"2019-03-05T00:54:56\", \"dropoff\": \"2019-03-05T01:11:28\", \"passengers\": 5, \"distance\": 4.53, \"fare\": 16.5, \"tip\": 0.0, \"tolls\": 0.0, \"total\": 20.3, \"color\": \"yellow\", \"payment\": \"cash\", \"pickup_zone\": \"Midtown Center\", \"dropoff_zone\": \"Astoria\", \"pickup_borough\": \"Manhattan\", \"dropoff_borough\": \"Queens\"}, {\"pickup\": \"2019-03-02T13:39:49\", \"dropoff\": \"2019-03-02T13:49:08\", \"passengers\": 1, \"distance\": 1.66, \"fare\": 8.0, \"tip\": 0.0, \"tolls\": 0.0, \"total\": 11.3, \"color\": \"yellow\", \"payment\": \"cash\", \"pickup_zone\": \"Upper East Side South\", \"dropoff_zone\": \"Lenox Hill East\", \"pickup_borough\": \"Manhattan\", \"dropoff_borough\": \"Manhattan\"}, {\"pickup\": \"2019-03-13T18:36:36\", \"dropoff\": \"2019-03-13T18:51:51\", \"passengers\": 2, \"distance\": 1.97, \"fare\": 11.5, \"tip\": 0.0, \"tolls\": 0.0, \"total\": 15.8, \"color\": \"yellow\", \"payment\": \"cash\", \"pickup_zone\": \"Upper East Side South\", \"dropoff_zone\": \"Lincoln Square East\", \"pickup_borough\": \"Manhattan\", \"dropoff_borough\": \"Manhattan\"}, {\"pickup\": \"2019-03-25T16:35:46\", \"dropoff\": \"2019-03-25T16:41:39\", \"passengers\": 1, \"distance\": 0.7, \"fare\": 5.5, \"tip\": 1.0, \"tolls\": 0.0, \"total\": 10.8, \"color\": \"yellow\", \"payment\": \"credit card\", \"pickup_zone\": \"Upper East Side South\", \"dropoff_zone\": \"Lenox Hill West\", \"pickup_borough\": \"Manhattan\", \"dropoff_borough\": \"Manhattan\"}, {\"pickup\": \"2019-03-06T19:39:06\", \"dropoff\": \"2019-03-06T19:42:36\", \"passengers\": 2, \"distance\": 0.67, \"fare\": 4.5, \"tip\": 2.64, \"tolls\": 0.0, \"total\": 11.44, \"color\": \"yellow\", \"payment\": \"credit card\", \"pickup_zone\": \"Upper East Side South\", \"dropoff_zone\": \"Upper East Side North\", \"pickup_borough\": \"Manhattan\", \"dropoff_borough\": \"Manhattan\"}, {\"pickup\": \"2019-03-02T14:04:19\", \"dropoff\": \"2019-03-02T14:12:25\", \"passengers\": 1, \"distance\": 1.5, \"fare\": 7.5, \"tip\": 1.62, \"tolls\": 0.0, \"total\": 12.42, \"color\": \"yellow\", \"payment\": \"credit card\", \"pickup_zone\": \"Clinton East\", \"dropoff_zone\": \"Upper East Side South\", \"pickup_borough\": \"Manhattan\", \"dropoff_borough\": \"Manhattan\"}, {\"pickup\": \"2019-03-05T01:27:35\", \"dropoff\": \"2019-03-05T01:51:45\", \"passengers\": 1, \"distance\": 12.7, \"fare\": 36.0, \"tip\": 2.0, \"tolls\": 0.0, \"total\": 41.8, \"color\": \"yellow\", \"payment\": \"credit card\", \"pickup_zone\": \"Penn Station/Madison Sq West\", \"dropoff_zone\": \"LaGuardia Airport\", \"pickup_borough\": \"Manhattan\", \"dropoff_borough\": \"Queens\"}, {\"pickup\": \"2019-03-21T15:15:31\", \"dropoff\": \"2019-03-21T15:21:27\", \"passengers\": 1, \"distance\": 1.0, \"fare\": 6.0, \"tip\": 2.0, \"tolls\": 0.0, \"total\": 11.3, \"color\": \"yellow\", \"payment\": \"credit card\", \"pickup_zone\": \"Penn Station/Madison Sq West\", \"dropoff_zone\": \"Union Sq\", \"pickup_borough\": \"Manhattan\", \"dropoff_borough\": \"Manhattan\"}, {\"pickup\": \"2019-03-10T07:07:41\", \"dropoff\": \"2019-03-10T07:13:26\", \"passengers\": 6, \"distance\": 1.07, \"fare\": 6.0, \"tip\": 2.32, \"tolls\": 0.0, \"total\": 11.62, \"color\": \"yellow\", \"payment\": \"credit card\", \"pickup_zone\": \"Midtown Center\", \"dropoff_zone\": \"Penn Station/Madison Sq West\", \"pickup_borough\": \"Manhattan\", \"dropoff_borough\": \"Manhattan\"}, {\"pickup\": \"2019-03-24T09:41:17\", \"dropoff\": \"2019-03-24T09:52:07\", \"passengers\": 2, \"distance\": 2.03, \"fare\": 9.5, \"tip\": 2.56, \"tolls\": 0.0, \"total\": 15.36, \"color\": \"yellow\", \"payment\": \"credit card\", \"pickup_zone\": \"Upper East Side South\", \"dropoff_zone\": \"Lincoln Square East\", \"pickup_borough\": \"Manhattan\", \"dropoff_borough\": \"Manhattan\"}, {\"pickup\": \"2019-03-25T19:53:30\", \"dropoff\": \"2019-03-25T20:03:42\", \"passengers\": 1, \"distance\": 3.2, \"fare\": 11.5, \"tip\": 0.0, \"tolls\": 0.0, \"total\": 15.8, \"color\": \"yellow\", \"payment\": \"cash\", \"pickup_zone\": \"Clinton East\", \"dropoff_zone\": \"Upper West Side South\", \"pickup_borough\": \"Manhattan\", \"dropoff_borough\": \"Manhattan\"}, {\"pickup\": \"2019-03-24T20:59:00\", \"dropoff\": \"2019-03-24T21:04:03\", \"passengers\": 1, \"distance\": 0.61, \"fare\": 5.0, \"tip\": 1.76, \"tolls\": 0.0, \"total\": 10.56, \"color\": \"yellow\", \"payment\": \"credit card\", \"pickup_zone\": \"Penn Station/Madison Sq West\", \"dropoff_zone\": \"Midtown South\", \"pickup_borough\": \"Manhattan\", \"dropoff_borough\": \"Manhattan\"}, {\"pickup\": \"2019-03-27T00:06:26\", \"dropoff\": \"2019-03-27T00:12:44\", \"passengers\": 1, \"distance\": 2.2, \"fare\": 8.0, \"tip\": 0.0, \"tolls\": 0.0, \"total\": 11.8, \"color\": \"yellow\", \"payment\": \"cash\", \"pickup_zone\": \"Clinton East\", \"dropoff_zone\": \"Upper West Side South\", \"pickup_borough\": \"Manhattan\", \"dropoff_borough\": \"Manhattan\"}, {\"pickup\": \"2019-03-02T03:09:41\", \"dropoff\": \"2019-03-02T03:15:02\", \"passengers\": 1, \"distance\": 1.3, \"fare\": 6.5, \"tip\": 1.0, \"tolls\": 0.0, \"total\": 11.3, \"color\": \"yellow\", \"payment\": \"credit card\", \"pickup_zone\": \"Midtown Center\", \"dropoff_zone\": \"Midtown South\", \"pickup_borough\": \"Manhattan\", \"dropoff_borough\": \"Manhattan\"}, {\"pickup\": \"2019-03-14T12:02:54\", \"dropoff\": \"2019-03-14T12:09:26\", \"passengers\": 1, \"distance\": 0.97, \"fare\": 6.0, \"tip\": 2.32, \"tolls\": 0.0, \"total\": 11.62, \"color\": \"yellow\", \"payment\": \"credit card\", \"pickup_zone\": \"Midtown Center\", \"dropoff_zone\": \"Clinton East\", \"pickup_borough\": \"Manhattan\", \"dropoff_borough\": \"Manhattan\"}, {\"pickup\": \"2019-03-01T05:50:17\", \"dropoff\": \"2019-03-01T05:54:59\", \"passengers\": 1, \"distance\": 0.6, \"fare\": 5.0, \"tip\": 0.0, \"tolls\": 0.0, \"total\": 8.8, \"color\": \"yellow\", \"payment\": \"cash\", \"pickup_zone\": \"Penn Station/Madison Sq West\", \"dropoff_zone\": \"Midtown South\", \"pickup_borough\": \"Manhattan\", \"dropoff_borough\": \"Manhattan\"}, {\"pickup\": \"2019-03-15T08:34:06\", \"dropoff\": \"2019-03-15T08:45:10\", \"passengers\": 1, \"distance\": 1.4, \"fare\": 8.5, \"tip\": 3.54, \"tolls\": 0.0, \"total\": 15.34, \"color\": \"yellow\", \"payment\": \"credit card\", \"pickup_zone\": \"Upper East Side South\", \"dropoff_zone\": \"Midtown Center\", \"pickup_borough\": \"Manhattan\", \"dropoff_borough\": \"Manhattan\"}, {\"pickup\": \"2019-03-26T09:49:38\", \"dropoff\": \"2019-03-26T10:15:35\", \"passengers\": 4, \"distance\": 4.19, \"fare\": 18.5, \"tip\": 0.0, \"tolls\": 0.0, \"total\": 21.8, \"color\": \"yellow\", \"payment\": \"cash\", \"pickup_zone\": \"Penn Station/Madison Sq West\", \"dropoff_zone\": \"TriBeCa/Civic Center\", \"pickup_borough\": \"Manhattan\", \"dropoff_borough\": \"Manhattan\"}, {\"pickup\": \"2019-03-07T15:41:20\", \"dropoff\": \"2019-03-07T15:53:22\", \"passengers\": 2, \"distance\": 1.3, \"fare\": 9.5, \"tip\": 0.0, \"tolls\": 0.0, \"total\": 12.8, \"color\": \"yellow\", \"payment\": \"cash\", \"pickup_zone\": \"Upper East Side South\", \"dropoff_zone\": \"East Harlem South\", \"pickup_borough\": \"Manhattan\", \"dropoff_borough\": \"Manhattan\"}, {\"pickup\": \"2019-03-09T14:42:15\", \"dropoff\": \"2019-03-09T14:55:56\", \"passengers\": 1, \"distance\": 1.06, \"fare\": 9.5, \"tip\": 1.0, \"tolls\": 0.0, \"total\": 13.8, \"color\": \"yellow\", \"payment\": \"credit card\", \"pickup_zone\": \"Penn Station/Madison Sq West\", \"dropoff_zone\": \"West Chelsea/Hudson Yards\", \"pickup_borough\": \"Manhattan\", \"dropoff_borough\": \"Manhattan\"}, {\"pickup\": \"2019-03-21T12:11:08\", \"dropoff\": \"2019-03-21T12:30:09\", \"passengers\": 1, \"distance\": 0.47, \"fare\": 12.0, \"tip\": 3.06, \"tolls\": 0.0, \"total\": 18.36, \"color\": \"yellow\", \"payment\": \"credit card\", \"pickup_zone\": \"Clinton East\", \"dropoff_zone\": \"Garment District\", \"pickup_borough\": \"Manhattan\", \"dropoff_borough\": \"Manhattan\"}, {\"pickup\": \"2019-03-27T20:45:21\", \"dropoff\": \"2019-03-27T20:54:45\", \"passengers\": 2, \"distance\": 1.44, \"fare\": 8.0, \"tip\": 2.36, \"tolls\": 0.0, \"total\": 14.16, \"color\": \"yellow\", \"payment\": \"credit card\", \"pickup_zone\": \"Upper East Side South\", \"dropoff_zone\": \"Kips Bay\", \"pickup_borough\": \"Manhattan\", \"dropoff_borough\": \"Manhattan\"}, {\"pickup\": \"2019-03-01T14:31:20\", \"dropoff\": \"2019-03-01T14:51:55\", \"passengers\": 6, \"distance\": 1.36, \"fare\": 13.0, \"tip\": 0.0, \"tolls\": 0.0, \"total\": 16.3, \"color\": \"yellow\", \"payment\": \"cash\", \"pickup_zone\": \"Midtown Center\", \"dropoff_zone\": \"Midtown East\", \"pickup_borough\": \"Manhattan\", \"dropoff_borough\": \"Manhattan\"}, {\"pickup\": \"2019-03-15T10:53:53\", \"dropoff\": \"2019-03-15T11:12:00\", \"passengers\": 1, \"distance\": 1.7, \"fare\": 12.0, \"tip\": 3.05, \"tolls\": 0.0, \"total\": 18.35, \"color\": \"yellow\", \"payment\": \"credit card\", \"pickup_zone\": \"Penn Station/Madison Sq West\", \"dropoff_zone\": \"Midtown East\", \"pickup_borough\": \"Manhattan\", \"dropoff_borough\": \"Manhattan\"}, {\"pickup\": \"2019-03-23T00:30:14\", \"dropoff\": \"2019-03-23T00:46:42\", \"passengers\": 1, \"distance\": 4.49, \"fare\": 15.5, \"tip\": 3.86, \"tolls\": 0.0, \"total\": 23.16, \"color\": \"yellow\", \"payment\": \"credit card\", \"pickup_zone\": \"Penn Station/Madison Sq West\", \"dropoff_zone\": \"Yorkville West\", \"pickup_borough\": \"Manhattan\", \"dropoff_borough\": \"Manhattan\"}, {\"pickup\": \"2019-03-20T08:24:22\", \"dropoff\": \"2019-03-20T08:28:31\", \"passengers\": 1, \"distance\": 0.59, \"fare\": 4.5, \"tip\": 1.56, \"tolls\": 0.0, \"total\": 9.36, \"color\": \"yellow\", \"payment\": \"credit card\", \"pickup_zone\": \"Clinton East\", \"dropoff_zone\": \"Clinton West\", \"pickup_borough\": \"Manhattan\", \"dropoff_borough\": \"Manhattan\"}, {\"pickup\": \"2019-03-01T20:41:45\", \"dropoff\": \"2019-03-01T20:50:16\", \"passengers\": 1, \"distance\": 1.0, \"fare\": 7.0, \"tip\": 2.7, \"tolls\": 0.0, \"total\": 13.5, \"color\": \"yellow\", \"payment\": \"credit card\", \"pickup_zone\": \"Midtown Center\", \"dropoff_zone\": \"Garment District\", \"pickup_borough\": \"Manhattan\", \"dropoff_borough\": \"Manhattan\"}, {\"pickup\": \"2019-03-22T23:25:18\", \"dropoff\": \"2019-03-22T23:31:45\", \"passengers\": 5, \"distance\": 0.88, \"fare\": 6.0, \"tip\": 1.5, \"tolls\": 0.0, \"total\": 11.3, \"color\": \"yellow\", \"payment\": \"credit card\", \"pickup_zone\": \"Clinton East\", \"dropoff_zone\": \"Midtown Center\", \"pickup_borough\": \"Manhattan\", \"dropoff_borough\": \"Manhattan\"}, {\"pickup\": \"2019-03-02T00:06:36\", \"dropoff\": \"2019-03-02T00:08:44\", \"passengers\": 2, \"distance\": 0.3, \"fare\": 3.5, \"tip\": 0.0, \"tolls\": 0.0, \"total\": 7.3, \"color\": \"yellow\", \"payment\": \"cash\", \"pickup_zone\": \"Upper East Side South\", \"dropoff_zone\": \"Upper East Side South\", \"pickup_borough\": \"Manhattan\", \"dropoff_borough\": \"Manhattan\"}, {\"pickup\": \"2019-03-11T10:23:06\", \"dropoff\": \"2019-03-11T10:27:57\", \"passengers\": 1, \"distance\": 0.6, \"fare\": 5.0, \"tip\": 1.0, \"tolls\": 0.0, \"total\": 9.3, \"color\": \"yellow\", \"payment\": \"credit card\", \"pickup_zone\": \"Clinton East\", \"dropoff_zone\": \"Times Sq/Theatre District\", \"pickup_borough\": \"Manhattan\", \"dropoff_borough\": \"Manhattan\"}, {\"pickup\": \"2019-03-12T11:08:05\", \"dropoff\": \"2019-03-12T11:21:02\", \"passengers\": 1, \"distance\": 2.0, \"fare\": 10.0, \"tip\": 2.65, \"tolls\": 0.0, \"total\": 15.95, \"color\": \"yellow\", \"payment\": \"credit card\", \"pickup_zone\": \"Penn Station/Madison Sq West\", \"dropoff_zone\": \"East Village\", \"pickup_borough\": \"Manhattan\", \"dropoff_borough\": \"Manhattan\"}, {\"pickup\": \"2019-03-21T19:13:56\", \"dropoff\": \"2019-03-21T19:22:40\", \"passengers\": 1, \"distance\": 0.9, \"fare\": 7.0, \"tip\": 1.7, \"tolls\": 0.0, \"total\": 13.0, \"color\": \"yellow\", \"payment\": \"credit card\", \"pickup_zone\": \"Clinton East\", \"dropoff_zone\": \"Lincoln Square East\", \"pickup_borough\": \"Manhattan\", \"dropoff_borough\": \"Manhattan\"}, {\"pickup\": \"2019-03-05T20:44:46\", \"dropoff\": \"2019-03-05T20:52:02\", \"passengers\": 1, \"distance\": 1.01, \"fare\": 6.0, \"tip\": 1.96, \"tolls\": 0.0, \"total\": 11.76, \"color\": \"yellow\", \"payment\": \"credit card\", \"pickup_zone\": \"Penn Station/Madison Sq West\", \"dropoff_zone\": \"Union Sq\", \"pickup_borough\": \"Manhattan\", \"dropoff_borough\": \"Manhattan\"}, {\"pickup\": \"2019-03-13T10:11:30\", \"dropoff\": \"2019-03-13T10:20:51\", \"passengers\": 1, \"distance\": 0.8, \"fare\": 7.0, \"tip\": 2.05, \"tolls\": 0.0, \"total\": 12.35, \"color\": \"yellow\", \"payment\": \"credit card\", \"pickup_zone\": \"Upper East Side South\", \"dropoff_zone\": \"Lenox Hill East\", \"pickup_borough\": \"Manhattan\", \"dropoff_borough\": \"Manhattan\"}, {\"pickup\": \"2019-03-20T19:30:25\", \"dropoff\": \"2019-03-20T19:44:19\", \"passengers\": 1, \"distance\": 2.1, \"fare\": 10.5, \"tip\": 2.95, \"tolls\": 0.0, \"total\": 17.75, \"color\": \"yellow\", \"payment\": \"credit card\", \"pickup_zone\": \"Midtown Center\", \"dropoff_zone\": \"East Chelsea\", \"pickup_borough\": \"Manhattan\", \"dropoff_borough\": \"Manhattan\"}, {\"pickup\": \"2019-03-12T09:30:20\", \"dropoff\": \"2019-03-12T09:39:41\", \"passengers\": 2, \"distance\": 0.9, \"fare\": 7.5, \"tip\": 1.0, \"tolls\": 0.0, \"total\": 11.8, \"color\": \"yellow\", \"payment\": \"credit card\", \"pickup_zone\": \"Clinton East\", \"dropoff_zone\": \"West Chelsea/Hudson Yards\", \"pickup_borough\": \"Manhattan\", \"dropoff_borough\": \"Manhattan\"}, {\"pickup\": \"2019-03-20T13:44:20\", \"dropoff\": \"2019-03-20T14:05:46\", \"passengers\": 1, \"distance\": 1.8, \"fare\": 14.0, \"tip\": 4.3, \"tolls\": 0.0, \"total\": 21.6, \"color\": \"yellow\", \"payment\": \"credit card\", \"pickup_zone\": \"Penn Station/Madison Sq West\", \"dropoff_zone\": \"UN/Turtle Bay South\", \"pickup_borough\": \"Manhattan\", \"dropoff_borough\": \"Manhattan\"}, {\"pickup\": \"2019-03-28T10:24:48\", \"dropoff\": \"2019-03-28T11:02:00\", \"passengers\": 1, \"distance\": 3.1, \"fare\": 22.5, \"tip\": 0.0, \"tolls\": 0.0, \"total\": 25.8, \"color\": \"yellow\", \"payment\": \"cash\", \"pickup_zone\": \"Penn Station/Madison Sq West\", \"dropoff_zone\": \"Seaport\", \"pickup_borough\": \"Manhattan\", \"dropoff_borough\": \"Manhattan\"}, {\"pickup\": \"2019-03-11T18:37:27\", \"dropoff\": \"2019-03-11T18:47:08\", \"passengers\": 2, \"distance\": 1.34, \"fare\": 8.0, \"tip\": 1.84, \"tolls\": 0.0, \"total\": 14.14, \"color\": \"yellow\", \"payment\": \"credit card\", \"pickup_zone\": \"Upper East Side South\", \"dropoff_zone\": \"Murray Hill\", \"pickup_borough\": \"Manhattan\", \"dropoff_borough\": \"Manhattan\"}, {\"pickup\": \"2019-03-12T20:19:29\", \"dropoff\": \"2019-03-12T20:32:32\", \"passengers\": 1, \"distance\": 1.4, \"fare\": 9.5, \"tip\": 2.65, \"tolls\": 0.0, \"total\": 15.95, \"color\": \"yellow\", \"payment\": \"credit card\", \"pickup_zone\": \"Penn Station/Madison Sq West\", \"dropoff_zone\": \"Kips Bay\", \"pickup_borough\": \"Manhattan\", \"dropoff_borough\": \"Manhattan\"}, {\"pickup\": \"2019-03-23T11:23:51\", \"dropoff\": \"2019-03-23T11:28:12\", \"passengers\": 1, \"distance\": 0.49, \"fare\": 4.5, \"tip\": 0.0, \"tolls\": 0.0, \"total\": 7.8, \"color\": \"yellow\", \"payment\": \"cash\", \"pickup_zone\": \"Upper East Side South\", \"dropoff_zone\": \"Midtown North\", \"pickup_borough\": \"Manhattan\", \"dropoff_borough\": \"Manhattan\"}, {\"pickup\": \"2019-03-28T12:51:26\", \"dropoff\": \"2019-03-28T13:04:48\", \"passengers\": 1, \"distance\": 1.81, \"fare\": 10.5, \"tip\": 4.14, \"tolls\": 0.0, \"total\": 17.94, \"color\": \"yellow\", \"payment\": \"credit card\", \"pickup_zone\": \"Clinton East\", \"dropoff_zone\": \"Lincoln Square East\", \"pickup_borough\": \"Manhattan\", \"dropoff_borough\": \"Manhattan\"}, {\"pickup\": \"2019-03-27T13:07:39\", \"dropoff\": \"2019-03-27T13:13:19\", \"passengers\": 1, \"distance\": 0.95, \"fare\": 6.0, \"tip\": 0.0, \"tolls\": 0.0, \"total\": 9.3, \"color\": \"yellow\", \"payment\": \"cash\", \"pickup_zone\": \"Upper East Side South\", \"dropoff_zone\": \"Upper East Side North\", \"pickup_borough\": \"Manhattan\", \"dropoff_borough\": \"Manhattan\"}, {\"pickup\": \"2019-03-28T19:07:31\", \"dropoff\": \"2019-03-28T19:24:12\", \"passengers\": 4, \"distance\": 1.5, \"fare\": 11.5, \"tip\": 2.0, \"tolls\": 0.0, \"total\": 17.8, \"color\": \"yellow\", \"payment\": \"credit card\", \"pickup_zone\": \"Penn Station/Madison Sq West\", \"dropoff_zone\": \"Gramercy\", \"pickup_borough\": \"Manhattan\", \"dropoff_borough\": \"Manhattan\"}, {\"pickup\": \"2019-03-14T20:45:41\", \"dropoff\": \"2019-03-14T20:55:03\", \"passengers\": 1, \"distance\": 1.8, \"fare\": 9.0, \"tip\": 2.56, \"tolls\": 0.0, \"total\": 15.36, \"color\": \"yellow\", \"payment\": \"credit card\", \"pickup_zone\": \"Midtown Center\", \"dropoff_zone\": \"Central Park\", \"pickup_borough\": \"Manhattan\", \"dropoff_borough\": \"Manhattan\"}, {\"pickup\": \"2019-03-15T16:07:05\", \"dropoff\": \"2019-03-15T16:17:55\", \"passengers\": 1, \"distance\": 1.0, \"fare\": 8.0, \"tip\": 0.0, \"tolls\": 0.0, \"total\": 12.3, \"color\": \"yellow\", \"payment\": \"cash\", \"pickup_zone\": \"Midtown Center\", \"dropoff_zone\": \"Garment District\", \"pickup_borough\": \"Manhattan\", \"dropoff_borough\": \"Manhattan\"}, {\"pickup\": \"2019-03-13T13:56:13\", \"dropoff\": \"2019-03-13T14:06:20\", \"passengers\": 1, \"distance\": 0.6, \"fare\": 7.5, \"tip\": 2.15, \"tolls\": 0.0, \"total\": 12.95, \"color\": \"yellow\", \"payment\": \"credit card\", \"pickup_zone\": \"Midtown Center\", \"dropoff_zone\": \"Sutton Place/Turtle Bay North\", \"pickup_borough\": \"Manhattan\", \"dropoff_borough\": \"Manhattan\"}, {\"pickup\": \"2019-03-26T14:34:30\", \"dropoff\": \"2019-03-26T14:52:27\", \"passengers\": 1, \"distance\": 2.4, \"fare\": 13.0, \"tip\": 3.26, \"tolls\": 0.0, \"total\": 19.56, \"color\": \"yellow\", \"payment\": \"credit card\", \"pickup_zone\": \"Upper East Side South\", \"dropoff_zone\": \"Clinton East\", \"pickup_borough\": \"Manhattan\", \"dropoff_borough\": \"Manhattan\"}, {\"pickup\": \"2019-03-27T19:21:50\", \"dropoff\": \"2019-03-27T19:29:21\", \"passengers\": 1, \"distance\": 1.19, \"fare\": 7.5, \"tip\": 1.77, \"tolls\": 0.0, \"total\": 13.57, \"color\": \"yellow\", \"payment\": \"credit card\", \"pickup_zone\": \"Midtown Center\", \"dropoff_zone\": \"Lenox Hill West\", \"pickup_borough\": \"Manhattan\", \"dropoff_borough\": \"Manhattan\"}, {\"pickup\": \"2019-03-17T14:09:50\", \"dropoff\": \"2019-03-17T14:16:34\", \"passengers\": 1, \"distance\": 0.77, \"fare\": 6.0, \"tip\": 2.32, \"tolls\": 0.0, \"total\": 11.62, \"color\": \"yellow\", \"payment\": \"credit card\", \"pickup_zone\": \"Clinton East\", \"dropoff_zone\": \"Clinton West\", \"pickup_borough\": \"Manhattan\", \"dropoff_borough\": \"Manhattan\"}, {\"pickup\": \"2019-03-17T12:25:35\", \"dropoff\": \"2019-03-17T13:05:53\", \"passengers\": 1, \"distance\": 15.83, \"fare\": 48.0, \"tip\": 11.41, \"tolls\": 5.76, \"total\": 68.47, \"color\": \"yellow\", \"payment\": \"credit card\", \"pickup_zone\": \"Clinton East\", \"dropoff_zone\": \"LaGuardia Airport\", \"pickup_borough\": \"Manhattan\", \"dropoff_borough\": \"Queens\"}, {\"pickup\": \"2019-03-22T19:38:40\", \"dropoff\": \"2019-03-22T19:56:26\", \"passengers\": 1, \"distance\": 3.1, \"fare\": 14.5, \"tip\": 4.7, \"tolls\": 0.0, \"total\": 23.5, \"color\": \"yellow\", \"payment\": \"credit card\", \"pickup_zone\": \"Penn Station/Madison Sq West\", \"dropoff_zone\": \"TriBeCa/Civic Center\", \"pickup_borough\": \"Manhattan\", \"dropoff_borough\": \"Manhattan\"}, {\"pickup\": \"2019-03-24T22:59:07\", \"dropoff\": \"2019-03-24T23:06:34\", \"passengers\": 2, \"distance\": 1.46, \"fare\": 7.5, \"tip\": 2.26, \"tolls\": 0.0, \"total\": 13.56, \"color\": \"yellow\", \"payment\": \"credit card\", \"pickup_zone\": \"Penn Station/Madison Sq West\", \"dropoff_zone\": \"Times Sq/Theatre District\", \"pickup_borough\": \"Manhattan\", \"dropoff_borough\": \"Manhattan\"}, {\"pickup\": \"2019-03-20T15:12:12\", \"dropoff\": \"2019-03-20T16:17:57\", \"passengers\": 1, \"distance\": 11.4, \"fare\": 45.5, \"tip\": 0.0, \"tolls\": 5.76, \"total\": 52.06, \"color\": \"yellow\", \"payment\": \"credit card\", \"pickup_zone\": \"Midtown Center\", \"dropoff_zone\": \"Briarwood/Jamaica Hills\", \"pickup_borough\": \"Manhattan\", \"dropoff_borough\": \"Queens\"}, {\"pickup\": \"2019-03-13T14:26:56\", \"dropoff\": \"2019-03-13T15:10:59\", \"passengers\": 1, \"distance\": 8.1, \"fare\": 32.0, \"tip\": 8.21, \"tolls\": 5.76, \"total\": 49.27, \"color\": \"yellow\", \"payment\": \"credit card\", \"pickup_zone\": \"Penn Station/Madison Sq West\", \"dropoff_zone\": \"Rego Park\", \"pickup_borough\": \"Manhattan\", \"dropoff_borough\": \"Queens\"}, {\"pickup\": \"2019-03-05T21:34:02\", \"dropoff\": \"2019-03-05T21:47:17\", \"passengers\": 1, \"distance\": 1.7, \"fare\": 10.0, \"tip\": 2.75, \"tolls\": 0.0, \"total\": 16.55, \"color\": \"yellow\", \"payment\": \"credit card\", \"pickup_zone\": \"Upper East Side South\", \"dropoff_zone\": \"Garment District\", \"pickup_borough\": \"Manhattan\", \"dropoff_borough\": \"Manhattan\"}, {\"pickup\": \"2019-03-17T20:38:14\", \"dropoff\": \"2019-03-17T20:46:50\", \"passengers\": 1, \"distance\": 1.1, \"fare\": 7.0, \"tip\": 0.0, \"tolls\": 0.0, \"total\": 10.8, \"color\": \"yellow\", \"payment\": \"cash\", \"pickup_zone\": \"Clinton East\", \"dropoff_zone\": \"Garment District\", \"pickup_borough\": \"Manhattan\", \"dropoff_borough\": \"Manhattan\"}, {\"pickup\": \"2019-03-23T10:51:45\", \"dropoff\": \"2019-03-23T11:05:05\", \"passengers\": 1, \"distance\": 2.91, \"fare\": 12.0, \"tip\": 0.01, \"tolls\": 0.0, \"total\": 15.31, \"color\": \"yellow\", \"payment\": \"credit card\", \"pickup_zone\": \"Penn Station/Madison Sq West\", \"dropoff_zone\": \"Upper East Side South\", \"pickup_borough\": \"Manhattan\", \"dropoff_borough\": \"Manhattan\"}, {\"pickup\": \"2019-03-05T15:31:06\", \"dropoff\": \"2019-03-05T15:37:27\", \"passengers\": 1, \"distance\": 1.0, \"fare\": 6.0, \"tip\": 1.3, \"tolls\": 0.0, \"total\": 10.6, \"color\": \"yellow\", \"payment\": \"credit card\", \"pickup_zone\": \"Midtown Center\", \"dropoff_zone\": \"Upper East Side South\", \"pickup_borough\": \"Manhattan\", \"dropoff_borough\": \"Manhattan\"}, {\"pickup\": \"2019-03-19T16:53:04\", \"dropoff\": \"2019-03-19T16:56:52\", \"passengers\": 1, \"distance\": 0.94, \"fare\": 5.0, \"tip\": 1.86, \"tolls\": 0.0, \"total\": 11.16, \"color\": \"yellow\", \"payment\": \"credit card\", \"pickup_zone\": \"Upper East Side South\", \"dropoff_zone\": \"Lincoln Square East\", \"pickup_borough\": \"Manhattan\", \"dropoff_borough\": \"Manhattan\"}, {\"pickup\": \"2019-03-10T15:02:22\", \"dropoff\": \"2019-03-10T15:19:49\", \"passengers\": 2, \"distance\": 3.26, \"fare\": 15.0, \"tip\": 3.66, \"tolls\": 0.0, \"total\": 21.96, \"color\": \"yellow\", \"payment\": \"credit card\", \"pickup_zone\": \"Clinton East\", \"dropoff_zone\": \"Long Island City/Hunters Point\", \"pickup_borough\": \"Manhattan\", \"dropoff_borough\": \"Queens\"}, {\"pickup\": \"2019-03-04T20:58:12\", \"dropoff\": \"2019-03-04T21:12:27\", \"passengers\": 6, \"distance\": 3.95, \"fare\": 14.0, \"tip\": 3.56, \"tolls\": 0.0, \"total\": 21.36, \"color\": \"yellow\", \"payment\": \"credit card\", \"pickup_zone\": \"Penn Station/Madison Sq West\", \"dropoff_zone\": \"Bloomingdale\", \"pickup_borough\": \"Manhattan\", \"dropoff_borough\": \"Manhattan\"}, {\"pickup\": \"2019-03-12T08:32:20\", \"dropoff\": \"2019-03-12T08:46:05\", \"passengers\": 1, \"distance\": 2.2, \"fare\": 11.0, \"tip\": 0.0, \"tolls\": 0.0, \"total\": 14.3, \"color\": \"yellow\", \"payment\": \"cash\", \"pickup_zone\": \"Midtown Center\", \"dropoff_zone\": \"East Chelsea\", \"pickup_borough\": \"Manhattan\", \"dropoff_borough\": \"Manhattan\"}, {\"pickup\": \"2019-03-13T22:39:33\", \"dropoff\": \"2019-03-13T22:48:27\", \"passengers\": 2, \"distance\": 1.94, \"fare\": 8.5, \"tip\": 3.08, \"tolls\": 0.0, \"total\": 15.38, \"color\": \"yellow\", \"payment\": \"credit card\", \"pickup_zone\": \"Clinton East\", \"dropoff_zone\": \"Flatiron\", \"pickup_borough\": \"Manhattan\", \"dropoff_borough\": \"Manhattan\"}, {\"pickup\": \"2019-03-15T04:42:27\", \"dropoff\": \"2019-03-15T04:54:00\", \"passengers\": 1, \"distance\": 4.1, \"fare\": 14.0, \"tip\": 4.45, \"tolls\": 0.0, \"total\": 22.25, \"color\": \"yellow\", \"payment\": \"credit card\", \"pickup_zone\": \"Clinton East\", \"dropoff_zone\": \"TriBeCa/Civic Center\", \"pickup_borough\": \"Manhattan\", \"dropoff_borough\": \"Manhattan\"}, {\"pickup\": \"2019-03-21T18:37:31\", \"dropoff\": \"2019-03-21T18:48:02\", \"passengers\": 6, \"distance\": 2.05, \"fare\": 9.0, \"tip\": 2.66, \"tolls\": 0.0, \"total\": 15.96, \"color\": \"yellow\", \"payment\": \"credit card\", \"pickup_zone\": \"Clinton East\", \"dropoff_zone\": \"Upper West Side South\", \"pickup_borough\": \"Manhattan\", \"dropoff_borough\": \"Manhattan\"}, {\"pickup\": \"2019-03-06T15:57:11\", \"dropoff\": \"2019-03-06T16:11:56\", \"passengers\": 6, \"distance\": 1.94, \"fare\": 10.5, \"tip\": 3.45, \"tolls\": 0.0, \"total\": 17.25, \"color\": \"yellow\", \"payment\": \"credit card\", \"pickup_zone\": \"Penn Station/Madison Sq West\", \"dropoff_zone\": \"Midtown East\", \"pickup_borough\": \"Manhattan\", \"dropoff_borough\": \"Manhattan\"}, {\"pickup\": \"2019-03-11T08:48:37\", \"dropoff\": \"2019-03-11T08:59:35\", \"passengers\": 1, \"distance\": 1.6, \"fare\": 9.5, \"tip\": 1.0, \"tolls\": 0.0, \"total\": 13.8, \"color\": \"yellow\", \"payment\": \"credit card\", \"pickup_zone\": \"Penn Station/Madison Sq West\", \"dropoff_zone\": \"Midtown North\", \"pickup_borough\": \"Manhattan\", \"dropoff_borough\": \"Manhattan\"}, {\"pickup\": \"2019-03-12T20:28:02\", \"dropoff\": \"2019-03-12T20:43:16\", \"passengers\": 1, \"distance\": 2.8, \"fare\": 12.0, \"tip\": 3.15, \"tolls\": 0.0, \"total\": 18.95, \"color\": \"yellow\", \"payment\": \"credit card\", \"pickup_zone\": \"Upper East Side South\", \"dropoff_zone\": \"East Village\", \"pickup_borough\": \"Manhattan\", \"dropoff_borough\": \"Manhattan\"}, {\"pickup\": \"2019-03-21T07:18:32\", \"dropoff\": \"2019-03-21T07:26:04\", \"passengers\": 1, \"distance\": 1.1, \"fare\": 7.0, \"tip\": 2.05, \"tolls\": 0.0, \"total\": 12.35, \"color\": \"yellow\", \"payment\": \"credit card\", \"pickup_zone\": \"Penn Station/Madison Sq West\", \"dropoff_zone\": \"Midtown North\", \"pickup_borough\": \"Manhattan\", \"dropoff_borough\": \"Manhattan\"}, {\"pickup\": \"2019-03-28T21:08:58\", \"dropoff\": \"2019-03-28T21:26:12\", \"passengers\": 3, \"distance\": 2.68, \"fare\": 12.5, \"tip\": 0.0, \"tolls\": 0.0, \"total\": 16.3, \"color\": \"yellow\", \"payment\": \"cash\", \"pickup_zone\": \"Midtown Center\", \"dropoff_zone\": \"Greenwich Village North\", \"pickup_borough\": \"Manhattan\", \"dropoff_borough\": \"Manhattan\"}, {\"pickup\": \"2019-03-31T13:33:34\", \"dropoff\": \"2019-03-31T13:37:02\", \"passengers\": 2, \"distance\": 0.8, \"fare\": 4.5, \"tip\": 0.0, \"tolls\": 0.0, \"total\": 7.8, \"color\": \"yellow\", \"payment\": \"cash\", \"pickup_zone\": \"Upper East Side South\", \"dropoff_zone\": \"Central Park\", \"pickup_borough\": \"Manhattan\", \"dropoff_borough\": \"Manhattan\"}, {\"pickup\": \"2019-03-18T08:28:43\", \"dropoff\": \"2019-03-18T08:34:02\", \"passengers\": 3, \"distance\": 0.55, \"fare\": 5.0, \"tip\": 3.0, \"tolls\": 0.0, \"total\": 11.3, \"color\": \"yellow\", \"payment\": \"credit card\", \"pickup_zone\": \"Upper East Side South\", \"dropoff_zone\": \"Lenox Hill East\", \"pickup_borough\": \"Manhattan\", \"dropoff_borough\": \"Manhattan\"}, {\"pickup\": \"2019-03-20T16:15:36\", \"dropoff\": \"2019-03-20T17:20:42\", \"passengers\": 1, \"distance\": 10.2, \"fare\": 43.0, \"tip\": 0.0, \"tolls\": 0.0, \"total\": 46.3, \"color\": \"yellow\", \"payment\": \"cash\", \"pickup_zone\": \"Midtown Center\", \"dropoff_zone\": \"Parkchester\", \"pickup_borough\": \"Manhattan\", \"dropoff_borough\": \"Bronx\"}, {\"pickup\": \"2019-03-07T19:39:20\", \"dropoff\": \"2019-03-07T20:02:32\", \"passengers\": 1, \"distance\": 3.8, \"fare\": 17.5, \"tip\": 4.35, \"tolls\": 0.0, \"total\": 26.15, \"color\": \"yellow\", \"payment\": \"credit card\", \"pickup_zone\": \"Penn Station/Madison Sq West\", \"dropoff_zone\": \"Two Bridges/Seward Park\", \"pickup_borough\": \"Manhattan\", \"dropoff_borough\": \"Manhattan\"}, {\"pickup\": \"2019-03-13T13:16:27\", \"dropoff\": \"2019-03-13T13:29:50\", \"passengers\": 1, \"distance\": 1.93, \"fare\": 10.5, \"tip\": 2.76, \"tolls\": 0.0, \"total\": 16.56, \"color\": \"yellow\", \"payment\": \"credit card\", \"pickup_zone\": \"Upper East Side South\", \"dropoff_zone\": \"Kips Bay\", \"pickup_borough\": \"Manhattan\", \"dropoff_borough\": \"Manhattan\"}, {\"pickup\": \"2019-03-01T22:57:38\", \"dropoff\": \"2019-03-01T23:10:48\", \"passengers\": 1, \"distance\": 2.24, \"fare\": 10.5, \"tip\": 2.86, \"tolls\": 0.0, \"total\": 17.16, \"color\": \"yellow\", \"payment\": \"credit card\", \"pickup_zone\": \"Clinton East\", \"dropoff_zone\": \"Upper West Side South\", \"pickup_borough\": \"Manhattan\", \"dropoff_borough\": \"Manhattan\"}, {\"pickup\": \"2019-03-06T23:17:06\", \"dropoff\": \"2019-03-06T23:24:12\", \"passengers\": 2, \"distance\": 1.6, \"fare\": 7.5, \"tip\": 7.0, \"tolls\": 0.0, \"total\": 18.3, \"color\": \"yellow\", \"payment\": \"credit card\", \"pickup_zone\": \"Penn Station/Madison Sq West\", \"dropoff_zone\": \"Hudson Sq\", \"pickup_borough\": \"Manhattan\", \"dropoff_borough\": \"Manhattan\"}, {\"pickup\": \"2019-03-27T14:16:53\", \"dropoff\": \"2019-03-27T14:26:31\", \"passengers\": 1, \"distance\": 0.6, \"fare\": 7.5, \"tip\": 2.15, \"tolls\": 0.0, \"total\": 12.95, \"color\": \"yellow\", \"payment\": \"credit card\", \"pickup_zone\": \"Penn Station/Madison Sq West\", \"dropoff_zone\": \"Midtown South\", \"pickup_borough\": \"Manhattan\", \"dropoff_borough\": \"Manhattan\"}, {\"pickup\": \"2019-03-21T18:53:32\", \"dropoff\": \"2019-03-21T19:13:53\", \"passengers\": 1, \"distance\": 1.57, \"fare\": 13.0, \"tip\": 2.5, \"tolls\": 0.0, \"total\": 19.8, \"color\": \"yellow\", \"payment\": \"credit card\", \"pickup_zone\": \"Midtown Center\", \"dropoff_zone\": \"West Chelsea/Hudson Yards\", \"pickup_borough\": \"Manhattan\", \"dropoff_borough\": \"Manhattan\"}, {\"pickup\": \"2019-03-27T11:31:43\", \"dropoff\": \"2019-03-27T11:38:14\", \"passengers\": 1, \"distance\": 0.8, \"fare\": 6.0, \"tip\": 1.0, \"tolls\": 0.0, \"total\": 10.3, \"color\": \"yellow\", \"payment\": \"credit card\", \"pickup_zone\": \"Clinton East\", \"dropoff_zone\": \"West Chelsea/Hudson Yards\", \"pickup_borough\": \"Manhattan\", \"dropoff_borough\": \"Manhattan\"}, {\"pickup\": \"2019-03-04T16:12:40\", \"dropoff\": \"2019-03-04T16:19:54\", \"passengers\": 1, \"distance\": 1.0, \"fare\": 6.5, \"tip\": 2.15, \"tolls\": 0.0, \"total\": 12.95, \"color\": \"yellow\", \"payment\": \"credit card\", \"pickup_zone\": \"Penn Station/Madison Sq West\", \"dropoff_zone\": \"Gramercy\", \"pickup_borough\": \"Manhattan\", \"dropoff_borough\": \"Manhattan\"}, {\"pickup\": \"2019-03-03T15:17:53\", \"dropoff\": \"2019-03-03T15:34:10\", \"passengers\": 2, \"distance\": 3.1, \"fare\": 13.0, \"tip\": 3.25, \"tolls\": 0.0, \"total\": 19.55, \"color\": \"yellow\", \"payment\": \"credit card\", \"pickup_zone\": \"Midtown Center\", \"dropoff_zone\": \"East Village\", \"pickup_borough\": \"Manhattan\", \"dropoff_borough\": \"Manhattan\"}, {\"pickup\": \"2019-03-19T07:58:43\", \"dropoff\": \"2019-03-19T08:14:13\", \"passengers\": 1, \"distance\": 1.71, \"fare\": 11.0, \"tip\": 0.0, \"tolls\": 0.0, \"total\": 14.3, \"color\": \"yellow\", \"payment\": \"cash\", \"pickup_zone\": \"Penn Station/Madison Sq West\", \"dropoff_zone\": \"Midtown East\", \"pickup_borough\": \"Manhattan\", \"dropoff_borough\": \"Manhattan\"}, {\"pickup\": \"2019-03-14T23:37:21\", \"dropoff\": \"2019-03-15T00:17:07\", \"passengers\": 1, \"distance\": 17.45, \"fare\": 50.5, \"tip\": 0.0, \"tolls\": 5.76, \"total\": 60.06, \"color\": \"yellow\", \"payment\": \"cash\", \"pickup_zone\": \"Midtown Center\", \"dropoff_zone\": \"Howard Beach\", \"pickup_borough\": \"Manhattan\", \"dropoff_borough\": \"Queens\"}, {\"pickup\": \"2019-03-22T14:18:40\", \"dropoff\": \"2019-03-22T14:24:01\", \"passengers\": 1, \"distance\": 1.11, \"fare\": 6.0, \"tip\": 2.32, \"tolls\": 0.0, \"total\": 11.62, \"color\": \"yellow\", \"payment\": \"credit card\", \"pickup_zone\": \"Clinton East\", \"dropoff_zone\": \"Lincoln Square East\", \"pickup_borough\": \"Manhattan\", \"dropoff_borough\": \"Manhattan\"}, {\"pickup\": \"2019-03-22T08:03:01\", \"dropoff\": \"2019-03-22T08:07:56\", \"passengers\": 1, \"distance\": 0.8, \"fare\": 5.5, \"tip\": 0.0, \"tolls\": 0.0, \"total\": 8.8, \"color\": \"yellow\", \"payment\": \"cash\", \"pickup_zone\": \"Clinton East\", \"dropoff_zone\": \"Times Sq/Theatre District\", \"pickup_borough\": \"Manhattan\", \"dropoff_borough\": \"Manhattan\"}, {\"pickup\": \"2019-03-25T10:14:02\", \"dropoff\": \"2019-03-25T10:22:22\", \"passengers\": 1, \"distance\": 0.7, \"fare\": 6.5, \"tip\": 0.0, \"tolls\": 0.0, \"total\": 9.8, \"color\": \"yellow\", \"payment\": \"cash\", \"pickup_zone\": \"Upper East Side South\", \"dropoff_zone\": \"Lenox Hill East\", \"pickup_borough\": \"Manhattan\", \"dropoff_borough\": \"Manhattan\"}, {\"pickup\": \"2019-03-20T08:14:56\", \"dropoff\": \"2019-03-20T08:18:37\", \"passengers\": 1, \"distance\": 0.5, \"fare\": 4.5, \"tip\": 1.95, \"tolls\": 0.0, \"total\": 9.75, \"color\": \"yellow\", \"payment\": \"credit card\", \"pickup_zone\": \"Midtown Center\", \"dropoff_zone\": \"Midtown Center\", \"pickup_borough\": \"Manhattan\", \"dropoff_borough\": \"Manhattan\"}, {\"pickup\": \"2019-03-01T12:00:10\", \"dropoff\": \"2019-03-01T12:08:16\", \"passengers\": 1, \"distance\": 0.6, \"fare\": 6.5, \"tip\": 1.0, \"tolls\": 0.0, \"total\": 10.8, \"color\": \"yellow\", \"payment\": \"credit card\", \"pickup_zone\": \"Upper East Side South\", \"dropoff_zone\": \"Midtown North\", \"pickup_borough\": \"Manhattan\", \"dropoff_borough\": \"Manhattan\"}, {\"pickup\": \"2019-03-31T10:34:14\", \"dropoff\": \"2019-03-31T10:39:45\", \"passengers\": 1, \"distance\": 1.15, \"fare\": 6.0, \"tip\": 0.0, \"tolls\": 0.0, \"total\": 9.3, \"color\": \"yellow\", \"payment\": \"cash\", \"pickup_zone\": \"Midtown Center\", \"dropoff_zone\": \"Union Sq\", \"pickup_borough\": \"Manhattan\", \"dropoff_borough\": \"Manhattan\"}, {\"pickup\": \"2019-03-22T00:04:23\", \"dropoff\": \"2019-03-22T00:22:33\", \"passengers\": 1, \"distance\": 5.82, \"fare\": 19.5, \"tip\": 0.0, \"tolls\": 0.0, \"total\": 23.3, \"color\": \"yellow\", \"payment\": \"credit card\", \"pickup_zone\": \"Upper East Side South\", \"dropoff_zone\": \"Washington Heights South\", \"pickup_borough\": \"Manhattan\", \"dropoff_borough\": \"Manhattan\"}, {\"pickup\": \"2019-03-31T13:37:34\", \"dropoff\": \"2019-03-31T13:56:07\", \"passengers\": 2, \"distance\": 3.5, \"fare\": 15.0, \"tip\": 0.0, \"tolls\": 0.0, \"total\": 18.3, \"color\": \"yellow\", \"payment\": \"cash\", \"pickup_zone\": \"Penn Station/Madison Sq West\", \"dropoff_zone\": \"Upper East Side North\", \"pickup_borough\": \"Manhattan\", \"dropoff_borough\": \"Manhattan\"}, {\"pickup\": \"2019-03-13T12:22:35\", \"dropoff\": \"2019-03-13T12:31:48\", \"passengers\": 2, \"distance\": 1.2, \"fare\": 7.5, \"tip\": 2.16, \"tolls\": 0.0, \"total\": 12.96, \"color\": \"yellow\", \"payment\": \"credit card\", \"pickup_zone\": \"Upper East Side South\", \"dropoff_zone\": \"Upper East Side North\", \"pickup_borough\": \"Manhattan\", \"dropoff_borough\": \"Manhattan\"}, {\"pickup\": \"2019-03-18T08:45:16\", \"dropoff\": \"2019-03-18T08:52:43\", \"passengers\": 2, \"distance\": 1.3, \"fare\": 7.0, \"tip\": 2.06, \"tolls\": 0.0, \"total\": 12.36, \"color\": \"yellow\", \"payment\": \"credit card\", \"pickup_zone\": \"Upper East Side South\", \"dropoff_zone\": \"Upper East Side North\", \"pickup_borough\": \"Manhattan\", \"dropoff_borough\": \"Manhattan\"}, {\"pickup\": \"2019-03-06T12:39:48\", \"dropoff\": \"2019-03-06T13:07:21\", \"passengers\": 0, \"distance\": 1.4, \"fare\": 16.0, \"tip\": 3.85, \"tolls\": 0.0, \"total\": 23.15, \"color\": \"yellow\", \"payment\": \"credit card\", \"pickup_zone\": \"Penn Station/Madison Sq West\", \"dropoff_zone\": \"Times Sq/Theatre District\", \"pickup_borough\": \"Manhattan\", \"dropoff_borough\": \"Manhattan\"}, {\"pickup\": \"2019-03-11T10:10:55\", \"dropoff\": \"2019-03-11T10:31:03\", \"passengers\": 1, \"distance\": 2.2, \"fare\": 14.0, \"tip\": 3.0, \"tolls\": 0.0, \"total\": 20.3, \"color\": \"yellow\", \"payment\": \"credit card\", \"pickup_zone\": \"Midtown Center\", \"dropoff_zone\": \"Upper East Side North\", \"pickup_borough\": \"Manhattan\", \"dropoff_borough\": \"Manhattan\"}, {\"pickup\": \"2019-03-31T05:24:37\", \"dropoff\": \"2019-03-31T05:30:41\", \"passengers\": 1, \"distance\": 2.01, \"fare\": 7.5, \"tip\": 0.0, \"tolls\": 0.0, \"total\": 11.3, \"color\": \"yellow\", \"payment\": \"cash\", \"pickup_zone\": \"Clinton East\", \"dropoff_zone\": \"Sutton Place/Turtle Bay North\", \"pickup_borough\": \"Manhattan\", \"dropoff_borough\": \"Manhattan\"}, {\"pickup\": \"2019-03-14T00:58:47\", \"dropoff\": \"2019-03-14T01:05:27\", \"passengers\": 1, \"distance\": 1.18, \"fare\": 6.5, \"tip\": 0.0, \"tolls\": 0.0, \"total\": 10.3, \"color\": \"yellow\", \"payment\": \"cash\", \"pickup_zone\": \"Clinton East\", \"dropoff_zone\": \"Midtown North\", \"pickup_borough\": \"Manhattan\", \"dropoff_borough\": \"Manhattan\"}, {\"pickup\": \"2019-03-15T20:44:22\", \"dropoff\": \"2019-03-15T21:11:32\", \"passengers\": 1, \"distance\": 3.37, \"fare\": 17.5, \"tip\": 4.26, \"tolls\": 0.0, \"total\": 25.56, \"color\": \"yellow\", \"payment\": \"credit card\", \"pickup_zone\": \"Penn Station/Madison Sq West\", \"dropoff_zone\": \"Lower East Side\", \"pickup_borough\": \"Manhattan\", \"dropoff_borough\": \"Manhattan\"}, {\"pickup\": \"2019-03-20T13:57:02\", \"dropoff\": \"2019-03-20T14:03:23\", \"passengers\": 1, \"distance\": 0.7, \"fare\": 6.0, \"tip\": 1.85, \"tolls\": 0.0, \"total\": 11.15, \"color\": \"yellow\", \"payment\": \"credit card\", \"pickup_zone\": \"Upper East Side South\", \"dropoff_zone\": \"Midtown Center\", \"pickup_borough\": \"Manhattan\", \"dropoff_borough\": \"Manhattan\"}, {\"pickup\": \"2019-03-21T08:24:31\", \"dropoff\": \"2019-03-21T08:30:52\", \"passengers\": 1, \"distance\": 0.7, \"fare\": 6.0, \"tip\": 0.0, \"tolls\": 0.0, \"total\": 9.3, \"color\": \"yellow\", \"payment\": \"cash\", \"pickup_zone\": \"Upper East Side South\", \"dropoff_zone\": \"Midtown Center\", \"pickup_borough\": \"Manhattan\", \"dropoff_borough\": \"Manhattan\"}, {\"pickup\": \"2019-03-30T19:49:38\", \"dropoff\": \"2019-03-30T19:55:05\", \"passengers\": 1, \"distance\": 1.11, \"fare\": 6.0, \"tip\": 1.86, \"tolls\": 0.0, \"total\": 11.16, \"color\": \"yellow\", \"payment\": \"credit card\", \"pickup_zone\": \"Upper East Side South\", \"dropoff_zone\": \"Yorkville West\", \"pickup_borough\": \"Manhattan\", \"dropoff_borough\": \"Manhattan\"}, {\"pickup\": \"2019-03-30T23:41:35\", \"dropoff\": \"2019-03-30T23:47:03\", \"passengers\": 2, \"distance\": 0.78, \"fare\": 5.5, \"tip\": 0.0, \"tolls\": 0.0, \"total\": 9.3, \"color\": \"yellow\", \"payment\": \"cash\", \"pickup_zone\": \"Midtown Center\", \"dropoff_zone\": \"Midtown North\", \"pickup_borough\": \"Manhattan\", \"dropoff_borough\": \"Manhattan\"}, {\"pickup\": \"2019-03-19T22:20:25\", \"dropoff\": \"2019-03-19T22:20:38\", \"passengers\": 1, \"distance\": 0.0, \"fare\": 52.0, \"tip\": 0.0, \"tolls\": 5.76, \"total\": 61.06, \"color\": \"yellow\", \"payment\": \"cash\", \"pickup_zone\": \"Midtown Center\", \"dropoff_zone\": \"Midtown Center\", \"pickup_borough\": \"Manhattan\", \"dropoff_borough\": \"Manhattan\"}, {\"pickup\": \"2019-03-05T14:19:19\", \"dropoff\": \"2019-03-05T14:38:29\", \"passengers\": 5, \"distance\": 1.55, \"fare\": 12.5, \"tip\": 3.16, \"tolls\": 0.0, \"total\": 18.96, \"color\": \"yellow\", \"payment\": \"credit card\", \"pickup_zone\": \"Penn Station/Madison Sq West\", \"dropoff_zone\": \"Midtown East\", \"pickup_borough\": \"Manhattan\", \"dropoff_borough\": \"Manhattan\"}, {\"pickup\": \"2019-03-26T20:20:25\", \"dropoff\": \"2019-03-26T20:24:43\", \"passengers\": 1, \"distance\": 0.63, \"fare\": 5.0, \"tip\": 1.76, \"tolls\": 0.0, \"total\": 10.56, \"color\": \"yellow\", \"payment\": \"credit card\", \"pickup_zone\": \"Clinton East\", \"dropoff_zone\": \"West Chelsea/Hudson Yards\", \"pickup_borough\": \"Manhattan\", \"dropoff_borough\": \"Manhattan\"}, {\"pickup\": \"2019-03-10T10:27:55\", \"dropoff\": \"2019-03-10T10:31:06\", \"passengers\": 5, \"distance\": 0.63, \"fare\": 4.5, \"tip\": 1.56, \"tolls\": 0.0, \"total\": 9.36, \"color\": \"yellow\", \"payment\": \"credit card\", \"pickup_zone\": \"Clinton East\", \"dropoff_zone\": \"Times Sq/Theatre District\", \"pickup_borough\": \"Manhattan\", \"dropoff_borough\": \"Manhattan\"}, {\"pickup\": \"2019-03-24T00:44:57\", \"dropoff\": \"2019-03-24T00:50:04\", \"passengers\": 1, \"distance\": 1.2, \"fare\": 6.0, \"tip\": 1.95, \"tolls\": 0.0, \"total\": 11.75, \"color\": \"yellow\", \"payment\": \"credit card\", \"pickup_zone\": \"Clinton East\", \"dropoff_zone\": \"East Chelsea\", \"pickup_borough\": \"Manhattan\", \"dropoff_borough\": \"Manhattan\"}, {\"pickup\": \"2019-03-10T11:40:26\", \"dropoff\": \"2019-03-10T11:57:05\", \"passengers\": 2, \"distance\": 2.66, \"fare\": 12.5, \"tip\": 2.0, \"tolls\": 0.0, \"total\": 17.8, \"color\": \"yellow\", \"payment\": \"credit card\", \"pickup_zone\": \"Upper East Side South\", \"dropoff_zone\": \"Gramercy\", \"pickup_borough\": \"Manhattan\", \"dropoff_borough\": \"Manhattan\"}, {\"pickup\": \"2019-03-31T09:46:28\", \"dropoff\": \"2019-03-31T09:59:19\", \"passengers\": 1, \"distance\": 3.41, \"fare\": 12.5, \"tip\": 1.0, \"tolls\": 0.0, \"total\": 16.8, \"color\": \"yellow\", \"payment\": \"credit card\", \"pickup_zone\": \"Penn Station/Madison Sq West\", \"dropoff_zone\": \"Upper East Side North\", \"pickup_borough\": \"Manhattan\", \"dropoff_borough\": \"Manhattan\"}, {\"pickup\": \"2019-03-07T13:02:20\", \"dropoff\": \"2019-03-07T13:31:13\", \"passengers\": 2, \"distance\": 1.7, \"fare\": 17.5, \"tip\": 4.15, \"tolls\": 0.0, \"total\": 24.95, \"color\": \"yellow\", \"payment\": \"credit card\", \"pickup_zone\": \"Penn Station/Madison Sq West\", \"dropoff_zone\": \"Midtown East\", \"pickup_borough\": \"Manhattan\", \"dropoff_borough\": \"Manhattan\"}, {\"pickup\": \"2019-03-02T01:17:14\", \"dropoff\": \"2019-03-02T01:36:17\", \"passengers\": 1, \"distance\": 3.55, \"fare\": 14.5, \"tip\": 2.5, \"tolls\": 0.0, \"total\": 20.8, \"color\": \"yellow\", \"payment\": \"credit card\", \"pickup_zone\": \"Clinton East\", \"dropoff_zone\": \"Lower East Side\", \"pickup_borough\": \"Manhattan\", \"dropoff_borough\": \"Manhattan\"}, {\"pickup\": \"2019-03-12T22:37:37\", \"dropoff\": \"2019-03-12T22:43:19\", \"passengers\": 2, \"distance\": 1.0, \"fare\": 6.0, \"tip\": 1.95, \"tolls\": 0.0, \"total\": 11.75, \"color\": \"yellow\", \"payment\": \"credit card\", \"pickup_zone\": \"Upper East Side South\", \"dropoff_zone\": \"Central Park\", \"pickup_borough\": \"Manhattan\", \"dropoff_borough\": \"Manhattan\"}, {\"pickup\": \"2019-03-09T19:17:01\", \"dropoff\": \"2019-03-09T19:21:59\", \"passengers\": 1, \"distance\": 0.94, \"fare\": 5.5, \"tip\": 1.32, \"tolls\": 0.0, \"total\": 10.12, \"color\": \"yellow\", \"payment\": \"credit card\", \"pickup_zone\": \"Penn Station/Madison Sq West\", \"dropoff_zone\": \"Midtown Center\", \"pickup_borough\": \"Manhattan\", \"dropoff_borough\": \"Manhattan\"}, {\"pickup\": \"2019-03-23T12:24:57\", \"dropoff\": \"2019-03-23T12:38:10\", \"passengers\": 1, \"distance\": 0.9, \"fare\": 9.5, \"tip\": 0.0, \"tolls\": 0.0, \"total\": 12.8, \"color\": \"yellow\", \"payment\": \"cash\", \"pickup_zone\": \"Penn Station/Madison Sq West\", \"dropoff_zone\": \"Union Sq\", \"pickup_borough\": \"Manhattan\", \"dropoff_borough\": \"Manhattan\"}, {\"pickup\": \"2019-03-02T01:35:48\", \"dropoff\": \"2019-03-02T01:39:51\", \"passengers\": 1, \"distance\": 1.0, \"fare\": 5.0, \"tip\": 0.0, \"tolls\": 0.0, \"total\": 8.8, \"color\": \"yellow\", \"payment\": \"cash\", \"pickup_zone\": \"Penn Station/Madison Sq West\", \"dropoff_zone\": \"Clinton East\", \"pickup_borough\": \"Manhattan\", \"dropoff_borough\": \"Manhattan\"}, {\"pickup\": \"2019-03-14T00:43:34\", \"dropoff\": \"2019-03-14T00:49:36\", \"passengers\": 1, \"distance\": 1.68, \"fare\": 7.5, \"tip\": 0.0, \"tolls\": 0.0, \"total\": 11.3, \"color\": \"yellow\", \"payment\": \"cash\", \"pickup_zone\": \"Clinton East\", \"dropoff_zone\": \"Central Park\", \"pickup_borough\": \"Manhattan\", \"dropoff_borough\": \"Manhattan\"}, {\"pickup\": \"2019-03-01T17:09:11\", \"dropoff\": \"2019-03-01T17:17:07\", \"passengers\": 1, \"distance\": 1.26, \"fare\": 7.0, \"tip\": 1.0, \"tolls\": 0.0, \"total\": 12.3, \"color\": \"yellow\", \"payment\": \"credit card\", \"pickup_zone\": \"Midtown Center\", \"dropoff_zone\": \"Union Sq\", \"pickup_borough\": \"Manhattan\", \"dropoff_borough\": \"Manhattan\"}, {\"pickup\": \"2019-03-14T12:30:25\", \"dropoff\": \"2019-03-14T12:53:18\", \"passengers\": 2, \"distance\": 2.6, \"fare\": 16.0, \"tip\": 0.0, \"tolls\": 0.0, \"total\": 19.3, \"color\": \"yellow\", \"payment\": \"cash\", \"pickup_zone\": \"Penn Station/Madison Sq West\", \"dropoff_zone\": \"Upper East Side South\", \"pickup_borough\": \"Manhattan\", \"dropoff_borough\": \"Manhattan\"}, {\"pickup\": \"2019-03-09T10:42:23\", \"dropoff\": \"2019-03-09T10:49:36\", \"passengers\": 1, \"distance\": 1.1, \"fare\": 7.0, \"tip\": 1.0, \"tolls\": 0.0, \"total\": 11.3, \"color\": \"yellow\", \"payment\": \"credit card\", \"pickup_zone\": \"Upper East Side South\", \"dropoff_zone\": \"Sutton Place/Turtle Bay North\", \"pickup_borough\": \"Manhattan\", \"dropoff_borough\": \"Manhattan\"}, {\"pickup\": \"2019-03-27T10:48:26\", \"dropoff\": \"2019-03-27T10:59:59\", \"passengers\": 1, \"distance\": 0.76, \"fare\": 8.0, \"tip\": 2.26, \"tolls\": 0.0, \"total\": 13.56, \"color\": \"yellow\", \"payment\": \"credit card\", \"pickup_zone\": \"Midtown Center\", \"dropoff_zone\": \"Midtown East\", \"pickup_borough\": \"Manhattan\", \"dropoff_borough\": \"Manhattan\"}, {\"pickup\": \"2019-03-26T04:07:03\", \"dropoff\": \"2019-03-26T04:28:24\", \"passengers\": 6, \"distance\": 5.19, \"fare\": 18.5, \"tip\": 0.0, \"tolls\": 0.0, \"total\": 22.3, \"color\": \"yellow\", \"payment\": \"cash\", \"pickup_zone\": \"Clinton East\", \"dropoff_zone\": \"Sunnyside\", \"pickup_borough\": \"Manhattan\", \"dropoff_borough\": \"Queens\"}, {\"pickup\": \"2019-03-23T17:11:33\", \"dropoff\": \"2019-03-23T17:11:50\", \"passengers\": 2, \"distance\": 0.0, \"fare\": 52.0, \"tip\": 12.21, \"tolls\": 5.76, \"total\": 73.27, \"color\": \"yellow\", \"payment\": \"credit card\", \"pickup_zone\": \"Clinton East\", \"dropoff_zone\": \"Clinton East\", \"pickup_borough\": \"Manhattan\", \"dropoff_borough\": \"Manhattan\"}, {\"pickup\": \"2019-03-12T12:52:56\", \"dropoff\": \"2019-03-12T12:58:45\", \"passengers\": 5, \"distance\": 0.96, \"fare\": 6.0, \"tip\": 0.0, \"tolls\": 0.0, \"total\": 9.3, \"color\": \"yellow\", \"payment\": \"cash\", \"pickup_zone\": \"Upper East Side South\", \"dropoff_zone\": \"Yorkville West\", \"pickup_borough\": \"Manhattan\", \"dropoff_borough\": \"Manhattan\"}, {\"pickup\": \"2019-03-10T11:59:22\", \"dropoff\": \"2019-03-10T12:08:00\", \"passengers\": 1, \"distance\": 1.05, \"fare\": 7.0, \"tip\": 2.06, \"tolls\": 0.0, \"total\": 12.36, \"color\": \"yellow\", \"payment\": \"credit card\", \"pickup_zone\": \"Midtown Center\", \"dropoff_zone\": \"Midtown Center\", \"pickup_borough\": \"Manhattan\", \"dropoff_borough\": \"Manhattan\"}, {\"pickup\": \"2019-03-02T10:11:06\", \"dropoff\": \"2019-03-02T10:17:50\", \"passengers\": 1, \"distance\": 1.24, \"fare\": 6.0, \"tip\": 2.33, \"tolls\": 0.0, \"total\": 11.63, \"color\": \"yellow\", \"payment\": \"credit card\", \"pickup_zone\": \"Clinton East\", \"dropoff_zone\": \"Midtown South\", \"pickup_borough\": \"Manhattan\", \"dropoff_borough\": \"Manhattan\"}, {\"pickup\": \"2019-03-20T19:40:36\", \"dropoff\": \"2019-03-20T20:00:13\", \"passengers\": 2, \"distance\": 4.41, \"fare\": 17.0, \"tip\": 4.26, \"tolls\": 0.0, \"total\": 25.56, \"color\": \"yellow\", \"payment\": \"credit card\", \"pickup_zone\": \"Penn Station/Madison Sq West\", \"dropoff_zone\": \"Morningside Heights\", \"pickup_borough\": \"Manhattan\", \"dropoff_borough\": \"Manhattan\"}, {\"pickup\": \"2019-03-31T03:15:55\", \"dropoff\": \"2019-03-31T03:22:19\", \"passengers\": 1, \"distance\": 1.0, \"fare\": 6.5, \"tip\": 0.0, \"tolls\": 0.0, \"total\": 10.3, \"color\": \"yellow\", \"payment\": \"cash\", \"pickup_zone\": \"Clinton East\", \"dropoff_zone\": \"Midtown Center\", \"pickup_borough\": \"Manhattan\", \"dropoff_borough\": \"Manhattan\"}, {\"pickup\": \"2019-03-26T18:43:03\", \"dropoff\": \"2019-03-26T18:51:34\", \"passengers\": 1, \"distance\": 1.06, \"fare\": 7.0, \"tip\": 0.0, \"tolls\": 0.0, \"total\": 11.3, \"color\": \"yellow\", \"payment\": \"cash\", \"pickup_zone\": \"Clinton East\", \"dropoff_zone\": \"East Chelsea\", \"pickup_borough\": \"Manhattan\", \"dropoff_borough\": \"Manhattan\"}, {\"pickup\": \"2019-03-14T07:01:55\", \"dropoff\": \"2019-03-14T07:06:38\", \"passengers\": 1, \"distance\": 0.78, \"fare\": 5.0, \"tip\": 1.66, \"tolls\": 0.0, \"total\": 9.96, \"color\": \"yellow\", \"payment\": \"credit card\", \"pickup_zone\": \"Clinton East\", \"dropoff_zone\": \"Times Sq/Theatre District\", \"pickup_borough\": \"Manhattan\", \"dropoff_borough\": \"Manhattan\"}, {\"pickup\": \"2019-03-13T12:28:42\", \"dropoff\": \"2019-03-13T12:43:50\", \"passengers\": 1, \"distance\": 1.8, \"fare\": 10.5, \"tip\": 2.07, \"tolls\": 0.0, \"total\": 15.87, \"color\": \"yellow\", \"payment\": \"credit card\", \"pickup_zone\": \"Midtown Center\", \"dropoff_zone\": \"Upper East Side North\", \"pickup_borough\": \"Manhattan\", \"dropoff_borough\": \"Manhattan\"}, {\"pickup\": \"2019-03-09T15:58:13\", \"dropoff\": \"2019-03-09T16:21:59\", \"passengers\": 5, \"distance\": 1.99, \"fare\": 15.0, \"tip\": 0.0, \"tolls\": 0.0, \"total\": 18.3, \"color\": \"yellow\", \"payment\": \"cash\", \"pickup_zone\": \"Clinton East\", \"dropoff_zone\": \"Flatiron\", \"pickup_borough\": \"Manhattan\", \"dropoff_borough\": \"Manhattan\"}, {\"pickup\": \"2019-03-16T12:47:42\", \"dropoff\": \"2019-03-16T12:58:34\", \"passengers\": 2, \"distance\": 1.98, \"fare\": 9.0, \"tip\": 0.0, \"tolls\": 0.0, \"total\": 12.3, \"color\": \"yellow\", \"payment\": \"cash\", \"pickup_zone\": \"Upper East Side South\", \"dropoff_zone\": \"Upper East Side North\", \"pickup_borough\": \"Manhattan\", \"dropoff_borough\": \"Manhattan\"}, {\"pickup\": \"2019-03-08T17:04:12\", \"dropoff\": \"2019-03-08T17:30:05\", \"passengers\": 1, \"distance\": 3.89, \"fare\": 18.0, \"tip\": 5.58, \"tolls\": 0.0, \"total\": 27.88, \"color\": \"yellow\", \"payment\": \"credit card\", \"pickup_zone\": \"Upper East Side South\", \"dropoff_zone\": \"East Village\", \"pickup_borough\": \"Manhattan\", \"dropoff_borough\": \"Manhattan\"}, {\"pickup\": \"2019-03-29T00:25:34\", \"dropoff\": \"2019-03-29T00:38:53\", \"passengers\": 1, \"distance\": 5.8, \"fare\": 18.0, \"tip\": 4.35, \"tolls\": 0.0, \"total\": 26.15, \"color\": \"yellow\", \"payment\": \"credit card\", \"pickup_zone\": \"Clinton East\", \"dropoff_zone\": \"Manhattanville\", \"pickup_borough\": \"Manhattan\", \"dropoff_borough\": \"Manhattan\"}, {\"pickup\": \"2019-03-18T09:02:51\", \"dropoff\": \"2019-03-18T09:20:15\", \"passengers\": 6, \"distance\": 2.53, \"fare\": 13.5, \"tip\": 3.36, \"tolls\": 0.0, \"total\": 20.16, \"color\": \"yellow\", \"payment\": \"credit card\", \"pickup_zone\": \"Clinton East\", \"dropoff_zone\": \"Upper East Side North\", \"pickup_borough\": \"Manhattan\", \"dropoff_borough\": \"Manhattan\"}, {\"pickup\": \"2019-03-29T06:42:46\", \"dropoff\": \"2019-03-29T06:46:59\", \"passengers\": 2, \"distance\": 1.4, \"fare\": 6.0, \"tip\": 1.86, \"tolls\": 0.0, \"total\": 11.16, \"color\": \"yellow\", \"payment\": \"credit card\", \"pickup_zone\": \"Penn Station/Madison Sq West\", \"dropoff_zone\": \"West Village\", \"pickup_borough\": \"Manhattan\", \"dropoff_borough\": \"Manhattan\"}, {\"pickup\": \"2019-03-01T00:53:00\", \"dropoff\": \"2019-03-01T00:58:22\", \"passengers\": 1, \"distance\": 0.9, \"fare\": 5.5, \"tip\": 1.0, \"tolls\": 0.0, \"total\": 10.3, \"color\": \"yellow\", \"payment\": \"credit card\", \"pickup_zone\": \"Midtown Center\", \"dropoff_zone\": \"Midtown North\", \"pickup_borough\": \"Manhattan\", \"dropoff_borough\": \"Manhattan\"}, {\"pickup\": \"2019-03-10T09:22:34\", \"dropoff\": \"2019-03-10T09:34:11\", \"passengers\": 0, \"distance\": 0.8, \"fare\": 8.5, \"tip\": 3.5, \"tolls\": 0.0, \"total\": 15.3, \"color\": \"yellow\", \"payment\": \"credit card\", \"pickup_zone\": \"Clinton East\", \"dropoff_zone\": \"West Chelsea/Hudson Yards\", \"pickup_borough\": \"Manhattan\", \"dropoff_borough\": \"Manhattan\"}, {\"pickup\": \"2019-03-05T11:52:24\", \"dropoff\": \"2019-03-05T12:11:51\", \"passengers\": 1, \"distance\": 0.8, \"fare\": 12.0, \"tip\": 3.8, \"tolls\": 0.0, \"total\": 19.1, \"color\": \"yellow\", \"payment\": \"credit card\", \"pickup_zone\": \"Upper East Side South\", \"dropoff_zone\": \"Upper East Side South\", \"pickup_borough\": \"Manhattan\", \"dropoff_borough\": \"Manhattan\"}, {\"pickup\": \"2019-03-01T16:41:08\", \"dropoff\": \"2019-03-01T16:56:00\", \"passengers\": 6, \"distance\": 0.88, \"fare\": 10.0, \"tip\": 2.86, \"tolls\": 0.0, \"total\": 17.16, \"color\": \"yellow\", \"payment\": \"credit card\", \"pickup_zone\": \"Penn Station/Madison Sq West\", \"dropoff_zone\": \"Midtown Center\", \"pickup_borough\": \"Manhattan\", \"dropoff_borough\": \"Manhattan\"}, {\"pickup\": \"2019-03-12T05:34:44\", \"dropoff\": \"2019-03-12T05:50:13\", \"passengers\": 1, \"distance\": 1.86, \"fare\": 11.5, \"tip\": 0.0, \"tolls\": 0.0, \"total\": 14.8, \"color\": \"yellow\", \"payment\": \"cash\", \"pickup_zone\": \"Upper East Side South\", \"dropoff_zone\": \"Sutton Place/Turtle Bay North\", \"pickup_borough\": \"Manhattan\", \"dropoff_borough\": \"Manhattan\"}, {\"pickup\": \"2019-03-10T15:36:59\", \"dropoff\": \"2019-03-10T15:53:50\", \"passengers\": 0, \"distance\": 1.4, \"fare\": 11.5, \"tip\": 2.2, \"tolls\": 0.0, \"total\": 17.0, \"color\": \"yellow\", \"payment\": \"credit card\", \"pickup_zone\": \"Penn Station/Madison Sq West\", \"dropoff_zone\": \"Midtown East\", \"pickup_borough\": \"Manhattan\", \"dropoff_borough\": \"Manhattan\"}, {\"pickup\": \"2019-03-07T16:40:36\", \"dropoff\": \"2019-03-07T16:43:02\", \"passengers\": 3, \"distance\": 0.28, \"fare\": 3.5, \"tip\": 0.0, \"tolls\": 0.0, \"total\": 7.8, \"color\": \"yellow\", \"payment\": \"cash\", \"pickup_zone\": \"Clinton East\", \"dropoff_zone\": \"Clinton West\", \"pickup_borough\": \"Manhattan\", \"dropoff_borough\": \"Manhattan\"}, {\"pickup\": \"2019-03-02T09:57:31\", \"dropoff\": \"2019-03-02T10:00:31\", \"passengers\": 1, \"distance\": 0.58, \"fare\": 4.5, \"tip\": 1.56, \"tolls\": 0.0, \"total\": 9.36, \"color\": \"yellow\", \"payment\": \"credit card\", \"pickup_zone\": \"Upper East Side South\", \"dropoff_zone\": \"Upper East Side South\", \"pickup_borough\": \"Manhattan\", \"dropoff_borough\": \"Manhattan\"}, {\"pickup\": \"2019-03-19T12:40:25\", \"dropoff\": \"2019-03-19T12:50:35\", \"passengers\": 2, \"distance\": 0.6, \"fare\": 7.5, \"tip\": 0.0, \"tolls\": 0.0, \"total\": 10.8, \"color\": \"yellow\", \"payment\": \"cash\", \"pickup_zone\": \"Midtown Center\", \"dropoff_zone\": \"Times Sq/Theatre District\", \"pickup_borough\": \"Manhattan\", \"dropoff_borough\": \"Manhattan\"}, {\"pickup\": \"2019-03-18T18:49:04\", \"dropoff\": \"2019-03-18T18:52:17\", \"passengers\": 2, \"distance\": 0.5, \"fare\": 4.0, \"tip\": 1.66, \"tolls\": 0.0, \"total\": 9.96, \"color\": \"yellow\", \"payment\": \"credit card\", \"pickup_zone\": \"Upper East Side South\", \"dropoff_zone\": \"Upper East Side South\", \"pickup_borough\": \"Manhattan\", \"dropoff_borough\": \"Manhattan\"}, {\"pickup\": \"2019-03-30T11:17:16\", \"dropoff\": \"2019-03-30T11:36:32\", \"passengers\": 4, \"distance\": 2.6, \"fare\": 13.5, \"tip\": 0.0, \"tolls\": 0.0, \"total\": 16.8, \"color\": \"yellow\", \"payment\": \"cash\", \"pickup_zone\": \"Penn Station/Madison Sq West\", \"dropoff_zone\": \"Lower East Side\", \"pickup_borough\": \"Manhattan\", \"dropoff_borough\": \"Manhattan\"}, {\"pickup\": \"2019-03-03T21:26:10\", \"dropoff\": \"2019-03-03T21:30:39\", \"passengers\": 1, \"distance\": 1.1, \"fare\": 5.5, \"tip\": 1.85, \"tolls\": 0.0, \"total\": 11.15, \"color\": \"yellow\", \"payment\": \"credit card\", \"pickup_zone\": \"Penn Station/Madison Sq West\", \"dropoff_zone\": \"West Village\", \"pickup_borough\": \"Manhattan\", \"dropoff_borough\": \"Manhattan\"}, {\"pickup\": \"2019-03-06T19:48:11\", \"dropoff\": \"2019-03-06T20:10:20\", \"passengers\": 1, \"distance\": 4.6, \"fare\": 18.5, \"tip\": 4.55, \"tolls\": 0.0, \"total\": 27.35, \"color\": \"yellow\", \"payment\": \"credit card\", \"pickup_zone\": \"Clinton East\", \"dropoff_zone\": \"TriBeCa/Civic Center\", \"pickup_borough\": \"Manhattan\", \"dropoff_borough\": \"Manhattan\"}, {\"pickup\": \"2019-03-19T13:17:00\", \"dropoff\": \"2019-03-19T13:44:38\", \"passengers\": 2, \"distance\": 11.17, \"fare\": 34.0, \"tip\": 10.76, \"tolls\": 5.76, \"total\": 53.82, \"color\": \"yellow\", \"payment\": \"credit card\", \"pickup_zone\": \"Midtown Center\", \"dropoff_zone\": \"LaGuardia Airport\", \"pickup_borough\": \"Manhattan\", \"dropoff_borough\": \"Queens\"}, {\"pickup\": \"2019-03-07T09:37:32\", \"dropoff\": \"2019-03-07T10:03:00\", \"passengers\": 1, \"distance\": 1.61, \"fare\": 15.5, \"tip\": 3.76, \"tolls\": 0.0, \"total\": 22.56, \"color\": \"yellow\", \"payment\": \"credit card\", \"pickup_zone\": \"Upper East Side South\", \"dropoff_zone\": \"Midtown South\", \"pickup_borough\": \"Manhattan\", \"dropoff_borough\": \"Manhattan\"}, {\"pickup\": \"2019-03-23T09:46:05\", \"dropoff\": \"2019-03-23T09:52:25\", \"passengers\": 1, \"distance\": 1.1, \"fare\": 6.5, \"tip\": 1.95, \"tolls\": 0.0, \"total\": 11.75, \"color\": \"yellow\", \"payment\": \"credit card\", \"pickup_zone\": \"Upper East Side South\", \"dropoff_zone\": \"Upper East Side North\", \"pickup_borough\": \"Manhattan\", \"dropoff_borough\": \"Manhattan\"}, {\"pickup\": \"2019-03-15T18:02:53\", \"dropoff\": \"2019-03-15T18:31:06\", \"passengers\": 2, \"distance\": 5.82, \"fare\": 22.5, \"tip\": 5.36, \"tolls\": 0.0, \"total\": 32.16, \"color\": \"yellow\", \"payment\": \"credit card\", \"pickup_zone\": \"Clinton East\", \"dropoff_zone\": \"Financial District North\", \"pickup_borough\": \"Manhattan\", \"dropoff_borough\": \"Manhattan\"}, {\"pickup\": \"2019-03-17T14:39:40\", \"dropoff\": \"2019-03-17T14:42:12\", \"passengers\": 1, \"distance\": 0.36, \"fare\": 3.5, \"tip\": 0.0, \"tolls\": 0.0, \"total\": 6.8, \"color\": \"yellow\", \"payment\": \"cash\", \"pickup_zone\": \"Clinton East\", \"dropoff_zone\": \"Times Sq/Theatre District\", \"pickup_borough\": \"Manhattan\", \"dropoff_borough\": \"Manhattan\"}, {\"pickup\": \"2019-03-12T21:56:28\", \"dropoff\": \"2019-03-12T21:59:14\", \"passengers\": 1, \"distance\": 0.49, \"fare\": 4.0, \"tip\": 0.0, \"tolls\": 0.0, \"total\": 7.8, \"color\": \"yellow\", \"payment\": \"cash\", \"pickup_zone\": \"Clinton East\", \"dropoff_zone\": \"Midtown North\", \"pickup_borough\": \"Manhattan\", \"dropoff_borough\": \"Manhattan\"}, {\"pickup\": \"2019-03-28T15:24:17\", \"dropoff\": \"2019-03-28T15:35:32\", \"passengers\": 1, \"distance\": 1.01, \"fare\": 8.5, \"tip\": 1.18, \"tolls\": 0.0, \"total\": 12.98, \"color\": \"yellow\", \"payment\": \"credit card\", \"pickup_zone\": \"Clinton East\", \"dropoff_zone\": \"Penn Station/Madison Sq West\", \"pickup_borough\": \"Manhattan\", \"dropoff_borough\": \"Manhattan\"}, {\"pickup\": \"2019-03-01T22:48:11\", \"dropoff\": \"2019-03-01T22:50:24\", \"passengers\": 1, \"distance\": 0.42, \"fare\": 3.5, \"tip\": 2.0, \"tolls\": 0.0, \"total\": 9.3, \"color\": \"yellow\", \"payment\": \"credit card\", \"pickup_zone\": \"Clinton East\", \"dropoff_zone\": \"Lincoln Square East\", \"pickup_borough\": \"Manhattan\", \"dropoff_borough\": \"Manhattan\"}, {\"pickup\": \"2019-03-26T23:21:25\", \"dropoff\": \"2019-03-26T23:26:22\", \"passengers\": 1, \"distance\": 1.2, \"fare\": 6.0, \"tip\": 1.95, \"tolls\": 0.0, \"total\": 11.75, \"color\": \"yellow\", \"payment\": \"credit card\", \"pickup_zone\": \"Upper East Side South\", \"dropoff_zone\": \"Upper West Side North\", \"pickup_borough\": \"Manhattan\", \"dropoff_borough\": \"Manhattan\"}, {\"pickup\": \"2019-03-25T21:25:25\", \"dropoff\": \"2019-03-25T21:28:30\", \"passengers\": 3, \"distance\": 0.97, \"fare\": 5.0, \"tip\": 1.32, \"tolls\": 0.0, \"total\": 10.12, \"color\": \"yellow\", \"payment\": \"credit card\", \"pickup_zone\": \"Penn Station/Madison Sq West\", \"dropoff_zone\": \"Union Sq\", \"pickup_borough\": \"Manhattan\", \"dropoff_borough\": \"Manhattan\"}, {\"pickup\": \"2019-03-13T09:30:53\", \"dropoff\": \"2019-03-13T09:42:44\", \"passengers\": 6, \"distance\": 1.12, \"fare\": 8.5, \"tip\": 2.36, \"tolls\": 0.0, \"total\": 14.16, \"color\": \"yellow\", \"payment\": \"credit card\", \"pickup_zone\": \"Penn Station/Madison Sq West\", \"dropoff_zone\": \"Times Sq/Theatre District\", \"pickup_borough\": \"Manhattan\", \"dropoff_borough\": \"Manhattan\"}, {\"pickup\": \"2019-03-13T11:25:11\", \"dropoff\": \"2019-03-13T11:34:55\", \"passengers\": 1, \"distance\": 1.13, \"fare\": 7.5, \"tip\": 3.24, \"tolls\": 0.0, \"total\": 14.04, \"color\": \"yellow\", \"payment\": \"credit card\", \"pickup_zone\": \"Penn Station/Madison Sq West\", \"dropoff_zone\": \"Times Sq/Theatre District\", \"pickup_borough\": \"Manhattan\", \"dropoff_borough\": \"Manhattan\"}, {\"pickup\": \"2019-03-07T15:53:49\", \"dropoff\": \"2019-03-07T16:23:24\", \"passengers\": 1, \"distance\": 5.0, \"fare\": 22.5, \"tip\": 5.16, \"tolls\": 0.0, \"total\": 30.96, \"color\": \"yellow\", \"payment\": \"credit card\", \"pickup_zone\": \"Upper East Side South\", \"dropoff_zone\": \"Greenwich Village North\", \"pickup_borough\": \"Manhattan\", \"dropoff_borough\": \"Manhattan\"}, {\"pickup\": \"2019-03-28T23:00:05\", \"dropoff\": \"2019-03-28T23:13:56\", \"passengers\": 1, \"distance\": 3.8, \"fare\": 13.5, \"tip\": 3.45, \"tolls\": 0.0, \"total\": 20.75, \"color\": \"yellow\", \"payment\": \"credit card\", \"pickup_zone\": \"Midtown Center\", \"dropoff_zone\": \"Manhattan Valley\", \"pickup_borough\": \"Manhattan\", \"dropoff_borough\": \"Manhattan\"}, {\"pickup\": \"2019-03-14T21:54:37\", \"dropoff\": \"2019-03-14T22:07:35\", \"passengers\": 1, \"distance\": 3.62, \"fare\": 13.0, \"tip\": 3.36, \"tolls\": 0.0, \"total\": 20.16, \"color\": \"yellow\", \"payment\": \"credit card\", \"pickup_zone\": \"Midtown Center\", \"dropoff_zone\": \"Central Harlem\", \"pickup_borough\": \"Manhattan\", \"dropoff_borough\": \"Manhattan\"}, {\"pickup\": \"2019-03-31T14:39:07\", \"dropoff\": \"2019-03-31T14:44:26\", \"passengers\": 4, \"distance\": 0.35, \"fare\": 5.0, \"tip\": 0.0, \"tolls\": 0.0, \"total\": 8.3, \"color\": \"yellow\", \"payment\": \"cash\", \"pickup_zone\": \"Clinton East\", \"dropoff_zone\": \"Times Sq/Theatre District\", \"pickup_borough\": \"Manhattan\", \"dropoff_borough\": \"Manhattan\"}, {\"pickup\": \"2019-03-01T04:19:39\", \"dropoff\": \"2019-03-01T04:23:36\", \"passengers\": 1, \"distance\": 0.84, \"fare\": 5.0, \"tip\": 0.5, \"tolls\": 0.0, \"total\": 9.3, \"color\": \"yellow\", \"payment\": \"credit card\", \"pickup_zone\": \"Penn Station/Madison Sq West\", \"dropoff_zone\": \"Union Sq\", \"pickup_borough\": \"Manhattan\", \"dropoff_borough\": \"Manhattan\"}, {\"pickup\": \"2019-03-29T23:14:09\", \"dropoff\": \"2019-03-29T23:20:27\", \"passengers\": 2, \"distance\": 0.7, \"fare\": 6.0, \"tip\": 0.0, \"tolls\": 0.0, \"total\": 9.8, \"color\": \"yellow\", \"payment\": \"cash\", \"pickup_zone\": \"Upper East Side South\", \"dropoff_zone\": \"Midtown Center\", \"pickup_borough\": \"Manhattan\", \"dropoff_borough\": \"Manhattan\"}, {\"pickup\": \"2019-03-07T20:10:44\", \"dropoff\": \"2019-03-07T20:16:23\", \"passengers\": 1, \"distance\": 0.48, \"fare\": 5.5, \"tip\": 1.86, \"tolls\": 0.0, \"total\": 11.16, \"color\": \"yellow\", \"payment\": \"credit card\", \"pickup_zone\": \"Clinton East\", \"dropoff_zone\": \"Clinton West\", \"pickup_borough\": \"Manhattan\", \"dropoff_borough\": \"Manhattan\"}, {\"pickup\": \"2019-03-07T21:47:54\", \"dropoff\": \"2019-03-07T22:29:35\", \"passengers\": 1, \"distance\": 5.9, \"fare\": 29.0, \"tip\": 6.55, \"tolls\": 0.0, \"total\": 39.35, \"color\": \"yellow\", \"payment\": \"credit card\", \"pickup_zone\": \"Penn Station/Madison Sq West\", \"dropoff_zone\": \"East Williamsburg\", \"pickup_borough\": \"Manhattan\", \"dropoff_borough\": \"Brooklyn\"}, {\"pickup\": \"2019-03-26T13:23:44\", \"dropoff\": \"2019-03-26T13:33:27\", \"passengers\": 1, \"distance\": 1.6, \"fare\": 8.5, \"tip\": 2.95, \"tolls\": 0.0, \"total\": 14.75, \"color\": \"yellow\", \"payment\": \"credit card\", \"pickup_zone\": \"Upper East Side South\", \"dropoff_zone\": \"Upper East Side North\", \"pickup_borough\": \"Manhattan\", \"dropoff_borough\": \"Manhattan\"}, {\"pickup\": \"2019-03-12T14:43:15\", \"dropoff\": \"2019-03-12T14:56:18\", \"passengers\": 1, \"distance\": 1.1, \"fare\": 9.0, \"tip\": 1.0, \"tolls\": 0.0, \"total\": 13.3, \"color\": \"yellow\", \"payment\": \"credit card\", \"pickup_zone\": \"Upper East Side South\", \"dropoff_zone\": \"Midtown Center\", \"pickup_borough\": \"Manhattan\", \"dropoff_borough\": \"Manhattan\"}, {\"pickup\": \"2019-03-10T13:48:07\", \"dropoff\": \"2019-03-10T14:26:11\", \"passengers\": 1, \"distance\": 6.3, \"fare\": 27.0, \"tip\": 7.58, \"tolls\": 0.0, \"total\": 37.88, \"color\": \"yellow\", \"payment\": \"credit card\", \"pickup_zone\": \"Penn Station/Madison Sq West\", \"dropoff_zone\": \"Crown Heights North\", \"pickup_borough\": \"Manhattan\", \"dropoff_borough\": \"Brooklyn\"}, {\"pickup\": \"2019-03-27T19:46:15\", \"dropoff\": \"2019-03-27T20:03:56\", \"passengers\": 6, \"distance\": 3.29, \"fare\": 14.0, \"tip\": 2.5, \"tolls\": 0.0, \"total\": 20.8, \"color\": \"yellow\", \"payment\": \"credit card\", \"pickup_zone\": \"Midtown Center\", \"dropoff_zone\": \"Central Park\", \"pickup_borough\": \"Manhattan\", \"dropoff_borough\": \"Manhattan\"}, {\"pickup\": \"2019-03-05T12:16:48\", \"dropoff\": \"2019-03-05T12:23:48\", \"passengers\": 3, \"distance\": 0.7, \"fare\": 6.5, \"tip\": 2.9, \"tolls\": 0.0, \"total\": 12.7, \"color\": \"yellow\", \"payment\": \"credit card\", \"pickup_zone\": \"Penn Station/Madison Sq West\", \"dropoff_zone\": \"West Chelsea/Hudson Yards\", \"pickup_borough\": \"Manhattan\", \"dropoff_borough\": \"Manhattan\"}, {\"pickup\": \"2019-03-26T12:51:32\", \"dropoff\": \"2019-03-26T12:57:04\", \"passengers\": 1, \"distance\": 0.93, \"fare\": 5.5, \"tip\": 1.76, \"tolls\": 0.0, \"total\": 10.56, \"color\": \"yellow\", \"payment\": \"credit card\", \"pickup_zone\": \"Clinton East\", \"dropoff_zone\": \"East Chelsea\", \"pickup_borough\": \"Manhattan\", \"dropoff_borough\": \"Manhattan\"}, {\"pickup\": \"2019-03-10T07:57:41\", \"dropoff\": \"2019-03-10T08:02:31\", \"passengers\": 1, \"distance\": 1.0, \"fare\": 5.5, \"tip\": 1.75, \"tolls\": 0.0, \"total\": 10.55, \"color\": \"yellow\", \"payment\": \"credit card\", \"pickup_zone\": \"Penn Station/Madison Sq West\", \"dropoff_zone\": \"Clinton East\", \"pickup_borough\": \"Manhattan\", \"dropoff_borough\": \"Manhattan\"}, {\"pickup\": \"2019-03-20T12:19:59\", \"dropoff\": \"2019-03-20T12:30:59\", \"passengers\": 2, \"distance\": 1.9, \"fare\": 9.5, \"tip\": 3.2, \"tolls\": 0.0, \"total\": 16.0, \"color\": \"yellow\", \"payment\": \"credit card\", \"pickup_zone\": \"Upper East Side South\", \"dropoff_zone\": \"Lincoln Square East\", \"pickup_borough\": \"Manhattan\", \"dropoff_borough\": \"Manhattan\"}, {\"pickup\": \"2019-03-11T17:47:32\", \"dropoff\": \"2019-03-11T18:06:32\", \"passengers\": 1, \"distance\": 2.3, \"fare\": 13.0, \"tip\": 3.45, \"tolls\": 0.0, \"total\": 20.75, \"color\": \"yellow\", \"payment\": \"credit card\", \"pickup_zone\": \"Midtown Center\", \"dropoff_zone\": \"Greenwich Village South\", \"pickup_borough\": \"Manhattan\", \"dropoff_borough\": \"Manhattan\"}, {\"pickup\": \"2019-03-27T10:00:53\", \"dropoff\": \"2019-03-27T10:10:00\", \"passengers\": 4, \"distance\": 0.7, \"fare\": 7.5, \"tip\": 2.15, \"tolls\": 0.0, \"total\": 12.95, \"color\": \"yellow\", \"payment\": \"credit card\", \"pickup_zone\": \"Clinton East\", \"dropoff_zone\": \"Clinton East\", \"pickup_borough\": \"Manhattan\", \"dropoff_borough\": \"Manhattan\"}, {\"pickup\": \"2019-03-09T16:42:52\", \"dropoff\": \"2019-03-09T16:58:29\", \"passengers\": 4, \"distance\": 1.58, \"fare\": 11.5, \"tip\": 0.0, \"tolls\": 0.0, \"total\": 14.8, \"color\": \"yellow\", \"payment\": \"cash\", \"pickup_zone\": \"Penn Station/Madison Sq West\", \"dropoff_zone\": \"Clinton East\", \"pickup_borough\": \"Manhattan\", \"dropoff_borough\": \"Manhattan\"}, {\"pickup\": \"2019-03-14T16:50:07\", \"dropoff\": \"2019-03-14T17:07:03\", \"passengers\": 1, \"distance\": 2.06, \"fare\": 12.5, \"tip\": 2.52, \"tolls\": 0.0, \"total\": 19.32, \"color\": \"yellow\", \"payment\": \"credit card\", \"pickup_zone\": \"Upper East Side South\", \"dropoff_zone\": \"Murray Hill\", \"pickup_borough\": \"Manhattan\", \"dropoff_borough\": \"Manhattan\"}, {\"pickup\": \"2019-03-19T21:40:31\", \"dropoff\": \"2019-03-19T22:20:41\", \"passengers\": 1, \"distance\": 12.0, \"fare\": 39.0, \"tip\": 8.55, \"tolls\": 0.0, \"total\": 51.35, \"color\": \"yellow\", \"payment\": \"credit card\", \"pickup_zone\": \"Penn Station/Madison Sq West\", \"dropoff_zone\": \"East Williamsburg\", \"pickup_borough\": \"Manhattan\", \"dropoff_borough\": \"Brooklyn\"}, {\"pickup\": \"2019-03-26T07:49:30\", \"dropoff\": \"2019-03-26T08:15:47\", \"passengers\": 1, \"distance\": 2.83, \"fare\": 17.0, \"tip\": 4.06, \"tolls\": 0.0, \"total\": 24.36, \"color\": \"yellow\", \"payment\": \"credit card\", \"pickup_zone\": \"Clinton East\", \"dropoff_zone\": \"Gramercy\", \"pickup_borough\": \"Manhattan\", \"dropoff_borough\": \"Manhattan\"}, {\"pickup\": \"2019-03-12T16:58:15\", \"dropoff\": \"2019-03-12T17:12:01\", \"passengers\": 1, \"distance\": 2.11, \"fare\": 11.5, \"tip\": 0.0, \"tolls\": 0.0, \"total\": 15.8, \"color\": \"yellow\", \"payment\": \"cash\", \"pickup_zone\": \"Upper East Side South\", \"dropoff_zone\": \"East Harlem South\", \"pickup_borough\": \"Manhattan\", \"dropoff_borough\": \"Manhattan\"}, {\"pickup\": \"2019-03-03T04:17:10\", \"dropoff\": \"2019-03-03T04:37:33\", \"passengers\": 1, \"distance\": 5.27, \"fare\": 19.5, \"tip\": 4.66, \"tolls\": 0.0, \"total\": 27.96, \"color\": \"yellow\", \"payment\": \"credit card\", \"pickup_zone\": \"Penn Station/Madison Sq West\", \"dropoff_zone\": \"Central Harlem\", \"pickup_borough\": \"Manhattan\", \"dropoff_borough\": \"Manhattan\"}, {\"pickup\": \"2019-03-20T18:20:39\", \"dropoff\": \"2019-03-20T18:40:31\", \"passengers\": 1, \"distance\": 1.51, \"fare\": 12.5, \"tip\": 3.36, \"tolls\": 0.0, \"total\": 20.16, \"color\": \"yellow\", \"payment\": \"credit card\", \"pickup_zone\": \"Penn Station/Madison Sq West\", \"dropoff_zone\": \"Midtown Center\", \"pickup_borough\": \"Manhattan\", \"dropoff_borough\": \"Manhattan\"}, {\"pickup\": \"2019-03-20T19:34:37\", \"dropoff\": \"2019-03-20T20:03:00\", \"passengers\": 1, \"distance\": 5.07, \"fare\": 21.5, \"tip\": 5.16, \"tolls\": 0.0, \"total\": 30.96, \"color\": \"yellow\", \"payment\": \"credit card\", \"pickup_zone\": \"Upper East Side South\", \"dropoff_zone\": \"Central Harlem\", \"pickup_borough\": \"Manhattan\", \"dropoff_borough\": \"Manhattan\"}, {\"pickup\": \"2019-03-17T17:39:25\", \"dropoff\": \"2019-03-17T17:51:54\", \"passengers\": 5, \"distance\": 2.9, \"fare\": 11.5, \"tip\": 3.7, \"tolls\": 0.0, \"total\": 18.5, \"color\": \"yellow\", \"payment\": \"credit card\", \"pickup_zone\": \"Midtown Center\", \"dropoff_zone\": \"Upper West Side North\", \"pickup_borough\": \"Manhattan\", \"dropoff_borough\": \"Manhattan\"}, {\"pickup\": \"2019-03-14T11:52:51\", \"dropoff\": \"2019-03-14T12:00:29\", \"passengers\": 1, \"distance\": 1.2, \"fare\": 7.0, \"tip\": 0.0, \"tolls\": 0.0, \"total\": 10.3, \"color\": \"yellow\", \"payment\": \"cash\", \"pickup_zone\": \"Clinton East\", \"dropoff_zone\": \"Upper East Side South\", \"pickup_borough\": \"Manhattan\", \"dropoff_borough\": \"Manhattan\"}, {\"pickup\": \"2019-03-29T19:42:58\", \"dropoff\": \"2019-03-29T19:46:53\", \"passengers\": 2, \"distance\": 0.51, \"fare\": 4.5, \"tip\": 0.0, \"tolls\": 0.0, \"total\": 8.8, \"color\": \"yellow\", \"payment\": \"cash\", \"pickup_zone\": \"Penn Station/Madison Sq West\", \"dropoff_zone\": \"Flatiron\", \"pickup_borough\": \"Manhattan\", \"dropoff_borough\": \"Manhattan\"}, {\"pickup\": \"2019-03-28T21:22:56\", \"dropoff\": \"2019-03-28T21:42:33\", \"passengers\": 1, \"distance\": 3.18, \"fare\": 14.5, \"tip\": 3.66, \"tolls\": 0.0, \"total\": 21.96, \"color\": \"yellow\", \"payment\": \"credit card\", \"pickup_zone\": \"Midtown Center\", \"dropoff_zone\": \"SoHo\", \"pickup_borough\": \"Manhattan\", \"dropoff_borough\": \"Manhattan\"}, {\"pickup\": \"2019-03-27T14:26:26\", \"dropoff\": \"2019-03-27T14:53:09\", \"passengers\": 5, \"distance\": 1.71, \"fare\": 16.5, \"tip\": 3.0, \"tolls\": 0.0, \"total\": 22.8, \"color\": \"yellow\", \"payment\": \"credit card\", \"pickup_zone\": \"Midtown Center\", \"dropoff_zone\": \"Lenox Hill East\", \"pickup_borough\": \"Manhattan\", \"dropoff_borough\": \"Manhattan\"}, {\"pickup\": \"2019-03-20T18:24:19\", \"dropoff\": \"2019-03-20T18:52:14\", \"passengers\": 5, \"distance\": 3.3, \"fare\": 18.5, \"tip\": 0.0, \"tolls\": 0.0, \"total\": 22.8, \"color\": \"yellow\", \"payment\": \"cash\", \"pickup_zone\": \"Penn Station/Madison Sq West\", \"dropoff_zone\": \"Upper East Side North\", \"pickup_borough\": \"Manhattan\", \"dropoff_borough\": \"Manhattan\"}, {\"pickup\": \"2019-03-12T10:27:13\", \"dropoff\": \"2019-03-12T10:42:12\", \"passengers\": 1, \"distance\": 1.26, \"fare\": 10.0, \"tip\": 2.66, \"tolls\": 0.0, \"total\": 15.96, \"color\": \"yellow\", \"payment\": \"credit card\", \"pickup_zone\": \"Penn Station/Madison Sq West\", \"dropoff_zone\": \"Kips Bay\", \"pickup_borough\": \"Manhattan\", \"dropoff_borough\": \"Manhattan\"}, {\"pickup\": \"2019-03-18T08:07:42\", \"dropoff\": \"2019-03-18T08:12:56\", \"passengers\": 2, \"distance\": 0.96, \"fare\": 5.5, \"tip\": 0.0, \"tolls\": 0.0, \"total\": 8.8, \"color\": \"yellow\", \"payment\": \"cash\", \"pickup_zone\": \"Clinton East\", \"dropoff_zone\": \"East Chelsea\", \"pickup_borough\": \"Manhattan\", \"dropoff_borough\": \"Manhattan\"}, {\"pickup\": \"2019-03-29T17:46:40\", \"dropoff\": \"2019-03-29T17:57:16\", \"passengers\": 0, \"distance\": 0.8, \"fare\": 7.5, \"tip\": 0.0, \"tolls\": 0.0, \"total\": 11.8, \"color\": \"yellow\", \"payment\": \"cash\", \"pickup_zone\": \"Penn Station/Madison Sq West\", \"dropoff_zone\": \"Garment District\", \"pickup_borough\": \"Manhattan\", \"dropoff_borough\": \"Manhattan\"}, {\"pickup\": \"2019-03-13T12:09:35\", \"dropoff\": \"2019-03-13T12:20:45\", \"passengers\": 2, \"distance\": 0.6, \"fare\": 8.0, \"tip\": 2.25, \"tolls\": 0.0, \"total\": 13.55, \"color\": \"yellow\", \"payment\": \"credit card\", \"pickup_zone\": \"Midtown Center\", \"dropoff_zone\": \"Midtown Center\", \"pickup_borough\": \"Manhattan\", \"dropoff_borough\": \"Manhattan\"}, {\"pickup\": \"2019-03-27T14:54:25\", \"dropoff\": \"2019-03-27T15:14:02\", \"passengers\": 1, \"distance\": 3.9, \"fare\": 16.0, \"tip\": 4.8, \"tolls\": 0.0, \"total\": 24.1, \"color\": \"yellow\", \"payment\": \"credit card\", \"pickup_zone\": \"Midtown Center\", \"dropoff_zone\": \"Two Bridges/Seward Park\", \"pickup_borough\": \"Manhattan\", \"dropoff_borough\": \"Manhattan\"}, {\"pickup\": \"2019-03-23T12:48:25\", \"dropoff\": \"2019-03-23T12:57:26\", \"passengers\": 1, \"distance\": 0.98, \"fare\": 7.5, \"tip\": 2.16, \"tolls\": 0.0, \"total\": 12.96, \"color\": \"yellow\", \"payment\": \"credit card\", \"pickup_zone\": \"Penn Station/Madison Sq West\", \"dropoff_zone\": \"Gramercy\", \"pickup_borough\": \"Manhattan\", \"dropoff_borough\": \"Manhattan\"}, {\"pickup\": \"2019-03-31T13:25:12\", \"dropoff\": \"2019-03-31T13:32:10\", \"passengers\": 2, \"distance\": 1.12, \"fare\": 6.5, \"tip\": 1.96, \"tolls\": 0.0, \"total\": 11.76, \"color\": \"yellow\", \"payment\": \"credit card\", \"pickup_zone\": \"Upper East Side South\", \"dropoff_zone\": \"Midtown Center\", \"pickup_borough\": \"Manhattan\", \"dropoff_borough\": \"Manhattan\"}, {\"pickup\": \"2019-03-13T09:54:09\", \"dropoff\": \"2019-03-13T10:03:05\", \"passengers\": 1, \"distance\": 1.2, \"fare\": 7.5, \"tip\": 2.15, \"tolls\": 0.0, \"total\": 12.95, \"color\": \"yellow\", \"payment\": \"credit card\", \"pickup_zone\": \"Penn Station/Madison Sq West\", \"dropoff_zone\": \"Times Sq/Theatre District\", \"pickup_borough\": \"Manhattan\", \"dropoff_borough\": \"Manhattan\"}, {\"pickup\": \"2019-03-31T07:33:26\", \"dropoff\": \"2019-03-31T07:35:34\", \"passengers\": 1, \"distance\": 0.9, \"fare\": 4.5, \"tip\": 0.0, \"tolls\": 0.0, \"total\": 7.8, \"color\": \"yellow\", \"payment\": \"cash\", \"pickup_zone\": \"Penn Station/Madison Sq West\", \"dropoff_zone\": \"Midtown Center\", \"pickup_borough\": \"Manhattan\", \"dropoff_borough\": \"Manhattan\"}, {\"pickup\": \"2019-03-10T17:07:38\", \"dropoff\": \"2019-03-10T17:24:14\", \"passengers\": 1, \"distance\": 1.63, \"fare\": 11.5, \"tip\": 0.0, \"tolls\": 0.0, \"total\": 14.8, \"color\": \"yellow\", \"payment\": \"cash\", \"pickup_zone\": \"Penn Station/Madison Sq West\", \"dropoff_zone\": \"Midtown North\", \"pickup_borough\": \"Manhattan\", \"dropoff_borough\": \"Manhattan\"}, {\"pickup\": \"2019-03-06T17:01:34\", \"dropoff\": \"2019-03-06T17:14:55\", \"passengers\": 2, \"distance\": 1.72, \"fare\": 10.0, \"tip\": 2.86, \"tolls\": 0.0, \"total\": 17.16, \"color\": \"yellow\", \"payment\": \"credit card\", \"pickup_zone\": \"Upper East Side South\", \"dropoff_zone\": \"Yorkville East\", \"pickup_borough\": \"Manhattan\", \"dropoff_borough\": \"Manhattan\"}, {\"pickup\": \"2019-03-04T09:53:33\", \"dropoff\": \"2019-03-04T09:57:09\", \"passengers\": 1, \"distance\": 0.8, \"fare\": 5.0, \"tip\": 1.66, \"tolls\": 0.0, \"total\": 9.96, \"color\": \"yellow\", \"payment\": \"credit card\", \"pickup_zone\": \"Upper East Side South\", \"dropoff_zone\": \"Midtown Center\", \"pickup_borough\": \"Manhattan\", \"dropoff_borough\": \"Manhattan\"}, {\"pickup\": \"2019-03-22T16:48:44\", \"dropoff\": \"2019-03-22T16:55:06\", \"passengers\": 1, \"distance\": 0.4, \"fare\": 5.5, \"tip\": 1.95, \"tolls\": 0.0, \"total\": 11.75, \"color\": \"yellow\", \"payment\": \"credit card\", \"pickup_zone\": \"Upper East Side South\", \"dropoff_zone\": \"Sutton Place/Turtle Bay North\", \"pickup_borough\": \"Manhattan\", \"dropoff_borough\": \"Manhattan\"}, {\"pickup\": \"2019-03-12T16:16:26\", \"dropoff\": \"2019-03-12T16:20:35\", \"passengers\": 1, \"distance\": 0.7, \"fare\": 5.0, \"tip\": 1.0, \"tolls\": 0.0, \"total\": 10.3, \"color\": \"yellow\", \"payment\": \"credit card\", \"pickup_zone\": \"Upper East Side South\", \"dropoff_zone\": \"Lenox Hill East\", \"pickup_borough\": \"Manhattan\", \"dropoff_borough\": \"Manhattan\"}, {\"pickup\": \"2019-03-09T18:40:02\", \"dropoff\": \"2019-03-09T18:49:04\", \"passengers\": 1, \"distance\": 1.76, \"fare\": 8.5, \"tip\": 1.0, \"tolls\": 0.0, \"total\": 12.8, \"color\": \"yellow\", \"payment\": \"credit card\", \"pickup_zone\": \"Clinton East\", \"dropoff_zone\": \"Midtown East\", \"pickup_borough\": \"Manhattan\", \"dropoff_borough\": \"Manhattan\"}, {\"pickup\": \"2019-03-23T16:22:44\", \"dropoff\": \"2019-03-23T16:33:31\", \"passengers\": 1, \"distance\": 1.65, \"fare\": 9.0, \"tip\": 1.0, \"tolls\": 0.0, \"total\": 13.3, \"color\": \"yellow\", \"payment\": \"credit card\", \"pickup_zone\": \"Clinton East\", \"dropoff_zone\": \"Flatiron\", \"pickup_borough\": \"Manhattan\", \"dropoff_borough\": \"Manhattan\"}, {\"pickup\": \"2019-03-23T16:54:39\", \"dropoff\": \"2019-03-23T17:04:26\", \"passengers\": 1, \"distance\": 0.85, \"fare\": 7.5, \"tip\": 2.16, \"tolls\": 0.0, \"total\": 12.96, \"color\": \"yellow\", \"payment\": \"credit card\", \"pickup_zone\": \"Upper East Side South\", \"dropoff_zone\": \"Midtown North\", \"pickup_borough\": \"Manhattan\", \"dropoff_borough\": \"Manhattan\"}, {\"pickup\": \"2019-03-06T07:20:36\", \"dropoff\": \"2019-03-06T07:25:30\", \"passengers\": 1, \"distance\": 1.13, \"fare\": 6.0, \"tip\": 1.0, \"tolls\": 0.0, \"total\": 10.3, \"color\": \"yellow\", \"payment\": \"credit card\", \"pickup_zone\": \"Upper East Side South\", \"dropoff_zone\": \"UN/Turtle Bay South\", \"pickup_borough\": \"Manhattan\", \"dropoff_borough\": \"Manhattan\"}, {\"pickup\": \"2019-03-16T16:58:57\", \"dropoff\": \"2019-03-16T17:19:07\", \"passengers\": 5, \"distance\": 1.43, \"fare\": 13.0, \"tip\": 0.0, \"tolls\": 0.0, \"total\": 16.3, \"color\": \"yellow\", \"payment\": \"cash\", \"pickup_zone\": \"Midtown Center\", \"dropoff_zone\": \"Flatiron\", \"pickup_borough\": \"Manhattan\", \"dropoff_borough\": \"Manhattan\"}, {\"pickup\": \"2019-03-13T22:05:44\", \"dropoff\": \"2019-03-13T22:24:36\", \"passengers\": 1, \"distance\": 3.57, \"fare\": 15.0, \"tip\": 3.76, \"tolls\": 0.0, \"total\": 22.56, \"color\": \"yellow\", \"payment\": \"credit card\", \"pickup_zone\": \"Penn Station/Madison Sq West\", \"dropoff_zone\": \"Lenox Hill East\", \"pickup_borough\": \"Manhattan\", \"dropoff_borough\": \"Manhattan\"}, {\"pickup\": \"2019-03-27T15:25:02\", \"dropoff\": \"2019-03-27T15:32:34\", \"passengers\": 1, \"distance\": 0.79, \"fare\": 6.5, \"tip\": 1.96, \"tolls\": 0.0, \"total\": 11.76, \"color\": \"yellow\", \"payment\": \"credit card\", \"pickup_zone\": \"Midtown Center\", \"dropoff_zone\": \"Upper East Side South\", \"pickup_borough\": \"Manhattan\", \"dropoff_borough\": \"Manhattan\"}, {\"pickup\": \"2019-03-20T14:22:45\", \"dropoff\": \"2019-03-20T14:34:44\", \"passengers\": 1, \"distance\": 0.6, \"fare\": 8.0, \"tip\": 2.25, \"tolls\": 0.0, \"total\": 13.55, \"color\": \"yellow\", \"payment\": \"credit card\", \"pickup_zone\": \"Midtown Center\", \"dropoff_zone\": \"Midtown North\", \"pickup_borough\": \"Manhattan\", \"dropoff_borough\": \"Manhattan\"}, {\"pickup\": \"2019-03-16T18:08:35\", \"dropoff\": \"2019-03-16T18:17:58\", \"passengers\": 3, \"distance\": 1.44, \"fare\": 8.0, \"tip\": 2.26, \"tolls\": 0.0, \"total\": 13.56, \"color\": \"yellow\", \"payment\": \"credit card\", \"pickup_zone\": \"Upper East Side South\", \"dropoff_zone\": \"Lenox Hill East\", \"pickup_borough\": \"Manhattan\", \"dropoff_borough\": \"Manhattan\"}, {\"pickup\": \"2019-03-10T14:42:56\", \"dropoff\": \"2019-03-10T14:59:47\", \"passengers\": 1, \"distance\": 1.93, \"fare\": 12.0, \"tip\": 3.06, \"tolls\": 0.0, \"total\": 18.36, \"color\": \"yellow\", \"payment\": \"credit card\", \"pickup_zone\": \"Upper East Side South\", \"dropoff_zone\": \"UN/Turtle Bay South\", \"pickup_borough\": \"Manhattan\", \"dropoff_borough\": \"Manhattan\"}, {\"pickup\": \"2019-03-16T00:23:19\", \"dropoff\": \"2019-03-16T01:00:04\", \"passengers\": 1, \"distance\": 11.57, \"fare\": 38.0, \"tip\": 0.0, \"tolls\": 0.0, \"total\": 41.8, \"color\": \"yellow\", \"payment\": \"cash\", \"pickup_zone\": \"Midtown Center\", \"dropoff_zone\": \"Hillcrest/Pomonok\", \"pickup_borough\": \"Manhattan\", \"dropoff_borough\": \"Queens\"}, {\"pickup\": \"2019-03-08T14:51:04\", \"dropoff\": \"2019-03-08T15:00:42\", \"passengers\": 1, \"distance\": 1.1, \"fare\": 7.5, \"tip\": 1.62, \"tolls\": 0.0, \"total\": 12.42, \"color\": \"yellow\", \"payment\": \"credit card\", \"pickup_zone\": \"Clinton East\", \"dropoff_zone\": \"Penn Station/Madison Sq West\", \"pickup_borough\": \"Manhattan\", \"dropoff_borough\": \"Manhattan\"}, {\"pickup\": \"2019-03-16T20:33:18\", \"dropoff\": \"2019-03-16T20:44:04\", \"passengers\": 1, \"distance\": 1.78, \"fare\": 9.5, \"tip\": 0.0, \"tolls\": 0.0, \"total\": 13.3, \"color\": \"yellow\", \"payment\": \"cash\", \"pickup_zone\": \"Upper East Side South\", \"dropoff_zone\": \"Midtown East\", \"pickup_borough\": \"Manhattan\", \"dropoff_borough\": \"Manhattan\"}, {\"pickup\": \"2019-03-08T14:04:17\", \"dropoff\": \"2019-03-08T14:21:24\", \"passengers\": 2, \"distance\": 1.47, \"fare\": 10.5, \"tip\": 0.0, \"tolls\": 0.0, \"total\": 13.8, \"color\": \"yellow\", \"payment\": \"cash\", \"pickup_zone\": \"Penn Station/Madison Sq West\", \"dropoff_zone\": \"Kips Bay\", \"pickup_borough\": \"Manhattan\", \"dropoff_borough\": \"Manhattan\"}, {\"pickup\": \"2019-03-18T21:41:05\", \"dropoff\": \"2019-03-18T21:50:08\", \"passengers\": 3, \"distance\": 1.6, \"fare\": 8.0, \"tip\": 0.59, \"tolls\": 0.0, \"total\": 12.39, \"color\": \"yellow\", \"payment\": \"credit card\", \"pickup_zone\": \"Midtown Center\", \"dropoff_zone\": \"Murray Hill\", \"pickup_borough\": \"Manhattan\", \"dropoff_borough\": \"Manhattan\"}, {\"pickup\": \"2019-03-22T17:22:59\", \"dropoff\": \"2019-03-22T17:35:57\", \"passengers\": 1, \"distance\": 1.55, \"fare\": 9.5, \"tip\": 0.0, \"tolls\": 0.0, \"total\": 13.8, \"color\": \"yellow\", \"payment\": \"cash\", \"pickup_zone\": \"Midtown Center\", \"dropoff_zone\": \"Clinton West\", \"pickup_borough\": \"Manhattan\", \"dropoff_borough\": \"Manhattan\"}, {\"pickup\": \"2019-03-06T10:12:48\", \"dropoff\": \"2019-03-06T10:20:44\", \"passengers\": 4, \"distance\": 0.48, \"fare\": 6.5, \"tip\": 2.45, \"tolls\": 0.0, \"total\": 12.25, \"color\": \"yellow\", \"payment\": \"credit card\", \"pickup_zone\": \"Midtown Center\", \"dropoff_zone\": \"Times Sq/Theatre District\", \"pickup_borough\": \"Manhattan\", \"dropoff_borough\": \"Manhattan\"}, {\"pickup\": \"2019-03-14T15:50:27\", \"dropoff\": \"2019-03-14T15:59:46\", \"passengers\": 1, \"distance\": 1.34, \"fare\": 8.0, \"tip\": 2.26, \"tolls\": 0.0, \"total\": 13.56, \"color\": \"yellow\", \"payment\": \"credit card\", \"pickup_zone\": \"Midtown Center\", \"dropoff_zone\": \"Upper East Side South\", \"pickup_borough\": \"Manhattan\", \"dropoff_borough\": \"Manhattan\"}, {\"pickup\": \"2019-03-31T10:46:21\", \"dropoff\": \"2019-03-31T11:05:05\", \"passengers\": 2, \"distance\": 3.63, \"fare\": 14.5, \"tip\": 3.56, \"tolls\": 0.0, \"total\": 21.36, \"color\": \"yellow\", \"payment\": \"credit card\", \"pickup_zone\": \"Midtown Center\", \"dropoff_zone\": \"Little Italy/NoLiTa\", \"pickup_borough\": \"Manhattan\", \"dropoff_borough\": \"Manhattan\"}, {\"pickup\": \"2019-03-04T06:06:45\", \"dropoff\": \"2019-03-04T06:15:16\", \"passengers\": 1, \"distance\": 2.4, \"fare\": 9.5, \"tip\": 2.55, \"tolls\": 0.0, \"total\": 15.35, \"color\": \"yellow\", \"payment\": \"credit card\", \"pickup_zone\": \"Clinton East\", \"dropoff_zone\": \"Lenox Hill West\", \"pickup_borough\": \"Manhattan\", \"dropoff_borough\": \"Manhattan\"}, {\"pickup\": \"2019-03-22T20:51:04\", \"dropoff\": \"2019-03-22T21:11:45\", \"passengers\": 1, \"distance\": 3.9, \"fare\": 18.0, \"tip\": 4.0, \"tolls\": 0.0, \"total\": 25.8, \"color\": \"yellow\", \"payment\": \"credit card\", \"pickup_zone\": \"Penn Station/Madison Sq West\", \"dropoff_zone\": \"Battery Park City\", \"pickup_borough\": \"Manhattan\", \"dropoff_borough\": \"Manhattan\"}, {\"pickup\": \"2019-03-06T09:45:01\", \"dropoff\": \"2019-03-06T10:00:17\", \"passengers\": 1, \"distance\": 1.56, \"fare\": 11.0, \"tip\": 0.0, \"tolls\": 0.0, \"total\": 14.3, \"color\": \"yellow\", \"payment\": \"cash\", \"pickup_zone\": \"Midtown Center\", \"dropoff_zone\": \"Lenox Hill West\", \"pickup_borough\": \"Manhattan\", \"dropoff_borough\": \"Manhattan\"}, {\"pickup\": \"2019-03-04T14:17:58\", \"dropoff\": \"2019-03-04T14:22:18\", \"passengers\": 1, \"distance\": 0.7, \"fare\": 5.0, \"tip\": 1.65, \"tolls\": 0.0, \"total\": 9.95, \"color\": \"yellow\", \"payment\": \"credit card\", \"pickup_zone\": \"Midtown Center\", \"dropoff_zone\": \"Midtown East\", \"pickup_borough\": \"Manhattan\", \"dropoff_borough\": \"Manhattan\"}, {\"pickup\": \"2019-03-25T13:38:56\", \"dropoff\": \"2019-03-25T13:45:43\", \"passengers\": 1, \"distance\": 0.9, \"fare\": 6.5, \"tip\": 0.0, \"tolls\": 0.0, \"total\": 9.8, \"color\": \"yellow\", \"payment\": \"cash\", \"pickup_zone\": \"Upper East Side South\", \"dropoff_zone\": \"Midtown East\", \"pickup_borough\": \"Manhattan\", \"dropoff_borough\": \"Manhattan\"}, {\"pickup\": \"2019-03-10T08:44:52\", \"dropoff\": \"2019-03-10T08:48:23\", \"passengers\": 1, \"distance\": 0.78, \"fare\": 5.0, \"tip\": 2.08, \"tolls\": 0.0, \"total\": 10.38, \"color\": \"yellow\", \"payment\": \"credit card\", \"pickup_zone\": \"Penn Station/Madison Sq West\", \"dropoff_zone\": \"Union Sq\", \"pickup_borough\": \"Manhattan\", \"dropoff_borough\": \"Manhattan\"}, {\"pickup\": \"2019-03-30T19:06:26\", \"dropoff\": \"2019-03-30T19:21:31\", \"passengers\": 1, \"distance\": 1.56, \"fare\": 10.5, \"tip\": 2.0, \"tolls\": 0.0, \"total\": 15.8, \"color\": \"yellow\", \"payment\": \"credit card\", \"pickup_zone\": \"Midtown Center\", \"dropoff_zone\": \"East Chelsea\", \"pickup_borough\": \"Manhattan\", \"dropoff_borough\": \"Manhattan\"}, {\"pickup\": \"2019-03-28T18:34:05\", \"dropoff\": \"2019-03-28T18:40:29\", \"passengers\": 1, \"distance\": 0.87, \"fare\": 6.0, \"tip\": 2.06, \"tolls\": 0.0, \"total\": 12.36, \"color\": \"yellow\", \"payment\": \"credit card\", \"pickup_zone\": \"Upper East Side South\", \"dropoff_zone\": \"Lenox Hill West\", \"pickup_borough\": \"Manhattan\", \"dropoff_borough\": \"Manhattan\"}, {\"pickup\": \"2019-03-23T19:24:28\", \"dropoff\": \"2019-03-23T19:47:17\", \"passengers\": 0, \"distance\": 1.5, \"fare\": 14.5, \"tip\": 3.0, \"tolls\": 0.0, \"total\": 20.8, \"color\": \"yellow\", \"payment\": \"credit card\", \"pickup_zone\": \"Penn Station/Madison Sq West\", \"dropoff_zone\": \"Midtown Center\", \"pickup_borough\": \"Manhattan\", \"dropoff_borough\": \"Manhattan\"}, {\"pickup\": \"2019-03-11T06:20:58\", \"dropoff\": \"2019-03-11T06:34:36\", \"passengers\": 1, \"distance\": 3.09, \"fare\": 12.5, \"tip\": 0.0, \"tolls\": 0.0, \"total\": 15.8, \"color\": \"yellow\", \"payment\": \"cash\", \"pickup_zone\": \"Clinton East\", \"dropoff_zone\": \"Morningside Heights\", \"pickup_borough\": \"Manhattan\", \"dropoff_borough\": \"Manhattan\"}, {\"pickup\": \"2019-03-16T01:09:58\", \"dropoff\": \"2019-03-16T01:14:17\", \"passengers\": 6, \"distance\": 0.8, \"fare\": 5.0, \"tip\": 1.76, \"tolls\": 0.0, \"total\": 10.56, \"color\": \"yellow\", \"payment\": \"credit card\", \"pickup_zone\": \"Penn Station/Madison Sq West\", \"dropoff_zone\": \"West Village\", \"pickup_borough\": \"Manhattan\", \"dropoff_borough\": \"Manhattan\"}, {\"pickup\": \"2019-03-15T15:21:08\", \"dropoff\": \"2019-03-15T15:22:58\", \"passengers\": 1, \"distance\": 0.2, \"fare\": 3.5, \"tip\": 1.36, \"tolls\": 0.0, \"total\": 8.16, \"color\": \"yellow\", \"payment\": \"credit card\", \"pickup_zone\": \"Penn Station/Madison Sq West\", \"dropoff_zone\": \"Garment District\", \"pickup_borough\": \"Manhattan\", \"dropoff_borough\": \"Manhattan\"}, {\"pickup\": \"2019-03-06T07:24:09\", \"dropoff\": \"2019-03-06T07:31:53\", \"passengers\": 1, \"distance\": 1.2, \"fare\": 7.5, \"tip\": 2.16, \"tolls\": 0.0, \"total\": 12.96, \"color\": \"yellow\", \"payment\": \"credit card\", \"pickup_zone\": \"Upper East Side South\", \"dropoff_zone\": \"Midtown North\", \"pickup_borough\": \"Manhattan\", \"dropoff_borough\": \"Manhattan\"}, {\"pickup\": \"2019-03-04T07:23:37\", \"dropoff\": \"2019-03-04T07:25:58\", \"passengers\": 1, \"distance\": 0.79, \"fare\": 4.0, \"tip\": 1.0, \"tolls\": 0.0, \"total\": 8.3, \"color\": \"yellow\", \"payment\": \"credit card\", \"pickup_zone\": \"Upper East Side South\", \"dropoff_zone\": \"Lenox Hill West\", \"pickup_borough\": \"Manhattan\", \"dropoff_borough\": \"Manhattan\"}, {\"pickup\": \"2019-03-13T11:22:33\", \"dropoff\": \"2019-03-13T11:30:21\", \"passengers\": 1, \"distance\": 0.64, \"fare\": 6.0, \"tip\": 1.5, \"tolls\": 0.0, \"total\": 10.8, \"color\": \"yellow\", \"payment\": \"credit card\", \"pickup_zone\": \"Upper East Side South\", \"dropoff_zone\": \"Lenox Hill East\", \"pickup_borough\": \"Manhattan\", \"dropoff_borough\": \"Manhattan\"}, {\"pickup\": \"2019-03-07T16:16:26\", \"dropoff\": \"2019-03-07T16:56:26\", \"passengers\": 1, \"distance\": 7.27, \"fare\": 30.0, \"tip\": 6.86, \"tolls\": 0.0, \"total\": 41.16, \"color\": \"yellow\", \"payment\": \"credit card\", \"pickup_zone\": \"Upper East Side South\", \"dropoff_zone\": \"Hudson Sq\", \"pickup_borough\": \"Manhattan\", \"dropoff_borough\": \"Manhattan\"}, {\"pickup\": \"2019-03-08T10:28:37\", \"dropoff\": \"2019-03-08T11:03:15\", \"passengers\": 1, \"distance\": 1.35, \"fare\": 20.0, \"tip\": 0.0, \"tolls\": 0.0, \"total\": 23.3, \"color\": \"yellow\", \"payment\": \"cash\", \"pickup_zone\": \"Clinton East\", \"dropoff_zone\": \"UN/Turtle Bay South\", \"pickup_borough\": \"Manhattan\", \"dropoff_borough\": \"Manhattan\"}, {\"pickup\": \"2019-03-29T10:20:07\", \"dropoff\": \"2019-03-29T10:39:47\", \"passengers\": 1, \"distance\": 2.54, \"fare\": 14.0, \"tip\": 3.46, \"tolls\": 0.0, \"total\": 20.76, \"color\": \"yellow\", \"payment\": \"credit card\", \"pickup_zone\": \"Clinton East\", \"dropoff_zone\": \"Upper West Side South\", \"pickup_borough\": \"Manhattan\", \"dropoff_borough\": \"Manhattan\"}, {\"pickup\": \"2019-03-23T19:12:42\", \"dropoff\": \"2019-03-23T19:23:38\", \"passengers\": 2, \"distance\": 1.21, \"fare\": 8.0, \"tip\": 2.26, \"tolls\": 0.0, \"total\": 13.56, \"color\": \"yellow\", \"payment\": \"credit card\", \"pickup_zone\": \"Clinton East\", \"dropoff_zone\": \"Penn Station/Madison Sq West\", \"pickup_borough\": \"Manhattan\", \"dropoff_borough\": \"Manhattan\"}, {\"pickup\": \"2019-03-18T13:09:39\", \"dropoff\": \"2019-03-18T13:18:54\", \"passengers\": 1, \"distance\": 1.68, \"fare\": 8.0, \"tip\": 0.0, \"tolls\": 0.0, \"total\": 11.3, \"color\": \"yellow\", \"payment\": \"cash\", \"pickup_zone\": \"Midtown Center\", \"dropoff_zone\": \"Greenwich Village North\", \"pickup_borough\": \"Manhattan\", \"dropoff_borough\": \"Manhattan\"}, {\"pickup\": \"2019-03-24T03:44:09\", \"dropoff\": \"2019-03-24T03:52:13\", \"passengers\": 1, \"distance\": 1.31, \"fare\": 7.5, \"tip\": 2.26, \"tolls\": 0.0, \"total\": 13.56, \"color\": \"yellow\", \"payment\": \"credit card\", \"pickup_zone\": \"Clinton East\", \"dropoff_zone\": \"Murray Hill\", \"pickup_borough\": \"Manhattan\", \"dropoff_borough\": \"Manhattan\"}, {\"pickup\": \"2019-03-20T18:33:41\", \"dropoff\": \"2019-03-20T18:58:25\", \"passengers\": 1, \"distance\": 2.7, \"fare\": 16.0, \"tip\": 4.05, \"tolls\": 0.0, \"total\": 24.35, \"color\": \"yellow\", \"payment\": \"credit card\", \"pickup_zone\": \"Midtown Center\", \"dropoff_zone\": \"Little Italy/NoLiTa\", \"pickup_borough\": \"Manhattan\", \"dropoff_borough\": \"Manhattan\"}, {\"pickup\": \"2019-03-31T04:28:01\", \"dropoff\": \"2019-03-31T04:32:57\", \"passengers\": 1, \"distance\": 1.65, \"fare\": 7.0, \"tip\": 2.16, \"tolls\": 0.0, \"total\": 12.96, \"color\": \"yellow\", \"payment\": \"credit card\", \"pickup_zone\": \"Clinton East\", \"dropoff_zone\": \"Flatiron\", \"pickup_borough\": \"Manhattan\", \"dropoff_borough\": \"Manhattan\"}, {\"pickup\": \"2019-03-27T11:44:25\", \"dropoff\": \"2019-03-27T11:52:10\", \"passengers\": 1, \"distance\": 0.72, \"fare\": 6.5, \"tip\": 0.0, \"tolls\": 0.0, \"total\": 9.8, \"color\": \"yellow\", \"payment\": \"cash\", \"pickup_zone\": \"Midtown Center\", \"dropoff_zone\": \"Upper East Side South\", \"pickup_borough\": \"Manhattan\", \"dropoff_borough\": \"Manhattan\"}, {\"pickup\": \"2019-03-22T20:37:49\", \"dropoff\": \"2019-03-22T21:03:40\", \"passengers\": 1, \"distance\": 3.4, \"fare\": 17.0, \"tip\": 4.15, \"tolls\": 0.0, \"total\": 24.95, \"color\": \"yellow\", \"payment\": \"credit card\", \"pickup_zone\": \"Upper East Side South\", \"dropoff_zone\": \"Greenwich Village South\", \"pickup_borough\": \"Manhattan\", \"dropoff_borough\": \"Manhattan\"}, {\"pickup\": \"2019-03-12T19:17:17\", \"dropoff\": \"2019-03-12T19:30:28\", \"passengers\": 1, \"distance\": 1.1, \"fare\": 9.5, \"tip\": 3.45, \"tolls\": 0.0, \"total\": 17.25, \"color\": \"yellow\", \"payment\": \"credit card\", \"pickup_zone\": \"Penn Station/Madison Sq West\", \"dropoff_zone\": \"Midtown South\", \"pickup_borough\": \"Manhattan\", \"dropoff_borough\": \"Manhattan\"}, {\"pickup\": \"2019-03-06T21:20:27\", \"dropoff\": \"2019-03-06T22:15:45\", \"passengers\": 0, \"distance\": 9.3, \"fare\": 41.5, \"tip\": 0.0, \"tolls\": 5.76, \"total\": 51.06, \"color\": \"yellow\", \"payment\": null, \"pickup_zone\": \"Midtown Center\", \"dropoff_zone\": \"Forest Hills\", \"pickup_borough\": \"Manhattan\", \"dropoff_borough\": \"Queens\"}, {\"pickup\": \"2019-03-22T17:26:24\", \"dropoff\": \"2019-03-22T17:39:23\", \"passengers\": 2, \"distance\": 3.03, \"fare\": 12.0, \"tip\": 1.2, \"tolls\": 0.0, \"total\": 17.5, \"color\": \"yellow\", \"payment\": \"credit card\", \"pickup_zone\": \"Midtown Center\", \"dropoff_zone\": \"East Harlem South\", \"pickup_borough\": \"Manhattan\", \"dropoff_borough\": \"Manhattan\"}, {\"pickup\": \"2019-03-01T14:10:35\", \"dropoff\": \"2019-03-01T14:29:31\", \"passengers\": 3, \"distance\": 2.2, \"fare\": 12.5, \"tip\": 2.37, \"tolls\": 0.0, \"total\": 18.17, \"color\": \"yellow\", \"payment\": \"credit card\", \"pickup_zone\": \"Penn Station/Madison Sq West\", \"dropoff_zone\": \"Sutton Place/Turtle Bay North\", \"pickup_borough\": \"Manhattan\", \"dropoff_borough\": \"Manhattan\"}, {\"pickup\": \"2019-03-21T00:36:10\", \"dropoff\": \"2019-03-21T00:38:49\", \"passengers\": 1, \"distance\": 0.8, \"fare\": 4.5, \"tip\": 0.0, \"tolls\": 0.0, \"total\": 8.3, \"color\": \"yellow\", \"payment\": \"cash\", \"pickup_zone\": \"Clinton East\", \"dropoff_zone\": \"Garment District\", \"pickup_borough\": \"Manhattan\", \"dropoff_borough\": \"Manhattan\"}, {\"pickup\": \"2019-03-16T13:29:00\", \"dropoff\": \"2019-03-16T13:50:09\", \"passengers\": 1, \"distance\": 3.85, \"fare\": 15.5, \"tip\": 4.7, \"tolls\": 0.0, \"total\": 23.5, \"color\": \"yellow\", \"payment\": \"credit card\", \"pickup_zone\": \"Upper East Side South\", \"dropoff_zone\": \"East Village\", \"pickup_borough\": \"Manhattan\", \"dropoff_borough\": \"Manhattan\"}, {\"pickup\": \"2019-03-28T17:57:41\", \"dropoff\": \"2019-03-28T18:10:43\", \"passengers\": 1, \"distance\": 1.6, \"fare\": 10.0, \"tip\": 2.15, \"tolls\": 0.0, \"total\": 16.45, \"color\": \"yellow\", \"payment\": \"credit card\", \"pickup_zone\": \"Clinton East\", \"dropoff_zone\": \"Lincoln Square East\", \"pickup_borough\": \"Manhattan\", \"dropoff_borough\": \"Manhattan\"}, {\"pickup\": \"2019-03-25T12:40:44\", \"dropoff\": \"2019-03-25T12:45:23\", \"passengers\": 2, \"distance\": 0.68, \"fare\": 5.0, \"tip\": 1.66, \"tolls\": 0.0, \"total\": 9.96, \"color\": \"yellow\", \"payment\": \"credit card\", \"pickup_zone\": \"Clinton East\", \"dropoff_zone\": \"Clinton West\", \"pickup_borough\": \"Manhattan\", \"dropoff_borough\": \"Manhattan\"}, {\"pickup\": \"2019-03-14T18:12:22\", \"dropoff\": \"2019-03-14T18:35:46\", \"passengers\": 2, \"distance\": 1.66, \"fare\": 14.5, \"tip\": 0.0, \"tolls\": 0.0, \"total\": 17.8, \"color\": \"yellow\", \"payment\": \"cash\", \"pickup_zone\": \"Penn Station/Madison Sq West\", \"dropoff_zone\": \"West Chelsea/Hudson Yards\", \"pickup_borough\": \"Manhattan\", \"dropoff_borough\": \"Manhattan\"}, {\"pickup\": \"2019-03-12T11:07:16\", \"dropoff\": \"2019-03-12T11:29:02\", \"passengers\": 1, \"distance\": 2.3, \"fare\": 14.5, \"tip\": 4.45, \"tolls\": 0.0, \"total\": 22.25, \"color\": \"yellow\", \"payment\": \"credit card\", \"pickup_zone\": \"Penn Station/Madison Sq West\", \"dropoff_zone\": \"Upper East Side South\", \"pickup_borough\": \"Manhattan\", \"dropoff_borough\": \"Manhattan\"}, {\"pickup\": \"2019-03-08T08:12:06\", \"dropoff\": \"2019-03-08T08:19:04\", \"passengers\": 1, \"distance\": 0.6, \"fare\": 6.0, \"tip\": 1.85, \"tolls\": 0.0, \"total\": 11.15, \"color\": \"yellow\", \"payment\": \"credit card\", \"pickup_zone\": \"Clinton East\", \"dropoff_zone\": \"East Chelsea\", \"pickup_borough\": \"Manhattan\", \"dropoff_borough\": \"Manhattan\"}, {\"pickup\": \"2019-03-27T08:00:19\", \"dropoff\": \"2019-03-27T08:05:26\", \"passengers\": 2, \"distance\": 0.4, \"fare\": 5.0, \"tip\": 2.45, \"tolls\": 0.0, \"total\": 10.75, \"color\": \"yellow\", \"payment\": \"credit card\", \"pickup_zone\": \"Clinton East\", \"dropoff_zone\": \"Midtown Center\", \"pickup_borough\": \"Manhattan\", \"dropoff_borough\": \"Manhattan\"}, {\"pickup\": \"2019-03-23T13:34:09\", \"dropoff\": \"2019-03-23T13:40:26\", \"passengers\": 2, \"distance\": 1.6, \"fare\": 7.0, \"tip\": 2.06, \"tolls\": 0.0, \"total\": 12.36, \"color\": \"yellow\", \"payment\": \"credit card\", \"pickup_zone\": \"Clinton East\", \"dropoff_zone\": \"Lincoln Square East\", \"pickup_borough\": \"Manhattan\", \"dropoff_borough\": \"Manhattan\"}, {\"pickup\": \"2019-03-06T18:59:37\", \"dropoff\": \"2019-03-06T19:08:13\", \"passengers\": 1, \"distance\": 1.49, \"fare\": 8.0, \"tip\": 2.21, \"tolls\": 0.0, \"total\": 14.51, \"color\": \"yellow\", \"payment\": \"credit card\", \"pickup_zone\": \"Upper East Side South\", \"dropoff_zone\": \"Yorkville East\", \"pickup_borough\": \"Manhattan\", \"dropoff_borough\": \"Manhattan\"}, {\"pickup\": \"2019-03-25T20:18:50\", \"dropoff\": \"2019-03-25T20:28:27\", \"passengers\": 2, \"distance\": 2.6, \"fare\": 10.0, \"tip\": 0.0, \"tolls\": 0.0, \"total\": 13.8, \"color\": \"yellow\", \"payment\": \"cash\", \"pickup_zone\": \"Clinton East\", \"dropoff_zone\": \"Upper West Side North\", \"pickup_borough\": \"Manhattan\", \"dropoff_borough\": \"Manhattan\"}, {\"pickup\": \"2019-03-01T22:57:44\", \"dropoff\": \"2019-03-01T23:09:06\", \"passengers\": 2, \"distance\": 0.99, \"fare\": 7.5, \"tip\": 2.82, \"tolls\": 0.0, \"total\": 14.12, \"color\": \"yellow\", \"payment\": \"credit card\", \"pickup_zone\": \"Clinton East\", \"dropoff_zone\": \"Garment District\", \"pickup_borough\": \"Manhattan\", \"dropoff_borough\": \"Manhattan\"}, {\"pickup\": \"2019-03-06T10:49:39\", \"dropoff\": \"2019-03-06T10:54:59\", \"passengers\": 2, \"distance\": 0.45, \"fare\": 5.0, \"tip\": 1.66, \"tolls\": 0.0, \"total\": 9.96, \"color\": \"yellow\", \"payment\": \"credit card\", \"pickup_zone\": \"Upper East Side South\", \"dropoff_zone\": \"Midtown Center\", \"pickup_borough\": \"Manhattan\", \"dropoff_borough\": \"Manhattan\"}, {\"pickup\": \"2019-03-20T02:37:43\", \"dropoff\": \"2019-03-20T02:39:41\", \"passengers\": 1, \"distance\": 0.6, \"fare\": 4.0, \"tip\": 1.95, \"tolls\": 0.0, \"total\": 9.75, \"color\": \"yellow\", \"payment\": \"credit card\", \"pickup_zone\": \"Clinton East\", \"dropoff_zone\": \"Clinton West\", \"pickup_borough\": \"Manhattan\", \"dropoff_borough\": \"Manhattan\"}, {\"pickup\": \"2019-03-15T20:49:53\", \"dropoff\": \"2019-03-15T20:55:26\", \"passengers\": 1, \"distance\": 0.46, \"fare\": 5.0, \"tip\": 1.0, \"tolls\": 0.0, \"total\": 9.8, \"color\": \"yellow\", \"payment\": \"credit card\", \"pickup_zone\": \"Penn Station/Madison Sq West\", \"dropoff_zone\": \"Gramercy\", \"pickup_borough\": \"Manhattan\", \"dropoff_borough\": \"Manhattan\"}, {\"pickup\": \"2019-03-28T10:34:05\", \"dropoff\": \"2019-03-28T10:53:18\", \"passengers\": 1, \"distance\": 2.3, \"fare\": 13.5, \"tip\": 4.2, \"tolls\": 0.0, \"total\": 21.0, \"color\": \"yellow\", \"payment\": \"credit card\", \"pickup_zone\": \"Midtown Center\", \"dropoff_zone\": \"Union Sq\", \"pickup_borough\": \"Manhattan\", \"dropoff_borough\": \"Manhattan\"}, {\"pickup\": \"2019-03-11T06:21:52\", \"dropoff\": \"2019-03-11T06:29:44\", \"passengers\": 1, \"distance\": 1.28, \"fare\": 7.0, \"tip\": 3.09, \"tolls\": 0.0, \"total\": 13.39, \"color\": \"yellow\", \"payment\": \"credit card\", \"pickup_zone\": \"Clinton East\", \"dropoff_zone\": \"Midtown East\", \"pickup_borough\": \"Manhattan\", \"dropoff_borough\": \"Manhattan\"}, {\"pickup\": \"2019-03-02T21:28:58\", \"dropoff\": \"2019-03-02T21:49:56\", \"passengers\": 1, \"distance\": 2.32, \"fare\": 14.0, \"tip\": 0.0, \"tolls\": 0.0, \"total\": 17.8, \"color\": \"yellow\", \"payment\": \"cash\", \"pickup_zone\": \"Penn Station/Madison Sq West\", \"dropoff_zone\": \"Lincoln Square West\", \"pickup_borough\": \"Manhattan\", \"dropoff_borough\": \"Manhattan\"}, {\"pickup\": \"2019-03-31T21:27:22\", \"dropoff\": \"2019-03-31T21:32:02\", \"passengers\": 1, \"distance\": 0.86, \"fare\": 5.5, \"tip\": 1.86, \"tolls\": 0.0, \"total\": 11.16, \"color\": \"yellow\", \"payment\": \"credit card\", \"pickup_zone\": \"Upper East Side South\", \"dropoff_zone\": \"Upper East Side South\", \"pickup_borough\": \"Manhattan\", \"dropoff_borough\": \"Manhattan\"}, {\"pickup\": \"2019-03-21T08:13:12\", \"dropoff\": \"2019-03-21T08:27:43\", \"passengers\": 1, \"distance\": 1.7, \"fare\": 10.5, \"tip\": 2.75, \"tolls\": 0.0, \"total\": 16.55, \"color\": \"yellow\", \"payment\": \"credit card\", \"pickup_zone\": \"Penn Station/Madison Sq West\", \"dropoff_zone\": \"Midtown North\", \"pickup_borough\": \"Manhattan\", \"dropoff_borough\": \"Manhattan\"}, {\"pickup\": \"2019-03-06T16:14:30\", \"dropoff\": \"2019-03-06T17:03:40\", \"passengers\": 1, \"distance\": 6.37, \"fare\": 31.5, \"tip\": 0.0, \"tolls\": 0.0, \"total\": 33.3, \"color\": \"yellow\", \"payment\": \"credit card\", \"pickup_zone\": \"Clinton East\", \"dropoff_zone\": \"Fort Greene\", \"pickup_borough\": \"Manhattan\", \"dropoff_borough\": \"Brooklyn\"}, {\"pickup\": \"2019-03-12T16:53:45\", \"dropoff\": \"2019-03-12T17:08:50\", \"passengers\": 1, \"distance\": 1.5, \"fare\": 10.5, \"tip\": 2.0, \"tolls\": 0.0, \"total\": 16.8, \"color\": \"yellow\", \"payment\": \"credit card\", \"pickup_zone\": \"Penn Station/Madison Sq West\", \"dropoff_zone\": \"Midtown North\", \"pickup_borough\": \"Manhattan\", \"dropoff_borough\": \"Manhattan\"}, {\"pickup\": \"2019-03-20T09:14:57\", \"dropoff\": \"2019-03-20T09:19:17\", \"passengers\": 1, \"distance\": 0.72, \"fare\": 5.0, \"tip\": 0.0, \"tolls\": 0.0, \"total\": 8.3, \"color\": \"yellow\", \"payment\": \"cash\", \"pickup_zone\": \"Upper East Side South\", \"dropoff_zone\": \"Central Park\", \"pickup_borough\": \"Manhattan\", \"dropoff_borough\": \"Manhattan\"}, {\"pickup\": \"2019-03-01T12:47:30\", \"dropoff\": \"2019-03-01T13:03:57\", \"passengers\": 1, \"distance\": 0.95, \"fare\": 10.5, \"tip\": 2.76, \"tolls\": 0.0, \"total\": 16.56, \"color\": \"yellow\", \"payment\": \"credit card\", \"pickup_zone\": \"Upper East Side South\", \"dropoff_zone\": \"Times Sq/Theatre District\", \"pickup_borough\": \"Manhattan\", \"dropoff_borough\": \"Manhattan\"}, {\"pickup\": \"2019-03-16T17:59:31\", \"dropoff\": \"2019-03-16T18:04:40\", \"passengers\": 1, \"distance\": 0.81, \"fare\": 5.0, \"tip\": 0.0, \"tolls\": 0.0, \"total\": 8.3, \"color\": \"yellow\", \"payment\": \"cash\", \"pickup_zone\": \"Upper East Side South\", \"dropoff_zone\": \"Lenox Hill West\", \"pickup_borough\": \"Manhattan\", \"dropoff_borough\": \"Manhattan\"}, {\"pickup\": \"2019-03-28T20:32:19\", \"dropoff\": \"2019-03-28T20:44:11\", \"passengers\": 2, \"distance\": 1.0, \"fare\": 8.5, \"tip\": 3.05, \"tolls\": 0.0, \"total\": 15.35, \"color\": \"yellow\", \"payment\": \"credit card\", \"pickup_zone\": \"Clinton East\", \"dropoff_zone\": \"Penn Station/Madison Sq West\", \"pickup_borough\": \"Manhattan\", \"dropoff_borough\": \"Manhattan\"}, {\"pickup\": \"2019-03-07T08:48:06\", \"dropoff\": \"2019-03-07T09:13:54\", \"passengers\": 1, \"distance\": 1.52, \"fare\": 15.5, \"tip\": 0.0, \"tolls\": 0.0, \"total\": 18.8, \"color\": \"yellow\", \"payment\": \"cash\", \"pickup_zone\": \"Midtown Center\", \"dropoff_zone\": \"UN/Turtle Bay South\", \"pickup_borough\": \"Manhattan\", \"dropoff_borough\": \"Manhattan\"}, {\"pickup\": \"2019-03-07T07:31:58\", \"dropoff\": \"2019-03-07T07:56:12\", \"passengers\": 1, \"distance\": 4.43, \"fare\": 18.5, \"tip\": 3.0, \"tolls\": 0.0, \"total\": 24.8, \"color\": \"yellow\", \"payment\": \"credit card\", \"pickup_zone\": \"Midtown Center\", \"dropoff_zone\": \"Battery Park City\", \"pickup_borough\": \"Manhattan\", \"dropoff_borough\": \"Manhattan\"}, {\"pickup\": \"2019-03-25T11:26:53\", \"dropoff\": \"2019-03-25T12:02:13\", \"passengers\": 1, \"distance\": 3.21, \"fare\": 21.5, \"tip\": 0.0, \"tolls\": 0.0, \"total\": 24.8, \"color\": \"yellow\", \"payment\": \"credit card\", \"pickup_zone\": \"Penn Station/Madison Sq West\", \"dropoff_zone\": \"Lenox Hill East\", \"pickup_borough\": \"Manhattan\", \"dropoff_borough\": \"Manhattan\"}, {\"pickup\": \"2019-03-27T15:31:25\", \"dropoff\": \"2019-03-27T15:48:19\", \"passengers\": 1, \"distance\": 2.03, \"fare\": 12.0, \"tip\": 0.0, \"tolls\": 0.0, \"total\": 15.3, \"color\": \"yellow\", \"payment\": \"cash\", \"pickup_zone\": \"Penn Station/Madison Sq West\", \"dropoff_zone\": \"Midtown East\", \"pickup_borough\": \"Manhattan\", \"dropoff_borough\": \"Manhattan\"}, {\"pickup\": \"2019-03-19T22:34:29\", \"dropoff\": \"2019-03-19T22:40:24\", \"passengers\": 1, \"distance\": 1.1, \"fare\": 6.5, \"tip\": 0.0, \"tolls\": 0.0, \"total\": 10.3, \"color\": \"yellow\", \"payment\": \"cash\", \"pickup_zone\": \"Upper East Side South\", \"dropoff_zone\": \"Times Sq/Theatre District\", \"pickup_borough\": \"Manhattan\", \"dropoff_borough\": \"Manhattan\"}, {\"pickup\": \"2019-03-14T14:03:36\", \"dropoff\": \"2019-03-14T14:13:53\", \"passengers\": 6, \"distance\": 1.65, \"fare\": 8.5, \"tip\": 1.77, \"tolls\": 0.0, \"total\": 13.57, \"color\": \"yellow\", \"payment\": \"credit card\", \"pickup_zone\": \"Upper East Side South\", \"dropoff_zone\": \"Upper West Side South\", \"pickup_borough\": \"Manhattan\", \"dropoff_borough\": \"Manhattan\"}, {\"pickup\": \"2019-03-20T18:07:06\", \"dropoff\": \"2019-03-20T18:29:04\", \"passengers\": 2, \"distance\": 1.2, \"fare\": 14.0, \"tip\": 1.83, \"tolls\": 0.0, \"total\": 20.13, \"color\": \"yellow\", \"payment\": \"credit card\", \"pickup_zone\": \"Penn Station/Madison Sq West\", \"dropoff_zone\": \"Times Sq/Theatre District\", \"pickup_borough\": \"Manhattan\", \"dropoff_borough\": \"Manhattan\"}, {\"pickup\": \"2019-03-01T19:42:29\", \"dropoff\": \"2019-03-01T19:55:33\", \"passengers\": 1, \"distance\": 1.6, \"fare\": 10.0, \"tip\": 3.0, \"tolls\": 0.0, \"total\": 17.3, \"color\": \"yellow\", \"payment\": \"credit card\", \"pickup_zone\": \"Penn Station/Madison Sq West\", \"dropoff_zone\": \"UN/Turtle Bay South\", \"pickup_borough\": \"Manhattan\", \"dropoff_borough\": \"Manhattan\"}, {\"pickup\": \"2019-03-01T19:12:08\", \"dropoff\": \"2019-03-01T19:22:19\", \"passengers\": 1, \"distance\": 0.76, \"fare\": 7.5, \"tip\": 2.36, \"tolls\": 0.0, \"total\": 14.16, \"color\": \"yellow\", \"payment\": \"credit card\", \"pickup_zone\": \"Penn Station/Madison Sq West\", \"dropoff_zone\": \"Murray Hill\", \"pickup_borough\": \"Manhattan\", \"dropoff_borough\": \"Manhattan\"}, {\"pickup\": \"2019-03-17T10:02:59\", \"dropoff\": \"2019-03-17T10:10:14\", \"passengers\": 1, \"distance\": 0.77, \"fare\": 6.5, \"tip\": 1.96, \"tolls\": 0.0, \"total\": 11.76, \"color\": \"yellow\", \"payment\": \"credit card\", \"pickup_zone\": \"Midtown Center\", \"dropoff_zone\": \"Midtown East\", \"pickup_borough\": \"Manhattan\", \"dropoff_borough\": \"Manhattan\"}, {\"pickup\": \"2019-03-13T14:06:55\", \"dropoff\": \"2019-03-13T14:15:39\", \"passengers\": 4, \"distance\": 1.45, \"fare\": 8.0, \"tip\": 2.82, \"tolls\": 0.0, \"total\": 14.12, \"color\": \"yellow\", \"payment\": \"credit card\", \"pickup_zone\": \"Upper East Side South\", \"dropoff_zone\": \"East Harlem South\", \"pickup_borough\": \"Manhattan\", \"dropoff_borough\": \"Manhattan\"}, {\"pickup\": \"2019-03-06T10:34:12\", \"dropoff\": \"2019-03-06T10:54:53\", \"passengers\": 1, \"distance\": 2.23, \"fare\": 13.5, \"tip\": 0.0, \"tolls\": 0.0, \"total\": 16.8, \"color\": \"yellow\", \"payment\": \"cash\", \"pickup_zone\": \"Clinton East\", \"dropoff_zone\": \"Lenox Hill West\", \"pickup_borough\": \"Manhattan\", \"dropoff_borough\": \"Manhattan\"}, {\"pickup\": \"2019-03-16T15:06:47\", \"dropoff\": \"2019-03-16T15:34:24\", \"passengers\": 1, \"distance\": 1.8, \"fare\": 16.5, \"tip\": 3.95, \"tolls\": 0.0, \"total\": 23.75, \"color\": \"yellow\", \"payment\": \"credit card\", \"pickup_zone\": \"Clinton East\", \"dropoff_zone\": \"Murray Hill\", \"pickup_borough\": \"Manhattan\", \"dropoff_borough\": \"Manhattan\"}, {\"pickup\": \"2019-03-14T16:01:29\", \"dropoff\": \"2019-03-14T16:17:17\", \"passengers\": 6, \"distance\": 2.01, \"fare\": 11.5, \"tip\": 2.37, \"tolls\": 0.0, \"total\": 18.17, \"color\": \"yellow\", \"payment\": \"credit card\", \"pickup_zone\": \"Clinton East\", \"dropoff_zone\": \"Gramercy\", \"pickup_borough\": \"Manhattan\", \"dropoff_borough\": \"Manhattan\"}, {\"pickup\": \"2019-03-14T02:56:21\", \"dropoff\": \"2019-03-14T03:14:45\", \"passengers\": 1, \"distance\": 8.36, \"fare\": 25.0, \"tip\": 5.0, \"tolls\": 0.0, \"total\": 33.8, \"color\": \"yellow\", \"payment\": \"credit card\", \"pickup_zone\": \"Penn Station/Madison Sq West\", \"dropoff_zone\": \"Hamilton Heights\", \"pickup_borough\": \"Manhattan\", \"dropoff_borough\": \"Manhattan\"}, {\"pickup\": \"2019-03-13T15:39:06\", \"dropoff\": \"2019-03-13T15:50:27\", \"passengers\": 1, \"distance\": 1.8, \"fare\": 9.5, \"tip\": 0.0, \"tolls\": 0.0, \"total\": 12.8, \"color\": \"yellow\", \"payment\": null, \"pickup_zone\": \"Midtown Center\", \"dropoff_zone\": \"Union Sq\", \"pickup_borough\": \"Manhattan\", \"dropoff_borough\": \"Manhattan\"}, {\"pickup\": \"2019-03-11T19:49:42\", \"dropoff\": \"2019-03-11T20:11:17\", \"passengers\": 5, \"distance\": 4.78, \"fare\": 18.5, \"tip\": 4.56, \"tolls\": 0.0, \"total\": 27.36, \"color\": \"yellow\", \"payment\": \"credit card\", \"pickup_zone\": \"Midtown Center\", \"dropoff_zone\": \"TriBeCa/Civic Center\", \"pickup_borough\": \"Manhattan\", \"dropoff_borough\": \"Manhattan\"}, {\"pickup\": \"2019-03-18T12:52:27\", \"dropoff\": \"2019-03-18T12:58:26\", \"passengers\": 1, \"distance\": 0.7, \"fare\": 5.5, \"tip\": 0.0, \"tolls\": 0.0, \"total\": 8.8, \"color\": \"yellow\", \"payment\": \"cash\", \"pickup_zone\": \"Midtown Center\", \"dropoff_zone\": \"Clinton East\", \"pickup_borough\": \"Manhattan\", \"dropoff_borough\": \"Manhattan\"}, {\"pickup\": \"2019-03-19T18:45:24\", \"dropoff\": \"2019-03-19T18:55:14\", \"passengers\": 1, \"distance\": 0.6, \"fare\": 7.5, \"tip\": 1.0, \"tolls\": 0.0, \"total\": 12.8, \"color\": \"yellow\", \"payment\": \"credit card\", \"pickup_zone\": \"Penn Station/Madison Sq West\", \"dropoff_zone\": \"Clinton East\", \"pickup_borough\": \"Manhattan\", \"dropoff_borough\": \"Manhattan\"}, {\"pickup\": \"2019-03-08T02:23:36\", \"dropoff\": \"2019-03-08T02:50:15\", \"passengers\": 1, \"distance\": 6.8, \"fare\": 24.0, \"tip\": 0.0, \"tolls\": 0.0, \"total\": 27.8, \"color\": \"yellow\", \"payment\": \"cash\", \"pickup_zone\": \"Clinton East\", \"dropoff_zone\": \"Maspeth\", \"pickup_borough\": \"Manhattan\", \"dropoff_borough\": \"Queens\"}, {\"pickup\": \"2019-03-05T20:27:58\", \"dropoff\": \"2019-03-05T20:43:48\", \"passengers\": 1, \"distance\": 3.0, \"fare\": 12.5, \"tip\": 4.85, \"tolls\": 0.0, \"total\": 21.15, \"color\": \"yellow\", \"payment\": \"credit card\", \"pickup_zone\": \"Midtown Center\", \"dropoff_zone\": \"East Village\", \"pickup_borough\": \"Manhattan\", \"dropoff_borough\": \"Manhattan\"}, {\"pickup\": \"2019-03-21T15:32:37\", \"dropoff\": \"2019-03-21T15:38:24\", \"passengers\": 1, \"distance\": 0.71, \"fare\": 5.5, \"tip\": 2.2, \"tolls\": 0.0, \"total\": 11.0, \"color\": \"yellow\", \"payment\": \"credit card\", \"pickup_zone\": \"Upper East Side South\", \"dropoff_zone\": \"Central Park\", \"pickup_borough\": \"Manhattan\", \"dropoff_borough\": \"Manhattan\"}, {\"pickup\": \"2019-03-02T18:10:57\", \"dropoff\": \"2019-03-02T18:25:02\", \"passengers\": 1, \"distance\": 1.6, \"fare\": 10.5, \"tip\": 0.0, \"tolls\": 0.0, \"total\": 13.8, \"color\": \"yellow\", \"payment\": \"cash\", \"pickup_zone\": \"Penn Station/Madison Sq West\", \"dropoff_zone\": \"Greenwich Village North\", \"pickup_borough\": \"Manhattan\", \"dropoff_borough\": \"Manhattan\"}, {\"pickup\": \"2019-03-05T20:33:55\", \"dropoff\": \"2019-03-05T21:08:47\", \"passengers\": 1, \"distance\": 6.5, \"fare\": 26.0, \"tip\": 4.47, \"tolls\": 0.0, \"total\": 34.27, \"color\": \"yellow\", \"payment\": \"credit card\", \"pickup_zone\": \"Midtown Center\", \"dropoff_zone\": \"Boerum Hill\", \"pickup_borough\": \"Manhattan\", \"dropoff_borough\": \"Brooklyn\"}, {\"pickup\": \"2019-03-19T07:52:21\", \"dropoff\": \"2019-03-19T08:02:59\", \"passengers\": 1, \"distance\": 1.3, \"fare\": 8.5, \"tip\": 0.0, \"tolls\": 0.0, \"total\": 11.8, \"color\": \"yellow\", \"payment\": \"cash\", \"pickup_zone\": \"Penn Station/Madison Sq West\", \"dropoff_zone\": \"Midtown Center\", \"pickup_borough\": \"Manhattan\", \"dropoff_borough\": \"Manhattan\"}, {\"pickup\": \"2019-03-18T19:31:11\", \"dropoff\": \"2019-03-18T19:52:53\", \"passengers\": 1, \"distance\": 8.32, \"fare\": 25.5, \"tip\": 7.45, \"tolls\": 0.0, \"total\": 37.25, \"color\": \"yellow\", \"payment\": \"credit card\", \"pickup_zone\": \"Midtown Center\", \"dropoff_zone\": \"Washington Heights North\", \"pickup_borough\": \"Manhattan\", \"dropoff_borough\": \"Manhattan\"}, {\"pickup\": \"2019-03-05T19:28:37\", \"dropoff\": \"2019-03-05T19:44:16\", \"passengers\": 1, \"distance\": 2.0, \"fare\": 11.5, \"tip\": 1.5, \"tolls\": 0.0, \"total\": 17.3, \"color\": \"yellow\", \"payment\": \"credit card\", \"pickup_zone\": \"Upper East Side South\", \"dropoff_zone\": \"Midtown East\", \"pickup_borough\": \"Manhattan\", \"dropoff_borough\": \"Manhattan\"}, {\"pickup\": \"2019-03-11T12:51:51\", \"dropoff\": \"2019-03-11T13:10:05\", \"passengers\": 1, \"distance\": 4.04, \"fare\": 15.0, \"tip\": 3.0, \"tolls\": 0.0, \"total\": 21.3, \"color\": \"yellow\", \"payment\": \"credit card\", \"pickup_zone\": \"Midtown Center\", \"dropoff_zone\": \"East Harlem North\", \"pickup_borough\": \"Manhattan\", \"dropoff_borough\": \"Manhattan\"}, {\"pickup\": \"2019-03-27T10:27:05\", \"dropoff\": \"2019-03-27T10:54:51\", \"passengers\": 1, \"distance\": 2.96, \"fare\": 18.0, \"tip\": 1.1, \"tolls\": 0.0, \"total\": 22.4, \"color\": \"yellow\", \"payment\": \"credit card\", \"pickup_zone\": \"Penn Station/Madison Sq West\", \"dropoff_zone\": \"Hudson Sq\", \"pickup_borough\": \"Manhattan\", \"dropoff_borough\": \"Manhattan\"}, {\"pickup\": \"2019-03-16T09:56:29\", \"dropoff\": \"2019-03-16T10:02:49\", \"passengers\": 5, \"distance\": 1.12, \"fare\": 6.5, \"tip\": 1.96, \"tolls\": 0.0, \"total\": 11.76, \"color\": \"yellow\", \"payment\": \"credit card\", \"pickup_zone\": \"Midtown Center\", \"dropoff_zone\": \"Murray Hill\", \"pickup_borough\": \"Manhattan\", \"dropoff_borough\": \"Manhattan\"}, {\"pickup\": \"2019-03-01T09:00:22\", \"dropoff\": \"2019-03-01T09:10:09\", \"passengers\": 1, \"distance\": 1.01, \"fare\": 7.5, \"tip\": 2.0, \"tolls\": 0.0, \"total\": 12.8, \"color\": \"yellow\", \"payment\": \"credit card\", \"pickup_zone\": \"Midtown Center\", \"dropoff_zone\": \"Midtown South\", \"pickup_borough\": \"Manhattan\", \"dropoff_borough\": \"Manhattan\"}, {\"pickup\": \"2019-03-09T21:41:32\", \"dropoff\": \"2019-03-09T21:53:11\", \"passengers\": 1, \"distance\": 1.18, \"fare\": 8.5, \"tip\": 0.0, \"tolls\": 0.0, \"total\": 12.3, \"color\": \"yellow\", \"payment\": \"cash\", \"pickup_zone\": \"Penn Station/Madison Sq West\", \"dropoff_zone\": \"Murray Hill\", \"pickup_borough\": \"Manhattan\", \"dropoff_borough\": \"Manhattan\"}, {\"pickup\": \"2019-03-02T17:29:24\", \"dropoff\": \"2019-03-02T17:35:57\", \"passengers\": 1, \"distance\": 1.9, \"fare\": 7.5, \"tip\": 4.0, \"tolls\": 0.0, \"total\": 14.8, \"color\": \"yellow\", \"payment\": \"credit card\", \"pickup_zone\": \"Midtown Center\", \"dropoff_zone\": \"Upper East Side North\", \"pickup_borough\": \"Manhattan\", \"dropoff_borough\": \"Manhattan\"}, {\"pickup\": \"2019-03-19T14:25:46\", \"dropoff\": \"2019-03-19T14:40:25\", \"passengers\": 1, \"distance\": 1.15, \"fare\": 10.0, \"tip\": 0.0, \"tolls\": 0.0, \"total\": 13.3, \"color\": \"yellow\", \"payment\": \"cash\", \"pickup_zone\": \"Penn Station/Madison Sq West\", \"dropoff_zone\": \"Murray Hill\", \"pickup_borough\": \"Manhattan\", \"dropoff_borough\": \"Manhattan\"}, {\"pickup\": \"2019-03-05T11:34:55\", \"dropoff\": \"2019-03-05T11:48:31\", \"passengers\": 1, \"distance\": 1.36, \"fare\": 10.0, \"tip\": 2.66, \"tolls\": 0.0, \"total\": 15.96, \"color\": \"yellow\", \"payment\": \"credit card\", \"pickup_zone\": \"Midtown Center\", \"dropoff_zone\": \"Union Sq\", \"pickup_borough\": \"Manhattan\", \"dropoff_borough\": \"Manhattan\"}, {\"pickup\": \"2019-03-19T08:27:03\", \"dropoff\": \"2019-03-19T08:37:21\", \"passengers\": 1, \"distance\": 1.54, \"fare\": 8.5, \"tip\": 3.54, \"tolls\": 0.0, \"total\": 15.34, \"color\": \"yellow\", \"payment\": \"credit card\", \"pickup_zone\": \"Penn Station/Madison Sq West\", \"dropoff_zone\": \"Midtown Center\", \"pickup_borough\": \"Manhattan\", \"dropoff_borough\": \"Manhattan\"}, {\"pickup\": \"2019-03-02T08:49:02\", \"dropoff\": \"2019-03-02T08:58:21\", \"passengers\": 1, \"distance\": 1.83, \"fare\": 8.5, \"tip\": 0.0, \"tolls\": 0.0, \"total\": 11.8, \"color\": \"yellow\", \"payment\": \"cash\", \"pickup_zone\": \"Midtown Center\", \"dropoff_zone\": \"Lenox Hill East\", \"pickup_borough\": \"Manhattan\", \"dropoff_borough\": \"Manhattan\"}, {\"pickup\": \"2019-03-20T11:16:37\", \"dropoff\": \"2019-03-20T11:26:45\", \"passengers\": 1, \"distance\": 0.95, \"fare\": 7.5, \"tip\": 0.0, \"tolls\": 0.0, \"total\": 10.8, \"color\": \"yellow\", \"payment\": \"cash\", \"pickup_zone\": \"Upper East Side South\", \"dropoff_zone\": \"Lenox Hill East\", \"pickup_borough\": \"Manhattan\", \"dropoff_borough\": \"Manhattan\"}, {\"pickup\": \"2019-03-17T21:43:06\", \"dropoff\": \"2019-03-17T21:46:56\", \"passengers\": 2, \"distance\": 0.73, \"fare\": 4.5, \"tip\": 1.24, \"tolls\": 0.0, \"total\": 9.54, \"color\": \"yellow\", \"payment\": \"credit card\", \"pickup_zone\": \"Penn Station/Madison Sq West\", \"dropoff_zone\": \"West Chelsea/Hudson Yards\", \"pickup_borough\": \"Manhattan\", \"dropoff_borough\": \"Manhattan\"}, {\"pickup\": \"2019-03-11T19:55:58\", \"dropoff\": \"2019-03-11T20:04:39\", \"passengers\": 1, \"distance\": 1.21, \"fare\": 7.5, \"tip\": 2.36, \"tolls\": 0.0, \"total\": 14.16, \"color\": \"yellow\", \"payment\": \"credit card\", \"pickup_zone\": \"Midtown Center\", \"dropoff_zone\": \"Times Sq/Theatre District\", \"pickup_borough\": \"Manhattan\", \"dropoff_borough\": \"Manhattan\"}, {\"pickup\": \"2019-03-24T03:17:59\", \"dropoff\": \"2019-03-24T03:52:41\", \"passengers\": 1, \"distance\": 14.8, \"fare\": 43.5, \"tip\": 0.0, \"tolls\": 0.0, \"total\": 47.3, \"color\": \"yellow\", \"payment\": \"cash\", \"pickup_zone\": \"Midtown Center\", \"dropoff_zone\": null, \"pickup_borough\": \"Manhattan\", \"dropoff_borough\": null}, {\"pickup\": \"2019-03-29T16:55:56\", \"dropoff\": \"2019-03-29T17:00:15\", \"passengers\": 2, \"distance\": 0.5, \"fare\": 5.0, \"tip\": 1.85, \"tolls\": 0.0, \"total\": 11.15, \"color\": \"yellow\", \"payment\": \"credit card\", \"pickup_zone\": \"Upper East Side South\", \"dropoff_zone\": \"Midtown North\", \"pickup_borough\": \"Manhattan\", \"dropoff_borough\": \"Manhattan\"}, {\"pickup\": \"2019-03-26T06:42:19\", \"dropoff\": \"2019-03-26T06:48:05\", \"passengers\": 1, \"distance\": 0.9, \"fare\": 6.0, \"tip\": 1.85, \"tolls\": 0.0, \"total\": 11.15, \"color\": \"yellow\", \"payment\": \"credit card\", \"pickup_zone\": \"Clinton East\", \"dropoff_zone\": \"Midtown Center\", \"pickup_borough\": \"Manhattan\", \"dropoff_borough\": \"Manhattan\"}, {\"pickup\": \"2019-03-10T00:34:10\", \"dropoff\": \"2019-03-10T00:59:42\", \"passengers\": 1, \"distance\": 8.45, \"fare\": 27.0, \"tip\": 0.0, \"tolls\": 0.0, \"total\": 30.8, \"color\": \"yellow\", \"payment\": \"credit card\", \"pickup_zone\": \"Penn Station/Madison Sq West\", \"dropoff_zone\": \"East Concourse/Concourse Village\", \"pickup_borough\": \"Manhattan\", \"dropoff_borough\": \"Bronx\"}, {\"pickup\": \"2019-03-08T13:32:58\", \"dropoff\": \"2019-03-08T13:39:34\", \"passengers\": 1, \"distance\": 0.95, \"fare\": 6.0, \"tip\": 1.86, \"tolls\": 0.0, \"total\": 11.16, \"color\": \"yellow\", \"payment\": \"credit card\", \"pickup_zone\": \"Midtown Center\", \"dropoff_zone\": \"Upper East Side South\", \"pickup_borough\": \"Manhattan\", \"dropoff_borough\": \"Manhattan\"}, {\"pickup\": \"2019-03-21T16:14:32\", \"dropoff\": \"2019-03-21T16:23:58\", \"passengers\": 1, \"distance\": 1.02, \"fare\": 7.5, \"tip\": 2.36, \"tolls\": 0.0, \"total\": 14.16, \"color\": \"yellow\", \"payment\": \"credit card\", \"pickup_zone\": \"Penn Station/Madison Sq West\", \"dropoff_zone\": \"West Chelsea/Hudson Yards\", \"pickup_borough\": \"Manhattan\", \"dropoff_borough\": \"Manhattan\"}, {\"pickup\": \"2019-03-22T23:00:04\", \"dropoff\": \"2019-03-22T23:08:53\", \"passengers\": 2, \"distance\": 1.1, \"fare\": 7.5, \"tip\": 3.35, \"tolls\": 0.0, \"total\": 14.65, \"color\": \"yellow\", \"payment\": \"credit card\", \"pickup_zone\": \"Clinton East\", \"dropoff_zone\": \"Midtown North\", \"pickup_borough\": \"Manhattan\", \"dropoff_borough\": \"Manhattan\"}, {\"pickup\": \"2019-03-07T08:33:04\", \"dropoff\": \"2019-03-07T08:41:34\", \"passengers\": 1, \"distance\": 0.9, \"fare\": 7.0, \"tip\": 3.05, \"tolls\": 0.0, \"total\": 13.35, \"color\": \"yellow\", \"payment\": \"credit card\", \"pickup_zone\": \"Penn Station/Madison Sq West\", \"dropoff_zone\": \"Union Sq\", \"pickup_borough\": \"Manhattan\", \"dropoff_borough\": \"Manhattan\"}, {\"pickup\": \"2019-03-19T10:54:46\", \"dropoff\": \"2019-03-19T11:11:31\", \"passengers\": 1, \"distance\": 2.0, \"fare\": 12.0, \"tip\": 3.06, \"tolls\": 0.0, \"total\": 18.36, \"color\": \"yellow\", \"payment\": \"credit card\", \"pickup_zone\": \"Upper East Side South\", \"dropoff_zone\": \"Upper East Side North\", \"pickup_borough\": \"Manhattan\", \"dropoff_borough\": \"Manhattan\"}, {\"pickup\": \"2019-03-01T14:57:16\", \"dropoff\": \"2019-03-01T15:05:48\", \"passengers\": 1, \"distance\": 1.09, \"fare\": 7.0, \"tip\": 1.03, \"tolls\": 0.0, \"total\": 11.33, \"color\": \"yellow\", \"payment\": \"credit card\", \"pickup_zone\": \"Upper East Side South\", \"dropoff_zone\": \"Midtown Center\", \"pickup_borough\": \"Manhattan\", \"dropoff_borough\": \"Manhattan\"}, {\"pickup\": \"2019-03-14T01:16:04\", \"dropoff\": \"2019-03-14T01:23:43\", \"passengers\": 1, \"distance\": 1.01, \"fare\": 6.5, \"tip\": 0.0, \"tolls\": 0.0, \"total\": 10.3, \"color\": \"yellow\", \"payment\": \"cash\", \"pickup_zone\": \"Midtown Center\", \"dropoff_zone\": \"Clinton East\", \"pickup_borough\": \"Manhattan\", \"dropoff_borough\": \"Manhattan\"}, {\"pickup\": \"2019-03-05T17:47:00\", \"dropoff\": \"2019-03-05T17:52:09\", \"passengers\": 0, \"distance\": 0.6, \"fare\": 5.5, \"tip\": 2.9, \"tolls\": 0.0, \"total\": 12.7, \"color\": \"yellow\", \"payment\": \"credit card\", \"pickup_zone\": \"Upper East Side South\", \"dropoff_zone\": \"Lincoln Square East\", \"pickup_borough\": \"Manhattan\", \"dropoff_borough\": \"Manhattan\"}, {\"pickup\": \"2019-03-09T17:46:51\", \"dropoff\": \"2019-03-09T17:59:41\", \"passengers\": 2, \"distance\": 0.9, \"fare\": 9.0, \"tip\": 1.0, \"tolls\": 0.0, \"total\": 13.3, \"color\": \"yellow\", \"payment\": \"credit card\", \"pickup_zone\": \"Penn Station/Madison Sq West\", \"dropoff_zone\": \"Flatiron\", \"pickup_borough\": \"Manhattan\", \"dropoff_borough\": \"Manhattan\"}, {\"pickup\": \"2019-03-28T13:33:11\", \"dropoff\": \"2019-03-28T13:50:32\", \"passengers\": 1, \"distance\": 1.32, \"fare\": 11.5, \"tip\": 2.96, \"tolls\": 0.0, \"total\": 17.76, \"color\": \"yellow\", \"payment\": \"credit card\", \"pickup_zone\": \"Penn Station/Madison Sq West\", \"dropoff_zone\": \"Times Sq/Theatre District\", \"pickup_borough\": \"Manhattan\", \"dropoff_borough\": \"Manhattan\"}, {\"pickup\": \"2019-03-28T01:27:23\", \"dropoff\": \"2019-03-28T01:29:15\", \"passengers\": 6, \"distance\": 0.82, \"fare\": 4.5, \"tip\": 0.0, \"tolls\": 0.0, \"total\": 8.3, \"color\": \"yellow\", \"payment\": \"cash\", \"pickup_zone\": \"Upper East Side South\", \"dropoff_zone\": \"Midtown East\", \"pickup_borough\": \"Manhattan\", \"dropoff_borough\": \"Manhattan\"}, {\"pickup\": \"2019-03-20T17:21:34\", \"dropoff\": \"2019-03-20T17:27:49\", \"passengers\": 1, \"distance\": 0.4, \"fare\": 5.5, \"tip\": 1.95, \"tolls\": 0.0, \"total\": 11.75, \"color\": \"yellow\", \"payment\": \"credit card\", \"pickup_zone\": \"Midtown Center\", \"dropoff_zone\": \"Midtown Center\", \"pickup_borough\": \"Manhattan\", \"dropoff_borough\": \"Manhattan\"}, {\"pickup\": \"2019-03-07T17:52:19\", \"dropoff\": \"2019-03-07T18:00:12\", \"passengers\": 1, \"distance\": 0.86, \"fare\": 6.5, \"tip\": 2.16, \"tolls\": 0.0, \"total\": 12.96, \"color\": \"yellow\", \"payment\": \"credit card\", \"pickup_zone\": \"Penn Station/Madison Sq West\", \"dropoff_zone\": \"Times Sq/Theatre District\", \"pickup_borough\": \"Manhattan\", \"dropoff_borough\": \"Manhattan\"}, {\"pickup\": \"2019-03-23T20:09:01\", \"dropoff\": \"2019-03-23T20:17:12\", \"passengers\": 1, \"distance\": 0.76, \"fare\": 6.5, \"tip\": 0.0, \"tolls\": 0.0, \"total\": 10.3, \"color\": \"yellow\", \"payment\": \"credit card\", \"pickup_zone\": \"Clinton East\", \"dropoff_zone\": \"Clinton East\", \"pickup_borough\": \"Manhattan\", \"dropoff_borough\": \"Manhattan\"}, {\"pickup\": \"2019-03-29T16:06:41\", \"dropoff\": \"2019-03-29T16:15:20\", \"passengers\": 1, \"distance\": 1.0, \"fare\": 7.0, \"tip\": 2.8, \"tolls\": 0.0, \"total\": 14.1, \"color\": \"yellow\", \"payment\": \"credit card\", \"pickup_zone\": \"Upper East Side South\", \"dropoff_zone\": \"Clinton East\", \"pickup_borough\": \"Manhattan\", \"dropoff_borough\": \"Manhattan\"}, {\"pickup\": \"2019-03-22T23:43:07\", \"dropoff\": \"2019-03-22T23:47:49\", \"passengers\": 1, \"distance\": 1.0, \"fare\": 5.5, \"tip\": 1.85, \"tolls\": 0.0, \"total\": 11.15, \"color\": \"yellow\", \"payment\": \"credit card\", \"pickup_zone\": \"Clinton East\", \"dropoff_zone\": \"Garment District\", \"pickup_borough\": \"Manhattan\", \"dropoff_borough\": \"Manhattan\"}, {\"pickup\": \"2019-03-04T22:44:05\", \"dropoff\": \"2019-03-04T23:00:55\", \"passengers\": 1, \"distance\": 4.1, \"fare\": 15.0, \"tip\": 2.5, \"tolls\": 0.0, \"total\": 21.3, \"color\": \"yellow\", \"payment\": \"credit card\", \"pickup_zone\": \"Penn Station/Madison Sq West\", \"dropoff_zone\": \"Yorkville East\", \"pickup_borough\": \"Manhattan\", \"dropoff_borough\": \"Manhattan\"}, {\"pickup\": \"2019-03-29T11:38:12\", \"dropoff\": \"2019-03-29T11:46:25\", \"passengers\": 1, \"distance\": 0.8, \"fare\": 7.0, \"tip\": 2.05, \"tolls\": 0.0, \"total\": 12.35, \"color\": \"yellow\", \"payment\": \"credit card\", \"pickup_zone\": \"Upper East Side South\", \"dropoff_zone\": \"Upper East Side North\", \"pickup_borough\": \"Manhattan\", \"dropoff_borough\": \"Manhattan\"}, {\"pickup\": \"2019-03-20T20:24:16\", \"dropoff\": \"2019-03-20T20:37:15\", \"passengers\": 3, \"distance\": 1.86, \"fare\": 10.0, \"tip\": 2.76, \"tolls\": 0.0, \"total\": 16.56, \"color\": \"yellow\", \"payment\": \"credit card\", \"pickup_zone\": \"Clinton East\", \"dropoff_zone\": \"Meatpacking/West Village West\", \"pickup_borough\": \"Manhattan\", \"dropoff_borough\": \"Manhattan\"}, {\"pickup\": \"2019-03-23T14:25:47\", \"dropoff\": \"2019-03-23T14:46:57\", \"passengers\": 1, \"distance\": 4.86, \"fare\": 19.0, \"tip\": 1.0, \"tolls\": 0.0, \"total\": 23.3, \"color\": \"yellow\", \"payment\": \"credit card\", \"pickup_zone\": \"Clinton East\", \"dropoff_zone\": \"Battery Park City\", \"pickup_borough\": \"Manhattan\", \"dropoff_borough\": \"Manhattan\"}, {\"pickup\": \"2019-03-05T19:25:56\", \"dropoff\": \"2019-03-05T19:30:18\", \"passengers\": 2, \"distance\": 0.79, \"fare\": 5.0, \"tip\": 1.86, \"tolls\": 0.0, \"total\": 11.16, \"color\": \"yellow\", \"payment\": \"credit card\", \"pickup_zone\": \"Upper East Side South\", \"dropoff_zone\": \"Lenox Hill West\", \"pickup_borough\": \"Manhattan\", \"dropoff_borough\": \"Manhattan\"}, {\"pickup\": \"2019-03-19T09:24:42\", \"dropoff\": \"2019-03-19T09:49:49\", \"passengers\": 2, \"distance\": 2.72, \"fare\": 16.5, \"tip\": 3.0, \"tolls\": 0.0, \"total\": 22.8, \"color\": \"yellow\", \"payment\": \"credit card\", \"pickup_zone\": \"Upper East Side South\", \"dropoff_zone\": \"Greenwich Village North\", \"pickup_borough\": \"Manhattan\", \"dropoff_borough\": \"Manhattan\"}, {\"pickup\": \"2019-03-08T00:07:11\", \"dropoff\": \"2019-03-08T00:23:39\", \"passengers\": 1, \"distance\": 5.8, \"fare\": 19.5, \"tip\": 0.0, \"tolls\": 0.0, \"total\": 23.3, \"color\": \"yellow\", \"payment\": \"cash\", \"pickup_zone\": \"Clinton East\", \"dropoff_zone\": \"Hamilton Heights\", \"pickup_borough\": \"Manhattan\", \"dropoff_borough\": \"Manhattan\"}, {\"pickup\": \"2019-03-03T10:49:40\", \"dropoff\": \"2019-03-03T10:53:12\", \"passengers\": 2, \"distance\": 1.45, \"fare\": 6.0, \"tip\": 1.86, \"tolls\": 0.0, \"total\": 11.16, \"color\": \"yellow\", \"payment\": \"credit card\", \"pickup_zone\": \"Upper East Side South\", \"dropoff_zone\": \"Yorkville West\", \"pickup_borough\": \"Manhattan\", \"dropoff_borough\": \"Manhattan\"}, {\"pickup\": \"2019-03-29T13:06:35\", \"dropoff\": \"2019-03-29T13:10:29\", \"passengers\": 1, \"distance\": 0.47, \"fare\": 4.5, \"tip\": 2.34, \"tolls\": 0.0, \"total\": 10.14, \"color\": \"yellow\", \"payment\": \"credit card\", \"pickup_zone\": \"Clinton East\", \"dropoff_zone\": \"Clinton West\", \"pickup_borough\": \"Manhattan\", \"dropoff_borough\": \"Manhattan\"}, {\"pickup\": \"2019-03-25T22:50:23\", \"dropoff\": \"2019-03-25T23:01:06\", \"passengers\": 5, \"distance\": 2.57, \"fare\": 11.0, \"tip\": 2.96, \"tolls\": 0.0, \"total\": 17.76, \"color\": \"yellow\", \"payment\": \"credit card\", \"pickup_zone\": \"Midtown Center\", \"dropoff_zone\": \"Central Park\", \"pickup_borough\": \"Manhattan\", \"dropoff_borough\": \"Manhattan\"}, {\"pickup\": \"2019-03-27T18:27:42\", \"dropoff\": \"2019-03-27T18:38:23\", \"passengers\": 2, \"distance\": 1.39, \"fare\": 8.5, \"tip\": 2.56, \"tolls\": 0.0, \"total\": 15.36, \"color\": \"yellow\", \"payment\": \"credit card\", \"pickup_zone\": \"Midtown Center\", \"dropoff_zone\": \"Upper East Side South\", \"pickup_borough\": \"Manhattan\", \"dropoff_borough\": \"Manhattan\"}, {\"pickup\": \"2019-03-24T19:58:31\", \"dropoff\": \"2019-03-24T20:02:40\", \"passengers\": 2, \"distance\": 0.6, \"fare\": 5.0, \"tip\": 1.75, \"tolls\": 0.0, \"total\": 10.55, \"color\": \"yellow\", \"payment\": \"credit card\", \"pickup_zone\": \"Clinton East\", \"dropoff_zone\": \"Clinton East\", \"pickup_borough\": \"Manhattan\", \"dropoff_borough\": \"Manhattan\"}, {\"pickup\": \"2019-03-25T23:34:39\", \"dropoff\": \"2019-03-25T23:46:09\", \"passengers\": 1, \"distance\": 2.68, \"fare\": 10.5, \"tip\": 2.86, \"tolls\": 0.0, \"total\": 17.16, \"color\": \"yellow\", \"payment\": \"credit card\", \"pickup_zone\": \"Midtown Center\", \"dropoff_zone\": \"Greenwich Village North\", \"pickup_borough\": \"Manhattan\", \"dropoff_borough\": \"Manhattan\"}, {\"pickup\": \"2019-03-25T18:34:28\", \"dropoff\": \"2019-03-25T18:38:22\", \"passengers\": 2, \"distance\": 0.91, \"fare\": 5.0, \"tip\": 1.86, \"tolls\": 0.0, \"total\": 11.16, \"color\": \"yellow\", \"payment\": \"credit card\", \"pickup_zone\": \"Upper East Side South\", \"dropoff_zone\": \"Lenox Hill East\", \"pickup_borough\": \"Manhattan\", \"dropoff_borough\": \"Manhattan\"}, {\"pickup\": \"2019-03-02T10:51:48\", \"dropoff\": \"2019-03-02T10:57:47\", \"passengers\": 2, \"distance\": 0.77, \"fare\": 5.5, \"tip\": 1.2, \"tolls\": 0.0, \"total\": 10.0, \"color\": \"yellow\", \"payment\": \"credit card\", \"pickup_zone\": \"Upper East Side South\", \"dropoff_zone\": \"Midtown Center\", \"pickup_borough\": \"Manhattan\", \"dropoff_borough\": \"Manhattan\"}, {\"pickup\": \"2019-03-31T20:15:19\", \"dropoff\": \"2019-03-31T20:47:59\", \"passengers\": 2, \"distance\": 6.14, \"fare\": 24.5, \"tip\": 5.66, \"tolls\": 0.0, \"total\": 33.96, \"color\": \"yellow\", \"payment\": \"credit card\", \"pickup_zone\": \"Penn Station/Madison Sq West\", \"dropoff_zone\": \"Park Slope\", \"pickup_borough\": \"Manhattan\", \"dropoff_borough\": \"Brooklyn\"}, {\"pickup\": \"2019-03-19T22:16:27\", \"dropoff\": \"2019-03-19T22:24:20\", \"passengers\": 1, \"distance\": 1.8, \"fare\": 8.5, \"tip\": 0.0, \"tolls\": 0.0, \"total\": 12.3, \"color\": \"yellow\", \"payment\": \"cash\", \"pickup_zone\": \"Upper East Side South\", \"dropoff_zone\": \"Yorkville East\", \"pickup_borough\": \"Manhattan\", \"dropoff_borough\": \"Manhattan\"}, {\"pickup\": \"2019-03-16T01:44:45\", \"dropoff\": \"2019-03-16T01:53:53\", \"passengers\": 1, \"distance\": 0.95, \"fare\": 7.5, \"tip\": 0.0, \"tolls\": 0.0, \"total\": 11.3, \"color\": \"yellow\", \"payment\": \"cash\", \"pickup_zone\": \"Clinton East\", \"dropoff_zone\": \"Garment District\", \"pickup_borough\": \"Manhattan\", \"dropoff_borough\": \"Manhattan\"}, {\"pickup\": \"2019-03-11T20:55:37\", \"dropoff\": \"2019-03-11T21:03:21\", \"passengers\": 1, \"distance\": 1.0, \"fare\": 6.5, \"tip\": 2.05, \"tolls\": 0.0, \"total\": 12.35, \"color\": \"yellow\", \"payment\": \"credit card\", \"pickup_zone\": \"Midtown Center\", \"dropoff_zone\": \"Garment District\", \"pickup_borough\": \"Manhattan\", \"dropoff_borough\": \"Manhattan\"}, {\"pickup\": \"2019-03-30T11:25:43\", \"dropoff\": \"2019-03-30T11:53:11\", \"passengers\": 1, \"distance\": 3.4, \"fare\": 18.0, \"tip\": 4.26, \"tolls\": 0.0, \"total\": 25.56, \"color\": \"yellow\", \"payment\": \"credit card\", \"pickup_zone\": \"Clinton East\", \"dropoff_zone\": \"Lower East Side\", \"pickup_borough\": \"Manhattan\", \"dropoff_borough\": \"Manhattan\"}, {\"pickup\": \"2019-03-17T10:40:18\", \"dropoff\": \"2019-03-17T10:46:16\", \"passengers\": 1, \"distance\": 1.49, \"fare\": 6.5, \"tip\": 1.96, \"tolls\": 0.0, \"total\": 11.76, \"color\": \"yellow\", \"payment\": \"credit card\", \"pickup_zone\": \"Penn Station/Madison Sq West\", \"dropoff_zone\": \"Meatpacking/West Village West\", \"pickup_borough\": \"Manhattan\", \"dropoff_borough\": \"Manhattan\"}, {\"pickup\": \"2019-03-01T12:00:46\", \"dropoff\": \"2019-03-01T12:06:38\", \"passengers\": 1, \"distance\": 0.74, \"fare\": 6.0, \"tip\": 0.0, \"tolls\": 0.0, \"total\": 9.3, \"color\": \"yellow\", \"payment\": \"credit card\", \"pickup_zone\": \"Clinton East\", \"dropoff_zone\": \"Clinton West\", \"pickup_borough\": \"Manhattan\", \"dropoff_borough\": \"Manhattan\"}, {\"pickup\": \"2019-03-19T20:03:48\", \"dropoff\": \"2019-03-19T20:09:31\", \"passengers\": 2, \"distance\": 1.2, \"fare\": 6.5, \"tip\": 2.15, \"tolls\": 0.0, \"total\": 12.95, \"color\": \"yellow\", \"payment\": \"credit card\", \"pickup_zone\": \"Upper East Side South\", \"dropoff_zone\": \"Midtown East\", \"pickup_borough\": \"Manhattan\", \"dropoff_borough\": \"Manhattan\"}, {\"pickup\": \"2019-03-20T18:13:02\", \"dropoff\": \"2019-03-20T18:34:50\", \"passengers\": 1, \"distance\": 4.09, \"fare\": 17.0, \"tip\": 0.0, \"tolls\": 0.0, \"total\": 21.3, \"color\": \"yellow\", \"payment\": \"credit card\", \"pickup_zone\": \"Clinton East\", \"dropoff_zone\": \"East Harlem South\", \"pickup_borough\": \"Manhattan\", \"dropoff_borough\": \"Manhattan\"}, {\"pickup\": \"2019-03-22T02:20:08\", \"dropoff\": \"2019-03-22T02:28:19\", \"passengers\": 1, \"distance\": 1.4, \"fare\": 7.5, \"tip\": 2.25, \"tolls\": 0.0, \"total\": 13.55, \"color\": \"yellow\", \"payment\": \"credit card\", \"pickup_zone\": \"Midtown Center\", \"dropoff_zone\": \"Clinton East\", \"pickup_borough\": \"Manhattan\", \"dropoff_borough\": \"Manhattan\"}, {\"pickup\": \"2019-03-30T21:44:35\", \"dropoff\": \"2019-03-30T21:53:50\", \"passengers\": 1, \"distance\": 1.2, \"fare\": 7.5, \"tip\": 2.25, \"tolls\": 0.0, \"total\": 13.55, \"color\": \"yellow\", \"payment\": \"credit card\", \"pickup_zone\": \"Penn Station/Madison Sq West\", \"dropoff_zone\": \"Clinton East\", \"pickup_borough\": \"Manhattan\", \"dropoff_borough\": \"Manhattan\"}, {\"pickup\": \"2019-03-22T11:38:52\", \"dropoff\": \"2019-03-22T11:44:08\", \"passengers\": 1, \"distance\": 0.64, \"fare\": 5.0, \"tip\": 1.66, \"tolls\": 0.0, \"total\": 9.96, \"color\": \"yellow\", \"payment\": \"credit card\", \"pickup_zone\": \"Midtown Center\", \"dropoff_zone\": \"Sutton Place/Turtle Bay North\", \"pickup_borough\": \"Manhattan\", \"dropoff_borough\": \"Manhattan\"}, {\"pickup\": \"2019-03-07T10:50:08\", \"dropoff\": \"2019-03-07T11:03:07\", \"passengers\": 1, \"distance\": 2.3, \"fare\": 11.0, \"tip\": 0.0, \"tolls\": 0.0, \"total\": 14.3, \"color\": \"yellow\", \"payment\": \"cash\", \"pickup_zone\": \"Upper East Side South\", \"dropoff_zone\": \"Clinton East\", \"pickup_borough\": \"Manhattan\", \"dropoff_borough\": \"Manhattan\"}, {\"pickup\": \"2019-03-13T15:57:16\", \"dropoff\": \"2019-03-13T16:11:09\", \"passengers\": 1, \"distance\": 1.06, \"fare\": 9.5, \"tip\": 2.56, \"tolls\": 0.0, \"total\": 15.36, \"color\": \"yellow\", \"payment\": \"credit card\", \"pickup_zone\": \"Clinton East\", \"dropoff_zone\": \"Midtown Center\", \"pickup_borough\": \"Manhattan\", \"dropoff_borough\": \"Manhattan\"}, {\"pickup\": \"2019-03-28T14:00:28\", \"dropoff\": \"2019-03-28T14:09:33\", \"passengers\": 1, \"distance\": 0.82, \"fare\": 7.5, \"tip\": 2.16, \"tolls\": 0.0, \"total\": 12.96, \"color\": \"yellow\", \"payment\": \"credit card\", \"pickup_zone\": \"Upper East Side South\", \"dropoff_zone\": \"Lenox Hill East\", \"pickup_borough\": \"Manhattan\", \"dropoff_borough\": \"Manhattan\"}, {\"pickup\": \"2019-03-01T09:12:54\", \"dropoff\": \"2019-03-01T09:24:18\", \"passengers\": 1, \"distance\": 1.3, \"fare\": 8.5, \"tip\": 0.0, \"tolls\": 0.0, \"total\": 11.8, \"color\": \"yellow\", \"payment\": \"credit card\", \"pickup_zone\": \"Midtown Center\", \"dropoff_zone\": \"Union Sq\", \"pickup_borough\": \"Manhattan\", \"dropoff_borough\": \"Manhattan\"}, {\"pickup\": \"2019-03-13T18:59:47\", \"dropoff\": \"2019-03-13T19:07:48\", \"passengers\": 2, \"distance\": 1.13, \"fare\": 7.0, \"tip\": 1.4, \"tolls\": 0.0, \"total\": 12.7, \"color\": \"yellow\", \"payment\": \"credit card\", \"pickup_zone\": \"Penn Station/Madison Sq West\", \"dropoff_zone\": \"Union Sq\", \"pickup_borough\": \"Manhattan\", \"dropoff_borough\": \"Manhattan\"}, {\"pickup\": \"2019-03-03T16:53:55\", \"dropoff\": \"2019-03-03T17:03:47\", \"passengers\": 1, \"distance\": 1.3, \"fare\": 8.0, \"tip\": 2.25, \"tolls\": 0.0, \"total\": 13.55, \"color\": \"yellow\", \"payment\": \"credit card\", \"pickup_zone\": \"Penn Station/Madison Sq West\", \"dropoff_zone\": \"Midtown North\", \"pickup_borough\": \"Manhattan\", \"dropoff_borough\": \"Manhattan\"}, {\"pickup\": \"2019-03-28T15:10:20\", \"dropoff\": \"2019-03-28T15:13:37\", \"passengers\": 1, \"distance\": 0.3, \"fare\": 4.0, \"tip\": 0.0, \"tolls\": 0.0, \"total\": 7.3, \"color\": \"yellow\", \"payment\": \"cash\", \"pickup_zone\": \"Clinton East\", \"dropoff_zone\": \"Clinton East\", \"pickup_borough\": \"Manhattan\", \"dropoff_borough\": \"Manhattan\"}, {\"pickup\": \"2019-03-07T13:23:04\", \"dropoff\": \"2019-03-07T13:32:04\", \"passengers\": 1, \"distance\": 1.2, \"fare\": 7.5, \"tip\": 2.16, \"tolls\": 0.0, \"total\": 12.96, \"color\": \"yellow\", \"payment\": \"credit card\", \"pickup_zone\": \"Clinton East\", \"dropoff_zone\": \"West Chelsea/Hudson Yards\", \"pickup_borough\": \"Manhattan\", \"dropoff_borough\": \"Manhattan\"}, {\"pickup\": \"2019-03-10T15:12:09\", \"dropoff\": \"2019-03-10T15:16:55\", \"passengers\": 1, \"distance\": 0.82, \"fare\": 5.5, \"tip\": 1.0, \"tolls\": 0.0, \"total\": 9.8, \"color\": \"yellow\", \"payment\": \"credit card\", \"pickup_zone\": \"Upper East Side South\", \"dropoff_zone\": \"Upper East Side North\", \"pickup_borough\": \"Manhattan\", \"dropoff_borough\": \"Manhattan\"}, {\"pickup\": \"2019-03-12T04:41:46\", \"dropoff\": \"2019-03-12T04:46:12\", \"passengers\": 1, \"distance\": 1.8, \"fare\": 7.0, \"tip\": 1.5, \"tolls\": 0.0, \"total\": 12.3, \"color\": \"yellow\", \"payment\": \"credit card\", \"pickup_zone\": \"Midtown Center\", \"dropoff_zone\": \"Upper East Side North\", \"pickup_borough\": \"Manhattan\", \"dropoff_borough\": \"Manhattan\"}, {\"pickup\": \"2019-03-07T00:07:21\", \"dropoff\": \"2019-03-07T00:17:37\", \"passengers\": 1, \"distance\": 2.09, \"fare\": 9.5, \"tip\": 3.32, \"tolls\": 0.0, \"total\": 16.62, \"color\": \"yellow\", \"payment\": \"credit card\", \"pickup_zone\": \"Penn Station/Madison Sq West\", \"dropoff_zone\": \"East Village\", \"pickup_borough\": \"Manhattan\", \"dropoff_borough\": \"Manhattan\"}, {\"pickup\": \"2019-03-31T02:04:07\", \"dropoff\": \"2019-03-31T02:10:54\", \"passengers\": 6, \"distance\": 1.28, \"fare\": 7.0, \"tip\": 1.0, \"tolls\": 0.0, \"total\": 11.8, \"color\": \"yellow\", \"payment\": \"credit card\", \"pickup_zone\": \"Clinton East\", \"dropoff_zone\": \"West Chelsea/Hudson Yards\", \"pickup_borough\": \"Manhattan\", \"dropoff_borough\": \"Manhattan\"}, {\"pickup\": \"2019-03-03T00:19:34\", \"dropoff\": \"2019-03-03T00:48:51\", \"passengers\": 1, \"distance\": 9.16, \"fare\": 29.0, \"tip\": 3.0, \"tolls\": 0.0, \"total\": 35.8, \"color\": \"yellow\", \"payment\": \"credit card\", \"pickup_zone\": \"Clinton East\", \"dropoff_zone\": \"Brooklyn Heights\", \"pickup_borough\": \"Manhattan\", \"dropoff_borough\": \"Brooklyn\"}, {\"pickup\": \"2019-03-12T05:36:56\", \"dropoff\": \"2019-03-12T05:42:01\", \"passengers\": 3, \"distance\": 1.21, \"fare\": 6.5, \"tip\": 2.06, \"tolls\": 0.0, \"total\": 12.36, \"color\": \"yellow\", \"payment\": \"credit card\", \"pickup_zone\": \"Penn Station/Madison Sq West\", \"dropoff_zone\": \"Times Sq/Theatre District\", \"pickup_borough\": \"Manhattan\", \"dropoff_borough\": \"Manhattan\"}, {\"pickup\": \"2019-03-02T16:08:03\", \"dropoff\": \"2019-03-02T16:21:18\", \"passengers\": 1, \"distance\": 2.23, \"fare\": 10.5, \"tip\": 2.76, \"tolls\": 0.0, \"total\": 16.56, \"color\": \"yellow\", \"payment\": \"credit card\", \"pickup_zone\": \"Midtown Center\", \"dropoff_zone\": \"Greenwich Village South\", \"pickup_borough\": \"Manhattan\", \"dropoff_borough\": \"Manhattan\"}, {\"pickup\": \"2019-03-28T19:17:42\", \"dropoff\": \"2019-03-28T19:31:57\", \"passengers\": 1, \"distance\": 1.49, \"fare\": 10.0, \"tip\": 2.86, \"tolls\": 0.0, \"total\": 17.16, \"color\": \"yellow\", \"payment\": \"credit card\", \"pickup_zone\": \"Penn Station/Madison Sq West\", \"dropoff_zone\": \"Clinton East\", \"pickup_borough\": \"Manhattan\", \"dropoff_borough\": \"Manhattan\"}, {\"pickup\": \"2019-03-26T13:46:59\", \"dropoff\": \"2019-03-26T13:56:22\", \"passengers\": 1, \"distance\": 1.69, \"fare\": 8.5, \"tip\": 0.0, \"tolls\": 0.0, \"total\": 11.8, \"color\": \"yellow\", \"payment\": \"cash\", \"pickup_zone\": \"Upper East Side South\", \"dropoff_zone\": \"Lincoln Square West\", \"pickup_borough\": \"Manhattan\", \"dropoff_borough\": \"Manhattan\"}, {\"pickup\": \"2019-03-17T13:16:13\", \"dropoff\": \"2019-03-17T13:40:32\", \"passengers\": 1, \"distance\": 2.9, \"fare\": 17.0, \"tip\": 0.0, \"tolls\": 0.0, \"total\": 20.3, \"color\": \"yellow\", \"payment\": \"cash\", \"pickup_zone\": \"Clinton East\", \"dropoff_zone\": \"Lenox Hill East\", \"pickup_borough\": \"Manhattan\", \"dropoff_borough\": \"Manhattan\"}, {\"pickup\": \"2019-03-03T12:55:38\", \"dropoff\": \"2019-03-03T13:01:05\", \"passengers\": 1, \"distance\": 0.85, \"fare\": 5.5, \"tip\": 0.0, \"tolls\": 0.0, \"total\": 8.8, \"color\": \"yellow\", \"payment\": \"cash\", \"pickup_zone\": \"Midtown Center\", \"dropoff_zone\": \"Murray Hill\", \"pickup_borough\": \"Manhattan\", \"dropoff_borough\": \"Manhattan\"}, {\"pickup\": \"2019-03-27T20:49:05\", \"dropoff\": \"2019-03-27T21:22:21\", \"passengers\": 2, \"distance\": 3.34, \"fare\": 21.0, \"tip\": 0.0, \"tolls\": 0.0, \"total\": 24.8, \"color\": \"yellow\", \"payment\": \"credit card\", \"pickup_zone\": \"Clinton East\", \"dropoff_zone\": \"Penn Station/Madison Sq West\", \"pickup_borough\": \"Manhattan\", \"dropoff_borough\": \"Manhattan\"}, {\"pickup\": \"2019-03-13T15:56:18\", \"dropoff\": \"2019-03-13T16:07:15\", \"passengers\": 1, \"distance\": 0.94, \"fare\": 8.0, \"tip\": 0.0, \"tolls\": 0.0, \"total\": 11.3, \"color\": \"yellow\", \"payment\": \"cash\", \"pickup_zone\": \"Midtown Center\", \"dropoff_zone\": \"East Chelsea\", \"pickup_borough\": \"Manhattan\", \"dropoff_borough\": \"Manhattan\"}, {\"pickup\": \"2019-03-07T23:11:42\", \"dropoff\": \"2019-03-07T23:28:15\", \"passengers\": 1, \"distance\": 7.16, \"fare\": 22.0, \"tip\": 1.0, \"tolls\": 0.0, \"total\": 26.8, \"color\": \"yellow\", \"payment\": \"credit card\", \"pickup_zone\": \"Clinton East\", \"dropoff_zone\": \"Washington Heights South\", \"pickup_borough\": \"Manhattan\", \"dropoff_borough\": \"Manhattan\"}, {\"pickup\": \"2019-03-14T19:51:32\", \"dropoff\": \"2019-03-14T20:03:43\", \"passengers\": 1, \"distance\": 2.01, \"fare\": 10.0, \"tip\": 1.7, \"tolls\": 0.0, \"total\": 16.0, \"color\": \"yellow\", \"payment\": \"credit card\", \"pickup_zone\": \"Midtown Center\", \"dropoff_zone\": \"Yorkville East\", \"pickup_borough\": \"Manhattan\", \"dropoff_borough\": \"Manhattan\"}, {\"pickup\": \"2019-03-05T19:07:12\", \"dropoff\": \"2019-03-05T19:26:06\", \"passengers\": 2, \"distance\": 4.4, \"fare\": 16.5, \"tip\": 0.0, \"tolls\": 0.0, \"total\": 20.8, \"color\": \"yellow\", \"payment\": \"cash\", \"pickup_zone\": \"Clinton East\", \"dropoff_zone\": \"Two Bridges/Seward Park\", \"pickup_borough\": \"Manhattan\", \"dropoff_borough\": \"Manhattan\"}, {\"pickup\": \"2019-03-03T12:20:58\", \"dropoff\": \"2019-03-03T12:55:58\", \"passengers\": 6, \"distance\": 19.94, \"fare\": 52.0, \"tip\": 0.0, \"tolls\": 5.76, \"total\": 61.06, \"color\": \"yellow\", \"payment\": \"cash\", \"pickup_zone\": \"Upper East Side South\", \"dropoff_zone\": \"JFK Airport\", \"pickup_borough\": \"Manhattan\", \"dropoff_borough\": \"Queens\"}, {\"pickup\": \"2019-03-03T20:41:11\", \"dropoff\": \"2019-03-03T21:00:12\", \"passengers\": 2, \"distance\": 3.9, \"fare\": 15.5, \"tip\": 0.0, \"tolls\": 0.0, \"total\": 19.3, \"color\": \"yellow\", \"payment\": \"cash\", \"pickup_zone\": \"Midtown Center\", \"dropoff_zone\": \"Chinatown\", \"pickup_borough\": \"Manhattan\", \"dropoff_borough\": \"Manhattan\"}, {\"pickup\": \"2019-03-26T18:52:19\", \"dropoff\": \"2019-03-26T19:05:01\", \"passengers\": 2, \"distance\": 2.4, \"fare\": 11.0, \"tip\": 1.5, \"tolls\": 0.0, \"total\": 16.8, \"color\": \"yellow\", \"payment\": \"credit card\", \"pickup_zone\": \"Midtown Center\", \"dropoff_zone\": \"Yorkville East\", \"pickup_borough\": \"Manhattan\", \"dropoff_borough\": \"Manhattan\"}, {\"pickup\": \"2019-03-30T23:06:55\", \"dropoff\": \"2019-03-30T23:22:19\", \"passengers\": 1, \"distance\": 2.38, \"fare\": 12.5, \"tip\": 4.08, \"tolls\": 0.0, \"total\": 20.38, \"color\": \"yellow\", \"payment\": \"credit card\", \"pickup_zone\": \"Clinton East\", \"dropoff_zone\": \"Upper West Side North\", \"pickup_borough\": \"Manhattan\", \"dropoff_borough\": \"Manhattan\"}, {\"pickup\": \"2019-03-12T16:23:50\", \"dropoff\": \"2019-03-12T16:27:07\", \"passengers\": 5, \"distance\": 0.56, \"fare\": 4.5, \"tip\": 0.0, \"tolls\": 0.0, \"total\": 8.8, \"color\": \"yellow\", \"payment\": \"cash\", \"pickup_zone\": \"Clinton East\", \"dropoff_zone\": \"Clinton East\", \"pickup_borough\": \"Manhattan\", \"dropoff_borough\": \"Manhattan\"}, {\"pickup\": \"2019-03-02T19:01:36\", \"dropoff\": \"2019-03-02T19:08:46\", \"passengers\": 0, \"distance\": 1.4, \"fare\": 7.0, \"tip\": 0.0, \"tolls\": 0.0, \"total\": 10.3, \"color\": \"yellow\", \"payment\": null, \"pickup_zone\": \"Upper East Side South\", \"dropoff_zone\": \"Murray Hill\", \"pickup_borough\": \"Manhattan\", \"dropoff_borough\": \"Manhattan\"}, {\"pickup\": \"2019-03-25T10:36:40\", \"dropoff\": \"2019-03-25T10:47:26\", \"passengers\": 1, \"distance\": 0.96, \"fare\": 8.0, \"tip\": 0.0, \"tolls\": 0.0, \"total\": 11.3, \"color\": \"yellow\", \"payment\": \"cash\", \"pickup_zone\": \"Penn Station/Madison Sq West\", \"dropoff_zone\": \"Midtown Center\", \"pickup_borough\": \"Manhattan\", \"dropoff_borough\": \"Manhattan\"}, {\"pickup\": \"2019-03-01T09:32:49\", \"dropoff\": \"2019-03-01T09:37:03\", \"passengers\": 1, \"distance\": 0.5, \"fare\": 4.5, \"tip\": 0.0, \"tolls\": 0.0, \"total\": 7.8, \"color\": \"yellow\", \"payment\": \"cash\", \"pickup_zone\": \"Clinton East\", \"dropoff_zone\": \"Times Sq/Theatre District\", \"pickup_borough\": \"Manhattan\", \"dropoff_borough\": \"Manhattan\"}, {\"pickup\": \"2019-03-24T07:07:03\", \"dropoff\": \"2019-03-24T07:13:58\", \"passengers\": 1, \"distance\": 1.7, \"fare\": 7.5, \"tip\": 2.7, \"tolls\": 0.0, \"total\": 13.5, \"color\": \"yellow\", \"payment\": \"credit card\", \"pickup_zone\": \"Penn Station/Madison Sq West\", \"dropoff_zone\": \"Central Park\", \"pickup_borough\": \"Manhattan\", \"dropoff_borough\": \"Manhattan\"}, {\"pickup\": \"2019-03-05T22:33:09\", \"dropoff\": \"2019-03-05T22:45:36\", \"passengers\": 1, \"distance\": 1.9, \"fare\": 9.5, \"tip\": 3.3, \"tolls\": 0.0, \"total\": 16.6, \"color\": \"yellow\", \"payment\": \"credit card\", \"pickup_zone\": \"Upper East Side South\", \"dropoff_zone\": \"Kips Bay\", \"pickup_borough\": \"Manhattan\", \"dropoff_borough\": \"Manhattan\"}, {\"pickup\": \"2019-03-12T09:40:25\", \"dropoff\": \"2019-03-12T09:52:40\", \"passengers\": 1, \"distance\": 0.95, \"fare\": 8.5, \"tip\": 2.36, \"tolls\": 0.0, \"total\": 14.16, \"color\": \"yellow\", \"payment\": \"credit card\", \"pickup_zone\": \"Penn Station/Madison Sq West\", \"dropoff_zone\": \"Murray Hill\", \"pickup_borough\": \"Manhattan\", \"dropoff_borough\": \"Manhattan\"}, {\"pickup\": \"2019-03-12T15:17:52\", \"dropoff\": \"2019-03-12T15:28:18\", \"passengers\": 2, \"distance\": 1.58, \"fare\": 8.5, \"tip\": 0.0, \"tolls\": 0.0, \"total\": 11.8, \"color\": \"yellow\", \"payment\": \"cash\", \"pickup_zone\": \"Clinton East\", \"dropoff_zone\": \"Midtown North\", \"pickup_borough\": \"Manhattan\", \"dropoff_borough\": \"Manhattan\"}, {\"pickup\": \"2019-03-14T17:56:37\", \"dropoff\": \"2019-03-14T17:59:53\", \"passengers\": 1, \"distance\": 0.5, \"fare\": 4.5, \"tip\": 1.2, \"tolls\": 0.0, \"total\": 10.0, \"color\": \"yellow\", \"payment\": \"credit card\", \"pickup_zone\": \"Clinton East\", \"dropoff_zone\": \"Clinton East\", \"pickup_borough\": \"Manhattan\", \"dropoff_borough\": \"Manhattan\"}, {\"pickup\": \"2019-03-17T21:30:51\", \"dropoff\": \"2019-03-17T21:38:14\", \"passengers\": 1, \"distance\": 1.01, \"fare\": 6.5, \"tip\": 0.0, \"tolls\": 0.0, \"total\": 10.3, \"color\": \"yellow\", \"payment\": \"cash\", \"pickup_zone\": \"Clinton East\", \"dropoff_zone\": \"Murray Hill\", \"pickup_borough\": \"Manhattan\", \"dropoff_borough\": \"Manhattan\"}, {\"pickup\": \"2019-03-20T07:25:46\", \"dropoff\": \"2019-03-20T07:30:34\", \"passengers\": 1, \"distance\": 0.8, \"fare\": 5.0, \"tip\": 2.05, \"tolls\": 0.0, \"total\": 10.35, \"color\": \"yellow\", \"payment\": \"credit card\", \"pickup_zone\": \"Penn Station/Madison Sq West\", \"dropoff_zone\": \"East Chelsea\", \"pickup_borough\": \"Manhattan\", \"dropoff_borough\": \"Manhattan\"}, {\"pickup\": \"2019-03-01T08:24:40\", \"dropoff\": \"2019-03-01T08:49:35\", \"passengers\": 1, \"distance\": 2.84, \"fare\": 17.0, \"tip\": 1.02, \"tolls\": 0.0, \"total\": 21.32, \"color\": \"yellow\", \"payment\": \"credit card\", \"pickup_zone\": \"Clinton East\", \"dropoff_zone\": \"East Harlem South\", \"pickup_borough\": \"Manhattan\", \"dropoff_borough\": \"Manhattan\"}, {\"pickup\": \"2019-03-17T00:44:19\", \"dropoff\": \"2019-03-17T00:50:58\", \"passengers\": 1, \"distance\": 1.59, \"fare\": 7.5, \"tip\": 2.26, \"tolls\": 0.0, \"total\": 13.56, \"color\": \"yellow\", \"payment\": \"credit card\", \"pickup_zone\": \"Midtown Center\", \"dropoff_zone\": \"Upper West Side South\", \"pickup_borough\": \"Manhattan\", \"dropoff_borough\": \"Manhattan\"}, {\"pickup\": \"2019-03-29T10:00:02\", \"dropoff\": \"2019-03-29T10:19:35\", \"passengers\": 1, \"distance\": 1.3, \"fare\": 12.5, \"tip\": 0.0, \"tolls\": 0.0, \"total\": 15.8, \"color\": \"yellow\", \"payment\": \"cash\", \"pickup_zone\": \"Clinton East\", \"dropoff_zone\": \"Midtown East\", \"pickup_borough\": \"Manhattan\", \"dropoff_borough\": \"Manhattan\"}, {\"pickup\": \"2019-03-25T11:35:08\", \"dropoff\": \"2019-03-25T12:01:14\", \"passengers\": 1, \"distance\": 4.79, \"fare\": 20.0, \"tip\": 2.33, \"tolls\": 0.0, \"total\": 25.63, \"color\": \"yellow\", \"payment\": \"credit card\", \"pickup_zone\": \"Penn Station/Madison Sq West\", \"dropoff_zone\": \"Boerum Hill\", \"pickup_borough\": \"Manhattan\", \"dropoff_borough\": \"Brooklyn\"}, {\"pickup\": \"2019-03-27T11:38:18\", \"dropoff\": \"2019-03-27T12:11:42\", \"passengers\": 5, \"distance\": 8.65, \"fare\": 31.0, \"tip\": 0.33, \"tolls\": 0.0, \"total\": 34.63, \"color\": \"yellow\", \"payment\": \"credit card\", \"pickup_zone\": \"Midtown Center\", \"dropoff_zone\": \"Brooklyn Heights\", \"pickup_borough\": \"Manhattan\", \"dropoff_borough\": \"Brooklyn\"}, {\"pickup\": \"2019-03-24T13:54:44\", \"dropoff\": \"2019-03-24T14:00:39\", \"passengers\": 1, \"distance\": 0.58, \"fare\": 5.0, \"tip\": 0.0, \"tolls\": 0.0, \"total\": 8.3, \"color\": \"yellow\", \"payment\": \"cash\", \"pickup_zone\": \"Upper East Side South\", \"dropoff_zone\": \"Upper East Side South\", \"pickup_borough\": \"Manhattan\", \"dropoff_borough\": \"Manhattan\"}, {\"pickup\": \"2019-03-29T06:26:22\", \"dropoff\": \"2019-03-29T06:33:14\", \"passengers\": 1, \"distance\": 1.1, \"fare\": 6.5, \"tip\": 1.96, \"tolls\": 0.0, \"total\": 11.76, \"color\": \"yellow\", \"payment\": \"credit card\", \"pickup_zone\": \"Midtown Center\", \"dropoff_zone\": \"Midtown East\", \"pickup_borough\": \"Manhattan\", \"dropoff_borough\": \"Manhattan\"}, {\"pickup\": \"2019-03-23T14:04:51\", \"dropoff\": \"2019-03-23T14:14:47\", \"passengers\": 5, \"distance\": 1.39, \"fare\": 8.0, \"tip\": 0.0, \"tolls\": 0.0, \"total\": 11.3, \"color\": \"yellow\", \"payment\": \"cash\", \"pickup_zone\": \"Clinton East\", \"dropoff_zone\": \"Midtown North\", \"pickup_borough\": \"Manhattan\", \"dropoff_borough\": \"Manhattan\"}, {\"pickup\": \"2019-03-13T21:22:55\", \"dropoff\": \"2019-03-13T21:26:59\", \"passengers\": 3, \"distance\": 1.0, \"fare\": 5.0, \"tip\": 1.76, \"tolls\": 0.0, \"total\": 10.56, \"color\": \"yellow\", \"payment\": \"credit card\", \"pickup_zone\": \"Penn Station/Madison Sq West\", \"dropoff_zone\": \"East Chelsea\", \"pickup_borough\": \"Manhattan\", \"dropoff_borough\": \"Manhattan\"}, {\"pickup\": \"2019-03-04T17:58:36\", \"dropoff\": \"2019-03-04T18:14:13\", \"passengers\": 1, \"distance\": 1.8, \"fare\": 11.0, \"tip\": 3.05, \"tolls\": 0.0, \"total\": 18.35, \"color\": \"yellow\", \"payment\": \"credit card\", \"pickup_zone\": \"Clinton East\", \"dropoff_zone\": \"Murray Hill\", \"pickup_borough\": \"Manhattan\", \"dropoff_borough\": \"Manhattan\"}, {\"pickup\": \"2019-03-08T08:19:48\", \"dropoff\": \"2019-03-08T08:49:45\", \"passengers\": 1, \"distance\": 2.3, \"fare\": 18.0, \"tip\": 4.25, \"tolls\": 0.0, \"total\": 25.55, \"color\": \"yellow\", \"payment\": \"credit card\", \"pickup_zone\": \"Penn Station/Madison Sq West\", \"dropoff_zone\": \"Midtown East\", \"pickup_borough\": \"Manhattan\", \"dropoff_borough\": \"Manhattan\"}, {\"pickup\": \"2019-03-31T15:11:27\", \"dropoff\": \"2019-03-31T15:34:34\", \"passengers\": 5, \"distance\": 2.06, \"fare\": 15.0, \"tip\": 3.66, \"tolls\": 0.0, \"total\": 21.96, \"color\": \"yellow\", \"payment\": \"credit card\", \"pickup_zone\": \"Upper East Side South\", \"dropoff_zone\": \"Garment District\", \"pickup_borough\": \"Manhattan\", \"dropoff_borough\": \"Manhattan\"}, {\"pickup\": \"2019-03-26T19:28:50\", \"dropoff\": \"2019-03-26T19:37:04\", \"passengers\": 1, \"distance\": 2.28, \"fare\": 9.0, \"tip\": 2.66, \"tolls\": 0.0, \"total\": 15.96, \"color\": \"yellow\", \"payment\": \"credit card\", \"pickup_zone\": \"Clinton East\", \"dropoff_zone\": \"Upper West Side North\", \"pickup_borough\": \"Manhattan\", \"dropoff_borough\": \"Manhattan\"}, {\"pickup\": \"2019-03-21T12:45:45\", \"dropoff\": \"2019-03-21T12:53:12\", \"passengers\": 4, \"distance\": 0.5, \"fare\": 6.0, \"tip\": 1.85, \"tolls\": 0.0, \"total\": 11.15, \"color\": \"yellow\", \"payment\": \"credit card\", \"pickup_zone\": \"Midtown Center\", \"dropoff_zone\": \"Times Sq/Theatre District\", \"pickup_borough\": \"Manhattan\", \"dropoff_borough\": \"Manhattan\"}, {\"pickup\": \"2019-03-16T14:02:22\", \"dropoff\": \"2019-03-16T14:19:22\", \"passengers\": 2, \"distance\": 1.9, \"fare\": 12.0, \"tip\": 3.06, \"tolls\": 0.0, \"total\": 18.36, \"color\": \"yellow\", \"payment\": \"credit card\", \"pickup_zone\": \"Midtown Center\", \"dropoff_zone\": \"Upper East Side North\", \"pickup_borough\": \"Manhattan\", \"dropoff_borough\": \"Manhattan\"}, {\"pickup\": \"2019-03-11T20:38:00\", \"dropoff\": \"2019-03-11T20:50:42\", \"passengers\": 1, \"distance\": 2.51, \"fare\": 11.0, \"tip\": 2.96, \"tolls\": 0.0, \"total\": 17.76, \"color\": \"yellow\", \"payment\": \"credit card\", \"pickup_zone\": \"Midtown Center\", \"dropoff_zone\": \"Upper East Side North\", \"pickup_borough\": \"Manhattan\", \"dropoff_borough\": \"Manhattan\"}, {\"pickup\": \"2019-03-20T12:13:48\", \"dropoff\": \"2019-03-20T12:22:24\", \"passengers\": 1, \"distance\": 1.15, \"fare\": 7.5, \"tip\": 1.3, \"tolls\": 0.0, \"total\": 12.1, \"color\": \"yellow\", \"payment\": \"credit card\", \"pickup_zone\": \"Upper East Side South\", \"dropoff_zone\": \"Upper East Side North\", \"pickup_borough\": \"Manhattan\", \"dropoff_borough\": \"Manhattan\"}, {\"pickup\": \"2019-03-09T15:32:31\", \"dropoff\": \"2019-03-09T15:44:03\", \"passengers\": 6, \"distance\": 1.66, \"fare\": 9.0, \"tip\": 3.08, \"tolls\": 0.0, \"total\": 15.38, \"color\": \"yellow\", \"payment\": \"credit card\", \"pickup_zone\": \"Upper East Side South\", \"dropoff_zone\": \"Kips Bay\", \"pickup_borough\": \"Manhattan\", \"dropoff_borough\": \"Manhattan\"}, {\"pickup\": \"2019-03-25T09:53:53\", \"dropoff\": \"2019-03-25T10:07:37\", \"passengers\": 1, \"distance\": 1.14, \"fare\": 9.5, \"tip\": 2.56, \"tolls\": 0.0, \"total\": 15.36, \"color\": \"yellow\", \"payment\": \"credit card\", \"pickup_zone\": \"Midtown Center\", \"dropoff_zone\": \"Penn Station/Madison Sq West\", \"pickup_borough\": \"Manhattan\", \"dropoff_borough\": \"Manhattan\"}, {\"pickup\": \"2019-03-09T11:15:43\", \"dropoff\": \"2019-03-09T11:39:55\", \"passengers\": 1, \"distance\": 2.26, \"fare\": 15.5, \"tip\": 0.0, \"tolls\": 0.0, \"total\": 18.8, \"color\": \"yellow\", \"payment\": \"cash\", \"pickup_zone\": \"Penn Station/Madison Sq West\", \"dropoff_zone\": \"UN/Turtle Bay South\", \"pickup_borough\": \"Manhattan\", \"dropoff_borough\": \"Manhattan\"}, {\"pickup\": \"2019-03-13T23:21:48\", \"dropoff\": \"2019-03-13T23:26:06\", \"passengers\": 3, \"distance\": 0.72, \"fare\": 5.0, \"tip\": 2.2, \"tolls\": 0.0, \"total\": 11.0, \"color\": \"yellow\", \"payment\": \"credit card\", \"pickup_zone\": \"Upper East Side South\", \"dropoff_zone\": \"Sutton Place/Turtle Bay North\", \"pickup_borough\": \"Manhattan\", \"dropoff_borough\": \"Manhattan\"}, {\"pickup\": \"2019-03-01T23:13:22\", \"dropoff\": \"2019-03-01T23:32:53\", \"passengers\": 1, \"distance\": 8.9, \"fare\": 26.5, \"tip\": 6.05, \"tolls\": 0.0, \"total\": 36.35, \"color\": \"yellow\", \"payment\": \"credit card\", \"pickup_zone\": \"Clinton East\", \"dropoff_zone\": \"Inwood\", \"pickup_borough\": \"Manhattan\", \"dropoff_borough\": \"Manhattan\"}, {\"pickup\": \"2019-03-14T15:21:54\", \"dropoff\": \"2019-03-14T15:31:45\", \"passengers\": 2, \"distance\": 1.8, \"fare\": 8.5, \"tip\": 2.35, \"tolls\": 0.0, \"total\": 14.15, \"color\": \"yellow\", \"payment\": \"credit card\", \"pickup_zone\": \"Upper East Side South\", \"dropoff_zone\": \"Lincoln Square West\", \"pickup_borough\": \"Manhattan\", \"dropoff_borough\": \"Manhattan\"}, {\"pickup\": \"2019-03-15T15:56:48\", \"dropoff\": \"2019-03-15T16:22:33\", \"passengers\": 1, \"distance\": 2.8, \"fare\": 17.5, \"tip\": 4.15, \"tolls\": 0.0, \"total\": 24.95, \"color\": \"yellow\", \"payment\": \"credit card\", \"pickup_zone\": \"Upper East Side South\", \"dropoff_zone\": \"Kips Bay\", \"pickup_borough\": \"Manhattan\", \"dropoff_borough\": \"Manhattan\"}, {\"pickup\": \"2019-03-19T12:30:27\", \"dropoff\": \"2019-03-19T12:49:12\", \"passengers\": 0, \"distance\": 2.1, \"fare\": 13.0, \"tip\": 0.0, \"tolls\": 0.0, \"total\": 16.3, \"color\": \"yellow\", \"payment\": null, \"pickup_zone\": \"Penn Station/Madison Sq West\", \"dropoff_zone\": \"Lincoln Square East\", \"pickup_borough\": \"Manhattan\", \"dropoff_borough\": \"Manhattan\"}, {\"pickup\": \"2019-03-12T20:09:58\", \"dropoff\": \"2019-03-12T20:11:48\", \"passengers\": 1, \"distance\": 0.43, \"fare\": 3.5, \"tip\": 1.46, \"tolls\": 0.0, \"total\": 8.76, \"color\": \"yellow\", \"payment\": \"credit card\", \"pickup_zone\": \"Clinton East\", \"dropoff_zone\": \"Clinton West\", \"pickup_borough\": \"Manhattan\", \"dropoff_borough\": \"Manhattan\"}, {\"pickup\": \"2019-03-18T12:21:39\", \"dropoff\": \"2019-03-18T12:29:11\", \"passengers\": 5, \"distance\": 0.67, \"fare\": 6.0, \"tip\": 3.0, \"tolls\": 0.0, \"total\": 12.3, \"color\": \"yellow\", \"payment\": \"credit card\", \"pickup_zone\": \"Upper East Side South\", \"dropoff_zone\": \"Central Park\", \"pickup_borough\": \"Manhattan\", \"dropoff_borough\": \"Manhattan\"}, {\"pickup\": \"2019-03-19T23:04:25\", \"dropoff\": \"2019-03-19T23:13:41\", \"passengers\": 2, \"distance\": 1.4, \"fare\": 8.0, \"tip\": 3.0, \"tolls\": 0.0, \"total\": 14.8, \"color\": \"yellow\", \"payment\": \"credit card\", \"pickup_zone\": \"Upper East Side South\", \"dropoff_zone\": \"UN/Turtle Bay South\", \"pickup_borough\": \"Manhattan\", \"dropoff_borough\": \"Manhattan\"}, {\"pickup\": \"2019-03-18T23:24:59\", \"dropoff\": \"2019-03-18T23:47:41\", \"passengers\": 3, \"distance\": 5.86, \"fare\": 21.0, \"tip\": 4.96, \"tolls\": 0.0, \"total\": 29.76, \"color\": \"yellow\", \"payment\": \"credit card\", \"pickup_zone\": \"Penn Station/Madison Sq West\", \"dropoff_zone\": \"Fort Greene\", \"pickup_borough\": \"Manhattan\", \"dropoff_borough\": \"Brooklyn\"}, {\"pickup\": \"2019-03-27T01:12:27\", \"dropoff\": \"2019-03-27T01:24:18\", \"passengers\": 1, \"distance\": 2.76, \"fare\": 11.5, \"tip\": 4.59, \"tolls\": 0.0, \"total\": 19.89, \"color\": \"yellow\", \"payment\": \"credit card\", \"pickup_zone\": \"Midtown Center\", \"dropoff_zone\": \"Lincoln Square West\", \"pickup_borough\": \"Manhattan\", \"dropoff_borough\": \"Manhattan\"}, {\"pickup\": \"2019-03-11T20:32:38\", \"dropoff\": \"2019-03-11T20:35:16\", \"passengers\": 2, \"distance\": 0.5, \"fare\": 4.0, \"tip\": 0.0, \"tolls\": 0.0, \"total\": 7.8, \"color\": \"yellow\", \"payment\": \"cash\", \"pickup_zone\": \"Upper East Side South\", \"dropoff_zone\": \"Upper East Side South\", \"pickup_borough\": \"Manhattan\", \"dropoff_borough\": \"Manhattan\"}, {\"pickup\": \"2019-03-17T11:44:32\", \"dropoff\": \"2019-03-17T11:58:04\", \"passengers\": 3, \"distance\": 1.97, \"fare\": 10.5, \"tip\": 0.0, \"tolls\": 0.0, \"total\": 13.8, \"color\": \"yellow\", \"payment\": \"cash\", \"pickup_zone\": \"Clinton East\", \"dropoff_zone\": \"Union Sq\", \"pickup_borough\": \"Manhattan\", \"dropoff_borough\": \"Manhattan\"}, {\"pickup\": \"2019-03-06T22:13:00\", \"dropoff\": \"2019-03-06T22:18:55\", \"passengers\": 1, \"distance\": 0.61, \"fare\": 5.5, \"tip\": 1.86, \"tolls\": 0.0, \"total\": 11.16, \"color\": \"yellow\", \"payment\": \"credit card\", \"pickup_zone\": \"Penn Station/Madison Sq West\", \"dropoff_zone\": \"Midtown South\", \"pickup_borough\": \"Manhattan\", \"dropoff_borough\": \"Manhattan\"}, {\"pickup\": \"2019-03-22T02:04:40\", \"dropoff\": \"2019-03-22T02:19:26\", \"passengers\": 1, \"distance\": 3.78, \"fare\": 14.5, \"tip\": 0.0, \"tolls\": 0.0, \"total\": 18.3, \"color\": \"yellow\", \"payment\": \"cash\", \"pickup_zone\": \"Midtown Center\", \"dropoff_zone\": \"Sunnyside\", \"pickup_borough\": \"Manhattan\", \"dropoff_borough\": \"Queens\"}, {\"pickup\": \"2019-03-08T08:37:55\", \"dropoff\": \"2019-03-08T08:45:17\", \"passengers\": 1, \"distance\": 0.88, \"fare\": 6.5, \"tip\": 1.96, \"tolls\": 0.0, \"total\": 11.76, \"color\": \"yellow\", \"payment\": \"credit card\", \"pickup_zone\": \"Midtown Center\", \"dropoff_zone\": \"Central Park\", \"pickup_borough\": \"Manhattan\", \"dropoff_borough\": \"Manhattan\"}, {\"pickup\": \"2019-03-26T23:09:33\", \"dropoff\": \"2019-03-26T23:20:45\", \"passengers\": 1, \"distance\": 2.86, \"fare\": 11.5, \"tip\": 3.06, \"tolls\": 0.0, \"total\": 18.36, \"color\": \"yellow\", \"payment\": \"credit card\", \"pickup_zone\": \"Clinton East\", \"dropoff_zone\": \"Upper East Side North\", \"pickup_borough\": \"Manhattan\", \"dropoff_borough\": \"Manhattan\"}, {\"pickup\": \"2019-03-26T20:15:19\", \"dropoff\": \"2019-03-26T20:28:29\", \"passengers\": 1, \"distance\": 2.77, \"fare\": 11.0, \"tip\": 0.0, \"tolls\": 0.0, \"total\": 14.8, \"color\": \"yellow\", \"payment\": \"cash\", \"pickup_zone\": \"Midtown Center\", \"dropoff_zone\": \"East Harlem South\", \"pickup_borough\": \"Manhattan\", \"dropoff_borough\": \"Manhattan\"}, {\"pickup\": \"2019-03-07T10:56:58\", \"dropoff\": \"2019-03-07T11:03:42\", \"passengers\": 2, \"distance\": 0.68, \"fare\": 6.0, \"tip\": 0.0, \"tolls\": 0.0, \"total\": 9.3, \"color\": \"yellow\", \"payment\": \"cash\", \"pickup_zone\": \"Upper East Side South\", \"dropoff_zone\": \"Lenox Hill East\", \"pickup_borough\": \"Manhattan\", \"dropoff_borough\": \"Manhattan\"}, {\"pickup\": \"2019-03-14T18:47:49\", \"dropoff\": \"2019-03-14T18:57:23\", \"passengers\": 2, \"distance\": 1.47, \"fare\": 8.0, \"tip\": 2.46, \"tolls\": 0.0, \"total\": 14.76, \"color\": \"yellow\", \"payment\": \"credit card\", \"pickup_zone\": \"Midtown Center\", \"dropoff_zone\": \"Lenox Hill West\", \"pickup_borough\": \"Manhattan\", \"dropoff_borough\": \"Manhattan\"}, {\"pickup\": \"2019-03-25T15:43:30\", \"dropoff\": \"2019-03-25T15:51:00\", \"passengers\": 1, \"distance\": 0.62, \"fare\": 6.0, \"tip\": 1.4, \"tolls\": 0.0, \"total\": 10.7, \"color\": \"yellow\", \"payment\": \"credit card\", \"pickup_zone\": \"Upper East Side South\", \"dropoff_zone\": \"Sutton Place/Turtle Bay North\", \"pickup_borough\": \"Manhattan\", \"dropoff_borough\": \"Manhattan\"}, {\"pickup\": \"2019-03-03T18:37:18\", \"dropoff\": \"2019-03-03T18:45:24\", \"passengers\": 2, \"distance\": 1.2, \"fare\": 7.0, \"tip\": 2.05, \"tolls\": 0.0, \"total\": 12.35, \"color\": \"yellow\", \"payment\": \"credit card\", \"pickup_zone\": \"Penn Station/Madison Sq West\", \"dropoff_zone\": \"Times Sq/Theatre District\", \"pickup_borough\": \"Manhattan\", \"dropoff_borough\": \"Manhattan\"}, {\"pickup\": \"2019-03-02T10:02:38\", \"dropoff\": \"2019-03-02T10:27:07\", \"passengers\": 5, \"distance\": 4.4, \"fare\": 19.0, \"tip\": 4.45, \"tolls\": 0.0, \"total\": 26.75, \"color\": \"yellow\", \"payment\": \"credit card\", \"pickup_zone\": \"Penn Station/Madison Sq West\", \"dropoff_zone\": \"World Trade Center\", \"pickup_borough\": \"Manhattan\", \"dropoff_borough\": \"Manhattan\"}, {\"pickup\": \"2019-03-11T10:48:05\", \"dropoff\": \"2019-03-11T11:20:00\", \"passengers\": 1, \"distance\": 2.2, \"fare\": 19.0, \"tip\": 0.0, \"tolls\": 0.0, \"total\": 22.3, \"color\": \"yellow\", \"payment\": \"cash\", \"pickup_zone\": \"Midtown Center\", \"dropoff_zone\": \"West Chelsea/Hudson Yards\", \"pickup_borough\": \"Manhattan\", \"dropoff_borough\": \"Manhattan\"}, {\"pickup\": \"2019-03-13T17:24:28\", \"dropoff\": \"2019-03-13T17:45:34\", \"passengers\": 1, \"distance\": 2.44, \"fare\": 14.5, \"tip\": 3.76, \"tolls\": 0.0, \"total\": 22.56, \"color\": \"yellow\", \"payment\": \"credit card\", \"pickup_zone\": \"Upper East Side South\", \"dropoff_zone\": \"Gramercy\", \"pickup_borough\": \"Manhattan\", \"dropoff_borough\": \"Manhattan\"}, {\"pickup\": \"2019-03-23T11:05:12\", \"dropoff\": \"2019-03-23T11:13:29\", \"passengers\": 1, \"distance\": 1.6, \"fare\": 8.0, \"tip\": 0.0, \"tolls\": 0.0, \"total\": 11.3, \"color\": \"yellow\", \"payment\": \"cash\", \"pickup_zone\": \"Midtown Center\", \"dropoff_zone\": \"Upper East Side North\", \"pickup_borough\": \"Manhattan\", \"dropoff_borough\": \"Manhattan\"}, {\"pickup\": \"2019-03-04T08:30:51\", \"dropoff\": \"2019-03-04T08:40:54\", \"passengers\": 1, \"distance\": 1.0, \"fare\": 8.0, \"tip\": 2.25, \"tolls\": 0.0, \"total\": 13.55, \"color\": \"yellow\", \"payment\": \"credit card\", \"pickup_zone\": \"Upper East Side South\", \"dropoff_zone\": \"UN/Turtle Bay South\", \"pickup_borough\": \"Manhattan\", \"dropoff_borough\": \"Manhattan\"}, {\"pickup\": \"2019-03-13T20:37:43\", \"dropoff\": \"2019-03-13T20:48:25\", \"passengers\": 1, \"distance\": 1.06, \"fare\": 8.0, \"tip\": 2.36, \"tolls\": 0.0, \"total\": 14.16, \"color\": \"yellow\", \"payment\": \"credit card\", \"pickup_zone\": \"Penn Station/Madison Sq West\", \"dropoff_zone\": \"Murray Hill\", \"pickup_borough\": \"Manhattan\", \"dropoff_borough\": \"Manhattan\"}, {\"pickup\": \"2019-03-21T18:57:06\", \"dropoff\": \"2019-03-21T19:30:55\", \"passengers\": 1, \"distance\": 10.79, \"fare\": 31.5, \"tip\": 10.39, \"tolls\": 5.76, \"total\": 51.95, \"color\": \"yellow\", \"payment\": \"credit card\", \"pickup_zone\": \"Midtown Center\", \"dropoff_zone\": \"LaGuardia Airport\", \"pickup_borough\": \"Manhattan\", \"dropoff_borough\": \"Queens\"}, {\"pickup\": \"2019-03-16T02:43:09\", \"dropoff\": \"2019-03-16T02:57:11\", \"passengers\": 5, \"distance\": 7.77, \"fare\": 23.0, \"tip\": 0.0, \"tolls\": 0.0, \"total\": 26.8, \"color\": \"yellow\", \"payment\": \"cash\", \"pickup_zone\": \"Clinton East\", \"dropoff_zone\": \"Washington Heights North\", \"pickup_borough\": \"Manhattan\", \"dropoff_borough\": \"Manhattan\"}, {\"pickup\": \"2019-03-27T16:19:16\", \"dropoff\": \"2019-03-27T16:30:51\", \"passengers\": 1, \"distance\": 1.6, \"fare\": 9.5, \"tip\": 0.0, \"tolls\": 0.0, \"total\": 13.8, \"color\": \"yellow\", \"payment\": \"cash\", \"pickup_zone\": \"Upper East Side South\", \"dropoff_zone\": \"Upper East Side North\", \"pickup_borough\": \"Manhattan\", \"dropoff_borough\": \"Manhattan\"}, {\"pickup\": \"2019-03-09T03:21:09\", \"dropoff\": \"2019-03-09T03:26:15\", \"passengers\": 1, \"distance\": 1.28, \"fare\": 6.0, \"tip\": 1.96, \"tolls\": 0.0, \"total\": 11.76, \"color\": \"yellow\", \"payment\": \"credit card\", \"pickup_zone\": \"Clinton East\", \"dropoff_zone\": \"Penn Station/Madison Sq West\", \"pickup_borough\": \"Manhattan\", \"dropoff_borough\": \"Manhattan\"}, {\"pickup\": \"2019-03-01T00:32:49\", \"dropoff\": \"2019-03-01T00:53:18\", \"passengers\": 1, \"distance\": 5.34, \"fare\": 19.0, \"tip\": 2.0, \"tolls\": 0.0, \"total\": 24.8, \"color\": \"yellow\", \"payment\": \"credit card\", \"pickup_zone\": \"Clinton East\", \"dropoff_zone\": \"Sunnyside\", \"pickup_borough\": \"Manhattan\", \"dropoff_borough\": \"Queens\"}, {\"pickup\": \"2019-03-13T19:50:46\", \"dropoff\": \"2019-03-13T20:17:14\", \"passengers\": 1, \"distance\": 10.0, \"fare\": 31.0, \"tip\": 0.0, \"tolls\": 5.76, \"total\": 40.56, \"color\": \"yellow\", \"payment\": \"credit card\", \"pickup_zone\": \"Penn Station/Madison Sq West\", \"dropoff_zone\": \"LaGuardia Airport\", \"pickup_borough\": \"Manhattan\", \"dropoff_borough\": \"Queens\"}, {\"pickup\": \"2019-03-21T21:36:09\", \"dropoff\": \"2019-03-21T21:45:14\", \"passengers\": 1, \"distance\": 1.24, \"fare\": 7.5, \"tip\": 0.0, \"tolls\": 0.0, \"total\": 11.3, \"color\": \"yellow\", \"payment\": \"cash\", \"pickup_zone\": \"Midtown Center\", \"dropoff_zone\": \"Murray Hill\", \"pickup_borough\": \"Manhattan\", \"dropoff_borough\": \"Manhattan\"}, {\"pickup\": \"2019-03-07T20:05:51\", \"dropoff\": \"2019-03-07T20:11:11\", \"passengers\": 1, \"distance\": 0.5, \"fare\": 5.0, \"tip\": 2.6, \"tolls\": 0.0, \"total\": 11.4, \"color\": \"yellow\", \"payment\": \"credit card\", \"pickup_zone\": \"Midtown Center\", \"dropoff_zone\": \"Midtown South\", \"pickup_borough\": \"Manhattan\", \"dropoff_borough\": \"Manhattan\"}, {\"pickup\": \"2019-03-16T01:36:04\", \"dropoff\": \"2019-03-16T01:43:39\", \"passengers\": 1, \"distance\": 1.6, \"fare\": 7.5, \"tip\": 2.0, \"tolls\": 0.0, \"total\": 13.3, \"color\": \"yellow\", \"payment\": \"credit card\", \"pickup_zone\": \"Penn Station/Madison Sq West\", \"dropoff_zone\": \"Central Park\", \"pickup_borough\": \"Manhattan\", \"dropoff_borough\": \"Manhattan\"}, {\"pickup\": \"2019-03-30T17:20:39\", \"dropoff\": \"2019-03-30T17:35:51\", \"passengers\": 1, \"distance\": 3.03, \"fare\": 13.5, \"tip\": 2.52, \"tolls\": 0.0, \"total\": 19.32, \"color\": \"yellow\", \"payment\": \"credit card\", \"pickup_zone\": \"Clinton East\", \"dropoff_zone\": \"Upper West Side North\", \"pickup_borough\": \"Manhattan\", \"dropoff_borough\": \"Manhattan\"}, {\"pickup\": \"2019-03-15T07:19:18\", \"dropoff\": \"2019-03-15T07:33:21\", \"passengers\": 1, \"distance\": 1.72, \"fare\": 10.5, \"tip\": 3.45, \"tolls\": 0.0, \"total\": 17.25, \"color\": \"yellow\", \"payment\": \"credit card\", \"pickup_zone\": \"Penn Station/Madison Sq West\", \"dropoff_zone\": \"Midtown East\", \"pickup_borough\": \"Manhattan\", \"dropoff_borough\": \"Manhattan\"}, {\"pickup\": \"2019-03-19T21:33:13\", \"dropoff\": \"2019-03-19T21:40:30\", \"passengers\": 2, \"distance\": 1.02, \"fare\": 6.5, \"tip\": 0.0, \"tolls\": 0.0, \"total\": 10.3, \"color\": \"yellow\", \"payment\": \"cash\", \"pickup_zone\": \"Midtown Center\", \"dropoff_zone\": \"UN/Turtle Bay South\", \"pickup_borough\": \"Manhattan\", \"dropoff_borough\": \"Manhattan\"}, {\"pickup\": \"2019-03-02T19:36:34\", \"dropoff\": \"2019-03-02T20:05:06\", \"passengers\": 1, \"distance\": 3.37, \"fare\": 18.5, \"tip\": 3.0, \"tolls\": 0.0, \"total\": 24.8, \"color\": \"yellow\", \"payment\": \"credit card\", \"pickup_zone\": \"Upper East Side South\", \"dropoff_zone\": \"Union Sq\", \"pickup_borough\": \"Manhattan\", \"dropoff_borough\": \"Manhattan\"}, {\"pickup\": \"2019-03-28T19:47:59\", \"dropoff\": \"2019-03-28T19:54:08\", \"passengers\": 1, \"distance\": 1.1, \"fare\": 6.5, \"tip\": 2.7, \"tolls\": 0.0, \"total\": 13.5, \"color\": \"yellow\", \"payment\": \"credit card\", \"pickup_zone\": \"Upper East Side South\", \"dropoff_zone\": \"Upper East Side North\", \"pickup_borough\": \"Manhattan\", \"dropoff_borough\": \"Manhattan\"}, {\"pickup\": \"2019-03-12T23:08:25\", \"dropoff\": \"2019-03-12T23:25:20\", \"passengers\": 1, \"distance\": 3.73, \"fare\": 14.5, \"tip\": 3.66, \"tolls\": 0.0, \"total\": 21.96, \"color\": \"yellow\", \"payment\": \"credit card\", \"pickup_zone\": \"Upper East Side South\", \"dropoff_zone\": \"Gramercy\", \"pickup_borough\": \"Manhattan\", \"dropoff_borough\": \"Manhattan\"}, {\"pickup\": \"2019-03-15T08:42:56\", \"dropoff\": \"2019-03-15T08:47:27\", \"passengers\": 1, \"distance\": 0.64, \"fare\": 5.0, \"tip\": 1.0, \"tolls\": 0.0, \"total\": 9.3, \"color\": \"yellow\", \"payment\": \"credit card\", \"pickup_zone\": \"Upper East Side South\", \"dropoff_zone\": \"Lenox Hill East\", \"pickup_borough\": \"Manhattan\", \"dropoff_borough\": \"Manhattan\"}, {\"pickup\": \"2019-03-20T21:03:10\", \"dropoff\": \"2019-03-20T21:11:12\", \"passengers\": 1, \"distance\": 1.79, \"fare\": 8.5, \"tip\": 0.0, \"tolls\": 0.0, \"total\": 12.3, \"color\": \"yellow\", \"payment\": \"cash\", \"pickup_zone\": \"Midtown Center\", \"dropoff_zone\": \"Upper East Side North\", \"pickup_borough\": \"Manhattan\", \"dropoff_borough\": \"Manhattan\"}, {\"pickup\": \"2019-03-22T13:47:56\", \"dropoff\": \"2019-03-22T14:01:32\", \"passengers\": 1, \"distance\": 1.0, \"fare\": 9.5, \"tip\": 2.0, \"tolls\": 0.0, \"total\": 14.8, \"color\": \"yellow\", \"payment\": \"credit card\", \"pickup_zone\": \"Midtown Center\", \"dropoff_zone\": \"Union Sq\", \"pickup_borough\": \"Manhattan\", \"dropoff_borough\": \"Manhattan\"}, {\"pickup\": \"2019-03-05T21:39:03\", \"dropoff\": \"2019-03-05T21:49:12\", \"passengers\": 5, \"distance\": 1.31, \"fare\": 8.0, \"tip\": 0.0, \"tolls\": 0.0, \"total\": 11.8, \"color\": \"yellow\", \"payment\": \"cash\", \"pickup_zone\": \"Clinton East\", \"dropoff_zone\": \"Midtown East\", \"pickup_borough\": \"Manhattan\", \"dropoff_borough\": \"Manhattan\"}, {\"pickup\": \"2019-03-13T10:57:06\", \"dropoff\": \"2019-03-13T11:03:29\", \"passengers\": 1, \"distance\": 0.83, \"fare\": 6.0, \"tip\": 1.86, \"tolls\": 0.0, \"total\": 11.16, \"color\": \"yellow\", \"payment\": \"credit card\", \"pickup_zone\": \"Upper East Side South\", \"dropoff_zone\": \"Upper East Side North\", \"pickup_borough\": \"Manhattan\", \"dropoff_borough\": \"Manhattan\"}]}}, {\"mode\": \"vega-lite\"});\n",
       "</script>"
      ],
      "text/plain": [
       "alt.Chart(...)"
      ]
     },
     "execution_count": 18,
     "metadata": {},
     "output_type": "execute_result"
    }
   ],
   "source": [
    "alt.Chart(df).mark_circle().encode(\n",
    "    x = \"distance\",\n",
    "    y = \"total\",\n",
    "    color = \"pickup_zone:N\"\n",
    ")"
   ]
  },
  {
   "cell_type": "markdown",
   "metadata": {
    "cell_id": "45779459ab36480db385dc56f5fcb943",
    "deepnote_cell_type": "markdown"
   },
   "source": [
    "* Do you expect to be able to predict the pickup zone from this data?"
   ]
  },
  {
   "cell_type": "markdown",
   "metadata": {
    "cell_id": "49f5f9aa48234eb0b66b11f9122bd22f",
    "deepnote_cell_type": "markdown"
   },
   "source": [
    "No, there's no clear pattern to the pickup zones in terms of distance and total fare."
   ]
  },
  {
   "cell_type": "markdown",
   "metadata": {
    "cell_id": "2e45266ccb41446abdc00ee8f3df80b4",
    "deepnote_cell_type": "markdown"
   },
   "source": [
    "## Overfitting\n",
    "\n",
    "One of the most important concepts in Machine Learning is the concept of *overfitting*.  The basic idea is that if we have a very flexible model (for example, a model with many parameters), it may perform very well on the training data, but it may not generalize well to new data.\n",
    "\n",
    "When the model is too flexible, it may simply be memorizing random noise within the data, rather than learning the true underlying structure."
   ]
  },
  {
   "cell_type": "markdown",
   "metadata": {
    "cell_id": "d06973ea90374f5fbc3c599e846e97d8",
    "deepnote_cell_type": "markdown"
   },
   "source": [
    "* Import a Decision Tree model from `sklearn.tree`.  We will be using \"distance\" and \"total\" as our input features, and using \"pickup_zone\" as our target.  So should this be a `DecisionTreeClassifier` or a `DecisionTreeRegressor`?"
   ]
  },
  {
   "cell_type": "markdown",
   "metadata": {
    "cell_id": "5991ac68dd7d4a1aab9df11eacfada1c",
    "deepnote_cell_type": "markdown"
   },
   "source": [
    "Our inputs are numeric and our outputs are discrete classes.  That means this is a classification task: all that matters is the outputs, not the inputs.  So we use a `DecisionTreeClassifier`.\n",
    "\n",
    "We will discuss what a `DecisionTreeClassifier` actually does next week.  For now, just know that it is another model for classification, like logistic regression."
   ]
  },
  {
   "cell_type": "code",
   "execution_count": null,
   "metadata": {
    "cell_id": "c82dd70f534a480bbc8fadec1ba95a52",
    "deepnote_cell_type": "code",
    "deepnote_to_be_reexecuted": false,
    "execution_millis": 9,
    "execution_start": 1700180589784,
    "source_hash": null
   },
   "outputs": [],
   "source": [
    "from sklearn.tree import DecisionTreeClassifier"
   ]
  },
  {
   "cell_type": "markdown",
   "metadata": {
    "cell_id": "0539ffc0048d48e6b8cff49806f3c715",
    "deepnote_cell_type": "markdown"
   },
   "source": [
    "Usually we will pass at least one keyword argument to the following constructor (putting some constraint on `clf`), but here we just use the default values.  Because we are not placing any constraints on the complexity of the decision tree, we are very much at risk of overfitting."
   ]
  },
  {
   "cell_type": "code",
   "execution_count": null,
   "metadata": {
    "cell_id": "82676711426249f1b38431dd17d259ab",
    "deepnote_cell_type": "code",
    "deepnote_to_be_reexecuted": false,
    "execution_millis": 48,
    "execution_start": 1700180625642,
    "source_hash": null
   },
   "outputs": [],
   "source": [
    "clf = DecisionTreeClassifier()"
   ]
  },
  {
   "cell_type": "markdown",
   "metadata": {
    "cell_id": "b80669f8c4ba4c139ea65f44232f6d9c",
    "deepnote_cell_type": "markdown"
   },
   "source": [
    "* Fit the model to the data."
   ]
  },
  {
   "cell_type": "code",
   "execution_count": null,
   "metadata": {
    "cell_id": "01f35a905c714b2cb765de9cbbe235a8",
    "deepnote_cell_type": "code",
    "deepnote_to_be_reexecuted": false,
    "execution_millis": 7,
    "execution_start": 1700180675147,
    "source_hash": null
   },
   "outputs": [],
   "source": [
    "cols = ['distance', 'total']"
   ]
  },
  {
   "cell_type": "markdown",
   "metadata": {
    "cell_id": "75a4f31fba5749d3b7bddf7d4db07462",
    "deepnote_cell_type": "markdown"
   },
   "source": [
    "Here we fit the model to the data.  Even though we don't know what a decision tree is, we can do this fitting easily, because it is the same syntax as for other models in scikit-learn."
   ]
  },
  {
   "cell_type": "code",
   "execution_count": null,
   "metadata": {
    "cell_id": "fb24d7c8f61c4c68932e2f614eda77f7",
    "deepnote_cell_type": "code",
    "deepnote_to_be_reexecuted": false,
    "execution_millis": 10,
    "execution_start": 1700180717289,
    "source_hash": null
   },
   "outputs": [
    {
     "data": {
      "text/html": [
       "<style>#sk-container-id-1 {color: black;background-color: white;}#sk-container-id-1 pre{padding: 0;}#sk-container-id-1 div.sk-toggleable {background-color: white;}#sk-container-id-1 label.sk-toggleable__label {cursor: pointer;display: block;width: 100%;margin-bottom: 0;padding: 0.3em;box-sizing: border-box;text-align: center;}#sk-container-id-1 label.sk-toggleable__label-arrow:before {content: \"▸\";float: left;margin-right: 0.25em;color: #696969;}#sk-container-id-1 label.sk-toggleable__label-arrow:hover:before {color: black;}#sk-container-id-1 div.sk-estimator:hover label.sk-toggleable__label-arrow:before {color: black;}#sk-container-id-1 div.sk-toggleable__content {max-height: 0;max-width: 0;overflow: hidden;text-align: left;background-color: #f0f8ff;}#sk-container-id-1 div.sk-toggleable__content pre {margin: 0.2em;color: black;border-radius: 0.25em;background-color: #f0f8ff;}#sk-container-id-1 input.sk-toggleable__control:checked~div.sk-toggleable__content {max-height: 200px;max-width: 100%;overflow: auto;}#sk-container-id-1 input.sk-toggleable__control:checked~label.sk-toggleable__label-arrow:before {content: \"▾\";}#sk-container-id-1 div.sk-estimator input.sk-toggleable__control:checked~label.sk-toggleable__label {background-color: #d4ebff;}#sk-container-id-1 div.sk-label input.sk-toggleable__control:checked~label.sk-toggleable__label {background-color: #d4ebff;}#sk-container-id-1 input.sk-hidden--visually {border: 0;clip: rect(1px 1px 1px 1px);clip: rect(1px, 1px, 1px, 1px);height: 1px;margin: -1px;overflow: hidden;padding: 0;position: absolute;width: 1px;}#sk-container-id-1 div.sk-estimator {font-family: monospace;background-color: #f0f8ff;border: 1px dotted black;border-radius: 0.25em;box-sizing: border-box;margin-bottom: 0.5em;}#sk-container-id-1 div.sk-estimator:hover {background-color: #d4ebff;}#sk-container-id-1 div.sk-parallel-item::after {content: \"\";width: 100%;border-bottom: 1px solid gray;flex-grow: 1;}#sk-container-id-1 div.sk-label:hover label.sk-toggleable__label {background-color: #d4ebff;}#sk-container-id-1 div.sk-serial::before {content: \"\";position: absolute;border-left: 1px solid gray;box-sizing: border-box;top: 0;bottom: 0;left: 50%;z-index: 0;}#sk-container-id-1 div.sk-serial {display: flex;flex-direction: column;align-items: center;background-color: white;padding-right: 0.2em;padding-left: 0.2em;position: relative;}#sk-container-id-1 div.sk-item {position: relative;z-index: 1;}#sk-container-id-1 div.sk-parallel {display: flex;align-items: stretch;justify-content: center;background-color: white;position: relative;}#sk-container-id-1 div.sk-item::before, #sk-container-id-1 div.sk-parallel-item::before {content: \"\";position: absolute;border-left: 1px solid gray;box-sizing: border-box;top: 0;bottom: 0;left: 50%;z-index: -1;}#sk-container-id-1 div.sk-parallel-item {display: flex;flex-direction: column;z-index: 1;position: relative;background-color: white;}#sk-container-id-1 div.sk-parallel-item:first-child::after {align-self: flex-end;width: 50%;}#sk-container-id-1 div.sk-parallel-item:last-child::after {align-self: flex-start;width: 50%;}#sk-container-id-1 div.sk-parallel-item:only-child::after {width: 0;}#sk-container-id-1 div.sk-dashed-wrapped {border: 1px dashed gray;margin: 0 0.4em 0.5em 0.4em;box-sizing: border-box;padding-bottom: 0.4em;background-color: white;}#sk-container-id-1 div.sk-label label {font-family: monospace;font-weight: bold;display: inline-block;line-height: 1.2em;}#sk-container-id-1 div.sk-label-container {text-align: center;}#sk-container-id-1 div.sk-container {/* jupyter's `normalize.less` sets `[hidden] { display: none; }` but bootstrap.min.css set `[hidden] { display: none !important; }` so we also need the `!important` here to be able to override the default hidden behavior on the sphinx rendered scikit-learn.org. See: https://github.com/scikit-learn/scikit-learn/issues/21755 */display: inline-block !important;position: relative;}#sk-container-id-1 div.sk-text-repr-fallback {display: none;}</style><div id=\"sk-container-id-1\" class=\"sk-top-container\"><div class=\"sk-text-repr-fallback\"><pre>DecisionTreeClassifier()</pre><b>In a Jupyter environment, please rerun this cell to show the HTML representation or trust the notebook. <br />On GitHub, the HTML representation is unable to render, please try loading this page with nbviewer.org.</b></div><div class=\"sk-container\" hidden><div class=\"sk-item\"><div class=\"sk-estimator sk-toggleable\"><input class=\"sk-toggleable__control sk-hidden--visually\" id=\"sk-estimator-id-1\" type=\"checkbox\" checked><label for=\"sk-estimator-id-1\" class=\"sk-toggleable__label sk-toggleable__label-arrow\">DecisionTreeClassifier</label><div class=\"sk-toggleable__content\"><pre>DecisionTreeClassifier()</pre></div></div></div></div></div>"
      ],
      "text/plain": [
       "DecisionTreeClassifier()"
      ]
     },
     "execution_count": 24,
     "metadata": {},
     "output_type": "execute_result"
    }
   ],
   "source": [
    "clf.fit(df[cols], df[\"pickup_zone\"])"
   ]
  },
  {
   "cell_type": "markdown",
   "metadata": {
    "cell_id": "38f75cc6cf8546c7bdcd40a77d0df376",
    "deepnote_cell_type": "markdown"
   },
   "source": [
    "* What is the model's accuracy?  Use the `score` method.\n",
    "\n",
    "Wow, we've gotten 93%.  Is that good?  No, it is almost certainly bad!  Random guessing would give us a 25% accuracy (since there are four classes), and this is so much higher.  Do you really think there is any model that takes as input the fare and the distance and as output returns the pickup zone (from among these four options) with 93% accuracy?  Would you even expect a human expert to be able to do that?"
   ]
  },
  {
   "cell_type": "code",
   "execution_count": null,
   "metadata": {
    "cell_id": "668eaee96c6746658e9a956de131ff2f",
    "deepnote_cell_type": "code",
    "deepnote_to_be_reexecuted": false,
    "execution_millis": 7,
    "execution_start": 1700180749885,
    "source_hash": null
   },
   "outputs": [
    {
     "data": {
      "text/plain": [
       "0.9324796274738067"
      ]
     },
     "execution_count": 25,
     "metadata": {},
     "output_type": "execute_result"
    }
   ],
   "source": [
    "clf.score(df[cols], df[\"pickup_zone\"])"
   ]
  },
  {
   "cell_type": "markdown",
   "metadata": {
    "cell_id": "73945640f50349bfa5c5bcd034804989",
    "deepnote_cell_type": "markdown"
   },
   "source": [
    "## Detecting overfitting using a test set"
   ]
  },
  {
   "cell_type": "markdown",
   "metadata": {
    "cell_id": "645141b5fee741bba26ba1a6d0dfec27",
    "deepnote_cell_type": "markdown"
   },
   "source": [
    "* Import the `train_test_split` function from `sklearn.model_selection`. Divide the data into a training set and a test set.  Use 20% of the rows for the test set."
   ]
  },
  {
   "cell_type": "markdown",
   "metadata": {
    "cell_id": "82b8f0ce7a1d4fe4a0a19d70cf62723a",
    "deepnote_cell_type": "markdown"
   },
   "source": [
    "The input (`df[cols]`) gets divided into two components, a training set and a test set, named `X_train` and `X_test`.  Similarly for the output (`df[\"pickup_zone\"]`), it gets divided into `y_train` and `y_test`.\n",
    "\n",
    "We specify that the test set should be 20% of the data, by using `test_size=0.2`.  If we had used `test_size=80`, for example, then the test set would have `80` rows."
   ]
  },
  {
   "cell_type": "code",
   "execution_count": null,
   "metadata": {
    "cell_id": "d99f94a6ebeb4f3f8d97f28b8c016c58",
    "deepnote_cell_type": "code",
    "deepnote_to_be_reexecuted": false,
    "execution_millis": 9,
    "execution_start": 1700180949011,
    "source_hash": null
   },
   "outputs": [],
   "source": [
    "from sklearn.model_selection import train_test_split\n",
    "X_train, X_test, y_train, y_test = train_test_split(df[cols], df[\"pickup_zone\"], test_size=0.2, random_state=10)"
   ]
  },
  {
   "cell_type": "markdown",
   "metadata": {
    "cell_id": "f48e6c5835434125ad10c7ffc89a70d6",
    "deepnote_cell_type": "markdown"
   },
   "source": [
    "* Fit a decision tree model using the training set."
   ]
  },
  {
   "cell_type": "code",
   "execution_count": null,
   "metadata": {
    "cell_id": "3b79b8e483d54b23887d49b295c7e058",
    "deepnote_cell_type": "code",
    "deepnote_to_be_reexecuted": false,
    "execution_millis": 15,
    "execution_start": 1700180976157,
    "source_hash": null
   },
   "outputs": [
    {
     "data": {
      "text/html": [
       "<style>#sk-container-id-2 {color: black;background-color: white;}#sk-container-id-2 pre{padding: 0;}#sk-container-id-2 div.sk-toggleable {background-color: white;}#sk-container-id-2 label.sk-toggleable__label {cursor: pointer;display: block;width: 100%;margin-bottom: 0;padding: 0.3em;box-sizing: border-box;text-align: center;}#sk-container-id-2 label.sk-toggleable__label-arrow:before {content: \"▸\";float: left;margin-right: 0.25em;color: #696969;}#sk-container-id-2 label.sk-toggleable__label-arrow:hover:before {color: black;}#sk-container-id-2 div.sk-estimator:hover label.sk-toggleable__label-arrow:before {color: black;}#sk-container-id-2 div.sk-toggleable__content {max-height: 0;max-width: 0;overflow: hidden;text-align: left;background-color: #f0f8ff;}#sk-container-id-2 div.sk-toggleable__content pre {margin: 0.2em;color: black;border-radius: 0.25em;background-color: #f0f8ff;}#sk-container-id-2 input.sk-toggleable__control:checked~div.sk-toggleable__content {max-height: 200px;max-width: 100%;overflow: auto;}#sk-container-id-2 input.sk-toggleable__control:checked~label.sk-toggleable__label-arrow:before {content: \"▾\";}#sk-container-id-2 div.sk-estimator input.sk-toggleable__control:checked~label.sk-toggleable__label {background-color: #d4ebff;}#sk-container-id-2 div.sk-label input.sk-toggleable__control:checked~label.sk-toggleable__label {background-color: #d4ebff;}#sk-container-id-2 input.sk-hidden--visually {border: 0;clip: rect(1px 1px 1px 1px);clip: rect(1px, 1px, 1px, 1px);height: 1px;margin: -1px;overflow: hidden;padding: 0;position: absolute;width: 1px;}#sk-container-id-2 div.sk-estimator {font-family: monospace;background-color: #f0f8ff;border: 1px dotted black;border-radius: 0.25em;box-sizing: border-box;margin-bottom: 0.5em;}#sk-container-id-2 div.sk-estimator:hover {background-color: #d4ebff;}#sk-container-id-2 div.sk-parallel-item::after {content: \"\";width: 100%;border-bottom: 1px solid gray;flex-grow: 1;}#sk-container-id-2 div.sk-label:hover label.sk-toggleable__label {background-color: #d4ebff;}#sk-container-id-2 div.sk-serial::before {content: \"\";position: absolute;border-left: 1px solid gray;box-sizing: border-box;top: 0;bottom: 0;left: 50%;z-index: 0;}#sk-container-id-2 div.sk-serial {display: flex;flex-direction: column;align-items: center;background-color: white;padding-right: 0.2em;padding-left: 0.2em;position: relative;}#sk-container-id-2 div.sk-item {position: relative;z-index: 1;}#sk-container-id-2 div.sk-parallel {display: flex;align-items: stretch;justify-content: center;background-color: white;position: relative;}#sk-container-id-2 div.sk-item::before, #sk-container-id-2 div.sk-parallel-item::before {content: \"\";position: absolute;border-left: 1px solid gray;box-sizing: border-box;top: 0;bottom: 0;left: 50%;z-index: -1;}#sk-container-id-2 div.sk-parallel-item {display: flex;flex-direction: column;z-index: 1;position: relative;background-color: white;}#sk-container-id-2 div.sk-parallel-item:first-child::after {align-self: flex-end;width: 50%;}#sk-container-id-2 div.sk-parallel-item:last-child::after {align-self: flex-start;width: 50%;}#sk-container-id-2 div.sk-parallel-item:only-child::after {width: 0;}#sk-container-id-2 div.sk-dashed-wrapped {border: 1px dashed gray;margin: 0 0.4em 0.5em 0.4em;box-sizing: border-box;padding-bottom: 0.4em;background-color: white;}#sk-container-id-2 div.sk-label label {font-family: monospace;font-weight: bold;display: inline-block;line-height: 1.2em;}#sk-container-id-2 div.sk-label-container {text-align: center;}#sk-container-id-2 div.sk-container {/* jupyter's `normalize.less` sets `[hidden] { display: none; }` but bootstrap.min.css set `[hidden] { display: none !important; }` so we also need the `!important` here to be able to override the default hidden behavior on the sphinx rendered scikit-learn.org. See: https://github.com/scikit-learn/scikit-learn/issues/21755 */display: inline-block !important;position: relative;}#sk-container-id-2 div.sk-text-repr-fallback {display: none;}</style><div id=\"sk-container-id-2\" class=\"sk-top-container\"><div class=\"sk-text-repr-fallback\"><pre>DecisionTreeClassifier()</pre><b>In a Jupyter environment, please rerun this cell to show the HTML representation or trust the notebook. <br />On GitHub, the HTML representation is unable to render, please try loading this page with nbviewer.org.</b></div><div class=\"sk-container\" hidden><div class=\"sk-item\"><div class=\"sk-estimator sk-toggleable\"><input class=\"sk-toggleable__control sk-hidden--visually\" id=\"sk-estimator-id-2\" type=\"checkbox\" checked><label for=\"sk-estimator-id-2\" class=\"sk-toggleable__label sk-toggleable__label-arrow\">DecisionTreeClassifier</label><div class=\"sk-toggleable__content\"><pre>DecisionTreeClassifier()</pre></div></div></div></div></div>"
      ],
      "text/plain": [
       "DecisionTreeClassifier()"
      ]
     },
     "execution_count": 27,
     "metadata": {},
     "output_type": "execute_result"
    }
   ],
   "source": [
    "clf.fit(X_train, y_train)"
   ]
  },
  {
   "cell_type": "markdown",
   "metadata": {
    "cell_id": "8b44457f808e4e8d919ee2307869cfaa",
    "deepnote_cell_type": "markdown"
   },
   "source": [
    "The whole point is to keep the test set secret during the fitting process."
   ]
  },
  {
   "cell_type": "markdown",
   "metadata": {
    "cell_id": "998b4d3723e14f12917357f31f897b35",
    "deepnote_cell_type": "markdown"
   },
   "source": [
    "* What is the accuracy of the model on the training set?"
   ]
  },
  {
   "cell_type": "markdown",
   "metadata": {
    "cell_id": "e8b01156e12142849b8c710dc2092aab",
    "deepnote_cell_type": "markdown"
   },
   "source": [
    "Here we've achieved even a slightly better performance than above."
   ]
  },
  {
   "cell_type": "code",
   "execution_count": null,
   "metadata": {
    "cell_id": "2a6e85da26794b7ea12b7baa2e8741aa",
    "deepnote_cell_type": "code",
    "deepnote_to_be_reexecuted": false,
    "execution_millis": 125,
    "execution_start": 1700181010822,
    "source_hash": null
   },
   "outputs": [
    {
     "data": {
      "text/plain": [
       "0.9461426491994177"
      ]
     },
     "execution_count": 28,
     "metadata": {},
     "output_type": "execute_result"
    }
   ],
   "source": [
    "clf.score(X_train, y_train)"
   ]
  },
  {
   "cell_type": "markdown",
   "metadata": {
    "cell_id": "c797bbdf38fb48e28982f50351925694",
    "deepnote_cell_type": "markdown"
   },
   "source": [
    "* What is the accuracy of the model on the test set?"
   ]
  },
  {
   "cell_type": "markdown",
   "metadata": {
    "cell_id": "58df6596ef3d4f69a088ab1bf48ba4c2",
    "deepnote_cell_type": "markdown"
   },
   "source": [
    "The following result is the most important part of this notebook.  Notice how we have crashed from 94% accuracy to only slightly better accuracy than random guessing.  This is a very strong sign that our model has been overfitting the data.  It has learned the data very well, but there is no evidence that our model will perform well on new, unseen data."
   ]
  },
  {
   "cell_type": "code",
   "execution_count": null,
   "metadata": {
    "cell_id": "4dab24eb0e184940a217a87c6a391a93",
    "deepnote_cell_type": "code",
    "deepnote_to_be_reexecuted": false,
    "execution_millis": 18,
    "execution_start": 1700181037884,
    "source_hash": null
   },
   "outputs": [
    {
     "data": {
      "text/plain": [
       "0.29069767441860467"
      ]
     },
     "execution_count": 29,
     "metadata": {},
     "output_type": "execute_result"
    }
   ],
   "source": [
    "clf.score(X_test, y_test)"
   ]
  },
  {
   "cell_type": "markdown",
   "metadata": {
    "cell_id": "3fa67a83ac284e66b119d7fa6ffcc04d",
    "deepnote_cell_type": "markdown"
   },
   "source": [
    "* How does this result suggest overfitting?"
   ]
  },
  {
   "cell_type": "markdown",
   "metadata": {
    "cell_id": "5a25a2833e234afa8c350c243f39e0a4",
    "deepnote_cell_type": "markdown"
   },
   "source": [
    "The much better score on the training set than the test set is a strong sign of overfitting."
   ]
  },
  {
   "cell_type": "markdown",
   "metadata": {
    "created_in_deepnote_cell": true,
    "deepnote_cell_type": "markdown"
   },
   "source": [
    "<a style='text-decoration:none;line-height:16px;display:flex;color:#5B5B62;padding:10px;justify-content:end;' href='https://deepnote.com?utm_source=created-in-deepnote-cell&projectId=aa594bd8-70a6-47e1-aa1b-a16cfacfbe46' target=\"_blank\">\n",
    "<img alt='Created in deepnote.com' style='display:inline;max-height:16px;margin:0px;margin-right:7.5px;' src='data:image/svg+xml;base64,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' > </img>\n",
    "Created in <span style='font-weight:600;margin-left:4px;'>Deepnote</span></a>"
   ]
  }
 ],
 "metadata": {
  "deepnote": {},
  "deepnote_execution_queue": [],
  "deepnote_notebook_id": "25ac965c185f49fdb831a1088a0ed5cd",
  "deepnote_persisted_session": {
   "createdAt": "2023-11-17T01:00:24.923Z"
  },
  "kernelspec": {
   "display_name": "Python 3 (ipykernel)",
   "language": "python",
   "name": "python3"
  },
  "language_info": {
   "codemirror_mode": {
    "name": "ipython",
    "version": 3
   },
   "file_extension": ".py",
   "mimetype": "text/x-python",
   "name": "python",
   "nbconvert_exporter": "python",
   "pygments_lexer": "ipython3",
   "version": "3.9.18"
  }
 },
 "nbformat": 4,
 "nbformat_minor": 4
}
