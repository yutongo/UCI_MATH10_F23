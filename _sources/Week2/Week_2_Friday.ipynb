{
 "cells": [
  {
   "cell_type": "markdown",
   "metadata": {
    "cell_id": "098059383e5b4b98bc970e28e1ed1390",
    "deepnote_cell_type": "markdown",
    "editable": true,
    "slideshow": {
     "slide_type": ""
    },
    "tags": []
   },
   "source": [
    "# Week 2 Friday\n",
    "\n",
    "You can find the notesbooks at [course notes](https://yutongo.github.io/UCI_MATH10_F23/intro.html)."
   ]
  },
  {
   "cell_type": "code",
   "execution_count": null,
   "metadata": {
    "cell_id": "477aac21d73f4e6a984784bec9fb8dcb",
    "deepnote_cell_type": "code",
    "deepnote_to_be_reexecuted": false,
    "execution_millis": 22,
    "execution_start": 1697232850211,
    "source_hash": null
   },
   "outputs": [],
   "source": [
    "import pandas as pd\n",
    "df = pd.read_csv(\"taxis.csv\")"
   ]
  },
  {
   "cell_type": "markdown",
   "metadata": {
    "cell_id": "6632fdbe9011474ab5d8c374d7d31a47",
    "deepnote_cell_type": "markdown"
   },
   "source": [
    "* Convert the “pickup” and “dropoff” columns to datetime values, using the pandas function `to_datetime`. Save the results as new columns in `df`, named pickuptime and “droptime”."
   ]
  },
  {
   "cell_type": "code",
   "execution_count": null,
   "metadata": {
    "cell_id": "fc39fe224742479aa81ae702eae6afd9",
    "deepnote_cell_type": "code",
    "deepnote_to_be_reexecuted": false,
    "execution_millis": 318,
    "execution_start": 1697232956679,
    "source_hash": null
   },
   "outputs": [
    {
     "data": {
      "application/vnd.deepnote.dataframe.v3+json": {
       "column_count": 16,
       "columns": [
        {
         "dtype": "object",
         "name": "pickup",
         "stats": {
          "categories": [
           {
            "count": 1,
            "name": "2019-03-23 20:21:09"
           },
           {
            "count": 1,
            "name": "2019-03-04 16:11:55"
           },
           {
            "count": 3,
            "name": "3 others"
           }
          ],
          "nan_count": 0,
          "unique_count": 5
         }
        },
        {
         "dtype": "object",
         "name": "dropoff",
         "stats": {
          "categories": [
           {
            "count": 1,
            "name": "2019-03-23 20:27:24"
           },
           {
            "count": 1,
            "name": "2019-03-04 16:19:00"
           },
           {
            "count": 3,
            "name": "3 others"
           }
          ],
          "nan_count": 0,
          "unique_count": 5
         }
        },
        {
         "dtype": "int64",
         "name": "passengers",
         "stats": {
          "histogram": [
           {
            "bin_end": 1.2,
            "bin_start": 1,
            "count": 4
           },
           {
            "bin_end": 1.4,
            "bin_start": 1.2,
            "count": 0
           },
           {
            "bin_end": 1.6,
            "bin_start": 1.4,
            "count": 0
           },
           {
            "bin_end": 1.8,
            "bin_start": 1.6,
            "count": 0
           },
           {
            "bin_end": 2,
            "bin_start": 1.8,
            "count": 0
           },
           {
            "bin_end": 2.2,
            "bin_start": 2,
            "count": 0
           },
           {
            "bin_end": 2.4000000000000004,
            "bin_start": 2.2,
            "count": 0
           },
           {
            "bin_end": 2.6,
            "bin_start": 2.4000000000000004,
            "count": 0
           },
           {
            "bin_end": 2.8,
            "bin_start": 2.6,
            "count": 0
           },
           {
            "bin_end": 3,
            "bin_start": 2.8,
            "count": 1
           }
          ],
          "max": "3",
          "min": "1",
          "nan_count": 0,
          "unique_count": 2
         }
        },
        {
         "dtype": "float64",
         "name": "distance",
         "stats": {
          "histogram": [
           {
            "bin_end": 1.481,
            "bin_start": 0.79,
            "count": 2
           },
           {
            "bin_end": 2.172,
            "bin_start": 1.481,
            "count": 2
           },
           {
            "bin_end": 2.8630000000000004,
            "bin_start": 2.172,
            "count": 0
           },
           {
            "bin_end": 3.5540000000000003,
            "bin_start": 2.8630000000000004,
            "count": 0
           },
           {
            "bin_end": 4.245,
            "bin_start": 3.5540000000000003,
            "count": 0
           },
           {
            "bin_end": 4.936000000000001,
            "bin_start": 4.245,
            "count": 0
           },
           {
            "bin_end": 5.627000000000001,
            "bin_start": 4.936000000000001,
            "count": 0
           },
           {
            "bin_end": 6.3180000000000005,
            "bin_start": 5.627000000000001,
            "count": 0
           },
           {
            "bin_end": 7.009,
            "bin_start": 6.3180000000000005,
            "count": 0
           },
           {
            "bin_end": 7.7,
            "bin_start": 7.009,
            "count": 1
           }
          ],
          "max": "7.7",
          "min": "0.79",
          "nan_count": 0,
          "unique_count": 5
         }
        },
        {
         "dtype": "float64",
         "name": "fare",
         "stats": {
          "histogram": [
           {
            "bin_end": 7.2,
            "bin_start": 5,
            "count": 2
           },
           {
            "bin_end": 9.4,
            "bin_start": 7.2,
            "count": 2
           },
           {
            "bin_end": 11.600000000000001,
            "bin_start": 9.4,
            "count": 0
           },
           {
            "bin_end": 13.8,
            "bin_start": 11.600000000000001,
            "count": 0
           },
           {
            "bin_end": 16,
            "bin_start": 13.8,
            "count": 0
           },
           {
            "bin_end": 18.200000000000003,
            "bin_start": 16,
            "count": 0
           },
           {
            "bin_end": 20.400000000000002,
            "bin_start": 18.200000000000003,
            "count": 0
           },
           {
            "bin_end": 22.6,
            "bin_start": 20.400000000000002,
            "count": 0
           },
           {
            "bin_end": 24.8,
            "bin_start": 22.6,
            "count": 0
           },
           {
            "bin_end": 27,
            "bin_start": 24.8,
            "count": 1
           }
          ],
          "max": "27.0",
          "min": "5.0",
          "nan_count": 0,
          "unique_count": 5
         }
        },
        {
         "dtype": "float64",
         "name": "tip",
         "stats": {
          "histogram": [
           {
            "bin_end": 0.615,
            "bin_start": 0,
            "count": 1
           },
           {
            "bin_end": 1.23,
            "bin_start": 0.615,
            "count": 1
           },
           {
            "bin_end": 1.845,
            "bin_start": 1.23,
            "count": 0
           },
           {
            "bin_end": 2.46,
            "bin_start": 1.845,
            "count": 2
           },
           {
            "bin_end": 3.075,
            "bin_start": 2.46,
            "count": 0
           },
           {
            "bin_end": 3.69,
            "bin_start": 3.075,
            "count": 0
           },
           {
            "bin_end": 4.305,
            "bin_start": 3.69,
            "count": 0
           },
           {
            "bin_end": 4.92,
            "bin_start": 4.305,
            "count": 0
           },
           {
            "bin_end": 5.535,
            "bin_start": 4.92,
            "count": 0
           },
           {
            "bin_end": 6.15,
            "bin_start": 5.535,
            "count": 1
           }
          ],
          "max": "6.15",
          "min": "0.0",
          "nan_count": 0,
          "unique_count": 5
         }
        },
        {
         "dtype": "float64",
         "name": "tolls",
         "stats": {
          "histogram": [
           {
            "bin_end": -0.4,
            "bin_start": -0.5,
            "count": 0
           },
           {
            "bin_end": -0.3,
            "bin_start": -0.4,
            "count": 0
           },
           {
            "bin_end": -0.19999999999999996,
            "bin_start": -0.3,
            "count": 0
           },
           {
            "bin_end": -0.09999999999999998,
            "bin_start": -0.19999999999999996,
            "count": 0
           },
           {
            "bin_end": 0,
            "bin_start": -0.09999999999999998,
            "count": 0
           },
           {
            "bin_end": 0.10000000000000009,
            "bin_start": 0,
            "count": 5
           },
           {
            "bin_end": 0.20000000000000007,
            "bin_start": 0.10000000000000009,
            "count": 0
           },
           {
            "bin_end": 0.30000000000000004,
            "bin_start": 0.20000000000000007,
            "count": 0
           },
           {
            "bin_end": 0.4,
            "bin_start": 0.30000000000000004,
            "count": 0
           },
           {
            "bin_end": 0.5,
            "bin_start": 0.4,
            "count": 0
           }
          ],
          "max": "0.0",
          "min": "0.0",
          "nan_count": 0,
          "unique_count": 1
         }
        },
        {
         "dtype": "float64",
         "name": "total",
         "stats": {
          "histogram": [
           {
            "bin_end": 12.065000000000001,
            "bin_start": 9.3,
            "count": 1
           },
           {
            "bin_end": 14.830000000000002,
            "bin_start": 12.065000000000001,
            "count": 3
           },
           {
            "bin_end": 17.595,
            "bin_start": 14.830000000000002,
            "count": 0
           },
           {
            "bin_end": 20.36,
            "bin_start": 17.595,
            "count": 0
           },
           {
            "bin_end": 23.125,
            "bin_start": 20.36,
            "count": 0
           },
           {
            "bin_end": 25.89,
            "bin_start": 23.125,
            "count": 0
           },
           {
            "bin_end": 28.655,
            "bin_start": 25.89,
            "count": 0
           },
           {
            "bin_end": 31.42,
            "bin_start": 28.655,
            "count": 0
           },
           {
            "bin_end": 34.185,
            "bin_start": 31.42,
            "count": 0
           },
           {
            "bin_end": 36.95,
            "bin_start": 34.185,
            "count": 1
           }
          ],
          "max": "36.95",
          "min": "9.3",
          "nan_count": 0,
          "unique_count": 5
         }
        },
        {
         "dtype": "object",
         "name": "color",
         "stats": {
          "categories": [
           {
            "count": 5,
            "name": "yellow"
           }
          ],
          "nan_count": 0,
          "unique_count": 1
         }
        },
        {
         "dtype": "object",
         "name": "payment",
         "stats": {
          "categories": [
           {
            "count": 4,
            "name": "credit card"
           },
           {
            "count": 1,
            "name": "cash"
           }
          ],
          "nan_count": 0,
          "unique_count": 2
         }
        },
        {
         "dtype": "object",
         "name": "pickup_zone",
         "stats": {
          "categories": [
           {
            "count": 1,
            "name": "Lenox Hill West"
           },
           {
            "count": 1,
            "name": "Upper West Side South"
           },
           {
            "count": 3,
            "name": "3 others"
           }
          ],
          "nan_count": 0,
          "unique_count": 5
         }
        },
        {
         "dtype": "object",
         "name": "dropoff_zone",
         "stats": {
          "categories": [
           {
            "count": 2,
            "name": "Yorkville West"
           },
           {
            "count": 1,
            "name": "UN/Turtle Bay South"
           },
           {
            "count": 2,
            "name": "2 others"
           }
          ],
          "nan_count": 0,
          "unique_count": 4
         }
        },
        {
         "dtype": "object",
         "name": "pickup_borough",
         "stats": {
          "categories": [
           {
            "count": 5,
            "name": "Manhattan"
           }
          ],
          "nan_count": 0,
          "unique_count": 1
         }
        },
        {
         "dtype": "object",
         "name": "dropoff_borough",
         "stats": {
          "categories": [
           {
            "count": 5,
            "name": "Manhattan"
           }
          ],
          "nan_count": 0,
          "unique_count": 1
         }
        },
        {
         "dtype": "datetime64[ns]",
         "name": "pickuptime",
         "stats": {
          "histogram": [
           {
            "bin_end": 1551939569700000000,
            "bin_start": 1551715915000000000,
            "count": 1
           },
           {
            "bin_end": 1552163224400000000,
            "bin_start": 1551939569700000000,
            "count": 0
           },
           {
            "bin_end": 1552386879100000000,
            "bin_start": 1552163224400000000,
            "count": 1
           },
           {
            "bin_end": 1552610533800000000,
            "bin_start": 1552386879100000000,
            "count": 0
           },
           {
            "bin_end": 1552834188500000000,
            "bin_start": 1552610533800000000,
            "count": 0
           },
           {
            "bin_end": 1553057843200000000,
            "bin_start": 1552834188500000000,
            "count": 0
           },
           {
            "bin_end": 1553281497900000000,
            "bin_start": 1553057843200000000,
            "count": 0
           },
           {
            "bin_end": 1553505152600000000,
            "bin_start": 1553281497900000000,
            "count": 1
           },
           {
            "bin_end": 1553728807300000000,
            "bin_start": 1553505152600000000,
            "count": 1
           },
           {
            "bin_end": 1553952462000000000,
            "bin_start": 1553728807300000000,
            "count": 1
           }
          ],
          "max": "2019-03-30 13:27:42",
          "min": "2019-03-04 16:11:55",
          "nan_count": 0,
          "unique_count": 5
         }
        },
        {
         "dtype": "datetime64[ns]",
         "name": "droptime",
         "stats": {
          "histogram": [
           {
            "bin_end": 1551940009400000000,
            "bin_start": 1551716340000000000,
            "count": 1
           },
           {
            "bin_end": 1552163678800000000,
            "bin_start": 1551940009400000000,
            "count": 0
           },
           {
            "bin_end": 1552387348200000000,
            "bin_start": 1552163678800000000,
            "count": 1
           },
           {
            "bin_end": 1552611017600000000,
            "bin_start": 1552387348200000000,
            "count": 0
           },
           {
            "bin_end": 1552834687000000000,
            "bin_start": 1552611017600000000,
            "count": 0
           },
           {
            "bin_end": 1553058356400000000,
            "bin_start": 1552834687000000000,
            "count": 0
           },
           {
            "bin_end": 1553282025800000000,
            "bin_start": 1553058356400000000,
            "count": 0
           },
           {
            "bin_end": 1553505695200000000,
            "bin_start": 1553282025800000000,
            "count": 1
           },
           {
            "bin_end": 1553729364600000000,
            "bin_start": 1553505695200000000,
            "count": 1
           },
           {
            "bin_end": 1553953034000000000,
            "bin_start": 1553729364600000000,
            "count": 1
           }
          ],
          "max": "2019-03-30 13:37:14",
          "min": "2019-03-04 16:19:00",
          "nan_count": 0,
          "unique_count": 5
         }
        },
        {
         "dtype": "int64",
         "name": "_deepnote_index_column"
        }
       ],
       "row_count": 5,
       "rows": [
        {
         "_deepnote_index_column": 0,
         "color": "yellow",
         "distance": 1.6,
         "dropoff": "2019-03-23 20:27:24",
         "dropoff_borough": "Manhattan",
         "dropoff_zone": "UN/Turtle Bay South",
         "droptime": "2019-03-23 20:27:24",
         "fare": 7,
         "passengers": 1,
         "payment": "credit card",
         "pickup": "2019-03-23 20:21:09",
         "pickup_borough": "Manhattan",
         "pickup_zone": "Lenox Hill West",
         "pickuptime": "2019-03-23 20:21:09",
         "tip": 2.15,
         "tolls": 0,
         "total": 12.95
        },
        {
         "_deepnote_index_column": 1,
         "color": "yellow",
         "distance": 0.79,
         "dropoff": "2019-03-04 16:19:00",
         "dropoff_borough": "Manhattan",
         "dropoff_zone": "Upper West Side South",
         "droptime": "2019-03-04 16:19:00",
         "fare": 5,
         "passengers": 1,
         "payment": "cash",
         "pickup": "2019-03-04 16:11:55",
         "pickup_borough": "Manhattan",
         "pickup_zone": "Upper West Side South",
         "pickuptime": "2019-03-04 16:11:55",
         "tip": 0,
         "tolls": 0,
         "total": 9.3
        },
        {
         "_deepnote_index_column": 2,
         "color": "yellow",
         "distance": 1.37,
         "dropoff": "2019-03-27 18:00:25",
         "dropoff_borough": "Manhattan",
         "dropoff_zone": "West Village",
         "droptime": "2019-03-27 18:00:25",
         "fare": 7.5,
         "passengers": 1,
         "payment": "credit card",
         "pickup": "2019-03-27 17:53:01",
         "pickup_borough": "Manhattan",
         "pickup_zone": "Alphabet City",
         "pickuptime": "2019-03-27 17:53:01",
         "tip": 2.36,
         "tolls": 0,
         "total": 14.16
        },
        {
         "_deepnote_index_column": 3,
         "color": "yellow",
         "distance": 7.7,
         "dropoff": "2019-03-10 01:49:51",
         "dropoff_borough": "Manhattan",
         "dropoff_zone": "Yorkville West",
         "droptime": "2019-03-10 01:49:51",
         "fare": 27,
         "passengers": 1,
         "payment": "credit card",
         "pickup": "2019-03-10 01:23:59",
         "pickup_borough": "Manhattan",
         "pickup_zone": "Hudson Sq",
         "pickuptime": "2019-03-10 01:23:59",
         "tip": 6.15,
         "tolls": 0,
         "total": 36.95
        },
        {
         "_deepnote_index_column": 4,
         "color": "yellow",
         "distance": 2.16,
         "dropoff": "2019-03-30 13:37:14",
         "dropoff_borough": "Manhattan",
         "dropoff_zone": "Yorkville West",
         "droptime": "2019-03-30 13:37:14",
         "fare": 9,
         "passengers": 3,
         "payment": "credit card",
         "pickup": "2019-03-30 13:27:42",
         "pickup_borough": "Manhattan",
         "pickup_zone": "Midtown East",
         "pickuptime": "2019-03-30 13:27:42",
         "tip": 1.1,
         "tolls": 0,
         "total": 13.4
        }
       ]
      },
      "text/html": [
       "<div>\n",
       "<style scoped>\n",
       "    .dataframe tbody tr th:only-of-type {\n",
       "        vertical-align: middle;\n",
       "    }\n",
       "\n",
       "    .dataframe tbody tr th {\n",
       "        vertical-align: top;\n",
       "    }\n",
       "\n",
       "    .dataframe thead th {\n",
       "        text-align: right;\n",
       "    }\n",
       "</style>\n",
       "<table border=\"1\" class=\"dataframe\">\n",
       "  <thead>\n",
       "    <tr style=\"text-align: right;\">\n",
       "      <th></th>\n",
       "      <th>pickup</th>\n",
       "      <th>dropoff</th>\n",
       "      <th>passengers</th>\n",
       "      <th>distance</th>\n",
       "      <th>fare</th>\n",
       "      <th>tip</th>\n",
       "      <th>tolls</th>\n",
       "      <th>total</th>\n",
       "      <th>color</th>\n",
       "      <th>payment</th>\n",
       "      <th>pickup_zone</th>\n",
       "      <th>dropoff_zone</th>\n",
       "      <th>pickup_borough</th>\n",
       "      <th>dropoff_borough</th>\n",
       "      <th>pickuptime</th>\n",
       "      <th>droptime</th>\n",
       "    </tr>\n",
       "  </thead>\n",
       "  <tbody>\n",
       "    <tr>\n",
       "      <th>0</th>\n",
       "      <td>2019-03-23 20:21:09</td>\n",
       "      <td>2019-03-23 20:27:24</td>\n",
       "      <td>1</td>\n",
       "      <td>1.60</td>\n",
       "      <td>7.0</td>\n",
       "      <td>2.15</td>\n",
       "      <td>0.0</td>\n",
       "      <td>12.95</td>\n",
       "      <td>yellow</td>\n",
       "      <td>credit card</td>\n",
       "      <td>Lenox Hill West</td>\n",
       "      <td>UN/Turtle Bay South</td>\n",
       "      <td>Manhattan</td>\n",
       "      <td>Manhattan</td>\n",
       "      <td>2019-03-23 20:21:09</td>\n",
       "      <td>2019-03-23 20:27:24</td>\n",
       "    </tr>\n",
       "    <tr>\n",
       "      <th>1</th>\n",
       "      <td>2019-03-04 16:11:55</td>\n",
       "      <td>2019-03-04 16:19:00</td>\n",
       "      <td>1</td>\n",
       "      <td>0.79</td>\n",
       "      <td>5.0</td>\n",
       "      <td>0.00</td>\n",
       "      <td>0.0</td>\n",
       "      <td>9.30</td>\n",
       "      <td>yellow</td>\n",
       "      <td>cash</td>\n",
       "      <td>Upper West Side South</td>\n",
       "      <td>Upper West Side South</td>\n",
       "      <td>Manhattan</td>\n",
       "      <td>Manhattan</td>\n",
       "      <td>2019-03-04 16:11:55</td>\n",
       "      <td>2019-03-04 16:19:00</td>\n",
       "    </tr>\n",
       "    <tr>\n",
       "      <th>2</th>\n",
       "      <td>2019-03-27 17:53:01</td>\n",
       "      <td>2019-03-27 18:00:25</td>\n",
       "      <td>1</td>\n",
       "      <td>1.37</td>\n",
       "      <td>7.5</td>\n",
       "      <td>2.36</td>\n",
       "      <td>0.0</td>\n",
       "      <td>14.16</td>\n",
       "      <td>yellow</td>\n",
       "      <td>credit card</td>\n",
       "      <td>Alphabet City</td>\n",
       "      <td>West Village</td>\n",
       "      <td>Manhattan</td>\n",
       "      <td>Manhattan</td>\n",
       "      <td>2019-03-27 17:53:01</td>\n",
       "      <td>2019-03-27 18:00:25</td>\n",
       "    </tr>\n",
       "    <tr>\n",
       "      <th>3</th>\n",
       "      <td>2019-03-10 01:23:59</td>\n",
       "      <td>2019-03-10 01:49:51</td>\n",
       "      <td>1</td>\n",
       "      <td>7.70</td>\n",
       "      <td>27.0</td>\n",
       "      <td>6.15</td>\n",
       "      <td>0.0</td>\n",
       "      <td>36.95</td>\n",
       "      <td>yellow</td>\n",
       "      <td>credit card</td>\n",
       "      <td>Hudson Sq</td>\n",
       "      <td>Yorkville West</td>\n",
       "      <td>Manhattan</td>\n",
       "      <td>Manhattan</td>\n",
       "      <td>2019-03-10 01:23:59</td>\n",
       "      <td>2019-03-10 01:49:51</td>\n",
       "    </tr>\n",
       "    <tr>\n",
       "      <th>4</th>\n",
       "      <td>2019-03-30 13:27:42</td>\n",
       "      <td>2019-03-30 13:37:14</td>\n",
       "      <td>3</td>\n",
       "      <td>2.16</td>\n",
       "      <td>9.0</td>\n",
       "      <td>1.10</td>\n",
       "      <td>0.0</td>\n",
       "      <td>13.40</td>\n",
       "      <td>yellow</td>\n",
       "      <td>credit card</td>\n",
       "      <td>Midtown East</td>\n",
       "      <td>Yorkville West</td>\n",
       "      <td>Manhattan</td>\n",
       "      <td>Manhattan</td>\n",
       "      <td>2019-03-30 13:27:42</td>\n",
       "      <td>2019-03-30 13:37:14</td>\n",
       "    </tr>\n",
       "  </tbody>\n",
       "</table>\n",
       "</div>"
      ],
      "text/plain": [
       "                pickup              dropoff  passengers  distance  fare   tip  \\\n",
       "0  2019-03-23 20:21:09  2019-03-23 20:27:24           1      1.60   7.0  2.15   \n",
       "1  2019-03-04 16:11:55  2019-03-04 16:19:00           1      0.79   5.0  0.00   \n",
       "2  2019-03-27 17:53:01  2019-03-27 18:00:25           1      1.37   7.5  2.36   \n",
       "3  2019-03-10 01:23:59  2019-03-10 01:49:51           1      7.70  27.0  6.15   \n",
       "4  2019-03-30 13:27:42  2019-03-30 13:37:14           3      2.16   9.0  1.10   \n",
       "\n",
       "   tolls  total   color      payment            pickup_zone  \\\n",
       "0    0.0  12.95  yellow  credit card        Lenox Hill West   \n",
       "1    0.0   9.30  yellow         cash  Upper West Side South   \n",
       "2    0.0  14.16  yellow  credit card          Alphabet City   \n",
       "3    0.0  36.95  yellow  credit card              Hudson Sq   \n",
       "4    0.0  13.40  yellow  credit card           Midtown East   \n",
       "\n",
       "            dropoff_zone pickup_borough dropoff_borough          pickuptime  \\\n",
       "0    UN/Turtle Bay South      Manhattan       Manhattan 2019-03-23 20:21:09   \n",
       "1  Upper West Side South      Manhattan       Manhattan 2019-03-04 16:11:55   \n",
       "2           West Village      Manhattan       Manhattan 2019-03-27 17:53:01   \n",
       "3         Yorkville West      Manhattan       Manhattan 2019-03-10 01:23:59   \n",
       "4         Yorkville West      Manhattan       Manhattan 2019-03-30 13:27:42   \n",
       "\n",
       "             droptime  \n",
       "0 2019-03-23 20:27:24  \n",
       "1 2019-03-04 16:19:00  \n",
       "2 2019-03-27 18:00:25  \n",
       "3 2019-03-10 01:49:51  \n",
       "4 2019-03-30 13:37:14  "
      ]
     },
     "execution_count": 2,
     "metadata": {},
     "output_type": "execute_result"
    }
   ],
   "source": [
    "df['pickuptime'] = pd.to_datetime(df['pickup'])\n",
    "df['droptime'] = pd.to_datetime(df['dropoff'])\n",
    "df.head()"
   ]
  },
  {
   "cell_type": "markdown",
   "metadata": {
    "cell_id": "832cc78dc4e94101be4a93bc6e290933",
    "deepnote_cell_type": "markdown"
   },
   "source": [
    "* Make a new column, \"day\", containing the day of the week of the pickup.  Use the accessor `dt` and then the method `day_name`."
   ]
  },
  {
   "cell_type": "markdown",
   "metadata": {
    "cell_id": "86247ce30523408e9f177afae1a30897",
    "deepnote_cell_type": "markdown"
   },
   "source": [
    "If we try to call `day_name` on the Series directly, even though it contains datetime values, we get an error. We need to use the `dt` accessor to apply these kind of methods to the entries in the Series."
   ]
  },
  {
   "cell_type": "code",
   "execution_count": null,
   "metadata": {
    "cell_id": "7c41e2b7b2144ef5866280cccf93c974",
    "deepnote_cell_type": "code",
    "deepnote_to_be_reexecuted": false,
    "execution_millis": 105,
    "execution_start": 1697227561252,
    "source_hash": null
   },
   "outputs": [
    {
     "ename": "AttributeError",
     "evalue": "'Series' object has no attribute 'day_name'",
     "output_type": "error",
     "traceback": [
      "\u001b[0;31m---------------------------------------------------------------------------\u001b[0m",
      "\u001b[0;31mAttributeError\u001b[0m                            Traceback (most recent call last)",
      "Cell \u001b[0;32mIn [6], line 1\u001b[0m\n\u001b[0;32m----> 1\u001b[0m \u001b[43mdf\u001b[49m\u001b[43m[\u001b[49m\u001b[38;5;124;43m'\u001b[39;49m\u001b[38;5;124;43mpickuptime\u001b[39;49m\u001b[38;5;124;43m'\u001b[39;49m\u001b[43m]\u001b[49m\u001b[38;5;241;43m.\u001b[39;49m\u001b[43mday_name\u001b[49m()\n",
      "File \u001b[0;32m/shared-libs/python3.9/py/lib/python3.9/site-packages/pandas/core/generic.py:5465\u001b[0m, in \u001b[0;36mNDFrame.__getattr__\u001b[0;34m(self, name)\u001b[0m\n\u001b[1;32m   5463\u001b[0m \u001b[38;5;28;01mif\u001b[39;00m \u001b[38;5;28mself\u001b[39m\u001b[38;5;241m.\u001b[39m_info_axis\u001b[38;5;241m.\u001b[39m_can_hold_identifiers_and_holds_name(name):\n\u001b[1;32m   5464\u001b[0m     \u001b[38;5;28;01mreturn\u001b[39;00m \u001b[38;5;28mself\u001b[39m[name]\n\u001b[0;32m-> 5465\u001b[0m \u001b[38;5;28;01mreturn\u001b[39;00m \u001b[38;5;28;43mobject\u001b[39;49m\u001b[38;5;241;43m.\u001b[39;49m\u001b[38;5;21;43m__getattribute__\u001b[39;49m\u001b[43m(\u001b[49m\u001b[38;5;28;43mself\u001b[39;49m\u001b[43m,\u001b[49m\u001b[43m \u001b[49m\u001b[43mname\u001b[49m\u001b[43m)\u001b[49m\n",
      "\u001b[0;31mAttributeError\u001b[0m: 'Series' object has no attribute 'day_name'"
     ]
    }
   ],
   "source": [
    "df['pickuptime'].day_name()"
   ]
  },
  {
   "cell_type": "code",
   "execution_count": null,
   "metadata": {
    "cell_id": "37eacec1141c4891a25296aba5e590bb",
    "deepnote_cell_type": "code",
    "deepnote_to_be_reexecuted": false,
    "execution_millis": 17,
    "execution_start": 1697233204723,
    "source_hash": null
   },
   "outputs": [
    {
     "data": {
      "text/plain": [
       "0        Saturday\n",
       "1          Monday\n",
       "2       Wednesday\n",
       "3          Sunday\n",
       "4        Saturday\n",
       "          ...    \n",
       "6428       Sunday\n",
       "6429       Sunday\n",
       "6430     Saturday\n",
       "6431       Monday\n",
       "6432    Wednesday\n",
       "Name: day, Length: 6433, dtype: object"
      ]
     },
     "execution_count": 3,
     "metadata": {},
     "output_type": "execute_result"
    }
   ],
   "source": [
    "df['day'] = df['pickuptime'].dt.day_name() #accessor dt\n",
    "df['day']"
   ]
  },
  {
   "cell_type": "code",
   "execution_count": null,
   "metadata": {
    "cell_id": "0677bf0e9f4b434eb37e4ae8a35b77dd",
    "deepnote_cell_type": "code",
    "deepnote_to_be_reexecuted": false,
    "editable": true,
    "execution_millis": 300,
    "execution_start": 1697233207847,
    "scrolled": true,
    "slideshow": {
     "slide_type": ""
    },
    "source_hash": null,
    "tags": []
   },
   "outputs": [
    {
     "name": "stdout",
     "output_type": "stream",
     "text": [
      " |          - 'raise' will raise an NonExistentTimeError if there are\n",
      " |            nonexistent times.\n",
      " |      \n",
      " |          .. versionadded:: 0.24.0\n",
      " |      \n",
      " |      Returns\n",
      " |      -------\n",
      " |      DatetimeIndex, TimedeltaIndex, or Series\n",
      " |          Index of the same type for a DatetimeIndex or TimedeltaIndex,\n",
      " |          or a Series with the same index for a Series.\n",
      " |      \n",
      " |      Raises\n",
      " |      ------\n",
      " |      ValueError if the `freq` cannot be converted.\n",
      " |      \n",
      " |      Examples\n",
      " |      --------\n",
      " |      **DatetimeIndex**\n",
      " |      \n",
      " |      >>> rng = pd.date_range('1/1/2018 11:59:00', periods=3, freq='min')\n",
      " |      >>> rng\n",
      " |      DatetimeIndex(['2018-01-01 11:59:00', '2018-01-01 12:00:00',\n",
      " |                     '2018-01-01 12:01:00'],\n",
      " |                    dtype='datetime64[ns]', freq='T')\n",
      " |      >>> rng.round('H')\n",
      " |      DatetimeIndex(['2018-01-01 12:00:00', '2018-01-01 12:00:00',\n",
      " |                     '2018-01-01 12:00:00'],\n",
      " |                    dtype='datetime64[ns]', freq=None)\n",
      " |      \n",
      " |      **Series**\n",
      " |      \n",
      " |      >>> pd.Series(rng).dt.round(\"H\")\n",
      " |      0   2018-01-01 12:00:00\n",
      " |      1   2018-01-01 12:00:00\n",
      " |      2   2018-01-01 12:00:00\n",
      " |      dtype: datetime64[ns]\n",
      " |  \n",
      " |  strftime(self, *args, **kwargs)\n",
      " |      Convert to Index using specified date_format.\n",
      " |      \n",
      " |      Return an Index of formatted strings specified by date_format, which\n",
      " |      supports the same string format as the python standard library. Details\n",
      " |      of the string format can be found in `python string format\n",
      " |      doc <https://docs.python.org/3/library/datetime.html#strftime-and-strptime-behavior>`__.\n",
      " |      \n",
      " |      Parameters\n",
      " |      ----------\n",
      " |      date_format : str\n",
      " |          Date format string (e.g. \"%Y-%m-%d\").\n",
      " |      \n",
      " |      Returns\n",
      " |      -------\n",
      " |      ndarray\n",
      " |          NumPy ndarray of formatted strings.\n",
      " |      \n",
      " |      See Also\n",
      " |      --------\n",
      " |      to_datetime : Convert the given argument to datetime.\n",
      " |      DatetimeIndex.normalize : Return DatetimeIndex with times to midnight.\n",
      " |      DatetimeIndex.round : Round the DatetimeIndex to the specified freq.\n",
      " |      DatetimeIndex.floor : Floor the DatetimeIndex to the specified freq.\n",
      " |      \n",
      " |      Examples\n",
      " |      --------\n",
      " |      >>> rng = pd.date_range(pd.Timestamp(\"2018-03-10 09:00\"),\n",
      " |      ...                     periods=3, freq='s')\n",
      " |      >>> rng.strftime('%B %d, %Y, %r')\n",
      " |      Index(['March 10, 2018, 09:00:00 AM', 'March 10, 2018, 09:00:01 AM',\n",
      " |             'March 10, 2018, 09:00:02 AM'],\n",
      " |            dtype='object')\n",
      " |  \n",
      " |  to_period(self, *args, **kwargs)\n",
      " |      Cast to PeriodArray/Index at a particular frequency.\n",
      " |      \n",
      " |      Converts DatetimeArray/Index to PeriodArray/Index.\n",
      " |      \n",
      " |      Parameters\n",
      " |      ----------\n",
      " |      freq : str or Offset, optional\n",
      " |          One of pandas' :ref:`offset strings <timeseries.offset_aliases>`\n",
      " |          or an Offset object. Will be inferred by default.\n",
      " |      \n",
      " |      Returns\n",
      " |      -------\n",
      " |      PeriodArray/Index\n",
      " |      \n",
      " |      Raises\n",
      " |      ------\n",
      " |      ValueError\n",
      " |          When converting a DatetimeArray/Index with non-regular values,\n",
      " |          so that a frequency cannot be inferred.\n",
      " |      \n",
      " |      See Also\n",
      " |      --------\n",
      " |      PeriodIndex: Immutable ndarray holding ordinal values.\n",
      " |      DatetimeIndex.to_pydatetime: Return DatetimeIndex as object.\n",
      " |      \n",
      " |      Examples\n",
      " |      --------\n",
      " |      >>> df = pd.DataFrame({\"y\": [1, 2, 3]},\n",
      " |      ...                   index=pd.to_datetime([\"2000-03-31 00:00:00\",\n",
      " |      ...                                         \"2000-05-31 00:00:00\",\n",
      " |      ...                                         \"2000-08-31 00:00:00\"]))\n",
      " |      >>> df.index.to_period(\"M\")\n",
      " |      PeriodIndex(['2000-03', '2000-05', '2000-08'],\n",
      " |                  dtype='period[M]', freq='M')\n",
      " |      \n",
      " |      Infer the daily frequency\n",
      " |      \n",
      " |      >>> idx = pd.date_range(\"2017-01-01\", periods=2)\n",
      " |      >>> idx.to_period()\n",
      " |      PeriodIndex(['2017-01-01', '2017-01-02'],\n",
      " |                  dtype='period[D]', freq='D')\n",
      " |  \n",
      " |  to_pydatetime(self) -> numpy.ndarray\n",
      " |      Return the data as an array of native Python datetime objects.\n",
      " |      \n",
      " |      Timezone information is retained if present.\n",
      " |      \n",
      " |      .. warning::\n",
      " |      \n",
      " |         Python's datetime uses microsecond resolution, which is lower than\n",
      " |         pandas (nanosecond). The values are truncated.\n",
      " |      \n",
      " |      Returns\n",
      " |      -------\n",
      " |      numpy.ndarray\n",
      " |          Object dtype array containing native Python datetime objects.\n",
      " |      \n",
      " |      See Also\n",
      " |      --------\n",
      " |      datetime.datetime : Standard library value for a datetime.\n",
      " |      \n",
      " |      Examples\n",
      " |      --------\n",
      " |      >>> s = pd.Series(pd.date_range('20180310', periods=2))\n",
      " |      >>> s\n",
      " |      0   2018-03-10\n",
      " |      1   2018-03-11\n",
      " |      dtype: datetime64[ns]\n",
      " |      \n",
      " |      >>> s.dt.to_pydatetime()\n",
      " |      array([datetime.datetime(2018, 3, 10, 0, 0),\n",
      " |             datetime.datetime(2018, 3, 11, 0, 0)], dtype=object)\n",
      " |      \n",
      " |      pandas' nanosecond precision is truncated to microseconds.\n",
      " |      \n",
      " |      >>> s = pd.Series(pd.date_range('20180310', periods=2, freq='ns'))\n",
      " |      >>> s\n",
      " |      0   2018-03-10 00:00:00.000000000\n",
      " |      1   2018-03-10 00:00:00.000000001\n",
      " |      dtype: datetime64[ns]\n",
      " |      \n",
      " |      >>> s.dt.to_pydatetime()\n",
      " |      array([datetime.datetime(2018, 3, 10, 0, 0),\n",
      " |             datetime.datetime(2018, 3, 10, 0, 0)], dtype=object)\n",
      " |  \n",
      " |  tz_convert(self, *args, **kwargs)\n",
      " |      Convert tz-aware Datetime Array/Index from one time zone to another.\n",
      " |      \n",
      " |      Parameters\n",
      " |      ----------\n",
      " |      tz : str, pytz.timezone, dateutil.tz.tzfile or None\n",
      " |          Time zone for time. Corresponding timestamps would be converted\n",
      " |          to this time zone of the Datetime Array/Index. A `tz` of None will\n",
      " |          convert to UTC and remove the timezone information.\n",
      " |      \n",
      " |      Returns\n",
      " |      -------\n",
      " |      Array or Index\n",
      " |      \n",
      " |      Raises\n",
      " |      ------\n",
      " |      TypeError\n",
      " |          If Datetime Array/Index is tz-naive.\n",
      " |      \n",
      " |      See Also\n",
      " |      --------\n",
      " |      DatetimeIndex.tz : A timezone that has a variable offset from UTC.\n",
      " |      DatetimeIndex.tz_localize : Localize tz-naive DatetimeIndex to a\n",
      " |          given time zone, or remove timezone from a tz-aware DatetimeIndex.\n",
      " |      \n",
      " |      Examples\n",
      " |      --------\n",
      " |      With the `tz` parameter, we can change the DatetimeIndex\n",
      " |      to other time zones:\n",
      " |      \n",
      " |      >>> dti = pd.date_range(start='2014-08-01 09:00',\n",
      " |      ...                     freq='H', periods=3, tz='Europe/Berlin')\n",
      " |      \n",
      " |      >>> dti\n",
      " |      DatetimeIndex(['2014-08-01 09:00:00+02:00',\n",
      " |                     '2014-08-01 10:00:00+02:00',\n",
      " |                     '2014-08-01 11:00:00+02:00'],\n",
      " |                    dtype='datetime64[ns, Europe/Berlin]', freq='H')\n",
      " |      \n",
      " |      >>> dti.tz_convert('US/Central')\n",
      " |      DatetimeIndex(['2014-08-01 02:00:00-05:00',\n",
      " |                     '2014-08-01 03:00:00-05:00',\n",
      " |                     '2014-08-01 04:00:00-05:00'],\n",
      " |                    dtype='datetime64[ns, US/Central]', freq='H')\n",
      " |      \n",
      " |      With the ``tz=None``, we can remove the timezone (after converting\n",
      " |      to UTC if necessary):\n",
      " |      \n",
      " |      >>> dti = pd.date_range(start='2014-08-01 09:00', freq='H',\n",
      " |      ...                     periods=3, tz='Europe/Berlin')\n",
      " |      \n",
      " |      >>> dti\n",
      " |      DatetimeIndex(['2014-08-01 09:00:00+02:00',\n",
      " |                     '2014-08-01 10:00:00+02:00',\n",
      " |                     '2014-08-01 11:00:00+02:00'],\n",
      " |                      dtype='datetime64[ns, Europe/Berlin]', freq='H')\n",
      " |      \n",
      " |      >>> dti.tz_convert(None)\n",
      " |      DatetimeIndex(['2014-08-01 07:00:00',\n",
      " |                     '2014-08-01 08:00:00',\n",
      " |                     '2014-08-01 09:00:00'],\n",
      " |                      dtype='datetime64[ns]', freq='H')\n",
      " |  \n",
      " |  tz_localize(self, *args, **kwargs)\n",
      " |      Localize tz-naive Datetime Array/Index to tz-aware\n",
      " |      Datetime Array/Index.\n",
      " |      \n",
      " |      This method takes a time zone (tz) naive Datetime Array/Index object\n",
      " |      and makes this time zone aware. It does not move the time to another\n",
      " |      time zone.\n",
      " |      Time zone localization helps to switch from time zone aware to time\n",
      " |      zone unaware objects.\n",
      " |      \n",
      " |      Parameters\n",
      " |      ----------\n",
      " |      tz : str, pytz.timezone, dateutil.tz.tzfile or None\n",
      " |          Time zone to convert timestamps to. Passing ``None`` will\n",
      " |          remove the time zone information preserving local time.\n",
      " |      ambiguous : 'infer', 'NaT', bool array, default 'raise'\n",
      " |          When clocks moved backward due to DST, ambiguous times may arise.\n",
      " |          For example in Central European Time (UTC+01), when going from\n",
      " |          03:00 DST to 02:00 non-DST, 02:30:00 local time occurs both at\n",
      " |          00:30:00 UTC and at 01:30:00 UTC. In such a situation, the\n",
      " |          `ambiguous` parameter dictates how ambiguous times should be\n",
      " |          handled.\n",
      " |      \n",
      " |          - 'infer' will attempt to infer fall dst-transition hours based on\n",
      " |            order\n",
      " |          - bool-ndarray where True signifies a DST time, False signifies a\n",
      " |            non-DST time (note that this flag is only applicable for\n",
      " |            ambiguous times)\n",
      " |          - 'NaT' will return NaT where there are ambiguous times\n",
      " |          - 'raise' will raise an AmbiguousTimeError if there are ambiguous\n",
      " |            times.\n",
      " |      \n",
      " |      nonexistent : 'shift_forward', 'shift_backward, 'NaT', timedelta, default 'raise'\n",
      " |          A nonexistent time does not exist in a particular timezone\n",
      " |          where clocks moved forward due to DST.\n",
      " |      \n",
      " |          - 'shift_forward' will shift the nonexistent time forward to the\n",
      " |            closest existing time\n",
      " |          - 'shift_backward' will shift the nonexistent time backward to the\n",
      " |            closest existing time\n",
      " |          - 'NaT' will return NaT where there are nonexistent times\n",
      " |          - timedelta objects will shift nonexistent times by the timedelta\n",
      " |          - 'raise' will raise an NonExistentTimeError if there are\n",
      " |            nonexistent times.\n",
      " |      \n",
      " |          .. versionadded:: 0.24.0\n",
      " |      \n",
      " |      Returns\n",
      " |      -------\n",
      " |      Same type as self\n",
      " |          Array/Index converted to the specified time zone.\n",
      " |      \n",
      " |      Raises\n",
      " |      ------\n",
      " |      TypeError\n",
      " |          If the Datetime Array/Index is tz-aware and tz is not None.\n",
      " |      \n",
      " |      See Also\n",
      " |      --------\n",
      " |      DatetimeIndex.tz_convert : Convert tz-aware DatetimeIndex from\n",
      " |          one time zone to another.\n",
      " |      \n",
      " |      Examples\n",
      " |      --------\n",
      " |      >>> tz_naive = pd.date_range('2018-03-01 09:00', periods=3)\n",
      " |      >>> tz_naive\n",
      " |      DatetimeIndex(['2018-03-01 09:00:00', '2018-03-02 09:00:00',\n",
      " |                     '2018-03-03 09:00:00'],\n",
      " |                    dtype='datetime64[ns]', freq='D')\n",
      " |      \n",
      " |      Localize DatetimeIndex in US/Eastern time zone:\n",
      " |      \n",
      " |      >>> tz_aware = tz_naive.tz_localize(tz='US/Eastern')\n",
      " |      >>> tz_aware\n",
      " |      DatetimeIndex(['2018-03-01 09:00:00-05:00',\n",
      " |                     '2018-03-02 09:00:00-05:00',\n",
      " |                     '2018-03-03 09:00:00-05:00'],\n",
      " |                    dtype='datetime64[ns, US/Eastern]', freq=None)\n",
      " |      \n",
      " |      With the ``tz=None``, we can remove the time zone information\n",
      " |      while keeping the local time (not converted to UTC):\n",
      " |      \n",
      " |      >>> tz_aware.tz_localize(None)\n",
      " |      DatetimeIndex(['2018-03-01 09:00:00', '2018-03-02 09:00:00',\n",
      " |                     '2018-03-03 09:00:00'],\n",
      " |                    dtype='datetime64[ns]', freq=None)\n",
      " |      \n",
      " |      Be careful with DST changes. When there is sequential data, pandas can\n",
      " |      infer the DST time:\n",
      " |      \n",
      " |      >>> s = pd.to_datetime(pd.Series(['2018-10-28 01:30:00',\n",
      " |      ...                               '2018-10-28 02:00:00',\n",
      " |      ...                               '2018-10-28 02:30:00',\n",
      " |      ...                               '2018-10-28 02:00:00',\n",
      " |      ...                               '2018-10-28 02:30:00',\n",
      " |      ...                               '2018-10-28 03:00:00',\n",
      " |      ...                               '2018-10-28 03:30:00']))\n",
      " |      >>> s.dt.tz_localize('CET', ambiguous='infer')\n",
      " |      0   2018-10-28 01:30:00+02:00\n",
      " |      1   2018-10-28 02:00:00+02:00\n",
      " |      2   2018-10-28 02:30:00+02:00\n",
      " |      3   2018-10-28 02:00:00+01:00\n",
      " |      4   2018-10-28 02:30:00+01:00\n",
      " |      5   2018-10-28 03:00:00+01:00\n",
      " |      6   2018-10-28 03:30:00+01:00\n",
      " |      dtype: datetime64[ns, CET]\n",
      " |      \n",
      " |      In some cases, inferring the DST is impossible. In such cases, you can\n",
      " |      pass an ndarray to the ambiguous parameter to set the DST explicitly\n",
      " |      \n",
      " |      >>> s = pd.to_datetime(pd.Series(['2018-10-28 01:20:00',\n",
      " |      ...                               '2018-10-28 02:36:00',\n",
      " |      ...                               '2018-10-28 03:46:00']))\n",
      " |      >>> s.dt.tz_localize('CET', ambiguous=np.array([True, True, False]))\n",
      " |      0   2018-10-28 01:20:00+02:00\n",
      " |      1   2018-10-28 02:36:00+02:00\n",
      " |      2   2018-10-28 03:46:00+01:00\n",
      " |      dtype: datetime64[ns, CET]\n",
      " |      \n",
      " |      If the DST transition causes nonexistent times, you can shift these\n",
      " |      dates forward or backwards with a timedelta object or `'shift_forward'`\n",
      " |      or `'shift_backwards'`.\n",
      " |      \n",
      " |      >>> s = pd.to_datetime(pd.Series(['2015-03-29 02:30:00',\n",
      " |      ...                               '2015-03-29 03:30:00']))\n",
      " |      >>> s.dt.tz_localize('Europe/Warsaw', nonexistent='shift_forward')\n",
      " |      0   2015-03-29 03:00:00+02:00\n",
      " |      1   2015-03-29 03:30:00+02:00\n",
      " |      dtype: datetime64[ns, Europe/Warsaw]\n",
      " |      \n",
      " |      >>> s.dt.tz_localize('Europe/Warsaw', nonexistent='shift_backward')\n",
      " |      0   2015-03-29 01:59:59.999999999+01:00\n",
      " |      1   2015-03-29 03:30:00+02:00\n",
      " |      dtype: datetime64[ns, Europe/Warsaw]\n",
      " |      \n",
      " |      >>> s.dt.tz_localize('Europe/Warsaw', nonexistent=pd.Timedelta('1H'))\n",
      " |      0   2015-03-29 03:30:00+02:00\n",
      " |      1   2015-03-29 03:30:00+02:00\n",
      " |      dtype: datetime64[ns, Europe/Warsaw]\n",
      " |  \n",
      " |  ----------------------------------------------------------------------\n",
      " |  Readonly properties defined here:\n",
      " |  \n",
      " |  freq\n",
      " |  \n",
      " |  week\n",
      " |      The week ordinal of the year.\n",
      " |      \n",
      " |      .. deprecated:: 1.1.0\n",
      " |      \n",
      " |      Series.dt.weekofyear and Series.dt.week have been deprecated.\n",
      " |      Please use Series.dt.isocalendar().week instead.\n",
      " |  \n",
      " |  weekofyear\n",
      " |      The week ordinal of the year.\n",
      " |      \n",
      " |      .. deprecated:: 1.1.0\n",
      " |      \n",
      " |      Series.dt.weekofyear and Series.dt.week have been deprecated.\n",
      " |      Please use Series.dt.isocalendar().week instead.\n",
      " |  \n",
      " |  ----------------------------------------------------------------------\n",
      " |  Data descriptors defined here:\n",
      " |  \n",
      " |  date\n",
      " |      Returns numpy array of python datetime.date objects (namely, the date\n",
      " |      part of Timestamps without timezone information).\n",
      " |  \n",
      " |  day\n",
      " |      The day of the datetime.\n",
      " |      \n",
      " |      Examples\n",
      " |      --------\n",
      " |      >>> datetime_series = pd.Series(\n",
      " |      ...     pd.date_range(\"2000-01-01\", periods=3, freq=\"D\")\n",
      " |      ... )\n",
      " |      >>> datetime_series\n",
      " |      0   2000-01-01\n",
      " |      1   2000-01-02\n",
      " |      2   2000-01-03\n",
      " |      dtype: datetime64[ns]\n",
      " |      >>> datetime_series.dt.day\n",
      " |      0    1\n",
      " |      1    2\n",
      " |      2    3\n",
      " |      dtype: int64\n",
      " |  \n",
      " |  day_of_week\n",
      " |      The day of the week with Monday=0, Sunday=6.\n",
      " |      \n",
      " |      Return the day of the week. It is assumed the week starts on\n",
      " |      Monday, which is denoted by 0 and ends on Sunday which is denoted\n",
      " |      by 6. This method is available on both Series with datetime\n",
      " |      values (using the `dt` accessor) or DatetimeIndex.\n",
      " |      \n",
      " |      Returns\n",
      " |      -------\n",
      " |      Series or Index\n",
      " |          Containing integers indicating the day number.\n",
      " |      \n",
      " |      See Also\n",
      " |      --------\n",
      " |      Series.dt.dayofweek : Alias.\n",
      " |      Series.dt.weekday : Alias.\n",
      " |      Series.dt.day_name : Returns the name of the day of the week.\n",
      " |      \n",
      " |      Examples\n",
      " |      --------\n",
      " |      >>> s = pd.date_range('2016-12-31', '2017-01-08', freq='D').to_series()\n",
      " |      >>> s.dt.dayofweek\n",
      " |      2016-12-31    5\n",
      " |      2017-01-01    6\n",
      " |      2017-01-02    0\n",
      " |      2017-01-03    1\n",
      " |      2017-01-04    2\n",
      " |      2017-01-05    3\n",
      " |      2017-01-06    4\n",
      " |      2017-01-07    5\n",
      " |      2017-01-08    6\n",
      " |      Freq: D, dtype: int64\n",
      " |  \n",
      " |  day_of_year\n",
      " |      The ordinal day of the year.\n",
      " |  \n",
      " |  dayofweek\n",
      " |      The day of the week with Monday=0, Sunday=6.\n",
      " |      \n",
      " |      Return the day of the week. It is assumed the week starts on\n",
      " |      Monday, which is denoted by 0 and ends on Sunday which is denoted\n",
      " |      by 6. This method is available on both Series with datetime\n",
      " |      values (using the `dt` accessor) or DatetimeIndex.\n",
      " |      \n",
      " |      Returns\n",
      " |      -------\n",
      " |      Series or Index\n",
      " |          Containing integers indicating the day number.\n",
      " |      \n",
      " |      See Also\n",
      " |      --------\n",
      " |      Series.dt.dayofweek : Alias.\n",
      " |      Series.dt.weekday : Alias.\n",
      " |      Series.dt.day_name : Returns the name of the day of the week.\n",
      " |      \n",
      " |      Examples\n",
      " |      --------\n",
      " |      >>> s = pd.date_range('2016-12-31', '2017-01-08', freq='D').to_series()\n",
      " |      >>> s.dt.dayofweek\n",
      " |      2016-12-31    5\n",
      " |      2017-01-01    6\n",
      " |      2017-01-02    0\n",
      " |      2017-01-03    1\n",
      " |      2017-01-04    2\n",
      " |      2017-01-05    3\n",
      " |      2017-01-06    4\n",
      " |      2017-01-07    5\n",
      " |      2017-01-08    6\n",
      " |      Freq: D, dtype: int64\n",
      " |  \n",
      " |  dayofyear\n",
      " |      The ordinal day of the year.\n",
      " |  \n",
      " |  days_in_month\n",
      " |      The number of days in the month.\n",
      " |  \n",
      " |  daysinmonth\n",
      " |      The number of days in the month.\n",
      " |  \n",
      " |  hour\n",
      " |      The hours of the datetime.\n",
      " |      \n",
      " |      Examples\n",
      " |      --------\n",
      " |      >>> datetime_series = pd.Series(\n",
      " |      ...     pd.date_range(\"2000-01-01\", periods=3, freq=\"h\")\n",
      " |      ... )\n",
      " |      >>> datetime_series\n",
      " |      0   2000-01-01 00:00:00\n",
      " |      1   2000-01-01 01:00:00\n",
      " |      2   2000-01-01 02:00:00\n",
      " |      dtype: datetime64[ns]\n",
      " |      >>> datetime_series.dt.hour\n",
      " |      0    0\n",
      " |      1    1\n",
      " |      2    2\n",
      " |      dtype: int64\n",
      " |  \n",
      " |  is_leap_year\n",
      " |      Boolean indicator if the date belongs to a leap year.\n",
      " |      \n",
      " |      A leap year is a year, which has 366 days (instead of 365) including\n",
      " |      29th of February as an intercalary day.\n",
      " |      Leap years are years which are multiples of four with the exception\n",
      " |      of years divisible by 100 but not by 400.\n",
      " |      \n",
      " |      Returns\n",
      " |      -------\n",
      " |      Series or ndarray\n",
      " |           Booleans indicating if dates belong to a leap year.\n",
      " |      \n",
      " |      Examples\n",
      " |      --------\n",
      " |      This method is available on Series with datetime values under\n",
      " |      the ``.dt`` accessor, and directly on DatetimeIndex.\n",
      " |      \n",
      " |      >>> idx = pd.date_range(\"2012-01-01\", \"2015-01-01\", freq=\"Y\")\n",
      " |      >>> idx\n",
      " |      DatetimeIndex(['2012-12-31', '2013-12-31', '2014-12-31'],\n",
      " |                    dtype='datetime64[ns]', freq='A-DEC')\n",
      " |      >>> idx.is_leap_year\n",
      " |      array([ True, False, False])\n",
      " |      \n",
      " |      >>> dates_series = pd.Series(idx)\n",
      " |      >>> dates_series\n",
      " |      0   2012-12-31\n",
      " |      1   2013-12-31\n",
      " |      2   2014-12-31\n",
      " |      dtype: datetime64[ns]\n",
      " |      >>> dates_series.dt.is_leap_year\n",
      " |      0     True\n",
      " |      1    False\n",
      " |      2    False\n",
      " |      dtype: bool\n",
      " |  \n",
      " |  is_month_end\n",
      " |      Indicates whether the date is the last day of the month.\n",
      " |      \n",
      " |      Returns\n",
      " |      -------\n",
      " |      Series or array\n",
      " |          For Series, returns a Series with boolean values.\n",
      " |          For DatetimeIndex, returns a boolean array.\n",
      " |      \n",
      " |      See Also\n",
      " |      --------\n",
      " |      is_month_start : Return a boolean indicating whether the date\n",
      " |          is the first day of the month.\n",
      " |      is_month_end : Return a boolean indicating whether the date\n",
      " |          is the last day of the month.\n",
      " |      \n",
      " |      Examples\n",
      " |      --------\n",
      " |      This method is available on Series with datetime values under\n",
      " |      the ``.dt`` accessor, and directly on DatetimeIndex.\n",
      " |      \n",
      " |      >>> s = pd.Series(pd.date_range(\"2018-02-27\", periods=3))\n",
      " |      >>> s\n",
      " |      0   2018-02-27\n",
      " |      1   2018-02-28\n",
      " |      2   2018-03-01\n",
      " |      dtype: datetime64[ns]\n",
      " |      >>> s.dt.is_month_start\n",
      " |      0    False\n",
      " |      1    False\n",
      " |      2    True\n",
      " |      dtype: bool\n",
      " |      >>> s.dt.is_month_end\n",
      " |      0    False\n",
      " |      1    True\n",
      " |      2    False\n",
      " |      dtype: bool\n",
      " |      \n",
      " |      >>> idx = pd.date_range(\"2018-02-27\", periods=3)\n",
      " |      >>> idx.is_month_start\n",
      " |      array([False, False, True])\n",
      " |      >>> idx.is_month_end\n",
      " |      array([False, True, False])\n",
      " |  \n",
      " |  is_month_start\n",
      " |      Indicates whether the date is the first day of the month.\n",
      " |      \n",
      " |      Returns\n",
      " |      -------\n",
      " |      Series or array\n",
      " |          For Series, returns a Series with boolean values.\n",
      " |          For DatetimeIndex, returns a boolean array.\n",
      " |      \n",
      " |      See Also\n",
      " |      --------\n",
      " |      is_month_start : Return a boolean indicating whether the date\n",
      " |          is the first day of the month.\n",
      " |      is_month_end : Return a boolean indicating whether the date\n",
      " |          is the last day of the month.\n",
      " |      \n",
      " |      Examples\n",
      " |      --------\n",
      " |      This method is available on Series with datetime values under\n",
      " |      the ``.dt`` accessor, and directly on DatetimeIndex.\n",
      " |      \n",
      " |      >>> s = pd.Series(pd.date_range(\"2018-02-27\", periods=3))\n",
      " |      >>> s\n",
      " |      0   2018-02-27\n",
      " |      1   2018-02-28\n",
      " |      2   2018-03-01\n",
      " |      dtype: datetime64[ns]\n",
      " |      >>> s.dt.is_month_start\n",
      " |      0    False\n",
      " |      1    False\n",
      " |      2    True\n",
      " |      dtype: bool\n",
      " |      >>> s.dt.is_month_end\n",
      " |      0    False\n",
      " |      1    True\n",
      " |      2    False\n",
      " |      dtype: bool\n",
      " |      \n",
      " |      >>> idx = pd.date_range(\"2018-02-27\", periods=3)\n",
      " |      >>> idx.is_month_start\n",
      " |      array([False, False, True])\n",
      " |      >>> idx.is_month_end\n",
      " |      array([False, True, False])\n",
      " |  \n",
      " |  is_quarter_end\n",
      " |      Indicator for whether the date is the last day of a quarter.\n",
      " |      \n",
      " |      Returns\n",
      " |      -------\n",
      " |      is_quarter_end : Series or DatetimeIndex\n",
      " |          The same type as the original data with boolean values. Series will\n",
      " |          have the same name and index. DatetimeIndex will have the same\n",
      " |          name.\n",
      " |      \n",
      " |      See Also\n",
      " |      --------\n",
      " |      quarter : Return the quarter of the date.\n",
      " |      is_quarter_start : Similar property indicating the quarter start.\n",
      " |      \n",
      " |      Examples\n",
      " |      --------\n",
      " |      This method is available on Series with datetime values under\n",
      " |      the ``.dt`` accessor, and directly on DatetimeIndex.\n",
      " |      \n",
      " |      >>> df = pd.DataFrame({'dates': pd.date_range(\"2017-03-30\",\n",
      " |      ...                    periods=4)})\n",
      " |      >>> df.assign(quarter=df.dates.dt.quarter,\n",
      " |      ...           is_quarter_end=df.dates.dt.is_quarter_end)\n",
      " |             dates  quarter    is_quarter_end\n",
      " |      0 2017-03-30        1             False\n",
      " |      1 2017-03-31        1              True\n",
      " |      2 2017-04-01        2             False\n",
      " |      3 2017-04-02        2             False\n",
      " |      \n",
      " |      >>> idx = pd.date_range('2017-03-30', periods=4)\n",
      " |      >>> idx\n",
      " |      DatetimeIndex(['2017-03-30', '2017-03-31', '2017-04-01', '2017-04-02'],\n",
      " |                    dtype='datetime64[ns]', freq='D')\n",
      " |      \n",
      " |      >>> idx.is_quarter_end\n",
      " |      array([False,  True, False, False])\n",
      " |  \n",
      " |  is_quarter_start\n",
      " |      Indicator for whether the date is the first day of a quarter.\n",
      " |      \n",
      " |      Returns\n",
      " |      -------\n",
      " |      is_quarter_start : Series or DatetimeIndex\n",
      " |          The same type as the original data with boolean values. Series will\n",
      " |          have the same name and index. DatetimeIndex will have the same\n",
      " |          name.\n",
      " |      \n",
      " |      See Also\n",
      " |      --------\n",
      " |      quarter : Return the quarter of the date.\n",
      " |      is_quarter_end : Similar property for indicating the quarter start.\n",
      " |      \n",
      " |      Examples\n",
      " |      --------\n",
      " |      This method is available on Series with datetime values under\n",
      " |      the ``.dt`` accessor, and directly on DatetimeIndex.\n",
      " |      \n",
      " |      >>> df = pd.DataFrame({'dates': pd.date_range(\"2017-03-30\",\n",
      " |      ...                   periods=4)})\n",
      " |      >>> df.assign(quarter=df.dates.dt.quarter,\n",
      " |      ...           is_quarter_start=df.dates.dt.is_quarter_start)\n",
      " |             dates  quarter  is_quarter_start\n",
      " |      0 2017-03-30        1             False\n",
      " |      1 2017-03-31        1             False\n",
      " |      2 2017-04-01        2              True\n",
      " |      3 2017-04-02        2             False\n",
      " |      \n",
      " |      >>> idx = pd.date_range('2017-03-30', periods=4)\n",
      " |      >>> idx\n",
      " |      DatetimeIndex(['2017-03-30', '2017-03-31', '2017-04-01', '2017-04-02'],\n",
      " |                    dtype='datetime64[ns]', freq='D')\n",
      " |      \n",
      " |      >>> idx.is_quarter_start\n",
      " |      array([False, False,  True, False])\n",
      " |  \n",
      " |  is_year_end\n",
      " |      Indicate whether the date is the last day of the year.\n",
      " |      \n",
      " |      Returns\n",
      " |      -------\n",
      " |      Series or DatetimeIndex\n",
      " |          The same type as the original data with boolean values. Series will\n",
      " |          have the same name and index. DatetimeIndex will have the same\n",
      " |          name.\n",
      " |      \n",
      " |      See Also\n",
      " |      --------\n",
      " |      is_year_start : Similar property indicating the start of the year.\n",
      " |      \n",
      " |      Examples\n",
      " |      --------\n",
      " |      This method is available on Series with datetime values under\n",
      " |      the ``.dt`` accessor, and directly on DatetimeIndex.\n",
      " |      \n",
      " |      >>> dates = pd.Series(pd.date_range(\"2017-12-30\", periods=3))\n",
      " |      >>> dates\n",
      " |      0   2017-12-30\n",
      " |      1   2017-12-31\n",
      " |      2   2018-01-01\n",
      " |      dtype: datetime64[ns]\n",
      " |      \n",
      " |      >>> dates.dt.is_year_end\n",
      " |      0    False\n",
      " |      1     True\n",
      " |      2    False\n",
      " |      dtype: bool\n",
      " |      \n",
      " |      >>> idx = pd.date_range(\"2017-12-30\", periods=3)\n",
      " |      >>> idx\n",
      " |      DatetimeIndex(['2017-12-30', '2017-12-31', '2018-01-01'],\n",
      " |                    dtype='datetime64[ns]', freq='D')\n",
      " |      \n",
      " |      >>> idx.is_year_end\n",
      " |      array([False,  True, False])\n",
      " |  \n",
      " |  is_year_start\n",
      " |      Indicate whether the date is the first day of a year.\n",
      " |      \n",
      " |      Returns\n",
      " |      -------\n",
      " |      Series or DatetimeIndex\n",
      " |          The same type as the original data with boolean values. Series will\n",
      " |          have the same name and index. DatetimeIndex will have the same\n",
      " |          name.\n",
      " |      \n",
      " |      See Also\n",
      " |      --------\n",
      " |      is_year_end : Similar property indicating the last day of the year.\n",
      " |      \n",
      " |      Examples\n",
      " |      --------\n",
      " |      This method is available on Series with datetime values under\n",
      " |      the ``.dt`` accessor, and directly on DatetimeIndex.\n",
      " |      \n",
      " |      >>> dates = pd.Series(pd.date_range(\"2017-12-30\", periods=3))\n",
      " |      >>> dates\n",
      " |      0   2017-12-30\n",
      " |      1   2017-12-31\n",
      " |      2   2018-01-01\n",
      " |      dtype: datetime64[ns]\n",
      " |      \n",
      " |      >>> dates.dt.is_year_start\n",
      " |      0    False\n",
      " |      1    False\n",
      " |      2    True\n",
      " |      dtype: bool\n",
      " |      \n",
      " |      >>> idx = pd.date_range(\"2017-12-30\", periods=3)\n",
      " |      >>> idx\n",
      " |      DatetimeIndex(['2017-12-30', '2017-12-31', '2018-01-01'],\n",
      " |                    dtype='datetime64[ns]', freq='D')\n",
      " |      \n",
      " |      >>> idx.is_year_start\n",
      " |      array([False, False,  True])\n",
      " |  \n",
      " |  microsecond\n",
      " |      The microseconds of the datetime.\n",
      " |      \n",
      " |      Examples\n",
      " |      --------\n",
      " |      >>> datetime_series = pd.Series(\n",
      " |      ...     pd.date_range(\"2000-01-01\", periods=3, freq=\"us\")\n",
      " |      ... )\n",
      " |      >>> datetime_series\n",
      " |      0   2000-01-01 00:00:00.000000\n",
      " |      1   2000-01-01 00:00:00.000001\n",
      " |      2   2000-01-01 00:00:00.000002\n",
      " |      dtype: datetime64[ns]\n",
      " |      >>> datetime_series.dt.microsecond\n",
      " |      0       0\n",
      " |      1       1\n",
      " |      2       2\n",
      " |      dtype: int64\n",
      " |  \n",
      " |  minute\n",
      " |      The minutes of the datetime.\n",
      " |      \n",
      " |      Examples\n",
      " |      --------\n",
      " |      >>> datetime_series = pd.Series(\n",
      " |      ...     pd.date_range(\"2000-01-01\", periods=3, freq=\"T\")\n",
      " |      ... )\n",
      " |      >>> datetime_series\n",
      " |      0   2000-01-01 00:00:00\n",
      " |      1   2000-01-01 00:01:00\n",
      " |      2   2000-01-01 00:02:00\n",
      " |      dtype: datetime64[ns]\n",
      " |      >>> datetime_series.dt.minute\n",
      " |      0    0\n",
      " |      1    1\n",
      " |      2    2\n",
      " |      dtype: int64\n",
      " |  \n",
      " |  month\n",
      " |      The month as January=1, December=12.\n",
      " |      \n",
      " |      Examples\n",
      " |      --------\n",
      " |      >>> datetime_series = pd.Series(\n",
      " |      ...     pd.date_range(\"2000-01-01\", periods=3, freq=\"M\")\n",
      " |      ... )\n",
      " |      >>> datetime_series\n",
      " |      0   2000-01-31\n",
      " |      1   2000-02-29\n",
      " |      2   2000-03-31\n",
      " |      dtype: datetime64[ns]\n",
      " |      >>> datetime_series.dt.month\n",
      " |      0    1\n",
      " |      1    2\n",
      " |      2    3\n",
      " |      dtype: int64\n",
      " |  \n",
      " |  nanosecond\n",
      " |      The nanoseconds of the datetime.\n",
      " |      \n",
      " |      Examples\n",
      " |      --------\n",
      " |      >>> datetime_series = pd.Series(\n",
      " |      ...     pd.date_range(\"2000-01-01\", periods=3, freq=\"ns\")\n",
      " |      ... )\n",
      " |      >>> datetime_series\n",
      " |      0   2000-01-01 00:00:00.000000000\n",
      " |      1   2000-01-01 00:00:00.000000001\n",
      " |      2   2000-01-01 00:00:00.000000002\n",
      " |      dtype: datetime64[ns]\n",
      " |      >>> datetime_series.dt.nanosecond\n",
      " |      0       0\n",
      " |      1       1\n",
      " |      2       2\n",
      " |      dtype: int64\n",
      " |  \n",
      " |  quarter\n",
      " |      The quarter of the date.\n",
      " |  \n",
      " |  second\n",
      " |      The seconds of the datetime.\n",
      " |      \n",
      " |      Examples\n",
      " |      --------\n",
      " |      >>> datetime_series = pd.Series(\n",
      " |      ...     pd.date_range(\"2000-01-01\", periods=3, freq=\"s\")\n",
      " |      ... )\n",
      " |      >>> datetime_series\n",
      " |      0   2000-01-01 00:00:00\n",
      " |      1   2000-01-01 00:00:01\n",
      " |      2   2000-01-01 00:00:02\n",
      " |      dtype: datetime64[ns]\n",
      " |      >>> datetime_series.dt.second\n",
      " |      0    0\n",
      " |      1    1\n",
      " |      2    2\n",
      " |      dtype: int64\n",
      " |  \n",
      " |  time\n",
      " |      Returns numpy array of datetime.time. The time part of the Timestamps.\n",
      " |  \n",
      " |  timetz\n",
      " |      Returns numpy array of datetime.time also containing timezone\n",
      " |      information. The time part of the Timestamps.\n",
      " |  \n",
      " |  tz\n",
      " |      Return timezone, if any.\n",
      " |      \n",
      " |      Returns\n",
      " |      -------\n",
      " |      datetime.tzinfo, pytz.tzinfo.BaseTZInfo, dateutil.tz.tz.tzfile, or None\n",
      " |          Returns None when the array is tz-naive.\n",
      " |  \n",
      " |  weekday\n",
      " |      The day of the week with Monday=0, Sunday=6.\n",
      " |      \n",
      " |      Return the day of the week. It is assumed the week starts on\n",
      " |      Monday, which is denoted by 0 and ends on Sunday which is denoted\n",
      " |      by 6. This method is available on both Series with datetime\n",
      " |      values (using the `dt` accessor) or DatetimeIndex.\n",
      " |      \n",
      " |      Returns\n",
      " |      -------\n",
      " |      Series or Index\n",
      " |          Containing integers indicating the day number.\n",
      " |      \n",
      " |      See Also\n",
      " |      --------\n",
      " |      Series.dt.dayofweek : Alias.\n",
      " |      Series.dt.weekday : Alias.\n",
      " |      Series.dt.day_name : Returns the name of the day of the week.\n",
      " |      \n",
      " |      Examples\n",
      " |      --------\n",
      " |      >>> s = pd.date_range('2016-12-31', '2017-01-08', freq='D').to_series()\n",
      " |      >>> s.dt.dayofweek\n",
      " |      2016-12-31    5\n",
      " |      2017-01-01    6\n",
      " |      2017-01-02    0\n",
      " |      2017-01-03    1\n",
      " |      2017-01-04    2\n",
      " |      2017-01-05    3\n",
      " |      2017-01-06    4\n",
      " |      2017-01-07    5\n",
      " |      2017-01-08    6\n",
      " |      Freq: D, dtype: int64\n",
      " |  \n",
      " |  year\n",
      " |      The year of the datetime.\n",
      " |      \n",
      " |      Examples\n",
      " |      --------\n",
      " |      >>> datetime_series = pd.Series(\n",
      " |      ...     pd.date_range(\"2000-01-01\", periods=3, freq=\"Y\")\n",
      " |      ... )\n",
      " |      >>> datetime_series\n",
      " |      0   2000-12-31\n",
      " |      1   2001-12-31\n",
      " |      2   2002-12-31\n",
      " |      dtype: datetime64[ns]\n",
      " |      >>> datetime_series.dt.year\n",
      " |      0    2000\n",
      " |      1    2001\n",
      " |      2    2002\n",
      " |      dtype: int64\n",
      " |  \n",
      " |  ----------------------------------------------------------------------\n",
      " |  Methods inherited from Properties:\n",
      " |  \n",
      " |  __init__(self, data: 'Series', orig)\n",
      " |      Initialize self.  See help(type(self)) for accurate signature.\n",
      " |  \n",
      " |  ----------------------------------------------------------------------\n",
      " |  Data descriptors inherited from pandas.core.accessor.PandasDelegate:\n",
      " |  \n",
      " |  __dict__\n",
      " |      dictionary for instance variables (if defined)\n",
      " |  \n",
      " |  __weakref__\n",
      " |      list of weak references to the object (if defined)\n",
      " |  \n",
      " |  ----------------------------------------------------------------------\n",
      " |  Methods inherited from pandas.core.base.PandasObject:\n",
      " |  \n",
      " |  __repr__(self) -> str\n",
      " |      Return a string representation for a particular object.\n",
      " |  \n",
      " |  __sizeof__(self)\n",
      " |      Generates the total memory usage for an object that returns\n",
      " |      either a value or Series of values\n",
      " |  \n",
      " |  ----------------------------------------------------------------------\n",
      " |  Data and other attributes inherited from pandas.core.base.PandasObject:\n",
      " |  \n",
      " |  __annotations__ = {'_cache': typing.Dict[str, typing.Any]}\n",
      " |  \n",
      " |  ----------------------------------------------------------------------\n",
      " |  Methods inherited from pandas.core.accessor.DirNamesMixin:\n",
      " |  \n",
      " |  __dir__(self) -> List[str]\n",
      " |      Provide method name lookup and completion.\n",
      " |      \n",
      " |      Notes\n",
      " |      -----\n",
      " |      Only provide 'public' methods.\n",
      " |  \n",
      " |  ----------------------------------------------------------------------\n",
      " |  Methods inherited from pandas.core.base.NoNewAttributesMixin:\n",
      " |  \n",
      " |  __setattr__(self, key: str, value)\n",
      " |      Implement setattr(self, name, value).\n",
      "\n"
     ]
    }
   ],
   "source": [
    "help(df['pickuptime'].dt)"
   ]
  },
  {
   "cell_type": "markdown",
   "metadata": {
    "cell_id": "5aacb1bad0c044eeac14098e0ac56dd9",
    "deepnote_cell_type": "markdown"
   },
   "source": [
    "* Make a new column \"duration\" containing the amount of time the ride took.  (Now that pandas recognizes these as dates, you can just subtract.)"
   ]
  },
  {
   "cell_type": "markdown",
   "metadata": {
    "cell_id": "0e38929e9e67415fb2a67650101f2217",
    "deepnote_cell_type": "markdown"
   },
   "source": [
    "This sort of subtraction of times would never work if we hadn’t converted them to datetime types using `pd.to_datetime`.\n",
    "\n"
   ]
  },
  {
   "cell_type": "code",
   "execution_count": null,
   "metadata": {
    "cell_id": "b155fa8e27084c86a6d1e591b0c2651d",
    "deepnote_cell_type": "code",
    "deepnote_to_be_reexecuted": false,
    "execution_millis": 47,
    "execution_start": 1697233212131,
    "source_hash": null
   },
   "outputs": [
    {
     "data": {
      "text/plain": [
       "0      0 days 00:06:15\n",
       "1      0 days 00:07:05\n",
       "2      0 days 00:07:24\n",
       "3      0 days 00:25:52\n",
       "4      0 days 00:09:32\n",
       "             ...      \n",
       "6428   0 days 00:03:34\n",
       "6429   0 days 00:56:23\n",
       "6430   0 days 00:19:07\n",
       "6431   0 days 00:05:04\n",
       "6432   0 days 00:16:40\n",
       "Name: duration, Length: 6433, dtype: timedelta64[ns]"
      ]
     },
     "execution_count": 5,
     "metadata": {},
     "output_type": "execute_result"
    }
   ],
   "source": [
    "df[\"duration\"] = df[\"droptime\"] - df[\"pickuptime\"]\n",
    "df[\"duration\"]"
   ]
  },
  {
   "cell_type": "markdown",
   "metadata": {
    "cell_id": "15135156961448b5908cadb6dd091670",
    "deepnote_cell_type": "markdown"
   },
   "source": [
    "Check out the first three rows and first two columns. Does the top row look like a 6 minute taxi ride? Yes, because it went from 8:21pm to 8:27pm."
   ]
  },
  {
   "cell_type": "code",
   "execution_count": null,
   "metadata": {
    "cell_id": "f5b7151f710f4bd2850c3aa4726dd55e",
    "deepnote_cell_type": "code",
    "deepnote_to_be_reexecuted": false,
    "execution_millis": 692,
    "execution_start": 1697233215282,
    "source_hash": null
   },
   "outputs": [
    {
     "data": {
      "application/vnd.deepnote.dataframe.v3+json": {
       "column_count": 2,
       "columns": [
        {
         "dtype": "object",
         "name": "pickup",
         "stats": {
          "categories": [
           {
            "count": 1,
            "name": "2019-03-23 20:21:09"
           },
           {
            "count": 1,
            "name": "2019-03-04 16:11:55"
           },
           {
            "count": 1,
            "name": "2019-03-27 17:53:01"
           }
          ],
          "nan_count": 0,
          "unique_count": 3
         }
        },
        {
         "dtype": "object",
         "name": "dropoff",
         "stats": {
          "categories": [
           {
            "count": 1,
            "name": "2019-03-23 20:27:24"
           },
           {
            "count": 1,
            "name": "2019-03-04 16:19:00"
           },
           {
            "count": 1,
            "name": "2019-03-27 18:00:25"
           }
          ],
          "nan_count": 0,
          "unique_count": 3
         }
        },
        {
         "dtype": "int64",
         "name": "_deepnote_index_column"
        }
       ],
       "row_count": 3,
       "rows": [
        {
         "_deepnote_index_column": 0,
         "dropoff": "2019-03-23 20:27:24",
         "pickup": "2019-03-23 20:21:09"
        },
        {
         "_deepnote_index_column": 1,
         "dropoff": "2019-03-04 16:19:00",
         "pickup": "2019-03-04 16:11:55"
        },
        {
         "_deepnote_index_column": 2,
         "dropoff": "2019-03-27 18:00:25",
         "pickup": "2019-03-27 17:53:01"
        }
       ]
      },
      "text/html": [
       "<div>\n",
       "<style scoped>\n",
       "    .dataframe tbody tr th:only-of-type {\n",
       "        vertical-align: middle;\n",
       "    }\n",
       "\n",
       "    .dataframe tbody tr th {\n",
       "        vertical-align: top;\n",
       "    }\n",
       "\n",
       "    .dataframe thead th {\n",
       "        text-align: right;\n",
       "    }\n",
       "</style>\n",
       "<table border=\"1\" class=\"dataframe\">\n",
       "  <thead>\n",
       "    <tr style=\"text-align: right;\">\n",
       "      <th></th>\n",
       "      <th>pickup</th>\n",
       "      <th>dropoff</th>\n",
       "    </tr>\n",
       "  </thead>\n",
       "  <tbody>\n",
       "    <tr>\n",
       "      <th>0</th>\n",
       "      <td>2019-03-23 20:21:09</td>\n",
       "      <td>2019-03-23 20:27:24</td>\n",
       "    </tr>\n",
       "    <tr>\n",
       "      <th>1</th>\n",
       "      <td>2019-03-04 16:11:55</td>\n",
       "      <td>2019-03-04 16:19:00</td>\n",
       "    </tr>\n",
       "    <tr>\n",
       "      <th>2</th>\n",
       "      <td>2019-03-27 17:53:01</td>\n",
       "      <td>2019-03-27 18:00:25</td>\n",
       "    </tr>\n",
       "  </tbody>\n",
       "</table>\n",
       "</div>"
      ],
      "text/plain": [
       "                pickup              dropoff\n",
       "0  2019-03-23 20:21:09  2019-03-23 20:27:24\n",
       "1  2019-03-04 16:11:55  2019-03-04 16:19:00\n",
       "2  2019-03-27 17:53:01  2019-03-27 18:00:25"
      ]
     },
     "execution_count": 6,
     "metadata": {},
     "output_type": "execute_result"
    }
   ],
   "source": [
    "df.iloc[:3,:2] "
   ]
  },
  {
   "cell_type": "markdown",
   "metadata": {
    "cell_id": "fa820962588246578e067cf0de633df5",
    "deepnote_cell_type": "markdown"
   },
   "source": [
    "* What are the data types of these four columns we just made?"
   ]
  },
  {
   "cell_type": "markdown",
   "metadata": {
    "cell_id": "e6895caa5f924196a4bd2f72ff13c9e6",
    "deepnote_cell_type": "markdown"
   },
   "source": [
    "Notice how the first two we made are called `“datetime64[ns]”`, whereas the last one is called a `“timedelta64[ns]”`. When you see “delta”, you should usually think “difference”, and that’s exactly what this column represents. The middle column, “day”, is reported as object, because they are just strings like `\"Monday\"`."
   ]
  },
  {
   "cell_type": "code",
   "execution_count": null,
   "metadata": {
    "cell_id": "b40d2d230f3d4c4ca9d7b81869b5e47e",
    "deepnote_cell_type": "code",
    "deepnote_to_be_reexecuted": false,
    "execution_millis": 21,
    "execution_start": 1697233222727,
    "source_hash": null
   },
   "outputs": [
    {
     "data": {
      "text/plain": [
       "pickup                      object\n",
       "dropoff                     object\n",
       "passengers                   int64\n",
       "distance                   float64\n",
       "fare                       float64\n",
       "tip                        float64\n",
       "tolls                      float64\n",
       "total                      float64\n",
       "color                       object\n",
       "payment                     object\n",
       "pickup_zone                 object\n",
       "dropoff_zone                object\n",
       "pickup_borough              object\n",
       "dropoff_borough             object\n",
       "pickuptime          datetime64[ns]\n",
       "droptime            datetime64[ns]\n",
       "day                         object\n",
       "duration           timedelta64[ns]\n",
       "dtype: object"
      ]
     },
     "execution_count": 7,
     "metadata": {},
     "output_type": "execute_result"
    }
   ],
   "source": [
    "df.dtypes"
   ]
  },
  {
   "cell_type": "markdown",
   "metadata": {
    "cell_id": "c860070949134174ba14701c742f8af2",
    "deepnote_cell_type": "markdown"
   },
   "source": [
    "## Working with strings in pandas"
   ]
  },
  {
   "cell_type": "markdown",
   "metadata": {
    "cell_id": "d9bebc5a6f31412e9a88d894b6741a75",
    "deepnote_cell_type": "markdown"
   },
   "source": [
    "* How many rows in `df` have the word \"Airport\" in either the \"pickup_zone\" column or the \"dropoff_zone\" column?  Do any rows have the word \"Airport\" in both columns?\n",
    "\n",
    "Use the `str` accessor and the `contains` method."
   ]
  },
  {
   "cell_type": "code",
   "execution_count": null,
   "metadata": {
    "cell_id": "f23c25d17b154b2a903557fc1d8ed14b",
    "deepnote_cell_type": "code",
    "deepnote_to_be_reexecuted": false,
    "execution_millis": 123,
    "execution_start": 1697228156919,
    "source_hash": null
   },
   "outputs": [
    {
     "data": {
      "application/vnd.deepnote.dataframe.v3+json": {
       "column_count": 2,
       "columns": [
        {
         "dtype": "object",
         "name": "pickup_zone",
         "stats": {
          "categories": [
           {
            "count": 230,
            "name": "Midtown Center"
           },
           {
            "count": 6177,
            "name": "193 others"
           },
           {
            "count": 26,
            "name": "Missing"
           }
          ],
          "nan_count": 26,
          "unique_count": 194
         }
        },
        {
         "dtype": "object",
         "name": "dropoff_zone",
         "stats": {
          "categories": [
           {
            "count": 245,
            "name": "Upper East Side North"
           },
           {
            "count": 6143,
            "name": "202 others"
           },
           {
            "count": 45,
            "name": "Missing"
           }
          ],
          "nan_count": 45,
          "unique_count": 203
         }
        },
        {
         "dtype": "int64",
         "name": "_deepnote_index_column"
        }
       ],
       "row_count": 6433,
       "rows": [
        {
         "_deepnote_index_column": 0,
         "dropoff_zone": "UN/Turtle Bay South",
         "pickup_zone": "Lenox Hill West"
        },
        {
         "_deepnote_index_column": 1,
         "dropoff_zone": "Upper West Side South",
         "pickup_zone": "Upper West Side South"
        },
        {
         "_deepnote_index_column": 2,
         "dropoff_zone": "West Village",
         "pickup_zone": "Alphabet City"
        },
        {
         "_deepnote_index_column": 3,
         "dropoff_zone": "Yorkville West",
         "pickup_zone": "Hudson Sq"
        },
        {
         "_deepnote_index_column": 4,
         "dropoff_zone": "Yorkville West",
         "pickup_zone": "Midtown East"
        },
        {
         "_deepnote_index_column": 5,
         "dropoff_zone": "Midtown East",
         "pickup_zone": "Times Sq/Theatre District"
        },
        {
         "_deepnote_index_column": 6,
         "dropoff_zone": "Two Bridges/Seward Park",
         "pickup_zone": "Battery Park City"
        },
        {
         "_deepnote_index_column": 7,
         "dropoff_zone": "Flatiron",
         "pickup_zone": "Murray Hill"
        },
        {
         "_deepnote_index_column": 8,
         "dropoff_zone": "Midtown Center",
         "pickup_zone": "East Harlem South"
        },
        {
         "_deepnote_index_column": 9,
         "dropoff_zone": "Central Park",
         "pickup_zone": "Lincoln Square East"
        }
       ]
      },
      "text/html": [
       "<div>\n",
       "<style scoped>\n",
       "    .dataframe tbody tr th:only-of-type {\n",
       "        vertical-align: middle;\n",
       "    }\n",
       "\n",
       "    .dataframe tbody tr th {\n",
       "        vertical-align: top;\n",
       "    }\n",
       "\n",
       "    .dataframe thead th {\n",
       "        text-align: right;\n",
       "    }\n",
       "</style>\n",
       "<table border=\"1\" class=\"dataframe\">\n",
       "  <thead>\n",
       "    <tr style=\"text-align: right;\">\n",
       "      <th></th>\n",
       "      <th>pickup_zone</th>\n",
       "      <th>dropoff_zone</th>\n",
       "    </tr>\n",
       "  </thead>\n",
       "  <tbody>\n",
       "    <tr>\n",
       "      <th>0</th>\n",
       "      <td>Lenox Hill West</td>\n",
       "      <td>UN/Turtle Bay South</td>\n",
       "    </tr>\n",
       "    <tr>\n",
       "      <th>1</th>\n",
       "      <td>Upper West Side South</td>\n",
       "      <td>Upper West Side South</td>\n",
       "    </tr>\n",
       "    <tr>\n",
       "      <th>2</th>\n",
       "      <td>Alphabet City</td>\n",
       "      <td>West Village</td>\n",
       "    </tr>\n",
       "    <tr>\n",
       "      <th>3</th>\n",
       "      <td>Hudson Sq</td>\n",
       "      <td>Yorkville West</td>\n",
       "    </tr>\n",
       "    <tr>\n",
       "      <th>4</th>\n",
       "      <td>Midtown East</td>\n",
       "      <td>Yorkville West</td>\n",
       "    </tr>\n",
       "    <tr>\n",
       "      <th>...</th>\n",
       "      <td>...</td>\n",
       "      <td>...</td>\n",
       "    </tr>\n",
       "    <tr>\n",
       "      <th>6428</th>\n",
       "      <td>East Harlem North</td>\n",
       "      <td>Central Harlem North</td>\n",
       "    </tr>\n",
       "    <tr>\n",
       "      <th>6429</th>\n",
       "      <td>Jamaica</td>\n",
       "      <td>East Concourse/Concourse Village</td>\n",
       "    </tr>\n",
       "    <tr>\n",
       "      <th>6430</th>\n",
       "      <td>Crown Heights North</td>\n",
       "      <td>Bushwick North</td>\n",
       "    </tr>\n",
       "    <tr>\n",
       "      <th>6431</th>\n",
       "      <td>East New York</td>\n",
       "      <td>East Flatbush/Remsen Village</td>\n",
       "    </tr>\n",
       "    <tr>\n",
       "      <th>6432</th>\n",
       "      <td>Boerum Hill</td>\n",
       "      <td>Windsor Terrace</td>\n",
       "    </tr>\n",
       "  </tbody>\n",
       "</table>\n",
       "<p>6433 rows × 2 columns</p>\n",
       "</div>"
      ],
      "text/plain": [
       "                pickup_zone                      dropoff_zone\n",
       "0           Lenox Hill West               UN/Turtle Bay South\n",
       "1     Upper West Side South             Upper West Side South\n",
       "2             Alphabet City                      West Village\n",
       "3                 Hudson Sq                    Yorkville West\n",
       "4              Midtown East                    Yorkville West\n",
       "...                     ...                               ...\n",
       "6428      East Harlem North              Central Harlem North\n",
       "6429                Jamaica  East Concourse/Concourse Village\n",
       "6430    Crown Heights North                    Bushwick North\n",
       "6431          East New York      East Flatbush/Remsen Village\n",
       "6432            Boerum Hill                   Windsor Terrace\n",
       "\n",
       "[6433 rows x 2 columns]"
      ]
     },
     "execution_count": 14,
     "metadata": {},
     "output_type": "execute_result"
    }
   ],
   "source": [
    "df[[\"pickup_zone\",\"dropoff_zone\"]]"
   ]
  },
  {
   "cell_type": "code",
   "execution_count": null,
   "metadata": {
    "cell_id": "32e1bcbcadc9444c8016f029020ffd95",
    "deepnote_cell_type": "code",
    "deepnote_to_be_reexecuted": false,
    "execution_millis": 17,
    "execution_start": 1697233238184,
    "source_hash": null
   },
   "outputs": [
    {
     "data": {
      "text/plain": [
       "0          Lenox Hill West\n",
       "1    Upper West Side South\n",
       "2            Alphabet City\n",
       "Name: pickup_zone, dtype: object"
      ]
     },
     "execution_count": 8,
     "metadata": {},
     "output_type": "execute_result"
    }
   ],
   "source": [
    "df['pickup_zone'][:3] #check out the first three entries in the “pickup_zone” column"
   ]
  },
  {
   "cell_type": "markdown",
   "metadata": {
    "cell_id": "898dd3e7fdc34681aaf281d11dd20f50",
    "deepnote_cell_type": "markdown"
   },
   "source": [
    "An example of how `str.contains` works:"
   ]
  },
  {
   "cell_type": "code",
   "execution_count": null,
   "metadata": {
    "cell_id": "351e98fdf9944af9a1b03e5c30b07480",
    "deepnote_cell_type": "code",
    "deepnote_to_be_reexecuted": false,
    "execution_millis": 23,
    "execution_start": 1697228302599,
    "source_hash": null
   },
   "outputs": [
    {
     "data": {
      "text/plain": [
       "0    False\n",
       "1    False\n",
       "2     True\n",
       "Name: pickup_zone, dtype: bool"
      ]
     },
     "execution_count": 16,
     "metadata": {},
     "output_type": "execute_result"
    }
   ],
   "source": [
    "df['pickup_zone'][:3].str.contains('City')"
   ]
  },
  {
   "cell_type": "markdown",
   "metadata": {
    "cell_id": "d05ef15b87fc48f0b41bb90d48151695",
    "deepnote_cell_type": "markdown"
   },
   "source": [
    "Here we use Boolean indexing to find all the rows where either the “pickup_zone” or the “dropoff_zone” column contains the substring “Airport”. Notice how the logical or is made using a vertical bar. ( Spelled out or is used in some contexts in Python, but not with NumPy Boolean arrays `or` pandas Boolean Series.)"
   ]
  },
  {
   "cell_type": "code",
   "execution_count": null,
   "metadata": {
    "cell_id": "9c5b58ad404d4921af333604acc1aa8a",
    "deepnote_cell_type": "code",
    "deepnote_to_be_reexecuted": false,
    "editable": true,
    "execution_millis": 370,
    "execution_start": 1697228561751,
    "scrolled": true,
    "slideshow": {
     "slide_type": ""
    },
    "source_hash": null,
    "tags": []
   },
   "outputs": [
    {
     "data": {
      "application/vnd.deepnote.dataframe.v3+json": {
       "column_count": 18,
       "columns": [
        {
         "dtype": "object",
         "name": "pickup",
         "stats": {
          "categories": [
           {
            "count": 1,
            "name": "2019-03-16 10:02:25"
           },
           {
            "count": 1,
            "name": "2019-03-28 17:20:54"
           },
           {
            "count": 405,
            "name": "405 others"
           }
          ],
          "nan_count": 0,
          "unique_count": 407
         }
        },
        {
         "dtype": "object",
         "name": "dropoff",
         "stats": {
          "categories": [
           {
            "count": 1,
            "name": "2019-03-16 10:22:29"
           },
           {
            "count": 1,
            "name": "2019-03-28 17:55:57"
           },
           {
            "count": 405,
            "name": "405 others"
           }
          ],
          "nan_count": 0,
          "unique_count": 407
         }
        },
        {
         "dtype": "int64",
         "name": "passengers",
         "stats": {
          "histogram": [
           {
            "bin_end": 0.6,
            "bin_start": 0,
            "count": 9
           },
           {
            "bin_end": 1.2,
            "bin_start": 0.6,
            "count": 281
           },
           {
            "bin_end": 1.7999999999999998,
            "bin_start": 1.2,
            "count": 0
           },
           {
            "bin_end": 2.4,
            "bin_start": 1.7999999999999998,
            "count": 59
           },
           {
            "bin_end": 3,
            "bin_start": 2.4,
            "count": 0
           },
           {
            "bin_end": 3.5999999999999996,
            "bin_start": 3,
            "count": 17
           },
           {
            "bin_end": 4.2,
            "bin_start": 3.5999999999999996,
            "count": 8
           },
           {
            "bin_end": 4.8,
            "bin_start": 4.2,
            "count": 0
           },
           {
            "bin_end": 5.3999999999999995,
            "bin_start": 4.8,
            "count": 20
           },
           {
            "bin_end": 6,
            "bin_start": 5.3999999999999995,
            "count": 13
           }
          ],
          "max": "6",
          "min": "0",
          "nan_count": 0,
          "unique_count": 7
         }
        },
        {
         "dtype": "float64",
         "name": "distance",
         "stats": {
          "histogram": [
           {
            "bin_end": 3.6700000000000004,
            "bin_start": 0,
            "count": 22
           },
           {
            "bin_end": 7.340000000000001,
            "bin_start": 3.6700000000000004,
            "count": 43
           },
           {
            "bin_end": 11.010000000000002,
            "bin_start": 7.340000000000001,
            "count": 147
           },
           {
            "bin_end": 14.680000000000001,
            "bin_start": 11.010000000000002,
            "count": 53
           },
           {
            "bin_end": 18.35,
            "bin_start": 14.680000000000001,
            "count": 77
           },
           {
            "bin_end": 22.020000000000003,
            "bin_start": 18.35,
            "count": 50
           },
           {
            "bin_end": 25.69,
            "bin_start": 22.020000000000003,
            "count": 8
           },
           {
            "bin_end": 29.360000000000003,
            "bin_start": 25.69,
            "count": 3
           },
           {
            "bin_end": 33.03,
            "bin_start": 29.360000000000003,
            "count": 1
           },
           {
            "bin_end": 36.7,
            "bin_start": 33.03,
            "count": 3
           }
          ],
          "max": "36.7",
          "min": "0.0",
          "nan_count": 0,
          "unique_count": 320
         }
        },
        {
         "dtype": "float64",
         "name": "fare",
         "stats": {
          "histogram": [
           {
            "bin_end": 17.25,
            "bin_start": 2.5,
            "count": 36
           },
           {
            "bin_end": 32,
            "bin_start": 17.25,
            "count": 124
           },
           {
            "bin_end": 46.75,
            "bin_start": 32,
            "count": 109
           },
           {
            "bin_end": 61.5,
            "bin_start": 46.75,
            "count": 126
           },
           {
            "bin_end": 76.25,
            "bin_start": 61.5,
            "count": 5
           },
           {
            "bin_end": 91,
            "bin_start": 76.25,
            "count": 4
           },
           {
            "bin_end": 105.75,
            "bin_start": 91,
            "count": 1
           },
           {
            "bin_end": 120.5,
            "bin_start": 105.75,
            "count": 0
           },
           {
            "bin_end": 135.25,
            "bin_start": 120.5,
            "count": 0
           },
           {
            "bin_end": 150,
            "bin_start": 135.25,
            "count": 2
           }
          ],
          "max": "150.0",
          "min": "2.5",
          "nan_count": 0,
          "unique_count": 90
         }
        },
        {
         "dtype": "float64",
         "name": "tip",
         "stats": {
          "histogram": [
           {
            "bin_end": 2.319,
            "bin_start": 0,
            "count": 126
           },
           {
            "bin_end": 4.638,
            "bin_start": 2.319,
            "count": 25
           },
           {
            "bin_end": 6.957,
            "bin_start": 4.638,
            "count": 52
           },
           {
            "bin_end": 9.276,
            "bin_start": 6.957,
            "count": 81
           },
           {
            "bin_end": 11.594999999999999,
            "bin_start": 9.276,
            "count": 61
           },
           {
            "bin_end": 13.914,
            "bin_start": 11.594999999999999,
            "count": 47
           },
           {
            "bin_end": 16.233,
            "bin_start": 13.914,
            "count": 10
           },
           {
            "bin_end": 18.552,
            "bin_start": 16.233,
            "count": 3
           },
           {
            "bin_end": 20.871,
            "bin_start": 18.552,
            "count": 1
           },
           {
            "bin_end": 23.19,
            "bin_start": 20.871,
            "count": 1
           }
          ],
          "max": "23.19",
          "min": "0.0",
          "nan_count": 0,
          "unique_count": 150
         }
        },
        {
         "dtype": "float64",
         "name": "tolls",
         "stats": {
          "histogram": [
           {
            "bin_end": 2.402,
            "bin_start": 0,
            "count": 164
           },
           {
            "bin_end": 4.804,
            "bin_start": 2.402,
            "count": 0
           },
           {
            "bin_end": 7.206,
            "bin_start": 4.804,
            "count": 239
           },
           {
            "bin_end": 9.608,
            "bin_start": 7.206,
            "count": 2
           },
           {
            "bin_end": 12.010000000000002,
            "bin_start": 9.608,
            "count": 0
           },
           {
            "bin_end": 14.412,
            "bin_start": 12.010000000000002,
            "count": 1
           },
           {
            "bin_end": 16.814,
            "bin_start": 14.412,
            "count": 0
           },
           {
            "bin_end": 19.216,
            "bin_start": 16.814,
            "count": 0
           },
           {
            "bin_end": 21.618000000000002,
            "bin_start": 19.216,
            "count": 0
           },
           {
            "bin_end": 24.02,
            "bin_start": 21.618000000000002,
            "count": 1
           }
          ],
          "max": "24.02",
          "min": "0.0",
          "nan_count": 0,
          "unique_count": 9
         }
        },
        {
         "dtype": "float64",
         "name": "total",
         "stats": {
          "histogram": [
           {
            "bin_end": 20.451999999999998,
            "bin_start": 3.3,
            "count": 39
           },
           {
            "bin_end": 37.60399999999999,
            "bin_start": 20.451999999999998,
            "count": 61
           },
           {
            "bin_end": 54.755999999999986,
            "bin_start": 37.60399999999999,
            "count": 139
           },
           {
            "bin_end": 71.90799999999999,
            "bin_start": 54.755999999999986,
            "count": 108
           },
           {
            "bin_end": 89.05999999999999,
            "bin_start": 71.90799999999999,
            "count": 54
           },
           {
            "bin_end": 106.21199999999997,
            "bin_start": 89.05999999999999,
            "count": 2
           },
           {
            "bin_end": 123.36399999999998,
            "bin_start": 106.21199999999997,
            "count": 2
           },
           {
            "bin_end": 140.516,
            "bin_start": 123.36399999999998,
            "count": 0
           },
           {
            "bin_end": 157.66799999999998,
            "bin_start": 140.516,
            "count": 1
           },
           {
            "bin_end": 174.82,
            "bin_start": 157.66799999999998,
            "count": 1
           }
          ],
          "max": "174.82",
          "min": "3.3",
          "nan_count": 0,
          "unique_count": 254
         }
        },
        {
         "dtype": "object",
         "name": "color",
         "stats": {
          "categories": [
           {
            "count": 389,
            "name": "yellow"
           },
           {
            "count": 18,
            "name": "green"
           }
          ],
          "nan_count": 0,
          "unique_count": 2
         }
        },
        {
         "dtype": "object",
         "name": "payment",
         "stats": {
          "categories": [
           {
            "count": 306,
            "name": "credit card"
           },
           {
            "count": 96,
            "name": "cash"
           },
           {
            "count": 5,
            "name": "Missing"
           }
          ],
          "nan_count": 5,
          "unique_count": 2
         }
        },
        {
         "dtype": "object",
         "name": "pickup_zone",
         "stats": {
          "categories": [
           {
            "count": 151,
            "name": "JFK Airport"
           },
           {
            "count": 146,
            "name": "LaGuardia Airport"
           },
           {
            "count": 110,
            "name": "49 others"
           }
          ],
          "nan_count": 0,
          "unique_count": 51
         }
        },
        {
         "dtype": "object",
         "name": "dropoff_zone",
         "stats": {
          "categories": [
           {
            "count": 65,
            "name": "LaGuardia Airport"
           },
           {
            "count": 335,
            "name": "107 others"
           },
           {
            "count": 7,
            "name": "Missing"
           }
          ],
          "nan_count": 7,
          "unique_count": 108
         }
        },
        {
         "dtype": "object",
         "name": "pickup_borough",
         "stats": {
          "categories": [
           {
            "count": 309,
            "name": "Queens"
           },
           {
            "count": 93,
            "name": "Manhattan"
           },
           {
            "count": 5,
            "name": "Brooklyn"
           }
          ],
          "nan_count": 0,
          "unique_count": 3
         }
        },
        {
         "dtype": "object",
         "name": "dropoff_borough",
         "stats": {
          "categories": [
           {
            "count": 173,
            "name": "Queens"
           },
           {
            "count": 227,
            "name": "3 others"
           },
           {
            "count": 7,
            "name": "Missing"
           }
          ],
          "nan_count": 7,
          "unique_count": 4
         }
        },
        {
         "dtype": "datetime64[ns]",
         "name": "pickuptime",
         "stats": {
          "histogram": [
           {
            "bin_end": 1551709965300000000,
            "bin_start": 1551447092000000000,
            "count": 31
           },
           {
            "bin_end": 1551972838600000000,
            "bin_start": 1551709965300000000,
            "count": 44
           },
           {
            "bin_end": 1552235711900000000,
            "bin_start": 1551972838600000000,
            "count": 38
           },
           {
            "bin_end": 1552498585200000000,
            "bin_start": 1552235711900000000,
            "count": 40
           },
           {
            "bin_end": 1552761458500000000,
            "bin_start": 1552498585200000000,
            "count": 53
           },
           {
            "bin_end": 1553024331800000000,
            "bin_start": 1552761458500000000,
            "count": 45
           },
           {
            "bin_end": 1553287205100000000,
            "bin_start": 1553024331800000000,
            "count": 53
           },
           {
            "bin_end": 1553550078400000000,
            "bin_start": 1553287205100000000,
            "count": 23
           },
           {
            "bin_end": 1553812951700000000,
            "bin_start": 1553550078400000000,
            "count": 50
           },
           {
            "bin_end": 1554075825000000000,
            "bin_start": 1553812951700000000,
            "count": 30
           }
          ],
          "max": "2019-03-31 23:43:45",
          "min": "2019-03-01 13:31:32",
          "nan_count": 0,
          "unique_count": 407
         }
        },
        {
         "dtype": "datetime64[ns]",
         "name": "droptime",
         "stats": {
          "histogram": [
           {
            "bin_end": 1551711361600000000,
            "bin_start": 1551448442000000000,
            "count": 31
           },
           {
            "bin_end": 1551974281200000000,
            "bin_start": 1551711361600000000,
            "count": 44
           },
           {
            "bin_end": 1552237200800000000,
            "bin_start": 1551974281200000000,
            "count": 38
           },
           {
            "bin_end": 1552500120400000000,
            "bin_start": 1552237200800000000,
            "count": 38
           },
           {
            "bin_end": 1552763040000000000,
            "bin_start": 1552500120400000000,
            "count": 54
           },
           {
            "bin_end": 1553025959600000000,
            "bin_start": 1552763040000000000,
            "count": 46
           },
           {
            "bin_end": 1553288879200000000,
            "bin_start": 1553025959600000000,
            "count": 53
           },
           {
            "bin_end": 1553551798800000000,
            "bin_start": 1553288879200000000,
            "count": 23
           },
           {
            "bin_end": 1553814718400000000,
            "bin_start": 1553551798800000000,
            "count": 50
           },
           {
            "bin_end": 1554077638000000000,
            "bin_start": 1553814718400000000,
            "count": 30
           }
          ],
          "max": "2019-04-01 00:13:58",
          "min": "2019-03-01 13:54:02",
          "nan_count": 0,
          "unique_count": 407
         }
        },
        {
         "dtype": "object",
         "name": "day",
         "stats": {
          "categories": [
           {
            "count": 73,
            "name": "Wednesday"
           },
           {
            "count": 63,
            "name": "Friday"
           },
           {
            "count": 271,
            "name": "5 others"
           }
          ],
          "nan_count": 0,
          "unique_count": 7
         }
        },
        {
         "dtype": "timedelta64[ns]",
         "name": "duration",
         "stats": {
          "histogram": [
           {
            "bin_end": 493700000000,
            "bin_start": 5000000000,
            "count": 10
           },
           {
            "bin_end": 982400000000,
            "bin_start": 493700000000,
            "count": 37
           },
           {
            "bin_end": 1471100000000,
            "bin_start": 982400000000,
            "count": 74
           },
           {
            "bin_end": 1959800000000,
            "bin_start": 1471100000000,
            "count": 95
           },
           {
            "bin_end": 2448500000000,
            "bin_start": 1959800000000,
            "count": 66
           },
           {
            "bin_end": 2937200000000,
            "bin_start": 2448500000000,
            "count": 59
           },
           {
            "bin_end": 3425900000000,
            "bin_start": 2937200000000,
            "count": 31
           },
           {
            "bin_end": 3914600000000,
            "bin_start": 3425900000000,
            "count": 18
           },
           {
            "bin_end": 4403300000000,
            "bin_start": 3914600000000,
            "count": 12
           },
           {
            "bin_end": 4892000000000,
            "bin_start": 4403300000000,
            "count": 5
           }
          ],
          "max": "0 days 01:21:32",
          "min": "0 days 00:00:05",
          "nan_count": 0,
          "unique_count": 377
         }
        },
        {
         "dtype": "int64",
         "name": "_deepnote_index_column"
        }
       ],
       "row_count": 407,
       "rows": [
        {
         "_deepnote_index_column": 10,
         "color": "yellow",
         "day": "Saturday",
         "distance": 3.9,
         "dropoff": "2019-03-16 10:22:29",
         "dropoff_borough": "Queens",
         "dropoff_zone": "Astoria",
         "droptime": "2019-03-16 10:22:29",
         "duration": "0 days 00:20:04",
         "fare": 17,
         "passengers": 1,
         "payment": "cash",
         "pickup": "2019-03-16 10:02:25",
         "pickup_borough": "Queens",
         "pickup_zone": "LaGuardia Airport",
         "pickuptime": "2019-03-16 10:02:25",
         "tip": 0,
         "tolls": 0,
         "total": 17.8
        },
        {
         "_deepnote_index_column": 22,
         "color": "yellow",
         "day": "Thursday",
         "distance": 9.82,
         "dropoff": "2019-03-28 17:55:57",
         "dropoff_borough": "Manhattan",
         "dropoff_zone": "Sutton Place/Turtle Bay North",
         "droptime": "2019-03-28 17:55:57",
         "duration": "0 days 00:35:03",
         "fare": 31.5,
         "passengers": 1,
         "payment": "credit card",
         "pickup": "2019-03-28 17:20:54",
         "pickup_borough": "Queens",
         "pickup_zone": "LaGuardia Airport",
         "pickuptime": "2019-03-28 17:20:54",
         "tip": 8.31,
         "tolls": 5.76,
         "total": 49.87
        },
        {
         "_deepnote_index_column": 43,
         "color": "yellow",
         "day": "Wednesday",
         "distance": 9.5,
         "dropoff": "2019-03-27 20:00:26",
         "dropoff_borough": "Manhattan",
         "dropoff_zone": "Washington Heights South",
         "droptime": "2019-03-27 20:00:26",
         "duration": "0 days 00:21:10",
         "fare": 28,
         "passengers": 1,
         "payment": "cash",
         "pickup": "2019-03-27 19:39:16",
         "pickup_borough": "Queens",
         "pickup_zone": "LaGuardia Airport",
         "pickuptime": "2019-03-27 19:39:16",
         "tip": 0,
         "tolls": 5.76,
         "total": 35.06
        },
        {
         "_deepnote_index_column": 53,
         "color": "yellow",
         "day": "Wednesday",
         "distance": 13.45,
         "dropoff": "2019-03-20 19:12:40",
         "dropoff_borough": "Queens",
         "dropoff_zone": "Sunnyside",
         "droptime": "2019-03-20 19:12:40",
         "duration": "0 days 00:23:16",
         "fare": 36,
         "passengers": 1,
         "payment": "cash",
         "pickup": "2019-03-20 18:49:24",
         "pickup_borough": "Queens",
         "pickup_zone": "JFK Airport",
         "pickuptime": "2019-03-20 18:49:24",
         "tip": 0,
         "tolls": 0,
         "total": 37.8
        },
        {
         "_deepnote_index_column": 56,
         "color": "yellow",
         "day": "Tuesday",
         "distance": 19.59,
         "dropoff": "2019-03-05 18:45:25",
         "dropoff_borough": "Manhattan",
         "dropoff_zone": "Upper East Side North",
         "droptime": "2019-03-05 18:45:25",
         "duration": "0 days 00:48:25",
         "fare": 52,
         "passengers": 2,
         "payment": "credit card",
         "pickup": "2019-03-05 17:57:00",
         "pickup_borough": "Queens",
         "pickup_zone": "JFK Airport",
         "pickuptime": "2019-03-05 17:57:00",
         "tip": 0,
         "tolls": 5.76,
         "total": 65.56
        },
        {
         "_deepnote_index_column": 111,
         "color": "yellow",
         "day": "Friday",
         "distance": 11.93,
         "dropoff": "2019-03-15 11:37:02",
         "dropoff_borough": "Queens",
         "dropoff_zone": "LaGuardia Airport",
         "droptime": "2019-03-15 11:37:02",
         "duration": "0 days 00:40:06",
         "fare": 39.5,
         "passengers": 1,
         "payment": "credit card",
         "pickup": "2019-03-15 10:56:56",
         "pickup_borough": "Manhattan",
         "pickup_zone": "Times Sq/Theatre District",
         "pickuptime": "2019-03-15 10:56:56",
         "tip": 9.71,
         "tolls": 5.76,
         "total": 58.27
        },
        {
         "_deepnote_index_column": 120,
         "color": "yellow",
         "day": "Thursday",
         "distance": 0,
         "dropoff": "2019-03-21 17:21:49",
         "dropoff_borough": "Queens",
         "dropoff_zone": "JFK Airport",
         "droptime": "2019-03-21 17:21:49",
         "duration": "0 days 00:00:05",
         "fare": 2.5,
         "passengers": 1,
         "payment": "cash",
         "pickup": "2019-03-21 17:21:44",
         "pickup_borough": "Queens",
         "pickup_zone": "JFK Airport",
         "pickuptime": "2019-03-21 17:21:44",
         "tip": 0,
         "tolls": 0,
         "total": 4.3
        },
        {
         "_deepnote_index_column": 128,
         "color": "yellow",
         "day": "Wednesday",
         "distance": 10.8,
         "dropoff": "2019-03-06 20:08:36",
         "dropoff_borough": "Manhattan",
         "dropoff_zone": "Clinton East",
         "droptime": "2019-03-06 20:08:36",
         "duration": "0 days 00:38:40",
         "fare": 36,
         "passengers": 1,
         "payment": "credit card",
         "pickup": "2019-03-06 19:29:56",
         "pickup_borough": "Queens",
         "pickup_zone": "LaGuardia Airport",
         "pickuptime": "2019-03-06 19:29:56",
         "tip": 11.5,
         "tolls": 5.76,
         "total": 57.56
        },
        {
         "_deepnote_index_column": 157,
         "color": "yellow",
         "day": "Saturday",
         "distance": 10.18,
         "dropoff": "2019-03-02 12:45:44",
         "dropoff_borough": "Manhattan",
         "dropoff_zone": "Midtown East",
         "droptime": "2019-03-02 12:45:44",
         "duration": "0 days 00:19:48",
         "fare": 29.5,
         "passengers": 5,
         "payment": "credit card",
         "pickup": "2019-03-02 12:25:56",
         "pickup_borough": "Queens",
         "pickup_zone": "LaGuardia Airport",
         "pickuptime": "2019-03-02 12:25:56",
         "tip": 0.06,
         "tolls": 5.76,
         "total": 38.62
        },
        {
         "_deepnote_index_column": 162,
         "color": "yellow",
         "day": "Wednesday",
         "distance": 17.1,
         "dropoff": "2019-03-06 18:43:39",
         "dropoff_borough": "Queens",
         "dropoff_zone": "JFK Airport",
         "droptime": "2019-03-06 18:43:39",
         "duration": "0 days 01:06:51",
         "fare": 52,
         "passengers": 2,
         "payment": "credit card",
         "pickup": "2019-03-06 17:36:48",
         "pickup_borough": "Manhattan",
         "pickup_zone": "Midtown South",
         "pickuptime": "2019-03-06 17:36:48",
         "tip": 13.1,
         "tolls": 5.76,
         "total": 78.66
        }
       ]
      },
      "text/html": [
       "<div>\n",
       "<style scoped>\n",
       "    .dataframe tbody tr th:only-of-type {\n",
       "        vertical-align: middle;\n",
       "    }\n",
       "\n",
       "    .dataframe tbody tr th {\n",
       "        vertical-align: top;\n",
       "    }\n",
       "\n",
       "    .dataframe thead th {\n",
       "        text-align: right;\n",
       "    }\n",
       "</style>\n",
       "<table border=\"1\" class=\"dataframe\">\n",
       "  <thead>\n",
       "    <tr style=\"text-align: right;\">\n",
       "      <th></th>\n",
       "      <th>pickup</th>\n",
       "      <th>dropoff</th>\n",
       "      <th>passengers</th>\n",
       "      <th>distance</th>\n",
       "      <th>fare</th>\n",
       "      <th>tip</th>\n",
       "      <th>tolls</th>\n",
       "      <th>total</th>\n",
       "      <th>color</th>\n",
       "      <th>payment</th>\n",
       "      <th>pickup_zone</th>\n",
       "      <th>dropoff_zone</th>\n",
       "      <th>pickup_borough</th>\n",
       "      <th>dropoff_borough</th>\n",
       "      <th>pickuptime</th>\n",
       "      <th>droptime</th>\n",
       "      <th>day</th>\n",
       "      <th>duration</th>\n",
       "    </tr>\n",
       "  </thead>\n",
       "  <tbody>\n",
       "    <tr>\n",
       "      <th>10</th>\n",
       "      <td>2019-03-16 10:02:25</td>\n",
       "      <td>2019-03-16 10:22:29</td>\n",
       "      <td>1</td>\n",
       "      <td>3.90</td>\n",
       "      <td>17.00</td>\n",
       "      <td>0.00</td>\n",
       "      <td>0.00</td>\n",
       "      <td>17.80</td>\n",
       "      <td>yellow</td>\n",
       "      <td>cash</td>\n",
       "      <td>LaGuardia Airport</td>\n",
       "      <td>Astoria</td>\n",
       "      <td>Queens</td>\n",
       "      <td>Queens</td>\n",
       "      <td>2019-03-16 10:02:25</td>\n",
       "      <td>2019-03-16 10:22:29</td>\n",
       "      <td>Saturday</td>\n",
       "      <td>0 days 00:20:04</td>\n",
       "    </tr>\n",
       "    <tr>\n",
       "      <th>22</th>\n",
       "      <td>2019-03-28 17:20:54</td>\n",
       "      <td>2019-03-28 17:55:57</td>\n",
       "      <td>1</td>\n",
       "      <td>9.82</td>\n",
       "      <td>31.50</td>\n",
       "      <td>8.31</td>\n",
       "      <td>5.76</td>\n",
       "      <td>49.87</td>\n",
       "      <td>yellow</td>\n",
       "      <td>credit card</td>\n",
       "      <td>LaGuardia Airport</td>\n",
       "      <td>Sutton Place/Turtle Bay North</td>\n",
       "      <td>Queens</td>\n",
       "      <td>Manhattan</td>\n",
       "      <td>2019-03-28 17:20:54</td>\n",
       "      <td>2019-03-28 17:55:57</td>\n",
       "      <td>Thursday</td>\n",
       "      <td>0 days 00:35:03</td>\n",
       "    </tr>\n",
       "    <tr>\n",
       "      <th>43</th>\n",
       "      <td>2019-03-27 19:39:16</td>\n",
       "      <td>2019-03-27 20:00:26</td>\n",
       "      <td>1</td>\n",
       "      <td>9.50</td>\n",
       "      <td>28.00</td>\n",
       "      <td>0.00</td>\n",
       "      <td>5.76</td>\n",
       "      <td>35.06</td>\n",
       "      <td>yellow</td>\n",
       "      <td>cash</td>\n",
       "      <td>LaGuardia Airport</td>\n",
       "      <td>Washington Heights South</td>\n",
       "      <td>Queens</td>\n",
       "      <td>Manhattan</td>\n",
       "      <td>2019-03-27 19:39:16</td>\n",
       "      <td>2019-03-27 20:00:26</td>\n",
       "      <td>Wednesday</td>\n",
       "      <td>0 days 00:21:10</td>\n",
       "    </tr>\n",
       "    <tr>\n",
       "      <th>53</th>\n",
       "      <td>2019-03-20 18:49:24</td>\n",
       "      <td>2019-03-20 19:12:40</td>\n",
       "      <td>1</td>\n",
       "      <td>13.45</td>\n",
       "      <td>36.00</td>\n",
       "      <td>0.00</td>\n",
       "      <td>0.00</td>\n",
       "      <td>37.80</td>\n",
       "      <td>yellow</td>\n",
       "      <td>cash</td>\n",
       "      <td>JFK Airport</td>\n",
       "      <td>Sunnyside</td>\n",
       "      <td>Queens</td>\n",
       "      <td>Queens</td>\n",
       "      <td>2019-03-20 18:49:24</td>\n",
       "      <td>2019-03-20 19:12:40</td>\n",
       "      <td>Wednesday</td>\n",
       "      <td>0 days 00:23:16</td>\n",
       "    </tr>\n",
       "    <tr>\n",
       "      <th>56</th>\n",
       "      <td>2019-03-05 17:57:00</td>\n",
       "      <td>2019-03-05 18:45:25</td>\n",
       "      <td>2</td>\n",
       "      <td>19.59</td>\n",
       "      <td>52.00</td>\n",
       "      <td>0.00</td>\n",
       "      <td>5.76</td>\n",
       "      <td>65.56</td>\n",
       "      <td>yellow</td>\n",
       "      <td>credit card</td>\n",
       "      <td>JFK Airport</td>\n",
       "      <td>Upper East Side North</td>\n",
       "      <td>Queens</td>\n",
       "      <td>Manhattan</td>\n",
       "      <td>2019-03-05 17:57:00</td>\n",
       "      <td>2019-03-05 18:45:25</td>\n",
       "      <td>Tuesday</td>\n",
       "      <td>0 days 00:48:25</td>\n",
       "    </tr>\n",
       "    <tr>\n",
       "      <th>...</th>\n",
       "      <td>...</td>\n",
       "      <td>...</td>\n",
       "      <td>...</td>\n",
       "      <td>...</td>\n",
       "      <td>...</td>\n",
       "      <td>...</td>\n",
       "      <td>...</td>\n",
       "      <td>...</td>\n",
       "      <td>...</td>\n",
       "      <td>...</td>\n",
       "      <td>...</td>\n",
       "      <td>...</td>\n",
       "      <td>...</td>\n",
       "      <td>...</td>\n",
       "      <td>...</td>\n",
       "      <td>...</td>\n",
       "      <td>...</td>\n",
       "      <td>...</td>\n",
       "    </tr>\n",
       "    <tr>\n",
       "      <th>6243</th>\n",
       "      <td>2019-03-12 11:40:49</td>\n",
       "      <td>2019-03-12 11:49:23</td>\n",
       "      <td>1</td>\n",
       "      <td>3.50</td>\n",
       "      <td>12.00</td>\n",
       "      <td>0.00</td>\n",
       "      <td>0.00</td>\n",
       "      <td>12.80</td>\n",
       "      <td>green</td>\n",
       "      <td>cash</td>\n",
       "      <td>Steinway</td>\n",
       "      <td>LaGuardia Airport</td>\n",
       "      <td>Queens</td>\n",
       "      <td>Queens</td>\n",
       "      <td>2019-03-12 11:40:49</td>\n",
       "      <td>2019-03-12 11:49:23</td>\n",
       "      <td>Tuesday</td>\n",
       "      <td>0 days 00:08:34</td>\n",
       "    </tr>\n",
       "    <tr>\n",
       "      <th>6280</th>\n",
       "      <td>2019-03-27 12:25:04</td>\n",
       "      <td>2019-03-27 12:31:15</td>\n",
       "      <td>1</td>\n",
       "      <td>2.74</td>\n",
       "      <td>10.00</td>\n",
       "      <td>0.00</td>\n",
       "      <td>0.00</td>\n",
       "      <td>10.80</td>\n",
       "      <td>green</td>\n",
       "      <td>credit card</td>\n",
       "      <td>Steinway</td>\n",
       "      <td>LaGuardia Airport</td>\n",
       "      <td>Queens</td>\n",
       "      <td>Queens</td>\n",
       "      <td>2019-03-27 12:25:04</td>\n",
       "      <td>2019-03-27 12:31:15</td>\n",
       "      <td>Wednesday</td>\n",
       "      <td>0 days 00:06:11</td>\n",
       "    </tr>\n",
       "    <tr>\n",
       "      <th>6322</th>\n",
       "      <td>2019-03-01 17:03:11</td>\n",
       "      <td>2019-03-01 17:17:11</td>\n",
       "      <td>1</td>\n",
       "      <td>5.39</td>\n",
       "      <td>17.00</td>\n",
       "      <td>3.76</td>\n",
       "      <td>0.00</td>\n",
       "      <td>22.56</td>\n",
       "      <td>green</td>\n",
       "      <td>credit card</td>\n",
       "      <td>Jamaica</td>\n",
       "      <td>JFK Airport</td>\n",
       "      <td>Queens</td>\n",
       "      <td>Queens</td>\n",
       "      <td>2019-03-01 17:03:11</td>\n",
       "      <td>2019-03-01 17:17:11</td>\n",
       "      <td>Friday</td>\n",
       "      <td>0 days 00:14:00</td>\n",
       "    </tr>\n",
       "    <tr>\n",
       "      <th>6396</th>\n",
       "      <td>2019-03-15 17:44:09</td>\n",
       "      <td>2019-03-15 18:20:25</td>\n",
       "      <td>1</td>\n",
       "      <td>11.44</td>\n",
       "      <td>41.63</td>\n",
       "      <td>0.00</td>\n",
       "      <td>0.00</td>\n",
       "      <td>42.13</td>\n",
       "      <td>green</td>\n",
       "      <td>credit card</td>\n",
       "      <td>Bushwick South</td>\n",
       "      <td>LaGuardia Airport</td>\n",
       "      <td>Brooklyn</td>\n",
       "      <td>Queens</td>\n",
       "      <td>2019-03-15 17:44:09</td>\n",
       "      <td>2019-03-15 18:20:25</td>\n",
       "      <td>Friday</td>\n",
       "      <td>0 days 00:36:16</td>\n",
       "    </tr>\n",
       "    <tr>\n",
       "      <th>6398</th>\n",
       "      <td>2019-03-17 13:07:29</td>\n",
       "      <td>2019-03-17 13:51:56</td>\n",
       "      <td>1</td>\n",
       "      <td>18.39</td>\n",
       "      <td>50.50</td>\n",
       "      <td>7.70</td>\n",
       "      <td>0.00</td>\n",
       "      <td>59.00</td>\n",
       "      <td>green</td>\n",
       "      <td>credit card</td>\n",
       "      <td>DUMBO/Vinegar Hill</td>\n",
       "      <td>JFK Airport</td>\n",
       "      <td>Brooklyn</td>\n",
       "      <td>Queens</td>\n",
       "      <td>2019-03-17 13:07:29</td>\n",
       "      <td>2019-03-17 13:51:56</td>\n",
       "      <td>Sunday</td>\n",
       "      <td>0 days 00:44:27</td>\n",
       "    </tr>\n",
       "  </tbody>\n",
       "</table>\n",
       "<p>407 rows × 18 columns</p>\n",
       "</div>"
      ],
      "text/plain": [
       "                   pickup              dropoff  passengers  distance   fare  \\\n",
       "10    2019-03-16 10:02:25  2019-03-16 10:22:29           1      3.90  17.00   \n",
       "22    2019-03-28 17:20:54  2019-03-28 17:55:57           1      9.82  31.50   \n",
       "43    2019-03-27 19:39:16  2019-03-27 20:00:26           1      9.50  28.00   \n",
       "53    2019-03-20 18:49:24  2019-03-20 19:12:40           1     13.45  36.00   \n",
       "56    2019-03-05 17:57:00  2019-03-05 18:45:25           2     19.59  52.00   \n",
       "...                   ...                  ...         ...       ...    ...   \n",
       "6243  2019-03-12 11:40:49  2019-03-12 11:49:23           1      3.50  12.00   \n",
       "6280  2019-03-27 12:25:04  2019-03-27 12:31:15           1      2.74  10.00   \n",
       "6322  2019-03-01 17:03:11  2019-03-01 17:17:11           1      5.39  17.00   \n",
       "6396  2019-03-15 17:44:09  2019-03-15 18:20:25           1     11.44  41.63   \n",
       "6398  2019-03-17 13:07:29  2019-03-17 13:51:56           1     18.39  50.50   \n",
       "\n",
       "       tip  tolls  total   color      payment         pickup_zone  \\\n",
       "10    0.00   0.00  17.80  yellow         cash   LaGuardia Airport   \n",
       "22    8.31   5.76  49.87  yellow  credit card   LaGuardia Airport   \n",
       "43    0.00   5.76  35.06  yellow         cash   LaGuardia Airport   \n",
       "53    0.00   0.00  37.80  yellow         cash         JFK Airport   \n",
       "56    0.00   5.76  65.56  yellow  credit card         JFK Airport   \n",
       "...    ...    ...    ...     ...          ...                 ...   \n",
       "6243  0.00   0.00  12.80   green         cash            Steinway   \n",
       "6280  0.00   0.00  10.80   green  credit card            Steinway   \n",
       "6322  3.76   0.00  22.56   green  credit card             Jamaica   \n",
       "6396  0.00   0.00  42.13   green  credit card      Bushwick South   \n",
       "6398  7.70   0.00  59.00   green  credit card  DUMBO/Vinegar Hill   \n",
       "\n",
       "                       dropoff_zone pickup_borough dropoff_borough  \\\n",
       "10                          Astoria         Queens          Queens   \n",
       "22    Sutton Place/Turtle Bay North         Queens       Manhattan   \n",
       "43         Washington Heights South         Queens       Manhattan   \n",
       "53                        Sunnyside         Queens          Queens   \n",
       "56            Upper East Side North         Queens       Manhattan   \n",
       "...                             ...            ...             ...   \n",
       "6243              LaGuardia Airport         Queens          Queens   \n",
       "6280              LaGuardia Airport         Queens          Queens   \n",
       "6322                    JFK Airport         Queens          Queens   \n",
       "6396              LaGuardia Airport       Brooklyn          Queens   \n",
       "6398                    JFK Airport       Brooklyn          Queens   \n",
       "\n",
       "              pickuptime            droptime        day        duration  \n",
       "10   2019-03-16 10:02:25 2019-03-16 10:22:29   Saturday 0 days 00:20:04  \n",
       "22   2019-03-28 17:20:54 2019-03-28 17:55:57   Thursday 0 days 00:35:03  \n",
       "43   2019-03-27 19:39:16 2019-03-27 20:00:26  Wednesday 0 days 00:21:10  \n",
       "53   2019-03-20 18:49:24 2019-03-20 19:12:40  Wednesday 0 days 00:23:16  \n",
       "56   2019-03-05 17:57:00 2019-03-05 18:45:25    Tuesday 0 days 00:48:25  \n",
       "...                  ...                 ...        ...             ...  \n",
       "6243 2019-03-12 11:40:49 2019-03-12 11:49:23    Tuesday 0 days 00:08:34  \n",
       "6280 2019-03-27 12:25:04 2019-03-27 12:31:15  Wednesday 0 days 00:06:11  \n",
       "6322 2019-03-01 17:03:11 2019-03-01 17:17:11     Friday 0 days 00:14:00  \n",
       "6396 2019-03-15 17:44:09 2019-03-15 18:20:25     Friday 0 days 00:36:16  \n",
       "6398 2019-03-17 13:07:29 2019-03-17 13:51:56     Sunday 0 days 00:44:27  \n",
       "\n",
       "[407 rows x 18 columns]"
      ]
     },
     "execution_count": 18,
     "metadata": {},
     "output_type": "execute_result"
    }
   ],
   "source": [
    "ps = df['pickup_zone'].str.contains(\"Airport\")\n",
    "ds = df['dropoff_zone'].str.contains(\"Airport\")\n",
    "df[ps | ds] #or  #df[ps & ds] #and"
   ]
  },
  {
   "cell_type": "markdown",
   "metadata": {
    "cell_id": "5e0313275acf4181959c00d6b4961a06",
    "deepnote_cell_type": "markdown"
   },
   "source": [
    "## Missing values in pandas\n",
    "\n",
    "* Look at `df.info()` again.  Which columns have missing values?"
   ]
  },
  {
   "cell_type": "code",
   "execution_count": null,
   "metadata": {
    "cell_id": "f6488147d0704e439be39a17597a828e",
    "deepnote_cell_type": "code",
    "deepnote_to_be_reexecuted": false,
    "editable": true,
    "execution_millis": 110,
    "execution_start": 1697228661501,
    "scrolled": true,
    "slideshow": {
     "slide_type": ""
    },
    "source_hash": null,
    "tags": []
   },
   "outputs": [
    {
     "name": "stdout",
     "output_type": "stream",
     "text": [
      "<class 'pandas.core.frame.DataFrame'>\n",
      "RangeIndex: 6433 entries, 0 to 6432\n",
      "Data columns (total 18 columns):\n",
      " #   Column           Non-Null Count  Dtype          \n",
      "---  ------           --------------  -----          \n",
      " 0   pickup           6433 non-null   object         \n",
      " 1   dropoff          6433 non-null   object         \n",
      " 2   passengers       6433 non-null   int64          \n",
      " 3   distance         6433 non-null   float64        \n",
      " 4   fare             6433 non-null   float64        \n",
      " 5   tip              6433 non-null   float64        \n",
      " 6   tolls            6433 non-null   float64        \n",
      " 7   total            6433 non-null   float64        \n",
      " 8   color            6433 non-null   object         \n",
      " 9   payment          6389 non-null   object         \n",
      " 10  pickup_zone      6407 non-null   object         \n",
      " 11  dropoff_zone     6388 non-null   object         \n",
      " 12  pickup_borough   6407 non-null   object         \n",
      " 13  dropoff_borough  6388 non-null   object         \n",
      " 14  pickuptime       6433 non-null   datetime64[ns] \n",
      " 15  droptime         6433 non-null   datetime64[ns] \n",
      " 16  day              6433 non-null   object         \n",
      " 17  duration         6433 non-null   timedelta64[ns]\n",
      "dtypes: datetime64[ns](2), float64(5), int64(1), object(9), timedelta64[ns](1)\n",
      "memory usage: 904.8+ KB\n"
     ]
    }
   ],
   "source": [
    "df.info()"
   ]
  },
  {
   "cell_type": "markdown",
   "metadata": {
    "cell_id": "2af5821658d64c77b265fb23907b27cf",
    "deepnote_cell_type": "markdown"
   },
   "source": [
    "* Define `df_sub` to be the sub-DataFrame containing all the rows for which the \"pickup_zone\" entry is missing.  Use the `isna` method."
   ]
  },
  {
   "cell_type": "code",
   "execution_count": null,
   "metadata": {
    "cell_id": "c5a33a046277418d948a317477165e09",
    "deepnote_cell_type": "code",
    "deepnote_to_be_reexecuted": false,
    "editable": true,
    "execution_millis": 174,
    "execution_start": 1697228775699,
    "scrolled": true,
    "slideshow": {
     "slide_type": ""
    },
    "source_hash": null,
    "tags": []
   },
   "outputs": [
    {
     "data": {
      "application/vnd.deepnote.dataframe.v3+json": {
       "column_count": 18,
       "columns": [
        {
         "dtype": "object",
         "name": "pickup",
         "stats": {
          "categories": [
           {
            "count": 1,
            "name": "2019-03-30 23:59:14"
           },
           {
            "count": 1,
            "name": "2019-03-19 15:04:40"
           },
           {
            "count": 24,
            "name": "24 others"
           }
          ],
          "nan_count": 0,
          "unique_count": 26
         }
        },
        {
         "dtype": "object",
         "name": "dropoff",
         "stats": {
          "categories": [
           {
            "count": 1,
            "name": "2019-03-30 23:59:17"
           },
           {
            "count": 1,
            "name": "2019-03-19 15:06:15"
           },
           {
            "count": 24,
            "name": "24 others"
           }
          ],
          "nan_count": 0,
          "unique_count": 26
         }
        },
        {
         "dtype": "int64",
         "name": "passengers",
         "stats": {
          "histogram": [
           {
            "bin_end": 1.2,
            "bin_start": 1,
            "count": 22
           },
           {
            "bin_end": 1.4,
            "bin_start": 1.2,
            "count": 0
           },
           {
            "bin_end": 1.6,
            "bin_start": 1.4,
            "count": 0
           },
           {
            "bin_end": 1.8,
            "bin_start": 1.6,
            "count": 0
           },
           {
            "bin_end": 2,
            "bin_start": 1.8,
            "count": 0
           },
           {
            "bin_end": 2.2,
            "bin_start": 2,
            "count": 3
           },
           {
            "bin_end": 2.4000000000000004,
            "bin_start": 2.2,
            "count": 0
           },
           {
            "bin_end": 2.6,
            "bin_start": 2.4000000000000004,
            "count": 0
           },
           {
            "bin_end": 2.8,
            "bin_start": 2.6,
            "count": 0
           },
           {
            "bin_end": 3,
            "bin_start": 2.8,
            "count": 1
           }
          ],
          "max": "3",
          "min": "1",
          "nan_count": 0,
          "unique_count": 3
         }
        },
        {
         "dtype": "float64",
         "name": "distance",
         "stats": {
          "histogram": [
           {
            "bin_end": 1.782,
            "bin_start": 0,
            "count": 20
           },
           {
            "bin_end": 3.564,
            "bin_start": 1.782,
            "count": 2
           },
           {
            "bin_end": 5.346,
            "bin_start": 3.564,
            "count": 2
           },
           {
            "bin_end": 7.128,
            "bin_start": 5.346,
            "count": 0
           },
           {
            "bin_end": 8.91,
            "bin_start": 7.128,
            "count": 0
           },
           {
            "bin_end": 10.692,
            "bin_start": 8.91,
            "count": 0
           },
           {
            "bin_end": 12.474,
            "bin_start": 10.692,
            "count": 0
           },
           {
            "bin_end": 14.256,
            "bin_start": 12.474,
            "count": 1
           },
           {
            "bin_end": 16.038,
            "bin_start": 14.256,
            "count": 0
           },
           {
            "bin_end": 17.82,
            "bin_start": 16.038,
            "count": 1
           }
          ],
          "max": "17.82",
          "min": "0.0",
          "nan_count": 0,
          "unique_count": 15
         }
        },
        {
         "dtype": "float64",
         "name": "fare",
         "stats": {
          "histogram": [
           {
            "bin_end": 14.25,
            "bin_start": 2.5,
            "count": 15
           },
           {
            "bin_end": 26,
            "bin_start": 14.25,
            "count": 4
           },
           {
            "bin_end": 37.75,
            "bin_start": 26,
            "count": 0
           },
           {
            "bin_end": 49.5,
            "bin_start": 37.75,
            "count": 1
           },
           {
            "bin_end": 61.25,
            "bin_start": 49.5,
            "count": 3
           },
           {
            "bin_end": 73,
            "bin_start": 61.25,
            "count": 0
           },
           {
            "bin_end": 84.75,
            "bin_start": 73,
            "count": 1
           },
           {
            "bin_end": 96.5,
            "bin_start": 84.75,
            "count": 0
           },
           {
            "bin_end": 108.25,
            "bin_start": 96.5,
            "count": 1
           },
           {
            "bin_end": 120,
            "bin_start": 108.25,
            "count": 1
           }
          ],
          "max": "120.0",
          "min": "2.5",
          "nan_count": 0,
          "unique_count": 18
         }
        },
        {
         "dtype": "float64",
         "name": "tip",
         "stats": {
          "histogram": [
           {
            "bin_end": 3.3200000000000003,
            "bin_start": 0,
            "count": 17
           },
           {
            "bin_end": 6.640000000000001,
            "bin_start": 3.3200000000000003,
            "count": 4
           },
           {
            "bin_end": 9.96,
            "bin_start": 6.640000000000001,
            "count": 0
           },
           {
            "bin_end": 13.280000000000001,
            "bin_start": 9.96,
            "count": 2
           },
           {
            "bin_end": 16.6,
            "bin_start": 13.280000000000001,
            "count": 0
           },
           {
            "bin_end": 19.92,
            "bin_start": 16.6,
            "count": 0
           },
           {
            "bin_end": 23.240000000000002,
            "bin_start": 19.92,
            "count": 2
           },
           {
            "bin_end": 26.560000000000002,
            "bin_start": 23.240000000000002,
            "count": 0
           },
           {
            "bin_end": 29.880000000000003,
            "bin_start": 26.560000000000002,
            "count": 0
           },
           {
            "bin_end": 33.2,
            "bin_start": 29.880000000000003,
            "count": 1
           }
          ],
          "max": "33.2",
          "min": "0.0",
          "nan_count": 0,
          "unique_count": 17
         }
        },
        {
         "dtype": "float64",
         "name": "tolls",
         "stats": {
          "histogram": [
           {
            "bin_end": 1.25,
            "bin_start": 0,
            "count": 22
           },
           {
            "bin_end": 2.5,
            "bin_start": 1.25,
            "count": 0
           },
           {
            "bin_end": 3.75,
            "bin_start": 2.5,
            "count": 0
           },
           {
            "bin_end": 5,
            "bin_start": 3.75,
            "count": 0
           },
           {
            "bin_end": 6.25,
            "bin_start": 5,
            "count": 3
           },
           {
            "bin_end": 7.5,
            "bin_start": 6.25,
            "count": 0
           },
           {
            "bin_end": 8.75,
            "bin_start": 7.5,
            "count": 0
           },
           {
            "bin_end": 10,
            "bin_start": 8.75,
            "count": 0
           },
           {
            "bin_end": 11.25,
            "bin_start": 10,
            "count": 0
           },
           {
            "bin_end": 12.5,
            "bin_start": 11.25,
            "count": 1
           }
          ],
          "max": "12.5",
          "min": "0.0",
          "nan_count": 0,
          "unique_count": 3
         }
        },
        {
         "dtype": "float64",
         "name": "total",
         "stats": {
          "histogram": [
           {
            "bin_end": 19.57,
            "bin_start": 3.3,
            "count": 16
           },
           {
            "bin_end": 35.839999999999996,
            "bin_start": 19.57,
            "count": 3
           },
           {
            "bin_end": 52.11,
            "bin_start": 35.839999999999996,
            "count": 1
           },
           {
            "bin_end": 68.38,
            "bin_start": 52.11,
            "count": 1
           },
           {
            "bin_end": 84.64999999999999,
            "bin_start": 68.38,
            "count": 2
           },
           {
            "bin_end": 100.92,
            "bin_start": 84.64999999999999,
            "count": 1
           },
           {
            "bin_end": 117.19,
            "bin_start": 100.92,
            "count": 0
           },
           {
            "bin_end": 133.46,
            "bin_start": 117.19,
            "count": 1
           },
           {
            "bin_end": 149.73000000000002,
            "bin_start": 133.46,
            "count": 0
           },
           {
            "bin_end": 166,
            "bin_start": 149.73000000000002,
            "count": 1
           }
          ],
          "max": "166.0",
          "min": "3.3",
          "nan_count": 0,
          "unique_count": 24
         }
        },
        {
         "dtype": "object",
         "name": "color",
         "stats": {
          "categories": [
           {
            "count": 22,
            "name": "yellow"
           },
           {
            "count": 4,
            "name": "green"
           }
          ],
          "nan_count": 0,
          "unique_count": 2
         }
        },
        {
         "dtype": "object",
         "name": "payment",
         "stats": {
          "categories": [
           {
            "count": 20,
            "name": "credit card"
           },
           {
            "count": 5,
            "name": "cash"
           },
           {
            "count": 1,
            "name": "Missing"
           }
          ],
          "nan_count": 1,
          "unique_count": 2
         }
        },
        {
         "dtype": "object",
         "name": "pickup_zone",
         "stats": {
          "categories": [
           {
            "count": 26,
            "name": "Missing"
           }
          ],
          "nan_count": 26,
          "unique_count": 0
         }
        },
        {
         "dtype": "object",
         "name": "dropoff_zone",
         "stats": {
          "categories": [
           {
            "count": 1,
            "name": "Upper East Side South"
           },
           {
            "count": 4,
            "name": "4 others"
           },
           {
            "count": 21,
            "name": "Missing"
           }
          ],
          "nan_count": 21,
          "unique_count": 5
         }
        },
        {
         "dtype": "object",
         "name": "pickup_borough",
         "stats": {
          "categories": [
           {
            "count": 26,
            "name": "Missing"
           }
          ],
          "nan_count": 26,
          "unique_count": 0
         }
        },
        {
         "dtype": "object",
         "name": "dropoff_borough",
         "stats": {
          "categories": [
           {
            "count": 5,
            "name": "Manhattan"
           },
           {
            "count": 21,
            "name": "Missing"
           }
          ],
          "nan_count": 21,
          "unique_count": 1
         }
        },
        {
         "dtype": "datetime64[ns]",
         "name": "pickuptime",
         "stats": {
          "histogram": [
           {
            "bin_end": 1551674786300000000,
            "bin_start": 1551417501000000000,
            "count": 3
           },
           {
            "bin_end": 1551932071600000000,
            "bin_start": 1551674786300000000,
            "count": 1
           },
           {
            "bin_end": 1552189356900000000,
            "bin_start": 1551932071600000000,
            "count": 3
           },
           {
            "bin_end": 1552446642200000000,
            "bin_start": 1552189356900000000,
            "count": 3
           },
           {
            "bin_end": 1552703927500000000,
            "bin_start": 1552446642200000000,
            "count": 2
           },
           {
            "bin_end": 1552961212800000000,
            "bin_start": 1552703927500000000,
            "count": 1
           },
           {
            "bin_end": 1553218498100000000,
            "bin_start": 1552961212800000000,
            "count": 5
           },
           {
            "bin_end": 1553475783400000000,
            "bin_start": 1553218498100000000,
            "count": 3
           },
           {
            "bin_end": 1553733068700000000,
            "bin_start": 1553475783400000000,
            "count": 0
           },
           {
            "bin_end": 1553990354000000000,
            "bin_start": 1553733068700000000,
            "count": 5
           }
          ],
          "max": "2019-03-30 23:59:14",
          "min": "2019-03-01 05:18:21",
          "nan_count": 0,
          "unique_count": 26
         }
        },
        {
         "dtype": "datetime64[ns]",
         "name": "droptime",
         "stats": {
          "histogram": [
           {
            "bin_end": 1551674794700000000,
            "bin_start": 1551417510000000000,
            "count": 3
           },
           {
            "bin_end": 1551932079400000000,
            "bin_start": 1551674794700000000,
            "count": 1
           },
           {
            "bin_end": 1552189364100000000,
            "bin_start": 1551932079400000000,
            "count": 3
           },
           {
            "bin_end": 1552446648800000000,
            "bin_start": 1552189364100000000,
            "count": 3
           },
           {
            "bin_end": 1552703933500000000,
            "bin_start": 1552446648800000000,
            "count": 2
           },
           {
            "bin_end": 1552961218200000000,
            "bin_start": 1552703933500000000,
            "count": 1
           },
           {
            "bin_end": 1553218502900000000,
            "bin_start": 1552961218200000000,
            "count": 5
           },
           {
            "bin_end": 1553475787600000000,
            "bin_start": 1553218502900000000,
            "count": 3
           },
           {
            "bin_end": 1553733072300000000,
            "bin_start": 1553475787600000000,
            "count": 0
           },
           {
            "bin_end": 1553990357000000000,
            "bin_start": 1553733072300000000,
            "count": 5
           }
          ],
          "max": "2019-03-30 23:59:17",
          "min": "2019-03-01 05:18:30",
          "nan_count": 0,
          "unique_count": 26
         }
        },
        {
         "dtype": "object",
         "name": "day",
         "stats": {
          "categories": [
           {
            "count": 6,
            "name": "Saturday"
           },
           {
            "count": 6,
            "name": "Friday"
           },
           {
            "count": 14,
            "name": "5 others"
           }
          ],
          "nan_count": 0,
          "unique_count": 7
         }
        },
        {
         "dtype": "timedelta64[ns]",
         "name": "duration",
         "stats": {
          "histogram": [
           {
            "bin_end": 320300000000,
            "bin_start": 0,
            "count": 18
           },
           {
            "bin_end": 640600000000,
            "bin_start": 320300000000,
            "count": 2
           },
           {
            "bin_end": 960900000000,
            "bin_start": 640600000000,
            "count": 0
           },
           {
            "bin_end": 1281200000000,
            "bin_start": 960900000000,
            "count": 4
           },
           {
            "bin_end": 1601500000000,
            "bin_start": 1281200000000,
            "count": 0
           },
           {
            "bin_end": 1921800000000,
            "bin_start": 1601500000000,
            "count": 1
           },
           {
            "bin_end": 2242100000000,
            "bin_start": 1921800000000,
            "count": 0
           },
           {
            "bin_end": 2562400000000,
            "bin_start": 2242100000000,
            "count": 0
           },
           {
            "bin_end": 2882700000000,
            "bin_start": 2562400000000,
            "count": 0
           },
           {
            "bin_end": 3203000000000,
            "bin_start": 2882700000000,
            "count": 1
           }
          ],
          "max": "0 days 00:53:23",
          "min": "0 days 00:00:00",
          "nan_count": 0,
          "unique_count": 20
         }
        },
        {
         "dtype": "int64",
         "name": "_deepnote_index_column"
        }
       ],
       "row_count": 26,
       "rows": [
        {
         "_deepnote_index_column": 42,
         "color": "yellow",
         "day": "Saturday",
         "distance": 0,
         "dropoff": "2019-03-30 23:59:17",
         "dropoff_borough": "nan",
         "dropoff_zone": "nan",
         "droptime": "2019-03-30 23:59:17",
         "duration": "0 days 00:00:03",
         "fare": 80,
         "passengers": 1,
         "payment": "credit card",
         "pickup": "2019-03-30 23:59:14",
         "pickup_borough": "nan",
         "pickup_zone": "nan",
         "pickuptime": "2019-03-30 23:59:14",
         "tip": 20.08,
         "tolls": 0,
         "total": 100.38
        },
        {
         "_deepnote_index_column": 606,
         "color": "yellow",
         "day": "Tuesday",
         "distance": 0.4,
         "dropoff": "2019-03-19 15:06:15",
         "dropoff_borough": "Manhattan",
         "dropoff_zone": "Upper East Side South",
         "droptime": "2019-03-19 15:06:15",
         "duration": "0 days 00:01:35",
         "fare": 3.5,
         "passengers": 1,
         "payment": "credit card",
         "pickup": "2019-03-19 15:04:40",
         "pickup_borough": "nan",
         "pickup_zone": "nan",
         "pickuptime": "2019-03-19 15:04:40",
         "tip": 1.35,
         "tolls": 0,
         "total": 8.15
        },
        {
         "_deepnote_index_column": 622,
         "color": "yellow",
         "day": "Tuesday",
         "distance": 0,
         "dropoff": "2019-03-12 19:52:55",
         "dropoff_borough": "nan",
         "dropoff_zone": "nan",
         "droptime": "2019-03-12 19:52:55",
         "duration": "0 days 00:00:19",
         "fare": 120,
         "passengers": 3,
         "payment": "credit card",
         "pickup": "2019-03-12 19:52:36",
         "pickup_borough": "nan",
         "pickup_zone": "nan",
         "pickuptime": "2019-03-12 19:52:36",
         "tip": 33.2,
         "tolls": 12.5,
         "total": 166
        },
        {
         "_deepnote_index_column": 671,
         "color": "yellow",
         "day": "Saturday",
         "distance": 0.4,
         "dropoff": "2019-03-09 22:46:50",
         "dropoff_borough": "Manhattan",
         "dropoff_zone": "Lincoln Square East",
         "droptime": "2019-03-09 22:46:50",
         "duration": "0 days 00:01:04",
         "fare": 3.5,
         "passengers": 1,
         "payment": "cash",
         "pickup": "2019-03-09 22:45:46",
         "pickup_borough": "nan",
         "pickup_zone": "nan",
         "pickuptime": "2019-03-09 22:45:46",
         "tip": 0,
         "tolls": 0,
         "total": 7.3
        },
        {
         "_deepnote_index_column": 712,
         "color": "yellow",
         "day": "Sunday",
         "distance": 0.8,
         "dropoff": "2019-03-03 01:29:32",
         "dropoff_borough": "Manhattan",
         "dropoff_zone": "West Chelsea/Hudson Yards",
         "droptime": "2019-03-03 01:29:32",
         "duration": "0 days 00:04:47",
         "fare": 5,
         "passengers": 1,
         "payment": "credit card",
         "pickup": "2019-03-03 01:24:45",
         "pickup_borough": "nan",
         "pickup_zone": "nan",
         "pickuptime": "2019-03-03 01:24:45",
         "tip": 1.75,
         "tolls": 0,
         "total": 10.55
        },
        {
         "_deepnote_index_column": 970,
         "color": "yellow",
         "day": "Friday",
         "distance": 0,
         "dropoff": "2019-03-29 00:02:05",
         "dropoff_borough": "nan",
         "dropoff_zone": "nan",
         "droptime": "2019-03-29 00:02:05",
         "duration": "0 days 00:00:05",
         "fare": 45,
         "passengers": 2,
         "payment": "credit card",
         "pickup": "2019-03-29 00:02:00",
         "pickup_borough": "nan",
         "pickup_zone": "nan",
         "pickuptime": "2019-03-29 00:02:00",
         "tip": 5,
         "tolls": 0,
         "total": 50.3
        },
        {
         "_deepnote_index_column": 1108,
         "color": "yellow",
         "day": "Sunday",
         "distance": 13.4,
         "dropoff": "2019-03-10 09:52:04",
         "dropoff_borough": "nan",
         "dropoff_zone": "nan",
         "droptime": "2019-03-10 09:52:04",
         "duration": "0 days 00:18:51",
         "fare": 52,
         "passengers": 1,
         "payment": "credit card",
         "pickup": "2019-03-10 09:33:13",
         "pickup_borough": "nan",
         "pickup_zone": "nan",
         "pickuptime": "2019-03-10 09:33:13",
         "tip": 11.7,
         "tolls": 5.76,
         "total": 70.26
        },
        {
         "_deepnote_index_column": 1961,
         "color": "yellow",
         "day": "Tuesday",
         "distance": 17.82,
         "dropoff": "2019-03-19 17:37:22",
         "dropoff_borough": "Manhattan",
         "dropoff_zone": "Garment District",
         "droptime": "2019-03-19 17:37:22",
         "duration": "0 days 00:53:23",
         "fare": 52,
         "passengers": 1,
         "payment": "credit card",
         "pickup": "2019-03-19 16:43:59",
         "pickup_borough": "nan",
         "pickup_zone": "nan",
         "pickuptime": "2019-03-19 16:43:59",
         "tip": 13.11,
         "tolls": 5.76,
         "total": 78.67
        },
        {
         "_deepnote_index_column": 2137,
         "color": "yellow",
         "day": "Friday",
         "distance": 1.4,
         "dropoff": "2019-03-08 13:46:23",
         "dropoff_borough": "nan",
         "dropoff_zone": "nan",
         "droptime": "2019-03-08 13:46:23",
         "duration": "0 days 00:18:51",
         "fare": 12,
         "passengers": 1,
         "payment": "credit card",
         "pickup": "2019-03-08 13:27:32",
         "pickup_borough": "nan",
         "pickup_zone": "nan",
         "pickuptime": "2019-03-08 13:27:32",
         "tip": 3.05,
         "tolls": 0,
         "total": 18.35
        },
        {
         "_deepnote_index_column": 2742,
         "color": "yellow",
         "day": "Saturday",
         "distance": 0,
         "dropoff": "2019-03-23 06:20:59",
         "dropoff_borough": "nan",
         "dropoff_zone": "nan",
         "droptime": "2019-03-23 06:20:59",
         "duration": "0 days 00:00:32",
         "fare": 55,
         "passengers": 1,
         "payment": "credit card",
         "pickup": "2019-03-23 06:20:27",
         "pickup_borough": "nan",
         "pickup_zone": "nan",
         "pickuptime": "2019-03-23 06:20:27",
         "tip": 0,
         "tolls": 0,
         "total": 55.8
        }
       ]
      },
      "text/html": [
       "<div>\n",
       "<style scoped>\n",
       "    .dataframe tbody tr th:only-of-type {\n",
       "        vertical-align: middle;\n",
       "    }\n",
       "\n",
       "    .dataframe tbody tr th {\n",
       "        vertical-align: top;\n",
       "    }\n",
       "\n",
       "    .dataframe thead th {\n",
       "        text-align: right;\n",
       "    }\n",
       "</style>\n",
       "<table border=\"1\" class=\"dataframe\">\n",
       "  <thead>\n",
       "    <tr style=\"text-align: right;\">\n",
       "      <th></th>\n",
       "      <th>pickup</th>\n",
       "      <th>dropoff</th>\n",
       "      <th>passengers</th>\n",
       "      <th>distance</th>\n",
       "      <th>fare</th>\n",
       "      <th>tip</th>\n",
       "      <th>tolls</th>\n",
       "      <th>total</th>\n",
       "      <th>color</th>\n",
       "      <th>payment</th>\n",
       "      <th>pickup_zone</th>\n",
       "      <th>dropoff_zone</th>\n",
       "      <th>pickup_borough</th>\n",
       "      <th>dropoff_borough</th>\n",
       "      <th>pickuptime</th>\n",
       "      <th>droptime</th>\n",
       "      <th>day</th>\n",
       "      <th>duration</th>\n",
       "    </tr>\n",
       "  </thead>\n",
       "  <tbody>\n",
       "    <tr>\n",
       "      <th>42</th>\n",
       "      <td>2019-03-30 23:59:14</td>\n",
       "      <td>2019-03-30 23:59:17</td>\n",
       "      <td>1</td>\n",
       "      <td>0.00</td>\n",
       "      <td>80.0</td>\n",
       "      <td>20.08</td>\n",
       "      <td>0.00</td>\n",
       "      <td>100.38</td>\n",
       "      <td>yellow</td>\n",
       "      <td>credit card</td>\n",
       "      <td>NaN</td>\n",
       "      <td>NaN</td>\n",
       "      <td>NaN</td>\n",
       "      <td>NaN</td>\n",
       "      <td>2019-03-30 23:59:14</td>\n",
       "      <td>2019-03-30 23:59:17</td>\n",
       "      <td>Saturday</td>\n",
       "      <td>0 days 00:00:03</td>\n",
       "    </tr>\n",
       "    <tr>\n",
       "      <th>606</th>\n",
       "      <td>2019-03-19 15:04:40</td>\n",
       "      <td>2019-03-19 15:06:15</td>\n",
       "      <td>1</td>\n",
       "      <td>0.40</td>\n",
       "      <td>3.5</td>\n",
       "      <td>1.35</td>\n",
       "      <td>0.00</td>\n",
       "      <td>8.15</td>\n",
       "      <td>yellow</td>\n",
       "      <td>credit card</td>\n",
       "      <td>NaN</td>\n",
       "      <td>Upper East Side South</td>\n",
       "      <td>NaN</td>\n",
       "      <td>Manhattan</td>\n",
       "      <td>2019-03-19 15:04:40</td>\n",
       "      <td>2019-03-19 15:06:15</td>\n",
       "      <td>Tuesday</td>\n",
       "      <td>0 days 00:01:35</td>\n",
       "    </tr>\n",
       "    <tr>\n",
       "      <th>622</th>\n",
       "      <td>2019-03-12 19:52:36</td>\n",
       "      <td>2019-03-12 19:52:55</td>\n",
       "      <td>3</td>\n",
       "      <td>0.00</td>\n",
       "      <td>120.0</td>\n",
       "      <td>33.20</td>\n",
       "      <td>12.50</td>\n",
       "      <td>166.00</td>\n",
       "      <td>yellow</td>\n",
       "      <td>credit card</td>\n",
       "      <td>NaN</td>\n",
       "      <td>NaN</td>\n",
       "      <td>NaN</td>\n",
       "      <td>NaN</td>\n",
       "      <td>2019-03-12 19:52:36</td>\n",
       "      <td>2019-03-12 19:52:55</td>\n",
       "      <td>Tuesday</td>\n",
       "      <td>0 days 00:00:19</td>\n",
       "    </tr>\n",
       "    <tr>\n",
       "      <th>671</th>\n",
       "      <td>2019-03-09 22:45:46</td>\n",
       "      <td>2019-03-09 22:46:50</td>\n",
       "      <td>1</td>\n",
       "      <td>0.40</td>\n",
       "      <td>3.5</td>\n",
       "      <td>0.00</td>\n",
       "      <td>0.00</td>\n",
       "      <td>7.30</td>\n",
       "      <td>yellow</td>\n",
       "      <td>cash</td>\n",
       "      <td>NaN</td>\n",
       "      <td>Lincoln Square East</td>\n",
       "      <td>NaN</td>\n",
       "      <td>Manhattan</td>\n",
       "      <td>2019-03-09 22:45:46</td>\n",
       "      <td>2019-03-09 22:46:50</td>\n",
       "      <td>Saturday</td>\n",
       "      <td>0 days 00:01:04</td>\n",
       "    </tr>\n",
       "    <tr>\n",
       "      <th>712</th>\n",
       "      <td>2019-03-03 01:24:45</td>\n",
       "      <td>2019-03-03 01:29:32</td>\n",
       "      <td>1</td>\n",
       "      <td>0.80</td>\n",
       "      <td>5.0</td>\n",
       "      <td>1.75</td>\n",
       "      <td>0.00</td>\n",
       "      <td>10.55</td>\n",
       "      <td>yellow</td>\n",
       "      <td>credit card</td>\n",
       "      <td>NaN</td>\n",
       "      <td>West Chelsea/Hudson Yards</td>\n",
       "      <td>NaN</td>\n",
       "      <td>Manhattan</td>\n",
       "      <td>2019-03-03 01:24:45</td>\n",
       "      <td>2019-03-03 01:29:32</td>\n",
       "      <td>Sunday</td>\n",
       "      <td>0 days 00:04:47</td>\n",
       "    </tr>\n",
       "    <tr>\n",
       "      <th>970</th>\n",
       "      <td>2019-03-29 00:02:00</td>\n",
       "      <td>2019-03-29 00:02:05</td>\n",
       "      <td>2</td>\n",
       "      <td>0.00</td>\n",
       "      <td>45.0</td>\n",
       "      <td>5.00</td>\n",
       "      <td>0.00</td>\n",
       "      <td>50.30</td>\n",
       "      <td>yellow</td>\n",
       "      <td>credit card</td>\n",
       "      <td>NaN</td>\n",
       "      <td>NaN</td>\n",
       "      <td>NaN</td>\n",
       "      <td>NaN</td>\n",
       "      <td>2019-03-29 00:02:00</td>\n",
       "      <td>2019-03-29 00:02:05</td>\n",
       "      <td>Friday</td>\n",
       "      <td>0 days 00:00:05</td>\n",
       "    </tr>\n",
       "    <tr>\n",
       "      <th>1108</th>\n",
       "      <td>2019-03-10 09:33:13</td>\n",
       "      <td>2019-03-10 09:52:04</td>\n",
       "      <td>1</td>\n",
       "      <td>13.40</td>\n",
       "      <td>52.0</td>\n",
       "      <td>11.70</td>\n",
       "      <td>5.76</td>\n",
       "      <td>70.26</td>\n",
       "      <td>yellow</td>\n",
       "      <td>credit card</td>\n",
       "      <td>NaN</td>\n",
       "      <td>NaN</td>\n",
       "      <td>NaN</td>\n",
       "      <td>NaN</td>\n",
       "      <td>2019-03-10 09:33:13</td>\n",
       "      <td>2019-03-10 09:52:04</td>\n",
       "      <td>Sunday</td>\n",
       "      <td>0 days 00:18:51</td>\n",
       "    </tr>\n",
       "    <tr>\n",
       "      <th>1961</th>\n",
       "      <td>2019-03-19 16:43:59</td>\n",
       "      <td>2019-03-19 17:37:22</td>\n",
       "      <td>1</td>\n",
       "      <td>17.82</td>\n",
       "      <td>52.0</td>\n",
       "      <td>13.11</td>\n",
       "      <td>5.76</td>\n",
       "      <td>78.67</td>\n",
       "      <td>yellow</td>\n",
       "      <td>credit card</td>\n",
       "      <td>NaN</td>\n",
       "      <td>Garment District</td>\n",
       "      <td>NaN</td>\n",
       "      <td>Manhattan</td>\n",
       "      <td>2019-03-19 16:43:59</td>\n",
       "      <td>2019-03-19 17:37:22</td>\n",
       "      <td>Tuesday</td>\n",
       "      <td>0 days 00:53:23</td>\n",
       "    </tr>\n",
       "    <tr>\n",
       "      <th>2137</th>\n",
       "      <td>2019-03-08 13:27:32</td>\n",
       "      <td>2019-03-08 13:46:23</td>\n",
       "      <td>1</td>\n",
       "      <td>1.40</td>\n",
       "      <td>12.0</td>\n",
       "      <td>3.05</td>\n",
       "      <td>0.00</td>\n",
       "      <td>18.35</td>\n",
       "      <td>yellow</td>\n",
       "      <td>credit card</td>\n",
       "      <td>NaN</td>\n",
       "      <td>NaN</td>\n",
       "      <td>NaN</td>\n",
       "      <td>NaN</td>\n",
       "      <td>2019-03-08 13:27:32</td>\n",
       "      <td>2019-03-08 13:46:23</td>\n",
       "      <td>Friday</td>\n",
       "      <td>0 days 00:18:51</td>\n",
       "    </tr>\n",
       "    <tr>\n",
       "      <th>2742</th>\n",
       "      <td>2019-03-23 06:20:27</td>\n",
       "      <td>2019-03-23 06:20:59</td>\n",
       "      <td>1</td>\n",
       "      <td>0.00</td>\n",
       "      <td>55.0</td>\n",
       "      <td>0.00</td>\n",
       "      <td>0.00</td>\n",
       "      <td>55.80</td>\n",
       "      <td>yellow</td>\n",
       "      <td>credit card</td>\n",
       "      <td>NaN</td>\n",
       "      <td>NaN</td>\n",
       "      <td>NaN</td>\n",
       "      <td>NaN</td>\n",
       "      <td>2019-03-23 06:20:27</td>\n",
       "      <td>2019-03-23 06:20:59</td>\n",
       "      <td>Saturday</td>\n",
       "      <td>0 days 00:00:32</td>\n",
       "    </tr>\n",
       "    <tr>\n",
       "      <th>3085</th>\n",
       "      <td>2019-03-24 15:43:02</td>\n",
       "      <td>2019-03-24 16:02:57</td>\n",
       "      <td>1</td>\n",
       "      <td>3.20</td>\n",
       "      <td>14.5</td>\n",
       "      <td>0.00</td>\n",
       "      <td>0.00</td>\n",
       "      <td>15.30</td>\n",
       "      <td>yellow</td>\n",
       "      <td>cash</td>\n",
       "      <td>NaN</td>\n",
       "      <td>NaN</td>\n",
       "      <td>NaN</td>\n",
       "      <td>NaN</td>\n",
       "      <td>2019-03-24 15:43:02</td>\n",
       "      <td>2019-03-24 16:02:57</td>\n",
       "      <td>Sunday</td>\n",
       "      <td>0 days 00:19:55</td>\n",
       "    </tr>\n",
       "    <tr>\n",
       "      <th>3259</th>\n",
       "      <td>2019-03-30 00:39:09</td>\n",
       "      <td>2019-03-30 00:43:34</td>\n",
       "      <td>1</td>\n",
       "      <td>0.84</td>\n",
       "      <td>5.0</td>\n",
       "      <td>1.70</td>\n",
       "      <td>0.00</td>\n",
       "      <td>10.50</td>\n",
       "      <td>yellow</td>\n",
       "      <td>credit card</td>\n",
       "      <td>NaN</td>\n",
       "      <td>NaN</td>\n",
       "      <td>NaN</td>\n",
       "      <td>NaN</td>\n",
       "      <td>2019-03-30 00:39:09</td>\n",
       "      <td>2019-03-30 00:43:34</td>\n",
       "      <td>Saturday</td>\n",
       "      <td>0 days 00:04:25</td>\n",
       "    </tr>\n",
       "    <tr>\n",
       "      <th>3644</th>\n",
       "      <td>2019-03-19 23:30:50</td>\n",
       "      <td>2019-03-19 23:32:33</td>\n",
       "      <td>2</td>\n",
       "      <td>0.00</td>\n",
       "      <td>103.0</td>\n",
       "      <td>20.65</td>\n",
       "      <td>0.00</td>\n",
       "      <td>123.95</td>\n",
       "      <td>yellow</td>\n",
       "      <td>credit card</td>\n",
       "      <td>NaN</td>\n",
       "      <td>NaN</td>\n",
       "      <td>NaN</td>\n",
       "      <td>NaN</td>\n",
       "      <td>2019-03-19 23:30:50</td>\n",
       "      <td>2019-03-19 23:32:33</td>\n",
       "      <td>Tuesday</td>\n",
       "      <td>0 days 00:01:43</td>\n",
       "    </tr>\n",
       "    <tr>\n",
       "      <th>3793</th>\n",
       "      <td>2019-03-24 06:07:30</td>\n",
       "      <td>2019-03-24 06:12:22</td>\n",
       "      <td>1</td>\n",
       "      <td>1.50</td>\n",
       "      <td>6.5</td>\n",
       "      <td>0.00</td>\n",
       "      <td>0.00</td>\n",
       "      <td>9.80</td>\n",
       "      <td>yellow</td>\n",
       "      <td>NaN</td>\n",
       "      <td>NaN</td>\n",
       "      <td>Midtown East</td>\n",
       "      <td>NaN</td>\n",
       "      <td>Manhattan</td>\n",
       "      <td>2019-03-24 06:07:30</td>\n",
       "      <td>2019-03-24 06:12:22</td>\n",
       "      <td>Sunday</td>\n",
       "      <td>0 days 00:04:52</td>\n",
       "    </tr>\n",
       "    <tr>\n",
       "      <th>3889</th>\n",
       "      <td>2019-03-30 06:42:55</td>\n",
       "      <td>2019-03-30 06:43:00</td>\n",
       "      <td>1</td>\n",
       "      <td>0.00</td>\n",
       "      <td>2.5</td>\n",
       "      <td>0.00</td>\n",
       "      <td>0.00</td>\n",
       "      <td>3.30</td>\n",
       "      <td>yellow</td>\n",
       "      <td>cash</td>\n",
       "      <td>NaN</td>\n",
       "      <td>NaN</td>\n",
       "      <td>NaN</td>\n",
       "      <td>NaN</td>\n",
       "      <td>2019-03-30 06:42:55</td>\n",
       "      <td>2019-03-30 06:43:00</td>\n",
       "      <td>Saturday</td>\n",
       "      <td>0 days 00:00:05</td>\n",
       "    </tr>\n",
       "    <tr>\n",
       "      <th>4118</th>\n",
       "      <td>2019-03-15 14:01:54</td>\n",
       "      <td>2019-03-15 14:01:59</td>\n",
       "      <td>1</td>\n",
       "      <td>0.00</td>\n",
       "      <td>25.0</td>\n",
       "      <td>5.06</td>\n",
       "      <td>0.00</td>\n",
       "      <td>30.36</td>\n",
       "      <td>yellow</td>\n",
       "      <td>credit card</td>\n",
       "      <td>NaN</td>\n",
       "      <td>NaN</td>\n",
       "      <td>NaN</td>\n",
       "      <td>NaN</td>\n",
       "      <td>2019-03-15 14:01:54</td>\n",
       "      <td>2019-03-15 14:01:59</td>\n",
       "      <td>Friday</td>\n",
       "      <td>0 days 00:00:05</td>\n",
       "    </tr>\n",
       "    <tr>\n",
       "      <th>4127</th>\n",
       "      <td>2019-03-01 05:18:21</td>\n",
       "      <td>2019-03-01 05:18:30</td>\n",
       "      <td>2</td>\n",
       "      <td>0.04</td>\n",
       "      <td>2.5</td>\n",
       "      <td>0.00</td>\n",
       "      <td>0.00</td>\n",
       "      <td>3.80</td>\n",
       "      <td>yellow</td>\n",
       "      <td>cash</td>\n",
       "      <td>NaN</td>\n",
       "      <td>NaN</td>\n",
       "      <td>NaN</td>\n",
       "      <td>NaN</td>\n",
       "      <td>2019-03-01 05:18:21</td>\n",
       "      <td>2019-03-01 05:18:30</td>\n",
       "      <td>Friday</td>\n",
       "      <td>0 days 00:00:09</td>\n",
       "    </tr>\n",
       "    <tr>\n",
       "      <th>4281</th>\n",
       "      <td>2019-03-18 23:29:49</td>\n",
       "      <td>2019-03-18 23:38:00</td>\n",
       "      <td>1</td>\n",
       "      <td>2.10</td>\n",
       "      <td>9.0</td>\n",
       "      <td>2.06</td>\n",
       "      <td>0.00</td>\n",
       "      <td>12.36</td>\n",
       "      <td>yellow</td>\n",
       "      <td>credit card</td>\n",
       "      <td>NaN</td>\n",
       "      <td>NaN</td>\n",
       "      <td>NaN</td>\n",
       "      <td>NaN</td>\n",
       "      <td>2019-03-18 23:29:49</td>\n",
       "      <td>2019-03-18 23:38:00</td>\n",
       "      <td>Monday</td>\n",
       "      <td>0 days 00:08:11</td>\n",
       "    </tr>\n",
       "    <tr>\n",
       "      <th>4414</th>\n",
       "      <td>2019-03-29 20:42:47</td>\n",
       "      <td>2019-03-29 21:03:50</td>\n",
       "      <td>1</td>\n",
       "      <td>4.20</td>\n",
       "      <td>17.0</td>\n",
       "      <td>4.80</td>\n",
       "      <td>5.76</td>\n",
       "      <td>28.86</td>\n",
       "      <td>yellow</td>\n",
       "      <td>credit card</td>\n",
       "      <td>NaN</td>\n",
       "      <td>NaN</td>\n",
       "      <td>NaN</td>\n",
       "      <td>NaN</td>\n",
       "      <td>2019-03-29 20:42:47</td>\n",
       "      <td>2019-03-29 21:03:50</td>\n",
       "      <td>Friday</td>\n",
       "      <td>0 days 00:21:03</td>\n",
       "    </tr>\n",
       "    <tr>\n",
       "      <th>4772</th>\n",
       "      <td>2019-03-21 19:51:13</td>\n",
       "      <td>2019-03-21 19:57:03</td>\n",
       "      <td>1</td>\n",
       "      <td>0.72</td>\n",
       "      <td>5.5</td>\n",
       "      <td>1.46</td>\n",
       "      <td>0.00</td>\n",
       "      <td>8.76</td>\n",
       "      <td>yellow</td>\n",
       "      <td>credit card</td>\n",
       "      <td>NaN</td>\n",
       "      <td>NaN</td>\n",
       "      <td>NaN</td>\n",
       "      <td>NaN</td>\n",
       "      <td>2019-03-21 19:51:13</td>\n",
       "      <td>2019-03-21 19:57:03</td>\n",
       "      <td>Thursday</td>\n",
       "      <td>0 days 00:05:50</td>\n",
       "    </tr>\n",
       "    <tr>\n",
       "      <th>4941</th>\n",
       "      <td>2019-03-01 08:12:28</td>\n",
       "      <td>2019-03-01 08:17:19</td>\n",
       "      <td>1</td>\n",
       "      <td>0.83</td>\n",
       "      <td>5.0</td>\n",
       "      <td>2.50</td>\n",
       "      <td>0.00</td>\n",
       "      <td>10.80</td>\n",
       "      <td>yellow</td>\n",
       "      <td>credit card</td>\n",
       "      <td>NaN</td>\n",
       "      <td>NaN</td>\n",
       "      <td>NaN</td>\n",
       "      <td>NaN</td>\n",
       "      <td>2019-03-01 08:12:28</td>\n",
       "      <td>2019-03-01 08:17:19</td>\n",
       "      <td>Friday</td>\n",
       "      <td>0 days 00:04:51</td>\n",
       "    </tr>\n",
       "    <tr>\n",
       "      <th>5263</th>\n",
       "      <td>2019-03-09 20:37:53</td>\n",
       "      <td>2019-03-09 21:07:20</td>\n",
       "      <td>1</td>\n",
       "      <td>4.99</td>\n",
       "      <td>22.0</td>\n",
       "      <td>5.16</td>\n",
       "      <td>0.00</td>\n",
       "      <td>30.96</td>\n",
       "      <td>yellow</td>\n",
       "      <td>credit card</td>\n",
       "      <td>NaN</td>\n",
       "      <td>NaN</td>\n",
       "      <td>NaN</td>\n",
       "      <td>NaN</td>\n",
       "      <td>2019-03-09 20:37:53</td>\n",
       "      <td>2019-03-09 21:07:20</td>\n",
       "      <td>Saturday</td>\n",
       "      <td>0 days 00:29:27</td>\n",
       "    </tr>\n",
       "    <tr>\n",
       "      <th>5493</th>\n",
       "      <td>2019-03-06 12:14:00</td>\n",
       "      <td>2019-03-06 12:14:00</td>\n",
       "      <td>1</td>\n",
       "      <td>0.00</td>\n",
       "      <td>10.0</td>\n",
       "      <td>0.00</td>\n",
       "      <td>0.00</td>\n",
       "      <td>10.00</td>\n",
       "      <td>green</td>\n",
       "      <td>credit card</td>\n",
       "      <td>NaN</td>\n",
       "      <td>NaN</td>\n",
       "      <td>NaN</td>\n",
       "      <td>NaN</td>\n",
       "      <td>2019-03-06 12:14:00</td>\n",
       "      <td>2019-03-06 12:14:00</td>\n",
       "      <td>Wednesday</td>\n",
       "      <td>0 days 00:00:00</td>\n",
       "    </tr>\n",
       "    <tr>\n",
       "      <th>5624</th>\n",
       "      <td>2019-03-11 14:04:50</td>\n",
       "      <td>2019-03-11 14:04:50</td>\n",
       "      <td>1</td>\n",
       "      <td>0.00</td>\n",
       "      <td>2.5</td>\n",
       "      <td>0.00</td>\n",
       "      <td>0.00</td>\n",
       "      <td>3.30</td>\n",
       "      <td>green</td>\n",
       "      <td>cash</td>\n",
       "      <td>NaN</td>\n",
       "      <td>NaN</td>\n",
       "      <td>NaN</td>\n",
       "      <td>NaN</td>\n",
       "      <td>2019-03-11 14:04:50</td>\n",
       "      <td>2019-03-11 14:04:50</td>\n",
       "      <td>Monday</td>\n",
       "      <td>0 days 00:00:00</td>\n",
       "    </tr>\n",
       "    <tr>\n",
       "      <th>5638</th>\n",
       "      <td>2019-03-13 12:22:00</td>\n",
       "      <td>2019-03-13 12:22:00</td>\n",
       "      <td>1</td>\n",
       "      <td>0.00</td>\n",
       "      <td>10.0</td>\n",
       "      <td>0.00</td>\n",
       "      <td>0.00</td>\n",
       "      <td>10.00</td>\n",
       "      <td>green</td>\n",
       "      <td>credit card</td>\n",
       "      <td>NaN</td>\n",
       "      <td>NaN</td>\n",
       "      <td>NaN</td>\n",
       "      <td>NaN</td>\n",
       "      <td>2019-03-13 12:22:00</td>\n",
       "      <td>2019-03-13 12:22:00</td>\n",
       "      <td>Wednesday</td>\n",
       "      <td>0 days 00:00:00</td>\n",
       "    </tr>\n",
       "    <tr>\n",
       "      <th>6083</th>\n",
       "      <td>2019-03-19 15:34:00</td>\n",
       "      <td>2019-03-19 15:34:00</td>\n",
       "      <td>1</td>\n",
       "      <td>0.00</td>\n",
       "      <td>5.0</td>\n",
       "      <td>0.00</td>\n",
       "      <td>0.00</td>\n",
       "      <td>5.00</td>\n",
       "      <td>green</td>\n",
       "      <td>credit card</td>\n",
       "      <td>NaN</td>\n",
       "      <td>NaN</td>\n",
       "      <td>NaN</td>\n",
       "      <td>NaN</td>\n",
       "      <td>2019-03-19 15:34:00</td>\n",
       "      <td>2019-03-19 15:34:00</td>\n",
       "      <td>Tuesday</td>\n",
       "      <td>0 days 00:00:00</td>\n",
       "    </tr>\n",
       "  </tbody>\n",
       "</table>\n",
       "</div>"
      ],
      "text/plain": [
       "                   pickup              dropoff  passengers  distance   fare  \\\n",
       "42    2019-03-30 23:59:14  2019-03-30 23:59:17           1      0.00   80.0   \n",
       "606   2019-03-19 15:04:40  2019-03-19 15:06:15           1      0.40    3.5   \n",
       "622   2019-03-12 19:52:36  2019-03-12 19:52:55           3      0.00  120.0   \n",
       "671   2019-03-09 22:45:46  2019-03-09 22:46:50           1      0.40    3.5   \n",
       "712   2019-03-03 01:24:45  2019-03-03 01:29:32           1      0.80    5.0   \n",
       "970   2019-03-29 00:02:00  2019-03-29 00:02:05           2      0.00   45.0   \n",
       "1108  2019-03-10 09:33:13  2019-03-10 09:52:04           1     13.40   52.0   \n",
       "1961  2019-03-19 16:43:59  2019-03-19 17:37:22           1     17.82   52.0   \n",
       "2137  2019-03-08 13:27:32  2019-03-08 13:46:23           1      1.40   12.0   \n",
       "2742  2019-03-23 06:20:27  2019-03-23 06:20:59           1      0.00   55.0   \n",
       "3085  2019-03-24 15:43:02  2019-03-24 16:02:57           1      3.20   14.5   \n",
       "3259  2019-03-30 00:39:09  2019-03-30 00:43:34           1      0.84    5.0   \n",
       "3644  2019-03-19 23:30:50  2019-03-19 23:32:33           2      0.00  103.0   \n",
       "3793  2019-03-24 06:07:30  2019-03-24 06:12:22           1      1.50    6.5   \n",
       "3889  2019-03-30 06:42:55  2019-03-30 06:43:00           1      0.00    2.5   \n",
       "4118  2019-03-15 14:01:54  2019-03-15 14:01:59           1      0.00   25.0   \n",
       "4127  2019-03-01 05:18:21  2019-03-01 05:18:30           2      0.04    2.5   \n",
       "4281  2019-03-18 23:29:49  2019-03-18 23:38:00           1      2.10    9.0   \n",
       "4414  2019-03-29 20:42:47  2019-03-29 21:03:50           1      4.20   17.0   \n",
       "4772  2019-03-21 19:51:13  2019-03-21 19:57:03           1      0.72    5.5   \n",
       "4941  2019-03-01 08:12:28  2019-03-01 08:17:19           1      0.83    5.0   \n",
       "5263  2019-03-09 20:37:53  2019-03-09 21:07:20           1      4.99   22.0   \n",
       "5493  2019-03-06 12:14:00  2019-03-06 12:14:00           1      0.00   10.0   \n",
       "5624  2019-03-11 14:04:50  2019-03-11 14:04:50           1      0.00    2.5   \n",
       "5638  2019-03-13 12:22:00  2019-03-13 12:22:00           1      0.00   10.0   \n",
       "6083  2019-03-19 15:34:00  2019-03-19 15:34:00           1      0.00    5.0   \n",
       "\n",
       "        tip  tolls   total   color      payment pickup_zone  \\\n",
       "42    20.08   0.00  100.38  yellow  credit card         NaN   \n",
       "606    1.35   0.00    8.15  yellow  credit card         NaN   \n",
       "622   33.20  12.50  166.00  yellow  credit card         NaN   \n",
       "671    0.00   0.00    7.30  yellow         cash         NaN   \n",
       "712    1.75   0.00   10.55  yellow  credit card         NaN   \n",
       "970    5.00   0.00   50.30  yellow  credit card         NaN   \n",
       "1108  11.70   5.76   70.26  yellow  credit card         NaN   \n",
       "1961  13.11   5.76   78.67  yellow  credit card         NaN   \n",
       "2137   3.05   0.00   18.35  yellow  credit card         NaN   \n",
       "2742   0.00   0.00   55.80  yellow  credit card         NaN   \n",
       "3085   0.00   0.00   15.30  yellow         cash         NaN   \n",
       "3259   1.70   0.00   10.50  yellow  credit card         NaN   \n",
       "3644  20.65   0.00  123.95  yellow  credit card         NaN   \n",
       "3793   0.00   0.00    9.80  yellow          NaN         NaN   \n",
       "3889   0.00   0.00    3.30  yellow         cash         NaN   \n",
       "4118   5.06   0.00   30.36  yellow  credit card         NaN   \n",
       "4127   0.00   0.00    3.80  yellow         cash         NaN   \n",
       "4281   2.06   0.00   12.36  yellow  credit card         NaN   \n",
       "4414   4.80   5.76   28.86  yellow  credit card         NaN   \n",
       "4772   1.46   0.00    8.76  yellow  credit card         NaN   \n",
       "4941   2.50   0.00   10.80  yellow  credit card         NaN   \n",
       "5263   5.16   0.00   30.96  yellow  credit card         NaN   \n",
       "5493   0.00   0.00   10.00   green  credit card         NaN   \n",
       "5624   0.00   0.00    3.30   green         cash         NaN   \n",
       "5638   0.00   0.00   10.00   green  credit card         NaN   \n",
       "6083   0.00   0.00    5.00   green  credit card         NaN   \n",
       "\n",
       "                   dropoff_zone pickup_borough dropoff_borough  \\\n",
       "42                          NaN            NaN             NaN   \n",
       "606       Upper East Side South            NaN       Manhattan   \n",
       "622                         NaN            NaN             NaN   \n",
       "671         Lincoln Square East            NaN       Manhattan   \n",
       "712   West Chelsea/Hudson Yards            NaN       Manhattan   \n",
       "970                         NaN            NaN             NaN   \n",
       "1108                        NaN            NaN             NaN   \n",
       "1961           Garment District            NaN       Manhattan   \n",
       "2137                        NaN            NaN             NaN   \n",
       "2742                        NaN            NaN             NaN   \n",
       "3085                        NaN            NaN             NaN   \n",
       "3259                        NaN            NaN             NaN   \n",
       "3644                        NaN            NaN             NaN   \n",
       "3793               Midtown East            NaN       Manhattan   \n",
       "3889                        NaN            NaN             NaN   \n",
       "4118                        NaN            NaN             NaN   \n",
       "4127                        NaN            NaN             NaN   \n",
       "4281                        NaN            NaN             NaN   \n",
       "4414                        NaN            NaN             NaN   \n",
       "4772                        NaN            NaN             NaN   \n",
       "4941                        NaN            NaN             NaN   \n",
       "5263                        NaN            NaN             NaN   \n",
       "5493                        NaN            NaN             NaN   \n",
       "5624                        NaN            NaN             NaN   \n",
       "5638                        NaN            NaN             NaN   \n",
       "6083                        NaN            NaN             NaN   \n",
       "\n",
       "              pickuptime            droptime        day        duration  \n",
       "42   2019-03-30 23:59:14 2019-03-30 23:59:17   Saturday 0 days 00:00:03  \n",
       "606  2019-03-19 15:04:40 2019-03-19 15:06:15    Tuesday 0 days 00:01:35  \n",
       "622  2019-03-12 19:52:36 2019-03-12 19:52:55    Tuesday 0 days 00:00:19  \n",
       "671  2019-03-09 22:45:46 2019-03-09 22:46:50   Saturday 0 days 00:01:04  \n",
       "712  2019-03-03 01:24:45 2019-03-03 01:29:32     Sunday 0 days 00:04:47  \n",
       "970  2019-03-29 00:02:00 2019-03-29 00:02:05     Friday 0 days 00:00:05  \n",
       "1108 2019-03-10 09:33:13 2019-03-10 09:52:04     Sunday 0 days 00:18:51  \n",
       "1961 2019-03-19 16:43:59 2019-03-19 17:37:22    Tuesday 0 days 00:53:23  \n",
       "2137 2019-03-08 13:27:32 2019-03-08 13:46:23     Friday 0 days 00:18:51  \n",
       "2742 2019-03-23 06:20:27 2019-03-23 06:20:59   Saturday 0 days 00:00:32  \n",
       "3085 2019-03-24 15:43:02 2019-03-24 16:02:57     Sunday 0 days 00:19:55  \n",
       "3259 2019-03-30 00:39:09 2019-03-30 00:43:34   Saturday 0 days 00:04:25  \n",
       "3644 2019-03-19 23:30:50 2019-03-19 23:32:33    Tuesday 0 days 00:01:43  \n",
       "3793 2019-03-24 06:07:30 2019-03-24 06:12:22     Sunday 0 days 00:04:52  \n",
       "3889 2019-03-30 06:42:55 2019-03-30 06:43:00   Saturday 0 days 00:00:05  \n",
       "4118 2019-03-15 14:01:54 2019-03-15 14:01:59     Friday 0 days 00:00:05  \n",
       "4127 2019-03-01 05:18:21 2019-03-01 05:18:30     Friday 0 days 00:00:09  \n",
       "4281 2019-03-18 23:29:49 2019-03-18 23:38:00     Monday 0 days 00:08:11  \n",
       "4414 2019-03-29 20:42:47 2019-03-29 21:03:50     Friday 0 days 00:21:03  \n",
       "4772 2019-03-21 19:51:13 2019-03-21 19:57:03   Thursday 0 days 00:05:50  \n",
       "4941 2019-03-01 08:12:28 2019-03-01 08:17:19     Friday 0 days 00:04:51  \n",
       "5263 2019-03-09 20:37:53 2019-03-09 21:07:20   Saturday 0 days 00:29:27  \n",
       "5493 2019-03-06 12:14:00 2019-03-06 12:14:00  Wednesday 0 days 00:00:00  \n",
       "5624 2019-03-11 14:04:50 2019-03-11 14:04:50     Monday 0 days 00:00:00  \n",
       "5638 2019-03-13 12:22:00 2019-03-13 12:22:00  Wednesday 0 days 00:00:00  \n",
       "6083 2019-03-19 15:34:00 2019-03-19 15:34:00    Tuesday 0 days 00:00:00  "
      ]
     },
     "execution_count": 20,
     "metadata": {},
     "output_type": "execute_result"
    }
   ],
   "source": [
    "df_sub = df[df[\"pickup_zone\"].isna()]\n",
    "df_sub"
   ]
  },
  {
   "cell_type": "code",
   "execution_count": null,
   "metadata": {
    "cell_id": "28ab27b26c1a46ecbcc5f9ce3699d13d",
    "deepnote_cell_type": "code",
    "deepnote_to_be_reexecuted": false,
    "editable": true,
    "execution_millis": 205,
    "execution_start": 1697228861505,
    "scrolled": true,
    "slideshow": {
     "slide_type": ""
    },
    "source_hash": null,
    "tags": []
   },
   "outputs": [
    {
     "data": {
      "application/vnd.deepnote.dataframe.v3+json": {
       "column_count": 18,
       "columns": [
        {
         "dtype": "object",
         "name": "pickup",
         "stats": {
          "categories": [
           {
            "count": 1,
            "name": "2019-03-30 23:59:14"
           },
           {
            "count": 1,
            "name": "2019-03-19 15:04:40"
           },
           {
            "count": 24,
            "name": "24 others"
           }
          ],
          "nan_count": 0,
          "unique_count": 26
         }
        },
        {
         "dtype": "object",
         "name": "dropoff",
         "stats": {
          "categories": [
           {
            "count": 1,
            "name": "2019-03-30 23:59:17"
           },
           {
            "count": 1,
            "name": "2019-03-19 15:06:15"
           },
           {
            "count": 24,
            "name": "24 others"
           }
          ],
          "nan_count": 0,
          "unique_count": 26
         }
        },
        {
         "dtype": "int64",
         "name": "passengers",
         "stats": {
          "histogram": [
           {
            "bin_end": 1.2,
            "bin_start": 1,
            "count": 22
           },
           {
            "bin_end": 1.4,
            "bin_start": 1.2,
            "count": 0
           },
           {
            "bin_end": 1.6,
            "bin_start": 1.4,
            "count": 0
           },
           {
            "bin_end": 1.8,
            "bin_start": 1.6,
            "count": 0
           },
           {
            "bin_end": 2,
            "bin_start": 1.8,
            "count": 0
           },
           {
            "bin_end": 2.2,
            "bin_start": 2,
            "count": 3
           },
           {
            "bin_end": 2.4000000000000004,
            "bin_start": 2.2,
            "count": 0
           },
           {
            "bin_end": 2.6,
            "bin_start": 2.4000000000000004,
            "count": 0
           },
           {
            "bin_end": 2.8,
            "bin_start": 2.6,
            "count": 0
           },
           {
            "bin_end": 3,
            "bin_start": 2.8,
            "count": 1
           }
          ],
          "max": "3",
          "min": "1",
          "nan_count": 0,
          "unique_count": 3
         }
        },
        {
         "dtype": "float64",
         "name": "distance",
         "stats": {
          "histogram": [
           {
            "bin_end": 1.782,
            "bin_start": 0,
            "count": 20
           },
           {
            "bin_end": 3.564,
            "bin_start": 1.782,
            "count": 2
           },
           {
            "bin_end": 5.346,
            "bin_start": 3.564,
            "count": 2
           },
           {
            "bin_end": 7.128,
            "bin_start": 5.346,
            "count": 0
           },
           {
            "bin_end": 8.91,
            "bin_start": 7.128,
            "count": 0
           },
           {
            "bin_end": 10.692,
            "bin_start": 8.91,
            "count": 0
           },
           {
            "bin_end": 12.474,
            "bin_start": 10.692,
            "count": 0
           },
           {
            "bin_end": 14.256,
            "bin_start": 12.474,
            "count": 1
           },
           {
            "bin_end": 16.038,
            "bin_start": 14.256,
            "count": 0
           },
           {
            "bin_end": 17.82,
            "bin_start": 16.038,
            "count": 1
           }
          ],
          "max": "17.82",
          "min": "0.0",
          "nan_count": 0,
          "unique_count": 15
         }
        },
        {
         "dtype": "float64",
         "name": "fare",
         "stats": {
          "histogram": [
           {
            "bin_end": 14.25,
            "bin_start": 2.5,
            "count": 15
           },
           {
            "bin_end": 26,
            "bin_start": 14.25,
            "count": 4
           },
           {
            "bin_end": 37.75,
            "bin_start": 26,
            "count": 0
           },
           {
            "bin_end": 49.5,
            "bin_start": 37.75,
            "count": 1
           },
           {
            "bin_end": 61.25,
            "bin_start": 49.5,
            "count": 3
           },
           {
            "bin_end": 73,
            "bin_start": 61.25,
            "count": 0
           },
           {
            "bin_end": 84.75,
            "bin_start": 73,
            "count": 1
           },
           {
            "bin_end": 96.5,
            "bin_start": 84.75,
            "count": 0
           },
           {
            "bin_end": 108.25,
            "bin_start": 96.5,
            "count": 1
           },
           {
            "bin_end": 120,
            "bin_start": 108.25,
            "count": 1
           }
          ],
          "max": "120.0",
          "min": "2.5",
          "nan_count": 0,
          "unique_count": 18
         }
        },
        {
         "dtype": "float64",
         "name": "tip",
         "stats": {
          "histogram": [
           {
            "bin_end": 3.3200000000000003,
            "bin_start": 0,
            "count": 17
           },
           {
            "bin_end": 6.640000000000001,
            "bin_start": 3.3200000000000003,
            "count": 4
           },
           {
            "bin_end": 9.96,
            "bin_start": 6.640000000000001,
            "count": 0
           },
           {
            "bin_end": 13.280000000000001,
            "bin_start": 9.96,
            "count": 2
           },
           {
            "bin_end": 16.6,
            "bin_start": 13.280000000000001,
            "count": 0
           },
           {
            "bin_end": 19.92,
            "bin_start": 16.6,
            "count": 0
           },
           {
            "bin_end": 23.240000000000002,
            "bin_start": 19.92,
            "count": 2
           },
           {
            "bin_end": 26.560000000000002,
            "bin_start": 23.240000000000002,
            "count": 0
           },
           {
            "bin_end": 29.880000000000003,
            "bin_start": 26.560000000000002,
            "count": 0
           },
           {
            "bin_end": 33.2,
            "bin_start": 29.880000000000003,
            "count": 1
           }
          ],
          "max": "33.2",
          "min": "0.0",
          "nan_count": 0,
          "unique_count": 17
         }
        },
        {
         "dtype": "float64",
         "name": "tolls",
         "stats": {
          "histogram": [
           {
            "bin_end": 1.25,
            "bin_start": 0,
            "count": 22
           },
           {
            "bin_end": 2.5,
            "bin_start": 1.25,
            "count": 0
           },
           {
            "bin_end": 3.75,
            "bin_start": 2.5,
            "count": 0
           },
           {
            "bin_end": 5,
            "bin_start": 3.75,
            "count": 0
           },
           {
            "bin_end": 6.25,
            "bin_start": 5,
            "count": 3
           },
           {
            "bin_end": 7.5,
            "bin_start": 6.25,
            "count": 0
           },
           {
            "bin_end": 8.75,
            "bin_start": 7.5,
            "count": 0
           },
           {
            "bin_end": 10,
            "bin_start": 8.75,
            "count": 0
           },
           {
            "bin_end": 11.25,
            "bin_start": 10,
            "count": 0
           },
           {
            "bin_end": 12.5,
            "bin_start": 11.25,
            "count": 1
           }
          ],
          "max": "12.5",
          "min": "0.0",
          "nan_count": 0,
          "unique_count": 3
         }
        },
        {
         "dtype": "float64",
         "name": "total",
         "stats": {
          "histogram": [
           {
            "bin_end": 19.57,
            "bin_start": 3.3,
            "count": 16
           },
           {
            "bin_end": 35.839999999999996,
            "bin_start": 19.57,
            "count": 3
           },
           {
            "bin_end": 52.11,
            "bin_start": 35.839999999999996,
            "count": 1
           },
           {
            "bin_end": 68.38,
            "bin_start": 52.11,
            "count": 1
           },
           {
            "bin_end": 84.64999999999999,
            "bin_start": 68.38,
            "count": 2
           },
           {
            "bin_end": 100.92,
            "bin_start": 84.64999999999999,
            "count": 1
           },
           {
            "bin_end": 117.19,
            "bin_start": 100.92,
            "count": 0
           },
           {
            "bin_end": 133.46,
            "bin_start": 117.19,
            "count": 1
           },
           {
            "bin_end": 149.73000000000002,
            "bin_start": 133.46,
            "count": 0
           },
           {
            "bin_end": 166,
            "bin_start": 149.73000000000002,
            "count": 1
           }
          ],
          "max": "166.0",
          "min": "3.3",
          "nan_count": 0,
          "unique_count": 24
         }
        },
        {
         "dtype": "object",
         "name": "color",
         "stats": {
          "categories": [
           {
            "count": 22,
            "name": "yellow"
           },
           {
            "count": 4,
            "name": "green"
           }
          ],
          "nan_count": 0,
          "unique_count": 2
         }
        },
        {
         "dtype": "object",
         "name": "payment",
         "stats": {
          "categories": [
           {
            "count": 20,
            "name": "credit card"
           },
           {
            "count": 5,
            "name": "cash"
           },
           {
            "count": 1,
            "name": "Missing"
           }
          ],
          "nan_count": 1,
          "unique_count": 2
         }
        },
        {
         "dtype": "object",
         "name": "pickup_zone",
         "stats": {
          "categories": [
           {
            "count": 26,
            "name": "Missing"
           }
          ],
          "nan_count": 26,
          "unique_count": 0
         }
        },
        {
         "dtype": "object",
         "name": "dropoff_zone",
         "stats": {
          "categories": [
           {
            "count": 1,
            "name": "Upper East Side South"
           },
           {
            "count": 4,
            "name": "4 others"
           },
           {
            "count": 21,
            "name": "Missing"
           }
          ],
          "nan_count": 21,
          "unique_count": 5
         }
        },
        {
         "dtype": "object",
         "name": "pickup_borough",
         "stats": {
          "categories": [
           {
            "count": 26,
            "name": "Missing"
           }
          ],
          "nan_count": 26,
          "unique_count": 0
         }
        },
        {
         "dtype": "object",
         "name": "dropoff_borough",
         "stats": {
          "categories": [
           {
            "count": 5,
            "name": "Manhattan"
           },
           {
            "count": 21,
            "name": "Missing"
           }
          ],
          "nan_count": 21,
          "unique_count": 1
         }
        },
        {
         "dtype": "datetime64[ns]",
         "name": "pickuptime",
         "stats": {
          "histogram": [
           {
            "bin_end": 1551674786300000000,
            "bin_start": 1551417501000000000,
            "count": 3
           },
           {
            "bin_end": 1551932071600000000,
            "bin_start": 1551674786300000000,
            "count": 1
           },
           {
            "bin_end": 1552189356900000000,
            "bin_start": 1551932071600000000,
            "count": 3
           },
           {
            "bin_end": 1552446642200000000,
            "bin_start": 1552189356900000000,
            "count": 3
           },
           {
            "bin_end": 1552703927500000000,
            "bin_start": 1552446642200000000,
            "count": 2
           },
           {
            "bin_end": 1552961212800000000,
            "bin_start": 1552703927500000000,
            "count": 1
           },
           {
            "bin_end": 1553218498100000000,
            "bin_start": 1552961212800000000,
            "count": 5
           },
           {
            "bin_end": 1553475783400000000,
            "bin_start": 1553218498100000000,
            "count": 3
           },
           {
            "bin_end": 1553733068700000000,
            "bin_start": 1553475783400000000,
            "count": 0
           },
           {
            "bin_end": 1553990354000000000,
            "bin_start": 1553733068700000000,
            "count": 5
           }
          ],
          "max": "2019-03-30 23:59:14",
          "min": "2019-03-01 05:18:21",
          "nan_count": 0,
          "unique_count": 26
         }
        },
        {
         "dtype": "datetime64[ns]",
         "name": "droptime",
         "stats": {
          "histogram": [
           {
            "bin_end": 1551674794700000000,
            "bin_start": 1551417510000000000,
            "count": 3
           },
           {
            "bin_end": 1551932079400000000,
            "bin_start": 1551674794700000000,
            "count": 1
           },
           {
            "bin_end": 1552189364100000000,
            "bin_start": 1551932079400000000,
            "count": 3
           },
           {
            "bin_end": 1552446648800000000,
            "bin_start": 1552189364100000000,
            "count": 3
           },
           {
            "bin_end": 1552703933500000000,
            "bin_start": 1552446648800000000,
            "count": 2
           },
           {
            "bin_end": 1552961218200000000,
            "bin_start": 1552703933500000000,
            "count": 1
           },
           {
            "bin_end": 1553218502900000000,
            "bin_start": 1552961218200000000,
            "count": 5
           },
           {
            "bin_end": 1553475787600000000,
            "bin_start": 1553218502900000000,
            "count": 3
           },
           {
            "bin_end": 1553733072300000000,
            "bin_start": 1553475787600000000,
            "count": 0
           },
           {
            "bin_end": 1553990357000000000,
            "bin_start": 1553733072300000000,
            "count": 5
           }
          ],
          "max": "2019-03-30 23:59:17",
          "min": "2019-03-01 05:18:30",
          "nan_count": 0,
          "unique_count": 26
         }
        },
        {
         "dtype": "object",
         "name": "day",
         "stats": {
          "categories": [
           {
            "count": 6,
            "name": "Saturday"
           },
           {
            "count": 6,
            "name": "Friday"
           },
           {
            "count": 14,
            "name": "5 others"
           }
          ],
          "nan_count": 0,
          "unique_count": 7
         }
        },
        {
         "dtype": "timedelta64[ns]",
         "name": "duration",
         "stats": {
          "histogram": [
           {
            "bin_end": 320300000000,
            "bin_start": 0,
            "count": 18
           },
           {
            "bin_end": 640600000000,
            "bin_start": 320300000000,
            "count": 2
           },
           {
            "bin_end": 960900000000,
            "bin_start": 640600000000,
            "count": 0
           },
           {
            "bin_end": 1281200000000,
            "bin_start": 960900000000,
            "count": 4
           },
           {
            "bin_end": 1601500000000,
            "bin_start": 1281200000000,
            "count": 0
           },
           {
            "bin_end": 1921800000000,
            "bin_start": 1601500000000,
            "count": 1
           },
           {
            "bin_end": 2242100000000,
            "bin_start": 1921800000000,
            "count": 0
           },
           {
            "bin_end": 2562400000000,
            "bin_start": 2242100000000,
            "count": 0
           },
           {
            "bin_end": 2882700000000,
            "bin_start": 2562400000000,
            "count": 0
           },
           {
            "bin_end": 3203000000000,
            "bin_start": 2882700000000,
            "count": 1
           }
          ],
          "max": "0 days 00:53:23",
          "min": "0 days 00:00:00",
          "nan_count": 0,
          "unique_count": 20
         }
        },
        {
         "dtype": "int64",
         "name": "_deepnote_index_column"
        }
       ],
       "row_count": 26,
       "rows": [
        {
         "_deepnote_index_column": 42,
         "color": "yellow",
         "day": "Saturday",
         "distance": 0,
         "dropoff": "2019-03-30 23:59:17",
         "dropoff_borough": "nan",
         "dropoff_zone": "nan",
         "droptime": "2019-03-30 23:59:17",
         "duration": "0 days 00:00:03",
         "fare": 80,
         "passengers": 1,
         "payment": "credit card",
         "pickup": "2019-03-30 23:59:14",
         "pickup_borough": "nan",
         "pickup_zone": "nan",
         "pickuptime": "2019-03-30 23:59:14",
         "tip": 20.08,
         "tolls": 0,
         "total": 100.38
        },
        {
         "_deepnote_index_column": 606,
         "color": "yellow",
         "day": "Tuesday",
         "distance": 0.4,
         "dropoff": "2019-03-19 15:06:15",
         "dropoff_borough": "Manhattan",
         "dropoff_zone": "Upper East Side South",
         "droptime": "2019-03-19 15:06:15",
         "duration": "0 days 00:01:35",
         "fare": 3.5,
         "passengers": 1,
         "payment": "credit card",
         "pickup": "2019-03-19 15:04:40",
         "pickup_borough": "nan",
         "pickup_zone": "nan",
         "pickuptime": "2019-03-19 15:04:40",
         "tip": 1.35,
         "tolls": 0,
         "total": 8.15
        },
        {
         "_deepnote_index_column": 622,
         "color": "yellow",
         "day": "Tuesday",
         "distance": 0,
         "dropoff": "2019-03-12 19:52:55",
         "dropoff_borough": "nan",
         "dropoff_zone": "nan",
         "droptime": "2019-03-12 19:52:55",
         "duration": "0 days 00:00:19",
         "fare": 120,
         "passengers": 3,
         "payment": "credit card",
         "pickup": "2019-03-12 19:52:36",
         "pickup_borough": "nan",
         "pickup_zone": "nan",
         "pickuptime": "2019-03-12 19:52:36",
         "tip": 33.2,
         "tolls": 12.5,
         "total": 166
        },
        {
         "_deepnote_index_column": 671,
         "color": "yellow",
         "day": "Saturday",
         "distance": 0.4,
         "dropoff": "2019-03-09 22:46:50",
         "dropoff_borough": "Manhattan",
         "dropoff_zone": "Lincoln Square East",
         "droptime": "2019-03-09 22:46:50",
         "duration": "0 days 00:01:04",
         "fare": 3.5,
         "passengers": 1,
         "payment": "cash",
         "pickup": "2019-03-09 22:45:46",
         "pickup_borough": "nan",
         "pickup_zone": "nan",
         "pickuptime": "2019-03-09 22:45:46",
         "tip": 0,
         "tolls": 0,
         "total": 7.3
        },
        {
         "_deepnote_index_column": 712,
         "color": "yellow",
         "day": "Sunday",
         "distance": 0.8,
         "dropoff": "2019-03-03 01:29:32",
         "dropoff_borough": "Manhattan",
         "dropoff_zone": "West Chelsea/Hudson Yards",
         "droptime": "2019-03-03 01:29:32",
         "duration": "0 days 00:04:47",
         "fare": 5,
         "passengers": 1,
         "payment": "credit card",
         "pickup": "2019-03-03 01:24:45",
         "pickup_borough": "nan",
         "pickup_zone": "nan",
         "pickuptime": "2019-03-03 01:24:45",
         "tip": 1.75,
         "tolls": 0,
         "total": 10.55
        },
        {
         "_deepnote_index_column": 970,
         "color": "yellow",
         "day": "Friday",
         "distance": 0,
         "dropoff": "2019-03-29 00:02:05",
         "dropoff_borough": "nan",
         "dropoff_zone": "nan",
         "droptime": "2019-03-29 00:02:05",
         "duration": "0 days 00:00:05",
         "fare": 45,
         "passengers": 2,
         "payment": "credit card",
         "pickup": "2019-03-29 00:02:00",
         "pickup_borough": "nan",
         "pickup_zone": "nan",
         "pickuptime": "2019-03-29 00:02:00",
         "tip": 5,
         "tolls": 0,
         "total": 50.3
        },
        {
         "_deepnote_index_column": 1108,
         "color": "yellow",
         "day": "Sunday",
         "distance": 13.4,
         "dropoff": "2019-03-10 09:52:04",
         "dropoff_borough": "nan",
         "dropoff_zone": "nan",
         "droptime": "2019-03-10 09:52:04",
         "duration": "0 days 00:18:51",
         "fare": 52,
         "passengers": 1,
         "payment": "credit card",
         "pickup": "2019-03-10 09:33:13",
         "pickup_borough": "nan",
         "pickup_zone": "nan",
         "pickuptime": "2019-03-10 09:33:13",
         "tip": 11.7,
         "tolls": 5.76,
         "total": 70.26
        },
        {
         "_deepnote_index_column": 1961,
         "color": "yellow",
         "day": "Tuesday",
         "distance": 17.82,
         "dropoff": "2019-03-19 17:37:22",
         "dropoff_borough": "Manhattan",
         "dropoff_zone": "Garment District",
         "droptime": "2019-03-19 17:37:22",
         "duration": "0 days 00:53:23",
         "fare": 52,
         "passengers": 1,
         "payment": "credit card",
         "pickup": "2019-03-19 16:43:59",
         "pickup_borough": "nan",
         "pickup_zone": "nan",
         "pickuptime": "2019-03-19 16:43:59",
         "tip": 13.11,
         "tolls": 5.76,
         "total": 78.67
        },
        {
         "_deepnote_index_column": 2137,
         "color": "yellow",
         "day": "Friday",
         "distance": 1.4,
         "dropoff": "2019-03-08 13:46:23",
         "dropoff_borough": "nan",
         "dropoff_zone": "nan",
         "droptime": "2019-03-08 13:46:23",
         "duration": "0 days 00:18:51",
         "fare": 12,
         "passengers": 1,
         "payment": "credit card",
         "pickup": "2019-03-08 13:27:32",
         "pickup_borough": "nan",
         "pickup_zone": "nan",
         "pickuptime": "2019-03-08 13:27:32",
         "tip": 3.05,
         "tolls": 0,
         "total": 18.35
        },
        {
         "_deepnote_index_column": 2742,
         "color": "yellow",
         "day": "Saturday",
         "distance": 0,
         "dropoff": "2019-03-23 06:20:59",
         "dropoff_borough": "nan",
         "dropoff_zone": "nan",
         "droptime": "2019-03-23 06:20:59",
         "duration": "0 days 00:00:32",
         "fare": 55,
         "passengers": 1,
         "payment": "credit card",
         "pickup": "2019-03-23 06:20:27",
         "pickup_borough": "nan",
         "pickup_zone": "nan",
         "pickuptime": "2019-03-23 06:20:27",
         "tip": 0,
         "tolls": 0,
         "total": 55.8
        }
       ]
      },
      "text/html": [
       "<div>\n",
       "<style scoped>\n",
       "    .dataframe tbody tr th:only-of-type {\n",
       "        vertical-align: middle;\n",
       "    }\n",
       "\n",
       "    .dataframe tbody tr th {\n",
       "        vertical-align: top;\n",
       "    }\n",
       "\n",
       "    .dataframe thead th {\n",
       "        text-align: right;\n",
       "    }\n",
       "</style>\n",
       "<table border=\"1\" class=\"dataframe\">\n",
       "  <thead>\n",
       "    <tr style=\"text-align: right;\">\n",
       "      <th></th>\n",
       "      <th>pickup</th>\n",
       "      <th>dropoff</th>\n",
       "      <th>passengers</th>\n",
       "      <th>distance</th>\n",
       "      <th>fare</th>\n",
       "      <th>tip</th>\n",
       "      <th>tolls</th>\n",
       "      <th>total</th>\n",
       "      <th>color</th>\n",
       "      <th>payment</th>\n",
       "      <th>pickup_zone</th>\n",
       "      <th>dropoff_zone</th>\n",
       "      <th>pickup_borough</th>\n",
       "      <th>dropoff_borough</th>\n",
       "      <th>pickuptime</th>\n",
       "      <th>droptime</th>\n",
       "      <th>day</th>\n",
       "      <th>duration</th>\n",
       "    </tr>\n",
       "  </thead>\n",
       "  <tbody>\n",
       "    <tr>\n",
       "      <th>42</th>\n",
       "      <td>2019-03-30 23:59:14</td>\n",
       "      <td>2019-03-30 23:59:17</td>\n",
       "      <td>1</td>\n",
       "      <td>0.00</td>\n",
       "      <td>80.0</td>\n",
       "      <td>20.08</td>\n",
       "      <td>0.00</td>\n",
       "      <td>100.38</td>\n",
       "      <td>yellow</td>\n",
       "      <td>credit card</td>\n",
       "      <td>NaN</td>\n",
       "      <td>NaN</td>\n",
       "      <td>NaN</td>\n",
       "      <td>NaN</td>\n",
       "      <td>2019-03-30 23:59:14</td>\n",
       "      <td>2019-03-30 23:59:17</td>\n",
       "      <td>Saturday</td>\n",
       "      <td>0 days 00:00:03</td>\n",
       "    </tr>\n",
       "    <tr>\n",
       "      <th>606</th>\n",
       "      <td>2019-03-19 15:04:40</td>\n",
       "      <td>2019-03-19 15:06:15</td>\n",
       "      <td>1</td>\n",
       "      <td>0.40</td>\n",
       "      <td>3.5</td>\n",
       "      <td>1.35</td>\n",
       "      <td>0.00</td>\n",
       "      <td>8.15</td>\n",
       "      <td>yellow</td>\n",
       "      <td>credit card</td>\n",
       "      <td>NaN</td>\n",
       "      <td>Upper East Side South</td>\n",
       "      <td>NaN</td>\n",
       "      <td>Manhattan</td>\n",
       "      <td>2019-03-19 15:04:40</td>\n",
       "      <td>2019-03-19 15:06:15</td>\n",
       "      <td>Tuesday</td>\n",
       "      <td>0 days 00:01:35</td>\n",
       "    </tr>\n",
       "    <tr>\n",
       "      <th>622</th>\n",
       "      <td>2019-03-12 19:52:36</td>\n",
       "      <td>2019-03-12 19:52:55</td>\n",
       "      <td>3</td>\n",
       "      <td>0.00</td>\n",
       "      <td>120.0</td>\n",
       "      <td>33.20</td>\n",
       "      <td>12.50</td>\n",
       "      <td>166.00</td>\n",
       "      <td>yellow</td>\n",
       "      <td>credit card</td>\n",
       "      <td>NaN</td>\n",
       "      <td>NaN</td>\n",
       "      <td>NaN</td>\n",
       "      <td>NaN</td>\n",
       "      <td>2019-03-12 19:52:36</td>\n",
       "      <td>2019-03-12 19:52:55</td>\n",
       "      <td>Tuesday</td>\n",
       "      <td>0 days 00:00:19</td>\n",
       "    </tr>\n",
       "    <tr>\n",
       "      <th>671</th>\n",
       "      <td>2019-03-09 22:45:46</td>\n",
       "      <td>2019-03-09 22:46:50</td>\n",
       "      <td>1</td>\n",
       "      <td>0.40</td>\n",
       "      <td>3.5</td>\n",
       "      <td>0.00</td>\n",
       "      <td>0.00</td>\n",
       "      <td>7.30</td>\n",
       "      <td>yellow</td>\n",
       "      <td>cash</td>\n",
       "      <td>NaN</td>\n",
       "      <td>Lincoln Square East</td>\n",
       "      <td>NaN</td>\n",
       "      <td>Manhattan</td>\n",
       "      <td>2019-03-09 22:45:46</td>\n",
       "      <td>2019-03-09 22:46:50</td>\n",
       "      <td>Saturday</td>\n",
       "      <td>0 days 00:01:04</td>\n",
       "    </tr>\n",
       "    <tr>\n",
       "      <th>712</th>\n",
       "      <td>2019-03-03 01:24:45</td>\n",
       "      <td>2019-03-03 01:29:32</td>\n",
       "      <td>1</td>\n",
       "      <td>0.80</td>\n",
       "      <td>5.0</td>\n",
       "      <td>1.75</td>\n",
       "      <td>0.00</td>\n",
       "      <td>10.55</td>\n",
       "      <td>yellow</td>\n",
       "      <td>credit card</td>\n",
       "      <td>NaN</td>\n",
       "      <td>West Chelsea/Hudson Yards</td>\n",
       "      <td>NaN</td>\n",
       "      <td>Manhattan</td>\n",
       "      <td>2019-03-03 01:24:45</td>\n",
       "      <td>2019-03-03 01:29:32</td>\n",
       "      <td>Sunday</td>\n",
       "      <td>0 days 00:04:47</td>\n",
       "    </tr>\n",
       "    <tr>\n",
       "      <th>970</th>\n",
       "      <td>2019-03-29 00:02:00</td>\n",
       "      <td>2019-03-29 00:02:05</td>\n",
       "      <td>2</td>\n",
       "      <td>0.00</td>\n",
       "      <td>45.0</td>\n",
       "      <td>5.00</td>\n",
       "      <td>0.00</td>\n",
       "      <td>50.30</td>\n",
       "      <td>yellow</td>\n",
       "      <td>credit card</td>\n",
       "      <td>NaN</td>\n",
       "      <td>NaN</td>\n",
       "      <td>NaN</td>\n",
       "      <td>NaN</td>\n",
       "      <td>2019-03-29 00:02:00</td>\n",
       "      <td>2019-03-29 00:02:05</td>\n",
       "      <td>Friday</td>\n",
       "      <td>0 days 00:00:05</td>\n",
       "    </tr>\n",
       "    <tr>\n",
       "      <th>1108</th>\n",
       "      <td>2019-03-10 09:33:13</td>\n",
       "      <td>2019-03-10 09:52:04</td>\n",
       "      <td>1</td>\n",
       "      <td>13.40</td>\n",
       "      <td>52.0</td>\n",
       "      <td>11.70</td>\n",
       "      <td>5.76</td>\n",
       "      <td>70.26</td>\n",
       "      <td>yellow</td>\n",
       "      <td>credit card</td>\n",
       "      <td>NaN</td>\n",
       "      <td>NaN</td>\n",
       "      <td>NaN</td>\n",
       "      <td>NaN</td>\n",
       "      <td>2019-03-10 09:33:13</td>\n",
       "      <td>2019-03-10 09:52:04</td>\n",
       "      <td>Sunday</td>\n",
       "      <td>0 days 00:18:51</td>\n",
       "    </tr>\n",
       "    <tr>\n",
       "      <th>1961</th>\n",
       "      <td>2019-03-19 16:43:59</td>\n",
       "      <td>2019-03-19 17:37:22</td>\n",
       "      <td>1</td>\n",
       "      <td>17.82</td>\n",
       "      <td>52.0</td>\n",
       "      <td>13.11</td>\n",
       "      <td>5.76</td>\n",
       "      <td>78.67</td>\n",
       "      <td>yellow</td>\n",
       "      <td>credit card</td>\n",
       "      <td>NaN</td>\n",
       "      <td>Garment District</td>\n",
       "      <td>NaN</td>\n",
       "      <td>Manhattan</td>\n",
       "      <td>2019-03-19 16:43:59</td>\n",
       "      <td>2019-03-19 17:37:22</td>\n",
       "      <td>Tuesday</td>\n",
       "      <td>0 days 00:53:23</td>\n",
       "    </tr>\n",
       "    <tr>\n",
       "      <th>2137</th>\n",
       "      <td>2019-03-08 13:27:32</td>\n",
       "      <td>2019-03-08 13:46:23</td>\n",
       "      <td>1</td>\n",
       "      <td>1.40</td>\n",
       "      <td>12.0</td>\n",
       "      <td>3.05</td>\n",
       "      <td>0.00</td>\n",
       "      <td>18.35</td>\n",
       "      <td>yellow</td>\n",
       "      <td>credit card</td>\n",
       "      <td>NaN</td>\n",
       "      <td>NaN</td>\n",
       "      <td>NaN</td>\n",
       "      <td>NaN</td>\n",
       "      <td>2019-03-08 13:27:32</td>\n",
       "      <td>2019-03-08 13:46:23</td>\n",
       "      <td>Friday</td>\n",
       "      <td>0 days 00:18:51</td>\n",
       "    </tr>\n",
       "    <tr>\n",
       "      <th>2742</th>\n",
       "      <td>2019-03-23 06:20:27</td>\n",
       "      <td>2019-03-23 06:20:59</td>\n",
       "      <td>1</td>\n",
       "      <td>0.00</td>\n",
       "      <td>55.0</td>\n",
       "      <td>0.00</td>\n",
       "      <td>0.00</td>\n",
       "      <td>55.80</td>\n",
       "      <td>yellow</td>\n",
       "      <td>credit card</td>\n",
       "      <td>NaN</td>\n",
       "      <td>NaN</td>\n",
       "      <td>NaN</td>\n",
       "      <td>NaN</td>\n",
       "      <td>2019-03-23 06:20:27</td>\n",
       "      <td>2019-03-23 06:20:59</td>\n",
       "      <td>Saturday</td>\n",
       "      <td>0 days 00:00:32</td>\n",
       "    </tr>\n",
       "    <tr>\n",
       "      <th>3085</th>\n",
       "      <td>2019-03-24 15:43:02</td>\n",
       "      <td>2019-03-24 16:02:57</td>\n",
       "      <td>1</td>\n",
       "      <td>3.20</td>\n",
       "      <td>14.5</td>\n",
       "      <td>0.00</td>\n",
       "      <td>0.00</td>\n",
       "      <td>15.30</td>\n",
       "      <td>yellow</td>\n",
       "      <td>cash</td>\n",
       "      <td>NaN</td>\n",
       "      <td>NaN</td>\n",
       "      <td>NaN</td>\n",
       "      <td>NaN</td>\n",
       "      <td>2019-03-24 15:43:02</td>\n",
       "      <td>2019-03-24 16:02:57</td>\n",
       "      <td>Sunday</td>\n",
       "      <td>0 days 00:19:55</td>\n",
       "    </tr>\n",
       "    <tr>\n",
       "      <th>3259</th>\n",
       "      <td>2019-03-30 00:39:09</td>\n",
       "      <td>2019-03-30 00:43:34</td>\n",
       "      <td>1</td>\n",
       "      <td>0.84</td>\n",
       "      <td>5.0</td>\n",
       "      <td>1.70</td>\n",
       "      <td>0.00</td>\n",
       "      <td>10.50</td>\n",
       "      <td>yellow</td>\n",
       "      <td>credit card</td>\n",
       "      <td>NaN</td>\n",
       "      <td>NaN</td>\n",
       "      <td>NaN</td>\n",
       "      <td>NaN</td>\n",
       "      <td>2019-03-30 00:39:09</td>\n",
       "      <td>2019-03-30 00:43:34</td>\n",
       "      <td>Saturday</td>\n",
       "      <td>0 days 00:04:25</td>\n",
       "    </tr>\n",
       "    <tr>\n",
       "      <th>3644</th>\n",
       "      <td>2019-03-19 23:30:50</td>\n",
       "      <td>2019-03-19 23:32:33</td>\n",
       "      <td>2</td>\n",
       "      <td>0.00</td>\n",
       "      <td>103.0</td>\n",
       "      <td>20.65</td>\n",
       "      <td>0.00</td>\n",
       "      <td>123.95</td>\n",
       "      <td>yellow</td>\n",
       "      <td>credit card</td>\n",
       "      <td>NaN</td>\n",
       "      <td>NaN</td>\n",
       "      <td>NaN</td>\n",
       "      <td>NaN</td>\n",
       "      <td>2019-03-19 23:30:50</td>\n",
       "      <td>2019-03-19 23:32:33</td>\n",
       "      <td>Tuesday</td>\n",
       "      <td>0 days 00:01:43</td>\n",
       "    </tr>\n",
       "    <tr>\n",
       "      <th>3793</th>\n",
       "      <td>2019-03-24 06:07:30</td>\n",
       "      <td>2019-03-24 06:12:22</td>\n",
       "      <td>1</td>\n",
       "      <td>1.50</td>\n",
       "      <td>6.5</td>\n",
       "      <td>0.00</td>\n",
       "      <td>0.00</td>\n",
       "      <td>9.80</td>\n",
       "      <td>yellow</td>\n",
       "      <td>NaN</td>\n",
       "      <td>NaN</td>\n",
       "      <td>Midtown East</td>\n",
       "      <td>NaN</td>\n",
       "      <td>Manhattan</td>\n",
       "      <td>2019-03-24 06:07:30</td>\n",
       "      <td>2019-03-24 06:12:22</td>\n",
       "      <td>Sunday</td>\n",
       "      <td>0 days 00:04:52</td>\n",
       "    </tr>\n",
       "    <tr>\n",
       "      <th>3889</th>\n",
       "      <td>2019-03-30 06:42:55</td>\n",
       "      <td>2019-03-30 06:43:00</td>\n",
       "      <td>1</td>\n",
       "      <td>0.00</td>\n",
       "      <td>2.5</td>\n",
       "      <td>0.00</td>\n",
       "      <td>0.00</td>\n",
       "      <td>3.30</td>\n",
       "      <td>yellow</td>\n",
       "      <td>cash</td>\n",
       "      <td>NaN</td>\n",
       "      <td>NaN</td>\n",
       "      <td>NaN</td>\n",
       "      <td>NaN</td>\n",
       "      <td>2019-03-30 06:42:55</td>\n",
       "      <td>2019-03-30 06:43:00</td>\n",
       "      <td>Saturday</td>\n",
       "      <td>0 days 00:00:05</td>\n",
       "    </tr>\n",
       "    <tr>\n",
       "      <th>4118</th>\n",
       "      <td>2019-03-15 14:01:54</td>\n",
       "      <td>2019-03-15 14:01:59</td>\n",
       "      <td>1</td>\n",
       "      <td>0.00</td>\n",
       "      <td>25.0</td>\n",
       "      <td>5.06</td>\n",
       "      <td>0.00</td>\n",
       "      <td>30.36</td>\n",
       "      <td>yellow</td>\n",
       "      <td>credit card</td>\n",
       "      <td>NaN</td>\n",
       "      <td>NaN</td>\n",
       "      <td>NaN</td>\n",
       "      <td>NaN</td>\n",
       "      <td>2019-03-15 14:01:54</td>\n",
       "      <td>2019-03-15 14:01:59</td>\n",
       "      <td>Friday</td>\n",
       "      <td>0 days 00:00:05</td>\n",
       "    </tr>\n",
       "    <tr>\n",
       "      <th>4127</th>\n",
       "      <td>2019-03-01 05:18:21</td>\n",
       "      <td>2019-03-01 05:18:30</td>\n",
       "      <td>2</td>\n",
       "      <td>0.04</td>\n",
       "      <td>2.5</td>\n",
       "      <td>0.00</td>\n",
       "      <td>0.00</td>\n",
       "      <td>3.80</td>\n",
       "      <td>yellow</td>\n",
       "      <td>cash</td>\n",
       "      <td>NaN</td>\n",
       "      <td>NaN</td>\n",
       "      <td>NaN</td>\n",
       "      <td>NaN</td>\n",
       "      <td>2019-03-01 05:18:21</td>\n",
       "      <td>2019-03-01 05:18:30</td>\n",
       "      <td>Friday</td>\n",
       "      <td>0 days 00:00:09</td>\n",
       "    </tr>\n",
       "    <tr>\n",
       "      <th>4281</th>\n",
       "      <td>2019-03-18 23:29:49</td>\n",
       "      <td>2019-03-18 23:38:00</td>\n",
       "      <td>1</td>\n",
       "      <td>2.10</td>\n",
       "      <td>9.0</td>\n",
       "      <td>2.06</td>\n",
       "      <td>0.00</td>\n",
       "      <td>12.36</td>\n",
       "      <td>yellow</td>\n",
       "      <td>credit card</td>\n",
       "      <td>NaN</td>\n",
       "      <td>NaN</td>\n",
       "      <td>NaN</td>\n",
       "      <td>NaN</td>\n",
       "      <td>2019-03-18 23:29:49</td>\n",
       "      <td>2019-03-18 23:38:00</td>\n",
       "      <td>Monday</td>\n",
       "      <td>0 days 00:08:11</td>\n",
       "    </tr>\n",
       "    <tr>\n",
       "      <th>4414</th>\n",
       "      <td>2019-03-29 20:42:47</td>\n",
       "      <td>2019-03-29 21:03:50</td>\n",
       "      <td>1</td>\n",
       "      <td>4.20</td>\n",
       "      <td>17.0</td>\n",
       "      <td>4.80</td>\n",
       "      <td>5.76</td>\n",
       "      <td>28.86</td>\n",
       "      <td>yellow</td>\n",
       "      <td>credit card</td>\n",
       "      <td>NaN</td>\n",
       "      <td>NaN</td>\n",
       "      <td>NaN</td>\n",
       "      <td>NaN</td>\n",
       "      <td>2019-03-29 20:42:47</td>\n",
       "      <td>2019-03-29 21:03:50</td>\n",
       "      <td>Friday</td>\n",
       "      <td>0 days 00:21:03</td>\n",
       "    </tr>\n",
       "    <tr>\n",
       "      <th>4772</th>\n",
       "      <td>2019-03-21 19:51:13</td>\n",
       "      <td>2019-03-21 19:57:03</td>\n",
       "      <td>1</td>\n",
       "      <td>0.72</td>\n",
       "      <td>5.5</td>\n",
       "      <td>1.46</td>\n",
       "      <td>0.00</td>\n",
       "      <td>8.76</td>\n",
       "      <td>yellow</td>\n",
       "      <td>credit card</td>\n",
       "      <td>NaN</td>\n",
       "      <td>NaN</td>\n",
       "      <td>NaN</td>\n",
       "      <td>NaN</td>\n",
       "      <td>2019-03-21 19:51:13</td>\n",
       "      <td>2019-03-21 19:57:03</td>\n",
       "      <td>Thursday</td>\n",
       "      <td>0 days 00:05:50</td>\n",
       "    </tr>\n",
       "    <tr>\n",
       "      <th>4941</th>\n",
       "      <td>2019-03-01 08:12:28</td>\n",
       "      <td>2019-03-01 08:17:19</td>\n",
       "      <td>1</td>\n",
       "      <td>0.83</td>\n",
       "      <td>5.0</td>\n",
       "      <td>2.50</td>\n",
       "      <td>0.00</td>\n",
       "      <td>10.80</td>\n",
       "      <td>yellow</td>\n",
       "      <td>credit card</td>\n",
       "      <td>NaN</td>\n",
       "      <td>NaN</td>\n",
       "      <td>NaN</td>\n",
       "      <td>NaN</td>\n",
       "      <td>2019-03-01 08:12:28</td>\n",
       "      <td>2019-03-01 08:17:19</td>\n",
       "      <td>Friday</td>\n",
       "      <td>0 days 00:04:51</td>\n",
       "    </tr>\n",
       "    <tr>\n",
       "      <th>5263</th>\n",
       "      <td>2019-03-09 20:37:53</td>\n",
       "      <td>2019-03-09 21:07:20</td>\n",
       "      <td>1</td>\n",
       "      <td>4.99</td>\n",
       "      <td>22.0</td>\n",
       "      <td>5.16</td>\n",
       "      <td>0.00</td>\n",
       "      <td>30.96</td>\n",
       "      <td>yellow</td>\n",
       "      <td>credit card</td>\n",
       "      <td>NaN</td>\n",
       "      <td>NaN</td>\n",
       "      <td>NaN</td>\n",
       "      <td>NaN</td>\n",
       "      <td>2019-03-09 20:37:53</td>\n",
       "      <td>2019-03-09 21:07:20</td>\n",
       "      <td>Saturday</td>\n",
       "      <td>0 days 00:29:27</td>\n",
       "    </tr>\n",
       "    <tr>\n",
       "      <th>5493</th>\n",
       "      <td>2019-03-06 12:14:00</td>\n",
       "      <td>2019-03-06 12:14:00</td>\n",
       "      <td>1</td>\n",
       "      <td>0.00</td>\n",
       "      <td>10.0</td>\n",
       "      <td>0.00</td>\n",
       "      <td>0.00</td>\n",
       "      <td>10.00</td>\n",
       "      <td>green</td>\n",
       "      <td>credit card</td>\n",
       "      <td>NaN</td>\n",
       "      <td>NaN</td>\n",
       "      <td>NaN</td>\n",
       "      <td>NaN</td>\n",
       "      <td>2019-03-06 12:14:00</td>\n",
       "      <td>2019-03-06 12:14:00</td>\n",
       "      <td>Wednesday</td>\n",
       "      <td>0 days 00:00:00</td>\n",
       "    </tr>\n",
       "    <tr>\n",
       "      <th>5624</th>\n",
       "      <td>2019-03-11 14:04:50</td>\n",
       "      <td>2019-03-11 14:04:50</td>\n",
       "      <td>1</td>\n",
       "      <td>0.00</td>\n",
       "      <td>2.5</td>\n",
       "      <td>0.00</td>\n",
       "      <td>0.00</td>\n",
       "      <td>3.30</td>\n",
       "      <td>green</td>\n",
       "      <td>cash</td>\n",
       "      <td>NaN</td>\n",
       "      <td>NaN</td>\n",
       "      <td>NaN</td>\n",
       "      <td>NaN</td>\n",
       "      <td>2019-03-11 14:04:50</td>\n",
       "      <td>2019-03-11 14:04:50</td>\n",
       "      <td>Monday</td>\n",
       "      <td>0 days 00:00:00</td>\n",
       "    </tr>\n",
       "    <tr>\n",
       "      <th>5638</th>\n",
       "      <td>2019-03-13 12:22:00</td>\n",
       "      <td>2019-03-13 12:22:00</td>\n",
       "      <td>1</td>\n",
       "      <td>0.00</td>\n",
       "      <td>10.0</td>\n",
       "      <td>0.00</td>\n",
       "      <td>0.00</td>\n",
       "      <td>10.00</td>\n",
       "      <td>green</td>\n",
       "      <td>credit card</td>\n",
       "      <td>NaN</td>\n",
       "      <td>NaN</td>\n",
       "      <td>NaN</td>\n",
       "      <td>NaN</td>\n",
       "      <td>2019-03-13 12:22:00</td>\n",
       "      <td>2019-03-13 12:22:00</td>\n",
       "      <td>Wednesday</td>\n",
       "      <td>0 days 00:00:00</td>\n",
       "    </tr>\n",
       "    <tr>\n",
       "      <th>6083</th>\n",
       "      <td>2019-03-19 15:34:00</td>\n",
       "      <td>2019-03-19 15:34:00</td>\n",
       "      <td>1</td>\n",
       "      <td>0.00</td>\n",
       "      <td>5.0</td>\n",
       "      <td>0.00</td>\n",
       "      <td>0.00</td>\n",
       "      <td>5.00</td>\n",
       "      <td>green</td>\n",
       "      <td>credit card</td>\n",
       "      <td>NaN</td>\n",
       "      <td>NaN</td>\n",
       "      <td>NaN</td>\n",
       "      <td>NaN</td>\n",
       "      <td>2019-03-19 15:34:00</td>\n",
       "      <td>2019-03-19 15:34:00</td>\n",
       "      <td>Tuesday</td>\n",
       "      <td>0 days 00:00:00</td>\n",
       "    </tr>\n",
       "  </tbody>\n",
       "</table>\n",
       "</div>"
      ],
      "text/plain": [
       "                   pickup              dropoff  passengers  distance   fare  \\\n",
       "42    2019-03-30 23:59:14  2019-03-30 23:59:17           1      0.00   80.0   \n",
       "606   2019-03-19 15:04:40  2019-03-19 15:06:15           1      0.40    3.5   \n",
       "622   2019-03-12 19:52:36  2019-03-12 19:52:55           3      0.00  120.0   \n",
       "671   2019-03-09 22:45:46  2019-03-09 22:46:50           1      0.40    3.5   \n",
       "712   2019-03-03 01:24:45  2019-03-03 01:29:32           1      0.80    5.0   \n",
       "970   2019-03-29 00:02:00  2019-03-29 00:02:05           2      0.00   45.0   \n",
       "1108  2019-03-10 09:33:13  2019-03-10 09:52:04           1     13.40   52.0   \n",
       "1961  2019-03-19 16:43:59  2019-03-19 17:37:22           1     17.82   52.0   \n",
       "2137  2019-03-08 13:27:32  2019-03-08 13:46:23           1      1.40   12.0   \n",
       "2742  2019-03-23 06:20:27  2019-03-23 06:20:59           1      0.00   55.0   \n",
       "3085  2019-03-24 15:43:02  2019-03-24 16:02:57           1      3.20   14.5   \n",
       "3259  2019-03-30 00:39:09  2019-03-30 00:43:34           1      0.84    5.0   \n",
       "3644  2019-03-19 23:30:50  2019-03-19 23:32:33           2      0.00  103.0   \n",
       "3793  2019-03-24 06:07:30  2019-03-24 06:12:22           1      1.50    6.5   \n",
       "3889  2019-03-30 06:42:55  2019-03-30 06:43:00           1      0.00    2.5   \n",
       "4118  2019-03-15 14:01:54  2019-03-15 14:01:59           1      0.00   25.0   \n",
       "4127  2019-03-01 05:18:21  2019-03-01 05:18:30           2      0.04    2.5   \n",
       "4281  2019-03-18 23:29:49  2019-03-18 23:38:00           1      2.10    9.0   \n",
       "4414  2019-03-29 20:42:47  2019-03-29 21:03:50           1      4.20   17.0   \n",
       "4772  2019-03-21 19:51:13  2019-03-21 19:57:03           1      0.72    5.5   \n",
       "4941  2019-03-01 08:12:28  2019-03-01 08:17:19           1      0.83    5.0   \n",
       "5263  2019-03-09 20:37:53  2019-03-09 21:07:20           1      4.99   22.0   \n",
       "5493  2019-03-06 12:14:00  2019-03-06 12:14:00           1      0.00   10.0   \n",
       "5624  2019-03-11 14:04:50  2019-03-11 14:04:50           1      0.00    2.5   \n",
       "5638  2019-03-13 12:22:00  2019-03-13 12:22:00           1      0.00   10.0   \n",
       "6083  2019-03-19 15:34:00  2019-03-19 15:34:00           1      0.00    5.0   \n",
       "\n",
       "        tip  tolls   total   color      payment pickup_zone  \\\n",
       "42    20.08   0.00  100.38  yellow  credit card         NaN   \n",
       "606    1.35   0.00    8.15  yellow  credit card         NaN   \n",
       "622   33.20  12.50  166.00  yellow  credit card         NaN   \n",
       "671    0.00   0.00    7.30  yellow         cash         NaN   \n",
       "712    1.75   0.00   10.55  yellow  credit card         NaN   \n",
       "970    5.00   0.00   50.30  yellow  credit card         NaN   \n",
       "1108  11.70   5.76   70.26  yellow  credit card         NaN   \n",
       "1961  13.11   5.76   78.67  yellow  credit card         NaN   \n",
       "2137   3.05   0.00   18.35  yellow  credit card         NaN   \n",
       "2742   0.00   0.00   55.80  yellow  credit card         NaN   \n",
       "3085   0.00   0.00   15.30  yellow         cash         NaN   \n",
       "3259   1.70   0.00   10.50  yellow  credit card         NaN   \n",
       "3644  20.65   0.00  123.95  yellow  credit card         NaN   \n",
       "3793   0.00   0.00    9.80  yellow          NaN         NaN   \n",
       "3889   0.00   0.00    3.30  yellow         cash         NaN   \n",
       "4118   5.06   0.00   30.36  yellow  credit card         NaN   \n",
       "4127   0.00   0.00    3.80  yellow         cash         NaN   \n",
       "4281   2.06   0.00   12.36  yellow  credit card         NaN   \n",
       "4414   4.80   5.76   28.86  yellow  credit card         NaN   \n",
       "4772   1.46   0.00    8.76  yellow  credit card         NaN   \n",
       "4941   2.50   0.00   10.80  yellow  credit card         NaN   \n",
       "5263   5.16   0.00   30.96  yellow  credit card         NaN   \n",
       "5493   0.00   0.00   10.00   green  credit card         NaN   \n",
       "5624   0.00   0.00    3.30   green         cash         NaN   \n",
       "5638   0.00   0.00   10.00   green  credit card         NaN   \n",
       "6083   0.00   0.00    5.00   green  credit card         NaN   \n",
       "\n",
       "                   dropoff_zone pickup_borough dropoff_borough  \\\n",
       "42                          NaN            NaN             NaN   \n",
       "606       Upper East Side South            NaN       Manhattan   \n",
       "622                         NaN            NaN             NaN   \n",
       "671         Lincoln Square East            NaN       Manhattan   \n",
       "712   West Chelsea/Hudson Yards            NaN       Manhattan   \n",
       "970                         NaN            NaN             NaN   \n",
       "1108                        NaN            NaN             NaN   \n",
       "1961           Garment District            NaN       Manhattan   \n",
       "2137                        NaN            NaN             NaN   \n",
       "2742                        NaN            NaN             NaN   \n",
       "3085                        NaN            NaN             NaN   \n",
       "3259                        NaN            NaN             NaN   \n",
       "3644                        NaN            NaN             NaN   \n",
       "3793               Midtown East            NaN       Manhattan   \n",
       "3889                        NaN            NaN             NaN   \n",
       "4118                        NaN            NaN             NaN   \n",
       "4127                        NaN            NaN             NaN   \n",
       "4281                        NaN            NaN             NaN   \n",
       "4414                        NaN            NaN             NaN   \n",
       "4772                        NaN            NaN             NaN   \n",
       "4941                        NaN            NaN             NaN   \n",
       "5263                        NaN            NaN             NaN   \n",
       "5493                        NaN            NaN             NaN   \n",
       "5624                        NaN            NaN             NaN   \n",
       "5638                        NaN            NaN             NaN   \n",
       "6083                        NaN            NaN             NaN   \n",
       "\n",
       "              pickuptime            droptime        day        duration  \n",
       "42   2019-03-30 23:59:14 2019-03-30 23:59:17   Saturday 0 days 00:00:03  \n",
       "606  2019-03-19 15:04:40 2019-03-19 15:06:15    Tuesday 0 days 00:01:35  \n",
       "622  2019-03-12 19:52:36 2019-03-12 19:52:55    Tuesday 0 days 00:00:19  \n",
       "671  2019-03-09 22:45:46 2019-03-09 22:46:50   Saturday 0 days 00:01:04  \n",
       "712  2019-03-03 01:24:45 2019-03-03 01:29:32     Sunday 0 days 00:04:47  \n",
       "970  2019-03-29 00:02:00 2019-03-29 00:02:05     Friday 0 days 00:00:05  \n",
       "1108 2019-03-10 09:33:13 2019-03-10 09:52:04     Sunday 0 days 00:18:51  \n",
       "1961 2019-03-19 16:43:59 2019-03-19 17:37:22    Tuesday 0 days 00:53:23  \n",
       "2137 2019-03-08 13:27:32 2019-03-08 13:46:23     Friday 0 days 00:18:51  \n",
       "2742 2019-03-23 06:20:27 2019-03-23 06:20:59   Saturday 0 days 00:00:32  \n",
       "3085 2019-03-24 15:43:02 2019-03-24 16:02:57     Sunday 0 days 00:19:55  \n",
       "3259 2019-03-30 00:39:09 2019-03-30 00:43:34   Saturday 0 days 00:04:25  \n",
       "3644 2019-03-19 23:30:50 2019-03-19 23:32:33    Tuesday 0 days 00:01:43  \n",
       "3793 2019-03-24 06:07:30 2019-03-24 06:12:22     Sunday 0 days 00:04:52  \n",
       "3889 2019-03-30 06:42:55 2019-03-30 06:43:00   Saturday 0 days 00:00:05  \n",
       "4118 2019-03-15 14:01:54 2019-03-15 14:01:59     Friday 0 days 00:00:05  \n",
       "4127 2019-03-01 05:18:21 2019-03-01 05:18:30     Friday 0 days 00:00:09  \n",
       "4281 2019-03-18 23:29:49 2019-03-18 23:38:00     Monday 0 days 00:08:11  \n",
       "4414 2019-03-29 20:42:47 2019-03-29 21:03:50     Friday 0 days 00:21:03  \n",
       "4772 2019-03-21 19:51:13 2019-03-21 19:57:03   Thursday 0 days 00:05:50  \n",
       "4941 2019-03-01 08:12:28 2019-03-01 08:17:19     Friday 0 days 00:04:51  \n",
       "5263 2019-03-09 20:37:53 2019-03-09 21:07:20   Saturday 0 days 00:29:27  \n",
       "5493 2019-03-06 12:14:00 2019-03-06 12:14:00  Wednesday 0 days 00:00:00  \n",
       "5624 2019-03-11 14:04:50 2019-03-11 14:04:50     Monday 0 days 00:00:00  \n",
       "5638 2019-03-13 12:22:00 2019-03-13 12:22:00  Wednesday 0 days 00:00:00  \n",
       "6083 2019-03-19 15:34:00 2019-03-19 15:34:00    Tuesday 0 days 00:00:00  "
      ]
     },
     "execution_count": 21,
     "metadata": {},
     "output_type": "execute_result"
    }
   ],
   "source": [
    "df_sub = df[df[\"pickup_zone\"].isnull()]\n",
    "df_sub"
   ]
  },
  {
   "cell_type": "code",
   "execution_count": null,
   "metadata": {
    "cell_id": "7b57ee8d06a548bfb4366312d4c62610",
    "deepnote_cell_type": "code",
    "deepnote_to_be_reexecuted": false,
    "editable": true,
    "execution_millis": 197,
    "execution_start": 1697228919782,
    "scrolled": true,
    "slideshow": {
     "slide_type": ""
    },
    "source_hash": null,
    "tags": []
   },
   "outputs": [
    {
     "data": {
      "application/vnd.deepnote.dataframe.v3+json": {
       "column_count": 18,
       "columns": [
        {
         "dtype": "object",
         "name": "pickup",
         "stats": {
          "categories": [
           {
            "count": 2,
            "name": "2019-03-24 00:12:23"
           },
           {
            "count": 2,
            "name": "2019-03-17 12:10:05"
           },
           {
            "count": 6403,
            "name": "6386 others"
           }
          ],
          "nan_count": 0,
          "unique_count": 6388
         }
        },
        {
         "dtype": "object",
         "name": "dropoff",
         "stats": {
          "categories": [
           {
            "count": 2,
            "name": "2019-03-02 00:58:26"
           },
           {
            "count": 2,
            "name": "2019-03-26 17:39:56"
           },
           {
            "count": 6403,
            "name": "6397 others"
           }
          ],
          "nan_count": 0,
          "unique_count": 6399
         }
        },
        {
         "dtype": "int64",
         "name": "passengers",
         "stats": {
          "histogram": [
           {
            "bin_end": 0.6,
            "bin_start": 0,
            "count": 96
           },
           {
            "bin_end": 1.2,
            "bin_start": 0.6,
            "count": 4656
           },
           {
            "bin_end": 1.7999999999999998,
            "bin_start": 1.2,
            "count": 0
           },
           {
            "bin_end": 2.4,
            "bin_start": 1.7999999999999998,
            "count": 873
           },
           {
            "bin_end": 3,
            "bin_start": 2.4,
            "count": 0
           },
           {
            "bin_end": 3.5999999999999996,
            "bin_start": 3,
            "count": 242
           },
           {
            "bin_end": 4.2,
            "bin_start": 3.5999999999999996,
            "count": 110
           },
           {
            "bin_end": 4.8,
            "bin_start": 4.2,
            "count": 0
           },
           {
            "bin_end": 5.3999999999999995,
            "bin_start": 4.8,
            "count": 277
           },
           {
            "bin_end": 6,
            "bin_start": 5.3999999999999995,
            "count": 153
           }
          ],
          "max": "6",
          "min": "0",
          "nan_count": 0,
          "unique_count": 7
         }
        },
        {
         "dtype": "float64",
         "name": "distance",
         "stats": {
          "histogram": [
           {
            "bin_end": 3.6700000000000004,
            "bin_start": 0,
            "count": 5028
           },
           {
            "bin_end": 7.340000000000001,
            "bin_start": 3.6700000000000004,
            "count": 744
           },
           {
            "bin_end": 11.010000000000002,
            "bin_start": 7.340000000000001,
            "count": 319
           },
           {
            "bin_end": 14.680000000000001,
            "bin_start": 11.010000000000002,
            "count": 125
           },
           {
            "bin_end": 18.35,
            "bin_start": 14.680000000000001,
            "count": 102
           },
           {
            "bin_end": 22.020000000000003,
            "bin_start": 18.35,
            "count": 65
           },
           {
            "bin_end": 25.69,
            "bin_start": 22.020000000000003,
            "count": 15
           },
           {
            "bin_end": 29.360000000000003,
            "bin_start": 25.69,
            "count": 4
           },
           {
            "bin_end": 33.03,
            "bin_start": 29.360000000000003,
            "count": 1
           },
           {
            "bin_end": 36.7,
            "bin_start": 33.03,
            "count": 4
           }
          ],
          "max": "36.7",
          "min": "0.0",
          "nan_count": 0,
          "unique_count": 1077
         }
        },
        {
         "dtype": "float64",
         "name": "fare",
         "stats": {
          "histogram": [
           {
            "bin_end": 15.9,
            "bin_start": 1,
            "count": 4950
           },
           {
            "bin_end": 30.8,
            "bin_start": 15.9,
            "count": 980
           },
           {
            "bin_end": 45.7,
            "bin_start": 30.8,
            "count": 268
           },
           {
            "bin_end": 60.6,
            "bin_start": 45.7,
            "count": 181
           },
           {
            "bin_end": 75.5,
            "bin_start": 60.6,
            "count": 14
           },
           {
            "bin_end": 90.4,
            "bin_start": 75.5,
            "count": 7
           },
           {
            "bin_end": 105.3,
            "bin_start": 90.4,
            "count": 3
           },
           {
            "bin_end": 120.2,
            "bin_start": 105.3,
            "count": 0
           },
           {
            "bin_end": 135.1,
            "bin_start": 120.2,
            "count": 1
           },
           {
            "bin_end": 150,
            "bin_start": 135.1,
            "count": 3
           }
          ],
          "max": "150.0",
          "min": "1.0",
          "nan_count": 0,
          "unique_count": 217
         }
        },
        {
         "dtype": "float64",
         "name": "tip",
         "stats": {
          "histogram": [
           {
            "bin_end": 2.319,
            "bin_start": 0,
            "count": 4255
           },
           {
            "bin_end": 4.638,
            "bin_start": 2.319,
            "count": 1569
           },
           {
            "bin_end": 6.957,
            "bin_start": 4.638,
            "count": 306
           },
           {
            "bin_end": 9.276,
            "bin_start": 6.957,
            "count": 126
           },
           {
            "bin_end": 11.594999999999999,
            "bin_start": 9.276,
            "count": 77
           },
           {
            "bin_end": 13.914,
            "bin_start": 11.594999999999999,
            "count": 54
           },
           {
            "bin_end": 16.233,
            "bin_start": 13.914,
            "count": 11
           },
           {
            "bin_end": 18.552,
            "bin_start": 16.233,
            "count": 6
           },
           {
            "bin_end": 20.871,
            "bin_start": 18.552,
            "count": 2
           },
           {
            "bin_end": 23.19,
            "bin_start": 20.871,
            "count": 1
           }
          ],
          "max": "23.19",
          "min": "0.0",
          "nan_count": 0,
          "unique_count": 485
         }
        },
        {
         "dtype": "float64",
         "name": "tolls",
         "stats": {
          "histogram": [
           {
            "bin_end": 2.402,
            "bin_start": 0,
            "count": 6061
           },
           {
            "bin_end": 4.804,
            "bin_start": 2.402,
            "count": 8
           },
           {
            "bin_end": 7.206,
            "bin_start": 4.804,
            "count": 326
           },
           {
            "bin_end": 9.608,
            "bin_start": 7.206,
            "count": 3
           },
           {
            "bin_end": 12.010000000000002,
            "bin_start": 9.608,
            "count": 4
           },
           {
            "bin_end": 14.412,
            "bin_start": 12.010000000000002,
            "count": 1
           },
           {
            "bin_end": 16.814,
            "bin_start": 14.412,
            "count": 1
           },
           {
            "bin_end": 19.216,
            "bin_start": 16.814,
            "count": 2
           },
           {
            "bin_end": 21.618000000000002,
            "bin_start": 19.216,
            "count": 0
           },
           {
            "bin_end": 24.02,
            "bin_start": 21.618000000000002,
            "count": 1
           }
          ],
          "max": "24.02",
          "min": "0.0",
          "nan_count": 0,
          "unique_count": 16
         }
        },
        {
         "dtype": "float64",
         "name": "total",
         "stats": {
          "histogram": [
           {
            "bin_end": 18.651999999999997,
            "bin_start": 1.3,
            "count": 4492
           },
           {
            "bin_end": 36.00399999999999,
            "bin_start": 18.651999999999997,
            "count": 1363
           },
           {
            "bin_end": 53.35599999999999,
            "bin_start": 36.00399999999999,
            "count": 306
           },
           {
            "bin_end": 70.70799999999998,
            "bin_start": 53.35599999999999,
            "count": 158
           },
           {
            "bin_end": 88.05999999999999,
            "bin_start": 70.70799999999998,
            "count": 77
           },
           {
            "bin_end": 105.41199999999998,
            "bin_start": 88.05999999999999,
            "count": 4
           },
           {
            "bin_end": 122.76399999999997,
            "bin_start": 105.41199999999998,
            "count": 2
           },
           {
            "bin_end": 140.11599999999999,
            "bin_start": 122.76399999999997,
            "count": 2
           },
           {
            "bin_end": 157.468,
            "bin_start": 140.11599999999999,
            "count": 1
           },
           {
            "bin_end": 174.82,
            "bin_start": 157.468,
            "count": 2
           }
          ],
          "max": "174.82",
          "min": "1.3",
          "nan_count": 0,
          "unique_count": 893
         }
        },
        {
         "dtype": "object",
         "name": "color",
         "stats": {
          "categories": [
           {
            "count": 5429,
            "name": "yellow"
           },
           {
            "count": 978,
            "name": "green"
           }
          ],
          "nan_count": 0,
          "unique_count": 2
         }
        },
        {
         "dtype": "object",
         "name": "payment",
         "stats": {
          "categories": [
           {
            "count": 4557,
            "name": "credit card"
           },
           {
            "count": 1807,
            "name": "cash"
           },
           {
            "count": 43,
            "name": "Missing"
           }
          ],
          "nan_count": 43,
          "unique_count": 2
         }
        },
        {
         "dtype": "object",
         "name": "pickup_zone",
         "stats": {
          "categories": [
           {
            "count": 230,
            "name": "Midtown Center"
           },
           {
            "count": 211,
            "name": "Upper East Side South"
           },
           {
            "count": 5966,
            "name": "192 others"
           }
          ],
          "nan_count": 0,
          "unique_count": 194
         }
        },
        {
         "dtype": "object",
         "name": "dropoff_zone",
         "stats": {
          "categories": [
           {
            "count": 245,
            "name": "Upper East Side North"
           },
           {
            "count": 6138,
            "name": "202 others"
           },
           {
            "count": 24,
            "name": "Missing"
           }
          ],
          "nan_count": 24,
          "unique_count": 203
         }
        },
        {
         "dtype": "object",
         "name": "pickup_borough",
         "stats": {
          "categories": [
           {
            "count": 5268,
            "name": "Manhattan"
           },
           {
            "count": 657,
            "name": "Queens"
           },
           {
            "count": 482,
            "name": "2 others"
           }
          ],
          "nan_count": 0,
          "unique_count": 4
         }
        },
        {
         "dtype": "object",
         "name": "dropoff_borough",
         "stats": {
          "categories": [
           {
            "count": 5201,
            "name": "Manhattan"
           },
           {
            "count": 1182,
            "name": "4 others"
           },
           {
            "count": 24,
            "name": "Missing"
           }
          ],
          "nan_count": 24,
          "unique_count": 5
         }
        },
        {
         "dtype": "datetime64[ns]",
         "name": "pickuptime",
         "stats": {
          "histogram": [
           {
            "bin_end": 1551664471200000000,
            "bin_start": 1551396543000000000,
            "count": 610
           },
           {
            "bin_end": 1551932399400000000,
            "bin_start": 1551664471200000000,
            "count": 665
           },
           {
            "bin_end": 1552200327600000000,
            "bin_start": 1551932399400000000,
            "count": 674
           },
           {
            "bin_end": 1552468255800000000,
            "bin_start": 1552200327600000000,
            "count": 608
           },
           {
            "bin_end": 1552736184000000000,
            "bin_start": 1552468255800000000,
            "count": 751
           },
           {
            "bin_end": 1553004112200000000,
            "bin_start": 1552736184000000000,
            "count": 578
           },
           {
            "bin_end": 1553272040400000000,
            "bin_start": 1553004112200000000,
            "count": 689
           },
           {
            "bin_end": 1553539968600000000,
            "bin_start": 1553272040400000000,
            "count": 566
           },
           {
            "bin_end": 1553807896800000000,
            "bin_start": 1553539968600000000,
            "count": 635
           },
           {
            "bin_end": 1554075825000000000,
            "bin_start": 1553807896800000000,
            "count": 631
           }
          ],
          "max": "2019-03-31 23:43:45",
          "min": "2019-02-28 23:29:03",
          "nan_count": 0,
          "unique_count": 6388
         }
        },
        {
         "dtype": "datetime64[ns]",
         "name": "droptime"
        },
        {
         "dtype": "object",
         "name": "day"
        },
        {
         "dtype": "timedelta64[ns]",
         "name": "duration"
        },
        {
         "dtype": "int64",
         "name": "_deepnote_index_column"
        }
       ],
       "row_count": 6407,
       "rows": [
        {
         "_deepnote_index_column": 0,
         "color": "yellow",
         "day": "Saturday",
         "distance": 1.6,
         "dropoff": "2019-03-23 20:27:24",
         "dropoff_borough": "Manhattan",
         "dropoff_zone": "UN/Turtle Bay South",
         "droptime": "2019-03-23 20:27:24",
         "duration": "0 days 00:06:15",
         "fare": 7,
         "passengers": 1,
         "payment": "credit card",
         "pickup": "2019-03-23 20:21:09",
         "pickup_borough": "Manhattan",
         "pickup_zone": "Lenox Hill West",
         "pickuptime": "2019-03-23 20:21:09",
         "tip": 2.15,
         "tolls": 0,
         "total": 12.95
        },
        {
         "_deepnote_index_column": 1,
         "color": "yellow",
         "day": "Monday",
         "distance": 0.79,
         "dropoff": "2019-03-04 16:19:00",
         "dropoff_borough": "Manhattan",
         "dropoff_zone": "Upper West Side South",
         "droptime": "2019-03-04 16:19:00",
         "duration": "0 days 00:07:05",
         "fare": 5,
         "passengers": 1,
         "payment": "cash",
         "pickup": "2019-03-04 16:11:55",
         "pickup_borough": "Manhattan",
         "pickup_zone": "Upper West Side South",
         "pickuptime": "2019-03-04 16:11:55",
         "tip": 0,
         "tolls": 0,
         "total": 9.3
        },
        {
         "_deepnote_index_column": 2,
         "color": "yellow",
         "day": "Wednesday",
         "distance": 1.37,
         "dropoff": "2019-03-27 18:00:25",
         "dropoff_borough": "Manhattan",
         "dropoff_zone": "West Village",
         "droptime": "2019-03-27 18:00:25",
         "duration": "0 days 00:07:24",
         "fare": 7.5,
         "passengers": 1,
         "payment": "credit card",
         "pickup": "2019-03-27 17:53:01",
         "pickup_borough": "Manhattan",
         "pickup_zone": "Alphabet City",
         "pickuptime": "2019-03-27 17:53:01",
         "tip": 2.36,
         "tolls": 0,
         "total": 14.16
        },
        {
         "_deepnote_index_column": 3,
         "color": "yellow",
         "day": "Sunday",
         "distance": 7.7,
         "dropoff": "2019-03-10 01:49:51",
         "dropoff_borough": "Manhattan",
         "dropoff_zone": "Yorkville West",
         "droptime": "2019-03-10 01:49:51",
         "duration": "0 days 00:25:52",
         "fare": 27,
         "passengers": 1,
         "payment": "credit card",
         "pickup": "2019-03-10 01:23:59",
         "pickup_borough": "Manhattan",
         "pickup_zone": "Hudson Sq",
         "pickuptime": "2019-03-10 01:23:59",
         "tip": 6.15,
         "tolls": 0,
         "total": 36.95
        },
        {
         "_deepnote_index_column": 4,
         "color": "yellow",
         "day": "Saturday",
         "distance": 2.16,
         "dropoff": "2019-03-30 13:37:14",
         "dropoff_borough": "Manhattan",
         "dropoff_zone": "Yorkville West",
         "droptime": "2019-03-30 13:37:14",
         "duration": "0 days 00:09:32",
         "fare": 9,
         "passengers": 3,
         "payment": "credit card",
         "pickup": "2019-03-30 13:27:42",
         "pickup_borough": "Manhattan",
         "pickup_zone": "Midtown East",
         "pickuptime": "2019-03-30 13:27:42",
         "tip": 1.1,
         "tolls": 0,
         "total": 13.4
        },
        {
         "_deepnote_index_column": 5,
         "color": "yellow",
         "day": "Monday",
         "distance": 0.49,
         "dropoff": "2019-03-11 10:47:31",
         "dropoff_borough": "Manhattan",
         "dropoff_zone": "Midtown East",
         "droptime": "2019-03-11 10:47:31",
         "duration": "0 days 00:10:08",
         "fare": 7.5,
         "passengers": 1,
         "payment": "credit card",
         "pickup": "2019-03-11 10:37:23",
         "pickup_borough": "Manhattan",
         "pickup_zone": "Times Sq/Theatre District",
         "pickuptime": "2019-03-11 10:37:23",
         "tip": 2.16,
         "tolls": 0,
         "total": 12.96
        },
        {
         "_deepnote_index_column": 6,
         "color": "yellow",
         "day": "Tuesday",
         "distance": 3.65,
         "dropoff": "2019-03-26 21:17:29",
         "dropoff_borough": "Manhattan",
         "dropoff_zone": "Two Bridges/Seward Park",
         "droptime": "2019-03-26 21:17:29",
         "duration": "0 days 00:09:58",
         "fare": 13,
         "passengers": 1,
         "payment": "credit card",
         "pickup": "2019-03-26 21:07:31",
         "pickup_borough": "Manhattan",
         "pickup_zone": "Battery Park City",
         "pickuptime": "2019-03-26 21:07:31",
         "tip": 2,
         "tolls": 0,
         "total": 18.8
        },
        {
         "_deepnote_index_column": 7,
         "color": "yellow",
         "day": "Friday",
         "distance": 1.4,
         "dropoff": "2019-03-22 12:58:17",
         "dropoff_borough": "Manhattan",
         "dropoff_zone": "Flatiron",
         "droptime": "2019-03-22 12:58:17",
         "duration": "0 days 00:11:04",
         "fare": 8.5,
         "passengers": 0,
         "payment": "nan",
         "pickup": "2019-03-22 12:47:13",
         "pickup_borough": "Manhattan",
         "pickup_zone": "Murray Hill",
         "pickuptime": "2019-03-22 12:47:13",
         "tip": 0,
         "tolls": 0,
         "total": 11.8
        },
        {
         "_deepnote_index_column": 8,
         "color": "yellow",
         "day": "Saturday",
         "distance": 3.63,
         "dropoff": "2019-03-23 12:06:14",
         "dropoff_borough": "Manhattan",
         "dropoff_zone": "Midtown Center",
         "droptime": "2019-03-23 12:06:14",
         "duration": "0 days 00:17:24",
         "fare": 15,
         "passengers": 1,
         "payment": "credit card",
         "pickup": "2019-03-23 11:48:50",
         "pickup_borough": "Manhattan",
         "pickup_zone": "East Harlem South",
         "pickuptime": "2019-03-23 11:48:50",
         "tip": 1,
         "tolls": 0,
         "total": 19.3
        },
        {
         "_deepnote_index_column": 9,
         "color": "yellow",
         "day": "Friday",
         "distance": 1.52,
         "dropoff": "2019-03-08 16:26:57",
         "dropoff_borough": "Manhattan",
         "dropoff_zone": "Central Park",
         "droptime": "2019-03-08 16:26:57",
         "duration": "0 days 00:08:20",
         "fare": 8,
         "passengers": 1,
         "payment": "credit card",
         "pickup": "2019-03-08 16:18:37",
         "pickup_borough": "Manhattan",
         "pickup_zone": "Lincoln Square East",
         "pickuptime": "2019-03-08 16:18:37",
         "tip": 1,
         "tolls": 0,
         "total": 13.3
        }
       ]
      },
      "text/html": [
       "<div>\n",
       "<style scoped>\n",
       "    .dataframe tbody tr th:only-of-type {\n",
       "        vertical-align: middle;\n",
       "    }\n",
       "\n",
       "    .dataframe tbody tr th {\n",
       "        vertical-align: top;\n",
       "    }\n",
       "\n",
       "    .dataframe thead th {\n",
       "        text-align: right;\n",
       "    }\n",
       "</style>\n",
       "<table border=\"1\" class=\"dataframe\">\n",
       "  <thead>\n",
       "    <tr style=\"text-align: right;\">\n",
       "      <th></th>\n",
       "      <th>pickup</th>\n",
       "      <th>dropoff</th>\n",
       "      <th>passengers</th>\n",
       "      <th>distance</th>\n",
       "      <th>fare</th>\n",
       "      <th>tip</th>\n",
       "      <th>tolls</th>\n",
       "      <th>total</th>\n",
       "      <th>color</th>\n",
       "      <th>payment</th>\n",
       "      <th>pickup_zone</th>\n",
       "      <th>dropoff_zone</th>\n",
       "      <th>pickup_borough</th>\n",
       "      <th>dropoff_borough</th>\n",
       "      <th>pickuptime</th>\n",
       "      <th>droptime</th>\n",
       "      <th>day</th>\n",
       "      <th>duration</th>\n",
       "    </tr>\n",
       "  </thead>\n",
       "  <tbody>\n",
       "    <tr>\n",
       "      <th>0</th>\n",
       "      <td>2019-03-23 20:21:09</td>\n",
       "      <td>2019-03-23 20:27:24</td>\n",
       "      <td>1</td>\n",
       "      <td>1.60</td>\n",
       "      <td>7.0</td>\n",
       "      <td>2.15</td>\n",
       "      <td>0.0</td>\n",
       "      <td>12.95</td>\n",
       "      <td>yellow</td>\n",
       "      <td>credit card</td>\n",
       "      <td>Lenox Hill West</td>\n",
       "      <td>UN/Turtle Bay South</td>\n",
       "      <td>Manhattan</td>\n",
       "      <td>Manhattan</td>\n",
       "      <td>2019-03-23 20:21:09</td>\n",
       "      <td>2019-03-23 20:27:24</td>\n",
       "      <td>Saturday</td>\n",
       "      <td>0 days 00:06:15</td>\n",
       "    </tr>\n",
       "    <tr>\n",
       "      <th>1</th>\n",
       "      <td>2019-03-04 16:11:55</td>\n",
       "      <td>2019-03-04 16:19:00</td>\n",
       "      <td>1</td>\n",
       "      <td>0.79</td>\n",
       "      <td>5.0</td>\n",
       "      <td>0.00</td>\n",
       "      <td>0.0</td>\n",
       "      <td>9.30</td>\n",
       "      <td>yellow</td>\n",
       "      <td>cash</td>\n",
       "      <td>Upper West Side South</td>\n",
       "      <td>Upper West Side South</td>\n",
       "      <td>Manhattan</td>\n",
       "      <td>Manhattan</td>\n",
       "      <td>2019-03-04 16:11:55</td>\n",
       "      <td>2019-03-04 16:19:00</td>\n",
       "      <td>Monday</td>\n",
       "      <td>0 days 00:07:05</td>\n",
       "    </tr>\n",
       "    <tr>\n",
       "      <th>2</th>\n",
       "      <td>2019-03-27 17:53:01</td>\n",
       "      <td>2019-03-27 18:00:25</td>\n",
       "      <td>1</td>\n",
       "      <td>1.37</td>\n",
       "      <td>7.5</td>\n",
       "      <td>2.36</td>\n",
       "      <td>0.0</td>\n",
       "      <td>14.16</td>\n",
       "      <td>yellow</td>\n",
       "      <td>credit card</td>\n",
       "      <td>Alphabet City</td>\n",
       "      <td>West Village</td>\n",
       "      <td>Manhattan</td>\n",
       "      <td>Manhattan</td>\n",
       "      <td>2019-03-27 17:53:01</td>\n",
       "      <td>2019-03-27 18:00:25</td>\n",
       "      <td>Wednesday</td>\n",
       "      <td>0 days 00:07:24</td>\n",
       "    </tr>\n",
       "    <tr>\n",
       "      <th>3</th>\n",
       "      <td>2019-03-10 01:23:59</td>\n",
       "      <td>2019-03-10 01:49:51</td>\n",
       "      <td>1</td>\n",
       "      <td>7.70</td>\n",
       "      <td>27.0</td>\n",
       "      <td>6.15</td>\n",
       "      <td>0.0</td>\n",
       "      <td>36.95</td>\n",
       "      <td>yellow</td>\n",
       "      <td>credit card</td>\n",
       "      <td>Hudson Sq</td>\n",
       "      <td>Yorkville West</td>\n",
       "      <td>Manhattan</td>\n",
       "      <td>Manhattan</td>\n",
       "      <td>2019-03-10 01:23:59</td>\n",
       "      <td>2019-03-10 01:49:51</td>\n",
       "      <td>Sunday</td>\n",
       "      <td>0 days 00:25:52</td>\n",
       "    </tr>\n",
       "    <tr>\n",
       "      <th>4</th>\n",
       "      <td>2019-03-30 13:27:42</td>\n",
       "      <td>2019-03-30 13:37:14</td>\n",
       "      <td>3</td>\n",
       "      <td>2.16</td>\n",
       "      <td>9.0</td>\n",
       "      <td>1.10</td>\n",
       "      <td>0.0</td>\n",
       "      <td>13.40</td>\n",
       "      <td>yellow</td>\n",
       "      <td>credit card</td>\n",
       "      <td>Midtown East</td>\n",
       "      <td>Yorkville West</td>\n",
       "      <td>Manhattan</td>\n",
       "      <td>Manhattan</td>\n",
       "      <td>2019-03-30 13:27:42</td>\n",
       "      <td>2019-03-30 13:37:14</td>\n",
       "      <td>Saturday</td>\n",
       "      <td>0 days 00:09:32</td>\n",
       "    </tr>\n",
       "    <tr>\n",
       "      <th>...</th>\n",
       "      <td>...</td>\n",
       "      <td>...</td>\n",
       "      <td>...</td>\n",
       "      <td>...</td>\n",
       "      <td>...</td>\n",
       "      <td>...</td>\n",
       "      <td>...</td>\n",
       "      <td>...</td>\n",
       "      <td>...</td>\n",
       "      <td>...</td>\n",
       "      <td>...</td>\n",
       "      <td>...</td>\n",
       "      <td>...</td>\n",
       "      <td>...</td>\n",
       "      <td>...</td>\n",
       "      <td>...</td>\n",
       "      <td>...</td>\n",
       "      <td>...</td>\n",
       "    </tr>\n",
       "    <tr>\n",
       "      <th>6428</th>\n",
       "      <td>2019-03-31 09:51:53</td>\n",
       "      <td>2019-03-31 09:55:27</td>\n",
       "      <td>1</td>\n",
       "      <td>0.75</td>\n",
       "      <td>4.5</td>\n",
       "      <td>1.06</td>\n",
       "      <td>0.0</td>\n",
       "      <td>6.36</td>\n",
       "      <td>green</td>\n",
       "      <td>credit card</td>\n",
       "      <td>East Harlem North</td>\n",
       "      <td>Central Harlem North</td>\n",
       "      <td>Manhattan</td>\n",
       "      <td>Manhattan</td>\n",
       "      <td>2019-03-31 09:51:53</td>\n",
       "      <td>2019-03-31 09:55:27</td>\n",
       "      <td>Sunday</td>\n",
       "      <td>0 days 00:03:34</td>\n",
       "    </tr>\n",
       "    <tr>\n",
       "      <th>6429</th>\n",
       "      <td>2019-03-31 17:38:00</td>\n",
       "      <td>2019-03-31 18:34:23</td>\n",
       "      <td>1</td>\n",
       "      <td>18.74</td>\n",
       "      <td>58.0</td>\n",
       "      <td>0.00</td>\n",
       "      <td>0.0</td>\n",
       "      <td>58.80</td>\n",
       "      <td>green</td>\n",
       "      <td>credit card</td>\n",
       "      <td>Jamaica</td>\n",
       "      <td>East Concourse/Concourse Village</td>\n",
       "      <td>Queens</td>\n",
       "      <td>Bronx</td>\n",
       "      <td>2019-03-31 17:38:00</td>\n",
       "      <td>2019-03-31 18:34:23</td>\n",
       "      <td>Sunday</td>\n",
       "      <td>0 days 00:56:23</td>\n",
       "    </tr>\n",
       "    <tr>\n",
       "      <th>6430</th>\n",
       "      <td>2019-03-23 22:55:18</td>\n",
       "      <td>2019-03-23 23:14:25</td>\n",
       "      <td>1</td>\n",
       "      <td>4.14</td>\n",
       "      <td>16.0</td>\n",
       "      <td>0.00</td>\n",
       "      <td>0.0</td>\n",
       "      <td>17.30</td>\n",
       "      <td>green</td>\n",
       "      <td>cash</td>\n",
       "      <td>Crown Heights North</td>\n",
       "      <td>Bushwick North</td>\n",
       "      <td>Brooklyn</td>\n",
       "      <td>Brooklyn</td>\n",
       "      <td>2019-03-23 22:55:18</td>\n",
       "      <td>2019-03-23 23:14:25</td>\n",
       "      <td>Saturday</td>\n",
       "      <td>0 days 00:19:07</td>\n",
       "    </tr>\n",
       "    <tr>\n",
       "      <th>6431</th>\n",
       "      <td>2019-03-04 10:09:25</td>\n",
       "      <td>2019-03-04 10:14:29</td>\n",
       "      <td>1</td>\n",
       "      <td>1.12</td>\n",
       "      <td>6.0</td>\n",
       "      <td>0.00</td>\n",
       "      <td>0.0</td>\n",
       "      <td>6.80</td>\n",
       "      <td>green</td>\n",
       "      <td>credit card</td>\n",
       "      <td>East New York</td>\n",
       "      <td>East Flatbush/Remsen Village</td>\n",
       "      <td>Brooklyn</td>\n",
       "      <td>Brooklyn</td>\n",
       "      <td>2019-03-04 10:09:25</td>\n",
       "      <td>2019-03-04 10:14:29</td>\n",
       "      <td>Monday</td>\n",
       "      <td>0 days 00:05:04</td>\n",
       "    </tr>\n",
       "    <tr>\n",
       "      <th>6432</th>\n",
       "      <td>2019-03-13 19:31:22</td>\n",
       "      <td>2019-03-13 19:48:02</td>\n",
       "      <td>1</td>\n",
       "      <td>3.85</td>\n",
       "      <td>15.0</td>\n",
       "      <td>3.36</td>\n",
       "      <td>0.0</td>\n",
       "      <td>20.16</td>\n",
       "      <td>green</td>\n",
       "      <td>credit card</td>\n",
       "      <td>Boerum Hill</td>\n",
       "      <td>Windsor Terrace</td>\n",
       "      <td>Brooklyn</td>\n",
       "      <td>Brooklyn</td>\n",
       "      <td>2019-03-13 19:31:22</td>\n",
       "      <td>2019-03-13 19:48:02</td>\n",
       "      <td>Wednesday</td>\n",
       "      <td>0 days 00:16:40</td>\n",
       "    </tr>\n",
       "  </tbody>\n",
       "</table>\n",
       "<p>6407 rows × 18 columns</p>\n",
       "</div>"
      ],
      "text/plain": [
       "                   pickup              dropoff  passengers  distance  fare  \\\n",
       "0     2019-03-23 20:21:09  2019-03-23 20:27:24           1      1.60   7.0   \n",
       "1     2019-03-04 16:11:55  2019-03-04 16:19:00           1      0.79   5.0   \n",
       "2     2019-03-27 17:53:01  2019-03-27 18:00:25           1      1.37   7.5   \n",
       "3     2019-03-10 01:23:59  2019-03-10 01:49:51           1      7.70  27.0   \n",
       "4     2019-03-30 13:27:42  2019-03-30 13:37:14           3      2.16   9.0   \n",
       "...                   ...                  ...         ...       ...   ...   \n",
       "6428  2019-03-31 09:51:53  2019-03-31 09:55:27           1      0.75   4.5   \n",
       "6429  2019-03-31 17:38:00  2019-03-31 18:34:23           1     18.74  58.0   \n",
       "6430  2019-03-23 22:55:18  2019-03-23 23:14:25           1      4.14  16.0   \n",
       "6431  2019-03-04 10:09:25  2019-03-04 10:14:29           1      1.12   6.0   \n",
       "6432  2019-03-13 19:31:22  2019-03-13 19:48:02           1      3.85  15.0   \n",
       "\n",
       "       tip  tolls  total   color      payment            pickup_zone  \\\n",
       "0     2.15    0.0  12.95  yellow  credit card        Lenox Hill West   \n",
       "1     0.00    0.0   9.30  yellow         cash  Upper West Side South   \n",
       "2     2.36    0.0  14.16  yellow  credit card          Alphabet City   \n",
       "3     6.15    0.0  36.95  yellow  credit card              Hudson Sq   \n",
       "4     1.10    0.0  13.40  yellow  credit card           Midtown East   \n",
       "...    ...    ...    ...     ...          ...                    ...   \n",
       "6428  1.06    0.0   6.36   green  credit card      East Harlem North   \n",
       "6429  0.00    0.0  58.80   green  credit card                Jamaica   \n",
       "6430  0.00    0.0  17.30   green         cash    Crown Heights North   \n",
       "6431  0.00    0.0   6.80   green  credit card          East New York   \n",
       "6432  3.36    0.0  20.16   green  credit card            Boerum Hill   \n",
       "\n",
       "                          dropoff_zone pickup_borough dropoff_borough  \\\n",
       "0                  UN/Turtle Bay South      Manhattan       Manhattan   \n",
       "1                Upper West Side South      Manhattan       Manhattan   \n",
       "2                         West Village      Manhattan       Manhattan   \n",
       "3                       Yorkville West      Manhattan       Manhattan   \n",
       "4                       Yorkville West      Manhattan       Manhattan   \n",
       "...                                ...            ...             ...   \n",
       "6428              Central Harlem North      Manhattan       Manhattan   \n",
       "6429  East Concourse/Concourse Village         Queens           Bronx   \n",
       "6430                    Bushwick North       Brooklyn        Brooklyn   \n",
       "6431      East Flatbush/Remsen Village       Brooklyn        Brooklyn   \n",
       "6432                   Windsor Terrace       Brooklyn        Brooklyn   \n",
       "\n",
       "              pickuptime            droptime        day        duration  \n",
       "0    2019-03-23 20:21:09 2019-03-23 20:27:24   Saturday 0 days 00:06:15  \n",
       "1    2019-03-04 16:11:55 2019-03-04 16:19:00     Monday 0 days 00:07:05  \n",
       "2    2019-03-27 17:53:01 2019-03-27 18:00:25  Wednesday 0 days 00:07:24  \n",
       "3    2019-03-10 01:23:59 2019-03-10 01:49:51     Sunday 0 days 00:25:52  \n",
       "4    2019-03-30 13:27:42 2019-03-30 13:37:14   Saturday 0 days 00:09:32  \n",
       "...                  ...                 ...        ...             ...  \n",
       "6428 2019-03-31 09:51:53 2019-03-31 09:55:27     Sunday 0 days 00:03:34  \n",
       "6429 2019-03-31 17:38:00 2019-03-31 18:34:23     Sunday 0 days 00:56:23  \n",
       "6430 2019-03-23 22:55:18 2019-03-23 23:14:25   Saturday 0 days 00:19:07  \n",
       "6431 2019-03-04 10:09:25 2019-03-04 10:14:29     Monday 0 days 00:05:04  \n",
       "6432 2019-03-13 19:31:22 2019-03-13 19:48:02  Wednesday 0 days 00:16:40  \n",
       "\n",
       "[6407 rows x 18 columns]"
      ]
     },
     "execution_count": 22,
     "metadata": {},
     "output_type": "execute_result"
    }
   ],
   "source": [
    "df_sub = df[df[\"pickup_zone\"].notna()] #\"pickup_zone\" entry is not missing\n",
    "df_sub"
   ]
  },
  {
   "cell_type": "markdown",
   "metadata": {
    "cell_id": "240e9555fbea463180a357843029669f",
    "deepnote_cell_type": "markdown"
   },
   "source": [
    "* What if you tried to check for equality with `np.nan`?"
   ]
  },
  {
   "cell_type": "code",
   "execution_count": null,
   "metadata": {
    "cell_id": "d53ee59f550940728ddebb5dfbc8f497",
    "deepnote_cell_type": "code",
    "deepnote_to_be_reexecuted": false,
    "execution_millis": 283,
    "execution_start": 1697233427705,
    "source_hash": null
   },
   "outputs": [
    {
     "data": {
      "application/vnd.deepnote.dataframe.v3+json": {
       "column_count": 18,
       "columns": [
        {
         "dtype": "object",
         "name": "pickup",
         "stats": {
          "categories": [],
          "nan_count": 0,
          "unique_count": 0
         }
        },
        {
         "dtype": "object",
         "name": "dropoff",
         "stats": {
          "categories": [],
          "nan_count": 0,
          "unique_count": 0
         }
        },
        {
         "dtype": "int64",
         "name": "passengers",
         "stats": {
          "histogram": [
           {
            "bin_end": 0.1,
            "bin_start": 0,
            "count": 0
           },
           {
            "bin_end": 0.2,
            "bin_start": 0.1,
            "count": 0
           },
           {
            "bin_end": 0.30000000000000004,
            "bin_start": 0.2,
            "count": 0
           },
           {
            "bin_end": 0.4,
            "bin_start": 0.30000000000000004,
            "count": 0
           },
           {
            "bin_end": 0.5,
            "bin_start": 0.4,
            "count": 0
           },
           {
            "bin_end": 0.6000000000000001,
            "bin_start": 0.5,
            "count": 0
           },
           {
            "bin_end": 0.7000000000000001,
            "bin_start": 0.6000000000000001,
            "count": 0
           },
           {
            "bin_end": 0.8,
            "bin_start": 0.7000000000000001,
            "count": 0
           },
           {
            "bin_end": 0.9,
            "bin_start": 0.8,
            "count": 0
           },
           {
            "bin_end": 1,
            "bin_start": 0.9,
            "count": 0
           }
          ],
          "max": null,
          "min": null,
          "nan_count": 0,
          "unique_count": 0
         }
        },
        {
         "dtype": "float64",
         "name": "distance",
         "stats": {
          "histogram": [
           {
            "bin_end": 0.1,
            "bin_start": 0,
            "count": 0
           },
           {
            "bin_end": 0.2,
            "bin_start": 0.1,
            "count": 0
           },
           {
            "bin_end": 0.30000000000000004,
            "bin_start": 0.2,
            "count": 0
           },
           {
            "bin_end": 0.4,
            "bin_start": 0.30000000000000004,
            "count": 0
           },
           {
            "bin_end": 0.5,
            "bin_start": 0.4,
            "count": 0
           },
           {
            "bin_end": 0.6000000000000001,
            "bin_start": 0.5,
            "count": 0
           },
           {
            "bin_end": 0.7000000000000001,
            "bin_start": 0.6000000000000001,
            "count": 0
           },
           {
            "bin_end": 0.8,
            "bin_start": 0.7000000000000001,
            "count": 0
           },
           {
            "bin_end": 0.9,
            "bin_start": 0.8,
            "count": 0
           },
           {
            "bin_end": 1,
            "bin_start": 0.9,
            "count": 0
           }
          ],
          "max": null,
          "min": null,
          "nan_count": 0,
          "unique_count": 0
         }
        },
        {
         "dtype": "float64",
         "name": "fare",
         "stats": {
          "histogram": [
           {
            "bin_end": 0.1,
            "bin_start": 0,
            "count": 0
           },
           {
            "bin_end": 0.2,
            "bin_start": 0.1,
            "count": 0
           },
           {
            "bin_end": 0.30000000000000004,
            "bin_start": 0.2,
            "count": 0
           },
           {
            "bin_end": 0.4,
            "bin_start": 0.30000000000000004,
            "count": 0
           },
           {
            "bin_end": 0.5,
            "bin_start": 0.4,
            "count": 0
           },
           {
            "bin_end": 0.6000000000000001,
            "bin_start": 0.5,
            "count": 0
           },
           {
            "bin_end": 0.7000000000000001,
            "bin_start": 0.6000000000000001,
            "count": 0
           },
           {
            "bin_end": 0.8,
            "bin_start": 0.7000000000000001,
            "count": 0
           },
           {
            "bin_end": 0.9,
            "bin_start": 0.8,
            "count": 0
           },
           {
            "bin_end": 1,
            "bin_start": 0.9,
            "count": 0
           }
          ],
          "max": null,
          "min": null,
          "nan_count": 0,
          "unique_count": 0
         }
        },
        {
         "dtype": "float64",
         "name": "tip",
         "stats": {
          "histogram": [
           {
            "bin_end": 0.1,
            "bin_start": 0,
            "count": 0
           },
           {
            "bin_end": 0.2,
            "bin_start": 0.1,
            "count": 0
           },
           {
            "bin_end": 0.30000000000000004,
            "bin_start": 0.2,
            "count": 0
           },
           {
            "bin_end": 0.4,
            "bin_start": 0.30000000000000004,
            "count": 0
           },
           {
            "bin_end": 0.5,
            "bin_start": 0.4,
            "count": 0
           },
           {
            "bin_end": 0.6000000000000001,
            "bin_start": 0.5,
            "count": 0
           },
           {
            "bin_end": 0.7000000000000001,
            "bin_start": 0.6000000000000001,
            "count": 0
           },
           {
            "bin_end": 0.8,
            "bin_start": 0.7000000000000001,
            "count": 0
           },
           {
            "bin_end": 0.9,
            "bin_start": 0.8,
            "count": 0
           },
           {
            "bin_end": 1,
            "bin_start": 0.9,
            "count": 0
           }
          ],
          "max": null,
          "min": null,
          "nan_count": 0,
          "unique_count": 0
         }
        },
        {
         "dtype": "float64",
         "name": "tolls",
         "stats": {
          "histogram": [
           {
            "bin_end": 0.1,
            "bin_start": 0,
            "count": 0
           },
           {
            "bin_end": 0.2,
            "bin_start": 0.1,
            "count": 0
           },
           {
            "bin_end": 0.30000000000000004,
            "bin_start": 0.2,
            "count": 0
           },
           {
            "bin_end": 0.4,
            "bin_start": 0.30000000000000004,
            "count": 0
           },
           {
            "bin_end": 0.5,
            "bin_start": 0.4,
            "count": 0
           },
           {
            "bin_end": 0.6000000000000001,
            "bin_start": 0.5,
            "count": 0
           },
           {
            "bin_end": 0.7000000000000001,
            "bin_start": 0.6000000000000001,
            "count": 0
           },
           {
            "bin_end": 0.8,
            "bin_start": 0.7000000000000001,
            "count": 0
           },
           {
            "bin_end": 0.9,
            "bin_start": 0.8,
            "count": 0
           },
           {
            "bin_end": 1,
            "bin_start": 0.9,
            "count": 0
           }
          ],
          "max": null,
          "min": null,
          "nan_count": 0,
          "unique_count": 0
         }
        },
        {
         "dtype": "float64",
         "name": "total",
         "stats": {
          "histogram": [
           {
            "bin_end": 0.1,
            "bin_start": 0,
            "count": 0
           },
           {
            "bin_end": 0.2,
            "bin_start": 0.1,
            "count": 0
           },
           {
            "bin_end": 0.30000000000000004,
            "bin_start": 0.2,
            "count": 0
           },
           {
            "bin_end": 0.4,
            "bin_start": 0.30000000000000004,
            "count": 0
           },
           {
            "bin_end": 0.5,
            "bin_start": 0.4,
            "count": 0
           },
           {
            "bin_end": 0.6000000000000001,
            "bin_start": 0.5,
            "count": 0
           },
           {
            "bin_end": 0.7000000000000001,
            "bin_start": 0.6000000000000001,
            "count": 0
           },
           {
            "bin_end": 0.8,
            "bin_start": 0.7000000000000001,
            "count": 0
           },
           {
            "bin_end": 0.9,
            "bin_start": 0.8,
            "count": 0
           },
           {
            "bin_end": 1,
            "bin_start": 0.9,
            "count": 0
           }
          ],
          "max": null,
          "min": null,
          "nan_count": 0,
          "unique_count": 0
         }
        },
        {
         "dtype": "object",
         "name": "color",
         "stats": {
          "categories": [],
          "nan_count": 0,
          "unique_count": 0
         }
        },
        {
         "dtype": "object",
         "name": "payment",
         "stats": {
          "categories": [],
          "nan_count": 0,
          "unique_count": 0
         }
        },
        {
         "dtype": "object",
         "name": "pickup_zone",
         "stats": {
          "categories": [],
          "nan_count": 0,
          "unique_count": 0
         }
        },
        {
         "dtype": "object",
         "name": "dropoff_zone",
         "stats": {
          "categories": [],
          "nan_count": 0,
          "unique_count": 0
         }
        },
        {
         "dtype": "object",
         "name": "pickup_borough",
         "stats": {
          "categories": [],
          "nan_count": 0,
          "unique_count": 0
         }
        },
        {
         "dtype": "object",
         "name": "dropoff_borough",
         "stats": {
          "categories": [],
          "nan_count": 0,
          "unique_count": 0
         }
        },
        {
         "dtype": "datetime64[ns]",
         "name": "pickuptime",
         "stats": {
          "histogram": [
           {
            "bin_end": 0.1,
            "bin_start": 0,
            "count": 0
           },
           {
            "bin_end": 0.2,
            "bin_start": 0.1,
            "count": 0
           },
           {
            "bin_end": 0.30000000000000004,
            "bin_start": 0.2,
            "count": 0
           },
           {
            "bin_end": 0.4,
            "bin_start": 0.30000000000000004,
            "count": 0
           },
           {
            "bin_end": 0.5,
            "bin_start": 0.4,
            "count": 0
           },
           {
            "bin_end": 0.6000000000000001,
            "bin_start": 0.5,
            "count": 0
           },
           {
            "bin_end": 0.7000000000000001,
            "bin_start": 0.6000000000000001,
            "count": 0
           },
           {
            "bin_end": 0.8,
            "bin_start": 0.7000000000000001,
            "count": 0
           },
           {
            "bin_end": 0.9,
            "bin_start": 0.8,
            "count": 0
           },
           {
            "bin_end": 1,
            "bin_start": 0.9,
            "count": 0
           }
          ],
          "max": null,
          "min": null,
          "nan_count": 0,
          "unique_count": 0
         }
        },
        {
         "dtype": "datetime64[ns]",
         "name": "droptime",
         "stats": {
          "histogram": [
           {
            "bin_end": 0.1,
            "bin_start": 0,
            "count": 0
           },
           {
            "bin_end": 0.2,
            "bin_start": 0.1,
            "count": 0
           },
           {
            "bin_end": 0.30000000000000004,
            "bin_start": 0.2,
            "count": 0
           },
           {
            "bin_end": 0.4,
            "bin_start": 0.30000000000000004,
            "count": 0
           },
           {
            "bin_end": 0.5,
            "bin_start": 0.4,
            "count": 0
           },
           {
            "bin_end": 0.6000000000000001,
            "bin_start": 0.5,
            "count": 0
           },
           {
            "bin_end": 0.7000000000000001,
            "bin_start": 0.6000000000000001,
            "count": 0
           },
           {
            "bin_end": 0.8,
            "bin_start": 0.7000000000000001,
            "count": 0
           },
           {
            "bin_end": 0.9,
            "bin_start": 0.8,
            "count": 0
           },
           {
            "bin_end": 1,
            "bin_start": 0.9,
            "count": 0
           }
          ],
          "max": null,
          "min": null,
          "nan_count": 0,
          "unique_count": 0
         }
        },
        {
         "dtype": "object",
         "name": "day",
         "stats": {
          "categories": [],
          "nan_count": 0,
          "unique_count": 0
         }
        },
        {
         "dtype": "timedelta64[ns]",
         "name": "duration",
         "stats": {
          "histogram": [
           {
            "bin_end": 0.1,
            "bin_start": 0,
            "count": 0
           },
           {
            "bin_end": 0.2,
            "bin_start": 0.1,
            "count": 0
           },
           {
            "bin_end": 0.30000000000000004,
            "bin_start": 0.2,
            "count": 0
           },
           {
            "bin_end": 0.4,
            "bin_start": 0.30000000000000004,
            "count": 0
           },
           {
            "bin_end": 0.5,
            "bin_start": 0.4,
            "count": 0
           },
           {
            "bin_end": 0.6000000000000001,
            "bin_start": 0.5,
            "count": 0
           },
           {
            "bin_end": 0.7000000000000001,
            "bin_start": 0.6000000000000001,
            "count": 0
           },
           {
            "bin_end": 0.8,
            "bin_start": 0.7000000000000001,
            "count": 0
           },
           {
            "bin_end": 0.9,
            "bin_start": 0.8,
            "count": 0
           },
           {
            "bin_end": 1,
            "bin_start": 0.9,
            "count": 0
           }
          ],
          "max": null,
          "min": null,
          "nan_count": 0,
          "unique_count": 0
         }
        },
        {
         "dtype": "int64",
         "name": "_deepnote_index_column"
        }
       ],
       "row_count": 0,
       "rows": []
      },
      "text/html": [
       "<div>\n",
       "<style scoped>\n",
       "    .dataframe tbody tr th:only-of-type {\n",
       "        vertical-align: middle;\n",
       "    }\n",
       "\n",
       "    .dataframe tbody tr th {\n",
       "        vertical-align: top;\n",
       "    }\n",
       "\n",
       "    .dataframe thead th {\n",
       "        text-align: right;\n",
       "    }\n",
       "</style>\n",
       "<table border=\"1\" class=\"dataframe\">\n",
       "  <thead>\n",
       "    <tr style=\"text-align: right;\">\n",
       "      <th></th>\n",
       "      <th>pickup</th>\n",
       "      <th>dropoff</th>\n",
       "      <th>passengers</th>\n",
       "      <th>distance</th>\n",
       "      <th>fare</th>\n",
       "      <th>tip</th>\n",
       "      <th>tolls</th>\n",
       "      <th>total</th>\n",
       "      <th>color</th>\n",
       "      <th>payment</th>\n",
       "      <th>pickup_zone</th>\n",
       "      <th>dropoff_zone</th>\n",
       "      <th>pickup_borough</th>\n",
       "      <th>dropoff_borough</th>\n",
       "      <th>pickuptime</th>\n",
       "      <th>droptime</th>\n",
       "      <th>day</th>\n",
       "      <th>duration</th>\n",
       "    </tr>\n",
       "  </thead>\n",
       "  <tbody>\n",
       "  </tbody>\n",
       "</table>\n",
       "</div>"
      ],
      "text/plain": [
       "Empty DataFrame\n",
       "Columns: [pickup, dropoff, passengers, distance, fare, tip, tolls, total, color, payment, pickup_zone, dropoff_zone, pickup_borough, dropoff_borough, pickuptime, droptime, day, duration]\n",
       "Index: []"
      ]
     },
     "execution_count": 10,
     "metadata": {},
     "output_type": "execute_result"
    }
   ],
   "source": [
    "import numpy as np\n",
    "df[df[\"pickup_zone\"] == np.nan] #empty"
   ]
  },
  {
   "cell_type": "code",
   "execution_count": null,
   "metadata": {
    "cell_id": "de450ad58bdf4c13965452788054d8f8",
    "deepnote_cell_type": "code",
    "deepnote_to_be_reexecuted": false,
    "execution_millis": 30,
    "execution_start": 1697233432360,
    "source_hash": null
   },
   "outputs": [
    {
     "data": {
      "text/plain": [
       "False"
      ]
     },
     "execution_count": 11,
     "metadata": {},
     "output_type": "execute_result"
    }
   ],
   "source": [
    "np.nan == np.nan #not equal to itself"
   ]
  },
  {
   "cell_type": "code",
   "execution_count": null,
   "metadata": {
    "cell_id": "5cbc99980f0848299dd56a8de1c1df1e",
    "deepnote_cell_type": "code",
    "deepnote_to_be_reexecuted": false,
    "execution_millis": 31,
    "execution_start": 1697233436201,
    "source_hash": null
   },
   "outputs": [
    {
     "data": {
      "text/plain": [
       "True"
      ]
     },
     "execution_count": 12,
     "metadata": {},
     "output_type": "execute_result"
    }
   ],
   "source": [
    "np.nan != np.nan "
   ]
  },
  {
   "cell_type": "markdown",
   "metadata": {
    "cell_id": "0f4773f11cca40f0bd295aa2ad2029eb",
    "deepnote_cell_type": "markdown"
   },
   "source": [
    "## Worse approach: Using a for loop\n",
    "\n",
    "We used `str` and `contains` to find the sub-DataFrame containing the rows where both the “pickup_zone” and the “dropoff_zone” involved an airport.\n",
    "\n",
    "Here we’re going to go through the 6433 rows, one at a time. We will do that by going through the integers from 0 (inclusive) to 6433 (exclusive) one at a time. We can do that using `for i in range(6433):`. (In Matlab, we would do something like for `i = 1:6433`.)"
   ]
  },
  {
   "cell_type": "code",
   "execution_count": null,
   "metadata": {
    "cell_id": "be9d751b26d44691b949ade3d86e86d0",
    "deepnote_cell_type": "code",
    "deepnote_to_be_reexecuted": false,
    "execution_millis": 248,
    "execution_start": 1697233562901,
    "source_hash": null
   },
   "outputs": [
    {
     "ename": "TypeError",
     "evalue": "argument of type 'float' is not iterable",
     "output_type": "error",
     "traceback": [
      "\u001b[0;31m---------------------------------------------------------------------------\u001b[0m",
      "\u001b[0;31mTypeError\u001b[0m                                 Traceback (most recent call last)",
      "Cell \u001b[0;32mIn [14], line 6\u001b[0m\n\u001b[1;32m      3\u001b[0m good_inds \u001b[38;5;241m=\u001b[39m []\n\u001b[1;32m      5\u001b[0m \u001b[38;5;28;01mfor\u001b[39;00m i \u001b[38;5;129;01min\u001b[39;00m \u001b[38;5;28mrange\u001b[39m(\u001b[38;5;28mlen\u001b[39m(df)):\n\u001b[0;32m----> 6\u001b[0m     \u001b[38;5;28;01mif\u001b[39;00m (\u001b[38;5;124;43m\"\u001b[39;49m\u001b[38;5;124;43mAirport\u001b[39;49m\u001b[38;5;124;43m\"\u001b[39;49m\u001b[43m \u001b[49m\u001b[38;5;129;43;01min\u001b[39;49;00m\u001b[43m \u001b[49m\u001b[43mdf\u001b[49m\u001b[38;5;241;43m.\u001b[39;49m\u001b[43mloc\u001b[49m\u001b[43m[\u001b[49m\u001b[43mi\u001b[49m\u001b[43m,\u001b[49m\u001b[38;5;124;43m\"\u001b[39;49m\u001b[38;5;124;43mpickup_zone\u001b[39;49m\u001b[38;5;124;43m\"\u001b[39;49m\u001b[43m]\u001b[49m) \u001b[38;5;129;01mand\u001b[39;00m (\u001b[38;5;124m\"\u001b[39m\u001b[38;5;124mAirport\u001b[39m\u001b[38;5;124m\"\u001b[39m \u001b[38;5;129;01min\u001b[39;00m df\u001b[38;5;241m.\u001b[39mloc[i,\u001b[38;5;124m\"\u001b[39m\u001b[38;5;124mdropoff_zone\u001b[39m\u001b[38;5;124m\"\u001b[39m]):\n\u001b[1;32m      7\u001b[0m         good_inds\u001b[38;5;241m.\u001b[39mappend(i)\n",
      "\u001b[0;31mTypeError\u001b[0m: argument of type 'float' is not iterable"
     ]
    }
   ],
   "source": [
    "# problem from missing values\n",
    "\n",
    "good_inds = []\n",
    "\n",
    "for i in range(len(df)):\n",
    "    if (\"Airport\" in df.loc[i,\"pickup_zone\"]) and (\"Airport\" in df.loc[i,\"dropoff_zone\"]):\n",
    "        good_inds.append(i)"
   ]
  },
  {
   "cell_type": "markdown",
   "metadata": {
    "cell_id": "fa2da0c7c910433b91e6b46d3727357d",
    "deepnote_cell_type": "markdown"
   },
   "source": [
    "If we try to check whether `\"Airport\" in np.nan`, we indeed get the exact same error."
   ]
  },
  {
   "cell_type": "code",
   "execution_count": null,
   "metadata": {
    "cell_id": "1258feffe7544351b169e665226077f9",
    "deepnote_cell_type": "code",
    "deepnote_to_be_reexecuted": false,
    "execution_millis": 17,
    "execution_start": 1697233600131,
    "source_hash": null
   },
   "outputs": [
    {
     "ename": "TypeError",
     "evalue": "argument of type 'float' is not iterable",
     "output_type": "error",
     "traceback": [
      "\u001b[0;31m---------------------------------------------------------------------------\u001b[0m",
      "\u001b[0;31mTypeError\u001b[0m                                 Traceback (most recent call last)",
      "Cell \u001b[0;32mIn [15], line 1\u001b[0m\n\u001b[0;32m----> 1\u001b[0m \u001b[38;5;124;43m\"\u001b[39;49m\u001b[38;5;124;43mAirport\u001b[39;49m\u001b[38;5;124;43m\"\u001b[39;49m\u001b[43m \u001b[49m\u001b[38;5;129;43;01min\u001b[39;49;00m\u001b[43m \u001b[49m\u001b[43mnp\u001b[49m\u001b[38;5;241;43m.\u001b[39;49m\u001b[43mnan\u001b[49m\n",
      "\u001b[0;31mTypeError\u001b[0m: argument of type 'float' is not iterable"
     ]
    }
   ],
   "source": [
    "\"Airport\" in np.nan"
   ]
  },
  {
   "cell_type": "markdown",
   "metadata": {
    "cell_id": "f0f249024c0345f4947cee35d6960070",
    "deepnote_cell_type": "markdown"
   },
   "source": [
    "How to identify identify `np.nan` values? We can use `np.isnan()` to identify np.nan values whether with individual values or arrays."
   ]
  },
  {
   "cell_type": "code",
   "execution_count": null,
   "metadata": {
    "cell_id": "090bd189d9144c51ba42c1562ab55c89",
    "deepnote_cell_type": "code",
    "deepnote_to_be_reexecuted": false,
    "execution_millis": 44,
    "execution_start": 1697233736523,
    "source_hash": null
   },
   "outputs": [
    {
     "data": {
      "text/plain": [
       "True"
      ]
     },
     "execution_count": 17,
     "metadata": {},
     "output_type": "execute_result"
    }
   ],
   "source": [
    "np.isnan(np.nan)"
   ]
  },
  {
   "cell_type": "markdown",
   "metadata": {
    "cell_id": "afe8857136544a57bfdc73707f24974f",
    "deepnote_cell_type": "markdown"
   },
   "source": [
    "However, `np.isnan()` cannot handle strings."
   ]
  },
  {
   "cell_type": "code",
   "execution_count": null,
   "metadata": {
    "cell_id": "655820d975fc4d3cb3015b48e4d64073",
    "deepnote_cell_type": "code",
    "deepnote_to_be_reexecuted": false,
    "execution_millis": 14,
    "execution_start": 1697234340204,
    "source_hash": null
   },
   "outputs": [
    {
     "ename": "TypeError",
     "evalue": "ufunc 'isnan' not supported for the input types, and the inputs could not be safely coerced to any supported types according to the casting rule ''safe''",
     "output_type": "error",
     "traceback": [
      "\u001b[0;31m---------------------------------------------------------------------------\u001b[0m",
      "\u001b[0;31mTypeError\u001b[0m                                 Traceback (most recent call last)",
      "Cell \u001b[0;32mIn [25], line 1\u001b[0m\n\u001b[0;32m----> 1\u001b[0m \u001b[43mnp\u001b[49m\u001b[38;5;241;43m.\u001b[39;49m\u001b[43misnan\u001b[49m\u001b[43m(\u001b[49m\u001b[38;5;124;43m'\u001b[39;49m\u001b[38;5;124;43mString\u001b[39;49m\u001b[38;5;124;43m'\u001b[39;49m\u001b[43m)\u001b[49m\n",
      "\u001b[0;31mTypeError\u001b[0m: ufunc 'isnan' not supported for the input types, and the inputs could not be safely coerced to any supported types according to the casting rule ''safe''"
     ]
    }
   ],
   "source": [
    "np.isnan('String')"
   ]
  },
  {
   "cell_type": "markdown",
   "metadata": {
    "cell_id": "4e49bf23ba0e4607883b91906ce24056",
    "deepnote_cell_type": "markdown"
   },
   "source": [
    "For a pandas DataFrame or Series, you can use the isna() or isnull() methods to check for missing values."
   ]
  },
  {
   "cell_type": "code",
   "execution_count": null,
   "metadata": {
    "cell_id": "3bd8ccddb1624a08a20f52a8de47a0fe",
    "deepnote_cell_type": "code",
    "deepnote_to_be_reexecuted": false,
    "execution_millis": 16,
    "execution_start": 1697234382984,
    "source_hash": null
   },
   "outputs": [
    {
     "ename": "AttributeError",
     "evalue": "'str' object has no attribute 'isna'",
     "output_type": "error",
     "traceback": [
      "\u001b[0;31m---------------------------------------------------------------------------\u001b[0m",
      "\u001b[0;31mAttributeError\u001b[0m                            Traceback (most recent call last)",
      "Cell \u001b[0;32mIn [26], line 1\u001b[0m\n\u001b[0;32m----> 1\u001b[0m \u001b[43mdf\u001b[49m\u001b[38;5;241;43m.\u001b[39;49m\u001b[43mloc\u001b[49m\u001b[43m[\u001b[49m\u001b[38;5;241;43m0\u001b[39;49m\u001b[43m,\u001b[49m\u001b[38;5;124;43m\"\u001b[39;49m\u001b[38;5;124;43mpickup_zone\u001b[39;49m\u001b[38;5;124;43m\"\u001b[39;49m\u001b[43m]\u001b[49m\u001b[38;5;241;43m.\u001b[39;49m\u001b[43misna\u001b[49m()\n",
      "\u001b[0;31mAttributeError\u001b[0m: 'str' object has no attribute 'isna'"
     ]
    }
   ],
   "source": [
    "df.loc[0,\"pickup_zone\"].isna()"
   ]
  },
  {
   "cell_type": "markdown",
   "metadata": {
    "cell_id": "39a5dedc745e446fb81efdd25677b50d",
    "deepnote_cell_type": "markdown"
   },
   "source": [
    "Pandas methods like `isna()` are typically available on DataFrame and Series objects. When you're dealing with individual elements from a DataFrame or Series, it's often safer to use top-level pandas functions like `pd.isna()` to ensure compatibility."
   ]
  },
  {
   "cell_type": "code",
   "execution_count": null,
   "metadata": {
    "cell_id": "262230f14d31491ba639e6ed5505afc7",
    "deepnote_cell_type": "code",
    "deepnote_to_be_reexecuted": false,
    "execution_millis": 177,
    "execution_start": 1697234407801,
    "source_hash": null
   },
   "outputs": [
    {
     "data": {
      "text/plain": [
       "False"
      ]
     },
     "execution_count": 27,
     "metadata": {},
     "output_type": "execute_result"
    }
   ],
   "source": [
    "pd.isna(df.loc[0, \"pickup_zone\"])"
   ]
  },
  {
   "cell_type": "markdown",
   "metadata": {
    "cell_id": "ae845c23d7fc4943b00c7b0fab860d6e",
    "deepnote_cell_type": "markdown"
   },
   "source": [
    "We are using `and` instead of `&` in the following, because it is being used with `True` and `False` values directly, rather than with arrays or Series of `True` and `False` values.\n",
    "\n"
   ]
  },
  {
   "cell_type": "code",
   "execution_count": null,
   "metadata": {
    "cell_id": "912c989716cc44beadeee299e48284cb",
    "deepnote_cell_type": "code",
    "deepnote_to_be_reexecuted": false,
    "execution_millis": 118,
    "execution_start": 1697234445981,
    "source_hash": null
   },
   "outputs": [
    {
     "name": "stdout",
     "output_type": "stream",
     "text": [
      "[120, 770, 1080, 1089, 1416, 1929, 2387, 3571, 4358, 5095, 5364]\n"
     ]
    }
   ],
   "source": [
    "index_id = []\n",
    "\n",
    "for i in range(len(df)):\n",
    "    if pd.isna(df.loc[i, \"pickup_zone\"]) or pd.isna(df.loc[i, \"dropoff_zone\"]):\n",
    "        continue #skip the rest of the loop iteration\n",
    "    elif (\"Airport\" in df.loc[i, \"pickup_zone\"]) and (\"Airport\" in df.loc[i, \"dropoff_zone\"]):\n",
    "        index_id.append(i)\n",
    "\n",
    "print(index_id)\n",
    "\n"
   ]
  },
  {
   "cell_type": "markdown",
   "metadata": {
    "cell_id": "2b230644af754494918dd650e7e123c4",
    "deepnote_cell_type": "markdown"
   },
   "source": [
    "There are many other ways we could get around this (such as by dropping rows with missing values in these columns). Let's use aother simple approach, of wrapping the whole problematic portion in a `try` block. The `except TypeError` portion is saying that even if a TypeError is raised, do not stop the execution of the code, instead just continue to the next step in the for loop.\n",
    "\n"
   ]
  },
  {
   "cell_type": "code",
   "execution_count": null,
   "metadata": {
    "cell_id": "20934cc1802f4b288bd37195f43bcd38",
    "deepnote_cell_type": "code",
    "deepnote_to_be_reexecuted": false,
    "execution_millis": 17,
    "execution_start": 1697234827459,
    "source_hash": null
   },
   "outputs": [
    {
     "data": {
      "text/plain": [
       "[120, 770, 1080, 1089, 1416, 1929, 2387, 3571, 4358, 5095, 5364]"
      ]
     },
     "execution_count": 30,
     "metadata": {},
     "output_type": "execute_result"
    }
   ],
   "source": [
    "index_id = []\n",
    "\n",
    "for i in range(len(df)):\n",
    "    try:\n",
    "        if (\"Airport\" in df.loc[i,\"pickup_zone\"]) and (\"Airport\" in df.loc[i,\"dropoff_zone\"]):\n",
    "            index_id.append(i)\n",
    "    except TypeError:\n",
    "        continue\n",
    "\n",
    "index_id"
   ]
  },
  {
   "cell_type": "code",
   "execution_count": null,
   "metadata": {
    "cell_id": "9cdea9439f7642e490a251fbca3f45dc",
    "deepnote_cell_type": "code",
    "deepnote_to_be_reexecuted": false,
    "editable": true,
    "execution_millis": 368,
    "execution_start": 1697234896639,
    "scrolled": true,
    "slideshow": {
     "slide_type": ""
    },
    "source_hash": null,
    "tags": []
   },
   "outputs": [
    {
     "data": {
      "application/vnd.deepnote.dataframe.v3+json": {
       "column_count": 18,
       "columns": [
        {
         "dtype": "object",
         "name": "pickup",
         "stats": {
          "categories": [
           {
            "count": 1,
            "name": "2019-03-21 17:21:44"
           },
           {
            "count": 1,
            "name": "2019-03-02 03:16:59"
           },
           {
            "count": 9,
            "name": "9 others"
           }
          ],
          "nan_count": 0,
          "unique_count": 11
         }
        },
        {
         "dtype": "object",
         "name": "dropoff",
         "stats": {
          "categories": [
           {
            "count": 1,
            "name": "2019-03-21 17:21:49"
           },
           {
            "count": 1,
            "name": "2019-03-02 03:17:06"
           },
           {
            "count": 9,
            "name": "9 others"
           }
          ],
          "nan_count": 0,
          "unique_count": 11
         }
        },
        {
         "dtype": "int64",
         "name": "passengers",
         "stats": {
          "histogram": [
           {
            "bin_end": 0.3,
            "bin_start": 0,
            "count": 1
           },
           {
            "bin_end": 0.6,
            "bin_start": 0.3,
            "count": 0
           },
           {
            "bin_end": 0.8999999999999999,
            "bin_start": 0.6,
            "count": 0
           },
           {
            "bin_end": 1.2,
            "bin_start": 0.8999999999999999,
            "count": 6
           },
           {
            "bin_end": 1.5,
            "bin_start": 1.2,
            "count": 0
           },
           {
            "bin_end": 1.7999999999999998,
            "bin_start": 1.5,
            "count": 0
           },
           {
            "bin_end": 2.1,
            "bin_start": 1.7999999999999998,
            "count": 3
           },
           {
            "bin_end": 2.4,
            "bin_start": 2.1,
            "count": 0
           },
           {
            "bin_end": 2.6999999999999997,
            "bin_start": 2.4,
            "count": 0
           },
           {
            "bin_end": 3,
            "bin_start": 2.6999999999999997,
            "count": 1
           }
          ],
          "max": "3",
          "min": "0",
          "nan_count": 0,
          "unique_count": 4
         }
        },
        {
         "dtype": "float64",
         "name": "distance",
         "stats": {
          "histogram": [
           {
            "bin_end": 3.6700000000000004,
            "bin_start": 0,
            "count": 7
           },
           {
            "bin_end": 7.340000000000001,
            "bin_start": 3.6700000000000004,
            "count": 0
           },
           {
            "bin_end": 11.010000000000002,
            "bin_start": 7.340000000000001,
            "count": 1
           },
           {
            "bin_end": 14.680000000000001,
            "bin_start": 11.010000000000002,
            "count": 1
           },
           {
            "bin_end": 18.35,
            "bin_start": 14.680000000000001,
            "count": 0
           },
           {
            "bin_end": 22.020000000000003,
            "bin_start": 18.35,
            "count": 1
           },
           {
            "bin_end": 25.69,
            "bin_start": 22.020000000000003,
            "count": 0
           },
           {
            "bin_end": 29.360000000000003,
            "bin_start": 25.69,
            "count": 0
           },
           {
            "bin_end": 33.03,
            "bin_start": 29.360000000000003,
            "count": 0
           },
           {
            "bin_end": 36.7,
            "bin_start": 33.03,
            "count": 1
           }
          ],
          "max": "36.7",
          "min": "0.0",
          "nan_count": 0,
          "unique_count": 9
         }
        },
        {
         "dtype": "float64",
         "name": "fare",
         "stats": {
          "histogram": [
           {
            "bin_end": 17.25,
            "bin_start": 2.5,
            "count": 6
           },
           {
            "bin_end": 32,
            "bin_start": 17.25,
            "count": 0
           },
           {
            "bin_end": 46.75,
            "bin_start": 32,
            "count": 1
           },
           {
            "bin_end": 61.5,
            "bin_start": 46.75,
            "count": 1
           },
           {
            "bin_end": 76.25,
            "bin_start": 61.5,
            "count": 2
           },
           {
            "bin_end": 91,
            "bin_start": 76.25,
            "count": 0
           },
           {
            "bin_end": 105.75,
            "bin_start": 91,
            "count": 0
           },
           {
            "bin_end": 120.5,
            "bin_start": 105.75,
            "count": 0
           },
           {
            "bin_end": 135.25,
            "bin_start": 120.5,
            "count": 0
           },
           {
            "bin_end": 150,
            "bin_start": 135.25,
            "count": 1
           }
          ],
          "max": "150.0",
          "min": "2.5",
          "nan_count": 0,
          "unique_count": 7
         }
        },
        {
         "dtype": "float64",
         "name": "tip",
         "stats": {
          "histogram": [
           {
            "bin_end": 2.08,
            "bin_start": 0,
            "count": 9
           },
           {
            "bin_end": 4.16,
            "bin_start": 2.08,
            "count": 0
           },
           {
            "bin_end": 6.24,
            "bin_start": 4.16,
            "count": 0
           },
           {
            "bin_end": 8.32,
            "bin_start": 6.24,
            "count": 0
           },
           {
            "bin_end": 10.4,
            "bin_start": 8.32,
            "count": 1
           },
           {
            "bin_end": 12.48,
            "bin_start": 10.4,
            "count": 0
           },
           {
            "bin_end": 14.56,
            "bin_start": 12.48,
            "count": 0
           },
           {
            "bin_end": 16.64,
            "bin_start": 14.56,
            "count": 0
           },
           {
            "bin_end": 18.72,
            "bin_start": 16.64,
            "count": 0
           },
           {
            "bin_end": 20.8,
            "bin_start": 18.72,
            "count": 1
           }
          ],
          "max": "20.8",
          "min": "0.0",
          "nan_count": 0,
          "unique_count": 3
         }
        },
        {
         "dtype": "float64",
         "name": "tolls",
         "stats": {
          "histogram": [
           {
            "bin_end": 2.402,
            "bin_start": 0,
            "count": 9
           },
           {
            "bin_end": 4.804,
            "bin_start": 2.402,
            "count": 0
           },
           {
            "bin_end": 7.206,
            "bin_start": 4.804,
            "count": 1
           },
           {
            "bin_end": 9.608,
            "bin_start": 7.206,
            "count": 0
           },
           {
            "bin_end": 12.010000000000002,
            "bin_start": 9.608,
            "count": 0
           },
           {
            "bin_end": 14.412,
            "bin_start": 12.010000000000002,
            "count": 0
           },
           {
            "bin_end": 16.814,
            "bin_start": 14.412,
            "count": 0
           },
           {
            "bin_end": 19.216,
            "bin_start": 16.814,
            "count": 0
           },
           {
            "bin_end": 21.618000000000002,
            "bin_start": 19.216,
            "count": 0
           },
           {
            "bin_end": 24.02,
            "bin_start": 21.618000000000002,
            "count": 1
           }
          ],
          "max": "24.02",
          "min": "0.0",
          "nan_count": 0,
          "unique_count": 3
         }
        },
        {
         "dtype": "float64",
         "name": "total",
         "stats": {
          "histogram": [
           {
            "bin_end": 20.451999999999998,
            "bin_start": 3.3,
            "count": 6
           },
           {
            "bin_end": 37.60399999999999,
            "bin_start": 20.451999999999998,
            "count": 1
           },
           {
            "bin_end": 54.755999999999986,
            "bin_start": 37.60399999999999,
            "count": 0
           },
           {
            "bin_end": 71.90799999999999,
            "bin_start": 54.755999999999986,
            "count": 2
           },
           {
            "bin_end": 89.05999999999999,
            "bin_start": 71.90799999999999,
            "count": 0
           },
           {
            "bin_end": 106.21199999999997,
            "bin_start": 89.05999999999999,
            "count": 1
           },
           {
            "bin_end": 123.36399999999998,
            "bin_start": 106.21199999999997,
            "count": 0
           },
           {
            "bin_end": 140.516,
            "bin_start": 123.36399999999998,
            "count": 0
           },
           {
            "bin_end": 157.66799999999998,
            "bin_start": 140.516,
            "count": 0
           },
           {
            "bin_end": 174.82,
            "bin_start": 157.66799999999998,
            "count": 1
           }
          ],
          "max": "174.82",
          "min": "3.3",
          "nan_count": 0,
          "unique_count": 9
         }
        },
        {
         "dtype": "object",
         "name": "color",
         "stats": {
          "categories": [
           {
            "count": 11,
            "name": "yellow"
           }
          ],
          "nan_count": 0,
          "unique_count": 1
         }
        },
        {
         "dtype": "object",
         "name": "payment",
         "stats": {
          "categories": [
           {
            "count": 6,
            "name": "cash"
           },
           {
            "count": 3,
            "name": "credit card"
           },
           {
            "count": 2,
            "name": "Missing"
           }
          ],
          "nan_count": 2,
          "unique_count": 2
         }
        },
        {
         "dtype": "object",
         "name": "pickup_zone",
         "stats": {
          "categories": [
           {
            "count": 10,
            "name": "JFK Airport"
           },
           {
            "count": 1,
            "name": "LaGuardia Airport"
           }
          ],
          "nan_count": 0,
          "unique_count": 2
         }
        },
        {
         "dtype": "object",
         "name": "dropoff_zone",
         "stats": {
          "categories": [
           {
            "count": 11,
            "name": "JFK Airport"
           }
          ],
          "nan_count": 0,
          "unique_count": 1
         }
        },
        {
         "dtype": "object",
         "name": "pickup_borough",
         "stats": {
          "categories": [
           {
            "count": 11,
            "name": "Queens"
           }
          ],
          "nan_count": 0,
          "unique_count": 1
         }
        },
        {
         "dtype": "object",
         "name": "dropoff_borough",
         "stats": {
          "categories": [
           {
            "count": 11,
            "name": "Queens"
           }
          ],
          "nan_count": 0,
          "unique_count": 1
         }
        },
        {
         "dtype": "datetime64[ns]",
         "name": "pickuptime",
         "stats": {
          "histogram": [
           {
            "bin_end": 1551744645500000000,
            "bin_start": 1551496619000000000,
            "count": 2
           },
           {
            "bin_end": 1551992672000000000,
            "bin_start": 1551744645500000000,
            "count": 1
           },
           {
            "bin_end": 1552240698500000000,
            "bin_start": 1551992672000000000,
            "count": 2
           },
           {
            "bin_end": 1552488725000000000,
            "bin_start": 1552240698500000000,
            "count": 0
           },
           {
            "bin_end": 1552736751500000000,
            "bin_start": 1552488725000000000,
            "count": 1
           },
           {
            "bin_end": 1552984778000000000,
            "bin_start": 1552736751500000000,
            "count": 1
           },
           {
            "bin_end": 1553232804500000000,
            "bin_start": 1552984778000000000,
            "count": 1
           },
           {
            "bin_end": 1553480831000000000,
            "bin_start": 1553232804500000000,
            "count": 1
           },
           {
            "bin_end": 1553728857500000000,
            "bin_start": 1553480831000000000,
            "count": 0
           },
           {
            "bin_end": 1553976884000000000,
            "bin_start": 1553728857500000000,
            "count": 2
           }
          ],
          "max": "2019-03-30 20:14:44",
          "min": "2019-03-02 03:16:59",
          "nan_count": 0,
          "unique_count": 11
         }
        },
        {
         "dtype": "datetime64[ns]",
         "name": "droptime",
         "stats": {
          "histogram": [
           {
            "bin_end": 1551744932200000000,
            "bin_start": 1551496626000000000,
            "count": 2
           },
           {
            "bin_end": 1551993238400000000,
            "bin_start": 1551744932200000000,
            "count": 1
           },
           {
            "bin_end": 1552241544600000000,
            "bin_start": 1551993238400000000,
            "count": 2
           },
           {
            "bin_end": 1552489850800000000,
            "bin_start": 1552241544600000000,
            "count": 0
           },
           {
            "bin_end": 1552738157000000000,
            "bin_start": 1552489850800000000,
            "count": 1
           },
           {
            "bin_end": 1552986463200000000,
            "bin_start": 1552738157000000000,
            "count": 1
           },
           {
            "bin_end": 1553234769400000000,
            "bin_start": 1552986463200000000,
            "count": 1
           },
           {
            "bin_end": 1553483075600000000,
            "bin_start": 1553234769400000000,
            "count": 1
           },
           {
            "bin_end": 1553731381800000000,
            "bin_start": 1553483075600000000,
            "count": 0
           },
           {
            "bin_end": 1553979688000000000,
            "bin_start": 1553731381800000000,
            "count": 2
           }
          ],
          "max": "2019-03-30 21:01:28",
          "min": "2019-03-02 03:17:06",
          "nan_count": 0,
          "unique_count": 11
         }
        },
        {
         "dtype": "object",
         "name": "day",
         "stats": {
          "categories": [
           {
            "count": 3,
            "name": "Saturday"
           },
           {
            "count": 2,
            "name": "Thursday"
           },
           {
            "count": 6,
            "name": "4 others"
           }
          ],
          "nan_count": 0,
          "unique_count": 6
         }
        },
        {
         "dtype": "timedelta64[ns]",
         "name": "duration",
         "stats": {
          "histogram": [
           {
            "bin_end": 393600000000,
            "bin_start": 5000000000,
            "count": 8
           },
           {
            "bin_end": 782200000000,
            "bin_start": 393600000000,
            "count": 0
           },
           {
            "bin_end": 1170800000000,
            "bin_start": 782200000000,
            "count": 0
           },
           {
            "bin_end": 1559400000000,
            "bin_start": 1170800000000,
            "count": 0
           },
           {
            "bin_end": 1948000000000,
            "bin_start": 1559400000000,
            "count": 1
           },
           {
            "bin_end": 2336600000000,
            "bin_start": 1948000000000,
            "count": 0
           },
           {
            "bin_end": 2725200000000,
            "bin_start": 2336600000000,
            "count": 0
           },
           {
            "bin_end": 3113800000000,
            "bin_start": 2725200000000,
            "count": 1
           },
           {
            "bin_end": 3502400000000,
            "bin_start": 3113800000000,
            "count": 0
           },
           {
            "bin_end": 3891000000000,
            "bin_start": 3502400000000,
            "count": 1
           }
          ],
          "max": "0 days 01:04:51",
          "min": "0 days 00:00:05",
          "nan_count": 0,
          "unique_count": 11
         }
        },
        {
         "dtype": "int64",
         "name": "_deepnote_index_column"
        }
       ],
       "row_count": 11,
       "rows": [
        {
         "_deepnote_index_column": 120,
         "color": "yellow",
         "day": "Thursday",
         "distance": 0,
         "dropoff": "2019-03-21 17:21:49",
         "dropoff_borough": "Queens",
         "dropoff_zone": "JFK Airport",
         "droptime": "2019-03-21 17:21:49",
         "duration": "0 days 00:00:05",
         "fare": 2.5,
         "passengers": 1,
         "payment": "cash",
         "pickup": "2019-03-21 17:21:44",
         "pickup_borough": "Queens",
         "pickup_zone": "JFK Airport",
         "pickuptime": "2019-03-21 17:21:44",
         "tip": 0,
         "tolls": 0,
         "total": 4.3
        },
        {
         "_deepnote_index_column": 770,
         "color": "yellow",
         "day": "Saturday",
         "distance": 9.4,
         "dropoff": "2019-03-02 03:17:06",
         "dropoff_borough": "Queens",
         "dropoff_zone": "JFK Airport",
         "droptime": "2019-03-02 03:17:06",
         "duration": "0 days 00:00:07",
         "fare": 2.5,
         "passengers": 0,
         "payment": "nan",
         "pickup": "2019-03-02 03:16:59",
         "pickup_borough": "Queens",
         "pickup_zone": "JFK Airport",
         "pickuptime": "2019-03-02 03:16:59",
         "tip": 0,
         "tolls": 0,
         "total": 3.8
        },
        {
         "_deepnote_index_column": 1080,
         "color": "yellow",
         "day": "Monday",
         "distance": 0,
         "dropoff": "2019-03-04 14:17:13",
         "dropoff_borough": "Queens",
         "dropoff_zone": "JFK Airport",
         "droptime": "2019-03-04 14:17:13",
         "duration": "0 days 00:00:08",
         "fare": 2.5,
         "passengers": 1,
         "payment": "cash",
         "pickup": "2019-03-04 14:17:05",
         "pickup_borough": "Queens",
         "pickup_zone": "JFK Airport",
         "pickuptime": "2019-03-04 14:17:05",
         "tip": 0,
         "tolls": 0,
         "total": 3.3
        },
        {
         "_deepnote_index_column": 1089,
         "color": "yellow",
         "day": "Sunday",
         "distance": 0.37,
         "dropoff": "2019-03-10 01:45:22",
         "dropoff_borough": "Queens",
         "dropoff_zone": "JFK Airport",
         "droptime": "2019-03-10 01:45:22",
         "duration": "0 days 00:01:50",
         "fare": 3.5,
         "passengers": 1,
         "payment": "cash",
         "pickup": "2019-03-10 01:43:32",
         "pickup_borough": "Queens",
         "pickup_zone": "JFK Airport",
         "pickuptime": "2019-03-10 01:43:32",
         "tip": 0,
         "tolls": 0,
         "total": 4.8
        },
        {
         "_deepnote_index_column": 1416,
         "color": "yellow",
         "day": "Saturday",
         "distance": 12.39,
         "dropoff": "2019-03-09 13:46:11",
         "dropoff_borough": "Queens",
         "dropoff_zone": "JFK Airport",
         "droptime": "2019-03-09 13:46:11",
         "duration": "0 days 00:29:39",
         "fare": 35,
         "passengers": 2,
         "payment": "cash",
         "pickup": "2019-03-09 13:16:32",
         "pickup_borough": "Queens",
         "pickup_zone": "LaGuardia Airport",
         "pickuptime": "2019-03-09 13:16:32",
         "tip": 0,
         "tolls": 0,
         "total": 35.8
        },
        {
         "_deepnote_index_column": 1929,
         "color": "yellow",
         "day": "Wednesday",
         "distance": 0,
         "dropoff": "2019-03-13 22:35:49",
         "dropoff_borough": "Queens",
         "dropoff_zone": "JFK Airport",
         "droptime": "2019-03-13 22:35:49",
         "duration": "0 days 00:00:14",
         "fare": 2.5,
         "passengers": 1,
         "payment": "nan",
         "pickup": "2019-03-13 22:35:35",
         "pickup_borough": "Queens",
         "pickup_zone": "JFK Airport",
         "pickuptime": "2019-03-13 22:35:35",
         "tip": 0,
         "tolls": 0,
         "total": 3.8
        },
        {
         "_deepnote_index_column": 2387,
         "color": "yellow",
         "day": "Thursday",
         "distance": 1.8,
         "dropoff": "2019-03-28 15:59:25",
         "dropoff_borough": "Queens",
         "dropoff_zone": "JFK Airport",
         "droptime": "2019-03-28 15:59:25",
         "duration": "0 days 00:00:33",
         "fare": 69.06,
         "passengers": 1,
         "payment": "credit card",
         "pickup": "2019-03-28 15:58:52",
         "pickup_borough": "Queens",
         "pickup_zone": "JFK Airport",
         "pickuptime": "2019-03-28 15:58:52",
         "tip": 20.8,
         "tolls": 0,
         "total": 90.16
        },
        {
         "_deepnote_index_column": 3571,
         "color": "yellow",
         "day": "Friday",
         "distance": 0.81,
         "dropoff": "2019-03-22 16:47:50",
         "dropoff_borough": "Queens",
         "dropoff_zone": "JFK Airport",
         "droptime": "2019-03-22 16:47:50",
         "duration": "0 days 00:00:09",
         "fare": 66,
         "passengers": 1,
         "payment": "credit card",
         "pickup": "2019-03-22 16:47:41",
         "pickup_borough": "Queens",
         "pickup_zone": "JFK Airport",
         "pickuptime": "2019-03-22 16:47:41",
         "tip": 0,
         "tolls": 0,
         "total": 66.8
        },
        {
         "_deepnote_index_column": 4358,
         "color": "yellow",
         "day": "Wednesday",
         "distance": 0.01,
         "dropoff": "2019-03-06 18:24:13",
         "dropoff_borough": "Queens",
         "dropoff_zone": "JFK Airport",
         "droptime": "2019-03-06 18:24:13",
         "duration": "0 days 00:00:13",
         "fare": 2.5,
         "passengers": 2,
         "payment": "cash",
         "pickup": "2019-03-06 18:24:00",
         "pickup_borough": "Queens",
         "pickup_zone": "JFK Airport",
         "pickuptime": "2019-03-06 18:24:00",
         "tip": 0,
         "tolls": 0,
         "total": 4.3
        },
        {
         "_deepnote_index_column": 5095,
         "color": "yellow",
         "day": "Saturday",
         "distance": 18.91,
         "dropoff": "2019-03-30 21:01:28",
         "dropoff_borough": "Queens",
         "dropoff_zone": "JFK Airport",
         "droptime": "2019-03-30 21:01:28",
         "duration": "0 days 00:46:44",
         "fare": 52,
         "passengers": 3,
         "payment": "credit card",
         "pickup": "2019-03-30 20:14:44",
         "pickup_borough": "Queens",
         "pickup_zone": "JFK Airport",
         "pickuptime": "2019-03-30 20:14:44",
         "tip": 8.78,
         "tolls": 5.76,
         "total": 67.34
        }
       ]
      },
      "text/html": [
       "<div>\n",
       "<style scoped>\n",
       "    .dataframe tbody tr th:only-of-type {\n",
       "        vertical-align: middle;\n",
       "    }\n",
       "\n",
       "    .dataframe tbody tr th {\n",
       "        vertical-align: top;\n",
       "    }\n",
       "\n",
       "    .dataframe thead th {\n",
       "        text-align: right;\n",
       "    }\n",
       "</style>\n",
       "<table border=\"1\" class=\"dataframe\">\n",
       "  <thead>\n",
       "    <tr style=\"text-align: right;\">\n",
       "      <th></th>\n",
       "      <th>pickup</th>\n",
       "      <th>dropoff</th>\n",
       "      <th>passengers</th>\n",
       "      <th>distance</th>\n",
       "      <th>fare</th>\n",
       "      <th>tip</th>\n",
       "      <th>tolls</th>\n",
       "      <th>total</th>\n",
       "      <th>color</th>\n",
       "      <th>payment</th>\n",
       "      <th>pickup_zone</th>\n",
       "      <th>dropoff_zone</th>\n",
       "      <th>pickup_borough</th>\n",
       "      <th>dropoff_borough</th>\n",
       "      <th>pickuptime</th>\n",
       "      <th>droptime</th>\n",
       "      <th>day</th>\n",
       "      <th>duration</th>\n",
       "    </tr>\n",
       "  </thead>\n",
       "  <tbody>\n",
       "    <tr>\n",
       "      <th>120</th>\n",
       "      <td>2019-03-21 17:21:44</td>\n",
       "      <td>2019-03-21 17:21:49</td>\n",
       "      <td>1</td>\n",
       "      <td>0.00</td>\n",
       "      <td>2.50</td>\n",
       "      <td>0.00</td>\n",
       "      <td>0.00</td>\n",
       "      <td>4.30</td>\n",
       "      <td>yellow</td>\n",
       "      <td>cash</td>\n",
       "      <td>JFK Airport</td>\n",
       "      <td>JFK Airport</td>\n",
       "      <td>Queens</td>\n",
       "      <td>Queens</td>\n",
       "      <td>2019-03-21 17:21:44</td>\n",
       "      <td>2019-03-21 17:21:49</td>\n",
       "      <td>Thursday</td>\n",
       "      <td>0 days 00:00:05</td>\n",
       "    </tr>\n",
       "    <tr>\n",
       "      <th>770</th>\n",
       "      <td>2019-03-02 03:16:59</td>\n",
       "      <td>2019-03-02 03:17:06</td>\n",
       "      <td>0</td>\n",
       "      <td>9.40</td>\n",
       "      <td>2.50</td>\n",
       "      <td>0.00</td>\n",
       "      <td>0.00</td>\n",
       "      <td>3.80</td>\n",
       "      <td>yellow</td>\n",
       "      <td>NaN</td>\n",
       "      <td>JFK Airport</td>\n",
       "      <td>JFK Airport</td>\n",
       "      <td>Queens</td>\n",
       "      <td>Queens</td>\n",
       "      <td>2019-03-02 03:16:59</td>\n",
       "      <td>2019-03-02 03:17:06</td>\n",
       "      <td>Saturday</td>\n",
       "      <td>0 days 00:00:07</td>\n",
       "    </tr>\n",
       "    <tr>\n",
       "      <th>1080</th>\n",
       "      <td>2019-03-04 14:17:05</td>\n",
       "      <td>2019-03-04 14:17:13</td>\n",
       "      <td>1</td>\n",
       "      <td>0.00</td>\n",
       "      <td>2.50</td>\n",
       "      <td>0.00</td>\n",
       "      <td>0.00</td>\n",
       "      <td>3.30</td>\n",
       "      <td>yellow</td>\n",
       "      <td>cash</td>\n",
       "      <td>JFK Airport</td>\n",
       "      <td>JFK Airport</td>\n",
       "      <td>Queens</td>\n",
       "      <td>Queens</td>\n",
       "      <td>2019-03-04 14:17:05</td>\n",
       "      <td>2019-03-04 14:17:13</td>\n",
       "      <td>Monday</td>\n",
       "      <td>0 days 00:00:08</td>\n",
       "    </tr>\n",
       "    <tr>\n",
       "      <th>1089</th>\n",
       "      <td>2019-03-10 01:43:32</td>\n",
       "      <td>2019-03-10 01:45:22</td>\n",
       "      <td>1</td>\n",
       "      <td>0.37</td>\n",
       "      <td>3.50</td>\n",
       "      <td>0.00</td>\n",
       "      <td>0.00</td>\n",
       "      <td>4.80</td>\n",
       "      <td>yellow</td>\n",
       "      <td>cash</td>\n",
       "      <td>JFK Airport</td>\n",
       "      <td>JFK Airport</td>\n",
       "      <td>Queens</td>\n",
       "      <td>Queens</td>\n",
       "      <td>2019-03-10 01:43:32</td>\n",
       "      <td>2019-03-10 01:45:22</td>\n",
       "      <td>Sunday</td>\n",
       "      <td>0 days 00:01:50</td>\n",
       "    </tr>\n",
       "    <tr>\n",
       "      <th>1416</th>\n",
       "      <td>2019-03-09 13:16:32</td>\n",
       "      <td>2019-03-09 13:46:11</td>\n",
       "      <td>2</td>\n",
       "      <td>12.39</td>\n",
       "      <td>35.00</td>\n",
       "      <td>0.00</td>\n",
       "      <td>0.00</td>\n",
       "      <td>35.80</td>\n",
       "      <td>yellow</td>\n",
       "      <td>cash</td>\n",
       "      <td>LaGuardia Airport</td>\n",
       "      <td>JFK Airport</td>\n",
       "      <td>Queens</td>\n",
       "      <td>Queens</td>\n",
       "      <td>2019-03-09 13:16:32</td>\n",
       "      <td>2019-03-09 13:46:11</td>\n",
       "      <td>Saturday</td>\n",
       "      <td>0 days 00:29:39</td>\n",
       "    </tr>\n",
       "    <tr>\n",
       "      <th>1929</th>\n",
       "      <td>2019-03-13 22:35:35</td>\n",
       "      <td>2019-03-13 22:35:49</td>\n",
       "      <td>1</td>\n",
       "      <td>0.00</td>\n",
       "      <td>2.50</td>\n",
       "      <td>0.00</td>\n",
       "      <td>0.00</td>\n",
       "      <td>3.80</td>\n",
       "      <td>yellow</td>\n",
       "      <td>NaN</td>\n",
       "      <td>JFK Airport</td>\n",
       "      <td>JFK Airport</td>\n",
       "      <td>Queens</td>\n",
       "      <td>Queens</td>\n",
       "      <td>2019-03-13 22:35:35</td>\n",
       "      <td>2019-03-13 22:35:49</td>\n",
       "      <td>Wednesday</td>\n",
       "      <td>0 days 00:00:14</td>\n",
       "    </tr>\n",
       "    <tr>\n",
       "      <th>2387</th>\n",
       "      <td>2019-03-28 15:58:52</td>\n",
       "      <td>2019-03-28 15:59:25</td>\n",
       "      <td>1</td>\n",
       "      <td>1.80</td>\n",
       "      <td>69.06</td>\n",
       "      <td>20.80</td>\n",
       "      <td>0.00</td>\n",
       "      <td>90.16</td>\n",
       "      <td>yellow</td>\n",
       "      <td>credit card</td>\n",
       "      <td>JFK Airport</td>\n",
       "      <td>JFK Airport</td>\n",
       "      <td>Queens</td>\n",
       "      <td>Queens</td>\n",
       "      <td>2019-03-28 15:58:52</td>\n",
       "      <td>2019-03-28 15:59:25</td>\n",
       "      <td>Thursday</td>\n",
       "      <td>0 days 00:00:33</td>\n",
       "    </tr>\n",
       "    <tr>\n",
       "      <th>3571</th>\n",
       "      <td>2019-03-22 16:47:41</td>\n",
       "      <td>2019-03-22 16:47:50</td>\n",
       "      <td>1</td>\n",
       "      <td>0.81</td>\n",
       "      <td>66.00</td>\n",
       "      <td>0.00</td>\n",
       "      <td>0.00</td>\n",
       "      <td>66.80</td>\n",
       "      <td>yellow</td>\n",
       "      <td>credit card</td>\n",
       "      <td>JFK Airport</td>\n",
       "      <td>JFK Airport</td>\n",
       "      <td>Queens</td>\n",
       "      <td>Queens</td>\n",
       "      <td>2019-03-22 16:47:41</td>\n",
       "      <td>2019-03-22 16:47:50</td>\n",
       "      <td>Friday</td>\n",
       "      <td>0 days 00:00:09</td>\n",
       "    </tr>\n",
       "    <tr>\n",
       "      <th>4358</th>\n",
       "      <td>2019-03-06 18:24:00</td>\n",
       "      <td>2019-03-06 18:24:13</td>\n",
       "      <td>2</td>\n",
       "      <td>0.01</td>\n",
       "      <td>2.50</td>\n",
       "      <td>0.00</td>\n",
       "      <td>0.00</td>\n",
       "      <td>4.30</td>\n",
       "      <td>yellow</td>\n",
       "      <td>cash</td>\n",
       "      <td>JFK Airport</td>\n",
       "      <td>JFK Airport</td>\n",
       "      <td>Queens</td>\n",
       "      <td>Queens</td>\n",
       "      <td>2019-03-06 18:24:00</td>\n",
       "      <td>2019-03-06 18:24:13</td>\n",
       "      <td>Wednesday</td>\n",
       "      <td>0 days 00:00:13</td>\n",
       "    </tr>\n",
       "    <tr>\n",
       "      <th>5095</th>\n",
       "      <td>2019-03-30 20:14:44</td>\n",
       "      <td>2019-03-30 21:01:28</td>\n",
       "      <td>3</td>\n",
       "      <td>18.91</td>\n",
       "      <td>52.00</td>\n",
       "      <td>8.78</td>\n",
       "      <td>5.76</td>\n",
       "      <td>67.34</td>\n",
       "      <td>yellow</td>\n",
       "      <td>credit card</td>\n",
       "      <td>JFK Airport</td>\n",
       "      <td>JFK Airport</td>\n",
       "      <td>Queens</td>\n",
       "      <td>Queens</td>\n",
       "      <td>2019-03-30 20:14:44</td>\n",
       "      <td>2019-03-30 21:01:28</td>\n",
       "      <td>Saturday</td>\n",
       "      <td>0 days 00:46:44</td>\n",
       "    </tr>\n",
       "    <tr>\n",
       "      <th>5364</th>\n",
       "      <td>2019-03-17 16:59:17</td>\n",
       "      <td>2019-03-17 18:04:08</td>\n",
       "      <td>2</td>\n",
       "      <td>36.70</td>\n",
       "      <td>150.00</td>\n",
       "      <td>0.00</td>\n",
       "      <td>24.02</td>\n",
       "      <td>174.82</td>\n",
       "      <td>yellow</td>\n",
       "      <td>cash</td>\n",
       "      <td>JFK Airport</td>\n",
       "      <td>JFK Airport</td>\n",
       "      <td>Queens</td>\n",
       "      <td>Queens</td>\n",
       "      <td>2019-03-17 16:59:17</td>\n",
       "      <td>2019-03-17 18:04:08</td>\n",
       "      <td>Sunday</td>\n",
       "      <td>0 days 01:04:51</td>\n",
       "    </tr>\n",
       "  </tbody>\n",
       "</table>\n",
       "</div>"
      ],
      "text/plain": [
       "                   pickup              dropoff  passengers  distance    fare  \\\n",
       "120   2019-03-21 17:21:44  2019-03-21 17:21:49           1      0.00    2.50   \n",
       "770   2019-03-02 03:16:59  2019-03-02 03:17:06           0      9.40    2.50   \n",
       "1080  2019-03-04 14:17:05  2019-03-04 14:17:13           1      0.00    2.50   \n",
       "1089  2019-03-10 01:43:32  2019-03-10 01:45:22           1      0.37    3.50   \n",
       "1416  2019-03-09 13:16:32  2019-03-09 13:46:11           2     12.39   35.00   \n",
       "1929  2019-03-13 22:35:35  2019-03-13 22:35:49           1      0.00    2.50   \n",
       "2387  2019-03-28 15:58:52  2019-03-28 15:59:25           1      1.80   69.06   \n",
       "3571  2019-03-22 16:47:41  2019-03-22 16:47:50           1      0.81   66.00   \n",
       "4358  2019-03-06 18:24:00  2019-03-06 18:24:13           2      0.01    2.50   \n",
       "5095  2019-03-30 20:14:44  2019-03-30 21:01:28           3     18.91   52.00   \n",
       "5364  2019-03-17 16:59:17  2019-03-17 18:04:08           2     36.70  150.00   \n",
       "\n",
       "        tip  tolls   total   color      payment        pickup_zone  \\\n",
       "120    0.00   0.00    4.30  yellow         cash        JFK Airport   \n",
       "770    0.00   0.00    3.80  yellow          NaN        JFK Airport   \n",
       "1080   0.00   0.00    3.30  yellow         cash        JFK Airport   \n",
       "1089   0.00   0.00    4.80  yellow         cash        JFK Airport   \n",
       "1416   0.00   0.00   35.80  yellow         cash  LaGuardia Airport   \n",
       "1929   0.00   0.00    3.80  yellow          NaN        JFK Airport   \n",
       "2387  20.80   0.00   90.16  yellow  credit card        JFK Airport   \n",
       "3571   0.00   0.00   66.80  yellow  credit card        JFK Airport   \n",
       "4358   0.00   0.00    4.30  yellow         cash        JFK Airport   \n",
       "5095   8.78   5.76   67.34  yellow  credit card        JFK Airport   \n",
       "5364   0.00  24.02  174.82  yellow         cash        JFK Airport   \n",
       "\n",
       "     dropoff_zone pickup_borough dropoff_borough          pickuptime  \\\n",
       "120   JFK Airport         Queens          Queens 2019-03-21 17:21:44   \n",
       "770   JFK Airport         Queens          Queens 2019-03-02 03:16:59   \n",
       "1080  JFK Airport         Queens          Queens 2019-03-04 14:17:05   \n",
       "1089  JFK Airport         Queens          Queens 2019-03-10 01:43:32   \n",
       "1416  JFK Airport         Queens          Queens 2019-03-09 13:16:32   \n",
       "1929  JFK Airport         Queens          Queens 2019-03-13 22:35:35   \n",
       "2387  JFK Airport         Queens          Queens 2019-03-28 15:58:52   \n",
       "3571  JFK Airport         Queens          Queens 2019-03-22 16:47:41   \n",
       "4358  JFK Airport         Queens          Queens 2019-03-06 18:24:00   \n",
       "5095  JFK Airport         Queens          Queens 2019-03-30 20:14:44   \n",
       "5364  JFK Airport         Queens          Queens 2019-03-17 16:59:17   \n",
       "\n",
       "                droptime        day        duration  \n",
       "120  2019-03-21 17:21:49   Thursday 0 days 00:00:05  \n",
       "770  2019-03-02 03:17:06   Saturday 0 days 00:00:07  \n",
       "1080 2019-03-04 14:17:13     Monday 0 days 00:00:08  \n",
       "1089 2019-03-10 01:45:22     Sunday 0 days 00:01:50  \n",
       "1416 2019-03-09 13:46:11   Saturday 0 days 00:29:39  \n",
       "1929 2019-03-13 22:35:49  Wednesday 0 days 00:00:14  \n",
       "2387 2019-03-28 15:59:25   Thursday 0 days 00:00:33  \n",
       "3571 2019-03-22 16:47:50     Friday 0 days 00:00:09  \n",
       "4358 2019-03-06 18:24:13  Wednesday 0 days 00:00:13  \n",
       "5095 2019-03-30 21:01:28   Saturday 0 days 00:46:44  \n",
       "5364 2019-03-17 18:04:08     Sunday 0 days 01:04:51  "
      ]
     },
     "execution_count": 32,
     "metadata": {},
     "output_type": "execute_result"
    }
   ],
   "source": [
    "df.iloc[index_id,:] #or use df.iloc[index_id]"
   ]
  }
 ],
 "metadata": {
  "deepnote": {},
  "deepnote_execution_queue": [],
  "deepnote_notebook_id": "4a3ff531e8794564a35083fe661783f9",
  "deepnote_persisted_session": {
   "createdAt": "2023-10-13T22:31:27.908Z"
  },
  "kernelspec": {
   "display_name": "Python 3 (ipykernel)",
   "language": "python",
   "name": "python3"
  },
  "language_info": {
   "codemirror_mode": {
    "name": "ipython",
    "version": 3
   },
   "output_scroll": true,
   "tags": ["output_scroll"],

   "file_extension": ".py",
   "mimetype": "text/x-python",
   "name": "python",
   "nbconvert_exporter": "python",
   "pygments_lexer": "ipython3",
   "version": "3.9.18"
  }
 },
 "nbformat": 4,
 "nbformat_minor": 4
}
