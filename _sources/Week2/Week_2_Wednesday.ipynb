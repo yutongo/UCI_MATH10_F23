{
 "cells": [
  {
   "cell_type": "markdown",
   "metadata": {
    "cell_id": "744cfaf956f9416697bda656dc79cf40",
    "deepnote_cell_type": "markdown",
    "editable": true,
    "slideshow": {
     "slide_type": ""
    },
    "tags": [
     "output_scroll"
    ]
   },
   "source": [
    "# Week 2 Wednesday\n",
    "\n",
    "You can find the notesbooks at [course notes](https://yutongo.github.io/UCI_MATH10_F23/intro.html)."
   ]
  },
  {
   "cell_type": "markdown",
   "metadata": {
    "cell_id": "d494256fb8c9470d82b550c0c8e37c00",
    "deepnote_cell_type": "markdown"
   },
   "source": [
    "## Exploring the taxis dataset\n"
   ]
  },
  {
   "cell_type": "markdown",
   "metadata": {
    "cell_id": "cc1dca88116243f4966bf67b76e19bc3",
    "deepnote_cell_type": "markdown"
   },
   "source": [
    "* Load the attached file `taxis.csv` using the pandas function `read_csv`.  Store the resulting DataFrame in the variable `df`."
   ]
  },
  {
   "cell_type": "code",
   "execution_count": 1,
   "metadata": {
    "cell_id": "fbadec3faccf4985a6cdfd3bff566558",
    "deepnote_cell_type": "code",
    "deepnote_to_be_reexecuted": false,
    "execution_millis": 54,
    "execution_start": 1697054515427,
    "source_hash": null
   },
   "outputs": [],
   "source": [
    "import pandas as pd\n",
    "df = pd.read_csv(\"taxis.csv\")"
   ]
  },
  {
   "cell_type": "markdown",
   "metadata": {
    "cell_id": "14febf07d9ca4f2d97e741807919f0b5",
    "deepnote_cell_type": "markdown"
   },
   "source": [
    "How many different values are there in the \"pickup_borough\" column?  First get the pandas Series containing that column, then\n",
    "* use the `unique` method;\n",
    "* use the `value_counts` method."
   ]
  },
  {
   "cell_type": "code",
   "execution_count": 2,
   "metadata": {
    "cell_id": "32d5467345804a4ab8b0da9c8f730a67",
    "deepnote_cell_type": "code",
    "deepnote_to_be_reexecuted": false,
    "execution_millis": 19,
    "execution_start": 1697054689500,
    "source_hash": null
   },
   "outputs": [
    {
     "data": {
      "text/plain": [
       "0       Manhattan\n",
       "1       Manhattan\n",
       "2       Manhattan\n",
       "3       Manhattan\n",
       "4       Manhattan\n",
       "          ...    \n",
       "6428    Manhattan\n",
       "6429       Queens\n",
       "6430     Brooklyn\n",
       "6431     Brooklyn\n",
       "6432     Brooklyn\n",
       "Name: pickup_borough, Length: 6433, dtype: object"
      ]
     },
     "execution_count": 2,
     "metadata": {},
     "output_type": "execute_result"
    }
   ],
   "source": [
    "df['pickup_borough']"
   ]
  },
  {
   "cell_type": "code",
   "execution_count": 3,
   "metadata": {
    "cell_id": "734d1247a0604a2f9653d2c5e91d52b6",
    "deepnote_cell_type": "code",
    "deepnote_to_be_reexecuted": false,
    "execution_millis": 31,
    "execution_start": 1697054792676,
    "source_hash": null
   },
   "outputs": [
    {
     "data": {
      "text/plain": [
       "0       Manhattan\n",
       "1       Manhattan\n",
       "2       Manhattan\n",
       "3       Manhattan\n",
       "4       Manhattan\n",
       "          ...    \n",
       "6428    Manhattan\n",
       "6429       Queens\n",
       "6430     Brooklyn\n",
       "6431     Brooklyn\n",
       "6432     Brooklyn\n",
       "Name: pickup_borough, Length: 6433, dtype: object"
      ]
     },
     "execution_count": 3,
     "metadata": {},
     "output_type": "execute_result"
    }
   ],
   "source": [
    "df.loc[:,'pickup_borough']"
   ]
  },
  {
   "cell_type": "markdown",
   "metadata": {
    "cell_id": "e95dd98c4bbf4c298b7d64f88181050f",
    "deepnote_cell_type": "markdown"
   },
   "source": [
    "If we want to use `iloc`, we need to find the integer position of the “pickup_borough” column. We can use the `columns` attribute to see all the columns."
   ]
  },
  {
   "cell_type": "code",
   "execution_count": 4,
   "metadata": {
    "cell_id": "ae79294cbba6455cb41060c06cf40da4",
    "deepnote_cell_type": "code",
    "deepnote_to_be_reexecuted": false,
    "execution_millis": 32,
    "execution_start": 1697054863950,
    "source_hash": null
   },
   "outputs": [
    {
     "data": {
      "text/plain": [
       "Index(['pickup', 'dropoff', 'passengers', 'distance', 'fare', 'tip', 'tolls',\n",
       "       'total', 'color', 'payment', 'pickup_zone', 'dropoff_zone',\n",
       "       'pickup_borough', 'dropoff_borough'],\n",
       "      dtype='object')"
      ]
     },
     "execution_count": 4,
     "metadata": {},
     "output_type": "execute_result"
    }
   ],
   "source": [
    "df.columns"
   ]
  },
  {
   "cell_type": "markdown",
   "metadata": {
    "cell_id": "5cd7866eec85451dbb356471b09ccbb6",
    "deepnote_cell_type": "markdown"
   },
   "source": [
    "Convert to a `list` and then use the `index` method."
   ]
  },
  {
   "cell_type": "code",
   "execution_count": 5,
   "metadata": {
    "cell_id": "9a0e361cc7424801a8f404651abb3a52",
    "deepnote_cell_type": "code",
    "deepnote_to_be_reexecuted": false,
    "execution_millis": 23,
    "execution_start": 1697055075800,
    "source_hash": null
   },
   "outputs": [
    {
     "name": "stdout",
     "output_type": "stream",
     "text": [
      "['pickup', 'dropoff', 'passengers', 'distance', 'fare', 'tip', 'tolls', 'total', 'color', 'payment', 'pickup_zone', 'dropoff_zone', 'pickup_borough', 'dropoff_borough']\n"
     ]
    },
    {
     "data": {
      "text/plain": [
       "12"
      ]
     },
     "execution_count": 5,
     "metadata": {},
     "output_type": "execute_result"
    }
   ],
   "source": [
    "# list\n",
    "mylist = list(df.columns)\n",
    "print(mylist)\n",
    "mylist.index('pickup_borough')"
   ]
  },
  {
   "cell_type": "code",
   "execution_count": 6,
   "metadata": {
    "cell_id": "2118cc2b36b2404f96ee2812485f3cd2",
    "deepnote_cell_type": "code",
    "deepnote_to_be_reexecuted": false,
    "execution_millis": 30,
    "execution_start": 1697055144749,
    "source_hash": null
   },
   "outputs": [
    {
     "data": {
      "text/plain": [
       "0       Manhattan\n",
       "1       Manhattan\n",
       "2       Manhattan\n",
       "3       Manhattan\n",
       "4       Manhattan\n",
       "          ...    \n",
       "6428    Manhattan\n",
       "6429       Queens\n",
       "6430     Brooklyn\n",
       "6431     Brooklyn\n",
       "6432     Brooklyn\n",
       "Name: pickup_borough, Length: 6433, dtype: object"
      ]
     },
     "execution_count": 6,
     "metadata": {},
     "output_type": "execute_result"
    }
   ],
   "source": [
    "df.iloc[:,12]"
   ]
  },
  {
   "cell_type": "markdown",
   "metadata": {
    "cell_id": "f3a5a9acb9844f7093cdb8cdc2f6709f",
    "deepnote_cell_type": "markdown"
   },
   "source": [
    "Get a Boolean array and then use `np.nonzero` (don’t forget to import NumPy before calling `np.nonzero`.)"
   ]
  },
  {
   "cell_type": "code",
   "execution_count": 7,
   "metadata": {
    "cell_id": "ac8178f2998f4819b93dfda35a668e20",
    "deepnote_cell_type": "code",
    "deepnote_to_be_reexecuted": false,
    "execution_millis": 301,
    "execution_start": 1697055310526,
    "source_hash": null
   },
   "outputs": [
    {
     "name": "stdout",
     "output_type": "stream",
     "text": [
      "[False False False False False False False False False False False False\n",
      "  True False]\n",
      "<class 'numpy.ndarray'>\n"
     ]
    }
   ],
   "source": [
    "# boolean\n",
    "label_ba = df.columns == 'pickup_borough'\n",
    "print(label_ba)\n",
    "print(type(label_ba))"
   ]
  },
  {
   "cell_type": "markdown",
   "metadata": {
    "cell_id": "b7dc8cd01bcb4f8db6fe7be1b68e1736",
    "deepnote_cell_type": "markdown"
   },
   "source": [
    "The function `np.nonzero` returns the indices of non-zero elements in the input array. The output is a tuple of arrays, one for each dimension of the input, containing the indices of the non-zero elements in that dimension.\n",
    "\n",
    "For a 1D array, the output will be a tuple with a single array inside it (such as `(array([12]),)`). For a 2D array, the output would be a tuple with two arrays, one for each dimension (such as `(array([2]), array([2]))`). The output `(array([12]), 1)` would not be a valid output for `np.nonzero()` or `np.where`."
   ]
  },
  {
   "cell_type": "code",
   "execution_count": 8,
   "metadata": {
    "cell_id": "65279294381b432da8bf8111f65cbec3",
    "deepnote_cell_type": "code",
    "deepnote_to_be_reexecuted": false,
    "execution_millis": 32,
    "execution_start": 1697055531206,
    "source_hash": null
   },
   "outputs": [
    {
     "name": "stdout",
     "output_type": "stream",
     "text": [
      "(array([12]),)\n",
      "(array([12]),)\n"
     ]
    }
   ],
   "source": [
    "import numpy as np\n",
    "print(np.nonzero(label_ba))\n",
    "print(np.where(label_ba))"
   ]
  },
  {
   "cell_type": "code",
   "execution_count": 9,
   "metadata": {
    "cell_id": "962e3eaefbf246309935238e989f5d32",
    "deepnote_cell_type": "code",
    "deepnote_to_be_reexecuted": false,
    "execution_millis": 159,
    "execution_start": 1697055634912,
    "source_hash": null
   },
   "outputs": [
    {
     "data": {
      "text/html": [
       "<div>\n",
       "<style scoped>\n",
       "    .dataframe tbody tr th:only-of-type {\n",
       "        vertical-align: middle;\n",
       "    }\n",
       "\n",
       "    .dataframe tbody tr th {\n",
       "        vertical-align: top;\n",
       "    }\n",
       "\n",
       "    .dataframe thead th {\n",
       "        text-align: right;\n",
       "    }\n",
       "</style>\n",
       "<table border=\"1\" class=\"dataframe\">\n",
       "  <thead>\n",
       "    <tr style=\"text-align: right;\">\n",
       "      <th></th>\n",
       "      <th>pickup_borough</th>\n",
       "    </tr>\n",
       "  </thead>\n",
       "  <tbody>\n",
       "    <tr>\n",
       "      <th>0</th>\n",
       "      <td>Manhattan</td>\n",
       "    </tr>\n",
       "    <tr>\n",
       "      <th>1</th>\n",
       "      <td>Manhattan</td>\n",
       "    </tr>\n",
       "    <tr>\n",
       "      <th>2</th>\n",
       "      <td>Manhattan</td>\n",
       "    </tr>\n",
       "    <tr>\n",
       "      <th>3</th>\n",
       "      <td>Manhattan</td>\n",
       "    </tr>\n",
       "    <tr>\n",
       "      <th>4</th>\n",
       "      <td>Manhattan</td>\n",
       "    </tr>\n",
       "    <tr>\n",
       "      <th>...</th>\n",
       "      <td>...</td>\n",
       "    </tr>\n",
       "    <tr>\n",
       "      <th>6428</th>\n",
       "      <td>Manhattan</td>\n",
       "    </tr>\n",
       "    <tr>\n",
       "      <th>6429</th>\n",
       "      <td>Queens</td>\n",
       "    </tr>\n",
       "    <tr>\n",
       "      <th>6430</th>\n",
       "      <td>Brooklyn</td>\n",
       "    </tr>\n",
       "    <tr>\n",
       "      <th>6431</th>\n",
       "      <td>Brooklyn</td>\n",
       "    </tr>\n",
       "    <tr>\n",
       "      <th>6432</th>\n",
       "      <td>Brooklyn</td>\n",
       "    </tr>\n",
       "  </tbody>\n",
       "</table>\n",
       "<p>6433 rows × 1 columns</p>\n",
       "</div>"
      ],
      "text/plain": [
       "     pickup_borough\n",
       "0         Manhattan\n",
       "1         Manhattan\n",
       "2         Manhattan\n",
       "3         Manhattan\n",
       "4         Manhattan\n",
       "...             ...\n",
       "6428      Manhattan\n",
       "6429         Queens\n",
       "6430       Brooklyn\n",
       "6431       Brooklyn\n",
       "6432       Brooklyn\n",
       "\n",
       "[6433 rows x 1 columns]"
      ]
     },
     "execution_count": 9,
     "metadata": {},
     "output_type": "execute_result"
    }
   ],
   "source": [
    "df.loc[:,label_ba]"
   ]
  },
  {
   "cell_type": "markdown",
   "metadata": {
    "cell_id": "32e604af7fbe426aa40c5f4e06427070",
    "deepnote_cell_type": "markdown"
   },
   "source": [
    "Use the `get_loc` method of a pandas Index."
   ]
  },
  {
   "cell_type": "code",
   "execution_count": 10,
   "metadata": {
    "cell_id": "277fc8d9da1f410584b3847305e7dbd1",
    "deepnote_cell_type": "code",
    "deepnote_to_be_reexecuted": false,
    "execution_millis": 21,
    "execution_start": 1697055752480,
    "source_hash": null
   },
   "outputs": [
    {
     "data": {
      "text/plain": [
       "12"
      ]
     },
     "execution_count": 10,
     "metadata": {},
     "output_type": "execute_result"
    }
   ],
   "source": [
    "df.columns.get_loc('pickup_borough')"
   ]
  },
  {
   "cell_type": "code",
   "execution_count": 11,
   "metadata": {
    "cell_id": "ba6ab799bf024e049c5c20a0dd59d7c8",
    "deepnote_cell_type": "code",
    "deepnote_to_be_reexecuted": false,
    "execution_millis": 32,
    "execution_start": 1697055941764,
    "source_hash": null
   },
   "outputs": [
    {
     "data": {
      "text/plain": [
       "pandas.core.indexes.base.Index"
      ]
     },
     "execution_count": 11,
     "metadata": {},
     "output_type": "execute_result"
    }
   ],
   "source": [
    "type(df.columns)"
   ]
  },
  {
   "cell_type": "code",
   "execution_count": 12,
   "metadata": {
    "cell_id": "5ef8868a885a4408a5f00a0ab2176f26",
    "deepnote_cell_type": "code",
    "deepnote_to_be_reexecuted": false,
    "execution_millis": 227,
    "execution_start": 1697055918296,
    "source_hash": null
   },
   "outputs": [
    {
     "name": "stdout",
     "output_type": "stream",
     "text": [
      "Help on method get_loc in module pandas.core.indexes.base:\n",
      "\n",
      "get_loc(key) method of pandas.core.indexes.base.Index instance\n",
      "    Get integer location, slice or boolean mask for requested label.\n",
      "    \n",
      "    Parameters\n",
      "    ----------\n",
      "    key : label\n",
      "    \n",
      "    Returns\n",
      "    -------\n",
      "    int if unique index, slice if monotonic index, else mask\n",
      "    \n",
      "    Examples\n",
      "    --------\n",
      "    >>> unique_index = pd.Index(list('abc'))\n",
      "    >>> unique_index.get_loc('b')\n",
      "    1\n",
      "    \n",
      "    >>> monotonic_index = pd.Index(list('abbc'))\n",
      "    >>> monotonic_index.get_loc('b')\n",
      "    slice(1, 3, None)\n",
      "    \n",
      "    >>> non_monotonic_index = pd.Index(list('abcb'))\n",
      "    >>> non_monotonic_index.get_loc('b')\n",
      "    array([False,  True, False,  True])\n",
      "\n"
     ]
    }
   ],
   "source": [
    "help(df.columns.get_loc)"
   ]
  },
  {
   "cell_type": "markdown",
   "metadata": {
    "cell_id": "4c58eea11c07495abdeb755149e818bd",
    "deepnote_cell_type": "markdown"
   },
   "source": [
    "Use the `get_indexer` method of a pandas Index."
   ]
  },
  {
   "cell_type": "code",
   "execution_count": 13,
   "metadata": {
    "cell_id": "a4e56510bbd444f7a418c3e20187a32a",
    "deepnote_cell_type": "code",
    "deepnote_to_be_reexecuted": false,
    "execution_millis": 270,
    "execution_start": 1697056124623,
    "source_hash": null
   },
   "outputs": [
    {
     "data": {
      "text/plain": [
       "array([12,  0])"
      ]
     },
     "execution_count": 13,
     "metadata": {},
     "output_type": "execute_result"
    }
   ],
   "source": [
    "#df.columns.get_loc(['pickup_borough','pickup']) #fail for multiple locations\n",
    "df.columns.get_indexer(['pickup_borough','pickup']) # get multiple locations at the same time"
   ]
  },
  {
   "cell_type": "markdown",
   "metadata": {
    "cell_id": "a4b5f9fc43354b97967d6fee22cde8d4",
    "deepnote_cell_type": "markdown"
   },
   "source": [
    "`unique` gets us the distinct values which occur in the Series (including the missing value, represented as `nan`, which stands for “not a number”). Notice that `unique` is a Series method, not a DataFrame method."
   ]
  },
  {
   "cell_type": "code",
   "execution_count": 14,
   "metadata": {
    "cell_id": "33b197f24f1942cb987b31a3256bf3b6",
    "deepnote_cell_type": "code",
    "deepnote_to_be_reexecuted": false,
    "execution_millis": 42,
    "execution_start": 1697056361621,
    "source_hash": null
   },
   "outputs": [
    {
     "data": {
      "text/plain": [
       "array(['Manhattan', 'Queens', nan, 'Bronx', 'Brooklyn'], dtype=object)"
      ]
     },
     "execution_count": 14,
     "metadata": {},
     "output_type": "execute_result"
    }
   ],
   "source": [
    "col_pb = df['pickup_borough']\n",
    "col_pb.unique()"
   ]
  },
  {
   "cell_type": "code",
   "execution_count": 15,
   "metadata": {
    "cell_id": "b7fbcb09391c44e1a7059e096a6a6358",
    "deepnote_cell_type": "code",
    "deepnote_to_be_reexecuted": false,
    "execution_millis": 19,
    "execution_start": 1697056380560,
    "source_hash": null
   },
   "outputs": [
    {
     "data": {
      "text/plain": [
       "5"
      ]
     },
     "execution_count": 15,
     "metadata": {},
     "output_type": "execute_result"
    }
   ],
   "source": [
    "len(col_pb.unique())"
   ]
  },
  {
   "cell_type": "markdown",
   "metadata": {
    "cell_id": "b06aa79e18a34426b4895c15f3f45069",
    "deepnote_cell_type": "markdown"
   },
   "source": [
    "`(5,)` represents a one-dimensional array (such as `np.array([1, 2, 3, 4, 5])`), while the shape `(5, 1)` represents a two-dimensional array with one column (such as `np.array([[1], [2], [3], [4], [5]])`)."
   ]
  },
  {
   "cell_type": "code",
   "execution_count": 16,
   "metadata": {
    "cell_id": "69989e8005c84417823bc8c75209321e",
    "deepnote_cell_type": "code",
    "deepnote_to_be_reexecuted": false,
    "execution_millis": 28,
    "execution_start": 1697056407218,
    "source_hash": null
   },
   "outputs": [
    {
     "data": {
      "text/plain": [
       "(5,)"
      ]
     },
     "execution_count": 16,
     "metadata": {},
     "output_type": "execute_result"
    }
   ],
   "source": [
    "col_pb.unique().shape"
   ]
  },
  {
   "cell_type": "markdown",
   "metadata": {
    "cell_id": "5db3da01cc6549b9b4c7e3c450719e7f",
    "deepnote_cell_type": "markdown"
   },
   "source": [
    "`value_counts` returns a Series containing counts of unique values. Excludes `nan` by default."
   ]
  },
  {
   "cell_type": "code",
   "execution_count": 17,
   "metadata": {
    "cell_id": "3da247b794414e31b7e10677a5b530fc",
    "deepnote_cell_type": "code",
    "deepnote_to_be_reexecuted": false,
    "execution_millis": 20,
    "execution_start": 1697056612357,
    "source_hash": null
   },
   "outputs": [
    {
     "name": "stdout",
     "output_type": "stream",
     "text": [
      "pickup_borough\n",
      "Manhattan    5268\n",
      "Queens        657\n",
      "Brooklyn      383\n",
      "Bronx          99\n",
      "Name: count, dtype: int64\n"
     ]
    },
    {
     "data": {
      "text/plain": [
       "4"
      ]
     },
     "execution_count": 17,
     "metadata": {},
     "output_type": "execute_result"
    }
   ],
   "source": [
    "print(col_pb.value_counts())\n",
    "len(col_pb.value_counts())"
   ]
  },
  {
   "cell_type": "code",
   "execution_count": 18,
   "metadata": {
    "cell_id": "5f43331d734647ec88081ce90ed6a297",
    "deepnote_cell_type": "code",
    "deepnote_to_be_reexecuted": false,
    "execution_millis": 104,
    "execution_start": 1697056807157,
    "source_hash": null
   },
   "outputs": [
    {
     "name": "stdout",
     "output_type": "stream",
     "text": [
      "Help on method value_counts in module pandas.core.base:\n",
      "\n",
      "value_counts(normalize: 'bool' = False, sort: 'bool' = True, ascending: 'bool' = False, bins=None, dropna: 'bool' = True) -> 'Series' method of pandas.core.series.Series instance\n",
      "    Return a Series containing counts of unique values.\n",
      "    \n",
      "    The resulting object will be in descending order so that the\n",
      "    first element is the most frequently-occurring element.\n",
      "    Excludes NA values by default.\n",
      "    \n",
      "    Parameters\n",
      "    ----------\n",
      "    normalize : bool, default False\n",
      "        If True then the object returned will contain the relative\n",
      "        frequencies of the unique values.\n",
      "    sort : bool, default True\n",
      "        Sort by frequencies.\n",
      "    ascending : bool, default False\n",
      "        Sort in ascending order.\n",
      "    bins : int, optional\n",
      "        Rather than count values, group them into half-open bins,\n",
      "        a convenience for ``pd.cut``, only works with numeric data.\n",
      "    dropna : bool, default True\n",
      "        Don't include counts of NaN.\n",
      "    \n",
      "    Returns\n",
      "    -------\n",
      "    Series\n",
      "    \n",
      "    See Also\n",
      "    --------\n",
      "    Series.count: Number of non-NA elements in a Series.\n",
      "    DataFrame.count: Number of non-NA elements in a DataFrame.\n",
      "    DataFrame.value_counts: Equivalent method on DataFrames.\n",
      "    \n",
      "    Examples\n",
      "    --------\n",
      "    >>> index = pd.Index([3, 1, 2, 3, 4, np.nan])\n",
      "    >>> index.value_counts()\n",
      "    3.0    2\n",
      "    1.0    1\n",
      "    2.0    1\n",
      "    4.0    1\n",
      "    Name: count, dtype: int64\n",
      "    \n",
      "    With `normalize` set to `True`, returns the relative frequency by\n",
      "    dividing all values by the sum of values.\n",
      "    \n",
      "    >>> s = pd.Series([3, 1, 2, 3, 4, np.nan])\n",
      "    >>> s.value_counts(normalize=True)\n",
      "    3.0    0.4\n",
      "    1.0    0.2\n",
      "    2.0    0.2\n",
      "    4.0    0.2\n",
      "    Name: proportion, dtype: float64\n",
      "    \n",
      "    **bins**\n",
      "    \n",
      "    Bins can be useful for going from a continuous variable to a\n",
      "    categorical variable; instead of counting unique\n",
      "    apparitions of values, divide the index in the specified\n",
      "    number of half-open bins.\n",
      "    \n",
      "    >>> s.value_counts(bins=3)\n",
      "    (0.996, 2.0]    2\n",
      "    (2.0, 3.0]      2\n",
      "    (3.0, 4.0]      1\n",
      "    Name: count, dtype: int64\n",
      "    \n",
      "    **dropna**\n",
      "    \n",
      "    With `dropna` set to `False` we can also see NaN index values.\n",
      "    \n",
      "    >>> s.value_counts(dropna=False)\n",
      "    3.0    2\n",
      "    1.0    1\n",
      "    2.0    1\n",
      "    4.0    1\n",
      "    NaN    1\n",
      "    Name: count, dtype: int64\n",
      "\n"
     ]
    }
   ],
   "source": [
    "help(col_pb.value_counts)"
   ]
  },
  {
   "cell_type": "code",
   "execution_count": 19,
   "metadata": {
    "cell_id": "dc1132cdb07d4e83977731f372409ebf",
    "deepnote_cell_type": "code",
    "deepnote_to_be_reexecuted": false,
    "execution_millis": 19,
    "execution_start": 1697056886313,
    "source_hash": null
   },
   "outputs": [
    {
     "data": {
      "text/plain": [
       "pickup_borough\n",
       "Manhattan    5268\n",
       "Queens        657\n",
       "Brooklyn      383\n",
       "Bronx          99\n",
       "NaN            26\n",
       "Name: count, dtype: int64"
      ]
     },
     "execution_count": 19,
     "metadata": {},
     "output_type": "execute_result"
    }
   ],
   "source": [
    "col_pb.value_counts(dropna=False)"
   ]
  },
  {
   "cell_type": "markdown",
   "metadata": {
    "cell_id": "3fa89d44d7374befac9855122ae6a44e",
    "deepnote_cell_type": "markdown"
   },
   "source": [
    "## Working with dates in pandas"
   ]
  },
  {
   "cell_type": "markdown",
   "metadata": {
    "cell_id": "279bae52e1b34a4491e4e80678622e32",
    "deepnote_cell_type": "markdown"
   },
   "source": [
    "* Convert the \"pickup\" and \"dropoff\" columns to datetime values, using the pandas function `to_datetime`.  Save the results as new columns in `df`, named \"picktime\" and \"droptime\"."
   ]
  },
  {
   "cell_type": "markdown",
   "metadata": {
    "cell_id": "a74b2f7344df40039a87fa1cbe4b6ae5",
    "deepnote_cell_type": "markdown"
   },
   "source": [
    "We can recognize “pickup” and \"dropoff\" columns as dates, but for now, they are just strings to Python and to pandas. (Notice that it is reported as an “object” data type.)"
   ]
  },
  {
   "cell_type": "code",
   "execution_count": 20,
   "metadata": {
    "cell_id": "5919f3d554c94a59b6fe414036d79209",
    "deepnote_cell_type": "code",
    "deepnote_to_be_reexecuted": false,
    "execution_millis": 199,
    "execution_start": 1697057028586,
    "source_hash": null
   },
   "outputs": [
    {
     "data": {
      "text/html": [
       "<div>\n",
       "<style scoped>\n",
       "    .dataframe tbody tr th:only-of-type {\n",
       "        vertical-align: middle;\n",
       "    }\n",
       "\n",
       "    .dataframe tbody tr th {\n",
       "        vertical-align: top;\n",
       "    }\n",
       "\n",
       "    .dataframe thead th {\n",
       "        text-align: right;\n",
       "    }\n",
       "</style>\n",
       "<table border=\"1\" class=\"dataframe\">\n",
       "  <thead>\n",
       "    <tr style=\"text-align: right;\">\n",
       "      <th></th>\n",
       "      <th>pickup</th>\n",
       "      <th>dropoff</th>\n",
       "    </tr>\n",
       "  </thead>\n",
       "  <tbody>\n",
       "    <tr>\n",
       "      <th>0</th>\n",
       "      <td>2019-03-23 20:21:09</td>\n",
       "      <td>2019-03-23 20:27:24</td>\n",
       "    </tr>\n",
       "    <tr>\n",
       "      <th>1</th>\n",
       "      <td>2019-03-04 16:11:55</td>\n",
       "      <td>2019-03-04 16:19:00</td>\n",
       "    </tr>\n",
       "    <tr>\n",
       "      <th>2</th>\n",
       "      <td>2019-03-27 17:53:01</td>\n",
       "      <td>2019-03-27 18:00:25</td>\n",
       "    </tr>\n",
       "    <tr>\n",
       "      <th>3</th>\n",
       "      <td>2019-03-10 01:23:59</td>\n",
       "      <td>2019-03-10 01:49:51</td>\n",
       "    </tr>\n",
       "    <tr>\n",
       "      <th>4</th>\n",
       "      <td>2019-03-30 13:27:42</td>\n",
       "      <td>2019-03-30 13:37:14</td>\n",
       "    </tr>\n",
       "    <tr>\n",
       "      <th>...</th>\n",
       "      <td>...</td>\n",
       "      <td>...</td>\n",
       "    </tr>\n",
       "    <tr>\n",
       "      <th>6428</th>\n",
       "      <td>2019-03-31 09:51:53</td>\n",
       "      <td>2019-03-31 09:55:27</td>\n",
       "    </tr>\n",
       "    <tr>\n",
       "      <th>6429</th>\n",
       "      <td>2019-03-31 17:38:00</td>\n",
       "      <td>2019-03-31 18:34:23</td>\n",
       "    </tr>\n",
       "    <tr>\n",
       "      <th>6430</th>\n",
       "      <td>2019-03-23 22:55:18</td>\n",
       "      <td>2019-03-23 23:14:25</td>\n",
       "    </tr>\n",
       "    <tr>\n",
       "      <th>6431</th>\n",
       "      <td>2019-03-04 10:09:25</td>\n",
       "      <td>2019-03-04 10:14:29</td>\n",
       "    </tr>\n",
       "    <tr>\n",
       "      <th>6432</th>\n",
       "      <td>2019-03-13 19:31:22</td>\n",
       "      <td>2019-03-13 19:48:02</td>\n",
       "    </tr>\n",
       "  </tbody>\n",
       "</table>\n",
       "<p>6433 rows × 2 columns</p>\n",
       "</div>"
      ],
      "text/plain": [
       "                   pickup              dropoff\n",
       "0     2019-03-23 20:21:09  2019-03-23 20:27:24\n",
       "1     2019-03-04 16:11:55  2019-03-04 16:19:00\n",
       "2     2019-03-27 17:53:01  2019-03-27 18:00:25\n",
       "3     2019-03-10 01:23:59  2019-03-10 01:49:51\n",
       "4     2019-03-30 13:27:42  2019-03-30 13:37:14\n",
       "...                   ...                  ...\n",
       "6428  2019-03-31 09:51:53  2019-03-31 09:55:27\n",
       "6429  2019-03-31 17:38:00  2019-03-31 18:34:23\n",
       "6430  2019-03-23 22:55:18  2019-03-23 23:14:25\n",
       "6431  2019-03-04 10:09:25  2019-03-04 10:14:29\n",
       "6432  2019-03-13 19:31:22  2019-03-13 19:48:02\n",
       "\n",
       "[6433 rows x 2 columns]"
      ]
     },
     "execution_count": 20,
     "metadata": {},
     "output_type": "execute_result"
    }
   ],
   "source": [
    "df[['pickup','dropoff']]"
   ]
  },
  {
   "cell_type": "markdown",
   "metadata": {
    "cell_id": "acfccbff3b6a48e4ba20bf7f0a613373",
    "deepnote_cell_type": "markdown"
   },
   "source": [
    "Let’s see in a smaller example how the `pd.to_datetime`  works. We start out by defining a string representing today’s date.\n",
    "\n"
   ]
  },
  {
   "cell_type": "code",
   "execution_count": 21,
   "metadata": {
    "cell_id": "38fc5720a6be4737977499612e777feb",
    "deepnote_cell_type": "code",
    "deepnote_to_be_reexecuted": false,
    "execution_millis": 22,
    "execution_start": 1697057136533,
    "source_hash": null
   },
   "outputs": [
    {
     "data": {
      "text/plain": [
       "str"
      ]
     },
     "execution_count": 21,
     "metadata": {},
     "output_type": "execute_result"
    }
   ],
   "source": [
    "today = 'Oct 11, 2023'\n",
    "type(today)"
   ]
  },
  {
   "cell_type": "markdown",
   "metadata": {
    "cell_id": "c409f866bb9d4208b7ba9b85226419c2",
    "deepnote_cell_type": "markdown"
   },
   "source": [
    "Convert it to a Timestamp using `pd.to_datetime`."
   ]
  },
  {
   "cell_type": "code",
   "execution_count": 22,
   "metadata": {
    "cell_id": "efca0a12cc0a43b3bfea13ba87be71a4",
    "deepnote_cell_type": "code",
    "deepnote_to_be_reexecuted": false,
    "execution_millis": 22,
    "execution_start": 1697057193454,
    "source_hash": null
   },
   "outputs": [
    {
     "name": "stdout",
     "output_type": "stream",
     "text": [
      "2023-10-11 00:00:00\n"
     ]
    },
    {
     "data": {
      "text/plain": [
       "pandas._libs.tslibs.timestamps.Timestamp"
      ]
     },
     "execution_count": 22,
     "metadata": {},
     "output_type": "execute_result"
    }
   ],
   "source": [
    "ts = pd.to_datetime(today)\n",
    "print(ts)\n",
    "type(ts)"
   ]
  },
  {
   "cell_type": "markdown",
   "metadata": {
    "cell_id": "7657230046984abb9b4ce4ed1d741327",
    "deepnote_cell_type": "markdown"
   },
   "source": [
    "We now have access to all sorts of additional information related to this date. It’s a little unpredictable which are methods. Whether `day_name` or `day_of_year` is a method is not something you would be tested on."
   ]
  },
  {
   "cell_type": "code",
   "execution_count": 23,
   "metadata": {
    "cell_id": "1802aa16fbdc45c489077ef205ecac38",
    "deepnote_cell_type": "code",
    "deepnote_to_be_reexecuted": false,
    "execution_millis": 19,
    "execution_start": 1697057247000,
    "source_hash": null
   },
   "outputs": [
    {
     "data": {
      "text/plain": [
       "284"
      ]
     },
     "execution_count": 23,
     "metadata": {},
     "output_type": "execute_result"
    }
   ],
   "source": [
    "ts.day_of_year"
   ]
  },
  {
   "cell_type": "code",
   "execution_count": 24,
   "metadata": {
    "cell_id": "703178b2671d4a9f847f8dc6caa5be4c",
    "deepnote_cell_type": "code",
    "deepnote_to_be_reexecuted": false,
    "execution_millis": 25,
    "execution_start": 1697057264086,
    "source_hash": null
   },
   "outputs": [
    {
     "data": {
      "text/plain": [
       "'Wednesday'"
      ]
     },
     "execution_count": 24,
     "metadata": {},
     "output_type": "execute_result"
    }
   ],
   "source": [
    "ts.day_name()"
   ]
  },
  {
   "cell_type": "code",
   "execution_count": 25,
   "metadata": {
    "cell_id": "7bb0328bccce4b39962dab03781196c4",
    "deepnote_cell_type": "code",
    "deepnote_to_be_reexecuted": false,
    "execution_millis": 23,
    "execution_start": 1697057320600,
    "source_hash": null
   },
   "outputs": [
    {
     "name": "stdout",
     "output_type": "stream",
     "text": [
      "Help on built-in function day_name:\n",
      "\n",
      "day_name(...) method of pandas._libs.tslibs.timestamps.Timestamp instance\n",
      "    Return the day name of the Timestamp with specified locale.\n",
      "    \n",
      "    Parameters\n",
      "    ----------\n",
      "    locale : str, default None (English locale)\n",
      "        Locale determining the language in which to return the day name.\n",
      "    \n",
      "    Returns\n",
      "    -------\n",
      "    str\n",
      "    \n",
      "    Examples\n",
      "    --------\n",
      "    >>> ts = pd.Timestamp('2020-03-14T15:32:52.192548651')\n",
      "    >>> ts.day_name()\n",
      "    'Saturday'\n",
      "    \n",
      "    Analogous for ``pd.NaT``:\n",
      "    \n",
      "    >>> pd.NaT.day_name()\n",
      "    nan\n",
      "\n"
     ]
    }
   ],
   "source": [
    "help(ts.day_name)"
   ]
  },
  {
   "cell_type": "markdown",
   "metadata": {
    "cell_id": "d1b33a634409409ba1e181ed05a23abb",
    "deepnote_cell_type": "markdown"
   },
   "source": [
    "Here we are adding one new column to the DataFrame. We name it “picktime”."
   ]
  },
  {
   "cell_type": "code",
   "execution_count": 26,
   "metadata": {
    "cell_id": "e0387fd3727e4589925fd64d2782b338",
    "deepnote_cell_type": "code",
    "deepnote_to_be_reexecuted": false,
    "editable": true,
    "execution_millis": 143,
    "execution_start": 1697057403561,
    "slideshow": {
     "slide_type": ""
    },
    "source_hash": null,
    "tags": []
   },
   "outputs": [
    {
     "data": {
      "text/html": [
       "<div>\n",
       "<style scoped>\n",
       "    .dataframe tbody tr th:only-of-type {\n",
       "        vertical-align: middle;\n",
       "    }\n",
       "\n",
       "    .dataframe tbody tr th {\n",
       "        vertical-align: top;\n",
       "    }\n",
       "\n",
       "    .dataframe thead th {\n",
       "        text-align: right;\n",
       "    }\n",
       "</style>\n",
       "<table border=\"1\" class=\"dataframe\">\n",
       "  <thead>\n",
       "    <tr style=\"text-align: right;\">\n",
       "      <th></th>\n",
       "      <th>pickup</th>\n",
       "      <th>dropoff</th>\n",
       "      <th>passengers</th>\n",
       "      <th>distance</th>\n",
       "      <th>fare</th>\n",
       "      <th>tip</th>\n",
       "      <th>tolls</th>\n",
       "      <th>total</th>\n",
       "      <th>color</th>\n",
       "      <th>payment</th>\n",
       "      <th>pickup_zone</th>\n",
       "      <th>dropoff_zone</th>\n",
       "      <th>pickup_borough</th>\n",
       "      <th>dropoff_borough</th>\n",
       "      <th>pickuptime</th>\n",
       "    </tr>\n",
       "  </thead>\n",
       "  <tbody>\n",
       "    <tr>\n",
       "      <th>0</th>\n",
       "      <td>2019-03-23 20:21:09</td>\n",
       "      <td>2019-03-23 20:27:24</td>\n",
       "      <td>1</td>\n",
       "      <td>1.60</td>\n",
       "      <td>7.0</td>\n",
       "      <td>2.15</td>\n",
       "      <td>0.0</td>\n",
       "      <td>12.95</td>\n",
       "      <td>yellow</td>\n",
       "      <td>credit card</td>\n",
       "      <td>Lenox Hill West</td>\n",
       "      <td>UN/Turtle Bay South</td>\n",
       "      <td>Manhattan</td>\n",
       "      <td>Manhattan</td>\n",
       "      <td>2019-03-23 20:21:09</td>\n",
       "    </tr>\n",
       "    <tr>\n",
       "      <th>1</th>\n",
       "      <td>2019-03-04 16:11:55</td>\n",
       "      <td>2019-03-04 16:19:00</td>\n",
       "      <td>1</td>\n",
       "      <td>0.79</td>\n",
       "      <td>5.0</td>\n",
       "      <td>0.00</td>\n",
       "      <td>0.0</td>\n",
       "      <td>9.30</td>\n",
       "      <td>yellow</td>\n",
       "      <td>cash</td>\n",
       "      <td>Upper West Side South</td>\n",
       "      <td>Upper West Side South</td>\n",
       "      <td>Manhattan</td>\n",
       "      <td>Manhattan</td>\n",
       "      <td>2019-03-04 16:11:55</td>\n",
       "    </tr>\n",
       "    <tr>\n",
       "      <th>2</th>\n",
       "      <td>2019-03-27 17:53:01</td>\n",
       "      <td>2019-03-27 18:00:25</td>\n",
       "      <td>1</td>\n",
       "      <td>1.37</td>\n",
       "      <td>7.5</td>\n",
       "      <td>2.36</td>\n",
       "      <td>0.0</td>\n",
       "      <td>14.16</td>\n",
       "      <td>yellow</td>\n",
       "      <td>credit card</td>\n",
       "      <td>Alphabet City</td>\n",
       "      <td>West Village</td>\n",
       "      <td>Manhattan</td>\n",
       "      <td>Manhattan</td>\n",
       "      <td>2019-03-27 17:53:01</td>\n",
       "    </tr>\n",
       "    <tr>\n",
       "      <th>3</th>\n",
       "      <td>2019-03-10 01:23:59</td>\n",
       "      <td>2019-03-10 01:49:51</td>\n",
       "      <td>1</td>\n",
       "      <td>7.70</td>\n",
       "      <td>27.0</td>\n",
       "      <td>6.15</td>\n",
       "      <td>0.0</td>\n",
       "      <td>36.95</td>\n",
       "      <td>yellow</td>\n",
       "      <td>credit card</td>\n",
       "      <td>Hudson Sq</td>\n",
       "      <td>Yorkville West</td>\n",
       "      <td>Manhattan</td>\n",
       "      <td>Manhattan</td>\n",
       "      <td>2019-03-10 01:23:59</td>\n",
       "    </tr>\n",
       "    <tr>\n",
       "      <th>4</th>\n",
       "      <td>2019-03-30 13:27:42</td>\n",
       "      <td>2019-03-30 13:37:14</td>\n",
       "      <td>3</td>\n",
       "      <td>2.16</td>\n",
       "      <td>9.0</td>\n",
       "      <td>1.10</td>\n",
       "      <td>0.0</td>\n",
       "      <td>13.40</td>\n",
       "      <td>yellow</td>\n",
       "      <td>credit card</td>\n",
       "      <td>Midtown East</td>\n",
       "      <td>Yorkville West</td>\n",
       "      <td>Manhattan</td>\n",
       "      <td>Manhattan</td>\n",
       "      <td>2019-03-30 13:27:42</td>\n",
       "    </tr>\n",
       "  </tbody>\n",
       "</table>\n",
       "</div>"
      ],
      "text/plain": [
       "                pickup              dropoff  passengers  distance  fare   tip   \n",
       "0  2019-03-23 20:21:09  2019-03-23 20:27:24           1      1.60   7.0  2.15  \\\n",
       "1  2019-03-04 16:11:55  2019-03-04 16:19:00           1      0.79   5.0  0.00   \n",
       "2  2019-03-27 17:53:01  2019-03-27 18:00:25           1      1.37   7.5  2.36   \n",
       "3  2019-03-10 01:23:59  2019-03-10 01:49:51           1      7.70  27.0  6.15   \n",
       "4  2019-03-30 13:27:42  2019-03-30 13:37:14           3      2.16   9.0  1.10   \n",
       "\n",
       "   tolls  total   color      payment            pickup_zone   \n",
       "0    0.0  12.95  yellow  credit card        Lenox Hill West  \\\n",
       "1    0.0   9.30  yellow         cash  Upper West Side South   \n",
       "2    0.0  14.16  yellow  credit card          Alphabet City   \n",
       "3    0.0  36.95  yellow  credit card              Hudson Sq   \n",
       "4    0.0  13.40  yellow  credit card           Midtown East   \n",
       "\n",
       "            dropoff_zone pickup_borough dropoff_borough          pickuptime  \n",
       "0    UN/Turtle Bay South      Manhattan       Manhattan 2019-03-23 20:21:09  \n",
       "1  Upper West Side South      Manhattan       Manhattan 2019-03-04 16:11:55  \n",
       "2           West Village      Manhattan       Manhattan 2019-03-27 17:53:01  \n",
       "3         Yorkville West      Manhattan       Manhattan 2019-03-10 01:23:59  \n",
       "4         Yorkville West      Manhattan       Manhattan 2019-03-30 13:27:42  "
      ]
     },
     "execution_count": 26,
     "metadata": {},
     "output_type": "execute_result"
    }
   ],
   "source": [
    "df['pickuptime'] = pd.to_datetime(df['pickup'])\n",
    "df.head()"
   ]
  }
 ],
 "metadata": {
  "deepnote": {},
  "deepnote_execution_queue": [],
  "deepnote_notebook_id": "b72d984f4a824738918e90917d9523b8",
  "deepnote_persisted_session": {
   "createdAt": "2023-10-11T21:16:25.460Z"
  },
  "kernelspec": {
   "display_name": "Python 3 (ipykernel)",
   "language": "python",
   "name": "python3"
  },
  "language_info": {
   "codemirror_mode": {
    "name": "ipython",
    "version": 3
   },
   "file_extension": ".py",
   "mimetype": "text/x-python",
   "name": "python",
   "nbconvert_exporter": "python",
   "pygments_lexer": "ipython3",
   "version": "3.8.16"
  }
 },
 "nbformat": 4,
 "nbformat_minor": 4
}
