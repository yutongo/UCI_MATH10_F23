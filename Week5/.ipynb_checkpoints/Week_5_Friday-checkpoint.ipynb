{
 "cells": [
  {
   "cell_type": "markdown",
   "metadata": {
    "cell_id": "03e449d0057e4aafa1642058070b7316",
    "deepnote_cell_type": "markdown"
   },
   "source": [
    "##  Machine Learning: Overview of the whole picture\n",
    "Possible hierarchies of machine learning concepts:\n",
    "\n",
    "- **Problems**: \n",
    "    - Supervised Learning (Regression, Classification)\n",
    "    - Unsupervised Learning (Dimension Reduction, Clustering)\n",
    "\n",
    "\n",
    "- **Models**: \n",
    "    - (Supervised) Linear Regression, Logistic Regression, K-Nearest Neighbor (kNN) Classification/Regression, Decision Tree, Random Forest, Support Vector Machine...\n",
    "    - (Unsupervised) K-means,Hierachical Clustering, Principle Component Analysis, Manifold Learning (MDS, IsoMap, Diffusion Map, tSNE), Autoencoder...\n",
    "    \n",
    "\n",
    "- **Algorithms**: Gradient Descent, Stochastic Gradient Descent (SGD), Back Propagation (BP), Expectation–Maximization (EM)...\n",
    "    \n",
    "    \n",
    "For the same **problem**, there may exist multiple **models** to discribe it. Given the specific **model**, there might be many different **algorithms** to solve it.\n",
    "\n",
    "Why there is so much diversity? The following two fundamental principles of machine learning may provide theoretical insights.\n",
    "\n",
    "**[Bias-Variance Trade-off](https://towardsdatascience.com/understanding-the-bias-variance-tradeoff-165e6942b229)**: Simple models -- large bias, low variance. Complex models -- low bias, large variance\n",
    "\n",
    "**[No Free Lunch Theorem](https://analyticsindiamag.com/what-are-the-no-free-lunch-theorems-in-data-science/#:~:text=Once%20Upon%20A%20Time,that%20they%20brought%20a%20drink)**: (in plain language) There is no one model that works best for every problem. (more quantitatively) Any two models are equivalent when their performance averaged across all possible problems. --Even true for [optimization algorithms](https://en.wikipedia.org/wiki/No_free_lunch_in_search_and_optimization)."
   ]
  },
  {
   "cell_type": "code",
   "execution_count": 1,
   "metadata": {
    "cell_id": "87de481344e44a53bf9452864d85b175",
    "deepnote_cell_type": "code",
    "deepnote_to_be_reexecuted": false,
    "execution_millis": 2518,
    "execution_start": 1699076770973,
    "source_hash": "97d50920"
   },
   "outputs": [],
   "source": [
    "import pandas as pd\n",
    "import altair as alt\n",
    "import seaborn as sns"
   ]
  },
  {
   "cell_type": "markdown",
   "metadata": {
    "cell_id": "8d4b5f46c3e3422d9cc23975cb6ea7a0",
    "deepnote_cell_type": "markdown"
   },
   "source": [
    "## Recap\n",
    "\n",
    "This week we've started the Machine Learning portion of the class.  The most important points so far:\n",
    "\n",
    "* The most common scikit-learn workflow: import, instantiate, fit, predict.\n",
    "* Using scikit-learn for linear regression.\n",
    "* Linear regression is a model for *regression*, because we are trying to predict a continuous value.  (You might think that's obvious since it's called linear regression, but next week we will learn logistic regression, which is actually used for classification.)\n",
    "* The coefficients found in linear regression have real-world interpretations, similar to partial derivatives."
   ]
  },
  {
   "cell_type": "markdown",
   "metadata": {
    "cell_id": "885e7495d0f44c9c83c847c4cf978c21",
    "deepnote_cell_type": "markdown"
   },
   "source": [
    "## Motivating Example III: Single-variable Polynomial Regression (Special Case of Multivariable Linear Regression)\n",
    "\n",
    "### **Problem**\n",
    "Given the *training dataset* $(x^{(i)},y^{(i)}), i= 1,2,..., N$, this time with $y^{(i)}\\in \\mathbb{R}$ and $x^{(i)}\\in\\mathbb{R}$, we fit the single-variable polynomial function of $p$-th order\n",
    "\n",
    "$$\n",
    "y\\approx f(x)=w_{0}+w_{1}x+w_{2}x^{2}+...+w_{p}x^{p}\n",
    "$$  \n",
    "\n",
    "**Remark:** A basic conclusion in numerical analysis is that with N points, we can have a polynomial of order (N-1) that fits every point perfectly.\n",
    " \n",
    "### **Strategy**\n",
    "Single-variable **polynomial regression** is a special case of multi-variable **linear** regression, because we can construct a dataset of $p$ variables by defining each row as $(x,x^{2}, ..., x^{p})$ for each observation at $x$. "
   ]
  },
  {
   "cell_type": "markdown",
   "metadata": {
    "cell_id": "bcaa0b7e4b454ffe9e2b5dc4e7edcdc7",
    "deepnote_cell_type": "markdown"
   },
   "source": [
    "* Load the mpg dataset from Seaborn and drop missing values.  Name the result `df`."
   ]
  },
  {
   "cell_type": "code",
   "execution_count": 2,
   "metadata": {
    "cell_id": "b500ab8c3e1545e7abd6835e9e6d4bc3",
    "deepnote_cell_type": "code",
    "deepnote_to_be_reexecuted": false,
    "execution_millis": 571,
    "execution_start": 1699076773492,
    "source_hash": "2ca6c11f"
   },
   "outputs": [],
   "source": [
    "df = sns.load_dataset(\"mpg\").dropna(axis=0).copy()"
   ]
  },
  {
   "cell_type": "code",
   "execution_count": 3,
   "metadata": {
    "cell_id": "ed6d6cb8b4624e049ada6b81556d7f47",
    "deepnote_cell_type": "code",
    "deepnote_to_be_reexecuted": false,
    "execution_millis": 60,
    "execution_start": 1699076774066,
    "source_hash": "245876d0"
   },
   "outputs": [
    {
     "data": {
      "application/vnd.deepnote.dataframe.v3+json": {
       "column_count": 9,
       "columns": [
        {
         "dtype": "float64",
         "name": "mpg",
         "stats": {
          "histogram": [
           {
            "bin_end": 15.3,
            "bin_start": 15,
            "count": 1
           },
           {
            "bin_end": 15.6,
            "bin_start": 15.3,
            "count": 0
           },
           {
            "bin_end": 15.9,
            "bin_start": 15.6,
            "count": 0
           },
           {
            "bin_end": 16.2,
            "bin_start": 15.9,
            "count": 1
           },
           {
            "bin_end": 16.5,
            "bin_start": 16.2,
            "count": 0
           },
           {
            "bin_end": 16.8,
            "bin_start": 16.5,
            "count": 0
           },
           {
            "bin_end": 17.1,
            "bin_start": 16.8,
            "count": 1
           },
           {
            "bin_end": 17.4,
            "bin_start": 17.1,
            "count": 0
           },
           {
            "bin_end": 17.7,
            "bin_start": 17.4,
            "count": 0
           },
           {
            "bin_end": 18,
            "bin_start": 17.7,
            "count": 2
           }
          ],
          "max": "18.0",
          "min": "15.0",
          "nan_count": 0,
          "unique_count": 4
         }
        },
        {
         "dtype": "int64",
         "name": "cylinders",
         "stats": {
          "histogram": [
           {
            "bin_end": 7.6,
            "bin_start": 7.5,
            "count": 0
           },
           {
            "bin_end": 7.7,
            "bin_start": 7.6,
            "count": 0
           },
           {
            "bin_end": 7.8,
            "bin_start": 7.7,
            "count": 0
           },
           {
            "bin_end": 7.9,
            "bin_start": 7.8,
            "count": 0
           },
           {
            "bin_end": 8,
            "bin_start": 7.9,
            "count": 0
           },
           {
            "bin_end": 8.1,
            "bin_start": 8,
            "count": 5
           },
           {
            "bin_end": 8.2,
            "bin_start": 8.1,
            "count": 0
           },
           {
            "bin_end": 8.3,
            "bin_start": 8.2,
            "count": 0
           },
           {
            "bin_end": 8.4,
            "bin_start": 8.3,
            "count": 0
           },
           {
            "bin_end": 8.5,
            "bin_start": 8.4,
            "count": 0
           }
          ],
          "max": "8",
          "min": "8",
          "nan_count": 0,
          "unique_count": 1
         }
        },
        {
         "dtype": "float64",
         "name": "displacement",
         "stats": {
          "histogram": [
           {
            "bin_end": 306.8,
            "bin_start": 302,
            "count": 2
           },
           {
            "bin_end": 311.6,
            "bin_start": 306.8,
            "count": 1
           },
           {
            "bin_end": 316.4,
            "bin_start": 311.6,
            "count": 0
           },
           {
            "bin_end": 321.2,
            "bin_start": 316.4,
            "count": 1
           },
           {
            "bin_end": 326,
            "bin_start": 321.2,
            "count": 0
           },
           {
            "bin_end": 330.8,
            "bin_start": 326,
            "count": 0
           },
           {
            "bin_end": 335.6,
            "bin_start": 330.8,
            "count": 0
           },
           {
            "bin_end": 340.4,
            "bin_start": 335.6,
            "count": 0
           },
           {
            "bin_end": 345.2,
            "bin_start": 340.4,
            "count": 0
           },
           {
            "bin_end": 350,
            "bin_start": 345.2,
            "count": 1
           }
          ],
          "max": "350.0",
          "min": "302.0",
          "nan_count": 0,
          "unique_count": 5
         }
        },
        {
         "dtype": "float64",
         "name": "horsepower",
         "stats": {
          "histogram": [
           {
            "bin_end": 133.5,
            "bin_start": 130,
            "count": 1
           },
           {
            "bin_end": 137,
            "bin_start": 133.5,
            "count": 0
           },
           {
            "bin_end": 140.5,
            "bin_start": 137,
            "count": 1
           },
           {
            "bin_end": 144,
            "bin_start": 140.5,
            "count": 0
           },
           {
            "bin_end": 147.5,
            "bin_start": 144,
            "count": 0
           },
           {
            "bin_end": 151,
            "bin_start": 147.5,
            "count": 2
           },
           {
            "bin_end": 154.5,
            "bin_start": 151,
            "count": 0
           },
           {
            "bin_end": 158,
            "bin_start": 154.5,
            "count": 0
           },
           {
            "bin_end": 161.5,
            "bin_start": 158,
            "count": 0
           },
           {
            "bin_end": 165,
            "bin_start": 161.5,
            "count": 1
           }
          ],
          "max": "165.0",
          "min": "130.0",
          "nan_count": 0,
          "unique_count": 4
         }
        },
        {
         "dtype": "int64",
         "name": "weight",
         "stats": {
          "histogram": [
           {
            "bin_end": 3459,
            "bin_start": 3433,
            "count": 3
           },
           {
            "bin_end": 3485,
            "bin_start": 3459,
            "count": 0
           },
           {
            "bin_end": 3511,
            "bin_start": 3485,
            "count": 1
           },
           {
            "bin_end": 3537,
            "bin_start": 3511,
            "count": 0
           },
           {
            "bin_end": 3563,
            "bin_start": 3537,
            "count": 0
           },
           {
            "bin_end": 3589,
            "bin_start": 3563,
            "count": 0
           },
           {
            "bin_end": 3615,
            "bin_start": 3589,
            "count": 0
           },
           {
            "bin_end": 3641,
            "bin_start": 3615,
            "count": 0
           },
           {
            "bin_end": 3667,
            "bin_start": 3641,
            "count": 0
           },
           {
            "bin_end": 3693,
            "bin_start": 3667,
            "count": 1
           }
          ],
          "max": "3693",
          "min": "3433",
          "nan_count": 0,
          "unique_count": 5
         }
        },
        {
         "dtype": "float64",
         "name": "acceleration",
         "stats": {
          "histogram": [
           {
            "bin_end": 10.65,
            "bin_start": 10.5,
            "count": 1
           },
           {
            "bin_end": 10.8,
            "bin_start": 10.65,
            "count": 0
           },
           {
            "bin_end": 10.95,
            "bin_start": 10.8,
            "count": 0
           },
           {
            "bin_end": 11.1,
            "bin_start": 10.95,
            "count": 1
           },
           {
            "bin_end": 11.25,
            "bin_start": 11.1,
            "count": 0
           },
           {
            "bin_end": 11.4,
            "bin_start": 11.25,
            "count": 0
           },
           {
            "bin_end": 11.55,
            "bin_start": 11.4,
            "count": 1
           },
           {
            "bin_end": 11.7,
            "bin_start": 11.55,
            "count": 0
           },
           {
            "bin_end": 11.85,
            "bin_start": 11.7,
            "count": 0
           },
           {
            "bin_end": 12,
            "bin_start": 11.85,
            "count": 2
           }
          ],
          "max": "12.0",
          "min": "10.5",
          "nan_count": 0,
          "unique_count": 4
         }
        },
        {
         "dtype": "int64",
         "name": "model_year",
         "stats": {
          "histogram": [
           {
            "bin_end": 69.6,
            "bin_start": 69.5,
            "count": 0
           },
           {
            "bin_end": 69.7,
            "bin_start": 69.6,
            "count": 0
           },
           {
            "bin_end": 69.8,
            "bin_start": 69.7,
            "count": 0
           },
           {
            "bin_end": 69.9,
            "bin_start": 69.8,
            "count": 0
           },
           {
            "bin_end": 70,
            "bin_start": 69.9,
            "count": 0
           },
           {
            "bin_end": 70.1,
            "bin_start": 70,
            "count": 5
           },
           {
            "bin_end": 70.2,
            "bin_start": 70.1,
            "count": 0
           },
           {
            "bin_end": 70.3,
            "bin_start": 70.2,
            "count": 0
           },
           {
            "bin_end": 70.4,
            "bin_start": 70.3,
            "count": 0
           },
           {
            "bin_end": 70.5,
            "bin_start": 70.4,
            "count": 0
           }
          ],
          "max": "70",
          "min": "70",
          "nan_count": 0,
          "unique_count": 1
         }
        },
        {
         "dtype": "object",
         "name": "origin",
         "stats": {
          "categories": [
           {
            "count": 5,
            "name": "usa"
           }
          ],
          "nan_count": 0,
          "unique_count": 1
         }
        },
        {
         "dtype": "object",
         "name": "name",
         "stats": {
          "categories": [
           {
            "count": 1,
            "name": "chevrolet chevelle malibu"
           },
           {
            "count": 1,
            "name": "buick skylark 320"
           },
           {
            "count": 3,
            "name": "3 others"
           }
          ],
          "nan_count": 0,
          "unique_count": 5
         }
        },
        {
         "dtype": "int64",
         "name": "_deepnote_index_column"
        }
       ],
       "row_count": 5,
       "rows": [
        {
         "_deepnote_index_column": 0,
         "acceleration": 12,
         "cylinders": 8,
         "displacement": 307,
         "horsepower": 130,
         "model_year": 70,
         "mpg": 18,
         "name": "chevrolet chevelle malibu",
         "origin": "usa",
         "weight": 3504
        },
        {
         "_deepnote_index_column": 1,
         "acceleration": 11.5,
         "cylinders": 8,
         "displacement": 350,
         "horsepower": 165,
         "model_year": 70,
         "mpg": 15,
         "name": "buick skylark 320",
         "origin": "usa",
         "weight": 3693
        },
        {
         "_deepnote_index_column": 2,
         "acceleration": 11,
         "cylinders": 8,
         "displacement": 318,
         "horsepower": 150,
         "model_year": 70,
         "mpg": 18,
         "name": "plymouth satellite",
         "origin": "usa",
         "weight": 3436
        },
        {
         "_deepnote_index_column": 3,
         "acceleration": 12,
         "cylinders": 8,
         "displacement": 304,
         "horsepower": 150,
         "model_year": 70,
         "mpg": 16,
         "name": "amc rebel sst",
         "origin": "usa",
         "weight": 3433
        },
        {
         "_deepnote_index_column": 4,
         "acceleration": 10.5,
         "cylinders": 8,
         "displacement": 302,
         "horsepower": 140,
         "model_year": 70,
         "mpg": 17,
         "name": "ford torino",
         "origin": "usa",
         "weight": 3449
        }
       ]
      },
      "text/html": [
       "<div>\n",
       "<style scoped>\n",
       "    .dataframe tbody tr th:only-of-type {\n",
       "        vertical-align: middle;\n",
       "    }\n",
       "\n",
       "    .dataframe tbody tr th {\n",
       "        vertical-align: top;\n",
       "    }\n",
       "\n",
       "    .dataframe thead th {\n",
       "        text-align: right;\n",
       "    }\n",
       "</style>\n",
       "<table border=\"1\" class=\"dataframe\">\n",
       "  <thead>\n",
       "    <tr style=\"text-align: right;\">\n",
       "      <th></th>\n",
       "      <th>mpg</th>\n",
       "      <th>cylinders</th>\n",
       "      <th>displacement</th>\n",
       "      <th>horsepower</th>\n",
       "      <th>weight</th>\n",
       "      <th>acceleration</th>\n",
       "      <th>model_year</th>\n",
       "      <th>origin</th>\n",
       "      <th>name</th>\n",
       "    </tr>\n",
       "  </thead>\n",
       "  <tbody>\n",
       "    <tr>\n",
       "      <th>0</th>\n",
       "      <td>18.0</td>\n",
       "      <td>8</td>\n",
       "      <td>307.0</td>\n",
       "      <td>130.0</td>\n",
       "      <td>3504</td>\n",
       "      <td>12.0</td>\n",
       "      <td>70</td>\n",
       "      <td>usa</td>\n",
       "      <td>chevrolet chevelle malibu</td>\n",
       "    </tr>\n",
       "    <tr>\n",
       "      <th>1</th>\n",
       "      <td>15.0</td>\n",
       "      <td>8</td>\n",
       "      <td>350.0</td>\n",
       "      <td>165.0</td>\n",
       "      <td>3693</td>\n",
       "      <td>11.5</td>\n",
       "      <td>70</td>\n",
       "      <td>usa</td>\n",
       "      <td>buick skylark 320</td>\n",
       "    </tr>\n",
       "    <tr>\n",
       "      <th>2</th>\n",
       "      <td>18.0</td>\n",
       "      <td>8</td>\n",
       "      <td>318.0</td>\n",
       "      <td>150.0</td>\n",
       "      <td>3436</td>\n",
       "      <td>11.0</td>\n",
       "      <td>70</td>\n",
       "      <td>usa</td>\n",
       "      <td>plymouth satellite</td>\n",
       "    </tr>\n",
       "    <tr>\n",
       "      <th>3</th>\n",
       "      <td>16.0</td>\n",
       "      <td>8</td>\n",
       "      <td>304.0</td>\n",
       "      <td>150.0</td>\n",
       "      <td>3433</td>\n",
       "      <td>12.0</td>\n",
       "      <td>70</td>\n",
       "      <td>usa</td>\n",
       "      <td>amc rebel sst</td>\n",
       "    </tr>\n",
       "    <tr>\n",
       "      <th>4</th>\n",
       "      <td>17.0</td>\n",
       "      <td>8</td>\n",
       "      <td>302.0</td>\n",
       "      <td>140.0</td>\n",
       "      <td>3449</td>\n",
       "      <td>10.5</td>\n",
       "      <td>70</td>\n",
       "      <td>usa</td>\n",
       "      <td>ford torino</td>\n",
       "    </tr>\n",
       "  </tbody>\n",
       "</table>\n",
       "</div>"
      ],
      "text/plain": [
       "    mpg  cylinders  displacement  horsepower  weight  acceleration  \\\n",
       "0  18.0          8         307.0       130.0    3504          12.0   \n",
       "1  15.0          8         350.0       165.0    3693          11.5   \n",
       "2  18.0          8         318.0       150.0    3436          11.0   \n",
       "3  16.0          8         304.0       150.0    3433          12.0   \n",
       "4  17.0          8         302.0       140.0    3449          10.5   \n",
       "\n",
       "   model_year origin                       name  \n",
       "0          70    usa  chevrolet chevelle malibu  \n",
       "1          70    usa          buick skylark 320  \n",
       "2          70    usa         plymouth satellite  \n",
       "3          70    usa              amc rebel sst  \n",
       "4          70    usa                ford torino  "
      ]
     },
     "execution_count": 3,
     "metadata": {},
     "output_type": "execute_result"
    }
   ],
   "source": [
    "df.head(5)"
   ]
  },
  {
   "cell_type": "markdown",
   "metadata": {
    "cell_id": "16ab22691091499090a0d896723d65e9",
    "deepnote_cell_type": "markdown"
   },
   "source": [
    "* Find a degree 3 polynomial to model \"mpg\" as a function of \"horsepower\".\n",
    "\n",
    "(Warning 1.  These coefficients are not as interpretable as they are for linear regression.  Warning 2.  We can automate some of the following steps using a scikit-learn class called `PolynomialFeatures`.)"
   ]
  },
  {
   "cell_type": "code",
   "execution_count": 4,
   "metadata": {
    "cell_id": "c25dab950bd64f5cba3fcd4a55ef6517",
    "deepnote_cell_type": "code",
    "deepnote_to_be_reexecuted": false,
    "execution_millis": 54,
    "execution_start": 1699076774128,
    "source_hash": "c23ac62d"
   },
   "outputs": [],
   "source": [
    "degs = range(1,4)"
   ]
  },
  {
   "cell_type": "markdown",
   "metadata": {
    "cell_id": "ab8b21a51566476ca3293125aa229677",
    "deepnote_cell_type": "markdown"
   },
   "source": [
    "Here are the degrees we want to allow.  You can think of this like the list `[1, 2, 3]`, but it is not a list, it is a Python `range` object. "
   ]
  },
  {
   "cell_type": "code",
   "execution_count": 5,
   "metadata": {
    "cell_id": "4dc03b8de1aa4a86b3095edaf0d2a304",
    "deepnote_cell_type": "code",
    "deepnote_to_be_reexecuted": false,
    "execution_millis": 42,
    "execution_start": 1699076774141,
    "source_hash": "190af3a7"
   },
   "outputs": [],
   "source": [
    "# degrees we want\n",
    "degs = range(1,4)"
   ]
  },
  {
   "cell_type": "code",
   "execution_count": 6,
   "metadata": {
    "cell_id": "871aac231437402d89edc5ea943acf27",
    "deepnote_cell_type": "code",
    "deepnote_to_be_reexecuted": false,
    "execution_millis": 54,
    "execution_start": 1699076774146,
    "source_hash": "e9895170"
   },
   "outputs": [],
   "source": [
    "for d in range(1,4):\n",
    "    df[f\"h{d}\"] = df[\"horsepower\"]**d"
   ]
  },
  {
   "cell_type": "markdown",
   "metadata": {
    "cell_id": "04d08d871f0b4292804cc5fba9b2ed96",
    "deepnote_cell_type": "markdown"
   },
   "source": [
    "Notice how the `\"h2\"` column is the square of the `\"h1\"` column, and the `\"h3\"` column is the cube of the `\"h1\"` column.  Also notice how the `\"h1\"` column is identical to the `\"horsepower\"` column, just because `df[\"horsepower\"]**1` is the same as `df[\"horsepower\"]`."
   ]
  },
  {
   "cell_type": "code",
   "execution_count": 7,
   "metadata": {
    "cell_id": "82cb0451ca034671b857b480c193d62c",
    "deepnote_cell_type": "code",
    "deepnote_to_be_reexecuted": false,
    "execution_millis": 96,
    "execution_start": 1699076774152,
    "source_hash": "f804c160"
   },
   "outputs": [
    {
     "data": {
      "application/vnd.deepnote.dataframe.v3+json": {
       "column_count": 12,
       "columns": [
        {
         "dtype": "float64",
         "name": "mpg",
         "stats": {
          "histogram": [
           {
            "bin_end": 12.76,
            "bin_start": 9,
            "count": 13
           },
           {
            "bin_end": 16.52,
            "bin_start": 12.76,
            "count": 78
           },
           {
            "bin_end": 20.28,
            "bin_start": 16.52,
            "count": 73
           },
           {
            "bin_end": 24.04,
            "bin_start": 20.28,
            "count": 58
           },
           {
            "bin_end": 27.8,
            "bin_start": 24.04,
            "count": 53
           },
           {
            "bin_end": 31.560000000000002,
            "bin_start": 27.8,
            "count": 48
           },
           {
            "bin_end": 35.32,
            "bin_start": 31.560000000000002,
            "count": 37
           },
           {
            "bin_end": 39.08,
            "bin_start": 35.32,
            "count": 22
           },
           {
            "bin_end": 42.84,
            "bin_start": 39.08,
            "count": 4
           },
           {
            "bin_end": 46.6,
            "bin_start": 42.84,
            "count": 6
           }
          ],
          "max": "46.6",
          "min": "9.0",
          "nan_count": 0,
          "unique_count": 127
         }
        },
        {
         "dtype": "int64",
         "name": "cylinders",
         "stats": {
          "histogram": [
           {
            "bin_end": 3.5,
            "bin_start": 3,
            "count": 4
           },
           {
            "bin_end": 4,
            "bin_start": 3.5,
            "count": 0
           },
           {
            "bin_end": 4.5,
            "bin_start": 4,
            "count": 199
           },
           {
            "bin_end": 5,
            "bin_start": 4.5,
            "count": 0
           },
           {
            "bin_end": 5.5,
            "bin_start": 5,
            "count": 3
           },
           {
            "bin_end": 6,
            "bin_start": 5.5,
            "count": 0
           },
           {
            "bin_end": 6.5,
            "bin_start": 6,
            "count": 83
           },
           {
            "bin_end": 7,
            "bin_start": 6.5,
            "count": 0
           },
           {
            "bin_end": 7.5,
            "bin_start": 7,
            "count": 0
           },
           {
            "bin_end": 8,
            "bin_start": 7.5,
            "count": 103
           }
          ],
          "max": "8",
          "min": "3",
          "nan_count": 0,
          "unique_count": 5
         }
        },
        {
         "dtype": "float64",
         "name": "displacement",
         "stats": {
          "histogram": [
           {
            "bin_end": 106.7,
            "bin_start": 68,
            "count": 104
           },
           {
            "bin_end": 145.4,
            "bin_start": 106.7,
            "count": 88
           },
           {
            "bin_end": 184.10000000000002,
            "bin_start": 145.4,
            "count": 30
           },
           {
            "bin_end": 222.8,
            "bin_start": 184.10000000000002,
            "count": 12
           },
           {
            "bin_end": 261.5,
            "bin_start": 222.8,
            "count": 57
           },
           {
            "bin_end": 300.20000000000005,
            "bin_start": 261.5,
            "count": 3
           },
           {
            "bin_end": 338.90000000000003,
            "bin_start": 300.20000000000005,
            "count": 42
           },
           {
            "bin_end": 377.6,
            "bin_start": 338.90000000000003,
            "count": 31
           },
           {
            "bin_end": 416.3,
            "bin_start": 377.6,
            "count": 16
           },
           {
            "bin_end": 455,
            "bin_start": 416.3,
            "count": 9
           }
          ],
          "max": "455.0",
          "min": "68.0",
          "nan_count": 0,
          "unique_count": 81
         }
        },
        {
         "dtype": "float64",
         "name": "horsepower",
         "stats": {
          "histogram": [
           {
            "bin_end": 64.4,
            "bin_start": 46,
            "count": 27
           },
           {
            "bin_end": 82.8,
            "bin_start": 64.4,
            "count": 95
           },
           {
            "bin_end": 101.19999999999999,
            "bin_start": 82.8,
            "count": 120
           },
           {
            "bin_end": 119.6,
            "bin_start": 101.19999999999999,
            "count": 44
           },
           {
            "bin_end": 138,
            "bin_start": 119.6,
            "count": 19
           },
           {
            "bin_end": 156.39999999999998,
            "bin_start": 138,
            "count": 47
           },
           {
            "bin_end": 174.79999999999998,
            "bin_start": 156.39999999999998,
            "count": 13
           },
           {
            "bin_end": 193.2,
            "bin_start": 174.79999999999998,
            "count": 14
           },
           {
            "bin_end": 211.6,
            "bin_start": 193.2,
            "count": 5
           },
           {
            "bin_end": 230,
            "bin_start": 211.6,
            "count": 8
           }
          ],
          "max": "230.0",
          "min": "46.0",
          "nan_count": 0,
          "unique_count": 93
         }
        },
        {
         "dtype": "int64",
         "name": "weight",
         "stats": {
          "histogram": [
           {
            "bin_end": 1965.7,
            "bin_start": 1613,
            "count": 30
           },
           {
            "bin_end": 2318.4,
            "bin_start": 1965.7,
            "count": 89
           },
           {
            "bin_end": 2671.1,
            "bin_start": 2318.4,
            "count": 58
           },
           {
            "bin_end": 3023.8,
            "bin_start": 2671.1,
            "count": 52
           },
           {
            "bin_end": 3376.5,
            "bin_start": 3023.8,
            "count": 36
           },
           {
            "bin_end": 3729.2,
            "bin_start": 3376.5,
            "count": 40
           },
           {
            "bin_end": 4081.9,
            "bin_start": 3729.2,
            "count": 29
           },
           {
            "bin_end": 4434.6,
            "bin_start": 4081.9,
            "count": 34
           },
           {
            "bin_end": 4787.299999999999,
            "bin_start": 4434.6,
            "count": 18
           },
           {
            "bin_end": 5140,
            "bin_start": 4787.299999999999,
            "count": 6
           }
          ],
          "max": "5140",
          "min": "1613",
          "nan_count": 0,
          "unique_count": 346
         }
        },
        {
         "dtype": "float64",
         "name": "acceleration",
         "stats": {
          "histogram": [
           {
            "bin_end": 9.68,
            "bin_start": 8,
            "count": 6
           },
           {
            "bin_end": 11.36,
            "bin_start": 9.68,
            "count": 15
           },
           {
            "bin_end": 13.040000000000001,
            "bin_start": 11.36,
            "count": 50
           },
           {
            "bin_end": 14.72,
            "bin_start": 13.040000000000001,
            "count": 85
           },
           {
            "bin_end": 16.4,
            "bin_start": 14.72,
            "count": 91
           },
           {
            "bin_end": 18.080000000000002,
            "bin_start": 16.4,
            "count": 78
           },
           {
            "bin_end": 19.76,
            "bin_start": 18.080000000000002,
            "count": 44
           },
           {
            "bin_end": 21.44,
            "bin_start": 19.76,
            "count": 12
           },
           {
            "bin_end": 23.12,
            "bin_start": 21.44,
            "count": 7
           },
           {
            "bin_end": 24.8,
            "bin_start": 23.12,
            "count": 4
           }
          ],
          "max": "24.8",
          "min": "8.0",
          "nan_count": 0,
          "unique_count": 95
         }
        },
        {
         "dtype": "int64",
         "name": "model_year",
         "stats": {
          "histogram": [
           {
            "bin_end": 71.2,
            "bin_start": 70,
            "count": 56
           },
           {
            "bin_end": 72.4,
            "bin_start": 71.2,
            "count": 28
           },
           {
            "bin_end": 73.6,
            "bin_start": 72.4,
            "count": 40
           },
           {
            "bin_end": 74.8,
            "bin_start": 73.6,
            "count": 26
           },
           {
            "bin_end": 76,
            "bin_start": 74.8,
            "count": 30
           },
           {
            "bin_end": 77.2,
            "bin_start": 76,
            "count": 62
           },
           {
            "bin_end": 78.4,
            "bin_start": 77.2,
            "count": 36
           },
           {
            "bin_end": 79.6,
            "bin_start": 78.4,
            "count": 29
           },
           {
            "bin_end": 80.8,
            "bin_start": 79.6,
            "count": 27
           },
           {
            "bin_end": 82,
            "bin_start": 80.8,
            "count": 58
           }
          ],
          "max": "82",
          "min": "70",
          "nan_count": 0,
          "unique_count": 13
         }
        },
        {
         "dtype": "object",
         "name": "origin",
         "stats": {
          "categories": [
           {
            "count": 245,
            "name": "usa"
           },
           {
            "count": 79,
            "name": "japan"
           },
           {
            "count": 68,
            "name": "europe"
           }
          ],
          "nan_count": 0,
          "unique_count": 3
         }
        },
        {
         "dtype": "object",
         "name": "name",
         "stats": {
          "categories": [
           {
            "count": 5,
            "name": "amc matador"
           },
           {
            "count": 5,
            "name": "ford pinto"
           },
           {
            "count": 382,
            "name": "299 others"
           }
          ],
          "nan_count": 0,
          "unique_count": 301
         }
        },
        {
         "dtype": "float64",
         "name": "h1",
         "stats": {
          "histogram": [
           {
            "bin_end": 64.4,
            "bin_start": 46,
            "count": 27
           },
           {
            "bin_end": 82.8,
            "bin_start": 64.4,
            "count": 95
           },
           {
            "bin_end": 101.19999999999999,
            "bin_start": 82.8,
            "count": 120
           },
           {
            "bin_end": 119.6,
            "bin_start": 101.19999999999999,
            "count": 44
           },
           {
            "bin_end": 138,
            "bin_start": 119.6,
            "count": 19
           },
           {
            "bin_end": 156.39999999999998,
            "bin_start": 138,
            "count": 47
           },
           {
            "bin_end": 174.79999999999998,
            "bin_start": 156.39999999999998,
            "count": 13
           },
           {
            "bin_end": 193.2,
            "bin_start": 174.79999999999998,
            "count": 14
           },
           {
            "bin_end": 211.6,
            "bin_start": 193.2,
            "count": 5
           },
           {
            "bin_end": 230,
            "bin_start": 211.6,
            "count": 8
           }
          ],
          "max": "230.0",
          "min": "46.0",
          "nan_count": 0,
          "unique_count": 93
         }
        },
        {
         "dtype": "float64",
         "name": "h2",
         "stats": {
          "histogram": [
           {
            "bin_end": 7194.4,
            "bin_start": 2116,
            "count": 132
           },
           {
            "bin_end": 12272.8,
            "bin_start": 7194.4,
            "count": 144
           },
           {
            "bin_end": 17351.199999999997,
            "bin_start": 12272.8,
            "count": 25
           },
           {
            "bin_end": 22429.6,
            "bin_start": 17351.199999999997,
            "count": 24
           },
           {
            "bin_end": 27508,
            "bin_start": 22429.6,
            "count": 34
           },
           {
            "bin_end": 32586.399999999998,
            "bin_start": 27508,
            "count": 16
           },
           {
            "bin_end": 37664.799999999996,
            "bin_start": 32586.399999999998,
            "count": 4
           },
           {
            "bin_end": 42743.2,
            "bin_start": 37664.799999999996,
            "count": 3
           },
           {
            "bin_end": 47821.6,
            "bin_start": 42743.2,
            "count": 5
           },
           {
            "bin_end": 52900,
            "bin_start": 47821.6,
            "count": 5
           }
          ],
          "max": "52900.0",
          "min": "2116.0",
          "nan_count": 0,
          "unique_count": 93
         }
        },
        {
         "dtype": "float64",
         "name": "h3",
         "stats": {
          "histogram": [
           {
            "bin_end": 1304302.4,
            "bin_start": 97336,
            "count": 258
           },
           {
            "bin_end": 2511268.8,
            "bin_start": 1304302.4,
            "count": 46
           },
           {
            "bin_end": 3718235.1999999997,
            "bin_start": 2511268.8,
            "count": 46
           },
           {
            "bin_end": 4925201.6,
            "bin_start": 3718235.1999999997,
            "count": 15
           },
           {
            "bin_end": 6132168,
            "bin_start": 4925201.6,
            "count": 10
           },
           {
            "bin_end": 7339134.399999999,
            "bin_start": 6132168,
            "count": 4
           },
           {
            "bin_end": 8546100.799999999,
            "bin_start": 7339134.399999999,
            "count": 3
           },
           {
            "bin_end": 9753067.2,
            "bin_start": 8546100.799999999,
            "count": 2
           },
           {
            "bin_end": 10960033.6,
            "bin_start": 9753067.2,
            "count": 4
           },
           {
            "bin_end": 12167000,
            "bin_start": 10960033.6,
            "count": 4
           }
          ],
          "max": "12167000.0",
          "min": "97336.0",
          "nan_count": 0,
          "unique_count": 93
         }
        },
        {
         "dtype": "int64",
         "name": "_deepnote_index_column"
        }
       ],
       "row_count": 392,
       "rows": [
        {
         "_deepnote_index_column": 0,
         "acceleration": 12,
         "cylinders": 8,
         "displacement": 307,
         "h1": 130,
         "h2": 16900,
         "h3": 2197000,
         "horsepower": 130,
         "model_year": 70,
         "mpg": 18,
         "name": "chevrolet chevelle malibu",
         "origin": "usa",
         "weight": 3504
        },
        {
         "_deepnote_index_column": 1,
         "acceleration": 11.5,
         "cylinders": 8,
         "displacement": 350,
         "h1": 165,
         "h2": 27225,
         "h3": 4492125,
         "horsepower": 165,
         "model_year": 70,
         "mpg": 15,
         "name": "buick skylark 320",
         "origin": "usa",
         "weight": 3693
        },
        {
         "_deepnote_index_column": 2,
         "acceleration": 11,
         "cylinders": 8,
         "displacement": 318,
         "h1": 150,
         "h2": 22500,
         "h3": 3375000,
         "horsepower": 150,
         "model_year": 70,
         "mpg": 18,
         "name": "plymouth satellite",
         "origin": "usa",
         "weight": 3436
        },
        {
         "_deepnote_index_column": 3,
         "acceleration": 12,
         "cylinders": 8,
         "displacement": 304,
         "h1": 150,
         "h2": 22500,
         "h3": 3375000,
         "horsepower": 150,
         "model_year": 70,
         "mpg": 16,
         "name": "amc rebel sst",
         "origin": "usa",
         "weight": 3433
        },
        {
         "_deepnote_index_column": 4,
         "acceleration": 10.5,
         "cylinders": 8,
         "displacement": 302,
         "h1": 140,
         "h2": 19600,
         "h3": 2744000,
         "horsepower": 140,
         "model_year": 70,
         "mpg": 17,
         "name": "ford torino",
         "origin": "usa",
         "weight": 3449
        },
        {
         "_deepnote_index_column": 5,
         "acceleration": 10,
         "cylinders": 8,
         "displacement": 429,
         "h1": 198,
         "h2": 39204,
         "h3": 7762392,
         "horsepower": 198,
         "model_year": 70,
         "mpg": 15,
         "name": "ford galaxie 500",
         "origin": "usa",
         "weight": 4341
        },
        {
         "_deepnote_index_column": 6,
         "acceleration": 9,
         "cylinders": 8,
         "displacement": 454,
         "h1": 220,
         "h2": 48400,
         "h3": 10648000,
         "horsepower": 220,
         "model_year": 70,
         "mpg": 14,
         "name": "chevrolet impala",
         "origin": "usa",
         "weight": 4354
        },
        {
         "_deepnote_index_column": 7,
         "acceleration": 8.5,
         "cylinders": 8,
         "displacement": 440,
         "h1": 215,
         "h2": 46225,
         "h3": 9938375,
         "horsepower": 215,
         "model_year": 70,
         "mpg": 14,
         "name": "plymouth fury iii",
         "origin": "usa",
         "weight": 4312
        },
        {
         "_deepnote_index_column": 8,
         "acceleration": 10,
         "cylinders": 8,
         "displacement": 455,
         "h1": 225,
         "h2": 50625,
         "h3": 11390625,
         "horsepower": 225,
         "model_year": 70,
         "mpg": 14,
         "name": "pontiac catalina",
         "origin": "usa",
         "weight": 4425
        },
        {
         "_deepnote_index_column": 9,
         "acceleration": 8.5,
         "cylinders": 8,
         "displacement": 390,
         "h1": 190,
         "h2": 36100,
         "h3": 6859000,
         "horsepower": 190,
         "model_year": 70,
         "mpg": 15,
         "name": "amc ambassador dpl",
         "origin": "usa",
         "weight": 3850
        }
       ]
      },
      "text/html": [
       "<div>\n",
       "<style scoped>\n",
       "    .dataframe tbody tr th:only-of-type {\n",
       "        vertical-align: middle;\n",
       "    }\n",
       "\n",
       "    .dataframe tbody tr th {\n",
       "        vertical-align: top;\n",
       "    }\n",
       "\n",
       "    .dataframe thead th {\n",
       "        text-align: right;\n",
       "    }\n",
       "</style>\n",
       "<table border=\"1\" class=\"dataframe\">\n",
       "  <thead>\n",
       "    <tr style=\"text-align: right;\">\n",
       "      <th></th>\n",
       "      <th>mpg</th>\n",
       "      <th>cylinders</th>\n",
       "      <th>displacement</th>\n",
       "      <th>horsepower</th>\n",
       "      <th>weight</th>\n",
       "      <th>acceleration</th>\n",
       "      <th>model_year</th>\n",
       "      <th>origin</th>\n",
       "      <th>name</th>\n",
       "      <th>h1</th>\n",
       "      <th>h2</th>\n",
       "      <th>h3</th>\n",
       "    </tr>\n",
       "  </thead>\n",
       "  <tbody>\n",
       "    <tr>\n",
       "      <th>0</th>\n",
       "      <td>18.0</td>\n",
       "      <td>8</td>\n",
       "      <td>307.0</td>\n",
       "      <td>130.0</td>\n",
       "      <td>3504</td>\n",
       "      <td>12.0</td>\n",
       "      <td>70</td>\n",
       "      <td>usa</td>\n",
       "      <td>chevrolet chevelle malibu</td>\n",
       "      <td>130.0</td>\n",
       "      <td>16900.0</td>\n",
       "      <td>2197000.0</td>\n",
       "    </tr>\n",
       "    <tr>\n",
       "      <th>1</th>\n",
       "      <td>15.0</td>\n",
       "      <td>8</td>\n",
       "      <td>350.0</td>\n",
       "      <td>165.0</td>\n",
       "      <td>3693</td>\n",
       "      <td>11.5</td>\n",
       "      <td>70</td>\n",
       "      <td>usa</td>\n",
       "      <td>buick skylark 320</td>\n",
       "      <td>165.0</td>\n",
       "      <td>27225.0</td>\n",
       "      <td>4492125.0</td>\n",
       "    </tr>\n",
       "    <tr>\n",
       "      <th>2</th>\n",
       "      <td>18.0</td>\n",
       "      <td>8</td>\n",
       "      <td>318.0</td>\n",
       "      <td>150.0</td>\n",
       "      <td>3436</td>\n",
       "      <td>11.0</td>\n",
       "      <td>70</td>\n",
       "      <td>usa</td>\n",
       "      <td>plymouth satellite</td>\n",
       "      <td>150.0</td>\n",
       "      <td>22500.0</td>\n",
       "      <td>3375000.0</td>\n",
       "    </tr>\n",
       "    <tr>\n",
       "      <th>3</th>\n",
       "      <td>16.0</td>\n",
       "      <td>8</td>\n",
       "      <td>304.0</td>\n",
       "      <td>150.0</td>\n",
       "      <td>3433</td>\n",
       "      <td>12.0</td>\n",
       "      <td>70</td>\n",
       "      <td>usa</td>\n",
       "      <td>amc rebel sst</td>\n",
       "      <td>150.0</td>\n",
       "      <td>22500.0</td>\n",
       "      <td>3375000.0</td>\n",
       "    </tr>\n",
       "    <tr>\n",
       "      <th>4</th>\n",
       "      <td>17.0</td>\n",
       "      <td>8</td>\n",
       "      <td>302.0</td>\n",
       "      <td>140.0</td>\n",
       "      <td>3449</td>\n",
       "      <td>10.5</td>\n",
       "      <td>70</td>\n",
       "      <td>usa</td>\n",
       "      <td>ford torino</td>\n",
       "      <td>140.0</td>\n",
       "      <td>19600.0</td>\n",
       "      <td>2744000.0</td>\n",
       "    </tr>\n",
       "    <tr>\n",
       "      <th>...</th>\n",
       "      <td>...</td>\n",
       "      <td>...</td>\n",
       "      <td>...</td>\n",
       "      <td>...</td>\n",
       "      <td>...</td>\n",
       "      <td>...</td>\n",
       "      <td>...</td>\n",
       "      <td>...</td>\n",
       "      <td>...</td>\n",
       "      <td>...</td>\n",
       "      <td>...</td>\n",
       "      <td>...</td>\n",
       "    </tr>\n",
       "    <tr>\n",
       "      <th>393</th>\n",
       "      <td>27.0</td>\n",
       "      <td>4</td>\n",
       "      <td>140.0</td>\n",
       "      <td>86.0</td>\n",
       "      <td>2790</td>\n",
       "      <td>15.6</td>\n",
       "      <td>82</td>\n",
       "      <td>usa</td>\n",
       "      <td>ford mustang gl</td>\n",
       "      <td>86.0</td>\n",
       "      <td>7396.0</td>\n",
       "      <td>636056.0</td>\n",
       "    </tr>\n",
       "    <tr>\n",
       "      <th>394</th>\n",
       "      <td>44.0</td>\n",
       "      <td>4</td>\n",
       "      <td>97.0</td>\n",
       "      <td>52.0</td>\n",
       "      <td>2130</td>\n",
       "      <td>24.6</td>\n",
       "      <td>82</td>\n",
       "      <td>europe</td>\n",
       "      <td>vw pickup</td>\n",
       "      <td>52.0</td>\n",
       "      <td>2704.0</td>\n",
       "      <td>140608.0</td>\n",
       "    </tr>\n",
       "    <tr>\n",
       "      <th>395</th>\n",
       "      <td>32.0</td>\n",
       "      <td>4</td>\n",
       "      <td>135.0</td>\n",
       "      <td>84.0</td>\n",
       "      <td>2295</td>\n",
       "      <td>11.6</td>\n",
       "      <td>82</td>\n",
       "      <td>usa</td>\n",
       "      <td>dodge rampage</td>\n",
       "      <td>84.0</td>\n",
       "      <td>7056.0</td>\n",
       "      <td>592704.0</td>\n",
       "    </tr>\n",
       "    <tr>\n",
       "      <th>396</th>\n",
       "      <td>28.0</td>\n",
       "      <td>4</td>\n",
       "      <td>120.0</td>\n",
       "      <td>79.0</td>\n",
       "      <td>2625</td>\n",
       "      <td>18.6</td>\n",
       "      <td>82</td>\n",
       "      <td>usa</td>\n",
       "      <td>ford ranger</td>\n",
       "      <td>79.0</td>\n",
       "      <td>6241.0</td>\n",
       "      <td>493039.0</td>\n",
       "    </tr>\n",
       "    <tr>\n",
       "      <th>397</th>\n",
       "      <td>31.0</td>\n",
       "      <td>4</td>\n",
       "      <td>119.0</td>\n",
       "      <td>82.0</td>\n",
       "      <td>2720</td>\n",
       "      <td>19.4</td>\n",
       "      <td>82</td>\n",
       "      <td>usa</td>\n",
       "      <td>chevy s-10</td>\n",
       "      <td>82.0</td>\n",
       "      <td>6724.0</td>\n",
       "      <td>551368.0</td>\n",
       "    </tr>\n",
       "  </tbody>\n",
       "</table>\n",
       "<p>392 rows × 12 columns</p>\n",
       "</div>"
      ],
      "text/plain": [
       "      mpg  cylinders  displacement  horsepower  weight  acceleration  \\\n",
       "0    18.0          8         307.0       130.0    3504          12.0   \n",
       "1    15.0          8         350.0       165.0    3693          11.5   \n",
       "2    18.0          8         318.0       150.0    3436          11.0   \n",
       "3    16.0          8         304.0       150.0    3433          12.0   \n",
       "4    17.0          8         302.0       140.0    3449          10.5   \n",
       "..    ...        ...           ...         ...     ...           ...   \n",
       "393  27.0          4         140.0        86.0    2790          15.6   \n",
       "394  44.0          4          97.0        52.0    2130          24.6   \n",
       "395  32.0          4         135.0        84.0    2295          11.6   \n",
       "396  28.0          4         120.0        79.0    2625          18.6   \n",
       "397  31.0          4         119.0        82.0    2720          19.4   \n",
       "\n",
       "     model_year  origin                       name     h1       h2         h3  \n",
       "0            70     usa  chevrolet chevelle malibu  130.0  16900.0  2197000.0  \n",
       "1            70     usa          buick skylark 320  165.0  27225.0  4492125.0  \n",
       "2            70     usa         plymouth satellite  150.0  22500.0  3375000.0  \n",
       "3            70     usa              amc rebel sst  150.0  22500.0  3375000.0  \n",
       "4            70     usa                ford torino  140.0  19600.0  2744000.0  \n",
       "..          ...     ...                        ...    ...      ...        ...  \n",
       "393          82     usa            ford mustang gl   86.0   7396.0   636056.0  \n",
       "394          82  europe                  vw pickup   52.0   2704.0   140608.0  \n",
       "395          82     usa              dodge rampage   84.0   7056.0   592704.0  \n",
       "396          82     usa                ford ranger   79.0   6241.0   493039.0  \n",
       "397          82     usa                 chevy s-10   82.0   6724.0   551368.0  \n",
       "\n",
       "[392 rows x 12 columns]"
      ]
     },
     "execution_count": 7,
     "metadata": {},
     "output_type": "execute_result"
    }
   ],
   "source": [
    "df"
   ]
  },
  {
   "cell_type": "markdown",
   "metadata": {
    "cell_id": "79976a6262f04717ad8b59498ab509fb",
    "deepnote_cell_type": "markdown"
   },
   "source": [
    "We are now ready to perform polynomial regression.  We want to find coefficients for a model of the form $y \\approx m_3 x^3 + m_2 x^2 + m_1 x + b$, where `y` is the \"mpg\" value and where `x` is the \"horsepower\" value.  Notice that this is identical to finding coefficients for a model of the form $y \\approx m_3 h_3 + m_2 h_2 + m_1 h_1 + b$, which is exactly what we can do using linear regression.\n",
    "\n",
    "Important summary: if you can perform linear regression using multiple columns, then you can also perform polynomial regression.  Reason: simply include powers as new input columns, like what we are doing here."
   ]
  },
  {
   "cell_type": "code",
   "execution_count": 8,
   "metadata": {
    "cell_id": "9ae89732c85441aba028c54c325ca030",
    "deepnote_cell_type": "code",
    "deepnote_to_be_reexecuted": false,
    "execution_millis": 460,
    "execution_start": 1699076774231,
    "source_hash": "2f7f2614"
   },
   "outputs": [],
   "source": [
    "from sklearn.linear_model import LinearRegression\n",
    "reg = LinearRegression()"
   ]
  },
  {
   "cell_type": "markdown",
   "metadata": {
    "cell_id": "a13560bb7dfb4d5294e79dc612f442a9",
    "deepnote_cell_type": "markdown"
   },
   "source": [
    "Here are the columns we are going to use.  This will be a linear regression with three input variables."
   ]
  },
  {
   "cell_type": "code",
   "execution_count": 9,
   "metadata": {
    "cell_id": "5b38d7d5d6dc4e7c83b114bcd7ea0647",
    "deepnote_cell_type": "code",
    "deepnote_to_be_reexecuted": false,
    "execution_millis": 28,
    "execution_start": 1699076774684,
    "source_hash": "fc7d717d"
   },
   "outputs": [
    {
     "data": {
      "text/plain": [
       "['h1', 'h2', 'h3']"
      ]
     },
     "execution_count": 9,
     "metadata": {},
     "output_type": "execute_result"
    }
   ],
   "source": [
    "pred_cols = [f\"h{d}\" for d in degs]\n",
    "pred_cols"
   ]
  },
  {
   "cell_type": "markdown",
   "metadata": {
    "cell_id": "1bbe7021d42d4a298dea5182713cea72",
    "deepnote_cell_type": "markdown"
   },
   "source": [
    "Generate the training and test dataset by random splitting:"
   ]
  },
  {
   "cell_type": "code",
   "execution_count": 10,
   "metadata": {
    "cell_id": "8bffa27902cb41f4aeafe6821603d94a",
    "deepnote_cell_type": "code",
    "deepnote_to_be_reexecuted": false,
    "execution_millis": 44,
    "execution_start": 1699076774700,
    "source_hash": "204750c3"
   },
   "outputs": [],
   "source": [
    "from sklearn.model_selection import train_test_split\n",
    "X_train, X_test, y_train, y_test = train_test_split(df[pred_cols], df[\"mpg\"], test_size=0.1, random_state=42)"
   ]
  },
  {
   "cell_type": "code",
   "execution_count": 11,
   "metadata": {
    "cell_id": "b0c93d1aa7f04684908dcf0cdbb44136",
    "deepnote_cell_type": "code",
    "deepnote_to_be_reexecuted": false,
    "execution_millis": 42,
    "execution_start": 1699076774701,
    "source_hash": "4696d05f"
   },
   "outputs": [
    {
     "name": "stdout",
     "output_type": "stream",
     "text": [
      "Help on function train_test_split in module sklearn.model_selection._split:\n",
      "\n",
      "train_test_split(*arrays, test_size=None, train_size=None, random_state=None, shuffle=True, stratify=None)\n",
      "    Split arrays or matrices into random train and test subsets.\n",
      "    \n",
      "    Quick utility that wraps input validation and\n",
      "    ``next(ShuffleSplit().split(X, y))`` and application to input data\n",
      "    into a single call for splitting (and optionally subsampling) data in a\n",
      "    oneliner.\n",
      "    \n",
      "    Read more in the :ref:`User Guide <cross_validation>`.\n",
      "    \n",
      "    Parameters\n",
      "    ----------\n",
      "    *arrays : sequence of indexables with same length / shape[0]\n",
      "        Allowed inputs are lists, numpy arrays, scipy-sparse\n",
      "        matrices or pandas dataframes.\n",
      "    \n",
      "    test_size : float or int, default=None\n",
      "        If float, should be between 0.0 and 1.0 and represent the proportion\n",
      "        of the dataset to include in the test split. If int, represents the\n",
      "        absolute number of test samples. If None, the value is set to the\n",
      "        complement of the train size. If ``train_size`` is also None, it will\n",
      "        be set to 0.25.\n",
      "    \n",
      "    train_size : float or int, default=None\n",
      "        If float, should be between 0.0 and 1.0 and represent the\n",
      "        proportion of the dataset to include in the train split. If\n",
      "        int, represents the absolute number of train samples. If None,\n",
      "        the value is automatically set to the complement of the test size.\n",
      "    \n",
      "    random_state : int, RandomState instance or None, default=None\n",
      "        Controls the shuffling applied to the data before applying the split.\n",
      "        Pass an int for reproducible output across multiple function calls.\n",
      "        See :term:`Glossary <random_state>`.\n",
      "    \n",
      "    shuffle : bool, default=True\n",
      "        Whether or not to shuffle the data before splitting. If shuffle=False\n",
      "        then stratify must be None.\n",
      "    \n",
      "    stratify : array-like, default=None\n",
      "        If not None, data is split in a stratified fashion, using this as\n",
      "        the class labels.\n",
      "        Read more in the :ref:`User Guide <stratification>`.\n",
      "    \n",
      "    Returns\n",
      "    -------\n",
      "    splitting : list, length=2 * len(arrays)\n",
      "        List containing train-test split of inputs.\n",
      "    \n",
      "        .. versionadded:: 0.16\n",
      "            If the input is sparse, the output will be a\n",
      "            ``scipy.sparse.csr_matrix``. Else, output type is the same as the\n",
      "            input type.\n",
      "    \n",
      "    Examples\n",
      "    --------\n",
      "    >>> import numpy as np\n",
      "    >>> from sklearn.model_selection import train_test_split\n",
      "    >>> X, y = np.arange(10).reshape((5, 2)), range(5)\n",
      "    >>> X\n",
      "    array([[0, 1],\n",
      "           [2, 3],\n",
      "           [4, 5],\n",
      "           [6, 7],\n",
      "           [8, 9]])\n",
      "    >>> list(y)\n",
      "    [0, 1, 2, 3, 4]\n",
      "    \n",
      "    >>> X_train, X_test, y_train, y_test = train_test_split(\n",
      "    ...     X, y, test_size=0.33, random_state=42)\n",
      "    ...\n",
      "    >>> X_train\n",
      "    array([[4, 5],\n",
      "           [0, 1],\n",
      "           [6, 7]])\n",
      "    >>> y_train\n",
      "    [2, 0, 3]\n",
      "    >>> X_test\n",
      "    array([[2, 3],\n",
      "           [8, 9]])\n",
      "    >>> y_test\n",
      "    [1, 4]\n",
      "    \n",
      "    >>> train_test_split(y, shuffle=False)\n",
      "    [[0, 1, 2], [3, 4]]\n",
      "\n"
     ]
    }
   ],
   "source": [
    "help(train_test_split)"
   ]
  },
  {
   "cell_type": "code",
   "execution_count": 12,
   "metadata": {
    "cell_id": "a97c8ef425c442c5af00a11eaf9c5f08",
    "deepnote_cell_type": "code",
    "deepnote_to_be_reexecuted": false,
    "execution_millis": 47,
    "execution_start": 1699076774707,
    "source_hash": "38f368cd"
   },
   "outputs": [
    {
     "data": {
      "text/plain": [
       "(352, 3)"
      ]
     },
     "execution_count": 12,
     "metadata": {},
     "output_type": "execute_result"
    }
   ],
   "source": [
    "X_train.shape"
   ]
  },
  {
   "cell_type": "code",
   "execution_count": 13,
   "metadata": {
    "cell_id": "1c93ea9daf684a0e89e57dd191bb5616",
    "deepnote_cell_type": "code",
    "deepnote_to_be_reexecuted": false,
    "execution_millis": 32,
    "execution_start": 1699076774712,
    "source_hash": "251bcee5"
   },
   "outputs": [
    {
     "data": {
      "text/plain": [
       "(40, 3)"
      ]
     },
     "execution_count": 13,
     "metadata": {},
     "output_type": "execute_result"
    }
   ],
   "source": [
    "X_test.shape"
   ]
  },
  {
   "cell_type": "code",
   "execution_count": 14,
   "metadata": {
    "cell_id": "0aed9258350b469288d4fe4d193865cf",
    "deepnote_cell_type": "code",
    "deepnote_to_be_reexecuted": false,
    "execution_millis": 168,
    "execution_start": 1699076774724,
    "source_hash": "d18187b5"
   },
   "outputs": [
    {
     "data": {
      "text/html": [
       "<style>#sk-container-id-1 {color: black;background-color: white;}#sk-container-id-1 pre{padding: 0;}#sk-container-id-1 div.sk-toggleable {background-color: white;}#sk-container-id-1 label.sk-toggleable__label {cursor: pointer;display: block;width: 100%;margin-bottom: 0;padding: 0.3em;box-sizing: border-box;text-align: center;}#sk-container-id-1 label.sk-toggleable__label-arrow:before {content: \"▸\";float: left;margin-right: 0.25em;color: #696969;}#sk-container-id-1 label.sk-toggleable__label-arrow:hover:before {color: black;}#sk-container-id-1 div.sk-estimator:hover label.sk-toggleable__label-arrow:before {color: black;}#sk-container-id-1 div.sk-toggleable__content {max-height: 0;max-width: 0;overflow: hidden;text-align: left;background-color: #f0f8ff;}#sk-container-id-1 div.sk-toggleable__content pre {margin: 0.2em;color: black;border-radius: 0.25em;background-color: #f0f8ff;}#sk-container-id-1 input.sk-toggleable__control:checked~div.sk-toggleable__content {max-height: 200px;max-width: 100%;overflow: auto;}#sk-container-id-1 input.sk-toggleable__control:checked~label.sk-toggleable__label-arrow:before {content: \"▾\";}#sk-container-id-1 div.sk-estimator input.sk-toggleable__control:checked~label.sk-toggleable__label {background-color: #d4ebff;}#sk-container-id-1 div.sk-label input.sk-toggleable__control:checked~label.sk-toggleable__label {background-color: #d4ebff;}#sk-container-id-1 input.sk-hidden--visually {border: 0;clip: rect(1px 1px 1px 1px);clip: rect(1px, 1px, 1px, 1px);height: 1px;margin: -1px;overflow: hidden;padding: 0;position: absolute;width: 1px;}#sk-container-id-1 div.sk-estimator {font-family: monospace;background-color: #f0f8ff;border: 1px dotted black;border-radius: 0.25em;box-sizing: border-box;margin-bottom: 0.5em;}#sk-container-id-1 div.sk-estimator:hover {background-color: #d4ebff;}#sk-container-id-1 div.sk-parallel-item::after {content: \"\";width: 100%;border-bottom: 1px solid gray;flex-grow: 1;}#sk-container-id-1 div.sk-label:hover label.sk-toggleable__label {background-color: #d4ebff;}#sk-container-id-1 div.sk-serial::before {content: \"\";position: absolute;border-left: 1px solid gray;box-sizing: border-box;top: 0;bottom: 0;left: 50%;z-index: 0;}#sk-container-id-1 div.sk-serial {display: flex;flex-direction: column;align-items: center;background-color: white;padding-right: 0.2em;padding-left: 0.2em;position: relative;}#sk-container-id-1 div.sk-item {position: relative;z-index: 1;}#sk-container-id-1 div.sk-parallel {display: flex;align-items: stretch;justify-content: center;background-color: white;position: relative;}#sk-container-id-1 div.sk-item::before, #sk-container-id-1 div.sk-parallel-item::before {content: \"\";position: absolute;border-left: 1px solid gray;box-sizing: border-box;top: 0;bottom: 0;left: 50%;z-index: -1;}#sk-container-id-1 div.sk-parallel-item {display: flex;flex-direction: column;z-index: 1;position: relative;background-color: white;}#sk-container-id-1 div.sk-parallel-item:first-child::after {align-self: flex-end;width: 50%;}#sk-container-id-1 div.sk-parallel-item:last-child::after {align-self: flex-start;width: 50%;}#sk-container-id-1 div.sk-parallel-item:only-child::after {width: 0;}#sk-container-id-1 div.sk-dashed-wrapped {border: 1px dashed gray;margin: 0 0.4em 0.5em 0.4em;box-sizing: border-box;padding-bottom: 0.4em;background-color: white;}#sk-container-id-1 div.sk-label label {font-family: monospace;font-weight: bold;display: inline-block;line-height: 1.2em;}#sk-container-id-1 div.sk-label-container {text-align: center;}#sk-container-id-1 div.sk-container {/* jupyter's `normalize.less` sets `[hidden] { display: none; }` but bootstrap.min.css set `[hidden] { display: none !important; }` so we also need the `!important` here to be able to override the default hidden behavior on the sphinx rendered scikit-learn.org. See: https://github.com/scikit-learn/scikit-learn/issues/21755 */display: inline-block !important;position: relative;}#sk-container-id-1 div.sk-text-repr-fallback {display: none;}</style><div id=\"sk-container-id-1\" class=\"sk-top-container\"><div class=\"sk-text-repr-fallback\"><pre>LinearRegression()</pre><b>In a Jupyter environment, please rerun this cell to show the HTML representation or trust the notebook. <br />On GitHub, the HTML representation is unable to render, please try loading this page with nbviewer.org.</b></div><div class=\"sk-container\" hidden><div class=\"sk-item\"><div class=\"sk-estimator sk-toggleable\"><input class=\"sk-toggleable__control sk-hidden--visually\" id=\"sk-estimator-id-1\" type=\"checkbox\" checked><label for=\"sk-estimator-id-1\" class=\"sk-toggleable__label sk-toggleable__label-arrow\">LinearRegression</label><div class=\"sk-toggleable__content\"><pre>LinearRegression()</pre></div></div></div></div></div>"
      ],
      "text/plain": [
       "LinearRegression()"
      ]
     },
     "execution_count": 14,
     "metadata": {},
     "output_type": "execute_result"
    }
   ],
   "source": [
    "reg.fit(X_train, y_train)"
   ]
  },
  {
   "cell_type": "code",
   "execution_count": 15,
   "metadata": {
    "cell_id": "3d555de7a1b34f8c8b7a0352cae7199f",
    "deepnote_cell_type": "code",
    "deepnote_to_be_reexecuted": false,
    "execution_millis": 382,
    "execution_start": 1699076774739,
    "source_hash": "54930140"
   },
   "outputs": [],
   "source": [
    "X_train.index"
   ]
  },
  {
   "cell_type": "code",
   "execution_count": 16,
   "metadata": {
    "cell_id": "efb2e72cc9ba43939ee2204dd13d5dc2",
    "deepnote_cell_type": "code",
    "deepnote_to_be_reexecuted": false,
    "execution_millis": 308,
    "execution_start": 1699076774802,
    "source_hash": "4b2a527e"
   },
   "outputs": [],
   "source": [
    "# Make predictions for the training and test sets\n",
    "y_train_pred = reg.predict(X_train)\n",
    "y_test_pred = reg.predict(X_test)\n",
    "\n",
    "# Add predictions back to the respective rows in 'df'\n",
    "df.loc[X_train.index, 'pred'] = y_train_pred\n",
    "df.loc[X_test.index, 'pred'] = y_test_pred\n",
    "\n",
    "df"
   ]
  },
  {
   "cell_type": "markdown",
   "metadata": {
    "cell_id": "b5c40e80be584fb382eaef33b271a140",
    "deepnote_cell_type": "markdown"
   },
   "source": [
    "Create a new column 'label' in 'df' to indicate whether a row is in the training or test set:"
   ]
  },
  {
   "cell_type": "code",
   "execution_count": 17,
   "metadata": {
    "cell_id": "82b184389dc4474d9f5473982c0eac3e",
    "deepnote_cell_type": "code",
    "deepnote_to_be_reexecuted": false,
    "execution_millis": 284,
    "execution_start": 1699076774843,
    "source_hash": "aac132b6"
   },
   "outputs": [
    {
     "data": {
      "application/vnd.deepnote.dataframe.v3+json": {
       "column_count": 14,
       "columns": [
        {
         "dtype": "float64",
         "name": "mpg",
         "stats": {
          "histogram": [
           {
            "bin_end": 12.76,
            "bin_start": 9,
            "count": 13
           },
           {
            "bin_end": 16.52,
            "bin_start": 12.76,
            "count": 78
           },
           {
            "bin_end": 20.28,
            "bin_start": 16.52,
            "count": 73
           },
           {
            "bin_end": 24.04,
            "bin_start": 20.28,
            "count": 58
           },
           {
            "bin_end": 27.8,
            "bin_start": 24.04,
            "count": 53
           },
           {
            "bin_end": 31.560000000000002,
            "bin_start": 27.8,
            "count": 48
           },
           {
            "bin_end": 35.32,
            "bin_start": 31.560000000000002,
            "count": 37
           },
           {
            "bin_end": 39.08,
            "bin_start": 35.32,
            "count": 22
           },
           {
            "bin_end": 42.84,
            "bin_start": 39.08,
            "count": 4
           },
           {
            "bin_end": 46.6,
            "bin_start": 42.84,
            "count": 6
           }
          ],
          "max": "46.6",
          "min": "9.0",
          "nan_count": 0,
          "unique_count": 127
         }
        },
        {
         "dtype": "int64",
         "name": "cylinders",
         "stats": {
          "histogram": [
           {
            "bin_end": 3.5,
            "bin_start": 3,
            "count": 4
           },
           {
            "bin_end": 4,
            "bin_start": 3.5,
            "count": 0
           },
           {
            "bin_end": 4.5,
            "bin_start": 4,
            "count": 199
           },
           {
            "bin_end": 5,
            "bin_start": 4.5,
            "count": 0
           },
           {
            "bin_end": 5.5,
            "bin_start": 5,
            "count": 3
           },
           {
            "bin_end": 6,
            "bin_start": 5.5,
            "count": 0
           },
           {
            "bin_end": 6.5,
            "bin_start": 6,
            "count": 83
           },
           {
            "bin_end": 7,
            "bin_start": 6.5,
            "count": 0
           },
           {
            "bin_end": 7.5,
            "bin_start": 7,
            "count": 0
           },
           {
            "bin_end": 8,
            "bin_start": 7.5,
            "count": 103
           }
          ],
          "max": "8",
          "min": "3",
          "nan_count": 0,
          "unique_count": 5
         }
        },
        {
         "dtype": "float64",
         "name": "displacement",
         "stats": {
          "histogram": [
           {
            "bin_end": 106.7,
            "bin_start": 68,
            "count": 104
           },
           {
            "bin_end": 145.4,
            "bin_start": 106.7,
            "count": 88
           },
           {
            "bin_end": 184.10000000000002,
            "bin_start": 145.4,
            "count": 30
           },
           {
            "bin_end": 222.8,
            "bin_start": 184.10000000000002,
            "count": 12
           },
           {
            "bin_end": 261.5,
            "bin_start": 222.8,
            "count": 57
           },
           {
            "bin_end": 300.20000000000005,
            "bin_start": 261.5,
            "count": 3
           },
           {
            "bin_end": 338.90000000000003,
            "bin_start": 300.20000000000005,
            "count": 42
           },
           {
            "bin_end": 377.6,
            "bin_start": 338.90000000000003,
            "count": 31
           },
           {
            "bin_end": 416.3,
            "bin_start": 377.6,
            "count": 16
           },
           {
            "bin_end": 455,
            "bin_start": 416.3,
            "count": 9
           }
          ],
          "max": "455.0",
          "min": "68.0",
          "nan_count": 0,
          "unique_count": 81
         }
        },
        {
         "dtype": "float64",
         "name": "horsepower",
         "stats": {
          "histogram": [
           {
            "bin_end": 64.4,
            "bin_start": 46,
            "count": 27
           },
           {
            "bin_end": 82.8,
            "bin_start": 64.4,
            "count": 95
           },
           {
            "bin_end": 101.19999999999999,
            "bin_start": 82.8,
            "count": 120
           },
           {
            "bin_end": 119.6,
            "bin_start": 101.19999999999999,
            "count": 44
           },
           {
            "bin_end": 138,
            "bin_start": 119.6,
            "count": 19
           },
           {
            "bin_end": 156.39999999999998,
            "bin_start": 138,
            "count": 47
           },
           {
            "bin_end": 174.79999999999998,
            "bin_start": 156.39999999999998,
            "count": 13
           },
           {
            "bin_end": 193.2,
            "bin_start": 174.79999999999998,
            "count": 14
           },
           {
            "bin_end": 211.6,
            "bin_start": 193.2,
            "count": 5
           },
           {
            "bin_end": 230,
            "bin_start": 211.6,
            "count": 8
           }
          ],
          "max": "230.0",
          "min": "46.0",
          "nan_count": 0,
          "unique_count": 93
         }
        },
        {
         "dtype": "int64",
         "name": "weight",
         "stats": {
          "histogram": [
           {
            "bin_end": 1965.7,
            "bin_start": 1613,
            "count": 30
           },
           {
            "bin_end": 2318.4,
            "bin_start": 1965.7,
            "count": 89
           },
           {
            "bin_end": 2671.1,
            "bin_start": 2318.4,
            "count": 58
           },
           {
            "bin_end": 3023.8,
            "bin_start": 2671.1,
            "count": 52
           },
           {
            "bin_end": 3376.5,
            "bin_start": 3023.8,
            "count": 36
           },
           {
            "bin_end": 3729.2,
            "bin_start": 3376.5,
            "count": 40
           },
           {
            "bin_end": 4081.9,
            "bin_start": 3729.2,
            "count": 29
           },
           {
            "bin_end": 4434.6,
            "bin_start": 4081.9,
            "count": 34
           },
           {
            "bin_end": 4787.299999999999,
            "bin_start": 4434.6,
            "count": 18
           },
           {
            "bin_end": 5140,
            "bin_start": 4787.299999999999,
            "count": 6
           }
          ],
          "max": "5140",
          "min": "1613",
          "nan_count": 0,
          "unique_count": 346
         }
        },
        {
         "dtype": "float64",
         "name": "acceleration",
         "stats": {
          "histogram": [
           {
            "bin_end": 9.68,
            "bin_start": 8,
            "count": 6
           },
           {
            "bin_end": 11.36,
            "bin_start": 9.68,
            "count": 15
           },
           {
            "bin_end": 13.040000000000001,
            "bin_start": 11.36,
            "count": 50
           },
           {
            "bin_end": 14.72,
            "bin_start": 13.040000000000001,
            "count": 85
           },
           {
            "bin_end": 16.4,
            "bin_start": 14.72,
            "count": 91
           },
           {
            "bin_end": 18.080000000000002,
            "bin_start": 16.4,
            "count": 78
           },
           {
            "bin_end": 19.76,
            "bin_start": 18.080000000000002,
            "count": 44
           },
           {
            "bin_end": 21.44,
            "bin_start": 19.76,
            "count": 12
           },
           {
            "bin_end": 23.12,
            "bin_start": 21.44,
            "count": 7
           },
           {
            "bin_end": 24.8,
            "bin_start": 23.12,
            "count": 4
           }
          ],
          "max": "24.8",
          "min": "8.0",
          "nan_count": 0,
          "unique_count": 95
         }
        },
        {
         "dtype": "int64",
         "name": "model_year",
         "stats": {
          "histogram": [
           {
            "bin_end": 71.2,
            "bin_start": 70,
            "count": 56
           },
           {
            "bin_end": 72.4,
            "bin_start": 71.2,
            "count": 28
           },
           {
            "bin_end": 73.6,
            "bin_start": 72.4,
            "count": 40
           },
           {
            "bin_end": 74.8,
            "bin_start": 73.6,
            "count": 26
           },
           {
            "bin_end": 76,
            "bin_start": 74.8,
            "count": 30
           },
           {
            "bin_end": 77.2,
            "bin_start": 76,
            "count": 62
           },
           {
            "bin_end": 78.4,
            "bin_start": 77.2,
            "count": 36
           },
           {
            "bin_end": 79.6,
            "bin_start": 78.4,
            "count": 29
           },
           {
            "bin_end": 80.8,
            "bin_start": 79.6,
            "count": 27
           },
           {
            "bin_end": 82,
            "bin_start": 80.8,
            "count": 58
           }
          ],
          "max": "82",
          "min": "70",
          "nan_count": 0,
          "unique_count": 13
         }
        },
        {
         "dtype": "object",
         "name": "origin",
         "stats": {
          "categories": [
           {
            "count": 245,
            "name": "usa"
           },
           {
            "count": 79,
            "name": "japan"
           },
           {
            "count": 68,
            "name": "europe"
           }
          ],
          "nan_count": 0,
          "unique_count": 3
         }
        },
        {
         "dtype": "object",
         "name": "name",
         "stats": {
          "categories": [
           {
            "count": 5,
            "name": "amc matador"
           },
           {
            "count": 5,
            "name": "ford pinto"
           },
           {
            "count": 382,
            "name": "299 others"
           }
          ],
          "nan_count": 0,
          "unique_count": 301
         }
        },
        {
         "dtype": "float64",
         "name": "h1",
         "stats": {
          "histogram": [
           {
            "bin_end": 64.4,
            "bin_start": 46,
            "count": 27
           },
           {
            "bin_end": 82.8,
            "bin_start": 64.4,
            "count": 95
           },
           {
            "bin_end": 101.19999999999999,
            "bin_start": 82.8,
            "count": 120
           },
           {
            "bin_end": 119.6,
            "bin_start": 101.19999999999999,
            "count": 44
           },
           {
            "bin_end": 138,
            "bin_start": 119.6,
            "count": 19
           },
           {
            "bin_end": 156.39999999999998,
            "bin_start": 138,
            "count": 47
           },
           {
            "bin_end": 174.79999999999998,
            "bin_start": 156.39999999999998,
            "count": 13
           },
           {
            "bin_end": 193.2,
            "bin_start": 174.79999999999998,
            "count": 14
           },
           {
            "bin_end": 211.6,
            "bin_start": 193.2,
            "count": 5
           },
           {
            "bin_end": 230,
            "bin_start": 211.6,
            "count": 8
           }
          ],
          "max": "230.0",
          "min": "46.0",
          "nan_count": 0,
          "unique_count": 93
         }
        },
        {
         "dtype": "float64",
         "name": "h2",
         "stats": {
          "histogram": [
           {
            "bin_end": 7194.4,
            "bin_start": 2116,
            "count": 132
           },
           {
            "bin_end": 12272.8,
            "bin_start": 7194.4,
            "count": 144
           },
           {
            "bin_end": 17351.199999999997,
            "bin_start": 12272.8,
            "count": 25
           },
           {
            "bin_end": 22429.6,
            "bin_start": 17351.199999999997,
            "count": 24
           },
           {
            "bin_end": 27508,
            "bin_start": 22429.6,
            "count": 34
           },
           {
            "bin_end": 32586.399999999998,
            "bin_start": 27508,
            "count": 16
           },
           {
            "bin_end": 37664.799999999996,
            "bin_start": 32586.399999999998,
            "count": 4
           },
           {
            "bin_end": 42743.2,
            "bin_start": 37664.799999999996,
            "count": 3
           },
           {
            "bin_end": 47821.6,
            "bin_start": 42743.2,
            "count": 5
           },
           {
            "bin_end": 52900,
            "bin_start": 47821.6,
            "count": 5
           }
          ],
          "max": "52900.0",
          "min": "2116.0",
          "nan_count": 0,
          "unique_count": 93
         }
        },
        {
         "dtype": "float64",
         "name": "h3",
         "stats": {
          "histogram": [
           {
            "bin_end": 1304302.4,
            "bin_start": 97336,
            "count": 258
           },
           {
            "bin_end": 2511268.8,
            "bin_start": 1304302.4,
            "count": 46
           },
           {
            "bin_end": 3718235.1999999997,
            "bin_start": 2511268.8,
            "count": 46
           },
           {
            "bin_end": 4925201.6,
            "bin_start": 3718235.1999999997,
            "count": 15
           },
           {
            "bin_end": 6132168,
            "bin_start": 4925201.6,
            "count": 10
           },
           {
            "bin_end": 7339134.399999999,
            "bin_start": 6132168,
            "count": 4
           },
           {
            "bin_end": 8546100.799999999,
            "bin_start": 7339134.399999999,
            "count": 3
           },
           {
            "bin_end": 9753067.2,
            "bin_start": 8546100.799999999,
            "count": 2
           },
           {
            "bin_end": 10960033.6,
            "bin_start": 9753067.2,
            "count": 4
           },
           {
            "bin_end": 12167000,
            "bin_start": 10960033.6,
            "count": 4
           }
          ],
          "max": "12167000.0",
          "min": "97336.0",
          "nan_count": 0,
          "unique_count": 93
         }
        },
        {
         "dtype": "float64",
         "name": "pred",
         "stats": {
          "histogram": [
           {
            "bin_end": 15.707149317357407,
            "bin_start": 13.07003485130241,
            "count": 76
           },
           {
            "bin_end": 18.344263783412405,
            "bin_start": 15.707149317357407,
            "count": 26
           },
           {
            "bin_end": 20.981378249467404,
            "bin_start": 18.344263783412405,
            "count": 34
           },
           {
            "bin_end": 23.6184927155224,
            "bin_start": 20.981378249467404,
            "count": 59
           },
           {
            "bin_end": 26.2556071815774,
            "bin_start": 23.6184927155224,
            "count": 65
           },
           {
            "bin_end": 28.8927216476324,
            "bin_start": 26.2556071815774,
            "count": 33
           },
           {
            "bin_end": 31.529836113687395,
            "bin_start": 28.8927216476324,
            "count": 49
           },
           {
            "bin_end": 34.16695057974239,
            "bin_start": 31.529836113687395,
            "count": 35
           },
           {
            "bin_end": 36.804065045797394,
            "bin_start": 34.16695057974239,
            "count": 5
           },
           {
            "bin_end": 39.44117951185239,
            "bin_start": 36.804065045797394,
            "count": 10
           }
          ],
          "max": "39.44117951185239",
          "min": "13.07003485130241",
          "nan_count": 0,
          "unique_count": 93
         }
        },
        {
         "dtype": "object",
         "name": "label",
         "stats": {
          "categories": [
           {
            "count": 352,
            "name": "train"
           },
           {
            "count": 40,
            "name": "test"
           }
          ],
          "nan_count": 0,
          "unique_count": 2
         }
        },
        {
         "dtype": "int64",
         "name": "_deepnote_index_column"
        }
       ],
       "row_count": 392,
       "rows": [
        {
         "_deepnote_index_column": 0,
         "acceleration": 12,
         "cylinders": 8,
         "displacement": 307,
         "h1": 130,
         "h2": 16900,
         "h3": 2197000,
         "horsepower": 130,
         "label": "test",
         "model_year": 70,
         "mpg": 18,
         "name": "chevrolet chevelle malibu",
         "origin": "usa",
         "pred": 17.148526119794568,
         "weight": 3504
        },
        {
         "_deepnote_index_column": 1,
         "acceleration": 11.5,
         "cylinders": 8,
         "displacement": 350,
         "h1": 165,
         "h2": 27225,
         "h3": 4492125,
         "horsepower": 165,
         "label": "train",
         "model_year": 70,
         "mpg": 15,
         "name": "buick skylark 320",
         "origin": "usa",
         "pred": 13.92152107961062,
         "weight": 3693
        },
        {
         "_deepnote_index_column": 2,
         "acceleration": 11,
         "cylinders": 8,
         "displacement": 318,
         "h1": 150,
         "h2": 22500,
         "h3": 3375000,
         "horsepower": 150,
         "label": "train",
         "model_year": 70,
         "mpg": 18,
         "name": "plymouth satellite",
         "origin": "usa",
         "pred": 14.96622045084002,
         "weight": 3436
        },
        {
         "_deepnote_index_column": 3,
         "acceleration": 12,
         "cylinders": 8,
         "displacement": 304,
         "h1": 150,
         "h2": 22500,
         "h3": 3375000,
         "horsepower": 150,
         "label": "train",
         "model_year": 70,
         "mpg": 16,
         "name": "amc rebel sst",
         "origin": "usa",
         "pred": 14.96622045084002,
         "weight": 3433
        },
        {
         "_deepnote_index_column": 4,
         "acceleration": 10.5,
         "cylinders": 8,
         "displacement": 302,
         "h1": 140,
         "h2": 19600,
         "h3": 2744000,
         "horsepower": 140,
         "label": "train",
         "model_year": 70,
         "mpg": 17,
         "name": "ford torino",
         "origin": "usa",
         "pred": 15.936728518042784,
         "weight": 3449
        },
        {
         "_deepnote_index_column": 5,
         "acceleration": 10,
         "cylinders": 8,
         "displacement": 429,
         "h1": 198,
         "h2": 39204,
         "h3": 7762392,
         "horsepower": 198,
         "label": "train",
         "model_year": 70,
         "mpg": 15,
         "name": "ford galaxie 500",
         "origin": "usa",
         "pred": 13.07003485130241,
         "weight": 4341
        },
        {
         "_deepnote_index_column": 6,
         "acceleration": 9,
         "cylinders": 8,
         "displacement": 454,
         "h1": 220,
         "h2": 48400,
         "h3": 10648000,
         "horsepower": 220,
         "label": "train",
         "model_year": 70,
         "mpg": 14,
         "name": "chevrolet impala",
         "origin": "usa",
         "pred": 13.340733275934703,
         "weight": 4354
        },
        {
         "_deepnote_index_column": 7,
         "acceleration": 8.5,
         "cylinders": 8,
         "displacement": 440,
         "h1": 215,
         "h2": 46225,
         "h3": 9938375,
         "horsepower": 215,
         "label": "train",
         "model_year": 70,
         "mpg": 14,
         "name": "plymouth fury iii",
         "origin": "usa",
         "pred": 13.233709326836177,
         "weight": 4312
        },
        {
         "_deepnote_index_column": 8,
         "acceleration": 10,
         "cylinders": 8,
         "displacement": 455,
         "h1": 225,
         "h2": 50625,
         "h3": 11390625,
         "horsepower": 225,
         "label": "train",
         "model_year": 70,
         "mpg": 14,
         "name": "pontiac catalina",
         "origin": "usa",
         "pred": 13.470269187911917,
         "weight": 4425
        },
        {
         "_deepnote_index_column": 9,
         "acceleration": 8.5,
         "cylinders": 8,
         "displacement": 390,
         "h1": 190,
         "h2": 36100,
         "h3": 6859000,
         "horsepower": 190,
         "label": "test",
         "model_year": 70,
         "mpg": 15,
         "name": "amc ambassador dpl",
         "origin": "usa",
         "pred": 13.118979319933764,
         "weight": 3850
        }
       ]
      },
      "text/html": [
       "<div>\n",
       "<style scoped>\n",
       "    .dataframe tbody tr th:only-of-type {\n",
       "        vertical-align: middle;\n",
       "    }\n",
       "\n",
       "    .dataframe tbody tr th {\n",
       "        vertical-align: top;\n",
       "    }\n",
       "\n",
       "    .dataframe thead th {\n",
       "        text-align: right;\n",
       "    }\n",
       "</style>\n",
       "<table border=\"1\" class=\"dataframe\">\n",
       "  <thead>\n",
       "    <tr style=\"text-align: right;\">\n",
       "      <th></th>\n",
       "      <th>mpg</th>\n",
       "      <th>cylinders</th>\n",
       "      <th>displacement</th>\n",
       "      <th>horsepower</th>\n",
       "      <th>weight</th>\n",
       "      <th>acceleration</th>\n",
       "      <th>model_year</th>\n",
       "      <th>origin</th>\n",
       "      <th>name</th>\n",
       "      <th>h1</th>\n",
       "      <th>h2</th>\n",
       "      <th>h3</th>\n",
       "      <th>pred</th>\n",
       "      <th>label</th>\n",
       "    </tr>\n",
       "  </thead>\n",
       "  <tbody>\n",
       "    <tr>\n",
       "      <th>0</th>\n",
       "      <td>18.0</td>\n",
       "      <td>8</td>\n",
       "      <td>307.0</td>\n",
       "      <td>130.0</td>\n",
       "      <td>3504</td>\n",
       "      <td>12.0</td>\n",
       "      <td>70</td>\n",
       "      <td>usa</td>\n",
       "      <td>chevrolet chevelle malibu</td>\n",
       "      <td>130.0</td>\n",
       "      <td>16900.0</td>\n",
       "      <td>2197000.0</td>\n",
       "      <td>17.148526</td>\n",
       "      <td>test</td>\n",
       "    </tr>\n",
       "    <tr>\n",
       "      <th>1</th>\n",
       "      <td>15.0</td>\n",
       "      <td>8</td>\n",
       "      <td>350.0</td>\n",
       "      <td>165.0</td>\n",
       "      <td>3693</td>\n",
       "      <td>11.5</td>\n",
       "      <td>70</td>\n",
       "      <td>usa</td>\n",
       "      <td>buick skylark 320</td>\n",
       "      <td>165.0</td>\n",
       "      <td>27225.0</td>\n",
       "      <td>4492125.0</td>\n",
       "      <td>13.921521</td>\n",
       "      <td>train</td>\n",
       "    </tr>\n",
       "    <tr>\n",
       "      <th>2</th>\n",
       "      <td>18.0</td>\n",
       "      <td>8</td>\n",
       "      <td>318.0</td>\n",
       "      <td>150.0</td>\n",
       "      <td>3436</td>\n",
       "      <td>11.0</td>\n",
       "      <td>70</td>\n",
       "      <td>usa</td>\n",
       "      <td>plymouth satellite</td>\n",
       "      <td>150.0</td>\n",
       "      <td>22500.0</td>\n",
       "      <td>3375000.0</td>\n",
       "      <td>14.966220</td>\n",
       "      <td>train</td>\n",
       "    </tr>\n",
       "    <tr>\n",
       "      <th>3</th>\n",
       "      <td>16.0</td>\n",
       "      <td>8</td>\n",
       "      <td>304.0</td>\n",
       "      <td>150.0</td>\n",
       "      <td>3433</td>\n",
       "      <td>12.0</td>\n",
       "      <td>70</td>\n",
       "      <td>usa</td>\n",
       "      <td>amc rebel sst</td>\n",
       "      <td>150.0</td>\n",
       "      <td>22500.0</td>\n",
       "      <td>3375000.0</td>\n",
       "      <td>14.966220</td>\n",
       "      <td>train</td>\n",
       "    </tr>\n",
       "    <tr>\n",
       "      <th>4</th>\n",
       "      <td>17.0</td>\n",
       "      <td>8</td>\n",
       "      <td>302.0</td>\n",
       "      <td>140.0</td>\n",
       "      <td>3449</td>\n",
       "      <td>10.5</td>\n",
       "      <td>70</td>\n",
       "      <td>usa</td>\n",
       "      <td>ford torino</td>\n",
       "      <td>140.0</td>\n",
       "      <td>19600.0</td>\n",
       "      <td>2744000.0</td>\n",
       "      <td>15.936729</td>\n",
       "      <td>train</td>\n",
       "    </tr>\n",
       "    <tr>\n",
       "      <th>...</th>\n",
       "      <td>...</td>\n",
       "      <td>...</td>\n",
       "      <td>...</td>\n",
       "      <td>...</td>\n",
       "      <td>...</td>\n",
       "      <td>...</td>\n",
       "      <td>...</td>\n",
       "      <td>...</td>\n",
       "      <td>...</td>\n",
       "      <td>...</td>\n",
       "      <td>...</td>\n",
       "      <td>...</td>\n",
       "      <td>...</td>\n",
       "      <td>...</td>\n",
       "    </tr>\n",
       "    <tr>\n",
       "      <th>393</th>\n",
       "      <td>27.0</td>\n",
       "      <td>4</td>\n",
       "      <td>140.0</td>\n",
       "      <td>86.0</td>\n",
       "      <td>2790</td>\n",
       "      <td>15.6</td>\n",
       "      <td>82</td>\n",
       "      <td>usa</td>\n",
       "      <td>ford mustang gl</td>\n",
       "      <td>86.0</td>\n",
       "      <td>7396.0</td>\n",
       "      <td>636056.0</td>\n",
       "      <td>25.826089</td>\n",
       "      <td>test</td>\n",
       "    </tr>\n",
       "    <tr>\n",
       "      <th>394</th>\n",
       "      <td>44.0</td>\n",
       "      <td>4</td>\n",
       "      <td>97.0</td>\n",
       "      <td>52.0</td>\n",
       "      <td>2130</td>\n",
       "      <td>24.6</td>\n",
       "      <td>82</td>\n",
       "      <td>europe</td>\n",
       "      <td>vw pickup</td>\n",
       "      <td>52.0</td>\n",
       "      <td>2704.0</td>\n",
       "      <td>140608.0</td>\n",
       "      <td>37.001105</td>\n",
       "      <td>test</td>\n",
       "    </tr>\n",
       "    <tr>\n",
       "      <th>395</th>\n",
       "      <td>32.0</td>\n",
       "      <td>4</td>\n",
       "      <td>135.0</td>\n",
       "      <td>84.0</td>\n",
       "      <td>2295</td>\n",
       "      <td>11.6</td>\n",
       "      <td>82</td>\n",
       "      <td>usa</td>\n",
       "      <td>dodge rampage</td>\n",
       "      <td>84.0</td>\n",
       "      <td>7056.0</td>\n",
       "      <td>592704.0</td>\n",
       "      <td>26.366302</td>\n",
       "      <td>train</td>\n",
       "    </tr>\n",
       "    <tr>\n",
       "      <th>396</th>\n",
       "      <td>28.0</td>\n",
       "      <td>4</td>\n",
       "      <td>120.0</td>\n",
       "      <td>79.0</td>\n",
       "      <td>2625</td>\n",
       "      <td>18.6</td>\n",
       "      <td>82</td>\n",
       "      <td>usa</td>\n",
       "      <td>ford ranger</td>\n",
       "      <td>79.0</td>\n",
       "      <td>6241.0</td>\n",
       "      <td>493039.0</td>\n",
       "      <td>27.777920</td>\n",
       "      <td>train</td>\n",
       "    </tr>\n",
       "    <tr>\n",
       "      <th>397</th>\n",
       "      <td>31.0</td>\n",
       "      <td>4</td>\n",
       "      <td>119.0</td>\n",
       "      <td>82.0</td>\n",
       "      <td>2720</td>\n",
       "      <td>19.4</td>\n",
       "      <td>82</td>\n",
       "      <td>usa</td>\n",
       "      <td>chevy s-10</td>\n",
       "      <td>82.0</td>\n",
       "      <td>6724.0</td>\n",
       "      <td>551368.0</td>\n",
       "      <td>26.920402</td>\n",
       "      <td>train</td>\n",
       "    </tr>\n",
       "  </tbody>\n",
       "</table>\n",
       "<p>392 rows × 14 columns</p>\n",
       "</div>"
      ],
      "text/plain": [
       "      mpg  cylinders  displacement  horsepower  weight  acceleration  \\\n",
       "0    18.0          8         307.0       130.0    3504          12.0   \n",
       "1    15.0          8         350.0       165.0    3693          11.5   \n",
       "2    18.0          8         318.0       150.0    3436          11.0   \n",
       "3    16.0          8         304.0       150.0    3433          12.0   \n",
       "4    17.0          8         302.0       140.0    3449          10.5   \n",
       "..    ...        ...           ...         ...     ...           ...   \n",
       "393  27.0          4         140.0        86.0    2790          15.6   \n",
       "394  44.0          4          97.0        52.0    2130          24.6   \n",
       "395  32.0          4         135.0        84.0    2295          11.6   \n",
       "396  28.0          4         120.0        79.0    2625          18.6   \n",
       "397  31.0          4         119.0        82.0    2720          19.4   \n",
       "\n",
       "     model_year  origin                       name     h1       h2         h3  \\\n",
       "0            70     usa  chevrolet chevelle malibu  130.0  16900.0  2197000.0   \n",
       "1            70     usa          buick skylark 320  165.0  27225.0  4492125.0   \n",
       "2            70     usa         plymouth satellite  150.0  22500.0  3375000.0   \n",
       "3            70     usa              amc rebel sst  150.0  22500.0  3375000.0   \n",
       "4            70     usa                ford torino  140.0  19600.0  2744000.0   \n",
       "..          ...     ...                        ...    ...      ...        ...   \n",
       "393          82     usa            ford mustang gl   86.0   7396.0   636056.0   \n",
       "394          82  europe                  vw pickup   52.0   2704.0   140608.0   \n",
       "395          82     usa              dodge rampage   84.0   7056.0   592704.0   \n",
       "396          82     usa                ford ranger   79.0   6241.0   493039.0   \n",
       "397          82     usa                 chevy s-10   82.0   6724.0   551368.0   \n",
       "\n",
       "          pred  label  \n",
       "0    17.148526   test  \n",
       "1    13.921521  train  \n",
       "2    14.966220  train  \n",
       "3    14.966220  train  \n",
       "4    15.936729  train  \n",
       "..         ...    ...  \n",
       "393  25.826089   test  \n",
       "394  37.001105   test  \n",
       "395  26.366302  train  \n",
       "396  27.777920  train  \n",
       "397  26.920402  train  \n",
       "\n",
       "[392 rows x 14 columns]"
      ]
     },
     "execution_count": 17,
     "metadata": {},
     "output_type": "execute_result"
    }
   ],
   "source": [
    "df.loc[X_train.index, \"label\"] = 'train'\n",
    "df.loc[X_test.index, \"label\"] = 'test'\n",
    "df"
   ]
  },
  {
   "cell_type": "code",
   "execution_count": 20,
   "metadata": {
    "cell_id": "244153188a0944f2be1915ce706aaf4b",
    "deepnote_cell_type": "code",
    "deepnote_to_be_reexecuted": false,
    "execution_millis": 13,
    "execution_start": 1699076820023,
    "source_hash": "8bdab5f0"
   },
   "outputs": [
    {
     "data": {
      "text/html": [
       "\n",
       "<div id=\"altair-viz-42d4d527784f416583e1a3e8918c4b9d\"></div>\n",
       "<script type=\"text/javascript\">\n",
       "  var VEGA_DEBUG = (typeof VEGA_DEBUG == \"undefined\") ? {} : VEGA_DEBUG;\n",
       "  (function(spec, embedOpt){\n",
       "    let outputDiv = document.currentScript.previousElementSibling;\n",
       "    if (outputDiv.id !== \"altair-viz-42d4d527784f416583e1a3e8918c4b9d\") {\n",
       "      outputDiv = document.getElementById(\"altair-viz-42d4d527784f416583e1a3e8918c4b9d\");\n",
       "    }\n",
       "    const paths = {\n",
       "      \"vega\": \"https://cdn.jsdelivr.net/npm//vega@5?noext\",\n",
       "      \"vega-lib\": \"https://cdn.jsdelivr.net/npm//vega-lib?noext\",\n",
       "      \"vega-lite\": \"https://cdn.jsdelivr.net/npm//vega-lite@4.17.0?noext\",\n",
       "      \"vega-embed\": \"https://cdn.jsdelivr.net/npm//vega-embed@6?noext\",\n",
       "    };\n",
       "\n",
       "    function maybeLoadScript(lib, version) {\n",
       "      var key = `${lib.replace(\"-\", \"\")}_version`;\n",
       "      return (VEGA_DEBUG[key] == version) ?\n",
       "        Promise.resolve(paths[lib]) :\n",
       "        new Promise(function(resolve, reject) {\n",
       "          var s = document.createElement('script');\n",
       "          document.getElementsByTagName(\"head\")[0].appendChild(s);\n",
       "          s.async = true;\n",
       "          s.onload = () => {\n",
       "            VEGA_DEBUG[key] = version;\n",
       "            return resolve(paths[lib]);\n",
       "          };\n",
       "          s.onerror = () => reject(`Error loading script: ${paths[lib]}`);\n",
       "          s.src = paths[lib];\n",
       "        });\n",
       "    }\n",
       "\n",
       "    function showError(err) {\n",
       "      outputDiv.innerHTML = `<div class=\"error\" style=\"color:red;\">${err}</div>`;\n",
       "      throw err;\n",
       "    }\n",
       "\n",
       "    function displayChart(vegaEmbed) {\n",
       "      vegaEmbed(outputDiv, spec, embedOpt)\n",
       "        .catch(err => showError(`Javascript Error: ${err.message}<br>This usually means there's a typo in your chart specification. See the javascript console for the full traceback.`));\n",
       "    }\n",
       "\n",
       "    if(typeof define === \"function\" && define.amd) {\n",
       "      requirejs.config({paths});\n",
       "      require([\"vega-embed\"], displayChart, err => showError(`Error loading script: ${err.message}`));\n",
       "    } else {\n",
       "      maybeLoadScript(\"vega\", \"5\")\n",
       "        .then(() => maybeLoadScript(\"vega-lite\", \"4.17.0\"))\n",
       "        .then(() => maybeLoadScript(\"vega-embed\", \"6\"))\n",
       "        .catch(showError)\n",
       "        .then(() => displayChart(vegaEmbed));\n",
       "    }\n",
       "  })({\"config\": {\"view\": {\"continuousWidth\": 400, \"continuousHeight\": 300}}, \"data\": {\"name\": \"data-0dcc846bf482208cb3d52d8349587ef8\"}, \"mark\": \"circle\", \"encoding\": {\"color\": {\"field\": \"label\", \"type\": \"nominal\"}, \"x\": {\"field\": \"horsepower\", \"type\": \"quantitative\"}, \"y\": {\"field\": \"pred\", \"type\": \"quantitative\"}}, \"$schema\": \"https://vega.github.io/schema/vega-lite/v4.17.0.json\", \"datasets\": {\"data-0dcc846bf482208cb3d52d8349587ef8\": [{\"mpg\": 18.0, \"cylinders\": 8, \"displacement\": 307.0, \"horsepower\": 130.0, \"weight\": 3504, \"acceleration\": 12.0, \"model_year\": 70, \"origin\": \"usa\", \"name\": \"chevrolet chevelle malibu\", \"h1\": 130.0, \"h2\": 16900.0, \"h3\": 2197000.0, \"pred\": 17.148526119794568, \"label\": \"test\"}, {\"mpg\": 15.0, \"cylinders\": 8, \"displacement\": 350.0, \"horsepower\": 165.0, \"weight\": 3693, \"acceleration\": 11.5, \"model_year\": 70, \"origin\": \"usa\", \"name\": \"buick skylark 320\", \"h1\": 165.0, \"h2\": 27225.0, \"h3\": 4492125.0, \"pred\": 13.92152107961062, \"label\": \"train\"}, {\"mpg\": 18.0, \"cylinders\": 8, \"displacement\": 318.0, \"horsepower\": 150.0, \"weight\": 3436, \"acceleration\": 11.0, \"model_year\": 70, \"origin\": \"usa\", \"name\": \"plymouth satellite\", \"h1\": 150.0, \"h2\": 22500.0, \"h3\": 3375000.0, \"pred\": 14.96622045084002, \"label\": \"train\"}, {\"mpg\": 16.0, \"cylinders\": 8, \"displacement\": 304.0, \"horsepower\": 150.0, \"weight\": 3433, \"acceleration\": 12.0, \"model_year\": 70, \"origin\": \"usa\", \"name\": \"amc rebel sst\", \"h1\": 150.0, \"h2\": 22500.0, \"h3\": 3375000.0, \"pred\": 14.96622045084002, \"label\": \"train\"}, {\"mpg\": 17.0, \"cylinders\": 8, \"displacement\": 302.0, \"horsepower\": 140.0, \"weight\": 3449, \"acceleration\": 10.5, \"model_year\": 70, \"origin\": \"usa\", \"name\": \"ford torino\", \"h1\": 140.0, \"h2\": 19600.0, \"h3\": 2744000.0, \"pred\": 15.936728518042784, \"label\": \"train\"}, {\"mpg\": 15.0, \"cylinders\": 8, \"displacement\": 429.0, \"horsepower\": 198.0, \"weight\": 4341, \"acceleration\": 10.0, \"model_year\": 70, \"origin\": \"usa\", \"name\": \"ford galaxie 500\", \"h1\": 198.0, \"h2\": 39204.0, \"h3\": 7762392.0, \"pred\": 13.07003485130241, \"label\": \"train\"}, {\"mpg\": 14.0, \"cylinders\": 8, \"displacement\": 454.0, \"horsepower\": 220.0, \"weight\": 4354, \"acceleration\": 9.0, \"model_year\": 70, \"origin\": \"usa\", \"name\": \"chevrolet impala\", \"h1\": 220.0, \"h2\": 48400.0, \"h3\": 10648000.0, \"pred\": 13.340733275934703, \"label\": \"train\"}, {\"mpg\": 14.0, \"cylinders\": 8, \"displacement\": 440.0, \"horsepower\": 215.0, \"weight\": 4312, \"acceleration\": 8.5, \"model_year\": 70, \"origin\": \"usa\", \"name\": \"plymouth fury iii\", \"h1\": 215.0, \"h2\": 46225.0, \"h3\": 9938375.0, \"pred\": 13.233709326836177, \"label\": \"train\"}, {\"mpg\": 14.0, \"cylinders\": 8, \"displacement\": 455.0, \"horsepower\": 225.0, \"weight\": 4425, \"acceleration\": 10.0, \"model_year\": 70, \"origin\": \"usa\", \"name\": \"pontiac catalina\", \"h1\": 225.0, \"h2\": 50625.0, \"h3\": 11390625.0, \"pred\": 13.470269187911917, \"label\": \"train\"}, {\"mpg\": 15.0, \"cylinders\": 8, \"displacement\": 390.0, \"horsepower\": 190.0, \"weight\": 3850, \"acceleration\": 8.5, \"model_year\": 70, \"origin\": \"usa\", \"name\": \"amc ambassador dpl\", \"h1\": 190.0, \"h2\": 36100.0, \"h3\": 6859000.0, \"pred\": 13.118979319933764, \"label\": \"test\"}, {\"mpg\": 15.0, \"cylinders\": 8, \"displacement\": 383.0, \"horsepower\": 170.0, \"weight\": 3563, \"acceleration\": 10.0, \"model_year\": 70, \"origin\": \"usa\", \"name\": \"dodge challenger se\", \"h1\": 170.0, \"h2\": 28900.0, \"h3\": 4913000.0, \"pred\": 13.673452078564459, \"label\": \"train\"}, {\"mpg\": 14.0, \"cylinders\": 8, \"displacement\": 340.0, \"horsepower\": 160.0, \"weight\": 3609, \"acceleration\": 8.0, \"model_year\": 70, \"origin\": \"usa\", \"name\": \"plymouth 'cuda 340\", \"h1\": 160.0, \"h2\": 25600.0, \"h3\": 4096000.0, \"pred\": 14.218096707806993, \"label\": \"train\"}, {\"mpg\": 15.0, \"cylinders\": 8, \"displacement\": 400.0, \"horsepower\": 150.0, \"weight\": 3761, \"acceleration\": 9.5, \"model_year\": 70, \"origin\": \"usa\", \"name\": \"chevrolet monte carlo\", \"h1\": 150.0, \"h2\": 22500.0, \"h3\": 3375000.0, \"pred\": 14.96622045084002, \"label\": \"train\"}, {\"mpg\": 14.0, \"cylinders\": 8, \"displacement\": 455.0, \"horsepower\": 225.0, \"weight\": 3086, \"acceleration\": 10.0, \"model_year\": 70, \"origin\": \"usa\", \"name\": \"buick estate wagon (sw)\", \"h1\": 225.0, \"h2\": 50625.0, \"h3\": 11390625.0, \"pred\": 13.470269187911917, \"label\": \"train\"}, {\"mpg\": 24.0, \"cylinders\": 4, \"displacement\": 113.0, \"horsepower\": 95.0, \"weight\": 2372, \"acceleration\": 15.0, \"model_year\": 70, \"origin\": \"japan\", \"name\": \"toyota corona mark ii\", \"h1\": 95.0, \"h2\": 9025.0, \"h3\": 857375.0, \"pred\": 23.562916785349927, \"label\": \"train\"}, {\"mpg\": 22.0, \"cylinders\": 6, \"displacement\": 198.0, \"horsepower\": 95.0, \"weight\": 2833, \"acceleration\": 15.5, \"model_year\": 70, \"origin\": \"usa\", \"name\": \"plymouth duster\", \"h1\": 95.0, \"h2\": 9025.0, \"h3\": 857375.0, \"pred\": 23.562916785349927, \"label\": \"test\"}, {\"mpg\": 18.0, \"cylinders\": 6, \"displacement\": 199.0, \"horsepower\": 97.0, \"weight\": 2774, \"acceleration\": 15.5, \"model_year\": 70, \"origin\": \"usa\", \"name\": \"amc hornet\", \"h1\": 97.0, \"h2\": 9409.0, \"h3\": 912673.0, \"pred\": 23.096374812699608, \"label\": \"train\"}, {\"mpg\": 21.0, \"cylinders\": 6, \"displacement\": 200.0, \"horsepower\": 85.0, \"weight\": 2587, \"acceleration\": 16.0, \"model_year\": 70, \"origin\": \"usa\", \"name\": \"ford maverick\", \"h1\": 85.0, \"h2\": 7225.0, \"h3\": 614125.0, \"pred\": 26.094469271015683, \"label\": \"train\"}, {\"mpg\": 27.0, \"cylinders\": 4, \"displacement\": 97.0, \"horsepower\": 88.0, \"weight\": 2130, \"acceleration\": 14.5, \"model_year\": 70, \"origin\": \"japan\", \"name\": \"datsun pl510\", \"h1\": 88.0, \"h2\": 7744.0, \"h3\": 681472.0, \"pred\": 25.299610552266536, \"label\": \"train\"}, {\"mpg\": 26.0, \"cylinders\": 4, \"displacement\": 97.0, \"horsepower\": 46.0, \"weight\": 1835, \"acceleration\": 20.5, \"model_year\": 70, \"origin\": \"europe\", \"name\": \"volkswagen 1131 deluxe sedan\", \"h1\": 46.0, \"h2\": 2116.0, \"h3\": 97336.0, \"pred\": 39.44117951185239, \"label\": \"train\"}, {\"mpg\": 25.0, \"cylinders\": 4, \"displacement\": 110.0, \"horsepower\": 87.0, \"weight\": 2672, \"acceleration\": 17.5, \"model_year\": 70, \"origin\": \"europe\", \"name\": \"peugeot 504\", \"h1\": 87.0, \"h2\": 7569.0, \"h3\": 658503.0, \"pred\": 25.561142285283864, \"label\": \"train\"}, {\"mpg\": 24.0, \"cylinders\": 4, \"displacement\": 107.0, \"horsepower\": 90.0, \"weight\": 2430, \"acceleration\": 14.5, \"model_year\": 70, \"origin\": \"europe\", \"name\": \"audi 100 ls\", \"h1\": 90.0, \"h2\": 8100.0, \"h3\": 729000.0, \"pred\": 24.786716079877138, \"label\": \"train\"}, {\"mpg\": 25.0, \"cylinders\": 4, \"displacement\": 104.0, \"horsepower\": 95.0, \"weight\": 2375, \"acceleration\": 17.5, \"model_year\": 70, \"origin\": \"europe\", \"name\": \"saab 99e\", \"h1\": 95.0, \"h2\": 9025.0, \"h3\": 857375.0, \"pred\": 23.562916785349927, \"label\": \"train\"}, {\"mpg\": 26.0, \"cylinders\": 4, \"displacement\": 121.0, \"horsepower\": 113.0, \"weight\": 2234, \"acceleration\": 12.5, \"model_year\": 70, \"origin\": \"europe\", \"name\": \"bmw 2002\", \"h1\": 113.0, \"h2\": 12769.0, \"h3\": 1442897.0, \"pred\": 19.815852722541095, \"label\": \"train\"}, {\"mpg\": 21.0, \"cylinders\": 6, \"displacement\": 199.0, \"horsepower\": 90.0, \"weight\": 2648, \"acceleration\": 15.0, \"model_year\": 70, \"origin\": \"usa\", \"name\": \"amc gremlin\", \"h1\": 90.0, \"h2\": 8100.0, \"h3\": 729000.0, \"pred\": 24.786716079877138, \"label\": \"train\"}, {\"mpg\": 10.0, \"cylinders\": 8, \"displacement\": 360.0, \"horsepower\": 215.0, \"weight\": 4615, \"acceleration\": 14.0, \"model_year\": 70, \"origin\": \"usa\", \"name\": \"ford f250\", \"h1\": 215.0, \"h2\": 46225.0, \"h3\": 9938375.0, \"pred\": 13.233709326836177, \"label\": \"test\"}, {\"mpg\": 10.0, \"cylinders\": 8, \"displacement\": 307.0, \"horsepower\": 200.0, \"weight\": 4376, \"acceleration\": 15.0, \"model_year\": 70, \"origin\": \"usa\", \"name\": \"chevy c20\", \"h1\": 200.0, \"h2\": 40000.0, \"h3\": 8000000.0, \"pred\": 13.071340769787085, \"label\": \"train\"}, {\"mpg\": 11.0, \"cylinders\": 8, \"displacement\": 318.0, \"horsepower\": 210.0, \"weight\": 4382, \"acceleration\": 13.5, \"model_year\": 70, \"origin\": \"usa\", \"name\": \"dodge d200\", \"h1\": 210.0, \"h2\": 44100.0, \"h3\": 9261000.0, \"pred\": 13.151560491913813, \"label\": \"train\"}, {\"mpg\": 9.0, \"cylinders\": 8, \"displacement\": 304.0, \"horsepower\": 193.0, \"weight\": 4732, \"acceleration\": 18.5, \"model_year\": 70, \"origin\": \"usa\", \"name\": \"hi 1200d\", \"h1\": 193.0, \"h2\": 37249.0, \"h3\": 7189057.0, \"pred\": 13.090137776283484, \"label\": \"train\"}, {\"mpg\": 27.0, \"cylinders\": 4, \"displacement\": 97.0, \"horsepower\": 88.0, \"weight\": 2130, \"acceleration\": 14.5, \"model_year\": 71, \"origin\": \"japan\", \"name\": \"datsun pl510\", \"h1\": 88.0, \"h2\": 7744.0, \"h3\": 681472.0, \"pred\": 25.299610552266536, \"label\": \"train\"}, {\"mpg\": 28.0, \"cylinders\": 4, \"displacement\": 140.0, \"horsepower\": 90.0, \"weight\": 2264, \"acceleration\": 15.5, \"model_year\": 71, \"origin\": \"usa\", \"name\": \"chevrolet vega 2300\", \"h1\": 90.0, \"h2\": 8100.0, \"h3\": 729000.0, \"pred\": 24.786716079877138, \"label\": \"train\"}, {\"mpg\": 25.0, \"cylinders\": 4, \"displacement\": 113.0, \"horsepower\": 95.0, \"weight\": 2228, \"acceleration\": 14.0, \"model_year\": 71, \"origin\": \"japan\", \"name\": \"toyota corona\", \"h1\": 95.0, \"h2\": 9025.0, \"h3\": 857375.0, \"pred\": 23.562916785349927, \"label\": \"train\"}, {\"mpg\": 19.0, \"cylinders\": 6, \"displacement\": 232.0, \"horsepower\": 100.0, \"weight\": 2634, \"acceleration\": 13.0, \"model_year\": 71, \"origin\": \"usa\", \"name\": \"amc gremlin\", \"h1\": 100.0, \"h2\": 10000.0, \"h3\": 1000000.0, \"pred\": 22.420708236136647, \"label\": \"train\"}, {\"mpg\": 16.0, \"cylinders\": 6, \"displacement\": 225.0, \"horsepower\": 105.0, \"weight\": 3439, \"acceleration\": 15.5, \"model_year\": 71, \"origin\": \"usa\", \"name\": \"plymouth satellite custom\", \"h1\": 105.0, \"h2\": 11025.0, \"h3\": 1157625.0, \"pred\": 21.357727280939883, \"label\": \"test\"}, {\"mpg\": 17.0, \"cylinders\": 6, \"displacement\": 250.0, \"horsepower\": 100.0, \"weight\": 3329, \"acceleration\": 15.5, \"model_year\": 71, \"origin\": \"usa\", \"name\": \"chevrolet chevelle malibu\", \"h1\": 100.0, \"h2\": 10000.0, \"h3\": 1000000.0, \"pred\": 22.420708236136647, \"label\": \"train\"}, {\"mpg\": 19.0, \"cylinders\": 6, \"displacement\": 250.0, \"horsepower\": 88.0, \"weight\": 3302, \"acceleration\": 15.5, \"model_year\": 71, \"origin\": \"usa\", \"name\": \"ford torino 500\", \"h1\": 88.0, \"h2\": 7744.0, \"h3\": 681472.0, \"pred\": 25.299610552266536, \"label\": \"train\"}, {\"mpg\": 18.0, \"cylinders\": 6, \"displacement\": 232.0, \"horsepower\": 100.0, \"weight\": 3288, \"acceleration\": 15.5, \"model_year\": 71, \"origin\": \"usa\", \"name\": \"amc matador\", \"h1\": 100.0, \"h2\": 10000.0, \"h3\": 1000000.0, \"pred\": 22.420708236136647, \"label\": \"train\"}, {\"mpg\": 14.0, \"cylinders\": 8, \"displacement\": 350.0, \"horsepower\": 165.0, \"weight\": 4209, \"acceleration\": 12.0, \"model_year\": 71, \"origin\": \"usa\", \"name\": \"chevrolet impala\", \"h1\": 165.0, \"h2\": 27225.0, \"h3\": 4492125.0, \"pred\": 13.92152107961062, \"label\": \"train\"}, {\"mpg\": 14.0, \"cylinders\": 8, \"displacement\": 400.0, \"horsepower\": 175.0, \"weight\": 4464, \"acceleration\": 11.5, \"model_year\": 71, \"origin\": \"usa\", \"name\": \"pontiac catalina brougham\", \"h1\": 175.0, \"h2\": 30625.0, \"h3\": 5359375.0, \"pred\": 13.471526553371092, \"label\": \"train\"}, {\"mpg\": 14.0, \"cylinders\": 8, \"displacement\": 351.0, \"horsepower\": 153.0, \"weight\": 4154, \"acceleration\": 13.5, \"model_year\": 71, \"origin\": \"usa\", \"name\": \"ford galaxie 500\", \"h1\": 153.0, \"h2\": 23409.0, \"h3\": 3581577.0, \"pred\": 14.71929316096454, \"label\": \"train\"}, {\"mpg\": 14.0, \"cylinders\": 8, \"displacement\": 318.0, \"horsepower\": 150.0, \"weight\": 4096, \"acceleration\": 13.0, \"model_year\": 71, \"origin\": \"usa\", \"name\": \"plymouth fury iii\", \"h1\": 150.0, \"h2\": 22500.0, \"h3\": 3375000.0, \"pred\": 14.96622045084002, \"label\": \"train\"}, {\"mpg\": 12.0, \"cylinders\": 8, \"displacement\": 383.0, \"horsepower\": 180.0, \"weight\": 4955, \"acceleration\": 11.5, \"model_year\": 71, \"origin\": \"usa\", \"name\": \"dodge monaco (sw)\", \"h1\": 180.0, \"h2\": 32400.0, \"h3\": 5832000.0, \"pred\": 13.313381352733131, \"label\": \"train\"}, {\"mpg\": 13.0, \"cylinders\": 8, \"displacement\": 400.0, \"horsepower\": 170.0, \"weight\": 4746, \"acceleration\": 12.0, \"model_year\": 71, \"origin\": \"usa\", \"name\": \"ford country squire (sw)\", \"h1\": 170.0, \"h2\": 28900.0, \"h3\": 4913000.0, \"pred\": 13.673452078564459, \"label\": \"test\"}, {\"mpg\": 13.0, \"cylinders\": 8, \"displacement\": 400.0, \"horsepower\": 175.0, \"weight\": 5140, \"acceleration\": 12.0, \"model_year\": 71, \"origin\": \"usa\", \"name\": \"pontiac safari (sw)\", \"h1\": 175.0, \"h2\": 30625.0, \"h3\": 5359375.0, \"pred\": 13.471526553371092, \"label\": \"train\"}, {\"mpg\": 18.0, \"cylinders\": 6, \"displacement\": 258.0, \"horsepower\": 110.0, \"weight\": 2962, \"acceleration\": 13.5, \"model_year\": 71, \"origin\": \"usa\", \"name\": \"amc hornet sportabout (sw)\", \"h1\": 110.0, \"h2\": 12100.0, \"h3\": 1331000.0, \"pred\": 20.37161076846224, \"label\": \"train\"}, {\"mpg\": 22.0, \"cylinders\": 4, \"displacement\": 140.0, \"horsepower\": 72.0, \"weight\": 2408, \"acceleration\": 19.0, \"model_year\": 71, \"origin\": \"usa\", \"name\": \"chevrolet vega (sw)\", \"h1\": 72.0, \"h2\": 5184.0, \"h3\": 373248.0, \"pred\": 29.904489777827152, \"label\": \"train\"}, {\"mpg\": 19.0, \"cylinders\": 6, \"displacement\": 250.0, \"horsepower\": 100.0, \"weight\": 3282, \"acceleration\": 15.0, \"model_year\": 71, \"origin\": \"usa\", \"name\": \"pontiac firebird\", \"h1\": 100.0, \"h2\": 10000.0, \"h3\": 1000000.0, \"pred\": 22.420708236136647, \"label\": \"train\"}, {\"mpg\": 18.0, \"cylinders\": 6, \"displacement\": 250.0, \"horsepower\": 88.0, \"weight\": 3139, \"acceleration\": 14.5, \"model_year\": 71, \"origin\": \"usa\", \"name\": \"ford mustang\", \"h1\": 88.0, \"h2\": 7744.0, \"h3\": 681472.0, \"pred\": 25.299610552266536, \"label\": \"train\"}, {\"mpg\": 23.0, \"cylinders\": 4, \"displacement\": 122.0, \"horsepower\": 86.0, \"weight\": 2220, \"acceleration\": 14.0, \"model_year\": 71, \"origin\": \"usa\", \"name\": \"mercury capri 2000\", \"h1\": 86.0, \"h2\": 7396.0, \"h3\": 636056.0, \"pred\": 25.826088889796786, \"label\": \"train\"}, {\"mpg\": 28.0, \"cylinders\": 4, \"displacement\": 116.0, \"horsepower\": 90.0, \"weight\": 2123, \"acceleration\": 14.0, \"model_year\": 71, \"origin\": \"europe\", \"name\": \"opel 1900\", \"h1\": 90.0, \"h2\": 8100.0, \"h3\": 729000.0, \"pred\": 24.786716079877138, \"label\": \"train\"}, {\"mpg\": 30.0, \"cylinders\": 4, \"displacement\": 79.0, \"horsepower\": 70.0, \"weight\": 2074, \"acceleration\": 19.5, \"model_year\": 71, \"origin\": \"europe\", \"name\": \"peugeot 304\", \"h1\": 70.0, \"h2\": 4900.0, \"h3\": 343000.0, \"pred\": 30.545083737073405, \"label\": \"train\"}, {\"mpg\": 30.0, \"cylinders\": 4, \"displacement\": 88.0, \"horsepower\": 76.0, \"weight\": 2065, \"acceleration\": 14.5, \"model_year\": 71, \"origin\": \"europe\", \"name\": \"fiat 124b\", \"h1\": 76.0, \"h2\": 5776.0, \"h3\": 438976.0, \"pred\": 28.667532013466953, \"label\": \"train\"}, {\"mpg\": 31.0, \"cylinders\": 4, \"displacement\": 71.0, \"horsepower\": 65.0, \"weight\": 1773, \"acceleration\": 19.0, \"model_year\": 71, \"origin\": \"japan\", \"name\": \"toyota corolla 1200\", \"h1\": 65.0, \"h2\": 4225.0, \"h3\": 274625.0, \"pred\": 32.212284027631384, \"label\": \"train\"}, {\"mpg\": 35.0, \"cylinders\": 4, \"displacement\": 72.0, \"horsepower\": 69.0, \"weight\": 1613, \"acceleration\": 18.0, \"model_year\": 71, \"origin\": \"japan\", \"name\": \"datsun 1200\", \"h1\": 69.0, \"h2\": 4761.0, \"h3\": 328509.0, \"pred\": 30.870975654199405, \"label\": \"train\"}, {\"mpg\": 27.0, \"cylinders\": 4, \"displacement\": 97.0, \"horsepower\": 60.0, \"weight\": 1834, \"acceleration\": 19.0, \"model_year\": 71, \"origin\": \"europe\", \"name\": \"volkswagen model 111\", \"h1\": 60.0, \"h2\": 3600.0, \"h3\": 216000.0, \"pred\": 33.97525397128773, \"label\": \"train\"}, {\"mpg\": 26.0, \"cylinders\": 4, \"displacement\": 91.0, \"horsepower\": 70.0, \"weight\": 1955, \"acceleration\": 20.5, \"model_year\": 71, \"origin\": \"usa\", \"name\": \"plymouth cricket\", \"h1\": 70.0, \"h2\": 4900.0, \"h3\": 343000.0, \"pred\": 30.545083737073405, \"label\": \"test\"}, {\"mpg\": 24.0, \"cylinders\": 4, \"displacement\": 113.0, \"horsepower\": 95.0, \"weight\": 2278, \"acceleration\": 15.5, \"model_year\": 72, \"origin\": \"japan\", \"name\": \"toyota corona hardtop\", \"h1\": 95.0, \"h2\": 9025.0, \"h3\": 857375.0, \"pred\": 23.562916785349927, \"label\": \"train\"}, {\"mpg\": 25.0, \"cylinders\": 4, \"displacement\": 97.5, \"horsepower\": 80.0, \"weight\": 2126, \"acceleration\": 17.0, \"model_year\": 72, \"origin\": \"usa\", \"name\": \"dodge colt hardtop\", \"h1\": 80.0, \"h2\": 6400.0, \"h3\": 512000.0, \"pred\": 27.48853951006297, \"label\": \"test\"}, {\"mpg\": 23.0, \"cylinders\": 4, \"displacement\": 97.0, \"horsepower\": 54.0, \"weight\": 2254, \"acceleration\": 23.5, \"model_year\": 72, \"origin\": \"europe\", \"name\": \"volkswagen type 3\", \"h1\": 54.0, \"h2\": 2916.0, \"h3\": 157464.0, \"pred\": 36.220561162791945, \"label\": \"train\"}, {\"mpg\": 20.0, \"cylinders\": 4, \"displacement\": 140.0, \"horsepower\": 90.0, \"weight\": 2408, \"acceleration\": 19.5, \"model_year\": 72, \"origin\": \"usa\", \"name\": \"chevrolet vega\", \"h1\": 90.0, \"h2\": 8100.0, \"h3\": 729000.0, \"pred\": 24.786716079877138, \"label\": \"train\"}, {\"mpg\": 21.0, \"cylinders\": 4, \"displacement\": 122.0, \"horsepower\": 86.0, \"weight\": 2226, \"acceleration\": 16.5, \"model_year\": 72, \"origin\": \"usa\", \"name\": \"ford pinto runabout\", \"h1\": 86.0, \"h2\": 7396.0, \"h3\": 636056.0, \"pred\": 25.826088889796786, \"label\": \"train\"}, {\"mpg\": 13.0, \"cylinders\": 8, \"displacement\": 350.0, \"horsepower\": 165.0, \"weight\": 4274, \"acceleration\": 12.0, \"model_year\": 72, \"origin\": \"usa\", \"name\": \"chevrolet impala\", \"h1\": 165.0, \"h2\": 27225.0, \"h3\": 4492125.0, \"pred\": 13.92152107961062, \"label\": \"train\"}, {\"mpg\": 14.0, \"cylinders\": 8, \"displacement\": 400.0, \"horsepower\": 175.0, \"weight\": 4385, \"acceleration\": 12.0, \"model_year\": 72, \"origin\": \"usa\", \"name\": \"pontiac catalina\", \"h1\": 175.0, \"h2\": 30625.0, \"h3\": 5359375.0, \"pred\": 13.471526553371092, \"label\": \"train\"}, {\"mpg\": 15.0, \"cylinders\": 8, \"displacement\": 318.0, \"horsepower\": 150.0, \"weight\": 4135, \"acceleration\": 13.5, \"model_year\": 72, \"origin\": \"usa\", \"name\": \"plymouth fury iii\", \"h1\": 150.0, \"h2\": 22500.0, \"h3\": 3375000.0, \"pred\": 14.96622045084002, \"label\": \"train\"}, {\"mpg\": 14.0, \"cylinders\": 8, \"displacement\": 351.0, \"horsepower\": 153.0, \"weight\": 4129, \"acceleration\": 13.0, \"model_year\": 72, \"origin\": \"usa\", \"name\": \"ford galaxie 500\", \"h1\": 153.0, \"h2\": 23409.0, \"h3\": 3581577.0, \"pred\": 14.71929316096454, \"label\": \"train\"}, {\"mpg\": 17.0, \"cylinders\": 8, \"displacement\": 304.0, \"horsepower\": 150.0, \"weight\": 3672, \"acceleration\": 11.5, \"model_year\": 72, \"origin\": \"usa\", \"name\": \"amc ambassador sst\", \"h1\": 150.0, \"h2\": 22500.0, \"h3\": 3375000.0, \"pred\": 14.96622045084002, \"label\": \"train\"}, {\"mpg\": 11.0, \"cylinders\": 8, \"displacement\": 429.0, \"horsepower\": 208.0, \"weight\": 4633, \"acceleration\": 11.0, \"model_year\": 72, \"origin\": \"usa\", \"name\": \"mercury marquis\", \"h1\": 208.0, \"h2\": 43264.0, \"h3\": 8998912.0, \"pred\": 13.126195335804802, \"label\": \"train\"}, {\"mpg\": 13.0, \"cylinders\": 8, \"displacement\": 350.0, \"horsepower\": 155.0, \"weight\": 4502, \"acceleration\": 13.5, \"model_year\": 72, \"origin\": \"usa\", \"name\": \"buick lesabre custom\", \"h1\": 155.0, \"h2\": 24025.0, \"h3\": 3723875.0, \"pred\": 14.565542114450992, \"label\": \"train\"}, {\"mpg\": 12.0, \"cylinders\": 8, \"displacement\": 350.0, \"horsepower\": 160.0, \"weight\": 4456, \"acceleration\": 13.5, \"model_year\": 72, \"origin\": \"usa\", \"name\": \"oldsmobile delta 88 royale\", \"h1\": 160.0, \"h2\": 25600.0, \"h3\": 4096000.0, \"pred\": 14.218096707806993, \"label\": \"train\"}, {\"mpg\": 13.0, \"cylinders\": 8, \"displacement\": 400.0, \"horsepower\": 190.0, \"weight\": 4422, \"acceleration\": 12.5, \"model_year\": 72, \"origin\": \"usa\", \"name\": \"chrysler newport royal\", \"h1\": 190.0, \"h2\": 36100.0, \"h3\": 6859000.0, \"pred\": 13.118979319933764, \"label\": \"train\"}, {\"mpg\": 19.0, \"cylinders\": 3, \"displacement\": 70.0, \"horsepower\": 97.0, \"weight\": 2330, \"acceleration\": 13.5, \"model_year\": 72, \"origin\": \"japan\", \"name\": \"mazda rx2 coupe\", \"h1\": 97.0, \"h2\": 9409.0, \"h3\": 912673.0, \"pred\": 23.096374812699608, \"label\": \"train\"}, {\"mpg\": 15.0, \"cylinders\": 8, \"displacement\": 304.0, \"horsepower\": 150.0, \"weight\": 3892, \"acceleration\": 12.5, \"model_year\": 72, \"origin\": \"usa\", \"name\": \"amc matador (sw)\", \"h1\": 150.0, \"h2\": 22500.0, \"h3\": 3375000.0, \"pred\": 14.96622045084002, \"label\": \"train\"}, {\"mpg\": 13.0, \"cylinders\": 8, \"displacement\": 307.0, \"horsepower\": 130.0, \"weight\": 4098, \"acceleration\": 14.0, \"model_year\": 72, \"origin\": \"usa\", \"name\": \"chevrolet chevelle concours (sw)\", \"h1\": 130.0, \"h2\": 16900.0, \"h3\": 2197000.0, \"pred\": 17.148526119794568, \"label\": \"train\"}, {\"mpg\": 13.0, \"cylinders\": 8, \"displacement\": 302.0, \"horsepower\": 140.0, \"weight\": 4294, \"acceleration\": 16.0, \"model_year\": 72, \"origin\": \"usa\", \"name\": \"ford gran torino (sw)\", \"h1\": 140.0, \"h2\": 19600.0, \"h3\": 2744000.0, \"pred\": 15.936728518042784, \"label\": \"test\"}, {\"mpg\": 14.0, \"cylinders\": 8, \"displacement\": 318.0, \"horsepower\": 150.0, \"weight\": 4077, \"acceleration\": 14.0, \"model_year\": 72, \"origin\": \"usa\", \"name\": \"plymouth satellite custom (sw)\", \"h1\": 150.0, \"h2\": 22500.0, \"h3\": 3375000.0, \"pred\": 14.96622045084002, \"label\": \"train\"}, {\"mpg\": 18.0, \"cylinders\": 4, \"displacement\": 121.0, \"horsepower\": 112.0, \"weight\": 2933, \"acceleration\": 14.5, \"model_year\": 72, \"origin\": \"europe\", \"name\": \"volvo 145e (sw)\", \"h1\": 112.0, \"h2\": 12544.0, \"h3\": 1404928.0, \"pred\": 19.998156861541908, \"label\": \"train\"}, {\"mpg\": 22.0, \"cylinders\": 4, \"displacement\": 121.0, \"horsepower\": 76.0, \"weight\": 2511, \"acceleration\": 18.0, \"model_year\": 72, \"origin\": \"europe\", \"name\": \"volkswagen 411 (sw)\", \"h1\": 76.0, \"h2\": 5776.0, \"h3\": 438976.0, \"pred\": 28.667532013466953, \"label\": \"test\"}, {\"mpg\": 21.0, \"cylinders\": 4, \"displacement\": 120.0, \"horsepower\": 87.0, \"weight\": 2979, \"acceleration\": 19.5, \"model_year\": 72, \"origin\": \"europe\", \"name\": \"peugeot 504 (sw)\", \"h1\": 87.0, \"h2\": 7569.0, \"h3\": 658503.0, \"pred\": 25.561142285283864, \"label\": \"test\"}, {\"mpg\": 26.0, \"cylinders\": 4, \"displacement\": 96.0, \"horsepower\": 69.0, \"weight\": 2189, \"acceleration\": 18.0, \"model_year\": 72, \"origin\": \"europe\", \"name\": \"renault 12 (sw)\", \"h1\": 69.0, \"h2\": 4761.0, \"h3\": 328509.0, \"pred\": 30.870975654199405, \"label\": \"test\"}, {\"mpg\": 22.0, \"cylinders\": 4, \"displacement\": 122.0, \"horsepower\": 86.0, \"weight\": 2395, \"acceleration\": 16.0, \"model_year\": 72, \"origin\": \"usa\", \"name\": \"ford pinto (sw)\", \"h1\": 86.0, \"h2\": 7396.0, \"h3\": 636056.0, \"pred\": 25.826088889796786, \"label\": \"train\"}, {\"mpg\": 28.0, \"cylinders\": 4, \"displacement\": 97.0, \"horsepower\": 92.0, \"weight\": 2288, \"acceleration\": 17.0, \"model_year\": 72, \"origin\": \"japan\", \"name\": \"datsun 510 (sw)\", \"h1\": 92.0, \"h2\": 8464.0, \"h3\": 778688.0, \"pred\": 24.28725423094555, \"label\": \"train\"}, {\"mpg\": 23.0, \"cylinders\": 4, \"displacement\": 120.0, \"horsepower\": 97.0, \"weight\": 2506, \"acceleration\": 14.5, \"model_year\": 72, \"origin\": \"japan\", \"name\": \"toyouta corona mark ii (sw)\", \"h1\": 97.0, \"h2\": 9409.0, \"h3\": 912673.0, \"pred\": 23.096374812699608, \"label\": \"train\"}, {\"mpg\": 28.0, \"cylinders\": 4, \"displacement\": 98.0, \"horsepower\": 80.0, \"weight\": 2164, \"acceleration\": 15.0, \"model_year\": 72, \"origin\": \"usa\", \"name\": \"dodge colt (sw)\", \"h1\": 80.0, \"h2\": 6400.0, \"h3\": 512000.0, \"pred\": 27.48853951006297, \"label\": \"train\"}, {\"mpg\": 27.0, \"cylinders\": 4, \"displacement\": 97.0, \"horsepower\": 88.0, \"weight\": 2100, \"acceleration\": 16.5, \"model_year\": 72, \"origin\": \"japan\", \"name\": \"toyota corolla 1600 (sw)\", \"h1\": 88.0, \"h2\": 7744.0, \"h3\": 681472.0, \"pred\": 25.299610552266536, \"label\": \"train\"}, {\"mpg\": 13.0, \"cylinders\": 8, \"displacement\": 350.0, \"horsepower\": 175.0, \"weight\": 4100, \"acceleration\": 13.0, \"model_year\": 73, \"origin\": \"usa\", \"name\": \"buick century 350\", \"h1\": 175.0, \"h2\": 30625.0, \"h3\": 5359375.0, \"pred\": 13.471526553371092, \"label\": \"train\"}, {\"mpg\": 14.0, \"cylinders\": 8, \"displacement\": 304.0, \"horsepower\": 150.0, \"weight\": 3672, \"acceleration\": 11.5, \"model_year\": 73, \"origin\": \"usa\", \"name\": \"amc matador\", \"h1\": 150.0, \"h2\": 22500.0, \"h3\": 3375000.0, \"pred\": 14.96622045084002, \"label\": \"train\"}, {\"mpg\": 13.0, \"cylinders\": 8, \"displacement\": 350.0, \"horsepower\": 145.0, \"weight\": 3988, \"acceleration\": 13.0, \"model_year\": 73, \"origin\": \"usa\", \"name\": \"chevrolet malibu\", \"h1\": 145.0, \"h2\": 21025.0, \"h3\": 3048625.0, \"pred\": 15.422494868271478, \"label\": \"train\"}, {\"mpg\": 14.0, \"cylinders\": 8, \"displacement\": 302.0, \"horsepower\": 137.0, \"weight\": 4042, \"acceleration\": 14.5, \"model_year\": 73, \"origin\": \"usa\", \"name\": \"ford gran torino\", \"h1\": 137.0, \"h2\": 18769.0, \"h3\": 2571353.0, \"pred\": 16.274072210368416, \"label\": \"train\"}, {\"mpg\": 15.0, \"cylinders\": 8, \"displacement\": 318.0, \"horsepower\": 150.0, \"weight\": 3777, \"acceleration\": 12.5, \"model_year\": 73, \"origin\": \"usa\", \"name\": \"dodge coronet custom\", \"h1\": 150.0, \"h2\": 22500.0, \"h3\": 3375000.0, \"pred\": 14.96622045084002, \"label\": \"train\"}, {\"mpg\": 12.0, \"cylinders\": 8, \"displacement\": 429.0, \"horsepower\": 198.0, \"weight\": 4952, \"acceleration\": 11.5, \"model_year\": 73, \"origin\": \"usa\", \"name\": \"mercury marquis brougham\", \"h1\": 198.0, \"h2\": 39204.0, \"h3\": 7762392.0, \"pred\": 13.07003485130241, \"label\": \"train\"}, {\"mpg\": 13.0, \"cylinders\": 8, \"displacement\": 400.0, \"horsepower\": 150.0, \"weight\": 4464, \"acceleration\": 12.0, \"model_year\": 73, \"origin\": \"usa\", \"name\": \"chevrolet caprice classic\", \"h1\": 150.0, \"h2\": 22500.0, \"h3\": 3375000.0, \"pred\": 14.96622045084002, \"label\": \"test\"}, {\"mpg\": 13.0, \"cylinders\": 8, \"displacement\": 351.0, \"horsepower\": 158.0, \"weight\": 4363, \"acceleration\": 13.0, \"model_year\": 73, \"origin\": \"usa\", \"name\": \"ford ltd\", \"h1\": 158.0, \"h2\": 24964.0, \"h3\": 3944312.0, \"pred\": 14.35083816057822, \"label\": \"train\"}, {\"mpg\": 14.0, \"cylinders\": 8, \"displacement\": 318.0, \"horsepower\": 150.0, \"weight\": 4237, \"acceleration\": 14.5, \"model_year\": 73, \"origin\": \"usa\", \"name\": \"plymouth fury gran sedan\", \"h1\": 150.0, \"h2\": 22500.0, \"h3\": 3375000.0, \"pred\": 14.96622045084002, \"label\": \"train\"}, {\"mpg\": 13.0, \"cylinders\": 8, \"displacement\": 440.0, \"horsepower\": 215.0, \"weight\": 4735, \"acceleration\": 11.0, \"model_year\": 73, \"origin\": \"usa\", \"name\": \"chrysler new yorker brougham\", \"h1\": 215.0, \"h2\": 46225.0, \"h3\": 9938375.0, \"pred\": 13.233709326836177, \"label\": \"train\"}, {\"mpg\": 12.0, \"cylinders\": 8, \"displacement\": 455.0, \"horsepower\": 225.0, \"weight\": 4951, \"acceleration\": 11.0, \"model_year\": 73, \"origin\": \"usa\", \"name\": \"buick electra 225 custom\", \"h1\": 225.0, \"h2\": 50625.0, \"h3\": 11390625.0, \"pred\": 13.470269187911917, \"label\": \"train\"}, {\"mpg\": 13.0, \"cylinders\": 8, \"displacement\": 360.0, \"horsepower\": 175.0, \"weight\": 3821, \"acceleration\": 11.0, \"model_year\": 73, \"origin\": \"usa\", \"name\": \"amc ambassador brougham\", \"h1\": 175.0, \"h2\": 30625.0, \"h3\": 5359375.0, \"pred\": 13.471526553371092, \"label\": \"train\"}, {\"mpg\": 18.0, \"cylinders\": 6, \"displacement\": 225.0, \"horsepower\": 105.0, \"weight\": 3121, \"acceleration\": 16.5, \"model_year\": 73, \"origin\": \"usa\", \"name\": \"plymouth valiant\", \"h1\": 105.0, \"h2\": 11025.0, \"h3\": 1157625.0, \"pred\": 21.357727280939883, \"label\": \"train\"}, {\"mpg\": 16.0, \"cylinders\": 6, \"displacement\": 250.0, \"horsepower\": 100.0, \"weight\": 3278, \"acceleration\": 18.0, \"model_year\": 73, \"origin\": \"usa\", \"name\": \"chevrolet nova custom\", \"h1\": 100.0, \"h2\": 10000.0, \"h3\": 1000000.0, \"pred\": 22.420708236136647, \"label\": \"train\"}, {\"mpg\": 18.0, \"cylinders\": 6, \"displacement\": 232.0, \"horsepower\": 100.0, \"weight\": 2945, \"acceleration\": 16.0, \"model_year\": 73, \"origin\": \"usa\", \"name\": \"amc hornet\", \"h1\": 100.0, \"h2\": 10000.0, \"h3\": 1000000.0, \"pred\": 22.420708236136647, \"label\": \"train\"}, {\"mpg\": 18.0, \"cylinders\": 6, \"displacement\": 250.0, \"horsepower\": 88.0, \"weight\": 3021, \"acceleration\": 16.5, \"model_year\": 73, \"origin\": \"usa\", \"name\": \"ford maverick\", \"h1\": 88.0, \"h2\": 7744.0, \"h3\": 681472.0, \"pred\": 25.299610552266536, \"label\": \"train\"}, {\"mpg\": 23.0, \"cylinders\": 6, \"displacement\": 198.0, \"horsepower\": 95.0, \"weight\": 2904, \"acceleration\": 16.0, \"model_year\": 73, \"origin\": \"usa\", \"name\": \"plymouth duster\", \"h1\": 95.0, \"h2\": 9025.0, \"h3\": 857375.0, \"pred\": 23.562916785349927, \"label\": \"train\"}, {\"mpg\": 26.0, \"cylinders\": 4, \"displacement\": 97.0, \"horsepower\": 46.0, \"weight\": 1950, \"acceleration\": 21.0, \"model_year\": 73, \"origin\": \"europe\", \"name\": \"volkswagen super beetle\", \"h1\": 46.0, \"h2\": 2116.0, \"h3\": 97336.0, \"pred\": 39.44117951185239, \"label\": \"test\"}, {\"mpg\": 11.0, \"cylinders\": 8, \"displacement\": 400.0, \"horsepower\": 150.0, \"weight\": 4997, \"acceleration\": 14.0, \"model_year\": 73, \"origin\": \"usa\", \"name\": \"chevrolet impala\", \"h1\": 150.0, \"h2\": 22500.0, \"h3\": 3375000.0, \"pred\": 14.96622045084002, \"label\": \"train\"}, {\"mpg\": 12.0, \"cylinders\": 8, \"displacement\": 400.0, \"horsepower\": 167.0, \"weight\": 4906, \"acceleration\": 12.5, \"model_year\": 73, \"origin\": \"usa\", \"name\": \"ford country\", \"h1\": 167.0, \"h2\": 27889.0, \"h3\": 4657463.0, \"pred\": 13.816605020406783, \"label\": \"train\"}, {\"mpg\": 13.0, \"cylinders\": 8, \"displacement\": 360.0, \"horsepower\": 170.0, \"weight\": 4654, \"acceleration\": 13.0, \"model_year\": 73, \"origin\": \"usa\", \"name\": \"plymouth custom suburb\", \"h1\": 170.0, \"h2\": 28900.0, \"h3\": 4913000.0, \"pred\": 13.673452078564459, \"label\": \"train\"}, {\"mpg\": 12.0, \"cylinders\": 8, \"displacement\": 350.0, \"horsepower\": 180.0, \"weight\": 4499, \"acceleration\": 12.5, \"model_year\": 73, \"origin\": \"usa\", \"name\": \"oldsmobile vista cruiser\", \"h1\": 180.0, \"h2\": 32400.0, \"h3\": 5832000.0, \"pred\": 13.313381352733131, \"label\": \"train\"}, {\"mpg\": 18.0, \"cylinders\": 6, \"displacement\": 232.0, \"horsepower\": 100.0, \"weight\": 2789, \"acceleration\": 15.0, \"model_year\": 73, \"origin\": \"usa\", \"name\": \"amc gremlin\", \"h1\": 100.0, \"h2\": 10000.0, \"h3\": 1000000.0, \"pred\": 22.420708236136647, \"label\": \"train\"}, {\"mpg\": 20.0, \"cylinders\": 4, \"displacement\": 97.0, \"horsepower\": 88.0, \"weight\": 2279, \"acceleration\": 19.0, \"model_year\": 73, \"origin\": \"japan\", \"name\": \"toyota carina\", \"h1\": 88.0, \"h2\": 7744.0, \"h3\": 681472.0, \"pred\": 25.299610552266536, \"label\": \"train\"}, {\"mpg\": 21.0, \"cylinders\": 4, \"displacement\": 140.0, \"horsepower\": 72.0, \"weight\": 2401, \"acceleration\": 19.5, \"model_year\": 73, \"origin\": \"usa\", \"name\": \"chevrolet vega\", \"h1\": 72.0, \"h2\": 5184.0, \"h3\": 373248.0, \"pred\": 29.904489777827152, \"label\": \"train\"}, {\"mpg\": 22.0, \"cylinders\": 4, \"displacement\": 108.0, \"horsepower\": 94.0, \"weight\": 2379, \"acceleration\": 16.5, \"model_year\": 73, \"origin\": \"japan\", \"name\": \"datsun 610\", \"h1\": 94.0, \"h2\": 8836.0, \"h3\": 830584.0, \"pred\": 23.801073763788736, \"label\": \"train\"}, {\"mpg\": 18.0, \"cylinders\": 3, \"displacement\": 70.0, \"horsepower\": 90.0, \"weight\": 2124, \"acceleration\": 13.5, \"model_year\": 73, \"origin\": \"japan\", \"name\": \"maxda rx3\", \"h1\": 90.0, \"h2\": 8100.0, \"h3\": 729000.0, \"pred\": 24.786716079877138, \"label\": \"train\"}, {\"mpg\": 19.0, \"cylinders\": 4, \"displacement\": 122.0, \"horsepower\": 85.0, \"weight\": 2310, \"acceleration\": 18.5, \"model_year\": 73, \"origin\": \"usa\", \"name\": \"ford pinto\", \"h1\": 85.0, \"h2\": 7225.0, \"h3\": 614125.0, \"pred\": 26.094469271015683, \"label\": \"train\"}, {\"mpg\": 21.0, \"cylinders\": 6, \"displacement\": 155.0, \"horsepower\": 107.0, \"weight\": 2472, \"acceleration\": 14.0, \"model_year\": 73, \"origin\": \"usa\", \"name\": \"mercury capri v6\", \"h1\": 107.0, \"h2\": 11449.0, \"h3\": 1225043.0, \"pred\": 20.954189279295186, \"label\": \"train\"}, {\"mpg\": 26.0, \"cylinders\": 4, \"displacement\": 98.0, \"horsepower\": 90.0, \"weight\": 2265, \"acceleration\": 15.5, \"model_year\": 73, \"origin\": \"europe\", \"name\": \"fiat 124 sport coupe\", \"h1\": 90.0, \"h2\": 8100.0, \"h3\": 729000.0, \"pred\": 24.786716079877138, \"label\": \"test\"}, {\"mpg\": 15.0, \"cylinders\": 8, \"displacement\": 350.0, \"horsepower\": 145.0, \"weight\": 4082, \"acceleration\": 13.0, \"model_year\": 73, \"origin\": \"usa\", \"name\": \"chevrolet monte carlo s\", \"h1\": 145.0, \"h2\": 21025.0, \"h3\": 3048625.0, \"pred\": 15.422494868271478, \"label\": \"train\"}, {\"mpg\": 16.0, \"cylinders\": 8, \"displacement\": 400.0, \"horsepower\": 230.0, \"weight\": 4278, \"acceleration\": 9.5, \"model_year\": 73, \"origin\": \"usa\", \"name\": \"pontiac grand prix\", \"h1\": 230.0, \"h2\": 52900.0, \"h3\": 12167000.0, \"pred\": 13.619953911470475, \"label\": \"train\"}, {\"mpg\": 29.0, \"cylinders\": 4, \"displacement\": 68.0, \"horsepower\": 49.0, \"weight\": 1867, \"acceleration\": 19.5, \"model_year\": 73, \"origin\": \"europe\", \"name\": \"fiat 128\", \"h1\": 49.0, \"h2\": 2401.0, \"h3\": 117649.0, \"pred\": 38.2025426358316, \"label\": \"test\"}, {\"mpg\": 24.0, \"cylinders\": 4, \"displacement\": 116.0, \"horsepower\": 75.0, \"weight\": 2158, \"acceleration\": 15.5, \"model_year\": 73, \"origin\": \"europe\", \"name\": \"opel manta\", \"h1\": 75.0, \"h2\": 5625.0, \"h3\": 421875.0, \"pred\": 28.971289948316404, \"label\": \"train\"}, {\"mpg\": 20.0, \"cylinders\": 4, \"displacement\": 114.0, \"horsepower\": 91.0, \"weight\": 2582, \"acceleration\": 14.0, \"model_year\": 73, \"origin\": \"europe\", \"name\": \"audi 100ls\", \"h1\": 91.0, \"h2\": 8281.0, \"h3\": 753571.0, \"pred\": 24.535315530084304, \"label\": \"train\"}, {\"mpg\": 19.0, \"cylinders\": 4, \"displacement\": 121.0, \"horsepower\": 112.0, \"weight\": 2868, \"acceleration\": 15.5, \"model_year\": 73, \"origin\": \"europe\", \"name\": \"volvo 144ea\", \"h1\": 112.0, \"h2\": 12544.0, \"h3\": 1404928.0, \"pred\": 19.998156861541908, \"label\": \"train\"}, {\"mpg\": 15.0, \"cylinders\": 8, \"displacement\": 318.0, \"horsepower\": 150.0, \"weight\": 3399, \"acceleration\": 11.0, \"model_year\": 73, \"origin\": \"usa\", \"name\": \"dodge dart custom\", \"h1\": 150.0, \"h2\": 22500.0, \"h3\": 3375000.0, \"pred\": 14.96622045084002, \"label\": \"train\"}, {\"mpg\": 24.0, \"cylinders\": 4, \"displacement\": 121.0, \"horsepower\": 110.0, \"weight\": 2660, \"acceleration\": 14.0, \"model_year\": 73, \"origin\": \"europe\", \"name\": \"saab 99le\", \"h1\": 110.0, \"h2\": 12100.0, \"h3\": 1331000.0, \"pred\": 20.37161076846224, \"label\": \"train\"}, {\"mpg\": 20.0, \"cylinders\": 6, \"displacement\": 156.0, \"horsepower\": 122.0, \"weight\": 2807, \"acceleration\": 13.5, \"model_year\": 73, \"origin\": \"japan\", \"name\": \"toyota mark ii\", \"h1\": 122.0, \"h2\": 14884.0, \"h3\": 1815848.0, \"pred\": 18.304396967446152, \"label\": \"train\"}, {\"mpg\": 11.0, \"cylinders\": 8, \"displacement\": 350.0, \"horsepower\": 180.0, \"weight\": 3664, \"acceleration\": 11.0, \"model_year\": 73, \"origin\": \"usa\", \"name\": \"oldsmobile omega\", \"h1\": 180.0, \"h2\": 32400.0, \"h3\": 5832000.0, \"pred\": 13.313381352733131, \"label\": \"train\"}, {\"mpg\": 20.0, \"cylinders\": 6, \"displacement\": 198.0, \"horsepower\": 95.0, \"weight\": 3102, \"acceleration\": 16.5, \"model_year\": 74, \"origin\": \"usa\", \"name\": \"plymouth duster\", \"h1\": 95.0, \"h2\": 9025.0, \"h3\": 857375.0, \"pred\": 23.562916785349927, \"label\": \"test\"}, {\"mpg\": 19.0, \"cylinders\": 6, \"displacement\": 232.0, \"horsepower\": 100.0, \"weight\": 2901, \"acceleration\": 16.0, \"model_year\": 74, \"origin\": \"usa\", \"name\": \"amc hornet\", \"h1\": 100.0, \"h2\": 10000.0, \"h3\": 1000000.0, \"pred\": 22.420708236136647, \"label\": \"train\"}, {\"mpg\": 15.0, \"cylinders\": 6, \"displacement\": 250.0, \"horsepower\": 100.0, \"weight\": 3336, \"acceleration\": 17.0, \"model_year\": 74, \"origin\": \"usa\", \"name\": \"chevrolet nova\", \"h1\": 100.0, \"h2\": 10000.0, \"h3\": 1000000.0, \"pred\": 22.420708236136647, \"label\": \"train\"}, {\"mpg\": 31.0, \"cylinders\": 4, \"displacement\": 79.0, \"horsepower\": 67.0, \"weight\": 1950, \"acceleration\": 19.0, \"model_year\": 74, \"origin\": \"japan\", \"name\": \"datsun b210\", \"h1\": 67.0, \"h2\": 4489.0, \"h3\": 300763.0, \"pred\": 31.53404388950904, \"label\": \"train\"}, {\"mpg\": 26.0, \"cylinders\": 4, \"displacement\": 122.0, \"horsepower\": 80.0, \"weight\": 2451, \"acceleration\": 16.5, \"model_year\": 74, \"origin\": \"usa\", \"name\": \"ford pinto\", \"h1\": 80.0, \"h2\": 6400.0, \"h3\": 512000.0, \"pred\": 27.48853951006297, \"label\": \"train\"}, {\"mpg\": 32.0, \"cylinders\": 4, \"displacement\": 71.0, \"horsepower\": 65.0, \"weight\": 1836, \"acceleration\": 21.0, \"model_year\": 74, \"origin\": \"japan\", \"name\": \"toyota corolla 1200\", \"h1\": 65.0, \"h2\": 4225.0, \"h3\": 274625.0, \"pred\": 32.212284027631384, \"label\": \"train\"}, {\"mpg\": 25.0, \"cylinders\": 4, \"displacement\": 140.0, \"horsepower\": 75.0, \"weight\": 2542, \"acceleration\": 17.0, \"model_year\": 74, \"origin\": \"usa\", \"name\": \"chevrolet vega\", \"h1\": 75.0, \"h2\": 5625.0, \"h3\": 421875.0, \"pred\": 28.971289948316404, \"label\": \"train\"}, {\"mpg\": 16.0, \"cylinders\": 6, \"displacement\": 250.0, \"horsepower\": 100.0, \"weight\": 3781, \"acceleration\": 17.0, \"model_year\": 74, \"origin\": \"usa\", \"name\": \"chevrolet chevelle malibu classic\", \"h1\": 100.0, \"h2\": 10000.0, \"h3\": 1000000.0, \"pred\": 22.420708236136647, \"label\": \"train\"}, {\"mpg\": 16.0, \"cylinders\": 6, \"displacement\": 258.0, \"horsepower\": 110.0, \"weight\": 3632, \"acceleration\": 18.0, \"model_year\": 74, \"origin\": \"usa\", \"name\": \"amc matador\", \"h1\": 110.0, \"h2\": 12100.0, \"h3\": 1331000.0, \"pred\": 20.37161076846224, \"label\": \"train\"}, {\"mpg\": 18.0, \"cylinders\": 6, \"displacement\": 225.0, \"horsepower\": 105.0, \"weight\": 3613, \"acceleration\": 16.5, \"model_year\": 74, \"origin\": \"usa\", \"name\": \"plymouth satellite sebring\", \"h1\": 105.0, \"h2\": 11025.0, \"h3\": 1157625.0, \"pred\": 21.357727280939883, \"label\": \"train\"}, {\"mpg\": 16.0, \"cylinders\": 8, \"displacement\": 302.0, \"horsepower\": 140.0, \"weight\": 4141, \"acceleration\": 14.0, \"model_year\": 74, \"origin\": \"usa\", \"name\": \"ford gran torino\", \"h1\": 140.0, \"h2\": 19600.0, \"h3\": 2744000.0, \"pred\": 15.936728518042784, \"label\": \"train\"}, {\"mpg\": 13.0, \"cylinders\": 8, \"displacement\": 350.0, \"horsepower\": 150.0, \"weight\": 4699, \"acceleration\": 14.5, \"model_year\": 74, \"origin\": \"usa\", \"name\": \"buick century luxus (sw)\", \"h1\": 150.0, \"h2\": 22500.0, \"h3\": 3375000.0, \"pred\": 14.96622045084002, \"label\": \"train\"}, {\"mpg\": 14.0, \"cylinders\": 8, \"displacement\": 318.0, \"horsepower\": 150.0, \"weight\": 4457, \"acceleration\": 13.5, \"model_year\": 74, \"origin\": \"usa\", \"name\": \"dodge coronet custom (sw)\", \"h1\": 150.0, \"h2\": 22500.0, \"h3\": 3375000.0, \"pred\": 14.96622045084002, \"label\": \"train\"}, {\"mpg\": 14.0, \"cylinders\": 8, \"displacement\": 302.0, \"horsepower\": 140.0, \"weight\": 4638, \"acceleration\": 16.0, \"model_year\": 74, \"origin\": \"usa\", \"name\": \"ford gran torino (sw)\", \"h1\": 140.0, \"h2\": 19600.0, \"h3\": 2744000.0, \"pred\": 15.936728518042784, \"label\": \"test\"}, {\"mpg\": 14.0, \"cylinders\": 8, \"displacement\": 304.0, \"horsepower\": 150.0, \"weight\": 4257, \"acceleration\": 15.5, \"model_year\": 74, \"origin\": \"usa\", \"name\": \"amc matador (sw)\", \"h1\": 150.0, \"h2\": 22500.0, \"h3\": 3375000.0, \"pred\": 14.96622045084002, \"label\": \"train\"}, {\"mpg\": 29.0, \"cylinders\": 4, \"displacement\": 98.0, \"horsepower\": 83.0, \"weight\": 2219, \"acceleration\": 16.5, \"model_year\": 74, \"origin\": \"europe\", \"name\": \"audi fox\", \"h1\": 83.0, \"h2\": 6889.0, \"h3\": 571787.0, \"pred\": 26.641606984412896, \"label\": \"train\"}, {\"mpg\": 26.0, \"cylinders\": 4, \"displacement\": 79.0, \"horsepower\": 67.0, \"weight\": 1963, \"acceleration\": 15.5, \"model_year\": 74, \"origin\": \"europe\", \"name\": \"volkswagen dasher\", \"h1\": 67.0, \"h2\": 4489.0, \"h3\": 300763.0, \"pred\": 31.53404388950904, \"label\": \"test\"}, {\"mpg\": 26.0, \"cylinders\": 4, \"displacement\": 97.0, \"horsepower\": 78.0, \"weight\": 2300, \"acceleration\": 14.5, \"model_year\": 74, \"origin\": \"europe\", \"name\": \"opel manta\", \"h1\": 78.0, \"h2\": 6084.0, \"h3\": 474552.0, \"pred\": 28.070865724986945, \"label\": \"train\"}, {\"mpg\": 31.0, \"cylinders\": 4, \"displacement\": 76.0, \"horsepower\": 52.0, \"weight\": 1649, \"acceleration\": 16.5, \"model_year\": 74, \"origin\": \"japan\", \"name\": \"toyota corona\", \"h1\": 52.0, \"h2\": 2704.0, \"h3\": 140608.0, \"pred\": 37.00110518522083, \"label\": \"train\"}, {\"mpg\": 32.0, \"cylinders\": 4, \"displacement\": 83.0, \"horsepower\": 61.0, \"weight\": 2003, \"acceleration\": 19.0, \"model_year\": 74, \"origin\": \"japan\", \"name\": \"datsun 710\", \"h1\": 61.0, \"h2\": 3721.0, \"h3\": 226981.0, \"pred\": 33.61488497904631, \"label\": \"train\"}, {\"mpg\": 28.0, \"cylinders\": 4, \"displacement\": 90.0, \"horsepower\": 75.0, \"weight\": 2125, \"acceleration\": 14.5, \"model_year\": 74, \"origin\": \"usa\", \"name\": \"dodge colt\", \"h1\": 75.0, \"h2\": 5625.0, \"h3\": 421875.0, \"pred\": 28.971289948316404, \"label\": \"train\"}, {\"mpg\": 24.0, \"cylinders\": 4, \"displacement\": 90.0, \"horsepower\": 75.0, \"weight\": 2108, \"acceleration\": 15.5, \"model_year\": 74, \"origin\": \"europe\", \"name\": \"fiat 128\", \"h1\": 75.0, \"h2\": 5625.0, \"h3\": 421875.0, \"pred\": 28.971289948316404, \"label\": \"train\"}, {\"mpg\": 26.0, \"cylinders\": 4, \"displacement\": 116.0, \"horsepower\": 75.0, \"weight\": 2246, \"acceleration\": 14.0, \"model_year\": 74, \"origin\": \"europe\", \"name\": \"fiat 124 tc\", \"h1\": 75.0, \"h2\": 5625.0, \"h3\": 421875.0, \"pred\": 28.971289948316404, \"label\": \"train\"}, {\"mpg\": 24.0, \"cylinders\": 4, \"displacement\": 120.0, \"horsepower\": 97.0, \"weight\": 2489, \"acceleration\": 15.0, \"model_year\": 74, \"origin\": \"japan\", \"name\": \"honda civic\", \"h1\": 97.0, \"h2\": 9409.0, \"h3\": 912673.0, \"pred\": 23.096374812699608, \"label\": \"train\"}, {\"mpg\": 26.0, \"cylinders\": 4, \"displacement\": 108.0, \"horsepower\": 93.0, \"weight\": 2391, \"acceleration\": 15.5, \"model_year\": 74, \"origin\": \"japan\", \"name\": \"subaru\", \"h1\": 93.0, \"h2\": 8649.0, \"h3\": 804357.0, \"pred\": 24.042513277250485, \"label\": \"train\"}, {\"mpg\": 31.0, \"cylinders\": 4, \"displacement\": 79.0, \"horsepower\": 67.0, \"weight\": 2000, \"acceleration\": 16.0, \"model_year\": 74, \"origin\": \"europe\", \"name\": \"fiat x1.9\", \"h1\": 67.0, \"h2\": 4489.0, \"h3\": 300763.0, \"pred\": 31.53404388950904, \"label\": \"train\"}, {\"mpg\": 19.0, \"cylinders\": 6, \"displacement\": 225.0, \"horsepower\": 95.0, \"weight\": 3264, \"acceleration\": 16.0, \"model_year\": 75, \"origin\": \"usa\", \"name\": \"plymouth valiant custom\", \"h1\": 95.0, \"h2\": 9025.0, \"h3\": 857375.0, \"pred\": 23.562916785349927, \"label\": \"test\"}, {\"mpg\": 18.0, \"cylinders\": 6, \"displacement\": 250.0, \"horsepower\": 105.0, \"weight\": 3459, \"acceleration\": 16.0, \"model_year\": 75, \"origin\": \"usa\", \"name\": \"chevrolet nova\", \"h1\": 105.0, \"h2\": 11025.0, \"h3\": 1157625.0, \"pred\": 21.357727280939883, \"label\": \"train\"}, {\"mpg\": 15.0, \"cylinders\": 6, \"displacement\": 250.0, \"horsepower\": 72.0, \"weight\": 3432, \"acceleration\": 21.0, \"model_year\": 75, \"origin\": \"usa\", \"name\": \"mercury monarch\", \"h1\": 72.0, \"h2\": 5184.0, \"h3\": 373248.0, \"pred\": 29.904489777827152, \"label\": \"train\"}, {\"mpg\": 15.0, \"cylinders\": 6, \"displacement\": 250.0, \"horsepower\": 72.0, \"weight\": 3158, \"acceleration\": 19.5, \"model_year\": 75, \"origin\": \"usa\", \"name\": \"ford maverick\", \"h1\": 72.0, \"h2\": 5184.0, \"h3\": 373248.0, \"pred\": 29.904489777827152, \"label\": \"train\"}, {\"mpg\": 16.0, \"cylinders\": 8, \"displacement\": 400.0, \"horsepower\": 170.0, \"weight\": 4668, \"acceleration\": 11.5, \"model_year\": 75, \"origin\": \"usa\", \"name\": \"pontiac catalina\", \"h1\": 170.0, \"h2\": 28900.0, \"h3\": 4913000.0, \"pred\": 13.673452078564459, \"label\": \"train\"}, {\"mpg\": 15.0, \"cylinders\": 8, \"displacement\": 350.0, \"horsepower\": 145.0, \"weight\": 4440, \"acceleration\": 14.0, \"model_year\": 75, \"origin\": \"usa\", \"name\": \"chevrolet bel air\", \"h1\": 145.0, \"h2\": 21025.0, \"h3\": 3048625.0, \"pred\": 15.422494868271478, \"label\": \"test\"}, {\"mpg\": 16.0, \"cylinders\": 8, \"displacement\": 318.0, \"horsepower\": 150.0, \"weight\": 4498, \"acceleration\": 14.5, \"model_year\": 75, \"origin\": \"usa\", \"name\": \"plymouth grand fury\", \"h1\": 150.0, \"h2\": 22500.0, \"h3\": 3375000.0, \"pred\": 14.96622045084002, \"label\": \"train\"}, {\"mpg\": 14.0, \"cylinders\": 8, \"displacement\": 351.0, \"horsepower\": 148.0, \"weight\": 4657, \"acceleration\": 13.5, \"model_year\": 75, \"origin\": \"usa\", \"name\": \"ford ltd\", \"h1\": 148.0, \"h2\": 21904.0, \"h3\": 3241792.0, \"pred\": 15.141926351614856, \"label\": \"train\"}, {\"mpg\": 17.0, \"cylinders\": 6, \"displacement\": 231.0, \"horsepower\": 110.0, \"weight\": 3907, \"acceleration\": 21.0, \"model_year\": 75, \"origin\": \"usa\", \"name\": \"buick century\", \"h1\": 110.0, \"h2\": 12100.0, \"h3\": 1331000.0, \"pred\": 20.37161076846224, \"label\": \"train\"}, {\"mpg\": 16.0, \"cylinders\": 6, \"displacement\": 250.0, \"horsepower\": 105.0, \"weight\": 3897, \"acceleration\": 18.5, \"model_year\": 75, \"origin\": \"usa\", \"name\": \"chevroelt chevelle malibu\", \"h1\": 105.0, \"h2\": 11025.0, \"h3\": 1157625.0, \"pred\": 21.357727280939883, \"label\": \"train\"}, {\"mpg\": 15.0, \"cylinders\": 6, \"displacement\": 258.0, \"horsepower\": 110.0, \"weight\": 3730, \"acceleration\": 19.0, \"model_year\": 75, \"origin\": \"usa\", \"name\": \"amc matador\", \"h1\": 110.0, \"h2\": 12100.0, \"h3\": 1331000.0, \"pred\": 20.37161076846224, \"label\": \"train\"}, {\"mpg\": 18.0, \"cylinders\": 6, \"displacement\": 225.0, \"horsepower\": 95.0, \"weight\": 3785, \"acceleration\": 19.0, \"model_year\": 75, \"origin\": \"usa\", \"name\": \"plymouth fury\", \"h1\": 95.0, \"h2\": 9025.0, \"h3\": 857375.0, \"pred\": 23.562916785349927, \"label\": \"train\"}, {\"mpg\": 21.0, \"cylinders\": 6, \"displacement\": 231.0, \"horsepower\": 110.0, \"weight\": 3039, \"acceleration\": 15.0, \"model_year\": 75, \"origin\": \"usa\", \"name\": \"buick skyhawk\", \"h1\": 110.0, \"h2\": 12100.0, \"h3\": 1331000.0, \"pred\": 20.37161076846224, \"label\": \"train\"}, {\"mpg\": 20.0, \"cylinders\": 8, \"displacement\": 262.0, \"horsepower\": 110.0, \"weight\": 3221, \"acceleration\": 13.5, \"model_year\": 75, \"origin\": \"usa\", \"name\": \"chevrolet monza 2+2\", \"h1\": 110.0, \"h2\": 12100.0, \"h3\": 1331000.0, \"pred\": 20.37161076846224, \"label\": \"train\"}, {\"mpg\": 13.0, \"cylinders\": 8, \"displacement\": 302.0, \"horsepower\": 129.0, \"weight\": 3169, \"acceleration\": 12.0, \"model_year\": 75, \"origin\": \"usa\", \"name\": \"ford mustang ii\", \"h1\": 129.0, \"h2\": 16641.0, \"h3\": 2146689.0, \"pred\": 17.28370465496954, \"label\": \"train\"}, {\"mpg\": 29.0, \"cylinders\": 4, \"displacement\": 97.0, \"horsepower\": 75.0, \"weight\": 2171, \"acceleration\": 16.0, \"model_year\": 75, \"origin\": \"japan\", \"name\": \"toyota corolla\", \"h1\": 75.0, \"h2\": 5625.0, \"h3\": 421875.0, \"pred\": 28.971289948316404, \"label\": \"test\"}, {\"mpg\": 23.0, \"cylinders\": 4, \"displacement\": 140.0, \"horsepower\": 83.0, \"weight\": 2639, \"acceleration\": 17.0, \"model_year\": 75, \"origin\": \"usa\", \"name\": \"ford pinto\", \"h1\": 83.0, \"h2\": 6889.0, \"h3\": 571787.0, \"pred\": 26.641606984412896, \"label\": \"train\"}, {\"mpg\": 20.0, \"cylinders\": 6, \"displacement\": 232.0, \"horsepower\": 100.0, \"weight\": 2914, \"acceleration\": 16.0, \"model_year\": 75, \"origin\": \"usa\", \"name\": \"amc gremlin\", \"h1\": 100.0, \"h2\": 10000.0, \"h3\": 1000000.0, \"pred\": 22.420708236136647, \"label\": \"train\"}, {\"mpg\": 23.0, \"cylinders\": 4, \"displacement\": 140.0, \"horsepower\": 78.0, \"weight\": 2592, \"acceleration\": 18.5, \"model_year\": 75, \"origin\": \"usa\", \"name\": \"pontiac astro\", \"h1\": 78.0, \"h2\": 6084.0, \"h3\": 474552.0, \"pred\": 28.070865724986945, \"label\": \"train\"}, {\"mpg\": 24.0, \"cylinders\": 4, \"displacement\": 134.0, \"horsepower\": 96.0, \"weight\": 2702, \"acceleration\": 13.5, \"model_year\": 75, \"origin\": \"japan\", \"name\": \"toyota corona\", \"h1\": 96.0, \"h2\": 9216.0, \"h3\": 884736.0, \"pred\": 23.328023436723683, \"label\": \"train\"}, {\"mpg\": 25.0, \"cylinders\": 4, \"displacement\": 90.0, \"horsepower\": 71.0, \"weight\": 2223, \"acceleration\": 16.5, \"model_year\": 75, \"origin\": \"europe\", \"name\": \"volkswagen dasher\", \"h1\": 71.0, \"h2\": 5041.0, \"h3\": 357911.0, \"pred\": 30.222928080019443, \"label\": \"train\"}, {\"mpg\": 24.0, \"cylinders\": 4, \"displacement\": 119.0, \"horsepower\": 97.0, \"weight\": 2545, \"acceleration\": 17.0, \"model_year\": 75, \"origin\": \"japan\", \"name\": \"datsun 710\", \"h1\": 97.0, \"h2\": 9409.0, \"h3\": 912673.0, \"pred\": 23.096374812699608, \"label\": \"train\"}, {\"mpg\": 18.0, \"cylinders\": 6, \"displacement\": 171.0, \"horsepower\": 97.0, \"weight\": 2984, \"acceleration\": 14.5, \"model_year\": 75, \"origin\": \"usa\", \"name\": \"ford pinto\", \"h1\": 97.0, \"h2\": 9409.0, \"h3\": 912673.0, \"pred\": 23.096374812699608, \"label\": \"train\"}, {\"mpg\": 29.0, \"cylinders\": 4, \"displacement\": 90.0, \"horsepower\": 70.0, \"weight\": 1937, \"acceleration\": 14.0, \"model_year\": 75, \"origin\": \"europe\", \"name\": \"volkswagen rabbit\", \"h1\": 70.0, \"h2\": 4900.0, \"h3\": 343000.0, \"pred\": 30.545083737073405, \"label\": \"train\"}, {\"mpg\": 19.0, \"cylinders\": 6, \"displacement\": 232.0, \"horsepower\": 90.0, \"weight\": 3211, \"acceleration\": 17.0, \"model_year\": 75, \"origin\": \"usa\", \"name\": \"amc pacer\", \"h1\": 90.0, \"h2\": 8100.0, \"h3\": 729000.0, \"pred\": 24.786716079877138, \"label\": \"train\"}, {\"mpg\": 23.0, \"cylinders\": 4, \"displacement\": 115.0, \"horsepower\": 95.0, \"weight\": 2694, \"acceleration\": 15.0, \"model_year\": 75, \"origin\": \"europe\", \"name\": \"audi 100ls\", \"h1\": 95.0, \"h2\": 9025.0, \"h3\": 857375.0, \"pred\": 23.562916785349927, \"label\": \"train\"}, {\"mpg\": 23.0, \"cylinders\": 4, \"displacement\": 120.0, \"horsepower\": 88.0, \"weight\": 2957, \"acceleration\": 17.0, \"model_year\": 75, \"origin\": \"europe\", \"name\": \"peugeot 504\", \"h1\": 88.0, \"h2\": 7744.0, \"h3\": 681472.0, \"pred\": 25.299610552266536, \"label\": \"train\"}, {\"mpg\": 22.0, \"cylinders\": 4, \"displacement\": 121.0, \"horsepower\": 98.0, \"weight\": 2945, \"acceleration\": 14.5, \"model_year\": 75, \"origin\": \"europe\", \"name\": \"volvo 244dl\", \"h1\": 98.0, \"h2\": 9604.0, \"h3\": 941192.0, \"pred\": 22.867952008067327, \"label\": \"train\"}, {\"mpg\": 25.0, \"cylinders\": 4, \"displacement\": 121.0, \"horsepower\": 115.0, \"weight\": 2671, \"acceleration\": 13.5, \"model_year\": 75, \"origin\": \"europe\", \"name\": \"saab 99le\", \"h1\": 115.0, \"h2\": 13225.0, \"h3\": 1520875.0, \"pred\": 19.459995547406287, \"label\": \"train\"}, {\"mpg\": 33.0, \"cylinders\": 4, \"displacement\": 91.0, \"horsepower\": 53.0, \"weight\": 1795, \"acceleration\": 17.5, \"model_year\": 75, \"origin\": \"japan\", \"name\": \"honda civic cvcc\", \"h1\": 53.0, \"h2\": 2809.0, \"h3\": 148877.0, \"pred\": 36.608804349682146, \"label\": \"train\"}, {\"mpg\": 28.0, \"cylinders\": 4, \"displacement\": 107.0, \"horsepower\": 86.0, \"weight\": 2464, \"acceleration\": 15.5, \"model_year\": 76, \"origin\": \"europe\", \"name\": \"fiat 131\", \"h1\": 86.0, \"h2\": 7396.0, \"h3\": 636056.0, \"pred\": 25.826088889796786, \"label\": \"train\"}, {\"mpg\": 25.0, \"cylinders\": 4, \"displacement\": 116.0, \"horsepower\": 81.0, \"weight\": 2220, \"acceleration\": 16.9, \"model_year\": 76, \"origin\": \"europe\", \"name\": \"opel 1900\", \"h1\": 81.0, \"h2\": 6561.0, \"h3\": 531441.0, \"pred\": 27.202706667158537, \"label\": \"train\"}, {\"mpg\": 25.0, \"cylinders\": 4, \"displacement\": 140.0, \"horsepower\": 92.0, \"weight\": 2572, \"acceleration\": 14.9, \"model_year\": 76, \"origin\": \"usa\", \"name\": \"capri ii\", \"h1\": 92.0, \"h2\": 8464.0, \"h3\": 778688.0, \"pred\": 24.28725423094555, \"label\": \"train\"}, {\"mpg\": 26.0, \"cylinders\": 4, \"displacement\": 98.0, \"horsepower\": 79.0, \"weight\": 2255, \"acceleration\": 17.7, \"model_year\": 76, \"origin\": \"usa\", \"name\": \"dodge colt\", \"h1\": 79.0, \"h2\": 6241.0, \"h3\": 493039.0, \"pred\": 27.777919560935644, \"label\": \"train\"}, {\"mpg\": 27.0, \"cylinders\": 4, \"displacement\": 101.0, \"horsepower\": 83.0, \"weight\": 2202, \"acceleration\": 15.3, \"model_year\": 76, \"origin\": \"europe\", \"name\": \"renault 12tl\", \"h1\": 83.0, \"h2\": 6889.0, \"h3\": 571787.0, \"pred\": 26.641606984412896, \"label\": \"train\"}, {\"mpg\": 17.5, \"cylinders\": 8, \"displacement\": 305.0, \"horsepower\": 140.0, \"weight\": 4215, \"acceleration\": 13.0, \"model_year\": 76, \"origin\": \"usa\", \"name\": \"chevrolet chevelle malibu classic\", \"h1\": 140.0, \"h2\": 19600.0, \"h3\": 2744000.0, \"pred\": 15.936728518042784, \"label\": \"train\"}, {\"mpg\": 16.0, \"cylinders\": 8, \"displacement\": 318.0, \"horsepower\": 150.0, \"weight\": 4190, \"acceleration\": 13.0, \"model_year\": 76, \"origin\": \"usa\", \"name\": \"dodge coronet brougham\", \"h1\": 150.0, \"h2\": 22500.0, \"h3\": 3375000.0, \"pred\": 14.96622045084002, \"label\": \"train\"}, {\"mpg\": 15.5, \"cylinders\": 8, \"displacement\": 304.0, \"horsepower\": 120.0, \"weight\": 3962, \"acceleration\": 13.9, \"model_year\": 76, \"origin\": \"usa\", \"name\": \"amc matador\", \"h1\": 120.0, \"h2\": 14400.0, \"h3\": 1728000.0, \"pred\": 18.62051846647463, \"label\": \"train\"}, {\"mpg\": 14.5, \"cylinders\": 8, \"displacement\": 351.0, \"horsepower\": 152.0, \"weight\": 4215, \"acceleration\": 12.8, \"model_year\": 76, \"origin\": \"usa\", \"name\": \"ford gran torino\", \"h1\": 152.0, \"h2\": 23104.0, \"h3\": 3511808.0, \"pred\": 14.799409923031973, \"label\": \"train\"}, {\"mpg\": 22.0, \"cylinders\": 6, \"displacement\": 225.0, \"horsepower\": 100.0, \"weight\": 3233, \"acceleration\": 15.4, \"model_year\": 76, \"origin\": \"usa\", \"name\": \"plymouth valiant\", \"h1\": 100.0, \"h2\": 10000.0, \"h3\": 1000000.0, \"pred\": 22.420708236136647, \"label\": \"train\"}, {\"mpg\": 22.0, \"cylinders\": 6, \"displacement\": 250.0, \"horsepower\": 105.0, \"weight\": 3353, \"acceleration\": 14.5, \"model_year\": 76, \"origin\": \"usa\", \"name\": \"chevrolet nova\", \"h1\": 105.0, \"h2\": 11025.0, \"h3\": 1157625.0, \"pred\": 21.357727280939883, \"label\": \"train\"}, {\"mpg\": 24.0, \"cylinders\": 6, \"displacement\": 200.0, \"horsepower\": 81.0, \"weight\": 3012, \"acceleration\": 17.6, \"model_year\": 76, \"origin\": \"usa\", \"name\": \"ford maverick\", \"h1\": 81.0, \"h2\": 6561.0, \"h3\": 531441.0, \"pred\": 27.202706667158537, \"label\": \"train\"}, {\"mpg\": 22.5, \"cylinders\": 6, \"displacement\": 232.0, \"horsepower\": 90.0, \"weight\": 3085, \"acceleration\": 17.6, \"model_year\": 76, \"origin\": \"usa\", \"name\": \"amc hornet\", \"h1\": 90.0, \"h2\": 8100.0, \"h3\": 729000.0, \"pred\": 24.786716079877138, \"label\": \"train\"}, {\"mpg\": 29.0, \"cylinders\": 4, \"displacement\": 85.0, \"horsepower\": 52.0, \"weight\": 2035, \"acceleration\": 22.2, \"model_year\": 76, \"origin\": \"usa\", \"name\": \"chevrolet chevette\", \"h1\": 52.0, \"h2\": 2704.0, \"h3\": 140608.0, \"pred\": 37.00110518522083, \"label\": \"train\"}, {\"mpg\": 24.5, \"cylinders\": 4, \"displacement\": 98.0, \"horsepower\": 60.0, \"weight\": 2164, \"acceleration\": 22.1, \"model_year\": 76, \"origin\": \"usa\", \"name\": \"chevrolet woody\", \"h1\": 60.0, \"h2\": 3600.0, \"h3\": 216000.0, \"pred\": 33.97525397128773, \"label\": \"train\"}, {\"mpg\": 29.0, \"cylinders\": 4, \"displacement\": 90.0, \"horsepower\": 70.0, \"weight\": 1937, \"acceleration\": 14.2, \"model_year\": 76, \"origin\": \"europe\", \"name\": \"vw rabbit\", \"h1\": 70.0, \"h2\": 4900.0, \"h3\": 343000.0, \"pred\": 30.545083737073405, \"label\": \"train\"}, {\"mpg\": 33.0, \"cylinders\": 4, \"displacement\": 91.0, \"horsepower\": 53.0, \"weight\": 1795, \"acceleration\": 17.4, \"model_year\": 76, \"origin\": \"japan\", \"name\": \"honda civic\", \"h1\": 53.0, \"h2\": 2809.0, \"h3\": 148877.0, \"pred\": 36.608804349682146, \"label\": \"train\"}, {\"mpg\": 20.0, \"cylinders\": 6, \"displacement\": 225.0, \"horsepower\": 100.0, \"weight\": 3651, \"acceleration\": 17.7, \"model_year\": 76, \"origin\": \"usa\", \"name\": \"dodge aspen se\", \"h1\": 100.0, \"h2\": 10000.0, \"h3\": 1000000.0, \"pred\": 22.420708236136647, \"label\": \"train\"}, {\"mpg\": 18.0, \"cylinders\": 6, \"displacement\": 250.0, \"horsepower\": 78.0, \"weight\": 3574, \"acceleration\": 21.0, \"model_year\": 76, \"origin\": \"usa\", \"name\": \"ford granada ghia\", \"h1\": 78.0, \"h2\": 6084.0, \"h3\": 474552.0, \"pred\": 28.070865724986945, \"label\": \"train\"}, {\"mpg\": 18.5, \"cylinders\": 6, \"displacement\": 250.0, \"horsepower\": 110.0, \"weight\": 3645, \"acceleration\": 16.2, \"model_year\": 76, \"origin\": \"usa\", \"name\": \"pontiac ventura sj\", \"h1\": 110.0, \"h2\": 12100.0, \"h3\": 1331000.0, \"pred\": 20.37161076846224, \"label\": \"train\"}, {\"mpg\": 17.5, \"cylinders\": 6, \"displacement\": 258.0, \"horsepower\": 95.0, \"weight\": 3193, \"acceleration\": 17.8, \"model_year\": 76, \"origin\": \"usa\", \"name\": \"amc pacer d/l\", \"h1\": 95.0, \"h2\": 9025.0, \"h3\": 857375.0, \"pred\": 23.562916785349927, \"label\": \"train\"}, {\"mpg\": 29.5, \"cylinders\": 4, \"displacement\": 97.0, \"horsepower\": 71.0, \"weight\": 1825, \"acceleration\": 12.2, \"model_year\": 76, \"origin\": \"europe\", \"name\": \"volkswagen rabbit\", \"h1\": 71.0, \"h2\": 5041.0, \"h3\": 357911.0, \"pred\": 30.222928080019443, \"label\": \"train\"}, {\"mpg\": 32.0, \"cylinders\": 4, \"displacement\": 85.0, \"horsepower\": 70.0, \"weight\": 1990, \"acceleration\": 17.0, \"model_year\": 76, \"origin\": \"japan\", \"name\": \"datsun b-210\", \"h1\": 70.0, \"h2\": 4900.0, \"h3\": 343000.0, \"pred\": 30.545083737073405, \"label\": \"train\"}, {\"mpg\": 28.0, \"cylinders\": 4, \"displacement\": 97.0, \"horsepower\": 75.0, \"weight\": 2155, \"acceleration\": 16.4, \"model_year\": 76, \"origin\": \"japan\", \"name\": \"toyota corolla\", \"h1\": 75.0, \"h2\": 5625.0, \"h3\": 421875.0, \"pred\": 28.971289948316404, \"label\": \"test\"}, {\"mpg\": 26.5, \"cylinders\": 4, \"displacement\": 140.0, \"horsepower\": 72.0, \"weight\": 2565, \"acceleration\": 13.6, \"model_year\": 76, \"origin\": \"usa\", \"name\": \"ford pinto\", \"h1\": 72.0, \"h2\": 5184.0, \"h3\": 373248.0, \"pred\": 29.904489777827152, \"label\": \"train\"}, {\"mpg\": 20.0, \"cylinders\": 4, \"displacement\": 130.0, \"horsepower\": 102.0, \"weight\": 3150, \"acceleration\": 15.7, \"model_year\": 76, \"origin\": \"europe\", \"name\": \"volvo 245\", \"h1\": 102.0, \"h2\": 10404.0, \"h3\": 1061208.0, \"pred\": 21.986140879248616, \"label\": \"train\"}, {\"mpg\": 13.0, \"cylinders\": 8, \"displacement\": 318.0, \"horsepower\": 150.0, \"weight\": 3940, \"acceleration\": 13.2, \"model_year\": 76, \"origin\": \"usa\", \"name\": \"plymouth volare premier v8\", \"h1\": 150.0, \"h2\": 22500.0, \"h3\": 3375000.0, \"pred\": 14.96622045084002, \"label\": \"train\"}, {\"mpg\": 19.0, \"cylinders\": 4, \"displacement\": 120.0, \"horsepower\": 88.0, \"weight\": 3270, \"acceleration\": 21.9, \"model_year\": 76, \"origin\": \"europe\", \"name\": \"peugeot 504\", \"h1\": 88.0, \"h2\": 7744.0, \"h3\": 681472.0, \"pred\": 25.299610552266536, \"label\": \"train\"}, {\"mpg\": 19.0, \"cylinders\": 6, \"displacement\": 156.0, \"horsepower\": 108.0, \"weight\": 2930, \"acceleration\": 15.5, \"model_year\": 76, \"origin\": \"japan\", \"name\": \"toyota mark ii\", \"h1\": 108.0, \"h2\": 11664.0, \"h3\": 1259712.0, \"pred\": 20.756984882010038, \"label\": \"test\"}, {\"mpg\": 16.5, \"cylinders\": 6, \"displacement\": 168.0, \"horsepower\": 120.0, \"weight\": 3820, \"acceleration\": 16.7, \"model_year\": 76, \"origin\": \"europe\", \"name\": \"mercedes-benz 280s\", \"h1\": 120.0, \"h2\": 14400.0, \"h3\": 1728000.0, \"pred\": 18.62051846647463, \"label\": \"train\"}, {\"mpg\": 16.5, \"cylinders\": 8, \"displacement\": 350.0, \"horsepower\": 180.0, \"weight\": 4380, \"acceleration\": 12.1, \"model_year\": 76, \"origin\": \"usa\", \"name\": \"cadillac seville\", \"h1\": 180.0, \"h2\": 32400.0, \"h3\": 5832000.0, \"pred\": 13.313381352733131, \"label\": \"train\"}, {\"mpg\": 13.0, \"cylinders\": 8, \"displacement\": 350.0, \"horsepower\": 145.0, \"weight\": 4055, \"acceleration\": 12.0, \"model_year\": 76, \"origin\": \"usa\", \"name\": \"chevy c10\", \"h1\": 145.0, \"h2\": 21025.0, \"h3\": 3048625.0, \"pred\": 15.422494868271478, \"label\": \"train\"}, {\"mpg\": 13.0, \"cylinders\": 8, \"displacement\": 302.0, \"horsepower\": 130.0, \"weight\": 3870, \"acceleration\": 15.0, \"model_year\": 76, \"origin\": \"usa\", \"name\": \"ford f108\", \"h1\": 130.0, \"h2\": 16900.0, \"h3\": 2197000.0, \"pred\": 17.148526119794568, \"label\": \"train\"}, {\"mpg\": 13.0, \"cylinders\": 8, \"displacement\": 318.0, \"horsepower\": 150.0, \"weight\": 3755, \"acceleration\": 14.0, \"model_year\": 76, \"origin\": \"usa\", \"name\": \"dodge d100\", \"h1\": 150.0, \"h2\": 22500.0, \"h3\": 3375000.0, \"pred\": 14.96622045084002, \"label\": \"train\"}, {\"mpg\": 31.5, \"cylinders\": 4, \"displacement\": 98.0, \"horsepower\": 68.0, \"weight\": 2045, \"acceleration\": 18.5, \"model_year\": 77, \"origin\": \"japan\", \"name\": \"honda accord cvcc\", \"h1\": 68.0, \"h2\": 4624.0, \"h3\": 314432.0, \"pred\": 31.200622736607826, \"label\": \"train\"}, {\"mpg\": 30.0, \"cylinders\": 4, \"displacement\": 111.0, \"horsepower\": 80.0, \"weight\": 2155, \"acceleration\": 14.8, \"model_year\": 77, \"origin\": \"usa\", \"name\": \"buick opel isuzu deluxe\", \"h1\": 80.0, \"h2\": 6400.0, \"h3\": 512000.0, \"pred\": 27.48853951006297, \"label\": \"train\"}, {\"mpg\": 36.0, \"cylinders\": 4, \"displacement\": 79.0, \"horsepower\": 58.0, \"weight\": 1825, \"acceleration\": 18.6, \"model_year\": 77, \"origin\": \"europe\", \"name\": \"renault 5 gtl\", \"h1\": 58.0, \"h2\": 3364.0, \"h3\": 195112.0, \"pred\": 34.707786797508426, \"label\": \"train\"}, {\"mpg\": 25.5, \"cylinders\": 4, \"displacement\": 122.0, \"horsepower\": 96.0, \"weight\": 2300, \"acceleration\": 15.5, \"model_year\": 77, \"origin\": \"usa\", \"name\": \"plymouth arrow gs\", \"h1\": 96.0, \"h2\": 9216.0, \"h3\": 884736.0, \"pred\": 23.328023436723683, \"label\": \"train\"}, {\"mpg\": 33.5, \"cylinders\": 4, \"displacement\": 85.0, \"horsepower\": 70.0, \"weight\": 1945, \"acceleration\": 16.8, \"model_year\": 77, \"origin\": \"japan\", \"name\": \"datsun f-10 hatchback\", \"h1\": 70.0, \"h2\": 4900.0, \"h3\": 343000.0, \"pred\": 30.545083737073405, \"label\": \"train\"}, {\"mpg\": 17.5, \"cylinders\": 8, \"displacement\": 305.0, \"horsepower\": 145.0, \"weight\": 3880, \"acceleration\": 12.5, \"model_year\": 77, \"origin\": \"usa\", \"name\": \"chevrolet caprice classic\", \"h1\": 145.0, \"h2\": 21025.0, \"h3\": 3048625.0, \"pred\": 15.422494868271478, \"label\": \"train\"}, {\"mpg\": 17.0, \"cylinders\": 8, \"displacement\": 260.0, \"horsepower\": 110.0, \"weight\": 4060, \"acceleration\": 19.0, \"model_year\": 77, \"origin\": \"usa\", \"name\": \"oldsmobile cutlass supreme\", \"h1\": 110.0, \"h2\": 12100.0, \"h3\": 1331000.0, \"pred\": 20.37161076846224, \"label\": \"train\"}, {\"mpg\": 15.5, \"cylinders\": 8, \"displacement\": 318.0, \"horsepower\": 145.0, \"weight\": 4140, \"acceleration\": 13.7, \"model_year\": 77, \"origin\": \"usa\", \"name\": \"dodge monaco brougham\", \"h1\": 145.0, \"h2\": 21025.0, \"h3\": 3048625.0, \"pred\": 15.422494868271478, \"label\": \"train\"}, {\"mpg\": 15.0, \"cylinders\": 8, \"displacement\": 302.0, \"horsepower\": 130.0, \"weight\": 4295, \"acceleration\": 14.9, \"model_year\": 77, \"origin\": \"usa\", \"name\": \"mercury cougar brougham\", \"h1\": 130.0, \"h2\": 16900.0, \"h3\": 2197000.0, \"pred\": 17.148526119794568, \"label\": \"train\"}, {\"mpg\": 17.5, \"cylinders\": 6, \"displacement\": 250.0, \"horsepower\": 110.0, \"weight\": 3520, \"acceleration\": 16.4, \"model_year\": 77, \"origin\": \"usa\", \"name\": \"chevrolet concours\", \"h1\": 110.0, \"h2\": 12100.0, \"h3\": 1331000.0, \"pred\": 20.37161076846224, \"label\": \"train\"}, {\"mpg\": 20.5, \"cylinders\": 6, \"displacement\": 231.0, \"horsepower\": 105.0, \"weight\": 3425, \"acceleration\": 16.9, \"model_year\": 77, \"origin\": \"usa\", \"name\": \"buick skylark\", \"h1\": 105.0, \"h2\": 11025.0, \"h3\": 1157625.0, \"pred\": 21.357727280939883, \"label\": \"train\"}, {\"mpg\": 19.0, \"cylinders\": 6, \"displacement\": 225.0, \"horsepower\": 100.0, \"weight\": 3630, \"acceleration\": 17.7, \"model_year\": 77, \"origin\": \"usa\", \"name\": \"plymouth volare custom\", \"h1\": 100.0, \"h2\": 10000.0, \"h3\": 1000000.0, \"pred\": 22.420708236136647, \"label\": \"train\"}, {\"mpg\": 18.5, \"cylinders\": 6, \"displacement\": 250.0, \"horsepower\": 98.0, \"weight\": 3525, \"acceleration\": 19.0, \"model_year\": 77, \"origin\": \"usa\", \"name\": \"ford granada\", \"h1\": 98.0, \"h2\": 9604.0, \"h3\": 941192.0, \"pred\": 22.867952008067327, \"label\": \"train\"}, {\"mpg\": 16.0, \"cylinders\": 8, \"displacement\": 400.0, \"horsepower\": 180.0, \"weight\": 4220, \"acceleration\": 11.1, \"model_year\": 77, \"origin\": \"usa\", \"name\": \"pontiac grand prix lj\", \"h1\": 180.0, \"h2\": 32400.0, \"h3\": 5832000.0, \"pred\": 13.313381352733131, \"label\": \"train\"}, {\"mpg\": 15.5, \"cylinders\": 8, \"displacement\": 350.0, \"horsepower\": 170.0, \"weight\": 4165, \"acceleration\": 11.4, \"model_year\": 77, \"origin\": \"usa\", \"name\": \"chevrolet monte carlo landau\", \"h1\": 170.0, \"h2\": 28900.0, \"h3\": 4913000.0, \"pred\": 13.673452078564459, \"label\": \"train\"}, {\"mpg\": 15.5, \"cylinders\": 8, \"displacement\": 400.0, \"horsepower\": 190.0, \"weight\": 4325, \"acceleration\": 12.2, \"model_year\": 77, \"origin\": \"usa\", \"name\": \"chrysler cordoba\", \"h1\": 190.0, \"h2\": 36100.0, \"h3\": 6859000.0, \"pred\": 13.118979319933764, \"label\": \"train\"}, {\"mpg\": 16.0, \"cylinders\": 8, \"displacement\": 351.0, \"horsepower\": 149.0, \"weight\": 4335, \"acceleration\": 14.5, \"model_year\": 77, \"origin\": \"usa\", \"name\": \"ford thunderbird\", \"h1\": 149.0, \"h2\": 22201.0, \"h3\": 3307949.0, \"pred\": 15.052952027001396, \"label\": \"train\"}, {\"mpg\": 29.0, \"cylinders\": 4, \"displacement\": 97.0, \"horsepower\": 78.0, \"weight\": 1940, \"acceleration\": 14.5, \"model_year\": 77, \"origin\": \"europe\", \"name\": \"volkswagen rabbit custom\", \"h1\": 78.0, \"h2\": 6084.0, \"h3\": 474552.0, \"pred\": 28.070865724986945, \"label\": \"train\"}, {\"mpg\": 24.5, \"cylinders\": 4, \"displacement\": 151.0, \"horsepower\": 88.0, \"weight\": 2740, \"acceleration\": 16.0, \"model_year\": 77, \"origin\": \"usa\", \"name\": \"pontiac sunbird coupe\", \"h1\": 88.0, \"h2\": 7744.0, \"h3\": 681472.0, \"pred\": 25.299610552266536, \"label\": \"train\"}, {\"mpg\": 26.0, \"cylinders\": 4, \"displacement\": 97.0, \"horsepower\": 75.0, \"weight\": 2265, \"acceleration\": 18.2, \"model_year\": 77, \"origin\": \"japan\", \"name\": \"toyota corolla liftback\", \"h1\": 75.0, \"h2\": 5625.0, \"h3\": 421875.0, \"pred\": 28.971289948316404, \"label\": \"test\"}, {\"mpg\": 25.5, \"cylinders\": 4, \"displacement\": 140.0, \"horsepower\": 89.0, \"weight\": 2755, \"acceleration\": 15.8, \"model_year\": 77, \"origin\": \"usa\", \"name\": \"ford mustang ii 2+2\", \"h1\": 89.0, \"h2\": 7921.0, \"h3\": 704969.0, \"pred\": 25.04147478553442, \"label\": \"train\"}, {\"mpg\": 30.5, \"cylinders\": 4, \"displacement\": 98.0, \"horsepower\": 63.0, \"weight\": 2051, \"acceleration\": 17.0, \"model_year\": 77, \"origin\": \"usa\", \"name\": \"chevrolet chevette\", \"h1\": 63.0, \"h2\": 3969.0, \"h3\": 250047.0, \"pred\": 32.905847310249456, \"label\": \"train\"}, {\"mpg\": 33.5, \"cylinders\": 4, \"displacement\": 98.0, \"horsepower\": 83.0, \"weight\": 2075, \"acceleration\": 15.9, \"model_year\": 77, \"origin\": \"usa\", \"name\": \"dodge colt m/m\", \"h1\": 83.0, \"h2\": 6889.0, \"h3\": 571787.0, \"pred\": 26.641606984412896, \"label\": \"train\"}, {\"mpg\": 30.0, \"cylinders\": 4, \"displacement\": 97.0, \"horsepower\": 67.0, \"weight\": 1985, \"acceleration\": 16.4, \"model_year\": 77, \"origin\": \"japan\", \"name\": \"subaru dl\", \"h1\": 67.0, \"h2\": 4489.0, \"h3\": 300763.0, \"pred\": 31.53404388950904, \"label\": \"train\"}, {\"mpg\": 30.5, \"cylinders\": 4, \"displacement\": 97.0, \"horsepower\": 78.0, \"weight\": 2190, \"acceleration\": 14.1, \"model_year\": 77, \"origin\": \"europe\", \"name\": \"volkswagen dasher\", \"h1\": 78.0, \"h2\": 6084.0, \"h3\": 474552.0, \"pred\": 28.070865724986945, \"label\": \"train\"}, {\"mpg\": 22.0, \"cylinders\": 6, \"displacement\": 146.0, \"horsepower\": 97.0, \"weight\": 2815, \"acceleration\": 14.5, \"model_year\": 77, \"origin\": \"japan\", \"name\": \"datsun 810\", \"h1\": 97.0, \"h2\": 9409.0, \"h3\": 912673.0, \"pred\": 23.096374812699608, \"label\": \"train\"}, {\"mpg\": 21.5, \"cylinders\": 4, \"displacement\": 121.0, \"horsepower\": 110.0, \"weight\": 2600, \"acceleration\": 12.8, \"model_year\": 77, \"origin\": \"europe\", \"name\": \"bmw 320i\", \"h1\": 110.0, \"h2\": 12100.0, \"h3\": 1331000.0, \"pred\": 20.37161076846224, \"label\": \"train\"}, {\"mpg\": 21.5, \"cylinders\": 3, \"displacement\": 80.0, \"horsepower\": 110.0, \"weight\": 2720, \"acceleration\": 13.5, \"model_year\": 77, \"origin\": \"japan\", \"name\": \"mazda rx-4\", \"h1\": 110.0, \"h2\": 12100.0, \"h3\": 1331000.0, \"pred\": 20.37161076846224, \"label\": \"train\"}, {\"mpg\": 43.1, \"cylinders\": 4, \"displacement\": 90.0, \"horsepower\": 48.0, \"weight\": 1985, \"acceleration\": 21.5, \"model_year\": 78, \"origin\": \"europe\", \"name\": \"volkswagen rabbit custom diesel\", \"h1\": 48.0, \"h2\": 2304.0, \"h3\": 110592.0, \"pred\": 38.611263118068024, \"label\": \"train\"}, {\"mpg\": 36.1, \"cylinders\": 4, \"displacement\": 98.0, \"horsepower\": 66.0, \"weight\": 1800, \"acceleration\": 14.4, \"model_year\": 78, \"origin\": \"usa\", \"name\": \"ford fiesta\", \"h1\": 66.0, \"h2\": 4356.0, \"h3\": 287496.0, \"pred\": 31.87125801811343, \"label\": \"train\"}, {\"mpg\": 32.8, \"cylinders\": 4, \"displacement\": 78.0, \"horsepower\": 52.0, \"weight\": 1985, \"acceleration\": 19.4, \"model_year\": 78, \"origin\": \"japan\", \"name\": \"mazda glc deluxe\", \"h1\": 52.0, \"h2\": 2704.0, \"h3\": 140608.0, \"pred\": 37.00110518522083, \"label\": \"train\"}, {\"mpg\": 39.4, \"cylinders\": 4, \"displacement\": 85.0, \"horsepower\": 70.0, \"weight\": 2070, \"acceleration\": 18.6, \"model_year\": 78, \"origin\": \"japan\", \"name\": \"datsun b210 gx\", \"h1\": 70.0, \"h2\": 4900.0, \"h3\": 343000.0, \"pred\": 30.545083737073405, \"label\": \"train\"}, {\"mpg\": 36.1, \"cylinders\": 4, \"displacement\": 91.0, \"horsepower\": 60.0, \"weight\": 1800, \"acceleration\": 16.4, \"model_year\": 78, \"origin\": \"japan\", \"name\": \"honda civic cvcc\", \"h1\": 60.0, \"h2\": 3600.0, \"h3\": 216000.0, \"pred\": 33.97525397128773, \"label\": \"test\"}, {\"mpg\": 19.9, \"cylinders\": 8, \"displacement\": 260.0, \"horsepower\": 110.0, \"weight\": 3365, \"acceleration\": 15.5, \"model_year\": 78, \"origin\": \"usa\", \"name\": \"oldsmobile cutlass salon brougham\", \"h1\": 110.0, \"h2\": 12100.0, \"h3\": 1331000.0, \"pred\": 20.37161076846224, \"label\": \"train\"}, {\"mpg\": 19.4, \"cylinders\": 8, \"displacement\": 318.0, \"horsepower\": 140.0, \"weight\": 3735, \"acceleration\": 13.2, \"model_year\": 78, \"origin\": \"usa\", \"name\": \"dodge diplomat\", \"h1\": 140.0, \"h2\": 19600.0, \"h3\": 2744000.0, \"pred\": 15.936728518042784, \"label\": \"train\"}, {\"mpg\": 20.2, \"cylinders\": 8, \"displacement\": 302.0, \"horsepower\": 139.0, \"weight\": 3570, \"acceleration\": 12.8, \"model_year\": 78, \"origin\": \"usa\", \"name\": \"mercury monarch ghia\", \"h1\": 139.0, \"h2\": 19321.0, \"h3\": 2685619.0, \"pred\": 16.046738313191995, \"label\": \"train\"}, {\"mpg\": 19.2, \"cylinders\": 6, \"displacement\": 231.0, \"horsepower\": 105.0, \"weight\": 3535, \"acceleration\": 19.2, \"model_year\": 78, \"origin\": \"usa\", \"name\": \"pontiac phoenix lj\", \"h1\": 105.0, \"h2\": 11025.0, \"h3\": 1157625.0, \"pred\": 21.357727280939883, \"label\": \"train\"}, {\"mpg\": 20.5, \"cylinders\": 6, \"displacement\": 200.0, \"horsepower\": 95.0, \"weight\": 3155, \"acceleration\": 18.2, \"model_year\": 78, \"origin\": \"usa\", \"name\": \"chevrolet malibu\", \"h1\": 95.0, \"h2\": 9025.0, \"h3\": 857375.0, \"pred\": 23.562916785349927, \"label\": \"train\"}, {\"mpg\": 20.2, \"cylinders\": 6, \"displacement\": 200.0, \"horsepower\": 85.0, \"weight\": 2965, \"acceleration\": 15.8, \"model_year\": 78, \"origin\": \"usa\", \"name\": \"ford fairmont (auto)\", \"h1\": 85.0, \"h2\": 7225.0, \"h3\": 614125.0, \"pred\": 26.094469271015683, \"label\": \"train\"}, {\"mpg\": 25.1, \"cylinders\": 4, \"displacement\": 140.0, \"horsepower\": 88.0, \"weight\": 2720, \"acceleration\": 15.4, \"model_year\": 78, \"origin\": \"usa\", \"name\": \"ford fairmont (man)\", \"h1\": 88.0, \"h2\": 7744.0, \"h3\": 681472.0, \"pred\": 25.299610552266536, \"label\": \"train\"}, {\"mpg\": 20.5, \"cylinders\": 6, \"displacement\": 225.0, \"horsepower\": 100.0, \"weight\": 3430, \"acceleration\": 17.2, \"model_year\": 78, \"origin\": \"usa\", \"name\": \"plymouth volare\", \"h1\": 100.0, \"h2\": 10000.0, \"h3\": 1000000.0, \"pred\": 22.420708236136647, \"label\": \"train\"}, {\"mpg\": 19.4, \"cylinders\": 6, \"displacement\": 232.0, \"horsepower\": 90.0, \"weight\": 3210, \"acceleration\": 17.2, \"model_year\": 78, \"origin\": \"usa\", \"name\": \"amc concord\", \"h1\": 90.0, \"h2\": 8100.0, \"h3\": 729000.0, \"pred\": 24.786716079877138, \"label\": \"test\"}, {\"mpg\": 20.6, \"cylinders\": 6, \"displacement\": 231.0, \"horsepower\": 105.0, \"weight\": 3380, \"acceleration\": 15.8, \"model_year\": 78, \"origin\": \"usa\", \"name\": \"buick century special\", \"h1\": 105.0, \"h2\": 11025.0, \"h3\": 1157625.0, \"pred\": 21.357727280939883, \"label\": \"train\"}, {\"mpg\": 20.8, \"cylinders\": 6, \"displacement\": 200.0, \"horsepower\": 85.0, \"weight\": 3070, \"acceleration\": 16.7, \"model_year\": 78, \"origin\": \"usa\", \"name\": \"mercury zephyr\", \"h1\": 85.0, \"h2\": 7225.0, \"h3\": 614125.0, \"pred\": 26.094469271015683, \"label\": \"train\"}, {\"mpg\": 18.6, \"cylinders\": 6, \"displacement\": 225.0, \"horsepower\": 110.0, \"weight\": 3620, \"acceleration\": 18.7, \"model_year\": 78, \"origin\": \"usa\", \"name\": \"dodge aspen\", \"h1\": 110.0, \"h2\": 12100.0, \"h3\": 1331000.0, \"pred\": 20.37161076846224, \"label\": \"train\"}, {\"mpg\": 18.1, \"cylinders\": 6, \"displacement\": 258.0, \"horsepower\": 120.0, \"weight\": 3410, \"acceleration\": 15.1, \"model_year\": 78, \"origin\": \"usa\", \"name\": \"amc concord d/l\", \"h1\": 120.0, \"h2\": 14400.0, \"h3\": 1728000.0, \"pred\": 18.62051846647463, \"label\": \"train\"}, {\"mpg\": 19.2, \"cylinders\": 8, \"displacement\": 305.0, \"horsepower\": 145.0, \"weight\": 3425, \"acceleration\": 13.2, \"model_year\": 78, \"origin\": \"usa\", \"name\": \"chevrolet monte carlo landau\", \"h1\": 145.0, \"h2\": 21025.0, \"h3\": 3048625.0, \"pred\": 15.422494868271478, \"label\": \"train\"}, {\"mpg\": 17.7, \"cylinders\": 6, \"displacement\": 231.0, \"horsepower\": 165.0, \"weight\": 3445, \"acceleration\": 13.4, \"model_year\": 78, \"origin\": \"usa\", \"name\": \"buick regal sport coupe (turbo)\", \"h1\": 165.0, \"h2\": 27225.0, \"h3\": 4492125.0, \"pred\": 13.92152107961062, \"label\": \"train\"}, {\"mpg\": 18.1, \"cylinders\": 8, \"displacement\": 302.0, \"horsepower\": 139.0, \"weight\": 3205, \"acceleration\": 11.2, \"model_year\": 78, \"origin\": \"usa\", \"name\": \"ford futura\", \"h1\": 139.0, \"h2\": 19321.0, \"h3\": 2685619.0, \"pred\": 16.046738313191995, \"label\": \"train\"}, {\"mpg\": 17.5, \"cylinders\": 8, \"displacement\": 318.0, \"horsepower\": 140.0, \"weight\": 4080, \"acceleration\": 13.7, \"model_year\": 78, \"origin\": \"usa\", \"name\": \"dodge magnum xe\", \"h1\": 140.0, \"h2\": 19600.0, \"h3\": 2744000.0, \"pred\": 15.936728518042784, \"label\": \"train\"}, {\"mpg\": 30.0, \"cylinders\": 4, \"displacement\": 98.0, \"horsepower\": 68.0, \"weight\": 2155, \"acceleration\": 16.5, \"model_year\": 78, \"origin\": \"usa\", \"name\": \"chevrolet chevette\", \"h1\": 68.0, \"h2\": 4624.0, \"h3\": 314432.0, \"pred\": 31.200622736607826, \"label\": \"train\"}, {\"mpg\": 27.5, \"cylinders\": 4, \"displacement\": 134.0, \"horsepower\": 95.0, \"weight\": 2560, \"acceleration\": 14.2, \"model_year\": 78, \"origin\": \"japan\", \"name\": \"toyota corona\", \"h1\": 95.0, \"h2\": 9025.0, \"h3\": 857375.0, \"pred\": 23.562916785349927, \"label\": \"train\"}, {\"mpg\": 27.2, \"cylinders\": 4, \"displacement\": 119.0, \"horsepower\": 97.0, \"weight\": 2300, \"acceleration\": 14.7, \"model_year\": 78, \"origin\": \"japan\", \"name\": \"datsun 510\", \"h1\": 97.0, \"h2\": 9409.0, \"h3\": 912673.0, \"pred\": 23.096374812699608, \"label\": \"train\"}, {\"mpg\": 30.9, \"cylinders\": 4, \"displacement\": 105.0, \"horsepower\": 75.0, \"weight\": 2230, \"acceleration\": 14.5, \"model_year\": 78, \"origin\": \"usa\", \"name\": \"dodge omni\", \"h1\": 75.0, \"h2\": 5625.0, \"h3\": 421875.0, \"pred\": 28.971289948316404, \"label\": \"train\"}, {\"mpg\": 21.1, \"cylinders\": 4, \"displacement\": 134.0, \"horsepower\": 95.0, \"weight\": 2515, \"acceleration\": 14.8, \"model_year\": 78, \"origin\": \"japan\", \"name\": \"toyota celica gt liftback\", \"h1\": 95.0, \"h2\": 9025.0, \"h3\": 857375.0, \"pred\": 23.562916785349927, \"label\": \"train\"}, {\"mpg\": 23.2, \"cylinders\": 4, \"displacement\": 156.0, \"horsepower\": 105.0, \"weight\": 2745, \"acceleration\": 16.7, \"model_year\": 78, \"origin\": \"usa\", \"name\": \"plymouth sapporo\", \"h1\": 105.0, \"h2\": 11025.0, \"h3\": 1157625.0, \"pred\": 21.357727280939883, \"label\": \"train\"}, {\"mpg\": 23.8, \"cylinders\": 4, \"displacement\": 151.0, \"horsepower\": 85.0, \"weight\": 2855, \"acceleration\": 17.6, \"model_year\": 78, \"origin\": \"usa\", \"name\": \"oldsmobile starfire sx\", \"h1\": 85.0, \"h2\": 7225.0, \"h3\": 614125.0, \"pred\": 26.094469271015683, \"label\": \"train\"}, {\"mpg\": 23.9, \"cylinders\": 4, \"displacement\": 119.0, \"horsepower\": 97.0, \"weight\": 2405, \"acceleration\": 14.9, \"model_year\": 78, \"origin\": \"japan\", \"name\": \"datsun 200-sx\", \"h1\": 97.0, \"h2\": 9409.0, \"h3\": 912673.0, \"pred\": 23.096374812699608, \"label\": \"train\"}, {\"mpg\": 20.3, \"cylinders\": 5, \"displacement\": 131.0, \"horsepower\": 103.0, \"weight\": 2830, \"acceleration\": 15.9, \"model_year\": 78, \"origin\": \"europe\", \"name\": \"audi 5000\", \"h1\": 103.0, \"h2\": 10609.0, \"h3\": 1092727.0, \"pred\": 21.773563593419645, \"label\": \"train\"}, {\"mpg\": 17.0, \"cylinders\": 6, \"displacement\": 163.0, \"horsepower\": 125.0, \"weight\": 3140, \"acceleration\": 13.6, \"model_year\": 78, \"origin\": \"europe\", \"name\": \"volvo 264gl\", \"h1\": 125.0, \"h2\": 15625.0, \"h3\": 1953125.0, \"pred\": 17.850816374369863, \"label\": \"train\"}, {\"mpg\": 21.6, \"cylinders\": 4, \"displacement\": 121.0, \"horsepower\": 115.0, \"weight\": 2795, \"acceleration\": 15.7, \"model_year\": 78, \"origin\": \"europe\", \"name\": \"saab 99gle\", \"h1\": 115.0, \"h2\": 13225.0, \"h3\": 1520875.0, \"pred\": 19.459995547406287, \"label\": \"test\"}, {\"mpg\": 16.2, \"cylinders\": 6, \"displacement\": 163.0, \"horsepower\": 133.0, \"weight\": 3410, \"acceleration\": 15.8, \"model_year\": 78, \"origin\": \"europe\", \"name\": \"peugeot 604sl\", \"h1\": 133.0, \"h2\": 17689.0, \"h3\": 2352637.0, \"pred\": 16.758526578123814, \"label\": \"test\"}, {\"mpg\": 31.5, \"cylinders\": 4, \"displacement\": 89.0, \"horsepower\": 71.0, \"weight\": 1990, \"acceleration\": 14.9, \"model_year\": 78, \"origin\": \"europe\", \"name\": \"volkswagen scirocco\", \"h1\": 71.0, \"h2\": 5041.0, \"h3\": 357911.0, \"pred\": 30.222928080019443, \"label\": \"train\"}, {\"mpg\": 29.5, \"cylinders\": 4, \"displacement\": 98.0, \"horsepower\": 68.0, \"weight\": 2135, \"acceleration\": 16.6, \"model_year\": 78, \"origin\": \"japan\", \"name\": \"honda accord lx\", \"h1\": 68.0, \"h2\": 4624.0, \"h3\": 314432.0, \"pred\": 31.200622736607826, \"label\": \"train\"}, {\"mpg\": 21.5, \"cylinders\": 6, \"displacement\": 231.0, \"horsepower\": 115.0, \"weight\": 3245, \"acceleration\": 15.4, \"model_year\": 79, \"origin\": \"usa\", \"name\": \"pontiac lemans v6\", \"h1\": 115.0, \"h2\": 13225.0, \"h3\": 1520875.0, \"pred\": 19.459995547406287, \"label\": \"train\"}, {\"mpg\": 19.8, \"cylinders\": 6, \"displacement\": 200.0, \"horsepower\": 85.0, \"weight\": 2990, \"acceleration\": 18.2, \"model_year\": 79, \"origin\": \"usa\", \"name\": \"mercury zephyr 6\", \"h1\": 85.0, \"h2\": 7225.0, \"h3\": 614125.0, \"pred\": 26.094469271015683, \"label\": \"train\"}, {\"mpg\": 22.3, \"cylinders\": 4, \"displacement\": 140.0, \"horsepower\": 88.0, \"weight\": 2890, \"acceleration\": 17.3, \"model_year\": 79, \"origin\": \"usa\", \"name\": \"ford fairmont 4\", \"h1\": 88.0, \"h2\": 7744.0, \"h3\": 681472.0, \"pred\": 25.299610552266536, \"label\": \"train\"}, {\"mpg\": 20.2, \"cylinders\": 6, \"displacement\": 232.0, \"horsepower\": 90.0, \"weight\": 3265, \"acceleration\": 18.2, \"model_year\": 79, \"origin\": \"usa\", \"name\": \"amc concord dl 6\", \"h1\": 90.0, \"h2\": 8100.0, \"h3\": 729000.0, \"pred\": 24.786716079877138, \"label\": \"train\"}, {\"mpg\": 20.6, \"cylinders\": 6, \"displacement\": 225.0, \"horsepower\": 110.0, \"weight\": 3360, \"acceleration\": 16.6, \"model_year\": 79, \"origin\": \"usa\", \"name\": \"dodge aspen 6\", \"h1\": 110.0, \"h2\": 12100.0, \"h3\": 1331000.0, \"pred\": 20.37161076846224, \"label\": \"train\"}, {\"mpg\": 17.0, \"cylinders\": 8, \"displacement\": 305.0, \"horsepower\": 130.0, \"weight\": 3840, \"acceleration\": 15.4, \"model_year\": 79, \"origin\": \"usa\", \"name\": \"chevrolet caprice classic\", \"h1\": 130.0, \"h2\": 16900.0, \"h3\": 2197000.0, \"pred\": 17.148526119794568, \"label\": \"train\"}, {\"mpg\": 17.6, \"cylinders\": 8, \"displacement\": 302.0, \"horsepower\": 129.0, \"weight\": 3725, \"acceleration\": 13.4, \"model_year\": 79, \"origin\": \"usa\", \"name\": \"ford ltd landau\", \"h1\": 129.0, \"h2\": 16641.0, \"h3\": 2146689.0, \"pred\": 17.28370465496954, \"label\": \"train\"}, {\"mpg\": 16.5, \"cylinders\": 8, \"displacement\": 351.0, \"horsepower\": 138.0, \"weight\": 3955, \"acceleration\": 13.2, \"model_year\": 79, \"origin\": \"usa\", \"name\": \"mercury grand marquis\", \"h1\": 138.0, \"h2\": 19044.0, \"h3\": 2628072.0, \"pred\": 16.159179908897087, \"label\": \"train\"}, {\"mpg\": 18.2, \"cylinders\": 8, \"displacement\": 318.0, \"horsepower\": 135.0, \"weight\": 3830, \"acceleration\": 15.2, \"model_year\": 79, \"origin\": \"usa\", \"name\": \"dodge st. regis\", \"h1\": 135.0, \"h2\": 18225.0, \"h3\": 2460375.0, \"pred\": 16.511284551451347, \"label\": \"train\"}, {\"mpg\": 16.9, \"cylinders\": 8, \"displacement\": 350.0, \"horsepower\": 155.0, \"weight\": 4360, \"acceleration\": 14.9, \"model_year\": 79, \"origin\": \"usa\", \"name\": \"buick estate wagon (sw)\", \"h1\": 155.0, \"h2\": 24025.0, \"h3\": 3723875.0, \"pred\": 14.565542114450992, \"label\": \"test\"}, {\"mpg\": 15.5, \"cylinders\": 8, \"displacement\": 351.0, \"horsepower\": 142.0, \"weight\": 4054, \"acceleration\": 14.3, \"model_year\": 79, \"origin\": \"usa\", \"name\": \"ford country squire (sw)\", \"h1\": 142.0, \"h2\": 20164.0, \"h3\": 2863288.0, \"pred\": 15.723928708570448, \"label\": \"train\"}, {\"mpg\": 19.2, \"cylinders\": 8, \"displacement\": 267.0, \"horsepower\": 125.0, \"weight\": 3605, \"acceleration\": 15.0, \"model_year\": 79, \"origin\": \"usa\", \"name\": \"chevrolet malibu classic (sw)\", \"h1\": 125.0, \"h2\": 15625.0, \"h3\": 1953125.0, \"pred\": 17.850816374369863, \"label\": \"test\"}, {\"mpg\": 18.5, \"cylinders\": 8, \"displacement\": 360.0, \"horsepower\": 150.0, \"weight\": 3940, \"acceleration\": 13.0, \"model_year\": 79, \"origin\": \"usa\", \"name\": \"chrysler lebaron town @ country (sw)\", \"h1\": 150.0, \"h2\": 22500.0, \"h3\": 3375000.0, \"pred\": 14.96622045084002, \"label\": \"train\"}, {\"mpg\": 31.9, \"cylinders\": 4, \"displacement\": 89.0, \"horsepower\": 71.0, \"weight\": 1925, \"acceleration\": 14.0, \"model_year\": 79, \"origin\": \"europe\", \"name\": \"vw rabbit custom\", \"h1\": 71.0, \"h2\": 5041.0, \"h3\": 357911.0, \"pred\": 30.222928080019443, \"label\": \"train\"}, {\"mpg\": 34.1, \"cylinders\": 4, \"displacement\": 86.0, \"horsepower\": 65.0, \"weight\": 1975, \"acceleration\": 15.2, \"model_year\": 79, \"origin\": \"japan\", \"name\": \"maxda glc deluxe\", \"h1\": 65.0, \"h2\": 4225.0, \"h3\": 274625.0, \"pred\": 32.212284027631384, \"label\": \"train\"}, {\"mpg\": 35.7, \"cylinders\": 4, \"displacement\": 98.0, \"horsepower\": 80.0, \"weight\": 1915, \"acceleration\": 14.4, \"model_year\": 79, \"origin\": \"usa\", \"name\": \"dodge colt hatchback custom\", \"h1\": 80.0, \"h2\": 6400.0, \"h3\": 512000.0, \"pred\": 27.48853951006297, \"label\": \"train\"}, {\"mpg\": 27.4, \"cylinders\": 4, \"displacement\": 121.0, \"horsepower\": 80.0, \"weight\": 2670, \"acceleration\": 15.0, \"model_year\": 79, \"origin\": \"usa\", \"name\": \"amc spirit dl\", \"h1\": 80.0, \"h2\": 6400.0, \"h3\": 512000.0, \"pred\": 27.48853951006297, \"label\": \"test\"}, {\"mpg\": 25.4, \"cylinders\": 5, \"displacement\": 183.0, \"horsepower\": 77.0, \"weight\": 3530, \"acceleration\": 20.1, \"model_year\": 79, \"origin\": \"europe\", \"name\": \"mercedes benz 300d\", \"h1\": 77.0, \"h2\": 5929.0, \"h3\": 456533.0, \"pred\": 28.367396907427256, \"label\": \"train\"}, {\"mpg\": 23.0, \"cylinders\": 8, \"displacement\": 350.0, \"horsepower\": 125.0, \"weight\": 3900, \"acceleration\": 17.4, \"model_year\": 79, \"origin\": \"usa\", \"name\": \"cadillac eldorado\", \"h1\": 125.0, \"h2\": 15625.0, \"h3\": 1953125.0, \"pred\": 17.850816374369863, \"label\": \"train\"}, {\"mpg\": 27.2, \"cylinders\": 4, \"displacement\": 141.0, \"horsepower\": 71.0, \"weight\": 3190, \"acceleration\": 24.8, \"model_year\": 79, \"origin\": \"europe\", \"name\": \"peugeot 504\", \"h1\": 71.0, \"h2\": 5041.0, \"h3\": 357911.0, \"pred\": 30.222928080019443, \"label\": \"train\"}, {\"mpg\": 23.9, \"cylinders\": 8, \"displacement\": 260.0, \"horsepower\": 90.0, \"weight\": 3420, \"acceleration\": 22.2, \"model_year\": 79, \"origin\": \"usa\", \"name\": \"oldsmobile cutlass salon brougham\", \"h1\": 90.0, \"h2\": 8100.0, \"h3\": 729000.0, \"pred\": 24.786716079877138, \"label\": \"train\"}, {\"mpg\": 34.2, \"cylinders\": 4, \"displacement\": 105.0, \"horsepower\": 70.0, \"weight\": 2200, \"acceleration\": 13.2, \"model_year\": 79, \"origin\": \"usa\", \"name\": \"plymouth horizon\", \"h1\": 70.0, \"h2\": 4900.0, \"h3\": 343000.0, \"pred\": 30.545083737073405, \"label\": \"train\"}, {\"mpg\": 34.5, \"cylinders\": 4, \"displacement\": 105.0, \"horsepower\": 70.0, \"weight\": 2150, \"acceleration\": 14.9, \"model_year\": 79, \"origin\": \"usa\", \"name\": \"plymouth horizon tc3\", \"h1\": 70.0, \"h2\": 4900.0, \"h3\": 343000.0, \"pred\": 30.545083737073405, \"label\": \"train\"}, {\"mpg\": 31.8, \"cylinders\": 4, \"displacement\": 85.0, \"horsepower\": 65.0, \"weight\": 2020, \"acceleration\": 19.2, \"model_year\": 79, \"origin\": \"japan\", \"name\": \"datsun 210\", \"h1\": 65.0, \"h2\": 4225.0, \"h3\": 274625.0, \"pred\": 32.212284027631384, \"label\": \"train\"}, {\"mpg\": 37.3, \"cylinders\": 4, \"displacement\": 91.0, \"horsepower\": 69.0, \"weight\": 2130, \"acceleration\": 14.7, \"model_year\": 79, \"origin\": \"europe\", \"name\": \"fiat strada custom\", \"h1\": 69.0, \"h2\": 4761.0, \"h3\": 328509.0, \"pred\": 30.870975654199405, \"label\": \"train\"}, {\"mpg\": 28.4, \"cylinders\": 4, \"displacement\": 151.0, \"horsepower\": 90.0, \"weight\": 2670, \"acceleration\": 16.0, \"model_year\": 79, \"origin\": \"usa\", \"name\": \"buick skylark limited\", \"h1\": 90.0, \"h2\": 8100.0, \"h3\": 729000.0, \"pred\": 24.786716079877138, \"label\": \"train\"}, {\"mpg\": 28.8, \"cylinders\": 6, \"displacement\": 173.0, \"horsepower\": 115.0, \"weight\": 2595, \"acceleration\": 11.3, \"model_year\": 79, \"origin\": \"usa\", \"name\": \"chevrolet citation\", \"h1\": 115.0, \"h2\": 13225.0, \"h3\": 1520875.0, \"pred\": 19.459995547406287, \"label\": \"train\"}, {\"mpg\": 26.8, \"cylinders\": 6, \"displacement\": 173.0, \"horsepower\": 115.0, \"weight\": 2700, \"acceleration\": 12.9, \"model_year\": 79, \"origin\": \"usa\", \"name\": \"oldsmobile omega brougham\", \"h1\": 115.0, \"h2\": 13225.0, \"h3\": 1520875.0, \"pred\": 19.459995547406287, \"label\": \"train\"}, {\"mpg\": 33.5, \"cylinders\": 4, \"displacement\": 151.0, \"horsepower\": 90.0, \"weight\": 2556, \"acceleration\": 13.2, \"model_year\": 79, \"origin\": \"usa\", \"name\": \"pontiac phoenix\", \"h1\": 90.0, \"h2\": 8100.0, \"h3\": 729000.0, \"pred\": 24.786716079877138, \"label\": \"train\"}, {\"mpg\": 41.5, \"cylinders\": 4, \"displacement\": 98.0, \"horsepower\": 76.0, \"weight\": 2144, \"acceleration\": 14.7, \"model_year\": 80, \"origin\": \"europe\", \"name\": \"vw rabbit\", \"h1\": 76.0, \"h2\": 5776.0, \"h3\": 438976.0, \"pred\": 28.667532013466953, \"label\": \"train\"}, {\"mpg\": 38.1, \"cylinders\": 4, \"displacement\": 89.0, \"horsepower\": 60.0, \"weight\": 1968, \"acceleration\": 18.8, \"model_year\": 80, \"origin\": \"japan\", \"name\": \"toyota corolla tercel\", \"h1\": 60.0, \"h2\": 3600.0, \"h3\": 216000.0, \"pred\": 33.97525397128773, \"label\": \"train\"}, {\"mpg\": 32.1, \"cylinders\": 4, \"displacement\": 98.0, \"horsepower\": 70.0, \"weight\": 2120, \"acceleration\": 15.5, \"model_year\": 80, \"origin\": \"usa\", \"name\": \"chevrolet chevette\", \"h1\": 70.0, \"h2\": 4900.0, \"h3\": 343000.0, \"pred\": 30.545083737073405, \"label\": \"train\"}, {\"mpg\": 37.2, \"cylinders\": 4, \"displacement\": 86.0, \"horsepower\": 65.0, \"weight\": 2019, \"acceleration\": 16.4, \"model_year\": 80, \"origin\": \"japan\", \"name\": \"datsun 310\", \"h1\": 65.0, \"h2\": 4225.0, \"h3\": 274625.0, \"pred\": 32.212284027631384, \"label\": \"train\"}, {\"mpg\": 28.0, \"cylinders\": 4, \"displacement\": 151.0, \"horsepower\": 90.0, \"weight\": 2678, \"acceleration\": 16.5, \"model_year\": 80, \"origin\": \"usa\", \"name\": \"chevrolet citation\", \"h1\": 90.0, \"h2\": 8100.0, \"h3\": 729000.0, \"pred\": 24.786716079877138, \"label\": \"train\"}, {\"mpg\": 26.4, \"cylinders\": 4, \"displacement\": 140.0, \"horsepower\": 88.0, \"weight\": 2870, \"acceleration\": 18.1, \"model_year\": 80, \"origin\": \"usa\", \"name\": \"ford fairmont\", \"h1\": 88.0, \"h2\": 7744.0, \"h3\": 681472.0, \"pred\": 25.299610552266536, \"label\": \"train\"}, {\"mpg\": 24.3, \"cylinders\": 4, \"displacement\": 151.0, \"horsepower\": 90.0, \"weight\": 3003, \"acceleration\": 20.1, \"model_year\": 80, \"origin\": \"usa\", \"name\": \"amc concord\", \"h1\": 90.0, \"h2\": 8100.0, \"h3\": 729000.0, \"pred\": 24.786716079877138, \"label\": \"train\"}, {\"mpg\": 19.1, \"cylinders\": 6, \"displacement\": 225.0, \"horsepower\": 90.0, \"weight\": 3381, \"acceleration\": 18.7, \"model_year\": 80, \"origin\": \"usa\", \"name\": \"dodge aspen\", \"h1\": 90.0, \"h2\": 8100.0, \"h3\": 729000.0, \"pred\": 24.786716079877138, \"label\": \"train\"}, {\"mpg\": 34.3, \"cylinders\": 4, \"displacement\": 97.0, \"horsepower\": 78.0, \"weight\": 2188, \"acceleration\": 15.8, \"model_year\": 80, \"origin\": \"europe\", \"name\": \"audi 4000\", \"h1\": 78.0, \"h2\": 6084.0, \"h3\": 474552.0, \"pred\": 28.070865724986945, \"label\": \"train\"}, {\"mpg\": 29.8, \"cylinders\": 4, \"displacement\": 134.0, \"horsepower\": 90.0, \"weight\": 2711, \"acceleration\": 15.5, \"model_year\": 80, \"origin\": \"japan\", \"name\": \"toyota corona liftback\", \"h1\": 90.0, \"h2\": 8100.0, \"h3\": 729000.0, \"pred\": 24.786716079877138, \"label\": \"train\"}, {\"mpg\": 31.3, \"cylinders\": 4, \"displacement\": 120.0, \"horsepower\": 75.0, \"weight\": 2542, \"acceleration\": 17.5, \"model_year\": 80, \"origin\": \"japan\", \"name\": \"mazda 626\", \"h1\": 75.0, \"h2\": 5625.0, \"h3\": 421875.0, \"pred\": 28.971289948316404, \"label\": \"train\"}, {\"mpg\": 37.0, \"cylinders\": 4, \"displacement\": 119.0, \"horsepower\": 92.0, \"weight\": 2434, \"acceleration\": 15.0, \"model_year\": 80, \"origin\": \"japan\", \"name\": \"datsun 510 hatchback\", \"h1\": 92.0, \"h2\": 8464.0, \"h3\": 778688.0, \"pred\": 24.28725423094555, \"label\": \"train\"}, {\"mpg\": 32.2, \"cylinders\": 4, \"displacement\": 108.0, \"horsepower\": 75.0, \"weight\": 2265, \"acceleration\": 15.2, \"model_year\": 80, \"origin\": \"japan\", \"name\": \"toyota corolla\", \"h1\": 75.0, \"h2\": 5625.0, \"h3\": 421875.0, \"pred\": 28.971289948316404, \"label\": \"train\"}, {\"mpg\": 46.6, \"cylinders\": 4, \"displacement\": 86.0, \"horsepower\": 65.0, \"weight\": 2110, \"acceleration\": 17.9, \"model_year\": 80, \"origin\": \"japan\", \"name\": \"mazda glc\", \"h1\": 65.0, \"h2\": 4225.0, \"h3\": 274625.0, \"pred\": 32.212284027631384, \"label\": \"train\"}, {\"mpg\": 27.9, \"cylinders\": 4, \"displacement\": 156.0, \"horsepower\": 105.0, \"weight\": 2800, \"acceleration\": 14.4, \"model_year\": 80, \"origin\": \"usa\", \"name\": \"dodge colt\", \"h1\": 105.0, \"h2\": 11025.0, \"h3\": 1157625.0, \"pred\": 21.357727280939883, \"label\": \"train\"}, {\"mpg\": 40.8, \"cylinders\": 4, \"displacement\": 85.0, \"horsepower\": 65.0, \"weight\": 2110, \"acceleration\": 19.2, \"model_year\": 80, \"origin\": \"japan\", \"name\": \"datsun 210\", \"h1\": 65.0, \"h2\": 4225.0, \"h3\": 274625.0, \"pred\": 32.212284027631384, \"label\": \"train\"}, {\"mpg\": 44.3, \"cylinders\": 4, \"displacement\": 90.0, \"horsepower\": 48.0, \"weight\": 2085, \"acceleration\": 21.7, \"model_year\": 80, \"origin\": \"europe\", \"name\": \"vw rabbit c (diesel)\", \"h1\": 48.0, \"h2\": 2304.0, \"h3\": 110592.0, \"pred\": 38.611263118068024, \"label\": \"train\"}, {\"mpg\": 43.4, \"cylinders\": 4, \"displacement\": 90.0, \"horsepower\": 48.0, \"weight\": 2335, \"acceleration\": 23.7, \"model_year\": 80, \"origin\": \"europe\", \"name\": \"vw dasher (diesel)\", \"h1\": 48.0, \"h2\": 2304.0, \"h3\": 110592.0, \"pred\": 38.611263118068024, \"label\": \"train\"}, {\"mpg\": 36.4, \"cylinders\": 5, \"displacement\": 121.0, \"horsepower\": 67.0, \"weight\": 2950, \"acceleration\": 19.9, \"model_year\": 80, \"origin\": \"europe\", \"name\": \"audi 5000s (diesel)\", \"h1\": 67.0, \"h2\": 4489.0, \"h3\": 300763.0, \"pred\": 31.53404388950904, \"label\": \"train\"}, {\"mpg\": 30.0, \"cylinders\": 4, \"displacement\": 146.0, \"horsepower\": 67.0, \"weight\": 3250, \"acceleration\": 21.8, \"model_year\": 80, \"origin\": \"europe\", \"name\": \"mercedes-benz 240d\", \"h1\": 67.0, \"h2\": 4489.0, \"h3\": 300763.0, \"pred\": 31.53404388950904, \"label\": \"train\"}, {\"mpg\": 44.6, \"cylinders\": 4, \"displacement\": 91.0, \"horsepower\": 67.0, \"weight\": 1850, \"acceleration\": 13.8, \"model_year\": 80, \"origin\": \"japan\", \"name\": \"honda civic 1500 gl\", \"h1\": 67.0, \"h2\": 4489.0, \"h3\": 300763.0, \"pred\": 31.53404388950904, \"label\": \"train\"}, {\"mpg\": 33.8, \"cylinders\": 4, \"displacement\": 97.0, \"horsepower\": 67.0, \"weight\": 2145, \"acceleration\": 18.0, \"model_year\": 80, \"origin\": \"japan\", \"name\": \"subaru dl\", \"h1\": 67.0, \"h2\": 4489.0, \"h3\": 300763.0, \"pred\": 31.53404388950904, \"label\": \"train\"}, {\"mpg\": 29.8, \"cylinders\": 4, \"displacement\": 89.0, \"horsepower\": 62.0, \"weight\": 1845, \"acceleration\": 15.3, \"model_year\": 80, \"origin\": \"europe\", \"name\": \"vokswagen rabbit\", \"h1\": 62.0, \"h2\": 3844.0, \"h3\": 238328.0, \"pred\": 33.258422393770346, \"label\": \"train\"}, {\"mpg\": 32.7, \"cylinders\": 6, \"displacement\": 168.0, \"horsepower\": 132.0, \"weight\": 2910, \"acceleration\": 11.4, \"model_year\": 80, \"origin\": \"japan\", \"name\": \"datsun 280-zx\", \"h1\": 132.0, \"h2\": 17424.0, \"h3\": 2299968.0, \"pred\": 16.885955986582083, \"label\": \"train\"}, {\"mpg\": 23.7, \"cylinders\": 3, \"displacement\": 70.0, \"horsepower\": 100.0, \"weight\": 2420, \"acceleration\": 12.5, \"model_year\": 80, \"origin\": \"japan\", \"name\": \"mazda rx-7 gs\", \"h1\": 100.0, \"h2\": 10000.0, \"h3\": 1000000.0, \"pred\": 22.420708236136647, \"label\": \"train\"}, {\"mpg\": 35.0, \"cylinders\": 4, \"displacement\": 122.0, \"horsepower\": 88.0, \"weight\": 2500, \"acceleration\": 15.1, \"model_year\": 80, \"origin\": \"europe\", \"name\": \"triumph tr7 coupe\", \"h1\": 88.0, \"h2\": 7744.0, \"h3\": 681472.0, \"pred\": 25.299610552266536, \"label\": \"test\"}, {\"mpg\": 32.4, \"cylinders\": 4, \"displacement\": 107.0, \"horsepower\": 72.0, \"weight\": 2290, \"acceleration\": 17.0, \"model_year\": 80, \"origin\": \"japan\", \"name\": \"honda accord\", \"h1\": 72.0, \"h2\": 5184.0, \"h3\": 373248.0, \"pred\": 29.904489777827152, \"label\": \"train\"}, {\"mpg\": 27.2, \"cylinders\": 4, \"displacement\": 135.0, \"horsepower\": 84.0, \"weight\": 2490, \"acceleration\": 15.7, \"model_year\": 81, \"origin\": \"usa\", \"name\": \"plymouth reliant\", \"h1\": 84.0, \"h2\": 7056.0, \"h3\": 592704.0, \"pred\": 26.366302334150923, \"label\": \"train\"}, {\"mpg\": 26.6, \"cylinders\": 4, \"displacement\": 151.0, \"horsepower\": 84.0, \"weight\": 2635, \"acceleration\": 16.4, \"model_year\": 81, \"origin\": \"usa\", \"name\": \"buick skylark\", \"h1\": 84.0, \"h2\": 7056.0, \"h3\": 592704.0, \"pred\": 26.366302334150923, \"label\": \"train\"}, {\"mpg\": 25.8, \"cylinders\": 4, \"displacement\": 156.0, \"horsepower\": 92.0, \"weight\": 2620, \"acceleration\": 14.4, \"model_year\": 81, \"origin\": \"usa\", \"name\": \"dodge aries wagon (sw)\", \"h1\": 92.0, \"h2\": 8464.0, \"h3\": 778688.0, \"pred\": 24.28725423094555, \"label\": \"train\"}, {\"mpg\": 23.5, \"cylinders\": 6, \"displacement\": 173.0, \"horsepower\": 110.0, \"weight\": 2725, \"acceleration\": 12.6, \"model_year\": 81, \"origin\": \"usa\", \"name\": \"chevrolet citation\", \"h1\": 110.0, \"h2\": 12100.0, \"h3\": 1331000.0, \"pred\": 20.37161076846224, \"label\": \"train\"}, {\"mpg\": 30.0, \"cylinders\": 4, \"displacement\": 135.0, \"horsepower\": 84.0, \"weight\": 2385, \"acceleration\": 12.9, \"model_year\": 81, \"origin\": \"usa\", \"name\": \"plymouth reliant\", \"h1\": 84.0, \"h2\": 7056.0, \"h3\": 592704.0, \"pred\": 26.366302334150923, \"label\": \"train\"}, {\"mpg\": 39.1, \"cylinders\": 4, \"displacement\": 79.0, \"horsepower\": 58.0, \"weight\": 1755, \"acceleration\": 16.9, \"model_year\": 81, \"origin\": \"japan\", \"name\": \"toyota starlet\", \"h1\": 58.0, \"h2\": 3364.0, \"h3\": 195112.0, \"pred\": 34.707786797508426, \"label\": \"train\"}, {\"mpg\": 39.0, \"cylinders\": 4, \"displacement\": 86.0, \"horsepower\": 64.0, \"weight\": 1875, \"acceleration\": 16.4, \"model_year\": 81, \"origin\": \"usa\", \"name\": \"plymouth champ\", \"h1\": 64.0, \"h2\": 4096.0, \"h3\": 262144.0, \"pred\": 32.55714082327326, \"label\": \"train\"}, {\"mpg\": 35.1, \"cylinders\": 4, \"displacement\": 81.0, \"horsepower\": 60.0, \"weight\": 1760, \"acceleration\": 16.1, \"model_year\": 81, \"origin\": \"japan\", \"name\": \"honda civic 1300\", \"h1\": 60.0, \"h2\": 3600.0, \"h3\": 216000.0, \"pred\": 33.97525397128773, \"label\": \"train\"}, {\"mpg\": 32.3, \"cylinders\": 4, \"displacement\": 97.0, \"horsepower\": 67.0, \"weight\": 2065, \"acceleration\": 17.8, \"model_year\": 81, \"origin\": \"japan\", \"name\": \"subaru\", \"h1\": 67.0, \"h2\": 4489.0, \"h3\": 300763.0, \"pred\": 31.53404388950904, \"label\": \"train\"}, {\"mpg\": 37.0, \"cylinders\": 4, \"displacement\": 85.0, \"horsepower\": 65.0, \"weight\": 1975, \"acceleration\": 19.4, \"model_year\": 81, \"origin\": \"japan\", \"name\": \"datsun 210 mpg\", \"h1\": 65.0, \"h2\": 4225.0, \"h3\": 274625.0, \"pred\": 32.212284027631384, \"label\": \"train\"}, {\"mpg\": 37.7, \"cylinders\": 4, \"displacement\": 89.0, \"horsepower\": 62.0, \"weight\": 2050, \"acceleration\": 17.3, \"model_year\": 81, \"origin\": \"japan\", \"name\": \"toyota tercel\", \"h1\": 62.0, \"h2\": 3844.0, \"h3\": 238328.0, \"pred\": 33.258422393770346, \"label\": \"train\"}, {\"mpg\": 34.1, \"cylinders\": 4, \"displacement\": 91.0, \"horsepower\": 68.0, \"weight\": 1985, \"acceleration\": 16.0, \"model_year\": 81, \"origin\": \"japan\", \"name\": \"mazda glc 4\", \"h1\": 68.0, \"h2\": 4624.0, \"h3\": 314432.0, \"pred\": 31.200622736607826, \"label\": \"test\"}, {\"mpg\": 34.7, \"cylinders\": 4, \"displacement\": 105.0, \"horsepower\": 63.0, \"weight\": 2215, \"acceleration\": 14.9, \"model_year\": 81, \"origin\": \"usa\", \"name\": \"plymouth horizon 4\", \"h1\": 63.0, \"h2\": 3969.0, \"h3\": 250047.0, \"pred\": 32.905847310249456, \"label\": \"train\"}, {\"mpg\": 34.4, \"cylinders\": 4, \"displacement\": 98.0, \"horsepower\": 65.0, \"weight\": 2045, \"acceleration\": 16.2, \"model_year\": 81, \"origin\": \"usa\", \"name\": \"ford escort 4w\", \"h1\": 65.0, \"h2\": 4225.0, \"h3\": 274625.0, \"pred\": 32.212284027631384, \"label\": \"train\"}, {\"mpg\": 29.9, \"cylinders\": 4, \"displacement\": 98.0, \"horsepower\": 65.0, \"weight\": 2380, \"acceleration\": 20.7, \"model_year\": 81, \"origin\": \"usa\", \"name\": \"ford escort 2h\", \"h1\": 65.0, \"h2\": 4225.0, \"h3\": 274625.0, \"pred\": 32.212284027631384, \"label\": \"train\"}, {\"mpg\": 33.0, \"cylinders\": 4, \"displacement\": 105.0, \"horsepower\": 74.0, \"weight\": 2190, \"acceleration\": 14.2, \"model_year\": 81, \"origin\": \"europe\", \"name\": \"volkswagen jetta\", \"h1\": 74.0, \"h2\": 5476.0, \"h3\": 405224.0, \"pred\": 29.278689617186004, \"label\": \"train\"}, {\"mpg\": 33.7, \"cylinders\": 4, \"displacement\": 107.0, \"horsepower\": 75.0, \"weight\": 2210, \"acceleration\": 14.4, \"model_year\": 81, \"origin\": \"japan\", \"name\": \"honda prelude\", \"h1\": 75.0, \"h2\": 5625.0, \"h3\": 421875.0, \"pred\": 28.971289948316404, \"label\": \"train\"}, {\"mpg\": 32.4, \"cylinders\": 4, \"displacement\": 108.0, \"horsepower\": 75.0, \"weight\": 2350, \"acceleration\": 16.8, \"model_year\": 81, \"origin\": \"japan\", \"name\": \"toyota corolla\", \"h1\": 75.0, \"h2\": 5625.0, \"h3\": 421875.0, \"pred\": 28.971289948316404, \"label\": \"test\"}, {\"mpg\": 32.9, \"cylinders\": 4, \"displacement\": 119.0, \"horsepower\": 100.0, \"weight\": 2615, \"acceleration\": 14.8, \"model_year\": 81, \"origin\": \"japan\", \"name\": \"datsun 200sx\", \"h1\": 100.0, \"h2\": 10000.0, \"h3\": 1000000.0, \"pred\": 22.420708236136647, \"label\": \"train\"}, {\"mpg\": 31.6, \"cylinders\": 4, \"displacement\": 120.0, \"horsepower\": 74.0, \"weight\": 2635, \"acceleration\": 18.3, \"model_year\": 81, \"origin\": \"japan\", \"name\": \"mazda 626\", \"h1\": 74.0, \"h2\": 5476.0, \"h3\": 405224.0, \"pred\": 29.278689617186004, \"label\": \"test\"}, {\"mpg\": 28.1, \"cylinders\": 4, \"displacement\": 141.0, \"horsepower\": 80.0, \"weight\": 3230, \"acceleration\": 20.4, \"model_year\": 81, \"origin\": \"europe\", \"name\": \"peugeot 505s turbo diesel\", \"h1\": 80.0, \"h2\": 6400.0, \"h3\": 512000.0, \"pred\": 27.48853951006297, \"label\": \"train\"}, {\"mpg\": 30.7, \"cylinders\": 6, \"displacement\": 145.0, \"horsepower\": 76.0, \"weight\": 3160, \"acceleration\": 19.6, \"model_year\": 81, \"origin\": \"europe\", \"name\": \"volvo diesel\", \"h1\": 76.0, \"h2\": 5776.0, \"h3\": 438976.0, \"pred\": 28.667532013466953, \"label\": \"train\"}, {\"mpg\": 25.4, \"cylinders\": 6, \"displacement\": 168.0, \"horsepower\": 116.0, \"weight\": 2900, \"acceleration\": 12.6, \"model_year\": 81, \"origin\": \"japan\", \"name\": \"toyota cressida\", \"h1\": 116.0, \"h2\": 13456.0, \"h3\": 1560896.0, \"pred\": 19.286404700851527, \"label\": \"train\"}, {\"mpg\": 24.2, \"cylinders\": 6, \"displacement\": 146.0, \"horsepower\": 120.0, \"weight\": 2930, \"acceleration\": 13.8, \"model_year\": 81, \"origin\": \"japan\", \"name\": \"datsun 810 maxima\", \"h1\": 120.0, \"h2\": 14400.0, \"h3\": 1728000.0, \"pred\": 18.62051846647463, \"label\": \"train\"}, {\"mpg\": 22.4, \"cylinders\": 6, \"displacement\": 231.0, \"horsepower\": 110.0, \"weight\": 3415, \"acceleration\": 15.8, \"model_year\": 81, \"origin\": \"usa\", \"name\": \"buick century\", \"h1\": 110.0, \"h2\": 12100.0, \"h3\": 1331000.0, \"pred\": 20.37161076846224, \"label\": \"train\"}, {\"mpg\": 26.6, \"cylinders\": 8, \"displacement\": 350.0, \"horsepower\": 105.0, \"weight\": 3725, \"acceleration\": 19.0, \"model_year\": 81, \"origin\": \"usa\", \"name\": \"oldsmobile cutlass ls\", \"h1\": 105.0, \"h2\": 11025.0, \"h3\": 1157625.0, \"pred\": 21.357727280939883, \"label\": \"train\"}, {\"mpg\": 20.2, \"cylinders\": 6, \"displacement\": 200.0, \"horsepower\": 88.0, \"weight\": 3060, \"acceleration\": 17.1, \"model_year\": 81, \"origin\": \"usa\", \"name\": \"ford granada gl\", \"h1\": 88.0, \"h2\": 7744.0, \"h3\": 681472.0, \"pred\": 25.299610552266536, \"label\": \"train\"}, {\"mpg\": 17.6, \"cylinders\": 6, \"displacement\": 225.0, \"horsepower\": 85.0, \"weight\": 3465, \"acceleration\": 16.6, \"model_year\": 81, \"origin\": \"usa\", \"name\": \"chrysler lebaron salon\", \"h1\": 85.0, \"h2\": 7225.0, \"h3\": 614125.0, \"pred\": 26.094469271015683, \"label\": \"train\"}, {\"mpg\": 28.0, \"cylinders\": 4, \"displacement\": 112.0, \"horsepower\": 88.0, \"weight\": 2605, \"acceleration\": 19.6, \"model_year\": 82, \"origin\": \"usa\", \"name\": \"chevrolet cavalier\", \"h1\": 88.0, \"h2\": 7744.0, \"h3\": 681472.0, \"pred\": 25.299610552266536, \"label\": \"test\"}, {\"mpg\": 27.0, \"cylinders\": 4, \"displacement\": 112.0, \"horsepower\": 88.0, \"weight\": 2640, \"acceleration\": 18.6, \"model_year\": 82, \"origin\": \"usa\", \"name\": \"chevrolet cavalier wagon\", \"h1\": 88.0, \"h2\": 7744.0, \"h3\": 681472.0, \"pred\": 25.299610552266536, \"label\": \"train\"}, {\"mpg\": 34.0, \"cylinders\": 4, \"displacement\": 112.0, \"horsepower\": 88.0, \"weight\": 2395, \"acceleration\": 18.0, \"model_year\": 82, \"origin\": \"usa\", \"name\": \"chevrolet cavalier 2-door\", \"h1\": 88.0, \"h2\": 7744.0, \"h3\": 681472.0, \"pred\": 25.299610552266536, \"label\": \"train\"}, {\"mpg\": 31.0, \"cylinders\": 4, \"displacement\": 112.0, \"horsepower\": 85.0, \"weight\": 2575, \"acceleration\": 16.2, \"model_year\": 82, \"origin\": \"usa\", \"name\": \"pontiac j2000 se hatchback\", \"h1\": 85.0, \"h2\": 7225.0, \"h3\": 614125.0, \"pred\": 26.094469271015683, \"label\": \"train\"}, {\"mpg\": 29.0, \"cylinders\": 4, \"displacement\": 135.0, \"horsepower\": 84.0, \"weight\": 2525, \"acceleration\": 16.0, \"model_year\": 82, \"origin\": \"usa\", \"name\": \"dodge aries se\", \"h1\": 84.0, \"h2\": 7056.0, \"h3\": 592704.0, \"pred\": 26.366302334150923, \"label\": \"train\"}, {\"mpg\": 27.0, \"cylinders\": 4, \"displacement\": 151.0, \"horsepower\": 90.0, \"weight\": 2735, \"acceleration\": 18.0, \"model_year\": 82, \"origin\": \"usa\", \"name\": \"pontiac phoenix\", \"h1\": 90.0, \"h2\": 8100.0, \"h3\": 729000.0, \"pred\": 24.786716079877138, \"label\": \"train\"}, {\"mpg\": 24.0, \"cylinders\": 4, \"displacement\": 140.0, \"horsepower\": 92.0, \"weight\": 2865, \"acceleration\": 16.4, \"model_year\": 82, \"origin\": \"usa\", \"name\": \"ford fairmont futura\", \"h1\": 92.0, \"h2\": 8464.0, \"h3\": 778688.0, \"pred\": 24.28725423094555, \"label\": \"train\"}, {\"mpg\": 36.0, \"cylinders\": 4, \"displacement\": 105.0, \"horsepower\": 74.0, \"weight\": 1980, \"acceleration\": 15.3, \"model_year\": 82, \"origin\": \"europe\", \"name\": \"volkswagen rabbit l\", \"h1\": 74.0, \"h2\": 5476.0, \"h3\": 405224.0, \"pred\": 29.278689617186004, \"label\": \"train\"}, {\"mpg\": 37.0, \"cylinders\": 4, \"displacement\": 91.0, \"horsepower\": 68.0, \"weight\": 2025, \"acceleration\": 18.2, \"model_year\": 82, \"origin\": \"japan\", \"name\": \"mazda glc custom l\", \"h1\": 68.0, \"h2\": 4624.0, \"h3\": 314432.0, \"pred\": 31.200622736607826, \"label\": \"train\"}, {\"mpg\": 31.0, \"cylinders\": 4, \"displacement\": 91.0, \"horsepower\": 68.0, \"weight\": 1970, \"acceleration\": 17.6, \"model_year\": 82, \"origin\": \"japan\", \"name\": \"mazda glc custom\", \"h1\": 68.0, \"h2\": 4624.0, \"h3\": 314432.0, \"pred\": 31.200622736607826, \"label\": \"train\"}, {\"mpg\": 38.0, \"cylinders\": 4, \"displacement\": 105.0, \"horsepower\": 63.0, \"weight\": 2125, \"acceleration\": 14.7, \"model_year\": 82, \"origin\": \"usa\", \"name\": \"plymouth horizon miser\", \"h1\": 63.0, \"h2\": 3969.0, \"h3\": 250047.0, \"pred\": 32.905847310249456, \"label\": \"train\"}, {\"mpg\": 36.0, \"cylinders\": 4, \"displacement\": 98.0, \"horsepower\": 70.0, \"weight\": 2125, \"acceleration\": 17.3, \"model_year\": 82, \"origin\": \"usa\", \"name\": \"mercury lynx l\", \"h1\": 70.0, \"h2\": 4900.0, \"h3\": 343000.0, \"pred\": 30.545083737073405, \"label\": \"train\"}, {\"mpg\": 36.0, \"cylinders\": 4, \"displacement\": 120.0, \"horsepower\": 88.0, \"weight\": 2160, \"acceleration\": 14.5, \"model_year\": 82, \"origin\": \"japan\", \"name\": \"nissan stanza xe\", \"h1\": 88.0, \"h2\": 7744.0, \"h3\": 681472.0, \"pred\": 25.299610552266536, \"label\": \"train\"}, {\"mpg\": 36.0, \"cylinders\": 4, \"displacement\": 107.0, \"horsepower\": 75.0, \"weight\": 2205, \"acceleration\": 14.5, \"model_year\": 82, \"origin\": \"japan\", \"name\": \"honda accord\", \"h1\": 75.0, \"h2\": 5625.0, \"h3\": 421875.0, \"pred\": 28.971289948316404, \"label\": \"train\"}, {\"mpg\": 34.0, \"cylinders\": 4, \"displacement\": 108.0, \"horsepower\": 70.0, \"weight\": 2245, \"acceleration\": 16.9, \"model_year\": 82, \"origin\": \"japan\", \"name\": \"toyota corolla\", \"h1\": 70.0, \"h2\": 4900.0, \"h3\": 343000.0, \"pred\": 30.545083737073405, \"label\": \"train\"}, {\"mpg\": 38.0, \"cylinders\": 4, \"displacement\": 91.0, \"horsepower\": 67.0, \"weight\": 1965, \"acceleration\": 15.0, \"model_year\": 82, \"origin\": \"japan\", \"name\": \"honda civic\", \"h1\": 67.0, \"h2\": 4489.0, \"h3\": 300763.0, \"pred\": 31.53404388950904, \"label\": \"train\"}, {\"mpg\": 32.0, \"cylinders\": 4, \"displacement\": 91.0, \"horsepower\": 67.0, \"weight\": 1965, \"acceleration\": 15.7, \"model_year\": 82, \"origin\": \"japan\", \"name\": \"honda civic (auto)\", \"h1\": 67.0, \"h2\": 4489.0, \"h3\": 300763.0, \"pred\": 31.53404388950904, \"label\": \"train\"}, {\"mpg\": 38.0, \"cylinders\": 4, \"displacement\": 91.0, \"horsepower\": 67.0, \"weight\": 1995, \"acceleration\": 16.2, \"model_year\": 82, \"origin\": \"japan\", \"name\": \"datsun 310 gx\", \"h1\": 67.0, \"h2\": 4489.0, \"h3\": 300763.0, \"pred\": 31.53404388950904, \"label\": \"test\"}, {\"mpg\": 25.0, \"cylinders\": 6, \"displacement\": 181.0, \"horsepower\": 110.0, \"weight\": 2945, \"acceleration\": 16.4, \"model_year\": 82, \"origin\": \"usa\", \"name\": \"buick century limited\", \"h1\": 110.0, \"h2\": 12100.0, \"h3\": 1331000.0, \"pred\": 20.37161076846224, \"label\": \"train\"}, {\"mpg\": 38.0, \"cylinders\": 6, \"displacement\": 262.0, \"horsepower\": 85.0, \"weight\": 3015, \"acceleration\": 17.0, \"model_year\": 82, \"origin\": \"usa\", \"name\": \"oldsmobile cutlass ciera (diesel)\", \"h1\": 85.0, \"h2\": 7225.0, \"h3\": 614125.0, \"pred\": 26.094469271015683, \"label\": \"train\"}, {\"mpg\": 26.0, \"cylinders\": 4, \"displacement\": 156.0, \"horsepower\": 92.0, \"weight\": 2585, \"acceleration\": 14.5, \"model_year\": 82, \"origin\": \"usa\", \"name\": \"chrysler lebaron medallion\", \"h1\": 92.0, \"h2\": 8464.0, \"h3\": 778688.0, \"pred\": 24.28725423094555, \"label\": \"train\"}, {\"mpg\": 22.0, \"cylinders\": 6, \"displacement\": 232.0, \"horsepower\": 112.0, \"weight\": 2835, \"acceleration\": 14.7, \"model_year\": 82, \"origin\": \"usa\", \"name\": \"ford granada l\", \"h1\": 112.0, \"h2\": 12544.0, \"h3\": 1404928.0, \"pred\": 19.998156861541908, \"label\": \"train\"}, {\"mpg\": 32.0, \"cylinders\": 4, \"displacement\": 144.0, \"horsepower\": 96.0, \"weight\": 2665, \"acceleration\": 13.9, \"model_year\": 82, \"origin\": \"japan\", \"name\": \"toyota celica gt\", \"h1\": 96.0, \"h2\": 9216.0, \"h3\": 884736.0, \"pred\": 23.328023436723683, \"label\": \"train\"}, {\"mpg\": 36.0, \"cylinders\": 4, \"displacement\": 135.0, \"horsepower\": 84.0, \"weight\": 2370, \"acceleration\": 13.0, \"model_year\": 82, \"origin\": \"usa\", \"name\": \"dodge charger 2.2\", \"h1\": 84.0, \"h2\": 7056.0, \"h3\": 592704.0, \"pred\": 26.366302334150923, \"label\": \"train\"}, {\"mpg\": 27.0, \"cylinders\": 4, \"displacement\": 151.0, \"horsepower\": 90.0, \"weight\": 2950, \"acceleration\": 17.3, \"model_year\": 82, \"origin\": \"usa\", \"name\": \"chevrolet camaro\", \"h1\": 90.0, \"h2\": 8100.0, \"h3\": 729000.0, \"pred\": 24.786716079877138, \"label\": \"train\"}, {\"mpg\": 27.0, \"cylinders\": 4, \"displacement\": 140.0, \"horsepower\": 86.0, \"weight\": 2790, \"acceleration\": 15.6, \"model_year\": 82, \"origin\": \"usa\", \"name\": \"ford mustang gl\", \"h1\": 86.0, \"h2\": 7396.0, \"h3\": 636056.0, \"pred\": 25.826088889796786, \"label\": \"test\"}, {\"mpg\": 44.0, \"cylinders\": 4, \"displacement\": 97.0, \"horsepower\": 52.0, \"weight\": 2130, \"acceleration\": 24.6, \"model_year\": 82, \"origin\": \"europe\", \"name\": \"vw pickup\", \"h1\": 52.0, \"h2\": 2704.0, \"h3\": 140608.0, \"pred\": 37.00110518522083, \"label\": \"test\"}, {\"mpg\": 32.0, \"cylinders\": 4, \"displacement\": 135.0, \"horsepower\": 84.0, \"weight\": 2295, \"acceleration\": 11.6, \"model_year\": 82, \"origin\": \"usa\", \"name\": \"dodge rampage\", \"h1\": 84.0, \"h2\": 7056.0, \"h3\": 592704.0, \"pred\": 26.366302334150923, \"label\": \"train\"}, {\"mpg\": 28.0, \"cylinders\": 4, \"displacement\": 120.0, \"horsepower\": 79.0, \"weight\": 2625, \"acceleration\": 18.6, \"model_year\": 82, \"origin\": \"usa\", \"name\": \"ford ranger\", \"h1\": 79.0, \"h2\": 6241.0, \"h3\": 493039.0, \"pred\": 27.777919560935644, \"label\": \"train\"}, {\"mpg\": 31.0, \"cylinders\": 4, \"displacement\": 119.0, \"horsepower\": 82.0, \"weight\": 2720, \"acceleration\": 19.4, \"model_year\": 82, \"origin\": \"usa\", \"name\": \"chevy s-10\", \"h1\": 82.0, \"h2\": 6724.0, \"h3\": 551368.0, \"pred\": 26.92040212701196, \"label\": \"train\"}]}}, {\"mode\": \"vega-lite\"});\n",
       "</script>"
      ],
      "text/plain": [
       "alt.Chart(...)"
      ]
     },
     "execution_count": 20,
     "metadata": {},
     "output_type": "execute_result"
    }
   ],
   "source": [
    "# Create the Altair chart using the predictions\n",
    "alt.Chart(df).mark_circle().encode(\n",
    "    x = 'horsepower',\n",
    "    y = 'pred',\n",
    "    color = 'label:N'\n",
    "\n",
    ")"
   ]
  },
  {
   "cell_type": "code",
   "execution_count": 19,
   "metadata": {
    "cell_id": "1b995095250a47a3893182070afe89b0",
    "deepnote_cell_type": "code",
    "deepnote_to_be_reexecuted": false,
    "execution_millis": 116,
    "execution_start": 1699076775015,
    "source_hash": "c8478d25"
   },
   "outputs": [
    {
     "data": {
      "text/html": [
       "\n",
       "<div id=\"altair-viz-1931026ddcb24435b0225f3011d28f75\"></div>\n",
       "<script type=\"text/javascript\">\n",
       "  var VEGA_DEBUG = (typeof VEGA_DEBUG == \"undefined\") ? {} : VEGA_DEBUG;\n",
       "  (function(spec, embedOpt){\n",
       "    let outputDiv = document.currentScript.previousElementSibling;\n",
       "    if (outputDiv.id !== \"altair-viz-1931026ddcb24435b0225f3011d28f75\") {\n",
       "      outputDiv = document.getElementById(\"altair-viz-1931026ddcb24435b0225f3011d28f75\");\n",
       "    }\n",
       "    const paths = {\n",
       "      \"vega\": \"https://cdn.jsdelivr.net/npm//vega@5?noext\",\n",
       "      \"vega-lib\": \"https://cdn.jsdelivr.net/npm//vega-lib?noext\",\n",
       "      \"vega-lite\": \"https://cdn.jsdelivr.net/npm//vega-lite@4.17.0?noext\",\n",
       "      \"vega-embed\": \"https://cdn.jsdelivr.net/npm//vega-embed@6?noext\",\n",
       "    };\n",
       "\n",
       "    function maybeLoadScript(lib, version) {\n",
       "      var key = `${lib.replace(\"-\", \"\")}_version`;\n",
       "      return (VEGA_DEBUG[key] == version) ?\n",
       "        Promise.resolve(paths[lib]) :\n",
       "        new Promise(function(resolve, reject) {\n",
       "          var s = document.createElement('script');\n",
       "          document.getElementsByTagName(\"head\")[0].appendChild(s);\n",
       "          s.async = true;\n",
       "          s.onload = () => {\n",
       "            VEGA_DEBUG[key] = version;\n",
       "            return resolve(paths[lib]);\n",
       "          };\n",
       "          s.onerror = () => reject(`Error loading script: ${paths[lib]}`);\n",
       "          s.src = paths[lib];\n",
       "        });\n",
       "    }\n",
       "\n",
       "    function showError(err) {\n",
       "      outputDiv.innerHTML = `<div class=\"error\" style=\"color:red;\">${err}</div>`;\n",
       "      throw err;\n",
       "    }\n",
       "\n",
       "    function displayChart(vegaEmbed) {\n",
       "      vegaEmbed(outputDiv, spec, embedOpt)\n",
       "        .catch(err => showError(`Javascript Error: ${err.message}<br>This usually means there's a typo in your chart specification. See the javascript console for the full traceback.`));\n",
       "    }\n",
       "\n",
       "    if(typeof define === \"function\" && define.amd) {\n",
       "      requirejs.config({paths});\n",
       "      require([\"vega-embed\"], displayChart, err => showError(`Error loading script: ${err.message}`));\n",
       "    } else {\n",
       "      maybeLoadScript(\"vega\", \"5\")\n",
       "        .then(() => maybeLoadScript(\"vega-lite\", \"4.17.0\"))\n",
       "        .then(() => maybeLoadScript(\"vega-embed\", \"6\"))\n",
       "        .catch(showError)\n",
       "        .then(() => displayChart(vegaEmbed));\n",
       "    }\n",
       "  })({\"config\": {\"view\": {\"continuousWidth\": 400, \"continuousHeight\": 300}}, \"data\": {\"name\": \"data-0dcc846bf482208cb3d52d8349587ef8\"}, \"mark\": \"circle\", \"encoding\": {\"x\": {\"field\": \"horsepower\", \"type\": \"quantitative\"}, \"y\": {\"field\": \"mpg\", \"type\": \"quantitative\"}}, \"$schema\": \"https://vega.github.io/schema/vega-lite/v4.17.0.json\", \"datasets\": {\"data-0dcc846bf482208cb3d52d8349587ef8\": [{\"mpg\": 18.0, \"cylinders\": 8, \"displacement\": 307.0, \"horsepower\": 130.0, \"weight\": 3504, \"acceleration\": 12.0, \"model_year\": 70, \"origin\": \"usa\", \"name\": \"chevrolet chevelle malibu\", \"h1\": 130.0, \"h2\": 16900.0, \"h3\": 2197000.0, \"pred\": 17.148526119794568, \"label\": \"test\"}, {\"mpg\": 15.0, \"cylinders\": 8, \"displacement\": 350.0, \"horsepower\": 165.0, \"weight\": 3693, \"acceleration\": 11.5, \"model_year\": 70, \"origin\": \"usa\", \"name\": \"buick skylark 320\", \"h1\": 165.0, \"h2\": 27225.0, \"h3\": 4492125.0, \"pred\": 13.92152107961062, \"label\": \"train\"}, {\"mpg\": 18.0, \"cylinders\": 8, \"displacement\": 318.0, \"horsepower\": 150.0, \"weight\": 3436, \"acceleration\": 11.0, \"model_year\": 70, \"origin\": \"usa\", \"name\": \"plymouth satellite\", \"h1\": 150.0, \"h2\": 22500.0, \"h3\": 3375000.0, \"pred\": 14.96622045084002, \"label\": \"train\"}, {\"mpg\": 16.0, \"cylinders\": 8, \"displacement\": 304.0, \"horsepower\": 150.0, \"weight\": 3433, \"acceleration\": 12.0, \"model_year\": 70, \"origin\": \"usa\", \"name\": \"amc rebel sst\", \"h1\": 150.0, \"h2\": 22500.0, \"h3\": 3375000.0, \"pred\": 14.96622045084002, \"label\": \"train\"}, {\"mpg\": 17.0, \"cylinders\": 8, \"displacement\": 302.0, \"horsepower\": 140.0, \"weight\": 3449, \"acceleration\": 10.5, \"model_year\": 70, \"origin\": \"usa\", \"name\": \"ford torino\", \"h1\": 140.0, \"h2\": 19600.0, \"h3\": 2744000.0, \"pred\": 15.936728518042784, \"label\": \"train\"}, {\"mpg\": 15.0, \"cylinders\": 8, \"displacement\": 429.0, \"horsepower\": 198.0, \"weight\": 4341, \"acceleration\": 10.0, \"model_year\": 70, \"origin\": \"usa\", \"name\": \"ford galaxie 500\", \"h1\": 198.0, \"h2\": 39204.0, \"h3\": 7762392.0, \"pred\": 13.07003485130241, \"label\": \"train\"}, {\"mpg\": 14.0, \"cylinders\": 8, \"displacement\": 454.0, \"horsepower\": 220.0, \"weight\": 4354, \"acceleration\": 9.0, \"model_year\": 70, \"origin\": \"usa\", \"name\": \"chevrolet impala\", \"h1\": 220.0, \"h2\": 48400.0, \"h3\": 10648000.0, \"pred\": 13.340733275934703, \"label\": \"train\"}, {\"mpg\": 14.0, \"cylinders\": 8, \"displacement\": 440.0, \"horsepower\": 215.0, \"weight\": 4312, \"acceleration\": 8.5, \"model_year\": 70, \"origin\": \"usa\", \"name\": \"plymouth fury iii\", \"h1\": 215.0, \"h2\": 46225.0, \"h3\": 9938375.0, \"pred\": 13.233709326836177, \"label\": \"train\"}, {\"mpg\": 14.0, \"cylinders\": 8, \"displacement\": 455.0, \"horsepower\": 225.0, \"weight\": 4425, \"acceleration\": 10.0, \"model_year\": 70, \"origin\": \"usa\", \"name\": \"pontiac catalina\", \"h1\": 225.0, \"h2\": 50625.0, \"h3\": 11390625.0, \"pred\": 13.470269187911917, \"label\": \"train\"}, {\"mpg\": 15.0, \"cylinders\": 8, \"displacement\": 390.0, \"horsepower\": 190.0, \"weight\": 3850, \"acceleration\": 8.5, \"model_year\": 70, \"origin\": \"usa\", \"name\": \"amc ambassador dpl\", \"h1\": 190.0, \"h2\": 36100.0, \"h3\": 6859000.0, \"pred\": 13.118979319933764, \"label\": \"test\"}, {\"mpg\": 15.0, \"cylinders\": 8, \"displacement\": 383.0, \"horsepower\": 170.0, \"weight\": 3563, \"acceleration\": 10.0, \"model_year\": 70, \"origin\": \"usa\", \"name\": \"dodge challenger se\", \"h1\": 170.0, \"h2\": 28900.0, \"h3\": 4913000.0, \"pred\": 13.673452078564459, \"label\": \"train\"}, {\"mpg\": 14.0, \"cylinders\": 8, \"displacement\": 340.0, \"horsepower\": 160.0, \"weight\": 3609, \"acceleration\": 8.0, \"model_year\": 70, \"origin\": \"usa\", \"name\": \"plymouth 'cuda 340\", \"h1\": 160.0, \"h2\": 25600.0, \"h3\": 4096000.0, \"pred\": 14.218096707806993, \"label\": \"train\"}, {\"mpg\": 15.0, \"cylinders\": 8, \"displacement\": 400.0, \"horsepower\": 150.0, \"weight\": 3761, \"acceleration\": 9.5, \"model_year\": 70, \"origin\": \"usa\", \"name\": \"chevrolet monte carlo\", \"h1\": 150.0, \"h2\": 22500.0, \"h3\": 3375000.0, \"pred\": 14.96622045084002, \"label\": \"train\"}, {\"mpg\": 14.0, \"cylinders\": 8, \"displacement\": 455.0, \"horsepower\": 225.0, \"weight\": 3086, \"acceleration\": 10.0, \"model_year\": 70, \"origin\": \"usa\", \"name\": \"buick estate wagon (sw)\", \"h1\": 225.0, \"h2\": 50625.0, \"h3\": 11390625.0, \"pred\": 13.470269187911917, \"label\": \"train\"}, {\"mpg\": 24.0, \"cylinders\": 4, \"displacement\": 113.0, \"horsepower\": 95.0, \"weight\": 2372, \"acceleration\": 15.0, \"model_year\": 70, \"origin\": \"japan\", \"name\": \"toyota corona mark ii\", \"h1\": 95.0, \"h2\": 9025.0, \"h3\": 857375.0, \"pred\": 23.562916785349927, \"label\": \"train\"}, {\"mpg\": 22.0, \"cylinders\": 6, \"displacement\": 198.0, \"horsepower\": 95.0, \"weight\": 2833, \"acceleration\": 15.5, \"model_year\": 70, \"origin\": \"usa\", \"name\": \"plymouth duster\", \"h1\": 95.0, \"h2\": 9025.0, \"h3\": 857375.0, \"pred\": 23.562916785349927, \"label\": \"test\"}, {\"mpg\": 18.0, \"cylinders\": 6, \"displacement\": 199.0, \"horsepower\": 97.0, \"weight\": 2774, \"acceleration\": 15.5, \"model_year\": 70, \"origin\": \"usa\", \"name\": \"amc hornet\", \"h1\": 97.0, \"h2\": 9409.0, \"h3\": 912673.0, \"pred\": 23.096374812699608, \"label\": \"train\"}, {\"mpg\": 21.0, \"cylinders\": 6, \"displacement\": 200.0, \"horsepower\": 85.0, \"weight\": 2587, \"acceleration\": 16.0, \"model_year\": 70, \"origin\": \"usa\", \"name\": \"ford maverick\", \"h1\": 85.0, \"h2\": 7225.0, \"h3\": 614125.0, \"pred\": 26.094469271015683, \"label\": \"train\"}, {\"mpg\": 27.0, \"cylinders\": 4, \"displacement\": 97.0, \"horsepower\": 88.0, \"weight\": 2130, \"acceleration\": 14.5, \"model_year\": 70, \"origin\": \"japan\", \"name\": \"datsun pl510\", \"h1\": 88.0, \"h2\": 7744.0, \"h3\": 681472.0, \"pred\": 25.299610552266536, \"label\": \"train\"}, {\"mpg\": 26.0, \"cylinders\": 4, \"displacement\": 97.0, \"horsepower\": 46.0, \"weight\": 1835, \"acceleration\": 20.5, \"model_year\": 70, \"origin\": \"europe\", \"name\": \"volkswagen 1131 deluxe sedan\", \"h1\": 46.0, \"h2\": 2116.0, \"h3\": 97336.0, \"pred\": 39.44117951185239, \"label\": \"train\"}, {\"mpg\": 25.0, \"cylinders\": 4, \"displacement\": 110.0, \"horsepower\": 87.0, \"weight\": 2672, \"acceleration\": 17.5, \"model_year\": 70, \"origin\": \"europe\", \"name\": \"peugeot 504\", \"h1\": 87.0, \"h2\": 7569.0, \"h3\": 658503.0, \"pred\": 25.561142285283864, \"label\": \"train\"}, {\"mpg\": 24.0, \"cylinders\": 4, \"displacement\": 107.0, \"horsepower\": 90.0, \"weight\": 2430, \"acceleration\": 14.5, \"model_year\": 70, \"origin\": \"europe\", \"name\": \"audi 100 ls\", \"h1\": 90.0, \"h2\": 8100.0, \"h3\": 729000.0, \"pred\": 24.786716079877138, \"label\": \"train\"}, {\"mpg\": 25.0, \"cylinders\": 4, \"displacement\": 104.0, \"horsepower\": 95.0, \"weight\": 2375, \"acceleration\": 17.5, \"model_year\": 70, \"origin\": \"europe\", \"name\": \"saab 99e\", \"h1\": 95.0, \"h2\": 9025.0, \"h3\": 857375.0, \"pred\": 23.562916785349927, \"label\": \"train\"}, {\"mpg\": 26.0, \"cylinders\": 4, \"displacement\": 121.0, \"horsepower\": 113.0, \"weight\": 2234, \"acceleration\": 12.5, \"model_year\": 70, \"origin\": \"europe\", \"name\": \"bmw 2002\", \"h1\": 113.0, \"h2\": 12769.0, \"h3\": 1442897.0, \"pred\": 19.815852722541095, \"label\": \"train\"}, {\"mpg\": 21.0, \"cylinders\": 6, \"displacement\": 199.0, \"horsepower\": 90.0, \"weight\": 2648, \"acceleration\": 15.0, \"model_year\": 70, \"origin\": \"usa\", \"name\": \"amc gremlin\", \"h1\": 90.0, \"h2\": 8100.0, \"h3\": 729000.0, \"pred\": 24.786716079877138, \"label\": \"train\"}, {\"mpg\": 10.0, \"cylinders\": 8, \"displacement\": 360.0, \"horsepower\": 215.0, \"weight\": 4615, \"acceleration\": 14.0, \"model_year\": 70, \"origin\": \"usa\", \"name\": \"ford f250\", \"h1\": 215.0, \"h2\": 46225.0, \"h3\": 9938375.0, \"pred\": 13.233709326836177, \"label\": \"test\"}, {\"mpg\": 10.0, \"cylinders\": 8, \"displacement\": 307.0, \"horsepower\": 200.0, \"weight\": 4376, \"acceleration\": 15.0, \"model_year\": 70, \"origin\": \"usa\", \"name\": \"chevy c20\", \"h1\": 200.0, \"h2\": 40000.0, \"h3\": 8000000.0, \"pred\": 13.071340769787085, \"label\": \"train\"}, {\"mpg\": 11.0, \"cylinders\": 8, \"displacement\": 318.0, \"horsepower\": 210.0, \"weight\": 4382, \"acceleration\": 13.5, \"model_year\": 70, \"origin\": \"usa\", \"name\": \"dodge d200\", \"h1\": 210.0, \"h2\": 44100.0, \"h3\": 9261000.0, \"pred\": 13.151560491913813, \"label\": \"train\"}, {\"mpg\": 9.0, \"cylinders\": 8, \"displacement\": 304.0, \"horsepower\": 193.0, \"weight\": 4732, \"acceleration\": 18.5, \"model_year\": 70, \"origin\": \"usa\", \"name\": \"hi 1200d\", \"h1\": 193.0, \"h2\": 37249.0, \"h3\": 7189057.0, \"pred\": 13.090137776283484, \"label\": \"train\"}, {\"mpg\": 27.0, \"cylinders\": 4, \"displacement\": 97.0, \"horsepower\": 88.0, \"weight\": 2130, \"acceleration\": 14.5, \"model_year\": 71, \"origin\": \"japan\", \"name\": \"datsun pl510\", \"h1\": 88.0, \"h2\": 7744.0, \"h3\": 681472.0, \"pred\": 25.299610552266536, \"label\": \"train\"}, {\"mpg\": 28.0, \"cylinders\": 4, \"displacement\": 140.0, \"horsepower\": 90.0, \"weight\": 2264, \"acceleration\": 15.5, \"model_year\": 71, \"origin\": \"usa\", \"name\": \"chevrolet vega 2300\", \"h1\": 90.0, \"h2\": 8100.0, \"h3\": 729000.0, \"pred\": 24.786716079877138, \"label\": \"train\"}, {\"mpg\": 25.0, \"cylinders\": 4, \"displacement\": 113.0, \"horsepower\": 95.0, \"weight\": 2228, \"acceleration\": 14.0, \"model_year\": 71, \"origin\": \"japan\", \"name\": \"toyota corona\", \"h1\": 95.0, \"h2\": 9025.0, \"h3\": 857375.0, \"pred\": 23.562916785349927, \"label\": \"train\"}, {\"mpg\": 19.0, \"cylinders\": 6, \"displacement\": 232.0, \"horsepower\": 100.0, \"weight\": 2634, \"acceleration\": 13.0, \"model_year\": 71, \"origin\": \"usa\", \"name\": \"amc gremlin\", \"h1\": 100.0, \"h2\": 10000.0, \"h3\": 1000000.0, \"pred\": 22.420708236136647, \"label\": \"train\"}, {\"mpg\": 16.0, \"cylinders\": 6, \"displacement\": 225.0, \"horsepower\": 105.0, \"weight\": 3439, \"acceleration\": 15.5, \"model_year\": 71, \"origin\": \"usa\", \"name\": \"plymouth satellite custom\", \"h1\": 105.0, \"h2\": 11025.0, \"h3\": 1157625.0, \"pred\": 21.357727280939883, \"label\": \"test\"}, {\"mpg\": 17.0, \"cylinders\": 6, \"displacement\": 250.0, \"horsepower\": 100.0, \"weight\": 3329, \"acceleration\": 15.5, \"model_year\": 71, \"origin\": \"usa\", \"name\": \"chevrolet chevelle malibu\", \"h1\": 100.0, \"h2\": 10000.0, \"h3\": 1000000.0, \"pred\": 22.420708236136647, \"label\": \"train\"}, {\"mpg\": 19.0, \"cylinders\": 6, \"displacement\": 250.0, \"horsepower\": 88.0, \"weight\": 3302, \"acceleration\": 15.5, \"model_year\": 71, \"origin\": \"usa\", \"name\": \"ford torino 500\", \"h1\": 88.0, \"h2\": 7744.0, \"h3\": 681472.0, \"pred\": 25.299610552266536, \"label\": \"train\"}, {\"mpg\": 18.0, \"cylinders\": 6, \"displacement\": 232.0, \"horsepower\": 100.0, \"weight\": 3288, \"acceleration\": 15.5, \"model_year\": 71, \"origin\": \"usa\", \"name\": \"amc matador\", \"h1\": 100.0, \"h2\": 10000.0, \"h3\": 1000000.0, \"pred\": 22.420708236136647, \"label\": \"train\"}, {\"mpg\": 14.0, \"cylinders\": 8, \"displacement\": 350.0, \"horsepower\": 165.0, \"weight\": 4209, \"acceleration\": 12.0, \"model_year\": 71, \"origin\": \"usa\", \"name\": \"chevrolet impala\", \"h1\": 165.0, \"h2\": 27225.0, \"h3\": 4492125.0, \"pred\": 13.92152107961062, \"label\": \"train\"}, {\"mpg\": 14.0, \"cylinders\": 8, \"displacement\": 400.0, \"horsepower\": 175.0, \"weight\": 4464, \"acceleration\": 11.5, \"model_year\": 71, \"origin\": \"usa\", \"name\": \"pontiac catalina brougham\", \"h1\": 175.0, \"h2\": 30625.0, \"h3\": 5359375.0, \"pred\": 13.471526553371092, \"label\": \"train\"}, {\"mpg\": 14.0, \"cylinders\": 8, \"displacement\": 351.0, \"horsepower\": 153.0, \"weight\": 4154, \"acceleration\": 13.5, \"model_year\": 71, \"origin\": \"usa\", \"name\": \"ford galaxie 500\", \"h1\": 153.0, \"h2\": 23409.0, \"h3\": 3581577.0, \"pred\": 14.71929316096454, \"label\": \"train\"}, {\"mpg\": 14.0, \"cylinders\": 8, \"displacement\": 318.0, \"horsepower\": 150.0, \"weight\": 4096, \"acceleration\": 13.0, \"model_year\": 71, \"origin\": \"usa\", \"name\": \"plymouth fury iii\", \"h1\": 150.0, \"h2\": 22500.0, \"h3\": 3375000.0, \"pred\": 14.96622045084002, \"label\": \"train\"}, {\"mpg\": 12.0, \"cylinders\": 8, \"displacement\": 383.0, \"horsepower\": 180.0, \"weight\": 4955, \"acceleration\": 11.5, \"model_year\": 71, \"origin\": \"usa\", \"name\": \"dodge monaco (sw)\", \"h1\": 180.0, \"h2\": 32400.0, \"h3\": 5832000.0, \"pred\": 13.313381352733131, \"label\": \"train\"}, {\"mpg\": 13.0, \"cylinders\": 8, \"displacement\": 400.0, \"horsepower\": 170.0, \"weight\": 4746, \"acceleration\": 12.0, \"model_year\": 71, \"origin\": \"usa\", \"name\": \"ford country squire (sw)\", \"h1\": 170.0, \"h2\": 28900.0, \"h3\": 4913000.0, \"pred\": 13.673452078564459, \"label\": \"test\"}, {\"mpg\": 13.0, \"cylinders\": 8, \"displacement\": 400.0, \"horsepower\": 175.0, \"weight\": 5140, \"acceleration\": 12.0, \"model_year\": 71, \"origin\": \"usa\", \"name\": \"pontiac safari (sw)\", \"h1\": 175.0, \"h2\": 30625.0, \"h3\": 5359375.0, \"pred\": 13.471526553371092, \"label\": \"train\"}, {\"mpg\": 18.0, \"cylinders\": 6, \"displacement\": 258.0, \"horsepower\": 110.0, \"weight\": 2962, \"acceleration\": 13.5, \"model_year\": 71, \"origin\": \"usa\", \"name\": \"amc hornet sportabout (sw)\", \"h1\": 110.0, \"h2\": 12100.0, \"h3\": 1331000.0, \"pred\": 20.37161076846224, \"label\": \"train\"}, {\"mpg\": 22.0, \"cylinders\": 4, \"displacement\": 140.0, \"horsepower\": 72.0, \"weight\": 2408, \"acceleration\": 19.0, \"model_year\": 71, \"origin\": \"usa\", \"name\": \"chevrolet vega (sw)\", \"h1\": 72.0, \"h2\": 5184.0, \"h3\": 373248.0, \"pred\": 29.904489777827152, \"label\": \"train\"}, {\"mpg\": 19.0, \"cylinders\": 6, \"displacement\": 250.0, \"horsepower\": 100.0, \"weight\": 3282, \"acceleration\": 15.0, \"model_year\": 71, \"origin\": \"usa\", \"name\": \"pontiac firebird\", \"h1\": 100.0, \"h2\": 10000.0, \"h3\": 1000000.0, \"pred\": 22.420708236136647, \"label\": \"train\"}, {\"mpg\": 18.0, \"cylinders\": 6, \"displacement\": 250.0, \"horsepower\": 88.0, \"weight\": 3139, \"acceleration\": 14.5, \"model_year\": 71, \"origin\": \"usa\", \"name\": \"ford mustang\", \"h1\": 88.0, \"h2\": 7744.0, \"h3\": 681472.0, \"pred\": 25.299610552266536, \"label\": \"train\"}, {\"mpg\": 23.0, \"cylinders\": 4, \"displacement\": 122.0, \"horsepower\": 86.0, \"weight\": 2220, \"acceleration\": 14.0, \"model_year\": 71, \"origin\": \"usa\", \"name\": \"mercury capri 2000\", \"h1\": 86.0, \"h2\": 7396.0, \"h3\": 636056.0, \"pred\": 25.826088889796786, \"label\": \"train\"}, {\"mpg\": 28.0, \"cylinders\": 4, \"displacement\": 116.0, \"horsepower\": 90.0, \"weight\": 2123, \"acceleration\": 14.0, \"model_year\": 71, \"origin\": \"europe\", \"name\": \"opel 1900\", \"h1\": 90.0, \"h2\": 8100.0, \"h3\": 729000.0, \"pred\": 24.786716079877138, \"label\": \"train\"}, {\"mpg\": 30.0, \"cylinders\": 4, \"displacement\": 79.0, \"horsepower\": 70.0, \"weight\": 2074, \"acceleration\": 19.5, \"model_year\": 71, \"origin\": \"europe\", \"name\": \"peugeot 304\", \"h1\": 70.0, \"h2\": 4900.0, \"h3\": 343000.0, \"pred\": 30.545083737073405, \"label\": \"train\"}, {\"mpg\": 30.0, \"cylinders\": 4, \"displacement\": 88.0, \"horsepower\": 76.0, \"weight\": 2065, \"acceleration\": 14.5, \"model_year\": 71, \"origin\": \"europe\", \"name\": \"fiat 124b\", \"h1\": 76.0, \"h2\": 5776.0, \"h3\": 438976.0, \"pred\": 28.667532013466953, \"label\": \"train\"}, {\"mpg\": 31.0, \"cylinders\": 4, \"displacement\": 71.0, \"horsepower\": 65.0, \"weight\": 1773, \"acceleration\": 19.0, \"model_year\": 71, \"origin\": \"japan\", \"name\": \"toyota corolla 1200\", \"h1\": 65.0, \"h2\": 4225.0, \"h3\": 274625.0, \"pred\": 32.212284027631384, \"label\": \"train\"}, {\"mpg\": 35.0, \"cylinders\": 4, \"displacement\": 72.0, \"horsepower\": 69.0, \"weight\": 1613, \"acceleration\": 18.0, \"model_year\": 71, \"origin\": \"japan\", \"name\": \"datsun 1200\", \"h1\": 69.0, \"h2\": 4761.0, \"h3\": 328509.0, \"pred\": 30.870975654199405, \"label\": \"train\"}, {\"mpg\": 27.0, \"cylinders\": 4, \"displacement\": 97.0, \"horsepower\": 60.0, \"weight\": 1834, \"acceleration\": 19.0, \"model_year\": 71, \"origin\": \"europe\", \"name\": \"volkswagen model 111\", \"h1\": 60.0, \"h2\": 3600.0, \"h3\": 216000.0, \"pred\": 33.97525397128773, \"label\": \"train\"}, {\"mpg\": 26.0, \"cylinders\": 4, \"displacement\": 91.0, \"horsepower\": 70.0, \"weight\": 1955, \"acceleration\": 20.5, \"model_year\": 71, \"origin\": \"usa\", \"name\": \"plymouth cricket\", \"h1\": 70.0, \"h2\": 4900.0, \"h3\": 343000.0, \"pred\": 30.545083737073405, \"label\": \"test\"}, {\"mpg\": 24.0, \"cylinders\": 4, \"displacement\": 113.0, \"horsepower\": 95.0, \"weight\": 2278, \"acceleration\": 15.5, \"model_year\": 72, \"origin\": \"japan\", \"name\": \"toyota corona hardtop\", \"h1\": 95.0, \"h2\": 9025.0, \"h3\": 857375.0, \"pred\": 23.562916785349927, \"label\": \"train\"}, {\"mpg\": 25.0, \"cylinders\": 4, \"displacement\": 97.5, \"horsepower\": 80.0, \"weight\": 2126, \"acceleration\": 17.0, \"model_year\": 72, \"origin\": \"usa\", \"name\": \"dodge colt hardtop\", \"h1\": 80.0, \"h2\": 6400.0, \"h3\": 512000.0, \"pred\": 27.48853951006297, \"label\": \"test\"}, {\"mpg\": 23.0, \"cylinders\": 4, \"displacement\": 97.0, \"horsepower\": 54.0, \"weight\": 2254, \"acceleration\": 23.5, \"model_year\": 72, \"origin\": \"europe\", \"name\": \"volkswagen type 3\", \"h1\": 54.0, \"h2\": 2916.0, \"h3\": 157464.0, \"pred\": 36.220561162791945, \"label\": \"train\"}, {\"mpg\": 20.0, \"cylinders\": 4, \"displacement\": 140.0, \"horsepower\": 90.0, \"weight\": 2408, \"acceleration\": 19.5, \"model_year\": 72, \"origin\": \"usa\", \"name\": \"chevrolet vega\", \"h1\": 90.0, \"h2\": 8100.0, \"h3\": 729000.0, \"pred\": 24.786716079877138, \"label\": \"train\"}, {\"mpg\": 21.0, \"cylinders\": 4, \"displacement\": 122.0, \"horsepower\": 86.0, \"weight\": 2226, \"acceleration\": 16.5, \"model_year\": 72, \"origin\": \"usa\", \"name\": \"ford pinto runabout\", \"h1\": 86.0, \"h2\": 7396.0, \"h3\": 636056.0, \"pred\": 25.826088889796786, \"label\": \"train\"}, {\"mpg\": 13.0, \"cylinders\": 8, \"displacement\": 350.0, \"horsepower\": 165.0, \"weight\": 4274, \"acceleration\": 12.0, \"model_year\": 72, \"origin\": \"usa\", \"name\": \"chevrolet impala\", \"h1\": 165.0, \"h2\": 27225.0, \"h3\": 4492125.0, \"pred\": 13.92152107961062, \"label\": \"train\"}, {\"mpg\": 14.0, \"cylinders\": 8, \"displacement\": 400.0, \"horsepower\": 175.0, \"weight\": 4385, \"acceleration\": 12.0, \"model_year\": 72, \"origin\": \"usa\", \"name\": \"pontiac catalina\", \"h1\": 175.0, \"h2\": 30625.0, \"h3\": 5359375.0, \"pred\": 13.471526553371092, \"label\": \"train\"}, {\"mpg\": 15.0, \"cylinders\": 8, \"displacement\": 318.0, \"horsepower\": 150.0, \"weight\": 4135, \"acceleration\": 13.5, \"model_year\": 72, \"origin\": \"usa\", \"name\": \"plymouth fury iii\", \"h1\": 150.0, \"h2\": 22500.0, \"h3\": 3375000.0, \"pred\": 14.96622045084002, \"label\": \"train\"}, {\"mpg\": 14.0, \"cylinders\": 8, \"displacement\": 351.0, \"horsepower\": 153.0, \"weight\": 4129, \"acceleration\": 13.0, \"model_year\": 72, \"origin\": \"usa\", \"name\": \"ford galaxie 500\", \"h1\": 153.0, \"h2\": 23409.0, \"h3\": 3581577.0, \"pred\": 14.71929316096454, \"label\": \"train\"}, {\"mpg\": 17.0, \"cylinders\": 8, \"displacement\": 304.0, \"horsepower\": 150.0, \"weight\": 3672, \"acceleration\": 11.5, \"model_year\": 72, \"origin\": \"usa\", \"name\": \"amc ambassador sst\", \"h1\": 150.0, \"h2\": 22500.0, \"h3\": 3375000.0, \"pred\": 14.96622045084002, \"label\": \"train\"}, {\"mpg\": 11.0, \"cylinders\": 8, \"displacement\": 429.0, \"horsepower\": 208.0, \"weight\": 4633, \"acceleration\": 11.0, \"model_year\": 72, \"origin\": \"usa\", \"name\": \"mercury marquis\", \"h1\": 208.0, \"h2\": 43264.0, \"h3\": 8998912.0, \"pred\": 13.126195335804802, \"label\": \"train\"}, {\"mpg\": 13.0, \"cylinders\": 8, \"displacement\": 350.0, \"horsepower\": 155.0, \"weight\": 4502, \"acceleration\": 13.5, \"model_year\": 72, \"origin\": \"usa\", \"name\": \"buick lesabre custom\", \"h1\": 155.0, \"h2\": 24025.0, \"h3\": 3723875.0, \"pred\": 14.565542114450992, \"label\": \"train\"}, {\"mpg\": 12.0, \"cylinders\": 8, \"displacement\": 350.0, \"horsepower\": 160.0, \"weight\": 4456, \"acceleration\": 13.5, \"model_year\": 72, \"origin\": \"usa\", \"name\": \"oldsmobile delta 88 royale\", \"h1\": 160.0, \"h2\": 25600.0, \"h3\": 4096000.0, \"pred\": 14.218096707806993, \"label\": \"train\"}, {\"mpg\": 13.0, \"cylinders\": 8, \"displacement\": 400.0, \"horsepower\": 190.0, \"weight\": 4422, \"acceleration\": 12.5, \"model_year\": 72, \"origin\": \"usa\", \"name\": \"chrysler newport royal\", \"h1\": 190.0, \"h2\": 36100.0, \"h3\": 6859000.0, \"pred\": 13.118979319933764, \"label\": \"train\"}, {\"mpg\": 19.0, \"cylinders\": 3, \"displacement\": 70.0, \"horsepower\": 97.0, \"weight\": 2330, \"acceleration\": 13.5, \"model_year\": 72, \"origin\": \"japan\", \"name\": \"mazda rx2 coupe\", \"h1\": 97.0, \"h2\": 9409.0, \"h3\": 912673.0, \"pred\": 23.096374812699608, \"label\": \"train\"}, {\"mpg\": 15.0, \"cylinders\": 8, \"displacement\": 304.0, \"horsepower\": 150.0, \"weight\": 3892, \"acceleration\": 12.5, \"model_year\": 72, \"origin\": \"usa\", \"name\": \"amc matador (sw)\", \"h1\": 150.0, \"h2\": 22500.0, \"h3\": 3375000.0, \"pred\": 14.96622045084002, \"label\": \"train\"}, {\"mpg\": 13.0, \"cylinders\": 8, \"displacement\": 307.0, \"horsepower\": 130.0, \"weight\": 4098, \"acceleration\": 14.0, \"model_year\": 72, \"origin\": \"usa\", \"name\": \"chevrolet chevelle concours (sw)\", \"h1\": 130.0, \"h2\": 16900.0, \"h3\": 2197000.0, \"pred\": 17.148526119794568, \"label\": \"train\"}, {\"mpg\": 13.0, \"cylinders\": 8, \"displacement\": 302.0, \"horsepower\": 140.0, \"weight\": 4294, \"acceleration\": 16.0, \"model_year\": 72, \"origin\": \"usa\", \"name\": \"ford gran torino (sw)\", \"h1\": 140.0, \"h2\": 19600.0, \"h3\": 2744000.0, \"pred\": 15.936728518042784, \"label\": \"test\"}, {\"mpg\": 14.0, \"cylinders\": 8, \"displacement\": 318.0, \"horsepower\": 150.0, \"weight\": 4077, \"acceleration\": 14.0, \"model_year\": 72, \"origin\": \"usa\", \"name\": \"plymouth satellite custom (sw)\", \"h1\": 150.0, \"h2\": 22500.0, \"h3\": 3375000.0, \"pred\": 14.96622045084002, \"label\": \"train\"}, {\"mpg\": 18.0, \"cylinders\": 4, \"displacement\": 121.0, \"horsepower\": 112.0, \"weight\": 2933, \"acceleration\": 14.5, \"model_year\": 72, \"origin\": \"europe\", \"name\": \"volvo 145e (sw)\", \"h1\": 112.0, \"h2\": 12544.0, \"h3\": 1404928.0, \"pred\": 19.998156861541908, \"label\": \"train\"}, {\"mpg\": 22.0, \"cylinders\": 4, \"displacement\": 121.0, \"horsepower\": 76.0, \"weight\": 2511, \"acceleration\": 18.0, \"model_year\": 72, \"origin\": \"europe\", \"name\": \"volkswagen 411 (sw)\", \"h1\": 76.0, \"h2\": 5776.0, \"h3\": 438976.0, \"pred\": 28.667532013466953, \"label\": \"test\"}, {\"mpg\": 21.0, \"cylinders\": 4, \"displacement\": 120.0, \"horsepower\": 87.0, \"weight\": 2979, \"acceleration\": 19.5, \"model_year\": 72, \"origin\": \"europe\", \"name\": \"peugeot 504 (sw)\", \"h1\": 87.0, \"h2\": 7569.0, \"h3\": 658503.0, \"pred\": 25.561142285283864, \"label\": \"test\"}, {\"mpg\": 26.0, \"cylinders\": 4, \"displacement\": 96.0, \"horsepower\": 69.0, \"weight\": 2189, \"acceleration\": 18.0, \"model_year\": 72, \"origin\": \"europe\", \"name\": \"renault 12 (sw)\", \"h1\": 69.0, \"h2\": 4761.0, \"h3\": 328509.0, \"pred\": 30.870975654199405, \"label\": \"test\"}, {\"mpg\": 22.0, \"cylinders\": 4, \"displacement\": 122.0, \"horsepower\": 86.0, \"weight\": 2395, \"acceleration\": 16.0, \"model_year\": 72, \"origin\": \"usa\", \"name\": \"ford pinto (sw)\", \"h1\": 86.0, \"h2\": 7396.0, \"h3\": 636056.0, \"pred\": 25.826088889796786, \"label\": \"train\"}, {\"mpg\": 28.0, \"cylinders\": 4, \"displacement\": 97.0, \"horsepower\": 92.0, \"weight\": 2288, \"acceleration\": 17.0, \"model_year\": 72, \"origin\": \"japan\", \"name\": \"datsun 510 (sw)\", \"h1\": 92.0, \"h2\": 8464.0, \"h3\": 778688.0, \"pred\": 24.28725423094555, \"label\": \"train\"}, {\"mpg\": 23.0, \"cylinders\": 4, \"displacement\": 120.0, \"horsepower\": 97.0, \"weight\": 2506, \"acceleration\": 14.5, \"model_year\": 72, \"origin\": \"japan\", \"name\": \"toyouta corona mark ii (sw)\", \"h1\": 97.0, \"h2\": 9409.0, \"h3\": 912673.0, \"pred\": 23.096374812699608, \"label\": \"train\"}, {\"mpg\": 28.0, \"cylinders\": 4, \"displacement\": 98.0, \"horsepower\": 80.0, \"weight\": 2164, \"acceleration\": 15.0, \"model_year\": 72, \"origin\": \"usa\", \"name\": \"dodge colt (sw)\", \"h1\": 80.0, \"h2\": 6400.0, \"h3\": 512000.0, \"pred\": 27.48853951006297, \"label\": \"train\"}, {\"mpg\": 27.0, \"cylinders\": 4, \"displacement\": 97.0, \"horsepower\": 88.0, \"weight\": 2100, \"acceleration\": 16.5, \"model_year\": 72, \"origin\": \"japan\", \"name\": \"toyota corolla 1600 (sw)\", \"h1\": 88.0, \"h2\": 7744.0, \"h3\": 681472.0, \"pred\": 25.299610552266536, \"label\": \"train\"}, {\"mpg\": 13.0, \"cylinders\": 8, \"displacement\": 350.0, \"horsepower\": 175.0, \"weight\": 4100, \"acceleration\": 13.0, \"model_year\": 73, \"origin\": \"usa\", \"name\": \"buick century 350\", \"h1\": 175.0, \"h2\": 30625.0, \"h3\": 5359375.0, \"pred\": 13.471526553371092, \"label\": \"train\"}, {\"mpg\": 14.0, \"cylinders\": 8, \"displacement\": 304.0, \"horsepower\": 150.0, \"weight\": 3672, \"acceleration\": 11.5, \"model_year\": 73, \"origin\": \"usa\", \"name\": \"amc matador\", \"h1\": 150.0, \"h2\": 22500.0, \"h3\": 3375000.0, \"pred\": 14.96622045084002, \"label\": \"train\"}, {\"mpg\": 13.0, \"cylinders\": 8, \"displacement\": 350.0, \"horsepower\": 145.0, \"weight\": 3988, \"acceleration\": 13.0, \"model_year\": 73, \"origin\": \"usa\", \"name\": \"chevrolet malibu\", \"h1\": 145.0, \"h2\": 21025.0, \"h3\": 3048625.0, \"pred\": 15.422494868271478, \"label\": \"train\"}, {\"mpg\": 14.0, \"cylinders\": 8, \"displacement\": 302.0, \"horsepower\": 137.0, \"weight\": 4042, \"acceleration\": 14.5, \"model_year\": 73, \"origin\": \"usa\", \"name\": \"ford gran torino\", \"h1\": 137.0, \"h2\": 18769.0, \"h3\": 2571353.0, \"pred\": 16.274072210368416, \"label\": \"train\"}, {\"mpg\": 15.0, \"cylinders\": 8, \"displacement\": 318.0, \"horsepower\": 150.0, \"weight\": 3777, \"acceleration\": 12.5, \"model_year\": 73, \"origin\": \"usa\", \"name\": \"dodge coronet custom\", \"h1\": 150.0, \"h2\": 22500.0, \"h3\": 3375000.0, \"pred\": 14.96622045084002, \"label\": \"train\"}, {\"mpg\": 12.0, \"cylinders\": 8, \"displacement\": 429.0, \"horsepower\": 198.0, \"weight\": 4952, \"acceleration\": 11.5, \"model_year\": 73, \"origin\": \"usa\", \"name\": \"mercury marquis brougham\", \"h1\": 198.0, \"h2\": 39204.0, \"h3\": 7762392.0, \"pred\": 13.07003485130241, \"label\": \"train\"}, {\"mpg\": 13.0, \"cylinders\": 8, \"displacement\": 400.0, \"horsepower\": 150.0, \"weight\": 4464, \"acceleration\": 12.0, \"model_year\": 73, \"origin\": \"usa\", \"name\": \"chevrolet caprice classic\", \"h1\": 150.0, \"h2\": 22500.0, \"h3\": 3375000.0, \"pred\": 14.96622045084002, \"label\": \"test\"}, {\"mpg\": 13.0, \"cylinders\": 8, \"displacement\": 351.0, \"horsepower\": 158.0, \"weight\": 4363, \"acceleration\": 13.0, \"model_year\": 73, \"origin\": \"usa\", \"name\": \"ford ltd\", \"h1\": 158.0, \"h2\": 24964.0, \"h3\": 3944312.0, \"pred\": 14.35083816057822, \"label\": \"train\"}, {\"mpg\": 14.0, \"cylinders\": 8, \"displacement\": 318.0, \"horsepower\": 150.0, \"weight\": 4237, \"acceleration\": 14.5, \"model_year\": 73, \"origin\": \"usa\", \"name\": \"plymouth fury gran sedan\", \"h1\": 150.0, \"h2\": 22500.0, \"h3\": 3375000.0, \"pred\": 14.96622045084002, \"label\": \"train\"}, {\"mpg\": 13.0, \"cylinders\": 8, \"displacement\": 440.0, \"horsepower\": 215.0, \"weight\": 4735, \"acceleration\": 11.0, \"model_year\": 73, \"origin\": \"usa\", \"name\": \"chrysler new yorker brougham\", \"h1\": 215.0, \"h2\": 46225.0, \"h3\": 9938375.0, \"pred\": 13.233709326836177, \"label\": \"train\"}, {\"mpg\": 12.0, \"cylinders\": 8, \"displacement\": 455.0, \"horsepower\": 225.0, \"weight\": 4951, \"acceleration\": 11.0, \"model_year\": 73, \"origin\": \"usa\", \"name\": \"buick electra 225 custom\", \"h1\": 225.0, \"h2\": 50625.0, \"h3\": 11390625.0, \"pred\": 13.470269187911917, \"label\": \"train\"}, {\"mpg\": 13.0, \"cylinders\": 8, \"displacement\": 360.0, \"horsepower\": 175.0, \"weight\": 3821, \"acceleration\": 11.0, \"model_year\": 73, \"origin\": \"usa\", \"name\": \"amc ambassador brougham\", \"h1\": 175.0, \"h2\": 30625.0, \"h3\": 5359375.0, \"pred\": 13.471526553371092, \"label\": \"train\"}, {\"mpg\": 18.0, \"cylinders\": 6, \"displacement\": 225.0, \"horsepower\": 105.0, \"weight\": 3121, \"acceleration\": 16.5, \"model_year\": 73, \"origin\": \"usa\", \"name\": \"plymouth valiant\", \"h1\": 105.0, \"h2\": 11025.0, \"h3\": 1157625.0, \"pred\": 21.357727280939883, \"label\": \"train\"}, {\"mpg\": 16.0, \"cylinders\": 6, \"displacement\": 250.0, \"horsepower\": 100.0, \"weight\": 3278, \"acceleration\": 18.0, \"model_year\": 73, \"origin\": \"usa\", \"name\": \"chevrolet nova custom\", \"h1\": 100.0, \"h2\": 10000.0, \"h3\": 1000000.0, \"pred\": 22.420708236136647, \"label\": \"train\"}, {\"mpg\": 18.0, \"cylinders\": 6, \"displacement\": 232.0, \"horsepower\": 100.0, \"weight\": 2945, \"acceleration\": 16.0, \"model_year\": 73, \"origin\": \"usa\", \"name\": \"amc hornet\", \"h1\": 100.0, \"h2\": 10000.0, \"h3\": 1000000.0, \"pred\": 22.420708236136647, \"label\": \"train\"}, {\"mpg\": 18.0, \"cylinders\": 6, \"displacement\": 250.0, \"horsepower\": 88.0, \"weight\": 3021, \"acceleration\": 16.5, \"model_year\": 73, \"origin\": \"usa\", \"name\": \"ford maverick\", \"h1\": 88.0, \"h2\": 7744.0, \"h3\": 681472.0, \"pred\": 25.299610552266536, \"label\": \"train\"}, {\"mpg\": 23.0, \"cylinders\": 6, \"displacement\": 198.0, \"horsepower\": 95.0, \"weight\": 2904, \"acceleration\": 16.0, \"model_year\": 73, \"origin\": \"usa\", \"name\": \"plymouth duster\", \"h1\": 95.0, \"h2\": 9025.0, \"h3\": 857375.0, \"pred\": 23.562916785349927, \"label\": \"train\"}, {\"mpg\": 26.0, \"cylinders\": 4, \"displacement\": 97.0, \"horsepower\": 46.0, \"weight\": 1950, \"acceleration\": 21.0, \"model_year\": 73, \"origin\": \"europe\", \"name\": \"volkswagen super beetle\", \"h1\": 46.0, \"h2\": 2116.0, \"h3\": 97336.0, \"pred\": 39.44117951185239, \"label\": \"test\"}, {\"mpg\": 11.0, \"cylinders\": 8, \"displacement\": 400.0, \"horsepower\": 150.0, \"weight\": 4997, \"acceleration\": 14.0, \"model_year\": 73, \"origin\": \"usa\", \"name\": \"chevrolet impala\", \"h1\": 150.0, \"h2\": 22500.0, \"h3\": 3375000.0, \"pred\": 14.96622045084002, \"label\": \"train\"}, {\"mpg\": 12.0, \"cylinders\": 8, \"displacement\": 400.0, \"horsepower\": 167.0, \"weight\": 4906, \"acceleration\": 12.5, \"model_year\": 73, \"origin\": \"usa\", \"name\": \"ford country\", \"h1\": 167.0, \"h2\": 27889.0, \"h3\": 4657463.0, \"pred\": 13.816605020406783, \"label\": \"train\"}, {\"mpg\": 13.0, \"cylinders\": 8, \"displacement\": 360.0, \"horsepower\": 170.0, \"weight\": 4654, \"acceleration\": 13.0, \"model_year\": 73, \"origin\": \"usa\", \"name\": \"plymouth custom suburb\", \"h1\": 170.0, \"h2\": 28900.0, \"h3\": 4913000.0, \"pred\": 13.673452078564459, \"label\": \"train\"}, {\"mpg\": 12.0, \"cylinders\": 8, \"displacement\": 350.0, \"horsepower\": 180.0, \"weight\": 4499, \"acceleration\": 12.5, \"model_year\": 73, \"origin\": \"usa\", \"name\": \"oldsmobile vista cruiser\", \"h1\": 180.0, \"h2\": 32400.0, \"h3\": 5832000.0, \"pred\": 13.313381352733131, \"label\": \"train\"}, {\"mpg\": 18.0, \"cylinders\": 6, \"displacement\": 232.0, \"horsepower\": 100.0, \"weight\": 2789, \"acceleration\": 15.0, \"model_year\": 73, \"origin\": \"usa\", \"name\": \"amc gremlin\", \"h1\": 100.0, \"h2\": 10000.0, \"h3\": 1000000.0, \"pred\": 22.420708236136647, \"label\": \"train\"}, {\"mpg\": 20.0, \"cylinders\": 4, \"displacement\": 97.0, \"horsepower\": 88.0, \"weight\": 2279, \"acceleration\": 19.0, \"model_year\": 73, \"origin\": \"japan\", \"name\": \"toyota carina\", \"h1\": 88.0, \"h2\": 7744.0, \"h3\": 681472.0, \"pred\": 25.299610552266536, \"label\": \"train\"}, {\"mpg\": 21.0, \"cylinders\": 4, \"displacement\": 140.0, \"horsepower\": 72.0, \"weight\": 2401, \"acceleration\": 19.5, \"model_year\": 73, \"origin\": \"usa\", \"name\": \"chevrolet vega\", \"h1\": 72.0, \"h2\": 5184.0, \"h3\": 373248.0, \"pred\": 29.904489777827152, \"label\": \"train\"}, {\"mpg\": 22.0, \"cylinders\": 4, \"displacement\": 108.0, \"horsepower\": 94.0, \"weight\": 2379, \"acceleration\": 16.5, \"model_year\": 73, \"origin\": \"japan\", \"name\": \"datsun 610\", \"h1\": 94.0, \"h2\": 8836.0, \"h3\": 830584.0, \"pred\": 23.801073763788736, \"label\": \"train\"}, {\"mpg\": 18.0, \"cylinders\": 3, \"displacement\": 70.0, \"horsepower\": 90.0, \"weight\": 2124, \"acceleration\": 13.5, \"model_year\": 73, \"origin\": \"japan\", \"name\": \"maxda rx3\", \"h1\": 90.0, \"h2\": 8100.0, \"h3\": 729000.0, \"pred\": 24.786716079877138, \"label\": \"train\"}, {\"mpg\": 19.0, \"cylinders\": 4, \"displacement\": 122.0, \"horsepower\": 85.0, \"weight\": 2310, \"acceleration\": 18.5, \"model_year\": 73, \"origin\": \"usa\", \"name\": \"ford pinto\", \"h1\": 85.0, \"h2\": 7225.0, \"h3\": 614125.0, \"pred\": 26.094469271015683, \"label\": \"train\"}, {\"mpg\": 21.0, \"cylinders\": 6, \"displacement\": 155.0, \"horsepower\": 107.0, \"weight\": 2472, \"acceleration\": 14.0, \"model_year\": 73, \"origin\": \"usa\", \"name\": \"mercury capri v6\", \"h1\": 107.0, \"h2\": 11449.0, \"h3\": 1225043.0, \"pred\": 20.954189279295186, \"label\": \"train\"}, {\"mpg\": 26.0, \"cylinders\": 4, \"displacement\": 98.0, \"horsepower\": 90.0, \"weight\": 2265, \"acceleration\": 15.5, \"model_year\": 73, \"origin\": \"europe\", \"name\": \"fiat 124 sport coupe\", \"h1\": 90.0, \"h2\": 8100.0, \"h3\": 729000.0, \"pred\": 24.786716079877138, \"label\": \"test\"}, {\"mpg\": 15.0, \"cylinders\": 8, \"displacement\": 350.0, \"horsepower\": 145.0, \"weight\": 4082, \"acceleration\": 13.0, \"model_year\": 73, \"origin\": \"usa\", \"name\": \"chevrolet monte carlo s\", \"h1\": 145.0, \"h2\": 21025.0, \"h3\": 3048625.0, \"pred\": 15.422494868271478, \"label\": \"train\"}, {\"mpg\": 16.0, \"cylinders\": 8, \"displacement\": 400.0, \"horsepower\": 230.0, \"weight\": 4278, \"acceleration\": 9.5, \"model_year\": 73, \"origin\": \"usa\", \"name\": \"pontiac grand prix\", \"h1\": 230.0, \"h2\": 52900.0, \"h3\": 12167000.0, \"pred\": 13.619953911470475, \"label\": \"train\"}, {\"mpg\": 29.0, \"cylinders\": 4, \"displacement\": 68.0, \"horsepower\": 49.0, \"weight\": 1867, \"acceleration\": 19.5, \"model_year\": 73, \"origin\": \"europe\", \"name\": \"fiat 128\", \"h1\": 49.0, \"h2\": 2401.0, \"h3\": 117649.0, \"pred\": 38.2025426358316, \"label\": \"test\"}, {\"mpg\": 24.0, \"cylinders\": 4, \"displacement\": 116.0, \"horsepower\": 75.0, \"weight\": 2158, \"acceleration\": 15.5, \"model_year\": 73, \"origin\": \"europe\", \"name\": \"opel manta\", \"h1\": 75.0, \"h2\": 5625.0, \"h3\": 421875.0, \"pred\": 28.971289948316404, \"label\": \"train\"}, {\"mpg\": 20.0, \"cylinders\": 4, \"displacement\": 114.0, \"horsepower\": 91.0, \"weight\": 2582, \"acceleration\": 14.0, \"model_year\": 73, \"origin\": \"europe\", \"name\": \"audi 100ls\", \"h1\": 91.0, \"h2\": 8281.0, \"h3\": 753571.0, \"pred\": 24.535315530084304, \"label\": \"train\"}, {\"mpg\": 19.0, \"cylinders\": 4, \"displacement\": 121.0, \"horsepower\": 112.0, \"weight\": 2868, \"acceleration\": 15.5, \"model_year\": 73, \"origin\": \"europe\", \"name\": \"volvo 144ea\", \"h1\": 112.0, \"h2\": 12544.0, \"h3\": 1404928.0, \"pred\": 19.998156861541908, \"label\": \"train\"}, {\"mpg\": 15.0, \"cylinders\": 8, \"displacement\": 318.0, \"horsepower\": 150.0, \"weight\": 3399, \"acceleration\": 11.0, \"model_year\": 73, \"origin\": \"usa\", \"name\": \"dodge dart custom\", \"h1\": 150.0, \"h2\": 22500.0, \"h3\": 3375000.0, \"pred\": 14.96622045084002, \"label\": \"train\"}, {\"mpg\": 24.0, \"cylinders\": 4, \"displacement\": 121.0, \"horsepower\": 110.0, \"weight\": 2660, \"acceleration\": 14.0, \"model_year\": 73, \"origin\": \"europe\", \"name\": \"saab 99le\", \"h1\": 110.0, \"h2\": 12100.0, \"h3\": 1331000.0, \"pred\": 20.37161076846224, \"label\": \"train\"}, {\"mpg\": 20.0, \"cylinders\": 6, \"displacement\": 156.0, \"horsepower\": 122.0, \"weight\": 2807, \"acceleration\": 13.5, \"model_year\": 73, \"origin\": \"japan\", \"name\": \"toyota mark ii\", \"h1\": 122.0, \"h2\": 14884.0, \"h3\": 1815848.0, \"pred\": 18.304396967446152, \"label\": \"train\"}, {\"mpg\": 11.0, \"cylinders\": 8, \"displacement\": 350.0, \"horsepower\": 180.0, \"weight\": 3664, \"acceleration\": 11.0, \"model_year\": 73, \"origin\": \"usa\", \"name\": \"oldsmobile omega\", \"h1\": 180.0, \"h2\": 32400.0, \"h3\": 5832000.0, \"pred\": 13.313381352733131, \"label\": \"train\"}, {\"mpg\": 20.0, \"cylinders\": 6, \"displacement\": 198.0, \"horsepower\": 95.0, \"weight\": 3102, \"acceleration\": 16.5, \"model_year\": 74, \"origin\": \"usa\", \"name\": \"plymouth duster\", \"h1\": 95.0, \"h2\": 9025.0, \"h3\": 857375.0, \"pred\": 23.562916785349927, \"label\": \"test\"}, {\"mpg\": 19.0, \"cylinders\": 6, \"displacement\": 232.0, \"horsepower\": 100.0, \"weight\": 2901, \"acceleration\": 16.0, \"model_year\": 74, \"origin\": \"usa\", \"name\": \"amc hornet\", \"h1\": 100.0, \"h2\": 10000.0, \"h3\": 1000000.0, \"pred\": 22.420708236136647, \"label\": \"train\"}, {\"mpg\": 15.0, \"cylinders\": 6, \"displacement\": 250.0, \"horsepower\": 100.0, \"weight\": 3336, \"acceleration\": 17.0, \"model_year\": 74, \"origin\": \"usa\", \"name\": \"chevrolet nova\", \"h1\": 100.0, \"h2\": 10000.0, \"h3\": 1000000.0, \"pred\": 22.420708236136647, \"label\": \"train\"}, {\"mpg\": 31.0, \"cylinders\": 4, \"displacement\": 79.0, \"horsepower\": 67.0, \"weight\": 1950, \"acceleration\": 19.0, \"model_year\": 74, \"origin\": \"japan\", \"name\": \"datsun b210\", \"h1\": 67.0, \"h2\": 4489.0, \"h3\": 300763.0, \"pred\": 31.53404388950904, \"label\": \"train\"}, {\"mpg\": 26.0, \"cylinders\": 4, \"displacement\": 122.0, \"horsepower\": 80.0, \"weight\": 2451, \"acceleration\": 16.5, \"model_year\": 74, \"origin\": \"usa\", \"name\": \"ford pinto\", \"h1\": 80.0, \"h2\": 6400.0, \"h3\": 512000.0, \"pred\": 27.48853951006297, \"label\": \"train\"}, {\"mpg\": 32.0, \"cylinders\": 4, \"displacement\": 71.0, \"horsepower\": 65.0, \"weight\": 1836, \"acceleration\": 21.0, \"model_year\": 74, \"origin\": \"japan\", \"name\": \"toyota corolla 1200\", \"h1\": 65.0, \"h2\": 4225.0, \"h3\": 274625.0, \"pred\": 32.212284027631384, \"label\": \"train\"}, {\"mpg\": 25.0, \"cylinders\": 4, \"displacement\": 140.0, \"horsepower\": 75.0, \"weight\": 2542, \"acceleration\": 17.0, \"model_year\": 74, \"origin\": \"usa\", \"name\": \"chevrolet vega\", \"h1\": 75.0, \"h2\": 5625.0, \"h3\": 421875.0, \"pred\": 28.971289948316404, \"label\": \"train\"}, {\"mpg\": 16.0, \"cylinders\": 6, \"displacement\": 250.0, \"horsepower\": 100.0, \"weight\": 3781, \"acceleration\": 17.0, \"model_year\": 74, \"origin\": \"usa\", \"name\": \"chevrolet chevelle malibu classic\", \"h1\": 100.0, \"h2\": 10000.0, \"h3\": 1000000.0, \"pred\": 22.420708236136647, \"label\": \"train\"}, {\"mpg\": 16.0, \"cylinders\": 6, \"displacement\": 258.0, \"horsepower\": 110.0, \"weight\": 3632, \"acceleration\": 18.0, \"model_year\": 74, \"origin\": \"usa\", \"name\": \"amc matador\", \"h1\": 110.0, \"h2\": 12100.0, \"h3\": 1331000.0, \"pred\": 20.37161076846224, \"label\": \"train\"}, {\"mpg\": 18.0, \"cylinders\": 6, \"displacement\": 225.0, \"horsepower\": 105.0, \"weight\": 3613, \"acceleration\": 16.5, \"model_year\": 74, \"origin\": \"usa\", \"name\": \"plymouth satellite sebring\", \"h1\": 105.0, \"h2\": 11025.0, \"h3\": 1157625.0, \"pred\": 21.357727280939883, \"label\": \"train\"}, {\"mpg\": 16.0, \"cylinders\": 8, \"displacement\": 302.0, \"horsepower\": 140.0, \"weight\": 4141, \"acceleration\": 14.0, \"model_year\": 74, \"origin\": \"usa\", \"name\": \"ford gran torino\", \"h1\": 140.0, \"h2\": 19600.0, \"h3\": 2744000.0, \"pred\": 15.936728518042784, \"label\": \"train\"}, {\"mpg\": 13.0, \"cylinders\": 8, \"displacement\": 350.0, \"horsepower\": 150.0, \"weight\": 4699, \"acceleration\": 14.5, \"model_year\": 74, \"origin\": \"usa\", \"name\": \"buick century luxus (sw)\", \"h1\": 150.0, \"h2\": 22500.0, \"h3\": 3375000.0, \"pred\": 14.96622045084002, \"label\": \"train\"}, {\"mpg\": 14.0, \"cylinders\": 8, \"displacement\": 318.0, \"horsepower\": 150.0, \"weight\": 4457, \"acceleration\": 13.5, \"model_year\": 74, \"origin\": \"usa\", \"name\": \"dodge coronet custom (sw)\", \"h1\": 150.0, \"h2\": 22500.0, \"h3\": 3375000.0, \"pred\": 14.96622045084002, \"label\": \"train\"}, {\"mpg\": 14.0, \"cylinders\": 8, \"displacement\": 302.0, \"horsepower\": 140.0, \"weight\": 4638, \"acceleration\": 16.0, \"model_year\": 74, \"origin\": \"usa\", \"name\": \"ford gran torino (sw)\", \"h1\": 140.0, \"h2\": 19600.0, \"h3\": 2744000.0, \"pred\": 15.936728518042784, \"label\": \"test\"}, {\"mpg\": 14.0, \"cylinders\": 8, \"displacement\": 304.0, \"horsepower\": 150.0, \"weight\": 4257, \"acceleration\": 15.5, \"model_year\": 74, \"origin\": \"usa\", \"name\": \"amc matador (sw)\", \"h1\": 150.0, \"h2\": 22500.0, \"h3\": 3375000.0, \"pred\": 14.96622045084002, \"label\": \"train\"}, {\"mpg\": 29.0, \"cylinders\": 4, \"displacement\": 98.0, \"horsepower\": 83.0, \"weight\": 2219, \"acceleration\": 16.5, \"model_year\": 74, \"origin\": \"europe\", \"name\": \"audi fox\", \"h1\": 83.0, \"h2\": 6889.0, \"h3\": 571787.0, \"pred\": 26.641606984412896, \"label\": \"train\"}, {\"mpg\": 26.0, \"cylinders\": 4, \"displacement\": 79.0, \"horsepower\": 67.0, \"weight\": 1963, \"acceleration\": 15.5, \"model_year\": 74, \"origin\": \"europe\", \"name\": \"volkswagen dasher\", \"h1\": 67.0, \"h2\": 4489.0, \"h3\": 300763.0, \"pred\": 31.53404388950904, \"label\": \"test\"}, {\"mpg\": 26.0, \"cylinders\": 4, \"displacement\": 97.0, \"horsepower\": 78.0, \"weight\": 2300, \"acceleration\": 14.5, \"model_year\": 74, \"origin\": \"europe\", \"name\": \"opel manta\", \"h1\": 78.0, \"h2\": 6084.0, \"h3\": 474552.0, \"pred\": 28.070865724986945, \"label\": \"train\"}, {\"mpg\": 31.0, \"cylinders\": 4, \"displacement\": 76.0, \"horsepower\": 52.0, \"weight\": 1649, \"acceleration\": 16.5, \"model_year\": 74, \"origin\": \"japan\", \"name\": \"toyota corona\", \"h1\": 52.0, \"h2\": 2704.0, \"h3\": 140608.0, \"pred\": 37.00110518522083, \"label\": \"train\"}, {\"mpg\": 32.0, \"cylinders\": 4, \"displacement\": 83.0, \"horsepower\": 61.0, \"weight\": 2003, \"acceleration\": 19.0, \"model_year\": 74, \"origin\": \"japan\", \"name\": \"datsun 710\", \"h1\": 61.0, \"h2\": 3721.0, \"h3\": 226981.0, \"pred\": 33.61488497904631, \"label\": \"train\"}, {\"mpg\": 28.0, \"cylinders\": 4, \"displacement\": 90.0, \"horsepower\": 75.0, \"weight\": 2125, \"acceleration\": 14.5, \"model_year\": 74, \"origin\": \"usa\", \"name\": \"dodge colt\", \"h1\": 75.0, \"h2\": 5625.0, \"h3\": 421875.0, \"pred\": 28.971289948316404, \"label\": \"train\"}, {\"mpg\": 24.0, \"cylinders\": 4, \"displacement\": 90.0, \"horsepower\": 75.0, \"weight\": 2108, \"acceleration\": 15.5, \"model_year\": 74, \"origin\": \"europe\", \"name\": \"fiat 128\", \"h1\": 75.0, \"h2\": 5625.0, \"h3\": 421875.0, \"pred\": 28.971289948316404, \"label\": \"train\"}, {\"mpg\": 26.0, \"cylinders\": 4, \"displacement\": 116.0, \"horsepower\": 75.0, \"weight\": 2246, \"acceleration\": 14.0, \"model_year\": 74, \"origin\": \"europe\", \"name\": \"fiat 124 tc\", \"h1\": 75.0, \"h2\": 5625.0, \"h3\": 421875.0, \"pred\": 28.971289948316404, \"label\": \"train\"}, {\"mpg\": 24.0, \"cylinders\": 4, \"displacement\": 120.0, \"horsepower\": 97.0, \"weight\": 2489, \"acceleration\": 15.0, \"model_year\": 74, \"origin\": \"japan\", \"name\": \"honda civic\", \"h1\": 97.0, \"h2\": 9409.0, \"h3\": 912673.0, \"pred\": 23.096374812699608, \"label\": \"train\"}, {\"mpg\": 26.0, \"cylinders\": 4, \"displacement\": 108.0, \"horsepower\": 93.0, \"weight\": 2391, \"acceleration\": 15.5, \"model_year\": 74, \"origin\": \"japan\", \"name\": \"subaru\", \"h1\": 93.0, \"h2\": 8649.0, \"h3\": 804357.0, \"pred\": 24.042513277250485, \"label\": \"train\"}, {\"mpg\": 31.0, \"cylinders\": 4, \"displacement\": 79.0, \"horsepower\": 67.0, \"weight\": 2000, \"acceleration\": 16.0, \"model_year\": 74, \"origin\": \"europe\", \"name\": \"fiat x1.9\", \"h1\": 67.0, \"h2\": 4489.0, \"h3\": 300763.0, \"pred\": 31.53404388950904, \"label\": \"train\"}, {\"mpg\": 19.0, \"cylinders\": 6, \"displacement\": 225.0, \"horsepower\": 95.0, \"weight\": 3264, \"acceleration\": 16.0, \"model_year\": 75, \"origin\": \"usa\", \"name\": \"plymouth valiant custom\", \"h1\": 95.0, \"h2\": 9025.0, \"h3\": 857375.0, \"pred\": 23.562916785349927, \"label\": \"test\"}, {\"mpg\": 18.0, \"cylinders\": 6, \"displacement\": 250.0, \"horsepower\": 105.0, \"weight\": 3459, \"acceleration\": 16.0, \"model_year\": 75, \"origin\": \"usa\", \"name\": \"chevrolet nova\", \"h1\": 105.0, \"h2\": 11025.0, \"h3\": 1157625.0, \"pred\": 21.357727280939883, \"label\": \"train\"}, {\"mpg\": 15.0, \"cylinders\": 6, \"displacement\": 250.0, \"horsepower\": 72.0, \"weight\": 3432, \"acceleration\": 21.0, \"model_year\": 75, \"origin\": \"usa\", \"name\": \"mercury monarch\", \"h1\": 72.0, \"h2\": 5184.0, \"h3\": 373248.0, \"pred\": 29.904489777827152, \"label\": \"train\"}, {\"mpg\": 15.0, \"cylinders\": 6, \"displacement\": 250.0, \"horsepower\": 72.0, \"weight\": 3158, \"acceleration\": 19.5, \"model_year\": 75, \"origin\": \"usa\", \"name\": \"ford maverick\", \"h1\": 72.0, \"h2\": 5184.0, \"h3\": 373248.0, \"pred\": 29.904489777827152, \"label\": \"train\"}, {\"mpg\": 16.0, \"cylinders\": 8, \"displacement\": 400.0, \"horsepower\": 170.0, \"weight\": 4668, \"acceleration\": 11.5, \"model_year\": 75, \"origin\": \"usa\", \"name\": \"pontiac catalina\", \"h1\": 170.0, \"h2\": 28900.0, \"h3\": 4913000.0, \"pred\": 13.673452078564459, \"label\": \"train\"}, {\"mpg\": 15.0, \"cylinders\": 8, \"displacement\": 350.0, \"horsepower\": 145.0, \"weight\": 4440, \"acceleration\": 14.0, \"model_year\": 75, \"origin\": \"usa\", \"name\": \"chevrolet bel air\", \"h1\": 145.0, \"h2\": 21025.0, \"h3\": 3048625.0, \"pred\": 15.422494868271478, \"label\": \"test\"}, {\"mpg\": 16.0, \"cylinders\": 8, \"displacement\": 318.0, \"horsepower\": 150.0, \"weight\": 4498, \"acceleration\": 14.5, \"model_year\": 75, \"origin\": \"usa\", \"name\": \"plymouth grand fury\", \"h1\": 150.0, \"h2\": 22500.0, \"h3\": 3375000.0, \"pred\": 14.96622045084002, \"label\": \"train\"}, {\"mpg\": 14.0, \"cylinders\": 8, \"displacement\": 351.0, \"horsepower\": 148.0, \"weight\": 4657, \"acceleration\": 13.5, \"model_year\": 75, \"origin\": \"usa\", \"name\": \"ford ltd\", \"h1\": 148.0, \"h2\": 21904.0, \"h3\": 3241792.0, \"pred\": 15.141926351614856, \"label\": \"train\"}, {\"mpg\": 17.0, \"cylinders\": 6, \"displacement\": 231.0, \"horsepower\": 110.0, \"weight\": 3907, \"acceleration\": 21.0, \"model_year\": 75, \"origin\": \"usa\", \"name\": \"buick century\", \"h1\": 110.0, \"h2\": 12100.0, \"h3\": 1331000.0, \"pred\": 20.37161076846224, \"label\": \"train\"}, {\"mpg\": 16.0, \"cylinders\": 6, \"displacement\": 250.0, \"horsepower\": 105.0, \"weight\": 3897, \"acceleration\": 18.5, \"model_year\": 75, \"origin\": \"usa\", \"name\": \"chevroelt chevelle malibu\", \"h1\": 105.0, \"h2\": 11025.0, \"h3\": 1157625.0, \"pred\": 21.357727280939883, \"label\": \"train\"}, {\"mpg\": 15.0, \"cylinders\": 6, \"displacement\": 258.0, \"horsepower\": 110.0, \"weight\": 3730, \"acceleration\": 19.0, \"model_year\": 75, \"origin\": \"usa\", \"name\": \"amc matador\", \"h1\": 110.0, \"h2\": 12100.0, \"h3\": 1331000.0, \"pred\": 20.37161076846224, \"label\": \"train\"}, {\"mpg\": 18.0, \"cylinders\": 6, \"displacement\": 225.0, \"horsepower\": 95.0, \"weight\": 3785, \"acceleration\": 19.0, \"model_year\": 75, \"origin\": \"usa\", \"name\": \"plymouth fury\", \"h1\": 95.0, \"h2\": 9025.0, \"h3\": 857375.0, \"pred\": 23.562916785349927, \"label\": \"train\"}, {\"mpg\": 21.0, \"cylinders\": 6, \"displacement\": 231.0, \"horsepower\": 110.0, \"weight\": 3039, \"acceleration\": 15.0, \"model_year\": 75, \"origin\": \"usa\", \"name\": \"buick skyhawk\", \"h1\": 110.0, \"h2\": 12100.0, \"h3\": 1331000.0, \"pred\": 20.37161076846224, \"label\": \"train\"}, {\"mpg\": 20.0, \"cylinders\": 8, \"displacement\": 262.0, \"horsepower\": 110.0, \"weight\": 3221, \"acceleration\": 13.5, \"model_year\": 75, \"origin\": \"usa\", \"name\": \"chevrolet monza 2+2\", \"h1\": 110.0, \"h2\": 12100.0, \"h3\": 1331000.0, \"pred\": 20.37161076846224, \"label\": \"train\"}, {\"mpg\": 13.0, \"cylinders\": 8, \"displacement\": 302.0, \"horsepower\": 129.0, \"weight\": 3169, \"acceleration\": 12.0, \"model_year\": 75, \"origin\": \"usa\", \"name\": \"ford mustang ii\", \"h1\": 129.0, \"h2\": 16641.0, \"h3\": 2146689.0, \"pred\": 17.28370465496954, \"label\": \"train\"}, {\"mpg\": 29.0, \"cylinders\": 4, \"displacement\": 97.0, \"horsepower\": 75.0, \"weight\": 2171, \"acceleration\": 16.0, \"model_year\": 75, \"origin\": \"japan\", \"name\": \"toyota corolla\", \"h1\": 75.0, \"h2\": 5625.0, \"h3\": 421875.0, \"pred\": 28.971289948316404, \"label\": \"test\"}, {\"mpg\": 23.0, \"cylinders\": 4, \"displacement\": 140.0, \"horsepower\": 83.0, \"weight\": 2639, \"acceleration\": 17.0, \"model_year\": 75, \"origin\": \"usa\", \"name\": \"ford pinto\", \"h1\": 83.0, \"h2\": 6889.0, \"h3\": 571787.0, \"pred\": 26.641606984412896, \"label\": \"train\"}, {\"mpg\": 20.0, \"cylinders\": 6, \"displacement\": 232.0, \"horsepower\": 100.0, \"weight\": 2914, \"acceleration\": 16.0, \"model_year\": 75, \"origin\": \"usa\", \"name\": \"amc gremlin\", \"h1\": 100.0, \"h2\": 10000.0, \"h3\": 1000000.0, \"pred\": 22.420708236136647, \"label\": \"train\"}, {\"mpg\": 23.0, \"cylinders\": 4, \"displacement\": 140.0, \"horsepower\": 78.0, \"weight\": 2592, \"acceleration\": 18.5, \"model_year\": 75, \"origin\": \"usa\", \"name\": \"pontiac astro\", \"h1\": 78.0, \"h2\": 6084.0, \"h3\": 474552.0, \"pred\": 28.070865724986945, \"label\": \"train\"}, {\"mpg\": 24.0, \"cylinders\": 4, \"displacement\": 134.0, \"horsepower\": 96.0, \"weight\": 2702, \"acceleration\": 13.5, \"model_year\": 75, \"origin\": \"japan\", \"name\": \"toyota corona\", \"h1\": 96.0, \"h2\": 9216.0, \"h3\": 884736.0, \"pred\": 23.328023436723683, \"label\": \"train\"}, {\"mpg\": 25.0, \"cylinders\": 4, \"displacement\": 90.0, \"horsepower\": 71.0, \"weight\": 2223, \"acceleration\": 16.5, \"model_year\": 75, \"origin\": \"europe\", \"name\": \"volkswagen dasher\", \"h1\": 71.0, \"h2\": 5041.0, \"h3\": 357911.0, \"pred\": 30.222928080019443, \"label\": \"train\"}, {\"mpg\": 24.0, \"cylinders\": 4, \"displacement\": 119.0, \"horsepower\": 97.0, \"weight\": 2545, \"acceleration\": 17.0, \"model_year\": 75, \"origin\": \"japan\", \"name\": \"datsun 710\", \"h1\": 97.0, \"h2\": 9409.0, \"h3\": 912673.0, \"pred\": 23.096374812699608, \"label\": \"train\"}, {\"mpg\": 18.0, \"cylinders\": 6, \"displacement\": 171.0, \"horsepower\": 97.0, \"weight\": 2984, \"acceleration\": 14.5, \"model_year\": 75, \"origin\": \"usa\", \"name\": \"ford pinto\", \"h1\": 97.0, \"h2\": 9409.0, \"h3\": 912673.0, \"pred\": 23.096374812699608, \"label\": \"train\"}, {\"mpg\": 29.0, \"cylinders\": 4, \"displacement\": 90.0, \"horsepower\": 70.0, \"weight\": 1937, \"acceleration\": 14.0, \"model_year\": 75, \"origin\": \"europe\", \"name\": \"volkswagen rabbit\", \"h1\": 70.0, \"h2\": 4900.0, \"h3\": 343000.0, \"pred\": 30.545083737073405, \"label\": \"train\"}, {\"mpg\": 19.0, \"cylinders\": 6, \"displacement\": 232.0, \"horsepower\": 90.0, \"weight\": 3211, \"acceleration\": 17.0, \"model_year\": 75, \"origin\": \"usa\", \"name\": \"amc pacer\", \"h1\": 90.0, \"h2\": 8100.0, \"h3\": 729000.0, \"pred\": 24.786716079877138, \"label\": \"train\"}, {\"mpg\": 23.0, \"cylinders\": 4, \"displacement\": 115.0, \"horsepower\": 95.0, \"weight\": 2694, \"acceleration\": 15.0, \"model_year\": 75, \"origin\": \"europe\", \"name\": \"audi 100ls\", \"h1\": 95.0, \"h2\": 9025.0, \"h3\": 857375.0, \"pred\": 23.562916785349927, \"label\": \"train\"}, {\"mpg\": 23.0, \"cylinders\": 4, \"displacement\": 120.0, \"horsepower\": 88.0, \"weight\": 2957, \"acceleration\": 17.0, \"model_year\": 75, \"origin\": \"europe\", \"name\": \"peugeot 504\", \"h1\": 88.0, \"h2\": 7744.0, \"h3\": 681472.0, \"pred\": 25.299610552266536, \"label\": \"train\"}, {\"mpg\": 22.0, \"cylinders\": 4, \"displacement\": 121.0, \"horsepower\": 98.0, \"weight\": 2945, \"acceleration\": 14.5, \"model_year\": 75, \"origin\": \"europe\", \"name\": \"volvo 244dl\", \"h1\": 98.0, \"h2\": 9604.0, \"h3\": 941192.0, \"pred\": 22.867952008067327, \"label\": \"train\"}, {\"mpg\": 25.0, \"cylinders\": 4, \"displacement\": 121.0, \"horsepower\": 115.0, \"weight\": 2671, \"acceleration\": 13.5, \"model_year\": 75, \"origin\": \"europe\", \"name\": \"saab 99le\", \"h1\": 115.0, \"h2\": 13225.0, \"h3\": 1520875.0, \"pred\": 19.459995547406287, \"label\": \"train\"}, {\"mpg\": 33.0, \"cylinders\": 4, \"displacement\": 91.0, \"horsepower\": 53.0, \"weight\": 1795, \"acceleration\": 17.5, \"model_year\": 75, \"origin\": \"japan\", \"name\": \"honda civic cvcc\", \"h1\": 53.0, \"h2\": 2809.0, \"h3\": 148877.0, \"pred\": 36.608804349682146, \"label\": \"train\"}, {\"mpg\": 28.0, \"cylinders\": 4, \"displacement\": 107.0, \"horsepower\": 86.0, \"weight\": 2464, \"acceleration\": 15.5, \"model_year\": 76, \"origin\": \"europe\", \"name\": \"fiat 131\", \"h1\": 86.0, \"h2\": 7396.0, \"h3\": 636056.0, \"pred\": 25.826088889796786, \"label\": \"train\"}, {\"mpg\": 25.0, \"cylinders\": 4, \"displacement\": 116.0, \"horsepower\": 81.0, \"weight\": 2220, \"acceleration\": 16.9, \"model_year\": 76, \"origin\": \"europe\", \"name\": \"opel 1900\", \"h1\": 81.0, \"h2\": 6561.0, \"h3\": 531441.0, \"pred\": 27.202706667158537, \"label\": \"train\"}, {\"mpg\": 25.0, \"cylinders\": 4, \"displacement\": 140.0, \"horsepower\": 92.0, \"weight\": 2572, \"acceleration\": 14.9, \"model_year\": 76, \"origin\": \"usa\", \"name\": \"capri ii\", \"h1\": 92.0, \"h2\": 8464.0, \"h3\": 778688.0, \"pred\": 24.28725423094555, \"label\": \"train\"}, {\"mpg\": 26.0, \"cylinders\": 4, \"displacement\": 98.0, \"horsepower\": 79.0, \"weight\": 2255, \"acceleration\": 17.7, \"model_year\": 76, \"origin\": \"usa\", \"name\": \"dodge colt\", \"h1\": 79.0, \"h2\": 6241.0, \"h3\": 493039.0, \"pred\": 27.777919560935644, \"label\": \"train\"}, {\"mpg\": 27.0, \"cylinders\": 4, \"displacement\": 101.0, \"horsepower\": 83.0, \"weight\": 2202, \"acceleration\": 15.3, \"model_year\": 76, \"origin\": \"europe\", \"name\": \"renault 12tl\", \"h1\": 83.0, \"h2\": 6889.0, \"h3\": 571787.0, \"pred\": 26.641606984412896, \"label\": \"train\"}, {\"mpg\": 17.5, \"cylinders\": 8, \"displacement\": 305.0, \"horsepower\": 140.0, \"weight\": 4215, \"acceleration\": 13.0, \"model_year\": 76, \"origin\": \"usa\", \"name\": \"chevrolet chevelle malibu classic\", \"h1\": 140.0, \"h2\": 19600.0, \"h3\": 2744000.0, \"pred\": 15.936728518042784, \"label\": \"train\"}, {\"mpg\": 16.0, \"cylinders\": 8, \"displacement\": 318.0, \"horsepower\": 150.0, \"weight\": 4190, \"acceleration\": 13.0, \"model_year\": 76, \"origin\": \"usa\", \"name\": \"dodge coronet brougham\", \"h1\": 150.0, \"h2\": 22500.0, \"h3\": 3375000.0, \"pred\": 14.96622045084002, \"label\": \"train\"}, {\"mpg\": 15.5, \"cylinders\": 8, \"displacement\": 304.0, \"horsepower\": 120.0, \"weight\": 3962, \"acceleration\": 13.9, \"model_year\": 76, \"origin\": \"usa\", \"name\": \"amc matador\", \"h1\": 120.0, \"h2\": 14400.0, \"h3\": 1728000.0, \"pred\": 18.62051846647463, \"label\": \"train\"}, {\"mpg\": 14.5, \"cylinders\": 8, \"displacement\": 351.0, \"horsepower\": 152.0, \"weight\": 4215, \"acceleration\": 12.8, \"model_year\": 76, \"origin\": \"usa\", \"name\": \"ford gran torino\", \"h1\": 152.0, \"h2\": 23104.0, \"h3\": 3511808.0, \"pred\": 14.799409923031973, \"label\": \"train\"}, {\"mpg\": 22.0, \"cylinders\": 6, \"displacement\": 225.0, \"horsepower\": 100.0, \"weight\": 3233, \"acceleration\": 15.4, \"model_year\": 76, \"origin\": \"usa\", \"name\": \"plymouth valiant\", \"h1\": 100.0, \"h2\": 10000.0, \"h3\": 1000000.0, \"pred\": 22.420708236136647, \"label\": \"train\"}, {\"mpg\": 22.0, \"cylinders\": 6, \"displacement\": 250.0, \"horsepower\": 105.0, \"weight\": 3353, \"acceleration\": 14.5, \"model_year\": 76, \"origin\": \"usa\", \"name\": \"chevrolet nova\", \"h1\": 105.0, \"h2\": 11025.0, \"h3\": 1157625.0, \"pred\": 21.357727280939883, \"label\": \"train\"}, {\"mpg\": 24.0, \"cylinders\": 6, \"displacement\": 200.0, \"horsepower\": 81.0, \"weight\": 3012, \"acceleration\": 17.6, \"model_year\": 76, \"origin\": \"usa\", \"name\": \"ford maverick\", \"h1\": 81.0, \"h2\": 6561.0, \"h3\": 531441.0, \"pred\": 27.202706667158537, \"label\": \"train\"}, {\"mpg\": 22.5, \"cylinders\": 6, \"displacement\": 232.0, \"horsepower\": 90.0, \"weight\": 3085, \"acceleration\": 17.6, \"model_year\": 76, \"origin\": \"usa\", \"name\": \"amc hornet\", \"h1\": 90.0, \"h2\": 8100.0, \"h3\": 729000.0, \"pred\": 24.786716079877138, \"label\": \"train\"}, {\"mpg\": 29.0, \"cylinders\": 4, \"displacement\": 85.0, \"horsepower\": 52.0, \"weight\": 2035, \"acceleration\": 22.2, \"model_year\": 76, \"origin\": \"usa\", \"name\": \"chevrolet chevette\", \"h1\": 52.0, \"h2\": 2704.0, \"h3\": 140608.0, \"pred\": 37.00110518522083, \"label\": \"train\"}, {\"mpg\": 24.5, \"cylinders\": 4, \"displacement\": 98.0, \"horsepower\": 60.0, \"weight\": 2164, \"acceleration\": 22.1, \"model_year\": 76, \"origin\": \"usa\", \"name\": \"chevrolet woody\", \"h1\": 60.0, \"h2\": 3600.0, \"h3\": 216000.0, \"pred\": 33.97525397128773, \"label\": \"train\"}, {\"mpg\": 29.0, \"cylinders\": 4, \"displacement\": 90.0, \"horsepower\": 70.0, \"weight\": 1937, \"acceleration\": 14.2, \"model_year\": 76, \"origin\": \"europe\", \"name\": \"vw rabbit\", \"h1\": 70.0, \"h2\": 4900.0, \"h3\": 343000.0, \"pred\": 30.545083737073405, \"label\": \"train\"}, {\"mpg\": 33.0, \"cylinders\": 4, \"displacement\": 91.0, \"horsepower\": 53.0, \"weight\": 1795, \"acceleration\": 17.4, \"model_year\": 76, \"origin\": \"japan\", \"name\": \"honda civic\", \"h1\": 53.0, \"h2\": 2809.0, \"h3\": 148877.0, \"pred\": 36.608804349682146, \"label\": \"train\"}, {\"mpg\": 20.0, \"cylinders\": 6, \"displacement\": 225.0, \"horsepower\": 100.0, \"weight\": 3651, \"acceleration\": 17.7, \"model_year\": 76, \"origin\": \"usa\", \"name\": \"dodge aspen se\", \"h1\": 100.0, \"h2\": 10000.0, \"h3\": 1000000.0, \"pred\": 22.420708236136647, \"label\": \"train\"}, {\"mpg\": 18.0, \"cylinders\": 6, \"displacement\": 250.0, \"horsepower\": 78.0, \"weight\": 3574, \"acceleration\": 21.0, \"model_year\": 76, \"origin\": \"usa\", \"name\": \"ford granada ghia\", \"h1\": 78.0, \"h2\": 6084.0, \"h3\": 474552.0, \"pred\": 28.070865724986945, \"label\": \"train\"}, {\"mpg\": 18.5, \"cylinders\": 6, \"displacement\": 250.0, \"horsepower\": 110.0, \"weight\": 3645, \"acceleration\": 16.2, \"model_year\": 76, \"origin\": \"usa\", \"name\": \"pontiac ventura sj\", \"h1\": 110.0, \"h2\": 12100.0, \"h3\": 1331000.0, \"pred\": 20.37161076846224, \"label\": \"train\"}, {\"mpg\": 17.5, \"cylinders\": 6, \"displacement\": 258.0, \"horsepower\": 95.0, \"weight\": 3193, \"acceleration\": 17.8, \"model_year\": 76, \"origin\": \"usa\", \"name\": \"amc pacer d/l\", \"h1\": 95.0, \"h2\": 9025.0, \"h3\": 857375.0, \"pred\": 23.562916785349927, \"label\": \"train\"}, {\"mpg\": 29.5, \"cylinders\": 4, \"displacement\": 97.0, \"horsepower\": 71.0, \"weight\": 1825, \"acceleration\": 12.2, \"model_year\": 76, \"origin\": \"europe\", \"name\": \"volkswagen rabbit\", \"h1\": 71.0, \"h2\": 5041.0, \"h3\": 357911.0, \"pred\": 30.222928080019443, \"label\": \"train\"}, {\"mpg\": 32.0, \"cylinders\": 4, \"displacement\": 85.0, \"horsepower\": 70.0, \"weight\": 1990, \"acceleration\": 17.0, \"model_year\": 76, \"origin\": \"japan\", \"name\": \"datsun b-210\", \"h1\": 70.0, \"h2\": 4900.0, \"h3\": 343000.0, \"pred\": 30.545083737073405, \"label\": \"train\"}, {\"mpg\": 28.0, \"cylinders\": 4, \"displacement\": 97.0, \"horsepower\": 75.0, \"weight\": 2155, \"acceleration\": 16.4, \"model_year\": 76, \"origin\": \"japan\", \"name\": \"toyota corolla\", \"h1\": 75.0, \"h2\": 5625.0, \"h3\": 421875.0, \"pred\": 28.971289948316404, \"label\": \"test\"}, {\"mpg\": 26.5, \"cylinders\": 4, \"displacement\": 140.0, \"horsepower\": 72.0, \"weight\": 2565, \"acceleration\": 13.6, \"model_year\": 76, \"origin\": \"usa\", \"name\": \"ford pinto\", \"h1\": 72.0, \"h2\": 5184.0, \"h3\": 373248.0, \"pred\": 29.904489777827152, \"label\": \"train\"}, {\"mpg\": 20.0, \"cylinders\": 4, \"displacement\": 130.0, \"horsepower\": 102.0, \"weight\": 3150, \"acceleration\": 15.7, \"model_year\": 76, \"origin\": \"europe\", \"name\": \"volvo 245\", \"h1\": 102.0, \"h2\": 10404.0, \"h3\": 1061208.0, \"pred\": 21.986140879248616, \"label\": \"train\"}, {\"mpg\": 13.0, \"cylinders\": 8, \"displacement\": 318.0, \"horsepower\": 150.0, \"weight\": 3940, \"acceleration\": 13.2, \"model_year\": 76, \"origin\": \"usa\", \"name\": \"plymouth volare premier v8\", \"h1\": 150.0, \"h2\": 22500.0, \"h3\": 3375000.0, \"pred\": 14.96622045084002, \"label\": \"train\"}, {\"mpg\": 19.0, \"cylinders\": 4, \"displacement\": 120.0, \"horsepower\": 88.0, \"weight\": 3270, \"acceleration\": 21.9, \"model_year\": 76, \"origin\": \"europe\", \"name\": \"peugeot 504\", \"h1\": 88.0, \"h2\": 7744.0, \"h3\": 681472.0, \"pred\": 25.299610552266536, \"label\": \"train\"}, {\"mpg\": 19.0, \"cylinders\": 6, \"displacement\": 156.0, \"horsepower\": 108.0, \"weight\": 2930, \"acceleration\": 15.5, \"model_year\": 76, \"origin\": \"japan\", \"name\": \"toyota mark ii\", \"h1\": 108.0, \"h2\": 11664.0, \"h3\": 1259712.0, \"pred\": 20.756984882010038, \"label\": \"test\"}, {\"mpg\": 16.5, \"cylinders\": 6, \"displacement\": 168.0, \"horsepower\": 120.0, \"weight\": 3820, \"acceleration\": 16.7, \"model_year\": 76, \"origin\": \"europe\", \"name\": \"mercedes-benz 280s\", \"h1\": 120.0, \"h2\": 14400.0, \"h3\": 1728000.0, \"pred\": 18.62051846647463, \"label\": \"train\"}, {\"mpg\": 16.5, \"cylinders\": 8, \"displacement\": 350.0, \"horsepower\": 180.0, \"weight\": 4380, \"acceleration\": 12.1, \"model_year\": 76, \"origin\": \"usa\", \"name\": \"cadillac seville\", \"h1\": 180.0, \"h2\": 32400.0, \"h3\": 5832000.0, \"pred\": 13.313381352733131, \"label\": \"train\"}, {\"mpg\": 13.0, \"cylinders\": 8, \"displacement\": 350.0, \"horsepower\": 145.0, \"weight\": 4055, \"acceleration\": 12.0, \"model_year\": 76, \"origin\": \"usa\", \"name\": \"chevy c10\", \"h1\": 145.0, \"h2\": 21025.0, \"h3\": 3048625.0, \"pred\": 15.422494868271478, \"label\": \"train\"}, {\"mpg\": 13.0, \"cylinders\": 8, \"displacement\": 302.0, \"horsepower\": 130.0, \"weight\": 3870, \"acceleration\": 15.0, \"model_year\": 76, \"origin\": \"usa\", \"name\": \"ford f108\", \"h1\": 130.0, \"h2\": 16900.0, \"h3\": 2197000.0, \"pred\": 17.148526119794568, \"label\": \"train\"}, {\"mpg\": 13.0, \"cylinders\": 8, \"displacement\": 318.0, \"horsepower\": 150.0, \"weight\": 3755, \"acceleration\": 14.0, \"model_year\": 76, \"origin\": \"usa\", \"name\": \"dodge d100\", \"h1\": 150.0, \"h2\": 22500.0, \"h3\": 3375000.0, \"pred\": 14.96622045084002, \"label\": \"train\"}, {\"mpg\": 31.5, \"cylinders\": 4, \"displacement\": 98.0, \"horsepower\": 68.0, \"weight\": 2045, \"acceleration\": 18.5, \"model_year\": 77, \"origin\": \"japan\", \"name\": \"honda accord cvcc\", \"h1\": 68.0, \"h2\": 4624.0, \"h3\": 314432.0, \"pred\": 31.200622736607826, \"label\": \"train\"}, {\"mpg\": 30.0, \"cylinders\": 4, \"displacement\": 111.0, \"horsepower\": 80.0, \"weight\": 2155, \"acceleration\": 14.8, \"model_year\": 77, \"origin\": \"usa\", \"name\": \"buick opel isuzu deluxe\", \"h1\": 80.0, \"h2\": 6400.0, \"h3\": 512000.0, \"pred\": 27.48853951006297, \"label\": \"train\"}, {\"mpg\": 36.0, \"cylinders\": 4, \"displacement\": 79.0, \"horsepower\": 58.0, \"weight\": 1825, \"acceleration\": 18.6, \"model_year\": 77, \"origin\": \"europe\", \"name\": \"renault 5 gtl\", \"h1\": 58.0, \"h2\": 3364.0, \"h3\": 195112.0, \"pred\": 34.707786797508426, \"label\": \"train\"}, {\"mpg\": 25.5, \"cylinders\": 4, \"displacement\": 122.0, \"horsepower\": 96.0, \"weight\": 2300, \"acceleration\": 15.5, \"model_year\": 77, \"origin\": \"usa\", \"name\": \"plymouth arrow gs\", \"h1\": 96.0, \"h2\": 9216.0, \"h3\": 884736.0, \"pred\": 23.328023436723683, \"label\": \"train\"}, {\"mpg\": 33.5, \"cylinders\": 4, \"displacement\": 85.0, \"horsepower\": 70.0, \"weight\": 1945, \"acceleration\": 16.8, \"model_year\": 77, \"origin\": \"japan\", \"name\": \"datsun f-10 hatchback\", \"h1\": 70.0, \"h2\": 4900.0, \"h3\": 343000.0, \"pred\": 30.545083737073405, \"label\": \"train\"}, {\"mpg\": 17.5, \"cylinders\": 8, \"displacement\": 305.0, \"horsepower\": 145.0, \"weight\": 3880, \"acceleration\": 12.5, \"model_year\": 77, \"origin\": \"usa\", \"name\": \"chevrolet caprice classic\", \"h1\": 145.0, \"h2\": 21025.0, \"h3\": 3048625.0, \"pred\": 15.422494868271478, \"label\": \"train\"}, {\"mpg\": 17.0, \"cylinders\": 8, \"displacement\": 260.0, \"horsepower\": 110.0, \"weight\": 4060, \"acceleration\": 19.0, \"model_year\": 77, \"origin\": \"usa\", \"name\": \"oldsmobile cutlass supreme\", \"h1\": 110.0, \"h2\": 12100.0, \"h3\": 1331000.0, \"pred\": 20.37161076846224, \"label\": \"train\"}, {\"mpg\": 15.5, \"cylinders\": 8, \"displacement\": 318.0, \"horsepower\": 145.0, \"weight\": 4140, \"acceleration\": 13.7, \"model_year\": 77, \"origin\": \"usa\", \"name\": \"dodge monaco brougham\", \"h1\": 145.0, \"h2\": 21025.0, \"h3\": 3048625.0, \"pred\": 15.422494868271478, \"label\": \"train\"}, {\"mpg\": 15.0, \"cylinders\": 8, \"displacement\": 302.0, \"horsepower\": 130.0, \"weight\": 4295, \"acceleration\": 14.9, \"model_year\": 77, \"origin\": \"usa\", \"name\": \"mercury cougar brougham\", \"h1\": 130.0, \"h2\": 16900.0, \"h3\": 2197000.0, \"pred\": 17.148526119794568, \"label\": \"train\"}, {\"mpg\": 17.5, \"cylinders\": 6, \"displacement\": 250.0, \"horsepower\": 110.0, \"weight\": 3520, \"acceleration\": 16.4, \"model_year\": 77, \"origin\": \"usa\", \"name\": \"chevrolet concours\", \"h1\": 110.0, \"h2\": 12100.0, \"h3\": 1331000.0, \"pred\": 20.37161076846224, \"label\": \"train\"}, {\"mpg\": 20.5, \"cylinders\": 6, \"displacement\": 231.0, \"horsepower\": 105.0, \"weight\": 3425, \"acceleration\": 16.9, \"model_year\": 77, \"origin\": \"usa\", \"name\": \"buick skylark\", \"h1\": 105.0, \"h2\": 11025.0, \"h3\": 1157625.0, \"pred\": 21.357727280939883, \"label\": \"train\"}, {\"mpg\": 19.0, \"cylinders\": 6, \"displacement\": 225.0, \"horsepower\": 100.0, \"weight\": 3630, \"acceleration\": 17.7, \"model_year\": 77, \"origin\": \"usa\", \"name\": \"plymouth volare custom\", \"h1\": 100.0, \"h2\": 10000.0, \"h3\": 1000000.0, \"pred\": 22.420708236136647, \"label\": \"train\"}, {\"mpg\": 18.5, \"cylinders\": 6, \"displacement\": 250.0, \"horsepower\": 98.0, \"weight\": 3525, \"acceleration\": 19.0, \"model_year\": 77, \"origin\": \"usa\", \"name\": \"ford granada\", \"h1\": 98.0, \"h2\": 9604.0, \"h3\": 941192.0, \"pred\": 22.867952008067327, \"label\": \"train\"}, {\"mpg\": 16.0, \"cylinders\": 8, \"displacement\": 400.0, \"horsepower\": 180.0, \"weight\": 4220, \"acceleration\": 11.1, \"model_year\": 77, \"origin\": \"usa\", \"name\": \"pontiac grand prix lj\", \"h1\": 180.0, \"h2\": 32400.0, \"h3\": 5832000.0, \"pred\": 13.313381352733131, \"label\": \"train\"}, {\"mpg\": 15.5, \"cylinders\": 8, \"displacement\": 350.0, \"horsepower\": 170.0, \"weight\": 4165, \"acceleration\": 11.4, \"model_year\": 77, \"origin\": \"usa\", \"name\": \"chevrolet monte carlo landau\", \"h1\": 170.0, \"h2\": 28900.0, \"h3\": 4913000.0, \"pred\": 13.673452078564459, \"label\": \"train\"}, {\"mpg\": 15.5, \"cylinders\": 8, \"displacement\": 400.0, \"horsepower\": 190.0, \"weight\": 4325, \"acceleration\": 12.2, \"model_year\": 77, \"origin\": \"usa\", \"name\": \"chrysler cordoba\", \"h1\": 190.0, \"h2\": 36100.0, \"h3\": 6859000.0, \"pred\": 13.118979319933764, \"label\": \"train\"}, {\"mpg\": 16.0, \"cylinders\": 8, \"displacement\": 351.0, \"horsepower\": 149.0, \"weight\": 4335, \"acceleration\": 14.5, \"model_year\": 77, \"origin\": \"usa\", \"name\": \"ford thunderbird\", \"h1\": 149.0, \"h2\": 22201.0, \"h3\": 3307949.0, \"pred\": 15.052952027001396, \"label\": \"train\"}, {\"mpg\": 29.0, \"cylinders\": 4, \"displacement\": 97.0, \"horsepower\": 78.0, \"weight\": 1940, \"acceleration\": 14.5, \"model_year\": 77, \"origin\": \"europe\", \"name\": \"volkswagen rabbit custom\", \"h1\": 78.0, \"h2\": 6084.0, \"h3\": 474552.0, \"pred\": 28.070865724986945, \"label\": \"train\"}, {\"mpg\": 24.5, \"cylinders\": 4, \"displacement\": 151.0, \"horsepower\": 88.0, \"weight\": 2740, \"acceleration\": 16.0, \"model_year\": 77, \"origin\": \"usa\", \"name\": \"pontiac sunbird coupe\", \"h1\": 88.0, \"h2\": 7744.0, \"h3\": 681472.0, \"pred\": 25.299610552266536, \"label\": \"train\"}, {\"mpg\": 26.0, \"cylinders\": 4, \"displacement\": 97.0, \"horsepower\": 75.0, \"weight\": 2265, \"acceleration\": 18.2, \"model_year\": 77, \"origin\": \"japan\", \"name\": \"toyota corolla liftback\", \"h1\": 75.0, \"h2\": 5625.0, \"h3\": 421875.0, \"pred\": 28.971289948316404, \"label\": \"test\"}, {\"mpg\": 25.5, \"cylinders\": 4, \"displacement\": 140.0, \"horsepower\": 89.0, \"weight\": 2755, \"acceleration\": 15.8, \"model_year\": 77, \"origin\": \"usa\", \"name\": \"ford mustang ii 2+2\", \"h1\": 89.0, \"h2\": 7921.0, \"h3\": 704969.0, \"pred\": 25.04147478553442, \"label\": \"train\"}, {\"mpg\": 30.5, \"cylinders\": 4, \"displacement\": 98.0, \"horsepower\": 63.0, \"weight\": 2051, \"acceleration\": 17.0, \"model_year\": 77, \"origin\": \"usa\", \"name\": \"chevrolet chevette\", \"h1\": 63.0, \"h2\": 3969.0, \"h3\": 250047.0, \"pred\": 32.905847310249456, \"label\": \"train\"}, {\"mpg\": 33.5, \"cylinders\": 4, \"displacement\": 98.0, \"horsepower\": 83.0, \"weight\": 2075, \"acceleration\": 15.9, \"model_year\": 77, \"origin\": \"usa\", \"name\": \"dodge colt m/m\", \"h1\": 83.0, \"h2\": 6889.0, \"h3\": 571787.0, \"pred\": 26.641606984412896, \"label\": \"train\"}, {\"mpg\": 30.0, \"cylinders\": 4, \"displacement\": 97.0, \"horsepower\": 67.0, \"weight\": 1985, \"acceleration\": 16.4, \"model_year\": 77, \"origin\": \"japan\", \"name\": \"subaru dl\", \"h1\": 67.0, \"h2\": 4489.0, \"h3\": 300763.0, \"pred\": 31.53404388950904, \"label\": \"train\"}, {\"mpg\": 30.5, \"cylinders\": 4, \"displacement\": 97.0, \"horsepower\": 78.0, \"weight\": 2190, \"acceleration\": 14.1, \"model_year\": 77, \"origin\": \"europe\", \"name\": \"volkswagen dasher\", \"h1\": 78.0, \"h2\": 6084.0, \"h3\": 474552.0, \"pred\": 28.070865724986945, \"label\": \"train\"}, {\"mpg\": 22.0, \"cylinders\": 6, \"displacement\": 146.0, \"horsepower\": 97.0, \"weight\": 2815, \"acceleration\": 14.5, \"model_year\": 77, \"origin\": \"japan\", \"name\": \"datsun 810\", \"h1\": 97.0, \"h2\": 9409.0, \"h3\": 912673.0, \"pred\": 23.096374812699608, \"label\": \"train\"}, {\"mpg\": 21.5, \"cylinders\": 4, \"displacement\": 121.0, \"horsepower\": 110.0, \"weight\": 2600, \"acceleration\": 12.8, \"model_year\": 77, \"origin\": \"europe\", \"name\": \"bmw 320i\", \"h1\": 110.0, \"h2\": 12100.0, \"h3\": 1331000.0, \"pred\": 20.37161076846224, \"label\": \"train\"}, {\"mpg\": 21.5, \"cylinders\": 3, \"displacement\": 80.0, \"horsepower\": 110.0, \"weight\": 2720, \"acceleration\": 13.5, \"model_year\": 77, \"origin\": \"japan\", \"name\": \"mazda rx-4\", \"h1\": 110.0, \"h2\": 12100.0, \"h3\": 1331000.0, \"pred\": 20.37161076846224, \"label\": \"train\"}, {\"mpg\": 43.1, \"cylinders\": 4, \"displacement\": 90.0, \"horsepower\": 48.0, \"weight\": 1985, \"acceleration\": 21.5, \"model_year\": 78, \"origin\": \"europe\", \"name\": \"volkswagen rabbit custom diesel\", \"h1\": 48.0, \"h2\": 2304.0, \"h3\": 110592.0, \"pred\": 38.611263118068024, \"label\": \"train\"}, {\"mpg\": 36.1, \"cylinders\": 4, \"displacement\": 98.0, \"horsepower\": 66.0, \"weight\": 1800, \"acceleration\": 14.4, \"model_year\": 78, \"origin\": \"usa\", \"name\": \"ford fiesta\", \"h1\": 66.0, \"h2\": 4356.0, \"h3\": 287496.0, \"pred\": 31.87125801811343, \"label\": \"train\"}, {\"mpg\": 32.8, \"cylinders\": 4, \"displacement\": 78.0, \"horsepower\": 52.0, \"weight\": 1985, \"acceleration\": 19.4, \"model_year\": 78, \"origin\": \"japan\", \"name\": \"mazda glc deluxe\", \"h1\": 52.0, \"h2\": 2704.0, \"h3\": 140608.0, \"pred\": 37.00110518522083, \"label\": \"train\"}, {\"mpg\": 39.4, \"cylinders\": 4, \"displacement\": 85.0, \"horsepower\": 70.0, \"weight\": 2070, \"acceleration\": 18.6, \"model_year\": 78, \"origin\": \"japan\", \"name\": \"datsun b210 gx\", \"h1\": 70.0, \"h2\": 4900.0, \"h3\": 343000.0, \"pred\": 30.545083737073405, \"label\": \"train\"}, {\"mpg\": 36.1, \"cylinders\": 4, \"displacement\": 91.0, \"horsepower\": 60.0, \"weight\": 1800, \"acceleration\": 16.4, \"model_year\": 78, \"origin\": \"japan\", \"name\": \"honda civic cvcc\", \"h1\": 60.0, \"h2\": 3600.0, \"h3\": 216000.0, \"pred\": 33.97525397128773, \"label\": \"test\"}, {\"mpg\": 19.9, \"cylinders\": 8, \"displacement\": 260.0, \"horsepower\": 110.0, \"weight\": 3365, \"acceleration\": 15.5, \"model_year\": 78, \"origin\": \"usa\", \"name\": \"oldsmobile cutlass salon brougham\", \"h1\": 110.0, \"h2\": 12100.0, \"h3\": 1331000.0, \"pred\": 20.37161076846224, \"label\": \"train\"}, {\"mpg\": 19.4, \"cylinders\": 8, \"displacement\": 318.0, \"horsepower\": 140.0, \"weight\": 3735, \"acceleration\": 13.2, \"model_year\": 78, \"origin\": \"usa\", \"name\": \"dodge diplomat\", \"h1\": 140.0, \"h2\": 19600.0, \"h3\": 2744000.0, \"pred\": 15.936728518042784, \"label\": \"train\"}, {\"mpg\": 20.2, \"cylinders\": 8, \"displacement\": 302.0, \"horsepower\": 139.0, \"weight\": 3570, \"acceleration\": 12.8, \"model_year\": 78, \"origin\": \"usa\", \"name\": \"mercury monarch ghia\", \"h1\": 139.0, \"h2\": 19321.0, \"h3\": 2685619.0, \"pred\": 16.046738313191995, \"label\": \"train\"}, {\"mpg\": 19.2, \"cylinders\": 6, \"displacement\": 231.0, \"horsepower\": 105.0, \"weight\": 3535, \"acceleration\": 19.2, \"model_year\": 78, \"origin\": \"usa\", \"name\": \"pontiac phoenix lj\", \"h1\": 105.0, \"h2\": 11025.0, \"h3\": 1157625.0, \"pred\": 21.357727280939883, \"label\": \"train\"}, {\"mpg\": 20.5, \"cylinders\": 6, \"displacement\": 200.0, \"horsepower\": 95.0, \"weight\": 3155, \"acceleration\": 18.2, \"model_year\": 78, \"origin\": \"usa\", \"name\": \"chevrolet malibu\", \"h1\": 95.0, \"h2\": 9025.0, \"h3\": 857375.0, \"pred\": 23.562916785349927, \"label\": \"train\"}, {\"mpg\": 20.2, \"cylinders\": 6, \"displacement\": 200.0, \"horsepower\": 85.0, \"weight\": 2965, \"acceleration\": 15.8, \"model_year\": 78, \"origin\": \"usa\", \"name\": \"ford fairmont (auto)\", \"h1\": 85.0, \"h2\": 7225.0, \"h3\": 614125.0, \"pred\": 26.094469271015683, \"label\": \"train\"}, {\"mpg\": 25.1, \"cylinders\": 4, \"displacement\": 140.0, \"horsepower\": 88.0, \"weight\": 2720, \"acceleration\": 15.4, \"model_year\": 78, \"origin\": \"usa\", \"name\": \"ford fairmont (man)\", \"h1\": 88.0, \"h2\": 7744.0, \"h3\": 681472.0, \"pred\": 25.299610552266536, \"label\": \"train\"}, {\"mpg\": 20.5, \"cylinders\": 6, \"displacement\": 225.0, \"horsepower\": 100.0, \"weight\": 3430, \"acceleration\": 17.2, \"model_year\": 78, \"origin\": \"usa\", \"name\": \"plymouth volare\", \"h1\": 100.0, \"h2\": 10000.0, \"h3\": 1000000.0, \"pred\": 22.420708236136647, \"label\": \"train\"}, {\"mpg\": 19.4, \"cylinders\": 6, \"displacement\": 232.0, \"horsepower\": 90.0, \"weight\": 3210, \"acceleration\": 17.2, \"model_year\": 78, \"origin\": \"usa\", \"name\": \"amc concord\", \"h1\": 90.0, \"h2\": 8100.0, \"h3\": 729000.0, \"pred\": 24.786716079877138, \"label\": \"test\"}, {\"mpg\": 20.6, \"cylinders\": 6, \"displacement\": 231.0, \"horsepower\": 105.0, \"weight\": 3380, \"acceleration\": 15.8, \"model_year\": 78, \"origin\": \"usa\", \"name\": \"buick century special\", \"h1\": 105.0, \"h2\": 11025.0, \"h3\": 1157625.0, \"pred\": 21.357727280939883, \"label\": \"train\"}, {\"mpg\": 20.8, \"cylinders\": 6, \"displacement\": 200.0, \"horsepower\": 85.0, \"weight\": 3070, \"acceleration\": 16.7, \"model_year\": 78, \"origin\": \"usa\", \"name\": \"mercury zephyr\", \"h1\": 85.0, \"h2\": 7225.0, \"h3\": 614125.0, \"pred\": 26.094469271015683, \"label\": \"train\"}, {\"mpg\": 18.6, \"cylinders\": 6, \"displacement\": 225.0, \"horsepower\": 110.0, \"weight\": 3620, \"acceleration\": 18.7, \"model_year\": 78, \"origin\": \"usa\", \"name\": \"dodge aspen\", \"h1\": 110.0, \"h2\": 12100.0, \"h3\": 1331000.0, \"pred\": 20.37161076846224, \"label\": \"train\"}, {\"mpg\": 18.1, \"cylinders\": 6, \"displacement\": 258.0, \"horsepower\": 120.0, \"weight\": 3410, \"acceleration\": 15.1, \"model_year\": 78, \"origin\": \"usa\", \"name\": \"amc concord d/l\", \"h1\": 120.0, \"h2\": 14400.0, \"h3\": 1728000.0, \"pred\": 18.62051846647463, \"label\": \"train\"}, {\"mpg\": 19.2, \"cylinders\": 8, \"displacement\": 305.0, \"horsepower\": 145.0, \"weight\": 3425, \"acceleration\": 13.2, \"model_year\": 78, \"origin\": \"usa\", \"name\": \"chevrolet monte carlo landau\", \"h1\": 145.0, \"h2\": 21025.0, \"h3\": 3048625.0, \"pred\": 15.422494868271478, \"label\": \"train\"}, {\"mpg\": 17.7, \"cylinders\": 6, \"displacement\": 231.0, \"horsepower\": 165.0, \"weight\": 3445, \"acceleration\": 13.4, \"model_year\": 78, \"origin\": \"usa\", \"name\": \"buick regal sport coupe (turbo)\", \"h1\": 165.0, \"h2\": 27225.0, \"h3\": 4492125.0, \"pred\": 13.92152107961062, \"label\": \"train\"}, {\"mpg\": 18.1, \"cylinders\": 8, \"displacement\": 302.0, \"horsepower\": 139.0, \"weight\": 3205, \"acceleration\": 11.2, \"model_year\": 78, \"origin\": \"usa\", \"name\": \"ford futura\", \"h1\": 139.0, \"h2\": 19321.0, \"h3\": 2685619.0, \"pred\": 16.046738313191995, \"label\": \"train\"}, {\"mpg\": 17.5, \"cylinders\": 8, \"displacement\": 318.0, \"horsepower\": 140.0, \"weight\": 4080, \"acceleration\": 13.7, \"model_year\": 78, \"origin\": \"usa\", \"name\": \"dodge magnum xe\", \"h1\": 140.0, \"h2\": 19600.0, \"h3\": 2744000.0, \"pred\": 15.936728518042784, \"label\": \"train\"}, {\"mpg\": 30.0, \"cylinders\": 4, \"displacement\": 98.0, \"horsepower\": 68.0, \"weight\": 2155, \"acceleration\": 16.5, \"model_year\": 78, \"origin\": \"usa\", \"name\": \"chevrolet chevette\", \"h1\": 68.0, \"h2\": 4624.0, \"h3\": 314432.0, \"pred\": 31.200622736607826, \"label\": \"train\"}, {\"mpg\": 27.5, \"cylinders\": 4, \"displacement\": 134.0, \"horsepower\": 95.0, \"weight\": 2560, \"acceleration\": 14.2, \"model_year\": 78, \"origin\": \"japan\", \"name\": \"toyota corona\", \"h1\": 95.0, \"h2\": 9025.0, \"h3\": 857375.0, \"pred\": 23.562916785349927, \"label\": \"train\"}, {\"mpg\": 27.2, \"cylinders\": 4, \"displacement\": 119.0, \"horsepower\": 97.0, \"weight\": 2300, \"acceleration\": 14.7, \"model_year\": 78, \"origin\": \"japan\", \"name\": \"datsun 510\", \"h1\": 97.0, \"h2\": 9409.0, \"h3\": 912673.0, \"pred\": 23.096374812699608, \"label\": \"train\"}, {\"mpg\": 30.9, \"cylinders\": 4, \"displacement\": 105.0, \"horsepower\": 75.0, \"weight\": 2230, \"acceleration\": 14.5, \"model_year\": 78, \"origin\": \"usa\", \"name\": \"dodge omni\", \"h1\": 75.0, \"h2\": 5625.0, \"h3\": 421875.0, \"pred\": 28.971289948316404, \"label\": \"train\"}, {\"mpg\": 21.1, \"cylinders\": 4, \"displacement\": 134.0, \"horsepower\": 95.0, \"weight\": 2515, \"acceleration\": 14.8, \"model_year\": 78, \"origin\": \"japan\", \"name\": \"toyota celica gt liftback\", \"h1\": 95.0, \"h2\": 9025.0, \"h3\": 857375.0, \"pred\": 23.562916785349927, \"label\": \"train\"}, {\"mpg\": 23.2, \"cylinders\": 4, \"displacement\": 156.0, \"horsepower\": 105.0, \"weight\": 2745, \"acceleration\": 16.7, \"model_year\": 78, \"origin\": \"usa\", \"name\": \"plymouth sapporo\", \"h1\": 105.0, \"h2\": 11025.0, \"h3\": 1157625.0, \"pred\": 21.357727280939883, \"label\": \"train\"}, {\"mpg\": 23.8, \"cylinders\": 4, \"displacement\": 151.0, \"horsepower\": 85.0, \"weight\": 2855, \"acceleration\": 17.6, \"model_year\": 78, \"origin\": \"usa\", \"name\": \"oldsmobile starfire sx\", \"h1\": 85.0, \"h2\": 7225.0, \"h3\": 614125.0, \"pred\": 26.094469271015683, \"label\": \"train\"}, {\"mpg\": 23.9, \"cylinders\": 4, \"displacement\": 119.0, \"horsepower\": 97.0, \"weight\": 2405, \"acceleration\": 14.9, \"model_year\": 78, \"origin\": \"japan\", \"name\": \"datsun 200-sx\", \"h1\": 97.0, \"h2\": 9409.0, \"h3\": 912673.0, \"pred\": 23.096374812699608, \"label\": \"train\"}, {\"mpg\": 20.3, \"cylinders\": 5, \"displacement\": 131.0, \"horsepower\": 103.0, \"weight\": 2830, \"acceleration\": 15.9, \"model_year\": 78, \"origin\": \"europe\", \"name\": \"audi 5000\", \"h1\": 103.0, \"h2\": 10609.0, \"h3\": 1092727.0, \"pred\": 21.773563593419645, \"label\": \"train\"}, {\"mpg\": 17.0, \"cylinders\": 6, \"displacement\": 163.0, \"horsepower\": 125.0, \"weight\": 3140, \"acceleration\": 13.6, \"model_year\": 78, \"origin\": \"europe\", \"name\": \"volvo 264gl\", \"h1\": 125.0, \"h2\": 15625.0, \"h3\": 1953125.0, \"pred\": 17.850816374369863, \"label\": \"train\"}, {\"mpg\": 21.6, \"cylinders\": 4, \"displacement\": 121.0, \"horsepower\": 115.0, \"weight\": 2795, \"acceleration\": 15.7, \"model_year\": 78, \"origin\": \"europe\", \"name\": \"saab 99gle\", \"h1\": 115.0, \"h2\": 13225.0, \"h3\": 1520875.0, \"pred\": 19.459995547406287, \"label\": \"test\"}, {\"mpg\": 16.2, \"cylinders\": 6, \"displacement\": 163.0, \"horsepower\": 133.0, \"weight\": 3410, \"acceleration\": 15.8, \"model_year\": 78, \"origin\": \"europe\", \"name\": \"peugeot 604sl\", \"h1\": 133.0, \"h2\": 17689.0, \"h3\": 2352637.0, \"pred\": 16.758526578123814, \"label\": \"test\"}, {\"mpg\": 31.5, \"cylinders\": 4, \"displacement\": 89.0, \"horsepower\": 71.0, \"weight\": 1990, \"acceleration\": 14.9, \"model_year\": 78, \"origin\": \"europe\", \"name\": \"volkswagen scirocco\", \"h1\": 71.0, \"h2\": 5041.0, \"h3\": 357911.0, \"pred\": 30.222928080019443, \"label\": \"train\"}, {\"mpg\": 29.5, \"cylinders\": 4, \"displacement\": 98.0, \"horsepower\": 68.0, \"weight\": 2135, \"acceleration\": 16.6, \"model_year\": 78, \"origin\": \"japan\", \"name\": \"honda accord lx\", \"h1\": 68.0, \"h2\": 4624.0, \"h3\": 314432.0, \"pred\": 31.200622736607826, \"label\": \"train\"}, {\"mpg\": 21.5, \"cylinders\": 6, \"displacement\": 231.0, \"horsepower\": 115.0, \"weight\": 3245, \"acceleration\": 15.4, \"model_year\": 79, \"origin\": \"usa\", \"name\": \"pontiac lemans v6\", \"h1\": 115.0, \"h2\": 13225.0, \"h3\": 1520875.0, \"pred\": 19.459995547406287, \"label\": \"train\"}, {\"mpg\": 19.8, \"cylinders\": 6, \"displacement\": 200.0, \"horsepower\": 85.0, \"weight\": 2990, \"acceleration\": 18.2, \"model_year\": 79, \"origin\": \"usa\", \"name\": \"mercury zephyr 6\", \"h1\": 85.0, \"h2\": 7225.0, \"h3\": 614125.0, \"pred\": 26.094469271015683, \"label\": \"train\"}, {\"mpg\": 22.3, \"cylinders\": 4, \"displacement\": 140.0, \"horsepower\": 88.0, \"weight\": 2890, \"acceleration\": 17.3, \"model_year\": 79, \"origin\": \"usa\", \"name\": \"ford fairmont 4\", \"h1\": 88.0, \"h2\": 7744.0, \"h3\": 681472.0, \"pred\": 25.299610552266536, \"label\": \"train\"}, {\"mpg\": 20.2, \"cylinders\": 6, \"displacement\": 232.0, \"horsepower\": 90.0, \"weight\": 3265, \"acceleration\": 18.2, \"model_year\": 79, \"origin\": \"usa\", \"name\": \"amc concord dl 6\", \"h1\": 90.0, \"h2\": 8100.0, \"h3\": 729000.0, \"pred\": 24.786716079877138, \"label\": \"train\"}, {\"mpg\": 20.6, \"cylinders\": 6, \"displacement\": 225.0, \"horsepower\": 110.0, \"weight\": 3360, \"acceleration\": 16.6, \"model_year\": 79, \"origin\": \"usa\", \"name\": \"dodge aspen 6\", \"h1\": 110.0, \"h2\": 12100.0, \"h3\": 1331000.0, \"pred\": 20.37161076846224, \"label\": \"train\"}, {\"mpg\": 17.0, \"cylinders\": 8, \"displacement\": 305.0, \"horsepower\": 130.0, \"weight\": 3840, \"acceleration\": 15.4, \"model_year\": 79, \"origin\": \"usa\", \"name\": \"chevrolet caprice classic\", \"h1\": 130.0, \"h2\": 16900.0, \"h3\": 2197000.0, \"pred\": 17.148526119794568, \"label\": \"train\"}, {\"mpg\": 17.6, \"cylinders\": 8, \"displacement\": 302.0, \"horsepower\": 129.0, \"weight\": 3725, \"acceleration\": 13.4, \"model_year\": 79, \"origin\": \"usa\", \"name\": \"ford ltd landau\", \"h1\": 129.0, \"h2\": 16641.0, \"h3\": 2146689.0, \"pred\": 17.28370465496954, \"label\": \"train\"}, {\"mpg\": 16.5, \"cylinders\": 8, \"displacement\": 351.0, \"horsepower\": 138.0, \"weight\": 3955, \"acceleration\": 13.2, \"model_year\": 79, \"origin\": \"usa\", \"name\": \"mercury grand marquis\", \"h1\": 138.0, \"h2\": 19044.0, \"h3\": 2628072.0, \"pred\": 16.159179908897087, \"label\": \"train\"}, {\"mpg\": 18.2, \"cylinders\": 8, \"displacement\": 318.0, \"horsepower\": 135.0, \"weight\": 3830, \"acceleration\": 15.2, \"model_year\": 79, \"origin\": \"usa\", \"name\": \"dodge st. regis\", \"h1\": 135.0, \"h2\": 18225.0, \"h3\": 2460375.0, \"pred\": 16.511284551451347, \"label\": \"train\"}, {\"mpg\": 16.9, \"cylinders\": 8, \"displacement\": 350.0, \"horsepower\": 155.0, \"weight\": 4360, \"acceleration\": 14.9, \"model_year\": 79, \"origin\": \"usa\", \"name\": \"buick estate wagon (sw)\", \"h1\": 155.0, \"h2\": 24025.0, \"h3\": 3723875.0, \"pred\": 14.565542114450992, \"label\": \"test\"}, {\"mpg\": 15.5, \"cylinders\": 8, \"displacement\": 351.0, \"horsepower\": 142.0, \"weight\": 4054, \"acceleration\": 14.3, \"model_year\": 79, \"origin\": \"usa\", \"name\": \"ford country squire (sw)\", \"h1\": 142.0, \"h2\": 20164.0, \"h3\": 2863288.0, \"pred\": 15.723928708570448, \"label\": \"train\"}, {\"mpg\": 19.2, \"cylinders\": 8, \"displacement\": 267.0, \"horsepower\": 125.0, \"weight\": 3605, \"acceleration\": 15.0, \"model_year\": 79, \"origin\": \"usa\", \"name\": \"chevrolet malibu classic (sw)\", \"h1\": 125.0, \"h2\": 15625.0, \"h3\": 1953125.0, \"pred\": 17.850816374369863, \"label\": \"test\"}, {\"mpg\": 18.5, \"cylinders\": 8, \"displacement\": 360.0, \"horsepower\": 150.0, \"weight\": 3940, \"acceleration\": 13.0, \"model_year\": 79, \"origin\": \"usa\", \"name\": \"chrysler lebaron town @ country (sw)\", \"h1\": 150.0, \"h2\": 22500.0, \"h3\": 3375000.0, \"pred\": 14.96622045084002, \"label\": \"train\"}, {\"mpg\": 31.9, \"cylinders\": 4, \"displacement\": 89.0, \"horsepower\": 71.0, \"weight\": 1925, \"acceleration\": 14.0, \"model_year\": 79, \"origin\": \"europe\", \"name\": \"vw rabbit custom\", \"h1\": 71.0, \"h2\": 5041.0, \"h3\": 357911.0, \"pred\": 30.222928080019443, \"label\": \"train\"}, {\"mpg\": 34.1, \"cylinders\": 4, \"displacement\": 86.0, \"horsepower\": 65.0, \"weight\": 1975, \"acceleration\": 15.2, \"model_year\": 79, \"origin\": \"japan\", \"name\": \"maxda glc deluxe\", \"h1\": 65.0, \"h2\": 4225.0, \"h3\": 274625.0, \"pred\": 32.212284027631384, \"label\": \"train\"}, {\"mpg\": 35.7, \"cylinders\": 4, \"displacement\": 98.0, \"horsepower\": 80.0, \"weight\": 1915, \"acceleration\": 14.4, \"model_year\": 79, \"origin\": \"usa\", \"name\": \"dodge colt hatchback custom\", \"h1\": 80.0, \"h2\": 6400.0, \"h3\": 512000.0, \"pred\": 27.48853951006297, \"label\": \"train\"}, {\"mpg\": 27.4, \"cylinders\": 4, \"displacement\": 121.0, \"horsepower\": 80.0, \"weight\": 2670, \"acceleration\": 15.0, \"model_year\": 79, \"origin\": \"usa\", \"name\": \"amc spirit dl\", \"h1\": 80.0, \"h2\": 6400.0, \"h3\": 512000.0, \"pred\": 27.48853951006297, \"label\": \"test\"}, {\"mpg\": 25.4, \"cylinders\": 5, \"displacement\": 183.0, \"horsepower\": 77.0, \"weight\": 3530, \"acceleration\": 20.1, \"model_year\": 79, \"origin\": \"europe\", \"name\": \"mercedes benz 300d\", \"h1\": 77.0, \"h2\": 5929.0, \"h3\": 456533.0, \"pred\": 28.367396907427256, \"label\": \"train\"}, {\"mpg\": 23.0, \"cylinders\": 8, \"displacement\": 350.0, \"horsepower\": 125.0, \"weight\": 3900, \"acceleration\": 17.4, \"model_year\": 79, \"origin\": \"usa\", \"name\": \"cadillac eldorado\", \"h1\": 125.0, \"h2\": 15625.0, \"h3\": 1953125.0, \"pred\": 17.850816374369863, \"label\": \"train\"}, {\"mpg\": 27.2, \"cylinders\": 4, \"displacement\": 141.0, \"horsepower\": 71.0, \"weight\": 3190, \"acceleration\": 24.8, \"model_year\": 79, \"origin\": \"europe\", \"name\": \"peugeot 504\", \"h1\": 71.0, \"h2\": 5041.0, \"h3\": 357911.0, \"pred\": 30.222928080019443, \"label\": \"train\"}, {\"mpg\": 23.9, \"cylinders\": 8, \"displacement\": 260.0, \"horsepower\": 90.0, \"weight\": 3420, \"acceleration\": 22.2, \"model_year\": 79, \"origin\": \"usa\", \"name\": \"oldsmobile cutlass salon brougham\", \"h1\": 90.0, \"h2\": 8100.0, \"h3\": 729000.0, \"pred\": 24.786716079877138, \"label\": \"train\"}, {\"mpg\": 34.2, \"cylinders\": 4, \"displacement\": 105.0, \"horsepower\": 70.0, \"weight\": 2200, \"acceleration\": 13.2, \"model_year\": 79, \"origin\": \"usa\", \"name\": \"plymouth horizon\", \"h1\": 70.0, \"h2\": 4900.0, \"h3\": 343000.0, \"pred\": 30.545083737073405, \"label\": \"train\"}, {\"mpg\": 34.5, \"cylinders\": 4, \"displacement\": 105.0, \"horsepower\": 70.0, \"weight\": 2150, \"acceleration\": 14.9, \"model_year\": 79, \"origin\": \"usa\", \"name\": \"plymouth horizon tc3\", \"h1\": 70.0, \"h2\": 4900.0, \"h3\": 343000.0, \"pred\": 30.545083737073405, \"label\": \"train\"}, {\"mpg\": 31.8, \"cylinders\": 4, \"displacement\": 85.0, \"horsepower\": 65.0, \"weight\": 2020, \"acceleration\": 19.2, \"model_year\": 79, \"origin\": \"japan\", \"name\": \"datsun 210\", \"h1\": 65.0, \"h2\": 4225.0, \"h3\": 274625.0, \"pred\": 32.212284027631384, \"label\": \"train\"}, {\"mpg\": 37.3, \"cylinders\": 4, \"displacement\": 91.0, \"horsepower\": 69.0, \"weight\": 2130, \"acceleration\": 14.7, \"model_year\": 79, \"origin\": \"europe\", \"name\": \"fiat strada custom\", \"h1\": 69.0, \"h2\": 4761.0, \"h3\": 328509.0, \"pred\": 30.870975654199405, \"label\": \"train\"}, {\"mpg\": 28.4, \"cylinders\": 4, \"displacement\": 151.0, \"horsepower\": 90.0, \"weight\": 2670, \"acceleration\": 16.0, \"model_year\": 79, \"origin\": \"usa\", \"name\": \"buick skylark limited\", \"h1\": 90.0, \"h2\": 8100.0, \"h3\": 729000.0, \"pred\": 24.786716079877138, \"label\": \"train\"}, {\"mpg\": 28.8, \"cylinders\": 6, \"displacement\": 173.0, \"horsepower\": 115.0, \"weight\": 2595, \"acceleration\": 11.3, \"model_year\": 79, \"origin\": \"usa\", \"name\": \"chevrolet citation\", \"h1\": 115.0, \"h2\": 13225.0, \"h3\": 1520875.0, \"pred\": 19.459995547406287, \"label\": \"train\"}, {\"mpg\": 26.8, \"cylinders\": 6, \"displacement\": 173.0, \"horsepower\": 115.0, \"weight\": 2700, \"acceleration\": 12.9, \"model_year\": 79, \"origin\": \"usa\", \"name\": \"oldsmobile omega brougham\", \"h1\": 115.0, \"h2\": 13225.0, \"h3\": 1520875.0, \"pred\": 19.459995547406287, \"label\": \"train\"}, {\"mpg\": 33.5, \"cylinders\": 4, \"displacement\": 151.0, \"horsepower\": 90.0, \"weight\": 2556, \"acceleration\": 13.2, \"model_year\": 79, \"origin\": \"usa\", \"name\": \"pontiac phoenix\", \"h1\": 90.0, \"h2\": 8100.0, \"h3\": 729000.0, \"pred\": 24.786716079877138, \"label\": \"train\"}, {\"mpg\": 41.5, \"cylinders\": 4, \"displacement\": 98.0, \"horsepower\": 76.0, \"weight\": 2144, \"acceleration\": 14.7, \"model_year\": 80, \"origin\": \"europe\", \"name\": \"vw rabbit\", \"h1\": 76.0, \"h2\": 5776.0, \"h3\": 438976.0, \"pred\": 28.667532013466953, \"label\": \"train\"}, {\"mpg\": 38.1, \"cylinders\": 4, \"displacement\": 89.0, \"horsepower\": 60.0, \"weight\": 1968, \"acceleration\": 18.8, \"model_year\": 80, \"origin\": \"japan\", \"name\": \"toyota corolla tercel\", \"h1\": 60.0, \"h2\": 3600.0, \"h3\": 216000.0, \"pred\": 33.97525397128773, \"label\": \"train\"}, {\"mpg\": 32.1, \"cylinders\": 4, \"displacement\": 98.0, \"horsepower\": 70.0, \"weight\": 2120, \"acceleration\": 15.5, \"model_year\": 80, \"origin\": \"usa\", \"name\": \"chevrolet chevette\", \"h1\": 70.0, \"h2\": 4900.0, \"h3\": 343000.0, \"pred\": 30.545083737073405, \"label\": \"train\"}, {\"mpg\": 37.2, \"cylinders\": 4, \"displacement\": 86.0, \"horsepower\": 65.0, \"weight\": 2019, \"acceleration\": 16.4, \"model_year\": 80, \"origin\": \"japan\", \"name\": \"datsun 310\", \"h1\": 65.0, \"h2\": 4225.0, \"h3\": 274625.0, \"pred\": 32.212284027631384, \"label\": \"train\"}, {\"mpg\": 28.0, \"cylinders\": 4, \"displacement\": 151.0, \"horsepower\": 90.0, \"weight\": 2678, \"acceleration\": 16.5, \"model_year\": 80, \"origin\": \"usa\", \"name\": \"chevrolet citation\", \"h1\": 90.0, \"h2\": 8100.0, \"h3\": 729000.0, \"pred\": 24.786716079877138, \"label\": \"train\"}, {\"mpg\": 26.4, \"cylinders\": 4, \"displacement\": 140.0, \"horsepower\": 88.0, \"weight\": 2870, \"acceleration\": 18.1, \"model_year\": 80, \"origin\": \"usa\", \"name\": \"ford fairmont\", \"h1\": 88.0, \"h2\": 7744.0, \"h3\": 681472.0, \"pred\": 25.299610552266536, \"label\": \"train\"}, {\"mpg\": 24.3, \"cylinders\": 4, \"displacement\": 151.0, \"horsepower\": 90.0, \"weight\": 3003, \"acceleration\": 20.1, \"model_year\": 80, \"origin\": \"usa\", \"name\": \"amc concord\", \"h1\": 90.0, \"h2\": 8100.0, \"h3\": 729000.0, \"pred\": 24.786716079877138, \"label\": \"train\"}, {\"mpg\": 19.1, \"cylinders\": 6, \"displacement\": 225.0, \"horsepower\": 90.0, \"weight\": 3381, \"acceleration\": 18.7, \"model_year\": 80, \"origin\": \"usa\", \"name\": \"dodge aspen\", \"h1\": 90.0, \"h2\": 8100.0, \"h3\": 729000.0, \"pred\": 24.786716079877138, \"label\": \"train\"}, {\"mpg\": 34.3, \"cylinders\": 4, \"displacement\": 97.0, \"horsepower\": 78.0, \"weight\": 2188, \"acceleration\": 15.8, \"model_year\": 80, \"origin\": \"europe\", \"name\": \"audi 4000\", \"h1\": 78.0, \"h2\": 6084.0, \"h3\": 474552.0, \"pred\": 28.070865724986945, \"label\": \"train\"}, {\"mpg\": 29.8, \"cylinders\": 4, \"displacement\": 134.0, \"horsepower\": 90.0, \"weight\": 2711, \"acceleration\": 15.5, \"model_year\": 80, \"origin\": \"japan\", \"name\": \"toyota corona liftback\", \"h1\": 90.0, \"h2\": 8100.0, \"h3\": 729000.0, \"pred\": 24.786716079877138, \"label\": \"train\"}, {\"mpg\": 31.3, \"cylinders\": 4, \"displacement\": 120.0, \"horsepower\": 75.0, \"weight\": 2542, \"acceleration\": 17.5, \"model_year\": 80, \"origin\": \"japan\", \"name\": \"mazda 626\", \"h1\": 75.0, \"h2\": 5625.0, \"h3\": 421875.0, \"pred\": 28.971289948316404, \"label\": \"train\"}, {\"mpg\": 37.0, \"cylinders\": 4, \"displacement\": 119.0, \"horsepower\": 92.0, \"weight\": 2434, \"acceleration\": 15.0, \"model_year\": 80, \"origin\": \"japan\", \"name\": \"datsun 510 hatchback\", \"h1\": 92.0, \"h2\": 8464.0, \"h3\": 778688.0, \"pred\": 24.28725423094555, \"label\": \"train\"}, {\"mpg\": 32.2, \"cylinders\": 4, \"displacement\": 108.0, \"horsepower\": 75.0, \"weight\": 2265, \"acceleration\": 15.2, \"model_year\": 80, \"origin\": \"japan\", \"name\": \"toyota corolla\", \"h1\": 75.0, \"h2\": 5625.0, \"h3\": 421875.0, \"pred\": 28.971289948316404, \"label\": \"train\"}, {\"mpg\": 46.6, \"cylinders\": 4, \"displacement\": 86.0, \"horsepower\": 65.0, \"weight\": 2110, \"acceleration\": 17.9, \"model_year\": 80, \"origin\": \"japan\", \"name\": \"mazda glc\", \"h1\": 65.0, \"h2\": 4225.0, \"h3\": 274625.0, \"pred\": 32.212284027631384, \"label\": \"train\"}, {\"mpg\": 27.9, \"cylinders\": 4, \"displacement\": 156.0, \"horsepower\": 105.0, \"weight\": 2800, \"acceleration\": 14.4, \"model_year\": 80, \"origin\": \"usa\", \"name\": \"dodge colt\", \"h1\": 105.0, \"h2\": 11025.0, \"h3\": 1157625.0, \"pred\": 21.357727280939883, \"label\": \"train\"}, {\"mpg\": 40.8, \"cylinders\": 4, \"displacement\": 85.0, \"horsepower\": 65.0, \"weight\": 2110, \"acceleration\": 19.2, \"model_year\": 80, \"origin\": \"japan\", \"name\": \"datsun 210\", \"h1\": 65.0, \"h2\": 4225.0, \"h3\": 274625.0, \"pred\": 32.212284027631384, \"label\": \"train\"}, {\"mpg\": 44.3, \"cylinders\": 4, \"displacement\": 90.0, \"horsepower\": 48.0, \"weight\": 2085, \"acceleration\": 21.7, \"model_year\": 80, \"origin\": \"europe\", \"name\": \"vw rabbit c (diesel)\", \"h1\": 48.0, \"h2\": 2304.0, \"h3\": 110592.0, \"pred\": 38.611263118068024, \"label\": \"train\"}, {\"mpg\": 43.4, \"cylinders\": 4, \"displacement\": 90.0, \"horsepower\": 48.0, \"weight\": 2335, \"acceleration\": 23.7, \"model_year\": 80, \"origin\": \"europe\", \"name\": \"vw dasher (diesel)\", \"h1\": 48.0, \"h2\": 2304.0, \"h3\": 110592.0, \"pred\": 38.611263118068024, \"label\": \"train\"}, {\"mpg\": 36.4, \"cylinders\": 5, \"displacement\": 121.0, \"horsepower\": 67.0, \"weight\": 2950, \"acceleration\": 19.9, \"model_year\": 80, \"origin\": \"europe\", \"name\": \"audi 5000s (diesel)\", \"h1\": 67.0, \"h2\": 4489.0, \"h3\": 300763.0, \"pred\": 31.53404388950904, \"label\": \"train\"}, {\"mpg\": 30.0, \"cylinders\": 4, \"displacement\": 146.0, \"horsepower\": 67.0, \"weight\": 3250, \"acceleration\": 21.8, \"model_year\": 80, \"origin\": \"europe\", \"name\": \"mercedes-benz 240d\", \"h1\": 67.0, \"h2\": 4489.0, \"h3\": 300763.0, \"pred\": 31.53404388950904, \"label\": \"train\"}, {\"mpg\": 44.6, \"cylinders\": 4, \"displacement\": 91.0, \"horsepower\": 67.0, \"weight\": 1850, \"acceleration\": 13.8, \"model_year\": 80, \"origin\": \"japan\", \"name\": \"honda civic 1500 gl\", \"h1\": 67.0, \"h2\": 4489.0, \"h3\": 300763.0, \"pred\": 31.53404388950904, \"label\": \"train\"}, {\"mpg\": 33.8, \"cylinders\": 4, \"displacement\": 97.0, \"horsepower\": 67.0, \"weight\": 2145, \"acceleration\": 18.0, \"model_year\": 80, \"origin\": \"japan\", \"name\": \"subaru dl\", \"h1\": 67.0, \"h2\": 4489.0, \"h3\": 300763.0, \"pred\": 31.53404388950904, \"label\": \"train\"}, {\"mpg\": 29.8, \"cylinders\": 4, \"displacement\": 89.0, \"horsepower\": 62.0, \"weight\": 1845, \"acceleration\": 15.3, \"model_year\": 80, \"origin\": \"europe\", \"name\": \"vokswagen rabbit\", \"h1\": 62.0, \"h2\": 3844.0, \"h3\": 238328.0, \"pred\": 33.258422393770346, \"label\": \"train\"}, {\"mpg\": 32.7, \"cylinders\": 6, \"displacement\": 168.0, \"horsepower\": 132.0, \"weight\": 2910, \"acceleration\": 11.4, \"model_year\": 80, \"origin\": \"japan\", \"name\": \"datsun 280-zx\", \"h1\": 132.0, \"h2\": 17424.0, \"h3\": 2299968.0, \"pred\": 16.885955986582083, \"label\": \"train\"}, {\"mpg\": 23.7, \"cylinders\": 3, \"displacement\": 70.0, \"horsepower\": 100.0, \"weight\": 2420, \"acceleration\": 12.5, \"model_year\": 80, \"origin\": \"japan\", \"name\": \"mazda rx-7 gs\", \"h1\": 100.0, \"h2\": 10000.0, \"h3\": 1000000.0, \"pred\": 22.420708236136647, \"label\": \"train\"}, {\"mpg\": 35.0, \"cylinders\": 4, \"displacement\": 122.0, \"horsepower\": 88.0, \"weight\": 2500, \"acceleration\": 15.1, \"model_year\": 80, \"origin\": \"europe\", \"name\": \"triumph tr7 coupe\", \"h1\": 88.0, \"h2\": 7744.0, \"h3\": 681472.0, \"pred\": 25.299610552266536, \"label\": \"test\"}, {\"mpg\": 32.4, \"cylinders\": 4, \"displacement\": 107.0, \"horsepower\": 72.0, \"weight\": 2290, \"acceleration\": 17.0, \"model_year\": 80, \"origin\": \"japan\", \"name\": \"honda accord\", \"h1\": 72.0, \"h2\": 5184.0, \"h3\": 373248.0, \"pred\": 29.904489777827152, \"label\": \"train\"}, {\"mpg\": 27.2, \"cylinders\": 4, \"displacement\": 135.0, \"horsepower\": 84.0, \"weight\": 2490, \"acceleration\": 15.7, \"model_year\": 81, \"origin\": \"usa\", \"name\": \"plymouth reliant\", \"h1\": 84.0, \"h2\": 7056.0, \"h3\": 592704.0, \"pred\": 26.366302334150923, \"label\": \"train\"}, {\"mpg\": 26.6, \"cylinders\": 4, \"displacement\": 151.0, \"horsepower\": 84.0, \"weight\": 2635, \"acceleration\": 16.4, \"model_year\": 81, \"origin\": \"usa\", \"name\": \"buick skylark\", \"h1\": 84.0, \"h2\": 7056.0, \"h3\": 592704.0, \"pred\": 26.366302334150923, \"label\": \"train\"}, {\"mpg\": 25.8, \"cylinders\": 4, \"displacement\": 156.0, \"horsepower\": 92.0, \"weight\": 2620, \"acceleration\": 14.4, \"model_year\": 81, \"origin\": \"usa\", \"name\": \"dodge aries wagon (sw)\", \"h1\": 92.0, \"h2\": 8464.0, \"h3\": 778688.0, \"pred\": 24.28725423094555, \"label\": \"train\"}, {\"mpg\": 23.5, \"cylinders\": 6, \"displacement\": 173.0, \"horsepower\": 110.0, \"weight\": 2725, \"acceleration\": 12.6, \"model_year\": 81, \"origin\": \"usa\", \"name\": \"chevrolet citation\", \"h1\": 110.0, \"h2\": 12100.0, \"h3\": 1331000.0, \"pred\": 20.37161076846224, \"label\": \"train\"}, {\"mpg\": 30.0, \"cylinders\": 4, \"displacement\": 135.0, \"horsepower\": 84.0, \"weight\": 2385, \"acceleration\": 12.9, \"model_year\": 81, \"origin\": \"usa\", \"name\": \"plymouth reliant\", \"h1\": 84.0, \"h2\": 7056.0, \"h3\": 592704.0, \"pred\": 26.366302334150923, \"label\": \"train\"}, {\"mpg\": 39.1, \"cylinders\": 4, \"displacement\": 79.0, \"horsepower\": 58.0, \"weight\": 1755, \"acceleration\": 16.9, \"model_year\": 81, \"origin\": \"japan\", \"name\": \"toyota starlet\", \"h1\": 58.0, \"h2\": 3364.0, \"h3\": 195112.0, \"pred\": 34.707786797508426, \"label\": \"train\"}, {\"mpg\": 39.0, \"cylinders\": 4, \"displacement\": 86.0, \"horsepower\": 64.0, \"weight\": 1875, \"acceleration\": 16.4, \"model_year\": 81, \"origin\": \"usa\", \"name\": \"plymouth champ\", \"h1\": 64.0, \"h2\": 4096.0, \"h3\": 262144.0, \"pred\": 32.55714082327326, \"label\": \"train\"}, {\"mpg\": 35.1, \"cylinders\": 4, \"displacement\": 81.0, \"horsepower\": 60.0, \"weight\": 1760, \"acceleration\": 16.1, \"model_year\": 81, \"origin\": \"japan\", \"name\": \"honda civic 1300\", \"h1\": 60.0, \"h2\": 3600.0, \"h3\": 216000.0, \"pred\": 33.97525397128773, \"label\": \"train\"}, {\"mpg\": 32.3, \"cylinders\": 4, \"displacement\": 97.0, \"horsepower\": 67.0, \"weight\": 2065, \"acceleration\": 17.8, \"model_year\": 81, \"origin\": \"japan\", \"name\": \"subaru\", \"h1\": 67.0, \"h2\": 4489.0, \"h3\": 300763.0, \"pred\": 31.53404388950904, \"label\": \"train\"}, {\"mpg\": 37.0, \"cylinders\": 4, \"displacement\": 85.0, \"horsepower\": 65.0, \"weight\": 1975, \"acceleration\": 19.4, \"model_year\": 81, \"origin\": \"japan\", \"name\": \"datsun 210 mpg\", \"h1\": 65.0, \"h2\": 4225.0, \"h3\": 274625.0, \"pred\": 32.212284027631384, \"label\": \"train\"}, {\"mpg\": 37.7, \"cylinders\": 4, \"displacement\": 89.0, \"horsepower\": 62.0, \"weight\": 2050, \"acceleration\": 17.3, \"model_year\": 81, \"origin\": \"japan\", \"name\": \"toyota tercel\", \"h1\": 62.0, \"h2\": 3844.0, \"h3\": 238328.0, \"pred\": 33.258422393770346, \"label\": \"train\"}, {\"mpg\": 34.1, \"cylinders\": 4, \"displacement\": 91.0, \"horsepower\": 68.0, \"weight\": 1985, \"acceleration\": 16.0, \"model_year\": 81, \"origin\": \"japan\", \"name\": \"mazda glc 4\", \"h1\": 68.0, \"h2\": 4624.0, \"h3\": 314432.0, \"pred\": 31.200622736607826, \"label\": \"test\"}, {\"mpg\": 34.7, \"cylinders\": 4, \"displacement\": 105.0, \"horsepower\": 63.0, \"weight\": 2215, \"acceleration\": 14.9, \"model_year\": 81, \"origin\": \"usa\", \"name\": \"plymouth horizon 4\", \"h1\": 63.0, \"h2\": 3969.0, \"h3\": 250047.0, \"pred\": 32.905847310249456, \"label\": \"train\"}, {\"mpg\": 34.4, \"cylinders\": 4, \"displacement\": 98.0, \"horsepower\": 65.0, \"weight\": 2045, \"acceleration\": 16.2, \"model_year\": 81, \"origin\": \"usa\", \"name\": \"ford escort 4w\", \"h1\": 65.0, \"h2\": 4225.0, \"h3\": 274625.0, \"pred\": 32.212284027631384, \"label\": \"train\"}, {\"mpg\": 29.9, \"cylinders\": 4, \"displacement\": 98.0, \"horsepower\": 65.0, \"weight\": 2380, \"acceleration\": 20.7, \"model_year\": 81, \"origin\": \"usa\", \"name\": \"ford escort 2h\", \"h1\": 65.0, \"h2\": 4225.0, \"h3\": 274625.0, \"pred\": 32.212284027631384, \"label\": \"train\"}, {\"mpg\": 33.0, \"cylinders\": 4, \"displacement\": 105.0, \"horsepower\": 74.0, \"weight\": 2190, \"acceleration\": 14.2, \"model_year\": 81, \"origin\": \"europe\", \"name\": \"volkswagen jetta\", \"h1\": 74.0, \"h2\": 5476.0, \"h3\": 405224.0, \"pred\": 29.278689617186004, \"label\": \"train\"}, {\"mpg\": 33.7, \"cylinders\": 4, \"displacement\": 107.0, \"horsepower\": 75.0, \"weight\": 2210, \"acceleration\": 14.4, \"model_year\": 81, \"origin\": \"japan\", \"name\": \"honda prelude\", \"h1\": 75.0, \"h2\": 5625.0, \"h3\": 421875.0, \"pred\": 28.971289948316404, \"label\": \"train\"}, {\"mpg\": 32.4, \"cylinders\": 4, \"displacement\": 108.0, \"horsepower\": 75.0, \"weight\": 2350, \"acceleration\": 16.8, \"model_year\": 81, \"origin\": \"japan\", \"name\": \"toyota corolla\", \"h1\": 75.0, \"h2\": 5625.0, \"h3\": 421875.0, \"pred\": 28.971289948316404, \"label\": \"test\"}, {\"mpg\": 32.9, \"cylinders\": 4, \"displacement\": 119.0, \"horsepower\": 100.0, \"weight\": 2615, \"acceleration\": 14.8, \"model_year\": 81, \"origin\": \"japan\", \"name\": \"datsun 200sx\", \"h1\": 100.0, \"h2\": 10000.0, \"h3\": 1000000.0, \"pred\": 22.420708236136647, \"label\": \"train\"}, {\"mpg\": 31.6, \"cylinders\": 4, \"displacement\": 120.0, \"horsepower\": 74.0, \"weight\": 2635, \"acceleration\": 18.3, \"model_year\": 81, \"origin\": \"japan\", \"name\": \"mazda 626\", \"h1\": 74.0, \"h2\": 5476.0, \"h3\": 405224.0, \"pred\": 29.278689617186004, \"label\": \"test\"}, {\"mpg\": 28.1, \"cylinders\": 4, \"displacement\": 141.0, \"horsepower\": 80.0, \"weight\": 3230, \"acceleration\": 20.4, \"model_year\": 81, \"origin\": \"europe\", \"name\": \"peugeot 505s turbo diesel\", \"h1\": 80.0, \"h2\": 6400.0, \"h3\": 512000.0, \"pred\": 27.48853951006297, \"label\": \"train\"}, {\"mpg\": 30.7, \"cylinders\": 6, \"displacement\": 145.0, \"horsepower\": 76.0, \"weight\": 3160, \"acceleration\": 19.6, \"model_year\": 81, \"origin\": \"europe\", \"name\": \"volvo diesel\", \"h1\": 76.0, \"h2\": 5776.0, \"h3\": 438976.0, \"pred\": 28.667532013466953, \"label\": \"train\"}, {\"mpg\": 25.4, \"cylinders\": 6, \"displacement\": 168.0, \"horsepower\": 116.0, \"weight\": 2900, \"acceleration\": 12.6, \"model_year\": 81, \"origin\": \"japan\", \"name\": \"toyota cressida\", \"h1\": 116.0, \"h2\": 13456.0, \"h3\": 1560896.0, \"pred\": 19.286404700851527, \"label\": \"train\"}, {\"mpg\": 24.2, \"cylinders\": 6, \"displacement\": 146.0, \"horsepower\": 120.0, \"weight\": 2930, \"acceleration\": 13.8, \"model_year\": 81, \"origin\": \"japan\", \"name\": \"datsun 810 maxima\", \"h1\": 120.0, \"h2\": 14400.0, \"h3\": 1728000.0, \"pred\": 18.62051846647463, \"label\": \"train\"}, {\"mpg\": 22.4, \"cylinders\": 6, \"displacement\": 231.0, \"horsepower\": 110.0, \"weight\": 3415, \"acceleration\": 15.8, \"model_year\": 81, \"origin\": \"usa\", \"name\": \"buick century\", \"h1\": 110.0, \"h2\": 12100.0, \"h3\": 1331000.0, \"pred\": 20.37161076846224, \"label\": \"train\"}, {\"mpg\": 26.6, \"cylinders\": 8, \"displacement\": 350.0, \"horsepower\": 105.0, \"weight\": 3725, \"acceleration\": 19.0, \"model_year\": 81, \"origin\": \"usa\", \"name\": \"oldsmobile cutlass ls\", \"h1\": 105.0, \"h2\": 11025.0, \"h3\": 1157625.0, \"pred\": 21.357727280939883, \"label\": \"train\"}, {\"mpg\": 20.2, \"cylinders\": 6, \"displacement\": 200.0, \"horsepower\": 88.0, \"weight\": 3060, \"acceleration\": 17.1, \"model_year\": 81, \"origin\": \"usa\", \"name\": \"ford granada gl\", \"h1\": 88.0, \"h2\": 7744.0, \"h3\": 681472.0, \"pred\": 25.299610552266536, \"label\": \"train\"}, {\"mpg\": 17.6, \"cylinders\": 6, \"displacement\": 225.0, \"horsepower\": 85.0, \"weight\": 3465, \"acceleration\": 16.6, \"model_year\": 81, \"origin\": \"usa\", \"name\": \"chrysler lebaron salon\", \"h1\": 85.0, \"h2\": 7225.0, \"h3\": 614125.0, \"pred\": 26.094469271015683, \"label\": \"train\"}, {\"mpg\": 28.0, \"cylinders\": 4, \"displacement\": 112.0, \"horsepower\": 88.0, \"weight\": 2605, \"acceleration\": 19.6, \"model_year\": 82, \"origin\": \"usa\", \"name\": \"chevrolet cavalier\", \"h1\": 88.0, \"h2\": 7744.0, \"h3\": 681472.0, \"pred\": 25.299610552266536, \"label\": \"test\"}, {\"mpg\": 27.0, \"cylinders\": 4, \"displacement\": 112.0, \"horsepower\": 88.0, \"weight\": 2640, \"acceleration\": 18.6, \"model_year\": 82, \"origin\": \"usa\", \"name\": \"chevrolet cavalier wagon\", \"h1\": 88.0, \"h2\": 7744.0, \"h3\": 681472.0, \"pred\": 25.299610552266536, \"label\": \"train\"}, {\"mpg\": 34.0, \"cylinders\": 4, \"displacement\": 112.0, \"horsepower\": 88.0, \"weight\": 2395, \"acceleration\": 18.0, \"model_year\": 82, \"origin\": \"usa\", \"name\": \"chevrolet cavalier 2-door\", \"h1\": 88.0, \"h2\": 7744.0, \"h3\": 681472.0, \"pred\": 25.299610552266536, \"label\": \"train\"}, {\"mpg\": 31.0, \"cylinders\": 4, \"displacement\": 112.0, \"horsepower\": 85.0, \"weight\": 2575, \"acceleration\": 16.2, \"model_year\": 82, \"origin\": \"usa\", \"name\": \"pontiac j2000 se hatchback\", \"h1\": 85.0, \"h2\": 7225.0, \"h3\": 614125.0, \"pred\": 26.094469271015683, \"label\": \"train\"}, {\"mpg\": 29.0, \"cylinders\": 4, \"displacement\": 135.0, \"horsepower\": 84.0, \"weight\": 2525, \"acceleration\": 16.0, \"model_year\": 82, \"origin\": \"usa\", \"name\": \"dodge aries se\", \"h1\": 84.0, \"h2\": 7056.0, \"h3\": 592704.0, \"pred\": 26.366302334150923, \"label\": \"train\"}, {\"mpg\": 27.0, \"cylinders\": 4, \"displacement\": 151.0, \"horsepower\": 90.0, \"weight\": 2735, \"acceleration\": 18.0, \"model_year\": 82, \"origin\": \"usa\", \"name\": \"pontiac phoenix\", \"h1\": 90.0, \"h2\": 8100.0, \"h3\": 729000.0, \"pred\": 24.786716079877138, \"label\": \"train\"}, {\"mpg\": 24.0, \"cylinders\": 4, \"displacement\": 140.0, \"horsepower\": 92.0, \"weight\": 2865, \"acceleration\": 16.4, \"model_year\": 82, \"origin\": \"usa\", \"name\": \"ford fairmont futura\", \"h1\": 92.0, \"h2\": 8464.0, \"h3\": 778688.0, \"pred\": 24.28725423094555, \"label\": \"train\"}, {\"mpg\": 36.0, \"cylinders\": 4, \"displacement\": 105.0, \"horsepower\": 74.0, \"weight\": 1980, \"acceleration\": 15.3, \"model_year\": 82, \"origin\": \"europe\", \"name\": \"volkswagen rabbit l\", \"h1\": 74.0, \"h2\": 5476.0, \"h3\": 405224.0, \"pred\": 29.278689617186004, \"label\": \"train\"}, {\"mpg\": 37.0, \"cylinders\": 4, \"displacement\": 91.0, \"horsepower\": 68.0, \"weight\": 2025, \"acceleration\": 18.2, \"model_year\": 82, \"origin\": \"japan\", \"name\": \"mazda glc custom l\", \"h1\": 68.0, \"h2\": 4624.0, \"h3\": 314432.0, \"pred\": 31.200622736607826, \"label\": \"train\"}, {\"mpg\": 31.0, \"cylinders\": 4, \"displacement\": 91.0, \"horsepower\": 68.0, \"weight\": 1970, \"acceleration\": 17.6, \"model_year\": 82, \"origin\": \"japan\", \"name\": \"mazda glc custom\", \"h1\": 68.0, \"h2\": 4624.0, \"h3\": 314432.0, \"pred\": 31.200622736607826, \"label\": \"train\"}, {\"mpg\": 38.0, \"cylinders\": 4, \"displacement\": 105.0, \"horsepower\": 63.0, \"weight\": 2125, \"acceleration\": 14.7, \"model_year\": 82, \"origin\": \"usa\", \"name\": \"plymouth horizon miser\", \"h1\": 63.0, \"h2\": 3969.0, \"h3\": 250047.0, \"pred\": 32.905847310249456, \"label\": \"train\"}, {\"mpg\": 36.0, \"cylinders\": 4, \"displacement\": 98.0, \"horsepower\": 70.0, \"weight\": 2125, \"acceleration\": 17.3, \"model_year\": 82, \"origin\": \"usa\", \"name\": \"mercury lynx l\", \"h1\": 70.0, \"h2\": 4900.0, \"h3\": 343000.0, \"pred\": 30.545083737073405, \"label\": \"train\"}, {\"mpg\": 36.0, \"cylinders\": 4, \"displacement\": 120.0, \"horsepower\": 88.0, \"weight\": 2160, \"acceleration\": 14.5, \"model_year\": 82, \"origin\": \"japan\", \"name\": \"nissan stanza xe\", \"h1\": 88.0, \"h2\": 7744.0, \"h3\": 681472.0, \"pred\": 25.299610552266536, \"label\": \"train\"}, {\"mpg\": 36.0, \"cylinders\": 4, \"displacement\": 107.0, \"horsepower\": 75.0, \"weight\": 2205, \"acceleration\": 14.5, \"model_year\": 82, \"origin\": \"japan\", \"name\": \"honda accord\", \"h1\": 75.0, \"h2\": 5625.0, \"h3\": 421875.0, \"pred\": 28.971289948316404, \"label\": \"train\"}, {\"mpg\": 34.0, \"cylinders\": 4, \"displacement\": 108.0, \"horsepower\": 70.0, \"weight\": 2245, \"acceleration\": 16.9, \"model_year\": 82, \"origin\": \"japan\", \"name\": \"toyota corolla\", \"h1\": 70.0, \"h2\": 4900.0, \"h3\": 343000.0, \"pred\": 30.545083737073405, \"label\": \"train\"}, {\"mpg\": 38.0, \"cylinders\": 4, \"displacement\": 91.0, \"horsepower\": 67.0, \"weight\": 1965, \"acceleration\": 15.0, \"model_year\": 82, \"origin\": \"japan\", \"name\": \"honda civic\", \"h1\": 67.0, \"h2\": 4489.0, \"h3\": 300763.0, \"pred\": 31.53404388950904, \"label\": \"train\"}, {\"mpg\": 32.0, \"cylinders\": 4, \"displacement\": 91.0, \"horsepower\": 67.0, \"weight\": 1965, \"acceleration\": 15.7, \"model_year\": 82, \"origin\": \"japan\", \"name\": \"honda civic (auto)\", \"h1\": 67.0, \"h2\": 4489.0, \"h3\": 300763.0, \"pred\": 31.53404388950904, \"label\": \"train\"}, {\"mpg\": 38.0, \"cylinders\": 4, \"displacement\": 91.0, \"horsepower\": 67.0, \"weight\": 1995, \"acceleration\": 16.2, \"model_year\": 82, \"origin\": \"japan\", \"name\": \"datsun 310 gx\", \"h1\": 67.0, \"h2\": 4489.0, \"h3\": 300763.0, \"pred\": 31.53404388950904, \"label\": \"test\"}, {\"mpg\": 25.0, \"cylinders\": 6, \"displacement\": 181.0, \"horsepower\": 110.0, \"weight\": 2945, \"acceleration\": 16.4, \"model_year\": 82, \"origin\": \"usa\", \"name\": \"buick century limited\", \"h1\": 110.0, \"h2\": 12100.0, \"h3\": 1331000.0, \"pred\": 20.37161076846224, \"label\": \"train\"}, {\"mpg\": 38.0, \"cylinders\": 6, \"displacement\": 262.0, \"horsepower\": 85.0, \"weight\": 3015, \"acceleration\": 17.0, \"model_year\": 82, \"origin\": \"usa\", \"name\": \"oldsmobile cutlass ciera (diesel)\", \"h1\": 85.0, \"h2\": 7225.0, \"h3\": 614125.0, \"pred\": 26.094469271015683, \"label\": \"train\"}, {\"mpg\": 26.0, \"cylinders\": 4, \"displacement\": 156.0, \"horsepower\": 92.0, \"weight\": 2585, \"acceleration\": 14.5, \"model_year\": 82, \"origin\": \"usa\", \"name\": \"chrysler lebaron medallion\", \"h1\": 92.0, \"h2\": 8464.0, \"h3\": 778688.0, \"pred\": 24.28725423094555, \"label\": \"train\"}, {\"mpg\": 22.0, \"cylinders\": 6, \"displacement\": 232.0, \"horsepower\": 112.0, \"weight\": 2835, \"acceleration\": 14.7, \"model_year\": 82, \"origin\": \"usa\", \"name\": \"ford granada l\", \"h1\": 112.0, \"h2\": 12544.0, \"h3\": 1404928.0, \"pred\": 19.998156861541908, \"label\": \"train\"}, {\"mpg\": 32.0, \"cylinders\": 4, \"displacement\": 144.0, \"horsepower\": 96.0, \"weight\": 2665, \"acceleration\": 13.9, \"model_year\": 82, \"origin\": \"japan\", \"name\": \"toyota celica gt\", \"h1\": 96.0, \"h2\": 9216.0, \"h3\": 884736.0, \"pred\": 23.328023436723683, \"label\": \"train\"}, {\"mpg\": 36.0, \"cylinders\": 4, \"displacement\": 135.0, \"horsepower\": 84.0, \"weight\": 2370, \"acceleration\": 13.0, \"model_year\": 82, \"origin\": \"usa\", \"name\": \"dodge charger 2.2\", \"h1\": 84.0, \"h2\": 7056.0, \"h3\": 592704.0, \"pred\": 26.366302334150923, \"label\": \"train\"}, {\"mpg\": 27.0, \"cylinders\": 4, \"displacement\": 151.0, \"horsepower\": 90.0, \"weight\": 2950, \"acceleration\": 17.3, \"model_year\": 82, \"origin\": \"usa\", \"name\": \"chevrolet camaro\", \"h1\": 90.0, \"h2\": 8100.0, \"h3\": 729000.0, \"pred\": 24.786716079877138, \"label\": \"train\"}, {\"mpg\": 27.0, \"cylinders\": 4, \"displacement\": 140.0, \"horsepower\": 86.0, \"weight\": 2790, \"acceleration\": 15.6, \"model_year\": 82, \"origin\": \"usa\", \"name\": \"ford mustang gl\", \"h1\": 86.0, \"h2\": 7396.0, \"h3\": 636056.0, \"pred\": 25.826088889796786, \"label\": \"test\"}, {\"mpg\": 44.0, \"cylinders\": 4, \"displacement\": 97.0, \"horsepower\": 52.0, \"weight\": 2130, \"acceleration\": 24.6, \"model_year\": 82, \"origin\": \"europe\", \"name\": \"vw pickup\", \"h1\": 52.0, \"h2\": 2704.0, \"h3\": 140608.0, \"pred\": 37.00110518522083, \"label\": \"test\"}, {\"mpg\": 32.0, \"cylinders\": 4, \"displacement\": 135.0, \"horsepower\": 84.0, \"weight\": 2295, \"acceleration\": 11.6, \"model_year\": 82, \"origin\": \"usa\", \"name\": \"dodge rampage\", \"h1\": 84.0, \"h2\": 7056.0, \"h3\": 592704.0, \"pred\": 26.366302334150923, \"label\": \"train\"}, {\"mpg\": 28.0, \"cylinders\": 4, \"displacement\": 120.0, \"horsepower\": 79.0, \"weight\": 2625, \"acceleration\": 18.6, \"model_year\": 82, \"origin\": \"usa\", \"name\": \"ford ranger\", \"h1\": 79.0, \"h2\": 6241.0, \"h3\": 493039.0, \"pred\": 27.777919560935644, \"label\": \"train\"}, {\"mpg\": 31.0, \"cylinders\": 4, \"displacement\": 119.0, \"horsepower\": 82.0, \"weight\": 2720, \"acceleration\": 19.4, \"model_year\": 82, \"origin\": \"usa\", \"name\": \"chevy s-10\", \"h1\": 82.0, \"h2\": 6724.0, \"h3\": 551368.0, \"pred\": 26.92040212701196, \"label\": \"train\"}]}}, {\"mode\": \"vega-lite\"});\n",
       "</script>"
      ],
      "text/plain": [
       "alt.Chart(...)"
      ]
     },
     "execution_count": 19,
     "metadata": {},
     "output_type": "execute_result"
    }
   ],
   "source": [
    "# what the true data looks like\n",
    "alt.Chart(df).mark_circle().encode(\n",
    "    x = 'horsepower',\n",
    "    y = 'mpg'\n",
    ")"
   ]
  },
  {
   "cell_type": "markdown",
   "metadata": {
    "cell_id": "946bf68ef1b7444aaabe4b4e2d1c74cc",
    "deepnote_cell_type": "markdown"
   },
   "source": [
    "Here are the coefficients.  Based on what we were saying with the taxis dataset (\"Oh look, the number of passengers is not very meaningful to the duration of the taxis ride, because the coefficient is pretty small\"), you might think the \"h2\" and \"h3\" columns are not very meaningful here, because their coefficients are so small.  But look at the values in these columns, they are huge (often over a million in the \"h3\" column), so even with these small coefficients, there is still a meaningful impact of these columns."
   ]
  },
  {
   "cell_type": "code",
   "execution_count": 21,
   "metadata": {
    "cell_id": "e26f95fbfa654477b1cfdcb658ce5cc9",
    "deepnote_cell_type": "code",
    "deepnote_to_be_reexecuted": false,
    "execution_millis": 8,
    "execution_start": 1699076857683,
    "source_hash": "c0bd65f9"
   },
   "outputs": [
    {
     "data": {
      "text/plain": [
       "array([-6.31876607e-01,  2.52981240e-03, -3.15086840e-06])"
      ]
     },
     "execution_count": 21,
     "metadata": {},
     "output_type": "execute_result"
    }
   ],
   "source": [
    "reg.coef_"
   ]
  },
  {
   "cell_type": "markdown",
   "metadata": {
    "cell_id": "bf390e7840784f859d1a0c528d324e04",
    "deepnote_cell_type": "markdown"
   },
   "source": [
    "## Warning: Don't misuse polynomial regression\n",
    "\n",
    "Relevant quote:\n",
    "\n",
    "> \"We are drowning in information but starved for knowledge.\"  John Naisbitt, *Megatrends*, 1982"
   ]
  },
  {
   "cell_type": "markdown",
   "metadata": {
    "cell_id": "ee0eadc1a1274477b85da27076e8cdd2",
    "deepnote_cell_type": "markdown"
   },
   "source": [
    "![Cubic fit to Covid data](https://christopherdavisuci.github.io/UCI-Math-10-S23/_images/Cubic2.png)"
   ]
  },
  {
   "cell_type": "markdown",
   "metadata": {
    "created_in_deepnote_cell": true,
    "deepnote_cell_type": "markdown"
   },
   "source": [
    "<a style='text-decoration:none;line-height:16px;display:flex;color:#5B5B62;padding:10px;justify-content:end;' href='https://deepnote.com?utm_source=created-in-deepnote-cell&projectId=3580877f-56c1-48f3-912d-61bc5cd707ee' target=\"_blank\">\n",
    "<img alt='Created in deepnote.com' style='display:inline;max-height:16px;margin:0px;margin-right:7.5px;' src='data:image/svg+xml;base64,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' > </img>\n",
    "Created in <span style='font-weight:600;margin-left:4px;'>Deepnote</span></a>"
   ]
  }
 ],
 "metadata": {
  "deepnote": {},
  "deepnote_execution_queue": [],
  "deepnote_notebook_id": "ea0384b9dbdd451cb53c7badb569c415",
  "deepnote_persisted_session": {
   "createdAt": "2023-11-03T21:02:29.122Z"
  },
  "kernelspec": {
   "display_name": "Python 3 (ipykernel)",
   "language": "python",
   "name": "python3"
  },
  "language_info": {
   "codemirror_mode": {
    "name": "ipython",
    "version": 3
   },
   "file_extension": ".py",
   "mimetype": "text/x-python",
   "name": "python",
   "nbconvert_exporter": "python",
   "pygments_lexer": "ipython3",
   "version": "3.9.18"
  }
 },
 "nbformat": 4,
 "nbformat_minor": 4
}
