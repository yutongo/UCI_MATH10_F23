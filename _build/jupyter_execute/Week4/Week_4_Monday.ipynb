{
 "cells": [
  {
   "cell_type": "markdown",
   "metadata": {
    "cell_id": "14217b38a6b64630819c054ce60888d9",
    "deepnote_cell_type": "markdown"
   },
   "source": [
    "# Week 4 Monday\n"
   ]
  },
  {
   "cell_type": "markdown",
   "metadata": {
    "cell_id": "7077cac0d2cc450daf39be79ac7cbc75",
    "deepnote_cell_type": "markdown"
   },
   "source": [
    "## Announcements\n",
    "\n",
    "* The midterm is a week from today.  A sample midterm will be posted on Canvas.\n",
    "* The midterm is closed book, closed computer.\n",
    "* The best way to study is to go over the HW, quizzes, and the sample midterm.  Next priority would be the [lecture notes](https://yutongo.github.io/UCI_MATH10_F23/intro.html).\n",
    "* HW 4 distributed today.\n",
    "* HW 3 due tonight.\n",
    "\n"
   ]
  },
  {
   "cell_type": "markdown",
   "metadata": {
    "cell_id": "44b55831f40a4299bb71249888a9f9a5",
    "deepnote_cell_type": "markdown"
   },
   "source": [
    "## Plan for today\n",
    "\n",
    "* list comprehension\n",
    "* f-strings\n",
    "* lambda functions\n",
    "* `map`, `apply` and `applymap` functions"
   ]
  },
  {
   "cell_type": "markdown",
   "metadata": {
    "cell_id": "aefd1b5856944ecb912e6045c8d0625a",
    "deepnote_cell_type": "markdown"
   },
   "source": [
    "## List comprehension and f-strings"
   ]
  },
  {
   "cell_type": "markdown",
   "metadata": {
    "cell_id": "bc7635b1a2ab4288b70fa4ff29b62e3a",
    "deepnote_cell_type": "markdown"
   },
   "source": [
    "* The expression `pd.to_datetime(\"10-23-2023\").day_name()` produces the string `\"Monday\"`.  Using this idea, make the following length 7 list, and name the result `day_list`.\n",
    "```\n",
    "[\"Monday\", \"Tuesday\", ..., \"Sunday\"]\n",
    "```"
   ]
  },
  {
   "cell_type": "markdown",
   "metadata": {
    "cell_id": "e0b3118e49c5490d8711b72da7e562ba",
    "deepnote_cell_type": "markdown"
   },
   "source": [
    "We don’t need to use the `dt` accessor here, because we are working with a single value, not with a pandas Series."
   ]
  },
  {
   "cell_type": "code",
   "execution_count": null,
   "metadata": {
    "cell_id": "50c5b18b78c0409c930cb27f0833a3fe",
    "deepnote_cell_type": "code",
    "deepnote_to_be_reexecuted": false,
    "execution_millis": 38,
    "execution_start": 1698091520617,
    "source_hash": null
   },
   "outputs": [
    {
     "data": {
      "text/plain": [
       "'Monday'"
      ]
     },
     "execution_count": 2,
     "metadata": {},
     "output_type": "execute_result"
    }
   ],
   "source": [
    "import pandas as pd\n",
    "pd.to_datetime(\"10-23-2023\").day_name()"
   ]
  },
  {
   "cell_type": "markdown",
   "metadata": {
    "cell_id": "54ea2a3f4ac4427d9de863a62b266cfe",
    "deepnote_cell_type": "markdown"
   },
   "source": [
    "Let’s slowly build up to making this list. Here we get the day numbers we will use."
   ]
  },
  {
   "cell_type": "code",
   "execution_count": null,
   "metadata": {
    "cell_id": "06c61fa919f54a87aff3e1187df13e36",
    "deepnote_cell_type": "code",
    "deepnote_to_be_reexecuted": false,
    "execution_millis": 17,
    "execution_start": 1698091613299,
    "source_hash": null
   },
   "outputs": [
    {
     "name": "stdout",
     "output_type": "stream",
     "text": [
      "23\n",
      "24\n",
      "25\n",
      "26\n",
      "27\n",
      "28\n",
      "29\n"
     ]
    }
   ],
   "source": [
    "for i in range(23,30):\n",
    "    print(i)"
   ]
  },
  {
   "cell_type": "markdown",
   "metadata": {
    "cell_id": "45754013ce10418bb4e6f4b424a59901",
    "deepnote_cell_type": "markdown"
   },
   "source": [
    "The following is not going to work… how would Python know that the i inside the string was a variable?"
   ]
  },
  {
   "cell_type": "code",
   "execution_count": null,
   "metadata": {
    "cell_id": "89fcd5038d234ea098fd37b5063e6476",
    "deepnote_cell_type": "code",
    "deepnote_to_be_reexecuted": false,
    "execution_millis": 21,
    "execution_start": 1698099729589,
    "source_hash": null
   },
   "outputs": [
    {
     "name": "stdout",
     "output_type": "stream",
     "text": [
      "10-i-2023\n",
      "10-i-2023\n",
      "10-i-2023\n",
      "10-i-2023\n",
      "10-i-2023\n",
      "10-i-2023\n",
      "10-i-2023\n"
     ]
    }
   ],
   "source": [
    "# generate string '10-23-2023' by changing the date\n",
    "\n",
    "for i in range(23,30):\n",
    "    print('10-i-2023')"
   ]
  },
  {
   "cell_type": "markdown",
   "metadata": {
    "cell_id": "a93179e20636465e839cc6188865878b",
    "deepnote_cell_type": "markdown"
   },
   "source": [
    "To fix the above error, we need to convert `i` to a string, using `str`. This works, but we will see a much more elegant way below."
   ]
  },
  {
   "cell_type": "code",
   "execution_count": null,
   "metadata": {
    "cell_id": "1261d90427af4b2ba1285796c04cad3e",
    "deepnote_cell_type": "code",
    "deepnote_to_be_reexecuted": false,
    "execution_millis": 30,
    "execution_start": 1698091837562,
    "source_hash": null
   },
   "outputs": [
    {
     "name": "stdout",
     "output_type": "stream",
     "text": [
      "10-23-2023\n",
      "10-24-2023\n",
      "10-25-2023\n",
      "10-26-2023\n",
      "10-27-2023\n",
      "10-28-2023\n",
      "10-29-2023\n"
     ]
    }
   ],
   "source": [
    "for i in range(23,30):\n",
    "    print('10-' + str(i) + '-2023')"
   ]
  },
  {
   "cell_type": "markdown",
   "metadata": {
    "cell_id": "7273a71e27eb43c5b82a0fcc848c3839",
    "deepnote_cell_type": "markdown"
   },
   "source": [
    "Here is the exact same thing, but using f-strings (a way to embed expressions inside string ). (These were added relatively recently, in Python 3.6.) Notice the two changes: (1) We put the letter `f` before the opening quotation mark, and (2) we put the variable inside curly brackets."
   ]
  },
  {
   "cell_type": "code",
   "execution_count": null,
   "metadata": {
    "cell_id": "093026af15ba42059d047bab38ed0722",
    "deepnote_cell_type": "code",
    "deepnote_to_be_reexecuted": false,
    "execution_millis": 22,
    "execution_start": 1698092037021,
    "source_hash": null
   },
   "outputs": [
    {
     "name": "stdout",
     "output_type": "stream",
     "text": [
      "10-23-2023\n",
      "10-24-2023\n",
      "10-25-2023\n",
      "10-26-2023\n",
      "10-27-2023\n",
      "10-28-2023\n",
      "10-29-2023\n"
     ]
    }
   ],
   "source": [
    "# f-string way\n",
    "for i in range(23,30):\n",
    "    print(f\"10-{i}-2023\")"
   ]
  },
  {
   "cell_type": "markdown",
   "metadata": {
    "cell_id": "23ab1685fb00475e91ef1acf4de9ec4a",
    "deepnote_cell_type": "markdown"
   },
   "source": [
    "Use the `to_datetime` function and the `day_name` method to get the strings for the days of the week."
   ]
  },
  {
   "cell_type": "code",
   "execution_count": null,
   "metadata": {
    "cell_id": "a57e8be3a6e74e56a5f57a9757fe76d5",
    "deepnote_cell_type": "code",
    "deepnote_to_be_reexecuted": false,
    "execution_millis": 49,
    "execution_start": 1698092139522,
    "source_hash": null
   },
   "outputs": [
    {
     "name": "stdout",
     "output_type": "stream",
     "text": [
      "Monday\n",
      "Tuesday\n",
      "Wednesday\n",
      "Thursday\n",
      "Friday\n",
      "Saturday\n",
      "Sunday\n"
     ]
    }
   ],
   "source": [
    "for i in range(23,30):\n",
    "    print(pd.to_datetime(f\"10-{i}-2023\").day_name())"
   ]
  },
  {
   "cell_type": "code",
   "execution_count": null,
   "metadata": {
    "cell_id": "f88c2a0bc8944d018b6e69a9d3d71b77",
    "deepnote_cell_type": "code",
    "deepnote_to_be_reexecuted": false,
    "execution_millis": 20,
    "execution_start": 1698092256374,
    "source_hash": null
   },
   "outputs": [
    {
     "data": {
      "text/plain": [
       "['Monday', 'Tuesday', 'Wednesday', 'Thursday', 'Friday', 'Saturday', 'Sunday']"
      ]
     },
     "execution_count": 9,
     "metadata": {},
     "output_type": "execute_result"
    }
   ],
   "source": [
    "day_list = []\n",
    "for i in range(23,30):\n",
    "    day_list.append(pd.to_datetime(f\"10-{i}-2023\").day_name())\n",
    "\n",
    "day_list"
   ]
  },
  {
   "cell_type": "markdown",
   "metadata": {
    "cell_id": "af5928e652954974b0b897ef28d8ee50",
    "deepnote_cell_type": "markdown"
   },
   "source": [
    "The list comprehension approach is much more elegant. The most basic example of list comprehension is `[A for B in C]`, where `A` is what should go into the list, `B` is the variable name, and `C` is whatever we are iterating over. The best way to gain comfort with list comprehension is to do the same thing using a for loop, and compare. For example, compare the following to what we just did."
   ]
  },
  {
   "cell_type": "code",
   "execution_count": null,
   "metadata": {
    "cell_id": "ac83648ff3aa4f6c96eda1a01045b7e5",
    "deepnote_cell_type": "code",
    "deepnote_to_be_reexecuted": false,
    "execution_millis": 20,
    "execution_start": 1698092451274,
    "source_hash": null
   },
   "outputs": [
    {
     "data": {
      "text/plain": [
       "['Monday', 'Tuesday', 'Wednesday', 'Thursday', 'Friday', 'Saturday', 'Sunday']"
      ]
     },
     "execution_count": 10,
     "metadata": {},
     "output_type": "execute_result"
    }
   ],
   "source": [
    "day_list2 = [pd.to_datetime(f\"10-{i}-2023\").day_name() for i in range(23,30)]\n",
    "day_list2"
   ]
  },
  {
   "cell_type": "markdown",
   "metadata": {
    "cell_id": "67d7f73efc73404c80a642afddb62eda",
    "deepnote_cell_type": "markdown"
   },
   "source": [
    "Use f-strings when you need to embed variables or expressions inside strings, especially when readability and concise syntax are priorities.\n",
    "\n",
    "Use `str` primarily for converting other data types to strings or when working with static strings. If you're working in environments with Python versions earlier than 3.6, you'll need to avoid f-strings."
   ]
  },
  {
   "cell_type": "code",
   "execution_count": null,
   "metadata": {
    "cell_id": "0e452116abb84d8cb8b45c0535932e0c",
    "deepnote_cell_type": "code",
    "deepnote_to_be_reexecuted": false,
    "execution_millis": 18,
    "execution_start": 1698100090317,
    "source_hash": null
   },
   "outputs": [
    {
     "name": "stdout",
     "output_type": "stream",
     "text": [
      "Alice is 30 years old.\n"
     ]
    }
   ],
   "source": [
    "name = \"Alice\"\n",
    "age = 30\n",
    "print(f\"{name} is {age} years old.\")\n"
   ]
  },
  {
   "cell_type": "markdown",
   "metadata": {
    "cell_id": "8abd07535ef14e2cafe5bccdd6df6b1a",
    "deepnote_cell_type": "markdown"
   },
   "source": [
    "## Lambda Functions\n",
    "\n",
    "A lambda function is a small anonymous function. A lambda function can take any number of arguments, but can only have one expression.\n",
    "\n"
   ]
  },
  {
   "cell_type": "code",
   "execution_count": null,
   "metadata": {
    "cell_id": "772f0a5bed8546b587f8022dd959addf",
    "deepnote_cell_type": "code",
    "deepnote_to_be_reexecuted": false,
    "execution_millis": 81,
    "execution_start": 1698092735661,
    "source_hash": null
   },
   "outputs": [
    {
     "data": {
      "text/plain": [
       "15"
      ]
     },
     "execution_count": 11,
     "metadata": {},
     "output_type": "execute_result"
    }
   ],
   "source": [
    "f = lambda x: x + 10 # input:x, output: x+10\n",
    "f(5)"
   ]
  },
  {
   "cell_type": "markdown",
   "metadata": {
    "cell_id": "e05a49dfe5c942be94b1782865d72f92",
    "deepnote_cell_type": "markdown"
   },
   "source": [
    "## `map`, `apply` and `applymap` functions\n",
    "\n",
    "`map`: Works element-wise on a Series.\n",
    "`apply`: Works on a row/column basis of a DataFrame.\n",
    "`applymap`: Works element-wise on a DataFrame."
   ]
  },
  {
   "cell_type": "code",
   "execution_count": null,
   "metadata": {
    "cell_id": "4974360601894148a9e016856acd6e09",
    "deepnote_cell_type": "code",
    "deepnote_to_be_reexecuted": false,
    "execution_millis": 30,
    "execution_start": 1698092820701,
    "source_hash": null
   },
   "outputs": [
    {
     "name": "stdout",
     "output_type": "stream",
     "text": [
      "   A  B  C\n",
      "0  1  4  7\n",
      "1  2  5  8\n",
      "2  3  6  9\n"
     ]
    }
   ],
   "source": [
    "import pandas as pd\n",
    "\n",
    "# Sample DataFrame\n",
    "data = {\n",
    "    'A': [1, 2, 3],\n",
    "    'B': [4, 5, 6],\n",
    "    'C': [7, 8, 9]\n",
    "}\n",
    "\n",
    "df = pd.DataFrame(data)\n",
    "print(df)\n"
   ]
  },
  {
   "cell_type": "code",
   "execution_count": null,
   "metadata": {
    "cell_id": "f9b32b2f813a40db89eea75a38154182",
    "deepnote_cell_type": "code",
    "deepnote_to_be_reexecuted": false,
    "execution_millis": 32,
    "execution_start": 1698092938643,
    "source_hash": null
   },
   "outputs": [
    {
     "data": {
      "text/plain": [
       "0    2\n",
       "1    4\n",
       "2    6\n",
       "Name: A, dtype: int64"
      ]
     },
     "execution_count": 13,
     "metadata": {},
     "output_type": "execute_result"
    }
   ],
   "source": [
    "df['A'].map(lambda x: x*2)"
   ]
  },
  {
   "cell_type": "code",
   "execution_count": null,
   "metadata": {
    "cell_id": "06b6673cd9da476e9d9ef3831990d065",
    "deepnote_cell_type": "code",
    "deepnote_to_be_reexecuted": false,
    "execution_millis": 27,
    "execution_start": 1698093088033,
    "source_hash": null
   },
   "outputs": [
    {
     "data": {
      "text/plain": [
       "0    2\n",
       "1    4\n",
       "2    6\n",
       "Name: A, dtype: int64"
      ]
     },
     "execution_count": 14,
     "metadata": {},
     "output_type": "execute_result"
    }
   ],
   "source": [
    "# Using with DataFrame's column:\n",
    "df['A'].apply(lambda x: x*2)"
   ]
  },
  {
   "cell_type": "code",
   "execution_count": null,
   "metadata": {
    "cell_id": "606451c4e793444c9cfc1fc44d1f98d2",
    "deepnote_cell_type": "code",
    "deepnote_to_be_reexecuted": false,
    "execution_millis": 185,
    "execution_start": 1698093108765,
    "source_hash": null
   },
   "outputs": [
    {
     "data": {
      "application/vnd.deepnote.dataframe.v3+json": {
       "column_count": 3,
       "columns": [
        {
         "dtype": "int64",
         "name": "A",
         "stats": {
          "histogram": [
           {
            "bin_end": 1.2,
            "bin_start": 1,
            "count": 1
           },
           {
            "bin_end": 1.4,
            "bin_start": 1.2,
            "count": 0
           },
           {
            "bin_end": 1.6,
            "bin_start": 1.4,
            "count": 0
           },
           {
            "bin_end": 1.8,
            "bin_start": 1.6,
            "count": 0
           },
           {
            "bin_end": 2,
            "bin_start": 1.8,
            "count": 0
           },
           {
            "bin_end": 2.2,
            "bin_start": 2,
            "count": 1
           },
           {
            "bin_end": 2.4000000000000004,
            "bin_start": 2.2,
            "count": 0
           },
           {
            "bin_end": 2.6,
            "bin_start": 2.4000000000000004,
            "count": 0
           },
           {
            "bin_end": 2.8,
            "bin_start": 2.6,
            "count": 0
           },
           {
            "bin_end": 3,
            "bin_start": 2.8,
            "count": 1
           }
          ],
          "max": "3",
          "min": "1",
          "nan_count": 0,
          "unique_count": 3
         }
        },
        {
         "dtype": "int64",
         "name": "B",
         "stats": {
          "histogram": [
           {
            "bin_end": 4.2,
            "bin_start": 4,
            "count": 1
           },
           {
            "bin_end": 4.4,
            "bin_start": 4.2,
            "count": 0
           },
           {
            "bin_end": 4.6,
            "bin_start": 4.4,
            "count": 0
           },
           {
            "bin_end": 4.8,
            "bin_start": 4.6,
            "count": 0
           },
           {
            "bin_end": 5,
            "bin_start": 4.8,
            "count": 0
           },
           {
            "bin_end": 5.2,
            "bin_start": 5,
            "count": 1
           },
           {
            "bin_end": 5.4,
            "bin_start": 5.2,
            "count": 0
           },
           {
            "bin_end": 5.6,
            "bin_start": 5.4,
            "count": 0
           },
           {
            "bin_end": 5.8,
            "bin_start": 5.6,
            "count": 0
           },
           {
            "bin_end": 6,
            "bin_start": 5.8,
            "count": 1
           }
          ],
          "max": "6",
          "min": "4",
          "nan_count": 0,
          "unique_count": 3
         }
        },
        {
         "dtype": "int64",
         "name": "C",
         "stats": {
          "histogram": [
           {
            "bin_end": 7.2,
            "bin_start": 7,
            "count": 1
           },
           {
            "bin_end": 7.4,
            "bin_start": 7.2,
            "count": 0
           },
           {
            "bin_end": 7.6,
            "bin_start": 7.4,
            "count": 0
           },
           {
            "bin_end": 7.8,
            "bin_start": 7.6,
            "count": 0
           },
           {
            "bin_end": 8,
            "bin_start": 7.8,
            "count": 0
           },
           {
            "bin_end": 8.2,
            "bin_start": 8,
            "count": 1
           },
           {
            "bin_end": 8.4,
            "bin_start": 8.2,
            "count": 0
           },
           {
            "bin_end": 8.6,
            "bin_start": 8.4,
            "count": 0
           },
           {
            "bin_end": 8.8,
            "bin_start": 8.6,
            "count": 0
           },
           {
            "bin_end": 9,
            "bin_start": 8.8,
            "count": 1
           }
          ],
          "max": "9",
          "min": "7",
          "nan_count": 0,
          "unique_count": 3
         }
        },
        {
         "dtype": "int64",
         "name": "_deepnote_index_column"
        }
       ],
       "row_count": 3,
       "rows": [
        {
         "A": 1,
         "B": 4,
         "C": 7,
         "_deepnote_index_column": 0
        },
        {
         "A": 2,
         "B": 5,
         "C": 8,
         "_deepnote_index_column": 1
        },
        {
         "A": 3,
         "B": 6,
         "C": 9,
         "_deepnote_index_column": 2
        }
       ]
      },
      "text/html": [
       "<div>\n",
       "<style scoped>\n",
       "    .dataframe tbody tr th:only-of-type {\n",
       "        vertical-align: middle;\n",
       "    }\n",
       "\n",
       "    .dataframe tbody tr th {\n",
       "        vertical-align: top;\n",
       "    }\n",
       "\n",
       "    .dataframe thead th {\n",
       "        text-align: right;\n",
       "    }\n",
       "</style>\n",
       "<table border=\"1\" class=\"dataframe\">\n",
       "  <thead>\n",
       "    <tr style=\"text-align: right;\">\n",
       "      <th></th>\n",
       "      <th>A</th>\n",
       "      <th>B</th>\n",
       "      <th>C</th>\n",
       "    </tr>\n",
       "  </thead>\n",
       "  <tbody>\n",
       "    <tr>\n",
       "      <th>0</th>\n",
       "      <td>1</td>\n",
       "      <td>4</td>\n",
       "      <td>7</td>\n",
       "    </tr>\n",
       "    <tr>\n",
       "      <th>1</th>\n",
       "      <td>2</td>\n",
       "      <td>5</td>\n",
       "      <td>8</td>\n",
       "    </tr>\n",
       "    <tr>\n",
       "      <th>2</th>\n",
       "      <td>3</td>\n",
       "      <td>6</td>\n",
       "      <td>9</td>\n",
       "    </tr>\n",
       "  </tbody>\n",
       "</table>\n",
       "</div>"
      ],
      "text/plain": [
       "   A  B  C\n",
       "0  1  4  7\n",
       "1  2  5  8\n",
       "2  3  6  9"
      ]
     },
     "execution_count": 15,
     "metadata": {},
     "output_type": "execute_result"
    }
   ],
   "source": [
    "df"
   ]
  },
  {
   "cell_type": "markdown",
   "metadata": {
    "cell_id": "1ea03455557e497683881cadfbb25c16",
    "deepnote_cell_type": "markdown"
   },
   "source": [
    "Using `apply` with DataFrame's row:\n",
    "If you set axis=1, you can apply a function that acts on each row. The function will receive a row (as a Series), and you can access its columns.\n",
    "\n",
    "axis=0 (rows) is like a \"drop\" (going down the rows).\n",
    "axis=1 (columns) is like a \"slide\" (going across the columns)."
   ]
  },
  {
   "cell_type": "code",
   "execution_count": null,
   "metadata": {
    "cell_id": "14ba94c22e4e447e952351193aac31cb",
    "deepnote_cell_type": "code",
    "deepnote_to_be_reexecuted": false,
    "execution_millis": 115,
    "execution_start": 1698093294384,
    "source_hash": null
   },
   "outputs": [
    {
     "data": {
      "application/vnd.deepnote.dataframe.v3+json": {
       "column_count": 4,
       "columns": [
        {
         "dtype": "int64",
         "name": "A",
         "stats": {
          "histogram": [
           {
            "bin_end": 1.2,
            "bin_start": 1,
            "count": 1
           },
           {
            "bin_end": 1.4,
            "bin_start": 1.2,
            "count": 0
           },
           {
            "bin_end": 1.6,
            "bin_start": 1.4,
            "count": 0
           },
           {
            "bin_end": 1.8,
            "bin_start": 1.6,
            "count": 0
           },
           {
            "bin_end": 2,
            "bin_start": 1.8,
            "count": 0
           },
           {
            "bin_end": 2.2,
            "bin_start": 2,
            "count": 1
           },
           {
            "bin_end": 2.4000000000000004,
            "bin_start": 2.2,
            "count": 0
           },
           {
            "bin_end": 2.6,
            "bin_start": 2.4000000000000004,
            "count": 0
           },
           {
            "bin_end": 2.8,
            "bin_start": 2.6,
            "count": 0
           },
           {
            "bin_end": 3,
            "bin_start": 2.8,
            "count": 1
           }
          ],
          "max": "3",
          "min": "1",
          "nan_count": 0,
          "unique_count": 3
         }
        },
        {
         "dtype": "int64",
         "name": "B",
         "stats": {
          "histogram": [
           {
            "bin_end": 4.2,
            "bin_start": 4,
            "count": 1
           },
           {
            "bin_end": 4.4,
            "bin_start": 4.2,
            "count": 0
           },
           {
            "bin_end": 4.6,
            "bin_start": 4.4,
            "count": 0
           },
           {
            "bin_end": 4.8,
            "bin_start": 4.6,
            "count": 0
           },
           {
            "bin_end": 5,
            "bin_start": 4.8,
            "count": 0
           },
           {
            "bin_end": 5.2,
            "bin_start": 5,
            "count": 1
           },
           {
            "bin_end": 5.4,
            "bin_start": 5.2,
            "count": 0
           },
           {
            "bin_end": 5.6,
            "bin_start": 5.4,
            "count": 0
           },
           {
            "bin_end": 5.8,
            "bin_start": 5.6,
            "count": 0
           },
           {
            "bin_end": 6,
            "bin_start": 5.8,
            "count": 1
           }
          ],
          "max": "6",
          "min": "4",
          "nan_count": 0,
          "unique_count": 3
         }
        },
        {
         "dtype": "int64",
         "name": "C",
         "stats": {
          "histogram": [
           {
            "bin_end": 7.2,
            "bin_start": 7,
            "count": 1
           },
           {
            "bin_end": 7.4,
            "bin_start": 7.2,
            "count": 0
           },
           {
            "bin_end": 7.6,
            "bin_start": 7.4,
            "count": 0
           },
           {
            "bin_end": 7.8,
            "bin_start": 7.6,
            "count": 0
           },
           {
            "bin_end": 8,
            "bin_start": 7.8,
            "count": 0
           },
           {
            "bin_end": 8.2,
            "bin_start": 8,
            "count": 1
           },
           {
            "bin_end": 8.4,
            "bin_start": 8.2,
            "count": 0
           },
           {
            "bin_end": 8.6,
            "bin_start": 8.4,
            "count": 0
           },
           {
            "bin_end": 8.8,
            "bin_start": 8.6,
            "count": 0
           },
           {
            "bin_end": 9,
            "bin_start": 8.8,
            "count": 1
           }
          ],
          "max": "9",
          "min": "7",
          "nan_count": 0,
          "unique_count": 3
         }
        },
        {
         "dtype": "int64",
         "name": "sum",
         "stats": {
          "histogram": [
           {
            "bin_end": 12.6,
            "bin_start": 12,
            "count": 1
           },
           {
            "bin_end": 13.2,
            "bin_start": 12.6,
            "count": 0
           },
           {
            "bin_end": 13.8,
            "bin_start": 13.2,
            "count": 0
           },
           {
            "bin_end": 14.4,
            "bin_start": 13.8,
            "count": 0
           },
           {
            "bin_end": 15,
            "bin_start": 14.4,
            "count": 0
           },
           {
            "bin_end": 15.6,
            "bin_start": 15,
            "count": 1
           },
           {
            "bin_end": 16.2,
            "bin_start": 15.6,
            "count": 0
           },
           {
            "bin_end": 16.8,
            "bin_start": 16.2,
            "count": 0
           },
           {
            "bin_end": 17.4,
            "bin_start": 16.8,
            "count": 0
           },
           {
            "bin_end": 18,
            "bin_start": 17.4,
            "count": 1
           }
          ],
          "max": "18",
          "min": "12",
          "nan_count": 0,
          "unique_count": 3
         }
        },
        {
         "dtype": "int64",
         "name": "_deepnote_index_column"
        }
       ],
       "row_count": 3,
       "rows": [
        {
         "A": 1,
         "B": 4,
         "C": 7,
         "_deepnote_index_column": 0,
         "sum": 12
        },
        {
         "A": 2,
         "B": 5,
         "C": 8,
         "_deepnote_index_column": 1,
         "sum": 15
        },
        {
         "A": 3,
         "B": 6,
         "C": 9,
         "_deepnote_index_column": 2,
         "sum": 18
        }
       ]
      },
      "text/html": [
       "<div>\n",
       "<style scoped>\n",
       "    .dataframe tbody tr th:only-of-type {\n",
       "        vertical-align: middle;\n",
       "    }\n",
       "\n",
       "    .dataframe tbody tr th {\n",
       "        vertical-align: top;\n",
       "    }\n",
       "\n",
       "    .dataframe thead th {\n",
       "        text-align: right;\n",
       "    }\n",
       "</style>\n",
       "<table border=\"1\" class=\"dataframe\">\n",
       "  <thead>\n",
       "    <tr style=\"text-align: right;\">\n",
       "      <th></th>\n",
       "      <th>A</th>\n",
       "      <th>B</th>\n",
       "      <th>C</th>\n",
       "      <th>sum</th>\n",
       "    </tr>\n",
       "  </thead>\n",
       "  <tbody>\n",
       "    <tr>\n",
       "      <th>0</th>\n",
       "      <td>1</td>\n",
       "      <td>4</td>\n",
       "      <td>7</td>\n",
       "      <td>12</td>\n",
       "    </tr>\n",
       "    <tr>\n",
       "      <th>1</th>\n",
       "      <td>2</td>\n",
       "      <td>5</td>\n",
       "      <td>8</td>\n",
       "      <td>15</td>\n",
       "    </tr>\n",
       "    <tr>\n",
       "      <th>2</th>\n",
       "      <td>3</td>\n",
       "      <td>6</td>\n",
       "      <td>9</td>\n",
       "      <td>18</td>\n",
       "    </tr>\n",
       "  </tbody>\n",
       "</table>\n",
       "</div>"
      ],
      "text/plain": [
       "   A  B  C  sum\n",
       "0  1  4  7   12\n",
       "1  2  5  8   15\n",
       "2  3  6  9   18"
      ]
     },
     "execution_count": 18,
     "metadata": {},
     "output_type": "execute_result"
    }
   ],
   "source": [
    "df[\"sum\"] = df.apply(lambda row: row[\"A\"] + row[\"B\"] + row[\"C\"], axis = 1) \n",
    "df"
   ]
  },
  {
   "cell_type": "markdown",
   "metadata": {
    "cell_id": "093d4a2ec6b04d1686bfb20a1c30ecf0",
    "deepnote_cell_type": "markdown"
   },
   "source": [
    "The `applymap` function is used to apply a function to each individual element in the entire DataFrame."
   ]
  },
  {
   "cell_type": "code",
   "execution_count": null,
   "metadata": {
    "cell_id": "3e9f788336d84b69a3cb86cf3899414c",
    "deepnote_cell_type": "code",
    "deepnote_to_be_reexecuted": false,
    "execution_millis": 112,
    "execution_start": 1698093549214,
    "source_hash": null
   },
   "outputs": [
    {
     "data": {
      "application/vnd.deepnote.dataframe.v3+json": {
       "column_count": 4,
       "columns": [
        {
         "dtype": "int64",
         "name": "A",
         "stats": {
          "histogram": [
           {
            "bin_end": 1.8,
            "bin_start": 1,
            "count": 1
           },
           {
            "bin_end": 2.6,
            "bin_start": 1.8,
            "count": 0
           },
           {
            "bin_end": 3.4000000000000004,
            "bin_start": 2.6,
            "count": 0
           },
           {
            "bin_end": 4.2,
            "bin_start": 3.4000000000000004,
            "count": 1
           },
           {
            "bin_end": 5,
            "bin_start": 4.2,
            "count": 0
           },
           {
            "bin_end": 5.800000000000001,
            "bin_start": 5,
            "count": 0
           },
           {
            "bin_end": 6.6000000000000005,
            "bin_start": 5.800000000000001,
            "count": 0
           },
           {
            "bin_end": 7.4,
            "bin_start": 6.6000000000000005,
            "count": 0
           },
           {
            "bin_end": 8.2,
            "bin_start": 7.4,
            "count": 0
           },
           {
            "bin_end": 9,
            "bin_start": 8.2,
            "count": 1
           }
          ],
          "max": "9",
          "min": "1",
          "nan_count": 0,
          "unique_count": 3
         }
        },
        {
         "dtype": "int64",
         "name": "B",
         "stats": {
          "histogram": [
           {
            "bin_end": 18,
            "bin_start": 16,
            "count": 1
           },
           {
            "bin_end": 20,
            "bin_start": 18,
            "count": 0
           },
           {
            "bin_end": 22,
            "bin_start": 20,
            "count": 0
           },
           {
            "bin_end": 24,
            "bin_start": 22,
            "count": 0
           },
           {
            "bin_end": 26,
            "bin_start": 24,
            "count": 1
           },
           {
            "bin_end": 28,
            "bin_start": 26,
            "count": 0
           },
           {
            "bin_end": 30,
            "bin_start": 28,
            "count": 0
           },
           {
            "bin_end": 32,
            "bin_start": 30,
            "count": 0
           },
           {
            "bin_end": 34,
            "bin_start": 32,
            "count": 0
           },
           {
            "bin_end": 36,
            "bin_start": 34,
            "count": 1
           }
          ],
          "max": "36",
          "min": "16",
          "nan_count": 0,
          "unique_count": 3
         }
        },
        {
         "dtype": "int64",
         "name": "C",
         "stats": {
          "histogram": [
           {
            "bin_end": 52.2,
            "bin_start": 49,
            "count": 1
           },
           {
            "bin_end": 55.4,
            "bin_start": 52.2,
            "count": 0
           },
           {
            "bin_end": 58.6,
            "bin_start": 55.4,
            "count": 0
           },
           {
            "bin_end": 61.8,
            "bin_start": 58.6,
            "count": 0
           },
           {
            "bin_end": 65,
            "bin_start": 61.8,
            "count": 1
           },
           {
            "bin_end": 68.2,
            "bin_start": 65,
            "count": 0
           },
           {
            "bin_end": 71.4,
            "bin_start": 68.2,
            "count": 0
           },
           {
            "bin_end": 74.6,
            "bin_start": 71.4,
            "count": 0
           },
           {
            "bin_end": 77.8,
            "bin_start": 74.6,
            "count": 0
           },
           {
            "bin_end": 81,
            "bin_start": 77.8,
            "count": 1
           }
          ],
          "max": "81",
          "min": "49",
          "nan_count": 0,
          "unique_count": 3
         }
        },
        {
         "dtype": "int64",
         "name": "sum",
         "stats": {
          "histogram": [
           {
            "bin_end": 162,
            "bin_start": 144,
            "count": 1
           },
           {
            "bin_end": 180,
            "bin_start": 162,
            "count": 0
           },
           {
            "bin_end": 198,
            "bin_start": 180,
            "count": 0
           },
           {
            "bin_end": 216,
            "bin_start": 198,
            "count": 0
           },
           {
            "bin_end": 234,
            "bin_start": 216,
            "count": 1
           },
           {
            "bin_end": 252,
            "bin_start": 234,
            "count": 0
           },
           {
            "bin_end": 270,
            "bin_start": 252,
            "count": 0
           },
           {
            "bin_end": 288,
            "bin_start": 270,
            "count": 0
           },
           {
            "bin_end": 306,
            "bin_start": 288,
            "count": 0
           },
           {
            "bin_end": 324,
            "bin_start": 306,
            "count": 1
           }
          ],
          "max": "324",
          "min": "144",
          "nan_count": 0,
          "unique_count": 3
         }
        },
        {
         "dtype": "int64",
         "name": "_deepnote_index_column"
        }
       ],
       "row_count": 3,
       "rows": [
        {
         "A": 1,
         "B": 16,
         "C": 49,
         "_deepnote_index_column": 0,
         "sum": 144
        },
        {
         "A": 4,
         "B": 25,
         "C": 64,
         "_deepnote_index_column": 1,
         "sum": 225
        },
        {
         "A": 9,
         "B": 36,
         "C": 81,
         "_deepnote_index_column": 2,
         "sum": 324
        }
       ]
      },
      "text/html": [
       "<div>\n",
       "<style scoped>\n",
       "    .dataframe tbody tr th:only-of-type {\n",
       "        vertical-align: middle;\n",
       "    }\n",
       "\n",
       "    .dataframe tbody tr th {\n",
       "        vertical-align: top;\n",
       "    }\n",
       "\n",
       "    .dataframe thead th {\n",
       "        text-align: right;\n",
       "    }\n",
       "</style>\n",
       "<table border=\"1\" class=\"dataframe\">\n",
       "  <thead>\n",
       "    <tr style=\"text-align: right;\">\n",
       "      <th></th>\n",
       "      <th>A</th>\n",
       "      <th>B</th>\n",
       "      <th>C</th>\n",
       "      <th>sum</th>\n",
       "    </tr>\n",
       "  </thead>\n",
       "  <tbody>\n",
       "    <tr>\n",
       "      <th>0</th>\n",
       "      <td>1</td>\n",
       "      <td>16</td>\n",
       "      <td>49</td>\n",
       "      <td>144</td>\n",
       "    </tr>\n",
       "    <tr>\n",
       "      <th>1</th>\n",
       "      <td>4</td>\n",
       "      <td>25</td>\n",
       "      <td>64</td>\n",
       "      <td>225</td>\n",
       "    </tr>\n",
       "    <tr>\n",
       "      <th>2</th>\n",
       "      <td>9</td>\n",
       "      <td>36</td>\n",
       "      <td>81</td>\n",
       "      <td>324</td>\n",
       "    </tr>\n",
       "  </tbody>\n",
       "</table>\n",
       "</div>"
      ],
      "text/plain": [
       "   A   B   C  sum\n",
       "0  1  16  49  144\n",
       "1  4  25  64  225\n",
       "2  9  36  81  324"
      ]
     },
     "execution_count": 19,
     "metadata": {},
     "output_type": "execute_result"
    }
   ],
   "source": [
    "df.applymap(lambda x: x**2) #square"
   ]
  },
  {
   "cell_type": "markdown",
   "metadata": {
    "created_in_deepnote_cell": true,
    "deepnote_cell_type": "markdown"
   },
   "source": [
    "<a style='text-decoration:none;line-height:16px;display:flex;color:#5B5B62;padding:10px;justify-content:end;' href='https://deepnote.com?utm_source=created-in-deepnote-cell&projectId=3e5cb608-40c9-4839-9553-d9f5a4b75aea' target=\"_blank\">\n",
    "<img alt='Created in deepnote.com' style='display:inline;max-height:16px;margin:0px;margin-right:7.5px;' src='data:image/svg+xml;base64,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' > </img>\n",
    "Created in <span style='font-weight:600;margin-left:4px;'>Deepnote</span></a>"
   ]
  }
 ],
 "metadata": {
  "deepnote": {},
  "deepnote_execution_queue": [],
  "deepnote_notebook_id": "004d3996aa114ff6a7ac6ceecc001263",
  "deepnote_persisted_session": {
   "createdAt": "2023-10-23T22:46:41.563Z"
  },
  "kernelspec": {
   "display_name": "Python 3 (ipykernel)",
   "language": "python",
   "name": "python3"
  },
  "language_info": {
   "codemirror_mode": {
    "name": "ipython",
    "version": 3
   },
   "file_extension": ".py",
   "mimetype": "text/x-python",
   "name": "python",
   "nbconvert_exporter": "python",
   "pygments_lexer": "ipython3",
   "version": "3.9.18"
  }
 },
 "nbformat": 4,
 "nbformat_minor": 4
}