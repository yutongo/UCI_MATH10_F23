{
 "cells": [
  {
   "block_group": "f6bce1df9b68406eb90e5e69853be82d",
   "cell_type": "markdown",
   "metadata": {
    "cell_id": "94e414d039f34d3a96d1323e30e24ff4",
    "deepnote_cell_type": "markdown"
   },
   "source": [
    "# Project Instructions\n",
    "\n",
    "## Goal\n",
    "The purpose of the final project is to submit a Deepnote project which analyzes a dataset of your choice. This type of project could look great in a portfolio when applying to internships and jobs\n",
    "\n",
    "## Logistics\n",
    "The following are requirements to receive a passing score on the final project.\n",
    "* Due date: Wednesday, Dec 13rd 2023, 11:59pm California time. No late submissions will be accepted, so be sure to leave plenty of time to submit the link to your project on Canvas. \n",
    "* This is an individual project.\n",
    "* Use the *Project Template* available in the *Project* category on Deepnote.\n",
    "* Using the Share button at the top right on Deepnote, enable public sharing, and enable Comment privileges. Then submit the created link on Canvas.\n",
    "* The primary focus of the project must be on something involving data, and primarily using one or more datasets that weren't covered in Math 10.  You can use datasets that are built in to a Python library like Seaborn or scikit-learn, or you can upload the dataset to Deepnote yourself, such as a dataset that you downloaded from Kaggle, that you got from [openml.org](https://www.openml.org/), or that you got from UC Irvine's own [Machine Learning Repository](https://archive.ics.uci.edu/ml/index.php).  (**Warning**.  Deepnote does not allow datasets larger than 100mb to be uploaded.)\n",
    "* The project should clearly build on the Math 10 material.  If you're an expert in Python material that was not covered in Math 10, you are of course welcome to use that, but the project should use the topics of Math 10 in an essential way (see the rubric below).\n",
    "* Answer the questions at the top of the Deepnote template, especially the question regarding whether you want your project posted in the course notes.  Here are examples of student projects [from Spring 2023](https://christopherdavisuci.github.io/UCI-Math-10-S23/Proj/StudentProjects.html), examples of student projects [from Winter 2022](https://christopherdavisuci.github.io/UCI-Math-10-W22/Proj/StudentProjects.html), examples of student projects [from Spring 2022](https://christopherdavisuci.github.io/UCI-Math-10-S22/Proj/StudentProjects.html), and examples of student projects [from Fall 2022](https://christopherdavisuci.github.io/UCI-Math-10-F22/Proj/StudentProjects.html).\n",
    "* Anything that is taken from another source (either the idea for the project or a piece of code, even if you edit that code) should be explicitly referenced with a link.  (For example, you could write, \"The configuration of this Altair chart was adapted from \\[link\\].\").\n"
   ]
  },
  {
   "block_group": "1ce88985685347188da89c0404c73ed6",
   "cell_type": "markdown",
   "metadata": {
    "cell_id": "5b55aefb3f4a436998323a0fa4d94231",
    "deepnote_cell_type": "markdown"
   },
   "source": [
    "## Rubric\n",
    "The course project is worth 20% of the course grade, and we will grade the project out of 40 total points.\n",
    "1. (**Clarity**, 12 points) Is the project clear and well-organized?  Does it use good coding style?  Is the code *Pythonic* (for example, avoiding unnecessary for loops) and *DRY* (avoiding unnecessary repetition)?  Does it explore one or more clearly described datasets, and is it clear where those datasets came from?  Use text and markdown throughout the project to help the reader understand what is going on.  Is the reasoning clear? (It's fine if you have negative results like, \"so there is no clear connection between these variables\".  In fact, I prefer those sorts of results as opposed to unbelievable claims.)  Give your project a relevant title (like \"Species of penguins\" rather than \"Math 10 project\").\n",
    "1. (**Machine Learning**, 10 points) Does the project explore the data using a variety of tools from scikit-learn?   Does the project refer to essential aspects of data analysis, such as over-fitting, or the importance of a test set, or dimension reduction, or the difference between classification and regression?\n",
    "1. (**Pandas**, 6 points) Does the project make essential use of pandas to explore the data?  Using pandas to read and store the data is not sufficient.  It should also be used either to clean the data, or to analyze the data, or for performing *feature engineering*.\n",
    "1. (**Altair**, 6 points) Does the project include a variety of interesting charts, made using Altair?  Do we learn something about the data from these charts? \n",
    "1. (**Extra**, 6 points) Does the project include material that was not covered in Math 10?  (This could include different libraries, different machine learning algorithms, or deeper use of the libraries we covered in Math 10.  Some possible topics are included in the *Possible Extra Topics* notebook, but you're very encouraged to choose your own.)"
   ]
  },
  {
   "block_group": "fc234e0aa37d4a329cb59973e5b2e4b8",
   "cell_type": "markdown",
   "metadata": {
    "cell_id": "68a861f66d5a456b9220fdfe98bfeac1",
    "deepnote_cell_type": "markdown"
   },
   "source": [
    "## Advice\n",
    "Here is some general advice about the project.\n",
    "* Don't repeat the same technique multiple times unless it's really essential.  For example, having one interesting chart and a different less interesting chart is better than having the same interesting chart made for two different datasets.  (Of course, if you can find a *DRY* way to make many related charts, then that's great.)\n",
    "* Don't spend too much time searching for the perfect dataset or the perfect idea.  Having a great dataset is less important for the project than exploring the dataset in an interesting way.\n",
    "* Keep your statements reasonable.  It's beter to say \"Therefore, we didn’t see any relationship bewteen A and B.\"  than try to force a claim that just doesn’t seem true.\n",
    "* The main point of this project is to show what you've learned in Math 10.  If you were already an expert on Python before the class and you write a project based on different material, that probably won't get a good grade, even if it's very advanced.\n",
    "* Include many markdown cells (possibly very short, just one sentence) explaining what you are doing.  (These are different from Python comments.)  If you want to use bold text in your markdown cell, surround the text by two stars `**like this**`.  Be sure you're doing this in a markdown cell, as opposed to in a Python comment after a `#` symbol.\n",
    "* Please err on the side of referencing everything.  If your project is based on an idea you saw somewhere else, that's totally fine, but include a clear link in your project to the original source.  If your project is based on a tutorial, then it will be primarily graded based on what you've added to the tutorial.  For example, do you make it clear that you understand what's happening in the tutorial?"
   ]
  },
  {
   "block_group": "d28fbde47bd14884b32a7b757647f74c",
   "cell_type": "markdown",
   "metadata": {
    "cell_id": "3180d4b1bb534c72a48a93cd46157a3e",
    "deepnote_cell_type": "markdown"
   },
   "source": [
    "## Frequently asked questions\n",
    "Q: Is there a length requirement?\n",
    "* There is no specific length requirement, but as a rough estimate, spending approximately 12 productive hours on the project would be a good amount.  (The word \"productive\" is important.  Time spent browsing tutorials or datasets is not productive in this sense if you don't end up using that material.)\n",
    "\n",
    "Q: What should I focus on?\n",
    "* The primary content should be from one or more of the Math 10 tools (pandas, Altair, scikit-learn).  If you like pandas much more than Altair, for example, then it's okay to go more in-depth in the use of pandas, and less in-depth in the use of Altair, but you still need to include both.\n",
    "\n",
    "Q: Do I need to get original research results?\n",
    "* No!  If you explore the data in an interesting way, but can't find any interesting conclusions, that's fine.  In fact, I prefer that to making claims that the data does not support.\n",
    "\n",
    "Q: What if a lot of my work was done cleaning the data, but it does not appear in the project?\n",
    "* Include those cleaning steps in the project! (If the work was done outside of Python, like in Excel, then that portion will not count.)\n",
    "\n",
    "Q: Can I use a different plotting library?\n",
    "* You need to use Altair for the Altair portion of the rubric.  You can definitely use a different library (like Seaborn, Plotly, or deeper aspects of Matplotlib) for the extra part of the rubric.\n",
    "\n",
    "Q: What if I'm worried my project is too short?\n",
    "* It's fine to switch to a different topic halfway through your project.  If you finish what you originally planned and want to start something different, that's fine, even if it uses a different dataset.  This isn't like a history paper where you should have a coherent focus from start to end.\n",
    "\n",
    "Q: Can you look at my project early?\n",
    "* I'm happy to give a quick first impression and let you know if I have any immediate suggestions.  (I won't have time to read it thoroughly until the final submission.)\n",
    "\n",
    "Q: Do I need to post my project in the course notes?\n",
    "* No, that is totally optional, but it might be a nice idea if you would like to show the project if applying for an internship or grad school, for example.\n",
    "\n",
    "Q: How can I use an Excel file instead of a CSV file?\n",
    "* If you have an Excel file (with an extension .xlsx or .xls) instead of a csv file, you can try using `pd.read_excel` instead of `pd.read_csv`.  That usually doesn't work for me, but if I first try `!pip install openpyxl` and then try to use `pd.read_excel`, it usually works.  It might be easier to just open the file in Excel, save it as a comma-separated csv file there, and then upload that csv file.  Of course another option is just to open the Excel file in Excel or Google Sheets and then save it as a csv file from there."
   ]
  },
  {
   "block_group": "9f0115779f0e47a8a35dc2c7a41497fd",
   "cell_type": "markdown",
   "metadata": {
    "cell_id": "a2ff9711695a49899840ea77960a37cb",
    "deepnote_cell_type": "markdown"
   },
   "source": []
  },
  {
   "cell_type": "markdown",
   "metadata": {
    "created_in_deepnote_cell": true,
    "deepnote_cell_type": "markdown"
   },
   "source": [
    "<a style='text-decoration:none;line-height:16px;display:flex;color:#5B5B62;padding:10px;justify-content:end;' href='https://deepnote.com?utm_source=created-in-deepnote-cell&projectId=bfd880e7-cf64-49b0-90ad-d84e99c71d5c' target=\"_blank\">\n",
    "<img alt='Created in deepnote.com' style='display:inline;max-height:16px;margin:0px;margin-right:7.5px;' src='data:image/svg+xml;base64,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' > </img>\n",
    "Created in <span style='font-weight:600;margin-left:4px;'>Deepnote</span></a>"
   ]
  }
 ],
 "metadata": {
  "deepnote": {},
  "deepnote_execution_queue": [],
  "deepnote_notebook_id": "ce8b2b71547843d1b1c92c42564add34"
 },
 "nbformat": 4,
 "nbformat_minor": 0
}