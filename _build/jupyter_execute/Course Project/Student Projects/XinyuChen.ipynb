{
 "cells": [
  {
   "cell_type": "markdown",
   "metadata": {
    "cell_id": "5393ff02fbb242fe817be6f9d10dbbac",
    "deepnote_app_coordinates": {
     "h": 120,
     "w": 12,
     "x": 0,
     "y": 0
    },
    "deepnote_cell_type": "markdown",
    "tags": []
   },
   "source": [
    "# Transcation Fraud Detection\n",
    "\n",
    "Author: Xinyu Chen\n",
    "\n",
    "Email: chenxinyupeter@126.com\n",
    "\n",
    "Github: https://github.com/cxy-peter/Math-10-project\n",
    "\n",
    "\n",
    "Course Project, UC Irvine, Math 10, F23"
   ]
  },
  {
   "cell_type": "markdown",
   "metadata": {
    "cell_id": "1b49227bbed2428292866b4a3634e9f3",
    "deepnote_app_coordinates": {
     "h": 120,
     "w": 12,
     "x": 0,
     "y": 0
    },
    "deepnote_cell_type": "markdown",
    "tags": []
   },
   "source": [
    "## Introduction\n"
   ]
  },
  {
   "cell_type": "markdown",
   "metadata": {
    "cell_id": "2d169b5a41be45a7b927a7723cc96eca",
    "deepnote_app_coordinates": {
     "h": 120,
     "w": 12,
     "x": 0,
     "y": 0
    },
    "deepnote_cell_type": "markdown"
   },
   "source": [
    "**This project predicts the fraud detection using features. However, there also exists no-use features, so I have to find which dedicates most to the prediction. Also, it has results of 0 and 1, which presents to be a supervised learning and binary classification problem.**"
   ]
  },
  {
   "cell_type": "markdown",
   "metadata": {
    "cell_id": "88644b43014f469bbcedf46bd799d40e",
    "deepnote_app_coordinates": {
     "h": 120,
     "w": 12,
     "x": 0,
     "y": 0
    },
    "deepnote_cell_type": "markdown",
    "tags": []
   },
   "source": [
    "# 1. import data\n",
    "\n",
    "## **This original dataset costs long time to process, you may switch directly to the second dataset to run the cell, it will take shorter time, this section is for simplify the dataset. You can see the instruction underneath to straightforwardly run the second csv file.**"
   ]
  },
  {
   "cell_type": "code",
   "execution_count": null,
   "metadata": {
    "cell_id": "89219a5b0b364015a5f0dba364551c78",
    "deepnote_app_coordinates": {
     "h": 120,
     "w": 12,
     "x": 0,
     "y": 0
    },
    "deepnote_cell_type": "code",
    "deepnote_to_be_reexecuted": false,
    "execution_millis": 26180,
    "execution_start": 1701851026739,
    "source_hash": null
   },
   "outputs": [
    {
     "data": {
      "application/vnd.deepnote.dataframe.v3+json": {
       "column_count": 11,
       "columns": [
        {
         "dtype": "int64",
         "name": "step",
         "stats": {
          "histogram": [
           {
            "bin_end": 0.6,
            "bin_start": 0.5,
            "count": 0
           },
           {
            "bin_end": 0.7,
            "bin_start": 0.6,
            "count": 0
           },
           {
            "bin_end": 0.8,
            "bin_start": 0.7,
            "count": 0
           },
           {
            "bin_end": 0.9,
            "bin_start": 0.8,
            "count": 0
           },
           {
            "bin_end": 1,
            "bin_start": 0.9,
            "count": 0
           },
           {
            "bin_end": 1.1,
            "bin_start": 1,
            "count": 5
           },
           {
            "bin_end": 1.2000000000000002,
            "bin_start": 1.1,
            "count": 0
           },
           {
            "bin_end": 1.3,
            "bin_start": 1.2000000000000002,
            "count": 0
           },
           {
            "bin_end": 1.4,
            "bin_start": 1.3,
            "count": 0
           },
           {
            "bin_end": 1.5,
            "bin_start": 1.4,
            "count": 0
           }
          ],
          "max": "1",
          "min": "1",
          "nan_count": 0,
          "unique_count": 1
         }
        },
        {
         "dtype": "object",
         "name": "type",
         "stats": {
          "categories": [
           {
            "count": 3,
            "name": "PAYMENT"
           },
           {
            "count": 1,
            "name": "TRANSFER"
           },
           {
            "count": 1,
            "name": "CASH_OUT"
           }
          ],
          "nan_count": 0,
          "unique_count": 3
         }
        },
        {
         "dtype": "float64",
         "name": "amount",
         "stats": {
          "histogram": [
           {
            "bin_end": 1329.714,
            "bin_start": 181,
            "count": 2
           },
           {
            "bin_end": 2478.428,
            "bin_start": 1329.714,
            "count": 1
           },
           {
            "bin_end": 3627.142,
            "bin_start": 2478.428,
            "count": 0
           },
           {
            "bin_end": 4775.856,
            "bin_start": 3627.142,
            "count": 0
           },
           {
            "bin_end": 5924.57,
            "bin_start": 4775.856,
            "count": 0
           },
           {
            "bin_end": 7073.284,
            "bin_start": 5924.57,
            "count": 0
           },
           {
            "bin_end": 8221.998,
            "bin_start": 7073.284,
            "count": 0
           },
           {
            "bin_end": 9370.712,
            "bin_start": 8221.998,
            "count": 0
           },
           {
            "bin_end": 10519.426,
            "bin_start": 9370.712,
            "count": 1
           },
           {
            "bin_end": 11668.14,
            "bin_start": 10519.426,
            "count": 1
           }
          ],
          "max": "11668.14",
          "min": "181.0",
          "nan_count": 0,
          "unique_count": 4
         }
        },
        {
         "dtype": "object",
         "name": "nameOrig",
         "stats": {
          "categories": [
           {
            "count": 1,
            "name": "C1231006815"
           },
           {
            "count": 1,
            "name": "C1666544295"
           },
           {
            "count": 3,
            "name": "3 others"
           }
          ],
          "nan_count": 0,
          "unique_count": 5
         }
        },
        {
         "dtype": "float64",
         "name": "oldbalanceOrg",
         "stats": {
          "histogram": [
           {
            "bin_end": 17176.5,
            "bin_start": 181,
            "count": 2
           },
           {
            "bin_end": 34172,
            "bin_start": 17176.5,
            "count": 1
           },
           {
            "bin_end": 51167.5,
            "bin_start": 34172,
            "count": 1
           },
           {
            "bin_end": 68163,
            "bin_start": 51167.5,
            "count": 0
           },
           {
            "bin_end": 85158.5,
            "bin_start": 68163,
            "count": 0
           },
           {
            "bin_end": 102154,
            "bin_start": 85158.5,
            "count": 0
           },
           {
            "bin_end": 119149.5,
            "bin_start": 102154,
            "count": 0
           },
           {
            "bin_end": 136145,
            "bin_start": 119149.5,
            "count": 0
           },
           {
            "bin_end": 153140.5,
            "bin_start": 136145,
            "count": 0
           },
           {
            "bin_end": 170136,
            "bin_start": 153140.5,
            "count": 1
           }
          ],
          "max": "170136.0",
          "min": "181.0",
          "nan_count": 0,
          "unique_count": 4
         }
        },
        {
         "dtype": "float64",
         "name": "newbalanceOrig",
         "stats": {
          "histogram": [
           {
            "bin_end": 16029.635999999999,
            "bin_start": 0,
            "count": 2
           },
           {
            "bin_end": 32059.271999999997,
            "bin_start": 16029.635999999999,
            "count": 2
           },
           {
            "bin_end": 48088.907999999996,
            "bin_start": 32059.271999999997,
            "count": 0
           },
           {
            "bin_end": 64118.543999999994,
            "bin_start": 48088.907999999996,
            "count": 0
           },
           {
            "bin_end": 80148.18,
            "bin_start": 64118.543999999994,
            "count": 0
           },
           {
            "bin_end": 96177.81599999999,
            "bin_start": 80148.18,
            "count": 0
           },
           {
            "bin_end": 112207.45199999999,
            "bin_start": 96177.81599999999,
            "count": 0
           },
           {
            "bin_end": 128237.08799999999,
            "bin_start": 112207.45199999999,
            "count": 0
           },
           {
            "bin_end": 144266.724,
            "bin_start": 128237.08799999999,
            "count": 0
           },
           {
            "bin_end": 160296.36,
            "bin_start": 144266.724,
            "count": 1
           }
          ],
          "max": "160296.36",
          "min": "0.0",
          "nan_count": 0,
          "unique_count": 4
         }
        },
        {
         "dtype": "object",
         "name": "nameDest",
         "stats": {
          "categories": [
           {
            "count": 1,
            "name": "M1979787155"
           },
           {
            "count": 1,
            "name": "M2044282225"
           },
           {
            "count": 3,
            "name": "3 others"
           }
          ],
          "nan_count": 0,
          "unique_count": 5
         }
        },
        {
         "dtype": "float64",
         "name": "oldbalanceDest",
         "stats": {
          "histogram": [
           {
            "bin_end": 2118.2,
            "bin_start": 0,
            "count": 4
           },
           {
            "bin_end": 4236.4,
            "bin_start": 2118.2,
            "count": 0
           },
           {
            "bin_end": 6354.599999999999,
            "bin_start": 4236.4,
            "count": 0
           },
           {
            "bin_end": 8472.8,
            "bin_start": 6354.599999999999,
            "count": 0
           },
           {
            "bin_end": 10591,
            "bin_start": 8472.8,
            "count": 0
           },
           {
            "bin_end": 12709.199999999999,
            "bin_start": 10591,
            "count": 0
           },
           {
            "bin_end": 14827.399999999998,
            "bin_start": 12709.199999999999,
            "count": 0
           },
           {
            "bin_end": 16945.6,
            "bin_start": 14827.399999999998,
            "count": 0
           },
           {
            "bin_end": 19063.8,
            "bin_start": 16945.6,
            "count": 0
           },
           {
            "bin_end": 21182,
            "bin_start": 19063.8,
            "count": 1
           }
          ],
          "max": "21182.0",
          "min": "0.0",
          "nan_count": 0,
          "unique_count": 2
         }
        },
        {
         "dtype": "float64",
         "name": "newbalanceDest",
         "stats": {
          "histogram": [
           {
            "bin_end": -0.4,
            "bin_start": -0.5,
            "count": 0
           },
           {
            "bin_end": -0.3,
            "bin_start": -0.4,
            "count": 0
           },
           {
            "bin_end": -0.19999999999999996,
            "bin_start": -0.3,
            "count": 0
           },
           {
            "bin_end": -0.09999999999999998,
            "bin_start": -0.19999999999999996,
            "count": 0
           },
           {
            "bin_end": 0,
            "bin_start": -0.09999999999999998,
            "count": 0
           },
           {
            "bin_end": 0.10000000000000009,
            "bin_start": 0,
            "count": 5
           },
           {
            "bin_end": 0.20000000000000007,
            "bin_start": 0.10000000000000009,
            "count": 0
           },
           {
            "bin_end": 0.30000000000000004,
            "bin_start": 0.20000000000000007,
            "count": 0
           },
           {
            "bin_end": 0.4,
            "bin_start": 0.30000000000000004,
            "count": 0
           },
           {
            "bin_end": 0.5,
            "bin_start": 0.4,
            "count": 0
           }
          ],
          "max": "0.0",
          "min": "0.0",
          "nan_count": 0,
          "unique_count": 1
         }
        },
        {
         "dtype": "int64",
         "name": "isFraud",
         "stats": {
          "histogram": [
           {
            "bin_end": 0.1,
            "bin_start": 0,
            "count": 3
           },
           {
            "bin_end": 0.2,
            "bin_start": 0.1,
            "count": 0
           },
           {
            "bin_end": 0.30000000000000004,
            "bin_start": 0.2,
            "count": 0
           },
           {
            "bin_end": 0.4,
            "bin_start": 0.30000000000000004,
            "count": 0
           },
           {
            "bin_end": 0.5,
            "bin_start": 0.4,
            "count": 0
           },
           {
            "bin_end": 0.6000000000000001,
            "bin_start": 0.5,
            "count": 0
           },
           {
            "bin_end": 0.7000000000000001,
            "bin_start": 0.6000000000000001,
            "count": 0
           },
           {
            "bin_end": 0.8,
            "bin_start": 0.7000000000000001,
            "count": 0
           },
           {
            "bin_end": 0.9,
            "bin_start": 0.8,
            "count": 0
           },
           {
            "bin_end": 1,
            "bin_start": 0.9,
            "count": 2
           }
          ],
          "max": "1",
          "min": "0",
          "nan_count": 0,
          "unique_count": 2
         }
        },
        {
         "dtype": "int64",
         "name": "isFlaggedFraud",
         "stats": {
          "histogram": [
           {
            "bin_end": -0.4,
            "bin_start": -0.5,
            "count": 0
           },
           {
            "bin_end": -0.3,
            "bin_start": -0.4,
            "count": 0
           },
           {
            "bin_end": -0.19999999999999996,
            "bin_start": -0.3,
            "count": 0
           },
           {
            "bin_end": -0.09999999999999998,
            "bin_start": -0.19999999999999996,
            "count": 0
           },
           {
            "bin_end": 0,
            "bin_start": -0.09999999999999998,
            "count": 0
           },
           {
            "bin_end": 0.10000000000000009,
            "bin_start": 0,
            "count": 5
           },
           {
            "bin_end": 0.20000000000000007,
            "bin_start": 0.10000000000000009,
            "count": 0
           },
           {
            "bin_end": 0.30000000000000004,
            "bin_start": 0.20000000000000007,
            "count": 0
           },
           {
            "bin_end": 0.4,
            "bin_start": 0.30000000000000004,
            "count": 0
           },
           {
            "bin_end": 0.5,
            "bin_start": 0.4,
            "count": 0
           }
          ],
          "max": "0",
          "min": "0",
          "nan_count": 0,
          "unique_count": 1
         }
        },
        {
         "dtype": "int64",
         "name": "_deepnote_index_column"
        }
       ],
       "row_count": 5,
       "rows": [
        {
         "_deepnote_index_column": 0,
         "amount": 9839.64,
         "isFlaggedFraud": 0,
         "isFraud": 0,
         "nameDest": "M1979787155",
         "nameOrig": "C1231006815",
         "newbalanceDest": 0,
         "newbalanceOrig": 160296.36,
         "oldbalanceDest": 0,
         "oldbalanceOrg": 170136,
         "step": 1,
         "type": "PAYMENT"
        },
        {
         "_deepnote_index_column": 1,
         "amount": 1864.28,
         "isFlaggedFraud": 0,
         "isFraud": 0,
         "nameDest": "M2044282225",
         "nameOrig": "C1666544295",
         "newbalanceDest": 0,
         "newbalanceOrig": 19384.72,
         "oldbalanceDest": 0,
         "oldbalanceOrg": 21249,
         "step": 1,
         "type": "PAYMENT"
        },
        {
         "_deepnote_index_column": 2,
         "amount": 181,
         "isFlaggedFraud": 0,
         "isFraud": 1,
         "nameDest": "C553264065",
         "nameOrig": "C1305486145",
         "newbalanceDest": 0,
         "newbalanceOrig": 0,
         "oldbalanceDest": 0,
         "oldbalanceOrg": 181,
         "step": 1,
         "type": "TRANSFER"
        },
        {
         "_deepnote_index_column": 3,
         "amount": 181,
         "isFlaggedFraud": 0,
         "isFraud": 1,
         "nameDest": "C38997010",
         "nameOrig": "C840083671",
         "newbalanceDest": 0,
         "newbalanceOrig": 0,
         "oldbalanceDest": 21182,
         "oldbalanceOrg": 181,
         "step": 1,
         "type": "CASH_OUT"
        },
        {
         "_deepnote_index_column": 4,
         "amount": 11668.14,
         "isFlaggedFraud": 0,
         "isFraud": 0,
         "nameDest": "M1230701703",
         "nameOrig": "C2048537720",
         "newbalanceDest": 0,
         "newbalanceOrig": 29885.86,
         "oldbalanceDest": 0,
         "oldbalanceOrg": 41554,
         "step": 1,
         "type": "PAYMENT"
        }
       ]
      },
      "text/html": [
       "<div>\n",
       "<style scoped>\n",
       "    .dataframe tbody tr th:only-of-type {\n",
       "        vertical-align: middle;\n",
       "    }\n",
       "\n",
       "    .dataframe tbody tr th {\n",
       "        vertical-align: top;\n",
       "    }\n",
       "\n",
       "    .dataframe thead th {\n",
       "        text-align: right;\n",
       "    }\n",
       "</style>\n",
       "<table border=\"1\" class=\"dataframe\">\n",
       "  <thead>\n",
       "    <tr style=\"text-align: right;\">\n",
       "      <th></th>\n",
       "      <th>step</th>\n",
       "      <th>type</th>\n",
       "      <th>amount</th>\n",
       "      <th>nameOrig</th>\n",
       "      <th>oldbalanceOrg</th>\n",
       "      <th>newbalanceOrig</th>\n",
       "      <th>nameDest</th>\n",
       "      <th>oldbalanceDest</th>\n",
       "      <th>newbalanceDest</th>\n",
       "      <th>isFraud</th>\n",
       "      <th>isFlaggedFraud</th>\n",
       "    </tr>\n",
       "  </thead>\n",
       "  <tbody>\n",
       "    <tr>\n",
       "      <th>0</th>\n",
       "      <td>1</td>\n",
       "      <td>PAYMENT</td>\n",
       "      <td>9839.64</td>\n",
       "      <td>C1231006815</td>\n",
       "      <td>170136.0</td>\n",
       "      <td>160296.36</td>\n",
       "      <td>M1979787155</td>\n",
       "      <td>0.0</td>\n",
       "      <td>0.0</td>\n",
       "      <td>0</td>\n",
       "      <td>0</td>\n",
       "    </tr>\n",
       "    <tr>\n",
       "      <th>1</th>\n",
       "      <td>1</td>\n",
       "      <td>PAYMENT</td>\n",
       "      <td>1864.28</td>\n",
       "      <td>C1666544295</td>\n",
       "      <td>21249.0</td>\n",
       "      <td>19384.72</td>\n",
       "      <td>M2044282225</td>\n",
       "      <td>0.0</td>\n",
       "      <td>0.0</td>\n",
       "      <td>0</td>\n",
       "      <td>0</td>\n",
       "    </tr>\n",
       "    <tr>\n",
       "      <th>2</th>\n",
       "      <td>1</td>\n",
       "      <td>TRANSFER</td>\n",
       "      <td>181.00</td>\n",
       "      <td>C1305486145</td>\n",
       "      <td>181.0</td>\n",
       "      <td>0.00</td>\n",
       "      <td>C553264065</td>\n",
       "      <td>0.0</td>\n",
       "      <td>0.0</td>\n",
       "      <td>1</td>\n",
       "      <td>0</td>\n",
       "    </tr>\n",
       "    <tr>\n",
       "      <th>3</th>\n",
       "      <td>1</td>\n",
       "      <td>CASH_OUT</td>\n",
       "      <td>181.00</td>\n",
       "      <td>C840083671</td>\n",
       "      <td>181.0</td>\n",
       "      <td>0.00</td>\n",
       "      <td>C38997010</td>\n",
       "      <td>21182.0</td>\n",
       "      <td>0.0</td>\n",
       "      <td>1</td>\n",
       "      <td>0</td>\n",
       "    </tr>\n",
       "    <tr>\n",
       "      <th>4</th>\n",
       "      <td>1</td>\n",
       "      <td>PAYMENT</td>\n",
       "      <td>11668.14</td>\n",
       "      <td>C2048537720</td>\n",
       "      <td>41554.0</td>\n",
       "      <td>29885.86</td>\n",
       "      <td>M1230701703</td>\n",
       "      <td>0.0</td>\n",
       "      <td>0.0</td>\n",
       "      <td>0</td>\n",
       "      <td>0</td>\n",
       "    </tr>\n",
       "  </tbody>\n",
       "</table>\n",
       "</div>"
      ],
      "text/plain": [
       "   step      type    amount     nameOrig  oldbalanceOrg  newbalanceOrig  \\\n",
       "0     1   PAYMENT   9839.64  C1231006815       170136.0       160296.36   \n",
       "1     1   PAYMENT   1864.28  C1666544295        21249.0        19384.72   \n",
       "2     1  TRANSFER    181.00  C1305486145          181.0            0.00   \n",
       "3     1  CASH_OUT    181.00   C840083671          181.0            0.00   \n",
       "4     1   PAYMENT  11668.14  C2048537720        41554.0        29885.86   \n",
       "\n",
       "      nameDest  oldbalanceDest  newbalanceDest  isFraud  isFlaggedFraud  \n",
       "0  M1979787155             0.0             0.0        0               0  \n",
       "1  M2044282225             0.0             0.0        0               0  \n",
       "2   C553264065             0.0             0.0        1               0  \n",
       "3    C38997010         21182.0             0.0        1               0  \n",
       "4  M1230701703             0.0             0.0        0               0  "
      ]
     },
     "execution_count": 1,
     "metadata": {},
     "output_type": "execute_result"
    }
   ],
   "source": [
    "#It will take up to 20-25 sec to execute the csv.\n",
    "import pandas as pd\n",
    "df=pd.read_csv(\"/work/PS_20174392719_1491204439457_log.csv\").copy()\n",
    "df.head(5)"
   ]
  },
  {
   "cell_type": "code",
   "execution_count": null,
   "metadata": {
    "cell_id": "8a25ea739fea497ab3f3ffdac5fe20f5",
    "deepnote_app_coordinates": {
     "h": 120,
     "w": 12,
     "x": 0,
     "y": 0
    },
    "deepnote_cell_type": "code",
    "deepnote_to_be_reexecuted": false,
    "execution_millis": 7,
    "execution_start": 1701851052962,
    "source_hash": null
   },
   "outputs": [
    {
     "data": {
      "text/plain": [
       "(6362620, 11)"
      ]
     },
     "execution_count": 2,
     "metadata": {},
     "output_type": "execute_result"
    }
   ],
   "source": [
    "df.shape"
   ]
  },
  {
   "cell_type": "code",
   "execution_count": null,
   "metadata": {
    "cell_id": "6922205c4cb64ef9a2973dacf64ac569",
    "deepnote_app_coordinates": {
     "h": 120,
     "w": 12,
     "x": 0,
     "y": 0
    },
    "deepnote_cell_type": "code",
    "deepnote_to_be_reexecuted": false,
    "execution_millis": 23,
    "execution_start": 1701851053014,
    "source_hash": null
   },
   "outputs": [
    {
     "name": "stdout",
     "output_type": "stream",
     "text": [
      "<class 'pandas.core.frame.DataFrame'>\n",
      "RangeIndex: 6362620 entries, 0 to 6362619\n",
      "Data columns (total 11 columns):\n",
      " #   Column          Dtype  \n",
      "---  ------          -----  \n",
      " 0   step            int64  \n",
      " 1   type            object \n",
      " 2   amount          float64\n",
      " 3   nameOrig        object \n",
      " 4   oldbalanceOrg   float64\n",
      " 5   newbalanceOrig  float64\n",
      " 6   nameDest        object \n",
      " 7   oldbalanceDest  float64\n",
      " 8   newbalanceDest  float64\n",
      " 9   isFraud         int64  \n",
      " 10  isFlaggedFraud  int64  \n",
      "dtypes: float64(5), int64(3), object(3)\n",
      "memory usage: 534.0+ MB\n"
     ]
    }
   ],
   "source": [
    "df.info()"
   ]
  },
  {
   "cell_type": "code",
   "execution_count": null,
   "metadata": {
    "cell_id": "82c64f5a73774ccb8576971380bd784d",
    "deepnote_app_coordinates": {
     "h": 120,
     "w": 12,
     "x": 0,
     "y": 0
    },
    "deepnote_cell_type": "code",
    "deepnote_to_be_reexecuted": false,
    "execution_millis": 7,
    "execution_start": 1701851053058,
    "source_hash": null
   },
   "outputs": [],
   "source": [
    "import warnings\n",
    "warnings.filterwarnings('ignore',category = DeprecationWarning)"
   ]
  },
  {
   "cell_type": "code",
   "execution_count": null,
   "metadata": {
    "cell_id": "f6aedfe0487c4edcafc712add67019f7",
    "deepnote_app_coordinates": {
     "h": 120,
     "w": 12,
     "x": 0,
     "y": 0
    },
    "deepnote_cell_type": "code",
    "deepnote_to_be_reexecuted": false,
    "execution_millis": 21769,
    "execution_start": 1701851054090,
    "source_hash": null
   },
   "outputs": [
    {
     "name": "stdout",
     "output_type": "stream",
     "text": [
      "Number of duplicate rows: 0\n"
     ]
    }
   ],
   "source": [
    "print(\"Number of duplicate rows:\", df.duplicated().sum())"
   ]
  },
  {
   "cell_type": "markdown",
   "metadata": {
    "cell_id": "4b3040c4a02841aab522b311beafb623",
    "deepnote_app_coordinates": {
     "h": 120,
     "w": 12,
     "x": 0,
     "y": 0
    },
    "deepnote_cell_type": "markdown"
   },
   "source": [
    "**There is no duplicated rows.**"
   ]
  },
  {
   "cell_type": "markdown",
   "metadata": {
    "cell_id": "93972c8739cc42319362751b8aa75281",
    "deepnote_app_coordinates": {
     "h": 120,
     "w": 12,
     "x": 0,
     "y": 0
    },
    "deepnote_cell_type": "markdown"
   },
   "source": [
    "# 2.EDA"
   ]
  },
  {
   "cell_type": "markdown",
   "metadata": {
    "cell_id": "299ea726ca8f476bafc283bab0bbe491",
    "deepnote_app_coordinates": {
     "h": 120,
     "w": 12,
     "x": 0,
     "y": 0
    },
    "deepnote_cell_type": "markdown"
   },
   "source": [
    "**What does each variable means?**\n",
    "**step**     \n",
    "Transcation happens in a hour, no use                 \n",
    "**type**      \n",
    "transaction type, sentence the affliation of the fraud                  \n",
    "**amount**\n",
    "amount of the transcation                   \n",
    "**nameOrig**\n",
    "the account payer                  \n",
    "**oldbalanceOrg**\n",
    "the payer's amount before the transcation             \n",
    "**newbalanceOrig** \n",
    "the payer's amount after the transcation           \n",
    "**nameDest**\n",
    "the payee's name                \n",
    "**oldbalanceDest**\n",
    "the payee's amount before the transcation     \n",
    "**newbalanceDest**\n",
    "the payee's amount after the transcation    \n",
    "**isFraud**\n",
    "Whether the transcation is a fraud(0,1), so it's a supervised learning question                  \n",
    "**isFlaggedFraud**\n",
    "Whether a transfer amount>200000, no big use now    "
   ]
  },
  {
   "cell_type": "markdown",
   "metadata": {
    "cell_id": "2a1ef74cfb914a56b3040538fdeb13fc",
    "deepnote_app_coordinates": {
     "h": 120,
     "w": 12,
     "x": 0,
     "y": 0
    },
    "deepnote_cell_type": "markdown"
   },
   "source": [
    "**We need to classify the fraud type because maybe not every type has the fraud record**"
   ]
  },
  {
   "cell_type": "code",
   "execution_count": null,
   "metadata": {
    "cell_id": "f58974041e3143cfb8d5d279a5a324d5",
    "deepnote_app_coordinates": {
     "h": 120,
     "w": 12,
     "x": 0,
     "y": 0
    },
    "deepnote_cell_type": "code",
    "deepnote_to_be_reexecuted": false,
    "execution_millis": 296,
    "execution_start": 1701851075865,
    "source_hash": null
   },
   "outputs": [
    {
     "data": {
      "text/plain": [
       "type\n",
       "CASH_OUT    4116\n",
       "TRANSFER    4097\n",
       "dtype: int64"
      ]
     },
     "execution_count": 7,
     "metadata": {},
     "output_type": "execute_result"
    }
   ],
   "source": [
    "grouped_counts = df[df['isFraud']==1].groupby('type').size()\n",
    "grouped_counts"
   ]
  },
  {
   "cell_type": "markdown",
   "metadata": {
    "cell_id": "be025d095faa4597a0ffd532230dfb7e",
    "deepnote_app_coordinates": {
     "h": 120,
     "w": 12,
     "x": 0,
     "y": 0
    },
    "deepnote_cell_type": "markdown"
   },
   "source": [
    "**We can see that only 'cash_out' and 'transfer' type has the fraud record, so we can focus on these two. Also, considering the record and the fraud amount, there aren't many fraud happens. Therefore, the x should only be data that contains 'transfer' and 'cash_out'.**"
   ]
  },
  {
   "cell_type": "markdown",
   "metadata": {
    "cell_id": "cd022a3357f44c7e8b6643a929b000c7",
    "deepnote_app_coordinates": {
     "h": 120,
     "w": 12,
     "x": 0,
     "y": 0
    },
    "deepnote_cell_type": "markdown"
   },
   "source": [
    "**Therefore, we will only focus on data containing this two types. Also, since step only contains number 1, so we can drop it.**"
   ]
  },
  {
   "cell_type": "code",
   "execution_count": null,
   "metadata": {
    "cell_id": "01d1a5800969436b81ff261904021169",
    "deepnote_app_coordinates": {
     "h": 120,
     "w": 12,
     "x": 0,
     "y": 0
    },
    "deepnote_cell_type": "code",
    "deepnote_to_be_reexecuted": false,
    "execution_millis": 45209,
    "execution_start": 1701851076400,
    "source_hash": null
   },
   "outputs": [
    {
     "name": "stderr",
     "output_type": "stream",
     "text": [
      "/shared-libs/python3.9/py/lib/python3.9/site-packages/pandas/core/frame.py:4308: SettingWithCopyWarning: \n",
      "A value is trying to be set on a copy of a slice from a DataFrame\n",
      "\n",
      "See the caveats in the documentation: https://pandas.pydata.org/pandas-docs/stable/user_guide/indexing.html#returning-a-view-versus-a-copy\n",
      "  return super().drop(\n"
     ]
    }
   ],
   "source": [
    "tmp = df.loc[(df['type'].isin(['TRANSFER', 'CASH_OUT'])),:]\n",
    "for column in ['step']:\n",
    "    if column in tmp.columns:\n",
    "        tmp.drop(['step'], axis=1,inplace=True)\n",
    "tmp.to_csv('first_processing_data.csv')"
   ]
  },
  {
   "cell_type": "code",
   "execution_count": null,
   "metadata": {
    "cell_id": "ee799e6b661247ebbb714f46ba180110",
    "deepnote_app_coordinates": {
     "h": 120,
     "w": 12,
     "x": 0,
     "y": 0
    },
    "deepnote_cell_type": "code",
    "deepnote_to_be_reexecuted": false,
    "execution_millis": 9,
    "execution_start": 1701851121653,
    "source_hash": null
   },
   "outputs": [
    {
     "data": {
      "text/plain": [
       "Index(['type', 'amount', 'nameOrig', 'oldbalanceOrg', 'newbalanceOrig',\n",
       "       'nameDest', 'oldbalanceDest', 'newbalanceDest', 'isFraud',\n",
       "       'isFlaggedFraud'],\n",
       "      dtype='object')"
      ]
     },
     "execution_count": 9,
     "metadata": {},
     "output_type": "execute_result"
    }
   ],
   "source": [
    "tmp.columns"
   ]
  },
  {
   "cell_type": "code",
   "execution_count": null,
   "metadata": {
    "cell_id": "3b47033834af4a87922f0e05e4c611af",
    "deepnote_app_coordinates": {
     "h": 120,
     "w": 12,
     "x": 0,
     "y": 0
    },
    "deepnote_cell_type": "code",
    "deepnote_to_be_reexecuted": false,
    "execution_millis": 13,
    "execution_start": 1701851121654,
    "source_hash": null
   },
   "outputs": [
    {
     "data": {
      "text/plain": [
       "(2770409, 10)"
      ]
     },
     "execution_count": 10,
     "metadata": {},
     "output_type": "execute_result"
    }
   ],
   "source": [
    "tmp.shape"
   ]
  },
  {
   "cell_type": "markdown",
   "metadata": {
    "cell_id": "dcc45eed021545ec9b4836e77da6b873",
    "deepnote_app_coordinates": {
     "h": 120,
     "w": 12,
     "x": 0,
     "y": 0
    },
    "deepnote_cell_type": "markdown"
   },
   "source": [
    "## **If the dataset provides too much time to process, it's also fine to start the notebook from here.**"
   ]
  },
  {
   "cell_type": "code",
   "execution_count": null,
   "metadata": {
    "cell_id": "ead9975e8362428aadb3613fba5ff929",
    "deepnote_app_coordinates": {
     "h": 120,
     "w": 12,
     "x": 0,
     "y": 0
    },
    "deepnote_cell_type": "code",
    "deepnote_to_be_reexecuted": false,
    "execution_millis": 7639,
    "execution_start": 1702171243262,
    "source_hash": null
   },
   "outputs": [
    {
     "name": "stdout",
     "output_type": "stream",
     "text": [
      "(2770409, 10)\n"
     ]
    },
    {
     "data": {
      "text/plain": [
       "Index(['type', 'amount', 'nameOrig', 'oldbalanceOrg', 'newbalanceOrig',\n",
       "       'nameDest', 'oldbalanceDest', 'newbalanceDest', 'isFraud',\n",
       "       'isFlaggedFraud'],\n",
       "      dtype='object')"
      ]
     },
     "execution_count": 83,
     "metadata": {},
     "output_type": "execute_result"
    }
   ],
   "source": [
    "import pandas as pd\n",
    "df=pd.read_csv('first_processing_data.csv').copy()\n",
    "if df.columns[0] != 'type':\n",
    "    df.drop(df.columns[0], axis=1, inplace=True)\n",
    "print(df.shape)\n",
    "#This will greatly decreases the processing time.\n",
    "df.columns"
   ]
  },
  {
   "cell_type": "code",
   "execution_count": null,
   "metadata": {
    "cell_id": "57575c9189254288868b2499433083ad",
    "deepnote_app_coordinates": {
     "h": 120,
     "w": 12,
     "x": 0,
     "y": 0
    },
    "deepnote_cell_type": "code",
    "deepnote_to_be_reexecuted": false,
    "execution_millis": 134,
    "execution_start": 1702171250913,
    "source_hash": null
   },
   "outputs": [
    {
     "data": {
      "application/vnd.deepnote.dataframe.v3+json": {
       "column_count": 10,
       "columns": [
        {
         "dtype": "object",
         "name": "type",
         "stats": {
          "categories": [
           {
            "count": 4,
            "name": "CASH_OUT"
           },
           {
            "count": 1,
            "name": "TRANSFER"
           }
          ],
          "nan_count": 0,
          "unique_count": 2
         }
        },
        {
         "dtype": "float64",
         "name": "amount",
         "stats": {
          "histogram": [
           {
            "bin_end": 131355.801,
            "bin_start": 26021.74,
            "count": 3
           },
           {
            "bin_end": 236689.86200000002,
            "bin_start": 131355.801,
            "count": 0
           },
           {
            "bin_end": 342023.92300000007,
            "bin_start": 236689.86200000002,
            "count": 1
           },
           {
            "bin_end": 447357.98400000005,
            "bin_start": 342023.92300000007,
            "count": 0
           },
           {
            "bin_end": 552692.045,
            "bin_start": 447357.98400000005,
            "count": 0
           },
           {
            "bin_end": 658026.1060000001,
            "bin_start": 552692.045,
            "count": 0
           },
           {
            "bin_end": 763360.1670000001,
            "bin_start": 658026.1060000001,
            "count": 0
           },
           {
            "bin_end": 868694.2280000001,
            "bin_start": 763360.1670000001,
            "count": 0
           },
           {
            "bin_end": 974028.2890000001,
            "bin_start": 868694.2280000001,
            "count": 0
           },
           {
            "bin_end": 1079362.35,
            "bin_start": 974028.2890000001,
            "count": 1
           }
          ],
          "max": "1079362.35",
          "min": "26021.74",
          "nan_count": 0,
          "unique_count": 5
         }
        },
        {
         "dtype": "object",
         "name": "nameOrig",
         "stats": {
          "categories": [
           {
            "count": 1,
            "name": "C1583877681"
           },
           {
            "count": 1,
            "name": "C1384648531"
           },
           {
            "count": 3,
            "name": "3 others"
           }
          ],
          "nan_count": 0,
          "unique_count": 5
         }
        },
        {
         "dtype": "float64",
         "name": "oldbalanceOrg",
         "stats": {
          "histogram": [
           {
            "bin_end": 1721.5,
            "bin_start": 0,
            "count": 4
           },
           {
            "bin_end": 3443,
            "bin_start": 1721.5,
            "count": 0
           },
           {
            "bin_end": 5164.5,
            "bin_start": 3443,
            "count": 0
           },
           {
            "bin_end": 6886,
            "bin_start": 5164.5,
            "count": 0
           },
           {
            "bin_end": 8607.5,
            "bin_start": 6886,
            "count": 0
           },
           {
            "bin_end": 10329,
            "bin_start": 8607.5,
            "count": 0
           },
           {
            "bin_end": 12050.5,
            "bin_start": 10329,
            "count": 0
           },
           {
            "bin_end": 13772,
            "bin_start": 12050.5,
            "count": 0
           },
           {
            "bin_end": 15493.5,
            "bin_start": 13772,
            "count": 0
           },
           {
            "bin_end": 17215,
            "bin_start": 15493.5,
            "count": 1
           }
          ],
          "max": "17215.0",
          "min": "0.0",
          "nan_count": 0,
          "unique_count": 2
         }
        },
        {
         "dtype": "float64",
         "name": "newbalanceOrig",
         "stats": {
          "histogram": [
           {
            "bin_end": -0.4,
            "bin_start": -0.5,
            "count": 0
           },
           {
            "bin_end": -0.3,
            "bin_start": -0.4,
            "count": 0
           },
           {
            "bin_end": -0.19999999999999996,
            "bin_start": -0.3,
            "count": 0
           },
           {
            "bin_end": -0.09999999999999998,
            "bin_start": -0.19999999999999996,
            "count": 0
           },
           {
            "bin_end": 0,
            "bin_start": -0.09999999999999998,
            "count": 0
           },
           {
            "bin_end": 0.10000000000000009,
            "bin_start": 0,
            "count": 5
           },
           {
            "bin_end": 0.20000000000000007,
            "bin_start": 0.10000000000000009,
            "count": 0
           },
           {
            "bin_end": 0.30000000000000004,
            "bin_start": 0.20000000000000007,
            "count": 0
           },
           {
            "bin_end": 0.4,
            "bin_start": 0.30000000000000004,
            "count": 0
           },
           {
            "bin_end": 0.5,
            "bin_start": 0.4,
            "count": 0
           }
          ],
          "max": "0.0",
          "min": "0.0",
          "nan_count": 0,
          "unique_count": 1
         }
        },
        {
         "dtype": "object",
         "name": "nameDest",
         "stats": {
          "categories": [
           {
            "count": 1,
            "name": "C1503134106"
           },
           {
            "count": 1,
            "name": "C940141589"
           },
           {
            "count": 3,
            "name": "3 others"
           }
          ],
          "nan_count": 0,
          "unique_count": 5
         }
        },
        {
         "dtype": "float64",
         "name": "oldbalanceDest",
         "stats": {
          "histogram": [
           {
            "bin_end": 258445.28100000002,
            "bin_start": 0,
            "count": 2
           },
           {
            "bin_end": 516890.56200000003,
            "bin_start": 258445.28100000002,
            "count": 1
           },
           {
            "bin_end": 775335.8430000001,
            "bin_start": 516890.56200000003,
            "count": 0
           },
           {
            "bin_end": 1033781.1240000001,
            "bin_start": 775335.8430000001,
            "count": 0
           },
           {
            "bin_end": 1292226.405,
            "bin_start": 1033781.1240000001,
            "count": 0
           },
           {
            "bin_end": 1550671.6860000002,
            "bin_start": 1292226.405,
            "count": 0
           },
           {
            "bin_end": 1809116.9670000002,
            "bin_start": 1550671.6860000002,
            "count": 1
           },
           {
            "bin_end": 2067562.2480000001,
            "bin_start": 1809116.9670000002,
            "count": 0
           },
           {
            "bin_end": 2326007.529,
            "bin_start": 2067562.2480000001,
            "count": 0
           },
           {
            "bin_end": 2584452.81,
            "bin_start": 2326007.529,
            "count": 1
           }
          ],
          "max": "2584452.81",
          "min": "0.0",
          "nan_count": 0,
          "unique_count": 5
         }
        },
        {
         "dtype": "float64",
         "name": "newbalanceDest",
         "stats": {
          "histogram": [
           {
            "bin_end": 445045.137,
            "bin_start": 40584.7,
            "count": 2
           },
           {
            "bin_end": 849505.5739999999,
            "bin_start": 445045.137,
            "count": 1
           },
           {
            "bin_end": 1253966.011,
            "bin_start": 849505.5739999999,
            "count": 0
           },
           {
            "bin_end": 1658426.4479999999,
            "bin_start": 1253966.011,
            "count": 1
           },
           {
            "bin_end": 2062886.8849999998,
            "bin_start": 1658426.4479999999,
            "count": 0
           },
           {
            "bin_end": 2467347.322,
            "bin_start": 2062886.8849999998,
            "count": 0
           },
           {
            "bin_end": 2871807.759,
            "bin_start": 2467347.322,
            "count": 0
           },
           {
            "bin_end": 3276268.196,
            "bin_start": 2871807.759,
            "count": 0
           },
           {
            "bin_end": 3680728.633,
            "bin_start": 3276268.196,
            "count": 0
           },
           {
            "bin_end": 4085189.07,
            "bin_start": 3680728.633,
            "count": 1
           }
          ],
          "max": "4085189.07",
          "min": "40584.7",
          "nan_count": 0,
          "unique_count": 5
         }
        },
        {
         "dtype": "int64",
         "name": "isFraud",
         "stats": {
          "histogram": [
           {
            "bin_end": -0.4,
            "bin_start": -0.5,
            "count": 0
           },
           {
            "bin_end": -0.3,
            "bin_start": -0.4,
            "count": 0
           },
           {
            "bin_end": -0.19999999999999996,
            "bin_start": -0.3,
            "count": 0
           },
           {
            "bin_end": -0.09999999999999998,
            "bin_start": -0.19999999999999996,
            "count": 0
           },
           {
            "bin_end": 0,
            "bin_start": -0.09999999999999998,
            "count": 0
           },
           {
            "bin_end": 0.10000000000000009,
            "bin_start": 0,
            "count": 5
           },
           {
            "bin_end": 0.20000000000000007,
            "bin_start": 0.10000000000000009,
            "count": 0
           },
           {
            "bin_end": 0.30000000000000004,
            "bin_start": 0.20000000000000007,
            "count": 0
           },
           {
            "bin_end": 0.4,
            "bin_start": 0.30000000000000004,
            "count": 0
           },
           {
            "bin_end": 0.5,
            "bin_start": 0.4,
            "count": 0
           }
          ],
          "max": "0",
          "min": "0",
          "nan_count": 0,
          "unique_count": 1
         }
        },
        {
         "dtype": "int64",
         "name": "isFlaggedFraud",
         "stats": {
          "histogram": [
           {
            "bin_end": -0.4,
            "bin_start": -0.5,
            "count": 0
           },
           {
            "bin_end": -0.3,
            "bin_start": -0.4,
            "count": 0
           },
           {
            "bin_end": -0.19999999999999996,
            "bin_start": -0.3,
            "count": 0
           },
           {
            "bin_end": -0.09999999999999998,
            "bin_start": -0.19999999999999996,
            "count": 0
           },
           {
            "bin_end": 0,
            "bin_start": -0.09999999999999998,
            "count": 0
           },
           {
            "bin_end": 0.10000000000000009,
            "bin_start": 0,
            "count": 5
           },
           {
            "bin_end": 0.20000000000000007,
            "bin_start": 0.10000000000000009,
            "count": 0
           },
           {
            "bin_end": 0.30000000000000004,
            "bin_start": 0.20000000000000007,
            "count": 0
           },
           {
            "bin_end": 0.4,
            "bin_start": 0.30000000000000004,
            "count": 0
           },
           {
            "bin_end": 0.5,
            "bin_start": 0.4,
            "count": 0
           }
          ],
          "max": "0",
          "min": "0",
          "nan_count": 0,
          "unique_count": 1
         }
        },
        {
         "dtype": "int64",
         "name": "_deepnote_index_column"
        }
       ],
       "row_count": 5,
       "rows": [
        {
         "_deepnote_index_column": 2056112,
         "amount": 84059.52,
         "isFlaggedFraud": 0,
         "isFraud": 0,
         "nameDest": "C1503134106",
         "nameOrig": "C1583877681",
         "newbalanceDest": 304679.18,
         "newbalanceOrig": 0,
         "oldbalanceDest": 220619.67,
         "oldbalanceOrg": 0,
         "type": "CASH_OUT"
        },
        {
         "_deepnote_index_column": 983956,
         "amount": 40584.7,
         "isFlaggedFraud": 0,
         "isFraud": 0,
         "nameDest": "C940141589",
         "nameOrig": "C1384648531",
         "newbalanceDest": 40584.7,
         "newbalanceOrig": 0,
         "oldbalanceDest": 0,
         "oldbalanceOrg": 17215,
         "type": "CASH_OUT"
        },
        {
         "_deepnote_index_column": 2359232,
         "amount": 310984.43,
         "isFlaggedFraud": 0,
         "isFraud": 0,
         "nameDest": "C1618024942",
         "nameOrig": "C893666197",
         "newbalanceDest": 792040.36,
         "newbalanceOrig": 0,
         "oldbalanceDest": 481055.93,
         "oldbalanceOrg": 0,
         "type": "CASH_OUT"
        },
        {
         "_deepnote_index_column": 923004,
         "amount": 26021.74,
         "isFlaggedFraud": 0,
         "isFraud": 0,
         "nameDest": "C2043549610",
         "nameOrig": "C192862021",
         "newbalanceDest": 1644277.88,
         "newbalanceOrig": 0,
         "oldbalanceDest": 1618256.14,
         "oldbalanceOrg": 0,
         "type": "CASH_OUT"
        },
        {
         "_deepnote_index_column": 1286308,
         "amount": 1079362.35,
         "isFlaggedFraud": 0,
         "isFraud": 0,
         "nameDest": "C446002180",
         "nameOrig": "C709778027",
         "newbalanceDest": 4085189.07,
         "newbalanceOrig": 0,
         "oldbalanceDest": 2584452.81,
         "oldbalanceOrg": 0,
         "type": "TRANSFER"
        }
       ]
      },
      "text/html": [
       "<div>\n",
       "<style scoped>\n",
       "    .dataframe tbody tr th:only-of-type {\n",
       "        vertical-align: middle;\n",
       "    }\n",
       "\n",
       "    .dataframe tbody tr th {\n",
       "        vertical-align: top;\n",
       "    }\n",
       "\n",
       "    .dataframe thead th {\n",
       "        text-align: right;\n",
       "    }\n",
       "</style>\n",
       "<table border=\"1\" class=\"dataframe\">\n",
       "  <thead>\n",
       "    <tr style=\"text-align: right;\">\n",
       "      <th></th>\n",
       "      <th>type</th>\n",
       "      <th>amount</th>\n",
       "      <th>nameOrig</th>\n",
       "      <th>oldbalanceOrg</th>\n",
       "      <th>newbalanceOrig</th>\n",
       "      <th>nameDest</th>\n",
       "      <th>oldbalanceDest</th>\n",
       "      <th>newbalanceDest</th>\n",
       "      <th>isFraud</th>\n",
       "      <th>isFlaggedFraud</th>\n",
       "    </tr>\n",
       "  </thead>\n",
       "  <tbody>\n",
       "    <tr>\n",
       "      <th>2056112</th>\n",
       "      <td>CASH_OUT</td>\n",
       "      <td>84059.52</td>\n",
       "      <td>C1583877681</td>\n",
       "      <td>0.0</td>\n",
       "      <td>0.0</td>\n",
       "      <td>C1503134106</td>\n",
       "      <td>220619.67</td>\n",
       "      <td>304679.18</td>\n",
       "      <td>0</td>\n",
       "      <td>0</td>\n",
       "    </tr>\n",
       "    <tr>\n",
       "      <th>983956</th>\n",
       "      <td>CASH_OUT</td>\n",
       "      <td>40584.70</td>\n",
       "      <td>C1384648531</td>\n",
       "      <td>17215.0</td>\n",
       "      <td>0.0</td>\n",
       "      <td>C940141589</td>\n",
       "      <td>0.00</td>\n",
       "      <td>40584.70</td>\n",
       "      <td>0</td>\n",
       "      <td>0</td>\n",
       "    </tr>\n",
       "    <tr>\n",
       "      <th>2359232</th>\n",
       "      <td>CASH_OUT</td>\n",
       "      <td>310984.43</td>\n",
       "      <td>C893666197</td>\n",
       "      <td>0.0</td>\n",
       "      <td>0.0</td>\n",
       "      <td>C1618024942</td>\n",
       "      <td>481055.93</td>\n",
       "      <td>792040.36</td>\n",
       "      <td>0</td>\n",
       "      <td>0</td>\n",
       "    </tr>\n",
       "    <tr>\n",
       "      <th>923004</th>\n",
       "      <td>CASH_OUT</td>\n",
       "      <td>26021.74</td>\n",
       "      <td>C192862021</td>\n",
       "      <td>0.0</td>\n",
       "      <td>0.0</td>\n",
       "      <td>C2043549610</td>\n",
       "      <td>1618256.14</td>\n",
       "      <td>1644277.88</td>\n",
       "      <td>0</td>\n",
       "      <td>0</td>\n",
       "    </tr>\n",
       "    <tr>\n",
       "      <th>1286308</th>\n",
       "      <td>TRANSFER</td>\n",
       "      <td>1079362.35</td>\n",
       "      <td>C709778027</td>\n",
       "      <td>0.0</td>\n",
       "      <td>0.0</td>\n",
       "      <td>C446002180</td>\n",
       "      <td>2584452.81</td>\n",
       "      <td>4085189.07</td>\n",
       "      <td>0</td>\n",
       "      <td>0</td>\n",
       "    </tr>\n",
       "  </tbody>\n",
       "</table>\n",
       "</div>"
      ],
      "text/plain": [
       "             type      amount     nameOrig  oldbalanceOrg  newbalanceOrig  \\\n",
       "2056112  CASH_OUT    84059.52  C1583877681            0.0             0.0   \n",
       "983956   CASH_OUT    40584.70  C1384648531        17215.0             0.0   \n",
       "2359232  CASH_OUT   310984.43   C893666197            0.0             0.0   \n",
       "923004   CASH_OUT    26021.74   C192862021            0.0             0.0   \n",
       "1286308  TRANSFER  1079362.35   C709778027            0.0             0.0   \n",
       "\n",
       "            nameDest  oldbalanceDest  newbalanceDest  isFraud  isFlaggedFraud  \n",
       "2056112  C1503134106       220619.67       304679.18        0               0  \n",
       "983956    C940141589            0.00        40584.70        0               0  \n",
       "2359232  C1618024942       481055.93       792040.36        0               0  \n",
       "923004   C2043549610      1618256.14      1644277.88        0               0  \n",
       "1286308   C446002180      2584452.81      4085189.07        0               0  "
      ]
     },
     "execution_count": 84,
     "metadata": {},
     "output_type": "execute_result"
    }
   ],
   "source": [
    "df.sample(5)"
   ]
  },
  {
   "cell_type": "markdown",
   "metadata": {
    "cell_id": "e0816eea82d74a4e8c94e805905eb96f",
    "deepnote_app_coordinates": {
     "h": 120,
     "w": 12,
     "x": 0,
     "y": 0
    },
    "deepnote_cell_type": "markdown"
   },
   "source": [
    "**Firstly, we need to decide whether to drop the isFlaggedFraud, an easy way to determine is that it contains only the transfer type, as the variable definition says, is not enough to decide whether an transcation is fraud, because there remains cash_out type, but we can look closer to it.**"
   ]
  },
  {
   "cell_type": "code",
   "execution_count": null,
   "metadata": {
    "cell_id": "316f820eaca34e1381515f71137d4b89",
    "deepnote_app_coordinates": {
     "h": 120,
     "w": 12,
     "x": 0,
     "y": 0
    },
    "deepnote_cell_type": "code",
    "deepnote_table_loading": false,
    "deepnote_table_state": {
     "filters": [],
     "pageIndex": 0,
     "pageSize": 25,
     "sortBy": []
    },
    "deepnote_to_be_reexecuted": false,
    "execution_millis": 30,
    "execution_start": 1702171251110,
    "source_hash": null
   },
   "outputs": [
    {
     "data": {
      "application/vnd.deepnote.dataframe.v3+json": {
       "column_count": 10,
       "columns": [
        {
         "dtype": "object",
         "name": "type",
         "stats": {
          "categories": [
           {
            "count": 16,
            "name": "TRANSFER"
           }
          ],
          "nan_count": 0,
          "unique_count": 1
         }
        },
        {
         "dtype": "float64",
         "name": "amount",
         "stats": {
          "histogram": [
           {
            "bin_end": 1318486.798,
            "bin_start": 353874.22,
            "count": 3
           },
           {
            "bin_end": 2283099.376,
            "bin_start": 1318486.798,
            "count": 1
           },
           {
            "bin_end": 3247711.954,
            "bin_start": 2283099.376,
            "count": 2
           },
           {
            "bin_end": 4212324.532,
            "bin_start": 3247711.954,
            "count": 2
           },
           {
            "bin_end": 5176937.109999999,
            "bin_start": 4212324.532,
            "count": 2
           },
           {
            "bin_end": 6141549.688,
            "bin_start": 5176937.109999999,
            "count": 1
           },
           {
            "bin_end": 7106162.266,
            "bin_start": 6141549.688,
            "count": 0
           },
           {
            "bin_end": 8070774.844,
            "bin_start": 7106162.266,
            "count": 1
           },
           {
            "bin_end": 9035387.422,
            "bin_start": 8070774.844,
            "count": 0
           },
           {
            "bin_end": 10000000,
            "bin_start": 9035387.422,
            "count": 4
           }
          ],
          "max": "10000000.0",
          "min": "353874.22",
          "nan_count": 0,
          "unique_count": 14
         }
        },
        {
         "dtype": "object",
         "name": "nameOrig",
         "stats": {
          "categories": [
           {
            "count": 1,
            "name": "C728984460"
           },
           {
            "count": 1,
            "name": "C1100582606"
           },
           {
            "count": 14,
            "name": "14 others"
           }
          ],
          "nan_count": 0,
          "unique_count": 16
         }
        },
        {
         "dtype": "float64",
         "name": "oldbalanceOrg",
         "stats": {
          "histogram": [
           {
            "bin_end": 2276990.835,
            "bin_start": 353874.22,
            "count": 3
           },
           {
            "bin_end": 4200107.45,
            "bin_start": 2276990.835,
            "count": 4
           },
           {
            "bin_end": 6123224.065,
            "bin_start": 4200107.45,
            "count": 3
           },
           {
            "bin_end": 8046340.680000001,
            "bin_start": 6123224.065,
            "count": 0
           },
           {
            "bin_end": 9969457.295000002,
            "bin_start": 8046340.680000001,
            "count": 0
           },
           {
            "bin_end": 11892573.910000002,
            "bin_start": 9969457.295000002,
            "count": 2
           },
           {
            "bin_end": 13815690.525000002,
            "bin_start": 11892573.910000002,
            "count": 0
           },
           {
            "bin_end": 15738807.140000002,
            "bin_start": 13815690.525000002,
            "count": 0
           },
           {
            "bin_end": 17661923.755000003,
            "bin_start": 15738807.140000002,
            "count": 2
           },
           {
            "bin_end": 19585040.37,
            "bin_start": 17661923.755000003,
            "count": 2
           }
          ],
          "max": "19585040.37",
          "min": "353874.22",
          "nan_count": 0,
          "unique_count": 13
         }
        },
        {
         "dtype": "float64",
         "name": "newbalanceOrig",
         "stats": {
          "histogram": [
           {
            "bin_end": 2276990.835,
            "bin_start": 353874.22,
            "count": 3
           },
           {
            "bin_end": 4200107.45,
            "bin_start": 2276990.835,
            "count": 4
           },
           {
            "bin_end": 6123224.065,
            "bin_start": 4200107.45,
            "count": 3
           },
           {
            "bin_end": 8046340.680000001,
            "bin_start": 6123224.065,
            "count": 0
           },
           {
            "bin_end": 9969457.295000002,
            "bin_start": 8046340.680000001,
            "count": 0
           },
           {
            "bin_end": 11892573.910000002,
            "bin_start": 9969457.295000002,
            "count": 2
           },
           {
            "bin_end": 13815690.525000002,
            "bin_start": 11892573.910000002,
            "count": 0
           },
           {
            "bin_end": 15738807.140000002,
            "bin_start": 13815690.525000002,
            "count": 0
           },
           {
            "bin_end": 17661923.755000003,
            "bin_start": 15738807.140000002,
            "count": 2
           },
           {
            "bin_end": 19585040.37,
            "bin_start": 17661923.755000003,
            "count": 2
           }
          ],
          "max": "19585040.37",
          "min": "353874.22",
          "nan_count": 0,
          "unique_count": 13
         }
        },
        {
         "dtype": "object",
         "name": "nameDest",
         "stats": {
          "categories": [
           {
            "count": 1,
            "name": "C639921569"
           },
           {
            "count": 1,
            "name": "C1147517658"
           },
           {
            "count": 14,
            "name": "14 others"
           }
          ],
          "nan_count": 0,
          "unique_count": 16
         }
        },
        {
         "dtype": "float64",
         "name": "oldbalanceDest",
         "stats": {
          "histogram": [
           {
            "bin_end": -0.4,
            "bin_start": -0.5,
            "count": 0
           },
           {
            "bin_end": -0.3,
            "bin_start": -0.4,
            "count": 0
           },
           {
            "bin_end": -0.19999999999999996,
            "bin_start": -0.3,
            "count": 0
           },
           {
            "bin_end": -0.09999999999999998,
            "bin_start": -0.19999999999999996,
            "count": 0
           },
           {
            "bin_end": 0,
            "bin_start": -0.09999999999999998,
            "count": 0
           },
           {
            "bin_end": 0.10000000000000009,
            "bin_start": 0,
            "count": 16
           },
           {
            "bin_end": 0.20000000000000007,
            "bin_start": 0.10000000000000009,
            "count": 0
           },
           {
            "bin_end": 0.30000000000000004,
            "bin_start": 0.20000000000000007,
            "count": 0
           },
           {
            "bin_end": 0.4,
            "bin_start": 0.30000000000000004,
            "count": 0
           },
           {
            "bin_end": 0.5,
            "bin_start": 0.4,
            "count": 0
           }
          ],
          "max": "0.0",
          "min": "0.0",
          "nan_count": 0,
          "unique_count": 1
         }
        },
        {
         "dtype": "float64",
         "name": "newbalanceDest",
         "stats": {
          "histogram": [
           {
            "bin_end": -0.4,
            "bin_start": -0.5,
            "count": 0
           },
           {
            "bin_end": -0.3,
            "bin_start": -0.4,
            "count": 0
           },
           {
            "bin_end": -0.19999999999999996,
            "bin_start": -0.3,
            "count": 0
           },
           {
            "bin_end": -0.09999999999999998,
            "bin_start": -0.19999999999999996,
            "count": 0
           },
           {
            "bin_end": 0,
            "bin_start": -0.09999999999999998,
            "count": 0
           },
           {
            "bin_end": 0.10000000000000009,
            "bin_start": 0,
            "count": 16
           },
           {
            "bin_end": 0.20000000000000007,
            "bin_start": 0.10000000000000009,
            "count": 0
           },
           {
            "bin_end": 0.30000000000000004,
            "bin_start": 0.20000000000000007,
            "count": 0
           },
           {
            "bin_end": 0.4,
            "bin_start": 0.30000000000000004,
            "count": 0
           },
           {
            "bin_end": 0.5,
            "bin_start": 0.4,
            "count": 0
           }
          ],
          "max": "0.0",
          "min": "0.0",
          "nan_count": 0,
          "unique_count": 1
         }
        },
        {
         "dtype": "int64",
         "name": "isFraud",
         "stats": {
          "histogram": [
           {
            "bin_end": 0.6,
            "bin_start": 0.5,
            "count": 0
           },
           {
            "bin_end": 0.7,
            "bin_start": 0.6,
            "count": 0
           },
           {
            "bin_end": 0.8,
            "bin_start": 0.7,
            "count": 0
           },
           {
            "bin_end": 0.9,
            "bin_start": 0.8,
            "count": 0
           },
           {
            "bin_end": 1,
            "bin_start": 0.9,
            "count": 0
           },
           {
            "bin_end": 1.1,
            "bin_start": 1,
            "count": 16
           },
           {
            "bin_end": 1.2000000000000002,
            "bin_start": 1.1,
            "count": 0
           },
           {
            "bin_end": 1.3,
            "bin_start": 1.2000000000000002,
            "count": 0
           },
           {
            "bin_end": 1.4,
            "bin_start": 1.3,
            "count": 0
           },
           {
            "bin_end": 1.5,
            "bin_start": 1.4,
            "count": 0
           }
          ],
          "max": "1",
          "min": "1",
          "nan_count": 0,
          "unique_count": 1
         }
        },
        {
         "dtype": "int64",
         "name": "isFlaggedFraud",
         "stats": {
          "histogram": [
           {
            "bin_end": 0.6,
            "bin_start": 0.5,
            "count": 0
           },
           {
            "bin_end": 0.7,
            "bin_start": 0.6,
            "count": 0
           },
           {
            "bin_end": 0.8,
            "bin_start": 0.7,
            "count": 0
           },
           {
            "bin_end": 0.9,
            "bin_start": 0.8,
            "count": 0
           },
           {
            "bin_end": 1,
            "bin_start": 0.9,
            "count": 0
           },
           {
            "bin_end": 1.1,
            "bin_start": 1,
            "count": 16
           },
           {
            "bin_end": 1.2000000000000002,
            "bin_start": 1.1,
            "count": 0
           },
           {
            "bin_end": 1.3,
            "bin_start": 1.2000000000000002,
            "count": 0
           },
           {
            "bin_end": 1.4,
            "bin_start": 1.3,
            "count": 0
           },
           {
            "bin_end": 1.5,
            "bin_start": 1.4,
            "count": 0
           }
          ],
          "max": "1",
          "min": "1",
          "nan_count": 0,
          "unique_count": 1
         }
        },
        {
         "dtype": "int64",
         "name": "_deepnote_index_column"
        }
       ],
       "row_count": 16,
       "rows": [
        {
         "_deepnote_index_column": 1204984,
         "amount": 4953893.08,
         "isFlaggedFraud": 1,
         "isFraud": 1,
         "nameDest": "C639921569",
         "nameOrig": "C728984460",
         "newbalanceDest": 0,
         "newbalanceOrig": 4953893.08,
         "oldbalanceDest": 0,
         "oldbalanceOrg": 4953893.08,
         "type": "TRANSFER"
        },
        {
         "_deepnote_index_column": 1422214,
         "amount": 1343002.08,
         "isFlaggedFraud": 1,
         "isFraud": 1,
         "nameDest": "C1147517658",
         "nameOrig": "C1100582606",
         "newbalanceDest": 0,
         "newbalanceOrig": 1343002.08,
         "oldbalanceDest": 0,
         "oldbalanceOrg": 1343002.08,
         "type": "TRANSFER"
        },
        {
         "_deepnote_index_column": 1646619,
         "amount": 536624.41,
         "isFlaggedFraud": 1,
         "isFraud": 1,
         "nameDest": "C1100697970",
         "nameOrig": "C1035541766",
         "newbalanceDest": 0,
         "newbalanceOrig": 536624.41,
         "oldbalanceDest": 0,
         "oldbalanceOrg": 536624.41,
         "type": "TRANSFER"
        },
        {
         "_deepnote_index_column": 2428454,
         "amount": 4892193.09,
         "isFlaggedFraud": 1,
         "isFraud": 1,
         "nameDest": "C891140444",
         "nameOrig": "C908544136",
         "newbalanceDest": 0,
         "newbalanceOrig": 4892193.09,
         "oldbalanceDest": 0,
         "oldbalanceOrg": 4892193.09,
         "type": "TRANSFER"
        },
        {
         "_deepnote_index_column": 2619154,
         "amount": 10000000,
         "isFlaggedFraud": 1,
         "isFraud": 1,
         "nameDest": "C1392803603",
         "nameOrig": "C689608084",
         "newbalanceDest": 0,
         "newbalanceOrig": 19585040.37,
         "oldbalanceDest": 0,
         "oldbalanceOrg": 19585040.37,
         "type": "TRANSFER"
        },
        {
         "_deepnote_index_column": 2619156,
         "amount": 9585040.37,
         "isFlaggedFraud": 1,
         "isFraud": 1,
         "nameDest": "C1109166882",
         "nameOrig": "C452586515",
         "newbalanceDest": 0,
         "newbalanceOrig": 19585040.37,
         "oldbalanceDest": 0,
         "oldbalanceOrg": 19585040.37,
         "type": "TRANSFER"
        },
        {
         "_deepnote_index_column": 2688696,
         "amount": 3576297.1,
         "isFlaggedFraud": 1,
         "isFraud": 1,
         "nameDest": "C484597480",
         "nameOrig": "C193696150",
         "newbalanceDest": 0,
         "newbalanceOrig": 3576297.1,
         "oldbalanceDest": 0,
         "oldbalanceOrg": 3576297.1,
         "type": "TRANSFER"
        },
        {
         "_deepnote_index_column": 2703826,
         "amount": 353874.22,
         "isFlaggedFraud": 1,
         "isFraud": 1,
         "nameDest": "C1770418982",
         "nameOrig": "C1684585475",
         "newbalanceDest": 0,
         "newbalanceOrig": 353874.22,
         "oldbalanceDest": 0,
         "oldbalanceOrg": 353874.22,
         "type": "TRANSFER"
        },
        {
         "_deepnote_index_column": 2729568,
         "amount": 2542664.27,
         "isFlaggedFraud": 1,
         "isFraud": 1,
         "nameDest": "C661958277",
         "nameOrig": "C786455622",
         "newbalanceDest": 0,
         "newbalanceOrig": 2542664.27,
         "oldbalanceDest": 0,
         "oldbalanceOrg": 2542664.27,
         "type": "TRANSFER"
        },
        {
         "_deepnote_index_column": 2736011,
         "amount": 10000000,
         "isFlaggedFraud": 1,
         "isFraud": 1,
         "nameDest": "C1806199534",
         "nameOrig": "C19004745",
         "newbalanceDest": 0,
         "newbalanceOrig": 10399045.08,
         "oldbalanceDest": 0,
         "oldbalanceOrg": 10399045.08,
         "type": "TRANSFER"
        },
        {
         "_deepnote_index_column": 2736013,
         "amount": 399045.08,
         "isFlaggedFraud": 1,
         "isFraud": 1,
         "nameDest": "C1909486199",
         "nameOrig": "C724693370",
         "newbalanceDest": 0,
         "newbalanceOrig": 10399045.08,
         "oldbalanceDest": 0,
         "oldbalanceOrg": 10399045.08,
         "type": "TRANSFER"
        },
        {
         "_deepnote_index_column": 2741701,
         "amount": 3441041.46,
         "isFlaggedFraud": 1,
         "isFraud": 1,
         "nameDest": "C1082139865",
         "nameOrig": "C917414431",
         "newbalanceDest": 0,
         "newbalanceOrig": 3441041.46,
         "oldbalanceDest": 0,
         "oldbalanceOrg": 3441041.46,
         "type": "TRANSFER"
        },
        {
         "_deepnote_index_column": 2765218,
         "amount": 3171085.59,
         "isFlaggedFraud": 1,
         "isFraud": 1,
         "nameDest": "C1308068787",
         "nameOrig": "C1892216157",
         "newbalanceDest": 0,
         "newbalanceOrig": 3171085.59,
         "oldbalanceDest": 0,
         "oldbalanceOrg": 3171085.59,
         "type": "TRANSFER"
        },
        {
         "_deepnote_index_column": 2770249,
         "amount": 10000000,
         "isFlaggedFraud": 1,
         "isFraud": 1,
         "nameDest": "C1395467927",
         "nameOrig": "C2140038573",
         "newbalanceDest": 0,
         "newbalanceOrig": 17316255.05,
         "oldbalanceDest": 0,
         "oldbalanceOrg": 17316255.05,
         "type": "TRANSFER"
        },
        {
         "_deepnote_index_column": 2770251,
         "amount": 7316255.05,
         "isFlaggedFraud": 1,
         "isFraud": 1,
         "nameDest": "C1861208726",
         "nameOrig": "C1869569059",
         "newbalanceDest": 0,
         "newbalanceOrig": 17316255.05,
         "oldbalanceDest": 0,
         "oldbalanceOrg": 17316255.05,
         "type": "TRANSFER"
        },
        {
         "_deepnote_index_column": 2770373,
         "amount": 5674547.89,
         "isFlaggedFraud": 1,
         "isFraud": 1,
         "nameDest": "C1366804249",
         "nameOrig": "C992223106",
         "newbalanceDest": 0,
         "newbalanceOrig": 5674547.89,
         "oldbalanceDest": 0,
         "oldbalanceOrg": 5674547.89,
         "type": "TRANSFER"
        }
       ]
      },
      "text/html": [
       "<div>\n",
       "<style scoped>\n",
       "    .dataframe tbody tr th:only-of-type {\n",
       "        vertical-align: middle;\n",
       "    }\n",
       "\n",
       "    .dataframe tbody tr th {\n",
       "        vertical-align: top;\n",
       "    }\n",
       "\n",
       "    .dataframe thead th {\n",
       "        text-align: right;\n",
       "    }\n",
       "</style>\n",
       "<table border=\"1\" class=\"dataframe\">\n",
       "  <thead>\n",
       "    <tr style=\"text-align: right;\">\n",
       "      <th></th>\n",
       "      <th>type</th>\n",
       "      <th>amount</th>\n",
       "      <th>nameOrig</th>\n",
       "      <th>oldbalanceOrg</th>\n",
       "      <th>newbalanceOrig</th>\n",
       "      <th>nameDest</th>\n",
       "      <th>oldbalanceDest</th>\n",
       "      <th>newbalanceDest</th>\n",
       "      <th>isFraud</th>\n",
       "      <th>isFlaggedFraud</th>\n",
       "    </tr>\n",
       "  </thead>\n",
       "  <tbody>\n",
       "    <tr>\n",
       "      <th>1204984</th>\n",
       "      <td>TRANSFER</td>\n",
       "      <td>4953893.08</td>\n",
       "      <td>C728984460</td>\n",
       "      <td>4953893.08</td>\n",
       "      <td>4953893.08</td>\n",
       "      <td>C639921569</td>\n",
       "      <td>0.0</td>\n",
       "      <td>0.0</td>\n",
       "      <td>1</td>\n",
       "      <td>1</td>\n",
       "    </tr>\n",
       "    <tr>\n",
       "      <th>1422214</th>\n",
       "      <td>TRANSFER</td>\n",
       "      <td>1343002.08</td>\n",
       "      <td>C1100582606</td>\n",
       "      <td>1343002.08</td>\n",
       "      <td>1343002.08</td>\n",
       "      <td>C1147517658</td>\n",
       "      <td>0.0</td>\n",
       "      <td>0.0</td>\n",
       "      <td>1</td>\n",
       "      <td>1</td>\n",
       "    </tr>\n",
       "    <tr>\n",
       "      <th>1646619</th>\n",
       "      <td>TRANSFER</td>\n",
       "      <td>536624.41</td>\n",
       "      <td>C1035541766</td>\n",
       "      <td>536624.41</td>\n",
       "      <td>536624.41</td>\n",
       "      <td>C1100697970</td>\n",
       "      <td>0.0</td>\n",
       "      <td>0.0</td>\n",
       "      <td>1</td>\n",
       "      <td>1</td>\n",
       "    </tr>\n",
       "    <tr>\n",
       "      <th>2428454</th>\n",
       "      <td>TRANSFER</td>\n",
       "      <td>4892193.09</td>\n",
       "      <td>C908544136</td>\n",
       "      <td>4892193.09</td>\n",
       "      <td>4892193.09</td>\n",
       "      <td>C891140444</td>\n",
       "      <td>0.0</td>\n",
       "      <td>0.0</td>\n",
       "      <td>1</td>\n",
       "      <td>1</td>\n",
       "    </tr>\n",
       "    <tr>\n",
       "      <th>2619154</th>\n",
       "      <td>TRANSFER</td>\n",
       "      <td>10000000.00</td>\n",
       "      <td>C689608084</td>\n",
       "      <td>19585040.37</td>\n",
       "      <td>19585040.37</td>\n",
       "      <td>C1392803603</td>\n",
       "      <td>0.0</td>\n",
       "      <td>0.0</td>\n",
       "      <td>1</td>\n",
       "      <td>1</td>\n",
       "    </tr>\n",
       "    <tr>\n",
       "      <th>2619156</th>\n",
       "      <td>TRANSFER</td>\n",
       "      <td>9585040.37</td>\n",
       "      <td>C452586515</td>\n",
       "      <td>19585040.37</td>\n",
       "      <td>19585040.37</td>\n",
       "      <td>C1109166882</td>\n",
       "      <td>0.0</td>\n",
       "      <td>0.0</td>\n",
       "      <td>1</td>\n",
       "      <td>1</td>\n",
       "    </tr>\n",
       "    <tr>\n",
       "      <th>2688696</th>\n",
       "      <td>TRANSFER</td>\n",
       "      <td>3576297.10</td>\n",
       "      <td>C193696150</td>\n",
       "      <td>3576297.10</td>\n",
       "      <td>3576297.10</td>\n",
       "      <td>C484597480</td>\n",
       "      <td>0.0</td>\n",
       "      <td>0.0</td>\n",
       "      <td>1</td>\n",
       "      <td>1</td>\n",
       "    </tr>\n",
       "    <tr>\n",
       "      <th>2703826</th>\n",
       "      <td>TRANSFER</td>\n",
       "      <td>353874.22</td>\n",
       "      <td>C1684585475</td>\n",
       "      <td>353874.22</td>\n",
       "      <td>353874.22</td>\n",
       "      <td>C1770418982</td>\n",
       "      <td>0.0</td>\n",
       "      <td>0.0</td>\n",
       "      <td>1</td>\n",
       "      <td>1</td>\n",
       "    </tr>\n",
       "    <tr>\n",
       "      <th>2729568</th>\n",
       "      <td>TRANSFER</td>\n",
       "      <td>2542664.27</td>\n",
       "      <td>C786455622</td>\n",
       "      <td>2542664.27</td>\n",
       "      <td>2542664.27</td>\n",
       "      <td>C661958277</td>\n",
       "      <td>0.0</td>\n",
       "      <td>0.0</td>\n",
       "      <td>1</td>\n",
       "      <td>1</td>\n",
       "    </tr>\n",
       "    <tr>\n",
       "      <th>2736011</th>\n",
       "      <td>TRANSFER</td>\n",
       "      <td>10000000.00</td>\n",
       "      <td>C19004745</td>\n",
       "      <td>10399045.08</td>\n",
       "      <td>10399045.08</td>\n",
       "      <td>C1806199534</td>\n",
       "      <td>0.0</td>\n",
       "      <td>0.0</td>\n",
       "      <td>1</td>\n",
       "      <td>1</td>\n",
       "    </tr>\n",
       "    <tr>\n",
       "      <th>2736013</th>\n",
       "      <td>TRANSFER</td>\n",
       "      <td>399045.08</td>\n",
       "      <td>C724693370</td>\n",
       "      <td>10399045.08</td>\n",
       "      <td>10399045.08</td>\n",
       "      <td>C1909486199</td>\n",
       "      <td>0.0</td>\n",
       "      <td>0.0</td>\n",
       "      <td>1</td>\n",
       "      <td>1</td>\n",
       "    </tr>\n",
       "    <tr>\n",
       "      <th>2741701</th>\n",
       "      <td>TRANSFER</td>\n",
       "      <td>3441041.46</td>\n",
       "      <td>C917414431</td>\n",
       "      <td>3441041.46</td>\n",
       "      <td>3441041.46</td>\n",
       "      <td>C1082139865</td>\n",
       "      <td>0.0</td>\n",
       "      <td>0.0</td>\n",
       "      <td>1</td>\n",
       "      <td>1</td>\n",
       "    </tr>\n",
       "    <tr>\n",
       "      <th>2765218</th>\n",
       "      <td>TRANSFER</td>\n",
       "      <td>3171085.59</td>\n",
       "      <td>C1892216157</td>\n",
       "      <td>3171085.59</td>\n",
       "      <td>3171085.59</td>\n",
       "      <td>C1308068787</td>\n",
       "      <td>0.0</td>\n",
       "      <td>0.0</td>\n",
       "      <td>1</td>\n",
       "      <td>1</td>\n",
       "    </tr>\n",
       "    <tr>\n",
       "      <th>2770249</th>\n",
       "      <td>TRANSFER</td>\n",
       "      <td>10000000.00</td>\n",
       "      <td>C2140038573</td>\n",
       "      <td>17316255.05</td>\n",
       "      <td>17316255.05</td>\n",
       "      <td>C1395467927</td>\n",
       "      <td>0.0</td>\n",
       "      <td>0.0</td>\n",
       "      <td>1</td>\n",
       "      <td>1</td>\n",
       "    </tr>\n",
       "    <tr>\n",
       "      <th>2770251</th>\n",
       "      <td>TRANSFER</td>\n",
       "      <td>7316255.05</td>\n",
       "      <td>C1869569059</td>\n",
       "      <td>17316255.05</td>\n",
       "      <td>17316255.05</td>\n",
       "      <td>C1861208726</td>\n",
       "      <td>0.0</td>\n",
       "      <td>0.0</td>\n",
       "      <td>1</td>\n",
       "      <td>1</td>\n",
       "    </tr>\n",
       "    <tr>\n",
       "      <th>2770373</th>\n",
       "      <td>TRANSFER</td>\n",
       "      <td>5674547.89</td>\n",
       "      <td>C992223106</td>\n",
       "      <td>5674547.89</td>\n",
       "      <td>5674547.89</td>\n",
       "      <td>C1366804249</td>\n",
       "      <td>0.0</td>\n",
       "      <td>0.0</td>\n",
       "      <td>1</td>\n",
       "      <td>1</td>\n",
       "    </tr>\n",
       "  </tbody>\n",
       "</table>\n",
       "</div>"
      ],
      "text/plain": [
       "             type       amount     nameOrig  oldbalanceOrg  newbalanceOrig  \\\n",
       "1204984  TRANSFER   4953893.08   C728984460     4953893.08      4953893.08   \n",
       "1422214  TRANSFER   1343002.08  C1100582606     1343002.08      1343002.08   \n",
       "1646619  TRANSFER    536624.41  C1035541766      536624.41       536624.41   \n",
       "2428454  TRANSFER   4892193.09   C908544136     4892193.09      4892193.09   \n",
       "2619154  TRANSFER  10000000.00   C689608084    19585040.37     19585040.37   \n",
       "2619156  TRANSFER   9585040.37   C452586515    19585040.37     19585040.37   \n",
       "2688696  TRANSFER   3576297.10   C193696150     3576297.10      3576297.10   \n",
       "2703826  TRANSFER    353874.22  C1684585475      353874.22       353874.22   \n",
       "2729568  TRANSFER   2542664.27   C786455622     2542664.27      2542664.27   \n",
       "2736011  TRANSFER  10000000.00    C19004745    10399045.08     10399045.08   \n",
       "2736013  TRANSFER    399045.08   C724693370    10399045.08     10399045.08   \n",
       "2741701  TRANSFER   3441041.46   C917414431     3441041.46      3441041.46   \n",
       "2765218  TRANSFER   3171085.59  C1892216157     3171085.59      3171085.59   \n",
       "2770249  TRANSFER  10000000.00  C2140038573    17316255.05     17316255.05   \n",
       "2770251  TRANSFER   7316255.05  C1869569059    17316255.05     17316255.05   \n",
       "2770373  TRANSFER   5674547.89   C992223106     5674547.89      5674547.89   \n",
       "\n",
       "            nameDest  oldbalanceDest  newbalanceDest  isFraud  isFlaggedFraud  \n",
       "1204984   C639921569             0.0             0.0        1               1  \n",
       "1422214  C1147517658             0.0             0.0        1               1  \n",
       "1646619  C1100697970             0.0             0.0        1               1  \n",
       "2428454   C891140444             0.0             0.0        1               1  \n",
       "2619154  C1392803603             0.0             0.0        1               1  \n",
       "2619156  C1109166882             0.0             0.0        1               1  \n",
       "2688696   C484597480             0.0             0.0        1               1  \n",
       "2703826  C1770418982             0.0             0.0        1               1  \n",
       "2729568   C661958277             0.0             0.0        1               1  \n",
       "2736011  C1806199534             0.0             0.0        1               1  \n",
       "2736013  C1909486199             0.0             0.0        1               1  \n",
       "2741701  C1082139865             0.0             0.0        1               1  \n",
       "2765218  C1308068787             0.0             0.0        1               1  \n",
       "2770249  C1395467927             0.0             0.0        1               1  \n",
       "2770251  C1861208726             0.0             0.0        1               1  \n",
       "2770373  C1366804249             0.0             0.0        1               1  "
      ]
     },
     "execution_count": 85,
     "metadata": {},
     "output_type": "execute_result"
    }
   ],
   "source": [
    "df[df.isFlaggedFraud == 1]"
   ]
  },
  {
   "cell_type": "markdown",
   "metadata": {
    "cell_id": "5ed541dae9f140b69c76b580648d8a64",
    "deepnote_app_coordinates": {
     "h": 120,
     "w": 12,
     "x": 0,
     "y": 0
    },
    "deepnote_cell_type": "markdown"
   },
   "source": [
    "**We can also validate the variable by using the random forest to decide the importance of each variable.**"
   ]
  },
  {
   "cell_type": "code",
   "execution_count": null,
   "metadata": {
    "cell_id": "14838e3e4b5e487c8f19fff777fa29e1",
    "deepnote_app_coordinates": {
     "h": 120,
     "w": 12,
     "x": 0,
     "y": 0
    },
    "deepnote_cell_type": "code",
    "deepnote_to_be_reexecuted": false,
    "execution_millis": 16956,
    "execution_start": 1702171251316,
    "source_hash": null
   },
   "outputs": [
    {
     "name": "stdout",
     "output_type": "stream",
     "text": [
      "Feature: amount, Importance: 0.1838\n",
      "Feature: oldbalanceOrg, Importance: 0.3878\n",
      "Feature: newbalanceOrig, Importance: 0.0454\n",
      "Feature: oldbalanceDest, Importance: 0.1527\n",
      "Feature: newbalanceDest, Importance: 0.2294\n",
      "Feature: isFlaggedFraud, Importance: 0.0008\n"
     ]
    }
   ],
   "source": [
    "import pandas as pd\n",
    "import numpy as np\n",
    "from sklearn.ensemble import RandomForestClassifier\n",
    "\n",
    "df_test1=df.copy()\n",
    "X = df_test1.drop(['isFraud','type','nameOrig','nameDest'], axis=1)  # 特征列\n",
    "y = df_test1['isFraud']  # 目标列\n",
    "\n",
    "num_samples = 20\n",
    "\n",
    "feature_importance_scores = []\n",
    "\n",
    "for i in range(num_samples):\n",
    "    sample_indices = np.random.choice(len(X), size=5000, replace=False)\n",
    "    X_sample = X.iloc[sample_indices]\n",
    "    y_sample = y.iloc[sample_indices]\n",
    "    \n",
    "    rfc = RandomForestClassifier(n_estimators=100, random_state=42)\n",
    "    rfc.fit(X_sample, y_sample)\n",
    "    \n",
    "    feature_importance_scores.append(rfc.feature_importances_)\n",
    "\n",
    "average_feature_importance = np.mean(feature_importance_scores, axis=0)\n",
    "\n",
    "feature_importance_dict = dict(zip(X.columns, average_feature_importance))\n",
    "\n",
    "for feature, importance in feature_importance_dict.items():\n",
    "    print(f\"Feature: {feature}, Importance: {importance:.4f}\")\n"
   ]
  },
  {
   "cell_type": "markdown",
   "metadata": {
    "cell_id": "0215c477dcb24038bfbb9bb63027f5db",
    "deepnote_app_coordinates": {
     "h": 120,
     "w": 12,
     "x": 0,
     "y": 0
    },
    "deepnote_cell_type": "markdown"
   },
   "source": [
    "**We can see that ithas very low importance, so we'd better drop it.**"
   ]
  },
  {
   "cell_type": "markdown",
   "metadata": {
    "cell_id": "d62da64ae81e4fe6bbe147748928aafe",
    "deepnote_app_coordinates": {
     "h": 120,
     "w": 12,
     "x": 0,
     "y": 0
    },
    "deepnote_cell_type": "markdown"
   },
   "source": [
    "**There is only 16 transcations this varible can know. If \"isFlaggedFraud\"=1, it's definitly \"isFraud\"=1, but there remains fraud but the \"isFlaggedFraud\" doesn't recognize. Therefore, the transcation doesn't seem to have a good reflection of the label itself, so we'd better drop it.**"
   ]
  },
  {
   "cell_type": "code",
   "execution_count": null,
   "metadata": {
    "cell_id": "bdcd6d9c8ee04d0f9af1433468cd88ef",
    "deepnote_app_coordinates": {
     "h": 120,
     "w": 12,
     "x": 0,
     "y": 0
    },
    "deepnote_cell_type": "code",
    "deepnote_to_be_reexecuted": false,
    "execution_millis": 202,
    "execution_start": 1702171268506,
    "source_hash": null
   },
   "outputs": [
    {
     "data": {
      "application/vnd.deepnote.dataframe.v3+json": {
       "column_count": 10,
       "columns": [
        {
         "dtype": "object",
         "name": "type",
         "stats": {
          "categories": [
           {
            "count": 47141,
            "name": "TRANSFER"
           }
          ],
          "nan_count": 0,
          "unique_count": 1
         }
        },
        {
         "dtype": "float64",
         "name": "amount",
         "stats": {
          "histogram": [
           {
            "bin_end": 9244637.290000001,
            "bin_start": 95.14,
            "count": 41158
           },
           {
            "bin_end": 18489179.44,
            "bin_start": 9244637.290000001,
            "count": 5029
           },
           {
            "bin_end": 27733721.590000004,
            "bin_start": 18489179.44,
            "count": 533
           },
           {
            "bin_end": 36978263.74,
            "bin_start": 27733721.590000004,
            "count": 256
           },
           {
            "bin_end": 46222805.89,
            "bin_start": 36978263.74,
            "count": 87
           },
           {
            "bin_end": 55467348.04000001,
            "bin_start": 46222805.89,
            "count": 52
           },
           {
            "bin_end": 64711890.190000005,
            "bin_start": 55467348.04000001,
            "count": 19
           },
           {
            "bin_end": 73956432.34,
            "bin_start": 64711890.190000005,
            "count": 6
           },
           {
            "bin_end": 83200974.49000001,
            "bin_start": 73956432.34,
            "count": 0
           },
           {
            "bin_end": 92445516.64,
            "bin_start": 83200974.49000001,
            "count": 1
           }
          ],
          "max": "92445516.64",
          "min": "95.14",
          "nan_count": 0,
          "unique_count": 44073
         }
        },
        {
         "dtype": "object",
         "name": "nameOrig"
        },
        {
         "dtype": "float64",
         "name": "oldbalanceOrg"
        },
        {
         "dtype": "float64",
         "name": "newbalanceOrig"
        },
        {
         "dtype": "object",
         "name": "nameDest"
        },
        {
         "dtype": "float64",
         "name": "oldbalanceDest"
        },
        {
         "dtype": "float64",
         "name": "newbalanceDest"
        },
        {
         "dtype": "int64",
         "name": "isFraud"
        },
        {
         "dtype": "int64",
         "name": "isFlaggedFraud"
        },
        {
         "dtype": "int64",
         "name": "_deepnote_index_column"
        }
       ],
       "row_count": 47141,
       "rows": [
        {
         "_deepnote_index_column": 4,
         "amount": 311685.89,
         "isFlaggedFraud": 0,
         "isFraud": 0,
         "nameDest": "C932583850",
         "nameOrig": "C1984094095",
         "newbalanceDest": 2719172.89,
         "newbalanceOrig": 0,
         "oldbalanceDest": 6267,
         "oldbalanceOrg": 10835,
         "type": "TRANSFER"
        },
        {
         "_deepnote_index_column": 19,
         "amount": 125872.53,
         "isFlaggedFraud": 0,
         "isFraud": 0,
         "nameDest": "C392292416",
         "nameOrig": "C1443967876",
         "newbalanceDest": 3420103.09,
         "newbalanceOrig": 0,
         "oldbalanceDest": 348512,
         "oldbalanceOrg": 0,
         "type": "TRANSFER"
        },
        {
         "_deepnote_index_column": 20,
         "amount": 379856.23,
         "isFlaggedFraud": 0,
         "isFraud": 0,
         "nameDest": "C1590550415",
         "nameOrig": "C1449772539",
         "newbalanceDest": 19169204.93,
         "newbalanceOrig": 0,
         "oldbalanceDest": 900180,
         "oldbalanceOrg": 0,
         "type": "TRANSFER"
        },
        {
         "_deepnote_index_column": 21,
         "amount": 1505626.01,
         "isFlaggedFraud": 0,
         "isFraud": 0,
         "nameDest": "C665576141",
         "nameOrig": "C926859124",
         "newbalanceDest": 5515763.34,
         "newbalanceOrig": 0,
         "oldbalanceDest": 29031,
         "oldbalanceOrg": 0,
         "type": "TRANSFER"
        },
        {
         "_deepnote_index_column": 24,
         "amount": 761507.39,
         "isFlaggedFraud": 0,
         "isFraud": 0,
         "nameDest": "C1590550415",
         "nameOrig": "C412788346",
         "newbalanceDest": 19169204.93,
         "newbalanceOrig": 0,
         "oldbalanceDest": 1280036.23,
         "oldbalanceOrg": 0,
         "type": "TRANSFER"
        },
        {
         "_deepnote_index_column": 25,
         "amount": 1429051.47,
         "isFlaggedFraud": 0,
         "isFraud": 0,
         "nameDest": "C1590550415",
         "nameOrig": "C1520267010",
         "newbalanceDest": 19169204.93,
         "newbalanceOrig": 0,
         "oldbalanceDest": 2041543.62,
         "oldbalanceOrg": 0,
         "type": "TRANSFER"
        },
        {
         "_deepnote_index_column": 26,
         "amount": 358831.92,
         "isFlaggedFraud": 0,
         "isFraud": 0,
         "nameDest": "C392292416",
         "nameOrig": "C908084672",
         "newbalanceDest": 3420103.09,
         "newbalanceOrig": 0,
         "oldbalanceDest": 474384.53,
         "oldbalanceOrg": 0,
         "type": "TRANSFER"
        },
        {
         "_deepnote_index_column": 30,
         "amount": 1724887.05,
         "isFlaggedFraud": 0,
         "isFraud": 0,
         "nameDest": "C1590550415",
         "nameOrig": "C1495608502",
         "newbalanceDest": 19169204.93,
         "newbalanceOrig": 0,
         "oldbalanceDest": 3470595.1,
         "oldbalanceOrg": 0,
         "type": "TRANSFER"
        },
        {
         "_deepnote_index_column": 32,
         "amount": 581294.26,
         "isFlaggedFraud": 0,
         "isFraud": 0,
         "nameDest": "C1590550415",
         "nameOrig": "C843299092",
         "newbalanceDest": 19169204.93,
         "newbalanceOrig": 0,
         "oldbalanceDest": 5195482.15,
         "oldbalanceOrg": 0,
         "type": "TRANSFER"
        },
        {
         "_deepnote_index_column": 46,
         "amount": 679502.24,
         "isFlaggedFraud": 0,
         "isFraud": 0,
         "nameDest": "C451111351",
         "nameOrig": "C722417467",
         "newbalanceDest": 3940085.21,
         "newbalanceOrig": 0,
         "oldbalanceDest": 171866,
         "oldbalanceOrg": 290,
         "type": "TRANSFER"
        }
       ]
      },
      "text/html": [
       "<div>\n",
       "<style scoped>\n",
       "    .dataframe tbody tr th:only-of-type {\n",
       "        vertical-align: middle;\n",
       "    }\n",
       "\n",
       "    .dataframe tbody tr th {\n",
       "        vertical-align: top;\n",
       "    }\n",
       "\n",
       "    .dataframe thead th {\n",
       "        text-align: right;\n",
       "    }\n",
       "</style>\n",
       "<table border=\"1\" class=\"dataframe\">\n",
       "  <thead>\n",
       "    <tr style=\"text-align: right;\">\n",
       "      <th></th>\n",
       "      <th>type</th>\n",
       "      <th>amount</th>\n",
       "      <th>nameOrig</th>\n",
       "      <th>oldbalanceOrg</th>\n",
       "      <th>newbalanceOrig</th>\n",
       "      <th>nameDest</th>\n",
       "      <th>oldbalanceDest</th>\n",
       "      <th>newbalanceDest</th>\n",
       "      <th>isFraud</th>\n",
       "      <th>isFlaggedFraud</th>\n",
       "    </tr>\n",
       "  </thead>\n",
       "  <tbody>\n",
       "    <tr>\n",
       "      <th>4</th>\n",
       "      <td>TRANSFER</td>\n",
       "      <td>311685.89</td>\n",
       "      <td>C1984094095</td>\n",
       "      <td>10835.00</td>\n",
       "      <td>0.00</td>\n",
       "      <td>C932583850</td>\n",
       "      <td>6267.00</td>\n",
       "      <td>2719172.89</td>\n",
       "      <td>0</td>\n",
       "      <td>0</td>\n",
       "    </tr>\n",
       "    <tr>\n",
       "      <th>19</th>\n",
       "      <td>TRANSFER</td>\n",
       "      <td>125872.53</td>\n",
       "      <td>C1443967876</td>\n",
       "      <td>0.00</td>\n",
       "      <td>0.00</td>\n",
       "      <td>C392292416</td>\n",
       "      <td>348512.00</td>\n",
       "      <td>3420103.09</td>\n",
       "      <td>0</td>\n",
       "      <td>0</td>\n",
       "    </tr>\n",
       "    <tr>\n",
       "      <th>20</th>\n",
       "      <td>TRANSFER</td>\n",
       "      <td>379856.23</td>\n",
       "      <td>C1449772539</td>\n",
       "      <td>0.00</td>\n",
       "      <td>0.00</td>\n",
       "      <td>C1590550415</td>\n",
       "      <td>900180.00</td>\n",
       "      <td>19169204.93</td>\n",
       "      <td>0</td>\n",
       "      <td>0</td>\n",
       "    </tr>\n",
       "    <tr>\n",
       "      <th>21</th>\n",
       "      <td>TRANSFER</td>\n",
       "      <td>1505626.01</td>\n",
       "      <td>C926859124</td>\n",
       "      <td>0.00</td>\n",
       "      <td>0.00</td>\n",
       "      <td>C665576141</td>\n",
       "      <td>29031.00</td>\n",
       "      <td>5515763.34</td>\n",
       "      <td>0</td>\n",
       "      <td>0</td>\n",
       "    </tr>\n",
       "    <tr>\n",
       "      <th>24</th>\n",
       "      <td>TRANSFER</td>\n",
       "      <td>761507.39</td>\n",
       "      <td>C412788346</td>\n",
       "      <td>0.00</td>\n",
       "      <td>0.00</td>\n",
       "      <td>C1590550415</td>\n",
       "      <td>1280036.23</td>\n",
       "      <td>19169204.93</td>\n",
       "      <td>0</td>\n",
       "      <td>0</td>\n",
       "    </tr>\n",
       "    <tr>\n",
       "      <th>...</th>\n",
       "      <td>...</td>\n",
       "      <td>...</td>\n",
       "      <td>...</td>\n",
       "      <td>...</td>\n",
       "      <td>...</td>\n",
       "      <td>...</td>\n",
       "      <td>...</td>\n",
       "      <td>...</td>\n",
       "      <td>...</td>\n",
       "      <td>...</td>\n",
       "    </tr>\n",
       "    <tr>\n",
       "      <th>2770369</th>\n",
       "      <td>TRANSFER</td>\n",
       "      <td>10000000.00</td>\n",
       "      <td>C88849251</td>\n",
       "      <td>25674547.89</td>\n",
       "      <td>15674547.89</td>\n",
       "      <td>C1939028448</td>\n",
       "      <td>0.00</td>\n",
       "      <td>0.00</td>\n",
       "      <td>1</td>\n",
       "      <td>0</td>\n",
       "    </tr>\n",
       "    <tr>\n",
       "      <th>2770371</th>\n",
       "      <td>TRANSFER</td>\n",
       "      <td>10000000.00</td>\n",
       "      <td>C1945606464</td>\n",
       "      <td>15674547.89</td>\n",
       "      <td>5674547.89</td>\n",
       "      <td>C625944676</td>\n",
       "      <td>0.00</td>\n",
       "      <td>0.00</td>\n",
       "      <td>1</td>\n",
       "      <td>0</td>\n",
       "    </tr>\n",
       "    <tr>\n",
       "      <th>2770373</th>\n",
       "      <td>TRANSFER</td>\n",
       "      <td>5674547.89</td>\n",
       "      <td>C992223106</td>\n",
       "      <td>5674547.89</td>\n",
       "      <td>5674547.89</td>\n",
       "      <td>C1366804249</td>\n",
       "      <td>0.00</td>\n",
       "      <td>0.00</td>\n",
       "      <td>1</td>\n",
       "      <td>1</td>\n",
       "    </tr>\n",
       "    <tr>\n",
       "      <th>2770387</th>\n",
       "      <td>TRANSFER</td>\n",
       "      <td>4009058.39</td>\n",
       "      <td>C1044665079</td>\n",
       "      <td>4009058.39</td>\n",
       "      <td>0.00</td>\n",
       "      <td>C750074708</td>\n",
       "      <td>0.00</td>\n",
       "      <td>0.00</td>\n",
       "      <td>1</td>\n",
       "      <td>0</td>\n",
       "    </tr>\n",
       "    <tr>\n",
       "      <th>2770405</th>\n",
       "      <td>TRANSFER</td>\n",
       "      <td>6311409.28</td>\n",
       "      <td>C1529008245</td>\n",
       "      <td>6311409.28</td>\n",
       "      <td>0.00</td>\n",
       "      <td>C1881841831</td>\n",
       "      <td>0.00</td>\n",
       "      <td>0.00</td>\n",
       "      <td>1</td>\n",
       "      <td>0</td>\n",
       "    </tr>\n",
       "  </tbody>\n",
       "</table>\n",
       "<p>47141 rows × 10 columns</p>\n",
       "</div>"
      ],
      "text/plain": [
       "             type       amount     nameOrig  oldbalanceOrg  newbalanceOrig  \\\n",
       "4        TRANSFER    311685.89  C1984094095       10835.00            0.00   \n",
       "19       TRANSFER    125872.53  C1443967876           0.00            0.00   \n",
       "20       TRANSFER    379856.23  C1449772539           0.00            0.00   \n",
       "21       TRANSFER   1505626.01   C926859124           0.00            0.00   \n",
       "24       TRANSFER    761507.39   C412788346           0.00            0.00   \n",
       "...           ...          ...          ...            ...             ...   \n",
       "2770369  TRANSFER  10000000.00    C88849251    25674547.89     15674547.89   \n",
       "2770371  TRANSFER  10000000.00  C1945606464    15674547.89      5674547.89   \n",
       "2770373  TRANSFER   5674547.89   C992223106     5674547.89      5674547.89   \n",
       "2770387  TRANSFER   4009058.39  C1044665079     4009058.39            0.00   \n",
       "2770405  TRANSFER   6311409.28  C1529008245     6311409.28            0.00   \n",
       "\n",
       "            nameDest  oldbalanceDest  newbalanceDest  isFraud  isFlaggedFraud  \n",
       "4         C932583850         6267.00      2719172.89        0               0  \n",
       "19        C392292416       348512.00      3420103.09        0               0  \n",
       "20       C1590550415       900180.00     19169204.93        0               0  \n",
       "21        C665576141        29031.00      5515763.34        0               0  \n",
       "24       C1590550415      1280036.23     19169204.93        0               0  \n",
       "...              ...             ...             ...      ...             ...  \n",
       "2770369  C1939028448            0.00            0.00        1               0  \n",
       "2770371   C625944676            0.00            0.00        1               0  \n",
       "2770373  C1366804249            0.00            0.00        1               1  \n",
       "2770387   C750074708            0.00            0.00        1               0  \n",
       "2770405  C1881841831            0.00            0.00        1               0  \n",
       "\n",
       "[47141 rows x 10 columns]"
      ]
     },
     "execution_count": 87,
     "metadata": {},
     "output_type": "execute_result"
    }
   ],
   "source": [
    "df[(df.type=='TRANSFER') & ((df.amount >=2000000) | (abs(df.oldbalanceOrg-df.newbalanceOrig)>2000000) | (abs(df.newbalanceDest-df.oldbalanceDest)>2000000))]"
   ]
  },
  {
   "cell_type": "markdown",
   "metadata": {
    "cell_id": "1f66605ffd6e46d8a232f90311e17d1e",
    "deepnote_app_coordinates": {
     "h": 120,
     "w": 12,
     "x": 0,
     "y": 0
    },
    "deepnote_cell_type": "markdown"
   },
   "source": [
    "**The final decision whether to drop this variable is that it can't filter all the transfer one that are >2000000, so I really don't know what's this varible for, so I will drop it. Also, I've figured out we can't see through whether a transcation is fraud by calculating the spread of the old balanceOrg and new balanceorig or by the payee side or the amount side to decide in this question, to certify my conclusion, I will write the code.**"
   ]
  },
  {
   "cell_type": "code",
   "execution_count": null,
   "metadata": {
    "cell_id": "8219db6c1ab34414834a2ee9c94e219b",
    "deepnote_app_coordinates": {
     "h": 120,
     "w": 12,
     "x": 0,
     "y": 0
    },
    "deepnote_cell_type": "code",
    "deepnote_to_be_reexecuted": false,
    "execution_millis": 303,
    "execution_start": 1702171268943,
    "source_hash": null
   },
   "outputs": [
    {
     "data": {
      "application/vnd.deepnote.dataframe.v3+json": {
       "column_count": 10,
       "columns": [
        {
         "dtype": "object",
         "name": "type"
        },
        {
         "dtype": "float64",
         "name": "amount"
        },
        {
         "dtype": "object",
         "name": "nameOrig"
        },
        {
         "dtype": "float64",
         "name": "oldbalanceOrg"
        },
        {
         "dtype": "float64",
         "name": "newbalanceOrig"
        },
        {
         "dtype": "object",
         "name": "nameDest"
        },
        {
         "dtype": "float64",
         "name": "oldbalanceDest"
        },
        {
         "dtype": "float64",
         "name": "newbalanceDest"
        },
        {
         "dtype": "int64",
         "name": "isFraud"
        },
        {
         "dtype": "int64",
         "name": "isFlaggedFraud"
        },
        {
         "dtype": "int64",
         "name": "_deepnote_index_column"
        }
       ],
       "row_count": 524910,
       "rows": [
        {
         "_deepnote_index_column": 3,
         "amount": 215310.3,
         "isFlaggedFraud": 0,
         "isFraud": 0,
         "nameDest": "C1100439041",
         "nameOrig": "C1670993182",
         "newbalanceDest": 0,
         "newbalanceOrig": 0,
         "oldbalanceDest": 22425,
         "oldbalanceOrg": 705,
         "type": "TRANSFER"
        },
        {
         "_deepnote_index_column": 4,
         "amount": 311685.89,
         "isFlaggedFraud": 0,
         "isFraud": 0,
         "nameDest": "C932583850",
         "nameOrig": "C1984094095",
         "newbalanceDest": 2719172.89,
         "newbalanceOrig": 0,
         "oldbalanceDest": 6267,
         "oldbalanceOrg": 10835,
         "type": "TRANSFER"
        },
        {
         "_deepnote_index_column": 9,
         "amount": 62610.8,
         "isFlaggedFraud": 0,
         "isFraud": 0,
         "nameDest": "C1937962514",
         "nameOrig": "C1976401987",
         "newbalanceDest": 8383.29,
         "newbalanceOrig": 16503.2,
         "oldbalanceDest": 517,
         "oldbalanceOrg": 79114,
         "type": "TRANSFER"
        },
        {
         "_deepnote_index_column": 14,
         "amount": 42712.39,
         "isFlaggedFraud": 0,
         "isFraud": 0,
         "nameDest": "C1330106945",
         "nameOrig": "C283039401",
         "newbalanceDest": 24044.18,
         "newbalanceOrig": 0,
         "oldbalanceDest": 57901.66,
         "oldbalanceOrg": 10363.39,
         "type": "TRANSFER"
        },
        {
         "_deepnote_index_column": 15,
         "amount": 77957.68,
         "isFlaggedFraud": 0,
         "isFraud": 0,
         "nameDest": "C1761291320",
         "nameOrig": "C207471778",
         "newbalanceDest": 22233.65,
         "newbalanceOrig": 0,
         "oldbalanceDest": 94900,
         "oldbalanceOrg": 0,
         "type": "TRANSFER"
        },
        {
         "_deepnote_index_column": 16,
         "amount": 17231.46,
         "isFlaggedFraud": 0,
         "isFraud": 0,
         "nameDest": "C783286238",
         "nameOrig": "C1243171897",
         "newbalanceDest": 0,
         "newbalanceOrig": 0,
         "oldbalanceDest": 24672,
         "oldbalanceOrg": 0,
         "type": "TRANSFER"
        },
        {
         "_deepnote_index_column": 17,
         "amount": 78766.03,
         "isFlaggedFraud": 0,
         "isFraud": 0,
         "nameDest": "C1749186397",
         "nameOrig": "C1376151044",
         "newbalanceDest": 277515.05,
         "newbalanceOrig": 0,
         "oldbalanceDest": 103772,
         "oldbalanceOrg": 0,
         "type": "TRANSFER"
        },
        {
         "_deepnote_index_column": 18,
         "amount": 224606.64,
         "isFlaggedFraud": 0,
         "isFraud": 0,
         "nameDest": "C766572210",
         "nameOrig": "C873175411",
         "newbalanceDest": 0,
         "newbalanceOrig": 0,
         "oldbalanceDest": 354678.92,
         "oldbalanceOrg": 0,
         "type": "TRANSFER"
        },
        {
         "_deepnote_index_column": 19,
         "amount": 125872.53,
         "isFlaggedFraud": 0,
         "isFraud": 0,
         "nameDest": "C392292416",
         "nameOrig": "C1443967876",
         "newbalanceDest": 3420103.09,
         "newbalanceOrig": 0,
         "oldbalanceDest": 348512,
         "oldbalanceOrg": 0,
         "type": "TRANSFER"
        },
        {
         "_deepnote_index_column": 20,
         "amount": 379856.23,
         "isFlaggedFraud": 0,
         "isFraud": 0,
         "nameDest": "C1590550415",
         "nameOrig": "C1449772539",
         "newbalanceDest": 19169204.93,
         "newbalanceOrig": 0,
         "oldbalanceDest": 900180,
         "oldbalanceOrg": 0,
         "type": "TRANSFER"
        }
       ]
      },
      "text/html": [
       "<div>\n",
       "<style scoped>\n",
       "    .dataframe tbody tr th:only-of-type {\n",
       "        vertical-align: middle;\n",
       "    }\n",
       "\n",
       "    .dataframe tbody tr th {\n",
       "        vertical-align: top;\n",
       "    }\n",
       "\n",
       "    .dataframe thead th {\n",
       "        text-align: right;\n",
       "    }\n",
       "</style>\n",
       "<table border=\"1\" class=\"dataframe\">\n",
       "  <thead>\n",
       "    <tr style=\"text-align: right;\">\n",
       "      <th></th>\n",
       "      <th>type</th>\n",
       "      <th>amount</th>\n",
       "      <th>nameOrig</th>\n",
       "      <th>oldbalanceOrg</th>\n",
       "      <th>newbalanceOrig</th>\n",
       "      <th>nameDest</th>\n",
       "      <th>oldbalanceDest</th>\n",
       "      <th>newbalanceDest</th>\n",
       "      <th>isFraud</th>\n",
       "      <th>isFlaggedFraud</th>\n",
       "    </tr>\n",
       "  </thead>\n",
       "  <tbody>\n",
       "    <tr>\n",
       "      <th>3</th>\n",
       "      <td>TRANSFER</td>\n",
       "      <td>215310.30</td>\n",
       "      <td>C1670993182</td>\n",
       "      <td>705.00</td>\n",
       "      <td>0.00</td>\n",
       "      <td>C1100439041</td>\n",
       "      <td>22425.00</td>\n",
       "      <td>0.00</td>\n",
       "      <td>0</td>\n",
       "      <td>0</td>\n",
       "    </tr>\n",
       "    <tr>\n",
       "      <th>4</th>\n",
       "      <td>TRANSFER</td>\n",
       "      <td>311685.89</td>\n",
       "      <td>C1984094095</td>\n",
       "      <td>10835.00</td>\n",
       "      <td>0.00</td>\n",
       "      <td>C932583850</td>\n",
       "      <td>6267.00</td>\n",
       "      <td>2719172.89</td>\n",
       "      <td>0</td>\n",
       "      <td>0</td>\n",
       "    </tr>\n",
       "    <tr>\n",
       "      <th>9</th>\n",
       "      <td>TRANSFER</td>\n",
       "      <td>62610.80</td>\n",
       "      <td>C1976401987</td>\n",
       "      <td>79114.00</td>\n",
       "      <td>16503.20</td>\n",
       "      <td>C1937962514</td>\n",
       "      <td>517.00</td>\n",
       "      <td>8383.29</td>\n",
       "      <td>0</td>\n",
       "      <td>0</td>\n",
       "    </tr>\n",
       "    <tr>\n",
       "      <th>14</th>\n",
       "      <td>TRANSFER</td>\n",
       "      <td>42712.39</td>\n",
       "      <td>C283039401</td>\n",
       "      <td>10363.39</td>\n",
       "      <td>0.00</td>\n",
       "      <td>C1330106945</td>\n",
       "      <td>57901.66</td>\n",
       "      <td>24044.18</td>\n",
       "      <td>0</td>\n",
       "      <td>0</td>\n",
       "    </tr>\n",
       "    <tr>\n",
       "      <th>15</th>\n",
       "      <td>TRANSFER</td>\n",
       "      <td>77957.68</td>\n",
       "      <td>C207471778</td>\n",
       "      <td>0.00</td>\n",
       "      <td>0.00</td>\n",
       "      <td>C1761291320</td>\n",
       "      <td>94900.00</td>\n",
       "      <td>22233.65</td>\n",
       "      <td>0</td>\n",
       "      <td>0</td>\n",
       "    </tr>\n",
       "    <tr>\n",
       "      <th>...</th>\n",
       "      <td>...</td>\n",
       "      <td>...</td>\n",
       "      <td>...</td>\n",
       "      <td>...</td>\n",
       "      <td>...</td>\n",
       "      <td>...</td>\n",
       "      <td>...</td>\n",
       "      <td>...</td>\n",
       "      <td>...</td>\n",
       "      <td>...</td>\n",
       "    </tr>\n",
       "    <tr>\n",
       "      <th>2770096</th>\n",
       "      <td>TRANSFER</td>\n",
       "      <td>92746.73</td>\n",
       "      <td>C587921214</td>\n",
       "      <td>5051.00</td>\n",
       "      <td>0.00</td>\n",
       "      <td>C930436926</td>\n",
       "      <td>279931.86</td>\n",
       "      <td>372678.59</td>\n",
       "      <td>0</td>\n",
       "      <td>0</td>\n",
       "    </tr>\n",
       "    <tr>\n",
       "      <th>2770097</th>\n",
       "      <td>TRANSFER</td>\n",
       "      <td>76507.70</td>\n",
       "      <td>C1157171835</td>\n",
       "      <td>13161.00</td>\n",
       "      <td>0.00</td>\n",
       "      <td>C720176528</td>\n",
       "      <td>274281.30</td>\n",
       "      <td>350789.00</td>\n",
       "      <td>0</td>\n",
       "      <td>0</td>\n",
       "    </tr>\n",
       "    <tr>\n",
       "      <th>2770098</th>\n",
       "      <td>TRANSFER</td>\n",
       "      <td>14563.03</td>\n",
       "      <td>C936960472</td>\n",
       "      <td>20705.00</td>\n",
       "      <td>6141.97</td>\n",
       "      <td>C1924752944</td>\n",
       "      <td>153878.31</td>\n",
       "      <td>168441.35</td>\n",
       "      <td>0</td>\n",
       "      <td>0</td>\n",
       "    </tr>\n",
       "    <tr>\n",
       "      <th>2770102</th>\n",
       "      <td>TRANSFER</td>\n",
       "      <td>139144.25</td>\n",
       "      <td>C1264043726</td>\n",
       "      <td>7075.00</td>\n",
       "      <td>0.00</td>\n",
       "      <td>C2093369248</td>\n",
       "      <td>49040158.93</td>\n",
       "      <td>49179303.19</td>\n",
       "      <td>0</td>\n",
       "      <td>0</td>\n",
       "    </tr>\n",
       "    <tr>\n",
       "      <th>2770112</th>\n",
       "      <td>TRANSFER</td>\n",
       "      <td>82096.45</td>\n",
       "      <td>C614459560</td>\n",
       "      <td>13492.00</td>\n",
       "      <td>0.00</td>\n",
       "      <td>C855350324</td>\n",
       "      <td>0.00</td>\n",
       "      <td>82096.45</td>\n",
       "      <td>0</td>\n",
       "      <td>0</td>\n",
       "    </tr>\n",
       "  </tbody>\n",
       "</table>\n",
       "<p>524910 rows × 10 columns</p>\n",
       "</div>"
      ],
      "text/plain": [
       "             type     amount     nameOrig  oldbalanceOrg  newbalanceOrig  \\\n",
       "3        TRANSFER  215310.30  C1670993182         705.00            0.00   \n",
       "4        TRANSFER  311685.89  C1984094095       10835.00            0.00   \n",
       "9        TRANSFER   62610.80  C1976401987       79114.00        16503.20   \n",
       "14       TRANSFER   42712.39   C283039401       10363.39            0.00   \n",
       "15       TRANSFER   77957.68   C207471778           0.00            0.00   \n",
       "...           ...        ...          ...            ...             ...   \n",
       "2770096  TRANSFER   92746.73   C587921214        5051.00            0.00   \n",
       "2770097  TRANSFER   76507.70  C1157171835       13161.00            0.00   \n",
       "2770098  TRANSFER   14563.03   C936960472       20705.00         6141.97   \n",
       "2770102  TRANSFER  139144.25  C1264043726        7075.00            0.00   \n",
       "2770112  TRANSFER   82096.45   C614459560       13492.00            0.00   \n",
       "\n",
       "            nameDest  oldbalanceDest  newbalanceDest  isFraud  isFlaggedFraud  \n",
       "3        C1100439041        22425.00            0.00        0               0  \n",
       "4         C932583850         6267.00      2719172.89        0               0  \n",
       "9        C1937962514          517.00         8383.29        0               0  \n",
       "14       C1330106945        57901.66        24044.18        0               0  \n",
       "15       C1761291320        94900.00        22233.65        0               0  \n",
       "...              ...             ...             ...      ...             ...  \n",
       "2770096   C930436926       279931.86       372678.59        0               0  \n",
       "2770097   C720176528       274281.30       350789.00        0               0  \n",
       "2770098  C1924752944       153878.31       168441.35        0               0  \n",
       "2770102  C2093369248     49040158.93     49179303.19        0               0  \n",
       "2770112   C855350324            0.00        82096.45        0               0  \n",
       "\n",
       "[524910 rows x 10 columns]"
      ]
     },
     "execution_count": 88,
     "metadata": {},
     "output_type": "execute_result"
    }
   ],
   "source": [
    "df[(df.isFraud==0)&(df.type=='TRANSFER')&((df.amount!=(df.oldbalanceOrg-df.newbalanceOrig))|(df.amount!=abs(df.oldbalanceDest-df.newbalanceDest))|(abs(df.oldbalanceDest-df.newbalanceDest)!=abs(df.newbalanceDest-df.oldbalanceDest))|(df.oldbalanceDest-df.newbalanceDest+df.newbalanceDest-df.oldbalanceDest!=0))]"
   ]
  },
  {
   "cell_type": "markdown",
   "metadata": {
    "cell_id": "526c8961884146009f5dbfae6c5ad518",
    "deepnote_app_coordinates": {
     "h": 120,
     "w": 12,
     "x": 0,
     "y": 0
    },
    "deepnote_cell_type": "markdown"
   },
   "source": [
    "**We can't simply treat it as a accounting problem, there usually exists other questions. Also, the condition of condition, old and new balanceorg can be treated as one feature by using +/-.**"
   ]
  },
  {
   "cell_type": "markdown",
   "metadata": {
    "cell_id": "ac5f86ae779e4798a48ef5e4b94a1ac1",
    "deepnote_app_coordinates": {
     "h": 120,
     "w": 12,
     "x": 0,
     "y": 0
    },
    "deepnote_cell_type": "markdown"
   },
   "source": [
    "**So what about the name of payer and payee? It's rather a good point as we may need to think about before dropping it not to treat it as a feature. We can classify the data using C and M.**"
   ]
  },
  {
   "cell_type": "code",
   "execution_count": null,
   "metadata": {
    "cell_id": "ecd8b5a15cf74ea0983a9e921df3d4d9",
    "deepnote_app_coordinates": {
     "h": 120,
     "w": 12,
     "x": 0,
     "y": 0
    },
    "deepnote_cell_type": "code",
    "deepnote_to_be_reexecuted": false,
    "execution_millis": 13132,
    "execution_start": 1702171269304,
    "source_hash": null
   },
   "outputs": [],
   "source": [
    "import numpy as np\n",
    "df['type2'] = np.nan\n",
    "df.loc[df.nameOrig.str.contains('C') & df.nameDest.str.contains('C'), 'type2'] = 'CC'\n",
    "df.loc[df.nameOrig.str.contains('C') & df.nameDest.str.contains('M'), 'type2'] = 'CM'\n",
    "df.loc[df.nameOrig.str.contains('M') & df.nameDest.str.contains('C'), 'type2'] = 'MC'\n",
    "df.loc[df.nameOrig.str.contains('M') & df.nameDest.str.contains('C'), 'type2'] = 'MM'\n"
   ]
  },
  {
   "cell_type": "code",
   "execution_count": null,
   "metadata": {
    "cell_id": "dd940ea62a5f4087bd6dad41ac4142f6",
    "deepnote_app_coordinates": {
     "h": 120,
     "w": 12,
     "x": 0,
     "y": 0
    },
    "deepnote_cell_type": "code",
    "deepnote_to_be_reexecuted": false,
    "execution_millis": 21,
    "execution_start": 1702171282799,
    "source_hash": null
   },
   "outputs": [
    {
     "data": {
      "text/plain": [
       "CC    2770409\n",
       "Name: type2, dtype: int64"
      ]
     },
     "execution_count": 90,
     "metadata": {},
     "output_type": "execute_result"
    }
   ],
   "source": [
    "df['type2'].value_counts()"
   ]
  },
  {
   "cell_type": "markdown",
   "metadata": {
    "cell_id": "3e87cfe3e30349f78992be3e49542af7",
    "deepnote_app_coordinates": {
     "h": 120,
     "w": 12,
     "x": 0,
     "y": 0
    },
    "deepnote_cell_type": "markdown"
   },
   "source": [
    "**Tricky part is that all fraud are CC in transfer and check out fraction, so it's better throw them.**"
   ]
  },
  {
   "cell_type": "code",
   "execution_count": null,
   "metadata": {
    "cell_id": "45c5ec2b95b642a0aa961f2d2e6a02c7",
    "deepnote_app_coordinates": {
     "h": 120,
     "w": 12,
     "x": 0,
     "y": 0
    },
    "deepnote_cell_type": "code",
    "deepnote_to_be_reexecuted": false,
    "execution_millis": 328,
    "execution_start": 1702171283131,
    "source_hash": null
   },
   "outputs": [],
   "source": [
    "columns_to_drop = ['type2', 'nameOrig', 'nameDest', 'isFlaggedFraud']\n",
    "df.drop(columns=[col for col in columns_to_drop if col in df.columns], inplace=True)"
   ]
  },
  {
   "cell_type": "markdown",
   "metadata": {
    "cell_id": "bb7d394f29624a03a653140ee505e9c3",
    "deepnote_app_coordinates": {
     "h": 120,
     "w": 12,
     "x": 0,
     "y": 0
    },
    "deepnote_cell_type": "markdown"
   },
   "source": [
    "# 3.data cleaning and feature engineering"
   ]
  },
  {
   "cell_type": "markdown",
   "metadata": {
    "cell_id": "0ac9a7d9f85e4eeaa78b0c98404d367d",
    "deepnote_app_coordinates": {
     "h": 120,
     "w": 12,
     "x": 0,
     "y": 0
    },
    "deepnote_cell_type": "markdown"
   },
   "source": [
    "**Firstly, we need to change some column names to achieve the standardize effect.**"
   ]
  },
  {
   "cell_type": "code",
   "execution_count": null,
   "metadata": {
    "cell_id": "590232298f994bbc9d5b05341763cba7",
    "deepnote_app_coordinates": {
     "h": 120,
     "w": 12,
     "x": 0,
     "y": 0
    },
    "deepnote_cell_type": "code",
    "deepnote_to_be_reexecuted": false,
    "execution_millis": 33,
    "execution_start": 1702171283441,
    "source_hash": null
   },
   "outputs": [],
   "source": [
    "df.rename(columns={'oldbalanceOrg': 'from_oldb', 'newbalanceOrig': 'from_newb','oldbalanceDest': 'to_oldb','newbalanceDest': 'to_newb'}, inplace=True)"
   ]
  },
  {
   "cell_type": "markdown",
   "metadata": {
    "cell_id": "1b4e76ecfce2433389eaf720abfbbe61",
    "deepnote_app_coordinates": {
     "h": 120,
     "w": 12,
     "x": 0,
     "y": 0
    },
    "deepnote_cell_type": "markdown"
   },
   "source": [
    "**Also, since I've only contained cash_out and transfer type as the only two columns that isFraud=1, the df columns can be set as the dataset. isFraud column should be set as Y for upcoming machine learning dataset setting.**"
   ]
  },
  {
   "cell_type": "markdown",
   "metadata": {
    "cell_id": "745eb8013c2a4e538ee6ecc0638b5750",
    "deepnote_app_coordinates": {
     "h": 120,
     "w": 12,
     "x": 0,
     "y": 0
    },
    "deepnote_cell_type": "markdown"
   },
   "source": [
    "**Set the type of transcation into digital numbers for better classification.**"
   ]
  },
  {
   "cell_type": "code",
   "execution_count": null,
   "metadata": {
    "cell_id": "53835d3cf505461bb664d67070198669",
    "deepnote_app_coordinates": {
     "h": 120,
     "w": 12,
     "x": 0,
     "y": 0
    },
    "deepnote_cell_type": "code",
    "deepnote_to_be_reexecuted": false,
    "execution_millis": 695,
    "execution_start": 1702171283443,
    "source_hash": null
   },
   "outputs": [],
   "source": [
    "df.loc[df.type=='TRANSFER','type'] = 0\n",
    "df.loc[df.type=='CASH_OUT','type'] = 1"
   ]
  },
  {
   "cell_type": "markdown",
   "metadata": {
    "cell_id": "bec31f7c5fe5410b89d851e8b0c20866",
    "deepnote_app_coordinates": {
     "h": 120,
     "w": 12,
     "x": 0,
     "y": 0
    },
    "deepnote_cell_type": "markdown"
   },
   "source": [
    "**Next, we need to deal with the missing values. I've discussed before on whether to retain the 'isFlaggedFraud' variable when I find that from and to account has amount balance but 'amount' column remains 0 but not be considered as a fraud, and that may be a missing value problem. Here are two situations: one is that amount>0, but from_oldb=0 and from_newb=0, another situation is that amount>0, but to_oldb and to_newb=0.Thereforem we should examine the fraud amount to decide what we should do about it.**"
   ]
  },
  {
   "cell_type": "code",
   "execution_count": null,
   "metadata": {
    "cell_id": "8388796d3de942eeaa5fc0e893804ff8",
    "deepnote_app_coordinates": {
     "h": 120,
     "w": 12,
     "x": 0,
     "y": 0
    },
    "deepnote_cell_type": "code",
    "deepnote_to_be_reexecuted": false,
    "execution_millis": 24,
    "execution_start": 1702171284296,
    "source_hash": null
   },
   "outputs": [
    {
     "data": {
      "text/plain": [
       "0.0030439547059539756"
      ]
     },
     "execution_count": 94,
     "metadata": {},
     "output_type": "execute_result"
    }
   ],
   "source": [
    "len(df.loc[(df.isFraud==1) & (df.from_oldb==0)& (df.from_newb==0)& (df.amount!=0)])/len(df[df['isFraud']==1])"
   ]
  },
  {
   "cell_type": "code",
   "execution_count": null,
   "metadata": {
    "cell_id": "8824dee3f90343a3a95b15fef2c74342",
    "deepnote_app_coordinates": {
     "h": 120,
     "w": 12,
     "x": 0,
     "y": 0
    },
    "deepnote_cell_type": "code",
    "deepnote_to_be_reexecuted": false,
    "execution_millis": 278,
    "execution_start": 1702171284323,
    "source_hash": null
   },
   "outputs": [
    {
     "data": {
      "text/plain": [
       "0.4737321319703598"
      ]
     },
     "execution_count": 95,
     "metadata": {},
     "output_type": "execute_result"
    }
   ],
   "source": [
    "len(df.loc[(df.isFraud==0) & (df.from_oldb==0)& (df.from_newb==0)& (df.amount!=0)])/len(df[df['isFraud']==0])"
   ]
  },
  {
   "cell_type": "markdown",
   "metadata": {
    "cell_id": "17ca190b039545f8bede864abf7f5776",
    "deepnote_app_coordinates": {
     "h": 120,
     "w": 12,
     "x": 0,
     "y": 0
    },
    "deepnote_cell_type": "markdown"
   },
   "source": [
    "**It does have smaller probability that both are 0 is considered to be a fraud, therefore, we should set it still because it won't influence much about the result of the fraud rate, we can treat it as nan to decrease the probability of wrongly treatment.** "
   ]
  },
  {
   "cell_type": "code",
   "execution_count": null,
   "metadata": {
    "cell_id": "d697fb454f864862af1e9cdcc7b26fba",
    "deepnote_app_coordinates": {
     "h": 120,
     "w": 12,
     "x": 0,
     "y": 0
    },
    "deepnote_cell_type": "code",
    "deepnote_to_be_reexecuted": false,
    "execution_millis": 18,
    "execution_start": 1702171284609,
    "source_hash": null
   },
   "outputs": [
    {
     "data": {
      "text/plain": [
       "0.4955558261293072"
      ]
     },
     "execution_count": 96,
     "metadata": {},
     "output_type": "execute_result"
    }
   ],
   "source": [
    "len(df.loc[(df.isFraud==1) & (df.to_oldb==0)& (df.to_newb==0)& (df.amount!=0)])/len(df[df['isFraud']==1])"
   ]
  },
  {
   "cell_type": "code",
   "execution_count": null,
   "metadata": {
    "cell_id": "c21229f6ff10414f89eb97abe3ba8276",
    "deepnote_app_coordinates": {
     "h": 120,
     "w": 12,
     "x": 0,
     "y": 0
    },
    "deepnote_cell_type": "code",
    "deepnote_to_be_reexecuted": false,
    "execution_millis": 200,
    "execution_start": 1702171284632,
    "source_hash": null
   },
   "outputs": [
    {
     "data": {
      "text/plain": [
       "0.0006176245277308345"
      ]
     },
     "execution_count": 97,
     "metadata": {},
     "output_type": "execute_result"
    }
   ],
   "source": [
    "len(df.loc[(df.isFraud==0) & (df.to_oldb==0)& (df.to_newb==0)& (df.amount!=0)])/len(df[df['isFraud']==0])"
   ]
  },
  {
   "cell_type": "markdown",
   "metadata": {
    "cell_id": "c1b4d12149e54182a139cd27a6732e21",
    "deepnote_app_coordinates": {
     "h": 120,
     "w": 12,
     "x": 0,
     "y": 0
    },
    "deepnote_cell_type": "markdown"
   },
   "source": [
    "**The non fraud rate of the second situation has a low rate, we can tell that if to_b=0, it is more likely to be a fraud transcation, so we'd better change the number from 0 to -1 for the better usuage of the upcoming machine learning method.**"
   ]
  },
  {
   "cell_type": "code",
   "execution_count": null,
   "metadata": {
    "cell_id": "782158641182405ab8fe4d32cc927102",
    "deepnote_app_coordinates": {
     "h": 120,
     "w": 12,
     "x": 0,
     "y": 0
    },
    "deepnote_cell_type": "code",
    "deepnote_to_be_reexecuted": false,
    "execution_millis": 106,
    "execution_start": 1702171284834,
    "source_hash": null
   },
   "outputs": [],
   "source": [
    "df.loc[(df.to_oldb==0)& (df.to_newb==0)& (df.amount!=0),['to_oldb','to_newb']]=-1\n",
    "df.loc[(df.from_oldb==0)& (df.from_newb==0)& (df.amount!=0),['from_oldb','from_newb']]=np.nan"
   ]
  },
  {
   "cell_type": "markdown",
   "metadata": {
    "cell_id": "9daa6e6b35be469ba07ee3492a67da96",
    "deepnote_app_coordinates": {
     "h": 120,
     "w": 12,
     "x": 0,
     "y": 0
    },
    "deepnote_cell_type": "markdown"
   },
   "source": [
    "**To simplify the dataset, we won't discuss any rows containing nan because it may increase unecessary burden to the model fitting in the next part.**"
   ]
  },
  {
   "cell_type": "code",
   "execution_count": null,
   "metadata": {
    "cell_id": "6c2e12565c224dcebcc79d5027cb6109",
    "deepnote_app_coordinates": {
     "h": 120,
     "w": 12,
     "x": 0,
     "y": 0
    },
    "deepnote_cell_type": "code",
    "deepnote_to_be_reexecuted": false,
    "execution_millis": 181,
    "execution_start": 1702171285120,
    "source_hash": null
   },
   "outputs": [],
   "source": [
    "df=df.dropna()"
   ]
  },
  {
   "cell_type": "markdown",
   "metadata": {
    "cell_id": "f14b7c8c7d4d4ba0af6df804cfff628a",
    "deepnote_app_coordinates": {
     "h": 120,
     "w": 12,
     "x": 0,
     "y": 0
    },
    "deepnote_cell_type": "markdown"
   },
   "source": [
    "**From the above missing value disscussion we cen tell that to_b and from_b has close relationship with amount, so we should set these three into a new variable since they prove to be similar function, let alone they point out to decrease missing value influence after combining together.**"
   ]
  },
  {
   "cell_type": "code",
   "execution_count": null,
   "metadata": {
    "cell_id": "87b6650637e34175b1cffc8c490005b6",
    "deepnote_app_coordinates": {
     "h": 120,
     "w": 12,
     "x": 0,
     "y": 0
    },
    "deepnote_cell_type": "code",
    "deepnote_to_be_reexecuted": false,
    "execution_millis": 12,
    "execution_start": 1702171285346,
    "source_hash": null
   },
   "outputs": [],
   "source": [
    "df['errorto_b']=df.to_newb+df.amount-df.to_oldb\n",
    "df['errorfrom_b']=df.from_newb+df.amount-df.from_oldb"
   ]
  },
  {
   "cell_type": "code",
   "execution_count": null,
   "metadata": {
    "cell_id": "06c830f8d8b242e3b563326af4edb8be",
    "deepnote_app_coordinates": {
     "h": 120,
     "w": 12,
     "x": 0,
     "y": 0
    },
    "deepnote_cell_type": "code",
    "deepnote_to_be_reexecuted": false,
    "execution_millis": 13,
    "execution_start": 1702171285346,
    "source_hash": null
   },
   "outputs": [
    {
     "data": {
      "text/plain": [
       "Index(['type', 'amount', 'from_oldb', 'from_newb', 'to_oldb', 'to_newb',\n",
       "       'isFraud', 'errorto_b', 'errorfrom_b'],\n",
       "      dtype='object')"
      ]
     },
     "execution_count": 101,
     "metadata": {},
     "output_type": "execute_result"
    }
   ],
   "source": [
    "df.columns"
   ]
  },
  {
   "cell_type": "markdown",
   "metadata": {
    "cell_id": "f5ae94556ddf4368adf0b50c86873357",
    "deepnote_app_coordinates": {
     "h": 120,
     "w": 12,
     "x": 0,
     "y": 0
    },
    "deepnote_cell_type": "markdown"
   },
   "source": [
    "**Before modeling, let's evaluate again the feature importance.**"
   ]
  },
  {
   "cell_type": "code",
   "execution_count": null,
   "metadata": {
    "cell_id": "d90bea05b6dc44e28117fc8289d41ab2",
    "deepnote_app_coordinates": {
     "h": 120,
     "w": 12,
     "x": 0,
     "y": 0
    },
    "deepnote_cell_type": "code",
    "deepnote_to_be_reexecuted": false,
    "execution_millis": 16356,
    "execution_start": 1702171285415,
    "source_hash": null
   },
   "outputs": [
    {
     "name": "stdout",
     "output_type": "stream",
     "text": [
      "Feature: type, Importance: 0.0518\n",
      "Feature: amount, Importance: 0.0886\n",
      "Feature: from_oldb, Importance: 0.1726\n",
      "Feature: from_newb, Importance: 0.1666\n",
      "Feature: to_oldb, Importance: 0.1731\n",
      "Feature: to_newb, Importance: 0.2022\n",
      "Feature: errorto_b, Importance: 0.0673\n",
      "Feature: errorfrom_b, Importance: 0.0777\n"
     ]
    }
   ],
   "source": [
    "import pandas as pd\n",
    "import numpy as np\n",
    "from sklearn.ensemble import RandomForestClassifier\n",
    "\n",
    "df_test=df.copy()\n",
    "X = df_test.drop('isFraud', axis=1)  \n",
    "y = df_test['isFraud']  \n",
    "\n",
    "num_samples = 20\n",
    "\n",
    "feature_importance_scores = []\n",
    "\n",
    "for i in range(num_samples):\n",
    "    sample_indices = np.random.choice(len(X), size=5000, replace=False)\n",
    "    X_sample = X.iloc[sample_indices]\n",
    "    y_sample = y.iloc[sample_indices]\n",
    "    \n",
    "    rfc = RandomForestClassifier(n_estimators=100, random_state=42)\n",
    "    rfc.fit(X_sample, y_sample)\n",
    "    \n",
    "    feature_importance_scores.append(rfc.feature_importances_)\n",
    "\n",
    "average_feature_importance = np.mean(feature_importance_scores, axis=0)\n",
    "\n",
    "feature_importance_dict = dict(zip(X.columns, average_feature_importance))\n",
    "\n",
    "for feature, importance in feature_importance_dict.items():\n",
    "    print(f\"Feature: {feature}, Importance: {importance:.4f}\")\n"
   ]
  },
  {
   "cell_type": "markdown",
   "metadata": {
    "cell_id": "2ba7da74ca3e49d8806b0973b2b9be7c",
    "deepnote_app_coordinates": {
     "h": 120,
     "w": 12,
     "x": 0,
     "y": 0
    },
    "deepnote_cell_type": "markdown"
   },
   "source": [
    "**We can also use the pearson correlation to watch the relation of each two variables.**"
   ]
  },
  {
   "cell_type": "code",
   "execution_count": null,
   "metadata": {
    "cell_id": "4005df6977ac42028c6f53faf1d49cfd",
    "deepnote_app_coordinates": {
     "h": 120,
     "w": 12,
     "x": 0,
     "y": 0
    },
    "deepnote_cell_type": "code",
    "deepnote_to_be_reexecuted": false,
    "execution_millis": 1500,
    "execution_start": 1702174670012,
    "source_hash": null
   },
   "outputs": [
    {
     "data": {
      "image/png": "[encoded data removed]",
      "text/plain": [
       "<Figure size 800x600 with 2 Axes>"
      ]
     },
     "metadata": {
      "image/png": {
       "height": 621,
       "width": 657
      }
     },
     "output_type": "display_data"
    }
   ],
   "source": [
    "import matplotlib.pyplot as plt\n",
    "import seaborn as sns\n",
    "def correlation_heatmap(df):\n",
    "    _ , ax = plt.subplots(figsize =(8, 6))\n",
    "    colormap = sns.diverging_palette(110, 10, as_cmap = True)\n",
    "    \n",
    "    _ = sns.heatmap(\n",
    "        df.corr(), \n",
    "        cmap = colormap,\n",
    "        square=True, \n",
    "        cbar_kws={'shrink':.9 }, \n",
    "        ax=ax,\n",
    "        annot=True, \n",
    "        linewidths=0.1,vmax=1.0, linecolor='white',\n",
    "        annot_kws={'fontsize':12 }\n",
    "    )\n",
    "    \n",
    "    plt.title('Pearson Correlation of Features', y=1.05, size=15)\n",
    "\n",
    "correlation_heatmap(df)"
   ]
  },
  {
   "cell_type": "markdown",
   "metadata": {
    "cell_id": "371f1b84d1304ab2a74418e1000b8780",
    "deepnote_app_coordinates": {
     "h": 120,
     "w": 12,
     "x": 0,
     "y": 0
    },
    "deepnote_cell_type": "markdown"
   },
   "source": [
    "# 4.model building"
   ]
  },
  {
   "cell_type": "code",
   "execution_count": null,
   "metadata": {
    "cell_id": "8694f0f17c204ffab2a76c183df58ee9",
    "deepnote_app_coordinates": {
     "h": 120,
     "w": 12,
     "x": 0,
     "y": 0
    },
    "deepnote_cell_type": "code",
    "deepnote_to_be_reexecuted": false,
    "execution_millis": 177,
    "execution_start": 1702171301767,
    "source_hash": null
   },
   "outputs": [],
   "source": [
    "X=df.drop(['isFraud'],axis=1).copy()"
   ]
  },
  {
   "cell_type": "code",
   "execution_count": null,
   "metadata": {
    "cell_id": "3fa68e3ed1c349bf87f59ebcc5e995b6",
    "deepnote_app_coordinates": {
     "h": 120,
     "w": 12,
     "x": 0,
     "y": 0
    },
    "deepnote_cell_type": "code",
    "deepnote_to_be_reexecuted": false,
    "execution_millis": 24,
    "execution_start": 1702171302000,
    "source_hash": null
   },
   "outputs": [],
   "source": [
    "Y = df['isFraud']"
   ]
  },
  {
   "cell_type": "markdown",
   "metadata": {
    "cell_id": "fdaad31b2efa416fb66d1c92cf250fac",
    "deepnote_app_coordinates": {
     "h": 120,
     "w": 12,
     "x": 0,
     "y": 0
    },
    "deepnote_cell_type": "markdown"
   },
   "source": [
    "## Xgboost"
   ]
  },
  {
   "cell_type": "markdown",
   "metadata": {
    "cell_id": "0b65b64153ee458eb9d898c7dccb4413",
    "deepnote_app_coordinates": {
     "h": 120,
     "w": 12,
     "x": 0,
     "y": 0
    },
    "deepnote_cell_type": "markdown"
   },
   "source": [
    "**Xgboost is a machine learning tool to predict outcomes. Why I want to put it at the first place is that it can handle the missing values easily, and quicker than the random forest, and is often used in competition.**"
   ]
  },
  {
   "cell_type": "code",
   "execution_count": null,
   "metadata": {
    "cell_id": "1cb0a5091ad34c49ac40eafb08249187",
    "deepnote_app_coordinates": {
     "h": 120,
     "w": 12,
     "x": 0,
     "y": 0
    },
    "deepnote_cell_type": "code",
    "deepnote_to_be_reexecuted": false,
    "execution_millis": 22,
    "execution_start": 1702171302004,
    "source_hash": null
   },
   "outputs": [],
   "source": [
    "from sklearn.model_selection import train_test_split"
   ]
  },
  {
   "cell_type": "code",
   "execution_count": null,
   "metadata": {
    "cell_id": "6895059f13dd4ddaa25987efb03b8bd9",
    "deepnote_app_coordinates": {
     "h": 120,
     "w": 12,
     "x": 0,
     "y": 0
    },
    "deepnote_cell_type": "code",
    "deepnote_to_be_reexecuted": false,
    "execution_millis": 11,
    "execution_start": 1702171302016,
    "source_hash": null
   },
   "outputs": [],
   "source": [
    "import xgboost as xgb"
   ]
  },
  {
   "cell_type": "markdown",
   "metadata": {
    "cell_id": "bcfcc7d90df94917bc8bacb41baa7fb0",
    "deepnote_app_coordinates": {
     "h": 120,
     "w": 12,
     "x": 0,
     "y": 0
    },
    "deepnote_cell_type": "markdown"
   },
   "source": [
    "**For the best use of machine learning, I choose a range of learning rate to get the best prediction.**"
   ]
  },
  {
   "cell_type": "code",
   "execution_count": null,
   "metadata": {
    "cell_id": "46caf940b37943dfab873dc4f72fabec",
    "deepnote_app_coordinates": {
     "h": 120,
     "w": 12,
     "x": 0,
     "y": 0
    },
    "deepnote_cell_type": "code",
    "deepnote_to_be_reexecuted": false,
    "execution_millis": 117652,
    "execution_start": 1702172808560,
    "source_hash": null
   },
   "outputs": [
    {
     "data": {
      "application/vnd.deepnote.dataframe.v3+json": {
       "column_count": 3,
       "columns": [
        {
         "dtype": "float64",
         "name": "i",
         "stats": {
          "histogram": [
           {
            "bin_end": 0.054000000000000006,
            "bin_start": 0.05,
            "count": 1
           },
           {
            "bin_end": 0.058,
            "bin_start": 0.054000000000000006,
            "count": 0
           },
           {
            "bin_end": 0.062000000000000006,
            "bin_start": 0.058,
            "count": 1
           },
           {
            "bin_end": 0.066,
            "bin_start": 0.062000000000000006,
            "count": 0
           },
           {
            "bin_end": 0.07,
            "bin_start": 0.066,
            "count": 0
           },
           {
            "bin_end": 0.07400000000000001,
            "bin_start": 0.07,
            "count": 1
           },
           {
            "bin_end": 0.07800000000000001,
            "bin_start": 0.07400000000000001,
            "count": 0
           },
           {
            "bin_end": 0.08200000000000002,
            "bin_start": 0.07800000000000001,
            "count": 1
           },
           {
            "bin_end": 0.08600000000000002,
            "bin_start": 0.08200000000000002,
            "count": 0
           },
           {
            "bin_end": 0.09000000000000001,
            "bin_start": 0.08600000000000002,
            "count": 1
           }
          ],
          "max": "0.09000000000000001",
          "min": "0.05",
          "nan_count": 0,
          "unique_count": 5
         }
        },
        {
         "dtype": "float64",
         "name": "train_errors",
         "stats": {
          "histogram": [
           {
            "bin_end": 0.0005584561948363432,
            "bin_start": 0.0005558054304756199,
            "count": 1
           },
           {
            "bin_end": 0.0005611069591970663,
            "bin_start": 0.0005584561948363432,
            "count": 0
           },
           {
            "bin_end": 0.0005637577235577895,
            "bin_start": 0.0005611069591970663,
            "count": 0
           },
           {
            "bin_end": 0.0005664084879185127,
            "bin_start": 0.0005637577235577895,
            "count": 0
           },
           {
            "bin_end": 0.0005690592522792359,
            "bin_start": 0.0005664084879185127,
            "count": 0
           },
           {
            "bin_end": 0.0005717100166399592,
            "bin_start": 0.0005690592522792359,
            "count": 0
           },
           {
            "bin_end": 0.0005743607810006823,
            "bin_start": 0.0005717100166399592,
            "count": 1
           },
           {
            "bin_end": 0.0005770115453614056,
            "bin_start": 0.0005743607810006823,
            "count": 0
           },
           {
            "bin_end": 0.0005796623097221287,
            "bin_start": 0.0005770115453614056,
            "count": 1
           },
           {
            "bin_end": 0.0005823130740828519,
            "bin_start": 0.0005796623097221287,
            "count": 2
           }
          ],
          "max": "0.0005823130740828519",
          "min": "0.0005558054304756199",
          "nan_count": 0,
          "unique_count": 4
         }
        },
        {
         "dtype": "float64",
         "name": "test_errors",
         "stats": {
          "histogram": [
           {
            "bin_end": 0.0005277577308127945,
            "bin_start": 0.0005267316302344227,
            "count": 1
           },
           {
            "bin_end": 0.0005287838313911663,
            "bin_start": 0.0005277577308127945,
            "count": 0
           },
           {
            "bin_end": 0.0005298099319695382,
            "bin_start": 0.0005287838313911663,
            "count": 0
           },
           {
            "bin_end": 0.00053083603254791,
            "bin_start": 0.0005298099319695382,
            "count": 1
           },
           {
            "bin_end": 0.0005318621331262818,
            "bin_start": 0.00053083603254791,
            "count": 0
           },
           {
            "bin_end": 0.0005328882337046536,
            "bin_start": 0.0005318621331262818,
            "count": 0
           },
           {
            "bin_end": 0.0005339143342830254,
            "bin_start": 0.0005328882337046536,
            "count": 2
           },
           {
            "bin_end": 0.0005349404348613974,
            "bin_start": 0.0005339143342830254,
            "count": 0
           },
           {
            "bin_end": 0.0005359665354397692,
            "bin_start": 0.0005349404348613974,
            "count": 0
           },
           {
            "bin_end": 0.000536992636018141,
            "bin_start": 0.0005359665354397692,
            "count": 1
           }
          ],
          "max": "0.000536992636018141",
          "min": "0.0005267316302344227",
          "nan_count": 0,
          "unique_count": 4
         }
        },
        {
         "dtype": "int64",
         "name": "_deepnote_index_column"
        }
       ],
       "row_count": 5,
       "rows": [
        {
         "_deepnote_index_column": 0,
         "i": 0.05,
         "test_errors": 0.0005335723007569015,
         "train_errors": 0.0005823130740828519
        },
        {
         "_deepnote_index_column": 1,
         "i": 0.060000000000000005,
         "test_errors": 0.0005335723007569015,
         "train_errors": 0.0005823130740828519
        },
        {
         "_deepnote_index_column": 2,
         "i": 0.07,
         "test_errors": 0.0005301519654956621,
         "train_errors": 0.0005788927329722915
        },
        {
         "_deepnote_index_column": 3,
         "i": 0.08000000000000002,
         "test_errors": 0.000536992636018141,
         "train_errors": 0.0005720520507510596
        },
        {
         "_deepnote_index_column": 4,
         "i": 0.09000000000000001,
         "test_errors": 0.0005267316302344227,
         "train_errors": 0.0005558054304756199
        }
       ]
      },
      "text/html": [
       "<div>\n",
       "<style scoped>\n",
       "    .dataframe tbody tr th:only-of-type {\n",
       "        vertical-align: middle;\n",
       "    }\n",
       "\n",
       "    .dataframe tbody tr th {\n",
       "        vertical-align: top;\n",
       "    }\n",
       "\n",
       "    .dataframe thead th {\n",
       "        text-align: right;\n",
       "    }\n",
       "</style>\n",
       "<table border=\"1\" class=\"dataframe\">\n",
       "  <thead>\n",
       "    <tr style=\"text-align: right;\">\n",
       "      <th></th>\n",
       "      <th>i</th>\n",
       "      <th>train_errors</th>\n",
       "      <th>test_errors</th>\n",
       "    </tr>\n",
       "  </thead>\n",
       "  <tbody>\n",
       "    <tr>\n",
       "      <th>0</th>\n",
       "      <td>0.05</td>\n",
       "      <td>0.000582</td>\n",
       "      <td>0.000534</td>\n",
       "    </tr>\n",
       "    <tr>\n",
       "      <th>1</th>\n",
       "      <td>0.06</td>\n",
       "      <td>0.000582</td>\n",
       "      <td>0.000534</td>\n",
       "    </tr>\n",
       "    <tr>\n",
       "      <th>2</th>\n",
       "      <td>0.07</td>\n",
       "      <td>0.000579</td>\n",
       "      <td>0.000530</td>\n",
       "    </tr>\n",
       "    <tr>\n",
       "      <th>3</th>\n",
       "      <td>0.08</td>\n",
       "      <td>0.000572</td>\n",
       "      <td>0.000537</td>\n",
       "    </tr>\n",
       "    <tr>\n",
       "      <th>4</th>\n",
       "      <td>0.09</td>\n",
       "      <td>0.000556</td>\n",
       "      <td>0.000527</td>\n",
       "    </tr>\n",
       "  </tbody>\n",
       "</table>\n",
       "</div>"
      ],
      "text/plain": [
       "      i  train_errors  test_errors\n",
       "0  0.05      0.000582     0.000534\n",
       "1  0.06      0.000582     0.000534\n",
       "2  0.07      0.000579     0.000530\n",
       "3  0.08      0.000572     0.000537\n",
       "4  0.09      0.000556     0.000527"
      ]
     },
     "execution_count": 144,
     "metadata": {},
     "output_type": "execute_result"
    }
   ],
   "source": [
    "#X = pd.get_dummies(X)\n",
    "X_train_xgb,X_test_xgb,y_train_xgb,y_test_xgb=train_test_split(df[['amount', 'from_oldb', 'from_newb', 'to_oldb', 'to_newb', 'errorto_b', 'errorfrom_b']],Y,test_size = 0.2,random_state=42)\n",
    "answer=pd.DataFrame(columns=['i', 'train_errors', 'test_errors'])\n",
    "for i in np.arange(0.05, 0.15, 0.01):\n",
    "    xgbr = xgb.XGBClassifier(max_depth = 3, n_jobs = -1, random_state = 42, learning_rate = i)\n",
    "    xgbr.fit(X_train_xgb, y_train_xgb)\n",
    "    train_error_xgb = 1 - xgbr.score(X_train_xgb, y_train_xgb)\n",
    "    test_error_xgb = 1 - xgbr.score(X_test_xgb, y_test_xgb)\n",
    "    answer = answer.append({\n",
    "        'i': i,\n",
    "        'train_errors': train_error_xgb,\n",
    "        'test_errors': test_error_xgb\n",
    "    },ignore_index=True)\n",
    "\n",
    "answer.head(5)\n"
   ]
  },
  {
   "cell_type": "code",
   "execution_count": null,
   "metadata": {
    "cell_id": "20e65169a19242f19588902c3f596d72",
    "deepnote_app_coordinates": {
     "h": 120,
     "w": 12,
     "x": 0,
     "y": 0
    },
    "deepnote_cell_type": "code",
    "deepnote_to_be_reexecuted": false,
    "execution_millis": 22,
    "execution_start": 1702171416719,
    "source_hash": null
   },
   "outputs": [
    {
     "data": {
      "application/vnd.deepnote.dataframe.v3+json": {
       "column_count": 3,
       "columns": [
        {
         "dtype": "float64",
         "name": "i",
         "stats": {
          "histogram": [
           {
            "bin_end": 0.059000000000000004,
            "bin_start": 0.05,
            "count": 1
           },
           {
            "bin_end": 0.068,
            "bin_start": 0.059000000000000004,
            "count": 1
           },
           {
            "bin_end": 0.07700000000000001,
            "bin_start": 0.068,
            "count": 1
           },
           {
            "bin_end": 0.08600000000000001,
            "bin_start": 0.07700000000000001,
            "count": 1
           },
           {
            "bin_end": 0.095,
            "bin_start": 0.08600000000000001,
            "count": 1
           },
           {
            "bin_end": 0.10400000000000001,
            "bin_start": 0.095,
            "count": 1
           },
           {
            "bin_end": 0.113,
            "bin_start": 0.10400000000000001,
            "count": 1
           },
           {
            "bin_end": 0.12200000000000001,
            "bin_start": 0.113,
            "count": 1
           },
           {
            "bin_end": 0.131,
            "bin_start": 0.12200000000000001,
            "count": 1
           },
           {
            "bin_end": 0.14,
            "bin_start": 0.131,
            "count": 1
           }
          ],
          "max": "0.14",
          "min": "0.05",
          "nan_count": 0,
          "unique_count": 10
         }
        },
        {
         "dtype": "float64",
         "name": "train_errors",
         "stats": {
          "histogram": [
           {
            "bin_end": 0.0005261339713409474,
            "bin_start": 0.0005198918488140691,
            "count": 1
           },
           {
            "bin_end": 0.0005323760938678257,
            "bin_start": 0.0005261339713409474,
            "count": 0
           },
           {
            "bin_end": 0.000538618216394704,
            "bin_start": 0.0005323760938678257,
            "count": 1
           },
           {
            "bin_end": 0.0005448603389215823,
            "bin_start": 0.000538618216394704,
            "count": 1
           },
           {
            "bin_end": 0.0005511024614484605,
            "bin_start": 0.0005448603389215823,
            "count": 1
           },
           {
            "bin_end": 0.0005573445839753388,
            "bin_start": 0.0005511024614484605,
            "count": 2
           },
           {
            "bin_end": 0.0005635867065022171,
            "bin_start": 0.0005573445839753388,
            "count": 0
           },
           {
            "bin_end": 0.0005698288290290954,
            "bin_start": 0.0005635867065022171,
            "count": 0
           },
           {
            "bin_end": 0.0005760709515559737,
            "bin_start": 0.0005698288290290954,
            "count": 1
           },
           {
            "bin_end": 0.0005823130740828519,
            "bin_start": 0.0005760709515559737,
            "count": 3
           }
          ],
          "max": "0.0005823130740828519",
          "min": "0.0005198918488140691",
          "nan_count": 0,
          "unique_count": 9
         }
        },
        {
         "dtype": "float64",
         "name": "test_errors",
         "stats": {
          "histogram": [
           {
            "bin_end": 0.0005123662221371173,
            "bin_start": 0.0005096299539281146,
            "count": 3
           },
           {
            "bin_end": 0.0005151024903461199,
            "bin_start": 0.0005123662221371173,
            "count": 0
           },
           {
            "bin_end": 0.0005178387585551225,
            "bin_start": 0.0005151024903461199,
            "count": 1
           },
           {
            "bin_end": 0.0005205750267641251,
            "bin_start": 0.0005178387585551225,
            "count": 1
           },
           {
            "bin_end": 0.0005233112949731278,
            "bin_start": 0.0005205750267641251,
            "count": 0
           },
           {
            "bin_end": 0.0005260475631821305,
            "bin_start": 0.0005233112949731278,
            "count": 0
           },
           {
            "bin_end": 0.000528783831391133,
            "bin_start": 0.0005260475631821305,
            "count": 1
           },
           {
            "bin_end": 0.0005315200996001357,
            "bin_start": 0.000528783831391133,
            "count": 1
           },
           {
            "bin_end": 0.0005342563678091383,
            "bin_start": 0.0005315200996001357,
            "count": 2
           },
           {
            "bin_end": 0.000536992636018141,
            "bin_start": 0.0005342563678091383,
            "count": 1
           }
          ],
          "max": "0.000536992636018141",
          "min": "0.0005096299539281146",
          "nan_count": 0,
          "unique_count": 7
         }
        },
        {
         "dtype": "int64",
         "name": "_deepnote_index_column"
        }
       ],
       "row_count": 10,
       "rows": [
        {
         "_deepnote_index_column": 0,
         "i": 0.05,
         "test_errors": 0.0005335723007569015,
         "train_errors": 0.0005823130740828519
        },
        {
         "_deepnote_index_column": 1,
         "i": 0.060000000000000005,
         "test_errors": 0.0005335723007569015,
         "train_errors": 0.0005823130740828519
        },
        {
         "_deepnote_index_column": 2,
         "i": 0.07,
         "test_errors": 0.0005301519654956621,
         "train_errors": 0.0005788927329722915
        },
        {
         "_deepnote_index_column": 3,
         "i": 0.08000000000000002,
         "test_errors": 0.000536992636018141,
         "train_errors": 0.0005720520507510596
        },
        {
         "_deepnote_index_column": 4,
         "i": 0.09000000000000001,
         "test_errors": 0.0005267316302344227,
         "train_errors": 0.0005558054304756199
        },
        {
         "_deepnote_index_column": 5,
         "i": 0.1,
         "test_errors": 0.0005164706244505934,
         "train_errors": 0.0005532401746426441
        },
        {
         "_deepnote_index_column": 6,
         "i": 0.11000000000000001,
         "test_errors": 0.0005198909597118329,
         "train_errors": 0.0005455444071437165
        },
        {
         "_deepnote_index_column": 7,
         "i": 0.12000000000000001,
         "test_errors": 0.0005096299539281146,
         "train_errors": 0.0005352833838118132
        },
        {
         "_deepnote_index_column": 8,
         "i": 0.13,
         "test_errors": 0.0005096299539281146,
         "train_errors": 0.0005395588102001803
        },
        {
         "_deepnote_index_column": 9,
         "i": 0.14,
         "test_errors": 0.0005096299539281146,
         "train_errors": 0.0005198918488140691
        }
       ]
      },
      "text/html": [
       "<div>\n",
       "<style scoped>\n",
       "    .dataframe tbody tr th:only-of-type {\n",
       "        vertical-align: middle;\n",
       "    }\n",
       "\n",
       "    .dataframe tbody tr th {\n",
       "        vertical-align: top;\n",
       "    }\n",
       "\n",
       "    .dataframe thead th {\n",
       "        text-align: right;\n",
       "    }\n",
       "</style>\n",
       "<table border=\"1\" class=\"dataframe\">\n",
       "  <thead>\n",
       "    <tr style=\"text-align: right;\">\n",
       "      <th></th>\n",
       "      <th>i</th>\n",
       "      <th>train_errors</th>\n",
       "      <th>test_errors</th>\n",
       "    </tr>\n",
       "  </thead>\n",
       "  <tbody>\n",
       "    <tr>\n",
       "      <th>0</th>\n",
       "      <td>0.05</td>\n",
       "      <td>0.000582</td>\n",
       "      <td>0.000534</td>\n",
       "    </tr>\n",
       "    <tr>\n",
       "      <th>1</th>\n",
       "      <td>0.06</td>\n",
       "      <td>0.000582</td>\n",
       "      <td>0.000534</td>\n",
       "    </tr>\n",
       "    <tr>\n",
       "      <th>2</th>\n",
       "      <td>0.07</td>\n",
       "      <td>0.000579</td>\n",
       "      <td>0.000530</td>\n",
       "    </tr>\n",
       "    <tr>\n",
       "      <th>3</th>\n",
       "      <td>0.08</td>\n",
       "      <td>0.000572</td>\n",
       "      <td>0.000537</td>\n",
       "    </tr>\n",
       "    <tr>\n",
       "      <th>4</th>\n",
       "      <td>0.09</td>\n",
       "      <td>0.000556</td>\n",
       "      <td>0.000527</td>\n",
       "    </tr>\n",
       "    <tr>\n",
       "      <th>5</th>\n",
       "      <td>0.10</td>\n",
       "      <td>0.000553</td>\n",
       "      <td>0.000516</td>\n",
       "    </tr>\n",
       "    <tr>\n",
       "      <th>6</th>\n",
       "      <td>0.11</td>\n",
       "      <td>0.000546</td>\n",
       "      <td>0.000520</td>\n",
       "    </tr>\n",
       "    <tr>\n",
       "      <th>7</th>\n",
       "      <td>0.12</td>\n",
       "      <td>0.000535</td>\n",
       "      <td>0.000510</td>\n",
       "    </tr>\n",
       "    <tr>\n",
       "      <th>8</th>\n",
       "      <td>0.13</td>\n",
       "      <td>0.000540</td>\n",
       "      <td>0.000510</td>\n",
       "    </tr>\n",
       "    <tr>\n",
       "      <th>9</th>\n",
       "      <td>0.14</td>\n",
       "      <td>0.000520</td>\n",
       "      <td>0.000510</td>\n",
       "    </tr>\n",
       "  </tbody>\n",
       "</table>\n",
       "</div>"
      ],
      "text/plain": [
       "      i  train_errors  test_errors\n",
       "0  0.05      0.000582     0.000534\n",
       "1  0.06      0.000582     0.000534\n",
       "2  0.07      0.000579     0.000530\n",
       "3  0.08      0.000572     0.000537\n",
       "4  0.09      0.000556     0.000527\n",
       "5  0.10      0.000553     0.000516\n",
       "6  0.11      0.000546     0.000520\n",
       "7  0.12      0.000535     0.000510\n",
       "8  0.13      0.000540     0.000510\n",
       "9  0.14      0.000520     0.000510"
      ]
     },
     "execution_count": 108,
     "metadata": {},
     "output_type": "execute_result"
    }
   ],
   "source": [
    "answer"
   ]
  },
  {
   "cell_type": "code",
   "execution_count": null,
   "metadata": {
    "cell_id": "2e909cd28c83419a845979458ffa2db7",
    "deepnote_app_coordinates": {
     "h": 120,
     "w": 12,
     "x": 0,
     "y": 0
    },
    "deepnote_cell_type": "code",
    "deepnote_to_be_reexecuted": false,
    "execution_millis": 45,
    "execution_start": 1702171416764,
    "source_hash": null
   },
   "outputs": [
    {
     "data": {
      "text/html": [
       "\n",
       "<div id=\"altair-viz-fc0beda1f9314be09ddb8601e78b5788\"></div>\n",
       "<script type=\"text/javascript\">\n",
       "  var VEGA_DEBUG = (typeof VEGA_DEBUG == \"undefined\") ? {} : VEGA_DEBUG;\n",
       "  (function(spec, embedOpt){\n",
       "    let outputDiv = document.currentScript.previousElementSibling;\n",
       "    if (outputDiv.id !== \"altair-viz-fc0beda1f9314be09ddb8601e78b5788\") {\n",
       "      outputDiv = document.getElementById(\"altair-viz-fc0beda1f9314be09ddb8601e78b5788\");\n",
       "    }\n",
       "    const paths = {\n",
       "      \"vega\": \"https://cdn.jsdelivr.net/npm//vega@5?noext\",\n",
       "      \"vega-lib\": \"https://cdn.jsdelivr.net/npm//vega-lib?noext\",\n",
       "      \"vega-lite\": \"https://cdn.jsdelivr.net/npm//vega-lite@4.17.0?noext\",\n",
       "      \"vega-embed\": \"https://cdn.jsdelivr.net/npm//vega-embed@6?noext\",\n",
       "    };\n",
       "\n",
       "    function maybeLoadScript(lib, version) {\n",
       "      var key = `${lib.replace(\"-\", \"\")}_version`;\n",
       "      return (VEGA_DEBUG[key] == version) ?\n",
       "        Promise.resolve(paths[lib]) :\n",
       "        new Promise(function(resolve, reject) {\n",
       "          var s = document.createElement('script');\n",
       "          document.getElementsByTagName(\"head\")[0].appendChild(s);\n",
       "          s.async = true;\n",
       "          s.onload = () => {\n",
       "            VEGA_DEBUG[key] = version;\n",
       "            return resolve(paths[lib]);\n",
       "          };\n",
       "          s.onerror = () => reject(`Error loading script: ${paths[lib]}`);\n",
       "          s.src = paths[lib];\n",
       "        });\n",
       "    }\n",
       "\n",
       "    function showError(err) {\n",
       "      outputDiv.innerHTML = `<div class=\"error\" style=\"color:red;\">${err}</div>`;\n",
       "      throw err;\n",
       "    }\n",
       "\n",
       "    function displayChart(vegaEmbed) {\n",
       "      vegaEmbed(outputDiv, spec, embedOpt)\n",
       "        .catch(err => showError(`Javascript Error: ${err.message}<br>This usually means there's a typo in your chart specification. See the javascript console for the full traceback.`));\n",
       "    }\n",
       "\n",
       "    if(typeof define === \"function\" && define.amd) {\n",
       "      requirejs.config({paths});\n",
       "      require([\"vega-embed\"], displayChart, err => showError(`Error loading script: ${err.message}`));\n",
       "    } else {\n",
       "      maybeLoadScript(\"vega\", \"5\")\n",
       "        .then(() => maybeLoadScript(\"vega-lite\", \"4.17.0\"))\n",
       "        .then(() => maybeLoadScript(\"vega-embed\", \"6\"))\n",
       "        .catch(showError)\n",
       "        .then(() => displayChart(vegaEmbed));\n",
       "    }\n",
       "  })({\"config\": {\"view\": {\"continuousWidth\": 400, \"continuousHeight\": 300}}, \"layer\": [{\"mark\": {\"type\": \"line\", \"color\": \"black\"}, \"encoding\": {\"x\": {\"field\": \"i\", \"type\": \"quantitative\"}, \"y\": {\"field\": \"train_errors\", \"scale\": {\"domain\": [0.0005, 0.0005823130740828519]}, \"type\": \"quantitative\"}}}, {\"mark\": {\"type\": \"line\", \"color\": \"red\"}, \"encoding\": {\"tooltip\": {\"field\": \"i\", \"type\": \"quantitative\"}, \"x\": {\"field\": \"i\", \"type\": \"quantitative\"}, \"y\": {\"field\": \"test_errors\", \"scale\": {\"domain\": [0.0005, 0.000536992636018141]}, \"type\": \"quantitative\"}}, \"title\": \"Train Error and Test Error Depending on Learning Rate\"}], \"data\": {\"name\": \"data-05b2e2bfeb9829f1955b5adba17a86c7\"}, \"$schema\": \"https://vega.github.io/schema/vega-lite/v4.17.0.json\", \"datasets\": {\"data-05b2e2bfeb9829f1955b5adba17a86c7\": [{\"i\": 0.05, \"train_errors\": 0.0005823130740828519, \"test_errors\": 0.0005335723007569015}, {\"i\": 0.060000000000000005, \"train_errors\": 0.0005823130740828519, \"test_errors\": 0.0005335723007569015}, {\"i\": 0.07, \"train_errors\": 0.0005788927329722915, \"test_errors\": 0.0005301519654956621}, {\"i\": 0.08000000000000002, \"train_errors\": 0.0005720520507510596, \"test_errors\": 0.000536992636018141}, {\"i\": 0.09000000000000001, \"train_errors\": 0.0005558054304756199, \"test_errors\": 0.0005267316302344227}, {\"i\": 0.1, \"train_errors\": 0.0005532401746426441, \"test_errors\": 0.0005164706244505934}, {\"i\": 0.11000000000000001, \"train_errors\": 0.0005455444071437165, \"test_errors\": 0.0005198909597118329}, {\"i\": 0.12000000000000001, \"train_errors\": 0.0005352833838118132, \"test_errors\": 0.0005096299539281146}, {\"i\": 0.13, \"train_errors\": 0.0005395588102001803, \"test_errors\": 0.0005096299539281146}, {\"i\": 0.14, \"train_errors\": 0.0005198918488140691, \"test_errors\": 0.0005096299539281146}]}}, {\"mode\": \"vega-lite\"});\n",
       "</script>"
      ],
      "text/plain": [
       "alt.LayerChart(...)"
      ]
     },
     "execution_count": 109,
     "metadata": {},
     "output_type": "execute_result"
    }
   ],
   "source": [
    "import altair as alt\n",
    "\n",
    "c1 = alt.Chart(answer).mark_line(color='black').encode(\n",
    "    x='i',\n",
    "    y=alt.Y('train_errors', scale=alt.Scale(domain=[0.0005, max(answer['train_errors'])]))\n",
    ")\n",
    "\n",
    "\n",
    "c2 = alt.Chart(answer).mark_line(color='red').encode(\n",
    "    x='i',\n",
    "    y=alt.Y('test_errors', scale=alt.Scale(domain=[0.0005, max(answer['test_errors'])])),\n",
    "    tooltip='i'\n",
    ").properties(\n",
    "    title='Train Error and Test Error Depending on Learning Rate'\n",
    ")\n",
    "\n",
    "\n",
    "final_chart = c1 + c2\n",
    "final_chart\n",
    "\n"
   ]
  },
  {
   "cell_type": "markdown",
   "metadata": {
    "cell_id": "a2d63e56d6c84120bf6c39cd491215b8",
    "deepnote_app_coordinates": {
     "h": 120,
     "w": 12,
     "x": 0,
     "y": 0
    },
    "deepnote_cell_type": "markdown"
   },
   "source": [
    "**I will use i=0.1 as the learning rate since it's the lowest rate except the end.**"
   ]
  },
  {
   "cell_type": "code",
   "execution_count": null,
   "metadata": {
    "cell_id": "a33733cacef24f9186454f9900fced42",
    "deepnote_app_coordinates": {
     "h": 120,
     "w": 12,
     "x": 0,
     "y": 0
    },
    "deepnote_cell_type": "code",
    "deepnote_to_be_reexecuted": false,
    "execution_millis": 8417,
    "execution_start": 1702171416809,
    "source_hash": null
   },
   "outputs": [
    {
     "data": {
      "text/html": [
       "<style>#sk-container-id-2 {color: black;background-color: white;}#sk-container-id-2 pre{padding: 0;}#sk-container-id-2 div.sk-toggleable {background-color: white;}#sk-container-id-2 label.sk-toggleable__label {cursor: pointer;display: block;width: 100%;margin-bottom: 0;padding: 0.3em;box-sizing: border-box;text-align: center;}#sk-container-id-2 label.sk-toggleable__label-arrow:before {content: \"▸\";float: left;margin-right: 0.25em;color: #696969;}#sk-container-id-2 label.sk-toggleable__label-arrow:hover:before {color: black;}#sk-container-id-2 div.sk-estimator:hover label.sk-toggleable__label-arrow:before {color: black;}#sk-container-id-2 div.sk-toggleable__content {max-height: 0;max-width: 0;overflow: hidden;text-align: left;background-color: #f0f8ff;}#sk-container-id-2 div.sk-toggleable__content pre {margin: 0.2em;color: black;border-radius: 0.25em;background-color: #f0f8ff;}#sk-container-id-2 input.sk-toggleable__control:checked~div.sk-toggleable__content {max-height: 200px;max-width: 100%;overflow: auto;}#sk-container-id-2 input.sk-toggleable__control:checked~label.sk-toggleable__label-arrow:before {content: \"▾\";}#sk-container-id-2 div.sk-estimator input.sk-toggleable__control:checked~label.sk-toggleable__label {background-color: #d4ebff;}#sk-container-id-2 div.sk-label input.sk-toggleable__control:checked~label.sk-toggleable__label {background-color: #d4ebff;}#sk-container-id-2 input.sk-hidden--visually {border: 0;clip: rect(1px 1px 1px 1px);clip: rect(1px, 1px, 1px, 1px);height: 1px;margin: -1px;overflow: hidden;padding: 0;position: absolute;width: 1px;}#sk-container-id-2 div.sk-estimator {font-family: monospace;background-color: #f0f8ff;border: 1px dotted black;border-radius: 0.25em;box-sizing: border-box;margin-bottom: 0.5em;}#sk-container-id-2 div.sk-estimator:hover {background-color: #d4ebff;}#sk-container-id-2 div.sk-parallel-item::after {content: \"\";width: 100%;border-bottom: 1px solid gray;flex-grow: 1;}#sk-container-id-2 div.sk-label:hover label.sk-toggleable__label {background-color: #d4ebff;}#sk-container-id-2 div.sk-serial::before {content: \"\";position: absolute;border-left: 1px solid gray;box-sizing: border-box;top: 0;bottom: 0;left: 50%;z-index: 0;}#sk-container-id-2 div.sk-serial {display: flex;flex-direction: column;align-items: center;background-color: white;padding-right: 0.2em;padding-left: 0.2em;position: relative;}#sk-container-id-2 div.sk-item {position: relative;z-index: 1;}#sk-container-id-2 div.sk-parallel {display: flex;align-items: stretch;justify-content: center;background-color: white;position: relative;}#sk-container-id-2 div.sk-item::before, #sk-container-id-2 div.sk-parallel-item::before {content: \"\";position: absolute;border-left: 1px solid gray;box-sizing: border-box;top: 0;bottom: 0;left: 50%;z-index: -1;}#sk-container-id-2 div.sk-parallel-item {display: flex;flex-direction: column;z-index: 1;position: relative;background-color: white;}#sk-container-id-2 div.sk-parallel-item:first-child::after {align-self: flex-end;width: 50%;}#sk-container-id-2 div.sk-parallel-item:last-child::after {align-self: flex-start;width: 50%;}#sk-container-id-2 div.sk-parallel-item:only-child::after {width: 0;}#sk-container-id-2 div.sk-dashed-wrapped {border: 1px dashed gray;margin: 0 0.4em 0.5em 0.4em;box-sizing: border-box;padding-bottom: 0.4em;background-color: white;}#sk-container-id-2 div.sk-label label {font-family: monospace;font-weight: bold;display: inline-block;line-height: 1.2em;}#sk-container-id-2 div.sk-label-container {text-align: center;}#sk-container-id-2 div.sk-container {/* jupyter's `normalize.less` sets `[hidden] { display: none; }` but bootstrap.min.css set `[hidden] { display: none !important; }` so we also need the `!important` here to be able to override the default hidden behavior on the sphinx rendered scikit-learn.org. See: https://github.com/scikit-learn/scikit-learn/issues/21755 */display: inline-block !important;position: relative;}#sk-container-id-2 div.sk-text-repr-fallback {display: none;}</style><div id=\"sk-container-id-2\" class=\"sk-top-container\"><div class=\"sk-text-repr-fallback\"><pre>XGBClassifier(base_score=None, booster=None, callbacks=None,\n",
       "              colsample_bylevel=None, colsample_bynode=None,\n",
       "              colsample_bytree=None, device=None, early_stopping_rounds=None,\n",
       "              enable_categorical=False, eval_metric=None, feature_types=None,\n",
       "              gamma=None, grow_policy=None, importance_type=None,\n",
       "              interaction_constraints=None, learning_rate=0.1, max_bin=None,\n",
       "              max_cat_threshold=None, max_cat_to_onehot=None,\n",
       "              max_delta_step=None, max_depth=3, max_leaves=None,\n",
       "              min_child_weight=None, missing=nan, monotone_constraints=None,\n",
       "              multi_strategy=None, n_estimators=None, n_jobs=-1,\n",
       "              num_parallel_tree=None, random_state=42, ...)</pre><b>In a Jupyter environment, please rerun this cell to show the HTML representation or trust the notebook. <br />On GitHub, the HTML representation is unable to render, please try loading this page with nbviewer.org.</b></div><div class=\"sk-container\" hidden><div class=\"sk-item\"><div class=\"sk-estimator sk-toggleable\"><input class=\"sk-toggleable__control sk-hidden--visually\" id=\"sk-estimator-id-2\" type=\"checkbox\" checked><label for=\"sk-estimator-id-2\" class=\"sk-toggleable__label sk-toggleable__label-arrow\">XGBClassifier</label><div class=\"sk-toggleable__content\"><pre>XGBClassifier(base_score=None, booster=None, callbacks=None,\n",
       "              colsample_bylevel=None, colsample_bynode=None,\n",
       "              colsample_bytree=None, device=None, early_stopping_rounds=None,\n",
       "              enable_categorical=False, eval_metric=None, feature_types=None,\n",
       "              gamma=None, grow_policy=None, importance_type=None,\n",
       "              interaction_constraints=None, learning_rate=0.1, max_bin=None,\n",
       "              max_cat_threshold=None, max_cat_to_onehot=None,\n",
       "              max_delta_step=None, max_depth=3, max_leaves=None,\n",
       "              min_child_weight=None, missing=nan, monotone_constraints=None,\n",
       "              multi_strategy=None, n_estimators=None, n_jobs=-1,\n",
       "              num_parallel_tree=None, random_state=42, ...)</pre></div></div></div></div></div>"
      ],
      "text/plain": [
       "XGBClassifier(base_score=None, booster=None, callbacks=None,\n",
       "              colsample_bylevel=None, colsample_bynode=None,\n",
       "              colsample_bytree=None, device=None, early_stopping_rounds=None,\n",
       "              enable_categorical=False, eval_metric=None, feature_types=None,\n",
       "              gamma=None, grow_policy=None, importance_type=None,\n",
       "              interaction_constraints=None, learning_rate=0.1, max_bin=None,\n",
       "              max_cat_threshold=None, max_cat_to_onehot=None,\n",
       "              max_delta_step=None, max_depth=3, max_leaves=None,\n",
       "              min_child_weight=None, missing=nan, monotone_constraints=None,\n",
       "              multi_strategy=None, n_estimators=None, n_jobs=-1,\n",
       "              num_parallel_tree=None, random_state=42, ...)"
      ]
     },
     "execution_count": 110,
     "metadata": {},
     "output_type": "execute_result"
    }
   ],
   "source": [
    "xgbr = xgb.XGBClassifier(max_depth = 3, n_jobs = -1, random_state = 42, learning_rate = 0.1)\n",
    "xgbr.fit(X_train_xgb, y_train_xgb)"
   ]
  },
  {
   "cell_type": "code",
   "execution_count": null,
   "metadata": {
    "cell_id": "1166420aa61b469a98767f38808e5e74",
    "deepnote_app_coordinates": {
     "h": 120,
     "w": 12,
     "x": 0,
     "y": 0
    },
    "deepnote_cell_type": "code",
    "deepnote_to_be_reexecuted": false,
    "execution_millis": 327,
    "execution_start": 1702171425298,
    "source_hash": null
   },
   "outputs": [],
   "source": [
    "df_xgbr=pd.DataFrame(columns=[\"isFraud\",\"pred\"])\n",
    "df_xgbr[\"isFraud\"]=y_test_xgb\n",
    "df_xgbr[\"pred\"]=xgbr.predict(X_test_xgb)"
   ]
  },
  {
   "cell_type": "code",
   "execution_count": null,
   "metadata": {
    "cell_id": "b7ee99c018cb4c03b0faa16545cc2a1e",
    "deepnote_app_coordinates": {
     "h": 120,
     "w": 12,
     "x": 0,
     "y": 0
    },
    "deepnote_cell_type": "code",
    "deepnote_to_be_reexecuted": false,
    "execution_millis": 900,
    "execution_start": 1702172751832,
    "source_hash": null
   },
   "outputs": [
    {
     "data": {
      "text/plain": [
       "0.9994835293755494"
      ]
     },
     "execution_count": 142,
     "metadata": {},
     "output_type": "execute_result"
    }
   ],
   "source": [
    "df_xgbr = pd.DataFrame({\n",
    "    \"isFraud\": df_xgbr[\"isFraud\"],\n",
    "    \"pred\": df_xgbr[\"pred\"]\n",
    "})\n",
    "y_pred_xgbr = xgbr.predict(X_test_xgb)\n",
    "y_pred_proba_xgbr = xgbr.predict_proba(X_test_xgb)[:, 1]\n",
    "error_xgbr=(df_xgbr[\"isFraud\"]==df_xgbr[\"pred\"]).sum()/df_xgbr.shape[0]\n",
    "error_xgbr"
   ]
  },
  {
   "cell_type": "markdown",
   "metadata": {
    "cell_id": "e8fa370e433546f9a6244d034c143a1c",
    "deepnote_app_coordinates": {
     "h": 120,
     "w": 12,
     "x": 0,
     "y": 0
    },
    "deepnote_cell_type": "markdown"
   },
   "source": [
    "**Use confusion matrix to see the prediction failure.**"
   ]
  },
  {
   "cell_type": "code",
   "execution_count": null,
   "metadata": {
    "cell_id": "8413cf873b32472682f7579d775d5864",
    "deepnote_app_coordinates": {
     "h": 120,
     "w": 12,
     "x": 0,
     "y": 0
    },
    "deepnote_cell_type": "code",
    "deepnote_to_be_reexecuted": false,
    "execution_millis": 39,
    "execution_start": 1702172971510,
    "source_hash": null
   },
   "outputs": [
    {
     "data": {
      "text/html": [
       "\n",
       "<div id=\"altair-viz-846ecc535bed4cc8b5dd5b83cceedcbb\"></div>\n",
       "<script type=\"text/javascript\">\n",
       "  var VEGA_DEBUG = (typeof VEGA_DEBUG == \"undefined\") ? {} : VEGA_DEBUG;\n",
       "  (function(spec, embedOpt){\n",
       "    let outputDiv = document.currentScript.previousElementSibling;\n",
       "    if (outputDiv.id !== \"altair-viz-846ecc535bed4cc8b5dd5b83cceedcbb\") {\n",
       "      outputDiv = document.getElementById(\"altair-viz-846ecc535bed4cc8b5dd5b83cceedcbb\");\n",
       "    }\n",
       "    const paths = {\n",
       "      \"vega\": \"https://cdn.jsdelivr.net/npm//vega@5?noext\",\n",
       "      \"vega-lib\": \"https://cdn.jsdelivr.net/npm//vega-lib?noext\",\n",
       "      \"vega-lite\": \"https://cdn.jsdelivr.net/npm//vega-lite@4.17.0?noext\",\n",
       "      \"vega-embed\": \"https://cdn.jsdelivr.net/npm//vega-embed@6?noext\",\n",
       "    };\n",
       "\n",
       "    function maybeLoadScript(lib, version) {\n",
       "      var key = `${lib.replace(\"-\", \"\")}_version`;\n",
       "      return (VEGA_DEBUG[key] == version) ?\n",
       "        Promise.resolve(paths[lib]) :\n",
       "        new Promise(function(resolve, reject) {\n",
       "          var s = document.createElement('script');\n",
       "          document.getElementsByTagName(\"head\")[0].appendChild(s);\n",
       "          s.async = true;\n",
       "          s.onload = () => {\n",
       "            VEGA_DEBUG[key] = version;\n",
       "            return resolve(paths[lib]);\n",
       "          };\n",
       "          s.onerror = () => reject(`Error loading script: ${paths[lib]}`);\n",
       "          s.src = paths[lib];\n",
       "        });\n",
       "    }\n",
       "\n",
       "    function showError(err) {\n",
       "      outputDiv.innerHTML = `<div class=\"error\" style=\"color:red;\">${err}</div>`;\n",
       "      throw err;\n",
       "    }\n",
       "\n",
       "    function displayChart(vegaEmbed) {\n",
       "      vegaEmbed(outputDiv, spec, embedOpt)\n",
       "        .catch(err => showError(`Javascript Error: ${err.message}<br>This usually means there's a typo in your chart specification. See the javascript console for the full traceback.`));\n",
       "    }\n",
       "\n",
       "    if(typeof define === \"function\" && define.amd) {\n",
       "      requirejs.config({paths});\n",
       "      require([\"vega-embed\"], displayChart, err => showError(`Error loading script: ${err.message}`));\n",
       "    } else {\n",
       "      maybeLoadScript(\"vega\", \"5\")\n",
       "        .then(() => maybeLoadScript(\"vega-lite\", \"4.17.0\"))\n",
       "        .then(() => maybeLoadScript(\"vega-embed\", \"6\"))\n",
       "        .catch(showError)\n",
       "        .then(() => displayChart(vegaEmbed));\n",
       "    }\n",
       "  })({\"config\": {\"view\": {\"continuousWidth\": 400, \"continuousHeight\": 300}}, \"data\": {\"name\": \"data-b7f45b68e4d4d672a81c2eabf5c2b655\"}, \"mark\": {\"type\": \"text\", \"size\": 20}, \"encoding\": {\"color\": {\"field\": \"value\", \"type\": \"quantitative\"}, \"text\": {\"field\": \"value\", \"type\": \"quantitative\"}, \"x\": {\"field\": \"variable\", \"type\": \"nominal\"}, \"y\": {\"field\": \"index\", \"type\": \"nominal\"}}, \"height\": 300, \"title\": \"Confusion Matrix\", \"width\": 300, \"$schema\": \"https://vega.github.io/schema/vega-lite/v4.17.0.json\", \"datasets\": {\"data-b7f45b68e4d4d672a81c2eabf5c2b655\": [{\"index\": \"0\", \"variable\": \"0\", \"value\": 290679}, {\"index\": \"1\", \"variable\": \"0\", \"value\": 66}, {\"index\": \"0\", \"variable\": \"1\", \"value\": 85}, {\"index\": \"1\", \"variable\": \"1\", \"value\": 1539}]}}, {\"mode\": \"vega-lite\"});\n",
       "</script>"
      ],
      "text/plain": [
       "alt.Chart(...)"
      ]
     },
     "metadata": {},
     "output_type": "display_data"
    }
   ],
   "source": [
    "import pandas as pd\n",
    "import altair as alt\n",
    "from sklearn.metrics import confusion_matrix\n",
    "\n",
    "\n",
    "cm = confusion_matrix(y_test_xgb, y_pred_xgbr)\n",
    "\n",
    "\n",
    "df_cm = pd.DataFrame(cm, index=[\"0\", \"1\"], columns=[\"0\", \"1\"])\n",
    "\n",
    "df_cm_long = df_cm.reset_index().melt(id_vars='index')\n",
    "\n",
    "chart = alt.Chart(df_cm_long).mark_text(size=20).encode(\n",
    "    x='variable:N',\n",
    "    y='index:N',\n",
    "    color='value:Q',\n",
    "    text='value:Q'\n",
    ").properties(\n",
    "    width=300,\n",
    "    height=300,\n",
    "    title='Confusion Matrix'\n",
    ")\n",
    "\n",
    "chart.display()"
   ]
  },
  {
   "cell_type": "markdown",
   "metadata": {
    "cell_id": "06a35c9b573a4684adaaaad99eef7de2",
    "deepnote_app_coordinates": {
     "h": 120,
     "w": 12,
     "x": 0,
     "y": 0
    },
    "deepnote_cell_type": "markdown"
   },
   "source": [
    "## Logistic Regression"
   ]
  },
  {
   "cell_type": "code",
   "execution_count": null,
   "metadata": {
    "cell_id": "b87216988760456fae3ef99a6111a16e",
    "deepnote_app_coordinates": {
     "h": 120,
     "w": 12,
     "x": 0,
     "y": 0
    },
    "deepnote_cell_type": "code",
    "deepnote_to_be_reexecuted": false,
    "execution_millis": 14,
    "execution_start": 1702171426317,
    "source_hash": null
   },
   "outputs": [],
   "source": [
    "from sklearn.linear_model import LogisticRegression"
   ]
  },
  {
   "cell_type": "markdown",
   "metadata": {
    "cell_id": "3b27f656aa184979a695c69c91c1ff3e",
    "deepnote_app_coordinates": {
     "h": 120,
     "w": 12,
     "x": 0,
     "y": 0
    },
    "deepnote_cell_type": "markdown"
   },
   "source": [
    "**Logistic Regression has no need to test the parameters, just use it to classify, so it may be has the worst prediction, we can later use methods to find out.**"
   ]
  },
  {
   "cell_type": "code",
   "execution_count": null,
   "metadata": {
    "cell_id": "823a933075de45af8fda65434efb32b0",
    "deepnote_app_coordinates": {
     "h": 120,
     "w": 12,
     "x": 0,
     "y": 0
    },
    "deepnote_cell_type": "code",
    "deepnote_to_be_reexecuted": false,
    "execution_millis": 11689,
    "execution_start": 1702171426322,
    "source_hash": null
   },
   "outputs": [
    {
     "data": {
      "text/plain": [
       "0.995488577790395"
      ]
     },
     "execution_count": 115,
     "metadata": {},
     "output_type": "execute_result"
    }
   ],
   "source": [
    "X_train_log,X_test_log,y_train_log,y_test_log=train_test_split(df[['amount', 'from_oldb', 'from_newb', 'to_oldb', 'to_newb', 'errorto_b', 'errorfrom_b']],Y,test_size = 0.2,random_state=42)\n",
    "log = LogisticRegression(random_state = 42)\n",
    "log.fit(X_train_log, y_train_log)\n",
    "df_log=pd.DataFrame(columns=[\"isFraud\",\"pred\"])\n",
    "df_log[\"isFraud\"]=y_test_log\n",
    "df_log[\"pred\"]=log.predict(X_test_log)\n",
    "df_log = pd.DataFrame({\n",
    "    \"isFraud\": df_log[\"isFraud\"],\n",
    "    \"pred\": df_log[\"pred\"]\n",
    "})\n",
    "y_pred_log = log.predict(X_test_log)\n",
    "y_pred_proba_log = log.predict_proba(X_test_log)[:, 1]\n",
    "error_log=(df_log[\"isFraud\"]==df_log[\"pred\"]).sum()/df_log.shape[0]\n",
    "error_log"
   ]
  },
  {
   "cell_type": "code",
   "execution_count": null,
   "metadata": {
    "cell_id": "5a1ad0713ea041d99af0e2aecf130510",
    "deepnote_app_coordinates": {
     "h": 120,
     "w": 12,
     "x": 0,
     "y": 0
    },
    "deepnote_cell_type": "code",
    "deepnote_to_be_reexecuted": false,
    "execution_millis": 59,
    "execution_start": 1702173017562,
    "source_hash": null
   },
   "outputs": [
    {
     "data": {
      "text/html": [
       "\n",
       "<div id=\"altair-viz-8f1aa94a6c0f48e99172f0fcc1837fbb\"></div>\n",
       "<script type=\"text/javascript\">\n",
       "  var VEGA_DEBUG = (typeof VEGA_DEBUG == \"undefined\") ? {} : VEGA_DEBUG;\n",
       "  (function(spec, embedOpt){\n",
       "    let outputDiv = document.currentScript.previousElementSibling;\n",
       "    if (outputDiv.id !== \"altair-viz-8f1aa94a6c0f48e99172f0fcc1837fbb\") {\n",
       "      outputDiv = document.getElementById(\"altair-viz-8f1aa94a6c0f48e99172f0fcc1837fbb\");\n",
       "    }\n",
       "    const paths = {\n",
       "      \"vega\": \"https://cdn.jsdelivr.net/npm//vega@5?noext\",\n",
       "      \"vega-lib\": \"https://cdn.jsdelivr.net/npm//vega-lib?noext\",\n",
       "      \"vega-lite\": \"https://cdn.jsdelivr.net/npm//vega-lite@4.17.0?noext\",\n",
       "      \"vega-embed\": \"https://cdn.jsdelivr.net/npm//vega-embed@6?noext\",\n",
       "    };\n",
       "\n",
       "    function maybeLoadScript(lib, version) {\n",
       "      var key = `${lib.replace(\"-\", \"\")}_version`;\n",
       "      return (VEGA_DEBUG[key] == version) ?\n",
       "        Promise.resolve(paths[lib]) :\n",
       "        new Promise(function(resolve, reject) {\n",
       "          var s = document.createElement('script');\n",
       "          document.getElementsByTagName(\"head\")[0].appendChild(s);\n",
       "          s.async = true;\n",
       "          s.onload = () => {\n",
       "            VEGA_DEBUG[key] = version;\n",
       "            return resolve(paths[lib]);\n",
       "          };\n",
       "          s.onerror = () => reject(`Error loading script: ${paths[lib]}`);\n",
       "          s.src = paths[lib];\n",
       "        });\n",
       "    }\n",
       "\n",
       "    function showError(err) {\n",
       "      outputDiv.innerHTML = `<div class=\"error\" style=\"color:red;\">${err}</div>`;\n",
       "      throw err;\n",
       "    }\n",
       "\n",
       "    function displayChart(vegaEmbed) {\n",
       "      vegaEmbed(outputDiv, spec, embedOpt)\n",
       "        .catch(err => showError(`Javascript Error: ${err.message}<br>This usually means there's a typo in your chart specification. See the javascript console for the full traceback.`));\n",
       "    }\n",
       "\n",
       "    if(typeof define === \"function\" && define.amd) {\n",
       "      requirejs.config({paths});\n",
       "      require([\"vega-embed\"], displayChart, err => showError(`Error loading script: ${err.message}`));\n",
       "    } else {\n",
       "      maybeLoadScript(\"vega\", \"5\")\n",
       "        .then(() => maybeLoadScript(\"vega-lite\", \"4.17.0\"))\n",
       "        .then(() => maybeLoadScript(\"vega-embed\", \"6\"))\n",
       "        .catch(showError)\n",
       "        .then(() => displayChart(vegaEmbed));\n",
       "    }\n",
       "  })({\"config\": {\"view\": {\"continuousWidth\": 400, \"continuousHeight\": 300}}, \"data\": {\"name\": \"data-530a40f7ca2ae52f5d682f51b4a4a11c\"}, \"mark\": {\"type\": \"text\", \"size\": 20}, \"encoding\": {\"color\": {\"field\": \"value\", \"type\": \"quantitative\"}, \"text\": {\"field\": \"value\", \"type\": \"quantitative\"}, \"x\": {\"field\": \"variable\", \"type\": \"nominal\"}, \"y\": {\"field\": \"index\", \"type\": \"nominal\"}}, \"height\": 300, \"title\": \"Confusion Matrix\", \"width\": 300, \"$schema\": \"https://vega.github.io/schema/vega-lite/v4.17.0.json\", \"datasets\": {\"data-530a40f7ca2ae52f5d682f51b4a4a11c\": [{\"index\": \"0\", \"variable\": \"0\", \"value\": 289869}, {\"index\": \"1\", \"variable\": \"0\", \"value\": 424}, {\"index\": \"0\", \"variable\": \"1\", \"value\": 895}, {\"index\": \"1\", \"variable\": \"1\", \"value\": 1181}]}}, {\"mode\": \"vega-lite\"});\n",
       "</script>"
      ],
      "text/plain": [
       "alt.Chart(...)"
      ]
     },
     "metadata": {},
     "output_type": "display_data"
    }
   ],
   "source": [
    "import pandas as pd\n",
    "import altair as alt\n",
    "import seaborn as sns\n",
    "from sklearn.metrics import confusion_matrix\n",
    "\n",
    "cm = confusion_matrix(y_test_log, y_pred_log) \n",
    "\n",
    "\n",
    "df_cm = pd.DataFrame(cm, index=[\"0\", \"1\"], columns=[\"0\", \"1\"])\n",
    "\n",
    "df_cm_long = df_cm.reset_index().melt(id_vars='index')\n",
    "\n",
    "chart = alt.Chart(df_cm_long).mark_text(size=20).encode(\n",
    "    x='variable:N',\n",
    "    y='index:N',\n",
    "    color='value:Q',\n",
    "    text='value:Q'\n",
    ").properties(\n",
    "    width=300,\n",
    "    height=300,\n",
    "    title='Confusion Matrix'\n",
    ")\n",
    "\n",
    "chart.display()\n"
   ]
  },
  {
   "cell_type": "markdown",
   "metadata": {
    "cell_id": "9c0f5fcbb18e40aa8a386e2208be4df4",
    "deepnote_app_coordinates": {
     "h": 120,
     "w": 12,
     "x": 0,
     "y": 0
    },
    "deepnote_cell_type": "markdown"
   },
   "source": [
    "## random forest"
   ]
  },
  {
   "cell_type": "code",
   "execution_count": null,
   "metadata": {
    "cell_id": "edbd0f6c34d2479ebbf15c13b68ebebf",
    "deepnote_app_coordinates": {
     "h": 120,
     "w": 12,
     "x": 0,
     "y": 0
    },
    "deepnote_cell_type": "code",
    "deepnote_to_be_reexecuted": false,
    "execution_millis": 12,
    "execution_start": 1702171438106,
    "source_hash": null
   },
   "outputs": [],
   "source": [
    "from sklearn.ensemble import RandomForestClassifier"
   ]
  },
  {
   "cell_type": "markdown",
   "metadata": {
    "cell_id": "4411b26e4bea439484c731202c9b6a1f",
    "deepnote_app_coordinates": {
     "h": 120,
     "w": 12,
     "x": 0,
     "y": 0
    },
    "deepnote_cell_type": "markdown"
   },
   "source": [
    "**Random forest takes much more time to estimate, we firstly set to find the best n_estimators, it may take about 5-10 min to complete.**"
   ]
  },
  {
   "cell_type": "code",
   "execution_count": null,
   "metadata": {
    "cell_id": "bb5263c4a4f34f44a988db3812fb1fdd",
    "deepnote_app_coordinates": {
     "h": 120,
     "w": 12,
     "x": 0,
     "y": 0
    },
    "deepnote_cell_type": "code",
    "deepnote_to_be_reexecuted": false,
    "execution_millis": 514193,
    "execution_start": 1702173067150,
    "source_hash": null
   },
   "outputs": [
    {
     "data": {
      "application/vnd.deepnote.dataframe.v3+json": {
       "column_count": 3,
       "columns": [
        {
         "dtype": "float64",
         "name": "i",
         "stats": {
          "histogram": [
           {
            "bin_end": 10.4,
            "bin_start": 10,
            "count": 1
           },
           {
            "bin_end": 10.8,
            "bin_start": 10.4,
            "count": 0
           },
           {
            "bin_end": 11.2,
            "bin_start": 10.8,
            "count": 1
           },
           {
            "bin_end": 11.6,
            "bin_start": 11.2,
            "count": 0
           },
           {
            "bin_end": 12,
            "bin_start": 11.6,
            "count": 0
           },
           {
            "bin_end": 12.4,
            "bin_start": 12,
            "count": 1
           },
           {
            "bin_end": 12.8,
            "bin_start": 12.4,
            "count": 0
           },
           {
            "bin_end": 13.2,
            "bin_start": 12.8,
            "count": 1
           },
           {
            "bin_end": 13.6,
            "bin_start": 13.2,
            "count": 0
           },
           {
            "bin_end": 14,
            "bin_start": 13.6,
            "count": 1
           }
          ],
          "max": "14.0",
          "min": "10.0",
          "nan_count": 0,
          "unique_count": 5
         }
        },
        {
         "dtype": "float64",
         "name": "train_errors",
         "stats": {
          "histogram": [
           {
            "bin_end": 8.55085277695622e-08,
            "bin_start": 0,
            "count": 2
           },
           {
            "bin_end": 1.710170555391244e-07,
            "bin_start": 8.55085277695622e-08,
            "count": 0
           },
           {
            "bin_end": 2.565255833086866e-07,
            "bin_start": 1.710170555391244e-07,
            "count": 0
           },
           {
            "bin_end": 3.420341110782488e-07,
            "bin_start": 2.565255833086866e-07,
            "count": 0
           },
           {
            "bin_end": 4.2754263884781096e-07,
            "bin_start": 3.420341110782488e-07,
            "count": 0
           },
           {
            "bin_end": 5.130511666173732e-07,
            "bin_start": 4.2754263884781096e-07,
            "count": 0
           },
           {
            "bin_end": 5.985596943869353e-07,
            "bin_start": 5.130511666173732e-07,
            "count": 0
           },
           {
            "bin_end": 6.840682221564976e-07,
            "bin_start": 5.985596943869353e-07,
            "count": 0
           },
           {
            "bin_end": 7.695767499260598e-07,
            "bin_start": 6.840682221564976e-07,
            "count": 0
           },
           {
            "bin_end": 8.550852776956219e-07,
            "bin_start": 7.695767499260598e-07,
            "count": 3
           }
          ],
          "max": "8.550852776956219e-07",
          "min": "0.0",
          "nan_count": 0,
          "unique_count": 2
         }
        },
        {
         "dtype": "float64",
         "name": "test_errors",
         "stats": {
          "histogram": [
           {
            "bin_end": 1.0945072836077152e-05,
            "bin_start": 1.0261005783829269e-05,
            "count": 2
           },
           {
            "bin_end": 1.1629139888325035e-05,
            "bin_start": 1.0945072836077152e-05,
            "count": 0
           },
           {
            "bin_end": 1.2313206940572919e-05,
            "bin_start": 1.1629139888325035e-05,
            "count": 0
           },
           {
            "bin_end": 1.2997273992820802e-05,
            "bin_start": 1.2313206940572919e-05,
            "count": 0
           },
           {
            "bin_end": 1.3681341045068685e-05,
            "bin_start": 1.2997273992820802e-05,
            "count": 0
           },
           {
            "bin_end": 1.4365408097316567e-05,
            "bin_start": 1.3681341045068685e-05,
            "count": 2
           },
           {
            "bin_end": 1.504947514956445e-05,
            "bin_start": 1.4365408097316567e-05,
            "count": 0
           },
           {
            "bin_end": 1.5733542201812335e-05,
            "bin_start": 1.504947514956445e-05,
            "count": 0
           },
           {
            "bin_end": 1.6417609254060216e-05,
            "bin_start": 1.5733542201812335e-05,
            "count": 0
           },
           {
            "bin_end": 1.71016763063081e-05,
            "bin_start": 1.6417609254060216e-05,
            "count": 1
           }
          ],
          "max": "1.71016763063081e-05",
          "min": "1.0261005783829269e-05",
          "nan_count": 0,
          "unique_count": 3
         }
        },
        {
         "dtype": "int64",
         "name": "_deepnote_index_column"
        }
       ],
       "row_count": 5,
       "rows": [
        {
         "_deepnote_index_column": 0,
         "i": 10,
         "test_errors": 1.0261005783829269e-05,
         "train_errors": 8.550852776956219e-07
        },
        {
         "_deepnote_index_column": 1,
         "i": 11,
         "test_errors": 1.71016763063081e-05,
         "train_errors": 0
        },
        {
         "_deepnote_index_column": 2,
         "i": 12,
         "test_errors": 1.0261005783829269e-05,
         "train_errors": 0
        },
        {
         "_deepnote_index_column": 3,
         "i": 13,
         "test_errors": 1.3681341045068685e-05,
         "train_errors": 8.550852776956219e-07
        },
        {
         "_deepnote_index_column": 4,
         "i": 14,
         "test_errors": 1.3681341045068685e-05,
         "train_errors": 8.550852776956219e-07
        }
       ]
      },
      "text/html": [
       "<div>\n",
       "<style scoped>\n",
       "    .dataframe tbody tr th:only-of-type {\n",
       "        vertical-align: middle;\n",
       "    }\n",
       "\n",
       "    .dataframe tbody tr th {\n",
       "        vertical-align: top;\n",
       "    }\n",
       "\n",
       "    .dataframe thead th {\n",
       "        text-align: right;\n",
       "    }\n",
       "</style>\n",
       "<table border=\"1\" class=\"dataframe\">\n",
       "  <thead>\n",
       "    <tr style=\"text-align: right;\">\n",
       "      <th></th>\n",
       "      <th>i</th>\n",
       "      <th>train_errors</th>\n",
       "      <th>test_errors</th>\n",
       "    </tr>\n",
       "  </thead>\n",
       "  <tbody>\n",
       "    <tr>\n",
       "      <th>0</th>\n",
       "      <td>10.0</td>\n",
       "      <td>8.550853e-07</td>\n",
       "      <td>0.000010</td>\n",
       "    </tr>\n",
       "    <tr>\n",
       "      <th>1</th>\n",
       "      <td>11.0</td>\n",
       "      <td>0.000000e+00</td>\n",
       "      <td>0.000017</td>\n",
       "    </tr>\n",
       "    <tr>\n",
       "      <th>2</th>\n",
       "      <td>12.0</td>\n",
       "      <td>0.000000e+00</td>\n",
       "      <td>0.000010</td>\n",
       "    </tr>\n",
       "    <tr>\n",
       "      <th>3</th>\n",
       "      <td>13.0</td>\n",
       "      <td>8.550853e-07</td>\n",
       "      <td>0.000014</td>\n",
       "    </tr>\n",
       "    <tr>\n",
       "      <th>4</th>\n",
       "      <td>14.0</td>\n",
       "      <td>8.550853e-07</td>\n",
       "      <td>0.000014</td>\n",
       "    </tr>\n",
       "  </tbody>\n",
       "</table>\n",
       "</div>"
      ],
      "text/plain": [
       "      i  train_errors  test_errors\n",
       "0  10.0  8.550853e-07     0.000010\n",
       "1  11.0  0.000000e+00     0.000017\n",
       "2  12.0  0.000000e+00     0.000010\n",
       "3  13.0  8.550853e-07     0.000014\n",
       "4  14.0  8.550853e-07     0.000014"
      ]
     },
     "execution_count": 150,
     "metadata": {},
     "output_type": "execute_result"
    }
   ],
   "source": [
    "X_train_rfc,X_test_rfc,y_train_rfc,y_test_rfc=train_test_split(df[['amount', 'from_oldb', 'from_newb', 'to_oldb', 'to_newb', 'errorto_b', 'errorfrom_b']],Y,test_size = 0.2,random_state=42)\n",
    "answer_rf=pd.DataFrame(columns=['i', 'train_errors', 'test_errors'])\n",
    "for i in np.arange(10, 20, 1):\n",
    "    rfc = RandomForestClassifier(n_estimators = i, n_jobs = -1)\n",
    "    rfc.fit(X_train_rfc, y_train_rfc)\n",
    "    train_error = 1 - rfc.score(X_train_rfc, y_train_rfc)\n",
    "    test_error = 1 - rfc.score(X_test_rfc, y_test_rfc)\n",
    "    answer_rf = answer_rf.append({\n",
    "        'i': i,\n",
    "        'train_errors': train_error,\n",
    "        'test_errors': test_error\n",
    "    },ignore_index=True)\n",
    "\n",
    "answer_rf.head(5)"
   ]
  },
  {
   "cell_type": "code",
   "execution_count": null,
   "metadata": {
    "cell_id": "af3a24d671074bccbe66d619db857f70",
    "deepnote_app_coordinates": {
     "h": 120,
     "w": 12,
     "x": 0,
     "y": 0
    },
    "deepnote_cell_type": "code",
    "deepnote_to_be_reexecuted": false,
    "execution_millis": 13,
    "execution_start": 1702171940443,
    "source_hash": null
   },
   "outputs": [
    {
     "data": {
      "application/vnd.deepnote.dataframe.v3+json": {
       "column_count": 3,
       "columns": [
        {
         "dtype": "float64",
         "name": "i",
         "stats": {
          "histogram": [
           {
            "bin_end": 10.9,
            "bin_start": 10,
            "count": 1
           },
           {
            "bin_end": 11.8,
            "bin_start": 10.9,
            "count": 1
           },
           {
            "bin_end": 12.7,
            "bin_start": 11.8,
            "count": 1
           },
           {
            "bin_end": 13.6,
            "bin_start": 12.7,
            "count": 1
           },
           {
            "bin_end": 14.5,
            "bin_start": 13.6,
            "count": 1
           },
           {
            "bin_end": 15.4,
            "bin_start": 14.5,
            "count": 1
           },
           {
            "bin_end": 16.3,
            "bin_start": 15.4,
            "count": 1
           },
           {
            "bin_end": 17.2,
            "bin_start": 16.3,
            "count": 1
           },
           {
            "bin_end": 18.1,
            "bin_start": 17.2,
            "count": 1
           },
           {
            "bin_end": 19,
            "bin_start": 18.1,
            "count": 1
           }
          ],
          "max": "19.0",
          "min": "10.0",
          "nan_count": 0,
          "unique_count": 10
         }
        },
        {
         "dtype": "float64",
         "name": "train_errors",
         "stats": {
          "histogram": [
           {
            "bin_end": 8.55085277695622e-08,
            "bin_start": 0,
            "count": 5
           },
           {
            "bin_end": 1.710170555391244e-07,
            "bin_start": 8.55085277695622e-08,
            "count": 0
           },
           {
            "bin_end": 2.565255833086866e-07,
            "bin_start": 1.710170555391244e-07,
            "count": 0
           },
           {
            "bin_end": 3.420341110782488e-07,
            "bin_start": 2.565255833086866e-07,
            "count": 0
           },
           {
            "bin_end": 4.2754263884781096e-07,
            "bin_start": 3.420341110782488e-07,
            "count": 0
           },
           {
            "bin_end": 5.130511666173732e-07,
            "bin_start": 4.2754263884781096e-07,
            "count": 0
           },
           {
            "bin_end": 5.985596943869353e-07,
            "bin_start": 5.130511666173732e-07,
            "count": 0
           },
           {
            "bin_end": 6.840682221564976e-07,
            "bin_start": 5.985596943869353e-07,
            "count": 0
           },
           {
            "bin_end": 7.695767499260598e-07,
            "bin_start": 6.840682221564976e-07,
            "count": 0
           },
           {
            "bin_end": 8.550852776956219e-07,
            "bin_start": 7.695767499260598e-07,
            "count": 5
           }
          ],
          "max": "8.550852776956219e-07",
          "min": "0.0",
          "nan_count": 0,
          "unique_count": 2
         }
        },
        {
         "dtype": "float64",
         "name": "test_errors",
         "stats": {
          "histogram": [
           {
            "bin_end": 1.0945072836077152e-05,
            "bin_start": 1.0261005783829269e-05,
            "count": 4
           },
           {
            "bin_end": 1.1629139888325035e-05,
            "bin_start": 1.0945072836077152e-05,
            "count": 0
           },
           {
            "bin_end": 1.2313206940572919e-05,
            "bin_start": 1.1629139888325035e-05,
            "count": 0
           },
           {
            "bin_end": 1.2997273992820802e-05,
            "bin_start": 1.2313206940572919e-05,
            "count": 0
           },
           {
            "bin_end": 1.3681341045068685e-05,
            "bin_start": 1.2997273992820802e-05,
            "count": 0
           },
           {
            "bin_end": 1.4365408097316567e-05,
            "bin_start": 1.3681341045068685e-05,
            "count": 4
           },
           {
            "bin_end": 1.504947514956445e-05,
            "bin_start": 1.4365408097316567e-05,
            "count": 0
           },
           {
            "bin_end": 1.5733542201812335e-05,
            "bin_start": 1.504947514956445e-05,
            "count": 0
           },
           {
            "bin_end": 1.6417609254060216e-05,
            "bin_start": 1.5733542201812335e-05,
            "count": 0
           },
           {
            "bin_end": 1.71016763063081e-05,
            "bin_start": 1.6417609254060216e-05,
            "count": 2
           }
          ],
          "max": "1.71016763063081e-05",
          "min": "1.0261005783829269e-05",
          "nan_count": 0,
          "unique_count": 3
         }
        },
        {
         "dtype": "int64",
         "name": "_deepnote_index_column"
        }
       ],
       "row_count": 10,
       "rows": [
        {
         "_deepnote_index_column": 0,
         "i": 10,
         "test_errors": 1.71016763063081e-05,
         "train_errors": 8.550852776956219e-07
        },
        {
         "_deepnote_index_column": 1,
         "i": 11,
         "test_errors": 1.0261005783829269e-05,
         "train_errors": 8.550852776956219e-07
        },
        {
         "_deepnote_index_column": 2,
         "i": 12,
         "test_errors": 1.0261005783829269e-05,
         "train_errors": 0
        },
        {
         "_deepnote_index_column": 3,
         "i": 13,
         "test_errors": 1.0261005783829269e-05,
         "train_errors": 0
        },
        {
         "_deepnote_index_column": 4,
         "i": 14,
         "test_errors": 1.3681341045068685e-05,
         "train_errors": 8.550852776956219e-07
        },
        {
         "_deepnote_index_column": 5,
         "i": 15,
         "test_errors": 1.3681341045068685e-05,
         "train_errors": 0
        },
        {
         "_deepnote_index_column": 6,
         "i": 16,
         "test_errors": 1.3681341045068685e-05,
         "train_errors": 0
        },
        {
         "_deepnote_index_column": 7,
         "i": 17,
         "test_errors": 1.0261005783829269e-05,
         "train_errors": 8.550852776956219e-07
        },
        {
         "_deepnote_index_column": 8,
         "i": 18,
         "test_errors": 1.3681341045068685e-05,
         "train_errors": 8.550852776956219e-07
        },
        {
         "_deepnote_index_column": 9,
         "i": 19,
         "test_errors": 1.71016763063081e-05,
         "train_errors": 0
        }
       ]
      },
      "text/html": [
       "<div>\n",
       "<style scoped>\n",
       "    .dataframe tbody tr th:only-of-type {\n",
       "        vertical-align: middle;\n",
       "    }\n",
       "\n",
       "    .dataframe tbody tr th {\n",
       "        vertical-align: top;\n",
       "    }\n",
       "\n",
       "    .dataframe thead th {\n",
       "        text-align: right;\n",
       "    }\n",
       "</style>\n",
       "<table border=\"1\" class=\"dataframe\">\n",
       "  <thead>\n",
       "    <tr style=\"text-align: right;\">\n",
       "      <th></th>\n",
       "      <th>i</th>\n",
       "      <th>train_errors</th>\n",
       "      <th>test_errors</th>\n",
       "    </tr>\n",
       "  </thead>\n",
       "  <tbody>\n",
       "    <tr>\n",
       "      <th>0</th>\n",
       "      <td>10.0</td>\n",
       "      <td>8.550853e-07</td>\n",
       "      <td>0.000017</td>\n",
       "    </tr>\n",
       "    <tr>\n",
       "      <th>1</th>\n",
       "      <td>11.0</td>\n",
       "      <td>8.550853e-07</td>\n",
       "      <td>0.000010</td>\n",
       "    </tr>\n",
       "    <tr>\n",
       "      <th>2</th>\n",
       "      <td>12.0</td>\n",
       "      <td>0.000000e+00</td>\n",
       "      <td>0.000010</td>\n",
       "    </tr>\n",
       "    <tr>\n",
       "      <th>3</th>\n",
       "      <td>13.0</td>\n",
       "      <td>0.000000e+00</td>\n",
       "      <td>0.000010</td>\n",
       "    </tr>\n",
       "    <tr>\n",
       "      <th>4</th>\n",
       "      <td>14.0</td>\n",
       "      <td>8.550853e-07</td>\n",
       "      <td>0.000014</td>\n",
       "    </tr>\n",
       "    <tr>\n",
       "      <th>5</th>\n",
       "      <td>15.0</td>\n",
       "      <td>0.000000e+00</td>\n",
       "      <td>0.000014</td>\n",
       "    </tr>\n",
       "    <tr>\n",
       "      <th>6</th>\n",
       "      <td>16.0</td>\n",
       "      <td>0.000000e+00</td>\n",
       "      <td>0.000014</td>\n",
       "    </tr>\n",
       "    <tr>\n",
       "      <th>7</th>\n",
       "      <td>17.0</td>\n",
       "      <td>8.550853e-07</td>\n",
       "      <td>0.000010</td>\n",
       "    </tr>\n",
       "    <tr>\n",
       "      <th>8</th>\n",
       "      <td>18.0</td>\n",
       "      <td>8.550853e-07</td>\n",
       "      <td>0.000014</td>\n",
       "    </tr>\n",
       "    <tr>\n",
       "      <th>9</th>\n",
       "      <td>19.0</td>\n",
       "      <td>0.000000e+00</td>\n",
       "      <td>0.000017</td>\n",
       "    </tr>\n",
       "  </tbody>\n",
       "</table>\n",
       "</div>"
      ],
      "text/plain": [
       "      i  train_errors  test_errors\n",
       "0  10.0  8.550853e-07     0.000017\n",
       "1  11.0  8.550853e-07     0.000010\n",
       "2  12.0  0.000000e+00     0.000010\n",
       "3  13.0  0.000000e+00     0.000010\n",
       "4  14.0  8.550853e-07     0.000014\n",
       "5  15.0  0.000000e+00     0.000014\n",
       "6  16.0  0.000000e+00     0.000014\n",
       "7  17.0  8.550853e-07     0.000010\n",
       "8  18.0  8.550853e-07     0.000014\n",
       "9  19.0  0.000000e+00     0.000017"
      ]
     },
     "execution_count": 119,
     "metadata": {},
     "output_type": "execute_result"
    }
   ],
   "source": [
    "answer_rf"
   ]
  },
  {
   "cell_type": "code",
   "execution_count": null,
   "metadata": {
    "cell_id": "bc0dcf9c2e574891b63de0c98e3e50a8",
    "deepnote_app_coordinates": {
     "h": 120,
     "w": 12,
     "x": 0,
     "y": 0
    },
    "deepnote_cell_type": "code",
    "deepnote_to_be_reexecuted": false,
    "execution_millis": 17,
    "execution_start": 1702171940545,
    "source_hash": null
   },
   "outputs": [
    {
     "data": {
      "text/html": [
       "\n",
       "<div id=\"altair-viz-ed85531cf4034aa6b4e69f33acaa445e\"></div>\n",
       "<script type=\"text/javascript\">\n",
       "  var VEGA_DEBUG = (typeof VEGA_DEBUG == \"undefined\") ? {} : VEGA_DEBUG;\n",
       "  (function(spec, embedOpt){\n",
       "    let outputDiv = document.currentScript.previousElementSibling;\n",
       "    if (outputDiv.id !== \"altair-viz-ed85531cf4034aa6b4e69f33acaa445e\") {\n",
       "      outputDiv = document.getElementById(\"altair-viz-ed85531cf4034aa6b4e69f33acaa445e\");\n",
       "    }\n",
       "    const paths = {\n",
       "      \"vega\": \"https://cdn.jsdelivr.net/npm//vega@5?noext\",\n",
       "      \"vega-lib\": \"https://cdn.jsdelivr.net/npm//vega-lib?noext\",\n",
       "      \"vega-lite\": \"https://cdn.jsdelivr.net/npm//vega-lite@4.17.0?noext\",\n",
       "      \"vega-embed\": \"https://cdn.jsdelivr.net/npm//vega-embed@6?noext\",\n",
       "    };\n",
       "\n",
       "    function maybeLoadScript(lib, version) {\n",
       "      var key = `${lib.replace(\"-\", \"\")}_version`;\n",
       "      return (VEGA_DEBUG[key] == version) ?\n",
       "        Promise.resolve(paths[lib]) :\n",
       "        new Promise(function(resolve, reject) {\n",
       "          var s = document.createElement('script');\n",
       "          document.getElementsByTagName(\"head\")[0].appendChild(s);\n",
       "          s.async = true;\n",
       "          s.onload = () => {\n",
       "            VEGA_DEBUG[key] = version;\n",
       "            return resolve(paths[lib]);\n",
       "          };\n",
       "          s.onerror = () => reject(`Error loading script: ${paths[lib]}`);\n",
       "          s.src = paths[lib];\n",
       "        });\n",
       "    }\n",
       "\n",
       "    function showError(err) {\n",
       "      outputDiv.innerHTML = `<div class=\"error\" style=\"color:red;\">${err}</div>`;\n",
       "      throw err;\n",
       "    }\n",
       "\n",
       "    function displayChart(vegaEmbed) {\n",
       "      vegaEmbed(outputDiv, spec, embedOpt)\n",
       "        .catch(err => showError(`Javascript Error: ${err.message}<br>This usually means there's a typo in your chart specification. See the javascript console for the full traceback.`));\n",
       "    }\n",
       "\n",
       "    if(typeof define === \"function\" && define.amd) {\n",
       "      requirejs.config({paths});\n",
       "      require([\"vega-embed\"], displayChart, err => showError(`Error loading script: ${err.message}`));\n",
       "    } else {\n",
       "      maybeLoadScript(\"vega\", \"5\")\n",
       "        .then(() => maybeLoadScript(\"vega-lite\", \"4.17.0\"))\n",
       "        .then(() => maybeLoadScript(\"vega-embed\", \"6\"))\n",
       "        .catch(showError)\n",
       "        .then(() => displayChart(vegaEmbed));\n",
       "    }\n",
       "  })({\"config\": {\"view\": {\"continuousWidth\": 400, \"continuousHeight\": 300}}, \"layer\": [{\"mark\": {\"type\": \"line\", \"color\": \"black\"}, \"encoding\": {\"x\": {\"field\": \"i\", \"type\": \"quantitative\"}, \"y\": {\"field\": \"train_errors\", \"type\": \"quantitative\"}}}, {\"mark\": {\"type\": \"line\", \"color\": \"red\"}, \"encoding\": {\"tooltip\": {\"field\": \"i\", \"type\": \"quantitative\"}, \"x\": {\"field\": \"i\", \"type\": \"quantitative\"}, \"y\": {\"field\": \"test_errors\", \"type\": \"quantitative\"}}, \"title\": \"Train Error and Test Error Depending on n_estimators\"}], \"data\": {\"name\": \"data-739304e2b850860404a358f6f2ebe66f\"}, \"$schema\": \"https://vega.github.io/schema/vega-lite/v4.17.0.json\", \"datasets\": {\"data-739304e2b850860404a358f6f2ebe66f\": [{\"i\": 10.0, \"train_errors\": 8.550852776956219e-07, \"test_errors\": 1.71016763063081e-05}, {\"i\": 11.0, \"train_errors\": 8.550852776956219e-07, \"test_errors\": 1.0261005783829269e-05}, {\"i\": 12.0, \"train_errors\": 0.0, \"test_errors\": 1.0261005783829269e-05}, {\"i\": 13.0, \"train_errors\": 0.0, \"test_errors\": 1.0261005783829269e-05}, {\"i\": 14.0, \"train_errors\": 8.550852776956219e-07, \"test_errors\": 1.3681341045068685e-05}, {\"i\": 15.0, \"train_errors\": 0.0, \"test_errors\": 1.3681341045068685e-05}, {\"i\": 16.0, \"train_errors\": 0.0, \"test_errors\": 1.3681341045068685e-05}, {\"i\": 17.0, \"train_errors\": 8.550852776956219e-07, \"test_errors\": 1.0261005783829269e-05}, {\"i\": 18.0, \"train_errors\": 8.550852776956219e-07, \"test_errors\": 1.3681341045068685e-05}, {\"i\": 19.0, \"train_errors\": 0.0, \"test_errors\": 1.71016763063081e-05}]}}, {\"mode\": \"vega-lite\"});\n",
       "</script>"
      ],
      "text/plain": [
       "alt.LayerChart(...)"
      ]
     },
     "execution_count": 120,
     "metadata": {},
     "output_type": "execute_result"
    }
   ],
   "source": [
    "import altair as alt\n",
    "\n",
    "c3 = alt.Chart(answer_rf).mark_line(color='black').encode(\n",
    "    x='i',\n",
    "    y='train_errors'\n",
    ")\n",
    "\n",
    "\n",
    "c4 = alt.Chart(answer_rf).mark_line(color='red').encode(\n",
    "    x='i',\n",
    "    y='test_errors',\n",
    "    tooltip='i'\n",
    ").properties(\n",
    "    title='Train Error and Test Error Depending on n_estimators'\n",
    ")\n",
    "\n",
    "\n",
    "final_chart = c3 + c4\n",
    "final_chart\n"
   ]
  },
  {
   "cell_type": "markdown",
   "metadata": {
    "cell_id": "11309dd523ee400ab83194353bbded5f",
    "deepnote_app_coordinates": {
     "h": 120,
     "w": 12,
     "x": 0,
     "y": 0
    },
    "deepnote_cell_type": "markdown"
   },
   "source": [
    "**I will choose n_estimators=15.**"
   ]
  },
  {
   "cell_type": "code",
   "execution_count": null,
   "metadata": {
    "cell_id": "e94f4a5ecfc44a499427727028cb767c",
    "deepnote_app_coordinates": {
     "h": 120,
     "w": 12,
     "x": 0,
     "y": 0
    },
    "deepnote_cell_type": "code",
    "deepnote_to_be_reexecuted": false,
    "execution_millis": 49222,
    "execution_start": 1702173581404,
    "source_hash": null
   },
   "outputs": [
    {
     "data": {
      "text/plain": [
       "0.9999897389942162"
      ]
     },
     "execution_count": 151,
     "metadata": {},
     "output_type": "execute_result"
    }
   ],
   "source": [
    "rfc = RandomForestClassifier(n_estimators = 15, n_jobs = -1)\n",
    "rfc.fit(X_train_rfc, y_train_rfc)\n",
    "df_rfc=pd.DataFrame(columns=[\"isFraud\",\"pred\"])\n",
    "df_rfc[\"isFraud\"]=y_test_rfc\n",
    "df_rfc[\"pred\"]=rfc.predict(X_test_rfc)\n",
    "df_rfc = pd.DataFrame({\n",
    "    \"isFraud\": df_rfc[\"isFraud\"],\n",
    "    \"pred\": df_rfc[\"pred\"]\n",
    "})\n",
    "y_pred_rfc = rfc.predict(X_test_rfc)\n",
    "y_pred_proba_rfc = rfc.predict_proba(X_test_rfc)[:, 1]\n",
    "error_rfc=(df_rfc[\"isFraud\"]==df_rfc[\"pred\"]).sum()/df_rfc.shape[0]\n",
    "error_rfc"
   ]
  },
  {
   "cell_type": "code",
   "execution_count": null,
   "metadata": {
    "cell_id": "4b79c6ea84d145698baf460378a4d7eb",
    "deepnote_app_coordinates": {
     "h": 120,
     "w": 12,
     "x": 0,
     "y": 0
    },
    "deepnote_cell_type": "code",
    "deepnote_to_be_reexecuted": false,
    "execution_millis": 81,
    "execution_start": 1702173630667,
    "source_hash": null
   },
   "outputs": [
    {
     "data": {
      "text/html": [
       "\n",
       "<div id=\"altair-viz-f50fcd19d4d74a219af0a3b60ec97876\"></div>\n",
       "<script type=\"text/javascript\">\n",
       "  var VEGA_DEBUG = (typeof VEGA_DEBUG == \"undefined\") ? {} : VEGA_DEBUG;\n",
       "  (function(spec, embedOpt){\n",
       "    let outputDiv = document.currentScript.previousElementSibling;\n",
       "    if (outputDiv.id !== \"altair-viz-f50fcd19d4d74a219af0a3b60ec97876\") {\n",
       "      outputDiv = document.getElementById(\"altair-viz-f50fcd19d4d74a219af0a3b60ec97876\");\n",
       "    }\n",
       "    const paths = {\n",
       "      \"vega\": \"https://cdn.jsdelivr.net/npm//vega@5?noext\",\n",
       "      \"vega-lib\": \"https://cdn.jsdelivr.net/npm//vega-lib?noext\",\n",
       "      \"vega-lite\": \"https://cdn.jsdelivr.net/npm//vega-lite@4.17.0?noext\",\n",
       "      \"vega-embed\": \"https://cdn.jsdelivr.net/npm//vega-embed@6?noext\",\n",
       "    };\n",
       "\n",
       "    function maybeLoadScript(lib, version) {\n",
       "      var key = `${lib.replace(\"-\", \"\")}_version`;\n",
       "      return (VEGA_DEBUG[key] == version) ?\n",
       "        Promise.resolve(paths[lib]) :\n",
       "        new Promise(function(resolve, reject) {\n",
       "          var s = document.createElement('script');\n",
       "          document.getElementsByTagName(\"head\")[0].appendChild(s);\n",
       "          s.async = true;\n",
       "          s.onload = () => {\n",
       "            VEGA_DEBUG[key] = version;\n",
       "            return resolve(paths[lib]);\n",
       "          };\n",
       "          s.onerror = () => reject(`Error loading script: ${paths[lib]}`);\n",
       "          s.src = paths[lib];\n",
       "        });\n",
       "    }\n",
       "\n",
       "    function showError(err) {\n",
       "      outputDiv.innerHTML = `<div class=\"error\" style=\"color:red;\">${err}</div>`;\n",
       "      throw err;\n",
       "    }\n",
       "\n",
       "    function displayChart(vegaEmbed) {\n",
       "      vegaEmbed(outputDiv, spec, embedOpt)\n",
       "        .catch(err => showError(`Javascript Error: ${err.message}<br>This usually means there's a typo in your chart specification. See the javascript console for the full traceback.`));\n",
       "    }\n",
       "\n",
       "    if(typeof define === \"function\" && define.amd) {\n",
       "      requirejs.config({paths});\n",
       "      require([\"vega-embed\"], displayChart, err => showError(`Error loading script: ${err.message}`));\n",
       "    } else {\n",
       "      maybeLoadScript(\"vega\", \"5\")\n",
       "        .then(() => maybeLoadScript(\"vega-lite\", \"4.17.0\"))\n",
       "        .then(() => maybeLoadScript(\"vega-embed\", \"6\"))\n",
       "        .catch(showError)\n",
       "        .then(() => displayChart(vegaEmbed));\n",
       "    }\n",
       "  })({\"config\": {\"view\": {\"continuousWidth\": 400, \"continuousHeight\": 300}}, \"data\": {\"name\": \"data-1ce8bbded36438778b960b5bebaa5e93\"}, \"mark\": {\"type\": \"text\", \"size\": 20}, \"encoding\": {\"color\": {\"field\": \"value\", \"type\": \"quantitative\"}, \"text\": {\"field\": \"value\", \"type\": \"quantitative\"}, \"x\": {\"field\": \"variable\", \"type\": \"nominal\"}, \"y\": {\"field\": \"index\", \"type\": \"nominal\"}}, \"height\": 300, \"title\": \"Confusion Matrix\", \"width\": 300, \"$schema\": \"https://vega.github.io/schema/vega-lite/v4.17.0.json\", \"datasets\": {\"data-1ce8bbded36438778b960b5bebaa5e93\": [{\"index\": \"0\", \"variable\": \"0\", \"value\": 290764}, {\"index\": \"1\", \"variable\": \"0\", \"value\": 3}, {\"index\": \"0\", \"variable\": \"1\", \"value\": 0}, {\"index\": \"1\", \"variable\": \"1\", \"value\": 1602}]}}, {\"mode\": \"vega-lite\"});\n",
       "</script>"
      ],
      "text/plain": [
       "alt.Chart(...)"
      ]
     },
     "metadata": {},
     "output_type": "display_data"
    }
   ],
   "source": [
    "import pandas as pd\n",
    "import altair as alt\n",
    "import seaborn as sns\n",
    "from sklearn.metrics import confusion_matrix\n",
    "\n",
    "cm = confusion_matrix(y_test_rfc, y_pred_rfc)  \n",
    "\n",
    "\n",
    "df_cm = pd.DataFrame(cm, index=[\"0\", \"1\"], columns=[\"0\", \"1\"])\n",
    "\n",
    "df_cm_long = df_cm.reset_index().melt(id_vars='index')\n",
    "\n",
    "chart = alt.Chart(df_cm_long).mark_text(size=20).encode(\n",
    "    x='variable:N',\n",
    "    y='index:N',\n",
    "    color='value:Q',\n",
    "    text='value:Q'\n",
    ").properties(\n",
    "    width=300,\n",
    "    height=300,\n",
    "    title='Confusion Matrix'\n",
    ")\n",
    "\n",
    "chart.display()\n",
    "\n"
   ]
  },
  {
   "cell_type": "markdown",
   "metadata": {
    "cell_id": "b0001a7b5d3445aa81c8c1c58fbc7e63",
    "deepnote_app_coordinates": {
     "h": 120,
     "w": 12,
     "x": 0,
     "y": 0
    },
    "deepnote_cell_type": "markdown"
   },
   "source": [
    "**We can roughly compare with each other about the prediction accuracy of three models, and other stuff will be disscussed in the next part.**"
   ]
  },
  {
   "cell_type": "code",
   "execution_count": null,
   "metadata": {
    "cell_id": "94952d97fcac402c971c353c067ad88e",
    "deepnote_app_coordinates": {
     "h": 120,
     "w": 12,
     "x": 0,
     "y": 0
    },
    "deepnote_cell_type": "code",
    "deepnote_to_be_reexecuted": false,
    "execution_millis": 25,
    "execution_start": 1702171996730,
    "source_hash": null
   },
   "outputs": [
    {
     "data": {
      "text/html": [
       "\n",
       "<div id=\"altair-viz-e0574be4204343bd8f03ca1c109d1d2e\"></div>\n",
       "<script type=\"text/javascript\">\n",
       "  var VEGA_DEBUG = (typeof VEGA_DEBUG == \"undefined\") ? {} : VEGA_DEBUG;\n",
       "  (function(spec, embedOpt){\n",
       "    let outputDiv = document.currentScript.previousElementSibling;\n",
       "    if (outputDiv.id !== \"altair-viz-e0574be4204343bd8f03ca1c109d1d2e\") {\n",
       "      outputDiv = document.getElementById(\"altair-viz-e0574be4204343bd8f03ca1c109d1d2e\");\n",
       "    }\n",
       "    const paths = {\n",
       "      \"vega\": \"https://cdn.jsdelivr.net/npm//vega@5?noext\",\n",
       "      \"vega-lib\": \"https://cdn.jsdelivr.net/npm//vega-lib?noext\",\n",
       "      \"vega-lite\": \"https://cdn.jsdelivr.net/npm//vega-lite@4.17.0?noext\",\n",
       "      \"vega-embed\": \"https://cdn.jsdelivr.net/npm//vega-embed@6?noext\",\n",
       "    };\n",
       "\n",
       "    function maybeLoadScript(lib, version) {\n",
       "      var key = `${lib.replace(\"-\", \"\")}_version`;\n",
       "      return (VEGA_DEBUG[key] == version) ?\n",
       "        Promise.resolve(paths[lib]) :\n",
       "        new Promise(function(resolve, reject) {\n",
       "          var s = document.createElement('script');\n",
       "          document.getElementsByTagName(\"head\")[0].appendChild(s);\n",
       "          s.async = true;\n",
       "          s.onload = () => {\n",
       "            VEGA_DEBUG[key] = version;\n",
       "            return resolve(paths[lib]);\n",
       "          };\n",
       "          s.onerror = () => reject(`Error loading script: ${paths[lib]}`);\n",
       "          s.src = paths[lib];\n",
       "        });\n",
       "    }\n",
       "\n",
       "    function showError(err) {\n",
       "      outputDiv.innerHTML = `<div class=\"error\" style=\"color:red;\">${err}</div>`;\n",
       "      throw err;\n",
       "    }\n",
       "\n",
       "    function displayChart(vegaEmbed) {\n",
       "      vegaEmbed(outputDiv, spec, embedOpt)\n",
       "        .catch(err => showError(`Javascript Error: ${err.message}<br>This usually means there's a typo in your chart specification. See the javascript console for the full traceback.`));\n",
       "    }\n",
       "\n",
       "    if(typeof define === \"function\" && define.amd) {\n",
       "      requirejs.config({paths});\n",
       "      require([\"vega-embed\"], displayChart, err => showError(`Error loading script: ${err.message}`));\n",
       "    } else {\n",
       "      maybeLoadScript(\"vega\", \"5\")\n",
       "        .then(() => maybeLoadScript(\"vega-lite\", \"4.17.0\"))\n",
       "        .then(() => maybeLoadScript(\"vega-embed\", \"6\"))\n",
       "        .catch(showError)\n",
       "        .then(() => displayChart(vegaEmbed));\n",
       "    }\n",
       "  })({\"config\": {\"view\": {\"continuousWidth\": 400, \"continuousHeight\": 300}}, \"layer\": [{\"mark\": \"bar\", \"encoding\": {\"color\": {\"field\": \"Model\", \"type\": \"nominal\"}, \"x\": {\"axis\": {\"format\": \".6f\"}, \"field\": \"Error Difference\", \"type\": \"quantitative\"}, \"y\": {\"field\": \"Model\", \"type\": \"nominal\"}}, \"title\": \"Error Difference for Models\"}, {\"mark\": {\"type\": \"text\", \"align\": \"left\", \"baseline\": \"middle\", \"dx\": 3}, \"encoding\": {\"color\": {\"field\": \"Model\", \"type\": \"nominal\"}, \"text\": {\"field\": \"Error Difference\", \"format\": \".6f\", \"type\": \"quantitative\"}, \"x\": {\"field\": \"Error Difference\", \"stack\": \"zero\", \"type\": \"quantitative\"}, \"y\": {\"field\": \"Model\", \"type\": \"nominal\"}}, \"title\": \"Error Difference for Models\"}], \"data\": {\"name\": \"data-e312f1426091fbb628c7c7a07f8e1cd6\"}, \"$schema\": \"https://vega.github.io/schema/vega-lite/v4.17.0.json\", \"datasets\": {\"data-e312f1426091fbb628c7c7a07f8e1cd6\": [{\"Model\": \"Random Forest\", \"Error Difference\": 1.0261005783829269e-05}, {\"Model\": \"Logistic\", \"Error Difference\": 0.004511422209604987}, {\"Model\": \"XGBoost\", \"Error Difference\": 0.0005164706244505934}]}}, {\"mode\": \"vega-lite\"});\n",
       "</script>"
      ],
      "text/plain": [
       "alt.LayerChart(...)"
      ]
     },
     "execution_count": 123,
     "metadata": {},
     "output_type": "execute_result"
    }
   ],
   "source": [
    "import altair as alt\n",
    "import pandas as pd\n",
    "\n",
    "\n",
    "errors = pd.DataFrame({\n",
    "    'Model': ['Random Forest', 'Logistic', 'XGBoost'],\n",
    "    'Error Difference': [1 - error_rfc, 1 - error_log, 1 - error_xgbr]  # Differences from 1\n",
    "})\n",
    "\n",
    "# Create a horizontal bar chart\n",
    "bar_chart = alt.Chart(errors).mark_bar().encode(\n",
    "    y='Model:N',\n",
    "    x=alt.X('Error Difference:Q', axis=alt.Axis(format='.6f')),  \n",
    "    color='Model:N'\n",
    ").properties(\n",
    "    title='Error Difference for Models'\n",
    ")\n",
    "\n",
    "# Create text labels for the bars\n",
    "text = bar_chart.mark_text(\n",
    "    align='left',\n",
    "    baseline='middle',\n",
    "    dx=3  \n",
    ").encode(\n",
    "    x=alt.X('Error Difference:Q', stack='zero'), \n",
    "    y=alt.Y('Model:N'),\n",
    "    text=alt.Text('Error Difference:Q', format='.6f')  \n",
    ")\n",
    "\n",
    "chart_with_text = bar_chart + text\n",
    "\n",
    "chart_with_text\n",
    "\n"
   ]
  },
  {
   "cell_type": "markdown",
   "metadata": {
    "cell_id": "f2a9e9a6ce3841c6bd9c395ee5335d30",
    "deepnote_app_coordinates": {
     "h": 120,
     "w": 12,
     "x": 0,
     "y": 0
    },
    "deepnote_cell_type": "markdown"
   },
   "source": [
    "# 5.model evaluation"
   ]
  },
  {
   "cell_type": "markdown",
   "metadata": {
    "cell_id": "52d91efa3d0a4b198793176a6dee715d",
    "deepnote_app_coordinates": {
     "h": 120,
     "w": 12,
     "x": 0,
     "y": 0
    },
    "deepnote_cell_type": "markdown"
   },
   "source": [
    "**We will use accuracy_score, precision_score, recall_score,F1 score and AUC-ROC to decide whether it's a good model.**\n",
    "**accuracy_score**: This measures the overall correctness of the model by calculating the ratio of correctly predicted instances (both true positives and true negatives) to the total number of instances. A higher accuracy is better, but this metric can be misleading if the class distribution is imbalanced.\n",
    "\n",
    "**precision_score**: Precision assesses the model's ability to correctly identify only relevant instances. It is the ratio of true positives (correct positive predictions) to the sum of true and false positives (all positive predictions). A higher precision score is better and means fewer false positive errors.\n",
    "\n",
    "**recall_score**: Recall (or sensitivity) measures the model's ability to detect all relevant instances. It is the ratio of true positives to the sum of true positives and false negatives (all actual positive instances). A higher recall score is better, indicating fewer false negative errors.\n",
    "\n",
    "**f1_score**: The F1 score is a balanced measure that combines precision and recall. It is the harmonic mean of precision and recall, providing a single metric that accounts for both false positives and false negatives. A higher F1 score is better, indicating a balanced model in terms of precision and recall.\n",
    "\n",
    "**roc_auc_score**: The ROC (Receiver Operating Characteristic) AUC (Area Under the Curve) score measures a model's ability to distinguish between the classes. It is the probability that the model ranks a randomly chosen positive instance higher than a randomly chosen negative one. A higher AUC score is better, indicating a better distinction between positive and negative instances."
   ]
  },
  {
   "cell_type": "code",
   "execution_count": null,
   "metadata": {
    "cell_id": "03e745bf77034ff1a9cbc9e8409758b2",
    "deepnote_app_coordinates": {
     "h": 120,
     "w": 12,
     "x": 0,
     "y": 0
    },
    "deepnote_cell_type": "code",
    "deepnote_to_be_reexecuted": false,
    "execution_millis": 9,
    "execution_start": 1702174964663,
    "source_hash": null
   },
   "outputs": [],
   "source": [
    "from sklearn.metrics import accuracy_score, precision_score, recall_score, f1_score, roc_auc_score"
   ]
  },
  {
   "cell_type": "markdown",
   "metadata": {
    "cell_id": "68501e859df4418f914a0d77918e15b4",
    "deepnote_app_coordinates": {
     "h": 120,
     "w": 12,
     "x": 0,
     "y": 0
    },
    "deepnote_cell_type": "markdown"
   },
   "source": [
    "## XGBoost"
   ]
  },
  {
   "cell_type": "code",
   "execution_count": null,
   "metadata": {
    "cell_id": "843703bc2ab042f6a230a1ea4e096306",
    "deepnote_app_coordinates": {
     "h": 120,
     "w": 12,
     "x": 0,
     "y": 0
    },
    "deepnote_cell_type": "code",
    "deepnote_to_be_reexecuted": false,
    "execution_millis": 434,
    "execution_start": 1702174967000,
    "source_hash": null
   },
   "outputs": [
    {
     "name": "stdout",
     "output_type": "stream",
     "text": [
      "Accuracy: 0.9994835293755494\n",
      "precision: 0.9476600985221675\n",
      "Recall: 0.9588785046728971\n",
      "F1 Score: 0.9532362960668938\n",
      "AUC-ROC: 0.998687124019304\n"
     ]
    }
   ],
   "source": [
    "accuracy = accuracy_score(y_test_xgb, y_pred_xgbr)\n",
    "precision = precision_score(y_test_xgb, y_pred_xgbr)\n",
    "recall = recall_score(y_test_xgb, y_pred_xgbr)\n",
    "f1 = f1_score(y_test_xgb, y_pred_xgbr)\n",
    "auc_roc = roc_auc_score(y_test_xgb, y_pred_proba_xgbr)\n",
    "\n",
    "print(\"Accuracy:\", accuracy)\n",
    "print(\"precision:\", precision)\n",
    "print(\"Recall:\", recall)\n",
    "print(\"F1 Score:\", f1)\n",
    "print(\"AUC-ROC:\", auc_roc)"
   ]
  },
  {
   "cell_type": "markdown",
   "metadata": {
    "cell_id": "2e636057afa248e2ad3df30ba257bdfe",
    "deepnote_app_coordinates": {
     "h": 120,
     "w": 12,
     "x": 0,
     "y": 0
    },
    "deepnote_cell_type": "markdown"
   },
   "source": [
    "## Logistic regression"
   ]
  },
  {
   "cell_type": "code",
   "execution_count": null,
   "metadata": {
    "cell_id": "363783e16c3e456e866f4c4d750d0e5d",
    "deepnote_app_coordinates": {
     "h": 120,
     "w": 12,
     "x": 0,
     "y": 0
    },
    "deepnote_cell_type": "code",
    "deepnote_to_be_reexecuted": false,
    "execution_millis": 506,
    "execution_start": 1702174970146,
    "source_hash": null
   },
   "outputs": [
    {
     "name": "stdout",
     "output_type": "stream",
     "text": [
      "Accuracy: 0.995488577790395\n",
      "precision: 0.5688824662813102\n",
      "Recall: 0.7358255451713396\n",
      "F1 Score: 0.6416734582993753\n",
      "AUC-ROC: 0.9495115510706759\n"
     ]
    }
   ],
   "source": [
    "accuracy = accuracy_score(y_test_log, y_pred_log)\n",
    "precision = precision_score(y_test_log, y_pred_log)\n",
    "recall = recall_score(y_test_log, y_pred_log)\n",
    "f1 = f1_score(y_test_log, y_pred_log)\n",
    "auc_roc = roc_auc_score(y_test_log, y_pred_proba_log)\n",
    "\n",
    "print(\"Accuracy:\", accuracy)\n",
    "print(\"precision:\", precision)\n",
    "print(\"Recall:\", recall)\n",
    "print(\"F1 Score:\", f1)\n",
    "print(\"AUC-ROC:\", auc_roc)"
   ]
  },
  {
   "cell_type": "markdown",
   "metadata": {
    "cell_id": "bd94a1caeea24ebfb5734b16624410dd",
    "deepnote_app_coordinates": {
     "h": 120,
     "w": 12,
     "x": 0,
     "y": 0
    },
    "deepnote_cell_type": "markdown"
   },
   "source": [
    "## random forest"
   ]
  },
  {
   "cell_type": "code",
   "execution_count": null,
   "metadata": {
    "cell_id": "6ac154c509164c56aaff75895160a42c",
    "deepnote_app_coordinates": {
     "h": 120,
     "w": 12,
     "x": 0,
     "y": 0
    },
    "deepnote_cell_type": "code",
    "deepnote_to_be_reexecuted": false,
    "execution_millis": 407,
    "execution_start": 1702174974019,
    "source_hash": null
   },
   "outputs": [
    {
     "name": "stdout",
     "output_type": "stream",
     "text": [
      "Accuracy: 0.9999897389942162\n",
      "precision: 1.0\n",
      "Recall: 0.9981308411214953\n",
      "F1 Score: 0.9990645463049579\n",
      "AUC-ROC: 0.9990651055671961\n"
     ]
    }
   ],
   "source": [
    "accuracy = accuracy_score(y_test_rfc, y_pred_rfc)\n",
    "precision = precision_score(y_test_rfc, y_pred_rfc)\n",
    "recall = recall_score(y_test_rfc, y_pred_rfc)\n",
    "f1 = f1_score(y_test_rfc, y_pred_rfc)\n",
    "auc_roc = roc_auc_score(y_test_rfc, y_pred_proba_rfc)\n",
    "\n",
    "print(\"Accuracy:\", accuracy)\n",
    "print(\"precision:\", precision)\n",
    "print(\"Recall:\", recall)\n",
    "print(\"F1 Score:\", f1)\n",
    "print(\"AUC-ROC:\", auc_roc)"
   ]
  },
  {
   "cell_type": "markdown",
   "metadata": {
    "cell_id": "aa1f2bdad53243068ad63da37f1f20f4",
    "deepnote_app_coordinates": {
     "h": 120,
     "w": 12,
     "x": 0,
     "y": 0
    },
    "deepnote_cell_type": "markdown"
   },
   "source": [
    "**Random forest shows the best prediction of fraud detection, and nearly all evaluation methods show the good predicition, the Xgboost is in the second place, and it shows a higher process time compared with the random forest, but presents more prediction failure, the logistic regression shows the worst result.**"
   ]
  },
  {
   "cell_type": "markdown",
   "metadata": {
    "cell_id": "67a777284db24fb9afb4cfac06c8c430",
    "deepnote_app_coordinates": {
     "h": 120,
     "w": 12,
     "x": 0,
     "y": 0
    },
    "deepnote_cell_type": "markdown",
    "tags": []
   },
   "source": [
    "## Summary\n",
    "\n",
    "Either summarize what you did, or summarize the results.  Maybe 3 sentences."
   ]
  },
  {
   "cell_type": "markdown",
   "metadata": {
    "cell_id": "68f3dd53d2f04954b24ae668bb748f12",
    "deepnote_app_coordinates": {
     "h": 120,
     "w": 12,
     "x": 0,
     "y": 0
    },
    "deepnote_cell_type": "markdown"
   },
   "source": [
    "**In this project, we select features to predict the fraud. Firstly, we use quantitative method to get the most-related variables and feasible dataset, and then use xgboost, logistic regression and random forest to predict the fraud and their effectiveness, and shows a good result on random forest. This project can give instructions for fraud detection.**"
   ]
  },
  {
   "cell_type": "markdown",
   "metadata": {
    "cell_id": "f213ca00e7a14e4fb99b010abf98247d",
    "deepnote_app_coordinates": {
     "h": 120,
     "w": 12,
     "x": 0,
     "y": 0
    },
    "deepnote_cell_type": "markdown",
    "tags": []
   },
   "source": [
    "## References\n",
    "\n",
    "Your code above should include references.  Here is some additional space for references."
   ]
  },
  {
   "cell_type": "markdown",
   "metadata": {
    "cell_id": "978e6e8e153048fc960dcb329fc4791c",
    "deepnote_app_coordinates": {
     "h": 120,
     "w": 12,
     "x": 0,
     "y": 0
    },
    "deepnote_cell_type": "markdown",
    "tags": []
   },
   "source": [
    "* What is the source of your dataset(s)?"
   ]
  },
  {
   "cell_type": "markdown",
   "metadata": {
    "cell_id": "8608a85ff6b241fbb35ded0ff6e84f03",
    "deepnote_app_coordinates": {
     "h": 120,
     "w": 12,
     "x": 0,
     "y": 0
    },
    "deepnote_cell_type": "markdown"
   },
   "source": [
    "https://www.kaggle.com/datasets/ealaxi/paysim1"
   ]
  },
  {
   "cell_type": "markdown",
   "metadata": {
    "cell_id": "435aacc428914d43b2de924261d0bc21",
    "deepnote_app_coordinates": {
     "h": 120,
     "w": 12,
     "x": 0,
     "y": 0
    },
    "deepnote_cell_type": "markdown",
    "deepnote_to_be_reexecuted": false,
    "execution_millis": 0,
    "execution_start": 1652916033453,
    "source_hash": "aa45eba7",
    "tags": []
   },
   "source": [
    "* List any other references that you found helpful."
   ]
  },
  {
   "cell_type": "markdown",
   "metadata": {
    "cell_id": "25f87a120e98465087a91686167817d0",
    "deepnote_app_coordinates": {
     "h": 120,
     "w": 12,
     "x": 0,
     "y": 0
    },
    "deepnote_cell_type": "markdown"
   },
   "source": [
    "XGBoost: https://xgboost.readthedocs.io/en/stable/\n",
    "accuracy:https://scikit-learn.org/stable/modules/model_evaluation.html#accuracy-score\n",
    "recall:https://scikit-learn.org/stable/modules/generated/sklearn.metrics.recall_score.html#sklearn.metrics.recall_score\n",
    "F1:https://scikit-learn.org/stable/modules/generated/sklearn.metrics.f1_score.html\n",
    "AUC-ROC:https://scikit-learn.org/stable/modules/generated/sklearn.metrics.roc_auc_score.html#sklearn.metrics.roc_auc_score\n",
    "confusion matrix:https://scikit-learn.org/stable/modules/model_evaluation.html#confusion-matrix"
   ]
  }
 ],
 "metadata": {
  "deepnote": {
   "is_reactive": false
  },
  "deepnote_app_layout": "powerful-article",
  "deepnote_execution_queue": [],
  "deepnote_notebook_id": "205e6f5959c243ceb7ebdfbb2c78c7c9",
  "language_info": {
   "name": "python"
  }
 },
 "nbformat": 4,
 "nbformat_minor": 0
}