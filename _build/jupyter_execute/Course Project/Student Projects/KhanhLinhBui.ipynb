{
 "cells": [
  {
   "cell_type": "markdown",
   "metadata": {
    "cell_id": "da37514ddda3413a8257f2a6f9dd1bb4",
    "deepnote_cell_type": "markdown",
    "tags": []
   },
   "source": [
    "# Gender Inequality\n",
    "\n",
    "Author: Khanh Linh Bui\n",
    "\n",
    "Course Project, UC Irvine, Math 10, F23"
   ]
  },
  {
   "cell_type": "markdown",
   "metadata": {
    "cell_id": "2bd365db0ac242bc9d19190f5b81ab70",
    "deepnote_cell_type": "markdown",
    "tags": []
   },
   "source": [
    "## Introduction\n",
    "\n",
    "\n",
    "My project revolves around addressing gender inequality globally by presenting and comparing data related to the Gender Inequality Index (GII) across different countries. Additionally, I have implemented a machine learning model that predicts the GII by leveraging the feature of female secondary education, offering insights into classifying human development levels based on specific criteria. Through these efforts, my project aims to contribute to a comprehensive understanding of gender disparities and human development patterns worldwide. "
   ]
  },
  {
   "cell_type": "markdown",
   "metadata": {
    "cell_id": "2a58044a5e8447aaa987c78a209780c1",
    "deepnote_cell_type": "markdown",
    "tags": []
   },
   "source": [
    "## Gender Inequality Around The World\n"
   ]
  },
  {
   "cell_type": "markdown",
   "metadata": {
    "cell_id": "aff0760656c74caeb074eb7aedd67a43",
    "deepnote_cell_type": "text-cell-h2",
    "formattedRanges": []
   },
   "source": [
    "## I. Data Cleaning"
   ]
  },
  {
   "cell_type": "code",
   "execution_count": null,
   "metadata": {
    "cell_id": "d142e4e513b44d3c81588ed940d60906",
    "deepnote_cell_type": "code",
    "deepnote_to_be_reexecuted": false,
    "execution_millis": 2575,
    "execution_start": 1702538876960,
    "source_hash": null
   },
   "outputs": [],
   "source": [
    "# import library\n",
    "import pandas as pd\n",
    "import numpy as np\n",
    "import altair as alt\n",
    "import seaborn as sns\n",
    "import matplotlib.pyplot as plt\n",
    "import plotly.graph_objects as go\n",
    "from sklearn.linear_model import LinearRegression\n"
   ]
  },
  {
   "cell_type": "code",
   "execution_count": null,
   "metadata": {
    "cell_id": "dbb9daa9d6f44b8cb07854ecd8d68cd9",
    "deepnote_cell_type": "code",
    "deepnote_to_be_reexecuted": false,
    "execution_millis": 323,
    "execution_start": 1702538880268,
    "source_hash": null
   },
   "outputs": [
    {
     "data": {
      "application/vnd.deepnote.dataframe.v3+json": {
       "column_count": 11,
       "columns": [
        {
         "dtype": "object",
         "name": "Country",
         "stats": {
          "categories": [
           {
            "count": 1,
            "name": "Switzerland"
           },
           {
            "count": 1,
            "name": "Norway"
           },
           {
            "count": 3,
            "name": "3 others"
           }
          ],
          "nan_count": 0,
          "unique_count": 5
         }
        },
        {
         "dtype": "object",
         "name": "Human_development",
         "stats": {
          "categories": [
           {
            "count": 5,
            "name": "Very high"
           }
          ],
          "nan_count": 0,
          "unique_count": 1
         }
        },
        {
         "dtype": "float64",
         "name": "GII",
         "stats": {
          "histogram": [
           {
            "bin_end": 0.019,
            "bin_start": 0.013,
            "count": 3
           },
           {
            "bin_end": 0.025,
            "bin_start": 0.019,
            "count": 0
           },
           {
            "bin_end": 0.031,
            "bin_start": 0.025,
            "count": 0
           },
           {
            "bin_end": 0.037,
            "bin_start": 0.031,
            "count": 0
           },
           {
            "bin_end": 0.043,
            "bin_start": 0.037,
            "count": 0
           },
           {
            "bin_end": 0.049,
            "bin_start": 0.043,
            "count": 1
           },
           {
            "bin_end": 0.055,
            "bin_start": 0.049,
            "count": 0
           },
           {
            "bin_end": 0.061,
            "bin_start": 0.055,
            "count": 0
           },
           {
            "bin_end": 0.067,
            "bin_start": 0.061,
            "count": 0
           },
           {
            "bin_end": 0.073,
            "bin_start": 0.067,
            "count": 1
           }
          ],
          "max": "0.073",
          "min": "0.013",
          "nan_count": 0,
          "unique_count": 5
         }
        },
        {
         "dtype": "float64",
         "name": "Rank",
         "stats": {
          "histogram": [
           {
            "bin_end": 2.8,
            "bin_start": 1,
            "count": 2
           },
           {
            "bin_end": 4.6,
            "bin_start": 2.8,
            "count": 1
           },
           {
            "bin_end": 6.4,
            "bin_start": 4.6,
            "count": 0
           },
           {
            "bin_end": 8.2,
            "bin_start": 6.4,
            "count": 1
           },
           {
            "bin_end": 10,
            "bin_start": 8.2,
            "count": 0
           },
           {
            "bin_end": 11.8,
            "bin_start": 10,
            "count": 0
           },
           {
            "bin_end": 13.6,
            "bin_start": 11.8,
            "count": 0
           },
           {
            "bin_end": 15.4,
            "bin_start": 13.6,
            "count": 0
           },
           {
            "bin_end": 17.2,
            "bin_start": 15.4,
            "count": 0
           },
           {
            "bin_end": 19,
            "bin_start": 17.2,
            "count": 1
           }
          ],
          "max": "19.0",
          "min": "1.0",
          "nan_count": 0,
          "unique_count": 5
         }
        },
        {
         "dtype": "float64",
         "name": "Maternal_mortality",
         "stats": {
          "histogram": [
           {
            "bin_end": 2.4,
            "bin_start": 2,
            "count": 1
           },
           {
            "bin_end": 2.8,
            "bin_start": 2.4,
            "count": 0
           },
           {
            "bin_end": 3.2,
            "bin_start": 2.8,
            "count": 0
           },
           {
            "bin_end": 3.6,
            "bin_start": 3.2,
            "count": 0
           },
           {
            "bin_end": 4,
            "bin_start": 3.6,
            "count": 0
           },
           {
            "bin_end": 4.4,
            "bin_start": 4,
            "count": 2
           },
           {
            "bin_end": 4.800000000000001,
            "bin_start": 4.4,
            "count": 0
           },
           {
            "bin_end": 5.2,
            "bin_start": 4.800000000000001,
            "count": 1
           },
           {
            "bin_end": 5.6,
            "bin_start": 5.2,
            "count": 0
           },
           {
            "bin_end": 6,
            "bin_start": 5.6,
            "count": 1
           }
          ],
          "max": "6.0",
          "min": "2.0",
          "nan_count": 0,
          "unique_count": 4
         }
        },
        {
         "dtype": "float64",
         "name": "Adolescent_birth_rate",
         "stats": {
          "histogram": [
           {
            "bin_end": 2.5199999999999996,
            "bin_start": 1.9,
            "count": 3
           },
           {
            "bin_end": 3.1399999999999997,
            "bin_start": 2.5199999999999996,
            "count": 0
           },
           {
            "bin_end": 3.76,
            "bin_start": 3.1399999999999997,
            "count": 0
           },
           {
            "bin_end": 4.379999999999999,
            "bin_start": 3.76,
            "count": 0
           },
           {
            "bin_end": 5,
            "bin_start": 4.379999999999999,
            "count": 0
           },
           {
            "bin_end": 5.619999999999999,
            "bin_start": 5,
            "count": 1
           },
           {
            "bin_end": 6.239999999999998,
            "bin_start": 5.619999999999999,
            "count": 0
           },
           {
            "bin_end": 6.859999999999999,
            "bin_start": 6.239999999999998,
            "count": 0
           },
           {
            "bin_end": 7.479999999999999,
            "bin_start": 6.859999999999999,
            "count": 0
           },
           {
            "bin_end": 8.1,
            "bin_start": 7.479999999999999,
            "count": 1
           }
          ],
          "max": "8.1",
          "min": "1.9",
          "nan_count": 0,
          "unique_count": 5
         }
        },
        {
         "dtype": "float64",
         "name": "Seats_parliament",
         "stats": {
          "histogram": [
           {
            "bin_end": 38.87,
            "bin_start": 37.9,
            "count": 1
           },
           {
            "bin_end": 39.839999999999996,
            "bin_start": 38.87,
            "count": 2
           },
           {
            "bin_end": 40.81,
            "bin_start": 39.839999999999996,
            "count": 0
           },
           {
            "bin_end": 41.78,
            "bin_start": 40.81,
            "count": 0
           },
           {
            "bin_end": 42.75,
            "bin_start": 41.78,
            "count": 0
           },
           {
            "bin_end": 43.72,
            "bin_start": 42.75,
            "count": 0
           },
           {
            "bin_end": 44.69,
            "bin_start": 43.72,
            "count": 0
           },
           {
            "bin_end": 45.660000000000004,
            "bin_start": 44.69,
            "count": 1
           },
           {
            "bin_end": 46.63,
            "bin_start": 45.660000000000004,
            "count": 0
           },
           {
            "bin_end": 47.6,
            "bin_start": 46.63,
            "count": 1
           }
          ],
          "max": "47.6",
          "min": "37.9",
          "nan_count": 0,
          "unique_count": 5
         }
        },
        {
         "dtype": "float64",
         "name": "F_secondary_educ",
         "stats": {
          "histogram": [
           {
            "bin_end": 95.11999999999999,
            "bin_start": 94.6,
            "count": 2
           },
           {
            "bin_end": 95.64,
            "bin_start": 95.11999999999999,
            "count": 0
           },
           {
            "bin_end": 96.16,
            "bin_start": 95.64,
            "count": 0
           },
           {
            "bin_end": 96.67999999999999,
            "bin_start": 96.16,
            "count": 0
           },
           {
            "bin_end": 97.19999999999999,
            "bin_start": 96.67999999999999,
            "count": 1
           },
           {
            "bin_end": 97.72,
            "bin_start": 97.19999999999999,
            "count": 0
           },
           {
            "bin_end": 98.24,
            "bin_start": 97.72,
            "count": 0
           },
           {
            "bin_end": 98.75999999999999,
            "bin_start": 98.24,
            "count": 0
           },
           {
            "bin_end": 99.28,
            "bin_start": 98.75999999999999,
            "count": 1
           },
           {
            "bin_end": 99.8,
            "bin_start": 99.28,
            "count": 1
           }
          ],
          "max": "99.8",
          "min": "94.6",
          "nan_count": 0,
          "unique_count": 5
         }
        },
        {
         "dtype": "float64",
         "name": "M_secondary_educ",
         "stats": {
          "histogram": [
           {
            "bin_end": 94.93,
            "bin_start": 94.4,
            "count": 1
           },
           {
            "bin_end": 95.46000000000001,
            "bin_start": 94.93,
            "count": 1
           },
           {
            "bin_end": 95.99000000000001,
            "bin_start": 95.46000000000001,
            "count": 0
           },
           {
            "bin_end": 96.52000000000001,
            "bin_start": 95.99000000000001,
            "count": 0
           },
           {
            "bin_end": 97.05000000000001,
            "bin_start": 96.52000000000001,
            "count": 0
           },
           {
            "bin_end": 97.58,
            "bin_start": 97.05000000000001,
            "count": 1
           },
           {
            "bin_end": 98.11,
            "bin_start": 97.58,
            "count": 0
           },
           {
            "bin_end": 98.64,
            "bin_start": 98.11,
            "count": 0
           },
           {
            "bin_end": 99.17,
            "bin_start": 98.64,
            "count": 0
           },
           {
            "bin_end": 99.7,
            "bin_start": 99.17,
            "count": 2
           }
          ],
          "max": "99.7",
          "min": "94.4",
          "nan_count": 0,
          "unique_count": 5
         }
        },
        {
         "dtype": "float64",
         "name": "F_Labour_force",
         "stats": {
          "histogram": [
           {
            "bin_end": 58.1,
            "bin_start": 57.7,
            "count": 1
           },
           {
            "bin_end": 58.5,
            "bin_start": 58.1,
            "count": 0
           },
           {
            "bin_end": 58.900000000000006,
            "bin_start": 58.5,
            "count": 0
           },
           {
            "bin_end": 59.300000000000004,
            "bin_start": 58.900000000000006,
            "count": 0
           },
           {
            "bin_end": 59.7,
            "bin_start": 59.300000000000004,
            "count": 0
           },
           {
            "bin_end": 60.1,
            "bin_start": 59.7,
            "count": 0
           },
           {
            "bin_end": 60.5,
            "bin_start": 60.1,
            "count": 1
           },
           {
            "bin_end": 60.900000000000006,
            "bin_start": 60.5,
            "count": 0
           },
           {
            "bin_end": 61.300000000000004,
            "bin_start": 60.900000000000006,
            "count": 1
           },
           {
            "bin_end": 61.7,
            "bin_start": 61.300000000000004,
            "count": 2
           }
          ],
          "max": "61.7",
          "min": "57.7",
          "nan_count": 0,
          "unique_count": 4
         }
        },
        {
         "dtype": "float64",
         "name": "M_Labour_force",
         "stats": {
          "histogram": [
           {
            "bin_end": 67.3,
            "bin_start": 66.7,
            "count": 1
           },
           {
            "bin_end": 67.9,
            "bin_start": 67.3,
            "count": 0
           },
           {
            "bin_end": 68.5,
            "bin_start": 67.9,
            "count": 0
           },
           {
            "bin_end": 69.10000000000001,
            "bin_start": 68.5,
            "count": 0
           },
           {
            "bin_end": 69.7,
            "bin_start": 69.10000000000001,
            "count": 0
           },
           {
            "bin_end": 70.3,
            "bin_start": 69.7,
            "count": 0
           },
           {
            "bin_end": 70.9,
            "bin_start": 70.3,
            "count": 2
           },
           {
            "bin_end": 71.5,
            "bin_start": 70.9,
            "count": 0
           },
           {
            "bin_end": 72.10000000000001,
            "bin_start": 71.5,
            "count": 1
           },
           {
            "bin_end": 72.7,
            "bin_start": 72.10000000000001,
            "count": 1
           }
          ],
          "max": "72.7",
          "min": "66.7",
          "nan_count": 0,
          "unique_count": 4
         }
        },
        {
         "dtype": "int64",
         "name": "_deepnote_index_column"
        }
       ],
       "row_count": 5,
       "rows": [
        {
         "Adolescent_birth_rate": 2.2,
         "Country": "Switzerland",
         "F_Labour_force": 61.7,
         "F_secondary_educ": 96.9,
         "GII": 0.018,
         "Human_development": "Very high",
         "M_Labour_force": 72.7,
         "M_secondary_educ": 97.5,
         "Maternal_mortality": 5,
         "Rank": 3,
         "Seats_parliament": 39.8,
         "_deepnote_index_column": 0
        },
        {
         "Adolescent_birth_rate": 2.3,
         "Country": "Norway",
         "F_Labour_force": 60.3,
         "F_secondary_educ": 99.1,
         "GII": 0.016,
         "Human_development": "Very high",
         "M_Labour_force": 72,
         "M_secondary_educ": 99.3,
         "Maternal_mortality": 2,
         "Rank": 2,
         "Seats_parliament": 45,
         "_deepnote_index_column": 1
        },
        {
         "Adolescent_birth_rate": 5.4,
         "Country": "Iceland",
         "F_Labour_force": 61.7,
         "F_secondary_educ": 99.8,
         "GII": 0.043,
         "Human_development": "Very high",
         "M_Labour_force": 70.5,
         "M_secondary_educ": 99.7,
         "Maternal_mortality": 4,
         "Rank": 8,
         "Seats_parliament": 47.6,
         "_deepnote_index_column": 2
        },
        {
         "Adolescent_birth_rate": 8.1,
         "Country": "Australia",
         "F_Labour_force": 61.1,
         "F_secondary_educ": 94.6,
         "GII": 0.073,
         "Human_development": "Very high",
         "M_Labour_force": 70.5,
         "M_secondary_educ": 94.4,
         "Maternal_mortality": 6,
         "Rank": 19,
         "Seats_parliament": 37.9,
         "_deepnote_index_column": 4
        },
        {
         "Adolescent_birth_rate": 1.9,
         "Country": "Denmark",
         "F_Labour_force": 57.7,
         "F_secondary_educ": 95.1,
         "GII": 0.013,
         "Human_development": "Very high",
         "M_Labour_force": 66.7,
         "M_secondary_educ": 95.2,
         "Maternal_mortality": 4,
         "Rank": 1,
         "Seats_parliament": 39.7,
         "_deepnote_index_column": 5
        }
       ]
      },
      "text/html": [
       "<div>\n",
       "<style scoped>\n",
       "    .dataframe tbody tr th:only-of-type {\n",
       "        vertical-align: middle;\n",
       "    }\n",
       "\n",
       "    .dataframe tbody tr th {\n",
       "        vertical-align: top;\n",
       "    }\n",
       "\n",
       "    .dataframe thead th {\n",
       "        text-align: right;\n",
       "    }\n",
       "</style>\n",
       "<table border=\"1\" class=\"dataframe\">\n",
       "  <thead>\n",
       "    <tr style=\"text-align: right;\">\n",
       "      <th></th>\n",
       "      <th>Country</th>\n",
       "      <th>Human_development</th>\n",
       "      <th>GII</th>\n",
       "      <th>Rank</th>\n",
       "      <th>Maternal_mortality</th>\n",
       "      <th>Adolescent_birth_rate</th>\n",
       "      <th>Seats_parliament</th>\n",
       "      <th>F_secondary_educ</th>\n",
       "      <th>M_secondary_educ</th>\n",
       "      <th>F_Labour_force</th>\n",
       "      <th>M_Labour_force</th>\n",
       "    </tr>\n",
       "  </thead>\n",
       "  <tbody>\n",
       "    <tr>\n",
       "      <th>0</th>\n",
       "      <td>Switzerland</td>\n",
       "      <td>Very high</td>\n",
       "      <td>0.018</td>\n",
       "      <td>3.0</td>\n",
       "      <td>5.0</td>\n",
       "      <td>2.2</td>\n",
       "      <td>39.8</td>\n",
       "      <td>96.9</td>\n",
       "      <td>97.5</td>\n",
       "      <td>61.7</td>\n",
       "      <td>72.7</td>\n",
       "    </tr>\n",
       "    <tr>\n",
       "      <th>1</th>\n",
       "      <td>Norway</td>\n",
       "      <td>Very high</td>\n",
       "      <td>0.016</td>\n",
       "      <td>2.0</td>\n",
       "      <td>2.0</td>\n",
       "      <td>2.3</td>\n",
       "      <td>45.0</td>\n",
       "      <td>99.1</td>\n",
       "      <td>99.3</td>\n",
       "      <td>60.3</td>\n",
       "      <td>72.0</td>\n",
       "    </tr>\n",
       "    <tr>\n",
       "      <th>2</th>\n",
       "      <td>Iceland</td>\n",
       "      <td>Very high</td>\n",
       "      <td>0.043</td>\n",
       "      <td>8.0</td>\n",
       "      <td>4.0</td>\n",
       "      <td>5.4</td>\n",
       "      <td>47.6</td>\n",
       "      <td>99.8</td>\n",
       "      <td>99.7</td>\n",
       "      <td>61.7</td>\n",
       "      <td>70.5</td>\n",
       "    </tr>\n",
       "    <tr>\n",
       "      <th>4</th>\n",
       "      <td>Australia</td>\n",
       "      <td>Very high</td>\n",
       "      <td>0.073</td>\n",
       "      <td>19.0</td>\n",
       "      <td>6.0</td>\n",
       "      <td>8.1</td>\n",
       "      <td>37.9</td>\n",
       "      <td>94.6</td>\n",
       "      <td>94.4</td>\n",
       "      <td>61.1</td>\n",
       "      <td>70.5</td>\n",
       "    </tr>\n",
       "    <tr>\n",
       "      <th>5</th>\n",
       "      <td>Denmark</td>\n",
       "      <td>Very high</td>\n",
       "      <td>0.013</td>\n",
       "      <td>1.0</td>\n",
       "      <td>4.0</td>\n",
       "      <td>1.9</td>\n",
       "      <td>39.7</td>\n",
       "      <td>95.1</td>\n",
       "      <td>95.2</td>\n",
       "      <td>57.7</td>\n",
       "      <td>66.7</td>\n",
       "    </tr>\n",
       "  </tbody>\n",
       "</table>\n",
       "</div>"
      ],
      "text/plain": [
       "       Country Human_development    GII  Rank  Maternal_mortality  \\\n",
       "0  Switzerland         Very high  0.018   3.0                 5.0   \n",
       "1       Norway         Very high  0.016   2.0                 2.0   \n",
       "2      Iceland         Very high  0.043   8.0                 4.0   \n",
       "4    Australia         Very high  0.073  19.0                 6.0   \n",
       "5      Denmark         Very high  0.013   1.0                 4.0   \n",
       "\n",
       "   Adolescent_birth_rate  Seats_parliament  F_secondary_educ  \\\n",
       "0                    2.2              39.8              96.9   \n",
       "1                    2.3              45.0              99.1   \n",
       "2                    5.4              47.6              99.8   \n",
       "4                    8.1              37.9              94.6   \n",
       "5                    1.9              39.7              95.1   \n",
       "\n",
       "   M_secondary_educ  F_Labour_force  M_Labour_force  \n",
       "0              97.5            61.7            72.7  \n",
       "1              99.3            60.3            72.0  \n",
       "2              99.7            61.7            70.5  \n",
       "4              94.4            61.1            70.5  \n",
       "5              95.2            57.7            66.7  "
      ]
     },
     "execution_count": 3,
     "metadata": {},
     "output_type": "execute_result"
    }
   ],
   "source": [
    "df = pd.read_csv(\"Gender_Inequality_Index.csv\")\n",
    "df = df.dropna()\n",
    "df = df.drop_duplicates()\n",
    "df.head(5)"
   ]
  },
  {
   "cell_type": "code",
   "execution_count": null,
   "metadata": {
    "cell_id": "97b4f1c9e143430dae91b86419dd0730",
    "deepnote_cell_type": "code",
    "deepnote_to_be_reexecuted": false,
    "execution_millis": 9,
    "execution_start": 1702538882797,
    "source_hash": null
   },
   "outputs": [
    {
     "data": {
      "text/plain": [
       "(170, 11)"
      ]
     },
     "execution_count": 4,
     "metadata": {},
     "output_type": "execute_result"
    }
   ],
   "source": [
    "df.shape"
   ]
  },
  {
   "cell_type": "markdown",
   "metadata": {
    "cell_id": "59a2884544a4468398e176943c86f82a",
    "deepnote_cell_type": "text-cell-h2",
    "formattedRanges": []
   },
   "source": [
    "## II. Data Visualization"
   ]
  },
  {
   "cell_type": "code",
   "execution_count": null,
   "metadata": {
    "cell_id": "5d7dc4148615478ca9234807bfaf81eb",
    "deepnote_cell_type": "code",
    "deepnote_to_be_reexecuted": false,
    "execution_millis": 18,
    "execution_start": 1702538888908,
    "source_hash": null
   },
   "outputs": [
    {
     "data": {
      "text/plain": [
       "Country                   object\n",
       "Human_development         object\n",
       "GII                      float64\n",
       "Rank                     float64\n",
       "Maternal_mortality       float64\n",
       "Adolescent_birth_rate    float64\n",
       "Seats_parliament         float64\n",
       "F_secondary_educ         float64\n",
       "M_secondary_educ         float64\n",
       "F_Labour_force           float64\n",
       "M_Labour_force           float64\n",
       "dtype: object"
      ]
     },
     "execution_count": 5,
     "metadata": {},
     "output_type": "execute_result"
    }
   ],
   "source": [
    "df.dtypes"
   ]
  },
  {
   "cell_type": "code",
   "execution_count": null,
   "metadata": {
    "cell_id": "39311f75b39f47e99fda909ac3c8825c",
    "deepnote_cell_type": "code",
    "deepnote_to_be_reexecuted": false,
    "execution_millis": 30,
    "execution_start": 1702538891918,
    "source_hash": null
   },
   "outputs": [
    {
     "name": "stdout",
     "output_type": "stream",
     "text": [
      "<class 'pandas.core.frame.DataFrame'>\n",
      "Int64Index: 170 entries, 0 to 190\n",
      "Data columns (total 11 columns):\n",
      " #   Column                 Non-Null Count  Dtype  \n",
      "---  ------                 --------------  -----  \n",
      " 0   Country                170 non-null    object \n",
      " 1   Human_development      170 non-null    object \n",
      " 2   GII                    170 non-null    float64\n",
      " 3   Rank                   170 non-null    float64\n",
      " 4   Maternal_mortality     170 non-null    float64\n",
      " 5   Adolescent_birth_rate  170 non-null    float64\n",
      " 6   Seats_parliament       170 non-null    float64\n",
      " 7   F_secondary_educ       170 non-null    float64\n",
      " 8   M_secondary_educ       170 non-null    float64\n",
      " 9   F_Labour_force         170 non-null    float64\n",
      " 10  M_Labour_force         170 non-null    float64\n",
      "dtypes: float64(9), object(2)\n",
      "memory usage: 15.9+ KB\n"
     ]
    }
   ],
   "source": [
    "df.info()"
   ]
  },
  {
   "cell_type": "code",
   "execution_count": null,
   "metadata": {
    "cell_id": "a169e156439a4ce6bcc02617f1f9e245",
    "deepnote_cell_type": "code",
    "deepnote_to_be_reexecuted": false,
    "execution_millis": 9,
    "execution_start": 1702538894628,
    "source_hash": null
   },
   "outputs": [
    {
     "data": {
      "text/plain": [
       "array(['Very high', 'High', 'Medium', 'Low'], dtype=object)"
      ]
     },
     "execution_count": 7,
     "metadata": {},
     "output_type": "execute_result"
    }
   ],
   "source": [
    "df['Human_development'].unique()"
   ]
  },
  {
   "cell_type": "markdown",
   "metadata": {
    "cell_id": "78f0b54bf15c4f09a81145aefd1484db",
    "deepnote_cell_type": "text-cell-h1",
    "formattedRanges": []
   },
   "source": [
    "# a) Overview of dataset"
   ]
  },
  {
   "cell_type": "code",
   "execution_count": null,
   "metadata": {
    "cell_id": "76a22ef1895d4b9eaa4dc0026894431e",
    "deepnote_cell_type": "code",
    "deepnote_to_be_reexecuted": false,
    "execution_millis": 79,
    "execution_start": 1702538896852,
    "source_hash": null
   },
   "outputs": [
    {
     "data": {
      "text/html": [
       "\n",
       "<div id=\"altair-viz-bff912d8b1bc4469bee989f7cdab9848\"></div>\n",
       "<script type=\"text/javascript\">\n",
       "  var VEGA_DEBUG = (typeof VEGA_DEBUG == \"undefined\") ? {} : VEGA_DEBUG;\n",
       "  (function(spec, embedOpt){\n",
       "    let outputDiv = document.currentScript.previousElementSibling;\n",
       "    if (outputDiv.id !== \"altair-viz-bff912d8b1bc4469bee989f7cdab9848\") {\n",
       "      outputDiv = document.getElementById(\"altair-viz-bff912d8b1bc4469bee989f7cdab9848\");\n",
       "    }\n",
       "    const paths = {\n",
       "      \"vega\": \"https://cdn.jsdelivr.net/npm//vega@5?noext\",\n",
       "      \"vega-lib\": \"https://cdn.jsdelivr.net/npm//vega-lib?noext\",\n",
       "      \"vega-lite\": \"https://cdn.jsdelivr.net/npm//vega-lite@4.17.0?noext\",\n",
       "      \"vega-embed\": \"https://cdn.jsdelivr.net/npm//vega-embed@6?noext\",\n",
       "    };\n",
       "\n",
       "    function maybeLoadScript(lib, version) {\n",
       "      var key = `${lib.replace(\"-\", \"\")}_version`;\n",
       "      return (VEGA_DEBUG[key] == version) ?\n",
       "        Promise.resolve(paths[lib]) :\n",
       "        new Promise(function(resolve, reject) {\n",
       "          var s = document.createElement('script');\n",
       "          document.getElementsByTagName(\"head\")[0].appendChild(s);\n",
       "          s.async = true;\n",
       "          s.onload = () => {\n",
       "            VEGA_DEBUG[key] = version;\n",
       "            return resolve(paths[lib]);\n",
       "          };\n",
       "          s.onerror = () => reject(`Error loading script: ${paths[lib]}`);\n",
       "          s.src = paths[lib];\n",
       "        });\n",
       "    }\n",
       "\n",
       "    function showError(err) {\n",
       "      outputDiv.innerHTML = `<div class=\"error\" style=\"color:red;\">${err}</div>`;\n",
       "      throw err;\n",
       "    }\n",
       "\n",
       "    function displayChart(vegaEmbed) {\n",
       "      vegaEmbed(outputDiv, spec, embedOpt)\n",
       "        .catch(err => showError(`Javascript Error: ${err.message}<br>This usually means there's a typo in your chart specification. See the javascript console for the full traceback.`));\n",
       "    }\n",
       "\n",
       "    if(typeof define === \"function\" && define.amd) {\n",
       "      requirejs.config({paths});\n",
       "      require([\"vega-embed\"], displayChart, err => showError(`Error loading script: ${err.message}`));\n",
       "    } else {\n",
       "      maybeLoadScript(\"vega\", \"5\")\n",
       "        .then(() => maybeLoadScript(\"vega-lite\", \"4.17.0\"))\n",
       "        .then(() => maybeLoadScript(\"vega-embed\", \"6\"))\n",
       "        .catch(showError)\n",
       "        .then(() => displayChart(vegaEmbed));\n",
       "    }\n",
       "  })({\"config\": {\"view\": {\"continuousWidth\": 400, \"continuousHeight\": 300}}, \"data\": {\"name\": \"data-7316645c83824cd61b8ca237f3928afa\"}, \"mark\": \"bar\", \"encoding\": {\"color\": {\"field\": \"Human_development\", \"type\": \"nominal\"}, \"x\": {\"field\": \"Human_development\", \"type\": \"nominal\"}, \"y\": {\"field\": \"GII\", \"type\": \"quantitative\"}}, \"$schema\": \"https://vega.github.io/schema/vega-lite/v4.17.0.json\", \"datasets\": {\"data-7316645c83824cd61b8ca237f3928afa\": [{\"Country\": \"Switzerland\", \"Human_development\": \"Very high\", \"GII\": 0.018, \"Rank\": 3.0, \"Maternal_mortality\": 5.0, \"Adolescent_birth_rate\": 2.2, \"Seats_parliament\": 39.8, \"F_secondary_educ\": 96.9, \"M_secondary_educ\": 97.5, \"F_Labour_force\": 61.7, \"M_Labour_force\": 72.7}, {\"Country\": \"Norway\", \"Human_development\": \"Very high\", \"GII\": 0.016, \"Rank\": 2.0, \"Maternal_mortality\": 2.0, \"Adolescent_birth_rate\": 2.3, \"Seats_parliament\": 45.0, \"F_secondary_educ\": 99.1, \"M_secondary_educ\": 99.3, \"F_Labour_force\": 60.3, \"M_Labour_force\": 72.0}, {\"Country\": \"Iceland\", \"Human_development\": \"Very high\", \"GII\": 0.043, \"Rank\": 8.0, \"Maternal_mortality\": 4.0, \"Adolescent_birth_rate\": 5.4, \"Seats_parliament\": 47.6, \"F_secondary_educ\": 99.8, \"M_secondary_educ\": 99.7, \"F_Labour_force\": 61.7, \"M_Labour_force\": 70.5}, {\"Country\": \"Australia\", \"Human_development\": \"Very high\", \"GII\": 0.073, \"Rank\": 19.0, \"Maternal_mortality\": 6.0, \"Adolescent_birth_rate\": 8.1, \"Seats_parliament\": 37.9, \"F_secondary_educ\": 94.6, \"M_secondary_educ\": 94.4, \"F_Labour_force\": 61.1, \"M_Labour_force\": 70.5}, {\"Country\": \"Denmark\", \"Human_development\": \"Very high\", \"GII\": 0.013, \"Rank\": 1.0, \"Maternal_mortality\": 4.0, \"Adolescent_birth_rate\": 1.9, \"Seats_parliament\": 39.7, \"F_secondary_educ\": 95.1, \"M_secondary_educ\": 95.2, \"F_Labour_force\": 57.7, \"M_Labour_force\": 66.7}, {\"Country\": \"Sweden\", \"Human_development\": \"Very high\", \"GII\": 0.023, \"Rank\": 4.0, \"Maternal_mortality\": 4.0, \"Adolescent_birth_rate\": 3.3, \"Seats_parliament\": 47.0, \"F_secondary_educ\": 91.8, \"M_secondary_educ\": 92.2, \"F_Labour_force\": 61.7, \"M_Labour_force\": 68.0}, {\"Country\": \"Ireland\", \"Human_development\": \"Very high\", \"GII\": 0.074, \"Rank\": 21.0, \"Maternal_mortality\": 5.0, \"Adolescent_birth_rate\": 5.9, \"Seats_parliament\": 27.3, \"F_secondary_educ\": 88.1, \"M_secondary_educ\": 86.0, \"F_Labour_force\": 56.5, \"M_Labour_force\": 68.6}, {\"Country\": \"Germany\", \"Human_development\": \"Very high\", \"GII\": 0.073, \"Rank\": 19.0, \"Maternal_mortality\": 7.0, \"Adolescent_birth_rate\": 7.5, \"Seats_parliament\": 34.8, \"F_secondary_educ\": 96.1, \"M_secondary_educ\": 96.5, \"F_Labour_force\": 56.8, \"M_Labour_force\": 66.0}, {\"Country\": \"Netherlands\", \"Human_development\": \"Very high\", \"GII\": 0.025, \"Rank\": 5.0, \"Maternal_mortality\": 5.0, \"Adolescent_birth_rate\": 2.8, \"Seats_parliament\": 39.1, \"F_secondary_educ\": 89.8, \"M_secondary_educ\": 92.7, \"F_Labour_force\": 62.4, \"M_Labour_force\": 71.3}, {\"Country\": \"Finland\", \"Human_development\": \"Very high\", \"GII\": 0.033, \"Rank\": 6.0, \"Maternal_mortality\": 3.0, \"Adolescent_birth_rate\": 4.2, \"Seats_parliament\": 46.0, \"F_secondary_educ\": 99.0, \"M_secondary_educ\": 98.5, \"F_Labour_force\": 56.5, \"M_Labour_force\": 64.0}, {\"Country\": \"Singapore\", \"Human_development\": \"Very high\", \"GII\": 0.04, \"Rank\": 7.0, \"Maternal_mortality\": 8.0, \"Adolescent_birth_rate\": 2.6, \"Seats_parliament\": 29.8, \"F_secondary_educ\": 80.5, \"M_secondary_educ\": 85.9, \"F_Labour_force\": 59.4, \"M_Labour_force\": 76.8}, {\"Country\": \"Belgium\", \"Human_development\": \"Very high\", \"GII\": 0.048, \"Rank\": 10.0, \"Maternal_mortality\": 5.0, \"Adolescent_birth_rate\": 5.3, \"Seats_parliament\": 42.9, \"F_secondary_educ\": 87.2, \"M_secondary_educ\": 89.7, \"F_Labour_force\": 49.8, \"M_Labour_force\": 58.8}, {\"Country\": \"New Zealand\", \"Human_development\": \"Very high\", \"GII\": 0.088, \"Rank\": 25.0, \"Maternal_mortality\": 9.0, \"Adolescent_birth_rate\": 12.6, \"Seats_parliament\": 49.2, \"F_secondary_educ\": 82.0, \"M_secondary_educ\": 81.8, \"F_Labour_force\": 65.1, \"M_Labour_force\": 75.3}, {\"Country\": \"Canada\", \"Human_development\": \"Very high\", \"GII\": 0.069, \"Rank\": 17.0, \"Maternal_mortality\": 10.0, \"Adolescent_birth_rate\": 7.0, \"Seats_parliament\": 34.4, \"F_secondary_educ\": 100.0, \"M_secondary_educ\": 100.0, \"F_Labour_force\": 60.8, \"M_Labour_force\": 69.7}, {\"Country\": \"Luxembourg\", \"Human_development\": \"Very high\", \"GII\": 0.044, \"Rank\": 9.0, \"Maternal_mortality\": 5.0, \"Adolescent_birth_rate\": 4.3, \"Seats_parliament\": 35.0, \"F_secondary_educ\": 100.0, \"M_secondary_educ\": 100.0, \"F_Labour_force\": 58.5, \"M_Labour_force\": 65.5}, {\"Country\": \"United Kingdom\", \"Human_development\": \"Very high\", \"GII\": 0.098, \"Rank\": 27.0, \"Maternal_mortality\": 7.0, \"Adolescent_birth_rate\": 10.5, \"Seats_parliament\": 31.1, \"F_secondary_educ\": 99.8, \"M_secondary_educ\": 99.8, \"F_Labour_force\": 58.0, \"M_Labour_force\": 67.1}, {\"Country\": \"Japan\", \"Human_development\": \"Very high\", \"GII\": 0.083, \"Rank\": 22.0, \"Maternal_mortality\": 5.0, \"Adolescent_birth_rate\": 2.9, \"Seats_parliament\": 14.2, \"F_secondary_educ\": 95.9, \"M_secondary_educ\": 92.7, \"F_Labour_force\": 53.3, \"M_Labour_force\": 71.0}, {\"Country\": \"South Korea\", \"Human_development\": \"Very high\", \"GII\": 0.067, \"Rank\": 15.0, \"Maternal_mortality\": 11.0, \"Adolescent_birth_rate\": 2.2, \"Seats_parliament\": 19.0, \"F_secondary_educ\": 83.1, \"M_secondary_educ\": 93.1, \"F_Labour_force\": 53.4, \"M_Labour_force\": 72.4}, {\"Country\": \"United States\", \"Human_development\": \"Very high\", \"GII\": 0.179, \"Rank\": 44.0, \"Maternal_mortality\": 19.0, \"Adolescent_birth_rate\": 16.0, \"Seats_parliament\": 27.0, \"F_secondary_educ\": 96.5, \"M_secondary_educ\": 96.4, \"F_Labour_force\": 55.2, \"M_Labour_force\": 66.4}, {\"Country\": \"Israel\", \"Human_development\": \"Very high\", \"GII\": 0.083, \"Rank\": 22.0, \"Maternal_mortality\": 3.0, \"Adolescent_birth_rate\": 7.6, \"Seats_parliament\": 28.3, \"F_secondary_educ\": 91.6, \"M_secondary_educ\": 93.7, \"F_Labour_force\": 58.5, \"M_Labour_force\": 66.1}, {\"Country\": \"Malta\", \"Human_development\": \"Very high\", \"GII\": 0.167, \"Rank\": 42.0, \"Maternal_mortality\": 6.0, \"Adolescent_birth_rate\": 11.5, \"Seats_parliament\": 13.4, \"F_secondary_educ\": 82.2, \"M_secondary_educ\": 88.1, \"F_Labour_force\": 53.1, \"M_Labour_force\": 71.4}, {\"Country\": \"Slovenia\", \"Human_development\": \"Very high\", \"GII\": 0.071, \"Rank\": 18.0, \"Maternal_mortality\": 7.0, \"Adolescent_birth_rate\": 4.5, \"Seats_parliament\": 21.5, \"F_secondary_educ\": 97.6, \"M_secondary_educ\": 98.7, \"F_Labour_force\": 53.8, \"M_Labour_force\": 62.2}, {\"Country\": \"Austria\", \"Human_development\": \"Very high\", \"GII\": 0.053, \"Rank\": 12.0, \"Maternal_mortality\": 5.0, \"Adolescent_birth_rate\": 5.5, \"Seats_parliament\": 39.3, \"F_secondary_educ\": 100.0, \"M_secondary_educ\": 100.0, \"F_Labour_force\": 55.5, \"M_Labour_force\": 66.3}, {\"Country\": \"United Arab Emirates\", \"Human_development\": \"Very high\", \"GII\": 0.049, \"Rank\": 11.0, \"Maternal_mortality\": 3.0, \"Adolescent_birth_rate\": 3.1, \"Seats_parliament\": 50.0, \"F_secondary_educ\": 82.0, \"M_secondary_educ\": 85.6, \"F_Labour_force\": 46.5, \"M_Labour_force\": 88.0}, {\"Country\": \"Spain\", \"Human_development\": \"Very high\", \"GII\": 0.057, \"Rank\": 14.0, \"Maternal_mortality\": 4.0, \"Adolescent_birth_rate\": 6.3, \"Seats_parliament\": 42.3, \"F_secondary_educ\": 78.5, \"M_secondary_educ\": 83.2, \"F_Labour_force\": 52.7, \"M_Labour_force\": 62.4}, {\"Country\": \"France\", \"Human_development\": \"Very high\", \"GII\": 0.083, \"Rank\": 22.0, \"Maternal_mortality\": 8.0, \"Adolescent_birth_rate\": 9.5, \"Seats_parliament\": 37.8, \"F_secondary_educ\": 83.5, \"M_secondary_educ\": 87.9, \"F_Labour_force\": 51.9, \"M_Labour_force\": 59.7}, {\"Country\": \"Cyprus\", \"Human_development\": \"Very high\", \"GII\": 0.123, \"Rank\": 35.0, \"Maternal_mortality\": 6.0, \"Adolescent_birth_rate\": 6.8, \"Seats_parliament\": 14.3, \"F_secondary_educ\": 81.1, \"M_secondary_educ\": 84.8, \"F_Labour_force\": 56.6, \"M_Labour_force\": 68.8}, {\"Country\": \"Italy\", \"Human_development\": \"Very high\", \"GII\": 0.056, \"Rank\": 13.0, \"Maternal_mortality\": 2.0, \"Adolescent_birth_rate\": 4.0, \"Seats_parliament\": 35.3, \"F_secondary_educ\": 78.6, \"M_secondary_educ\": 86.1, \"F_Labour_force\": 39.9, \"M_Labour_force\": 57.6}, {\"Country\": \"Estonia\", \"Human_development\": \"Very high\", \"GII\": 0.1, \"Rank\": 28.0, \"Maternal_mortality\": 9.0, \"Adolescent_birth_rate\": 8.8, \"Seats_parliament\": 25.7, \"F_secondary_educ\": 97.6, \"M_secondary_educ\": 98.1, \"F_Labour_force\": 57.5, \"M_Labour_force\": 70.2}, {\"Country\": \"Czechia\", \"Human_development\": \"Very high\", \"GII\": 0.12, \"Rank\": 34.0, \"Maternal_mortality\": 3.0, \"Adolescent_birth_rate\": 9.7, \"Seats_parliament\": 22.1, \"F_secondary_educ\": 99.8, \"M_secondary_educ\": 99.8, \"F_Labour_force\": 51.7, \"M_Labour_force\": 68.1}, {\"Country\": \"Greece\", \"Human_development\": \"Very high\", \"GII\": 0.119, \"Rank\": 32.0, \"Maternal_mortality\": 3.0, \"Adolescent_birth_rate\": 8.5, \"Seats_parliament\": 21.7, \"F_secondary_educ\": 69.9, \"M_secondary_educ\": 77.8, \"F_Labour_force\": 43.3, \"M_Labour_force\": 58.1}, {\"Country\": \"Poland\", \"Human_development\": \"Very high\", \"GII\": 0.109, \"Rank\": 31.0, \"Maternal_mortality\": 2.0, \"Adolescent_birth_rate\": 9.7, \"Seats_parliament\": 27.5, \"F_secondary_educ\": 86.5, \"M_secondary_educ\": 90.7, \"F_Labour_force\": 49.2, \"M_Labour_force\": 65.5}, {\"Country\": \"Bahrain\", \"Human_development\": \"Very high\", \"GII\": 0.181, \"Rank\": 46.0, \"Maternal_mortality\": 14.0, \"Adolescent_birth_rate\": 8.7, \"Seats_parliament\": 18.8, \"F_secondary_educ\": 79.9, \"M_secondary_educ\": 83.1, \"F_Labour_force\": 42.4, \"M_Labour_force\": 83.5}, {\"Country\": \"Lithuania\", \"Human_development\": \"Very high\", \"GII\": 0.105, \"Rank\": 30.0, \"Maternal_mortality\": 8.0, \"Adolescent_birth_rate\": 10.4, \"Seats_parliament\": 27.7, \"F_secondary_educ\": 95.5, \"M_secondary_educ\": 97.9, \"F_Labour_force\": 57.3, \"M_Labour_force\": 67.9}, {\"Country\": \"Saudi Arabia\", \"Human_development\": \"Very high\", \"GII\": 0.247, \"Rank\": 59.0, \"Maternal_mortality\": 17.0, \"Adolescent_birth_rate\": 11.9, \"Seats_parliament\": 19.9, \"F_secondary_educ\": 71.3, \"M_secondary_educ\": 80.9, \"F_Labour_force\": 30.9, \"M_Labour_force\": 80.1}, {\"Country\": \"Portugal\", \"Human_development\": \"Very high\", \"GII\": 0.067, \"Rank\": 15.0, \"Maternal_mortality\": 8.0, \"Adolescent_birth_rate\": 7.4, \"Seats_parliament\": 40.0, \"F_secondary_educ\": 59.7, \"M_secondary_educ\": 61.9, \"F_Labour_force\": 54.0, \"M_Labour_force\": 62.2}, {\"Country\": \"Latvia\", \"Human_development\": \"Very high\", \"GII\": 0.151, \"Rank\": 40.0, \"Maternal_mortality\": 19.0, \"Adolescent_birth_rate\": 11.2, \"Seats_parliament\": 29.0, \"F_secondary_educ\": 99.7, \"M_secondary_educ\": 99.3, \"F_Labour_force\": 54.5, \"M_Labour_force\": 66.8}, {\"Country\": \"Croatia\", \"Human_development\": \"Very high\", \"GII\": 0.093, \"Rank\": 26.0, \"Maternal_mortality\": 8.0, \"Adolescent_birth_rate\": 8.6, \"Seats_parliament\": 31.1, \"F_secondary_educ\": 97.0, \"M_secondary_educ\": 100.0, \"F_Labour_force\": 45.9, \"M_Labour_force\": 58.8}, {\"Country\": \"Chile\", \"Human_development\": \"Very high\", \"GII\": 0.187, \"Rank\": 47.0, \"Maternal_mortality\": 13.0, \"Adolescent_birth_rate\": 24.1, \"Seats_parliament\": 32.7, \"F_secondary_educ\": 80.3, \"M_secondary_educ\": 83.5, \"F_Labour_force\": 44.2, \"M_Labour_force\": 65.5}, {\"Country\": \"Qatar\", \"Human_development\": \"Very high\", \"GII\": 0.22, \"Rank\": 54.0, \"Maternal_mortality\": 9.0, \"Adolescent_birth_rate\": 7.1, \"Seats_parliament\": 4.4, \"F_secondary_educ\": 79.8, \"M_secondary_educ\": 69.6, \"F_Labour_force\": 57.2, \"M_Labour_force\": 95.5}, {\"Country\": \"Slovakia\", \"Human_development\": \"Very high\", \"GII\": 0.18, \"Rank\": 45.0, \"Maternal_mortality\": 5.0, \"Adolescent_birth_rate\": 26.3, \"Seats_parliament\": 22.7, \"F_secondary_educ\": 98.9, \"M_secondary_educ\": 99.2, \"F_Labour_force\": 54.7, \"M_Labour_force\": 66.4}, {\"Country\": \"Hungary\", \"Human_development\": \"Very high\", \"GII\": 0.221, \"Rank\": 55.0, \"Maternal_mortality\": 12.0, \"Adolescent_birth_rate\": 22.1, \"Seats_parliament\": 13.1, \"F_secondary_educ\": 97.6, \"M_secondary_educ\": 98.8, \"F_Labour_force\": 52.1, \"M_Labour_force\": 67.2}, {\"Country\": \"Argentina\", \"Human_development\": \"Very high\", \"GII\": 0.287, \"Rank\": 69.0, \"Maternal_mortality\": 39.0, \"Adolescent_birth_rate\": 39.1, \"Seats_parliament\": 44.4, \"F_secondary_educ\": 71.0, \"M_secondary_educ\": 71.4, \"F_Labour_force\": 50.0, \"M_Labour_force\": 71.6}, {\"Country\": \"T\\u00fcrkiye\", \"Human_development\": \"Very high\", \"GII\": 0.272, \"Rank\": 65.0, \"Maternal_mortality\": 17.0, \"Adolescent_birth_rate\": 16.9, \"Seats_parliament\": 17.3, \"F_secondary_educ\": 56.3, \"M_secondary_educ\": 75.9, \"F_Labour_force\": 31.8, \"M_Labour_force\": 69.4}, {\"Country\": \"Montenegro\", \"Human_development\": \"Very high\", \"GII\": 0.119, \"Rank\": 32.0, \"Maternal_mortality\": 6.0, \"Adolescent_birth_rate\": 10.4, \"Seats_parliament\": 24.7, \"F_secondary_educ\": 92.3, \"M_secondary_educ\": 99.2, \"F_Labour_force\": 47.8, \"M_Labour_force\": 62.0}, {\"Country\": \"Kuwait\", \"Human_development\": \"Very high\", \"GII\": 0.305, \"Rank\": 74.0, \"Maternal_mortality\": 12.0, \"Adolescent_birth_rate\": 5.6, \"Seats_parliament\": 1.5, \"F_secondary_educ\": 60.9, \"M_secondary_educ\": 55.2, \"F_Labour_force\": 47.4, \"M_Labour_force\": 83.8}, {\"Country\": \"Brunei Darussalam\", \"Human_development\": \"Very high\", \"GII\": 0.259, \"Rank\": 61.0, \"Maternal_mortality\": 31.0, \"Adolescent_birth_rate\": 10.0, \"Seats_parliament\": 9.1, \"F_secondary_educ\": 70.4, \"M_secondary_educ\": 71.2, \"F_Labour_force\": 54.1, \"M_Labour_force\": 72.3}, {\"Country\": \"Russian Federation\", \"Human_development\": \"Very high\", \"GII\": 0.203, \"Rank\": 50.0, \"Maternal_mortality\": 17.0, \"Adolescent_birth_rate\": 15.0, \"Seats_parliament\": 16.5, \"F_secondary_educ\": 92.8, \"M_secondary_educ\": 95.9, \"F_Labour_force\": 54.5, \"M_Labour_force\": 69.7}, {\"Country\": \"Romania\", \"Human_development\": \"Very high\", \"GII\": 0.282, \"Rank\": 67.0, \"Maternal_mortality\": 19.0, \"Adolescent_birth_rate\": 36.4, \"Seats_parliament\": 18.5, \"F_secondary_educ\": 88.8, \"M_secondary_educ\": 93.7, \"F_Labour_force\": 42.8, \"M_Labour_force\": 62.3}, {\"Country\": \"Oman\", \"Human_development\": \"Very high\", \"GII\": 0.3, \"Rank\": 72.0, \"Maternal_mortality\": 19.0, \"Adolescent_birth_rate\": 9.9, \"Seats_parliament\": 9.9, \"F_secondary_educ\": 96.6, \"M_secondary_educ\": 99.9, \"F_Labour_force\": 28.7, \"M_Labour_force\": 85.0}, {\"Country\": \"Bahamas\", \"Human_development\": \"Very high\", \"GII\": 0.329, \"Rank\": 78.0, \"Maternal_mortality\": 70.0, \"Adolescent_birth_rate\": 25.7, \"Seats_parliament\": 20.0, \"F_secondary_educ\": 87.0, \"M_secondary_educ\": 89.9, \"F_Labour_force\": 65.6, \"M_Labour_force\": 71.5}, {\"Country\": \"Kazakhstan\", \"Human_development\": \"Very high\", \"GII\": 0.161, \"Rank\": 41.0, \"Maternal_mortality\": 10.0, \"Adolescent_birth_rate\": 21.9, \"Seats_parliament\": 24.5, \"F_secondary_educ\": 99.8, \"M_secondary_educ\": 100.0, \"F_Labour_force\": 63.3, \"M_Labour_force\": 75.5}, {\"Country\": \"Trinidad and Tobago\", \"Human_development\": \"Very high\", \"GII\": 0.344, \"Rank\": 81.0, \"Maternal_mortality\": 67.0, \"Adolescent_birth_rate\": 38.1, \"Seats_parliament\": 32.4, \"F_secondary_educ\": 84.8, \"M_secondary_educ\": 80.6, \"F_Labour_force\": 46.7, \"M_Labour_force\": 68.0}, {\"Country\": \"Costa Rica\", \"Human_development\": \"Very high\", \"GII\": 0.256, \"Rank\": 60.0, \"Maternal_mortality\": 27.0, \"Adolescent_birth_rate\": 37.1, \"Seats_parliament\": 45.6, \"F_secondary_educ\": 56.2, \"M_secondary_educ\": 54.5, \"F_Labour_force\": 47.5, \"M_Labour_force\": 71.1}, {\"Country\": \"Uruguay\", \"Human_development\": \"Very high\", \"GII\": 0.235, \"Rank\": 58.0, \"Maternal_mortality\": 17.0, \"Adolescent_birth_rate\": 36.2, \"Seats_parliament\": 26.2, \"F_secondary_educ\": 59.6, \"M_secondary_educ\": 55.5, \"F_Labour_force\": 54.8, \"M_Labour_force\": 69.3}, {\"Country\": \"Belarus\", \"Human_development\": \"Very high\", \"GII\": 0.104, \"Rank\": 29.0, \"Maternal_mortality\": 2.0, \"Adolescent_birth_rate\": 11.9, \"Seats_parliament\": 34.7, \"F_secondary_educ\": 97.5, \"M_secondary_educ\": 99.0, \"F_Labour_force\": 57.3, \"M_Labour_force\": 71.4}, {\"Country\": \"Panama\", \"Human_development\": \"Very high\", \"GII\": 0.392, \"Rank\": 96.0, \"Maternal_mortality\": 52.0, \"Adolescent_birth_rate\": 69.9, \"Seats_parliament\": 22.5, \"F_secondary_educ\": 70.2, \"M_secondary_educ\": 68.7, \"F_Labour_force\": 50.4, \"M_Labour_force\": 72.6}, {\"Country\": \"Malaysia\", \"Human_development\": \"Very high\", \"GII\": 0.228, \"Rank\": 57.0, \"Maternal_mortality\": 29.0, \"Adolescent_birth_rate\": 9.3, \"Seats_parliament\": 14.9, \"F_secondary_educ\": 75.0, \"M_secondary_educ\": 78.4, \"F_Labour_force\": 51.2, \"M_Labour_force\": 77.6}, {\"Country\": \"Georgia\", \"Human_development\": \"Very high\", \"GII\": 0.28, \"Rank\": 66.0, \"Maternal_mortality\": 25.0, \"Adolescent_birth_rate\": 31.7, \"Seats_parliament\": 19.3, \"F_secondary_educ\": 97.1, \"M_secondary_educ\": 98.3, \"F_Labour_force\": 51.0, \"M_Labour_force\": 68.0}, {\"Country\": \"Mauritius\", \"Human_development\": \"Very high\", \"GII\": 0.347, \"Rank\": 82.0, \"Maternal_mortality\": 61.0, \"Adolescent_birth_rate\": 24.6, \"Seats_parliament\": 20.0, \"F_secondary_educ\": 64.4, \"M_secondary_educ\": 70.8, \"F_Labour_force\": 43.4, \"M_Labour_force\": 70.4}, {\"Country\": \"Serbia\", \"Human_development\": \"Very high\", \"GII\": 0.131, \"Rank\": 36.0, \"Maternal_mortality\": 12.0, \"Adolescent_birth_rate\": 14.9, \"Seats_parliament\": 39.2, \"F_secondary_educ\": 88.6, \"M_secondary_educ\": 95.3, \"F_Labour_force\": 46.6, \"M_Labour_force\": 62.3}, {\"Country\": \"Thailand\", \"Human_development\": \"Very high\", \"GII\": 0.333, \"Rank\": 79.0, \"Maternal_mortality\": 37.0, \"Adolescent_birth_rate\": 32.7, \"Seats_parliament\": 13.9, \"F_secondary_educ\": 47.6, \"M_secondary_educ\": 51.7, \"F_Labour_force\": 59.0, \"M_Labour_force\": 75.0}, {\"Country\": \"Albania\", \"Human_development\": \"High\", \"GII\": 0.144, \"Rank\": 39.0, \"Maternal_mortality\": 15.0, \"Adolescent_birth_rate\": 14.5, \"Seats_parliament\": 35.7, \"F_secondary_educ\": 95.4, \"M_secondary_educ\": 93.0, \"F_Labour_force\": 50.7, \"M_Labour_force\": 66.2}, {\"Country\": \"Bulgaria\", \"Human_development\": \"High\", \"GII\": 0.21, \"Rank\": 52.0, \"Maternal_mortality\": 10.0, \"Adolescent_birth_rate\": 38.6, \"Seats_parliament\": 23.8, \"F_secondary_educ\": 94.9, \"M_secondary_educ\": 96.5, \"F_Labour_force\": 49.1, \"M_Labour_force\": 62.6}, {\"Country\": \"Barbados\", \"Human_development\": \"High\", \"GII\": 0.268, \"Rank\": 64.0, \"Maternal_mortality\": 27.0, \"Adolescent_birth_rate\": 42.3, \"Seats_parliament\": 29.4, \"F_secondary_educ\": 95.4, \"M_secondary_educ\": 86.0, \"F_Labour_force\": 56.1, \"M_Labour_force\": 63.7}, {\"Country\": \"Sri Lanka\", \"Human_development\": \"High\", \"GII\": 0.383, \"Rank\": 92.0, \"Maternal_mortality\": 36.0, \"Adolescent_birth_rate\": 15.7, \"Seats_parliament\": 5.4, \"F_secondary_educ\": 84.0, \"M_secondary_educ\": 84.2, \"F_Labour_force\": 30.9, \"M_Labour_force\": 68.5}, {\"Country\": \"Bosnia and Herzegovina\", \"Human_development\": \"High\", \"GII\": 0.136, \"Rank\": 38.0, \"Maternal_mortality\": 10.0, \"Adolescent_birth_rate\": 9.9, \"Seats_parliament\": 24.6, \"F_secondary_educ\": 82.7, \"M_secondary_educ\": 94.0, \"F_Labour_force\": 32.3, \"M_Labour_force\": 52.4}, {\"Country\": \"Iran\", \"Human_development\": \"High\", \"GII\": 0.459, \"Rank\": 115.0, \"Maternal_mortality\": 16.0, \"Adolescent_birth_rate\": 30.2, \"Seats_parliament\": 5.6, \"F_secondary_educ\": 71.6, \"M_secondary_educ\": 76.0, \"F_Labour_force\": 14.4, \"M_Labour_force\": 68.1}, {\"Country\": \"Ukraine\", \"Human_development\": \"High\", \"GII\": 0.2, \"Rank\": 49.0, \"Maternal_mortality\": 19.0, \"Adolescent_birth_rate\": 15.6, \"Seats_parliament\": 20.8, \"F_secondary_educ\": 96.2, \"M_secondary_educ\": 95.8, \"F_Labour_force\": 48.1, \"M_Labour_force\": 63.6}, {\"Country\": \"North Macedonia\", \"Human_development\": \"High\", \"GII\": 0.134, \"Rank\": 37.0, \"Maternal_mortality\": 7.0, \"Adolescent_birth_rate\": 16.4, \"Seats_parliament\": 41.7, \"F_secondary_educ\": 61.9, \"M_secondary_educ\": 75.1, \"F_Labour_force\": 42.4, \"M_Labour_force\": 63.4}, {\"Country\": \"China\", \"Human_development\": \"High\", \"GII\": 0.192, \"Rank\": 48.0, \"Maternal_mortality\": 29.0, \"Adolescent_birth_rate\": 11.0, \"Seats_parliament\": 24.9, \"F_secondary_educ\": 78.3, \"M_secondary_educ\": 85.4, \"F_Labour_force\": 61.6, \"M_Labour_force\": 74.3}, {\"Country\": \"Dominican Republic\", \"Human_development\": \"High\", \"GII\": 0.429, \"Rank\": 106.0, \"Maternal_mortality\": 95.0, \"Adolescent_birth_rate\": 65.6, \"Seats_parliament\": 25.7, \"F_secondary_educ\": 77.4, \"M_secondary_educ\": 76.9, \"F_Labour_force\": 49.6, \"M_Labour_force\": 75.2}, {\"Country\": \"Moldova\", \"Human_development\": \"High\", \"GII\": 0.205, \"Rank\": 51.0, \"Maternal_mortality\": 19.0, \"Adolescent_birth_rate\": 27.8, \"Seats_parliament\": 39.6, \"F_secondary_educ\": 96.1, \"M_secondary_educ\": 98.0, \"F_Labour_force\": 33.9, \"M_Labour_force\": 43.9}, {\"Country\": \"Cuba\", \"Human_development\": \"High\", \"GII\": 0.303, \"Rank\": 73.0, \"Maternal_mortality\": 36.0, \"Adolescent_birth_rate\": 48.8, \"Seats_parliament\": 53.4, \"F_secondary_educ\": 89.5, \"M_secondary_educ\": 91.9, \"F_Labour_force\": 40.3, \"M_Labour_force\": 68.5}, {\"Country\": \"Peru\", \"Human_development\": \"High\", \"GII\": 0.38, \"Rank\": 90.0, \"Maternal_mortality\": 88.0, \"Adolescent_birth_rate\": 56.8, \"Seats_parliament\": 40.0, \"F_secondary_educ\": 59.3, \"M_secondary_educ\": 69.9, \"F_Labour_force\": 66.1, \"M_Labour_force\": 81.9}, {\"Country\": \"Armenia\", \"Human_development\": \"High\", \"GII\": 0.216, \"Rank\": 53.0, \"Maternal_mortality\": 26.0, \"Adolescent_birth_rate\": 18.5, \"Seats_parliament\": 33.6, \"F_secondary_educ\": 96.0, \"M_secondary_educ\": 97.1, \"F_Labour_force\": 42.7, \"M_Labour_force\": 63.0}, {\"Country\": \"Mexico\", \"Human_development\": \"High\", \"GII\": 0.309, \"Rank\": 75.0, \"Maternal_mortality\": 33.0, \"Adolescent_birth_rate\": 54.4, \"Seats_parliament\": 49.8, \"F_secondary_educ\": 65.1, \"M_secondary_educ\": 66.7, \"F_Labour_force\": 43.8, \"M_Labour_force\": 75.4}, {\"Country\": \"Brazil\", \"Human_development\": \"High\", \"GII\": 0.39, \"Rank\": 94.0, \"Maternal_mortality\": 60.0, \"Adolescent_birth_rate\": 45.2, \"Seats_parliament\": 14.8, \"F_secondary_educ\": 62.4, \"M_secondary_educ\": 59.1, \"F_Labour_force\": 49.1, \"M_Labour_force\": 68.2}, {\"Country\": \"Colombia\", \"Human_development\": \"High\", \"GII\": 0.424, \"Rank\": 102.0, \"Maternal_mortality\": 83.0, \"Adolescent_birth_rate\": 59.0, \"Seats_parliament\": 19.6, \"F_secondary_educ\": 58.9, \"M_secondary_educ\": 56.5, \"F_Labour_force\": 52.2, \"M_Labour_force\": 78.0}, {\"Country\": \"Saint Vincent and the Grenadines\", \"Human_development\": \"High\", \"GII\": 0.39, \"Rank\": 94.0, \"Maternal_mortality\": 68.0, \"Adolescent_birth_rate\": 47.9, \"Seats_parliament\": 18.2, \"F_secondary_educ\": 44.1, \"M_secondary_educ\": 39.6, \"F_Labour_force\": 52.9, \"M_Labour_force\": 74.1}, {\"Country\": \"Maldives\", \"Human_development\": \"High\", \"GII\": 0.348, \"Rank\": 83.0, \"Maternal_mortality\": 53.0, \"Adolescent_birth_rate\": 7.3, \"Seats_parliament\": 4.6, \"F_secondary_educ\": 46.4, \"M_secondary_educ\": 41.5, \"F_Labour_force\": 34.3, \"M_Labour_force\": 67.5}, {\"Country\": \"Algeria\", \"Human_development\": \"High\", \"GII\": 0.499, \"Rank\": 126.0, \"Maternal_mortality\": 112.0, \"Adolescent_birth_rate\": 11.7, \"Seats_parliament\": 7.5, \"F_secondary_educ\": 46.0, \"M_secondary_educ\": 56.9, \"F_Labour_force\": 15.7, \"M_Labour_force\": 64.5}, {\"Country\": \"Azerbaijan\", \"Human_development\": \"High\", \"GII\": 0.294, \"Rank\": 70.0, \"Maternal_mortality\": 26.0, \"Adolescent_birth_rate\": 40.1, \"Seats_parliament\": 18.2, \"F_secondary_educ\": 93.6, \"M_secondary_educ\": 97.6, \"F_Labour_force\": 60.4, \"M_Labour_force\": 67.3}, {\"Country\": \"Tonga\", \"Human_development\": \"High\", \"GII\": 0.631, \"Rank\": 160.0, \"Maternal_mortality\": 52.0, \"Adolescent_birth_rate\": 19.0, \"Seats_parliament\": 0.0, \"F_secondary_educ\": 93.5, \"M_secondary_educ\": 93.1, \"F_Labour_force\": 37.3, \"M_Labour_force\": 55.3}, {\"Country\": \"Turkmenistan\", \"Human_development\": \"High\", \"GII\": 0.177, \"Rank\": 43.0, \"Maternal_mortality\": 7.0, \"Adolescent_birth_rate\": 21.8, \"Seats_parliament\": 25.0, \"F_secondary_educ\": 93.5, \"M_secondary_educ\": 92.2, \"F_Labour_force\": 36.5, \"M_Labour_force\": 55.6}, {\"Country\": \"Ecuador\", \"Human_development\": \"High\", \"GII\": 0.362, \"Rank\": 85.0, \"Maternal_mortality\": 59.0, \"Adolescent_birth_rate\": 63.2, \"Seats_parliament\": 39.4, \"F_secondary_educ\": 53.0, \"M_secondary_educ\": 52.0, \"F_Labour_force\": 53.3, \"M_Labour_force\": 76.5}, {\"Country\": \"Mongolia\", \"Human_development\": \"High\", \"GII\": 0.313, \"Rank\": 76.0, \"Maternal_mortality\": 45.0, \"Adolescent_birth_rate\": 26.7, \"Seats_parliament\": 17.1, \"F_secondary_educ\": 79.3, \"M_secondary_educ\": 73.0, \"F_Labour_force\": 51.5, \"M_Labour_force\": 66.6}, {\"Country\": \"Egypt\", \"Human_development\": \"High\", \"GII\": 0.443, \"Rank\": 109.0, \"Maternal_mortality\": 37.0, \"Adolescent_birth_rate\": 44.8, \"Seats_parliament\": 22.9, \"F_secondary_educ\": 81.6, \"M_secondary_educ\": 76.6, \"F_Labour_force\": 15.4, \"M_Labour_force\": 67.1}, {\"Country\": \"Tunisia\", \"Human_development\": \"High\", \"GII\": 0.259, \"Rank\": 61.0, \"Maternal_mortality\": 43.0, \"Adolescent_birth_rate\": 6.7, \"Seats_parliament\": 26.3, \"F_secondary_educ\": 42.9, \"M_secondary_educ\": 51.8, \"F_Labour_force\": 25.5, \"M_Labour_force\": 67.2}, {\"Country\": \"Fiji\", \"Human_development\": \"High\", \"GII\": 0.318, \"Rank\": 77.0, \"Maternal_mortality\": 34.0, \"Adolescent_birth_rate\": 26.8, \"Seats_parliament\": 21.6, \"F_secondary_educ\": 90.2, \"M_secondary_educ\": 87.9, \"F_Labour_force\": 37.7, \"M_Labour_force\": 75.3}, {\"Country\": \"Suriname\", \"Human_development\": \"High\", \"GII\": 0.427, \"Rank\": 105.0, \"Maternal_mortality\": 120.0, \"Adolescent_birth_rate\": 56.1, \"Seats_parliament\": 29.4, \"F_secondary_educ\": 69.9, \"M_secondary_educ\": 70.7, \"F_Labour_force\": 43.4, \"M_Labour_force\": 65.1}, {\"Country\": \"Uzbekistan\", \"Human_development\": \"High\", \"GII\": 0.227, \"Rank\": 56.0, \"Maternal_mortality\": 29.0, \"Adolescent_birth_rate\": 15.9, \"Seats_parliament\": 28.7, \"F_secondary_educ\": 99.9, \"M_secondary_educ\": 100.0, \"F_Labour_force\": 44.9, \"M_Labour_force\": 70.9}, {\"Country\": \"Jordan\", \"Human_development\": \"High\", \"GII\": 0.471, \"Rank\": 118.0, \"Maternal_mortality\": 46.0, \"Adolescent_birth_rate\": 25.4, \"Seats_parliament\": 11.8, \"F_secondary_educ\": 77.4, \"M_secondary_educ\": 84.2, \"F_Labour_force\": 13.5, \"M_Labour_force\": 62.3}, {\"Country\": \"Libya\", \"Human_development\": \"High\", \"GII\": 0.259, \"Rank\": 61.0, \"Maternal_mortality\": 72.0, \"Adolescent_birth_rate\": 6.9, \"Seats_parliament\": 16.0, \"F_secondary_educ\": 70.5, \"M_secondary_educ\": 45.1, \"F_Labour_force\": 34.1, \"M_Labour_force\": 61.0}, {\"Country\": \"Paraguay\", \"Human_development\": \"High\", \"GII\": 0.445, \"Rank\": 111.0, \"Maternal_mortality\": 84.0, \"Adolescent_birth_rate\": 70.3, \"Seats_parliament\": 16.8, \"F_secondary_educ\": 52.5, \"M_secondary_educ\": 54.0, \"F_Labour_force\": 59.6, \"M_Labour_force\": 84.2}, {\"Country\": \"Saint Lucia\", \"Human_development\": \"High\", \"GII\": 0.381, \"Rank\": 91.0, \"Maternal_mortality\": 117.0, \"Adolescent_birth_rate\": 36.9, \"Seats_parliament\": 24.1, \"F_secondary_educ\": 49.9, \"M_secondary_educ\": 43.8, \"F_Labour_force\": 63.2, \"M_Labour_force\": 73.2}, {\"Country\": \"Guyana\", \"Human_development\": \"High\", \"GII\": 0.454, \"Rank\": 114.0, \"Maternal_mortality\": 169.0, \"Adolescent_birth_rate\": 66.6, \"Seats_parliament\": 35.7, \"F_secondary_educ\": 69.5, \"M_secondary_educ\": 62.2, \"F_Labour_force\": 40.3, \"M_Labour_force\": 64.1}, {\"Country\": \"South Africa\", \"Human_development\": \"High\", \"GII\": 0.405, \"Rank\": 97.0, \"Maternal_mortality\": 119.0, \"Adolescent_birth_rate\": 61.2, \"Seats_parliament\": 46.0, \"F_secondary_educ\": 68.9, \"M_secondary_educ\": 87.7, \"F_Labour_force\": 46.2, \"M_Labour_force\": 59.9}, {\"Country\": \"Jamaica\", \"Human_development\": \"High\", \"GII\": 0.335, \"Rank\": 80.0, \"Maternal_mortality\": 80.0, \"Adolescent_birth_rate\": 32.8, \"Seats_parliament\": 31.0, \"F_secondary_educ\": 74.3, \"M_secondary_educ\": 66.4, \"F_Labour_force\": 56.1, \"M_Labour_force\": 70.0}, {\"Country\": \"Samoa\", \"Human_development\": \"High\", \"GII\": 0.418, \"Rank\": 99.0, \"Maternal_mortality\": 43.0, \"Adolescent_birth_rate\": 43.6, \"Seats_parliament\": 7.8, \"F_secondary_educ\": 79.1, \"M_secondary_educ\": 71.6, \"F_Labour_force\": 30.7, \"M_Labour_force\": 54.2}, {\"Country\": \"Gabon\", \"Human_development\": \"High\", \"GII\": 0.541, \"Rank\": 140.0, \"Maternal_mortality\": 252.0, \"Adolescent_birth_rate\": 91.2, \"Seats_parliament\": 18.7, \"F_secondary_educ\": 67.2, \"M_secondary_educ\": 84.0, \"F_Labour_force\": 39.1, \"M_Labour_force\": 57.0}, {\"Country\": \"Lebanon\", \"Human_development\": \"High\", \"GII\": 0.432, \"Rank\": 108.0, \"Maternal_mortality\": 29.0, \"Adolescent_birth_rate\": 20.3, \"Seats_parliament\": 4.7, \"F_secondary_educ\": 54.3, \"M_secondary_educ\": 55.6, \"F_Labour_force\": 20.8, \"M_Labour_force\": 64.3}, {\"Country\": \"Indonesia\", \"Human_development\": \"High\", \"GII\": 0.444, \"Rank\": 110.0, \"Maternal_mortality\": 177.0, \"Adolescent_birth_rate\": 33.9, \"Seats_parliament\": 21.0, \"F_secondary_educ\": 51.0, \"M_secondary_educ\": 58.2, \"F_Labour_force\": 53.7, \"M_Labour_force\": 81.7}, {\"Country\": \"Viet Nam\", \"Human_development\": \"High\", \"GII\": 0.296, \"Rank\": 71.0, \"Maternal_mortality\": 43.0, \"Adolescent_birth_rate\": 34.6, \"Seats_parliament\": 30.3, \"F_secondary_educ\": 61.3, \"M_secondary_educ\": 69.6, \"F_Labour_force\": 69.6, \"M_Labour_force\": 79.4}, {\"Country\": \"Philippines\", \"Human_development\": \"Medium\", \"GII\": 0.419, \"Rank\": 101.0, \"Maternal_mortality\": 121.0, \"Adolescent_birth_rate\": 48.2, \"Seats_parliament\": 28.0, \"F_secondary_educ\": 73.4, \"M_secondary_educ\": 69.1, \"F_Labour_force\": 43.8, \"M_Labour_force\": 68.3}, {\"Country\": \"Botswana\", \"Human_development\": \"Medium\", \"GII\": 0.468, \"Rank\": 117.0, \"Maternal_mortality\": 144.0, \"Adolescent_birth_rate\": 49.3, \"Seats_parliament\": 10.8, \"F_secondary_educ\": 91.3, \"M_secondary_educ\": 91.8, \"F_Labour_force\": 56.3, \"M_Labour_force\": 65.1}, {\"Country\": \"Bolivia\", \"Human_development\": \"Medium\", \"GII\": 0.418, \"Rank\": 99.0, \"Maternal_mortality\": 155.0, \"Adolescent_birth_rate\": 63.8, \"Seats_parliament\": 48.2, \"F_secondary_educ\": 60.1, \"M_secondary_educ\": 69.7, \"F_Labour_force\": 68.3, \"M_Labour_force\": 83.8}, {\"Country\": \"Kyrgyzstan\", \"Human_development\": \"Medium\", \"GII\": 0.37, \"Rank\": 87.0, \"Maternal_mortality\": 60.0, \"Adolescent_birth_rate\": 34.7, \"Seats_parliament\": 20.5, \"F_secondary_educ\": 100.0, \"M_secondary_educ\": 99.8, \"F_Labour_force\": 42.1, \"M_Labour_force\": 71.7}, {\"Country\": \"Venezuela\", \"Human_development\": \"Medium\", \"GII\": 0.492, \"Rank\": 123.0, \"Maternal_mortality\": 125.0, \"Adolescent_birth_rate\": 82.7, \"Seats_parliament\": 22.2, \"F_secondary_educ\": 79.8, \"M_secondary_educ\": 75.4, \"F_Labour_force\": 34.3, \"M_Labour_force\": 67.8}, {\"Country\": \"Iraq\", \"Human_development\": \"Medium\", \"GII\": 0.558, \"Rank\": 145.0, \"Maternal_mortality\": 79.0, \"Adolescent_birth_rate\": 62.2, \"Seats_parliament\": 28.9, \"F_secondary_educ\": 42.0, \"M_secondary_educ\": 52.9, \"F_Labour_force\": 11.1, \"M_Labour_force\": 71.8}, {\"Country\": \"Tajikistan\", \"Human_development\": \"Medium\", \"GII\": 0.285, \"Rank\": 68.0, \"Maternal_mortality\": 17.0, \"Adolescent_birth_rate\": 45.4, \"Seats_parliament\": 23.4, \"F_secondary_educ\": 93.5, \"M_secondary_educ\": 94.6, \"F_Labour_force\": 30.2, \"M_Labour_force\": 50.5}, {\"Country\": \"Belize\", \"Human_development\": \"Medium\", \"GII\": 0.364, \"Rank\": 86.0, \"Maternal_mortality\": 36.0, \"Adolescent_birth_rate\": 57.1, \"Seats_parliament\": 19.6, \"F_secondary_educ\": 54.5, \"M_secondary_educ\": 49.8, \"F_Labour_force\": 46.9, \"M_Labour_force\": 76.8}, {\"Country\": \"Morocco\", \"Human_development\": \"Medium\", \"GII\": 0.425, \"Rank\": 104.0, \"Maternal_mortality\": 70.0, \"Adolescent_birth_rate\": 25.9, \"Seats_parliament\": 20.4, \"F_secondary_educ\": 30.9, \"M_secondary_educ\": 37.1, \"F_Labour_force\": 22.0, \"M_Labour_force\": 66.0}, {\"Country\": \"El Salvador\", \"Human_development\": \"Medium\", \"GII\": 0.376, \"Rank\": 88.0, \"Maternal_mortality\": 46.0, \"Adolescent_birth_rate\": 55.9, \"Seats_parliament\": 27.4, \"F_secondary_educ\": 42.7, \"M_secondary_educ\": 51.4, \"F_Labour_force\": 43.6, \"M_Labour_force\": 72.6}, {\"Country\": \"Nicaragua\", \"Human_development\": \"Medium\", \"GII\": 0.424, \"Rank\": 102.0, \"Maternal_mortality\": 98.0, \"Adolescent_birth_rate\": 85.6, \"Seats_parliament\": 50.5, \"F_secondary_educ\": 51.2, \"M_secondary_educ\": 49.7, \"F_Labour_force\": 46.8, \"M_Labour_force\": 81.3}, {\"Country\": \"Bhutan\", \"Human_development\": \"Medium\", \"GII\": 0.415, \"Rank\": 98.0, \"Maternal_mortality\": 183.0, \"Adolescent_birth_rate\": 19.0, \"Seats_parliament\": 16.7, \"F_secondary_educ\": 23.6, \"M_secondary_educ\": 32.3, \"F_Labour_force\": 51.6, \"M_Labour_force\": 67.4}, {\"Country\": \"Cabo Verde\", \"Human_development\": \"Medium\", \"GII\": 0.349, \"Rank\": 84.0, \"Maternal_mortality\": 58.0, \"Adolescent_birth_rate\": 55.2, \"Seats_parliament\": 38.9, \"F_secondary_educ\": 28.8, \"M_secondary_educ\": 31.2, \"F_Labour_force\": 46.9, \"M_Labour_force\": 61.7}, {\"Country\": \"Bangladesh\", \"Human_development\": \"Medium\", \"GII\": 0.53, \"Rank\": 131.0, \"Maternal_mortality\": 173.0, \"Adolescent_birth_rate\": 75.5, \"Seats_parliament\": 20.9, \"F_secondary_educ\": 50.6, \"M_secondary_educ\": 58.5, \"F_Labour_force\": 34.9, \"M_Labour_force\": 78.8}, {\"Country\": \"India\", \"Human_development\": \"Medium\", \"GII\": 0.49, \"Rank\": 122.0, \"Maternal_mortality\": 133.0, \"Adolescent_birth_rate\": 17.2, \"Seats_parliament\": 13.4, \"F_secondary_educ\": 41.8, \"M_secondary_educ\": 53.8, \"F_Labour_force\": 19.2, \"M_Labour_force\": 70.1}, {\"Country\": \"Ghana\", \"Human_development\": \"Medium\", \"GII\": 0.529, \"Rank\": 130.0, \"Maternal_mortality\": 308.0, \"Adolescent_birth_rate\": 64.2, \"Seats_parliament\": 14.5, \"F_secondary_educ\": 58.0, \"M_secondary_educ\": 73.2, \"F_Labour_force\": 64.5, \"M_Labour_force\": 72.2}, {\"Country\": \"Guatemala\", \"Human_development\": \"Medium\", \"GII\": 0.481, \"Rank\": 121.0, \"Maternal_mortality\": 95.0, \"Adolescent_birth_rate\": 64.1, \"Seats_parliament\": 19.4, \"F_secondary_educ\": 29.5, \"M_secondary_educ\": 35.8, \"F_Labour_force\": 37.4, \"M_Labour_force\": 80.3}, {\"Country\": \"Honduras\", \"Human_development\": \"Medium\", \"GII\": 0.431, \"Rank\": 107.0, \"Maternal_mortality\": 65.0, \"Adolescent_birth_rate\": 72.0, \"Seats_parliament\": 27.3, \"F_secondary_educ\": 35.8, \"M_secondary_educ\": 44.8, \"F_Labour_force\": 42.3, \"M_Labour_force\": 78.9}, {\"Country\": \"Sao Tome and Principe\", \"Human_development\": \"Medium\", \"GII\": 0.494, \"Rank\": 124.0, \"Maternal_mortality\": 130.0, \"Adolescent_birth_rate\": 79.4, \"Seats_parliament\": 23.6, \"F_secondary_educ\": 39.9, \"M_secondary_educ\": 48.4, \"F_Labour_force\": 37.1, \"M_Labour_force\": 69.9}, {\"Country\": \"Namibia\", \"Human_development\": \"Medium\", \"GII\": 0.445, \"Rank\": 111.0, \"Maternal_mortality\": 195.0, \"Adolescent_birth_rate\": 64.9, \"Seats_parliament\": 35.6, \"F_secondary_educ\": 41.5, \"M_secondary_educ\": 44.1, \"F_Labour_force\": 54.5, \"M_Labour_force\": 62.2}, {\"Country\": \"Lao People's Democratic Republic\", \"Human_development\": \"Medium\", \"GII\": 0.478, \"Rank\": 120.0, \"Maternal_mortality\": 185.0, \"Adolescent_birth_rate\": 73.2, \"Seats_parliament\": 22.0, \"F_secondary_educ\": 37.7, \"M_secondary_educ\": 47.7, \"F_Labour_force\": 74.8, \"M_Labour_force\": 78.1}, {\"Country\": \"Timor-Leste\", \"Human_development\": \"Medium\", \"GII\": 0.378, \"Rank\": 89.0, \"Maternal_mortality\": 142.0, \"Adolescent_birth_rate\": 33.9, \"Seats_parliament\": 38.5, \"F_secondary_educ\": 33.7, \"M_secondary_educ\": 41.8, \"F_Labour_force\": 61.0, \"M_Labour_force\": 72.2}, {\"Country\": \"Nepal\", \"Human_development\": \"Medium\", \"GII\": 0.452, \"Rank\": 113.0, \"Maternal_mortality\": 186.0, \"Adolescent_birth_rate\": 63.8, \"Seats_parliament\": 33.6, \"F_secondary_educ\": 28.8, \"M_secondary_educ\": 44.7, \"F_Labour_force\": 78.7, \"M_Labour_force\": 80.8}, {\"Country\": \"Eswatini\", \"Human_development\": \"Medium\", \"GII\": 0.54, \"Rank\": 138.0, \"Maternal_mortality\": 437.0, \"Adolescent_birth_rate\": 69.9, \"Seats_parliament\": 18.4, \"F_secondary_educ\": 34.0, \"M_secondary_educ\": 36.2, \"F_Labour_force\": 45.6, \"M_Labour_force\": 53.6}, {\"Country\": \"Cambodia\", \"Human_development\": \"Medium\", \"GII\": 0.461, \"Rank\": 116.0, \"Maternal_mortality\": 160.0, \"Adolescent_birth_rate\": 45.5, \"Seats_parliament\": 19.8, \"F_secondary_educ\": 18.3, \"M_secondary_educ\": 31.7, \"F_Labour_force\": 74.0, \"M_Labour_force\": 85.9}, {\"Country\": \"Zimbabwe\", \"Human_development\": \"Medium\", \"GII\": 0.532, \"Rank\": 134.0, \"Maternal_mortality\": 458.0, \"Adolescent_birth_rate\": 94.3, \"Seats_parliament\": 34.6, \"F_secondary_educ\": 61.8, \"M_secondary_educ\": 72.4, \"F_Labour_force\": 79.3, \"M_Labour_force\": 88.9}, {\"Country\": \"Angola\", \"Human_development\": \"Medium\", \"GII\": 0.537, \"Rank\": 136.0, \"Maternal_mortality\": 241.0, \"Adolescent_birth_rate\": 138.4, \"Seats_parliament\": 29.5, \"F_secondary_educ\": 28.2, \"M_secondary_educ\": 51.5, \"F_Labour_force\": 74.0, \"M_Labour_force\": 79.1}, {\"Country\": \"Myanmar\", \"Human_development\": \"Medium\", \"GII\": 0.498, \"Rank\": 125.0, \"Maternal_mortality\": 250.0, \"Adolescent_birth_rate\": 33.0, \"Seats_parliament\": 15.0, \"F_secondary_educ\": 38.5, \"M_secondary_educ\": 47.8, \"F_Labour_force\": 41.0, \"M_Labour_force\": 70.0}, {\"Country\": \"Syrian Arab Republic\", \"Human_development\": \"Medium\", \"GII\": 0.477, \"Rank\": 119.0, \"Maternal_mortality\": 31.0, \"Adolescent_birth_rate\": 38.7, \"Seats_parliament\": 11.2, \"F_secondary_educ\": 37.1, \"M_secondary_educ\": 43.4, \"F_Labour_force\": 15.7, \"M_Labour_force\": 70.8}, {\"Country\": \"Cameroon\", \"Human_development\": \"Medium\", \"GII\": 0.565, \"Rank\": 148.0, \"Maternal_mortality\": 529.0, \"Adolescent_birth_rate\": 110.4, \"Seats_parliament\": 31.1, \"F_secondary_educ\": 36.8, \"M_secondary_educ\": 55.0, \"F_Labour_force\": 70.2, \"M_Labour_force\": 80.7}, {\"Country\": \"Kenya\", \"Human_development\": \"Medium\", \"GII\": 0.506, \"Rank\": 128.0, \"Maternal_mortality\": 342.0, \"Adolescent_birth_rate\": 64.2, \"Seats_parliament\": 23.2, \"F_secondary_educ\": 31.1, \"M_secondary_educ\": 37.7, \"F_Labour_force\": 71.0, \"M_Labour_force\": 75.6}, {\"Country\": \"Congo\", \"Human_development\": \"Medium\", \"GII\": 0.564, \"Rank\": 147.0, \"Maternal_mortality\": 378.0, \"Adolescent_birth_rate\": 103.6, \"Seats_parliament\": 13.6, \"F_secondary_educ\": 48.0, \"M_secondary_educ\": 52.0, \"F_Labour_force\": 65.1, \"M_Labour_force\": 67.6}, {\"Country\": \"Zambia\", \"Human_development\": \"Medium\", \"GII\": 0.54, \"Rank\": 138.0, \"Maternal_mortality\": 213.0, \"Adolescent_birth_rate\": 117.0, \"Seats_parliament\": 15.1, \"F_secondary_educ\": 47.1, \"M_secondary_educ\": 56.8, \"F_Labour_force\": 69.2, \"M_Labour_force\": 77.8}, {\"Country\": \"Papua New Guinea\", \"Human_development\": \"Medium\", \"GII\": 0.725, \"Rank\": 169.0, \"Maternal_mortality\": 145.0, \"Adolescent_birth_rate\": 55.3, \"Seats_parliament\": 0.0, \"F_secondary_educ\": 10.8, \"M_secondary_educ\": 15.5, \"F_Labour_force\": 46.3, \"M_Labour_force\": 48.1}, {\"Country\": \"Mauritania\", \"Human_development\": \"Medium\", \"GII\": 0.632, \"Rank\": 161.0, \"Maternal_mortality\": 766.0, \"Adolescent_birth_rate\": 78.0, \"Seats_parliament\": 20.3, \"F_secondary_educ\": 14.5, \"M_secondary_educ\": 21.9, \"F_Labour_force\": 27.4, \"M_Labour_force\": 62.2}, {\"Country\": \"C\\u00f4te d'Ivoire\", \"Human_development\": \"Medium\", \"GII\": 0.613, \"Rank\": 155.0, \"Maternal_mortality\": 617.0, \"Adolescent_birth_rate\": 105.0, \"Seats_parliament\": 15.6, \"F_secondary_educ\": 23.9, \"M_secondary_educ\": 32.2, \"F_Labour_force\": 45.9, \"M_Labour_force\": 64.9}, {\"Country\": \"Tanzania\", \"Human_development\": \"Low\", \"GII\": 0.56, \"Rank\": 146.0, \"Maternal_mortality\": 524.0, \"Adolescent_birth_rate\": 123.7, \"Seats_parliament\": 36.9, \"F_secondary_educ\": 13.0, \"M_secondary_educ\": 19.1, \"F_Labour_force\": 79.5, \"M_Labour_force\": 87.1}, {\"Country\": \"Pakistan\", \"Human_development\": \"Low\", \"GII\": 0.534, \"Rank\": 135.0, \"Maternal_mortality\": 140.0, \"Adolescent_birth_rate\": 42.3, \"Seats_parliament\": 19.9, \"F_secondary_educ\": 22.1, \"M_secondary_educ\": 28.7, \"F_Labour_force\": 20.7, \"M_Labour_force\": 78.1}, {\"Country\": \"Togo\", \"Human_development\": \"Low\", \"GII\": 0.58, \"Rank\": 149.0, \"Maternal_mortality\": 396.0, \"Adolescent_birth_rate\": 77.9, \"Seats_parliament\": 18.7, \"F_secondary_educ\": 13.9, \"M_secondary_educ\": 42.3, \"F_Labour_force\": 55.5, \"M_Labour_force\": 59.4}, {\"Country\": \"Haiti\", \"Human_development\": \"Low\", \"GII\": 0.635, \"Rank\": 163.0, \"Maternal_mortality\": 480.0, \"Adolescent_birth_rate\": 52.5, \"Seats_parliament\": 2.7, \"F_secondary_educ\": 27.9, \"M_secondary_educ\": 41.0, \"F_Labour_force\": 60.7, \"M_Labour_force\": 68.9}, {\"Country\": \"Nigeria\", \"Human_development\": \"Low\", \"GII\": 0.68, \"Rank\": 168.0, \"Maternal_mortality\": 917.0, \"Adolescent_birth_rate\": 101.7, \"Seats_parliament\": 4.5, \"F_secondary_educ\": 40.4, \"M_secondary_educ\": 55.3, \"F_Labour_force\": 47.9, \"M_Labour_force\": 59.6}, {\"Country\": \"Rwanda\", \"Human_development\": \"Low\", \"GII\": 0.388, \"Rank\": 93.0, \"Maternal_mortality\": 248.0, \"Adolescent_birth_rate\": 32.4, \"Seats_parliament\": 55.7, \"F_secondary_educ\": 11.4, \"M_secondary_educ\": 16.3, \"F_Labour_force\": 82.5, \"M_Labour_force\": 82.2}, {\"Country\": \"Benin\", \"Human_development\": \"Low\", \"GII\": 0.602, \"Rank\": 152.0, \"Maternal_mortality\": 397.0, \"Adolescent_birth_rate\": 92.3, \"Seats_parliament\": 8.4, \"F_secondary_educ\": 21.1, \"M_secondary_educ\": 34.4, \"F_Labour_force\": 69.3, \"M_Labour_force\": 72.6}, {\"Country\": \"Uganda\", \"Human_development\": \"Low\", \"GII\": 0.53, \"Rank\": 131.0, \"Maternal_mortality\": 375.0, \"Adolescent_birth_rate\": 107.9, \"Seats_parliament\": 33.8, \"F_secondary_educ\": 29.3, \"M_secondary_educ\": 36.3, \"F_Labour_force\": 64.2, \"M_Labour_force\": 71.3}, {\"Country\": \"Lesotho\", \"Human_development\": \"Low\", \"GII\": 0.557, \"Rank\": 144.0, \"Maternal_mortality\": 544.0, \"Adolescent_birth_rate\": 89.6, \"Seats_parliament\": 22.9, \"F_secondary_educ\": 27.2, \"M_secondary_educ\": 24.6, \"F_Labour_force\": 56.1, \"M_Labour_force\": 71.3}, {\"Country\": \"Malawi\", \"Human_development\": \"Low\", \"GII\": 0.554, \"Rank\": 142.0, \"Maternal_mortality\": 349.0, \"Adolescent_birth_rate\": 117.9, \"Seats_parliament\": 22.9, \"F_secondary_educ\": 21.3, \"M_secondary_educ\": 28.4, \"F_Labour_force\": 71.6, \"M_Labour_force\": 80.0}, {\"Country\": \"Senegal\", \"Human_development\": \"Low\", \"GII\": 0.53, \"Rank\": 131.0, \"Maternal_mortality\": 315.0, \"Adolescent_birth_rate\": 66.5, \"Seats_parliament\": 43.0, \"F_secondary_educ\": 11.1, \"M_secondary_educ\": 30.9, \"F_Labour_force\": 33.5, \"M_Labour_force\": 56.7}, {\"Country\": \"Sudan\", \"Human_development\": \"Low\", \"GII\": 0.553, \"Rank\": 141.0, \"Maternal_mortality\": 295.0, \"Adolescent_birth_rate\": 79.9, \"Seats_parliament\": 31.0, \"F_secondary_educ\": 16.4, \"M_secondary_educ\": 20.1, \"F_Labour_force\": 28.7, \"M_Labour_force\": 67.8}, {\"Country\": \"Madagascar\", \"Human_development\": \"Low\", \"GII\": 0.556, \"Rank\": 143.0, \"Maternal_mortality\": 335.0, \"Adolescent_birth_rate\": 119.4, \"Seats_parliament\": 17.2, \"F_secondary_educ\": 27.3, \"M_secondary_educ\": 29.8, \"F_Labour_force\": 81.5, \"M_Labour_force\": 87.6}, {\"Country\": \"Gambia\", \"Human_development\": \"Low\", \"GII\": 0.611, \"Rank\": 153.0, \"Maternal_mortality\": 597.0, \"Adolescent_birth_rate\": 63.2, \"Seats_parliament\": 8.6, \"F_secondary_educ\": 29.9, \"M_secondary_educ\": 43.2, \"F_Labour_force\": 48.9, \"M_Labour_force\": 66.3}, {\"Country\": \"Ethiopia\", \"Human_development\": \"Low\", \"GII\": 0.52, \"Rank\": 129.0, \"Maternal_mortality\": 401.0, \"Adolescent_birth_rate\": 69.2, \"Seats_parliament\": 39.5, \"F_secondary_educ\": 9.1, \"M_secondary_educ\": 20.1, \"F_Labour_force\": 72.3, \"M_Labour_force\": 84.7}, {\"Country\": \"Guinea-Bissau\", \"Human_development\": \"Low\", \"GII\": 0.627, \"Rank\": 159.0, \"Maternal_mortality\": 667.0, \"Adolescent_birth_rate\": 87.5, \"Seats_parliament\": 13.7, \"F_secondary_educ\": 9.8, \"M_secondary_educ\": 22.8, \"F_Labour_force\": 63.9, \"M_Labour_force\": 78.4}, {\"Country\": \"Liberia\", \"Human_development\": \"Low\", \"GII\": 0.648, \"Rank\": 164.0, \"Maternal_mortality\": 661.0, \"Adolescent_birth_rate\": 123.4, \"Seats_parliament\": 9.7, \"F_secondary_educ\": 20.8, \"M_secondary_educ\": 39.2, \"F_Labour_force\": 69.8, \"M_Labour_force\": 79.7}, {\"Country\": \"Congo\", \"Human_development\": \"Low\", \"GII\": 0.601, \"Rank\": 151.0, \"Maternal_mortality\": 473.0, \"Adolescent_birth_rate\": 109.0, \"Seats_parliament\": 14.3, \"F_secondary_educ\": 40.3, \"M_secondary_educ\": 69.1, \"F_Labour_force\": 61.2, \"M_Labour_force\": 69.1}, {\"Country\": \"Afghanistan\", \"Human_development\": \"Low\", \"GII\": 0.678, \"Rank\": 167.0, \"Maternal_mortality\": 638.0, \"Adolescent_birth_rate\": 82.6, \"Seats_parliament\": 27.2, \"F_secondary_educ\": 6.4, \"M_secondary_educ\": 14.9, \"F_Labour_force\": 14.8, \"M_Labour_force\": 66.5}, {\"Country\": \"Sierra Leone\", \"Human_development\": \"Low\", \"GII\": 0.633, \"Rank\": 162.0, \"Maternal_mortality\": 1120.0, \"Adolescent_birth_rate\": 100.9, \"Seats_parliament\": 12.3, \"F_secondary_educ\": 34.7, \"M_secondary_educ\": 51.5, \"F_Labour_force\": 56.1, \"M_Labour_force\": 55.9}, {\"Country\": \"Guinea\", \"Human_development\": \"Low\", \"GII\": 0.621, \"Rank\": 157.0, \"Maternal_mortality\": 576.0, \"Adolescent_birth_rate\": 114.8, \"Seats_parliament\": 16.7, \"F_secondary_educ\": 7.2, \"M_secondary_educ\": 19.7, \"F_Labour_force\": 62.1, \"M_Labour_force\": 62.2}, {\"Country\": \"Yemen\", \"Human_development\": \"Low\", \"GII\": 0.82, \"Rank\": 170.0, \"Maternal_mortality\": 164.0, \"Adolescent_birth_rate\": 54.4, \"Seats_parliament\": 0.3, \"F_secondary_educ\": 22.4, \"M_secondary_educ\": 37.5, \"F_Labour_force\": 6.0, \"M_Labour_force\": 67.6}, {\"Country\": \"Burkina Faso\", \"Human_development\": \"Low\", \"GII\": 0.621, \"Rank\": 157.0, \"Maternal_mortality\": 320.0, \"Adolescent_birth_rate\": 110.5, \"Seats_parliament\": 6.3, \"F_secondary_educ\": 11.3, \"M_secondary_educ\": 17.1, \"F_Labour_force\": 57.2, \"M_Labour_force\": 72.7}, {\"Country\": \"Mozambique\", \"Human_development\": \"Low\", \"GII\": 0.537, \"Rank\": 136.0, \"Maternal_mortality\": 289.0, \"Adolescent_birth_rate\": 165.8, \"Seats_parliament\": 42.4, \"F_secondary_educ\": 10.8, \"M_secondary_educ\": 20.2, \"F_Labour_force\": 77.7, \"M_Labour_force\": 78.9}, {\"Country\": \"Mali\", \"Human_development\": \"Low\", \"GII\": 0.613, \"Rank\": 155.0, \"Maternal_mortality\": 562.0, \"Adolescent_birth_rate\": 150.1, \"Seats_parliament\": 27.3, \"F_secondary_educ\": 8.0, \"M_secondary_educ\": 15.5, \"F_Labour_force\": 57.7, \"M_Labour_force\": 79.7}, {\"Country\": \"Burundi\", \"Human_development\": \"Low\", \"GII\": 0.505, \"Rank\": 127.0, \"Maternal_mortality\": 548.0, \"Adolescent_birth_rate\": 53.6, \"Seats_parliament\": 38.9, \"F_secondary_educ\": 7.8, \"M_secondary_educ\": 13.0, \"F_Labour_force\": 79.0, \"M_Labour_force\": 77.4}, {\"Country\": \"Central African Republic\", \"Human_development\": \"Low\", \"GII\": 0.672, \"Rank\": 166.0, \"Maternal_mortality\": 829.0, \"Adolescent_birth_rate\": 160.5, \"Seats_parliament\": 12.9, \"F_secondary_educ\": 13.9, \"M_secondary_educ\": 31.6, \"F_Labour_force\": 63.3, \"M_Labour_force\": 79.5}, {\"Country\": \"Niger\", \"Human_development\": \"Low\", \"GII\": 0.611, \"Rank\": 153.0, \"Maternal_mortality\": 509.0, \"Adolescent_birth_rate\": 170.5, \"Seats_parliament\": 25.9, \"F_secondary_educ\": 9.2, \"M_secondary_educ\": 15.2, \"F_Labour_force\": 61.7, \"M_Labour_force\": 84.3}, {\"Country\": \"Chad\", \"Human_development\": \"Low\", \"GII\": 0.652, \"Rank\": 165.0, \"Maternal_mortality\": 1140.0, \"Adolescent_birth_rate\": 138.3, \"Seats_parliament\": 32.3, \"F_secondary_educ\": 7.7, \"M_secondary_educ\": 24.4, \"F_Labour_force\": 46.9, \"M_Labour_force\": 69.9}, {\"Country\": \"South Sudan\", \"Human_development\": \"Low\", \"GII\": 0.587, \"Rank\": 150.0, \"Maternal_mortality\": 1150.0, \"Adolescent_birth_rate\": 99.2, \"Seats_parliament\": 32.3, \"F_secondary_educ\": 26.5, \"M_secondary_educ\": 36.4, \"F_Labour_force\": 70.4, \"M_Labour_force\": 73.6}]}}, {\"mode\": \"vega-lite\"});\n",
       "</script>"
      ],
      "text/plain": [
       "alt.Chart(...)"
      ]
     },
     "execution_count": 8,
     "metadata": {},
     "output_type": "execute_result"
    }
   ],
   "source": [
    "c1 = alt.Chart(df).mark_bar().encode(\n",
    "    x = 'Human_development',\n",
    "    y = 'GII',\n",
    "    color = \"Human_development:N\"\n",
    ")\n",
    "c1"
   ]
  },
  {
   "cell_type": "markdown",
   "metadata": {
    "cell_id": "fd47914c5008472887b95d485538bfe5",
    "deepnote_cell_type": "text-cell-p",
    "formattedRanges": []
   },
   "source": [
    "Lower Human development rate, higher gender inequality index and vice versa"
   ]
  },
  {
   "cell_type": "code",
   "execution_count": null,
   "metadata": {
    "cell_id": "86ebbeeb6af74284827283d7d427eeaa",
    "deepnote_cell_type": "code",
    "deepnote_to_be_reexecuted": false,
    "execution_millis": 250,
    "execution_start": 1702538910868,
    "source_hash": null
   },
   "outputs": [
    {
     "data": {
      "text/html": [
       "<html>\n",
       "<head><meta charset=\"utf-8\" /></head>\n",
       "<body>\n",
       "    <div>            <script src=\"https://cdnjs.cloudflare.com/ajax/libs/mathjax/2.7.5/MathJax.js?config=TeX-AMS-MML_SVG\"></script><script type=\"text/javascript\">if (window.MathJax && window.MathJax.Hub && window.MathJax.Hub.Config) {window.MathJax.Hub.Config({SVG: {font: \"STIX-Web\"}});}</script>                <script type=\"text/javascript\">window.PlotlyConfig = {MathJaxConfig: 'local'};</script>\n",
       "        <script src=\"https://cdn.plot.ly/plotly-2.14.0.min.js\"></script>                <div id=\"00f44b65-6f09-4737-bb40-868416e6129a\" class=\"plotly-graph-div\" style=\"height:525px; width:100%;\"></div>            <script type=\"text/javascript\">                                    window.PLOTLYENV=window.PLOTLYENV || {};                                    if (document.getElementById(\"00f44b65-6f09-4737-bb40-868416e6129a\")) {                    Plotly.newPlot(                        \"00f44b65-6f09-4737-bb40-868416e6129a\",                        [{\"colorbar\":{\"title\":{\"text\":\"GII\"}},\"colorscale\":[[0.0,\"rgb(103,0,31)\"],[0.1,\"rgb(178,24,43)\"],[0.2,\"rgb(214,96,77)\"],[0.3,\"rgb(244,165,130)\"],[0.4,\"rgb(253,219,199)\"],[0.5,\"rgb(247,247,247)\"],[0.6,\"rgb(209,229,240)\"],[0.7,\"rgb(146,197,222)\"],[0.8,\"rgb(67,147,195)\"],[0.9,\"rgb(33,102,172)\"],[1.0,\"rgb(5,48,97)\"]],\"locationmode\":\"country names\",\"locations\":[\"Switzerland\",\"Norway\",\"Iceland\",\"Australia\",\"Denmark\",\"Sweden\",\"Ireland\",\"Germany\",\"Netherlands\",\"Finland\",\"Singapore\",\"Belgium\",\"New Zealand\",\"Canada\",\"Luxembourg\",\"United Kingdom\",\"Japan\",\"South Korea\",\"United States\",\"Israel\",\"Malta\",\"Slovenia\",\"Austria\",\"United Arab Emirates\",\"Spain\",\"France\",\"Cyprus\",\"Italy\",\"Estonia\",\"Czechia\",\"Greece\",\"Poland\",\"Bahrain\",\"Lithuania\",\"Saudi Arabia\",\"Portugal\",\"Latvia\",\"Croatia\",\"Chile\",\"Qatar\",\"Slovakia\",\"Hungary\",\"Argentina\",\"T\\u00fcrkiye\",\"Montenegro\",\"Kuwait\",\"Brunei Darussalam\",\"Russian Federation\",\"Romania\",\"Oman\",\"Bahamas\",\"Kazakhstan\",\"Trinidad and Tobago\",\"Costa Rica\",\"Uruguay\",\"Belarus\",\"Panama\",\"Malaysia\",\"Georgia\",\"Mauritius\",\"Serbia\",\"Thailand\",\"Albania\",\"Bulgaria\",\"Barbados\",\"Sri Lanka\",\"Bosnia and Herzegovina\",\"Iran\",\"Ukraine\",\"North Macedonia\",\"China\",\"Dominican Republic\",\"Moldova\",\"Cuba\",\"Peru\",\"Armenia\",\"Mexico\",\"Brazil\",\"Colombia\",\"Saint Vincent and the Grenadines\",\"Maldives\",\"Algeria\",\"Azerbaijan\",\"Tonga\",\"Turkmenistan\",\"Ecuador\",\"Mongolia\",\"Egypt\",\"Tunisia\",\"Fiji\",\"Suriname\",\"Uzbekistan\",\"Jordan\",\"Libya\",\"Paraguay\",\"Saint Lucia\",\"Guyana\",\"South Africa\",\"Jamaica\",\"Samoa\",\"Gabon\",\"Lebanon\",\"Indonesia\",\"Viet Nam\",\"Philippines\",\"Botswana\",\"Bolivia\",\"Kyrgyzstan\",\"Venezuela\",\"Iraq\",\"Tajikistan\",\"Belize\",\"Morocco\",\"El Salvador\",\"Nicaragua\",\"Bhutan\",\"Cabo Verde\",\"Bangladesh\",\"India\",\"Ghana\",\"Guatemala\",\"Honduras\",\"Sao Tome and Principe\",\"Namibia\",\"Lao People's Democratic Republic\",\"Timor-Leste\",\"Nepal\",\"Eswatini\",\"Cambodia\",\"Zimbabwe\",\"Angola\",\"Myanmar\",\"Syrian Arab Republic\",\"Cameroon\",\"Kenya\",\"Congo\",\"Zambia\",\"Papua New Guinea\",\"Mauritania\",\"C\\u00f4te d'Ivoire\",\"Tanzania\",\"Pakistan\",\"Togo\",\"Haiti\",\"Nigeria\",\"Rwanda\",\"Benin\",\"Uganda\",\"Lesotho\",\"Malawi\",\"Senegal\",\"Sudan\",\"Madagascar\",\"Gambia\",\"Ethiopia\",\"Guinea-Bissau\",\"Liberia\",\"Congo\",\"Afghanistan\",\"Sierra Leone\",\"Guinea\",\"Yemen\",\"Burkina Faso\",\"Mozambique\",\"Mali\",\"Burundi\",\"Central African Republic\",\"Niger\",\"Chad\",\"South Sudan\"],\"z\":[0.018,0.016,0.043,0.073,0.013,0.023,0.074,0.073,0.025,0.033,0.04,0.048,0.088,0.069,0.044,0.098,0.083,0.067,0.179,0.083,0.167,0.071,0.053,0.049,0.057,0.083,0.123,0.056,0.1,0.12,0.119,0.109,0.181,0.105,0.247,0.067,0.151,0.093,0.187,0.22,0.18,0.221,0.287,0.272,0.119,0.305,0.259,0.203,0.282,0.3,0.329,0.161,0.344,0.256,0.235,0.104,0.392,0.228,0.28,0.347,0.131,0.333,0.144,0.21,0.268,0.383,0.136,0.459,0.2,0.134,0.192,0.429,0.205,0.303,0.38,0.216,0.309,0.39,0.424,0.39,0.348,0.499,0.294,0.631,0.177,0.362,0.313,0.443,0.259,0.318,0.427,0.227,0.471,0.259,0.445,0.381,0.454,0.405,0.335,0.418,0.541,0.432,0.444,0.296,0.419,0.468,0.418,0.37,0.492,0.558,0.285,0.364,0.425,0.376,0.424,0.415,0.349,0.53,0.49,0.529,0.481,0.431,0.494,0.445,0.478,0.378,0.452,0.54,0.461,0.532,0.537,0.498,0.477,0.565,0.506,0.564,0.54,0.725,0.632,0.613,0.56,0.534,0.58,0.635,0.68,0.388,0.602,0.53,0.557,0.554,0.53,0.553,0.556,0.611,0.52,0.627,0.648,0.601,0.678,0.633,0.621,0.82,0.621,0.537,0.613,0.505,0.672,0.611,0.652,0.587],\"type\":\"choropleth\"}],                        {\"template\":{\"data\":{\"histogram2dcontour\":[{\"type\":\"histogram2dcontour\",\"colorbar\":{\"outlinewidth\":0,\"ticks\":\"\"},\"colorscale\":[[0.0,\"#0d0887\"],[0.1111111111111111,\"#46039f\"],[0.2222222222222222,\"#7201a8\"],[0.3333333333333333,\"#9c179e\"],[0.4444444444444444,\"#bd3786\"],[0.5555555555555556,\"#d8576b\"],[0.6666666666666666,\"#ed7953\"],[0.7777777777777778,\"#fb9f3a\"],[0.8888888888888888,\"#fdca26\"],[1.0,\"#f0f921\"]]}],\"choropleth\":[{\"type\":\"choropleth\",\"colorbar\":{\"outlinewidth\":0,\"ticks\":\"\"}}],\"histogram2d\":[{\"type\":\"histogram2d\",\"colorbar\":{\"outlinewidth\":0,\"ticks\":\"\"},\"colorscale\":[[0.0,\"#0d0887\"],[0.1111111111111111,\"#46039f\"],[0.2222222222222222,\"#7201a8\"],[0.3333333333333333,\"#9c179e\"],[0.4444444444444444,\"#bd3786\"],[0.5555555555555556,\"#d8576b\"],[0.6666666666666666,\"#ed7953\"],[0.7777777777777778,\"#fb9f3a\"],[0.8888888888888888,\"#fdca26\"],[1.0,\"#f0f921\"]]}],\"heatmap\":[{\"type\":\"heatmap\",\"colorbar\":{\"outlinewidth\":0,\"ticks\":\"\"},\"colorscale\":[[0.0,\"#0d0887\"],[0.1111111111111111,\"#46039f\"],[0.2222222222222222,\"#7201a8\"],[0.3333333333333333,\"#9c179e\"],[0.4444444444444444,\"#bd3786\"],[0.5555555555555556,\"#d8576b\"],[0.6666666666666666,\"#ed7953\"],[0.7777777777777778,\"#fb9f3a\"],[0.8888888888888888,\"#fdca26\"],[1.0,\"#f0f921\"]]}],\"heatmapgl\":[{\"type\":\"heatmapgl\",\"colorbar\":{\"outlinewidth\":0,\"ticks\":\"\"},\"colorscale\":[[0.0,\"#0d0887\"],[0.1111111111111111,\"#46039f\"],[0.2222222222222222,\"#7201a8\"],[0.3333333333333333,\"#9c179e\"],[0.4444444444444444,\"#bd3786\"],[0.5555555555555556,\"#d8576b\"],[0.6666666666666666,\"#ed7953\"],[0.7777777777777778,\"#fb9f3a\"],[0.8888888888888888,\"#fdca26\"],[1.0,\"#f0f921\"]]}],\"contourcarpet\":[{\"type\":\"contourcarpet\",\"colorbar\":{\"outlinewidth\":0,\"ticks\":\"\"}}],\"contour\":[{\"type\":\"contour\",\"colorbar\":{\"outlinewidth\":0,\"ticks\":\"\"},\"colorscale\":[[0.0,\"#0d0887\"],[0.1111111111111111,\"#46039f\"],[0.2222222222222222,\"#7201a8\"],[0.3333333333333333,\"#9c179e\"],[0.4444444444444444,\"#bd3786\"],[0.5555555555555556,\"#d8576b\"],[0.6666666666666666,\"#ed7953\"],[0.7777777777777778,\"#fb9f3a\"],[0.8888888888888888,\"#fdca26\"],[1.0,\"#f0f921\"]]}],\"surface\":[{\"type\":\"surface\",\"colorbar\":{\"outlinewidth\":0,\"ticks\":\"\"},\"colorscale\":[[0.0,\"#0d0887\"],[0.1111111111111111,\"#46039f\"],[0.2222222222222222,\"#7201a8\"],[0.3333333333333333,\"#9c179e\"],[0.4444444444444444,\"#bd3786\"],[0.5555555555555556,\"#d8576b\"],[0.6666666666666666,\"#ed7953\"],[0.7777777777777778,\"#fb9f3a\"],[0.8888888888888888,\"#fdca26\"],[1.0,\"#f0f921\"]]}],\"mesh3d\":[{\"type\":\"mesh3d\",\"colorbar\":{\"outlinewidth\":0,\"ticks\":\"\"}}],\"scatter\":[{\"fillpattern\":{\"fillmode\":\"overlay\",\"size\":10,\"solidity\":0.2},\"type\":\"scatter\"}],\"parcoords\":[{\"type\":\"parcoords\",\"line\":{\"colorbar\":{\"outlinewidth\":0,\"ticks\":\"\"}}}],\"scatterpolargl\":[{\"type\":\"scatterpolargl\",\"marker\":{\"colorbar\":{\"outlinewidth\":0,\"ticks\":\"\"}}}],\"bar\":[{\"error_x\":{\"color\":\"#2a3f5f\"},\"error_y\":{\"color\":\"#2a3f5f\"},\"marker\":{\"line\":{\"color\":\"#E5ECF6\",\"width\":0.5},\"pattern\":{\"fillmode\":\"overlay\",\"size\":10,\"solidity\":0.2}},\"type\":\"bar\"}],\"scattergeo\":[{\"type\":\"scattergeo\",\"marker\":{\"colorbar\":{\"outlinewidth\":0,\"ticks\":\"\"}}}],\"scatterpolar\":[{\"type\":\"scatterpolar\",\"marker\":{\"colorbar\":{\"outlinewidth\":0,\"ticks\":\"\"}}}],\"histogram\":[{\"marker\":{\"pattern\":{\"fillmode\":\"overlay\",\"size\":10,\"solidity\":0.2}},\"type\":\"histogram\"}],\"scattergl\":[{\"type\":\"scattergl\",\"marker\":{\"colorbar\":{\"outlinewidth\":0,\"ticks\":\"\"}}}],\"scatter3d\":[{\"type\":\"scatter3d\",\"line\":{\"colorbar\":{\"outlinewidth\":0,\"ticks\":\"\"}},\"marker\":{\"colorbar\":{\"outlinewidth\":0,\"ticks\":\"\"}}}],\"scattermapbox\":[{\"type\":\"scattermapbox\",\"marker\":{\"colorbar\":{\"outlinewidth\":0,\"ticks\":\"\"}}}],\"scatterternary\":[{\"type\":\"scatterternary\",\"marker\":{\"colorbar\":{\"outlinewidth\":0,\"ticks\":\"\"}}}],\"scattercarpet\":[{\"type\":\"scattercarpet\",\"marker\":{\"colorbar\":{\"outlinewidth\":0,\"ticks\":\"\"}}}],\"carpet\":[{\"aaxis\":{\"endlinecolor\":\"#2a3f5f\",\"gridcolor\":\"white\",\"linecolor\":\"white\",\"minorgridcolor\":\"white\",\"startlinecolor\":\"#2a3f5f\"},\"baxis\":{\"endlinecolor\":\"#2a3f5f\",\"gridcolor\":\"white\",\"linecolor\":\"white\",\"minorgridcolor\":\"white\",\"startlinecolor\":\"#2a3f5f\"},\"type\":\"carpet\"}],\"table\":[{\"cells\":{\"fill\":{\"color\":\"#EBF0F8\"},\"line\":{\"color\":\"white\"}},\"header\":{\"fill\":{\"color\":\"#C8D4E3\"},\"line\":{\"color\":\"white\"}},\"type\":\"table\"}],\"barpolar\":[{\"marker\":{\"line\":{\"color\":\"#E5ECF6\",\"width\":0.5},\"pattern\":{\"fillmode\":\"overlay\",\"size\":10,\"solidity\":0.2}},\"type\":\"barpolar\"}],\"pie\":[{\"automargin\":true,\"type\":\"pie\"}]},\"layout\":{\"autotypenumbers\":\"strict\",\"colorway\":[\"#636efa\",\"#EF553B\",\"#00cc96\",\"#ab63fa\",\"#FFA15A\",\"#19d3f3\",\"#FF6692\",\"#B6E880\",\"#FF97FF\",\"#FECB52\"],\"font\":{\"color\":\"#2a3f5f\"},\"hovermode\":\"closest\",\"hoverlabel\":{\"align\":\"left\"},\"paper_bgcolor\":\"white\",\"plot_bgcolor\":\"#E5ECF6\",\"polar\":{\"bgcolor\":\"#E5ECF6\",\"angularaxis\":{\"gridcolor\":\"white\",\"linecolor\":\"white\",\"ticks\":\"\"},\"radialaxis\":{\"gridcolor\":\"white\",\"linecolor\":\"white\",\"ticks\":\"\"}},\"ternary\":{\"bgcolor\":\"#E5ECF6\",\"aaxis\":{\"gridcolor\":\"white\",\"linecolor\":\"white\",\"ticks\":\"\"},\"baxis\":{\"gridcolor\":\"white\",\"linecolor\":\"white\",\"ticks\":\"\"},\"caxis\":{\"gridcolor\":\"white\",\"linecolor\":\"white\",\"ticks\":\"\"}},\"coloraxis\":{\"colorbar\":{\"outlinewidth\":0,\"ticks\":\"\"}},\"colorscale\":{\"sequential\":[[0.0,\"#0d0887\"],[0.1111111111111111,\"#46039f\"],[0.2222222222222222,\"#7201a8\"],[0.3333333333333333,\"#9c179e\"],[0.4444444444444444,\"#bd3786\"],[0.5555555555555556,\"#d8576b\"],[0.6666666666666666,\"#ed7953\"],[0.7777777777777778,\"#fb9f3a\"],[0.8888888888888888,\"#fdca26\"],[1.0,\"#f0f921\"]],\"sequentialminus\":[[0.0,\"#0d0887\"],[0.1111111111111111,\"#46039f\"],[0.2222222222222222,\"#7201a8\"],[0.3333333333333333,\"#9c179e\"],[0.4444444444444444,\"#bd3786\"],[0.5555555555555556,\"#d8576b\"],[0.6666666666666666,\"#ed7953\"],[0.7777777777777778,\"#fb9f3a\"],[0.8888888888888888,\"#fdca26\"],[1.0,\"#f0f921\"]],\"diverging\":[[0,\"#8e0152\"],[0.1,\"#c51b7d\"],[0.2,\"#de77ae\"],[0.3,\"#f1b6da\"],[0.4,\"#fde0ef\"],[0.5,\"#f7f7f7\"],[0.6,\"#e6f5d0\"],[0.7,\"#b8e186\"],[0.8,\"#7fbc41\"],[0.9,\"#4d9221\"],[1,\"#276419\"]]},\"xaxis\":{\"gridcolor\":\"white\",\"linecolor\":\"white\",\"ticks\":\"\",\"title\":{\"standoff\":15},\"zerolinecolor\":\"white\",\"automargin\":true,\"zerolinewidth\":2},\"yaxis\":{\"gridcolor\":\"white\",\"linecolor\":\"white\",\"ticks\":\"\",\"title\":{\"standoff\":15},\"zerolinecolor\":\"white\",\"automargin\":true,\"zerolinewidth\":2},\"scene\":{\"xaxis\":{\"backgroundcolor\":\"#E5ECF6\",\"gridcolor\":\"white\",\"linecolor\":\"white\",\"showbackground\":true,\"ticks\":\"\",\"zerolinecolor\":\"white\",\"gridwidth\":2},\"yaxis\":{\"backgroundcolor\":\"#E5ECF6\",\"gridcolor\":\"white\",\"linecolor\":\"white\",\"showbackground\":true,\"ticks\":\"\",\"zerolinecolor\":\"white\",\"gridwidth\":2},\"zaxis\":{\"backgroundcolor\":\"#E5ECF6\",\"gridcolor\":\"white\",\"linecolor\":\"white\",\"showbackground\":true,\"ticks\":\"\",\"zerolinecolor\":\"white\",\"gridwidth\":2}},\"shapedefaults\":{\"line\":{\"color\":\"#2a3f5f\"}},\"annotationdefaults\":{\"arrowcolor\":\"#2a3f5f\",\"arrowhead\":0,\"arrowwidth\":1},\"geo\":{\"bgcolor\":\"white\",\"landcolor\":\"#E5ECF6\",\"subunitcolor\":\"white\",\"showland\":true,\"showlakes\":true,\"lakecolor\":\"white\"},\"title\":{\"x\":0.05},\"mapbox\":{\"style\":\"light\"}}},\"title\":{\"text\":\"Gender Inequality Index\"}},                        {\"responsive\": true}                    ).then(function(){\n",
       "                            \n",
       "var gd = document.getElementById('00f44b65-6f09-4737-bb40-868416e6129a');\n",
       "var x = new MutationObserver(function (mutations, observer) {{\n",
       "        var display = window.getComputedStyle(gd).display;\n",
       "        if (!display || display === 'none') {{\n",
       "            console.log([gd, 'removed!']);\n",
       "            Plotly.purge(gd);\n",
       "            observer.disconnect();\n",
       "        }}\n",
       "}});\n",
       "\n",
       "// Listen for the removal of the full notebook cells\n",
       "var notebookContainer = gd.closest('#notebook-container');\n",
       "if (notebookContainer) {{\n",
       "    x.observe(notebookContainer, {childList: true});\n",
       "}}\n",
       "\n",
       "// Listen for the clearing of the current output cell\n",
       "var outputEl = gd.closest('.output');\n",
       "if (outputEl) {{\n",
       "    x.observe(outputEl, {childList: true});\n",
       "}}\n",
       "\n",
       "                        })                };                            </script>        </div>\n",
       "</body>\n",
       "</html>"
      ]
     },
     "metadata": {},
     "output_type": "display_data"
    }
   ],
   "source": [
    "fig1 = go.Figure(data=go.Choropleth(\n",
    "    locations = df['Country'],\n",
    "    locationmode = 'country names',\n",
    "    z = df['GII'],\n",
    "    colorscale = 'RdBu',\n",
    "    colorbar_title = 'GII',\n",
    "))\n",
    "fig1.update_layout(\n",
    "    title_text='Gender Inequality Index'\n",
    ")\n",
    "\n",
    "fig1"
   ]
  },
  {
   "cell_type": "markdown",
   "metadata": {
    "cell_id": "0d23684764d5409fb0ff6f4ae8a985ec",
    "deepnote_cell_type": "text-cell-p",
    "formattedRanges": []
   },
   "source": [
    "A geographic map of worldwide GII"
   ]
  },
  {
   "cell_type": "markdown",
   "metadata": {
    "cell_id": "7bdd66aa89ee455c957ba41f72773e57",
    "deepnote_cell_type": "text-cell-h1",
    "formattedRanges": []
   },
   "source": [
    "# b) Correlation between data"
   ]
  },
  {
   "cell_type": "markdown",
   "metadata": {
    "cell_id": "efe7ffe9f91a473b9c71477106ed360a",
    "deepnote_cell_type": "text-cell-p",
    "formattedRanges": []
   },
   "source": [
    "Firstly we covert Human Development into integer to compare with other data"
   ]
  },
  {
   "cell_type": "code",
   "execution_count": null,
   "metadata": {
    "cell_id": "9b91dea967034e368d9b5334b69c615a",
    "deepnote_cell_type": "code",
    "deepnote_to_be_reexecuted": false,
    "execution_millis": 11,
    "execution_start": 1702538915841,
    "source_hash": null
   },
   "outputs": [],
   "source": [
    "development_mapping = {\n",
    "    \"Very high\": 1,\n",
    "    \"High\": 2,\n",
    "    \"Medium\": 3,\n",
    "    \"Low\": 4\n",
    "}\n",
    "\n",
    "df['Human_development_int'] = df['Human_development'].map(development_mapping)"
   ]
  },
  {
   "cell_type": "code",
   "execution_count": null,
   "metadata": {
    "cell_id": "2b608a8ace14469abfc141583da71083",
    "deepnote_cell_type": "code",
    "deepnote_table_loading": false,
    "deepnote_table_state": {
     "filters": [],
     "pageIndex": 0,
     "pageSize": 10,
     "sortBy": []
    },
    "deepnote_to_be_reexecuted": false,
    "execution_millis": 91,
    "execution_start": 1702538917781,
    "source_hash": null
   },
   "outputs": [
    {
     "data": {
      "application/vnd.deepnote.dataframe.v3+json": {
       "column_count": 12,
       "columns": [
        {
         "dtype": "object",
         "name": "Country",
         "stats": {
          "categories": [
           {
            "count": 2,
            "name": "Congo"
           },
           {
            "count": 1,
            "name": "Switzerland"
           },
           {
            "count": 167,
            "name": "167 others"
           }
          ],
          "nan_count": 0,
          "unique_count": 169
         }
        },
        {
         "dtype": "object",
         "name": "Human_development",
         "stats": {
          "categories": [
           {
            "count": 62,
            "name": "Very high"
           },
           {
            "count": 42,
            "name": "High"
           },
           {
            "count": 66,
            "name": "2 others"
           }
          ],
          "nan_count": 0,
          "unique_count": 4
         }
        },
        {
         "dtype": "float64",
         "name": "GII",
         "stats": {
          "histogram": [
           {
            "bin_end": 0.09369999999999999,
            "bin_start": 0.013,
            "count": 26
           },
           {
            "bin_end": 0.1744,
            "bin_start": 0.09369999999999999,
            "count": 16
           },
           {
            "bin_end": 0.2551,
            "bin_start": 0.1744,
            "count": 17
           },
           {
            "bin_end": 0.3358,
            "bin_start": 0.2551,
            "count": 21
           },
           {
            "bin_end": 0.4165,
            "bin_start": 0.3358,
            "count": 18
           },
           {
            "bin_end": 0.4972,
            "bin_start": 0.4165,
            "count": 26
           },
           {
            "bin_end": 0.5779,
            "bin_start": 0.4972,
            "count": 24
           },
           {
            "bin_end": 0.6586,
            "bin_start": 0.5779,
            "count": 17
           },
           {
            "bin_end": 0.7393,
            "bin_start": 0.6586,
            "count": 4
           },
           {
            "bin_end": 0.82,
            "bin_start": 0.7393,
            "count": 1
           }
          ],
          "max": "0.82",
          "min": "0.013",
          "nan_count": 0,
          "unique_count": 152
         }
        },
        {
         "dtype": "float64",
         "name": "Rank",
         "stats": {
          "histogram": [
           {
            "bin_end": 17.9,
            "bin_start": 1,
            "count": 17
           },
           {
            "bin_end": 34.8,
            "bin_start": 17.9,
            "count": 17
           },
           {
            "bin_end": 51.699999999999996,
            "bin_start": 34.8,
            "count": 17
           },
           {
            "bin_end": 68.6,
            "bin_start": 51.699999999999996,
            "count": 17
           },
           {
            "bin_end": 85.5,
            "bin_start": 68.6,
            "count": 17
           },
           {
            "bin_end": 102.39999999999999,
            "bin_start": 85.5,
            "count": 18
           },
           {
            "bin_end": 119.29999999999998,
            "bin_start": 102.39999999999999,
            "count": 16
           },
           {
            "bin_end": 136.2,
            "bin_start": 119.29999999999998,
            "count": 18
           },
           {
            "bin_end": 153.1,
            "bin_start": 136.2,
            "count": 17
           },
           {
            "bin_end": 170,
            "bin_start": 153.1,
            "count": 16
           }
          ],
          "max": "170.0",
          "min": "1.0",
          "nan_count": 0,
          "unique_count": 152
         }
        },
        {
         "dtype": "float64",
         "name": "Maternal_mortality",
         "stats": {
          "histogram": [
           {
            "bin_end": 116.8,
            "bin_start": 2,
            "count": 109
           },
           {
            "bin_end": 231.6,
            "bin_start": 116.8,
            "count": 22
           },
           {
            "bin_end": 346.4,
            "bin_start": 231.6,
            "count": 11
           },
           {
            "bin_end": 461.2,
            "bin_start": 346.4,
            "count": 8
           },
           {
            "bin_end": 576,
            "bin_start": 461.2,
            "count": 8
           },
           {
            "bin_end": 690.8,
            "bin_start": 576,
            "count": 6
           },
           {
            "bin_end": 805.6,
            "bin_start": 690.8,
            "count": 1
           },
           {
            "bin_end": 920.4,
            "bin_start": 805.6,
            "count": 2
           },
           {
            "bin_end": 1035.2,
            "bin_start": 920.4,
            "count": 0
           },
           {
            "bin_end": 1150,
            "bin_start": 1035.2,
            "count": 3
           }
          ],
          "max": "1150.0",
          "min": "2.0",
          "nan_count": 0,
          "unique_count": 110
         }
        },
        {
         "dtype": "float64",
         "name": "Adolescent_birth_rate",
         "stats": {
          "histogram": [
           {
            "bin_end": 18.759999999999998,
            "bin_start": 1.9,
            "count": 61
           },
           {
            "bin_end": 35.62,
            "bin_start": 18.759999999999998,
            "count": 25
           },
           {
            "bin_end": 52.48,
            "bin_start": 35.62,
            "count": 20
           },
           {
            "bin_end": 69.34,
            "bin_start": 52.48,
            "count": 25
           },
           {
            "bin_end": 86.2,
            "bin_start": 69.34,
            "count": 13
           },
           {
            "bin_end": 103.06,
            "bin_start": 86.2,
            "count": 8
           },
           {
            "bin_end": 119.92,
            "bin_start": 103.06,
            "count": 10
           },
           {
            "bin_end": 136.78,
            "bin_start": 119.92,
            "count": 2
           },
           {
            "bin_end": 153.64000000000001,
            "bin_start": 136.78,
            "count": 3
           },
           {
            "bin_end": 170.5,
            "bin_start": 153.64000000000001,
            "count": 3
           }
          ],
          "max": "170.5",
          "min": "1.9",
          "nan_count": 0,
          "unique_count": 157
         }
        },
        {
         "dtype": "float64",
         "name": "Seats_parliament",
         "stats": {
          "histogram": [
           {
            "bin_end": 5.57,
            "bin_start": 0,
            "count": 10
           },
           {
            "bin_end": 11.14,
            "bin_start": 5.57,
            "count": 10
           },
           {
            "bin_end": 16.71,
            "bin_start": 11.14,
            "count": 23
           },
           {
            "bin_end": 22.28,
            "bin_start": 16.71,
            "count": 33
           },
           {
            "bin_end": 27.85,
            "bin_start": 22.28,
            "count": 28
           },
           {
            "bin_end": 33.42,
            "bin_start": 27.85,
            "count": 19
           },
           {
            "bin_end": 38.99,
            "bin_start": 33.42,
            "count": 18
           },
           {
            "bin_end": 44.56,
            "bin_start": 38.99,
            "count": 16
           },
           {
            "bin_end": 50.13,
            "bin_start": 44.56,
            "count": 10
           },
           {
            "bin_end": 55.7,
            "bin_start": 50.13,
            "count": 3
           }
          ],
          "max": "55.7",
          "min": "0.0",
          "nan_count": 0,
          "unique_count": 146
         }
        },
        {
         "dtype": "float64",
         "name": "F_secondary_educ",
         "stats": {
          "histogram": [
           {
            "bin_end": 15.76,
            "bin_start": 6.4,
            "count": 17
           },
           {
            "bin_end": 25.119999999999997,
            "bin_start": 15.76,
            "count": 9
           },
           {
            "bin_end": 34.48,
            "bin_start": 25.119999999999997,
            "count": 14
           },
           {
            "bin_end": 43.839999999999996,
            "bin_start": 34.48,
            "count": 14
           },
           {
            "bin_end": 53.199999999999996,
            "bin_start": 43.839999999999996,
            "count": 12
           },
           {
            "bin_end": 62.559999999999995,
            "bin_start": 53.199999999999996,
            "count": 15
           },
           {
            "bin_end": 71.92,
            "bin_start": 62.559999999999995,
            "count": 13
           },
           {
            "bin_end": 81.28,
            "bin_start": 71.92,
            "count": 16
           },
           {
            "bin_end": 90.64,
            "bin_start": 81.28,
            "count": 18
           },
           {
            "bin_end": 100,
            "bin_start": 90.64,
            "count": 42
           }
          ],
          "max": "100.0",
          "min": "6.4",
          "nan_count": 0,
          "unique_count": 151
         }
        },
        {
         "dtype": "float64",
         "name": "M_secondary_educ",
         "stats": {
          "histogram": [
           {
            "bin_end": 21.7,
            "bin_start": 13,
            "count": 12
           },
           {
            "bin_end": 30.4,
            "bin_start": 21.7,
            "count": 7
           },
           {
            "bin_end": 39.099999999999994,
            "bin_start": 30.4,
            "count": 14
           },
           {
            "bin_end": 47.8,
            "bin_start": 39.099999999999994,
            "count": 14
           },
           {
            "bin_end": 56.5,
            "bin_start": 47.8,
            "count": 20
           },
           {
            "bin_end": 65.19999999999999,
            "bin_start": 56.5,
            "count": 8
           },
           {
            "bin_end": 73.89999999999999,
            "bin_start": 65.19999999999999,
            "count": 17
           },
           {
            "bin_end": 82.6,
            "bin_start": 73.89999999999999,
            "count": 11
           },
           {
            "bin_end": 91.3,
            "bin_start": 82.6,
            "count": 20
           },
           {
            "bin_end": 100,
            "bin_start": 91.3,
            "count": 47
           }
          ],
          "max": "100.0",
          "min": "13.0",
          "nan_count": 0,
          "unique_count": 147
         }
        },
        {
         "dtype": "float64",
         "name": "F_Labour_force",
         "stats": {
          "histogram": [
           {
            "bin_end": 13.65,
            "bin_start": 6,
            "count": 3
           },
           {
            "bin_end": 21.3,
            "bin_start": 13.65,
            "count": 8
           },
           {
            "bin_end": 28.950000000000003,
            "bin_start": 21.3,
            "count": 5
           },
           {
            "bin_end": 36.6,
            "bin_start": 28.950000000000003,
            "count": 13
           },
           {
            "bin_end": 44.25,
            "bin_start": 36.6,
            "count": 22
           },
           {
            "bin_end": 51.900000000000006,
            "bin_start": 44.25,
            "count": 33
           },
           {
            "bin_end": 59.550000000000004,
            "bin_start": 51.900000000000006,
            "count": 41
           },
           {
            "bin_end": 67.2,
            "bin_start": 59.550000000000004,
            "count": 25
           },
           {
            "bin_end": 74.85000000000001,
            "bin_start": 67.2,
            "count": 13
           },
           {
            "bin_end": 82.5,
            "bin_start": 74.85000000000001,
            "count": 7
           }
          ],
          "max": "82.5",
          "min": "6.0",
          "nan_count": 0,
          "unique_count": 140
         }
        },
        {
         "dtype": "float64",
         "name": "M_Labour_force",
         "stats": {
          "histogram": [
           {
            "bin_end": 49.06,
            "bin_start": 43.9,
            "count": 2
           },
           {
            "bin_end": 54.22,
            "bin_start": 49.06,
            "count": 4
           },
           {
            "bin_end": 59.379999999999995,
            "bin_start": 54.22,
            "count": 9
           },
           {
            "bin_end": 64.53999999999999,
            "bin_start": 59.379999999999995,
            "count": 25
           },
           {
            "bin_end": 69.7,
            "bin_start": 64.53999999999999,
            "count": 45
           },
           {
            "bin_end": 74.86,
            "bin_start": 69.7,
            "count": 38
           },
           {
            "bin_end": 80.02000000000001,
            "bin_start": 74.86,
            "count": 26
           },
           {
            "bin_end": 85.18,
            "bin_start": 80.02000000000001,
            "count": 15
           },
           {
            "bin_end": 90.34,
            "bin_start": 85.18,
            "count": 5
           },
           {
            "bin_end": 95.5,
            "bin_start": 90.34,
            "count": 1
           }
          ],
          "max": "95.5",
          "min": "43.9",
          "nan_count": 0,
          "unique_count": 132
         }
        },
        {
         "dtype": "int64",
         "name": "Human_development_int",
         "stats": {
          "histogram": [
           {
            "bin_end": 1.3,
            "bin_start": 1,
            "count": 62
           },
           {
            "bin_end": 1.6,
            "bin_start": 1.3,
            "count": 0
           },
           {
            "bin_end": 1.9,
            "bin_start": 1.6,
            "count": 0
           },
           {
            "bin_end": 2.2,
            "bin_start": 1.9,
            "count": 42
           },
           {
            "bin_end": 2.5,
            "bin_start": 2.2,
            "count": 0
           },
           {
            "bin_end": 2.8,
            "bin_start": 2.5,
            "count": 0
           },
           {
            "bin_end": 3.1,
            "bin_start": 2.8,
            "count": 36
           },
           {
            "bin_end": 3.4,
            "bin_start": 3.1,
            "count": 0
           },
           {
            "bin_end": 3.6999999999999997,
            "bin_start": 3.4,
            "count": 0
           },
           {
            "bin_end": 4,
            "bin_start": 3.6999999999999997,
            "count": 30
           }
          ],
          "max": "4",
          "min": "1",
          "nan_count": 0,
          "unique_count": 4
         }
        },
        {
         "dtype": "int64",
         "name": "_deepnote_index_column"
        }
       ],
       "row_count": 170,
       "rows": [
        {
         "Adolescent_birth_rate": 2.2,
         "Country": "Switzerland",
         "F_Labour_force": 61.7,
         "F_secondary_educ": 96.9,
         "GII": 0.018,
         "Human_development": "Very high",
         "Human_development_int": 1,
         "M_Labour_force": 72.7,
         "M_secondary_educ": 97.5,
         "Maternal_mortality": 5,
         "Rank": 3,
         "Seats_parliament": 39.8,
         "_deepnote_index_column": 0
        },
        {
         "Adolescent_birth_rate": 2.3,
         "Country": "Norway",
         "F_Labour_force": 60.3,
         "F_secondary_educ": 99.1,
         "GII": 0.016,
         "Human_development": "Very high",
         "Human_development_int": 1,
         "M_Labour_force": 72,
         "M_secondary_educ": 99.3,
         "Maternal_mortality": 2,
         "Rank": 2,
         "Seats_parliament": 45,
         "_deepnote_index_column": 1
        },
        {
         "Adolescent_birth_rate": 5.4,
         "Country": "Iceland",
         "F_Labour_force": 61.7,
         "F_secondary_educ": 99.8,
         "GII": 0.043,
         "Human_development": "Very high",
         "Human_development_int": 1,
         "M_Labour_force": 70.5,
         "M_secondary_educ": 99.7,
         "Maternal_mortality": 4,
         "Rank": 8,
         "Seats_parliament": 47.6,
         "_deepnote_index_column": 2
        },
        {
         "Adolescent_birth_rate": 8.1,
         "Country": "Australia",
         "F_Labour_force": 61.1,
         "F_secondary_educ": 94.6,
         "GII": 0.073,
         "Human_development": "Very high",
         "Human_development_int": 1,
         "M_Labour_force": 70.5,
         "M_secondary_educ": 94.4,
         "Maternal_mortality": 6,
         "Rank": 19,
         "Seats_parliament": 37.9,
         "_deepnote_index_column": 4
        },
        {
         "Adolescent_birth_rate": 1.9,
         "Country": "Denmark",
         "F_Labour_force": 57.7,
         "F_secondary_educ": 95.1,
         "GII": 0.013,
         "Human_development": "Very high",
         "Human_development_int": 1,
         "M_Labour_force": 66.7,
         "M_secondary_educ": 95.2,
         "Maternal_mortality": 4,
         "Rank": 1,
         "Seats_parliament": 39.7,
         "_deepnote_index_column": 5
        },
        {
         "Adolescent_birth_rate": 3.3,
         "Country": "Sweden",
         "F_Labour_force": 61.7,
         "F_secondary_educ": 91.8,
         "GII": 0.023,
         "Human_development": "Very high",
         "Human_development_int": 1,
         "M_Labour_force": 68,
         "M_secondary_educ": 92.2,
         "Maternal_mortality": 4,
         "Rank": 4,
         "Seats_parliament": 47,
         "_deepnote_index_column": 6
        },
        {
         "Adolescent_birth_rate": 5.9,
         "Country": "Ireland",
         "F_Labour_force": 56.5,
         "F_secondary_educ": 88.1,
         "GII": 0.074,
         "Human_development": "Very high",
         "Human_development_int": 1,
         "M_Labour_force": 68.6,
         "M_secondary_educ": 86,
         "Maternal_mortality": 5,
         "Rank": 21,
         "Seats_parliament": 27.3,
         "_deepnote_index_column": 7
        },
        {
         "Adolescent_birth_rate": 7.5,
         "Country": "Germany",
         "F_Labour_force": 56.8,
         "F_secondary_educ": 96.1,
         "GII": 0.073,
         "Human_development": "Very high",
         "Human_development_int": 1,
         "M_Labour_force": 66,
         "M_secondary_educ": 96.5,
         "Maternal_mortality": 7,
         "Rank": 19,
         "Seats_parliament": 34.8,
         "_deepnote_index_column": 8
        },
        {
         "Adolescent_birth_rate": 2.8,
         "Country": "Netherlands",
         "F_Labour_force": 62.4,
         "F_secondary_educ": 89.8,
         "GII": 0.025,
         "Human_development": "Very high",
         "Human_development_int": 1,
         "M_Labour_force": 71.3,
         "M_secondary_educ": 92.7,
         "Maternal_mortality": 5,
         "Rank": 5,
         "Seats_parliament": 39.1,
         "_deepnote_index_column": 9
        },
        {
         "Adolescent_birth_rate": 4.2,
         "Country": "Finland",
         "F_Labour_force": 56.5,
         "F_secondary_educ": 99,
         "GII": 0.033,
         "Human_development": "Very high",
         "Human_development_int": 1,
         "M_Labour_force": 64,
         "M_secondary_educ": 98.5,
         "Maternal_mortality": 3,
         "Rank": 6,
         "Seats_parliament": 46,
         "_deepnote_index_column": 10
        }
       ]
      },
      "text/html": [
       "<div>\n",
       "<style scoped>\n",
       "    .dataframe tbody tr th:only-of-type {\n",
       "        vertical-align: middle;\n",
       "    }\n",
       "\n",
       "    .dataframe tbody tr th {\n",
       "        vertical-align: top;\n",
       "    }\n",
       "\n",
       "    .dataframe thead th {\n",
       "        text-align: right;\n",
       "    }\n",
       "</style>\n",
       "<table border=\"1\" class=\"dataframe\">\n",
       "  <thead>\n",
       "    <tr style=\"text-align: right;\">\n",
       "      <th></th>\n",
       "      <th>Country</th>\n",
       "      <th>Human_development</th>\n",
       "      <th>GII</th>\n",
       "      <th>Rank</th>\n",
       "      <th>Maternal_mortality</th>\n",
       "      <th>Adolescent_birth_rate</th>\n",
       "      <th>Seats_parliament</th>\n",
       "      <th>F_secondary_educ</th>\n",
       "      <th>M_secondary_educ</th>\n",
       "      <th>F_Labour_force</th>\n",
       "      <th>M_Labour_force</th>\n",
       "      <th>Human_development_int</th>\n",
       "    </tr>\n",
       "  </thead>\n",
       "  <tbody>\n",
       "    <tr>\n",
       "      <th>0</th>\n",
       "      <td>Switzerland</td>\n",
       "      <td>Very high</td>\n",
       "      <td>0.018</td>\n",
       "      <td>3.0</td>\n",
       "      <td>5.0</td>\n",
       "      <td>2.2</td>\n",
       "      <td>39.8</td>\n",
       "      <td>96.9</td>\n",
       "      <td>97.5</td>\n",
       "      <td>61.7</td>\n",
       "      <td>72.7</td>\n",
       "      <td>1</td>\n",
       "    </tr>\n",
       "    <tr>\n",
       "      <th>1</th>\n",
       "      <td>Norway</td>\n",
       "      <td>Very high</td>\n",
       "      <td>0.016</td>\n",
       "      <td>2.0</td>\n",
       "      <td>2.0</td>\n",
       "      <td>2.3</td>\n",
       "      <td>45.0</td>\n",
       "      <td>99.1</td>\n",
       "      <td>99.3</td>\n",
       "      <td>60.3</td>\n",
       "      <td>72.0</td>\n",
       "      <td>1</td>\n",
       "    </tr>\n",
       "    <tr>\n",
       "      <th>2</th>\n",
       "      <td>Iceland</td>\n",
       "      <td>Very high</td>\n",
       "      <td>0.043</td>\n",
       "      <td>8.0</td>\n",
       "      <td>4.0</td>\n",
       "      <td>5.4</td>\n",
       "      <td>47.6</td>\n",
       "      <td>99.8</td>\n",
       "      <td>99.7</td>\n",
       "      <td>61.7</td>\n",
       "      <td>70.5</td>\n",
       "      <td>1</td>\n",
       "    </tr>\n",
       "    <tr>\n",
       "      <th>4</th>\n",
       "      <td>Australia</td>\n",
       "      <td>Very high</td>\n",
       "      <td>0.073</td>\n",
       "      <td>19.0</td>\n",
       "      <td>6.0</td>\n",
       "      <td>8.1</td>\n",
       "      <td>37.9</td>\n",
       "      <td>94.6</td>\n",
       "      <td>94.4</td>\n",
       "      <td>61.1</td>\n",
       "      <td>70.5</td>\n",
       "      <td>1</td>\n",
       "    </tr>\n",
       "    <tr>\n",
       "      <th>5</th>\n",
       "      <td>Denmark</td>\n",
       "      <td>Very high</td>\n",
       "      <td>0.013</td>\n",
       "      <td>1.0</td>\n",
       "      <td>4.0</td>\n",
       "      <td>1.9</td>\n",
       "      <td>39.7</td>\n",
       "      <td>95.1</td>\n",
       "      <td>95.2</td>\n",
       "      <td>57.7</td>\n",
       "      <td>66.7</td>\n",
       "      <td>1</td>\n",
       "    </tr>\n",
       "    <tr>\n",
       "      <th>...</th>\n",
       "      <td>...</td>\n",
       "      <td>...</td>\n",
       "      <td>...</td>\n",
       "      <td>...</td>\n",
       "      <td>...</td>\n",
       "      <td>...</td>\n",
       "      <td>...</td>\n",
       "      <td>...</td>\n",
       "      <td>...</td>\n",
       "      <td>...</td>\n",
       "      <td>...</td>\n",
       "      <td>...</td>\n",
       "    </tr>\n",
       "    <tr>\n",
       "      <th>186</th>\n",
       "      <td>Burundi</td>\n",
       "      <td>Low</td>\n",
       "      <td>0.505</td>\n",
       "      <td>127.0</td>\n",
       "      <td>548.0</td>\n",
       "      <td>53.6</td>\n",
       "      <td>38.9</td>\n",
       "      <td>7.8</td>\n",
       "      <td>13.0</td>\n",
       "      <td>79.0</td>\n",
       "      <td>77.4</td>\n",
       "      <td>4</td>\n",
       "    </tr>\n",
       "    <tr>\n",
       "      <th>187</th>\n",
       "      <td>Central African Republic</td>\n",
       "      <td>Low</td>\n",
       "      <td>0.672</td>\n",
       "      <td>166.0</td>\n",
       "      <td>829.0</td>\n",
       "      <td>160.5</td>\n",
       "      <td>12.9</td>\n",
       "      <td>13.9</td>\n",
       "      <td>31.6</td>\n",
       "      <td>63.3</td>\n",
       "      <td>79.5</td>\n",
       "      <td>4</td>\n",
       "    </tr>\n",
       "    <tr>\n",
       "      <th>188</th>\n",
       "      <td>Niger</td>\n",
       "      <td>Low</td>\n",
       "      <td>0.611</td>\n",
       "      <td>153.0</td>\n",
       "      <td>509.0</td>\n",
       "      <td>170.5</td>\n",
       "      <td>25.9</td>\n",
       "      <td>9.2</td>\n",
       "      <td>15.2</td>\n",
       "      <td>61.7</td>\n",
       "      <td>84.3</td>\n",
       "      <td>4</td>\n",
       "    </tr>\n",
       "    <tr>\n",
       "      <th>189</th>\n",
       "      <td>Chad</td>\n",
       "      <td>Low</td>\n",
       "      <td>0.652</td>\n",
       "      <td>165.0</td>\n",
       "      <td>1140.0</td>\n",
       "      <td>138.3</td>\n",
       "      <td>32.3</td>\n",
       "      <td>7.7</td>\n",
       "      <td>24.4</td>\n",
       "      <td>46.9</td>\n",
       "      <td>69.9</td>\n",
       "      <td>4</td>\n",
       "    </tr>\n",
       "    <tr>\n",
       "      <th>190</th>\n",
       "      <td>South Sudan</td>\n",
       "      <td>Low</td>\n",
       "      <td>0.587</td>\n",
       "      <td>150.0</td>\n",
       "      <td>1150.0</td>\n",
       "      <td>99.2</td>\n",
       "      <td>32.3</td>\n",
       "      <td>26.5</td>\n",
       "      <td>36.4</td>\n",
       "      <td>70.4</td>\n",
       "      <td>73.6</td>\n",
       "      <td>4</td>\n",
       "    </tr>\n",
       "  </tbody>\n",
       "</table>\n",
       "<p>170 rows × 12 columns</p>\n",
       "</div>"
      ],
      "text/plain": [
       "                      Country Human_development    GII   Rank  \\\n",
       "0                 Switzerland         Very high  0.018    3.0   \n",
       "1                      Norway         Very high  0.016    2.0   \n",
       "2                     Iceland         Very high  0.043    8.0   \n",
       "4                   Australia         Very high  0.073   19.0   \n",
       "5                     Denmark         Very high  0.013    1.0   \n",
       "..                        ...               ...    ...    ...   \n",
       "186                   Burundi               Low  0.505  127.0   \n",
       "187  Central African Republic               Low  0.672  166.0   \n",
       "188                     Niger               Low  0.611  153.0   \n",
       "189                      Chad               Low  0.652  165.0   \n",
       "190               South Sudan               Low  0.587  150.0   \n",
       "\n",
       "     Maternal_mortality  Adolescent_birth_rate  Seats_parliament  \\\n",
       "0                   5.0                    2.2              39.8   \n",
       "1                   2.0                    2.3              45.0   \n",
       "2                   4.0                    5.4              47.6   \n",
       "4                   6.0                    8.1              37.9   \n",
       "5                   4.0                    1.9              39.7   \n",
       "..                  ...                    ...               ...   \n",
       "186               548.0                   53.6              38.9   \n",
       "187               829.0                  160.5              12.9   \n",
       "188               509.0                  170.5              25.9   \n",
       "189              1140.0                  138.3              32.3   \n",
       "190              1150.0                   99.2              32.3   \n",
       "\n",
       "     F_secondary_educ  M_secondary_educ  F_Labour_force  M_Labour_force  \\\n",
       "0                96.9              97.5            61.7            72.7   \n",
       "1                99.1              99.3            60.3            72.0   \n",
       "2                99.8              99.7            61.7            70.5   \n",
       "4                94.6              94.4            61.1            70.5   \n",
       "5                95.1              95.2            57.7            66.7   \n",
       "..                ...               ...             ...             ...   \n",
       "186               7.8              13.0            79.0            77.4   \n",
       "187              13.9              31.6            63.3            79.5   \n",
       "188               9.2              15.2            61.7            84.3   \n",
       "189               7.7              24.4            46.9            69.9   \n",
       "190              26.5              36.4            70.4            73.6   \n",
       "\n",
       "     Human_development_int  \n",
       "0                        1  \n",
       "1                        1  \n",
       "2                        1  \n",
       "4                        1  \n",
       "5                        1  \n",
       "..                     ...  \n",
       "186                      4  \n",
       "187                      4  \n",
       "188                      4  \n",
       "189                      4  \n",
       "190                      4  \n",
       "\n",
       "[170 rows x 12 columns]"
      ]
     },
     "execution_count": 11,
     "metadata": {},
     "output_type": "execute_result"
    }
   ],
   "source": [
    "df"
   ]
  },
  {
   "cell_type": "code",
   "execution_count": null,
   "metadata": {
    "cell_id": "3679ae78fccc4846abbb3d71dc2cc359",
    "deepnote_cell_type": "code",
    "deepnote_to_be_reexecuted": false,
    "execution_millis": 11,
    "execution_start": 1702538919947,
    "source_hash": null
   },
   "outputs": [
    {
     "data": {
      "text/html": [
       "\n",
       "<div id=\"altair-viz-c7ee17f56cb648cabec1e3d4031b11b6\"></div>\n",
       "<script type=\"text/javascript\">\n",
       "  var VEGA_DEBUG = (typeof VEGA_DEBUG == \"undefined\") ? {} : VEGA_DEBUG;\n",
       "  (function(spec, embedOpt){\n",
       "    let outputDiv = document.currentScript.previousElementSibling;\n",
       "    if (outputDiv.id !== \"altair-viz-c7ee17f56cb648cabec1e3d4031b11b6\") {\n",
       "      outputDiv = document.getElementById(\"altair-viz-c7ee17f56cb648cabec1e3d4031b11b6\");\n",
       "    }\n",
       "    const paths = {\n",
       "      \"vega\": \"https://cdn.jsdelivr.net/npm//vega@5?noext\",\n",
       "      \"vega-lib\": \"https://cdn.jsdelivr.net/npm//vega-lib?noext\",\n",
       "      \"vega-lite\": \"https://cdn.jsdelivr.net/npm//vega-lite@4.17.0?noext\",\n",
       "      \"vega-embed\": \"https://cdn.jsdelivr.net/npm//vega-embed@6?noext\",\n",
       "    };\n",
       "\n",
       "    function maybeLoadScript(lib, version) {\n",
       "      var key = `${lib.replace(\"-\", \"\")}_version`;\n",
       "      return (VEGA_DEBUG[key] == version) ?\n",
       "        Promise.resolve(paths[lib]) :\n",
       "        new Promise(function(resolve, reject) {\n",
       "          var s = document.createElement('script');\n",
       "          document.getElementsByTagName(\"head\")[0].appendChild(s);\n",
       "          s.async = true;\n",
       "          s.onload = () => {\n",
       "            VEGA_DEBUG[key] = version;\n",
       "            return resolve(paths[lib]);\n",
       "          };\n",
       "          s.onerror = () => reject(`Error loading script: ${paths[lib]}`);\n",
       "          s.src = paths[lib];\n",
       "        });\n",
       "    }\n",
       "\n",
       "    function showError(err) {\n",
       "      outputDiv.innerHTML = `<div class=\"error\" style=\"color:red;\">${err}</div>`;\n",
       "      throw err;\n",
       "    }\n",
       "\n",
       "    function displayChart(vegaEmbed) {\n",
       "      vegaEmbed(outputDiv, spec, embedOpt)\n",
       "        .catch(err => showError(`Javascript Error: ${err.message}<br>This usually means there's a typo in your chart specification. See the javascript console for the full traceback.`));\n",
       "    }\n",
       "\n",
       "    if(typeof define === \"function\" && define.amd) {\n",
       "      requirejs.config({paths});\n",
       "      require([\"vega-embed\"], displayChart, err => showError(`Error loading script: ${err.message}`));\n",
       "    } else {\n",
       "      maybeLoadScript(\"vega\", \"5\")\n",
       "        .then(() => maybeLoadScript(\"vega-lite\", \"4.17.0\"))\n",
       "        .then(() => maybeLoadScript(\"vega-embed\", \"6\"))\n",
       "        .catch(showError)\n",
       "        .then(() => displayChart(vegaEmbed));\n",
       "    }\n",
       "  })({\"config\": {\"view\": {\"continuousWidth\": 400, \"continuousHeight\": 300}}, \"data\": {\"name\": \"data-0b4bbad8699543e58eadf1758584dc9a\"}, \"mark\": \"bar\", \"encoding\": {\"color\": {\"field\": \"Human_development\", \"type\": \"nominal\"}, \"x\": {\"field\": \"Human_development_int\", \"type\": \"quantitative\"}, \"y\": {\"field\": \"GII\", \"type\": \"quantitative\"}}, \"$schema\": \"https://vega.github.io/schema/vega-lite/v4.17.0.json\", \"datasets\": {\"data-0b4bbad8699543e58eadf1758584dc9a\": [{\"Country\": \"Switzerland\", \"Human_development\": \"Very high\", \"GII\": 0.018, \"Rank\": 3.0, \"Maternal_mortality\": 5.0, \"Adolescent_birth_rate\": 2.2, \"Seats_parliament\": 39.8, \"F_secondary_educ\": 96.9, \"M_secondary_educ\": 97.5, \"F_Labour_force\": 61.7, \"M_Labour_force\": 72.7, \"Human_development_int\": 1}, {\"Country\": \"Norway\", \"Human_development\": \"Very high\", \"GII\": 0.016, \"Rank\": 2.0, \"Maternal_mortality\": 2.0, \"Adolescent_birth_rate\": 2.3, \"Seats_parliament\": 45.0, \"F_secondary_educ\": 99.1, \"M_secondary_educ\": 99.3, \"F_Labour_force\": 60.3, \"M_Labour_force\": 72.0, \"Human_development_int\": 1}, {\"Country\": \"Iceland\", \"Human_development\": \"Very high\", \"GII\": 0.043, \"Rank\": 8.0, \"Maternal_mortality\": 4.0, \"Adolescent_birth_rate\": 5.4, \"Seats_parliament\": 47.6, \"F_secondary_educ\": 99.8, \"M_secondary_educ\": 99.7, \"F_Labour_force\": 61.7, \"M_Labour_force\": 70.5, \"Human_development_int\": 1}, {\"Country\": \"Australia\", \"Human_development\": \"Very high\", \"GII\": 0.073, \"Rank\": 19.0, \"Maternal_mortality\": 6.0, \"Adolescent_birth_rate\": 8.1, \"Seats_parliament\": 37.9, \"F_secondary_educ\": 94.6, \"M_secondary_educ\": 94.4, \"F_Labour_force\": 61.1, \"M_Labour_force\": 70.5, \"Human_development_int\": 1}, {\"Country\": \"Denmark\", \"Human_development\": \"Very high\", \"GII\": 0.013, \"Rank\": 1.0, \"Maternal_mortality\": 4.0, \"Adolescent_birth_rate\": 1.9, \"Seats_parliament\": 39.7, \"F_secondary_educ\": 95.1, \"M_secondary_educ\": 95.2, \"F_Labour_force\": 57.7, \"M_Labour_force\": 66.7, \"Human_development_int\": 1}, {\"Country\": \"Sweden\", \"Human_development\": \"Very high\", \"GII\": 0.023, \"Rank\": 4.0, \"Maternal_mortality\": 4.0, \"Adolescent_birth_rate\": 3.3, \"Seats_parliament\": 47.0, \"F_secondary_educ\": 91.8, \"M_secondary_educ\": 92.2, \"F_Labour_force\": 61.7, \"M_Labour_force\": 68.0, \"Human_development_int\": 1}, {\"Country\": \"Ireland\", \"Human_development\": \"Very high\", \"GII\": 0.074, \"Rank\": 21.0, \"Maternal_mortality\": 5.0, \"Adolescent_birth_rate\": 5.9, \"Seats_parliament\": 27.3, \"F_secondary_educ\": 88.1, \"M_secondary_educ\": 86.0, \"F_Labour_force\": 56.5, \"M_Labour_force\": 68.6, \"Human_development_int\": 1}, {\"Country\": \"Germany\", \"Human_development\": \"Very high\", \"GII\": 0.073, \"Rank\": 19.0, \"Maternal_mortality\": 7.0, \"Adolescent_birth_rate\": 7.5, \"Seats_parliament\": 34.8, \"F_secondary_educ\": 96.1, \"M_secondary_educ\": 96.5, \"F_Labour_force\": 56.8, \"M_Labour_force\": 66.0, \"Human_development_int\": 1}, {\"Country\": \"Netherlands\", \"Human_development\": \"Very high\", \"GII\": 0.025, \"Rank\": 5.0, \"Maternal_mortality\": 5.0, \"Adolescent_birth_rate\": 2.8, \"Seats_parliament\": 39.1, \"F_secondary_educ\": 89.8, \"M_secondary_educ\": 92.7, \"F_Labour_force\": 62.4, \"M_Labour_force\": 71.3, \"Human_development_int\": 1}, {\"Country\": \"Finland\", \"Human_development\": \"Very high\", \"GII\": 0.033, \"Rank\": 6.0, \"Maternal_mortality\": 3.0, \"Adolescent_birth_rate\": 4.2, \"Seats_parliament\": 46.0, \"F_secondary_educ\": 99.0, \"M_secondary_educ\": 98.5, \"F_Labour_force\": 56.5, \"M_Labour_force\": 64.0, \"Human_development_int\": 1}, {\"Country\": \"Singapore\", \"Human_development\": \"Very high\", \"GII\": 0.04, \"Rank\": 7.0, \"Maternal_mortality\": 8.0, \"Adolescent_birth_rate\": 2.6, \"Seats_parliament\": 29.8, \"F_secondary_educ\": 80.5, \"M_secondary_educ\": 85.9, \"F_Labour_force\": 59.4, \"M_Labour_force\": 76.8, \"Human_development_int\": 1}, {\"Country\": \"Belgium\", \"Human_development\": \"Very high\", \"GII\": 0.048, \"Rank\": 10.0, \"Maternal_mortality\": 5.0, \"Adolescent_birth_rate\": 5.3, \"Seats_parliament\": 42.9, \"F_secondary_educ\": 87.2, \"M_secondary_educ\": 89.7, \"F_Labour_force\": 49.8, \"M_Labour_force\": 58.8, \"Human_development_int\": 1}, {\"Country\": \"New Zealand\", \"Human_development\": \"Very high\", \"GII\": 0.088, \"Rank\": 25.0, \"Maternal_mortality\": 9.0, \"Adolescent_birth_rate\": 12.6, \"Seats_parliament\": 49.2, \"F_secondary_educ\": 82.0, \"M_secondary_educ\": 81.8, \"F_Labour_force\": 65.1, \"M_Labour_force\": 75.3, \"Human_development_int\": 1}, {\"Country\": \"Canada\", \"Human_development\": \"Very high\", \"GII\": 0.069, \"Rank\": 17.0, \"Maternal_mortality\": 10.0, \"Adolescent_birth_rate\": 7.0, \"Seats_parliament\": 34.4, \"F_secondary_educ\": 100.0, \"M_secondary_educ\": 100.0, \"F_Labour_force\": 60.8, \"M_Labour_force\": 69.7, \"Human_development_int\": 1}, {\"Country\": \"Luxembourg\", \"Human_development\": \"Very high\", \"GII\": 0.044, \"Rank\": 9.0, \"Maternal_mortality\": 5.0, \"Adolescent_birth_rate\": 4.3, \"Seats_parliament\": 35.0, \"F_secondary_educ\": 100.0, \"M_secondary_educ\": 100.0, \"F_Labour_force\": 58.5, \"M_Labour_force\": 65.5, \"Human_development_int\": 1}, {\"Country\": \"United Kingdom\", \"Human_development\": \"Very high\", \"GII\": 0.098, \"Rank\": 27.0, \"Maternal_mortality\": 7.0, \"Adolescent_birth_rate\": 10.5, \"Seats_parliament\": 31.1, \"F_secondary_educ\": 99.8, \"M_secondary_educ\": 99.8, \"F_Labour_force\": 58.0, \"M_Labour_force\": 67.1, \"Human_development_int\": 1}, {\"Country\": \"Japan\", \"Human_development\": \"Very high\", \"GII\": 0.083, \"Rank\": 22.0, \"Maternal_mortality\": 5.0, \"Adolescent_birth_rate\": 2.9, \"Seats_parliament\": 14.2, \"F_secondary_educ\": 95.9, \"M_secondary_educ\": 92.7, \"F_Labour_force\": 53.3, \"M_Labour_force\": 71.0, \"Human_development_int\": 1}, {\"Country\": \"South Korea\", \"Human_development\": \"Very high\", \"GII\": 0.067, \"Rank\": 15.0, \"Maternal_mortality\": 11.0, \"Adolescent_birth_rate\": 2.2, \"Seats_parliament\": 19.0, \"F_secondary_educ\": 83.1, \"M_secondary_educ\": 93.1, \"F_Labour_force\": 53.4, \"M_Labour_force\": 72.4, \"Human_development_int\": 1}, {\"Country\": \"United States\", \"Human_development\": \"Very high\", \"GII\": 0.179, \"Rank\": 44.0, \"Maternal_mortality\": 19.0, \"Adolescent_birth_rate\": 16.0, \"Seats_parliament\": 27.0, \"F_secondary_educ\": 96.5, \"M_secondary_educ\": 96.4, \"F_Labour_force\": 55.2, \"M_Labour_force\": 66.4, \"Human_development_int\": 1}, {\"Country\": \"Israel\", \"Human_development\": \"Very high\", \"GII\": 0.083, \"Rank\": 22.0, \"Maternal_mortality\": 3.0, \"Adolescent_birth_rate\": 7.6, \"Seats_parliament\": 28.3, \"F_secondary_educ\": 91.6, \"M_secondary_educ\": 93.7, \"F_Labour_force\": 58.5, \"M_Labour_force\": 66.1, \"Human_development_int\": 1}, {\"Country\": \"Malta\", \"Human_development\": \"Very high\", \"GII\": 0.167, \"Rank\": 42.0, \"Maternal_mortality\": 6.0, \"Adolescent_birth_rate\": 11.5, \"Seats_parliament\": 13.4, \"F_secondary_educ\": 82.2, \"M_secondary_educ\": 88.1, \"F_Labour_force\": 53.1, \"M_Labour_force\": 71.4, \"Human_development_int\": 1}, {\"Country\": \"Slovenia\", \"Human_development\": \"Very high\", \"GII\": 0.071, \"Rank\": 18.0, \"Maternal_mortality\": 7.0, \"Adolescent_birth_rate\": 4.5, \"Seats_parliament\": 21.5, \"F_secondary_educ\": 97.6, \"M_secondary_educ\": 98.7, \"F_Labour_force\": 53.8, \"M_Labour_force\": 62.2, \"Human_development_int\": 1}, {\"Country\": \"Austria\", \"Human_development\": \"Very high\", \"GII\": 0.053, \"Rank\": 12.0, \"Maternal_mortality\": 5.0, \"Adolescent_birth_rate\": 5.5, \"Seats_parliament\": 39.3, \"F_secondary_educ\": 100.0, \"M_secondary_educ\": 100.0, \"F_Labour_force\": 55.5, \"M_Labour_force\": 66.3, \"Human_development_int\": 1}, {\"Country\": \"United Arab Emirates\", \"Human_development\": \"Very high\", \"GII\": 0.049, \"Rank\": 11.0, \"Maternal_mortality\": 3.0, \"Adolescent_birth_rate\": 3.1, \"Seats_parliament\": 50.0, \"F_secondary_educ\": 82.0, \"M_secondary_educ\": 85.6, \"F_Labour_force\": 46.5, \"M_Labour_force\": 88.0, \"Human_development_int\": 1}, {\"Country\": \"Spain\", \"Human_development\": \"Very high\", \"GII\": 0.057, \"Rank\": 14.0, \"Maternal_mortality\": 4.0, \"Adolescent_birth_rate\": 6.3, \"Seats_parliament\": 42.3, \"F_secondary_educ\": 78.5, \"M_secondary_educ\": 83.2, \"F_Labour_force\": 52.7, \"M_Labour_force\": 62.4, \"Human_development_int\": 1}, {\"Country\": \"France\", \"Human_development\": \"Very high\", \"GII\": 0.083, \"Rank\": 22.0, \"Maternal_mortality\": 8.0, \"Adolescent_birth_rate\": 9.5, \"Seats_parliament\": 37.8, \"F_secondary_educ\": 83.5, \"M_secondary_educ\": 87.9, \"F_Labour_force\": 51.9, \"M_Labour_force\": 59.7, \"Human_development_int\": 1}, {\"Country\": \"Cyprus\", \"Human_development\": \"Very high\", \"GII\": 0.123, \"Rank\": 35.0, \"Maternal_mortality\": 6.0, \"Adolescent_birth_rate\": 6.8, \"Seats_parliament\": 14.3, \"F_secondary_educ\": 81.1, \"M_secondary_educ\": 84.8, \"F_Labour_force\": 56.6, \"M_Labour_force\": 68.8, \"Human_development_int\": 1}, {\"Country\": \"Italy\", \"Human_development\": \"Very high\", \"GII\": 0.056, \"Rank\": 13.0, \"Maternal_mortality\": 2.0, \"Adolescent_birth_rate\": 4.0, \"Seats_parliament\": 35.3, \"F_secondary_educ\": 78.6, \"M_secondary_educ\": 86.1, \"F_Labour_force\": 39.9, \"M_Labour_force\": 57.6, \"Human_development_int\": 1}, {\"Country\": \"Estonia\", \"Human_development\": \"Very high\", \"GII\": 0.1, \"Rank\": 28.0, \"Maternal_mortality\": 9.0, \"Adolescent_birth_rate\": 8.8, \"Seats_parliament\": 25.7, \"F_secondary_educ\": 97.6, \"M_secondary_educ\": 98.1, \"F_Labour_force\": 57.5, \"M_Labour_force\": 70.2, \"Human_development_int\": 1}, {\"Country\": \"Czechia\", \"Human_development\": \"Very high\", \"GII\": 0.12, \"Rank\": 34.0, \"Maternal_mortality\": 3.0, \"Adolescent_birth_rate\": 9.7, \"Seats_parliament\": 22.1, \"F_secondary_educ\": 99.8, \"M_secondary_educ\": 99.8, \"F_Labour_force\": 51.7, \"M_Labour_force\": 68.1, \"Human_development_int\": 1}, {\"Country\": \"Greece\", \"Human_development\": \"Very high\", \"GII\": 0.119, \"Rank\": 32.0, \"Maternal_mortality\": 3.0, \"Adolescent_birth_rate\": 8.5, \"Seats_parliament\": 21.7, \"F_secondary_educ\": 69.9, \"M_secondary_educ\": 77.8, \"F_Labour_force\": 43.3, \"M_Labour_force\": 58.1, \"Human_development_int\": 1}, {\"Country\": \"Poland\", \"Human_development\": \"Very high\", \"GII\": 0.109, \"Rank\": 31.0, \"Maternal_mortality\": 2.0, \"Adolescent_birth_rate\": 9.7, \"Seats_parliament\": 27.5, \"F_secondary_educ\": 86.5, \"M_secondary_educ\": 90.7, \"F_Labour_force\": 49.2, \"M_Labour_force\": 65.5, \"Human_development_int\": 1}, {\"Country\": \"Bahrain\", \"Human_development\": \"Very high\", \"GII\": 0.181, \"Rank\": 46.0, \"Maternal_mortality\": 14.0, \"Adolescent_birth_rate\": 8.7, \"Seats_parliament\": 18.8, \"F_secondary_educ\": 79.9, \"M_secondary_educ\": 83.1, \"F_Labour_force\": 42.4, \"M_Labour_force\": 83.5, \"Human_development_int\": 1}, {\"Country\": \"Lithuania\", \"Human_development\": \"Very high\", \"GII\": 0.105, \"Rank\": 30.0, \"Maternal_mortality\": 8.0, \"Adolescent_birth_rate\": 10.4, \"Seats_parliament\": 27.7, \"F_secondary_educ\": 95.5, \"M_secondary_educ\": 97.9, \"F_Labour_force\": 57.3, \"M_Labour_force\": 67.9, \"Human_development_int\": 1}, {\"Country\": \"Saudi Arabia\", \"Human_development\": \"Very high\", \"GII\": 0.247, \"Rank\": 59.0, \"Maternal_mortality\": 17.0, \"Adolescent_birth_rate\": 11.9, \"Seats_parliament\": 19.9, \"F_secondary_educ\": 71.3, \"M_secondary_educ\": 80.9, \"F_Labour_force\": 30.9, \"M_Labour_force\": 80.1, \"Human_development_int\": 1}, {\"Country\": \"Portugal\", \"Human_development\": \"Very high\", \"GII\": 0.067, \"Rank\": 15.0, \"Maternal_mortality\": 8.0, \"Adolescent_birth_rate\": 7.4, \"Seats_parliament\": 40.0, \"F_secondary_educ\": 59.7, \"M_secondary_educ\": 61.9, \"F_Labour_force\": 54.0, \"M_Labour_force\": 62.2, \"Human_development_int\": 1}, {\"Country\": \"Latvia\", \"Human_development\": \"Very high\", \"GII\": 0.151, \"Rank\": 40.0, \"Maternal_mortality\": 19.0, \"Adolescent_birth_rate\": 11.2, \"Seats_parliament\": 29.0, \"F_secondary_educ\": 99.7, \"M_secondary_educ\": 99.3, \"F_Labour_force\": 54.5, \"M_Labour_force\": 66.8, \"Human_development_int\": 1}, {\"Country\": \"Croatia\", \"Human_development\": \"Very high\", \"GII\": 0.093, \"Rank\": 26.0, \"Maternal_mortality\": 8.0, \"Adolescent_birth_rate\": 8.6, \"Seats_parliament\": 31.1, \"F_secondary_educ\": 97.0, \"M_secondary_educ\": 100.0, \"F_Labour_force\": 45.9, \"M_Labour_force\": 58.8, \"Human_development_int\": 1}, {\"Country\": \"Chile\", \"Human_development\": \"Very high\", \"GII\": 0.187, \"Rank\": 47.0, \"Maternal_mortality\": 13.0, \"Adolescent_birth_rate\": 24.1, \"Seats_parliament\": 32.7, \"F_secondary_educ\": 80.3, \"M_secondary_educ\": 83.5, \"F_Labour_force\": 44.2, \"M_Labour_force\": 65.5, \"Human_development_int\": 1}, {\"Country\": \"Qatar\", \"Human_development\": \"Very high\", \"GII\": 0.22, \"Rank\": 54.0, \"Maternal_mortality\": 9.0, \"Adolescent_birth_rate\": 7.1, \"Seats_parliament\": 4.4, \"F_secondary_educ\": 79.8, \"M_secondary_educ\": 69.6, \"F_Labour_force\": 57.2, \"M_Labour_force\": 95.5, \"Human_development_int\": 1}, {\"Country\": \"Slovakia\", \"Human_development\": \"Very high\", \"GII\": 0.18, \"Rank\": 45.0, \"Maternal_mortality\": 5.0, \"Adolescent_birth_rate\": 26.3, \"Seats_parliament\": 22.7, \"F_secondary_educ\": 98.9, \"M_secondary_educ\": 99.2, \"F_Labour_force\": 54.7, \"M_Labour_force\": 66.4, \"Human_development_int\": 1}, {\"Country\": \"Hungary\", \"Human_development\": \"Very high\", \"GII\": 0.221, \"Rank\": 55.0, \"Maternal_mortality\": 12.0, \"Adolescent_birth_rate\": 22.1, \"Seats_parliament\": 13.1, \"F_secondary_educ\": 97.6, \"M_secondary_educ\": 98.8, \"F_Labour_force\": 52.1, \"M_Labour_force\": 67.2, \"Human_development_int\": 1}, {\"Country\": \"Argentina\", \"Human_development\": \"Very high\", \"GII\": 0.287, \"Rank\": 69.0, \"Maternal_mortality\": 39.0, \"Adolescent_birth_rate\": 39.1, \"Seats_parliament\": 44.4, \"F_secondary_educ\": 71.0, \"M_secondary_educ\": 71.4, \"F_Labour_force\": 50.0, \"M_Labour_force\": 71.6, \"Human_development_int\": 1}, {\"Country\": \"T\\u00fcrkiye\", \"Human_development\": \"Very high\", \"GII\": 0.272, \"Rank\": 65.0, \"Maternal_mortality\": 17.0, \"Adolescent_birth_rate\": 16.9, \"Seats_parliament\": 17.3, \"F_secondary_educ\": 56.3, \"M_secondary_educ\": 75.9, \"F_Labour_force\": 31.8, \"M_Labour_force\": 69.4, \"Human_development_int\": 1}, {\"Country\": \"Montenegro\", \"Human_development\": \"Very high\", \"GII\": 0.119, \"Rank\": 32.0, \"Maternal_mortality\": 6.0, \"Adolescent_birth_rate\": 10.4, \"Seats_parliament\": 24.7, \"F_secondary_educ\": 92.3, \"M_secondary_educ\": 99.2, \"F_Labour_force\": 47.8, \"M_Labour_force\": 62.0, \"Human_development_int\": 1}, {\"Country\": \"Kuwait\", \"Human_development\": \"Very high\", \"GII\": 0.305, \"Rank\": 74.0, \"Maternal_mortality\": 12.0, \"Adolescent_birth_rate\": 5.6, \"Seats_parliament\": 1.5, \"F_secondary_educ\": 60.9, \"M_secondary_educ\": 55.2, \"F_Labour_force\": 47.4, \"M_Labour_force\": 83.8, \"Human_development_int\": 1}, {\"Country\": \"Brunei Darussalam\", \"Human_development\": \"Very high\", \"GII\": 0.259, \"Rank\": 61.0, \"Maternal_mortality\": 31.0, \"Adolescent_birth_rate\": 10.0, \"Seats_parliament\": 9.1, \"F_secondary_educ\": 70.4, \"M_secondary_educ\": 71.2, \"F_Labour_force\": 54.1, \"M_Labour_force\": 72.3, \"Human_development_int\": 1}, {\"Country\": \"Russian Federation\", \"Human_development\": \"Very high\", \"GII\": 0.203, \"Rank\": 50.0, \"Maternal_mortality\": 17.0, \"Adolescent_birth_rate\": 15.0, \"Seats_parliament\": 16.5, \"F_secondary_educ\": 92.8, \"M_secondary_educ\": 95.9, \"F_Labour_force\": 54.5, \"M_Labour_force\": 69.7, \"Human_development_int\": 1}, {\"Country\": \"Romania\", \"Human_development\": \"Very high\", \"GII\": 0.282, \"Rank\": 67.0, \"Maternal_mortality\": 19.0, \"Adolescent_birth_rate\": 36.4, \"Seats_parliament\": 18.5, \"F_secondary_educ\": 88.8, \"M_secondary_educ\": 93.7, \"F_Labour_force\": 42.8, \"M_Labour_force\": 62.3, \"Human_development_int\": 1}, {\"Country\": \"Oman\", \"Human_development\": \"Very high\", \"GII\": 0.3, \"Rank\": 72.0, \"Maternal_mortality\": 19.0, \"Adolescent_birth_rate\": 9.9, \"Seats_parliament\": 9.9, \"F_secondary_educ\": 96.6, \"M_secondary_educ\": 99.9, \"F_Labour_force\": 28.7, \"M_Labour_force\": 85.0, \"Human_development_int\": 1}, {\"Country\": \"Bahamas\", \"Human_development\": \"Very high\", \"GII\": 0.329, \"Rank\": 78.0, \"Maternal_mortality\": 70.0, \"Adolescent_birth_rate\": 25.7, \"Seats_parliament\": 20.0, \"F_secondary_educ\": 87.0, \"M_secondary_educ\": 89.9, \"F_Labour_force\": 65.6, \"M_Labour_force\": 71.5, \"Human_development_int\": 1}, {\"Country\": \"Kazakhstan\", \"Human_development\": \"Very high\", \"GII\": 0.161, \"Rank\": 41.0, \"Maternal_mortality\": 10.0, \"Adolescent_birth_rate\": 21.9, \"Seats_parliament\": 24.5, \"F_secondary_educ\": 99.8, \"M_secondary_educ\": 100.0, \"F_Labour_force\": 63.3, \"M_Labour_force\": 75.5, \"Human_development_int\": 1}, {\"Country\": \"Trinidad and Tobago\", \"Human_development\": \"Very high\", \"GII\": 0.344, \"Rank\": 81.0, \"Maternal_mortality\": 67.0, \"Adolescent_birth_rate\": 38.1, \"Seats_parliament\": 32.4, \"F_secondary_educ\": 84.8, \"M_secondary_educ\": 80.6, \"F_Labour_force\": 46.7, \"M_Labour_force\": 68.0, \"Human_development_int\": 1}, {\"Country\": \"Costa Rica\", \"Human_development\": \"Very high\", \"GII\": 0.256, \"Rank\": 60.0, \"Maternal_mortality\": 27.0, \"Adolescent_birth_rate\": 37.1, \"Seats_parliament\": 45.6, \"F_secondary_educ\": 56.2, \"M_secondary_educ\": 54.5, \"F_Labour_force\": 47.5, \"M_Labour_force\": 71.1, \"Human_development_int\": 1}, {\"Country\": \"Uruguay\", \"Human_development\": \"Very high\", \"GII\": 0.235, \"Rank\": 58.0, \"Maternal_mortality\": 17.0, \"Adolescent_birth_rate\": 36.2, \"Seats_parliament\": 26.2, \"F_secondary_educ\": 59.6, \"M_secondary_educ\": 55.5, \"F_Labour_force\": 54.8, \"M_Labour_force\": 69.3, \"Human_development_int\": 1}, {\"Country\": \"Belarus\", \"Human_development\": \"Very high\", \"GII\": 0.104, \"Rank\": 29.0, \"Maternal_mortality\": 2.0, \"Adolescent_birth_rate\": 11.9, \"Seats_parliament\": 34.7, \"F_secondary_educ\": 97.5, \"M_secondary_educ\": 99.0, \"F_Labour_force\": 57.3, \"M_Labour_force\": 71.4, \"Human_development_int\": 1}, {\"Country\": \"Panama\", \"Human_development\": \"Very high\", \"GII\": 0.392, \"Rank\": 96.0, \"Maternal_mortality\": 52.0, \"Adolescent_birth_rate\": 69.9, \"Seats_parliament\": 22.5, \"F_secondary_educ\": 70.2, \"M_secondary_educ\": 68.7, \"F_Labour_force\": 50.4, \"M_Labour_force\": 72.6, \"Human_development_int\": 1}, {\"Country\": \"Malaysia\", \"Human_development\": \"Very high\", \"GII\": 0.228, \"Rank\": 57.0, \"Maternal_mortality\": 29.0, \"Adolescent_birth_rate\": 9.3, \"Seats_parliament\": 14.9, \"F_secondary_educ\": 75.0, \"M_secondary_educ\": 78.4, \"F_Labour_force\": 51.2, \"M_Labour_force\": 77.6, \"Human_development_int\": 1}, {\"Country\": \"Georgia\", \"Human_development\": \"Very high\", \"GII\": 0.28, \"Rank\": 66.0, \"Maternal_mortality\": 25.0, \"Adolescent_birth_rate\": 31.7, \"Seats_parliament\": 19.3, \"F_secondary_educ\": 97.1, \"M_secondary_educ\": 98.3, \"F_Labour_force\": 51.0, \"M_Labour_force\": 68.0, \"Human_development_int\": 1}, {\"Country\": \"Mauritius\", \"Human_development\": \"Very high\", \"GII\": 0.347, \"Rank\": 82.0, \"Maternal_mortality\": 61.0, \"Adolescent_birth_rate\": 24.6, \"Seats_parliament\": 20.0, \"F_secondary_educ\": 64.4, \"M_secondary_educ\": 70.8, \"F_Labour_force\": 43.4, \"M_Labour_force\": 70.4, \"Human_development_int\": 1}, {\"Country\": \"Serbia\", \"Human_development\": \"Very high\", \"GII\": 0.131, \"Rank\": 36.0, \"Maternal_mortality\": 12.0, \"Adolescent_birth_rate\": 14.9, \"Seats_parliament\": 39.2, \"F_secondary_educ\": 88.6, \"M_secondary_educ\": 95.3, \"F_Labour_force\": 46.6, \"M_Labour_force\": 62.3, \"Human_development_int\": 1}, {\"Country\": \"Thailand\", \"Human_development\": \"Very high\", \"GII\": 0.333, \"Rank\": 79.0, \"Maternal_mortality\": 37.0, \"Adolescent_birth_rate\": 32.7, \"Seats_parliament\": 13.9, \"F_secondary_educ\": 47.6, \"M_secondary_educ\": 51.7, \"F_Labour_force\": 59.0, \"M_Labour_force\": 75.0, \"Human_development_int\": 1}, {\"Country\": \"Albania\", \"Human_development\": \"High\", \"GII\": 0.144, \"Rank\": 39.0, \"Maternal_mortality\": 15.0, \"Adolescent_birth_rate\": 14.5, \"Seats_parliament\": 35.7, \"F_secondary_educ\": 95.4, \"M_secondary_educ\": 93.0, \"F_Labour_force\": 50.7, \"M_Labour_force\": 66.2, \"Human_development_int\": 2}, {\"Country\": \"Bulgaria\", \"Human_development\": \"High\", \"GII\": 0.21, \"Rank\": 52.0, \"Maternal_mortality\": 10.0, \"Adolescent_birth_rate\": 38.6, \"Seats_parliament\": 23.8, \"F_secondary_educ\": 94.9, \"M_secondary_educ\": 96.5, \"F_Labour_force\": 49.1, \"M_Labour_force\": 62.6, \"Human_development_int\": 2}, {\"Country\": \"Barbados\", \"Human_development\": \"High\", \"GII\": 0.268, \"Rank\": 64.0, \"Maternal_mortality\": 27.0, \"Adolescent_birth_rate\": 42.3, \"Seats_parliament\": 29.4, \"F_secondary_educ\": 95.4, \"M_secondary_educ\": 86.0, \"F_Labour_force\": 56.1, \"M_Labour_force\": 63.7, \"Human_development_int\": 2}, {\"Country\": \"Sri Lanka\", \"Human_development\": \"High\", \"GII\": 0.383, \"Rank\": 92.0, \"Maternal_mortality\": 36.0, \"Adolescent_birth_rate\": 15.7, \"Seats_parliament\": 5.4, \"F_secondary_educ\": 84.0, \"M_secondary_educ\": 84.2, \"F_Labour_force\": 30.9, \"M_Labour_force\": 68.5, \"Human_development_int\": 2}, {\"Country\": \"Bosnia and Herzegovina\", \"Human_development\": \"High\", \"GII\": 0.136, \"Rank\": 38.0, \"Maternal_mortality\": 10.0, \"Adolescent_birth_rate\": 9.9, \"Seats_parliament\": 24.6, \"F_secondary_educ\": 82.7, \"M_secondary_educ\": 94.0, \"F_Labour_force\": 32.3, \"M_Labour_force\": 52.4, \"Human_development_int\": 2}, {\"Country\": \"Iran\", \"Human_development\": \"High\", \"GII\": 0.459, \"Rank\": 115.0, \"Maternal_mortality\": 16.0, \"Adolescent_birth_rate\": 30.2, \"Seats_parliament\": 5.6, \"F_secondary_educ\": 71.6, \"M_secondary_educ\": 76.0, \"F_Labour_force\": 14.4, \"M_Labour_force\": 68.1, \"Human_development_int\": 2}, {\"Country\": \"Ukraine\", \"Human_development\": \"High\", \"GII\": 0.2, \"Rank\": 49.0, \"Maternal_mortality\": 19.0, \"Adolescent_birth_rate\": 15.6, \"Seats_parliament\": 20.8, \"F_secondary_educ\": 96.2, \"M_secondary_educ\": 95.8, \"F_Labour_force\": 48.1, \"M_Labour_force\": 63.6, \"Human_development_int\": 2}, {\"Country\": \"North Macedonia\", \"Human_development\": \"High\", \"GII\": 0.134, \"Rank\": 37.0, \"Maternal_mortality\": 7.0, \"Adolescent_birth_rate\": 16.4, \"Seats_parliament\": 41.7, \"F_secondary_educ\": 61.9, \"M_secondary_educ\": 75.1, \"F_Labour_force\": 42.4, \"M_Labour_force\": 63.4, \"Human_development_int\": 2}, {\"Country\": \"China\", \"Human_development\": \"High\", \"GII\": 0.192, \"Rank\": 48.0, \"Maternal_mortality\": 29.0, \"Adolescent_birth_rate\": 11.0, \"Seats_parliament\": 24.9, \"F_secondary_educ\": 78.3, \"M_secondary_educ\": 85.4, \"F_Labour_force\": 61.6, \"M_Labour_force\": 74.3, \"Human_development_int\": 2}, {\"Country\": \"Dominican Republic\", \"Human_development\": \"High\", \"GII\": 0.429, \"Rank\": 106.0, \"Maternal_mortality\": 95.0, \"Adolescent_birth_rate\": 65.6, \"Seats_parliament\": 25.7, \"F_secondary_educ\": 77.4, \"M_secondary_educ\": 76.9, \"F_Labour_force\": 49.6, \"M_Labour_force\": 75.2, \"Human_development_int\": 2}, {\"Country\": \"Moldova\", \"Human_development\": \"High\", \"GII\": 0.205, \"Rank\": 51.0, \"Maternal_mortality\": 19.0, \"Adolescent_birth_rate\": 27.8, \"Seats_parliament\": 39.6, \"F_secondary_educ\": 96.1, \"M_secondary_educ\": 98.0, \"F_Labour_force\": 33.9, \"M_Labour_force\": 43.9, \"Human_development_int\": 2}, {\"Country\": \"Cuba\", \"Human_development\": \"High\", \"GII\": 0.303, \"Rank\": 73.0, \"Maternal_mortality\": 36.0, \"Adolescent_birth_rate\": 48.8, \"Seats_parliament\": 53.4, \"F_secondary_educ\": 89.5, \"M_secondary_educ\": 91.9, \"F_Labour_force\": 40.3, \"M_Labour_force\": 68.5, \"Human_development_int\": 2}, {\"Country\": \"Peru\", \"Human_development\": \"High\", \"GII\": 0.38, \"Rank\": 90.0, \"Maternal_mortality\": 88.0, \"Adolescent_birth_rate\": 56.8, \"Seats_parliament\": 40.0, \"F_secondary_educ\": 59.3, \"M_secondary_educ\": 69.9, \"F_Labour_force\": 66.1, \"M_Labour_force\": 81.9, \"Human_development_int\": 2}, {\"Country\": \"Armenia\", \"Human_development\": \"High\", \"GII\": 0.216, \"Rank\": 53.0, \"Maternal_mortality\": 26.0, \"Adolescent_birth_rate\": 18.5, \"Seats_parliament\": 33.6, \"F_secondary_educ\": 96.0, \"M_secondary_educ\": 97.1, \"F_Labour_force\": 42.7, \"M_Labour_force\": 63.0, \"Human_development_int\": 2}, {\"Country\": \"Mexico\", \"Human_development\": \"High\", \"GII\": 0.309, \"Rank\": 75.0, \"Maternal_mortality\": 33.0, \"Adolescent_birth_rate\": 54.4, \"Seats_parliament\": 49.8, \"F_secondary_educ\": 65.1, \"M_secondary_educ\": 66.7, \"F_Labour_force\": 43.8, \"M_Labour_force\": 75.4, \"Human_development_int\": 2}, {\"Country\": \"Brazil\", \"Human_development\": \"High\", \"GII\": 0.39, \"Rank\": 94.0, \"Maternal_mortality\": 60.0, \"Adolescent_birth_rate\": 45.2, \"Seats_parliament\": 14.8, \"F_secondary_educ\": 62.4, \"M_secondary_educ\": 59.1, \"F_Labour_force\": 49.1, \"M_Labour_force\": 68.2, \"Human_development_int\": 2}, {\"Country\": \"Colombia\", \"Human_development\": \"High\", \"GII\": 0.424, \"Rank\": 102.0, \"Maternal_mortality\": 83.0, \"Adolescent_birth_rate\": 59.0, \"Seats_parliament\": 19.6, \"F_secondary_educ\": 58.9, \"M_secondary_educ\": 56.5, \"F_Labour_force\": 52.2, \"M_Labour_force\": 78.0, \"Human_development_int\": 2}, {\"Country\": \"Saint Vincent and the Grenadines\", \"Human_development\": \"High\", \"GII\": 0.39, \"Rank\": 94.0, \"Maternal_mortality\": 68.0, \"Adolescent_birth_rate\": 47.9, \"Seats_parliament\": 18.2, \"F_secondary_educ\": 44.1, \"M_secondary_educ\": 39.6, \"F_Labour_force\": 52.9, \"M_Labour_force\": 74.1, \"Human_development_int\": 2}, {\"Country\": \"Maldives\", \"Human_development\": \"High\", \"GII\": 0.348, \"Rank\": 83.0, \"Maternal_mortality\": 53.0, \"Adolescent_birth_rate\": 7.3, \"Seats_parliament\": 4.6, \"F_secondary_educ\": 46.4, \"M_secondary_educ\": 41.5, \"F_Labour_force\": 34.3, \"M_Labour_force\": 67.5, \"Human_development_int\": 2}, {\"Country\": \"Algeria\", \"Human_development\": \"High\", \"GII\": 0.499, \"Rank\": 126.0, \"Maternal_mortality\": 112.0, \"Adolescent_birth_rate\": 11.7, \"Seats_parliament\": 7.5, \"F_secondary_educ\": 46.0, \"M_secondary_educ\": 56.9, \"F_Labour_force\": 15.7, \"M_Labour_force\": 64.5, \"Human_development_int\": 2}, {\"Country\": \"Azerbaijan\", \"Human_development\": \"High\", \"GII\": 0.294, \"Rank\": 70.0, \"Maternal_mortality\": 26.0, \"Adolescent_birth_rate\": 40.1, \"Seats_parliament\": 18.2, \"F_secondary_educ\": 93.6, \"M_secondary_educ\": 97.6, \"F_Labour_force\": 60.4, \"M_Labour_force\": 67.3, \"Human_development_int\": 2}, {\"Country\": \"Tonga\", \"Human_development\": \"High\", \"GII\": 0.631, \"Rank\": 160.0, \"Maternal_mortality\": 52.0, \"Adolescent_birth_rate\": 19.0, \"Seats_parliament\": 0.0, \"F_secondary_educ\": 93.5, \"M_secondary_educ\": 93.1, \"F_Labour_force\": 37.3, \"M_Labour_force\": 55.3, \"Human_development_int\": 2}, {\"Country\": \"Turkmenistan\", \"Human_development\": \"High\", \"GII\": 0.177, \"Rank\": 43.0, \"Maternal_mortality\": 7.0, \"Adolescent_birth_rate\": 21.8, \"Seats_parliament\": 25.0, \"F_secondary_educ\": 93.5, \"M_secondary_educ\": 92.2, \"F_Labour_force\": 36.5, \"M_Labour_force\": 55.6, \"Human_development_int\": 2}, {\"Country\": \"Ecuador\", \"Human_development\": \"High\", \"GII\": 0.362, \"Rank\": 85.0, \"Maternal_mortality\": 59.0, \"Adolescent_birth_rate\": 63.2, \"Seats_parliament\": 39.4, \"F_secondary_educ\": 53.0, \"M_secondary_educ\": 52.0, \"F_Labour_force\": 53.3, \"M_Labour_force\": 76.5, \"Human_development_int\": 2}, {\"Country\": \"Mongolia\", \"Human_development\": \"High\", \"GII\": 0.313, \"Rank\": 76.0, \"Maternal_mortality\": 45.0, \"Adolescent_birth_rate\": 26.7, \"Seats_parliament\": 17.1, \"F_secondary_educ\": 79.3, \"M_secondary_educ\": 73.0, \"F_Labour_force\": 51.5, \"M_Labour_force\": 66.6, \"Human_development_int\": 2}, {\"Country\": \"Egypt\", \"Human_development\": \"High\", \"GII\": 0.443, \"Rank\": 109.0, \"Maternal_mortality\": 37.0, \"Adolescent_birth_rate\": 44.8, \"Seats_parliament\": 22.9, \"F_secondary_educ\": 81.6, \"M_secondary_educ\": 76.6, \"F_Labour_force\": 15.4, \"M_Labour_force\": 67.1, \"Human_development_int\": 2}, {\"Country\": \"Tunisia\", \"Human_development\": \"High\", \"GII\": 0.259, \"Rank\": 61.0, \"Maternal_mortality\": 43.0, \"Adolescent_birth_rate\": 6.7, \"Seats_parliament\": 26.3, \"F_secondary_educ\": 42.9, \"M_secondary_educ\": 51.8, \"F_Labour_force\": 25.5, \"M_Labour_force\": 67.2, \"Human_development_int\": 2}, {\"Country\": \"Fiji\", \"Human_development\": \"High\", \"GII\": 0.318, \"Rank\": 77.0, \"Maternal_mortality\": 34.0, \"Adolescent_birth_rate\": 26.8, \"Seats_parliament\": 21.6, \"F_secondary_educ\": 90.2, \"M_secondary_educ\": 87.9, \"F_Labour_force\": 37.7, \"M_Labour_force\": 75.3, \"Human_development_int\": 2}, {\"Country\": \"Suriname\", \"Human_development\": \"High\", \"GII\": 0.427, \"Rank\": 105.0, \"Maternal_mortality\": 120.0, \"Adolescent_birth_rate\": 56.1, \"Seats_parliament\": 29.4, \"F_secondary_educ\": 69.9, \"M_secondary_educ\": 70.7, \"F_Labour_force\": 43.4, \"M_Labour_force\": 65.1, \"Human_development_int\": 2}, {\"Country\": \"Uzbekistan\", \"Human_development\": \"High\", \"GII\": 0.227, \"Rank\": 56.0, \"Maternal_mortality\": 29.0, \"Adolescent_birth_rate\": 15.9, \"Seats_parliament\": 28.7, \"F_secondary_educ\": 99.9, \"M_secondary_educ\": 100.0, \"F_Labour_force\": 44.9, \"M_Labour_force\": 70.9, \"Human_development_int\": 2}, {\"Country\": \"Jordan\", \"Human_development\": \"High\", \"GII\": 0.471, \"Rank\": 118.0, \"Maternal_mortality\": 46.0, \"Adolescent_birth_rate\": 25.4, \"Seats_parliament\": 11.8, \"F_secondary_educ\": 77.4, \"M_secondary_educ\": 84.2, \"F_Labour_force\": 13.5, \"M_Labour_force\": 62.3, \"Human_development_int\": 2}, {\"Country\": \"Libya\", \"Human_development\": \"High\", \"GII\": 0.259, \"Rank\": 61.0, \"Maternal_mortality\": 72.0, \"Adolescent_birth_rate\": 6.9, \"Seats_parliament\": 16.0, \"F_secondary_educ\": 70.5, \"M_secondary_educ\": 45.1, \"F_Labour_force\": 34.1, \"M_Labour_force\": 61.0, \"Human_development_int\": 2}, {\"Country\": \"Paraguay\", \"Human_development\": \"High\", \"GII\": 0.445, \"Rank\": 111.0, \"Maternal_mortality\": 84.0, \"Adolescent_birth_rate\": 70.3, \"Seats_parliament\": 16.8, \"F_secondary_educ\": 52.5, \"M_secondary_educ\": 54.0, \"F_Labour_force\": 59.6, \"M_Labour_force\": 84.2, \"Human_development_int\": 2}, {\"Country\": \"Saint Lucia\", \"Human_development\": \"High\", \"GII\": 0.381, \"Rank\": 91.0, \"Maternal_mortality\": 117.0, \"Adolescent_birth_rate\": 36.9, \"Seats_parliament\": 24.1, \"F_secondary_educ\": 49.9, \"M_secondary_educ\": 43.8, \"F_Labour_force\": 63.2, \"M_Labour_force\": 73.2, \"Human_development_int\": 2}, {\"Country\": \"Guyana\", \"Human_development\": \"High\", \"GII\": 0.454, \"Rank\": 114.0, \"Maternal_mortality\": 169.0, \"Adolescent_birth_rate\": 66.6, \"Seats_parliament\": 35.7, \"F_secondary_educ\": 69.5, \"M_secondary_educ\": 62.2, \"F_Labour_force\": 40.3, \"M_Labour_force\": 64.1, \"Human_development_int\": 2}, {\"Country\": \"South Africa\", \"Human_development\": \"High\", \"GII\": 0.405, \"Rank\": 97.0, \"Maternal_mortality\": 119.0, \"Adolescent_birth_rate\": 61.2, \"Seats_parliament\": 46.0, \"F_secondary_educ\": 68.9, \"M_secondary_educ\": 87.7, \"F_Labour_force\": 46.2, \"M_Labour_force\": 59.9, \"Human_development_int\": 2}, {\"Country\": \"Jamaica\", \"Human_development\": \"High\", \"GII\": 0.335, \"Rank\": 80.0, \"Maternal_mortality\": 80.0, \"Adolescent_birth_rate\": 32.8, \"Seats_parliament\": 31.0, \"F_secondary_educ\": 74.3, \"M_secondary_educ\": 66.4, \"F_Labour_force\": 56.1, \"M_Labour_force\": 70.0, \"Human_development_int\": 2}, {\"Country\": \"Samoa\", \"Human_development\": \"High\", \"GII\": 0.418, \"Rank\": 99.0, \"Maternal_mortality\": 43.0, \"Adolescent_birth_rate\": 43.6, \"Seats_parliament\": 7.8, \"F_secondary_educ\": 79.1, \"M_secondary_educ\": 71.6, \"F_Labour_force\": 30.7, \"M_Labour_force\": 54.2, \"Human_development_int\": 2}, {\"Country\": \"Gabon\", \"Human_development\": \"High\", \"GII\": 0.541, \"Rank\": 140.0, \"Maternal_mortality\": 252.0, \"Adolescent_birth_rate\": 91.2, \"Seats_parliament\": 18.7, \"F_secondary_educ\": 67.2, \"M_secondary_educ\": 84.0, \"F_Labour_force\": 39.1, \"M_Labour_force\": 57.0, \"Human_development_int\": 2}, {\"Country\": \"Lebanon\", \"Human_development\": \"High\", \"GII\": 0.432, \"Rank\": 108.0, \"Maternal_mortality\": 29.0, \"Adolescent_birth_rate\": 20.3, \"Seats_parliament\": 4.7, \"F_secondary_educ\": 54.3, \"M_secondary_educ\": 55.6, \"F_Labour_force\": 20.8, \"M_Labour_force\": 64.3, \"Human_development_int\": 2}, {\"Country\": \"Indonesia\", \"Human_development\": \"High\", \"GII\": 0.444, \"Rank\": 110.0, \"Maternal_mortality\": 177.0, \"Adolescent_birth_rate\": 33.9, \"Seats_parliament\": 21.0, \"F_secondary_educ\": 51.0, \"M_secondary_educ\": 58.2, \"F_Labour_force\": 53.7, \"M_Labour_force\": 81.7, \"Human_development_int\": 2}, {\"Country\": \"Viet Nam\", \"Human_development\": \"High\", \"GII\": 0.296, \"Rank\": 71.0, \"Maternal_mortality\": 43.0, \"Adolescent_birth_rate\": 34.6, \"Seats_parliament\": 30.3, \"F_secondary_educ\": 61.3, \"M_secondary_educ\": 69.6, \"F_Labour_force\": 69.6, \"M_Labour_force\": 79.4, \"Human_development_int\": 2}, {\"Country\": \"Philippines\", \"Human_development\": \"Medium\", \"GII\": 0.419, \"Rank\": 101.0, \"Maternal_mortality\": 121.0, \"Adolescent_birth_rate\": 48.2, \"Seats_parliament\": 28.0, \"F_secondary_educ\": 73.4, \"M_secondary_educ\": 69.1, \"F_Labour_force\": 43.8, \"M_Labour_force\": 68.3, \"Human_development_int\": 3}, {\"Country\": \"Botswana\", \"Human_development\": \"Medium\", \"GII\": 0.468, \"Rank\": 117.0, \"Maternal_mortality\": 144.0, \"Adolescent_birth_rate\": 49.3, \"Seats_parliament\": 10.8, \"F_secondary_educ\": 91.3, \"M_secondary_educ\": 91.8, \"F_Labour_force\": 56.3, \"M_Labour_force\": 65.1, \"Human_development_int\": 3}, {\"Country\": \"Bolivia\", \"Human_development\": \"Medium\", \"GII\": 0.418, \"Rank\": 99.0, \"Maternal_mortality\": 155.0, \"Adolescent_birth_rate\": 63.8, \"Seats_parliament\": 48.2, \"F_secondary_educ\": 60.1, \"M_secondary_educ\": 69.7, \"F_Labour_force\": 68.3, \"M_Labour_force\": 83.8, \"Human_development_int\": 3}, {\"Country\": \"Kyrgyzstan\", \"Human_development\": \"Medium\", \"GII\": 0.37, \"Rank\": 87.0, \"Maternal_mortality\": 60.0, \"Adolescent_birth_rate\": 34.7, \"Seats_parliament\": 20.5, \"F_secondary_educ\": 100.0, \"M_secondary_educ\": 99.8, \"F_Labour_force\": 42.1, \"M_Labour_force\": 71.7, \"Human_development_int\": 3}, {\"Country\": \"Venezuela\", \"Human_development\": \"Medium\", \"GII\": 0.492, \"Rank\": 123.0, \"Maternal_mortality\": 125.0, \"Adolescent_birth_rate\": 82.7, \"Seats_parliament\": 22.2, \"F_secondary_educ\": 79.8, \"M_secondary_educ\": 75.4, \"F_Labour_force\": 34.3, \"M_Labour_force\": 67.8, \"Human_development_int\": 3}, {\"Country\": \"Iraq\", \"Human_development\": \"Medium\", \"GII\": 0.558, \"Rank\": 145.0, \"Maternal_mortality\": 79.0, \"Adolescent_birth_rate\": 62.2, \"Seats_parliament\": 28.9, \"F_secondary_educ\": 42.0, \"M_secondary_educ\": 52.9, \"F_Labour_force\": 11.1, \"M_Labour_force\": 71.8, \"Human_development_int\": 3}, {\"Country\": \"Tajikistan\", \"Human_development\": \"Medium\", \"GII\": 0.285, \"Rank\": 68.0, \"Maternal_mortality\": 17.0, \"Adolescent_birth_rate\": 45.4, \"Seats_parliament\": 23.4, \"F_secondary_educ\": 93.5, \"M_secondary_educ\": 94.6, \"F_Labour_force\": 30.2, \"M_Labour_force\": 50.5, \"Human_development_int\": 3}, {\"Country\": \"Belize\", \"Human_development\": \"Medium\", \"GII\": 0.364, \"Rank\": 86.0, \"Maternal_mortality\": 36.0, \"Adolescent_birth_rate\": 57.1, \"Seats_parliament\": 19.6, \"F_secondary_educ\": 54.5, \"M_secondary_educ\": 49.8, \"F_Labour_force\": 46.9, \"M_Labour_force\": 76.8, \"Human_development_int\": 3}, {\"Country\": \"Morocco\", \"Human_development\": \"Medium\", \"GII\": 0.425, \"Rank\": 104.0, \"Maternal_mortality\": 70.0, \"Adolescent_birth_rate\": 25.9, \"Seats_parliament\": 20.4, \"F_secondary_educ\": 30.9, \"M_secondary_educ\": 37.1, \"F_Labour_force\": 22.0, \"M_Labour_force\": 66.0, \"Human_development_int\": 3}, {\"Country\": \"El Salvador\", \"Human_development\": \"Medium\", \"GII\": 0.376, \"Rank\": 88.0, \"Maternal_mortality\": 46.0, \"Adolescent_birth_rate\": 55.9, \"Seats_parliament\": 27.4, \"F_secondary_educ\": 42.7, \"M_secondary_educ\": 51.4, \"F_Labour_force\": 43.6, \"M_Labour_force\": 72.6, \"Human_development_int\": 3}, {\"Country\": \"Nicaragua\", \"Human_development\": \"Medium\", \"GII\": 0.424, \"Rank\": 102.0, \"Maternal_mortality\": 98.0, \"Adolescent_birth_rate\": 85.6, \"Seats_parliament\": 50.5, \"F_secondary_educ\": 51.2, \"M_secondary_educ\": 49.7, \"F_Labour_force\": 46.8, \"M_Labour_force\": 81.3, \"Human_development_int\": 3}, {\"Country\": \"Bhutan\", \"Human_development\": \"Medium\", \"GII\": 0.415, \"Rank\": 98.0, \"Maternal_mortality\": 183.0, \"Adolescent_birth_rate\": 19.0, \"Seats_parliament\": 16.7, \"F_secondary_educ\": 23.6, \"M_secondary_educ\": 32.3, \"F_Labour_force\": 51.6, \"M_Labour_force\": 67.4, \"Human_development_int\": 3}, {\"Country\": \"Cabo Verde\", \"Human_development\": \"Medium\", \"GII\": 0.349, \"Rank\": 84.0, \"Maternal_mortality\": 58.0, \"Adolescent_birth_rate\": 55.2, \"Seats_parliament\": 38.9, \"F_secondary_educ\": 28.8, \"M_secondary_educ\": 31.2, \"F_Labour_force\": 46.9, \"M_Labour_force\": 61.7, \"Human_development_int\": 3}, {\"Country\": \"Bangladesh\", \"Human_development\": \"Medium\", \"GII\": 0.53, \"Rank\": 131.0, \"Maternal_mortality\": 173.0, \"Adolescent_birth_rate\": 75.5, \"Seats_parliament\": 20.9, \"F_secondary_educ\": 50.6, \"M_secondary_educ\": 58.5, \"F_Labour_force\": 34.9, \"M_Labour_force\": 78.8, \"Human_development_int\": 3}, {\"Country\": \"India\", \"Human_development\": \"Medium\", \"GII\": 0.49, \"Rank\": 122.0, \"Maternal_mortality\": 133.0, \"Adolescent_birth_rate\": 17.2, \"Seats_parliament\": 13.4, \"F_secondary_educ\": 41.8, \"M_secondary_educ\": 53.8, \"F_Labour_force\": 19.2, \"M_Labour_force\": 70.1, \"Human_development_int\": 3}, {\"Country\": \"Ghana\", \"Human_development\": \"Medium\", \"GII\": 0.529, \"Rank\": 130.0, \"Maternal_mortality\": 308.0, \"Adolescent_birth_rate\": 64.2, \"Seats_parliament\": 14.5, \"F_secondary_educ\": 58.0, \"M_secondary_educ\": 73.2, \"F_Labour_force\": 64.5, \"M_Labour_force\": 72.2, \"Human_development_int\": 3}, {\"Country\": \"Guatemala\", \"Human_development\": \"Medium\", \"GII\": 0.481, \"Rank\": 121.0, \"Maternal_mortality\": 95.0, \"Adolescent_birth_rate\": 64.1, \"Seats_parliament\": 19.4, \"F_secondary_educ\": 29.5, \"M_secondary_educ\": 35.8, \"F_Labour_force\": 37.4, \"M_Labour_force\": 80.3, \"Human_development_int\": 3}, {\"Country\": \"Honduras\", \"Human_development\": \"Medium\", \"GII\": 0.431, \"Rank\": 107.0, \"Maternal_mortality\": 65.0, \"Adolescent_birth_rate\": 72.0, \"Seats_parliament\": 27.3, \"F_secondary_educ\": 35.8, \"M_secondary_educ\": 44.8, \"F_Labour_force\": 42.3, \"M_Labour_force\": 78.9, \"Human_development_int\": 3}, {\"Country\": \"Sao Tome and Principe\", \"Human_development\": \"Medium\", \"GII\": 0.494, \"Rank\": 124.0, \"Maternal_mortality\": 130.0, \"Adolescent_birth_rate\": 79.4, \"Seats_parliament\": 23.6, \"F_secondary_educ\": 39.9, \"M_secondary_educ\": 48.4, \"F_Labour_force\": 37.1, \"M_Labour_force\": 69.9, \"Human_development_int\": 3}, {\"Country\": \"Namibia\", \"Human_development\": \"Medium\", \"GII\": 0.445, \"Rank\": 111.0, \"Maternal_mortality\": 195.0, \"Adolescent_birth_rate\": 64.9, \"Seats_parliament\": 35.6, \"F_secondary_educ\": 41.5, \"M_secondary_educ\": 44.1, \"F_Labour_force\": 54.5, \"M_Labour_force\": 62.2, \"Human_development_int\": 3}, {\"Country\": \"Lao People's Democratic Republic\", \"Human_development\": \"Medium\", \"GII\": 0.478, \"Rank\": 120.0, \"Maternal_mortality\": 185.0, \"Adolescent_birth_rate\": 73.2, \"Seats_parliament\": 22.0, \"F_secondary_educ\": 37.7, \"M_secondary_educ\": 47.7, \"F_Labour_force\": 74.8, \"M_Labour_force\": 78.1, \"Human_development_int\": 3}, {\"Country\": \"Timor-Leste\", \"Human_development\": \"Medium\", \"GII\": 0.378, \"Rank\": 89.0, \"Maternal_mortality\": 142.0, \"Adolescent_birth_rate\": 33.9, \"Seats_parliament\": 38.5, \"F_secondary_educ\": 33.7, \"M_secondary_educ\": 41.8, \"F_Labour_force\": 61.0, \"M_Labour_force\": 72.2, \"Human_development_int\": 3}, {\"Country\": \"Nepal\", \"Human_development\": \"Medium\", \"GII\": 0.452, \"Rank\": 113.0, \"Maternal_mortality\": 186.0, \"Adolescent_birth_rate\": 63.8, \"Seats_parliament\": 33.6, \"F_secondary_educ\": 28.8, \"M_secondary_educ\": 44.7, \"F_Labour_force\": 78.7, \"M_Labour_force\": 80.8, \"Human_development_int\": 3}, {\"Country\": \"Eswatini\", \"Human_development\": \"Medium\", \"GII\": 0.54, \"Rank\": 138.0, \"Maternal_mortality\": 437.0, \"Adolescent_birth_rate\": 69.9, \"Seats_parliament\": 18.4, \"F_secondary_educ\": 34.0, \"M_secondary_educ\": 36.2, \"F_Labour_force\": 45.6, \"M_Labour_force\": 53.6, \"Human_development_int\": 3}, {\"Country\": \"Cambodia\", \"Human_development\": \"Medium\", \"GII\": 0.461, \"Rank\": 116.0, \"Maternal_mortality\": 160.0, \"Adolescent_birth_rate\": 45.5, \"Seats_parliament\": 19.8, \"F_secondary_educ\": 18.3, \"M_secondary_educ\": 31.7, \"F_Labour_force\": 74.0, \"M_Labour_force\": 85.9, \"Human_development_int\": 3}, {\"Country\": \"Zimbabwe\", \"Human_development\": \"Medium\", \"GII\": 0.532, \"Rank\": 134.0, \"Maternal_mortality\": 458.0, \"Adolescent_birth_rate\": 94.3, \"Seats_parliament\": 34.6, \"F_secondary_educ\": 61.8, \"M_secondary_educ\": 72.4, \"F_Labour_force\": 79.3, \"M_Labour_force\": 88.9, \"Human_development_int\": 3}, {\"Country\": \"Angola\", \"Human_development\": \"Medium\", \"GII\": 0.537, \"Rank\": 136.0, \"Maternal_mortality\": 241.0, \"Adolescent_birth_rate\": 138.4, \"Seats_parliament\": 29.5, \"F_secondary_educ\": 28.2, \"M_secondary_educ\": 51.5, \"F_Labour_force\": 74.0, \"M_Labour_force\": 79.1, \"Human_development_int\": 3}, {\"Country\": \"Myanmar\", \"Human_development\": \"Medium\", \"GII\": 0.498, \"Rank\": 125.0, \"Maternal_mortality\": 250.0, \"Adolescent_birth_rate\": 33.0, \"Seats_parliament\": 15.0, \"F_secondary_educ\": 38.5, \"M_secondary_educ\": 47.8, \"F_Labour_force\": 41.0, \"M_Labour_force\": 70.0, \"Human_development_int\": 3}, {\"Country\": \"Syrian Arab Republic\", \"Human_development\": \"Medium\", \"GII\": 0.477, \"Rank\": 119.0, \"Maternal_mortality\": 31.0, \"Adolescent_birth_rate\": 38.7, \"Seats_parliament\": 11.2, \"F_secondary_educ\": 37.1, \"M_secondary_educ\": 43.4, \"F_Labour_force\": 15.7, \"M_Labour_force\": 70.8, \"Human_development_int\": 3}, {\"Country\": \"Cameroon\", \"Human_development\": \"Medium\", \"GII\": 0.565, \"Rank\": 148.0, \"Maternal_mortality\": 529.0, \"Adolescent_birth_rate\": 110.4, \"Seats_parliament\": 31.1, \"F_secondary_educ\": 36.8, \"M_secondary_educ\": 55.0, \"F_Labour_force\": 70.2, \"M_Labour_force\": 80.7, \"Human_development_int\": 3}, {\"Country\": \"Kenya\", \"Human_development\": \"Medium\", \"GII\": 0.506, \"Rank\": 128.0, \"Maternal_mortality\": 342.0, \"Adolescent_birth_rate\": 64.2, \"Seats_parliament\": 23.2, \"F_secondary_educ\": 31.1, \"M_secondary_educ\": 37.7, \"F_Labour_force\": 71.0, \"M_Labour_force\": 75.6, \"Human_development_int\": 3}, {\"Country\": \"Congo\", \"Human_development\": \"Medium\", \"GII\": 0.564, \"Rank\": 147.0, \"Maternal_mortality\": 378.0, \"Adolescent_birth_rate\": 103.6, \"Seats_parliament\": 13.6, \"F_secondary_educ\": 48.0, \"M_secondary_educ\": 52.0, \"F_Labour_force\": 65.1, \"M_Labour_force\": 67.6, \"Human_development_int\": 3}, {\"Country\": \"Zambia\", \"Human_development\": \"Medium\", \"GII\": 0.54, \"Rank\": 138.0, \"Maternal_mortality\": 213.0, \"Adolescent_birth_rate\": 117.0, \"Seats_parliament\": 15.1, \"F_secondary_educ\": 47.1, \"M_secondary_educ\": 56.8, \"F_Labour_force\": 69.2, \"M_Labour_force\": 77.8, \"Human_development_int\": 3}, {\"Country\": \"Papua New Guinea\", \"Human_development\": \"Medium\", \"GII\": 0.725, \"Rank\": 169.0, \"Maternal_mortality\": 145.0, \"Adolescent_birth_rate\": 55.3, \"Seats_parliament\": 0.0, \"F_secondary_educ\": 10.8, \"M_secondary_educ\": 15.5, \"F_Labour_force\": 46.3, \"M_Labour_force\": 48.1, \"Human_development_int\": 3}, {\"Country\": \"Mauritania\", \"Human_development\": \"Medium\", \"GII\": 0.632, \"Rank\": 161.0, \"Maternal_mortality\": 766.0, \"Adolescent_birth_rate\": 78.0, \"Seats_parliament\": 20.3, \"F_secondary_educ\": 14.5, \"M_secondary_educ\": 21.9, \"F_Labour_force\": 27.4, \"M_Labour_force\": 62.2, \"Human_development_int\": 3}, {\"Country\": \"C\\u00f4te d'Ivoire\", \"Human_development\": \"Medium\", \"GII\": 0.613, \"Rank\": 155.0, \"Maternal_mortality\": 617.0, \"Adolescent_birth_rate\": 105.0, \"Seats_parliament\": 15.6, \"F_secondary_educ\": 23.9, \"M_secondary_educ\": 32.2, \"F_Labour_force\": 45.9, \"M_Labour_force\": 64.9, \"Human_development_int\": 3}, {\"Country\": \"Tanzania\", \"Human_development\": \"Low\", \"GII\": 0.56, \"Rank\": 146.0, \"Maternal_mortality\": 524.0, \"Adolescent_birth_rate\": 123.7, \"Seats_parliament\": 36.9, \"F_secondary_educ\": 13.0, \"M_secondary_educ\": 19.1, \"F_Labour_force\": 79.5, \"M_Labour_force\": 87.1, \"Human_development_int\": 4}, {\"Country\": \"Pakistan\", \"Human_development\": \"Low\", \"GII\": 0.534, \"Rank\": 135.0, \"Maternal_mortality\": 140.0, \"Adolescent_birth_rate\": 42.3, \"Seats_parliament\": 19.9, \"F_secondary_educ\": 22.1, \"M_secondary_educ\": 28.7, \"F_Labour_force\": 20.7, \"M_Labour_force\": 78.1, \"Human_development_int\": 4}, {\"Country\": \"Togo\", \"Human_development\": \"Low\", \"GII\": 0.58, \"Rank\": 149.0, \"Maternal_mortality\": 396.0, \"Adolescent_birth_rate\": 77.9, \"Seats_parliament\": 18.7, \"F_secondary_educ\": 13.9, \"M_secondary_educ\": 42.3, \"F_Labour_force\": 55.5, \"M_Labour_force\": 59.4, \"Human_development_int\": 4}, {\"Country\": \"Haiti\", \"Human_development\": \"Low\", \"GII\": 0.635, \"Rank\": 163.0, \"Maternal_mortality\": 480.0, \"Adolescent_birth_rate\": 52.5, \"Seats_parliament\": 2.7, \"F_secondary_educ\": 27.9, \"M_secondary_educ\": 41.0, \"F_Labour_force\": 60.7, \"M_Labour_force\": 68.9, \"Human_development_int\": 4}, {\"Country\": \"Nigeria\", \"Human_development\": \"Low\", \"GII\": 0.68, \"Rank\": 168.0, \"Maternal_mortality\": 917.0, \"Adolescent_birth_rate\": 101.7, \"Seats_parliament\": 4.5, \"F_secondary_educ\": 40.4, \"M_secondary_educ\": 55.3, \"F_Labour_force\": 47.9, \"M_Labour_force\": 59.6, \"Human_development_int\": 4}, {\"Country\": \"Rwanda\", \"Human_development\": \"Low\", \"GII\": 0.388, \"Rank\": 93.0, \"Maternal_mortality\": 248.0, \"Adolescent_birth_rate\": 32.4, \"Seats_parliament\": 55.7, \"F_secondary_educ\": 11.4, \"M_secondary_educ\": 16.3, \"F_Labour_force\": 82.5, \"M_Labour_force\": 82.2, \"Human_development_int\": 4}, {\"Country\": \"Benin\", \"Human_development\": \"Low\", \"GII\": 0.602, \"Rank\": 152.0, \"Maternal_mortality\": 397.0, \"Adolescent_birth_rate\": 92.3, \"Seats_parliament\": 8.4, \"F_secondary_educ\": 21.1, \"M_secondary_educ\": 34.4, \"F_Labour_force\": 69.3, \"M_Labour_force\": 72.6, \"Human_development_int\": 4}, {\"Country\": \"Uganda\", \"Human_development\": \"Low\", \"GII\": 0.53, \"Rank\": 131.0, \"Maternal_mortality\": 375.0, \"Adolescent_birth_rate\": 107.9, \"Seats_parliament\": 33.8, \"F_secondary_educ\": 29.3, \"M_secondary_educ\": 36.3, \"F_Labour_force\": 64.2, \"M_Labour_force\": 71.3, \"Human_development_int\": 4}, {\"Country\": \"Lesotho\", \"Human_development\": \"Low\", \"GII\": 0.557, \"Rank\": 144.0, \"Maternal_mortality\": 544.0, \"Adolescent_birth_rate\": 89.6, \"Seats_parliament\": 22.9, \"F_secondary_educ\": 27.2, \"M_secondary_educ\": 24.6, \"F_Labour_force\": 56.1, \"M_Labour_force\": 71.3, \"Human_development_int\": 4}, {\"Country\": \"Malawi\", \"Human_development\": \"Low\", \"GII\": 0.554, \"Rank\": 142.0, \"Maternal_mortality\": 349.0, \"Adolescent_birth_rate\": 117.9, \"Seats_parliament\": 22.9, \"F_secondary_educ\": 21.3, \"M_secondary_educ\": 28.4, \"F_Labour_force\": 71.6, \"M_Labour_force\": 80.0, \"Human_development_int\": 4}, {\"Country\": \"Senegal\", \"Human_development\": \"Low\", \"GII\": 0.53, \"Rank\": 131.0, \"Maternal_mortality\": 315.0, \"Adolescent_birth_rate\": 66.5, \"Seats_parliament\": 43.0, \"F_secondary_educ\": 11.1, \"M_secondary_educ\": 30.9, \"F_Labour_force\": 33.5, \"M_Labour_force\": 56.7, \"Human_development_int\": 4}, {\"Country\": \"Sudan\", \"Human_development\": \"Low\", \"GII\": 0.553, \"Rank\": 141.0, \"Maternal_mortality\": 295.0, \"Adolescent_birth_rate\": 79.9, \"Seats_parliament\": 31.0, \"F_secondary_educ\": 16.4, \"M_secondary_educ\": 20.1, \"F_Labour_force\": 28.7, \"M_Labour_force\": 67.8, \"Human_development_int\": 4}, {\"Country\": \"Madagascar\", \"Human_development\": \"Low\", \"GII\": 0.556, \"Rank\": 143.0, \"Maternal_mortality\": 335.0, \"Adolescent_birth_rate\": 119.4, \"Seats_parliament\": 17.2, \"F_secondary_educ\": 27.3, \"M_secondary_educ\": 29.8, \"F_Labour_force\": 81.5, \"M_Labour_force\": 87.6, \"Human_development_int\": 4}, {\"Country\": \"Gambia\", \"Human_development\": \"Low\", \"GII\": 0.611, \"Rank\": 153.0, \"Maternal_mortality\": 597.0, \"Adolescent_birth_rate\": 63.2, \"Seats_parliament\": 8.6, \"F_secondary_educ\": 29.9, \"M_secondary_educ\": 43.2, \"F_Labour_force\": 48.9, \"M_Labour_force\": 66.3, \"Human_development_int\": 4}, {\"Country\": \"Ethiopia\", \"Human_development\": \"Low\", \"GII\": 0.52, \"Rank\": 129.0, \"Maternal_mortality\": 401.0, \"Adolescent_birth_rate\": 69.2, \"Seats_parliament\": 39.5, \"F_secondary_educ\": 9.1, \"M_secondary_educ\": 20.1, \"F_Labour_force\": 72.3, \"M_Labour_force\": 84.7, \"Human_development_int\": 4}, {\"Country\": \"Guinea-Bissau\", \"Human_development\": \"Low\", \"GII\": 0.627, \"Rank\": 159.0, \"Maternal_mortality\": 667.0, \"Adolescent_birth_rate\": 87.5, \"Seats_parliament\": 13.7, \"F_secondary_educ\": 9.8, \"M_secondary_educ\": 22.8, \"F_Labour_force\": 63.9, \"M_Labour_force\": 78.4, \"Human_development_int\": 4}, {\"Country\": \"Liberia\", \"Human_development\": \"Low\", \"GII\": 0.648, \"Rank\": 164.0, \"Maternal_mortality\": 661.0, \"Adolescent_birth_rate\": 123.4, \"Seats_parliament\": 9.7, \"F_secondary_educ\": 20.8, \"M_secondary_educ\": 39.2, \"F_Labour_force\": 69.8, \"M_Labour_force\": 79.7, \"Human_development_int\": 4}, {\"Country\": \"Congo\", \"Human_development\": \"Low\", \"GII\": 0.601, \"Rank\": 151.0, \"Maternal_mortality\": 473.0, \"Adolescent_birth_rate\": 109.0, \"Seats_parliament\": 14.3, \"F_secondary_educ\": 40.3, \"M_secondary_educ\": 69.1, \"F_Labour_force\": 61.2, \"M_Labour_force\": 69.1, \"Human_development_int\": 4}, {\"Country\": \"Afghanistan\", \"Human_development\": \"Low\", \"GII\": 0.678, \"Rank\": 167.0, \"Maternal_mortality\": 638.0, \"Adolescent_birth_rate\": 82.6, \"Seats_parliament\": 27.2, \"F_secondary_educ\": 6.4, \"M_secondary_educ\": 14.9, \"F_Labour_force\": 14.8, \"M_Labour_force\": 66.5, \"Human_development_int\": 4}, {\"Country\": \"Sierra Leone\", \"Human_development\": \"Low\", \"GII\": 0.633, \"Rank\": 162.0, \"Maternal_mortality\": 1120.0, \"Adolescent_birth_rate\": 100.9, \"Seats_parliament\": 12.3, \"F_secondary_educ\": 34.7, \"M_secondary_educ\": 51.5, \"F_Labour_force\": 56.1, \"M_Labour_force\": 55.9, \"Human_development_int\": 4}, {\"Country\": \"Guinea\", \"Human_development\": \"Low\", \"GII\": 0.621, \"Rank\": 157.0, \"Maternal_mortality\": 576.0, \"Adolescent_birth_rate\": 114.8, \"Seats_parliament\": 16.7, \"F_secondary_educ\": 7.2, \"M_secondary_educ\": 19.7, \"F_Labour_force\": 62.1, \"M_Labour_force\": 62.2, \"Human_development_int\": 4}, {\"Country\": \"Yemen\", \"Human_development\": \"Low\", \"GII\": 0.82, \"Rank\": 170.0, \"Maternal_mortality\": 164.0, \"Adolescent_birth_rate\": 54.4, \"Seats_parliament\": 0.3, \"F_secondary_educ\": 22.4, \"M_secondary_educ\": 37.5, \"F_Labour_force\": 6.0, \"M_Labour_force\": 67.6, \"Human_development_int\": 4}, {\"Country\": \"Burkina Faso\", \"Human_development\": \"Low\", \"GII\": 0.621, \"Rank\": 157.0, \"Maternal_mortality\": 320.0, \"Adolescent_birth_rate\": 110.5, \"Seats_parliament\": 6.3, \"F_secondary_educ\": 11.3, \"M_secondary_educ\": 17.1, \"F_Labour_force\": 57.2, \"M_Labour_force\": 72.7, \"Human_development_int\": 4}, {\"Country\": \"Mozambique\", \"Human_development\": \"Low\", \"GII\": 0.537, \"Rank\": 136.0, \"Maternal_mortality\": 289.0, \"Adolescent_birth_rate\": 165.8, \"Seats_parliament\": 42.4, \"F_secondary_educ\": 10.8, \"M_secondary_educ\": 20.2, \"F_Labour_force\": 77.7, \"M_Labour_force\": 78.9, \"Human_development_int\": 4}, {\"Country\": \"Mali\", \"Human_development\": \"Low\", \"GII\": 0.613, \"Rank\": 155.0, \"Maternal_mortality\": 562.0, \"Adolescent_birth_rate\": 150.1, \"Seats_parliament\": 27.3, \"F_secondary_educ\": 8.0, \"M_secondary_educ\": 15.5, \"F_Labour_force\": 57.7, \"M_Labour_force\": 79.7, \"Human_development_int\": 4}, {\"Country\": \"Burundi\", \"Human_development\": \"Low\", \"GII\": 0.505, \"Rank\": 127.0, \"Maternal_mortality\": 548.0, \"Adolescent_birth_rate\": 53.6, \"Seats_parliament\": 38.9, \"F_secondary_educ\": 7.8, \"M_secondary_educ\": 13.0, \"F_Labour_force\": 79.0, \"M_Labour_force\": 77.4, \"Human_development_int\": 4}, {\"Country\": \"Central African Republic\", \"Human_development\": \"Low\", \"GII\": 0.672, \"Rank\": 166.0, \"Maternal_mortality\": 829.0, \"Adolescent_birth_rate\": 160.5, \"Seats_parliament\": 12.9, \"F_secondary_educ\": 13.9, \"M_secondary_educ\": 31.6, \"F_Labour_force\": 63.3, \"M_Labour_force\": 79.5, \"Human_development_int\": 4}, {\"Country\": \"Niger\", \"Human_development\": \"Low\", \"GII\": 0.611, \"Rank\": 153.0, \"Maternal_mortality\": 509.0, \"Adolescent_birth_rate\": 170.5, \"Seats_parliament\": 25.9, \"F_secondary_educ\": 9.2, \"M_secondary_educ\": 15.2, \"F_Labour_force\": 61.7, \"M_Labour_force\": 84.3, \"Human_development_int\": 4}, {\"Country\": \"Chad\", \"Human_development\": \"Low\", \"GII\": 0.652, \"Rank\": 165.0, \"Maternal_mortality\": 1140.0, \"Adolescent_birth_rate\": 138.3, \"Seats_parliament\": 32.3, \"F_secondary_educ\": 7.7, \"M_secondary_educ\": 24.4, \"F_Labour_force\": 46.9, \"M_Labour_force\": 69.9, \"Human_development_int\": 4}, {\"Country\": \"South Sudan\", \"Human_development\": \"Low\", \"GII\": 0.587, \"Rank\": 150.0, \"Maternal_mortality\": 1150.0, \"Adolescent_birth_rate\": 99.2, \"Seats_parliament\": 32.3, \"F_secondary_educ\": 26.5, \"M_secondary_educ\": 36.4, \"F_Labour_force\": 70.4, \"M_Labour_force\": 73.6, \"Human_development_int\": 4}]}}, {\"mode\": \"vega-lite\"});\n",
       "</script>"
      ],
      "text/plain": [
       "alt.Chart(...)"
      ]
     },
     "execution_count": 12,
     "metadata": {},
     "output_type": "execute_result"
    }
   ],
   "source": [
    "HD = alt.Chart(df).mark_bar().encode(\n",
    "    x = 'Human_development_int',\n",
    "    y = 'GII',\n",
    "    color = \"Human_development\"\n",
    ")\n",
    "HD"
   ]
  },
  {
   "cell_type": "markdown",
   "metadata": {
    "cell_id": "c7c8954517514180a74bf75b0676fed8",
    "deepnote_cell_type": "text-cell-p",
    "formattedRanges": []
   },
   "source": []
  },
  {
   "cell_type": "code",
   "execution_count": null,
   "metadata": {
    "cell_id": "e6867129810247588a27898a7a0fbf9c",
    "deepnote_cell_type": "code",
    "deepnote_to_be_reexecuted": false,
    "execution_millis": 42,
    "execution_start": 1702538922860,
    "source_hash": null
   },
   "outputs": [
    {
     "data": {
      "application/vnd.deepnote.dataframe.v3+json": {
       "column_count": 10,
       "columns": [
        {
         "dtype": "float64",
         "name": "GII",
         "stats": {
          "histogram": [
           {
            "bin_end": -0.6283504046324662,
            "bin_start": -0.8092782273694068,
            "count": 2
           },
           {
            "bin_end": -0.4474225818955254,
            "bin_start": -0.6283504046324662,
            "count": 0
           },
           {
            "bin_end": -0.26649475915858467,
            "bin_start": -0.4474225818955254,
            "count": 1
           },
           {
            "bin_end": -0.08556693642164404,
            "bin_start": -0.26649475915858467,
            "count": 0
           },
           {
            "bin_end": 0.0953608863152966,
            "bin_start": -0.08556693642164404,
            "count": 1
           },
           {
            "bin_end": 0.27628870905223746,
            "bin_start": 0.0953608863152966,
            "count": 1
           },
           {
            "bin_end": 0.4572165317891781,
            "bin_start": 0.27628870905223746,
            "count": 0
           },
           {
            "bin_end": 0.6381443545261187,
            "bin_start": 0.4572165317891781,
            "count": 0
           },
           {
            "bin_end": 0.8190721772630594,
            "bin_start": 0.6381443545261187,
            "count": 2
           },
           {
            "bin_end": 1,
            "bin_start": 0.8190721772630594,
            "count": 3
           }
          ],
          "max": "1.0",
          "min": "-0.8092782273694068",
          "nan_count": 0,
          "unique_count": 10
         }
        },
        {
         "dtype": "float64",
         "name": "Rank",
         "stats": {
          "histogram": [
           {
            "bin_end": -0.6305174878542231,
            "bin_start": -0.8116860976158035,
            "count": 2
           },
           {
            "bin_end": -0.4493488780926428,
            "bin_start": -0.6305174878542231,
            "count": 0
           },
           {
            "bin_end": -0.26818026833106245,
            "bin_start": -0.4493488780926428,
            "count": 1
           },
           {
            "bin_end": -0.08701165856948212,
            "bin_start": -0.26818026833106245,
            "count": 0
           },
           {
            "bin_end": 0.09415695119209821,
            "bin_start": -0.08701165856948212,
            "count": 1
           },
           {
            "bin_end": 0.27532556095367855,
            "bin_start": 0.09415695119209821,
            "count": 1
           },
           {
            "bin_end": 0.4564941707152589,
            "bin_start": 0.27532556095367855,
            "count": 0
           },
           {
            "bin_end": 0.6376627804768392,
            "bin_start": 0.4564941707152589,
            "count": 0
           },
           {
            "bin_end": 0.8188313902384196,
            "bin_start": 0.6376627804768392,
            "count": 1
           },
           {
            "bin_end": 1,
            "bin_start": 0.8188313902384196,
            "count": 4
           }
          ],
          "max": "1.0",
          "min": "-0.8116860976158035",
          "nan_count": 0,
          "unique_count": 10
         }
        },
        {
         "dtype": "float64",
         "name": "Maternal_mortality",
         "stats": {
          "histogram": [
           {
            "bin_end": -0.5282128448283807,
            "bin_start": -0.6980142720315341,
            "count": 2
           },
           {
            "bin_end": -0.35841141762522727,
            "bin_start": -0.5282128448283807,
            "count": 0
           },
           {
            "bin_end": -0.18860999042207383,
            "bin_start": -0.35841141762522727,
            "count": 0
           },
           {
            "bin_end": -0.018808563218920438,
            "bin_start": -0.18860999042207383,
            "count": 1
           },
           {
            "bin_end": 0.15099286398423295,
            "bin_start": -0.018808563218920438,
            "count": 1
           },
           {
            "bin_end": 0.32079429118738645,
            "bin_start": 0.15099286398423295,
            "count": 1
           },
           {
            "bin_end": 0.49059571839053984,
            "bin_start": 0.32079429118738645,
            "count": 0
           },
           {
            "bin_end": 0.6603971455936932,
            "bin_start": 0.49059571839053984,
            "count": 0
           },
           {
            "bin_end": 0.8301985727968466,
            "bin_start": 0.6603971455936932,
            "count": 4
           },
           {
            "bin_end": 1,
            "bin_start": 0.8301985727968466,
            "count": 1
           }
          ],
          "max": "1.0",
          "min": "-0.6980142720315341",
          "nan_count": 0,
          "unique_count": 10
         }
        },
        {
         "dtype": "float64",
         "name": "Adolescent_birth_rate",
         "stats": {
          "histogram": [
           {
            "bin_end": -0.555852261472777,
            "bin_start": -0.7287247349697522,
            "count": 2
           },
           {
            "bin_end": -0.38297978797580173,
            "bin_start": -0.555852261472777,
            "count": 0
           },
           {
            "bin_end": -0.21010731447882647,
            "bin_start": -0.38297978797580173,
            "count": 0
           },
           {
            "bin_end": -0.03723484098185126,
            "bin_start": -0.21010731447882647,
            "count": 1
           },
           {
            "bin_end": 0.13563763251512395,
            "bin_start": -0.03723484098185126,
            "count": 0
           },
           {
            "bin_end": 0.30851010601209927,
            "bin_start": 0.13563763251512395,
            "count": 2
           },
           {
            "bin_end": 0.48138257950907437,
            "bin_start": 0.30851010601209927,
            "count": 0
           },
           {
            "bin_end": 0.6542550530060497,
            "bin_start": 0.48138257950907437,
            "count": 0
           },
           {
            "bin_end": 0.827127526503025,
            "bin_start": 0.6542550530060497,
            "count": 4
           },
           {
            "bin_end": 1,
            "bin_start": 0.827127526503025,
            "count": 1
           }
          ],
          "max": "1.0",
          "min": "-0.7287247349697522",
          "nan_count": 0,
          "unique_count": 10
         }
        },
        {
         "dtype": "float64",
         "name": "Seats_parliament",
         "stats": {
          "histogram": [
           {
            "bin_end": -0.2817042116089346,
            "bin_start": -0.424115790676594,
            "count": 2
           },
           {
            "bin_end": -0.13929263254127522,
            "bin_start": -0.2817042116089346,
            "count": 2
           },
           {
            "bin_end": 0.00311894652638417,
            "bin_start": -0.13929263254127522,
            "count": 1
           },
           {
            "bin_end": 0.14553052559404356,
            "bin_start": 0.00311894652638417,
            "count": 1
           },
           {
            "bin_end": 0.287942104661703,
            "bin_start": 0.14553052559404356,
            "count": 3
           },
           {
            "bin_end": 0.43035368372936234,
            "bin_start": 0.287942104661703,
            "count": 0
           },
           {
            "bin_end": 0.5727652627970217,
            "bin_start": 0.43035368372936234,
            "count": 0
           },
           {
            "bin_end": 0.7151768418646811,
            "bin_start": 0.5727652627970217,
            "count": 0
           },
           {
            "bin_end": 0.8575884209323406,
            "bin_start": 0.7151768418646811,
            "count": 0
           },
           {
            "bin_end": 1,
            "bin_start": 0.8575884209323406,
            "count": 1
           }
          ],
          "max": "1.0",
          "min": "-0.424115790676594",
          "nan_count": 0,
          "unique_count": 10
         }
        },
        {
         "dtype": "float64",
         "name": "F_secondary_educ",
         "stats": {
          "histogram": [
           {
            "bin_end": -0.652262284285833,
            "bin_start": -0.8358469825398144,
            "count": 5
           },
           {
            "bin_end": -0.4686775860318515,
            "bin_start": -0.652262284285833,
            "count": 0
           },
           {
            "bin_end": -0.2850928877778701,
            "bin_start": -0.4686775860318515,
            "count": 0
           },
           {
            "bin_end": -0.10150818952388863,
            "bin_start": -0.2850928877778701,
            "count": 1
           },
           {
            "bin_end": 0.08207650873009287,
            "bin_start": -0.10150818952388863,
            "count": 1
           },
           {
            "bin_end": 0.26566120698407414,
            "bin_start": 0.08207650873009287,
            "count": 1
           },
           {
            "bin_end": 0.44924590523805563,
            "bin_start": 0.26566120698407414,
            "count": 0
           },
           {
            "bin_end": 0.6328306034920371,
            "bin_start": 0.44924590523805563,
            "count": 0
           },
           {
            "bin_end": 0.8164153017460186,
            "bin_start": 0.6328306034920371,
            "count": 0
           },
           {
            "bin_end": 1,
            "bin_start": 0.8164153017460186,
            "count": 2
           }
          ],
          "max": "1.0",
          "min": "-0.8358469825398144",
          "nan_count": 0,
          "unique_count": 10
         }
        },
        {
         "dtype": "float64",
         "name": "M_secondary_educ",
         "stats": {
          "histogram": [
           {
            "bin_end": -0.6229459876319885,
            "bin_start": -0.8032733195910984,
            "count": 5
           },
           {
            "bin_end": -0.4426186556728787,
            "bin_start": -0.6229459876319885,
            "count": 0
           },
           {
            "bin_end": -0.26229132371376895,
            "bin_start": -0.4426186556728787,
            "count": 1
           },
           {
            "bin_end": -0.08196399175465907,
            "bin_start": -0.26229132371376895,
            "count": 1
           },
           {
            "bin_end": 0.09836334020445081,
            "bin_start": -0.08196399175465907,
            "count": 0
           },
           {
            "bin_end": 0.27869067216356047,
            "bin_start": 0.09836334020445081,
            "count": 1
           },
           {
            "bin_end": 0.45901800412267035,
            "bin_start": 0.27869067216356047,
            "count": 0
           },
           {
            "bin_end": 0.6393453360817802,
            "bin_start": 0.45901800412267035,
            "count": 0
           },
           {
            "bin_end": 0.8196726680408901,
            "bin_start": 0.6393453360817802,
            "count": 0
           },
           {
            "bin_end": 1,
            "bin_start": 0.8196726680408901,
            "count": 2
           }
          ],
          "max": "1.0",
          "min": "-0.8032733195910984",
          "nan_count": 0,
          "unique_count": 10
         }
        },
        {
         "dtype": "float64",
         "name": "F_Labour_force",
         "stats": {
          "histogram": [
           {
            "bin_end": 0.01115978319180097,
            "bin_start": -0.09871135200911003,
            "count": 4
           },
           {
            "bin_end": 0.12103091839271198,
            "bin_start": 0.01115978319180097,
            "count": 1
           },
           {
            "bin_end": 0.23090205359362298,
            "bin_start": 0.12103091839271198,
            "count": 1
           },
           {
            "bin_end": 0.340773188794534,
            "bin_start": 0.23090205359362298,
            "count": 2
           },
           {
            "bin_end": 0.450644323995445,
            "bin_start": 0.340773188794534,
            "count": 1
           },
           {
            "bin_end": 0.5605154591963559,
            "bin_start": 0.450644323995445,
            "count": 0
           },
           {
            "bin_end": 0.670386594397267,
            "bin_start": 0.5605154591963559,
            "count": 0
           },
           {
            "bin_end": 0.780257729598178,
            "bin_start": 0.670386594397267,
            "count": 0
           },
           {
            "bin_end": 0.8901288647990889,
            "bin_start": 0.780257729598178,
            "count": 0
           },
           {
            "bin_end": 1,
            "bin_start": 0.8901288647990889,
            "count": 1
           }
          ],
          "max": "1.0",
          "min": "-0.09871135200911003",
          "nan_count": 0,
          "unique_count": 10
         }
        },
        {
         "dtype": "float64",
         "name": "M_Labour_force",
         "stats": {
          "histogram": [
           {
            "bin_end": -0.1551979690372955,
            "bin_start": -0.2835532989303283,
            "count": 2
           },
           {
            "bin_end": -0.02684263914426266,
            "bin_start": -0.1551979690372955,
            "count": 0
           },
           {
            "bin_end": 0.10151269074877017,
            "bin_start": -0.02684263914426266,
            "count": 1
           },
           {
            "bin_end": 0.229868020641803,
            "bin_start": 0.10151269074877017,
            "count": 4
           },
           {
            "bin_end": 0.3582233505348359,
            "bin_start": 0.229868020641803,
            "count": 1
           },
           {
            "bin_end": 0.48657868042786867,
            "bin_start": 0.3582233505348359,
            "count": 1
           },
           {
            "bin_end": 0.6149340103209014,
            "bin_start": 0.48657868042786867,
            "count": 0
           },
           {
            "bin_end": 0.7432893402139343,
            "bin_start": 0.6149340103209014,
            "count": 0
           },
           {
            "bin_end": 0.8716446701069672,
            "bin_start": 0.7432893402139343,
            "count": 0
           },
           {
            "bin_end": 1,
            "bin_start": 0.8716446701069672,
            "count": 1
           }
          ],
          "max": "1.0",
          "min": "-0.2835532989303283",
          "nan_count": 0,
          "unique_count": 10
         }
        },
        {
         "dtype": "float64",
         "name": "Human_development_int",
         "stats": {
          "histogram": [
           {
            "bin_end": -0.652262284285833,
            "bin_start": -0.8358469825398144,
            "count": 2
           },
           {
            "bin_end": -0.4686775860318515,
            "bin_start": -0.652262284285833,
            "count": 0
           },
           {
            "bin_end": -0.2850928877778701,
            "bin_start": -0.4686775860318515,
            "count": 0
           },
           {
            "bin_end": -0.10150818952388863,
            "bin_start": -0.2850928877778701,
            "count": 1
           },
           {
            "bin_end": 0.08207650873009287,
            "bin_start": -0.10150818952388863,
            "count": 1
           },
           {
            "bin_end": 0.26566120698407414,
            "bin_start": 0.08207650873009287,
            "count": 1
           },
           {
            "bin_end": 0.44924590523805563,
            "bin_start": 0.26566120698407414,
            "count": 0
           },
           {
            "bin_end": 0.6328306034920371,
            "bin_start": 0.44924590523805563,
            "count": 0
           },
           {
            "bin_end": 0.8164153017460186,
            "bin_start": 0.6328306034920371,
            "count": 2
           },
           {
            "bin_end": 1,
            "bin_start": 0.8164153017460186,
            "count": 3
           }
          ],
          "max": "1.0",
          "min": "-0.8358469825398144",
          "nan_count": 0,
          "unique_count": 10
         }
        },
        {
         "dtype": "object",
         "name": "_deepnote_index_column"
        }
       ],
       "row_count": 10,
       "rows": [
        {
         "Adolescent_birth_rate": 0.8067912288004291,
         "F_Labour_force": -0.07096963172783038,
         "F_secondary_educ": -0.8092782273694068,
         "GII": 1,
         "Human_development_int": 0.8611642406056547,
         "M_Labour_force": 0.15827005713948664,
         "M_secondary_educ": -0.7821300796376507,
         "Maternal_mortality": 0.713514720490243,
         "Rank": 0.9967550843428423,
         "Seats_parliament": -0.424115790676594,
         "_deepnote_index_column": "GII"
        },
        {
         "Adolescent_birth_rate": 0.8207802461063821,
         "F_Labour_force": -0.05075255363860587,
         "F_secondary_educ": -0.8116860976158035,
         "GII": 0.9967550843428423,
         "Human_development_int": 0.8659944711423525,
         "M_Labour_force": 0.16007795758228485,
         "M_secondary_educ": -0.7816249515970192,
         "Maternal_mortality": 0.7335777667131967,
         "Rank": 1,
         "Seats_parliament": -0.4199450324011664,
         "_deepnote_index_column": "Rank"
        },
        {
         "Adolescent_birth_rate": 0.7527689337225524,
         "F_Labour_force": 0.23051071578859833,
         "F_secondary_educ": -0.6980142720315341,
         "GII": 0.713514720490243,
         "Human_development_int": 0.7480206314008536,
         "M_Labour_force": 0.106192326956031,
         "M_secondary_educ": -0.6425724939987635,
         "Maternal_mortality": 1,
         "Rank": 0.7335777667131967,
         "Seats_parliament": -0.16222076454067635,
         "_deepnote_index_column": "Maternal_mortality"
        },
        {
         "Adolescent_birth_rate": 1,
         "F_Labour_force": 0.2604706443782663,
         "F_secondary_educ": -0.7287247349697522,
         "GII": 0.8067912288004291,
         "Human_development_int": 0.7980414381228634,
         "M_Labour_force": 0.2638506767577724,
         "M_secondary_educ": -0.6917599037597161,
         "Maternal_mortality": 0.7527689337225524,
         "Rank": 0.8207802461063821,
         "Seats_parliament": -0.09473648659869646,
         "_deepnote_index_column": "Adolescent_birth_rate"
        },
        {
         "Adolescent_birth_rate": -0.09473648659869646,
         "F_Labour_force": 0.2790145901818951,
         "F_secondary_educ": 0.16948269630001403,
         "GII": -0.424115790676594,
         "Human_development_int": -0.17685901319339659,
         "M_Labour_force": 0.05966206268147072,
         "M_secondary_educ": 0.1688234424211579,
         "Maternal_mortality": -0.16222076454067635,
         "Rank": -0.4199450324011664,
         "Seats_parliament": 1,
         "_deepnote_index_column": "Seats_parliament"
        },
        {
         "Adolescent_birth_rate": -0.7287247349697522,
         "F_Labour_force": -0.09871135200911003,
         "F_secondary_educ": 1,
         "GII": -0.8092782273694068,
         "Human_development_int": -0.8358469825398144,
         "M_Labour_force": -0.269952362964453,
         "M_secondary_educ": 0.972920844403362,
         "Maternal_mortality": -0.6980142720315341,
         "Rank": -0.8116860976158035,
         "Seats_parliament": 0.16948269630001403,
         "_deepnote_index_column": "F_secondary_educ"
        },
        {
         "Adolescent_birth_rate": -0.6917599037597161,
         "F_Labour_force": -0.08317604806909648,
         "F_secondary_educ": 0.972920844403362,
         "GII": -0.7821300796376507,
         "Human_development_int": -0.8032733195910984,
         "M_Labour_force": -0.2835532989303283,
         "M_secondary_educ": 1,
         "Maternal_mortality": -0.6425724939987635,
         "Rank": -0.7816249515970192,
         "Seats_parliament": 0.1688234424211579,
         "_deepnote_index_column": "M_secondary_educ"
        },
        {
         "Adolescent_birth_rate": 0.2604706443782663,
         "F_Labour_force": 1,
         "F_secondary_educ": -0.09871135200911003,
         "GII": -0.07096963172783038,
         "Human_development_int": 0.08136580705350625,
         "M_Labour_force": 0.42683889045761575,
         "M_secondary_educ": -0.08317604806909648,
         "Maternal_mortality": 0.23051071578859833,
         "Rank": -0.05075255363860587,
         "Seats_parliament": 0.2790145901818951,
         "_deepnote_index_column": "F_Labour_force"
        },
        {
         "Adolescent_birth_rate": 0.2638506767577724,
         "F_Labour_force": 0.42683889045761575,
         "F_secondary_educ": -0.269952362964453,
         "GII": 0.15827005713948664,
         "Human_development_int": 0.1563763770701356,
         "M_Labour_force": 1,
         "M_secondary_educ": -0.2835532989303283,
         "Maternal_mortality": 0.106192326956031,
         "Rank": 0.16007795758228485,
         "Seats_parliament": 0.05966206268147072,
         "_deepnote_index_column": "M_Labour_force"
        },
        {
         "Adolescent_birth_rate": 0.7980414381228634,
         "F_Labour_force": 0.08136580705350625,
         "F_secondary_educ": -0.8358469825398144,
         "GII": 0.8611642406056547,
         "Human_development_int": 1,
         "M_Labour_force": 0.1563763770701356,
         "M_secondary_educ": -0.8032733195910984,
         "Maternal_mortality": 0.7480206314008536,
         "Rank": 0.8659944711423525,
         "Seats_parliament": -0.17685901319339659,
         "_deepnote_index_column": "Human_development_int"
        }
       ]
      },
      "text/html": [
       "<div>\n",
       "<style scoped>\n",
       "    .dataframe tbody tr th:only-of-type {\n",
       "        vertical-align: middle;\n",
       "    }\n",
       "\n",
       "    .dataframe tbody tr th {\n",
       "        vertical-align: top;\n",
       "    }\n",
       "\n",
       "    .dataframe thead th {\n",
       "        text-align: right;\n",
       "    }\n",
       "</style>\n",
       "<table border=\"1\" class=\"dataframe\">\n",
       "  <thead>\n",
       "    <tr style=\"text-align: right;\">\n",
       "      <th></th>\n",
       "      <th>GII</th>\n",
       "      <th>Rank</th>\n",
       "      <th>Maternal_mortality</th>\n",
       "      <th>Adolescent_birth_rate</th>\n",
       "      <th>Seats_parliament</th>\n",
       "      <th>F_secondary_educ</th>\n",
       "      <th>M_secondary_educ</th>\n",
       "      <th>F_Labour_force</th>\n",
       "      <th>M_Labour_force</th>\n",
       "      <th>Human_development_int</th>\n",
       "    </tr>\n",
       "  </thead>\n",
       "  <tbody>\n",
       "    <tr>\n",
       "      <th>GII</th>\n",
       "      <td>1.000000</td>\n",
       "      <td>0.996755</td>\n",
       "      <td>0.713515</td>\n",
       "      <td>0.806791</td>\n",
       "      <td>-0.424116</td>\n",
       "      <td>-0.809278</td>\n",
       "      <td>-0.782130</td>\n",
       "      <td>-0.070970</td>\n",
       "      <td>0.158270</td>\n",
       "      <td>0.861164</td>\n",
       "    </tr>\n",
       "    <tr>\n",
       "      <th>Rank</th>\n",
       "      <td>0.996755</td>\n",
       "      <td>1.000000</td>\n",
       "      <td>0.733578</td>\n",
       "      <td>0.820780</td>\n",
       "      <td>-0.419945</td>\n",
       "      <td>-0.811686</td>\n",
       "      <td>-0.781625</td>\n",
       "      <td>-0.050753</td>\n",
       "      <td>0.160078</td>\n",
       "      <td>0.865994</td>\n",
       "    </tr>\n",
       "    <tr>\n",
       "      <th>Maternal_mortality</th>\n",
       "      <td>0.713515</td>\n",
       "      <td>0.733578</td>\n",
       "      <td>1.000000</td>\n",
       "      <td>0.752769</td>\n",
       "      <td>-0.162221</td>\n",
       "      <td>-0.698014</td>\n",
       "      <td>-0.642572</td>\n",
       "      <td>0.230511</td>\n",
       "      <td>0.106192</td>\n",
       "      <td>0.748021</td>\n",
       "    </tr>\n",
       "    <tr>\n",
       "      <th>Adolescent_birth_rate</th>\n",
       "      <td>0.806791</td>\n",
       "      <td>0.820780</td>\n",
       "      <td>0.752769</td>\n",
       "      <td>1.000000</td>\n",
       "      <td>-0.094736</td>\n",
       "      <td>-0.728725</td>\n",
       "      <td>-0.691760</td>\n",
       "      <td>0.260471</td>\n",
       "      <td>0.263851</td>\n",
       "      <td>0.798041</td>\n",
       "    </tr>\n",
       "    <tr>\n",
       "      <th>Seats_parliament</th>\n",
       "      <td>-0.424116</td>\n",
       "      <td>-0.419945</td>\n",
       "      <td>-0.162221</td>\n",
       "      <td>-0.094736</td>\n",
       "      <td>1.000000</td>\n",
       "      <td>0.169483</td>\n",
       "      <td>0.168823</td>\n",
       "      <td>0.279015</td>\n",
       "      <td>0.059662</td>\n",
       "      <td>-0.176859</td>\n",
       "    </tr>\n",
       "    <tr>\n",
       "      <th>F_secondary_educ</th>\n",
       "      <td>-0.809278</td>\n",
       "      <td>-0.811686</td>\n",
       "      <td>-0.698014</td>\n",
       "      <td>-0.728725</td>\n",
       "      <td>0.169483</td>\n",
       "      <td>1.000000</td>\n",
       "      <td>0.972921</td>\n",
       "      <td>-0.098711</td>\n",
       "      <td>-0.269952</td>\n",
       "      <td>-0.835847</td>\n",
       "    </tr>\n",
       "    <tr>\n",
       "      <th>M_secondary_educ</th>\n",
       "      <td>-0.782130</td>\n",
       "      <td>-0.781625</td>\n",
       "      <td>-0.642572</td>\n",
       "      <td>-0.691760</td>\n",
       "      <td>0.168823</td>\n",
       "      <td>0.972921</td>\n",
       "      <td>1.000000</td>\n",
       "      <td>-0.083176</td>\n",
       "      <td>-0.283553</td>\n",
       "      <td>-0.803273</td>\n",
       "    </tr>\n",
       "    <tr>\n",
       "      <th>F_Labour_force</th>\n",
       "      <td>-0.070970</td>\n",
       "      <td>-0.050753</td>\n",
       "      <td>0.230511</td>\n",
       "      <td>0.260471</td>\n",
       "      <td>0.279015</td>\n",
       "      <td>-0.098711</td>\n",
       "      <td>-0.083176</td>\n",
       "      <td>1.000000</td>\n",
       "      <td>0.426839</td>\n",
       "      <td>0.081366</td>\n",
       "    </tr>\n",
       "    <tr>\n",
       "      <th>M_Labour_force</th>\n",
       "      <td>0.158270</td>\n",
       "      <td>0.160078</td>\n",
       "      <td>0.106192</td>\n",
       "      <td>0.263851</td>\n",
       "      <td>0.059662</td>\n",
       "      <td>-0.269952</td>\n",
       "      <td>-0.283553</td>\n",
       "      <td>0.426839</td>\n",
       "      <td>1.000000</td>\n",
       "      <td>0.156376</td>\n",
       "    </tr>\n",
       "    <tr>\n",
       "      <th>Human_development_int</th>\n",
       "      <td>0.861164</td>\n",
       "      <td>0.865994</td>\n",
       "      <td>0.748021</td>\n",
       "      <td>0.798041</td>\n",
       "      <td>-0.176859</td>\n",
       "      <td>-0.835847</td>\n",
       "      <td>-0.803273</td>\n",
       "      <td>0.081366</td>\n",
       "      <td>0.156376</td>\n",
       "      <td>1.000000</td>\n",
       "    </tr>\n",
       "  </tbody>\n",
       "</table>\n",
       "</div>"
      ],
      "text/plain": [
       "                            GII      Rank  Maternal_mortality  \\\n",
       "GII                    1.000000  0.996755            0.713515   \n",
       "Rank                   0.996755  1.000000            0.733578   \n",
       "Maternal_mortality     0.713515  0.733578            1.000000   \n",
       "Adolescent_birth_rate  0.806791  0.820780            0.752769   \n",
       "Seats_parliament      -0.424116 -0.419945           -0.162221   \n",
       "F_secondary_educ      -0.809278 -0.811686           -0.698014   \n",
       "M_secondary_educ      -0.782130 -0.781625           -0.642572   \n",
       "F_Labour_force        -0.070970 -0.050753            0.230511   \n",
       "M_Labour_force         0.158270  0.160078            0.106192   \n",
       "Human_development_int  0.861164  0.865994            0.748021   \n",
       "\n",
       "                       Adolescent_birth_rate  Seats_parliament  \\\n",
       "GII                                 0.806791         -0.424116   \n",
       "Rank                                0.820780         -0.419945   \n",
       "Maternal_mortality                  0.752769         -0.162221   \n",
       "Adolescent_birth_rate               1.000000         -0.094736   \n",
       "Seats_parliament                   -0.094736          1.000000   \n",
       "F_secondary_educ                   -0.728725          0.169483   \n",
       "M_secondary_educ                   -0.691760          0.168823   \n",
       "F_Labour_force                      0.260471          0.279015   \n",
       "M_Labour_force                      0.263851          0.059662   \n",
       "Human_development_int               0.798041         -0.176859   \n",
       "\n",
       "                       F_secondary_educ  M_secondary_educ  F_Labour_force  \\\n",
       "GII                           -0.809278         -0.782130       -0.070970   \n",
       "Rank                          -0.811686         -0.781625       -0.050753   \n",
       "Maternal_mortality            -0.698014         -0.642572        0.230511   \n",
       "Adolescent_birth_rate         -0.728725         -0.691760        0.260471   \n",
       "Seats_parliament               0.169483          0.168823        0.279015   \n",
       "F_secondary_educ               1.000000          0.972921       -0.098711   \n",
       "M_secondary_educ               0.972921          1.000000       -0.083176   \n",
       "F_Labour_force                -0.098711         -0.083176        1.000000   \n",
       "M_Labour_force                -0.269952         -0.283553        0.426839   \n",
       "Human_development_int         -0.835847         -0.803273        0.081366   \n",
       "\n",
       "                       M_Labour_force  Human_development_int  \n",
       "GII                          0.158270               0.861164  \n",
       "Rank                         0.160078               0.865994  \n",
       "Maternal_mortality           0.106192               0.748021  \n",
       "Adolescent_birth_rate        0.263851               0.798041  \n",
       "Seats_parliament             0.059662              -0.176859  \n",
       "F_secondary_educ            -0.269952              -0.835847  \n",
       "M_secondary_educ            -0.283553              -0.803273  \n",
       "F_Labour_force               0.426839               0.081366  \n",
       "M_Labour_force               1.000000               0.156376  \n",
       "Human_development_int        0.156376               1.000000  "
      ]
     },
     "execution_count": 13,
     "metadata": {},
     "output_type": "execute_result"
    }
   ],
   "source": [
    "df_cor = df.corr()\n",
    "df_cor"
   ]
  },
  {
   "cell_type": "code",
   "execution_count": null,
   "metadata": {
    "cell_id": "e136cc093f484b3ca38e806c673ed99d",
    "deepnote_cell_type": "code",
    "deepnote_to_be_reexecuted": false,
    "execution_millis": 255,
    "execution_start": 1702538924829,
    "source_hash": null
   },
   "outputs": [
    {
     "data": {
      "text/html": [
       "\n",
       "<div id=\"altair-viz-0ddb96c9b0ce439fb048ec5b2a8beee7\"></div>\n",
       "<script type=\"text/javascript\">\n",
       "  var VEGA_DEBUG = (typeof VEGA_DEBUG == \"undefined\") ? {} : VEGA_DEBUG;\n",
       "  (function(spec, embedOpt){\n",
       "    let outputDiv = document.currentScript.previousElementSibling;\n",
       "    if (outputDiv.id !== \"altair-viz-0ddb96c9b0ce439fb048ec5b2a8beee7\") {\n",
       "      outputDiv = document.getElementById(\"altair-viz-0ddb96c9b0ce439fb048ec5b2a8beee7\");\n",
       "    }\n",
       "    const paths = {\n",
       "      \"vega\": \"https://cdn.jsdelivr.net/npm//vega@5?noext\",\n",
       "      \"vega-lib\": \"https://cdn.jsdelivr.net/npm//vega-lib?noext\",\n",
       "      \"vega-lite\": \"https://cdn.jsdelivr.net/npm//vega-lite@4.17.0?noext\",\n",
       "      \"vega-embed\": \"https://cdn.jsdelivr.net/npm//vega-embed@6?noext\",\n",
       "    };\n",
       "\n",
       "    function maybeLoadScript(lib, version) {\n",
       "      var key = `${lib.replace(\"-\", \"\")}_version`;\n",
       "      return (VEGA_DEBUG[key] == version) ?\n",
       "        Promise.resolve(paths[lib]) :\n",
       "        new Promise(function(resolve, reject) {\n",
       "          var s = document.createElement('script');\n",
       "          document.getElementsByTagName(\"head\")[0].appendChild(s);\n",
       "          s.async = true;\n",
       "          s.onload = () => {\n",
       "            VEGA_DEBUG[key] = version;\n",
       "            return resolve(paths[lib]);\n",
       "          };\n",
       "          s.onerror = () => reject(`Error loading script: ${paths[lib]}`);\n",
       "          s.src = paths[lib];\n",
       "        });\n",
       "    }\n",
       "\n",
       "    function showError(err) {\n",
       "      outputDiv.innerHTML = `<div class=\"error\" style=\"color:red;\">${err}</div>`;\n",
       "      throw err;\n",
       "    }\n",
       "\n",
       "    function displayChart(vegaEmbed) {\n",
       "      vegaEmbed(outputDiv, spec, embedOpt)\n",
       "        .catch(err => showError(`Javascript Error: ${err.message}<br>This usually means there's a typo in your chart specification. See the javascript console for the full traceback.`));\n",
       "    }\n",
       "\n",
       "    if(typeof define === \"function\" && define.amd) {\n",
       "      requirejs.config({paths});\n",
       "      require([\"vega-embed\"], displayChart, err => showError(`Error loading script: ${err.message}`));\n",
       "    } else {\n",
       "      maybeLoadScript(\"vega\", \"5\")\n",
       "        .then(() => maybeLoadScript(\"vega-lite\", \"4.17.0\"))\n",
       "        .then(() => maybeLoadScript(\"vega-embed\", \"6\"))\n",
       "        .catch(showError)\n",
       "        .then(() => displayChart(vegaEmbed));\n",
       "    }\n",
       "  })({\"config\": {\"view\": {\"continuousWidth\": 400, \"continuousHeight\": 300}}, \"hconcat\": [{\"mark\": \"circle\", \"encoding\": {\"color\": {\"field\": \"Human_development_int\", \"type\": \"nominal\"}, \"tooltip\": [{\"field\": \"Country\", \"type\": \"nominal\"}, {\"field\": \"GII\", \"type\": \"quantitative\"}, {\"field\": \"Maternal_mortality\", \"type\": \"quantitative\"}], \"x\": {\"field\": \"Maternal_mortality\", \"title\": \"Maternal_mortality\", \"type\": \"quantitative\"}, \"y\": {\"field\": \"GII\", \"type\": \"quantitative\"}}, \"title\": \"Maternal_mortality vs GII by Country\"}, {\"mark\": \"circle\", \"encoding\": {\"color\": {\"field\": \"Human_development_int\", \"type\": \"nominal\"}, \"tooltip\": [{\"field\": \"Country\", \"type\": \"nominal\"}, {\"field\": \"GII\", \"type\": \"quantitative\"}, {\"field\": \"Adolescent_birth_rate\", \"type\": \"quantitative\"}], \"x\": {\"field\": \"Adolescent_birth_rate\", \"title\": \"Adolescent_birth_rate\", \"type\": \"quantitative\"}, \"y\": {\"field\": \"GII\", \"type\": \"quantitative\"}}, \"title\": \"Adolescent_birth_rate vs GII by Country\"}, {\"mark\": \"circle\", \"encoding\": {\"color\": {\"field\": \"Human_development_int\", \"type\": \"nominal\"}, \"tooltip\": [{\"field\": \"Country\", \"type\": \"nominal\"}, {\"field\": \"GII\", \"type\": \"quantitative\"}, {\"field\": \"Seats_parliament\", \"type\": \"quantitative\"}], \"x\": {\"field\": \"Seats_parliament\", \"title\": \"Seats_parliament\", \"type\": \"quantitative\"}, \"y\": {\"field\": \"GII\", \"type\": \"quantitative\"}}, \"title\": \"Seats_parliament vs GII by Country\"}, {\"mark\": \"circle\", \"encoding\": {\"color\": {\"field\": \"Human_development_int\", \"type\": \"nominal\"}, \"tooltip\": [{\"field\": \"Country\", \"type\": \"nominal\"}, {\"field\": \"GII\", \"type\": \"quantitative\"}, {\"field\": \"F_secondary_educ\", \"type\": \"quantitative\"}], \"x\": {\"field\": \"F_secondary_educ\", \"title\": \"F_secondary_educ\", \"type\": \"quantitative\"}, \"y\": {\"field\": \"GII\", \"type\": \"quantitative\"}}, \"title\": \"F_secondary_educ vs GII by Country\"}, {\"mark\": \"circle\", \"encoding\": {\"color\": {\"field\": \"Human_development_int\", \"type\": \"nominal\"}, \"tooltip\": [{\"field\": \"Country\", \"type\": \"nominal\"}, {\"field\": \"GII\", \"type\": \"quantitative\"}, {\"field\": \"M_secondary_educ\", \"type\": \"quantitative\"}], \"x\": {\"field\": \"M_secondary_educ\", \"title\": \"M_secondary_educ\", \"type\": \"quantitative\"}, \"y\": {\"field\": \"GII\", \"type\": \"quantitative\"}}, \"title\": \"M_secondary_educ vs GII by Country\"}, {\"mark\": \"circle\", \"encoding\": {\"color\": {\"field\": \"Human_development_int\", \"type\": \"nominal\"}, \"tooltip\": [{\"field\": \"Country\", \"type\": \"nominal\"}, {\"field\": \"GII\", \"type\": \"quantitative\"}, {\"field\": \"F_Labour_force\", \"type\": \"quantitative\"}], \"x\": {\"field\": \"F_Labour_force\", \"title\": \"F_Labour_force\", \"type\": \"quantitative\"}, \"y\": {\"field\": \"GII\", \"type\": \"quantitative\"}}, \"title\": \"F_Labour_force vs GII by Country\"}, {\"mark\": \"circle\", \"encoding\": {\"color\": {\"field\": \"Human_development_int\", \"type\": \"nominal\"}, \"tooltip\": [{\"field\": \"Country\", \"type\": \"nominal\"}, {\"field\": \"GII\", \"type\": \"quantitative\"}, {\"field\": \"M_Labour_force\", \"type\": \"quantitative\"}], \"x\": {\"field\": \"M_Labour_force\", \"title\": \"M_Labour_force\", \"type\": \"quantitative\"}, \"y\": {\"field\": \"GII\", \"type\": \"quantitative\"}}, \"title\": \"M_Labour_force vs GII by Country\"}, {\"mark\": \"circle\", \"encoding\": {\"color\": {\"field\": \"Human_development_int\", \"type\": \"nominal\"}, \"tooltip\": [{\"field\": \"Country\", \"type\": \"nominal\"}, {\"field\": \"GII\", \"type\": \"quantitative\"}, {\"field\": \"Human_development_int\", \"type\": \"quantitative\"}], \"x\": {\"field\": \"Human_development_int\", \"title\": \"Human_development_int\", \"type\": \"quantitative\"}, \"y\": {\"field\": \"GII\", \"type\": \"quantitative\"}}, \"title\": \"Human_development_int vs GII by Country\"}], \"data\": {\"name\": \"data-0b4bbad8699543e58eadf1758584dc9a\"}, \"$schema\": \"https://vega.github.io/schema/vega-lite/v4.17.0.json\", \"datasets\": {\"data-0b4bbad8699543e58eadf1758584dc9a\": [{\"Country\": \"Switzerland\", \"Human_development\": \"Very high\", \"GII\": 0.018, \"Rank\": 3.0, \"Maternal_mortality\": 5.0, \"Adolescent_birth_rate\": 2.2, \"Seats_parliament\": 39.8, \"F_secondary_educ\": 96.9, \"M_secondary_educ\": 97.5, \"F_Labour_force\": 61.7, \"M_Labour_force\": 72.7, \"Human_development_int\": 1}, {\"Country\": \"Norway\", \"Human_development\": \"Very high\", \"GII\": 0.016, \"Rank\": 2.0, \"Maternal_mortality\": 2.0, \"Adolescent_birth_rate\": 2.3, \"Seats_parliament\": 45.0, \"F_secondary_educ\": 99.1, \"M_secondary_educ\": 99.3, \"F_Labour_force\": 60.3, \"M_Labour_force\": 72.0, \"Human_development_int\": 1}, {\"Country\": \"Iceland\", \"Human_development\": \"Very high\", \"GII\": 0.043, \"Rank\": 8.0, \"Maternal_mortality\": 4.0, \"Adolescent_birth_rate\": 5.4, \"Seats_parliament\": 47.6, \"F_secondary_educ\": 99.8, \"M_secondary_educ\": 99.7, \"F_Labour_force\": 61.7, \"M_Labour_force\": 70.5, \"Human_development_int\": 1}, {\"Country\": \"Australia\", \"Human_development\": \"Very high\", \"GII\": 0.073, \"Rank\": 19.0, \"Maternal_mortality\": 6.0, \"Adolescent_birth_rate\": 8.1, \"Seats_parliament\": 37.9, \"F_secondary_educ\": 94.6, \"M_secondary_educ\": 94.4, \"F_Labour_force\": 61.1, \"M_Labour_force\": 70.5, \"Human_development_int\": 1}, {\"Country\": \"Denmark\", \"Human_development\": \"Very high\", \"GII\": 0.013, \"Rank\": 1.0, \"Maternal_mortality\": 4.0, \"Adolescent_birth_rate\": 1.9, \"Seats_parliament\": 39.7, \"F_secondary_educ\": 95.1, \"M_secondary_educ\": 95.2, \"F_Labour_force\": 57.7, \"M_Labour_force\": 66.7, \"Human_development_int\": 1}, {\"Country\": \"Sweden\", \"Human_development\": \"Very high\", \"GII\": 0.023, \"Rank\": 4.0, \"Maternal_mortality\": 4.0, \"Adolescent_birth_rate\": 3.3, \"Seats_parliament\": 47.0, \"F_secondary_educ\": 91.8, \"M_secondary_educ\": 92.2, \"F_Labour_force\": 61.7, \"M_Labour_force\": 68.0, \"Human_development_int\": 1}, {\"Country\": \"Ireland\", \"Human_development\": \"Very high\", \"GII\": 0.074, \"Rank\": 21.0, \"Maternal_mortality\": 5.0, \"Adolescent_birth_rate\": 5.9, \"Seats_parliament\": 27.3, \"F_secondary_educ\": 88.1, \"M_secondary_educ\": 86.0, \"F_Labour_force\": 56.5, \"M_Labour_force\": 68.6, \"Human_development_int\": 1}, {\"Country\": \"Germany\", \"Human_development\": \"Very high\", \"GII\": 0.073, \"Rank\": 19.0, \"Maternal_mortality\": 7.0, \"Adolescent_birth_rate\": 7.5, \"Seats_parliament\": 34.8, \"F_secondary_educ\": 96.1, \"M_secondary_educ\": 96.5, \"F_Labour_force\": 56.8, \"M_Labour_force\": 66.0, \"Human_development_int\": 1}, {\"Country\": \"Netherlands\", \"Human_development\": \"Very high\", \"GII\": 0.025, \"Rank\": 5.0, \"Maternal_mortality\": 5.0, \"Adolescent_birth_rate\": 2.8, \"Seats_parliament\": 39.1, \"F_secondary_educ\": 89.8, \"M_secondary_educ\": 92.7, \"F_Labour_force\": 62.4, \"M_Labour_force\": 71.3, \"Human_development_int\": 1}, {\"Country\": \"Finland\", \"Human_development\": \"Very high\", \"GII\": 0.033, \"Rank\": 6.0, \"Maternal_mortality\": 3.0, \"Adolescent_birth_rate\": 4.2, \"Seats_parliament\": 46.0, \"F_secondary_educ\": 99.0, \"M_secondary_educ\": 98.5, \"F_Labour_force\": 56.5, \"M_Labour_force\": 64.0, \"Human_development_int\": 1}, {\"Country\": \"Singapore\", \"Human_development\": \"Very high\", \"GII\": 0.04, \"Rank\": 7.0, \"Maternal_mortality\": 8.0, \"Adolescent_birth_rate\": 2.6, \"Seats_parliament\": 29.8, \"F_secondary_educ\": 80.5, \"M_secondary_educ\": 85.9, \"F_Labour_force\": 59.4, \"M_Labour_force\": 76.8, \"Human_development_int\": 1}, {\"Country\": \"Belgium\", \"Human_development\": \"Very high\", \"GII\": 0.048, \"Rank\": 10.0, \"Maternal_mortality\": 5.0, \"Adolescent_birth_rate\": 5.3, \"Seats_parliament\": 42.9, \"F_secondary_educ\": 87.2, \"M_secondary_educ\": 89.7, \"F_Labour_force\": 49.8, \"M_Labour_force\": 58.8, \"Human_development_int\": 1}, {\"Country\": \"New Zealand\", \"Human_development\": \"Very high\", \"GII\": 0.088, \"Rank\": 25.0, \"Maternal_mortality\": 9.0, \"Adolescent_birth_rate\": 12.6, \"Seats_parliament\": 49.2, \"F_secondary_educ\": 82.0, \"M_secondary_educ\": 81.8, \"F_Labour_force\": 65.1, \"M_Labour_force\": 75.3, \"Human_development_int\": 1}, {\"Country\": \"Canada\", \"Human_development\": \"Very high\", \"GII\": 0.069, \"Rank\": 17.0, \"Maternal_mortality\": 10.0, \"Adolescent_birth_rate\": 7.0, \"Seats_parliament\": 34.4, \"F_secondary_educ\": 100.0, \"M_secondary_educ\": 100.0, \"F_Labour_force\": 60.8, \"M_Labour_force\": 69.7, \"Human_development_int\": 1}, {\"Country\": \"Luxembourg\", \"Human_development\": \"Very high\", \"GII\": 0.044, \"Rank\": 9.0, \"Maternal_mortality\": 5.0, \"Adolescent_birth_rate\": 4.3, \"Seats_parliament\": 35.0, \"F_secondary_educ\": 100.0, \"M_secondary_educ\": 100.0, \"F_Labour_force\": 58.5, \"M_Labour_force\": 65.5, \"Human_development_int\": 1}, {\"Country\": \"United Kingdom\", \"Human_development\": \"Very high\", \"GII\": 0.098, \"Rank\": 27.0, \"Maternal_mortality\": 7.0, \"Adolescent_birth_rate\": 10.5, \"Seats_parliament\": 31.1, \"F_secondary_educ\": 99.8, \"M_secondary_educ\": 99.8, \"F_Labour_force\": 58.0, \"M_Labour_force\": 67.1, \"Human_development_int\": 1}, {\"Country\": \"Japan\", \"Human_development\": \"Very high\", \"GII\": 0.083, \"Rank\": 22.0, \"Maternal_mortality\": 5.0, \"Adolescent_birth_rate\": 2.9, \"Seats_parliament\": 14.2, \"F_secondary_educ\": 95.9, \"M_secondary_educ\": 92.7, \"F_Labour_force\": 53.3, \"M_Labour_force\": 71.0, \"Human_development_int\": 1}, {\"Country\": \"South Korea\", \"Human_development\": \"Very high\", \"GII\": 0.067, \"Rank\": 15.0, \"Maternal_mortality\": 11.0, \"Adolescent_birth_rate\": 2.2, \"Seats_parliament\": 19.0, \"F_secondary_educ\": 83.1, \"M_secondary_educ\": 93.1, \"F_Labour_force\": 53.4, \"M_Labour_force\": 72.4, \"Human_development_int\": 1}, {\"Country\": \"United States\", \"Human_development\": \"Very high\", \"GII\": 0.179, \"Rank\": 44.0, \"Maternal_mortality\": 19.0, \"Adolescent_birth_rate\": 16.0, \"Seats_parliament\": 27.0, \"F_secondary_educ\": 96.5, \"M_secondary_educ\": 96.4, \"F_Labour_force\": 55.2, \"M_Labour_force\": 66.4, \"Human_development_int\": 1}, {\"Country\": \"Israel\", \"Human_development\": \"Very high\", \"GII\": 0.083, \"Rank\": 22.0, \"Maternal_mortality\": 3.0, \"Adolescent_birth_rate\": 7.6, \"Seats_parliament\": 28.3, \"F_secondary_educ\": 91.6, \"M_secondary_educ\": 93.7, \"F_Labour_force\": 58.5, \"M_Labour_force\": 66.1, \"Human_development_int\": 1}, {\"Country\": \"Malta\", \"Human_development\": \"Very high\", \"GII\": 0.167, \"Rank\": 42.0, \"Maternal_mortality\": 6.0, \"Adolescent_birth_rate\": 11.5, \"Seats_parliament\": 13.4, \"F_secondary_educ\": 82.2, \"M_secondary_educ\": 88.1, \"F_Labour_force\": 53.1, \"M_Labour_force\": 71.4, \"Human_development_int\": 1}, {\"Country\": \"Slovenia\", \"Human_development\": \"Very high\", \"GII\": 0.071, \"Rank\": 18.0, \"Maternal_mortality\": 7.0, \"Adolescent_birth_rate\": 4.5, \"Seats_parliament\": 21.5, \"F_secondary_educ\": 97.6, \"M_secondary_educ\": 98.7, \"F_Labour_force\": 53.8, \"M_Labour_force\": 62.2, \"Human_development_int\": 1}, {\"Country\": \"Austria\", \"Human_development\": \"Very high\", \"GII\": 0.053, \"Rank\": 12.0, \"Maternal_mortality\": 5.0, \"Adolescent_birth_rate\": 5.5, \"Seats_parliament\": 39.3, \"F_secondary_educ\": 100.0, \"M_secondary_educ\": 100.0, \"F_Labour_force\": 55.5, \"M_Labour_force\": 66.3, \"Human_development_int\": 1}, {\"Country\": \"United Arab Emirates\", \"Human_development\": \"Very high\", \"GII\": 0.049, \"Rank\": 11.0, \"Maternal_mortality\": 3.0, \"Adolescent_birth_rate\": 3.1, \"Seats_parliament\": 50.0, \"F_secondary_educ\": 82.0, \"M_secondary_educ\": 85.6, \"F_Labour_force\": 46.5, \"M_Labour_force\": 88.0, \"Human_development_int\": 1}, {\"Country\": \"Spain\", \"Human_development\": \"Very high\", \"GII\": 0.057, \"Rank\": 14.0, \"Maternal_mortality\": 4.0, \"Adolescent_birth_rate\": 6.3, \"Seats_parliament\": 42.3, \"F_secondary_educ\": 78.5, \"M_secondary_educ\": 83.2, \"F_Labour_force\": 52.7, \"M_Labour_force\": 62.4, \"Human_development_int\": 1}, {\"Country\": \"France\", \"Human_development\": \"Very high\", \"GII\": 0.083, \"Rank\": 22.0, \"Maternal_mortality\": 8.0, \"Adolescent_birth_rate\": 9.5, \"Seats_parliament\": 37.8, \"F_secondary_educ\": 83.5, \"M_secondary_educ\": 87.9, \"F_Labour_force\": 51.9, \"M_Labour_force\": 59.7, \"Human_development_int\": 1}, {\"Country\": \"Cyprus\", \"Human_development\": \"Very high\", \"GII\": 0.123, \"Rank\": 35.0, \"Maternal_mortality\": 6.0, \"Adolescent_birth_rate\": 6.8, \"Seats_parliament\": 14.3, \"F_secondary_educ\": 81.1, \"M_secondary_educ\": 84.8, \"F_Labour_force\": 56.6, \"M_Labour_force\": 68.8, \"Human_development_int\": 1}, {\"Country\": \"Italy\", \"Human_development\": \"Very high\", \"GII\": 0.056, \"Rank\": 13.0, \"Maternal_mortality\": 2.0, \"Adolescent_birth_rate\": 4.0, \"Seats_parliament\": 35.3, \"F_secondary_educ\": 78.6, \"M_secondary_educ\": 86.1, \"F_Labour_force\": 39.9, \"M_Labour_force\": 57.6, \"Human_development_int\": 1}, {\"Country\": \"Estonia\", \"Human_development\": \"Very high\", \"GII\": 0.1, \"Rank\": 28.0, \"Maternal_mortality\": 9.0, \"Adolescent_birth_rate\": 8.8, \"Seats_parliament\": 25.7, \"F_secondary_educ\": 97.6, \"M_secondary_educ\": 98.1, \"F_Labour_force\": 57.5, \"M_Labour_force\": 70.2, \"Human_development_int\": 1}, {\"Country\": \"Czechia\", \"Human_development\": \"Very high\", \"GII\": 0.12, \"Rank\": 34.0, \"Maternal_mortality\": 3.0, \"Adolescent_birth_rate\": 9.7, \"Seats_parliament\": 22.1, \"F_secondary_educ\": 99.8, \"M_secondary_educ\": 99.8, \"F_Labour_force\": 51.7, \"M_Labour_force\": 68.1, \"Human_development_int\": 1}, {\"Country\": \"Greece\", \"Human_development\": \"Very high\", \"GII\": 0.119, \"Rank\": 32.0, \"Maternal_mortality\": 3.0, \"Adolescent_birth_rate\": 8.5, \"Seats_parliament\": 21.7, \"F_secondary_educ\": 69.9, \"M_secondary_educ\": 77.8, \"F_Labour_force\": 43.3, \"M_Labour_force\": 58.1, \"Human_development_int\": 1}, {\"Country\": \"Poland\", \"Human_development\": \"Very high\", \"GII\": 0.109, \"Rank\": 31.0, \"Maternal_mortality\": 2.0, \"Adolescent_birth_rate\": 9.7, \"Seats_parliament\": 27.5, \"F_secondary_educ\": 86.5, \"M_secondary_educ\": 90.7, \"F_Labour_force\": 49.2, \"M_Labour_force\": 65.5, \"Human_development_int\": 1}, {\"Country\": \"Bahrain\", \"Human_development\": \"Very high\", \"GII\": 0.181, \"Rank\": 46.0, \"Maternal_mortality\": 14.0, \"Adolescent_birth_rate\": 8.7, \"Seats_parliament\": 18.8, \"F_secondary_educ\": 79.9, \"M_secondary_educ\": 83.1, \"F_Labour_force\": 42.4, \"M_Labour_force\": 83.5, \"Human_development_int\": 1}, {\"Country\": \"Lithuania\", \"Human_development\": \"Very high\", \"GII\": 0.105, \"Rank\": 30.0, \"Maternal_mortality\": 8.0, \"Adolescent_birth_rate\": 10.4, \"Seats_parliament\": 27.7, \"F_secondary_educ\": 95.5, \"M_secondary_educ\": 97.9, \"F_Labour_force\": 57.3, \"M_Labour_force\": 67.9, \"Human_development_int\": 1}, {\"Country\": \"Saudi Arabia\", \"Human_development\": \"Very high\", \"GII\": 0.247, \"Rank\": 59.0, \"Maternal_mortality\": 17.0, \"Adolescent_birth_rate\": 11.9, \"Seats_parliament\": 19.9, \"F_secondary_educ\": 71.3, \"M_secondary_educ\": 80.9, \"F_Labour_force\": 30.9, \"M_Labour_force\": 80.1, \"Human_development_int\": 1}, {\"Country\": \"Portugal\", \"Human_development\": \"Very high\", \"GII\": 0.067, \"Rank\": 15.0, \"Maternal_mortality\": 8.0, \"Adolescent_birth_rate\": 7.4, \"Seats_parliament\": 40.0, \"F_secondary_educ\": 59.7, \"M_secondary_educ\": 61.9, \"F_Labour_force\": 54.0, \"M_Labour_force\": 62.2, \"Human_development_int\": 1}, {\"Country\": \"Latvia\", \"Human_development\": \"Very high\", \"GII\": 0.151, \"Rank\": 40.0, \"Maternal_mortality\": 19.0, \"Adolescent_birth_rate\": 11.2, \"Seats_parliament\": 29.0, \"F_secondary_educ\": 99.7, \"M_secondary_educ\": 99.3, \"F_Labour_force\": 54.5, \"M_Labour_force\": 66.8, \"Human_development_int\": 1}, {\"Country\": \"Croatia\", \"Human_development\": \"Very high\", \"GII\": 0.093, \"Rank\": 26.0, \"Maternal_mortality\": 8.0, \"Adolescent_birth_rate\": 8.6, \"Seats_parliament\": 31.1, \"F_secondary_educ\": 97.0, \"M_secondary_educ\": 100.0, \"F_Labour_force\": 45.9, \"M_Labour_force\": 58.8, \"Human_development_int\": 1}, {\"Country\": \"Chile\", \"Human_development\": \"Very high\", \"GII\": 0.187, \"Rank\": 47.0, \"Maternal_mortality\": 13.0, \"Adolescent_birth_rate\": 24.1, \"Seats_parliament\": 32.7, \"F_secondary_educ\": 80.3, \"M_secondary_educ\": 83.5, \"F_Labour_force\": 44.2, \"M_Labour_force\": 65.5, \"Human_development_int\": 1}, {\"Country\": \"Qatar\", \"Human_development\": \"Very high\", \"GII\": 0.22, \"Rank\": 54.0, \"Maternal_mortality\": 9.0, \"Adolescent_birth_rate\": 7.1, \"Seats_parliament\": 4.4, \"F_secondary_educ\": 79.8, \"M_secondary_educ\": 69.6, \"F_Labour_force\": 57.2, \"M_Labour_force\": 95.5, \"Human_development_int\": 1}, {\"Country\": \"Slovakia\", \"Human_development\": \"Very high\", \"GII\": 0.18, \"Rank\": 45.0, \"Maternal_mortality\": 5.0, \"Adolescent_birth_rate\": 26.3, \"Seats_parliament\": 22.7, \"F_secondary_educ\": 98.9, \"M_secondary_educ\": 99.2, \"F_Labour_force\": 54.7, \"M_Labour_force\": 66.4, \"Human_development_int\": 1}, {\"Country\": \"Hungary\", \"Human_development\": \"Very high\", \"GII\": 0.221, \"Rank\": 55.0, \"Maternal_mortality\": 12.0, \"Adolescent_birth_rate\": 22.1, \"Seats_parliament\": 13.1, \"F_secondary_educ\": 97.6, \"M_secondary_educ\": 98.8, \"F_Labour_force\": 52.1, \"M_Labour_force\": 67.2, \"Human_development_int\": 1}, {\"Country\": \"Argentina\", \"Human_development\": \"Very high\", \"GII\": 0.287, \"Rank\": 69.0, \"Maternal_mortality\": 39.0, \"Adolescent_birth_rate\": 39.1, \"Seats_parliament\": 44.4, \"F_secondary_educ\": 71.0, \"M_secondary_educ\": 71.4, \"F_Labour_force\": 50.0, \"M_Labour_force\": 71.6, \"Human_development_int\": 1}, {\"Country\": \"T\\u00fcrkiye\", \"Human_development\": \"Very high\", \"GII\": 0.272, \"Rank\": 65.0, \"Maternal_mortality\": 17.0, \"Adolescent_birth_rate\": 16.9, \"Seats_parliament\": 17.3, \"F_secondary_educ\": 56.3, \"M_secondary_educ\": 75.9, \"F_Labour_force\": 31.8, \"M_Labour_force\": 69.4, \"Human_development_int\": 1}, {\"Country\": \"Montenegro\", \"Human_development\": \"Very high\", \"GII\": 0.119, \"Rank\": 32.0, \"Maternal_mortality\": 6.0, \"Adolescent_birth_rate\": 10.4, \"Seats_parliament\": 24.7, \"F_secondary_educ\": 92.3, \"M_secondary_educ\": 99.2, \"F_Labour_force\": 47.8, \"M_Labour_force\": 62.0, \"Human_development_int\": 1}, {\"Country\": \"Kuwait\", \"Human_development\": \"Very high\", \"GII\": 0.305, \"Rank\": 74.0, \"Maternal_mortality\": 12.0, \"Adolescent_birth_rate\": 5.6, \"Seats_parliament\": 1.5, \"F_secondary_educ\": 60.9, \"M_secondary_educ\": 55.2, \"F_Labour_force\": 47.4, \"M_Labour_force\": 83.8, \"Human_development_int\": 1}, {\"Country\": \"Brunei Darussalam\", \"Human_development\": \"Very high\", \"GII\": 0.259, \"Rank\": 61.0, \"Maternal_mortality\": 31.0, \"Adolescent_birth_rate\": 10.0, \"Seats_parliament\": 9.1, \"F_secondary_educ\": 70.4, \"M_secondary_educ\": 71.2, \"F_Labour_force\": 54.1, \"M_Labour_force\": 72.3, \"Human_development_int\": 1}, {\"Country\": \"Russian Federation\", \"Human_development\": \"Very high\", \"GII\": 0.203, \"Rank\": 50.0, \"Maternal_mortality\": 17.0, \"Adolescent_birth_rate\": 15.0, \"Seats_parliament\": 16.5, \"F_secondary_educ\": 92.8, \"M_secondary_educ\": 95.9, \"F_Labour_force\": 54.5, \"M_Labour_force\": 69.7, \"Human_development_int\": 1}, {\"Country\": \"Romania\", \"Human_development\": \"Very high\", \"GII\": 0.282, \"Rank\": 67.0, \"Maternal_mortality\": 19.0, \"Adolescent_birth_rate\": 36.4, \"Seats_parliament\": 18.5, \"F_secondary_educ\": 88.8, \"M_secondary_educ\": 93.7, \"F_Labour_force\": 42.8, \"M_Labour_force\": 62.3, \"Human_development_int\": 1}, {\"Country\": \"Oman\", \"Human_development\": \"Very high\", \"GII\": 0.3, \"Rank\": 72.0, \"Maternal_mortality\": 19.0, \"Adolescent_birth_rate\": 9.9, \"Seats_parliament\": 9.9, \"F_secondary_educ\": 96.6, \"M_secondary_educ\": 99.9, \"F_Labour_force\": 28.7, \"M_Labour_force\": 85.0, \"Human_development_int\": 1}, {\"Country\": \"Bahamas\", \"Human_development\": \"Very high\", \"GII\": 0.329, \"Rank\": 78.0, \"Maternal_mortality\": 70.0, \"Adolescent_birth_rate\": 25.7, \"Seats_parliament\": 20.0, \"F_secondary_educ\": 87.0, \"M_secondary_educ\": 89.9, \"F_Labour_force\": 65.6, \"M_Labour_force\": 71.5, \"Human_development_int\": 1}, {\"Country\": \"Kazakhstan\", \"Human_development\": \"Very high\", \"GII\": 0.161, \"Rank\": 41.0, \"Maternal_mortality\": 10.0, \"Adolescent_birth_rate\": 21.9, \"Seats_parliament\": 24.5, \"F_secondary_educ\": 99.8, \"M_secondary_educ\": 100.0, \"F_Labour_force\": 63.3, \"M_Labour_force\": 75.5, \"Human_development_int\": 1}, {\"Country\": \"Trinidad and Tobago\", \"Human_development\": \"Very high\", \"GII\": 0.344, \"Rank\": 81.0, \"Maternal_mortality\": 67.0, \"Adolescent_birth_rate\": 38.1, \"Seats_parliament\": 32.4, \"F_secondary_educ\": 84.8, \"M_secondary_educ\": 80.6, \"F_Labour_force\": 46.7, \"M_Labour_force\": 68.0, \"Human_development_int\": 1}, {\"Country\": \"Costa Rica\", \"Human_development\": \"Very high\", \"GII\": 0.256, \"Rank\": 60.0, \"Maternal_mortality\": 27.0, \"Adolescent_birth_rate\": 37.1, \"Seats_parliament\": 45.6, \"F_secondary_educ\": 56.2, \"M_secondary_educ\": 54.5, \"F_Labour_force\": 47.5, \"M_Labour_force\": 71.1, \"Human_development_int\": 1}, {\"Country\": \"Uruguay\", \"Human_development\": \"Very high\", \"GII\": 0.235, \"Rank\": 58.0, \"Maternal_mortality\": 17.0, \"Adolescent_birth_rate\": 36.2, \"Seats_parliament\": 26.2, \"F_secondary_educ\": 59.6, \"M_secondary_educ\": 55.5, \"F_Labour_force\": 54.8, \"M_Labour_force\": 69.3, \"Human_development_int\": 1}, {\"Country\": \"Belarus\", \"Human_development\": \"Very high\", \"GII\": 0.104, \"Rank\": 29.0, \"Maternal_mortality\": 2.0, \"Adolescent_birth_rate\": 11.9, \"Seats_parliament\": 34.7, \"F_secondary_educ\": 97.5, \"M_secondary_educ\": 99.0, \"F_Labour_force\": 57.3, \"M_Labour_force\": 71.4, \"Human_development_int\": 1}, {\"Country\": \"Panama\", \"Human_development\": \"Very high\", \"GII\": 0.392, \"Rank\": 96.0, \"Maternal_mortality\": 52.0, \"Adolescent_birth_rate\": 69.9, \"Seats_parliament\": 22.5, \"F_secondary_educ\": 70.2, \"M_secondary_educ\": 68.7, \"F_Labour_force\": 50.4, \"M_Labour_force\": 72.6, \"Human_development_int\": 1}, {\"Country\": \"Malaysia\", \"Human_development\": \"Very high\", \"GII\": 0.228, \"Rank\": 57.0, \"Maternal_mortality\": 29.0, \"Adolescent_birth_rate\": 9.3, \"Seats_parliament\": 14.9, \"F_secondary_educ\": 75.0, \"M_secondary_educ\": 78.4, \"F_Labour_force\": 51.2, \"M_Labour_force\": 77.6, \"Human_development_int\": 1}, {\"Country\": \"Georgia\", \"Human_development\": \"Very high\", \"GII\": 0.28, \"Rank\": 66.0, \"Maternal_mortality\": 25.0, \"Adolescent_birth_rate\": 31.7, \"Seats_parliament\": 19.3, \"F_secondary_educ\": 97.1, \"M_secondary_educ\": 98.3, \"F_Labour_force\": 51.0, \"M_Labour_force\": 68.0, \"Human_development_int\": 1}, {\"Country\": \"Mauritius\", \"Human_development\": \"Very high\", \"GII\": 0.347, \"Rank\": 82.0, \"Maternal_mortality\": 61.0, \"Adolescent_birth_rate\": 24.6, \"Seats_parliament\": 20.0, \"F_secondary_educ\": 64.4, \"M_secondary_educ\": 70.8, \"F_Labour_force\": 43.4, \"M_Labour_force\": 70.4, \"Human_development_int\": 1}, {\"Country\": \"Serbia\", \"Human_development\": \"Very high\", \"GII\": 0.131, \"Rank\": 36.0, \"Maternal_mortality\": 12.0, \"Adolescent_birth_rate\": 14.9, \"Seats_parliament\": 39.2, \"F_secondary_educ\": 88.6, \"M_secondary_educ\": 95.3, \"F_Labour_force\": 46.6, \"M_Labour_force\": 62.3, \"Human_development_int\": 1}, {\"Country\": \"Thailand\", \"Human_development\": \"Very high\", \"GII\": 0.333, \"Rank\": 79.0, \"Maternal_mortality\": 37.0, \"Adolescent_birth_rate\": 32.7, \"Seats_parliament\": 13.9, \"F_secondary_educ\": 47.6, \"M_secondary_educ\": 51.7, \"F_Labour_force\": 59.0, \"M_Labour_force\": 75.0, \"Human_development_int\": 1}, {\"Country\": \"Albania\", \"Human_development\": \"High\", \"GII\": 0.144, \"Rank\": 39.0, \"Maternal_mortality\": 15.0, \"Adolescent_birth_rate\": 14.5, \"Seats_parliament\": 35.7, \"F_secondary_educ\": 95.4, \"M_secondary_educ\": 93.0, \"F_Labour_force\": 50.7, \"M_Labour_force\": 66.2, \"Human_development_int\": 2}, {\"Country\": \"Bulgaria\", \"Human_development\": \"High\", \"GII\": 0.21, \"Rank\": 52.0, \"Maternal_mortality\": 10.0, \"Adolescent_birth_rate\": 38.6, \"Seats_parliament\": 23.8, \"F_secondary_educ\": 94.9, \"M_secondary_educ\": 96.5, \"F_Labour_force\": 49.1, \"M_Labour_force\": 62.6, \"Human_development_int\": 2}, {\"Country\": \"Barbados\", \"Human_development\": \"High\", \"GII\": 0.268, \"Rank\": 64.0, \"Maternal_mortality\": 27.0, \"Adolescent_birth_rate\": 42.3, \"Seats_parliament\": 29.4, \"F_secondary_educ\": 95.4, \"M_secondary_educ\": 86.0, \"F_Labour_force\": 56.1, \"M_Labour_force\": 63.7, \"Human_development_int\": 2}, {\"Country\": \"Sri Lanka\", \"Human_development\": \"High\", \"GII\": 0.383, \"Rank\": 92.0, \"Maternal_mortality\": 36.0, \"Adolescent_birth_rate\": 15.7, \"Seats_parliament\": 5.4, \"F_secondary_educ\": 84.0, \"M_secondary_educ\": 84.2, \"F_Labour_force\": 30.9, \"M_Labour_force\": 68.5, \"Human_development_int\": 2}, {\"Country\": \"Bosnia and Herzegovina\", \"Human_development\": \"High\", \"GII\": 0.136, \"Rank\": 38.0, \"Maternal_mortality\": 10.0, \"Adolescent_birth_rate\": 9.9, \"Seats_parliament\": 24.6, \"F_secondary_educ\": 82.7, \"M_secondary_educ\": 94.0, \"F_Labour_force\": 32.3, \"M_Labour_force\": 52.4, \"Human_development_int\": 2}, {\"Country\": \"Iran\", \"Human_development\": \"High\", \"GII\": 0.459, \"Rank\": 115.0, \"Maternal_mortality\": 16.0, \"Adolescent_birth_rate\": 30.2, \"Seats_parliament\": 5.6, \"F_secondary_educ\": 71.6, \"M_secondary_educ\": 76.0, \"F_Labour_force\": 14.4, \"M_Labour_force\": 68.1, \"Human_development_int\": 2}, {\"Country\": \"Ukraine\", \"Human_development\": \"High\", \"GII\": 0.2, \"Rank\": 49.0, \"Maternal_mortality\": 19.0, \"Adolescent_birth_rate\": 15.6, \"Seats_parliament\": 20.8, \"F_secondary_educ\": 96.2, \"M_secondary_educ\": 95.8, \"F_Labour_force\": 48.1, \"M_Labour_force\": 63.6, \"Human_development_int\": 2}, {\"Country\": \"North Macedonia\", \"Human_development\": \"High\", \"GII\": 0.134, \"Rank\": 37.0, \"Maternal_mortality\": 7.0, \"Adolescent_birth_rate\": 16.4, \"Seats_parliament\": 41.7, \"F_secondary_educ\": 61.9, \"M_secondary_educ\": 75.1, \"F_Labour_force\": 42.4, \"M_Labour_force\": 63.4, \"Human_development_int\": 2}, {\"Country\": \"China\", \"Human_development\": \"High\", \"GII\": 0.192, \"Rank\": 48.0, \"Maternal_mortality\": 29.0, \"Adolescent_birth_rate\": 11.0, \"Seats_parliament\": 24.9, \"F_secondary_educ\": 78.3, \"M_secondary_educ\": 85.4, \"F_Labour_force\": 61.6, \"M_Labour_force\": 74.3, \"Human_development_int\": 2}, {\"Country\": \"Dominican Republic\", \"Human_development\": \"High\", \"GII\": 0.429, \"Rank\": 106.0, \"Maternal_mortality\": 95.0, \"Adolescent_birth_rate\": 65.6, \"Seats_parliament\": 25.7, \"F_secondary_educ\": 77.4, \"M_secondary_educ\": 76.9, \"F_Labour_force\": 49.6, \"M_Labour_force\": 75.2, \"Human_development_int\": 2}, {\"Country\": \"Moldova\", \"Human_development\": \"High\", \"GII\": 0.205, \"Rank\": 51.0, \"Maternal_mortality\": 19.0, \"Adolescent_birth_rate\": 27.8, \"Seats_parliament\": 39.6, \"F_secondary_educ\": 96.1, \"M_secondary_educ\": 98.0, \"F_Labour_force\": 33.9, \"M_Labour_force\": 43.9, \"Human_development_int\": 2}, {\"Country\": \"Cuba\", \"Human_development\": \"High\", \"GII\": 0.303, \"Rank\": 73.0, \"Maternal_mortality\": 36.0, \"Adolescent_birth_rate\": 48.8, \"Seats_parliament\": 53.4, \"F_secondary_educ\": 89.5, \"M_secondary_educ\": 91.9, \"F_Labour_force\": 40.3, \"M_Labour_force\": 68.5, \"Human_development_int\": 2}, {\"Country\": \"Peru\", \"Human_development\": \"High\", \"GII\": 0.38, \"Rank\": 90.0, \"Maternal_mortality\": 88.0, \"Adolescent_birth_rate\": 56.8, \"Seats_parliament\": 40.0, \"F_secondary_educ\": 59.3, \"M_secondary_educ\": 69.9, \"F_Labour_force\": 66.1, \"M_Labour_force\": 81.9, \"Human_development_int\": 2}, {\"Country\": \"Armenia\", \"Human_development\": \"High\", \"GII\": 0.216, \"Rank\": 53.0, \"Maternal_mortality\": 26.0, \"Adolescent_birth_rate\": 18.5, \"Seats_parliament\": 33.6, \"F_secondary_educ\": 96.0, \"M_secondary_educ\": 97.1, \"F_Labour_force\": 42.7, \"M_Labour_force\": 63.0, \"Human_development_int\": 2}, {\"Country\": \"Mexico\", \"Human_development\": \"High\", \"GII\": 0.309, \"Rank\": 75.0, \"Maternal_mortality\": 33.0, \"Adolescent_birth_rate\": 54.4, \"Seats_parliament\": 49.8, \"F_secondary_educ\": 65.1, \"M_secondary_educ\": 66.7, \"F_Labour_force\": 43.8, \"M_Labour_force\": 75.4, \"Human_development_int\": 2}, {\"Country\": \"Brazil\", \"Human_development\": \"High\", \"GII\": 0.39, \"Rank\": 94.0, \"Maternal_mortality\": 60.0, \"Adolescent_birth_rate\": 45.2, \"Seats_parliament\": 14.8, \"F_secondary_educ\": 62.4, \"M_secondary_educ\": 59.1, \"F_Labour_force\": 49.1, \"M_Labour_force\": 68.2, \"Human_development_int\": 2}, {\"Country\": \"Colombia\", \"Human_development\": \"High\", \"GII\": 0.424, \"Rank\": 102.0, \"Maternal_mortality\": 83.0, \"Adolescent_birth_rate\": 59.0, \"Seats_parliament\": 19.6, \"F_secondary_educ\": 58.9, \"M_secondary_educ\": 56.5, \"F_Labour_force\": 52.2, \"M_Labour_force\": 78.0, \"Human_development_int\": 2}, {\"Country\": \"Saint Vincent and the Grenadines\", \"Human_development\": \"High\", \"GII\": 0.39, \"Rank\": 94.0, \"Maternal_mortality\": 68.0, \"Adolescent_birth_rate\": 47.9, \"Seats_parliament\": 18.2, \"F_secondary_educ\": 44.1, \"M_secondary_educ\": 39.6, \"F_Labour_force\": 52.9, \"M_Labour_force\": 74.1, \"Human_development_int\": 2}, {\"Country\": \"Maldives\", \"Human_development\": \"High\", \"GII\": 0.348, \"Rank\": 83.0, \"Maternal_mortality\": 53.0, \"Adolescent_birth_rate\": 7.3, \"Seats_parliament\": 4.6, \"F_secondary_educ\": 46.4, \"M_secondary_educ\": 41.5, \"F_Labour_force\": 34.3, \"M_Labour_force\": 67.5, \"Human_development_int\": 2}, {\"Country\": \"Algeria\", \"Human_development\": \"High\", \"GII\": 0.499, \"Rank\": 126.0, \"Maternal_mortality\": 112.0, \"Adolescent_birth_rate\": 11.7, \"Seats_parliament\": 7.5, \"F_secondary_educ\": 46.0, \"M_secondary_educ\": 56.9, \"F_Labour_force\": 15.7, \"M_Labour_force\": 64.5, \"Human_development_int\": 2}, {\"Country\": \"Azerbaijan\", \"Human_development\": \"High\", \"GII\": 0.294, \"Rank\": 70.0, \"Maternal_mortality\": 26.0, \"Adolescent_birth_rate\": 40.1, \"Seats_parliament\": 18.2, \"F_secondary_educ\": 93.6, \"M_secondary_educ\": 97.6, \"F_Labour_force\": 60.4, \"M_Labour_force\": 67.3, \"Human_development_int\": 2}, {\"Country\": \"Tonga\", \"Human_development\": \"High\", \"GII\": 0.631, \"Rank\": 160.0, \"Maternal_mortality\": 52.0, \"Adolescent_birth_rate\": 19.0, \"Seats_parliament\": 0.0, \"F_secondary_educ\": 93.5, \"M_secondary_educ\": 93.1, \"F_Labour_force\": 37.3, \"M_Labour_force\": 55.3, \"Human_development_int\": 2}, {\"Country\": \"Turkmenistan\", \"Human_development\": \"High\", \"GII\": 0.177, \"Rank\": 43.0, \"Maternal_mortality\": 7.0, \"Adolescent_birth_rate\": 21.8, \"Seats_parliament\": 25.0, \"F_secondary_educ\": 93.5, \"M_secondary_educ\": 92.2, \"F_Labour_force\": 36.5, \"M_Labour_force\": 55.6, \"Human_development_int\": 2}, {\"Country\": \"Ecuador\", \"Human_development\": \"High\", \"GII\": 0.362, \"Rank\": 85.0, \"Maternal_mortality\": 59.0, \"Adolescent_birth_rate\": 63.2, \"Seats_parliament\": 39.4, \"F_secondary_educ\": 53.0, \"M_secondary_educ\": 52.0, \"F_Labour_force\": 53.3, \"M_Labour_force\": 76.5, \"Human_development_int\": 2}, {\"Country\": \"Mongolia\", \"Human_development\": \"High\", \"GII\": 0.313, \"Rank\": 76.0, \"Maternal_mortality\": 45.0, \"Adolescent_birth_rate\": 26.7, \"Seats_parliament\": 17.1, \"F_secondary_educ\": 79.3, \"M_secondary_educ\": 73.0, \"F_Labour_force\": 51.5, \"M_Labour_force\": 66.6, \"Human_development_int\": 2}, {\"Country\": \"Egypt\", \"Human_development\": \"High\", \"GII\": 0.443, \"Rank\": 109.0, \"Maternal_mortality\": 37.0, \"Adolescent_birth_rate\": 44.8, \"Seats_parliament\": 22.9, \"F_secondary_educ\": 81.6, \"M_secondary_educ\": 76.6, \"F_Labour_force\": 15.4, \"M_Labour_force\": 67.1, \"Human_development_int\": 2}, {\"Country\": \"Tunisia\", \"Human_development\": \"High\", \"GII\": 0.259, \"Rank\": 61.0, \"Maternal_mortality\": 43.0, \"Adolescent_birth_rate\": 6.7, \"Seats_parliament\": 26.3, \"F_secondary_educ\": 42.9, \"M_secondary_educ\": 51.8, \"F_Labour_force\": 25.5, \"M_Labour_force\": 67.2, \"Human_development_int\": 2}, {\"Country\": \"Fiji\", \"Human_development\": \"High\", \"GII\": 0.318, \"Rank\": 77.0, \"Maternal_mortality\": 34.0, \"Adolescent_birth_rate\": 26.8, \"Seats_parliament\": 21.6, \"F_secondary_educ\": 90.2, \"M_secondary_educ\": 87.9, \"F_Labour_force\": 37.7, \"M_Labour_force\": 75.3, \"Human_development_int\": 2}, {\"Country\": \"Suriname\", \"Human_development\": \"High\", \"GII\": 0.427, \"Rank\": 105.0, \"Maternal_mortality\": 120.0, \"Adolescent_birth_rate\": 56.1, \"Seats_parliament\": 29.4, \"F_secondary_educ\": 69.9, \"M_secondary_educ\": 70.7, \"F_Labour_force\": 43.4, \"M_Labour_force\": 65.1, \"Human_development_int\": 2}, {\"Country\": \"Uzbekistan\", \"Human_development\": \"High\", \"GII\": 0.227, \"Rank\": 56.0, \"Maternal_mortality\": 29.0, \"Adolescent_birth_rate\": 15.9, \"Seats_parliament\": 28.7, \"F_secondary_educ\": 99.9, \"M_secondary_educ\": 100.0, \"F_Labour_force\": 44.9, \"M_Labour_force\": 70.9, \"Human_development_int\": 2}, {\"Country\": \"Jordan\", \"Human_development\": \"High\", \"GII\": 0.471, \"Rank\": 118.0, \"Maternal_mortality\": 46.0, \"Adolescent_birth_rate\": 25.4, \"Seats_parliament\": 11.8, \"F_secondary_educ\": 77.4, \"M_secondary_educ\": 84.2, \"F_Labour_force\": 13.5, \"M_Labour_force\": 62.3, \"Human_development_int\": 2}, {\"Country\": \"Libya\", \"Human_development\": \"High\", \"GII\": 0.259, \"Rank\": 61.0, \"Maternal_mortality\": 72.0, \"Adolescent_birth_rate\": 6.9, \"Seats_parliament\": 16.0, \"F_secondary_educ\": 70.5, \"M_secondary_educ\": 45.1, \"F_Labour_force\": 34.1, \"M_Labour_force\": 61.0, \"Human_development_int\": 2}, {\"Country\": \"Paraguay\", \"Human_development\": \"High\", \"GII\": 0.445, \"Rank\": 111.0, \"Maternal_mortality\": 84.0, \"Adolescent_birth_rate\": 70.3, \"Seats_parliament\": 16.8, \"F_secondary_educ\": 52.5, \"M_secondary_educ\": 54.0, \"F_Labour_force\": 59.6, \"M_Labour_force\": 84.2, \"Human_development_int\": 2}, {\"Country\": \"Saint Lucia\", \"Human_development\": \"High\", \"GII\": 0.381, \"Rank\": 91.0, \"Maternal_mortality\": 117.0, \"Adolescent_birth_rate\": 36.9, \"Seats_parliament\": 24.1, \"F_secondary_educ\": 49.9, \"M_secondary_educ\": 43.8, \"F_Labour_force\": 63.2, \"M_Labour_force\": 73.2, \"Human_development_int\": 2}, {\"Country\": \"Guyana\", \"Human_development\": \"High\", \"GII\": 0.454, \"Rank\": 114.0, \"Maternal_mortality\": 169.0, \"Adolescent_birth_rate\": 66.6, \"Seats_parliament\": 35.7, \"F_secondary_educ\": 69.5, \"M_secondary_educ\": 62.2, \"F_Labour_force\": 40.3, \"M_Labour_force\": 64.1, \"Human_development_int\": 2}, {\"Country\": \"South Africa\", \"Human_development\": \"High\", \"GII\": 0.405, \"Rank\": 97.0, \"Maternal_mortality\": 119.0, \"Adolescent_birth_rate\": 61.2, \"Seats_parliament\": 46.0, \"F_secondary_educ\": 68.9, \"M_secondary_educ\": 87.7, \"F_Labour_force\": 46.2, \"M_Labour_force\": 59.9, \"Human_development_int\": 2}, {\"Country\": \"Jamaica\", \"Human_development\": \"High\", \"GII\": 0.335, \"Rank\": 80.0, \"Maternal_mortality\": 80.0, \"Adolescent_birth_rate\": 32.8, \"Seats_parliament\": 31.0, \"F_secondary_educ\": 74.3, \"M_secondary_educ\": 66.4, \"F_Labour_force\": 56.1, \"M_Labour_force\": 70.0, \"Human_development_int\": 2}, {\"Country\": \"Samoa\", \"Human_development\": \"High\", \"GII\": 0.418, \"Rank\": 99.0, \"Maternal_mortality\": 43.0, \"Adolescent_birth_rate\": 43.6, \"Seats_parliament\": 7.8, \"F_secondary_educ\": 79.1, \"M_secondary_educ\": 71.6, \"F_Labour_force\": 30.7, \"M_Labour_force\": 54.2, \"Human_development_int\": 2}, {\"Country\": \"Gabon\", \"Human_development\": \"High\", \"GII\": 0.541, \"Rank\": 140.0, \"Maternal_mortality\": 252.0, \"Adolescent_birth_rate\": 91.2, \"Seats_parliament\": 18.7, \"F_secondary_educ\": 67.2, \"M_secondary_educ\": 84.0, \"F_Labour_force\": 39.1, \"M_Labour_force\": 57.0, \"Human_development_int\": 2}, {\"Country\": \"Lebanon\", \"Human_development\": \"High\", \"GII\": 0.432, \"Rank\": 108.0, \"Maternal_mortality\": 29.0, \"Adolescent_birth_rate\": 20.3, \"Seats_parliament\": 4.7, \"F_secondary_educ\": 54.3, \"M_secondary_educ\": 55.6, \"F_Labour_force\": 20.8, \"M_Labour_force\": 64.3, \"Human_development_int\": 2}, {\"Country\": \"Indonesia\", \"Human_development\": \"High\", \"GII\": 0.444, \"Rank\": 110.0, \"Maternal_mortality\": 177.0, \"Adolescent_birth_rate\": 33.9, \"Seats_parliament\": 21.0, \"F_secondary_educ\": 51.0, \"M_secondary_educ\": 58.2, \"F_Labour_force\": 53.7, \"M_Labour_force\": 81.7, \"Human_development_int\": 2}, {\"Country\": \"Viet Nam\", \"Human_development\": \"High\", \"GII\": 0.296, \"Rank\": 71.0, \"Maternal_mortality\": 43.0, \"Adolescent_birth_rate\": 34.6, \"Seats_parliament\": 30.3, \"F_secondary_educ\": 61.3, \"M_secondary_educ\": 69.6, \"F_Labour_force\": 69.6, \"M_Labour_force\": 79.4, \"Human_development_int\": 2}, {\"Country\": \"Philippines\", \"Human_development\": \"Medium\", \"GII\": 0.419, \"Rank\": 101.0, \"Maternal_mortality\": 121.0, \"Adolescent_birth_rate\": 48.2, \"Seats_parliament\": 28.0, \"F_secondary_educ\": 73.4, \"M_secondary_educ\": 69.1, \"F_Labour_force\": 43.8, \"M_Labour_force\": 68.3, \"Human_development_int\": 3}, {\"Country\": \"Botswana\", \"Human_development\": \"Medium\", \"GII\": 0.468, \"Rank\": 117.0, \"Maternal_mortality\": 144.0, \"Adolescent_birth_rate\": 49.3, \"Seats_parliament\": 10.8, \"F_secondary_educ\": 91.3, \"M_secondary_educ\": 91.8, \"F_Labour_force\": 56.3, \"M_Labour_force\": 65.1, \"Human_development_int\": 3}, {\"Country\": \"Bolivia\", \"Human_development\": \"Medium\", \"GII\": 0.418, \"Rank\": 99.0, \"Maternal_mortality\": 155.0, \"Adolescent_birth_rate\": 63.8, \"Seats_parliament\": 48.2, \"F_secondary_educ\": 60.1, \"M_secondary_educ\": 69.7, \"F_Labour_force\": 68.3, \"M_Labour_force\": 83.8, \"Human_development_int\": 3}, {\"Country\": \"Kyrgyzstan\", \"Human_development\": \"Medium\", \"GII\": 0.37, \"Rank\": 87.0, \"Maternal_mortality\": 60.0, \"Adolescent_birth_rate\": 34.7, \"Seats_parliament\": 20.5, \"F_secondary_educ\": 100.0, \"M_secondary_educ\": 99.8, \"F_Labour_force\": 42.1, \"M_Labour_force\": 71.7, \"Human_development_int\": 3}, {\"Country\": \"Venezuela\", \"Human_development\": \"Medium\", \"GII\": 0.492, \"Rank\": 123.0, \"Maternal_mortality\": 125.0, \"Adolescent_birth_rate\": 82.7, \"Seats_parliament\": 22.2, \"F_secondary_educ\": 79.8, \"M_secondary_educ\": 75.4, \"F_Labour_force\": 34.3, \"M_Labour_force\": 67.8, \"Human_development_int\": 3}, {\"Country\": \"Iraq\", \"Human_development\": \"Medium\", \"GII\": 0.558, \"Rank\": 145.0, \"Maternal_mortality\": 79.0, \"Adolescent_birth_rate\": 62.2, \"Seats_parliament\": 28.9, \"F_secondary_educ\": 42.0, \"M_secondary_educ\": 52.9, \"F_Labour_force\": 11.1, \"M_Labour_force\": 71.8, \"Human_development_int\": 3}, {\"Country\": \"Tajikistan\", \"Human_development\": \"Medium\", \"GII\": 0.285, \"Rank\": 68.0, \"Maternal_mortality\": 17.0, \"Adolescent_birth_rate\": 45.4, \"Seats_parliament\": 23.4, \"F_secondary_educ\": 93.5, \"M_secondary_educ\": 94.6, \"F_Labour_force\": 30.2, \"M_Labour_force\": 50.5, \"Human_development_int\": 3}, {\"Country\": \"Belize\", \"Human_development\": \"Medium\", \"GII\": 0.364, \"Rank\": 86.0, \"Maternal_mortality\": 36.0, \"Adolescent_birth_rate\": 57.1, \"Seats_parliament\": 19.6, \"F_secondary_educ\": 54.5, \"M_secondary_educ\": 49.8, \"F_Labour_force\": 46.9, \"M_Labour_force\": 76.8, \"Human_development_int\": 3}, {\"Country\": \"Morocco\", \"Human_development\": \"Medium\", \"GII\": 0.425, \"Rank\": 104.0, \"Maternal_mortality\": 70.0, \"Adolescent_birth_rate\": 25.9, \"Seats_parliament\": 20.4, \"F_secondary_educ\": 30.9, \"M_secondary_educ\": 37.1, \"F_Labour_force\": 22.0, \"M_Labour_force\": 66.0, \"Human_development_int\": 3}, {\"Country\": \"El Salvador\", \"Human_development\": \"Medium\", \"GII\": 0.376, \"Rank\": 88.0, \"Maternal_mortality\": 46.0, \"Adolescent_birth_rate\": 55.9, \"Seats_parliament\": 27.4, \"F_secondary_educ\": 42.7, \"M_secondary_educ\": 51.4, \"F_Labour_force\": 43.6, \"M_Labour_force\": 72.6, \"Human_development_int\": 3}, {\"Country\": \"Nicaragua\", \"Human_development\": \"Medium\", \"GII\": 0.424, \"Rank\": 102.0, \"Maternal_mortality\": 98.0, \"Adolescent_birth_rate\": 85.6, \"Seats_parliament\": 50.5, \"F_secondary_educ\": 51.2, \"M_secondary_educ\": 49.7, \"F_Labour_force\": 46.8, \"M_Labour_force\": 81.3, \"Human_development_int\": 3}, {\"Country\": \"Bhutan\", \"Human_development\": \"Medium\", \"GII\": 0.415, \"Rank\": 98.0, \"Maternal_mortality\": 183.0, \"Adolescent_birth_rate\": 19.0, \"Seats_parliament\": 16.7, \"F_secondary_educ\": 23.6, \"M_secondary_educ\": 32.3, \"F_Labour_force\": 51.6, \"M_Labour_force\": 67.4, \"Human_development_int\": 3}, {\"Country\": \"Cabo Verde\", \"Human_development\": \"Medium\", \"GII\": 0.349, \"Rank\": 84.0, \"Maternal_mortality\": 58.0, \"Adolescent_birth_rate\": 55.2, \"Seats_parliament\": 38.9, \"F_secondary_educ\": 28.8, \"M_secondary_educ\": 31.2, \"F_Labour_force\": 46.9, \"M_Labour_force\": 61.7, \"Human_development_int\": 3}, {\"Country\": \"Bangladesh\", \"Human_development\": \"Medium\", \"GII\": 0.53, \"Rank\": 131.0, \"Maternal_mortality\": 173.0, \"Adolescent_birth_rate\": 75.5, \"Seats_parliament\": 20.9, \"F_secondary_educ\": 50.6, \"M_secondary_educ\": 58.5, \"F_Labour_force\": 34.9, \"M_Labour_force\": 78.8, \"Human_development_int\": 3}, {\"Country\": \"India\", \"Human_development\": \"Medium\", \"GII\": 0.49, \"Rank\": 122.0, \"Maternal_mortality\": 133.0, \"Adolescent_birth_rate\": 17.2, \"Seats_parliament\": 13.4, \"F_secondary_educ\": 41.8, \"M_secondary_educ\": 53.8, \"F_Labour_force\": 19.2, \"M_Labour_force\": 70.1, \"Human_development_int\": 3}, {\"Country\": \"Ghana\", \"Human_development\": \"Medium\", \"GII\": 0.529, \"Rank\": 130.0, \"Maternal_mortality\": 308.0, \"Adolescent_birth_rate\": 64.2, \"Seats_parliament\": 14.5, \"F_secondary_educ\": 58.0, \"M_secondary_educ\": 73.2, \"F_Labour_force\": 64.5, \"M_Labour_force\": 72.2, \"Human_development_int\": 3}, {\"Country\": \"Guatemala\", \"Human_development\": \"Medium\", \"GII\": 0.481, \"Rank\": 121.0, \"Maternal_mortality\": 95.0, \"Adolescent_birth_rate\": 64.1, \"Seats_parliament\": 19.4, \"F_secondary_educ\": 29.5, \"M_secondary_educ\": 35.8, \"F_Labour_force\": 37.4, \"M_Labour_force\": 80.3, \"Human_development_int\": 3}, {\"Country\": \"Honduras\", \"Human_development\": \"Medium\", \"GII\": 0.431, \"Rank\": 107.0, \"Maternal_mortality\": 65.0, \"Adolescent_birth_rate\": 72.0, \"Seats_parliament\": 27.3, \"F_secondary_educ\": 35.8, \"M_secondary_educ\": 44.8, \"F_Labour_force\": 42.3, \"M_Labour_force\": 78.9, \"Human_development_int\": 3}, {\"Country\": \"Sao Tome and Principe\", \"Human_development\": \"Medium\", \"GII\": 0.494, \"Rank\": 124.0, \"Maternal_mortality\": 130.0, \"Adolescent_birth_rate\": 79.4, \"Seats_parliament\": 23.6, \"F_secondary_educ\": 39.9, \"M_secondary_educ\": 48.4, \"F_Labour_force\": 37.1, \"M_Labour_force\": 69.9, \"Human_development_int\": 3}, {\"Country\": \"Namibia\", \"Human_development\": \"Medium\", \"GII\": 0.445, \"Rank\": 111.0, \"Maternal_mortality\": 195.0, \"Adolescent_birth_rate\": 64.9, \"Seats_parliament\": 35.6, \"F_secondary_educ\": 41.5, \"M_secondary_educ\": 44.1, \"F_Labour_force\": 54.5, \"M_Labour_force\": 62.2, \"Human_development_int\": 3}, {\"Country\": \"Lao People's Democratic Republic\", \"Human_development\": \"Medium\", \"GII\": 0.478, \"Rank\": 120.0, \"Maternal_mortality\": 185.0, \"Adolescent_birth_rate\": 73.2, \"Seats_parliament\": 22.0, \"F_secondary_educ\": 37.7, \"M_secondary_educ\": 47.7, \"F_Labour_force\": 74.8, \"M_Labour_force\": 78.1, \"Human_development_int\": 3}, {\"Country\": \"Timor-Leste\", \"Human_development\": \"Medium\", \"GII\": 0.378, \"Rank\": 89.0, \"Maternal_mortality\": 142.0, \"Adolescent_birth_rate\": 33.9, \"Seats_parliament\": 38.5, \"F_secondary_educ\": 33.7, \"M_secondary_educ\": 41.8, \"F_Labour_force\": 61.0, \"M_Labour_force\": 72.2, \"Human_development_int\": 3}, {\"Country\": \"Nepal\", \"Human_development\": \"Medium\", \"GII\": 0.452, \"Rank\": 113.0, \"Maternal_mortality\": 186.0, \"Adolescent_birth_rate\": 63.8, \"Seats_parliament\": 33.6, \"F_secondary_educ\": 28.8, \"M_secondary_educ\": 44.7, \"F_Labour_force\": 78.7, \"M_Labour_force\": 80.8, \"Human_development_int\": 3}, {\"Country\": \"Eswatini\", \"Human_development\": \"Medium\", \"GII\": 0.54, \"Rank\": 138.0, \"Maternal_mortality\": 437.0, \"Adolescent_birth_rate\": 69.9, \"Seats_parliament\": 18.4, \"F_secondary_educ\": 34.0, \"M_secondary_educ\": 36.2, \"F_Labour_force\": 45.6, \"M_Labour_force\": 53.6, \"Human_development_int\": 3}, {\"Country\": \"Cambodia\", \"Human_development\": \"Medium\", \"GII\": 0.461, \"Rank\": 116.0, \"Maternal_mortality\": 160.0, \"Adolescent_birth_rate\": 45.5, \"Seats_parliament\": 19.8, \"F_secondary_educ\": 18.3, \"M_secondary_educ\": 31.7, \"F_Labour_force\": 74.0, \"M_Labour_force\": 85.9, \"Human_development_int\": 3}, {\"Country\": \"Zimbabwe\", \"Human_development\": \"Medium\", \"GII\": 0.532, \"Rank\": 134.0, \"Maternal_mortality\": 458.0, \"Adolescent_birth_rate\": 94.3, \"Seats_parliament\": 34.6, \"F_secondary_educ\": 61.8, \"M_secondary_educ\": 72.4, \"F_Labour_force\": 79.3, \"M_Labour_force\": 88.9, \"Human_development_int\": 3}, {\"Country\": \"Angola\", \"Human_development\": \"Medium\", \"GII\": 0.537, \"Rank\": 136.0, \"Maternal_mortality\": 241.0, \"Adolescent_birth_rate\": 138.4, \"Seats_parliament\": 29.5, \"F_secondary_educ\": 28.2, \"M_secondary_educ\": 51.5, \"F_Labour_force\": 74.0, \"M_Labour_force\": 79.1, \"Human_development_int\": 3}, {\"Country\": \"Myanmar\", \"Human_development\": \"Medium\", \"GII\": 0.498, \"Rank\": 125.0, \"Maternal_mortality\": 250.0, \"Adolescent_birth_rate\": 33.0, \"Seats_parliament\": 15.0, \"F_secondary_educ\": 38.5, \"M_secondary_educ\": 47.8, \"F_Labour_force\": 41.0, \"M_Labour_force\": 70.0, \"Human_development_int\": 3}, {\"Country\": \"Syrian Arab Republic\", \"Human_development\": \"Medium\", \"GII\": 0.477, \"Rank\": 119.0, \"Maternal_mortality\": 31.0, \"Adolescent_birth_rate\": 38.7, \"Seats_parliament\": 11.2, \"F_secondary_educ\": 37.1, \"M_secondary_educ\": 43.4, \"F_Labour_force\": 15.7, \"M_Labour_force\": 70.8, \"Human_development_int\": 3}, {\"Country\": \"Cameroon\", \"Human_development\": \"Medium\", \"GII\": 0.565, \"Rank\": 148.0, \"Maternal_mortality\": 529.0, \"Adolescent_birth_rate\": 110.4, \"Seats_parliament\": 31.1, \"F_secondary_educ\": 36.8, \"M_secondary_educ\": 55.0, \"F_Labour_force\": 70.2, \"M_Labour_force\": 80.7, \"Human_development_int\": 3}, {\"Country\": \"Kenya\", \"Human_development\": \"Medium\", \"GII\": 0.506, \"Rank\": 128.0, \"Maternal_mortality\": 342.0, \"Adolescent_birth_rate\": 64.2, \"Seats_parliament\": 23.2, \"F_secondary_educ\": 31.1, \"M_secondary_educ\": 37.7, \"F_Labour_force\": 71.0, \"M_Labour_force\": 75.6, \"Human_development_int\": 3}, {\"Country\": \"Congo\", \"Human_development\": \"Medium\", \"GII\": 0.564, \"Rank\": 147.0, \"Maternal_mortality\": 378.0, \"Adolescent_birth_rate\": 103.6, \"Seats_parliament\": 13.6, \"F_secondary_educ\": 48.0, \"M_secondary_educ\": 52.0, \"F_Labour_force\": 65.1, \"M_Labour_force\": 67.6, \"Human_development_int\": 3}, {\"Country\": \"Zambia\", \"Human_development\": \"Medium\", \"GII\": 0.54, \"Rank\": 138.0, \"Maternal_mortality\": 213.0, \"Adolescent_birth_rate\": 117.0, \"Seats_parliament\": 15.1, \"F_secondary_educ\": 47.1, \"M_secondary_educ\": 56.8, \"F_Labour_force\": 69.2, \"M_Labour_force\": 77.8, \"Human_development_int\": 3}, {\"Country\": \"Papua New Guinea\", \"Human_development\": \"Medium\", \"GII\": 0.725, \"Rank\": 169.0, \"Maternal_mortality\": 145.0, \"Adolescent_birth_rate\": 55.3, \"Seats_parliament\": 0.0, \"F_secondary_educ\": 10.8, \"M_secondary_educ\": 15.5, \"F_Labour_force\": 46.3, \"M_Labour_force\": 48.1, \"Human_development_int\": 3}, {\"Country\": \"Mauritania\", \"Human_development\": \"Medium\", \"GII\": 0.632, \"Rank\": 161.0, \"Maternal_mortality\": 766.0, \"Adolescent_birth_rate\": 78.0, \"Seats_parliament\": 20.3, \"F_secondary_educ\": 14.5, \"M_secondary_educ\": 21.9, \"F_Labour_force\": 27.4, \"M_Labour_force\": 62.2, \"Human_development_int\": 3}, {\"Country\": \"C\\u00f4te d'Ivoire\", \"Human_development\": \"Medium\", \"GII\": 0.613, \"Rank\": 155.0, \"Maternal_mortality\": 617.0, \"Adolescent_birth_rate\": 105.0, \"Seats_parliament\": 15.6, \"F_secondary_educ\": 23.9, \"M_secondary_educ\": 32.2, \"F_Labour_force\": 45.9, \"M_Labour_force\": 64.9, \"Human_development_int\": 3}, {\"Country\": \"Tanzania\", \"Human_development\": \"Low\", \"GII\": 0.56, \"Rank\": 146.0, \"Maternal_mortality\": 524.0, \"Adolescent_birth_rate\": 123.7, \"Seats_parliament\": 36.9, \"F_secondary_educ\": 13.0, \"M_secondary_educ\": 19.1, \"F_Labour_force\": 79.5, \"M_Labour_force\": 87.1, \"Human_development_int\": 4}, {\"Country\": \"Pakistan\", \"Human_development\": \"Low\", \"GII\": 0.534, \"Rank\": 135.0, \"Maternal_mortality\": 140.0, \"Adolescent_birth_rate\": 42.3, \"Seats_parliament\": 19.9, \"F_secondary_educ\": 22.1, \"M_secondary_educ\": 28.7, \"F_Labour_force\": 20.7, \"M_Labour_force\": 78.1, \"Human_development_int\": 4}, {\"Country\": \"Togo\", \"Human_development\": \"Low\", \"GII\": 0.58, \"Rank\": 149.0, \"Maternal_mortality\": 396.0, \"Adolescent_birth_rate\": 77.9, \"Seats_parliament\": 18.7, \"F_secondary_educ\": 13.9, \"M_secondary_educ\": 42.3, \"F_Labour_force\": 55.5, \"M_Labour_force\": 59.4, \"Human_development_int\": 4}, {\"Country\": \"Haiti\", \"Human_development\": \"Low\", \"GII\": 0.635, \"Rank\": 163.0, \"Maternal_mortality\": 480.0, \"Adolescent_birth_rate\": 52.5, \"Seats_parliament\": 2.7, \"F_secondary_educ\": 27.9, \"M_secondary_educ\": 41.0, \"F_Labour_force\": 60.7, \"M_Labour_force\": 68.9, \"Human_development_int\": 4}, {\"Country\": \"Nigeria\", \"Human_development\": \"Low\", \"GII\": 0.68, \"Rank\": 168.0, \"Maternal_mortality\": 917.0, \"Adolescent_birth_rate\": 101.7, \"Seats_parliament\": 4.5, \"F_secondary_educ\": 40.4, \"M_secondary_educ\": 55.3, \"F_Labour_force\": 47.9, \"M_Labour_force\": 59.6, \"Human_development_int\": 4}, {\"Country\": \"Rwanda\", \"Human_development\": \"Low\", \"GII\": 0.388, \"Rank\": 93.0, \"Maternal_mortality\": 248.0, \"Adolescent_birth_rate\": 32.4, \"Seats_parliament\": 55.7, \"F_secondary_educ\": 11.4, \"M_secondary_educ\": 16.3, \"F_Labour_force\": 82.5, \"M_Labour_force\": 82.2, \"Human_development_int\": 4}, {\"Country\": \"Benin\", \"Human_development\": \"Low\", \"GII\": 0.602, \"Rank\": 152.0, \"Maternal_mortality\": 397.0, \"Adolescent_birth_rate\": 92.3, \"Seats_parliament\": 8.4, \"F_secondary_educ\": 21.1, \"M_secondary_educ\": 34.4, \"F_Labour_force\": 69.3, \"M_Labour_force\": 72.6, \"Human_development_int\": 4}, {\"Country\": \"Uganda\", \"Human_development\": \"Low\", \"GII\": 0.53, \"Rank\": 131.0, \"Maternal_mortality\": 375.0, \"Adolescent_birth_rate\": 107.9, \"Seats_parliament\": 33.8, \"F_secondary_educ\": 29.3, \"M_secondary_educ\": 36.3, \"F_Labour_force\": 64.2, \"M_Labour_force\": 71.3, \"Human_development_int\": 4}, {\"Country\": \"Lesotho\", \"Human_development\": \"Low\", \"GII\": 0.557, \"Rank\": 144.0, \"Maternal_mortality\": 544.0, \"Adolescent_birth_rate\": 89.6, \"Seats_parliament\": 22.9, \"F_secondary_educ\": 27.2, \"M_secondary_educ\": 24.6, \"F_Labour_force\": 56.1, \"M_Labour_force\": 71.3, \"Human_development_int\": 4}, {\"Country\": \"Malawi\", \"Human_development\": \"Low\", \"GII\": 0.554, \"Rank\": 142.0, \"Maternal_mortality\": 349.0, \"Adolescent_birth_rate\": 117.9, \"Seats_parliament\": 22.9, \"F_secondary_educ\": 21.3, \"M_secondary_educ\": 28.4, \"F_Labour_force\": 71.6, \"M_Labour_force\": 80.0, \"Human_development_int\": 4}, {\"Country\": \"Senegal\", \"Human_development\": \"Low\", \"GII\": 0.53, \"Rank\": 131.0, \"Maternal_mortality\": 315.0, \"Adolescent_birth_rate\": 66.5, \"Seats_parliament\": 43.0, \"F_secondary_educ\": 11.1, \"M_secondary_educ\": 30.9, \"F_Labour_force\": 33.5, \"M_Labour_force\": 56.7, \"Human_development_int\": 4}, {\"Country\": \"Sudan\", \"Human_development\": \"Low\", \"GII\": 0.553, \"Rank\": 141.0, \"Maternal_mortality\": 295.0, \"Adolescent_birth_rate\": 79.9, \"Seats_parliament\": 31.0, \"F_secondary_educ\": 16.4, \"M_secondary_educ\": 20.1, \"F_Labour_force\": 28.7, \"M_Labour_force\": 67.8, \"Human_development_int\": 4}, {\"Country\": \"Madagascar\", \"Human_development\": \"Low\", \"GII\": 0.556, \"Rank\": 143.0, \"Maternal_mortality\": 335.0, \"Adolescent_birth_rate\": 119.4, \"Seats_parliament\": 17.2, \"F_secondary_educ\": 27.3, \"M_secondary_educ\": 29.8, \"F_Labour_force\": 81.5, \"M_Labour_force\": 87.6, \"Human_development_int\": 4}, {\"Country\": \"Gambia\", \"Human_development\": \"Low\", \"GII\": 0.611, \"Rank\": 153.0, \"Maternal_mortality\": 597.0, \"Adolescent_birth_rate\": 63.2, \"Seats_parliament\": 8.6, \"F_secondary_educ\": 29.9, \"M_secondary_educ\": 43.2, \"F_Labour_force\": 48.9, \"M_Labour_force\": 66.3, \"Human_development_int\": 4}, {\"Country\": \"Ethiopia\", \"Human_development\": \"Low\", \"GII\": 0.52, \"Rank\": 129.0, \"Maternal_mortality\": 401.0, \"Adolescent_birth_rate\": 69.2, \"Seats_parliament\": 39.5, \"F_secondary_educ\": 9.1, \"M_secondary_educ\": 20.1, \"F_Labour_force\": 72.3, \"M_Labour_force\": 84.7, \"Human_development_int\": 4}, {\"Country\": \"Guinea-Bissau\", \"Human_development\": \"Low\", \"GII\": 0.627, \"Rank\": 159.0, \"Maternal_mortality\": 667.0, \"Adolescent_birth_rate\": 87.5, \"Seats_parliament\": 13.7, \"F_secondary_educ\": 9.8, \"M_secondary_educ\": 22.8, \"F_Labour_force\": 63.9, \"M_Labour_force\": 78.4, \"Human_development_int\": 4}, {\"Country\": \"Liberia\", \"Human_development\": \"Low\", \"GII\": 0.648, \"Rank\": 164.0, \"Maternal_mortality\": 661.0, \"Adolescent_birth_rate\": 123.4, \"Seats_parliament\": 9.7, \"F_secondary_educ\": 20.8, \"M_secondary_educ\": 39.2, \"F_Labour_force\": 69.8, \"M_Labour_force\": 79.7, \"Human_development_int\": 4}, {\"Country\": \"Congo\", \"Human_development\": \"Low\", \"GII\": 0.601, \"Rank\": 151.0, \"Maternal_mortality\": 473.0, \"Adolescent_birth_rate\": 109.0, \"Seats_parliament\": 14.3, \"F_secondary_educ\": 40.3, \"M_secondary_educ\": 69.1, \"F_Labour_force\": 61.2, \"M_Labour_force\": 69.1, \"Human_development_int\": 4}, {\"Country\": \"Afghanistan\", \"Human_development\": \"Low\", \"GII\": 0.678, \"Rank\": 167.0, \"Maternal_mortality\": 638.0, \"Adolescent_birth_rate\": 82.6, \"Seats_parliament\": 27.2, \"F_secondary_educ\": 6.4, \"M_secondary_educ\": 14.9, \"F_Labour_force\": 14.8, \"M_Labour_force\": 66.5, \"Human_development_int\": 4}, {\"Country\": \"Sierra Leone\", \"Human_development\": \"Low\", \"GII\": 0.633, \"Rank\": 162.0, \"Maternal_mortality\": 1120.0, \"Adolescent_birth_rate\": 100.9, \"Seats_parliament\": 12.3, \"F_secondary_educ\": 34.7, \"M_secondary_educ\": 51.5, \"F_Labour_force\": 56.1, \"M_Labour_force\": 55.9, \"Human_development_int\": 4}, {\"Country\": \"Guinea\", \"Human_development\": \"Low\", \"GII\": 0.621, \"Rank\": 157.0, \"Maternal_mortality\": 576.0, \"Adolescent_birth_rate\": 114.8, \"Seats_parliament\": 16.7, \"F_secondary_educ\": 7.2, \"M_secondary_educ\": 19.7, \"F_Labour_force\": 62.1, \"M_Labour_force\": 62.2, \"Human_development_int\": 4}, {\"Country\": \"Yemen\", \"Human_development\": \"Low\", \"GII\": 0.82, \"Rank\": 170.0, \"Maternal_mortality\": 164.0, \"Adolescent_birth_rate\": 54.4, \"Seats_parliament\": 0.3, \"F_secondary_educ\": 22.4, \"M_secondary_educ\": 37.5, \"F_Labour_force\": 6.0, \"M_Labour_force\": 67.6, \"Human_development_int\": 4}, {\"Country\": \"Burkina Faso\", \"Human_development\": \"Low\", \"GII\": 0.621, \"Rank\": 157.0, \"Maternal_mortality\": 320.0, \"Adolescent_birth_rate\": 110.5, \"Seats_parliament\": 6.3, \"F_secondary_educ\": 11.3, \"M_secondary_educ\": 17.1, \"F_Labour_force\": 57.2, \"M_Labour_force\": 72.7, \"Human_development_int\": 4}, {\"Country\": \"Mozambique\", \"Human_development\": \"Low\", \"GII\": 0.537, \"Rank\": 136.0, \"Maternal_mortality\": 289.0, \"Adolescent_birth_rate\": 165.8, \"Seats_parliament\": 42.4, \"F_secondary_educ\": 10.8, \"M_secondary_educ\": 20.2, \"F_Labour_force\": 77.7, \"M_Labour_force\": 78.9, \"Human_development_int\": 4}, {\"Country\": \"Mali\", \"Human_development\": \"Low\", \"GII\": 0.613, \"Rank\": 155.0, \"Maternal_mortality\": 562.0, \"Adolescent_birth_rate\": 150.1, \"Seats_parliament\": 27.3, \"F_secondary_educ\": 8.0, \"M_secondary_educ\": 15.5, \"F_Labour_force\": 57.7, \"M_Labour_force\": 79.7, \"Human_development_int\": 4}, {\"Country\": \"Burundi\", \"Human_development\": \"Low\", \"GII\": 0.505, \"Rank\": 127.0, \"Maternal_mortality\": 548.0, \"Adolescent_birth_rate\": 53.6, \"Seats_parliament\": 38.9, \"F_secondary_educ\": 7.8, \"M_secondary_educ\": 13.0, \"F_Labour_force\": 79.0, \"M_Labour_force\": 77.4, \"Human_development_int\": 4}, {\"Country\": \"Central African Republic\", \"Human_development\": \"Low\", \"GII\": 0.672, \"Rank\": 166.0, \"Maternal_mortality\": 829.0, \"Adolescent_birth_rate\": 160.5, \"Seats_parliament\": 12.9, \"F_secondary_educ\": 13.9, \"M_secondary_educ\": 31.6, \"F_Labour_force\": 63.3, \"M_Labour_force\": 79.5, \"Human_development_int\": 4}, {\"Country\": \"Niger\", \"Human_development\": \"Low\", \"GII\": 0.611, \"Rank\": 153.0, \"Maternal_mortality\": 509.0, \"Adolescent_birth_rate\": 170.5, \"Seats_parliament\": 25.9, \"F_secondary_educ\": 9.2, \"M_secondary_educ\": 15.2, \"F_Labour_force\": 61.7, \"M_Labour_force\": 84.3, \"Human_development_int\": 4}, {\"Country\": \"Chad\", \"Human_development\": \"Low\", \"GII\": 0.652, \"Rank\": 165.0, \"Maternal_mortality\": 1140.0, \"Adolescent_birth_rate\": 138.3, \"Seats_parliament\": 32.3, \"F_secondary_educ\": 7.7, \"M_secondary_educ\": 24.4, \"F_Labour_force\": 46.9, \"M_Labour_force\": 69.9, \"Human_development_int\": 4}, {\"Country\": \"South Sudan\", \"Human_development\": \"Low\", \"GII\": 0.587, \"Rank\": 150.0, \"Maternal_mortality\": 1150.0, \"Adolescent_birth_rate\": 99.2, \"Seats_parliament\": 32.3, \"F_secondary_educ\": 26.5, \"M_secondary_educ\": 36.4, \"F_Labour_force\": 70.4, \"M_Labour_force\": 73.6, \"Human_development_int\": 4}]}}, {\"mode\": \"vega-lite\"});\n",
       "</script>"
      ],
      "text/plain": [
       "alt.HConcatChart(...)"
      ]
     },
     "execution_count": 14,
     "metadata": {},
     "output_type": "execute_result"
    }
   ],
   "source": [
    "charts = []\n",
    "\n",
    "for column in df.columns[4:12]:\n",
    "    chart = alt.Chart(df).mark_circle().encode(\n",
    "        x=alt.X(column, title=column),\n",
    "        y='GII',\n",
    "        color='Human_development_int:N',\n",
    "        tooltip=['Country', 'GII', column]\n",
    "    ).properties(\n",
    "        title=f'{column} vs GII by Country'\n",
    "    )\n",
    "    charts.append(chart)\n",
    "\n",
    "final_chart = alt.hconcat(*charts)\n",
    "final_chart"
   ]
  },
  {
   "cell_type": "markdown",
   "metadata": {
    "cell_id": "bef9f7da954c4e138a486b9742911671",
    "deepnote_cell_type": "text-cell-p",
    "formattedRanges": []
   },
   "source": [
    "In summary, the visual representation of the data indicates a clear inverse relationship between country development and the Gender Inequality Index. Specifically, when examining the Labor Force Rate, it is noteworthy that the distribution of female labor is more spread towards the left side of the graph compared to male labor. This observation suggests that women globally may face greater job insecurity when compared to men."
   ]
  },
  {
   "cell_type": "markdown",
   "metadata": {
    "cell_id": "c0f57319135444d88907a74f14ac3a4a",
    "deepnote_cell_type": "text-cell-p",
    "formattedRanges": []
   },
   "source": []
  },
  {
   "cell_type": "markdown",
   "metadata": {
    "cell_id": "4749c929eee54246bf30c10aa1c8a667",
    "deepnote_cell_type": "text-cell-h2",
    "formattedRanges": []
   },
   "source": [
    "## Machine Learning"
   ]
  },
  {
   "cell_type": "markdown",
   "metadata": {
    "cell_id": "fa66cdf84c4949898285dfa81375d41e",
    "deepnote_cell_type": "text-cell-h2",
    "formattedRanges": []
   },
   "source": [
    "## 1) Gender Inequality Index Prediction"
   ]
  },
  {
   "cell_type": "markdown",
   "metadata": {
    "cell_id": "16ba747f001f4e9089f4731153f99208",
    "deepnote_cell_type": "text-cell-p",
    "formattedRanges": []
   },
   "source": [
    "Using Python and the scikit-learn library to demonstrate linear regression for predicting the Gender Inequality Index based on Female Secondary Education"
   ]
  },
  {
   "cell_type": "code",
   "execution_count": null,
   "metadata": {
    "cell_id": "399dd2094920409d87e644b2dbb4b521",
    "deepnote_cell_type": "code",
    "deepnote_to_be_reexecuted": false,
    "execution_millis": 32,
    "execution_start": 1702539722422,
    "source_hash": null
   },
   "outputs": [],
   "source": [
    "import pandas as pd\n",
    "from sklearn.model_selection import train_test_split\n",
    "from sklearn.linear_model import LinearRegression\n",
    "from sklearn.metrics import mean_squared_error, r2_score\n",
    "import matplotlib.pyplot as plt"
   ]
  },
  {
   "cell_type": "code",
   "execution_count": null,
   "metadata": {
    "cell_id": "3da4576a13f64260bc1593610615c1b6",
    "deepnote_cell_type": "code",
    "deepnote_to_be_reexecuted": false,
    "execution_millis": 13,
    "execution_start": 1702539633224,
    "source_hash": null
   },
   "outputs": [],
   "source": [
    "X = df[['F_secondary_educ']]\n",
    "y = df['GII']\n",
    "X_train, X_test, y_train, y_test = train_test_split(X, y, test_size=0.2, random_state=42)"
   ]
  },
  {
   "cell_type": "code",
   "execution_count": null,
   "metadata": {
    "cell_id": "0fd1df8e2cb2422ab24553f06bac4ab4",
    "deepnote_cell_type": "code",
    "deepnote_to_be_reexecuted": false,
    "execution_millis": 10,
    "execution_start": 1702539651180,
    "source_hash": null
   },
   "outputs": [
    {
     "data": {
      "text/html": [
       "<style>#sk-container-id-2 {color: black;background-color: white;}#sk-container-id-2 pre{padding: 0;}#sk-container-id-2 div.sk-toggleable {background-color: white;}#sk-container-id-2 label.sk-toggleable__label {cursor: pointer;display: block;width: 100%;margin-bottom: 0;padding: 0.3em;box-sizing: border-box;text-align: center;}#sk-container-id-2 label.sk-toggleable__label-arrow:before {content: \"▸\";float: left;margin-right: 0.25em;color: #696969;}#sk-container-id-2 label.sk-toggleable__label-arrow:hover:before {color: black;}#sk-container-id-2 div.sk-estimator:hover label.sk-toggleable__label-arrow:before {color: black;}#sk-container-id-2 div.sk-toggleable__content {max-height: 0;max-width: 0;overflow: hidden;text-align: left;background-color: #f0f8ff;}#sk-container-id-2 div.sk-toggleable__content pre {margin: 0.2em;color: black;border-radius: 0.25em;background-color: #f0f8ff;}#sk-container-id-2 input.sk-toggleable__control:checked~div.sk-toggleable__content {max-height: 200px;max-width: 100%;overflow: auto;}#sk-container-id-2 input.sk-toggleable__control:checked~label.sk-toggleable__label-arrow:before {content: \"▾\";}#sk-container-id-2 div.sk-estimator input.sk-toggleable__control:checked~label.sk-toggleable__label {background-color: #d4ebff;}#sk-container-id-2 div.sk-label input.sk-toggleable__control:checked~label.sk-toggleable__label {background-color: #d4ebff;}#sk-container-id-2 input.sk-hidden--visually {border: 0;clip: rect(1px 1px 1px 1px);clip: rect(1px, 1px, 1px, 1px);height: 1px;margin: -1px;overflow: hidden;padding: 0;position: absolute;width: 1px;}#sk-container-id-2 div.sk-estimator {font-family: monospace;background-color: #f0f8ff;border: 1px dotted black;border-radius: 0.25em;box-sizing: border-box;margin-bottom: 0.5em;}#sk-container-id-2 div.sk-estimator:hover {background-color: #d4ebff;}#sk-container-id-2 div.sk-parallel-item::after {content: \"\";width: 100%;border-bottom: 1px solid gray;flex-grow: 1;}#sk-container-id-2 div.sk-label:hover label.sk-toggleable__label {background-color: #d4ebff;}#sk-container-id-2 div.sk-serial::before {content: \"\";position: absolute;border-left: 1px solid gray;box-sizing: border-box;top: 0;bottom: 0;left: 50%;z-index: 0;}#sk-container-id-2 div.sk-serial {display: flex;flex-direction: column;align-items: center;background-color: white;padding-right: 0.2em;padding-left: 0.2em;position: relative;}#sk-container-id-2 div.sk-item {position: relative;z-index: 1;}#sk-container-id-2 div.sk-parallel {display: flex;align-items: stretch;justify-content: center;background-color: white;position: relative;}#sk-container-id-2 div.sk-item::before, #sk-container-id-2 div.sk-parallel-item::before {content: \"\";position: absolute;border-left: 1px solid gray;box-sizing: border-box;top: 0;bottom: 0;left: 50%;z-index: -1;}#sk-container-id-2 div.sk-parallel-item {display: flex;flex-direction: column;z-index: 1;position: relative;background-color: white;}#sk-container-id-2 div.sk-parallel-item:first-child::after {align-self: flex-end;width: 50%;}#sk-container-id-2 div.sk-parallel-item:last-child::after {align-self: flex-start;width: 50%;}#sk-container-id-2 div.sk-parallel-item:only-child::after {width: 0;}#sk-container-id-2 div.sk-dashed-wrapped {border: 1px dashed gray;margin: 0 0.4em 0.5em 0.4em;box-sizing: border-box;padding-bottom: 0.4em;background-color: white;}#sk-container-id-2 div.sk-label label {font-family: monospace;font-weight: bold;display: inline-block;line-height: 1.2em;}#sk-container-id-2 div.sk-label-container {text-align: center;}#sk-container-id-2 div.sk-container {/* jupyter's `normalize.less` sets `[hidden] { display: none; }` but bootstrap.min.css set `[hidden] { display: none !important; }` so we also need the `!important` here to be able to override the default hidden behavior on the sphinx rendered scikit-learn.org. See: https://github.com/scikit-learn/scikit-learn/issues/21755 */display: inline-block !important;position: relative;}#sk-container-id-2 div.sk-text-repr-fallback {display: none;}</style><div id=\"sk-container-id-2\" class=\"sk-top-container\"><div class=\"sk-text-repr-fallback\"><pre>LinearRegression()</pre><b>In a Jupyter environment, please rerun this cell to show the HTML representation or trust the notebook. <br />On GitHub, the HTML representation is unable to render, please try loading this page with nbviewer.org.</b></div><div class=\"sk-container\" hidden><div class=\"sk-item\"><div class=\"sk-estimator sk-toggleable\"><input class=\"sk-toggleable__control sk-hidden--visually\" id=\"sk-estimator-id-2\" type=\"checkbox\" checked><label for=\"sk-estimator-id-2\" class=\"sk-toggleable__label sk-toggleable__label-arrow\">LinearRegression</label><div class=\"sk-toggleable__content\"><pre>LinearRegression()</pre></div></div></div></div></div>"
      ],
      "text/plain": [
       "LinearRegression()"
      ]
     },
     "execution_count": 49,
     "metadata": {},
     "output_type": "execute_result"
    }
   ],
   "source": [
    "model = LinearRegression()\n",
    "model.fit(X_train, y_train)"
   ]
  },
  {
   "cell_type": "code",
   "execution_count": null,
   "metadata": {
    "cell_id": "47ef6079728f44a58285c49416a64f27",
    "deepnote_cell_type": "code",
    "deepnote_to_be_reexecuted": false,
    "execution_millis": 9,
    "execution_start": 1702539717966,
    "source_hash": null
   },
   "outputs": [],
   "source": [
    "y_pred = model.predict(X_test)\n",
    "mse = mean_squared_error(y_test, y_pred)\n",
    "r2 = r2_score(y_test, y_pred)"
   ]
  },
  {
   "cell_type": "code",
   "execution_count": null,
   "metadata": {
    "cell_id": "ab0d9de26b534d13a46f8c0fbf476df5",
    "deepnote_cell_type": "code",
    "deepnote_to_be_reexecuted": false,
    "execution_millis": 10,
    "execution_start": 1702539716061,
    "source_hash": null
   },
   "outputs": [
    {
     "name": "stdout",
     "output_type": "stream",
     "text": [
      "Mean Squared Error: 0.013371863289269646\n",
      "R-squared: 0.6810502795300843\n"
     ]
    }
   ],
   "source": [
    "print(f'Mean Squared Error: {mse}')\n",
    "print(f'R-squared: {r2}')\n"
   ]
  },
  {
   "cell_type": "code",
   "execution_count": null,
   "metadata": {
    "cell_id": "edadb4ca992f4cc69dc7a31688573e28",
    "deepnote_cell_type": "code",
    "deepnote_to_be_reexecuted": false,
    "execution_millis": 309,
    "execution_start": 1702539711884,
    "source_hash": null
   },
   "outputs": [
    {
     "data": {
      "image/png": "[encoded data removed]",
      "text/plain": [
       "<Figure size 640x480 with 1 Axes>"
      ]
     },
     "metadata": {
      "image/png": {
       "height": 455,
       "width": 567
      }
     },
     "output_type": "display_data"
    }
   ],
   "source": [
    "plt.scatter(X_test, y_test, color='black')\n",
    "plt.plot(X_test, y_pred, color='blue', linewidth=3)\n",
    "plt.xlabel('Female Secondary Education')\n",
    "plt.ylabel('Gender Inequality Index')\n",
    "plt.title('Linear Regression: Female Secondary Education vs GII')\n",
    "plt.show()"
   ]
  },
  {
   "cell_type": "markdown",
   "metadata": {
    "cell_id": "e7fabc07f1f64e4397db928e9661512f",
    "deepnote_cell_type": "text-cell-p",
    "formattedRanges": []
   },
   "source": []
  },
  {
   "cell_type": "markdown",
   "metadata": {
    "cell_id": "c8fd6dd7b8e644949238f9d1f4d2e382",
    "deepnote_cell_type": "text-cell-h1",
    "formattedRanges": []
   },
   "source": [
    "# 2) Human Development Classification"
   ]
  },
  {
   "cell_type": "markdown",
   "metadata": {
    "cell_id": "5ef33691819043c394f3c240ed1ed6c3",
    "deepnote_cell_type": "text-cell-p",
    "formattedRanges": []
   },
   "source": [
    "\n",
    "Using machine learning for human development allows us to categorize a country's human development rate based on maternal ma criteria. The primary objective of this machine learning approach is to forecast or classify a country's development rate in the future, recognizing the dynamic nature of these metrics that evolve with changes in civilization and the development of countries over time."
   ]
  },
  {
   "cell_type": "markdown",
   "metadata": {
    "cell_id": "c6de98241a844eb999d6cfc6ffad109f",
    "deepnote_cell_type": "text-cell-p",
    "formattedRanges": []
   },
   "source": []
  },
  {
   "cell_type": "code",
   "execution_count": null,
   "metadata": {
    "cell_id": "6455bac5680f4a87b22d4b59ac3378c8",
    "deepnote_cell_type": "code",
    "deepnote_to_be_reexecuted": false,
    "execution_millis": 10,
    "execution_start": 1702540483056,
    "source_hash": null
   },
   "outputs": [],
   "source": [
    "from sklearn.linear_model import LogisticRegression\n",
    "from sklearn.neighbors import KNeighborsClassifier\n",
    "from sklearn.tree import DecisionTreeClassifier\n",
    "from sklearn.model_selection import train_test_split\n",
    "from sklearn.model_selection import validation_curve"
   ]
  },
  {
   "cell_type": "code",
   "execution_count": null,
   "metadata": {
    "cell_id": "04f91a177ef94f2795d170821dafb3b2",
    "deepnote_cell_type": "code",
    "deepnote_to_be_reexecuted": false,
    "execution_millis": 371,
    "execution_start": 1702540499020,
    "source_hash": null
   },
   "outputs": [
    {
     "data": {
      "application/vnd.deepnote.dataframe.v3+json": {
       "column_count": 10,
       "columns": [
        {
         "dtype": "object",
         "name": "Human_development",
         "stats": {
          "categories": [
           {
            "count": 62,
            "name": "Very high"
           },
           {
            "count": 42,
            "name": "High"
           },
           {
            "count": 66,
            "name": "2 others"
           }
          ],
          "nan_count": 0,
          "unique_count": 4
         }
        },
        {
         "dtype": "float64",
         "name": "GII",
         "stats": {
          "histogram": [
           {
            "bin_end": 0.09369999999999999,
            "bin_start": 0.013,
            "count": 26
           },
           {
            "bin_end": 0.1744,
            "bin_start": 0.09369999999999999,
            "count": 16
           },
           {
            "bin_end": 0.2551,
            "bin_start": 0.1744,
            "count": 17
           },
           {
            "bin_end": 0.3358,
            "bin_start": 0.2551,
            "count": 21
           },
           {
            "bin_end": 0.4165,
            "bin_start": 0.3358,
            "count": 18
           },
           {
            "bin_end": 0.4972,
            "bin_start": 0.4165,
            "count": 26
           },
           {
            "bin_end": 0.5779,
            "bin_start": 0.4972,
            "count": 24
           },
           {
            "bin_end": 0.6586,
            "bin_start": 0.5779,
            "count": 17
           },
           {
            "bin_end": 0.7393,
            "bin_start": 0.6586,
            "count": 4
           },
           {
            "bin_end": 0.82,
            "bin_start": 0.7393,
            "count": 1
           }
          ],
          "max": "0.82",
          "min": "0.013",
          "nan_count": 0,
          "unique_count": 152
         }
        },
        {
         "dtype": "float64",
         "name": "Rank",
         "stats": {
          "histogram": [
           {
            "bin_end": 17.9,
            "bin_start": 1,
            "count": 17
           },
           {
            "bin_end": 34.8,
            "bin_start": 17.9,
            "count": 17
           },
           {
            "bin_end": 51.699999999999996,
            "bin_start": 34.8,
            "count": 17
           },
           {
            "bin_end": 68.6,
            "bin_start": 51.699999999999996,
            "count": 17
           },
           {
            "bin_end": 85.5,
            "bin_start": 68.6,
            "count": 17
           },
           {
            "bin_end": 102.39999999999999,
            "bin_start": 85.5,
            "count": 18
           },
           {
            "bin_end": 119.29999999999998,
            "bin_start": 102.39999999999999,
            "count": 16
           },
           {
            "bin_end": 136.2,
            "bin_start": 119.29999999999998,
            "count": 18
           },
           {
            "bin_end": 153.1,
            "bin_start": 136.2,
            "count": 17
           },
           {
            "bin_end": 170,
            "bin_start": 153.1,
            "count": 16
           }
          ],
          "max": "170.0",
          "min": "1.0",
          "nan_count": 0,
          "unique_count": 152
         }
        },
        {
         "dtype": "float64",
         "name": "Maternal_mortality",
         "stats": {
          "histogram": [
           {
            "bin_end": 116.8,
            "bin_start": 2,
            "count": 109
           },
           {
            "bin_end": 231.6,
            "bin_start": 116.8,
            "count": 22
           },
           {
            "bin_end": 346.4,
            "bin_start": 231.6,
            "count": 11
           },
           {
            "bin_end": 461.2,
            "bin_start": 346.4,
            "count": 8
           },
           {
            "bin_end": 576,
            "bin_start": 461.2,
            "count": 8
           },
           {
            "bin_end": 690.8,
            "bin_start": 576,
            "count": 6
           },
           {
            "bin_end": 805.6,
            "bin_start": 690.8,
            "count": 1
           },
           {
            "bin_end": 920.4,
            "bin_start": 805.6,
            "count": 2
           },
           {
            "bin_end": 1035.2,
            "bin_start": 920.4,
            "count": 0
           },
           {
            "bin_end": 1150,
            "bin_start": 1035.2,
            "count": 3
           }
          ],
          "max": "1150.0",
          "min": "2.0",
          "nan_count": 0,
          "unique_count": 110
         }
        },
        {
         "dtype": "float64",
         "name": "Adolescent_birth_rate",
         "stats": {
          "histogram": [
           {
            "bin_end": 18.759999999999998,
            "bin_start": 1.9,
            "count": 61
           },
           {
            "bin_end": 35.62,
            "bin_start": 18.759999999999998,
            "count": 25
           },
           {
            "bin_end": 52.48,
            "bin_start": 35.62,
            "count": 20
           },
           {
            "bin_end": 69.34,
            "bin_start": 52.48,
            "count": 25
           },
           {
            "bin_end": 86.2,
            "bin_start": 69.34,
            "count": 13
           },
           {
            "bin_end": 103.06,
            "bin_start": 86.2,
            "count": 8
           },
           {
            "bin_end": 119.92,
            "bin_start": 103.06,
            "count": 10
           },
           {
            "bin_end": 136.78,
            "bin_start": 119.92,
            "count": 2
           },
           {
            "bin_end": 153.64000000000001,
            "bin_start": 136.78,
            "count": 3
           },
           {
            "bin_end": 170.5,
            "bin_start": 153.64000000000001,
            "count": 3
           }
          ],
          "max": "170.5",
          "min": "1.9",
          "nan_count": 0,
          "unique_count": 157
         }
        },
        {
         "dtype": "float64",
         "name": "Seats_parliament",
         "stats": {
          "histogram": [
           {
            "bin_end": 5.57,
            "bin_start": 0,
            "count": 10
           },
           {
            "bin_end": 11.14,
            "bin_start": 5.57,
            "count": 10
           },
           {
            "bin_end": 16.71,
            "bin_start": 11.14,
            "count": 23
           },
           {
            "bin_end": 22.28,
            "bin_start": 16.71,
            "count": 33
           },
           {
            "bin_end": 27.85,
            "bin_start": 22.28,
            "count": 28
           },
           {
            "bin_end": 33.42,
            "bin_start": 27.85,
            "count": 19
           },
           {
            "bin_end": 38.99,
            "bin_start": 33.42,
            "count": 18
           },
           {
            "bin_end": 44.56,
            "bin_start": 38.99,
            "count": 16
           },
           {
            "bin_end": 50.13,
            "bin_start": 44.56,
            "count": 10
           },
           {
            "bin_end": 55.7,
            "bin_start": 50.13,
            "count": 3
           }
          ],
          "max": "55.7",
          "min": "0.0",
          "nan_count": 0,
          "unique_count": 146
         }
        },
        {
         "dtype": "float64",
         "name": "F_secondary_educ",
         "stats": {
          "histogram": [
           {
            "bin_end": 15.76,
            "bin_start": 6.4,
            "count": 17
           },
           {
            "bin_end": 25.119999999999997,
            "bin_start": 15.76,
            "count": 9
           },
           {
            "bin_end": 34.48,
            "bin_start": 25.119999999999997,
            "count": 14
           },
           {
            "bin_end": 43.839999999999996,
            "bin_start": 34.48,
            "count": 14
           },
           {
            "bin_end": 53.199999999999996,
            "bin_start": 43.839999999999996,
            "count": 12
           },
           {
            "bin_end": 62.559999999999995,
            "bin_start": 53.199999999999996,
            "count": 15
           },
           {
            "bin_end": 71.92,
            "bin_start": 62.559999999999995,
            "count": 13
           },
           {
            "bin_end": 81.28,
            "bin_start": 71.92,
            "count": 16
           },
           {
            "bin_end": 90.64,
            "bin_start": 81.28,
            "count": 18
           },
           {
            "bin_end": 100,
            "bin_start": 90.64,
            "count": 42
           }
          ],
          "max": "100.0",
          "min": "6.4",
          "nan_count": 0,
          "unique_count": 151
         }
        },
        {
         "dtype": "float64",
         "name": "M_secondary_educ",
         "stats": {
          "histogram": [
           {
            "bin_end": 21.7,
            "bin_start": 13,
            "count": 12
           },
           {
            "bin_end": 30.4,
            "bin_start": 21.7,
            "count": 7
           },
           {
            "bin_end": 39.099999999999994,
            "bin_start": 30.4,
            "count": 14
           },
           {
            "bin_end": 47.8,
            "bin_start": 39.099999999999994,
            "count": 14
           },
           {
            "bin_end": 56.5,
            "bin_start": 47.8,
            "count": 20
           },
           {
            "bin_end": 65.19999999999999,
            "bin_start": 56.5,
            "count": 8
           },
           {
            "bin_end": 73.89999999999999,
            "bin_start": 65.19999999999999,
            "count": 17
           },
           {
            "bin_end": 82.6,
            "bin_start": 73.89999999999999,
            "count": 11
           },
           {
            "bin_end": 91.3,
            "bin_start": 82.6,
            "count": 20
           },
           {
            "bin_end": 100,
            "bin_start": 91.3,
            "count": 47
           }
          ],
          "max": "100.0",
          "min": "13.0",
          "nan_count": 0,
          "unique_count": 147
         }
        },
        {
         "dtype": "float64",
         "name": "F_Labour_force",
         "stats": {
          "histogram": [
           {
            "bin_end": 13.65,
            "bin_start": 6,
            "count": 3
           },
           {
            "bin_end": 21.3,
            "bin_start": 13.65,
            "count": 8
           },
           {
            "bin_end": 28.950000000000003,
            "bin_start": 21.3,
            "count": 5
           },
           {
            "bin_end": 36.6,
            "bin_start": 28.950000000000003,
            "count": 13
           },
           {
            "bin_end": 44.25,
            "bin_start": 36.6,
            "count": 22
           },
           {
            "bin_end": 51.900000000000006,
            "bin_start": 44.25,
            "count": 33
           },
           {
            "bin_end": 59.550000000000004,
            "bin_start": 51.900000000000006,
            "count": 41
           },
           {
            "bin_end": 67.2,
            "bin_start": 59.550000000000004,
            "count": 25
           },
           {
            "bin_end": 74.85000000000001,
            "bin_start": 67.2,
            "count": 13
           },
           {
            "bin_end": 82.5,
            "bin_start": 74.85000000000001,
            "count": 7
           }
          ],
          "max": "82.5",
          "min": "6.0",
          "nan_count": 0,
          "unique_count": 140
         }
        },
        {
         "dtype": "float64",
         "name": "M_Labour_force",
         "stats": {
          "histogram": [
           {
            "bin_end": 49.06,
            "bin_start": 43.9,
            "count": 2
           },
           {
            "bin_end": 54.22,
            "bin_start": 49.06,
            "count": 4
           },
           {
            "bin_end": 59.379999999999995,
            "bin_start": 54.22,
            "count": 9
           },
           {
            "bin_end": 64.53999999999999,
            "bin_start": 59.379999999999995,
            "count": 25
           },
           {
            "bin_end": 69.7,
            "bin_start": 64.53999999999999,
            "count": 45
           },
           {
            "bin_end": 74.86,
            "bin_start": 69.7,
            "count": 38
           },
           {
            "bin_end": 80.02000000000001,
            "bin_start": 74.86,
            "count": 26
           },
           {
            "bin_end": 85.18,
            "bin_start": 80.02000000000001,
            "count": 15
           },
           {
            "bin_end": 90.34,
            "bin_start": 85.18,
            "count": 5
           },
           {
            "bin_end": 95.5,
            "bin_start": 90.34,
            "count": 1
           }
          ],
          "max": "95.5",
          "min": "43.9",
          "nan_count": 0,
          "unique_count": 132
         }
        },
        {
         "dtype": "object",
         "name": "_deepnote_index_column"
        }
       ],
       "row_count": 170,
       "rows": [
        {
         "Adolescent_birth_rate": 2.2,
         "F_Labour_force": 61.7,
         "F_secondary_educ": 96.9,
         "GII": 0.018,
         "Human_development": "Very high",
         "M_Labour_force": 72.7,
         "M_secondary_educ": 97.5,
         "Maternal_mortality": 5,
         "Rank": 3,
         "Seats_parliament": 39.8,
         "_deepnote_index_column": "Switzerland"
        },
        {
         "Adolescent_birth_rate": 2.3,
         "F_Labour_force": 60.3,
         "F_secondary_educ": 99.1,
         "GII": 0.016,
         "Human_development": "Very high",
         "M_Labour_force": 72,
         "M_secondary_educ": 99.3,
         "Maternal_mortality": 2,
         "Rank": 2,
         "Seats_parliament": 45,
         "_deepnote_index_column": "Norway"
        },
        {
         "Adolescent_birth_rate": 5.4,
         "F_Labour_force": 61.7,
         "F_secondary_educ": 99.8,
         "GII": 0.043,
         "Human_development": "Very high",
         "M_Labour_force": 70.5,
         "M_secondary_educ": 99.7,
         "Maternal_mortality": 4,
         "Rank": 8,
         "Seats_parliament": 47.6,
         "_deepnote_index_column": "Iceland"
        },
        {
         "Adolescent_birth_rate": 8.1,
         "F_Labour_force": 61.1,
         "F_secondary_educ": 94.6,
         "GII": 0.073,
         "Human_development": "Very high",
         "M_Labour_force": 70.5,
         "M_secondary_educ": 94.4,
         "Maternal_mortality": 6,
         "Rank": 19,
         "Seats_parliament": 37.9,
         "_deepnote_index_column": "Australia"
        },
        {
         "Adolescent_birth_rate": 1.9,
         "F_Labour_force": 57.7,
         "F_secondary_educ": 95.1,
         "GII": 0.013,
         "Human_development": "Very high",
         "M_Labour_force": 66.7,
         "M_secondary_educ": 95.2,
         "Maternal_mortality": 4,
         "Rank": 1,
         "Seats_parliament": 39.7,
         "_deepnote_index_column": "Denmark"
        },
        {
         "Adolescent_birth_rate": 3.3,
         "F_Labour_force": 61.7,
         "F_secondary_educ": 91.8,
         "GII": 0.023,
         "Human_development": "Very high",
         "M_Labour_force": 68,
         "M_secondary_educ": 92.2,
         "Maternal_mortality": 4,
         "Rank": 4,
         "Seats_parliament": 47,
         "_deepnote_index_column": "Sweden"
        },
        {
         "Adolescent_birth_rate": 5.9,
         "F_Labour_force": 56.5,
         "F_secondary_educ": 88.1,
         "GII": 0.074,
         "Human_development": "Very high",
         "M_Labour_force": 68.6,
         "M_secondary_educ": 86,
         "Maternal_mortality": 5,
         "Rank": 21,
         "Seats_parliament": 27.3,
         "_deepnote_index_column": "Ireland"
        },
        {
         "Adolescent_birth_rate": 7.5,
         "F_Labour_force": 56.8,
         "F_secondary_educ": 96.1,
         "GII": 0.073,
         "Human_development": "Very high",
         "M_Labour_force": 66,
         "M_secondary_educ": 96.5,
         "Maternal_mortality": 7,
         "Rank": 19,
         "Seats_parliament": 34.8,
         "_deepnote_index_column": "Germany"
        },
        {
         "Adolescent_birth_rate": 2.8,
         "F_Labour_force": 62.4,
         "F_secondary_educ": 89.8,
         "GII": 0.025,
         "Human_development": "Very high",
         "M_Labour_force": 71.3,
         "M_secondary_educ": 92.7,
         "Maternal_mortality": 5,
         "Rank": 5,
         "Seats_parliament": 39.1,
         "_deepnote_index_column": "Netherlands"
        },
        {
         "Adolescent_birth_rate": 4.2,
         "F_Labour_force": 56.5,
         "F_secondary_educ": 99,
         "GII": 0.033,
         "Human_development": "Very high",
         "M_Labour_force": 64,
         "M_secondary_educ": 98.5,
         "Maternal_mortality": 3,
         "Rank": 6,
         "Seats_parliament": 46,
         "_deepnote_index_column": "Finland"
        }
       ]
      },
      "text/html": [
       "<div>\n",
       "<style scoped>\n",
       "    .dataframe tbody tr th:only-of-type {\n",
       "        vertical-align: middle;\n",
       "    }\n",
       "\n",
       "    .dataframe tbody tr th {\n",
       "        vertical-align: top;\n",
       "    }\n",
       "\n",
       "    .dataframe thead th {\n",
       "        text-align: right;\n",
       "    }\n",
       "</style>\n",
       "<table border=\"1\" class=\"dataframe\">\n",
       "  <thead>\n",
       "    <tr style=\"text-align: right;\">\n",
       "      <th></th>\n",
       "      <th>Human_development</th>\n",
       "      <th>GII</th>\n",
       "      <th>Rank</th>\n",
       "      <th>Maternal_mortality</th>\n",
       "      <th>Adolescent_birth_rate</th>\n",
       "      <th>Seats_parliament</th>\n",
       "      <th>F_secondary_educ</th>\n",
       "      <th>M_secondary_educ</th>\n",
       "      <th>F_Labour_force</th>\n",
       "      <th>M_Labour_force</th>\n",
       "    </tr>\n",
       "    <tr>\n",
       "      <th>Country</th>\n",
       "      <th></th>\n",
       "      <th></th>\n",
       "      <th></th>\n",
       "      <th></th>\n",
       "      <th></th>\n",
       "      <th></th>\n",
       "      <th></th>\n",
       "      <th></th>\n",
       "      <th></th>\n",
       "      <th></th>\n",
       "    </tr>\n",
       "  </thead>\n",
       "  <tbody>\n",
       "    <tr>\n",
       "      <th>Switzerland</th>\n",
       "      <td>Very high</td>\n",
       "      <td>0.018</td>\n",
       "      <td>3.0</td>\n",
       "      <td>5.0</td>\n",
       "      <td>2.2</td>\n",
       "      <td>39.8</td>\n",
       "      <td>96.9</td>\n",
       "      <td>97.5</td>\n",
       "      <td>61.7</td>\n",
       "      <td>72.7</td>\n",
       "    </tr>\n",
       "    <tr>\n",
       "      <th>Norway</th>\n",
       "      <td>Very high</td>\n",
       "      <td>0.016</td>\n",
       "      <td>2.0</td>\n",
       "      <td>2.0</td>\n",
       "      <td>2.3</td>\n",
       "      <td>45.0</td>\n",
       "      <td>99.1</td>\n",
       "      <td>99.3</td>\n",
       "      <td>60.3</td>\n",
       "      <td>72.0</td>\n",
       "    </tr>\n",
       "    <tr>\n",
       "      <th>Iceland</th>\n",
       "      <td>Very high</td>\n",
       "      <td>0.043</td>\n",
       "      <td>8.0</td>\n",
       "      <td>4.0</td>\n",
       "      <td>5.4</td>\n",
       "      <td>47.6</td>\n",
       "      <td>99.8</td>\n",
       "      <td>99.7</td>\n",
       "      <td>61.7</td>\n",
       "      <td>70.5</td>\n",
       "    </tr>\n",
       "    <tr>\n",
       "      <th>Australia</th>\n",
       "      <td>Very high</td>\n",
       "      <td>0.073</td>\n",
       "      <td>19.0</td>\n",
       "      <td>6.0</td>\n",
       "      <td>8.1</td>\n",
       "      <td>37.9</td>\n",
       "      <td>94.6</td>\n",
       "      <td>94.4</td>\n",
       "      <td>61.1</td>\n",
       "      <td>70.5</td>\n",
       "    </tr>\n",
       "    <tr>\n",
       "      <th>Denmark</th>\n",
       "      <td>Very high</td>\n",
       "      <td>0.013</td>\n",
       "      <td>1.0</td>\n",
       "      <td>4.0</td>\n",
       "      <td>1.9</td>\n",
       "      <td>39.7</td>\n",
       "      <td>95.1</td>\n",
       "      <td>95.2</td>\n",
       "      <td>57.7</td>\n",
       "      <td>66.7</td>\n",
       "    </tr>\n",
       "    <tr>\n",
       "      <th>...</th>\n",
       "      <td>...</td>\n",
       "      <td>...</td>\n",
       "      <td>...</td>\n",
       "      <td>...</td>\n",
       "      <td>...</td>\n",
       "      <td>...</td>\n",
       "      <td>...</td>\n",
       "      <td>...</td>\n",
       "      <td>...</td>\n",
       "      <td>...</td>\n",
       "    </tr>\n",
       "    <tr>\n",
       "      <th>Burundi</th>\n",
       "      <td>Low</td>\n",
       "      <td>0.505</td>\n",
       "      <td>127.0</td>\n",
       "      <td>548.0</td>\n",
       "      <td>53.6</td>\n",
       "      <td>38.9</td>\n",
       "      <td>7.8</td>\n",
       "      <td>13.0</td>\n",
       "      <td>79.0</td>\n",
       "      <td>77.4</td>\n",
       "    </tr>\n",
       "    <tr>\n",
       "      <th>Central African Republic</th>\n",
       "      <td>Low</td>\n",
       "      <td>0.672</td>\n",
       "      <td>166.0</td>\n",
       "      <td>829.0</td>\n",
       "      <td>160.5</td>\n",
       "      <td>12.9</td>\n",
       "      <td>13.9</td>\n",
       "      <td>31.6</td>\n",
       "      <td>63.3</td>\n",
       "      <td>79.5</td>\n",
       "    </tr>\n",
       "    <tr>\n",
       "      <th>Niger</th>\n",
       "      <td>Low</td>\n",
       "      <td>0.611</td>\n",
       "      <td>153.0</td>\n",
       "      <td>509.0</td>\n",
       "      <td>170.5</td>\n",
       "      <td>25.9</td>\n",
       "      <td>9.2</td>\n",
       "      <td>15.2</td>\n",
       "      <td>61.7</td>\n",
       "      <td>84.3</td>\n",
       "    </tr>\n",
       "    <tr>\n",
       "      <th>Chad</th>\n",
       "      <td>Low</td>\n",
       "      <td>0.652</td>\n",
       "      <td>165.0</td>\n",
       "      <td>1140.0</td>\n",
       "      <td>138.3</td>\n",
       "      <td>32.3</td>\n",
       "      <td>7.7</td>\n",
       "      <td>24.4</td>\n",
       "      <td>46.9</td>\n",
       "      <td>69.9</td>\n",
       "    </tr>\n",
       "    <tr>\n",
       "      <th>South Sudan</th>\n",
       "      <td>Low</td>\n",
       "      <td>0.587</td>\n",
       "      <td>150.0</td>\n",
       "      <td>1150.0</td>\n",
       "      <td>99.2</td>\n",
       "      <td>32.3</td>\n",
       "      <td>26.5</td>\n",
       "      <td>36.4</td>\n",
       "      <td>70.4</td>\n",
       "      <td>73.6</td>\n",
       "    </tr>\n",
       "  </tbody>\n",
       "</table>\n",
       "<p>170 rows × 10 columns</p>\n",
       "</div>"
      ],
      "text/plain": [
       "                         Human_development    GII   Rank  Maternal_mortality  \\\n",
       "Country                                                                        \n",
       "Switzerland                      Very high  0.018    3.0                 5.0   \n",
       "Norway                           Very high  0.016    2.0                 2.0   \n",
       "Iceland                          Very high  0.043    8.0                 4.0   \n",
       "Australia                        Very high  0.073   19.0                 6.0   \n",
       "Denmark                          Very high  0.013    1.0                 4.0   \n",
       "...                                    ...    ...    ...                 ...   \n",
       "Burundi                                Low  0.505  127.0               548.0   \n",
       "Central African Republic               Low  0.672  166.0               829.0   \n",
       "Niger                                  Low  0.611  153.0               509.0   \n",
       "Chad                                   Low  0.652  165.0              1140.0   \n",
       "South Sudan                            Low  0.587  150.0              1150.0   \n",
       "\n",
       "                          Adolescent_birth_rate  Seats_parliament  \\\n",
       "Country                                                             \n",
       "Switzerland                                 2.2              39.8   \n",
       "Norway                                      2.3              45.0   \n",
       "Iceland                                     5.4              47.6   \n",
       "Australia                                   8.1              37.9   \n",
       "Denmark                                     1.9              39.7   \n",
       "...                                         ...               ...   \n",
       "Burundi                                    53.6              38.9   \n",
       "Central African Republic                  160.5              12.9   \n",
       "Niger                                     170.5              25.9   \n",
       "Chad                                      138.3              32.3   \n",
       "South Sudan                                99.2              32.3   \n",
       "\n",
       "                          F_secondary_educ  M_secondary_educ  F_Labour_force  \\\n",
       "Country                                                                        \n",
       "Switzerland                           96.9              97.5            61.7   \n",
       "Norway                                99.1              99.3            60.3   \n",
       "Iceland                               99.8              99.7            61.7   \n",
       "Australia                             94.6              94.4            61.1   \n",
       "Denmark                               95.1              95.2            57.7   \n",
       "...                                    ...               ...             ...   \n",
       "Burundi                                7.8              13.0            79.0   \n",
       "Central African Republic              13.9              31.6            63.3   \n",
       "Niger                                  9.2              15.2            61.7   \n",
       "Chad                                   7.7              24.4            46.9   \n",
       "South Sudan                           26.5              36.4            70.4   \n",
       "\n",
       "                          M_Labour_force  \n",
       "Country                                   \n",
       "Switzerland                         72.7  \n",
       "Norway                              72.0  \n",
       "Iceland                             70.5  \n",
       "Australia                           70.5  \n",
       "Denmark                             66.7  \n",
       "...                                  ...  \n",
       "Burundi                             77.4  \n",
       "Central African Republic            79.5  \n",
       "Niger                               84.3  \n",
       "Chad                                69.9  \n",
       "South Sudan                         73.6  \n",
       "\n",
       "[170 rows x 10 columns]"
      ]
     },
     "execution_count": 58,
     "metadata": {},
     "output_type": "execute_result"
    }
   ],
   "source": [
    "df1 = pd.read_csv('Gender_Inequality_Index.csv',index_col=0)\n",
    "df1 = df1.dropna()\n",
    "df1 = df1.drop_duplicates()\n",
    "df1"
   ]
  },
  {
   "cell_type": "code",
   "execution_count": null,
   "metadata": {
    "cell_id": "51e6c831b5f94a6998c506283865060e",
    "deepnote_cell_type": "code",
    "deepnote_to_be_reexecuted": false,
    "execution_millis": 55,
    "execution_start": 1702540503935,
    "source_hash": null
   },
   "outputs": [
    {
     "data": {
      "application/vnd.deepnote.dataframe.v3+json": {
       "column_count": 11,
       "columns": [
        {
         "dtype": "object",
         "name": "Human_development",
         "stats": {
          "categories": [
           {
            "count": 62,
            "name": "Very high"
           },
           {
            "count": 42,
            "name": "High"
           },
           {
            "count": 66,
            "name": "2 others"
           }
          ],
          "nan_count": 0,
          "unique_count": 4
         }
        },
        {
         "dtype": "float64",
         "name": "GII",
         "stats": {
          "histogram": [
           {
            "bin_end": 0.09369999999999999,
            "bin_start": 0.013,
            "count": 26
           },
           {
            "bin_end": 0.1744,
            "bin_start": 0.09369999999999999,
            "count": 16
           },
           {
            "bin_end": 0.2551,
            "bin_start": 0.1744,
            "count": 17
           },
           {
            "bin_end": 0.3358,
            "bin_start": 0.2551,
            "count": 21
           },
           {
            "bin_end": 0.4165,
            "bin_start": 0.3358,
            "count": 18
           },
           {
            "bin_end": 0.4972,
            "bin_start": 0.4165,
            "count": 26
           },
           {
            "bin_end": 0.5779,
            "bin_start": 0.4972,
            "count": 24
           },
           {
            "bin_end": 0.6586,
            "bin_start": 0.5779,
            "count": 17
           },
           {
            "bin_end": 0.7393,
            "bin_start": 0.6586,
            "count": 4
           },
           {
            "bin_end": 0.82,
            "bin_start": 0.7393,
            "count": 1
           }
          ],
          "max": "0.82",
          "min": "0.013",
          "nan_count": 0,
          "unique_count": 152
         }
        },
        {
         "dtype": "float64",
         "name": "Rank",
         "stats": {
          "histogram": [
           {
            "bin_end": 17.9,
            "bin_start": 1,
            "count": 17
           },
           {
            "bin_end": 34.8,
            "bin_start": 17.9,
            "count": 17
           },
           {
            "bin_end": 51.699999999999996,
            "bin_start": 34.8,
            "count": 17
           },
           {
            "bin_end": 68.6,
            "bin_start": 51.699999999999996,
            "count": 17
           },
           {
            "bin_end": 85.5,
            "bin_start": 68.6,
            "count": 17
           },
           {
            "bin_end": 102.39999999999999,
            "bin_start": 85.5,
            "count": 18
           },
           {
            "bin_end": 119.29999999999998,
            "bin_start": 102.39999999999999,
            "count": 16
           },
           {
            "bin_end": 136.2,
            "bin_start": 119.29999999999998,
            "count": 18
           },
           {
            "bin_end": 153.1,
            "bin_start": 136.2,
            "count": 17
           },
           {
            "bin_end": 170,
            "bin_start": 153.1,
            "count": 16
           }
          ],
          "max": "170.0",
          "min": "1.0",
          "nan_count": 0,
          "unique_count": 152
         }
        },
        {
         "dtype": "float64",
         "name": "Maternal_mortality",
         "stats": {
          "histogram": [
           {
            "bin_end": 116.8,
            "bin_start": 2,
            "count": 109
           },
           {
            "bin_end": 231.6,
            "bin_start": 116.8,
            "count": 22
           },
           {
            "bin_end": 346.4,
            "bin_start": 231.6,
            "count": 11
           },
           {
            "bin_end": 461.2,
            "bin_start": 346.4,
            "count": 8
           },
           {
            "bin_end": 576,
            "bin_start": 461.2,
            "count": 8
           },
           {
            "bin_end": 690.8,
            "bin_start": 576,
            "count": 6
           },
           {
            "bin_end": 805.6,
            "bin_start": 690.8,
            "count": 1
           },
           {
            "bin_end": 920.4,
            "bin_start": 805.6,
            "count": 2
           },
           {
            "bin_end": 1035.2,
            "bin_start": 920.4,
            "count": 0
           },
           {
            "bin_end": 1150,
            "bin_start": 1035.2,
            "count": 3
           }
          ],
          "max": "1150.0",
          "min": "2.0",
          "nan_count": 0,
          "unique_count": 110
         }
        },
        {
         "dtype": "float64",
         "name": "Adolescent_birth_rate",
         "stats": {
          "histogram": [
           {
            "bin_end": 18.759999999999998,
            "bin_start": 1.9,
            "count": 61
           },
           {
            "bin_end": 35.62,
            "bin_start": 18.759999999999998,
            "count": 25
           },
           {
            "bin_end": 52.48,
            "bin_start": 35.62,
            "count": 20
           },
           {
            "bin_end": 69.34,
            "bin_start": 52.48,
            "count": 25
           },
           {
            "bin_end": 86.2,
            "bin_start": 69.34,
            "count": 13
           },
           {
            "bin_end": 103.06,
            "bin_start": 86.2,
            "count": 8
           },
           {
            "bin_end": 119.92,
            "bin_start": 103.06,
            "count": 10
           },
           {
            "bin_end": 136.78,
            "bin_start": 119.92,
            "count": 2
           },
           {
            "bin_end": 153.64000000000001,
            "bin_start": 136.78,
            "count": 3
           },
           {
            "bin_end": 170.5,
            "bin_start": 153.64000000000001,
            "count": 3
           }
          ],
          "max": "170.5",
          "min": "1.9",
          "nan_count": 0,
          "unique_count": 157
         }
        },
        {
         "dtype": "float64",
         "name": "Seats_parliament",
         "stats": {
          "histogram": [
           {
            "bin_end": 5.57,
            "bin_start": 0,
            "count": 10
           },
           {
            "bin_end": 11.14,
            "bin_start": 5.57,
            "count": 10
           },
           {
            "bin_end": 16.71,
            "bin_start": 11.14,
            "count": 23
           },
           {
            "bin_end": 22.28,
            "bin_start": 16.71,
            "count": 33
           },
           {
            "bin_end": 27.85,
            "bin_start": 22.28,
            "count": 28
           },
           {
            "bin_end": 33.42,
            "bin_start": 27.85,
            "count": 19
           },
           {
            "bin_end": 38.99,
            "bin_start": 33.42,
            "count": 18
           },
           {
            "bin_end": 44.56,
            "bin_start": 38.99,
            "count": 16
           },
           {
            "bin_end": 50.13,
            "bin_start": 44.56,
            "count": 10
           },
           {
            "bin_end": 55.7,
            "bin_start": 50.13,
            "count": 3
           }
          ],
          "max": "55.7",
          "min": "0.0",
          "nan_count": 0,
          "unique_count": 146
         }
        },
        {
         "dtype": "float64",
         "name": "F_secondary_educ",
         "stats": {
          "histogram": [
           {
            "bin_end": 15.76,
            "bin_start": 6.4,
            "count": 17
           },
           {
            "bin_end": 25.119999999999997,
            "bin_start": 15.76,
            "count": 9
           },
           {
            "bin_end": 34.48,
            "bin_start": 25.119999999999997,
            "count": 14
           },
           {
            "bin_end": 43.839999999999996,
            "bin_start": 34.48,
            "count": 14
           },
           {
            "bin_end": 53.199999999999996,
            "bin_start": 43.839999999999996,
            "count": 12
           },
           {
            "bin_end": 62.559999999999995,
            "bin_start": 53.199999999999996,
            "count": 15
           },
           {
            "bin_end": 71.92,
            "bin_start": 62.559999999999995,
            "count": 13
           },
           {
            "bin_end": 81.28,
            "bin_start": 71.92,
            "count": 16
           },
           {
            "bin_end": 90.64,
            "bin_start": 81.28,
            "count": 18
           },
           {
            "bin_end": 100,
            "bin_start": 90.64,
            "count": 42
           }
          ],
          "max": "100.0",
          "min": "6.4",
          "nan_count": 0,
          "unique_count": 151
         }
        },
        {
         "dtype": "float64",
         "name": "M_secondary_educ",
         "stats": {
          "histogram": [
           {
            "bin_end": 21.7,
            "bin_start": 13,
            "count": 12
           },
           {
            "bin_end": 30.4,
            "bin_start": 21.7,
            "count": 7
           },
           {
            "bin_end": 39.099999999999994,
            "bin_start": 30.4,
            "count": 14
           },
           {
            "bin_end": 47.8,
            "bin_start": 39.099999999999994,
            "count": 14
           },
           {
            "bin_end": 56.5,
            "bin_start": 47.8,
            "count": 20
           },
           {
            "bin_end": 65.19999999999999,
            "bin_start": 56.5,
            "count": 8
           },
           {
            "bin_end": 73.89999999999999,
            "bin_start": 65.19999999999999,
            "count": 17
           },
           {
            "bin_end": 82.6,
            "bin_start": 73.89999999999999,
            "count": 11
           },
           {
            "bin_end": 91.3,
            "bin_start": 82.6,
            "count": 20
           },
           {
            "bin_end": 100,
            "bin_start": 91.3,
            "count": 47
           }
          ],
          "max": "100.0",
          "min": "13.0",
          "nan_count": 0,
          "unique_count": 147
         }
        },
        {
         "dtype": "float64",
         "name": "F_Labour_force",
         "stats": {
          "histogram": [
           {
            "bin_end": 13.65,
            "bin_start": 6,
            "count": 3
           },
           {
            "bin_end": 21.3,
            "bin_start": 13.65,
            "count": 8
           },
           {
            "bin_end": 28.950000000000003,
            "bin_start": 21.3,
            "count": 5
           },
           {
            "bin_end": 36.6,
            "bin_start": 28.950000000000003,
            "count": 13
           },
           {
            "bin_end": 44.25,
            "bin_start": 36.6,
            "count": 22
           },
           {
            "bin_end": 51.900000000000006,
            "bin_start": 44.25,
            "count": 33
           },
           {
            "bin_end": 59.550000000000004,
            "bin_start": 51.900000000000006,
            "count": 41
           },
           {
            "bin_end": 67.2,
            "bin_start": 59.550000000000004,
            "count": 25
           },
           {
            "bin_end": 74.85000000000001,
            "bin_start": 67.2,
            "count": 13
           },
           {
            "bin_end": 82.5,
            "bin_start": 74.85000000000001,
            "count": 7
           }
          ],
          "max": "82.5",
          "min": "6.0",
          "nan_count": 0,
          "unique_count": 140
         }
        },
        {
         "dtype": "float64",
         "name": "M_Labour_force",
         "stats": {
          "histogram": [
           {
            "bin_end": 49.06,
            "bin_start": 43.9,
            "count": 2
           },
           {
            "bin_end": 54.22,
            "bin_start": 49.06,
            "count": 4
           },
           {
            "bin_end": 59.379999999999995,
            "bin_start": 54.22,
            "count": 9
           },
           {
            "bin_end": 64.53999999999999,
            "bin_start": 59.379999999999995,
            "count": 25
           },
           {
            "bin_end": 69.7,
            "bin_start": 64.53999999999999,
            "count": 45
           },
           {
            "bin_end": 74.86,
            "bin_start": 69.7,
            "count": 38
           },
           {
            "bin_end": 80.02000000000001,
            "bin_start": 74.86,
            "count": 26
           },
           {
            "bin_end": 85.18,
            "bin_start": 80.02000000000001,
            "count": 15
           },
           {
            "bin_end": 90.34,
            "bin_start": 85.18,
            "count": 5
           },
           {
            "bin_end": 95.5,
            "bin_start": 90.34,
            "count": 1
           }
          ],
          "max": "95.5",
          "min": "43.9",
          "nan_count": 0,
          "unique_count": 132
         }
        },
        {
         "dtype": "int64",
         "name": "Human_development_int",
         "stats": {
          "histogram": [
           {
            "bin_end": 1.3,
            "bin_start": 1,
            "count": 62
           },
           {
            "bin_end": 1.6,
            "bin_start": 1.3,
            "count": 0
           },
           {
            "bin_end": 1.9,
            "bin_start": 1.6,
            "count": 0
           },
           {
            "bin_end": 2.2,
            "bin_start": 1.9,
            "count": 42
           },
           {
            "bin_end": 2.5,
            "bin_start": 2.2,
            "count": 0
           },
           {
            "bin_end": 2.8,
            "bin_start": 2.5,
            "count": 0
           },
           {
            "bin_end": 3.1,
            "bin_start": 2.8,
            "count": 36
           },
           {
            "bin_end": 3.4,
            "bin_start": 3.1,
            "count": 0
           },
           {
            "bin_end": 3.6999999999999997,
            "bin_start": 3.4,
            "count": 0
           },
           {
            "bin_end": 4,
            "bin_start": 3.6999999999999997,
            "count": 30
           }
          ],
          "max": "4",
          "min": "1",
          "nan_count": 0,
          "unique_count": 4
         }
        },
        {
         "dtype": "object",
         "name": "_deepnote_index_column"
        }
       ],
       "row_count": 170,
       "rows": [
        {
         "Adolescent_birth_rate": 2.2,
         "F_Labour_force": 61.7,
         "F_secondary_educ": 96.9,
         "GII": 0.018,
         "Human_development": "Very high",
         "Human_development_int": 1,
         "M_Labour_force": 72.7,
         "M_secondary_educ": 97.5,
         "Maternal_mortality": 5,
         "Rank": 3,
         "Seats_parliament": 39.8,
         "_deepnote_index_column": "Switzerland"
        },
        {
         "Adolescent_birth_rate": 2.3,
         "F_Labour_force": 60.3,
         "F_secondary_educ": 99.1,
         "GII": 0.016,
         "Human_development": "Very high",
         "Human_development_int": 1,
         "M_Labour_force": 72,
         "M_secondary_educ": 99.3,
         "Maternal_mortality": 2,
         "Rank": 2,
         "Seats_parliament": 45,
         "_deepnote_index_column": "Norway"
        },
        {
         "Adolescent_birth_rate": 5.4,
         "F_Labour_force": 61.7,
         "F_secondary_educ": 99.8,
         "GII": 0.043,
         "Human_development": "Very high",
         "Human_development_int": 1,
         "M_Labour_force": 70.5,
         "M_secondary_educ": 99.7,
         "Maternal_mortality": 4,
         "Rank": 8,
         "Seats_parliament": 47.6,
         "_deepnote_index_column": "Iceland"
        },
        {
         "Adolescent_birth_rate": 8.1,
         "F_Labour_force": 61.1,
         "F_secondary_educ": 94.6,
         "GII": 0.073,
         "Human_development": "Very high",
         "Human_development_int": 1,
         "M_Labour_force": 70.5,
         "M_secondary_educ": 94.4,
         "Maternal_mortality": 6,
         "Rank": 19,
         "Seats_parliament": 37.9,
         "_deepnote_index_column": "Australia"
        },
        {
         "Adolescent_birth_rate": 1.9,
         "F_Labour_force": 57.7,
         "F_secondary_educ": 95.1,
         "GII": 0.013,
         "Human_development": "Very high",
         "Human_development_int": 1,
         "M_Labour_force": 66.7,
         "M_secondary_educ": 95.2,
         "Maternal_mortality": 4,
         "Rank": 1,
         "Seats_parliament": 39.7,
         "_deepnote_index_column": "Denmark"
        },
        {
         "Adolescent_birth_rate": 3.3,
         "F_Labour_force": 61.7,
         "F_secondary_educ": 91.8,
         "GII": 0.023,
         "Human_development": "Very high",
         "Human_development_int": 1,
         "M_Labour_force": 68,
         "M_secondary_educ": 92.2,
         "Maternal_mortality": 4,
         "Rank": 4,
         "Seats_parliament": 47,
         "_deepnote_index_column": "Sweden"
        },
        {
         "Adolescent_birth_rate": 5.9,
         "F_Labour_force": 56.5,
         "F_secondary_educ": 88.1,
         "GII": 0.074,
         "Human_development": "Very high",
         "Human_development_int": 1,
         "M_Labour_force": 68.6,
         "M_secondary_educ": 86,
         "Maternal_mortality": 5,
         "Rank": 21,
         "Seats_parliament": 27.3,
         "_deepnote_index_column": "Ireland"
        },
        {
         "Adolescent_birth_rate": 7.5,
         "F_Labour_force": 56.8,
         "F_secondary_educ": 96.1,
         "GII": 0.073,
         "Human_development": "Very high",
         "Human_development_int": 1,
         "M_Labour_force": 66,
         "M_secondary_educ": 96.5,
         "Maternal_mortality": 7,
         "Rank": 19,
         "Seats_parliament": 34.8,
         "_deepnote_index_column": "Germany"
        },
        {
         "Adolescent_birth_rate": 2.8,
         "F_Labour_force": 62.4,
         "F_secondary_educ": 89.8,
         "GII": 0.025,
         "Human_development": "Very high",
         "Human_development_int": 1,
         "M_Labour_force": 71.3,
         "M_secondary_educ": 92.7,
         "Maternal_mortality": 5,
         "Rank": 5,
         "Seats_parliament": 39.1,
         "_deepnote_index_column": "Netherlands"
        },
        {
         "Adolescent_birth_rate": 4.2,
         "F_Labour_force": 56.5,
         "F_secondary_educ": 99,
         "GII": 0.033,
         "Human_development": "Very high",
         "Human_development_int": 1,
         "M_Labour_force": 64,
         "M_secondary_educ": 98.5,
         "Maternal_mortality": 3,
         "Rank": 6,
         "Seats_parliament": 46,
         "_deepnote_index_column": "Finland"
        }
       ]
      },
      "text/html": [
       "<div>\n",
       "<style scoped>\n",
       "    .dataframe tbody tr th:only-of-type {\n",
       "        vertical-align: middle;\n",
       "    }\n",
       "\n",
       "    .dataframe tbody tr th {\n",
       "        vertical-align: top;\n",
       "    }\n",
       "\n",
       "    .dataframe thead th {\n",
       "        text-align: right;\n",
       "    }\n",
       "</style>\n",
       "<table border=\"1\" class=\"dataframe\">\n",
       "  <thead>\n",
       "    <tr style=\"text-align: right;\">\n",
       "      <th></th>\n",
       "      <th>Human_development</th>\n",
       "      <th>GII</th>\n",
       "      <th>Rank</th>\n",
       "      <th>Maternal_mortality</th>\n",
       "      <th>Adolescent_birth_rate</th>\n",
       "      <th>Seats_parliament</th>\n",
       "      <th>F_secondary_educ</th>\n",
       "      <th>M_secondary_educ</th>\n",
       "      <th>F_Labour_force</th>\n",
       "      <th>M_Labour_force</th>\n",
       "      <th>Human_development_int</th>\n",
       "    </tr>\n",
       "    <tr>\n",
       "      <th>Country</th>\n",
       "      <th></th>\n",
       "      <th></th>\n",
       "      <th></th>\n",
       "      <th></th>\n",
       "      <th></th>\n",
       "      <th></th>\n",
       "      <th></th>\n",
       "      <th></th>\n",
       "      <th></th>\n",
       "      <th></th>\n",
       "      <th></th>\n",
       "    </tr>\n",
       "  </thead>\n",
       "  <tbody>\n",
       "    <tr>\n",
       "      <th>Switzerland</th>\n",
       "      <td>Very high</td>\n",
       "      <td>0.018</td>\n",
       "      <td>3.0</td>\n",
       "      <td>5.0</td>\n",
       "      <td>2.2</td>\n",
       "      <td>39.8</td>\n",
       "      <td>96.9</td>\n",
       "      <td>97.5</td>\n",
       "      <td>61.7</td>\n",
       "      <td>72.7</td>\n",
       "      <td>1</td>\n",
       "    </tr>\n",
       "    <tr>\n",
       "      <th>Norway</th>\n",
       "      <td>Very high</td>\n",
       "      <td>0.016</td>\n",
       "      <td>2.0</td>\n",
       "      <td>2.0</td>\n",
       "      <td>2.3</td>\n",
       "      <td>45.0</td>\n",
       "      <td>99.1</td>\n",
       "      <td>99.3</td>\n",
       "      <td>60.3</td>\n",
       "      <td>72.0</td>\n",
       "      <td>1</td>\n",
       "    </tr>\n",
       "    <tr>\n",
       "      <th>Iceland</th>\n",
       "      <td>Very high</td>\n",
       "      <td>0.043</td>\n",
       "      <td>8.0</td>\n",
       "      <td>4.0</td>\n",
       "      <td>5.4</td>\n",
       "      <td>47.6</td>\n",
       "      <td>99.8</td>\n",
       "      <td>99.7</td>\n",
       "      <td>61.7</td>\n",
       "      <td>70.5</td>\n",
       "      <td>1</td>\n",
       "    </tr>\n",
       "    <tr>\n",
       "      <th>Australia</th>\n",
       "      <td>Very high</td>\n",
       "      <td>0.073</td>\n",
       "      <td>19.0</td>\n",
       "      <td>6.0</td>\n",
       "      <td>8.1</td>\n",
       "      <td>37.9</td>\n",
       "      <td>94.6</td>\n",
       "      <td>94.4</td>\n",
       "      <td>61.1</td>\n",
       "      <td>70.5</td>\n",
       "      <td>1</td>\n",
       "    </tr>\n",
       "    <tr>\n",
       "      <th>Denmark</th>\n",
       "      <td>Very high</td>\n",
       "      <td>0.013</td>\n",
       "      <td>1.0</td>\n",
       "      <td>4.0</td>\n",
       "      <td>1.9</td>\n",
       "      <td>39.7</td>\n",
       "      <td>95.1</td>\n",
       "      <td>95.2</td>\n",
       "      <td>57.7</td>\n",
       "      <td>66.7</td>\n",
       "      <td>1</td>\n",
       "    </tr>\n",
       "    <tr>\n",
       "      <th>...</th>\n",
       "      <td>...</td>\n",
       "      <td>...</td>\n",
       "      <td>...</td>\n",
       "      <td>...</td>\n",
       "      <td>...</td>\n",
       "      <td>...</td>\n",
       "      <td>...</td>\n",
       "      <td>...</td>\n",
       "      <td>...</td>\n",
       "      <td>...</td>\n",
       "      <td>...</td>\n",
       "    </tr>\n",
       "    <tr>\n",
       "      <th>Burundi</th>\n",
       "      <td>Low</td>\n",
       "      <td>0.505</td>\n",
       "      <td>127.0</td>\n",
       "      <td>548.0</td>\n",
       "      <td>53.6</td>\n",
       "      <td>38.9</td>\n",
       "      <td>7.8</td>\n",
       "      <td>13.0</td>\n",
       "      <td>79.0</td>\n",
       "      <td>77.4</td>\n",
       "      <td>4</td>\n",
       "    </tr>\n",
       "    <tr>\n",
       "      <th>Central African Republic</th>\n",
       "      <td>Low</td>\n",
       "      <td>0.672</td>\n",
       "      <td>166.0</td>\n",
       "      <td>829.0</td>\n",
       "      <td>160.5</td>\n",
       "      <td>12.9</td>\n",
       "      <td>13.9</td>\n",
       "      <td>31.6</td>\n",
       "      <td>63.3</td>\n",
       "      <td>79.5</td>\n",
       "      <td>4</td>\n",
       "    </tr>\n",
       "    <tr>\n",
       "      <th>Niger</th>\n",
       "      <td>Low</td>\n",
       "      <td>0.611</td>\n",
       "      <td>153.0</td>\n",
       "      <td>509.0</td>\n",
       "      <td>170.5</td>\n",
       "      <td>25.9</td>\n",
       "      <td>9.2</td>\n",
       "      <td>15.2</td>\n",
       "      <td>61.7</td>\n",
       "      <td>84.3</td>\n",
       "      <td>4</td>\n",
       "    </tr>\n",
       "    <tr>\n",
       "      <th>Chad</th>\n",
       "      <td>Low</td>\n",
       "      <td>0.652</td>\n",
       "      <td>165.0</td>\n",
       "      <td>1140.0</td>\n",
       "      <td>138.3</td>\n",
       "      <td>32.3</td>\n",
       "      <td>7.7</td>\n",
       "      <td>24.4</td>\n",
       "      <td>46.9</td>\n",
       "      <td>69.9</td>\n",
       "      <td>4</td>\n",
       "    </tr>\n",
       "    <tr>\n",
       "      <th>South Sudan</th>\n",
       "      <td>Low</td>\n",
       "      <td>0.587</td>\n",
       "      <td>150.0</td>\n",
       "      <td>1150.0</td>\n",
       "      <td>99.2</td>\n",
       "      <td>32.3</td>\n",
       "      <td>26.5</td>\n",
       "      <td>36.4</td>\n",
       "      <td>70.4</td>\n",
       "      <td>73.6</td>\n",
       "      <td>4</td>\n",
       "    </tr>\n",
       "  </tbody>\n",
       "</table>\n",
       "<p>170 rows × 11 columns</p>\n",
       "</div>"
      ],
      "text/plain": [
       "                         Human_development    GII   Rank  Maternal_mortality  \\\n",
       "Country                                                                        \n",
       "Switzerland                      Very high  0.018    3.0                 5.0   \n",
       "Norway                           Very high  0.016    2.0                 2.0   \n",
       "Iceland                          Very high  0.043    8.0                 4.0   \n",
       "Australia                        Very high  0.073   19.0                 6.0   \n",
       "Denmark                          Very high  0.013    1.0                 4.0   \n",
       "...                                    ...    ...    ...                 ...   \n",
       "Burundi                                Low  0.505  127.0               548.0   \n",
       "Central African Republic               Low  0.672  166.0               829.0   \n",
       "Niger                                  Low  0.611  153.0               509.0   \n",
       "Chad                                   Low  0.652  165.0              1140.0   \n",
       "South Sudan                            Low  0.587  150.0              1150.0   \n",
       "\n",
       "                          Adolescent_birth_rate  Seats_parliament  \\\n",
       "Country                                                             \n",
       "Switzerland                                 2.2              39.8   \n",
       "Norway                                      2.3              45.0   \n",
       "Iceland                                     5.4              47.6   \n",
       "Australia                                   8.1              37.9   \n",
       "Denmark                                     1.9              39.7   \n",
       "...                                         ...               ...   \n",
       "Burundi                                    53.6              38.9   \n",
       "Central African Republic                  160.5              12.9   \n",
       "Niger                                     170.5              25.9   \n",
       "Chad                                      138.3              32.3   \n",
       "South Sudan                                99.2              32.3   \n",
       "\n",
       "                          F_secondary_educ  M_secondary_educ  F_Labour_force  \\\n",
       "Country                                                                        \n",
       "Switzerland                           96.9              97.5            61.7   \n",
       "Norway                                99.1              99.3            60.3   \n",
       "Iceland                               99.8              99.7            61.7   \n",
       "Australia                             94.6              94.4            61.1   \n",
       "Denmark                               95.1              95.2            57.7   \n",
       "...                                    ...               ...             ...   \n",
       "Burundi                                7.8              13.0            79.0   \n",
       "Central African Republic              13.9              31.6            63.3   \n",
       "Niger                                  9.2              15.2            61.7   \n",
       "Chad                                   7.7              24.4            46.9   \n",
       "South Sudan                           26.5              36.4            70.4   \n",
       "\n",
       "                          M_Labour_force  Human_development_int  \n",
       "Country                                                          \n",
       "Switzerland                         72.7                      1  \n",
       "Norway                              72.0                      1  \n",
       "Iceland                             70.5                      1  \n",
       "Australia                           70.5                      1  \n",
       "Denmark                             66.7                      1  \n",
       "...                                  ...                    ...  \n",
       "Burundi                             77.4                      4  \n",
       "Central African Republic            79.5                      4  \n",
       "Niger                               84.3                      4  \n",
       "Chad                                69.9                      4  \n",
       "South Sudan                         73.6                      4  \n",
       "\n",
       "[170 rows x 11 columns]"
      ]
     },
     "execution_count": 59,
     "metadata": {},
     "output_type": "execute_result"
    }
   ],
   "source": [
    "development_mapping = {\n",
    "    \"Very high\":1,\n",
    "    \"High\": 2,\n",
    "    \"Medium\": 3,\n",
    "    \"Low\": 4\n",
    "}\n",
    "\n",
    "df1['Human_development_int'] = df1['Human_development'].map(development_mapping)\n",
    "df1"
   ]
  },
  {
   "cell_type": "code",
   "execution_count": null,
   "metadata": {
    "cell_id": "d9029c67cef54db086995957c617d5f6",
    "deepnote_cell_type": "code",
    "deepnote_to_be_reexecuted": false,
    "execution_millis": 78,
    "execution_start": 1702540509323,
    "source_hash": null
   },
   "outputs": [
    {
     "data": {
      "application/vnd.deepnote.dataframe.v3+json": {
       "column_count": 10,
       "columns": [
        {
         "dtype": "float64",
         "name": "GII",
         "stats": {
          "histogram": [
           {
            "bin_end": 0.09369999999999999,
            "bin_start": 0.013,
            "count": 26
           },
           {
            "bin_end": 0.1744,
            "bin_start": 0.09369999999999999,
            "count": 16
           },
           {
            "bin_end": 0.2551,
            "bin_start": 0.1744,
            "count": 17
           },
           {
            "bin_end": 0.3358,
            "bin_start": 0.2551,
            "count": 21
           },
           {
            "bin_end": 0.4165,
            "bin_start": 0.3358,
            "count": 18
           },
           {
            "bin_end": 0.4972,
            "bin_start": 0.4165,
            "count": 26
           },
           {
            "bin_end": 0.5779,
            "bin_start": 0.4972,
            "count": 24
           },
           {
            "bin_end": 0.6586,
            "bin_start": 0.5779,
            "count": 17
           },
           {
            "bin_end": 0.7393,
            "bin_start": 0.6586,
            "count": 4
           },
           {
            "bin_end": 0.82,
            "bin_start": 0.7393,
            "count": 1
           }
          ],
          "max": "0.82",
          "min": "0.013",
          "nan_count": 0,
          "unique_count": 152
         }
        },
        {
         "dtype": "float64",
         "name": "Rank",
         "stats": {
          "histogram": [
           {
            "bin_end": 17.9,
            "bin_start": 1,
            "count": 17
           },
           {
            "bin_end": 34.8,
            "bin_start": 17.9,
            "count": 17
           },
           {
            "bin_end": 51.699999999999996,
            "bin_start": 34.8,
            "count": 17
           },
           {
            "bin_end": 68.6,
            "bin_start": 51.699999999999996,
            "count": 17
           },
           {
            "bin_end": 85.5,
            "bin_start": 68.6,
            "count": 17
           },
           {
            "bin_end": 102.39999999999999,
            "bin_start": 85.5,
            "count": 18
           },
           {
            "bin_end": 119.29999999999998,
            "bin_start": 102.39999999999999,
            "count": 16
           },
           {
            "bin_end": 136.2,
            "bin_start": 119.29999999999998,
            "count": 18
           },
           {
            "bin_end": 153.1,
            "bin_start": 136.2,
            "count": 17
           },
           {
            "bin_end": 170,
            "bin_start": 153.1,
            "count": 16
           }
          ],
          "max": "170.0",
          "min": "1.0",
          "nan_count": 0,
          "unique_count": 152
         }
        },
        {
         "dtype": "float64",
         "name": "Maternal_mortality",
         "stats": {
          "histogram": [
           {
            "bin_end": 116.8,
            "bin_start": 2,
            "count": 109
           },
           {
            "bin_end": 231.6,
            "bin_start": 116.8,
            "count": 22
           },
           {
            "bin_end": 346.4,
            "bin_start": 231.6,
            "count": 11
           },
           {
            "bin_end": 461.2,
            "bin_start": 346.4,
            "count": 8
           },
           {
            "bin_end": 576,
            "bin_start": 461.2,
            "count": 8
           },
           {
            "bin_end": 690.8,
            "bin_start": 576,
            "count": 6
           },
           {
            "bin_end": 805.6,
            "bin_start": 690.8,
            "count": 1
           },
           {
            "bin_end": 920.4,
            "bin_start": 805.6,
            "count": 2
           },
           {
            "bin_end": 1035.2,
            "bin_start": 920.4,
            "count": 0
           },
           {
            "bin_end": 1150,
            "bin_start": 1035.2,
            "count": 3
           }
          ],
          "max": "1150.0",
          "min": "2.0",
          "nan_count": 0,
          "unique_count": 110
         }
        },
        {
         "dtype": "float64",
         "name": "Adolescent_birth_rate",
         "stats": {
          "histogram": [
           {
            "bin_end": 18.759999999999998,
            "bin_start": 1.9,
            "count": 61
           },
           {
            "bin_end": 35.62,
            "bin_start": 18.759999999999998,
            "count": 25
           },
           {
            "bin_end": 52.48,
            "bin_start": 35.62,
            "count": 20
           },
           {
            "bin_end": 69.34,
            "bin_start": 52.48,
            "count": 25
           },
           {
            "bin_end": 86.2,
            "bin_start": 69.34,
            "count": 13
           },
           {
            "bin_end": 103.06,
            "bin_start": 86.2,
            "count": 8
           },
           {
            "bin_end": 119.92,
            "bin_start": 103.06,
            "count": 10
           },
           {
            "bin_end": 136.78,
            "bin_start": 119.92,
            "count": 2
           },
           {
            "bin_end": 153.64000000000001,
            "bin_start": 136.78,
            "count": 3
           },
           {
            "bin_end": 170.5,
            "bin_start": 153.64000000000001,
            "count": 3
           }
          ],
          "max": "170.5",
          "min": "1.9",
          "nan_count": 0,
          "unique_count": 157
         }
        },
        {
         "dtype": "float64",
         "name": "Seats_parliament",
         "stats": {
          "histogram": [
           {
            "bin_end": 5.57,
            "bin_start": 0,
            "count": 10
           },
           {
            "bin_end": 11.14,
            "bin_start": 5.57,
            "count": 10
           },
           {
            "bin_end": 16.71,
            "bin_start": 11.14,
            "count": 23
           },
           {
            "bin_end": 22.28,
            "bin_start": 16.71,
            "count": 33
           },
           {
            "bin_end": 27.85,
            "bin_start": 22.28,
            "count": 28
           },
           {
            "bin_end": 33.42,
            "bin_start": 27.85,
            "count": 19
           },
           {
            "bin_end": 38.99,
            "bin_start": 33.42,
            "count": 18
           },
           {
            "bin_end": 44.56,
            "bin_start": 38.99,
            "count": 16
           },
           {
            "bin_end": 50.13,
            "bin_start": 44.56,
            "count": 10
           },
           {
            "bin_end": 55.7,
            "bin_start": 50.13,
            "count": 3
           }
          ],
          "max": "55.7",
          "min": "0.0",
          "nan_count": 0,
          "unique_count": 146
         }
        },
        {
         "dtype": "float64",
         "name": "F_secondary_educ",
         "stats": {
          "histogram": [
           {
            "bin_end": 15.76,
            "bin_start": 6.4,
            "count": 17
           },
           {
            "bin_end": 25.119999999999997,
            "bin_start": 15.76,
            "count": 9
           },
           {
            "bin_end": 34.48,
            "bin_start": 25.119999999999997,
            "count": 14
           },
           {
            "bin_end": 43.839999999999996,
            "bin_start": 34.48,
            "count": 14
           },
           {
            "bin_end": 53.199999999999996,
            "bin_start": 43.839999999999996,
            "count": 12
           },
           {
            "bin_end": 62.559999999999995,
            "bin_start": 53.199999999999996,
            "count": 15
           },
           {
            "bin_end": 71.92,
            "bin_start": 62.559999999999995,
            "count": 13
           },
           {
            "bin_end": 81.28,
            "bin_start": 71.92,
            "count": 16
           },
           {
            "bin_end": 90.64,
            "bin_start": 81.28,
            "count": 18
           },
           {
            "bin_end": 100,
            "bin_start": 90.64,
            "count": 42
           }
          ],
          "max": "100.0",
          "min": "6.4",
          "nan_count": 0,
          "unique_count": 151
         }
        },
        {
         "dtype": "float64",
         "name": "M_secondary_educ",
         "stats": {
          "histogram": [
           {
            "bin_end": 21.7,
            "bin_start": 13,
            "count": 12
           },
           {
            "bin_end": 30.4,
            "bin_start": 21.7,
            "count": 7
           },
           {
            "bin_end": 39.099999999999994,
            "bin_start": 30.4,
            "count": 14
           },
           {
            "bin_end": 47.8,
            "bin_start": 39.099999999999994,
            "count": 14
           },
           {
            "bin_end": 56.5,
            "bin_start": 47.8,
            "count": 20
           },
           {
            "bin_end": 65.19999999999999,
            "bin_start": 56.5,
            "count": 8
           },
           {
            "bin_end": 73.89999999999999,
            "bin_start": 65.19999999999999,
            "count": 17
           },
           {
            "bin_end": 82.6,
            "bin_start": 73.89999999999999,
            "count": 11
           },
           {
            "bin_end": 91.3,
            "bin_start": 82.6,
            "count": 20
           },
           {
            "bin_end": 100,
            "bin_start": 91.3,
            "count": 47
           }
          ],
          "max": "100.0",
          "min": "13.0",
          "nan_count": 0,
          "unique_count": 147
         }
        },
        {
         "dtype": "float64",
         "name": "F_Labour_force",
         "stats": {
          "histogram": [
           {
            "bin_end": 13.65,
            "bin_start": 6,
            "count": 3
           },
           {
            "bin_end": 21.3,
            "bin_start": 13.65,
            "count": 8
           },
           {
            "bin_end": 28.950000000000003,
            "bin_start": 21.3,
            "count": 5
           },
           {
            "bin_end": 36.6,
            "bin_start": 28.950000000000003,
            "count": 13
           },
           {
            "bin_end": 44.25,
            "bin_start": 36.6,
            "count": 22
           },
           {
            "bin_end": 51.900000000000006,
            "bin_start": 44.25,
            "count": 33
           },
           {
            "bin_end": 59.550000000000004,
            "bin_start": 51.900000000000006,
            "count": 41
           },
           {
            "bin_end": 67.2,
            "bin_start": 59.550000000000004,
            "count": 25
           },
           {
            "bin_end": 74.85000000000001,
            "bin_start": 67.2,
            "count": 13
           },
           {
            "bin_end": 82.5,
            "bin_start": 74.85000000000001,
            "count": 7
           }
          ],
          "max": "82.5",
          "min": "6.0",
          "nan_count": 0,
          "unique_count": 140
         }
        },
        {
         "dtype": "float64",
         "name": "M_Labour_force",
         "stats": {
          "histogram": [
           {
            "bin_end": 49.06,
            "bin_start": 43.9,
            "count": 2
           },
           {
            "bin_end": 54.22,
            "bin_start": 49.06,
            "count": 4
           },
           {
            "bin_end": 59.379999999999995,
            "bin_start": 54.22,
            "count": 9
           },
           {
            "bin_end": 64.53999999999999,
            "bin_start": 59.379999999999995,
            "count": 25
           },
           {
            "bin_end": 69.7,
            "bin_start": 64.53999999999999,
            "count": 45
           },
           {
            "bin_end": 74.86,
            "bin_start": 69.7,
            "count": 38
           },
           {
            "bin_end": 80.02000000000001,
            "bin_start": 74.86,
            "count": 26
           },
           {
            "bin_end": 85.18,
            "bin_start": 80.02000000000001,
            "count": 15
           },
           {
            "bin_end": 90.34,
            "bin_start": 85.18,
            "count": 5
           },
           {
            "bin_end": 95.5,
            "bin_start": 90.34,
            "count": 1
           }
          ],
          "max": "95.5",
          "min": "43.9",
          "nan_count": 0,
          "unique_count": 132
         }
        },
        {
         "dtype": "int64",
         "name": "Human_development_int",
         "stats": {
          "histogram": [
           {
            "bin_end": 1.3,
            "bin_start": 1,
            "count": 62
           },
           {
            "bin_end": 1.6,
            "bin_start": 1.3,
            "count": 0
           },
           {
            "bin_end": 1.9,
            "bin_start": 1.6,
            "count": 0
           },
           {
            "bin_end": 2.2,
            "bin_start": 1.9,
            "count": 42
           },
           {
            "bin_end": 2.5,
            "bin_start": 2.2,
            "count": 0
           },
           {
            "bin_end": 2.8,
            "bin_start": 2.5,
            "count": 0
           },
           {
            "bin_end": 3.1,
            "bin_start": 2.8,
            "count": 36
           },
           {
            "bin_end": 3.4,
            "bin_start": 3.1,
            "count": 0
           },
           {
            "bin_end": 3.6999999999999997,
            "bin_start": 3.4,
            "count": 0
           },
           {
            "bin_end": 4,
            "bin_start": 3.6999999999999997,
            "count": 30
           }
          ],
          "max": "4",
          "min": "1",
          "nan_count": 0,
          "unique_count": 4
         }
        },
        {
         "dtype": "object",
         "name": "_deepnote_index_column"
        }
       ],
       "row_count": 170,
       "rows": [
        {
         "Adolescent_birth_rate": 2.2,
         "F_Labour_force": 61.7,
         "F_secondary_educ": 96.9,
         "GII": 0.018,
         "Human_development_int": 1,
         "M_Labour_force": 72.7,
         "M_secondary_educ": 97.5,
         "Maternal_mortality": 5,
         "Rank": 3,
         "Seats_parliament": 39.8,
         "_deepnote_index_column": "Switzerland"
        },
        {
         "Adolescent_birth_rate": 2.3,
         "F_Labour_force": 60.3,
         "F_secondary_educ": 99.1,
         "GII": 0.016,
         "Human_development_int": 1,
         "M_Labour_force": 72,
         "M_secondary_educ": 99.3,
         "Maternal_mortality": 2,
         "Rank": 2,
         "Seats_parliament": 45,
         "_deepnote_index_column": "Norway"
        },
        {
         "Adolescent_birth_rate": 5.4,
         "F_Labour_force": 61.7,
         "F_secondary_educ": 99.8,
         "GII": 0.043,
         "Human_development_int": 1,
         "M_Labour_force": 70.5,
         "M_secondary_educ": 99.7,
         "Maternal_mortality": 4,
         "Rank": 8,
         "Seats_parliament": 47.6,
         "_deepnote_index_column": "Iceland"
        },
        {
         "Adolescent_birth_rate": 8.1,
         "F_Labour_force": 61.1,
         "F_secondary_educ": 94.6,
         "GII": 0.073,
         "Human_development_int": 1,
         "M_Labour_force": 70.5,
         "M_secondary_educ": 94.4,
         "Maternal_mortality": 6,
         "Rank": 19,
         "Seats_parliament": 37.9,
         "_deepnote_index_column": "Australia"
        },
        {
         "Adolescent_birth_rate": 1.9,
         "F_Labour_force": 57.7,
         "F_secondary_educ": 95.1,
         "GII": 0.013,
         "Human_development_int": 1,
         "M_Labour_force": 66.7,
         "M_secondary_educ": 95.2,
         "Maternal_mortality": 4,
         "Rank": 1,
         "Seats_parliament": 39.7,
         "_deepnote_index_column": "Denmark"
        },
        {
         "Adolescent_birth_rate": 3.3,
         "F_Labour_force": 61.7,
         "F_secondary_educ": 91.8,
         "GII": 0.023,
         "Human_development_int": 1,
         "M_Labour_force": 68,
         "M_secondary_educ": 92.2,
         "Maternal_mortality": 4,
         "Rank": 4,
         "Seats_parliament": 47,
         "_deepnote_index_column": "Sweden"
        },
        {
         "Adolescent_birth_rate": 5.9,
         "F_Labour_force": 56.5,
         "F_secondary_educ": 88.1,
         "GII": 0.074,
         "Human_development_int": 1,
         "M_Labour_force": 68.6,
         "M_secondary_educ": 86,
         "Maternal_mortality": 5,
         "Rank": 21,
         "Seats_parliament": 27.3,
         "_deepnote_index_column": "Ireland"
        },
        {
         "Adolescent_birth_rate": 7.5,
         "F_Labour_force": 56.8,
         "F_secondary_educ": 96.1,
         "GII": 0.073,
         "Human_development_int": 1,
         "M_Labour_force": 66,
         "M_secondary_educ": 96.5,
         "Maternal_mortality": 7,
         "Rank": 19,
         "Seats_parliament": 34.8,
         "_deepnote_index_column": "Germany"
        },
        {
         "Adolescent_birth_rate": 2.8,
         "F_Labour_force": 62.4,
         "F_secondary_educ": 89.8,
         "GII": 0.025,
         "Human_development_int": 1,
         "M_Labour_force": 71.3,
         "M_secondary_educ": 92.7,
         "Maternal_mortality": 5,
         "Rank": 5,
         "Seats_parliament": 39.1,
         "_deepnote_index_column": "Netherlands"
        },
        {
         "Adolescent_birth_rate": 4.2,
         "F_Labour_force": 56.5,
         "F_secondary_educ": 99,
         "GII": 0.033,
         "Human_development_int": 1,
         "M_Labour_force": 64,
         "M_secondary_educ": 98.5,
         "Maternal_mortality": 3,
         "Rank": 6,
         "Seats_parliament": 46,
         "_deepnote_index_column": "Finland"
        }
       ]
      },
      "text/html": [
       "<div>\n",
       "<style scoped>\n",
       "    .dataframe tbody tr th:only-of-type {\n",
       "        vertical-align: middle;\n",
       "    }\n",
       "\n",
       "    .dataframe tbody tr th {\n",
       "        vertical-align: top;\n",
       "    }\n",
       "\n",
       "    .dataframe thead th {\n",
       "        text-align: right;\n",
       "    }\n",
       "</style>\n",
       "<table border=\"1\" class=\"dataframe\">\n",
       "  <thead>\n",
       "    <tr style=\"text-align: right;\">\n",
       "      <th></th>\n",
       "      <th>GII</th>\n",
       "      <th>Rank</th>\n",
       "      <th>Maternal_mortality</th>\n",
       "      <th>Adolescent_birth_rate</th>\n",
       "      <th>Seats_parliament</th>\n",
       "      <th>F_secondary_educ</th>\n",
       "      <th>M_secondary_educ</th>\n",
       "      <th>F_Labour_force</th>\n",
       "      <th>M_Labour_force</th>\n",
       "      <th>Human_development_int</th>\n",
       "    </tr>\n",
       "    <tr>\n",
       "      <th>Country</th>\n",
       "      <th></th>\n",
       "      <th></th>\n",
       "      <th></th>\n",
       "      <th></th>\n",
       "      <th></th>\n",
       "      <th></th>\n",
       "      <th></th>\n",
       "      <th></th>\n",
       "      <th></th>\n",
       "      <th></th>\n",
       "    </tr>\n",
       "  </thead>\n",
       "  <tbody>\n",
       "    <tr>\n",
       "      <th>Switzerland</th>\n",
       "      <td>0.018</td>\n",
       "      <td>3.0</td>\n",
       "      <td>5.0</td>\n",
       "      <td>2.2</td>\n",
       "      <td>39.8</td>\n",
       "      <td>96.9</td>\n",
       "      <td>97.5</td>\n",
       "      <td>61.7</td>\n",
       "      <td>72.7</td>\n",
       "      <td>1</td>\n",
       "    </tr>\n",
       "    <tr>\n",
       "      <th>Norway</th>\n",
       "      <td>0.016</td>\n",
       "      <td>2.0</td>\n",
       "      <td>2.0</td>\n",
       "      <td>2.3</td>\n",
       "      <td>45.0</td>\n",
       "      <td>99.1</td>\n",
       "      <td>99.3</td>\n",
       "      <td>60.3</td>\n",
       "      <td>72.0</td>\n",
       "      <td>1</td>\n",
       "    </tr>\n",
       "    <tr>\n",
       "      <th>Iceland</th>\n",
       "      <td>0.043</td>\n",
       "      <td>8.0</td>\n",
       "      <td>4.0</td>\n",
       "      <td>5.4</td>\n",
       "      <td>47.6</td>\n",
       "      <td>99.8</td>\n",
       "      <td>99.7</td>\n",
       "      <td>61.7</td>\n",
       "      <td>70.5</td>\n",
       "      <td>1</td>\n",
       "    </tr>\n",
       "    <tr>\n",
       "      <th>Australia</th>\n",
       "      <td>0.073</td>\n",
       "      <td>19.0</td>\n",
       "      <td>6.0</td>\n",
       "      <td>8.1</td>\n",
       "      <td>37.9</td>\n",
       "      <td>94.6</td>\n",
       "      <td>94.4</td>\n",
       "      <td>61.1</td>\n",
       "      <td>70.5</td>\n",
       "      <td>1</td>\n",
       "    </tr>\n",
       "    <tr>\n",
       "      <th>Denmark</th>\n",
       "      <td>0.013</td>\n",
       "      <td>1.0</td>\n",
       "      <td>4.0</td>\n",
       "      <td>1.9</td>\n",
       "      <td>39.7</td>\n",
       "      <td>95.1</td>\n",
       "      <td>95.2</td>\n",
       "      <td>57.7</td>\n",
       "      <td>66.7</td>\n",
       "      <td>1</td>\n",
       "    </tr>\n",
       "    <tr>\n",
       "      <th>...</th>\n",
       "      <td>...</td>\n",
       "      <td>...</td>\n",
       "      <td>...</td>\n",
       "      <td>...</td>\n",
       "      <td>...</td>\n",
       "      <td>...</td>\n",
       "      <td>...</td>\n",
       "      <td>...</td>\n",
       "      <td>...</td>\n",
       "      <td>...</td>\n",
       "    </tr>\n",
       "    <tr>\n",
       "      <th>Burundi</th>\n",
       "      <td>0.505</td>\n",
       "      <td>127.0</td>\n",
       "      <td>548.0</td>\n",
       "      <td>53.6</td>\n",
       "      <td>38.9</td>\n",
       "      <td>7.8</td>\n",
       "      <td>13.0</td>\n",
       "      <td>79.0</td>\n",
       "      <td>77.4</td>\n",
       "      <td>4</td>\n",
       "    </tr>\n",
       "    <tr>\n",
       "      <th>Central African Republic</th>\n",
       "      <td>0.672</td>\n",
       "      <td>166.0</td>\n",
       "      <td>829.0</td>\n",
       "      <td>160.5</td>\n",
       "      <td>12.9</td>\n",
       "      <td>13.9</td>\n",
       "      <td>31.6</td>\n",
       "      <td>63.3</td>\n",
       "      <td>79.5</td>\n",
       "      <td>4</td>\n",
       "    </tr>\n",
       "    <tr>\n",
       "      <th>Niger</th>\n",
       "      <td>0.611</td>\n",
       "      <td>153.0</td>\n",
       "      <td>509.0</td>\n",
       "      <td>170.5</td>\n",
       "      <td>25.9</td>\n",
       "      <td>9.2</td>\n",
       "      <td>15.2</td>\n",
       "      <td>61.7</td>\n",
       "      <td>84.3</td>\n",
       "      <td>4</td>\n",
       "    </tr>\n",
       "    <tr>\n",
       "      <th>Chad</th>\n",
       "      <td>0.652</td>\n",
       "      <td>165.0</td>\n",
       "      <td>1140.0</td>\n",
       "      <td>138.3</td>\n",
       "      <td>32.3</td>\n",
       "      <td>7.7</td>\n",
       "      <td>24.4</td>\n",
       "      <td>46.9</td>\n",
       "      <td>69.9</td>\n",
       "      <td>4</td>\n",
       "    </tr>\n",
       "    <tr>\n",
       "      <th>South Sudan</th>\n",
       "      <td>0.587</td>\n",
       "      <td>150.0</td>\n",
       "      <td>1150.0</td>\n",
       "      <td>99.2</td>\n",
       "      <td>32.3</td>\n",
       "      <td>26.5</td>\n",
       "      <td>36.4</td>\n",
       "      <td>70.4</td>\n",
       "      <td>73.6</td>\n",
       "      <td>4</td>\n",
       "    </tr>\n",
       "  </tbody>\n",
       "</table>\n",
       "<p>170 rows × 10 columns</p>\n",
       "</div>"
      ],
      "text/plain": [
       "                            GII   Rank  Maternal_mortality  \\\n",
       "Country                                                      \n",
       "Switzerland               0.018    3.0                 5.0   \n",
       "Norway                    0.016    2.0                 2.0   \n",
       "Iceland                   0.043    8.0                 4.0   \n",
       "Australia                 0.073   19.0                 6.0   \n",
       "Denmark                   0.013    1.0                 4.0   \n",
       "...                         ...    ...                 ...   \n",
       "Burundi                   0.505  127.0               548.0   \n",
       "Central African Republic  0.672  166.0               829.0   \n",
       "Niger                     0.611  153.0               509.0   \n",
       "Chad                      0.652  165.0              1140.0   \n",
       "South Sudan               0.587  150.0              1150.0   \n",
       "\n",
       "                          Adolescent_birth_rate  Seats_parliament  \\\n",
       "Country                                                             \n",
       "Switzerland                                 2.2              39.8   \n",
       "Norway                                      2.3              45.0   \n",
       "Iceland                                     5.4              47.6   \n",
       "Australia                                   8.1              37.9   \n",
       "Denmark                                     1.9              39.7   \n",
       "...                                         ...               ...   \n",
       "Burundi                                    53.6              38.9   \n",
       "Central African Republic                  160.5              12.9   \n",
       "Niger                                     170.5              25.9   \n",
       "Chad                                      138.3              32.3   \n",
       "South Sudan                                99.2              32.3   \n",
       "\n",
       "                          F_secondary_educ  M_secondary_educ  F_Labour_force  \\\n",
       "Country                                                                        \n",
       "Switzerland                           96.9              97.5            61.7   \n",
       "Norway                                99.1              99.3            60.3   \n",
       "Iceland                               99.8              99.7            61.7   \n",
       "Australia                             94.6              94.4            61.1   \n",
       "Denmark                               95.1              95.2            57.7   \n",
       "...                                    ...               ...             ...   \n",
       "Burundi                                7.8              13.0            79.0   \n",
       "Central African Republic              13.9              31.6            63.3   \n",
       "Niger                                  9.2              15.2            61.7   \n",
       "Chad                                   7.7              24.4            46.9   \n",
       "South Sudan                           26.5              36.4            70.4   \n",
       "\n",
       "                          M_Labour_force  Human_development_int  \n",
       "Country                                                          \n",
       "Switzerland                         72.7                      1  \n",
       "Norway                              72.0                      1  \n",
       "Iceland                             70.5                      1  \n",
       "Australia                           70.5                      1  \n",
       "Denmark                             66.7                      1  \n",
       "...                                  ...                    ...  \n",
       "Burundi                             77.4                      4  \n",
       "Central African Republic            79.5                      4  \n",
       "Niger                               84.3                      4  \n",
       "Chad                                69.9                      4  \n",
       "South Sudan                         73.6                      4  \n",
       "\n",
       "[170 rows x 10 columns]"
      ]
     },
     "execution_count": 60,
     "metadata": {},
     "output_type": "execute_result"
    }
   ],
   "source": [
    "df1.drop(columns='Human_development',inplace=True)\n",
    "df1"
   ]
  },
  {
   "cell_type": "code",
   "execution_count": null,
   "metadata": {
    "cell_id": "7fe30090fa9845b085848c2936fc4c1e",
    "deepnote_cell_type": "code",
    "deepnote_to_be_reexecuted": false,
    "execution_millis": 11,
    "execution_start": 1702540513043,
    "source_hash": null
   },
   "outputs": [],
   "source": [
    "x_df1,y_df1= df1.iloc[:,:-1],df1['Human_development_int']\n",
    "x_train,x_test,y_train,y_test= train_test_split(x_df1,y_df1,train_size = 0.6)"
   ]
  },
  {
   "cell_type": "code",
   "execution_count": null,
   "metadata": {
    "cell_id": "a93ddbb731c24e0da1186b553d77950b",
    "deepnote_cell_type": "code",
    "deepnote_to_be_reexecuted": false,
    "execution_millis": 12,
    "execution_start": 1702540576646,
    "source_hash": null
   },
   "outputs": [
    {
     "data": {
      "text/html": [
       "<style>#sk-container-id-7 {color: black;background-color: white;}#sk-container-id-7 pre{padding: 0;}#sk-container-id-7 div.sk-toggleable {background-color: white;}#sk-container-id-7 label.sk-toggleable__label {cursor: pointer;display: block;width: 100%;margin-bottom: 0;padding: 0.3em;box-sizing: border-box;text-align: center;}#sk-container-id-7 label.sk-toggleable__label-arrow:before {content: \"▸\";float: left;margin-right: 0.25em;color: #696969;}#sk-container-id-7 label.sk-toggleable__label-arrow:hover:before {color: black;}#sk-container-id-7 div.sk-estimator:hover label.sk-toggleable__label-arrow:before {color: black;}#sk-container-id-7 div.sk-toggleable__content {max-height: 0;max-width: 0;overflow: hidden;text-align: left;background-color: #f0f8ff;}#sk-container-id-7 div.sk-toggleable__content pre {margin: 0.2em;color: black;border-radius: 0.25em;background-color: #f0f8ff;}#sk-container-id-7 input.sk-toggleable__control:checked~div.sk-toggleable__content {max-height: 200px;max-width: 100%;overflow: auto;}#sk-container-id-7 input.sk-toggleable__control:checked~label.sk-toggleable__label-arrow:before {content: \"▾\";}#sk-container-id-7 div.sk-estimator input.sk-toggleable__control:checked~label.sk-toggleable__label {background-color: #d4ebff;}#sk-container-id-7 div.sk-label input.sk-toggleable__control:checked~label.sk-toggleable__label {background-color: #d4ebff;}#sk-container-id-7 input.sk-hidden--visually {border: 0;clip: rect(1px 1px 1px 1px);clip: rect(1px, 1px, 1px, 1px);height: 1px;margin: -1px;overflow: hidden;padding: 0;position: absolute;width: 1px;}#sk-container-id-7 div.sk-estimator {font-family: monospace;background-color: #f0f8ff;border: 1px dotted black;border-radius: 0.25em;box-sizing: border-box;margin-bottom: 0.5em;}#sk-container-id-7 div.sk-estimator:hover {background-color: #d4ebff;}#sk-container-id-7 div.sk-parallel-item::after {content: \"\";width: 100%;border-bottom: 1px solid gray;flex-grow: 1;}#sk-container-id-7 div.sk-label:hover label.sk-toggleable__label {background-color: #d4ebff;}#sk-container-id-7 div.sk-serial::before {content: \"\";position: absolute;border-left: 1px solid gray;box-sizing: border-box;top: 0;bottom: 0;left: 50%;z-index: 0;}#sk-container-id-7 div.sk-serial {display: flex;flex-direction: column;align-items: center;background-color: white;padding-right: 0.2em;padding-left: 0.2em;position: relative;}#sk-container-id-7 div.sk-item {position: relative;z-index: 1;}#sk-container-id-7 div.sk-parallel {display: flex;align-items: stretch;justify-content: center;background-color: white;position: relative;}#sk-container-id-7 div.sk-item::before, #sk-container-id-7 div.sk-parallel-item::before {content: \"\";position: absolute;border-left: 1px solid gray;box-sizing: border-box;top: 0;bottom: 0;left: 50%;z-index: -1;}#sk-container-id-7 div.sk-parallel-item {display: flex;flex-direction: column;z-index: 1;position: relative;background-color: white;}#sk-container-id-7 div.sk-parallel-item:first-child::after {align-self: flex-end;width: 50%;}#sk-container-id-7 div.sk-parallel-item:last-child::after {align-self: flex-start;width: 50%;}#sk-container-id-7 div.sk-parallel-item:only-child::after {width: 0;}#sk-container-id-7 div.sk-dashed-wrapped {border: 1px dashed gray;margin: 0 0.4em 0.5em 0.4em;box-sizing: border-box;padding-bottom: 0.4em;background-color: white;}#sk-container-id-7 div.sk-label label {font-family: monospace;font-weight: bold;display: inline-block;line-height: 1.2em;}#sk-container-id-7 div.sk-label-container {text-align: center;}#sk-container-id-7 div.sk-container {/* jupyter's `normalize.less` sets `[hidden] { display: none; }` but bootstrap.min.css set `[hidden] { display: none !important; }` so we also need the `!important` here to be able to override the default hidden behavior on the sphinx rendered scikit-learn.org. See: https://github.com/scikit-learn/scikit-learn/issues/21755 */display: inline-block !important;position: relative;}#sk-container-id-7 div.sk-text-repr-fallback {display: none;}</style><div id=\"sk-container-id-7\" class=\"sk-top-container\"><div class=\"sk-text-repr-fallback\"><pre>DecisionTreeClassifier(max_leaf_nodes=9, random_state=27)</pre><b>In a Jupyter environment, please rerun this cell to show the HTML representation or trust the notebook. <br />On GitHub, the HTML representation is unable to render, please try loading this page with nbviewer.org.</b></div><div class=\"sk-container\" hidden><div class=\"sk-item\"><div class=\"sk-estimator sk-toggleable\"><input class=\"sk-toggleable__control sk-hidden--visually\" id=\"sk-estimator-id-7\" type=\"checkbox\" checked><label for=\"sk-estimator-id-7\" class=\"sk-toggleable__label sk-toggleable__label-arrow\">DecisionTreeClassifier</label><div class=\"sk-toggleable__content\"><pre>DecisionTreeClassifier(max_leaf_nodes=9, random_state=27)</pre></div></div></div></div></div>"
      ],
      "text/plain": [
       "DecisionTreeClassifier(max_leaf_nodes=9, random_state=27)"
      ]
     },
     "execution_count": 76,
     "metadata": {},
     "output_type": "execute_result"
    }
   ],
   "source": [
    "#Decision Tree Classifier\n",
    "dtc = DecisionTreeClassifier(max_leaf_nodes = 9, random_state = 27)\n",
    "dtc.fit(x_train,y_train)"
   ]
  },
  {
   "cell_type": "code",
   "execution_count": null,
   "metadata": {
    "cell_id": "b27a08b3a0274103b64d252c267d241a",
    "deepnote_cell_type": "code",
    "deepnote_to_be_reexecuted": false,
    "execution_millis": 18,
    "execution_start": 1702540578618,
    "source_hash": null
   },
   "outputs": [
    {
     "data": {
      "text/plain": [
       "0.9117647058823529"
      ]
     },
     "execution_count": 77,
     "metadata": {},
     "output_type": "execute_result"
    }
   ],
   "source": [
    "dtc.score(x_train,y_train)"
   ]
  },
  {
   "cell_type": "code",
   "execution_count": null,
   "metadata": {
    "cell_id": "1b348a575e674481b8fe95306a659fc6",
    "deepnote_cell_type": "code",
    "deepnote_to_be_reexecuted": false,
    "execution_millis": 41,
    "execution_start": 1702540581136,
    "source_hash": null
   },
   "outputs": [
    {
     "data": {
      "text/plain": [
       "0.6764705882352942"
      ]
     },
     "execution_count": 78,
     "metadata": {},
     "output_type": "execute_result"
    }
   ],
   "source": [
    "dtc.score(x_test,y_test)"
   ]
  },
  {
   "cell_type": "code",
   "execution_count": null,
   "metadata": {
    "cell_id": "51a32b298380442aa6d4207ce0d91f58",
    "deepnote_cell_type": "code",
    "deepnote_to_be_reexecuted": false,
    "execution_millis": 136,
    "execution_start": 1702540591140,
    "source_hash": null
   },
   "outputs": [
    {
     "data": {
      "text/plain": [
       "[Text(0.375, 0.9, 'Rank <= 82.5\\ngini = 0.714\\nsamples = 102\\nvalue = [41, 26, 19, 16]\\nclass = 1'),\n",
       " Text(0.16666666666666666, 0.7, 'Maternal_mortality <= 22.5\\ngini = 0.404\\nsamples = 57\\nvalue = [41, 16, 0, 0]\\nclass = 1'),\n",
       " Text(0.08333333333333333, 0.5, 'gini = 0.184\\nsamples = 39\\nvalue = [35, 4, 0, 0]\\nclass = 1'),\n",
       " Text(0.25, 0.5, 'Seats_parliament <= 20.8\\ngini = 0.444\\nsamples = 18\\nvalue = [6, 12, 0, 0]\\nclass = 2'),\n",
       " Text(0.16666666666666666, 0.3, 'M_Labour_force <= 68.5\\ngini = 0.408\\nsamples = 7\\nvalue = [5, 2, 0, 0]\\nclass = 1'),\n",
       " Text(0.08333333333333333, 0.1, 'gini = 0.0\\nsamples = 2\\nvalue = [0, 2, 0, 0]\\nclass = 2'),\n",
       " Text(0.25, 0.1, 'gini = 0.0\\nsamples = 5\\nvalue = [5, 0, 0, 0]\\nclass = 1'),\n",
       " Text(0.3333333333333333, 0.3, 'gini = 0.165\\nsamples = 11\\nvalue = [1, 10, 0, 0]\\nclass = 2'),\n",
       " Text(0.5833333333333334, 0.7, 'F_secondary_educ <= 27.75\\ngini = 0.646\\nsamples = 45\\nvalue = [0, 10, 19, 16]\\nclass = 3'),\n",
       " Text(0.5, 0.5, 'gini = 0.0\\nsamples = 14\\nvalue = [0, 0, 0, 14]\\nclass = 4'),\n",
       " Text(0.6666666666666666, 0.5, 'Maternal_mortality <= 119.0\\ngini = 0.516\\nsamples = 31\\nvalue = [0, 10, 19, 2]\\nclass = 3'),\n",
       " Text(0.5, 0.3, 'M_secondary_educ <= 52.7\\ngini = 0.444\\nsamples = 12\\nvalue = [0, 8, 4, 0]\\nclass = 2'),\n",
       " Text(0.4166666666666667, 0.1, 'gini = 0.444\\nsamples = 6\\nvalue = [0, 2, 4, 0]\\nclass = 3'),\n",
       " Text(0.5833333333333334, 0.1, 'gini = 0.0\\nsamples = 6\\nvalue = [0, 6, 0, 0]\\nclass = 2'),\n",
       " Text(0.8333333333333334, 0.3, 'Rank <= 155.0\\ngini = 0.355\\nsamples = 19\\nvalue = [0, 2, 15, 2]\\nclass = 3'),\n",
       " Text(0.75, 0.1, 'gini = 0.208\\nsamples = 17\\nvalue = [0, 2, 15, 0]\\nclass = 3'),\n",
       " Text(0.9166666666666666, 0.1, 'gini = 0.0\\nsamples = 2\\nvalue = [0, 0, 0, 2]\\nclass = 4')]"
      ]
     },
     "execution_count": 79,
     "metadata": {},
     "output_type": "execute_result"
    },
    {
     "data": {
      "image/png": "[encoded data removed]",
      "text/plain": [
       "<Figure size 640x480 with 1 Axes>"
      ]
     },
     "metadata": {
      "image/png": {
       "height": 389,
       "width": 515
      }
     },
     "output_type": "display_data"
    }
   ],
   "source": [
    "import matplotlib.pyplot as plt\n",
    "from sklearn.tree import plot_tree\n",
    "\n",
    "fig = plt.figure()\n",
    "plot_tree(dtc, feature_names=x_train.columns,  class_names=['1','2','3','4'], filled=True)"
   ]
  },
  {
   "cell_type": "code",
   "execution_count": null,
   "metadata": {
    "cell_id": "3544c7f024a84cdebd1c37a45707a6f6",
    "deepnote_cell_type": "code",
    "deepnote_to_be_reexecuted": false,
    "execution_millis": 180,
    "execution_start": 1702540603456,
    "source_hash": null
   },
   "outputs": [
    {
     "name": "stdout",
     "output_type": "stream",
     "text": [
      "avg train acc for each param val: [1.    0.82  0.794 0.755 0.729]\n",
      "avg test acc for each param val: [0.667 0.696 0.697 0.716 0.677]\n"
     ]
    }
   ],
   "source": [
    "#K-Nearest Neighbor\n",
    "#To avoid overfitting and underfitting and decide which n_neighbors would be then best fit for the dataset, KNN validation curve is tested.\n",
    "train_scores_KNN1, test_scores_KNN1 = validation_curve(KNeighborsClassifier(),x_train,y_train,param_name='n_neighbors',param_range=[1,5,7,9,11],cv=4)\n",
    "print('avg train acc for each param val:',train_scores_KNN1.mean(axis=1).round(3))\n",
    "print('avg test acc for each param val:',test_scores_KNN1.mean(axis=1).round(3))"
   ]
  },
  {
   "cell_type": "code",
   "execution_count": null,
   "metadata": {
    "cell_id": "a115db0ba75a4653b37e3976052ee2d7",
    "deepnote_cell_type": "code",
    "deepnote_to_be_reexecuted": false,
    "execution_millis": 36,
    "execution_start": 1702540647608,
    "source_hash": null
   },
   "outputs": [
    {
     "data": {
      "text/plain": [
       "0.8137254901960784"
      ]
     },
     "execution_count": 85,
     "metadata": {},
     "output_type": "execute_result"
    }
   ],
   "source": [
    "knn=KNeighborsClassifier(n_neighbors=7)\n",
    "knn.fit(x_train,y_train)\n",
    "knn.score(x_train,y_train)"
   ]
  },
  {
   "cell_type": "code",
   "execution_count": null,
   "metadata": {
    "cell_id": "c48a1f7c91a74461a2fc0c6561b7e4ec",
    "deepnote_cell_type": "code",
    "deepnote_to_be_reexecuted": false,
    "execution_millis": 21,
    "execution_start": 1702540649688,
    "source_hash": null
   },
   "outputs": [
    {
     "data": {
      "text/plain": [
       "0.6617647058823529"
      ]
     },
     "execution_count": 86,
     "metadata": {},
     "output_type": "execute_result"
    }
   ],
   "source": [
    "knn.score(x_test,y_test)"
   ]
  },
  {
   "cell_type": "markdown",
   "metadata": {
    "cell_id": "5e40a00f5074423f8e0736f9c717bbf8",
    "deepnote_cell_type": "markdown",
    "tags": []
   },
   "source": [
    "From the results of two methods, we can see that the Decision Tree Classifier method overfitted the data set and the K-Nearest Neighbors offers a better fitted model. With human development as the target variable, KNN would be the better machine learning method to predict future human development classes based on the same predictor variables.  ## Summary\n",
    "\n"
   ]
  },
  {
   "cell_type": "markdown",
   "metadata": {
    "cell_id": "8b95968109d14b75a107ceff6c0722fc",
    "deepnote_cell_type": "markdown",
    "tags": []
   },
   "source": [
    "## References\n",
    "\n",
    "Your code above should include references.  Here is some additional space for references."
   ]
  },
  {
   "cell_type": "markdown",
   "metadata": {
    "cell_id": "a6457aefe81643d98dce27a0da4a6193",
    "deepnote_cell_type": "markdown",
    "tags": []
   },
   "source": [
    "This is the reference data set of gender inequality index around the world i found on kaggle\n",
    "\n",
    "https://www.kaggle.com/datasets/gianinamariapetrascu/gender-inequality-index"
   ]
  },
  {
   "cell_type": "markdown",
   "metadata": {
    "cell_id": "37f3477c165143179429f418d214afc7",
    "deepnote_cell_type": "markdown",
    "deepnote_to_be_reexecuted": false,
    "execution_millis": 0,
    "execution_start": 1652916033453,
    "source_hash": "aa45eba7",
    "tags": []
   },
   "source": [
    "I use listed libraries belows as a a reference for my data analysing: \n",
    "https://plotly.com/python/map-configuration/"
   ]
  }
 ],
 "metadata": {
  "deepnote": {
   "is_reactive": false
  },
  "deepnote_execution_queue": [],
  "deepnote_notebook_id": "f0de427b8a4d46538a4cdcbfccfa5df5",
  "deepnote_persisted_session": {
   "createdAt": "2023-12-14T08:15:20.553Z"
  },
  "language_info": {
   "name": "python"
  }
 },
 "nbformat": 4,
 "nbformat_minor": 0
}