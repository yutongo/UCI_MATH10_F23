{
 "cells": [
  {
   "cell_type": "markdown",
   "metadata": {
    "cell_id": "8adb1e01ba6d492cad38fb1f0dcd0c2f",
    "deepnote_cell_type": "markdown",
    "tags": []
   },
   "source": [
    "# The effects of every parts of a car to its acceleration\n",
    "\n",
    "Author: Mianfu Zhong\n",
    "\n",
    "Course Project, UC Irvine, Math 10, F23"
   ]
  },
  {
   "cell_type": "markdown",
   "metadata": {
    "cell_id": "546795ab930940dea71badcf57411d2d",
    "deepnote_cell_type": "markdown",
    "tags": []
   },
   "source": [
    "## Introduction\n",
    "\n",
    "This project is using a datasets of car specifics to predict the factors that would affect a car's acceleration. Also the precise detail about how the analysis is done and why the factors are related are discussed."
   ]
  },
  {
   "cell_type": "markdown",
   "metadata": {
    "cell_id": "462cab4554ad4077aec14312f0214fd3",
    "deepnote_cell_type": "markdown",
    "tags": []
   },
   "source": [
    "## The Preparation Step"
   ]
  },
  {
   "cell_type": "code",
   "execution_count": null,
   "metadata": {
    "cell_id": "e34208d9b1994ca79eded5e96d0d2f71",
    "deepnote_cell_type": "code",
    "deepnote_to_be_reexecuted": false,
    "execution_millis": 18,
    "execution_start": 1702538237823,
    "source_hash": null
   },
   "outputs": [],
   "source": [
    "import pandas as pd\n",
    "import numpy as np\n",
    "import matplotlib.pyplot as plt\n",
    "import seaborn as sns\n",
    "import altair as alt\n",
    "from sklearn.model_selection import train_test_split\n",
    "from sklearn.linear_model import LinearRegression\n",
    "from sklearn.preprocessing import StandardScaler\n",
    "from sklearn.metrics import accuracy_score, classification_report, confusion_matrix\n",
    "from sklearn.linear_model import LogisticRegression\n",
    "from sklearn.metrics import mean_squared_error\n",
    "from sklearn.tree import DecisionTreeClassifier\n",
    "from sklearn.ensemble import RandomForestClassifier\n",
    "from sklearn.pipeline import Pipeline\n",
    "# import all the tools we might need to use, including panda, numpy, matplot, seaborn, and sklearn."
   ]
  },
  {
   "cell_type": "code",
   "execution_count": null,
   "metadata": {
    "cell_id": "60f0db9375aa498c96b81edb5982373f",
    "deepnote_cell_type": "code",
    "deepnote_table_loading": false,
    "deepnote_table_state": {
     "filters": [],
     "pageIndex": 4,
     "pageSize": 10,
     "sortBy": []
    },
    "deepnote_to_be_reexecuted": false,
    "execution_millis": 169,
    "execution_start": 1702538187361,
    "source_hash": null
   },
   "outputs": [],
   "source": [
    "df = pd.read_table('auto-mpg.data', delim_whitespace=True, header=None, names=['mpg', 'cylinders', 'displacement','horsepower','weight','acceleration','model_year','origin','car_name'])\n",
    "# Because we have a file using \"data\" extension, we have to call it in a strict format like above.\n",
    "# If you download and check the data, it is obvious that all the datas are seperated using blankspaces\n",
    "# Therefore, we use \"delimeter_whitespace=True\" to tell python how to seperate."
   ]
  },
  {
   "cell_type": "code",
   "execution_count": null,
   "metadata": {
    "cell_id": "8f92ccfb9df0461fad5fc4e769833383",
    "deepnote_cell_type": "code",
    "deepnote_table_loading": false,
    "deepnote_table_state": {
     "filters": [],
     "pageIndex": 0,
     "pageSize": 100,
     "sortBy": []
    },
    "deepnote_to_be_reexecuted": false,
    "execution_millis": 78,
    "execution_start": 1702538187960,
    "source_hash": null
   },
   "outputs": [
    {
     "data": {
      "application/vnd.deepnote.dataframe.v3+json": {
       "column_count": 9,
       "columns": [
        {
         "dtype": "float64",
         "name": "mpg",
         "stats": {
          "histogram": [
           {
            "bin_end": 12.76,
            "bin_start": 9,
            "count": 13
           },
           {
            "bin_end": 16.52,
            "bin_start": 12.76,
            "count": 78
           },
           {
            "bin_end": 20.28,
            "bin_start": 16.52,
            "count": 73
           },
           {
            "bin_end": 24.04,
            "bin_start": 20.28,
            "count": 61
           },
           {
            "bin_end": 27.8,
            "bin_start": 24.04,
            "count": 54
           },
           {
            "bin_end": 31.560000000000002,
            "bin_start": 27.8,
            "count": 48
           },
           {
            "bin_end": 35.32,
            "bin_start": 31.560000000000002,
            "count": 38
           },
           {
            "bin_end": 39.08,
            "bin_start": 35.32,
            "count": 22
           },
           {
            "bin_end": 42.84,
            "bin_start": 39.08,
            "count": 5
           },
           {
            "bin_end": 46.6,
            "bin_start": 42.84,
            "count": 6
           }
          ],
          "max": "46.6",
          "min": "9.0",
          "nan_count": 0,
          "unique_count": 129
         }
        },
        {
         "dtype": "int64",
         "name": "cylinders",
         "stats": {
          "histogram": [
           {
            "bin_end": 3.5,
            "bin_start": 3,
            "count": 4
           },
           {
            "bin_end": 4,
            "bin_start": 3.5,
            "count": 0
           },
           {
            "bin_end": 4.5,
            "bin_start": 4,
            "count": 204
           },
           {
            "bin_end": 5,
            "bin_start": 4.5,
            "count": 0
           },
           {
            "bin_end": 5.5,
            "bin_start": 5,
            "count": 3
           },
           {
            "bin_end": 6,
            "bin_start": 5.5,
            "count": 0
           },
           {
            "bin_end": 6.5,
            "bin_start": 6,
            "count": 84
           },
           {
            "bin_end": 7,
            "bin_start": 6.5,
            "count": 0
           },
           {
            "bin_end": 7.5,
            "bin_start": 7,
            "count": 0
           },
           {
            "bin_end": 8,
            "bin_start": 7.5,
            "count": 103
           }
          ],
          "max": "8",
          "min": "3",
          "nan_count": 0,
          "unique_count": 5
         }
        },
        {
         "dtype": "float64",
         "name": "displacement",
         "stats": {
          "histogram": [
           {
            "bin_end": 106.7,
            "bin_start": 68,
            "count": 107
           },
           {
            "bin_end": 145.4,
            "bin_start": 106.7,
            "count": 89
           },
           {
            "bin_end": 184.10000000000002,
            "bin_start": 145.4,
            "count": 31
           },
           {
            "bin_end": 222.8,
            "bin_start": 184.10000000000002,
            "count": 13
           },
           {
            "bin_end": 261.5,
            "bin_start": 222.8,
            "count": 57
           },
           {
            "bin_end": 300.20000000000005,
            "bin_start": 261.5,
            "count": 3
           },
           {
            "bin_end": 338.90000000000003,
            "bin_start": 300.20000000000005,
            "count": 42
           },
           {
            "bin_end": 377.6,
            "bin_start": 338.90000000000003,
            "count": 31
           },
           {
            "bin_end": 416.3,
            "bin_start": 377.6,
            "count": 16
           },
           {
            "bin_end": 455,
            "bin_start": 416.3,
            "count": 9
           }
          ],
          "max": "455.0",
          "min": "68.0",
          "nan_count": 0,
          "unique_count": 82
         }
        },
        {
         "dtype": "object",
         "name": "horsepower",
         "stats": {
          "categories": [
           {
            "count": 22,
            "name": "150.0"
           },
           {
            "count": 20,
            "name": "90.00"
           },
           {
            "count": 356,
            "name": "92 others"
           }
          ],
          "nan_count": 0,
          "unique_count": 94
         }
        },
        {
         "dtype": "float64",
         "name": "weight",
         "stats": {
          "histogram": [
           {
            "bin_end": 1965.7,
            "bin_start": 1613,
            "count": 31
           },
           {
            "bin_end": 2318.4,
            "bin_start": 1965.7,
            "count": 90
           },
           {
            "bin_end": 2671.1,
            "bin_start": 2318.4,
            "count": 59
           },
           {
            "bin_end": 3023.8,
            "bin_start": 2671.1,
            "count": 54
           },
           {
            "bin_end": 3376.5,
            "bin_start": 3023.8,
            "count": 37
           },
           {
            "bin_end": 3729.2,
            "bin_start": 3376.5,
            "count": 40
           },
           {
            "bin_end": 4081.9,
            "bin_start": 3729.2,
            "count": 29
           },
           {
            "bin_end": 4434.6,
            "bin_start": 4081.9,
            "count": 34
           },
           {
            "bin_end": 4787.299999999999,
            "bin_start": 4434.6,
            "count": 18
           },
           {
            "bin_end": 5140,
            "bin_start": 4787.299999999999,
            "count": 6
           }
          ],
          "max": "5140.0",
          "min": "1613.0",
          "nan_count": 0,
          "unique_count": 351
         }
        },
        {
         "dtype": "float64",
         "name": "acceleration",
         "stats": {
          "histogram": [
           {
            "bin_end": 9.68,
            "bin_start": 8,
            "count": 6
           },
           {
            "bin_end": 11.36,
            "bin_start": 9.68,
            "count": 15
           },
           {
            "bin_end": 13.040000000000001,
            "bin_start": 11.36,
            "count": 50
           },
           {
            "bin_end": 14.72,
            "bin_start": 13.040000000000001,
            "count": 86
           },
           {
            "bin_end": 16.4,
            "bin_start": 14.72,
            "count": 92
           },
           {
            "bin_end": 18.080000000000002,
            "bin_start": 16.4,
            "count": 80
           },
           {
            "bin_end": 19.76,
            "bin_start": 18.080000000000002,
            "count": 45
           },
           {
            "bin_end": 21.44,
            "bin_start": 19.76,
            "count": 13
           },
           {
            "bin_end": 23.12,
            "bin_start": 21.44,
            "count": 7
           },
           {
            "bin_end": 24.8,
            "bin_start": 23.12,
            "count": 4
           }
          ],
          "max": "24.8",
          "min": "8.0",
          "nan_count": 0,
          "unique_count": 95
         }
        },
        {
         "dtype": "int64",
         "name": "model_year",
         "stats": {
          "histogram": [
           {
            "bin_end": 71.2,
            "bin_start": 70,
            "count": 57
           },
           {
            "bin_end": 72.4,
            "bin_start": 71.2,
            "count": 28
           },
           {
            "bin_end": 73.6,
            "bin_start": 72.4,
            "count": 40
           },
           {
            "bin_end": 74.8,
            "bin_start": 73.6,
            "count": 27
           },
           {
            "bin_end": 76,
            "bin_start": 74.8,
            "count": 30
           },
           {
            "bin_end": 77.2,
            "bin_start": 76,
            "count": 62
           },
           {
            "bin_end": 78.4,
            "bin_start": 77.2,
            "count": 36
           },
           {
            "bin_end": 79.6,
            "bin_start": 78.4,
            "count": 29
           },
           {
            "bin_end": 80.8,
            "bin_start": 79.6,
            "count": 29
           },
           {
            "bin_end": 82,
            "bin_start": 80.8,
            "count": 60
           }
          ],
          "max": "82",
          "min": "70",
          "nan_count": 0,
          "unique_count": 13
         }
        },
        {
         "dtype": "int64",
         "name": "origin",
         "stats": {
          "histogram": [
           {
            "bin_end": 1.2,
            "bin_start": 1,
            "count": 249
           },
           {
            "bin_end": 1.4,
            "bin_start": 1.2,
            "count": 0
           },
           {
            "bin_end": 1.6,
            "bin_start": 1.4,
            "count": 0
           },
           {
            "bin_end": 1.8,
            "bin_start": 1.6,
            "count": 0
           },
           {
            "bin_end": 2,
            "bin_start": 1.8,
            "count": 0
           },
           {
            "bin_end": 2.2,
            "bin_start": 2,
            "count": 70
           },
           {
            "bin_end": 2.4000000000000004,
            "bin_start": 2.2,
            "count": 0
           },
           {
            "bin_end": 2.6,
            "bin_start": 2.4000000000000004,
            "count": 0
           },
           {
            "bin_end": 2.8,
            "bin_start": 2.6,
            "count": 0
           },
           {
            "bin_end": 3,
            "bin_start": 2.8,
            "count": 79
           }
          ],
          "max": "3",
          "min": "1",
          "nan_count": 0,
          "unique_count": 3
         }
        },
        {
         "dtype": "object",
         "name": "car_name",
         "stats": {
          "categories": [
           {
            "count": 6,
            "name": "ford pinto"
           },
           {
            "count": 5,
            "name": "ford maverick"
           },
           {
            "count": 387,
            "name": "303 others"
           }
          ],
          "nan_count": 0,
          "unique_count": 305
         }
        },
        {
         "dtype": "int64",
         "name": "_deepnote_index_column"
        }
       ],
       "row_count": 398,
       "rows": [
        {
         "_deepnote_index_column": 0,
         "acceleration": 12,
         "car_name": "chevrolet chevelle malibu",
         "cylinders": 8,
         "displacement": 307,
         "horsepower": "130.0",
         "model_year": 70,
         "mpg": 18,
         "origin": 1,
         "weight": 3504
        },
        {
         "_deepnote_index_column": 1,
         "acceleration": 11.5,
         "car_name": "buick skylark 320",
         "cylinders": 8,
         "displacement": 350,
         "horsepower": "165.0",
         "model_year": 70,
         "mpg": 15,
         "origin": 1,
         "weight": 3693
        },
        {
         "_deepnote_index_column": 2,
         "acceleration": 11,
         "car_name": "plymouth satellite",
         "cylinders": 8,
         "displacement": 318,
         "horsepower": "150.0",
         "model_year": 70,
         "mpg": 18,
         "origin": 1,
         "weight": 3436
        },
        {
         "_deepnote_index_column": 3,
         "acceleration": 12,
         "car_name": "amc rebel sst",
         "cylinders": 8,
         "displacement": 304,
         "horsepower": "150.0",
         "model_year": 70,
         "mpg": 16,
         "origin": 1,
         "weight": 3433
        },
        {
         "_deepnote_index_column": 4,
         "acceleration": 10.5,
         "car_name": "ford torino",
         "cylinders": 8,
         "displacement": 302,
         "horsepower": "140.0",
         "model_year": 70,
         "mpg": 17,
         "origin": 1,
         "weight": 3449
        },
        {
         "_deepnote_index_column": 5,
         "acceleration": 10,
         "car_name": "ford galaxie 500",
         "cylinders": 8,
         "displacement": 429,
         "horsepower": "198.0",
         "model_year": 70,
         "mpg": 15,
         "origin": 1,
         "weight": 4341
        },
        {
         "_deepnote_index_column": 6,
         "acceleration": 9,
         "car_name": "chevrolet impala",
         "cylinders": 8,
         "displacement": 454,
         "horsepower": "220.0",
         "model_year": 70,
         "mpg": 14,
         "origin": 1,
         "weight": 4354
        },
        {
         "_deepnote_index_column": 7,
         "acceleration": 8.5,
         "car_name": "plymouth fury iii",
         "cylinders": 8,
         "displacement": 440,
         "horsepower": "215.0",
         "model_year": 70,
         "mpg": 14,
         "origin": 1,
         "weight": 4312
        },
        {
         "_deepnote_index_column": 8,
         "acceleration": 10,
         "car_name": "pontiac catalina",
         "cylinders": 8,
         "displacement": 455,
         "horsepower": "225.0",
         "model_year": 70,
         "mpg": 14,
         "origin": 1,
         "weight": 4425
        },
        {
         "_deepnote_index_column": 9,
         "acceleration": 8.5,
         "car_name": "amc ambassador dpl",
         "cylinders": 8,
         "displacement": 390,
         "horsepower": "190.0",
         "model_year": 70,
         "mpg": 15,
         "origin": 1,
         "weight": 3850
        },
        {
         "_deepnote_index_column": 10,
         "acceleration": 10,
         "car_name": "dodge challenger se",
         "cylinders": 8,
         "displacement": 383,
         "horsepower": "170.0",
         "model_year": 70,
         "mpg": 15,
         "origin": 1,
         "weight": 3563
        },
        {
         "_deepnote_index_column": 11,
         "acceleration": 8,
         "car_name": "plymouth 'cuda 340",
         "cylinders": 8,
         "displacement": 340,
         "horsepower": "160.0",
         "model_year": 70,
         "mpg": 14,
         "origin": 1,
         "weight": 3609
        },
        {
         "_deepnote_index_column": 12,
         "acceleration": 9.5,
         "car_name": "chevrolet monte carlo",
         "cylinders": 8,
         "displacement": 400,
         "horsepower": "150.0",
         "model_year": 70,
         "mpg": 15,
         "origin": 1,
         "weight": 3761
        },
        {
         "_deepnote_index_column": 13,
         "acceleration": 10,
         "car_name": "buick estate wagon (sw)",
         "cylinders": 8,
         "displacement": 455,
         "horsepower": "225.0",
         "model_year": 70,
         "mpg": 14,
         "origin": 1,
         "weight": 3086
        },
        {
         "_deepnote_index_column": 14,
         "acceleration": 15,
         "car_name": "toyota corona mark ii",
         "cylinders": 4,
         "displacement": 113,
         "horsepower": "95.00",
         "model_year": 70,
         "mpg": 24,
         "origin": 3,
         "weight": 2372
        },
        {
         "_deepnote_index_column": 15,
         "acceleration": 15.5,
         "car_name": "plymouth duster",
         "cylinders": 6,
         "displacement": 198,
         "horsepower": "95.00",
         "model_year": 70,
         "mpg": 22,
         "origin": 1,
         "weight": 2833
        },
        {
         "_deepnote_index_column": 16,
         "acceleration": 15.5,
         "car_name": "amc hornet",
         "cylinders": 6,
         "displacement": 199,
         "horsepower": "97.00",
         "model_year": 70,
         "mpg": 18,
         "origin": 1,
         "weight": 2774
        },
        {
         "_deepnote_index_column": 17,
         "acceleration": 16,
         "car_name": "ford maverick",
         "cylinders": 6,
         "displacement": 200,
         "horsepower": "85.00",
         "model_year": 70,
         "mpg": 21,
         "origin": 1,
         "weight": 2587
        },
        {
         "_deepnote_index_column": 18,
         "acceleration": 14.5,
         "car_name": "datsun pl510",
         "cylinders": 4,
         "displacement": 97,
         "horsepower": "88.00",
         "model_year": 70,
         "mpg": 27,
         "origin": 3,
         "weight": 2130
        },
        {
         "_deepnote_index_column": 19,
         "acceleration": 20.5,
         "car_name": "volkswagen 1131 deluxe sedan",
         "cylinders": 4,
         "displacement": 97,
         "horsepower": "46.00",
         "model_year": 70,
         "mpg": 26,
         "origin": 2,
         "weight": 1835
        },
        {
         "_deepnote_index_column": 20,
         "acceleration": 17.5,
         "car_name": "peugeot 504",
         "cylinders": 4,
         "displacement": 110,
         "horsepower": "87.00",
         "model_year": 70,
         "mpg": 25,
         "origin": 2,
         "weight": 2672
        },
        {
         "_deepnote_index_column": 21,
         "acceleration": 14.5,
         "car_name": "audi 100 ls",
         "cylinders": 4,
         "displacement": 107,
         "horsepower": "90.00",
         "model_year": 70,
         "mpg": 24,
         "origin": 2,
         "weight": 2430
        },
        {
         "_deepnote_index_column": 22,
         "acceleration": 17.5,
         "car_name": "saab 99e",
         "cylinders": 4,
         "displacement": 104,
         "horsepower": "95.00",
         "model_year": 70,
         "mpg": 25,
         "origin": 2,
         "weight": 2375
        },
        {
         "_deepnote_index_column": 23,
         "acceleration": 12.5,
         "car_name": "bmw 2002",
         "cylinders": 4,
         "displacement": 121,
         "horsepower": "113.0",
         "model_year": 70,
         "mpg": 26,
         "origin": 2,
         "weight": 2234
        },
        {
         "_deepnote_index_column": 24,
         "acceleration": 15,
         "car_name": "amc gremlin",
         "cylinders": 6,
         "displacement": 199,
         "horsepower": "90.00",
         "model_year": 70,
         "mpg": 21,
         "origin": 1,
         "weight": 2648
        },
        {
         "_deepnote_index_column": 25,
         "acceleration": 14,
         "car_name": "ford f250",
         "cylinders": 8,
         "displacement": 360,
         "horsepower": "215.0",
         "model_year": 70,
         "mpg": 10,
         "origin": 1,
         "weight": 4615
        },
        {
         "_deepnote_index_column": 26,
         "acceleration": 15,
         "car_name": "chevy c20",
         "cylinders": 8,
         "displacement": 307,
         "horsepower": "200.0",
         "model_year": 70,
         "mpg": 10,
         "origin": 1,
         "weight": 4376
        },
        {
         "_deepnote_index_column": 27,
         "acceleration": 13.5,
         "car_name": "dodge d200",
         "cylinders": 8,
         "displacement": 318,
         "horsepower": "210.0",
         "model_year": 70,
         "mpg": 11,
         "origin": 1,
         "weight": 4382
        },
        {
         "_deepnote_index_column": 28,
         "acceleration": 18.5,
         "car_name": "hi 1200d",
         "cylinders": 8,
         "displacement": 304,
         "horsepower": "193.0",
         "model_year": 70,
         "mpg": 9,
         "origin": 1,
         "weight": 4732
        },
        {
         "_deepnote_index_column": 29,
         "acceleration": 14.5,
         "car_name": "datsun pl510",
         "cylinders": 4,
         "displacement": 97,
         "horsepower": "88.00",
         "model_year": 71,
         "mpg": 27,
         "origin": 3,
         "weight": 2130
        },
        {
         "_deepnote_index_column": 30,
         "acceleration": 15.5,
         "car_name": "chevrolet vega 2300",
         "cylinders": 4,
         "displacement": 140,
         "horsepower": "90.00",
         "model_year": 71,
         "mpg": 28,
         "origin": 1,
         "weight": 2264
        },
        {
         "_deepnote_index_column": 31,
         "acceleration": 14,
         "car_name": "toyota corona",
         "cylinders": 4,
         "displacement": 113,
         "horsepower": "95.00",
         "model_year": 71,
         "mpg": 25,
         "origin": 3,
         "weight": 2228
        },
        {
         "_deepnote_index_column": 32,
         "acceleration": 19,
         "car_name": "ford pinto",
         "cylinders": 4,
         "displacement": 98,
         "horsepower": "?",
         "model_year": 71,
         "mpg": 25,
         "origin": 1,
         "weight": 2046
        },
        {
         "_deepnote_index_column": 33,
         "acceleration": 13,
         "car_name": "amc gremlin",
         "cylinders": 6,
         "displacement": 232,
         "horsepower": "100.0",
         "model_year": 71,
         "mpg": 19,
         "origin": 1,
         "weight": 2634
        },
        {
         "_deepnote_index_column": 34,
         "acceleration": 15.5,
         "car_name": "plymouth satellite custom",
         "cylinders": 6,
         "displacement": 225,
         "horsepower": "105.0",
         "model_year": 71,
         "mpg": 16,
         "origin": 1,
         "weight": 3439
        },
        {
         "_deepnote_index_column": 35,
         "acceleration": 15.5,
         "car_name": "chevrolet chevelle malibu",
         "cylinders": 6,
         "displacement": 250,
         "horsepower": "100.0",
         "model_year": 71,
         "mpg": 17,
         "origin": 1,
         "weight": 3329
        },
        {
         "_deepnote_index_column": 36,
         "acceleration": 15.5,
         "car_name": "ford torino 500",
         "cylinders": 6,
         "displacement": 250,
         "horsepower": "88.00",
         "model_year": 71,
         "mpg": 19,
         "origin": 1,
         "weight": 3302
        },
        {
         "_deepnote_index_column": 37,
         "acceleration": 15.5,
         "car_name": "amc matador",
         "cylinders": 6,
         "displacement": 232,
         "horsepower": "100.0",
         "model_year": 71,
         "mpg": 18,
         "origin": 1,
         "weight": 3288
        },
        {
         "_deepnote_index_column": 38,
         "acceleration": 12,
         "car_name": "chevrolet impala",
         "cylinders": 8,
         "displacement": 350,
         "horsepower": "165.0",
         "model_year": 71,
         "mpg": 14,
         "origin": 1,
         "weight": 4209
        },
        {
         "_deepnote_index_column": 39,
         "acceleration": 11.5,
         "car_name": "pontiac catalina brougham",
         "cylinders": 8,
         "displacement": 400,
         "horsepower": "175.0",
         "model_year": 71,
         "mpg": 14,
         "origin": 1,
         "weight": 4464
        },
        {
         "_deepnote_index_column": 40,
         "acceleration": 13.5,
         "car_name": "ford galaxie 500",
         "cylinders": 8,
         "displacement": 351,
         "horsepower": "153.0",
         "model_year": 71,
         "mpg": 14,
         "origin": 1,
         "weight": 4154
        },
        {
         "_deepnote_index_column": 41,
         "acceleration": 13,
         "car_name": "plymouth fury iii",
         "cylinders": 8,
         "displacement": 318,
         "horsepower": "150.0",
         "model_year": 71,
         "mpg": 14,
         "origin": 1,
         "weight": 4096
        },
        {
         "_deepnote_index_column": 42,
         "acceleration": 11.5,
         "car_name": "dodge monaco (sw)",
         "cylinders": 8,
         "displacement": 383,
         "horsepower": "180.0",
         "model_year": 71,
         "mpg": 12,
         "origin": 1,
         "weight": 4955
        },
        {
         "_deepnote_index_column": 43,
         "acceleration": 12,
         "car_name": "ford country squire (sw)",
         "cylinders": 8,
         "displacement": 400,
         "horsepower": "170.0",
         "model_year": 71,
         "mpg": 13,
         "origin": 1,
         "weight": 4746
        },
        {
         "_deepnote_index_column": 44,
         "acceleration": 12,
         "car_name": "pontiac safari (sw)",
         "cylinders": 8,
         "displacement": 400,
         "horsepower": "175.0",
         "model_year": 71,
         "mpg": 13,
         "origin": 1,
         "weight": 5140
        },
        {
         "_deepnote_index_column": 45,
         "acceleration": 13.5,
         "car_name": "amc hornet sportabout (sw)",
         "cylinders": 6,
         "displacement": 258,
         "horsepower": "110.0",
         "model_year": 71,
         "mpg": 18,
         "origin": 1,
         "weight": 2962
        },
        {
         "_deepnote_index_column": 46,
         "acceleration": 19,
         "car_name": "chevrolet vega (sw)",
         "cylinders": 4,
         "displacement": 140,
         "horsepower": "72.00",
         "model_year": 71,
         "mpg": 22,
         "origin": 1,
         "weight": 2408
        },
        {
         "_deepnote_index_column": 47,
         "acceleration": 15,
         "car_name": "pontiac firebird",
         "cylinders": 6,
         "displacement": 250,
         "horsepower": "100.0",
         "model_year": 71,
         "mpg": 19,
         "origin": 1,
         "weight": 3282
        },
        {
         "_deepnote_index_column": 48,
         "acceleration": 14.5,
         "car_name": "ford mustang",
         "cylinders": 6,
         "displacement": 250,
         "horsepower": "88.00",
         "model_year": 71,
         "mpg": 18,
         "origin": 1,
         "weight": 3139
        },
        {
         "_deepnote_index_column": 49,
         "acceleration": 14,
         "car_name": "mercury capri 2000",
         "cylinders": 4,
         "displacement": 122,
         "horsepower": "86.00",
         "model_year": 71,
         "mpg": 23,
         "origin": 1,
         "weight": 2220
        },
        {
         "_deepnote_index_column": 50,
         "acceleration": 14,
         "car_name": "opel 1900",
         "cylinders": 4,
         "displacement": 116,
         "horsepower": "90.00",
         "model_year": 71,
         "mpg": 28,
         "origin": 2,
         "weight": 2123
        },
        {
         "_deepnote_index_column": 51,
         "acceleration": 19.5,
         "car_name": "peugeot 304",
         "cylinders": 4,
         "displacement": 79,
         "horsepower": "70.00",
         "model_year": 71,
         "mpg": 30,
         "origin": 2,
         "weight": 2074
        },
        {
         "_deepnote_index_column": 52,
         "acceleration": 14.5,
         "car_name": "fiat 124b",
         "cylinders": 4,
         "displacement": 88,
         "horsepower": "76.00",
         "model_year": 71,
         "mpg": 30,
         "origin": 2,
         "weight": 2065
        },
        {
         "_deepnote_index_column": 53,
         "acceleration": 19,
         "car_name": "toyota corolla 1200",
         "cylinders": 4,
         "displacement": 71,
         "horsepower": "65.00",
         "model_year": 71,
         "mpg": 31,
         "origin": 3,
         "weight": 1773
        },
        {
         "_deepnote_index_column": 54,
         "acceleration": 18,
         "car_name": "datsun 1200",
         "cylinders": 4,
         "displacement": 72,
         "horsepower": "69.00",
         "model_year": 71,
         "mpg": 35,
         "origin": 3,
         "weight": 1613
        },
        {
         "_deepnote_index_column": 55,
         "acceleration": 19,
         "car_name": "volkswagen model 111",
         "cylinders": 4,
         "displacement": 97,
         "horsepower": "60.00",
         "model_year": 71,
         "mpg": 27,
         "origin": 2,
         "weight": 1834
        },
        {
         "_deepnote_index_column": 56,
         "acceleration": 20.5,
         "car_name": "plymouth cricket",
         "cylinders": 4,
         "displacement": 91,
         "horsepower": "70.00",
         "model_year": 71,
         "mpg": 26,
         "origin": 1,
         "weight": 1955
        },
        {
         "_deepnote_index_column": 57,
         "acceleration": 15.5,
         "car_name": "toyota corona hardtop",
         "cylinders": 4,
         "displacement": 113,
         "horsepower": "95.00",
         "model_year": 72,
         "mpg": 24,
         "origin": 3,
         "weight": 2278
        },
        {
         "_deepnote_index_column": 58,
         "acceleration": 17,
         "car_name": "dodge colt hardtop",
         "cylinders": 4,
         "displacement": 97.5,
         "horsepower": "80.00",
         "model_year": 72,
         "mpg": 25,
         "origin": 1,
         "weight": 2126
        },
        {
         "_deepnote_index_column": 59,
         "acceleration": 23.5,
         "car_name": "volkswagen type 3",
         "cylinders": 4,
         "displacement": 97,
         "horsepower": "54.00",
         "model_year": 72,
         "mpg": 23,
         "origin": 2,
         "weight": 2254
        },
        {
         "_deepnote_index_column": 60,
         "acceleration": 19.5,
         "car_name": "chevrolet vega",
         "cylinders": 4,
         "displacement": 140,
         "horsepower": "90.00",
         "model_year": 72,
         "mpg": 20,
         "origin": 1,
         "weight": 2408
        },
        {
         "_deepnote_index_column": 61,
         "acceleration": 16.5,
         "car_name": "ford pinto runabout",
         "cylinders": 4,
         "displacement": 122,
         "horsepower": "86.00",
         "model_year": 72,
         "mpg": 21,
         "origin": 1,
         "weight": 2226
        },
        {
         "_deepnote_index_column": 62,
         "acceleration": 12,
         "car_name": "chevrolet impala",
         "cylinders": 8,
         "displacement": 350,
         "horsepower": "165.0",
         "model_year": 72,
         "mpg": 13,
         "origin": 1,
         "weight": 4274
        },
        {
         "_deepnote_index_column": 63,
         "acceleration": 12,
         "car_name": "pontiac catalina",
         "cylinders": 8,
         "displacement": 400,
         "horsepower": "175.0",
         "model_year": 72,
         "mpg": 14,
         "origin": 1,
         "weight": 4385
        },
        {
         "_deepnote_index_column": 64,
         "acceleration": 13.5,
         "car_name": "plymouth fury iii",
         "cylinders": 8,
         "displacement": 318,
         "horsepower": "150.0",
         "model_year": 72,
         "mpg": 15,
         "origin": 1,
         "weight": 4135
        },
        {
         "_deepnote_index_column": 65,
         "acceleration": 13,
         "car_name": "ford galaxie 500",
         "cylinders": 8,
         "displacement": 351,
         "horsepower": "153.0",
         "model_year": 72,
         "mpg": 14,
         "origin": 1,
         "weight": 4129
        },
        {
         "_deepnote_index_column": 66,
         "acceleration": 11.5,
         "car_name": "amc ambassador sst",
         "cylinders": 8,
         "displacement": 304,
         "horsepower": "150.0",
         "model_year": 72,
         "mpg": 17,
         "origin": 1,
         "weight": 3672
        },
        {
         "_deepnote_index_column": 67,
         "acceleration": 11,
         "car_name": "mercury marquis",
         "cylinders": 8,
         "displacement": 429,
         "horsepower": "208.0",
         "model_year": 72,
         "mpg": 11,
         "origin": 1,
         "weight": 4633
        },
        {
         "_deepnote_index_column": 68,
         "acceleration": 13.5,
         "car_name": "buick lesabre custom",
         "cylinders": 8,
         "displacement": 350,
         "horsepower": "155.0",
         "model_year": 72,
         "mpg": 13,
         "origin": 1,
         "weight": 4502
        },
        {
         "_deepnote_index_column": 69,
         "acceleration": 13.5,
         "car_name": "oldsmobile delta 88 royale",
         "cylinders": 8,
         "displacement": 350,
         "horsepower": "160.0",
         "model_year": 72,
         "mpg": 12,
         "origin": 1,
         "weight": 4456
        },
        {
         "_deepnote_index_column": 70,
         "acceleration": 12.5,
         "car_name": "chrysler newport royal",
         "cylinders": 8,
         "displacement": 400,
         "horsepower": "190.0",
         "model_year": 72,
         "mpg": 13,
         "origin": 1,
         "weight": 4422
        },
        {
         "_deepnote_index_column": 71,
         "acceleration": 13.5,
         "car_name": "mazda rx2 coupe",
         "cylinders": 3,
         "displacement": 70,
         "horsepower": "97.00",
         "model_year": 72,
         "mpg": 19,
         "origin": 3,
         "weight": 2330
        },
        {
         "_deepnote_index_column": 72,
         "acceleration": 12.5,
         "car_name": "amc matador (sw)",
         "cylinders": 8,
         "displacement": 304,
         "horsepower": "150.0",
         "model_year": 72,
         "mpg": 15,
         "origin": 1,
         "weight": 3892
        },
        {
         "_deepnote_index_column": 73,
         "acceleration": 14,
         "car_name": "chevrolet chevelle concours (sw)",
         "cylinders": 8,
         "displacement": 307,
         "horsepower": "130.0",
         "model_year": 72,
         "mpg": 13,
         "origin": 1,
         "weight": 4098
        },
        {
         "_deepnote_index_column": 74,
         "acceleration": 16,
         "car_name": "ford gran torino (sw)",
         "cylinders": 8,
         "displacement": 302,
         "horsepower": "140.0",
         "model_year": 72,
         "mpg": 13,
         "origin": 1,
         "weight": 4294
        },
        {
         "_deepnote_index_column": 75,
         "acceleration": 14,
         "car_name": "plymouth satellite custom (sw)",
         "cylinders": 8,
         "displacement": 318,
         "horsepower": "150.0",
         "model_year": 72,
         "mpg": 14,
         "origin": 1,
         "weight": 4077
        },
        {
         "_deepnote_index_column": 76,
         "acceleration": 14.5,
         "car_name": "volvo 145e (sw)",
         "cylinders": 4,
         "displacement": 121,
         "horsepower": "112.0",
         "model_year": 72,
         "mpg": 18,
         "origin": 2,
         "weight": 2933
        },
        {
         "_deepnote_index_column": 77,
         "acceleration": 18,
         "car_name": "volkswagen 411 (sw)",
         "cylinders": 4,
         "displacement": 121,
         "horsepower": "76.00",
         "model_year": 72,
         "mpg": 22,
         "origin": 2,
         "weight": 2511
        },
        {
         "_deepnote_index_column": 78,
         "acceleration": 19.5,
         "car_name": "peugeot 504 (sw)",
         "cylinders": 4,
         "displacement": 120,
         "horsepower": "87.00",
         "model_year": 72,
         "mpg": 21,
         "origin": 2,
         "weight": 2979
        },
        {
         "_deepnote_index_column": 79,
         "acceleration": 18,
         "car_name": "renault 12 (sw)",
         "cylinders": 4,
         "displacement": 96,
         "horsepower": "69.00",
         "model_year": 72,
         "mpg": 26,
         "origin": 2,
         "weight": 2189
        },
        {
         "_deepnote_index_column": 80,
         "acceleration": 16,
         "car_name": "ford pinto (sw)",
         "cylinders": 4,
         "displacement": 122,
         "horsepower": "86.00",
         "model_year": 72,
         "mpg": 22,
         "origin": 1,
         "weight": 2395
        },
        {
         "_deepnote_index_column": 81,
         "acceleration": 17,
         "car_name": "datsun 510 (sw)",
         "cylinders": 4,
         "displacement": 97,
         "horsepower": "92.00",
         "model_year": 72,
         "mpg": 28,
         "origin": 3,
         "weight": 2288
        },
        {
         "_deepnote_index_column": 82,
         "acceleration": 14.5,
         "car_name": "toyouta corona mark ii (sw)",
         "cylinders": 4,
         "displacement": 120,
         "horsepower": "97.00",
         "model_year": 72,
         "mpg": 23,
         "origin": 3,
         "weight": 2506
        },
        {
         "_deepnote_index_column": 83,
         "acceleration": 15,
         "car_name": "dodge colt (sw)",
         "cylinders": 4,
         "displacement": 98,
         "horsepower": "80.00",
         "model_year": 72,
         "mpg": 28,
         "origin": 1,
         "weight": 2164
        },
        {
         "_deepnote_index_column": 84,
         "acceleration": 16.5,
         "car_name": "toyota corolla 1600 (sw)",
         "cylinders": 4,
         "displacement": 97,
         "horsepower": "88.00",
         "model_year": 72,
         "mpg": 27,
         "origin": 3,
         "weight": 2100
        },
        {
         "_deepnote_index_column": 85,
         "acceleration": 13,
         "car_name": "buick century 350",
         "cylinders": 8,
         "displacement": 350,
         "horsepower": "175.0",
         "model_year": 73,
         "mpg": 13,
         "origin": 1,
         "weight": 4100
        },
        {
         "_deepnote_index_column": 86,
         "acceleration": 11.5,
         "car_name": "amc matador",
         "cylinders": 8,
         "displacement": 304,
         "horsepower": "150.0",
         "model_year": 73,
         "mpg": 14,
         "origin": 1,
         "weight": 3672
        },
        {
         "_deepnote_index_column": 87,
         "acceleration": 13,
         "car_name": "chevrolet malibu",
         "cylinders": 8,
         "displacement": 350,
         "horsepower": "145.0",
         "model_year": 73,
         "mpg": 13,
         "origin": 1,
         "weight": 3988
        },
        {
         "_deepnote_index_column": 88,
         "acceleration": 14.5,
         "car_name": "ford gran torino",
         "cylinders": 8,
         "displacement": 302,
         "horsepower": "137.0",
         "model_year": 73,
         "mpg": 14,
         "origin": 1,
         "weight": 4042
        },
        {
         "_deepnote_index_column": 89,
         "acceleration": 12.5,
         "car_name": "dodge coronet custom",
         "cylinders": 8,
         "displacement": 318,
         "horsepower": "150.0",
         "model_year": 73,
         "mpg": 15,
         "origin": 1,
         "weight": 3777
        },
        {
         "_deepnote_index_column": 90,
         "acceleration": 11.5,
         "car_name": "mercury marquis brougham",
         "cylinders": 8,
         "displacement": 429,
         "horsepower": "198.0",
         "model_year": 73,
         "mpg": 12,
         "origin": 1,
         "weight": 4952
        },
        {
         "_deepnote_index_column": 91,
         "acceleration": 12,
         "car_name": "chevrolet caprice classic",
         "cylinders": 8,
         "displacement": 400,
         "horsepower": "150.0",
         "model_year": 73,
         "mpg": 13,
         "origin": 1,
         "weight": 4464
        },
        {
         "_deepnote_index_column": 92,
         "acceleration": 13,
         "car_name": "ford ltd",
         "cylinders": 8,
         "displacement": 351,
         "horsepower": "158.0",
         "model_year": 73,
         "mpg": 13,
         "origin": 1,
         "weight": 4363
        },
        {
         "_deepnote_index_column": 93,
         "acceleration": 14.5,
         "car_name": "plymouth fury gran sedan",
         "cylinders": 8,
         "displacement": 318,
         "horsepower": "150.0",
         "model_year": 73,
         "mpg": 14,
         "origin": 1,
         "weight": 4237
        },
        {
         "_deepnote_index_column": 94,
         "acceleration": 11,
         "car_name": "chrysler new yorker brougham",
         "cylinders": 8,
         "displacement": 440,
         "horsepower": "215.0",
         "model_year": 73,
         "mpg": 13,
         "origin": 1,
         "weight": 4735
        },
        {
         "_deepnote_index_column": 95,
         "acceleration": 11,
         "car_name": "buick electra 225 custom",
         "cylinders": 8,
         "displacement": 455,
         "horsepower": "225.0",
         "model_year": 73,
         "mpg": 12,
         "origin": 1,
         "weight": 4951
        },
        {
         "_deepnote_index_column": 96,
         "acceleration": 11,
         "car_name": "amc ambassador brougham",
         "cylinders": 8,
         "displacement": 360,
         "horsepower": "175.0",
         "model_year": 73,
         "mpg": 13,
         "origin": 1,
         "weight": 3821
        },
        {
         "_deepnote_index_column": 97,
         "acceleration": 16.5,
         "car_name": "plymouth valiant",
         "cylinders": 6,
         "displacement": 225,
         "horsepower": "105.0",
         "model_year": 73,
         "mpg": 18,
         "origin": 1,
         "weight": 3121
        },
        {
         "_deepnote_index_column": 98,
         "acceleration": 18,
         "car_name": "chevrolet nova custom",
         "cylinders": 6,
         "displacement": 250,
         "horsepower": "100.0",
         "model_year": 73,
         "mpg": 16,
         "origin": 1,
         "weight": 3278
        },
        {
         "_deepnote_index_column": 99,
         "acceleration": 16,
         "car_name": "amc hornet",
         "cylinders": 6,
         "displacement": 232,
         "horsepower": "100.0",
         "model_year": 73,
         "mpg": 18,
         "origin": 1,
         "weight": 2945
        }
       ]
      },
      "text/html": [
       "<div>\n",
       "<style scoped>\n",
       "    .dataframe tbody tr th:only-of-type {\n",
       "        vertical-align: middle;\n",
       "    }\n",
       "\n",
       "    .dataframe tbody tr th {\n",
       "        vertical-align: top;\n",
       "    }\n",
       "\n",
       "    .dataframe thead th {\n",
       "        text-align: right;\n",
       "    }\n",
       "</style>\n",
       "<table border=\"1\" class=\"dataframe\">\n",
       "  <thead>\n",
       "    <tr style=\"text-align: right;\">\n",
       "      <th></th>\n",
       "      <th>mpg</th>\n",
       "      <th>cylinders</th>\n",
       "      <th>displacement</th>\n",
       "      <th>horsepower</th>\n",
       "      <th>weight</th>\n",
       "      <th>acceleration</th>\n",
       "      <th>model_year</th>\n",
       "      <th>origin</th>\n",
       "      <th>car_name</th>\n",
       "    </tr>\n",
       "  </thead>\n",
       "  <tbody>\n",
       "    <tr>\n",
       "      <th>0</th>\n",
       "      <td>18.0</td>\n",
       "      <td>8</td>\n",
       "      <td>307.0</td>\n",
       "      <td>130.0</td>\n",
       "      <td>3504.0</td>\n",
       "      <td>12.0</td>\n",
       "      <td>70</td>\n",
       "      <td>1</td>\n",
       "      <td>chevrolet chevelle malibu</td>\n",
       "    </tr>\n",
       "    <tr>\n",
       "      <th>1</th>\n",
       "      <td>15.0</td>\n",
       "      <td>8</td>\n",
       "      <td>350.0</td>\n",
       "      <td>165.0</td>\n",
       "      <td>3693.0</td>\n",
       "      <td>11.5</td>\n",
       "      <td>70</td>\n",
       "      <td>1</td>\n",
       "      <td>buick skylark 320</td>\n",
       "    </tr>\n",
       "    <tr>\n",
       "      <th>2</th>\n",
       "      <td>18.0</td>\n",
       "      <td>8</td>\n",
       "      <td>318.0</td>\n",
       "      <td>150.0</td>\n",
       "      <td>3436.0</td>\n",
       "      <td>11.0</td>\n",
       "      <td>70</td>\n",
       "      <td>1</td>\n",
       "      <td>plymouth satellite</td>\n",
       "    </tr>\n",
       "    <tr>\n",
       "      <th>3</th>\n",
       "      <td>16.0</td>\n",
       "      <td>8</td>\n",
       "      <td>304.0</td>\n",
       "      <td>150.0</td>\n",
       "      <td>3433.0</td>\n",
       "      <td>12.0</td>\n",
       "      <td>70</td>\n",
       "      <td>1</td>\n",
       "      <td>amc rebel sst</td>\n",
       "    </tr>\n",
       "    <tr>\n",
       "      <th>4</th>\n",
       "      <td>17.0</td>\n",
       "      <td>8</td>\n",
       "      <td>302.0</td>\n",
       "      <td>140.0</td>\n",
       "      <td>3449.0</td>\n",
       "      <td>10.5</td>\n",
       "      <td>70</td>\n",
       "      <td>1</td>\n",
       "      <td>ford torino</td>\n",
       "    </tr>\n",
       "    <tr>\n",
       "      <th>...</th>\n",
       "      <td>...</td>\n",
       "      <td>...</td>\n",
       "      <td>...</td>\n",
       "      <td>...</td>\n",
       "      <td>...</td>\n",
       "      <td>...</td>\n",
       "      <td>...</td>\n",
       "      <td>...</td>\n",
       "      <td>...</td>\n",
       "    </tr>\n",
       "    <tr>\n",
       "      <th>393</th>\n",
       "      <td>27.0</td>\n",
       "      <td>4</td>\n",
       "      <td>140.0</td>\n",
       "      <td>86.00</td>\n",
       "      <td>2790.0</td>\n",
       "      <td>15.6</td>\n",
       "      <td>82</td>\n",
       "      <td>1</td>\n",
       "      <td>ford mustang gl</td>\n",
       "    </tr>\n",
       "    <tr>\n",
       "      <th>394</th>\n",
       "      <td>44.0</td>\n",
       "      <td>4</td>\n",
       "      <td>97.0</td>\n",
       "      <td>52.00</td>\n",
       "      <td>2130.0</td>\n",
       "      <td>24.6</td>\n",
       "      <td>82</td>\n",
       "      <td>2</td>\n",
       "      <td>vw pickup</td>\n",
       "    </tr>\n",
       "    <tr>\n",
       "      <th>395</th>\n",
       "      <td>32.0</td>\n",
       "      <td>4</td>\n",
       "      <td>135.0</td>\n",
       "      <td>84.00</td>\n",
       "      <td>2295.0</td>\n",
       "      <td>11.6</td>\n",
       "      <td>82</td>\n",
       "      <td>1</td>\n",
       "      <td>dodge rampage</td>\n",
       "    </tr>\n",
       "    <tr>\n",
       "      <th>396</th>\n",
       "      <td>28.0</td>\n",
       "      <td>4</td>\n",
       "      <td>120.0</td>\n",
       "      <td>79.00</td>\n",
       "      <td>2625.0</td>\n",
       "      <td>18.6</td>\n",
       "      <td>82</td>\n",
       "      <td>1</td>\n",
       "      <td>ford ranger</td>\n",
       "    </tr>\n",
       "    <tr>\n",
       "      <th>397</th>\n",
       "      <td>31.0</td>\n",
       "      <td>4</td>\n",
       "      <td>119.0</td>\n",
       "      <td>82.00</td>\n",
       "      <td>2720.0</td>\n",
       "      <td>19.4</td>\n",
       "      <td>82</td>\n",
       "      <td>1</td>\n",
       "      <td>chevy s-10</td>\n",
       "    </tr>\n",
       "  </tbody>\n",
       "</table>\n",
       "<p>398 rows × 9 columns</p>\n",
       "</div>"
      ],
      "text/plain": [
       "      mpg  cylinders  displacement horsepower  weight  acceleration  \\\n",
       "0    18.0          8         307.0      130.0  3504.0          12.0   \n",
       "1    15.0          8         350.0      165.0  3693.0          11.5   \n",
       "2    18.0          8         318.0      150.0  3436.0          11.0   \n",
       "3    16.0          8         304.0      150.0  3433.0          12.0   \n",
       "4    17.0          8         302.0      140.0  3449.0          10.5   \n",
       "..    ...        ...           ...        ...     ...           ...   \n",
       "393  27.0          4         140.0      86.00  2790.0          15.6   \n",
       "394  44.0          4          97.0      52.00  2130.0          24.6   \n",
       "395  32.0          4         135.0      84.00  2295.0          11.6   \n",
       "396  28.0          4         120.0      79.00  2625.0          18.6   \n",
       "397  31.0          4         119.0      82.00  2720.0          19.4   \n",
       "\n",
       "     model_year  origin                   car_name  \n",
       "0            70       1  chevrolet chevelle malibu  \n",
       "1            70       1          buick skylark 320  \n",
       "2            70       1         plymouth satellite  \n",
       "3            70       1              amc rebel sst  \n",
       "4            70       1                ford torino  \n",
       "..          ...     ...                        ...  \n",
       "393          82       1            ford mustang gl  \n",
       "394          82       2                  vw pickup  \n",
       "395          82       1              dodge rampage  \n",
       "396          82       1                ford ranger  \n",
       "397          82       1                 chevy s-10  \n",
       "\n",
       "[398 rows x 9 columns]"
      ]
     },
     "execution_count": 6,
     "metadata": {},
     "output_type": "execute_result"
    }
   ],
   "source": [
    "# lets see what it looks like first\n",
    "df"
   ]
  },
  {
   "cell_type": "code",
   "execution_count": null,
   "metadata": {
    "cell_id": "ef4a6436c328406e8fa0e5808ce656d5",
    "deepnote_cell_type": "code",
    "deepnote_table_loading": false,
    "deepnote_table_state": {
     "filters": [],
     "pageIndex": 3,
     "pageSize": 10,
     "sortBy": []
    },
    "deepnote_to_be_reexecuted": false,
    "execution_millis": 231,
    "execution_start": 1702538190599,
    "source_hash": null
   },
   "outputs": [
    {
     "name": "stdout",
     "output_type": "stream",
     "text": [
      "Data Exploration:\n",
      "<class 'pandas.core.frame.DataFrame'>\n",
      "Int64Index: 392 entries, 0 to 397\n",
      "Data columns (total 9 columns):\n",
      " #   Column        Non-Null Count  Dtype  \n",
      "---  ------        --------------  -----  \n",
      " 0   mpg           392 non-null    float64\n",
      " 1   cylinders     392 non-null    int64  \n",
      " 2   displacement  392 non-null    float64\n",
      " 3   horsepower    392 non-null    object \n",
      " 4   weight        392 non-null    float64\n",
      " 5   acceleration  392 non-null    float64\n",
      " 6   model_year    392 non-null    int64  \n",
      " 7   origin        392 non-null    int64  \n",
      " 8   car_name      392 non-null    object \n",
      "dtypes: float64(4), int64(3), object(2)\n",
      "memory usage: 30.6+ KB\n",
      "None\n",
      "              mpg   cylinders  displacement       weight  acceleration  \\\n",
      "count  392.000000  392.000000    392.000000   392.000000    392.000000   \n",
      "mean    23.445918    5.471939    194.411990  2977.584184     15.541327   \n",
      "std      7.805007    1.705783    104.644004   849.402560      2.758864   \n",
      "min      9.000000    3.000000     68.000000  1613.000000      8.000000   \n",
      "25%     17.000000    4.000000    105.000000  2225.250000     13.775000   \n",
      "50%     22.750000    4.000000    151.000000  2803.500000     15.500000   \n",
      "75%     29.000000    8.000000    275.750000  3614.750000     17.025000   \n",
      "max     46.600000    8.000000    455.000000  5140.000000     24.800000   \n",
      "\n",
      "       model_year      origin  \n",
      "count  392.000000  392.000000  \n",
      "mean    75.979592    1.576531  \n",
      "std      3.683737    0.805518  \n",
      "min     70.000000    1.000000  \n",
      "25%     73.000000    1.000000  \n",
      "50%     76.000000    1.000000  \n",
      "75%     79.000000    2.000000  \n",
      "max     82.000000    3.000000  \n"
     ]
    },
    {
     "data": {
      "application/vnd.deepnote.dataframe.v3+json": {
       "column_count": 9,
       "columns": [
        {
         "dtype": "float64",
         "name": "mpg",
         "stats": {
          "histogram": [
           {
            "bin_end": 12.76,
            "bin_start": 9,
            "count": 13
           },
           {
            "bin_end": 16.52,
            "bin_start": 12.76,
            "count": 78
           },
           {
            "bin_end": 20.28,
            "bin_start": 16.52,
            "count": 73
           },
           {
            "bin_end": 24.04,
            "bin_start": 20.28,
            "count": 58
           },
           {
            "bin_end": 27.8,
            "bin_start": 24.04,
            "count": 53
           },
           {
            "bin_end": 31.560000000000002,
            "bin_start": 27.8,
            "count": 48
           },
           {
            "bin_end": 35.32,
            "bin_start": 31.560000000000002,
            "count": 37
           },
           {
            "bin_end": 39.08,
            "bin_start": 35.32,
            "count": 22
           },
           {
            "bin_end": 42.84,
            "bin_start": 39.08,
            "count": 4
           },
           {
            "bin_end": 46.6,
            "bin_start": 42.84,
            "count": 6
           }
          ],
          "max": "46.6",
          "min": "9.0",
          "nan_count": 0,
          "unique_count": 127
         }
        },
        {
         "dtype": "int64",
         "name": "cylinders",
         "stats": {
          "histogram": [
           {
            "bin_end": 3.5,
            "bin_start": 3,
            "count": 4
           },
           {
            "bin_end": 4,
            "bin_start": 3.5,
            "count": 0
           },
           {
            "bin_end": 4.5,
            "bin_start": 4,
            "count": 199
           },
           {
            "bin_end": 5,
            "bin_start": 4.5,
            "count": 0
           },
           {
            "bin_end": 5.5,
            "bin_start": 5,
            "count": 3
           },
           {
            "bin_end": 6,
            "bin_start": 5.5,
            "count": 0
           },
           {
            "bin_end": 6.5,
            "bin_start": 6,
            "count": 83
           },
           {
            "bin_end": 7,
            "bin_start": 6.5,
            "count": 0
           },
           {
            "bin_end": 7.5,
            "bin_start": 7,
            "count": 0
           },
           {
            "bin_end": 8,
            "bin_start": 7.5,
            "count": 103
           }
          ],
          "max": "8",
          "min": "3",
          "nan_count": 0,
          "unique_count": 5
         }
        },
        {
         "dtype": "float64",
         "name": "displacement",
         "stats": {
          "histogram": [
           {
            "bin_end": 106.7,
            "bin_start": 68,
            "count": 104
           },
           {
            "bin_end": 145.4,
            "bin_start": 106.7,
            "count": 88
           },
           {
            "bin_end": 184.10000000000002,
            "bin_start": 145.4,
            "count": 30
           },
           {
            "bin_end": 222.8,
            "bin_start": 184.10000000000002,
            "count": 12
           },
           {
            "bin_end": 261.5,
            "bin_start": 222.8,
            "count": 57
           },
           {
            "bin_end": 300.20000000000005,
            "bin_start": 261.5,
            "count": 3
           },
           {
            "bin_end": 338.90000000000003,
            "bin_start": 300.20000000000005,
            "count": 42
           },
           {
            "bin_end": 377.6,
            "bin_start": 338.90000000000003,
            "count": 31
           },
           {
            "bin_end": 416.3,
            "bin_start": 377.6,
            "count": 16
           },
           {
            "bin_end": 455,
            "bin_start": 416.3,
            "count": 9
           }
          ],
          "max": "455.0",
          "min": "68.0",
          "nan_count": 0,
          "unique_count": 81
         }
        },
        {
         "dtype": "object",
         "name": "horsepower",
         "stats": {
          "categories": [
           {
            "count": 22,
            "name": "150.0"
           },
           {
            "count": 20,
            "name": "90.00"
           },
           {
            "count": 350,
            "name": "91 others"
           }
          ],
          "nan_count": 0,
          "unique_count": 93
         }
        },
        {
         "dtype": "float64",
         "name": "weight",
         "stats": {
          "histogram": [
           {
            "bin_end": 1965.7,
            "bin_start": 1613,
            "count": 30
           },
           {
            "bin_end": 2318.4,
            "bin_start": 1965.7,
            "count": 89
           },
           {
            "bin_end": 2671.1,
            "bin_start": 2318.4,
            "count": 58
           },
           {
            "bin_end": 3023.8,
            "bin_start": 2671.1,
            "count": 52
           },
           {
            "bin_end": 3376.5,
            "bin_start": 3023.8,
            "count": 36
           },
           {
            "bin_end": 3729.2,
            "bin_start": 3376.5,
            "count": 40
           },
           {
            "bin_end": 4081.9,
            "bin_start": 3729.2,
            "count": 29
           },
           {
            "bin_end": 4434.6,
            "bin_start": 4081.9,
            "count": 34
           },
           {
            "bin_end": 4787.299999999999,
            "bin_start": 4434.6,
            "count": 18
           },
           {
            "bin_end": 5140,
            "bin_start": 4787.299999999999,
            "count": 6
           }
          ],
          "max": "5140.0",
          "min": "1613.0",
          "nan_count": 0,
          "unique_count": 346
         }
        },
        {
         "dtype": "float64",
         "name": "acceleration",
         "stats": {
          "histogram": [
           {
            "bin_end": 9.68,
            "bin_start": 8,
            "count": 6
           },
           {
            "bin_end": 11.36,
            "bin_start": 9.68,
            "count": 15
           },
           {
            "bin_end": 13.040000000000001,
            "bin_start": 11.36,
            "count": 50
           },
           {
            "bin_end": 14.72,
            "bin_start": 13.040000000000001,
            "count": 85
           },
           {
            "bin_end": 16.4,
            "bin_start": 14.72,
            "count": 91
           },
           {
            "bin_end": 18.080000000000002,
            "bin_start": 16.4,
            "count": 78
           },
           {
            "bin_end": 19.76,
            "bin_start": 18.080000000000002,
            "count": 44
           },
           {
            "bin_end": 21.44,
            "bin_start": 19.76,
            "count": 12
           },
           {
            "bin_end": 23.12,
            "bin_start": 21.44,
            "count": 7
           },
           {
            "bin_end": 24.8,
            "bin_start": 23.12,
            "count": 4
           }
          ],
          "max": "24.8",
          "min": "8.0",
          "nan_count": 0,
          "unique_count": 95
         }
        },
        {
         "dtype": "int64",
         "name": "model_year",
         "stats": {
          "histogram": [
           {
            "bin_end": 71.2,
            "bin_start": 70,
            "count": 56
           },
           {
            "bin_end": 72.4,
            "bin_start": 71.2,
            "count": 28
           },
           {
            "bin_end": 73.6,
            "bin_start": 72.4,
            "count": 40
           },
           {
            "bin_end": 74.8,
            "bin_start": 73.6,
            "count": 26
           },
           {
            "bin_end": 76,
            "bin_start": 74.8,
            "count": 30
           },
           {
            "bin_end": 77.2,
            "bin_start": 76,
            "count": 62
           },
           {
            "bin_end": 78.4,
            "bin_start": 77.2,
            "count": 36
           },
           {
            "bin_end": 79.6,
            "bin_start": 78.4,
            "count": 29
           },
           {
            "bin_end": 80.8,
            "bin_start": 79.6,
            "count": 27
           },
           {
            "bin_end": 82,
            "bin_start": 80.8,
            "count": 58
           }
          ],
          "max": "82",
          "min": "70",
          "nan_count": 0,
          "unique_count": 13
         }
        },
        {
         "dtype": "int64",
         "name": "origin",
         "stats": {
          "histogram": [
           {
            "bin_end": 1.2,
            "bin_start": 1,
            "count": 245
           },
           {
            "bin_end": 1.4,
            "bin_start": 1.2,
            "count": 0
           },
           {
            "bin_end": 1.6,
            "bin_start": 1.4,
            "count": 0
           },
           {
            "bin_end": 1.8,
            "bin_start": 1.6,
            "count": 0
           },
           {
            "bin_end": 2,
            "bin_start": 1.8,
            "count": 0
           },
           {
            "bin_end": 2.2,
            "bin_start": 2,
            "count": 68
           },
           {
            "bin_end": 2.4000000000000004,
            "bin_start": 2.2,
            "count": 0
           },
           {
            "bin_end": 2.6,
            "bin_start": 2.4000000000000004,
            "count": 0
           },
           {
            "bin_end": 2.8,
            "bin_start": 2.6,
            "count": 0
           },
           {
            "bin_end": 3,
            "bin_start": 2.8,
            "count": 79
           }
          ],
          "max": "3",
          "min": "1",
          "nan_count": 0,
          "unique_count": 3
         }
        },
        {
         "dtype": "object",
         "name": "car_name",
         "stats": {
          "categories": [
           {
            "count": 5,
            "name": "amc matador"
           },
           {
            "count": 5,
            "name": "ford pinto"
           },
           {
            "count": 382,
            "name": "299 others"
           }
          ],
          "nan_count": 0,
          "unique_count": 301
         }
        },
        {
         "dtype": "int64",
         "name": "_deepnote_index_column"
        }
       ],
       "row_count": 392,
       "rows": [
        {
         "_deepnote_index_column": 30,
         "acceleration": 15.5,
         "car_name": "chevrolet vega 2300",
         "cylinders": 4,
         "displacement": 140,
         "horsepower": "90.00",
         "model_year": 71,
         "mpg": 28,
         "origin": 1,
         "weight": 2264
        },
        {
         "_deepnote_index_column": 31,
         "acceleration": 14,
         "car_name": "toyota corona",
         "cylinders": 4,
         "displacement": 113,
         "horsepower": "95.00",
         "model_year": 71,
         "mpg": 25,
         "origin": 3,
         "weight": 2228
        },
        {
         "_deepnote_index_column": 33,
         "acceleration": 13,
         "car_name": "amc gremlin",
         "cylinders": 6,
         "displacement": 232,
         "horsepower": "100.0",
         "model_year": 71,
         "mpg": 19,
         "origin": 1,
         "weight": 2634
        },
        {
         "_deepnote_index_column": 34,
         "acceleration": 15.5,
         "car_name": "plymouth satellite custom",
         "cylinders": 6,
         "displacement": 225,
         "horsepower": "105.0",
         "model_year": 71,
         "mpg": 16,
         "origin": 1,
         "weight": 3439
        },
        {
         "_deepnote_index_column": 35,
         "acceleration": 15.5,
         "car_name": "chevrolet chevelle malibu",
         "cylinders": 6,
         "displacement": 250,
         "horsepower": "100.0",
         "model_year": 71,
         "mpg": 17,
         "origin": 1,
         "weight": 3329
        },
        {
         "_deepnote_index_column": 36,
         "acceleration": 15.5,
         "car_name": "ford torino 500",
         "cylinders": 6,
         "displacement": 250,
         "horsepower": "88.00",
         "model_year": 71,
         "mpg": 19,
         "origin": 1,
         "weight": 3302
        },
        {
         "_deepnote_index_column": 37,
         "acceleration": 15.5,
         "car_name": "amc matador",
         "cylinders": 6,
         "displacement": 232,
         "horsepower": "100.0",
         "model_year": 71,
         "mpg": 18,
         "origin": 1,
         "weight": 3288
        },
        {
         "_deepnote_index_column": 38,
         "acceleration": 12,
         "car_name": "chevrolet impala",
         "cylinders": 8,
         "displacement": 350,
         "horsepower": "165.0",
         "model_year": 71,
         "mpg": 14,
         "origin": 1,
         "weight": 4209
        },
        {
         "_deepnote_index_column": 39,
         "acceleration": 11.5,
         "car_name": "pontiac catalina brougham",
         "cylinders": 8,
         "displacement": 400,
         "horsepower": "175.0",
         "model_year": 71,
         "mpg": 14,
         "origin": 1,
         "weight": 4464
        },
        {
         "_deepnote_index_column": 40,
         "acceleration": 13.5,
         "car_name": "ford galaxie 500",
         "cylinders": 8,
         "displacement": 351,
         "horsepower": "153.0",
         "model_year": 71,
         "mpg": 14,
         "origin": 1,
         "weight": 4154
        }
       ]
      },
      "text/html": [
       "<div>\n",
       "<style scoped>\n",
       "    .dataframe tbody tr th:only-of-type {\n",
       "        vertical-align: middle;\n",
       "    }\n",
       "\n",
       "    .dataframe tbody tr th {\n",
       "        vertical-align: top;\n",
       "    }\n",
       "\n",
       "    .dataframe thead th {\n",
       "        text-align: right;\n",
       "    }\n",
       "</style>\n",
       "<table border=\"1\" class=\"dataframe\">\n",
       "  <thead>\n",
       "    <tr style=\"text-align: right;\">\n",
       "      <th></th>\n",
       "      <th>mpg</th>\n",
       "      <th>cylinders</th>\n",
       "      <th>displacement</th>\n",
       "      <th>horsepower</th>\n",
       "      <th>weight</th>\n",
       "      <th>acceleration</th>\n",
       "      <th>model_year</th>\n",
       "      <th>origin</th>\n",
       "      <th>car_name</th>\n",
       "    </tr>\n",
       "  </thead>\n",
       "  <tbody>\n",
       "    <tr>\n",
       "      <th>0</th>\n",
       "      <td>18.0</td>\n",
       "      <td>8</td>\n",
       "      <td>307.0</td>\n",
       "      <td>130.0</td>\n",
       "      <td>3504.0</td>\n",
       "      <td>12.0</td>\n",
       "      <td>70</td>\n",
       "      <td>1</td>\n",
       "      <td>chevrolet chevelle malibu</td>\n",
       "    </tr>\n",
       "    <tr>\n",
       "      <th>1</th>\n",
       "      <td>15.0</td>\n",
       "      <td>8</td>\n",
       "      <td>350.0</td>\n",
       "      <td>165.0</td>\n",
       "      <td>3693.0</td>\n",
       "      <td>11.5</td>\n",
       "      <td>70</td>\n",
       "      <td>1</td>\n",
       "      <td>buick skylark 320</td>\n",
       "    </tr>\n",
       "    <tr>\n",
       "      <th>2</th>\n",
       "      <td>18.0</td>\n",
       "      <td>8</td>\n",
       "      <td>318.0</td>\n",
       "      <td>150.0</td>\n",
       "      <td>3436.0</td>\n",
       "      <td>11.0</td>\n",
       "      <td>70</td>\n",
       "      <td>1</td>\n",
       "      <td>plymouth satellite</td>\n",
       "    </tr>\n",
       "    <tr>\n",
       "      <th>3</th>\n",
       "      <td>16.0</td>\n",
       "      <td>8</td>\n",
       "      <td>304.0</td>\n",
       "      <td>150.0</td>\n",
       "      <td>3433.0</td>\n",
       "      <td>12.0</td>\n",
       "      <td>70</td>\n",
       "      <td>1</td>\n",
       "      <td>amc rebel sst</td>\n",
       "    </tr>\n",
       "    <tr>\n",
       "      <th>4</th>\n",
       "      <td>17.0</td>\n",
       "      <td>8</td>\n",
       "      <td>302.0</td>\n",
       "      <td>140.0</td>\n",
       "      <td>3449.0</td>\n",
       "      <td>10.5</td>\n",
       "      <td>70</td>\n",
       "      <td>1</td>\n",
       "      <td>ford torino</td>\n",
       "    </tr>\n",
       "    <tr>\n",
       "      <th>...</th>\n",
       "      <td>...</td>\n",
       "      <td>...</td>\n",
       "      <td>...</td>\n",
       "      <td>...</td>\n",
       "      <td>...</td>\n",
       "      <td>...</td>\n",
       "      <td>...</td>\n",
       "      <td>...</td>\n",
       "      <td>...</td>\n",
       "    </tr>\n",
       "    <tr>\n",
       "      <th>393</th>\n",
       "      <td>27.0</td>\n",
       "      <td>4</td>\n",
       "      <td>140.0</td>\n",
       "      <td>86.00</td>\n",
       "      <td>2790.0</td>\n",
       "      <td>15.6</td>\n",
       "      <td>82</td>\n",
       "      <td>1</td>\n",
       "      <td>ford mustang gl</td>\n",
       "    </tr>\n",
       "    <tr>\n",
       "      <th>394</th>\n",
       "      <td>44.0</td>\n",
       "      <td>4</td>\n",
       "      <td>97.0</td>\n",
       "      <td>52.00</td>\n",
       "      <td>2130.0</td>\n",
       "      <td>24.6</td>\n",
       "      <td>82</td>\n",
       "      <td>2</td>\n",
       "      <td>vw pickup</td>\n",
       "    </tr>\n",
       "    <tr>\n",
       "      <th>395</th>\n",
       "      <td>32.0</td>\n",
       "      <td>4</td>\n",
       "      <td>135.0</td>\n",
       "      <td>84.00</td>\n",
       "      <td>2295.0</td>\n",
       "      <td>11.6</td>\n",
       "      <td>82</td>\n",
       "      <td>1</td>\n",
       "      <td>dodge rampage</td>\n",
       "    </tr>\n",
       "    <tr>\n",
       "      <th>396</th>\n",
       "      <td>28.0</td>\n",
       "      <td>4</td>\n",
       "      <td>120.0</td>\n",
       "      <td>79.00</td>\n",
       "      <td>2625.0</td>\n",
       "      <td>18.6</td>\n",
       "      <td>82</td>\n",
       "      <td>1</td>\n",
       "      <td>ford ranger</td>\n",
       "    </tr>\n",
       "    <tr>\n",
       "      <th>397</th>\n",
       "      <td>31.0</td>\n",
       "      <td>4</td>\n",
       "      <td>119.0</td>\n",
       "      <td>82.00</td>\n",
       "      <td>2720.0</td>\n",
       "      <td>19.4</td>\n",
       "      <td>82</td>\n",
       "      <td>1</td>\n",
       "      <td>chevy s-10</td>\n",
       "    </tr>\n",
       "  </tbody>\n",
       "</table>\n",
       "<p>392 rows × 9 columns</p>\n",
       "</div>"
      ],
      "text/plain": [
       "      mpg  cylinders  displacement horsepower  weight  acceleration  \\\n",
       "0    18.0          8         307.0      130.0  3504.0          12.0   \n",
       "1    15.0          8         350.0      165.0  3693.0          11.5   \n",
       "2    18.0          8         318.0      150.0  3436.0          11.0   \n",
       "3    16.0          8         304.0      150.0  3433.0          12.0   \n",
       "4    17.0          8         302.0      140.0  3449.0          10.5   \n",
       "..    ...        ...           ...        ...     ...           ...   \n",
       "393  27.0          4         140.0      86.00  2790.0          15.6   \n",
       "394  44.0          4          97.0      52.00  2130.0          24.6   \n",
       "395  32.0          4         135.0      84.00  2295.0          11.6   \n",
       "396  28.0          4         120.0      79.00  2625.0          18.6   \n",
       "397  31.0          4         119.0      82.00  2720.0          19.4   \n",
       "\n",
       "     model_year  origin                   car_name  \n",
       "0            70       1  chevrolet chevelle malibu  \n",
       "1            70       1          buick skylark 320  \n",
       "2            70       1         plymouth satellite  \n",
       "3            70       1              amc rebel sst  \n",
       "4            70       1                ford torino  \n",
       "..          ...     ...                        ...  \n",
       "393          82       1            ford mustang gl  \n",
       "394          82       2                  vw pickup  \n",
       "395          82       1              dodge rampage  \n",
       "396          82       1                ford ranger  \n",
       "397          82       1                 chevy s-10  \n",
       "\n",
       "[392 rows x 9 columns]"
      ]
     },
     "execution_count": 7,
     "metadata": {},
     "output_type": "execute_result"
    }
   ],
   "source": [
    "# Before decide which method we want to use to find out our answer.\n",
    "# There are still things we want to do before hand. such as:\n",
    "# Data exploration, deal with missing value and duplicate values:\n",
    "\n",
    "# Remove rows with missing values \n",
    "# !!!!notice that the second row, I replace all the \"?\"\" with \"NA\" , Because some coloumns habe dtype= objects and can not be detected as a missing value\n",
    "df = df.dropna()\n",
    "df = df.replace('?', pd.NA).dropna()\n",
    "\n",
    "# Data Cleaning\n",
    "df = df.drop_duplicates()\n",
    "\n",
    "# Data exploration\n",
    "print(\"Data Exploration:\")\n",
    "print(df.info())\n",
    "print(df.describe())\n",
    "df"
   ]
  },
  {
   "cell_type": "code",
   "execution_count": null,
   "metadata": {
    "cell_id": "e8869416b2a44043ae8a7fe30ecd5cd2",
    "deepnote_cell_type": "code",
    "deepnote_to_be_reexecuted": false,
    "execution_millis": 117,
    "execution_start": 1702538191505,
    "source_hash": null
   },
   "outputs": [],
   "source": [
    "# Note that besides other factors that might influence acceleration\n",
    "# There is a column named \"oring\", that it might be a non-direct factor.\n",
    "# Which might need us to fit the model with or without it\n",
    "# so that we can see if it matters.\n",
    "\n",
    "# !!!!Not try to spoil but look at the names of our features, you might notice that\n",
    "# some of them are not related to acceleration but might still appear high goodness of fit."
   ]
  },
  {
   "cell_type": "markdown",
   "metadata": {
    "cell_id": "575e970585874e25a0b1a655d664b98f",
    "deepnote_cell_type": "markdown",
    "tags": []
   },
   "source": [
    "## Call to our adventure: First guess to the result"
   ]
  },
  {
   "cell_type": "markdown",
   "metadata": {
    "cell_id": "22fed45a3f664653967e175f91e2eb33",
    "deepnote_cell_type": "markdown"
   },
   "source": [
    "What might be main factors? \n",
    "Horsepower? cylinders? or weight?\n",
    " \n",
    "Because we are studying accelerations. let's recall from Physics 7:\n",
    "acceleration formula: f=ma => a=f/m while in such case, \"angular acceleration\" would replace \"acceleraiton\" and \"torque\" would replace \"force\".\n",
    "\n",
    "However torque is not mentioned in the datasets, datasets thats related to torque might be \"weight\" and \"model_year\". As the model_year represent the (记得在fit的部分把不同年份的分开fit，再把得出的结果mean，这样能保证年份不对其他项造成影响）technology level.\n",
    "\n",
    "In this case, we could say that cylinders, horsepower, could be the main factors as our common sense.\n",
    "lets check that out using alt chart.\n",
    "\n",
    "BUT, before all of the above, we should first find out what does the value of the acceleration mean. does it mean time from 0-60mph or the km/s^-1."
   ]
  },
  {
   "cell_type": "code",
   "execution_count": null,
   "metadata": {
    "cell_id": "4a41733b8576498cb1c1516a623d8687",
    "deepnote_cell_type": "code",
    "deepnote_to_be_reexecuted": false,
    "execution_millis": 108,
    "execution_start": 1702538193421,
    "source_hash": null
   },
   "outputs": [
    {
     "data": {
      "text/html": [
       "\n",
       "<div id=\"altair-viz-f775af6138d542d6b6bb6468bc90bc99\"></div>\n",
       "<script type=\"text/javascript\">\n",
       "  var VEGA_DEBUG = (typeof VEGA_DEBUG == \"undefined\") ? {} : VEGA_DEBUG;\n",
       "  (function(spec, embedOpt){\n",
       "    let outputDiv = document.currentScript.previousElementSibling;\n",
       "    if (outputDiv.id !== \"altair-viz-f775af6138d542d6b6bb6468bc90bc99\") {\n",
       "      outputDiv = document.getElementById(\"altair-viz-f775af6138d542d6b6bb6468bc90bc99\");\n",
       "    }\n",
       "    const paths = {\n",
       "      \"vega\": \"https://cdn.jsdelivr.net/npm//vega@5?noext\",\n",
       "      \"vega-lib\": \"https://cdn.jsdelivr.net/npm//vega-lib?noext\",\n",
       "      \"vega-lite\": \"https://cdn.jsdelivr.net/npm//vega-lite@4.17.0?noext\",\n",
       "      \"vega-embed\": \"https://cdn.jsdelivr.net/npm//vega-embed@6?noext\",\n",
       "    };\n",
       "\n",
       "    function maybeLoadScript(lib, version) {\n",
       "      var key = `${lib.replace(\"-\", \"\")}_version`;\n",
       "      return (VEGA_DEBUG[key] == version) ?\n",
       "        Promise.resolve(paths[lib]) :\n",
       "        new Promise(function(resolve, reject) {\n",
       "          var s = document.createElement('script');\n",
       "          document.getElementsByTagName(\"head\")[0].appendChild(s);\n",
       "          s.async = true;\n",
       "          s.onload = () => {\n",
       "            VEGA_DEBUG[key] = version;\n",
       "            return resolve(paths[lib]);\n",
       "          };\n",
       "          s.onerror = () => reject(`Error loading script: ${paths[lib]}`);\n",
       "          s.src = paths[lib];\n",
       "        });\n",
       "    }\n",
       "\n",
       "    function showError(err) {\n",
       "      outputDiv.innerHTML = `<div class=\"error\" style=\"color:red;\">${err}</div>`;\n",
       "      throw err;\n",
       "    }\n",
       "\n",
       "    function displayChart(vegaEmbed) {\n",
       "      vegaEmbed(outputDiv, spec, embedOpt)\n",
       "        .catch(err => showError(`Javascript Error: ${err.message}<br>This usually means there's a typo in your chart specification. See the javascript console for the full traceback.`));\n",
       "    }\n",
       "\n",
       "    if(typeof define === \"function\" && define.amd) {\n",
       "      requirejs.config({paths});\n",
       "      require([\"vega-embed\"], displayChart, err => showError(`Error loading script: ${err.message}`));\n",
       "    } else {\n",
       "      maybeLoadScript(\"vega\", \"5\")\n",
       "        .then(() => maybeLoadScript(\"vega-lite\", \"4.17.0\"))\n",
       "        .then(() => maybeLoadScript(\"vega-embed\", \"6\"))\n",
       "        .catch(showError)\n",
       "        .then(() => displayChart(vegaEmbed));\n",
       "    }\n",
       "  })({\"config\": {\"view\": {\"continuousWidth\": 400, \"continuousHeight\": 300}}, \"layer\": [{\"mark\": \"point\", \"encoding\": {\"tooltip\": [{\"field\": \"weight\", \"type\": \"quantitative\"}, {\"field\": \"acceleration\", \"type\": \"quantitative\"}, {\"field\": \"cylinders\", \"type\": \"quantitative\"}, {\"field\": \"model_year\", \"type\": \"quantitative\"}, {\"field\": \"car_name\", \"type\": \"nominal\"}, {\"field\": \"horsepower\", \"type\": \"nominal\"}], \"x\": {\"field\": \"weight\", \"type\": \"quantitative\"}, \"y\": {\"field\": \"acceleration\", \"type\": \"quantitative\"}}}, {\"mark\": {\"type\": \"line\", \"color\": \"red\"}, \"encoding\": {\"tooltip\": [{\"field\": \"weight\", \"type\": \"quantitative\"}, {\"field\": \"acceleration\", \"type\": \"quantitative\"}, {\"field\": \"cylinders\", \"type\": \"quantitative\"}, {\"field\": \"model_year\", \"type\": \"quantitative\"}, {\"field\": \"car_name\", \"type\": \"nominal\"}, {\"field\": \"horsepower\", \"type\": \"nominal\"}], \"x\": {\"field\": \"weight\", \"type\": \"quantitative\"}, \"y\": {\"field\": \"acceleration\", \"type\": \"quantitative\"}}, \"transform\": [{\"on\": \"weight\", \"regression\": \"acceleration\"}]}], \"data\": {\"name\": \"data-062a950928f0a567605bfbbf0bb6ca5c\"}, \"$schema\": \"https://vega.github.io/schema/vega-lite/v4.17.0.json\", \"datasets\": {\"data-062a950928f0a567605bfbbf0bb6ca5c\": [{\"mpg\": 18.0, \"cylinders\": 8, \"displacement\": 307.0, \"horsepower\": \"130.0\", \"weight\": 3504.0, \"acceleration\": 12.0, \"model_year\": 70, \"origin\": 1, \"car_name\": \"chevrolet chevelle malibu\"}, {\"mpg\": 15.0, \"cylinders\": 8, \"displacement\": 350.0, \"horsepower\": \"165.0\", \"weight\": 3693.0, \"acceleration\": 11.5, \"model_year\": 70, \"origin\": 1, \"car_name\": \"buick skylark 320\"}, {\"mpg\": 18.0, \"cylinders\": 8, \"displacement\": 318.0, \"horsepower\": \"150.0\", \"weight\": 3436.0, \"acceleration\": 11.0, \"model_year\": 70, \"origin\": 1, \"car_name\": \"plymouth satellite\"}, {\"mpg\": 16.0, \"cylinders\": 8, \"displacement\": 304.0, \"horsepower\": \"150.0\", \"weight\": 3433.0, \"acceleration\": 12.0, \"model_year\": 70, \"origin\": 1, \"car_name\": \"amc rebel sst\"}, {\"mpg\": 17.0, \"cylinders\": 8, \"displacement\": 302.0, \"horsepower\": \"140.0\", \"weight\": 3449.0, \"acceleration\": 10.5, \"model_year\": 70, \"origin\": 1, \"car_name\": \"ford torino\"}, {\"mpg\": 15.0, \"cylinders\": 8, \"displacement\": 429.0, \"horsepower\": \"198.0\", \"weight\": 4341.0, \"acceleration\": 10.0, \"model_year\": 70, \"origin\": 1, \"car_name\": \"ford galaxie 500\"}, {\"mpg\": 14.0, \"cylinders\": 8, \"displacement\": 454.0, \"horsepower\": \"220.0\", \"weight\": 4354.0, \"acceleration\": 9.0, \"model_year\": 70, \"origin\": 1, \"car_name\": \"chevrolet impala\"}, {\"mpg\": 14.0, \"cylinders\": 8, \"displacement\": 440.0, \"horsepower\": \"215.0\", \"weight\": 4312.0, \"acceleration\": 8.5, \"model_year\": 70, \"origin\": 1, \"car_name\": \"plymouth fury iii\"}, {\"mpg\": 14.0, \"cylinders\": 8, \"displacement\": 455.0, \"horsepower\": \"225.0\", \"weight\": 4425.0, \"acceleration\": 10.0, \"model_year\": 70, \"origin\": 1, \"car_name\": \"pontiac catalina\"}, {\"mpg\": 15.0, \"cylinders\": 8, \"displacement\": 390.0, \"horsepower\": \"190.0\", \"weight\": 3850.0, \"acceleration\": 8.5, \"model_year\": 70, \"origin\": 1, \"car_name\": \"amc ambassador dpl\"}, {\"mpg\": 15.0, \"cylinders\": 8, \"displacement\": 383.0, \"horsepower\": \"170.0\", \"weight\": 3563.0, \"acceleration\": 10.0, \"model_year\": 70, \"origin\": 1, \"car_name\": \"dodge challenger se\"}, {\"mpg\": 14.0, \"cylinders\": 8, \"displacement\": 340.0, \"horsepower\": \"160.0\", \"weight\": 3609.0, \"acceleration\": 8.0, \"model_year\": 70, \"origin\": 1, \"car_name\": \"plymouth 'cuda 340\"}, {\"mpg\": 15.0, \"cylinders\": 8, \"displacement\": 400.0, \"horsepower\": \"150.0\", \"weight\": 3761.0, \"acceleration\": 9.5, \"model_year\": 70, \"origin\": 1, \"car_name\": \"chevrolet monte carlo\"}, {\"mpg\": 14.0, \"cylinders\": 8, \"displacement\": 455.0, \"horsepower\": \"225.0\", \"weight\": 3086.0, \"acceleration\": 10.0, \"model_year\": 70, \"origin\": 1, \"car_name\": \"buick estate wagon (sw)\"}, {\"mpg\": 24.0, \"cylinders\": 4, \"displacement\": 113.0, \"horsepower\": \"95.00\", \"weight\": 2372.0, \"acceleration\": 15.0, \"model_year\": 70, \"origin\": 3, \"car_name\": \"toyota corona mark ii\"}, {\"mpg\": 22.0, \"cylinders\": 6, \"displacement\": 198.0, \"horsepower\": \"95.00\", \"weight\": 2833.0, \"acceleration\": 15.5, \"model_year\": 70, \"origin\": 1, \"car_name\": \"plymouth duster\"}, {\"mpg\": 18.0, \"cylinders\": 6, \"displacement\": 199.0, \"horsepower\": \"97.00\", \"weight\": 2774.0, \"acceleration\": 15.5, \"model_year\": 70, \"origin\": 1, \"car_name\": \"amc hornet\"}, {\"mpg\": 21.0, \"cylinders\": 6, \"displacement\": 200.0, \"horsepower\": \"85.00\", \"weight\": 2587.0, \"acceleration\": 16.0, \"model_year\": 70, \"origin\": 1, \"car_name\": \"ford maverick\"}, {\"mpg\": 27.0, \"cylinders\": 4, \"displacement\": 97.0, \"horsepower\": \"88.00\", \"weight\": 2130.0, \"acceleration\": 14.5, \"model_year\": 70, \"origin\": 3, \"car_name\": \"datsun pl510\"}, {\"mpg\": 26.0, \"cylinders\": 4, \"displacement\": 97.0, \"horsepower\": \"46.00\", \"weight\": 1835.0, \"acceleration\": 20.5, \"model_year\": 70, \"origin\": 2, \"car_name\": \"volkswagen 1131 deluxe sedan\"}, {\"mpg\": 25.0, \"cylinders\": 4, \"displacement\": 110.0, \"horsepower\": \"87.00\", \"weight\": 2672.0, \"acceleration\": 17.5, \"model_year\": 70, \"origin\": 2, \"car_name\": \"peugeot 504\"}, {\"mpg\": 24.0, \"cylinders\": 4, \"displacement\": 107.0, \"horsepower\": \"90.00\", \"weight\": 2430.0, \"acceleration\": 14.5, \"model_year\": 70, \"origin\": 2, \"car_name\": \"audi 100 ls\"}, {\"mpg\": 25.0, \"cylinders\": 4, \"displacement\": 104.0, \"horsepower\": \"95.00\", \"weight\": 2375.0, \"acceleration\": 17.5, \"model_year\": 70, \"origin\": 2, \"car_name\": \"saab 99e\"}, {\"mpg\": 26.0, \"cylinders\": 4, \"displacement\": 121.0, \"horsepower\": \"113.0\", \"weight\": 2234.0, \"acceleration\": 12.5, \"model_year\": 70, \"origin\": 2, \"car_name\": \"bmw 2002\"}, {\"mpg\": 21.0, \"cylinders\": 6, \"displacement\": 199.0, \"horsepower\": \"90.00\", \"weight\": 2648.0, \"acceleration\": 15.0, \"model_year\": 70, \"origin\": 1, \"car_name\": \"amc gremlin\"}, {\"mpg\": 10.0, \"cylinders\": 8, \"displacement\": 360.0, \"horsepower\": \"215.0\", \"weight\": 4615.0, \"acceleration\": 14.0, \"model_year\": 70, \"origin\": 1, \"car_name\": \"ford f250\"}, {\"mpg\": 10.0, \"cylinders\": 8, \"displacement\": 307.0, \"horsepower\": \"200.0\", \"weight\": 4376.0, \"acceleration\": 15.0, \"model_year\": 70, \"origin\": 1, \"car_name\": \"chevy c20\"}, {\"mpg\": 11.0, \"cylinders\": 8, \"displacement\": 318.0, \"horsepower\": \"210.0\", \"weight\": 4382.0, \"acceleration\": 13.5, \"model_year\": 70, \"origin\": 1, \"car_name\": \"dodge d200\"}, {\"mpg\": 9.0, \"cylinders\": 8, \"displacement\": 304.0, \"horsepower\": \"193.0\", \"weight\": 4732.0, \"acceleration\": 18.5, \"model_year\": 70, \"origin\": 1, \"car_name\": \"hi 1200d\"}, {\"mpg\": 27.0, \"cylinders\": 4, \"displacement\": 97.0, \"horsepower\": \"88.00\", \"weight\": 2130.0, \"acceleration\": 14.5, \"model_year\": 71, \"origin\": 3, \"car_name\": \"datsun pl510\"}, {\"mpg\": 28.0, \"cylinders\": 4, \"displacement\": 140.0, \"horsepower\": \"90.00\", \"weight\": 2264.0, \"acceleration\": 15.5, \"model_year\": 71, \"origin\": 1, \"car_name\": \"chevrolet vega 2300\"}, {\"mpg\": 25.0, \"cylinders\": 4, \"displacement\": 113.0, \"horsepower\": \"95.00\", \"weight\": 2228.0, \"acceleration\": 14.0, \"model_year\": 71, \"origin\": 3, \"car_name\": \"toyota corona\"}, {\"mpg\": 19.0, \"cylinders\": 6, \"displacement\": 232.0, \"horsepower\": \"100.0\", \"weight\": 2634.0, \"acceleration\": 13.0, \"model_year\": 71, \"origin\": 1, \"car_name\": \"amc gremlin\"}, {\"mpg\": 16.0, \"cylinders\": 6, \"displacement\": 225.0, \"horsepower\": \"105.0\", \"weight\": 3439.0, \"acceleration\": 15.5, \"model_year\": 71, \"origin\": 1, \"car_name\": \"plymouth satellite custom\"}, {\"mpg\": 17.0, \"cylinders\": 6, \"displacement\": 250.0, \"horsepower\": \"100.0\", \"weight\": 3329.0, \"acceleration\": 15.5, \"model_year\": 71, \"origin\": 1, \"car_name\": \"chevrolet chevelle malibu\"}, {\"mpg\": 19.0, \"cylinders\": 6, \"displacement\": 250.0, \"horsepower\": \"88.00\", \"weight\": 3302.0, \"acceleration\": 15.5, \"model_year\": 71, \"origin\": 1, \"car_name\": \"ford torino 500\"}, {\"mpg\": 18.0, \"cylinders\": 6, \"displacement\": 232.0, \"horsepower\": \"100.0\", \"weight\": 3288.0, \"acceleration\": 15.5, \"model_year\": 71, \"origin\": 1, \"car_name\": \"amc matador\"}, {\"mpg\": 14.0, \"cylinders\": 8, \"displacement\": 350.0, \"horsepower\": \"165.0\", \"weight\": 4209.0, \"acceleration\": 12.0, \"model_year\": 71, \"origin\": 1, \"car_name\": \"chevrolet impala\"}, {\"mpg\": 14.0, \"cylinders\": 8, \"displacement\": 400.0, \"horsepower\": \"175.0\", \"weight\": 4464.0, \"acceleration\": 11.5, \"model_year\": 71, \"origin\": 1, \"car_name\": \"pontiac catalina brougham\"}, {\"mpg\": 14.0, \"cylinders\": 8, \"displacement\": 351.0, \"horsepower\": \"153.0\", \"weight\": 4154.0, \"acceleration\": 13.5, \"model_year\": 71, \"origin\": 1, \"car_name\": \"ford galaxie 500\"}, {\"mpg\": 14.0, \"cylinders\": 8, \"displacement\": 318.0, \"horsepower\": \"150.0\", \"weight\": 4096.0, \"acceleration\": 13.0, \"model_year\": 71, \"origin\": 1, \"car_name\": \"plymouth fury iii\"}, {\"mpg\": 12.0, \"cylinders\": 8, \"displacement\": 383.0, \"horsepower\": \"180.0\", \"weight\": 4955.0, \"acceleration\": 11.5, \"model_year\": 71, \"origin\": 1, \"car_name\": \"dodge monaco (sw)\"}, {\"mpg\": 13.0, \"cylinders\": 8, \"displacement\": 400.0, \"horsepower\": \"170.0\", \"weight\": 4746.0, \"acceleration\": 12.0, \"model_year\": 71, \"origin\": 1, \"car_name\": \"ford country squire (sw)\"}, {\"mpg\": 13.0, \"cylinders\": 8, \"displacement\": 400.0, \"horsepower\": \"175.0\", \"weight\": 5140.0, \"acceleration\": 12.0, \"model_year\": 71, \"origin\": 1, \"car_name\": \"pontiac safari (sw)\"}, {\"mpg\": 18.0, \"cylinders\": 6, \"displacement\": 258.0, \"horsepower\": \"110.0\", \"weight\": 2962.0, \"acceleration\": 13.5, \"model_year\": 71, \"origin\": 1, \"car_name\": \"amc hornet sportabout (sw)\"}, {\"mpg\": 22.0, \"cylinders\": 4, \"displacement\": 140.0, \"horsepower\": \"72.00\", \"weight\": 2408.0, \"acceleration\": 19.0, \"model_year\": 71, \"origin\": 1, \"car_name\": \"chevrolet vega (sw)\"}, {\"mpg\": 19.0, \"cylinders\": 6, \"displacement\": 250.0, \"horsepower\": \"100.0\", \"weight\": 3282.0, \"acceleration\": 15.0, \"model_year\": 71, \"origin\": 1, \"car_name\": \"pontiac firebird\"}, {\"mpg\": 18.0, \"cylinders\": 6, \"displacement\": 250.0, \"horsepower\": \"88.00\", \"weight\": 3139.0, \"acceleration\": 14.5, \"model_year\": 71, \"origin\": 1, \"car_name\": \"ford mustang\"}, {\"mpg\": 23.0, \"cylinders\": 4, \"displacement\": 122.0, \"horsepower\": \"86.00\", \"weight\": 2220.0, \"acceleration\": 14.0, \"model_year\": 71, \"origin\": 1, \"car_name\": \"mercury capri 2000\"}, {\"mpg\": 28.0, \"cylinders\": 4, \"displacement\": 116.0, \"horsepower\": \"90.00\", \"weight\": 2123.0, \"acceleration\": 14.0, \"model_year\": 71, \"origin\": 2, \"car_name\": \"opel 1900\"}, {\"mpg\": 30.0, \"cylinders\": 4, \"displacement\": 79.0, \"horsepower\": \"70.00\", \"weight\": 2074.0, \"acceleration\": 19.5, \"model_year\": 71, \"origin\": 2, \"car_name\": \"peugeot 304\"}, {\"mpg\": 30.0, \"cylinders\": 4, \"displacement\": 88.0, \"horsepower\": \"76.00\", \"weight\": 2065.0, \"acceleration\": 14.5, \"model_year\": 71, \"origin\": 2, \"car_name\": \"fiat 124b\"}, {\"mpg\": 31.0, \"cylinders\": 4, \"displacement\": 71.0, \"horsepower\": \"65.00\", \"weight\": 1773.0, \"acceleration\": 19.0, \"model_year\": 71, \"origin\": 3, \"car_name\": \"toyota corolla 1200\"}, {\"mpg\": 35.0, \"cylinders\": 4, \"displacement\": 72.0, \"horsepower\": \"69.00\", \"weight\": 1613.0, \"acceleration\": 18.0, \"model_year\": 71, \"origin\": 3, \"car_name\": \"datsun 1200\"}, {\"mpg\": 27.0, \"cylinders\": 4, \"displacement\": 97.0, \"horsepower\": \"60.00\", \"weight\": 1834.0, \"acceleration\": 19.0, \"model_year\": 71, \"origin\": 2, \"car_name\": \"volkswagen model 111\"}, {\"mpg\": 26.0, \"cylinders\": 4, \"displacement\": 91.0, \"horsepower\": \"70.00\", \"weight\": 1955.0, \"acceleration\": 20.5, \"model_year\": 71, \"origin\": 1, \"car_name\": \"plymouth cricket\"}, {\"mpg\": 24.0, \"cylinders\": 4, \"displacement\": 113.0, \"horsepower\": \"95.00\", \"weight\": 2278.0, \"acceleration\": 15.5, \"model_year\": 72, \"origin\": 3, \"car_name\": \"toyota corona hardtop\"}, {\"mpg\": 25.0, \"cylinders\": 4, \"displacement\": 97.5, \"horsepower\": \"80.00\", \"weight\": 2126.0, \"acceleration\": 17.0, \"model_year\": 72, \"origin\": 1, \"car_name\": \"dodge colt hardtop\"}, {\"mpg\": 23.0, \"cylinders\": 4, \"displacement\": 97.0, \"horsepower\": \"54.00\", \"weight\": 2254.0, \"acceleration\": 23.5, \"model_year\": 72, \"origin\": 2, \"car_name\": \"volkswagen type 3\"}, {\"mpg\": 20.0, \"cylinders\": 4, \"displacement\": 140.0, \"horsepower\": \"90.00\", \"weight\": 2408.0, \"acceleration\": 19.5, \"model_year\": 72, \"origin\": 1, \"car_name\": \"chevrolet vega\"}, {\"mpg\": 21.0, \"cylinders\": 4, \"displacement\": 122.0, \"horsepower\": \"86.00\", \"weight\": 2226.0, \"acceleration\": 16.5, \"model_year\": 72, \"origin\": 1, \"car_name\": \"ford pinto runabout\"}, {\"mpg\": 13.0, \"cylinders\": 8, \"displacement\": 350.0, \"horsepower\": \"165.0\", \"weight\": 4274.0, \"acceleration\": 12.0, \"model_year\": 72, \"origin\": 1, \"car_name\": \"chevrolet impala\"}, {\"mpg\": 14.0, \"cylinders\": 8, \"displacement\": 400.0, \"horsepower\": \"175.0\", \"weight\": 4385.0, \"acceleration\": 12.0, \"model_year\": 72, \"origin\": 1, \"car_name\": \"pontiac catalina\"}, {\"mpg\": 15.0, \"cylinders\": 8, \"displacement\": 318.0, \"horsepower\": \"150.0\", \"weight\": 4135.0, \"acceleration\": 13.5, \"model_year\": 72, \"origin\": 1, \"car_name\": \"plymouth fury iii\"}, {\"mpg\": 14.0, \"cylinders\": 8, \"displacement\": 351.0, \"horsepower\": \"153.0\", \"weight\": 4129.0, \"acceleration\": 13.0, \"model_year\": 72, \"origin\": 1, \"car_name\": \"ford galaxie 500\"}, {\"mpg\": 17.0, \"cylinders\": 8, \"displacement\": 304.0, \"horsepower\": \"150.0\", \"weight\": 3672.0, \"acceleration\": 11.5, \"model_year\": 72, \"origin\": 1, \"car_name\": \"amc ambassador sst\"}, {\"mpg\": 11.0, \"cylinders\": 8, \"displacement\": 429.0, \"horsepower\": \"208.0\", \"weight\": 4633.0, \"acceleration\": 11.0, \"model_year\": 72, \"origin\": 1, \"car_name\": \"mercury marquis\"}, {\"mpg\": 13.0, \"cylinders\": 8, \"displacement\": 350.0, \"horsepower\": \"155.0\", \"weight\": 4502.0, \"acceleration\": 13.5, \"model_year\": 72, \"origin\": 1, \"car_name\": \"buick lesabre custom\"}, {\"mpg\": 12.0, \"cylinders\": 8, \"displacement\": 350.0, \"horsepower\": \"160.0\", \"weight\": 4456.0, \"acceleration\": 13.5, \"model_year\": 72, \"origin\": 1, \"car_name\": \"oldsmobile delta 88 royale\"}, {\"mpg\": 13.0, \"cylinders\": 8, \"displacement\": 400.0, \"horsepower\": \"190.0\", \"weight\": 4422.0, \"acceleration\": 12.5, \"model_year\": 72, \"origin\": 1, \"car_name\": \"chrysler newport royal\"}, {\"mpg\": 19.0, \"cylinders\": 3, \"displacement\": 70.0, \"horsepower\": \"97.00\", \"weight\": 2330.0, \"acceleration\": 13.5, \"model_year\": 72, \"origin\": 3, \"car_name\": \"mazda rx2 coupe\"}, {\"mpg\": 15.0, \"cylinders\": 8, \"displacement\": 304.0, \"horsepower\": \"150.0\", \"weight\": 3892.0, \"acceleration\": 12.5, \"model_year\": 72, \"origin\": 1, \"car_name\": \"amc matador (sw)\"}, {\"mpg\": 13.0, \"cylinders\": 8, \"displacement\": 307.0, \"horsepower\": \"130.0\", \"weight\": 4098.0, \"acceleration\": 14.0, \"model_year\": 72, \"origin\": 1, \"car_name\": \"chevrolet chevelle concours (sw)\"}, {\"mpg\": 13.0, \"cylinders\": 8, \"displacement\": 302.0, \"horsepower\": \"140.0\", \"weight\": 4294.0, \"acceleration\": 16.0, \"model_year\": 72, \"origin\": 1, \"car_name\": \"ford gran torino (sw)\"}, {\"mpg\": 14.0, \"cylinders\": 8, \"displacement\": 318.0, \"horsepower\": \"150.0\", \"weight\": 4077.0, \"acceleration\": 14.0, \"model_year\": 72, \"origin\": 1, \"car_name\": \"plymouth satellite custom (sw)\"}, {\"mpg\": 18.0, \"cylinders\": 4, \"displacement\": 121.0, \"horsepower\": \"112.0\", \"weight\": 2933.0, \"acceleration\": 14.5, \"model_year\": 72, \"origin\": 2, \"car_name\": \"volvo 145e (sw)\"}, {\"mpg\": 22.0, \"cylinders\": 4, \"displacement\": 121.0, \"horsepower\": \"76.00\", \"weight\": 2511.0, \"acceleration\": 18.0, \"model_year\": 72, \"origin\": 2, \"car_name\": \"volkswagen 411 (sw)\"}, {\"mpg\": 21.0, \"cylinders\": 4, \"displacement\": 120.0, \"horsepower\": \"87.00\", \"weight\": 2979.0, \"acceleration\": 19.5, \"model_year\": 72, \"origin\": 2, \"car_name\": \"peugeot 504 (sw)\"}, {\"mpg\": 26.0, \"cylinders\": 4, \"displacement\": 96.0, \"horsepower\": \"69.00\", \"weight\": 2189.0, \"acceleration\": 18.0, \"model_year\": 72, \"origin\": 2, \"car_name\": \"renault 12 (sw)\"}, {\"mpg\": 22.0, \"cylinders\": 4, \"displacement\": 122.0, \"horsepower\": \"86.00\", \"weight\": 2395.0, \"acceleration\": 16.0, \"model_year\": 72, \"origin\": 1, \"car_name\": \"ford pinto (sw)\"}, {\"mpg\": 28.0, \"cylinders\": 4, \"displacement\": 97.0, \"horsepower\": \"92.00\", \"weight\": 2288.0, \"acceleration\": 17.0, \"model_year\": 72, \"origin\": 3, \"car_name\": \"datsun 510 (sw)\"}, {\"mpg\": 23.0, \"cylinders\": 4, \"displacement\": 120.0, \"horsepower\": \"97.00\", \"weight\": 2506.0, \"acceleration\": 14.5, \"model_year\": 72, \"origin\": 3, \"car_name\": \"toyouta corona mark ii (sw)\"}, {\"mpg\": 28.0, \"cylinders\": 4, \"displacement\": 98.0, \"horsepower\": \"80.00\", \"weight\": 2164.0, \"acceleration\": 15.0, \"model_year\": 72, \"origin\": 1, \"car_name\": \"dodge colt (sw)\"}, {\"mpg\": 27.0, \"cylinders\": 4, \"displacement\": 97.0, \"horsepower\": \"88.00\", \"weight\": 2100.0, \"acceleration\": 16.5, \"model_year\": 72, \"origin\": 3, \"car_name\": \"toyota corolla 1600 (sw)\"}, {\"mpg\": 13.0, \"cylinders\": 8, \"displacement\": 350.0, \"horsepower\": \"175.0\", \"weight\": 4100.0, \"acceleration\": 13.0, \"model_year\": 73, \"origin\": 1, \"car_name\": \"buick century 350\"}, {\"mpg\": 14.0, \"cylinders\": 8, \"displacement\": 304.0, \"horsepower\": \"150.0\", \"weight\": 3672.0, \"acceleration\": 11.5, \"model_year\": 73, \"origin\": 1, \"car_name\": \"amc matador\"}, {\"mpg\": 13.0, \"cylinders\": 8, \"displacement\": 350.0, \"horsepower\": \"145.0\", \"weight\": 3988.0, \"acceleration\": 13.0, \"model_year\": 73, \"origin\": 1, \"car_name\": \"chevrolet malibu\"}, {\"mpg\": 14.0, \"cylinders\": 8, \"displacement\": 302.0, \"horsepower\": \"137.0\", \"weight\": 4042.0, \"acceleration\": 14.5, \"model_year\": 73, \"origin\": 1, \"car_name\": \"ford gran torino\"}, {\"mpg\": 15.0, \"cylinders\": 8, \"displacement\": 318.0, \"horsepower\": \"150.0\", \"weight\": 3777.0, \"acceleration\": 12.5, \"model_year\": 73, \"origin\": 1, \"car_name\": \"dodge coronet custom\"}, {\"mpg\": 12.0, \"cylinders\": 8, \"displacement\": 429.0, \"horsepower\": \"198.0\", \"weight\": 4952.0, \"acceleration\": 11.5, \"model_year\": 73, \"origin\": 1, \"car_name\": \"mercury marquis brougham\"}, {\"mpg\": 13.0, \"cylinders\": 8, \"displacement\": 400.0, \"horsepower\": \"150.0\", \"weight\": 4464.0, \"acceleration\": 12.0, \"model_year\": 73, \"origin\": 1, \"car_name\": \"chevrolet caprice classic\"}, {\"mpg\": 13.0, \"cylinders\": 8, \"displacement\": 351.0, \"horsepower\": \"158.0\", \"weight\": 4363.0, \"acceleration\": 13.0, \"model_year\": 73, \"origin\": 1, \"car_name\": \"ford ltd\"}, {\"mpg\": 14.0, \"cylinders\": 8, \"displacement\": 318.0, \"horsepower\": \"150.0\", \"weight\": 4237.0, \"acceleration\": 14.5, \"model_year\": 73, \"origin\": 1, \"car_name\": \"plymouth fury gran sedan\"}, {\"mpg\": 13.0, \"cylinders\": 8, \"displacement\": 440.0, \"horsepower\": \"215.0\", \"weight\": 4735.0, \"acceleration\": 11.0, \"model_year\": 73, \"origin\": 1, \"car_name\": \"chrysler new yorker brougham\"}, {\"mpg\": 12.0, \"cylinders\": 8, \"displacement\": 455.0, \"horsepower\": \"225.0\", \"weight\": 4951.0, \"acceleration\": 11.0, \"model_year\": 73, \"origin\": 1, \"car_name\": \"buick electra 225 custom\"}, {\"mpg\": 13.0, \"cylinders\": 8, \"displacement\": 360.0, \"horsepower\": \"175.0\", \"weight\": 3821.0, \"acceleration\": 11.0, \"model_year\": 73, \"origin\": 1, \"car_name\": \"amc ambassador brougham\"}, {\"mpg\": 18.0, \"cylinders\": 6, \"displacement\": 225.0, \"horsepower\": \"105.0\", \"weight\": 3121.0, \"acceleration\": 16.5, \"model_year\": 73, \"origin\": 1, \"car_name\": \"plymouth valiant\"}, {\"mpg\": 16.0, \"cylinders\": 6, \"displacement\": 250.0, \"horsepower\": \"100.0\", \"weight\": 3278.0, \"acceleration\": 18.0, \"model_year\": 73, \"origin\": 1, \"car_name\": \"chevrolet nova custom\"}, {\"mpg\": 18.0, \"cylinders\": 6, \"displacement\": 232.0, \"horsepower\": \"100.0\", \"weight\": 2945.0, \"acceleration\": 16.0, \"model_year\": 73, \"origin\": 1, \"car_name\": \"amc hornet\"}, {\"mpg\": 18.0, \"cylinders\": 6, \"displacement\": 250.0, \"horsepower\": \"88.00\", \"weight\": 3021.0, \"acceleration\": 16.5, \"model_year\": 73, \"origin\": 1, \"car_name\": \"ford maverick\"}, {\"mpg\": 23.0, \"cylinders\": 6, \"displacement\": 198.0, \"horsepower\": \"95.00\", \"weight\": 2904.0, \"acceleration\": 16.0, \"model_year\": 73, \"origin\": 1, \"car_name\": \"plymouth duster\"}, {\"mpg\": 26.0, \"cylinders\": 4, \"displacement\": 97.0, \"horsepower\": \"46.00\", \"weight\": 1950.0, \"acceleration\": 21.0, \"model_year\": 73, \"origin\": 2, \"car_name\": \"volkswagen super beetle\"}, {\"mpg\": 11.0, \"cylinders\": 8, \"displacement\": 400.0, \"horsepower\": \"150.0\", \"weight\": 4997.0, \"acceleration\": 14.0, \"model_year\": 73, \"origin\": 1, \"car_name\": \"chevrolet impala\"}, {\"mpg\": 12.0, \"cylinders\": 8, \"displacement\": 400.0, \"horsepower\": \"167.0\", \"weight\": 4906.0, \"acceleration\": 12.5, \"model_year\": 73, \"origin\": 1, \"car_name\": \"ford country\"}, {\"mpg\": 13.0, \"cylinders\": 8, \"displacement\": 360.0, \"horsepower\": \"170.0\", \"weight\": 4654.0, \"acceleration\": 13.0, \"model_year\": 73, \"origin\": 1, \"car_name\": \"plymouth custom suburb\"}, {\"mpg\": 12.0, \"cylinders\": 8, \"displacement\": 350.0, \"horsepower\": \"180.0\", \"weight\": 4499.0, \"acceleration\": 12.5, \"model_year\": 73, \"origin\": 1, \"car_name\": \"oldsmobile vista cruiser\"}, {\"mpg\": 18.0, \"cylinders\": 6, \"displacement\": 232.0, \"horsepower\": \"100.0\", \"weight\": 2789.0, \"acceleration\": 15.0, \"model_year\": 73, \"origin\": 1, \"car_name\": \"amc gremlin\"}, {\"mpg\": 20.0, \"cylinders\": 4, \"displacement\": 97.0, \"horsepower\": \"88.00\", \"weight\": 2279.0, \"acceleration\": 19.0, \"model_year\": 73, \"origin\": 3, \"car_name\": \"toyota carina\"}, {\"mpg\": 21.0, \"cylinders\": 4, \"displacement\": 140.0, \"horsepower\": \"72.00\", \"weight\": 2401.0, \"acceleration\": 19.5, \"model_year\": 73, \"origin\": 1, \"car_name\": \"chevrolet vega\"}, {\"mpg\": 22.0, \"cylinders\": 4, \"displacement\": 108.0, \"horsepower\": \"94.00\", \"weight\": 2379.0, \"acceleration\": 16.5, \"model_year\": 73, \"origin\": 3, \"car_name\": \"datsun 610\"}, {\"mpg\": 18.0, \"cylinders\": 3, \"displacement\": 70.0, \"horsepower\": \"90.00\", \"weight\": 2124.0, \"acceleration\": 13.5, \"model_year\": 73, \"origin\": 3, \"car_name\": \"maxda rx3\"}, {\"mpg\": 19.0, \"cylinders\": 4, \"displacement\": 122.0, \"horsepower\": \"85.00\", \"weight\": 2310.0, \"acceleration\": 18.5, \"model_year\": 73, \"origin\": 1, \"car_name\": \"ford pinto\"}, {\"mpg\": 21.0, \"cylinders\": 6, \"displacement\": 155.0, \"horsepower\": \"107.0\", \"weight\": 2472.0, \"acceleration\": 14.0, \"model_year\": 73, \"origin\": 1, \"car_name\": \"mercury capri v6\"}, {\"mpg\": 26.0, \"cylinders\": 4, \"displacement\": 98.0, \"horsepower\": \"90.00\", \"weight\": 2265.0, \"acceleration\": 15.5, \"model_year\": 73, \"origin\": 2, \"car_name\": \"fiat 124 sport coupe\"}, {\"mpg\": 15.0, \"cylinders\": 8, \"displacement\": 350.0, \"horsepower\": \"145.0\", \"weight\": 4082.0, \"acceleration\": 13.0, \"model_year\": 73, \"origin\": 1, \"car_name\": \"chevrolet monte carlo s\"}, {\"mpg\": 16.0, \"cylinders\": 8, \"displacement\": 400.0, \"horsepower\": \"230.0\", \"weight\": 4278.0, \"acceleration\": 9.5, \"model_year\": 73, \"origin\": 1, \"car_name\": \"pontiac grand prix\"}, {\"mpg\": 29.0, \"cylinders\": 4, \"displacement\": 68.0, \"horsepower\": \"49.00\", \"weight\": 1867.0, \"acceleration\": 19.5, \"model_year\": 73, \"origin\": 2, \"car_name\": \"fiat 128\"}, {\"mpg\": 24.0, \"cylinders\": 4, \"displacement\": 116.0, \"horsepower\": \"75.00\", \"weight\": 2158.0, \"acceleration\": 15.5, \"model_year\": 73, \"origin\": 2, \"car_name\": \"opel manta\"}, {\"mpg\": 20.0, \"cylinders\": 4, \"displacement\": 114.0, \"horsepower\": \"91.00\", \"weight\": 2582.0, \"acceleration\": 14.0, \"model_year\": 73, \"origin\": 2, \"car_name\": \"audi 100ls\"}, {\"mpg\": 19.0, \"cylinders\": 4, \"displacement\": 121.0, \"horsepower\": \"112.0\", \"weight\": 2868.0, \"acceleration\": 15.5, \"model_year\": 73, \"origin\": 2, \"car_name\": \"volvo 144ea\"}, {\"mpg\": 15.0, \"cylinders\": 8, \"displacement\": 318.0, \"horsepower\": \"150.0\", \"weight\": 3399.0, \"acceleration\": 11.0, \"model_year\": 73, \"origin\": 1, \"car_name\": \"dodge dart custom\"}, {\"mpg\": 24.0, \"cylinders\": 4, \"displacement\": 121.0, \"horsepower\": \"110.0\", \"weight\": 2660.0, \"acceleration\": 14.0, \"model_year\": 73, \"origin\": 2, \"car_name\": \"saab 99le\"}, {\"mpg\": 20.0, \"cylinders\": 6, \"displacement\": 156.0, \"horsepower\": \"122.0\", \"weight\": 2807.0, \"acceleration\": 13.5, \"model_year\": 73, \"origin\": 3, \"car_name\": \"toyota mark ii\"}, {\"mpg\": 11.0, \"cylinders\": 8, \"displacement\": 350.0, \"horsepower\": \"180.0\", \"weight\": 3664.0, \"acceleration\": 11.0, \"model_year\": 73, \"origin\": 1, \"car_name\": \"oldsmobile omega\"}, {\"mpg\": 20.0, \"cylinders\": 6, \"displacement\": 198.0, \"horsepower\": \"95.00\", \"weight\": 3102.0, \"acceleration\": 16.5, \"model_year\": 74, \"origin\": 1, \"car_name\": \"plymouth duster\"}, {\"mpg\": 19.0, \"cylinders\": 6, \"displacement\": 232.0, \"horsepower\": \"100.0\", \"weight\": 2901.0, \"acceleration\": 16.0, \"model_year\": 74, \"origin\": 1, \"car_name\": \"amc hornet\"}, {\"mpg\": 15.0, \"cylinders\": 6, \"displacement\": 250.0, \"horsepower\": \"100.0\", \"weight\": 3336.0, \"acceleration\": 17.0, \"model_year\": 74, \"origin\": 1, \"car_name\": \"chevrolet nova\"}, {\"mpg\": 31.0, \"cylinders\": 4, \"displacement\": 79.0, \"horsepower\": \"67.00\", \"weight\": 1950.0, \"acceleration\": 19.0, \"model_year\": 74, \"origin\": 3, \"car_name\": \"datsun b210\"}, {\"mpg\": 26.0, \"cylinders\": 4, \"displacement\": 122.0, \"horsepower\": \"80.00\", \"weight\": 2451.0, \"acceleration\": 16.5, \"model_year\": 74, \"origin\": 1, \"car_name\": \"ford pinto\"}, {\"mpg\": 32.0, \"cylinders\": 4, \"displacement\": 71.0, \"horsepower\": \"65.00\", \"weight\": 1836.0, \"acceleration\": 21.0, \"model_year\": 74, \"origin\": 3, \"car_name\": \"toyota corolla 1200\"}, {\"mpg\": 25.0, \"cylinders\": 4, \"displacement\": 140.0, \"horsepower\": \"75.00\", \"weight\": 2542.0, \"acceleration\": 17.0, \"model_year\": 74, \"origin\": 1, \"car_name\": \"chevrolet vega\"}, {\"mpg\": 16.0, \"cylinders\": 6, \"displacement\": 250.0, \"horsepower\": \"100.0\", \"weight\": 3781.0, \"acceleration\": 17.0, \"model_year\": 74, \"origin\": 1, \"car_name\": \"chevrolet chevelle malibu classic\"}, {\"mpg\": 16.0, \"cylinders\": 6, \"displacement\": 258.0, \"horsepower\": \"110.0\", \"weight\": 3632.0, \"acceleration\": 18.0, \"model_year\": 74, \"origin\": 1, \"car_name\": \"amc matador\"}, {\"mpg\": 18.0, \"cylinders\": 6, \"displacement\": 225.0, \"horsepower\": \"105.0\", \"weight\": 3613.0, \"acceleration\": 16.5, \"model_year\": 74, \"origin\": 1, \"car_name\": \"plymouth satellite sebring\"}, {\"mpg\": 16.0, \"cylinders\": 8, \"displacement\": 302.0, \"horsepower\": \"140.0\", \"weight\": 4141.0, \"acceleration\": 14.0, \"model_year\": 74, \"origin\": 1, \"car_name\": \"ford gran torino\"}, {\"mpg\": 13.0, \"cylinders\": 8, \"displacement\": 350.0, \"horsepower\": \"150.0\", \"weight\": 4699.0, \"acceleration\": 14.5, \"model_year\": 74, \"origin\": 1, \"car_name\": \"buick century luxus (sw)\"}, {\"mpg\": 14.0, \"cylinders\": 8, \"displacement\": 318.0, \"horsepower\": \"150.0\", \"weight\": 4457.0, \"acceleration\": 13.5, \"model_year\": 74, \"origin\": 1, \"car_name\": \"dodge coronet custom (sw)\"}, {\"mpg\": 14.0, \"cylinders\": 8, \"displacement\": 302.0, \"horsepower\": \"140.0\", \"weight\": 4638.0, \"acceleration\": 16.0, \"model_year\": 74, \"origin\": 1, \"car_name\": \"ford gran torino (sw)\"}, {\"mpg\": 14.0, \"cylinders\": 8, \"displacement\": 304.0, \"horsepower\": \"150.0\", \"weight\": 4257.0, \"acceleration\": 15.5, \"model_year\": 74, \"origin\": 1, \"car_name\": \"amc matador (sw)\"}, {\"mpg\": 29.0, \"cylinders\": 4, \"displacement\": 98.0, \"horsepower\": \"83.00\", \"weight\": 2219.0, \"acceleration\": 16.5, \"model_year\": 74, \"origin\": 2, \"car_name\": \"audi fox\"}, {\"mpg\": 26.0, \"cylinders\": 4, \"displacement\": 79.0, \"horsepower\": \"67.00\", \"weight\": 1963.0, \"acceleration\": 15.5, \"model_year\": 74, \"origin\": 2, \"car_name\": \"volkswagen dasher\"}, {\"mpg\": 26.0, \"cylinders\": 4, \"displacement\": 97.0, \"horsepower\": \"78.00\", \"weight\": 2300.0, \"acceleration\": 14.5, \"model_year\": 74, \"origin\": 2, \"car_name\": \"opel manta\"}, {\"mpg\": 31.0, \"cylinders\": 4, \"displacement\": 76.0, \"horsepower\": \"52.00\", \"weight\": 1649.0, \"acceleration\": 16.5, \"model_year\": 74, \"origin\": 3, \"car_name\": \"toyota corona\"}, {\"mpg\": 32.0, \"cylinders\": 4, \"displacement\": 83.0, \"horsepower\": \"61.00\", \"weight\": 2003.0, \"acceleration\": 19.0, \"model_year\": 74, \"origin\": 3, \"car_name\": \"datsun 710\"}, {\"mpg\": 28.0, \"cylinders\": 4, \"displacement\": 90.0, \"horsepower\": \"75.00\", \"weight\": 2125.0, \"acceleration\": 14.5, \"model_year\": 74, \"origin\": 1, \"car_name\": \"dodge colt\"}, {\"mpg\": 24.0, \"cylinders\": 4, \"displacement\": 90.0, \"horsepower\": \"75.00\", \"weight\": 2108.0, \"acceleration\": 15.5, \"model_year\": 74, \"origin\": 2, \"car_name\": \"fiat 128\"}, {\"mpg\": 26.0, \"cylinders\": 4, \"displacement\": 116.0, \"horsepower\": \"75.00\", \"weight\": 2246.0, \"acceleration\": 14.0, \"model_year\": 74, \"origin\": 2, \"car_name\": \"fiat 124 tc\"}, {\"mpg\": 24.0, \"cylinders\": 4, \"displacement\": 120.0, \"horsepower\": \"97.00\", \"weight\": 2489.0, \"acceleration\": 15.0, \"model_year\": 74, \"origin\": 3, \"car_name\": \"honda civic\"}, {\"mpg\": 26.0, \"cylinders\": 4, \"displacement\": 108.0, \"horsepower\": \"93.00\", \"weight\": 2391.0, \"acceleration\": 15.5, \"model_year\": 74, \"origin\": 3, \"car_name\": \"subaru\"}, {\"mpg\": 31.0, \"cylinders\": 4, \"displacement\": 79.0, \"horsepower\": \"67.00\", \"weight\": 2000.0, \"acceleration\": 16.0, \"model_year\": 74, \"origin\": 2, \"car_name\": \"fiat x1.9\"}, {\"mpg\": 19.0, \"cylinders\": 6, \"displacement\": 225.0, \"horsepower\": \"95.00\", \"weight\": 3264.0, \"acceleration\": 16.0, \"model_year\": 75, \"origin\": 1, \"car_name\": \"plymouth valiant custom\"}, {\"mpg\": 18.0, \"cylinders\": 6, \"displacement\": 250.0, \"horsepower\": \"105.0\", \"weight\": 3459.0, \"acceleration\": 16.0, \"model_year\": 75, \"origin\": 1, \"car_name\": \"chevrolet nova\"}, {\"mpg\": 15.0, \"cylinders\": 6, \"displacement\": 250.0, \"horsepower\": \"72.00\", \"weight\": 3432.0, \"acceleration\": 21.0, \"model_year\": 75, \"origin\": 1, \"car_name\": \"mercury monarch\"}, {\"mpg\": 15.0, \"cylinders\": 6, \"displacement\": 250.0, \"horsepower\": \"72.00\", \"weight\": 3158.0, \"acceleration\": 19.5, \"model_year\": 75, \"origin\": 1, \"car_name\": \"ford maverick\"}, {\"mpg\": 16.0, \"cylinders\": 8, \"displacement\": 400.0, \"horsepower\": \"170.0\", \"weight\": 4668.0, \"acceleration\": 11.5, \"model_year\": 75, \"origin\": 1, \"car_name\": \"pontiac catalina\"}, {\"mpg\": 15.0, \"cylinders\": 8, \"displacement\": 350.0, \"horsepower\": \"145.0\", \"weight\": 4440.0, \"acceleration\": 14.0, \"model_year\": 75, \"origin\": 1, \"car_name\": \"chevrolet bel air\"}, {\"mpg\": 16.0, \"cylinders\": 8, \"displacement\": 318.0, \"horsepower\": \"150.0\", \"weight\": 4498.0, \"acceleration\": 14.5, \"model_year\": 75, \"origin\": 1, \"car_name\": \"plymouth grand fury\"}, {\"mpg\": 14.0, \"cylinders\": 8, \"displacement\": 351.0, \"horsepower\": \"148.0\", \"weight\": 4657.0, \"acceleration\": 13.5, \"model_year\": 75, \"origin\": 1, \"car_name\": \"ford ltd\"}, {\"mpg\": 17.0, \"cylinders\": 6, \"displacement\": 231.0, \"horsepower\": \"110.0\", \"weight\": 3907.0, \"acceleration\": 21.0, \"model_year\": 75, \"origin\": 1, \"car_name\": \"buick century\"}, {\"mpg\": 16.0, \"cylinders\": 6, \"displacement\": 250.0, \"horsepower\": \"105.0\", \"weight\": 3897.0, \"acceleration\": 18.5, \"model_year\": 75, \"origin\": 1, \"car_name\": \"chevroelt chevelle malibu\"}, {\"mpg\": 15.0, \"cylinders\": 6, \"displacement\": 258.0, \"horsepower\": \"110.0\", \"weight\": 3730.0, \"acceleration\": 19.0, \"model_year\": 75, \"origin\": 1, \"car_name\": \"amc matador\"}, {\"mpg\": 18.0, \"cylinders\": 6, \"displacement\": 225.0, \"horsepower\": \"95.00\", \"weight\": 3785.0, \"acceleration\": 19.0, \"model_year\": 75, \"origin\": 1, \"car_name\": \"plymouth fury\"}, {\"mpg\": 21.0, \"cylinders\": 6, \"displacement\": 231.0, \"horsepower\": \"110.0\", \"weight\": 3039.0, \"acceleration\": 15.0, \"model_year\": 75, \"origin\": 1, \"car_name\": \"buick skyhawk\"}, {\"mpg\": 20.0, \"cylinders\": 8, \"displacement\": 262.0, \"horsepower\": \"110.0\", \"weight\": 3221.0, \"acceleration\": 13.5, \"model_year\": 75, \"origin\": 1, \"car_name\": \"chevrolet monza 2+2\"}, {\"mpg\": 13.0, \"cylinders\": 8, \"displacement\": 302.0, \"horsepower\": \"129.0\", \"weight\": 3169.0, \"acceleration\": 12.0, \"model_year\": 75, \"origin\": 1, \"car_name\": \"ford mustang ii\"}, {\"mpg\": 29.0, \"cylinders\": 4, \"displacement\": 97.0, \"horsepower\": \"75.00\", \"weight\": 2171.0, \"acceleration\": 16.0, \"model_year\": 75, \"origin\": 3, \"car_name\": \"toyota corolla\"}, {\"mpg\": 23.0, \"cylinders\": 4, \"displacement\": 140.0, \"horsepower\": \"83.00\", \"weight\": 2639.0, \"acceleration\": 17.0, \"model_year\": 75, \"origin\": 1, \"car_name\": \"ford pinto\"}, {\"mpg\": 20.0, \"cylinders\": 6, \"displacement\": 232.0, \"horsepower\": \"100.0\", \"weight\": 2914.0, \"acceleration\": 16.0, \"model_year\": 75, \"origin\": 1, \"car_name\": \"amc gremlin\"}, {\"mpg\": 23.0, \"cylinders\": 4, \"displacement\": 140.0, \"horsepower\": \"78.00\", \"weight\": 2592.0, \"acceleration\": 18.5, \"model_year\": 75, \"origin\": 1, \"car_name\": \"pontiac astro\"}, {\"mpg\": 24.0, \"cylinders\": 4, \"displacement\": 134.0, \"horsepower\": \"96.00\", \"weight\": 2702.0, \"acceleration\": 13.5, \"model_year\": 75, \"origin\": 3, \"car_name\": \"toyota corona\"}, {\"mpg\": 25.0, \"cylinders\": 4, \"displacement\": 90.0, \"horsepower\": \"71.00\", \"weight\": 2223.0, \"acceleration\": 16.5, \"model_year\": 75, \"origin\": 2, \"car_name\": \"volkswagen dasher\"}, {\"mpg\": 24.0, \"cylinders\": 4, \"displacement\": 119.0, \"horsepower\": \"97.00\", \"weight\": 2545.0, \"acceleration\": 17.0, \"model_year\": 75, \"origin\": 3, \"car_name\": \"datsun 710\"}, {\"mpg\": 18.0, \"cylinders\": 6, \"displacement\": 171.0, \"horsepower\": \"97.00\", \"weight\": 2984.0, \"acceleration\": 14.5, \"model_year\": 75, \"origin\": 1, \"car_name\": \"ford pinto\"}, {\"mpg\": 29.0, \"cylinders\": 4, \"displacement\": 90.0, \"horsepower\": \"70.00\", \"weight\": 1937.0, \"acceleration\": 14.0, \"model_year\": 75, \"origin\": 2, \"car_name\": \"volkswagen rabbit\"}, {\"mpg\": 19.0, \"cylinders\": 6, \"displacement\": 232.0, \"horsepower\": \"90.00\", \"weight\": 3211.0, \"acceleration\": 17.0, \"model_year\": 75, \"origin\": 1, \"car_name\": \"amc pacer\"}, {\"mpg\": 23.0, \"cylinders\": 4, \"displacement\": 115.0, \"horsepower\": \"95.00\", \"weight\": 2694.0, \"acceleration\": 15.0, \"model_year\": 75, \"origin\": 2, \"car_name\": \"audi 100ls\"}, {\"mpg\": 23.0, \"cylinders\": 4, \"displacement\": 120.0, \"horsepower\": \"88.00\", \"weight\": 2957.0, \"acceleration\": 17.0, \"model_year\": 75, \"origin\": 2, \"car_name\": \"peugeot 504\"}, {\"mpg\": 22.0, \"cylinders\": 4, \"displacement\": 121.0, \"horsepower\": \"98.00\", \"weight\": 2945.0, \"acceleration\": 14.5, \"model_year\": 75, \"origin\": 2, \"car_name\": \"volvo 244dl\"}, {\"mpg\": 25.0, \"cylinders\": 4, \"displacement\": 121.0, \"horsepower\": \"115.0\", \"weight\": 2671.0, \"acceleration\": 13.5, \"model_year\": 75, \"origin\": 2, \"car_name\": \"saab 99le\"}, {\"mpg\": 33.0, \"cylinders\": 4, \"displacement\": 91.0, \"horsepower\": \"53.00\", \"weight\": 1795.0, \"acceleration\": 17.5, \"model_year\": 75, \"origin\": 3, \"car_name\": \"honda civic cvcc\"}, {\"mpg\": 28.0, \"cylinders\": 4, \"displacement\": 107.0, \"horsepower\": \"86.00\", \"weight\": 2464.0, \"acceleration\": 15.5, \"model_year\": 76, \"origin\": 2, \"car_name\": \"fiat 131\"}, {\"mpg\": 25.0, \"cylinders\": 4, \"displacement\": 116.0, \"horsepower\": \"81.00\", \"weight\": 2220.0, \"acceleration\": 16.9, \"model_year\": 76, \"origin\": 2, \"car_name\": \"opel 1900\"}, {\"mpg\": 25.0, \"cylinders\": 4, \"displacement\": 140.0, \"horsepower\": \"92.00\", \"weight\": 2572.0, \"acceleration\": 14.9, \"model_year\": 76, \"origin\": 1, \"car_name\": \"capri ii\"}, {\"mpg\": 26.0, \"cylinders\": 4, \"displacement\": 98.0, \"horsepower\": \"79.00\", \"weight\": 2255.0, \"acceleration\": 17.7, \"model_year\": 76, \"origin\": 1, \"car_name\": \"dodge colt\"}, {\"mpg\": 27.0, \"cylinders\": 4, \"displacement\": 101.0, \"horsepower\": \"83.00\", \"weight\": 2202.0, \"acceleration\": 15.3, \"model_year\": 76, \"origin\": 2, \"car_name\": \"renault 12tl\"}, {\"mpg\": 17.5, \"cylinders\": 8, \"displacement\": 305.0, \"horsepower\": \"140.0\", \"weight\": 4215.0, \"acceleration\": 13.0, \"model_year\": 76, \"origin\": 1, \"car_name\": \"chevrolet chevelle malibu classic\"}, {\"mpg\": 16.0, \"cylinders\": 8, \"displacement\": 318.0, \"horsepower\": \"150.0\", \"weight\": 4190.0, \"acceleration\": 13.0, \"model_year\": 76, \"origin\": 1, \"car_name\": \"dodge coronet brougham\"}, {\"mpg\": 15.5, \"cylinders\": 8, \"displacement\": 304.0, \"horsepower\": \"120.0\", \"weight\": 3962.0, \"acceleration\": 13.9, \"model_year\": 76, \"origin\": 1, \"car_name\": \"amc matador\"}, {\"mpg\": 14.5, \"cylinders\": 8, \"displacement\": 351.0, \"horsepower\": \"152.0\", \"weight\": 4215.0, \"acceleration\": 12.8, \"model_year\": 76, \"origin\": 1, \"car_name\": \"ford gran torino\"}, {\"mpg\": 22.0, \"cylinders\": 6, \"displacement\": 225.0, \"horsepower\": \"100.0\", \"weight\": 3233.0, \"acceleration\": 15.4, \"model_year\": 76, \"origin\": 1, \"car_name\": \"plymouth valiant\"}, {\"mpg\": 22.0, \"cylinders\": 6, \"displacement\": 250.0, \"horsepower\": \"105.0\", \"weight\": 3353.0, \"acceleration\": 14.5, \"model_year\": 76, \"origin\": 1, \"car_name\": \"chevrolet nova\"}, {\"mpg\": 24.0, \"cylinders\": 6, \"displacement\": 200.0, \"horsepower\": \"81.00\", \"weight\": 3012.0, \"acceleration\": 17.6, \"model_year\": 76, \"origin\": 1, \"car_name\": \"ford maverick\"}, {\"mpg\": 22.5, \"cylinders\": 6, \"displacement\": 232.0, \"horsepower\": \"90.00\", \"weight\": 3085.0, \"acceleration\": 17.6, \"model_year\": 76, \"origin\": 1, \"car_name\": \"amc hornet\"}, {\"mpg\": 29.0, \"cylinders\": 4, \"displacement\": 85.0, \"horsepower\": \"52.00\", \"weight\": 2035.0, \"acceleration\": 22.2, \"model_year\": 76, \"origin\": 1, \"car_name\": \"chevrolet chevette\"}, {\"mpg\": 24.5, \"cylinders\": 4, \"displacement\": 98.0, \"horsepower\": \"60.00\", \"weight\": 2164.0, \"acceleration\": 22.1, \"model_year\": 76, \"origin\": 1, \"car_name\": \"chevrolet woody\"}, {\"mpg\": 29.0, \"cylinders\": 4, \"displacement\": 90.0, \"horsepower\": \"70.00\", \"weight\": 1937.0, \"acceleration\": 14.2, \"model_year\": 76, \"origin\": 2, \"car_name\": \"vw rabbit\"}, {\"mpg\": 33.0, \"cylinders\": 4, \"displacement\": 91.0, \"horsepower\": \"53.00\", \"weight\": 1795.0, \"acceleration\": 17.4, \"model_year\": 76, \"origin\": 3, \"car_name\": \"honda civic\"}, {\"mpg\": 20.0, \"cylinders\": 6, \"displacement\": 225.0, \"horsepower\": \"100.0\", \"weight\": 3651.0, \"acceleration\": 17.7, \"model_year\": 76, \"origin\": 1, \"car_name\": \"dodge aspen se\"}, {\"mpg\": 18.0, \"cylinders\": 6, \"displacement\": 250.0, \"horsepower\": \"78.00\", \"weight\": 3574.0, \"acceleration\": 21.0, \"model_year\": 76, \"origin\": 1, \"car_name\": \"ford granada ghia\"}, {\"mpg\": 18.5, \"cylinders\": 6, \"displacement\": 250.0, \"horsepower\": \"110.0\", \"weight\": 3645.0, \"acceleration\": 16.2, \"model_year\": 76, \"origin\": 1, \"car_name\": \"pontiac ventura sj\"}, {\"mpg\": 17.5, \"cylinders\": 6, \"displacement\": 258.0, \"horsepower\": \"95.00\", \"weight\": 3193.0, \"acceleration\": 17.8, \"model_year\": 76, \"origin\": 1, \"car_name\": \"amc pacer d/l\"}, {\"mpg\": 29.5, \"cylinders\": 4, \"displacement\": 97.0, \"horsepower\": \"71.00\", \"weight\": 1825.0, \"acceleration\": 12.2, \"model_year\": 76, \"origin\": 2, \"car_name\": \"volkswagen rabbit\"}, {\"mpg\": 32.0, \"cylinders\": 4, \"displacement\": 85.0, \"horsepower\": \"70.00\", \"weight\": 1990.0, \"acceleration\": 17.0, \"model_year\": 76, \"origin\": 3, \"car_name\": \"datsun b-210\"}, {\"mpg\": 28.0, \"cylinders\": 4, \"displacement\": 97.0, \"horsepower\": \"75.00\", \"weight\": 2155.0, \"acceleration\": 16.4, \"model_year\": 76, \"origin\": 3, \"car_name\": \"toyota corolla\"}, {\"mpg\": 26.5, \"cylinders\": 4, \"displacement\": 140.0, \"horsepower\": \"72.00\", \"weight\": 2565.0, \"acceleration\": 13.6, \"model_year\": 76, \"origin\": 1, \"car_name\": \"ford pinto\"}, {\"mpg\": 20.0, \"cylinders\": 4, \"displacement\": 130.0, \"horsepower\": \"102.0\", \"weight\": 3150.0, \"acceleration\": 15.7, \"model_year\": 76, \"origin\": 2, \"car_name\": \"volvo 245\"}, {\"mpg\": 13.0, \"cylinders\": 8, \"displacement\": 318.0, \"horsepower\": \"150.0\", \"weight\": 3940.0, \"acceleration\": 13.2, \"model_year\": 76, \"origin\": 1, \"car_name\": \"plymouth volare premier v8\"}, {\"mpg\": 19.0, \"cylinders\": 4, \"displacement\": 120.0, \"horsepower\": \"88.00\", \"weight\": 3270.0, \"acceleration\": 21.9, \"model_year\": 76, \"origin\": 2, \"car_name\": \"peugeot 504\"}, {\"mpg\": 19.0, \"cylinders\": 6, \"displacement\": 156.0, \"horsepower\": \"108.0\", \"weight\": 2930.0, \"acceleration\": 15.5, \"model_year\": 76, \"origin\": 3, \"car_name\": \"toyota mark ii\"}, {\"mpg\": 16.5, \"cylinders\": 6, \"displacement\": 168.0, \"horsepower\": \"120.0\", \"weight\": 3820.0, \"acceleration\": 16.7, \"model_year\": 76, \"origin\": 2, \"car_name\": \"mercedes-benz 280s\"}, {\"mpg\": 16.5, \"cylinders\": 8, \"displacement\": 350.0, \"horsepower\": \"180.0\", \"weight\": 4380.0, \"acceleration\": 12.1, \"model_year\": 76, \"origin\": 1, \"car_name\": \"cadillac seville\"}, {\"mpg\": 13.0, \"cylinders\": 8, \"displacement\": 350.0, \"horsepower\": \"145.0\", \"weight\": 4055.0, \"acceleration\": 12.0, \"model_year\": 76, \"origin\": 1, \"car_name\": \"chevy c10\"}, {\"mpg\": 13.0, \"cylinders\": 8, \"displacement\": 302.0, \"horsepower\": \"130.0\", \"weight\": 3870.0, \"acceleration\": 15.0, \"model_year\": 76, \"origin\": 1, \"car_name\": \"ford f108\"}, {\"mpg\": 13.0, \"cylinders\": 8, \"displacement\": 318.0, \"horsepower\": \"150.0\", \"weight\": 3755.0, \"acceleration\": 14.0, \"model_year\": 76, \"origin\": 1, \"car_name\": \"dodge d100\"}, {\"mpg\": 31.5, \"cylinders\": 4, \"displacement\": 98.0, \"horsepower\": \"68.00\", \"weight\": 2045.0, \"acceleration\": 18.5, \"model_year\": 77, \"origin\": 3, \"car_name\": \"honda accord cvcc\"}, {\"mpg\": 30.0, \"cylinders\": 4, \"displacement\": 111.0, \"horsepower\": \"80.00\", \"weight\": 2155.0, \"acceleration\": 14.8, \"model_year\": 77, \"origin\": 1, \"car_name\": \"buick opel isuzu deluxe\"}, {\"mpg\": 36.0, \"cylinders\": 4, \"displacement\": 79.0, \"horsepower\": \"58.00\", \"weight\": 1825.0, \"acceleration\": 18.6, \"model_year\": 77, \"origin\": 2, \"car_name\": \"renault 5 gtl\"}, {\"mpg\": 25.5, \"cylinders\": 4, \"displacement\": 122.0, \"horsepower\": \"96.00\", \"weight\": 2300.0, \"acceleration\": 15.5, \"model_year\": 77, \"origin\": 1, \"car_name\": \"plymouth arrow gs\"}, {\"mpg\": 33.5, \"cylinders\": 4, \"displacement\": 85.0, \"horsepower\": \"70.00\", \"weight\": 1945.0, \"acceleration\": 16.8, \"model_year\": 77, \"origin\": 3, \"car_name\": \"datsun f-10 hatchback\"}, {\"mpg\": 17.5, \"cylinders\": 8, \"displacement\": 305.0, \"horsepower\": \"145.0\", \"weight\": 3880.0, \"acceleration\": 12.5, \"model_year\": 77, \"origin\": 1, \"car_name\": \"chevrolet caprice classic\"}, {\"mpg\": 17.0, \"cylinders\": 8, \"displacement\": 260.0, \"horsepower\": \"110.0\", \"weight\": 4060.0, \"acceleration\": 19.0, \"model_year\": 77, \"origin\": 1, \"car_name\": \"oldsmobile cutlass supreme\"}, {\"mpg\": 15.5, \"cylinders\": 8, \"displacement\": 318.0, \"horsepower\": \"145.0\", \"weight\": 4140.0, \"acceleration\": 13.7, \"model_year\": 77, \"origin\": 1, \"car_name\": \"dodge monaco brougham\"}, {\"mpg\": 15.0, \"cylinders\": 8, \"displacement\": 302.0, \"horsepower\": \"130.0\", \"weight\": 4295.0, \"acceleration\": 14.9, \"model_year\": 77, \"origin\": 1, \"car_name\": \"mercury cougar brougham\"}, {\"mpg\": 17.5, \"cylinders\": 6, \"displacement\": 250.0, \"horsepower\": \"110.0\", \"weight\": 3520.0, \"acceleration\": 16.4, \"model_year\": 77, \"origin\": 1, \"car_name\": \"chevrolet concours\"}, {\"mpg\": 20.5, \"cylinders\": 6, \"displacement\": 231.0, \"horsepower\": \"105.0\", \"weight\": 3425.0, \"acceleration\": 16.9, \"model_year\": 77, \"origin\": 1, \"car_name\": \"buick skylark\"}, {\"mpg\": 19.0, \"cylinders\": 6, \"displacement\": 225.0, \"horsepower\": \"100.0\", \"weight\": 3630.0, \"acceleration\": 17.7, \"model_year\": 77, \"origin\": 1, \"car_name\": \"plymouth volare custom\"}, {\"mpg\": 18.5, \"cylinders\": 6, \"displacement\": 250.0, \"horsepower\": \"98.00\", \"weight\": 3525.0, \"acceleration\": 19.0, \"model_year\": 77, \"origin\": 1, \"car_name\": \"ford granada\"}, {\"mpg\": 16.0, \"cylinders\": 8, \"displacement\": 400.0, \"horsepower\": \"180.0\", \"weight\": 4220.0, \"acceleration\": 11.1, \"model_year\": 77, \"origin\": 1, \"car_name\": \"pontiac grand prix lj\"}, {\"mpg\": 15.5, \"cylinders\": 8, \"displacement\": 350.0, \"horsepower\": \"170.0\", \"weight\": 4165.0, \"acceleration\": 11.4, \"model_year\": 77, \"origin\": 1, \"car_name\": \"chevrolet monte carlo landau\"}, {\"mpg\": 15.5, \"cylinders\": 8, \"displacement\": 400.0, \"horsepower\": \"190.0\", \"weight\": 4325.0, \"acceleration\": 12.2, \"model_year\": 77, \"origin\": 1, \"car_name\": \"chrysler cordoba\"}, {\"mpg\": 16.0, \"cylinders\": 8, \"displacement\": 351.0, \"horsepower\": \"149.0\", \"weight\": 4335.0, \"acceleration\": 14.5, \"model_year\": 77, \"origin\": 1, \"car_name\": \"ford thunderbird\"}, {\"mpg\": 29.0, \"cylinders\": 4, \"displacement\": 97.0, \"horsepower\": \"78.00\", \"weight\": 1940.0, \"acceleration\": 14.5, \"model_year\": 77, \"origin\": 2, \"car_name\": \"volkswagen rabbit custom\"}, {\"mpg\": 24.5, \"cylinders\": 4, \"displacement\": 151.0, \"horsepower\": \"88.00\", \"weight\": 2740.0, \"acceleration\": 16.0, \"model_year\": 77, \"origin\": 1, \"car_name\": \"pontiac sunbird coupe\"}, {\"mpg\": 26.0, \"cylinders\": 4, \"displacement\": 97.0, \"horsepower\": \"75.00\", \"weight\": 2265.0, \"acceleration\": 18.2, \"model_year\": 77, \"origin\": 3, \"car_name\": \"toyota corolla liftback\"}, {\"mpg\": 25.5, \"cylinders\": 4, \"displacement\": 140.0, \"horsepower\": \"89.00\", \"weight\": 2755.0, \"acceleration\": 15.8, \"model_year\": 77, \"origin\": 1, \"car_name\": \"ford mustang ii 2+2\"}, {\"mpg\": 30.5, \"cylinders\": 4, \"displacement\": 98.0, \"horsepower\": \"63.00\", \"weight\": 2051.0, \"acceleration\": 17.0, \"model_year\": 77, \"origin\": 1, \"car_name\": \"chevrolet chevette\"}, {\"mpg\": 33.5, \"cylinders\": 4, \"displacement\": 98.0, \"horsepower\": \"83.00\", \"weight\": 2075.0, \"acceleration\": 15.9, \"model_year\": 77, \"origin\": 1, \"car_name\": \"dodge colt m/m\"}, {\"mpg\": 30.0, \"cylinders\": 4, \"displacement\": 97.0, \"horsepower\": \"67.00\", \"weight\": 1985.0, \"acceleration\": 16.4, \"model_year\": 77, \"origin\": 3, \"car_name\": \"subaru dl\"}, {\"mpg\": 30.5, \"cylinders\": 4, \"displacement\": 97.0, \"horsepower\": \"78.00\", \"weight\": 2190.0, \"acceleration\": 14.1, \"model_year\": 77, \"origin\": 2, \"car_name\": \"volkswagen dasher\"}, {\"mpg\": 22.0, \"cylinders\": 6, \"displacement\": 146.0, \"horsepower\": \"97.00\", \"weight\": 2815.0, \"acceleration\": 14.5, \"model_year\": 77, \"origin\": 3, \"car_name\": \"datsun 810\"}, {\"mpg\": 21.5, \"cylinders\": 4, \"displacement\": 121.0, \"horsepower\": \"110.0\", \"weight\": 2600.0, \"acceleration\": 12.8, \"model_year\": 77, \"origin\": 2, \"car_name\": \"bmw 320i\"}, {\"mpg\": 21.5, \"cylinders\": 3, \"displacement\": 80.0, \"horsepower\": \"110.0\", \"weight\": 2720.0, \"acceleration\": 13.5, \"model_year\": 77, \"origin\": 3, \"car_name\": \"mazda rx-4\"}, {\"mpg\": 43.1, \"cylinders\": 4, \"displacement\": 90.0, \"horsepower\": \"48.00\", \"weight\": 1985.0, \"acceleration\": 21.5, \"model_year\": 78, \"origin\": 2, \"car_name\": \"volkswagen rabbit custom diesel\"}, {\"mpg\": 36.1, \"cylinders\": 4, \"displacement\": 98.0, \"horsepower\": \"66.00\", \"weight\": 1800.0, \"acceleration\": 14.4, \"model_year\": 78, \"origin\": 1, \"car_name\": \"ford fiesta\"}, {\"mpg\": 32.8, \"cylinders\": 4, \"displacement\": 78.0, \"horsepower\": \"52.00\", \"weight\": 1985.0, \"acceleration\": 19.4, \"model_year\": 78, \"origin\": 3, \"car_name\": \"mazda glc deluxe\"}, {\"mpg\": 39.4, \"cylinders\": 4, \"displacement\": 85.0, \"horsepower\": \"70.00\", \"weight\": 2070.0, \"acceleration\": 18.6, \"model_year\": 78, \"origin\": 3, \"car_name\": \"datsun b210 gx\"}, {\"mpg\": 36.1, \"cylinders\": 4, \"displacement\": 91.0, \"horsepower\": \"60.00\", \"weight\": 1800.0, \"acceleration\": 16.4, \"model_year\": 78, \"origin\": 3, \"car_name\": \"honda civic cvcc\"}, {\"mpg\": 19.9, \"cylinders\": 8, \"displacement\": 260.0, \"horsepower\": \"110.0\", \"weight\": 3365.0, \"acceleration\": 15.5, \"model_year\": 78, \"origin\": 1, \"car_name\": \"oldsmobile cutlass salon brougham\"}, {\"mpg\": 19.4, \"cylinders\": 8, \"displacement\": 318.0, \"horsepower\": \"140.0\", \"weight\": 3735.0, \"acceleration\": 13.2, \"model_year\": 78, \"origin\": 1, \"car_name\": \"dodge diplomat\"}, {\"mpg\": 20.2, \"cylinders\": 8, \"displacement\": 302.0, \"horsepower\": \"139.0\", \"weight\": 3570.0, \"acceleration\": 12.8, \"model_year\": 78, \"origin\": 1, \"car_name\": \"mercury monarch ghia\"}, {\"mpg\": 19.2, \"cylinders\": 6, \"displacement\": 231.0, \"horsepower\": \"105.0\", \"weight\": 3535.0, \"acceleration\": 19.2, \"model_year\": 78, \"origin\": 1, \"car_name\": \"pontiac phoenix lj\"}, {\"mpg\": 20.5, \"cylinders\": 6, \"displacement\": 200.0, \"horsepower\": \"95.00\", \"weight\": 3155.0, \"acceleration\": 18.2, \"model_year\": 78, \"origin\": 1, \"car_name\": \"chevrolet malibu\"}, {\"mpg\": 20.2, \"cylinders\": 6, \"displacement\": 200.0, \"horsepower\": \"85.00\", \"weight\": 2965.0, \"acceleration\": 15.8, \"model_year\": 78, \"origin\": 1, \"car_name\": \"ford fairmont (auto)\"}, {\"mpg\": 25.1, \"cylinders\": 4, \"displacement\": 140.0, \"horsepower\": \"88.00\", \"weight\": 2720.0, \"acceleration\": 15.4, \"model_year\": 78, \"origin\": 1, \"car_name\": \"ford fairmont (man)\"}, {\"mpg\": 20.5, \"cylinders\": 6, \"displacement\": 225.0, \"horsepower\": \"100.0\", \"weight\": 3430.0, \"acceleration\": 17.2, \"model_year\": 78, \"origin\": 1, \"car_name\": \"plymouth volare\"}, {\"mpg\": 19.4, \"cylinders\": 6, \"displacement\": 232.0, \"horsepower\": \"90.00\", \"weight\": 3210.0, \"acceleration\": 17.2, \"model_year\": 78, \"origin\": 1, \"car_name\": \"amc concord\"}, {\"mpg\": 20.6, \"cylinders\": 6, \"displacement\": 231.0, \"horsepower\": \"105.0\", \"weight\": 3380.0, \"acceleration\": 15.8, \"model_year\": 78, \"origin\": 1, \"car_name\": \"buick century special\"}, {\"mpg\": 20.8, \"cylinders\": 6, \"displacement\": 200.0, \"horsepower\": \"85.00\", \"weight\": 3070.0, \"acceleration\": 16.7, \"model_year\": 78, \"origin\": 1, \"car_name\": \"mercury zephyr\"}, {\"mpg\": 18.6, \"cylinders\": 6, \"displacement\": 225.0, \"horsepower\": \"110.0\", \"weight\": 3620.0, \"acceleration\": 18.7, \"model_year\": 78, \"origin\": 1, \"car_name\": \"dodge aspen\"}, {\"mpg\": 18.1, \"cylinders\": 6, \"displacement\": 258.0, \"horsepower\": \"120.0\", \"weight\": 3410.0, \"acceleration\": 15.1, \"model_year\": 78, \"origin\": 1, \"car_name\": \"amc concord d/l\"}, {\"mpg\": 19.2, \"cylinders\": 8, \"displacement\": 305.0, \"horsepower\": \"145.0\", \"weight\": 3425.0, \"acceleration\": 13.2, \"model_year\": 78, \"origin\": 1, \"car_name\": \"chevrolet monte carlo landau\"}, {\"mpg\": 17.7, \"cylinders\": 6, \"displacement\": 231.0, \"horsepower\": \"165.0\", \"weight\": 3445.0, \"acceleration\": 13.4, \"model_year\": 78, \"origin\": 1, \"car_name\": \"buick regal sport coupe (turbo)\"}, {\"mpg\": 18.1, \"cylinders\": 8, \"displacement\": 302.0, \"horsepower\": \"139.0\", \"weight\": 3205.0, \"acceleration\": 11.2, \"model_year\": 78, \"origin\": 1, \"car_name\": \"ford futura\"}, {\"mpg\": 17.5, \"cylinders\": 8, \"displacement\": 318.0, \"horsepower\": \"140.0\", \"weight\": 4080.0, \"acceleration\": 13.7, \"model_year\": 78, \"origin\": 1, \"car_name\": \"dodge magnum xe\"}, {\"mpg\": 30.0, \"cylinders\": 4, \"displacement\": 98.0, \"horsepower\": \"68.00\", \"weight\": 2155.0, \"acceleration\": 16.5, \"model_year\": 78, \"origin\": 1, \"car_name\": \"chevrolet chevette\"}, {\"mpg\": 27.5, \"cylinders\": 4, \"displacement\": 134.0, \"horsepower\": \"95.00\", \"weight\": 2560.0, \"acceleration\": 14.2, \"model_year\": 78, \"origin\": 3, \"car_name\": \"toyota corona\"}, {\"mpg\": 27.2, \"cylinders\": 4, \"displacement\": 119.0, \"horsepower\": \"97.00\", \"weight\": 2300.0, \"acceleration\": 14.7, \"model_year\": 78, \"origin\": 3, \"car_name\": \"datsun 510\"}, {\"mpg\": 30.9, \"cylinders\": 4, \"displacement\": 105.0, \"horsepower\": \"75.00\", \"weight\": 2230.0, \"acceleration\": 14.5, \"model_year\": 78, \"origin\": 1, \"car_name\": \"dodge omni\"}, {\"mpg\": 21.1, \"cylinders\": 4, \"displacement\": 134.0, \"horsepower\": \"95.00\", \"weight\": 2515.0, \"acceleration\": 14.8, \"model_year\": 78, \"origin\": 3, \"car_name\": \"toyota celica gt liftback\"}, {\"mpg\": 23.2, \"cylinders\": 4, \"displacement\": 156.0, \"horsepower\": \"105.0\", \"weight\": 2745.0, \"acceleration\": 16.7, \"model_year\": 78, \"origin\": 1, \"car_name\": \"plymouth sapporo\"}, {\"mpg\": 23.8, \"cylinders\": 4, \"displacement\": 151.0, \"horsepower\": \"85.00\", \"weight\": 2855.0, \"acceleration\": 17.6, \"model_year\": 78, \"origin\": 1, \"car_name\": \"oldsmobile starfire sx\"}, {\"mpg\": 23.9, \"cylinders\": 4, \"displacement\": 119.0, \"horsepower\": \"97.00\", \"weight\": 2405.0, \"acceleration\": 14.9, \"model_year\": 78, \"origin\": 3, \"car_name\": \"datsun 200-sx\"}, {\"mpg\": 20.3, \"cylinders\": 5, \"displacement\": 131.0, \"horsepower\": \"103.0\", \"weight\": 2830.0, \"acceleration\": 15.9, \"model_year\": 78, \"origin\": 2, \"car_name\": \"audi 5000\"}, {\"mpg\": 17.0, \"cylinders\": 6, \"displacement\": 163.0, \"horsepower\": \"125.0\", \"weight\": 3140.0, \"acceleration\": 13.6, \"model_year\": 78, \"origin\": 2, \"car_name\": \"volvo 264gl\"}, {\"mpg\": 21.6, \"cylinders\": 4, \"displacement\": 121.0, \"horsepower\": \"115.0\", \"weight\": 2795.0, \"acceleration\": 15.7, \"model_year\": 78, \"origin\": 2, \"car_name\": \"saab 99gle\"}, {\"mpg\": 16.2, \"cylinders\": 6, \"displacement\": 163.0, \"horsepower\": \"133.0\", \"weight\": 3410.0, \"acceleration\": 15.8, \"model_year\": 78, \"origin\": 2, \"car_name\": \"peugeot 604sl\"}, {\"mpg\": 31.5, \"cylinders\": 4, \"displacement\": 89.0, \"horsepower\": \"71.00\", \"weight\": 1990.0, \"acceleration\": 14.9, \"model_year\": 78, \"origin\": 2, \"car_name\": \"volkswagen scirocco\"}, {\"mpg\": 29.5, \"cylinders\": 4, \"displacement\": 98.0, \"horsepower\": \"68.00\", \"weight\": 2135.0, \"acceleration\": 16.6, \"model_year\": 78, \"origin\": 3, \"car_name\": \"honda accord lx\"}, {\"mpg\": 21.5, \"cylinders\": 6, \"displacement\": 231.0, \"horsepower\": \"115.0\", \"weight\": 3245.0, \"acceleration\": 15.4, \"model_year\": 79, \"origin\": 1, \"car_name\": \"pontiac lemans v6\"}, {\"mpg\": 19.8, \"cylinders\": 6, \"displacement\": 200.0, \"horsepower\": \"85.00\", \"weight\": 2990.0, \"acceleration\": 18.2, \"model_year\": 79, \"origin\": 1, \"car_name\": \"mercury zephyr 6\"}, {\"mpg\": 22.3, \"cylinders\": 4, \"displacement\": 140.0, \"horsepower\": \"88.00\", \"weight\": 2890.0, \"acceleration\": 17.3, \"model_year\": 79, \"origin\": 1, \"car_name\": \"ford fairmont 4\"}, {\"mpg\": 20.2, \"cylinders\": 6, \"displacement\": 232.0, \"horsepower\": \"90.00\", \"weight\": 3265.0, \"acceleration\": 18.2, \"model_year\": 79, \"origin\": 1, \"car_name\": \"amc concord dl 6\"}, {\"mpg\": 20.6, \"cylinders\": 6, \"displacement\": 225.0, \"horsepower\": \"110.0\", \"weight\": 3360.0, \"acceleration\": 16.6, \"model_year\": 79, \"origin\": 1, \"car_name\": \"dodge aspen 6\"}, {\"mpg\": 17.0, \"cylinders\": 8, \"displacement\": 305.0, \"horsepower\": \"130.0\", \"weight\": 3840.0, \"acceleration\": 15.4, \"model_year\": 79, \"origin\": 1, \"car_name\": \"chevrolet caprice classic\"}, {\"mpg\": 17.6, \"cylinders\": 8, \"displacement\": 302.0, \"horsepower\": \"129.0\", \"weight\": 3725.0, \"acceleration\": 13.4, \"model_year\": 79, \"origin\": 1, \"car_name\": \"ford ltd landau\"}, {\"mpg\": 16.5, \"cylinders\": 8, \"displacement\": 351.0, \"horsepower\": \"138.0\", \"weight\": 3955.0, \"acceleration\": 13.2, \"model_year\": 79, \"origin\": 1, \"car_name\": \"mercury grand marquis\"}, {\"mpg\": 18.2, \"cylinders\": 8, \"displacement\": 318.0, \"horsepower\": \"135.0\", \"weight\": 3830.0, \"acceleration\": 15.2, \"model_year\": 79, \"origin\": 1, \"car_name\": \"dodge st. regis\"}, {\"mpg\": 16.9, \"cylinders\": 8, \"displacement\": 350.0, \"horsepower\": \"155.0\", \"weight\": 4360.0, \"acceleration\": 14.9, \"model_year\": 79, \"origin\": 1, \"car_name\": \"buick estate wagon (sw)\"}, {\"mpg\": 15.5, \"cylinders\": 8, \"displacement\": 351.0, \"horsepower\": \"142.0\", \"weight\": 4054.0, \"acceleration\": 14.3, \"model_year\": 79, \"origin\": 1, \"car_name\": \"ford country squire (sw)\"}, {\"mpg\": 19.2, \"cylinders\": 8, \"displacement\": 267.0, \"horsepower\": \"125.0\", \"weight\": 3605.0, \"acceleration\": 15.0, \"model_year\": 79, \"origin\": 1, \"car_name\": \"chevrolet malibu classic (sw)\"}, {\"mpg\": 18.5, \"cylinders\": 8, \"displacement\": 360.0, \"horsepower\": \"150.0\", \"weight\": 3940.0, \"acceleration\": 13.0, \"model_year\": 79, \"origin\": 1, \"car_name\": \"chrysler lebaron town @ country (sw)\"}, {\"mpg\": 31.9, \"cylinders\": 4, \"displacement\": 89.0, \"horsepower\": \"71.00\", \"weight\": 1925.0, \"acceleration\": 14.0, \"model_year\": 79, \"origin\": 2, \"car_name\": \"vw rabbit custom\"}, {\"mpg\": 34.1, \"cylinders\": 4, \"displacement\": 86.0, \"horsepower\": \"65.00\", \"weight\": 1975.0, \"acceleration\": 15.2, \"model_year\": 79, \"origin\": 3, \"car_name\": \"maxda glc deluxe\"}, {\"mpg\": 35.7, \"cylinders\": 4, \"displacement\": 98.0, \"horsepower\": \"80.00\", \"weight\": 1915.0, \"acceleration\": 14.4, \"model_year\": 79, \"origin\": 1, \"car_name\": \"dodge colt hatchback custom\"}, {\"mpg\": 27.4, \"cylinders\": 4, \"displacement\": 121.0, \"horsepower\": \"80.00\", \"weight\": 2670.0, \"acceleration\": 15.0, \"model_year\": 79, \"origin\": 1, \"car_name\": \"amc spirit dl\"}, {\"mpg\": 25.4, \"cylinders\": 5, \"displacement\": 183.0, \"horsepower\": \"77.00\", \"weight\": 3530.0, \"acceleration\": 20.1, \"model_year\": 79, \"origin\": 2, \"car_name\": \"mercedes benz 300d\"}, {\"mpg\": 23.0, \"cylinders\": 8, \"displacement\": 350.0, \"horsepower\": \"125.0\", \"weight\": 3900.0, \"acceleration\": 17.4, \"model_year\": 79, \"origin\": 1, \"car_name\": \"cadillac eldorado\"}, {\"mpg\": 27.2, \"cylinders\": 4, \"displacement\": 141.0, \"horsepower\": \"71.00\", \"weight\": 3190.0, \"acceleration\": 24.8, \"model_year\": 79, \"origin\": 2, \"car_name\": \"peugeot 504\"}, {\"mpg\": 23.9, \"cylinders\": 8, \"displacement\": 260.0, \"horsepower\": \"90.00\", \"weight\": 3420.0, \"acceleration\": 22.2, \"model_year\": 79, \"origin\": 1, \"car_name\": \"oldsmobile cutlass salon brougham\"}, {\"mpg\": 34.2, \"cylinders\": 4, \"displacement\": 105.0, \"horsepower\": \"70.00\", \"weight\": 2200.0, \"acceleration\": 13.2, \"model_year\": 79, \"origin\": 1, \"car_name\": \"plymouth horizon\"}, {\"mpg\": 34.5, \"cylinders\": 4, \"displacement\": 105.0, \"horsepower\": \"70.00\", \"weight\": 2150.0, \"acceleration\": 14.9, \"model_year\": 79, \"origin\": 1, \"car_name\": \"plymouth horizon tc3\"}, {\"mpg\": 31.8, \"cylinders\": 4, \"displacement\": 85.0, \"horsepower\": \"65.00\", \"weight\": 2020.0, \"acceleration\": 19.2, \"model_year\": 79, \"origin\": 3, \"car_name\": \"datsun 210\"}, {\"mpg\": 37.3, \"cylinders\": 4, \"displacement\": 91.0, \"horsepower\": \"69.00\", \"weight\": 2130.0, \"acceleration\": 14.7, \"model_year\": 79, \"origin\": 2, \"car_name\": \"fiat strada custom\"}, {\"mpg\": 28.4, \"cylinders\": 4, \"displacement\": 151.0, \"horsepower\": \"90.00\", \"weight\": 2670.0, \"acceleration\": 16.0, \"model_year\": 79, \"origin\": 1, \"car_name\": \"buick skylark limited\"}, {\"mpg\": 28.8, \"cylinders\": 6, \"displacement\": 173.0, \"horsepower\": \"115.0\", \"weight\": 2595.0, \"acceleration\": 11.3, \"model_year\": 79, \"origin\": 1, \"car_name\": \"chevrolet citation\"}, {\"mpg\": 26.8, \"cylinders\": 6, \"displacement\": 173.0, \"horsepower\": \"115.0\", \"weight\": 2700.0, \"acceleration\": 12.9, \"model_year\": 79, \"origin\": 1, \"car_name\": \"oldsmobile omega brougham\"}, {\"mpg\": 33.5, \"cylinders\": 4, \"displacement\": 151.0, \"horsepower\": \"90.00\", \"weight\": 2556.0, \"acceleration\": 13.2, \"model_year\": 79, \"origin\": 1, \"car_name\": \"pontiac phoenix\"}, {\"mpg\": 41.5, \"cylinders\": 4, \"displacement\": 98.0, \"horsepower\": \"76.00\", \"weight\": 2144.0, \"acceleration\": 14.7, \"model_year\": 80, \"origin\": 2, \"car_name\": \"vw rabbit\"}, {\"mpg\": 38.1, \"cylinders\": 4, \"displacement\": 89.0, \"horsepower\": \"60.00\", \"weight\": 1968.0, \"acceleration\": 18.8, \"model_year\": 80, \"origin\": 3, \"car_name\": \"toyota corolla tercel\"}, {\"mpg\": 32.1, \"cylinders\": 4, \"displacement\": 98.0, \"horsepower\": \"70.00\", \"weight\": 2120.0, \"acceleration\": 15.5, \"model_year\": 80, \"origin\": 1, \"car_name\": \"chevrolet chevette\"}, {\"mpg\": 37.2, \"cylinders\": 4, \"displacement\": 86.0, \"horsepower\": \"65.00\", \"weight\": 2019.0, \"acceleration\": 16.4, \"model_year\": 80, \"origin\": 3, \"car_name\": \"datsun 310\"}, {\"mpg\": 28.0, \"cylinders\": 4, \"displacement\": 151.0, \"horsepower\": \"90.00\", \"weight\": 2678.0, \"acceleration\": 16.5, \"model_year\": 80, \"origin\": 1, \"car_name\": \"chevrolet citation\"}, {\"mpg\": 26.4, \"cylinders\": 4, \"displacement\": 140.0, \"horsepower\": \"88.00\", \"weight\": 2870.0, \"acceleration\": 18.1, \"model_year\": 80, \"origin\": 1, \"car_name\": \"ford fairmont\"}, {\"mpg\": 24.3, \"cylinders\": 4, \"displacement\": 151.0, \"horsepower\": \"90.00\", \"weight\": 3003.0, \"acceleration\": 20.1, \"model_year\": 80, \"origin\": 1, \"car_name\": \"amc concord\"}, {\"mpg\": 19.1, \"cylinders\": 6, \"displacement\": 225.0, \"horsepower\": \"90.00\", \"weight\": 3381.0, \"acceleration\": 18.7, \"model_year\": 80, \"origin\": 1, \"car_name\": \"dodge aspen\"}, {\"mpg\": 34.3, \"cylinders\": 4, \"displacement\": 97.0, \"horsepower\": \"78.00\", \"weight\": 2188.0, \"acceleration\": 15.8, \"model_year\": 80, \"origin\": 2, \"car_name\": \"audi 4000\"}, {\"mpg\": 29.8, \"cylinders\": 4, \"displacement\": 134.0, \"horsepower\": \"90.00\", \"weight\": 2711.0, \"acceleration\": 15.5, \"model_year\": 80, \"origin\": 3, \"car_name\": \"toyota corona liftback\"}, {\"mpg\": 31.3, \"cylinders\": 4, \"displacement\": 120.0, \"horsepower\": \"75.00\", \"weight\": 2542.0, \"acceleration\": 17.5, \"model_year\": 80, \"origin\": 3, \"car_name\": \"mazda 626\"}, {\"mpg\": 37.0, \"cylinders\": 4, \"displacement\": 119.0, \"horsepower\": \"92.00\", \"weight\": 2434.0, \"acceleration\": 15.0, \"model_year\": 80, \"origin\": 3, \"car_name\": \"datsun 510 hatchback\"}, {\"mpg\": 32.2, \"cylinders\": 4, \"displacement\": 108.0, \"horsepower\": \"75.00\", \"weight\": 2265.0, \"acceleration\": 15.2, \"model_year\": 80, \"origin\": 3, \"car_name\": \"toyota corolla\"}, {\"mpg\": 46.6, \"cylinders\": 4, \"displacement\": 86.0, \"horsepower\": \"65.00\", \"weight\": 2110.0, \"acceleration\": 17.9, \"model_year\": 80, \"origin\": 3, \"car_name\": \"mazda glc\"}, {\"mpg\": 27.9, \"cylinders\": 4, \"displacement\": 156.0, \"horsepower\": \"105.0\", \"weight\": 2800.0, \"acceleration\": 14.4, \"model_year\": 80, \"origin\": 1, \"car_name\": \"dodge colt\"}, {\"mpg\": 40.8, \"cylinders\": 4, \"displacement\": 85.0, \"horsepower\": \"65.00\", \"weight\": 2110.0, \"acceleration\": 19.2, \"model_year\": 80, \"origin\": 3, \"car_name\": \"datsun 210\"}, {\"mpg\": 44.3, \"cylinders\": 4, \"displacement\": 90.0, \"horsepower\": \"48.00\", \"weight\": 2085.0, \"acceleration\": 21.7, \"model_year\": 80, \"origin\": 2, \"car_name\": \"vw rabbit c (diesel)\"}, {\"mpg\": 43.4, \"cylinders\": 4, \"displacement\": 90.0, \"horsepower\": \"48.00\", \"weight\": 2335.0, \"acceleration\": 23.7, \"model_year\": 80, \"origin\": 2, \"car_name\": \"vw dasher (diesel)\"}, {\"mpg\": 36.4, \"cylinders\": 5, \"displacement\": 121.0, \"horsepower\": \"67.00\", \"weight\": 2950.0, \"acceleration\": 19.9, \"model_year\": 80, \"origin\": 2, \"car_name\": \"audi 5000s (diesel)\"}, {\"mpg\": 30.0, \"cylinders\": 4, \"displacement\": 146.0, \"horsepower\": \"67.00\", \"weight\": 3250.0, \"acceleration\": 21.8, \"model_year\": 80, \"origin\": 2, \"car_name\": \"mercedes-benz 240d\"}, {\"mpg\": 44.6, \"cylinders\": 4, \"displacement\": 91.0, \"horsepower\": \"67.00\", \"weight\": 1850.0, \"acceleration\": 13.8, \"model_year\": 80, \"origin\": 3, \"car_name\": \"honda civic 1500 gl\"}, {\"mpg\": 33.8, \"cylinders\": 4, \"displacement\": 97.0, \"horsepower\": \"67.00\", \"weight\": 2145.0, \"acceleration\": 18.0, \"model_year\": 80, \"origin\": 3, \"car_name\": \"subaru dl\"}, {\"mpg\": 29.8, \"cylinders\": 4, \"displacement\": 89.0, \"horsepower\": \"62.00\", \"weight\": 1845.0, \"acceleration\": 15.3, \"model_year\": 80, \"origin\": 2, \"car_name\": \"vokswagen rabbit\"}, {\"mpg\": 32.7, \"cylinders\": 6, \"displacement\": 168.0, \"horsepower\": \"132.0\", \"weight\": 2910.0, \"acceleration\": 11.4, \"model_year\": 80, \"origin\": 3, \"car_name\": \"datsun 280-zx\"}, {\"mpg\": 23.7, \"cylinders\": 3, \"displacement\": 70.0, \"horsepower\": \"100.0\", \"weight\": 2420.0, \"acceleration\": 12.5, \"model_year\": 80, \"origin\": 3, \"car_name\": \"mazda rx-7 gs\"}, {\"mpg\": 35.0, \"cylinders\": 4, \"displacement\": 122.0, \"horsepower\": \"88.00\", \"weight\": 2500.0, \"acceleration\": 15.1, \"model_year\": 80, \"origin\": 2, \"car_name\": \"triumph tr7 coupe\"}, {\"mpg\": 32.4, \"cylinders\": 4, \"displacement\": 107.0, \"horsepower\": \"72.00\", \"weight\": 2290.0, \"acceleration\": 17.0, \"model_year\": 80, \"origin\": 3, \"car_name\": \"honda accord\"}, {\"mpg\": 27.2, \"cylinders\": 4, \"displacement\": 135.0, \"horsepower\": \"84.00\", \"weight\": 2490.0, \"acceleration\": 15.7, \"model_year\": 81, \"origin\": 1, \"car_name\": \"plymouth reliant\"}, {\"mpg\": 26.6, \"cylinders\": 4, \"displacement\": 151.0, \"horsepower\": \"84.00\", \"weight\": 2635.0, \"acceleration\": 16.4, \"model_year\": 81, \"origin\": 1, \"car_name\": \"buick skylark\"}, {\"mpg\": 25.8, \"cylinders\": 4, \"displacement\": 156.0, \"horsepower\": \"92.00\", \"weight\": 2620.0, \"acceleration\": 14.4, \"model_year\": 81, \"origin\": 1, \"car_name\": \"dodge aries wagon (sw)\"}, {\"mpg\": 23.5, \"cylinders\": 6, \"displacement\": 173.0, \"horsepower\": \"110.0\", \"weight\": 2725.0, \"acceleration\": 12.6, \"model_year\": 81, \"origin\": 1, \"car_name\": \"chevrolet citation\"}, {\"mpg\": 30.0, \"cylinders\": 4, \"displacement\": 135.0, \"horsepower\": \"84.00\", \"weight\": 2385.0, \"acceleration\": 12.9, \"model_year\": 81, \"origin\": 1, \"car_name\": \"plymouth reliant\"}, {\"mpg\": 39.1, \"cylinders\": 4, \"displacement\": 79.0, \"horsepower\": \"58.00\", \"weight\": 1755.0, \"acceleration\": 16.9, \"model_year\": 81, \"origin\": 3, \"car_name\": \"toyota starlet\"}, {\"mpg\": 39.0, \"cylinders\": 4, \"displacement\": 86.0, \"horsepower\": \"64.00\", \"weight\": 1875.0, \"acceleration\": 16.4, \"model_year\": 81, \"origin\": 1, \"car_name\": \"plymouth champ\"}, {\"mpg\": 35.1, \"cylinders\": 4, \"displacement\": 81.0, \"horsepower\": \"60.00\", \"weight\": 1760.0, \"acceleration\": 16.1, \"model_year\": 81, \"origin\": 3, \"car_name\": \"honda civic 1300\"}, {\"mpg\": 32.3, \"cylinders\": 4, \"displacement\": 97.0, \"horsepower\": \"67.00\", \"weight\": 2065.0, \"acceleration\": 17.8, \"model_year\": 81, \"origin\": 3, \"car_name\": \"subaru\"}, {\"mpg\": 37.0, \"cylinders\": 4, \"displacement\": 85.0, \"horsepower\": \"65.00\", \"weight\": 1975.0, \"acceleration\": 19.4, \"model_year\": 81, \"origin\": 3, \"car_name\": \"datsun 210 mpg\"}, {\"mpg\": 37.7, \"cylinders\": 4, \"displacement\": 89.0, \"horsepower\": \"62.00\", \"weight\": 2050.0, \"acceleration\": 17.3, \"model_year\": 81, \"origin\": 3, \"car_name\": \"toyota tercel\"}, {\"mpg\": 34.1, \"cylinders\": 4, \"displacement\": 91.0, \"horsepower\": \"68.00\", \"weight\": 1985.0, \"acceleration\": 16.0, \"model_year\": 81, \"origin\": 3, \"car_name\": \"mazda glc 4\"}, {\"mpg\": 34.7, \"cylinders\": 4, \"displacement\": 105.0, \"horsepower\": \"63.00\", \"weight\": 2215.0, \"acceleration\": 14.9, \"model_year\": 81, \"origin\": 1, \"car_name\": \"plymouth horizon 4\"}, {\"mpg\": 34.4, \"cylinders\": 4, \"displacement\": 98.0, \"horsepower\": \"65.00\", \"weight\": 2045.0, \"acceleration\": 16.2, \"model_year\": 81, \"origin\": 1, \"car_name\": \"ford escort 4w\"}, {\"mpg\": 29.9, \"cylinders\": 4, \"displacement\": 98.0, \"horsepower\": \"65.00\", \"weight\": 2380.0, \"acceleration\": 20.7, \"model_year\": 81, \"origin\": 1, \"car_name\": \"ford escort 2h\"}, {\"mpg\": 33.0, \"cylinders\": 4, \"displacement\": 105.0, \"horsepower\": \"74.00\", \"weight\": 2190.0, \"acceleration\": 14.2, \"model_year\": 81, \"origin\": 2, \"car_name\": \"volkswagen jetta\"}, {\"mpg\": 33.7, \"cylinders\": 4, \"displacement\": 107.0, \"horsepower\": \"75.00\", \"weight\": 2210.0, \"acceleration\": 14.4, \"model_year\": 81, \"origin\": 3, \"car_name\": \"honda prelude\"}, {\"mpg\": 32.4, \"cylinders\": 4, \"displacement\": 108.0, \"horsepower\": \"75.00\", \"weight\": 2350.0, \"acceleration\": 16.8, \"model_year\": 81, \"origin\": 3, \"car_name\": \"toyota corolla\"}, {\"mpg\": 32.9, \"cylinders\": 4, \"displacement\": 119.0, \"horsepower\": \"100.0\", \"weight\": 2615.0, \"acceleration\": 14.8, \"model_year\": 81, \"origin\": 3, \"car_name\": \"datsun 200sx\"}, {\"mpg\": 31.6, \"cylinders\": 4, \"displacement\": 120.0, \"horsepower\": \"74.00\", \"weight\": 2635.0, \"acceleration\": 18.3, \"model_year\": 81, \"origin\": 3, \"car_name\": \"mazda 626\"}, {\"mpg\": 28.1, \"cylinders\": 4, \"displacement\": 141.0, \"horsepower\": \"80.00\", \"weight\": 3230.0, \"acceleration\": 20.4, \"model_year\": 81, \"origin\": 2, \"car_name\": \"peugeot 505s turbo diesel\"}, {\"mpg\": 30.7, \"cylinders\": 6, \"displacement\": 145.0, \"horsepower\": \"76.00\", \"weight\": 3160.0, \"acceleration\": 19.6, \"model_year\": 81, \"origin\": 2, \"car_name\": \"volvo diesel\"}, {\"mpg\": 25.4, \"cylinders\": 6, \"displacement\": 168.0, \"horsepower\": \"116.0\", \"weight\": 2900.0, \"acceleration\": 12.6, \"model_year\": 81, \"origin\": 3, \"car_name\": \"toyota cressida\"}, {\"mpg\": 24.2, \"cylinders\": 6, \"displacement\": 146.0, \"horsepower\": \"120.0\", \"weight\": 2930.0, \"acceleration\": 13.8, \"model_year\": 81, \"origin\": 3, \"car_name\": \"datsun 810 maxima\"}, {\"mpg\": 22.4, \"cylinders\": 6, \"displacement\": 231.0, \"horsepower\": \"110.0\", \"weight\": 3415.0, \"acceleration\": 15.8, \"model_year\": 81, \"origin\": 1, \"car_name\": \"buick century\"}, {\"mpg\": 26.6, \"cylinders\": 8, \"displacement\": 350.0, \"horsepower\": \"105.0\", \"weight\": 3725.0, \"acceleration\": 19.0, \"model_year\": 81, \"origin\": 1, \"car_name\": \"oldsmobile cutlass ls\"}, {\"mpg\": 20.2, \"cylinders\": 6, \"displacement\": 200.0, \"horsepower\": \"88.00\", \"weight\": 3060.0, \"acceleration\": 17.1, \"model_year\": 81, \"origin\": 1, \"car_name\": \"ford granada gl\"}, {\"mpg\": 17.6, \"cylinders\": 6, \"displacement\": 225.0, \"horsepower\": \"85.00\", \"weight\": 3465.0, \"acceleration\": 16.6, \"model_year\": 81, \"origin\": 1, \"car_name\": \"chrysler lebaron salon\"}, {\"mpg\": 28.0, \"cylinders\": 4, \"displacement\": 112.0, \"horsepower\": \"88.00\", \"weight\": 2605.0, \"acceleration\": 19.6, \"model_year\": 82, \"origin\": 1, \"car_name\": \"chevrolet cavalier\"}, {\"mpg\": 27.0, \"cylinders\": 4, \"displacement\": 112.0, \"horsepower\": \"88.00\", \"weight\": 2640.0, \"acceleration\": 18.6, \"model_year\": 82, \"origin\": 1, \"car_name\": \"chevrolet cavalier wagon\"}, {\"mpg\": 34.0, \"cylinders\": 4, \"displacement\": 112.0, \"horsepower\": \"88.00\", \"weight\": 2395.0, \"acceleration\": 18.0, \"model_year\": 82, \"origin\": 1, \"car_name\": \"chevrolet cavalier 2-door\"}, {\"mpg\": 31.0, \"cylinders\": 4, \"displacement\": 112.0, \"horsepower\": \"85.00\", \"weight\": 2575.0, \"acceleration\": 16.2, \"model_year\": 82, \"origin\": 1, \"car_name\": \"pontiac j2000 se hatchback\"}, {\"mpg\": 29.0, \"cylinders\": 4, \"displacement\": 135.0, \"horsepower\": \"84.00\", \"weight\": 2525.0, \"acceleration\": 16.0, \"model_year\": 82, \"origin\": 1, \"car_name\": \"dodge aries se\"}, {\"mpg\": 27.0, \"cylinders\": 4, \"displacement\": 151.0, \"horsepower\": \"90.00\", \"weight\": 2735.0, \"acceleration\": 18.0, \"model_year\": 82, \"origin\": 1, \"car_name\": \"pontiac phoenix\"}, {\"mpg\": 24.0, \"cylinders\": 4, \"displacement\": 140.0, \"horsepower\": \"92.00\", \"weight\": 2865.0, \"acceleration\": 16.4, \"model_year\": 82, \"origin\": 1, \"car_name\": \"ford fairmont futura\"}, {\"mpg\": 36.0, \"cylinders\": 4, \"displacement\": 105.0, \"horsepower\": \"74.00\", \"weight\": 1980.0, \"acceleration\": 15.3, \"model_year\": 82, \"origin\": 2, \"car_name\": \"volkswagen rabbit l\"}, {\"mpg\": 37.0, \"cylinders\": 4, \"displacement\": 91.0, \"horsepower\": \"68.00\", \"weight\": 2025.0, \"acceleration\": 18.2, \"model_year\": 82, \"origin\": 3, \"car_name\": \"mazda glc custom l\"}, {\"mpg\": 31.0, \"cylinders\": 4, \"displacement\": 91.0, \"horsepower\": \"68.00\", \"weight\": 1970.0, \"acceleration\": 17.6, \"model_year\": 82, \"origin\": 3, \"car_name\": \"mazda glc custom\"}, {\"mpg\": 38.0, \"cylinders\": 4, \"displacement\": 105.0, \"horsepower\": \"63.00\", \"weight\": 2125.0, \"acceleration\": 14.7, \"model_year\": 82, \"origin\": 1, \"car_name\": \"plymouth horizon miser\"}, {\"mpg\": 36.0, \"cylinders\": 4, \"displacement\": 98.0, \"horsepower\": \"70.00\", \"weight\": 2125.0, \"acceleration\": 17.3, \"model_year\": 82, \"origin\": 1, \"car_name\": \"mercury lynx l\"}, {\"mpg\": 36.0, \"cylinders\": 4, \"displacement\": 120.0, \"horsepower\": \"88.00\", \"weight\": 2160.0, \"acceleration\": 14.5, \"model_year\": 82, \"origin\": 3, \"car_name\": \"nissan stanza xe\"}, {\"mpg\": 36.0, \"cylinders\": 4, \"displacement\": 107.0, \"horsepower\": \"75.00\", \"weight\": 2205.0, \"acceleration\": 14.5, \"model_year\": 82, \"origin\": 3, \"car_name\": \"honda accord\"}, {\"mpg\": 34.0, \"cylinders\": 4, \"displacement\": 108.0, \"horsepower\": \"70.00\", \"weight\": 2245.0, \"acceleration\": 16.9, \"model_year\": 82, \"origin\": 3, \"car_name\": \"toyota corolla\"}, {\"mpg\": 38.0, \"cylinders\": 4, \"displacement\": 91.0, \"horsepower\": \"67.00\", \"weight\": 1965.0, \"acceleration\": 15.0, \"model_year\": 82, \"origin\": 3, \"car_name\": \"honda civic\"}, {\"mpg\": 32.0, \"cylinders\": 4, \"displacement\": 91.0, \"horsepower\": \"67.00\", \"weight\": 1965.0, \"acceleration\": 15.7, \"model_year\": 82, \"origin\": 3, \"car_name\": \"honda civic (auto)\"}, {\"mpg\": 38.0, \"cylinders\": 4, \"displacement\": 91.0, \"horsepower\": \"67.00\", \"weight\": 1995.0, \"acceleration\": 16.2, \"model_year\": 82, \"origin\": 3, \"car_name\": \"datsun 310 gx\"}, {\"mpg\": 25.0, \"cylinders\": 6, \"displacement\": 181.0, \"horsepower\": \"110.0\", \"weight\": 2945.0, \"acceleration\": 16.4, \"model_year\": 82, \"origin\": 1, \"car_name\": \"buick century limited\"}, {\"mpg\": 38.0, \"cylinders\": 6, \"displacement\": 262.0, \"horsepower\": \"85.00\", \"weight\": 3015.0, \"acceleration\": 17.0, \"model_year\": 82, \"origin\": 1, \"car_name\": \"oldsmobile cutlass ciera (diesel)\"}, {\"mpg\": 26.0, \"cylinders\": 4, \"displacement\": 156.0, \"horsepower\": \"92.00\", \"weight\": 2585.0, \"acceleration\": 14.5, \"model_year\": 82, \"origin\": 1, \"car_name\": \"chrysler lebaron medallion\"}, {\"mpg\": 22.0, \"cylinders\": 6, \"displacement\": 232.0, \"horsepower\": \"112.0\", \"weight\": 2835.0, \"acceleration\": 14.7, \"model_year\": 82, \"origin\": 1, \"car_name\": \"ford granada l\"}, {\"mpg\": 32.0, \"cylinders\": 4, \"displacement\": 144.0, \"horsepower\": \"96.00\", \"weight\": 2665.0, \"acceleration\": 13.9, \"model_year\": 82, \"origin\": 3, \"car_name\": \"toyota celica gt\"}, {\"mpg\": 36.0, \"cylinders\": 4, \"displacement\": 135.0, \"horsepower\": \"84.00\", \"weight\": 2370.0, \"acceleration\": 13.0, \"model_year\": 82, \"origin\": 1, \"car_name\": \"dodge charger 2.2\"}, {\"mpg\": 27.0, \"cylinders\": 4, \"displacement\": 151.0, \"horsepower\": \"90.00\", \"weight\": 2950.0, \"acceleration\": 17.3, \"model_year\": 82, \"origin\": 1, \"car_name\": \"chevrolet camaro\"}, {\"mpg\": 27.0, \"cylinders\": 4, \"displacement\": 140.0, \"horsepower\": \"86.00\", \"weight\": 2790.0, \"acceleration\": 15.6, \"model_year\": 82, \"origin\": 1, \"car_name\": \"ford mustang gl\"}, {\"mpg\": 44.0, \"cylinders\": 4, \"displacement\": 97.0, \"horsepower\": \"52.00\", \"weight\": 2130.0, \"acceleration\": 24.6, \"model_year\": 82, \"origin\": 2, \"car_name\": \"vw pickup\"}, {\"mpg\": 32.0, \"cylinders\": 4, \"displacement\": 135.0, \"horsepower\": \"84.00\", \"weight\": 2295.0, \"acceleration\": 11.6, \"model_year\": 82, \"origin\": 1, \"car_name\": \"dodge rampage\"}, {\"mpg\": 28.0, \"cylinders\": 4, \"displacement\": 120.0, \"horsepower\": \"79.00\", \"weight\": 2625.0, \"acceleration\": 18.6, \"model_year\": 82, \"origin\": 1, \"car_name\": \"ford ranger\"}, {\"mpg\": 31.0, \"cylinders\": 4, \"displacement\": 119.0, \"horsepower\": \"82.00\", \"weight\": 2720.0, \"acceleration\": 19.4, \"model_year\": 82, \"origin\": 1, \"car_name\": \"chevy s-10\"}]}}, {\"mode\": \"vega-lite\"});\n",
       "</script>"
      ],
      "text/plain": [
       "alt.LayerChart(...)"
      ]
     },
     "execution_count": 9,
     "metadata": {},
     "output_type": "execute_result"
    }
   ],
   "source": [
    "# To see what ACCELERATION value really means for this data, we first want to see the relationship between weight and its acceleration.\n",
    "# It is obvious that heavier the car is, longer it needs to accelerate.\n",
    "c1 = alt.Chart(df).mark_point().encode(\n",
    "    x = 'weight:Q',\n",
    "    y = 'acceleration:Q',\n",
    "    tooltip = ['weight', 'acceleration','cylinders','model_year','car_name','horsepower']\n",
    ")\n",
    "trendline = c1.transform_regression('weight', 'acceleration').mark_line(color='red')\n",
    "chart_with_trendline1 = (c1 + trendline)\n",
    "chart_with_trendline1"
   ]
  },
  {
   "cell_type": "markdown",
   "metadata": {
    "cell_id": "1bc04e6fc07749a88cf293328cfd6fd3",
    "deepnote_cell_type": "markdown"
   },
   "source": [
    "Weird! why is the acceleration time goes down when weight increases? or are values from acceleraiton NOT the time it needs to accelerate from 0 to 60mph?\n",
    "\n",
    "Don't worry, we can check it using horsepower, which should be the one who tells the acceleration!!"
   ]
  },
  {
   "cell_type": "code",
   "execution_count": null,
   "metadata": {
    "cell_id": "7650c25b9f6d49fa8f3210e8ab035803",
    "deepnote_cell_type": "code",
    "deepnote_to_be_reexecuted": false,
    "execution_millis": 68,
    "execution_start": 1702538194452,
    "source_hash": null
   },
   "outputs": [
    {
     "data": {
      "text/html": [
       "\n",
       "<div id=\"altair-viz-fa6a31b14453439983411f708ad6a115\"></div>\n",
       "<script type=\"text/javascript\">\n",
       "  var VEGA_DEBUG = (typeof VEGA_DEBUG == \"undefined\") ? {} : VEGA_DEBUG;\n",
       "  (function(spec, embedOpt){\n",
       "    let outputDiv = document.currentScript.previousElementSibling;\n",
       "    if (outputDiv.id !== \"altair-viz-fa6a31b14453439983411f708ad6a115\") {\n",
       "      outputDiv = document.getElementById(\"altair-viz-fa6a31b14453439983411f708ad6a115\");\n",
       "    }\n",
       "    const paths = {\n",
       "      \"vega\": \"https://cdn.jsdelivr.net/npm//vega@5?noext\",\n",
       "      \"vega-lib\": \"https://cdn.jsdelivr.net/npm//vega-lib?noext\",\n",
       "      \"vega-lite\": \"https://cdn.jsdelivr.net/npm//vega-lite@4.17.0?noext\",\n",
       "      \"vega-embed\": \"https://cdn.jsdelivr.net/npm//vega-embed@6?noext\",\n",
       "    };\n",
       "\n",
       "    function maybeLoadScript(lib, version) {\n",
       "      var key = `${lib.replace(\"-\", \"\")}_version`;\n",
       "      return (VEGA_DEBUG[key] == version) ?\n",
       "        Promise.resolve(paths[lib]) :\n",
       "        new Promise(function(resolve, reject) {\n",
       "          var s = document.createElement('script');\n",
       "          document.getElementsByTagName(\"head\")[0].appendChild(s);\n",
       "          s.async = true;\n",
       "          s.onload = () => {\n",
       "            VEGA_DEBUG[key] = version;\n",
       "            return resolve(paths[lib]);\n",
       "          };\n",
       "          s.onerror = () => reject(`Error loading script: ${paths[lib]}`);\n",
       "          s.src = paths[lib];\n",
       "        });\n",
       "    }\n",
       "\n",
       "    function showError(err) {\n",
       "      outputDiv.innerHTML = `<div class=\"error\" style=\"color:red;\">${err}</div>`;\n",
       "      throw err;\n",
       "    }\n",
       "\n",
       "    function displayChart(vegaEmbed) {\n",
       "      vegaEmbed(outputDiv, spec, embedOpt)\n",
       "        .catch(err => showError(`Javascript Error: ${err.message}<br>This usually means there's a typo in your chart specification. See the javascript console for the full traceback.`));\n",
       "    }\n",
       "\n",
       "    if(typeof define === \"function\" && define.amd) {\n",
       "      requirejs.config({paths});\n",
       "      require([\"vega-embed\"], displayChart, err => showError(`Error loading script: ${err.message}`));\n",
       "    } else {\n",
       "      maybeLoadScript(\"vega\", \"5\")\n",
       "        .then(() => maybeLoadScript(\"vega-lite\", \"4.17.0\"))\n",
       "        .then(() => maybeLoadScript(\"vega-embed\", \"6\"))\n",
       "        .catch(showError)\n",
       "        .then(() => displayChart(vegaEmbed));\n",
       "    }\n",
       "  })({\"config\": {\"view\": {\"continuousWidth\": 400, \"continuousHeight\": 300}}, \"data\": {\"name\": \"data-062a950928f0a567605bfbbf0bb6ca5c\"}, \"mark\": \"point\", \"encoding\": {\"tooltip\": [{\"field\": \"weight\", \"type\": \"quantitative\"}, {\"field\": \"acceleration\", \"type\": \"quantitative\"}, {\"field\": \"cylinders\", \"type\": \"quantitative\"}, {\"field\": \"model_year\", \"type\": \"quantitative\"}, {\"field\": \"car_name\", \"type\": \"nominal\"}], \"x\": {\"field\": \"horsepower\", \"type\": \"quantitative\"}, \"y\": {\"field\": \"acceleration\", \"type\": \"quantitative\"}}, \"$schema\": \"https://vega.github.io/schema/vega-lite/v4.17.0.json\", \"datasets\": {\"data-062a950928f0a567605bfbbf0bb6ca5c\": [{\"mpg\": 18.0, \"cylinders\": 8, \"displacement\": 307.0, \"horsepower\": \"130.0\", \"weight\": 3504.0, \"acceleration\": 12.0, \"model_year\": 70, \"origin\": 1, \"car_name\": \"chevrolet chevelle malibu\"}, {\"mpg\": 15.0, \"cylinders\": 8, \"displacement\": 350.0, \"horsepower\": \"165.0\", \"weight\": 3693.0, \"acceleration\": 11.5, \"model_year\": 70, \"origin\": 1, \"car_name\": \"buick skylark 320\"}, {\"mpg\": 18.0, \"cylinders\": 8, \"displacement\": 318.0, \"horsepower\": \"150.0\", \"weight\": 3436.0, \"acceleration\": 11.0, \"model_year\": 70, \"origin\": 1, \"car_name\": \"plymouth satellite\"}, {\"mpg\": 16.0, \"cylinders\": 8, \"displacement\": 304.0, \"horsepower\": \"150.0\", \"weight\": 3433.0, \"acceleration\": 12.0, \"model_year\": 70, \"origin\": 1, \"car_name\": \"amc rebel sst\"}, {\"mpg\": 17.0, \"cylinders\": 8, \"displacement\": 302.0, \"horsepower\": \"140.0\", \"weight\": 3449.0, \"acceleration\": 10.5, \"model_year\": 70, \"origin\": 1, \"car_name\": \"ford torino\"}, {\"mpg\": 15.0, \"cylinders\": 8, \"displacement\": 429.0, \"horsepower\": \"198.0\", \"weight\": 4341.0, \"acceleration\": 10.0, \"model_year\": 70, \"origin\": 1, \"car_name\": \"ford galaxie 500\"}, {\"mpg\": 14.0, \"cylinders\": 8, \"displacement\": 454.0, \"horsepower\": \"220.0\", \"weight\": 4354.0, \"acceleration\": 9.0, \"model_year\": 70, \"origin\": 1, \"car_name\": \"chevrolet impala\"}, {\"mpg\": 14.0, \"cylinders\": 8, \"displacement\": 440.0, \"horsepower\": \"215.0\", \"weight\": 4312.0, \"acceleration\": 8.5, \"model_year\": 70, \"origin\": 1, \"car_name\": \"plymouth fury iii\"}, {\"mpg\": 14.0, \"cylinders\": 8, \"displacement\": 455.0, \"horsepower\": \"225.0\", \"weight\": 4425.0, \"acceleration\": 10.0, \"model_year\": 70, \"origin\": 1, \"car_name\": \"pontiac catalina\"}, {\"mpg\": 15.0, \"cylinders\": 8, \"displacement\": 390.0, \"horsepower\": \"190.0\", \"weight\": 3850.0, \"acceleration\": 8.5, \"model_year\": 70, \"origin\": 1, \"car_name\": \"amc ambassador dpl\"}, {\"mpg\": 15.0, \"cylinders\": 8, \"displacement\": 383.0, \"horsepower\": \"170.0\", \"weight\": 3563.0, \"acceleration\": 10.0, \"model_year\": 70, \"origin\": 1, \"car_name\": \"dodge challenger se\"}, {\"mpg\": 14.0, \"cylinders\": 8, \"displacement\": 340.0, \"horsepower\": \"160.0\", \"weight\": 3609.0, \"acceleration\": 8.0, \"model_year\": 70, \"origin\": 1, \"car_name\": \"plymouth 'cuda 340\"}, {\"mpg\": 15.0, \"cylinders\": 8, \"displacement\": 400.0, \"horsepower\": \"150.0\", \"weight\": 3761.0, \"acceleration\": 9.5, \"model_year\": 70, \"origin\": 1, \"car_name\": \"chevrolet monte carlo\"}, {\"mpg\": 14.0, \"cylinders\": 8, \"displacement\": 455.0, \"horsepower\": \"225.0\", \"weight\": 3086.0, \"acceleration\": 10.0, \"model_year\": 70, \"origin\": 1, \"car_name\": \"buick estate wagon (sw)\"}, {\"mpg\": 24.0, \"cylinders\": 4, \"displacement\": 113.0, \"horsepower\": \"95.00\", \"weight\": 2372.0, \"acceleration\": 15.0, \"model_year\": 70, \"origin\": 3, \"car_name\": \"toyota corona mark ii\"}, {\"mpg\": 22.0, \"cylinders\": 6, \"displacement\": 198.0, \"horsepower\": \"95.00\", \"weight\": 2833.0, \"acceleration\": 15.5, \"model_year\": 70, \"origin\": 1, \"car_name\": \"plymouth duster\"}, {\"mpg\": 18.0, \"cylinders\": 6, \"displacement\": 199.0, \"horsepower\": \"97.00\", \"weight\": 2774.0, \"acceleration\": 15.5, \"model_year\": 70, \"origin\": 1, \"car_name\": \"amc hornet\"}, {\"mpg\": 21.0, \"cylinders\": 6, \"displacement\": 200.0, \"horsepower\": \"85.00\", \"weight\": 2587.0, \"acceleration\": 16.0, \"model_year\": 70, \"origin\": 1, \"car_name\": \"ford maverick\"}, {\"mpg\": 27.0, \"cylinders\": 4, \"displacement\": 97.0, \"horsepower\": \"88.00\", \"weight\": 2130.0, \"acceleration\": 14.5, \"model_year\": 70, \"origin\": 3, \"car_name\": \"datsun pl510\"}, {\"mpg\": 26.0, \"cylinders\": 4, \"displacement\": 97.0, \"horsepower\": \"46.00\", \"weight\": 1835.0, \"acceleration\": 20.5, \"model_year\": 70, \"origin\": 2, \"car_name\": \"volkswagen 1131 deluxe sedan\"}, {\"mpg\": 25.0, \"cylinders\": 4, \"displacement\": 110.0, \"horsepower\": \"87.00\", \"weight\": 2672.0, \"acceleration\": 17.5, \"model_year\": 70, \"origin\": 2, \"car_name\": \"peugeot 504\"}, {\"mpg\": 24.0, \"cylinders\": 4, \"displacement\": 107.0, \"horsepower\": \"90.00\", \"weight\": 2430.0, \"acceleration\": 14.5, \"model_year\": 70, \"origin\": 2, \"car_name\": \"audi 100 ls\"}, {\"mpg\": 25.0, \"cylinders\": 4, \"displacement\": 104.0, \"horsepower\": \"95.00\", \"weight\": 2375.0, \"acceleration\": 17.5, \"model_year\": 70, \"origin\": 2, \"car_name\": \"saab 99e\"}, {\"mpg\": 26.0, \"cylinders\": 4, \"displacement\": 121.0, \"horsepower\": \"113.0\", \"weight\": 2234.0, \"acceleration\": 12.5, \"model_year\": 70, \"origin\": 2, \"car_name\": \"bmw 2002\"}, {\"mpg\": 21.0, \"cylinders\": 6, \"displacement\": 199.0, \"horsepower\": \"90.00\", \"weight\": 2648.0, \"acceleration\": 15.0, \"model_year\": 70, \"origin\": 1, \"car_name\": \"amc gremlin\"}, {\"mpg\": 10.0, \"cylinders\": 8, \"displacement\": 360.0, \"horsepower\": \"215.0\", \"weight\": 4615.0, \"acceleration\": 14.0, \"model_year\": 70, \"origin\": 1, \"car_name\": \"ford f250\"}, {\"mpg\": 10.0, \"cylinders\": 8, \"displacement\": 307.0, \"horsepower\": \"200.0\", \"weight\": 4376.0, \"acceleration\": 15.0, \"model_year\": 70, \"origin\": 1, \"car_name\": \"chevy c20\"}, {\"mpg\": 11.0, \"cylinders\": 8, \"displacement\": 318.0, \"horsepower\": \"210.0\", \"weight\": 4382.0, \"acceleration\": 13.5, \"model_year\": 70, \"origin\": 1, \"car_name\": \"dodge d200\"}, {\"mpg\": 9.0, \"cylinders\": 8, \"displacement\": 304.0, \"horsepower\": \"193.0\", \"weight\": 4732.0, \"acceleration\": 18.5, \"model_year\": 70, \"origin\": 1, \"car_name\": \"hi 1200d\"}, {\"mpg\": 27.0, \"cylinders\": 4, \"displacement\": 97.0, \"horsepower\": \"88.00\", \"weight\": 2130.0, \"acceleration\": 14.5, \"model_year\": 71, \"origin\": 3, \"car_name\": \"datsun pl510\"}, {\"mpg\": 28.0, \"cylinders\": 4, \"displacement\": 140.0, \"horsepower\": \"90.00\", \"weight\": 2264.0, \"acceleration\": 15.5, \"model_year\": 71, \"origin\": 1, \"car_name\": \"chevrolet vega 2300\"}, {\"mpg\": 25.0, \"cylinders\": 4, \"displacement\": 113.0, \"horsepower\": \"95.00\", \"weight\": 2228.0, \"acceleration\": 14.0, \"model_year\": 71, \"origin\": 3, \"car_name\": \"toyota corona\"}, {\"mpg\": 19.0, \"cylinders\": 6, \"displacement\": 232.0, \"horsepower\": \"100.0\", \"weight\": 2634.0, \"acceleration\": 13.0, \"model_year\": 71, \"origin\": 1, \"car_name\": \"amc gremlin\"}, {\"mpg\": 16.0, \"cylinders\": 6, \"displacement\": 225.0, \"horsepower\": \"105.0\", \"weight\": 3439.0, \"acceleration\": 15.5, \"model_year\": 71, \"origin\": 1, \"car_name\": \"plymouth satellite custom\"}, {\"mpg\": 17.0, \"cylinders\": 6, \"displacement\": 250.0, \"horsepower\": \"100.0\", \"weight\": 3329.0, \"acceleration\": 15.5, \"model_year\": 71, \"origin\": 1, \"car_name\": \"chevrolet chevelle malibu\"}, {\"mpg\": 19.0, \"cylinders\": 6, \"displacement\": 250.0, \"horsepower\": \"88.00\", \"weight\": 3302.0, \"acceleration\": 15.5, \"model_year\": 71, \"origin\": 1, \"car_name\": \"ford torino 500\"}, {\"mpg\": 18.0, \"cylinders\": 6, \"displacement\": 232.0, \"horsepower\": \"100.0\", \"weight\": 3288.0, \"acceleration\": 15.5, \"model_year\": 71, \"origin\": 1, \"car_name\": \"amc matador\"}, {\"mpg\": 14.0, \"cylinders\": 8, \"displacement\": 350.0, \"horsepower\": \"165.0\", \"weight\": 4209.0, \"acceleration\": 12.0, \"model_year\": 71, \"origin\": 1, \"car_name\": \"chevrolet impala\"}, {\"mpg\": 14.0, \"cylinders\": 8, \"displacement\": 400.0, \"horsepower\": \"175.0\", \"weight\": 4464.0, \"acceleration\": 11.5, \"model_year\": 71, \"origin\": 1, \"car_name\": \"pontiac catalina brougham\"}, {\"mpg\": 14.0, \"cylinders\": 8, \"displacement\": 351.0, \"horsepower\": \"153.0\", \"weight\": 4154.0, \"acceleration\": 13.5, \"model_year\": 71, \"origin\": 1, \"car_name\": \"ford galaxie 500\"}, {\"mpg\": 14.0, \"cylinders\": 8, \"displacement\": 318.0, \"horsepower\": \"150.0\", \"weight\": 4096.0, \"acceleration\": 13.0, \"model_year\": 71, \"origin\": 1, \"car_name\": \"plymouth fury iii\"}, {\"mpg\": 12.0, \"cylinders\": 8, \"displacement\": 383.0, \"horsepower\": \"180.0\", \"weight\": 4955.0, \"acceleration\": 11.5, \"model_year\": 71, \"origin\": 1, \"car_name\": \"dodge monaco (sw)\"}, {\"mpg\": 13.0, \"cylinders\": 8, \"displacement\": 400.0, \"horsepower\": \"170.0\", \"weight\": 4746.0, \"acceleration\": 12.0, \"model_year\": 71, \"origin\": 1, \"car_name\": \"ford country squire (sw)\"}, {\"mpg\": 13.0, \"cylinders\": 8, \"displacement\": 400.0, \"horsepower\": \"175.0\", \"weight\": 5140.0, \"acceleration\": 12.0, \"model_year\": 71, \"origin\": 1, \"car_name\": \"pontiac safari (sw)\"}, {\"mpg\": 18.0, \"cylinders\": 6, \"displacement\": 258.0, \"horsepower\": \"110.0\", \"weight\": 2962.0, \"acceleration\": 13.5, \"model_year\": 71, \"origin\": 1, \"car_name\": \"amc hornet sportabout (sw)\"}, {\"mpg\": 22.0, \"cylinders\": 4, \"displacement\": 140.0, \"horsepower\": \"72.00\", \"weight\": 2408.0, \"acceleration\": 19.0, \"model_year\": 71, \"origin\": 1, \"car_name\": \"chevrolet vega (sw)\"}, {\"mpg\": 19.0, \"cylinders\": 6, \"displacement\": 250.0, \"horsepower\": \"100.0\", \"weight\": 3282.0, \"acceleration\": 15.0, \"model_year\": 71, \"origin\": 1, \"car_name\": \"pontiac firebird\"}, {\"mpg\": 18.0, \"cylinders\": 6, \"displacement\": 250.0, \"horsepower\": \"88.00\", \"weight\": 3139.0, \"acceleration\": 14.5, \"model_year\": 71, \"origin\": 1, \"car_name\": \"ford mustang\"}, {\"mpg\": 23.0, \"cylinders\": 4, \"displacement\": 122.0, \"horsepower\": \"86.00\", \"weight\": 2220.0, \"acceleration\": 14.0, \"model_year\": 71, \"origin\": 1, \"car_name\": \"mercury capri 2000\"}, {\"mpg\": 28.0, \"cylinders\": 4, \"displacement\": 116.0, \"horsepower\": \"90.00\", \"weight\": 2123.0, \"acceleration\": 14.0, \"model_year\": 71, \"origin\": 2, \"car_name\": \"opel 1900\"}, {\"mpg\": 30.0, \"cylinders\": 4, \"displacement\": 79.0, \"horsepower\": \"70.00\", \"weight\": 2074.0, \"acceleration\": 19.5, \"model_year\": 71, \"origin\": 2, \"car_name\": \"peugeot 304\"}, {\"mpg\": 30.0, \"cylinders\": 4, \"displacement\": 88.0, \"horsepower\": \"76.00\", \"weight\": 2065.0, \"acceleration\": 14.5, \"model_year\": 71, \"origin\": 2, \"car_name\": \"fiat 124b\"}, {\"mpg\": 31.0, \"cylinders\": 4, \"displacement\": 71.0, \"horsepower\": \"65.00\", \"weight\": 1773.0, \"acceleration\": 19.0, \"model_year\": 71, \"origin\": 3, \"car_name\": \"toyota corolla 1200\"}, {\"mpg\": 35.0, \"cylinders\": 4, \"displacement\": 72.0, \"horsepower\": \"69.00\", \"weight\": 1613.0, \"acceleration\": 18.0, \"model_year\": 71, \"origin\": 3, \"car_name\": \"datsun 1200\"}, {\"mpg\": 27.0, \"cylinders\": 4, \"displacement\": 97.0, \"horsepower\": \"60.00\", \"weight\": 1834.0, \"acceleration\": 19.0, \"model_year\": 71, \"origin\": 2, \"car_name\": \"volkswagen model 111\"}, {\"mpg\": 26.0, \"cylinders\": 4, \"displacement\": 91.0, \"horsepower\": \"70.00\", \"weight\": 1955.0, \"acceleration\": 20.5, \"model_year\": 71, \"origin\": 1, \"car_name\": \"plymouth cricket\"}, {\"mpg\": 24.0, \"cylinders\": 4, \"displacement\": 113.0, \"horsepower\": \"95.00\", \"weight\": 2278.0, \"acceleration\": 15.5, \"model_year\": 72, \"origin\": 3, \"car_name\": \"toyota corona hardtop\"}, {\"mpg\": 25.0, \"cylinders\": 4, \"displacement\": 97.5, \"horsepower\": \"80.00\", \"weight\": 2126.0, \"acceleration\": 17.0, \"model_year\": 72, \"origin\": 1, \"car_name\": \"dodge colt hardtop\"}, {\"mpg\": 23.0, \"cylinders\": 4, \"displacement\": 97.0, \"horsepower\": \"54.00\", \"weight\": 2254.0, \"acceleration\": 23.5, \"model_year\": 72, \"origin\": 2, \"car_name\": \"volkswagen type 3\"}, {\"mpg\": 20.0, \"cylinders\": 4, \"displacement\": 140.0, \"horsepower\": \"90.00\", \"weight\": 2408.0, \"acceleration\": 19.5, \"model_year\": 72, \"origin\": 1, \"car_name\": \"chevrolet vega\"}, {\"mpg\": 21.0, \"cylinders\": 4, \"displacement\": 122.0, \"horsepower\": \"86.00\", \"weight\": 2226.0, \"acceleration\": 16.5, \"model_year\": 72, \"origin\": 1, \"car_name\": \"ford pinto runabout\"}, {\"mpg\": 13.0, \"cylinders\": 8, \"displacement\": 350.0, \"horsepower\": \"165.0\", \"weight\": 4274.0, \"acceleration\": 12.0, \"model_year\": 72, \"origin\": 1, \"car_name\": \"chevrolet impala\"}, {\"mpg\": 14.0, \"cylinders\": 8, \"displacement\": 400.0, \"horsepower\": \"175.0\", \"weight\": 4385.0, \"acceleration\": 12.0, \"model_year\": 72, \"origin\": 1, \"car_name\": \"pontiac catalina\"}, {\"mpg\": 15.0, \"cylinders\": 8, \"displacement\": 318.0, \"horsepower\": \"150.0\", \"weight\": 4135.0, \"acceleration\": 13.5, \"model_year\": 72, \"origin\": 1, \"car_name\": \"plymouth fury iii\"}, {\"mpg\": 14.0, \"cylinders\": 8, \"displacement\": 351.0, \"horsepower\": \"153.0\", \"weight\": 4129.0, \"acceleration\": 13.0, \"model_year\": 72, \"origin\": 1, \"car_name\": \"ford galaxie 500\"}, {\"mpg\": 17.0, \"cylinders\": 8, \"displacement\": 304.0, \"horsepower\": \"150.0\", \"weight\": 3672.0, \"acceleration\": 11.5, \"model_year\": 72, \"origin\": 1, \"car_name\": \"amc ambassador sst\"}, {\"mpg\": 11.0, \"cylinders\": 8, \"displacement\": 429.0, \"horsepower\": \"208.0\", \"weight\": 4633.0, \"acceleration\": 11.0, \"model_year\": 72, \"origin\": 1, \"car_name\": \"mercury marquis\"}, {\"mpg\": 13.0, \"cylinders\": 8, \"displacement\": 350.0, \"horsepower\": \"155.0\", \"weight\": 4502.0, \"acceleration\": 13.5, \"model_year\": 72, \"origin\": 1, \"car_name\": \"buick lesabre custom\"}, {\"mpg\": 12.0, \"cylinders\": 8, \"displacement\": 350.0, \"horsepower\": \"160.0\", \"weight\": 4456.0, \"acceleration\": 13.5, \"model_year\": 72, \"origin\": 1, \"car_name\": \"oldsmobile delta 88 royale\"}, {\"mpg\": 13.0, \"cylinders\": 8, \"displacement\": 400.0, \"horsepower\": \"190.0\", \"weight\": 4422.0, \"acceleration\": 12.5, \"model_year\": 72, \"origin\": 1, \"car_name\": \"chrysler newport royal\"}, {\"mpg\": 19.0, \"cylinders\": 3, \"displacement\": 70.0, \"horsepower\": \"97.00\", \"weight\": 2330.0, \"acceleration\": 13.5, \"model_year\": 72, \"origin\": 3, \"car_name\": \"mazda rx2 coupe\"}, {\"mpg\": 15.0, \"cylinders\": 8, \"displacement\": 304.0, \"horsepower\": \"150.0\", \"weight\": 3892.0, \"acceleration\": 12.5, \"model_year\": 72, \"origin\": 1, \"car_name\": \"amc matador (sw)\"}, {\"mpg\": 13.0, \"cylinders\": 8, \"displacement\": 307.0, \"horsepower\": \"130.0\", \"weight\": 4098.0, \"acceleration\": 14.0, \"model_year\": 72, \"origin\": 1, \"car_name\": \"chevrolet chevelle concours (sw)\"}, {\"mpg\": 13.0, \"cylinders\": 8, \"displacement\": 302.0, \"horsepower\": \"140.0\", \"weight\": 4294.0, \"acceleration\": 16.0, \"model_year\": 72, \"origin\": 1, \"car_name\": \"ford gran torino (sw)\"}, {\"mpg\": 14.0, \"cylinders\": 8, \"displacement\": 318.0, \"horsepower\": \"150.0\", \"weight\": 4077.0, \"acceleration\": 14.0, \"model_year\": 72, \"origin\": 1, \"car_name\": \"plymouth satellite custom (sw)\"}, {\"mpg\": 18.0, \"cylinders\": 4, \"displacement\": 121.0, \"horsepower\": \"112.0\", \"weight\": 2933.0, \"acceleration\": 14.5, \"model_year\": 72, \"origin\": 2, \"car_name\": \"volvo 145e (sw)\"}, {\"mpg\": 22.0, \"cylinders\": 4, \"displacement\": 121.0, \"horsepower\": \"76.00\", \"weight\": 2511.0, \"acceleration\": 18.0, \"model_year\": 72, \"origin\": 2, \"car_name\": \"volkswagen 411 (sw)\"}, {\"mpg\": 21.0, \"cylinders\": 4, \"displacement\": 120.0, \"horsepower\": \"87.00\", \"weight\": 2979.0, \"acceleration\": 19.5, \"model_year\": 72, \"origin\": 2, \"car_name\": \"peugeot 504 (sw)\"}, {\"mpg\": 26.0, \"cylinders\": 4, \"displacement\": 96.0, \"horsepower\": \"69.00\", \"weight\": 2189.0, \"acceleration\": 18.0, \"model_year\": 72, \"origin\": 2, \"car_name\": \"renault 12 (sw)\"}, {\"mpg\": 22.0, \"cylinders\": 4, \"displacement\": 122.0, \"horsepower\": \"86.00\", \"weight\": 2395.0, \"acceleration\": 16.0, \"model_year\": 72, \"origin\": 1, \"car_name\": \"ford pinto (sw)\"}, {\"mpg\": 28.0, \"cylinders\": 4, \"displacement\": 97.0, \"horsepower\": \"92.00\", \"weight\": 2288.0, \"acceleration\": 17.0, \"model_year\": 72, \"origin\": 3, \"car_name\": \"datsun 510 (sw)\"}, {\"mpg\": 23.0, \"cylinders\": 4, \"displacement\": 120.0, \"horsepower\": \"97.00\", \"weight\": 2506.0, \"acceleration\": 14.5, \"model_year\": 72, \"origin\": 3, \"car_name\": \"toyouta corona mark ii (sw)\"}, {\"mpg\": 28.0, \"cylinders\": 4, \"displacement\": 98.0, \"horsepower\": \"80.00\", \"weight\": 2164.0, \"acceleration\": 15.0, \"model_year\": 72, \"origin\": 1, \"car_name\": \"dodge colt (sw)\"}, {\"mpg\": 27.0, \"cylinders\": 4, \"displacement\": 97.0, \"horsepower\": \"88.00\", \"weight\": 2100.0, \"acceleration\": 16.5, \"model_year\": 72, \"origin\": 3, \"car_name\": \"toyota corolla 1600 (sw)\"}, {\"mpg\": 13.0, \"cylinders\": 8, \"displacement\": 350.0, \"horsepower\": \"175.0\", \"weight\": 4100.0, \"acceleration\": 13.0, \"model_year\": 73, \"origin\": 1, \"car_name\": \"buick century 350\"}, {\"mpg\": 14.0, \"cylinders\": 8, \"displacement\": 304.0, \"horsepower\": \"150.0\", \"weight\": 3672.0, \"acceleration\": 11.5, \"model_year\": 73, \"origin\": 1, \"car_name\": \"amc matador\"}, {\"mpg\": 13.0, \"cylinders\": 8, \"displacement\": 350.0, \"horsepower\": \"145.0\", \"weight\": 3988.0, \"acceleration\": 13.0, \"model_year\": 73, \"origin\": 1, \"car_name\": \"chevrolet malibu\"}, {\"mpg\": 14.0, \"cylinders\": 8, \"displacement\": 302.0, \"horsepower\": \"137.0\", \"weight\": 4042.0, \"acceleration\": 14.5, \"model_year\": 73, \"origin\": 1, \"car_name\": \"ford gran torino\"}, {\"mpg\": 15.0, \"cylinders\": 8, \"displacement\": 318.0, \"horsepower\": \"150.0\", \"weight\": 3777.0, \"acceleration\": 12.5, \"model_year\": 73, \"origin\": 1, \"car_name\": \"dodge coronet custom\"}, {\"mpg\": 12.0, \"cylinders\": 8, \"displacement\": 429.0, \"horsepower\": \"198.0\", \"weight\": 4952.0, \"acceleration\": 11.5, \"model_year\": 73, \"origin\": 1, \"car_name\": \"mercury marquis brougham\"}, {\"mpg\": 13.0, \"cylinders\": 8, \"displacement\": 400.0, \"horsepower\": \"150.0\", \"weight\": 4464.0, \"acceleration\": 12.0, \"model_year\": 73, \"origin\": 1, \"car_name\": \"chevrolet caprice classic\"}, {\"mpg\": 13.0, \"cylinders\": 8, \"displacement\": 351.0, \"horsepower\": \"158.0\", \"weight\": 4363.0, \"acceleration\": 13.0, \"model_year\": 73, \"origin\": 1, \"car_name\": \"ford ltd\"}, {\"mpg\": 14.0, \"cylinders\": 8, \"displacement\": 318.0, \"horsepower\": \"150.0\", \"weight\": 4237.0, \"acceleration\": 14.5, \"model_year\": 73, \"origin\": 1, \"car_name\": \"plymouth fury gran sedan\"}, {\"mpg\": 13.0, \"cylinders\": 8, \"displacement\": 440.0, \"horsepower\": \"215.0\", \"weight\": 4735.0, \"acceleration\": 11.0, \"model_year\": 73, \"origin\": 1, \"car_name\": \"chrysler new yorker brougham\"}, {\"mpg\": 12.0, \"cylinders\": 8, \"displacement\": 455.0, \"horsepower\": \"225.0\", \"weight\": 4951.0, \"acceleration\": 11.0, \"model_year\": 73, \"origin\": 1, \"car_name\": \"buick electra 225 custom\"}, {\"mpg\": 13.0, \"cylinders\": 8, \"displacement\": 360.0, \"horsepower\": \"175.0\", \"weight\": 3821.0, \"acceleration\": 11.0, \"model_year\": 73, \"origin\": 1, \"car_name\": \"amc ambassador brougham\"}, {\"mpg\": 18.0, \"cylinders\": 6, \"displacement\": 225.0, \"horsepower\": \"105.0\", \"weight\": 3121.0, \"acceleration\": 16.5, \"model_year\": 73, \"origin\": 1, \"car_name\": \"plymouth valiant\"}, {\"mpg\": 16.0, \"cylinders\": 6, \"displacement\": 250.0, \"horsepower\": \"100.0\", \"weight\": 3278.0, \"acceleration\": 18.0, \"model_year\": 73, \"origin\": 1, \"car_name\": \"chevrolet nova custom\"}, {\"mpg\": 18.0, \"cylinders\": 6, \"displacement\": 232.0, \"horsepower\": \"100.0\", \"weight\": 2945.0, \"acceleration\": 16.0, \"model_year\": 73, \"origin\": 1, \"car_name\": \"amc hornet\"}, {\"mpg\": 18.0, \"cylinders\": 6, \"displacement\": 250.0, \"horsepower\": \"88.00\", \"weight\": 3021.0, \"acceleration\": 16.5, \"model_year\": 73, \"origin\": 1, \"car_name\": \"ford maverick\"}, {\"mpg\": 23.0, \"cylinders\": 6, \"displacement\": 198.0, \"horsepower\": \"95.00\", \"weight\": 2904.0, \"acceleration\": 16.0, \"model_year\": 73, \"origin\": 1, \"car_name\": \"plymouth duster\"}, {\"mpg\": 26.0, \"cylinders\": 4, \"displacement\": 97.0, \"horsepower\": \"46.00\", \"weight\": 1950.0, \"acceleration\": 21.0, \"model_year\": 73, \"origin\": 2, \"car_name\": \"volkswagen super beetle\"}, {\"mpg\": 11.0, \"cylinders\": 8, \"displacement\": 400.0, \"horsepower\": \"150.0\", \"weight\": 4997.0, \"acceleration\": 14.0, \"model_year\": 73, \"origin\": 1, \"car_name\": \"chevrolet impala\"}, {\"mpg\": 12.0, \"cylinders\": 8, \"displacement\": 400.0, \"horsepower\": \"167.0\", \"weight\": 4906.0, \"acceleration\": 12.5, \"model_year\": 73, \"origin\": 1, \"car_name\": \"ford country\"}, {\"mpg\": 13.0, \"cylinders\": 8, \"displacement\": 360.0, \"horsepower\": \"170.0\", \"weight\": 4654.0, \"acceleration\": 13.0, \"model_year\": 73, \"origin\": 1, \"car_name\": \"plymouth custom suburb\"}, {\"mpg\": 12.0, \"cylinders\": 8, \"displacement\": 350.0, \"horsepower\": \"180.0\", \"weight\": 4499.0, \"acceleration\": 12.5, \"model_year\": 73, \"origin\": 1, \"car_name\": \"oldsmobile vista cruiser\"}, {\"mpg\": 18.0, \"cylinders\": 6, \"displacement\": 232.0, \"horsepower\": \"100.0\", \"weight\": 2789.0, \"acceleration\": 15.0, \"model_year\": 73, \"origin\": 1, \"car_name\": \"amc gremlin\"}, {\"mpg\": 20.0, \"cylinders\": 4, \"displacement\": 97.0, \"horsepower\": \"88.00\", \"weight\": 2279.0, \"acceleration\": 19.0, \"model_year\": 73, \"origin\": 3, \"car_name\": \"toyota carina\"}, {\"mpg\": 21.0, \"cylinders\": 4, \"displacement\": 140.0, \"horsepower\": \"72.00\", \"weight\": 2401.0, \"acceleration\": 19.5, \"model_year\": 73, \"origin\": 1, \"car_name\": \"chevrolet vega\"}, {\"mpg\": 22.0, \"cylinders\": 4, \"displacement\": 108.0, \"horsepower\": \"94.00\", \"weight\": 2379.0, \"acceleration\": 16.5, \"model_year\": 73, \"origin\": 3, \"car_name\": \"datsun 610\"}, {\"mpg\": 18.0, \"cylinders\": 3, \"displacement\": 70.0, \"horsepower\": \"90.00\", \"weight\": 2124.0, \"acceleration\": 13.5, \"model_year\": 73, \"origin\": 3, \"car_name\": \"maxda rx3\"}, {\"mpg\": 19.0, \"cylinders\": 4, \"displacement\": 122.0, \"horsepower\": \"85.00\", \"weight\": 2310.0, \"acceleration\": 18.5, \"model_year\": 73, \"origin\": 1, \"car_name\": \"ford pinto\"}, {\"mpg\": 21.0, \"cylinders\": 6, \"displacement\": 155.0, \"horsepower\": \"107.0\", \"weight\": 2472.0, \"acceleration\": 14.0, \"model_year\": 73, \"origin\": 1, \"car_name\": \"mercury capri v6\"}, {\"mpg\": 26.0, \"cylinders\": 4, \"displacement\": 98.0, \"horsepower\": \"90.00\", \"weight\": 2265.0, \"acceleration\": 15.5, \"model_year\": 73, \"origin\": 2, \"car_name\": \"fiat 124 sport coupe\"}, {\"mpg\": 15.0, \"cylinders\": 8, \"displacement\": 350.0, \"horsepower\": \"145.0\", \"weight\": 4082.0, \"acceleration\": 13.0, \"model_year\": 73, \"origin\": 1, \"car_name\": \"chevrolet monte carlo s\"}, {\"mpg\": 16.0, \"cylinders\": 8, \"displacement\": 400.0, \"horsepower\": \"230.0\", \"weight\": 4278.0, \"acceleration\": 9.5, \"model_year\": 73, \"origin\": 1, \"car_name\": \"pontiac grand prix\"}, {\"mpg\": 29.0, \"cylinders\": 4, \"displacement\": 68.0, \"horsepower\": \"49.00\", \"weight\": 1867.0, \"acceleration\": 19.5, \"model_year\": 73, \"origin\": 2, \"car_name\": \"fiat 128\"}, {\"mpg\": 24.0, \"cylinders\": 4, \"displacement\": 116.0, \"horsepower\": \"75.00\", \"weight\": 2158.0, \"acceleration\": 15.5, \"model_year\": 73, \"origin\": 2, \"car_name\": \"opel manta\"}, {\"mpg\": 20.0, \"cylinders\": 4, \"displacement\": 114.0, \"horsepower\": \"91.00\", \"weight\": 2582.0, \"acceleration\": 14.0, \"model_year\": 73, \"origin\": 2, \"car_name\": \"audi 100ls\"}, {\"mpg\": 19.0, \"cylinders\": 4, \"displacement\": 121.0, \"horsepower\": \"112.0\", \"weight\": 2868.0, \"acceleration\": 15.5, \"model_year\": 73, \"origin\": 2, \"car_name\": \"volvo 144ea\"}, {\"mpg\": 15.0, \"cylinders\": 8, \"displacement\": 318.0, \"horsepower\": \"150.0\", \"weight\": 3399.0, \"acceleration\": 11.0, \"model_year\": 73, \"origin\": 1, \"car_name\": \"dodge dart custom\"}, {\"mpg\": 24.0, \"cylinders\": 4, \"displacement\": 121.0, \"horsepower\": \"110.0\", \"weight\": 2660.0, \"acceleration\": 14.0, \"model_year\": 73, \"origin\": 2, \"car_name\": \"saab 99le\"}, {\"mpg\": 20.0, \"cylinders\": 6, \"displacement\": 156.0, \"horsepower\": \"122.0\", \"weight\": 2807.0, \"acceleration\": 13.5, \"model_year\": 73, \"origin\": 3, \"car_name\": \"toyota mark ii\"}, {\"mpg\": 11.0, \"cylinders\": 8, \"displacement\": 350.0, \"horsepower\": \"180.0\", \"weight\": 3664.0, \"acceleration\": 11.0, \"model_year\": 73, \"origin\": 1, \"car_name\": \"oldsmobile omega\"}, {\"mpg\": 20.0, \"cylinders\": 6, \"displacement\": 198.0, \"horsepower\": \"95.00\", \"weight\": 3102.0, \"acceleration\": 16.5, \"model_year\": 74, \"origin\": 1, \"car_name\": \"plymouth duster\"}, {\"mpg\": 19.0, \"cylinders\": 6, \"displacement\": 232.0, \"horsepower\": \"100.0\", \"weight\": 2901.0, \"acceleration\": 16.0, \"model_year\": 74, \"origin\": 1, \"car_name\": \"amc hornet\"}, {\"mpg\": 15.0, \"cylinders\": 6, \"displacement\": 250.0, \"horsepower\": \"100.0\", \"weight\": 3336.0, \"acceleration\": 17.0, \"model_year\": 74, \"origin\": 1, \"car_name\": \"chevrolet nova\"}, {\"mpg\": 31.0, \"cylinders\": 4, \"displacement\": 79.0, \"horsepower\": \"67.00\", \"weight\": 1950.0, \"acceleration\": 19.0, \"model_year\": 74, \"origin\": 3, \"car_name\": \"datsun b210\"}, {\"mpg\": 26.0, \"cylinders\": 4, \"displacement\": 122.0, \"horsepower\": \"80.00\", \"weight\": 2451.0, \"acceleration\": 16.5, \"model_year\": 74, \"origin\": 1, \"car_name\": \"ford pinto\"}, {\"mpg\": 32.0, \"cylinders\": 4, \"displacement\": 71.0, \"horsepower\": \"65.00\", \"weight\": 1836.0, \"acceleration\": 21.0, \"model_year\": 74, \"origin\": 3, \"car_name\": \"toyota corolla 1200\"}, {\"mpg\": 25.0, \"cylinders\": 4, \"displacement\": 140.0, \"horsepower\": \"75.00\", \"weight\": 2542.0, \"acceleration\": 17.0, \"model_year\": 74, \"origin\": 1, \"car_name\": \"chevrolet vega\"}, {\"mpg\": 16.0, \"cylinders\": 6, \"displacement\": 250.0, \"horsepower\": \"100.0\", \"weight\": 3781.0, \"acceleration\": 17.0, \"model_year\": 74, \"origin\": 1, \"car_name\": \"chevrolet chevelle malibu classic\"}, {\"mpg\": 16.0, \"cylinders\": 6, \"displacement\": 258.0, \"horsepower\": \"110.0\", \"weight\": 3632.0, \"acceleration\": 18.0, \"model_year\": 74, \"origin\": 1, \"car_name\": \"amc matador\"}, {\"mpg\": 18.0, \"cylinders\": 6, \"displacement\": 225.0, \"horsepower\": \"105.0\", \"weight\": 3613.0, \"acceleration\": 16.5, \"model_year\": 74, \"origin\": 1, \"car_name\": \"plymouth satellite sebring\"}, {\"mpg\": 16.0, \"cylinders\": 8, \"displacement\": 302.0, \"horsepower\": \"140.0\", \"weight\": 4141.0, \"acceleration\": 14.0, \"model_year\": 74, \"origin\": 1, \"car_name\": \"ford gran torino\"}, {\"mpg\": 13.0, \"cylinders\": 8, \"displacement\": 350.0, \"horsepower\": \"150.0\", \"weight\": 4699.0, \"acceleration\": 14.5, \"model_year\": 74, \"origin\": 1, \"car_name\": \"buick century luxus (sw)\"}, {\"mpg\": 14.0, \"cylinders\": 8, \"displacement\": 318.0, \"horsepower\": \"150.0\", \"weight\": 4457.0, \"acceleration\": 13.5, \"model_year\": 74, \"origin\": 1, \"car_name\": \"dodge coronet custom (sw)\"}, {\"mpg\": 14.0, \"cylinders\": 8, \"displacement\": 302.0, \"horsepower\": \"140.0\", \"weight\": 4638.0, \"acceleration\": 16.0, \"model_year\": 74, \"origin\": 1, \"car_name\": \"ford gran torino (sw)\"}, {\"mpg\": 14.0, \"cylinders\": 8, \"displacement\": 304.0, \"horsepower\": \"150.0\", \"weight\": 4257.0, \"acceleration\": 15.5, \"model_year\": 74, \"origin\": 1, \"car_name\": \"amc matador (sw)\"}, {\"mpg\": 29.0, \"cylinders\": 4, \"displacement\": 98.0, \"horsepower\": \"83.00\", \"weight\": 2219.0, \"acceleration\": 16.5, \"model_year\": 74, \"origin\": 2, \"car_name\": \"audi fox\"}, {\"mpg\": 26.0, \"cylinders\": 4, \"displacement\": 79.0, \"horsepower\": \"67.00\", \"weight\": 1963.0, \"acceleration\": 15.5, \"model_year\": 74, \"origin\": 2, \"car_name\": \"volkswagen dasher\"}, {\"mpg\": 26.0, \"cylinders\": 4, \"displacement\": 97.0, \"horsepower\": \"78.00\", \"weight\": 2300.0, \"acceleration\": 14.5, \"model_year\": 74, \"origin\": 2, \"car_name\": \"opel manta\"}, {\"mpg\": 31.0, \"cylinders\": 4, \"displacement\": 76.0, \"horsepower\": \"52.00\", \"weight\": 1649.0, \"acceleration\": 16.5, \"model_year\": 74, \"origin\": 3, \"car_name\": \"toyota corona\"}, {\"mpg\": 32.0, \"cylinders\": 4, \"displacement\": 83.0, \"horsepower\": \"61.00\", \"weight\": 2003.0, \"acceleration\": 19.0, \"model_year\": 74, \"origin\": 3, \"car_name\": \"datsun 710\"}, {\"mpg\": 28.0, \"cylinders\": 4, \"displacement\": 90.0, \"horsepower\": \"75.00\", \"weight\": 2125.0, \"acceleration\": 14.5, \"model_year\": 74, \"origin\": 1, \"car_name\": \"dodge colt\"}, {\"mpg\": 24.0, \"cylinders\": 4, \"displacement\": 90.0, \"horsepower\": \"75.00\", \"weight\": 2108.0, \"acceleration\": 15.5, \"model_year\": 74, \"origin\": 2, \"car_name\": \"fiat 128\"}, {\"mpg\": 26.0, \"cylinders\": 4, \"displacement\": 116.0, \"horsepower\": \"75.00\", \"weight\": 2246.0, \"acceleration\": 14.0, \"model_year\": 74, \"origin\": 2, \"car_name\": \"fiat 124 tc\"}, {\"mpg\": 24.0, \"cylinders\": 4, \"displacement\": 120.0, \"horsepower\": \"97.00\", \"weight\": 2489.0, \"acceleration\": 15.0, \"model_year\": 74, \"origin\": 3, \"car_name\": \"honda civic\"}, {\"mpg\": 26.0, \"cylinders\": 4, \"displacement\": 108.0, \"horsepower\": \"93.00\", \"weight\": 2391.0, \"acceleration\": 15.5, \"model_year\": 74, \"origin\": 3, \"car_name\": \"subaru\"}, {\"mpg\": 31.0, \"cylinders\": 4, \"displacement\": 79.0, \"horsepower\": \"67.00\", \"weight\": 2000.0, \"acceleration\": 16.0, \"model_year\": 74, \"origin\": 2, \"car_name\": \"fiat x1.9\"}, {\"mpg\": 19.0, \"cylinders\": 6, \"displacement\": 225.0, \"horsepower\": \"95.00\", \"weight\": 3264.0, \"acceleration\": 16.0, \"model_year\": 75, \"origin\": 1, \"car_name\": \"plymouth valiant custom\"}, {\"mpg\": 18.0, \"cylinders\": 6, \"displacement\": 250.0, \"horsepower\": \"105.0\", \"weight\": 3459.0, \"acceleration\": 16.0, \"model_year\": 75, \"origin\": 1, \"car_name\": \"chevrolet nova\"}, {\"mpg\": 15.0, \"cylinders\": 6, \"displacement\": 250.0, \"horsepower\": \"72.00\", \"weight\": 3432.0, \"acceleration\": 21.0, \"model_year\": 75, \"origin\": 1, \"car_name\": \"mercury monarch\"}, {\"mpg\": 15.0, \"cylinders\": 6, \"displacement\": 250.0, \"horsepower\": \"72.00\", \"weight\": 3158.0, \"acceleration\": 19.5, \"model_year\": 75, \"origin\": 1, \"car_name\": \"ford maverick\"}, {\"mpg\": 16.0, \"cylinders\": 8, \"displacement\": 400.0, \"horsepower\": \"170.0\", \"weight\": 4668.0, \"acceleration\": 11.5, \"model_year\": 75, \"origin\": 1, \"car_name\": \"pontiac catalina\"}, {\"mpg\": 15.0, \"cylinders\": 8, \"displacement\": 350.0, \"horsepower\": \"145.0\", \"weight\": 4440.0, \"acceleration\": 14.0, \"model_year\": 75, \"origin\": 1, \"car_name\": \"chevrolet bel air\"}, {\"mpg\": 16.0, \"cylinders\": 8, \"displacement\": 318.0, \"horsepower\": \"150.0\", \"weight\": 4498.0, \"acceleration\": 14.5, \"model_year\": 75, \"origin\": 1, \"car_name\": \"plymouth grand fury\"}, {\"mpg\": 14.0, \"cylinders\": 8, \"displacement\": 351.0, \"horsepower\": \"148.0\", \"weight\": 4657.0, \"acceleration\": 13.5, \"model_year\": 75, \"origin\": 1, \"car_name\": \"ford ltd\"}, {\"mpg\": 17.0, \"cylinders\": 6, \"displacement\": 231.0, \"horsepower\": \"110.0\", \"weight\": 3907.0, \"acceleration\": 21.0, \"model_year\": 75, \"origin\": 1, \"car_name\": \"buick century\"}, {\"mpg\": 16.0, \"cylinders\": 6, \"displacement\": 250.0, \"horsepower\": \"105.0\", \"weight\": 3897.0, \"acceleration\": 18.5, \"model_year\": 75, \"origin\": 1, \"car_name\": \"chevroelt chevelle malibu\"}, {\"mpg\": 15.0, \"cylinders\": 6, \"displacement\": 258.0, \"horsepower\": \"110.0\", \"weight\": 3730.0, \"acceleration\": 19.0, \"model_year\": 75, \"origin\": 1, \"car_name\": \"amc matador\"}, {\"mpg\": 18.0, \"cylinders\": 6, \"displacement\": 225.0, \"horsepower\": \"95.00\", \"weight\": 3785.0, \"acceleration\": 19.0, \"model_year\": 75, \"origin\": 1, \"car_name\": \"plymouth fury\"}, {\"mpg\": 21.0, \"cylinders\": 6, \"displacement\": 231.0, \"horsepower\": \"110.0\", \"weight\": 3039.0, \"acceleration\": 15.0, \"model_year\": 75, \"origin\": 1, \"car_name\": \"buick skyhawk\"}, {\"mpg\": 20.0, \"cylinders\": 8, \"displacement\": 262.0, \"horsepower\": \"110.0\", \"weight\": 3221.0, \"acceleration\": 13.5, \"model_year\": 75, \"origin\": 1, \"car_name\": \"chevrolet monza 2+2\"}, {\"mpg\": 13.0, \"cylinders\": 8, \"displacement\": 302.0, \"horsepower\": \"129.0\", \"weight\": 3169.0, \"acceleration\": 12.0, \"model_year\": 75, \"origin\": 1, \"car_name\": \"ford mustang ii\"}, {\"mpg\": 29.0, \"cylinders\": 4, \"displacement\": 97.0, \"horsepower\": \"75.00\", \"weight\": 2171.0, \"acceleration\": 16.0, \"model_year\": 75, \"origin\": 3, \"car_name\": \"toyota corolla\"}, {\"mpg\": 23.0, \"cylinders\": 4, \"displacement\": 140.0, \"horsepower\": \"83.00\", \"weight\": 2639.0, \"acceleration\": 17.0, \"model_year\": 75, \"origin\": 1, \"car_name\": \"ford pinto\"}, {\"mpg\": 20.0, \"cylinders\": 6, \"displacement\": 232.0, \"horsepower\": \"100.0\", \"weight\": 2914.0, \"acceleration\": 16.0, \"model_year\": 75, \"origin\": 1, \"car_name\": \"amc gremlin\"}, {\"mpg\": 23.0, \"cylinders\": 4, \"displacement\": 140.0, \"horsepower\": \"78.00\", \"weight\": 2592.0, \"acceleration\": 18.5, \"model_year\": 75, \"origin\": 1, \"car_name\": \"pontiac astro\"}, {\"mpg\": 24.0, \"cylinders\": 4, \"displacement\": 134.0, \"horsepower\": \"96.00\", \"weight\": 2702.0, \"acceleration\": 13.5, \"model_year\": 75, \"origin\": 3, \"car_name\": \"toyota corona\"}, {\"mpg\": 25.0, \"cylinders\": 4, \"displacement\": 90.0, \"horsepower\": \"71.00\", \"weight\": 2223.0, \"acceleration\": 16.5, \"model_year\": 75, \"origin\": 2, \"car_name\": \"volkswagen dasher\"}, {\"mpg\": 24.0, \"cylinders\": 4, \"displacement\": 119.0, \"horsepower\": \"97.00\", \"weight\": 2545.0, \"acceleration\": 17.0, \"model_year\": 75, \"origin\": 3, \"car_name\": \"datsun 710\"}, {\"mpg\": 18.0, \"cylinders\": 6, \"displacement\": 171.0, \"horsepower\": \"97.00\", \"weight\": 2984.0, \"acceleration\": 14.5, \"model_year\": 75, \"origin\": 1, \"car_name\": \"ford pinto\"}, {\"mpg\": 29.0, \"cylinders\": 4, \"displacement\": 90.0, \"horsepower\": \"70.00\", \"weight\": 1937.0, \"acceleration\": 14.0, \"model_year\": 75, \"origin\": 2, \"car_name\": \"volkswagen rabbit\"}, {\"mpg\": 19.0, \"cylinders\": 6, \"displacement\": 232.0, \"horsepower\": \"90.00\", \"weight\": 3211.0, \"acceleration\": 17.0, \"model_year\": 75, \"origin\": 1, \"car_name\": \"amc pacer\"}, {\"mpg\": 23.0, \"cylinders\": 4, \"displacement\": 115.0, \"horsepower\": \"95.00\", \"weight\": 2694.0, \"acceleration\": 15.0, \"model_year\": 75, \"origin\": 2, \"car_name\": \"audi 100ls\"}, {\"mpg\": 23.0, \"cylinders\": 4, \"displacement\": 120.0, \"horsepower\": \"88.00\", \"weight\": 2957.0, \"acceleration\": 17.0, \"model_year\": 75, \"origin\": 2, \"car_name\": \"peugeot 504\"}, {\"mpg\": 22.0, \"cylinders\": 4, \"displacement\": 121.0, \"horsepower\": \"98.00\", \"weight\": 2945.0, \"acceleration\": 14.5, \"model_year\": 75, \"origin\": 2, \"car_name\": \"volvo 244dl\"}, {\"mpg\": 25.0, \"cylinders\": 4, \"displacement\": 121.0, \"horsepower\": \"115.0\", \"weight\": 2671.0, \"acceleration\": 13.5, \"model_year\": 75, \"origin\": 2, \"car_name\": \"saab 99le\"}, {\"mpg\": 33.0, \"cylinders\": 4, \"displacement\": 91.0, \"horsepower\": \"53.00\", \"weight\": 1795.0, \"acceleration\": 17.5, \"model_year\": 75, \"origin\": 3, \"car_name\": \"honda civic cvcc\"}, {\"mpg\": 28.0, \"cylinders\": 4, \"displacement\": 107.0, \"horsepower\": \"86.00\", \"weight\": 2464.0, \"acceleration\": 15.5, \"model_year\": 76, \"origin\": 2, \"car_name\": \"fiat 131\"}, {\"mpg\": 25.0, \"cylinders\": 4, \"displacement\": 116.0, \"horsepower\": \"81.00\", \"weight\": 2220.0, \"acceleration\": 16.9, \"model_year\": 76, \"origin\": 2, \"car_name\": \"opel 1900\"}, {\"mpg\": 25.0, \"cylinders\": 4, \"displacement\": 140.0, \"horsepower\": \"92.00\", \"weight\": 2572.0, \"acceleration\": 14.9, \"model_year\": 76, \"origin\": 1, \"car_name\": \"capri ii\"}, {\"mpg\": 26.0, \"cylinders\": 4, \"displacement\": 98.0, \"horsepower\": \"79.00\", \"weight\": 2255.0, \"acceleration\": 17.7, \"model_year\": 76, \"origin\": 1, \"car_name\": \"dodge colt\"}, {\"mpg\": 27.0, \"cylinders\": 4, \"displacement\": 101.0, \"horsepower\": \"83.00\", \"weight\": 2202.0, \"acceleration\": 15.3, \"model_year\": 76, \"origin\": 2, \"car_name\": \"renault 12tl\"}, {\"mpg\": 17.5, \"cylinders\": 8, \"displacement\": 305.0, \"horsepower\": \"140.0\", \"weight\": 4215.0, \"acceleration\": 13.0, \"model_year\": 76, \"origin\": 1, \"car_name\": \"chevrolet chevelle malibu classic\"}, {\"mpg\": 16.0, \"cylinders\": 8, \"displacement\": 318.0, \"horsepower\": \"150.0\", \"weight\": 4190.0, \"acceleration\": 13.0, \"model_year\": 76, \"origin\": 1, \"car_name\": \"dodge coronet brougham\"}, {\"mpg\": 15.5, \"cylinders\": 8, \"displacement\": 304.0, \"horsepower\": \"120.0\", \"weight\": 3962.0, \"acceleration\": 13.9, \"model_year\": 76, \"origin\": 1, \"car_name\": \"amc matador\"}, {\"mpg\": 14.5, \"cylinders\": 8, \"displacement\": 351.0, \"horsepower\": \"152.0\", \"weight\": 4215.0, \"acceleration\": 12.8, \"model_year\": 76, \"origin\": 1, \"car_name\": \"ford gran torino\"}, {\"mpg\": 22.0, \"cylinders\": 6, \"displacement\": 225.0, \"horsepower\": \"100.0\", \"weight\": 3233.0, \"acceleration\": 15.4, \"model_year\": 76, \"origin\": 1, \"car_name\": \"plymouth valiant\"}, {\"mpg\": 22.0, \"cylinders\": 6, \"displacement\": 250.0, \"horsepower\": \"105.0\", \"weight\": 3353.0, \"acceleration\": 14.5, \"model_year\": 76, \"origin\": 1, \"car_name\": \"chevrolet nova\"}, {\"mpg\": 24.0, \"cylinders\": 6, \"displacement\": 200.0, \"horsepower\": \"81.00\", \"weight\": 3012.0, \"acceleration\": 17.6, \"model_year\": 76, \"origin\": 1, \"car_name\": \"ford maverick\"}, {\"mpg\": 22.5, \"cylinders\": 6, \"displacement\": 232.0, \"horsepower\": \"90.00\", \"weight\": 3085.0, \"acceleration\": 17.6, \"model_year\": 76, \"origin\": 1, \"car_name\": \"amc hornet\"}, {\"mpg\": 29.0, \"cylinders\": 4, \"displacement\": 85.0, \"horsepower\": \"52.00\", \"weight\": 2035.0, \"acceleration\": 22.2, \"model_year\": 76, \"origin\": 1, \"car_name\": \"chevrolet chevette\"}, {\"mpg\": 24.5, \"cylinders\": 4, \"displacement\": 98.0, \"horsepower\": \"60.00\", \"weight\": 2164.0, \"acceleration\": 22.1, \"model_year\": 76, \"origin\": 1, \"car_name\": \"chevrolet woody\"}, {\"mpg\": 29.0, \"cylinders\": 4, \"displacement\": 90.0, \"horsepower\": \"70.00\", \"weight\": 1937.0, \"acceleration\": 14.2, \"model_year\": 76, \"origin\": 2, \"car_name\": \"vw rabbit\"}, {\"mpg\": 33.0, \"cylinders\": 4, \"displacement\": 91.0, \"horsepower\": \"53.00\", \"weight\": 1795.0, \"acceleration\": 17.4, \"model_year\": 76, \"origin\": 3, \"car_name\": \"honda civic\"}, {\"mpg\": 20.0, \"cylinders\": 6, \"displacement\": 225.0, \"horsepower\": \"100.0\", \"weight\": 3651.0, \"acceleration\": 17.7, \"model_year\": 76, \"origin\": 1, \"car_name\": \"dodge aspen se\"}, {\"mpg\": 18.0, \"cylinders\": 6, \"displacement\": 250.0, \"horsepower\": \"78.00\", \"weight\": 3574.0, \"acceleration\": 21.0, \"model_year\": 76, \"origin\": 1, \"car_name\": \"ford granada ghia\"}, {\"mpg\": 18.5, \"cylinders\": 6, \"displacement\": 250.0, \"horsepower\": \"110.0\", \"weight\": 3645.0, \"acceleration\": 16.2, \"model_year\": 76, \"origin\": 1, \"car_name\": \"pontiac ventura sj\"}, {\"mpg\": 17.5, \"cylinders\": 6, \"displacement\": 258.0, \"horsepower\": \"95.00\", \"weight\": 3193.0, \"acceleration\": 17.8, \"model_year\": 76, \"origin\": 1, \"car_name\": \"amc pacer d/l\"}, {\"mpg\": 29.5, \"cylinders\": 4, \"displacement\": 97.0, \"horsepower\": \"71.00\", \"weight\": 1825.0, \"acceleration\": 12.2, \"model_year\": 76, \"origin\": 2, \"car_name\": \"volkswagen rabbit\"}, {\"mpg\": 32.0, \"cylinders\": 4, \"displacement\": 85.0, \"horsepower\": \"70.00\", \"weight\": 1990.0, \"acceleration\": 17.0, \"model_year\": 76, \"origin\": 3, \"car_name\": \"datsun b-210\"}, {\"mpg\": 28.0, \"cylinders\": 4, \"displacement\": 97.0, \"horsepower\": \"75.00\", \"weight\": 2155.0, \"acceleration\": 16.4, \"model_year\": 76, \"origin\": 3, \"car_name\": \"toyota corolla\"}, {\"mpg\": 26.5, \"cylinders\": 4, \"displacement\": 140.0, \"horsepower\": \"72.00\", \"weight\": 2565.0, \"acceleration\": 13.6, \"model_year\": 76, \"origin\": 1, \"car_name\": \"ford pinto\"}, {\"mpg\": 20.0, \"cylinders\": 4, \"displacement\": 130.0, \"horsepower\": \"102.0\", \"weight\": 3150.0, \"acceleration\": 15.7, \"model_year\": 76, \"origin\": 2, \"car_name\": \"volvo 245\"}, {\"mpg\": 13.0, \"cylinders\": 8, \"displacement\": 318.0, \"horsepower\": \"150.0\", \"weight\": 3940.0, \"acceleration\": 13.2, \"model_year\": 76, \"origin\": 1, \"car_name\": \"plymouth volare premier v8\"}, {\"mpg\": 19.0, \"cylinders\": 4, \"displacement\": 120.0, \"horsepower\": \"88.00\", \"weight\": 3270.0, \"acceleration\": 21.9, \"model_year\": 76, \"origin\": 2, \"car_name\": \"peugeot 504\"}, {\"mpg\": 19.0, \"cylinders\": 6, \"displacement\": 156.0, \"horsepower\": \"108.0\", \"weight\": 2930.0, \"acceleration\": 15.5, \"model_year\": 76, \"origin\": 3, \"car_name\": \"toyota mark ii\"}, {\"mpg\": 16.5, \"cylinders\": 6, \"displacement\": 168.0, \"horsepower\": \"120.0\", \"weight\": 3820.0, \"acceleration\": 16.7, \"model_year\": 76, \"origin\": 2, \"car_name\": \"mercedes-benz 280s\"}, {\"mpg\": 16.5, \"cylinders\": 8, \"displacement\": 350.0, \"horsepower\": \"180.0\", \"weight\": 4380.0, \"acceleration\": 12.1, \"model_year\": 76, \"origin\": 1, \"car_name\": \"cadillac seville\"}, {\"mpg\": 13.0, \"cylinders\": 8, \"displacement\": 350.0, \"horsepower\": \"145.0\", \"weight\": 4055.0, \"acceleration\": 12.0, \"model_year\": 76, \"origin\": 1, \"car_name\": \"chevy c10\"}, {\"mpg\": 13.0, \"cylinders\": 8, \"displacement\": 302.0, \"horsepower\": \"130.0\", \"weight\": 3870.0, \"acceleration\": 15.0, \"model_year\": 76, \"origin\": 1, \"car_name\": \"ford f108\"}, {\"mpg\": 13.0, \"cylinders\": 8, \"displacement\": 318.0, \"horsepower\": \"150.0\", \"weight\": 3755.0, \"acceleration\": 14.0, \"model_year\": 76, \"origin\": 1, \"car_name\": \"dodge d100\"}, {\"mpg\": 31.5, \"cylinders\": 4, \"displacement\": 98.0, \"horsepower\": \"68.00\", \"weight\": 2045.0, \"acceleration\": 18.5, \"model_year\": 77, \"origin\": 3, \"car_name\": \"honda accord cvcc\"}, {\"mpg\": 30.0, \"cylinders\": 4, \"displacement\": 111.0, \"horsepower\": \"80.00\", \"weight\": 2155.0, \"acceleration\": 14.8, \"model_year\": 77, \"origin\": 1, \"car_name\": \"buick opel isuzu deluxe\"}, {\"mpg\": 36.0, \"cylinders\": 4, \"displacement\": 79.0, \"horsepower\": \"58.00\", \"weight\": 1825.0, \"acceleration\": 18.6, \"model_year\": 77, \"origin\": 2, \"car_name\": \"renault 5 gtl\"}, {\"mpg\": 25.5, \"cylinders\": 4, \"displacement\": 122.0, \"horsepower\": \"96.00\", \"weight\": 2300.0, \"acceleration\": 15.5, \"model_year\": 77, \"origin\": 1, \"car_name\": \"plymouth arrow gs\"}, {\"mpg\": 33.5, \"cylinders\": 4, \"displacement\": 85.0, \"horsepower\": \"70.00\", \"weight\": 1945.0, \"acceleration\": 16.8, \"model_year\": 77, \"origin\": 3, \"car_name\": \"datsun f-10 hatchback\"}, {\"mpg\": 17.5, \"cylinders\": 8, \"displacement\": 305.0, \"horsepower\": \"145.0\", \"weight\": 3880.0, \"acceleration\": 12.5, \"model_year\": 77, \"origin\": 1, \"car_name\": \"chevrolet caprice classic\"}, {\"mpg\": 17.0, \"cylinders\": 8, \"displacement\": 260.0, \"horsepower\": \"110.0\", \"weight\": 4060.0, \"acceleration\": 19.0, \"model_year\": 77, \"origin\": 1, \"car_name\": \"oldsmobile cutlass supreme\"}, {\"mpg\": 15.5, \"cylinders\": 8, \"displacement\": 318.0, \"horsepower\": \"145.0\", \"weight\": 4140.0, \"acceleration\": 13.7, \"model_year\": 77, \"origin\": 1, \"car_name\": \"dodge monaco brougham\"}, {\"mpg\": 15.0, \"cylinders\": 8, \"displacement\": 302.0, \"horsepower\": \"130.0\", \"weight\": 4295.0, \"acceleration\": 14.9, \"model_year\": 77, \"origin\": 1, \"car_name\": \"mercury cougar brougham\"}, {\"mpg\": 17.5, \"cylinders\": 6, \"displacement\": 250.0, \"horsepower\": \"110.0\", \"weight\": 3520.0, \"acceleration\": 16.4, \"model_year\": 77, \"origin\": 1, \"car_name\": \"chevrolet concours\"}, {\"mpg\": 20.5, \"cylinders\": 6, \"displacement\": 231.0, \"horsepower\": \"105.0\", \"weight\": 3425.0, \"acceleration\": 16.9, \"model_year\": 77, \"origin\": 1, \"car_name\": \"buick skylark\"}, {\"mpg\": 19.0, \"cylinders\": 6, \"displacement\": 225.0, \"horsepower\": \"100.0\", \"weight\": 3630.0, \"acceleration\": 17.7, \"model_year\": 77, \"origin\": 1, \"car_name\": \"plymouth volare custom\"}, {\"mpg\": 18.5, \"cylinders\": 6, \"displacement\": 250.0, \"horsepower\": \"98.00\", \"weight\": 3525.0, \"acceleration\": 19.0, \"model_year\": 77, \"origin\": 1, \"car_name\": \"ford granada\"}, {\"mpg\": 16.0, \"cylinders\": 8, \"displacement\": 400.0, \"horsepower\": \"180.0\", \"weight\": 4220.0, \"acceleration\": 11.1, \"model_year\": 77, \"origin\": 1, \"car_name\": \"pontiac grand prix lj\"}, {\"mpg\": 15.5, \"cylinders\": 8, \"displacement\": 350.0, \"horsepower\": \"170.0\", \"weight\": 4165.0, \"acceleration\": 11.4, \"model_year\": 77, \"origin\": 1, \"car_name\": \"chevrolet monte carlo landau\"}, {\"mpg\": 15.5, \"cylinders\": 8, \"displacement\": 400.0, \"horsepower\": \"190.0\", \"weight\": 4325.0, \"acceleration\": 12.2, \"model_year\": 77, \"origin\": 1, \"car_name\": \"chrysler cordoba\"}, {\"mpg\": 16.0, \"cylinders\": 8, \"displacement\": 351.0, \"horsepower\": \"149.0\", \"weight\": 4335.0, \"acceleration\": 14.5, \"model_year\": 77, \"origin\": 1, \"car_name\": \"ford thunderbird\"}, {\"mpg\": 29.0, \"cylinders\": 4, \"displacement\": 97.0, \"horsepower\": \"78.00\", \"weight\": 1940.0, \"acceleration\": 14.5, \"model_year\": 77, \"origin\": 2, \"car_name\": \"volkswagen rabbit custom\"}, {\"mpg\": 24.5, \"cylinders\": 4, \"displacement\": 151.0, \"horsepower\": \"88.00\", \"weight\": 2740.0, \"acceleration\": 16.0, \"model_year\": 77, \"origin\": 1, \"car_name\": \"pontiac sunbird coupe\"}, {\"mpg\": 26.0, \"cylinders\": 4, \"displacement\": 97.0, \"horsepower\": \"75.00\", \"weight\": 2265.0, \"acceleration\": 18.2, \"model_year\": 77, \"origin\": 3, \"car_name\": \"toyota corolla liftback\"}, {\"mpg\": 25.5, \"cylinders\": 4, \"displacement\": 140.0, \"horsepower\": \"89.00\", \"weight\": 2755.0, \"acceleration\": 15.8, \"model_year\": 77, \"origin\": 1, \"car_name\": \"ford mustang ii 2+2\"}, {\"mpg\": 30.5, \"cylinders\": 4, \"displacement\": 98.0, \"horsepower\": \"63.00\", \"weight\": 2051.0, \"acceleration\": 17.0, \"model_year\": 77, \"origin\": 1, \"car_name\": \"chevrolet chevette\"}, {\"mpg\": 33.5, \"cylinders\": 4, \"displacement\": 98.0, \"horsepower\": \"83.00\", \"weight\": 2075.0, \"acceleration\": 15.9, \"model_year\": 77, \"origin\": 1, \"car_name\": \"dodge colt m/m\"}, {\"mpg\": 30.0, \"cylinders\": 4, \"displacement\": 97.0, \"horsepower\": \"67.00\", \"weight\": 1985.0, \"acceleration\": 16.4, \"model_year\": 77, \"origin\": 3, \"car_name\": \"subaru dl\"}, {\"mpg\": 30.5, \"cylinders\": 4, \"displacement\": 97.0, \"horsepower\": \"78.00\", \"weight\": 2190.0, \"acceleration\": 14.1, \"model_year\": 77, \"origin\": 2, \"car_name\": \"volkswagen dasher\"}, {\"mpg\": 22.0, \"cylinders\": 6, \"displacement\": 146.0, \"horsepower\": \"97.00\", \"weight\": 2815.0, \"acceleration\": 14.5, \"model_year\": 77, \"origin\": 3, \"car_name\": \"datsun 810\"}, {\"mpg\": 21.5, \"cylinders\": 4, \"displacement\": 121.0, \"horsepower\": \"110.0\", \"weight\": 2600.0, \"acceleration\": 12.8, \"model_year\": 77, \"origin\": 2, \"car_name\": \"bmw 320i\"}, {\"mpg\": 21.5, \"cylinders\": 3, \"displacement\": 80.0, \"horsepower\": \"110.0\", \"weight\": 2720.0, \"acceleration\": 13.5, \"model_year\": 77, \"origin\": 3, \"car_name\": \"mazda rx-4\"}, {\"mpg\": 43.1, \"cylinders\": 4, \"displacement\": 90.0, \"horsepower\": \"48.00\", \"weight\": 1985.0, \"acceleration\": 21.5, \"model_year\": 78, \"origin\": 2, \"car_name\": \"volkswagen rabbit custom diesel\"}, {\"mpg\": 36.1, \"cylinders\": 4, \"displacement\": 98.0, \"horsepower\": \"66.00\", \"weight\": 1800.0, \"acceleration\": 14.4, \"model_year\": 78, \"origin\": 1, \"car_name\": \"ford fiesta\"}, {\"mpg\": 32.8, \"cylinders\": 4, \"displacement\": 78.0, \"horsepower\": \"52.00\", \"weight\": 1985.0, \"acceleration\": 19.4, \"model_year\": 78, \"origin\": 3, \"car_name\": \"mazda glc deluxe\"}, {\"mpg\": 39.4, \"cylinders\": 4, \"displacement\": 85.0, \"horsepower\": \"70.00\", \"weight\": 2070.0, \"acceleration\": 18.6, \"model_year\": 78, \"origin\": 3, \"car_name\": \"datsun b210 gx\"}, {\"mpg\": 36.1, \"cylinders\": 4, \"displacement\": 91.0, \"horsepower\": \"60.00\", \"weight\": 1800.0, \"acceleration\": 16.4, \"model_year\": 78, \"origin\": 3, \"car_name\": \"honda civic cvcc\"}, {\"mpg\": 19.9, \"cylinders\": 8, \"displacement\": 260.0, \"horsepower\": \"110.0\", \"weight\": 3365.0, \"acceleration\": 15.5, \"model_year\": 78, \"origin\": 1, \"car_name\": \"oldsmobile cutlass salon brougham\"}, {\"mpg\": 19.4, \"cylinders\": 8, \"displacement\": 318.0, \"horsepower\": \"140.0\", \"weight\": 3735.0, \"acceleration\": 13.2, \"model_year\": 78, \"origin\": 1, \"car_name\": \"dodge diplomat\"}, {\"mpg\": 20.2, \"cylinders\": 8, \"displacement\": 302.0, \"horsepower\": \"139.0\", \"weight\": 3570.0, \"acceleration\": 12.8, \"model_year\": 78, \"origin\": 1, \"car_name\": \"mercury monarch ghia\"}, {\"mpg\": 19.2, \"cylinders\": 6, \"displacement\": 231.0, \"horsepower\": \"105.0\", \"weight\": 3535.0, \"acceleration\": 19.2, \"model_year\": 78, \"origin\": 1, \"car_name\": \"pontiac phoenix lj\"}, {\"mpg\": 20.5, \"cylinders\": 6, \"displacement\": 200.0, \"horsepower\": \"95.00\", \"weight\": 3155.0, \"acceleration\": 18.2, \"model_year\": 78, \"origin\": 1, \"car_name\": \"chevrolet malibu\"}, {\"mpg\": 20.2, \"cylinders\": 6, \"displacement\": 200.0, \"horsepower\": \"85.00\", \"weight\": 2965.0, \"acceleration\": 15.8, \"model_year\": 78, \"origin\": 1, \"car_name\": \"ford fairmont (auto)\"}, {\"mpg\": 25.1, \"cylinders\": 4, \"displacement\": 140.0, \"horsepower\": \"88.00\", \"weight\": 2720.0, \"acceleration\": 15.4, \"model_year\": 78, \"origin\": 1, \"car_name\": \"ford fairmont (man)\"}, {\"mpg\": 20.5, \"cylinders\": 6, \"displacement\": 225.0, \"horsepower\": \"100.0\", \"weight\": 3430.0, \"acceleration\": 17.2, \"model_year\": 78, \"origin\": 1, \"car_name\": \"plymouth volare\"}, {\"mpg\": 19.4, \"cylinders\": 6, \"displacement\": 232.0, \"horsepower\": \"90.00\", \"weight\": 3210.0, \"acceleration\": 17.2, \"model_year\": 78, \"origin\": 1, \"car_name\": \"amc concord\"}, {\"mpg\": 20.6, \"cylinders\": 6, \"displacement\": 231.0, \"horsepower\": \"105.0\", \"weight\": 3380.0, \"acceleration\": 15.8, \"model_year\": 78, \"origin\": 1, \"car_name\": \"buick century special\"}, {\"mpg\": 20.8, \"cylinders\": 6, \"displacement\": 200.0, \"horsepower\": \"85.00\", \"weight\": 3070.0, \"acceleration\": 16.7, \"model_year\": 78, \"origin\": 1, \"car_name\": \"mercury zephyr\"}, {\"mpg\": 18.6, \"cylinders\": 6, \"displacement\": 225.0, \"horsepower\": \"110.0\", \"weight\": 3620.0, \"acceleration\": 18.7, \"model_year\": 78, \"origin\": 1, \"car_name\": \"dodge aspen\"}, {\"mpg\": 18.1, \"cylinders\": 6, \"displacement\": 258.0, \"horsepower\": \"120.0\", \"weight\": 3410.0, \"acceleration\": 15.1, \"model_year\": 78, \"origin\": 1, \"car_name\": \"amc concord d/l\"}, {\"mpg\": 19.2, \"cylinders\": 8, \"displacement\": 305.0, \"horsepower\": \"145.0\", \"weight\": 3425.0, \"acceleration\": 13.2, \"model_year\": 78, \"origin\": 1, \"car_name\": \"chevrolet monte carlo landau\"}, {\"mpg\": 17.7, \"cylinders\": 6, \"displacement\": 231.0, \"horsepower\": \"165.0\", \"weight\": 3445.0, \"acceleration\": 13.4, \"model_year\": 78, \"origin\": 1, \"car_name\": \"buick regal sport coupe (turbo)\"}, {\"mpg\": 18.1, \"cylinders\": 8, \"displacement\": 302.0, \"horsepower\": \"139.0\", \"weight\": 3205.0, \"acceleration\": 11.2, \"model_year\": 78, \"origin\": 1, \"car_name\": \"ford futura\"}, {\"mpg\": 17.5, \"cylinders\": 8, \"displacement\": 318.0, \"horsepower\": \"140.0\", \"weight\": 4080.0, \"acceleration\": 13.7, \"model_year\": 78, \"origin\": 1, \"car_name\": \"dodge magnum xe\"}, {\"mpg\": 30.0, \"cylinders\": 4, \"displacement\": 98.0, \"horsepower\": \"68.00\", \"weight\": 2155.0, \"acceleration\": 16.5, \"model_year\": 78, \"origin\": 1, \"car_name\": \"chevrolet chevette\"}, {\"mpg\": 27.5, \"cylinders\": 4, \"displacement\": 134.0, \"horsepower\": \"95.00\", \"weight\": 2560.0, \"acceleration\": 14.2, \"model_year\": 78, \"origin\": 3, \"car_name\": \"toyota corona\"}, {\"mpg\": 27.2, \"cylinders\": 4, \"displacement\": 119.0, \"horsepower\": \"97.00\", \"weight\": 2300.0, \"acceleration\": 14.7, \"model_year\": 78, \"origin\": 3, \"car_name\": \"datsun 510\"}, {\"mpg\": 30.9, \"cylinders\": 4, \"displacement\": 105.0, \"horsepower\": \"75.00\", \"weight\": 2230.0, \"acceleration\": 14.5, \"model_year\": 78, \"origin\": 1, \"car_name\": \"dodge omni\"}, {\"mpg\": 21.1, \"cylinders\": 4, \"displacement\": 134.0, \"horsepower\": \"95.00\", \"weight\": 2515.0, \"acceleration\": 14.8, \"model_year\": 78, \"origin\": 3, \"car_name\": \"toyota celica gt liftback\"}, {\"mpg\": 23.2, \"cylinders\": 4, \"displacement\": 156.0, \"horsepower\": \"105.0\", \"weight\": 2745.0, \"acceleration\": 16.7, \"model_year\": 78, \"origin\": 1, \"car_name\": \"plymouth sapporo\"}, {\"mpg\": 23.8, \"cylinders\": 4, \"displacement\": 151.0, \"horsepower\": \"85.00\", \"weight\": 2855.0, \"acceleration\": 17.6, \"model_year\": 78, \"origin\": 1, \"car_name\": \"oldsmobile starfire sx\"}, {\"mpg\": 23.9, \"cylinders\": 4, \"displacement\": 119.0, \"horsepower\": \"97.00\", \"weight\": 2405.0, \"acceleration\": 14.9, \"model_year\": 78, \"origin\": 3, \"car_name\": \"datsun 200-sx\"}, {\"mpg\": 20.3, \"cylinders\": 5, \"displacement\": 131.0, \"horsepower\": \"103.0\", \"weight\": 2830.0, \"acceleration\": 15.9, \"model_year\": 78, \"origin\": 2, \"car_name\": \"audi 5000\"}, {\"mpg\": 17.0, \"cylinders\": 6, \"displacement\": 163.0, \"horsepower\": \"125.0\", \"weight\": 3140.0, \"acceleration\": 13.6, \"model_year\": 78, \"origin\": 2, \"car_name\": \"volvo 264gl\"}, {\"mpg\": 21.6, \"cylinders\": 4, \"displacement\": 121.0, \"horsepower\": \"115.0\", \"weight\": 2795.0, \"acceleration\": 15.7, \"model_year\": 78, \"origin\": 2, \"car_name\": \"saab 99gle\"}, {\"mpg\": 16.2, \"cylinders\": 6, \"displacement\": 163.0, \"horsepower\": \"133.0\", \"weight\": 3410.0, \"acceleration\": 15.8, \"model_year\": 78, \"origin\": 2, \"car_name\": \"peugeot 604sl\"}, {\"mpg\": 31.5, \"cylinders\": 4, \"displacement\": 89.0, \"horsepower\": \"71.00\", \"weight\": 1990.0, \"acceleration\": 14.9, \"model_year\": 78, \"origin\": 2, \"car_name\": \"volkswagen scirocco\"}, {\"mpg\": 29.5, \"cylinders\": 4, \"displacement\": 98.0, \"horsepower\": \"68.00\", \"weight\": 2135.0, \"acceleration\": 16.6, \"model_year\": 78, \"origin\": 3, \"car_name\": \"honda accord lx\"}, {\"mpg\": 21.5, \"cylinders\": 6, \"displacement\": 231.0, \"horsepower\": \"115.0\", \"weight\": 3245.0, \"acceleration\": 15.4, \"model_year\": 79, \"origin\": 1, \"car_name\": \"pontiac lemans v6\"}, {\"mpg\": 19.8, \"cylinders\": 6, \"displacement\": 200.0, \"horsepower\": \"85.00\", \"weight\": 2990.0, \"acceleration\": 18.2, \"model_year\": 79, \"origin\": 1, \"car_name\": \"mercury zephyr 6\"}, {\"mpg\": 22.3, \"cylinders\": 4, \"displacement\": 140.0, \"horsepower\": \"88.00\", \"weight\": 2890.0, \"acceleration\": 17.3, \"model_year\": 79, \"origin\": 1, \"car_name\": \"ford fairmont 4\"}, {\"mpg\": 20.2, \"cylinders\": 6, \"displacement\": 232.0, \"horsepower\": \"90.00\", \"weight\": 3265.0, \"acceleration\": 18.2, \"model_year\": 79, \"origin\": 1, \"car_name\": \"amc concord dl 6\"}, {\"mpg\": 20.6, \"cylinders\": 6, \"displacement\": 225.0, \"horsepower\": \"110.0\", \"weight\": 3360.0, \"acceleration\": 16.6, \"model_year\": 79, \"origin\": 1, \"car_name\": \"dodge aspen 6\"}, {\"mpg\": 17.0, \"cylinders\": 8, \"displacement\": 305.0, \"horsepower\": \"130.0\", \"weight\": 3840.0, \"acceleration\": 15.4, \"model_year\": 79, \"origin\": 1, \"car_name\": \"chevrolet caprice classic\"}, {\"mpg\": 17.6, \"cylinders\": 8, \"displacement\": 302.0, \"horsepower\": \"129.0\", \"weight\": 3725.0, \"acceleration\": 13.4, \"model_year\": 79, \"origin\": 1, \"car_name\": \"ford ltd landau\"}, {\"mpg\": 16.5, \"cylinders\": 8, \"displacement\": 351.0, \"horsepower\": \"138.0\", \"weight\": 3955.0, \"acceleration\": 13.2, \"model_year\": 79, \"origin\": 1, \"car_name\": \"mercury grand marquis\"}, {\"mpg\": 18.2, \"cylinders\": 8, \"displacement\": 318.0, \"horsepower\": \"135.0\", \"weight\": 3830.0, \"acceleration\": 15.2, \"model_year\": 79, \"origin\": 1, \"car_name\": \"dodge st. regis\"}, {\"mpg\": 16.9, \"cylinders\": 8, \"displacement\": 350.0, \"horsepower\": \"155.0\", \"weight\": 4360.0, \"acceleration\": 14.9, \"model_year\": 79, \"origin\": 1, \"car_name\": \"buick estate wagon (sw)\"}, {\"mpg\": 15.5, \"cylinders\": 8, \"displacement\": 351.0, \"horsepower\": \"142.0\", \"weight\": 4054.0, \"acceleration\": 14.3, \"model_year\": 79, \"origin\": 1, \"car_name\": \"ford country squire (sw)\"}, {\"mpg\": 19.2, \"cylinders\": 8, \"displacement\": 267.0, \"horsepower\": \"125.0\", \"weight\": 3605.0, \"acceleration\": 15.0, \"model_year\": 79, \"origin\": 1, \"car_name\": \"chevrolet malibu classic (sw)\"}, {\"mpg\": 18.5, \"cylinders\": 8, \"displacement\": 360.0, \"horsepower\": \"150.0\", \"weight\": 3940.0, \"acceleration\": 13.0, \"model_year\": 79, \"origin\": 1, \"car_name\": \"chrysler lebaron town @ country (sw)\"}, {\"mpg\": 31.9, \"cylinders\": 4, \"displacement\": 89.0, \"horsepower\": \"71.00\", \"weight\": 1925.0, \"acceleration\": 14.0, \"model_year\": 79, \"origin\": 2, \"car_name\": \"vw rabbit custom\"}, {\"mpg\": 34.1, \"cylinders\": 4, \"displacement\": 86.0, \"horsepower\": \"65.00\", \"weight\": 1975.0, \"acceleration\": 15.2, \"model_year\": 79, \"origin\": 3, \"car_name\": \"maxda glc deluxe\"}, {\"mpg\": 35.7, \"cylinders\": 4, \"displacement\": 98.0, \"horsepower\": \"80.00\", \"weight\": 1915.0, \"acceleration\": 14.4, \"model_year\": 79, \"origin\": 1, \"car_name\": \"dodge colt hatchback custom\"}, {\"mpg\": 27.4, \"cylinders\": 4, \"displacement\": 121.0, \"horsepower\": \"80.00\", \"weight\": 2670.0, \"acceleration\": 15.0, \"model_year\": 79, \"origin\": 1, \"car_name\": \"amc spirit dl\"}, {\"mpg\": 25.4, \"cylinders\": 5, \"displacement\": 183.0, \"horsepower\": \"77.00\", \"weight\": 3530.0, \"acceleration\": 20.1, \"model_year\": 79, \"origin\": 2, \"car_name\": \"mercedes benz 300d\"}, {\"mpg\": 23.0, \"cylinders\": 8, \"displacement\": 350.0, \"horsepower\": \"125.0\", \"weight\": 3900.0, \"acceleration\": 17.4, \"model_year\": 79, \"origin\": 1, \"car_name\": \"cadillac eldorado\"}, {\"mpg\": 27.2, \"cylinders\": 4, \"displacement\": 141.0, \"horsepower\": \"71.00\", \"weight\": 3190.0, \"acceleration\": 24.8, \"model_year\": 79, \"origin\": 2, \"car_name\": \"peugeot 504\"}, {\"mpg\": 23.9, \"cylinders\": 8, \"displacement\": 260.0, \"horsepower\": \"90.00\", \"weight\": 3420.0, \"acceleration\": 22.2, \"model_year\": 79, \"origin\": 1, \"car_name\": \"oldsmobile cutlass salon brougham\"}, {\"mpg\": 34.2, \"cylinders\": 4, \"displacement\": 105.0, \"horsepower\": \"70.00\", \"weight\": 2200.0, \"acceleration\": 13.2, \"model_year\": 79, \"origin\": 1, \"car_name\": \"plymouth horizon\"}, {\"mpg\": 34.5, \"cylinders\": 4, \"displacement\": 105.0, \"horsepower\": \"70.00\", \"weight\": 2150.0, \"acceleration\": 14.9, \"model_year\": 79, \"origin\": 1, \"car_name\": \"plymouth horizon tc3\"}, {\"mpg\": 31.8, \"cylinders\": 4, \"displacement\": 85.0, \"horsepower\": \"65.00\", \"weight\": 2020.0, \"acceleration\": 19.2, \"model_year\": 79, \"origin\": 3, \"car_name\": \"datsun 210\"}, {\"mpg\": 37.3, \"cylinders\": 4, \"displacement\": 91.0, \"horsepower\": \"69.00\", \"weight\": 2130.0, \"acceleration\": 14.7, \"model_year\": 79, \"origin\": 2, \"car_name\": \"fiat strada custom\"}, {\"mpg\": 28.4, \"cylinders\": 4, \"displacement\": 151.0, \"horsepower\": \"90.00\", \"weight\": 2670.0, \"acceleration\": 16.0, \"model_year\": 79, \"origin\": 1, \"car_name\": \"buick skylark limited\"}, {\"mpg\": 28.8, \"cylinders\": 6, \"displacement\": 173.0, \"horsepower\": \"115.0\", \"weight\": 2595.0, \"acceleration\": 11.3, \"model_year\": 79, \"origin\": 1, \"car_name\": \"chevrolet citation\"}, {\"mpg\": 26.8, \"cylinders\": 6, \"displacement\": 173.0, \"horsepower\": \"115.0\", \"weight\": 2700.0, \"acceleration\": 12.9, \"model_year\": 79, \"origin\": 1, \"car_name\": \"oldsmobile omega brougham\"}, {\"mpg\": 33.5, \"cylinders\": 4, \"displacement\": 151.0, \"horsepower\": \"90.00\", \"weight\": 2556.0, \"acceleration\": 13.2, \"model_year\": 79, \"origin\": 1, \"car_name\": \"pontiac phoenix\"}, {\"mpg\": 41.5, \"cylinders\": 4, \"displacement\": 98.0, \"horsepower\": \"76.00\", \"weight\": 2144.0, \"acceleration\": 14.7, \"model_year\": 80, \"origin\": 2, \"car_name\": \"vw rabbit\"}, {\"mpg\": 38.1, \"cylinders\": 4, \"displacement\": 89.0, \"horsepower\": \"60.00\", \"weight\": 1968.0, \"acceleration\": 18.8, \"model_year\": 80, \"origin\": 3, \"car_name\": \"toyota corolla tercel\"}, {\"mpg\": 32.1, \"cylinders\": 4, \"displacement\": 98.0, \"horsepower\": \"70.00\", \"weight\": 2120.0, \"acceleration\": 15.5, \"model_year\": 80, \"origin\": 1, \"car_name\": \"chevrolet chevette\"}, {\"mpg\": 37.2, \"cylinders\": 4, \"displacement\": 86.0, \"horsepower\": \"65.00\", \"weight\": 2019.0, \"acceleration\": 16.4, \"model_year\": 80, \"origin\": 3, \"car_name\": \"datsun 310\"}, {\"mpg\": 28.0, \"cylinders\": 4, \"displacement\": 151.0, \"horsepower\": \"90.00\", \"weight\": 2678.0, \"acceleration\": 16.5, \"model_year\": 80, \"origin\": 1, \"car_name\": \"chevrolet citation\"}, {\"mpg\": 26.4, \"cylinders\": 4, \"displacement\": 140.0, \"horsepower\": \"88.00\", \"weight\": 2870.0, \"acceleration\": 18.1, \"model_year\": 80, \"origin\": 1, \"car_name\": \"ford fairmont\"}, {\"mpg\": 24.3, \"cylinders\": 4, \"displacement\": 151.0, \"horsepower\": \"90.00\", \"weight\": 3003.0, \"acceleration\": 20.1, \"model_year\": 80, \"origin\": 1, \"car_name\": \"amc concord\"}, {\"mpg\": 19.1, \"cylinders\": 6, \"displacement\": 225.0, \"horsepower\": \"90.00\", \"weight\": 3381.0, \"acceleration\": 18.7, \"model_year\": 80, \"origin\": 1, \"car_name\": \"dodge aspen\"}, {\"mpg\": 34.3, \"cylinders\": 4, \"displacement\": 97.0, \"horsepower\": \"78.00\", \"weight\": 2188.0, \"acceleration\": 15.8, \"model_year\": 80, \"origin\": 2, \"car_name\": \"audi 4000\"}, {\"mpg\": 29.8, \"cylinders\": 4, \"displacement\": 134.0, \"horsepower\": \"90.00\", \"weight\": 2711.0, \"acceleration\": 15.5, \"model_year\": 80, \"origin\": 3, \"car_name\": \"toyota corona liftback\"}, {\"mpg\": 31.3, \"cylinders\": 4, \"displacement\": 120.0, \"horsepower\": \"75.00\", \"weight\": 2542.0, \"acceleration\": 17.5, \"model_year\": 80, \"origin\": 3, \"car_name\": \"mazda 626\"}, {\"mpg\": 37.0, \"cylinders\": 4, \"displacement\": 119.0, \"horsepower\": \"92.00\", \"weight\": 2434.0, \"acceleration\": 15.0, \"model_year\": 80, \"origin\": 3, \"car_name\": \"datsun 510 hatchback\"}, {\"mpg\": 32.2, \"cylinders\": 4, \"displacement\": 108.0, \"horsepower\": \"75.00\", \"weight\": 2265.0, \"acceleration\": 15.2, \"model_year\": 80, \"origin\": 3, \"car_name\": \"toyota corolla\"}, {\"mpg\": 46.6, \"cylinders\": 4, \"displacement\": 86.0, \"horsepower\": \"65.00\", \"weight\": 2110.0, \"acceleration\": 17.9, \"model_year\": 80, \"origin\": 3, \"car_name\": \"mazda glc\"}, {\"mpg\": 27.9, \"cylinders\": 4, \"displacement\": 156.0, \"horsepower\": \"105.0\", \"weight\": 2800.0, \"acceleration\": 14.4, \"model_year\": 80, \"origin\": 1, \"car_name\": \"dodge colt\"}, {\"mpg\": 40.8, \"cylinders\": 4, \"displacement\": 85.0, \"horsepower\": \"65.00\", \"weight\": 2110.0, \"acceleration\": 19.2, \"model_year\": 80, \"origin\": 3, \"car_name\": \"datsun 210\"}, {\"mpg\": 44.3, \"cylinders\": 4, \"displacement\": 90.0, \"horsepower\": \"48.00\", \"weight\": 2085.0, \"acceleration\": 21.7, \"model_year\": 80, \"origin\": 2, \"car_name\": \"vw rabbit c (diesel)\"}, {\"mpg\": 43.4, \"cylinders\": 4, \"displacement\": 90.0, \"horsepower\": \"48.00\", \"weight\": 2335.0, \"acceleration\": 23.7, \"model_year\": 80, \"origin\": 2, \"car_name\": \"vw dasher (diesel)\"}, {\"mpg\": 36.4, \"cylinders\": 5, \"displacement\": 121.0, \"horsepower\": \"67.00\", \"weight\": 2950.0, \"acceleration\": 19.9, \"model_year\": 80, \"origin\": 2, \"car_name\": \"audi 5000s (diesel)\"}, {\"mpg\": 30.0, \"cylinders\": 4, \"displacement\": 146.0, \"horsepower\": \"67.00\", \"weight\": 3250.0, \"acceleration\": 21.8, \"model_year\": 80, \"origin\": 2, \"car_name\": \"mercedes-benz 240d\"}, {\"mpg\": 44.6, \"cylinders\": 4, \"displacement\": 91.0, \"horsepower\": \"67.00\", \"weight\": 1850.0, \"acceleration\": 13.8, \"model_year\": 80, \"origin\": 3, \"car_name\": \"honda civic 1500 gl\"}, {\"mpg\": 33.8, \"cylinders\": 4, \"displacement\": 97.0, \"horsepower\": \"67.00\", \"weight\": 2145.0, \"acceleration\": 18.0, \"model_year\": 80, \"origin\": 3, \"car_name\": \"subaru dl\"}, {\"mpg\": 29.8, \"cylinders\": 4, \"displacement\": 89.0, \"horsepower\": \"62.00\", \"weight\": 1845.0, \"acceleration\": 15.3, \"model_year\": 80, \"origin\": 2, \"car_name\": \"vokswagen rabbit\"}, {\"mpg\": 32.7, \"cylinders\": 6, \"displacement\": 168.0, \"horsepower\": \"132.0\", \"weight\": 2910.0, \"acceleration\": 11.4, \"model_year\": 80, \"origin\": 3, \"car_name\": \"datsun 280-zx\"}, {\"mpg\": 23.7, \"cylinders\": 3, \"displacement\": 70.0, \"horsepower\": \"100.0\", \"weight\": 2420.0, \"acceleration\": 12.5, \"model_year\": 80, \"origin\": 3, \"car_name\": \"mazda rx-7 gs\"}, {\"mpg\": 35.0, \"cylinders\": 4, \"displacement\": 122.0, \"horsepower\": \"88.00\", \"weight\": 2500.0, \"acceleration\": 15.1, \"model_year\": 80, \"origin\": 2, \"car_name\": \"triumph tr7 coupe\"}, {\"mpg\": 32.4, \"cylinders\": 4, \"displacement\": 107.0, \"horsepower\": \"72.00\", \"weight\": 2290.0, \"acceleration\": 17.0, \"model_year\": 80, \"origin\": 3, \"car_name\": \"honda accord\"}, {\"mpg\": 27.2, \"cylinders\": 4, \"displacement\": 135.0, \"horsepower\": \"84.00\", \"weight\": 2490.0, \"acceleration\": 15.7, \"model_year\": 81, \"origin\": 1, \"car_name\": \"plymouth reliant\"}, {\"mpg\": 26.6, \"cylinders\": 4, \"displacement\": 151.0, \"horsepower\": \"84.00\", \"weight\": 2635.0, \"acceleration\": 16.4, \"model_year\": 81, \"origin\": 1, \"car_name\": \"buick skylark\"}, {\"mpg\": 25.8, \"cylinders\": 4, \"displacement\": 156.0, \"horsepower\": \"92.00\", \"weight\": 2620.0, \"acceleration\": 14.4, \"model_year\": 81, \"origin\": 1, \"car_name\": \"dodge aries wagon (sw)\"}, {\"mpg\": 23.5, \"cylinders\": 6, \"displacement\": 173.0, \"horsepower\": \"110.0\", \"weight\": 2725.0, \"acceleration\": 12.6, \"model_year\": 81, \"origin\": 1, \"car_name\": \"chevrolet citation\"}, {\"mpg\": 30.0, \"cylinders\": 4, \"displacement\": 135.0, \"horsepower\": \"84.00\", \"weight\": 2385.0, \"acceleration\": 12.9, \"model_year\": 81, \"origin\": 1, \"car_name\": \"plymouth reliant\"}, {\"mpg\": 39.1, \"cylinders\": 4, \"displacement\": 79.0, \"horsepower\": \"58.00\", \"weight\": 1755.0, \"acceleration\": 16.9, \"model_year\": 81, \"origin\": 3, \"car_name\": \"toyota starlet\"}, {\"mpg\": 39.0, \"cylinders\": 4, \"displacement\": 86.0, \"horsepower\": \"64.00\", \"weight\": 1875.0, \"acceleration\": 16.4, \"model_year\": 81, \"origin\": 1, \"car_name\": \"plymouth champ\"}, {\"mpg\": 35.1, \"cylinders\": 4, \"displacement\": 81.0, \"horsepower\": \"60.00\", \"weight\": 1760.0, \"acceleration\": 16.1, \"model_year\": 81, \"origin\": 3, \"car_name\": \"honda civic 1300\"}, {\"mpg\": 32.3, \"cylinders\": 4, \"displacement\": 97.0, \"horsepower\": \"67.00\", \"weight\": 2065.0, \"acceleration\": 17.8, \"model_year\": 81, \"origin\": 3, \"car_name\": \"subaru\"}, {\"mpg\": 37.0, \"cylinders\": 4, \"displacement\": 85.0, \"horsepower\": \"65.00\", \"weight\": 1975.0, \"acceleration\": 19.4, \"model_year\": 81, \"origin\": 3, \"car_name\": \"datsun 210 mpg\"}, {\"mpg\": 37.7, \"cylinders\": 4, \"displacement\": 89.0, \"horsepower\": \"62.00\", \"weight\": 2050.0, \"acceleration\": 17.3, \"model_year\": 81, \"origin\": 3, \"car_name\": \"toyota tercel\"}, {\"mpg\": 34.1, \"cylinders\": 4, \"displacement\": 91.0, \"horsepower\": \"68.00\", \"weight\": 1985.0, \"acceleration\": 16.0, \"model_year\": 81, \"origin\": 3, \"car_name\": \"mazda glc 4\"}, {\"mpg\": 34.7, \"cylinders\": 4, \"displacement\": 105.0, \"horsepower\": \"63.00\", \"weight\": 2215.0, \"acceleration\": 14.9, \"model_year\": 81, \"origin\": 1, \"car_name\": \"plymouth horizon 4\"}, {\"mpg\": 34.4, \"cylinders\": 4, \"displacement\": 98.0, \"horsepower\": \"65.00\", \"weight\": 2045.0, \"acceleration\": 16.2, \"model_year\": 81, \"origin\": 1, \"car_name\": \"ford escort 4w\"}, {\"mpg\": 29.9, \"cylinders\": 4, \"displacement\": 98.0, \"horsepower\": \"65.00\", \"weight\": 2380.0, \"acceleration\": 20.7, \"model_year\": 81, \"origin\": 1, \"car_name\": \"ford escort 2h\"}, {\"mpg\": 33.0, \"cylinders\": 4, \"displacement\": 105.0, \"horsepower\": \"74.00\", \"weight\": 2190.0, \"acceleration\": 14.2, \"model_year\": 81, \"origin\": 2, \"car_name\": \"volkswagen jetta\"}, {\"mpg\": 33.7, \"cylinders\": 4, \"displacement\": 107.0, \"horsepower\": \"75.00\", \"weight\": 2210.0, \"acceleration\": 14.4, \"model_year\": 81, \"origin\": 3, \"car_name\": \"honda prelude\"}, {\"mpg\": 32.4, \"cylinders\": 4, \"displacement\": 108.0, \"horsepower\": \"75.00\", \"weight\": 2350.0, \"acceleration\": 16.8, \"model_year\": 81, \"origin\": 3, \"car_name\": \"toyota corolla\"}, {\"mpg\": 32.9, \"cylinders\": 4, \"displacement\": 119.0, \"horsepower\": \"100.0\", \"weight\": 2615.0, \"acceleration\": 14.8, \"model_year\": 81, \"origin\": 3, \"car_name\": \"datsun 200sx\"}, {\"mpg\": 31.6, \"cylinders\": 4, \"displacement\": 120.0, \"horsepower\": \"74.00\", \"weight\": 2635.0, \"acceleration\": 18.3, \"model_year\": 81, \"origin\": 3, \"car_name\": \"mazda 626\"}, {\"mpg\": 28.1, \"cylinders\": 4, \"displacement\": 141.0, \"horsepower\": \"80.00\", \"weight\": 3230.0, \"acceleration\": 20.4, \"model_year\": 81, \"origin\": 2, \"car_name\": \"peugeot 505s turbo diesel\"}, {\"mpg\": 30.7, \"cylinders\": 6, \"displacement\": 145.0, \"horsepower\": \"76.00\", \"weight\": 3160.0, \"acceleration\": 19.6, \"model_year\": 81, \"origin\": 2, \"car_name\": \"volvo diesel\"}, {\"mpg\": 25.4, \"cylinders\": 6, \"displacement\": 168.0, \"horsepower\": \"116.0\", \"weight\": 2900.0, \"acceleration\": 12.6, \"model_year\": 81, \"origin\": 3, \"car_name\": \"toyota cressida\"}, {\"mpg\": 24.2, \"cylinders\": 6, \"displacement\": 146.0, \"horsepower\": \"120.0\", \"weight\": 2930.0, \"acceleration\": 13.8, \"model_year\": 81, \"origin\": 3, \"car_name\": \"datsun 810 maxima\"}, {\"mpg\": 22.4, \"cylinders\": 6, \"displacement\": 231.0, \"horsepower\": \"110.0\", \"weight\": 3415.0, \"acceleration\": 15.8, \"model_year\": 81, \"origin\": 1, \"car_name\": \"buick century\"}, {\"mpg\": 26.6, \"cylinders\": 8, \"displacement\": 350.0, \"horsepower\": \"105.0\", \"weight\": 3725.0, \"acceleration\": 19.0, \"model_year\": 81, \"origin\": 1, \"car_name\": \"oldsmobile cutlass ls\"}, {\"mpg\": 20.2, \"cylinders\": 6, \"displacement\": 200.0, \"horsepower\": \"88.00\", \"weight\": 3060.0, \"acceleration\": 17.1, \"model_year\": 81, \"origin\": 1, \"car_name\": \"ford granada gl\"}, {\"mpg\": 17.6, \"cylinders\": 6, \"displacement\": 225.0, \"horsepower\": \"85.00\", \"weight\": 3465.0, \"acceleration\": 16.6, \"model_year\": 81, \"origin\": 1, \"car_name\": \"chrysler lebaron salon\"}, {\"mpg\": 28.0, \"cylinders\": 4, \"displacement\": 112.0, \"horsepower\": \"88.00\", \"weight\": 2605.0, \"acceleration\": 19.6, \"model_year\": 82, \"origin\": 1, \"car_name\": \"chevrolet cavalier\"}, {\"mpg\": 27.0, \"cylinders\": 4, \"displacement\": 112.0, \"horsepower\": \"88.00\", \"weight\": 2640.0, \"acceleration\": 18.6, \"model_year\": 82, \"origin\": 1, \"car_name\": \"chevrolet cavalier wagon\"}, {\"mpg\": 34.0, \"cylinders\": 4, \"displacement\": 112.0, \"horsepower\": \"88.00\", \"weight\": 2395.0, \"acceleration\": 18.0, \"model_year\": 82, \"origin\": 1, \"car_name\": \"chevrolet cavalier 2-door\"}, {\"mpg\": 31.0, \"cylinders\": 4, \"displacement\": 112.0, \"horsepower\": \"85.00\", \"weight\": 2575.0, \"acceleration\": 16.2, \"model_year\": 82, \"origin\": 1, \"car_name\": \"pontiac j2000 se hatchback\"}, {\"mpg\": 29.0, \"cylinders\": 4, \"displacement\": 135.0, \"horsepower\": \"84.00\", \"weight\": 2525.0, \"acceleration\": 16.0, \"model_year\": 82, \"origin\": 1, \"car_name\": \"dodge aries se\"}, {\"mpg\": 27.0, \"cylinders\": 4, \"displacement\": 151.0, \"horsepower\": \"90.00\", \"weight\": 2735.0, \"acceleration\": 18.0, \"model_year\": 82, \"origin\": 1, \"car_name\": \"pontiac phoenix\"}, {\"mpg\": 24.0, \"cylinders\": 4, \"displacement\": 140.0, \"horsepower\": \"92.00\", \"weight\": 2865.0, \"acceleration\": 16.4, \"model_year\": 82, \"origin\": 1, \"car_name\": \"ford fairmont futura\"}, {\"mpg\": 36.0, \"cylinders\": 4, \"displacement\": 105.0, \"horsepower\": \"74.00\", \"weight\": 1980.0, \"acceleration\": 15.3, \"model_year\": 82, \"origin\": 2, \"car_name\": \"volkswagen rabbit l\"}, {\"mpg\": 37.0, \"cylinders\": 4, \"displacement\": 91.0, \"horsepower\": \"68.00\", \"weight\": 2025.0, \"acceleration\": 18.2, \"model_year\": 82, \"origin\": 3, \"car_name\": \"mazda glc custom l\"}, {\"mpg\": 31.0, \"cylinders\": 4, \"displacement\": 91.0, \"horsepower\": \"68.00\", \"weight\": 1970.0, \"acceleration\": 17.6, \"model_year\": 82, \"origin\": 3, \"car_name\": \"mazda glc custom\"}, {\"mpg\": 38.0, \"cylinders\": 4, \"displacement\": 105.0, \"horsepower\": \"63.00\", \"weight\": 2125.0, \"acceleration\": 14.7, \"model_year\": 82, \"origin\": 1, \"car_name\": \"plymouth horizon miser\"}, {\"mpg\": 36.0, \"cylinders\": 4, \"displacement\": 98.0, \"horsepower\": \"70.00\", \"weight\": 2125.0, \"acceleration\": 17.3, \"model_year\": 82, \"origin\": 1, \"car_name\": \"mercury lynx l\"}, {\"mpg\": 36.0, \"cylinders\": 4, \"displacement\": 120.0, \"horsepower\": \"88.00\", \"weight\": 2160.0, \"acceleration\": 14.5, \"model_year\": 82, \"origin\": 3, \"car_name\": \"nissan stanza xe\"}, {\"mpg\": 36.0, \"cylinders\": 4, \"displacement\": 107.0, \"horsepower\": \"75.00\", \"weight\": 2205.0, \"acceleration\": 14.5, \"model_year\": 82, \"origin\": 3, \"car_name\": \"honda accord\"}, {\"mpg\": 34.0, \"cylinders\": 4, \"displacement\": 108.0, \"horsepower\": \"70.00\", \"weight\": 2245.0, \"acceleration\": 16.9, \"model_year\": 82, \"origin\": 3, \"car_name\": \"toyota corolla\"}, {\"mpg\": 38.0, \"cylinders\": 4, \"displacement\": 91.0, \"horsepower\": \"67.00\", \"weight\": 1965.0, \"acceleration\": 15.0, \"model_year\": 82, \"origin\": 3, \"car_name\": \"honda civic\"}, {\"mpg\": 32.0, \"cylinders\": 4, \"displacement\": 91.0, \"horsepower\": \"67.00\", \"weight\": 1965.0, \"acceleration\": 15.7, \"model_year\": 82, \"origin\": 3, \"car_name\": \"honda civic (auto)\"}, {\"mpg\": 38.0, \"cylinders\": 4, \"displacement\": 91.0, \"horsepower\": \"67.00\", \"weight\": 1995.0, \"acceleration\": 16.2, \"model_year\": 82, \"origin\": 3, \"car_name\": \"datsun 310 gx\"}, {\"mpg\": 25.0, \"cylinders\": 6, \"displacement\": 181.0, \"horsepower\": \"110.0\", \"weight\": 2945.0, \"acceleration\": 16.4, \"model_year\": 82, \"origin\": 1, \"car_name\": \"buick century limited\"}, {\"mpg\": 38.0, \"cylinders\": 6, \"displacement\": 262.0, \"horsepower\": \"85.00\", \"weight\": 3015.0, \"acceleration\": 17.0, \"model_year\": 82, \"origin\": 1, \"car_name\": \"oldsmobile cutlass ciera (diesel)\"}, {\"mpg\": 26.0, \"cylinders\": 4, \"displacement\": 156.0, \"horsepower\": \"92.00\", \"weight\": 2585.0, \"acceleration\": 14.5, \"model_year\": 82, \"origin\": 1, \"car_name\": \"chrysler lebaron medallion\"}, {\"mpg\": 22.0, \"cylinders\": 6, \"displacement\": 232.0, \"horsepower\": \"112.0\", \"weight\": 2835.0, \"acceleration\": 14.7, \"model_year\": 82, \"origin\": 1, \"car_name\": \"ford granada l\"}, {\"mpg\": 32.0, \"cylinders\": 4, \"displacement\": 144.0, \"horsepower\": \"96.00\", \"weight\": 2665.0, \"acceleration\": 13.9, \"model_year\": 82, \"origin\": 3, \"car_name\": \"toyota celica gt\"}, {\"mpg\": 36.0, \"cylinders\": 4, \"displacement\": 135.0, \"horsepower\": \"84.00\", \"weight\": 2370.0, \"acceleration\": 13.0, \"model_year\": 82, \"origin\": 1, \"car_name\": \"dodge charger 2.2\"}, {\"mpg\": 27.0, \"cylinders\": 4, \"displacement\": 151.0, \"horsepower\": \"90.00\", \"weight\": 2950.0, \"acceleration\": 17.3, \"model_year\": 82, \"origin\": 1, \"car_name\": \"chevrolet camaro\"}, {\"mpg\": 27.0, \"cylinders\": 4, \"displacement\": 140.0, \"horsepower\": \"86.00\", \"weight\": 2790.0, \"acceleration\": 15.6, \"model_year\": 82, \"origin\": 1, \"car_name\": \"ford mustang gl\"}, {\"mpg\": 44.0, \"cylinders\": 4, \"displacement\": 97.0, \"horsepower\": \"52.00\", \"weight\": 2130.0, \"acceleration\": 24.6, \"model_year\": 82, \"origin\": 2, \"car_name\": \"vw pickup\"}, {\"mpg\": 32.0, \"cylinders\": 4, \"displacement\": 135.0, \"horsepower\": \"84.00\", \"weight\": 2295.0, \"acceleration\": 11.6, \"model_year\": 82, \"origin\": 1, \"car_name\": \"dodge rampage\"}, {\"mpg\": 28.0, \"cylinders\": 4, \"displacement\": 120.0, \"horsepower\": \"79.00\", \"weight\": 2625.0, \"acceleration\": 18.6, \"model_year\": 82, \"origin\": 1, \"car_name\": \"ford ranger\"}, {\"mpg\": 31.0, \"cylinders\": 4, \"displacement\": 119.0, \"horsepower\": \"82.00\", \"weight\": 2720.0, \"acceleration\": 19.4, \"model_year\": 82, \"origin\": 1, \"car_name\": \"chevy s-10\"}]}}, {\"mode\": \"vega-lite\"});\n",
       "</script>"
      ],
      "text/plain": [
       "alt.Chart(...)"
      ]
     },
     "execution_count": 10,
     "metadata": {},
     "output_type": "execute_result"
    }
   ],
   "source": [
    "c2 = alt.Chart(df).mark_point().encode(\n",
    "    x = 'horsepower:Q',\n",
    "    y = 'acceleration:Q',\n",
    "    tooltip = ['weight', 'acceleration','cylinders','model_year','car_name']\n",
    ")\n",
    "c2\n",
    "# Through a roughly look from the chart, it seems that when horsepower goes up, the value of acceleration goes down\n",
    "# Which is really weird, becuase it tells the opposite from the weight acceleration relationship we just have\n",
    "# !! lets check there relationship using a regression."
   ]
  },
  {
   "cell_type": "code",
   "execution_count": null,
   "metadata": {
    "cell_id": "5d2423d38cc14ec6aff6373c707d1eb7",
    "deepnote_cell_type": "code",
    "deepnote_to_be_reexecuted": false,
    "execution_millis": 40,
    "execution_start": 1702538196044,
    "source_hash": null
   },
   "outputs": [
    {
     "data": {
      "text/html": [
       "\n",
       "<div id=\"altair-viz-b11635a9777d431d9a3294b3a738a0c5\"></div>\n",
       "<script type=\"text/javascript\">\n",
       "  var VEGA_DEBUG = (typeof VEGA_DEBUG == \"undefined\") ? {} : VEGA_DEBUG;\n",
       "  (function(spec, embedOpt){\n",
       "    let outputDiv = document.currentScript.previousElementSibling;\n",
       "    if (outputDiv.id !== \"altair-viz-b11635a9777d431d9a3294b3a738a0c5\") {\n",
       "      outputDiv = document.getElementById(\"altair-viz-b11635a9777d431d9a3294b3a738a0c5\");\n",
       "    }\n",
       "    const paths = {\n",
       "      \"vega\": \"https://cdn.jsdelivr.net/npm//vega@5?noext\",\n",
       "      \"vega-lib\": \"https://cdn.jsdelivr.net/npm//vega-lib?noext\",\n",
       "      \"vega-lite\": \"https://cdn.jsdelivr.net/npm//vega-lite@4.17.0?noext\",\n",
       "      \"vega-embed\": \"https://cdn.jsdelivr.net/npm//vega-embed@6?noext\",\n",
       "    };\n",
       "\n",
       "    function maybeLoadScript(lib, version) {\n",
       "      var key = `${lib.replace(\"-\", \"\")}_version`;\n",
       "      return (VEGA_DEBUG[key] == version) ?\n",
       "        Promise.resolve(paths[lib]) :\n",
       "        new Promise(function(resolve, reject) {\n",
       "          var s = document.createElement('script');\n",
       "          document.getElementsByTagName(\"head\")[0].appendChild(s);\n",
       "          s.async = true;\n",
       "          s.onload = () => {\n",
       "            VEGA_DEBUG[key] = version;\n",
       "            return resolve(paths[lib]);\n",
       "          };\n",
       "          s.onerror = () => reject(`Error loading script: ${paths[lib]}`);\n",
       "          s.src = paths[lib];\n",
       "        });\n",
       "    }\n",
       "\n",
       "    function showError(err) {\n",
       "      outputDiv.innerHTML = `<div class=\"error\" style=\"color:red;\">${err}</div>`;\n",
       "      throw err;\n",
       "    }\n",
       "\n",
       "    function displayChart(vegaEmbed) {\n",
       "      vegaEmbed(outputDiv, spec, embedOpt)\n",
       "        .catch(err => showError(`Javascript Error: ${err.message}<br>This usually means there's a typo in your chart specification. See the javascript console for the full traceback.`));\n",
       "    }\n",
       "\n",
       "    if(typeof define === \"function\" && define.amd) {\n",
       "      requirejs.config({paths});\n",
       "      require([\"vega-embed\"], displayChart, err => showError(`Error loading script: ${err.message}`));\n",
       "    } else {\n",
       "      maybeLoadScript(\"vega\", \"5\")\n",
       "        .then(() => maybeLoadScript(\"vega-lite\", \"4.17.0\"))\n",
       "        .then(() => maybeLoadScript(\"vega-embed\", \"6\"))\n",
       "        .catch(showError)\n",
       "        .then(() => displayChart(vegaEmbed));\n",
       "    }\n",
       "  })({\"config\": {\"view\": {\"continuousWidth\": 400, \"continuousHeight\": 300}}, \"layer\": [{\"mark\": \"point\", \"encoding\": {\"tooltip\": [{\"field\": \"weight\", \"type\": \"quantitative\"}, {\"field\": \"acceleration\", \"type\": \"quantitative\"}, {\"field\": \"cylinders\", \"type\": \"quantitative\"}, {\"field\": \"model_year\", \"type\": \"quantitative\"}, {\"field\": \"car_name\", \"type\": \"nominal\"}], \"x\": {\"field\": \"horsepower\", \"type\": \"quantitative\"}, \"y\": {\"field\": \"acceleration\", \"type\": \"quantitative\"}}}, {\"mark\": {\"type\": \"line\", \"color\": \"red\", \"size\": 200}, \"encoding\": {\"tooltip\": [{\"field\": \"weight\", \"type\": \"quantitative\"}, {\"field\": \"acceleration\", \"type\": \"quantitative\"}, {\"field\": \"cylinders\", \"type\": \"quantitative\"}, {\"field\": \"model_year\", \"type\": \"quantitative\"}, {\"field\": \"car_name\", \"type\": \"nominal\"}], \"x\": {\"field\": \"horsepower\", \"type\": \"quantitative\"}, \"y\": {\"field\": \"acceleration\", \"type\": \"quantitative\"}}, \"transform\": [{\"on\": \"horsepower\", \"regression\": \"acceleration\"}]}], \"data\": {\"name\": \"data-062a950928f0a567605bfbbf0bb6ca5c\"}, \"$schema\": \"https://vega.github.io/schema/vega-lite/v4.17.0.json\", \"datasets\": {\"data-062a950928f0a567605bfbbf0bb6ca5c\": [{\"mpg\": 18.0, \"cylinders\": 8, \"displacement\": 307.0, \"horsepower\": \"130.0\", \"weight\": 3504.0, \"acceleration\": 12.0, \"model_year\": 70, \"origin\": 1, \"car_name\": \"chevrolet chevelle malibu\"}, {\"mpg\": 15.0, \"cylinders\": 8, \"displacement\": 350.0, \"horsepower\": \"165.0\", \"weight\": 3693.0, \"acceleration\": 11.5, \"model_year\": 70, \"origin\": 1, \"car_name\": \"buick skylark 320\"}, {\"mpg\": 18.0, \"cylinders\": 8, \"displacement\": 318.0, \"horsepower\": \"150.0\", \"weight\": 3436.0, \"acceleration\": 11.0, \"model_year\": 70, \"origin\": 1, \"car_name\": \"plymouth satellite\"}, {\"mpg\": 16.0, \"cylinders\": 8, \"displacement\": 304.0, \"horsepower\": \"150.0\", \"weight\": 3433.0, \"acceleration\": 12.0, \"model_year\": 70, \"origin\": 1, \"car_name\": \"amc rebel sst\"}, {\"mpg\": 17.0, \"cylinders\": 8, \"displacement\": 302.0, \"horsepower\": \"140.0\", \"weight\": 3449.0, \"acceleration\": 10.5, \"model_year\": 70, \"origin\": 1, \"car_name\": \"ford torino\"}, {\"mpg\": 15.0, \"cylinders\": 8, \"displacement\": 429.0, \"horsepower\": \"198.0\", \"weight\": 4341.0, \"acceleration\": 10.0, \"model_year\": 70, \"origin\": 1, \"car_name\": \"ford galaxie 500\"}, {\"mpg\": 14.0, \"cylinders\": 8, \"displacement\": 454.0, \"horsepower\": \"220.0\", \"weight\": 4354.0, \"acceleration\": 9.0, \"model_year\": 70, \"origin\": 1, \"car_name\": \"chevrolet impala\"}, {\"mpg\": 14.0, \"cylinders\": 8, \"displacement\": 440.0, \"horsepower\": \"215.0\", \"weight\": 4312.0, \"acceleration\": 8.5, \"model_year\": 70, \"origin\": 1, \"car_name\": \"plymouth fury iii\"}, {\"mpg\": 14.0, \"cylinders\": 8, \"displacement\": 455.0, \"horsepower\": \"225.0\", \"weight\": 4425.0, \"acceleration\": 10.0, \"model_year\": 70, \"origin\": 1, \"car_name\": \"pontiac catalina\"}, {\"mpg\": 15.0, \"cylinders\": 8, \"displacement\": 390.0, \"horsepower\": \"190.0\", \"weight\": 3850.0, \"acceleration\": 8.5, \"model_year\": 70, \"origin\": 1, \"car_name\": \"amc ambassador dpl\"}, {\"mpg\": 15.0, \"cylinders\": 8, \"displacement\": 383.0, \"horsepower\": \"170.0\", \"weight\": 3563.0, \"acceleration\": 10.0, \"model_year\": 70, \"origin\": 1, \"car_name\": \"dodge challenger se\"}, {\"mpg\": 14.0, \"cylinders\": 8, \"displacement\": 340.0, \"horsepower\": \"160.0\", \"weight\": 3609.0, \"acceleration\": 8.0, \"model_year\": 70, \"origin\": 1, \"car_name\": \"plymouth 'cuda 340\"}, {\"mpg\": 15.0, \"cylinders\": 8, \"displacement\": 400.0, \"horsepower\": \"150.0\", \"weight\": 3761.0, \"acceleration\": 9.5, \"model_year\": 70, \"origin\": 1, \"car_name\": \"chevrolet monte carlo\"}, {\"mpg\": 14.0, \"cylinders\": 8, \"displacement\": 455.0, \"horsepower\": \"225.0\", \"weight\": 3086.0, \"acceleration\": 10.0, \"model_year\": 70, \"origin\": 1, \"car_name\": \"buick estate wagon (sw)\"}, {\"mpg\": 24.0, \"cylinders\": 4, \"displacement\": 113.0, \"horsepower\": \"95.00\", \"weight\": 2372.0, \"acceleration\": 15.0, \"model_year\": 70, \"origin\": 3, \"car_name\": \"toyota corona mark ii\"}, {\"mpg\": 22.0, \"cylinders\": 6, \"displacement\": 198.0, \"horsepower\": \"95.00\", \"weight\": 2833.0, \"acceleration\": 15.5, \"model_year\": 70, \"origin\": 1, \"car_name\": \"plymouth duster\"}, {\"mpg\": 18.0, \"cylinders\": 6, \"displacement\": 199.0, \"horsepower\": \"97.00\", \"weight\": 2774.0, \"acceleration\": 15.5, \"model_year\": 70, \"origin\": 1, \"car_name\": \"amc hornet\"}, {\"mpg\": 21.0, \"cylinders\": 6, \"displacement\": 200.0, \"horsepower\": \"85.00\", \"weight\": 2587.0, \"acceleration\": 16.0, \"model_year\": 70, \"origin\": 1, \"car_name\": \"ford maverick\"}, {\"mpg\": 27.0, \"cylinders\": 4, \"displacement\": 97.0, \"horsepower\": \"88.00\", \"weight\": 2130.0, \"acceleration\": 14.5, \"model_year\": 70, \"origin\": 3, \"car_name\": \"datsun pl510\"}, {\"mpg\": 26.0, \"cylinders\": 4, \"displacement\": 97.0, \"horsepower\": \"46.00\", \"weight\": 1835.0, \"acceleration\": 20.5, \"model_year\": 70, \"origin\": 2, \"car_name\": \"volkswagen 1131 deluxe sedan\"}, {\"mpg\": 25.0, \"cylinders\": 4, \"displacement\": 110.0, \"horsepower\": \"87.00\", \"weight\": 2672.0, \"acceleration\": 17.5, \"model_year\": 70, \"origin\": 2, \"car_name\": \"peugeot 504\"}, {\"mpg\": 24.0, \"cylinders\": 4, \"displacement\": 107.0, \"horsepower\": \"90.00\", \"weight\": 2430.0, \"acceleration\": 14.5, \"model_year\": 70, \"origin\": 2, \"car_name\": \"audi 100 ls\"}, {\"mpg\": 25.0, \"cylinders\": 4, \"displacement\": 104.0, \"horsepower\": \"95.00\", \"weight\": 2375.0, \"acceleration\": 17.5, \"model_year\": 70, \"origin\": 2, \"car_name\": \"saab 99e\"}, {\"mpg\": 26.0, \"cylinders\": 4, \"displacement\": 121.0, \"horsepower\": \"113.0\", \"weight\": 2234.0, \"acceleration\": 12.5, \"model_year\": 70, \"origin\": 2, \"car_name\": \"bmw 2002\"}, {\"mpg\": 21.0, \"cylinders\": 6, \"displacement\": 199.0, \"horsepower\": \"90.00\", \"weight\": 2648.0, \"acceleration\": 15.0, \"model_year\": 70, \"origin\": 1, \"car_name\": \"amc gremlin\"}, {\"mpg\": 10.0, \"cylinders\": 8, \"displacement\": 360.0, \"horsepower\": \"215.0\", \"weight\": 4615.0, \"acceleration\": 14.0, \"model_year\": 70, \"origin\": 1, \"car_name\": \"ford f250\"}, {\"mpg\": 10.0, \"cylinders\": 8, \"displacement\": 307.0, \"horsepower\": \"200.0\", \"weight\": 4376.0, \"acceleration\": 15.0, \"model_year\": 70, \"origin\": 1, \"car_name\": \"chevy c20\"}, {\"mpg\": 11.0, \"cylinders\": 8, \"displacement\": 318.0, \"horsepower\": \"210.0\", \"weight\": 4382.0, \"acceleration\": 13.5, \"model_year\": 70, \"origin\": 1, \"car_name\": \"dodge d200\"}, {\"mpg\": 9.0, \"cylinders\": 8, \"displacement\": 304.0, \"horsepower\": \"193.0\", \"weight\": 4732.0, \"acceleration\": 18.5, \"model_year\": 70, \"origin\": 1, \"car_name\": \"hi 1200d\"}, {\"mpg\": 27.0, \"cylinders\": 4, \"displacement\": 97.0, \"horsepower\": \"88.00\", \"weight\": 2130.0, \"acceleration\": 14.5, \"model_year\": 71, \"origin\": 3, \"car_name\": \"datsun pl510\"}, {\"mpg\": 28.0, \"cylinders\": 4, \"displacement\": 140.0, \"horsepower\": \"90.00\", \"weight\": 2264.0, \"acceleration\": 15.5, \"model_year\": 71, \"origin\": 1, \"car_name\": \"chevrolet vega 2300\"}, {\"mpg\": 25.0, \"cylinders\": 4, \"displacement\": 113.0, \"horsepower\": \"95.00\", \"weight\": 2228.0, \"acceleration\": 14.0, \"model_year\": 71, \"origin\": 3, \"car_name\": \"toyota corona\"}, {\"mpg\": 19.0, \"cylinders\": 6, \"displacement\": 232.0, \"horsepower\": \"100.0\", \"weight\": 2634.0, \"acceleration\": 13.0, \"model_year\": 71, \"origin\": 1, \"car_name\": \"amc gremlin\"}, {\"mpg\": 16.0, \"cylinders\": 6, \"displacement\": 225.0, \"horsepower\": \"105.0\", \"weight\": 3439.0, \"acceleration\": 15.5, \"model_year\": 71, \"origin\": 1, \"car_name\": \"plymouth satellite custom\"}, {\"mpg\": 17.0, \"cylinders\": 6, \"displacement\": 250.0, \"horsepower\": \"100.0\", \"weight\": 3329.0, \"acceleration\": 15.5, \"model_year\": 71, \"origin\": 1, \"car_name\": \"chevrolet chevelle malibu\"}, {\"mpg\": 19.0, \"cylinders\": 6, \"displacement\": 250.0, \"horsepower\": \"88.00\", \"weight\": 3302.0, \"acceleration\": 15.5, \"model_year\": 71, \"origin\": 1, \"car_name\": \"ford torino 500\"}, {\"mpg\": 18.0, \"cylinders\": 6, \"displacement\": 232.0, \"horsepower\": \"100.0\", \"weight\": 3288.0, \"acceleration\": 15.5, \"model_year\": 71, \"origin\": 1, \"car_name\": \"amc matador\"}, {\"mpg\": 14.0, \"cylinders\": 8, \"displacement\": 350.0, \"horsepower\": \"165.0\", \"weight\": 4209.0, \"acceleration\": 12.0, \"model_year\": 71, \"origin\": 1, \"car_name\": \"chevrolet impala\"}, {\"mpg\": 14.0, \"cylinders\": 8, \"displacement\": 400.0, \"horsepower\": \"175.0\", \"weight\": 4464.0, \"acceleration\": 11.5, \"model_year\": 71, \"origin\": 1, \"car_name\": \"pontiac catalina brougham\"}, {\"mpg\": 14.0, \"cylinders\": 8, \"displacement\": 351.0, \"horsepower\": \"153.0\", \"weight\": 4154.0, \"acceleration\": 13.5, \"model_year\": 71, \"origin\": 1, \"car_name\": \"ford galaxie 500\"}, {\"mpg\": 14.0, \"cylinders\": 8, \"displacement\": 318.0, \"horsepower\": \"150.0\", \"weight\": 4096.0, \"acceleration\": 13.0, \"model_year\": 71, \"origin\": 1, \"car_name\": \"plymouth fury iii\"}, {\"mpg\": 12.0, \"cylinders\": 8, \"displacement\": 383.0, \"horsepower\": \"180.0\", \"weight\": 4955.0, \"acceleration\": 11.5, \"model_year\": 71, \"origin\": 1, \"car_name\": \"dodge monaco (sw)\"}, {\"mpg\": 13.0, \"cylinders\": 8, \"displacement\": 400.0, \"horsepower\": \"170.0\", \"weight\": 4746.0, \"acceleration\": 12.0, \"model_year\": 71, \"origin\": 1, \"car_name\": \"ford country squire (sw)\"}, {\"mpg\": 13.0, \"cylinders\": 8, \"displacement\": 400.0, \"horsepower\": \"175.0\", \"weight\": 5140.0, \"acceleration\": 12.0, \"model_year\": 71, \"origin\": 1, \"car_name\": \"pontiac safari (sw)\"}, {\"mpg\": 18.0, \"cylinders\": 6, \"displacement\": 258.0, \"horsepower\": \"110.0\", \"weight\": 2962.0, \"acceleration\": 13.5, \"model_year\": 71, \"origin\": 1, \"car_name\": \"amc hornet sportabout (sw)\"}, {\"mpg\": 22.0, \"cylinders\": 4, \"displacement\": 140.0, \"horsepower\": \"72.00\", \"weight\": 2408.0, \"acceleration\": 19.0, \"model_year\": 71, \"origin\": 1, \"car_name\": \"chevrolet vega (sw)\"}, {\"mpg\": 19.0, \"cylinders\": 6, \"displacement\": 250.0, \"horsepower\": \"100.0\", \"weight\": 3282.0, \"acceleration\": 15.0, \"model_year\": 71, \"origin\": 1, \"car_name\": \"pontiac firebird\"}, {\"mpg\": 18.0, \"cylinders\": 6, \"displacement\": 250.0, \"horsepower\": \"88.00\", \"weight\": 3139.0, \"acceleration\": 14.5, \"model_year\": 71, \"origin\": 1, \"car_name\": \"ford mustang\"}, {\"mpg\": 23.0, \"cylinders\": 4, \"displacement\": 122.0, \"horsepower\": \"86.00\", \"weight\": 2220.0, \"acceleration\": 14.0, \"model_year\": 71, \"origin\": 1, \"car_name\": \"mercury capri 2000\"}, {\"mpg\": 28.0, \"cylinders\": 4, \"displacement\": 116.0, \"horsepower\": \"90.00\", \"weight\": 2123.0, \"acceleration\": 14.0, \"model_year\": 71, \"origin\": 2, \"car_name\": \"opel 1900\"}, {\"mpg\": 30.0, \"cylinders\": 4, \"displacement\": 79.0, \"horsepower\": \"70.00\", \"weight\": 2074.0, \"acceleration\": 19.5, \"model_year\": 71, \"origin\": 2, \"car_name\": \"peugeot 304\"}, {\"mpg\": 30.0, \"cylinders\": 4, \"displacement\": 88.0, \"horsepower\": \"76.00\", \"weight\": 2065.0, \"acceleration\": 14.5, \"model_year\": 71, \"origin\": 2, \"car_name\": \"fiat 124b\"}, {\"mpg\": 31.0, \"cylinders\": 4, \"displacement\": 71.0, \"horsepower\": \"65.00\", \"weight\": 1773.0, \"acceleration\": 19.0, \"model_year\": 71, \"origin\": 3, \"car_name\": \"toyota corolla 1200\"}, {\"mpg\": 35.0, \"cylinders\": 4, \"displacement\": 72.0, \"horsepower\": \"69.00\", \"weight\": 1613.0, \"acceleration\": 18.0, \"model_year\": 71, \"origin\": 3, \"car_name\": \"datsun 1200\"}, {\"mpg\": 27.0, \"cylinders\": 4, \"displacement\": 97.0, \"horsepower\": \"60.00\", \"weight\": 1834.0, \"acceleration\": 19.0, \"model_year\": 71, \"origin\": 2, \"car_name\": \"volkswagen model 111\"}, {\"mpg\": 26.0, \"cylinders\": 4, \"displacement\": 91.0, \"horsepower\": \"70.00\", \"weight\": 1955.0, \"acceleration\": 20.5, \"model_year\": 71, \"origin\": 1, \"car_name\": \"plymouth cricket\"}, {\"mpg\": 24.0, \"cylinders\": 4, \"displacement\": 113.0, \"horsepower\": \"95.00\", \"weight\": 2278.0, \"acceleration\": 15.5, \"model_year\": 72, \"origin\": 3, \"car_name\": \"toyota corona hardtop\"}, {\"mpg\": 25.0, \"cylinders\": 4, \"displacement\": 97.5, \"horsepower\": \"80.00\", \"weight\": 2126.0, \"acceleration\": 17.0, \"model_year\": 72, \"origin\": 1, \"car_name\": \"dodge colt hardtop\"}, {\"mpg\": 23.0, \"cylinders\": 4, \"displacement\": 97.0, \"horsepower\": \"54.00\", \"weight\": 2254.0, \"acceleration\": 23.5, \"model_year\": 72, \"origin\": 2, \"car_name\": \"volkswagen type 3\"}, {\"mpg\": 20.0, \"cylinders\": 4, \"displacement\": 140.0, \"horsepower\": \"90.00\", \"weight\": 2408.0, \"acceleration\": 19.5, \"model_year\": 72, \"origin\": 1, \"car_name\": \"chevrolet vega\"}, {\"mpg\": 21.0, \"cylinders\": 4, \"displacement\": 122.0, \"horsepower\": \"86.00\", \"weight\": 2226.0, \"acceleration\": 16.5, \"model_year\": 72, \"origin\": 1, \"car_name\": \"ford pinto runabout\"}, {\"mpg\": 13.0, \"cylinders\": 8, \"displacement\": 350.0, \"horsepower\": \"165.0\", \"weight\": 4274.0, \"acceleration\": 12.0, \"model_year\": 72, \"origin\": 1, \"car_name\": \"chevrolet impala\"}, {\"mpg\": 14.0, \"cylinders\": 8, \"displacement\": 400.0, \"horsepower\": \"175.0\", \"weight\": 4385.0, \"acceleration\": 12.0, \"model_year\": 72, \"origin\": 1, \"car_name\": \"pontiac catalina\"}, {\"mpg\": 15.0, \"cylinders\": 8, \"displacement\": 318.0, \"horsepower\": \"150.0\", \"weight\": 4135.0, \"acceleration\": 13.5, \"model_year\": 72, \"origin\": 1, \"car_name\": \"plymouth fury iii\"}, {\"mpg\": 14.0, \"cylinders\": 8, \"displacement\": 351.0, \"horsepower\": \"153.0\", \"weight\": 4129.0, \"acceleration\": 13.0, \"model_year\": 72, \"origin\": 1, \"car_name\": \"ford galaxie 500\"}, {\"mpg\": 17.0, \"cylinders\": 8, \"displacement\": 304.0, \"horsepower\": \"150.0\", \"weight\": 3672.0, \"acceleration\": 11.5, \"model_year\": 72, \"origin\": 1, \"car_name\": \"amc ambassador sst\"}, {\"mpg\": 11.0, \"cylinders\": 8, \"displacement\": 429.0, \"horsepower\": \"208.0\", \"weight\": 4633.0, \"acceleration\": 11.0, \"model_year\": 72, \"origin\": 1, \"car_name\": \"mercury marquis\"}, {\"mpg\": 13.0, \"cylinders\": 8, \"displacement\": 350.0, \"horsepower\": \"155.0\", \"weight\": 4502.0, \"acceleration\": 13.5, \"model_year\": 72, \"origin\": 1, \"car_name\": \"buick lesabre custom\"}, {\"mpg\": 12.0, \"cylinders\": 8, \"displacement\": 350.0, \"horsepower\": \"160.0\", \"weight\": 4456.0, \"acceleration\": 13.5, \"model_year\": 72, \"origin\": 1, \"car_name\": \"oldsmobile delta 88 royale\"}, {\"mpg\": 13.0, \"cylinders\": 8, \"displacement\": 400.0, \"horsepower\": \"190.0\", \"weight\": 4422.0, \"acceleration\": 12.5, \"model_year\": 72, \"origin\": 1, \"car_name\": \"chrysler newport royal\"}, {\"mpg\": 19.0, \"cylinders\": 3, \"displacement\": 70.0, \"horsepower\": \"97.00\", \"weight\": 2330.0, \"acceleration\": 13.5, \"model_year\": 72, \"origin\": 3, \"car_name\": \"mazda rx2 coupe\"}, {\"mpg\": 15.0, \"cylinders\": 8, \"displacement\": 304.0, \"horsepower\": \"150.0\", \"weight\": 3892.0, \"acceleration\": 12.5, \"model_year\": 72, \"origin\": 1, \"car_name\": \"amc matador (sw)\"}, {\"mpg\": 13.0, \"cylinders\": 8, \"displacement\": 307.0, \"horsepower\": \"130.0\", \"weight\": 4098.0, \"acceleration\": 14.0, \"model_year\": 72, \"origin\": 1, \"car_name\": \"chevrolet chevelle concours (sw)\"}, {\"mpg\": 13.0, \"cylinders\": 8, \"displacement\": 302.0, \"horsepower\": \"140.0\", \"weight\": 4294.0, \"acceleration\": 16.0, \"model_year\": 72, \"origin\": 1, \"car_name\": \"ford gran torino (sw)\"}, {\"mpg\": 14.0, \"cylinders\": 8, \"displacement\": 318.0, \"horsepower\": \"150.0\", \"weight\": 4077.0, \"acceleration\": 14.0, \"model_year\": 72, \"origin\": 1, \"car_name\": \"plymouth satellite custom (sw)\"}, {\"mpg\": 18.0, \"cylinders\": 4, \"displacement\": 121.0, \"horsepower\": \"112.0\", \"weight\": 2933.0, \"acceleration\": 14.5, \"model_year\": 72, \"origin\": 2, \"car_name\": \"volvo 145e (sw)\"}, {\"mpg\": 22.0, \"cylinders\": 4, \"displacement\": 121.0, \"horsepower\": \"76.00\", \"weight\": 2511.0, \"acceleration\": 18.0, \"model_year\": 72, \"origin\": 2, \"car_name\": \"volkswagen 411 (sw)\"}, {\"mpg\": 21.0, \"cylinders\": 4, \"displacement\": 120.0, \"horsepower\": \"87.00\", \"weight\": 2979.0, \"acceleration\": 19.5, \"model_year\": 72, \"origin\": 2, \"car_name\": \"peugeot 504 (sw)\"}, {\"mpg\": 26.0, \"cylinders\": 4, \"displacement\": 96.0, \"horsepower\": \"69.00\", \"weight\": 2189.0, \"acceleration\": 18.0, \"model_year\": 72, \"origin\": 2, \"car_name\": \"renault 12 (sw)\"}, {\"mpg\": 22.0, \"cylinders\": 4, \"displacement\": 122.0, \"horsepower\": \"86.00\", \"weight\": 2395.0, \"acceleration\": 16.0, \"model_year\": 72, \"origin\": 1, \"car_name\": \"ford pinto (sw)\"}, {\"mpg\": 28.0, \"cylinders\": 4, \"displacement\": 97.0, \"horsepower\": \"92.00\", \"weight\": 2288.0, \"acceleration\": 17.0, \"model_year\": 72, \"origin\": 3, \"car_name\": \"datsun 510 (sw)\"}, {\"mpg\": 23.0, \"cylinders\": 4, \"displacement\": 120.0, \"horsepower\": \"97.00\", \"weight\": 2506.0, \"acceleration\": 14.5, \"model_year\": 72, \"origin\": 3, \"car_name\": \"toyouta corona mark ii (sw)\"}, {\"mpg\": 28.0, \"cylinders\": 4, \"displacement\": 98.0, \"horsepower\": \"80.00\", \"weight\": 2164.0, \"acceleration\": 15.0, \"model_year\": 72, \"origin\": 1, \"car_name\": \"dodge colt (sw)\"}, {\"mpg\": 27.0, \"cylinders\": 4, \"displacement\": 97.0, \"horsepower\": \"88.00\", \"weight\": 2100.0, \"acceleration\": 16.5, \"model_year\": 72, \"origin\": 3, \"car_name\": \"toyota corolla 1600 (sw)\"}, {\"mpg\": 13.0, \"cylinders\": 8, \"displacement\": 350.0, \"horsepower\": \"175.0\", \"weight\": 4100.0, \"acceleration\": 13.0, \"model_year\": 73, \"origin\": 1, \"car_name\": \"buick century 350\"}, {\"mpg\": 14.0, \"cylinders\": 8, \"displacement\": 304.0, \"horsepower\": \"150.0\", \"weight\": 3672.0, \"acceleration\": 11.5, \"model_year\": 73, \"origin\": 1, \"car_name\": \"amc matador\"}, {\"mpg\": 13.0, \"cylinders\": 8, \"displacement\": 350.0, \"horsepower\": \"145.0\", \"weight\": 3988.0, \"acceleration\": 13.0, \"model_year\": 73, \"origin\": 1, \"car_name\": \"chevrolet malibu\"}, {\"mpg\": 14.0, \"cylinders\": 8, \"displacement\": 302.0, \"horsepower\": \"137.0\", \"weight\": 4042.0, \"acceleration\": 14.5, \"model_year\": 73, \"origin\": 1, \"car_name\": \"ford gran torino\"}, {\"mpg\": 15.0, \"cylinders\": 8, \"displacement\": 318.0, \"horsepower\": \"150.0\", \"weight\": 3777.0, \"acceleration\": 12.5, \"model_year\": 73, \"origin\": 1, \"car_name\": \"dodge coronet custom\"}, {\"mpg\": 12.0, \"cylinders\": 8, \"displacement\": 429.0, \"horsepower\": \"198.0\", \"weight\": 4952.0, \"acceleration\": 11.5, \"model_year\": 73, \"origin\": 1, \"car_name\": \"mercury marquis brougham\"}, {\"mpg\": 13.0, \"cylinders\": 8, \"displacement\": 400.0, \"horsepower\": \"150.0\", \"weight\": 4464.0, \"acceleration\": 12.0, \"model_year\": 73, \"origin\": 1, \"car_name\": \"chevrolet caprice classic\"}, {\"mpg\": 13.0, \"cylinders\": 8, \"displacement\": 351.0, \"horsepower\": \"158.0\", \"weight\": 4363.0, \"acceleration\": 13.0, \"model_year\": 73, \"origin\": 1, \"car_name\": \"ford ltd\"}, {\"mpg\": 14.0, \"cylinders\": 8, \"displacement\": 318.0, \"horsepower\": \"150.0\", \"weight\": 4237.0, \"acceleration\": 14.5, \"model_year\": 73, \"origin\": 1, \"car_name\": \"plymouth fury gran sedan\"}, {\"mpg\": 13.0, \"cylinders\": 8, \"displacement\": 440.0, \"horsepower\": \"215.0\", \"weight\": 4735.0, \"acceleration\": 11.0, \"model_year\": 73, \"origin\": 1, \"car_name\": \"chrysler new yorker brougham\"}, {\"mpg\": 12.0, \"cylinders\": 8, \"displacement\": 455.0, \"horsepower\": \"225.0\", \"weight\": 4951.0, \"acceleration\": 11.0, \"model_year\": 73, \"origin\": 1, \"car_name\": \"buick electra 225 custom\"}, {\"mpg\": 13.0, \"cylinders\": 8, \"displacement\": 360.0, \"horsepower\": \"175.0\", \"weight\": 3821.0, \"acceleration\": 11.0, \"model_year\": 73, \"origin\": 1, \"car_name\": \"amc ambassador brougham\"}, {\"mpg\": 18.0, \"cylinders\": 6, \"displacement\": 225.0, \"horsepower\": \"105.0\", \"weight\": 3121.0, \"acceleration\": 16.5, \"model_year\": 73, \"origin\": 1, \"car_name\": \"plymouth valiant\"}, {\"mpg\": 16.0, \"cylinders\": 6, \"displacement\": 250.0, \"horsepower\": \"100.0\", \"weight\": 3278.0, \"acceleration\": 18.0, \"model_year\": 73, \"origin\": 1, \"car_name\": \"chevrolet nova custom\"}, {\"mpg\": 18.0, \"cylinders\": 6, \"displacement\": 232.0, \"horsepower\": \"100.0\", \"weight\": 2945.0, \"acceleration\": 16.0, \"model_year\": 73, \"origin\": 1, \"car_name\": \"amc hornet\"}, {\"mpg\": 18.0, \"cylinders\": 6, \"displacement\": 250.0, \"horsepower\": \"88.00\", \"weight\": 3021.0, \"acceleration\": 16.5, \"model_year\": 73, \"origin\": 1, \"car_name\": \"ford maverick\"}, {\"mpg\": 23.0, \"cylinders\": 6, \"displacement\": 198.0, \"horsepower\": \"95.00\", \"weight\": 2904.0, \"acceleration\": 16.0, \"model_year\": 73, \"origin\": 1, \"car_name\": \"plymouth duster\"}, {\"mpg\": 26.0, \"cylinders\": 4, \"displacement\": 97.0, \"horsepower\": \"46.00\", \"weight\": 1950.0, \"acceleration\": 21.0, \"model_year\": 73, \"origin\": 2, \"car_name\": \"volkswagen super beetle\"}, {\"mpg\": 11.0, \"cylinders\": 8, \"displacement\": 400.0, \"horsepower\": \"150.0\", \"weight\": 4997.0, \"acceleration\": 14.0, \"model_year\": 73, \"origin\": 1, \"car_name\": \"chevrolet impala\"}, {\"mpg\": 12.0, \"cylinders\": 8, \"displacement\": 400.0, \"horsepower\": \"167.0\", \"weight\": 4906.0, \"acceleration\": 12.5, \"model_year\": 73, \"origin\": 1, \"car_name\": \"ford country\"}, {\"mpg\": 13.0, \"cylinders\": 8, \"displacement\": 360.0, \"horsepower\": \"170.0\", \"weight\": 4654.0, \"acceleration\": 13.0, \"model_year\": 73, \"origin\": 1, \"car_name\": \"plymouth custom suburb\"}, {\"mpg\": 12.0, \"cylinders\": 8, \"displacement\": 350.0, \"horsepower\": \"180.0\", \"weight\": 4499.0, \"acceleration\": 12.5, \"model_year\": 73, \"origin\": 1, \"car_name\": \"oldsmobile vista cruiser\"}, {\"mpg\": 18.0, \"cylinders\": 6, \"displacement\": 232.0, \"horsepower\": \"100.0\", \"weight\": 2789.0, \"acceleration\": 15.0, \"model_year\": 73, \"origin\": 1, \"car_name\": \"amc gremlin\"}, {\"mpg\": 20.0, \"cylinders\": 4, \"displacement\": 97.0, \"horsepower\": \"88.00\", \"weight\": 2279.0, \"acceleration\": 19.0, \"model_year\": 73, \"origin\": 3, \"car_name\": \"toyota carina\"}, {\"mpg\": 21.0, \"cylinders\": 4, \"displacement\": 140.0, \"horsepower\": \"72.00\", \"weight\": 2401.0, \"acceleration\": 19.5, \"model_year\": 73, \"origin\": 1, \"car_name\": \"chevrolet vega\"}, {\"mpg\": 22.0, \"cylinders\": 4, \"displacement\": 108.0, \"horsepower\": \"94.00\", \"weight\": 2379.0, \"acceleration\": 16.5, \"model_year\": 73, \"origin\": 3, \"car_name\": \"datsun 610\"}, {\"mpg\": 18.0, \"cylinders\": 3, \"displacement\": 70.0, \"horsepower\": \"90.00\", \"weight\": 2124.0, \"acceleration\": 13.5, \"model_year\": 73, \"origin\": 3, \"car_name\": \"maxda rx3\"}, {\"mpg\": 19.0, \"cylinders\": 4, \"displacement\": 122.0, \"horsepower\": \"85.00\", \"weight\": 2310.0, \"acceleration\": 18.5, \"model_year\": 73, \"origin\": 1, \"car_name\": \"ford pinto\"}, {\"mpg\": 21.0, \"cylinders\": 6, \"displacement\": 155.0, \"horsepower\": \"107.0\", \"weight\": 2472.0, \"acceleration\": 14.0, \"model_year\": 73, \"origin\": 1, \"car_name\": \"mercury capri v6\"}, {\"mpg\": 26.0, \"cylinders\": 4, \"displacement\": 98.0, \"horsepower\": \"90.00\", \"weight\": 2265.0, \"acceleration\": 15.5, \"model_year\": 73, \"origin\": 2, \"car_name\": \"fiat 124 sport coupe\"}, {\"mpg\": 15.0, \"cylinders\": 8, \"displacement\": 350.0, \"horsepower\": \"145.0\", \"weight\": 4082.0, \"acceleration\": 13.0, \"model_year\": 73, \"origin\": 1, \"car_name\": \"chevrolet monte carlo s\"}, {\"mpg\": 16.0, \"cylinders\": 8, \"displacement\": 400.0, \"horsepower\": \"230.0\", \"weight\": 4278.0, \"acceleration\": 9.5, \"model_year\": 73, \"origin\": 1, \"car_name\": \"pontiac grand prix\"}, {\"mpg\": 29.0, \"cylinders\": 4, \"displacement\": 68.0, \"horsepower\": \"49.00\", \"weight\": 1867.0, \"acceleration\": 19.5, \"model_year\": 73, \"origin\": 2, \"car_name\": \"fiat 128\"}, {\"mpg\": 24.0, \"cylinders\": 4, \"displacement\": 116.0, \"horsepower\": \"75.00\", \"weight\": 2158.0, \"acceleration\": 15.5, \"model_year\": 73, \"origin\": 2, \"car_name\": \"opel manta\"}, {\"mpg\": 20.0, \"cylinders\": 4, \"displacement\": 114.0, \"horsepower\": \"91.00\", \"weight\": 2582.0, \"acceleration\": 14.0, \"model_year\": 73, \"origin\": 2, \"car_name\": \"audi 100ls\"}, {\"mpg\": 19.0, \"cylinders\": 4, \"displacement\": 121.0, \"horsepower\": \"112.0\", \"weight\": 2868.0, \"acceleration\": 15.5, \"model_year\": 73, \"origin\": 2, \"car_name\": \"volvo 144ea\"}, {\"mpg\": 15.0, \"cylinders\": 8, \"displacement\": 318.0, \"horsepower\": \"150.0\", \"weight\": 3399.0, \"acceleration\": 11.0, \"model_year\": 73, \"origin\": 1, \"car_name\": \"dodge dart custom\"}, {\"mpg\": 24.0, \"cylinders\": 4, \"displacement\": 121.0, \"horsepower\": \"110.0\", \"weight\": 2660.0, \"acceleration\": 14.0, \"model_year\": 73, \"origin\": 2, \"car_name\": \"saab 99le\"}, {\"mpg\": 20.0, \"cylinders\": 6, \"displacement\": 156.0, \"horsepower\": \"122.0\", \"weight\": 2807.0, \"acceleration\": 13.5, \"model_year\": 73, \"origin\": 3, \"car_name\": \"toyota mark ii\"}, {\"mpg\": 11.0, \"cylinders\": 8, \"displacement\": 350.0, \"horsepower\": \"180.0\", \"weight\": 3664.0, \"acceleration\": 11.0, \"model_year\": 73, \"origin\": 1, \"car_name\": \"oldsmobile omega\"}, {\"mpg\": 20.0, \"cylinders\": 6, \"displacement\": 198.0, \"horsepower\": \"95.00\", \"weight\": 3102.0, \"acceleration\": 16.5, \"model_year\": 74, \"origin\": 1, \"car_name\": \"plymouth duster\"}, {\"mpg\": 19.0, \"cylinders\": 6, \"displacement\": 232.0, \"horsepower\": \"100.0\", \"weight\": 2901.0, \"acceleration\": 16.0, \"model_year\": 74, \"origin\": 1, \"car_name\": \"amc hornet\"}, {\"mpg\": 15.0, \"cylinders\": 6, \"displacement\": 250.0, \"horsepower\": \"100.0\", \"weight\": 3336.0, \"acceleration\": 17.0, \"model_year\": 74, \"origin\": 1, \"car_name\": \"chevrolet nova\"}, {\"mpg\": 31.0, \"cylinders\": 4, \"displacement\": 79.0, \"horsepower\": \"67.00\", \"weight\": 1950.0, \"acceleration\": 19.0, \"model_year\": 74, \"origin\": 3, \"car_name\": \"datsun b210\"}, {\"mpg\": 26.0, \"cylinders\": 4, \"displacement\": 122.0, \"horsepower\": \"80.00\", \"weight\": 2451.0, \"acceleration\": 16.5, \"model_year\": 74, \"origin\": 1, \"car_name\": \"ford pinto\"}, {\"mpg\": 32.0, \"cylinders\": 4, \"displacement\": 71.0, \"horsepower\": \"65.00\", \"weight\": 1836.0, \"acceleration\": 21.0, \"model_year\": 74, \"origin\": 3, \"car_name\": \"toyota corolla 1200\"}, {\"mpg\": 25.0, \"cylinders\": 4, \"displacement\": 140.0, \"horsepower\": \"75.00\", \"weight\": 2542.0, \"acceleration\": 17.0, \"model_year\": 74, \"origin\": 1, \"car_name\": \"chevrolet vega\"}, {\"mpg\": 16.0, \"cylinders\": 6, \"displacement\": 250.0, \"horsepower\": \"100.0\", \"weight\": 3781.0, \"acceleration\": 17.0, \"model_year\": 74, \"origin\": 1, \"car_name\": \"chevrolet chevelle malibu classic\"}, {\"mpg\": 16.0, \"cylinders\": 6, \"displacement\": 258.0, \"horsepower\": \"110.0\", \"weight\": 3632.0, \"acceleration\": 18.0, \"model_year\": 74, \"origin\": 1, \"car_name\": \"amc matador\"}, {\"mpg\": 18.0, \"cylinders\": 6, \"displacement\": 225.0, \"horsepower\": \"105.0\", \"weight\": 3613.0, \"acceleration\": 16.5, \"model_year\": 74, \"origin\": 1, \"car_name\": \"plymouth satellite sebring\"}, {\"mpg\": 16.0, \"cylinders\": 8, \"displacement\": 302.0, \"horsepower\": \"140.0\", \"weight\": 4141.0, \"acceleration\": 14.0, \"model_year\": 74, \"origin\": 1, \"car_name\": \"ford gran torino\"}, {\"mpg\": 13.0, \"cylinders\": 8, \"displacement\": 350.0, \"horsepower\": \"150.0\", \"weight\": 4699.0, \"acceleration\": 14.5, \"model_year\": 74, \"origin\": 1, \"car_name\": \"buick century luxus (sw)\"}, {\"mpg\": 14.0, \"cylinders\": 8, \"displacement\": 318.0, \"horsepower\": \"150.0\", \"weight\": 4457.0, \"acceleration\": 13.5, \"model_year\": 74, \"origin\": 1, \"car_name\": \"dodge coronet custom (sw)\"}, {\"mpg\": 14.0, \"cylinders\": 8, \"displacement\": 302.0, \"horsepower\": \"140.0\", \"weight\": 4638.0, \"acceleration\": 16.0, \"model_year\": 74, \"origin\": 1, \"car_name\": \"ford gran torino (sw)\"}, {\"mpg\": 14.0, \"cylinders\": 8, \"displacement\": 304.0, \"horsepower\": \"150.0\", \"weight\": 4257.0, \"acceleration\": 15.5, \"model_year\": 74, \"origin\": 1, \"car_name\": \"amc matador (sw)\"}, {\"mpg\": 29.0, \"cylinders\": 4, \"displacement\": 98.0, \"horsepower\": \"83.00\", \"weight\": 2219.0, \"acceleration\": 16.5, \"model_year\": 74, \"origin\": 2, \"car_name\": \"audi fox\"}, {\"mpg\": 26.0, \"cylinders\": 4, \"displacement\": 79.0, \"horsepower\": \"67.00\", \"weight\": 1963.0, \"acceleration\": 15.5, \"model_year\": 74, \"origin\": 2, \"car_name\": \"volkswagen dasher\"}, {\"mpg\": 26.0, \"cylinders\": 4, \"displacement\": 97.0, \"horsepower\": \"78.00\", \"weight\": 2300.0, \"acceleration\": 14.5, \"model_year\": 74, \"origin\": 2, \"car_name\": \"opel manta\"}, {\"mpg\": 31.0, \"cylinders\": 4, \"displacement\": 76.0, \"horsepower\": \"52.00\", \"weight\": 1649.0, \"acceleration\": 16.5, \"model_year\": 74, \"origin\": 3, \"car_name\": \"toyota corona\"}, {\"mpg\": 32.0, \"cylinders\": 4, \"displacement\": 83.0, \"horsepower\": \"61.00\", \"weight\": 2003.0, \"acceleration\": 19.0, \"model_year\": 74, \"origin\": 3, \"car_name\": \"datsun 710\"}, {\"mpg\": 28.0, \"cylinders\": 4, \"displacement\": 90.0, \"horsepower\": \"75.00\", \"weight\": 2125.0, \"acceleration\": 14.5, \"model_year\": 74, \"origin\": 1, \"car_name\": \"dodge colt\"}, {\"mpg\": 24.0, \"cylinders\": 4, \"displacement\": 90.0, \"horsepower\": \"75.00\", \"weight\": 2108.0, \"acceleration\": 15.5, \"model_year\": 74, \"origin\": 2, \"car_name\": \"fiat 128\"}, {\"mpg\": 26.0, \"cylinders\": 4, \"displacement\": 116.0, \"horsepower\": \"75.00\", \"weight\": 2246.0, \"acceleration\": 14.0, \"model_year\": 74, \"origin\": 2, \"car_name\": \"fiat 124 tc\"}, {\"mpg\": 24.0, \"cylinders\": 4, \"displacement\": 120.0, \"horsepower\": \"97.00\", \"weight\": 2489.0, \"acceleration\": 15.0, \"model_year\": 74, \"origin\": 3, \"car_name\": \"honda civic\"}, {\"mpg\": 26.0, \"cylinders\": 4, \"displacement\": 108.0, \"horsepower\": \"93.00\", \"weight\": 2391.0, \"acceleration\": 15.5, \"model_year\": 74, \"origin\": 3, \"car_name\": \"subaru\"}, {\"mpg\": 31.0, \"cylinders\": 4, \"displacement\": 79.0, \"horsepower\": \"67.00\", \"weight\": 2000.0, \"acceleration\": 16.0, \"model_year\": 74, \"origin\": 2, \"car_name\": \"fiat x1.9\"}, {\"mpg\": 19.0, \"cylinders\": 6, \"displacement\": 225.0, \"horsepower\": \"95.00\", \"weight\": 3264.0, \"acceleration\": 16.0, \"model_year\": 75, \"origin\": 1, \"car_name\": \"plymouth valiant custom\"}, {\"mpg\": 18.0, \"cylinders\": 6, \"displacement\": 250.0, \"horsepower\": \"105.0\", \"weight\": 3459.0, \"acceleration\": 16.0, \"model_year\": 75, \"origin\": 1, \"car_name\": \"chevrolet nova\"}, {\"mpg\": 15.0, \"cylinders\": 6, \"displacement\": 250.0, \"horsepower\": \"72.00\", \"weight\": 3432.0, \"acceleration\": 21.0, \"model_year\": 75, \"origin\": 1, \"car_name\": \"mercury monarch\"}, {\"mpg\": 15.0, \"cylinders\": 6, \"displacement\": 250.0, \"horsepower\": \"72.00\", \"weight\": 3158.0, \"acceleration\": 19.5, \"model_year\": 75, \"origin\": 1, \"car_name\": \"ford maverick\"}, {\"mpg\": 16.0, \"cylinders\": 8, \"displacement\": 400.0, \"horsepower\": \"170.0\", \"weight\": 4668.0, \"acceleration\": 11.5, \"model_year\": 75, \"origin\": 1, \"car_name\": \"pontiac catalina\"}, {\"mpg\": 15.0, \"cylinders\": 8, \"displacement\": 350.0, \"horsepower\": \"145.0\", \"weight\": 4440.0, \"acceleration\": 14.0, \"model_year\": 75, \"origin\": 1, \"car_name\": \"chevrolet bel air\"}, {\"mpg\": 16.0, \"cylinders\": 8, \"displacement\": 318.0, \"horsepower\": \"150.0\", \"weight\": 4498.0, \"acceleration\": 14.5, \"model_year\": 75, \"origin\": 1, \"car_name\": \"plymouth grand fury\"}, {\"mpg\": 14.0, \"cylinders\": 8, \"displacement\": 351.0, \"horsepower\": \"148.0\", \"weight\": 4657.0, \"acceleration\": 13.5, \"model_year\": 75, \"origin\": 1, \"car_name\": \"ford ltd\"}, {\"mpg\": 17.0, \"cylinders\": 6, \"displacement\": 231.0, \"horsepower\": \"110.0\", \"weight\": 3907.0, \"acceleration\": 21.0, \"model_year\": 75, \"origin\": 1, \"car_name\": \"buick century\"}, {\"mpg\": 16.0, \"cylinders\": 6, \"displacement\": 250.0, \"horsepower\": \"105.0\", \"weight\": 3897.0, \"acceleration\": 18.5, \"model_year\": 75, \"origin\": 1, \"car_name\": \"chevroelt chevelle malibu\"}, {\"mpg\": 15.0, \"cylinders\": 6, \"displacement\": 258.0, \"horsepower\": \"110.0\", \"weight\": 3730.0, \"acceleration\": 19.0, \"model_year\": 75, \"origin\": 1, \"car_name\": \"amc matador\"}, {\"mpg\": 18.0, \"cylinders\": 6, \"displacement\": 225.0, \"horsepower\": \"95.00\", \"weight\": 3785.0, \"acceleration\": 19.0, \"model_year\": 75, \"origin\": 1, \"car_name\": \"plymouth fury\"}, {\"mpg\": 21.0, \"cylinders\": 6, \"displacement\": 231.0, \"horsepower\": \"110.0\", \"weight\": 3039.0, \"acceleration\": 15.0, \"model_year\": 75, \"origin\": 1, \"car_name\": \"buick skyhawk\"}, {\"mpg\": 20.0, \"cylinders\": 8, \"displacement\": 262.0, \"horsepower\": \"110.0\", \"weight\": 3221.0, \"acceleration\": 13.5, \"model_year\": 75, \"origin\": 1, \"car_name\": \"chevrolet monza 2+2\"}, {\"mpg\": 13.0, \"cylinders\": 8, \"displacement\": 302.0, \"horsepower\": \"129.0\", \"weight\": 3169.0, \"acceleration\": 12.0, \"model_year\": 75, \"origin\": 1, \"car_name\": \"ford mustang ii\"}, {\"mpg\": 29.0, \"cylinders\": 4, \"displacement\": 97.0, \"horsepower\": \"75.00\", \"weight\": 2171.0, \"acceleration\": 16.0, \"model_year\": 75, \"origin\": 3, \"car_name\": \"toyota corolla\"}, {\"mpg\": 23.0, \"cylinders\": 4, \"displacement\": 140.0, \"horsepower\": \"83.00\", \"weight\": 2639.0, \"acceleration\": 17.0, \"model_year\": 75, \"origin\": 1, \"car_name\": \"ford pinto\"}, {\"mpg\": 20.0, \"cylinders\": 6, \"displacement\": 232.0, \"horsepower\": \"100.0\", \"weight\": 2914.0, \"acceleration\": 16.0, \"model_year\": 75, \"origin\": 1, \"car_name\": \"amc gremlin\"}, {\"mpg\": 23.0, \"cylinders\": 4, \"displacement\": 140.0, \"horsepower\": \"78.00\", \"weight\": 2592.0, \"acceleration\": 18.5, \"model_year\": 75, \"origin\": 1, \"car_name\": \"pontiac astro\"}, {\"mpg\": 24.0, \"cylinders\": 4, \"displacement\": 134.0, \"horsepower\": \"96.00\", \"weight\": 2702.0, \"acceleration\": 13.5, \"model_year\": 75, \"origin\": 3, \"car_name\": \"toyota corona\"}, {\"mpg\": 25.0, \"cylinders\": 4, \"displacement\": 90.0, \"horsepower\": \"71.00\", \"weight\": 2223.0, \"acceleration\": 16.5, \"model_year\": 75, \"origin\": 2, \"car_name\": \"volkswagen dasher\"}, {\"mpg\": 24.0, \"cylinders\": 4, \"displacement\": 119.0, \"horsepower\": \"97.00\", \"weight\": 2545.0, \"acceleration\": 17.0, \"model_year\": 75, \"origin\": 3, \"car_name\": \"datsun 710\"}, {\"mpg\": 18.0, \"cylinders\": 6, \"displacement\": 171.0, \"horsepower\": \"97.00\", \"weight\": 2984.0, \"acceleration\": 14.5, \"model_year\": 75, \"origin\": 1, \"car_name\": \"ford pinto\"}, {\"mpg\": 29.0, \"cylinders\": 4, \"displacement\": 90.0, \"horsepower\": \"70.00\", \"weight\": 1937.0, \"acceleration\": 14.0, \"model_year\": 75, \"origin\": 2, \"car_name\": \"volkswagen rabbit\"}, {\"mpg\": 19.0, \"cylinders\": 6, \"displacement\": 232.0, \"horsepower\": \"90.00\", \"weight\": 3211.0, \"acceleration\": 17.0, \"model_year\": 75, \"origin\": 1, \"car_name\": \"amc pacer\"}, {\"mpg\": 23.0, \"cylinders\": 4, \"displacement\": 115.0, \"horsepower\": \"95.00\", \"weight\": 2694.0, \"acceleration\": 15.0, \"model_year\": 75, \"origin\": 2, \"car_name\": \"audi 100ls\"}, {\"mpg\": 23.0, \"cylinders\": 4, \"displacement\": 120.0, \"horsepower\": \"88.00\", \"weight\": 2957.0, \"acceleration\": 17.0, \"model_year\": 75, \"origin\": 2, \"car_name\": \"peugeot 504\"}, {\"mpg\": 22.0, \"cylinders\": 4, \"displacement\": 121.0, \"horsepower\": \"98.00\", \"weight\": 2945.0, \"acceleration\": 14.5, \"model_year\": 75, \"origin\": 2, \"car_name\": \"volvo 244dl\"}, {\"mpg\": 25.0, \"cylinders\": 4, \"displacement\": 121.0, \"horsepower\": \"115.0\", \"weight\": 2671.0, \"acceleration\": 13.5, \"model_year\": 75, \"origin\": 2, \"car_name\": \"saab 99le\"}, {\"mpg\": 33.0, \"cylinders\": 4, \"displacement\": 91.0, \"horsepower\": \"53.00\", \"weight\": 1795.0, \"acceleration\": 17.5, \"model_year\": 75, \"origin\": 3, \"car_name\": \"honda civic cvcc\"}, {\"mpg\": 28.0, \"cylinders\": 4, \"displacement\": 107.0, \"horsepower\": \"86.00\", \"weight\": 2464.0, \"acceleration\": 15.5, \"model_year\": 76, \"origin\": 2, \"car_name\": \"fiat 131\"}, {\"mpg\": 25.0, \"cylinders\": 4, \"displacement\": 116.0, \"horsepower\": \"81.00\", \"weight\": 2220.0, \"acceleration\": 16.9, \"model_year\": 76, \"origin\": 2, \"car_name\": \"opel 1900\"}, {\"mpg\": 25.0, \"cylinders\": 4, \"displacement\": 140.0, \"horsepower\": \"92.00\", \"weight\": 2572.0, \"acceleration\": 14.9, \"model_year\": 76, \"origin\": 1, \"car_name\": \"capri ii\"}, {\"mpg\": 26.0, \"cylinders\": 4, \"displacement\": 98.0, \"horsepower\": \"79.00\", \"weight\": 2255.0, \"acceleration\": 17.7, \"model_year\": 76, \"origin\": 1, \"car_name\": \"dodge colt\"}, {\"mpg\": 27.0, \"cylinders\": 4, \"displacement\": 101.0, \"horsepower\": \"83.00\", \"weight\": 2202.0, \"acceleration\": 15.3, \"model_year\": 76, \"origin\": 2, \"car_name\": \"renault 12tl\"}, {\"mpg\": 17.5, \"cylinders\": 8, \"displacement\": 305.0, \"horsepower\": \"140.0\", \"weight\": 4215.0, \"acceleration\": 13.0, \"model_year\": 76, \"origin\": 1, \"car_name\": \"chevrolet chevelle malibu classic\"}, {\"mpg\": 16.0, \"cylinders\": 8, \"displacement\": 318.0, \"horsepower\": \"150.0\", \"weight\": 4190.0, \"acceleration\": 13.0, \"model_year\": 76, \"origin\": 1, \"car_name\": \"dodge coronet brougham\"}, {\"mpg\": 15.5, \"cylinders\": 8, \"displacement\": 304.0, \"horsepower\": \"120.0\", \"weight\": 3962.0, \"acceleration\": 13.9, \"model_year\": 76, \"origin\": 1, \"car_name\": \"amc matador\"}, {\"mpg\": 14.5, \"cylinders\": 8, \"displacement\": 351.0, \"horsepower\": \"152.0\", \"weight\": 4215.0, \"acceleration\": 12.8, \"model_year\": 76, \"origin\": 1, \"car_name\": \"ford gran torino\"}, {\"mpg\": 22.0, \"cylinders\": 6, \"displacement\": 225.0, \"horsepower\": \"100.0\", \"weight\": 3233.0, \"acceleration\": 15.4, \"model_year\": 76, \"origin\": 1, \"car_name\": \"plymouth valiant\"}, {\"mpg\": 22.0, \"cylinders\": 6, \"displacement\": 250.0, \"horsepower\": \"105.0\", \"weight\": 3353.0, \"acceleration\": 14.5, \"model_year\": 76, \"origin\": 1, \"car_name\": \"chevrolet nova\"}, {\"mpg\": 24.0, \"cylinders\": 6, \"displacement\": 200.0, \"horsepower\": \"81.00\", \"weight\": 3012.0, \"acceleration\": 17.6, \"model_year\": 76, \"origin\": 1, \"car_name\": \"ford maverick\"}, {\"mpg\": 22.5, \"cylinders\": 6, \"displacement\": 232.0, \"horsepower\": \"90.00\", \"weight\": 3085.0, \"acceleration\": 17.6, \"model_year\": 76, \"origin\": 1, \"car_name\": \"amc hornet\"}, {\"mpg\": 29.0, \"cylinders\": 4, \"displacement\": 85.0, \"horsepower\": \"52.00\", \"weight\": 2035.0, \"acceleration\": 22.2, \"model_year\": 76, \"origin\": 1, \"car_name\": \"chevrolet chevette\"}, {\"mpg\": 24.5, \"cylinders\": 4, \"displacement\": 98.0, \"horsepower\": \"60.00\", \"weight\": 2164.0, \"acceleration\": 22.1, \"model_year\": 76, \"origin\": 1, \"car_name\": \"chevrolet woody\"}, {\"mpg\": 29.0, \"cylinders\": 4, \"displacement\": 90.0, \"horsepower\": \"70.00\", \"weight\": 1937.0, \"acceleration\": 14.2, \"model_year\": 76, \"origin\": 2, \"car_name\": \"vw rabbit\"}, {\"mpg\": 33.0, \"cylinders\": 4, \"displacement\": 91.0, \"horsepower\": \"53.00\", \"weight\": 1795.0, \"acceleration\": 17.4, \"model_year\": 76, \"origin\": 3, \"car_name\": \"honda civic\"}, {\"mpg\": 20.0, \"cylinders\": 6, \"displacement\": 225.0, \"horsepower\": \"100.0\", \"weight\": 3651.0, \"acceleration\": 17.7, \"model_year\": 76, \"origin\": 1, \"car_name\": \"dodge aspen se\"}, {\"mpg\": 18.0, \"cylinders\": 6, \"displacement\": 250.0, \"horsepower\": \"78.00\", \"weight\": 3574.0, \"acceleration\": 21.0, \"model_year\": 76, \"origin\": 1, \"car_name\": \"ford granada ghia\"}, {\"mpg\": 18.5, \"cylinders\": 6, \"displacement\": 250.0, \"horsepower\": \"110.0\", \"weight\": 3645.0, \"acceleration\": 16.2, \"model_year\": 76, \"origin\": 1, \"car_name\": \"pontiac ventura sj\"}, {\"mpg\": 17.5, \"cylinders\": 6, \"displacement\": 258.0, \"horsepower\": \"95.00\", \"weight\": 3193.0, \"acceleration\": 17.8, \"model_year\": 76, \"origin\": 1, \"car_name\": \"amc pacer d/l\"}, {\"mpg\": 29.5, \"cylinders\": 4, \"displacement\": 97.0, \"horsepower\": \"71.00\", \"weight\": 1825.0, \"acceleration\": 12.2, \"model_year\": 76, \"origin\": 2, \"car_name\": \"volkswagen rabbit\"}, {\"mpg\": 32.0, \"cylinders\": 4, \"displacement\": 85.0, \"horsepower\": \"70.00\", \"weight\": 1990.0, \"acceleration\": 17.0, \"model_year\": 76, \"origin\": 3, \"car_name\": \"datsun b-210\"}, {\"mpg\": 28.0, \"cylinders\": 4, \"displacement\": 97.0, \"horsepower\": \"75.00\", \"weight\": 2155.0, \"acceleration\": 16.4, \"model_year\": 76, \"origin\": 3, \"car_name\": \"toyota corolla\"}, {\"mpg\": 26.5, \"cylinders\": 4, \"displacement\": 140.0, \"horsepower\": \"72.00\", \"weight\": 2565.0, \"acceleration\": 13.6, \"model_year\": 76, \"origin\": 1, \"car_name\": \"ford pinto\"}, {\"mpg\": 20.0, \"cylinders\": 4, \"displacement\": 130.0, \"horsepower\": \"102.0\", \"weight\": 3150.0, \"acceleration\": 15.7, \"model_year\": 76, \"origin\": 2, \"car_name\": \"volvo 245\"}, {\"mpg\": 13.0, \"cylinders\": 8, \"displacement\": 318.0, \"horsepower\": \"150.0\", \"weight\": 3940.0, \"acceleration\": 13.2, \"model_year\": 76, \"origin\": 1, \"car_name\": \"plymouth volare premier v8\"}, {\"mpg\": 19.0, \"cylinders\": 4, \"displacement\": 120.0, \"horsepower\": \"88.00\", \"weight\": 3270.0, \"acceleration\": 21.9, \"model_year\": 76, \"origin\": 2, \"car_name\": \"peugeot 504\"}, {\"mpg\": 19.0, \"cylinders\": 6, \"displacement\": 156.0, \"horsepower\": \"108.0\", \"weight\": 2930.0, \"acceleration\": 15.5, \"model_year\": 76, \"origin\": 3, \"car_name\": \"toyota mark ii\"}, {\"mpg\": 16.5, \"cylinders\": 6, \"displacement\": 168.0, \"horsepower\": \"120.0\", \"weight\": 3820.0, \"acceleration\": 16.7, \"model_year\": 76, \"origin\": 2, \"car_name\": \"mercedes-benz 280s\"}, {\"mpg\": 16.5, \"cylinders\": 8, \"displacement\": 350.0, \"horsepower\": \"180.0\", \"weight\": 4380.0, \"acceleration\": 12.1, \"model_year\": 76, \"origin\": 1, \"car_name\": \"cadillac seville\"}, {\"mpg\": 13.0, \"cylinders\": 8, \"displacement\": 350.0, \"horsepower\": \"145.0\", \"weight\": 4055.0, \"acceleration\": 12.0, \"model_year\": 76, \"origin\": 1, \"car_name\": \"chevy c10\"}, {\"mpg\": 13.0, \"cylinders\": 8, \"displacement\": 302.0, \"horsepower\": \"130.0\", \"weight\": 3870.0, \"acceleration\": 15.0, \"model_year\": 76, \"origin\": 1, \"car_name\": \"ford f108\"}, {\"mpg\": 13.0, \"cylinders\": 8, \"displacement\": 318.0, \"horsepower\": \"150.0\", \"weight\": 3755.0, \"acceleration\": 14.0, \"model_year\": 76, \"origin\": 1, \"car_name\": \"dodge d100\"}, {\"mpg\": 31.5, \"cylinders\": 4, \"displacement\": 98.0, \"horsepower\": \"68.00\", \"weight\": 2045.0, \"acceleration\": 18.5, \"model_year\": 77, \"origin\": 3, \"car_name\": \"honda accord cvcc\"}, {\"mpg\": 30.0, \"cylinders\": 4, \"displacement\": 111.0, \"horsepower\": \"80.00\", \"weight\": 2155.0, \"acceleration\": 14.8, \"model_year\": 77, \"origin\": 1, \"car_name\": \"buick opel isuzu deluxe\"}, {\"mpg\": 36.0, \"cylinders\": 4, \"displacement\": 79.0, \"horsepower\": \"58.00\", \"weight\": 1825.0, \"acceleration\": 18.6, \"model_year\": 77, \"origin\": 2, \"car_name\": \"renault 5 gtl\"}, {\"mpg\": 25.5, \"cylinders\": 4, \"displacement\": 122.0, \"horsepower\": \"96.00\", \"weight\": 2300.0, \"acceleration\": 15.5, \"model_year\": 77, \"origin\": 1, \"car_name\": \"plymouth arrow gs\"}, {\"mpg\": 33.5, \"cylinders\": 4, \"displacement\": 85.0, \"horsepower\": \"70.00\", \"weight\": 1945.0, \"acceleration\": 16.8, \"model_year\": 77, \"origin\": 3, \"car_name\": \"datsun f-10 hatchback\"}, {\"mpg\": 17.5, \"cylinders\": 8, \"displacement\": 305.0, \"horsepower\": \"145.0\", \"weight\": 3880.0, \"acceleration\": 12.5, \"model_year\": 77, \"origin\": 1, \"car_name\": \"chevrolet caprice classic\"}, {\"mpg\": 17.0, \"cylinders\": 8, \"displacement\": 260.0, \"horsepower\": \"110.0\", \"weight\": 4060.0, \"acceleration\": 19.0, \"model_year\": 77, \"origin\": 1, \"car_name\": \"oldsmobile cutlass supreme\"}, {\"mpg\": 15.5, \"cylinders\": 8, \"displacement\": 318.0, \"horsepower\": \"145.0\", \"weight\": 4140.0, \"acceleration\": 13.7, \"model_year\": 77, \"origin\": 1, \"car_name\": \"dodge monaco brougham\"}, {\"mpg\": 15.0, \"cylinders\": 8, \"displacement\": 302.0, \"horsepower\": \"130.0\", \"weight\": 4295.0, \"acceleration\": 14.9, \"model_year\": 77, \"origin\": 1, \"car_name\": \"mercury cougar brougham\"}, {\"mpg\": 17.5, \"cylinders\": 6, \"displacement\": 250.0, \"horsepower\": \"110.0\", \"weight\": 3520.0, \"acceleration\": 16.4, \"model_year\": 77, \"origin\": 1, \"car_name\": \"chevrolet concours\"}, {\"mpg\": 20.5, \"cylinders\": 6, \"displacement\": 231.0, \"horsepower\": \"105.0\", \"weight\": 3425.0, \"acceleration\": 16.9, \"model_year\": 77, \"origin\": 1, \"car_name\": \"buick skylark\"}, {\"mpg\": 19.0, \"cylinders\": 6, \"displacement\": 225.0, \"horsepower\": \"100.0\", \"weight\": 3630.0, \"acceleration\": 17.7, \"model_year\": 77, \"origin\": 1, \"car_name\": \"plymouth volare custom\"}, {\"mpg\": 18.5, \"cylinders\": 6, \"displacement\": 250.0, \"horsepower\": \"98.00\", \"weight\": 3525.0, \"acceleration\": 19.0, \"model_year\": 77, \"origin\": 1, \"car_name\": \"ford granada\"}, {\"mpg\": 16.0, \"cylinders\": 8, \"displacement\": 400.0, \"horsepower\": \"180.0\", \"weight\": 4220.0, \"acceleration\": 11.1, \"model_year\": 77, \"origin\": 1, \"car_name\": \"pontiac grand prix lj\"}, {\"mpg\": 15.5, \"cylinders\": 8, \"displacement\": 350.0, \"horsepower\": \"170.0\", \"weight\": 4165.0, \"acceleration\": 11.4, \"model_year\": 77, \"origin\": 1, \"car_name\": \"chevrolet monte carlo landau\"}, {\"mpg\": 15.5, \"cylinders\": 8, \"displacement\": 400.0, \"horsepower\": \"190.0\", \"weight\": 4325.0, \"acceleration\": 12.2, \"model_year\": 77, \"origin\": 1, \"car_name\": \"chrysler cordoba\"}, {\"mpg\": 16.0, \"cylinders\": 8, \"displacement\": 351.0, \"horsepower\": \"149.0\", \"weight\": 4335.0, \"acceleration\": 14.5, \"model_year\": 77, \"origin\": 1, \"car_name\": \"ford thunderbird\"}, {\"mpg\": 29.0, \"cylinders\": 4, \"displacement\": 97.0, \"horsepower\": \"78.00\", \"weight\": 1940.0, \"acceleration\": 14.5, \"model_year\": 77, \"origin\": 2, \"car_name\": \"volkswagen rabbit custom\"}, {\"mpg\": 24.5, \"cylinders\": 4, \"displacement\": 151.0, \"horsepower\": \"88.00\", \"weight\": 2740.0, \"acceleration\": 16.0, \"model_year\": 77, \"origin\": 1, \"car_name\": \"pontiac sunbird coupe\"}, {\"mpg\": 26.0, \"cylinders\": 4, \"displacement\": 97.0, \"horsepower\": \"75.00\", \"weight\": 2265.0, \"acceleration\": 18.2, \"model_year\": 77, \"origin\": 3, \"car_name\": \"toyota corolla liftback\"}, {\"mpg\": 25.5, \"cylinders\": 4, \"displacement\": 140.0, \"horsepower\": \"89.00\", \"weight\": 2755.0, \"acceleration\": 15.8, \"model_year\": 77, \"origin\": 1, \"car_name\": \"ford mustang ii 2+2\"}, {\"mpg\": 30.5, \"cylinders\": 4, \"displacement\": 98.0, \"horsepower\": \"63.00\", \"weight\": 2051.0, \"acceleration\": 17.0, \"model_year\": 77, \"origin\": 1, \"car_name\": \"chevrolet chevette\"}, {\"mpg\": 33.5, \"cylinders\": 4, \"displacement\": 98.0, \"horsepower\": \"83.00\", \"weight\": 2075.0, \"acceleration\": 15.9, \"model_year\": 77, \"origin\": 1, \"car_name\": \"dodge colt m/m\"}, {\"mpg\": 30.0, \"cylinders\": 4, \"displacement\": 97.0, \"horsepower\": \"67.00\", \"weight\": 1985.0, \"acceleration\": 16.4, \"model_year\": 77, \"origin\": 3, \"car_name\": \"subaru dl\"}, {\"mpg\": 30.5, \"cylinders\": 4, \"displacement\": 97.0, \"horsepower\": \"78.00\", \"weight\": 2190.0, \"acceleration\": 14.1, \"model_year\": 77, \"origin\": 2, \"car_name\": \"volkswagen dasher\"}, {\"mpg\": 22.0, \"cylinders\": 6, \"displacement\": 146.0, \"horsepower\": \"97.00\", \"weight\": 2815.0, \"acceleration\": 14.5, \"model_year\": 77, \"origin\": 3, \"car_name\": \"datsun 810\"}, {\"mpg\": 21.5, \"cylinders\": 4, \"displacement\": 121.0, \"horsepower\": \"110.0\", \"weight\": 2600.0, \"acceleration\": 12.8, \"model_year\": 77, \"origin\": 2, \"car_name\": \"bmw 320i\"}, {\"mpg\": 21.5, \"cylinders\": 3, \"displacement\": 80.0, \"horsepower\": \"110.0\", \"weight\": 2720.0, \"acceleration\": 13.5, \"model_year\": 77, \"origin\": 3, \"car_name\": \"mazda rx-4\"}, {\"mpg\": 43.1, \"cylinders\": 4, \"displacement\": 90.0, \"horsepower\": \"48.00\", \"weight\": 1985.0, \"acceleration\": 21.5, \"model_year\": 78, \"origin\": 2, \"car_name\": \"volkswagen rabbit custom diesel\"}, {\"mpg\": 36.1, \"cylinders\": 4, \"displacement\": 98.0, \"horsepower\": \"66.00\", \"weight\": 1800.0, \"acceleration\": 14.4, \"model_year\": 78, \"origin\": 1, \"car_name\": \"ford fiesta\"}, {\"mpg\": 32.8, \"cylinders\": 4, \"displacement\": 78.0, \"horsepower\": \"52.00\", \"weight\": 1985.0, \"acceleration\": 19.4, \"model_year\": 78, \"origin\": 3, \"car_name\": \"mazda glc deluxe\"}, {\"mpg\": 39.4, \"cylinders\": 4, \"displacement\": 85.0, \"horsepower\": \"70.00\", \"weight\": 2070.0, \"acceleration\": 18.6, \"model_year\": 78, \"origin\": 3, \"car_name\": \"datsun b210 gx\"}, {\"mpg\": 36.1, \"cylinders\": 4, \"displacement\": 91.0, \"horsepower\": \"60.00\", \"weight\": 1800.0, \"acceleration\": 16.4, \"model_year\": 78, \"origin\": 3, \"car_name\": \"honda civic cvcc\"}, {\"mpg\": 19.9, \"cylinders\": 8, \"displacement\": 260.0, \"horsepower\": \"110.0\", \"weight\": 3365.0, \"acceleration\": 15.5, \"model_year\": 78, \"origin\": 1, \"car_name\": \"oldsmobile cutlass salon brougham\"}, {\"mpg\": 19.4, \"cylinders\": 8, \"displacement\": 318.0, \"horsepower\": \"140.0\", \"weight\": 3735.0, \"acceleration\": 13.2, \"model_year\": 78, \"origin\": 1, \"car_name\": \"dodge diplomat\"}, {\"mpg\": 20.2, \"cylinders\": 8, \"displacement\": 302.0, \"horsepower\": \"139.0\", \"weight\": 3570.0, \"acceleration\": 12.8, \"model_year\": 78, \"origin\": 1, \"car_name\": \"mercury monarch ghia\"}, {\"mpg\": 19.2, \"cylinders\": 6, \"displacement\": 231.0, \"horsepower\": \"105.0\", \"weight\": 3535.0, \"acceleration\": 19.2, \"model_year\": 78, \"origin\": 1, \"car_name\": \"pontiac phoenix lj\"}, {\"mpg\": 20.5, \"cylinders\": 6, \"displacement\": 200.0, \"horsepower\": \"95.00\", \"weight\": 3155.0, \"acceleration\": 18.2, \"model_year\": 78, \"origin\": 1, \"car_name\": \"chevrolet malibu\"}, {\"mpg\": 20.2, \"cylinders\": 6, \"displacement\": 200.0, \"horsepower\": \"85.00\", \"weight\": 2965.0, \"acceleration\": 15.8, \"model_year\": 78, \"origin\": 1, \"car_name\": \"ford fairmont (auto)\"}, {\"mpg\": 25.1, \"cylinders\": 4, \"displacement\": 140.0, \"horsepower\": \"88.00\", \"weight\": 2720.0, \"acceleration\": 15.4, \"model_year\": 78, \"origin\": 1, \"car_name\": \"ford fairmont (man)\"}, {\"mpg\": 20.5, \"cylinders\": 6, \"displacement\": 225.0, \"horsepower\": \"100.0\", \"weight\": 3430.0, \"acceleration\": 17.2, \"model_year\": 78, \"origin\": 1, \"car_name\": \"plymouth volare\"}, {\"mpg\": 19.4, \"cylinders\": 6, \"displacement\": 232.0, \"horsepower\": \"90.00\", \"weight\": 3210.0, \"acceleration\": 17.2, \"model_year\": 78, \"origin\": 1, \"car_name\": \"amc concord\"}, {\"mpg\": 20.6, \"cylinders\": 6, \"displacement\": 231.0, \"horsepower\": \"105.0\", \"weight\": 3380.0, \"acceleration\": 15.8, \"model_year\": 78, \"origin\": 1, \"car_name\": \"buick century special\"}, {\"mpg\": 20.8, \"cylinders\": 6, \"displacement\": 200.0, \"horsepower\": \"85.00\", \"weight\": 3070.0, \"acceleration\": 16.7, \"model_year\": 78, \"origin\": 1, \"car_name\": \"mercury zephyr\"}, {\"mpg\": 18.6, \"cylinders\": 6, \"displacement\": 225.0, \"horsepower\": \"110.0\", \"weight\": 3620.0, \"acceleration\": 18.7, \"model_year\": 78, \"origin\": 1, \"car_name\": \"dodge aspen\"}, {\"mpg\": 18.1, \"cylinders\": 6, \"displacement\": 258.0, \"horsepower\": \"120.0\", \"weight\": 3410.0, \"acceleration\": 15.1, \"model_year\": 78, \"origin\": 1, \"car_name\": \"amc concord d/l\"}, {\"mpg\": 19.2, \"cylinders\": 8, \"displacement\": 305.0, \"horsepower\": \"145.0\", \"weight\": 3425.0, \"acceleration\": 13.2, \"model_year\": 78, \"origin\": 1, \"car_name\": \"chevrolet monte carlo landau\"}, {\"mpg\": 17.7, \"cylinders\": 6, \"displacement\": 231.0, \"horsepower\": \"165.0\", \"weight\": 3445.0, \"acceleration\": 13.4, \"model_year\": 78, \"origin\": 1, \"car_name\": \"buick regal sport coupe (turbo)\"}, {\"mpg\": 18.1, \"cylinders\": 8, \"displacement\": 302.0, \"horsepower\": \"139.0\", \"weight\": 3205.0, \"acceleration\": 11.2, \"model_year\": 78, \"origin\": 1, \"car_name\": \"ford futura\"}, {\"mpg\": 17.5, \"cylinders\": 8, \"displacement\": 318.0, \"horsepower\": \"140.0\", \"weight\": 4080.0, \"acceleration\": 13.7, \"model_year\": 78, \"origin\": 1, \"car_name\": \"dodge magnum xe\"}, {\"mpg\": 30.0, \"cylinders\": 4, \"displacement\": 98.0, \"horsepower\": \"68.00\", \"weight\": 2155.0, \"acceleration\": 16.5, \"model_year\": 78, \"origin\": 1, \"car_name\": \"chevrolet chevette\"}, {\"mpg\": 27.5, \"cylinders\": 4, \"displacement\": 134.0, \"horsepower\": \"95.00\", \"weight\": 2560.0, \"acceleration\": 14.2, \"model_year\": 78, \"origin\": 3, \"car_name\": \"toyota corona\"}, {\"mpg\": 27.2, \"cylinders\": 4, \"displacement\": 119.0, \"horsepower\": \"97.00\", \"weight\": 2300.0, \"acceleration\": 14.7, \"model_year\": 78, \"origin\": 3, \"car_name\": \"datsun 510\"}, {\"mpg\": 30.9, \"cylinders\": 4, \"displacement\": 105.0, \"horsepower\": \"75.00\", \"weight\": 2230.0, \"acceleration\": 14.5, \"model_year\": 78, \"origin\": 1, \"car_name\": \"dodge omni\"}, {\"mpg\": 21.1, \"cylinders\": 4, \"displacement\": 134.0, \"horsepower\": \"95.00\", \"weight\": 2515.0, \"acceleration\": 14.8, \"model_year\": 78, \"origin\": 3, \"car_name\": \"toyota celica gt liftback\"}, {\"mpg\": 23.2, \"cylinders\": 4, \"displacement\": 156.0, \"horsepower\": \"105.0\", \"weight\": 2745.0, \"acceleration\": 16.7, \"model_year\": 78, \"origin\": 1, \"car_name\": \"plymouth sapporo\"}, {\"mpg\": 23.8, \"cylinders\": 4, \"displacement\": 151.0, \"horsepower\": \"85.00\", \"weight\": 2855.0, \"acceleration\": 17.6, \"model_year\": 78, \"origin\": 1, \"car_name\": \"oldsmobile starfire sx\"}, {\"mpg\": 23.9, \"cylinders\": 4, \"displacement\": 119.0, \"horsepower\": \"97.00\", \"weight\": 2405.0, \"acceleration\": 14.9, \"model_year\": 78, \"origin\": 3, \"car_name\": \"datsun 200-sx\"}, {\"mpg\": 20.3, \"cylinders\": 5, \"displacement\": 131.0, \"horsepower\": \"103.0\", \"weight\": 2830.0, \"acceleration\": 15.9, \"model_year\": 78, \"origin\": 2, \"car_name\": \"audi 5000\"}, {\"mpg\": 17.0, \"cylinders\": 6, \"displacement\": 163.0, \"horsepower\": \"125.0\", \"weight\": 3140.0, \"acceleration\": 13.6, \"model_year\": 78, \"origin\": 2, \"car_name\": \"volvo 264gl\"}, {\"mpg\": 21.6, \"cylinders\": 4, \"displacement\": 121.0, \"horsepower\": \"115.0\", \"weight\": 2795.0, \"acceleration\": 15.7, \"model_year\": 78, \"origin\": 2, \"car_name\": \"saab 99gle\"}, {\"mpg\": 16.2, \"cylinders\": 6, \"displacement\": 163.0, \"horsepower\": \"133.0\", \"weight\": 3410.0, \"acceleration\": 15.8, \"model_year\": 78, \"origin\": 2, \"car_name\": \"peugeot 604sl\"}, {\"mpg\": 31.5, \"cylinders\": 4, \"displacement\": 89.0, \"horsepower\": \"71.00\", \"weight\": 1990.0, \"acceleration\": 14.9, \"model_year\": 78, \"origin\": 2, \"car_name\": \"volkswagen scirocco\"}, {\"mpg\": 29.5, \"cylinders\": 4, \"displacement\": 98.0, \"horsepower\": \"68.00\", \"weight\": 2135.0, \"acceleration\": 16.6, \"model_year\": 78, \"origin\": 3, \"car_name\": \"honda accord lx\"}, {\"mpg\": 21.5, \"cylinders\": 6, \"displacement\": 231.0, \"horsepower\": \"115.0\", \"weight\": 3245.0, \"acceleration\": 15.4, \"model_year\": 79, \"origin\": 1, \"car_name\": \"pontiac lemans v6\"}, {\"mpg\": 19.8, \"cylinders\": 6, \"displacement\": 200.0, \"horsepower\": \"85.00\", \"weight\": 2990.0, \"acceleration\": 18.2, \"model_year\": 79, \"origin\": 1, \"car_name\": \"mercury zephyr 6\"}, {\"mpg\": 22.3, \"cylinders\": 4, \"displacement\": 140.0, \"horsepower\": \"88.00\", \"weight\": 2890.0, \"acceleration\": 17.3, \"model_year\": 79, \"origin\": 1, \"car_name\": \"ford fairmont 4\"}, {\"mpg\": 20.2, \"cylinders\": 6, \"displacement\": 232.0, \"horsepower\": \"90.00\", \"weight\": 3265.0, \"acceleration\": 18.2, \"model_year\": 79, \"origin\": 1, \"car_name\": \"amc concord dl 6\"}, {\"mpg\": 20.6, \"cylinders\": 6, \"displacement\": 225.0, \"horsepower\": \"110.0\", \"weight\": 3360.0, \"acceleration\": 16.6, \"model_year\": 79, \"origin\": 1, \"car_name\": \"dodge aspen 6\"}, {\"mpg\": 17.0, \"cylinders\": 8, \"displacement\": 305.0, \"horsepower\": \"130.0\", \"weight\": 3840.0, \"acceleration\": 15.4, \"model_year\": 79, \"origin\": 1, \"car_name\": \"chevrolet caprice classic\"}, {\"mpg\": 17.6, \"cylinders\": 8, \"displacement\": 302.0, \"horsepower\": \"129.0\", \"weight\": 3725.0, \"acceleration\": 13.4, \"model_year\": 79, \"origin\": 1, \"car_name\": \"ford ltd landau\"}, {\"mpg\": 16.5, \"cylinders\": 8, \"displacement\": 351.0, \"horsepower\": \"138.0\", \"weight\": 3955.0, \"acceleration\": 13.2, \"model_year\": 79, \"origin\": 1, \"car_name\": \"mercury grand marquis\"}, {\"mpg\": 18.2, \"cylinders\": 8, \"displacement\": 318.0, \"horsepower\": \"135.0\", \"weight\": 3830.0, \"acceleration\": 15.2, \"model_year\": 79, \"origin\": 1, \"car_name\": \"dodge st. regis\"}, {\"mpg\": 16.9, \"cylinders\": 8, \"displacement\": 350.0, \"horsepower\": \"155.0\", \"weight\": 4360.0, \"acceleration\": 14.9, \"model_year\": 79, \"origin\": 1, \"car_name\": \"buick estate wagon (sw)\"}, {\"mpg\": 15.5, \"cylinders\": 8, \"displacement\": 351.0, \"horsepower\": \"142.0\", \"weight\": 4054.0, \"acceleration\": 14.3, \"model_year\": 79, \"origin\": 1, \"car_name\": \"ford country squire (sw)\"}, {\"mpg\": 19.2, \"cylinders\": 8, \"displacement\": 267.0, \"horsepower\": \"125.0\", \"weight\": 3605.0, \"acceleration\": 15.0, \"model_year\": 79, \"origin\": 1, \"car_name\": \"chevrolet malibu classic (sw)\"}, {\"mpg\": 18.5, \"cylinders\": 8, \"displacement\": 360.0, \"horsepower\": \"150.0\", \"weight\": 3940.0, \"acceleration\": 13.0, \"model_year\": 79, \"origin\": 1, \"car_name\": \"chrysler lebaron town @ country (sw)\"}, {\"mpg\": 31.9, \"cylinders\": 4, \"displacement\": 89.0, \"horsepower\": \"71.00\", \"weight\": 1925.0, \"acceleration\": 14.0, \"model_year\": 79, \"origin\": 2, \"car_name\": \"vw rabbit custom\"}, {\"mpg\": 34.1, \"cylinders\": 4, \"displacement\": 86.0, \"horsepower\": \"65.00\", \"weight\": 1975.0, \"acceleration\": 15.2, \"model_year\": 79, \"origin\": 3, \"car_name\": \"maxda glc deluxe\"}, {\"mpg\": 35.7, \"cylinders\": 4, \"displacement\": 98.0, \"horsepower\": \"80.00\", \"weight\": 1915.0, \"acceleration\": 14.4, \"model_year\": 79, \"origin\": 1, \"car_name\": \"dodge colt hatchback custom\"}, {\"mpg\": 27.4, \"cylinders\": 4, \"displacement\": 121.0, \"horsepower\": \"80.00\", \"weight\": 2670.0, \"acceleration\": 15.0, \"model_year\": 79, \"origin\": 1, \"car_name\": \"amc spirit dl\"}, {\"mpg\": 25.4, \"cylinders\": 5, \"displacement\": 183.0, \"horsepower\": \"77.00\", \"weight\": 3530.0, \"acceleration\": 20.1, \"model_year\": 79, \"origin\": 2, \"car_name\": \"mercedes benz 300d\"}, {\"mpg\": 23.0, \"cylinders\": 8, \"displacement\": 350.0, \"horsepower\": \"125.0\", \"weight\": 3900.0, \"acceleration\": 17.4, \"model_year\": 79, \"origin\": 1, \"car_name\": \"cadillac eldorado\"}, {\"mpg\": 27.2, \"cylinders\": 4, \"displacement\": 141.0, \"horsepower\": \"71.00\", \"weight\": 3190.0, \"acceleration\": 24.8, \"model_year\": 79, \"origin\": 2, \"car_name\": \"peugeot 504\"}, {\"mpg\": 23.9, \"cylinders\": 8, \"displacement\": 260.0, \"horsepower\": \"90.00\", \"weight\": 3420.0, \"acceleration\": 22.2, \"model_year\": 79, \"origin\": 1, \"car_name\": \"oldsmobile cutlass salon brougham\"}, {\"mpg\": 34.2, \"cylinders\": 4, \"displacement\": 105.0, \"horsepower\": \"70.00\", \"weight\": 2200.0, \"acceleration\": 13.2, \"model_year\": 79, \"origin\": 1, \"car_name\": \"plymouth horizon\"}, {\"mpg\": 34.5, \"cylinders\": 4, \"displacement\": 105.0, \"horsepower\": \"70.00\", \"weight\": 2150.0, \"acceleration\": 14.9, \"model_year\": 79, \"origin\": 1, \"car_name\": \"plymouth horizon tc3\"}, {\"mpg\": 31.8, \"cylinders\": 4, \"displacement\": 85.0, \"horsepower\": \"65.00\", \"weight\": 2020.0, \"acceleration\": 19.2, \"model_year\": 79, \"origin\": 3, \"car_name\": \"datsun 210\"}, {\"mpg\": 37.3, \"cylinders\": 4, \"displacement\": 91.0, \"horsepower\": \"69.00\", \"weight\": 2130.0, \"acceleration\": 14.7, \"model_year\": 79, \"origin\": 2, \"car_name\": \"fiat strada custom\"}, {\"mpg\": 28.4, \"cylinders\": 4, \"displacement\": 151.0, \"horsepower\": \"90.00\", \"weight\": 2670.0, \"acceleration\": 16.0, \"model_year\": 79, \"origin\": 1, \"car_name\": \"buick skylark limited\"}, {\"mpg\": 28.8, \"cylinders\": 6, \"displacement\": 173.0, \"horsepower\": \"115.0\", \"weight\": 2595.0, \"acceleration\": 11.3, \"model_year\": 79, \"origin\": 1, \"car_name\": \"chevrolet citation\"}, {\"mpg\": 26.8, \"cylinders\": 6, \"displacement\": 173.0, \"horsepower\": \"115.0\", \"weight\": 2700.0, \"acceleration\": 12.9, \"model_year\": 79, \"origin\": 1, \"car_name\": \"oldsmobile omega brougham\"}, {\"mpg\": 33.5, \"cylinders\": 4, \"displacement\": 151.0, \"horsepower\": \"90.00\", \"weight\": 2556.0, \"acceleration\": 13.2, \"model_year\": 79, \"origin\": 1, \"car_name\": \"pontiac phoenix\"}, {\"mpg\": 41.5, \"cylinders\": 4, \"displacement\": 98.0, \"horsepower\": \"76.00\", \"weight\": 2144.0, \"acceleration\": 14.7, \"model_year\": 80, \"origin\": 2, \"car_name\": \"vw rabbit\"}, {\"mpg\": 38.1, \"cylinders\": 4, \"displacement\": 89.0, \"horsepower\": \"60.00\", \"weight\": 1968.0, \"acceleration\": 18.8, \"model_year\": 80, \"origin\": 3, \"car_name\": \"toyota corolla tercel\"}, {\"mpg\": 32.1, \"cylinders\": 4, \"displacement\": 98.0, \"horsepower\": \"70.00\", \"weight\": 2120.0, \"acceleration\": 15.5, \"model_year\": 80, \"origin\": 1, \"car_name\": \"chevrolet chevette\"}, {\"mpg\": 37.2, \"cylinders\": 4, \"displacement\": 86.0, \"horsepower\": \"65.00\", \"weight\": 2019.0, \"acceleration\": 16.4, \"model_year\": 80, \"origin\": 3, \"car_name\": \"datsun 310\"}, {\"mpg\": 28.0, \"cylinders\": 4, \"displacement\": 151.0, \"horsepower\": \"90.00\", \"weight\": 2678.0, \"acceleration\": 16.5, \"model_year\": 80, \"origin\": 1, \"car_name\": \"chevrolet citation\"}, {\"mpg\": 26.4, \"cylinders\": 4, \"displacement\": 140.0, \"horsepower\": \"88.00\", \"weight\": 2870.0, \"acceleration\": 18.1, \"model_year\": 80, \"origin\": 1, \"car_name\": \"ford fairmont\"}, {\"mpg\": 24.3, \"cylinders\": 4, \"displacement\": 151.0, \"horsepower\": \"90.00\", \"weight\": 3003.0, \"acceleration\": 20.1, \"model_year\": 80, \"origin\": 1, \"car_name\": \"amc concord\"}, {\"mpg\": 19.1, \"cylinders\": 6, \"displacement\": 225.0, \"horsepower\": \"90.00\", \"weight\": 3381.0, \"acceleration\": 18.7, \"model_year\": 80, \"origin\": 1, \"car_name\": \"dodge aspen\"}, {\"mpg\": 34.3, \"cylinders\": 4, \"displacement\": 97.0, \"horsepower\": \"78.00\", \"weight\": 2188.0, \"acceleration\": 15.8, \"model_year\": 80, \"origin\": 2, \"car_name\": \"audi 4000\"}, {\"mpg\": 29.8, \"cylinders\": 4, \"displacement\": 134.0, \"horsepower\": \"90.00\", \"weight\": 2711.0, \"acceleration\": 15.5, \"model_year\": 80, \"origin\": 3, \"car_name\": \"toyota corona liftback\"}, {\"mpg\": 31.3, \"cylinders\": 4, \"displacement\": 120.0, \"horsepower\": \"75.00\", \"weight\": 2542.0, \"acceleration\": 17.5, \"model_year\": 80, \"origin\": 3, \"car_name\": \"mazda 626\"}, {\"mpg\": 37.0, \"cylinders\": 4, \"displacement\": 119.0, \"horsepower\": \"92.00\", \"weight\": 2434.0, \"acceleration\": 15.0, \"model_year\": 80, \"origin\": 3, \"car_name\": \"datsun 510 hatchback\"}, {\"mpg\": 32.2, \"cylinders\": 4, \"displacement\": 108.0, \"horsepower\": \"75.00\", \"weight\": 2265.0, \"acceleration\": 15.2, \"model_year\": 80, \"origin\": 3, \"car_name\": \"toyota corolla\"}, {\"mpg\": 46.6, \"cylinders\": 4, \"displacement\": 86.0, \"horsepower\": \"65.00\", \"weight\": 2110.0, \"acceleration\": 17.9, \"model_year\": 80, \"origin\": 3, \"car_name\": \"mazda glc\"}, {\"mpg\": 27.9, \"cylinders\": 4, \"displacement\": 156.0, \"horsepower\": \"105.0\", \"weight\": 2800.0, \"acceleration\": 14.4, \"model_year\": 80, \"origin\": 1, \"car_name\": \"dodge colt\"}, {\"mpg\": 40.8, \"cylinders\": 4, \"displacement\": 85.0, \"horsepower\": \"65.00\", \"weight\": 2110.0, \"acceleration\": 19.2, \"model_year\": 80, \"origin\": 3, \"car_name\": \"datsun 210\"}, {\"mpg\": 44.3, \"cylinders\": 4, \"displacement\": 90.0, \"horsepower\": \"48.00\", \"weight\": 2085.0, \"acceleration\": 21.7, \"model_year\": 80, \"origin\": 2, \"car_name\": \"vw rabbit c (diesel)\"}, {\"mpg\": 43.4, \"cylinders\": 4, \"displacement\": 90.0, \"horsepower\": \"48.00\", \"weight\": 2335.0, \"acceleration\": 23.7, \"model_year\": 80, \"origin\": 2, \"car_name\": \"vw dasher (diesel)\"}, {\"mpg\": 36.4, \"cylinders\": 5, \"displacement\": 121.0, \"horsepower\": \"67.00\", \"weight\": 2950.0, \"acceleration\": 19.9, \"model_year\": 80, \"origin\": 2, \"car_name\": \"audi 5000s (diesel)\"}, {\"mpg\": 30.0, \"cylinders\": 4, \"displacement\": 146.0, \"horsepower\": \"67.00\", \"weight\": 3250.0, \"acceleration\": 21.8, \"model_year\": 80, \"origin\": 2, \"car_name\": \"mercedes-benz 240d\"}, {\"mpg\": 44.6, \"cylinders\": 4, \"displacement\": 91.0, \"horsepower\": \"67.00\", \"weight\": 1850.0, \"acceleration\": 13.8, \"model_year\": 80, \"origin\": 3, \"car_name\": \"honda civic 1500 gl\"}, {\"mpg\": 33.8, \"cylinders\": 4, \"displacement\": 97.0, \"horsepower\": \"67.00\", \"weight\": 2145.0, \"acceleration\": 18.0, \"model_year\": 80, \"origin\": 3, \"car_name\": \"subaru dl\"}, {\"mpg\": 29.8, \"cylinders\": 4, \"displacement\": 89.0, \"horsepower\": \"62.00\", \"weight\": 1845.0, \"acceleration\": 15.3, \"model_year\": 80, \"origin\": 2, \"car_name\": \"vokswagen rabbit\"}, {\"mpg\": 32.7, \"cylinders\": 6, \"displacement\": 168.0, \"horsepower\": \"132.0\", \"weight\": 2910.0, \"acceleration\": 11.4, \"model_year\": 80, \"origin\": 3, \"car_name\": \"datsun 280-zx\"}, {\"mpg\": 23.7, \"cylinders\": 3, \"displacement\": 70.0, \"horsepower\": \"100.0\", \"weight\": 2420.0, \"acceleration\": 12.5, \"model_year\": 80, \"origin\": 3, \"car_name\": \"mazda rx-7 gs\"}, {\"mpg\": 35.0, \"cylinders\": 4, \"displacement\": 122.0, \"horsepower\": \"88.00\", \"weight\": 2500.0, \"acceleration\": 15.1, \"model_year\": 80, \"origin\": 2, \"car_name\": \"triumph tr7 coupe\"}, {\"mpg\": 32.4, \"cylinders\": 4, \"displacement\": 107.0, \"horsepower\": \"72.00\", \"weight\": 2290.0, \"acceleration\": 17.0, \"model_year\": 80, \"origin\": 3, \"car_name\": \"honda accord\"}, {\"mpg\": 27.2, \"cylinders\": 4, \"displacement\": 135.0, \"horsepower\": \"84.00\", \"weight\": 2490.0, \"acceleration\": 15.7, \"model_year\": 81, \"origin\": 1, \"car_name\": \"plymouth reliant\"}, {\"mpg\": 26.6, \"cylinders\": 4, \"displacement\": 151.0, \"horsepower\": \"84.00\", \"weight\": 2635.0, \"acceleration\": 16.4, \"model_year\": 81, \"origin\": 1, \"car_name\": \"buick skylark\"}, {\"mpg\": 25.8, \"cylinders\": 4, \"displacement\": 156.0, \"horsepower\": \"92.00\", \"weight\": 2620.0, \"acceleration\": 14.4, \"model_year\": 81, \"origin\": 1, \"car_name\": \"dodge aries wagon (sw)\"}, {\"mpg\": 23.5, \"cylinders\": 6, \"displacement\": 173.0, \"horsepower\": \"110.0\", \"weight\": 2725.0, \"acceleration\": 12.6, \"model_year\": 81, \"origin\": 1, \"car_name\": \"chevrolet citation\"}, {\"mpg\": 30.0, \"cylinders\": 4, \"displacement\": 135.0, \"horsepower\": \"84.00\", \"weight\": 2385.0, \"acceleration\": 12.9, \"model_year\": 81, \"origin\": 1, \"car_name\": \"plymouth reliant\"}, {\"mpg\": 39.1, \"cylinders\": 4, \"displacement\": 79.0, \"horsepower\": \"58.00\", \"weight\": 1755.0, \"acceleration\": 16.9, \"model_year\": 81, \"origin\": 3, \"car_name\": \"toyota starlet\"}, {\"mpg\": 39.0, \"cylinders\": 4, \"displacement\": 86.0, \"horsepower\": \"64.00\", \"weight\": 1875.0, \"acceleration\": 16.4, \"model_year\": 81, \"origin\": 1, \"car_name\": \"plymouth champ\"}, {\"mpg\": 35.1, \"cylinders\": 4, \"displacement\": 81.0, \"horsepower\": \"60.00\", \"weight\": 1760.0, \"acceleration\": 16.1, \"model_year\": 81, \"origin\": 3, \"car_name\": \"honda civic 1300\"}, {\"mpg\": 32.3, \"cylinders\": 4, \"displacement\": 97.0, \"horsepower\": \"67.00\", \"weight\": 2065.0, \"acceleration\": 17.8, \"model_year\": 81, \"origin\": 3, \"car_name\": \"subaru\"}, {\"mpg\": 37.0, \"cylinders\": 4, \"displacement\": 85.0, \"horsepower\": \"65.00\", \"weight\": 1975.0, \"acceleration\": 19.4, \"model_year\": 81, \"origin\": 3, \"car_name\": \"datsun 210 mpg\"}, {\"mpg\": 37.7, \"cylinders\": 4, \"displacement\": 89.0, \"horsepower\": \"62.00\", \"weight\": 2050.0, \"acceleration\": 17.3, \"model_year\": 81, \"origin\": 3, \"car_name\": \"toyota tercel\"}, {\"mpg\": 34.1, \"cylinders\": 4, \"displacement\": 91.0, \"horsepower\": \"68.00\", \"weight\": 1985.0, \"acceleration\": 16.0, \"model_year\": 81, \"origin\": 3, \"car_name\": \"mazda glc 4\"}, {\"mpg\": 34.7, \"cylinders\": 4, \"displacement\": 105.0, \"horsepower\": \"63.00\", \"weight\": 2215.0, \"acceleration\": 14.9, \"model_year\": 81, \"origin\": 1, \"car_name\": \"plymouth horizon 4\"}, {\"mpg\": 34.4, \"cylinders\": 4, \"displacement\": 98.0, \"horsepower\": \"65.00\", \"weight\": 2045.0, \"acceleration\": 16.2, \"model_year\": 81, \"origin\": 1, \"car_name\": \"ford escort 4w\"}, {\"mpg\": 29.9, \"cylinders\": 4, \"displacement\": 98.0, \"horsepower\": \"65.00\", \"weight\": 2380.0, \"acceleration\": 20.7, \"model_year\": 81, \"origin\": 1, \"car_name\": \"ford escort 2h\"}, {\"mpg\": 33.0, \"cylinders\": 4, \"displacement\": 105.0, \"horsepower\": \"74.00\", \"weight\": 2190.0, \"acceleration\": 14.2, \"model_year\": 81, \"origin\": 2, \"car_name\": \"volkswagen jetta\"}, {\"mpg\": 33.7, \"cylinders\": 4, \"displacement\": 107.0, \"horsepower\": \"75.00\", \"weight\": 2210.0, \"acceleration\": 14.4, \"model_year\": 81, \"origin\": 3, \"car_name\": \"honda prelude\"}, {\"mpg\": 32.4, \"cylinders\": 4, \"displacement\": 108.0, \"horsepower\": \"75.00\", \"weight\": 2350.0, \"acceleration\": 16.8, \"model_year\": 81, \"origin\": 3, \"car_name\": \"toyota corolla\"}, {\"mpg\": 32.9, \"cylinders\": 4, \"displacement\": 119.0, \"horsepower\": \"100.0\", \"weight\": 2615.0, \"acceleration\": 14.8, \"model_year\": 81, \"origin\": 3, \"car_name\": \"datsun 200sx\"}, {\"mpg\": 31.6, \"cylinders\": 4, \"displacement\": 120.0, \"horsepower\": \"74.00\", \"weight\": 2635.0, \"acceleration\": 18.3, \"model_year\": 81, \"origin\": 3, \"car_name\": \"mazda 626\"}, {\"mpg\": 28.1, \"cylinders\": 4, \"displacement\": 141.0, \"horsepower\": \"80.00\", \"weight\": 3230.0, \"acceleration\": 20.4, \"model_year\": 81, \"origin\": 2, \"car_name\": \"peugeot 505s turbo diesel\"}, {\"mpg\": 30.7, \"cylinders\": 6, \"displacement\": 145.0, \"horsepower\": \"76.00\", \"weight\": 3160.0, \"acceleration\": 19.6, \"model_year\": 81, \"origin\": 2, \"car_name\": \"volvo diesel\"}, {\"mpg\": 25.4, \"cylinders\": 6, \"displacement\": 168.0, \"horsepower\": \"116.0\", \"weight\": 2900.0, \"acceleration\": 12.6, \"model_year\": 81, \"origin\": 3, \"car_name\": \"toyota cressida\"}, {\"mpg\": 24.2, \"cylinders\": 6, \"displacement\": 146.0, \"horsepower\": \"120.0\", \"weight\": 2930.0, \"acceleration\": 13.8, \"model_year\": 81, \"origin\": 3, \"car_name\": \"datsun 810 maxima\"}, {\"mpg\": 22.4, \"cylinders\": 6, \"displacement\": 231.0, \"horsepower\": \"110.0\", \"weight\": 3415.0, \"acceleration\": 15.8, \"model_year\": 81, \"origin\": 1, \"car_name\": \"buick century\"}, {\"mpg\": 26.6, \"cylinders\": 8, \"displacement\": 350.0, \"horsepower\": \"105.0\", \"weight\": 3725.0, \"acceleration\": 19.0, \"model_year\": 81, \"origin\": 1, \"car_name\": \"oldsmobile cutlass ls\"}, {\"mpg\": 20.2, \"cylinders\": 6, \"displacement\": 200.0, \"horsepower\": \"88.00\", \"weight\": 3060.0, \"acceleration\": 17.1, \"model_year\": 81, \"origin\": 1, \"car_name\": \"ford granada gl\"}, {\"mpg\": 17.6, \"cylinders\": 6, \"displacement\": 225.0, \"horsepower\": \"85.00\", \"weight\": 3465.0, \"acceleration\": 16.6, \"model_year\": 81, \"origin\": 1, \"car_name\": \"chrysler lebaron salon\"}, {\"mpg\": 28.0, \"cylinders\": 4, \"displacement\": 112.0, \"horsepower\": \"88.00\", \"weight\": 2605.0, \"acceleration\": 19.6, \"model_year\": 82, \"origin\": 1, \"car_name\": \"chevrolet cavalier\"}, {\"mpg\": 27.0, \"cylinders\": 4, \"displacement\": 112.0, \"horsepower\": \"88.00\", \"weight\": 2640.0, \"acceleration\": 18.6, \"model_year\": 82, \"origin\": 1, \"car_name\": \"chevrolet cavalier wagon\"}, {\"mpg\": 34.0, \"cylinders\": 4, \"displacement\": 112.0, \"horsepower\": \"88.00\", \"weight\": 2395.0, \"acceleration\": 18.0, \"model_year\": 82, \"origin\": 1, \"car_name\": \"chevrolet cavalier 2-door\"}, {\"mpg\": 31.0, \"cylinders\": 4, \"displacement\": 112.0, \"horsepower\": \"85.00\", \"weight\": 2575.0, \"acceleration\": 16.2, \"model_year\": 82, \"origin\": 1, \"car_name\": \"pontiac j2000 se hatchback\"}, {\"mpg\": 29.0, \"cylinders\": 4, \"displacement\": 135.0, \"horsepower\": \"84.00\", \"weight\": 2525.0, \"acceleration\": 16.0, \"model_year\": 82, \"origin\": 1, \"car_name\": \"dodge aries se\"}, {\"mpg\": 27.0, \"cylinders\": 4, \"displacement\": 151.0, \"horsepower\": \"90.00\", \"weight\": 2735.0, \"acceleration\": 18.0, \"model_year\": 82, \"origin\": 1, \"car_name\": \"pontiac phoenix\"}, {\"mpg\": 24.0, \"cylinders\": 4, \"displacement\": 140.0, \"horsepower\": \"92.00\", \"weight\": 2865.0, \"acceleration\": 16.4, \"model_year\": 82, \"origin\": 1, \"car_name\": \"ford fairmont futura\"}, {\"mpg\": 36.0, \"cylinders\": 4, \"displacement\": 105.0, \"horsepower\": \"74.00\", \"weight\": 1980.0, \"acceleration\": 15.3, \"model_year\": 82, \"origin\": 2, \"car_name\": \"volkswagen rabbit l\"}, {\"mpg\": 37.0, \"cylinders\": 4, \"displacement\": 91.0, \"horsepower\": \"68.00\", \"weight\": 2025.0, \"acceleration\": 18.2, \"model_year\": 82, \"origin\": 3, \"car_name\": \"mazda glc custom l\"}, {\"mpg\": 31.0, \"cylinders\": 4, \"displacement\": 91.0, \"horsepower\": \"68.00\", \"weight\": 1970.0, \"acceleration\": 17.6, \"model_year\": 82, \"origin\": 3, \"car_name\": \"mazda glc custom\"}, {\"mpg\": 38.0, \"cylinders\": 4, \"displacement\": 105.0, \"horsepower\": \"63.00\", \"weight\": 2125.0, \"acceleration\": 14.7, \"model_year\": 82, \"origin\": 1, \"car_name\": \"plymouth horizon miser\"}, {\"mpg\": 36.0, \"cylinders\": 4, \"displacement\": 98.0, \"horsepower\": \"70.00\", \"weight\": 2125.0, \"acceleration\": 17.3, \"model_year\": 82, \"origin\": 1, \"car_name\": \"mercury lynx l\"}, {\"mpg\": 36.0, \"cylinders\": 4, \"displacement\": 120.0, \"horsepower\": \"88.00\", \"weight\": 2160.0, \"acceleration\": 14.5, \"model_year\": 82, \"origin\": 3, \"car_name\": \"nissan stanza xe\"}, {\"mpg\": 36.0, \"cylinders\": 4, \"displacement\": 107.0, \"horsepower\": \"75.00\", \"weight\": 2205.0, \"acceleration\": 14.5, \"model_year\": 82, \"origin\": 3, \"car_name\": \"honda accord\"}, {\"mpg\": 34.0, \"cylinders\": 4, \"displacement\": 108.0, \"horsepower\": \"70.00\", \"weight\": 2245.0, \"acceleration\": 16.9, \"model_year\": 82, \"origin\": 3, \"car_name\": \"toyota corolla\"}, {\"mpg\": 38.0, \"cylinders\": 4, \"displacement\": 91.0, \"horsepower\": \"67.00\", \"weight\": 1965.0, \"acceleration\": 15.0, \"model_year\": 82, \"origin\": 3, \"car_name\": \"honda civic\"}, {\"mpg\": 32.0, \"cylinders\": 4, \"displacement\": 91.0, \"horsepower\": \"67.00\", \"weight\": 1965.0, \"acceleration\": 15.7, \"model_year\": 82, \"origin\": 3, \"car_name\": \"honda civic (auto)\"}, {\"mpg\": 38.0, \"cylinders\": 4, \"displacement\": 91.0, \"horsepower\": \"67.00\", \"weight\": 1995.0, \"acceleration\": 16.2, \"model_year\": 82, \"origin\": 3, \"car_name\": \"datsun 310 gx\"}, {\"mpg\": 25.0, \"cylinders\": 6, \"displacement\": 181.0, \"horsepower\": \"110.0\", \"weight\": 2945.0, \"acceleration\": 16.4, \"model_year\": 82, \"origin\": 1, \"car_name\": \"buick century limited\"}, {\"mpg\": 38.0, \"cylinders\": 6, \"displacement\": 262.0, \"horsepower\": \"85.00\", \"weight\": 3015.0, \"acceleration\": 17.0, \"model_year\": 82, \"origin\": 1, \"car_name\": \"oldsmobile cutlass ciera (diesel)\"}, {\"mpg\": 26.0, \"cylinders\": 4, \"displacement\": 156.0, \"horsepower\": \"92.00\", \"weight\": 2585.0, \"acceleration\": 14.5, \"model_year\": 82, \"origin\": 1, \"car_name\": \"chrysler lebaron medallion\"}, {\"mpg\": 22.0, \"cylinders\": 6, \"displacement\": 232.0, \"horsepower\": \"112.0\", \"weight\": 2835.0, \"acceleration\": 14.7, \"model_year\": 82, \"origin\": 1, \"car_name\": \"ford granada l\"}, {\"mpg\": 32.0, \"cylinders\": 4, \"displacement\": 144.0, \"horsepower\": \"96.00\", \"weight\": 2665.0, \"acceleration\": 13.9, \"model_year\": 82, \"origin\": 3, \"car_name\": \"toyota celica gt\"}, {\"mpg\": 36.0, \"cylinders\": 4, \"displacement\": 135.0, \"horsepower\": \"84.00\", \"weight\": 2370.0, \"acceleration\": 13.0, \"model_year\": 82, \"origin\": 1, \"car_name\": \"dodge charger 2.2\"}, {\"mpg\": 27.0, \"cylinders\": 4, \"displacement\": 151.0, \"horsepower\": \"90.00\", \"weight\": 2950.0, \"acceleration\": 17.3, \"model_year\": 82, \"origin\": 1, \"car_name\": \"chevrolet camaro\"}, {\"mpg\": 27.0, \"cylinders\": 4, \"displacement\": 140.0, \"horsepower\": \"86.00\", \"weight\": 2790.0, \"acceleration\": 15.6, \"model_year\": 82, \"origin\": 1, \"car_name\": \"ford mustang gl\"}, {\"mpg\": 44.0, \"cylinders\": 4, \"displacement\": 97.0, \"horsepower\": \"52.00\", \"weight\": 2130.0, \"acceleration\": 24.6, \"model_year\": 82, \"origin\": 2, \"car_name\": \"vw pickup\"}, {\"mpg\": 32.0, \"cylinders\": 4, \"displacement\": 135.0, \"horsepower\": \"84.00\", \"weight\": 2295.0, \"acceleration\": 11.6, \"model_year\": 82, \"origin\": 1, \"car_name\": \"dodge rampage\"}, {\"mpg\": 28.0, \"cylinders\": 4, \"displacement\": 120.0, \"horsepower\": \"79.00\", \"weight\": 2625.0, \"acceleration\": 18.6, \"model_year\": 82, \"origin\": 1, \"car_name\": \"ford ranger\"}, {\"mpg\": 31.0, \"cylinders\": 4, \"displacement\": 119.0, \"horsepower\": \"82.00\", \"weight\": 2720.0, \"acceleration\": 19.4, \"model_year\": 82, \"origin\": 1, \"car_name\": \"chevy s-10\"}]}}, {\"mode\": \"vega-lite\"});\n",
       "</script>"
      ],
      "text/plain": [
       "alt.LayerChart(...)"
      ]
     },
     "execution_count": 11,
     "metadata": {},
     "output_type": "execute_result"
    }
   ],
   "source": [
    "trendline2 = c2.transform_regression('horsepower', 'acceleration').mark_line(color='red',size=200)\n",
    "chart_with_trendline2 = (c2 + trendline2)\n",
    "chart_with_trendline2"
   ]
  },
  {
   "cell_type": "markdown",
   "metadata": {
    "cell_id": "23301428fd0c40658e516cb3b5a9c122",
    "deepnote_cell_type": "markdown"
   },
   "source": [
    "Nice! now we can ensure that the acceleration value represent for its acceleration ability, the larger the value, the faster it accelerate!\n",
    "\n",
    "Also, We verify our first guess that horsepower and weight do affect the acceleration.\n",
    "\n",
    "The next step would be try doing find what are the best factors we put in our machine."
   ]
  },
  {
   "cell_type": "markdown",
   "metadata": {
    "cell_id": "8fdb439b7c364b96a8d3269c327f841c",
    "deepnote_cell_type": "markdown"
   },
   "source": [
    "# Approaching The Inner Cave: OLS LinearRegression model\n",
    "Find out what are the factors that should be used in training our bot\n",
    "(EXTRA COMPONENT)"
   ]
  },
  {
   "cell_type": "markdown",
   "metadata": {
    "cell_id": "f157abd0e0ad485897828430558b0b21",
    "deepnote_cell_type": "markdown"
   },
   "source": [
    "WHY use OLS model from 'statesmodels' NOW? \n",
    "1. We now want to find out what factors we want to put in side our scikit-learn model.\n",
    "2. 'statesmodels' library emphasize more on statistical modeling and hypothesis testing, it provides a detailed statistical summary of the regression results, allowing us to analyze the statistical significance of coefficients.\n",
    "3. That scikit-learn can't do what statesmodels can do.(e.g. point1,point2 above)"
   ]
  },
  {
   "cell_type": "code",
   "execution_count": null,
   "metadata": {
    "cell_id": "e67ab825b28b4f91bfb470de7767fbad",
    "deepnote_cell_type": "code",
    "deepnote_to_be_reexecuted": false,
    "execution_millis": 8056,
    "execution_start": 1702538198532,
    "source_hash": null
   },
   "outputs": [
    {
     "name": "stdout",
     "output_type": "stream",
     "text": [
      "Collecting statsmodels\n",
      "  Downloading statsmodels-0.14.0-cp39-cp39-manylinux_2_17_x86_64.manylinux2014_x86_64.whl (10.1 MB)\n",
      "\u001b[2K     \u001b[90m━━━━━━━━━━━━━━━━━━━━━━━━━━━━━━━━━━━━━━━━\u001b[0m \u001b[32m10.1/10.1 MB\u001b[0m \u001b[31m72.2 MB/s\u001b[0m eta \u001b[36m0:00:00\u001b[0m\n",
      "\u001b[?25hRequirement already satisfied: scipy!=1.9.2,>=1.4 in /shared-libs/python3.9/py/lib/python3.9/site-packages (from statsmodels) (1.9.3)\n",
      "Requirement already satisfied: numpy>=1.18 in /shared-libs/python3.9/py/lib/python3.9/site-packages (from statsmodels) (1.23.4)\n",
      "Requirement already satisfied: pandas>=1.0 in /shared-libs/python3.9/py/lib/python3.9/site-packages (from statsmodels) (1.2.5)\n",
      "Collecting patsy>=0.5.2\n",
      "  Downloading patsy-0.5.4-py2.py3-none-any.whl (233 kB)\n",
      "\u001b[2K     \u001b[90m━━━━━━━━━━━━━━━━━━━━━━━━━━━━━━━━━━━━━━\u001b[0m \u001b[32m233.9/233.9 kB\u001b[0m \u001b[31m50.9 MB/s\u001b[0m eta \u001b[36m0:00:00\u001b[0m\n",
      "\u001b[?25hRequirement already satisfied: packaging>=21.3 in /shared-libs/python3.9/py-core/lib/python3.9/site-packages (from statsmodels) (21.3)\n",
      "Requirement already satisfied: pyparsing!=3.0.5,>=2.0.2 in /shared-libs/python3.9/py-core/lib/python3.9/site-packages (from packaging>=21.3->statsmodels) (3.0.9)\n",
      "Requirement already satisfied: python-dateutil>=2.7.3 in /shared-libs/python3.9/py-core/lib/python3.9/site-packages (from pandas>=1.0->statsmodels) (2.8.2)\n",
      "Requirement already satisfied: pytz>=2017.3 in /shared-libs/python3.9/py/lib/python3.9/site-packages (from pandas>=1.0->statsmodels) (2022.5)\n",
      "Requirement already satisfied: six in /shared-libs/python3.9/py-core/lib/python3.9/site-packages (from patsy>=0.5.2->statsmodels) (1.16.0)\n",
      "Installing collected packages: patsy, statsmodels\n",
      "Successfully installed patsy-0.5.4 statsmodels-0.14.0\n",
      "\u001b[33mWARNING: Running pip as the 'root' user can result in broken permissions and conflicting behaviour with the system package manager. It is recommended to use a virtual environment instead: https://pip.pypa.io/warnings/venv\u001b[0m\u001b[33m\n",
      "\u001b[0m\n",
      "\u001b[1m[\u001b[0m\u001b[34;49mnotice\u001b[0m\u001b[1;39;49m]\u001b[0m\u001b[39;49m A new release of pip is available: \u001b[0m\u001b[31;49m23.0.1\u001b[0m\u001b[39;49m -> \u001b[0m\u001b[32;49m23.3.1\u001b[0m\n",
      "\u001b[1m[\u001b[0m\u001b[34;49mnotice\u001b[0m\u001b[1;39;49m]\u001b[0m\u001b[39;49m To update, run: \u001b[0m\u001b[32;49mpython -m pip install --upgrade pip\u001b[0m\n",
      "Note: you may need to restart the kernel to use updated packages.\n"
     ]
    }
   ],
   "source": [
    "pip install statsmodels"
   ]
  },
  {
   "cell_type": "code",
   "execution_count": null,
   "metadata": {
    "cell_id": "f0d9ace2d75e4b7ea62ae73e43d02352",
    "deepnote_cell_type": "code",
    "deepnote_to_be_reexecuted": false,
    "execution_millis": 57,
    "execution_start": 1702538240889,
    "source_hash": null
   },
   "outputs": [
    {
     "ename": "ValueError",
     "evalue": "Pandas data cast to numpy dtype of object. Check input data with np.asarray(data).",
     "output_type": "error",
     "traceback": [
      "\u001b[0;31m---------------------------------------------------------------------------\u001b[0m",
      "\u001b[0;31mValueError\u001b[0m                                Traceback (most recent call last)",
      "Cell \u001b[0;32mIn [16], line 5\u001b[0m\n\u001b[1;32m      3\u001b[0m X \u001b[38;5;241m=\u001b[39m sm\u001b[38;5;241m.\u001b[39madd_constant(allfactors)\n\u001b[1;32m      4\u001b[0m y \u001b[38;5;241m=\u001b[39m df[\u001b[38;5;124m'\u001b[39m\u001b[38;5;124macceleration\u001b[39m\u001b[38;5;124m'\u001b[39m]\n\u001b[0;32m----> 5\u001b[0m olsmodel \u001b[38;5;241m=\u001b[39m \u001b[43msm\u001b[49m\u001b[38;5;241;43m.\u001b[39;49m\u001b[43mOLS\u001b[49m\u001b[43m(\u001b[49m\u001b[43my\u001b[49m\u001b[43m,\u001b[49m\u001b[43mX\u001b[49m\u001b[43m)\u001b[49m\u001b[38;5;241m.\u001b[39mfit()\n\u001b[1;32m      6\u001b[0m \u001b[38;5;28mprint\u001b[39m(olsmodel\u001b[38;5;241m.\u001b[39msummary())\n",
      "File \u001b[0;32m/usr/local/lib/python3.9/site-packages/statsmodels/regression/linear_model.py:922\u001b[0m, in \u001b[0;36mOLS.__init__\u001b[0;34m(self, endog, exog, missing, hasconst, **kwargs)\u001b[0m\n\u001b[1;32m    919\u001b[0m     msg \u001b[38;5;241m=\u001b[39m (\u001b[38;5;124m\"\u001b[39m\u001b[38;5;124mWeights are not supported in OLS and will be ignored\u001b[39m\u001b[38;5;124m\"\u001b[39m\n\u001b[1;32m    920\u001b[0m            \u001b[38;5;124m\"\u001b[39m\u001b[38;5;124mAn exception will be raised in the next version.\u001b[39m\u001b[38;5;124m\"\u001b[39m)\n\u001b[1;32m    921\u001b[0m     warnings\u001b[38;5;241m.\u001b[39mwarn(msg, ValueWarning)\n\u001b[0;32m--> 922\u001b[0m \u001b[38;5;28;43msuper\u001b[39;49m\u001b[43m(\u001b[49m\u001b[43mOLS\u001b[49m\u001b[43m,\u001b[49m\u001b[43m \u001b[49m\u001b[38;5;28;43mself\u001b[39;49m\u001b[43m)\u001b[49m\u001b[38;5;241;43m.\u001b[39;49m\u001b[38;5;21;43m__init__\u001b[39;49m\u001b[43m(\u001b[49m\u001b[43mendog\u001b[49m\u001b[43m,\u001b[49m\u001b[43m \u001b[49m\u001b[43mexog\u001b[49m\u001b[43m,\u001b[49m\u001b[43m \u001b[49m\u001b[43mmissing\u001b[49m\u001b[38;5;241;43m=\u001b[39;49m\u001b[43mmissing\u001b[49m\u001b[43m,\u001b[49m\n\u001b[1;32m    923\u001b[0m \u001b[43m                          \u001b[49m\u001b[43mhasconst\u001b[49m\u001b[38;5;241;43m=\u001b[39;49m\u001b[43mhasconst\u001b[49m\u001b[43m,\u001b[49m\u001b[43m \u001b[49m\u001b[38;5;241;43m*\u001b[39;49m\u001b[38;5;241;43m*\u001b[39;49m\u001b[43mkwargs\u001b[49m\u001b[43m)\u001b[49m\n\u001b[1;32m    924\u001b[0m \u001b[38;5;28;01mif\u001b[39;00m \u001b[38;5;124m\"\u001b[39m\u001b[38;5;124mweights\u001b[39m\u001b[38;5;124m\"\u001b[39m \u001b[38;5;129;01min\u001b[39;00m \u001b[38;5;28mself\u001b[39m\u001b[38;5;241m.\u001b[39m_init_keys:\n\u001b[1;32m    925\u001b[0m     \u001b[38;5;28mself\u001b[39m\u001b[38;5;241m.\u001b[39m_init_keys\u001b[38;5;241m.\u001b[39mremove(\u001b[38;5;124m\"\u001b[39m\u001b[38;5;124mweights\u001b[39m\u001b[38;5;124m\"\u001b[39m)\n",
      "File \u001b[0;32m/usr/local/lib/python3.9/site-packages/statsmodels/regression/linear_model.py:748\u001b[0m, in \u001b[0;36mWLS.__init__\u001b[0;34m(self, endog, exog, weights, missing, hasconst, **kwargs)\u001b[0m\n\u001b[1;32m    746\u001b[0m \u001b[38;5;28;01melse\u001b[39;00m:\n\u001b[1;32m    747\u001b[0m     weights \u001b[38;5;241m=\u001b[39m weights\u001b[38;5;241m.\u001b[39msqueeze()\n\u001b[0;32m--> 748\u001b[0m \u001b[38;5;28;43msuper\u001b[39;49m\u001b[43m(\u001b[49m\u001b[43mWLS\u001b[49m\u001b[43m,\u001b[49m\u001b[43m \u001b[49m\u001b[38;5;28;43mself\u001b[39;49m\u001b[43m)\u001b[49m\u001b[38;5;241;43m.\u001b[39;49m\u001b[38;5;21;43m__init__\u001b[39;49m\u001b[43m(\u001b[49m\u001b[43mendog\u001b[49m\u001b[43m,\u001b[49m\u001b[43m \u001b[49m\u001b[43mexog\u001b[49m\u001b[43m,\u001b[49m\u001b[43m \u001b[49m\u001b[43mmissing\u001b[49m\u001b[38;5;241;43m=\u001b[39;49m\u001b[43mmissing\u001b[49m\u001b[43m,\u001b[49m\n\u001b[1;32m    749\u001b[0m \u001b[43m                          \u001b[49m\u001b[43mweights\u001b[49m\u001b[38;5;241;43m=\u001b[39;49m\u001b[43mweights\u001b[49m\u001b[43m,\u001b[49m\u001b[43m \u001b[49m\u001b[43mhasconst\u001b[49m\u001b[38;5;241;43m=\u001b[39;49m\u001b[43mhasconst\u001b[49m\u001b[43m,\u001b[49m\u001b[43m \u001b[49m\u001b[38;5;241;43m*\u001b[39;49m\u001b[38;5;241;43m*\u001b[39;49m\u001b[43mkwargs\u001b[49m\u001b[43m)\u001b[49m\n\u001b[1;32m    750\u001b[0m nobs \u001b[38;5;241m=\u001b[39m \u001b[38;5;28mself\u001b[39m\u001b[38;5;241m.\u001b[39mexog\u001b[38;5;241m.\u001b[39mshape[\u001b[38;5;241m0\u001b[39m]\n\u001b[1;32m    751\u001b[0m weights \u001b[38;5;241m=\u001b[39m \u001b[38;5;28mself\u001b[39m\u001b[38;5;241m.\u001b[39mweights\n",
      "File \u001b[0;32m/usr/local/lib/python3.9/site-packages/statsmodels/regression/linear_model.py:202\u001b[0m, in \u001b[0;36mRegressionModel.__init__\u001b[0;34m(self, endog, exog, **kwargs)\u001b[0m\n\u001b[1;32m    201\u001b[0m \u001b[38;5;28;01mdef\u001b[39;00m \u001b[38;5;21m__init__\u001b[39m(\u001b[38;5;28mself\u001b[39m, endog, exog, \u001b[38;5;241m*\u001b[39m\u001b[38;5;241m*\u001b[39mkwargs):\n\u001b[0;32m--> 202\u001b[0m     \u001b[38;5;28;43msuper\u001b[39;49m\u001b[43m(\u001b[49m\u001b[43mRegressionModel\u001b[49m\u001b[43m,\u001b[49m\u001b[43m \u001b[49m\u001b[38;5;28;43mself\u001b[39;49m\u001b[43m)\u001b[49m\u001b[38;5;241;43m.\u001b[39;49m\u001b[38;5;21;43m__init__\u001b[39;49m\u001b[43m(\u001b[49m\u001b[43mendog\u001b[49m\u001b[43m,\u001b[49m\u001b[43m \u001b[49m\u001b[43mexog\u001b[49m\u001b[43m,\u001b[49m\u001b[43m \u001b[49m\u001b[38;5;241;43m*\u001b[39;49m\u001b[38;5;241;43m*\u001b[39;49m\u001b[43mkwargs\u001b[49m\u001b[43m)\u001b[49m\n\u001b[1;32m    203\u001b[0m     \u001b[38;5;28mself\u001b[39m\u001b[38;5;241m.\u001b[39mpinv_wexog: Float64Array \u001b[38;5;241m|\u001b[39m \u001b[38;5;28;01mNone\u001b[39;00m \u001b[38;5;241m=\u001b[39m \u001b[38;5;28;01mNone\u001b[39;00m\n\u001b[1;32m    204\u001b[0m     \u001b[38;5;28mself\u001b[39m\u001b[38;5;241m.\u001b[39m_data_attr\u001b[38;5;241m.\u001b[39mextend([\u001b[38;5;124m'\u001b[39m\u001b[38;5;124mpinv_wexog\u001b[39m\u001b[38;5;124m'\u001b[39m, \u001b[38;5;124m'\u001b[39m\u001b[38;5;124mwendog\u001b[39m\u001b[38;5;124m'\u001b[39m, \u001b[38;5;124m'\u001b[39m\u001b[38;5;124mwexog\u001b[39m\u001b[38;5;124m'\u001b[39m, \u001b[38;5;124m'\u001b[39m\u001b[38;5;124mweights\u001b[39m\u001b[38;5;124m'\u001b[39m])\n",
      "File \u001b[0;32m/usr/local/lib/python3.9/site-packages/statsmodels/base/model.py:270\u001b[0m, in \u001b[0;36mLikelihoodModel.__init__\u001b[0;34m(self, endog, exog, **kwargs)\u001b[0m\n\u001b[1;32m    269\u001b[0m \u001b[38;5;28;01mdef\u001b[39;00m \u001b[38;5;21m__init__\u001b[39m(\u001b[38;5;28mself\u001b[39m, endog, exog\u001b[38;5;241m=\u001b[39m\u001b[38;5;28;01mNone\u001b[39;00m, \u001b[38;5;241m*\u001b[39m\u001b[38;5;241m*\u001b[39mkwargs):\n\u001b[0;32m--> 270\u001b[0m     \u001b[38;5;28;43msuper\u001b[39;49m\u001b[43m(\u001b[49m\u001b[43m)\u001b[49m\u001b[38;5;241;43m.\u001b[39;49m\u001b[38;5;21;43m__init__\u001b[39;49m\u001b[43m(\u001b[49m\u001b[43mendog\u001b[49m\u001b[43m,\u001b[49m\u001b[43m \u001b[49m\u001b[43mexog\u001b[49m\u001b[43m,\u001b[49m\u001b[43m \u001b[49m\u001b[38;5;241;43m*\u001b[39;49m\u001b[38;5;241;43m*\u001b[39;49m\u001b[43mkwargs\u001b[49m\u001b[43m)\u001b[49m\n\u001b[1;32m    271\u001b[0m     \u001b[38;5;28mself\u001b[39m\u001b[38;5;241m.\u001b[39minitialize()\n",
      "File \u001b[0;32m/usr/local/lib/python3.9/site-packages/statsmodels/base/model.py:95\u001b[0m, in \u001b[0;36mModel.__init__\u001b[0;34m(self, endog, exog, **kwargs)\u001b[0m\n\u001b[1;32m     93\u001b[0m missing \u001b[38;5;241m=\u001b[39m kwargs\u001b[38;5;241m.\u001b[39mpop(\u001b[38;5;124m'\u001b[39m\u001b[38;5;124mmissing\u001b[39m\u001b[38;5;124m'\u001b[39m, \u001b[38;5;124m'\u001b[39m\u001b[38;5;124mnone\u001b[39m\u001b[38;5;124m'\u001b[39m)\n\u001b[1;32m     94\u001b[0m hasconst \u001b[38;5;241m=\u001b[39m kwargs\u001b[38;5;241m.\u001b[39mpop(\u001b[38;5;124m'\u001b[39m\u001b[38;5;124mhasconst\u001b[39m\u001b[38;5;124m'\u001b[39m, \u001b[38;5;28;01mNone\u001b[39;00m)\n\u001b[0;32m---> 95\u001b[0m \u001b[38;5;28mself\u001b[39m\u001b[38;5;241m.\u001b[39mdata \u001b[38;5;241m=\u001b[39m \u001b[38;5;28;43mself\u001b[39;49m\u001b[38;5;241;43m.\u001b[39;49m\u001b[43m_handle_data\u001b[49m\u001b[43m(\u001b[49m\u001b[43mendog\u001b[49m\u001b[43m,\u001b[49m\u001b[43m \u001b[49m\u001b[43mexog\u001b[49m\u001b[43m,\u001b[49m\u001b[43m \u001b[49m\u001b[43mmissing\u001b[49m\u001b[43m,\u001b[49m\u001b[43m \u001b[49m\u001b[43mhasconst\u001b[49m\u001b[43m,\u001b[49m\n\u001b[1;32m     96\u001b[0m \u001b[43m                              \u001b[49m\u001b[38;5;241;43m*\u001b[39;49m\u001b[38;5;241;43m*\u001b[39;49m\u001b[43mkwargs\u001b[49m\u001b[43m)\u001b[49m\n\u001b[1;32m     97\u001b[0m \u001b[38;5;28mself\u001b[39m\u001b[38;5;241m.\u001b[39mk_constant \u001b[38;5;241m=\u001b[39m \u001b[38;5;28mself\u001b[39m\u001b[38;5;241m.\u001b[39mdata\u001b[38;5;241m.\u001b[39mk_constant\n\u001b[1;32m     98\u001b[0m \u001b[38;5;28mself\u001b[39m\u001b[38;5;241m.\u001b[39mexog \u001b[38;5;241m=\u001b[39m \u001b[38;5;28mself\u001b[39m\u001b[38;5;241m.\u001b[39mdata\u001b[38;5;241m.\u001b[39mexog\n",
      "File \u001b[0;32m/usr/local/lib/python3.9/site-packages/statsmodels/base/model.py:135\u001b[0m, in \u001b[0;36mModel._handle_data\u001b[0;34m(self, endog, exog, missing, hasconst, **kwargs)\u001b[0m\n\u001b[1;32m    134\u001b[0m \u001b[38;5;28;01mdef\u001b[39;00m \u001b[38;5;21m_handle_data\u001b[39m(\u001b[38;5;28mself\u001b[39m, endog, exog, missing, hasconst, \u001b[38;5;241m*\u001b[39m\u001b[38;5;241m*\u001b[39mkwargs):\n\u001b[0;32m--> 135\u001b[0m     data \u001b[38;5;241m=\u001b[39m \u001b[43mhandle_data\u001b[49m\u001b[43m(\u001b[49m\u001b[43mendog\u001b[49m\u001b[43m,\u001b[49m\u001b[43m \u001b[49m\u001b[43mexog\u001b[49m\u001b[43m,\u001b[49m\u001b[43m \u001b[49m\u001b[43mmissing\u001b[49m\u001b[43m,\u001b[49m\u001b[43m \u001b[49m\u001b[43mhasconst\u001b[49m\u001b[43m,\u001b[49m\u001b[43m \u001b[49m\u001b[38;5;241;43m*\u001b[39;49m\u001b[38;5;241;43m*\u001b[39;49m\u001b[43mkwargs\u001b[49m\u001b[43m)\u001b[49m\n\u001b[1;32m    136\u001b[0m     \u001b[38;5;66;03m# kwargs arrays could have changed, easier to just attach here\u001b[39;00m\n\u001b[1;32m    137\u001b[0m     \u001b[38;5;28;01mfor\u001b[39;00m key \u001b[38;5;129;01min\u001b[39;00m kwargs:\n",
      "File \u001b[0;32m/usr/local/lib/python3.9/site-packages/statsmodels/base/data.py:675\u001b[0m, in \u001b[0;36mhandle_data\u001b[0;34m(endog, exog, missing, hasconst, **kwargs)\u001b[0m\n\u001b[1;32m    672\u001b[0m     exog \u001b[38;5;241m=\u001b[39m np\u001b[38;5;241m.\u001b[39masarray(exog)\n\u001b[1;32m    674\u001b[0m klass \u001b[38;5;241m=\u001b[39m handle_data_class_factory(endog, exog)\n\u001b[0;32m--> 675\u001b[0m \u001b[38;5;28;01mreturn\u001b[39;00m \u001b[43mklass\u001b[49m\u001b[43m(\u001b[49m\u001b[43mendog\u001b[49m\u001b[43m,\u001b[49m\u001b[43m \u001b[49m\u001b[43mexog\u001b[49m\u001b[38;5;241;43m=\u001b[39;49m\u001b[43mexog\u001b[49m\u001b[43m,\u001b[49m\u001b[43m \u001b[49m\u001b[43mmissing\u001b[49m\u001b[38;5;241;43m=\u001b[39;49m\u001b[43mmissing\u001b[49m\u001b[43m,\u001b[49m\u001b[43m \u001b[49m\u001b[43mhasconst\u001b[49m\u001b[38;5;241;43m=\u001b[39;49m\u001b[43mhasconst\u001b[49m\u001b[43m,\u001b[49m\n\u001b[1;32m    676\u001b[0m \u001b[43m             \u001b[49m\u001b[38;5;241;43m*\u001b[39;49m\u001b[38;5;241;43m*\u001b[39;49m\u001b[43mkwargs\u001b[49m\u001b[43m)\u001b[49m\n",
      "File \u001b[0;32m/usr/local/lib/python3.9/site-packages/statsmodels/base/data.py:84\u001b[0m, in \u001b[0;36mModelData.__init__\u001b[0;34m(self, endog, exog, missing, hasconst, **kwargs)\u001b[0m\n\u001b[1;32m     82\u001b[0m     \u001b[38;5;28mself\u001b[39m\u001b[38;5;241m.\u001b[39morig_endog \u001b[38;5;241m=\u001b[39m endog\n\u001b[1;32m     83\u001b[0m     \u001b[38;5;28mself\u001b[39m\u001b[38;5;241m.\u001b[39morig_exog \u001b[38;5;241m=\u001b[39m exog\n\u001b[0;32m---> 84\u001b[0m     \u001b[38;5;28mself\u001b[39m\u001b[38;5;241m.\u001b[39mendog, \u001b[38;5;28mself\u001b[39m\u001b[38;5;241m.\u001b[39mexog \u001b[38;5;241m=\u001b[39m \u001b[38;5;28;43mself\u001b[39;49m\u001b[38;5;241;43m.\u001b[39;49m\u001b[43m_convert_endog_exog\u001b[49m\u001b[43m(\u001b[49m\u001b[43mendog\u001b[49m\u001b[43m,\u001b[49m\u001b[43m \u001b[49m\u001b[43mexog\u001b[49m\u001b[43m)\u001b[49m\n\u001b[1;32m     86\u001b[0m \u001b[38;5;28mself\u001b[39m\u001b[38;5;241m.\u001b[39mconst_idx \u001b[38;5;241m=\u001b[39m \u001b[38;5;28;01mNone\u001b[39;00m\n\u001b[1;32m     87\u001b[0m \u001b[38;5;28mself\u001b[39m\u001b[38;5;241m.\u001b[39mk_constant \u001b[38;5;241m=\u001b[39m \u001b[38;5;241m0\u001b[39m\n",
      "File \u001b[0;32m/usr/local/lib/python3.9/site-packages/statsmodels/base/data.py:509\u001b[0m, in \u001b[0;36mPandasData._convert_endog_exog\u001b[0;34m(self, endog, exog)\u001b[0m\n\u001b[1;32m    507\u001b[0m exog \u001b[38;5;241m=\u001b[39m exog \u001b[38;5;28;01mif\u001b[39;00m exog \u001b[38;5;129;01mis\u001b[39;00m \u001b[38;5;28;01mNone\u001b[39;00m \u001b[38;5;28;01melse\u001b[39;00m np\u001b[38;5;241m.\u001b[39masarray(exog)\n\u001b[1;32m    508\u001b[0m \u001b[38;5;28;01mif\u001b[39;00m endog\u001b[38;5;241m.\u001b[39mdtype \u001b[38;5;241m==\u001b[39m \u001b[38;5;28mobject\u001b[39m \u001b[38;5;129;01mor\u001b[39;00m exog \u001b[38;5;129;01mis\u001b[39;00m \u001b[38;5;129;01mnot\u001b[39;00m \u001b[38;5;28;01mNone\u001b[39;00m \u001b[38;5;129;01mand\u001b[39;00m exog\u001b[38;5;241m.\u001b[39mdtype \u001b[38;5;241m==\u001b[39m \u001b[38;5;28mobject\u001b[39m:\n\u001b[0;32m--> 509\u001b[0m     \u001b[38;5;28;01mraise\u001b[39;00m \u001b[38;5;167;01mValueError\u001b[39;00m(\u001b[38;5;124m\"\u001b[39m\u001b[38;5;124mPandas data cast to numpy dtype of object. \u001b[39m\u001b[38;5;124m\"\u001b[39m\n\u001b[1;32m    510\u001b[0m                      \u001b[38;5;124m\"\u001b[39m\u001b[38;5;124mCheck input data with np.asarray(data).\u001b[39m\u001b[38;5;124m\"\u001b[39m)\n\u001b[1;32m    511\u001b[0m \u001b[38;5;28;01mreturn\u001b[39;00m \u001b[38;5;28msuper\u001b[39m(PandasData, \u001b[38;5;28mself\u001b[39m)\u001b[38;5;241m.\u001b[39m_convert_endog_exog(endog, exog)\n",
      "\u001b[0;31mValueError\u001b[0m: Pandas data cast to numpy dtype of object. Check input data with np.asarray(data)."
     ]
    }
   ],
   "source": [
    "import statsmodels.api as sm\n",
    "allfactors= df[['weight','mpg','cylinders','model_year','origin','horsepower']]\n",
    "X = sm.add_constant(allfactors)\n",
    "y = df['acceleration']\n",
    "olsmodel = sm.OLS(y,X).fit()\n",
    "print(olsmodel.summary())\n",
    "# this is error because horsepower coloumn is recognized as objects, lets try do it again but this time we change it to number first"
   ]
  },
  {
   "cell_type": "code",
   "execution_count": null,
   "metadata": {
    "cell_id": "cd7e885fb16445e4889c6c7a3232f38c",
    "deepnote_cell_type": "code",
    "deepnote_to_be_reexecuted": false,
    "execution_millis": 20,
    "execution_start": 1702538242123,
    "source_hash": null
   },
   "outputs": [
    {
     "name": "stdout",
     "output_type": "stream",
     "text": [
      "                            OLS Regression Results                            \n",
      "==============================================================================\n",
      "Dep. Variable:           acceleration   R-squared:                       0.615\n",
      "Model:                            OLS   Adj. R-squared:                  0.609\n",
      "Method:                 Least Squares   F-statistic:                     102.7\n",
      "Date:                Thu, 14 Dec 2023   Prob (F-statistic):           9.17e-77\n",
      "Time:                        07:17:22   Log-Likelihood:                -766.23\n",
      "No. Observations:                 392   AIC:                             1546.\n",
      "Df Residuals:                     385   BIC:                             1574.\n",
      "Df Model:                           6                                         \n",
      "Covariance Type:            nonrobust                                         \n",
      "==============================================================================\n",
      "                 coef    std err          t      P>|t|      [0.025      0.975]\n",
      "------------------------------------------------------------------------------\n",
      "const         21.3419      2.192      9.738      0.000      17.033      25.651\n",
      "weight         0.0030      0.000      9.735      0.000       0.002       0.004\n",
      "mpg            0.0142      0.026      0.543      0.587      -0.037       0.066\n",
      "cylinders     -0.3920      0.124     -3.168      0.002      -0.635      -0.149\n",
      "model_year    -0.0478      0.033     -1.464      0.144      -0.112       0.016\n",
      "origin         0.1015      0.140      0.724      0.469      -0.174       0.377\n",
      "horsepower    -0.0912      0.005    -18.202      0.000      -0.101      -0.081\n",
      "==============================================================================\n",
      "Omnibus:                       46.182   Durbin-Watson:                   1.672\n",
      "Prob(Omnibus):                  0.000   Jarque-Bera (JB):               67.916\n",
      "Skew:                           0.782   Prob(JB):                     1.79e-15\n",
      "Kurtosis:                       4.309   Cond. No.                     7.80e+04\n",
      "==============================================================================\n",
      "\n",
      "Notes:\n",
      "[1] Standard Errors assume that the covariance matrix of the errors is correctly specified.\n",
      "[2] The condition number is large, 7.8e+04. This might indicate that there are\n",
      "strong multicollinearity or other numerical problems.\n"
     ]
    }
   ],
   "source": [
    "df['horsepower'] = pd.to_numeric(df['horsepower'], errors='coerce')\n",
    "#Now that it should works with the above code.\n",
    "import statsmodels.api as sm\n",
    "allfactors= df[['weight','mpg','cylinders','model_year','origin','horsepower']]\n",
    "X = sm.add_constant(allfactors)\n",
    "y = df['acceleration']\n",
    "olsmodel = sm.OLS(y,X).fit()\n",
    "print(olsmodel.summary())"
   ]
  },
  {
   "cell_type": "markdown",
   "metadata": {
    "cell_id": "f6b477abfc7444c2985eb5a97ef4b7bf",
    "deepnote_cell_type": "markdown"
   },
   "source": [
    "Definition:\n",
    "\"t\": The t-statistic tests the null hypothesis that the coefficient of a variable is equal to zero.\n",
    "\"P>|t|\": The p-value associated with the t-statistic tests the null hypothesis.\n",
    "\n",
    "Summary:\n",
    "A small p-value (typically < \"0.05\") suggests that you can reject the null hypothesis.\n",
    "A large t-statistic (with a corresponding small p-value) suggests that the variable is likely to be a significant predictor in the model.\n",
    "\n",
    "Now after reading these Let's look at the charts above, focusing only on the \"t\" value and the \"P>|t|\". "
   ]
  },
  {
   "cell_type": "markdown",
   "metadata": {
    "cell_id": "5ee4919f431e4b1e9ba1b0f96c6ae0a0",
    "deepnote_cell_type": "markdown"
   },
   "source": [
    "We find out that only \"weight\", \"horsepower\", \"cylinders\", and \"const\" have reletively high absolute t-value and p-value that is smaller than 5%.\n",
    "\n",
    "It is easy to understand that weight horsepower and cylinders would affect the acceleration, but what is \"const\"?\n",
    "\n",
    "\"const\" stands for constant, it is from the formula(Y = β0 + Σj=1..p βjXj + ε ) of the ols linear-model that normally represent ERROR. However in our case, we know that if all other factors are zero, the acceleration should be zero at this moment, which means that the \"const\" is meaningless and only exsists as it makes the model better explained.\n",
    "\n",
    "\n",
    "\n",
    "How exciting! we now know what factors the acceleration most: \"horsepower\",\"cylinder\",\"weight\". LETS run them on a sklearn model."
   ]
  },
  {
   "cell_type": "markdown",
   "metadata": {
    "cell_id": "8df56cabb82e4bee9e3f464188c11d21",
    "deepnote_cell_type": "markdown"
   },
   "source": [
    "# Aiming our Goal: Use Sklearn to predict, and verify our guess"
   ]
  },
  {
   "cell_type": "markdown",
   "metadata": {
    "cell_id": "abd39bac0f7f47649b621e359069c49f",
    "deepnote_cell_type": "markdown"
   },
   "source": [
    "Lets try to use the linear regression model first, as it is simple and explanable"
   ]
  },
  {
   "cell_type": "code",
   "execution_count": null,
   "metadata": {
    "cell_id": "a01f7e6fb318456391f83c66c6bb81b0",
    "deepnote_cell_type": "code",
    "deepnote_to_be_reexecuted": false,
    "execution_millis": 19,
    "execution_start": 1702540181591,
    "source_hash": null
   },
   "outputs": [
    {
     "data": {
      "text/plain": [
       "0.6354558360449379"
      ]
     },
     "execution_count": 112,
     "metadata": {},
     "output_type": "execute_result"
    }
   ],
   "source": [
    "X = df[['weight','cylinders','horsepower']]# predicted variables\n",
    "y =df[\"acceleration\"]#target variables\n",
    "X_train, X_test, y_train, y_test = train_test_split(X, y, test_size=0.3, random_state=12)#test train split\n",
    "model =LinearRegression()\n",
    "model.fit(X_train, y_train)\n",
    "model.score(X_test,y_test)"
   ]
  },
  {
   "cell_type": "markdown",
   "metadata": {
    "cell_id": "e463840b47e0490b8686310b060b290d",
    "deepnote_cell_type": "markdown"
   },
   "source": [
    "Seemingly, the machine is not performing well, it might be the reason that we use only the 3 predicted values that we subjectively consider it important. lets try fit it with all the variables."
   ]
  },
  {
   "cell_type": "code",
   "execution_count": null,
   "metadata": {
    "cell_id": "0bbba1b14d35440cb5d2c57d8c4661e3",
    "deepnote_cell_type": "code",
    "deepnote_to_be_reexecuted": false,
    "execution_millis": 19,
    "execution_start": 1702540187282,
    "source_hash": null
   },
   "outputs": [
    {
     "data": {
      "text/plain": [
       "0.6277449368818655"
      ]
     },
     "execution_count": 114,
     "metadata": {},
     "output_type": "execute_result"
    }
   ],
   "source": [
    "X = allfactors# predicted variables\n",
    "y =df[\"acceleration\"]#target variables\n",
    "X_train, X_test, y_train, y_test = train_test_split(X, y, test_size=0.3, random_state=12)#test train split\n",
    "model =LinearRegression()\n",
    "model.fit(X_train, y_train)\n",
    "model.score(X_test,y_test)"
   ]
  },
  {
   "cell_type": "markdown",
   "metadata": {
    "cell_id": "2438c8f4cb874c328bc4ca433cd9c7c4",
    "deepnote_cell_type": "markdown"
   },
   "source": [
    "Not a good sign!! seems that we chose the wrong model or it is just that they are not relevant.\n",
    "maybe it is just that linearregression model assume variables are linearly related\n",
    "\n",
    "Lets try decision trees. Because it can deal with non-linearly relation!"
   ]
  },
  {
   "cell_type": "code",
   "execution_count": null,
   "metadata": {
    "cell_id": "b0616b9e565f40c9a6ee046d99db8875",
    "deepnote_cell_type": "code",
    "deepnote_to_be_reexecuted": false,
    "execution_millis": 36,
    "execution_start": 1702539476585,
    "source_hash": null
   },
   "outputs": [
    {
     "data": {
      "text/plain": [
       "0.44422080245934037"
      ]
     },
     "execution_count": 84,
     "metadata": {},
     "output_type": "execute_result"
    }
   ],
   "source": [
    "from sklearn.tree import DecisionTreeRegressor\n",
    "model = DecisionTreeRegressor()\n",
    "X_train, X_test, y_train, y_test = train_test_split(X, y, test_size=0.3, random_state=12)\n",
    "model.fit(X_train, y_train)\n",
    "y_pred = model.predict(X_test)\n",
    "mse = mean_squared_error(y_test, y_pred)\n",
    "model.score(X_test,y_test)"
   ]
  },
  {
   "cell_type": "markdown",
   "metadata": {
    "cell_id": "9a6c6f147b3148a38b69bcf9bb72c6ba",
    "deepnote_cell_type": "markdown"
   },
   "source": [
    "EVEN WORSE!!\n",
    "(Dont need to test if it is because the x input, although change X input to the 3 varibales we find matters the most would increase the score to approximatly 0.44.)\n",
    "\n",
    "This is because it is easily over-fitting. lets see if it is overfitted"
   ]
  },
  {
   "cell_type": "code",
   "execution_count": null,
   "metadata": {
    "cell_id": "f4755d4ade4e45dc8d4c5db9810614a2",
    "deepnote_cell_type": "code",
    "deepnote_to_be_reexecuted": false,
    "execution_millis": 54,
    "execution_start": 1702539492713,
    "source_hash": null
   },
   "outputs": [
    {
     "data": {
      "text/plain": [
       "0.9975355913598829"
      ]
     },
     "execution_count": 86,
     "metadata": {},
     "output_type": "execute_result"
    }
   ],
   "source": [
    "model.score(X_train, y_train)"
   ]
  },
  {
   "cell_type": "code",
   "execution_count": null,
   "metadata": {
    "cell_id": "8f6ed695836b4bfc9fb9bf6ce0bdfba6",
    "deepnote_cell_type": "code",
    "deepnote_to_be_reexecuted": false,
    "execution_millis": 18,
    "execution_start": 1702539493581,
    "source_hash": null
   },
   "outputs": [
    {
     "data": {
      "text/plain": [
       "0.44422080245934037"
      ]
     },
     "execution_count": 87,
     "metadata": {},
     "output_type": "execute_result"
    }
   ],
   "source": [
    "model.score(X_test, y_test)"
   ]
  },
  {
   "cell_type": "markdown",
   "metadata": {
    "cell_id": "d96de5a433614c568913bae39a273e01",
    "deepnote_cell_type": "markdown"
   },
   "source": [
    "Well, it sure did overfit. \n",
    "Lets try random forest as it might solve the the prob that decision tree has."
   ]
  },
  {
   "cell_type": "code",
   "execution_count": null,
   "metadata": {
    "cell_id": "1608fcb7bf694ff2bc8f8a18be505894",
    "deepnote_cell_type": "code",
    "deepnote_to_be_reexecuted": false,
    "execution_millis": 477,
    "execution_start": 1702539664915,
    "source_hash": null
   },
   "outputs": [
    {
     "data": {
      "text/plain": [
       "0.681217641805061"
      ]
     },
     "execution_count": 92,
     "metadata": {},
     "output_type": "execute_result"
    }
   ],
   "source": [
    "from sklearn.ensemble import RandomForestRegressor\n",
    "model = RandomForestRegressor()\n",
    "model.fit(X_train, y_train)\n",
    "y_pred = model.predict(X_test)\n",
    "model.score(X_test,y_test)"
   ]
  },
  {
   "cell_type": "markdown",
   "metadata": {
    "cell_id": "9e2c9964dacd493ebe43adbde90e0594",
    "deepnote_cell_type": "markdown"
   },
   "source": [
    "Lets try some other method!"
   ]
  },
  {
   "cell_type": "code",
   "execution_count": null,
   "metadata": {
    "cell_id": "bb273eb32f3d4c5696968a5d736cf50f",
    "deepnote_cell_type": "code",
    "deepnote_to_be_reexecuted": false,
    "execution_millis": 3144,
    "execution_start": 1702540373955,
    "source_hash": null
   },
   "outputs": [
    {
     "data": {
      "text/plain": [
       "0.40588689134599465"
      ]
     },
     "execution_count": 118,
     "metadata": {},
     "output_type": "execute_result"
    }
   ],
   "source": [
    "from sklearn.neural_network import MLPRegressor\n",
    "X_train, X_test, y_train, y_test = train_test_split(X, y, test_size=0.2, random_state=42)\n",
    "model = MLPRegressor(hidden_layer_sizes=(100, 50), max_iter=1000, random_state=42)\n",
    "model.fit(X_train, y_train)\n",
    "model.score(X_test, y_test)\n"
   ]
  },
  {
   "cell_type": "markdown",
   "metadata": {
    "cell_id": "131b289c438548b986497ca59e0b145b",
    "deepnote_cell_type": "markdown",
    "tags": []
   },
   "source": [
    "## Summary\n",
    "\n",
    "In this project, The aim is to find what are the factors that influence the accelerators of a car. I first guess it, and try find out, using ols linear regression, what are the variables that should ne put in the sklearn model. At last, I put those variables in the sklearn, and find all of them bad at predicting non-trained datasets. Firstly, I thought it was the wrong model I use. After several failure trial, I turned to Multi-layer Perceptron Regressor, which is a neural network method; and the results is even worse, which shows that it needs more data to actually train a machine predicting the acceleration using 'weight','cylinders','horsepower'. But through that OLS linear regression model, we still acheive our goal, which is \"find out what are the factors in the datasets that affects the acceleration of a car\"!!"
   ]
  },
  {
   "cell_type": "markdown",
   "metadata": {
    "cell_id": "6be4c58758244da78cf46fd1c080907b",
    "deepnote_cell_type": "markdown",
    "tags": []
   },
   "source": [
    "## References\n",
    "\n",
    "Your code above should include references.  Here is some additional space for references."
   ]
  },
  {
   "cell_type": "markdown",
   "metadata": {
    "cell_id": "75ae2cd1402a429794b8f77d99925037",
    "deepnote_cell_type": "markdown",
    "tags": []
   },
   "source": [
    "* What is the source of your dataset(s)?"
   ]
  },
  {
   "cell_type": "markdown",
   "metadata": {
    "cell_id": "3680d64d8504406982ff5fd077c8a400",
    "deepnote_cell_type": "markdown"
   },
   "source": [
    "Quinlan,R.. (1993). Auto MPG. UCI Machine Learning Repository. https://doi.org/10.24432/C5859H."
   ]
  }
 ],
 "metadata": {
  "deepnote": {
   "is_reactive": false
  },
  "deepnote_execution_queue": [],
  "deepnote_notebook_id": "05cff5ad734d4aeca72a615115d3d977",
  "deepnote_persisted_session": {
   "createdAt": "2023-12-14T07:59:37.420Z"
  },
  "language_info": {
   "name": "python"
  }
 },
 "nbformat": 4,
 "nbformat_minor": 0
}