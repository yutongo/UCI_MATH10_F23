{
 "cells": [
  {
   "cell_type": "markdown",
   "metadata": {
    "cell_id": "2828b497b456473c8fa63138af4fe94d",
    "deepnote_cell_type": "markdown",
    "tags": []
   },
   "source": [
    "# Predicting Success of MLB Teams\n",
    "\n",
    "Author: Eric Cao\n",
    "\n",
    "Course Project, UC Irvine, Math 10, F23"
   ]
  },
  {
   "cell_type": "markdown",
   "metadata": {
    "cell_id": "20c13ae2997945c5b36a827c846e8f58",
    "deepnote_cell_type": "markdown",
    "tags": []
   },
   "source": [
    "## Introduction\n",
    "\n",
    "Among baseball executives and fans, there is much debate about the way a MLB team's roster should be constructed. Some abide by the slogan \"Defense wins championships\", while others place more emphasis on offense. The goal of this project is to apply machine learning methods to a dataset containing teams' stats to determine which stats, if any, have the largest effect on a team's success."
   ]
  },
  {
   "cell_type": "markdown",
   "metadata": {
    "cell_id": "4e9a9494b0b4432f9c70c984d6888808",
    "deepnote_cell_type": "markdown",
    "tags": []
   },
   "source": [
    "## Cleaning the Data\n",
    "First import all the necessary modules and functions."
   ]
  },
  {
   "cell_type": "code",
   "execution_count": null,
   "metadata": {
    "cell_id": "05e7054450004e7a8d5f5364bd2d353d",
    "deepnote_cell_type": "code",
    "deepnote_to_be_reexecuted": false,
    "execution_millis": 6279,
    "execution_start": 1702543973636,
    "source_hash": null
   },
   "outputs": [
    {
     "name": "stderr",
     "output_type": "stream",
     "text": [
      "2023-12-14 08:52:56.790851: I tensorflow/core/platform/cpu_feature_guard.cc:193] This TensorFlow binary is optimized with oneAPI Deep Neural Network Library (oneDNN) to use the following CPU instructions in performance-critical operations:  AVX2 AVX512F FMA\n",
      "To enable them in other operations, rebuild TensorFlow with the appropriate compiler flags.\n",
      "2023-12-14 08:52:57.097621: W tensorflow/stream_executor/platform/default/dso_loader.cc:64] Could not load dynamic library 'libcudart.so.11.0'; dlerror: libcudart.so.11.0: cannot open shared object file: No such file or directory\n",
      "2023-12-14 08:52:57.097645: I tensorflow/stream_executor/cuda/cudart_stub.cc:29] Ignore above cudart dlerror if you do not have a GPU set up on your machine.\n",
      "2023-12-14 08:52:57.187274: E tensorflow/stream_executor/cuda/cuda_blas.cc:2981] Unable to register cuBLAS factory: Attempting to register factory for plugin cuBLAS when one has already been registered\n",
      "2023-12-14 08:52:58.839821: W tensorflow/stream_executor/platform/default/dso_loader.cc:64] Could not load dynamic library 'libnvinfer.so.7'; dlerror: libnvinfer.so.7: cannot open shared object file: No such file or directory\n",
      "2023-12-14 08:52:58.839909: W tensorflow/stream_executor/platform/default/dso_loader.cc:64] Could not load dynamic library 'libnvinfer_plugin.so.7'; dlerror: libnvinfer_plugin.so.7: cannot open shared object file: No such file or directory\n",
      "2023-12-14 08:52:58.839919: W tensorflow/compiler/tf2tensorrt/utils/py_utils.cc:38] TF-TRT Warning: Cannot dlopen some TensorRT libraries. If you would like to use Nvidia GPU with TensorRT, please make sure the missing libraries mentioned above are installed properly.\n"
     ]
    }
   ],
   "source": [
    "import pandas as pd\n",
    "import numpy as np\n",
    "import altair as alt\n",
    "import matplotlib.pyplot as plt\n",
    "import seaborn as sns\n",
    "from sklearn.preprocessing import MinMaxScaler\n",
    "from sklearn.model_selection import train_test_split\n",
    "from sklearn.linear_model import LinearRegression\n",
    "from sklearn.ensemble import RandomForestClassifier\n",
    "import tensorflow as tf\n",
    "from sklearn.metrics import mean_squared_error, mean_absolute_error, accuracy_score, confusion_matrix, classification_report"
   ]
  },
  {
   "cell_type": "code",
   "execution_count": null,
   "metadata": {
    "cell_id": "5ef9b67c95b944a4a8a4af0137dee832",
    "deepnote_cell_type": "code",
    "deepnote_to_be_reexecuted": false,
    "execution_millis": 490,
    "execution_start": 1702543979907,
    "source_hash": null
   },
   "outputs": [
    {
     "data": {
      "application/vnd.deepnote.dataframe.v3+json": {
       "column_count": 41,
       "columns": [
        {
         "dtype": "int64",
         "name": "year",
         "stats": {
          "histogram": [
           {
            "bin_end": 1890.4,
            "bin_start": 1876,
            "count": 116
           },
           {
            "bin_end": 1904.8,
            "bin_start": 1890.4,
            "count": 176
           },
           {
            "bin_end": 1919.2,
            "bin_start": 1904.8,
            "count": 240
           },
           {
            "bin_end": 1933.6,
            "bin_start": 1919.2,
            "count": 224
           },
           {
            "bin_end": 1948,
            "bin_start": 1933.6,
            "count": 224
           },
           {
            "bin_end": 1962.4,
            "bin_start": 1948,
            "count": 246
           },
           {
            "bin_end": 1976.8,
            "bin_start": 1962.4,
            "count": 312
           },
           {
            "bin_end": 1991.2,
            "bin_start": 1976.8,
            "count": 390
           },
           {
            "bin_end": 2005.6,
            "bin_start": 1991.2,
            "count": 406
           },
           {
            "bin_end": 2020,
            "bin_start": 2005.6,
            "count": 450
           }
          ],
          "max": "2020",
          "min": "1876",
          "nan_count": 0,
          "unique_count": 145
         }
        },
        {
         "dtype": "object",
         "name": "league_id",
         "stats": {
          "categories": [
           {
            "count": 1504,
            "name": "NL"
           },
           {
            "count": 1280,
            "name": "AL"
           }
          ],
          "nan_count": 0,
          "unique_count": 2
         }
        },
        {
         "dtype": "object",
         "name": "division_id",
         "stats": {
          "categories": [
           {
            "count": 588,
            "name": "E"
           },
           {
            "count": 850,
            "name": "2 others"
           },
           {
            "count": 1346,
            "name": "Missing"
           }
          ],
          "nan_count": 1346,
          "unique_count": 3
         }
        },
        {
         "dtype": "int64",
         "name": "rank",
         "stats": {
          "histogram": [
           {
            "bin_end": 2.1,
            "bin_start": 1,
            "count": 858
           },
           {
            "bin_end": 3.2,
            "bin_start": 2.1,
            "count": 421
           },
           {
            "bin_end": 4.300000000000001,
            "bin_start": 3.2,
            "count": 426
           },
           {
            "bin_end": 5.4,
            "bin_start": 4.300000000000001,
            "count": 398
           },
           {
            "bin_end": 6.5,
            "bin_start": 5.4,
            "count": 274
           },
           {
            "bin_end": 7.6000000000000005,
            "bin_start": 6.5,
            "count": 190
           },
           {
            "bin_end": 8.700000000000001,
            "bin_start": 7.6000000000000005,
            "count": 156
           },
           {
            "bin_end": 9.8,
            "bin_start": 8.700000000000001,
            "count": 23
           },
           {
            "bin_end": 10.9,
            "bin_start": 9.8,
            "count": 22
           },
           {
            "bin_end": 12,
            "bin_start": 10.9,
            "count": 16
           }
          ],
          "max": "12",
          "min": "1",
          "nan_count": 0,
          "unique_count": 12
         }
        },
        {
         "dtype": "int64",
         "name": "games_played",
         "stats": {
          "histogram": [
           {
            "bin_end": 67.8,
            "bin_start": 57,
            "count": 47
           },
           {
            "bin_end": 78.6,
            "bin_start": 67.8,
            "count": 5
           },
           {
            "bin_end": 89.4,
            "bin_start": 78.6,
            "count": 30
           },
           {
            "bin_end": 100.2,
            "bin_start": 89.4,
            "count": 7
           },
           {
            "bin_end": 111,
            "bin_start": 100.2,
            "count": 28
           },
           {
            "bin_end": 121.80000000000001,
            "bin_start": 111,
            "count": 45
           },
           {
            "bin_end": 132.60000000000002,
            "bin_start": 121.80000000000001,
            "count": 62
           },
           {
            "bin_end": 143.4,
            "bin_start": 132.60000000000002,
            "count": 132
           },
           {
            "bin_end": 154.2,
            "bin_start": 143.4,
            "count": 516
           },
           {
            "bin_end": 165,
            "bin_start": 154.2,
            "count": 1912
           }
          ],
          "max": "165",
          "min": "57",
          "nan_count": 0,
          "unique_count": 85
         }
        },
        {
         "dtype": "float64",
         "name": "home_games",
         "stats": {
          "histogram": [
           {
            "bin_end": 30,
            "bin_start": 24,
            "count": 10
           },
           {
            "bin_end": 36,
            "bin_start": 30,
            "count": 20
           },
           {
            "bin_end": 42,
            "bin_start": 36,
            "count": 0
           },
           {
            "bin_end": 48,
            "bin_start": 42,
            "count": 2
           },
           {
            "bin_end": 54,
            "bin_start": 48,
            "count": 17
           },
           {
            "bin_end": 60,
            "bin_start": 54,
            "count": 34
           },
           {
            "bin_end": 66,
            "bin_start": 60,
            "count": 13
           },
           {
            "bin_end": 72,
            "bin_start": 66,
            "count": 60
           },
           {
            "bin_end": 78,
            "bin_start": 72,
            "count": 597
           },
           {
            "bin_end": 84,
            "bin_start": 78,
            "count": 1803
           }
          ],
          "max": "84.0",
          "min": "24.0",
          "nan_count": 228,
          "unique_count": 47
         }
        },
        {
         "dtype": "int64",
         "name": "wins",
         "stats": {
          "histogram": [
           {
            "bin_end": 19.7,
            "bin_start": 9,
            "count": 8
           },
           {
            "bin_end": 30.4,
            "bin_start": 19.7,
            "count": 32
           },
           {
            "bin_end": 41.099999999999994,
            "bin_start": 30.4,
            "count": 52
           },
           {
            "bin_end": 51.8,
            "bin_start": 41.099999999999994,
            "count": 97
           },
           {
            "bin_end": 62.5,
            "bin_start": 51.8,
            "count": 293
           },
           {
            "bin_end": 73.19999999999999,
            "bin_start": 62.5,
            "count": 592
           },
           {
            "bin_end": 83.89999999999999,
            "bin_start": 73.19999999999999,
            "count": 711
           },
           {
            "bin_end": 94.6,
            "bin_start": 83.89999999999999,
            "count": 701
           },
           {
            "bin_end": 105.3,
            "bin_start": 94.6,
            "count": 277
           },
           {
            "bin_end": 116,
            "bin_start": 105.3,
            "count": 21
           }
          ],
          "max": "116",
          "min": "9",
          "nan_count": 0,
          "unique_count": 100
         }
        },
        {
         "dtype": "int64",
         "name": "losses",
         "stats": {
          "histogram": [
           {
            "bin_end": 26,
            "bin_start": 14,
            "count": 18
           },
           {
            "bin_end": 38,
            "bin_start": 26,
            "count": 46
           },
           {
            "bin_end": 50,
            "bin_start": 38,
            "count": 95
           },
           {
            "bin_end": 62,
            "bin_start": 50,
            "count": 273
           },
           {
            "bin_end": 74,
            "bin_start": 62,
            "count": 708
           },
           {
            "bin_end": 86,
            "bin_start": 74,
            "count": 836
           },
           {
            "bin_end": 98,
            "bin_start": 86,
            "count": 601
           },
           {
            "bin_end": 110,
            "bin_start": 98,
            "count": 186
           },
           {
            "bin_end": 122,
            "bin_start": 110,
            "count": 20
           },
           {
            "bin_end": 134,
            "bin_start": 122,
            "count": 1
           }
          ],
          "max": "134",
          "min": "14",
          "nan_count": 0,
          "unique_count": 103
         }
        },
        {
         "dtype": "object",
         "name": "division_winner",
         "stats": {
          "categories": [
           {
            "count": 1150,
            "name": "N"
           },
           {
            "count": 260,
            "name": "Y"
           },
           {
            "count": 1374,
            "name": "Missing"
           }
          ],
          "nan_count": 1374,
          "unique_count": 2
         }
        },
        {
         "dtype": "object",
         "name": "wild_card_winner",
         "stats": {
          "categories": [
           {
            "count": 698,
            "name": "N"
           },
           {
            "count": 76,
            "name": "Y"
           },
           {
            "count": 2010,
            "name": "Missing"
           }
          ],
          "nan_count": 2010,
          "unique_count": 2
         }
        },
        {
         "dtype": "object",
         "name": "league_winner",
         "stats": {
          "categories": [
           {
            "count": 2493,
            "name": "N"
           },
           {
            "count": 263,
            "name": "Y"
           },
           {
            "count": 28,
            "name": "Missing"
           }
          ],
          "nan_count": 28,
          "unique_count": 2
         }
        },
        {
         "dtype": "object",
         "name": "world_series_winner",
         "stats": {
          "categories": [
           {
            "count": 2416,
            "name": "N"
           },
           {
            "count": 120,
            "name": "Y"
           },
           {
            "count": 248,
            "name": "Missing"
           }
          ],
          "nan_count": 248,
          "unique_count": 2
         }
        },
        {
         "dtype": "int64",
         "name": "runs_scored",
         "stats": {
          "histogram": [
           {
            "bin_end": 319.1,
            "bin_start": 219,
            "count": 37
           },
           {
            "bin_end": 419.2,
            "bin_start": 319.1,
            "count": 47
           },
           {
            "bin_end": 519.3,
            "bin_start": 419.2,
            "count": 151
           },
           {
            "bin_end": 619.4,
            "bin_start": 519.3,
            "count": 470
           },
           {
            "bin_end": 719.5,
            "bin_start": 619.4,
            "count": 960
           },
           {
            "bin_end": 819.5999999999999,
            "bin_start": 719.5,
            "count": 766
           },
           {
            "bin_end": 919.6999999999999,
            "bin_start": 819.5999999999999,
            "count": 276
           },
           {
            "bin_end": 1019.8,
            "bin_start": 919.6999999999999,
            "count": 66
           },
           {
            "bin_end": 1119.9,
            "bin_start": 1019.8,
            "count": 8
           },
           {
            "bin_end": 1220,
            "bin_start": 1119.9,
            "count": 3
           }
          ],
          "max": "1220",
          "min": "219",
          "nan_count": 0,
          "unique_count": 593
         }
        },
        {
         "dtype": "int64",
         "name": "at_bats",
         "stats": {
          "histogram": [
           {
            "bin_end": 2154.9,
            "bin_start": 1752,
            "count": 31
           },
           {
            "bin_end": 2557.8,
            "bin_start": 2154.9,
            "count": 15
           },
           {
            "bin_end": 2960.7,
            "bin_start": 2557.8,
            "count": 9
           },
           {
            "bin_end": 3363.6,
            "bin_start": 2960.7,
            "count": 26
           },
           {
            "bin_end": 3766.5,
            "bin_start": 3363.6,
            "count": 35
           },
           {
            "bin_end": 4169.4,
            "bin_start": 3766.5,
            "count": 50
           },
           {
            "bin_end": 4572.299999999999,
            "bin_start": 4169.4,
            "count": 40
           },
           {
            "bin_end": 4975.2,
            "bin_start": 4572.299999999999,
            "count": 191
           },
           {
            "bin_end": 5378.1,
            "bin_start": 4975.2,
            "count": 836
           },
           {
            "bin_end": 5781,
            "bin_start": 5378.1,
            "count": 1551
           }
          ],
          "max": "5781",
          "min": "1752",
          "nan_count": 0,
          "unique_count": 1006
         }
        },
        {
         "dtype": "int64",
         "name": "hits",
         "stats": {
          "histogram": [
           {
            "bin_end": 529.3,
            "bin_start": 390,
            "count": 26
           },
           {
            "bin_end": 668.6,
            "bin_start": 529.3,
            "count": 22
           },
           {
            "bin_end": 807.9000000000001,
            "bin_start": 668.6,
            "count": 25
           },
           {
            "bin_end": 947.2,
            "bin_start": 807.9000000000001,
            "count": 37
           },
           {
            "bin_end": 1086.5,
            "bin_start": 947.2,
            "count": 65
           },
           {
            "bin_end": 1225.8000000000002,
            "bin_start": 1086.5,
            "count": 168
           },
           {
            "bin_end": 1365.1000000000001,
            "bin_start": 1225.8000000000002,
            "count": 744
           },
           {
            "bin_end": 1504.4,
            "bin_start": 1365.1000000000001,
            "count": 1222
           },
           {
            "bin_end": 1643.7,
            "bin_start": 1504.4,
            "count": 433
           },
           {
            "bin_end": 1783,
            "bin_start": 1643.7,
            "count": 42
           }
          ],
          "max": "1783",
          "min": "390",
          "nan_count": 0,
          "unique_count": 676
         }
        },
        {
         "dtype": "int64",
         "name": "doubles",
         "stats": {
          "histogram": [
           {
            "bin_end": 72.7,
            "bin_start": 39,
            "count": 9
           },
           {
            "bin_end": 106.4,
            "bin_start": 72.7,
            "count": 41
           },
           {
            "bin_end": 140.10000000000002,
            "bin_start": 106.4,
            "count": 75
           },
           {
            "bin_end": 173.8,
            "bin_start": 140.10000000000002,
            "count": 243
           },
           {
            "bin_end": 207.5,
            "bin_start": 173.8,
            "count": 451
           },
           {
            "bin_end": 241.20000000000002,
            "bin_start": 207.5,
            "count": 656
           },
           {
            "bin_end": 274.90000000000003,
            "bin_start": 241.20000000000002,
            "count": 620
           },
           {
            "bin_end": 308.6,
            "bin_start": 274.90000000000003,
            "count": 497
           },
           {
            "bin_end": 342.3,
            "bin_start": 308.6,
            "count": 162
           },
           {
            "bin_end": 376,
            "bin_start": 342.3,
            "count": 30
           }
          ],
          "max": "376",
          "min": "39",
          "nan_count": 0,
          "unique_count": 277
         }
        },
        {
         "dtype": "int64",
         "name": "triples",
         "stats": {
          "histogram": [
           {
            "bin_end": 17.7,
            "bin_start": 3,
            "count": 102
           },
           {
            "bin_end": 32.4,
            "bin_start": 17.7,
            "count": 800
           },
           {
            "bin_end": 47.099999999999994,
            "bin_start": 32.4,
            "count": 845
           },
           {
            "bin_end": 61.8,
            "bin_start": 47.099999999999994,
            "count": 451
           },
           {
            "bin_end": 76.5,
            "bin_start": 61.8,
            "count": 283
           },
           {
            "bin_end": 91.19999999999999,
            "bin_start": 76.5,
            "count": 190
           },
           {
            "bin_end": 105.89999999999999,
            "bin_start": 91.19999999999999,
            "count": 82
           },
           {
            "bin_end": 120.6,
            "bin_start": 105.89999999999999,
            "count": 22
           },
           {
            "bin_end": 135.29999999999998,
            "bin_start": 120.6,
            "count": 7
           },
           {
            "bin_end": 150,
            "bin_start": 135.29999999999998,
            "count": 2
           }
          ],
          "max": "150",
          "min": "3",
          "nan_count": 0,
          "unique_count": 122
         }
        },
        {
         "dtype": "int64",
         "name": "homeruns",
         "stats": {
          "histogram": [
           {
            "bin_end": 30.7,
            "bin_start": 0,
            "count": 399
           },
           {
            "bin_end": 61.4,
            "bin_start": 30.7,
            "count": 337
           },
           {
            "bin_end": 92.1,
            "bin_start": 61.4,
            "count": 302
           },
           {
            "bin_end": 122.8,
            "bin_start": 92.1,
            "count": 486
           },
           {
            "bin_end": 153.5,
            "bin_start": 122.8,
            "count": 524
           },
           {
            "bin_end": 184.2,
            "bin_start": 153.5,
            "count": 412
           },
           {
            "bin_end": 214.9,
            "bin_start": 184.2,
            "count": 207
           },
           {
            "bin_end": 245.6,
            "bin_start": 214.9,
            "count": 100
           },
           {
            "bin_end": 276.3,
            "bin_start": 245.6,
            "count": 13
           },
           {
            "bin_end": 307,
            "bin_start": 276.3,
            "count": 4
           }
          ],
          "max": "307",
          "min": "0",
          "nan_count": 0,
          "unique_count": 259
         }
        },
        {
         "dtype": "int64",
         "name": "walks",
         "stats": {
          "histogram": [
           {
            "bin_end": 99.7,
            "bin_start": 18,
            "count": 33
           },
           {
            "bin_end": 181.4,
            "bin_start": 99.7,
            "count": 37
           },
           {
            "bin_end": 263.1,
            "bin_start": 181.4,
            "count": 45
           },
           {
            "bin_end": 344.8,
            "bin_start": 263.1,
            "count": 124
           },
           {
            "bin_end": 426.5,
            "bin_start": 344.8,
            "count": 386
           },
           {
            "bin_end": 508.20000000000005,
            "bin_start": 426.5,
            "count": 890
           },
           {
            "bin_end": 589.9,
            "bin_start": 508.20000000000005,
            "count": 841
           },
           {
            "bin_end": 671.6,
            "bin_start": 589.9,
            "count": 348
           },
           {
            "bin_end": 753.3000000000001,
            "bin_start": 671.6,
            "count": 70
           },
           {
            "bin_end": 835,
            "bin_start": 753.3000000000001,
            "count": 10
           }
          ],
          "max": "835",
          "min": "18",
          "nan_count": 0,
          "unique_count": 530
         }
        },
        {
         "dtype": "float64",
         "name": "strikeouts_by_batters",
         "stats": {
          "histogram": [
           {
            "bin_end": 191,
            "bin_start": 35,
            "count": 21
           },
           {
            "bin_end": 347,
            "bin_start": 191,
            "count": 141
           },
           {
            "bin_end": 503,
            "bin_start": 347,
            "count": 409
           },
           {
            "bin_end": 659,
            "bin_start": 503,
            "count": 531
           },
           {
            "bin_end": 815,
            "bin_start": 659,
            "count": 326
           },
           {
            "bin_end": 971,
            "bin_start": 815,
            "count": 549
           },
           {
            "bin_end": 1127,
            "bin_start": 971,
            "count": 435
           },
           {
            "bin_end": 1283,
            "bin_start": 1127,
            "count": 210
           },
           {
            "bin_end": 1439,
            "bin_start": 1283,
            "count": 111
           },
           {
            "bin_end": 1595,
            "bin_start": 1439,
            "count": 35
           }
          ],
          "max": "1595.0",
          "min": "35.0",
          "nan_count": 16,
          "unique_count": 1061
         }
        },
        {
         "dtype": "float64",
         "name": "stolen_bases",
         "stats": {
          "histogram": [
           {
            "bin_end": 55.8,
            "bin_start": 13,
            "count": 528
           },
           {
            "bin_end": 98.6,
            "bin_start": 55.8,
            "count": 945
           },
           {
            "bin_end": 141.39999999999998,
            "bin_start": 98.6,
            "count": 641
           },
           {
            "bin_end": 184.2,
            "bin_start": 141.39999999999998,
            "count": 298
           },
           {
            "bin_end": 227,
            "bin_start": 184.2,
            "count": 156
           },
           {
            "bin_end": 269.79999999999995,
            "bin_start": 227,
            "count": 72
           },
           {
            "bin_end": 312.59999999999997,
            "bin_start": 269.79999999999995,
            "count": 38
           },
           {
            "bin_end": 355.4,
            "bin_start": 312.59999999999997,
            "count": 23
           },
           {
            "bin_end": 398.2,
            "bin_start": 355.4,
            "count": 3
           },
           {
            "bin_end": 441,
            "bin_start": 398.2,
            "count": 4
           }
          ],
          "max": "441.0",
          "min": "13.0",
          "nan_count": 76,
          "unique_count": 293
         }
        },
        {
         "dtype": "float64",
         "name": "caught_stealing",
         "stats": {
          "histogram": [
           {
            "bin_end": 21.8,
            "bin_start": 3,
            "count": 108
           },
           {
            "bin_end": 40.6,
            "bin_start": 21.8,
            "count": 757
           },
           {
            "bin_end": 59.400000000000006,
            "bin_start": 40.6,
            "count": 768
           },
           {
            "bin_end": 78.2,
            "bin_start": 59.400000000000006,
            "count": 310
           },
           {
            "bin_end": 97,
            "bin_start": 78.2,
            "count": 73
           },
           {
            "bin_end": 115.80000000000001,
            "bin_start": 97,
            "count": 29
           },
           {
            "bin_end": 134.6,
            "bin_start": 115.80000000000001,
            "count": 14
           },
           {
            "bin_end": 153.4,
            "bin_start": 134.6,
            "count": 8
           },
           {
            "bin_end": 172.20000000000002,
            "bin_start": 153.4,
            "count": 4
           },
           {
            "bin_end": 191,
            "bin_start": 172.20000000000002,
            "count": 5
           }
          ],
          "max": "191.0",
          "min": "3.0",
          "nan_count": 708,
          "unique_count": 136
         }
        },
        {
         "dtype": "float64",
         "name": "batters_hit_by_pitch",
         "stats": {
          "histogram": [
           {
            "bin_end": 22.3,
            "bin_start": 7,
            "count": 135
           },
           {
            "bin_end": 37.6,
            "bin_start": 22.3,
            "count": 519
           },
           {
            "bin_end": 52.900000000000006,
            "bin_start": 37.6,
            "count": 523
           },
           {
            "bin_end": 68.2,
            "bin_start": 52.900000000000006,
            "count": 364
           },
           {
            "bin_end": 83.5,
            "bin_start": 68.2,
            "count": 133
           },
           {
            "bin_end": 98.80000000000001,
            "bin_start": 83.5,
            "count": 35
           },
           {
            "bin_end": 114.10000000000001,
            "bin_start": 98.80000000000001,
            "count": 4
           },
           {
            "bin_end": 129.4,
            "bin_start": 114.10000000000001,
            "count": 4
           },
           {
            "bin_end": 144.70000000000002,
            "bin_start": 129.4,
            "count": 0
           },
           {
            "bin_end": 160,
            "bin_start": 144.70000000000002,
            "count": 1
           }
          ],
          "max": "160.0",
          "min": "7.0",
          "nan_count": 1066,
          "unique_count": 97
         }
        },
        {
         "dtype": "float64",
         "name": "sacrifice_flies",
         "stats": {
          "histogram": [
           {
            "bin_end": 14,
            "bin_start": 7,
            "count": 16
           },
           {
            "bin_end": 21,
            "bin_start": 14,
            "count": 15
           },
           {
            "bin_end": 28,
            "bin_start": 21,
            "count": 30
           },
           {
            "bin_end": 35,
            "bin_start": 28,
            "count": 134
           },
           {
            "bin_end": 42,
            "bin_start": 35,
            "count": 360
           },
           {
            "bin_end": 49,
            "bin_start": 42,
            "count": 384
           },
           {
            "bin_end": 56,
            "bin_start": 49,
            "count": 300
           },
           {
            "bin_end": 63,
            "bin_start": 56,
            "count": 126
           },
           {
            "bin_end": 70,
            "bin_start": 63,
            "count": 31
           },
           {
            "bin_end": 77,
            "bin_start": 70,
            "count": 18
           }
          ],
          "max": "77.0",
          "min": "7.0",
          "nan_count": 1370,
          "unique_count": 66
         }
        },
        {
         "dtype": "int64",
         "name": "opponents_runs_scored",
         "stats": {
          "histogram": [
           {
            "bin_end": 313.3,
            "bin_start": 209,
            "count": 35
           },
           {
            "bin_end": 417.6,
            "bin_start": 313.3,
            "count": 50
           },
           {
            "bin_end": 521.9,
            "bin_start": 417.6,
            "count": 148
           },
           {
            "bin_end": 626.2,
            "bin_start": 521.9,
            "count": 546
           },
           {
            "bin_end": 730.5,
            "bin_start": 626.2,
            "count": 998
           },
           {
            "bin_end": 834.8,
            "bin_start": 730.5,
            "count": 714
           },
           {
            "bin_end": 939.1,
            "bin_start": 834.8,
            "count": 241
           },
           {
            "bin_end": 1043.4,
            "bin_start": 939.1,
            "count": 40
           },
           {
            "bin_end": 1147.6999999999998,
            "bin_start": 1043.4,
            "count": 9
           },
           {
            "bin_end": 1252,
            "bin_start": 1147.6999999999998,
            "count": 3
           }
          ],
          "max": "1252",
          "min": "209",
          "nan_count": 0,
          "unique_count": 579
         }
        },
        {
         "dtype": "int64",
         "name": "earned_runs_allowed",
         "stats": {
          "histogram": [
           {
            "bin_end": 172.5,
            "bin_start": 78,
            "count": 17
           },
           {
            "bin_end": 267,
            "bin_start": 172.5,
            "count": 59
           },
           {
            "bin_end": 361.5,
            "bin_start": 267,
            "count": 100
           },
           {
            "bin_end": 456,
            "bin_start": 361.5,
            "count": 232
           },
           {
            "bin_end": 550.5,
            "bin_start": 456,
            "count": 519
           },
           {
            "bin_end": 645,
            "bin_start": 550.5,
            "count": 883
           },
           {
            "bin_end": 739.5,
            "bin_start": 645,
            "count": 678
           },
           {
            "bin_end": 834,
            "bin_start": 739.5,
            "count": 247
           },
           {
            "bin_end": 928.5,
            "bin_start": 834,
            "count": 45
           },
           {
            "bin_end": 1023,
            "bin_start": 928.5,
            "count": 4
           }
          ],
          "max": "1023",
          "min": "78",
          "nan_count": 0,
          "unique_count": 602
         }
        },
        {
         "dtype": "float64",
         "name": "earned_run_average",
         "stats": {
          "histogram": [
           {
            "bin_end": 1.7690000000000001,
            "bin_start": 1.22,
            "count": 10
           },
           {
            "bin_end": 2.318,
            "bin_start": 1.7690000000000001,
            "count": 58
           },
           {
            "bin_end": 2.867,
            "bin_start": 2.318,
            "count": 187
           },
           {
            "bin_end": 3.4160000000000004,
            "bin_start": 2.867,
            "count": 466
           },
           {
            "bin_end": 3.965,
            "bin_start": 3.4160000000000004,
            "count": 820
           },
           {
            "bin_end": 4.514,
            "bin_start": 3.965,
            "count": 741
           },
           {
            "bin_end": 5.063000000000001,
            "bin_start": 4.514,
            "count": 363
           },
           {
            "bin_end": 5.612,
            "bin_start": 5.063000000000001,
            "count": 113
           },
           {
            "bin_end": 6.1610000000000005,
            "bin_start": 5.612,
            "count": 21
           },
           {
            "bin_end": 6.71,
            "bin_start": 6.1610000000000005,
            "count": 5
           }
          ],
          "max": "6.71",
          "min": "1.22",
          "nan_count": 0,
          "unique_count": 379
         }
        },
        {
         "dtype": "int64",
         "name": "complete_games",
         "stats": {
          "histogram": [
           {
            "bin_end": 14.8,
            "bin_start": 0,
            "count": 860
           },
           {
            "bin_end": 29.6,
            "bin_start": 14.8,
            "count": 318
           },
           {
            "bin_end": 44.400000000000006,
            "bin_start": 29.6,
            "count": 321
           },
           {
            "bin_end": 59.2,
            "bin_start": 44.400000000000006,
            "count": 305
           },
           {
            "bin_end": 74,
            "bin_start": 59.2,
            "count": 293
           },
           {
            "bin_end": 88.80000000000001,
            "bin_start": 74,
            "count": 276
           },
           {
            "bin_end": 103.60000000000001,
            "bin_start": 88.80000000000001,
            "count": 112
           },
           {
            "bin_end": 118.4,
            "bin_start": 103.60000000000001,
            "count": 158
           },
           {
            "bin_end": 133.20000000000002,
            "bin_start": 118.4,
            "count": 103
           },
           {
            "bin_end": 148,
            "bin_start": 133.20000000000002,
            "count": 38
           }
          ],
          "max": "148",
          "min": "0",
          "nan_count": 0,
          "unique_count": 147
         }
        },
        {
         "dtype": "int64",
         "name": "shutouts",
         "stats": {
          "histogram": [
           {
            "bin_end": 3.2,
            "bin_start": 0,
            "count": 209
           },
           {
            "bin_end": 6.4,
            "bin_start": 3.2,
            "count": 533
           },
           {
            "bin_end": 9.600000000000001,
            "bin_start": 6.4,
            "count": 671
           },
           {
            "bin_end": 12.8,
            "bin_start": 9.600000000000001,
            "count": 652
           },
           {
            "bin_end": 16,
            "bin_start": 12.8,
            "count": 362
           },
           {
            "bin_end": 19.200000000000003,
            "bin_start": 16,
            "count": 240
           },
           {
            "bin_end": 22.400000000000002,
            "bin_start": 19.200000000000003,
            "count": 65
           },
           {
            "bin_end": 25.6,
            "bin_start": 22.400000000000002,
            "count": 34
           },
           {
            "bin_end": 28.8,
            "bin_start": 25.6,
            "count": 12
           },
           {
            "bin_end": 32,
            "bin_start": 28.8,
            "count": 6
           }
          ],
          "max": "32",
          "min": "0",
          "nan_count": 0,
          "unique_count": 32
         }
        },
        {
         "dtype": "int64",
         "name": "saves",
         "stats": {
          "histogram": [
           {
            "bin_end": 6.8,
            "bin_start": 0,
            "count": 431
           },
           {
            "bin_end": 13.6,
            "bin_start": 6.8,
            "count": 392
           },
           {
            "bin_end": 20.4,
            "bin_start": 13.6,
            "count": 298
           },
           {
            "bin_end": 27.2,
            "bin_start": 20.4,
            "count": 296
           },
           {
            "bin_end": 34,
            "bin_start": 27.2,
            "count": 317
           },
           {
            "bin_end": 40.8,
            "bin_start": 34,
            "count": 450
           },
           {
            "bin_end": 47.6,
            "bin_start": 40.8,
            "count": 411
           },
           {
            "bin_end": 54.4,
            "bin_start": 47.6,
            "count": 148
           },
           {
            "bin_end": 61.199999999999996,
            "bin_start": 54.4,
            "count": 36
           },
           {
            "bin_end": 68,
            "bin_start": 61.199999999999996,
            "count": 5
           }
          ],
          "max": "68",
          "min": "0",
          "nan_count": 0,
          "unique_count": 66
         }
        },
        {
         "dtype": "int64",
         "name": "outs_pitches",
         "stats": {
          "histogram": [
           {
            "bin_end": 1728.9,
            "bin_start": 1419,
            "count": 43
           },
           {
            "bin_end": 2038.8,
            "bin_start": 1728.9,
            "count": 8
           },
           {
            "bin_end": 2348.7,
            "bin_start": 2038.8,
            "count": 29
           },
           {
            "bin_end": 2658.6,
            "bin_start": 2348.7,
            "count": 9
           },
           {
            "bin_end": 2968.5,
            "bin_start": 2658.6,
            "count": 30
           },
           {
            "bin_end": 3278.3999999999996,
            "bin_start": 2968.5,
            "count": 50
           },
           {
            "bin_end": 3588.2999999999997,
            "bin_start": 3278.3999999999996,
            "count": 99
           },
           {
            "bin_end": 3898.2,
            "bin_start": 3588.2999999999997,
            "count": 122
           },
           {
            "bin_end": 4208.1,
            "bin_start": 3898.2,
            "count": 808
           },
           {
            "bin_end": 4518,
            "bin_start": 4208.1,
            "count": 1586
           }
          ],
          "max": "4518",
          "min": "1419",
          "nan_count": 0,
          "unique_count": 722
         }
        },
        {
         "dtype": "int64",
         "name": "hits_allowed",
         "stats": {
          "histogram": [
           {
            "bin_end": 537.7,
            "bin_start": 376,
            "count": 27
           },
           {
            "bin_end": 699.4,
            "bin_start": 537.7,
            "count": 24
           },
           {
            "bin_end": 861.0999999999999,
            "bin_start": 699.4,
            "count": 37
           },
           {
            "bin_end": 1022.8,
            "bin_start": 861.0999999999999,
            "count": 52
           },
           {
            "bin_end": 1184.5,
            "bin_start": 1022.8,
            "count": 124
           },
           {
            "bin_end": 1346.1999999999998,
            "bin_start": 1184.5,
            "count": 680
           },
           {
            "bin_end": 1507.8999999999999,
            "bin_start": 1346.1999999999998,
            "count": 1372
           },
           {
            "bin_end": 1669.6,
            "bin_start": 1507.8999999999999,
            "count": 447
           },
           {
            "bin_end": 1831.3,
            "bin_start": 1669.6,
            "count": 19
           },
           {
            "bin_end": 1993,
            "bin_start": 1831.3,
            "count": 2
           }
          ],
          "max": "1993",
          "min": "376",
          "nan_count": 0,
          "unique_count": 673
         }
        },
        {
         "dtype": "int64",
         "name": "homeruns_allowed",
         "stats": {
          "histogram": [
           {
            "bin_end": 32.3,
            "bin_start": 2,
            "count": 395
           },
           {
            "bin_end": 62.6,
            "bin_start": 32.3,
            "count": 289
           },
           {
            "bin_end": 92.9,
            "bin_start": 62.6,
            "count": 352
           },
           {
            "bin_end": 123.2,
            "bin_start": 92.9,
            "count": 476
           },
           {
            "bin_end": 153.5,
            "bin_start": 123.2,
            "count": 554
           },
           {
            "bin_end": 183.8,
            "bin_start": 153.5,
            "count": 456
           },
           {
            "bin_end": 214.1,
            "bin_start": 183.8,
            "count": 201
           },
           {
            "bin_end": 244.4,
            "bin_start": 214.1,
            "count": 52
           },
           {
            "bin_end": 274.7,
            "bin_start": 244.4,
            "count": 8
           },
           {
            "bin_end": 305,
            "bin_start": 274.7,
            "count": 1
           }
          ],
          "max": "305",
          "min": "2",
          "nan_count": 0,
          "unique_count": 242
         }
        },
        {
         "dtype": "int64",
         "name": "walks_allowed",
         "stats": {
          "histogram": [
           {
            "bin_end": 104.3,
            "bin_start": 24,
            "count": 39
           },
           {
            "bin_end": 184.6,
            "bin_start": 104.3,
            "count": 31
           },
           {
            "bin_end": 264.9,
            "bin_start": 184.6,
            "count": 49
           },
           {
            "bin_end": 345.2,
            "bin_start": 264.9,
            "count": 124
           },
           {
            "bin_end": 425.5,
            "bin_start": 345.2,
            "count": 361
           },
           {
            "bin_end": 505.79999999999995,
            "bin_start": 425.5,
            "count": 874
           },
           {
            "bin_end": 586.1,
            "bin_start": 505.79999999999995,
            "count": 881
           },
           {
            "bin_end": 666.4,
            "bin_start": 586.1,
            "count": 352
           },
           {
            "bin_end": 746.6999999999999,
            "bin_start": 666.4,
            "count": 64
           },
           {
            "bin_end": 827,
            "bin_start": 746.6999999999999,
            "count": 9
           }
          ],
          "max": "827",
          "min": "24",
          "nan_count": 0,
          "unique_count": 531
         }
        },
        {
         "dtype": "int64",
         "name": "strikeouts_by_pitchers",
         "stats": {
          "histogram": [
           {
            "bin_end": 188.5,
            "bin_start": 22,
            "count": 25
           },
           {
            "bin_end": 355,
            "bin_start": 188.5,
            "count": 147
           },
           {
            "bin_end": 521.5,
            "bin_start": 355,
            "count": 488
           },
           {
            "bin_end": 688,
            "bin_start": 521.5,
            "count": 491
           },
           {
            "bin_end": 854.5,
            "bin_start": 688,
            "count": 434
           },
           {
            "bin_end": 1021,
            "bin_start": 854.5,
            "count": 550
           },
           {
            "bin_end": 1187.5,
            "bin_start": 1021,
            "count": 383
           },
           {
            "bin_end": 1354,
            "bin_start": 1187.5,
            "count": 190
           },
           {
            "bin_end": 1520.5,
            "bin_start": 1354,
            "count": 61
           },
           {
            "bin_end": 1687,
            "bin_start": 1520.5,
            "count": 15
           }
          ],
          "max": "1687",
          "min": "22",
          "nan_count": 0,
          "unique_count": 1079
         }
        },
        {
         "dtype": "int64",
         "name": "errors"
        },
        {
         "dtype": "int64",
         "name": "double_plays"
        },
        {
         "dtype": "float64",
         "name": "fielding_percentage"
        },
        {
         "dtype": "object",
         "name": "team_name"
        },
        {
         "dtype": "object",
         "name": "ball_park"
        },
        {
         "dtype": "float64",
         "name": "home_attendance"
        },
        {
         "dtype": "int64",
         "name": "_deepnote_index_column"
        }
       ],
       "row_count": 2784,
       "rows": [
        {
         "_deepnote_index_column": 0,
         "at_bats": 2722,
         "ball_park": "South End Grounds I",
         "batters_hit_by_pitch": "nan",
         "caught_stealing": "nan",
         "complete_games": 49,
         "division_id": "nan",
         "division_winner": "nan",
         "double_plays": 42,
         "doubles": 96,
         "earned_run_average": 2.51,
         "earned_runs_allowed": 176,
         "errors": 442,
         "fielding_percentage": 0.86,
         "games_played": 70,
         "hits": 723,
         "hits_allowed": 732,
         "home_attendance": "nan",
         "home_games": "nan",
         "homeruns": 9,
         "homeruns_allowed": 7,
         "league_id": "NL",
         "league_winner": "N",
         "losses": 31,
         "opponents_runs_scored": 450,
         "outs_pitches": 1896,
         "rank": 4,
         "runs_scored": 471,
         "sacrifice_flies": "nan",
         "saves": 7,
         "shutouts": 3,
         "stolen_bases": "nan",
         "strikeouts_by_batters": 98,
         "strikeouts_by_pitchers": 77,
         "team_name": "Boston Red Caps",
         "triples": 24,
         "walks": 58,
         "walks_allowed": 104,
         "wild_card_winner": "nan",
         "wins": 39,
         "world_series_winner": "nan",
         "year": 1876
        },
        {
         "_deepnote_index_column": 1,
         "at_bats": 2748,
         "ball_park": "23rd Street Grounds",
         "batters_hit_by_pitch": "nan",
         "caught_stealing": "nan",
         "complete_games": 58,
         "division_id": "nan",
         "division_winner": "nan",
         "double_plays": 33,
         "doubles": 131,
         "earned_run_average": 1.76,
         "earned_runs_allowed": 116,
         "errors": 282,
         "fielding_percentage": 0.899,
         "games_played": 66,
         "hits": 926,
         "hits_allowed": 608,
         "home_attendance": "nan",
         "home_games": "nan",
         "homeruns": 8,
         "homeruns_allowed": 6,
         "league_id": "NL",
         "league_winner": "Y",
         "losses": 14,
         "opponents_runs_scored": 257,
         "outs_pitches": 1777,
         "rank": 1,
         "runs_scored": 624,
         "sacrifice_flies": "nan",
         "saves": 4,
         "shutouts": 9,
         "stolen_bases": "nan",
         "strikeouts_by_batters": 45,
         "strikeouts_by_pitchers": 51,
         "team_name": "Chicago White Stockings",
         "triples": 32,
         "walks": 70,
         "walks_allowed": 29,
         "wild_card_winner": "nan",
         "wins": 52,
         "world_series_winner": "nan",
         "year": 1876
        },
        {
         "_deepnote_index_column": 2,
         "at_bats": 2372,
         "ball_park": "Avenue Grounds",
         "batters_hit_by_pitch": "nan",
         "caught_stealing": "nan",
         "complete_games": 57,
         "division_id": "nan",
         "division_winner": "nan",
         "double_plays": 45,
         "doubles": 51,
         "earned_run_average": 3.62,
         "earned_runs_allowed": 238,
         "errors": 469,
         "fielding_percentage": 0.841,
         "games_played": 65,
         "hits": 555,
         "hits_allowed": 850,
         "home_attendance": "nan",
         "home_games": "nan",
         "homeruns": 4,
         "homeruns_allowed": 9,
         "league_id": "NL",
         "league_winner": "N",
         "losses": 56,
         "opponents_runs_scored": 579,
         "outs_pitches": 1773,
         "rank": 8,
         "runs_scored": 238,
         "sacrifice_flies": "nan",
         "saves": 0,
         "shutouts": 0,
         "stolen_bases": "nan",
         "strikeouts_by_batters": 136,
         "strikeouts_by_pitchers": 60,
         "team_name": "Cincinnati Reds",
         "triples": 12,
         "walks": 41,
         "walks_allowed": 34,
         "wild_card_winner": "nan",
         "wins": 9,
         "world_series_winner": "nan",
         "year": 1876
        },
        {
         "_deepnote_index_column": 3,
         "at_bats": 2664,
         "ball_park": "Hartford Ball Club Grounds",
         "batters_hit_by_pitch": "nan",
         "caught_stealing": "nan",
         "complete_games": 69,
         "division_id": "nan",
         "division_winner": "nan",
         "double_plays": 27,
         "doubles": 96,
         "earned_run_average": 1.67,
         "earned_runs_allowed": 116,
         "errors": 337,
         "fielding_percentage": 0.888,
         "games_played": 69,
         "hits": 711,
         "hits_allowed": 570,
         "home_attendance": "nan",
         "home_games": "nan",
         "homeruns": 2,
         "homeruns_allowed": 2,
         "league_id": "NL",
         "league_winner": "N",
         "losses": 21,
         "opponents_runs_scored": 261,
         "outs_pitches": 1872,
         "rank": 2,
         "runs_scored": 429,
         "sacrifice_flies": "nan",
         "saves": 0,
         "shutouts": 11,
         "stolen_bases": "nan",
         "strikeouts_by_batters": 78,
         "strikeouts_by_pitchers": 114,
         "team_name": "Hartford Dark Blues",
         "triples": 22,
         "walks": 39,
         "walks_allowed": 27,
         "wild_card_winner": "nan",
         "wins": 47,
         "world_series_winner": "nan",
         "year": 1876
        },
        {
         "_deepnote_index_column": 4,
         "at_bats": 2570,
         "ball_park": "Louisville Baseball Park",
         "batters_hit_by_pitch": "nan",
         "caught_stealing": "nan",
         "complete_games": 67,
         "division_id": "nan",
         "division_winner": "nan",
         "double_plays": 44,
         "doubles": 68,
         "earned_run_average": 1.69,
         "earned_runs_allowed": 121,
         "errors": 397,
         "fielding_percentage": 0.875,
         "games_played": 69,
         "hits": 641,
         "hits_allowed": 605,
         "home_attendance": "nan",
         "home_games": "nan",
         "homeruns": 6,
         "homeruns_allowed": 3,
         "league_id": "NL",
         "league_winner": "N",
         "losses": 36,
         "opponents_runs_scored": 344,
         "outs_pitches": 1929,
         "rank": 5,
         "runs_scored": 280,
         "sacrifice_flies": "nan",
         "saves": 0,
         "shutouts": 5,
         "stolen_bases": "nan",
         "strikeouts_by_batters": 98,
         "strikeouts_by_pitchers": 125,
         "team_name": "Louisville Grays",
         "triples": 14,
         "walks": 24,
         "walks_allowed": 38,
         "wild_card_winner": "nan",
         "wins": 30,
         "world_series_winner": "nan",
         "year": 1876
        },
        {
         "_deepnote_index_column": 5,
         "at_bats": 2180,
         "ball_park": "Union Grounds (Brooklyn)",
         "batters_hit_by_pitch": "nan",
         "caught_stealing": "nan",
         "complete_games": 56,
         "division_id": "nan",
         "division_winner": "nan",
         "double_plays": 18,
         "doubles": 39,
         "earned_run_average": 2.94,
         "earned_runs_allowed": 173,
         "errors": 473,
         "fielding_percentage": 0.825,
         "games_played": 57,
         "hits": 494,
         "hits_allowed": 718,
         "home_attendance": "nan",
         "home_games": "nan",
         "homeruns": 2,
         "homeruns_allowed": 8,
         "league_id": "NL",
         "league_winner": "N",
         "losses": 35,
         "opponents_runs_scored": 412,
         "outs_pitches": 1590,
         "rank": 6,
         "runs_scored": 260,
         "sacrifice_flies": "nan",
         "saves": 0,
         "shutouts": 2,
         "stolen_bases": "nan",
         "strikeouts_by_batters": 35,
         "strikeouts_by_pitchers": 37,
         "team_name": "New York Mutuals",
         "triples": 15,
         "walks": 18,
         "walks_allowed": 24,
         "wild_card_winner": "nan",
         "wins": 21,
         "world_series_winner": "nan",
         "year": 1876
        },
        {
         "_deepnote_index_column": 6,
         "at_bats": 2387,
         "ball_park": "Jefferson Street Grounds",
         "batters_hit_by_pitch": "nan",
         "caught_stealing": "nan",
         "complete_games": 53,
         "division_id": "nan",
         "division_winner": "nan",
         "double_plays": 32,
         "doubles": 79,
         "earned_run_average": 3.22,
         "earned_runs_allowed": 197,
         "errors": 456,
         "fielding_percentage": 0.839,
         "games_played": 60,
         "hits": 646,
         "hits_allowed": 783,
         "home_attendance": "nan",
         "home_games": "nan",
         "homeruns": 7,
         "homeruns_allowed": 2,
         "league_id": "NL",
         "league_winner": "N",
         "losses": 45,
         "opponents_runs_scored": 534,
         "outs_pitches": 1650,
         "rank": 7,
         "runs_scored": 378,
         "sacrifice_flies": "nan",
         "saves": 2,
         "shutouts": 1,
         "stolen_bases": "nan",
         "strikeouts_by_batters": 36,
         "strikeouts_by_pitchers": 22,
         "team_name": "Philadelphia Athletics",
         "triples": 35,
         "walks": 27,
         "walks_allowed": 41,
         "wild_card_winner": "nan",
         "wins": 14,
         "world_series_winner": "nan",
         "year": 1876
        },
        {
         "_deepnote_index_column": 7,
         "at_bats": 2478,
         "ball_park": "Sportsman's Park I",
         "batters_hit_by_pitch": "nan",
         "caught_stealing": "nan",
         "complete_games": 63,
         "division_id": "nan",
         "division_winner": "nan",
         "double_plays": 33,
         "doubles": 73,
         "earned_run_average": 1.22,
         "earned_runs_allowed": 78,
         "errors": 268,
         "fielding_percentage": 0.902,
         "games_played": 64,
         "hits": 642,
         "hits_allowed": 472,
         "home_attendance": "nan",
         "home_games": "nan",
         "homeruns": 2,
         "homeruns_allowed": 3,
         "league_id": "NL",
         "league_winner": "N",
         "losses": 19,
         "opponents_runs_scored": 229,
         "outs_pitches": 1731,
         "rank": 3,
         "runs_scored": 386,
         "sacrifice_flies": "nan",
         "saves": 0,
         "shutouts": 16,
         "stolen_bases": "nan",
         "strikeouts_by_batters": 63,
         "strikeouts_by_pitchers": 103,
         "team_name": "St. Louis Brown Stockings",
         "triples": 27,
         "walks": 59,
         "walks_allowed": 39,
         "wild_card_winner": "nan",
         "wins": 45,
         "world_series_winner": "nan",
         "year": 1876
        },
        {
         "_deepnote_index_column": 8,
         "at_bats": 2368,
         "ball_park": "South End Grounds I",
         "batters_hit_by_pitch": "nan",
         "caught_stealing": "nan",
         "complete_games": 61,
         "division_id": "nan",
         "division_winner": "nan",
         "double_plays": 36,
         "doubles": 91,
         "earned_run_average": 2.15,
         "earned_runs_allowed": 131,
         "errors": 290,
         "fielding_percentage": 0.889,
         "games_played": 61,
         "hits": 700,
         "hits_allowed": 557,
         "home_attendance": "nan",
         "home_games": "nan",
         "homeruns": 4,
         "homeruns_allowed": 5,
         "league_id": "NL",
         "league_winner": "Y",
         "losses": 18,
         "opponents_runs_scored": 263,
         "outs_pitches": 1644,
         "rank": 1,
         "runs_scored": 419,
         "sacrifice_flies": "nan",
         "saves": 0,
         "shutouts": 7,
         "stolen_bases": "nan",
         "strikeouts_by_batters": 121,
         "strikeouts_by_pitchers": 177,
         "team_name": "Boston Red Caps",
         "triples": 37,
         "walks": 65,
         "walks_allowed": 38,
         "wild_card_winner": "nan",
         "wins": 42,
         "world_series_winner": "nan",
         "year": 1877
        },
        {
         "_deepnote_index_column": 9,
         "at_bats": 2273,
         "ball_park": "23rd Street Grounds",
         "batters_hit_by_pitch": "nan",
         "caught_stealing": "nan",
         "complete_games": 45,
         "division_id": "nan",
         "division_winner": "nan",
         "double_plays": 43,
         "doubles": 79,
         "earned_run_average": 3.37,
         "earned_runs_allowed": 200,
         "errors": 313,
         "fielding_percentage": 0.883,
         "games_played": 60,
         "hits": 633,
         "hits_allowed": 630,
         "home_attendance": "nan",
         "home_games": "nan",
         "homeruns": 0,
         "homeruns_allowed": 7,
         "league_id": "NL",
         "league_winner": "N",
         "losses": 33,
         "opponents_runs_scored": 375,
         "outs_pitches": 1602,
         "rank": 5,
         "runs_scored": 366,
         "sacrifice_flies": "nan",
         "saves": 3,
         "shutouts": 3,
         "stolen_bases": "nan",
         "strikeouts_by_batters": 111,
         "strikeouts_by_pitchers": 92,
         "team_name": "Chicago White Stockings",
         "triples": 30,
         "walks": 57,
         "walks_allowed": 58,
         "wild_card_winner": "nan",
         "wins": 26,
         "world_series_winner": "nan",
         "year": 1877
        }
       ]
      },
      "text/html": [
       "<div>\n",
       "<style scoped>\n",
       "    .dataframe tbody tr th:only-of-type {\n",
       "        vertical-align: middle;\n",
       "    }\n",
       "\n",
       "    .dataframe tbody tr th {\n",
       "        vertical-align: top;\n",
       "    }\n",
       "\n",
       "    .dataframe thead th {\n",
       "        text-align: right;\n",
       "    }\n",
       "</style>\n",
       "<table border=\"1\" class=\"dataframe\">\n",
       "  <thead>\n",
       "    <tr style=\"text-align: right;\">\n",
       "      <th></th>\n",
       "      <th>year</th>\n",
       "      <th>league_id</th>\n",
       "      <th>division_id</th>\n",
       "      <th>rank</th>\n",
       "      <th>games_played</th>\n",
       "      <th>home_games</th>\n",
       "      <th>wins</th>\n",
       "      <th>losses</th>\n",
       "      <th>division_winner</th>\n",
       "      <th>wild_card_winner</th>\n",
       "      <th>...</th>\n",
       "      <th>hits_allowed</th>\n",
       "      <th>homeruns_allowed</th>\n",
       "      <th>walks_allowed</th>\n",
       "      <th>strikeouts_by_pitchers</th>\n",
       "      <th>errors</th>\n",
       "      <th>double_plays</th>\n",
       "      <th>fielding_percentage</th>\n",
       "      <th>team_name</th>\n",
       "      <th>ball_park</th>\n",
       "      <th>home_attendance</th>\n",
       "    </tr>\n",
       "  </thead>\n",
       "  <tbody>\n",
       "    <tr>\n",
       "      <th>0</th>\n",
       "      <td>1876</td>\n",
       "      <td>NL</td>\n",
       "      <td>NaN</td>\n",
       "      <td>4</td>\n",
       "      <td>70</td>\n",
       "      <td>NaN</td>\n",
       "      <td>39</td>\n",
       "      <td>31</td>\n",
       "      <td>NaN</td>\n",
       "      <td>NaN</td>\n",
       "      <td>...</td>\n",
       "      <td>732</td>\n",
       "      <td>7</td>\n",
       "      <td>104</td>\n",
       "      <td>77</td>\n",
       "      <td>442</td>\n",
       "      <td>42</td>\n",
       "      <td>0.860</td>\n",
       "      <td>Boston Red Caps</td>\n",
       "      <td>South End Grounds I</td>\n",
       "      <td>NaN</td>\n",
       "    </tr>\n",
       "    <tr>\n",
       "      <th>1</th>\n",
       "      <td>1876</td>\n",
       "      <td>NL</td>\n",
       "      <td>NaN</td>\n",
       "      <td>1</td>\n",
       "      <td>66</td>\n",
       "      <td>NaN</td>\n",
       "      <td>52</td>\n",
       "      <td>14</td>\n",
       "      <td>NaN</td>\n",
       "      <td>NaN</td>\n",
       "      <td>...</td>\n",
       "      <td>608</td>\n",
       "      <td>6</td>\n",
       "      <td>29</td>\n",
       "      <td>51</td>\n",
       "      <td>282</td>\n",
       "      <td>33</td>\n",
       "      <td>0.899</td>\n",
       "      <td>Chicago White Stockings</td>\n",
       "      <td>23rd Street Grounds</td>\n",
       "      <td>NaN</td>\n",
       "    </tr>\n",
       "    <tr>\n",
       "      <th>2</th>\n",
       "      <td>1876</td>\n",
       "      <td>NL</td>\n",
       "      <td>NaN</td>\n",
       "      <td>8</td>\n",
       "      <td>65</td>\n",
       "      <td>NaN</td>\n",
       "      <td>9</td>\n",
       "      <td>56</td>\n",
       "      <td>NaN</td>\n",
       "      <td>NaN</td>\n",
       "      <td>...</td>\n",
       "      <td>850</td>\n",
       "      <td>9</td>\n",
       "      <td>34</td>\n",
       "      <td>60</td>\n",
       "      <td>469</td>\n",
       "      <td>45</td>\n",
       "      <td>0.841</td>\n",
       "      <td>Cincinnati Reds</td>\n",
       "      <td>Avenue Grounds</td>\n",
       "      <td>NaN</td>\n",
       "    </tr>\n",
       "    <tr>\n",
       "      <th>3</th>\n",
       "      <td>1876</td>\n",
       "      <td>NL</td>\n",
       "      <td>NaN</td>\n",
       "      <td>2</td>\n",
       "      <td>69</td>\n",
       "      <td>NaN</td>\n",
       "      <td>47</td>\n",
       "      <td>21</td>\n",
       "      <td>NaN</td>\n",
       "      <td>NaN</td>\n",
       "      <td>...</td>\n",
       "      <td>570</td>\n",
       "      <td>2</td>\n",
       "      <td>27</td>\n",
       "      <td>114</td>\n",
       "      <td>337</td>\n",
       "      <td>27</td>\n",
       "      <td>0.888</td>\n",
       "      <td>Hartford Dark Blues</td>\n",
       "      <td>Hartford Ball Club Grounds</td>\n",
       "      <td>NaN</td>\n",
       "    </tr>\n",
       "    <tr>\n",
       "      <th>4</th>\n",
       "      <td>1876</td>\n",
       "      <td>NL</td>\n",
       "      <td>NaN</td>\n",
       "      <td>5</td>\n",
       "      <td>69</td>\n",
       "      <td>NaN</td>\n",
       "      <td>30</td>\n",
       "      <td>36</td>\n",
       "      <td>NaN</td>\n",
       "      <td>NaN</td>\n",
       "      <td>...</td>\n",
       "      <td>605</td>\n",
       "      <td>3</td>\n",
       "      <td>38</td>\n",
       "      <td>125</td>\n",
       "      <td>397</td>\n",
       "      <td>44</td>\n",
       "      <td>0.875</td>\n",
       "      <td>Louisville Grays</td>\n",
       "      <td>Louisville Baseball Park</td>\n",
       "      <td>NaN</td>\n",
       "    </tr>\n",
       "    <tr>\n",
       "      <th>...</th>\n",
       "      <td>...</td>\n",
       "      <td>...</td>\n",
       "      <td>...</td>\n",
       "      <td>...</td>\n",
       "      <td>...</td>\n",
       "      <td>...</td>\n",
       "      <td>...</td>\n",
       "      <td>...</td>\n",
       "      <td>...</td>\n",
       "      <td>...</td>\n",
       "      <td>...</td>\n",
       "      <td>...</td>\n",
       "      <td>...</td>\n",
       "      <td>...</td>\n",
       "      <td>...</td>\n",
       "      <td>...</td>\n",
       "      <td>...</td>\n",
       "      <td>...</td>\n",
       "      <td>...</td>\n",
       "      <td>...</td>\n",
       "      <td>...</td>\n",
       "    </tr>\n",
       "    <tr>\n",
       "      <th>2779</th>\n",
       "      <td>2020</td>\n",
       "      <td>NL</td>\n",
       "      <td>C</td>\n",
       "      <td>3</td>\n",
       "      <td>58</td>\n",
       "      <td>27.0</td>\n",
       "      <td>30</td>\n",
       "      <td>28</td>\n",
       "      <td>N</td>\n",
       "      <td>Y</td>\n",
       "      <td>...</td>\n",
       "      <td>376</td>\n",
       "      <td>69</td>\n",
       "      <td>204</td>\n",
       "      <td>464</td>\n",
       "      <td>33</td>\n",
       "      <td>46</td>\n",
       "      <td>0.983</td>\n",
       "      <td>St. Louis Cardinals</td>\n",
       "      <td>Busch Stadium III</td>\n",
       "      <td>0.0</td>\n",
       "    </tr>\n",
       "    <tr>\n",
       "      <th>2780</th>\n",
       "      <td>2020</td>\n",
       "      <td>AL</td>\n",
       "      <td>E</td>\n",
       "      <td>1</td>\n",
       "      <td>60</td>\n",
       "      <td>29.0</td>\n",
       "      <td>40</td>\n",
       "      <td>20</td>\n",
       "      <td>Y</td>\n",
       "      <td>N</td>\n",
       "      <td>...</td>\n",
       "      <td>475</td>\n",
       "      <td>70</td>\n",
       "      <td>168</td>\n",
       "      <td>552</td>\n",
       "      <td>33</td>\n",
       "      <td>52</td>\n",
       "      <td>0.985</td>\n",
       "      <td>Tampa Bay Rays</td>\n",
       "      <td>Tropicana Field</td>\n",
       "      <td>0.0</td>\n",
       "    </tr>\n",
       "    <tr>\n",
       "      <th>2781</th>\n",
       "      <td>2020</td>\n",
       "      <td>AL</td>\n",
       "      <td>W</td>\n",
       "      <td>5</td>\n",
       "      <td>60</td>\n",
       "      <td>30.0</td>\n",
       "      <td>22</td>\n",
       "      <td>38</td>\n",
       "      <td>N</td>\n",
       "      <td>N</td>\n",
       "      <td>...</td>\n",
       "      <td>479</td>\n",
       "      <td>81</td>\n",
       "      <td>236</td>\n",
       "      <td>489</td>\n",
       "      <td>40</td>\n",
       "      <td>40</td>\n",
       "      <td>0.981</td>\n",
       "      <td>Texas Rangers</td>\n",
       "      <td>Globe Life Field</td>\n",
       "      <td>0.0</td>\n",
       "    </tr>\n",
       "    <tr>\n",
       "      <th>2782</th>\n",
       "      <td>2020</td>\n",
       "      <td>AL</td>\n",
       "      <td>E</td>\n",
       "      <td>3</td>\n",
       "      <td>60</td>\n",
       "      <td>26.0</td>\n",
       "      <td>32</td>\n",
       "      <td>28</td>\n",
       "      <td>N</td>\n",
       "      <td>Y</td>\n",
       "      <td>...</td>\n",
       "      <td>517</td>\n",
       "      <td>81</td>\n",
       "      <td>250</td>\n",
       "      <td>519</td>\n",
       "      <td>38</td>\n",
       "      <td>47</td>\n",
       "      <td>0.982</td>\n",
       "      <td>Toronto Blue Jays</td>\n",
       "      <td>Sahlen Field</td>\n",
       "      <td>0.0</td>\n",
       "    </tr>\n",
       "    <tr>\n",
       "      <th>2783</th>\n",
       "      <td>2020</td>\n",
       "      <td>NL</td>\n",
       "      <td>E</td>\n",
       "      <td>4</td>\n",
       "      <td>60</td>\n",
       "      <td>33.0</td>\n",
       "      <td>26</td>\n",
       "      <td>34</td>\n",
       "      <td>N</td>\n",
       "      <td>N</td>\n",
       "      <td>...</td>\n",
       "      <td>548</td>\n",
       "      <td>94</td>\n",
       "      <td>216</td>\n",
       "      <td>508</td>\n",
       "      <td>39</td>\n",
       "      <td>48</td>\n",
       "      <td>0.981</td>\n",
       "      <td>Washington Nationals</td>\n",
       "      <td>Nationals Park</td>\n",
       "      <td>0.0</td>\n",
       "    </tr>\n",
       "  </tbody>\n",
       "</table>\n",
       "<p>2784 rows × 41 columns</p>\n",
       "</div>"
      ],
      "text/plain": [
       "      year league_id division_id  rank  games_played  home_games  wins  \\\n",
       "0     1876        NL         NaN     4            70         NaN    39   \n",
       "1     1876        NL         NaN     1            66         NaN    52   \n",
       "2     1876        NL         NaN     8            65         NaN     9   \n",
       "3     1876        NL         NaN     2            69         NaN    47   \n",
       "4     1876        NL         NaN     5            69         NaN    30   \n",
       "...    ...       ...         ...   ...           ...         ...   ...   \n",
       "2779  2020        NL           C     3            58        27.0    30   \n",
       "2780  2020        AL           E     1            60        29.0    40   \n",
       "2781  2020        AL           W     5            60        30.0    22   \n",
       "2782  2020        AL           E     3            60        26.0    32   \n",
       "2783  2020        NL           E     4            60        33.0    26   \n",
       "\n",
       "      losses division_winner wild_card_winner  ... hits_allowed  \\\n",
       "0         31             NaN              NaN  ...          732   \n",
       "1         14             NaN              NaN  ...          608   \n",
       "2         56             NaN              NaN  ...          850   \n",
       "3         21             NaN              NaN  ...          570   \n",
       "4         36             NaN              NaN  ...          605   \n",
       "...      ...             ...              ...  ...          ...   \n",
       "2779      28               N                Y  ...          376   \n",
       "2780      20               Y                N  ...          475   \n",
       "2781      38               N                N  ...          479   \n",
       "2782      28               N                Y  ...          517   \n",
       "2783      34               N                N  ...          548   \n",
       "\n",
       "     homeruns_allowed  walks_allowed  strikeouts_by_pitchers  errors  \\\n",
       "0                   7            104                      77     442   \n",
       "1                   6             29                      51     282   \n",
       "2                   9             34                      60     469   \n",
       "3                   2             27                     114     337   \n",
       "4                   3             38                     125     397   \n",
       "...               ...            ...                     ...     ...   \n",
       "2779               69            204                     464      33   \n",
       "2780               70            168                     552      33   \n",
       "2781               81            236                     489      40   \n",
       "2782               81            250                     519      38   \n",
       "2783               94            216                     508      39   \n",
       "\n",
       "      double_plays  fielding_percentage                team_name  \\\n",
       "0               42                0.860          Boston Red Caps   \n",
       "1               33                0.899  Chicago White Stockings   \n",
       "2               45                0.841          Cincinnati Reds   \n",
       "3               27                0.888      Hartford Dark Blues   \n",
       "4               44                0.875         Louisville Grays   \n",
       "...            ...                  ...                      ...   \n",
       "2779            46                0.983      St. Louis Cardinals   \n",
       "2780            52                0.985           Tampa Bay Rays   \n",
       "2781            40                0.981            Texas Rangers   \n",
       "2782            47                0.982        Toronto Blue Jays   \n",
       "2783            48                0.981     Washington Nationals   \n",
       "\n",
       "                       ball_park  home_attendance  \n",
       "0            South End Grounds I              NaN  \n",
       "1            23rd Street Grounds              NaN  \n",
       "2                 Avenue Grounds              NaN  \n",
       "3     Hartford Ball Club Grounds              NaN  \n",
       "4       Louisville Baseball Park              NaN  \n",
       "...                          ...              ...  \n",
       "2779           Busch Stadium III              0.0  \n",
       "2780             Tropicana Field              0.0  \n",
       "2781            Globe Life Field              0.0  \n",
       "2782                Sahlen Field              0.0  \n",
       "2783              Nationals Park              0.0  \n",
       "\n",
       "[2784 rows x 41 columns]"
      ]
     },
     "execution_count": 2,
     "metadata": {},
     "output_type": "execute_result"
    }
   ],
   "source": [
    "df_raw = pd.read_csv('mlb_teams.csv')\n",
    "df_raw"
   ]
  },
  {
   "cell_type": "markdown",
   "metadata": {
    "cell_id": "580b36a4821e47008b36f9ee263cf79f",
    "deepnote_cell_type": "markdown"
   },
   "source": [
    "My dataset contains data on teams spanning back to 1876. I will remove the unimportant columns. Some stats were not yet created and collected back then, so I will also remove the rows that do not contain this data."
   ]
  },
  {
   "cell_type": "code",
   "execution_count": null,
   "metadata": {
    "cell_id": "a85399bea2ba4236834228f28e91e3b6",
    "deepnote_cell_type": "code",
    "deepnote_to_be_reexecuted": false,
    "execution_millis": 28,
    "execution_start": 1702543980411,
    "source_hash": null
   },
   "outputs": [
    {
     "data": {
      "text/plain": [
       "year                        0\n",
       "games_played                0\n",
       "wins                        0\n",
       "losses                      0\n",
       "division_winner            28\n",
       "wild_card_winner          640\n",
       "league_winner              28\n",
       "world_series_winner        28\n",
       "runs_scored                 0\n",
       "at_bats                     0\n",
       "hits                        0\n",
       "doubles                     0\n",
       "triples                     0\n",
       "homeruns                    0\n",
       "walks                       0\n",
       "strikeouts_by_batters       0\n",
       "stolen_bases                0\n",
       "caught_stealing             0\n",
       "batters_hit_by_pitch        0\n",
       "sacrifice_flies             0\n",
       "opponents_runs_scored       0\n",
       "earned_runs_allowed         0\n",
       "earned_run_average          0\n",
       "complete_games              0\n",
       "shutouts                    0\n",
       "saves                       0\n",
       "outs_pitches                0\n",
       "hits_allowed                0\n",
       "homeruns_allowed            0\n",
       "walks_allowed               0\n",
       "strikeouts_by_pitchers      0\n",
       "errors                      0\n",
       "double_plays                0\n",
       "fielding_percentage         0\n",
       "dtype: int64"
      ]
     },
     "execution_count": 3,
     "metadata": {},
     "output_type": "execute_result"
    }
   ],
   "source": [
    "df_count = df_raw.drop(['league_id', 'division_id', 'rank', 'home_games',  'team_name', 'ball_park', 'home_attendance'], axis=1)\n",
    "df_count = df_count[~df_count['caught_stealing'].isna() & ~df_count['sacrifice_flies'].isna()]\n",
    "df_count.isna().sum(axis=0)"
   ]
  },
  {
   "cell_type": "markdown",
   "metadata": {
    "cell_id": "28f3b92219e6451f9d3a5f3d722d8f37",
    "deepnote_cell_type": "markdown"
   },
   "source": [
    "Note: There are missing values in the columns `division_winner`, `wild_card_winner`, `league_winner`, and `world_series_winner`. I have not removed the rows corresponding to these missing values because I will not be using these columns for the first two models."
   ]
  },
  {
   "cell_type": "markdown",
   "metadata": {
    "cell_id": "c1b572f9005e48a78aabdc58d75d7afd",
    "deepnote_cell_type": "markdown"
   },
   "source": [
    "## Linear Regression Model\n",
    "One way to determine a team's success is by its winning percentage. Since this dataset only contains number of wins, I will add a `win_percentage` column to it."
   ]
  },
  {
   "cell_type": "code",
   "execution_count": null,
   "metadata": {
    "cell_id": "82f49fef7e414347a7711afd99366e6f",
    "deepnote_cell_type": "code",
    "deepnote_table_loading": false,
    "deepnote_table_state": {
     "filters": [],
     "pageIndex": 0,
     "pageSize": 10,
     "sortBy": []
    },
    "deepnote_to_be_reexecuted": false,
    "execution_millis": 31,
    "execution_start": 1702543980414,
    "source_hash": null
   },
   "outputs": [],
   "source": [
    "df_count['win_percentage'] = df_count['wins'] / df_count['games_played']"
   ]
  },
  {
   "cell_type": "markdown",
   "metadata": {
    "cell_id": "a4d12ec14f614fc5b90f4d72b909acc9",
    "deepnote_cell_type": "markdown"
   },
   "source": [
    "Many of the stats use different scales, so I will normalize all the stats on a scale of 0 to 1 using `MinMaxScaler`. This will allow the data to be correctly analyzed via machine learning methods. I got this idea from ChatGPT."
   ]
  },
  {
   "cell_type": "code",
   "execution_count": null,
   "metadata": {
    "cell_id": "477302af14a142e3bb09e080f3e663bc",
    "deepnote_cell_type": "code",
    "deepnote_table_loading": false,
    "deepnote_table_state": {
     "filters": [],
     "pageIndex": 0,
     "pageSize": 10,
     "sortBy": []
    },
    "deepnote_to_be_reexecuted": false,
    "execution_millis": 191,
    "execution_start": 1702543980436,
    "source_hash": null
   },
   "outputs": [
    {
     "data": {
      "application/vnd.deepnote.dataframe.v3+json": {
       "column_count": 35,
       "columns": [
        {
         "dtype": "int64",
         "name": "year",
         "stats": {
          "histogram": [
           {
            "bin_end": 1975,
            "bin_start": 1970,
            "count": 120
           },
           {
            "bin_end": 1980,
            "bin_start": 1975,
            "count": 126
           },
           {
            "bin_end": 1985,
            "bin_start": 1980,
            "count": 130
           },
           {
            "bin_end": 1990,
            "bin_start": 1985,
            "count": 130
           },
           {
            "bin_end": 1995,
            "bin_start": 1990,
            "count": 134
           },
           {
            "bin_end": 2000,
            "bin_start": 1995,
            "count": 144
           },
           {
            "bin_end": 2005,
            "bin_start": 2000,
            "count": 150
           },
           {
            "bin_end": 2010,
            "bin_start": 2005,
            "count": 150
           },
           {
            "bin_end": 2015,
            "bin_start": 2010,
            "count": 150
           },
           {
            "bin_end": 2020,
            "bin_start": 2015,
            "count": 180
           }
          ],
          "max": "2020",
          "min": "1970",
          "nan_count": 0,
          "unique_count": 51
         }
        },
        {
         "dtype": "int64",
         "name": "games_played",
         "stats": {
          "histogram": [
           {
            "bin_end": 68.6,
            "bin_start": 58,
            "count": 30
           },
           {
            "bin_end": 79.2,
            "bin_start": 68.6,
            "count": 0
           },
           {
            "bin_end": 89.8,
            "bin_start": 79.2,
            "count": 0
           },
           {
            "bin_end": 100.4,
            "bin_start": 89.8,
            "count": 0
           },
           {
            "bin_end": 111,
            "bin_start": 100.4,
            "count": 25
           },
           {
            "bin_end": 121.6,
            "bin_start": 111,
            "count": 29
           },
           {
            "bin_end": 132.2,
            "bin_start": 121.6,
            "count": 0
           },
           {
            "bin_end": 142.8,
            "bin_start": 132.2,
            "count": 0
           },
           {
            "bin_end": 153.39999999999998,
            "bin_start": 142.8,
            "count": 30
           },
           {
            "bin_end": 164,
            "bin_start": 153.39999999999998,
            "count": 1300
           }
          ],
          "max": "164",
          "min": "58",
          "nan_count": 0,
          "unique_count": 29
         }
        },
        {
         "dtype": "int64",
         "name": "wins",
         "stats": {
          "histogram": [
           {
            "bin_end": 28.7,
            "bin_start": 19,
            "count": 13
           },
           {
            "bin_end": 38.4,
            "bin_start": 28.7,
            "count": 17
           },
           {
            "bin_end": 48.099999999999994,
            "bin_start": 38.4,
            "count": 12
           },
           {
            "bin_end": 57.8,
            "bin_start": 48.099999999999994,
            "count": 51
           },
           {
            "bin_end": 67.5,
            "bin_start": 57.8,
            "count": 171
           },
           {
            "bin_end": 77.19999999999999,
            "bin_start": 67.5,
            "count": 356
           },
           {
            "bin_end": 86.89999999999999,
            "bin_start": 77.19999999999999,
            "count": 359
           },
           {
            "bin_end": 96.6,
            "bin_start": 86.89999999999999,
            "count": 325
           },
           {
            "bin_end": 106.3,
            "bin_start": 96.6,
            "count": 103
           },
           {
            "bin_end": 116,
            "bin_start": 106.3,
            "count": 7
           }
          ],
          "max": "116",
          "min": "19",
          "nan_count": 0,
          "unique_count": 86
         }
        },
        {
         "dtype": "int64",
         "name": "losses",
         "stats": {
          "histogram": [
           {
            "bin_end": 27.2,
            "bin_start": 17,
            "count": 10
           },
           {
            "bin_end": 37.4,
            "bin_start": 27.2,
            "count": 18
           },
           {
            "bin_end": 47.599999999999994,
            "bin_start": 37.4,
            "count": 15
           },
           {
            "bin_end": 57.8,
            "bin_start": 47.599999999999994,
            "count": 30
           },
           {
            "bin_end": 68,
            "bin_start": 57.8,
            "count": 187
           },
           {
            "bin_end": 78.19999999999999,
            "bin_start": 68,
            "count": 419
           },
           {
            "bin_end": 88.39999999999999,
            "bin_start": 78.19999999999999,
            "count": 391
           },
           {
            "bin_end": 98.6,
            "bin_start": 88.39999999999999,
            "count": 271
           },
           {
            "bin_end": 108.8,
            "bin_start": 98.6,
            "count": 66
           },
           {
            "bin_end": 119,
            "bin_start": 108.8,
            "count": 7
           }
          ],
          "max": "119",
          "min": "17",
          "nan_count": 0,
          "unique_count": 89
         }
        },
        {
         "dtype": "object",
         "name": "division_winner",
         "stats": {
          "categories": [
           {
            "count": 1130,
            "name": "N"
           },
           {
            "count": 256,
            "name": "Y"
           },
           {
            "count": 28,
            "name": "Missing"
           }
          ],
          "nan_count": 28,
          "unique_count": 2
         }
        },
        {
         "dtype": "object",
         "name": "wild_card_winner",
         "stats": {
          "categories": [
           {
            "count": 698,
            "name": "N"
           },
           {
            "count": 76,
            "name": "Y"
           },
           {
            "count": 640,
            "name": "Missing"
           }
          ],
          "nan_count": 640,
          "unique_count": 2
         }
        },
        {
         "dtype": "object",
         "name": "league_winner",
         "stats": {
          "categories": [
           {
            "count": 1286,
            "name": "N"
           },
           {
            "count": 100,
            "name": "Y"
           },
           {
            "count": 28,
            "name": "Missing"
           }
          ],
          "nan_count": 28,
          "unique_count": 2
         }
        },
        {
         "dtype": "object",
         "name": "world_series_winner",
         "stats": {
          "categories": [
           {
            "count": 1336,
            "name": "N"
           },
           {
            "count": 50,
            "name": "Y"
           },
           {
            "count": 28,
            "name": "Missing"
           }
          ],
          "nan_count": 28,
          "unique_count": 2
         }
        },
        {
         "dtype": "float64",
         "name": "runs_scored",
         "stats": {
          "histogram": [
           {
            "bin_end": 0.1,
            "bin_start": 0,
            "count": 22
           },
           {
            "bin_end": 0.2,
            "bin_start": 0.1,
            "count": 11
           },
           {
            "bin_end": 0.30000000000000004,
            "bin_start": 0.2,
            "count": 16
           },
           {
            "bin_end": 0.4,
            "bin_start": 0.30000000000000004,
            "count": 31
           },
           {
            "bin_end": 0.5,
            "bin_start": 0.4,
            "count": 133
           },
           {
            "bin_end": 0.6000000000000001,
            "bin_start": 0.5,
            "count": 396
           },
           {
            "bin_end": 0.7000000000000001,
            "bin_start": 0.6000000000000001,
            "count": 454
           },
           {
            "bin_end": 0.8,
            "bin_start": 0.7000000000000001,
            "count": 238
           },
           {
            "bin_end": 0.9,
            "bin_start": 0.8,
            "count": 94
           },
           {
            "bin_end": 1,
            "bin_start": 0.9,
            "count": 19
           }
          ],
          "max": "1.0",
          "min": "0.0",
          "nan_count": 0,
          "unique_count": 423
         }
        },
        {
         "dtype": "float64",
         "name": "at_bats",
         "stats": {
          "histogram": [
           {
            "bin_end": 0.10000000000000002,
            "bin_start": 0,
            "count": 30
           },
           {
            "bin_end": 0.20000000000000004,
            "bin_start": 0.10000000000000002,
            "count": 0
           },
           {
            "bin_end": 0.30000000000000004,
            "bin_start": 0.20000000000000004,
            "count": 0
           },
           {
            "bin_end": 0.4000000000000001,
            "bin_start": 0.30000000000000004,
            "count": 0
           },
           {
            "bin_end": 0.5000000000000001,
            "bin_start": 0.4000000000000001,
            "count": 24
           },
           {
            "bin_end": 0.6000000000000001,
            "bin_start": 0.5000000000000001,
            "count": 30
           },
           {
            "bin_end": 0.7000000000000002,
            "bin_start": 0.6000000000000001,
            "count": 0
           },
           {
            "bin_end": 0.8000000000000002,
            "bin_start": 0.7000000000000002,
            "count": 18
           },
           {
            "bin_end": 0.9000000000000001,
            "bin_start": 0.8000000000000002,
            "count": 80
           },
           {
            "bin_end": 1.0000000000000002,
            "bin_start": 0.9000000000000001,
            "count": 1232
           }
          ],
          "max": "1.0000000000000002",
          "min": "0.0",
          "nan_count": 0,
          "unique_count": 482
         }
        },
        {
         "dtype": "float64",
         "name": "hits",
         "stats": {
          "histogram": [
           {
            "bin_end": 0.1,
            "bin_start": 0,
            "count": 22
           },
           {
            "bin_end": 0.2,
            "bin_start": 0.1,
            "count": 8
           },
           {
            "bin_end": 0.30000000000000004,
            "bin_start": 0.2,
            "count": 0
           },
           {
            "bin_end": 0.4,
            "bin_start": 0.30000000000000004,
            "count": 8
           },
           {
            "bin_end": 0.5,
            "bin_start": 0.4,
            "count": 25
           },
           {
            "bin_end": 0.6000000000000001,
            "bin_start": 0.5,
            "count": 24
           },
           {
            "bin_end": 0.7000000000000001,
            "bin_start": 0.6000000000000001,
            "count": 60
           },
           {
            "bin_end": 0.8,
            "bin_start": 0.7000000000000001,
            "count": 586
           },
           {
            "bin_end": 0.9,
            "bin_start": 0.8,
            "count": 570
           },
           {
            "bin_end": 1,
            "bin_start": 0.9,
            "count": 111
           }
          ],
          "max": "1.0",
          "min": "0.0",
          "nan_count": 0,
          "unique_count": 439
         }
        },
        {
         "dtype": "float64",
         "name": "doubles",
         "stats": {
          "histogram": [
           {
            "bin_end": 0.09999999999999999,
            "bin_start": 0,
            "count": 23
           },
           {
            "bin_end": 0.19999999999999998,
            "bin_start": 0.09999999999999999,
            "count": 9
           },
           {
            "bin_end": 0.3,
            "bin_start": 0.19999999999999998,
            "count": 19
           },
           {
            "bin_end": 0.39999999999999997,
            "bin_start": 0.3,
            "count": 51
           },
           {
            "bin_end": 0.49999999999999994,
            "bin_start": 0.39999999999999997,
            "count": 188
           },
           {
            "bin_end": 0.6,
            "bin_start": 0.49999999999999994,
            "count": 281
           },
           {
            "bin_end": 0.7,
            "bin_start": 0.6,
            "count": 441
           },
           {
            "bin_end": 0.7999999999999999,
            "bin_start": 0.7,
            "count": 288
           },
           {
            "bin_end": 0.8999999999999999,
            "bin_start": 0.7999999999999999,
            "count": 96
           },
           {
            "bin_end": 0.9999999999999999,
            "bin_start": 0.8999999999999999,
            "count": 18
           }
          ],
          "max": "0.9999999999999999",
          "min": "0.0",
          "nan_count": 0,
          "unique_count": 229
         }
        },
        {
         "dtype": "float64",
         "name": "triples",
         "stats": {
          "histogram": [
           {
            "bin_end": 0.1,
            "bin_start": 0,
            "count": 24
           },
           {
            "bin_end": 0.2,
            "bin_start": 0.1,
            "count": 88
           },
           {
            "bin_end": 0.30000000000000004,
            "bin_start": 0.2,
            "count": 281
           },
           {
            "bin_end": 0.4,
            "bin_start": 0.30000000000000004,
            "count": 443
           },
           {
            "bin_end": 0.5,
            "bin_start": 0.4,
            "count": 309
           },
           {
            "bin_end": 0.6000000000000001,
            "bin_start": 0.5,
            "count": 170
           },
           {
            "bin_end": 0.7000000000000001,
            "bin_start": 0.6000000000000001,
            "count": 68
           },
           {
            "bin_end": 0.8,
            "bin_start": 0.7000000000000001,
            "count": 24
           },
           {
            "bin_end": 0.9,
            "bin_start": 0.8,
            "count": 5
           },
           {
            "bin_end": 1,
            "bin_start": 0.9,
            "count": 2
           }
          ],
          "max": "1.0",
          "min": "0.0",
          "nan_count": 0,
          "unique_count": 64
         }
        },
        {
         "dtype": "float64",
         "name": "homeruns",
         "stats": {
          "histogram": [
           {
            "bin_end": 0.1,
            "bin_start": 0,
            "count": 17
           },
           {
            "bin_end": 0.2,
            "bin_start": 0.1,
            "count": 87
           },
           {
            "bin_end": 0.30000000000000004,
            "bin_start": 0.2,
            "count": 217
           },
           {
            "bin_end": 0.4,
            "bin_start": 0.30000000000000004,
            "count": 326
           },
           {
            "bin_end": 0.5,
            "bin_start": 0.4,
            "count": 338
           },
           {
            "bin_end": 0.6000000000000001,
            "bin_start": 0.5,
            "count": 217
           },
           {
            "bin_end": 0.7000000000000001,
            "bin_start": 0.6000000000000001,
            "count": 150
           },
           {
            "bin_end": 0.8,
            "bin_start": 0.7000000000000001,
            "count": 50
           },
           {
            "bin_end": 0.9,
            "bin_start": 0.8,
            "count": 9
           },
           {
            "bin_end": 1,
            "bin_start": 0.9,
            "count": 3
           }
          ],
          "max": "1.0",
          "min": "0.0",
          "nan_count": 0,
          "unique_count": 210
         }
        },
        {
         "dtype": "float64",
         "name": "walks",
         "stats": {
          "histogram": [
           {
            "bin_end": 0.1,
            "bin_start": 0,
            "count": 19
           },
           {
            "bin_end": 0.2,
            "bin_start": 0.1,
            "count": 11
           },
           {
            "bin_end": 0.30000000000000004,
            "bin_start": 0.2,
            "count": 13
           },
           {
            "bin_end": 0.4,
            "bin_start": 0.30000000000000004,
            "count": 55
           },
           {
            "bin_end": 0.5,
            "bin_start": 0.4,
            "count": 201
           },
           {
            "bin_end": 0.6000000000000001,
            "bin_start": 0.5,
            "count": 438
           },
           {
            "bin_end": 0.7000000000000001,
            "bin_start": 0.6000000000000001,
            "count": 399
           },
           {
            "bin_end": 0.8,
            "bin_start": 0.7000000000000001,
            "count": 212
           },
           {
            "bin_end": 0.9,
            "bin_start": 0.8,
            "count": 56
           },
           {
            "bin_end": 1,
            "bin_start": 0.9,
            "count": 10
           }
          ],
          "max": "1.0",
          "min": "0.0",
          "nan_count": 0,
          "unique_count": 358
         }
        },
        {
         "dtype": "float64",
         "name": "strikeouts_by_batters",
         "stats": {
          "histogram": [
           {
            "bin_end": 0.1,
            "bin_start": 0,
            "count": 24
           },
           {
            "bin_end": 0.2,
            "bin_start": 0.1,
            "count": 36
           },
           {
            "bin_end": 0.30000000000000004,
            "bin_start": 0.2,
            "count": 89
           },
           {
            "bin_end": 0.4,
            "bin_start": 0.30000000000000004,
            "count": 248
           },
           {
            "bin_end": 0.5,
            "bin_start": 0.4,
            "count": 336
           },
           {
            "bin_end": 0.6000000000000001,
            "bin_start": 0.5,
            "count": 291
           },
           {
            "bin_end": 0.7000000000000001,
            "bin_start": 0.6000000000000001,
            "count": 191
           },
           {
            "bin_end": 0.8,
            "bin_start": 0.7000000000000001,
            "count": 117
           },
           {
            "bin_end": 0.9,
            "bin_start": 0.8,
            "count": 57
           },
           {
            "bin_end": 1,
            "bin_start": 0.9,
            "count": 25
           }
          ],
          "max": "1.0",
          "min": "0.0",
          "nan_count": 0,
          "unique_count": 681
         }
        },
        {
         "dtype": "float64",
         "name": "stolen_bases",
         "stats": {
          "histogram": [
           {
            "bin_end": 0.1,
            "bin_start": 0,
            "count": 81
           },
           {
            "bin_end": 0.2,
            "bin_start": 0.1,
            "count": 379
           },
           {
            "bin_end": 0.30000000000000004,
            "bin_start": 0.2,
            "count": 457
           },
           {
            "bin_end": 0.4,
            "bin_start": 0.30000000000000004,
            "count": 314
           },
           {
            "bin_end": 0.5,
            "bin_start": 0.4,
            "count": 127
           },
           {
            "bin_end": 0.6000000000000001,
            "bin_start": 0.5,
            "count": 36
           },
           {
            "bin_end": 0.7000000000000001,
            "bin_start": 0.6000000000000001,
            "count": 14
           },
           {
            "bin_end": 0.8,
            "bin_start": 0.7000000000000001,
            "count": 4
           },
           {
            "bin_end": 0.9,
            "bin_start": 0.8,
            "count": 0
           },
           {
            "bin_end": 1,
            "bin_start": 0.9,
            "count": 2
           }
          ],
          "max": "1.0",
          "min": "0.0",
          "nan_count": 0,
          "unique_count": 204
         }
        },
        {
         "dtype": "float64",
         "name": "caught_stealing",
         "stats": {
          "histogram": [
           {
            "bin_end": 0.09999999999999999,
            "bin_start": 0,
            "count": 35
           },
           {
            "bin_end": 0.19999999999999998,
            "bin_start": 0.09999999999999999,
            "count": 118
           },
           {
            "bin_end": 0.3,
            "bin_start": 0.19999999999999998,
            "count": 351
           },
           {
            "bin_end": 0.39999999999999997,
            "bin_start": 0.3,
            "count": 395
           },
           {
            "bin_end": 0.49999999999999994,
            "bin_start": 0.39999999999999997,
            "count": 289
           },
           {
            "bin_end": 0.6,
            "bin_start": 0.49999999999999994,
            "count": 135
           },
           {
            "bin_end": 0.7,
            "bin_start": 0.6,
            "count": 51
           },
           {
            "bin_end": 0.7999999999999999,
            "bin_start": 0.7,
            "count": 25
           },
           {
            "bin_end": 0.8999999999999999,
            "bin_start": 0.7999999999999999,
            "count": 9
           },
           {
            "bin_end": 0.9999999999999999,
            "bin_start": 0.8999999999999999,
            "count": 6
           }
          ],
          "max": "0.9999999999999999",
          "min": "0.0",
          "nan_count": 0,
          "unique_count": 106
         }
        },
        {
         "dtype": "float64",
         "name": "batters_hit_by_pitch",
         "stats": {
          "histogram": [
           {
            "bin_end": 0.09999999999999999,
            "bin_start": 0,
            "count": 29
           },
           {
            "bin_end": 0.19999999999999998,
            "bin_start": 0.09999999999999999,
            "count": 203
           },
           {
            "bin_end": 0.3,
            "bin_start": 0.19999999999999998,
            "count": 308
           },
           {
            "bin_end": 0.39999999999999997,
            "bin_start": 0.3,
            "count": 273
           },
           {
            "bin_end": 0.49999999999999994,
            "bin_start": 0.39999999999999997,
            "count": 220
           },
           {
            "bin_end": 0.6,
            "bin_start": 0.49999999999999994,
            "count": 194
           },
           {
            "bin_end": 0.7,
            "bin_start": 0.6,
            "count": 109
           },
           {
            "bin_end": 0.7999999999999999,
            "bin_start": 0.7,
            "count": 46
           },
           {
            "bin_end": 0.8999999999999999,
            "bin_start": 0.7999999999999999,
            "count": 25
           },
           {
            "bin_end": 0.9999999999999999,
            "bin_start": 0.8999999999999999,
            "count": 7
           }
          ],
          "max": "0.9999999999999999",
          "min": "0.0",
          "nan_count": 0,
          "unique_count": 90
         }
        },
        {
         "dtype": "float64",
         "name": "sacrifice_flies",
         "stats": {
          "histogram": [
           {
            "bin_end": 0.09999999999999999,
            "bin_start": 0,
            "count": 16
           },
           {
            "bin_end": 0.19999999999999998,
            "bin_start": 0.09999999999999999,
            "count": 15
           },
           {
            "bin_end": 0.3,
            "bin_start": 0.19999999999999998,
            "count": 30
           },
           {
            "bin_end": 0.39999999999999997,
            "bin_start": 0.3,
            "count": 134
           },
           {
            "bin_end": 0.49999999999999994,
            "bin_start": 0.39999999999999997,
            "count": 360
           },
           {
            "bin_end": 0.6,
            "bin_start": 0.49999999999999994,
            "count": 384
           },
           {
            "bin_end": 0.7,
            "bin_start": 0.6,
            "count": 300
           },
           {
            "bin_end": 0.7999999999999999,
            "bin_start": 0.7,
            "count": 126
           },
           {
            "bin_end": 0.8999999999999999,
            "bin_start": 0.7999999999999999,
            "count": 31
           },
           {
            "bin_end": 0.9999999999999999,
            "bin_start": 0.8999999999999999,
            "count": 18
           }
          ],
          "max": "0.9999999999999999",
          "min": "0.0",
          "nan_count": 0,
          "unique_count": 66
         }
        },
        {
         "dtype": "float64",
         "name": "opponents_runs_scored",
         "stats": {
          "histogram": [
           {
            "bin_end": 0.1,
            "bin_start": 0,
            "count": 19
           },
           {
            "bin_end": 0.2,
            "bin_start": 0.1,
            "count": 14
           },
           {
            "bin_end": 0.30000000000000004,
            "bin_start": 0.2,
            "count": 23
           },
           {
            "bin_end": 0.4,
            "bin_start": 0.30000000000000004,
            "count": 58
           },
           {
            "bin_end": 0.5,
            "bin_start": 0.4,
            "count": 292
           },
           {
            "bin_end": 0.6000000000000001,
            "bin_start": 0.5,
            "count": 518
           },
           {
            "bin_end": 0.7000000000000001,
            "bin_start": 0.6000000000000001,
            "count": 340
           },
           {
            "bin_end": 0.8,
            "bin_start": 0.7000000000000001,
            "count": 129
           },
           {
            "bin_end": 0.9,
            "bin_start": 0.8,
            "count": 19
           },
           {
            "bin_end": 1,
            "bin_start": 0.9,
            "count": 2
           }
          ],
          "max": "1.0",
          "min": "0.0",
          "nan_count": 0,
          "unique_count": 450
         }
        },
        {
         "dtype": "float64",
         "name": "earned_runs_allowed",
         "stats": {
          "histogram": [
           {
            "bin_end": 0.1,
            "bin_start": 0,
            "count": 16
           },
           {
            "bin_end": 0.2,
            "bin_start": 0.1,
            "count": 17
           },
           {
            "bin_end": 0.30000000000000004,
            "bin_start": 0.2,
            "count": 24
           },
           {
            "bin_end": 0.4,
            "bin_start": 0.30000000000000004,
            "count": 78
           },
           {
            "bin_end": 0.5,
            "bin_start": 0.4,
            "count": 310
           },
           {
            "bin_end": 0.6000000000000001,
            "bin_start": 0.5,
            "count": 492
           },
           {
            "bin_end": 0.7000000000000001,
            "bin_start": 0.6000000000000001,
            "count": 323
           },
           {
            "bin_end": 0.8,
            "bin_start": 0.7000000000000001,
            "count": 134
           },
           {
            "bin_end": 0.9,
            "bin_start": 0.8,
            "count": 18
           },
           {
            "bin_end": 1,
            "bin_start": 0.9,
            "count": 2
           }
          ],
          "max": "1.0",
          "min": "0.0",
          "nan_count": 0,
          "unique_count": 423
         }
        },
        {
         "dtype": "float64",
         "name": "earned_run_average",
         "stats": {
          "histogram": [
           {
            "bin_end": 0.1,
            "bin_start": 0,
            "count": 8
           },
           {
            "bin_end": 0.2,
            "bin_start": 0.1,
            "count": 99
           },
           {
            "bin_end": 0.30000000000000004,
            "bin_start": 0.2,
            "count": 247
           },
           {
            "bin_end": 0.4,
            "bin_start": 0.30000000000000004,
            "count": 375
           },
           {
            "bin_end": 0.5,
            "bin_start": 0.4,
            "count": 314
           },
           {
            "bin_end": 0.6000000000000001,
            "bin_start": 0.5,
            "count": 218
           },
           {
            "bin_end": 0.7000000000000001,
            "bin_start": 0.6000000000000001,
            "count": 110
           },
           {
            "bin_end": 0.8,
            "bin_start": 0.7000000000000001,
            "count": 35
           },
           {
            "bin_end": 0.9,
            "bin_start": 0.8,
            "count": 6
           },
           {
            "bin_end": 1,
            "bin_start": 0.9,
            "count": 2
           }
          ],
          "max": "1.0",
          "min": "0.0",
          "nan_count": 0,
          "unique_count": 263
         }
        },
        {
         "dtype": "float64",
         "name": "complete_games",
         "stats": {
          "histogram": [
           {
            "bin_end": 0.1,
            "bin_start": 0,
            "count": 719
           },
           {
            "bin_end": 0.2,
            "bin_start": 0.1,
            "count": 247
           },
           {
            "bin_end": 0.30000000000000004,
            "bin_start": 0.2,
            "count": 159
           },
           {
            "bin_end": 0.4,
            "bin_start": 0.30000000000000004,
            "count": 122
           },
           {
            "bin_end": 0.5,
            "bin_start": 0.4,
            "count": 85
           },
           {
            "bin_end": 0.6000000000000001,
            "bin_start": 0.5,
            "count": 48
           },
           {
            "bin_end": 0.7000000000000001,
            "bin_start": 0.6000000000000001,
            "count": 24
           },
           {
            "bin_end": 0.8,
            "bin_start": 0.7000000000000001,
            "count": 9
           },
           {
            "bin_end": 0.9,
            "bin_start": 0.8,
            "count": 0
           },
           {
            "bin_end": 1,
            "bin_start": 0.9,
            "count": 1
           }
          ],
          "max": "1.0",
          "min": "0.0",
          "nan_count": 0,
          "unique_count": 71
         }
        },
        {
         "dtype": "float64",
         "name": "shutouts",
         "stats": {
          "histogram": [
           {
            "bin_end": 0.1,
            "bin_start": 0,
            "count": 58
           },
           {
            "bin_end": 0.2,
            "bin_start": 0.1,
            "count": 110
           },
           {
            "bin_end": 0.30000000000000004,
            "bin_start": 0.2,
            "count": 315
           },
           {
            "bin_end": 0.4,
            "bin_start": 0.30000000000000004,
            "count": 268
           },
           {
            "bin_end": 0.5,
            "bin_start": 0.4,
            "count": 260
           },
           {
            "bin_end": 0.6000000000000001,
            "bin_start": 0.5,
            "count": 242
           },
           {
            "bin_end": 0.7000000000000001,
            "bin_start": 0.6000000000000001,
            "count": 78
           },
           {
            "bin_end": 0.8,
            "bin_start": 0.7000000000000001,
            "count": 59
           },
           {
            "bin_end": 0.9,
            "bin_start": 0.8,
            "count": 14
           },
           {
            "bin_end": 1,
            "bin_start": 0.9,
            "count": 10
           }
          ],
          "max": "1.0",
          "min": "0.0",
          "nan_count": 0,
          "unique_count": 25
         }
        },
        {
         "dtype": "float64",
         "name": "saves",
         "stats": {
          "histogram": [
           {
            "bin_end": 0.09999999999999999,
            "bin_start": 0,
            "count": 14
           },
           {
            "bin_end": 0.19999999999999998,
            "bin_start": 0.09999999999999999,
            "count": 40
           },
           {
            "bin_end": 0.3,
            "bin_start": 0.19999999999999998,
            "count": 85
           },
           {
            "bin_end": 0.39999999999999997,
            "bin_start": 0.3,
            "count": 172
           },
           {
            "bin_end": 0.49999999999999994,
            "bin_start": 0.39999999999999997,
            "count": 302
           },
           {
            "bin_end": 0.6,
            "bin_start": 0.49999999999999994,
            "count": 416
           },
           {
            "bin_end": 0.7,
            "bin_start": 0.6,
            "count": 257
           },
           {
            "bin_end": 0.7999999999999999,
            "bin_start": 0.7,
            "count": 96
           },
           {
            "bin_end": 0.8999999999999999,
            "bin_start": 0.7999999999999999,
            "count": 27
           },
           {
            "bin_end": 0.9999999999999999,
            "bin_start": 0.8999999999999999,
            "count": 5
           }
          ],
          "max": "0.9999999999999999",
          "min": "0.0",
          "nan_count": 0,
          "unique_count": 58
         }
        },
        {
         "dtype": "float64",
         "name": "outs_pitches",
         "stats": {
          "histogram": [
           {
            "bin_end": 0.1,
            "bin_start": 0,
            "count": 30
           },
           {
            "bin_end": 0.2,
            "bin_start": 0.1,
            "count": 0
           },
           {
            "bin_end": 0.30000000000000004,
            "bin_start": 0.2,
            "count": 0
           },
           {
            "bin_end": 0.4,
            "bin_start": 0.30000000000000004,
            "count": 0
           },
           {
            "bin_end": 0.5,
            "bin_start": 0.4,
            "count": 18
           },
           {
            "bin_end": 0.6000000000000001,
            "bin_start": 0.5,
            "count": 36
           },
           {
            "bin_end": 0.7000000000000001,
            "bin_start": 0.6000000000000001,
            "count": 0
           },
           {
            "bin_end": 0.8,
            "bin_start": 0.7000000000000001,
            "count": 19
           },
           {
            "bin_end": 0.9,
            "bin_start": 0.8,
            "count": 21
           },
           {
            "bin_end": 1,
            "bin_start": 0.9,
            "count": 1290
           }
          ],
          "max": "1.0",
          "min": "0.0",
          "nan_count": 0,
          "unique_count": 335
         }
        },
        {
         "dtype": "float64",
         "name": "hits_allowed",
         "stats": {
          "histogram": [
           {
            "bin_end": 0.09999999999999999,
            "bin_start": 0,
            "count": 25
           },
           {
            "bin_end": 0.19999999999999998,
            "bin_start": 0.09999999999999999,
            "count": 5
           },
           {
            "bin_end": 0.3,
            "bin_start": 0.19999999999999998,
            "count": 0
           },
           {
            "bin_end": 0.39999999999999997,
            "bin_start": 0.3,
            "count": 13
           },
           {
            "bin_end": 0.49999999999999994,
            "bin_start": 0.39999999999999997,
            "count": 29
           },
           {
            "bin_end": 0.6,
            "bin_start": 0.49999999999999994,
            "count": 20
           },
           {
            "bin_end": 0.7,
            "bin_start": 0.6,
            "count": 162
           },
           {
            "bin_end": 0.7999999999999999,
            "bin_start": 0.7,
            "count": 680
           },
           {
            "bin_end": 0.8999999999999999,
            "bin_start": 0.7999999999999999,
            "count": 435
           },
           {
            "bin_end": 0.9999999999999999,
            "bin_start": 0.8999999999999999,
            "count": 45
           }
          ],
          "max": "0.9999999999999999",
          "min": "0.0",
          "nan_count": 0,
          "unique_count": 465
         }
        },
        {
         "dtype": "float64",
         "name": "homeruns_allowed",
         "stats": {
          "histogram": [
           {
            "bin_end": 0.1,
            "bin_start": 0,
            "count": 12
           },
           {
            "bin_end": 0.2,
            "bin_start": 0.1,
            "count": 94
           },
           {
            "bin_end": 0.30000000000000004,
            "bin_start": 0.2,
            "count": 218
           },
           {
            "bin_end": 0.4,
            "bin_start": 0.30000000000000004,
            "count": 333
           },
           {
            "bin_end": 0.5,
            "bin_start": 0.4,
            "count": 374
           },
           {
            "bin_end": 0.6000000000000001,
            "bin_start": 0.5,
            "count": 253
           },
           {
            "bin_end": 0.7000000000000001,
            "bin_start": 0.6000000000000001,
            "count": 98
           },
           {
            "bin_end": 0.8,
            "bin_start": 0.7000000000000001,
            "count": 26
           },
           {
            "bin_end": 0.9,
            "bin_start": 0.8,
            "count": 5
           },
           {
            "bin_end": 1,
            "bin_start": 0.9,
            "count": 1
           }
          ],
          "max": "1.0",
          "min": "0.0",
          "nan_count": 0,
          "unique_count": 185
         }
        },
        {
         "dtype": "float64",
         "name": "walks_allowed",
         "stats": {
          "histogram": [
           {
            "bin_end": 0.1,
            "bin_start": 0,
            "count": 15
           },
           {
            "bin_end": 0.2,
            "bin_start": 0.1,
            "count": 16
           },
           {
            "bin_end": 0.30000000000000004,
            "bin_start": 0.2,
            "count": 13
           },
           {
            "bin_end": 0.4,
            "bin_start": 0.30000000000000004,
            "count": 51
           },
           {
            "bin_end": 0.5,
            "bin_start": 0.4,
            "count": 203
           },
           {
            "bin_end": 0.6000000000000001,
            "bin_start": 0.5,
            "count": 480
           },
           {
            "bin_end": 0.7000000000000001,
            "bin_start": 0.6000000000000001,
            "count": 414
           },
           {
            "bin_end": 0.8,
            "bin_start": 0.7000000000000001,
            "count": 171
           },
           {
            "bin_end": 0.9,
            "bin_start": 0.8,
            "count": 44
           },
           {
            "bin_end": 1,
            "bin_start": 0.9,
            "count": 7
           }
          ],
          "max": "1.0",
          "min": "0.0",
          "nan_count": 0,
          "unique_count": 352
         }
        },
        {
         "dtype": "float64",
         "name": "strikeouts_by_pitchers",
         "stats": {
          "histogram": [
           {
            "bin_end": 0.09999999999999999,
            "bin_start": 0,
            "count": 28
           },
           {
            "bin_end": 0.19999999999999998,
            "bin_start": 0.09999999999999999,
            "count": 44
           },
           {
            "bin_end": 0.3,
            "bin_start": 0.19999999999999998,
            "count": 145
           },
           {
            "bin_end": 0.39999999999999997,
            "bin_start": 0.3,
            "count": 281
           },
           {
            "bin_end": 0.49999999999999994,
            "bin_start": 0.39999999999999997,
            "count": 353
           },
           {
            "bin_end": 0.6,
            "bin_start": 0.49999999999999994,
            "count": 268
           },
           {
            "bin_end": 0.7,
            "bin_start": 0.6,
            "count": 176
           },
           {
            "bin_end": 0.7999999999999999,
            "bin_start": 0.7,
            "count": 81
           },
           {
            "bin_end": 0.8999999999999999,
            "bin_start": 0.7999999999999999,
            "count": 27
           },
           {
            "bin_end": 0.9999999999999999,
            "bin_start": 0.8999999999999999,
            "count": 11
           }
          ],
          "max": "0.9999999999999999",
          "min": "0.0",
          "nan_count": 0,
          "unique_count": 693
         }
        },
        {
         "dtype": "float64",
         "name": "errors",
         "stats": {
          "histogram": [
           {
            "bin_end": 0.1,
            "bin_start": 0,
            "count": 18
           },
           {
            "bin_end": 0.2,
            "bin_start": 0.1,
            "count": 13
           },
           {
            "bin_end": 0.30000000000000004,
            "bin_start": 0.2,
            "count": 35
           },
           {
            "bin_end": 0.4,
            "bin_start": 0.30000000000000004,
            "count": 209
           },
           {
            "bin_end": 0.5,
            "bin_start": 0.4,
            "count": 370
           },
           {
            "bin_end": 0.6000000000000001,
            "bin_start": 0.5,
            "count": 348
           },
           {
            "bin_end": 0.7000000000000001,
            "bin_start": 0.6000000000000001,
            "count": 260
           },
           {
            "bin_end": 0.8,
            "bin_start": 0.7000000000000001,
            "count": 114
           },
           {
            "bin_end": 0.9,
            "bin_start": 0.8,
            "count": 39
           },
           {
            "bin_end": 1,
            "bin_start": 0.9,
            "count": 8
           }
          ],
          "max": "1.0",
          "min": "0.0",
          "nan_count": 0,
          "unique_count": 146
         }
        },
        {
         "dtype": "float64",
         "name": "double_plays",
         "stats": {
          "histogram": [
           {
            "bin_end": 0.1,
            "bin_start": 0,
            "count": 21
           },
           {
            "bin_end": 0.2,
            "bin_start": 0.1,
            "count": 8
           },
           {
            "bin_end": 0.30000000000000004,
            "bin_start": 0.2,
            "count": 4
           },
           {
            "bin_end": 0.4,
            "bin_start": 0.30000000000000004,
            "count": 28
           },
           {
            "bin_end": 0.5,
            "bin_start": 0.4,
            "count": 79
           },
           {
            "bin_end": 0.6000000000000001,
            "bin_start": 0.5,
            "count": 281
           },
           {
            "bin_end": 0.7000000000000001,
            "bin_start": 0.6000000000000001,
            "count": 470
           },
           {
            "bin_end": 0.8,
            "bin_start": 0.7000000000000001,
            "count": 370
           },
           {
            "bin_end": 0.9,
            "bin_start": 0.8,
            "count": 120
           },
           {
            "bin_end": 1,
            "bin_start": 0.9,
            "count": 33
           }
          ],
          "max": "1.0",
          "min": "0.0",
          "nan_count": 0,
          "unique_count": 136
         }
        },
        {
         "dtype": "float64",
         "name": "fielding_percentage",
         "stats": {
          "histogram": [
           {
            "bin_end": 0.1,
            "bin_start": 0,
            "count": 4
           },
           {
            "bin_end": 0.2,
            "bin_start": 0.1,
            "count": 20
           },
           {
            "bin_end": 0.30000000000000004,
            "bin_start": 0.2,
            "count": 43
           },
           {
            "bin_end": 0.4,
            "bin_start": 0.30000000000000004,
            "count": 163
           },
           {
            "bin_end": 0.5,
            "bin_start": 0.4,
            "count": 238
           },
           {
            "bin_end": 0.6000000000000001,
            "bin_start": 0.5,
            "count": 278
           },
           {
            "bin_end": 0.7000000000000001,
            "bin_start": 0.6000000000000001,
            "count": 408
           },
           {
            "bin_end": 0.8,
            "bin_start": 0.7000000000000001,
            "count": 184
           },
           {
            "bin_end": 0.9,
            "bin_start": 0.8,
            "count": 63
           },
           {
            "bin_end": 1,
            "bin_start": 0.9,
            "count": 13
           }
          ],
          "max": "1.0",
          "min": "0.0",
          "nan_count": 0,
          "unique_count": 24
         }
        },
        {
         "dtype": "float64",
         "name": "win_percentage",
         "stats": {
          "histogram": [
           {
            "bin_end": 0.3105555555555556,
            "bin_start": 0.2654320987654321,
            "count": 3
           },
           {
            "bin_end": 0.355679012345679,
            "bin_start": 0.3105555555555556,
            "count": 27
           },
           {
            "bin_end": 0.4008024691358025,
            "bin_start": 0.355679012345679,
            "count": 83
           },
           {
            "bin_end": 0.44592592592592595,
            "bin_start": 0.4008024691358025,
            "count": 223
           },
           {
            "bin_end": 0.4910493827160494,
            "bin_start": 0.44592592592592595,
            "count": 312
           },
           {
            "bin_end": 0.5361728395061729,
            "bin_start": 0.4910493827160494,
            "count": 289
           },
           {
            "bin_end": 0.5812962962962963,
            "bin_start": 0.5361728395061729,
            "count": 287
           },
           {
            "bin_end": 0.6264197530864197,
            "bin_start": 0.5812962962962963,
            "count": 150
           },
           {
            "bin_end": 0.6715432098765433,
            "bin_start": 0.6264197530864197,
            "count": 36
           },
           {
            "bin_end": 0.7166666666666667,
            "bin_start": 0.6715432098765433,
            "count": 4
           }
          ],
          "max": "0.7166666666666667",
          "min": "0.2654320987654321",
          "nan_count": 0,
          "unique_count": 263
         }
        },
        {
         "dtype": "int64",
         "name": "_deepnote_index_column"
        }
       ],
       "row_count": 1414,
       "rows": [
        {
         "_deepnote_index_column": 1370,
         "at_bats": 0.9416728716803178,
         "batters_hit_by_pitch": 0.32291666666666663,
         "caught_stealing": 0.2583333333333333,
         "complete_games": 0.4787234042553191,
         "division_winner": "N",
         "double_plays": 0.49132947976878616,
         "doubles": 0.46864686468646866,
         "earned_run_average": 0.46753246753246747,
         "earned_runs_allowed": 0.6079136690647482,
         "errors": 0.6759776536312849,
         "fielding_percentage": 0.39130434782608603,
         "games_played": 162,
         "hits": 0.8539412673879443,
         "hits_allowed": 0.7916053019145802,
         "homeruns": 0.46545454545454545,
         "homeruns_allowed": 0.5471698113207547,
         "league_winner": "N",
         "losses": 86,
         "opponents_runs_scored": 0.6297539149888143,
         "outs_pitches": 0.937051532941944,
         "runs_scored": 0.6544303797468354,
         "sacrifice_flies": 0.5,
         "saves": 0.29032258064516125,
         "shutouts": 0.375,
         "stolen_bases": 0.1345565749235474,
         "strikeouts_by_batters": 0.2935855263157895,
         "strikeouts_by_pitchers": 0.44033872209391833,
         "triples": 0.2763157894736842,
         "walks": 0.5971337579617835,
         "walks_allowed": 0.5211267605633803,
         "wild_card_winner": "nan",
         "win_percentage": 0.4691358024691358,
         "wins": 76,
         "world_series_winner": "N",
         "year": 1970
        },
        {
         "_deepnote_index_column": 1371,
         "at_bats": 0.9414246711342766,
         "batters_hit_by_pitch": 0.38541666666666663,
         "caught_stealing": 0.3,
         "complete_games": 0.6382978723404256,
         "division_winner": "Y",
         "double_plays": 0.6647398843930635,
         "doubles": 0.462046204620462,
         "earned_run_average": 0.1610389610389611,
         "earned_runs_allowed": 0.40287769784172656,
         "errors": 0.5418994413407822,
         "fielding_percentage": 0.5652173913043441,
         "games_played": 162,
         "hits": 0.7990726429675425,
         "hits_allowed": 0.6929307805596465,
         "homeruns": 0.5345454545454545,
         "homeruns_allowed": 0.3735849056603774,
         "league_winner": "Y",
         "losses": 54,
         "opponents_runs_scored": 0.4082774049217003,
         "outs_pitches": 0.9840182648401827,
         "runs_scored": 0.7253164556962026,
         "sacrifice_flies": 0.5571428571428572,
         "saves": 0.4032258064516129,
         "shutouts": 0.5,
         "stolen_bases": 0.2140672782874618,
         "strikeouts_by_batters": 0.47121710526315785,
         "strikeouts_by_pitchers": 0.4257120862201693,
         "triples": 0.28947368421052627,
         "walks": 0.9076433121019108,
         "walks_allowed": 0.5070422535211268,
         "wild_card_winner": "nan",
         "win_percentage": 0.6666666666666666,
         "wins": 108,
         "world_series_winner": "Y",
         "year": 1970
        },
        {
         "_deepnote_index_column": 1372,
         "at_bats": 0.9389426656738646,
         "batters_hit_by_pitch": 0.34375,
         "caught_stealing": 0.375,
         "complete_games": 0.40425531914893614,
         "division_winner": "N",
         "double_plays": 0.5664739884393064,
         "doubles": 0.5907590759075907,
         "earned_run_average": 0.34805194805194817,
         "earned_runs_allowed": 0.5287769784172661,
         "errors": 0.7597765363128492,
         "fielding_percentage": 0.2608695652173907,
         "games_played": 162,
         "hits": 0.8191653786707882,
         "hits_allowed": 0.747422680412371,
         "homeruns": 0.6218181818181818,
         "homeruns_allowed": 0.4377358490566038,
         "league_winner": "N",
         "losses": 75,
         "opponents_runs_scored": 0.5738255033557047,
         "outs_pitches": 0.9523809523809523,
         "runs_scored": 0.7177215189873418,
         "sacrifice_flies": 0.5714285714285714,
         "saves": 0.6129032258064516,
         "shutouts": 0.3333333333333333,
         "stolen_bases": 0.11009174311926605,
         "strikeouts_by_batters": 0.39144736842105265,
         "strikeouts_by_pitchers": 0.47344110854503463,
         "triples": 0.3289473684210526,
         "walks": 0.7117834394904459,
         "walks_allowed": 0.7026604068857589,
         "wild_card_winner": "nan",
         "win_percentage": 0.5370370370370371,
         "wins": 87,
         "world_series_winner": "N",
         "year": 1970
        },
        {
         "_deepnote_index_column": 1373,
         "at_bats": 0.938198064035741,
         "batters_hit_by_pitch": 0.22916666666666666,
         "caught_stealing": 0.2,
         "complete_games": 0.22340425531914893,
         "division_winner": "N",
         "double_plays": 0.7861271676300577,
         "doubles": 0.4092409240924092,
         "earned_run_average": 0.24675324675324672,
         "earned_runs_allowed": 0.4616306954436451,
         "errors": 0.5977653631284916,
         "fielding_percentage": 0.5217391304347814,
         "games_played": 162,
         "hits": 0.7735703245749614,
         "hits_allowed": 0.6656848306332842,
         "homeruns": 0.2981818181818182,
         "homeruns_allowed": 0.43018867924528303,
         "league_winner": "N",
         "losses": 76,
         "opponents_runs_scored": 0.470917225950783,
         "outs_pitches": 0.9680365296803652,
         "runs_scored": 0.5215189873417723,
         "sacrifice_flies": 0.4285714285714286,
         "saves": 0.6935483870967741,
         "shutouts": 0.41666666666666663,
         "stolen_bases": 0.16819571865443428,
         "strikeouts_by_batters": 0.446546052631579,
         "strikeouts_by_pitchers": 0.4110854503464203,
         "triples": 0.48684210526315785,
         "walks": 0.47770700636942676,
         "walks_allowed": 0.647887323943662,
         "wild_card_winner": "nan",
         "win_percentage": 0.5308641975308642,
         "wins": 86,
         "world_series_winner": "N",
         "year": 1970
        },
        {
         "_deepnote_index_column": 1374,
         "at_bats": 0.9337304542069995,
         "batters_hit_by_pitch": 0.36458333333333337,
         "caught_stealing": 0.25,
         "complete_games": 0.2127659574468085,
         "division_winner": "N",
         "double_plays": 0.8901734104046242,
         "doubles": 0.3927392739273927,
         "earned_run_average": 0.5220779220779221,
         "earned_runs_allowed": 0.6486810551558753,
         "errors": 0.8100558659217878,
         "fielding_percentage": 0.30434782608695343,
         "games_played": 162,
         "hits": 0.7758887171561051,
         "hits_allowed": 0.8674521354933725,
         "homeruns": 0.33090909090909093,
         "homeruns_allowed": 0.4679245283018868,
         "league_winner": "N",
         "losses": 106,
         "opponents_runs_scored": 0.685682326621924,
         "outs_pitches": 0.9367253750815394,
         "runs_scored": 0.5240506329113925,
         "sacrifice_flies": 0.5857142857142857,
         "saves": 0.3870967741935484,
         "shutouts": 0.25,
         "stolen_bases": 0.11926605504587155,
         "strikeouts_by_batters": 0.40542763157894735,
         "strikeouts_by_pitchers": 0.2879137798306389,
         "triples": 0.22368421052631576,
         "walks": 0.5254777070063694,
         "walks_allowed": 0.6431924882629108,
         "wild_card_winner": "nan",
         "win_percentage": 0.345679012345679,
         "wins": 56,
         "world_series_winner": "N",
         "year": 1970
        },
        {
         "_deepnote_index_column": 1375,
         "at_bats": 0.9280218416480517,
         "batters_hit_by_pitch": 0.13541666666666666,
         "caught_stealing": 0.10833333333333334,
         "complete_games": 0.6276595744680851,
         "division_winner": "N",
         "double_plays": 0.653179190751445,
         "doubles": 0.5115511551155115,
         "earned_run_average": 0.3194805194805195,
         "earned_runs_allowed": 0.5011990407673861,
         "errors": 0.6536312849162011,
         "fielding_percentage": 0.4347826086956488,
         "games_played": 162,
         "hits": 0.7990726429675425,
         "hits_allowed": 0.755522827687776,
         "homeruns": 0.5345454545454545,
         "homeruns_allowed": 0.3886792452830189,
         "league_winner": "N",
         "losses": 78,
         "opponents_runs_scored": 0.5257270693512305,
         "outs_pitches": 0.9412915851272015,
         "runs_scored": 0.7430379746835445,
         "sacrifice_flies": 0.41428571428571426,
         "saves": 0.30645161290322576,
         "shutouts": 0.375,
         "stolen_bases": 0.07645259938837921,
         "strikeouts_by_batters": 0.3824013157894737,
         "strikeouts_by_pitchers": 0.47113163972286376,
         "triples": 0.5394736842105263,
         "walks": 0.7324840764331211,
         "walks_allowed": 0.5164319248826292,
         "wild_card_winner": "nan",
         "win_percentage": 0.5185185185185185,
         "wins": 84,
         "world_series_winner": "N",
         "year": 1970
        },
        {
         "_deepnote_index_column": 1376,
         "at_bats": 0.9401836684040707,
         "batters_hit_by_pitch": 0.22916666666666666,
         "caught_stealing": 0.4083333333333333,
         "complete_games": 0.3404255319148936,
         "division_winner": "Y",
         "double_plays": 0.8092485549132948,
         "doubles": 0.594059405940594,
         "earned_run_average": 0.3012987012987013,
         "earned_runs_allowed": 0.4928057553956834,
         "errors": 0.7318435754189945,
         "fielding_percentage": 0.3478260869565233,
         "games_played": 162,
         "hits": 0.8562596599690881,
         "hits_allowed": 0.7319587628865979,
         "homeruns": 0.5781818181818182,
         "homeruns_allowed": 0.2943396226415095,
         "league_winner": "Y",
         "losses": 60,
         "opponents_runs_scored": 0.5279642058165548,
         "outs_pitches": 0.9507501630789301,
         "runs_scored": 0.7037974683544304,
         "sacrifice_flies": 0.5857142857142857,
         "saves": 0.8709677419354839,
         "shutouts": 0.625,
         "stolen_bases": 0.308868501529052,
         "strikeouts_by_batters": 0.49753289473684204,
         "strikeouts_by_pitchers": 0.35026943802925325,
         "triples": 0.5526315789473684,
         "walks": 0.6369426751592357,
         "walks_allowed": 0.699530516431925,
         "wild_card_winner": "nan",
         "win_percentage": 0.6296296296296297,
         "wins": 102,
         "world_series_winner": "N",
         "year": 1970
        },
        {
         "_deepnote_index_column": 1377,
         "at_bats": 0.9210722263588982,
         "batters_hit_by_pitch": 0.3125,
         "caught_stealing": 0.27499999999999997,
         "complete_games": 0.36170212765957444,
         "division_winner": "N",
         "double_plays": 0.7803468208092486,
         "doubles": 0.4092409240924092,
         "earned_run_average": 0.35844155844155856,
         "earned_runs_allowed": 0.5383693045563549,
         "errors": 0.6312849162011174,
         "fielding_percentage": 0.4782608695652186,
         "games_played": 162,
         "hits": 0.7480680061823803,
         "hits_allowed": 0.7047128129602356,
         "homeruns": 0.5490909090909091,
         "homeruns_allowed": 0.4641509433962264,
         "league_winner": "N",
         "losses": 86,
         "opponents_runs_scored": 0.5212527964205816,
         "outs_pitches": 0.957273320287019,
         "runs_scored": 0.5443037974683544,
         "sacrifice_flies": 0.5428571428571428,
         "saves": 0.4677419354838709,
         "shutouts": 0.3333333333333333,
         "stolen_bases": 0.03363914373088685,
         "strikeouts_by_batters": 0.4358552631578947,
         "strikeouts_by_pitchers": 0.5296381832178598,
         "triples": 0.2631578947368421,
         "walks": 0.5668789808917197,
         "walks_allowed": 0.8513302034428796,
         "wild_card_winner": "nan",
         "win_percentage": 0.4691358024691358,
         "wins": 76,
         "world_series_winner": "N",
         "year": 1970
        },
        {
         "_deepnote_index_column": 1378,
         "at_bats": 0.8997269793993548,
         "batters_hit_by_pitch": 0.28125,
         "caught_stealing": 0.225,
         "complete_games": 0.35106382978723405,
         "division_winner": "N",
         "double_plays": 0.630057803468208,
         "doubles": 0.44224422442244227,
         "earned_run_average": 0.4051948051948051,
         "earned_runs_allowed": 0.5719424460431655,
         "errors": 0.6312849162011174,
         "fielding_percentage": 0.4347826086956488,
         "games_played": 162,
         "hits": 0.6893353941267388,
         "hits_allowed": 0.7857142857142857,
         "homeruns": 0.42181818181818187,
         "homeruns_allowed": 0.42641509433962266,
         "league_winner": "N",
         "losses": 83,
         "opponents_runs_scored": 0.5838926174496645,
         "outs_pitches": 0.9533594259621656,
         "runs_scored": 0.5658227848101267,
         "sacrifice_flies": 0.6,
         "saves": 0.532258064516129,
         "shutouts": 0.375,
         "stolen_bases": 0.045871559633027525,
         "strikeouts_by_batters": 0.3667763157894737,
         "strikeouts_by_pitchers": 0.5057736720554272,
         "triples": 0.4605263157894737,
         "walks": 0.8105095541401274,
         "walks_allowed": 0.7480438184663536,
         "wild_card_winner": "nan",
         "win_percentage": 0.4876543209876543,
         "wins": 79,
         "world_series_winner": "N",
         "year": 1970
        },
        {
         "_deepnote_index_column": 1379,
         "at_bats": 0.9486224869694715,
         "batters_hit_by_pitch": 0.20833333333333334,
         "caught_stealing": 0.31666666666666665,
         "complete_games": 0.3829787234042553,
         "division_winner": "N",
         "double_plays": 0.6416184971098265,
         "doubles": 0.5841584158415841,
         "earned_run_average": 0.4415584415584417,
         "earned_runs_allowed": 0.6043165467625898,
         "errors": 0.670391061452514,
         "fielding_percentage": 0.4347826086956488,
         "games_played": 162,
         "hits": 0.8160741885625966,
         "hits_allowed": 0.8210603829160529,
         "homeruns": 0.3527272727272728,
         "homeruns_allowed": 0.3433962264150944,
         "league_winner": "N",
         "losses": 83,
         "opponents_runs_scored": 0.6196868008948546,
         "outs_pitches": 0.961839530332681,
         "runs_scored": 0.6645569620253164,
         "sacrifice_flies": 0.5142857142857142,
         "saves": 0.4677419354838709,
         "shutouts": 0.25,
         "stolen_bases": 0.30581039755351686,
         "strikeouts_by_batters": 0.4375,
         "strikeouts_by_pitchers": 0.426481909160893,
         "triples": 0.5789473684210525,
         "walks": 0.7181528662420382,
         "walks_allowed": 0.676056338028169,
         "wild_card_winner": "nan",
         "win_percentage": 0.4876543209876543,
         "wins": 79,
         "world_series_winner": "N",
         "year": 1970
        }
       ]
      },
      "text/html": [
       "<div>\n",
       "<style scoped>\n",
       "    .dataframe tbody tr th:only-of-type {\n",
       "        vertical-align: middle;\n",
       "    }\n",
       "\n",
       "    .dataframe tbody tr th {\n",
       "        vertical-align: top;\n",
       "    }\n",
       "\n",
       "    .dataframe thead th {\n",
       "        text-align: right;\n",
       "    }\n",
       "</style>\n",
       "<table border=\"1\" class=\"dataframe\">\n",
       "  <thead>\n",
       "    <tr style=\"text-align: right;\">\n",
       "      <th></th>\n",
       "      <th>year</th>\n",
       "      <th>games_played</th>\n",
       "      <th>wins</th>\n",
       "      <th>losses</th>\n",
       "      <th>division_winner</th>\n",
       "      <th>wild_card_winner</th>\n",
       "      <th>league_winner</th>\n",
       "      <th>world_series_winner</th>\n",
       "      <th>runs_scored</th>\n",
       "      <th>at_bats</th>\n",
       "      <th>...</th>\n",
       "      <th>saves</th>\n",
       "      <th>outs_pitches</th>\n",
       "      <th>hits_allowed</th>\n",
       "      <th>homeruns_allowed</th>\n",
       "      <th>walks_allowed</th>\n",
       "      <th>strikeouts_by_pitchers</th>\n",
       "      <th>errors</th>\n",
       "      <th>double_plays</th>\n",
       "      <th>fielding_percentage</th>\n",
       "      <th>win_percentage</th>\n",
       "    </tr>\n",
       "  </thead>\n",
       "  <tbody>\n",
       "    <tr>\n",
       "      <th>1370</th>\n",
       "      <td>1970</td>\n",
       "      <td>162</td>\n",
       "      <td>76</td>\n",
       "      <td>86</td>\n",
       "      <td>N</td>\n",
       "      <td>NaN</td>\n",
       "      <td>N</td>\n",
       "      <td>N</td>\n",
       "      <td>0.654430</td>\n",
       "      <td>0.941673</td>\n",
       "      <td>...</td>\n",
       "      <td>0.290323</td>\n",
       "      <td>0.937052</td>\n",
       "      <td>0.791605</td>\n",
       "      <td>0.547170</td>\n",
       "      <td>0.521127</td>\n",
       "      <td>0.440339</td>\n",
       "      <td>0.675978</td>\n",
       "      <td>0.491329</td>\n",
       "      <td>0.391304</td>\n",
       "      <td>0.469136</td>\n",
       "    </tr>\n",
       "    <tr>\n",
       "      <th>1371</th>\n",
       "      <td>1970</td>\n",
       "      <td>162</td>\n",
       "      <td>108</td>\n",
       "      <td>54</td>\n",
       "      <td>Y</td>\n",
       "      <td>NaN</td>\n",
       "      <td>Y</td>\n",
       "      <td>Y</td>\n",
       "      <td>0.725316</td>\n",
       "      <td>0.941425</td>\n",
       "      <td>...</td>\n",
       "      <td>0.403226</td>\n",
       "      <td>0.984018</td>\n",
       "      <td>0.692931</td>\n",
       "      <td>0.373585</td>\n",
       "      <td>0.507042</td>\n",
       "      <td>0.425712</td>\n",
       "      <td>0.541899</td>\n",
       "      <td>0.664740</td>\n",
       "      <td>0.565217</td>\n",
       "      <td>0.666667</td>\n",
       "    </tr>\n",
       "    <tr>\n",
       "      <th>1372</th>\n",
       "      <td>1970</td>\n",
       "      <td>162</td>\n",
       "      <td>87</td>\n",
       "      <td>75</td>\n",
       "      <td>N</td>\n",
       "      <td>NaN</td>\n",
       "      <td>N</td>\n",
       "      <td>N</td>\n",
       "      <td>0.717722</td>\n",
       "      <td>0.938943</td>\n",
       "      <td>...</td>\n",
       "      <td>0.612903</td>\n",
       "      <td>0.952381</td>\n",
       "      <td>0.747423</td>\n",
       "      <td>0.437736</td>\n",
       "      <td>0.702660</td>\n",
       "      <td>0.473441</td>\n",
       "      <td>0.759777</td>\n",
       "      <td>0.566474</td>\n",
       "      <td>0.260870</td>\n",
       "      <td>0.537037</td>\n",
       "    </tr>\n",
       "    <tr>\n",
       "      <th>1373</th>\n",
       "      <td>1970</td>\n",
       "      <td>162</td>\n",
       "      <td>86</td>\n",
       "      <td>76</td>\n",
       "      <td>N</td>\n",
       "      <td>NaN</td>\n",
       "      <td>N</td>\n",
       "      <td>N</td>\n",
       "      <td>0.521519</td>\n",
       "      <td>0.938198</td>\n",
       "      <td>...</td>\n",
       "      <td>0.693548</td>\n",
       "      <td>0.968037</td>\n",
       "      <td>0.665685</td>\n",
       "      <td>0.430189</td>\n",
       "      <td>0.647887</td>\n",
       "      <td>0.411085</td>\n",
       "      <td>0.597765</td>\n",
       "      <td>0.786127</td>\n",
       "      <td>0.521739</td>\n",
       "      <td>0.530864</td>\n",
       "    </tr>\n",
       "    <tr>\n",
       "      <th>1374</th>\n",
       "      <td>1970</td>\n",
       "      <td>162</td>\n",
       "      <td>56</td>\n",
       "      <td>106</td>\n",
       "      <td>N</td>\n",
       "      <td>NaN</td>\n",
       "      <td>N</td>\n",
       "      <td>N</td>\n",
       "      <td>0.524051</td>\n",
       "      <td>0.933730</td>\n",
       "      <td>...</td>\n",
       "      <td>0.387097</td>\n",
       "      <td>0.936725</td>\n",
       "      <td>0.867452</td>\n",
       "      <td>0.467925</td>\n",
       "      <td>0.643192</td>\n",
       "      <td>0.287914</td>\n",
       "      <td>0.810056</td>\n",
       "      <td>0.890173</td>\n",
       "      <td>0.304348</td>\n",
       "      <td>0.345679</td>\n",
       "    </tr>\n",
       "    <tr>\n",
       "      <th>...</th>\n",
       "      <td>...</td>\n",
       "      <td>...</td>\n",
       "      <td>...</td>\n",
       "      <td>...</td>\n",
       "      <td>...</td>\n",
       "      <td>...</td>\n",
       "      <td>...</td>\n",
       "      <td>...</td>\n",
       "      <td>...</td>\n",
       "      <td>...</td>\n",
       "      <td>...</td>\n",
       "      <td>...</td>\n",
       "      <td>...</td>\n",
       "      <td>...</td>\n",
       "      <td>...</td>\n",
       "      <td>...</td>\n",
       "      <td>...</td>\n",
       "      <td>...</td>\n",
       "      <td>...</td>\n",
       "      <td>...</td>\n",
       "      <td>...</td>\n",
       "    </tr>\n",
       "    <tr>\n",
       "      <th>2779</th>\n",
       "      <td>2020</td>\n",
       "      <td>58</td>\n",
       "      <td>30</td>\n",
       "      <td>28</td>\n",
       "      <td>N</td>\n",
       "      <td>Y</td>\n",
       "      <td>N</td>\n",
       "      <td>N</td>\n",
       "      <td>0.026582</td>\n",
       "      <td>0.000000</td>\n",
       "      <td>...</td>\n",
       "      <td>0.112903</td>\n",
       "      <td>0.000000</td>\n",
       "      <td>0.000000</td>\n",
       "      <td>0.109434</td>\n",
       "      <td>0.092332</td>\n",
       "      <td>0.058507</td>\n",
       "      <td>0.072626</td>\n",
       "      <td>0.075145</td>\n",
       "      <td>0.652174</td>\n",
       "      <td>0.517241</td>\n",
       "    </tr>\n",
       "    <tr>\n",
       "      <th>2780</th>\n",
       "      <td>2020</td>\n",
       "      <td>60</td>\n",
       "      <td>40</td>\n",
       "      <td>20</td>\n",
       "      <td>Y</td>\n",
       "      <td>N</td>\n",
       "      <td>Y</td>\n",
       "      <td>N</td>\n",
       "      <td>0.088608</td>\n",
       "      <td>0.055349</td>\n",
       "      <td>...</td>\n",
       "      <td>0.274194</td>\n",
       "      <td>0.053490</td>\n",
       "      <td>0.072901</td>\n",
       "      <td>0.113208</td>\n",
       "      <td>0.035994</td>\n",
       "      <td>0.126251</td>\n",
       "      <td>0.072626</td>\n",
       "      <td>0.109827</td>\n",
       "      <td>0.739130</td>\n",
       "      <td>0.666667</td>\n",
       "    </tr>\n",
       "    <tr>\n",
       "      <th>2781</th>\n",
       "      <td>2020</td>\n",
       "      <td>60</td>\n",
       "      <td>22</td>\n",
       "      <td>38</td>\n",
       "      <td>N</td>\n",
       "      <td>N</td>\n",
       "      <td>N</td>\n",
       "      <td>N</td>\n",
       "      <td>0.006329</td>\n",
       "      <td>0.045669</td>\n",
       "      <td>...</td>\n",
       "      <td>0.064516</td>\n",
       "      <td>0.042727</td>\n",
       "      <td>0.075847</td>\n",
       "      <td>0.154717</td>\n",
       "      <td>0.142410</td>\n",
       "      <td>0.077752</td>\n",
       "      <td>0.111732</td>\n",
       "      <td>0.040462</td>\n",
       "      <td>0.565217</td>\n",
       "      <td>0.366667</td>\n",
       "    </tr>\n",
       "    <tr>\n",
       "      <th>2782</th>\n",
       "      <td>2020</td>\n",
       "      <td>60</td>\n",
       "      <td>32</td>\n",
       "      <td>28</td>\n",
       "      <td>N</td>\n",
       "      <td>Y</td>\n",
       "      <td>N</td>\n",
       "      <td>N</td>\n",
       "      <td>0.105063</td>\n",
       "      <td>0.067262</td>\n",
       "      <td>...</td>\n",
       "      <td>0.177419</td>\n",
       "      <td>0.050554</td>\n",
       "      <td>0.103829</td>\n",
       "      <td>0.154717</td>\n",
       "      <td>0.164319</td>\n",
       "      <td>0.100847</td>\n",
       "      <td>0.100559</td>\n",
       "      <td>0.080925</td>\n",
       "      <td>0.608696</td>\n",
       "      <td>0.533333</td>\n",
       "    </tr>\n",
       "    <tr>\n",
       "      <th>2783</th>\n",
       "      <td>2020</td>\n",
       "      <td>60</td>\n",
       "      <td>26</td>\n",
       "      <td>34</td>\n",
       "      <td>N</td>\n",
       "      <td>N</td>\n",
       "      <td>N</td>\n",
       "      <td>N</td>\n",
       "      <td>0.093671</td>\n",
       "      <td>0.053611</td>\n",
       "      <td>...</td>\n",
       "      <td>0.096774</td>\n",
       "      <td>0.030007</td>\n",
       "      <td>0.126657</td>\n",
       "      <td>0.203774</td>\n",
       "      <td>0.111111</td>\n",
       "      <td>0.092379</td>\n",
       "      <td>0.106145</td>\n",
       "      <td>0.086705</td>\n",
       "      <td>0.565217</td>\n",
       "      <td>0.433333</td>\n",
       "    </tr>\n",
       "  </tbody>\n",
       "</table>\n",
       "<p>1414 rows × 35 columns</p>\n",
       "</div>"
      ],
      "text/plain": [
       "      year  games_played  wins  losses division_winner wild_card_winner  \\\n",
       "1370  1970           162    76      86               N              NaN   \n",
       "1371  1970           162   108      54               Y              NaN   \n",
       "1372  1970           162    87      75               N              NaN   \n",
       "1373  1970           162    86      76               N              NaN   \n",
       "1374  1970           162    56     106               N              NaN   \n",
       "...    ...           ...   ...     ...             ...              ...   \n",
       "2779  2020            58    30      28               N                Y   \n",
       "2780  2020            60    40      20               Y                N   \n",
       "2781  2020            60    22      38               N                N   \n",
       "2782  2020            60    32      28               N                Y   \n",
       "2783  2020            60    26      34               N                N   \n",
       "\n",
       "     league_winner world_series_winner  runs_scored   at_bats  ...     saves  \\\n",
       "1370             N                   N     0.654430  0.941673  ...  0.290323   \n",
       "1371             Y                   Y     0.725316  0.941425  ...  0.403226   \n",
       "1372             N                   N     0.717722  0.938943  ...  0.612903   \n",
       "1373             N                   N     0.521519  0.938198  ...  0.693548   \n",
       "1374             N                   N     0.524051  0.933730  ...  0.387097   \n",
       "...            ...                 ...          ...       ...  ...       ...   \n",
       "2779             N                   N     0.026582  0.000000  ...  0.112903   \n",
       "2780             Y                   N     0.088608  0.055349  ...  0.274194   \n",
       "2781             N                   N     0.006329  0.045669  ...  0.064516   \n",
       "2782             N                   N     0.105063  0.067262  ...  0.177419   \n",
       "2783             N                   N     0.093671  0.053611  ...  0.096774   \n",
       "\n",
       "      outs_pitches  hits_allowed  homeruns_allowed  walks_allowed  \\\n",
       "1370      0.937052      0.791605          0.547170       0.521127   \n",
       "1371      0.984018      0.692931          0.373585       0.507042   \n",
       "1372      0.952381      0.747423          0.437736       0.702660   \n",
       "1373      0.968037      0.665685          0.430189       0.647887   \n",
       "1374      0.936725      0.867452          0.467925       0.643192   \n",
       "...            ...           ...               ...            ...   \n",
       "2779      0.000000      0.000000          0.109434       0.092332   \n",
       "2780      0.053490      0.072901          0.113208       0.035994   \n",
       "2781      0.042727      0.075847          0.154717       0.142410   \n",
       "2782      0.050554      0.103829          0.154717       0.164319   \n",
       "2783      0.030007      0.126657          0.203774       0.111111   \n",
       "\n",
       "      strikeouts_by_pitchers    errors  double_plays  fielding_percentage  \\\n",
       "1370                0.440339  0.675978      0.491329             0.391304   \n",
       "1371                0.425712  0.541899      0.664740             0.565217   \n",
       "1372                0.473441  0.759777      0.566474             0.260870   \n",
       "1373                0.411085  0.597765      0.786127             0.521739   \n",
       "1374                0.287914  0.810056      0.890173             0.304348   \n",
       "...                      ...       ...           ...                  ...   \n",
       "2779                0.058507  0.072626      0.075145             0.652174   \n",
       "2780                0.126251  0.072626      0.109827             0.739130   \n",
       "2781                0.077752  0.111732      0.040462             0.565217   \n",
       "2782                0.100847  0.100559      0.080925             0.608696   \n",
       "2783                0.092379  0.106145      0.086705             0.565217   \n",
       "\n",
       "      win_percentage  \n",
       "1370        0.469136  \n",
       "1371        0.666667  \n",
       "1372        0.537037  \n",
       "1373        0.530864  \n",
       "1374        0.345679  \n",
       "...              ...  \n",
       "2779        0.517241  \n",
       "2780        0.666667  \n",
       "2781        0.366667  \n",
       "2782        0.533333  \n",
       "2783        0.433333  \n",
       "\n",
       "[1414 rows x 35 columns]"
      ]
     },
     "execution_count": 5,
     "metadata": {},
     "output_type": "execute_result"
    }
   ],
   "source": [
    "df_rate = df_count.copy()\n",
    "scaler = MinMaxScaler()\n",
    "\n",
    "cols = list(df_rate.loc[:, 'runs_scored': 'fielding_percentage'].columns)\n",
    "df_rate[cols] = scaler.fit_transform(df_rate[cols])\n",
    "df_rate"
   ]
  },
  {
   "cell_type": "markdown",
   "metadata": {
    "cell_id": "eafcc5c5c990479a8594e4de4550838a",
    "deepnote_cell_type": "markdown"
   },
   "source": [
    "Because the target variable `win_percentage` is quantitative, determining the relationship between the stats and `win_percentage` is a regression problem. Therefore, I need to fit a linear regression model between each stat and `win_percentage`, returning each model's coefficient, mean squared error, and mean absolute error."
   ]
  },
  {
   "cell_type": "code",
   "execution_count": null,
   "metadata": {
    "cell_id": "ed649679eddc4e19a034efac24e3169c",
    "deepnote_cell_type": "code",
    "deepnote_to_be_reexecuted": false,
    "execution_millis": 206,
    "execution_start": 1702543980652,
    "source_hash": null
   },
   "outputs": [
    {
     "data": {
      "application/vnd.deepnote.dataframe.v3+json": {
       "column_count": 4,
       "columns": [
        {
         "dtype": "object",
         "name": "Stat",
         "stats": {
          "categories": [
           {
            "count": 1,
            "name": "runs_scored"
           },
           {
            "count": 1,
            "name": "at_bats"
           },
           {
            "count": 24,
            "name": "24 others"
           }
          ],
          "nan_count": 0,
          "unique_count": 26
         }
        },
        {
         "dtype": "float64",
         "name": "Coefficient",
         "stats": {
          "histogram": [
           {
            "bin_end": -0.20756675390832788,
            "bin_start": -0.2535718640882465,
            "count": 3
           },
           {
            "bin_end": -0.16156164372840925,
            "bin_start": -0.20756675390832788,
            "count": 1
           },
           {
            "bin_end": -0.1155565335484906,
            "bin_start": -0.16156164372840925,
            "count": 1
           },
           {
            "bin_end": -0.06955142336857198,
            "bin_start": -0.1155565335484906,
            "count": 2
           },
           {
            "bin_end": -0.023546313188653356,
            "bin_start": -0.06955142336857198,
            "count": 3
           },
           {
            "bin_end": 0.022458796991265295,
            "bin_start": -0.023546313188653356,
            "count": 3
           },
           {
            "bin_end": 0.06846390717118389,
            "bin_start": 0.022458796991265295,
            "count": 4
           },
           {
            "bin_end": 0.11446901735110254,
            "bin_start": 0.06846390717118389,
            "count": 2
           },
           {
            "bin_end": 0.1604741275310212,
            "bin_start": 0.11446901735110254,
            "count": 4
           },
           {
            "bin_end": 0.20647923771093976,
            "bin_start": 0.1604741275310212,
            "count": 3
           }
          ],
          "max": "0.20647923771093976",
          "min": "-0.2535718640882465",
          "nan_count": 0,
          "unique_count": 26
         }
        },
        {
         "dtype": "float64",
         "name": "Mean Squared Error",
         "stats": {
          "histogram": [
           {
            "bin_end": 0.003732900901487088,
            "bin_start": 0.003589898900884073,
            "count": 1
           },
           {
            "bin_end": 0.003875902902090103,
            "bin_start": 0.003732900901487088,
            "count": 0
           },
           {
            "bin_end": 0.004018904902693118,
            "bin_start": 0.003875902902090103,
            "count": 1
           },
           {
            "bin_end": 0.004161906903296133,
            "bin_start": 0.004018904902693118,
            "count": 1
           },
           {
            "bin_end": 0.004304908903899148,
            "bin_start": 0.004161906903296133,
            "count": 3
           },
           {
            "bin_end": 0.0044479109045021635,
            "bin_start": 0.004304908903899148,
            "count": 0
           },
           {
            "bin_end": 0.004590912905105178,
            "bin_start": 0.0044479109045021635,
            "count": 2
           },
           {
            "bin_end": 0.004733914905708193,
            "bin_start": 0.004590912905105178,
            "count": 3
           },
           {
            "bin_end": 0.004876916906311209,
            "bin_start": 0.004733914905708193,
            "count": 4
           },
           {
            "bin_end": 0.005019918906914223,
            "bin_start": 0.004876916906311209,
            "count": 11
           }
          ],
          "max": "0.005019918906914223",
          "min": "0.003589898900884073",
          "nan_count": 0,
          "unique_count": 26
         }
        },
        {
         "dtype": "float64",
         "name": "Mean Absolute Error",
         "stats": {
          "histogram": [
           {
            "bin_end": 0.048982270664550825,
            "bin_start": 0.04793870265449636,
            "count": 1
           },
           {
            "bin_end": 0.0500258386746053,
            "bin_start": 0.048982270664550825,
            "count": 0
           },
           {
            "bin_end": 0.05106940668465977,
            "bin_start": 0.0500258386746053,
            "count": 1
           },
           {
            "bin_end": 0.05211297469471424,
            "bin_start": 0.05106940668465977,
            "count": 2
           },
           {
            "bin_end": 0.0531565427047687,
            "bin_start": 0.05211297469471424,
            "count": 2
           },
           {
            "bin_end": 0.054200110714823176,
            "bin_start": 0.0531565427047687,
            "count": 1
           },
           {
            "bin_end": 0.05524367872487765,
            "bin_start": 0.054200110714823176,
            "count": 1
           },
           {
            "bin_end": 0.056287246734932114,
            "bin_start": 0.05524367872487765,
            "count": 3
           },
           {
            "bin_end": 0.05733081474498658,
            "bin_start": 0.056287246734932114,
            "count": 5
           },
           {
            "bin_end": 0.05837438275504105,
            "bin_start": 0.05733081474498658,
            "count": 10
           }
          ],
          "max": "0.05837438275504105",
          "min": "0.04793870265449636",
          "nan_count": 0,
          "unique_count": 26
         }
        },
        {
         "dtype": "int64",
         "name": "_deepnote_index_column"
        }
       ],
       "row_count": 26,
       "rows": [
        {
         "Coefficient": 0.18831465814767837,
         "Mean Absolute Error": 0.05264240713472383,
         "Mean Squared Error": 0.004266515515217094,
         "Stat": "runs_scored",
         "_deepnote_index_column": 0
        },
        {
         "Coefficient": 0.011933267491838793,
         "Mean Absolute Error": 0.058330242808397714,
         "Mean Squared Error": 0.005019918906914223,
         "Stat": "at_bats",
         "_deepnote_index_column": 1
        },
        {
         "Coefficient": 0.08708879585039338,
         "Mean Absolute Error": 0.05701877287162924,
         "Mean Squared Error": 0.004876715018059652,
         "Stat": "hits",
         "_deepnote_index_column": 2
        },
        {
         "Coefficient": 0.07654114621716178,
         "Mean Absolute Error": 0.05728794363951976,
         "Mean Squared Error": 0.004880644195008177,
         "Stat": "doubles",
         "_deepnote_index_column": 3
        },
        {
         "Coefficient": 0.017559026006174015,
         "Mean Absolute Error": 0.058267562521668675,
         "Mean Squared Error": 0.005017089296757197,
         "Stat": "triples",
         "_deepnote_index_column": 4
        },
        {
         "Coefficient": 0.12833354855059362,
         "Mean Absolute Error": 0.05554685804937392,
         "Mean Squared Error": 0.004606249066973834,
         "Stat": "homeruns",
         "_deepnote_index_column": 5
        },
        {
         "Coefficient": 0.15694413276024058,
         "Mean Absolute Error": 0.0548526386314366,
         "Mean Squared Error": 0.004541416343688197,
         "Stat": "walks",
         "_deepnote_index_column": 6
        },
        {
         "Coefficient": -0.02456663431627061,
         "Mean Absolute Error": 0.05824248025194502,
         "Mean Squared Error": 0.0050040323346889634,
         "Stat": "strikeouts_by_batters",
         "_deepnote_index_column": 7
        },
        {
         "Coefficient": 0.06824537728609718,
         "Mean Absolute Error": 0.057895296743758276,
         "Mean Squared Error": 0.004951446688690521,
         "Stat": "stolen_bases",
         "_deepnote_index_column": 8
        },
        {
         "Coefficient": -0.02408160346196963,
         "Mean Absolute Error": 0.05837438275504105,
         "Mean Squared Error": 0.005010587425961018,
         "Stat": "caught_stealing",
         "_deepnote_index_column": 9
        }
       ]
      },
      "text/html": [
       "<div>\n",
       "<style scoped>\n",
       "    .dataframe tbody tr th:only-of-type {\n",
       "        vertical-align: middle;\n",
       "    }\n",
       "\n",
       "    .dataframe tbody tr th {\n",
       "        vertical-align: top;\n",
       "    }\n",
       "\n",
       "    .dataframe thead th {\n",
       "        text-align: right;\n",
       "    }\n",
       "</style>\n",
       "<table border=\"1\" class=\"dataframe\">\n",
       "  <thead>\n",
       "    <tr style=\"text-align: right;\">\n",
       "      <th></th>\n",
       "      <th>Stat</th>\n",
       "      <th>Coefficient</th>\n",
       "      <th>Mean Squared Error</th>\n",
       "      <th>Mean Absolute Error</th>\n",
       "    </tr>\n",
       "  </thead>\n",
       "  <tbody>\n",
       "    <tr>\n",
       "      <th>0</th>\n",
       "      <td>runs_scored</td>\n",
       "      <td>0.188315</td>\n",
       "      <td>0.004267</td>\n",
       "      <td>0.052642</td>\n",
       "    </tr>\n",
       "    <tr>\n",
       "      <th>1</th>\n",
       "      <td>at_bats</td>\n",
       "      <td>0.011933</td>\n",
       "      <td>0.005020</td>\n",
       "      <td>0.058330</td>\n",
       "    </tr>\n",
       "    <tr>\n",
       "      <th>2</th>\n",
       "      <td>hits</td>\n",
       "      <td>0.087089</td>\n",
       "      <td>0.004877</td>\n",
       "      <td>0.057019</td>\n",
       "    </tr>\n",
       "    <tr>\n",
       "      <th>3</th>\n",
       "      <td>doubles</td>\n",
       "      <td>0.076541</td>\n",
       "      <td>0.004881</td>\n",
       "      <td>0.057288</td>\n",
       "    </tr>\n",
       "    <tr>\n",
       "      <th>4</th>\n",
       "      <td>triples</td>\n",
       "      <td>0.017559</td>\n",
       "      <td>0.005017</td>\n",
       "      <td>0.058268</td>\n",
       "    </tr>\n",
       "    <tr>\n",
       "      <th>5</th>\n",
       "      <td>homeruns</td>\n",
       "      <td>0.128334</td>\n",
       "      <td>0.004606</td>\n",
       "      <td>0.055547</td>\n",
       "    </tr>\n",
       "    <tr>\n",
       "      <th>6</th>\n",
       "      <td>walks</td>\n",
       "      <td>0.156944</td>\n",
       "      <td>0.004541</td>\n",
       "      <td>0.054853</td>\n",
       "    </tr>\n",
       "    <tr>\n",
       "      <th>7</th>\n",
       "      <td>strikeouts_by_batters</td>\n",
       "      <td>-0.024567</td>\n",
       "      <td>0.005004</td>\n",
       "      <td>0.058242</td>\n",
       "    </tr>\n",
       "    <tr>\n",
       "      <th>8</th>\n",
       "      <td>stolen_bases</td>\n",
       "      <td>0.068245</td>\n",
       "      <td>0.004951</td>\n",
       "      <td>0.057895</td>\n",
       "    </tr>\n",
       "    <tr>\n",
       "      <th>9</th>\n",
       "      <td>caught_stealing</td>\n",
       "      <td>-0.024082</td>\n",
       "      <td>0.005011</td>\n",
       "      <td>0.058374</td>\n",
       "    </tr>\n",
       "    <tr>\n",
       "      <th>10</th>\n",
       "      <td>batters_hit_by_pitch</td>\n",
       "      <td>0.038366</td>\n",
       "      <td>0.004974</td>\n",
       "      <td>0.058146</td>\n",
       "    </tr>\n",
       "    <tr>\n",
       "      <th>11</th>\n",
       "      <td>sacrifice_flies</td>\n",
       "      <td>0.122088</td>\n",
       "      <td>0.004706</td>\n",
       "      <td>0.055930</td>\n",
       "    </tr>\n",
       "    <tr>\n",
       "      <th>12</th>\n",
       "      <td>opponents_runs_scored</td>\n",
       "      <td>-0.229026</td>\n",
       "      <td>0.004115</td>\n",
       "      <td>0.051231</td>\n",
       "    </tr>\n",
       "    <tr>\n",
       "      <th>13</th>\n",
       "      <td>earned_runs_allowed</td>\n",
       "      <td>-0.214156</td>\n",
       "      <td>0.004214</td>\n",
       "      <td>0.052116</td>\n",
       "    </tr>\n",
       "    <tr>\n",
       "      <th>14</th>\n",
       "      <td>earned_run_average</td>\n",
       "      <td>-0.253572</td>\n",
       "      <td>0.003590</td>\n",
       "      <td>0.047939</td>\n",
       "    </tr>\n",
       "    <tr>\n",
       "      <th>15</th>\n",
       "      <td>complete_games</td>\n",
       "      <td>0.036581</td>\n",
       "      <td>0.004986</td>\n",
       "      <td>0.058083</td>\n",
       "    </tr>\n",
       "    <tr>\n",
       "      <th>16</th>\n",
       "      <td>shutouts</td>\n",
       "      <td>0.163535</td>\n",
       "      <td>0.004180</td>\n",
       "      <td>0.052013</td>\n",
       "    </tr>\n",
       "    <tr>\n",
       "      <th>17</th>\n",
       "      <td>saves</td>\n",
       "      <td>0.206479</td>\n",
       "      <td>0.003990</td>\n",
       "      <td>0.050757</td>\n",
       "    </tr>\n",
       "    <tr>\n",
       "      <th>18</th>\n",
       "      <td>outs_pitches</td>\n",
       "      <td>0.016956</td>\n",
       "      <td>0.005016</td>\n",
       "      <td>0.058276</td>\n",
       "    </tr>\n",
       "    <tr>\n",
       "      <th>19</th>\n",
       "      <td>hits_allowed</td>\n",
       "      <td>-0.117936</td>\n",
       "      <td>0.004771</td>\n",
       "      <td>0.056385</td>\n",
       "    </tr>\n",
       "    <tr>\n",
       "      <th>20</th>\n",
       "      <td>homeruns_allowed</td>\n",
       "      <td>-0.099719</td>\n",
       "      <td>0.004814</td>\n",
       "      <td>0.056881</td>\n",
       "    </tr>\n",
       "    <tr>\n",
       "      <th>21</th>\n",
       "      <td>walks_allowed</td>\n",
       "      <td>-0.177109</td>\n",
       "      <td>0.004461</td>\n",
       "      <td>0.054053</td>\n",
       "    </tr>\n",
       "    <tr>\n",
       "      <th>22</th>\n",
       "      <td>strikeouts_by_pitchers</td>\n",
       "      <td>0.064297</td>\n",
       "      <td>0.004907</td>\n",
       "      <td>0.057443</td>\n",
       "    </tr>\n",
       "    <tr>\n",
       "      <th>23</th>\n",
       "      <td>errors</td>\n",
       "      <td>-0.105935</td>\n",
       "      <td>0.004768</td>\n",
       "      <td>0.056594</td>\n",
       "    </tr>\n",
       "    <tr>\n",
       "      <th>24</th>\n",
       "      <td>double_plays</td>\n",
       "      <td>-0.048609</td>\n",
       "      <td>0.004975</td>\n",
       "      <td>0.058041</td>\n",
       "    </tr>\n",
       "    <tr>\n",
       "      <th>25</th>\n",
       "      <td>fielding_percentage</td>\n",
       "      <td>0.126001</td>\n",
       "      <td>0.004620</td>\n",
       "      <td>0.055467</td>\n",
       "    </tr>\n",
       "  </tbody>\n",
       "</table>\n",
       "</div>"
      ],
      "text/plain": [
       "                      Stat  Coefficient  Mean Squared Error  \\\n",
       "0              runs_scored     0.188315            0.004267   \n",
       "1                  at_bats     0.011933            0.005020   \n",
       "2                     hits     0.087089            0.004877   \n",
       "3                  doubles     0.076541            0.004881   \n",
       "4                  triples     0.017559            0.005017   \n",
       "5                 homeruns     0.128334            0.004606   \n",
       "6                    walks     0.156944            0.004541   \n",
       "7    strikeouts_by_batters    -0.024567            0.005004   \n",
       "8             stolen_bases     0.068245            0.004951   \n",
       "9          caught_stealing    -0.024082            0.005011   \n",
       "10    batters_hit_by_pitch     0.038366            0.004974   \n",
       "11         sacrifice_flies     0.122088            0.004706   \n",
       "12   opponents_runs_scored    -0.229026            0.004115   \n",
       "13     earned_runs_allowed    -0.214156            0.004214   \n",
       "14      earned_run_average    -0.253572            0.003590   \n",
       "15          complete_games     0.036581            0.004986   \n",
       "16                shutouts     0.163535            0.004180   \n",
       "17                   saves     0.206479            0.003990   \n",
       "18            outs_pitches     0.016956            0.005016   \n",
       "19            hits_allowed    -0.117936            0.004771   \n",
       "20        homeruns_allowed    -0.099719            0.004814   \n",
       "21           walks_allowed    -0.177109            0.004461   \n",
       "22  strikeouts_by_pitchers     0.064297            0.004907   \n",
       "23                  errors    -0.105935            0.004768   \n",
       "24            double_plays    -0.048609            0.004975   \n",
       "25     fielding_percentage     0.126001            0.004620   \n",
       "\n",
       "    Mean Absolute Error  \n",
       "0              0.052642  \n",
       "1              0.058330  \n",
       "2              0.057019  \n",
       "3              0.057288  \n",
       "4              0.058268  \n",
       "5              0.055547  \n",
       "6              0.054853  \n",
       "7              0.058242  \n",
       "8              0.057895  \n",
       "9              0.058374  \n",
       "10             0.058146  \n",
       "11             0.055930  \n",
       "12             0.051231  \n",
       "13             0.052116  \n",
       "14             0.047939  \n",
       "15             0.058083  \n",
       "16             0.052013  \n",
       "17             0.050757  \n",
       "18             0.058276  \n",
       "19             0.056385  \n",
       "20             0.056881  \n",
       "21             0.054053  \n",
       "22             0.057443  \n",
       "23             0.056594  \n",
       "24             0.058041  \n",
       "25             0.055467  "
      ]
     },
     "execution_count": 6,
     "metadata": {},
     "output_type": "execute_result"
    }
   ],
   "source": [
    "reg = LinearRegression()\n",
    "coefs = []\n",
    "mse = []\n",
    "mae = []\n",
    "\n",
    "for col in cols:\n",
    "    reg.fit(df_rate[[col]], df_rate['win_percentage'])\n",
    "    coefs.append(reg.coef_[0])\n",
    "    mse.append(mean_squared_error(df_rate['win_percentage'], reg.predict(df_rate[[col]])))\n",
    "    mae.append(mean_absolute_error(df_rate['win_percentage'], reg.predict(df_rate[[col]])))\n",
    "\n",
    "df_rate_reg = pd.DataFrame({'Stat': cols, 'Coefficient': coefs, 'Mean Squared Error': mse, 'Mean Absolute Error': mae})\n",
    "df_rate_reg"
   ]
  },
  {
   "cell_type": "markdown",
   "metadata": {
    "cell_id": "c3359746edac4d6e85e532cf5fffa76f",
    "deepnote_cell_type": "markdown"
   },
   "source": [
    "Each stat's corresponding coefficient, mean squared error, and mean absolute error are visualized below in three bar charts."
   ]
  },
  {
   "cell_type": "code",
   "execution_count": null,
   "metadata": {
    "cell_id": "c36eee44965d4329ad93efab380ac35a",
    "deepnote_cell_type": "code",
    "deepnote_to_be_reexecuted": false,
    "execution_millis": 20,
    "execution_start": 1702543980909,
    "source_hash": null
   },
   "outputs": [
    {
     "data": {
      "text/html": [
       "\n",
       "<div id=\"altair-viz-85e59b35e2764acf8bab3679377922fa\"></div>\n",
       "<script type=\"text/javascript\">\n",
       "  var VEGA_DEBUG = (typeof VEGA_DEBUG == \"undefined\") ? {} : VEGA_DEBUG;\n",
       "  (function(spec, embedOpt){\n",
       "    let outputDiv = document.currentScript.previousElementSibling;\n",
       "    if (outputDiv.id !== \"altair-viz-85e59b35e2764acf8bab3679377922fa\") {\n",
       "      outputDiv = document.getElementById(\"altair-viz-85e59b35e2764acf8bab3679377922fa\");\n",
       "    }\n",
       "    const paths = {\n",
       "      \"vega\": \"https://cdn.jsdelivr.net/npm//vega@5?noext\",\n",
       "      \"vega-lib\": \"https://cdn.jsdelivr.net/npm//vega-lib?noext\",\n",
       "      \"vega-lite\": \"https://cdn.jsdelivr.net/npm//vega-lite@4.17.0?noext\",\n",
       "      \"vega-embed\": \"https://cdn.jsdelivr.net/npm//vega-embed@6?noext\",\n",
       "    };\n",
       "\n",
       "    function maybeLoadScript(lib, version) {\n",
       "      var key = `${lib.replace(\"-\", \"\")}_version`;\n",
       "      return (VEGA_DEBUG[key] == version) ?\n",
       "        Promise.resolve(paths[lib]) :\n",
       "        new Promise(function(resolve, reject) {\n",
       "          var s = document.createElement('script');\n",
       "          document.getElementsByTagName(\"head\")[0].appendChild(s);\n",
       "          s.async = true;\n",
       "          s.onload = () => {\n",
       "            VEGA_DEBUG[key] = version;\n",
       "            return resolve(paths[lib]);\n",
       "          };\n",
       "          s.onerror = () => reject(`Error loading script: ${paths[lib]}`);\n",
       "          s.src = paths[lib];\n",
       "        });\n",
       "    }\n",
       "\n",
       "    function showError(err) {\n",
       "      outputDiv.innerHTML = `<div class=\"error\" style=\"color:red;\">${err}</div>`;\n",
       "      throw err;\n",
       "    }\n",
       "\n",
       "    function displayChart(vegaEmbed) {\n",
       "      vegaEmbed(outputDiv, spec, embedOpt)\n",
       "        .catch(err => showError(`Javascript Error: ${err.message}<br>This usually means there's a typo in your chart specification. See the javascript console for the full traceback.`));\n",
       "    }\n",
       "\n",
       "    if(typeof define === \"function\" && define.amd) {\n",
       "      requirejs.config({paths});\n",
       "      require([\"vega-embed\"], displayChart, err => showError(`Error loading script: ${err.message}`));\n",
       "    } else {\n",
       "      maybeLoadScript(\"vega\", \"5\")\n",
       "        .then(() => maybeLoadScript(\"vega-lite\", \"4.17.0\"))\n",
       "        .then(() => maybeLoadScript(\"vega-embed\", \"6\"))\n",
       "        .catch(showError)\n",
       "        .then(() => displayChart(vegaEmbed));\n",
       "    }\n",
       "  })({\"config\": {\"view\": {\"continuousWidth\": 400, \"continuousHeight\": 300}}, \"data\": {\"name\": \"data-4699ee03d75cbfa803aaed570d94955c\"}, \"mark\": \"bar\", \"encoding\": {\"x\": {\"field\": \"Stat\", \"type\": \"nominal\"}, \"y\": {\"field\": \"Coefficient\", \"type\": \"quantitative\"}}, \"$schema\": \"https://vega.github.io/schema/vega-lite/v4.17.0.json\", \"datasets\": {\"data-4699ee03d75cbfa803aaed570d94955c\": [{\"Stat\": \"runs_scored\", \"Coefficient\": 0.18831465814767837, \"Mean Squared Error\": 0.004266515515217094, \"Mean Absolute Error\": 0.05264240713472383}, {\"Stat\": \"at_bats\", \"Coefficient\": 0.011933267491838793, \"Mean Squared Error\": 0.005019918906914223, \"Mean Absolute Error\": 0.058330242808397714}, {\"Stat\": \"hits\", \"Coefficient\": 0.08708879585039338, \"Mean Squared Error\": 0.004876715018059652, \"Mean Absolute Error\": 0.05701877287162924}, {\"Stat\": \"doubles\", \"Coefficient\": 0.07654114621716178, \"Mean Squared Error\": 0.004880644195008177, \"Mean Absolute Error\": 0.05728794363951976}, {\"Stat\": \"triples\", \"Coefficient\": 0.017559026006174015, \"Mean Squared Error\": 0.005017089296757197, \"Mean Absolute Error\": 0.058267562521668675}, {\"Stat\": \"homeruns\", \"Coefficient\": 0.12833354855059362, \"Mean Squared Error\": 0.004606249066973834, \"Mean Absolute Error\": 0.05554685804937392}, {\"Stat\": \"walks\", \"Coefficient\": 0.15694413276024058, \"Mean Squared Error\": 0.004541416343688197, \"Mean Absolute Error\": 0.0548526386314366}, {\"Stat\": \"strikeouts_by_batters\", \"Coefficient\": -0.02456663431627061, \"Mean Squared Error\": 0.0050040323346889634, \"Mean Absolute Error\": 0.05824248025194502}, {\"Stat\": \"stolen_bases\", \"Coefficient\": 0.06824537728609718, \"Mean Squared Error\": 0.004951446688690521, \"Mean Absolute Error\": 0.057895296743758276}, {\"Stat\": \"caught_stealing\", \"Coefficient\": -0.02408160346196963, \"Mean Squared Error\": 0.005010587425961018, \"Mean Absolute Error\": 0.05837438275504105}, {\"Stat\": \"batters_hit_by_pitch\", \"Coefficient\": 0.03836552096760287, \"Mean Squared Error\": 0.004973872390893573, \"Mean Absolute Error\": 0.05814624151066167}, {\"Stat\": \"sacrifice_flies\", \"Coefficient\": 0.12208772709586446, \"Mean Squared Error\": 0.0047063417273905395, \"Mean Absolute Error\": 0.055929639220551455}, {\"Stat\": \"opponents_runs_scored\", \"Coefficient\": -0.22902636690550687, \"Mean Squared Error\": 0.0041149693944016645, \"Mean Absolute Error\": 0.05123060737018091}, {\"Stat\": \"earned_runs_allowed\", \"Coefficient\": -0.2141556434694785, \"Mean Squared Error\": 0.0042144115959049456, \"Mean Absolute Error\": 0.052116288461668964}, {\"Stat\": \"earned_run_average\", \"Coefficient\": -0.2535718640882465, \"Mean Squared Error\": 0.003589898900884073, \"Mean Absolute Error\": 0.04793870265449636}, {\"Stat\": \"complete_games\", \"Coefficient\": 0.03658124880842796, \"Mean Squared Error\": 0.004986129913870648, \"Mean Absolute Error\": 0.05808257831382118}, {\"Stat\": \"shutouts\", \"Coefficient\": 0.16353459095212416, \"Mean Squared Error\": 0.004179661830342178, \"Mean Absolute Error\": 0.05201349014821077}, {\"Stat\": \"saves\", \"Coefficient\": 0.20647923771093976, \"Mean Squared Error\": 0.00399019892933553, \"Mean Absolute Error\": 0.05075724242940754}, {\"Stat\": \"outs_pitches\", \"Coefficient\": 0.016956189325817418, \"Mean Squared Error\": 0.005016217709180244, \"Mean Absolute Error\": 0.058276034946909916}, {\"Stat\": \"hits_allowed\", \"Coefficient\": -0.117935699748463, \"Mean Squared Error\": 0.004771451163567211, \"Mean Absolute Error\": 0.05638493227476301}, {\"Stat\": \"homeruns_allowed\", \"Coefficient\": -0.09971937130432491, \"Mean Squared Error\": 0.0048143555521540015, \"Mean Absolute Error\": 0.056880882586752175}, {\"Stat\": \"walks_allowed\", \"Coefficient\": -0.17710885818289282, \"Mean Squared Error\": 0.004461032599246258, \"Mean Absolute Error\": 0.054052572447424015}, {\"Stat\": \"strikeouts_by_pitchers\", \"Coefficient\": 0.06429719931775642, \"Mean Squared Error\": 0.004906897821013346, \"Mean Absolute Error\": 0.057443446524362736}, {\"Stat\": \"errors\", \"Coefficient\": -0.10593462464819306, \"Mean Squared Error\": 0.004768345974218516, \"Mean Absolute Error\": 0.056593939573452726}, {\"Stat\": \"double_plays\", \"Coefficient\": -0.04860936180581573, \"Mean Squared Error\": 0.004974802540030119, \"Mean Absolute Error\": 0.05804083243273729}, {\"Stat\": \"fielding_percentage\", \"Coefficient\": 0.12600108206478403, \"Mean Squared Error\": 0.004619919992552827, \"Mean Absolute Error\": 0.0554672158268625}]}}, {\"mode\": \"vega-lite\"});\n",
       "</script>"
      ],
      "text/plain": [
       "alt.Chart(...)"
      ]
     },
     "execution_count": 7,
     "metadata": {},
     "output_type": "execute_result"
    }
   ],
   "source": [
    "alt.Chart(df_rate_reg).mark_bar().encode(\n",
    "    x = 'Stat',\n",
    "    y = 'Coefficient'\n",
    ")"
   ]
  },
  {
   "cell_type": "code",
   "execution_count": null,
   "metadata": {
    "cell_id": "c015e43d59744ef2a8d3f73fd8512f32",
    "deepnote_cell_type": "code",
    "deepnote_to_be_reexecuted": false,
    "execution_millis": 15,
    "execution_start": 1702543980927,
    "source_hash": null
   },
   "outputs": [
    {
     "data": {
      "text/html": [
       "\n",
       "<div id=\"altair-viz-fd2271d3981b4a47b503b027867ff82b\"></div>\n",
       "<script type=\"text/javascript\">\n",
       "  var VEGA_DEBUG = (typeof VEGA_DEBUG == \"undefined\") ? {} : VEGA_DEBUG;\n",
       "  (function(spec, embedOpt){\n",
       "    let outputDiv = document.currentScript.previousElementSibling;\n",
       "    if (outputDiv.id !== \"altair-viz-fd2271d3981b4a47b503b027867ff82b\") {\n",
       "      outputDiv = document.getElementById(\"altair-viz-fd2271d3981b4a47b503b027867ff82b\");\n",
       "    }\n",
       "    const paths = {\n",
       "      \"vega\": \"https://cdn.jsdelivr.net/npm//vega@5?noext\",\n",
       "      \"vega-lib\": \"https://cdn.jsdelivr.net/npm//vega-lib?noext\",\n",
       "      \"vega-lite\": \"https://cdn.jsdelivr.net/npm//vega-lite@4.17.0?noext\",\n",
       "      \"vega-embed\": \"https://cdn.jsdelivr.net/npm//vega-embed@6?noext\",\n",
       "    };\n",
       "\n",
       "    function maybeLoadScript(lib, version) {\n",
       "      var key = `${lib.replace(\"-\", \"\")}_version`;\n",
       "      return (VEGA_DEBUG[key] == version) ?\n",
       "        Promise.resolve(paths[lib]) :\n",
       "        new Promise(function(resolve, reject) {\n",
       "          var s = document.createElement('script');\n",
       "          document.getElementsByTagName(\"head\")[0].appendChild(s);\n",
       "          s.async = true;\n",
       "          s.onload = () => {\n",
       "            VEGA_DEBUG[key] = version;\n",
       "            return resolve(paths[lib]);\n",
       "          };\n",
       "          s.onerror = () => reject(`Error loading script: ${paths[lib]}`);\n",
       "          s.src = paths[lib];\n",
       "        });\n",
       "    }\n",
       "\n",
       "    function showError(err) {\n",
       "      outputDiv.innerHTML = `<div class=\"error\" style=\"color:red;\">${err}</div>`;\n",
       "      throw err;\n",
       "    }\n",
       "\n",
       "    function displayChart(vegaEmbed) {\n",
       "      vegaEmbed(outputDiv, spec, embedOpt)\n",
       "        .catch(err => showError(`Javascript Error: ${err.message}<br>This usually means there's a typo in your chart specification. See the javascript console for the full traceback.`));\n",
       "    }\n",
       "\n",
       "    if(typeof define === \"function\" && define.amd) {\n",
       "      requirejs.config({paths});\n",
       "      require([\"vega-embed\"], displayChart, err => showError(`Error loading script: ${err.message}`));\n",
       "    } else {\n",
       "      maybeLoadScript(\"vega\", \"5\")\n",
       "        .then(() => maybeLoadScript(\"vega-lite\", \"4.17.0\"))\n",
       "        .then(() => maybeLoadScript(\"vega-embed\", \"6\"))\n",
       "        .catch(showError)\n",
       "        .then(() => displayChart(vegaEmbed));\n",
       "    }\n",
       "  })({\"config\": {\"view\": {\"continuousWidth\": 400, \"continuousHeight\": 300}}, \"data\": {\"name\": \"data-4699ee03d75cbfa803aaed570d94955c\"}, \"mark\": {\"type\": \"bar\", \"color\": \"lightgreen\"}, \"encoding\": {\"x\": {\"field\": \"Stat\", \"type\": \"nominal\"}, \"y\": {\"field\": \"Mean Squared Error\", \"type\": \"quantitative\"}}, \"$schema\": \"https://vega.github.io/schema/vega-lite/v4.17.0.json\", \"datasets\": {\"data-4699ee03d75cbfa803aaed570d94955c\": [{\"Stat\": \"runs_scored\", \"Coefficient\": 0.18831465814767837, \"Mean Squared Error\": 0.004266515515217094, \"Mean Absolute Error\": 0.05264240713472383}, {\"Stat\": \"at_bats\", \"Coefficient\": 0.011933267491838793, \"Mean Squared Error\": 0.005019918906914223, \"Mean Absolute Error\": 0.058330242808397714}, {\"Stat\": \"hits\", \"Coefficient\": 0.08708879585039338, \"Mean Squared Error\": 0.004876715018059652, \"Mean Absolute Error\": 0.05701877287162924}, {\"Stat\": \"doubles\", \"Coefficient\": 0.07654114621716178, \"Mean Squared Error\": 0.004880644195008177, \"Mean Absolute Error\": 0.05728794363951976}, {\"Stat\": \"triples\", \"Coefficient\": 0.017559026006174015, \"Mean Squared Error\": 0.005017089296757197, \"Mean Absolute Error\": 0.058267562521668675}, {\"Stat\": \"homeruns\", \"Coefficient\": 0.12833354855059362, \"Mean Squared Error\": 0.004606249066973834, \"Mean Absolute Error\": 0.05554685804937392}, {\"Stat\": \"walks\", \"Coefficient\": 0.15694413276024058, \"Mean Squared Error\": 0.004541416343688197, \"Mean Absolute Error\": 0.0548526386314366}, {\"Stat\": \"strikeouts_by_batters\", \"Coefficient\": -0.02456663431627061, \"Mean Squared Error\": 0.0050040323346889634, \"Mean Absolute Error\": 0.05824248025194502}, {\"Stat\": \"stolen_bases\", \"Coefficient\": 0.06824537728609718, \"Mean Squared Error\": 0.004951446688690521, \"Mean Absolute Error\": 0.057895296743758276}, {\"Stat\": \"caught_stealing\", \"Coefficient\": -0.02408160346196963, \"Mean Squared Error\": 0.005010587425961018, \"Mean Absolute Error\": 0.05837438275504105}, {\"Stat\": \"batters_hit_by_pitch\", \"Coefficient\": 0.03836552096760287, \"Mean Squared Error\": 0.004973872390893573, \"Mean Absolute Error\": 0.05814624151066167}, {\"Stat\": \"sacrifice_flies\", \"Coefficient\": 0.12208772709586446, \"Mean Squared Error\": 0.0047063417273905395, \"Mean Absolute Error\": 0.055929639220551455}, {\"Stat\": \"opponents_runs_scored\", \"Coefficient\": -0.22902636690550687, \"Mean Squared Error\": 0.0041149693944016645, \"Mean Absolute Error\": 0.05123060737018091}, {\"Stat\": \"earned_runs_allowed\", \"Coefficient\": -0.2141556434694785, \"Mean Squared Error\": 0.0042144115959049456, \"Mean Absolute Error\": 0.052116288461668964}, {\"Stat\": \"earned_run_average\", \"Coefficient\": -0.2535718640882465, \"Mean Squared Error\": 0.003589898900884073, \"Mean Absolute Error\": 0.04793870265449636}, {\"Stat\": \"complete_games\", \"Coefficient\": 0.03658124880842796, \"Mean Squared Error\": 0.004986129913870648, \"Mean Absolute Error\": 0.05808257831382118}, {\"Stat\": \"shutouts\", \"Coefficient\": 0.16353459095212416, \"Mean Squared Error\": 0.004179661830342178, \"Mean Absolute Error\": 0.05201349014821077}, {\"Stat\": \"saves\", \"Coefficient\": 0.20647923771093976, \"Mean Squared Error\": 0.00399019892933553, \"Mean Absolute Error\": 0.05075724242940754}, {\"Stat\": \"outs_pitches\", \"Coefficient\": 0.016956189325817418, \"Mean Squared Error\": 0.005016217709180244, \"Mean Absolute Error\": 0.058276034946909916}, {\"Stat\": \"hits_allowed\", \"Coefficient\": -0.117935699748463, \"Mean Squared Error\": 0.004771451163567211, \"Mean Absolute Error\": 0.05638493227476301}, {\"Stat\": \"homeruns_allowed\", \"Coefficient\": -0.09971937130432491, \"Mean Squared Error\": 0.0048143555521540015, \"Mean Absolute Error\": 0.056880882586752175}, {\"Stat\": \"walks_allowed\", \"Coefficient\": -0.17710885818289282, \"Mean Squared Error\": 0.004461032599246258, \"Mean Absolute Error\": 0.054052572447424015}, {\"Stat\": \"strikeouts_by_pitchers\", \"Coefficient\": 0.06429719931775642, \"Mean Squared Error\": 0.004906897821013346, \"Mean Absolute Error\": 0.057443446524362736}, {\"Stat\": \"errors\", \"Coefficient\": -0.10593462464819306, \"Mean Squared Error\": 0.004768345974218516, \"Mean Absolute Error\": 0.056593939573452726}, {\"Stat\": \"double_plays\", \"Coefficient\": -0.04860936180581573, \"Mean Squared Error\": 0.004974802540030119, \"Mean Absolute Error\": 0.05804083243273729}, {\"Stat\": \"fielding_percentage\", \"Coefficient\": 0.12600108206478403, \"Mean Squared Error\": 0.004619919992552827, \"Mean Absolute Error\": 0.0554672158268625}]}}, {\"mode\": \"vega-lite\"});\n",
       "</script>"
      ],
      "text/plain": [
       "alt.Chart(...)"
      ]
     },
     "execution_count": 8,
     "metadata": {},
     "output_type": "execute_result"
    }
   ],
   "source": [
    "alt.Chart(df_rate_reg).mark_bar(color = 'lightgreen').encode(\n",
    "    x = 'Stat',\n",
    "    y = 'Mean Squared Error'\n",
    ")"
   ]
  },
  {
   "cell_type": "code",
   "execution_count": null,
   "metadata": {
    "cell_id": "621d9e2d1de24d1f9fdbc4e8ca79c1b7",
    "deepnote_cell_type": "code",
    "deepnote_to_be_reexecuted": false,
    "execution_millis": 12,
    "execution_start": 1702543980966,
    "source_hash": null
   },
   "outputs": [
    {
     "data": {
      "text/html": [
       "\n",
       "<div id=\"altair-viz-857fe9ce2ecd4b6b992a5b2dbaeb3ad0\"></div>\n",
       "<script type=\"text/javascript\">\n",
       "  var VEGA_DEBUG = (typeof VEGA_DEBUG == \"undefined\") ? {} : VEGA_DEBUG;\n",
       "  (function(spec, embedOpt){\n",
       "    let outputDiv = document.currentScript.previousElementSibling;\n",
       "    if (outputDiv.id !== \"altair-viz-857fe9ce2ecd4b6b992a5b2dbaeb3ad0\") {\n",
       "      outputDiv = document.getElementById(\"altair-viz-857fe9ce2ecd4b6b992a5b2dbaeb3ad0\");\n",
       "    }\n",
       "    const paths = {\n",
       "      \"vega\": \"https://cdn.jsdelivr.net/npm//vega@5?noext\",\n",
       "      \"vega-lib\": \"https://cdn.jsdelivr.net/npm//vega-lib?noext\",\n",
       "      \"vega-lite\": \"https://cdn.jsdelivr.net/npm//vega-lite@4.17.0?noext\",\n",
       "      \"vega-embed\": \"https://cdn.jsdelivr.net/npm//vega-embed@6?noext\",\n",
       "    };\n",
       "\n",
       "    function maybeLoadScript(lib, version) {\n",
       "      var key = `${lib.replace(\"-\", \"\")}_version`;\n",
       "      return (VEGA_DEBUG[key] == version) ?\n",
       "        Promise.resolve(paths[lib]) :\n",
       "        new Promise(function(resolve, reject) {\n",
       "          var s = document.createElement('script');\n",
       "          document.getElementsByTagName(\"head\")[0].appendChild(s);\n",
       "          s.async = true;\n",
       "          s.onload = () => {\n",
       "            VEGA_DEBUG[key] = version;\n",
       "            return resolve(paths[lib]);\n",
       "          };\n",
       "          s.onerror = () => reject(`Error loading script: ${paths[lib]}`);\n",
       "          s.src = paths[lib];\n",
       "        });\n",
       "    }\n",
       "\n",
       "    function showError(err) {\n",
       "      outputDiv.innerHTML = `<div class=\"error\" style=\"color:red;\">${err}</div>`;\n",
       "      throw err;\n",
       "    }\n",
       "\n",
       "    function displayChart(vegaEmbed) {\n",
       "      vegaEmbed(outputDiv, spec, embedOpt)\n",
       "        .catch(err => showError(`Javascript Error: ${err.message}<br>This usually means there's a typo in your chart specification. See the javascript console for the full traceback.`));\n",
       "    }\n",
       "\n",
       "    if(typeof define === \"function\" && define.amd) {\n",
       "      requirejs.config({paths});\n",
       "      require([\"vega-embed\"], displayChart, err => showError(`Error loading script: ${err.message}`));\n",
       "    } else {\n",
       "      maybeLoadScript(\"vega\", \"5\")\n",
       "        .then(() => maybeLoadScript(\"vega-lite\", \"4.17.0\"))\n",
       "        .then(() => maybeLoadScript(\"vega-embed\", \"6\"))\n",
       "        .catch(showError)\n",
       "        .then(() => displayChart(vegaEmbed));\n",
       "    }\n",
       "  })({\"config\": {\"view\": {\"continuousWidth\": 400, \"continuousHeight\": 300}}, \"data\": {\"name\": \"data-4699ee03d75cbfa803aaed570d94955c\"}, \"mark\": {\"type\": \"bar\", \"color\": \"darkgreen\"}, \"encoding\": {\"x\": {\"field\": \"Stat\", \"type\": \"nominal\"}, \"y\": {\"field\": \"Mean Absolute Error\", \"type\": \"quantitative\"}}, \"$schema\": \"https://vega.github.io/schema/vega-lite/v4.17.0.json\", \"datasets\": {\"data-4699ee03d75cbfa803aaed570d94955c\": [{\"Stat\": \"runs_scored\", \"Coefficient\": 0.18831465814767837, \"Mean Squared Error\": 0.004266515515217094, \"Mean Absolute Error\": 0.05264240713472383}, {\"Stat\": \"at_bats\", \"Coefficient\": 0.011933267491838793, \"Mean Squared Error\": 0.005019918906914223, \"Mean Absolute Error\": 0.058330242808397714}, {\"Stat\": \"hits\", \"Coefficient\": 0.08708879585039338, \"Mean Squared Error\": 0.004876715018059652, \"Mean Absolute Error\": 0.05701877287162924}, {\"Stat\": \"doubles\", \"Coefficient\": 0.07654114621716178, \"Mean Squared Error\": 0.004880644195008177, \"Mean Absolute Error\": 0.05728794363951976}, {\"Stat\": \"triples\", \"Coefficient\": 0.017559026006174015, \"Mean Squared Error\": 0.005017089296757197, \"Mean Absolute Error\": 0.058267562521668675}, {\"Stat\": \"homeruns\", \"Coefficient\": 0.12833354855059362, \"Mean Squared Error\": 0.004606249066973834, \"Mean Absolute Error\": 0.05554685804937392}, {\"Stat\": \"walks\", \"Coefficient\": 0.15694413276024058, \"Mean Squared Error\": 0.004541416343688197, \"Mean Absolute Error\": 0.0548526386314366}, {\"Stat\": \"strikeouts_by_batters\", \"Coefficient\": -0.02456663431627061, \"Mean Squared Error\": 0.0050040323346889634, \"Mean Absolute Error\": 0.05824248025194502}, {\"Stat\": \"stolen_bases\", \"Coefficient\": 0.06824537728609718, \"Mean Squared Error\": 0.004951446688690521, \"Mean Absolute Error\": 0.057895296743758276}, {\"Stat\": \"caught_stealing\", \"Coefficient\": -0.02408160346196963, \"Mean Squared Error\": 0.005010587425961018, \"Mean Absolute Error\": 0.05837438275504105}, {\"Stat\": \"batters_hit_by_pitch\", \"Coefficient\": 0.03836552096760287, \"Mean Squared Error\": 0.004973872390893573, \"Mean Absolute Error\": 0.05814624151066167}, {\"Stat\": \"sacrifice_flies\", \"Coefficient\": 0.12208772709586446, \"Mean Squared Error\": 0.0047063417273905395, \"Mean Absolute Error\": 0.055929639220551455}, {\"Stat\": \"opponents_runs_scored\", \"Coefficient\": -0.22902636690550687, \"Mean Squared Error\": 0.0041149693944016645, \"Mean Absolute Error\": 0.05123060737018091}, {\"Stat\": \"earned_runs_allowed\", \"Coefficient\": -0.2141556434694785, \"Mean Squared Error\": 0.0042144115959049456, \"Mean Absolute Error\": 0.052116288461668964}, {\"Stat\": \"earned_run_average\", \"Coefficient\": -0.2535718640882465, \"Mean Squared Error\": 0.003589898900884073, \"Mean Absolute Error\": 0.04793870265449636}, {\"Stat\": \"complete_games\", \"Coefficient\": 0.03658124880842796, \"Mean Squared Error\": 0.004986129913870648, \"Mean Absolute Error\": 0.05808257831382118}, {\"Stat\": \"shutouts\", \"Coefficient\": 0.16353459095212416, \"Mean Squared Error\": 0.004179661830342178, \"Mean Absolute Error\": 0.05201349014821077}, {\"Stat\": \"saves\", \"Coefficient\": 0.20647923771093976, \"Mean Squared Error\": 0.00399019892933553, \"Mean Absolute Error\": 0.05075724242940754}, {\"Stat\": \"outs_pitches\", \"Coefficient\": 0.016956189325817418, \"Mean Squared Error\": 0.005016217709180244, \"Mean Absolute Error\": 0.058276034946909916}, {\"Stat\": \"hits_allowed\", \"Coefficient\": -0.117935699748463, \"Mean Squared Error\": 0.004771451163567211, \"Mean Absolute Error\": 0.05638493227476301}, {\"Stat\": \"homeruns_allowed\", \"Coefficient\": -0.09971937130432491, \"Mean Squared Error\": 0.0048143555521540015, \"Mean Absolute Error\": 0.056880882586752175}, {\"Stat\": \"walks_allowed\", \"Coefficient\": -0.17710885818289282, \"Mean Squared Error\": 0.004461032599246258, \"Mean Absolute Error\": 0.054052572447424015}, {\"Stat\": \"strikeouts_by_pitchers\", \"Coefficient\": 0.06429719931775642, \"Mean Squared Error\": 0.004906897821013346, \"Mean Absolute Error\": 0.057443446524362736}, {\"Stat\": \"errors\", \"Coefficient\": -0.10593462464819306, \"Mean Squared Error\": 0.004768345974218516, \"Mean Absolute Error\": 0.056593939573452726}, {\"Stat\": \"double_plays\", \"Coefficient\": -0.04860936180581573, \"Mean Squared Error\": 0.004974802540030119, \"Mean Absolute Error\": 0.05804083243273729}, {\"Stat\": \"fielding_percentage\", \"Coefficient\": 0.12600108206478403, \"Mean Squared Error\": 0.004619919992552827, \"Mean Absolute Error\": 0.0554672158268625}]}}, {\"mode\": \"vega-lite\"});\n",
       "</script>"
      ],
      "text/plain": [
       "alt.Chart(...)"
      ]
     },
     "execution_count": 9,
     "metadata": {},
     "output_type": "execute_result"
    }
   ],
   "source": [
    "alt.Chart(df_rate_reg).mark_bar(color = 'darkgreen').encode(\n",
    "    x = 'Stat',\n",
    "    y = 'Mean Absolute Error'\n",
    ")"
   ]
  },
  {
   "cell_type": "markdown",
   "metadata": {
    "cell_id": "5dea945b119b4cc2998ffc051d6f0c00",
    "deepnote_cell_type": "markdown"
   },
   "source": [
    "`earned_run_average`, `earned_runs_allowed`, and `opponents_run_scored` have the largest absolute value of all coefficients, with an average coefficient of $-0.22$. The negative value of the coefficient means that higher values of each of the three stats correlates to a lower `win_percentage`, so successful teams have lower earned runs allowed. Furthermore, these three stats have the lowest mean squared error and lowest mean absolute error of all stats, meaning that these stats are the best predictors of `win_percentage`."
   ]
  },
  {
   "cell_type": "markdown",
   "metadata": {
    "cell_id": "f3c06591938442dd8edbbdd2b1626839",
    "deepnote_cell_type": "markdown"
   },
   "source": [
    "## Random Forest Classifier\n",
    "A binary way to determine a team's success is to determine if it is a winning team, which means that its win percentage is over 50%. This will be represented by the `is_win` column."
   ]
  },
  {
   "cell_type": "code",
   "execution_count": null,
   "metadata": {
    "cell_id": "cec45468cca545d8b37ea54e78424477",
    "deepnote_cell_type": "code",
    "deepnote_to_be_reexecuted": false,
    "execution_millis": 146,
    "execution_start": 1702543980987,
    "source_hash": null
   },
   "outputs": [
    {
     "data": {
      "application/vnd.deepnote.dataframe.v3+json": {
       "column_count": 36,
       "columns": [
        {
         "dtype": "int64",
         "name": "year",
         "stats": {
          "histogram": [
           {
            "bin_end": 1975,
            "bin_start": 1970,
            "count": 120
           },
           {
            "bin_end": 1980,
            "bin_start": 1975,
            "count": 126
           },
           {
            "bin_end": 1985,
            "bin_start": 1980,
            "count": 130
           },
           {
            "bin_end": 1990,
            "bin_start": 1985,
            "count": 130
           },
           {
            "bin_end": 1995,
            "bin_start": 1990,
            "count": 134
           },
           {
            "bin_end": 2000,
            "bin_start": 1995,
            "count": 144
           },
           {
            "bin_end": 2005,
            "bin_start": 2000,
            "count": 150
           },
           {
            "bin_end": 2010,
            "bin_start": 2005,
            "count": 150
           },
           {
            "bin_end": 2015,
            "bin_start": 2010,
            "count": 150
           },
           {
            "bin_end": 2020,
            "bin_start": 2015,
            "count": 180
           }
          ],
          "max": "2020",
          "min": "1970",
          "nan_count": 0,
          "unique_count": 51
         }
        },
        {
         "dtype": "int64",
         "name": "games_played",
         "stats": {
          "histogram": [
           {
            "bin_end": 68.6,
            "bin_start": 58,
            "count": 30
           },
           {
            "bin_end": 79.2,
            "bin_start": 68.6,
            "count": 0
           },
           {
            "bin_end": 89.8,
            "bin_start": 79.2,
            "count": 0
           },
           {
            "bin_end": 100.4,
            "bin_start": 89.8,
            "count": 0
           },
           {
            "bin_end": 111,
            "bin_start": 100.4,
            "count": 25
           },
           {
            "bin_end": 121.6,
            "bin_start": 111,
            "count": 29
           },
           {
            "bin_end": 132.2,
            "bin_start": 121.6,
            "count": 0
           },
           {
            "bin_end": 142.8,
            "bin_start": 132.2,
            "count": 0
           },
           {
            "bin_end": 153.39999999999998,
            "bin_start": 142.8,
            "count": 30
           },
           {
            "bin_end": 164,
            "bin_start": 153.39999999999998,
            "count": 1300
           }
          ],
          "max": "164",
          "min": "58",
          "nan_count": 0,
          "unique_count": 29
         }
        },
        {
         "dtype": "int64",
         "name": "wins",
         "stats": {
          "histogram": [
           {
            "bin_end": 28.7,
            "bin_start": 19,
            "count": 13
           },
           {
            "bin_end": 38.4,
            "bin_start": 28.7,
            "count": 17
           },
           {
            "bin_end": 48.099999999999994,
            "bin_start": 38.4,
            "count": 12
           },
           {
            "bin_end": 57.8,
            "bin_start": 48.099999999999994,
            "count": 51
           },
           {
            "bin_end": 67.5,
            "bin_start": 57.8,
            "count": 171
           },
           {
            "bin_end": 77.19999999999999,
            "bin_start": 67.5,
            "count": 356
           },
           {
            "bin_end": 86.89999999999999,
            "bin_start": 77.19999999999999,
            "count": 359
           },
           {
            "bin_end": 96.6,
            "bin_start": 86.89999999999999,
            "count": 325
           },
           {
            "bin_end": 106.3,
            "bin_start": 96.6,
            "count": 103
           },
           {
            "bin_end": 116,
            "bin_start": 106.3,
            "count": 7
           }
          ],
          "max": "116",
          "min": "19",
          "nan_count": 0,
          "unique_count": 86
         }
        },
        {
         "dtype": "int64",
         "name": "losses",
         "stats": {
          "histogram": [
           {
            "bin_end": 27.2,
            "bin_start": 17,
            "count": 10
           },
           {
            "bin_end": 37.4,
            "bin_start": 27.2,
            "count": 18
           },
           {
            "bin_end": 47.599999999999994,
            "bin_start": 37.4,
            "count": 15
           },
           {
            "bin_end": 57.8,
            "bin_start": 47.599999999999994,
            "count": 30
           },
           {
            "bin_end": 68,
            "bin_start": 57.8,
            "count": 187
           },
           {
            "bin_end": 78.19999999999999,
            "bin_start": 68,
            "count": 419
           },
           {
            "bin_end": 88.39999999999999,
            "bin_start": 78.19999999999999,
            "count": 391
           },
           {
            "bin_end": 98.6,
            "bin_start": 88.39999999999999,
            "count": 271
           },
           {
            "bin_end": 108.8,
            "bin_start": 98.6,
            "count": 66
           },
           {
            "bin_end": 119,
            "bin_start": 108.8,
            "count": 7
           }
          ],
          "max": "119",
          "min": "17",
          "nan_count": 0,
          "unique_count": 89
         }
        },
        {
         "dtype": "object",
         "name": "division_winner",
         "stats": {
          "categories": [
           {
            "count": 1130,
            "name": "N"
           },
           {
            "count": 256,
            "name": "Y"
           },
           {
            "count": 28,
            "name": "Missing"
           }
          ],
          "nan_count": 28,
          "unique_count": 2
         }
        },
        {
         "dtype": "object",
         "name": "wild_card_winner",
         "stats": {
          "categories": [
           {
            "count": 698,
            "name": "N"
           },
           {
            "count": 76,
            "name": "Y"
           },
           {
            "count": 640,
            "name": "Missing"
           }
          ],
          "nan_count": 640,
          "unique_count": 2
         }
        },
        {
         "dtype": "object",
         "name": "league_winner",
         "stats": {
          "categories": [
           {
            "count": 1286,
            "name": "N"
           },
           {
            "count": 100,
            "name": "Y"
           },
           {
            "count": 28,
            "name": "Missing"
           }
          ],
          "nan_count": 28,
          "unique_count": 2
         }
        },
        {
         "dtype": "object",
         "name": "world_series_winner",
         "stats": {
          "categories": [
           {
            "count": 1336,
            "name": "N"
           },
           {
            "count": 50,
            "name": "Y"
           },
           {
            "count": 28,
            "name": "Missing"
           }
          ],
          "nan_count": 28,
          "unique_count": 2
         }
        },
        {
         "dtype": "float64",
         "name": "runs_scored",
         "stats": {
          "histogram": [
           {
            "bin_end": 0.1,
            "bin_start": 0,
            "count": 22
           },
           {
            "bin_end": 0.2,
            "bin_start": 0.1,
            "count": 11
           },
           {
            "bin_end": 0.30000000000000004,
            "bin_start": 0.2,
            "count": 16
           },
           {
            "bin_end": 0.4,
            "bin_start": 0.30000000000000004,
            "count": 31
           },
           {
            "bin_end": 0.5,
            "bin_start": 0.4,
            "count": 133
           },
           {
            "bin_end": 0.6000000000000001,
            "bin_start": 0.5,
            "count": 396
           },
           {
            "bin_end": 0.7000000000000001,
            "bin_start": 0.6000000000000001,
            "count": 454
           },
           {
            "bin_end": 0.8,
            "bin_start": 0.7000000000000001,
            "count": 238
           },
           {
            "bin_end": 0.9,
            "bin_start": 0.8,
            "count": 94
           },
           {
            "bin_end": 1,
            "bin_start": 0.9,
            "count": 19
           }
          ],
          "max": "1.0",
          "min": "0.0",
          "nan_count": 0,
          "unique_count": 423
         }
        },
        {
         "dtype": "float64",
         "name": "at_bats",
         "stats": {
          "histogram": [
           {
            "bin_end": 0.10000000000000002,
            "bin_start": 0,
            "count": 30
           },
           {
            "bin_end": 0.20000000000000004,
            "bin_start": 0.10000000000000002,
            "count": 0
           },
           {
            "bin_end": 0.30000000000000004,
            "bin_start": 0.20000000000000004,
            "count": 0
           },
           {
            "bin_end": 0.4000000000000001,
            "bin_start": 0.30000000000000004,
            "count": 0
           },
           {
            "bin_end": 0.5000000000000001,
            "bin_start": 0.4000000000000001,
            "count": 24
           },
           {
            "bin_end": 0.6000000000000001,
            "bin_start": 0.5000000000000001,
            "count": 30
           },
           {
            "bin_end": 0.7000000000000002,
            "bin_start": 0.6000000000000001,
            "count": 0
           },
           {
            "bin_end": 0.8000000000000002,
            "bin_start": 0.7000000000000002,
            "count": 18
           },
           {
            "bin_end": 0.9000000000000001,
            "bin_start": 0.8000000000000002,
            "count": 80
           },
           {
            "bin_end": 1.0000000000000002,
            "bin_start": 0.9000000000000001,
            "count": 1232
           }
          ],
          "max": "1.0000000000000002",
          "min": "0.0",
          "nan_count": 0,
          "unique_count": 482
         }
        },
        {
         "dtype": "float64",
         "name": "hits",
         "stats": {
          "histogram": [
           {
            "bin_end": 0.1,
            "bin_start": 0,
            "count": 22
           },
           {
            "bin_end": 0.2,
            "bin_start": 0.1,
            "count": 8
           },
           {
            "bin_end": 0.30000000000000004,
            "bin_start": 0.2,
            "count": 0
           },
           {
            "bin_end": 0.4,
            "bin_start": 0.30000000000000004,
            "count": 8
           },
           {
            "bin_end": 0.5,
            "bin_start": 0.4,
            "count": 25
           },
           {
            "bin_end": 0.6000000000000001,
            "bin_start": 0.5,
            "count": 24
           },
           {
            "bin_end": 0.7000000000000001,
            "bin_start": 0.6000000000000001,
            "count": 60
           },
           {
            "bin_end": 0.8,
            "bin_start": 0.7000000000000001,
            "count": 586
           },
           {
            "bin_end": 0.9,
            "bin_start": 0.8,
            "count": 570
           },
           {
            "bin_end": 1,
            "bin_start": 0.9,
            "count": 111
           }
          ],
          "max": "1.0",
          "min": "0.0",
          "nan_count": 0,
          "unique_count": 439
         }
        },
        {
         "dtype": "float64",
         "name": "doubles",
         "stats": {
          "histogram": [
           {
            "bin_end": 0.09999999999999999,
            "bin_start": 0,
            "count": 23
           },
           {
            "bin_end": 0.19999999999999998,
            "bin_start": 0.09999999999999999,
            "count": 9
           },
           {
            "bin_end": 0.3,
            "bin_start": 0.19999999999999998,
            "count": 19
           },
           {
            "bin_end": 0.39999999999999997,
            "bin_start": 0.3,
            "count": 51
           },
           {
            "bin_end": 0.49999999999999994,
            "bin_start": 0.39999999999999997,
            "count": 188
           },
           {
            "bin_end": 0.6,
            "bin_start": 0.49999999999999994,
            "count": 281
           },
           {
            "bin_end": 0.7,
            "bin_start": 0.6,
            "count": 441
           },
           {
            "bin_end": 0.7999999999999999,
            "bin_start": 0.7,
            "count": 288
           },
           {
            "bin_end": 0.8999999999999999,
            "bin_start": 0.7999999999999999,
            "count": 96
           },
           {
            "bin_end": 0.9999999999999999,
            "bin_start": 0.8999999999999999,
            "count": 18
           }
          ],
          "max": "0.9999999999999999",
          "min": "0.0",
          "nan_count": 0,
          "unique_count": 229
         }
        },
        {
         "dtype": "float64",
         "name": "triples",
         "stats": {
          "histogram": [
           {
            "bin_end": 0.1,
            "bin_start": 0,
            "count": 24
           },
           {
            "bin_end": 0.2,
            "bin_start": 0.1,
            "count": 88
           },
           {
            "bin_end": 0.30000000000000004,
            "bin_start": 0.2,
            "count": 281
           },
           {
            "bin_end": 0.4,
            "bin_start": 0.30000000000000004,
            "count": 443
           },
           {
            "bin_end": 0.5,
            "bin_start": 0.4,
            "count": 309
           },
           {
            "bin_end": 0.6000000000000001,
            "bin_start": 0.5,
            "count": 170
           },
           {
            "bin_end": 0.7000000000000001,
            "bin_start": 0.6000000000000001,
            "count": 68
           },
           {
            "bin_end": 0.8,
            "bin_start": 0.7000000000000001,
            "count": 24
           },
           {
            "bin_end": 0.9,
            "bin_start": 0.8,
            "count": 5
           },
           {
            "bin_end": 1,
            "bin_start": 0.9,
            "count": 2
           }
          ],
          "max": "1.0",
          "min": "0.0",
          "nan_count": 0,
          "unique_count": 64
         }
        },
        {
         "dtype": "float64",
         "name": "homeruns",
         "stats": {
          "histogram": [
           {
            "bin_end": 0.1,
            "bin_start": 0,
            "count": 17
           },
           {
            "bin_end": 0.2,
            "bin_start": 0.1,
            "count": 87
           },
           {
            "bin_end": 0.30000000000000004,
            "bin_start": 0.2,
            "count": 217
           },
           {
            "bin_end": 0.4,
            "bin_start": 0.30000000000000004,
            "count": 326
           },
           {
            "bin_end": 0.5,
            "bin_start": 0.4,
            "count": 338
           },
           {
            "bin_end": 0.6000000000000001,
            "bin_start": 0.5,
            "count": 217
           },
           {
            "bin_end": 0.7000000000000001,
            "bin_start": 0.6000000000000001,
            "count": 150
           },
           {
            "bin_end": 0.8,
            "bin_start": 0.7000000000000001,
            "count": 50
           },
           {
            "bin_end": 0.9,
            "bin_start": 0.8,
            "count": 9
           },
           {
            "bin_end": 1,
            "bin_start": 0.9,
            "count": 3
           }
          ],
          "max": "1.0",
          "min": "0.0",
          "nan_count": 0,
          "unique_count": 210
         }
        },
        {
         "dtype": "float64",
         "name": "walks",
         "stats": {
          "histogram": [
           {
            "bin_end": 0.1,
            "bin_start": 0,
            "count": 19
           },
           {
            "bin_end": 0.2,
            "bin_start": 0.1,
            "count": 11
           },
           {
            "bin_end": 0.30000000000000004,
            "bin_start": 0.2,
            "count": 13
           },
           {
            "bin_end": 0.4,
            "bin_start": 0.30000000000000004,
            "count": 55
           },
           {
            "bin_end": 0.5,
            "bin_start": 0.4,
            "count": 201
           },
           {
            "bin_end": 0.6000000000000001,
            "bin_start": 0.5,
            "count": 438
           },
           {
            "bin_end": 0.7000000000000001,
            "bin_start": 0.6000000000000001,
            "count": 399
           },
           {
            "bin_end": 0.8,
            "bin_start": 0.7000000000000001,
            "count": 212
           },
           {
            "bin_end": 0.9,
            "bin_start": 0.8,
            "count": 56
           },
           {
            "bin_end": 1,
            "bin_start": 0.9,
            "count": 10
           }
          ],
          "max": "1.0",
          "min": "0.0",
          "nan_count": 0,
          "unique_count": 358
         }
        },
        {
         "dtype": "float64",
         "name": "strikeouts_by_batters",
         "stats": {
          "histogram": [
           {
            "bin_end": 0.1,
            "bin_start": 0,
            "count": 24
           },
           {
            "bin_end": 0.2,
            "bin_start": 0.1,
            "count": 36
           },
           {
            "bin_end": 0.30000000000000004,
            "bin_start": 0.2,
            "count": 89
           },
           {
            "bin_end": 0.4,
            "bin_start": 0.30000000000000004,
            "count": 248
           },
           {
            "bin_end": 0.5,
            "bin_start": 0.4,
            "count": 336
           },
           {
            "bin_end": 0.6000000000000001,
            "bin_start": 0.5,
            "count": 291
           },
           {
            "bin_end": 0.7000000000000001,
            "bin_start": 0.6000000000000001,
            "count": 191
           },
           {
            "bin_end": 0.8,
            "bin_start": 0.7000000000000001,
            "count": 117
           },
           {
            "bin_end": 0.9,
            "bin_start": 0.8,
            "count": 57
           },
           {
            "bin_end": 1,
            "bin_start": 0.9,
            "count": 25
           }
          ],
          "max": "1.0",
          "min": "0.0",
          "nan_count": 0,
          "unique_count": 681
         }
        },
        {
         "dtype": "float64",
         "name": "stolen_bases",
         "stats": {
          "histogram": [
           {
            "bin_end": 0.1,
            "bin_start": 0,
            "count": 81
           },
           {
            "bin_end": 0.2,
            "bin_start": 0.1,
            "count": 379
           },
           {
            "bin_end": 0.30000000000000004,
            "bin_start": 0.2,
            "count": 457
           },
           {
            "bin_end": 0.4,
            "bin_start": 0.30000000000000004,
            "count": 314
           },
           {
            "bin_end": 0.5,
            "bin_start": 0.4,
            "count": 127
           },
           {
            "bin_end": 0.6000000000000001,
            "bin_start": 0.5,
            "count": 36
           },
           {
            "bin_end": 0.7000000000000001,
            "bin_start": 0.6000000000000001,
            "count": 14
           },
           {
            "bin_end": 0.8,
            "bin_start": 0.7000000000000001,
            "count": 4
           },
           {
            "bin_end": 0.9,
            "bin_start": 0.8,
            "count": 0
           },
           {
            "bin_end": 1,
            "bin_start": 0.9,
            "count": 2
           }
          ],
          "max": "1.0",
          "min": "0.0",
          "nan_count": 0,
          "unique_count": 204
         }
        },
        {
         "dtype": "float64",
         "name": "caught_stealing",
         "stats": {
          "histogram": [
           {
            "bin_end": 0.09999999999999999,
            "bin_start": 0,
            "count": 35
           },
           {
            "bin_end": 0.19999999999999998,
            "bin_start": 0.09999999999999999,
            "count": 118
           },
           {
            "bin_end": 0.3,
            "bin_start": 0.19999999999999998,
            "count": 351
           },
           {
            "bin_end": 0.39999999999999997,
            "bin_start": 0.3,
            "count": 395
           },
           {
            "bin_end": 0.49999999999999994,
            "bin_start": 0.39999999999999997,
            "count": 289
           },
           {
            "bin_end": 0.6,
            "bin_start": 0.49999999999999994,
            "count": 135
           },
           {
            "bin_end": 0.7,
            "bin_start": 0.6,
            "count": 51
           },
           {
            "bin_end": 0.7999999999999999,
            "bin_start": 0.7,
            "count": 25
           },
           {
            "bin_end": 0.8999999999999999,
            "bin_start": 0.7999999999999999,
            "count": 9
           },
           {
            "bin_end": 0.9999999999999999,
            "bin_start": 0.8999999999999999,
            "count": 6
           }
          ],
          "max": "0.9999999999999999",
          "min": "0.0",
          "nan_count": 0,
          "unique_count": 106
         }
        },
        {
         "dtype": "float64",
         "name": "batters_hit_by_pitch",
         "stats": {
          "histogram": [
           {
            "bin_end": 0.09999999999999999,
            "bin_start": 0,
            "count": 29
           },
           {
            "bin_end": 0.19999999999999998,
            "bin_start": 0.09999999999999999,
            "count": 203
           },
           {
            "bin_end": 0.3,
            "bin_start": 0.19999999999999998,
            "count": 308
           },
           {
            "bin_end": 0.39999999999999997,
            "bin_start": 0.3,
            "count": 273
           },
           {
            "bin_end": 0.49999999999999994,
            "bin_start": 0.39999999999999997,
            "count": 220
           },
           {
            "bin_end": 0.6,
            "bin_start": 0.49999999999999994,
            "count": 194
           },
           {
            "bin_end": 0.7,
            "bin_start": 0.6,
            "count": 109
           },
           {
            "bin_end": 0.7999999999999999,
            "bin_start": 0.7,
            "count": 46
           },
           {
            "bin_end": 0.8999999999999999,
            "bin_start": 0.7999999999999999,
            "count": 25
           },
           {
            "bin_end": 0.9999999999999999,
            "bin_start": 0.8999999999999999,
            "count": 7
           }
          ],
          "max": "0.9999999999999999",
          "min": "0.0",
          "nan_count": 0,
          "unique_count": 90
         }
        },
        {
         "dtype": "float64",
         "name": "sacrifice_flies",
         "stats": {
          "histogram": [
           {
            "bin_end": 0.09999999999999999,
            "bin_start": 0,
            "count": 16
           },
           {
            "bin_end": 0.19999999999999998,
            "bin_start": 0.09999999999999999,
            "count": 15
           },
           {
            "bin_end": 0.3,
            "bin_start": 0.19999999999999998,
            "count": 30
           },
           {
            "bin_end": 0.39999999999999997,
            "bin_start": 0.3,
            "count": 134
           },
           {
            "bin_end": 0.49999999999999994,
            "bin_start": 0.39999999999999997,
            "count": 360
           },
           {
            "bin_end": 0.6,
            "bin_start": 0.49999999999999994,
            "count": 384
           },
           {
            "bin_end": 0.7,
            "bin_start": 0.6,
            "count": 300
           },
           {
            "bin_end": 0.7999999999999999,
            "bin_start": 0.7,
            "count": 126
           },
           {
            "bin_end": 0.8999999999999999,
            "bin_start": 0.7999999999999999,
            "count": 31
           },
           {
            "bin_end": 0.9999999999999999,
            "bin_start": 0.8999999999999999,
            "count": 18
           }
          ],
          "max": "0.9999999999999999",
          "min": "0.0",
          "nan_count": 0,
          "unique_count": 66
         }
        },
        {
         "dtype": "float64",
         "name": "opponents_runs_scored",
         "stats": {
          "histogram": [
           {
            "bin_end": 0.1,
            "bin_start": 0,
            "count": 19
           },
           {
            "bin_end": 0.2,
            "bin_start": 0.1,
            "count": 14
           },
           {
            "bin_end": 0.30000000000000004,
            "bin_start": 0.2,
            "count": 23
           },
           {
            "bin_end": 0.4,
            "bin_start": 0.30000000000000004,
            "count": 58
           },
           {
            "bin_end": 0.5,
            "bin_start": 0.4,
            "count": 292
           },
           {
            "bin_end": 0.6000000000000001,
            "bin_start": 0.5,
            "count": 518
           },
           {
            "bin_end": 0.7000000000000001,
            "bin_start": 0.6000000000000001,
            "count": 340
           },
           {
            "bin_end": 0.8,
            "bin_start": 0.7000000000000001,
            "count": 129
           },
           {
            "bin_end": 0.9,
            "bin_start": 0.8,
            "count": 19
           },
           {
            "bin_end": 1,
            "bin_start": 0.9,
            "count": 2
           }
          ],
          "max": "1.0",
          "min": "0.0",
          "nan_count": 0,
          "unique_count": 450
         }
        },
        {
         "dtype": "float64",
         "name": "earned_runs_allowed",
         "stats": {
          "histogram": [
           {
            "bin_end": 0.1,
            "bin_start": 0,
            "count": 16
           },
           {
            "bin_end": 0.2,
            "bin_start": 0.1,
            "count": 17
           },
           {
            "bin_end": 0.30000000000000004,
            "bin_start": 0.2,
            "count": 24
           },
           {
            "bin_end": 0.4,
            "bin_start": 0.30000000000000004,
            "count": 78
           },
           {
            "bin_end": 0.5,
            "bin_start": 0.4,
            "count": 310
           },
           {
            "bin_end": 0.6000000000000001,
            "bin_start": 0.5,
            "count": 492
           },
           {
            "bin_end": 0.7000000000000001,
            "bin_start": 0.6000000000000001,
            "count": 323
           },
           {
            "bin_end": 0.8,
            "bin_start": 0.7000000000000001,
            "count": 134
           },
           {
            "bin_end": 0.9,
            "bin_start": 0.8,
            "count": 18
           },
           {
            "bin_end": 1,
            "bin_start": 0.9,
            "count": 2
           }
          ],
          "max": "1.0",
          "min": "0.0",
          "nan_count": 0,
          "unique_count": 423
         }
        },
        {
         "dtype": "float64",
         "name": "earned_run_average",
         "stats": {
          "histogram": [
           {
            "bin_end": 0.1,
            "bin_start": 0,
            "count": 8
           },
           {
            "bin_end": 0.2,
            "bin_start": 0.1,
            "count": 99
           },
           {
            "bin_end": 0.30000000000000004,
            "bin_start": 0.2,
            "count": 247
           },
           {
            "bin_end": 0.4,
            "bin_start": 0.30000000000000004,
            "count": 375
           },
           {
            "bin_end": 0.5,
            "bin_start": 0.4,
            "count": 314
           },
           {
            "bin_end": 0.6000000000000001,
            "bin_start": 0.5,
            "count": 218
           },
           {
            "bin_end": 0.7000000000000001,
            "bin_start": 0.6000000000000001,
            "count": 110
           },
           {
            "bin_end": 0.8,
            "bin_start": 0.7000000000000001,
            "count": 35
           },
           {
            "bin_end": 0.9,
            "bin_start": 0.8,
            "count": 6
           },
           {
            "bin_end": 1,
            "bin_start": 0.9,
            "count": 2
           }
          ],
          "max": "1.0",
          "min": "0.0",
          "nan_count": 0,
          "unique_count": 263
         }
        },
        {
         "dtype": "float64",
         "name": "complete_games",
         "stats": {
          "histogram": [
           {
            "bin_end": 0.1,
            "bin_start": 0,
            "count": 719
           },
           {
            "bin_end": 0.2,
            "bin_start": 0.1,
            "count": 247
           },
           {
            "bin_end": 0.30000000000000004,
            "bin_start": 0.2,
            "count": 159
           },
           {
            "bin_end": 0.4,
            "bin_start": 0.30000000000000004,
            "count": 122
           },
           {
            "bin_end": 0.5,
            "bin_start": 0.4,
            "count": 85
           },
           {
            "bin_end": 0.6000000000000001,
            "bin_start": 0.5,
            "count": 48
           },
           {
            "bin_end": 0.7000000000000001,
            "bin_start": 0.6000000000000001,
            "count": 24
           },
           {
            "bin_end": 0.8,
            "bin_start": 0.7000000000000001,
            "count": 9
           },
           {
            "bin_end": 0.9,
            "bin_start": 0.8,
            "count": 0
           },
           {
            "bin_end": 1,
            "bin_start": 0.9,
            "count": 1
           }
          ],
          "max": "1.0",
          "min": "0.0",
          "nan_count": 0,
          "unique_count": 71
         }
        },
        {
         "dtype": "float64",
         "name": "shutouts",
         "stats": {
          "histogram": [
           {
            "bin_end": 0.1,
            "bin_start": 0,
            "count": 58
           },
           {
            "bin_end": 0.2,
            "bin_start": 0.1,
            "count": 110
           },
           {
            "bin_end": 0.30000000000000004,
            "bin_start": 0.2,
            "count": 315
           },
           {
            "bin_end": 0.4,
            "bin_start": 0.30000000000000004,
            "count": 268
           },
           {
            "bin_end": 0.5,
            "bin_start": 0.4,
            "count": 260
           },
           {
            "bin_end": 0.6000000000000001,
            "bin_start": 0.5,
            "count": 242
           },
           {
            "bin_end": 0.7000000000000001,
            "bin_start": 0.6000000000000001,
            "count": 78
           },
           {
            "bin_end": 0.8,
            "bin_start": 0.7000000000000001,
            "count": 59
           },
           {
            "bin_end": 0.9,
            "bin_start": 0.8,
            "count": 14
           },
           {
            "bin_end": 1,
            "bin_start": 0.9,
            "count": 10
           }
          ],
          "max": "1.0",
          "min": "0.0",
          "nan_count": 0,
          "unique_count": 25
         }
        },
        {
         "dtype": "float64",
         "name": "saves",
         "stats": {
          "histogram": [
           {
            "bin_end": 0.09999999999999999,
            "bin_start": 0,
            "count": 14
           },
           {
            "bin_end": 0.19999999999999998,
            "bin_start": 0.09999999999999999,
            "count": 40
           },
           {
            "bin_end": 0.3,
            "bin_start": 0.19999999999999998,
            "count": 85
           },
           {
            "bin_end": 0.39999999999999997,
            "bin_start": 0.3,
            "count": 172
           },
           {
            "bin_end": 0.49999999999999994,
            "bin_start": 0.39999999999999997,
            "count": 302
           },
           {
            "bin_end": 0.6,
            "bin_start": 0.49999999999999994,
            "count": 416
           },
           {
            "bin_end": 0.7,
            "bin_start": 0.6,
            "count": 257
           },
           {
            "bin_end": 0.7999999999999999,
            "bin_start": 0.7,
            "count": 96
           },
           {
            "bin_end": 0.8999999999999999,
            "bin_start": 0.7999999999999999,
            "count": 27
           },
           {
            "bin_end": 0.9999999999999999,
            "bin_start": 0.8999999999999999,
            "count": 5
           }
          ],
          "max": "0.9999999999999999",
          "min": "0.0",
          "nan_count": 0,
          "unique_count": 58
         }
        },
        {
         "dtype": "float64",
         "name": "outs_pitches",
         "stats": {
          "histogram": [
           {
            "bin_end": 0.1,
            "bin_start": 0,
            "count": 30
           },
           {
            "bin_end": 0.2,
            "bin_start": 0.1,
            "count": 0
           },
           {
            "bin_end": 0.30000000000000004,
            "bin_start": 0.2,
            "count": 0
           },
           {
            "bin_end": 0.4,
            "bin_start": 0.30000000000000004,
            "count": 0
           },
           {
            "bin_end": 0.5,
            "bin_start": 0.4,
            "count": 18
           },
           {
            "bin_end": 0.6000000000000001,
            "bin_start": 0.5,
            "count": 36
           },
           {
            "bin_end": 0.7000000000000001,
            "bin_start": 0.6000000000000001,
            "count": 0
           },
           {
            "bin_end": 0.8,
            "bin_start": 0.7000000000000001,
            "count": 19
           },
           {
            "bin_end": 0.9,
            "bin_start": 0.8,
            "count": 21
           },
           {
            "bin_end": 1,
            "bin_start": 0.9,
            "count": 1290
           }
          ],
          "max": "1.0",
          "min": "0.0",
          "nan_count": 0,
          "unique_count": 335
         }
        },
        {
         "dtype": "float64",
         "name": "hits_allowed",
         "stats": {
          "histogram": [
           {
            "bin_end": 0.09999999999999999,
            "bin_start": 0,
            "count": 25
           },
           {
            "bin_end": 0.19999999999999998,
            "bin_start": 0.09999999999999999,
            "count": 5
           },
           {
            "bin_end": 0.3,
            "bin_start": 0.19999999999999998,
            "count": 0
           },
           {
            "bin_end": 0.39999999999999997,
            "bin_start": 0.3,
            "count": 13
           },
           {
            "bin_end": 0.49999999999999994,
            "bin_start": 0.39999999999999997,
            "count": 29
           },
           {
            "bin_end": 0.6,
            "bin_start": 0.49999999999999994,
            "count": 20
           },
           {
            "bin_end": 0.7,
            "bin_start": 0.6,
            "count": 162
           },
           {
            "bin_end": 0.7999999999999999,
            "bin_start": 0.7,
            "count": 680
           },
           {
            "bin_end": 0.8999999999999999,
            "bin_start": 0.7999999999999999,
            "count": 435
           },
           {
            "bin_end": 0.9999999999999999,
            "bin_start": 0.8999999999999999,
            "count": 45
           }
          ],
          "max": "0.9999999999999999",
          "min": "0.0",
          "nan_count": 0,
          "unique_count": 465
         }
        },
        {
         "dtype": "float64",
         "name": "homeruns_allowed",
         "stats": {
          "histogram": [
           {
            "bin_end": 0.1,
            "bin_start": 0,
            "count": 12
           },
           {
            "bin_end": 0.2,
            "bin_start": 0.1,
            "count": 94
           },
           {
            "bin_end": 0.30000000000000004,
            "bin_start": 0.2,
            "count": 218
           },
           {
            "bin_end": 0.4,
            "bin_start": 0.30000000000000004,
            "count": 333
           },
           {
            "bin_end": 0.5,
            "bin_start": 0.4,
            "count": 374
           },
           {
            "bin_end": 0.6000000000000001,
            "bin_start": 0.5,
            "count": 253
           },
           {
            "bin_end": 0.7000000000000001,
            "bin_start": 0.6000000000000001,
            "count": 98
           },
           {
            "bin_end": 0.8,
            "bin_start": 0.7000000000000001,
            "count": 26
           },
           {
            "bin_end": 0.9,
            "bin_start": 0.8,
            "count": 5
           },
           {
            "bin_end": 1,
            "bin_start": 0.9,
            "count": 1
           }
          ],
          "max": "1.0",
          "min": "0.0",
          "nan_count": 0,
          "unique_count": 185
         }
        },
        {
         "dtype": "float64",
         "name": "walks_allowed",
         "stats": {
          "histogram": [
           {
            "bin_end": 0.1,
            "bin_start": 0,
            "count": 15
           },
           {
            "bin_end": 0.2,
            "bin_start": 0.1,
            "count": 16
           },
           {
            "bin_end": 0.30000000000000004,
            "bin_start": 0.2,
            "count": 13
           },
           {
            "bin_end": 0.4,
            "bin_start": 0.30000000000000004,
            "count": 51
           },
           {
            "bin_end": 0.5,
            "bin_start": 0.4,
            "count": 203
           },
           {
            "bin_end": 0.6000000000000001,
            "bin_start": 0.5,
            "count": 480
           },
           {
            "bin_end": 0.7000000000000001,
            "bin_start": 0.6000000000000001,
            "count": 414
           },
           {
            "bin_end": 0.8,
            "bin_start": 0.7000000000000001,
            "count": 171
           },
           {
            "bin_end": 0.9,
            "bin_start": 0.8,
            "count": 44
           },
           {
            "bin_end": 1,
            "bin_start": 0.9,
            "count": 7
           }
          ],
          "max": "1.0",
          "min": "0.0",
          "nan_count": 0,
          "unique_count": 352
         }
        },
        {
         "dtype": "float64",
         "name": "strikeouts_by_pitchers",
         "stats": {
          "histogram": [
           {
            "bin_end": 0.09999999999999999,
            "bin_start": 0,
            "count": 28
           },
           {
            "bin_end": 0.19999999999999998,
            "bin_start": 0.09999999999999999,
            "count": 44
           },
           {
            "bin_end": 0.3,
            "bin_start": 0.19999999999999998,
            "count": 145
           },
           {
            "bin_end": 0.39999999999999997,
            "bin_start": 0.3,
            "count": 281
           },
           {
            "bin_end": 0.49999999999999994,
            "bin_start": 0.39999999999999997,
            "count": 353
           },
           {
            "bin_end": 0.6,
            "bin_start": 0.49999999999999994,
            "count": 268
           },
           {
            "bin_end": 0.7,
            "bin_start": 0.6,
            "count": 176
           },
           {
            "bin_end": 0.7999999999999999,
            "bin_start": 0.7,
            "count": 81
           },
           {
            "bin_end": 0.8999999999999999,
            "bin_start": 0.7999999999999999,
            "count": 27
           },
           {
            "bin_end": 0.9999999999999999,
            "bin_start": 0.8999999999999999,
            "count": 11
           }
          ],
          "max": "0.9999999999999999",
          "min": "0.0",
          "nan_count": 0,
          "unique_count": 693
         }
        },
        {
         "dtype": "float64",
         "name": "errors",
         "stats": {
          "histogram": [
           {
            "bin_end": 0.1,
            "bin_start": 0,
            "count": 18
           },
           {
            "bin_end": 0.2,
            "bin_start": 0.1,
            "count": 13
           },
           {
            "bin_end": 0.30000000000000004,
            "bin_start": 0.2,
            "count": 35
           },
           {
            "bin_end": 0.4,
            "bin_start": 0.30000000000000004,
            "count": 209
           },
           {
            "bin_end": 0.5,
            "bin_start": 0.4,
            "count": 370
           },
           {
            "bin_end": 0.6000000000000001,
            "bin_start": 0.5,
            "count": 348
           },
           {
            "bin_end": 0.7000000000000001,
            "bin_start": 0.6000000000000001,
            "count": 260
           },
           {
            "bin_end": 0.8,
            "bin_start": 0.7000000000000001,
            "count": 114
           },
           {
            "bin_end": 0.9,
            "bin_start": 0.8,
            "count": 39
           },
           {
            "bin_end": 1,
            "bin_start": 0.9,
            "count": 8
           }
          ],
          "max": "1.0",
          "min": "0.0",
          "nan_count": 0,
          "unique_count": 146
         }
        },
        {
         "dtype": "float64",
         "name": "double_plays",
         "stats": {
          "histogram": [
           {
            "bin_end": 0.1,
            "bin_start": 0,
            "count": 21
           },
           {
            "bin_end": 0.2,
            "bin_start": 0.1,
            "count": 8
           },
           {
            "bin_end": 0.30000000000000004,
            "bin_start": 0.2,
            "count": 4
           },
           {
            "bin_end": 0.4,
            "bin_start": 0.30000000000000004,
            "count": 28
           },
           {
            "bin_end": 0.5,
            "bin_start": 0.4,
            "count": 79
           },
           {
            "bin_end": 0.6000000000000001,
            "bin_start": 0.5,
            "count": 281
           },
           {
            "bin_end": 0.7000000000000001,
            "bin_start": 0.6000000000000001,
            "count": 470
           },
           {
            "bin_end": 0.8,
            "bin_start": 0.7000000000000001,
            "count": 370
           },
           {
            "bin_end": 0.9,
            "bin_start": 0.8,
            "count": 120
           },
           {
            "bin_end": 1,
            "bin_start": 0.9,
            "count": 33
           }
          ],
          "max": "1.0",
          "min": "0.0",
          "nan_count": 0,
          "unique_count": 136
         }
        },
        {
         "dtype": "float64",
         "name": "fielding_percentage",
         "stats": {
          "histogram": [
           {
            "bin_end": 0.1,
            "bin_start": 0,
            "count": 4
           },
           {
            "bin_end": 0.2,
            "bin_start": 0.1,
            "count": 20
           },
           {
            "bin_end": 0.30000000000000004,
            "bin_start": 0.2,
            "count": 43
           },
           {
            "bin_end": 0.4,
            "bin_start": 0.30000000000000004,
            "count": 163
           },
           {
            "bin_end": 0.5,
            "bin_start": 0.4,
            "count": 238
           },
           {
            "bin_end": 0.6000000000000001,
            "bin_start": 0.5,
            "count": 278
           },
           {
            "bin_end": 0.7000000000000001,
            "bin_start": 0.6000000000000001,
            "count": 408
           },
           {
            "bin_end": 0.8,
            "bin_start": 0.7000000000000001,
            "count": 184
           },
           {
            "bin_end": 0.9,
            "bin_start": 0.8,
            "count": 63
           },
           {
            "bin_end": 1,
            "bin_start": 0.9,
            "count": 13
           }
          ],
          "max": "1.0",
          "min": "0.0",
          "nan_count": 0,
          "unique_count": 24
         }
        },
        {
         "dtype": "float64",
         "name": "win_percentage",
         "stats": {
          "histogram": [
           {
            "bin_end": 0.3105555555555556,
            "bin_start": 0.2654320987654321,
            "count": 3
           },
           {
            "bin_end": 0.355679012345679,
            "bin_start": 0.3105555555555556,
            "count": 27
           },
           {
            "bin_end": 0.4008024691358025,
            "bin_start": 0.355679012345679,
            "count": 83
           },
           {
            "bin_end": 0.44592592592592595,
            "bin_start": 0.4008024691358025,
            "count": 223
           },
           {
            "bin_end": 0.4910493827160494,
            "bin_start": 0.44592592592592595,
            "count": 312
           },
           {
            "bin_end": 0.5361728395061729,
            "bin_start": 0.4910493827160494,
            "count": 289
           },
           {
            "bin_end": 0.5812962962962963,
            "bin_start": 0.5361728395061729,
            "count": 287
           },
           {
            "bin_end": 0.6264197530864197,
            "bin_start": 0.5812962962962963,
            "count": 150
           },
           {
            "bin_end": 0.6715432098765433,
            "bin_start": 0.6264197530864197,
            "count": 36
           },
           {
            "bin_end": 0.7166666666666667,
            "bin_start": 0.6715432098765433,
            "count": 4
           }
          ],
          "max": "0.7166666666666667",
          "min": "0.2654320987654321",
          "nan_count": 0,
          "unique_count": 263
         }
        },
        {
         "dtype": "bool",
         "name": "is_win",
         "stats": {
          "categories": [
           {
            "count": 725,
            "name": "True"
           },
           {
            "count": 689,
            "name": "False"
           }
          ],
          "nan_count": 0,
          "unique_count": 2
         }
        },
        {
         "dtype": "int64",
         "name": "_deepnote_index_column"
        }
       ],
       "row_count": 1414,
       "rows": [
        {
         "_deepnote_index_column": 1370,
         "at_bats": 0.9416728716803178,
         "batters_hit_by_pitch": 0.32291666666666663,
         "caught_stealing": 0.2583333333333333,
         "complete_games": 0.4787234042553191,
         "division_winner": "N",
         "double_plays": 0.49132947976878616,
         "doubles": 0.46864686468646866,
         "earned_run_average": 0.46753246753246747,
         "earned_runs_allowed": 0.6079136690647482,
         "errors": 0.6759776536312849,
         "fielding_percentage": 0.39130434782608603,
         "games_played": 162,
         "hits": 0.8539412673879443,
         "hits_allowed": 0.7916053019145802,
         "homeruns": 0.46545454545454545,
         "homeruns_allowed": 0.5471698113207547,
         "is_win": "False",
         "league_winner": "N",
         "losses": 86,
         "opponents_runs_scored": 0.6297539149888143,
         "outs_pitches": 0.937051532941944,
         "runs_scored": 0.6544303797468354,
         "sacrifice_flies": 0.5,
         "saves": 0.29032258064516125,
         "shutouts": 0.375,
         "stolen_bases": 0.1345565749235474,
         "strikeouts_by_batters": 0.2935855263157895,
         "strikeouts_by_pitchers": 0.44033872209391833,
         "triples": 0.2763157894736842,
         "walks": 0.5971337579617835,
         "walks_allowed": 0.5211267605633803,
         "wild_card_winner": "nan",
         "win_percentage": 0.4691358024691358,
         "wins": 76,
         "world_series_winner": "N",
         "year": 1970
        },
        {
         "_deepnote_index_column": 1371,
         "at_bats": 0.9414246711342766,
         "batters_hit_by_pitch": 0.38541666666666663,
         "caught_stealing": 0.3,
         "complete_games": 0.6382978723404256,
         "division_winner": "Y",
         "double_plays": 0.6647398843930635,
         "doubles": 0.462046204620462,
         "earned_run_average": 0.1610389610389611,
         "earned_runs_allowed": 0.40287769784172656,
         "errors": 0.5418994413407822,
         "fielding_percentage": 0.5652173913043441,
         "games_played": 162,
         "hits": 0.7990726429675425,
         "hits_allowed": 0.6929307805596465,
         "homeruns": 0.5345454545454545,
         "homeruns_allowed": 0.3735849056603774,
         "is_win": "True",
         "league_winner": "Y",
         "losses": 54,
         "opponents_runs_scored": 0.4082774049217003,
         "outs_pitches": 0.9840182648401827,
         "runs_scored": 0.7253164556962026,
         "sacrifice_flies": 0.5571428571428572,
         "saves": 0.4032258064516129,
         "shutouts": 0.5,
         "stolen_bases": 0.2140672782874618,
         "strikeouts_by_batters": 0.47121710526315785,
         "strikeouts_by_pitchers": 0.4257120862201693,
         "triples": 0.28947368421052627,
         "walks": 0.9076433121019108,
         "walks_allowed": 0.5070422535211268,
         "wild_card_winner": "nan",
         "win_percentage": 0.6666666666666666,
         "wins": 108,
         "world_series_winner": "Y",
         "year": 1970
        },
        {
         "_deepnote_index_column": 1372,
         "at_bats": 0.9389426656738646,
         "batters_hit_by_pitch": 0.34375,
         "caught_stealing": 0.375,
         "complete_games": 0.40425531914893614,
         "division_winner": "N",
         "double_plays": 0.5664739884393064,
         "doubles": 0.5907590759075907,
         "earned_run_average": 0.34805194805194817,
         "earned_runs_allowed": 0.5287769784172661,
         "errors": 0.7597765363128492,
         "fielding_percentage": 0.2608695652173907,
         "games_played": 162,
         "hits": 0.8191653786707882,
         "hits_allowed": 0.747422680412371,
         "homeruns": 0.6218181818181818,
         "homeruns_allowed": 0.4377358490566038,
         "is_win": "True",
         "league_winner": "N",
         "losses": 75,
         "opponents_runs_scored": 0.5738255033557047,
         "outs_pitches": 0.9523809523809523,
         "runs_scored": 0.7177215189873418,
         "sacrifice_flies": 0.5714285714285714,
         "saves": 0.6129032258064516,
         "shutouts": 0.3333333333333333,
         "stolen_bases": 0.11009174311926605,
         "strikeouts_by_batters": 0.39144736842105265,
         "strikeouts_by_pitchers": 0.47344110854503463,
         "triples": 0.3289473684210526,
         "walks": 0.7117834394904459,
         "walks_allowed": 0.7026604068857589,
         "wild_card_winner": "nan",
         "win_percentage": 0.5370370370370371,
         "wins": 87,
         "world_series_winner": "N",
         "year": 1970
        },
        {
         "_deepnote_index_column": 1373,
         "at_bats": 0.938198064035741,
         "batters_hit_by_pitch": 0.22916666666666666,
         "caught_stealing": 0.2,
         "complete_games": 0.22340425531914893,
         "division_winner": "N",
         "double_plays": 0.7861271676300577,
         "doubles": 0.4092409240924092,
         "earned_run_average": 0.24675324675324672,
         "earned_runs_allowed": 0.4616306954436451,
         "errors": 0.5977653631284916,
         "fielding_percentage": 0.5217391304347814,
         "games_played": 162,
         "hits": 0.7735703245749614,
         "hits_allowed": 0.6656848306332842,
         "homeruns": 0.2981818181818182,
         "homeruns_allowed": 0.43018867924528303,
         "is_win": "True",
         "league_winner": "N",
         "losses": 76,
         "opponents_runs_scored": 0.470917225950783,
         "outs_pitches": 0.9680365296803652,
         "runs_scored": 0.5215189873417723,
         "sacrifice_flies": 0.4285714285714286,
         "saves": 0.6935483870967741,
         "shutouts": 0.41666666666666663,
         "stolen_bases": 0.16819571865443428,
         "strikeouts_by_batters": 0.446546052631579,
         "strikeouts_by_pitchers": 0.4110854503464203,
         "triples": 0.48684210526315785,
         "walks": 0.47770700636942676,
         "walks_allowed": 0.647887323943662,
         "wild_card_winner": "nan",
         "win_percentage": 0.5308641975308642,
         "wins": 86,
         "world_series_winner": "N",
         "year": 1970
        },
        {
         "_deepnote_index_column": 1374,
         "at_bats": 0.9337304542069995,
         "batters_hit_by_pitch": 0.36458333333333337,
         "caught_stealing": 0.25,
         "complete_games": 0.2127659574468085,
         "division_winner": "N",
         "double_plays": 0.8901734104046242,
         "doubles": 0.3927392739273927,
         "earned_run_average": 0.5220779220779221,
         "earned_runs_allowed": 0.6486810551558753,
         "errors": 0.8100558659217878,
         "fielding_percentage": 0.30434782608695343,
         "games_played": 162,
         "hits": 0.7758887171561051,
         "hits_allowed": 0.8674521354933725,
         "homeruns": 0.33090909090909093,
         "homeruns_allowed": 0.4679245283018868,
         "is_win": "False",
         "league_winner": "N",
         "losses": 106,
         "opponents_runs_scored": 0.685682326621924,
         "outs_pitches": 0.9367253750815394,
         "runs_scored": 0.5240506329113925,
         "sacrifice_flies": 0.5857142857142857,
         "saves": 0.3870967741935484,
         "shutouts": 0.25,
         "stolen_bases": 0.11926605504587155,
         "strikeouts_by_batters": 0.40542763157894735,
         "strikeouts_by_pitchers": 0.2879137798306389,
         "triples": 0.22368421052631576,
         "walks": 0.5254777070063694,
         "walks_allowed": 0.6431924882629108,
         "wild_card_winner": "nan",
         "win_percentage": 0.345679012345679,
         "wins": 56,
         "world_series_winner": "N",
         "year": 1970
        },
        {
         "_deepnote_index_column": 1375,
         "at_bats": 0.9280218416480517,
         "batters_hit_by_pitch": 0.13541666666666666,
         "caught_stealing": 0.10833333333333334,
         "complete_games": 0.6276595744680851,
         "division_winner": "N",
         "double_plays": 0.653179190751445,
         "doubles": 0.5115511551155115,
         "earned_run_average": 0.3194805194805195,
         "earned_runs_allowed": 0.5011990407673861,
         "errors": 0.6536312849162011,
         "fielding_percentage": 0.4347826086956488,
         "games_played": 162,
         "hits": 0.7990726429675425,
         "hits_allowed": 0.755522827687776,
         "homeruns": 0.5345454545454545,
         "homeruns_allowed": 0.3886792452830189,
         "is_win": "True",
         "league_winner": "N",
         "losses": 78,
         "opponents_runs_scored": 0.5257270693512305,
         "outs_pitches": 0.9412915851272015,
         "runs_scored": 0.7430379746835445,
         "sacrifice_flies": 0.41428571428571426,
         "saves": 0.30645161290322576,
         "shutouts": 0.375,
         "stolen_bases": 0.07645259938837921,
         "strikeouts_by_batters": 0.3824013157894737,
         "strikeouts_by_pitchers": 0.47113163972286376,
         "triples": 0.5394736842105263,
         "walks": 0.7324840764331211,
         "walks_allowed": 0.5164319248826292,
         "wild_card_winner": "nan",
         "win_percentage": 0.5185185185185185,
         "wins": 84,
         "world_series_winner": "N",
         "year": 1970
        },
        {
         "_deepnote_index_column": 1376,
         "at_bats": 0.9401836684040707,
         "batters_hit_by_pitch": 0.22916666666666666,
         "caught_stealing": 0.4083333333333333,
         "complete_games": 0.3404255319148936,
         "division_winner": "Y",
         "double_plays": 0.8092485549132948,
         "doubles": 0.594059405940594,
         "earned_run_average": 0.3012987012987013,
         "earned_runs_allowed": 0.4928057553956834,
         "errors": 0.7318435754189945,
         "fielding_percentage": 0.3478260869565233,
         "games_played": 162,
         "hits": 0.8562596599690881,
         "hits_allowed": 0.7319587628865979,
         "homeruns": 0.5781818181818182,
         "homeruns_allowed": 0.2943396226415095,
         "is_win": "True",
         "league_winner": "Y",
         "losses": 60,
         "opponents_runs_scored": 0.5279642058165548,
         "outs_pitches": 0.9507501630789301,
         "runs_scored": 0.7037974683544304,
         "sacrifice_flies": 0.5857142857142857,
         "saves": 0.8709677419354839,
         "shutouts": 0.625,
         "stolen_bases": 0.308868501529052,
         "strikeouts_by_batters": 0.49753289473684204,
         "strikeouts_by_pitchers": 0.35026943802925325,
         "triples": 0.5526315789473684,
         "walks": 0.6369426751592357,
         "walks_allowed": 0.699530516431925,
         "wild_card_winner": "nan",
         "win_percentage": 0.6296296296296297,
         "wins": 102,
         "world_series_winner": "N",
         "year": 1970
        },
        {
         "_deepnote_index_column": 1377,
         "at_bats": 0.9210722263588982,
         "batters_hit_by_pitch": 0.3125,
         "caught_stealing": 0.27499999999999997,
         "complete_games": 0.36170212765957444,
         "division_winner": "N",
         "double_plays": 0.7803468208092486,
         "doubles": 0.4092409240924092,
         "earned_run_average": 0.35844155844155856,
         "earned_runs_allowed": 0.5383693045563549,
         "errors": 0.6312849162011174,
         "fielding_percentage": 0.4782608695652186,
         "games_played": 162,
         "hits": 0.7480680061823803,
         "hits_allowed": 0.7047128129602356,
         "homeruns": 0.5490909090909091,
         "homeruns_allowed": 0.4641509433962264,
         "is_win": "False",
         "league_winner": "N",
         "losses": 86,
         "opponents_runs_scored": 0.5212527964205816,
         "outs_pitches": 0.957273320287019,
         "runs_scored": 0.5443037974683544,
         "sacrifice_flies": 0.5428571428571428,
         "saves": 0.4677419354838709,
         "shutouts": 0.3333333333333333,
         "stolen_bases": 0.03363914373088685,
         "strikeouts_by_batters": 0.4358552631578947,
         "strikeouts_by_pitchers": 0.5296381832178598,
         "triples": 0.2631578947368421,
         "walks": 0.5668789808917197,
         "walks_allowed": 0.8513302034428796,
         "wild_card_winner": "nan",
         "win_percentage": 0.4691358024691358,
         "wins": 76,
         "world_series_winner": "N",
         "year": 1970
        },
        {
         "_deepnote_index_column": 1378,
         "at_bats": 0.8997269793993548,
         "batters_hit_by_pitch": 0.28125,
         "caught_stealing": 0.225,
         "complete_games": 0.35106382978723405,
         "division_winner": "N",
         "double_plays": 0.630057803468208,
         "doubles": 0.44224422442244227,
         "earned_run_average": 0.4051948051948051,
         "earned_runs_allowed": 0.5719424460431655,
         "errors": 0.6312849162011174,
         "fielding_percentage": 0.4347826086956488,
         "games_played": 162,
         "hits": 0.6893353941267388,
         "hits_allowed": 0.7857142857142857,
         "homeruns": 0.42181818181818187,
         "homeruns_allowed": 0.42641509433962266,
         "is_win": "False",
         "league_winner": "N",
         "losses": 83,
         "opponents_runs_scored": 0.5838926174496645,
         "outs_pitches": 0.9533594259621656,
         "runs_scored": 0.5658227848101267,
         "sacrifice_flies": 0.6,
         "saves": 0.532258064516129,
         "shutouts": 0.375,
         "stolen_bases": 0.045871559633027525,
         "strikeouts_by_batters": 0.3667763157894737,
         "strikeouts_by_pitchers": 0.5057736720554272,
         "triples": 0.4605263157894737,
         "walks": 0.8105095541401274,
         "walks_allowed": 0.7480438184663536,
         "wild_card_winner": "nan",
         "win_percentage": 0.4876543209876543,
         "wins": 79,
         "world_series_winner": "N",
         "year": 1970
        },
        {
         "_deepnote_index_column": 1379,
         "at_bats": 0.9486224869694715,
         "batters_hit_by_pitch": 0.20833333333333334,
         "caught_stealing": 0.31666666666666665,
         "complete_games": 0.3829787234042553,
         "division_winner": "N",
         "double_plays": 0.6416184971098265,
         "doubles": 0.5841584158415841,
         "earned_run_average": 0.4415584415584417,
         "earned_runs_allowed": 0.6043165467625898,
         "errors": 0.670391061452514,
         "fielding_percentage": 0.4347826086956488,
         "games_played": 162,
         "hits": 0.8160741885625966,
         "hits_allowed": 0.8210603829160529,
         "homeruns": 0.3527272727272728,
         "homeruns_allowed": 0.3433962264150944,
         "is_win": "False",
         "league_winner": "N",
         "losses": 83,
         "opponents_runs_scored": 0.6196868008948546,
         "outs_pitches": 0.961839530332681,
         "runs_scored": 0.6645569620253164,
         "sacrifice_flies": 0.5142857142857142,
         "saves": 0.4677419354838709,
         "shutouts": 0.25,
         "stolen_bases": 0.30581039755351686,
         "strikeouts_by_batters": 0.4375,
         "strikeouts_by_pitchers": 0.426481909160893,
         "triples": 0.5789473684210525,
         "walks": 0.7181528662420382,
         "walks_allowed": 0.676056338028169,
         "wild_card_winner": "nan",
         "win_percentage": 0.4876543209876543,
         "wins": 79,
         "world_series_winner": "N",
         "year": 1970
        }
       ]
      },
      "text/html": [
       "<div>\n",
       "<style scoped>\n",
       "    .dataframe tbody tr th:only-of-type {\n",
       "        vertical-align: middle;\n",
       "    }\n",
       "\n",
       "    .dataframe tbody tr th {\n",
       "        vertical-align: top;\n",
       "    }\n",
       "\n",
       "    .dataframe thead th {\n",
       "        text-align: right;\n",
       "    }\n",
       "</style>\n",
       "<table border=\"1\" class=\"dataframe\">\n",
       "  <thead>\n",
       "    <tr style=\"text-align: right;\">\n",
       "      <th></th>\n",
       "      <th>year</th>\n",
       "      <th>games_played</th>\n",
       "      <th>wins</th>\n",
       "      <th>losses</th>\n",
       "      <th>division_winner</th>\n",
       "      <th>wild_card_winner</th>\n",
       "      <th>league_winner</th>\n",
       "      <th>world_series_winner</th>\n",
       "      <th>runs_scored</th>\n",
       "      <th>at_bats</th>\n",
       "      <th>...</th>\n",
       "      <th>outs_pitches</th>\n",
       "      <th>hits_allowed</th>\n",
       "      <th>homeruns_allowed</th>\n",
       "      <th>walks_allowed</th>\n",
       "      <th>strikeouts_by_pitchers</th>\n",
       "      <th>errors</th>\n",
       "      <th>double_plays</th>\n",
       "      <th>fielding_percentage</th>\n",
       "      <th>win_percentage</th>\n",
       "      <th>is_win</th>\n",
       "    </tr>\n",
       "  </thead>\n",
       "  <tbody>\n",
       "    <tr>\n",
       "      <th>1370</th>\n",
       "      <td>1970</td>\n",
       "      <td>162</td>\n",
       "      <td>76</td>\n",
       "      <td>86</td>\n",
       "      <td>N</td>\n",
       "      <td>NaN</td>\n",
       "      <td>N</td>\n",
       "      <td>N</td>\n",
       "      <td>0.654430</td>\n",
       "      <td>0.941673</td>\n",
       "      <td>...</td>\n",
       "      <td>0.937052</td>\n",
       "      <td>0.791605</td>\n",
       "      <td>0.547170</td>\n",
       "      <td>0.521127</td>\n",
       "      <td>0.440339</td>\n",
       "      <td>0.675978</td>\n",
       "      <td>0.491329</td>\n",
       "      <td>0.391304</td>\n",
       "      <td>0.469136</td>\n",
       "      <td>False</td>\n",
       "    </tr>\n",
       "    <tr>\n",
       "      <th>1371</th>\n",
       "      <td>1970</td>\n",
       "      <td>162</td>\n",
       "      <td>108</td>\n",
       "      <td>54</td>\n",
       "      <td>Y</td>\n",
       "      <td>NaN</td>\n",
       "      <td>Y</td>\n",
       "      <td>Y</td>\n",
       "      <td>0.725316</td>\n",
       "      <td>0.941425</td>\n",
       "      <td>...</td>\n",
       "      <td>0.984018</td>\n",
       "      <td>0.692931</td>\n",
       "      <td>0.373585</td>\n",
       "      <td>0.507042</td>\n",
       "      <td>0.425712</td>\n",
       "      <td>0.541899</td>\n",
       "      <td>0.664740</td>\n",
       "      <td>0.565217</td>\n",
       "      <td>0.666667</td>\n",
       "      <td>True</td>\n",
       "    </tr>\n",
       "    <tr>\n",
       "      <th>1372</th>\n",
       "      <td>1970</td>\n",
       "      <td>162</td>\n",
       "      <td>87</td>\n",
       "      <td>75</td>\n",
       "      <td>N</td>\n",
       "      <td>NaN</td>\n",
       "      <td>N</td>\n",
       "      <td>N</td>\n",
       "      <td>0.717722</td>\n",
       "      <td>0.938943</td>\n",
       "      <td>...</td>\n",
       "      <td>0.952381</td>\n",
       "      <td>0.747423</td>\n",
       "      <td>0.437736</td>\n",
       "      <td>0.702660</td>\n",
       "      <td>0.473441</td>\n",
       "      <td>0.759777</td>\n",
       "      <td>0.566474</td>\n",
       "      <td>0.260870</td>\n",
       "      <td>0.537037</td>\n",
       "      <td>True</td>\n",
       "    </tr>\n",
       "    <tr>\n",
       "      <th>1373</th>\n",
       "      <td>1970</td>\n",
       "      <td>162</td>\n",
       "      <td>86</td>\n",
       "      <td>76</td>\n",
       "      <td>N</td>\n",
       "      <td>NaN</td>\n",
       "      <td>N</td>\n",
       "      <td>N</td>\n",
       "      <td>0.521519</td>\n",
       "      <td>0.938198</td>\n",
       "      <td>...</td>\n",
       "      <td>0.968037</td>\n",
       "      <td>0.665685</td>\n",
       "      <td>0.430189</td>\n",
       "      <td>0.647887</td>\n",
       "      <td>0.411085</td>\n",
       "      <td>0.597765</td>\n",
       "      <td>0.786127</td>\n",
       "      <td>0.521739</td>\n",
       "      <td>0.530864</td>\n",
       "      <td>True</td>\n",
       "    </tr>\n",
       "    <tr>\n",
       "      <th>1374</th>\n",
       "      <td>1970</td>\n",
       "      <td>162</td>\n",
       "      <td>56</td>\n",
       "      <td>106</td>\n",
       "      <td>N</td>\n",
       "      <td>NaN</td>\n",
       "      <td>N</td>\n",
       "      <td>N</td>\n",
       "      <td>0.524051</td>\n",
       "      <td>0.933730</td>\n",
       "      <td>...</td>\n",
       "      <td>0.936725</td>\n",
       "      <td>0.867452</td>\n",
       "      <td>0.467925</td>\n",
       "      <td>0.643192</td>\n",
       "      <td>0.287914</td>\n",
       "      <td>0.810056</td>\n",
       "      <td>0.890173</td>\n",
       "      <td>0.304348</td>\n",
       "      <td>0.345679</td>\n",
       "      <td>False</td>\n",
       "    </tr>\n",
       "    <tr>\n",
       "      <th>...</th>\n",
       "      <td>...</td>\n",
       "      <td>...</td>\n",
       "      <td>...</td>\n",
       "      <td>...</td>\n",
       "      <td>...</td>\n",
       "      <td>...</td>\n",
       "      <td>...</td>\n",
       "      <td>...</td>\n",
       "      <td>...</td>\n",
       "      <td>...</td>\n",
       "      <td>...</td>\n",
       "      <td>...</td>\n",
       "      <td>...</td>\n",
       "      <td>...</td>\n",
       "      <td>...</td>\n",
       "      <td>...</td>\n",
       "      <td>...</td>\n",
       "      <td>...</td>\n",
       "      <td>...</td>\n",
       "      <td>...</td>\n",
       "      <td>...</td>\n",
       "    </tr>\n",
       "    <tr>\n",
       "      <th>2779</th>\n",
       "      <td>2020</td>\n",
       "      <td>58</td>\n",
       "      <td>30</td>\n",
       "      <td>28</td>\n",
       "      <td>N</td>\n",
       "      <td>Y</td>\n",
       "      <td>N</td>\n",
       "      <td>N</td>\n",
       "      <td>0.026582</td>\n",
       "      <td>0.000000</td>\n",
       "      <td>...</td>\n",
       "      <td>0.000000</td>\n",
       "      <td>0.000000</td>\n",
       "      <td>0.109434</td>\n",
       "      <td>0.092332</td>\n",
       "      <td>0.058507</td>\n",
       "      <td>0.072626</td>\n",
       "      <td>0.075145</td>\n",
       "      <td>0.652174</td>\n",
       "      <td>0.517241</td>\n",
       "      <td>True</td>\n",
       "    </tr>\n",
       "    <tr>\n",
       "      <th>2780</th>\n",
       "      <td>2020</td>\n",
       "      <td>60</td>\n",
       "      <td>40</td>\n",
       "      <td>20</td>\n",
       "      <td>Y</td>\n",
       "      <td>N</td>\n",
       "      <td>Y</td>\n",
       "      <td>N</td>\n",
       "      <td>0.088608</td>\n",
       "      <td>0.055349</td>\n",
       "      <td>...</td>\n",
       "      <td>0.053490</td>\n",
       "      <td>0.072901</td>\n",
       "      <td>0.113208</td>\n",
       "      <td>0.035994</td>\n",
       "      <td>0.126251</td>\n",
       "      <td>0.072626</td>\n",
       "      <td>0.109827</td>\n",
       "      <td>0.739130</td>\n",
       "      <td>0.666667</td>\n",
       "      <td>True</td>\n",
       "    </tr>\n",
       "    <tr>\n",
       "      <th>2781</th>\n",
       "      <td>2020</td>\n",
       "      <td>60</td>\n",
       "      <td>22</td>\n",
       "      <td>38</td>\n",
       "      <td>N</td>\n",
       "      <td>N</td>\n",
       "      <td>N</td>\n",
       "      <td>N</td>\n",
       "      <td>0.006329</td>\n",
       "      <td>0.045669</td>\n",
       "      <td>...</td>\n",
       "      <td>0.042727</td>\n",
       "      <td>0.075847</td>\n",
       "      <td>0.154717</td>\n",
       "      <td>0.142410</td>\n",
       "      <td>0.077752</td>\n",
       "      <td>0.111732</td>\n",
       "      <td>0.040462</td>\n",
       "      <td>0.565217</td>\n",
       "      <td>0.366667</td>\n",
       "      <td>False</td>\n",
       "    </tr>\n",
       "    <tr>\n",
       "      <th>2782</th>\n",
       "      <td>2020</td>\n",
       "      <td>60</td>\n",
       "      <td>32</td>\n",
       "      <td>28</td>\n",
       "      <td>N</td>\n",
       "      <td>Y</td>\n",
       "      <td>N</td>\n",
       "      <td>N</td>\n",
       "      <td>0.105063</td>\n",
       "      <td>0.067262</td>\n",
       "      <td>...</td>\n",
       "      <td>0.050554</td>\n",
       "      <td>0.103829</td>\n",
       "      <td>0.154717</td>\n",
       "      <td>0.164319</td>\n",
       "      <td>0.100847</td>\n",
       "      <td>0.100559</td>\n",
       "      <td>0.080925</td>\n",
       "      <td>0.608696</td>\n",
       "      <td>0.533333</td>\n",
       "      <td>True</td>\n",
       "    </tr>\n",
       "    <tr>\n",
       "      <th>2783</th>\n",
       "      <td>2020</td>\n",
       "      <td>60</td>\n",
       "      <td>26</td>\n",
       "      <td>34</td>\n",
       "      <td>N</td>\n",
       "      <td>N</td>\n",
       "      <td>N</td>\n",
       "      <td>N</td>\n",
       "      <td>0.093671</td>\n",
       "      <td>0.053611</td>\n",
       "      <td>...</td>\n",
       "      <td>0.030007</td>\n",
       "      <td>0.126657</td>\n",
       "      <td>0.203774</td>\n",
       "      <td>0.111111</td>\n",
       "      <td>0.092379</td>\n",
       "      <td>0.106145</td>\n",
       "      <td>0.086705</td>\n",
       "      <td>0.565217</td>\n",
       "      <td>0.433333</td>\n",
       "      <td>False</td>\n",
       "    </tr>\n",
       "  </tbody>\n",
       "</table>\n",
       "<p>1414 rows × 36 columns</p>\n",
       "</div>"
      ],
      "text/plain": [
       "      year  games_played  wins  losses division_winner wild_card_winner  \\\n",
       "1370  1970           162    76      86               N              NaN   \n",
       "1371  1970           162   108      54               Y              NaN   \n",
       "1372  1970           162    87      75               N              NaN   \n",
       "1373  1970           162    86      76               N              NaN   \n",
       "1374  1970           162    56     106               N              NaN   \n",
       "...    ...           ...   ...     ...             ...              ...   \n",
       "2779  2020            58    30      28               N                Y   \n",
       "2780  2020            60    40      20               Y                N   \n",
       "2781  2020            60    22      38               N                N   \n",
       "2782  2020            60    32      28               N                Y   \n",
       "2783  2020            60    26      34               N                N   \n",
       "\n",
       "     league_winner world_series_winner  runs_scored   at_bats  ...  \\\n",
       "1370             N                   N     0.654430  0.941673  ...   \n",
       "1371             Y                   Y     0.725316  0.941425  ...   \n",
       "1372             N                   N     0.717722  0.938943  ...   \n",
       "1373             N                   N     0.521519  0.938198  ...   \n",
       "1374             N                   N     0.524051  0.933730  ...   \n",
       "...            ...                 ...          ...       ...  ...   \n",
       "2779             N                   N     0.026582  0.000000  ...   \n",
       "2780             Y                   N     0.088608  0.055349  ...   \n",
       "2781             N                   N     0.006329  0.045669  ...   \n",
       "2782             N                   N     0.105063  0.067262  ...   \n",
       "2783             N                   N     0.093671  0.053611  ...   \n",
       "\n",
       "      outs_pitches  hits_allowed  homeruns_allowed  walks_allowed  \\\n",
       "1370      0.937052      0.791605          0.547170       0.521127   \n",
       "1371      0.984018      0.692931          0.373585       0.507042   \n",
       "1372      0.952381      0.747423          0.437736       0.702660   \n",
       "1373      0.968037      0.665685          0.430189       0.647887   \n",
       "1374      0.936725      0.867452          0.467925       0.643192   \n",
       "...            ...           ...               ...            ...   \n",
       "2779      0.000000      0.000000          0.109434       0.092332   \n",
       "2780      0.053490      0.072901          0.113208       0.035994   \n",
       "2781      0.042727      0.075847          0.154717       0.142410   \n",
       "2782      0.050554      0.103829          0.154717       0.164319   \n",
       "2783      0.030007      0.126657          0.203774       0.111111   \n",
       "\n",
       "      strikeouts_by_pitchers    errors  double_plays  fielding_percentage  \\\n",
       "1370                0.440339  0.675978      0.491329             0.391304   \n",
       "1371                0.425712  0.541899      0.664740             0.565217   \n",
       "1372                0.473441  0.759777      0.566474             0.260870   \n",
       "1373                0.411085  0.597765      0.786127             0.521739   \n",
       "1374                0.287914  0.810056      0.890173             0.304348   \n",
       "...                      ...       ...           ...                  ...   \n",
       "2779                0.058507  0.072626      0.075145             0.652174   \n",
       "2780                0.126251  0.072626      0.109827             0.739130   \n",
       "2781                0.077752  0.111732      0.040462             0.565217   \n",
       "2782                0.100847  0.100559      0.080925             0.608696   \n",
       "2783                0.092379  0.106145      0.086705             0.565217   \n",
       "\n",
       "      win_percentage  is_win  \n",
       "1370        0.469136   False  \n",
       "1371        0.666667    True  \n",
       "1372        0.537037    True  \n",
       "1373        0.530864    True  \n",
       "1374        0.345679   False  \n",
       "...              ...     ...  \n",
       "2779        0.517241    True  \n",
       "2780        0.666667    True  \n",
       "2781        0.366667   False  \n",
       "2782        0.533333    True  \n",
       "2783        0.433333   False  \n",
       "\n",
       "[1414 rows x 36 columns]"
      ]
     },
     "execution_count": 10,
     "metadata": {},
     "output_type": "execute_result"
    }
   ],
   "source": [
    "df_rate['is_win'] = (df_rate['win_percentage'] >= 0.5)\n",
    "df_rate"
   ]
  },
  {
   "cell_type": "markdown",
   "metadata": {
    "cell_id": "18a075a9671b420898fb7c4707a92198",
    "deepnote_cell_type": "markdown"
   },
   "source": [
    "Because the target variable `is_win` is categorical, the model will use each row's stats to determine its class in `is_win`, which is a classification problem. Therefore, I will use a random forest to model the relationship between stats and `is_win`. One of the main advantages of a random forest is its robustness, which counters overfitting. I also separated the data into training and testing data, which allow us to see if the random forest has overfit our data by testing the model on the testing data."
   ]
  },
  {
   "cell_type": "code",
   "execution_count": null,
   "metadata": {
    "cell_id": "dc61febce2bf4a63bb73bfc9b8e541e9",
    "deepnote_cell_type": "code",
    "deepnote_to_be_reexecuted": false,
    "execution_millis": 676,
    "execution_start": 1702545621034,
    "source_hash": null
   },
   "outputs": [],
   "source": [
    "X_train, X_test, y_train, y_test = train_test_split(df_rate[cols], df_rate['is_win'], test_size=0.2)\n",
    "\n",
    "rfc = RandomForestClassifier(n_estimators=100, max_leaf_nodes=len(cols))\n",
    "rfc.fit(X_train, y_train)\n",
    "rfc_train_pred = rfc.predict(X_train)\n",
    "rfc_test_pred = rfc.predict(X_test)"
   ]
  },
  {
   "cell_type": "markdown",
   "metadata": {
    "cell_id": "93d7c24197554299908e212688eeebf3",
    "deepnote_cell_type": "markdown"
   },
   "source": [
    "I will determine the accuracy of the random forest model on both the training and testing data."
   ]
  },
  {
   "cell_type": "code",
   "execution_count": null,
   "metadata": {
    "cell_id": "6df41d4369324841b243752816e1ada5",
    "deepnote_cell_type": "code",
    "deepnote_to_be_reexecuted": false,
    "execution_millis": 17,
    "execution_start": 1702545622688,
    "source_hash": null
   },
   "outputs": [
    {
     "data": {
      "text/plain": [
       "0.9540229885057471"
      ]
     },
     "execution_count": 30,
     "metadata": {},
     "output_type": "execute_result"
    }
   ],
   "source": [
    "accuracy_score(y_train, rfc_train_pred)"
   ]
  },
  {
   "cell_type": "code",
   "execution_count": null,
   "metadata": {
    "cell_id": "ce5ec0c035e34429896f2f8953ebe58c",
    "deepnote_cell_type": "code",
    "deepnote_to_be_reexecuted": false,
    "execution_millis": 12,
    "execution_start": 1702545624536,
    "source_hash": null
   },
   "outputs": [
    {
     "data": {
      "text/plain": [
       "0.9293286219081273"
      ]
     },
     "execution_count": 31,
     "metadata": {},
     "output_type": "execute_result"
    }
   ],
   "source": [
    "accuracy_score(y_test, rfc_test_pred)"
   ]
  },
  {
   "cell_type": "markdown",
   "metadata": {
    "cell_id": "d1d28f4ef31d4952a80d75ba4d0570f2",
    "deepnote_cell_type": "markdown"
   },
   "source": [
    "The accuracy scores of the random forest classifier on the training data and testing data are both over $0.90$, which does not suggest that the random forest has overfit the data. Next, I will visualize this with a confusion matrix, the code for which I obtained from: https://medium.com/analytics-vidhya/evaluating-a-random-forest-model-9d165595ad56"
   ]
  },
  {
   "cell_type": "code",
   "execution_count": null,
   "metadata": {
    "cell_id": "17e0b6e5ea0a472fb77a3402c5866d8a",
    "deepnote_cell_type": "code",
    "deepnote_to_be_reexecuted": false,
    "execution_millis": 331,
    "execution_start": 1702545639486,
    "source_hash": null
   },
   "outputs": [
    {
     "data": {
      "image/png": "[encoded data removed]",
      "text/plain": [
       "<Figure size 600x400 with 1 Axes>"
      ]
     },
     "metadata": {
      "image/png": {
       "height": 393,
       "width": 611
      }
     },
     "output_type": "display_data"
    }
   ],
   "source": [
    "matrix = confusion_matrix(y_test, rfc_test_pred)\n",
    "plt.figure(figsize=(6, 4))\n",
    "sns.heatmap(matrix, annot=True, cmap='Blues', fmt='d', cbar=False)\n",
    "\n",
    "class_names = ['Losing Team', 'Winning Team']\n",
    "tick_marks = np.arange(len(class_names)) + 0.5\n",
    "plt.xticks(tick_marks, class_names, rotation=0)\n",
    "plt.yticks(tick_marks, class_names, rotation=0)\n",
    "plt.xlabel('Predicted Label')\n",
    "plt.ylabel('True Label')\n",
    "plt.title('Confusion Matrix for Random Forest Classifier')\n",
    "plt.show()"
   ]
  },
  {
   "cell_type": "markdown",
   "metadata": {
    "cell_id": "b7436cbaf2bf457e99ed9982b56edc16",
    "deepnote_cell_type": "markdown"
   },
   "source": [
    "A classification report will sum up the confusion matrix with three metrics: precision, recall, and f1 score.\n",
    "According to https://medium.com/analytics-vidhya/evaluating-a-random-forest-model-9d165595ad56:\n",
    "1) Precision is the number of correctly-identified members of a class divided by all the times the model predicted that class. \n",
    "2) Recall is the number of members of a class that the classifier identified correctly divided by the total number of members in that class. \n",
    "3) F1 score combines precision and recall into one metric. If precision and recall are both high, F1 will be high, too. If they are both low, F1 will be low. If one is high and the other low, F1 will be low."
   ]
  },
  {
   "cell_type": "code",
   "execution_count": null,
   "metadata": {
    "cell_id": "858219b8509e42809c388a20923b24fd",
    "deepnote_cell_type": "code",
    "deepnote_to_be_reexecuted": false,
    "execution_millis": 32,
    "execution_start": 1702545670634,
    "source_hash": null
   },
   "outputs": [
    {
     "name": "stdout",
     "output_type": "stream",
     "text": [
      "              precision    recall  f1-score   support\n",
      "\n",
      "       False       0.97      0.89      0.93       144\n",
      "        True       0.89      0.97      0.93       139\n",
      "\n",
      "    accuracy                           0.93       283\n",
      "   macro avg       0.93      0.93      0.93       283\n",
      "weighted avg       0.93      0.93      0.93       283\n",
      "\n"
     ]
    }
   ],
   "source": [
    "print(classification_report(y_test, rfc_test_pred))"
   ]
  },
  {
   "cell_type": "markdown",
   "metadata": {
    "cell_id": "a3d13d943cd54b66bcd63ad34da8f934",
    "deepnote_cell_type": "markdown"
   },
   "source": [
    "Because the precision, recall, and f1 scores for both classes are high ($\\geq0.89$), we can conclude that the random forest model is accurate at predicting whether a team has a winning record based on their stats. We can now analyze which stats were most important in determining a team's success."
   ]
  },
  {
   "cell_type": "code",
   "execution_count": null,
   "metadata": {
    "cell_id": "6c290941466c412f9c8ae7f85a043a7b",
    "deepnote_cell_type": "code",
    "deepnote_to_be_reexecuted": false,
    "execution_millis": 24,
    "execution_start": 1702545688708,
    "source_hash": null
   },
   "outputs": [
    {
     "data": {
      "text/plain": [
       "runs_scored               0.192366\n",
       "earned_run_average        0.134273\n",
       "opponents_runs_scored     0.113034\n",
       "earned_runs_allowed       0.091288\n",
       "saves                     0.067500\n",
       "hits                      0.064919\n",
       "walks_allowed             0.048037\n",
       "homeruns                  0.044631\n",
       "hits_allowed              0.035169\n",
       "walks                     0.033901\n",
       "shutouts                  0.024170\n",
       "outs_pitches              0.021774\n",
       "doubles                   0.014424\n",
       "at_bats                   0.014272\n",
       "homeruns_allowed          0.012837\n",
       "errors                    0.012371\n",
       "sacrifice_flies           0.012179\n",
       "strikeouts_by_batters     0.008981\n",
       "fielding_percentage       0.008807\n",
       "triples                   0.007699\n",
       "strikeouts_by_pitchers    0.007344\n",
       "complete_games            0.006878\n",
       "caught_stealing           0.006677\n",
       "stolen_bases              0.006267\n",
       "batters_hit_by_pitch      0.005247\n",
       "double_plays              0.004955\n",
       "dtype: float64"
      ]
     },
     "execution_count": 35,
     "metadata": {},
     "output_type": "execute_result"
    }
   ],
   "source": [
    "pd.Series(rfc.feature_importances_, index=rfc.feature_names_in_).sort_values(ascending=False)"
   ]
  },
  {
   "cell_type": "markdown",
   "metadata": {
    "cell_id": "be58d90492f24536aaa82e886110898e",
    "deepnote_cell_type": "markdown"
   },
   "source": [
    "`runs_scored`, `opponents_runs_scored`, and `earned_run_average` had the highest feature importances, which means that they were the most significant stats towards a team's success. This agrees with the previous results found in the linear regression model, which found that `earned_run_average` had the greatest negative effect on winning percentage and `runs_scored` had one of the greatest positive effects on winning percentage."
   ]
  },
  {
   "cell_type": "markdown",
   "metadata": {
    "cell_id": "0dfe6692a03243fc8fea12cd007d4bc8",
    "deepnote_cell_type": "markdown"
   },
   "source": [
    "## Neural Network\n",
    "Another criteria to judge a team's success is how far it goes in the playoffs. Now I will drop the rows with missing values in `wild_card_winner`."
   ]
  },
  {
   "cell_type": "code",
   "execution_count": null,
   "metadata": {
    "cell_id": "d1ed53901b45434389a12f7ed6e8b02b",
    "deepnote_cell_type": "code",
    "deepnote_to_be_reexecuted": false,
    "execution_millis": 27,
    "execution_start": 1702543981804,
    "source_hash": null
   },
   "outputs": [
    {
     "data": {
      "text/plain": [
       "year                      0\n",
       "games_played              0\n",
       "wins                      0\n",
       "losses                    0\n",
       "division_winner           0\n",
       "wild_card_winner          0\n",
       "league_winner             0\n",
       "world_series_winner       0\n",
       "runs_scored               0\n",
       "at_bats                   0\n",
       "hits                      0\n",
       "doubles                   0\n",
       "triples                   0\n",
       "homeruns                  0\n",
       "walks                     0\n",
       "strikeouts_by_batters     0\n",
       "stolen_bases              0\n",
       "caught_stealing           0\n",
       "batters_hit_by_pitch      0\n",
       "sacrifice_flies           0\n",
       "opponents_runs_scored     0\n",
       "earned_runs_allowed       0\n",
       "earned_run_average        0\n",
       "complete_games            0\n",
       "shutouts                  0\n",
       "saves                     0\n",
       "outs_pitches              0\n",
       "hits_allowed              0\n",
       "homeruns_allowed          0\n",
       "walks_allowed             0\n",
       "strikeouts_by_pitchers    0\n",
       "errors                    0\n",
       "double_plays              0\n",
       "fielding_percentage       0\n",
       "win_percentage            0\n",
       "is_win                    0\n",
       "dtype: int64"
      ]
     },
     "execution_count": 17,
     "metadata": {},
     "output_type": "execute_result"
    }
   ],
   "source": [
    "df_playoffs = df_rate[~df_rate['wild_card_winner'].isna()]\n",
    "df_playoffs.isna().sum(axis=0)"
   ]
  },
  {
   "cell_type": "markdown",
   "metadata": {
    "cell_id": "8a1e63bf1d0b428a995d7f4238c12b11",
    "deepnote_cell_type": "markdown"
   },
   "source": [
    "I will create a new column in `df_playoffs` called `playoffs` that correlates to how far each team made in the playoffs. $0$ correlates to no playoff series wins, $1$ correlates to winning the wild card, $2$ correlates to winning the league championship series, and $3$ correlates to winning the world series. I created `playoffs` using code from: https://stackoverflow.com/questions/26886653/create-new-column-based-on-values-from-other-columns-apply-a-function-of-multi"
   ]
  },
  {
   "cell_type": "code",
   "execution_count": null,
   "metadata": {
    "cell_id": "21b28ae4deb5426ab98d5eac3ff4b864",
    "deepnote_cell_type": "code",
    "deepnote_table_loading": false,
    "deepnote_table_state": {
     "filters": [],
     "pageIndex": 0,
     "pageSize": 10,
     "sortBy": []
    },
    "deepnote_to_be_reexecuted": false,
    "execution_millis": 129,
    "execution_start": 1702543981814,
    "source_hash": null
   },
   "outputs": [
    {
     "name": "stderr",
     "output_type": "stream",
     "text": [
      "/tmp/ipykernel_37/169299682.py:4: SettingWithCopyWarning: \n",
      "A value is trying to be set on a copy of a slice from a DataFrame.\n",
      "Try using .loc[row_indexer,col_indexer] = value instead\n",
      "\n",
      "See the caveats in the documentation: https://pandas.pydata.org/pandas-docs/stable/user_guide/indexing.html#returning-a-view-versus-a-copy\n",
      "  df_playoffs['playoffs'] = np.select(conditions, outputs)\n"
     ]
    },
    {
     "data": {
      "application/vnd.deepnote.dataframe.v3+json": {
       "column_count": 37,
       "columns": [
        {
         "dtype": "int64",
         "name": "year",
         "stats": {
          "histogram": [
           {
            "bin_end": 1997.5,
            "bin_start": 1995,
            "count": 84
           },
           {
            "bin_end": 2000,
            "bin_start": 1997.5,
            "count": 60
           },
           {
            "bin_end": 2002.5,
            "bin_start": 2000,
            "count": 90
           },
           {
            "bin_end": 2005,
            "bin_start": 2002.5,
            "count": 60
           },
           {
            "bin_end": 2007.5,
            "bin_start": 2005,
            "count": 90
           },
           {
            "bin_end": 2010,
            "bin_start": 2007.5,
            "count": 60
           },
           {
            "bin_end": 2012.5,
            "bin_start": 2010,
            "count": 90
           },
           {
            "bin_end": 2015,
            "bin_start": 2012.5,
            "count": 60
           },
           {
            "bin_end": 2017.5,
            "bin_start": 2015,
            "count": 90
           },
           {
            "bin_end": 2020,
            "bin_start": 2017.5,
            "count": 90
           }
          ],
          "max": "2020",
          "min": "1995",
          "nan_count": 0,
          "unique_count": 26
         }
        },
        {
         "dtype": "int64",
         "name": "games_played",
         "stats": {
          "histogram": [
           {
            "bin_end": 68.5,
            "bin_start": 58,
            "count": 30
           },
           {
            "bin_end": 79,
            "bin_start": 68.5,
            "count": 0
           },
           {
            "bin_end": 89.5,
            "bin_start": 79,
            "count": 0
           },
           {
            "bin_end": 100,
            "bin_start": 89.5,
            "count": 0
           },
           {
            "bin_end": 110.5,
            "bin_start": 100,
            "count": 0
           },
           {
            "bin_end": 121,
            "bin_start": 110.5,
            "count": 0
           },
           {
            "bin_end": 131.5,
            "bin_start": 121,
            "count": 0
           },
           {
            "bin_end": 142,
            "bin_start": 131.5,
            "count": 0
           },
           {
            "bin_end": 152.5,
            "bin_start": 142,
            "count": 28
           },
           {
            "bin_end": 163,
            "bin_start": 152.5,
            "count": 716
           }
          ],
          "max": "163",
          "min": "58",
          "nan_count": 0,
          "unique_count": 8
         }
        },
        {
         "dtype": "int64",
         "name": "wins",
         "stats": {
          "histogram": [
           {
            "bin_end": 28.7,
            "bin_start": 19,
            "count": 13
           },
           {
            "bin_end": 38.4,
            "bin_start": 28.7,
            "count": 15
           },
           {
            "bin_end": 48.099999999999994,
            "bin_start": 38.4,
            "count": 5
           },
           {
            "bin_end": 57.8,
            "bin_start": 48.099999999999994,
            "count": 15
           },
           {
            "bin_end": 67.5,
            "bin_start": 57.8,
            "count": 90
           },
           {
            "bin_end": 77.19999999999999,
            "bin_start": 67.5,
            "count": 195
           },
           {
            "bin_end": 86.89999999999999,
            "bin_start": 77.19999999999999,
            "count": 189
           },
           {
            "bin_end": 96.6,
            "bin_start": 86.89999999999999,
            "count": 188
           },
           {
            "bin_end": 106.3,
            "bin_start": 96.6,
            "count": 60
           },
           {
            "bin_end": 116,
            "bin_start": 106.3,
            "count": 4
           }
          ],
          "max": "116",
          "min": "19",
          "nan_count": 0,
          "unique_count": 79
         }
        },
        {
         "dtype": "int64",
         "name": "losses",
         "stats": {
          "histogram": [
           {
            "bin_end": 27.2,
            "bin_start": 17,
            "count": 10
           },
           {
            "bin_end": 37.4,
            "bin_start": 27.2,
            "count": 18
           },
           {
            "bin_end": 47.599999999999994,
            "bin_start": 37.4,
            "count": 4
           },
           {
            "bin_end": 57.8,
            "bin_start": 47.599999999999994,
            "count": 7
           },
           {
            "bin_end": 68,
            "bin_start": 57.8,
            "count": 102
           },
           {
            "bin_end": 78.19999999999999,
            "bin_start": 68,
            "count": 226
           },
           {
            "bin_end": 88.39999999999999,
            "bin_start": 78.19999999999999,
            "count": 204
           },
           {
            "bin_end": 98.6,
            "bin_start": 88.39999999999999,
            "count": 163
           },
           {
            "bin_end": 108.8,
            "bin_start": 98.6,
            "count": 34
           },
           {
            "bin_end": 119,
            "bin_start": 108.8,
            "count": 6
           }
          ],
          "max": "119",
          "min": "17",
          "nan_count": 0,
          "unique_count": 80
         }
        },
        {
         "dtype": "object",
         "name": "division_winner",
         "stats": {
          "categories": [
           {
            "count": 618,
            "name": "N"
           },
           {
            "count": 156,
            "name": "Y"
           }
          ],
          "nan_count": 0,
          "unique_count": 2
         }
        },
        {
         "dtype": "object",
         "name": "wild_card_winner",
         "stats": {
          "categories": [
           {
            "count": 698,
            "name": "N"
           },
           {
            "count": 76,
            "name": "Y"
           }
          ],
          "nan_count": 0,
          "unique_count": 2
         }
        },
        {
         "dtype": "object",
         "name": "league_winner",
         "stats": {
          "categories": [
           {
            "count": 722,
            "name": "N"
           },
           {
            "count": 52,
            "name": "Y"
           }
          ],
          "nan_count": 0,
          "unique_count": 2
         }
        },
        {
         "dtype": "object",
         "name": "world_series_winner",
         "stats": {
          "categories": [
           {
            "count": 748,
            "name": "N"
           },
           {
            "count": 26,
            "name": "Y"
           }
          ],
          "nan_count": 0,
          "unique_count": 2
         }
        },
        {
         "dtype": "float64",
         "name": "runs_scored",
         "stats": {
          "histogram": [
           {
            "bin_end": 0.1,
            "bin_start": 0,
            "count": 22
           },
           {
            "bin_end": 0.2,
            "bin_start": 0.1,
            "count": 8
           },
           {
            "bin_end": 0.30000000000000004,
            "bin_start": 0.2,
            "count": 0
           },
           {
            "bin_end": 0.4,
            "bin_start": 0.30000000000000004,
            "count": 2
           },
           {
            "bin_end": 0.5,
            "bin_start": 0.4,
            "count": 29
           },
           {
            "bin_end": 0.6000000000000001,
            "bin_start": 0.5,
            "count": 172
           },
           {
            "bin_end": 0.7000000000000001,
            "bin_start": 0.6000000000000001,
            "count": 273
           },
           {
            "bin_end": 0.8,
            "bin_start": 0.7000000000000001,
            "count": 165
           },
           {
            "bin_end": 0.9,
            "bin_start": 0.8,
            "count": 84
           },
           {
            "bin_end": 1,
            "bin_start": 0.9,
            "count": 19
           }
          ],
          "max": "1.0",
          "min": "0.0",
          "nan_count": 0,
          "unique_count": 323
         }
        },
        {
         "dtype": "float64",
         "name": "at_bats",
         "stats": {
          "histogram": [
           {
            "bin_end": 0.10000000000000002,
            "bin_start": 0,
            "count": 30
           },
           {
            "bin_end": 0.20000000000000004,
            "bin_start": 0.10000000000000002,
            "count": 0
           },
           {
            "bin_end": 0.30000000000000004,
            "bin_start": 0.20000000000000004,
            "count": 0
           },
           {
            "bin_end": 0.4000000000000001,
            "bin_start": 0.30000000000000004,
            "count": 0
           },
           {
            "bin_end": 0.5000000000000001,
            "bin_start": 0.4000000000000001,
            "count": 0
           },
           {
            "bin_end": 0.6000000000000001,
            "bin_start": 0.5000000000000001,
            "count": 0
           },
           {
            "bin_end": 0.7000000000000002,
            "bin_start": 0.6000000000000001,
            "count": 0
           },
           {
            "bin_end": 0.8000000000000002,
            "bin_start": 0.7000000000000002,
            "count": 18
           },
           {
            "bin_end": 0.9000000000000001,
            "bin_start": 0.8000000000000002,
            "count": 15
           },
           {
            "bin_end": 1.0000000000000002,
            "bin_start": 0.9000000000000001,
            "count": 711
           }
          ],
          "max": "1.0000000000000002",
          "min": "0.0",
          "nan_count": 0,
          "unique_count": 333
         }
        },
        {
         "dtype": "float64",
         "name": "hits",
         "stats": {
          "histogram": [
           {
            "bin_end": 0.1,
            "bin_start": 0,
            "count": 22
           },
           {
            "bin_end": 0.2,
            "bin_start": 0.1,
            "count": 8
           },
           {
            "bin_end": 0.30000000000000004,
            "bin_start": 0.2,
            "count": 0
           },
           {
            "bin_end": 0.4,
            "bin_start": 0.30000000000000004,
            "count": 0
           },
           {
            "bin_end": 0.5,
            "bin_start": 0.4,
            "count": 0
           },
           {
            "bin_end": 0.6000000000000001,
            "bin_start": 0.5,
            "count": 0
           },
           {
            "bin_end": 0.7000000000000001,
            "bin_start": 0.6000000000000001,
            "count": 25
           },
           {
            "bin_end": 0.8,
            "bin_start": 0.7000000000000001,
            "count": 301
           },
           {
            "bin_end": 0.9,
            "bin_start": 0.8,
            "count": 335
           },
           {
            "bin_end": 1,
            "bin_start": 0.9,
            "count": 83
           }
          ],
          "max": "1.0",
          "min": "0.0",
          "nan_count": 0,
          "unique_count": 339
         }
        },
        {
         "dtype": "float64",
         "name": "doubles",
         "stats": {
          "histogram": [
           {
            "bin_end": 0.09999999999999999,
            "bin_start": 0,
            "count": 23
           },
           {
            "bin_end": 0.19999999999999998,
            "bin_start": 0.09999999999999999,
            "count": 7
           },
           {
            "bin_end": 0.3,
            "bin_start": 0.19999999999999998,
            "count": 0
           },
           {
            "bin_end": 0.39999999999999997,
            "bin_start": 0.3,
            "count": 1
           },
           {
            "bin_end": 0.49999999999999994,
            "bin_start": 0.39999999999999997,
            "count": 10
           },
           {
            "bin_end": 0.6,
            "bin_start": 0.49999999999999994,
            "count": 85
           },
           {
            "bin_end": 0.7,
            "bin_start": 0.6,
            "count": 280
           },
           {
            "bin_end": 0.7999999999999999,
            "bin_start": 0.7,
            "count": 259
           },
           {
            "bin_end": 0.8999999999999999,
            "bin_start": 0.7999999999999999,
            "count": 91
           },
           {
            "bin_end": 0.9999999999999999,
            "bin_start": 0.8999999999999999,
            "count": 18
           }
          ],
          "max": "0.9999999999999999",
          "min": "0.0",
          "nan_count": 0,
          "unique_count": 162
         }
        },
        {
         "dtype": "float64",
         "name": "triples",
         "stats": {
          "histogram": [
           {
            "bin_end": 0.0763157894736842,
            "bin_start": 0,
            "count": 21
           },
           {
            "bin_end": 0.1526315789473684,
            "bin_start": 0.0763157894736842,
            "count": 27
           },
           {
            "bin_end": 0.2289473684210526,
            "bin_start": 0.1526315789473684,
            "count": 89
           },
           {
            "bin_end": 0.3052631578947368,
            "bin_start": 0.2289473684210526,
            "count": 163
           },
           {
            "bin_end": 0.381578947368421,
            "bin_start": 0.3052631578947368,
            "count": 169
           },
           {
            "bin_end": 0.4578947368421052,
            "bin_start": 0.381578947368421,
            "count": 171
           },
           {
            "bin_end": 0.5342105263157894,
            "bin_start": 0.4578947368421052,
            "count": 87
           },
           {
            "bin_end": 0.6105263157894736,
            "bin_start": 0.5342105263157894,
            "count": 29
           },
           {
            "bin_end": 0.6868421052631578,
            "bin_start": 0.6105263157894736,
            "count": 13
           },
           {
            "bin_end": 0.763157894736842,
            "bin_start": 0.6868421052631578,
            "count": 5
           }
          ],
          "max": "0.763157894736842",
          "min": "0.0",
          "nan_count": 0,
          "unique_count": 57
         }
        },
        {
         "dtype": "float64",
         "name": "homeruns",
         "stats": {
          "histogram": [
           {
            "bin_end": 0.16218181818181818,
            "bin_start": 0.06909090909090909,
            "count": 15
           },
           {
            "bin_end": 0.25527272727272726,
            "bin_start": 0.16218181818181818,
            "count": 23
           },
           {
            "bin_end": 0.3483636363636363,
            "bin_start": 0.25527272727272726,
            "count": 70
           },
           {
            "bin_end": 0.44145454545454543,
            "bin_start": 0.3483636363636363,
            "count": 167
           },
           {
            "bin_end": 0.5345454545454545,
            "bin_start": 0.44145454545454543,
            "count": 204
           },
           {
            "bin_end": 0.6276363636363635,
            "bin_start": 0.5345454545454545,
            "count": 140
           },
           {
            "bin_end": 0.7207272727272727,
            "bin_start": 0.6276363636363635,
            "count": 105
           },
           {
            "bin_end": 0.8138181818181818,
            "bin_start": 0.7207272727272727,
            "count": 39
           },
           {
            "bin_end": 0.9069090909090909,
            "bin_start": 0.8138181818181818,
            "count": 8
           },
           {
            "bin_end": 1,
            "bin_start": 0.9069090909090909,
            "count": 3
           }
          ],
          "max": "1.0",
          "min": "0.06909090909090909",
          "nan_count": 0,
          "unique_count": 178
         }
        },
        {
         "dtype": "float64",
         "name": "walks",
         "stats": {
          "histogram": [
           {
            "bin_end": 0.1,
            "bin_start": 0,
            "count": 19
           },
           {
            "bin_end": 0.2,
            "bin_start": 0.1,
            "count": 11
           },
           {
            "bin_end": 0.30000000000000004,
            "bin_start": 0.2,
            "count": 0
           },
           {
            "bin_end": 0.4,
            "bin_start": 0.30000000000000004,
            "count": 21
           },
           {
            "bin_end": 0.5,
            "bin_start": 0.4,
            "count": 109
           },
           {
            "bin_end": 0.6000000000000001,
            "bin_start": 0.5,
            "count": 229
           },
           {
            "bin_end": 0.7000000000000001,
            "bin_start": 0.6000000000000001,
            "count": 228
           },
           {
            "bin_end": 0.8,
            "bin_start": 0.7000000000000001,
            "count": 116
           },
           {
            "bin_end": 0.9,
            "bin_start": 0.8,
            "count": 34
           },
           {
            "bin_end": 1,
            "bin_start": 0.9,
            "count": 7
           }
          ],
          "max": "1.0",
          "min": "0.0",
          "nan_count": 0,
          "unique_count": 296
         }
        },
        {
         "dtype": "float64",
         "name": "strikeouts_by_batters",
         "stats": {
          "histogram": [
           {
            "bin_end": 0.14514802631578946,
            "bin_start": 0.05016447368421051,
            "count": 24
           },
           {
            "bin_end": 0.24013157894736842,
            "bin_start": 0.14514802631578946,
            "count": 6
           },
           {
            "bin_end": 0.33511513157894735,
            "bin_start": 0.24013157894736842,
            "count": 2
           },
           {
            "bin_end": 0.4300986842105263,
            "bin_start": 0.33511513157894735,
            "count": 33
           },
           {
            "bin_end": 0.5250822368421053,
            "bin_start": 0.4300986842105263,
            "count": 136
           },
           {
            "bin_end": 0.6200657894736842,
            "bin_start": 0.5250822368421053,
            "count": 233
           },
           {
            "bin_end": 0.7150493421052632,
            "bin_start": 0.6200657894736842,
            "count": 160
           },
           {
            "bin_end": 0.8100328947368421,
            "bin_start": 0.7150493421052632,
            "count": 104
           },
           {
            "bin_end": 0.9050164473684211,
            "bin_start": 0.8100328947368421,
            "count": 52
           },
           {
            "bin_end": 1,
            "bin_start": 0.9050164473684211,
            "count": 24
           }
          ],
          "max": "1.0",
          "min": "0.05016447368421051",
          "nan_count": 0,
          "unique_count": 457
         }
        },
        {
         "dtype": "float64",
         "name": "stolen_bases",
         "stats": {
          "histogram": [
           {
            "bin_end": 0.05718654434250764,
            "bin_start": 0,
            "count": 24
           },
           {
            "bin_end": 0.11437308868501528,
            "bin_start": 0.05718654434250764,
            "count": 42
           },
           {
            "bin_end": 0.17155963302752292,
            "bin_start": 0.11437308868501528,
            "count": 139
           },
           {
            "bin_end": 0.22874617737003056,
            "bin_start": 0.17155963302752292,
            "count": 160
           },
           {
            "bin_end": 0.2859327217125382,
            "bin_start": 0.22874617737003056,
            "count": 157
           },
           {
            "bin_end": 0.34311926605504584,
            "bin_start": 0.2859327217125382,
            "count": 124
           },
           {
            "bin_end": 0.4003058103975535,
            "bin_start": 0.34311926605504584,
            "count": 71
           },
           {
            "bin_end": 0.4574923547400611,
            "bin_start": 0.4003058103975535,
            "count": 35
           },
           {
            "bin_end": 0.5146788990825688,
            "bin_start": 0.4574923547400611,
            "count": 15
           },
           {
            "bin_end": 0.5718654434250764,
            "bin_start": 0.5146788990825688,
            "count": 7
           }
          ],
          "max": "0.5718654434250764",
          "min": "0.0",
          "nan_count": 0,
          "unique_count": 156
         }
        },
        {
         "dtype": "float64",
         "name": "caught_stealing",
         "stats": {
          "histogram": [
           {
            "bin_end": 0.06833333333333333,
            "bin_start": 0,
            "count": 24
           },
           {
            "bin_end": 0.13666666666666666,
            "bin_start": 0.06833333333333333,
            "count": 22
           },
           {
            "bin_end": 0.205,
            "bin_start": 0.13666666666666666,
            "count": 108
           },
           {
            "bin_end": 0.2733333333333333,
            "bin_start": 0.205,
            "count": 184
           },
           {
            "bin_end": 0.3416666666666667,
            "bin_start": 0.2733333333333333,
            "count": 209
           },
           {
            "bin_end": 0.41,
            "bin_start": 0.3416666666666667,
            "count": 131
           },
           {
            "bin_end": 0.4783333333333333,
            "bin_start": 0.41,
            "count": 53
           },
           {
            "bin_end": 0.5466666666666666,
            "bin_start": 0.4783333333333333,
            "count": 30
           },
           {
            "bin_end": 0.615,
            "bin_start": 0.5466666666666666,
            "count": 11
           },
           {
            "bin_end": 0.6833333333333333,
            "bin_start": 0.615,
            "count": 2
           }
          ],
          "max": "0.6833333333333333",
          "min": "0.0",
          "nan_count": 0,
          "unique_count": 72
         }
        },
        {
         "dtype": "float64",
         "name": "batters_hit_by_pitch",
         "stats": {
          "histogram": [
           {
            "bin_end": 0.128125,
            "bin_start": 0.03125,
            "count": 5
           },
           {
            "bin_end": 0.22499999999999998,
            "bin_start": 0.128125,
            "count": 18
           },
           {
            "bin_end": 0.32187499999999997,
            "bin_start": 0.22499999999999998,
            "count": 72
           },
           {
            "bin_end": 0.41874999999999996,
            "bin_start": 0.32187499999999997,
            "count": 155
           },
           {
            "bin_end": 0.515625,
            "bin_start": 0.41874999999999996,
            "count": 198
           },
           {
            "bin_end": 0.6124999999999999,
            "bin_start": 0.515625,
            "count": 156
           },
           {
            "bin_end": 0.7093749999999999,
            "bin_start": 0.6124999999999999,
            "count": 97
           },
           {
            "bin_end": 0.8062499999999999,
            "bin_start": 0.7093749999999999,
            "count": 45
           },
           {
            "bin_end": 0.903125,
            "bin_start": 0.8062499999999999,
            "count": 21
           },
           {
            "bin_end": 0.9999999999999999,
            "bin_start": 0.903125,
            "count": 7
           }
          ],
          "max": "0.9999999999999999",
          "min": "0.03125",
          "nan_count": 0,
          "unique_count": 81
         }
        },
        {
         "dtype": "float64",
         "name": "sacrifice_flies",
         "stats": {
          "histogram": [
           {
            "bin_end": 0.09714285714285714,
            "bin_start": 0,
            "count": 16
           },
           {
            "bin_end": 0.19428571428571428,
            "bin_start": 0.09714285714285714,
            "count": 12
           },
           {
            "bin_end": 0.2914285714285714,
            "bin_start": 0.19428571428571428,
            "count": 14
           },
           {
            "bin_end": 0.38857142857142857,
            "bin_start": 0.2914285714285714,
            "count": 77
           },
           {
            "bin_end": 0.4857142857142857,
            "bin_start": 0.38857142857142857,
            "count": 178
           },
           {
            "bin_end": 0.5828571428571429,
            "bin_start": 0.4857142857142857,
            "count": 217
           },
           {
            "bin_end": 0.6799999999999999,
            "bin_start": 0.5828571428571429,
            "count": 159
           },
           {
            "bin_end": 0.7771428571428571,
            "bin_start": 0.6799999999999999,
            "count": 72
           },
           {
            "bin_end": 0.8742857142857143,
            "bin_start": 0.7771428571428571,
            "count": 20
           },
           {
            "bin_end": 0.9714285714285714,
            "bin_start": 0.8742857142857143,
            "count": 9
           }
          ],
          "max": "0.9714285714285714",
          "min": "0.0",
          "nan_count": 0,
          "unique_count": 62
         }
        },
        {
         "dtype": "float64",
         "name": "opponents_runs_scored",
         "stats": {
          "histogram": [
           {
            "bin_end": 0.1,
            "bin_start": 0,
            "count": 19
           },
           {
            "bin_end": 0.2,
            "bin_start": 0.1,
            "count": 11
           },
           {
            "bin_end": 0.30000000000000004,
            "bin_start": 0.2,
            "count": 0
           },
           {
            "bin_end": 0.4,
            "bin_start": 0.30000000000000004,
            "count": 11
           },
           {
            "bin_end": 0.5,
            "bin_start": 0.4,
            "count": 110
           },
           {
            "bin_end": 0.6000000000000001,
            "bin_start": 0.5,
            "count": 262
           },
           {
            "bin_end": 0.7000000000000001,
            "bin_start": 0.6000000000000001,
            "count": 226
           },
           {
            "bin_end": 0.8,
            "bin_start": 0.7000000000000001,
            "count": 116
           },
           {
            "bin_end": 0.9,
            "bin_start": 0.8,
            "count": 17
           },
           {
            "bin_end": 1,
            "bin_start": 0.9,
            "count": 2
           }
          ],
          "max": "1.0",
          "min": "0.0",
          "nan_count": 0,
          "unique_count": 351
         }
        },
        {
         "dtype": "float64",
         "name": "earned_runs_allowed",
         "stats": {
          "histogram": [
           {
            "bin_end": 0.1,
            "bin_start": 0,
            "count": 16
           },
           {
            "bin_end": 0.2,
            "bin_start": 0.1,
            "count": 14
           },
           {
            "bin_end": 0.30000000000000004,
            "bin_start": 0.2,
            "count": 0
           },
           {
            "bin_end": 0.4,
            "bin_start": 0.30000000000000004,
            "count": 10
           },
           {
            "bin_end": 0.5,
            "bin_start": 0.4,
            "count": 103
           },
           {
            "bin_end": 0.6000000000000001,
            "bin_start": 0.5,
            "count": 255
           },
           {
            "bin_end": 0.7000000000000001,
            "bin_start": 0.6000000000000001,
            "count": 230
           },
           {
            "bin_end": 0.8,
            "bin_start": 0.7000000000000001,
            "count": 127
           },
           {
            "bin_end": 0.9,
            "bin_start": 0.8,
            "count": 17
           },
           {
            "bin_end": 1,
            "bin_start": 0.9,
            "count": 2
           }
          ],
          "max": "1.0",
          "min": "0.0",
          "nan_count": 0,
          "unique_count": 330
         }
        },
        {
         "dtype": "float64",
         "name": "earned_run_average",
         "stats": {
          "histogram": [
           {
            "bin_end": 0.19584415584415588,
            "bin_start": 0.10649350649350653,
            "count": 19
           },
           {
            "bin_end": 0.2851948051948052,
            "bin_start": 0.19584415584415588,
            "count": 66
           },
           {
            "bin_end": 0.37454545454545457,
            "bin_start": 0.2851948051948052,
            "count": 134
           },
           {
            "bin_end": 0.4638961038961039,
            "bin_start": 0.37454545454545457,
            "count": 193
           },
           {
            "bin_end": 0.5532467532467533,
            "bin_start": 0.4638961038961039,
            "count": 152
           },
           {
            "bin_end": 0.6425974025974026,
            "bin_start": 0.5532467532467533,
            "count": 124
           },
           {
            "bin_end": 0.731948051948052,
            "bin_start": 0.6425974025974026,
            "count": 60
           },
           {
            "bin_end": 0.8212987012987013,
            "bin_start": 0.731948051948052,
            "count": 22
           },
           {
            "bin_end": 0.9106493506493506,
            "bin_start": 0.8212987012987013,
            "count": 3
           },
           {
            "bin_end": 1,
            "bin_start": 0.9106493506493506,
            "count": 1
           }
          ],
          "max": "1.0",
          "min": "0.10649350649350653",
          "nan_count": 0,
          "unique_count": 226
         }
        },
        {
         "dtype": "float64",
         "name": "complete_games",
         "stats": {
          "histogram": [
           {
            "bin_end": 0.028723404255319145,
            "bin_start": 0,
            "count": 221
           },
           {
            "bin_end": 0.05744680851063829,
            "bin_start": 0.028723404255319145,
            "count": 227
           },
           {
            "bin_end": 0.08617021276595743,
            "bin_start": 0.05744680851063829,
            "count": 184
           },
           {
            "bin_end": 0.11489361702127658,
            "bin_start": 0.08617021276595743,
            "count": 56
           },
           {
            "bin_end": 0.14361702127659573,
            "bin_start": 0.11489361702127658,
            "count": 47
           },
           {
            "bin_end": 0.17234042553191486,
            "bin_start": 0.14361702127659573,
            "count": 23
           },
           {
            "bin_end": 0.20106382978723403,
            "bin_start": 0.17234042553191486,
            "count": 7
           },
           {
            "bin_end": 0.22978723404255316,
            "bin_start": 0.20106382978723403,
            "count": 6
           },
           {
            "bin_end": 0.2585106382978723,
            "bin_start": 0.22978723404255316,
            "count": 2
           },
           {
            "bin_end": 0.28723404255319146,
            "bin_start": 0.2585106382978723,
            "count": 1
           }
          ],
          "max": "0.28723404255319146",
          "min": "0.0",
          "nan_count": 0,
          "unique_count": 24
         }
        },
        {
         "dtype": "float64",
         "name": "shutouts",
         "stats": {
          "histogram": [
           {
            "bin_end": 0.09583333333333333,
            "bin_start": 0,
            "count": 50
           },
           {
            "bin_end": 0.19166666666666665,
            "bin_start": 0.09583333333333333,
            "count": 72
           },
           {
            "bin_end": 0.2875,
            "bin_start": 0.19166666666666665,
            "count": 118
           },
           {
            "bin_end": 0.3833333333333333,
            "bin_start": 0.2875,
            "count": 220
           },
           {
            "bin_end": 0.47916666666666663,
            "bin_start": 0.3833333333333333,
            "count": 138
           },
           {
            "bin_end": 0.575,
            "bin_start": 0.47916666666666663,
            "count": 90
           },
           {
            "bin_end": 0.6708333333333333,
            "bin_start": 0.575,
            "count": 56
           },
           {
            "bin_end": 0.7666666666666666,
            "bin_start": 0.6708333333333333,
            "count": 15
           },
           {
            "bin_end": 0.8624999999999999,
            "bin_start": 0.7666666666666666,
            "count": 7
           },
           {
            "bin_end": 0.9583333333333333,
            "bin_start": 0.8624999999999999,
            "count": 8
           }
          ],
          "max": "0.9583333333333333",
          "min": "0.0",
          "nan_count": 0,
          "unique_count": 24
         }
        },
        {
         "dtype": "float64",
         "name": "saves",
         "stats": {
          "histogram": [
           {
            "bin_end": 0.0967741935483871,
            "bin_start": 0,
            "count": 7
           },
           {
            "bin_end": 0.1935483870967742,
            "bin_start": 0.0967741935483871,
            "count": 20
           },
           {
            "bin_end": 0.29032258064516125,
            "bin_start": 0.1935483870967742,
            "count": 6
           },
           {
            "bin_end": 0.3870967741935484,
            "bin_start": 0.29032258064516125,
            "count": 42
           },
           {
            "bin_end": 0.4838709677419355,
            "bin_start": 0.3870967741935484,
            "count": 180
           },
           {
            "bin_end": 0.5806451612903225,
            "bin_start": 0.4838709677419355,
            "count": 180
           },
           {
            "bin_end": 0.6774193548387096,
            "bin_start": 0.5806451612903225,
            "count": 220
           },
           {
            "bin_end": 0.7741935483870968,
            "bin_start": 0.6774193548387096,
            "count": 85
           },
           {
            "bin_end": 0.8709677419354839,
            "bin_start": 0.7741935483870968,
            "count": 30
           },
           {
            "bin_end": 0.9677419354838709,
            "bin_start": 0.8709677419354839,
            "count": 4
           }
          ],
          "max": "0.9677419354838709",
          "min": "0.0",
          "nan_count": 0,
          "unique_count": 54
         }
        },
        {
         "dtype": "float64",
         "name": "outs_pitches",
         "stats": {
          "histogram": [
           {
            "bin_end": 0.1,
            "bin_start": 0,
            "count": 30
           },
           {
            "bin_end": 0.2,
            "bin_start": 0.1,
            "count": 0
           },
           {
            "bin_end": 0.30000000000000004,
            "bin_start": 0.2,
            "count": 0
           },
           {
            "bin_end": 0.4,
            "bin_start": 0.30000000000000004,
            "count": 0
           },
           {
            "bin_end": 0.5,
            "bin_start": 0.4,
            "count": 0
           },
           {
            "bin_end": 0.6000000000000001,
            "bin_start": 0.5,
            "count": 0
           },
           {
            "bin_end": 0.7000000000000001,
            "bin_start": 0.6000000000000001,
            "count": 0
           },
           {
            "bin_end": 0.8,
            "bin_start": 0.7000000000000001,
            "count": 19
           },
           {
            "bin_end": 0.9,
            "bin_start": 0.8,
            "count": 9
           },
           {
            "bin_end": 1,
            "bin_start": 0.9,
            "count": 716
           }
          ],
          "max": "1.0",
          "min": "0.0",
          "nan_count": 0,
          "unique_count": 221
         }
        },
        {
         "dtype": "float64",
         "name": "hits_allowed",
         "stats": {
          "histogram": [
           {
            "bin_end": 0.09999999999999999,
            "bin_start": 0,
            "count": 25
           },
           {
            "bin_end": 0.19999999999999998,
            "bin_start": 0.09999999999999999,
            "count": 5
           },
           {
            "bin_end": 0.3,
            "bin_start": 0.19999999999999998,
            "count": 0
           },
           {
            "bin_end": 0.39999999999999997,
            "bin_start": 0.3,
            "count": 0
           },
           {
            "bin_end": 0.49999999999999994,
            "bin_start": 0.39999999999999997,
            "count": 0
           },
           {
            "bin_end": 0.6,
            "bin_start": 0.49999999999999994,
            "count": 5
           },
           {
            "bin_end": 0.7,
            "bin_start": 0.6,
            "count": 83
           },
           {
            "bin_end": 0.7999999999999999,
            "bin_start": 0.7,
            "count": 352
           },
           {
            "bin_end": 0.8999999999999999,
            "bin_start": 0.7999999999999999,
            "count": 262
           },
           {
            "bin_end": 0.9999999999999999,
            "bin_start": 0.8999999999999999,
            "count": 42
           }
          ],
          "max": "0.9999999999999999",
          "min": "0.0",
          "nan_count": 0,
          "unique_count": 362
         }
        },
        {
         "dtype": "float64",
         "name": "homeruns_allowed",
         "stats": {
          "histogram": [
           {
            "bin_end": 0.17471698113207548,
            "bin_start": 0.08301886792452831,
            "count": 26
           },
           {
            "bin_end": 0.2664150943396226,
            "bin_start": 0.17471698113207548,
            "count": 9
           },
           {
            "bin_end": 0.3581132075471698,
            "bin_start": 0.2664150943396226,
            "count": 61
           },
           {
            "bin_end": 0.44981132075471697,
            "bin_start": 0.3581132075471698,
            "count": 180
           },
           {
            "bin_end": 0.5415094339622641,
            "bin_start": 0.44981132075471697,
            "count": 257
           },
           {
            "bin_end": 0.6332075471698113,
            "bin_start": 0.5415094339622641,
            "count": 148
           },
           {
            "bin_end": 0.7249056603773585,
            "bin_start": 0.6332075471698113,
            "count": 69
           },
           {
            "bin_end": 0.8166037735849057,
            "bin_start": 0.7249056603773585,
            "count": 18
           },
           {
            "bin_end": 0.9083018867924528,
            "bin_start": 0.8166037735849057,
            "count": 5
           },
           {
            "bin_end": 1,
            "bin_start": 0.9083018867924528,
            "count": 1
           }
          ],
          "max": "1.0",
          "min": "0.08301886792452831",
          "nan_count": 0,
          "unique_count": 155
         }
        },
        {
         "dtype": "float64",
         "name": "walks_allowed",
         "stats": {
          "histogram": [
           {
            "bin_end": 0.1,
            "bin_start": 0,
            "count": 15
           },
           {
            "bin_end": 0.2,
            "bin_start": 0.1,
            "count": 15
           },
           {
            "bin_end": 0.30000000000000004,
            "bin_start": 0.2,
            "count": 0
           },
           {
            "bin_end": 0.4,
            "bin_start": 0.30000000000000004,
            "count": 13
           },
           {
            "bin_end": 0.5,
            "bin_start": 0.4,
            "count": 115
           },
           {
            "bin_end": 0.6000000000000001,
            "bin_start": 0.5,
            "count": 256
           },
           {
            "bin_end": 0.7000000000000001,
            "bin_start": 0.6000000000000001,
            "count": 236
           },
           {
            "bin_end": 0.8,
            "bin_start": 0.7000000000000001,
            "count": 95
           },
           {
            "bin_end": 0.9,
            "bin_start": 0.8,
            "count": 25
           },
           {
            "bin_end": 1,
            "bin_start": 0.9,
            "count": 4
           }
          ],
          "max": "1.0",
          "min": "0.0",
          "nan_count": 0,
          "unique_count": 286
         }
        },
        {
         "dtype": "float64",
         "name": "strikeouts_by_pitchers",
         "stats": {
          "histogram": [
           {
            "bin_end": 0.10346420323325636,
            "bin_start": 0.003849114703618206,
            "count": 14
           },
           {
            "bin_end": 0.20307929176289452,
            "bin_start": 0.10346420323325636,
            "count": 16
           },
           {
            "bin_end": 0.30269438029253265,
            "bin_start": 0.20307929176289452,
            "count": 4
           },
           {
            "bin_end": 0.40230946882217083,
            "bin_start": 0.30269438029253265,
            "count": 34
           },
           {
            "bin_end": 0.501924557351809,
            "bin_start": 0.40230946882217083,
            "count": 181
           },
           {
            "bin_end": 0.601539645881447,
            "bin_start": 0.501924557351809,
            "count": 235
           },
           {
            "bin_end": 0.7011547344110853,
            "bin_start": 0.601539645881447,
            "count": 172
           },
           {
            "bin_end": 0.8007698229407234,
            "bin_start": 0.7011547344110853,
            "count": 82
           },
           {
            "bin_end": 0.9003849114703617,
            "bin_start": 0.8007698229407234,
            "count": 25
           },
           {
            "bin_end": 0.9999999999999999,
            "bin_start": 0.9003849114703617,
            "count": 11
           }
          ],
          "max": "0.9999999999999999",
          "min": "0.003849114703618206",
          "nan_count": 0,
          "unique_count": 459
         }
        },
        {
         "dtype": "float64",
         "name": "errors",
         "stats": {
          "histogram": [
           {
            "bin_end": 0.0782122905027933,
            "bin_start": 0,
            "count": 15
           },
           {
            "bin_end": 0.1564245810055866,
            "bin_start": 0.0782122905027933,
            "count": 14
           },
           {
            "bin_end": 0.2346368715083799,
            "bin_start": 0.1564245810055866,
            "count": 3
           },
           {
            "bin_end": 0.3128491620111732,
            "bin_start": 0.2346368715083799,
            "count": 37
           },
           {
            "bin_end": 0.3910614525139665,
            "bin_start": 0.3128491620111732,
            "count": 127
           },
           {
            "bin_end": 0.4692737430167598,
            "bin_start": 0.3910614525139665,
            "count": 226
           },
           {
            "bin_end": 0.547486033519553,
            "bin_start": 0.4692737430167598,
            "count": 205
           },
           {
            "bin_end": 0.6256983240223464,
            "bin_start": 0.547486033519553,
            "count": 96
           },
           {
            "bin_end": 0.7039106145251397,
            "bin_start": 0.6256983240223464,
            "count": 46
           },
           {
            "bin_end": 0.782122905027933,
            "bin_start": 0.7039106145251397,
            "count": 5
           }
          ],
          "max": "0.782122905027933",
          "min": "0.0",
          "nan_count": 0,
          "unique_count": 110
         }
        },
        {
         "dtype": "float64",
         "name": "double_plays",
         "stats": {
          "histogram": [
           {
            "bin_end": 0.09884393063583814,
            "bin_start": 0,
            "count": 21
           },
           {
            "bin_end": 0.19768786127167629,
            "bin_start": 0.09884393063583814,
            "count": 8
           },
           {
            "bin_end": 0.29653179190751444,
            "bin_start": 0.19768786127167629,
            "count": 1
           },
           {
            "bin_end": 0.39537572254335257,
            "bin_start": 0.29653179190751444,
            "count": 6
           },
           {
            "bin_end": 0.4942196531791907,
            "bin_start": 0.39537572254335257,
            "count": 32
           },
           {
            "bin_end": 0.5930635838150289,
            "bin_start": 0.4942196531791907,
            "count": 152
           },
           {
            "bin_end": 0.691907514450867,
            "bin_start": 0.5930635838150289,
            "count": 255
           },
           {
            "bin_end": 0.7907514450867051,
            "bin_start": 0.691907514450867,
            "count": 206
           },
           {
            "bin_end": 0.8895953757225433,
            "bin_start": 0.7907514450867051,
            "count": 70
           },
           {
            "bin_end": 0.9884393063583814,
            "bin_start": 0.8895953757225433,
            "count": 23
           }
          ],
          "max": "0.9884393063583814",
          "min": "0.0",
          "nan_count": 0,
          "unique_count": 117
         }
        },
        {
         "dtype": "float64",
         "name": "fielding_percentage",
         "stats": {
          "histogram": [
           {
            "bin_end": 0.33478260869565163,
            "bin_start": 0.2608695652173907,
            "count": 3
           },
           {
            "bin_end": 0.40869565217391257,
            "bin_start": 0.33478260869565163,
            "count": 19
           },
           {
            "bin_end": 0.48260869565217346,
            "bin_start": 0.40869565217391257,
            "count": 74
           },
           {
            "bin_end": 0.5565217391304345,
            "bin_start": 0.48260869565217346,
            "count": 53
           },
           {
            "bin_end": 0.6304347826086953,
            "bin_start": 0.5565217391304345,
            "count": 171
           },
           {
            "bin_end": 0.7043478260869562,
            "bin_start": 0.6304347826086953,
            "count": 211
           },
           {
            "bin_end": 0.7782608695652172,
            "bin_start": 0.7043478260869562,
            "count": 98
           },
           {
            "bin_end": 0.8521739130434781,
            "bin_start": 0.7782608695652172,
            "count": 107
           },
           {
            "bin_end": 0.926086956521739,
            "bin_start": 0.8521739130434781,
            "count": 34
           },
           {
            "bin_end": 1,
            "bin_start": 0.926086956521739,
            "count": 4
           }
          ],
          "max": "1.0",
          "min": "0.2608695652173907",
          "nan_count": 0,
          "unique_count": 18
         }
        },
        {
         "dtype": "float64",
         "name": "win_percentage",
         "stats": {
          "histogram": [
           {
            "bin_end": 0.3105555555555556,
            "bin_start": 0.2654320987654321,
            "count": 3
           },
           {
            "bin_end": 0.355679012345679,
            "bin_start": 0.3105555555555556,
            "count": 14
           },
           {
            "bin_end": 0.4008024691358025,
            "bin_start": 0.355679012345679,
            "count": 42
           },
           {
            "bin_end": 0.44592592592592595,
            "bin_start": 0.4008024691358025,
            "count": 138
           },
           {
            "bin_end": 0.4910493827160494,
            "bin_start": 0.44592592592592595,
            "count": 163
           },
           {
            "bin_end": 0.5361728395061729,
            "bin_start": 0.4910493827160494,
            "count": 147
           },
           {
            "bin_end": 0.5812962962962963,
            "bin_start": 0.5361728395061729,
            "count": 152
           },
           {
            "bin_end": 0.6264197530864197,
            "bin_start": 0.5812962962962963,
            "count": 92
           },
           {
            "bin_end": 0.6715432098765433,
            "bin_start": 0.6264197530864197,
            "count": 19
           },
           {
            "bin_end": 0.7166666666666667,
            "bin_start": 0.6715432098765433,
            "count": 4
           }
          ],
          "max": "0.7166666666666667",
          "min": "0.2654320987654321",
          "nan_count": 0,
          "unique_count": 149
         }
        },
        {
         "dtype": "bool",
         "name": "is_win",
         "stats": {
          "categories": [
           {
            "count": 392,
            "name": "True"
           },
           {
            "count": 382,
            "name": "False"
           }
          ],
          "nan_count": 0,
          "unique_count": 2
         }
        },
        {
         "dtype": "int64",
         "name": "playoffs",
         "stats": {
          "histogram": [
           {
            "bin_end": 0.3,
            "bin_start": 0,
            "count": 659
           },
           {
            "bin_end": 0.6,
            "bin_start": 0.3,
            "count": 0
           },
           {
            "bin_end": 0.8999999999999999,
            "bin_start": 0.6,
            "count": 0
           },
           {
            "bin_end": 1.2,
            "bin_start": 0.8999999999999999,
            "count": 63
           },
           {
            "bin_end": 1.5,
            "bin_start": 1.2,
            "count": 0
           },
           {
            "bin_end": 1.7999999999999998,
            "bin_start": 1.5,
            "count": 0
           },
           {
            "bin_end": 2.1,
            "bin_start": 1.7999999999999998,
            "count": 26
           },
           {
            "bin_end": 2.4,
            "bin_start": 2.1,
            "count": 0
           },
           {
            "bin_end": 2.6999999999999997,
            "bin_start": 2.4,
            "count": 0
           },
           {
            "bin_end": 3,
            "bin_start": 2.6999999999999997,
            "count": 26
           }
          ],
          "max": "3",
          "min": "0",
          "nan_count": 0,
          "unique_count": 4
         }
        },
        {
         "dtype": "int64",
         "name": "_deepnote_index_column"
        }
       ],
       "row_count": 774,
       "rows": [
        {
         "_deepnote_index_column": 2010,
         "at_bats": 0.7599900719781585,
         "batters_hit_by_pitch": 0.34375,
         "caught_stealing": 0.3333333333333333,
         "complete_games": 0.19148936170212766,
         "division_winner": "Y",
         "double_plays": 0.4624277456647399,
         "doubles": 0.4521452145214522,
         "earned_run_average": 0.23636363636363633,
         "earned_runs_allowed": 0.3752997601918465,
         "errors": 0.44692737430167595,
         "fielding_percentage": 0.608695652173914,
         "games_played": 144,
         "hits": 0.6275115919629057,
         "hits_allowed": 0.5949926362297496,
         "homeruns": 0.4945454545454546,
         "homeruns_allowed": 0.25283018867924534,
         "is_win": "True",
         "league_winner": "Y",
         "losses": 54,
         "opponents_runs_scored": 0.3702460850111857,
         "outs_pitches": 0.8010437051532941,
         "playoffs": 3,
         "runs_scored": 0.5392405063291139,
         "sacrifice_flies": 0.38571428571428573,
         "saves": 0.4516129032258064,
         "shutouts": 0.4583333333333333,
         "stolen_bases": 0.18042813455657492,
         "strikeouts_by_batters": 0.45559210526315785,
         "strikeouts_by_pitchers": 0.5381062355658198,
         "triples": 0.3157894736842105,
         "walks": 0.5939490445859873,
         "walks_allowed": 0.4553990610328638,
         "wild_card_winner": "N",
         "win_percentage": 0.625,
         "wins": 90,
         "world_series_winner": "Y",
         "year": 1995
        },
        {
         "_deepnote_index_column": 2011,
         "at_bats": 0.7656986845371061,
         "batters_hit_by_pitch": 0.33333333333333337,
         "caught_stealing": 0.35,
         "complete_games": 0.20212765957446807,
         "division_winner": "N",
         "double_plays": 0.6242774566473989,
         "doubles": 0.5148514851485149,
         "earned_run_average": 0.46233766233766227,
         "earned_runs_allowed": 0.5107913669064748,
         "errors": 0.2905027932960894,
         "fielding_percentage": 0.7826086956521721,
         "games_played": 144,
         "hits": 0.67774343122102,
         "hits_allowed": 0.58100147275405,
         "homeruns": 0.5127272727272728,
         "homeruns_allowed": 0.41132075471698115,
         "is_win": "False",
         "league_winner": "N",
         "losses": 73,
         "opponents_runs_scored": 0.4821029082774049,
         "outs_pitches": 0.7769080234833659,
         "playoffs": 0,
         "runs_scored": 0.6139240506329113,
         "sacrifice_flies": 0.48571428571428577,
         "saves": 0.3709677419354839,
         "shutouts": 0.41666666666666663,
         "stolen_bases": 0.23853211009174313,
         "strikeouts_by_batters": 0.3486842105263158,
         "strikeouts_by_pitchers": 0.41724403387220943,
         "triples": 0.3157894736842105,
         "walks": 0.6799363057324841,
         "walks_allowed": 0.591549295774648,
         "wild_card_winner": "N",
         "win_percentage": 0.4930555555555556,
         "wins": 71,
         "world_series_winner": "N",
         "year": 1995
        },
        {
         "_deepnote_index_column": 2012,
         "at_bats": 0.8054107719036983,
         "batters_hit_by_pitch": 0.6041666666666666,
         "caught_stealing": 0.3416666666666666,
         "complete_games": 0.07446808510638298,
         "division_winner": "Y",
         "double_plays": 0.6820809248554913,
         "doubles": 0.7029702970297029,
         "earned_run_average": 0.48311688311688306,
         "earned_runs_allowed": 0.539568345323741,
         "errors": 0.558659217877095,
         "fielding_percentage": 0.4347826086956488,
         "games_played": 144,
         "hits": 0.7797527047913446,
         "hits_allowed": 0.7083946980854197,
         "homeruns": 0.52,
         "homeruns_allowed": 0.32830188679245287,
         "is_win": "True",
         "league_winner": "N",
         "losses": 58,
         "opponents_runs_scored": 0.5469798657718121,
         "outs_pitches": 0.8020221787345074,
         "playoffs": 0,
         "runs_scored": 0.7240506329113925,
         "sacrifice_flies": 0.6,
         "saves": 0.532258064516129,
         "shutouts": 0.375,
         "stolen_bases": 0.25993883792048933,
         "strikeouts_by_batters": 0.4473684210526315,
         "strikeouts_by_pitchers": 0.3849114703618167,
         "triples": 0.3684210526315789,
         "walks": 0.6576433121019108,
         "walks_allowed": 0.5179968701095461,
         "wild_card_winner": "N",
         "win_percentage": 0.5972222222222222,
         "wins": 86,
         "world_series_winner": "N",
         "year": 1995
        },
        {
         "_deepnote_index_column": 2013,
         "at_bats": 0.8108711839166047,
         "batters_hit_by_pitch": 0.30208333333333337,
         "caught_stealing": 0.3,
         "complete_games": 0.0851063829787234,
         "division_winner": "N",
         "double_plays": 0.5028901734104047,
         "doubles": 0.5907590759075907,
         "earned_run_average": 0.5168831168831167,
         "earned_runs_allowed": 0.5563549160671463,
         "errors": 0.4189944134078213,
         "fielding_percentage": 0.608695652173914,
         "games_played": 145,
         "hits": 0.7727975270479135,
         "hits_allowed": 0.6877761413843888,
         "homeruns": 0.56,
         "homeruns_allowed": 0.4641509433962264,
         "is_win": "True",
         "league_winner": "N",
         "losses": 67,
         "opponents_runs_scored": 0.5458612975391499,
         "outs_pitches": 0.7938682322243966,
         "playoffs": 0,
         "runs_scored": 0.7367088607594938,
         "sacrifice_flies": 0.44285714285714284,
         "saves": 0.5806451612903225,
         "shutouts": 0.375,
         "stolen_bases": 0.1345565749235474,
         "strikeouts_by_batters": 0.41940789473684204,
         "strikeouts_by_pitchers": 0.394919168591224,
         "triples": 0.28947368421052627,
         "walks": 0.6640127388535032,
         "walks_allowed": 0.5336463223787167,
         "wild_card_winner": "N",
         "win_percentage": 0.5379310344827586,
         "wins": 78,
         "world_series_winner": "N",
         "year": 1995
        },
        {
         "_deepnote_index_column": 2014,
         "at_bats": 0.8210474063042941,
         "batters_hit_by_pitch": 0.26041666666666663,
         "caught_stealing": 0.3,
         "complete_games": 0.1276595744680851,
         "division_winner": "N",
         "double_plays": 0.5664739884393064,
         "doubles": 0.5907590759075907,
         "earned_run_average": 0.6025974025974026,
         "earned_runs_allowed": 0.6139088729016786,
         "errors": 0.4916201117318436,
         "fielding_percentage": 0.5217391304347814,
         "games_played": 145,
         "hits": 0.7936630602782071,
         "hits_allowed": 0.7349042709867452,
         "homeruns": 0.41454545454545455,
         "homeruns_allowed": 0.4679245283018868,
         "is_win": "False",
         "league_winner": "N",
         "losses": 76,
         "opponents_runs_scored": 0.6140939597315437,
         "outs_pitches": 0.794194390084801,
         "playoffs": 0,
         "runs_scored": 0.6784810126582279,
         "sacrifice_flies": 0.7,
         "saves": 0.4838709677419354,
         "shutouts": 0.16666666666666666,
         "stolen_bases": 0.29357798165137616,
         "strikeouts_by_batters": 0.319078947368421,
         "strikeouts_by_pitchers": 0.3879907621247113,
         "triples": 0.4473684210526315,
         "walks": 0.6831210191082803,
         "walks_allowed": 0.7386541471048513,
         "wild_card_winner": "N",
         "win_percentage": 0.4689655172413793,
         "wins": 68,
         "world_series_winner": "N",
         "year": 1995
        },
        {
         "_deepnote_index_column": 2015,
         "at_bats": 0.7969719533382975,
         "batters_hit_by_pitch": 0.28125,
         "caught_stealing": 0.2833333333333333,
         "complete_games": 0.06382978723404255,
         "division_winner": "N",
         "double_plays": 0.47398843930635837,
         "doubles": 0.6402640264026402,
         "earned_run_average": 0.4155844155844155,
         "earned_runs_allowed": 0.4988009592326139,
         "errors": 0.5307262569832403,
         "fielding_percentage": 0.4782608695652186,
         "games_played": 144,
         "hits": 0.7148377125193199,
         "hits_allowed": 0.6899852724594993,
         "homeruns": 0.45818181818181825,
         "homeruns_allowed": 0.46037735849056605,
         "is_win": "True",
         "league_winner": "N",
         "losses": 71,
         "opponents_runs_scored": 0.5167785234899329,
         "outs_pitches": 0.8101761252446185,
         "playoffs": 0,
         "runs_scored": 0.6000000000000001,
         "sacrifice_flies": 0.4,
         "saves": 0.6290322580645161,
         "shutouts": 0.5,
         "stolen_bases": 0.27828746177370034,
         "strikeouts_by_batters": 0.4720394736842105,
         "strikeouts_by_pitchers": 0.41416474210931487,
         "triples": 0.4736842105263157,
         "walks": 0.4665605095541402,
         "walks_allowed": 0.5837245696400626,
         "wild_card_winner": "N",
         "win_percentage": 0.5069444444444444,
         "wins": 73,
         "world_series_winner": "N",
         "year": 1995
        },
        {
         "_deepnote_index_column": 2016,
         "at_bats": 0.7820799205758253,
         "batters_hit_by_pitch": 0.34375,
         "caught_stealing": 0.5416666666666666,
         "complete_games": 0.0851063829787234,
         "division_winner": "Y",
         "double_plays": 0.6184971098265896,
         "doubles": 0.6732673267326732,
         "earned_run_average": 0.38961038961038974,
         "earned_runs_allowed": 0.4760191846522781,
         "errors": 0.3296089385474861,
         "fielding_percentage": 0.7826086956521721,
         "games_played": 144,
         "hits": 0.723338485316847,
         "hits_allowed": 0.658321060382916,
         "homeruns": 0.4690909090909091,
         "homeruns_allowed": 0.3433962264150944,
         "is_win": "True",
         "league_winner": "N",
         "losses": 59,
         "opponents_runs_scored": 0.46308724832214765,
         "outs_pitches": 0.798760600130463,
         "playoffs": 0,
         "runs_scored": 0.6683544303797468,
         "sacrifice_flies": 0.6142857142857143,
         "saves": 0.5161290322580645,
         "shutouts": 0.41666666666666663,
         "stolen_bases": 0.5382262996941896,
         "strikeouts_by_batters": 0.46628289473684204,
         "strikeouts_by_pitchers": 0.3964588144726713,
         "triples": 0.42105263157894735,
         "walks": 0.5923566878980893,
         "walks_allowed": 0.4366197183098592,
         "wild_card_winner": "N",
         "win_percentage": 0.5902777777777778,
         "wins": 85,
         "world_series_winner": "N",
         "year": 1995
        },
        {
         "_deepnote_index_column": 2017,
         "at_bats": 0.8131049888309756,
         "batters_hit_by_pitch": 0.29166666666666663,
         "caught_stealing": 0.41666666666666663,
         "complete_games": 0.10638297872340426,
         "division_winner": "Y",
         "double_plays": 0.630057803468208,
         "doubles": 0.6798679867986799,
         "earned_run_average": 0.33766233766233766,
         "earned_runs_allowed": 0.447242206235012,
         "errors": 0.45251396648044695,
         "fielding_percentage": 0.608695652173914,
         "games_played": 144,
         "hits": 0.8276661514683152,
         "hits_allowed": 0.6516936671575847,
         "homeruns": 0.6363636363636364,
         "homeruns_allowed": 0.3584905660377359,
         "is_win": "True",
         "league_winner": "Y",
         "losses": 44,
         "opponents_runs_scored": 0.44519015659955263,
         "outs_pitches": 0.8101761252446185,
         "playoffs": 2,
         "runs_scored": 0.7860759493670888,
         "sacrifice_flies": 0.5857142857142857,
         "saves": 0.7096774193548386,
         "shutouts": 0.41666666666666663,
         "stolen_bases": 0.3608562691131499,
         "strikeouts_by_batters": 0.31825657894736836,
         "strikeouts_by_pitchers": 0.41416474210931487,
         "triples": 0.2631578947368421,
         "walks": 0.6289808917197452,
         "walks_allowed": 0.46948356807511743,
         "wild_card_winner": "N",
         "win_percentage": 0.6944444444444444,
         "wins": 100,
         "world_series_winner": "N",
         "year": 1995
        },
        {
         "_deepnote_index_column": 2018,
         "at_bats": 0.8046661702655746,
         "batters_hit_by_pitch": 0.5104166666666666,
         "caught_stealing": 0.4666666666666666,
         "complete_games": 0.010638297872340425,
         "division_winner": "N",
         "double_plays": 0.653179190751445,
         "doubles": 0.6138613861386139,
         "earned_run_average": 0.6337662337662338,
         "earned_runs_allowed": 0.6354916067146282,
         "errors": 0.4860335195530726,
         "fielding_percentage": 0.5652173913043441,
         "games_played": 144,
         "hits": 0.7851622874806801,
         "hits_allowed": 0.7857142857142857,
         "homeruns": 0.610909090909091,
         "homeruns_allowed": 0.4528301886792453,
         "is_win": "True",
         "league_winner": "N",
         "losses": 67,
         "opponents_runs_scored": 0.6420581655480985,
         "outs_pitches": 0.7977821265492497,
         "playoffs": 1,
         "runs_scored": 0.7164556962025317,
         "sacrifice_flies": 0.34285714285714286,
         "saves": 0.596774193548387,
         "shutouts": 0.041666666666666664,
         "stolen_bases": 0.3394495412844037,
         "strikeouts_by_batters": 0.4638157894736842,
         "strikeouts_by_pitchers": 0.3872209391839877,
         "triples": 0.5263157894736842,
         "walks": 0.5366242038216561,
         "walks_allowed": 0.5743348982785603,
         "wild_card_winner": "Y",
         "win_percentage": 0.5347222222222222,
         "wins": 77,
         "world_series_winner": "N",
         "year": 1995
        },
        {
         "_deepnote_index_column": 2019,
         "at_bats": 0.7726482998262598,
         "batters_hit_by_pitch": 0.35416666666666663,
         "caught_stealing": 0.27499999999999997,
         "complete_games": 0.05319148936170213,
         "division_winner": "N",
         "double_plays": 0.6358381502890174,
         "doubles": 0.5115511551155115,
         "earned_run_average": 0.7688311688311689,
         "earned_runs_allowed": 0.7158273381294964,
         "errors": 0.4804469273743017,
         "fielding_percentage": 0.5652173913043441,
         "games_played": 144,
         "hits": 0.6290571870170016,
         "hits_allowed": 0.8343151693667158,
         "homeruns": 0.4618181818181818,
         "homeruns_allowed": 0.49056603773584906,
         "is_win": "False",
         "league_winner": "N",
         "losses": 84,
         "opponents_runs_scored": 0.7102908277404921,
         "outs_pitches": 0.7847358121330723,
         "playoffs": 0,
         "runs_scored": 0.5506329113924051,
         "sacrifice_flies": 0.5142857142857142,
         "saves": 0.5161290322580645,
         "shutouts": 0.125,
         "stolen_bases": 0.18042813455657492,
         "strikeouts_by_batters": 0.5,
         "strikeouts_by_pitchers": 0.26250962278675904,
         "triples": 0.3421052631578947,
         "walks": 0.6433121019108281,
         "walks_allowed": 0.6118935837245696,
         "wild_card_winner": "N",
         "win_percentage": 0.4166666666666667,
         "wins": 60,
         "world_series_winner": "N",
         "year": 1995
        }
       ]
      },
      "text/html": [
       "<div>\n",
       "<style scoped>\n",
       "    .dataframe tbody tr th:only-of-type {\n",
       "        vertical-align: middle;\n",
       "    }\n",
       "\n",
       "    .dataframe tbody tr th {\n",
       "        vertical-align: top;\n",
       "    }\n",
       "\n",
       "    .dataframe thead th {\n",
       "        text-align: right;\n",
       "    }\n",
       "</style>\n",
       "<table border=\"1\" class=\"dataframe\">\n",
       "  <thead>\n",
       "    <tr style=\"text-align: right;\">\n",
       "      <th></th>\n",
       "      <th>year</th>\n",
       "      <th>games_played</th>\n",
       "      <th>wins</th>\n",
       "      <th>losses</th>\n",
       "      <th>division_winner</th>\n",
       "      <th>wild_card_winner</th>\n",
       "      <th>league_winner</th>\n",
       "      <th>world_series_winner</th>\n",
       "      <th>runs_scored</th>\n",
       "      <th>at_bats</th>\n",
       "      <th>...</th>\n",
       "      <th>hits_allowed</th>\n",
       "      <th>homeruns_allowed</th>\n",
       "      <th>walks_allowed</th>\n",
       "      <th>strikeouts_by_pitchers</th>\n",
       "      <th>errors</th>\n",
       "      <th>double_plays</th>\n",
       "      <th>fielding_percentage</th>\n",
       "      <th>win_percentage</th>\n",
       "      <th>is_win</th>\n",
       "      <th>playoffs</th>\n",
       "    </tr>\n",
       "  </thead>\n",
       "  <tbody>\n",
       "    <tr>\n",
       "      <th>2010</th>\n",
       "      <td>1995</td>\n",
       "      <td>144</td>\n",
       "      <td>90</td>\n",
       "      <td>54</td>\n",
       "      <td>Y</td>\n",
       "      <td>N</td>\n",
       "      <td>Y</td>\n",
       "      <td>Y</td>\n",
       "      <td>0.539241</td>\n",
       "      <td>0.759990</td>\n",
       "      <td>...</td>\n",
       "      <td>0.594993</td>\n",
       "      <td>0.252830</td>\n",
       "      <td>0.455399</td>\n",
       "      <td>0.538106</td>\n",
       "      <td>0.446927</td>\n",
       "      <td>0.462428</td>\n",
       "      <td>0.608696</td>\n",
       "      <td>0.625000</td>\n",
       "      <td>True</td>\n",
       "      <td>3</td>\n",
       "    </tr>\n",
       "    <tr>\n",
       "      <th>2011</th>\n",
       "      <td>1995</td>\n",
       "      <td>144</td>\n",
       "      <td>71</td>\n",
       "      <td>73</td>\n",
       "      <td>N</td>\n",
       "      <td>N</td>\n",
       "      <td>N</td>\n",
       "      <td>N</td>\n",
       "      <td>0.613924</td>\n",
       "      <td>0.765699</td>\n",
       "      <td>...</td>\n",
       "      <td>0.581001</td>\n",
       "      <td>0.411321</td>\n",
       "      <td>0.591549</td>\n",
       "      <td>0.417244</td>\n",
       "      <td>0.290503</td>\n",
       "      <td>0.624277</td>\n",
       "      <td>0.782609</td>\n",
       "      <td>0.493056</td>\n",
       "      <td>False</td>\n",
       "      <td>0</td>\n",
       "    </tr>\n",
       "    <tr>\n",
       "      <th>2012</th>\n",
       "      <td>1995</td>\n",
       "      <td>144</td>\n",
       "      <td>86</td>\n",
       "      <td>58</td>\n",
       "      <td>Y</td>\n",
       "      <td>N</td>\n",
       "      <td>N</td>\n",
       "      <td>N</td>\n",
       "      <td>0.724051</td>\n",
       "      <td>0.805411</td>\n",
       "      <td>...</td>\n",
       "      <td>0.708395</td>\n",
       "      <td>0.328302</td>\n",
       "      <td>0.517997</td>\n",
       "      <td>0.384911</td>\n",
       "      <td>0.558659</td>\n",
       "      <td>0.682081</td>\n",
       "      <td>0.434783</td>\n",
       "      <td>0.597222</td>\n",
       "      <td>True</td>\n",
       "      <td>0</td>\n",
       "    </tr>\n",
       "    <tr>\n",
       "      <th>2013</th>\n",
       "      <td>1995</td>\n",
       "      <td>145</td>\n",
       "      <td>78</td>\n",
       "      <td>67</td>\n",
       "      <td>N</td>\n",
       "      <td>N</td>\n",
       "      <td>N</td>\n",
       "      <td>N</td>\n",
       "      <td>0.736709</td>\n",
       "      <td>0.810871</td>\n",
       "      <td>...</td>\n",
       "      <td>0.687776</td>\n",
       "      <td>0.464151</td>\n",
       "      <td>0.533646</td>\n",
       "      <td>0.394919</td>\n",
       "      <td>0.418994</td>\n",
       "      <td>0.502890</td>\n",
       "      <td>0.608696</td>\n",
       "      <td>0.537931</td>\n",
       "      <td>True</td>\n",
       "      <td>0</td>\n",
       "    </tr>\n",
       "    <tr>\n",
       "      <th>2014</th>\n",
       "      <td>1995</td>\n",
       "      <td>145</td>\n",
       "      <td>68</td>\n",
       "      <td>76</td>\n",
       "      <td>N</td>\n",
       "      <td>N</td>\n",
       "      <td>N</td>\n",
       "      <td>N</td>\n",
       "      <td>0.678481</td>\n",
       "      <td>0.821047</td>\n",
       "      <td>...</td>\n",
       "      <td>0.734904</td>\n",
       "      <td>0.467925</td>\n",
       "      <td>0.738654</td>\n",
       "      <td>0.387991</td>\n",
       "      <td>0.491620</td>\n",
       "      <td>0.566474</td>\n",
       "      <td>0.521739</td>\n",
       "      <td>0.468966</td>\n",
       "      <td>False</td>\n",
       "      <td>0</td>\n",
       "    </tr>\n",
       "    <tr>\n",
       "      <th>...</th>\n",
       "      <td>...</td>\n",
       "      <td>...</td>\n",
       "      <td>...</td>\n",
       "      <td>...</td>\n",
       "      <td>...</td>\n",
       "      <td>...</td>\n",
       "      <td>...</td>\n",
       "      <td>...</td>\n",
       "      <td>...</td>\n",
       "      <td>...</td>\n",
       "      <td>...</td>\n",
       "      <td>...</td>\n",
       "      <td>...</td>\n",
       "      <td>...</td>\n",
       "      <td>...</td>\n",
       "      <td>...</td>\n",
       "      <td>...</td>\n",
       "      <td>...</td>\n",
       "      <td>...</td>\n",
       "      <td>...</td>\n",
       "      <td>...</td>\n",
       "    </tr>\n",
       "    <tr>\n",
       "      <th>2779</th>\n",
       "      <td>2020</td>\n",
       "      <td>58</td>\n",
       "      <td>30</td>\n",
       "      <td>28</td>\n",
       "      <td>N</td>\n",
       "      <td>Y</td>\n",
       "      <td>N</td>\n",
       "      <td>N</td>\n",
       "      <td>0.026582</td>\n",
       "      <td>0.000000</td>\n",
       "      <td>...</td>\n",
       "      <td>0.000000</td>\n",
       "      <td>0.109434</td>\n",
       "      <td>0.092332</td>\n",
       "      <td>0.058507</td>\n",
       "      <td>0.072626</td>\n",
       "      <td>0.075145</td>\n",
       "      <td>0.652174</td>\n",
       "      <td>0.517241</td>\n",
       "      <td>True</td>\n",
       "      <td>1</td>\n",
       "    </tr>\n",
       "    <tr>\n",
       "      <th>2780</th>\n",
       "      <td>2020</td>\n",
       "      <td>60</td>\n",
       "      <td>40</td>\n",
       "      <td>20</td>\n",
       "      <td>Y</td>\n",
       "      <td>N</td>\n",
       "      <td>Y</td>\n",
       "      <td>N</td>\n",
       "      <td>0.088608</td>\n",
       "      <td>0.055349</td>\n",
       "      <td>...</td>\n",
       "      <td>0.072901</td>\n",
       "      <td>0.113208</td>\n",
       "      <td>0.035994</td>\n",
       "      <td>0.126251</td>\n",
       "      <td>0.072626</td>\n",
       "      <td>0.109827</td>\n",
       "      <td>0.739130</td>\n",
       "      <td>0.666667</td>\n",
       "      <td>True</td>\n",
       "      <td>2</td>\n",
       "    </tr>\n",
       "    <tr>\n",
       "      <th>2781</th>\n",
       "      <td>2020</td>\n",
       "      <td>60</td>\n",
       "      <td>22</td>\n",
       "      <td>38</td>\n",
       "      <td>N</td>\n",
       "      <td>N</td>\n",
       "      <td>N</td>\n",
       "      <td>N</td>\n",
       "      <td>0.006329</td>\n",
       "      <td>0.045669</td>\n",
       "      <td>...</td>\n",
       "      <td>0.075847</td>\n",
       "      <td>0.154717</td>\n",
       "      <td>0.142410</td>\n",
       "      <td>0.077752</td>\n",
       "      <td>0.111732</td>\n",
       "      <td>0.040462</td>\n",
       "      <td>0.565217</td>\n",
       "      <td>0.366667</td>\n",
       "      <td>False</td>\n",
       "      <td>0</td>\n",
       "    </tr>\n",
       "    <tr>\n",
       "      <th>2782</th>\n",
       "      <td>2020</td>\n",
       "      <td>60</td>\n",
       "      <td>32</td>\n",
       "      <td>28</td>\n",
       "      <td>N</td>\n",
       "      <td>Y</td>\n",
       "      <td>N</td>\n",
       "      <td>N</td>\n",
       "      <td>0.105063</td>\n",
       "      <td>0.067262</td>\n",
       "      <td>...</td>\n",
       "      <td>0.103829</td>\n",
       "      <td>0.154717</td>\n",
       "      <td>0.164319</td>\n",
       "      <td>0.100847</td>\n",
       "      <td>0.100559</td>\n",
       "      <td>0.080925</td>\n",
       "      <td>0.608696</td>\n",
       "      <td>0.533333</td>\n",
       "      <td>True</td>\n",
       "      <td>1</td>\n",
       "    </tr>\n",
       "    <tr>\n",
       "      <th>2783</th>\n",
       "      <td>2020</td>\n",
       "      <td>60</td>\n",
       "      <td>26</td>\n",
       "      <td>34</td>\n",
       "      <td>N</td>\n",
       "      <td>N</td>\n",
       "      <td>N</td>\n",
       "      <td>N</td>\n",
       "      <td>0.093671</td>\n",
       "      <td>0.053611</td>\n",
       "      <td>...</td>\n",
       "      <td>0.126657</td>\n",
       "      <td>0.203774</td>\n",
       "      <td>0.111111</td>\n",
       "      <td>0.092379</td>\n",
       "      <td>0.106145</td>\n",
       "      <td>0.086705</td>\n",
       "      <td>0.565217</td>\n",
       "      <td>0.433333</td>\n",
       "      <td>False</td>\n",
       "      <td>0</td>\n",
       "    </tr>\n",
       "  </tbody>\n",
       "</table>\n",
       "<p>774 rows × 37 columns</p>\n",
       "</div>"
      ],
      "text/plain": [
       "      year  games_played  wins  losses division_winner wild_card_winner  \\\n",
       "2010  1995           144    90      54               Y                N   \n",
       "2011  1995           144    71      73               N                N   \n",
       "2012  1995           144    86      58               Y                N   \n",
       "2013  1995           145    78      67               N                N   \n",
       "2014  1995           145    68      76               N                N   \n",
       "...    ...           ...   ...     ...             ...              ...   \n",
       "2779  2020            58    30      28               N                Y   \n",
       "2780  2020            60    40      20               Y                N   \n",
       "2781  2020            60    22      38               N                N   \n",
       "2782  2020            60    32      28               N                Y   \n",
       "2783  2020            60    26      34               N                N   \n",
       "\n",
       "     league_winner world_series_winner  runs_scored   at_bats  ...  \\\n",
       "2010             Y                   Y     0.539241  0.759990  ...   \n",
       "2011             N                   N     0.613924  0.765699  ...   \n",
       "2012             N                   N     0.724051  0.805411  ...   \n",
       "2013             N                   N     0.736709  0.810871  ...   \n",
       "2014             N                   N     0.678481  0.821047  ...   \n",
       "...            ...                 ...          ...       ...  ...   \n",
       "2779             N                   N     0.026582  0.000000  ...   \n",
       "2780             Y                   N     0.088608  0.055349  ...   \n",
       "2781             N                   N     0.006329  0.045669  ...   \n",
       "2782             N                   N     0.105063  0.067262  ...   \n",
       "2783             N                   N     0.093671  0.053611  ...   \n",
       "\n",
       "      hits_allowed  homeruns_allowed  walks_allowed  strikeouts_by_pitchers  \\\n",
       "2010      0.594993          0.252830       0.455399                0.538106   \n",
       "2011      0.581001          0.411321       0.591549                0.417244   \n",
       "2012      0.708395          0.328302       0.517997                0.384911   \n",
       "2013      0.687776          0.464151       0.533646                0.394919   \n",
       "2014      0.734904          0.467925       0.738654                0.387991   \n",
       "...            ...               ...            ...                     ...   \n",
       "2779      0.000000          0.109434       0.092332                0.058507   \n",
       "2780      0.072901          0.113208       0.035994                0.126251   \n",
       "2781      0.075847          0.154717       0.142410                0.077752   \n",
       "2782      0.103829          0.154717       0.164319                0.100847   \n",
       "2783      0.126657          0.203774       0.111111                0.092379   \n",
       "\n",
       "        errors  double_plays  fielding_percentage  win_percentage  is_win  \\\n",
       "2010  0.446927      0.462428             0.608696        0.625000    True   \n",
       "2011  0.290503      0.624277             0.782609        0.493056   False   \n",
       "2012  0.558659      0.682081             0.434783        0.597222    True   \n",
       "2013  0.418994      0.502890             0.608696        0.537931    True   \n",
       "2014  0.491620      0.566474             0.521739        0.468966   False   \n",
       "...        ...           ...                  ...             ...     ...   \n",
       "2779  0.072626      0.075145             0.652174        0.517241    True   \n",
       "2780  0.072626      0.109827             0.739130        0.666667    True   \n",
       "2781  0.111732      0.040462             0.565217        0.366667   False   \n",
       "2782  0.100559      0.080925             0.608696        0.533333    True   \n",
       "2783  0.106145      0.086705             0.565217        0.433333   False   \n",
       "\n",
       "      playoffs  \n",
       "2010         3  \n",
       "2011         0  \n",
       "2012         0  \n",
       "2013         0  \n",
       "2014         0  \n",
       "...        ...  \n",
       "2779         1  \n",
       "2780         2  \n",
       "2781         0  \n",
       "2782         1  \n",
       "2783         0  \n",
       "\n",
       "[774 rows x 37 columns]"
      ]
     },
     "execution_count": 18,
     "metadata": {},
     "output_type": "execute_result"
    }
   ],
   "source": [
    "conditions = [df_playoffs['world_series_winner'] == 'Y', df_playoffs['league_winner'] == 'Y', df_playoffs['wild_card_winner'] == 'Y']\n",
    "outputs = [3, 2, 1]\n",
    "df_playoffs['playoffs'] = np.select(conditions, outputs)\n",
    "df_playoffs"
   ]
  },
  {
   "cell_type": "markdown",
   "metadata": {
    "cell_id": "aeaedd9cbf404a95be878826c565a06b",
    "deepnote_cell_type": "markdown"
   },
   "source": [
    "Because the target variable `is_win` is categorical, the model will use each row's stats to determine its class in `playoffs`, which is a classification problem. Therefore, I will try to use a neural network to model the relationship between stats and `playoffs`, using the code from https://www.tensorflow.org/tutorials/keras/classification. I also separated the data into training and testing data, which allow us to see if the neural network has overfit our data by testing the model on the testing data."
   ]
  },
  {
   "cell_type": "code",
   "execution_count": null,
   "metadata": {
    "cell_id": "6edde7f45fd34ce29b9595cca0d99df3",
    "deepnote_cell_type": "code",
    "deepnote_to_be_reexecuted": false,
    "execution_millis": 2047,
    "execution_start": 1702544267625,
    "source_hash": null
   },
   "outputs": [
    {
     "name": "stdout",
     "output_type": "stream",
     "text": [
      "Epoch 1/10\n",
      "20/20 [==============================] - 1s 5ms/step - loss: 0.9253 - accuracy: 0.8336\n",
      "Epoch 2/10\n",
      "20/20 [==============================] - 0s 5ms/step - loss: 0.6009 - accuracy: 0.8627\n",
      "Epoch 3/10\n",
      "20/20 [==============================] - 0s 5ms/step - loss: 0.5611 - accuracy: 0.8627\n",
      "Epoch 4/10\n",
      "20/20 [==============================] - 0s 5ms/step - loss: 0.5538 - accuracy: 0.8627\n",
      "Epoch 5/10\n",
      "20/20 [==============================] - 0s 1ms/step - loss: 0.5485 - accuracy: 0.8627\n",
      "Epoch 6/10\n",
      "20/20 [==============================] - 0s 2ms/step - loss: 0.5459 - accuracy: 0.8627\n",
      "Epoch 7/10\n",
      "20/20 [==============================] - 0s 2ms/step - loss: 0.5434 - accuracy: 0.8627\n",
      "Epoch 8/10\n",
      "20/20 [==============================] - 0s 5ms/step - loss: 0.5411 - accuracy: 0.8627\n",
      "Epoch 9/10\n",
      "20/20 [==============================] - 0s 4ms/step - loss: 0.5399 - accuracy: 0.8627\n",
      "Epoch 10/10\n",
      "20/20 [==============================] - 0s 5ms/step - loss: 0.5374 - accuracy: 0.8627\n"
     ]
    }
   ],
   "source": [
    "X_train, X_test, y_train, y_test = train_test_split(df_playoffs[cols], df_playoffs['playoffs'], test_size=0.2)\n",
    "\n",
    "model = tf.keras.Sequential([\n",
    "    tf.keras.layers.Dense(30, activation='relu'),\n",
    "    tf.keras.layers.Dense(4)\n",
    "])\n",
    "model.compile(optimizer='adam',\n",
    "              loss=tf.keras.losses.SparseCategoricalCrossentropy(from_logits=True),\n",
    "              metrics=['accuracy'])\n",
    "model.fit(X_train, y_train, epochs=10);"
   ]
  },
  {
   "cell_type": "markdown",
   "metadata": {
    "cell_id": "1215bd4095314452baf7692e996d7c9f",
    "deepnote_cell_type": "markdown"
   },
   "source": [
    "The model's accuracy on the training data is $0.8627$ (above), while the model's accuracy on the testing data is $0.8065$ (below). "
   ]
  },
  {
   "cell_type": "code",
   "execution_count": null,
   "metadata": {
    "cell_id": "b3ba7b7cfe7a420fb106b024cfc00ec2",
    "deepnote_cell_type": "code",
    "deepnote_to_be_reexecuted": false,
    "execution_millis": 179,
    "execution_start": 1702544471126,
    "source_hash": null
   },
   "outputs": [
    {
     "name": "stdout",
     "output_type": "stream",
     "text": [
      "5/5 - 0s - loss: 0.6691 - accuracy: 0.8065 - 86ms/epoch - 17ms/step\n",
      "Test accuracy: 0.8064516186714172\n"
     ]
    }
   ],
   "source": [
    "test_loss, test_acc = model.evaluate(X_test,  y_test, verbose=2)\n",
    "print('Test accuracy:', test_acc)"
   ]
  },
  {
   "cell_type": "markdown",
   "metadata": {
    "cell_id": "b2f61bd95da74c1380c54942d911bd05",
    "deepnote_cell_type": "markdown"
   },
   "source": [
    "Now let's look at the values predicted by the model."
   ]
  },
  {
   "cell_type": "code",
   "execution_count": null,
   "metadata": {
    "cell_id": "2f735a4a06a94fbd81e7c179296b7140",
    "deepnote_cell_type": "code",
    "deepnote_to_be_reexecuted": false,
    "execution_millis": 280,
    "execution_start": 1702544483034,
    "source_hash": null
   },
   "outputs": [
    {
     "name": "stdout",
     "output_type": "stream",
     "text": [
      "5/5 [==============================] - 0s 2ms/step\n"
     ]
    },
    {
     "data": {
      "text/plain": [
       "(array([0]), array([155]))"
      ]
     },
     "execution_count": 27,
     "metadata": {},
     "output_type": "execute_result"
    }
   ],
   "source": [
    "probability_model = tf.keras.Sequential([model, \n",
    "                                         tf.keras.layers.Softmax()])\n",
    "predictions = probability_model.predict(X_test)\n",
    "lst = [np.argmax(row) for row in predictions]\n",
    "np.unique(lst, return_counts=True)"
   ]
  },
  {
   "cell_type": "markdown",
   "metadata": {
    "cell_id": "3cf25c8deaea4454afe21c082cdbaec7",
    "deepnote_cell_type": "markdown"
   },
   "source": [
    "This indicates that the model has predicted all teams in the testing data to belong to the $0$ class of `playoffs`. Evidently, the neuron network was not able to distinguish a significant difference in the stats between teams that had playoff success and teams that did not. Therefore, none of the stats are statistically significant in determining a team's playoff success."
   ]
  },
  {
   "cell_type": "markdown",
   "metadata": {
    "cell_id": "3bcfa089853f45b383274b6e5258e09d",
    "deepnote_cell_type": "markdown",
    "tags": []
   },
   "source": [
    "## Summary\n",
    "\n",
    "Using linear regression and a random forest, I determined that a MLB team's success during the regular season can be predicted by some stats. In particular, runs scored and saves positively correlate to wins, while runs allowed and walks allowed negatively correlate to wins. However, there appears to be no correlation between any of the stats and a team's playoff success, as shown by a neural network."
   ]
  },
  {
   "cell_type": "markdown",
   "metadata": {
    "cell_id": "7152b434a1f74823b1b4b418b1319e63",
    "deepnote_cell_type": "markdown",
    "tags": []
   },
   "source": [
    "## References\n",
    "\n",
    "Your code above should include references.  Here is some additional space for references."
   ]
  },
  {
   "cell_type": "markdown",
   "metadata": {
    "cell_id": "4d021c377ad1443dab96cf4a5a75d5fe",
    "deepnote_cell_type": "markdown",
    "tags": []
   },
   "source": [
    "* What is the source of your dataset(s)?\n",
    "https://www.retrosheet.org"
   ]
  },
  {
   "cell_type": "markdown",
   "metadata": {
    "cell_id": "436af0e5c6f94101a62963b272c4f807",
    "deepnote_cell_type": "markdown",
    "deepnote_to_be_reexecuted": false,
    "execution_millis": 0,
    "execution_start": 1652916033453,
    "source_hash": "aa45eba7",
    "tags": []
   },
   "source": [
    "* List any other references that you found helpful."
   ]
  }
 ],
 "metadata": {
  "deepnote": {
   "is_reactive": false
  },
  "deepnote_execution_queue": [],
  "deepnote_notebook_id": "e03aeaa0f03f48a489a09a56dc695862",
  "language_info": {
   "name": "python"
  }
 },
 "nbformat": 4,
 "nbformat_minor": 0
}