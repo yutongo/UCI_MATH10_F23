{
 "cells": [
  {
   "cell_type": "markdown",
   "metadata": {
    "cell_id": "44999ba8b3ff42f3bdcb6c7d9b22e57d",
    "deepnote_cell_type": "markdown",
    "tags": []
   },
   "source": [
    "# Star Classification and Prediction\n",
    "\n",
    "Author: Andrew Heider\n",
    "\n",
    "Course Project, UC Irvine, Math 10, F23"
   ]
  },
  {
   "cell_type": "markdown",
   "metadata": {
    "cell_id": "0511b143c125458d8069485e4bd9ac28",
    "deepnote_cell_type": "markdown",
    "tags": []
   },
   "source": [
    "## Introduction\n",
    "\n",
    "Introduce your project here.  Maybe 3 sentences."
   ]
  },
  {
   "cell_type": "markdown",
   "metadata": {
    "cell_id": "8138ddf21ddb4d6db9d699fb22384ee3",
    "deepnote_cell_type": "markdown"
   },
   "source": [
    "My project will be focused around using a 6 class star dataset for star classificiation that will utilized deep learning approaches. This dataset will include seveal features of the star which are Absolute Temperature, Relative Luminosity, Relative Radius, Absolute Magnitude, Star Color, Spectral Class, and Star Type. The purpose of this dataset is to prove that these stars follow a certain graph in the celestial space, specifically the Hertzsprung-Russel Diagram in order to classify stars by plotting its feautures based on the graph. This project's main goal is to show visualization of temperature and luminosity relations within the dataset and will be comparing both the Random Forest model and the Logistic Regression model in prediction of star types from given temperature and luminosity values within the dataset."
   ]
  },
  {
   "cell_type": "markdown",
   "metadata": {
    "cell_id": "e62e5ab11a4e437982c662461ed4a963",
    "deepnote_cell_type": "markdown",
    "tags": []
   },
   "source": [
    "## Star Data Section\n",
    "\n",
    "You can either have all one section or divide into multiple sections.  To make new sections, use `##` in a markdown cell.  Double-click this cell for an example of using `##`"
   ]
  },
  {
   "cell_type": "code",
   "execution_count": null,
   "metadata": {
    "cell_id": "044e101996584b4383d2109d1cbaee53",
    "deepnote_cell_type": "code",
    "deepnote_table_loading": false,
    "deepnote_table_state": {
     "filters": [],
     "pageIndex": 0,
     "pageSize": 10,
     "sortBy": []
    },
    "deepnote_to_be_reexecuted": false,
    "execution_millis": 152,
    "execution_start": 1702516925370,
    "source_hash": null
   },
   "outputs": [
    {
     "data": {
      "application/vnd.deepnote.dataframe.v3+json": {
       "column_count": 7,
       "columns": [
        {
         "dtype": "int64",
         "name": "Temperature (K)",
         "stats": {
          "histogram": [
           {
            "bin_end": 5745.1,
            "bin_start": 1939,
            "count": 119
           },
           {
            "bin_end": 9551.2,
            "bin_start": 5745.1,
            "count": 28
           },
           {
            "bin_end": 13357.3,
            "bin_start": 9551.2,
            "count": 25
           },
           {
            "bin_end": 17163.4,
            "bin_start": 13357.3,
            "count": 16
           },
           {
            "bin_end": 20969.5,
            "bin_start": 17163.4,
            "count": 13
           },
           {
            "bin_end": 24775.6,
            "bin_start": 20969.5,
            "count": 15
           },
           {
            "bin_end": 28581.7,
            "bin_start": 24775.6,
            "count": 7
           },
           {
            "bin_end": 32387.8,
            "bin_start": 28581.7,
            "count": 4
           },
           {
            "bin_end": 36193.9,
            "bin_start": 32387.8,
            "count": 7
           },
           {
            "bin_end": 40000,
            "bin_start": 36193.9,
            "count": 6
           }
          ],
          "max": "40000",
          "min": "1939",
          "nan_count": 0,
          "unique_count": 228
         }
        },
        {
         "dtype": "float64",
         "name": "Luminosity(L/Lo)",
         "stats": {
          "histogram": [
           {
            "bin_end": 84942.000072,
            "bin_start": 8e-05,
            "count": 155
           },
           {
            "bin_end": 169884.000064,
            "bin_start": 84942.000072,
            "count": 15
           },
           {
            "bin_end": 254826.000056,
            "bin_start": 169884.000064,
            "count": 33
           },
           {
            "bin_end": 339768.000048,
            "bin_start": 254826.000056,
            "count": 13
           },
           {
            "bin_end": 424710.00004,
            "bin_start": 339768.000048,
            "count": 11
           },
           {
            "bin_end": 509652.000032,
            "bin_start": 424710.00004,
            "count": 1
           },
           {
            "bin_end": 594594.0000240001,
            "bin_start": 509652.000032,
            "count": 4
           },
           {
            "bin_end": 679536.000016,
            "bin_start": 594594.0000240001,
            "count": 2
           },
           {
            "bin_end": 764478.000008,
            "bin_start": 679536.000016,
            "count": 2
           },
           {
            "bin_end": 849420,
            "bin_start": 764478.000008,
            "count": 4
           }
          ],
          "max": "849420.0",
          "min": "8e-05",
          "nan_count": 0,
          "unique_count": 208
         }
        },
        {
         "dtype": "float64",
         "name": "Radius(R/Ro)",
         "stats": {
          "histogram": [
           {
            "bin_end": 194.85756,
            "bin_start": 0.0084,
            "count": 200
           },
           {
            "bin_end": 389.70672,
            "bin_start": 194.85756,
            "count": 0
           },
           {
            "bin_end": 584.5558800000001,
            "bin_start": 389.70672,
            "count": 0
           },
           {
            "bin_end": 779.4050400000001,
            "bin_start": 584.5558800000001,
            "count": 1
           },
           {
            "bin_end": 974.2542000000001,
            "bin_start": 779.4050400000001,
            "count": 2
           },
           {
            "bin_end": 1169.10336,
            "bin_start": 974.2542000000001,
            "count": 5
           },
           {
            "bin_end": 1363.95252,
            "bin_start": 1169.10336,
            "count": 14
           },
           {
            "bin_end": 1558.80168,
            "bin_start": 1363.95252,
            "count": 11
           },
           {
            "bin_end": 1753.65084,
            "bin_start": 1558.80168,
            "count": 4
           },
           {
            "bin_end": 1948.5,
            "bin_start": 1753.65084,
            "count": 3
           }
          ],
          "max": "1948.5",
          "min": "0.0084",
          "nan_count": 0,
          "unique_count": 216
         }
        },
        {
         "dtype": "float64",
         "name": "Absolute magnitude(Mv)",
         "stats": {
          "histogram": [
           {
            "bin_end": -8.722000000000001,
            "bin_start": -11.92,
            "count": 27
           },
           {
            "bin_end": -5.524000000000001,
            "bin_start": -8.722000000000001,
            "count": 52
           },
           {
            "bin_end": -2.3260000000000023,
            "bin_start": -5.524000000000001,
            "count": 17
           },
           {
            "bin_end": 0.8719999999999981,
            "bin_start": -2.3260000000000023,
            "count": 10
           },
           {
            "bin_end": 4.0699999999999985,
            "bin_start": 0.8719999999999981,
            "count": 6
           },
           {
            "bin_end": 7.267999999999995,
            "bin_start": 4.0699999999999985,
            "count": 8
           },
           {
            "bin_end": 10.465999999999996,
            "bin_start": 7.267999999999995,
            "count": 3
           },
           {
            "bin_end": 13.663999999999996,
            "bin_start": 10.465999999999996,
            "count": 55
           },
           {
            "bin_end": 16.861999999999995,
            "bin_start": 13.663999999999996,
            "count": 33
           },
           {
            "bin_end": 20.06,
            "bin_start": 16.861999999999995,
            "count": 29
           }
          ],
          "max": "20.06",
          "min": "-11.92",
          "nan_count": 0,
          "unique_count": 228
         }
        },
        {
         "dtype": "int64",
         "name": "Star type",
         "stats": {
          "histogram": [
           {
            "bin_end": 0.5,
            "bin_start": 0,
            "count": 40
           },
           {
            "bin_end": 1,
            "bin_start": 0.5,
            "count": 0
           },
           {
            "bin_end": 1.5,
            "bin_start": 1,
            "count": 40
           },
           {
            "bin_end": 2,
            "bin_start": 1.5,
            "count": 0
           },
           {
            "bin_end": 2.5,
            "bin_start": 2,
            "count": 40
           },
           {
            "bin_end": 3,
            "bin_start": 2.5,
            "count": 0
           },
           {
            "bin_end": 3.5,
            "bin_start": 3,
            "count": 40
           },
           {
            "bin_end": 4,
            "bin_start": 3.5,
            "count": 0
           },
           {
            "bin_end": 4.5,
            "bin_start": 4,
            "count": 40
           },
           {
            "bin_end": 5,
            "bin_start": 4.5,
            "count": 40
           }
          ],
          "max": "5",
          "min": "0",
          "nan_count": 0,
          "unique_count": 6
         }
        },
        {
         "dtype": "object",
         "name": "Star color",
         "stats": {
          "categories": [
           {
            "count": 112,
            "name": "Red"
           },
           {
            "count": 55,
            "name": "Blue"
           },
           {
            "count": 73,
            "name": "17 others"
           }
          ],
          "nan_count": 0,
          "unique_count": 19
         }
        },
        {
         "dtype": "object",
         "name": "Spectral Class",
         "stats": {
          "categories": [
           {
            "count": 111,
            "name": "M"
           },
           {
            "count": 46,
            "name": "B"
           },
           {
            "count": 83,
            "name": "5 others"
           }
          ],
          "nan_count": 0,
          "unique_count": 7
         }
        },
        {
         "dtype": "int64",
         "name": "_deepnote_index_column"
        }
       ],
       "row_count": 240,
       "rows": [
        {
         "Absolute magnitude(Mv)": 16.12,
         "Luminosity(L/Lo)": 0.0024,
         "Radius(R/Ro)": 0.17,
         "Spectral Class": "M",
         "Star color": "Red",
         "Star type": 0,
         "Temperature (K)": 3068,
         "_deepnote_index_column": 0
        },
        {
         "Absolute magnitude(Mv)": 16.6,
         "Luminosity(L/Lo)": 0.0005,
         "Radius(R/Ro)": 0.1542,
         "Spectral Class": "M",
         "Star color": "Red",
         "Star type": 0,
         "Temperature (K)": 3042,
         "_deepnote_index_column": 1
        },
        {
         "Absolute magnitude(Mv)": 18.7,
         "Luminosity(L/Lo)": 0.0003,
         "Radius(R/Ro)": 0.102,
         "Spectral Class": "M",
         "Star color": "Red",
         "Star type": 0,
         "Temperature (K)": 2600,
         "_deepnote_index_column": 2
        },
        {
         "Absolute magnitude(Mv)": 16.65,
         "Luminosity(L/Lo)": 0.0002,
         "Radius(R/Ro)": 0.16,
         "Spectral Class": "M",
         "Star color": "Red",
         "Star type": 0,
         "Temperature (K)": 2800,
         "_deepnote_index_column": 3
        },
        {
         "Absolute magnitude(Mv)": 20.06,
         "Luminosity(L/Lo)": 0.000138,
         "Radius(R/Ro)": 0.103,
         "Spectral Class": "M",
         "Star color": "Red",
         "Star type": 0,
         "Temperature (K)": 1939,
         "_deepnote_index_column": 4
        },
        {
         "Absolute magnitude(Mv)": 16.98,
         "Luminosity(L/Lo)": 0.00065,
         "Radius(R/Ro)": 0.11,
         "Spectral Class": "M",
         "Star color": "Red",
         "Star type": 0,
         "Temperature (K)": 2840,
         "_deepnote_index_column": 5
        },
        {
         "Absolute magnitude(Mv)": 17.22,
         "Luminosity(L/Lo)": 0.00073,
         "Radius(R/Ro)": 0.127,
         "Spectral Class": "M",
         "Star color": "Red",
         "Star type": 0,
         "Temperature (K)": 2637,
         "_deepnote_index_column": 6
        },
        {
         "Absolute magnitude(Mv)": 17.4,
         "Luminosity(L/Lo)": 0.0004,
         "Radius(R/Ro)": 0.096,
         "Spectral Class": "M",
         "Star color": "Red",
         "Star type": 0,
         "Temperature (K)": 2600,
         "_deepnote_index_column": 7
        },
        {
         "Absolute magnitude(Mv)": 17.45,
         "Luminosity(L/Lo)": 0.00069,
         "Radius(R/Ro)": 0.11,
         "Spectral Class": "M",
         "Star color": "Red",
         "Star type": 0,
         "Temperature (K)": 2650,
         "_deepnote_index_column": 8
        },
        {
         "Absolute magnitude(Mv)": 16.05,
         "Luminosity(L/Lo)": 0.00018,
         "Radius(R/Ro)": 0.13,
         "Spectral Class": "M",
         "Star color": "Red",
         "Star type": 0,
         "Temperature (K)": 2700,
         "_deepnote_index_column": 9
        }
       ]
      },
      "text/html": [
       "<div>\n",
       "<style scoped>\n",
       "    .dataframe tbody tr th:only-of-type {\n",
       "        vertical-align: middle;\n",
       "    }\n",
       "\n",
       "    .dataframe tbody tr th {\n",
       "        vertical-align: top;\n",
       "    }\n",
       "\n",
       "    .dataframe thead th {\n",
       "        text-align: right;\n",
       "    }\n",
       "</style>\n",
       "<table border=\"1\" class=\"dataframe\">\n",
       "  <thead>\n",
       "    <tr style=\"text-align: right;\">\n",
       "      <th></th>\n",
       "      <th>Temperature (K)</th>\n",
       "      <th>Luminosity(L/Lo)</th>\n",
       "      <th>Radius(R/Ro)</th>\n",
       "      <th>Absolute magnitude(Mv)</th>\n",
       "      <th>Star type</th>\n",
       "      <th>Star color</th>\n",
       "      <th>Spectral Class</th>\n",
       "    </tr>\n",
       "  </thead>\n",
       "  <tbody>\n",
       "    <tr>\n",
       "      <th>0</th>\n",
       "      <td>3068</td>\n",
       "      <td>0.002400</td>\n",
       "      <td>0.1700</td>\n",
       "      <td>16.12</td>\n",
       "      <td>0</td>\n",
       "      <td>Red</td>\n",
       "      <td>M</td>\n",
       "    </tr>\n",
       "    <tr>\n",
       "      <th>1</th>\n",
       "      <td>3042</td>\n",
       "      <td>0.000500</td>\n",
       "      <td>0.1542</td>\n",
       "      <td>16.60</td>\n",
       "      <td>0</td>\n",
       "      <td>Red</td>\n",
       "      <td>M</td>\n",
       "    </tr>\n",
       "    <tr>\n",
       "      <th>2</th>\n",
       "      <td>2600</td>\n",
       "      <td>0.000300</td>\n",
       "      <td>0.1020</td>\n",
       "      <td>18.70</td>\n",
       "      <td>0</td>\n",
       "      <td>Red</td>\n",
       "      <td>M</td>\n",
       "    </tr>\n",
       "    <tr>\n",
       "      <th>3</th>\n",
       "      <td>2800</td>\n",
       "      <td>0.000200</td>\n",
       "      <td>0.1600</td>\n",
       "      <td>16.65</td>\n",
       "      <td>0</td>\n",
       "      <td>Red</td>\n",
       "      <td>M</td>\n",
       "    </tr>\n",
       "    <tr>\n",
       "      <th>4</th>\n",
       "      <td>1939</td>\n",
       "      <td>0.000138</td>\n",
       "      <td>0.1030</td>\n",
       "      <td>20.06</td>\n",
       "      <td>0</td>\n",
       "      <td>Red</td>\n",
       "      <td>M</td>\n",
       "    </tr>\n",
       "    <tr>\n",
       "      <th>...</th>\n",
       "      <td>...</td>\n",
       "      <td>...</td>\n",
       "      <td>...</td>\n",
       "      <td>...</td>\n",
       "      <td>...</td>\n",
       "      <td>...</td>\n",
       "      <td>...</td>\n",
       "    </tr>\n",
       "    <tr>\n",
       "      <th>235</th>\n",
       "      <td>38940</td>\n",
       "      <td>374830.000000</td>\n",
       "      <td>1356.0000</td>\n",
       "      <td>-9.93</td>\n",
       "      <td>5</td>\n",
       "      <td>Blue</td>\n",
       "      <td>O</td>\n",
       "    </tr>\n",
       "    <tr>\n",
       "      <th>236</th>\n",
       "      <td>30839</td>\n",
       "      <td>834042.000000</td>\n",
       "      <td>1194.0000</td>\n",
       "      <td>-10.63</td>\n",
       "      <td>5</td>\n",
       "      <td>Blue</td>\n",
       "      <td>O</td>\n",
       "    </tr>\n",
       "    <tr>\n",
       "      <th>237</th>\n",
       "      <td>8829</td>\n",
       "      <td>537493.000000</td>\n",
       "      <td>1423.0000</td>\n",
       "      <td>-10.73</td>\n",
       "      <td>5</td>\n",
       "      <td>White</td>\n",
       "      <td>A</td>\n",
       "    </tr>\n",
       "    <tr>\n",
       "      <th>238</th>\n",
       "      <td>9235</td>\n",
       "      <td>404940.000000</td>\n",
       "      <td>1112.0000</td>\n",
       "      <td>-11.23</td>\n",
       "      <td>5</td>\n",
       "      <td>White</td>\n",
       "      <td>A</td>\n",
       "    </tr>\n",
       "    <tr>\n",
       "      <th>239</th>\n",
       "      <td>37882</td>\n",
       "      <td>294903.000000</td>\n",
       "      <td>1783.0000</td>\n",
       "      <td>-7.80</td>\n",
       "      <td>5</td>\n",
       "      <td>Blue</td>\n",
       "      <td>O</td>\n",
       "    </tr>\n",
       "  </tbody>\n",
       "</table>\n",
       "<p>240 rows × 7 columns</p>\n",
       "</div>"
      ],
      "text/plain": [
       "     Temperature (K)  Luminosity(L/Lo)  Radius(R/Ro)  Absolute magnitude(Mv)  \\\n",
       "0               3068          0.002400        0.1700                   16.12   \n",
       "1               3042          0.000500        0.1542                   16.60   \n",
       "2               2600          0.000300        0.1020                   18.70   \n",
       "3               2800          0.000200        0.1600                   16.65   \n",
       "4               1939          0.000138        0.1030                   20.06   \n",
       "..               ...               ...           ...                     ...   \n",
       "235            38940     374830.000000     1356.0000                   -9.93   \n",
       "236            30839     834042.000000     1194.0000                  -10.63   \n",
       "237             8829     537493.000000     1423.0000                  -10.73   \n",
       "238             9235     404940.000000     1112.0000                  -11.23   \n",
       "239            37882     294903.000000     1783.0000                   -7.80   \n",
       "\n",
       "     Star type Star color Spectral Class  \n",
       "0            0        Red              M  \n",
       "1            0        Red              M  \n",
       "2            0        Red              M  \n",
       "3            0        Red              M  \n",
       "4            0        Red              M  \n",
       "..         ...        ...            ...  \n",
       "235          5       Blue              O  \n",
       "236          5       Blue              O  \n",
       "237          5      White              A  \n",
       "238          5      White              A  \n",
       "239          5       Blue              O  \n",
       "\n",
       "[240 rows x 7 columns]"
      ]
     },
     "execution_count": 239,
     "metadata": {},
     "output_type": "execute_result"
    }
   ],
   "source": [
    "import pandas as pd\n",
    "\n",
    "star_data = pd.read_csv(\"6 class csv.csv\")\n",
    "star_data = star_data.dropna(axis = 1)\n",
    "star_data"
   ]
  },
  {
   "cell_type": "code",
   "execution_count": null,
   "metadata": {
    "cell_id": "f6b346f7b08144a88b3f700e8b7dfe37",
    "deepnote_cell_type": "code",
    "deepnote_to_be_reexecuted": false,
    "execution_millis": 13,
    "execution_start": 1702516928420,
    "source_hash": null
   },
   "outputs": [
    {
     "data": {
      "application/vnd.deepnote.dataframe.v3+json": {
       "column_count": 5,
       "columns": [
        {
         "dtype": "float64",
         "name": "Temperature (K)",
         "stats": {
          "histogram": [
           {
            "bin_end": 4216,
            "bin_start": 240,
            "count": 3
           },
           {
            "bin_end": 8192,
            "bin_start": 4216,
            "count": 1
           },
           {
            "bin_end": 12168,
            "bin_start": 8192,
            "count": 2
           },
           {
            "bin_end": 16144,
            "bin_start": 12168,
            "count": 1
           },
           {
            "bin_end": 20120,
            "bin_start": 16144,
            "count": 0
           },
           {
            "bin_end": 24096,
            "bin_start": 20120,
            "count": 0
           },
           {
            "bin_end": 28072,
            "bin_start": 24096,
            "count": 0
           },
           {
            "bin_end": 32048,
            "bin_start": 28072,
            "count": 0
           },
           {
            "bin_end": 36024,
            "bin_start": 32048,
            "count": 0
           },
           {
            "bin_end": 40000,
            "bin_start": 36024,
            "count": 1
           }
          ],
          "max": "40000.0",
          "min": "240.0",
          "nan_count": 0,
          "unique_count": 8
         }
        },
        {
         "dtype": "float64",
         "name": "Luminosity(L/Lo)",
         "stats": {
          "histogram": [
           {
            "bin_end": 84942.000072,
            "bin_start": 8e-05,
            "count": 4
           },
           {
            "bin_end": 169884.000064,
            "bin_start": 84942.000072,
            "count": 1
           },
           {
            "bin_end": 254826.000056,
            "bin_start": 169884.000064,
            "count": 2
           },
           {
            "bin_end": 339768.000048,
            "bin_start": 254826.000056,
            "count": 0
           },
           {
            "bin_end": 424710.00004,
            "bin_start": 339768.000048,
            "count": 0
           },
           {
            "bin_end": 509652.000032,
            "bin_start": 424710.00004,
            "count": 0
           },
           {
            "bin_end": 594594.0000240001,
            "bin_start": 509652.000032,
            "count": 0
           },
           {
            "bin_end": 679536.000016,
            "bin_start": 594594.0000240001,
            "count": 0
           },
           {
            "bin_end": 764478.000008,
            "bin_start": 679536.000016,
            "count": 0
           },
           {
            "bin_end": 849420,
            "bin_start": 764478.000008,
            "count": 1
           }
          ],
          "max": "849420.0",
          "min": "8e-05",
          "nan_count": 0,
          "unique_count": 8
         }
        },
        {
         "dtype": "float64",
         "name": "Radius(R/Ro)",
         "stats": {
          "histogram": [
           {
            "bin_end": 194.85756,
            "bin_start": 0.0084,
            "count": 4
           },
           {
            "bin_end": 389.70672,
            "bin_start": 194.85756,
            "count": 2
           },
           {
            "bin_end": 584.5558800000001,
            "bin_start": 389.70672,
            "count": 1
           },
           {
            "bin_end": 779.4050400000001,
            "bin_start": 584.5558800000001,
            "count": 0
           },
           {
            "bin_end": 974.2542000000001,
            "bin_start": 779.4050400000001,
            "count": 0
           },
           {
            "bin_end": 1169.10336,
            "bin_start": 974.2542000000001,
            "count": 0
           },
           {
            "bin_end": 1363.95252,
            "bin_start": 1169.10336,
            "count": 0
           },
           {
            "bin_end": 1558.80168,
            "bin_start": 1363.95252,
            "count": 0
           },
           {
            "bin_end": 1753.65084,
            "bin_start": 1558.80168,
            "count": 0
           },
           {
            "bin_end": 1948.5,
            "bin_start": 1753.65084,
            "count": 1
           }
          ],
          "max": "1948.5",
          "min": "0.0084",
          "nan_count": 0,
          "unique_count": 8
         }
        },
        {
         "dtype": "float64",
         "name": "Absolute magnitude(Mv)",
         "stats": {
          "histogram": [
           {
            "bin_end": 13.272,
            "bin_start": -11.92,
            "count": 5
           },
           {
            "bin_end": 38.464,
            "bin_start": 13.272,
            "count": 2
           },
           {
            "bin_end": 63.65599999999999,
            "bin_start": 38.464,
            "count": 0
           },
           {
            "bin_end": 88.848,
            "bin_start": 63.65599999999999,
            "count": 0
           },
           {
            "bin_end": 114.04,
            "bin_start": 88.848,
            "count": 0
           },
           {
            "bin_end": 139.232,
            "bin_start": 114.04,
            "count": 0
           },
           {
            "bin_end": 164.424,
            "bin_start": 139.232,
            "count": 0
           },
           {
            "bin_end": 189.616,
            "bin_start": 164.424,
            "count": 0
           },
           {
            "bin_end": 214.80800000000002,
            "bin_start": 189.616,
            "count": 0
           },
           {
            "bin_end": 240,
            "bin_start": 214.80800000000002,
            "count": 1
           }
          ],
          "max": "240.0",
          "min": "-11.92",
          "nan_count": 0,
          "unique_count": 8
         }
        },
        {
         "dtype": "float64",
         "name": "Star type",
         "stats": {
          "histogram": [
           {
            "bin_end": 24,
            "bin_start": 0,
            "count": 7
           },
           {
            "bin_end": 48,
            "bin_start": 24,
            "count": 0
           },
           {
            "bin_end": 72,
            "bin_start": 48,
            "count": 0
           },
           {
            "bin_end": 96,
            "bin_start": 72,
            "count": 0
           },
           {
            "bin_end": 120,
            "bin_start": 96,
            "count": 0
           },
           {
            "bin_end": 144,
            "bin_start": 120,
            "count": 0
           },
           {
            "bin_end": 168,
            "bin_start": 144,
            "count": 0
           },
           {
            "bin_end": 192,
            "bin_start": 168,
            "count": 0
           },
           {
            "bin_end": 216,
            "bin_start": 192,
            "count": 0
           },
           {
            "bin_end": 240,
            "bin_start": 216,
            "count": 1
           }
          ],
          "max": "240.0",
          "min": "0.0",
          "nan_count": 0,
          "unique_count": 7
         }
        },
        {
         "dtype": "object",
         "name": "_deepnote_index_column"
        }
       ],
       "row_count": 8,
       "rows": [
        {
         "Absolute magnitude(Mv)": 240,
         "Luminosity(L/Lo)": 240,
         "Radius(R/Ro)": 240,
         "Star type": 240,
         "Temperature (K)": 240,
         "_deepnote_index_column": "count"
        },
        {
         "Absolute magnitude(Mv)": 4.382395833333334,
         "Luminosity(L/Lo)": 107188.36163460833,
         "Radius(R/Ro)": 237.157781375,
         "Star type": 2.5,
         "Temperature (K)": 10497.4625,
         "_deepnote_index_column": "mean"
        },
        {
         "Absolute magnitude(Mv)": 10.53251235061617,
         "Luminosity(L/Lo)": 179432.2449402145,
         "Radius(R/Ro)": 517.1557634028478,
         "Star type": 1.7113942540767833,
         "Temperature (K)": 9552.425037164023,
         "_deepnote_index_column": "std"
        },
        {
         "Absolute magnitude(Mv)": -11.92,
         "Luminosity(L/Lo)": 8e-05,
         "Radius(R/Ro)": 0.0084,
         "Star type": 0,
         "Temperature (K)": 1939,
         "_deepnote_index_column": "min"
        },
        {
         "Absolute magnitude(Mv)": -6.2325,
         "Luminosity(L/Lo)": 0.0008647500000000001,
         "Radius(R/Ro)": 0.10275,
         "Star type": 1,
         "Temperature (K)": 3344.25,
         "_deepnote_index_column": "25%"
        },
        {
         "Absolute magnitude(Mv)": 8.312999999999999,
         "Luminosity(L/Lo)": 0.07050000000000001,
         "Radius(R/Ro)": 0.7625,
         "Star type": 2.5,
         "Temperature (K)": 5776,
         "_deepnote_index_column": "50%"
        },
        {
         "Absolute magnitude(Mv)": 13.6975,
         "Luminosity(L/Lo)": 198050,
         "Radius(R/Ro)": 42.75,
         "Star type": 4,
         "Temperature (K)": 15055.5,
         "_deepnote_index_column": "75%"
        },
        {
         "Absolute magnitude(Mv)": 20.06,
         "Luminosity(L/Lo)": 849420,
         "Radius(R/Ro)": 1948.5,
         "Star type": 5,
         "Temperature (K)": 40000,
         "_deepnote_index_column": "max"
        }
       ]
      },
      "text/html": [
       "<div>\n",
       "<style scoped>\n",
       "    .dataframe tbody tr th:only-of-type {\n",
       "        vertical-align: middle;\n",
       "    }\n",
       "\n",
       "    .dataframe tbody tr th {\n",
       "        vertical-align: top;\n",
       "    }\n",
       "\n",
       "    .dataframe thead th {\n",
       "        text-align: right;\n",
       "    }\n",
       "</style>\n",
       "<table border=\"1\" class=\"dataframe\">\n",
       "  <thead>\n",
       "    <tr style=\"text-align: right;\">\n",
       "      <th></th>\n",
       "      <th>Temperature (K)</th>\n",
       "      <th>Luminosity(L/Lo)</th>\n",
       "      <th>Radius(R/Ro)</th>\n",
       "      <th>Absolute magnitude(Mv)</th>\n",
       "      <th>Star type</th>\n",
       "    </tr>\n",
       "  </thead>\n",
       "  <tbody>\n",
       "    <tr>\n",
       "      <th>count</th>\n",
       "      <td>240.000000</td>\n",
       "      <td>240.000000</td>\n",
       "      <td>240.000000</td>\n",
       "      <td>240.000000</td>\n",
       "      <td>240.000000</td>\n",
       "    </tr>\n",
       "    <tr>\n",
       "      <th>mean</th>\n",
       "      <td>10497.462500</td>\n",
       "      <td>107188.361635</td>\n",
       "      <td>237.157781</td>\n",
       "      <td>4.382396</td>\n",
       "      <td>2.500000</td>\n",
       "    </tr>\n",
       "    <tr>\n",
       "      <th>std</th>\n",
       "      <td>9552.425037</td>\n",
       "      <td>179432.244940</td>\n",
       "      <td>517.155763</td>\n",
       "      <td>10.532512</td>\n",
       "      <td>1.711394</td>\n",
       "    </tr>\n",
       "    <tr>\n",
       "      <th>min</th>\n",
       "      <td>1939.000000</td>\n",
       "      <td>0.000080</td>\n",
       "      <td>0.008400</td>\n",
       "      <td>-11.920000</td>\n",
       "      <td>0.000000</td>\n",
       "    </tr>\n",
       "    <tr>\n",
       "      <th>25%</th>\n",
       "      <td>3344.250000</td>\n",
       "      <td>0.000865</td>\n",
       "      <td>0.102750</td>\n",
       "      <td>-6.232500</td>\n",
       "      <td>1.000000</td>\n",
       "    </tr>\n",
       "    <tr>\n",
       "      <th>50%</th>\n",
       "      <td>5776.000000</td>\n",
       "      <td>0.070500</td>\n",
       "      <td>0.762500</td>\n",
       "      <td>8.313000</td>\n",
       "      <td>2.500000</td>\n",
       "    </tr>\n",
       "    <tr>\n",
       "      <th>75%</th>\n",
       "      <td>15055.500000</td>\n",
       "      <td>198050.000000</td>\n",
       "      <td>42.750000</td>\n",
       "      <td>13.697500</td>\n",
       "      <td>4.000000</td>\n",
       "    </tr>\n",
       "    <tr>\n",
       "      <th>max</th>\n",
       "      <td>40000.000000</td>\n",
       "      <td>849420.000000</td>\n",
       "      <td>1948.500000</td>\n",
       "      <td>20.060000</td>\n",
       "      <td>5.000000</td>\n",
       "    </tr>\n",
       "  </tbody>\n",
       "</table>\n",
       "</div>"
      ],
      "text/plain": [
       "       Temperature (K)  Luminosity(L/Lo)  Radius(R/Ro)  \\\n",
       "count       240.000000        240.000000    240.000000   \n",
       "mean      10497.462500     107188.361635    237.157781   \n",
       "std        9552.425037     179432.244940    517.155763   \n",
       "min        1939.000000          0.000080      0.008400   \n",
       "25%        3344.250000          0.000865      0.102750   \n",
       "50%        5776.000000          0.070500      0.762500   \n",
       "75%       15055.500000     198050.000000     42.750000   \n",
       "max       40000.000000     849420.000000   1948.500000   \n",
       "\n",
       "       Absolute magnitude(Mv)   Star type  \n",
       "count              240.000000  240.000000  \n",
       "mean                 4.382396    2.500000  \n",
       "std                 10.532512    1.711394  \n",
       "min                -11.920000    0.000000  \n",
       "25%                 -6.232500    1.000000  \n",
       "50%                  8.313000    2.500000  \n",
       "75%                 13.697500    4.000000  \n",
       "max                 20.060000    5.000000  "
      ]
     },
     "execution_count": 240,
     "metadata": {},
     "output_type": "execute_result"
    }
   ],
   "source": [
    "star_data.describe()"
   ]
  },
  {
   "cell_type": "markdown",
   "metadata": {
    "cell_id": "71ab616a56df48e890d02e231edd2b53",
    "deepnote_cell_type": "markdown"
   },
   "source": [
    "## Graphical Relationship of Luminosity and Temperature for Spectral Class"
   ]
  },
  {
   "cell_type": "code",
   "execution_count": null,
   "metadata": {
    "cell_id": "0895cb9564e2458bae978514797e8450",
    "deepnote_cell_type": "code",
    "deepnote_to_be_reexecuted": false,
    "execution_millis": 24,
    "execution_start": 1702516930865,
    "source_hash": null
   },
   "outputs": [
    {
     "data": {
      "text/html": [
       "\n",
       "<div id=\"altair-viz-9209a054175e486c9ee38b8f113045da\"></div>\n",
       "<script type=\"text/javascript\">\n",
       "  var VEGA_DEBUG = (typeof VEGA_DEBUG == \"undefined\") ? {} : VEGA_DEBUG;\n",
       "  (function(spec, embedOpt){\n",
       "    let outputDiv = document.currentScript.previousElementSibling;\n",
       "    if (outputDiv.id !== \"altair-viz-9209a054175e486c9ee38b8f113045da\") {\n",
       "      outputDiv = document.getElementById(\"altair-viz-9209a054175e486c9ee38b8f113045da\");\n",
       "    }\n",
       "    const paths = {\n",
       "      \"vega\": \"https://cdn.jsdelivr.net/npm//vega@5?noext\",\n",
       "      \"vega-lib\": \"https://cdn.jsdelivr.net/npm//vega-lib?noext\",\n",
       "      \"vega-lite\": \"https://cdn.jsdelivr.net/npm//vega-lite@4.17.0?noext\",\n",
       "      \"vega-embed\": \"https://cdn.jsdelivr.net/npm//vega-embed@6?noext\",\n",
       "    };\n",
       "\n",
       "    function maybeLoadScript(lib, version) {\n",
       "      var key = `${lib.replace(\"-\", \"\")}_version`;\n",
       "      return (VEGA_DEBUG[key] == version) ?\n",
       "        Promise.resolve(paths[lib]) :\n",
       "        new Promise(function(resolve, reject) {\n",
       "          var s = document.createElement('script');\n",
       "          document.getElementsByTagName(\"head\")[0].appendChild(s);\n",
       "          s.async = true;\n",
       "          s.onload = () => {\n",
       "            VEGA_DEBUG[key] = version;\n",
       "            return resolve(paths[lib]);\n",
       "          };\n",
       "          s.onerror = () => reject(`Error loading script: ${paths[lib]}`);\n",
       "          s.src = paths[lib];\n",
       "        });\n",
       "    }\n",
       "\n",
       "    function showError(err) {\n",
       "      outputDiv.innerHTML = `<div class=\"error\" style=\"color:red;\">${err}</div>`;\n",
       "      throw err;\n",
       "    }\n",
       "\n",
       "    function displayChart(vegaEmbed) {\n",
       "      vegaEmbed(outputDiv, spec, embedOpt)\n",
       "        .catch(err => showError(`Javascript Error: ${err.message}<br>This usually means there's a typo in your chart specification. See the javascript console for the full traceback.`));\n",
       "    }\n",
       "\n",
       "    if(typeof define === \"function\" && define.amd) {\n",
       "      requirejs.config({paths});\n",
       "      require([\"vega-embed\"], displayChart, err => showError(`Error loading script: ${err.message}`));\n",
       "    } else {\n",
       "      maybeLoadScript(\"vega\", \"5\")\n",
       "        .then(() => maybeLoadScript(\"vega-lite\", \"4.17.0\"))\n",
       "        .then(() => maybeLoadScript(\"vega-embed\", \"6\"))\n",
       "        .catch(showError)\n",
       "        .then(() => displayChart(vegaEmbed));\n",
       "    }\n",
       "  })({\"config\": {\"view\": {\"continuousWidth\": 400, \"continuousHeight\": 300}}, \"data\": {\"name\": \"data-d4116e481af0db509e2ea7b6f441218f\"}, \"mark\": \"circle\", \"encoding\": {\"color\": {\"field\": \"Spectral Class\", \"type\": \"nominal\"}, \"x\": {\"field\": \"Luminosity(L/Lo)\", \"scale\": {\"domain\": [1e-05, 10000000], \"type\": \"log\"}, \"type\": \"quantitative\"}, \"y\": {\"field\": \"Temperature (K)\", \"type\": \"quantitative\"}}, \"$schema\": \"https://vega.github.io/schema/vega-lite/v4.17.0.json\", \"datasets\": {\"data-d4116e481af0db509e2ea7b6f441218f\": [{\"Temperature (K)\": 3068, \"Luminosity(L/Lo)\": 0.0024, \"Radius(R/Ro)\": 0.17, \"Absolute magnitude(Mv)\": 16.12, \"Star type\": 0, \"Star color\": \"Red\", \"Spectral Class\": \"M\"}, {\"Temperature (K)\": 3042, \"Luminosity(L/Lo)\": 0.0005, \"Radius(R/Ro)\": 0.1542, \"Absolute magnitude(Mv)\": 16.6, \"Star type\": 0, \"Star color\": \"Red\", \"Spectral Class\": \"M\"}, {\"Temperature (K)\": 2600, \"Luminosity(L/Lo)\": 0.0003, \"Radius(R/Ro)\": 0.102, \"Absolute magnitude(Mv)\": 18.7, \"Star type\": 0, \"Star color\": \"Red\", \"Spectral Class\": \"M\"}, {\"Temperature (K)\": 2800, \"Luminosity(L/Lo)\": 0.0002, \"Radius(R/Ro)\": 0.16, \"Absolute magnitude(Mv)\": 16.65, \"Star type\": 0, \"Star color\": \"Red\", \"Spectral Class\": \"M\"}, {\"Temperature (K)\": 1939, \"Luminosity(L/Lo)\": 0.000138, \"Radius(R/Ro)\": 0.103, \"Absolute magnitude(Mv)\": 20.06, \"Star type\": 0, \"Star color\": \"Red\", \"Spectral Class\": \"M\"}, {\"Temperature (K)\": 2840, \"Luminosity(L/Lo)\": 0.00065, \"Radius(R/Ro)\": 0.11, \"Absolute magnitude(Mv)\": 16.98, \"Star type\": 0, \"Star color\": \"Red\", \"Spectral Class\": \"M\"}, {\"Temperature (K)\": 2637, \"Luminosity(L/Lo)\": 0.00073, \"Radius(R/Ro)\": 0.127, \"Absolute magnitude(Mv)\": 17.22, \"Star type\": 0, \"Star color\": \"Red\", \"Spectral Class\": \"M\"}, {\"Temperature (K)\": 2600, \"Luminosity(L/Lo)\": 0.0004, \"Radius(R/Ro)\": 0.096, \"Absolute magnitude(Mv)\": 17.4, \"Star type\": 0, \"Star color\": \"Red\", \"Spectral Class\": \"M\"}, {\"Temperature (K)\": 2650, \"Luminosity(L/Lo)\": 0.00069, \"Radius(R/Ro)\": 0.11, \"Absolute magnitude(Mv)\": 17.45, \"Star type\": 0, \"Star color\": \"Red\", \"Spectral Class\": \"M\"}, {\"Temperature (K)\": 2700, \"Luminosity(L/Lo)\": 0.00018, \"Radius(R/Ro)\": 0.13, \"Absolute magnitude(Mv)\": 16.05, \"Star type\": 0, \"Star color\": \"Red\", \"Spectral Class\": \"M\"}, {\"Temperature (K)\": 3600, \"Luminosity(L/Lo)\": 0.0029, \"Radius(R/Ro)\": 0.51, \"Absolute magnitude(Mv)\": 10.69, \"Star type\": 1, \"Star color\": \"Red\", \"Spectral Class\": \"M\"}, {\"Temperature (K)\": 3129, \"Luminosity(L/Lo)\": 0.0122, \"Radius(R/Ro)\": 0.3761, \"Absolute magnitude(Mv)\": 11.79, \"Star type\": 1, \"Star color\": \"Red\", \"Spectral Class\": \"M\"}, {\"Temperature (K)\": 3134, \"Luminosity(L/Lo)\": 0.0004, \"Radius(R/Ro)\": 0.196, \"Absolute magnitude(Mv)\": 13.21, \"Star type\": 1, \"Star color\": \"Red\", \"Spectral Class\": \"M\"}, {\"Temperature (K)\": 3628, \"Luminosity(L/Lo)\": 0.0055, \"Radius(R/Ro)\": 0.393, \"Absolute magnitude(Mv)\": 10.48, \"Star type\": 1, \"Star color\": \"Red\", \"Spectral Class\": \"M\"}, {\"Temperature (K)\": 2650, \"Luminosity(L/Lo)\": 0.0006, \"Radius(R/Ro)\": 0.14, \"Absolute magnitude(Mv)\": 11.782, \"Star type\": 1, \"Star color\": \"Red\", \"Spectral Class\": \"M\"}, {\"Temperature (K)\": 3340, \"Luminosity(L/Lo)\": 0.0038, \"Radius(R/Ro)\": 0.24, \"Absolute magnitude(Mv)\": 13.07, \"Star type\": 1, \"Star color\": \"Red\", \"Spectral Class\": \"M\"}, {\"Temperature (K)\": 2799, \"Luminosity(L/Lo)\": 0.0018, \"Radius(R/Ro)\": 0.16, \"Absolute magnitude(Mv)\": 14.79, \"Star type\": 1, \"Star color\": \"Red\", \"Spectral Class\": \"M\"}, {\"Temperature (K)\": 3692, \"Luminosity(L/Lo)\": 0.00367, \"Radius(R/Ro)\": 0.47, \"Absolute magnitude(Mv)\": 10.8, \"Star type\": 1, \"Star color\": \"Red\", \"Spectral Class\": \"M\"}, {\"Temperature (K)\": 3192, \"Luminosity(L/Lo)\": 0.00362, \"Radius(R/Ro)\": 0.1967, \"Absolute magnitude(Mv)\": 13.53, \"Star type\": 1, \"Star color\": \"Red\", \"Spectral Class\": \"M\"}, {\"Temperature (K)\": 3441, \"Luminosity(L/Lo)\": 0.039, \"Radius(R/Ro)\": 0.351, \"Absolute magnitude(Mv)\": 11.18, \"Star type\": 1, \"Star color\": \"Red\", \"Spectral Class\": \"M\"}, {\"Temperature (K)\": 25000, \"Luminosity(L/Lo)\": 0.056, \"Radius(R/Ro)\": 0.0084, \"Absolute magnitude(Mv)\": 10.58, \"Star type\": 2, \"Star color\": \"Blue White\", \"Spectral Class\": \"B\"}, {\"Temperature (K)\": 7740, \"Luminosity(L/Lo)\": 0.00049, \"Radius(R/Ro)\": 0.01234, \"Absolute magnitude(Mv)\": 14.02, \"Star type\": 2, \"Star color\": \"White\", \"Spectral Class\": \"A\"}, {\"Temperature (K)\": 7220, \"Luminosity(L/Lo)\": 0.00017, \"Radius(R/Ro)\": 0.011, \"Absolute magnitude(Mv)\": 14.23, \"Star type\": 2, \"Star color\": \"White\", \"Spectral Class\": \"F\"}, {\"Temperature (K)\": 8500, \"Luminosity(L/Lo)\": 0.0005, \"Radius(R/Ro)\": 0.01, \"Absolute magnitude(Mv)\": 14.5, \"Star type\": 2, \"Star color\": \"White\", \"Spectral Class\": \"A\"}, {\"Temperature (K)\": 16500, \"Luminosity(L/Lo)\": 0.013, \"Radius(R/Ro)\": 0.014, \"Absolute magnitude(Mv)\": 11.89, \"Star type\": 2, \"Star color\": \"Blue White\", \"Spectral Class\": \"B\"}, {\"Temperature (K)\": 12990, \"Luminosity(L/Lo)\": 8.5e-05, \"Radius(R/Ro)\": 0.00984, \"Absolute magnitude(Mv)\": 12.23, \"Star type\": 2, \"Star color\": \"Yellowish White\", \"Spectral Class\": \"F\"}, {\"Temperature (K)\": 8570, \"Luminosity(L/Lo)\": 0.00081, \"Radius(R/Ro)\": 0.0097, \"Absolute magnitude(Mv)\": 14.2, \"Star type\": 2, \"Star color\": \"Blue white\", \"Spectral Class\": \"A\"}, {\"Temperature (K)\": 7700, \"Luminosity(L/Lo)\": 0.00011, \"Radius(R/Ro)\": 0.0128, \"Absolute magnitude(Mv)\": 14.47, \"Star type\": 2, \"Star color\": \"Yellowish White\", \"Spectral Class\": \"F\"}, {\"Temperature (K)\": 11790, \"Luminosity(L/Lo)\": 0.00015, \"Radius(R/Ro)\": 0.011, \"Absolute magnitude(Mv)\": 12.59, \"Star type\": 2, \"Star color\": \"Yellowish White\", \"Spectral Class\": \"F\"}, {\"Temperature (K)\": 7230, \"Luminosity(L/Lo)\": 8e-05, \"Radius(R/Ro)\": 0.013, \"Absolute magnitude(Mv)\": 14.08, \"Star type\": 2, \"Star color\": \"Pale yellow orange\", \"Spectral Class\": \"F\"}, {\"Temperature (K)\": 39000, \"Luminosity(L/Lo)\": 204000.0, \"Radius(R/Ro)\": 10.6, \"Absolute magnitude(Mv)\": -4.7, \"Star type\": 3, \"Star color\": \"Blue\", \"Spectral Class\": \"O\"}, {\"Temperature (K)\": 30000, \"Luminosity(L/Lo)\": 28840.0, \"Radius(R/Ro)\": 6.3, \"Absolute magnitude(Mv)\": -4.2, \"Star type\": 3, \"Star color\": \"Blue-white\", \"Spectral Class\": \"B\"}, {\"Temperature (K)\": 15276, \"Luminosity(L/Lo)\": 1136.0, \"Radius(R/Ro)\": 7.2, \"Absolute magnitude(Mv)\": -1.97, \"Star type\": 3, \"Star color\": \"Blue-white\", \"Spectral Class\": \"B\"}, {\"Temperature (K)\": 9700, \"Luminosity(L/Lo)\": 74.0, \"Radius(R/Ro)\": 2.89, \"Absolute magnitude(Mv)\": 0.16, \"Star type\": 3, \"Star color\": \"Whitish\", \"Spectral Class\": \"B\"}, {\"Temperature (K)\": 5800, \"Luminosity(L/Lo)\": 0.81, \"Radius(R/Ro)\": 0.9, \"Absolute magnitude(Mv)\": 5.05, \"Star type\": 3, \"Star color\": \"yellow-white\", \"Spectral Class\": \"F\"}, {\"Temperature (K)\": 8052, \"Luminosity(L/Lo)\": 8.7, \"Radius(R/Ro)\": 1.8, \"Absolute magnitude(Mv)\": 2.42, \"Star type\": 3, \"Star color\": \"Whitish\", \"Spectral Class\": \"A\"}, {\"Temperature (K)\": 6757, \"Luminosity(L/Lo)\": 1.43, \"Radius(R/Ro)\": 1.12, \"Absolute magnitude(Mv)\": 2.41, \"Star type\": 3, \"Star color\": \"yellow-white\", \"Spectral Class\": \"F\"}, {\"Temperature (K)\": 6380, \"Luminosity(L/Lo)\": 1.35, \"Radius(R/Ro)\": 0.98, \"Absolute magnitude(Mv)\": 2.93, \"Star type\": 3, \"Star color\": \"yellow-white\", \"Spectral Class\": \"F\"}, {\"Temperature (K)\": 5936, \"Luminosity(L/Lo)\": 1.357, \"Radius(R/Ro)\": 1.106, \"Absolute magnitude(Mv)\": 4.46, \"Star type\": 3, \"Star color\": \"yellow-white\", \"Spectral Class\": \"F\"}, {\"Temperature (K)\": 5587, \"Luminosity(L/Lo)\": 0.819, \"Radius(R/Ro)\": 0.99, \"Absolute magnitude(Mv)\": 5.03, \"Star type\": 3, \"Star color\": \"yellow-white\", \"Spectral Class\": \"F\"}, {\"Temperature (K)\": 3826, \"Luminosity(L/Lo)\": 200000.0, \"Radius(R/Ro)\": 19.0, \"Absolute magnitude(Mv)\": -6.93, \"Star type\": 4, \"Star color\": \"Red\", \"Spectral Class\": \"M\"}, {\"Temperature (K)\": 3365, \"Luminosity(L/Lo)\": 340000.0, \"Radius(R/Ro)\": 23.0, \"Absolute magnitude(Mv)\": -6.2, \"Star type\": 4, \"Star color\": \"Red\", \"Spectral Class\": \"M\"}, {\"Temperature (K)\": 3270, \"Luminosity(L/Lo)\": 150000.0, \"Radius(R/Ro)\": 88.0, \"Absolute magnitude(Mv)\": -6.02, \"Star type\": 4, \"Star color\": \"Red\", \"Spectral Class\": \"M\"}, {\"Temperature (K)\": 3200, \"Luminosity(L/Lo)\": 195000.0, \"Radius(R/Ro)\": 17.0, \"Absolute magnitude(Mv)\": -7.22, \"Star type\": 4, \"Star color\": \"Red\", \"Spectral Class\": \"M\"}, {\"Temperature (K)\": 3008, \"Luminosity(L/Lo)\": 280000.0, \"Radius(R/Ro)\": 25.0, \"Absolute magnitude(Mv)\": -6.0, \"Star type\": 4, \"Star color\": \"Red\", \"Spectral Class\": \"M\"}, {\"Temperature (K)\": 3600, \"Luminosity(L/Lo)\": 320000.0, \"Radius(R/Ro)\": 29.0, \"Absolute magnitude(Mv)\": -6.6, \"Star type\": 4, \"Star color\": \"Red\", \"Spectral Class\": \"M\"}, {\"Temperature (K)\": 3575, \"Luminosity(L/Lo)\": 123000.0, \"Radius(R/Ro)\": 45.0, \"Absolute magnitude(Mv)\": -6.78, \"Star type\": 4, \"Star color\": \"Red\", \"Spectral Class\": \"M\"}, {\"Temperature (K)\": 3574, \"Luminosity(L/Lo)\": 200000.0, \"Radius(R/Ro)\": 89.0, \"Absolute magnitude(Mv)\": -5.24, \"Star type\": 4, \"Star color\": \"Red\", \"Spectral Class\": \"M\"}, {\"Temperature (K)\": 3625, \"Luminosity(L/Lo)\": 184000.0, \"Radius(R/Ro)\": 84.0, \"Absolute magnitude(Mv)\": -6.74, \"Star type\": 4, \"Star color\": \"Red\", \"Spectral Class\": \"M\"}, {\"Temperature (K)\": 33750, \"Luminosity(L/Lo)\": 220000.0, \"Radius(R/Ro)\": 26.0, \"Absolute magnitude(Mv)\": -6.1, \"Star type\": 4, \"Star color\": \"Blue\", \"Spectral Class\": \"B\"}, {\"Temperature (K)\": 3490, \"Luminosity(L/Lo)\": 270000.0, \"Radius(R/Ro)\": 1520.0, \"Absolute magnitude(Mv)\": -9.4, \"Star type\": 5, \"Star color\": \"Red\", \"Spectral Class\": \"M\"}, {\"Temperature (K)\": 3750, \"Luminosity(L/Lo)\": 283000.0, \"Radius(R/Ro)\": 1260.0, \"Absolute magnitude(Mv)\": -7.63, \"Star type\": 5, \"Star color\": \"Red\", \"Spectral Class\": \"M\"}, {\"Temperature (K)\": 3834, \"Luminosity(L/Lo)\": 272000.0, \"Radius(R/Ro)\": 1183.0, \"Absolute magnitude(Mv)\": -9.2, \"Star type\": 5, \"Star color\": \"Red\", \"Spectral Class\": \"M\"}, {\"Temperature (K)\": 3749, \"Luminosity(L/Lo)\": 550000.0, \"Radius(R/Ro)\": 1648.0, \"Absolute magnitude(Mv)\": -8.05, \"Star type\": 5, \"Star color\": \"Orange\", \"Spectral Class\": \"M\"}, {\"Temperature (K)\": 3650, \"Luminosity(L/Lo)\": 310000.0, \"Radius(R/Ro)\": 1324.0, \"Absolute magnitude(Mv)\": -7.79, \"Star type\": 5, \"Star color\": \"Red\", \"Spectral Class\": \"M\"}, {\"Temperature (K)\": 3450, \"Luminosity(L/Lo)\": 263000.0, \"Radius(R/Ro)\": 1349.0, \"Absolute magnitude(Mv)\": -11.75, \"Star type\": 5, \"Star color\": \"Red\", \"Spectral Class\": \"M\"}, {\"Temperature (K)\": 3660, \"Luminosity(L/Lo)\": 363000.0, \"Radius(R/Ro)\": 1673.0, \"Absolute magnitude(Mv)\": -11.92, \"Star type\": 5, \"Star color\": \"Red\", \"Spectral Class\": \"M\"}, {\"Temperature (K)\": 3450, \"Luminosity(L/Lo)\": 174000.0, \"Radius(R/Ro)\": 1284.0, \"Absolute magnitude(Mv)\": -11.28, \"Star type\": 5, \"Star color\": \"Red\", \"Spectral Class\": \"M\"}, {\"Temperature (K)\": 3752, \"Luminosity(L/Lo)\": 209000.0, \"Radius(R/Ro)\": 955.0, \"Absolute magnitude(Mv)\": -11.24, \"Star type\": 5, \"Star color\": \"Red\", \"Spectral Class\": \"M\"}, {\"Temperature (K)\": 3535, \"Luminosity(L/Lo)\": 195000.0, \"Radius(R/Ro)\": 1546.0, \"Absolute magnitude(Mv)\": -11.36, \"Star type\": 5, \"Star color\": \"Red\", \"Spectral Class\": \"M\"}, {\"Temperature (K)\": 3341, \"Luminosity(L/Lo)\": 0.0056, \"Radius(R/Ro)\": 0.057, \"Absolute magnitude(Mv)\": 16.23, \"Star type\": 0, \"Star color\": \"Red\", \"Spectral Class\": \"M\"}, {\"Temperature (K)\": 3432, \"Luminosity(L/Lo)\": 0.00067, \"Radius(R/Ro)\": 0.19, \"Absolute magnitude(Mv)\": 16.94, \"Star type\": 0, \"Star color\": \"Red\", \"Spectral Class\": \"M\"}, {\"Temperature (K)\": 2983, \"Luminosity(L/Lo)\": 0.00024, \"Radius(R/Ro)\": 0.094, \"Absolute magnitude(Mv)\": 16.09, \"Star type\": 0, \"Star color\": \"Red\", \"Spectral Class\": \"M\"}, {\"Temperature (K)\": 2835, \"Luminosity(L/Lo)\": 0.00034, \"Radius(R/Ro)\": 0.0918, \"Absolute magnitude(Mv)\": 16.96, \"Star type\": 0, \"Star color\": \"Red\", \"Spectral Class\": \"M\"}, {\"Temperature (K)\": 2935, \"Luminosity(L/Lo)\": 0.00014, \"Radius(R/Ro)\": 0.116, \"Absolute magnitude(Mv)\": 18.89, \"Star type\": 0, \"Star color\": \"Red\", \"Spectral Class\": \"M\"}, {\"Temperature (K)\": 3295, \"Luminosity(L/Lo)\": 0.00098, \"Radius(R/Ro)\": 0.132, \"Absolute magnitude(Mv)\": 17.13, \"Star type\": 0, \"Star color\": \"Red\", \"Spectral Class\": \"M\"}, {\"Temperature (K)\": 2945, \"Luminosity(L/Lo)\": 0.00032, \"Radius(R/Ro)\": 0.093, \"Absolute magnitude(Mv)\": 18.34, \"Star type\": 0, \"Star color\": \"Red\", \"Spectral Class\": \"M\"}, {\"Temperature (K)\": 2817, \"Luminosity(L/Lo)\": 0.00098, \"Radius(R/Ro)\": 0.0911, \"Absolute magnitude(Mv)\": 16.45, \"Star type\": 0, \"Star color\": \"Red\", \"Spectral Class\": \"M\"}, {\"Temperature (K)\": 2774, \"Luminosity(L/Lo)\": 0.00036, \"Radius(R/Ro)\": 0.118, \"Absolute magnitude(Mv)\": 17.39, \"Star type\": 0, \"Star color\": \"Red\", \"Spectral Class\": \"M\"}, {\"Temperature (K)\": 2871, \"Luminosity(L/Lo)\": 0.00072, \"Radius(R/Ro)\": 0.12, \"Absolute magnitude(Mv)\": 19.43, \"Star type\": 0, \"Star color\": \"Red\", \"Spectral Class\": \"M\"}, {\"Temperature (K)\": 3345, \"Luminosity(L/Lo)\": 0.021, \"Radius(R/Ro)\": 0.273, \"Absolute magnitude(Mv)\": 12.3, \"Star type\": 1, \"Star color\": \"Red\", \"Spectral Class\": \"M\"}, {\"Temperature (K)\": 3607, \"Luminosity(L/Lo)\": 0.022, \"Radius(R/Ro)\": 0.38, \"Absolute magnitude(Mv)\": 10.12, \"Star type\": 1, \"Star color\": \"Red\", \"Spectral Class\": \"M\"}, {\"Temperature (K)\": 3304, \"Luminosity(L/Lo)\": 0.0085, \"Radius(R/Ro)\": 0.18, \"Absolute magnitude(Mv)\": 13.2, \"Star type\": 1, \"Star color\": \"Red\", \"Spectral Class\": \"M\"}, {\"Temperature (K)\": 3150, \"Luminosity(L/Lo)\": 0.0088, \"Radius(R/Ro)\": 0.35, \"Absolute magnitude(Mv)\": 11.94, \"Star type\": 1, \"Star color\": \"Red\", \"Spectral Class\": \"M\"}, {\"Temperature (K)\": 3550, \"Luminosity(L/Lo)\": 0.004, \"Radius(R/Ro)\": 0.291, \"Absolute magnitude(Mv)\": 10.89, \"Star type\": 1, \"Star color\": \"Red\", \"Spectral Class\": \"M\"}, {\"Temperature (K)\": 3180, \"Luminosity(L/Lo)\": 0.001, \"Radius(R/Ro)\": 0.35, \"Absolute magnitude(Mv)\": 11.76, \"Star type\": 1, \"Star color\": \"Red\", \"Spectral Class\": \"M\"}, {\"Temperature (K)\": 2890, \"Luminosity(L/Lo)\": 0.0034, \"Radius(R/Ro)\": 0.24, \"Absolute magnitude(Mv)\": 13.46, \"Star type\": 1, \"Star color\": \"Red\", \"Spectral Class\": \"M\"}, {\"Temperature (K)\": 3342, \"Luminosity(L/Lo)\": 0.0015, \"Radius(R/Ro)\": 0.307, \"Absolute magnitude(Mv)\": 11.87, \"Star type\": 1, \"Star color\": \"Red\", \"Spectral Class\": \"M\"}, {\"Temperature (K)\": 2621, \"Luminosity(L/Lo)\": 0.0006, \"Radius(R/Ro)\": 0.098, \"Absolute magnitude(Mv)\": 12.81, \"Star type\": 1, \"Star color\": \"Red\", \"Spectral Class\": \"M\"}, {\"Temperature (K)\": 3158, \"Luminosity(L/Lo)\": 0.00135, \"Radius(R/Ro)\": 0.161, \"Absolute magnitude(Mv)\": 13.98, \"Star type\": 1, \"Star color\": \"Red\", \"Spectral Class\": \"M\"}, {\"Temperature (K)\": 7100, \"Luminosity(L/Lo)\": 0.00029, \"Radius(R/Ro)\": 0.012, \"Absolute magnitude(Mv)\": 14.09, \"Star type\": 2, \"Star color\": \"White-Yellow\", \"Spectral Class\": \"F\"}, {\"Temperature (K)\": 10574, \"Luminosity(L/Lo)\": 0.00014, \"Radius(R/Ro)\": 0.0092, \"Absolute magnitude(Mv)\": 12.02, \"Star type\": 2, \"Star color\": \"White\", \"Spectral Class\": \"F\"}, {\"Temperature (K)\": 8930, \"Luminosity(L/Lo)\": 0.00056, \"Radius(R/Ro)\": 0.0095, \"Absolute magnitude(Mv)\": 13.78, \"Star type\": 2, \"Star color\": \"white\", \"Spectral Class\": \"A\"}, {\"Temperature (K)\": 17200, \"Luminosity(L/Lo)\": 0.00098, \"Radius(R/Ro)\": 0.015, \"Absolute magnitude(Mv)\": 12.45, \"Star type\": 2, \"Star color\": \"Blue White\", \"Spectral Class\": \"B\"}, {\"Temperature (K)\": 14100, \"Luminosity(L/Lo)\": 0.00067, \"Radius(R/Ro)\": 0.0089, \"Absolute magnitude(Mv)\": 12.17, \"Star type\": 2, \"Star color\": \"Blue White\", \"Spectral Class\": \"B\"}, {\"Temperature (K)\": 9675, \"Luminosity(L/Lo)\": 0.00045, \"Radius(R/Ro)\": 0.0109, \"Absolute magnitude(Mv)\": 13.98, \"Star type\": 2, \"Star color\": \"Blue White\", \"Spectral Class\": \"A\"}, {\"Temperature (K)\": 12010, \"Luminosity(L/Lo)\": 0.00078, \"Radius(R/Ro)\": 0.0092, \"Absolute magnitude(Mv)\": 12.13, \"Star type\": 2, \"Star color\": \"Blue White\", \"Spectral Class\": \"B\"}, {\"Temperature (K)\": 10980, \"Luminosity(L/Lo)\": 0.00074, \"Radius(R/Ro)\": 0.0087, \"Absolute magnitude(Mv)\": 11.19, \"Star type\": 2, \"Star color\": \"Blue White\", \"Spectral Class\": \"B\"}, {\"Temperature (K)\": 13720, \"Luminosity(L/Lo)\": 0.00018, \"Radius(R/Ro)\": 0.00892, \"Absolute magnitude(Mv)\": 12.97, \"Star type\": 2, \"Star color\": \"white\", \"Spectral Class\": \"F\"}, {\"Temperature (K)\": 19860, \"Luminosity(L/Lo)\": 0.0011, \"Radius(R/Ro)\": 0.0131, \"Absolute magnitude(Mv)\": 11.34, \"Star type\": 2, \"Star color\": \"Blue \", \"Spectral Class\": \"B\"}, {\"Temperature (K)\": 5300, \"Luminosity(L/Lo)\": 0.59, \"Radius(R/Ro)\": 0.91, \"Absolute magnitude(Mv)\": 5.49, \"Star type\": 3, \"Star color\": \"yellow-white\", \"Spectral Class\": \"F\"}, {\"Temperature (K)\": 4526, \"Luminosity(L/Lo)\": 0.153, \"Radius(R/Ro)\": 0.865, \"Absolute magnitude(Mv)\": 6.506, \"Star type\": 3, \"Star color\": \"yellowish\", \"Spectral Class\": \"K\"}, {\"Temperature (K)\": 4077, \"Luminosity(L/Lo)\": 0.085, \"Radius(R/Ro)\": 0.795, \"Absolute magnitude(Mv)\": 6.228, \"Star type\": 3, \"Star color\": \"yellowish\", \"Spectral Class\": \"K\"}, {\"Temperature (K)\": 4980, \"Luminosity(L/Lo)\": 0.357, \"Radius(R/Ro)\": 1.13, \"Absolute magnitude(Mv)\": 4.78, \"Star type\": 3, \"Star color\": \"Yellowish\", \"Spectral Class\": \"K\"}, {\"Temperature (K)\": 9030, \"Luminosity(L/Lo)\": 45.0, \"Radius(R/Ro)\": 2.63, \"Absolute magnitude(Mv)\": 1.45, \"Star type\": 3, \"Star color\": \"Blue-white\", \"Spectral Class\": \"A\"}, {\"Temperature (K)\": 11250, \"Luminosity(L/Lo)\": 672.0, \"Radius(R/Ro)\": 6.98, \"Absolute magnitude(Mv)\": -2.3, \"Star type\": 3, \"Star color\": \"Blue-white\", \"Spectral Class\": \"A\"}, {\"Temperature (K)\": 5112, \"Luminosity(L/Lo)\": 0.63, \"Radius(R/Ro)\": 0.876, \"Absolute magnitude(Mv)\": 4.68, \"Star type\": 3, \"Star color\": \"Orange-Red\", \"Spectral Class\": \"K\"}, {\"Temperature (K)\": 7720, \"Luminosity(L/Lo)\": 7.92, \"Radius(R/Ro)\": 1.34, \"Absolute magnitude(Mv)\": 2.44, \"Star type\": 3, \"Star color\": \"yellow-white\", \"Spectral Class\": \"F\"}, {\"Temperature (K)\": 12098, \"Luminosity(L/Lo)\": 689.0, \"Radius(R/Ro)\": 7.01, \"Absolute magnitude(Mv)\": 0.02, \"Star type\": 3, \"Star color\": \"Blue-white\", \"Spectral Class\": \"A\"}, {\"Temperature (K)\": 36108, \"Luminosity(L/Lo)\": 198000.0, \"Radius(R/Ro)\": 10.2, \"Absolute magnitude(Mv)\": -4.4, \"Star type\": 3, \"Star color\": \"Blue\", \"Spectral Class\": \"O\"}, {\"Temperature (K)\": 33300, \"Luminosity(L/Lo)\": 240000.0, \"Radius(R/Ro)\": 12.0, \"Absolute magnitude(Mv)\": -6.5, \"Star type\": 4, \"Star color\": \"Blue\", \"Spectral Class\": \"B\"}, {\"Temperature (K)\": 40000, \"Luminosity(L/Lo)\": 813000.0, \"Radius(R/Ro)\": 14.0, \"Absolute magnitude(Mv)\": -6.23, \"Star type\": 4, \"Star color\": \"Blue\", \"Spectral Class\": \"O\"}, {\"Temperature (K)\": 23000, \"Luminosity(L/Lo)\": 127000.0, \"Radius(R/Ro)\": 36.0, \"Absolute magnitude(Mv)\": -5.76, \"Star type\": 4, \"Star color\": \"Blue\", \"Spectral Class\": \"O\"}, {\"Temperature (K)\": 17120, \"Luminosity(L/Lo)\": 235000.0, \"Radius(R/Ro)\": 83.0, \"Absolute magnitude(Mv)\": -6.89, \"Star type\": 4, \"Star color\": \"Blue\", \"Spectral Class\": \"O\"}, {\"Temperature (K)\": 11096, \"Luminosity(L/Lo)\": 112000.0, \"Radius(R/Ro)\": 12.0, \"Absolute magnitude(Mv)\": -5.91, \"Star type\": 4, \"Star color\": \"Blue\", \"Spectral Class\": \"O\"}, {\"Temperature (K)\": 14245, \"Luminosity(L/Lo)\": 231000.0, \"Radius(R/Ro)\": 42.0, \"Absolute magnitude(Mv)\": -6.12, \"Star type\": 4, \"Star color\": \"Blue\", \"Spectral Class\": \"O\"}, {\"Temperature (K)\": 24630, \"Luminosity(L/Lo)\": 363000.0, \"Radius(R/Ro)\": 63.0, \"Absolute magnitude(Mv)\": -5.83, \"Star type\": 4, \"Star color\": \"Blue\", \"Spectral Class\": \"O\"}, {\"Temperature (K)\": 12893, \"Luminosity(L/Lo)\": 184000.0, \"Radius(R/Ro)\": 36.0, \"Absolute magnitude(Mv)\": -6.34, \"Star type\": 4, \"Star color\": \"Blue\", \"Spectral Class\": \"O\"}, {\"Temperature (K)\": 24345, \"Luminosity(L/Lo)\": 142000.0, \"Radius(R/Ro)\": 57.0, \"Absolute magnitude(Mv)\": -6.24, \"Star type\": 4, \"Star color\": \"Blue\", \"Spectral Class\": \"O\"}, {\"Temperature (K)\": 33421, \"Luminosity(L/Lo)\": 352000.0, \"Radius(R/Ro)\": 67.0, \"Absolute magnitude(Mv)\": -5.79, \"Star type\": 4, \"Star color\": \"Blue\", \"Spectral Class\": \"O\"}, {\"Temperature (K)\": 3459, \"Luminosity(L/Lo)\": 100000.0, \"Radius(R/Ro)\": 1289.0, \"Absolute magnitude(Mv)\": -10.7, \"Star type\": 5, \"Star color\": \"Red\", \"Spectral Class\": \"M\"}, {\"Temperature (K)\": 3605, \"Luminosity(L/Lo)\": 126000.0, \"Radius(R/Ro)\": 1124.0, \"Absolute magnitude(Mv)\": -10.81, \"Star type\": 5, \"Star color\": \"Red\", \"Spectral Class\": \"M\"}, {\"Temperature (K)\": 3615, \"Luminosity(L/Lo)\": 200000.0, \"Radius(R/Ro)\": 1635.0, \"Absolute magnitude(Mv)\": -11.33, \"Star type\": 5, \"Star color\": \"Red\", \"Spectral Class\": \"M\"}, {\"Temperature (K)\": 3399, \"Luminosity(L/Lo)\": 117000.0, \"Radius(R/Ro)\": 1486.0, \"Absolute magnitude(Mv)\": -10.92, \"Star type\": 5, \"Star color\": \"Red\", \"Spectral Class\": \"M\"}, {\"Temperature (K)\": 3610, \"Luminosity(L/Lo)\": 132000.0, \"Radius(R/Ro)\": 1522.0, \"Absolute magnitude(Mv)\": -10.86, \"Star type\": 5, \"Star color\": \"Red\", \"Spectral Class\": \"M\"}, {\"Temperature (K)\": 3553, \"Luminosity(L/Lo)\": 145000.0, \"Radius(R/Ro)\": 1324.0, \"Absolute magnitude(Mv)\": -11.03, \"Star type\": 5, \"Star color\": \"Red\", \"Spectral Class\": \"M\"}, {\"Temperature (K)\": 4015, \"Luminosity(L/Lo)\": 282000.0, \"Radius(R/Ro)\": 1534.0, \"Absolute magnitude(Mv)\": -11.39, \"Star type\": 5, \"Star color\": \"Red\", \"Spectral Class\": \"K\"}, {\"Temperature (K)\": 3625, \"Luminosity(L/Lo)\": 74000.0, \"Radius(R/Ro)\": 876.0, \"Absolute magnitude(Mv)\": -10.25, \"Star type\": 5, \"Star color\": \"Red\", \"Spectral Class\": \"M\"}, {\"Temperature (K)\": 6850, \"Luminosity(L/Lo)\": 229000.0, \"Radius(R/Ro)\": 1467.0, \"Absolute magnitude(Mv)\": -10.07, \"Star type\": 5, \"Star color\": \"Red\", \"Spectral Class\": \"G\"}, {\"Temperature (K)\": 3780, \"Luminosity(L/Lo)\": 200000.0, \"Radius(R/Ro)\": 1324.0, \"Absolute magnitude(Mv)\": -10.7, \"Star type\": 5, \"Star color\": \"Red\", \"Spectral Class\": \"M\"}, {\"Temperature (K)\": 3323, \"Luminosity(L/Lo)\": 0.00043, \"Radius(R/Ro)\": 0.0912, \"Absolute magnitude(Mv)\": 17.16, \"Star type\": 0, \"Star color\": \"Red\", \"Spectral Class\": \"M\"}, {\"Temperature (K)\": 3531, \"Luminosity(L/Lo)\": 0.00093, \"Radius(R/Ro)\": 0.0976, \"Absolute magnitude(Mv)\": 19.94, \"Star type\": 0, \"Star color\": \"Red\", \"Spectral Class\": \"M\"}, {\"Temperature (K)\": 3218, \"Luminosity(L/Lo)\": 0.00054, \"Radius(R/Ro)\": 0.11, \"Absolute magnitude(Mv)\": 20.02, \"Star type\": 0, \"Star color\": \"Red\", \"Spectral Class\": \"M\"}, {\"Temperature (K)\": 3146, \"Luminosity(L/Lo)\": 0.00015, \"Radius(R/Ro)\": 0.0932, \"Absolute magnitude(Mv)\": 16.92, \"Star type\": 0, \"Star color\": \"Red\", \"Spectral Class\": \"M\"}, {\"Temperature (K)\": 3511, \"Luminosity(L/Lo)\": 0.00064, \"Radius(R/Ro)\": 0.109, \"Absolute magnitude(Mv)\": 17.12, \"Star type\": 0, \"Star color\": \"Red\", \"Spectral Class\": \"M\"}, {\"Temperature (K)\": 3225, \"Luminosity(L/Lo)\": 0.00076, \"Radius(R/Ro)\": 0.121, \"Absolute magnitude(Mv)\": 19.63, \"Star type\": 0, \"Star color\": \"Red\", \"Spectral Class\": \"M\"}, {\"Temperature (K)\": 2935, \"Luminosity(L/Lo)\": 0.00087, \"Radius(R/Ro)\": 0.0932, \"Absolute magnitude(Mv)\": 16.88, \"Star type\": 0, \"Star color\": \"Red\", \"Spectral Class\": \"M\"}, {\"Temperature (K)\": 2861, \"Luminosity(L/Lo)\": 0.00019, \"Radius(R/Ro)\": 0.0899, \"Absolute magnitude(Mv)\": 16.71, \"Star type\": 0, \"Star color\": \"Red\", \"Spectral Class\": \"M\"}, {\"Temperature (K)\": 2856, \"Luminosity(L/Lo)\": 0.000896, \"Radius(R/Ro)\": 0.0782, \"Absolute magnitude(Mv)\": 19.56, \"Star type\": 0, \"Star color\": \"Red\", \"Spectral Class\": \"M\"}, {\"Temperature (K)\": 2731, \"Luminosity(L/Lo)\": 0.000437, \"Radius(R/Ro)\": 0.0856, \"Absolute magnitude(Mv)\": 18.09, \"Star type\": 0, \"Star color\": \"Red\", \"Spectral Class\": \"M\"}, {\"Temperature (K)\": 3095, \"Luminosity(L/Lo)\": 0.00019, \"Radius(R/Ro)\": 0.492, \"Absolute magnitude(Mv)\": 10.87, \"Star type\": 1, \"Star color\": \"Red\", \"Spectral Class\": \"M\"}, {\"Temperature (K)\": 3607, \"Luminosity(L/Lo)\": 0.00023, \"Radius(R/Ro)\": 0.38, \"Absolute magnitude(Mv)\": 10.34, \"Star type\": 1, \"Star color\": \"Red\", \"Spectral Class\": \"M\"}, {\"Temperature (K)\": 3100, \"Luminosity(L/Lo)\": 0.008, \"Radius(R/Ro)\": 0.31, \"Absolute magnitude(Mv)\": 11.17, \"Star type\": 1, \"Star color\": \"Red\", \"Spectral Class\": \"M\"}, {\"Temperature (K)\": 2989, \"Luminosity(L/Lo)\": 0.0087, \"Radius(R/Ro)\": 0.34, \"Absolute magnitude(Mv)\": 13.12, \"Star type\": 1, \"Star color\": \"Red\", \"Spectral Class\": \"M\"}, {\"Temperature (K)\": 3542, \"Luminosity(L/Lo)\": 0.0009, \"Radius(R/Ro)\": 0.62, \"Absolute magnitude(Mv)\": 14.23, \"Star type\": 1, \"Star color\": \"Red\", \"Spectral Class\": \"M\"}, {\"Temperature (K)\": 3243, \"Luminosity(L/Lo)\": 0.0023, \"Radius(R/Ro)\": 0.73, \"Absolute magnitude(Mv)\": 14.75, \"Star type\": 1, \"Star color\": \"Red\", \"Spectral Class\": \"M\"}, {\"Temperature (K)\": 3091, \"Luminosity(L/Lo)\": 0.0081, \"Radius(R/Ro)\": 0.24, \"Absolute magnitude(Mv)\": 11.43, \"Star type\": 1, \"Star color\": \"Red\", \"Spectral Class\": \"M\"}, {\"Temperature (K)\": 3598, \"Luminosity(L/Lo)\": 0.0011, \"Radius(R/Ro)\": 0.56, \"Absolute magnitude(Mv)\": 14.26, \"Star type\": 1, \"Star color\": \"Red\", \"Spectral Class\": \"M\"}, {\"Temperature (K)\": 3324, \"Luminosity(L/Lo)\": 0.0034, \"Radius(R/Ro)\": 0.34, \"Absolute magnitude(Mv)\": 12.23, \"Star type\": 1, \"Star color\": \"Red\", \"Spectral Class\": \"M\"}, {\"Temperature (K)\": 3541, \"Luminosity(L/Lo)\": 0.0013, \"Radius(R/Ro)\": 0.256, \"Absolute magnitude(Mv)\": 14.33, \"Star type\": 1, \"Star color\": \"Red\", \"Spectral Class\": \"M\"}, {\"Temperature (K)\": 13420, \"Luminosity(L/Lo)\": 0.00059, \"Radius(R/Ro)\": 0.00981, \"Absolute magnitude(Mv)\": 13.67, \"Star type\": 2, \"Star color\": \"Blue White\", \"Spectral Class\": \"B\"}, {\"Temperature (K)\": 21020, \"Luminosity(L/Lo)\": 0.0015, \"Radius(R/Ro)\": 0.0112, \"Absolute magnitude(Mv)\": 11.52, \"Star type\": 2, \"Star color\": \"Blue\", \"Spectral Class\": \"B\"}, {\"Temperature (K)\": 18290, \"Luminosity(L/Lo)\": 0.0013, \"Radius(R/Ro)\": 0.00934, \"Absolute magnitude(Mv)\": 12.78, \"Star type\": 2, \"Star color\": \"Blue\", \"Spectral Class\": \"B\"}, {\"Temperature (K)\": 14520, \"Luminosity(L/Lo)\": 0.00082, \"Radius(R/Ro)\": 0.00972, \"Absolute magnitude(Mv)\": 11.92, \"Star type\": 2, \"Star color\": \"Blue White\", \"Spectral Class\": \"B\"}, {\"Temperature (K)\": 11900, \"Luminosity(L/Lo)\": 0.00067, \"Radius(R/Ro)\": 0.00898, \"Absolute magnitude(Mv)\": 11.38, \"Star type\": 2, \"Star color\": \"Blue white \", \"Spectral Class\": \"B\"}, {\"Temperature (K)\": 8924, \"Luminosity(L/Lo)\": 0.00028, \"Radius(R/Ro)\": 0.00879, \"Absolute magnitude(Mv)\": 14.87, \"Star type\": 2, \"Star color\": \"Blue white\", \"Spectral Class\": \"A\"}, {\"Temperature (K)\": 12912, \"Luminosity(L/Lo)\": 0.00071, \"Radius(R/Ro)\": 0.00945, \"Absolute magnitude(Mv)\": 12.83, \"Star type\": 2, \"Star color\": \"Blue white\", \"Spectral Class\": \"B\"}, {\"Temperature (K)\": 14732, \"Luminosity(L/Lo)\": 0.00011, \"Radius(R/Ro)\": 0.00892, \"Absolute magnitude(Mv)\": 12.89, \"Star type\": 2, \"Star color\": \"white\", \"Spectral Class\": \"F\"}, {\"Temperature (K)\": 7723, \"Luminosity(L/Lo)\": 0.00014, \"Radius(R/Ro)\": 0.00878, \"Absolute magnitude(Mv)\": 14.81, \"Star type\": 2, \"Star color\": \"White\", \"Spectral Class\": \"A\"}, {\"Temperature (K)\": 12984, \"Luminosity(L/Lo)\": 0.00088, \"Radius(R/Ro)\": 0.00996, \"Absolute magnitude(Mv)\": 11.23, \"Star type\": 2, \"Star color\": \"Blue White\", \"Spectral Class\": \"B\"}, {\"Temperature (K)\": 29560, \"Luminosity(L/Lo)\": 188000.0, \"Radius(R/Ro)\": 6.02, \"Absolute magnitude(Mv)\": -4.01, \"Star type\": 3, \"Star color\": \"Blue-white\", \"Spectral Class\": \"B\"}, {\"Temperature (K)\": 8945, \"Luminosity(L/Lo)\": 38.0, \"Radius(R/Ro)\": 2.487, \"Absolute magnitude(Mv)\": 0.12, \"Star type\": 3, \"Star color\": \"Blue-White\", \"Spectral Class\": \"A\"}, {\"Temperature (K)\": 14060, \"Luminosity(L/Lo)\": 1092.0, \"Radius(R/Ro)\": 5.745, \"Absolute magnitude(Mv)\": -2.04, \"Star type\": 3, \"Star color\": \"Blue-white\", \"Spectral Class\": \"A\"}, {\"Temperature (K)\": 16390, \"Luminosity(L/Lo)\": 1278.0, \"Radius(R/Ro)\": 5.68, \"Absolute magnitude(Mv)\": -3.32, \"Star type\": 3, \"Star color\": \"Blue-white\", \"Spectral Class\": \"B\"}, {\"Temperature (K)\": 25070, \"Luminosity(L/Lo)\": 14500.0, \"Radius(R/Ro)\": 5.92, \"Absolute magnitude(Mv)\": -3.98, \"Star type\": 3, \"Star color\": \"Blue-white\", \"Spectral Class\": \"B\"}, {\"Temperature (K)\": 28700, \"Luminosity(L/Lo)\": 16790.0, \"Radius(R/Ro)\": 6.4, \"Absolute magnitude(Mv)\": -4.09, \"Star type\": 3, \"Star color\": \"Blue-white\", \"Spectral Class\": \"B\"}, {\"Temperature (K)\": 26140, \"Luminosity(L/Lo)\": 14520.0, \"Radius(R/Ro)\": 5.49, \"Absolute magnitude(Mv)\": -3.8, \"Star type\": 3, \"Star color\": \"Blue-white\", \"Spectral Class\": \"B\"}, {\"Temperature (K)\": 20120, \"Luminosity(L/Lo)\": 4720.0, \"Radius(R/Ro)\": 6.78, \"Absolute magnitude(Mv)\": -3.4, \"Star type\": 3, \"Star color\": \"Blue-white\", \"Spectral Class\": \"B\"}, {\"Temperature (K)\": 13023, \"Luminosity(L/Lo)\": 998.0, \"Radius(R/Ro)\": 6.21, \"Absolute magnitude(Mv)\": -1.38, \"Star type\": 3, \"Star color\": \"Blue-white\", \"Spectral Class\": \"A\"}, {\"Temperature (K)\": 37800, \"Luminosity(L/Lo)\": 202900.0, \"Radius(R/Ro)\": 6.86, \"Absolute magnitude(Mv)\": -4.56, \"Star type\": 3, \"Star color\": \"Blue\", \"Spectral Class\": \"O\"}, {\"Temperature (K)\": 25390, \"Luminosity(L/Lo)\": 223000.0, \"Radius(R/Ro)\": 57.0, \"Absolute magnitude(Mv)\": -5.92, \"Star type\": 4, \"Star color\": \"Blue\", \"Spectral Class\": \"O\"}, {\"Temperature (K)\": 11567, \"Luminosity(L/Lo)\": 251000.0, \"Radius(R/Ro)\": 36.0, \"Absolute magnitude(Mv)\": -6.245, \"Star type\": 4, \"Star color\": \"Blue\", \"Spectral Class\": \"O\"}, {\"Temperature (K)\": 12675, \"Luminosity(L/Lo)\": 452000.0, \"Radius(R/Ro)\": 83.0, \"Absolute magnitude(Mv)\": -5.62, \"Star type\": 4, \"Star color\": \"Blue\", \"Spectral Class\": \"O\"}, {\"Temperature (K)\": 5752, \"Luminosity(L/Lo)\": 245000.0, \"Radius(R/Ro)\": 97.0, \"Absolute magnitude(Mv)\": -6.63, \"Star type\": 4, \"Star color\": \"Blue\", \"Spectral Class\": \"O\"}, {\"Temperature (K)\": 8927, \"Luminosity(L/Lo)\": 239000.0, \"Radius(R/Ro)\": 35.0, \"Absolute magnitude(Mv)\": -7.34, \"Star type\": 4, \"Star color\": \"Blue\", \"Spectral Class\": \"O\"}, {\"Temperature (K)\": 7282, \"Luminosity(L/Lo)\": 131000.0, \"Radius(R/Ro)\": 24.0, \"Absolute magnitude(Mv)\": -7.22, \"Star type\": 4, \"Star color\": \"Blue\", \"Spectral Class\": \"O\"}, {\"Temperature (K)\": 19923, \"Luminosity(L/Lo)\": 152000.0, \"Radius(R/Ro)\": 73.0, \"Absolute magnitude(Mv)\": -5.69, \"Star type\": 4, \"Star color\": \"Blue\", \"Spectral Class\": \"O\"}, {\"Temperature (K)\": 26373, \"Luminosity(L/Lo)\": 198000.0, \"Radius(R/Ro)\": 39.0, \"Absolute magnitude(Mv)\": -5.83, \"Star type\": 4, \"Star color\": \"Blue\", \"Spectral Class\": \"O\"}, {\"Temperature (K)\": 17383, \"Luminosity(L/Lo)\": 342900.0, \"Radius(R/Ro)\": 30.0, \"Absolute magnitude(Mv)\": -6.09, \"Star type\": 4, \"Star color\": \"Blue\", \"Spectral Class\": \"O\"}, {\"Temperature (K)\": 9373, \"Luminosity(L/Lo)\": 424520.0, \"Radius(R/Ro)\": 24.0, \"Absolute magnitude(Mv)\": -5.99, \"Star type\": 4, \"Star color\": \"Blue\", \"Spectral Class\": \"O\"}, {\"Temperature (K)\": 3570, \"Luminosity(L/Lo)\": 320000.0, \"Radius(R/Ro)\": 1480.0, \"Absolute magnitude(Mv)\": -7.58, \"Star type\": 5, \"Star color\": \"Red\", \"Spectral Class\": \"M\"}, {\"Temperature (K)\": 3500, \"Luminosity(L/Lo)\": 138000.0, \"Radius(R/Ro)\": 1420.0, \"Absolute magnitude(Mv)\": -8.18, \"Star type\": 5, \"Star color\": \"Red\", \"Spectral Class\": \"M\"}, {\"Temperature (K)\": 4287, \"Luminosity(L/Lo)\": 630000.0, \"Radius(R/Ro)\": 1315.0, \"Absolute magnitude(Mv)\": -9.2, \"Star type\": 5, \"Star color\": \"Orange\", \"Spectral Class\": \"K\"}, {\"Temperature (K)\": 26000, \"Luminosity(L/Lo)\": 316000.0, \"Radius(R/Ro)\": 1679.0, \"Absolute magnitude(Mv)\": -9.1, \"Star type\": 5, \"Star color\": \"Blue\", \"Spectral Class\": \"B\"}, {\"Temperature (K)\": 3600, \"Luminosity(L/Lo)\": 240000.0, \"Radius(R/Ro)\": 1190.0, \"Absolute magnitude(Mv)\": -7.89, \"Star type\": 5, \"Star color\": \"Red\", \"Spectral Class\": \"M\"}, {\"Temperature (K)\": 3614, \"Luminosity(L/Lo)\": 145000.0, \"Radius(R/Ro)\": 1553.0, \"Absolute magnitude(Mv)\": -7.71, \"Star type\": 5, \"Star color\": \"Red\", \"Spectral Class\": \"M\"}, {\"Temperature (K)\": 18000, \"Luminosity(L/Lo)\": 200000.0, \"Radius(R/Ro)\": 1045.0, \"Absolute magnitude(Mv)\": -8.3, \"Star type\": 5, \"Star color\": \"Blue\", \"Spectral Class\": \"O\"}, {\"Temperature (K)\": 11000, \"Luminosity(L/Lo)\": 170000.0, \"Radius(R/Ro)\": 1779.0, \"Absolute magnitude(Mv)\": -9.9, \"Star type\": 5, \"Star color\": \"Blue-white\", \"Spectral Class\": \"B\"}, {\"Temperature (K)\": 12100, \"Luminosity(L/Lo)\": 120000.0, \"Radius(R/Ro)\": 708.9, \"Absolute magnitude(Mv)\": -7.84, \"Star type\": 5, \"Star color\": \"Blue-white\", \"Spectral Class\": \"B\"}, {\"Temperature (K)\": 24490, \"Luminosity(L/Lo)\": 248490.0, \"Radius(R/Ro)\": 1134.5, \"Absolute magnitude(Mv)\": -8.24, \"Star type\": 5, \"Star color\": \"Blue-white\", \"Spectral Class\": \"B\"}, {\"Temperature (K)\": 2831, \"Luminosity(L/Lo)\": 0.000231, \"Radius(R/Ro)\": 0.0915, \"Absolute magnitude(Mv)\": 16.21, \"Star type\": 0, \"Star color\": \"Red\", \"Spectral Class\": \"M\"}, {\"Temperature (K)\": 2914, \"Luminosity(L/Lo)\": 0.000631, \"Radius(R/Ro)\": 0.116, \"Absolute magnitude(Mv)\": 18.39, \"Star type\": 0, \"Star color\": \"Red\", \"Spectral Class\": \"M\"}, {\"Temperature (K)\": 3419, \"Luminosity(L/Lo)\": 0.000245, \"Radius(R/Ro)\": 0.126, \"Absolute magnitude(Mv)\": 17.56, \"Star type\": 0, \"Star color\": \"Red\", \"Spectral Class\": \"M\"}, {\"Temperature (K)\": 3218, \"Luminosity(L/Lo)\": 0.000452, \"Radius(R/Ro)\": 0.0987, \"Absolute magnitude(Mv)\": 17.34, \"Star type\": 0, \"Star color\": \"Red\", \"Spectral Class\": \"M\"}, {\"Temperature (K)\": 3453, \"Luminosity(L/Lo)\": 0.000621, \"Radius(R/Ro)\": 0.0773, \"Absolute magnitude(Mv)\": 17.08, \"Star type\": 0, \"Star color\": \"Red\", \"Spectral Class\": \"M\"}, {\"Temperature (K)\": 2889, \"Luminosity(L/Lo)\": 0.000352, \"Radius(R/Ro)\": 0.0973, \"Absolute magnitude(Mv)\": 16.93, \"Star type\": 0, \"Star color\": \"Red\", \"Spectral Class\": \"M\"}, {\"Temperature (K)\": 2968, \"Luminosity(L/Lo)\": 0.000461, \"Radius(R/Ro)\": 0.119, \"Absolute magnitude(Mv)\": 17.45, \"Star type\": 0, \"Star color\": \"Red\", \"Spectral Class\": \"M\"}, {\"Temperature (K)\": 3484, \"Luminosity(L/Lo)\": 0.000551, \"Radius(R/Ro)\": 0.0998, \"Absolute magnitude(Mv)\": 16.67, \"Star type\": 0, \"Star color\": \"Red\", \"Spectral Class\": \"M\"}, {\"Temperature (K)\": 2778, \"Luminosity(L/Lo)\": 0.000849, \"Radius(R/Ro)\": 0.112, \"Absolute magnitude(Mv)\": 19.45, \"Star type\": 0, \"Star color\": \"Red\", \"Spectral Class\": \"M\"}, {\"Temperature (K)\": 3523, \"Luminosity(L/Lo)\": 0.000957, \"Radius(R/Ro)\": 0.129, \"Absolute magnitude(Mv)\": 16.35, \"Star type\": 0, \"Star color\": \"Red\", \"Spectral Class\": \"M\"}, {\"Temperature (K)\": 3462, \"Luminosity(L/Lo)\": 0.0053, \"Radius(R/Ro)\": 0.148, \"Absolute magnitude(Mv)\": 11.47, \"Star type\": 1, \"Star color\": \"Red\", \"Spectral Class\": \"M\"}, {\"Temperature (K)\": 3257, \"Luminosity(L/Lo)\": 0.0024, \"Radius(R/Ro)\": 0.46, \"Absolute magnitude(Mv)\": 10.73, \"Star type\": 1, \"Star color\": \"Red\", \"Spectral Class\": \"M\"}, {\"Temperature (K)\": 2994, \"Luminosity(L/Lo)\": 0.0072, \"Radius(R/Ro)\": 0.28, \"Absolute magnitude(Mv)\": 13.45, \"Star type\": 1, \"Star color\": \"Red\", \"Spectral Class\": \"M\"}, {\"Temperature (K)\": 3212, \"Luminosity(L/Lo)\": 0.0016, \"Radius(R/Ro)\": 0.378, \"Absolute magnitude(Mv)\": 12.854, \"Star type\": 1, \"Star color\": \"Red\", \"Spectral Class\": \"M\"}, {\"Temperature (K)\": 3523, \"Luminosity(L/Lo)\": 0.0054, \"Radius(R/Ro)\": 0.319, \"Absolute magnitude(Mv)\": 12.43, \"Star type\": 1, \"Star color\": \"Red\", \"Spectral Class\": \"M\"}, {\"Temperature (K)\": 3598, \"Luminosity(L/Lo)\": 0.0027, \"Radius(R/Ro)\": 0.67, \"Absolute magnitude(Mv)\": 13.667, \"Star type\": 1, \"Star color\": \"Red\", \"Spectral Class\": \"M\"}, {\"Temperature (K)\": 3142, \"Luminosity(L/Lo)\": 0.00132, \"Radius(R/Ro)\": 0.258, \"Absolute magnitude(Mv)\": 14.12, \"Star type\": 1, \"Star color\": \"Red\", \"Spectral Class\": \"M\"}, {\"Temperature (K)\": 3496, \"Luminosity(L/Lo)\": 0.00125, \"Radius(R/Ro)\": 0.336, \"Absolute magnitude(Mv)\": 14.94, \"Star type\": 1, \"Star color\": \"Red\", \"Spectral Class\": \"M\"}, {\"Temperature (K)\": 3324, \"Luminosity(L/Lo)\": 0.0065, \"Radius(R/Ro)\": 0.471, \"Absolute magnitude(Mv)\": 12.78, \"Star type\": 1, \"Star color\": \"Red\", \"Spectral Class\": \"M\"}, {\"Temperature (K)\": 3463, \"Luminosity(L/Lo)\": 0.0027, \"Radius(R/Ro)\": 0.675, \"Absolute magnitude(Mv)\": 14.776, \"Star type\": 1, \"Star color\": \"Red\", \"Spectral Class\": \"M\"}, {\"Temperature (K)\": 16790, \"Luminosity(L/Lo)\": 0.0014, \"Radius(R/Ro)\": 0.0121, \"Absolute magnitude(Mv)\": 12.87, \"Star type\": 2, \"Star color\": \"Blue\", \"Spectral Class\": \"B\"}, {\"Temperature (K)\": 15680, \"Luminosity(L/Lo)\": 0.00122, \"Radius(R/Ro)\": 0.0114, \"Absolute magnitude(Mv)\": 11.92, \"Star type\": 2, \"Star color\": \"Blue\", \"Spectral Class\": \"B\"}, {\"Temperature (K)\": 14982, \"Luminosity(L/Lo)\": 0.00118, \"Radius(R/Ro)\": 0.0113, \"Absolute magnitude(Mv)\": 12.23, \"Star type\": 2, \"Star color\": \"Blue\", \"Spectral Class\": \"B\"}, {\"Temperature (K)\": 13340, \"Luminosity(L/Lo)\": 0.00109, \"Radius(R/Ro)\": 0.0116, \"Absolute magnitude(Mv)\": 12.9, \"Star type\": 2, \"Star color\": \"Blue\", \"Spectral Class\": \"B\"}, {\"Temperature (K)\": 18340, \"Luminosity(L/Lo)\": 0.00134, \"Radius(R/Ro)\": 0.0124, \"Absolute magnitude(Mv)\": 11.22, \"Star type\": 2, \"Star color\": \"Blue\", \"Spectral Class\": \"B\"}, {\"Temperature (K)\": 19920, \"Luminosity(L/Lo)\": 0.00156, \"Radius(R/Ro)\": 0.0142, \"Absolute magnitude(Mv)\": 11.34, \"Star type\": 2, \"Star color\": \"Blue\", \"Spectral Class\": \"B\"}, {\"Temperature (K)\": 24020, \"Luminosity(L/Lo)\": 0.00159, \"Radius(R/Ro)\": 0.0127, \"Absolute magnitude(Mv)\": 10.55, \"Star type\": 2, \"Star color\": \"Blue\", \"Spectral Class\": \"B\"}, {\"Temperature (K)\": 23092, \"Luminosity(L/Lo)\": 0.00132, \"Radius(R/Ro)\": 0.0104, \"Absolute magnitude(Mv)\": 10.18, \"Star type\": 2, \"Star color\": \"Blue\", \"Spectral Class\": \"B\"}, {\"Temperature (K)\": 17920, \"Luminosity(L/Lo)\": 0.00111, \"Radius(R/Ro)\": 0.0106, \"Absolute magnitude(Mv)\": 11.66, \"Star type\": 2, \"Star color\": \"Blue\", \"Spectral Class\": \"B\"}, {\"Temperature (K)\": 19360, \"Luminosity(L/Lo)\": 0.00125, \"Radius(R/Ro)\": 0.00998, \"Absolute magnitude(Mv)\": 11.62, \"Star type\": 2, \"Star color\": \"Blue\", \"Spectral Class\": \"B\"}, {\"Temperature (K)\": 22350, \"Luminosity(L/Lo)\": 12450.0, \"Radius(R/Ro)\": 6.36, \"Absolute magnitude(Mv)\": -3.67, \"Star type\": 3, \"Star color\": \"Blue-white\", \"Spectral Class\": \"B\"}, {\"Temperature (K)\": 10012, \"Luminosity(L/Lo)\": 552.0, \"Radius(R/Ro)\": 5.856, \"Absolute magnitude(Mv)\": 0.013, \"Star type\": 3, \"Star color\": \"Blue-white\", \"Spectral Class\": \"A\"}, {\"Temperature (K)\": 13089, \"Luminosity(L/Lo)\": 788.0, \"Radius(R/Ro)\": 5.992, \"Absolute magnitude(Mv)\": -0.12, \"Star type\": 3, \"Star color\": \"Blue-white\", \"Spectral Class\": \"A\"}, {\"Temperature (K)\": 22012, \"Luminosity(L/Lo)\": 6748.0, \"Radius(R/Ro)\": 6.64, \"Absolute magnitude(Mv)\": -2.55, \"Star type\": 3, \"Star color\": \"Blue-white\", \"Spectral Class\": \"B\"}, {\"Temperature (K)\": 34190, \"Luminosity(L/Lo)\": 198200.0, \"Radius(R/Ro)\": 6.39, \"Absolute magnitude(Mv)\": -4.57, \"Star type\": 3, \"Star color\": \"Blue\", \"Spectral Class\": \"O\"}, {\"Temperature (K)\": 32460, \"Luminosity(L/Lo)\": 173800.0, \"Radius(R/Ro)\": 6.237, \"Absolute magnitude(Mv)\": -4.36, \"Star type\": 3, \"Star color\": \"Blue\", \"Spectral Class\": \"O\"}, {\"Temperature (K)\": 9320, \"Luminosity(L/Lo)\": 29.0, \"Radius(R/Ro)\": 1.91, \"Absolute magnitude(Mv)\": 1.236, \"Star type\": 3, \"Star color\": \"Blue-white\", \"Spectral Class\": \"A\"}, {\"Temperature (K)\": 19400, \"Luminosity(L/Lo)\": 10920.0, \"Radius(R/Ro)\": 6.03, \"Absolute magnitude(Mv)\": -3.08, \"Star type\": 3, \"Star color\": \"Blue-white\", \"Spectral Class\": \"B\"}, {\"Temperature (K)\": 17140, \"Luminosity(L/Lo)\": 883.0, \"Radius(R/Ro)\": 5.653, \"Absolute magnitude(Mv)\": -2.64, \"Star type\": 3, \"Star color\": \"Blue-white\", \"Spectral Class\": \"B\"}, {\"Temperature (K)\": 8250, \"Luminosity(L/Lo)\": 9.25, \"Radius(R/Ro)\": 1.93, \"Absolute magnitude(Mv)\": -0.98, \"Star type\": 3, \"Star color\": \"yellow-white\", \"Spectral Class\": \"F\"}, {\"Temperature (K)\": 23678, \"Luminosity(L/Lo)\": 244290.0, \"Radius(R/Ro)\": 35.0, \"Absolute magnitude(Mv)\": -6.27, \"Star type\": 4, \"Star color\": \"Blue\", \"Spectral Class\": \"O\"}, {\"Temperature (K)\": 12749, \"Luminosity(L/Lo)\": 332520.0, \"Radius(R/Ro)\": 76.0, \"Absolute magnitude(Mv)\": -7.02, \"Star type\": 4, \"Star color\": \"Blue\", \"Spectral Class\": \"O\"}, {\"Temperature (K)\": 9383, \"Luminosity(L/Lo)\": 342940.0, \"Radius(R/Ro)\": 98.0, \"Absolute magnitude(Mv)\": -6.98, \"Star type\": 4, \"Star color\": \"Blue\", \"Spectral Class\": \"O\"}, {\"Temperature (K)\": 23440, \"Luminosity(L/Lo)\": 537430.0, \"Radius(R/Ro)\": 81.0, \"Absolute magnitude(Mv)\": -5.975, \"Star type\": 4, \"Star color\": \"Blue\", \"Spectral Class\": \"O\"}, {\"Temperature (K)\": 16787, \"Luminosity(L/Lo)\": 246730.0, \"Radius(R/Ro)\": 62.0, \"Absolute magnitude(Mv)\": -6.35, \"Star type\": 4, \"Star color\": \"Blue\", \"Spectral Class\": \"O\"}, {\"Temperature (K)\": 18734, \"Luminosity(L/Lo)\": 224780.0, \"Radius(R/Ro)\": 46.0, \"Absolute magnitude(Mv)\": -7.45, \"Star type\": 4, \"Star color\": \"Blue\", \"Spectral Class\": \"O\"}, {\"Temperature (K)\": 9892, \"Luminosity(L/Lo)\": 593900.0, \"Radius(R/Ro)\": 80.0, \"Absolute magnitude(Mv)\": -7.262, \"Star type\": 4, \"Star color\": \"Blue\", \"Spectral Class\": \"O\"}, {\"Temperature (K)\": 10930, \"Luminosity(L/Lo)\": 783930.0, \"Radius(R/Ro)\": 25.0, \"Absolute magnitude(Mv)\": -6.224, \"Star type\": 4, \"Star color\": \"Blue\", \"Spectral Class\": \"O\"}, {\"Temperature (K)\": 23095, \"Luminosity(L/Lo)\": 347820.0, \"Radius(R/Ro)\": 86.0, \"Absolute magnitude(Mv)\": -5.905, \"Star type\": 4, \"Star color\": \"Blue\", \"Spectral Class\": \"O\"}, {\"Temperature (K)\": 21738, \"Luminosity(L/Lo)\": 748890.0, \"Radius(R/Ro)\": 92.0, \"Absolute magnitude(Mv)\": -7.346, \"Star type\": 4, \"Star color\": \"Blue\", \"Spectral Class\": \"O\"}, {\"Temperature (K)\": 24145, \"Luminosity(L/Lo)\": 382993.0, \"Radius(R/Ro)\": 1494.0, \"Absolute magnitude(Mv)\": -8.84, \"Star type\": 5, \"Star color\": \"Blue-white\", \"Spectral Class\": \"B\"}, {\"Temperature (K)\": 38234, \"Luminosity(L/Lo)\": 272830.0, \"Radius(R/Ro)\": 1356.0, \"Absolute magnitude(Mv)\": -9.29, \"Star type\": 5, \"Star color\": \"Blue\", \"Spectral Class\": \"O\"}, {\"Temperature (K)\": 32489, \"Luminosity(L/Lo)\": 648430.0, \"Radius(R/Ro)\": 1948.5, \"Absolute magnitude(Mv)\": -10.84, \"Star type\": 5, \"Star color\": \"Blue\", \"Spectral Class\": \"O\"}, {\"Temperature (K)\": 27739, \"Luminosity(L/Lo)\": 849420.0, \"Radius(R/Ro)\": 1252.0, \"Absolute magnitude(Mv)\": -7.59, \"Star type\": 5, \"Star color\": \"Blue-white\", \"Spectral Class\": \"B\"}, {\"Temperature (K)\": 21904, \"Luminosity(L/Lo)\": 748490.0, \"Radius(R/Ro)\": 1130.0, \"Absolute magnitude(Mv)\": -7.67, \"Star type\": 5, \"Star color\": \"Blue-white\", \"Spectral Class\": \"B\"}, {\"Temperature (K)\": 38940, \"Luminosity(L/Lo)\": 374830.0, \"Radius(R/Ro)\": 1356.0, \"Absolute magnitude(Mv)\": -9.93, \"Star type\": 5, \"Star color\": \"Blue\", \"Spectral Class\": \"O\"}, {\"Temperature (K)\": 30839, \"Luminosity(L/Lo)\": 834042.0, \"Radius(R/Ro)\": 1194.0, \"Absolute magnitude(Mv)\": -10.63, \"Star type\": 5, \"Star color\": \"Blue\", \"Spectral Class\": \"O\"}, {\"Temperature (K)\": 8829, \"Luminosity(L/Lo)\": 537493.0, \"Radius(R/Ro)\": 1423.0, \"Absolute magnitude(Mv)\": -10.73, \"Star type\": 5, \"Star color\": \"White\", \"Spectral Class\": \"A\"}, {\"Temperature (K)\": 9235, \"Luminosity(L/Lo)\": 404940.0, \"Radius(R/Ro)\": 1112.0, \"Absolute magnitude(Mv)\": -11.23, \"Star type\": 5, \"Star color\": \"White\", \"Spectral Class\": \"A\"}, {\"Temperature (K)\": 37882, \"Luminosity(L/Lo)\": 294903.0, \"Radius(R/Ro)\": 1783.0, \"Absolute magnitude(Mv)\": -7.8, \"Star type\": 5, \"Star color\": \"Blue\", \"Spectral Class\": \"O\"}]}}, {\"mode\": \"vega-lite\"});\n",
       "</script>"
      ],
      "text/plain": [
       "alt.Chart(...)"
      ]
     },
     "execution_count": 241,
     "metadata": {},
     "output_type": "execute_result"
    }
   ],
   "source": [
    "import altair as alt\n",
    "\n",
    "star_chart = alt.Chart(star_data).mark_circle().encode(\n",
    "\n",
    "    x = alt.X('Luminosity(L/Lo):Q', scale = alt.Scale(type = 'log', domain = [0.00001, 10000000])),\n",
    "    y = 'Temperature (K):Q',\n",
    "    color = \"Spectral Class:N\"\n",
    ")\n",
    "star_chart"
   ]
  },
  {
   "cell_type": "markdown",
   "metadata": {
    "cell_id": "584e82f4e68e44eeae56a5eaa5affea1",
    "deepnote_cell_type": "markdown"
   },
   "source": [
    "This graph shows the relationship with temperature and luminosity with the different star types in the dataset. If we go and compare this graph to the Hertzsprung-Russel Diagram, it is very simliar in nature. We can see the cluster of stars that curve up which are part of the main sequence. Then there is a cluster to the right side above the curve that correspond to the different Supergiant class star types. Finally we can see another cluster to the left side of the graph that indicate where the white dwarfs are. "
   ]
  },
  {
   "cell_type": "code",
   "execution_count": null,
   "metadata": {
    "cell_id": "a2b0e1307c5540b8b026b3abd3d23a4f",
    "deepnote_cell_type": "code",
    "deepnote_to_be_reexecuted": false,
    "execution_millis": 7,
    "execution_start": 1702516935658,
    "source_hash": null
   },
   "outputs": [],
   "source": [
    "star_data.columns = ['temperature', 'luminosity', \n",
    "              'radius', 'absolute_magnitude', \n",
    "              'star_type', 'star_color', 'spectral_class']"
   ]
  },
  {
   "cell_type": "markdown",
   "metadata": {
    "cell_id": "084bb542444045978be71a3740d33d88",
    "deepnote_cell_type": "markdown"
   },
   "source": [
    "I am replacing the names of the different values in this dataset to easier to write names. "
   ]
  },
  {
   "cell_type": "code",
   "execution_count": null,
   "metadata": {
    "cell_id": "83e3cb12a0c441259ccd2f2c25f6ccdf",
    "deepnote_cell_type": "code",
    "deepnote_to_be_reexecuted": false,
    "execution_millis": 17,
    "execution_start": 1702516937748,
    "source_hash": null
   },
   "outputs": [],
   "source": [
    "star_data.replace('Blue', 'Blue', inplace = True)\n",
    "star_data.replace('white', 'White', inplace = True)\n",
    "star_data.replace(['Blue White', 'Blue white', 'Blue white ', 'Blue-white'], 'Blue-White', inplace= True)\n",
    "star_data.replace('yellowish', 'Yellowish', inplace= True)\n",
    "star_data.replace('yellow-white', 'Yellow-White', inplace= True)"
   ]
  },
  {
   "cell_type": "markdown",
   "metadata": {
    "cell_id": "184dd4631ef645eeb511c940ebaf28a1",
    "deepnote_cell_type": "markdown"
   },
   "source": [
    "Some of the color code in the dataset is incorrect so I have to correct it to the right color indexes."
   ]
  },
  {
   "cell_type": "code",
   "execution_count": null,
   "metadata": {
    "cell_id": "b7df890b44c7446b8c6de0a9a4797921",
    "deepnote_cell_type": "code",
    "deepnote_to_be_reexecuted": false,
    "execution_millis": 13,
    "execution_start": 1702516940064,
    "source_hash": null
   },
   "outputs": [
    {
     "data": {
      "text/plain": [
       "array(['Red', 'Blue-White', 'White', 'Yellowish White',\n",
       "       'Pale yellow orange', 'Blue', 'Whitish', 'Yellow-White', 'Orange',\n",
       "       'White-Yellow', 'Blue ', 'Yellowish', 'Orange-Red'], dtype=object)"
      ]
     },
     "execution_count": 244,
     "metadata": {},
     "output_type": "execute_result"
    }
   ],
   "source": [
    "star_data['star_color'].unique()"
   ]
  },
  {
   "cell_type": "code",
   "execution_count": null,
   "metadata": {
    "cell_id": "2604c25f2e744a7f81ebb4f29a386ef3",
    "deepnote_cell_type": "code",
    "deepnote_to_be_reexecuted": false,
    "execution_millis": 7,
    "execution_start": 1702516942897,
    "source_hash": null
   },
   "outputs": [],
   "source": [
    "count_star_color = pd.DataFrame({'Count': star_data['star_color'].value_counts(ascending= True)})"
   ]
  },
  {
   "cell_type": "markdown",
   "metadata": {
    "cell_id": "41fc6e5af4ac48b3ae00146beed4629b",
    "deepnote_cell_type": "markdown"
   },
   "source": [
    "This bar graph goes to show the different number of stars in the dataset that correspond to the different star colors assocaited with it. "
   ]
  },
  {
   "cell_type": "code",
   "execution_count": null,
   "metadata": {
    "cell_id": "298974caa6e742bca47c4bcfb67e9534",
    "deepnote_cell_type": "code",
    "deepnote_to_be_reexecuted": false,
    "execution_millis": 325,
    "execution_start": 1702516945176,
    "source_hash": null
   },
   "outputs": [
    {
     "data": {
      "image/png": "[encoded data removed]",
      "text/plain": [
       "<Figure size 1000x800 with 1 Axes>"
      ]
     },
     "metadata": {
      "image/png": {
       "height": 703,
       "width": 968
      }
     },
     "output_type": "display_data"
    }
   ],
   "source": [
    "import matplotlib.pyplot as plt\n",
    "\n",
    "plt.figure(figsize= (10, 8))\n",
    "bars = plt.barh(count_star_color.index, count_star_color['Count'])\n",
    "\n",
    "\n",
    "for index, bar in enumerate(bars):\n",
    "  plt.text(bar.get_width() + 1, index - 0.1, bar.get_width())\n",
    "\n",
    "plt.title('Count of stars per star color type', fontsize= 16)\n",
    "plt.xlabel('Count')\n",
    "plt.ylabel('Star color')\n",
    "plt.xlim([0, 140])\n",
    "plt.show()"
   ]
  },
  {
   "cell_type": "markdown",
   "metadata": {
    "cell_id": "4f5161f7bcb341b28a2cc360b2c17e50",
    "deepnote_cell_type": "markdown"
   },
   "source": [
    "## Star Temperature Behavior "
   ]
  },
  {
   "cell_type": "markdown",
   "metadata": {
    "cell_id": "3a999f7b5c39410b9e290368cac061a1",
    "deepnote_cell_type": "markdown"
   },
   "source": [
    "Here is where I will be gathering the mean, median, and std specifically for the temperature to help visulize the dataset on how temperature affects the range of the different star colors collected within the dataset."
   ]
  },
  {
   "cell_type": "code",
   "execution_count": null,
   "metadata": {
    "cell_id": "ca224d1eeab147eb82ba55424433d218",
    "deepnote_cell_type": "code",
    "deepnote_table_loading": false,
    "deepnote_table_state": {
     "filters": [],
     "pageIndex": 0,
     "pageSize": 10,
     "sortBy": []
    },
    "deepnote_to_be_reexecuted": false,
    "execution_millis": 16,
    "execution_start": 1702516949850,
    "source_hash": null
   },
   "outputs": [
    {
     "data": {
      "application/vnd.deepnote.dataframe.v3+json": {
       "column_count": 3,
       "columns": [
        {
         "dtype": "float64",
         "name": "mean",
         "stats": {
          "histogram": [
           {
            "bin_end": 5158.183506493507,
            "bin_start": 3291.785714285714,
            "count": 4
           },
           {
            "bin_end": 7024.5812987013,
            "bin_start": 5158.183506493507,
            "count": 1
           },
           {
            "bin_end": 8890.979090909092,
            "bin_start": 7024.5812987013,
            "count": 3
           },
           {
            "bin_end": 10757.376883116884,
            "bin_start": 8890.979090909092,
            "count": 1
           },
           {
            "bin_end": 12623.774675324676,
            "bin_start": 10757.376883116884,
            "count": 1
           },
           {
            "bin_end": 14490.17246753247,
            "bin_start": 12623.774675324676,
            "count": 0
           },
           {
            "bin_end": 16356.570259740261,
            "bin_start": 14490.17246753247,
            "count": 0
           },
           {
            "bin_end": 18222.968051948053,
            "bin_start": 16356.570259740261,
            "count": 1
           },
           {
            "bin_end": 20089.365844155847,
            "bin_start": 18222.968051948053,
            "count": 1
           },
           {
            "bin_end": 21955.763636363637,
            "bin_start": 20089.365844155847,
            "count": 1
           }
          ],
          "max": "21955.763636363637",
          "min": "3291.785714285714",
          "nan_count": 0,
          "unique_count": 13
         }
        },
        {
         "dtype": "float64",
         "name": "median",
         "stats": {
          "histogram": [
           {
            "bin_end": 4983.9,
            "bin_start": 3324,
            "count": 3
           },
           {
            "bin_end": 6643.8,
            "bin_start": 4983.9,
            "count": 2
           },
           {
            "bin_end": 8303.7,
            "bin_start": 6643.8,
            "count": 2
           },
           {
            "bin_end": 9963.6,
            "bin_start": 8303.7,
            "count": 2
           },
           {
            "bin_end": 11623.5,
            "bin_start": 9963.6,
            "count": 0
           },
           {
            "bin_end": 13283.400000000001,
            "bin_start": 11623.5,
            "count": 1
           },
           {
            "bin_end": 14943.300000000001,
            "bin_start": 13283.400000000001,
            "count": 1
           },
           {
            "bin_end": 16603.2,
            "bin_start": 14943.300000000001,
            "count": 0
           },
           {
            "bin_end": 18263.1,
            "bin_start": 16603.2,
            "count": 0
           },
           {
            "bin_end": 19923,
            "bin_start": 18263.1,
            "count": 2
           }
          ],
          "max": "19923.0",
          "min": "3324.0",
          "nan_count": 0,
          "unique_count": 13
         }
        },
        {
         "dtype": "float64",
         "name": "std",
         "stats": {
          "histogram": [
           {
            "bin_end": 1296.073866106345,
            "bin_start": 380.42344827836257,
            "count": 5
           },
           {
            "bin_end": 2211.724283934327,
            "bin_start": 1296.073866106345,
            "count": 0
           },
           {
            "bin_end": 3127.3747017623095,
            "bin_start": 2211.724283934327,
            "count": 2
           },
           {
            "bin_end": 4043.025119590292,
            "bin_start": 3127.3747017623095,
            "count": 0
           },
           {
            "bin_end": 4958.675537418274,
            "bin_start": 4043.025119590292,
            "count": 0
           },
           {
            "bin_end": 5874.325955246256,
            "bin_start": 4958.675537418274,
            "count": 0
           },
           {
            "bin_end": 6789.976373074239,
            "bin_start": 5874.325955246256,
            "count": 1
           },
           {
            "bin_end": 7705.626790902221,
            "bin_start": 6789.976373074239,
            "count": 0
           },
           {
            "bin_end": 8621.277208730204,
            "bin_start": 7705.626790902221,
            "count": 0
           },
           {
            "bin_end": 9536.927626558187,
            "bin_start": 8621.277208730204,
            "count": 1
           }
          ],
          "max": "9536.927626558187",
          "min": "380.42344827836257",
          "nan_count": 4,
          "unique_count": 9
         }
        },
        {
         "dtype": "object",
         "name": "_deepnote_index_column"
        }
       ],
       "row_count": 13,
       "rows": [
        {
         "_deepnote_index_column": "Blue",
         "mean": 21955.763636363637,
         "median": 19923,
         "std": 9536.927626558187
        },
        {
         "_deepnote_index_column": "Blue ",
         "mean": 19860,
         "median": 19860,
         "std": "nan"
        },
        {
         "_deepnote_index_column": "Blue-White",
         "mean": 16659.951219512193,
         "median": 14100,
         "std": 6560.050963792963
        },
        {
         "_deepnote_index_column": "Orange",
         "mean": 4018,
         "median": 4018,
         "std": 380.42344827836257
        },
        {
         "_deepnote_index_column": "Orange-Red",
         "mean": 5112,
         "median": 5112,
         "std": "nan"
        },
        {
         "_deepnote_index_column": "Pale yellow orange",
         "mean": 7230,
         "median": 7230,
         "std": "nan"
        },
        {
         "_deepnote_index_column": "Red",
         "mean": 3291.785714285714,
         "median": 3324,
         "std": 490.78076110393283
        },
        {
         "_deepnote_index_column": "White",
         "mean": 9720.3,
         "median": 8879.5,
         "std": 2563.623176071103
        },
        {
         "_deepnote_index_column": "White-Yellow",
         "mean": 7100,
         "median": 7100,
         "std": "nan"
        },
        {
         "_deepnote_index_column": "Whitish",
         "mean": 8876,
         "median": 8876,
         "std": 1165.3119753954304
        }
       ]
      },
      "text/html": [
       "<div>\n",
       "<style scoped>\n",
       "    .dataframe tbody tr th:only-of-type {\n",
       "        vertical-align: middle;\n",
       "    }\n",
       "\n",
       "    .dataframe tbody tr th {\n",
       "        vertical-align: top;\n",
       "    }\n",
       "\n",
       "    .dataframe thead th {\n",
       "        text-align: right;\n",
       "    }\n",
       "</style>\n",
       "<table border=\"1\" class=\"dataframe\">\n",
       "  <thead>\n",
       "    <tr style=\"text-align: right;\">\n",
       "      <th></th>\n",
       "      <th>mean</th>\n",
       "      <th>median</th>\n",
       "      <th>std</th>\n",
       "    </tr>\n",
       "    <tr>\n",
       "      <th>star_color</th>\n",
       "      <th></th>\n",
       "      <th></th>\n",
       "      <th></th>\n",
       "    </tr>\n",
       "  </thead>\n",
       "  <tbody>\n",
       "    <tr>\n",
       "      <th>Blue</th>\n",
       "      <td>21955.763636</td>\n",
       "      <td>19923.0</td>\n",
       "      <td>9536.927627</td>\n",
       "    </tr>\n",
       "    <tr>\n",
       "      <th>Blue</th>\n",
       "      <td>19860.000000</td>\n",
       "      <td>19860.0</td>\n",
       "      <td>NaN</td>\n",
       "    </tr>\n",
       "    <tr>\n",
       "      <th>Blue-White</th>\n",
       "      <td>16659.951220</td>\n",
       "      <td>14100.0</td>\n",
       "      <td>6560.050964</td>\n",
       "    </tr>\n",
       "    <tr>\n",
       "      <th>Orange</th>\n",
       "      <td>4018.000000</td>\n",
       "      <td>4018.0</td>\n",
       "      <td>380.423448</td>\n",
       "    </tr>\n",
       "    <tr>\n",
       "      <th>Orange-Red</th>\n",
       "      <td>5112.000000</td>\n",
       "      <td>5112.0</td>\n",
       "      <td>NaN</td>\n",
       "    </tr>\n",
       "    <tr>\n",
       "      <th>Pale yellow orange</th>\n",
       "      <td>7230.000000</td>\n",
       "      <td>7230.0</td>\n",
       "      <td>NaN</td>\n",
       "    </tr>\n",
       "    <tr>\n",
       "      <th>Red</th>\n",
       "      <td>3291.785714</td>\n",
       "      <td>3324.0</td>\n",
       "      <td>490.780761</td>\n",
       "    </tr>\n",
       "    <tr>\n",
       "      <th>White</th>\n",
       "      <td>9720.300000</td>\n",
       "      <td>8879.5</td>\n",
       "      <td>2563.623176</td>\n",
       "    </tr>\n",
       "    <tr>\n",
       "      <th>White-Yellow</th>\n",
       "      <td>7100.000000</td>\n",
       "      <td>7100.0</td>\n",
       "      <td>NaN</td>\n",
       "    </tr>\n",
       "    <tr>\n",
       "      <th>Whitish</th>\n",
       "      <td>8876.000000</td>\n",
       "      <td>8876.0</td>\n",
       "      <td>1165.311975</td>\n",
       "    </tr>\n",
       "    <tr>\n",
       "      <th>Yellow-White</th>\n",
       "      <td>6466.250000</td>\n",
       "      <td>6158.0</td>\n",
       "      <td>1049.074524</td>\n",
       "    </tr>\n",
       "    <tr>\n",
       "      <th>Yellowish</th>\n",
       "      <td>4527.666667</td>\n",
       "      <td>4526.0</td>\n",
       "      <td>451.502307</td>\n",
       "    </tr>\n",
       "    <tr>\n",
       "      <th>Yellowish White</th>\n",
       "      <td>10826.666667</td>\n",
       "      <td>11790.0</td>\n",
       "      <td>2773.451520</td>\n",
       "    </tr>\n",
       "  </tbody>\n",
       "</table>\n",
       "</div>"
      ],
      "text/plain": [
       "                            mean   median          std\n",
       "star_color                                            \n",
       "Blue                21955.763636  19923.0  9536.927627\n",
       "Blue                19860.000000  19860.0          NaN\n",
       "Blue-White          16659.951220  14100.0  6560.050964\n",
       "Orange               4018.000000   4018.0   380.423448\n",
       "Orange-Red           5112.000000   5112.0          NaN\n",
       "Pale yellow orange   7230.000000   7230.0          NaN\n",
       "Red                  3291.785714   3324.0   490.780761\n",
       "White                9720.300000   8879.5  2563.623176\n",
       "White-Yellow         7100.000000   7100.0          NaN\n",
       "Whitish              8876.000000   8876.0  1165.311975\n",
       "Yellow-White         6466.250000   6158.0  1049.074524\n",
       "Yellowish            4527.666667   4526.0   451.502307\n",
       "Yellowish White     10826.666667  11790.0  2773.451520"
      ]
     },
     "execution_count": 247,
     "metadata": {},
     "output_type": "execute_result"
    }
   ],
   "source": [
    "star_data.groupby('star_color').agg(['mean', 'median', 'std'])['temperature']"
   ]
  },
  {
   "cell_type": "code",
   "execution_count": null,
   "metadata": {
    "cell_id": "0b8824e79aaf4084b9b60b697e5f9174",
    "deepnote_cell_type": "code",
    "deepnote_to_be_reexecuted": false,
    "execution_millis": 18,
    "execution_start": 1702516952765,
    "source_hash": null
   },
   "outputs": [],
   "source": [
    "red_star = star_data.query('star_color == \"Red\"')\n",
    "blue_star = star_data.query('star_color == \"Blue\"')\n",
    "blue_white_star = star_data.query('star_color == \"Blue-White\"')\n",
    "white_star = star_data.query('star_color == \"White\"')\n",
    "yellow_white_star = star_data.query('star_color == \"Yellow-White\"')\n",
    "\n",
    "chart1 = alt.Chart(red_star).mark_bar().encode(\n",
    "    x = alt.X('temperature', bin=alt.Bin(maxbins=30)),\n",
    "    y='count()',\n",
    "    color=alt.value('red')\n",
    ").properties(title='Red')\n",
    "\n",
    "chart2 = alt.Chart(blue_star).mark_bar().encode(\n",
    "    x = alt.X('temperature', bin=alt.Bin(maxbins=30)),\n",
    "    y='count()',\n",
    "    color=alt.value('blue')\n",
    ").properties(title='Blue')\n",
    "\n",
    "chart3 = alt.Chart(blue_white_star).mark_bar().encode(\n",
    "    x = alt.X('temperature', bin=alt.Bin(maxbins=30)),\n",
    "    y='count()',\n",
    "    color=alt.value('#99ccff')\n",
    ").properties(title='Blue-White')\n",
    "\n",
    "chart4 = alt.Chart(white_star).mark_bar().encode(\n",
    "    x = alt.X('temperature', bin=alt.Bin(maxbins=30)),\n",
    "    y='count()',\n",
    "    color=alt.value('black')\n",
    ").properties(title='White')\n",
    "\n",
    "chart5 = alt.Chart(yellow_white_star).mark_bar().encode(\n",
    "    x = alt.X('temperature', bin=alt.Bin(maxbins=30)),\n",
    "    y='count()',\n",
    "    color=alt.value('yellow')\n",
    ").properties(title='Yellow-White')\n",
    "\n"
   ]
  },
  {
   "cell_type": "code",
   "execution_count": null,
   "metadata": {
    "cell_id": "0486f7f109aa45fbbb5758de395e581d",
    "deepnote_cell_type": "code",
    "deepnote_to_be_reexecuted": false,
    "execution_millis": 18,
    "execution_start": 1702516955781,
    "source_hash": null
   },
   "outputs": [
    {
     "data": {
      "text/html": [
       "\n",
       "<div id=\"altair-viz-4f38583424cf4a4092ba3c3db4cfb917\"></div>\n",
       "<script type=\"text/javascript\">\n",
       "  var VEGA_DEBUG = (typeof VEGA_DEBUG == \"undefined\") ? {} : VEGA_DEBUG;\n",
       "  (function(spec, embedOpt){\n",
       "    let outputDiv = document.currentScript.previousElementSibling;\n",
       "    if (outputDiv.id !== \"altair-viz-4f38583424cf4a4092ba3c3db4cfb917\") {\n",
       "      outputDiv = document.getElementById(\"altair-viz-4f38583424cf4a4092ba3c3db4cfb917\");\n",
       "    }\n",
       "    const paths = {\n",
       "      \"vega\": \"https://cdn.jsdelivr.net/npm//vega@5?noext\",\n",
       "      \"vega-lib\": \"https://cdn.jsdelivr.net/npm//vega-lib?noext\",\n",
       "      \"vega-lite\": \"https://cdn.jsdelivr.net/npm//vega-lite@4.17.0?noext\",\n",
       "      \"vega-embed\": \"https://cdn.jsdelivr.net/npm//vega-embed@6?noext\",\n",
       "    };\n",
       "\n",
       "    function maybeLoadScript(lib, version) {\n",
       "      var key = `${lib.replace(\"-\", \"\")}_version`;\n",
       "      return (VEGA_DEBUG[key] == version) ?\n",
       "        Promise.resolve(paths[lib]) :\n",
       "        new Promise(function(resolve, reject) {\n",
       "          var s = document.createElement('script');\n",
       "          document.getElementsByTagName(\"head\")[0].appendChild(s);\n",
       "          s.async = true;\n",
       "          s.onload = () => {\n",
       "            VEGA_DEBUG[key] = version;\n",
       "            return resolve(paths[lib]);\n",
       "          };\n",
       "          s.onerror = () => reject(`Error loading script: ${paths[lib]}`);\n",
       "          s.src = paths[lib];\n",
       "        });\n",
       "    }\n",
       "\n",
       "    function showError(err) {\n",
       "      outputDiv.innerHTML = `<div class=\"error\" style=\"color:red;\">${err}</div>`;\n",
       "      throw err;\n",
       "    }\n",
       "\n",
       "    function displayChart(vegaEmbed) {\n",
       "      vegaEmbed(outputDiv, spec, embedOpt)\n",
       "        .catch(err => showError(`Javascript Error: ${err.message}<br>This usually means there's a typo in your chart specification. See the javascript console for the full traceback.`));\n",
       "    }\n",
       "\n",
       "    if(typeof define === \"function\" && define.amd) {\n",
       "      requirejs.config({paths});\n",
       "      require([\"vega-embed\"], displayChart, err => showError(`Error loading script: ${err.message}`));\n",
       "    } else {\n",
       "      maybeLoadScript(\"vega\", \"5\")\n",
       "        .then(() => maybeLoadScript(\"vega-lite\", \"4.17.0\"))\n",
       "        .then(() => maybeLoadScript(\"vega-embed\", \"6\"))\n",
       "        .catch(showError)\n",
       "        .then(() => displayChart(vegaEmbed));\n",
       "    }\n",
       "  })({\"config\": {\"view\": {\"continuousWidth\": 400, \"continuousHeight\": 300}}, \"data\": {\"name\": \"data-ef3923edf3d8f33293f192a302995ade\"}, \"mark\": \"bar\", \"encoding\": {\"color\": {\"value\": \"red\"}, \"x\": {\"bin\": {\"maxbins\": 30}, \"field\": \"temperature\", \"type\": \"quantitative\"}, \"y\": {\"aggregate\": \"count\", \"type\": \"quantitative\"}}, \"title\": \"Red\", \"$schema\": \"https://vega.github.io/schema/vega-lite/v4.17.0.json\", \"datasets\": {\"data-ef3923edf3d8f33293f192a302995ade\": [{\"temperature\": 3068, \"luminosity\": 0.0024, \"radius\": 0.17, \"absolute_magnitude\": 16.12, \"star_type\": 0, \"star_color\": \"Red\", \"spectral_class\": \"M\"}, {\"temperature\": 3042, \"luminosity\": 0.0005, \"radius\": 0.1542, \"absolute_magnitude\": 16.6, \"star_type\": 0, \"star_color\": \"Red\", \"spectral_class\": \"M\"}, {\"temperature\": 2600, \"luminosity\": 0.0003, \"radius\": 0.102, \"absolute_magnitude\": 18.7, \"star_type\": 0, \"star_color\": \"Red\", \"spectral_class\": \"M\"}, {\"temperature\": 2800, \"luminosity\": 0.0002, \"radius\": 0.16, \"absolute_magnitude\": 16.65, \"star_type\": 0, \"star_color\": \"Red\", \"spectral_class\": \"M\"}, {\"temperature\": 1939, \"luminosity\": 0.000138, \"radius\": 0.103, \"absolute_magnitude\": 20.06, \"star_type\": 0, \"star_color\": \"Red\", \"spectral_class\": \"M\"}, {\"temperature\": 2840, \"luminosity\": 0.00065, \"radius\": 0.11, \"absolute_magnitude\": 16.98, \"star_type\": 0, \"star_color\": \"Red\", \"spectral_class\": \"M\"}, {\"temperature\": 2637, \"luminosity\": 0.00073, \"radius\": 0.127, \"absolute_magnitude\": 17.22, \"star_type\": 0, \"star_color\": \"Red\", \"spectral_class\": \"M\"}, {\"temperature\": 2600, \"luminosity\": 0.0004, \"radius\": 0.096, \"absolute_magnitude\": 17.4, \"star_type\": 0, \"star_color\": \"Red\", \"spectral_class\": \"M\"}, {\"temperature\": 2650, \"luminosity\": 0.00069, \"radius\": 0.11, \"absolute_magnitude\": 17.45, \"star_type\": 0, \"star_color\": \"Red\", \"spectral_class\": \"M\"}, {\"temperature\": 2700, \"luminosity\": 0.00018, \"radius\": 0.13, \"absolute_magnitude\": 16.05, \"star_type\": 0, \"star_color\": \"Red\", \"spectral_class\": \"M\"}, {\"temperature\": 3600, \"luminosity\": 0.0029, \"radius\": 0.51, \"absolute_magnitude\": 10.69, \"star_type\": 1, \"star_color\": \"Red\", \"spectral_class\": \"M\"}, {\"temperature\": 3129, \"luminosity\": 0.0122, \"radius\": 0.3761, \"absolute_magnitude\": 11.79, \"star_type\": 1, \"star_color\": \"Red\", \"spectral_class\": \"M\"}, {\"temperature\": 3134, \"luminosity\": 0.0004, \"radius\": 0.196, \"absolute_magnitude\": 13.21, \"star_type\": 1, \"star_color\": \"Red\", \"spectral_class\": \"M\"}, {\"temperature\": 3628, \"luminosity\": 0.0055, \"radius\": 0.393, \"absolute_magnitude\": 10.48, \"star_type\": 1, \"star_color\": \"Red\", \"spectral_class\": \"M\"}, {\"temperature\": 2650, \"luminosity\": 0.0006, \"radius\": 0.14, \"absolute_magnitude\": 11.782, \"star_type\": 1, \"star_color\": \"Red\", \"spectral_class\": \"M\"}, {\"temperature\": 3340, \"luminosity\": 0.0038, \"radius\": 0.24, \"absolute_magnitude\": 13.07, \"star_type\": 1, \"star_color\": \"Red\", \"spectral_class\": \"M\"}, {\"temperature\": 2799, \"luminosity\": 0.0018, \"radius\": 0.16, \"absolute_magnitude\": 14.79, \"star_type\": 1, \"star_color\": \"Red\", \"spectral_class\": \"M\"}, {\"temperature\": 3692, \"luminosity\": 0.00367, \"radius\": 0.47, \"absolute_magnitude\": 10.8, \"star_type\": 1, \"star_color\": \"Red\", \"spectral_class\": \"M\"}, {\"temperature\": 3192, \"luminosity\": 0.00362, \"radius\": 0.1967, \"absolute_magnitude\": 13.53, \"star_type\": 1, \"star_color\": \"Red\", \"spectral_class\": \"M\"}, {\"temperature\": 3441, \"luminosity\": 0.039, \"radius\": 0.351, \"absolute_magnitude\": 11.18, \"star_type\": 1, \"star_color\": \"Red\", \"spectral_class\": \"M\"}, {\"temperature\": 3826, \"luminosity\": 200000.0, \"radius\": 19.0, \"absolute_magnitude\": -6.93, \"star_type\": 4, \"star_color\": \"Red\", \"spectral_class\": \"M\"}, {\"temperature\": 3365, \"luminosity\": 340000.0, \"radius\": 23.0, \"absolute_magnitude\": -6.2, \"star_type\": 4, \"star_color\": \"Red\", \"spectral_class\": \"M\"}, {\"temperature\": 3270, \"luminosity\": 150000.0, \"radius\": 88.0, \"absolute_magnitude\": -6.02, \"star_type\": 4, \"star_color\": \"Red\", \"spectral_class\": \"M\"}, {\"temperature\": 3200, \"luminosity\": 195000.0, \"radius\": 17.0, \"absolute_magnitude\": -7.22, \"star_type\": 4, \"star_color\": \"Red\", \"spectral_class\": \"M\"}, {\"temperature\": 3008, \"luminosity\": 280000.0, \"radius\": 25.0, \"absolute_magnitude\": -6.0, \"star_type\": 4, \"star_color\": \"Red\", \"spectral_class\": \"M\"}, {\"temperature\": 3600, \"luminosity\": 320000.0, \"radius\": 29.0, \"absolute_magnitude\": -6.6, \"star_type\": 4, \"star_color\": \"Red\", \"spectral_class\": \"M\"}, {\"temperature\": 3575, \"luminosity\": 123000.0, \"radius\": 45.0, \"absolute_magnitude\": -6.78, \"star_type\": 4, \"star_color\": \"Red\", \"spectral_class\": \"M\"}, {\"temperature\": 3574, \"luminosity\": 200000.0, \"radius\": 89.0, \"absolute_magnitude\": -5.24, \"star_type\": 4, \"star_color\": \"Red\", \"spectral_class\": \"M\"}, {\"temperature\": 3625, \"luminosity\": 184000.0, \"radius\": 84.0, \"absolute_magnitude\": -6.74, \"star_type\": 4, \"star_color\": \"Red\", \"spectral_class\": \"M\"}, {\"temperature\": 3490, \"luminosity\": 270000.0, \"radius\": 1520.0, \"absolute_magnitude\": -9.4, \"star_type\": 5, \"star_color\": \"Red\", \"spectral_class\": \"M\"}, {\"temperature\": 3750, \"luminosity\": 283000.0, \"radius\": 1260.0, \"absolute_magnitude\": -7.63, \"star_type\": 5, \"star_color\": \"Red\", \"spectral_class\": \"M\"}, {\"temperature\": 3834, \"luminosity\": 272000.0, \"radius\": 1183.0, \"absolute_magnitude\": -9.2, \"star_type\": 5, \"star_color\": \"Red\", \"spectral_class\": \"M\"}, {\"temperature\": 3650, \"luminosity\": 310000.0, \"radius\": 1324.0, \"absolute_magnitude\": -7.79, \"star_type\": 5, \"star_color\": \"Red\", \"spectral_class\": \"M\"}, {\"temperature\": 3450, \"luminosity\": 263000.0, \"radius\": 1349.0, \"absolute_magnitude\": -11.75, \"star_type\": 5, \"star_color\": \"Red\", \"spectral_class\": \"M\"}, {\"temperature\": 3660, \"luminosity\": 363000.0, \"radius\": 1673.0, \"absolute_magnitude\": -11.92, \"star_type\": 5, \"star_color\": \"Red\", \"spectral_class\": \"M\"}, {\"temperature\": 3450, \"luminosity\": 174000.0, \"radius\": 1284.0, \"absolute_magnitude\": -11.28, \"star_type\": 5, \"star_color\": \"Red\", \"spectral_class\": \"M\"}, {\"temperature\": 3752, \"luminosity\": 209000.0, \"radius\": 955.0, \"absolute_magnitude\": -11.24, \"star_type\": 5, \"star_color\": \"Red\", \"spectral_class\": \"M\"}, {\"temperature\": 3535, \"luminosity\": 195000.0, \"radius\": 1546.0, \"absolute_magnitude\": -11.36, \"star_type\": 5, \"star_color\": \"Red\", \"spectral_class\": \"M\"}, {\"temperature\": 3341, \"luminosity\": 0.0056, \"radius\": 0.057, \"absolute_magnitude\": 16.23, \"star_type\": 0, \"star_color\": \"Red\", \"spectral_class\": \"M\"}, {\"temperature\": 3432, \"luminosity\": 0.00067, \"radius\": 0.19, \"absolute_magnitude\": 16.94, \"star_type\": 0, \"star_color\": \"Red\", \"spectral_class\": \"M\"}, {\"temperature\": 2983, \"luminosity\": 0.00024, \"radius\": 0.094, \"absolute_magnitude\": 16.09, \"star_type\": 0, \"star_color\": \"Red\", \"spectral_class\": \"M\"}, {\"temperature\": 2835, \"luminosity\": 0.00034, \"radius\": 0.0918, \"absolute_magnitude\": 16.96, \"star_type\": 0, \"star_color\": \"Red\", \"spectral_class\": \"M\"}, {\"temperature\": 2935, \"luminosity\": 0.00014, \"radius\": 0.116, \"absolute_magnitude\": 18.89, \"star_type\": 0, \"star_color\": \"Red\", \"spectral_class\": \"M\"}, {\"temperature\": 3295, \"luminosity\": 0.00098, \"radius\": 0.132, \"absolute_magnitude\": 17.13, \"star_type\": 0, \"star_color\": \"Red\", \"spectral_class\": \"M\"}, {\"temperature\": 2945, \"luminosity\": 0.00032, \"radius\": 0.093, \"absolute_magnitude\": 18.34, \"star_type\": 0, \"star_color\": \"Red\", \"spectral_class\": \"M\"}, {\"temperature\": 2817, \"luminosity\": 0.00098, \"radius\": 0.0911, \"absolute_magnitude\": 16.45, \"star_type\": 0, \"star_color\": \"Red\", \"spectral_class\": \"M\"}, {\"temperature\": 2774, \"luminosity\": 0.00036, \"radius\": 0.118, \"absolute_magnitude\": 17.39, \"star_type\": 0, \"star_color\": \"Red\", \"spectral_class\": \"M\"}, {\"temperature\": 2871, \"luminosity\": 0.00072, \"radius\": 0.12, \"absolute_magnitude\": 19.43, \"star_type\": 0, \"star_color\": \"Red\", \"spectral_class\": \"M\"}, {\"temperature\": 3345, \"luminosity\": 0.021, \"radius\": 0.273, \"absolute_magnitude\": 12.3, \"star_type\": 1, \"star_color\": \"Red\", \"spectral_class\": \"M\"}, {\"temperature\": 3607, \"luminosity\": 0.022, \"radius\": 0.38, \"absolute_magnitude\": 10.12, \"star_type\": 1, \"star_color\": \"Red\", \"spectral_class\": \"M\"}, {\"temperature\": 3304, \"luminosity\": 0.0085, \"radius\": 0.18, \"absolute_magnitude\": 13.2, \"star_type\": 1, \"star_color\": \"Red\", \"spectral_class\": \"M\"}, {\"temperature\": 3150, \"luminosity\": 0.0088, \"radius\": 0.35, \"absolute_magnitude\": 11.94, \"star_type\": 1, \"star_color\": \"Red\", \"spectral_class\": \"M\"}, {\"temperature\": 3550, \"luminosity\": 0.004, \"radius\": 0.291, \"absolute_magnitude\": 10.89, \"star_type\": 1, \"star_color\": \"Red\", \"spectral_class\": \"M\"}, {\"temperature\": 3180, \"luminosity\": 0.001, \"radius\": 0.35, \"absolute_magnitude\": 11.76, \"star_type\": 1, \"star_color\": \"Red\", \"spectral_class\": \"M\"}, {\"temperature\": 2890, \"luminosity\": 0.0034, \"radius\": 0.24, \"absolute_magnitude\": 13.46, \"star_type\": 1, \"star_color\": \"Red\", \"spectral_class\": \"M\"}, {\"temperature\": 3342, \"luminosity\": 0.0015, \"radius\": 0.307, \"absolute_magnitude\": 11.87, \"star_type\": 1, \"star_color\": \"Red\", \"spectral_class\": \"M\"}, {\"temperature\": 2621, \"luminosity\": 0.0006, \"radius\": 0.098, \"absolute_magnitude\": 12.81, \"star_type\": 1, \"star_color\": \"Red\", \"spectral_class\": \"M\"}, {\"temperature\": 3158, \"luminosity\": 0.00135, \"radius\": 0.161, \"absolute_magnitude\": 13.98, \"star_type\": 1, \"star_color\": \"Red\", \"spectral_class\": \"M\"}, {\"temperature\": 3459, \"luminosity\": 100000.0, \"radius\": 1289.0, \"absolute_magnitude\": -10.7, \"star_type\": 5, \"star_color\": \"Red\", \"spectral_class\": \"M\"}, {\"temperature\": 3605, \"luminosity\": 126000.0, \"radius\": 1124.0, \"absolute_magnitude\": -10.81, \"star_type\": 5, \"star_color\": \"Red\", \"spectral_class\": \"M\"}, {\"temperature\": 3615, \"luminosity\": 200000.0, \"radius\": 1635.0, \"absolute_magnitude\": -11.33, \"star_type\": 5, \"star_color\": \"Red\", \"spectral_class\": \"M\"}, {\"temperature\": 3399, \"luminosity\": 117000.0, \"radius\": 1486.0, \"absolute_magnitude\": -10.92, \"star_type\": 5, \"star_color\": \"Red\", \"spectral_class\": \"M\"}, {\"temperature\": 3610, \"luminosity\": 132000.0, \"radius\": 1522.0, \"absolute_magnitude\": -10.86, \"star_type\": 5, \"star_color\": \"Red\", \"spectral_class\": \"M\"}, {\"temperature\": 3553, \"luminosity\": 145000.0, \"radius\": 1324.0, \"absolute_magnitude\": -11.03, \"star_type\": 5, \"star_color\": \"Red\", \"spectral_class\": \"M\"}, {\"temperature\": 4015, \"luminosity\": 282000.0, \"radius\": 1534.0, \"absolute_magnitude\": -11.39, \"star_type\": 5, \"star_color\": \"Red\", \"spectral_class\": \"K\"}, {\"temperature\": 3625, \"luminosity\": 74000.0, \"radius\": 876.0, \"absolute_magnitude\": -10.25, \"star_type\": 5, \"star_color\": \"Red\", \"spectral_class\": \"M\"}, {\"temperature\": 6850, \"luminosity\": 229000.0, \"radius\": 1467.0, \"absolute_magnitude\": -10.07, \"star_type\": 5, \"star_color\": \"Red\", \"spectral_class\": \"G\"}, {\"temperature\": 3780, \"luminosity\": 200000.0, \"radius\": 1324.0, \"absolute_magnitude\": -10.7, \"star_type\": 5, \"star_color\": \"Red\", \"spectral_class\": \"M\"}, {\"temperature\": 3323, \"luminosity\": 0.00043, \"radius\": 0.0912, \"absolute_magnitude\": 17.16, \"star_type\": 0, \"star_color\": \"Red\", \"spectral_class\": \"M\"}, {\"temperature\": 3531, \"luminosity\": 0.00093, \"radius\": 0.0976, \"absolute_magnitude\": 19.94, \"star_type\": 0, \"star_color\": \"Red\", \"spectral_class\": \"M\"}, {\"temperature\": 3218, \"luminosity\": 0.00054, \"radius\": 0.11, \"absolute_magnitude\": 20.02, \"star_type\": 0, \"star_color\": \"Red\", \"spectral_class\": \"M\"}, {\"temperature\": 3146, \"luminosity\": 0.00015, \"radius\": 0.0932, \"absolute_magnitude\": 16.92, \"star_type\": 0, \"star_color\": \"Red\", \"spectral_class\": \"M\"}, {\"temperature\": 3511, \"luminosity\": 0.00064, \"radius\": 0.109, \"absolute_magnitude\": 17.12, \"star_type\": 0, \"star_color\": \"Red\", \"spectral_class\": \"M\"}, {\"temperature\": 3225, \"luminosity\": 0.00076, \"radius\": 0.121, \"absolute_magnitude\": 19.63, \"star_type\": 0, \"star_color\": \"Red\", \"spectral_class\": \"M\"}, {\"temperature\": 2935, \"luminosity\": 0.00087, \"radius\": 0.0932, \"absolute_magnitude\": 16.88, \"star_type\": 0, \"star_color\": \"Red\", \"spectral_class\": \"M\"}, {\"temperature\": 2861, \"luminosity\": 0.00019, \"radius\": 0.0899, \"absolute_magnitude\": 16.71, \"star_type\": 0, \"star_color\": \"Red\", \"spectral_class\": \"M\"}, {\"temperature\": 2856, \"luminosity\": 0.000896, \"radius\": 0.0782, \"absolute_magnitude\": 19.56, \"star_type\": 0, \"star_color\": \"Red\", \"spectral_class\": \"M\"}, {\"temperature\": 2731, \"luminosity\": 0.000437, \"radius\": 0.0856, \"absolute_magnitude\": 18.09, \"star_type\": 0, \"star_color\": \"Red\", \"spectral_class\": \"M\"}, {\"temperature\": 3095, \"luminosity\": 0.00019, \"radius\": 0.492, \"absolute_magnitude\": 10.87, \"star_type\": 1, \"star_color\": \"Red\", \"spectral_class\": \"M\"}, {\"temperature\": 3607, \"luminosity\": 0.00023, \"radius\": 0.38, \"absolute_magnitude\": 10.34, \"star_type\": 1, \"star_color\": \"Red\", \"spectral_class\": \"M\"}, {\"temperature\": 3100, \"luminosity\": 0.008, \"radius\": 0.31, \"absolute_magnitude\": 11.17, \"star_type\": 1, \"star_color\": \"Red\", \"spectral_class\": \"M\"}, {\"temperature\": 2989, \"luminosity\": 0.0087, \"radius\": 0.34, \"absolute_magnitude\": 13.12, \"star_type\": 1, \"star_color\": \"Red\", \"spectral_class\": \"M\"}, {\"temperature\": 3542, \"luminosity\": 0.0009, \"radius\": 0.62, \"absolute_magnitude\": 14.23, \"star_type\": 1, \"star_color\": \"Red\", \"spectral_class\": \"M\"}, {\"temperature\": 3243, \"luminosity\": 0.0023, \"radius\": 0.73, \"absolute_magnitude\": 14.75, \"star_type\": 1, \"star_color\": \"Red\", \"spectral_class\": \"M\"}, {\"temperature\": 3091, \"luminosity\": 0.0081, \"radius\": 0.24, \"absolute_magnitude\": 11.43, \"star_type\": 1, \"star_color\": \"Red\", \"spectral_class\": \"M\"}, {\"temperature\": 3598, \"luminosity\": 0.0011, \"radius\": 0.56, \"absolute_magnitude\": 14.26, \"star_type\": 1, \"star_color\": \"Red\", \"spectral_class\": \"M\"}, {\"temperature\": 3324, \"luminosity\": 0.0034, \"radius\": 0.34, \"absolute_magnitude\": 12.23, \"star_type\": 1, \"star_color\": \"Red\", \"spectral_class\": \"M\"}, {\"temperature\": 3541, \"luminosity\": 0.0013, \"radius\": 0.256, \"absolute_magnitude\": 14.33, \"star_type\": 1, \"star_color\": \"Red\", \"spectral_class\": \"M\"}, {\"temperature\": 3570, \"luminosity\": 320000.0, \"radius\": 1480.0, \"absolute_magnitude\": -7.58, \"star_type\": 5, \"star_color\": \"Red\", \"spectral_class\": \"M\"}, {\"temperature\": 3500, \"luminosity\": 138000.0, \"radius\": 1420.0, \"absolute_magnitude\": -8.18, \"star_type\": 5, \"star_color\": \"Red\", \"spectral_class\": \"M\"}, {\"temperature\": 3600, \"luminosity\": 240000.0, \"radius\": 1190.0, \"absolute_magnitude\": -7.89, \"star_type\": 5, \"star_color\": \"Red\", \"spectral_class\": \"M\"}, {\"temperature\": 3614, \"luminosity\": 145000.0, \"radius\": 1553.0, \"absolute_magnitude\": -7.71, \"star_type\": 5, \"star_color\": \"Red\", \"spectral_class\": \"M\"}, {\"temperature\": 2831, \"luminosity\": 0.000231, \"radius\": 0.0915, \"absolute_magnitude\": 16.21, \"star_type\": 0, \"star_color\": \"Red\", \"spectral_class\": \"M\"}, {\"temperature\": 2914, \"luminosity\": 0.000631, \"radius\": 0.116, \"absolute_magnitude\": 18.39, \"star_type\": 0, \"star_color\": \"Red\", \"spectral_class\": \"M\"}, {\"temperature\": 3419, \"luminosity\": 0.000245, \"radius\": 0.126, \"absolute_magnitude\": 17.56, \"star_type\": 0, \"star_color\": \"Red\", \"spectral_class\": \"M\"}, {\"temperature\": 3218, \"luminosity\": 0.000452, \"radius\": 0.0987, \"absolute_magnitude\": 17.34, \"star_type\": 0, \"star_color\": \"Red\", \"spectral_class\": \"M\"}, {\"temperature\": 3453, \"luminosity\": 0.000621, \"radius\": 0.0773, \"absolute_magnitude\": 17.08, \"star_type\": 0, \"star_color\": \"Red\", \"spectral_class\": \"M\"}, {\"temperature\": 2889, \"luminosity\": 0.000352, \"radius\": 0.0973, \"absolute_magnitude\": 16.93, \"star_type\": 0, \"star_color\": \"Red\", \"spectral_class\": \"M\"}, {\"temperature\": 2968, \"luminosity\": 0.000461, \"radius\": 0.119, \"absolute_magnitude\": 17.45, \"star_type\": 0, \"star_color\": \"Red\", \"spectral_class\": \"M\"}, {\"temperature\": 3484, \"luminosity\": 0.000551, \"radius\": 0.0998, \"absolute_magnitude\": 16.67, \"star_type\": 0, \"star_color\": \"Red\", \"spectral_class\": \"M\"}, {\"temperature\": 2778, \"luminosity\": 0.000849, \"radius\": 0.112, \"absolute_magnitude\": 19.45, \"star_type\": 0, \"star_color\": \"Red\", \"spectral_class\": \"M\"}, {\"temperature\": 3523, \"luminosity\": 0.000957, \"radius\": 0.129, \"absolute_magnitude\": 16.35, \"star_type\": 0, \"star_color\": \"Red\", \"spectral_class\": \"M\"}, {\"temperature\": 3462, \"luminosity\": 0.0053, \"radius\": 0.148, \"absolute_magnitude\": 11.47, \"star_type\": 1, \"star_color\": \"Red\", \"spectral_class\": \"M\"}, {\"temperature\": 3257, \"luminosity\": 0.0024, \"radius\": 0.46, \"absolute_magnitude\": 10.73, \"star_type\": 1, \"star_color\": \"Red\", \"spectral_class\": \"M\"}, {\"temperature\": 2994, \"luminosity\": 0.0072, \"radius\": 0.28, \"absolute_magnitude\": 13.45, \"star_type\": 1, \"star_color\": \"Red\", \"spectral_class\": \"M\"}, {\"temperature\": 3212, \"luminosity\": 0.0016, \"radius\": 0.378, \"absolute_magnitude\": 12.854, \"star_type\": 1, \"star_color\": \"Red\", \"spectral_class\": \"M\"}, {\"temperature\": 3523, \"luminosity\": 0.0054, \"radius\": 0.319, \"absolute_magnitude\": 12.43, \"star_type\": 1, \"star_color\": \"Red\", \"spectral_class\": \"M\"}, {\"temperature\": 3598, \"luminosity\": 0.0027, \"radius\": 0.67, \"absolute_magnitude\": 13.667, \"star_type\": 1, \"star_color\": \"Red\", \"spectral_class\": \"M\"}, {\"temperature\": 3142, \"luminosity\": 0.00132, \"radius\": 0.258, \"absolute_magnitude\": 14.12, \"star_type\": 1, \"star_color\": \"Red\", \"spectral_class\": \"M\"}, {\"temperature\": 3496, \"luminosity\": 0.00125, \"radius\": 0.336, \"absolute_magnitude\": 14.94, \"star_type\": 1, \"star_color\": \"Red\", \"spectral_class\": \"M\"}, {\"temperature\": 3324, \"luminosity\": 0.0065, \"radius\": 0.471, \"absolute_magnitude\": 12.78, \"star_type\": 1, \"star_color\": \"Red\", \"spectral_class\": \"M\"}, {\"temperature\": 3463, \"luminosity\": 0.0027, \"radius\": 0.675, \"absolute_magnitude\": 14.776, \"star_type\": 1, \"star_color\": \"Red\", \"spectral_class\": \"M\"}]}}, {\"mode\": \"vega-lite\"});\n",
       "</script>"
      ],
      "text/plain": [
       "alt.Chart(...)"
      ]
     },
     "execution_count": 249,
     "metadata": {},
     "output_type": "execute_result"
    }
   ],
   "source": [
    "chart1"
   ]
  },
  {
   "cell_type": "code",
   "execution_count": null,
   "metadata": {
    "cell_id": "fcfe22224f0b4f70b9cb11b0e30ab298",
    "deepnote_cell_type": "code",
    "deepnote_to_be_reexecuted": false,
    "execution_millis": 14,
    "execution_start": 1702516957680,
    "source_hash": null
   },
   "outputs": [
    {
     "data": {
      "text/html": [
       "\n",
       "<div id=\"altair-viz-6fb901a487ac4d2f8ccbf677a1e5d32c\"></div>\n",
       "<script type=\"text/javascript\">\n",
       "  var VEGA_DEBUG = (typeof VEGA_DEBUG == \"undefined\") ? {} : VEGA_DEBUG;\n",
       "  (function(spec, embedOpt){\n",
       "    let outputDiv = document.currentScript.previousElementSibling;\n",
       "    if (outputDiv.id !== \"altair-viz-6fb901a487ac4d2f8ccbf677a1e5d32c\") {\n",
       "      outputDiv = document.getElementById(\"altair-viz-6fb901a487ac4d2f8ccbf677a1e5d32c\");\n",
       "    }\n",
       "    const paths = {\n",
       "      \"vega\": \"https://cdn.jsdelivr.net/npm//vega@5?noext\",\n",
       "      \"vega-lib\": \"https://cdn.jsdelivr.net/npm//vega-lib?noext\",\n",
       "      \"vega-lite\": \"https://cdn.jsdelivr.net/npm//vega-lite@4.17.0?noext\",\n",
       "      \"vega-embed\": \"https://cdn.jsdelivr.net/npm//vega-embed@6?noext\",\n",
       "    };\n",
       "\n",
       "    function maybeLoadScript(lib, version) {\n",
       "      var key = `${lib.replace(\"-\", \"\")}_version`;\n",
       "      return (VEGA_DEBUG[key] == version) ?\n",
       "        Promise.resolve(paths[lib]) :\n",
       "        new Promise(function(resolve, reject) {\n",
       "          var s = document.createElement('script');\n",
       "          document.getElementsByTagName(\"head\")[0].appendChild(s);\n",
       "          s.async = true;\n",
       "          s.onload = () => {\n",
       "            VEGA_DEBUG[key] = version;\n",
       "            return resolve(paths[lib]);\n",
       "          };\n",
       "          s.onerror = () => reject(`Error loading script: ${paths[lib]}`);\n",
       "          s.src = paths[lib];\n",
       "        });\n",
       "    }\n",
       "\n",
       "    function showError(err) {\n",
       "      outputDiv.innerHTML = `<div class=\"error\" style=\"color:red;\">${err}</div>`;\n",
       "      throw err;\n",
       "    }\n",
       "\n",
       "    function displayChart(vegaEmbed) {\n",
       "      vegaEmbed(outputDiv, spec, embedOpt)\n",
       "        .catch(err => showError(`Javascript Error: ${err.message}<br>This usually means there's a typo in your chart specification. See the javascript console for the full traceback.`));\n",
       "    }\n",
       "\n",
       "    if(typeof define === \"function\" && define.amd) {\n",
       "      requirejs.config({paths});\n",
       "      require([\"vega-embed\"], displayChart, err => showError(`Error loading script: ${err.message}`));\n",
       "    } else {\n",
       "      maybeLoadScript(\"vega\", \"5\")\n",
       "        .then(() => maybeLoadScript(\"vega-lite\", \"4.17.0\"))\n",
       "        .then(() => maybeLoadScript(\"vega-embed\", \"6\"))\n",
       "        .catch(showError)\n",
       "        .then(() => displayChart(vegaEmbed));\n",
       "    }\n",
       "  })({\"config\": {\"view\": {\"continuousWidth\": 400, \"continuousHeight\": 300}}, \"data\": {\"name\": \"data-578017ac87af6c3e1db8eb4a155fa6e0\"}, \"mark\": \"bar\", \"encoding\": {\"color\": {\"value\": \"blue\"}, \"x\": {\"bin\": {\"maxbins\": 30}, \"field\": \"temperature\", \"type\": \"quantitative\"}, \"y\": {\"aggregate\": \"count\", \"type\": \"quantitative\"}}, \"title\": \"Blue\", \"$schema\": \"https://vega.github.io/schema/vega-lite/v4.17.0.json\", \"datasets\": {\"data-578017ac87af6c3e1db8eb4a155fa6e0\": [{\"temperature\": 39000, \"luminosity\": 204000.0, \"radius\": 10.6, \"absolute_magnitude\": -4.7, \"star_type\": 3, \"star_color\": \"Blue\", \"spectral_class\": \"O\"}, {\"temperature\": 33750, \"luminosity\": 220000.0, \"radius\": 26.0, \"absolute_magnitude\": -6.1, \"star_type\": 4, \"star_color\": \"Blue\", \"spectral_class\": \"B\"}, {\"temperature\": 36108, \"luminosity\": 198000.0, \"radius\": 10.2, \"absolute_magnitude\": -4.4, \"star_type\": 3, \"star_color\": \"Blue\", \"spectral_class\": \"O\"}, {\"temperature\": 33300, \"luminosity\": 240000.0, \"radius\": 12.0, \"absolute_magnitude\": -6.5, \"star_type\": 4, \"star_color\": \"Blue\", \"spectral_class\": \"B\"}, {\"temperature\": 40000, \"luminosity\": 813000.0, \"radius\": 14.0, \"absolute_magnitude\": -6.23, \"star_type\": 4, \"star_color\": \"Blue\", \"spectral_class\": \"O\"}, {\"temperature\": 23000, \"luminosity\": 127000.0, \"radius\": 36.0, \"absolute_magnitude\": -5.76, \"star_type\": 4, \"star_color\": \"Blue\", \"spectral_class\": \"O\"}, {\"temperature\": 17120, \"luminosity\": 235000.0, \"radius\": 83.0, \"absolute_magnitude\": -6.89, \"star_type\": 4, \"star_color\": \"Blue\", \"spectral_class\": \"O\"}, {\"temperature\": 11096, \"luminosity\": 112000.0, \"radius\": 12.0, \"absolute_magnitude\": -5.91, \"star_type\": 4, \"star_color\": \"Blue\", \"spectral_class\": \"O\"}, {\"temperature\": 14245, \"luminosity\": 231000.0, \"radius\": 42.0, \"absolute_magnitude\": -6.12, \"star_type\": 4, \"star_color\": \"Blue\", \"spectral_class\": \"O\"}, {\"temperature\": 24630, \"luminosity\": 363000.0, \"radius\": 63.0, \"absolute_magnitude\": -5.83, \"star_type\": 4, \"star_color\": \"Blue\", \"spectral_class\": \"O\"}, {\"temperature\": 12893, \"luminosity\": 184000.0, \"radius\": 36.0, \"absolute_magnitude\": -6.34, \"star_type\": 4, \"star_color\": \"Blue\", \"spectral_class\": \"O\"}, {\"temperature\": 24345, \"luminosity\": 142000.0, \"radius\": 57.0, \"absolute_magnitude\": -6.24, \"star_type\": 4, \"star_color\": \"Blue\", \"spectral_class\": \"O\"}, {\"temperature\": 33421, \"luminosity\": 352000.0, \"radius\": 67.0, \"absolute_magnitude\": -5.79, \"star_type\": 4, \"star_color\": \"Blue\", \"spectral_class\": \"O\"}, {\"temperature\": 21020, \"luminosity\": 0.0015, \"radius\": 0.0112, \"absolute_magnitude\": 11.52, \"star_type\": 2, \"star_color\": \"Blue\", \"spectral_class\": \"B\"}, {\"temperature\": 18290, \"luminosity\": 0.0013, \"radius\": 0.00934, \"absolute_magnitude\": 12.78, \"star_type\": 2, \"star_color\": \"Blue\", \"spectral_class\": \"B\"}, {\"temperature\": 37800, \"luminosity\": 202900.0, \"radius\": 6.86, \"absolute_magnitude\": -4.56, \"star_type\": 3, \"star_color\": \"Blue\", \"spectral_class\": \"O\"}, {\"temperature\": 25390, \"luminosity\": 223000.0, \"radius\": 57.0, \"absolute_magnitude\": -5.92, \"star_type\": 4, \"star_color\": \"Blue\", \"spectral_class\": \"O\"}, {\"temperature\": 11567, \"luminosity\": 251000.0, \"radius\": 36.0, \"absolute_magnitude\": -6.245, \"star_type\": 4, \"star_color\": \"Blue\", \"spectral_class\": \"O\"}, {\"temperature\": 12675, \"luminosity\": 452000.0, \"radius\": 83.0, \"absolute_magnitude\": -5.62, \"star_type\": 4, \"star_color\": \"Blue\", \"spectral_class\": \"O\"}, {\"temperature\": 5752, \"luminosity\": 245000.0, \"radius\": 97.0, \"absolute_magnitude\": -6.63, \"star_type\": 4, \"star_color\": \"Blue\", \"spectral_class\": \"O\"}, {\"temperature\": 8927, \"luminosity\": 239000.0, \"radius\": 35.0, \"absolute_magnitude\": -7.34, \"star_type\": 4, \"star_color\": \"Blue\", \"spectral_class\": \"O\"}, {\"temperature\": 7282, \"luminosity\": 131000.0, \"radius\": 24.0, \"absolute_magnitude\": -7.22, \"star_type\": 4, \"star_color\": \"Blue\", \"spectral_class\": \"O\"}, {\"temperature\": 19923, \"luminosity\": 152000.0, \"radius\": 73.0, \"absolute_magnitude\": -5.69, \"star_type\": 4, \"star_color\": \"Blue\", \"spectral_class\": \"O\"}, {\"temperature\": 26373, \"luminosity\": 198000.0, \"radius\": 39.0, \"absolute_magnitude\": -5.83, \"star_type\": 4, \"star_color\": \"Blue\", \"spectral_class\": \"O\"}, {\"temperature\": 17383, \"luminosity\": 342900.0, \"radius\": 30.0, \"absolute_magnitude\": -6.09, \"star_type\": 4, \"star_color\": \"Blue\", \"spectral_class\": \"O\"}, {\"temperature\": 9373, \"luminosity\": 424520.0, \"radius\": 24.0, \"absolute_magnitude\": -5.99, \"star_type\": 4, \"star_color\": \"Blue\", \"spectral_class\": \"O\"}, {\"temperature\": 26000, \"luminosity\": 316000.0, \"radius\": 1679.0, \"absolute_magnitude\": -9.1, \"star_type\": 5, \"star_color\": \"Blue\", \"spectral_class\": \"B\"}, {\"temperature\": 18000, \"luminosity\": 200000.0, \"radius\": 1045.0, \"absolute_magnitude\": -8.3, \"star_type\": 5, \"star_color\": \"Blue\", \"spectral_class\": \"O\"}, {\"temperature\": 16790, \"luminosity\": 0.0014, \"radius\": 0.0121, \"absolute_magnitude\": 12.87, \"star_type\": 2, \"star_color\": \"Blue\", \"spectral_class\": \"B\"}, {\"temperature\": 15680, \"luminosity\": 0.00122, \"radius\": 0.0114, \"absolute_magnitude\": 11.92, \"star_type\": 2, \"star_color\": \"Blue\", \"spectral_class\": \"B\"}, {\"temperature\": 14982, \"luminosity\": 0.00118, \"radius\": 0.0113, \"absolute_magnitude\": 12.23, \"star_type\": 2, \"star_color\": \"Blue\", \"spectral_class\": \"B\"}, {\"temperature\": 13340, \"luminosity\": 0.00109, \"radius\": 0.0116, \"absolute_magnitude\": 12.9, \"star_type\": 2, \"star_color\": \"Blue\", \"spectral_class\": \"B\"}, {\"temperature\": 18340, \"luminosity\": 0.00134, \"radius\": 0.0124, \"absolute_magnitude\": 11.22, \"star_type\": 2, \"star_color\": \"Blue\", \"spectral_class\": \"B\"}, {\"temperature\": 19920, \"luminosity\": 0.00156, \"radius\": 0.0142, \"absolute_magnitude\": 11.34, \"star_type\": 2, \"star_color\": \"Blue\", \"spectral_class\": \"B\"}, {\"temperature\": 24020, \"luminosity\": 0.00159, \"radius\": 0.0127, \"absolute_magnitude\": 10.55, \"star_type\": 2, \"star_color\": \"Blue\", \"spectral_class\": \"B\"}, {\"temperature\": 23092, \"luminosity\": 0.00132, \"radius\": 0.0104, \"absolute_magnitude\": 10.18, \"star_type\": 2, \"star_color\": \"Blue\", \"spectral_class\": \"B\"}, {\"temperature\": 17920, \"luminosity\": 0.00111, \"radius\": 0.0106, \"absolute_magnitude\": 11.66, \"star_type\": 2, \"star_color\": \"Blue\", \"spectral_class\": \"B\"}, {\"temperature\": 19360, \"luminosity\": 0.00125, \"radius\": 0.00998, \"absolute_magnitude\": 11.62, \"star_type\": 2, \"star_color\": \"Blue\", \"spectral_class\": \"B\"}, {\"temperature\": 34190, \"luminosity\": 198200.0, \"radius\": 6.39, \"absolute_magnitude\": -4.57, \"star_type\": 3, \"star_color\": \"Blue\", \"spectral_class\": \"O\"}, {\"temperature\": 32460, \"luminosity\": 173800.0, \"radius\": 6.237, \"absolute_magnitude\": -4.36, \"star_type\": 3, \"star_color\": \"Blue\", \"spectral_class\": \"O\"}, {\"temperature\": 23678, \"luminosity\": 244290.0, \"radius\": 35.0, \"absolute_magnitude\": -6.27, \"star_type\": 4, \"star_color\": \"Blue\", \"spectral_class\": \"O\"}, {\"temperature\": 12749, \"luminosity\": 332520.0, \"radius\": 76.0, \"absolute_magnitude\": -7.02, \"star_type\": 4, \"star_color\": \"Blue\", \"spectral_class\": \"O\"}, {\"temperature\": 9383, \"luminosity\": 342940.0, \"radius\": 98.0, \"absolute_magnitude\": -6.98, \"star_type\": 4, \"star_color\": \"Blue\", \"spectral_class\": \"O\"}, {\"temperature\": 23440, \"luminosity\": 537430.0, \"radius\": 81.0, \"absolute_magnitude\": -5.975, \"star_type\": 4, \"star_color\": \"Blue\", \"spectral_class\": \"O\"}, {\"temperature\": 16787, \"luminosity\": 246730.0, \"radius\": 62.0, \"absolute_magnitude\": -6.35, \"star_type\": 4, \"star_color\": \"Blue\", \"spectral_class\": \"O\"}, {\"temperature\": 18734, \"luminosity\": 224780.0, \"radius\": 46.0, \"absolute_magnitude\": -7.45, \"star_type\": 4, \"star_color\": \"Blue\", \"spectral_class\": \"O\"}, {\"temperature\": 9892, \"luminosity\": 593900.0, \"radius\": 80.0, \"absolute_magnitude\": -7.262, \"star_type\": 4, \"star_color\": \"Blue\", \"spectral_class\": \"O\"}, {\"temperature\": 10930, \"luminosity\": 783930.0, \"radius\": 25.0, \"absolute_magnitude\": -6.224, \"star_type\": 4, \"star_color\": \"Blue\", \"spectral_class\": \"O\"}, {\"temperature\": 23095, \"luminosity\": 347820.0, \"radius\": 86.0, \"absolute_magnitude\": -5.905, \"star_type\": 4, \"star_color\": \"Blue\", \"spectral_class\": \"O\"}, {\"temperature\": 21738, \"luminosity\": 748890.0, \"radius\": 92.0, \"absolute_magnitude\": -7.346, \"star_type\": 4, \"star_color\": \"Blue\", \"spectral_class\": \"O\"}, {\"temperature\": 38234, \"luminosity\": 272830.0, \"radius\": 1356.0, \"absolute_magnitude\": -9.29, \"star_type\": 5, \"star_color\": \"Blue\", \"spectral_class\": \"O\"}, {\"temperature\": 32489, \"luminosity\": 648430.0, \"radius\": 1948.5, \"absolute_magnitude\": -10.84, \"star_type\": 5, \"star_color\": \"Blue\", \"spectral_class\": \"O\"}, {\"temperature\": 38940, \"luminosity\": 374830.0, \"radius\": 1356.0, \"absolute_magnitude\": -9.93, \"star_type\": 5, \"star_color\": \"Blue\", \"spectral_class\": \"O\"}, {\"temperature\": 30839, \"luminosity\": 834042.0, \"radius\": 1194.0, \"absolute_magnitude\": -10.63, \"star_type\": 5, \"star_color\": \"Blue\", \"spectral_class\": \"O\"}, {\"temperature\": 37882, \"luminosity\": 294903.0, \"radius\": 1783.0, \"absolute_magnitude\": -7.8, \"star_type\": 5, \"star_color\": \"Blue\", \"spectral_class\": \"O\"}]}}, {\"mode\": \"vega-lite\"});\n",
       "</script>"
      ],
      "text/plain": [
       "alt.Chart(...)"
      ]
     },
     "execution_count": 250,
     "metadata": {},
     "output_type": "execute_result"
    }
   ],
   "source": [
    "chart2"
   ]
  },
  {
   "cell_type": "code",
   "execution_count": null,
   "metadata": {
    "cell_id": "3d09cdbc05af443f961ef6ca0045425b",
    "deepnote_cell_type": "code",
    "deepnote_to_be_reexecuted": false,
    "execution_millis": 7,
    "execution_start": 1702516960290,
    "source_hash": null
   },
   "outputs": [
    {
     "data": {
      "text/html": [
       "\n",
       "<div id=\"altair-viz-5d9cbeb8153b4260b3bc79934caecfb9\"></div>\n",
       "<script type=\"text/javascript\">\n",
       "  var VEGA_DEBUG = (typeof VEGA_DEBUG == \"undefined\") ? {} : VEGA_DEBUG;\n",
       "  (function(spec, embedOpt){\n",
       "    let outputDiv = document.currentScript.previousElementSibling;\n",
       "    if (outputDiv.id !== \"altair-viz-5d9cbeb8153b4260b3bc79934caecfb9\") {\n",
       "      outputDiv = document.getElementById(\"altair-viz-5d9cbeb8153b4260b3bc79934caecfb9\");\n",
       "    }\n",
       "    const paths = {\n",
       "      \"vega\": \"https://cdn.jsdelivr.net/npm//vega@5?noext\",\n",
       "      \"vega-lib\": \"https://cdn.jsdelivr.net/npm//vega-lib?noext\",\n",
       "      \"vega-lite\": \"https://cdn.jsdelivr.net/npm//vega-lite@4.17.0?noext\",\n",
       "      \"vega-embed\": \"https://cdn.jsdelivr.net/npm//vega-embed@6?noext\",\n",
       "    };\n",
       "\n",
       "    function maybeLoadScript(lib, version) {\n",
       "      var key = `${lib.replace(\"-\", \"\")}_version`;\n",
       "      return (VEGA_DEBUG[key] == version) ?\n",
       "        Promise.resolve(paths[lib]) :\n",
       "        new Promise(function(resolve, reject) {\n",
       "          var s = document.createElement('script');\n",
       "          document.getElementsByTagName(\"head\")[0].appendChild(s);\n",
       "          s.async = true;\n",
       "          s.onload = () => {\n",
       "            VEGA_DEBUG[key] = version;\n",
       "            return resolve(paths[lib]);\n",
       "          };\n",
       "          s.onerror = () => reject(`Error loading script: ${paths[lib]}`);\n",
       "          s.src = paths[lib];\n",
       "        });\n",
       "    }\n",
       "\n",
       "    function showError(err) {\n",
       "      outputDiv.innerHTML = `<div class=\"error\" style=\"color:red;\">${err}</div>`;\n",
       "      throw err;\n",
       "    }\n",
       "\n",
       "    function displayChart(vegaEmbed) {\n",
       "      vegaEmbed(outputDiv, spec, embedOpt)\n",
       "        .catch(err => showError(`Javascript Error: ${err.message}<br>This usually means there's a typo in your chart specification. See the javascript console for the full traceback.`));\n",
       "    }\n",
       "\n",
       "    if(typeof define === \"function\" && define.amd) {\n",
       "      requirejs.config({paths});\n",
       "      require([\"vega-embed\"], displayChart, err => showError(`Error loading script: ${err.message}`));\n",
       "    } else {\n",
       "      maybeLoadScript(\"vega\", \"5\")\n",
       "        .then(() => maybeLoadScript(\"vega-lite\", \"4.17.0\"))\n",
       "        .then(() => maybeLoadScript(\"vega-embed\", \"6\"))\n",
       "        .catch(showError)\n",
       "        .then(() => displayChart(vegaEmbed));\n",
       "    }\n",
       "  })({\"config\": {\"view\": {\"continuousWidth\": 400, \"continuousHeight\": 300}}, \"data\": {\"name\": \"data-f78019da2fd43b32e221f9e0796c5e1f\"}, \"mark\": \"bar\", \"encoding\": {\"color\": {\"value\": \"#99ccff\"}, \"x\": {\"bin\": {\"maxbins\": 30}, \"field\": \"temperature\", \"type\": \"quantitative\"}, \"y\": {\"aggregate\": \"count\", \"type\": \"quantitative\"}}, \"title\": \"Blue-White\", \"$schema\": \"https://vega.github.io/schema/vega-lite/v4.17.0.json\", \"datasets\": {\"data-f78019da2fd43b32e221f9e0796c5e1f\": [{\"temperature\": 25000, \"luminosity\": 0.056, \"radius\": 0.0084, \"absolute_magnitude\": 10.58, \"star_type\": 2, \"star_color\": \"Blue-White\", \"spectral_class\": \"B\"}, {\"temperature\": 16500, \"luminosity\": 0.013, \"radius\": 0.014, \"absolute_magnitude\": 11.89, \"star_type\": 2, \"star_color\": \"Blue-White\", \"spectral_class\": \"B\"}, {\"temperature\": 8570, \"luminosity\": 0.00081, \"radius\": 0.0097, \"absolute_magnitude\": 14.2, \"star_type\": 2, \"star_color\": \"Blue-White\", \"spectral_class\": \"A\"}, {\"temperature\": 30000, \"luminosity\": 28840.0, \"radius\": 6.3, \"absolute_magnitude\": -4.2, \"star_type\": 3, \"star_color\": \"Blue-White\", \"spectral_class\": \"B\"}, {\"temperature\": 15276, \"luminosity\": 1136.0, \"radius\": 7.2, \"absolute_magnitude\": -1.97, \"star_type\": 3, \"star_color\": \"Blue-White\", \"spectral_class\": \"B\"}, {\"temperature\": 17200, \"luminosity\": 0.00098, \"radius\": 0.015, \"absolute_magnitude\": 12.45, \"star_type\": 2, \"star_color\": \"Blue-White\", \"spectral_class\": \"B\"}, {\"temperature\": 14100, \"luminosity\": 0.00067, \"radius\": 0.0089, \"absolute_magnitude\": 12.17, \"star_type\": 2, \"star_color\": \"Blue-White\", \"spectral_class\": \"B\"}, {\"temperature\": 9675, \"luminosity\": 0.00045, \"radius\": 0.0109, \"absolute_magnitude\": 13.98, \"star_type\": 2, \"star_color\": \"Blue-White\", \"spectral_class\": \"A\"}, {\"temperature\": 12010, \"luminosity\": 0.00078, \"radius\": 0.0092, \"absolute_magnitude\": 12.13, \"star_type\": 2, \"star_color\": \"Blue-White\", \"spectral_class\": \"B\"}, {\"temperature\": 10980, \"luminosity\": 0.00074, \"radius\": 0.0087, \"absolute_magnitude\": 11.19, \"star_type\": 2, \"star_color\": \"Blue-White\", \"spectral_class\": \"B\"}, {\"temperature\": 9030, \"luminosity\": 45.0, \"radius\": 2.63, \"absolute_magnitude\": 1.45, \"star_type\": 3, \"star_color\": \"Blue-White\", \"spectral_class\": \"A\"}, {\"temperature\": 11250, \"luminosity\": 672.0, \"radius\": 6.98, \"absolute_magnitude\": -2.3, \"star_type\": 3, \"star_color\": \"Blue-White\", \"spectral_class\": \"A\"}, {\"temperature\": 12098, \"luminosity\": 689.0, \"radius\": 7.01, \"absolute_magnitude\": 0.02, \"star_type\": 3, \"star_color\": \"Blue-White\", \"spectral_class\": \"A\"}, {\"temperature\": 13420, \"luminosity\": 0.00059, \"radius\": 0.00981, \"absolute_magnitude\": 13.67, \"star_type\": 2, \"star_color\": \"Blue-White\", \"spectral_class\": \"B\"}, {\"temperature\": 14520, \"luminosity\": 0.00082, \"radius\": 0.00972, \"absolute_magnitude\": 11.92, \"star_type\": 2, \"star_color\": \"Blue-White\", \"spectral_class\": \"B\"}, {\"temperature\": 11900, \"luminosity\": 0.00067, \"radius\": 0.00898, \"absolute_magnitude\": 11.38, \"star_type\": 2, \"star_color\": \"Blue-White\", \"spectral_class\": \"B\"}, {\"temperature\": 8924, \"luminosity\": 0.00028, \"radius\": 0.00879, \"absolute_magnitude\": 14.87, \"star_type\": 2, \"star_color\": \"Blue-White\", \"spectral_class\": \"A\"}, {\"temperature\": 12912, \"luminosity\": 0.00071, \"radius\": 0.00945, \"absolute_magnitude\": 12.83, \"star_type\": 2, \"star_color\": \"Blue-White\", \"spectral_class\": \"B\"}, {\"temperature\": 12984, \"luminosity\": 0.00088, \"radius\": 0.00996, \"absolute_magnitude\": 11.23, \"star_type\": 2, \"star_color\": \"Blue-White\", \"spectral_class\": \"B\"}, {\"temperature\": 29560, \"luminosity\": 188000.0, \"radius\": 6.02, \"absolute_magnitude\": -4.01, \"star_type\": 3, \"star_color\": \"Blue-White\", \"spectral_class\": \"B\"}, {\"temperature\": 8945, \"luminosity\": 38.0, \"radius\": 2.487, \"absolute_magnitude\": 0.12, \"star_type\": 3, \"star_color\": \"Blue-White\", \"spectral_class\": \"A\"}, {\"temperature\": 14060, \"luminosity\": 1092.0, \"radius\": 5.745, \"absolute_magnitude\": -2.04, \"star_type\": 3, \"star_color\": \"Blue-White\", \"spectral_class\": \"A\"}, {\"temperature\": 16390, \"luminosity\": 1278.0, \"radius\": 5.68, \"absolute_magnitude\": -3.32, \"star_type\": 3, \"star_color\": \"Blue-White\", \"spectral_class\": \"B\"}, {\"temperature\": 25070, \"luminosity\": 14500.0, \"radius\": 5.92, \"absolute_magnitude\": -3.98, \"star_type\": 3, \"star_color\": \"Blue-White\", \"spectral_class\": \"B\"}, {\"temperature\": 28700, \"luminosity\": 16790.0, \"radius\": 6.4, \"absolute_magnitude\": -4.09, \"star_type\": 3, \"star_color\": \"Blue-White\", \"spectral_class\": \"B\"}, {\"temperature\": 26140, \"luminosity\": 14520.0, \"radius\": 5.49, \"absolute_magnitude\": -3.8, \"star_type\": 3, \"star_color\": \"Blue-White\", \"spectral_class\": \"B\"}, {\"temperature\": 20120, \"luminosity\": 4720.0, \"radius\": 6.78, \"absolute_magnitude\": -3.4, \"star_type\": 3, \"star_color\": \"Blue-White\", \"spectral_class\": \"B\"}, {\"temperature\": 13023, \"luminosity\": 998.0, \"radius\": 6.21, \"absolute_magnitude\": -1.38, \"star_type\": 3, \"star_color\": \"Blue-White\", \"spectral_class\": \"A\"}, {\"temperature\": 11000, \"luminosity\": 170000.0, \"radius\": 1779.0, \"absolute_magnitude\": -9.9, \"star_type\": 5, \"star_color\": \"Blue-White\", \"spectral_class\": \"B\"}, {\"temperature\": 12100, \"luminosity\": 120000.0, \"radius\": 708.9, \"absolute_magnitude\": -7.84, \"star_type\": 5, \"star_color\": \"Blue-White\", \"spectral_class\": \"B\"}, {\"temperature\": 24490, \"luminosity\": 248490.0, \"radius\": 1134.5, \"absolute_magnitude\": -8.24, \"star_type\": 5, \"star_color\": \"Blue-White\", \"spectral_class\": \"B\"}, {\"temperature\": 22350, \"luminosity\": 12450.0, \"radius\": 6.36, \"absolute_magnitude\": -3.67, \"star_type\": 3, \"star_color\": \"Blue-White\", \"spectral_class\": \"B\"}, {\"temperature\": 10012, \"luminosity\": 552.0, \"radius\": 5.856, \"absolute_magnitude\": 0.013, \"star_type\": 3, \"star_color\": \"Blue-White\", \"spectral_class\": \"A\"}, {\"temperature\": 13089, \"luminosity\": 788.0, \"radius\": 5.992, \"absolute_magnitude\": -0.12, \"star_type\": 3, \"star_color\": \"Blue-White\", \"spectral_class\": \"A\"}, {\"temperature\": 22012, \"luminosity\": 6748.0, \"radius\": 6.64, \"absolute_magnitude\": -2.55, \"star_type\": 3, \"star_color\": \"Blue-White\", \"spectral_class\": \"B\"}, {\"temperature\": 9320, \"luminosity\": 29.0, \"radius\": 1.91, \"absolute_magnitude\": 1.236, \"star_type\": 3, \"star_color\": \"Blue-White\", \"spectral_class\": \"A\"}, {\"temperature\": 19400, \"luminosity\": 10920.0, \"radius\": 6.03, \"absolute_magnitude\": -3.08, \"star_type\": 3, \"star_color\": \"Blue-White\", \"spectral_class\": \"B\"}, {\"temperature\": 17140, \"luminosity\": 883.0, \"radius\": 5.653, \"absolute_magnitude\": -2.64, \"star_type\": 3, \"star_color\": \"Blue-White\", \"spectral_class\": \"B\"}, {\"temperature\": 24145, \"luminosity\": 382993.0, \"radius\": 1494.0, \"absolute_magnitude\": -8.84, \"star_type\": 5, \"star_color\": \"Blue-White\", \"spectral_class\": \"B\"}, {\"temperature\": 27739, \"luminosity\": 849420.0, \"radius\": 1252.0, \"absolute_magnitude\": -7.59, \"star_type\": 5, \"star_color\": \"Blue-White\", \"spectral_class\": \"B\"}, {\"temperature\": 21904, \"luminosity\": 748490.0, \"radius\": 1130.0, \"absolute_magnitude\": -7.67, \"star_type\": 5, \"star_color\": \"Blue-White\", \"spectral_class\": \"B\"}]}}, {\"mode\": \"vega-lite\"});\n",
       "</script>"
      ],
      "text/plain": [
       "alt.Chart(...)"
      ]
     },
     "execution_count": 251,
     "metadata": {},
     "output_type": "execute_result"
    }
   ],
   "source": [
    "chart3"
   ]
  },
  {
   "cell_type": "code",
   "execution_count": null,
   "metadata": {
    "cell_id": "dfee3fc25798409bb0de7381888ee6ba",
    "deepnote_cell_type": "code",
    "deepnote_to_be_reexecuted": false,
    "execution_millis": 10,
    "execution_start": 1702516962242,
    "source_hash": null
   },
   "outputs": [
    {
     "data": {
      "text/html": [
       "\n",
       "<div id=\"altair-viz-1ccb61de33634a55a94721f6e7847a60\"></div>\n",
       "<script type=\"text/javascript\">\n",
       "  var VEGA_DEBUG = (typeof VEGA_DEBUG == \"undefined\") ? {} : VEGA_DEBUG;\n",
       "  (function(spec, embedOpt){\n",
       "    let outputDiv = document.currentScript.previousElementSibling;\n",
       "    if (outputDiv.id !== \"altair-viz-1ccb61de33634a55a94721f6e7847a60\") {\n",
       "      outputDiv = document.getElementById(\"altair-viz-1ccb61de33634a55a94721f6e7847a60\");\n",
       "    }\n",
       "    const paths = {\n",
       "      \"vega\": \"https://cdn.jsdelivr.net/npm//vega@5?noext\",\n",
       "      \"vega-lib\": \"https://cdn.jsdelivr.net/npm//vega-lib?noext\",\n",
       "      \"vega-lite\": \"https://cdn.jsdelivr.net/npm//vega-lite@4.17.0?noext\",\n",
       "      \"vega-embed\": \"https://cdn.jsdelivr.net/npm//vega-embed@6?noext\",\n",
       "    };\n",
       "\n",
       "    function maybeLoadScript(lib, version) {\n",
       "      var key = `${lib.replace(\"-\", \"\")}_version`;\n",
       "      return (VEGA_DEBUG[key] == version) ?\n",
       "        Promise.resolve(paths[lib]) :\n",
       "        new Promise(function(resolve, reject) {\n",
       "          var s = document.createElement('script');\n",
       "          document.getElementsByTagName(\"head\")[0].appendChild(s);\n",
       "          s.async = true;\n",
       "          s.onload = () => {\n",
       "            VEGA_DEBUG[key] = version;\n",
       "            return resolve(paths[lib]);\n",
       "          };\n",
       "          s.onerror = () => reject(`Error loading script: ${paths[lib]}`);\n",
       "          s.src = paths[lib];\n",
       "        });\n",
       "    }\n",
       "\n",
       "    function showError(err) {\n",
       "      outputDiv.innerHTML = `<div class=\"error\" style=\"color:red;\">${err}</div>`;\n",
       "      throw err;\n",
       "    }\n",
       "\n",
       "    function displayChart(vegaEmbed) {\n",
       "      vegaEmbed(outputDiv, spec, embedOpt)\n",
       "        .catch(err => showError(`Javascript Error: ${err.message}<br>This usually means there's a typo in your chart specification. See the javascript console for the full traceback.`));\n",
       "    }\n",
       "\n",
       "    if(typeof define === \"function\" && define.amd) {\n",
       "      requirejs.config({paths});\n",
       "      require([\"vega-embed\"], displayChart, err => showError(`Error loading script: ${err.message}`));\n",
       "    } else {\n",
       "      maybeLoadScript(\"vega\", \"5\")\n",
       "        .then(() => maybeLoadScript(\"vega-lite\", \"4.17.0\"))\n",
       "        .then(() => maybeLoadScript(\"vega-embed\", \"6\"))\n",
       "        .catch(showError)\n",
       "        .then(() => displayChart(vegaEmbed));\n",
       "    }\n",
       "  })({\"config\": {\"view\": {\"continuousWidth\": 400, \"continuousHeight\": 300}}, \"data\": {\"name\": \"data-cc37fbbacb20c911302080d5d5481117\"}, \"mark\": \"bar\", \"encoding\": {\"color\": {\"value\": \"black\"}, \"x\": {\"bin\": {\"maxbins\": 30}, \"field\": \"temperature\", \"type\": \"quantitative\"}, \"y\": {\"aggregate\": \"count\", \"type\": \"quantitative\"}}, \"title\": \"White\", \"$schema\": \"https://vega.github.io/schema/vega-lite/v4.17.0.json\", \"datasets\": {\"data-cc37fbbacb20c911302080d5d5481117\": [{\"temperature\": 7740, \"luminosity\": 0.00049, \"radius\": 0.01234, \"absolute_magnitude\": 14.02, \"star_type\": 2, \"star_color\": \"White\", \"spectral_class\": \"A\"}, {\"temperature\": 7220, \"luminosity\": 0.00017, \"radius\": 0.011, \"absolute_magnitude\": 14.23, \"star_type\": 2, \"star_color\": \"White\", \"spectral_class\": \"F\"}, {\"temperature\": 8500, \"luminosity\": 0.0005, \"radius\": 0.01, \"absolute_magnitude\": 14.5, \"star_type\": 2, \"star_color\": \"White\", \"spectral_class\": \"A\"}, {\"temperature\": 10574, \"luminosity\": 0.00014, \"radius\": 0.0092, \"absolute_magnitude\": 12.02, \"star_type\": 2, \"star_color\": \"White\", \"spectral_class\": \"F\"}, {\"temperature\": 8930, \"luminosity\": 0.00056, \"radius\": 0.0095, \"absolute_magnitude\": 13.78, \"star_type\": 2, \"star_color\": \"White\", \"spectral_class\": \"A\"}, {\"temperature\": 13720, \"luminosity\": 0.00018, \"radius\": 0.00892, \"absolute_magnitude\": 12.97, \"star_type\": 2, \"star_color\": \"White\", \"spectral_class\": \"F\"}, {\"temperature\": 14732, \"luminosity\": 0.00011, \"radius\": 0.00892, \"absolute_magnitude\": 12.89, \"star_type\": 2, \"star_color\": \"White\", \"spectral_class\": \"F\"}, {\"temperature\": 7723, \"luminosity\": 0.00014, \"radius\": 0.00878, \"absolute_magnitude\": 14.81, \"star_type\": 2, \"star_color\": \"White\", \"spectral_class\": \"A\"}, {\"temperature\": 8829, \"luminosity\": 537493.0, \"radius\": 1423.0, \"absolute_magnitude\": -10.73, \"star_type\": 5, \"star_color\": \"White\", \"spectral_class\": \"A\"}, {\"temperature\": 9235, \"luminosity\": 404940.0, \"radius\": 1112.0, \"absolute_magnitude\": -11.23, \"star_type\": 5, \"star_color\": \"White\", \"spectral_class\": \"A\"}]}}, {\"mode\": \"vega-lite\"});\n",
       "</script>"
      ],
      "text/plain": [
       "alt.Chart(...)"
      ]
     },
     "execution_count": 252,
     "metadata": {},
     "output_type": "execute_result"
    }
   ],
   "source": [
    "chart4"
   ]
  },
  {
   "cell_type": "code",
   "execution_count": null,
   "metadata": {
    "cell_id": "5b514c67d98241a5ae377836fe3e9c59",
    "deepnote_cell_type": "code",
    "deepnote_to_be_reexecuted": false,
    "execution_millis": 11,
    "execution_start": 1702516963908,
    "source_hash": null
   },
   "outputs": [
    {
     "data": {
      "text/html": [
       "\n",
       "<div id=\"altair-viz-116d636f11904d8aa69f977a169e89e1\"></div>\n",
       "<script type=\"text/javascript\">\n",
       "  var VEGA_DEBUG = (typeof VEGA_DEBUG == \"undefined\") ? {} : VEGA_DEBUG;\n",
       "  (function(spec, embedOpt){\n",
       "    let outputDiv = document.currentScript.previousElementSibling;\n",
       "    if (outputDiv.id !== \"altair-viz-116d636f11904d8aa69f977a169e89e1\") {\n",
       "      outputDiv = document.getElementById(\"altair-viz-116d636f11904d8aa69f977a169e89e1\");\n",
       "    }\n",
       "    const paths = {\n",
       "      \"vega\": \"https://cdn.jsdelivr.net/npm//vega@5?noext\",\n",
       "      \"vega-lib\": \"https://cdn.jsdelivr.net/npm//vega-lib?noext\",\n",
       "      \"vega-lite\": \"https://cdn.jsdelivr.net/npm//vega-lite@4.17.0?noext\",\n",
       "      \"vega-embed\": \"https://cdn.jsdelivr.net/npm//vega-embed@6?noext\",\n",
       "    };\n",
       "\n",
       "    function maybeLoadScript(lib, version) {\n",
       "      var key = `${lib.replace(\"-\", \"\")}_version`;\n",
       "      return (VEGA_DEBUG[key] == version) ?\n",
       "        Promise.resolve(paths[lib]) :\n",
       "        new Promise(function(resolve, reject) {\n",
       "          var s = document.createElement('script');\n",
       "          document.getElementsByTagName(\"head\")[0].appendChild(s);\n",
       "          s.async = true;\n",
       "          s.onload = () => {\n",
       "            VEGA_DEBUG[key] = version;\n",
       "            return resolve(paths[lib]);\n",
       "          };\n",
       "          s.onerror = () => reject(`Error loading script: ${paths[lib]}`);\n",
       "          s.src = paths[lib];\n",
       "        });\n",
       "    }\n",
       "\n",
       "    function showError(err) {\n",
       "      outputDiv.innerHTML = `<div class=\"error\" style=\"color:red;\">${err}</div>`;\n",
       "      throw err;\n",
       "    }\n",
       "\n",
       "    function displayChart(vegaEmbed) {\n",
       "      vegaEmbed(outputDiv, spec, embedOpt)\n",
       "        .catch(err => showError(`Javascript Error: ${err.message}<br>This usually means there's a typo in your chart specification. See the javascript console for the full traceback.`));\n",
       "    }\n",
       "\n",
       "    if(typeof define === \"function\" && define.amd) {\n",
       "      requirejs.config({paths});\n",
       "      require([\"vega-embed\"], displayChart, err => showError(`Error loading script: ${err.message}`));\n",
       "    } else {\n",
       "      maybeLoadScript(\"vega\", \"5\")\n",
       "        .then(() => maybeLoadScript(\"vega-lite\", \"4.17.0\"))\n",
       "        .then(() => maybeLoadScript(\"vega-embed\", \"6\"))\n",
       "        .catch(showError)\n",
       "        .then(() => displayChart(vegaEmbed));\n",
       "    }\n",
       "  })({\"config\": {\"view\": {\"continuousWidth\": 400, \"continuousHeight\": 300}}, \"data\": {\"name\": \"data-c49759cf95073ced990ae19c88a6b060\"}, \"mark\": \"bar\", \"encoding\": {\"color\": {\"value\": \"yellow\"}, \"x\": {\"bin\": {\"maxbins\": 30}, \"field\": \"temperature\", \"type\": \"quantitative\"}, \"y\": {\"aggregate\": \"count\", \"type\": \"quantitative\"}}, \"title\": \"Yellow-White\", \"$schema\": \"https://vega.github.io/schema/vega-lite/v4.17.0.json\", \"datasets\": {\"data-c49759cf95073ced990ae19c88a6b060\": [{\"temperature\": 5800, \"luminosity\": 0.81, \"radius\": 0.9, \"absolute_magnitude\": 5.05, \"star_type\": 3, \"star_color\": \"Yellow-White\", \"spectral_class\": \"F\"}, {\"temperature\": 6757, \"luminosity\": 1.43, \"radius\": 1.12, \"absolute_magnitude\": 2.41, \"star_type\": 3, \"star_color\": \"Yellow-White\", \"spectral_class\": \"F\"}, {\"temperature\": 6380, \"luminosity\": 1.35, \"radius\": 0.98, \"absolute_magnitude\": 2.93, \"star_type\": 3, \"star_color\": \"Yellow-White\", \"spectral_class\": \"F\"}, {\"temperature\": 5936, \"luminosity\": 1.357, \"radius\": 1.106, \"absolute_magnitude\": 4.46, \"star_type\": 3, \"star_color\": \"Yellow-White\", \"spectral_class\": \"F\"}, {\"temperature\": 5587, \"luminosity\": 0.819, \"radius\": 0.99, \"absolute_magnitude\": 5.03, \"star_type\": 3, \"star_color\": \"Yellow-White\", \"spectral_class\": \"F\"}, {\"temperature\": 5300, \"luminosity\": 0.59, \"radius\": 0.91, \"absolute_magnitude\": 5.49, \"star_type\": 3, \"star_color\": \"Yellow-White\", \"spectral_class\": \"F\"}, {\"temperature\": 7720, \"luminosity\": 7.92, \"radius\": 1.34, \"absolute_magnitude\": 2.44, \"star_type\": 3, \"star_color\": \"Yellow-White\", \"spectral_class\": \"F\"}, {\"temperature\": 8250, \"luminosity\": 9.25, \"radius\": 1.93, \"absolute_magnitude\": -0.98, \"star_type\": 3, \"star_color\": \"Yellow-White\", \"spectral_class\": \"F\"}]}}, {\"mode\": \"vega-lite\"});\n",
       "</script>"
      ],
      "text/plain": [
       "alt.Chart(...)"
      ]
     },
     "execution_count": 253,
     "metadata": {},
     "output_type": "execute_result"
    }
   ],
   "source": [
    "chart5"
   ]
  },
  {
   "cell_type": "code",
   "execution_count": null,
   "metadata": {
    "cell_id": "9d5bb04bcfd3456080c3880d2dd4f45c",
    "deepnote_cell_type": "code",
    "deepnote_to_be_reexecuted": false,
    "execution_millis": 24,
    "execution_start": 1702516965514,
    "source_hash": null
   },
   "outputs": [
    {
     "data": {
      "text/html": [
       "\n",
       "<div id=\"altair-viz-56b3d9ecca164ce4a4456bc74446ff2a\"></div>\n",
       "<script type=\"text/javascript\">\n",
       "  var VEGA_DEBUG = (typeof VEGA_DEBUG == \"undefined\") ? {} : VEGA_DEBUG;\n",
       "  (function(spec, embedOpt){\n",
       "    let outputDiv = document.currentScript.previousElementSibling;\n",
       "    if (outputDiv.id !== \"altair-viz-56b3d9ecca164ce4a4456bc74446ff2a\") {\n",
       "      outputDiv = document.getElementById(\"altair-viz-56b3d9ecca164ce4a4456bc74446ff2a\");\n",
       "    }\n",
       "    const paths = {\n",
       "      \"vega\": \"https://cdn.jsdelivr.net/npm//vega@5?noext\",\n",
       "      \"vega-lib\": \"https://cdn.jsdelivr.net/npm//vega-lib?noext\",\n",
       "      \"vega-lite\": \"https://cdn.jsdelivr.net/npm//vega-lite@4.17.0?noext\",\n",
       "      \"vega-embed\": \"https://cdn.jsdelivr.net/npm//vega-embed@6?noext\",\n",
       "    };\n",
       "\n",
       "    function maybeLoadScript(lib, version) {\n",
       "      var key = `${lib.replace(\"-\", \"\")}_version`;\n",
       "      return (VEGA_DEBUG[key] == version) ?\n",
       "        Promise.resolve(paths[lib]) :\n",
       "        new Promise(function(resolve, reject) {\n",
       "          var s = document.createElement('script');\n",
       "          document.getElementsByTagName(\"head\")[0].appendChild(s);\n",
       "          s.async = true;\n",
       "          s.onload = () => {\n",
       "            VEGA_DEBUG[key] = version;\n",
       "            return resolve(paths[lib]);\n",
       "          };\n",
       "          s.onerror = () => reject(`Error loading script: ${paths[lib]}`);\n",
       "          s.src = paths[lib];\n",
       "        });\n",
       "    }\n",
       "\n",
       "    function showError(err) {\n",
       "      outputDiv.innerHTML = `<div class=\"error\" style=\"color:red;\">${err}</div>`;\n",
       "      throw err;\n",
       "    }\n",
       "\n",
       "    function displayChart(vegaEmbed) {\n",
       "      vegaEmbed(outputDiv, spec, embedOpt)\n",
       "        .catch(err => showError(`Javascript Error: ${err.message}<br>This usually means there's a typo in your chart specification. See the javascript console for the full traceback.`));\n",
       "    }\n",
       "\n",
       "    if(typeof define === \"function\" && define.amd) {\n",
       "      requirejs.config({paths});\n",
       "      require([\"vega-embed\"], displayChart, err => showError(`Error loading script: ${err.message}`));\n",
       "    } else {\n",
       "      maybeLoadScript(\"vega\", \"5\")\n",
       "        .then(() => maybeLoadScript(\"vega-lite\", \"4.17.0\"))\n",
       "        .then(() => maybeLoadScript(\"vega-embed\", \"6\"))\n",
       "        .catch(showError)\n",
       "        .then(() => displayChart(vegaEmbed));\n",
       "    }\n",
       "  })({\"config\": {\"view\": {\"continuousWidth\": 400, \"continuousHeight\": 300}, \"axis\": {\"labelAngle\": 45}}, \"data\": {\"name\": \"data-f7af525dda0d7a80b3df97c0ce51fbed\"}, \"mark\": \"boxplot\", \"encoding\": {\"color\": {\"field\": \"star_color\", \"title\": \"Star color\", \"type\": \"nominal\"}, \"x\": {\"field\": \"star_color\", \"title\": \"Star color\", \"type\": \"nominal\"}, \"y\": {\"field\": \"temperature\", \"title\": \"Temperature (K)\", \"type\": \"quantitative\"}}, \"height\": 300, \"title\": \"Stars' temperatures boxplot related to star color type\", \"width\": 400, \"$schema\": \"https://vega.github.io/schema/vega-lite/v4.17.0.json\", \"datasets\": {\"data-f7af525dda0d7a80b3df97c0ce51fbed\": [{\"temperature\": 3068, \"luminosity\": 0.0024, \"radius\": 0.17, \"absolute_magnitude\": 16.12, \"star_type\": 0, \"star_color\": \"Red\", \"spectral_class\": \"M\"}, {\"temperature\": 3042, \"luminosity\": 0.0005, \"radius\": 0.1542, \"absolute_magnitude\": 16.6, \"star_type\": 0, \"star_color\": \"Red\", \"spectral_class\": \"M\"}, {\"temperature\": 2600, \"luminosity\": 0.0003, \"radius\": 0.102, \"absolute_magnitude\": 18.7, \"star_type\": 0, \"star_color\": \"Red\", \"spectral_class\": \"M\"}, {\"temperature\": 2800, \"luminosity\": 0.0002, \"radius\": 0.16, \"absolute_magnitude\": 16.65, \"star_type\": 0, \"star_color\": \"Red\", \"spectral_class\": \"M\"}, {\"temperature\": 1939, \"luminosity\": 0.000138, \"radius\": 0.103, \"absolute_magnitude\": 20.06, \"star_type\": 0, \"star_color\": \"Red\", \"spectral_class\": \"M\"}, {\"temperature\": 2840, \"luminosity\": 0.00065, \"radius\": 0.11, \"absolute_magnitude\": 16.98, \"star_type\": 0, \"star_color\": \"Red\", \"spectral_class\": \"M\"}, {\"temperature\": 2637, \"luminosity\": 0.00073, \"radius\": 0.127, \"absolute_magnitude\": 17.22, \"star_type\": 0, \"star_color\": \"Red\", \"spectral_class\": \"M\"}, {\"temperature\": 2600, \"luminosity\": 0.0004, \"radius\": 0.096, \"absolute_magnitude\": 17.4, \"star_type\": 0, \"star_color\": \"Red\", \"spectral_class\": \"M\"}, {\"temperature\": 2650, \"luminosity\": 0.00069, \"radius\": 0.11, \"absolute_magnitude\": 17.45, \"star_type\": 0, \"star_color\": \"Red\", \"spectral_class\": \"M\"}, {\"temperature\": 2700, \"luminosity\": 0.00018, \"radius\": 0.13, \"absolute_magnitude\": 16.05, \"star_type\": 0, \"star_color\": \"Red\", \"spectral_class\": \"M\"}, {\"temperature\": 3600, \"luminosity\": 0.0029, \"radius\": 0.51, \"absolute_magnitude\": 10.69, \"star_type\": 1, \"star_color\": \"Red\", \"spectral_class\": \"M\"}, {\"temperature\": 3129, \"luminosity\": 0.0122, \"radius\": 0.3761, \"absolute_magnitude\": 11.79, \"star_type\": 1, \"star_color\": \"Red\", \"spectral_class\": \"M\"}, {\"temperature\": 3134, \"luminosity\": 0.0004, \"radius\": 0.196, \"absolute_magnitude\": 13.21, \"star_type\": 1, \"star_color\": \"Red\", \"spectral_class\": \"M\"}, {\"temperature\": 3628, \"luminosity\": 0.0055, \"radius\": 0.393, \"absolute_magnitude\": 10.48, \"star_type\": 1, \"star_color\": \"Red\", \"spectral_class\": \"M\"}, {\"temperature\": 2650, \"luminosity\": 0.0006, \"radius\": 0.14, \"absolute_magnitude\": 11.782, \"star_type\": 1, \"star_color\": \"Red\", \"spectral_class\": \"M\"}, {\"temperature\": 3340, \"luminosity\": 0.0038, \"radius\": 0.24, \"absolute_magnitude\": 13.07, \"star_type\": 1, \"star_color\": \"Red\", \"spectral_class\": \"M\"}, {\"temperature\": 2799, \"luminosity\": 0.0018, \"radius\": 0.16, \"absolute_magnitude\": 14.79, \"star_type\": 1, \"star_color\": \"Red\", \"spectral_class\": \"M\"}, {\"temperature\": 3692, \"luminosity\": 0.00367, \"radius\": 0.47, \"absolute_magnitude\": 10.8, \"star_type\": 1, \"star_color\": \"Red\", \"spectral_class\": \"M\"}, {\"temperature\": 3192, \"luminosity\": 0.00362, \"radius\": 0.1967, \"absolute_magnitude\": 13.53, \"star_type\": 1, \"star_color\": \"Red\", \"spectral_class\": \"M\"}, {\"temperature\": 3441, \"luminosity\": 0.039, \"radius\": 0.351, \"absolute_magnitude\": 11.18, \"star_type\": 1, \"star_color\": \"Red\", \"spectral_class\": \"M\"}, {\"temperature\": 25000, \"luminosity\": 0.056, \"radius\": 0.0084, \"absolute_magnitude\": 10.58, \"star_type\": 2, \"star_color\": \"Blue-White\", \"spectral_class\": \"B\"}, {\"temperature\": 7740, \"luminosity\": 0.00049, \"radius\": 0.01234, \"absolute_magnitude\": 14.02, \"star_type\": 2, \"star_color\": \"White\", \"spectral_class\": \"A\"}, {\"temperature\": 7220, \"luminosity\": 0.00017, \"radius\": 0.011, \"absolute_magnitude\": 14.23, \"star_type\": 2, \"star_color\": \"White\", \"spectral_class\": \"F\"}, {\"temperature\": 8500, \"luminosity\": 0.0005, \"radius\": 0.01, \"absolute_magnitude\": 14.5, \"star_type\": 2, \"star_color\": \"White\", \"spectral_class\": \"A\"}, {\"temperature\": 16500, \"luminosity\": 0.013, \"radius\": 0.014, \"absolute_magnitude\": 11.89, \"star_type\": 2, \"star_color\": \"Blue-White\", \"spectral_class\": \"B\"}, {\"temperature\": 12990, \"luminosity\": 8.5e-05, \"radius\": 0.00984, \"absolute_magnitude\": 12.23, \"star_type\": 2, \"star_color\": \"Yellowish White\", \"spectral_class\": \"F\"}, {\"temperature\": 8570, \"luminosity\": 0.00081, \"radius\": 0.0097, \"absolute_magnitude\": 14.2, \"star_type\": 2, \"star_color\": \"Blue-White\", \"spectral_class\": \"A\"}, {\"temperature\": 7700, \"luminosity\": 0.00011, \"radius\": 0.0128, \"absolute_magnitude\": 14.47, \"star_type\": 2, \"star_color\": \"Yellowish White\", \"spectral_class\": \"F\"}, {\"temperature\": 11790, \"luminosity\": 0.00015, \"radius\": 0.011, \"absolute_magnitude\": 12.59, \"star_type\": 2, \"star_color\": \"Yellowish White\", \"spectral_class\": \"F\"}, {\"temperature\": 7230, \"luminosity\": 8e-05, \"radius\": 0.013, \"absolute_magnitude\": 14.08, \"star_type\": 2, \"star_color\": \"Pale yellow orange\", \"spectral_class\": \"F\"}, {\"temperature\": 39000, \"luminosity\": 204000.0, \"radius\": 10.6, \"absolute_magnitude\": -4.7, \"star_type\": 3, \"star_color\": \"Blue\", \"spectral_class\": \"O\"}, {\"temperature\": 30000, \"luminosity\": 28840.0, \"radius\": 6.3, \"absolute_magnitude\": -4.2, \"star_type\": 3, \"star_color\": \"Blue-White\", \"spectral_class\": \"B\"}, {\"temperature\": 15276, \"luminosity\": 1136.0, \"radius\": 7.2, \"absolute_magnitude\": -1.97, \"star_type\": 3, \"star_color\": \"Blue-White\", \"spectral_class\": \"B\"}, {\"temperature\": 9700, \"luminosity\": 74.0, \"radius\": 2.89, \"absolute_magnitude\": 0.16, \"star_type\": 3, \"star_color\": \"Whitish\", \"spectral_class\": \"B\"}, {\"temperature\": 5800, \"luminosity\": 0.81, \"radius\": 0.9, \"absolute_magnitude\": 5.05, \"star_type\": 3, \"star_color\": \"Yellow-White\", \"spectral_class\": \"F\"}, {\"temperature\": 8052, \"luminosity\": 8.7, \"radius\": 1.8, \"absolute_magnitude\": 2.42, \"star_type\": 3, \"star_color\": \"Whitish\", \"spectral_class\": \"A\"}, {\"temperature\": 6757, \"luminosity\": 1.43, \"radius\": 1.12, \"absolute_magnitude\": 2.41, \"star_type\": 3, \"star_color\": \"Yellow-White\", \"spectral_class\": \"F\"}, {\"temperature\": 6380, \"luminosity\": 1.35, \"radius\": 0.98, \"absolute_magnitude\": 2.93, \"star_type\": 3, \"star_color\": \"Yellow-White\", \"spectral_class\": \"F\"}, {\"temperature\": 5936, \"luminosity\": 1.357, \"radius\": 1.106, \"absolute_magnitude\": 4.46, \"star_type\": 3, \"star_color\": \"Yellow-White\", \"spectral_class\": \"F\"}, {\"temperature\": 5587, \"luminosity\": 0.819, \"radius\": 0.99, \"absolute_magnitude\": 5.03, \"star_type\": 3, \"star_color\": \"Yellow-White\", \"spectral_class\": \"F\"}, {\"temperature\": 3826, \"luminosity\": 200000.0, \"radius\": 19.0, \"absolute_magnitude\": -6.93, \"star_type\": 4, \"star_color\": \"Red\", \"spectral_class\": \"M\"}, {\"temperature\": 3365, \"luminosity\": 340000.0, \"radius\": 23.0, \"absolute_magnitude\": -6.2, \"star_type\": 4, \"star_color\": \"Red\", \"spectral_class\": \"M\"}, {\"temperature\": 3270, \"luminosity\": 150000.0, \"radius\": 88.0, \"absolute_magnitude\": -6.02, \"star_type\": 4, \"star_color\": \"Red\", \"spectral_class\": \"M\"}, {\"temperature\": 3200, \"luminosity\": 195000.0, \"radius\": 17.0, \"absolute_magnitude\": -7.22, \"star_type\": 4, \"star_color\": \"Red\", \"spectral_class\": \"M\"}, {\"temperature\": 3008, \"luminosity\": 280000.0, \"radius\": 25.0, \"absolute_magnitude\": -6.0, \"star_type\": 4, \"star_color\": \"Red\", \"spectral_class\": \"M\"}, {\"temperature\": 3600, \"luminosity\": 320000.0, \"radius\": 29.0, \"absolute_magnitude\": -6.6, \"star_type\": 4, \"star_color\": \"Red\", \"spectral_class\": \"M\"}, {\"temperature\": 3575, \"luminosity\": 123000.0, \"radius\": 45.0, \"absolute_magnitude\": -6.78, \"star_type\": 4, \"star_color\": \"Red\", \"spectral_class\": \"M\"}, {\"temperature\": 3574, \"luminosity\": 200000.0, \"radius\": 89.0, \"absolute_magnitude\": -5.24, \"star_type\": 4, \"star_color\": \"Red\", \"spectral_class\": \"M\"}, {\"temperature\": 3625, \"luminosity\": 184000.0, \"radius\": 84.0, \"absolute_magnitude\": -6.74, \"star_type\": 4, \"star_color\": \"Red\", \"spectral_class\": \"M\"}, {\"temperature\": 33750, \"luminosity\": 220000.0, \"radius\": 26.0, \"absolute_magnitude\": -6.1, \"star_type\": 4, \"star_color\": \"Blue\", \"spectral_class\": \"B\"}, {\"temperature\": 3490, \"luminosity\": 270000.0, \"radius\": 1520.0, \"absolute_magnitude\": -9.4, \"star_type\": 5, \"star_color\": \"Red\", \"spectral_class\": \"M\"}, {\"temperature\": 3750, \"luminosity\": 283000.0, \"radius\": 1260.0, \"absolute_magnitude\": -7.63, \"star_type\": 5, \"star_color\": \"Red\", \"spectral_class\": \"M\"}, {\"temperature\": 3834, \"luminosity\": 272000.0, \"radius\": 1183.0, \"absolute_magnitude\": -9.2, \"star_type\": 5, \"star_color\": \"Red\", \"spectral_class\": \"M\"}, {\"temperature\": 3749, \"luminosity\": 550000.0, \"radius\": 1648.0, \"absolute_magnitude\": -8.05, \"star_type\": 5, \"star_color\": \"Orange\", \"spectral_class\": \"M\"}, {\"temperature\": 3650, \"luminosity\": 310000.0, \"radius\": 1324.0, \"absolute_magnitude\": -7.79, \"star_type\": 5, \"star_color\": \"Red\", \"spectral_class\": \"M\"}, {\"temperature\": 3450, \"luminosity\": 263000.0, \"radius\": 1349.0, \"absolute_magnitude\": -11.75, \"star_type\": 5, \"star_color\": \"Red\", \"spectral_class\": \"M\"}, {\"temperature\": 3660, \"luminosity\": 363000.0, \"radius\": 1673.0, \"absolute_magnitude\": -11.92, \"star_type\": 5, \"star_color\": \"Red\", \"spectral_class\": \"M\"}, {\"temperature\": 3450, \"luminosity\": 174000.0, \"radius\": 1284.0, \"absolute_magnitude\": -11.28, \"star_type\": 5, \"star_color\": \"Red\", \"spectral_class\": \"M\"}, {\"temperature\": 3752, \"luminosity\": 209000.0, \"radius\": 955.0, \"absolute_magnitude\": -11.24, \"star_type\": 5, \"star_color\": \"Red\", \"spectral_class\": \"M\"}, {\"temperature\": 3535, \"luminosity\": 195000.0, \"radius\": 1546.0, \"absolute_magnitude\": -11.36, \"star_type\": 5, \"star_color\": \"Red\", \"spectral_class\": \"M\"}, {\"temperature\": 3341, \"luminosity\": 0.0056, \"radius\": 0.057, \"absolute_magnitude\": 16.23, \"star_type\": 0, \"star_color\": \"Red\", \"spectral_class\": \"M\"}, {\"temperature\": 3432, \"luminosity\": 0.00067, \"radius\": 0.19, \"absolute_magnitude\": 16.94, \"star_type\": 0, \"star_color\": \"Red\", \"spectral_class\": \"M\"}, {\"temperature\": 2983, \"luminosity\": 0.00024, \"radius\": 0.094, \"absolute_magnitude\": 16.09, \"star_type\": 0, \"star_color\": \"Red\", \"spectral_class\": \"M\"}, {\"temperature\": 2835, \"luminosity\": 0.00034, \"radius\": 0.0918, \"absolute_magnitude\": 16.96, \"star_type\": 0, \"star_color\": \"Red\", \"spectral_class\": \"M\"}, {\"temperature\": 2935, \"luminosity\": 0.00014, \"radius\": 0.116, \"absolute_magnitude\": 18.89, \"star_type\": 0, \"star_color\": \"Red\", \"spectral_class\": \"M\"}, {\"temperature\": 3295, \"luminosity\": 0.00098, \"radius\": 0.132, \"absolute_magnitude\": 17.13, \"star_type\": 0, \"star_color\": \"Red\", \"spectral_class\": \"M\"}, {\"temperature\": 2945, \"luminosity\": 0.00032, \"radius\": 0.093, \"absolute_magnitude\": 18.34, \"star_type\": 0, \"star_color\": \"Red\", \"spectral_class\": \"M\"}, {\"temperature\": 2817, \"luminosity\": 0.00098, \"radius\": 0.0911, \"absolute_magnitude\": 16.45, \"star_type\": 0, \"star_color\": \"Red\", \"spectral_class\": \"M\"}, {\"temperature\": 2774, \"luminosity\": 0.00036, \"radius\": 0.118, \"absolute_magnitude\": 17.39, \"star_type\": 0, \"star_color\": \"Red\", \"spectral_class\": \"M\"}, {\"temperature\": 2871, \"luminosity\": 0.00072, \"radius\": 0.12, \"absolute_magnitude\": 19.43, \"star_type\": 0, \"star_color\": \"Red\", \"spectral_class\": \"M\"}, {\"temperature\": 3345, \"luminosity\": 0.021, \"radius\": 0.273, \"absolute_magnitude\": 12.3, \"star_type\": 1, \"star_color\": \"Red\", \"spectral_class\": \"M\"}, {\"temperature\": 3607, \"luminosity\": 0.022, \"radius\": 0.38, \"absolute_magnitude\": 10.12, \"star_type\": 1, \"star_color\": \"Red\", \"spectral_class\": \"M\"}, {\"temperature\": 3304, \"luminosity\": 0.0085, \"radius\": 0.18, \"absolute_magnitude\": 13.2, \"star_type\": 1, \"star_color\": \"Red\", \"spectral_class\": \"M\"}, {\"temperature\": 3150, \"luminosity\": 0.0088, \"radius\": 0.35, \"absolute_magnitude\": 11.94, \"star_type\": 1, \"star_color\": \"Red\", \"spectral_class\": \"M\"}, {\"temperature\": 3550, \"luminosity\": 0.004, \"radius\": 0.291, \"absolute_magnitude\": 10.89, \"star_type\": 1, \"star_color\": \"Red\", \"spectral_class\": \"M\"}, {\"temperature\": 3180, \"luminosity\": 0.001, \"radius\": 0.35, \"absolute_magnitude\": 11.76, \"star_type\": 1, \"star_color\": \"Red\", \"spectral_class\": \"M\"}, {\"temperature\": 2890, \"luminosity\": 0.0034, \"radius\": 0.24, \"absolute_magnitude\": 13.46, \"star_type\": 1, \"star_color\": \"Red\", \"spectral_class\": \"M\"}, {\"temperature\": 3342, \"luminosity\": 0.0015, \"radius\": 0.307, \"absolute_magnitude\": 11.87, \"star_type\": 1, \"star_color\": \"Red\", \"spectral_class\": \"M\"}, {\"temperature\": 2621, \"luminosity\": 0.0006, \"radius\": 0.098, \"absolute_magnitude\": 12.81, \"star_type\": 1, \"star_color\": \"Red\", \"spectral_class\": \"M\"}, {\"temperature\": 3158, \"luminosity\": 0.00135, \"radius\": 0.161, \"absolute_magnitude\": 13.98, \"star_type\": 1, \"star_color\": \"Red\", \"spectral_class\": \"M\"}, {\"temperature\": 7100, \"luminosity\": 0.00029, \"radius\": 0.012, \"absolute_magnitude\": 14.09, \"star_type\": 2, \"star_color\": \"White-Yellow\", \"spectral_class\": \"F\"}, {\"temperature\": 10574, \"luminosity\": 0.00014, \"radius\": 0.0092, \"absolute_magnitude\": 12.02, \"star_type\": 2, \"star_color\": \"White\", \"spectral_class\": \"F\"}, {\"temperature\": 8930, \"luminosity\": 0.00056, \"radius\": 0.0095, \"absolute_magnitude\": 13.78, \"star_type\": 2, \"star_color\": \"White\", \"spectral_class\": \"A\"}, {\"temperature\": 17200, \"luminosity\": 0.00098, \"radius\": 0.015, \"absolute_magnitude\": 12.45, \"star_type\": 2, \"star_color\": \"Blue-White\", \"spectral_class\": \"B\"}, {\"temperature\": 14100, \"luminosity\": 0.00067, \"radius\": 0.0089, \"absolute_magnitude\": 12.17, \"star_type\": 2, \"star_color\": \"Blue-White\", \"spectral_class\": \"B\"}, {\"temperature\": 9675, \"luminosity\": 0.00045, \"radius\": 0.0109, \"absolute_magnitude\": 13.98, \"star_type\": 2, \"star_color\": \"Blue-White\", \"spectral_class\": \"A\"}, {\"temperature\": 12010, \"luminosity\": 0.00078, \"radius\": 0.0092, \"absolute_magnitude\": 12.13, \"star_type\": 2, \"star_color\": \"Blue-White\", \"spectral_class\": \"B\"}, {\"temperature\": 10980, \"luminosity\": 0.00074, \"radius\": 0.0087, \"absolute_magnitude\": 11.19, \"star_type\": 2, \"star_color\": \"Blue-White\", \"spectral_class\": \"B\"}, {\"temperature\": 13720, \"luminosity\": 0.00018, \"radius\": 0.00892, \"absolute_magnitude\": 12.97, \"star_type\": 2, \"star_color\": \"White\", \"spectral_class\": \"F\"}, {\"temperature\": 19860, \"luminosity\": 0.0011, \"radius\": 0.0131, \"absolute_magnitude\": 11.34, \"star_type\": 2, \"star_color\": \"Blue \", \"spectral_class\": \"B\"}, {\"temperature\": 5300, \"luminosity\": 0.59, \"radius\": 0.91, \"absolute_magnitude\": 5.49, \"star_type\": 3, \"star_color\": \"Yellow-White\", \"spectral_class\": \"F\"}, {\"temperature\": 4526, \"luminosity\": 0.153, \"radius\": 0.865, \"absolute_magnitude\": 6.506, \"star_type\": 3, \"star_color\": \"Yellowish\", \"spectral_class\": \"K\"}, {\"temperature\": 4077, \"luminosity\": 0.085, \"radius\": 0.795, \"absolute_magnitude\": 6.228, \"star_type\": 3, \"star_color\": \"Yellowish\", \"spectral_class\": \"K\"}, {\"temperature\": 4980, \"luminosity\": 0.357, \"radius\": 1.13, \"absolute_magnitude\": 4.78, \"star_type\": 3, \"star_color\": \"Yellowish\", \"spectral_class\": \"K\"}, {\"temperature\": 9030, \"luminosity\": 45.0, \"radius\": 2.63, \"absolute_magnitude\": 1.45, \"star_type\": 3, \"star_color\": \"Blue-White\", \"spectral_class\": \"A\"}, {\"temperature\": 11250, \"luminosity\": 672.0, \"radius\": 6.98, \"absolute_magnitude\": -2.3, \"star_type\": 3, \"star_color\": \"Blue-White\", \"spectral_class\": \"A\"}, {\"temperature\": 5112, \"luminosity\": 0.63, \"radius\": 0.876, \"absolute_magnitude\": 4.68, \"star_type\": 3, \"star_color\": \"Orange-Red\", \"spectral_class\": \"K\"}, {\"temperature\": 7720, \"luminosity\": 7.92, \"radius\": 1.34, \"absolute_magnitude\": 2.44, \"star_type\": 3, \"star_color\": \"Yellow-White\", \"spectral_class\": \"F\"}, {\"temperature\": 12098, \"luminosity\": 689.0, \"radius\": 7.01, \"absolute_magnitude\": 0.02, \"star_type\": 3, \"star_color\": \"Blue-White\", \"spectral_class\": \"A\"}, {\"temperature\": 36108, \"luminosity\": 198000.0, \"radius\": 10.2, \"absolute_magnitude\": -4.4, \"star_type\": 3, \"star_color\": \"Blue\", \"spectral_class\": \"O\"}, {\"temperature\": 33300, \"luminosity\": 240000.0, \"radius\": 12.0, \"absolute_magnitude\": -6.5, \"star_type\": 4, \"star_color\": \"Blue\", \"spectral_class\": \"B\"}, {\"temperature\": 40000, \"luminosity\": 813000.0, \"radius\": 14.0, \"absolute_magnitude\": -6.23, \"star_type\": 4, \"star_color\": \"Blue\", \"spectral_class\": \"O\"}, {\"temperature\": 23000, \"luminosity\": 127000.0, \"radius\": 36.0, \"absolute_magnitude\": -5.76, \"star_type\": 4, \"star_color\": \"Blue\", \"spectral_class\": \"O\"}, {\"temperature\": 17120, \"luminosity\": 235000.0, \"radius\": 83.0, \"absolute_magnitude\": -6.89, \"star_type\": 4, \"star_color\": \"Blue\", \"spectral_class\": \"O\"}, {\"temperature\": 11096, \"luminosity\": 112000.0, \"radius\": 12.0, \"absolute_magnitude\": -5.91, \"star_type\": 4, \"star_color\": \"Blue\", \"spectral_class\": \"O\"}, {\"temperature\": 14245, \"luminosity\": 231000.0, \"radius\": 42.0, \"absolute_magnitude\": -6.12, \"star_type\": 4, \"star_color\": \"Blue\", \"spectral_class\": \"O\"}, {\"temperature\": 24630, \"luminosity\": 363000.0, \"radius\": 63.0, \"absolute_magnitude\": -5.83, \"star_type\": 4, \"star_color\": \"Blue\", \"spectral_class\": \"O\"}, {\"temperature\": 12893, \"luminosity\": 184000.0, \"radius\": 36.0, \"absolute_magnitude\": -6.34, \"star_type\": 4, \"star_color\": \"Blue\", \"spectral_class\": \"O\"}, {\"temperature\": 24345, \"luminosity\": 142000.0, \"radius\": 57.0, \"absolute_magnitude\": -6.24, \"star_type\": 4, \"star_color\": \"Blue\", \"spectral_class\": \"O\"}, {\"temperature\": 33421, \"luminosity\": 352000.0, \"radius\": 67.0, \"absolute_magnitude\": -5.79, \"star_type\": 4, \"star_color\": \"Blue\", \"spectral_class\": \"O\"}, {\"temperature\": 3459, \"luminosity\": 100000.0, \"radius\": 1289.0, \"absolute_magnitude\": -10.7, \"star_type\": 5, \"star_color\": \"Red\", \"spectral_class\": \"M\"}, {\"temperature\": 3605, \"luminosity\": 126000.0, \"radius\": 1124.0, \"absolute_magnitude\": -10.81, \"star_type\": 5, \"star_color\": \"Red\", \"spectral_class\": \"M\"}, {\"temperature\": 3615, \"luminosity\": 200000.0, \"radius\": 1635.0, \"absolute_magnitude\": -11.33, \"star_type\": 5, \"star_color\": \"Red\", \"spectral_class\": \"M\"}, {\"temperature\": 3399, \"luminosity\": 117000.0, \"radius\": 1486.0, \"absolute_magnitude\": -10.92, \"star_type\": 5, \"star_color\": \"Red\", \"spectral_class\": \"M\"}, {\"temperature\": 3610, \"luminosity\": 132000.0, \"radius\": 1522.0, \"absolute_magnitude\": -10.86, \"star_type\": 5, \"star_color\": \"Red\", \"spectral_class\": \"M\"}, {\"temperature\": 3553, \"luminosity\": 145000.0, \"radius\": 1324.0, \"absolute_magnitude\": -11.03, \"star_type\": 5, \"star_color\": \"Red\", \"spectral_class\": \"M\"}, {\"temperature\": 4015, \"luminosity\": 282000.0, \"radius\": 1534.0, \"absolute_magnitude\": -11.39, \"star_type\": 5, \"star_color\": \"Red\", \"spectral_class\": \"K\"}, {\"temperature\": 3625, \"luminosity\": 74000.0, \"radius\": 876.0, \"absolute_magnitude\": -10.25, \"star_type\": 5, \"star_color\": \"Red\", \"spectral_class\": \"M\"}, {\"temperature\": 6850, \"luminosity\": 229000.0, \"radius\": 1467.0, \"absolute_magnitude\": -10.07, \"star_type\": 5, \"star_color\": \"Red\", \"spectral_class\": \"G\"}, {\"temperature\": 3780, \"luminosity\": 200000.0, \"radius\": 1324.0, \"absolute_magnitude\": -10.7, \"star_type\": 5, \"star_color\": \"Red\", \"spectral_class\": \"M\"}, {\"temperature\": 3323, \"luminosity\": 0.00043, \"radius\": 0.0912, \"absolute_magnitude\": 17.16, \"star_type\": 0, \"star_color\": \"Red\", \"spectral_class\": \"M\"}, {\"temperature\": 3531, \"luminosity\": 0.00093, \"radius\": 0.0976, \"absolute_magnitude\": 19.94, \"star_type\": 0, \"star_color\": \"Red\", \"spectral_class\": \"M\"}, {\"temperature\": 3218, \"luminosity\": 0.00054, \"radius\": 0.11, \"absolute_magnitude\": 20.02, \"star_type\": 0, \"star_color\": \"Red\", \"spectral_class\": \"M\"}, {\"temperature\": 3146, \"luminosity\": 0.00015, \"radius\": 0.0932, \"absolute_magnitude\": 16.92, \"star_type\": 0, \"star_color\": \"Red\", \"spectral_class\": \"M\"}, {\"temperature\": 3511, \"luminosity\": 0.00064, \"radius\": 0.109, \"absolute_magnitude\": 17.12, \"star_type\": 0, \"star_color\": \"Red\", \"spectral_class\": \"M\"}, {\"temperature\": 3225, \"luminosity\": 0.00076, \"radius\": 0.121, \"absolute_magnitude\": 19.63, \"star_type\": 0, \"star_color\": \"Red\", \"spectral_class\": \"M\"}, {\"temperature\": 2935, \"luminosity\": 0.00087, \"radius\": 0.0932, \"absolute_magnitude\": 16.88, \"star_type\": 0, \"star_color\": \"Red\", \"spectral_class\": \"M\"}, {\"temperature\": 2861, \"luminosity\": 0.00019, \"radius\": 0.0899, \"absolute_magnitude\": 16.71, \"star_type\": 0, \"star_color\": \"Red\", \"spectral_class\": \"M\"}, {\"temperature\": 2856, \"luminosity\": 0.000896, \"radius\": 0.0782, \"absolute_magnitude\": 19.56, \"star_type\": 0, \"star_color\": \"Red\", \"spectral_class\": \"M\"}, {\"temperature\": 2731, \"luminosity\": 0.000437, \"radius\": 0.0856, \"absolute_magnitude\": 18.09, \"star_type\": 0, \"star_color\": \"Red\", \"spectral_class\": \"M\"}, {\"temperature\": 3095, \"luminosity\": 0.00019, \"radius\": 0.492, \"absolute_magnitude\": 10.87, \"star_type\": 1, \"star_color\": \"Red\", \"spectral_class\": \"M\"}, {\"temperature\": 3607, \"luminosity\": 0.00023, \"radius\": 0.38, \"absolute_magnitude\": 10.34, \"star_type\": 1, \"star_color\": \"Red\", \"spectral_class\": \"M\"}, {\"temperature\": 3100, \"luminosity\": 0.008, \"radius\": 0.31, \"absolute_magnitude\": 11.17, \"star_type\": 1, \"star_color\": \"Red\", \"spectral_class\": \"M\"}, {\"temperature\": 2989, \"luminosity\": 0.0087, \"radius\": 0.34, \"absolute_magnitude\": 13.12, \"star_type\": 1, \"star_color\": \"Red\", \"spectral_class\": \"M\"}, {\"temperature\": 3542, \"luminosity\": 0.0009, \"radius\": 0.62, \"absolute_magnitude\": 14.23, \"star_type\": 1, \"star_color\": \"Red\", \"spectral_class\": \"M\"}, {\"temperature\": 3243, \"luminosity\": 0.0023, \"radius\": 0.73, \"absolute_magnitude\": 14.75, \"star_type\": 1, \"star_color\": \"Red\", \"spectral_class\": \"M\"}, {\"temperature\": 3091, \"luminosity\": 0.0081, \"radius\": 0.24, \"absolute_magnitude\": 11.43, \"star_type\": 1, \"star_color\": \"Red\", \"spectral_class\": \"M\"}, {\"temperature\": 3598, \"luminosity\": 0.0011, \"radius\": 0.56, \"absolute_magnitude\": 14.26, \"star_type\": 1, \"star_color\": \"Red\", \"spectral_class\": \"M\"}, {\"temperature\": 3324, \"luminosity\": 0.0034, \"radius\": 0.34, \"absolute_magnitude\": 12.23, \"star_type\": 1, \"star_color\": \"Red\", \"spectral_class\": \"M\"}, {\"temperature\": 3541, \"luminosity\": 0.0013, \"radius\": 0.256, \"absolute_magnitude\": 14.33, \"star_type\": 1, \"star_color\": \"Red\", \"spectral_class\": \"M\"}, {\"temperature\": 13420, \"luminosity\": 0.00059, \"radius\": 0.00981, \"absolute_magnitude\": 13.67, \"star_type\": 2, \"star_color\": \"Blue-White\", \"spectral_class\": \"B\"}, {\"temperature\": 21020, \"luminosity\": 0.0015, \"radius\": 0.0112, \"absolute_magnitude\": 11.52, \"star_type\": 2, \"star_color\": \"Blue\", \"spectral_class\": \"B\"}, {\"temperature\": 18290, \"luminosity\": 0.0013, \"radius\": 0.00934, \"absolute_magnitude\": 12.78, \"star_type\": 2, \"star_color\": \"Blue\", \"spectral_class\": \"B\"}, {\"temperature\": 14520, \"luminosity\": 0.00082, \"radius\": 0.00972, \"absolute_magnitude\": 11.92, \"star_type\": 2, \"star_color\": \"Blue-White\", \"spectral_class\": \"B\"}, {\"temperature\": 11900, \"luminosity\": 0.00067, \"radius\": 0.00898, \"absolute_magnitude\": 11.38, \"star_type\": 2, \"star_color\": \"Blue-White\", \"spectral_class\": \"B\"}, {\"temperature\": 8924, \"luminosity\": 0.00028, \"radius\": 0.00879, \"absolute_magnitude\": 14.87, \"star_type\": 2, \"star_color\": \"Blue-White\", \"spectral_class\": \"A\"}, {\"temperature\": 12912, \"luminosity\": 0.00071, \"radius\": 0.00945, \"absolute_magnitude\": 12.83, \"star_type\": 2, \"star_color\": \"Blue-White\", \"spectral_class\": \"B\"}, {\"temperature\": 14732, \"luminosity\": 0.00011, \"radius\": 0.00892, \"absolute_magnitude\": 12.89, \"star_type\": 2, \"star_color\": \"White\", \"spectral_class\": \"F\"}, {\"temperature\": 7723, \"luminosity\": 0.00014, \"radius\": 0.00878, \"absolute_magnitude\": 14.81, \"star_type\": 2, \"star_color\": \"White\", \"spectral_class\": \"A\"}, {\"temperature\": 12984, \"luminosity\": 0.00088, \"radius\": 0.00996, \"absolute_magnitude\": 11.23, \"star_type\": 2, \"star_color\": \"Blue-White\", \"spectral_class\": \"B\"}, {\"temperature\": 29560, \"luminosity\": 188000.0, \"radius\": 6.02, \"absolute_magnitude\": -4.01, \"star_type\": 3, \"star_color\": \"Blue-White\", \"spectral_class\": \"B\"}, {\"temperature\": 8945, \"luminosity\": 38.0, \"radius\": 2.487, \"absolute_magnitude\": 0.12, \"star_type\": 3, \"star_color\": \"Blue-White\", \"spectral_class\": \"A\"}, {\"temperature\": 14060, \"luminosity\": 1092.0, \"radius\": 5.745, \"absolute_magnitude\": -2.04, \"star_type\": 3, \"star_color\": \"Blue-White\", \"spectral_class\": \"A\"}, {\"temperature\": 16390, \"luminosity\": 1278.0, \"radius\": 5.68, \"absolute_magnitude\": -3.32, \"star_type\": 3, \"star_color\": \"Blue-White\", \"spectral_class\": \"B\"}, {\"temperature\": 25070, \"luminosity\": 14500.0, \"radius\": 5.92, \"absolute_magnitude\": -3.98, \"star_type\": 3, \"star_color\": \"Blue-White\", \"spectral_class\": \"B\"}, {\"temperature\": 28700, \"luminosity\": 16790.0, \"radius\": 6.4, \"absolute_magnitude\": -4.09, \"star_type\": 3, \"star_color\": \"Blue-White\", \"spectral_class\": \"B\"}, {\"temperature\": 26140, \"luminosity\": 14520.0, \"radius\": 5.49, \"absolute_magnitude\": -3.8, \"star_type\": 3, \"star_color\": \"Blue-White\", \"spectral_class\": \"B\"}, {\"temperature\": 20120, \"luminosity\": 4720.0, \"radius\": 6.78, \"absolute_magnitude\": -3.4, \"star_type\": 3, \"star_color\": \"Blue-White\", \"spectral_class\": \"B\"}, {\"temperature\": 13023, \"luminosity\": 998.0, \"radius\": 6.21, \"absolute_magnitude\": -1.38, \"star_type\": 3, \"star_color\": \"Blue-White\", \"spectral_class\": \"A\"}, {\"temperature\": 37800, \"luminosity\": 202900.0, \"radius\": 6.86, \"absolute_magnitude\": -4.56, \"star_type\": 3, \"star_color\": \"Blue\", \"spectral_class\": \"O\"}, {\"temperature\": 25390, \"luminosity\": 223000.0, \"radius\": 57.0, \"absolute_magnitude\": -5.92, \"star_type\": 4, \"star_color\": \"Blue\", \"spectral_class\": \"O\"}, {\"temperature\": 11567, \"luminosity\": 251000.0, \"radius\": 36.0, \"absolute_magnitude\": -6.245, \"star_type\": 4, \"star_color\": \"Blue\", \"spectral_class\": \"O\"}, {\"temperature\": 12675, \"luminosity\": 452000.0, \"radius\": 83.0, \"absolute_magnitude\": -5.62, \"star_type\": 4, \"star_color\": \"Blue\", \"spectral_class\": \"O\"}, {\"temperature\": 5752, \"luminosity\": 245000.0, \"radius\": 97.0, \"absolute_magnitude\": -6.63, \"star_type\": 4, \"star_color\": \"Blue\", \"spectral_class\": \"O\"}, {\"temperature\": 8927, \"luminosity\": 239000.0, \"radius\": 35.0, \"absolute_magnitude\": -7.34, \"star_type\": 4, \"star_color\": \"Blue\", \"spectral_class\": \"O\"}, {\"temperature\": 7282, \"luminosity\": 131000.0, \"radius\": 24.0, \"absolute_magnitude\": -7.22, \"star_type\": 4, \"star_color\": \"Blue\", \"spectral_class\": \"O\"}, {\"temperature\": 19923, \"luminosity\": 152000.0, \"radius\": 73.0, \"absolute_magnitude\": -5.69, \"star_type\": 4, \"star_color\": \"Blue\", \"spectral_class\": \"O\"}, {\"temperature\": 26373, \"luminosity\": 198000.0, \"radius\": 39.0, \"absolute_magnitude\": -5.83, \"star_type\": 4, \"star_color\": \"Blue\", \"spectral_class\": \"O\"}, {\"temperature\": 17383, \"luminosity\": 342900.0, \"radius\": 30.0, \"absolute_magnitude\": -6.09, \"star_type\": 4, \"star_color\": \"Blue\", \"spectral_class\": \"O\"}, {\"temperature\": 9373, \"luminosity\": 424520.0, \"radius\": 24.0, \"absolute_magnitude\": -5.99, \"star_type\": 4, \"star_color\": \"Blue\", \"spectral_class\": \"O\"}, {\"temperature\": 3570, \"luminosity\": 320000.0, \"radius\": 1480.0, \"absolute_magnitude\": -7.58, \"star_type\": 5, \"star_color\": \"Red\", \"spectral_class\": \"M\"}, {\"temperature\": 3500, \"luminosity\": 138000.0, \"radius\": 1420.0, \"absolute_magnitude\": -8.18, \"star_type\": 5, \"star_color\": \"Red\", \"spectral_class\": \"M\"}, {\"temperature\": 4287, \"luminosity\": 630000.0, \"radius\": 1315.0, \"absolute_magnitude\": -9.2, \"star_type\": 5, \"star_color\": \"Orange\", \"spectral_class\": \"K\"}, {\"temperature\": 26000, \"luminosity\": 316000.0, \"radius\": 1679.0, \"absolute_magnitude\": -9.1, \"star_type\": 5, \"star_color\": \"Blue\", \"spectral_class\": \"B\"}, {\"temperature\": 3600, \"luminosity\": 240000.0, \"radius\": 1190.0, \"absolute_magnitude\": -7.89, \"star_type\": 5, \"star_color\": \"Red\", \"spectral_class\": \"M\"}, {\"temperature\": 3614, \"luminosity\": 145000.0, \"radius\": 1553.0, \"absolute_magnitude\": -7.71, \"star_type\": 5, \"star_color\": \"Red\", \"spectral_class\": \"M\"}, {\"temperature\": 18000, \"luminosity\": 200000.0, \"radius\": 1045.0, \"absolute_magnitude\": -8.3, \"star_type\": 5, \"star_color\": \"Blue\", \"spectral_class\": \"O\"}, {\"temperature\": 11000, \"luminosity\": 170000.0, \"radius\": 1779.0, \"absolute_magnitude\": -9.9, \"star_type\": 5, \"star_color\": \"Blue-White\", \"spectral_class\": \"B\"}, {\"temperature\": 12100, \"luminosity\": 120000.0, \"radius\": 708.9, \"absolute_magnitude\": -7.84, \"star_type\": 5, \"star_color\": \"Blue-White\", \"spectral_class\": \"B\"}, {\"temperature\": 24490, \"luminosity\": 248490.0, \"radius\": 1134.5, \"absolute_magnitude\": -8.24, \"star_type\": 5, \"star_color\": \"Blue-White\", \"spectral_class\": \"B\"}, {\"temperature\": 2831, \"luminosity\": 0.000231, \"radius\": 0.0915, \"absolute_magnitude\": 16.21, \"star_type\": 0, \"star_color\": \"Red\", \"spectral_class\": \"M\"}, {\"temperature\": 2914, \"luminosity\": 0.000631, \"radius\": 0.116, \"absolute_magnitude\": 18.39, \"star_type\": 0, \"star_color\": \"Red\", \"spectral_class\": \"M\"}, {\"temperature\": 3419, \"luminosity\": 0.000245, \"radius\": 0.126, \"absolute_magnitude\": 17.56, \"star_type\": 0, \"star_color\": \"Red\", \"spectral_class\": \"M\"}, {\"temperature\": 3218, \"luminosity\": 0.000452, \"radius\": 0.0987, \"absolute_magnitude\": 17.34, \"star_type\": 0, \"star_color\": \"Red\", \"spectral_class\": \"M\"}, {\"temperature\": 3453, \"luminosity\": 0.000621, \"radius\": 0.0773, \"absolute_magnitude\": 17.08, \"star_type\": 0, \"star_color\": \"Red\", \"spectral_class\": \"M\"}, {\"temperature\": 2889, \"luminosity\": 0.000352, \"radius\": 0.0973, \"absolute_magnitude\": 16.93, \"star_type\": 0, \"star_color\": \"Red\", \"spectral_class\": \"M\"}, {\"temperature\": 2968, \"luminosity\": 0.000461, \"radius\": 0.119, \"absolute_magnitude\": 17.45, \"star_type\": 0, \"star_color\": \"Red\", \"spectral_class\": \"M\"}, {\"temperature\": 3484, \"luminosity\": 0.000551, \"radius\": 0.0998, \"absolute_magnitude\": 16.67, \"star_type\": 0, \"star_color\": \"Red\", \"spectral_class\": \"M\"}, {\"temperature\": 2778, \"luminosity\": 0.000849, \"radius\": 0.112, \"absolute_magnitude\": 19.45, \"star_type\": 0, \"star_color\": \"Red\", \"spectral_class\": \"M\"}, {\"temperature\": 3523, \"luminosity\": 0.000957, \"radius\": 0.129, \"absolute_magnitude\": 16.35, \"star_type\": 0, \"star_color\": \"Red\", \"spectral_class\": \"M\"}, {\"temperature\": 3462, \"luminosity\": 0.0053, \"radius\": 0.148, \"absolute_magnitude\": 11.47, \"star_type\": 1, \"star_color\": \"Red\", \"spectral_class\": \"M\"}, {\"temperature\": 3257, \"luminosity\": 0.0024, \"radius\": 0.46, \"absolute_magnitude\": 10.73, \"star_type\": 1, \"star_color\": \"Red\", \"spectral_class\": \"M\"}, {\"temperature\": 2994, \"luminosity\": 0.0072, \"radius\": 0.28, \"absolute_magnitude\": 13.45, \"star_type\": 1, \"star_color\": \"Red\", \"spectral_class\": \"M\"}, {\"temperature\": 3212, \"luminosity\": 0.0016, \"radius\": 0.378, \"absolute_magnitude\": 12.854, \"star_type\": 1, \"star_color\": \"Red\", \"spectral_class\": \"M\"}, {\"temperature\": 3523, \"luminosity\": 0.0054, \"radius\": 0.319, \"absolute_magnitude\": 12.43, \"star_type\": 1, \"star_color\": \"Red\", \"spectral_class\": \"M\"}, {\"temperature\": 3598, \"luminosity\": 0.0027, \"radius\": 0.67, \"absolute_magnitude\": 13.667, \"star_type\": 1, \"star_color\": \"Red\", \"spectral_class\": \"M\"}, {\"temperature\": 3142, \"luminosity\": 0.00132, \"radius\": 0.258, \"absolute_magnitude\": 14.12, \"star_type\": 1, \"star_color\": \"Red\", \"spectral_class\": \"M\"}, {\"temperature\": 3496, \"luminosity\": 0.00125, \"radius\": 0.336, \"absolute_magnitude\": 14.94, \"star_type\": 1, \"star_color\": \"Red\", \"spectral_class\": \"M\"}, {\"temperature\": 3324, \"luminosity\": 0.0065, \"radius\": 0.471, \"absolute_magnitude\": 12.78, \"star_type\": 1, \"star_color\": \"Red\", \"spectral_class\": \"M\"}, {\"temperature\": 3463, \"luminosity\": 0.0027, \"radius\": 0.675, \"absolute_magnitude\": 14.776, \"star_type\": 1, \"star_color\": \"Red\", \"spectral_class\": \"M\"}, {\"temperature\": 16790, \"luminosity\": 0.0014, \"radius\": 0.0121, \"absolute_magnitude\": 12.87, \"star_type\": 2, \"star_color\": \"Blue\", \"spectral_class\": \"B\"}, {\"temperature\": 15680, \"luminosity\": 0.00122, \"radius\": 0.0114, \"absolute_magnitude\": 11.92, \"star_type\": 2, \"star_color\": \"Blue\", \"spectral_class\": \"B\"}, {\"temperature\": 14982, \"luminosity\": 0.00118, \"radius\": 0.0113, \"absolute_magnitude\": 12.23, \"star_type\": 2, \"star_color\": \"Blue\", \"spectral_class\": \"B\"}, {\"temperature\": 13340, \"luminosity\": 0.00109, \"radius\": 0.0116, \"absolute_magnitude\": 12.9, \"star_type\": 2, \"star_color\": \"Blue\", \"spectral_class\": \"B\"}, {\"temperature\": 18340, \"luminosity\": 0.00134, \"radius\": 0.0124, \"absolute_magnitude\": 11.22, \"star_type\": 2, \"star_color\": \"Blue\", \"spectral_class\": \"B\"}, {\"temperature\": 19920, \"luminosity\": 0.00156, \"radius\": 0.0142, \"absolute_magnitude\": 11.34, \"star_type\": 2, \"star_color\": \"Blue\", \"spectral_class\": \"B\"}, {\"temperature\": 24020, \"luminosity\": 0.00159, \"radius\": 0.0127, \"absolute_magnitude\": 10.55, \"star_type\": 2, \"star_color\": \"Blue\", \"spectral_class\": \"B\"}, {\"temperature\": 23092, \"luminosity\": 0.00132, \"radius\": 0.0104, \"absolute_magnitude\": 10.18, \"star_type\": 2, \"star_color\": \"Blue\", \"spectral_class\": \"B\"}, {\"temperature\": 17920, \"luminosity\": 0.00111, \"radius\": 0.0106, \"absolute_magnitude\": 11.66, \"star_type\": 2, \"star_color\": \"Blue\", \"spectral_class\": \"B\"}, {\"temperature\": 19360, \"luminosity\": 0.00125, \"radius\": 0.00998, \"absolute_magnitude\": 11.62, \"star_type\": 2, \"star_color\": \"Blue\", \"spectral_class\": \"B\"}, {\"temperature\": 22350, \"luminosity\": 12450.0, \"radius\": 6.36, \"absolute_magnitude\": -3.67, \"star_type\": 3, \"star_color\": \"Blue-White\", \"spectral_class\": \"B\"}, {\"temperature\": 10012, \"luminosity\": 552.0, \"radius\": 5.856, \"absolute_magnitude\": 0.013, \"star_type\": 3, \"star_color\": \"Blue-White\", \"spectral_class\": \"A\"}, {\"temperature\": 13089, \"luminosity\": 788.0, \"radius\": 5.992, \"absolute_magnitude\": -0.12, \"star_type\": 3, \"star_color\": \"Blue-White\", \"spectral_class\": \"A\"}, {\"temperature\": 22012, \"luminosity\": 6748.0, \"radius\": 6.64, \"absolute_magnitude\": -2.55, \"star_type\": 3, \"star_color\": \"Blue-White\", \"spectral_class\": \"B\"}, {\"temperature\": 34190, \"luminosity\": 198200.0, \"radius\": 6.39, \"absolute_magnitude\": -4.57, \"star_type\": 3, \"star_color\": \"Blue\", \"spectral_class\": \"O\"}, {\"temperature\": 32460, \"luminosity\": 173800.0, \"radius\": 6.237, \"absolute_magnitude\": -4.36, \"star_type\": 3, \"star_color\": \"Blue\", \"spectral_class\": \"O\"}, {\"temperature\": 9320, \"luminosity\": 29.0, \"radius\": 1.91, \"absolute_magnitude\": 1.236, \"star_type\": 3, \"star_color\": \"Blue-White\", \"spectral_class\": \"A\"}, {\"temperature\": 19400, \"luminosity\": 10920.0, \"radius\": 6.03, \"absolute_magnitude\": -3.08, \"star_type\": 3, \"star_color\": \"Blue-White\", \"spectral_class\": \"B\"}, {\"temperature\": 17140, \"luminosity\": 883.0, \"radius\": 5.653, \"absolute_magnitude\": -2.64, \"star_type\": 3, \"star_color\": \"Blue-White\", \"spectral_class\": \"B\"}, {\"temperature\": 8250, \"luminosity\": 9.25, \"radius\": 1.93, \"absolute_magnitude\": -0.98, \"star_type\": 3, \"star_color\": \"Yellow-White\", \"spectral_class\": \"F\"}, {\"temperature\": 23678, \"luminosity\": 244290.0, \"radius\": 35.0, \"absolute_magnitude\": -6.27, \"star_type\": 4, \"star_color\": \"Blue\", \"spectral_class\": \"O\"}, {\"temperature\": 12749, \"luminosity\": 332520.0, \"radius\": 76.0, \"absolute_magnitude\": -7.02, \"star_type\": 4, \"star_color\": \"Blue\", \"spectral_class\": \"O\"}, {\"temperature\": 9383, \"luminosity\": 342940.0, \"radius\": 98.0, \"absolute_magnitude\": -6.98, \"star_type\": 4, \"star_color\": \"Blue\", \"spectral_class\": \"O\"}, {\"temperature\": 23440, \"luminosity\": 537430.0, \"radius\": 81.0, \"absolute_magnitude\": -5.975, \"star_type\": 4, \"star_color\": \"Blue\", \"spectral_class\": \"O\"}, {\"temperature\": 16787, \"luminosity\": 246730.0, \"radius\": 62.0, \"absolute_magnitude\": -6.35, \"star_type\": 4, \"star_color\": \"Blue\", \"spectral_class\": \"O\"}, {\"temperature\": 18734, \"luminosity\": 224780.0, \"radius\": 46.0, \"absolute_magnitude\": -7.45, \"star_type\": 4, \"star_color\": \"Blue\", \"spectral_class\": \"O\"}, {\"temperature\": 9892, \"luminosity\": 593900.0, \"radius\": 80.0, \"absolute_magnitude\": -7.262, \"star_type\": 4, \"star_color\": \"Blue\", \"spectral_class\": \"O\"}, {\"temperature\": 10930, \"luminosity\": 783930.0, \"radius\": 25.0, \"absolute_magnitude\": -6.224, \"star_type\": 4, \"star_color\": \"Blue\", \"spectral_class\": \"O\"}, {\"temperature\": 23095, \"luminosity\": 347820.0, \"radius\": 86.0, \"absolute_magnitude\": -5.905, \"star_type\": 4, \"star_color\": \"Blue\", \"spectral_class\": \"O\"}, {\"temperature\": 21738, \"luminosity\": 748890.0, \"radius\": 92.0, \"absolute_magnitude\": -7.346, \"star_type\": 4, \"star_color\": \"Blue\", \"spectral_class\": \"O\"}, {\"temperature\": 24145, \"luminosity\": 382993.0, \"radius\": 1494.0, \"absolute_magnitude\": -8.84, \"star_type\": 5, \"star_color\": \"Blue-White\", \"spectral_class\": \"B\"}, {\"temperature\": 38234, \"luminosity\": 272830.0, \"radius\": 1356.0, \"absolute_magnitude\": -9.29, \"star_type\": 5, \"star_color\": \"Blue\", \"spectral_class\": \"O\"}, {\"temperature\": 32489, \"luminosity\": 648430.0, \"radius\": 1948.5, \"absolute_magnitude\": -10.84, \"star_type\": 5, \"star_color\": \"Blue\", \"spectral_class\": \"O\"}, {\"temperature\": 27739, \"luminosity\": 849420.0, \"radius\": 1252.0, \"absolute_magnitude\": -7.59, \"star_type\": 5, \"star_color\": \"Blue-White\", \"spectral_class\": \"B\"}, {\"temperature\": 21904, \"luminosity\": 748490.0, \"radius\": 1130.0, \"absolute_magnitude\": -7.67, \"star_type\": 5, \"star_color\": \"Blue-White\", \"spectral_class\": \"B\"}, {\"temperature\": 38940, \"luminosity\": 374830.0, \"radius\": 1356.0, \"absolute_magnitude\": -9.93, \"star_type\": 5, \"star_color\": \"Blue\", \"spectral_class\": \"O\"}, {\"temperature\": 30839, \"luminosity\": 834042.0, \"radius\": 1194.0, \"absolute_magnitude\": -10.63, \"star_type\": 5, \"star_color\": \"Blue\", \"spectral_class\": \"O\"}, {\"temperature\": 8829, \"luminosity\": 537493.0, \"radius\": 1423.0, \"absolute_magnitude\": -10.73, \"star_type\": 5, \"star_color\": \"White\", \"spectral_class\": \"A\"}, {\"temperature\": 9235, \"luminosity\": 404940.0, \"radius\": 1112.0, \"absolute_magnitude\": -11.23, \"star_type\": 5, \"star_color\": \"White\", \"spectral_class\": \"A\"}, {\"temperature\": 37882, \"luminosity\": 294903.0, \"radius\": 1783.0, \"absolute_magnitude\": -7.8, \"star_type\": 5, \"star_color\": \"Blue\", \"spectral_class\": \"O\"}]}}, {\"mode\": \"vega-lite\"});\n",
       "</script>"
      ],
      "text/plain": [
       "alt.Chart(...)"
      ]
     },
     "execution_count": 254,
     "metadata": {},
     "output_type": "execute_result"
    }
   ],
   "source": [
    "boxplot = alt.Chart(star_data).mark_boxplot().encode(\n",
    "    x=alt.X('star_color:N', title='Star color'),\n",
    "    y=alt.Y('temperature:Q', title='Temperature (K)'),\n",
    "    color=alt.Color('star_color:N', title='Star color')\n",
    ").properties(\n",
    "    width=400,\n",
    "    height=300,\n",
    "    title=\"Stars' temperatures boxplot related to star color type\"\n",
    ").configure_axis(\n",
    "    labelAngle=45\n",
    ")\n",
    "\n",
    "boxplot"
   ]
  },
  {
   "cell_type": "markdown",
   "metadata": {
    "cell_id": "59c0ec6aaf15423991e55442184ccd7b",
    "deepnote_cell_type": "markdown"
   },
   "source": [
    "After reviewing the graphs, we can see that blue stars tend to have a higher temperature."
   ]
  },
  {
   "cell_type": "markdown",
   "metadata": {
    "cell_id": "6b8e3368660848e4906e3563e91c8069",
    "deepnote_cell_type": "markdown"
   },
   "source": [
    "## Star Luminosity Behavior"
   ]
  },
  {
   "cell_type": "markdown",
   "metadata": {
    "cell_id": "5fdb58c90f224dda919adfd83f84fc7b",
    "deepnote_cell_type": "markdown"
   },
   "source": [
    "Here I will be doing the same process I used for temperature where I will be analyzing the mean, median, and std of luminosity within the dataset. I will then be visualizing again the affects of the luminsity across the different star colors."
   ]
  },
  {
   "cell_type": "code",
   "execution_count": null,
   "metadata": {
    "cell_id": "a6ec89acb532431fb5ee6958739b6953",
    "deepnote_cell_type": "code",
    "deepnote_to_be_reexecuted": false,
    "execution_millis": 24,
    "execution_start": 1702516971426,
    "source_hash": null
   },
   "outputs": [
    {
     "data": {
      "application/vnd.deepnote.dataframe.v3+json": {
       "column_count": 3,
       "columns": [
        {
         "dtype": "float64",
         "name": "mean",
         "stats": {
          "histogram": [
           {
            "bin_end": 59000.000071999995,
            "bin_start": 8e-05,
            "count": 8
           },
           {
            "bin_end": 118000.00006399999,
            "bin_start": 59000.000071999995,
            "count": 3
           },
           {
            "bin_end": 177000.000056,
            "bin_start": 118000.00006399999,
            "count": 0
           },
           {
            "bin_end": 236000.000048,
            "bin_start": 177000.000056,
            "count": 0
           },
           {
            "bin_end": 295000.00004,
            "bin_start": 236000.000048,
            "count": 1
           },
           {
            "bin_end": 354000.000032,
            "bin_start": 295000.00004,
            "count": 0
           },
           {
            "bin_end": 413000.000024,
            "bin_start": 354000.000032,
            "count": 0
           },
           {
            "bin_end": 472000.000016,
            "bin_start": 413000.000024,
            "count": 0
           },
           {
            "bin_end": 531000.000008,
            "bin_start": 472000.000016,
            "count": 0
           },
           {
            "bin_end": 590000,
            "bin_start": 531000.000008,
            "count": 1
           }
          ],
          "max": "590000.0",
          "min": "8e-05",
          "nan_count": 0,
          "unique_count": 13
         }
        },
        {
         "dtype": "float64",
         "name": "median",
         "stats": {
          "histogram": [
           {
            "bin_end": 59000.000071999995,
            "bin_start": 8e-05,
            "count": 11
           },
           {
            "bin_end": 118000.00006399999,
            "bin_start": 59000.000071999995,
            "count": 0
           },
           {
            "bin_end": 177000.000056,
            "bin_start": 118000.00006399999,
            "count": 0
           },
           {
            "bin_end": 236000.000048,
            "bin_start": 177000.000056,
            "count": 1
           },
           {
            "bin_end": 295000.00004,
            "bin_start": 236000.000048,
            "count": 0
           },
           {
            "bin_end": 354000.000032,
            "bin_start": 295000.00004,
            "count": 0
           },
           {
            "bin_end": 413000.000024,
            "bin_start": 354000.000032,
            "count": 0
           },
           {
            "bin_end": 472000.000016,
            "bin_start": 413000.000024,
            "count": 0
           },
           {
            "bin_end": 531000.000008,
            "bin_start": 472000.000016,
            "count": 0
           },
           {
            "bin_end": 590000,
            "bin_start": 531000.000008,
            "count": 1
           }
          ],
          "max": "590000.0",
          "min": "8e-05",
          "nan_count": 0,
          "unique_count": 13
         }
        },
        {
         "dtype": "float64",
         "name": "std",
         "stats": {
          "histogram": [
           {
            "bin_end": 21726.16154853955,
            "bin_start": 3.2787192621509986e-05,
            "count": 4
           },
           {
            "bin_end": 43452.3230642919,
            "bin_start": 21726.16154853955,
            "count": 0
           },
           {
            "bin_end": 65178.484580044256,
            "bin_start": 43452.3230642919,
            "count": 1
           },
           {
            "bin_end": 86904.64609579662,
            "bin_start": 65178.484580044256,
            "count": 0
           },
           {
            "bin_end": 108630.80761154897,
            "bin_start": 86904.64609579662,
            "count": 1
           },
           {
            "bin_end": 130356.96912730133,
            "bin_start": 108630.80761154897,
            "count": 0
           },
           {
            "bin_end": 152083.13064305368,
            "bin_start": 130356.96912730133,
            "count": 0
           },
           {
            "bin_end": 173809.29215880603,
            "bin_start": 152083.13064305368,
            "count": 0
           },
           {
            "bin_end": 195535.45367455838,
            "bin_start": 173809.29215880603,
            "count": 1
           },
           {
            "bin_end": 217261.61519031075,
            "bin_start": 195535.45367455838,
            "count": 2
           }
          ],
          "max": "217261.61519031075",
          "min": "3.2787192621509986e-05",
          "nan_count": 4,
          "unique_count": 9
         }
        },
        {
         "dtype": "object",
         "name": "_deepnote_index_column"
        }
       ],
       "row_count": 13,
       "rows": [
        {
         "_deepnote_index_column": "Blue",
         "mean": 254519.7275610909,
         "median": 224780,
         "std": 217261.61519031075
        },
        {
         "_deepnote_index_column": "Blue ",
         "mean": 0.0011,
         "median": 0.0011,
         "std": "nan"
        },
        {
         "_deepnote_index_column": "Blue-White",
         "mean": 68904.41652146341,
         "median": 788,
         "std": 185475.77419236637
        },
        {
         "_deepnote_index_column": "Orange",
         "mean": 590000,
         "median": 590000,
         "std": 56568.5424949238
        },
        {
         "_deepnote_index_column": "Orange-Red",
         "mean": 0.63,
         "median": 0.63,
         "std": "nan"
        },
        {
         "_deepnote_index_column": "Pale yellow orange",
         "mean": 8e-05,
         "median": 8e-05,
         "std": "nan"
        },
        {
         "_deepnote_index_column": "Red",
         "mean": 60526.787892508924,
         "median": 0.00255,
         "std": 104282.87457163572
        },
        {
         "_deepnote_index_column": "White",
         "mean": 94243.300229,
         "median": 0.000335,
         "std": 201123.82373620974
        },
        {
         "_deepnote_index_column": "White-Yellow",
         "mean": 0.00029,
         "median": 0.00029,
         "std": "nan"
        },
        {
         "_deepnote_index_column": "Whitish",
         "mean": 41.35,
         "median": 41.35,
         "std": 46.17407281148155
        }
       ]
      },
      "text/html": [
       "<div>\n",
       "<style scoped>\n",
       "    .dataframe tbody tr th:only-of-type {\n",
       "        vertical-align: middle;\n",
       "    }\n",
       "\n",
       "    .dataframe tbody tr th {\n",
       "        vertical-align: top;\n",
       "    }\n",
       "\n",
       "    .dataframe thead th {\n",
       "        text-align: right;\n",
       "    }\n",
       "</style>\n",
       "<table border=\"1\" class=\"dataframe\">\n",
       "  <thead>\n",
       "    <tr style=\"text-align: right;\">\n",
       "      <th></th>\n",
       "      <th>mean</th>\n",
       "      <th>median</th>\n",
       "      <th>std</th>\n",
       "    </tr>\n",
       "    <tr>\n",
       "      <th>star_color</th>\n",
       "      <th></th>\n",
       "      <th></th>\n",
       "      <th></th>\n",
       "    </tr>\n",
       "  </thead>\n",
       "  <tbody>\n",
       "    <tr>\n",
       "      <th>Blue</th>\n",
       "      <td>254519.727561</td>\n",
       "      <td>224780.000000</td>\n",
       "      <td>217261.615190</td>\n",
       "    </tr>\n",
       "    <tr>\n",
       "      <th>Blue</th>\n",
       "      <td>0.001100</td>\n",
       "      <td>0.001100</td>\n",
       "      <td>NaN</td>\n",
       "    </tr>\n",
       "    <tr>\n",
       "      <th>Blue-White</th>\n",
       "      <td>68904.416521</td>\n",
       "      <td>788.000000</td>\n",
       "      <td>185475.774192</td>\n",
       "    </tr>\n",
       "    <tr>\n",
       "      <th>Orange</th>\n",
       "      <td>590000.000000</td>\n",
       "      <td>590000.000000</td>\n",
       "      <td>56568.542495</td>\n",
       "    </tr>\n",
       "    <tr>\n",
       "      <th>Orange-Red</th>\n",
       "      <td>0.630000</td>\n",
       "      <td>0.630000</td>\n",
       "      <td>NaN</td>\n",
       "    </tr>\n",
       "    <tr>\n",
       "      <th>Pale yellow orange</th>\n",
       "      <td>0.000080</td>\n",
       "      <td>0.000080</td>\n",
       "      <td>NaN</td>\n",
       "    </tr>\n",
       "    <tr>\n",
       "      <th>Red</th>\n",
       "      <td>60526.787893</td>\n",
       "      <td>0.002550</td>\n",
       "      <td>104282.874572</td>\n",
       "    </tr>\n",
       "    <tr>\n",
       "      <th>White</th>\n",
       "      <td>94243.300229</td>\n",
       "      <td>0.000335</td>\n",
       "      <td>201123.823736</td>\n",
       "    </tr>\n",
       "    <tr>\n",
       "      <th>White-Yellow</th>\n",
       "      <td>0.000290</td>\n",
       "      <td>0.000290</td>\n",
       "      <td>NaN</td>\n",
       "    </tr>\n",
       "    <tr>\n",
       "      <th>Whitish</th>\n",
       "      <td>41.350000</td>\n",
       "      <td>41.350000</td>\n",
       "      <td>46.174073</td>\n",
       "    </tr>\n",
       "    <tr>\n",
       "      <th>Yellow-White</th>\n",
       "      <td>2.940750</td>\n",
       "      <td>1.353500</td>\n",
       "      <td>3.515042</td>\n",
       "    </tr>\n",
       "    <tr>\n",
       "      <th>Yellowish</th>\n",
       "      <td>0.198333</td>\n",
       "      <td>0.153000</td>\n",
       "      <td>0.141553</td>\n",
       "    </tr>\n",
       "    <tr>\n",
       "      <th>Yellowish White</th>\n",
       "      <td>0.000115</td>\n",
       "      <td>0.000110</td>\n",
       "      <td>0.000033</td>\n",
       "    </tr>\n",
       "  </tbody>\n",
       "</table>\n",
       "</div>"
      ],
      "text/plain": [
       "                             mean         median            std\n",
       "star_color                                                     \n",
       "Blue                254519.727561  224780.000000  217261.615190\n",
       "Blue                     0.001100       0.001100            NaN\n",
       "Blue-White           68904.416521     788.000000  185475.774192\n",
       "Orange              590000.000000  590000.000000   56568.542495\n",
       "Orange-Red               0.630000       0.630000            NaN\n",
       "Pale yellow orange       0.000080       0.000080            NaN\n",
       "Red                  60526.787893       0.002550  104282.874572\n",
       "White                94243.300229       0.000335  201123.823736\n",
       "White-Yellow             0.000290       0.000290            NaN\n",
       "Whitish                 41.350000      41.350000      46.174073\n",
       "Yellow-White             2.940750       1.353500       3.515042\n",
       "Yellowish                0.198333       0.153000       0.141553\n",
       "Yellowish White          0.000115       0.000110       0.000033"
      ]
     },
     "execution_count": 255,
     "metadata": {},
     "output_type": "execute_result"
    }
   ],
   "source": [
    "star_data.groupby('star_color').agg(['mean', 'median', 'std'])['luminosity']"
   ]
  },
  {
   "cell_type": "code",
   "execution_count": null,
   "metadata": {
    "cell_id": "763544710fae401d821a7002e98b6db7",
    "deepnote_cell_type": "code",
    "deepnote_to_be_reexecuted": false,
    "execution_millis": 11,
    "execution_start": 1702516974011,
    "source_hash": null
   },
   "outputs": [],
   "source": [
    "red_star = star_data.query('star_color == \"Red\"')\n",
    "blue_star = star_data.query('star_color == \"Blue\"')\n",
    "blue_white_star = star_data.query('star_color == \"Blue-White\"')\n",
    "yellow_white_star = star_data.query('star_color == \"Yellow-White\"')\n",
    "\n",
    "chart1 = alt.Chart(red_star).mark_bar().encode(\n",
    "    x = alt.X('luminosity:Q', bin=alt.Bin(maxbins=30)),\n",
    "    y='count()',\n",
    "    color=alt.value('red')\n",
    ").properties(title='Red')\n",
    "\n",
    "chart2 = alt.Chart(blue_star).mark_bar().encode(\n",
    "    x = alt.X('luminosity:Q', bin=alt.Bin(maxbins=30)),\n",
    "    y='count()',\n",
    "    color=alt.value('blue')\n",
    ").properties(title='Blue')\n",
    "\n",
    "chart3 = alt.Chart(blue_white_star).mark_bar().encode(\n",
    "    x = alt.X('luminosity:Q', bin=alt.Bin(maxbins=30)),\n",
    "    y='count()',\n",
    "    color=alt.value('#99ccff')\n",
    ").properties(title='Blue-White')\n",
    "\n",
    "chart4 = alt.Chart(yellow_white_star).mark_bar().encode(\n",
    "    x = alt.X('luminosity:Q', bin=alt.Bin(maxbins=30)),\n",
    "    y='count()',\n",
    "    color=alt.value('yellow')\n",
    ").properties(title='Yellow-White')"
   ]
  },
  {
   "cell_type": "code",
   "execution_count": null,
   "metadata": {
    "cell_id": "e332b6ad937541478dc093a3f26f3a62",
    "deepnote_cell_type": "code",
    "deepnote_to_be_reexecuted": false,
    "execution_millis": 21,
    "execution_start": 1702516976111,
    "source_hash": null
   },
   "outputs": [
    {
     "data": {
      "text/html": [
       "\n",
       "<div id=\"altair-viz-d3c3374fd9ed46959989c0d67788ae7b\"></div>\n",
       "<script type=\"text/javascript\">\n",
       "  var VEGA_DEBUG = (typeof VEGA_DEBUG == \"undefined\") ? {} : VEGA_DEBUG;\n",
       "  (function(spec, embedOpt){\n",
       "    let outputDiv = document.currentScript.previousElementSibling;\n",
       "    if (outputDiv.id !== \"altair-viz-d3c3374fd9ed46959989c0d67788ae7b\") {\n",
       "      outputDiv = document.getElementById(\"altair-viz-d3c3374fd9ed46959989c0d67788ae7b\");\n",
       "    }\n",
       "    const paths = {\n",
       "      \"vega\": \"https://cdn.jsdelivr.net/npm//vega@5?noext\",\n",
       "      \"vega-lib\": \"https://cdn.jsdelivr.net/npm//vega-lib?noext\",\n",
       "      \"vega-lite\": \"https://cdn.jsdelivr.net/npm//vega-lite@4.17.0?noext\",\n",
       "      \"vega-embed\": \"https://cdn.jsdelivr.net/npm//vega-embed@6?noext\",\n",
       "    };\n",
       "\n",
       "    function maybeLoadScript(lib, version) {\n",
       "      var key = `${lib.replace(\"-\", \"\")}_version`;\n",
       "      return (VEGA_DEBUG[key] == version) ?\n",
       "        Promise.resolve(paths[lib]) :\n",
       "        new Promise(function(resolve, reject) {\n",
       "          var s = document.createElement('script');\n",
       "          document.getElementsByTagName(\"head\")[0].appendChild(s);\n",
       "          s.async = true;\n",
       "          s.onload = () => {\n",
       "            VEGA_DEBUG[key] = version;\n",
       "            return resolve(paths[lib]);\n",
       "          };\n",
       "          s.onerror = () => reject(`Error loading script: ${paths[lib]}`);\n",
       "          s.src = paths[lib];\n",
       "        });\n",
       "    }\n",
       "\n",
       "    function showError(err) {\n",
       "      outputDiv.innerHTML = `<div class=\"error\" style=\"color:red;\">${err}</div>`;\n",
       "      throw err;\n",
       "    }\n",
       "\n",
       "    function displayChart(vegaEmbed) {\n",
       "      vegaEmbed(outputDiv, spec, embedOpt)\n",
       "        .catch(err => showError(`Javascript Error: ${err.message}<br>This usually means there's a typo in your chart specification. See the javascript console for the full traceback.`));\n",
       "    }\n",
       "\n",
       "    if(typeof define === \"function\" && define.amd) {\n",
       "      requirejs.config({paths});\n",
       "      require([\"vega-embed\"], displayChart, err => showError(`Error loading script: ${err.message}`));\n",
       "    } else {\n",
       "      maybeLoadScript(\"vega\", \"5\")\n",
       "        .then(() => maybeLoadScript(\"vega-lite\", \"4.17.0\"))\n",
       "        .then(() => maybeLoadScript(\"vega-embed\", \"6\"))\n",
       "        .catch(showError)\n",
       "        .then(() => displayChart(vegaEmbed));\n",
       "    }\n",
       "  })({\"config\": {\"view\": {\"continuousWidth\": 400, \"continuousHeight\": 300}}, \"data\": {\"name\": \"data-ef3923edf3d8f33293f192a302995ade\"}, \"mark\": \"bar\", \"encoding\": {\"color\": {\"value\": \"red\"}, \"x\": {\"bin\": {\"maxbins\": 30}, \"field\": \"luminosity\", \"type\": \"quantitative\"}, \"y\": {\"aggregate\": \"count\", \"type\": \"quantitative\"}}, \"title\": \"Red\", \"$schema\": \"https://vega.github.io/schema/vega-lite/v4.17.0.json\", \"datasets\": {\"data-ef3923edf3d8f33293f192a302995ade\": [{\"temperature\": 3068, \"luminosity\": 0.0024, \"radius\": 0.17, \"absolute_magnitude\": 16.12, \"star_type\": 0, \"star_color\": \"Red\", \"spectral_class\": \"M\"}, {\"temperature\": 3042, \"luminosity\": 0.0005, \"radius\": 0.1542, \"absolute_magnitude\": 16.6, \"star_type\": 0, \"star_color\": \"Red\", \"spectral_class\": \"M\"}, {\"temperature\": 2600, \"luminosity\": 0.0003, \"radius\": 0.102, \"absolute_magnitude\": 18.7, \"star_type\": 0, \"star_color\": \"Red\", \"spectral_class\": \"M\"}, {\"temperature\": 2800, \"luminosity\": 0.0002, \"radius\": 0.16, \"absolute_magnitude\": 16.65, \"star_type\": 0, \"star_color\": \"Red\", \"spectral_class\": \"M\"}, {\"temperature\": 1939, \"luminosity\": 0.000138, \"radius\": 0.103, \"absolute_magnitude\": 20.06, \"star_type\": 0, \"star_color\": \"Red\", \"spectral_class\": \"M\"}, {\"temperature\": 2840, \"luminosity\": 0.00065, \"radius\": 0.11, \"absolute_magnitude\": 16.98, \"star_type\": 0, \"star_color\": \"Red\", \"spectral_class\": \"M\"}, {\"temperature\": 2637, \"luminosity\": 0.00073, \"radius\": 0.127, \"absolute_magnitude\": 17.22, \"star_type\": 0, \"star_color\": \"Red\", \"spectral_class\": \"M\"}, {\"temperature\": 2600, \"luminosity\": 0.0004, \"radius\": 0.096, \"absolute_magnitude\": 17.4, \"star_type\": 0, \"star_color\": \"Red\", \"spectral_class\": \"M\"}, {\"temperature\": 2650, \"luminosity\": 0.00069, \"radius\": 0.11, \"absolute_magnitude\": 17.45, \"star_type\": 0, \"star_color\": \"Red\", \"spectral_class\": \"M\"}, {\"temperature\": 2700, \"luminosity\": 0.00018, \"radius\": 0.13, \"absolute_magnitude\": 16.05, \"star_type\": 0, \"star_color\": \"Red\", \"spectral_class\": \"M\"}, {\"temperature\": 3600, \"luminosity\": 0.0029, \"radius\": 0.51, \"absolute_magnitude\": 10.69, \"star_type\": 1, \"star_color\": \"Red\", \"spectral_class\": \"M\"}, {\"temperature\": 3129, \"luminosity\": 0.0122, \"radius\": 0.3761, \"absolute_magnitude\": 11.79, \"star_type\": 1, \"star_color\": \"Red\", \"spectral_class\": \"M\"}, {\"temperature\": 3134, \"luminosity\": 0.0004, \"radius\": 0.196, \"absolute_magnitude\": 13.21, \"star_type\": 1, \"star_color\": \"Red\", \"spectral_class\": \"M\"}, {\"temperature\": 3628, \"luminosity\": 0.0055, \"radius\": 0.393, \"absolute_magnitude\": 10.48, \"star_type\": 1, \"star_color\": \"Red\", \"spectral_class\": \"M\"}, {\"temperature\": 2650, \"luminosity\": 0.0006, \"radius\": 0.14, \"absolute_magnitude\": 11.782, \"star_type\": 1, \"star_color\": \"Red\", \"spectral_class\": \"M\"}, {\"temperature\": 3340, \"luminosity\": 0.0038, \"radius\": 0.24, \"absolute_magnitude\": 13.07, \"star_type\": 1, \"star_color\": \"Red\", \"spectral_class\": \"M\"}, {\"temperature\": 2799, \"luminosity\": 0.0018, \"radius\": 0.16, \"absolute_magnitude\": 14.79, \"star_type\": 1, \"star_color\": \"Red\", \"spectral_class\": \"M\"}, {\"temperature\": 3692, \"luminosity\": 0.00367, \"radius\": 0.47, \"absolute_magnitude\": 10.8, \"star_type\": 1, \"star_color\": \"Red\", \"spectral_class\": \"M\"}, {\"temperature\": 3192, \"luminosity\": 0.00362, \"radius\": 0.1967, \"absolute_magnitude\": 13.53, \"star_type\": 1, \"star_color\": \"Red\", \"spectral_class\": \"M\"}, {\"temperature\": 3441, \"luminosity\": 0.039, \"radius\": 0.351, \"absolute_magnitude\": 11.18, \"star_type\": 1, \"star_color\": \"Red\", \"spectral_class\": \"M\"}, {\"temperature\": 3826, \"luminosity\": 200000.0, \"radius\": 19.0, \"absolute_magnitude\": -6.93, \"star_type\": 4, \"star_color\": \"Red\", \"spectral_class\": \"M\"}, {\"temperature\": 3365, \"luminosity\": 340000.0, \"radius\": 23.0, \"absolute_magnitude\": -6.2, \"star_type\": 4, \"star_color\": \"Red\", \"spectral_class\": \"M\"}, {\"temperature\": 3270, \"luminosity\": 150000.0, \"radius\": 88.0, \"absolute_magnitude\": -6.02, \"star_type\": 4, \"star_color\": \"Red\", \"spectral_class\": \"M\"}, {\"temperature\": 3200, \"luminosity\": 195000.0, \"radius\": 17.0, \"absolute_magnitude\": -7.22, \"star_type\": 4, \"star_color\": \"Red\", \"spectral_class\": \"M\"}, {\"temperature\": 3008, \"luminosity\": 280000.0, \"radius\": 25.0, \"absolute_magnitude\": -6.0, \"star_type\": 4, \"star_color\": \"Red\", \"spectral_class\": \"M\"}, {\"temperature\": 3600, \"luminosity\": 320000.0, \"radius\": 29.0, \"absolute_magnitude\": -6.6, \"star_type\": 4, \"star_color\": \"Red\", \"spectral_class\": \"M\"}, {\"temperature\": 3575, \"luminosity\": 123000.0, \"radius\": 45.0, \"absolute_magnitude\": -6.78, \"star_type\": 4, \"star_color\": \"Red\", \"spectral_class\": \"M\"}, {\"temperature\": 3574, \"luminosity\": 200000.0, \"radius\": 89.0, \"absolute_magnitude\": -5.24, \"star_type\": 4, \"star_color\": \"Red\", \"spectral_class\": \"M\"}, {\"temperature\": 3625, \"luminosity\": 184000.0, \"radius\": 84.0, \"absolute_magnitude\": -6.74, \"star_type\": 4, \"star_color\": \"Red\", \"spectral_class\": \"M\"}, {\"temperature\": 3490, \"luminosity\": 270000.0, \"radius\": 1520.0, \"absolute_magnitude\": -9.4, \"star_type\": 5, \"star_color\": \"Red\", \"spectral_class\": \"M\"}, {\"temperature\": 3750, \"luminosity\": 283000.0, \"radius\": 1260.0, \"absolute_magnitude\": -7.63, \"star_type\": 5, \"star_color\": \"Red\", \"spectral_class\": \"M\"}, {\"temperature\": 3834, \"luminosity\": 272000.0, \"radius\": 1183.0, \"absolute_magnitude\": -9.2, \"star_type\": 5, \"star_color\": \"Red\", \"spectral_class\": \"M\"}, {\"temperature\": 3650, \"luminosity\": 310000.0, \"radius\": 1324.0, \"absolute_magnitude\": -7.79, \"star_type\": 5, \"star_color\": \"Red\", \"spectral_class\": \"M\"}, {\"temperature\": 3450, \"luminosity\": 263000.0, \"radius\": 1349.0, \"absolute_magnitude\": -11.75, \"star_type\": 5, \"star_color\": \"Red\", \"spectral_class\": \"M\"}, {\"temperature\": 3660, \"luminosity\": 363000.0, \"radius\": 1673.0, \"absolute_magnitude\": -11.92, \"star_type\": 5, \"star_color\": \"Red\", \"spectral_class\": \"M\"}, {\"temperature\": 3450, \"luminosity\": 174000.0, \"radius\": 1284.0, \"absolute_magnitude\": -11.28, \"star_type\": 5, \"star_color\": \"Red\", \"spectral_class\": \"M\"}, {\"temperature\": 3752, \"luminosity\": 209000.0, \"radius\": 955.0, \"absolute_magnitude\": -11.24, \"star_type\": 5, \"star_color\": \"Red\", \"spectral_class\": \"M\"}, {\"temperature\": 3535, \"luminosity\": 195000.0, \"radius\": 1546.0, \"absolute_magnitude\": -11.36, \"star_type\": 5, \"star_color\": \"Red\", \"spectral_class\": \"M\"}, {\"temperature\": 3341, \"luminosity\": 0.0056, \"radius\": 0.057, \"absolute_magnitude\": 16.23, \"star_type\": 0, \"star_color\": \"Red\", \"spectral_class\": \"M\"}, {\"temperature\": 3432, \"luminosity\": 0.00067, \"radius\": 0.19, \"absolute_magnitude\": 16.94, \"star_type\": 0, \"star_color\": \"Red\", \"spectral_class\": \"M\"}, {\"temperature\": 2983, \"luminosity\": 0.00024, \"radius\": 0.094, \"absolute_magnitude\": 16.09, \"star_type\": 0, \"star_color\": \"Red\", \"spectral_class\": \"M\"}, {\"temperature\": 2835, \"luminosity\": 0.00034, \"radius\": 0.0918, \"absolute_magnitude\": 16.96, \"star_type\": 0, \"star_color\": \"Red\", \"spectral_class\": \"M\"}, {\"temperature\": 2935, \"luminosity\": 0.00014, \"radius\": 0.116, \"absolute_magnitude\": 18.89, \"star_type\": 0, \"star_color\": \"Red\", \"spectral_class\": \"M\"}, {\"temperature\": 3295, \"luminosity\": 0.00098, \"radius\": 0.132, \"absolute_magnitude\": 17.13, \"star_type\": 0, \"star_color\": \"Red\", \"spectral_class\": \"M\"}, {\"temperature\": 2945, \"luminosity\": 0.00032, \"radius\": 0.093, \"absolute_magnitude\": 18.34, \"star_type\": 0, \"star_color\": \"Red\", \"spectral_class\": \"M\"}, {\"temperature\": 2817, \"luminosity\": 0.00098, \"radius\": 0.0911, \"absolute_magnitude\": 16.45, \"star_type\": 0, \"star_color\": \"Red\", \"spectral_class\": \"M\"}, {\"temperature\": 2774, \"luminosity\": 0.00036, \"radius\": 0.118, \"absolute_magnitude\": 17.39, \"star_type\": 0, \"star_color\": \"Red\", \"spectral_class\": \"M\"}, {\"temperature\": 2871, \"luminosity\": 0.00072, \"radius\": 0.12, \"absolute_magnitude\": 19.43, \"star_type\": 0, \"star_color\": \"Red\", \"spectral_class\": \"M\"}, {\"temperature\": 3345, \"luminosity\": 0.021, \"radius\": 0.273, \"absolute_magnitude\": 12.3, \"star_type\": 1, \"star_color\": \"Red\", \"spectral_class\": \"M\"}, {\"temperature\": 3607, \"luminosity\": 0.022, \"radius\": 0.38, \"absolute_magnitude\": 10.12, \"star_type\": 1, \"star_color\": \"Red\", \"spectral_class\": \"M\"}, {\"temperature\": 3304, \"luminosity\": 0.0085, \"radius\": 0.18, \"absolute_magnitude\": 13.2, \"star_type\": 1, \"star_color\": \"Red\", \"spectral_class\": \"M\"}, {\"temperature\": 3150, \"luminosity\": 0.0088, \"radius\": 0.35, \"absolute_magnitude\": 11.94, \"star_type\": 1, \"star_color\": \"Red\", \"spectral_class\": \"M\"}, {\"temperature\": 3550, \"luminosity\": 0.004, \"radius\": 0.291, \"absolute_magnitude\": 10.89, \"star_type\": 1, \"star_color\": \"Red\", \"spectral_class\": \"M\"}, {\"temperature\": 3180, \"luminosity\": 0.001, \"radius\": 0.35, \"absolute_magnitude\": 11.76, \"star_type\": 1, \"star_color\": \"Red\", \"spectral_class\": \"M\"}, {\"temperature\": 2890, \"luminosity\": 0.0034, \"radius\": 0.24, \"absolute_magnitude\": 13.46, \"star_type\": 1, \"star_color\": \"Red\", \"spectral_class\": \"M\"}, {\"temperature\": 3342, \"luminosity\": 0.0015, \"radius\": 0.307, \"absolute_magnitude\": 11.87, \"star_type\": 1, \"star_color\": \"Red\", \"spectral_class\": \"M\"}, {\"temperature\": 2621, \"luminosity\": 0.0006, \"radius\": 0.098, \"absolute_magnitude\": 12.81, \"star_type\": 1, \"star_color\": \"Red\", \"spectral_class\": \"M\"}, {\"temperature\": 3158, \"luminosity\": 0.00135, \"radius\": 0.161, \"absolute_magnitude\": 13.98, \"star_type\": 1, \"star_color\": \"Red\", \"spectral_class\": \"M\"}, {\"temperature\": 3459, \"luminosity\": 100000.0, \"radius\": 1289.0, \"absolute_magnitude\": -10.7, \"star_type\": 5, \"star_color\": \"Red\", \"spectral_class\": \"M\"}, {\"temperature\": 3605, \"luminosity\": 126000.0, \"radius\": 1124.0, \"absolute_magnitude\": -10.81, \"star_type\": 5, \"star_color\": \"Red\", \"spectral_class\": \"M\"}, {\"temperature\": 3615, \"luminosity\": 200000.0, \"radius\": 1635.0, \"absolute_magnitude\": -11.33, \"star_type\": 5, \"star_color\": \"Red\", \"spectral_class\": \"M\"}, {\"temperature\": 3399, \"luminosity\": 117000.0, \"radius\": 1486.0, \"absolute_magnitude\": -10.92, \"star_type\": 5, \"star_color\": \"Red\", \"spectral_class\": \"M\"}, {\"temperature\": 3610, \"luminosity\": 132000.0, \"radius\": 1522.0, \"absolute_magnitude\": -10.86, \"star_type\": 5, \"star_color\": \"Red\", \"spectral_class\": \"M\"}, {\"temperature\": 3553, \"luminosity\": 145000.0, \"radius\": 1324.0, \"absolute_magnitude\": -11.03, \"star_type\": 5, \"star_color\": \"Red\", \"spectral_class\": \"M\"}, {\"temperature\": 4015, \"luminosity\": 282000.0, \"radius\": 1534.0, \"absolute_magnitude\": -11.39, \"star_type\": 5, \"star_color\": \"Red\", \"spectral_class\": \"K\"}, {\"temperature\": 3625, \"luminosity\": 74000.0, \"radius\": 876.0, \"absolute_magnitude\": -10.25, \"star_type\": 5, \"star_color\": \"Red\", \"spectral_class\": \"M\"}, {\"temperature\": 6850, \"luminosity\": 229000.0, \"radius\": 1467.0, \"absolute_magnitude\": -10.07, \"star_type\": 5, \"star_color\": \"Red\", \"spectral_class\": \"G\"}, {\"temperature\": 3780, \"luminosity\": 200000.0, \"radius\": 1324.0, \"absolute_magnitude\": -10.7, \"star_type\": 5, \"star_color\": \"Red\", \"spectral_class\": \"M\"}, {\"temperature\": 3323, \"luminosity\": 0.00043, \"radius\": 0.0912, \"absolute_magnitude\": 17.16, \"star_type\": 0, \"star_color\": \"Red\", \"spectral_class\": \"M\"}, {\"temperature\": 3531, \"luminosity\": 0.00093, \"radius\": 0.0976, \"absolute_magnitude\": 19.94, \"star_type\": 0, \"star_color\": \"Red\", \"spectral_class\": \"M\"}, {\"temperature\": 3218, \"luminosity\": 0.00054, \"radius\": 0.11, \"absolute_magnitude\": 20.02, \"star_type\": 0, \"star_color\": \"Red\", \"spectral_class\": \"M\"}, {\"temperature\": 3146, \"luminosity\": 0.00015, \"radius\": 0.0932, \"absolute_magnitude\": 16.92, \"star_type\": 0, \"star_color\": \"Red\", \"spectral_class\": \"M\"}, {\"temperature\": 3511, \"luminosity\": 0.00064, \"radius\": 0.109, \"absolute_magnitude\": 17.12, \"star_type\": 0, \"star_color\": \"Red\", \"spectral_class\": \"M\"}, {\"temperature\": 3225, \"luminosity\": 0.00076, \"radius\": 0.121, \"absolute_magnitude\": 19.63, \"star_type\": 0, \"star_color\": \"Red\", \"spectral_class\": \"M\"}, {\"temperature\": 2935, \"luminosity\": 0.00087, \"radius\": 0.0932, \"absolute_magnitude\": 16.88, \"star_type\": 0, \"star_color\": \"Red\", \"spectral_class\": \"M\"}, {\"temperature\": 2861, \"luminosity\": 0.00019, \"radius\": 0.0899, \"absolute_magnitude\": 16.71, \"star_type\": 0, \"star_color\": \"Red\", \"spectral_class\": \"M\"}, {\"temperature\": 2856, \"luminosity\": 0.000896, \"radius\": 0.0782, \"absolute_magnitude\": 19.56, \"star_type\": 0, \"star_color\": \"Red\", \"spectral_class\": \"M\"}, {\"temperature\": 2731, \"luminosity\": 0.000437, \"radius\": 0.0856, \"absolute_magnitude\": 18.09, \"star_type\": 0, \"star_color\": \"Red\", \"spectral_class\": \"M\"}, {\"temperature\": 3095, \"luminosity\": 0.00019, \"radius\": 0.492, \"absolute_magnitude\": 10.87, \"star_type\": 1, \"star_color\": \"Red\", \"spectral_class\": \"M\"}, {\"temperature\": 3607, \"luminosity\": 0.00023, \"radius\": 0.38, \"absolute_magnitude\": 10.34, \"star_type\": 1, \"star_color\": \"Red\", \"spectral_class\": \"M\"}, {\"temperature\": 3100, \"luminosity\": 0.008, \"radius\": 0.31, \"absolute_magnitude\": 11.17, \"star_type\": 1, \"star_color\": \"Red\", \"spectral_class\": \"M\"}, {\"temperature\": 2989, \"luminosity\": 0.0087, \"radius\": 0.34, \"absolute_magnitude\": 13.12, \"star_type\": 1, \"star_color\": \"Red\", \"spectral_class\": \"M\"}, {\"temperature\": 3542, \"luminosity\": 0.0009, \"radius\": 0.62, \"absolute_magnitude\": 14.23, \"star_type\": 1, \"star_color\": \"Red\", \"spectral_class\": \"M\"}, {\"temperature\": 3243, \"luminosity\": 0.0023, \"radius\": 0.73, \"absolute_magnitude\": 14.75, \"star_type\": 1, \"star_color\": \"Red\", \"spectral_class\": \"M\"}, {\"temperature\": 3091, \"luminosity\": 0.0081, \"radius\": 0.24, \"absolute_magnitude\": 11.43, \"star_type\": 1, \"star_color\": \"Red\", \"spectral_class\": \"M\"}, {\"temperature\": 3598, \"luminosity\": 0.0011, \"radius\": 0.56, \"absolute_magnitude\": 14.26, \"star_type\": 1, \"star_color\": \"Red\", \"spectral_class\": \"M\"}, {\"temperature\": 3324, \"luminosity\": 0.0034, \"radius\": 0.34, \"absolute_magnitude\": 12.23, \"star_type\": 1, \"star_color\": \"Red\", \"spectral_class\": \"M\"}, {\"temperature\": 3541, \"luminosity\": 0.0013, \"radius\": 0.256, \"absolute_magnitude\": 14.33, \"star_type\": 1, \"star_color\": \"Red\", \"spectral_class\": \"M\"}, {\"temperature\": 3570, \"luminosity\": 320000.0, \"radius\": 1480.0, \"absolute_magnitude\": -7.58, \"star_type\": 5, \"star_color\": \"Red\", \"spectral_class\": \"M\"}, {\"temperature\": 3500, \"luminosity\": 138000.0, \"radius\": 1420.0, \"absolute_magnitude\": -8.18, \"star_type\": 5, \"star_color\": \"Red\", \"spectral_class\": \"M\"}, {\"temperature\": 3600, \"luminosity\": 240000.0, \"radius\": 1190.0, \"absolute_magnitude\": -7.89, \"star_type\": 5, \"star_color\": \"Red\", \"spectral_class\": \"M\"}, {\"temperature\": 3614, \"luminosity\": 145000.0, \"radius\": 1553.0, \"absolute_magnitude\": -7.71, \"star_type\": 5, \"star_color\": \"Red\", \"spectral_class\": \"M\"}, {\"temperature\": 2831, \"luminosity\": 0.000231, \"radius\": 0.0915, \"absolute_magnitude\": 16.21, \"star_type\": 0, \"star_color\": \"Red\", \"spectral_class\": \"M\"}, {\"temperature\": 2914, \"luminosity\": 0.000631, \"radius\": 0.116, \"absolute_magnitude\": 18.39, \"star_type\": 0, \"star_color\": \"Red\", \"spectral_class\": \"M\"}, {\"temperature\": 3419, \"luminosity\": 0.000245, \"radius\": 0.126, \"absolute_magnitude\": 17.56, \"star_type\": 0, \"star_color\": \"Red\", \"spectral_class\": \"M\"}, {\"temperature\": 3218, \"luminosity\": 0.000452, \"radius\": 0.0987, \"absolute_magnitude\": 17.34, \"star_type\": 0, \"star_color\": \"Red\", \"spectral_class\": \"M\"}, {\"temperature\": 3453, \"luminosity\": 0.000621, \"radius\": 0.0773, \"absolute_magnitude\": 17.08, \"star_type\": 0, \"star_color\": \"Red\", \"spectral_class\": \"M\"}, {\"temperature\": 2889, \"luminosity\": 0.000352, \"radius\": 0.0973, \"absolute_magnitude\": 16.93, \"star_type\": 0, \"star_color\": \"Red\", \"spectral_class\": \"M\"}, {\"temperature\": 2968, \"luminosity\": 0.000461, \"radius\": 0.119, \"absolute_magnitude\": 17.45, \"star_type\": 0, \"star_color\": \"Red\", \"spectral_class\": \"M\"}, {\"temperature\": 3484, \"luminosity\": 0.000551, \"radius\": 0.0998, \"absolute_magnitude\": 16.67, \"star_type\": 0, \"star_color\": \"Red\", \"spectral_class\": \"M\"}, {\"temperature\": 2778, \"luminosity\": 0.000849, \"radius\": 0.112, \"absolute_magnitude\": 19.45, \"star_type\": 0, \"star_color\": \"Red\", \"spectral_class\": \"M\"}, {\"temperature\": 3523, \"luminosity\": 0.000957, \"radius\": 0.129, \"absolute_magnitude\": 16.35, \"star_type\": 0, \"star_color\": \"Red\", \"spectral_class\": \"M\"}, {\"temperature\": 3462, \"luminosity\": 0.0053, \"radius\": 0.148, \"absolute_magnitude\": 11.47, \"star_type\": 1, \"star_color\": \"Red\", \"spectral_class\": \"M\"}, {\"temperature\": 3257, \"luminosity\": 0.0024, \"radius\": 0.46, \"absolute_magnitude\": 10.73, \"star_type\": 1, \"star_color\": \"Red\", \"spectral_class\": \"M\"}, {\"temperature\": 2994, \"luminosity\": 0.0072, \"radius\": 0.28, \"absolute_magnitude\": 13.45, \"star_type\": 1, \"star_color\": \"Red\", \"spectral_class\": \"M\"}, {\"temperature\": 3212, \"luminosity\": 0.0016, \"radius\": 0.378, \"absolute_magnitude\": 12.854, \"star_type\": 1, \"star_color\": \"Red\", \"spectral_class\": \"M\"}, {\"temperature\": 3523, \"luminosity\": 0.0054, \"radius\": 0.319, \"absolute_magnitude\": 12.43, \"star_type\": 1, \"star_color\": \"Red\", \"spectral_class\": \"M\"}, {\"temperature\": 3598, \"luminosity\": 0.0027, \"radius\": 0.67, \"absolute_magnitude\": 13.667, \"star_type\": 1, \"star_color\": \"Red\", \"spectral_class\": \"M\"}, {\"temperature\": 3142, \"luminosity\": 0.00132, \"radius\": 0.258, \"absolute_magnitude\": 14.12, \"star_type\": 1, \"star_color\": \"Red\", \"spectral_class\": \"M\"}, {\"temperature\": 3496, \"luminosity\": 0.00125, \"radius\": 0.336, \"absolute_magnitude\": 14.94, \"star_type\": 1, \"star_color\": \"Red\", \"spectral_class\": \"M\"}, {\"temperature\": 3324, \"luminosity\": 0.0065, \"radius\": 0.471, \"absolute_magnitude\": 12.78, \"star_type\": 1, \"star_color\": \"Red\", \"spectral_class\": \"M\"}, {\"temperature\": 3463, \"luminosity\": 0.0027, \"radius\": 0.675, \"absolute_magnitude\": 14.776, \"star_type\": 1, \"star_color\": \"Red\", \"spectral_class\": \"M\"}]}}, {\"mode\": \"vega-lite\"});\n",
       "</script>"
      ],
      "text/plain": [
       "alt.Chart(...)"
      ]
     },
     "execution_count": 257,
     "metadata": {},
     "output_type": "execute_result"
    }
   ],
   "source": [
    "chart1"
   ]
  },
  {
   "cell_type": "code",
   "execution_count": null,
   "metadata": {
    "cell_id": "c69bc82e301445df8814b09972e4d679",
    "deepnote_cell_type": "code",
    "deepnote_to_be_reexecuted": false,
    "execution_millis": 11,
    "execution_start": 1702516977858,
    "source_hash": null
   },
   "outputs": [
    {
     "data": {
      "text/html": [
       "\n",
       "<div id=\"altair-viz-c524c8bee4b54c369756e5ff94b9099b\"></div>\n",
       "<script type=\"text/javascript\">\n",
       "  var VEGA_DEBUG = (typeof VEGA_DEBUG == \"undefined\") ? {} : VEGA_DEBUG;\n",
       "  (function(spec, embedOpt){\n",
       "    let outputDiv = document.currentScript.previousElementSibling;\n",
       "    if (outputDiv.id !== \"altair-viz-c524c8bee4b54c369756e5ff94b9099b\") {\n",
       "      outputDiv = document.getElementById(\"altair-viz-c524c8bee4b54c369756e5ff94b9099b\");\n",
       "    }\n",
       "    const paths = {\n",
       "      \"vega\": \"https://cdn.jsdelivr.net/npm//vega@5?noext\",\n",
       "      \"vega-lib\": \"https://cdn.jsdelivr.net/npm//vega-lib?noext\",\n",
       "      \"vega-lite\": \"https://cdn.jsdelivr.net/npm//vega-lite@4.17.0?noext\",\n",
       "      \"vega-embed\": \"https://cdn.jsdelivr.net/npm//vega-embed@6?noext\",\n",
       "    };\n",
       "\n",
       "    function maybeLoadScript(lib, version) {\n",
       "      var key = `${lib.replace(\"-\", \"\")}_version`;\n",
       "      return (VEGA_DEBUG[key] == version) ?\n",
       "        Promise.resolve(paths[lib]) :\n",
       "        new Promise(function(resolve, reject) {\n",
       "          var s = document.createElement('script');\n",
       "          document.getElementsByTagName(\"head\")[0].appendChild(s);\n",
       "          s.async = true;\n",
       "          s.onload = () => {\n",
       "            VEGA_DEBUG[key] = version;\n",
       "            return resolve(paths[lib]);\n",
       "          };\n",
       "          s.onerror = () => reject(`Error loading script: ${paths[lib]}`);\n",
       "          s.src = paths[lib];\n",
       "        });\n",
       "    }\n",
       "\n",
       "    function showError(err) {\n",
       "      outputDiv.innerHTML = `<div class=\"error\" style=\"color:red;\">${err}</div>`;\n",
       "      throw err;\n",
       "    }\n",
       "\n",
       "    function displayChart(vegaEmbed) {\n",
       "      vegaEmbed(outputDiv, spec, embedOpt)\n",
       "        .catch(err => showError(`Javascript Error: ${err.message}<br>This usually means there's a typo in your chart specification. See the javascript console for the full traceback.`));\n",
       "    }\n",
       "\n",
       "    if(typeof define === \"function\" && define.amd) {\n",
       "      requirejs.config({paths});\n",
       "      require([\"vega-embed\"], displayChart, err => showError(`Error loading script: ${err.message}`));\n",
       "    } else {\n",
       "      maybeLoadScript(\"vega\", \"5\")\n",
       "        .then(() => maybeLoadScript(\"vega-lite\", \"4.17.0\"))\n",
       "        .then(() => maybeLoadScript(\"vega-embed\", \"6\"))\n",
       "        .catch(showError)\n",
       "        .then(() => displayChart(vegaEmbed));\n",
       "    }\n",
       "  })({\"config\": {\"view\": {\"continuousWidth\": 400, \"continuousHeight\": 300}}, \"data\": {\"name\": \"data-578017ac87af6c3e1db8eb4a155fa6e0\"}, \"mark\": \"bar\", \"encoding\": {\"color\": {\"value\": \"blue\"}, \"x\": {\"bin\": {\"maxbins\": 30}, \"field\": \"luminosity\", \"type\": \"quantitative\"}, \"y\": {\"aggregate\": \"count\", \"type\": \"quantitative\"}}, \"title\": \"Blue\", \"$schema\": \"https://vega.github.io/schema/vega-lite/v4.17.0.json\", \"datasets\": {\"data-578017ac87af6c3e1db8eb4a155fa6e0\": [{\"temperature\": 39000, \"luminosity\": 204000.0, \"radius\": 10.6, \"absolute_magnitude\": -4.7, \"star_type\": 3, \"star_color\": \"Blue\", \"spectral_class\": \"O\"}, {\"temperature\": 33750, \"luminosity\": 220000.0, \"radius\": 26.0, \"absolute_magnitude\": -6.1, \"star_type\": 4, \"star_color\": \"Blue\", \"spectral_class\": \"B\"}, {\"temperature\": 36108, \"luminosity\": 198000.0, \"radius\": 10.2, \"absolute_magnitude\": -4.4, \"star_type\": 3, \"star_color\": \"Blue\", \"spectral_class\": \"O\"}, {\"temperature\": 33300, \"luminosity\": 240000.0, \"radius\": 12.0, \"absolute_magnitude\": -6.5, \"star_type\": 4, \"star_color\": \"Blue\", \"spectral_class\": \"B\"}, {\"temperature\": 40000, \"luminosity\": 813000.0, \"radius\": 14.0, \"absolute_magnitude\": -6.23, \"star_type\": 4, \"star_color\": \"Blue\", \"spectral_class\": \"O\"}, {\"temperature\": 23000, \"luminosity\": 127000.0, \"radius\": 36.0, \"absolute_magnitude\": -5.76, \"star_type\": 4, \"star_color\": \"Blue\", \"spectral_class\": \"O\"}, {\"temperature\": 17120, \"luminosity\": 235000.0, \"radius\": 83.0, \"absolute_magnitude\": -6.89, \"star_type\": 4, \"star_color\": \"Blue\", \"spectral_class\": \"O\"}, {\"temperature\": 11096, \"luminosity\": 112000.0, \"radius\": 12.0, \"absolute_magnitude\": -5.91, \"star_type\": 4, \"star_color\": \"Blue\", \"spectral_class\": \"O\"}, {\"temperature\": 14245, \"luminosity\": 231000.0, \"radius\": 42.0, \"absolute_magnitude\": -6.12, \"star_type\": 4, \"star_color\": \"Blue\", \"spectral_class\": \"O\"}, {\"temperature\": 24630, \"luminosity\": 363000.0, \"radius\": 63.0, \"absolute_magnitude\": -5.83, \"star_type\": 4, \"star_color\": \"Blue\", \"spectral_class\": \"O\"}, {\"temperature\": 12893, \"luminosity\": 184000.0, \"radius\": 36.0, \"absolute_magnitude\": -6.34, \"star_type\": 4, \"star_color\": \"Blue\", \"spectral_class\": \"O\"}, {\"temperature\": 24345, \"luminosity\": 142000.0, \"radius\": 57.0, \"absolute_magnitude\": -6.24, \"star_type\": 4, \"star_color\": \"Blue\", \"spectral_class\": \"O\"}, {\"temperature\": 33421, \"luminosity\": 352000.0, \"radius\": 67.0, \"absolute_magnitude\": -5.79, \"star_type\": 4, \"star_color\": \"Blue\", \"spectral_class\": \"O\"}, {\"temperature\": 21020, \"luminosity\": 0.0015, \"radius\": 0.0112, \"absolute_magnitude\": 11.52, \"star_type\": 2, \"star_color\": \"Blue\", \"spectral_class\": \"B\"}, {\"temperature\": 18290, \"luminosity\": 0.0013, \"radius\": 0.00934, \"absolute_magnitude\": 12.78, \"star_type\": 2, \"star_color\": \"Blue\", \"spectral_class\": \"B\"}, {\"temperature\": 37800, \"luminosity\": 202900.0, \"radius\": 6.86, \"absolute_magnitude\": -4.56, \"star_type\": 3, \"star_color\": \"Blue\", \"spectral_class\": \"O\"}, {\"temperature\": 25390, \"luminosity\": 223000.0, \"radius\": 57.0, \"absolute_magnitude\": -5.92, \"star_type\": 4, \"star_color\": \"Blue\", \"spectral_class\": \"O\"}, {\"temperature\": 11567, \"luminosity\": 251000.0, \"radius\": 36.0, \"absolute_magnitude\": -6.245, \"star_type\": 4, \"star_color\": \"Blue\", \"spectral_class\": \"O\"}, {\"temperature\": 12675, \"luminosity\": 452000.0, \"radius\": 83.0, \"absolute_magnitude\": -5.62, \"star_type\": 4, \"star_color\": \"Blue\", \"spectral_class\": \"O\"}, {\"temperature\": 5752, \"luminosity\": 245000.0, \"radius\": 97.0, \"absolute_magnitude\": -6.63, \"star_type\": 4, \"star_color\": \"Blue\", \"spectral_class\": \"O\"}, {\"temperature\": 8927, \"luminosity\": 239000.0, \"radius\": 35.0, \"absolute_magnitude\": -7.34, \"star_type\": 4, \"star_color\": \"Blue\", \"spectral_class\": \"O\"}, {\"temperature\": 7282, \"luminosity\": 131000.0, \"radius\": 24.0, \"absolute_magnitude\": -7.22, \"star_type\": 4, \"star_color\": \"Blue\", \"spectral_class\": \"O\"}, {\"temperature\": 19923, \"luminosity\": 152000.0, \"radius\": 73.0, \"absolute_magnitude\": -5.69, \"star_type\": 4, \"star_color\": \"Blue\", \"spectral_class\": \"O\"}, {\"temperature\": 26373, \"luminosity\": 198000.0, \"radius\": 39.0, \"absolute_magnitude\": -5.83, \"star_type\": 4, \"star_color\": \"Blue\", \"spectral_class\": \"O\"}, {\"temperature\": 17383, \"luminosity\": 342900.0, \"radius\": 30.0, \"absolute_magnitude\": -6.09, \"star_type\": 4, \"star_color\": \"Blue\", \"spectral_class\": \"O\"}, {\"temperature\": 9373, \"luminosity\": 424520.0, \"radius\": 24.0, \"absolute_magnitude\": -5.99, \"star_type\": 4, \"star_color\": \"Blue\", \"spectral_class\": \"O\"}, {\"temperature\": 26000, \"luminosity\": 316000.0, \"radius\": 1679.0, \"absolute_magnitude\": -9.1, \"star_type\": 5, \"star_color\": \"Blue\", \"spectral_class\": \"B\"}, {\"temperature\": 18000, \"luminosity\": 200000.0, \"radius\": 1045.0, \"absolute_magnitude\": -8.3, \"star_type\": 5, \"star_color\": \"Blue\", \"spectral_class\": \"O\"}, {\"temperature\": 16790, \"luminosity\": 0.0014, \"radius\": 0.0121, \"absolute_magnitude\": 12.87, \"star_type\": 2, \"star_color\": \"Blue\", \"spectral_class\": \"B\"}, {\"temperature\": 15680, \"luminosity\": 0.00122, \"radius\": 0.0114, \"absolute_magnitude\": 11.92, \"star_type\": 2, \"star_color\": \"Blue\", \"spectral_class\": \"B\"}, {\"temperature\": 14982, \"luminosity\": 0.00118, \"radius\": 0.0113, \"absolute_magnitude\": 12.23, \"star_type\": 2, \"star_color\": \"Blue\", \"spectral_class\": \"B\"}, {\"temperature\": 13340, \"luminosity\": 0.00109, \"radius\": 0.0116, \"absolute_magnitude\": 12.9, \"star_type\": 2, \"star_color\": \"Blue\", \"spectral_class\": \"B\"}, {\"temperature\": 18340, \"luminosity\": 0.00134, \"radius\": 0.0124, \"absolute_magnitude\": 11.22, \"star_type\": 2, \"star_color\": \"Blue\", \"spectral_class\": \"B\"}, {\"temperature\": 19920, \"luminosity\": 0.00156, \"radius\": 0.0142, \"absolute_magnitude\": 11.34, \"star_type\": 2, \"star_color\": \"Blue\", \"spectral_class\": \"B\"}, {\"temperature\": 24020, \"luminosity\": 0.00159, \"radius\": 0.0127, \"absolute_magnitude\": 10.55, \"star_type\": 2, \"star_color\": \"Blue\", \"spectral_class\": \"B\"}, {\"temperature\": 23092, \"luminosity\": 0.00132, \"radius\": 0.0104, \"absolute_magnitude\": 10.18, \"star_type\": 2, \"star_color\": \"Blue\", \"spectral_class\": \"B\"}, {\"temperature\": 17920, \"luminosity\": 0.00111, \"radius\": 0.0106, \"absolute_magnitude\": 11.66, \"star_type\": 2, \"star_color\": \"Blue\", \"spectral_class\": \"B\"}, {\"temperature\": 19360, \"luminosity\": 0.00125, \"radius\": 0.00998, \"absolute_magnitude\": 11.62, \"star_type\": 2, \"star_color\": \"Blue\", \"spectral_class\": \"B\"}, {\"temperature\": 34190, \"luminosity\": 198200.0, \"radius\": 6.39, \"absolute_magnitude\": -4.57, \"star_type\": 3, \"star_color\": \"Blue\", \"spectral_class\": \"O\"}, {\"temperature\": 32460, \"luminosity\": 173800.0, \"radius\": 6.237, \"absolute_magnitude\": -4.36, \"star_type\": 3, \"star_color\": \"Blue\", \"spectral_class\": \"O\"}, {\"temperature\": 23678, \"luminosity\": 244290.0, \"radius\": 35.0, \"absolute_magnitude\": -6.27, \"star_type\": 4, \"star_color\": \"Blue\", \"spectral_class\": \"O\"}, {\"temperature\": 12749, \"luminosity\": 332520.0, \"radius\": 76.0, \"absolute_magnitude\": -7.02, \"star_type\": 4, \"star_color\": \"Blue\", \"spectral_class\": \"O\"}, {\"temperature\": 9383, \"luminosity\": 342940.0, \"radius\": 98.0, \"absolute_magnitude\": -6.98, \"star_type\": 4, \"star_color\": \"Blue\", \"spectral_class\": \"O\"}, {\"temperature\": 23440, \"luminosity\": 537430.0, \"radius\": 81.0, \"absolute_magnitude\": -5.975, \"star_type\": 4, \"star_color\": \"Blue\", \"spectral_class\": \"O\"}, {\"temperature\": 16787, \"luminosity\": 246730.0, \"radius\": 62.0, \"absolute_magnitude\": -6.35, \"star_type\": 4, \"star_color\": \"Blue\", \"spectral_class\": \"O\"}, {\"temperature\": 18734, \"luminosity\": 224780.0, \"radius\": 46.0, \"absolute_magnitude\": -7.45, \"star_type\": 4, \"star_color\": \"Blue\", \"spectral_class\": \"O\"}, {\"temperature\": 9892, \"luminosity\": 593900.0, \"radius\": 80.0, \"absolute_magnitude\": -7.262, \"star_type\": 4, \"star_color\": \"Blue\", \"spectral_class\": \"O\"}, {\"temperature\": 10930, \"luminosity\": 783930.0, \"radius\": 25.0, \"absolute_magnitude\": -6.224, \"star_type\": 4, \"star_color\": \"Blue\", \"spectral_class\": \"O\"}, {\"temperature\": 23095, \"luminosity\": 347820.0, \"radius\": 86.0, \"absolute_magnitude\": -5.905, \"star_type\": 4, \"star_color\": \"Blue\", \"spectral_class\": \"O\"}, {\"temperature\": 21738, \"luminosity\": 748890.0, \"radius\": 92.0, \"absolute_magnitude\": -7.346, \"star_type\": 4, \"star_color\": \"Blue\", \"spectral_class\": \"O\"}, {\"temperature\": 38234, \"luminosity\": 272830.0, \"radius\": 1356.0, \"absolute_magnitude\": -9.29, \"star_type\": 5, \"star_color\": \"Blue\", \"spectral_class\": \"O\"}, {\"temperature\": 32489, \"luminosity\": 648430.0, \"radius\": 1948.5, \"absolute_magnitude\": -10.84, \"star_type\": 5, \"star_color\": \"Blue\", \"spectral_class\": \"O\"}, {\"temperature\": 38940, \"luminosity\": 374830.0, \"radius\": 1356.0, \"absolute_magnitude\": -9.93, \"star_type\": 5, \"star_color\": \"Blue\", \"spectral_class\": \"O\"}, {\"temperature\": 30839, \"luminosity\": 834042.0, \"radius\": 1194.0, \"absolute_magnitude\": -10.63, \"star_type\": 5, \"star_color\": \"Blue\", \"spectral_class\": \"O\"}, {\"temperature\": 37882, \"luminosity\": 294903.0, \"radius\": 1783.0, \"absolute_magnitude\": -7.8, \"star_type\": 5, \"star_color\": \"Blue\", \"spectral_class\": \"O\"}]}}, {\"mode\": \"vega-lite\"});\n",
       "</script>"
      ],
      "text/plain": [
       "alt.Chart(...)"
      ]
     },
     "execution_count": 258,
     "metadata": {},
     "output_type": "execute_result"
    }
   ],
   "source": [
    "chart2"
   ]
  },
  {
   "cell_type": "code",
   "execution_count": null,
   "metadata": {
    "cell_id": "291998bf523b4b5bb6f8907e5f9ce710",
    "deepnote_cell_type": "code",
    "deepnote_to_be_reexecuted": false,
    "execution_millis": 16,
    "execution_start": 1702516980671,
    "source_hash": null
   },
   "outputs": [
    {
     "data": {
      "text/html": [
       "\n",
       "<div id=\"altair-viz-325b750b38de4a36b4ebf4574bcd3faa\"></div>\n",
       "<script type=\"text/javascript\">\n",
       "  var VEGA_DEBUG = (typeof VEGA_DEBUG == \"undefined\") ? {} : VEGA_DEBUG;\n",
       "  (function(spec, embedOpt){\n",
       "    let outputDiv = document.currentScript.previousElementSibling;\n",
       "    if (outputDiv.id !== \"altair-viz-325b750b38de4a36b4ebf4574bcd3faa\") {\n",
       "      outputDiv = document.getElementById(\"altair-viz-325b750b38de4a36b4ebf4574bcd3faa\");\n",
       "    }\n",
       "    const paths = {\n",
       "      \"vega\": \"https://cdn.jsdelivr.net/npm//vega@5?noext\",\n",
       "      \"vega-lib\": \"https://cdn.jsdelivr.net/npm//vega-lib?noext\",\n",
       "      \"vega-lite\": \"https://cdn.jsdelivr.net/npm//vega-lite@4.17.0?noext\",\n",
       "      \"vega-embed\": \"https://cdn.jsdelivr.net/npm//vega-embed@6?noext\",\n",
       "    };\n",
       "\n",
       "    function maybeLoadScript(lib, version) {\n",
       "      var key = `${lib.replace(\"-\", \"\")}_version`;\n",
       "      return (VEGA_DEBUG[key] == version) ?\n",
       "        Promise.resolve(paths[lib]) :\n",
       "        new Promise(function(resolve, reject) {\n",
       "          var s = document.createElement('script');\n",
       "          document.getElementsByTagName(\"head\")[0].appendChild(s);\n",
       "          s.async = true;\n",
       "          s.onload = () => {\n",
       "            VEGA_DEBUG[key] = version;\n",
       "            return resolve(paths[lib]);\n",
       "          };\n",
       "          s.onerror = () => reject(`Error loading script: ${paths[lib]}`);\n",
       "          s.src = paths[lib];\n",
       "        });\n",
       "    }\n",
       "\n",
       "    function showError(err) {\n",
       "      outputDiv.innerHTML = `<div class=\"error\" style=\"color:red;\">${err}</div>`;\n",
       "      throw err;\n",
       "    }\n",
       "\n",
       "    function displayChart(vegaEmbed) {\n",
       "      vegaEmbed(outputDiv, spec, embedOpt)\n",
       "        .catch(err => showError(`Javascript Error: ${err.message}<br>This usually means there's a typo in your chart specification. See the javascript console for the full traceback.`));\n",
       "    }\n",
       "\n",
       "    if(typeof define === \"function\" && define.amd) {\n",
       "      requirejs.config({paths});\n",
       "      require([\"vega-embed\"], displayChart, err => showError(`Error loading script: ${err.message}`));\n",
       "    } else {\n",
       "      maybeLoadScript(\"vega\", \"5\")\n",
       "        .then(() => maybeLoadScript(\"vega-lite\", \"4.17.0\"))\n",
       "        .then(() => maybeLoadScript(\"vega-embed\", \"6\"))\n",
       "        .catch(showError)\n",
       "        .then(() => displayChart(vegaEmbed));\n",
       "    }\n",
       "  })({\"config\": {\"view\": {\"continuousWidth\": 400, \"continuousHeight\": 300}}, \"data\": {\"name\": \"data-f78019da2fd43b32e221f9e0796c5e1f\"}, \"mark\": \"bar\", \"encoding\": {\"color\": {\"value\": \"#99ccff\"}, \"x\": {\"bin\": {\"maxbins\": 30}, \"field\": \"luminosity\", \"type\": \"quantitative\"}, \"y\": {\"aggregate\": \"count\", \"type\": \"quantitative\"}}, \"title\": \"Blue-White\", \"$schema\": \"https://vega.github.io/schema/vega-lite/v4.17.0.json\", \"datasets\": {\"data-f78019da2fd43b32e221f9e0796c5e1f\": [{\"temperature\": 25000, \"luminosity\": 0.056, \"radius\": 0.0084, \"absolute_magnitude\": 10.58, \"star_type\": 2, \"star_color\": \"Blue-White\", \"spectral_class\": \"B\"}, {\"temperature\": 16500, \"luminosity\": 0.013, \"radius\": 0.014, \"absolute_magnitude\": 11.89, \"star_type\": 2, \"star_color\": \"Blue-White\", \"spectral_class\": \"B\"}, {\"temperature\": 8570, \"luminosity\": 0.00081, \"radius\": 0.0097, \"absolute_magnitude\": 14.2, \"star_type\": 2, \"star_color\": \"Blue-White\", \"spectral_class\": \"A\"}, {\"temperature\": 30000, \"luminosity\": 28840.0, \"radius\": 6.3, \"absolute_magnitude\": -4.2, \"star_type\": 3, \"star_color\": \"Blue-White\", \"spectral_class\": \"B\"}, {\"temperature\": 15276, \"luminosity\": 1136.0, \"radius\": 7.2, \"absolute_magnitude\": -1.97, \"star_type\": 3, \"star_color\": \"Blue-White\", \"spectral_class\": \"B\"}, {\"temperature\": 17200, \"luminosity\": 0.00098, \"radius\": 0.015, \"absolute_magnitude\": 12.45, \"star_type\": 2, \"star_color\": \"Blue-White\", \"spectral_class\": \"B\"}, {\"temperature\": 14100, \"luminosity\": 0.00067, \"radius\": 0.0089, \"absolute_magnitude\": 12.17, \"star_type\": 2, \"star_color\": \"Blue-White\", \"spectral_class\": \"B\"}, {\"temperature\": 9675, \"luminosity\": 0.00045, \"radius\": 0.0109, \"absolute_magnitude\": 13.98, \"star_type\": 2, \"star_color\": \"Blue-White\", \"spectral_class\": \"A\"}, {\"temperature\": 12010, \"luminosity\": 0.00078, \"radius\": 0.0092, \"absolute_magnitude\": 12.13, \"star_type\": 2, \"star_color\": \"Blue-White\", \"spectral_class\": \"B\"}, {\"temperature\": 10980, \"luminosity\": 0.00074, \"radius\": 0.0087, \"absolute_magnitude\": 11.19, \"star_type\": 2, \"star_color\": \"Blue-White\", \"spectral_class\": \"B\"}, {\"temperature\": 9030, \"luminosity\": 45.0, \"radius\": 2.63, \"absolute_magnitude\": 1.45, \"star_type\": 3, \"star_color\": \"Blue-White\", \"spectral_class\": \"A\"}, {\"temperature\": 11250, \"luminosity\": 672.0, \"radius\": 6.98, \"absolute_magnitude\": -2.3, \"star_type\": 3, \"star_color\": \"Blue-White\", \"spectral_class\": \"A\"}, {\"temperature\": 12098, \"luminosity\": 689.0, \"radius\": 7.01, \"absolute_magnitude\": 0.02, \"star_type\": 3, \"star_color\": \"Blue-White\", \"spectral_class\": \"A\"}, {\"temperature\": 13420, \"luminosity\": 0.00059, \"radius\": 0.00981, \"absolute_magnitude\": 13.67, \"star_type\": 2, \"star_color\": \"Blue-White\", \"spectral_class\": \"B\"}, {\"temperature\": 14520, \"luminosity\": 0.00082, \"radius\": 0.00972, \"absolute_magnitude\": 11.92, \"star_type\": 2, \"star_color\": \"Blue-White\", \"spectral_class\": \"B\"}, {\"temperature\": 11900, \"luminosity\": 0.00067, \"radius\": 0.00898, \"absolute_magnitude\": 11.38, \"star_type\": 2, \"star_color\": \"Blue-White\", \"spectral_class\": \"B\"}, {\"temperature\": 8924, \"luminosity\": 0.00028, \"radius\": 0.00879, \"absolute_magnitude\": 14.87, \"star_type\": 2, \"star_color\": \"Blue-White\", \"spectral_class\": \"A\"}, {\"temperature\": 12912, \"luminosity\": 0.00071, \"radius\": 0.00945, \"absolute_magnitude\": 12.83, \"star_type\": 2, \"star_color\": \"Blue-White\", \"spectral_class\": \"B\"}, {\"temperature\": 12984, \"luminosity\": 0.00088, \"radius\": 0.00996, \"absolute_magnitude\": 11.23, \"star_type\": 2, \"star_color\": \"Blue-White\", \"spectral_class\": \"B\"}, {\"temperature\": 29560, \"luminosity\": 188000.0, \"radius\": 6.02, \"absolute_magnitude\": -4.01, \"star_type\": 3, \"star_color\": \"Blue-White\", \"spectral_class\": \"B\"}, {\"temperature\": 8945, \"luminosity\": 38.0, \"radius\": 2.487, \"absolute_magnitude\": 0.12, \"star_type\": 3, \"star_color\": \"Blue-White\", \"spectral_class\": \"A\"}, {\"temperature\": 14060, \"luminosity\": 1092.0, \"radius\": 5.745, \"absolute_magnitude\": -2.04, \"star_type\": 3, \"star_color\": \"Blue-White\", \"spectral_class\": \"A\"}, {\"temperature\": 16390, \"luminosity\": 1278.0, \"radius\": 5.68, \"absolute_magnitude\": -3.32, \"star_type\": 3, \"star_color\": \"Blue-White\", \"spectral_class\": \"B\"}, {\"temperature\": 25070, \"luminosity\": 14500.0, \"radius\": 5.92, \"absolute_magnitude\": -3.98, \"star_type\": 3, \"star_color\": \"Blue-White\", \"spectral_class\": \"B\"}, {\"temperature\": 28700, \"luminosity\": 16790.0, \"radius\": 6.4, \"absolute_magnitude\": -4.09, \"star_type\": 3, \"star_color\": \"Blue-White\", \"spectral_class\": \"B\"}, {\"temperature\": 26140, \"luminosity\": 14520.0, \"radius\": 5.49, \"absolute_magnitude\": -3.8, \"star_type\": 3, \"star_color\": \"Blue-White\", \"spectral_class\": \"B\"}, {\"temperature\": 20120, \"luminosity\": 4720.0, \"radius\": 6.78, \"absolute_magnitude\": -3.4, \"star_type\": 3, \"star_color\": \"Blue-White\", \"spectral_class\": \"B\"}, {\"temperature\": 13023, \"luminosity\": 998.0, \"radius\": 6.21, \"absolute_magnitude\": -1.38, \"star_type\": 3, \"star_color\": \"Blue-White\", \"spectral_class\": \"A\"}, {\"temperature\": 11000, \"luminosity\": 170000.0, \"radius\": 1779.0, \"absolute_magnitude\": -9.9, \"star_type\": 5, \"star_color\": \"Blue-White\", \"spectral_class\": \"B\"}, {\"temperature\": 12100, \"luminosity\": 120000.0, \"radius\": 708.9, \"absolute_magnitude\": -7.84, \"star_type\": 5, \"star_color\": \"Blue-White\", \"spectral_class\": \"B\"}, {\"temperature\": 24490, \"luminosity\": 248490.0, \"radius\": 1134.5, \"absolute_magnitude\": -8.24, \"star_type\": 5, \"star_color\": \"Blue-White\", \"spectral_class\": \"B\"}, {\"temperature\": 22350, \"luminosity\": 12450.0, \"radius\": 6.36, \"absolute_magnitude\": -3.67, \"star_type\": 3, \"star_color\": \"Blue-White\", \"spectral_class\": \"B\"}, {\"temperature\": 10012, \"luminosity\": 552.0, \"radius\": 5.856, \"absolute_magnitude\": 0.013, \"star_type\": 3, \"star_color\": \"Blue-White\", \"spectral_class\": \"A\"}, {\"temperature\": 13089, \"luminosity\": 788.0, \"radius\": 5.992, \"absolute_magnitude\": -0.12, \"star_type\": 3, \"star_color\": \"Blue-White\", \"spectral_class\": \"A\"}, {\"temperature\": 22012, \"luminosity\": 6748.0, \"radius\": 6.64, \"absolute_magnitude\": -2.55, \"star_type\": 3, \"star_color\": \"Blue-White\", \"spectral_class\": \"B\"}, {\"temperature\": 9320, \"luminosity\": 29.0, \"radius\": 1.91, \"absolute_magnitude\": 1.236, \"star_type\": 3, \"star_color\": \"Blue-White\", \"spectral_class\": \"A\"}, {\"temperature\": 19400, \"luminosity\": 10920.0, \"radius\": 6.03, \"absolute_magnitude\": -3.08, \"star_type\": 3, \"star_color\": \"Blue-White\", \"spectral_class\": \"B\"}, {\"temperature\": 17140, \"luminosity\": 883.0, \"radius\": 5.653, \"absolute_magnitude\": -2.64, \"star_type\": 3, \"star_color\": \"Blue-White\", \"spectral_class\": \"B\"}, {\"temperature\": 24145, \"luminosity\": 382993.0, \"radius\": 1494.0, \"absolute_magnitude\": -8.84, \"star_type\": 5, \"star_color\": \"Blue-White\", \"spectral_class\": \"B\"}, {\"temperature\": 27739, \"luminosity\": 849420.0, \"radius\": 1252.0, \"absolute_magnitude\": -7.59, \"star_type\": 5, \"star_color\": \"Blue-White\", \"spectral_class\": \"B\"}, {\"temperature\": 21904, \"luminosity\": 748490.0, \"radius\": 1130.0, \"absolute_magnitude\": -7.67, \"star_type\": 5, \"star_color\": \"Blue-White\", \"spectral_class\": \"B\"}]}}, {\"mode\": \"vega-lite\"});\n",
       "</script>"
      ],
      "text/plain": [
       "alt.Chart(...)"
      ]
     },
     "execution_count": 259,
     "metadata": {},
     "output_type": "execute_result"
    }
   ],
   "source": [
    "chart3"
   ]
  },
  {
   "cell_type": "code",
   "execution_count": null,
   "metadata": {
    "cell_id": "b40e01cb1f644310bc5b25a4473b76f4",
    "deepnote_cell_type": "code",
    "deepnote_to_be_reexecuted": false,
    "execution_millis": 19,
    "execution_start": 1702516982270,
    "source_hash": null
   },
   "outputs": [
    {
     "data": {
      "text/html": [
       "\n",
       "<div id=\"altair-viz-f696305aaccd46eca67c4083a9af43a2\"></div>\n",
       "<script type=\"text/javascript\">\n",
       "  var VEGA_DEBUG = (typeof VEGA_DEBUG == \"undefined\") ? {} : VEGA_DEBUG;\n",
       "  (function(spec, embedOpt){\n",
       "    let outputDiv = document.currentScript.previousElementSibling;\n",
       "    if (outputDiv.id !== \"altair-viz-f696305aaccd46eca67c4083a9af43a2\") {\n",
       "      outputDiv = document.getElementById(\"altair-viz-f696305aaccd46eca67c4083a9af43a2\");\n",
       "    }\n",
       "    const paths = {\n",
       "      \"vega\": \"https://cdn.jsdelivr.net/npm//vega@5?noext\",\n",
       "      \"vega-lib\": \"https://cdn.jsdelivr.net/npm//vega-lib?noext\",\n",
       "      \"vega-lite\": \"https://cdn.jsdelivr.net/npm//vega-lite@4.17.0?noext\",\n",
       "      \"vega-embed\": \"https://cdn.jsdelivr.net/npm//vega-embed@6?noext\",\n",
       "    };\n",
       "\n",
       "    function maybeLoadScript(lib, version) {\n",
       "      var key = `${lib.replace(\"-\", \"\")}_version`;\n",
       "      return (VEGA_DEBUG[key] == version) ?\n",
       "        Promise.resolve(paths[lib]) :\n",
       "        new Promise(function(resolve, reject) {\n",
       "          var s = document.createElement('script');\n",
       "          document.getElementsByTagName(\"head\")[0].appendChild(s);\n",
       "          s.async = true;\n",
       "          s.onload = () => {\n",
       "            VEGA_DEBUG[key] = version;\n",
       "            return resolve(paths[lib]);\n",
       "          };\n",
       "          s.onerror = () => reject(`Error loading script: ${paths[lib]}`);\n",
       "          s.src = paths[lib];\n",
       "        });\n",
       "    }\n",
       "\n",
       "    function showError(err) {\n",
       "      outputDiv.innerHTML = `<div class=\"error\" style=\"color:red;\">${err}</div>`;\n",
       "      throw err;\n",
       "    }\n",
       "\n",
       "    function displayChart(vegaEmbed) {\n",
       "      vegaEmbed(outputDiv, spec, embedOpt)\n",
       "        .catch(err => showError(`Javascript Error: ${err.message}<br>This usually means there's a typo in your chart specification. See the javascript console for the full traceback.`));\n",
       "    }\n",
       "\n",
       "    if(typeof define === \"function\" && define.amd) {\n",
       "      requirejs.config({paths});\n",
       "      require([\"vega-embed\"], displayChart, err => showError(`Error loading script: ${err.message}`));\n",
       "    } else {\n",
       "      maybeLoadScript(\"vega\", \"5\")\n",
       "        .then(() => maybeLoadScript(\"vega-lite\", \"4.17.0\"))\n",
       "        .then(() => maybeLoadScript(\"vega-embed\", \"6\"))\n",
       "        .catch(showError)\n",
       "        .then(() => displayChart(vegaEmbed));\n",
       "    }\n",
       "  })({\"config\": {\"view\": {\"continuousWidth\": 400, \"continuousHeight\": 300}}, \"data\": {\"name\": \"data-c49759cf95073ced990ae19c88a6b060\"}, \"mark\": \"bar\", \"encoding\": {\"color\": {\"value\": \"yellow\"}, \"x\": {\"bin\": {\"maxbins\": 30}, \"field\": \"luminosity\", \"type\": \"quantitative\"}, \"y\": {\"aggregate\": \"count\", \"type\": \"quantitative\"}}, \"title\": \"Yellow-White\", \"$schema\": \"https://vega.github.io/schema/vega-lite/v4.17.0.json\", \"datasets\": {\"data-c49759cf95073ced990ae19c88a6b060\": [{\"temperature\": 5800, \"luminosity\": 0.81, \"radius\": 0.9, \"absolute_magnitude\": 5.05, \"star_type\": 3, \"star_color\": \"Yellow-White\", \"spectral_class\": \"F\"}, {\"temperature\": 6757, \"luminosity\": 1.43, \"radius\": 1.12, \"absolute_magnitude\": 2.41, \"star_type\": 3, \"star_color\": \"Yellow-White\", \"spectral_class\": \"F\"}, {\"temperature\": 6380, \"luminosity\": 1.35, \"radius\": 0.98, \"absolute_magnitude\": 2.93, \"star_type\": 3, \"star_color\": \"Yellow-White\", \"spectral_class\": \"F\"}, {\"temperature\": 5936, \"luminosity\": 1.357, \"radius\": 1.106, \"absolute_magnitude\": 4.46, \"star_type\": 3, \"star_color\": \"Yellow-White\", \"spectral_class\": \"F\"}, {\"temperature\": 5587, \"luminosity\": 0.819, \"radius\": 0.99, \"absolute_magnitude\": 5.03, \"star_type\": 3, \"star_color\": \"Yellow-White\", \"spectral_class\": \"F\"}, {\"temperature\": 5300, \"luminosity\": 0.59, \"radius\": 0.91, \"absolute_magnitude\": 5.49, \"star_type\": 3, \"star_color\": \"Yellow-White\", \"spectral_class\": \"F\"}, {\"temperature\": 7720, \"luminosity\": 7.92, \"radius\": 1.34, \"absolute_magnitude\": 2.44, \"star_type\": 3, \"star_color\": \"Yellow-White\", \"spectral_class\": \"F\"}, {\"temperature\": 8250, \"luminosity\": 9.25, \"radius\": 1.93, \"absolute_magnitude\": -0.98, \"star_type\": 3, \"star_color\": \"Yellow-White\", \"spectral_class\": \"F\"}]}}, {\"mode\": \"vega-lite\"});\n",
       "</script>"
      ],
      "text/plain": [
       "alt.Chart(...)"
      ]
     },
     "execution_count": 260,
     "metadata": {},
     "output_type": "execute_result"
    }
   ],
   "source": [
    "chart4"
   ]
  },
  {
   "cell_type": "code",
   "execution_count": null,
   "metadata": {
    "cell_id": "de9a084d053b4472acd7bcc055bc4aff",
    "deepnote_cell_type": "code",
    "deepnote_to_be_reexecuted": false,
    "execution_millis": 10,
    "execution_start": 1702516984469,
    "source_hash": null
   },
   "outputs": [
    {
     "data": {
      "text/html": [
       "\n",
       "<div id=\"altair-viz-b0e6596e6dc940228dd14f507d93462c\"></div>\n",
       "<script type=\"text/javascript\">\n",
       "  var VEGA_DEBUG = (typeof VEGA_DEBUG == \"undefined\") ? {} : VEGA_DEBUG;\n",
       "  (function(spec, embedOpt){\n",
       "    let outputDiv = document.currentScript.previousElementSibling;\n",
       "    if (outputDiv.id !== \"altair-viz-b0e6596e6dc940228dd14f507d93462c\") {\n",
       "      outputDiv = document.getElementById(\"altair-viz-b0e6596e6dc940228dd14f507d93462c\");\n",
       "    }\n",
       "    const paths = {\n",
       "      \"vega\": \"https://cdn.jsdelivr.net/npm//vega@5?noext\",\n",
       "      \"vega-lib\": \"https://cdn.jsdelivr.net/npm//vega-lib?noext\",\n",
       "      \"vega-lite\": \"https://cdn.jsdelivr.net/npm//vega-lite@4.17.0?noext\",\n",
       "      \"vega-embed\": \"https://cdn.jsdelivr.net/npm//vega-embed@6?noext\",\n",
       "    };\n",
       "\n",
       "    function maybeLoadScript(lib, version) {\n",
       "      var key = `${lib.replace(\"-\", \"\")}_version`;\n",
       "      return (VEGA_DEBUG[key] == version) ?\n",
       "        Promise.resolve(paths[lib]) :\n",
       "        new Promise(function(resolve, reject) {\n",
       "          var s = document.createElement('script');\n",
       "          document.getElementsByTagName(\"head\")[0].appendChild(s);\n",
       "          s.async = true;\n",
       "          s.onload = () => {\n",
       "            VEGA_DEBUG[key] = version;\n",
       "            return resolve(paths[lib]);\n",
       "          };\n",
       "          s.onerror = () => reject(`Error loading script: ${paths[lib]}`);\n",
       "          s.src = paths[lib];\n",
       "        });\n",
       "    }\n",
       "\n",
       "    function showError(err) {\n",
       "      outputDiv.innerHTML = `<div class=\"error\" style=\"color:red;\">${err}</div>`;\n",
       "      throw err;\n",
       "    }\n",
       "\n",
       "    function displayChart(vegaEmbed) {\n",
       "      vegaEmbed(outputDiv, spec, embedOpt)\n",
       "        .catch(err => showError(`Javascript Error: ${err.message}<br>This usually means there's a typo in your chart specification. See the javascript console for the full traceback.`));\n",
       "    }\n",
       "\n",
       "    if(typeof define === \"function\" && define.amd) {\n",
       "      requirejs.config({paths});\n",
       "      require([\"vega-embed\"], displayChart, err => showError(`Error loading script: ${err.message}`));\n",
       "    } else {\n",
       "      maybeLoadScript(\"vega\", \"5\")\n",
       "        .then(() => maybeLoadScript(\"vega-lite\", \"4.17.0\"))\n",
       "        .then(() => maybeLoadScript(\"vega-embed\", \"6\"))\n",
       "        .catch(showError)\n",
       "        .then(() => displayChart(vegaEmbed));\n",
       "    }\n",
       "  })({\"config\": {\"view\": {\"continuousWidth\": 400, \"continuousHeight\": 300}, \"axis\": {\"labelAngle\": 45}}, \"data\": {\"name\": \"data-f7af525dda0d7a80b3df97c0ce51fbed\"}, \"mark\": \"boxplot\", \"encoding\": {\"color\": {\"field\": \"star_color\", \"title\": \"Star color\", \"type\": \"nominal\"}, \"x\": {\"field\": \"star_color\", \"title\": \"Star color\", \"type\": \"nominal\"}, \"y\": {\"field\": \"luminosity\", \"title\": \"Luminosity(L/Lo)\", \"type\": \"quantitative\"}}, \"height\": 300, \"title\": \"Stars' luminosity boxplot related to star color type\", \"width\": 400, \"$schema\": \"https://vega.github.io/schema/vega-lite/v4.17.0.json\", \"datasets\": {\"data-f7af525dda0d7a80b3df97c0ce51fbed\": [{\"temperature\": 3068, \"luminosity\": 0.0024, \"radius\": 0.17, \"absolute_magnitude\": 16.12, \"star_type\": 0, \"star_color\": \"Red\", \"spectral_class\": \"M\"}, {\"temperature\": 3042, \"luminosity\": 0.0005, \"radius\": 0.1542, \"absolute_magnitude\": 16.6, \"star_type\": 0, \"star_color\": \"Red\", \"spectral_class\": \"M\"}, {\"temperature\": 2600, \"luminosity\": 0.0003, \"radius\": 0.102, \"absolute_magnitude\": 18.7, \"star_type\": 0, \"star_color\": \"Red\", \"spectral_class\": \"M\"}, {\"temperature\": 2800, \"luminosity\": 0.0002, \"radius\": 0.16, \"absolute_magnitude\": 16.65, \"star_type\": 0, \"star_color\": \"Red\", \"spectral_class\": \"M\"}, {\"temperature\": 1939, \"luminosity\": 0.000138, \"radius\": 0.103, \"absolute_magnitude\": 20.06, \"star_type\": 0, \"star_color\": \"Red\", \"spectral_class\": \"M\"}, {\"temperature\": 2840, \"luminosity\": 0.00065, \"radius\": 0.11, \"absolute_magnitude\": 16.98, \"star_type\": 0, \"star_color\": \"Red\", \"spectral_class\": \"M\"}, {\"temperature\": 2637, \"luminosity\": 0.00073, \"radius\": 0.127, \"absolute_magnitude\": 17.22, \"star_type\": 0, \"star_color\": \"Red\", \"spectral_class\": \"M\"}, {\"temperature\": 2600, \"luminosity\": 0.0004, \"radius\": 0.096, \"absolute_magnitude\": 17.4, \"star_type\": 0, \"star_color\": \"Red\", \"spectral_class\": \"M\"}, {\"temperature\": 2650, \"luminosity\": 0.00069, \"radius\": 0.11, \"absolute_magnitude\": 17.45, \"star_type\": 0, \"star_color\": \"Red\", \"spectral_class\": \"M\"}, {\"temperature\": 2700, \"luminosity\": 0.00018, \"radius\": 0.13, \"absolute_magnitude\": 16.05, \"star_type\": 0, \"star_color\": \"Red\", \"spectral_class\": \"M\"}, {\"temperature\": 3600, \"luminosity\": 0.0029, \"radius\": 0.51, \"absolute_magnitude\": 10.69, \"star_type\": 1, \"star_color\": \"Red\", \"spectral_class\": \"M\"}, {\"temperature\": 3129, \"luminosity\": 0.0122, \"radius\": 0.3761, \"absolute_magnitude\": 11.79, \"star_type\": 1, \"star_color\": \"Red\", \"spectral_class\": \"M\"}, {\"temperature\": 3134, \"luminosity\": 0.0004, \"radius\": 0.196, \"absolute_magnitude\": 13.21, \"star_type\": 1, \"star_color\": \"Red\", \"spectral_class\": \"M\"}, {\"temperature\": 3628, \"luminosity\": 0.0055, \"radius\": 0.393, \"absolute_magnitude\": 10.48, \"star_type\": 1, \"star_color\": \"Red\", \"spectral_class\": \"M\"}, {\"temperature\": 2650, \"luminosity\": 0.0006, \"radius\": 0.14, \"absolute_magnitude\": 11.782, \"star_type\": 1, \"star_color\": \"Red\", \"spectral_class\": \"M\"}, {\"temperature\": 3340, \"luminosity\": 0.0038, \"radius\": 0.24, \"absolute_magnitude\": 13.07, \"star_type\": 1, \"star_color\": \"Red\", \"spectral_class\": \"M\"}, {\"temperature\": 2799, \"luminosity\": 0.0018, \"radius\": 0.16, \"absolute_magnitude\": 14.79, \"star_type\": 1, \"star_color\": \"Red\", \"spectral_class\": \"M\"}, {\"temperature\": 3692, \"luminosity\": 0.00367, \"radius\": 0.47, \"absolute_magnitude\": 10.8, \"star_type\": 1, \"star_color\": \"Red\", \"spectral_class\": \"M\"}, {\"temperature\": 3192, \"luminosity\": 0.00362, \"radius\": 0.1967, \"absolute_magnitude\": 13.53, \"star_type\": 1, \"star_color\": \"Red\", \"spectral_class\": \"M\"}, {\"temperature\": 3441, \"luminosity\": 0.039, \"radius\": 0.351, \"absolute_magnitude\": 11.18, \"star_type\": 1, \"star_color\": \"Red\", \"spectral_class\": \"M\"}, {\"temperature\": 25000, \"luminosity\": 0.056, \"radius\": 0.0084, \"absolute_magnitude\": 10.58, \"star_type\": 2, \"star_color\": \"Blue-White\", \"spectral_class\": \"B\"}, {\"temperature\": 7740, \"luminosity\": 0.00049, \"radius\": 0.01234, \"absolute_magnitude\": 14.02, \"star_type\": 2, \"star_color\": \"White\", \"spectral_class\": \"A\"}, {\"temperature\": 7220, \"luminosity\": 0.00017, \"radius\": 0.011, \"absolute_magnitude\": 14.23, \"star_type\": 2, \"star_color\": \"White\", \"spectral_class\": \"F\"}, {\"temperature\": 8500, \"luminosity\": 0.0005, \"radius\": 0.01, \"absolute_magnitude\": 14.5, \"star_type\": 2, \"star_color\": \"White\", \"spectral_class\": \"A\"}, {\"temperature\": 16500, \"luminosity\": 0.013, \"radius\": 0.014, \"absolute_magnitude\": 11.89, \"star_type\": 2, \"star_color\": \"Blue-White\", \"spectral_class\": \"B\"}, {\"temperature\": 12990, \"luminosity\": 8.5e-05, \"radius\": 0.00984, \"absolute_magnitude\": 12.23, \"star_type\": 2, \"star_color\": \"Yellowish White\", \"spectral_class\": \"F\"}, {\"temperature\": 8570, \"luminosity\": 0.00081, \"radius\": 0.0097, \"absolute_magnitude\": 14.2, \"star_type\": 2, \"star_color\": \"Blue-White\", \"spectral_class\": \"A\"}, {\"temperature\": 7700, \"luminosity\": 0.00011, \"radius\": 0.0128, \"absolute_magnitude\": 14.47, \"star_type\": 2, \"star_color\": \"Yellowish White\", \"spectral_class\": \"F\"}, {\"temperature\": 11790, \"luminosity\": 0.00015, \"radius\": 0.011, \"absolute_magnitude\": 12.59, \"star_type\": 2, \"star_color\": \"Yellowish White\", \"spectral_class\": \"F\"}, {\"temperature\": 7230, \"luminosity\": 8e-05, \"radius\": 0.013, \"absolute_magnitude\": 14.08, \"star_type\": 2, \"star_color\": \"Pale yellow orange\", \"spectral_class\": \"F\"}, {\"temperature\": 39000, \"luminosity\": 204000.0, \"radius\": 10.6, \"absolute_magnitude\": -4.7, \"star_type\": 3, \"star_color\": \"Blue\", \"spectral_class\": \"O\"}, {\"temperature\": 30000, \"luminosity\": 28840.0, \"radius\": 6.3, \"absolute_magnitude\": -4.2, \"star_type\": 3, \"star_color\": \"Blue-White\", \"spectral_class\": \"B\"}, {\"temperature\": 15276, \"luminosity\": 1136.0, \"radius\": 7.2, \"absolute_magnitude\": -1.97, \"star_type\": 3, \"star_color\": \"Blue-White\", \"spectral_class\": \"B\"}, {\"temperature\": 9700, \"luminosity\": 74.0, \"radius\": 2.89, \"absolute_magnitude\": 0.16, \"star_type\": 3, \"star_color\": \"Whitish\", \"spectral_class\": \"B\"}, {\"temperature\": 5800, \"luminosity\": 0.81, \"radius\": 0.9, \"absolute_magnitude\": 5.05, \"star_type\": 3, \"star_color\": \"Yellow-White\", \"spectral_class\": \"F\"}, {\"temperature\": 8052, \"luminosity\": 8.7, \"radius\": 1.8, \"absolute_magnitude\": 2.42, \"star_type\": 3, \"star_color\": \"Whitish\", \"spectral_class\": \"A\"}, {\"temperature\": 6757, \"luminosity\": 1.43, \"radius\": 1.12, \"absolute_magnitude\": 2.41, \"star_type\": 3, \"star_color\": \"Yellow-White\", \"spectral_class\": \"F\"}, {\"temperature\": 6380, \"luminosity\": 1.35, \"radius\": 0.98, \"absolute_magnitude\": 2.93, \"star_type\": 3, \"star_color\": \"Yellow-White\", \"spectral_class\": \"F\"}, {\"temperature\": 5936, \"luminosity\": 1.357, \"radius\": 1.106, \"absolute_magnitude\": 4.46, \"star_type\": 3, \"star_color\": \"Yellow-White\", \"spectral_class\": \"F\"}, {\"temperature\": 5587, \"luminosity\": 0.819, \"radius\": 0.99, \"absolute_magnitude\": 5.03, \"star_type\": 3, \"star_color\": \"Yellow-White\", \"spectral_class\": \"F\"}, {\"temperature\": 3826, \"luminosity\": 200000.0, \"radius\": 19.0, \"absolute_magnitude\": -6.93, \"star_type\": 4, \"star_color\": \"Red\", \"spectral_class\": \"M\"}, {\"temperature\": 3365, \"luminosity\": 340000.0, \"radius\": 23.0, \"absolute_magnitude\": -6.2, \"star_type\": 4, \"star_color\": \"Red\", \"spectral_class\": \"M\"}, {\"temperature\": 3270, \"luminosity\": 150000.0, \"radius\": 88.0, \"absolute_magnitude\": -6.02, \"star_type\": 4, \"star_color\": \"Red\", \"spectral_class\": \"M\"}, {\"temperature\": 3200, \"luminosity\": 195000.0, \"radius\": 17.0, \"absolute_magnitude\": -7.22, \"star_type\": 4, \"star_color\": \"Red\", \"spectral_class\": \"M\"}, {\"temperature\": 3008, \"luminosity\": 280000.0, \"radius\": 25.0, \"absolute_magnitude\": -6.0, \"star_type\": 4, \"star_color\": \"Red\", \"spectral_class\": \"M\"}, {\"temperature\": 3600, \"luminosity\": 320000.0, \"radius\": 29.0, \"absolute_magnitude\": -6.6, \"star_type\": 4, \"star_color\": \"Red\", \"spectral_class\": \"M\"}, {\"temperature\": 3575, \"luminosity\": 123000.0, \"radius\": 45.0, \"absolute_magnitude\": -6.78, \"star_type\": 4, \"star_color\": \"Red\", \"spectral_class\": \"M\"}, {\"temperature\": 3574, \"luminosity\": 200000.0, \"radius\": 89.0, \"absolute_magnitude\": -5.24, \"star_type\": 4, \"star_color\": \"Red\", \"spectral_class\": \"M\"}, {\"temperature\": 3625, \"luminosity\": 184000.0, \"radius\": 84.0, \"absolute_magnitude\": -6.74, \"star_type\": 4, \"star_color\": \"Red\", \"spectral_class\": \"M\"}, {\"temperature\": 33750, \"luminosity\": 220000.0, \"radius\": 26.0, \"absolute_magnitude\": -6.1, \"star_type\": 4, \"star_color\": \"Blue\", \"spectral_class\": \"B\"}, {\"temperature\": 3490, \"luminosity\": 270000.0, \"radius\": 1520.0, \"absolute_magnitude\": -9.4, \"star_type\": 5, \"star_color\": \"Red\", \"spectral_class\": \"M\"}, {\"temperature\": 3750, \"luminosity\": 283000.0, \"radius\": 1260.0, \"absolute_magnitude\": -7.63, \"star_type\": 5, \"star_color\": \"Red\", \"spectral_class\": \"M\"}, {\"temperature\": 3834, \"luminosity\": 272000.0, \"radius\": 1183.0, \"absolute_magnitude\": -9.2, \"star_type\": 5, \"star_color\": \"Red\", \"spectral_class\": \"M\"}, {\"temperature\": 3749, \"luminosity\": 550000.0, \"radius\": 1648.0, \"absolute_magnitude\": -8.05, \"star_type\": 5, \"star_color\": \"Orange\", \"spectral_class\": \"M\"}, {\"temperature\": 3650, \"luminosity\": 310000.0, \"radius\": 1324.0, \"absolute_magnitude\": -7.79, \"star_type\": 5, \"star_color\": \"Red\", \"spectral_class\": \"M\"}, {\"temperature\": 3450, \"luminosity\": 263000.0, \"radius\": 1349.0, \"absolute_magnitude\": -11.75, \"star_type\": 5, \"star_color\": \"Red\", \"spectral_class\": \"M\"}, {\"temperature\": 3660, \"luminosity\": 363000.0, \"radius\": 1673.0, \"absolute_magnitude\": -11.92, \"star_type\": 5, \"star_color\": \"Red\", \"spectral_class\": \"M\"}, {\"temperature\": 3450, \"luminosity\": 174000.0, \"radius\": 1284.0, \"absolute_magnitude\": -11.28, \"star_type\": 5, \"star_color\": \"Red\", \"spectral_class\": \"M\"}, {\"temperature\": 3752, \"luminosity\": 209000.0, \"radius\": 955.0, \"absolute_magnitude\": -11.24, \"star_type\": 5, \"star_color\": \"Red\", \"spectral_class\": \"M\"}, {\"temperature\": 3535, \"luminosity\": 195000.0, \"radius\": 1546.0, \"absolute_magnitude\": -11.36, \"star_type\": 5, \"star_color\": \"Red\", \"spectral_class\": \"M\"}, {\"temperature\": 3341, \"luminosity\": 0.0056, \"radius\": 0.057, \"absolute_magnitude\": 16.23, \"star_type\": 0, \"star_color\": \"Red\", \"spectral_class\": \"M\"}, {\"temperature\": 3432, \"luminosity\": 0.00067, \"radius\": 0.19, \"absolute_magnitude\": 16.94, \"star_type\": 0, \"star_color\": \"Red\", \"spectral_class\": \"M\"}, {\"temperature\": 2983, \"luminosity\": 0.00024, \"radius\": 0.094, \"absolute_magnitude\": 16.09, \"star_type\": 0, \"star_color\": \"Red\", \"spectral_class\": \"M\"}, {\"temperature\": 2835, \"luminosity\": 0.00034, \"radius\": 0.0918, \"absolute_magnitude\": 16.96, \"star_type\": 0, \"star_color\": \"Red\", \"spectral_class\": \"M\"}, {\"temperature\": 2935, \"luminosity\": 0.00014, \"radius\": 0.116, \"absolute_magnitude\": 18.89, \"star_type\": 0, \"star_color\": \"Red\", \"spectral_class\": \"M\"}, {\"temperature\": 3295, \"luminosity\": 0.00098, \"radius\": 0.132, \"absolute_magnitude\": 17.13, \"star_type\": 0, \"star_color\": \"Red\", \"spectral_class\": \"M\"}, {\"temperature\": 2945, \"luminosity\": 0.00032, \"radius\": 0.093, \"absolute_magnitude\": 18.34, \"star_type\": 0, \"star_color\": \"Red\", \"spectral_class\": \"M\"}, {\"temperature\": 2817, \"luminosity\": 0.00098, \"radius\": 0.0911, \"absolute_magnitude\": 16.45, \"star_type\": 0, \"star_color\": \"Red\", \"spectral_class\": \"M\"}, {\"temperature\": 2774, \"luminosity\": 0.00036, \"radius\": 0.118, \"absolute_magnitude\": 17.39, \"star_type\": 0, \"star_color\": \"Red\", \"spectral_class\": \"M\"}, {\"temperature\": 2871, \"luminosity\": 0.00072, \"radius\": 0.12, \"absolute_magnitude\": 19.43, \"star_type\": 0, \"star_color\": \"Red\", \"spectral_class\": \"M\"}, {\"temperature\": 3345, \"luminosity\": 0.021, \"radius\": 0.273, \"absolute_magnitude\": 12.3, \"star_type\": 1, \"star_color\": \"Red\", \"spectral_class\": \"M\"}, {\"temperature\": 3607, \"luminosity\": 0.022, \"radius\": 0.38, \"absolute_magnitude\": 10.12, \"star_type\": 1, \"star_color\": \"Red\", \"spectral_class\": \"M\"}, {\"temperature\": 3304, \"luminosity\": 0.0085, \"radius\": 0.18, \"absolute_magnitude\": 13.2, \"star_type\": 1, \"star_color\": \"Red\", \"spectral_class\": \"M\"}, {\"temperature\": 3150, \"luminosity\": 0.0088, \"radius\": 0.35, \"absolute_magnitude\": 11.94, \"star_type\": 1, \"star_color\": \"Red\", \"spectral_class\": \"M\"}, {\"temperature\": 3550, \"luminosity\": 0.004, \"radius\": 0.291, \"absolute_magnitude\": 10.89, \"star_type\": 1, \"star_color\": \"Red\", \"spectral_class\": \"M\"}, {\"temperature\": 3180, \"luminosity\": 0.001, \"radius\": 0.35, \"absolute_magnitude\": 11.76, \"star_type\": 1, \"star_color\": \"Red\", \"spectral_class\": \"M\"}, {\"temperature\": 2890, \"luminosity\": 0.0034, \"radius\": 0.24, \"absolute_magnitude\": 13.46, \"star_type\": 1, \"star_color\": \"Red\", \"spectral_class\": \"M\"}, {\"temperature\": 3342, \"luminosity\": 0.0015, \"radius\": 0.307, \"absolute_magnitude\": 11.87, \"star_type\": 1, \"star_color\": \"Red\", \"spectral_class\": \"M\"}, {\"temperature\": 2621, \"luminosity\": 0.0006, \"radius\": 0.098, \"absolute_magnitude\": 12.81, \"star_type\": 1, \"star_color\": \"Red\", \"spectral_class\": \"M\"}, {\"temperature\": 3158, \"luminosity\": 0.00135, \"radius\": 0.161, \"absolute_magnitude\": 13.98, \"star_type\": 1, \"star_color\": \"Red\", \"spectral_class\": \"M\"}, {\"temperature\": 7100, \"luminosity\": 0.00029, \"radius\": 0.012, \"absolute_magnitude\": 14.09, \"star_type\": 2, \"star_color\": \"White-Yellow\", \"spectral_class\": \"F\"}, {\"temperature\": 10574, \"luminosity\": 0.00014, \"radius\": 0.0092, \"absolute_magnitude\": 12.02, \"star_type\": 2, \"star_color\": \"White\", \"spectral_class\": \"F\"}, {\"temperature\": 8930, \"luminosity\": 0.00056, \"radius\": 0.0095, \"absolute_magnitude\": 13.78, \"star_type\": 2, \"star_color\": \"White\", \"spectral_class\": \"A\"}, {\"temperature\": 17200, \"luminosity\": 0.00098, \"radius\": 0.015, \"absolute_magnitude\": 12.45, \"star_type\": 2, \"star_color\": \"Blue-White\", \"spectral_class\": \"B\"}, {\"temperature\": 14100, \"luminosity\": 0.00067, \"radius\": 0.0089, \"absolute_magnitude\": 12.17, \"star_type\": 2, \"star_color\": \"Blue-White\", \"spectral_class\": \"B\"}, {\"temperature\": 9675, \"luminosity\": 0.00045, \"radius\": 0.0109, \"absolute_magnitude\": 13.98, \"star_type\": 2, \"star_color\": \"Blue-White\", \"spectral_class\": \"A\"}, {\"temperature\": 12010, \"luminosity\": 0.00078, \"radius\": 0.0092, \"absolute_magnitude\": 12.13, \"star_type\": 2, \"star_color\": \"Blue-White\", \"spectral_class\": \"B\"}, {\"temperature\": 10980, \"luminosity\": 0.00074, \"radius\": 0.0087, \"absolute_magnitude\": 11.19, \"star_type\": 2, \"star_color\": \"Blue-White\", \"spectral_class\": \"B\"}, {\"temperature\": 13720, \"luminosity\": 0.00018, \"radius\": 0.00892, \"absolute_magnitude\": 12.97, \"star_type\": 2, \"star_color\": \"White\", \"spectral_class\": \"F\"}, {\"temperature\": 19860, \"luminosity\": 0.0011, \"radius\": 0.0131, \"absolute_magnitude\": 11.34, \"star_type\": 2, \"star_color\": \"Blue \", \"spectral_class\": \"B\"}, {\"temperature\": 5300, \"luminosity\": 0.59, \"radius\": 0.91, \"absolute_magnitude\": 5.49, \"star_type\": 3, \"star_color\": \"Yellow-White\", \"spectral_class\": \"F\"}, {\"temperature\": 4526, \"luminosity\": 0.153, \"radius\": 0.865, \"absolute_magnitude\": 6.506, \"star_type\": 3, \"star_color\": \"Yellowish\", \"spectral_class\": \"K\"}, {\"temperature\": 4077, \"luminosity\": 0.085, \"radius\": 0.795, \"absolute_magnitude\": 6.228, \"star_type\": 3, \"star_color\": \"Yellowish\", \"spectral_class\": \"K\"}, {\"temperature\": 4980, \"luminosity\": 0.357, \"radius\": 1.13, \"absolute_magnitude\": 4.78, \"star_type\": 3, \"star_color\": \"Yellowish\", \"spectral_class\": \"K\"}, {\"temperature\": 9030, \"luminosity\": 45.0, \"radius\": 2.63, \"absolute_magnitude\": 1.45, \"star_type\": 3, \"star_color\": \"Blue-White\", \"spectral_class\": \"A\"}, {\"temperature\": 11250, \"luminosity\": 672.0, \"radius\": 6.98, \"absolute_magnitude\": -2.3, \"star_type\": 3, \"star_color\": \"Blue-White\", \"spectral_class\": \"A\"}, {\"temperature\": 5112, \"luminosity\": 0.63, \"radius\": 0.876, \"absolute_magnitude\": 4.68, \"star_type\": 3, \"star_color\": \"Orange-Red\", \"spectral_class\": \"K\"}, {\"temperature\": 7720, \"luminosity\": 7.92, \"radius\": 1.34, \"absolute_magnitude\": 2.44, \"star_type\": 3, \"star_color\": \"Yellow-White\", \"spectral_class\": \"F\"}, {\"temperature\": 12098, \"luminosity\": 689.0, \"radius\": 7.01, \"absolute_magnitude\": 0.02, \"star_type\": 3, \"star_color\": \"Blue-White\", \"spectral_class\": \"A\"}, {\"temperature\": 36108, \"luminosity\": 198000.0, \"radius\": 10.2, \"absolute_magnitude\": -4.4, \"star_type\": 3, \"star_color\": \"Blue\", \"spectral_class\": \"O\"}, {\"temperature\": 33300, \"luminosity\": 240000.0, \"radius\": 12.0, \"absolute_magnitude\": -6.5, \"star_type\": 4, \"star_color\": \"Blue\", \"spectral_class\": \"B\"}, {\"temperature\": 40000, \"luminosity\": 813000.0, \"radius\": 14.0, \"absolute_magnitude\": -6.23, \"star_type\": 4, \"star_color\": \"Blue\", \"spectral_class\": \"O\"}, {\"temperature\": 23000, \"luminosity\": 127000.0, \"radius\": 36.0, \"absolute_magnitude\": -5.76, \"star_type\": 4, \"star_color\": \"Blue\", \"spectral_class\": \"O\"}, {\"temperature\": 17120, \"luminosity\": 235000.0, \"radius\": 83.0, \"absolute_magnitude\": -6.89, \"star_type\": 4, \"star_color\": \"Blue\", \"spectral_class\": \"O\"}, {\"temperature\": 11096, \"luminosity\": 112000.0, \"radius\": 12.0, \"absolute_magnitude\": -5.91, \"star_type\": 4, \"star_color\": \"Blue\", \"spectral_class\": \"O\"}, {\"temperature\": 14245, \"luminosity\": 231000.0, \"radius\": 42.0, \"absolute_magnitude\": -6.12, \"star_type\": 4, \"star_color\": \"Blue\", \"spectral_class\": \"O\"}, {\"temperature\": 24630, \"luminosity\": 363000.0, \"radius\": 63.0, \"absolute_magnitude\": -5.83, \"star_type\": 4, \"star_color\": \"Blue\", \"spectral_class\": \"O\"}, {\"temperature\": 12893, \"luminosity\": 184000.0, \"radius\": 36.0, \"absolute_magnitude\": -6.34, \"star_type\": 4, \"star_color\": \"Blue\", \"spectral_class\": \"O\"}, {\"temperature\": 24345, \"luminosity\": 142000.0, \"radius\": 57.0, \"absolute_magnitude\": -6.24, \"star_type\": 4, \"star_color\": \"Blue\", \"spectral_class\": \"O\"}, {\"temperature\": 33421, \"luminosity\": 352000.0, \"radius\": 67.0, \"absolute_magnitude\": -5.79, \"star_type\": 4, \"star_color\": \"Blue\", \"spectral_class\": \"O\"}, {\"temperature\": 3459, \"luminosity\": 100000.0, \"radius\": 1289.0, \"absolute_magnitude\": -10.7, \"star_type\": 5, \"star_color\": \"Red\", \"spectral_class\": \"M\"}, {\"temperature\": 3605, \"luminosity\": 126000.0, \"radius\": 1124.0, \"absolute_magnitude\": -10.81, \"star_type\": 5, \"star_color\": \"Red\", \"spectral_class\": \"M\"}, {\"temperature\": 3615, \"luminosity\": 200000.0, \"radius\": 1635.0, \"absolute_magnitude\": -11.33, \"star_type\": 5, \"star_color\": \"Red\", \"spectral_class\": \"M\"}, {\"temperature\": 3399, \"luminosity\": 117000.0, \"radius\": 1486.0, \"absolute_magnitude\": -10.92, \"star_type\": 5, \"star_color\": \"Red\", \"spectral_class\": \"M\"}, {\"temperature\": 3610, \"luminosity\": 132000.0, \"radius\": 1522.0, \"absolute_magnitude\": -10.86, \"star_type\": 5, \"star_color\": \"Red\", \"spectral_class\": \"M\"}, {\"temperature\": 3553, \"luminosity\": 145000.0, \"radius\": 1324.0, \"absolute_magnitude\": -11.03, \"star_type\": 5, \"star_color\": \"Red\", \"spectral_class\": \"M\"}, {\"temperature\": 4015, \"luminosity\": 282000.0, \"radius\": 1534.0, \"absolute_magnitude\": -11.39, \"star_type\": 5, \"star_color\": \"Red\", \"spectral_class\": \"K\"}, {\"temperature\": 3625, \"luminosity\": 74000.0, \"radius\": 876.0, \"absolute_magnitude\": -10.25, \"star_type\": 5, \"star_color\": \"Red\", \"spectral_class\": \"M\"}, {\"temperature\": 6850, \"luminosity\": 229000.0, \"radius\": 1467.0, \"absolute_magnitude\": -10.07, \"star_type\": 5, \"star_color\": \"Red\", \"spectral_class\": \"G\"}, {\"temperature\": 3780, \"luminosity\": 200000.0, \"radius\": 1324.0, \"absolute_magnitude\": -10.7, \"star_type\": 5, \"star_color\": \"Red\", \"spectral_class\": \"M\"}, {\"temperature\": 3323, \"luminosity\": 0.00043, \"radius\": 0.0912, \"absolute_magnitude\": 17.16, \"star_type\": 0, \"star_color\": \"Red\", \"spectral_class\": \"M\"}, {\"temperature\": 3531, \"luminosity\": 0.00093, \"radius\": 0.0976, \"absolute_magnitude\": 19.94, \"star_type\": 0, \"star_color\": \"Red\", \"spectral_class\": \"M\"}, {\"temperature\": 3218, \"luminosity\": 0.00054, \"radius\": 0.11, \"absolute_magnitude\": 20.02, \"star_type\": 0, \"star_color\": \"Red\", \"spectral_class\": \"M\"}, {\"temperature\": 3146, \"luminosity\": 0.00015, \"radius\": 0.0932, \"absolute_magnitude\": 16.92, \"star_type\": 0, \"star_color\": \"Red\", \"spectral_class\": \"M\"}, {\"temperature\": 3511, \"luminosity\": 0.00064, \"radius\": 0.109, \"absolute_magnitude\": 17.12, \"star_type\": 0, \"star_color\": \"Red\", \"spectral_class\": \"M\"}, {\"temperature\": 3225, \"luminosity\": 0.00076, \"radius\": 0.121, \"absolute_magnitude\": 19.63, \"star_type\": 0, \"star_color\": \"Red\", \"spectral_class\": \"M\"}, {\"temperature\": 2935, \"luminosity\": 0.00087, \"radius\": 0.0932, \"absolute_magnitude\": 16.88, \"star_type\": 0, \"star_color\": \"Red\", \"spectral_class\": \"M\"}, {\"temperature\": 2861, \"luminosity\": 0.00019, \"radius\": 0.0899, \"absolute_magnitude\": 16.71, \"star_type\": 0, \"star_color\": \"Red\", \"spectral_class\": \"M\"}, {\"temperature\": 2856, \"luminosity\": 0.000896, \"radius\": 0.0782, \"absolute_magnitude\": 19.56, \"star_type\": 0, \"star_color\": \"Red\", \"spectral_class\": \"M\"}, {\"temperature\": 2731, \"luminosity\": 0.000437, \"radius\": 0.0856, \"absolute_magnitude\": 18.09, \"star_type\": 0, \"star_color\": \"Red\", \"spectral_class\": \"M\"}, {\"temperature\": 3095, \"luminosity\": 0.00019, \"radius\": 0.492, \"absolute_magnitude\": 10.87, \"star_type\": 1, \"star_color\": \"Red\", \"spectral_class\": \"M\"}, {\"temperature\": 3607, \"luminosity\": 0.00023, \"radius\": 0.38, \"absolute_magnitude\": 10.34, \"star_type\": 1, \"star_color\": \"Red\", \"spectral_class\": \"M\"}, {\"temperature\": 3100, \"luminosity\": 0.008, \"radius\": 0.31, \"absolute_magnitude\": 11.17, \"star_type\": 1, \"star_color\": \"Red\", \"spectral_class\": \"M\"}, {\"temperature\": 2989, \"luminosity\": 0.0087, \"radius\": 0.34, \"absolute_magnitude\": 13.12, \"star_type\": 1, \"star_color\": \"Red\", \"spectral_class\": \"M\"}, {\"temperature\": 3542, \"luminosity\": 0.0009, \"radius\": 0.62, \"absolute_magnitude\": 14.23, \"star_type\": 1, \"star_color\": \"Red\", \"spectral_class\": \"M\"}, {\"temperature\": 3243, \"luminosity\": 0.0023, \"radius\": 0.73, \"absolute_magnitude\": 14.75, \"star_type\": 1, \"star_color\": \"Red\", \"spectral_class\": \"M\"}, {\"temperature\": 3091, \"luminosity\": 0.0081, \"radius\": 0.24, \"absolute_magnitude\": 11.43, \"star_type\": 1, \"star_color\": \"Red\", \"spectral_class\": \"M\"}, {\"temperature\": 3598, \"luminosity\": 0.0011, \"radius\": 0.56, \"absolute_magnitude\": 14.26, \"star_type\": 1, \"star_color\": \"Red\", \"spectral_class\": \"M\"}, {\"temperature\": 3324, \"luminosity\": 0.0034, \"radius\": 0.34, \"absolute_magnitude\": 12.23, \"star_type\": 1, \"star_color\": \"Red\", \"spectral_class\": \"M\"}, {\"temperature\": 3541, \"luminosity\": 0.0013, \"radius\": 0.256, \"absolute_magnitude\": 14.33, \"star_type\": 1, \"star_color\": \"Red\", \"spectral_class\": \"M\"}, {\"temperature\": 13420, \"luminosity\": 0.00059, \"radius\": 0.00981, \"absolute_magnitude\": 13.67, \"star_type\": 2, \"star_color\": \"Blue-White\", \"spectral_class\": \"B\"}, {\"temperature\": 21020, \"luminosity\": 0.0015, \"radius\": 0.0112, \"absolute_magnitude\": 11.52, \"star_type\": 2, \"star_color\": \"Blue\", \"spectral_class\": \"B\"}, {\"temperature\": 18290, \"luminosity\": 0.0013, \"radius\": 0.00934, \"absolute_magnitude\": 12.78, \"star_type\": 2, \"star_color\": \"Blue\", \"spectral_class\": \"B\"}, {\"temperature\": 14520, \"luminosity\": 0.00082, \"radius\": 0.00972, \"absolute_magnitude\": 11.92, \"star_type\": 2, \"star_color\": \"Blue-White\", \"spectral_class\": \"B\"}, {\"temperature\": 11900, \"luminosity\": 0.00067, \"radius\": 0.00898, \"absolute_magnitude\": 11.38, \"star_type\": 2, \"star_color\": \"Blue-White\", \"spectral_class\": \"B\"}, {\"temperature\": 8924, \"luminosity\": 0.00028, \"radius\": 0.00879, \"absolute_magnitude\": 14.87, \"star_type\": 2, \"star_color\": \"Blue-White\", \"spectral_class\": \"A\"}, {\"temperature\": 12912, \"luminosity\": 0.00071, \"radius\": 0.00945, \"absolute_magnitude\": 12.83, \"star_type\": 2, \"star_color\": \"Blue-White\", \"spectral_class\": \"B\"}, {\"temperature\": 14732, \"luminosity\": 0.00011, \"radius\": 0.00892, \"absolute_magnitude\": 12.89, \"star_type\": 2, \"star_color\": \"White\", \"spectral_class\": \"F\"}, {\"temperature\": 7723, \"luminosity\": 0.00014, \"radius\": 0.00878, \"absolute_magnitude\": 14.81, \"star_type\": 2, \"star_color\": \"White\", \"spectral_class\": \"A\"}, {\"temperature\": 12984, \"luminosity\": 0.00088, \"radius\": 0.00996, \"absolute_magnitude\": 11.23, \"star_type\": 2, \"star_color\": \"Blue-White\", \"spectral_class\": \"B\"}, {\"temperature\": 29560, \"luminosity\": 188000.0, \"radius\": 6.02, \"absolute_magnitude\": -4.01, \"star_type\": 3, \"star_color\": \"Blue-White\", \"spectral_class\": \"B\"}, {\"temperature\": 8945, \"luminosity\": 38.0, \"radius\": 2.487, \"absolute_magnitude\": 0.12, \"star_type\": 3, \"star_color\": \"Blue-White\", \"spectral_class\": \"A\"}, {\"temperature\": 14060, \"luminosity\": 1092.0, \"radius\": 5.745, \"absolute_magnitude\": -2.04, \"star_type\": 3, \"star_color\": \"Blue-White\", \"spectral_class\": \"A\"}, {\"temperature\": 16390, \"luminosity\": 1278.0, \"radius\": 5.68, \"absolute_magnitude\": -3.32, \"star_type\": 3, \"star_color\": \"Blue-White\", \"spectral_class\": \"B\"}, {\"temperature\": 25070, \"luminosity\": 14500.0, \"radius\": 5.92, \"absolute_magnitude\": -3.98, \"star_type\": 3, \"star_color\": \"Blue-White\", \"spectral_class\": \"B\"}, {\"temperature\": 28700, \"luminosity\": 16790.0, \"radius\": 6.4, \"absolute_magnitude\": -4.09, \"star_type\": 3, \"star_color\": \"Blue-White\", \"spectral_class\": \"B\"}, {\"temperature\": 26140, \"luminosity\": 14520.0, \"radius\": 5.49, \"absolute_magnitude\": -3.8, \"star_type\": 3, \"star_color\": \"Blue-White\", \"spectral_class\": \"B\"}, {\"temperature\": 20120, \"luminosity\": 4720.0, \"radius\": 6.78, \"absolute_magnitude\": -3.4, \"star_type\": 3, \"star_color\": \"Blue-White\", \"spectral_class\": \"B\"}, {\"temperature\": 13023, \"luminosity\": 998.0, \"radius\": 6.21, \"absolute_magnitude\": -1.38, \"star_type\": 3, \"star_color\": \"Blue-White\", \"spectral_class\": \"A\"}, {\"temperature\": 37800, \"luminosity\": 202900.0, \"radius\": 6.86, \"absolute_magnitude\": -4.56, \"star_type\": 3, \"star_color\": \"Blue\", \"spectral_class\": \"O\"}, {\"temperature\": 25390, \"luminosity\": 223000.0, \"radius\": 57.0, \"absolute_magnitude\": -5.92, \"star_type\": 4, \"star_color\": \"Blue\", \"spectral_class\": \"O\"}, {\"temperature\": 11567, \"luminosity\": 251000.0, \"radius\": 36.0, \"absolute_magnitude\": -6.245, \"star_type\": 4, \"star_color\": \"Blue\", \"spectral_class\": \"O\"}, {\"temperature\": 12675, \"luminosity\": 452000.0, \"radius\": 83.0, \"absolute_magnitude\": -5.62, \"star_type\": 4, \"star_color\": \"Blue\", \"spectral_class\": \"O\"}, {\"temperature\": 5752, \"luminosity\": 245000.0, \"radius\": 97.0, \"absolute_magnitude\": -6.63, \"star_type\": 4, \"star_color\": \"Blue\", \"spectral_class\": \"O\"}, {\"temperature\": 8927, \"luminosity\": 239000.0, \"radius\": 35.0, \"absolute_magnitude\": -7.34, \"star_type\": 4, \"star_color\": \"Blue\", \"spectral_class\": \"O\"}, {\"temperature\": 7282, \"luminosity\": 131000.0, \"radius\": 24.0, \"absolute_magnitude\": -7.22, \"star_type\": 4, \"star_color\": \"Blue\", \"spectral_class\": \"O\"}, {\"temperature\": 19923, \"luminosity\": 152000.0, \"radius\": 73.0, \"absolute_magnitude\": -5.69, \"star_type\": 4, \"star_color\": \"Blue\", \"spectral_class\": \"O\"}, {\"temperature\": 26373, \"luminosity\": 198000.0, \"radius\": 39.0, \"absolute_magnitude\": -5.83, \"star_type\": 4, \"star_color\": \"Blue\", \"spectral_class\": \"O\"}, {\"temperature\": 17383, \"luminosity\": 342900.0, \"radius\": 30.0, \"absolute_magnitude\": -6.09, \"star_type\": 4, \"star_color\": \"Blue\", \"spectral_class\": \"O\"}, {\"temperature\": 9373, \"luminosity\": 424520.0, \"radius\": 24.0, \"absolute_magnitude\": -5.99, \"star_type\": 4, \"star_color\": \"Blue\", \"spectral_class\": \"O\"}, {\"temperature\": 3570, \"luminosity\": 320000.0, \"radius\": 1480.0, \"absolute_magnitude\": -7.58, \"star_type\": 5, \"star_color\": \"Red\", \"spectral_class\": \"M\"}, {\"temperature\": 3500, \"luminosity\": 138000.0, \"radius\": 1420.0, \"absolute_magnitude\": -8.18, \"star_type\": 5, \"star_color\": \"Red\", \"spectral_class\": \"M\"}, {\"temperature\": 4287, \"luminosity\": 630000.0, \"radius\": 1315.0, \"absolute_magnitude\": -9.2, \"star_type\": 5, \"star_color\": \"Orange\", \"spectral_class\": \"K\"}, {\"temperature\": 26000, \"luminosity\": 316000.0, \"radius\": 1679.0, \"absolute_magnitude\": -9.1, \"star_type\": 5, \"star_color\": \"Blue\", \"spectral_class\": \"B\"}, {\"temperature\": 3600, \"luminosity\": 240000.0, \"radius\": 1190.0, \"absolute_magnitude\": -7.89, \"star_type\": 5, \"star_color\": \"Red\", \"spectral_class\": \"M\"}, {\"temperature\": 3614, \"luminosity\": 145000.0, \"radius\": 1553.0, \"absolute_magnitude\": -7.71, \"star_type\": 5, \"star_color\": \"Red\", \"spectral_class\": \"M\"}, {\"temperature\": 18000, \"luminosity\": 200000.0, \"radius\": 1045.0, \"absolute_magnitude\": -8.3, \"star_type\": 5, \"star_color\": \"Blue\", \"spectral_class\": \"O\"}, {\"temperature\": 11000, \"luminosity\": 170000.0, \"radius\": 1779.0, \"absolute_magnitude\": -9.9, \"star_type\": 5, \"star_color\": \"Blue-White\", \"spectral_class\": \"B\"}, {\"temperature\": 12100, \"luminosity\": 120000.0, \"radius\": 708.9, \"absolute_magnitude\": -7.84, \"star_type\": 5, \"star_color\": \"Blue-White\", \"spectral_class\": \"B\"}, {\"temperature\": 24490, \"luminosity\": 248490.0, \"radius\": 1134.5, \"absolute_magnitude\": -8.24, \"star_type\": 5, \"star_color\": \"Blue-White\", \"spectral_class\": \"B\"}, {\"temperature\": 2831, \"luminosity\": 0.000231, \"radius\": 0.0915, \"absolute_magnitude\": 16.21, \"star_type\": 0, \"star_color\": \"Red\", \"spectral_class\": \"M\"}, {\"temperature\": 2914, \"luminosity\": 0.000631, \"radius\": 0.116, \"absolute_magnitude\": 18.39, \"star_type\": 0, \"star_color\": \"Red\", \"spectral_class\": \"M\"}, {\"temperature\": 3419, \"luminosity\": 0.000245, \"radius\": 0.126, \"absolute_magnitude\": 17.56, \"star_type\": 0, \"star_color\": \"Red\", \"spectral_class\": \"M\"}, {\"temperature\": 3218, \"luminosity\": 0.000452, \"radius\": 0.0987, \"absolute_magnitude\": 17.34, \"star_type\": 0, \"star_color\": \"Red\", \"spectral_class\": \"M\"}, {\"temperature\": 3453, \"luminosity\": 0.000621, \"radius\": 0.0773, \"absolute_magnitude\": 17.08, \"star_type\": 0, \"star_color\": \"Red\", \"spectral_class\": \"M\"}, {\"temperature\": 2889, \"luminosity\": 0.000352, \"radius\": 0.0973, \"absolute_magnitude\": 16.93, \"star_type\": 0, \"star_color\": \"Red\", \"spectral_class\": \"M\"}, {\"temperature\": 2968, \"luminosity\": 0.000461, \"radius\": 0.119, \"absolute_magnitude\": 17.45, \"star_type\": 0, \"star_color\": \"Red\", \"spectral_class\": \"M\"}, {\"temperature\": 3484, \"luminosity\": 0.000551, \"radius\": 0.0998, \"absolute_magnitude\": 16.67, \"star_type\": 0, \"star_color\": \"Red\", \"spectral_class\": \"M\"}, {\"temperature\": 2778, \"luminosity\": 0.000849, \"radius\": 0.112, \"absolute_magnitude\": 19.45, \"star_type\": 0, \"star_color\": \"Red\", \"spectral_class\": \"M\"}, {\"temperature\": 3523, \"luminosity\": 0.000957, \"radius\": 0.129, \"absolute_magnitude\": 16.35, \"star_type\": 0, \"star_color\": \"Red\", \"spectral_class\": \"M\"}, {\"temperature\": 3462, \"luminosity\": 0.0053, \"radius\": 0.148, \"absolute_magnitude\": 11.47, \"star_type\": 1, \"star_color\": \"Red\", \"spectral_class\": \"M\"}, {\"temperature\": 3257, \"luminosity\": 0.0024, \"radius\": 0.46, \"absolute_magnitude\": 10.73, \"star_type\": 1, \"star_color\": \"Red\", \"spectral_class\": \"M\"}, {\"temperature\": 2994, \"luminosity\": 0.0072, \"radius\": 0.28, \"absolute_magnitude\": 13.45, \"star_type\": 1, \"star_color\": \"Red\", \"spectral_class\": \"M\"}, {\"temperature\": 3212, \"luminosity\": 0.0016, \"radius\": 0.378, \"absolute_magnitude\": 12.854, \"star_type\": 1, \"star_color\": \"Red\", \"spectral_class\": \"M\"}, {\"temperature\": 3523, \"luminosity\": 0.0054, \"radius\": 0.319, \"absolute_magnitude\": 12.43, \"star_type\": 1, \"star_color\": \"Red\", \"spectral_class\": \"M\"}, {\"temperature\": 3598, \"luminosity\": 0.0027, \"radius\": 0.67, \"absolute_magnitude\": 13.667, \"star_type\": 1, \"star_color\": \"Red\", \"spectral_class\": \"M\"}, {\"temperature\": 3142, \"luminosity\": 0.00132, \"radius\": 0.258, \"absolute_magnitude\": 14.12, \"star_type\": 1, \"star_color\": \"Red\", \"spectral_class\": \"M\"}, {\"temperature\": 3496, \"luminosity\": 0.00125, \"radius\": 0.336, \"absolute_magnitude\": 14.94, \"star_type\": 1, \"star_color\": \"Red\", \"spectral_class\": \"M\"}, {\"temperature\": 3324, \"luminosity\": 0.0065, \"radius\": 0.471, \"absolute_magnitude\": 12.78, \"star_type\": 1, \"star_color\": \"Red\", \"spectral_class\": \"M\"}, {\"temperature\": 3463, \"luminosity\": 0.0027, \"radius\": 0.675, \"absolute_magnitude\": 14.776, \"star_type\": 1, \"star_color\": \"Red\", \"spectral_class\": \"M\"}, {\"temperature\": 16790, \"luminosity\": 0.0014, \"radius\": 0.0121, \"absolute_magnitude\": 12.87, \"star_type\": 2, \"star_color\": \"Blue\", \"spectral_class\": \"B\"}, {\"temperature\": 15680, \"luminosity\": 0.00122, \"radius\": 0.0114, \"absolute_magnitude\": 11.92, \"star_type\": 2, \"star_color\": \"Blue\", \"spectral_class\": \"B\"}, {\"temperature\": 14982, \"luminosity\": 0.00118, \"radius\": 0.0113, \"absolute_magnitude\": 12.23, \"star_type\": 2, \"star_color\": \"Blue\", \"spectral_class\": \"B\"}, {\"temperature\": 13340, \"luminosity\": 0.00109, \"radius\": 0.0116, \"absolute_magnitude\": 12.9, \"star_type\": 2, \"star_color\": \"Blue\", \"spectral_class\": \"B\"}, {\"temperature\": 18340, \"luminosity\": 0.00134, \"radius\": 0.0124, \"absolute_magnitude\": 11.22, \"star_type\": 2, \"star_color\": \"Blue\", \"spectral_class\": \"B\"}, {\"temperature\": 19920, \"luminosity\": 0.00156, \"radius\": 0.0142, \"absolute_magnitude\": 11.34, \"star_type\": 2, \"star_color\": \"Blue\", \"spectral_class\": \"B\"}, {\"temperature\": 24020, \"luminosity\": 0.00159, \"radius\": 0.0127, \"absolute_magnitude\": 10.55, \"star_type\": 2, \"star_color\": \"Blue\", \"spectral_class\": \"B\"}, {\"temperature\": 23092, \"luminosity\": 0.00132, \"radius\": 0.0104, \"absolute_magnitude\": 10.18, \"star_type\": 2, \"star_color\": \"Blue\", \"spectral_class\": \"B\"}, {\"temperature\": 17920, \"luminosity\": 0.00111, \"radius\": 0.0106, \"absolute_magnitude\": 11.66, \"star_type\": 2, \"star_color\": \"Blue\", \"spectral_class\": \"B\"}, {\"temperature\": 19360, \"luminosity\": 0.00125, \"radius\": 0.00998, \"absolute_magnitude\": 11.62, \"star_type\": 2, \"star_color\": \"Blue\", \"spectral_class\": \"B\"}, {\"temperature\": 22350, \"luminosity\": 12450.0, \"radius\": 6.36, \"absolute_magnitude\": -3.67, \"star_type\": 3, \"star_color\": \"Blue-White\", \"spectral_class\": \"B\"}, {\"temperature\": 10012, \"luminosity\": 552.0, \"radius\": 5.856, \"absolute_magnitude\": 0.013, \"star_type\": 3, \"star_color\": \"Blue-White\", \"spectral_class\": \"A\"}, {\"temperature\": 13089, \"luminosity\": 788.0, \"radius\": 5.992, \"absolute_magnitude\": -0.12, \"star_type\": 3, \"star_color\": \"Blue-White\", \"spectral_class\": \"A\"}, {\"temperature\": 22012, \"luminosity\": 6748.0, \"radius\": 6.64, \"absolute_magnitude\": -2.55, \"star_type\": 3, \"star_color\": \"Blue-White\", \"spectral_class\": \"B\"}, {\"temperature\": 34190, \"luminosity\": 198200.0, \"radius\": 6.39, \"absolute_magnitude\": -4.57, \"star_type\": 3, \"star_color\": \"Blue\", \"spectral_class\": \"O\"}, {\"temperature\": 32460, \"luminosity\": 173800.0, \"radius\": 6.237, \"absolute_magnitude\": -4.36, \"star_type\": 3, \"star_color\": \"Blue\", \"spectral_class\": \"O\"}, {\"temperature\": 9320, \"luminosity\": 29.0, \"radius\": 1.91, \"absolute_magnitude\": 1.236, \"star_type\": 3, \"star_color\": \"Blue-White\", \"spectral_class\": \"A\"}, {\"temperature\": 19400, \"luminosity\": 10920.0, \"radius\": 6.03, \"absolute_magnitude\": -3.08, \"star_type\": 3, \"star_color\": \"Blue-White\", \"spectral_class\": \"B\"}, {\"temperature\": 17140, \"luminosity\": 883.0, \"radius\": 5.653, \"absolute_magnitude\": -2.64, \"star_type\": 3, \"star_color\": \"Blue-White\", \"spectral_class\": \"B\"}, {\"temperature\": 8250, \"luminosity\": 9.25, \"radius\": 1.93, \"absolute_magnitude\": -0.98, \"star_type\": 3, \"star_color\": \"Yellow-White\", \"spectral_class\": \"F\"}, {\"temperature\": 23678, \"luminosity\": 244290.0, \"radius\": 35.0, \"absolute_magnitude\": -6.27, \"star_type\": 4, \"star_color\": \"Blue\", \"spectral_class\": \"O\"}, {\"temperature\": 12749, \"luminosity\": 332520.0, \"radius\": 76.0, \"absolute_magnitude\": -7.02, \"star_type\": 4, \"star_color\": \"Blue\", \"spectral_class\": \"O\"}, {\"temperature\": 9383, \"luminosity\": 342940.0, \"radius\": 98.0, \"absolute_magnitude\": -6.98, \"star_type\": 4, \"star_color\": \"Blue\", \"spectral_class\": \"O\"}, {\"temperature\": 23440, \"luminosity\": 537430.0, \"radius\": 81.0, \"absolute_magnitude\": -5.975, \"star_type\": 4, \"star_color\": \"Blue\", \"spectral_class\": \"O\"}, {\"temperature\": 16787, \"luminosity\": 246730.0, \"radius\": 62.0, \"absolute_magnitude\": -6.35, \"star_type\": 4, \"star_color\": \"Blue\", \"spectral_class\": \"O\"}, {\"temperature\": 18734, \"luminosity\": 224780.0, \"radius\": 46.0, \"absolute_magnitude\": -7.45, \"star_type\": 4, \"star_color\": \"Blue\", \"spectral_class\": \"O\"}, {\"temperature\": 9892, \"luminosity\": 593900.0, \"radius\": 80.0, \"absolute_magnitude\": -7.262, \"star_type\": 4, \"star_color\": \"Blue\", \"spectral_class\": \"O\"}, {\"temperature\": 10930, \"luminosity\": 783930.0, \"radius\": 25.0, \"absolute_magnitude\": -6.224, \"star_type\": 4, \"star_color\": \"Blue\", \"spectral_class\": \"O\"}, {\"temperature\": 23095, \"luminosity\": 347820.0, \"radius\": 86.0, \"absolute_magnitude\": -5.905, \"star_type\": 4, \"star_color\": \"Blue\", \"spectral_class\": \"O\"}, {\"temperature\": 21738, \"luminosity\": 748890.0, \"radius\": 92.0, \"absolute_magnitude\": -7.346, \"star_type\": 4, \"star_color\": \"Blue\", \"spectral_class\": \"O\"}, {\"temperature\": 24145, \"luminosity\": 382993.0, \"radius\": 1494.0, \"absolute_magnitude\": -8.84, \"star_type\": 5, \"star_color\": \"Blue-White\", \"spectral_class\": \"B\"}, {\"temperature\": 38234, \"luminosity\": 272830.0, \"radius\": 1356.0, \"absolute_magnitude\": -9.29, \"star_type\": 5, \"star_color\": \"Blue\", \"spectral_class\": \"O\"}, {\"temperature\": 32489, \"luminosity\": 648430.0, \"radius\": 1948.5, \"absolute_magnitude\": -10.84, \"star_type\": 5, \"star_color\": \"Blue\", \"spectral_class\": \"O\"}, {\"temperature\": 27739, \"luminosity\": 849420.0, \"radius\": 1252.0, \"absolute_magnitude\": -7.59, \"star_type\": 5, \"star_color\": \"Blue-White\", \"spectral_class\": \"B\"}, {\"temperature\": 21904, \"luminosity\": 748490.0, \"radius\": 1130.0, \"absolute_magnitude\": -7.67, \"star_type\": 5, \"star_color\": \"Blue-White\", \"spectral_class\": \"B\"}, {\"temperature\": 38940, \"luminosity\": 374830.0, \"radius\": 1356.0, \"absolute_magnitude\": -9.93, \"star_type\": 5, \"star_color\": \"Blue\", \"spectral_class\": \"O\"}, {\"temperature\": 30839, \"luminosity\": 834042.0, \"radius\": 1194.0, \"absolute_magnitude\": -10.63, \"star_type\": 5, \"star_color\": \"Blue\", \"spectral_class\": \"O\"}, {\"temperature\": 8829, \"luminosity\": 537493.0, \"radius\": 1423.0, \"absolute_magnitude\": -10.73, \"star_type\": 5, \"star_color\": \"White\", \"spectral_class\": \"A\"}, {\"temperature\": 9235, \"luminosity\": 404940.0, \"radius\": 1112.0, \"absolute_magnitude\": -11.23, \"star_type\": 5, \"star_color\": \"White\", \"spectral_class\": \"A\"}, {\"temperature\": 37882, \"luminosity\": 294903.0, \"radius\": 1783.0, \"absolute_magnitude\": -7.8, \"star_type\": 5, \"star_color\": \"Blue\", \"spectral_class\": \"O\"}]}}, {\"mode\": \"vega-lite\"});\n",
       "</script>"
      ],
      "text/plain": [
       "alt.Chart(...)"
      ]
     },
     "execution_count": 261,
     "metadata": {},
     "output_type": "execute_result"
    }
   ],
   "source": [
    "boxplot = alt.Chart(star_data).mark_boxplot().encode(\n",
    "    x=alt.X('star_color:N', title='Star color'),\n",
    "    y=alt.Y('luminosity:Q', title='Luminosity(L/Lo)'),\n",
    "    color=alt.Color('star_color:N', title='Star color')\n",
    ").properties(\n",
    "    width=400,\n",
    "    height=300,\n",
    "    title=\"Stars' luminosity boxplot related to star color type\"\n",
    ").configure_axis(\n",
    "    labelAngle=45\n",
    ")\n",
    "\n",
    "boxplot"
   ]
  },
  {
   "cell_type": "markdown",
   "metadata": {
    "cell_id": "103d0c7039594e2db908014e2d0e2662",
    "deepnote_cell_type": "markdown"
   },
   "source": [
    "After analysis of the boxplot graph, we can see that orange stars tend to have greater luminosity. There are a relatively small amount of stars of this nature in the database as they are classified as type 5 Hypergiants. If we complete further analysis of orange star types we can see the numerical values assocaited with the luminosity."
   ]
  },
  {
   "cell_type": "code",
   "execution_count": null,
   "metadata": {
    "cell_id": "9057c9c55a3442508e9406c26af0eb72",
    "deepnote_cell_type": "code",
    "deepnote_to_be_reexecuted": false,
    "execution_millis": 44,
    "execution_start": 1702516987129,
    "source_hash": null
   },
   "outputs": [
    {
     "data": {
      "application/vnd.deepnote.dataframe.v3+json": {
       "column_count": 7,
       "columns": [
        {
         "dtype": "int64",
         "name": "temperature",
         "stats": {
          "histogram": [
           {
            "bin_end": 3802.8,
            "bin_start": 3749,
            "count": 1
           },
           {
            "bin_end": 3856.6,
            "bin_start": 3802.8,
            "count": 0
           },
           {
            "bin_end": 3910.4,
            "bin_start": 3856.6,
            "count": 0
           },
           {
            "bin_end": 3964.2,
            "bin_start": 3910.4,
            "count": 0
           },
           {
            "bin_end": 4018,
            "bin_start": 3964.2,
            "count": 0
           },
           {
            "bin_end": 4071.8,
            "bin_start": 4018,
            "count": 0
           },
           {
            "bin_end": 4125.6,
            "bin_start": 4071.8,
            "count": 0
           },
           {
            "bin_end": 4179.4,
            "bin_start": 4125.6,
            "count": 0
           },
           {
            "bin_end": 4233.2,
            "bin_start": 4179.4,
            "count": 0
           },
           {
            "bin_end": 4287,
            "bin_start": 4233.2,
            "count": 1
           }
          ],
          "max": "4287",
          "min": "3749",
          "nan_count": 0,
          "unique_count": 2
         }
        },
        {
         "dtype": "float64",
         "name": "luminosity",
         "stats": {
          "histogram": [
           {
            "bin_end": 558000,
            "bin_start": 550000,
            "count": 1
           },
           {
            "bin_end": 566000,
            "bin_start": 558000,
            "count": 0
           },
           {
            "bin_end": 574000,
            "bin_start": 566000,
            "count": 0
           },
           {
            "bin_end": 582000,
            "bin_start": 574000,
            "count": 0
           },
           {
            "bin_end": 590000,
            "bin_start": 582000,
            "count": 0
           },
           {
            "bin_end": 598000,
            "bin_start": 590000,
            "count": 0
           },
           {
            "bin_end": 606000,
            "bin_start": 598000,
            "count": 0
           },
           {
            "bin_end": 614000,
            "bin_start": 606000,
            "count": 0
           },
           {
            "bin_end": 622000,
            "bin_start": 614000,
            "count": 0
           },
           {
            "bin_end": 630000,
            "bin_start": 622000,
            "count": 1
           }
          ],
          "max": "630000.0",
          "min": "550000.0",
          "nan_count": 0,
          "unique_count": 2
         }
        },
        {
         "dtype": "float64",
         "name": "radius",
         "stats": {
          "histogram": [
           {
            "bin_end": 1348.3,
            "bin_start": 1315,
            "count": 1
           },
           {
            "bin_end": 1381.6,
            "bin_start": 1348.3,
            "count": 0
           },
           {
            "bin_end": 1414.9,
            "bin_start": 1381.6,
            "count": 0
           },
           {
            "bin_end": 1448.2,
            "bin_start": 1414.9,
            "count": 0
           },
           {
            "bin_end": 1481.5,
            "bin_start": 1448.2,
            "count": 0
           },
           {
            "bin_end": 1514.8,
            "bin_start": 1481.5,
            "count": 0
           },
           {
            "bin_end": 1548.1,
            "bin_start": 1514.8,
            "count": 0
           },
           {
            "bin_end": 1581.4,
            "bin_start": 1548.1,
            "count": 0
           },
           {
            "bin_end": 1614.7,
            "bin_start": 1581.4,
            "count": 0
           },
           {
            "bin_end": 1648,
            "bin_start": 1614.7,
            "count": 1
           }
          ],
          "max": "1648.0",
          "min": "1315.0",
          "nan_count": 0,
          "unique_count": 2
         }
        },
        {
         "dtype": "float64",
         "name": "absolute_magnitude",
         "stats": {
          "histogram": [
           {
            "bin_end": -9.084999999999999,
            "bin_start": -9.2,
            "count": 1
           },
           {
            "bin_end": -8.969999999999999,
            "bin_start": -9.084999999999999,
            "count": 0
           },
           {
            "bin_end": -8.855,
            "bin_start": -8.969999999999999,
            "count": 0
           },
           {
            "bin_end": -8.74,
            "bin_start": -8.855,
            "count": 0
           },
           {
            "bin_end": -8.625,
            "bin_start": -8.74,
            "count": 0
           },
           {
            "bin_end": -8.51,
            "bin_start": -8.625,
            "count": 0
           },
           {
            "bin_end": -8.395,
            "bin_start": -8.51,
            "count": 0
           },
           {
            "bin_end": -8.280000000000001,
            "bin_start": -8.395,
            "count": 0
           },
           {
            "bin_end": -8.165000000000001,
            "bin_start": -8.280000000000001,
            "count": 0
           },
           {
            "bin_end": -8.05,
            "bin_start": -8.165000000000001,
            "count": 1
           }
          ],
          "max": "-8.05",
          "min": "-9.2",
          "nan_count": 0,
          "unique_count": 2
         }
        },
        {
         "dtype": "int64",
         "name": "star_type",
         "stats": {
          "histogram": [
           {
            "bin_end": 4.6,
            "bin_start": 4.5,
            "count": 0
           },
           {
            "bin_end": 4.7,
            "bin_start": 4.6,
            "count": 0
           },
           {
            "bin_end": 4.8,
            "bin_start": 4.7,
            "count": 0
           },
           {
            "bin_end": 4.9,
            "bin_start": 4.8,
            "count": 0
           },
           {
            "bin_end": 5,
            "bin_start": 4.9,
            "count": 0
           },
           {
            "bin_end": 5.1,
            "bin_start": 5,
            "count": 2
           },
           {
            "bin_end": 5.2,
            "bin_start": 5.1,
            "count": 0
           },
           {
            "bin_end": 5.3,
            "bin_start": 5.2,
            "count": 0
           },
           {
            "bin_end": 5.4,
            "bin_start": 5.3,
            "count": 0
           },
           {
            "bin_end": 5.5,
            "bin_start": 5.4,
            "count": 0
           }
          ],
          "max": "5",
          "min": "5",
          "nan_count": 0,
          "unique_count": 1
         }
        },
        {
         "dtype": "object",
         "name": "star_color",
         "stats": {
          "categories": [
           {
            "count": 2,
            "name": "Orange"
           }
          ],
          "nan_count": 0,
          "unique_count": 1
         }
        },
        {
         "dtype": "object",
         "name": "spectral_class",
         "stats": {
          "categories": [
           {
            "count": 1,
            "name": "M"
           },
           {
            "count": 1,
            "name": "K"
           }
          ],
          "nan_count": 0,
          "unique_count": 2
         }
        },
        {
         "dtype": "int64",
         "name": "_deepnote_index_column"
        }
       ],
       "row_count": 2,
       "rows": [
        {
         "_deepnote_index_column": 53,
         "absolute_magnitude": -8.05,
         "luminosity": 550000,
         "radius": 1648,
         "spectral_class": "M",
         "star_color": "Orange",
         "star_type": 5,
         "temperature": 3749
        },
        {
         "_deepnote_index_column": 172,
         "absolute_magnitude": -9.2,
         "luminosity": 630000,
         "radius": 1315,
         "spectral_class": "K",
         "star_color": "Orange",
         "star_type": 5,
         "temperature": 4287
        }
       ]
      },
      "text/html": [
       "<div>\n",
       "<style scoped>\n",
       "    .dataframe tbody tr th:only-of-type {\n",
       "        vertical-align: middle;\n",
       "    }\n",
       "\n",
       "    .dataframe tbody tr th {\n",
       "        vertical-align: top;\n",
       "    }\n",
       "\n",
       "    .dataframe thead th {\n",
       "        text-align: right;\n",
       "    }\n",
       "</style>\n",
       "<table border=\"1\" class=\"dataframe\">\n",
       "  <thead>\n",
       "    <tr style=\"text-align: right;\">\n",
       "      <th></th>\n",
       "      <th>temperature</th>\n",
       "      <th>luminosity</th>\n",
       "      <th>radius</th>\n",
       "      <th>absolute_magnitude</th>\n",
       "      <th>star_type</th>\n",
       "      <th>star_color</th>\n",
       "      <th>spectral_class</th>\n",
       "    </tr>\n",
       "  </thead>\n",
       "  <tbody>\n",
       "    <tr>\n",
       "      <th>53</th>\n",
       "      <td>3749</td>\n",
       "      <td>550000.0</td>\n",
       "      <td>1648.0</td>\n",
       "      <td>-8.05</td>\n",
       "      <td>5</td>\n",
       "      <td>Orange</td>\n",
       "      <td>M</td>\n",
       "    </tr>\n",
       "    <tr>\n",
       "      <th>172</th>\n",
       "      <td>4287</td>\n",
       "      <td>630000.0</td>\n",
       "      <td>1315.0</td>\n",
       "      <td>-9.20</td>\n",
       "      <td>5</td>\n",
       "      <td>Orange</td>\n",
       "      <td>K</td>\n",
       "    </tr>\n",
       "  </tbody>\n",
       "</table>\n",
       "</div>"
      ],
      "text/plain": [
       "     temperature  luminosity  radius  absolute_magnitude  star_type  \\\n",
       "53          3749    550000.0  1648.0               -8.05          5   \n",
       "172         4287    630000.0  1315.0               -9.20          5   \n",
       "\n",
       "    star_color spectral_class  \n",
       "53      Orange              M  \n",
       "172     Orange              K  "
      ]
     },
     "execution_count": 262,
     "metadata": {},
     "output_type": "execute_result"
    }
   ],
   "source": [
    "star_data.query('star_color == \"Orange\"')"
   ]
  },
  {
   "cell_type": "markdown",
   "metadata": {
    "cell_id": "27e17a6e3b8043d787627afa8ab60a9d",
    "deepnote_cell_type": "markdown"
   },
   "source": [
    "Stars with star color of Blue also tend to have higher temperatures as seen from the temperature boxplot. Using query, we can view the temperatures associated with stars of Blue color. "
   ]
  },
  {
   "cell_type": "code",
   "execution_count": null,
   "metadata": {
    "cell_id": "63ab363b330a479387f30cd81ecdaeb4",
    "deepnote_cell_type": "code",
    "deepnote_to_be_reexecuted": false,
    "execution_millis": 10,
    "execution_start": 1702516994161,
    "source_hash": null
   },
   "outputs": [
    {
     "data": {
      "application/vnd.deepnote.dataframe.v3+json": {
       "column_count": 7,
       "columns": [
        {
         "dtype": "int64",
         "name": "temperature",
         "stats": {
          "histogram": [
           {
            "bin_end": 9176.8,
            "bin_start": 5752,
            "count": 3
           },
           {
            "bin_end": 12601.6,
            "bin_start": 9176.8,
            "count": 6
           },
           {
            "bin_end": 16026.400000000001,
            "bin_start": 12601.6,
            "count": 7
           },
           {
            "bin_end": 19451.2,
            "bin_start": 16026.400000000001,
            "count": 10
           },
           {
            "bin_end": 22876,
            "bin_start": 19451.2,
            "count": 4
           },
           {
            "bin_end": 26300.800000000003,
            "bin_start": 22876,
            "count": 10
           },
           {
            "bin_end": 29725.600000000002,
            "bin_start": 26300.800000000003,
            "count": 1
           },
           {
            "bin_end": 33150.4,
            "bin_start": 29725.600000000002,
            "count": 3
           },
           {
            "bin_end": 36575.2,
            "bin_start": 33150.4,
            "count": 5
           },
           {
            "bin_end": 40000,
            "bin_start": 36575.2,
            "count": 6
           }
          ],
          "max": "40000",
          "min": "5752",
          "nan_count": 0,
          "unique_count": 55
         }
        },
        {
         "dtype": "float64",
         "name": "luminosity",
         "stats": {
          "histogram": [
           {
            "bin_end": 83404.200981,
            "bin_start": 0.00109,
            "count": 12
           },
           {
            "bin_end": 166808.400872,
            "bin_start": 83404.200981,
            "count": 5
           },
           {
            "bin_end": 250212.600763,
            "bin_start": 166808.400872,
            "count": 18
           },
           {
            "bin_end": 333616.80065399996,
            "bin_start": 250212.600763,
            "count": 5
           },
           {
            "bin_end": 417021.00054499996,
            "bin_start": 333616.80065399996,
            "count": 6
           },
           {
            "bin_end": 500425.20043599996,
            "bin_start": 417021.00054499996,
            "count": 2
           },
           {
            "bin_end": 583829.400327,
            "bin_start": 500425.20043599996,
            "count": 1
           },
           {
            "bin_end": 667233.600218,
            "bin_start": 583829.400327,
            "count": 2
           },
           {
            "bin_end": 750637.8001090001,
            "bin_start": 667233.600218,
            "count": 1
           },
           {
            "bin_end": 834042,
            "bin_start": 750637.8001090001,
            "count": 3
           }
          ],
          "max": "834042.0",
          "min": "0.00109",
          "nan_count": 0,
          "unique_count": 54
         }
        },
        {
         "dtype": "float64",
         "name": "radius",
         "stats": {
          "histogram": [
           {
            "bin_end": 194.858406,
            "bin_start": 0.00934,
            "count": 48
           },
           {
            "bin_end": 389.707472,
            "bin_start": 194.858406,
            "count": 0
           },
           {
            "bin_end": 584.5565379999999,
            "bin_start": 389.707472,
            "count": 0
           },
           {
            "bin_end": 779.4056039999999,
            "bin_start": 584.5565379999999,
            "count": 0
           },
           {
            "bin_end": 974.2546699999999,
            "bin_start": 779.4056039999999,
            "count": 0
           },
           {
            "bin_end": 1169.103736,
            "bin_start": 974.2546699999999,
            "count": 1
           },
           {
            "bin_end": 1363.952802,
            "bin_start": 1169.103736,
            "count": 3
           },
           {
            "bin_end": 1558.801868,
            "bin_start": 1363.952802,
            "count": 0
           },
           {
            "bin_end": 1753.650934,
            "bin_start": 1558.801868,
            "count": 1
           },
           {
            "bin_end": 1948.5,
            "bin_start": 1753.650934,
            "count": 2
           }
          ],
          "max": "1948.5",
          "min": "0.00934",
          "nan_count": 0,
          "unique_count": 47
         }
        },
        {
         "dtype": "float64",
         "name": "absolute_magnitude",
         "stats": {
          "histogram": [
           {
            "bin_end": -8.466,
            "bin_start": -10.84,
            "count": 5
           },
           {
            "bin_end": -6.092,
            "bin_start": -8.466,
            "count": 21
           },
           {
            "bin_end": -3.718,
            "bin_start": -6.092,
            "count": 17
           },
           {
            "bin_end": -1.3439999999999994,
            "bin_start": -3.718,
            "count": 0
           },
           {
            "bin_end": 1.0300000000000011,
            "bin_start": -1.3439999999999994,
            "count": 0
           },
           {
            "bin_end": 3.404,
            "bin_start": 1.0300000000000011,
            "count": 0
           },
           {
            "bin_end": 5.778000000000002,
            "bin_start": 3.404,
            "count": 0
           },
           {
            "bin_end": 8.152000000000001,
            "bin_start": 5.778000000000002,
            "count": 0
           },
           {
            "bin_end": 10.526,
            "bin_start": 8.152000000000001,
            "count": 1
           },
           {
            "bin_end": 12.9,
            "bin_start": 10.526,
            "count": 11
           }
          ],
          "max": "12.9",
          "min": "-10.84",
          "nan_count": 0,
          "unique_count": 54
         }
        },
        {
         "dtype": "int64",
         "name": "star_type",
         "stats": {
          "histogram": [
           {
            "bin_end": 2.3,
            "bin_start": 2,
            "count": 12
           },
           {
            "bin_end": 2.6,
            "bin_start": 2.3,
            "count": 0
           },
           {
            "bin_end": 2.9,
            "bin_start": 2.6,
            "count": 0
           },
           {
            "bin_end": 3.2,
            "bin_start": 2.9,
            "count": 5
           },
           {
            "bin_end": 3.5,
            "bin_start": 3.2,
            "count": 0
           },
           {
            "bin_end": 3.8,
            "bin_start": 3.5,
            "count": 0
           },
           {
            "bin_end": 4.1,
            "bin_start": 3.8,
            "count": 31
           },
           {
            "bin_end": 4.4,
            "bin_start": 4.1,
            "count": 0
           },
           {
            "bin_end": 4.699999999999999,
            "bin_start": 4.4,
            "count": 0
           },
           {
            "bin_end": 5,
            "bin_start": 4.699999999999999,
            "count": 7
           }
          ],
          "max": "5",
          "min": "2",
          "nan_count": 0,
          "unique_count": 4
         }
        },
        {
         "dtype": "object",
         "name": "star_color",
         "stats": {
          "categories": [
           {
            "count": 55,
            "name": "Blue"
           }
          ],
          "nan_count": 0,
          "unique_count": 1
         }
        },
        {
         "dtype": "object",
         "name": "spectral_class",
         "stats": {
          "categories": [
           {
            "count": 40,
            "name": "O"
           },
           {
            "count": 15,
            "name": "B"
           }
          ],
          "nan_count": 0,
          "unique_count": 2
         }
        },
        {
         "dtype": "int64",
         "name": "_deepnote_index_column"
        }
       ],
       "row_count": 55,
       "rows": [
        {
         "_deepnote_index_column": 30,
         "absolute_magnitude": -4.7,
         "luminosity": 204000,
         "radius": 10.6,
         "spectral_class": "O",
         "star_color": "Blue",
         "star_type": 3,
         "temperature": 39000
        },
        {
         "_deepnote_index_column": 49,
         "absolute_magnitude": -6.1,
         "luminosity": 220000,
         "radius": 26,
         "spectral_class": "B",
         "star_color": "Blue",
         "star_type": 4,
         "temperature": 33750
        },
        {
         "_deepnote_index_column": 99,
         "absolute_magnitude": -4.4,
         "luminosity": 198000,
         "radius": 10.2,
         "spectral_class": "O",
         "star_color": "Blue",
         "star_type": 3,
         "temperature": 36108
        },
        {
         "_deepnote_index_column": 100,
         "absolute_magnitude": -6.5,
         "luminosity": 240000,
         "radius": 12,
         "spectral_class": "B",
         "star_color": "Blue",
         "star_type": 4,
         "temperature": 33300
        },
        {
         "_deepnote_index_column": 101,
         "absolute_magnitude": -6.23,
         "luminosity": 813000,
         "radius": 14,
         "spectral_class": "O",
         "star_color": "Blue",
         "star_type": 4,
         "temperature": 40000
        },
        {
         "_deepnote_index_column": 102,
         "absolute_magnitude": -5.76,
         "luminosity": 127000,
         "radius": 36,
         "spectral_class": "O",
         "star_color": "Blue",
         "star_type": 4,
         "temperature": 23000
        },
        {
         "_deepnote_index_column": 103,
         "absolute_magnitude": -6.89,
         "luminosity": 235000,
         "radius": 83,
         "spectral_class": "O",
         "star_color": "Blue",
         "star_type": 4,
         "temperature": 17120
        },
        {
         "_deepnote_index_column": 104,
         "absolute_magnitude": -5.91,
         "luminosity": 112000,
         "radius": 12,
         "spectral_class": "O",
         "star_color": "Blue",
         "star_type": 4,
         "temperature": 11096
        },
        {
         "_deepnote_index_column": 105,
         "absolute_magnitude": -6.12,
         "luminosity": 231000,
         "radius": 42,
         "spectral_class": "O",
         "star_color": "Blue",
         "star_type": 4,
         "temperature": 14245
        },
        {
         "_deepnote_index_column": 106,
         "absolute_magnitude": -5.83,
         "luminosity": 363000,
         "radius": 63,
         "spectral_class": "O",
         "star_color": "Blue",
         "star_type": 4,
         "temperature": 24630
        }
       ]
      },
      "text/html": [
       "<div>\n",
       "<style scoped>\n",
       "    .dataframe tbody tr th:only-of-type {\n",
       "        vertical-align: middle;\n",
       "    }\n",
       "\n",
       "    .dataframe tbody tr th {\n",
       "        vertical-align: top;\n",
       "    }\n",
       "\n",
       "    .dataframe thead th {\n",
       "        text-align: right;\n",
       "    }\n",
       "</style>\n",
       "<table border=\"1\" class=\"dataframe\">\n",
       "  <thead>\n",
       "    <tr style=\"text-align: right;\">\n",
       "      <th></th>\n",
       "      <th>temperature</th>\n",
       "      <th>luminosity</th>\n",
       "      <th>radius</th>\n",
       "      <th>absolute_magnitude</th>\n",
       "      <th>star_type</th>\n",
       "      <th>star_color</th>\n",
       "      <th>spectral_class</th>\n",
       "    </tr>\n",
       "  </thead>\n",
       "  <tbody>\n",
       "    <tr>\n",
       "      <th>30</th>\n",
       "      <td>39000</td>\n",
       "      <td>204000.00000</td>\n",
       "      <td>10.60000</td>\n",
       "      <td>-4.700</td>\n",
       "      <td>3</td>\n",
       "      <td>Blue</td>\n",
       "      <td>O</td>\n",
       "    </tr>\n",
       "    <tr>\n",
       "      <th>49</th>\n",
       "      <td>33750</td>\n",
       "      <td>220000.00000</td>\n",
       "      <td>26.00000</td>\n",
       "      <td>-6.100</td>\n",
       "      <td>4</td>\n",
       "      <td>Blue</td>\n",
       "      <td>B</td>\n",
       "    </tr>\n",
       "    <tr>\n",
       "      <th>99</th>\n",
       "      <td>36108</td>\n",
       "      <td>198000.00000</td>\n",
       "      <td>10.20000</td>\n",
       "      <td>-4.400</td>\n",
       "      <td>3</td>\n",
       "      <td>Blue</td>\n",
       "      <td>O</td>\n",
       "    </tr>\n",
       "    <tr>\n",
       "      <th>100</th>\n",
       "      <td>33300</td>\n",
       "      <td>240000.00000</td>\n",
       "      <td>12.00000</td>\n",
       "      <td>-6.500</td>\n",
       "      <td>4</td>\n",
       "      <td>Blue</td>\n",
       "      <td>B</td>\n",
       "    </tr>\n",
       "    <tr>\n",
       "      <th>101</th>\n",
       "      <td>40000</td>\n",
       "      <td>813000.00000</td>\n",
       "      <td>14.00000</td>\n",
       "      <td>-6.230</td>\n",
       "      <td>4</td>\n",
       "      <td>Blue</td>\n",
       "      <td>O</td>\n",
       "    </tr>\n",
       "    <tr>\n",
       "      <th>102</th>\n",
       "      <td>23000</td>\n",
       "      <td>127000.00000</td>\n",
       "      <td>36.00000</td>\n",
       "      <td>-5.760</td>\n",
       "      <td>4</td>\n",
       "      <td>Blue</td>\n",
       "      <td>O</td>\n",
       "    </tr>\n",
       "    <tr>\n",
       "      <th>103</th>\n",
       "      <td>17120</td>\n",
       "      <td>235000.00000</td>\n",
       "      <td>83.00000</td>\n",
       "      <td>-6.890</td>\n",
       "      <td>4</td>\n",
       "      <td>Blue</td>\n",
       "      <td>O</td>\n",
       "    </tr>\n",
       "    <tr>\n",
       "      <th>104</th>\n",
       "      <td>11096</td>\n",
       "      <td>112000.00000</td>\n",
       "      <td>12.00000</td>\n",
       "      <td>-5.910</td>\n",
       "      <td>4</td>\n",
       "      <td>Blue</td>\n",
       "      <td>O</td>\n",
       "    </tr>\n",
       "    <tr>\n",
       "      <th>105</th>\n",
       "      <td>14245</td>\n",
       "      <td>231000.00000</td>\n",
       "      <td>42.00000</td>\n",
       "      <td>-6.120</td>\n",
       "      <td>4</td>\n",
       "      <td>Blue</td>\n",
       "      <td>O</td>\n",
       "    </tr>\n",
       "    <tr>\n",
       "      <th>106</th>\n",
       "      <td>24630</td>\n",
       "      <td>363000.00000</td>\n",
       "      <td>63.00000</td>\n",
       "      <td>-5.830</td>\n",
       "      <td>4</td>\n",
       "      <td>Blue</td>\n",
       "      <td>O</td>\n",
       "    </tr>\n",
       "    <tr>\n",
       "      <th>107</th>\n",
       "      <td>12893</td>\n",
       "      <td>184000.00000</td>\n",
       "      <td>36.00000</td>\n",
       "      <td>-6.340</td>\n",
       "      <td>4</td>\n",
       "      <td>Blue</td>\n",
       "      <td>O</td>\n",
       "    </tr>\n",
       "    <tr>\n",
       "      <th>108</th>\n",
       "      <td>24345</td>\n",
       "      <td>142000.00000</td>\n",
       "      <td>57.00000</td>\n",
       "      <td>-6.240</td>\n",
       "      <td>4</td>\n",
       "      <td>Blue</td>\n",
       "      <td>O</td>\n",
       "    </tr>\n",
       "    <tr>\n",
       "      <th>109</th>\n",
       "      <td>33421</td>\n",
       "      <td>352000.00000</td>\n",
       "      <td>67.00000</td>\n",
       "      <td>-5.790</td>\n",
       "      <td>4</td>\n",
       "      <td>Blue</td>\n",
       "      <td>O</td>\n",
       "    </tr>\n",
       "    <tr>\n",
       "      <th>141</th>\n",
       "      <td>21020</td>\n",
       "      <td>0.00150</td>\n",
       "      <td>0.01120</td>\n",
       "      <td>11.520</td>\n",
       "      <td>2</td>\n",
       "      <td>Blue</td>\n",
       "      <td>B</td>\n",
       "    </tr>\n",
       "    <tr>\n",
       "      <th>142</th>\n",
       "      <td>18290</td>\n",
       "      <td>0.00130</td>\n",
       "      <td>0.00934</td>\n",
       "      <td>12.780</td>\n",
       "      <td>2</td>\n",
       "      <td>Blue</td>\n",
       "      <td>B</td>\n",
       "    </tr>\n",
       "    <tr>\n",
       "      <th>159</th>\n",
       "      <td>37800</td>\n",
       "      <td>202900.00000</td>\n",
       "      <td>6.86000</td>\n",
       "      <td>-4.560</td>\n",
       "      <td>3</td>\n",
       "      <td>Blue</td>\n",
       "      <td>O</td>\n",
       "    </tr>\n",
       "    <tr>\n",
       "      <th>160</th>\n",
       "      <td>25390</td>\n",
       "      <td>223000.00000</td>\n",
       "      <td>57.00000</td>\n",
       "      <td>-5.920</td>\n",
       "      <td>4</td>\n",
       "      <td>Blue</td>\n",
       "      <td>O</td>\n",
       "    </tr>\n",
       "    <tr>\n",
       "      <th>161</th>\n",
       "      <td>11567</td>\n",
       "      <td>251000.00000</td>\n",
       "      <td>36.00000</td>\n",
       "      <td>-6.245</td>\n",
       "      <td>4</td>\n",
       "      <td>Blue</td>\n",
       "      <td>O</td>\n",
       "    </tr>\n",
       "    <tr>\n",
       "      <th>162</th>\n",
       "      <td>12675</td>\n",
       "      <td>452000.00000</td>\n",
       "      <td>83.00000</td>\n",
       "      <td>-5.620</td>\n",
       "      <td>4</td>\n",
       "      <td>Blue</td>\n",
       "      <td>O</td>\n",
       "    </tr>\n",
       "    <tr>\n",
       "      <th>163</th>\n",
       "      <td>5752</td>\n",
       "      <td>245000.00000</td>\n",
       "      <td>97.00000</td>\n",
       "      <td>-6.630</td>\n",
       "      <td>4</td>\n",
       "      <td>Blue</td>\n",
       "      <td>O</td>\n",
       "    </tr>\n",
       "    <tr>\n",
       "      <th>164</th>\n",
       "      <td>8927</td>\n",
       "      <td>239000.00000</td>\n",
       "      <td>35.00000</td>\n",
       "      <td>-7.340</td>\n",
       "      <td>4</td>\n",
       "      <td>Blue</td>\n",
       "      <td>O</td>\n",
       "    </tr>\n",
       "    <tr>\n",
       "      <th>165</th>\n",
       "      <td>7282</td>\n",
       "      <td>131000.00000</td>\n",
       "      <td>24.00000</td>\n",
       "      <td>-7.220</td>\n",
       "      <td>4</td>\n",
       "      <td>Blue</td>\n",
       "      <td>O</td>\n",
       "    </tr>\n",
       "    <tr>\n",
       "      <th>166</th>\n",
       "      <td>19923</td>\n",
       "      <td>152000.00000</td>\n",
       "      <td>73.00000</td>\n",
       "      <td>-5.690</td>\n",
       "      <td>4</td>\n",
       "      <td>Blue</td>\n",
       "      <td>O</td>\n",
       "    </tr>\n",
       "    <tr>\n",
       "      <th>167</th>\n",
       "      <td>26373</td>\n",
       "      <td>198000.00000</td>\n",
       "      <td>39.00000</td>\n",
       "      <td>-5.830</td>\n",
       "      <td>4</td>\n",
       "      <td>Blue</td>\n",
       "      <td>O</td>\n",
       "    </tr>\n",
       "    <tr>\n",
       "      <th>168</th>\n",
       "      <td>17383</td>\n",
       "      <td>342900.00000</td>\n",
       "      <td>30.00000</td>\n",
       "      <td>-6.090</td>\n",
       "      <td>4</td>\n",
       "      <td>Blue</td>\n",
       "      <td>O</td>\n",
       "    </tr>\n",
       "    <tr>\n",
       "      <th>169</th>\n",
       "      <td>9373</td>\n",
       "      <td>424520.00000</td>\n",
       "      <td>24.00000</td>\n",
       "      <td>-5.990</td>\n",
       "      <td>4</td>\n",
       "      <td>Blue</td>\n",
       "      <td>O</td>\n",
       "    </tr>\n",
       "    <tr>\n",
       "      <th>173</th>\n",
       "      <td>26000</td>\n",
       "      <td>316000.00000</td>\n",
       "      <td>1679.00000</td>\n",
       "      <td>-9.100</td>\n",
       "      <td>5</td>\n",
       "      <td>Blue</td>\n",
       "      <td>B</td>\n",
       "    </tr>\n",
       "    <tr>\n",
       "      <th>176</th>\n",
       "      <td>18000</td>\n",
       "      <td>200000.00000</td>\n",
       "      <td>1045.00000</td>\n",
       "      <td>-8.300</td>\n",
       "      <td>5</td>\n",
       "      <td>Blue</td>\n",
       "      <td>O</td>\n",
       "    </tr>\n",
       "    <tr>\n",
       "      <th>200</th>\n",
       "      <td>16790</td>\n",
       "      <td>0.00140</td>\n",
       "      <td>0.01210</td>\n",
       "      <td>12.870</td>\n",
       "      <td>2</td>\n",
       "      <td>Blue</td>\n",
       "      <td>B</td>\n",
       "    </tr>\n",
       "    <tr>\n",
       "      <th>201</th>\n",
       "      <td>15680</td>\n",
       "      <td>0.00122</td>\n",
       "      <td>0.01140</td>\n",
       "      <td>11.920</td>\n",
       "      <td>2</td>\n",
       "      <td>Blue</td>\n",
       "      <td>B</td>\n",
       "    </tr>\n",
       "    <tr>\n",
       "      <th>202</th>\n",
       "      <td>14982</td>\n",
       "      <td>0.00118</td>\n",
       "      <td>0.01130</td>\n",
       "      <td>12.230</td>\n",
       "      <td>2</td>\n",
       "      <td>Blue</td>\n",
       "      <td>B</td>\n",
       "    </tr>\n",
       "    <tr>\n",
       "      <th>203</th>\n",
       "      <td>13340</td>\n",
       "      <td>0.00109</td>\n",
       "      <td>0.01160</td>\n",
       "      <td>12.900</td>\n",
       "      <td>2</td>\n",
       "      <td>Blue</td>\n",
       "      <td>B</td>\n",
       "    </tr>\n",
       "    <tr>\n",
       "      <th>204</th>\n",
       "      <td>18340</td>\n",
       "      <td>0.00134</td>\n",
       "      <td>0.01240</td>\n",
       "      <td>11.220</td>\n",
       "      <td>2</td>\n",
       "      <td>Blue</td>\n",
       "      <td>B</td>\n",
       "    </tr>\n",
       "    <tr>\n",
       "      <th>205</th>\n",
       "      <td>19920</td>\n",
       "      <td>0.00156</td>\n",
       "      <td>0.01420</td>\n",
       "      <td>11.340</td>\n",
       "      <td>2</td>\n",
       "      <td>Blue</td>\n",
       "      <td>B</td>\n",
       "    </tr>\n",
       "    <tr>\n",
       "      <th>206</th>\n",
       "      <td>24020</td>\n",
       "      <td>0.00159</td>\n",
       "      <td>0.01270</td>\n",
       "      <td>10.550</td>\n",
       "      <td>2</td>\n",
       "      <td>Blue</td>\n",
       "      <td>B</td>\n",
       "    </tr>\n",
       "    <tr>\n",
       "      <th>207</th>\n",
       "      <td>23092</td>\n",
       "      <td>0.00132</td>\n",
       "      <td>0.01040</td>\n",
       "      <td>10.180</td>\n",
       "      <td>2</td>\n",
       "      <td>Blue</td>\n",
       "      <td>B</td>\n",
       "    </tr>\n",
       "    <tr>\n",
       "      <th>208</th>\n",
       "      <td>17920</td>\n",
       "      <td>0.00111</td>\n",
       "      <td>0.01060</td>\n",
       "      <td>11.660</td>\n",
       "      <td>2</td>\n",
       "      <td>Blue</td>\n",
       "      <td>B</td>\n",
       "    </tr>\n",
       "    <tr>\n",
       "      <th>209</th>\n",
       "      <td>19360</td>\n",
       "      <td>0.00125</td>\n",
       "      <td>0.00998</td>\n",
       "      <td>11.620</td>\n",
       "      <td>2</td>\n",
       "      <td>Blue</td>\n",
       "      <td>B</td>\n",
       "    </tr>\n",
       "    <tr>\n",
       "      <th>214</th>\n",
       "      <td>34190</td>\n",
       "      <td>198200.00000</td>\n",
       "      <td>6.39000</td>\n",
       "      <td>-4.570</td>\n",
       "      <td>3</td>\n",
       "      <td>Blue</td>\n",
       "      <td>O</td>\n",
       "    </tr>\n",
       "    <tr>\n",
       "      <th>215</th>\n",
       "      <td>32460</td>\n",
       "      <td>173800.00000</td>\n",
       "      <td>6.23700</td>\n",
       "      <td>-4.360</td>\n",
       "      <td>3</td>\n",
       "      <td>Blue</td>\n",
       "      <td>O</td>\n",
       "    </tr>\n",
       "    <tr>\n",
       "      <th>220</th>\n",
       "      <td>23678</td>\n",
       "      <td>244290.00000</td>\n",
       "      <td>35.00000</td>\n",
       "      <td>-6.270</td>\n",
       "      <td>4</td>\n",
       "      <td>Blue</td>\n",
       "      <td>O</td>\n",
       "    </tr>\n",
       "    <tr>\n",
       "      <th>221</th>\n",
       "      <td>12749</td>\n",
       "      <td>332520.00000</td>\n",
       "      <td>76.00000</td>\n",
       "      <td>-7.020</td>\n",
       "      <td>4</td>\n",
       "      <td>Blue</td>\n",
       "      <td>O</td>\n",
       "    </tr>\n",
       "    <tr>\n",
       "      <th>222</th>\n",
       "      <td>9383</td>\n",
       "      <td>342940.00000</td>\n",
       "      <td>98.00000</td>\n",
       "      <td>-6.980</td>\n",
       "      <td>4</td>\n",
       "      <td>Blue</td>\n",
       "      <td>O</td>\n",
       "    </tr>\n",
       "    <tr>\n",
       "      <th>223</th>\n",
       "      <td>23440</td>\n",
       "      <td>537430.00000</td>\n",
       "      <td>81.00000</td>\n",
       "      <td>-5.975</td>\n",
       "      <td>4</td>\n",
       "      <td>Blue</td>\n",
       "      <td>O</td>\n",
       "    </tr>\n",
       "    <tr>\n",
       "      <th>224</th>\n",
       "      <td>16787</td>\n",
       "      <td>246730.00000</td>\n",
       "      <td>62.00000</td>\n",
       "      <td>-6.350</td>\n",
       "      <td>4</td>\n",
       "      <td>Blue</td>\n",
       "      <td>O</td>\n",
       "    </tr>\n",
       "    <tr>\n",
       "      <th>225</th>\n",
       "      <td>18734</td>\n",
       "      <td>224780.00000</td>\n",
       "      <td>46.00000</td>\n",
       "      <td>-7.450</td>\n",
       "      <td>4</td>\n",
       "      <td>Blue</td>\n",
       "      <td>O</td>\n",
       "    </tr>\n",
       "    <tr>\n",
       "      <th>226</th>\n",
       "      <td>9892</td>\n",
       "      <td>593900.00000</td>\n",
       "      <td>80.00000</td>\n",
       "      <td>-7.262</td>\n",
       "      <td>4</td>\n",
       "      <td>Blue</td>\n",
       "      <td>O</td>\n",
       "    </tr>\n",
       "    <tr>\n",
       "      <th>227</th>\n",
       "      <td>10930</td>\n",
       "      <td>783930.00000</td>\n",
       "      <td>25.00000</td>\n",
       "      <td>-6.224</td>\n",
       "      <td>4</td>\n",
       "      <td>Blue</td>\n",
       "      <td>O</td>\n",
       "    </tr>\n",
       "    <tr>\n",
       "      <th>228</th>\n",
       "      <td>23095</td>\n",
       "      <td>347820.00000</td>\n",
       "      <td>86.00000</td>\n",
       "      <td>-5.905</td>\n",
       "      <td>4</td>\n",
       "      <td>Blue</td>\n",
       "      <td>O</td>\n",
       "    </tr>\n",
       "    <tr>\n",
       "      <th>229</th>\n",
       "      <td>21738</td>\n",
       "      <td>748890.00000</td>\n",
       "      <td>92.00000</td>\n",
       "      <td>-7.346</td>\n",
       "      <td>4</td>\n",
       "      <td>Blue</td>\n",
       "      <td>O</td>\n",
       "    </tr>\n",
       "    <tr>\n",
       "      <th>231</th>\n",
       "      <td>38234</td>\n",
       "      <td>272830.00000</td>\n",
       "      <td>1356.00000</td>\n",
       "      <td>-9.290</td>\n",
       "      <td>5</td>\n",
       "      <td>Blue</td>\n",
       "      <td>O</td>\n",
       "    </tr>\n",
       "    <tr>\n",
       "      <th>232</th>\n",
       "      <td>32489</td>\n",
       "      <td>648430.00000</td>\n",
       "      <td>1948.50000</td>\n",
       "      <td>-10.840</td>\n",
       "      <td>5</td>\n",
       "      <td>Blue</td>\n",
       "      <td>O</td>\n",
       "    </tr>\n",
       "    <tr>\n",
       "      <th>235</th>\n",
       "      <td>38940</td>\n",
       "      <td>374830.00000</td>\n",
       "      <td>1356.00000</td>\n",
       "      <td>-9.930</td>\n",
       "      <td>5</td>\n",
       "      <td>Blue</td>\n",
       "      <td>O</td>\n",
       "    </tr>\n",
       "    <tr>\n",
       "      <th>236</th>\n",
       "      <td>30839</td>\n",
       "      <td>834042.00000</td>\n",
       "      <td>1194.00000</td>\n",
       "      <td>-10.630</td>\n",
       "      <td>5</td>\n",
       "      <td>Blue</td>\n",
       "      <td>O</td>\n",
       "    </tr>\n",
       "    <tr>\n",
       "      <th>239</th>\n",
       "      <td>37882</td>\n",
       "      <td>294903.00000</td>\n",
       "      <td>1783.00000</td>\n",
       "      <td>-7.800</td>\n",
       "      <td>5</td>\n",
       "      <td>Blue</td>\n",
       "      <td>O</td>\n",
       "    </tr>\n",
       "  </tbody>\n",
       "</table>\n",
       "</div>"
      ],
      "text/plain": [
       "     temperature    luminosity      radius  absolute_magnitude  star_type  \\\n",
       "30         39000  204000.00000    10.60000              -4.700          3   \n",
       "49         33750  220000.00000    26.00000              -6.100          4   \n",
       "99         36108  198000.00000    10.20000              -4.400          3   \n",
       "100        33300  240000.00000    12.00000              -6.500          4   \n",
       "101        40000  813000.00000    14.00000              -6.230          4   \n",
       "102        23000  127000.00000    36.00000              -5.760          4   \n",
       "103        17120  235000.00000    83.00000              -6.890          4   \n",
       "104        11096  112000.00000    12.00000              -5.910          4   \n",
       "105        14245  231000.00000    42.00000              -6.120          4   \n",
       "106        24630  363000.00000    63.00000              -5.830          4   \n",
       "107        12893  184000.00000    36.00000              -6.340          4   \n",
       "108        24345  142000.00000    57.00000              -6.240          4   \n",
       "109        33421  352000.00000    67.00000              -5.790          4   \n",
       "141        21020       0.00150     0.01120              11.520          2   \n",
       "142        18290       0.00130     0.00934              12.780          2   \n",
       "159        37800  202900.00000     6.86000              -4.560          3   \n",
       "160        25390  223000.00000    57.00000              -5.920          4   \n",
       "161        11567  251000.00000    36.00000              -6.245          4   \n",
       "162        12675  452000.00000    83.00000              -5.620          4   \n",
       "163         5752  245000.00000    97.00000              -6.630          4   \n",
       "164         8927  239000.00000    35.00000              -7.340          4   \n",
       "165         7282  131000.00000    24.00000              -7.220          4   \n",
       "166        19923  152000.00000    73.00000              -5.690          4   \n",
       "167        26373  198000.00000    39.00000              -5.830          4   \n",
       "168        17383  342900.00000    30.00000              -6.090          4   \n",
       "169         9373  424520.00000    24.00000              -5.990          4   \n",
       "173        26000  316000.00000  1679.00000              -9.100          5   \n",
       "176        18000  200000.00000  1045.00000              -8.300          5   \n",
       "200        16790       0.00140     0.01210              12.870          2   \n",
       "201        15680       0.00122     0.01140              11.920          2   \n",
       "202        14982       0.00118     0.01130              12.230          2   \n",
       "203        13340       0.00109     0.01160              12.900          2   \n",
       "204        18340       0.00134     0.01240              11.220          2   \n",
       "205        19920       0.00156     0.01420              11.340          2   \n",
       "206        24020       0.00159     0.01270              10.550          2   \n",
       "207        23092       0.00132     0.01040              10.180          2   \n",
       "208        17920       0.00111     0.01060              11.660          2   \n",
       "209        19360       0.00125     0.00998              11.620          2   \n",
       "214        34190  198200.00000     6.39000              -4.570          3   \n",
       "215        32460  173800.00000     6.23700              -4.360          3   \n",
       "220        23678  244290.00000    35.00000              -6.270          4   \n",
       "221        12749  332520.00000    76.00000              -7.020          4   \n",
       "222         9383  342940.00000    98.00000              -6.980          4   \n",
       "223        23440  537430.00000    81.00000              -5.975          4   \n",
       "224        16787  246730.00000    62.00000              -6.350          4   \n",
       "225        18734  224780.00000    46.00000              -7.450          4   \n",
       "226         9892  593900.00000    80.00000              -7.262          4   \n",
       "227        10930  783930.00000    25.00000              -6.224          4   \n",
       "228        23095  347820.00000    86.00000              -5.905          4   \n",
       "229        21738  748890.00000    92.00000              -7.346          4   \n",
       "231        38234  272830.00000  1356.00000              -9.290          5   \n",
       "232        32489  648430.00000  1948.50000             -10.840          5   \n",
       "235        38940  374830.00000  1356.00000              -9.930          5   \n",
       "236        30839  834042.00000  1194.00000             -10.630          5   \n",
       "239        37882  294903.00000  1783.00000              -7.800          5   \n",
       "\n",
       "    star_color spectral_class  \n",
       "30        Blue              O  \n",
       "49        Blue              B  \n",
       "99        Blue              O  \n",
       "100       Blue              B  \n",
       "101       Blue              O  \n",
       "102       Blue              O  \n",
       "103       Blue              O  \n",
       "104       Blue              O  \n",
       "105       Blue              O  \n",
       "106       Blue              O  \n",
       "107       Blue              O  \n",
       "108       Blue              O  \n",
       "109       Blue              O  \n",
       "141       Blue              B  \n",
       "142       Blue              B  \n",
       "159       Blue              O  \n",
       "160       Blue              O  \n",
       "161       Blue              O  \n",
       "162       Blue              O  \n",
       "163       Blue              O  \n",
       "164       Blue              O  \n",
       "165       Blue              O  \n",
       "166       Blue              O  \n",
       "167       Blue              O  \n",
       "168       Blue              O  \n",
       "169       Blue              O  \n",
       "173       Blue              B  \n",
       "176       Blue              O  \n",
       "200       Blue              B  \n",
       "201       Blue              B  \n",
       "202       Blue              B  \n",
       "203       Blue              B  \n",
       "204       Blue              B  \n",
       "205       Blue              B  \n",
       "206       Blue              B  \n",
       "207       Blue              B  \n",
       "208       Blue              B  \n",
       "209       Blue              B  \n",
       "214       Blue              O  \n",
       "215       Blue              O  \n",
       "220       Blue              O  \n",
       "221       Blue              O  \n",
       "222       Blue              O  \n",
       "223       Blue              O  \n",
       "224       Blue              O  \n",
       "225       Blue              O  \n",
       "226       Blue              O  \n",
       "227       Blue              O  \n",
       "228       Blue              O  \n",
       "229       Blue              O  \n",
       "231       Blue              O  \n",
       "232       Blue              O  \n",
       "235       Blue              O  \n",
       "236       Blue              O  \n",
       "239       Blue              O  "
      ]
     },
     "execution_count": 263,
     "metadata": {},
     "output_type": "execute_result"
    }
   ],
   "source": [
    "star_data.query('star_color == \"Blue\"')"
   ]
  },
  {
   "cell_type": "markdown",
   "metadata": {
    "cell_id": "3c467fd3312348f1a8435ff0f2866622",
    "deepnote_cell_type": "markdown"
   },
   "source": [
    "## Heat Map"
   ]
  },
  {
   "cell_type": "markdown",
   "metadata": {
    "cell_id": "08cbc7f2cea6492f9f863c700677daa5",
    "deepnote_cell_type": "markdown"
   },
   "source": [
    "This following part is a heat map made to help color code different regions based on the various concentration of stars with their density or intensity. This map is usually used by astronomers to help identify regions of interest such as star clusters or areas of high star formation activity."
   ]
  },
  {
   "cell_type": "code",
   "execution_count": null,
   "metadata": {
    "cell_id": "f7132b45e2644b539b9939d5d31f8f86",
    "deepnote_cell_type": "code",
    "deepnote_to_be_reexecuted": false,
    "execution_millis": 160,
    "execution_start": 1702517007165,
    "source_hash": null
   },
   "outputs": [
    {
     "data": {
      "text/plain": [
       "<AxesSubplot: >"
      ]
     },
     "execution_count": 265,
     "metadata": {},
     "output_type": "execute_result"
    },
    {
     "data": {
      "image/png": "[encoded data removed]",
      "text/plain": [
       "<Figure size 640x480 with 2 Axes>"
      ]
     },
     "metadata": {
      "image/png": {
       "height": 546,
       "width": 663
      }
     },
     "output_type": "display_data"
    }
   ],
   "source": [
    "import numpy as np\n",
    "import seaborn as sns\n",
    "\n",
    "heat_map = np.corrcoef([star_data['temperature'], star_data['luminosity'], star_data['radius'],\n",
    "star_data['absolute_magnitude'], star_data['star_type']])\n",
    "\n",
    "sns.heatmap(heat_map, annot=True,\n",
    "xticklabels=['temperature', 'luminosity', 'radius', \n",
    "                         'absolute_magnitude', 'star_type'], \n",
    "            yticklabels=['temperature', 'luminosity', 'radius', \n",
    "                         'absolute_magnitude', 'star_type'])\n",
    "\n"
   ]
  },
  {
   "cell_type": "markdown",
   "metadata": {
    "cell_id": "55bd3135db384c69bd520b26b3f508bf",
    "deepnote_cell_type": "markdown"
   },
   "source": [
    "## Random Forest Vs Logistic Regression for Star Type Classification"
   ]
  },
  {
   "cell_type": "markdown",
   "metadata": {
    "cell_id": "6ceda48e72c647b4878dae4f993475fa",
    "deepnote_cell_type": "markdown"
   },
   "source": [
    "For this section of the project I will be looking at both Random Forest and Logistic Regression and will be comparing the two to see which one is a better model to use for prediciting star types. I will be using both temperature and luminosity for the parameters in predicting the different star types. I will be looking at both the accuracy of each model and will be showing a classification report to help analyze each model's performance."
   ]
  },
  {
   "cell_type": "markdown",
   "metadata": {
    "cell_id": "2903f1346ed24cba87d2a42a981904a0",
    "deepnote_cell_type": "markdown"
   },
   "source": [
    "## Random Forest "
   ]
  },
  {
   "cell_type": "code",
   "execution_count": null,
   "metadata": {
    "cell_id": "1ac6921d2bf642bcb8ab580035dac886",
    "deepnote_cell_type": "code",
    "deepnote_to_be_reexecuted": false,
    "execution_millis": 16,
    "execution_start": 1702517012402,
    "source_hash": null
   },
   "outputs": [],
   "source": [
    "from sklearn.preprocessing import StandardScaler\n",
    "from sklearn.model_selection import train_test_split\n",
    "from sklearn.ensemble import RandomForestClassifier\n",
    "from sklearn.metrics import log_loss\n",
    "from sklearn.metrics import accuracy_score\n",
    "from sklearn.metrics import classification_report"
   ]
  },
  {
   "cell_type": "code",
   "execution_count": null,
   "metadata": {
    "cell_id": "e51f97e4c47f4587b1e3d63dad482917",
    "deepnote_cell_type": "code",
    "deepnote_to_be_reexecuted": false,
    "execution_millis": 108,
    "execution_start": 1702517013849,
    "source_hash": null
   },
   "outputs": [],
   "source": [
    "X = star_data[['temperature', 'luminosity']]\n",
    "y = star_data['star_type']\n",
    "X_train, X_test, y_train, y_test = train_test_split(X, y, test_size = 0.3, random_state = 21)\n",
    "rf = RandomForestClassifier(n_estimators=100, max_depth=2, random_state=21)\n",
    "rf.fit(X_train, y_train)\n",
    "y_pred_rf = rf.predict(X_test)"
   ]
  },
  {
   "cell_type": "code",
   "execution_count": null,
   "metadata": {
    "cell_id": "08ee41d561a142de80d04b4bd83af0a6",
    "deepnote_cell_type": "code",
    "deepnote_to_be_reexecuted": false,
    "execution_millis": 8,
    "execution_start": 1702517016276,
    "source_hash": null
   },
   "outputs": [
    {
     "name": "stdout",
     "output_type": "stream",
     "text": [
      "Random Forest Performance:\n",
      "Accuracy: 0.7777777777777778\n",
      "Classification Report:\n",
      "               precision    recall  f1-score   support\n",
      "\n",
      "           0       0.85      0.92      0.88        12\n",
      "           1       0.90      0.82      0.86        11\n",
      "           2       1.00      0.88      0.93         8\n",
      "           3       0.92      0.86      0.89        14\n",
      "           4       0.58      0.73      0.65        15\n",
      "           5       0.60      0.50      0.55        12\n",
      "\n",
      "    accuracy                           0.78        72\n",
      "   macro avg       0.81      0.78      0.79        72\n",
      "weighted avg       0.79      0.78      0.78        72\n",
      "\n"
     ]
    }
   ],
   "source": [
    "from sklearn.metrics import accuracy_score, classification_report, confusion_matrix\n",
    "print(\"Random Forest Performance:\")\n",
    "print(\"Accuracy:\", accuracy_score(y_test, y_pred_rf))\n",
    "print(\"Classification Report:\\n\", classification_report(y_test, y_pred_rf))"
   ]
  },
  {
   "cell_type": "markdown",
   "metadata": {
    "cell_id": "de826e6a34584125a9cbff35f76aca89",
    "deepnote_cell_type": "markdown"
   },
   "source": [
    "By using the Random Forest method I was able to achieve a accuracy of 77.8% which is very resonable and leads to the conclusion that there isn't much overfitting within this model. Looking at both the f1-score and the recall from the classification report, we can see that they are both very high which means the model was able to successfully predict the outcome of given temperature and luminosity and associate them with each star type. "
   ]
  },
  {
   "cell_type": "markdown",
   "metadata": {
    "cell_id": "49b4ef1b658044f1918996c27fe2ecb6",
    "deepnote_cell_type": "markdown"
   },
   "source": [
    "## Logistic Regression"
   ]
  },
  {
   "cell_type": "code",
   "execution_count": null,
   "metadata": {
    "cell_id": "c176102e31084e53908697d5f27ea385",
    "deepnote_cell_type": "code",
    "deepnote_to_be_reexecuted": false,
    "execution_millis": 52,
    "execution_start": 1702517029916,
    "source_hash": null
   },
   "outputs": [],
   "source": [
    "from sklearn.linear_model import LogisticRegression\n",
    "\n",
    "X1 = star_data[['temperature', 'luminosity']]\n",
    "y1 = star_data['star_type']\n",
    "\n",
    "clf = LogisticRegression(max_iter=4000)\n",
    "\n",
    "X_train, X_test, y_train, y_test = train_test_split(X1,y1, test_size=0.3, random_state=42)\n",
    "clf.fit(X_train, y_train)\n",
    "y_pred_logistic = clf.predict(X_test)\n"
   ]
  },
  {
   "cell_type": "code",
   "execution_count": null,
   "metadata": {
    "cell_id": "05face141862400f8d5ee90c3cedb8a5",
    "deepnote_cell_type": "code",
    "deepnote_to_be_reexecuted": false,
    "execution_millis": 14,
    "execution_start": 1702517032606,
    "source_hash": null
   },
   "outputs": [
    {
     "name": "stdout",
     "output_type": "stream",
     "text": [
      "Logistic Regression Performance:\n",
      "Accuracy: 0.4861111111111111\n",
      "Classification Report:\n",
      "               precision    recall  f1-score   support\n",
      "\n",
      "           0       0.00      0.00      0.00        14\n",
      "           1       0.00      0.00      0.00        12\n",
      "           2       0.26      1.00      0.42        10\n",
      "           3       0.88      0.70      0.78        10\n",
      "           4       0.57      0.73      0.64        11\n",
      "           5       0.83      0.67      0.74        15\n",
      "\n",
      "    accuracy                           0.49        72\n",
      "   macro avg       0.42      0.52      0.43        72\n",
      "weighted avg       0.42      0.49      0.42        72\n",
      "\n",
      "/shared-libs/python3.9/py/lib/python3.9/site-packages/sklearn/metrics/_classification.py:1334: UndefinedMetricWarning: Precision and F-score are ill-defined and being set to 0.0 in labels with no predicted samples. Use `zero_division` parameter to control this behavior.\n",
      "  _warn_prf(average, modifier, msg_start, len(result))\n",
      "/shared-libs/python3.9/py/lib/python3.9/site-packages/sklearn/metrics/_classification.py:1334: UndefinedMetricWarning: Precision and F-score are ill-defined and being set to 0.0 in labels with no predicted samples. Use `zero_division` parameter to control this behavior.\n",
      "  _warn_prf(average, modifier, msg_start, len(result))\n",
      "/shared-libs/python3.9/py/lib/python3.9/site-packages/sklearn/metrics/_classification.py:1334: UndefinedMetricWarning: Precision and F-score are ill-defined and being set to 0.0 in labels with no predicted samples. Use `zero_division` parameter to control this behavior.\n",
      "  _warn_prf(average, modifier, msg_start, len(result))\n"
     ]
    }
   ],
   "source": [
    "print(\"Logistic Regression Performance:\")\n",
    "print(\"Accuracy:\", accuracy_score(y_test, y_pred_logistic))\n",
    "print(\"Classification Report:\\n\", classification_report(y_test, y_pred_logreg))"
   ]
  },
  {
   "cell_type": "markdown",
   "metadata": {
    "cell_id": "d51481c3787e46978719f90b92681a44",
    "deepnote_cell_type": "markdown"
   },
   "source": [
    "By using the Logisitic Regression method, I was able to only achieve an accuracy of 48.6% which is still quite a resonable accuracy given that it is realtively low and there isn't much overfitting happening within this method. However, looking at the classification matrix, we can see that the f1-scores are lower meaning that this model did a poorer job in prediciting each star type from the given temperature and luminosity. "
   ]
  },
  {
   "cell_type": "markdown",
   "metadata": {
    "cell_id": "8ca934ee7f464459a5650ed79d86e4a4",
    "deepnote_cell_type": "markdown",
    "tags": []
   },
   "source": [
    "## Summary\n",
    "\n",
    "Either summarize what you did, or summarize the results.  Maybe 3 sentences."
   ]
  },
  {
   "cell_type": "markdown",
   "metadata": {
    "cell_id": "25667b84ba324d5a8ecaa66e9d42e94e",
    "deepnote_cell_type": "markdown"
   },
   "source": [
    "After running both the Random Forest model and the Logistic Regression model, I can conclude that using the Random Forest model is a much better model than using the Logisitc Regression model in prediciting star types from temperature and luminosity. Both model's had a resonable accuracy score which means that there wasn't too much overfitting happening in either case. However based off of the classification report, the Random Forest model had a much better overall score with f1-scores which leads to a more accuracte predicition versus the Logistic Regression model. "
   ]
  },
  {
   "cell_type": "markdown",
   "metadata": {
    "cell_id": "63f436ce03a3485d8d4430cd94e343b3",
    "deepnote_cell_type": "markdown",
    "tags": []
   },
   "source": [
    "## References\n",
    "\n",
    "Your code above should include references.  Here is some additional space for references."
   ]
  },
  {
   "cell_type": "markdown",
   "metadata": {
    "cell_id": "a97473f480dd46f39939832e0bfda00e",
    "deepnote_cell_type": "markdown",
    "tags": []
   },
   "source": [
    "* What is the source of your dataset(s)?"
   ]
  },
  {
   "cell_type": "markdown",
   "metadata": {
    "cell_id": "2f474b40015244cf8d111686e14dc8be",
    "deepnote_cell_type": "markdown"
   },
   "source": [
    "Here is the source of the dataset: https://www.kaggle.com/datasets/deepu1109/star-dataset/data\n"
   ]
  },
  {
   "cell_type": "markdown",
   "metadata": {
    "cell_id": "25544d5a5ed34ee28d6f59758f3b18d1",
    "deepnote_cell_type": "markdown",
    "deepnote_to_be_reexecuted": false,
    "execution_millis": 0,
    "execution_start": 1652916033453,
    "source_hash": "aa45eba7",
    "tags": []
   },
   "source": [
    "* List any other references that you found helpful."
   ]
  },
  {
   "cell_type": "markdown",
   "metadata": {
    "cell_id": "fbb727c5fbfe455f93d19e5d1f7577ed",
    "deepnote_cell_type": "markdown"
   },
   "source": [
    " The heat map was adapted from this link: https://www.kaggle.com/code/tshrimp/star-type-classification-randomforest\n",
    " "
   ]
  },
  {
   "cell_type": "markdown",
   "metadata": {
    "cell_id": "fce420f9a309474cbf581d7f6011fc25",
    "deepnote_cell_type": "markdown"
   },
   "source": [
    "The bar graph was adapted from here:https://www.kaggle.com/code/damodarabarbosa/star-type-detection-logistic-regression-97-22\n"
   ]
  },
  {
   "cell_type": "markdown",
   "metadata": {
    "cell_id": "077420b2e5224a059f21ccc064b2dd09",
    "deepnote_cell_type": "markdown"
   },
   "source": [
    "The idea of the altair charts were adapated from here: https://www.kaggle.com/code/damodarabarbosa/star-type-detection-logistic-regression-97-22"
   ]
  }
 ],
 "metadata": {
  "deepnote": {
   "is_reactive": false
  },
  "deepnote_execution_queue": [],
  "deepnote_notebook_id": "db3309b1a63e4b2d952be8a402098e66",
  "deepnote_persisted_session": {
   "createdAt": "2023-12-14T01:45:06.316Z"
  },
  "language_info": {
   "name": "python"
  }
 },
 "nbformat": 4,
 "nbformat_minor": 0
}