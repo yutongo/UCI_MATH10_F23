{
 "cells": [
  {
   "block_group": "ccb6125005f0452a846f5cbb05cb2d76",
   "cell_type": "markdown",
   "metadata": {
    "cell_id": "1c4135be807a418ab0758da8c17edb08",
    "deepnote_cell_type": "markdown"
   },
   "source": [
    "# Week 3 Wednesday\n",
    "\n",
    "\n",
    "* Encoding data types\n",
    "\n",
    "* Other types of charts in Altair\n"
   ]
  },
  {
   "block_group": "d24ac956c3d243cb9ed76035b8b13258",
   "cell_type": "markdown",
   "metadata": {
    "cell_id": "9c6fc6f0faff4c45be7dbc325ad8b1bf",
    "deepnote_cell_type": "markdown"
   },
   "source": [
    "## Encoding data types\n",
    "\n",
    "(This notion of *quantitative* data vs *categorical* data will also be very important when we get to the Machine Learning portion of Math 10.)  Altair chooses different default values depending on the *type* of the data being encoded. These are the 5 types of data distinguished by Altair:\n",
    "\n",
    "| Data Type    | Shorthand Code | Description                       |\n",
    "|--------------|----------------|-----------------------------------|\n",
    "| quantitative | Q              | a continuous real-valued quantity |\n",
    "| ordinal      | O              | a discrete ordered quantity       |\n",
    "| nominal      | N              | a discrete unordered category     |\n",
    "| temporal     | T              | a time or date value              |\n",
    "| geojson      | G              | a geographic shape                |\n",
    "\n",
    "A **quantitative** data type is just an ordinary numeric data type, like floats.  **Ordinal** and **Nominal** data types are **categorical** data types, where the values represent discrete categories or classes.  We use the **Ordinal** designation if the categories have a natural ordering and we use **Nominal** if the categories do not have a natural ordering.  A **Temporal** data type is used for data representing datetime-like values.  The last encoding data type is for geographic values (like for maps)."
   ]
  },
  {
   "block_group": "0fa5a94a6b354b839c211caaf5054894",
   "cell_type": "markdown",
   "metadata": {
    "cell_id": "b9964d11a46d4144bd3540c717c4da3c",
    "deepnote_cell_type": "markdown"
   },
   "source": [
    "* Load the \"mpg\" dataset (`sns.load_dataset`) from Seaborn and name the DataFrame `df`."
   ]
  },
  {
   "block_group": "5f71b6bd136f4df392cee058bce13bf4",
   "cell_type": "code",
   "execution_count": null,
   "metadata": {
    "cell_id": "63986ac9a66d4ea0bd70ba4565e44bf7",
    "deepnote_cell_type": "code",
    "deepnote_to_be_reexecuted": false,
    "execution_millis": 198,
    "execution_start": 1697659153104,
    "source_hash": null
   },
   "outputs": [],
   "source": [
    "import altair as alt"
   ]
  },
  {
   "block_group": "2c312139ead94f04865e817df2d05217",
   "cell_type": "code",
   "execution_count": null,
   "metadata": {
    "cell_id": "5c6be9a86ec64bd0989097476fb6f84d",
    "deepnote_cell_type": "code",
    "deepnote_to_be_reexecuted": false,
    "execution_millis": 14,
    "execution_start": 1697659180409,
    "source_hash": null
   },
   "outputs": [
    {
     "name": "stdout",
     "output_type": "stream",
     "text": [
      "4.2.2\n"
     ]
    }
   ],
   "source": [
    "print(alt.__version__) # check the version of altair "
   ]
  },
  {
   "block_group": "23e07c325ff64422ba9337e0ca551e77",
   "cell_type": "markdown",
   "metadata": {
    "cell_id": "f43a0d80aab1476ea242a5541320b998",
    "deepnote_cell_type": "markdown"
   },
   "source": [
    "Notice: the newest version 5 of Altair has different syntax."
   ]
  },
  {
   "block_group": "038f461b928a42fe97451f58bac374fb",
   "cell_type": "code",
   "execution_count": null,
   "metadata": {
    "cell_id": "ff0d2d6c81a8438e8f15773f07bda46a",
    "deepnote_cell_type": "code",
    "deepnote_to_be_reexecuted": false,
    "execution_millis": 2187,
    "execution_start": 1697659557928,
    "source_hash": null
   },
   "outputs": [],
   "source": [
    "import seaborn as sns\n",
    "df = sns.load_dataset('mpg')"
   ]
  },
  {
   "block_group": "65692ae6b91f47128d61ca1c3f5e62a3",
   "cell_type": "markdown",
   "metadata": {
    "cell_id": "d6f84442cda84297a32475ca6788f13a",
    "deepnote_cell_type": "markdown"
   },
   "source": [
    "* Find the sub-DataFrame for which the name of the car contains the substring \"skylark\".  Name the sub-DataFrame `df_sub`.  (Reminder.  Use `str` and `contains`.)\n",
    "\n"
   ]
  },
  {
   "block_group": "9dc44371c6164b3585d39430dfff50a9",
   "cell_type": "code",
   "execution_count": null,
   "metadata": {
    "cell_id": "3af21356cfec4d988da7d005ef0b109f",
    "deepnote_cell_type": "code",
    "deepnote_to_be_reexecuted": false,
    "execution_millis": 132,
    "execution_start": 1697659606744,
    "source_hash": null
   },
   "outputs": [
    {
     "data": {
      "application/vnd.deepnote.dataframe.v3+json": {
       "column_count": 9,
       "columns": [
        {
         "dtype": "float64",
         "name": "mpg",
         "stats": {
          "histogram": [
           {
            "bin_end": 15.3,
            "bin_start": 15,
            "count": 1
           },
           {
            "bin_end": 15.6,
            "bin_start": 15.3,
            "count": 0
           },
           {
            "bin_end": 15.9,
            "bin_start": 15.6,
            "count": 0
           },
           {
            "bin_end": 16.2,
            "bin_start": 15.9,
            "count": 1
           },
           {
            "bin_end": 16.5,
            "bin_start": 16.2,
            "count": 0
           },
           {
            "bin_end": 16.8,
            "bin_start": 16.5,
            "count": 0
           },
           {
            "bin_end": 17.1,
            "bin_start": 16.8,
            "count": 1
           },
           {
            "bin_end": 17.4,
            "bin_start": 17.1,
            "count": 0
           },
           {
            "bin_end": 17.7,
            "bin_start": 17.4,
            "count": 0
           },
           {
            "bin_end": 18,
            "bin_start": 17.7,
            "count": 2
           }
          ],
          "max": "18.0",
          "min": "15.0",
          "nan_count": 0,
          "unique_count": 4
         }
        },
        {
         "dtype": "int64",
         "name": "cylinders",
         "stats": {
          "histogram": [
           {
            "bin_end": 7.6,
            "bin_start": 7.5,
            "count": 0
           },
           {
            "bin_end": 7.7,
            "bin_start": 7.6,
            "count": 0
           },
           {
            "bin_end": 7.8,
            "bin_start": 7.7,
            "count": 0
           },
           {
            "bin_end": 7.9,
            "bin_start": 7.8,
            "count": 0
           },
           {
            "bin_end": 8,
            "bin_start": 7.9,
            "count": 0
           },
           {
            "bin_end": 8.1,
            "bin_start": 8,
            "count": 5
           },
           {
            "bin_end": 8.2,
            "bin_start": 8.1,
            "count": 0
           },
           {
            "bin_end": 8.3,
            "bin_start": 8.2,
            "count": 0
           },
           {
            "bin_end": 8.4,
            "bin_start": 8.3,
            "count": 0
           },
           {
            "bin_end": 8.5,
            "bin_start": 8.4,
            "count": 0
           }
          ],
          "max": "8",
          "min": "8",
          "nan_count": 0,
          "unique_count": 1
         }
        },
        {
         "dtype": "float64",
         "name": "displacement",
         "stats": {
          "histogram": [
           {
            "bin_end": 306.8,
            "bin_start": 302,
            "count": 2
           },
           {
            "bin_end": 311.6,
            "bin_start": 306.8,
            "count": 1
           },
           {
            "bin_end": 316.4,
            "bin_start": 311.6,
            "count": 0
           },
           {
            "bin_end": 321.2,
            "bin_start": 316.4,
            "count": 1
           },
           {
            "bin_end": 326,
            "bin_start": 321.2,
            "count": 0
           },
           {
            "bin_end": 330.8,
            "bin_start": 326,
            "count": 0
           },
           {
            "bin_end": 335.6,
            "bin_start": 330.8,
            "count": 0
           },
           {
            "bin_end": 340.4,
            "bin_start": 335.6,
            "count": 0
           },
           {
            "bin_end": 345.2,
            "bin_start": 340.4,
            "count": 0
           },
           {
            "bin_end": 350,
            "bin_start": 345.2,
            "count": 1
           }
          ],
          "max": "350.0",
          "min": "302.0",
          "nan_count": 0,
          "unique_count": 5
         }
        },
        {
         "dtype": "float64",
         "name": "horsepower",
         "stats": {
          "histogram": [
           {
            "bin_end": 133.5,
            "bin_start": 130,
            "count": 1
           },
           {
            "bin_end": 137,
            "bin_start": 133.5,
            "count": 0
           },
           {
            "bin_end": 140.5,
            "bin_start": 137,
            "count": 1
           },
           {
            "bin_end": 144,
            "bin_start": 140.5,
            "count": 0
           },
           {
            "bin_end": 147.5,
            "bin_start": 144,
            "count": 0
           },
           {
            "bin_end": 151,
            "bin_start": 147.5,
            "count": 2
           },
           {
            "bin_end": 154.5,
            "bin_start": 151,
            "count": 0
           },
           {
            "bin_end": 158,
            "bin_start": 154.5,
            "count": 0
           },
           {
            "bin_end": 161.5,
            "bin_start": 158,
            "count": 0
           },
           {
            "bin_end": 165,
            "bin_start": 161.5,
            "count": 1
           }
          ],
          "max": "165.0",
          "min": "130.0",
          "nan_count": 0,
          "unique_count": 4
         }
        },
        {
         "dtype": "int64",
         "name": "weight",
         "stats": {
          "histogram": [
           {
            "bin_end": 3459,
            "bin_start": 3433,
            "count": 3
           },
           {
            "bin_end": 3485,
            "bin_start": 3459,
            "count": 0
           },
           {
            "bin_end": 3511,
            "bin_start": 3485,
            "count": 1
           },
           {
            "bin_end": 3537,
            "bin_start": 3511,
            "count": 0
           },
           {
            "bin_end": 3563,
            "bin_start": 3537,
            "count": 0
           },
           {
            "bin_end": 3589,
            "bin_start": 3563,
            "count": 0
           },
           {
            "bin_end": 3615,
            "bin_start": 3589,
            "count": 0
           },
           {
            "bin_end": 3641,
            "bin_start": 3615,
            "count": 0
           },
           {
            "bin_end": 3667,
            "bin_start": 3641,
            "count": 0
           },
           {
            "bin_end": 3693,
            "bin_start": 3667,
            "count": 1
           }
          ],
          "max": "3693",
          "min": "3433",
          "nan_count": 0,
          "unique_count": 5
         }
        },
        {
         "dtype": "float64",
         "name": "acceleration",
         "stats": {
          "histogram": [
           {
            "bin_end": 10.65,
            "bin_start": 10.5,
            "count": 1
           },
           {
            "bin_end": 10.8,
            "bin_start": 10.65,
            "count": 0
           },
           {
            "bin_end": 10.95,
            "bin_start": 10.8,
            "count": 0
           },
           {
            "bin_end": 11.1,
            "bin_start": 10.95,
            "count": 1
           },
           {
            "bin_end": 11.25,
            "bin_start": 11.1,
            "count": 0
           },
           {
            "bin_end": 11.4,
            "bin_start": 11.25,
            "count": 0
           },
           {
            "bin_end": 11.55,
            "bin_start": 11.4,
            "count": 1
           },
           {
            "bin_end": 11.7,
            "bin_start": 11.55,
            "count": 0
           },
           {
            "bin_end": 11.85,
            "bin_start": 11.7,
            "count": 0
           },
           {
            "bin_end": 12,
            "bin_start": 11.85,
            "count": 2
           }
          ],
          "max": "12.0",
          "min": "10.5",
          "nan_count": 0,
          "unique_count": 4
         }
        },
        {
         "dtype": "int64",
         "name": "model_year",
         "stats": {
          "histogram": [
           {
            "bin_end": 69.6,
            "bin_start": 69.5,
            "count": 0
           },
           {
            "bin_end": 69.7,
            "bin_start": 69.6,
            "count": 0
           },
           {
            "bin_end": 69.8,
            "bin_start": 69.7,
            "count": 0
           },
           {
            "bin_end": 69.9,
            "bin_start": 69.8,
            "count": 0
           },
           {
            "bin_end": 70,
            "bin_start": 69.9,
            "count": 0
           },
           {
            "bin_end": 70.1,
            "bin_start": 70,
            "count": 5
           },
           {
            "bin_end": 70.2,
            "bin_start": 70.1,
            "count": 0
           },
           {
            "bin_end": 70.3,
            "bin_start": 70.2,
            "count": 0
           },
           {
            "bin_end": 70.4,
            "bin_start": 70.3,
            "count": 0
           },
           {
            "bin_end": 70.5,
            "bin_start": 70.4,
            "count": 0
           }
          ],
          "max": "70",
          "min": "70",
          "nan_count": 0,
          "unique_count": 1
         }
        },
        {
         "dtype": "object",
         "name": "origin",
         "stats": {
          "categories": [
           {
            "count": 5,
            "name": "usa"
           }
          ],
          "nan_count": 0,
          "unique_count": 1
         }
        },
        {
         "dtype": "object",
         "name": "name",
         "stats": {
          "categories": [
           {
            "count": 1,
            "name": "chevrolet chevelle malibu"
           },
           {
            "count": 1,
            "name": "buick skylark 320"
           },
           {
            "count": 3,
            "name": "3 others"
           }
          ],
          "nan_count": 0,
          "unique_count": 5
         }
        },
        {
         "dtype": "int64",
         "name": "_deepnote_index_column"
        }
       ],
       "row_count": 5,
       "rows": [
        {
         "_deepnote_index_column": 0,
         "acceleration": 12,
         "cylinders": 8,
         "displacement": 307,
         "horsepower": 130,
         "model_year": 70,
         "mpg": 18,
         "name": "chevrolet chevelle malibu",
         "origin": "usa",
         "weight": 3504
        },
        {
         "_deepnote_index_column": 1,
         "acceleration": 11.5,
         "cylinders": 8,
         "displacement": 350,
         "horsepower": 165,
         "model_year": 70,
         "mpg": 15,
         "name": "buick skylark 320",
         "origin": "usa",
         "weight": 3693
        },
        {
         "_deepnote_index_column": 2,
         "acceleration": 11,
         "cylinders": 8,
         "displacement": 318,
         "horsepower": 150,
         "model_year": 70,
         "mpg": 18,
         "name": "plymouth satellite",
         "origin": "usa",
         "weight": 3436
        },
        {
         "_deepnote_index_column": 3,
         "acceleration": 12,
         "cylinders": 8,
         "displacement": 304,
         "horsepower": 150,
         "model_year": 70,
         "mpg": 16,
         "name": "amc rebel sst",
         "origin": "usa",
         "weight": 3433
        },
        {
         "_deepnote_index_column": 4,
         "acceleration": 10.5,
         "cylinders": 8,
         "displacement": 302,
         "horsepower": 140,
         "model_year": 70,
         "mpg": 17,
         "name": "ford torino",
         "origin": "usa",
         "weight": 3449
        }
       ]
      },
      "text/html": [
       "<div>\n",
       "<style scoped>\n",
       "    .dataframe tbody tr th:only-of-type {\n",
       "        vertical-align: middle;\n",
       "    }\n",
       "\n",
       "    .dataframe tbody tr th {\n",
       "        vertical-align: top;\n",
       "    }\n",
       "\n",
       "    .dataframe thead th {\n",
       "        text-align: right;\n",
       "    }\n",
       "</style>\n",
       "<table border=\"1\" class=\"dataframe\">\n",
       "  <thead>\n",
       "    <tr style=\"text-align: right;\">\n",
       "      <th></th>\n",
       "      <th>mpg</th>\n",
       "      <th>cylinders</th>\n",
       "      <th>displacement</th>\n",
       "      <th>horsepower</th>\n",
       "      <th>weight</th>\n",
       "      <th>acceleration</th>\n",
       "      <th>model_year</th>\n",
       "      <th>origin</th>\n",
       "      <th>name</th>\n",
       "    </tr>\n",
       "  </thead>\n",
       "  <tbody>\n",
       "    <tr>\n",
       "      <th>0</th>\n",
       "      <td>18.0</td>\n",
       "      <td>8</td>\n",
       "      <td>307.0</td>\n",
       "      <td>130.0</td>\n",
       "      <td>3504</td>\n",
       "      <td>12.0</td>\n",
       "      <td>70</td>\n",
       "      <td>usa</td>\n",
       "      <td>chevrolet chevelle malibu</td>\n",
       "    </tr>\n",
       "    <tr>\n",
       "      <th>1</th>\n",
       "      <td>15.0</td>\n",
       "      <td>8</td>\n",
       "      <td>350.0</td>\n",
       "      <td>165.0</td>\n",
       "      <td>3693</td>\n",
       "      <td>11.5</td>\n",
       "      <td>70</td>\n",
       "      <td>usa</td>\n",
       "      <td>buick skylark 320</td>\n",
       "    </tr>\n",
       "    <tr>\n",
       "      <th>2</th>\n",
       "      <td>18.0</td>\n",
       "      <td>8</td>\n",
       "      <td>318.0</td>\n",
       "      <td>150.0</td>\n",
       "      <td>3436</td>\n",
       "      <td>11.0</td>\n",
       "      <td>70</td>\n",
       "      <td>usa</td>\n",
       "      <td>plymouth satellite</td>\n",
       "    </tr>\n",
       "    <tr>\n",
       "      <th>3</th>\n",
       "      <td>16.0</td>\n",
       "      <td>8</td>\n",
       "      <td>304.0</td>\n",
       "      <td>150.0</td>\n",
       "      <td>3433</td>\n",
       "      <td>12.0</td>\n",
       "      <td>70</td>\n",
       "      <td>usa</td>\n",
       "      <td>amc rebel sst</td>\n",
       "    </tr>\n",
       "    <tr>\n",
       "      <th>4</th>\n",
       "      <td>17.0</td>\n",
       "      <td>8</td>\n",
       "      <td>302.0</td>\n",
       "      <td>140.0</td>\n",
       "      <td>3449</td>\n",
       "      <td>10.5</td>\n",
       "      <td>70</td>\n",
       "      <td>usa</td>\n",
       "      <td>ford torino</td>\n",
       "    </tr>\n",
       "  </tbody>\n",
       "</table>\n",
       "</div>"
      ],
      "text/plain": [
       "    mpg  cylinders  displacement  horsepower  weight  acceleration  \\\n",
       "0  18.0          8         307.0       130.0    3504          12.0   \n",
       "1  15.0          8         350.0       165.0    3693          11.5   \n",
       "2  18.0          8         318.0       150.0    3436          11.0   \n",
       "3  16.0          8         304.0       150.0    3433          12.0   \n",
       "4  17.0          8         302.0       140.0    3449          10.5   \n",
       "\n",
       "   model_year origin                       name  \n",
       "0          70    usa  chevrolet chevelle malibu  \n",
       "1          70    usa          buick skylark 320  \n",
       "2          70    usa         plymouth satellite  \n",
       "3          70    usa              amc rebel sst  \n",
       "4          70    usa                ford torino  "
      ]
     },
     "execution_count": 4,
     "metadata": {},
     "output_type": "execute_result"
    }
   ],
   "source": [
    "df.head(5)"
   ]
  },
  {
   "block_group": "2f66430258784cbbad39bddfc722df2f",
   "cell_type": "code",
   "execution_count": null,
   "metadata": {
    "cell_id": "e3e9d1c2e7654671aa65ca56688236eb",
    "deepnote_cell_type": "code",
    "deepnote_to_be_reexecuted": false,
    "execution_millis": 168,
    "execution_start": 1697659649324,
    "source_hash": null
   },
   "outputs": [
    {
     "data": {
      "application/vnd.deepnote.dataframe.v3+json": {
       "column_count": 9,
       "columns": [
        {
         "dtype": "float64",
         "name": "mpg",
         "stats": {
          "histogram": [
           {
            "bin_end": 16.34,
            "bin_start": 15,
            "count": 1
           },
           {
            "bin_end": 17.68,
            "bin_start": 16.34,
            "count": 0
           },
           {
            "bin_end": 19.02,
            "bin_start": 17.68,
            "count": 0
           },
           {
            "bin_end": 20.36,
            "bin_start": 19.02,
            "count": 0
           },
           {
            "bin_end": 21.7,
            "bin_start": 20.36,
            "count": 1
           },
           {
            "bin_end": 23.04,
            "bin_start": 21.7,
            "count": 0
           },
           {
            "bin_end": 24.38,
            "bin_start": 23.04,
            "count": 0
           },
           {
            "bin_end": 25.72,
            "bin_start": 24.38,
            "count": 0
           },
           {
            "bin_end": 27.06,
            "bin_start": 25.72,
            "count": 1
           },
           {
            "bin_end": 28.4,
            "bin_start": 27.06,
            "count": 1
           }
          ],
          "max": "28.4",
          "min": "15.0",
          "nan_count": 0,
          "unique_count": 4
         }
        },
        {
         "dtype": "int64",
         "name": "cylinders",
         "stats": {
          "histogram": [
           {
            "bin_end": 4.4,
            "bin_start": 4,
            "count": 2
           },
           {
            "bin_end": 4.8,
            "bin_start": 4.4,
            "count": 0
           },
           {
            "bin_end": 5.2,
            "bin_start": 4.8,
            "count": 0
           },
           {
            "bin_end": 5.6,
            "bin_start": 5.2,
            "count": 0
           },
           {
            "bin_end": 6,
            "bin_start": 5.6,
            "count": 0
           },
           {
            "bin_end": 6.4,
            "bin_start": 6,
            "count": 1
           },
           {
            "bin_end": 6.800000000000001,
            "bin_start": 6.4,
            "count": 0
           },
           {
            "bin_end": 7.2,
            "bin_start": 6.800000000000001,
            "count": 0
           },
           {
            "bin_end": 7.6,
            "bin_start": 7.2,
            "count": 0
           },
           {
            "bin_end": 8,
            "bin_start": 7.6,
            "count": 1
           }
          ],
          "max": "8",
          "min": "4",
          "nan_count": 0,
          "unique_count": 3
         }
        },
        {
         "dtype": "float64",
         "name": "displacement",
         "stats": {
          "histogram": [
           {
            "bin_end": 170.9,
            "bin_start": 151,
            "count": 2
           },
           {
            "bin_end": 190.8,
            "bin_start": 170.9,
            "count": 0
           },
           {
            "bin_end": 210.7,
            "bin_start": 190.8,
            "count": 0
           },
           {
            "bin_end": 230.6,
            "bin_start": 210.7,
            "count": 0
           },
           {
            "bin_end": 250.5,
            "bin_start": 230.6,
            "count": 1
           },
           {
            "bin_end": 270.4,
            "bin_start": 250.5,
            "count": 0
           },
           {
            "bin_end": 290.29999999999995,
            "bin_start": 270.4,
            "count": 0
           },
           {
            "bin_end": 310.2,
            "bin_start": 290.29999999999995,
            "count": 0
           },
           {
            "bin_end": 330.1,
            "bin_start": 310.2,
            "count": 0
           },
           {
            "bin_end": 350,
            "bin_start": 330.1,
            "count": 1
           }
          ],
          "max": "350.0",
          "min": "151.0",
          "nan_count": 0,
          "unique_count": 3
         }
        },
        {
         "dtype": "float64",
         "name": "horsepower",
         "stats": {
          "histogram": [
           {
            "bin_end": 92.1,
            "bin_start": 84,
            "count": 2
           },
           {
            "bin_end": 100.2,
            "bin_start": 92.1,
            "count": 0
           },
           {
            "bin_end": 108.3,
            "bin_start": 100.2,
            "count": 1
           },
           {
            "bin_end": 116.4,
            "bin_start": 108.3,
            "count": 0
           },
           {
            "bin_end": 124.5,
            "bin_start": 116.4,
            "count": 0
           },
           {
            "bin_end": 132.6,
            "bin_start": 124.5,
            "count": 0
           },
           {
            "bin_end": 140.7,
            "bin_start": 132.6,
            "count": 0
           },
           {
            "bin_end": 148.8,
            "bin_start": 140.7,
            "count": 0
           },
           {
            "bin_end": 156.89999999999998,
            "bin_start": 148.8,
            "count": 0
           },
           {
            "bin_end": 165,
            "bin_start": 156.89999999999998,
            "count": 1
           }
          ],
          "max": "165.0",
          "min": "84.0",
          "nan_count": 0,
          "unique_count": 4
         }
        },
        {
         "dtype": "int64",
         "name": "weight",
         "stats": {
          "histogram": [
           {
            "bin_end": 2740.8,
            "bin_start": 2635,
            "count": 2
           },
           {
            "bin_end": 2846.6,
            "bin_start": 2740.8,
            "count": 0
           },
           {
            "bin_end": 2952.4,
            "bin_start": 2846.6,
            "count": 0
           },
           {
            "bin_end": 3058.2,
            "bin_start": 2952.4,
            "count": 0
           },
           {
            "bin_end": 3164,
            "bin_start": 3058.2,
            "count": 0
           },
           {
            "bin_end": 3269.8,
            "bin_start": 3164,
            "count": 0
           },
           {
            "bin_end": 3375.6,
            "bin_start": 3269.8,
            "count": 0
           },
           {
            "bin_end": 3481.4,
            "bin_start": 3375.6,
            "count": 1
           },
           {
            "bin_end": 3587.2,
            "bin_start": 3481.4,
            "count": 0
           },
           {
            "bin_end": 3693,
            "bin_start": 3587.2,
            "count": 1
           }
          ],
          "max": "3693",
          "min": "2635",
          "nan_count": 0,
          "unique_count": 4
         }
        },
        {
         "dtype": "float64",
         "name": "acceleration",
         "stats": {
          "histogram": [
           {
            "bin_end": 12.04,
            "bin_start": 11.5,
            "count": 1
           },
           {
            "bin_end": 12.58,
            "bin_start": 12.04,
            "count": 0
           },
           {
            "bin_end": 13.12,
            "bin_start": 12.58,
            "count": 0
           },
           {
            "bin_end": 13.66,
            "bin_start": 13.12,
            "count": 0
           },
           {
            "bin_end": 14.2,
            "bin_start": 13.66,
            "count": 0
           },
           {
            "bin_end": 14.739999999999998,
            "bin_start": 14.2,
            "count": 0
           },
           {
            "bin_end": 15.279999999999998,
            "bin_start": 14.739999999999998,
            "count": 0
           },
           {
            "bin_end": 15.819999999999999,
            "bin_start": 15.279999999999998,
            "count": 0
           },
           {
            "bin_end": 16.36,
            "bin_start": 15.819999999999999,
            "count": 1
           },
           {
            "bin_end": 16.9,
            "bin_start": 16.36,
            "count": 2
           }
          ],
          "max": "16.9",
          "min": "11.5",
          "nan_count": 0,
          "unique_count": 4
         }
        },
        {
         "dtype": "int64",
         "name": "model_year",
         "stats": {
          "histogram": [
           {
            "bin_end": 71.1,
            "bin_start": 70,
            "count": 1
           },
           {
            "bin_end": 72.2,
            "bin_start": 71.1,
            "count": 0
           },
           {
            "bin_end": 73.3,
            "bin_start": 72.2,
            "count": 0
           },
           {
            "bin_end": 74.4,
            "bin_start": 73.3,
            "count": 0
           },
           {
            "bin_end": 75.5,
            "bin_start": 74.4,
            "count": 0
           },
           {
            "bin_end": 76.6,
            "bin_start": 75.5,
            "count": 0
           },
           {
            "bin_end": 77.7,
            "bin_start": 76.6,
            "count": 1
           },
           {
            "bin_end": 78.8,
            "bin_start": 77.7,
            "count": 0
           },
           {
            "bin_end": 79.9,
            "bin_start": 78.8,
            "count": 1
           },
           {
            "bin_end": 81,
            "bin_start": 79.9,
            "count": 1
           }
          ],
          "max": "81",
          "min": "70",
          "nan_count": 0,
          "unique_count": 4
         }
        },
        {
         "dtype": "object",
         "name": "origin",
         "stats": {
          "categories": [
           {
            "count": 4,
            "name": "usa"
           }
          ],
          "nan_count": 0,
          "unique_count": 1
         }
        },
        {
         "dtype": "object",
         "name": "name",
         "stats": {
          "categories": [
           {
            "count": 2,
            "name": "buick skylark"
           },
           {
            "count": 1,
            "name": "buick skylark 320"
           },
           {
            "count": 1,
            "name": "buick skylark limited"
           }
          ],
          "nan_count": 0,
          "unique_count": 3
         }
        },
        {
         "dtype": "int64",
         "name": "_deepnote_index_column"
        }
       ],
       "row_count": 4,
       "rows": [
        {
         "_deepnote_index_column": 1,
         "acceleration": 11.5,
         "cylinders": 8,
         "displacement": 350,
         "horsepower": 165,
         "model_year": 70,
         "mpg": 15,
         "name": "buick skylark 320",
         "origin": "usa",
         "weight": 3693
        },
        {
         "_deepnote_index_column": 226,
         "acceleration": 16.9,
         "cylinders": 6,
         "displacement": 231,
         "horsepower": 105,
         "model_year": 77,
         "mpg": 20.5,
         "name": "buick skylark",
         "origin": "usa",
         "weight": 3425
        },
        {
         "_deepnote_index_column": 305,
         "acceleration": 16,
         "cylinders": 4,
         "displacement": 151,
         "horsepower": 90,
         "model_year": 79,
         "mpg": 28.4,
         "name": "buick skylark limited",
         "origin": "usa",
         "weight": 2670
        },
        {
         "_deepnote_index_column": 339,
         "acceleration": 16.4,
         "cylinders": 4,
         "displacement": 151,
         "horsepower": 84,
         "model_year": 81,
         "mpg": 26.6,
         "name": "buick skylark",
         "origin": "usa",
         "weight": 2635
        }
       ]
      },
      "text/html": [
       "<div>\n",
       "<style scoped>\n",
       "    .dataframe tbody tr th:only-of-type {\n",
       "        vertical-align: middle;\n",
       "    }\n",
       "\n",
       "    .dataframe tbody tr th {\n",
       "        vertical-align: top;\n",
       "    }\n",
       "\n",
       "    .dataframe thead th {\n",
       "        text-align: right;\n",
       "    }\n",
       "</style>\n",
       "<table border=\"1\" class=\"dataframe\">\n",
       "  <thead>\n",
       "    <tr style=\"text-align: right;\">\n",
       "      <th></th>\n",
       "      <th>mpg</th>\n",
       "      <th>cylinders</th>\n",
       "      <th>displacement</th>\n",
       "      <th>horsepower</th>\n",
       "      <th>weight</th>\n",
       "      <th>acceleration</th>\n",
       "      <th>model_year</th>\n",
       "      <th>origin</th>\n",
       "      <th>name</th>\n",
       "    </tr>\n",
       "  </thead>\n",
       "  <tbody>\n",
       "    <tr>\n",
       "      <th>1</th>\n",
       "      <td>15.0</td>\n",
       "      <td>8</td>\n",
       "      <td>350.0</td>\n",
       "      <td>165.0</td>\n",
       "      <td>3693</td>\n",
       "      <td>11.5</td>\n",
       "      <td>70</td>\n",
       "      <td>usa</td>\n",
       "      <td>buick skylark 320</td>\n",
       "    </tr>\n",
       "    <tr>\n",
       "      <th>226</th>\n",
       "      <td>20.5</td>\n",
       "      <td>6</td>\n",
       "      <td>231.0</td>\n",
       "      <td>105.0</td>\n",
       "      <td>3425</td>\n",
       "      <td>16.9</td>\n",
       "      <td>77</td>\n",
       "      <td>usa</td>\n",
       "      <td>buick skylark</td>\n",
       "    </tr>\n",
       "    <tr>\n",
       "      <th>305</th>\n",
       "      <td>28.4</td>\n",
       "      <td>4</td>\n",
       "      <td>151.0</td>\n",
       "      <td>90.0</td>\n",
       "      <td>2670</td>\n",
       "      <td>16.0</td>\n",
       "      <td>79</td>\n",
       "      <td>usa</td>\n",
       "      <td>buick skylark limited</td>\n",
       "    </tr>\n",
       "    <tr>\n",
       "      <th>339</th>\n",
       "      <td>26.6</td>\n",
       "      <td>4</td>\n",
       "      <td>151.0</td>\n",
       "      <td>84.0</td>\n",
       "      <td>2635</td>\n",
       "      <td>16.4</td>\n",
       "      <td>81</td>\n",
       "      <td>usa</td>\n",
       "      <td>buick skylark</td>\n",
       "    </tr>\n",
       "  </tbody>\n",
       "</table>\n",
       "</div>"
      ],
      "text/plain": [
       "      mpg  cylinders  displacement  horsepower  weight  acceleration  \\\n",
       "1    15.0          8         350.0       165.0    3693          11.5   \n",
       "226  20.5          6         231.0       105.0    3425          16.9   \n",
       "305  28.4          4         151.0        90.0    2670          16.0   \n",
       "339  26.6          4         151.0        84.0    2635          16.4   \n",
       "\n",
       "     model_year origin                   name  \n",
       "1            70    usa      buick skylark 320  \n",
       "226          77    usa          buick skylark  \n",
       "305          79    usa  buick skylark limited  \n",
       "339          81    usa          buick skylark  "
      ]
     },
     "execution_count": 5,
     "metadata": {},
     "output_type": "execute_result"
    }
   ],
   "source": [
    "#Boolean indexing to get the appropriate sub-DataFrame\n",
    "df_sub = df[df[\"name\"].str.contains(\"skylark\")]\n",
    "df_sub"
   ]
  },
  {
   "block_group": "67cd73103d8941e4a61c781c0d7fa9f8",
   "cell_type": "markdown",
   "metadata": {
    "cell_id": "5636461a9a634d4cbda9019c04268160",
    "deepnote_cell_type": "markdown"
   },
   "source": [
    "* Make a scatter plot in Altair from this sub-DataFrame using the \"model_year\" for both the x-coordinate and the color, and using \"mpg\" for the y-coordinate.  (We can increase the size of the points, and remove zero from the x-axis, to make it easier to see.)"
   ]
  },
  {
   "block_group": "44a0a5bca299411d9ad088ec2290cc8d",
   "cell_type": "code",
   "execution_count": null,
   "metadata": {
    "cell_id": "a3d5cf9c73674ce092c5ca45ae95f822",
    "deepnote_cell_type": "code",
    "deepnote_to_be_reexecuted": false,
    "execution_millis": 273,
    "execution_start": 1697659774934,
    "source_hash": null
   },
   "outputs": [
    {
     "data": {
      "text/html": [
       "\n",
       "<div id=\"altair-viz-6849e75ffb464f02bca05ce248277487\"></div>\n",
       "<script type=\"text/javascript\">\n",
       "  var VEGA_DEBUG = (typeof VEGA_DEBUG == \"undefined\") ? {} : VEGA_DEBUG;\n",
       "  (function(spec, embedOpt){\n",
       "    let outputDiv = document.currentScript.previousElementSibling;\n",
       "    if (outputDiv.id !== \"altair-viz-6849e75ffb464f02bca05ce248277487\") {\n",
       "      outputDiv = document.getElementById(\"altair-viz-6849e75ffb464f02bca05ce248277487\");\n",
       "    }\n",
       "    const paths = {\n",
       "      \"vega\": \"https://cdn.jsdelivr.net/npm//vega@5?noext\",\n",
       "      \"vega-lib\": \"https://cdn.jsdelivr.net/npm//vega-lib?noext\",\n",
       "      \"vega-lite\": \"https://cdn.jsdelivr.net/npm//vega-lite@4.17.0?noext\",\n",
       "      \"vega-embed\": \"https://cdn.jsdelivr.net/npm//vega-embed@6?noext\",\n",
       "    };\n",
       "\n",
       "    function maybeLoadScript(lib, version) {\n",
       "      var key = `${lib.replace(\"-\", \"\")}_version`;\n",
       "      return (VEGA_DEBUG[key] == version) ?\n",
       "        Promise.resolve(paths[lib]) :\n",
       "        new Promise(function(resolve, reject) {\n",
       "          var s = document.createElement('script');\n",
       "          document.getElementsByTagName(\"head\")[0].appendChild(s);\n",
       "          s.async = true;\n",
       "          s.onload = () => {\n",
       "            VEGA_DEBUG[key] = version;\n",
       "            return resolve(paths[lib]);\n",
       "          };\n",
       "          s.onerror = () => reject(`Error loading script: ${paths[lib]}`);\n",
       "          s.src = paths[lib];\n",
       "        });\n",
       "    }\n",
       "\n",
       "    function showError(err) {\n",
       "      outputDiv.innerHTML = `<div class=\"error\" style=\"color:red;\">${err}</div>`;\n",
       "      throw err;\n",
       "    }\n",
       "\n",
       "    function displayChart(vegaEmbed) {\n",
       "      vegaEmbed(outputDiv, spec, embedOpt)\n",
       "        .catch(err => showError(`Javascript Error: ${err.message}<br>This usually means there's a typo in your chart specification. See the javascript console for the full traceback.`));\n",
       "    }\n",
       "\n",
       "    if(typeof define === \"function\" && define.amd) {\n",
       "      requirejs.config({paths});\n",
       "      require([\"vega-embed\"], displayChart, err => showError(`Error loading script: ${err.message}`));\n",
       "    } else {\n",
       "      maybeLoadScript(\"vega\", \"5\")\n",
       "        .then(() => maybeLoadScript(\"vega-lite\", \"4.17.0\"))\n",
       "        .then(() => maybeLoadScript(\"vega-embed\", \"6\"))\n",
       "        .catch(showError)\n",
       "        .then(() => displayChart(vegaEmbed));\n",
       "    }\n",
       "  })({\"config\": {\"view\": {\"continuousWidth\": 400, \"continuousHeight\": 300}}, \"data\": {\"name\": \"data-7ffbcbecac7f7ca6a3511d1629ed0214\"}, \"mark\": \"circle\", \"encoding\": {\"color\": {\"field\": \"model_year\", \"type\": \"quantitative\"}, \"x\": {\"field\": \"model_year\", \"type\": \"quantitative\"}, \"y\": {\"field\": \"mpg\", \"type\": \"quantitative\"}}, \"$schema\": \"https://vega.github.io/schema/vega-lite/v4.17.0.json\", \"datasets\": {\"data-7ffbcbecac7f7ca6a3511d1629ed0214\": [{\"mpg\": 15.0, \"cylinders\": 8, \"displacement\": 350.0, \"horsepower\": 165.0, \"weight\": 3693, \"acceleration\": 11.5, \"model_year\": 70, \"origin\": \"usa\", \"name\": \"buick skylark 320\"}, {\"mpg\": 20.5, \"cylinders\": 6, \"displacement\": 231.0, \"horsepower\": 105.0, \"weight\": 3425, \"acceleration\": 16.9, \"model_year\": 77, \"origin\": \"usa\", \"name\": \"buick skylark\"}, {\"mpg\": 28.4, \"cylinders\": 4, \"displacement\": 151.0, \"horsepower\": 90.0, \"weight\": 2670, \"acceleration\": 16.0, \"model_year\": 79, \"origin\": \"usa\", \"name\": \"buick skylark limited\"}, {\"mpg\": 26.6, \"cylinders\": 4, \"displacement\": 151.0, \"horsepower\": 84.0, \"weight\": 2635, \"acceleration\": 16.4, \"model_year\": 81, \"origin\": \"usa\", \"name\": \"buick skylark\"}]}}, {\"mode\": \"vega-lite\"});\n",
       "</script>"
      ],
      "text/plain": [
       "alt.Chart(...)"
      ]
     },
     "execution_count": 6,
     "metadata": {},
     "output_type": "execute_result"
    }
   ],
   "source": [
    "alt.Chart(df_sub).mark_circle().encode(\n",
    "    x = \"model_year\",\n",
    "    y = \"mpg\",\n",
    "    color = \"model_year\"\n",
    ")"
   ]
  },
  {
   "block_group": "7c985b2355df47f58f7bf1175c021f15",
   "cell_type": "code",
   "execution_count": null,
   "metadata": {
    "cell_id": "f2e092bd79034181b5840c522a19ea3c",
    "deepnote_cell_type": "code",
    "deepnote_to_be_reexecuted": false,
    "execution_millis": 225,
    "execution_start": 1697659888690,
    "source_hash": null
   },
   "outputs": [
    {
     "data": {
      "text/html": [
       "\n",
       "<div id=\"altair-viz-c17a2084ea8f4d6787a57a8c8d618eb6\"></div>\n",
       "<script type=\"text/javascript\">\n",
       "  var VEGA_DEBUG = (typeof VEGA_DEBUG == \"undefined\") ? {} : VEGA_DEBUG;\n",
       "  (function(spec, embedOpt){\n",
       "    let outputDiv = document.currentScript.previousElementSibling;\n",
       "    if (outputDiv.id !== \"altair-viz-c17a2084ea8f4d6787a57a8c8d618eb6\") {\n",
       "      outputDiv = document.getElementById(\"altair-viz-c17a2084ea8f4d6787a57a8c8d618eb6\");\n",
       "    }\n",
       "    const paths = {\n",
       "      \"vega\": \"https://cdn.jsdelivr.net/npm//vega@5?noext\",\n",
       "      \"vega-lib\": \"https://cdn.jsdelivr.net/npm//vega-lib?noext\",\n",
       "      \"vega-lite\": \"https://cdn.jsdelivr.net/npm//vega-lite@4.17.0?noext\",\n",
       "      \"vega-embed\": \"https://cdn.jsdelivr.net/npm//vega-embed@6?noext\",\n",
       "    };\n",
       "\n",
       "    function maybeLoadScript(lib, version) {\n",
       "      var key = `${lib.replace(\"-\", \"\")}_version`;\n",
       "      return (VEGA_DEBUG[key] == version) ?\n",
       "        Promise.resolve(paths[lib]) :\n",
       "        new Promise(function(resolve, reject) {\n",
       "          var s = document.createElement('script');\n",
       "          document.getElementsByTagName(\"head\")[0].appendChild(s);\n",
       "          s.async = true;\n",
       "          s.onload = () => {\n",
       "            VEGA_DEBUG[key] = version;\n",
       "            return resolve(paths[lib]);\n",
       "          };\n",
       "          s.onerror = () => reject(`Error loading script: ${paths[lib]}`);\n",
       "          s.src = paths[lib];\n",
       "        });\n",
       "    }\n",
       "\n",
       "    function showError(err) {\n",
       "      outputDiv.innerHTML = `<div class=\"error\" style=\"color:red;\">${err}</div>`;\n",
       "      throw err;\n",
       "    }\n",
       "\n",
       "    function displayChart(vegaEmbed) {\n",
       "      vegaEmbed(outputDiv, spec, embedOpt)\n",
       "        .catch(err => showError(`Javascript Error: ${err.message}<br>This usually means there's a typo in your chart specification. See the javascript console for the full traceback.`));\n",
       "    }\n",
       "\n",
       "    if(typeof define === \"function\" && define.amd) {\n",
       "      requirejs.config({paths});\n",
       "      require([\"vega-embed\"], displayChart, err => showError(`Error loading script: ${err.message}`));\n",
       "    } else {\n",
       "      maybeLoadScript(\"vega\", \"5\")\n",
       "        .then(() => maybeLoadScript(\"vega-lite\", \"4.17.0\"))\n",
       "        .then(() => maybeLoadScript(\"vega-embed\", \"6\"))\n",
       "        .catch(showError)\n",
       "        .then(() => displayChart(vegaEmbed));\n",
       "    }\n",
       "  })({\"config\": {\"view\": {\"continuousWidth\": 400, \"continuousHeight\": 300}}, \"data\": {\"name\": \"data-7ffbcbecac7f7ca6a3511d1629ed0214\"}, \"mark\": {\"type\": \"circle\", \"size\": 150}, \"encoding\": {\"color\": {\"field\": \"model_year\", \"type\": \"quantitative\"}, \"x\": {\"field\": \"model_year\", \"type\": \"quantitative\"}, \"y\": {\"field\": \"mpg\", \"type\": \"quantitative\"}}, \"$schema\": \"https://vega.github.io/schema/vega-lite/v4.17.0.json\", \"datasets\": {\"data-7ffbcbecac7f7ca6a3511d1629ed0214\": [{\"mpg\": 15.0, \"cylinders\": 8, \"displacement\": 350.0, \"horsepower\": 165.0, \"weight\": 3693, \"acceleration\": 11.5, \"model_year\": 70, \"origin\": \"usa\", \"name\": \"buick skylark 320\"}, {\"mpg\": 20.5, \"cylinders\": 6, \"displacement\": 231.0, \"horsepower\": 105.0, \"weight\": 3425, \"acceleration\": 16.9, \"model_year\": 77, \"origin\": \"usa\", \"name\": \"buick skylark\"}, {\"mpg\": 28.4, \"cylinders\": 4, \"displacement\": 151.0, \"horsepower\": 90.0, \"weight\": 2670, \"acceleration\": 16.0, \"model_year\": 79, \"origin\": \"usa\", \"name\": \"buick skylark limited\"}, {\"mpg\": 26.6, \"cylinders\": 4, \"displacement\": 151.0, \"horsepower\": 84.0, \"weight\": 2635, \"acceleration\": 16.4, \"model_year\": 81, \"origin\": \"usa\", \"name\": \"buick skylark\"}]}}, {\"mode\": \"vega-lite\"});\n",
       "</script>"
      ],
      "text/plain": [
       "alt.Chart(...)"
      ]
     },
     "execution_count": 7,
     "metadata": {},
     "output_type": "execute_result"
    }
   ],
   "source": [
    "# increase the point size\n",
    "alt.Chart(df_sub).mark_circle(size = 150).encode(\n",
    "    x = \"model_year\",\n",
    "    y = \"mpg\",\n",
    "    color = \"model_year\"\n",
    ")"
   ]
  },
  {
   "block_group": "78f9f958eaa04ce5afa3ee6108014462",
   "cell_type": "code",
   "execution_count": null,
   "metadata": {
    "cell_id": "760b386de4f340e7a20a16d0b158b61e",
    "deepnote_cell_type": "code",
    "deepnote_to_be_reexecuted": false,
    "execution_millis": 146,
    "execution_start": 1697660048837,
    "source_hash": null
   },
   "outputs": [
    {
     "data": {
      "text/html": [
       "\n",
       "<div id=\"altair-viz-27b27d711e574179b9a699c8a6ead59d\"></div>\n",
       "<script type=\"text/javascript\">\n",
       "  var VEGA_DEBUG = (typeof VEGA_DEBUG == \"undefined\") ? {} : VEGA_DEBUG;\n",
       "  (function(spec, embedOpt){\n",
       "    let outputDiv = document.currentScript.previousElementSibling;\n",
       "    if (outputDiv.id !== \"altair-viz-27b27d711e574179b9a699c8a6ead59d\") {\n",
       "      outputDiv = document.getElementById(\"altair-viz-27b27d711e574179b9a699c8a6ead59d\");\n",
       "    }\n",
       "    const paths = {\n",
       "      \"vega\": \"https://cdn.jsdelivr.net/npm//vega@5?noext\",\n",
       "      \"vega-lib\": \"https://cdn.jsdelivr.net/npm//vega-lib?noext\",\n",
       "      \"vega-lite\": \"https://cdn.jsdelivr.net/npm//vega-lite@4.17.0?noext\",\n",
       "      \"vega-embed\": \"https://cdn.jsdelivr.net/npm//vega-embed@6?noext\",\n",
       "    };\n",
       "\n",
       "    function maybeLoadScript(lib, version) {\n",
       "      var key = `${lib.replace(\"-\", \"\")}_version`;\n",
       "      return (VEGA_DEBUG[key] == version) ?\n",
       "        Promise.resolve(paths[lib]) :\n",
       "        new Promise(function(resolve, reject) {\n",
       "          var s = document.createElement('script');\n",
       "          document.getElementsByTagName(\"head\")[0].appendChild(s);\n",
       "          s.async = true;\n",
       "          s.onload = () => {\n",
       "            VEGA_DEBUG[key] = version;\n",
       "            return resolve(paths[lib]);\n",
       "          };\n",
       "          s.onerror = () => reject(`Error loading script: ${paths[lib]}`);\n",
       "          s.src = paths[lib];\n",
       "        });\n",
       "    }\n",
       "\n",
       "    function showError(err) {\n",
       "      outputDiv.innerHTML = `<div class=\"error\" style=\"color:red;\">${err}</div>`;\n",
       "      throw err;\n",
       "    }\n",
       "\n",
       "    function displayChart(vegaEmbed) {\n",
       "      vegaEmbed(outputDiv, spec, embedOpt)\n",
       "        .catch(err => showError(`Javascript Error: ${err.message}<br>This usually means there's a typo in your chart specification. See the javascript console for the full traceback.`));\n",
       "    }\n",
       "\n",
       "    if(typeof define === \"function\" && define.amd) {\n",
       "      requirejs.config({paths});\n",
       "      require([\"vega-embed\"], displayChart, err => showError(`Error loading script: ${err.message}`));\n",
       "    } else {\n",
       "      maybeLoadScript(\"vega\", \"5\")\n",
       "        .then(() => maybeLoadScript(\"vega-lite\", \"4.17.0\"))\n",
       "        .then(() => maybeLoadScript(\"vega-embed\", \"6\"))\n",
       "        .catch(showError)\n",
       "        .then(() => displayChart(vegaEmbed));\n",
       "    }\n",
       "  })({\"config\": {\"view\": {\"continuousWidth\": 400, \"continuousHeight\": 300}}, \"data\": {\"name\": \"data-7ffbcbecac7f7ca6a3511d1629ed0214\"}, \"mark\": {\"type\": \"circle\", \"size\": 150}, \"encoding\": {\"color\": {\"field\": \"model_year\", \"type\": \"quantitative\"}, \"x\": {\"field\": \"model_year\", \"scale\": {\"zero\": false}, \"type\": \"quantitative\"}, \"y\": {\"field\": \"mpg\", \"type\": \"quantitative\"}}, \"$schema\": \"https://vega.github.io/schema/vega-lite/v4.17.0.json\", \"datasets\": {\"data-7ffbcbecac7f7ca6a3511d1629ed0214\": [{\"mpg\": 15.0, \"cylinders\": 8, \"displacement\": 350.0, \"horsepower\": 165.0, \"weight\": 3693, \"acceleration\": 11.5, \"model_year\": 70, \"origin\": \"usa\", \"name\": \"buick skylark 320\"}, {\"mpg\": 20.5, \"cylinders\": 6, \"displacement\": 231.0, \"horsepower\": 105.0, \"weight\": 3425, \"acceleration\": 16.9, \"model_year\": 77, \"origin\": \"usa\", \"name\": \"buick skylark\"}, {\"mpg\": 28.4, \"cylinders\": 4, \"displacement\": 151.0, \"horsepower\": 90.0, \"weight\": 2670, \"acceleration\": 16.0, \"model_year\": 79, \"origin\": \"usa\", \"name\": \"buick skylark limited\"}, {\"mpg\": 26.6, \"cylinders\": 4, \"displacement\": 151.0, \"horsepower\": 84.0, \"weight\": 2635, \"acceleration\": 16.4, \"model_year\": 81, \"origin\": \"usa\", \"name\": \"buick skylark\"}]}}, {\"mode\": \"vega-lite\"});\n",
       "</script>"
      ],
      "text/plain": [
       "alt.Chart(...)"
      ]
     },
     "execution_count": 8,
     "metadata": {},
     "output_type": "execute_result"
    }
   ],
   "source": [
    "alt.Chart(df_sub).mark_circle(size = 150).encode(\n",
    "    x = alt.X(\"model_year\", scale = alt.Scale(zero = False)), #x-axis does not start from zero\n",
    "    y = \"mpg\",\n",
    "    color = \"model_year\"\n",
    ")"
   ]
  },
  {
   "block_group": "7f5e61d7fb4944bea3f21f9cbb72abbf",
   "cell_type": "markdown",
   "metadata": {
    "cell_id": "3848f6189cda4f66a90358b50357dbd2",
    "deepnote_cell_type": "markdown"
   },
   "source": [
    "It still does not look very good. Let's see what effect changing the encoding types will have.\n",
    "\n",
    "\n",
    "* What changes if you specify different encoding types for \"model_year\"?  (The difference in color between quantitative and ordinal will be more clear if you use a different color scheme: [options](https://vega.github.io/vega/docs/schemes/).)\n",
    "\n"
   ]
  },
  {
   "block_group": "0653b659e5ce44fb8f754e2e13d9ae66",
   "cell_type": "markdown",
   "metadata": {
    "cell_id": "9bad98e514574eb7a3031093a0c4b2eb",
    "deepnote_cell_type": "markdown"
   },
   "source": [
    "Here we switch the x-axis to the \"Ordinal\" encoding data type, using `:O`.  Notice how now the values `70`, `77`, `79`, `81` are now treated like discrete categories, and the spacing between them is ignored.\n",
    "\n",
    "In Altair, the data type of an encoding can be specified using one of the following data type shorthand characters:\n",
    "\n",
    "'Q' for quantitative (continuous) data\n",
    "'O' for ordinal data\n",
    "'N' for nominal data\n",
    "'T' for temporal data"
   ]
  },
  {
   "block_group": "63352739414d42b4b71447ec30d2eb0d",
   "cell_type": "code",
   "execution_count": null,
   "metadata": {
    "cell_id": "9609404180d3470f85660ba11476d52f",
    "deepnote_cell_type": "code",
    "deepnote_to_be_reexecuted": false,
    "execution_millis": 284,
    "execution_start": 1697660341469,
    "source_hash": null
   },
   "outputs": [
    {
     "data": {
      "text/html": [
       "\n",
       "<div id=\"altair-viz-dc30236872b84e1da6f2be1ce54f0210\"></div>\n",
       "<script type=\"text/javascript\">\n",
       "  var VEGA_DEBUG = (typeof VEGA_DEBUG == \"undefined\") ? {} : VEGA_DEBUG;\n",
       "  (function(spec, embedOpt){\n",
       "    let outputDiv = document.currentScript.previousElementSibling;\n",
       "    if (outputDiv.id !== \"altair-viz-dc30236872b84e1da6f2be1ce54f0210\") {\n",
       "      outputDiv = document.getElementById(\"altair-viz-dc30236872b84e1da6f2be1ce54f0210\");\n",
       "    }\n",
       "    const paths = {\n",
       "      \"vega\": \"https://cdn.jsdelivr.net/npm//vega@5?noext\",\n",
       "      \"vega-lib\": \"https://cdn.jsdelivr.net/npm//vega-lib?noext\",\n",
       "      \"vega-lite\": \"https://cdn.jsdelivr.net/npm//vega-lite@4.17.0?noext\",\n",
       "      \"vega-embed\": \"https://cdn.jsdelivr.net/npm//vega-embed@6?noext\",\n",
       "    };\n",
       "\n",
       "    function maybeLoadScript(lib, version) {\n",
       "      var key = `${lib.replace(\"-\", \"\")}_version`;\n",
       "      return (VEGA_DEBUG[key] == version) ?\n",
       "        Promise.resolve(paths[lib]) :\n",
       "        new Promise(function(resolve, reject) {\n",
       "          var s = document.createElement('script');\n",
       "          document.getElementsByTagName(\"head\")[0].appendChild(s);\n",
       "          s.async = true;\n",
       "          s.onload = () => {\n",
       "            VEGA_DEBUG[key] = version;\n",
       "            return resolve(paths[lib]);\n",
       "          };\n",
       "          s.onerror = () => reject(`Error loading script: ${paths[lib]}`);\n",
       "          s.src = paths[lib];\n",
       "        });\n",
       "    }\n",
       "\n",
       "    function showError(err) {\n",
       "      outputDiv.innerHTML = `<div class=\"error\" style=\"color:red;\">${err}</div>`;\n",
       "      throw err;\n",
       "    }\n",
       "\n",
       "    function displayChart(vegaEmbed) {\n",
       "      vegaEmbed(outputDiv, spec, embedOpt)\n",
       "        .catch(err => showError(`Javascript Error: ${err.message}<br>This usually means there's a typo in your chart specification. See the javascript console for the full traceback.`));\n",
       "    }\n",
       "\n",
       "    if(typeof define === \"function\" && define.amd) {\n",
       "      requirejs.config({paths});\n",
       "      require([\"vega-embed\"], displayChart, err => showError(`Error loading script: ${err.message}`));\n",
       "    } else {\n",
       "      maybeLoadScript(\"vega\", \"5\")\n",
       "        .then(() => maybeLoadScript(\"vega-lite\", \"4.17.0\"))\n",
       "        .then(() => maybeLoadScript(\"vega-embed\", \"6\"))\n",
       "        .catch(showError)\n",
       "        .then(() => displayChart(vegaEmbed));\n",
       "    }\n",
       "  })({\"config\": {\"view\": {\"continuousWidth\": 400, \"continuousHeight\": 300}}, \"data\": {\"name\": \"data-7ffbcbecac7f7ca6a3511d1629ed0214\"}, \"mark\": {\"type\": \"circle\", \"size\": 150}, \"encoding\": {\"color\": {\"field\": \"model_year\", \"type\": \"quantitative\"}, \"x\": {\"field\": \"model_year\", \"scale\": {\"zero\": false}, \"type\": \"ordinal\"}, \"y\": {\"field\": \"mpg\", \"type\": \"quantitative\"}}, \"$schema\": \"https://vega.github.io/schema/vega-lite/v4.17.0.json\", \"datasets\": {\"data-7ffbcbecac7f7ca6a3511d1629ed0214\": [{\"mpg\": 15.0, \"cylinders\": 8, \"displacement\": 350.0, \"horsepower\": 165.0, \"weight\": 3693, \"acceleration\": 11.5, \"model_year\": 70, \"origin\": \"usa\", \"name\": \"buick skylark 320\"}, {\"mpg\": 20.5, \"cylinders\": 6, \"displacement\": 231.0, \"horsepower\": 105.0, \"weight\": 3425, \"acceleration\": 16.9, \"model_year\": 77, \"origin\": \"usa\", \"name\": \"buick skylark\"}, {\"mpg\": 28.4, \"cylinders\": 4, \"displacement\": 151.0, \"horsepower\": 90.0, \"weight\": 2670, \"acceleration\": 16.0, \"model_year\": 79, \"origin\": \"usa\", \"name\": \"buick skylark limited\"}, {\"mpg\": 26.6, \"cylinders\": 4, \"displacement\": 151.0, \"horsepower\": 84.0, \"weight\": 2635, \"acceleration\": 16.4, \"model_year\": 81, \"origin\": \"usa\", \"name\": \"buick skylark\"}]}}, {\"mode\": \"vega-lite\"});\n",
       "</script>"
      ],
      "text/plain": [
       "alt.Chart(...)"
      ]
     },
     "execution_count": 11,
     "metadata": {},
     "output_type": "execute_result"
    }
   ],
   "source": [
    "alt.Chart(df_sub).mark_circle(size = 150).encode(\n",
    "    x = alt.X(\"model_year:O\", scale = alt.Scale(zero = False)), #`:O` for ordinal data type\n",
    "    y = \"mpg\",\n",
    "    color = \"model_year\"\n",
    ")"
   ]
  },
  {
   "block_group": "6d9c7cc21f824d778aeb28f6d604a845",
   "cell_type": "markdown",
   "metadata": {
    "cell_id": "a8f5f8f96f5845779c0f5cb545ec20ca",
    "deepnote_cell_type": "markdown"
   },
   "source": [
    "Here we change color scheme (see the above link for options). We are specifying that the color channel should use a “Quantitative” encoding, but that is the default, so you will see the same thing if you do not use that."
   ]
  },
  {
   "block_group": "64b0c27114ac4bf09e1f0c2c446a5ba0",
   "cell_type": "code",
   "execution_count": null,
   "metadata": {
    "cell_id": "f037ee46ddef43d6a248d3437ecf853a",
    "deepnote_cell_type": "code",
    "deepnote_to_be_reexecuted": false,
    "execution_millis": 167,
    "execution_start": 1697660591156,
    "source_hash": null
   },
   "outputs": [
    {
     "data": {
      "text/html": [
       "\n",
       "<div id=\"altair-viz-47454ebb625548aab1f5e41a2851909a\"></div>\n",
       "<script type=\"text/javascript\">\n",
       "  var VEGA_DEBUG = (typeof VEGA_DEBUG == \"undefined\") ? {} : VEGA_DEBUG;\n",
       "  (function(spec, embedOpt){\n",
       "    let outputDiv = document.currentScript.previousElementSibling;\n",
       "    if (outputDiv.id !== \"altair-viz-47454ebb625548aab1f5e41a2851909a\") {\n",
       "      outputDiv = document.getElementById(\"altair-viz-47454ebb625548aab1f5e41a2851909a\");\n",
       "    }\n",
       "    const paths = {\n",
       "      \"vega\": \"https://cdn.jsdelivr.net/npm//vega@5?noext\",\n",
       "      \"vega-lib\": \"https://cdn.jsdelivr.net/npm//vega-lib?noext\",\n",
       "      \"vega-lite\": \"https://cdn.jsdelivr.net/npm//vega-lite@4.17.0?noext\",\n",
       "      \"vega-embed\": \"https://cdn.jsdelivr.net/npm//vega-embed@6?noext\",\n",
       "    };\n",
       "\n",
       "    function maybeLoadScript(lib, version) {\n",
       "      var key = `${lib.replace(\"-\", \"\")}_version`;\n",
       "      return (VEGA_DEBUG[key] == version) ?\n",
       "        Promise.resolve(paths[lib]) :\n",
       "        new Promise(function(resolve, reject) {\n",
       "          var s = document.createElement('script');\n",
       "          document.getElementsByTagName(\"head\")[0].appendChild(s);\n",
       "          s.async = true;\n",
       "          s.onload = () => {\n",
       "            VEGA_DEBUG[key] = version;\n",
       "            return resolve(paths[lib]);\n",
       "          };\n",
       "          s.onerror = () => reject(`Error loading script: ${paths[lib]}`);\n",
       "          s.src = paths[lib];\n",
       "        });\n",
       "    }\n",
       "\n",
       "    function showError(err) {\n",
       "      outputDiv.innerHTML = `<div class=\"error\" style=\"color:red;\">${err}</div>`;\n",
       "      throw err;\n",
       "    }\n",
       "\n",
       "    function displayChart(vegaEmbed) {\n",
       "      vegaEmbed(outputDiv, spec, embedOpt)\n",
       "        .catch(err => showError(`Javascript Error: ${err.message}<br>This usually means there's a typo in your chart specification. See the javascript console for the full traceback.`));\n",
       "    }\n",
       "\n",
       "    if(typeof define === \"function\" && define.amd) {\n",
       "      requirejs.config({paths});\n",
       "      require([\"vega-embed\"], displayChart, err => showError(`Error loading script: ${err.message}`));\n",
       "    } else {\n",
       "      maybeLoadScript(\"vega\", \"5\")\n",
       "        .then(() => maybeLoadScript(\"vega-lite\", \"4.17.0\"))\n",
       "        .then(() => maybeLoadScript(\"vega-embed\", \"6\"))\n",
       "        .catch(showError)\n",
       "        .then(() => displayChart(vegaEmbed));\n",
       "    }\n",
       "  })({\"config\": {\"view\": {\"continuousWidth\": 400, \"continuousHeight\": 300}}, \"data\": {\"name\": \"data-7ffbcbecac7f7ca6a3511d1629ed0214\"}, \"mark\": {\"type\": \"circle\", \"size\": 150}, \"encoding\": {\"color\": {\"field\": \"model_year\", \"scale\": {\"scheme\": \"lightgreyred\"}, \"type\": \"quantitative\"}, \"x\": {\"field\": \"model_year\", \"scale\": {\"zero\": false}, \"type\": \"ordinal\"}, \"y\": {\"field\": \"mpg\", \"type\": \"quantitative\"}}, \"$schema\": \"https://vega.github.io/schema/vega-lite/v4.17.0.json\", \"datasets\": {\"data-7ffbcbecac7f7ca6a3511d1629ed0214\": [{\"mpg\": 15.0, \"cylinders\": 8, \"displacement\": 350.0, \"horsepower\": 165.0, \"weight\": 3693, \"acceleration\": 11.5, \"model_year\": 70, \"origin\": \"usa\", \"name\": \"buick skylark 320\"}, {\"mpg\": 20.5, \"cylinders\": 6, \"displacement\": 231.0, \"horsepower\": 105.0, \"weight\": 3425, \"acceleration\": 16.9, \"model_year\": 77, \"origin\": \"usa\", \"name\": \"buick skylark\"}, {\"mpg\": 28.4, \"cylinders\": 4, \"displacement\": 151.0, \"horsepower\": 90.0, \"weight\": 2670, \"acceleration\": 16.0, \"model_year\": 79, \"origin\": \"usa\", \"name\": \"buick skylark limited\"}, {\"mpg\": 26.6, \"cylinders\": 4, \"displacement\": 151.0, \"horsepower\": 84.0, \"weight\": 2635, \"acceleration\": 16.4, \"model_year\": 81, \"origin\": \"usa\", \"name\": \"buick skylark\"}]}}, {\"mode\": \"vega-lite\"});\n",
       "</script>"
      ],
      "text/plain": [
       "alt.Chart(...)"
      ]
     },
     "execution_count": 12,
     "metadata": {},
     "output_type": "execute_result"
    }
   ],
   "source": [
    "alt.Chart(df_sub).mark_circle(size = 150).encode(\n",
    "    x = alt.X(\"model_year:O\", scale = alt.Scale(zero = False)), #x-axis does not start from zero\n",
    "    y = \"mpg\",\n",
    "    color = alt.Color(\"model_year:Q\", scale = alt.Scale(scheme=\"lightgreyred\"))\n",
    ")"
   ]
  },
  {
   "block_group": "95e653155b12474d981fec3ca02f4ab4",
   "cell_type": "markdown",
   "metadata": {
    "cell_id": "ef99b8cf6d7246f08ec63bf7ce9103a1",
    "deepnote_cell_type": "markdown"
   },
   "source": [
    "Here is the exact same chart, but where we switch to the \"Ordinal\" encoding data type.  Do you see the differences?  One different is that the \"Quantiative\" legend shows a continuous progression of numbers.  A more subtle difference is that the colors for `77`, `79`, `81` are grouped closer to each other in the \"Quantitative\" version, whereas everything, including the `70`, is equally spaced colorwise in the \"Ordinal\" version."
   ]
  },
  {
   "block_group": "530f77a1bc854f7f8b17f5209e5d07ba",
   "cell_type": "code",
   "execution_count": null,
   "metadata": {
    "cell_id": "32c7ab87e5864c849fa1be6e899e9fc9",
    "deepnote_cell_type": "code",
    "deepnote_to_be_reexecuted": false,
    "execution_millis": 88,
    "execution_start": 1697660698479,
    "source_hash": null
   },
   "outputs": [
    {
     "data": {
      "text/html": [
       "\n",
       "<div id=\"altair-viz-4a6fc4167edc4d51824616cb30b0e35c\"></div>\n",
       "<script type=\"text/javascript\">\n",
       "  var VEGA_DEBUG = (typeof VEGA_DEBUG == \"undefined\") ? {} : VEGA_DEBUG;\n",
       "  (function(spec, embedOpt){\n",
       "    let outputDiv = document.currentScript.previousElementSibling;\n",
       "    if (outputDiv.id !== \"altair-viz-4a6fc4167edc4d51824616cb30b0e35c\") {\n",
       "      outputDiv = document.getElementById(\"altair-viz-4a6fc4167edc4d51824616cb30b0e35c\");\n",
       "    }\n",
       "    const paths = {\n",
       "      \"vega\": \"https://cdn.jsdelivr.net/npm//vega@5?noext\",\n",
       "      \"vega-lib\": \"https://cdn.jsdelivr.net/npm//vega-lib?noext\",\n",
       "      \"vega-lite\": \"https://cdn.jsdelivr.net/npm//vega-lite@4.17.0?noext\",\n",
       "      \"vega-embed\": \"https://cdn.jsdelivr.net/npm//vega-embed@6?noext\",\n",
       "    };\n",
       "\n",
       "    function maybeLoadScript(lib, version) {\n",
       "      var key = `${lib.replace(\"-\", \"\")}_version`;\n",
       "      return (VEGA_DEBUG[key] == version) ?\n",
       "        Promise.resolve(paths[lib]) :\n",
       "        new Promise(function(resolve, reject) {\n",
       "          var s = document.createElement('script');\n",
       "          document.getElementsByTagName(\"head\")[0].appendChild(s);\n",
       "          s.async = true;\n",
       "          s.onload = () => {\n",
       "            VEGA_DEBUG[key] = version;\n",
       "            return resolve(paths[lib]);\n",
       "          };\n",
       "          s.onerror = () => reject(`Error loading script: ${paths[lib]}`);\n",
       "          s.src = paths[lib];\n",
       "        });\n",
       "    }\n",
       "\n",
       "    function showError(err) {\n",
       "      outputDiv.innerHTML = `<div class=\"error\" style=\"color:red;\">${err}</div>`;\n",
       "      throw err;\n",
       "    }\n",
       "\n",
       "    function displayChart(vegaEmbed) {\n",
       "      vegaEmbed(outputDiv, spec, embedOpt)\n",
       "        .catch(err => showError(`Javascript Error: ${err.message}<br>This usually means there's a typo in your chart specification. See the javascript console for the full traceback.`));\n",
       "    }\n",
       "\n",
       "    if(typeof define === \"function\" && define.amd) {\n",
       "      requirejs.config({paths});\n",
       "      require([\"vega-embed\"], displayChart, err => showError(`Error loading script: ${err.message}`));\n",
       "    } else {\n",
       "      maybeLoadScript(\"vega\", \"5\")\n",
       "        .then(() => maybeLoadScript(\"vega-lite\", \"4.17.0\"))\n",
       "        .then(() => maybeLoadScript(\"vega-embed\", \"6\"))\n",
       "        .catch(showError)\n",
       "        .then(() => displayChart(vegaEmbed));\n",
       "    }\n",
       "  })({\"config\": {\"view\": {\"continuousWidth\": 400, \"continuousHeight\": 300}}, \"data\": {\"name\": \"data-7ffbcbecac7f7ca6a3511d1629ed0214\"}, \"mark\": {\"type\": \"circle\", \"size\": 150}, \"encoding\": {\"color\": {\"field\": \"model_year\", \"scale\": {\"scheme\": \"lightgreyred\"}, \"type\": \"ordinal\"}, \"x\": {\"field\": \"model_year\", \"scale\": {\"zero\": false}, \"type\": \"ordinal\"}, \"y\": {\"field\": \"mpg\", \"type\": \"quantitative\"}}, \"$schema\": \"https://vega.github.io/schema/vega-lite/v4.17.0.json\", \"datasets\": {\"data-7ffbcbecac7f7ca6a3511d1629ed0214\": [{\"mpg\": 15.0, \"cylinders\": 8, \"displacement\": 350.0, \"horsepower\": 165.0, \"weight\": 3693, \"acceleration\": 11.5, \"model_year\": 70, \"origin\": \"usa\", \"name\": \"buick skylark 320\"}, {\"mpg\": 20.5, \"cylinders\": 6, \"displacement\": 231.0, \"horsepower\": 105.0, \"weight\": 3425, \"acceleration\": 16.9, \"model_year\": 77, \"origin\": \"usa\", \"name\": \"buick skylark\"}, {\"mpg\": 28.4, \"cylinders\": 4, \"displacement\": 151.0, \"horsepower\": 90.0, \"weight\": 2670, \"acceleration\": 16.0, \"model_year\": 79, \"origin\": \"usa\", \"name\": \"buick skylark limited\"}, {\"mpg\": 26.6, \"cylinders\": 4, \"displacement\": 151.0, \"horsepower\": 84.0, \"weight\": 2635, \"acceleration\": 16.4, \"model_year\": 81, \"origin\": \"usa\", \"name\": \"buick skylark\"}]}}, {\"mode\": \"vega-lite\"});\n",
       "</script>"
      ],
      "text/plain": [
       "alt.Chart(...)"
      ]
     },
     "execution_count": 13,
     "metadata": {},
     "output_type": "execute_result"
    }
   ],
   "source": [
    "alt.Chart(df_sub).mark_circle(size = 150).encode(\n",
    "    x = alt.X(\"model_year:O\", scale = alt.Scale(zero = False)), #x-axis does not start from zero\n",
    "    y = \"mpg\",\n",
    "    color = alt.Color(\"model_year:O\", scale = alt.Scale(scheme=\"lightgreyred\"))\n",
    ")"
   ]
  },
  {
   "block_group": "90e82d505a9444e4a3cf99c5d35fbe6d",
   "cell_type": "markdown",
   "metadata": {
    "cell_id": "955099c6dd494e21b7ee592a5030fc5e",
    "deepnote_cell_type": "markdown"
   },
   "source": [
    "If you switch the color data type to \"Nominal\" (which means unordered) and use the default color scheme, you can see that there is no ordering or progression to the colors used.  The colors in this case are chosen to make the values as distinct as possible."
   ]
  },
  {
   "block_group": "9e2c66fc52334179b037252c42fd04a1",
   "cell_type": "code",
   "execution_count": null,
   "metadata": {
    "cell_id": "b34c945c52794c9cb0dc9e79255a36cb",
    "deepnote_cell_type": "code",
    "deepnote_to_be_reexecuted": false,
    "execution_millis": 253,
    "execution_start": 1697660763094,
    "source_hash": null
   },
   "outputs": [
    {
     "data": {
      "text/html": [
       "\n",
       "<div id=\"altair-viz-18e641e9ff4e485fb8d94f3fdc475a47\"></div>\n",
       "<script type=\"text/javascript\">\n",
       "  var VEGA_DEBUG = (typeof VEGA_DEBUG == \"undefined\") ? {} : VEGA_DEBUG;\n",
       "  (function(spec, embedOpt){\n",
       "    let outputDiv = document.currentScript.previousElementSibling;\n",
       "    if (outputDiv.id !== \"altair-viz-18e641e9ff4e485fb8d94f3fdc475a47\") {\n",
       "      outputDiv = document.getElementById(\"altair-viz-18e641e9ff4e485fb8d94f3fdc475a47\");\n",
       "    }\n",
       "    const paths = {\n",
       "      \"vega\": \"https://cdn.jsdelivr.net/npm//vega@5?noext\",\n",
       "      \"vega-lib\": \"https://cdn.jsdelivr.net/npm//vega-lib?noext\",\n",
       "      \"vega-lite\": \"https://cdn.jsdelivr.net/npm//vega-lite@4.17.0?noext\",\n",
       "      \"vega-embed\": \"https://cdn.jsdelivr.net/npm//vega-embed@6?noext\",\n",
       "    };\n",
       "\n",
       "    function maybeLoadScript(lib, version) {\n",
       "      var key = `${lib.replace(\"-\", \"\")}_version`;\n",
       "      return (VEGA_DEBUG[key] == version) ?\n",
       "        Promise.resolve(paths[lib]) :\n",
       "        new Promise(function(resolve, reject) {\n",
       "          var s = document.createElement('script');\n",
       "          document.getElementsByTagName(\"head\")[0].appendChild(s);\n",
       "          s.async = true;\n",
       "          s.onload = () => {\n",
       "            VEGA_DEBUG[key] = version;\n",
       "            return resolve(paths[lib]);\n",
       "          };\n",
       "          s.onerror = () => reject(`Error loading script: ${paths[lib]}`);\n",
       "          s.src = paths[lib];\n",
       "        });\n",
       "    }\n",
       "\n",
       "    function showError(err) {\n",
       "      outputDiv.innerHTML = `<div class=\"error\" style=\"color:red;\">${err}</div>`;\n",
       "      throw err;\n",
       "    }\n",
       "\n",
       "    function displayChart(vegaEmbed) {\n",
       "      vegaEmbed(outputDiv, spec, embedOpt)\n",
       "        .catch(err => showError(`Javascript Error: ${err.message}<br>This usually means there's a typo in your chart specification. See the javascript console for the full traceback.`));\n",
       "    }\n",
       "\n",
       "    if(typeof define === \"function\" && define.amd) {\n",
       "      requirejs.config({paths});\n",
       "      require([\"vega-embed\"], displayChart, err => showError(`Error loading script: ${err.message}`));\n",
       "    } else {\n",
       "      maybeLoadScript(\"vega\", \"5\")\n",
       "        .then(() => maybeLoadScript(\"vega-lite\", \"4.17.0\"))\n",
       "        .then(() => maybeLoadScript(\"vega-embed\", \"6\"))\n",
       "        .catch(showError)\n",
       "        .then(() => displayChart(vegaEmbed));\n",
       "    }\n",
       "  })({\"config\": {\"view\": {\"continuousWidth\": 400, \"continuousHeight\": 300}}, \"data\": {\"name\": \"data-7ffbcbecac7f7ca6a3511d1629ed0214\"}, \"mark\": {\"type\": \"circle\", \"size\": 150}, \"encoding\": {\"color\": {\"field\": \"model_year\", \"type\": \"nominal\"}, \"x\": {\"field\": \"model_year\", \"scale\": {\"zero\": false}, \"type\": \"ordinal\"}, \"y\": {\"field\": \"mpg\", \"type\": \"quantitative\"}}, \"$schema\": \"https://vega.github.io/schema/vega-lite/v4.17.0.json\", \"datasets\": {\"data-7ffbcbecac7f7ca6a3511d1629ed0214\": [{\"mpg\": 15.0, \"cylinders\": 8, \"displacement\": 350.0, \"horsepower\": 165.0, \"weight\": 3693, \"acceleration\": 11.5, \"model_year\": 70, \"origin\": \"usa\", \"name\": \"buick skylark 320\"}, {\"mpg\": 20.5, \"cylinders\": 6, \"displacement\": 231.0, \"horsepower\": 105.0, \"weight\": 3425, \"acceleration\": 16.9, \"model_year\": 77, \"origin\": \"usa\", \"name\": \"buick skylark\"}, {\"mpg\": 28.4, \"cylinders\": 4, \"displacement\": 151.0, \"horsepower\": 90.0, \"weight\": 2670, \"acceleration\": 16.0, \"model_year\": 79, \"origin\": \"usa\", \"name\": \"buick skylark limited\"}, {\"mpg\": 26.6, \"cylinders\": 4, \"displacement\": 151.0, \"horsepower\": 84.0, \"weight\": 2635, \"acceleration\": 16.4, \"model_year\": 81, \"origin\": \"usa\", \"name\": \"buick skylark\"}]}}, {\"mode\": \"vega-lite\"});\n",
       "</script>"
      ],
      "text/plain": [
       "alt.Chart(...)"
      ]
     },
     "execution_count": 15,
     "metadata": {},
     "output_type": "execute_result"
    }
   ],
   "source": [
    "alt.Chart(df_sub).mark_circle(size = 150).encode(\n",
    "    x = alt.X(\"model_year:O\", scale = alt.Scale(zero = False)), #x-axis does not start from zero\n",
    "    y = \"mpg\",\n",
    "    color = alt.Color(\"model_year:N\")\n",
    ")"
   ]
  },
  {
   "block_group": "ad4a2de51d09425f9b618fe14eb50b8b",
   "cell_type": "markdown",
   "metadata": {
    "cell_id": "38b308d432d64178a3f6ed2d32b682a8",
    "deepnote_cell_type": "markdown"
   },
   "source": [
    "## Other types of charts in Altair\n",
    "\n",
    "Here we switch back to the full DataFrame, `df`.  There are many types of charts in Altair (browse the [example gallery](https://altair-viz.github.io/altair-viz-v4/) to see some of the possibilities)."
   ]
  },
  {
   "block_group": "130fc376b1a043268dee8e6cdad6313e",
   "cell_type": "markdown",
   "metadata": {
    "cell_id": "2235ee23706f41ebbb5fb5581ad45c4e",
    "deepnote_cell_type": "markdown"
   },
   "source": [
    "* Make a bar chart using \"cylinders\" for the x-coordinate, using the median of the mpg values for the y-coordinate."
   ]
  },
  {
   "block_group": "9db996f69acd46ac9e9e65cc311d2449",
   "cell_type": "markdown",
   "metadata": {
    "cell_id": "491d628e9b824547a3a9576dde01fda9",
    "deepnote_cell_type": "markdown"
   },
   "source": [
    "Here is no column called `\"median(mpg)\"` in our DataFrame.  Instead this syntax is telling Altair to compute the median and plot the bar heights based on the result."
   ]
  },
  {
   "block_group": "971adab3b5fe4041a6301945097f7291",
   "cell_type": "code",
   "execution_count": null,
   "metadata": {
    "cell_id": "92424a6fa59b41bd81b870fde35feb94",
    "deepnote_cell_type": "code",
    "deepnote_to_be_reexecuted": false,
    "execution_millis": 337,
    "execution_start": 1697661168659,
    "source_hash": null
   },
   "outputs": [
    {
     "data": {
      "text/html": [
       "\n",
       "<div id=\"altair-viz-3a1be255f23a4568b17841a79738d043\"></div>\n",
       "<script type=\"text/javascript\">\n",
       "  var VEGA_DEBUG = (typeof VEGA_DEBUG == \"undefined\") ? {} : VEGA_DEBUG;\n",
       "  (function(spec, embedOpt){\n",
       "    let outputDiv = document.currentScript.previousElementSibling;\n",
       "    if (outputDiv.id !== \"altair-viz-3a1be255f23a4568b17841a79738d043\") {\n",
       "      outputDiv = document.getElementById(\"altair-viz-3a1be255f23a4568b17841a79738d043\");\n",
       "    }\n",
       "    const paths = {\n",
       "      \"vega\": \"https://cdn.jsdelivr.net/npm//vega@5?noext\",\n",
       "      \"vega-lib\": \"https://cdn.jsdelivr.net/npm//vega-lib?noext\",\n",
       "      \"vega-lite\": \"https://cdn.jsdelivr.net/npm//vega-lite@4.17.0?noext\",\n",
       "      \"vega-embed\": \"https://cdn.jsdelivr.net/npm//vega-embed@6?noext\",\n",
       "    };\n",
       "\n",
       "    function maybeLoadScript(lib, version) {\n",
       "      var key = `${lib.replace(\"-\", \"\")}_version`;\n",
       "      return (VEGA_DEBUG[key] == version) ?\n",
       "        Promise.resolve(paths[lib]) :\n",
       "        new Promise(function(resolve, reject) {\n",
       "          var s = document.createElement('script');\n",
       "          document.getElementsByTagName(\"head\")[0].appendChild(s);\n",
       "          s.async = true;\n",
       "          s.onload = () => {\n",
       "            VEGA_DEBUG[key] = version;\n",
       "            return resolve(paths[lib]);\n",
       "          };\n",
       "          s.onerror = () => reject(`Error loading script: ${paths[lib]}`);\n",
       "          s.src = paths[lib];\n",
       "        });\n",
       "    }\n",
       "\n",
       "    function showError(err) {\n",
       "      outputDiv.innerHTML = `<div class=\"error\" style=\"color:red;\">${err}</div>`;\n",
       "      throw err;\n",
       "    }\n",
       "\n",
       "    function displayChart(vegaEmbed) {\n",
       "      vegaEmbed(outputDiv, spec, embedOpt)\n",
       "        .catch(err => showError(`Javascript Error: ${err.message}<br>This usually means there's a typo in your chart specification. See the javascript console for the full traceback.`));\n",
       "    }\n",
       "\n",
       "    if(typeof define === \"function\" && define.amd) {\n",
       "      requirejs.config({paths});\n",
       "      require([\"vega-embed\"], displayChart, err => showError(`Error loading script: ${err.message}`));\n",
       "    } else {\n",
       "      maybeLoadScript(\"vega\", \"5\")\n",
       "        .then(() => maybeLoadScript(\"vega-lite\", \"4.17.0\"))\n",
       "        .then(() => maybeLoadScript(\"vega-embed\", \"6\"))\n",
       "        .catch(showError)\n",
       "        .then(() => displayChart(vegaEmbed));\n",
       "    }\n",
       "  })({\"config\": {\"view\": {\"continuousWidth\": 400, \"continuousHeight\": 300}}, \"data\": {\"name\": \"data-f1198cc0481ad698d7dc4699e0a3efa7\"}, \"mark\": \"bar\", \"encoding\": {\"x\": {\"field\": \"cylinders\", \"type\": \"ordinal\"}, \"y\": {\"aggregate\": \"median\", \"field\": \"mpg\", \"type\": \"quantitative\"}}, \"$schema\": \"https://vega.github.io/schema/vega-lite/v4.17.0.json\", \"datasets\": {\"data-f1198cc0481ad698d7dc4699e0a3efa7\": [{\"mpg\": 18.0, \"cylinders\": 8, \"displacement\": 307.0, \"horsepower\": 130.0, \"weight\": 3504, \"acceleration\": 12.0, \"model_year\": 70, \"origin\": \"usa\", \"name\": \"chevrolet chevelle malibu\"}, {\"mpg\": 15.0, \"cylinders\": 8, \"displacement\": 350.0, \"horsepower\": 165.0, \"weight\": 3693, \"acceleration\": 11.5, \"model_year\": 70, \"origin\": \"usa\", \"name\": \"buick skylark 320\"}, {\"mpg\": 18.0, \"cylinders\": 8, \"displacement\": 318.0, \"horsepower\": 150.0, \"weight\": 3436, \"acceleration\": 11.0, \"model_year\": 70, \"origin\": \"usa\", \"name\": \"plymouth satellite\"}, {\"mpg\": 16.0, \"cylinders\": 8, \"displacement\": 304.0, \"horsepower\": 150.0, \"weight\": 3433, \"acceleration\": 12.0, \"model_year\": 70, \"origin\": \"usa\", \"name\": \"amc rebel sst\"}, {\"mpg\": 17.0, \"cylinders\": 8, \"displacement\": 302.0, \"horsepower\": 140.0, \"weight\": 3449, \"acceleration\": 10.5, \"model_year\": 70, \"origin\": \"usa\", \"name\": \"ford torino\"}, {\"mpg\": 15.0, \"cylinders\": 8, \"displacement\": 429.0, \"horsepower\": 198.0, \"weight\": 4341, \"acceleration\": 10.0, \"model_year\": 70, \"origin\": \"usa\", \"name\": \"ford galaxie 500\"}, {\"mpg\": 14.0, \"cylinders\": 8, \"displacement\": 454.0, \"horsepower\": 220.0, \"weight\": 4354, \"acceleration\": 9.0, \"model_year\": 70, \"origin\": \"usa\", \"name\": \"chevrolet impala\"}, {\"mpg\": 14.0, \"cylinders\": 8, \"displacement\": 440.0, \"horsepower\": 215.0, \"weight\": 4312, \"acceleration\": 8.5, \"model_year\": 70, \"origin\": \"usa\", \"name\": \"plymouth fury iii\"}, {\"mpg\": 14.0, \"cylinders\": 8, \"displacement\": 455.0, \"horsepower\": 225.0, \"weight\": 4425, \"acceleration\": 10.0, \"model_year\": 70, \"origin\": \"usa\", \"name\": \"pontiac catalina\"}, {\"mpg\": 15.0, \"cylinders\": 8, \"displacement\": 390.0, \"horsepower\": 190.0, \"weight\": 3850, \"acceleration\": 8.5, \"model_year\": 70, \"origin\": \"usa\", \"name\": \"amc ambassador dpl\"}, {\"mpg\": 15.0, \"cylinders\": 8, \"displacement\": 383.0, \"horsepower\": 170.0, \"weight\": 3563, \"acceleration\": 10.0, \"model_year\": 70, \"origin\": \"usa\", \"name\": \"dodge challenger se\"}, {\"mpg\": 14.0, \"cylinders\": 8, \"displacement\": 340.0, \"horsepower\": 160.0, \"weight\": 3609, \"acceleration\": 8.0, \"model_year\": 70, \"origin\": \"usa\", \"name\": \"plymouth 'cuda 340\"}, {\"mpg\": 15.0, \"cylinders\": 8, \"displacement\": 400.0, \"horsepower\": 150.0, \"weight\": 3761, \"acceleration\": 9.5, \"model_year\": 70, \"origin\": \"usa\", \"name\": \"chevrolet monte carlo\"}, {\"mpg\": 14.0, \"cylinders\": 8, \"displacement\": 455.0, \"horsepower\": 225.0, \"weight\": 3086, \"acceleration\": 10.0, \"model_year\": 70, \"origin\": \"usa\", \"name\": \"buick estate wagon (sw)\"}, {\"mpg\": 24.0, \"cylinders\": 4, \"displacement\": 113.0, \"horsepower\": 95.0, \"weight\": 2372, \"acceleration\": 15.0, \"model_year\": 70, \"origin\": \"japan\", \"name\": \"toyota corona mark ii\"}, {\"mpg\": 22.0, \"cylinders\": 6, \"displacement\": 198.0, \"horsepower\": 95.0, \"weight\": 2833, \"acceleration\": 15.5, \"model_year\": 70, \"origin\": \"usa\", \"name\": \"plymouth duster\"}, {\"mpg\": 18.0, \"cylinders\": 6, \"displacement\": 199.0, \"horsepower\": 97.0, \"weight\": 2774, \"acceleration\": 15.5, \"model_year\": 70, \"origin\": \"usa\", \"name\": \"amc hornet\"}, {\"mpg\": 21.0, \"cylinders\": 6, \"displacement\": 200.0, \"horsepower\": 85.0, \"weight\": 2587, \"acceleration\": 16.0, \"model_year\": 70, \"origin\": \"usa\", \"name\": \"ford maverick\"}, {\"mpg\": 27.0, \"cylinders\": 4, \"displacement\": 97.0, \"horsepower\": 88.0, \"weight\": 2130, \"acceleration\": 14.5, \"model_year\": 70, \"origin\": \"japan\", \"name\": \"datsun pl510\"}, {\"mpg\": 26.0, \"cylinders\": 4, \"displacement\": 97.0, \"horsepower\": 46.0, \"weight\": 1835, \"acceleration\": 20.5, \"model_year\": 70, \"origin\": \"europe\", \"name\": \"volkswagen 1131 deluxe sedan\"}, {\"mpg\": 25.0, \"cylinders\": 4, \"displacement\": 110.0, \"horsepower\": 87.0, \"weight\": 2672, \"acceleration\": 17.5, \"model_year\": 70, \"origin\": \"europe\", \"name\": \"peugeot 504\"}, {\"mpg\": 24.0, \"cylinders\": 4, \"displacement\": 107.0, \"horsepower\": 90.0, \"weight\": 2430, \"acceleration\": 14.5, \"model_year\": 70, \"origin\": \"europe\", \"name\": \"audi 100 ls\"}, {\"mpg\": 25.0, \"cylinders\": 4, \"displacement\": 104.0, \"horsepower\": 95.0, \"weight\": 2375, \"acceleration\": 17.5, \"model_year\": 70, \"origin\": \"europe\", \"name\": \"saab 99e\"}, {\"mpg\": 26.0, \"cylinders\": 4, \"displacement\": 121.0, \"horsepower\": 113.0, \"weight\": 2234, \"acceleration\": 12.5, \"model_year\": 70, \"origin\": \"europe\", \"name\": \"bmw 2002\"}, {\"mpg\": 21.0, \"cylinders\": 6, \"displacement\": 199.0, \"horsepower\": 90.0, \"weight\": 2648, \"acceleration\": 15.0, \"model_year\": 70, \"origin\": \"usa\", \"name\": \"amc gremlin\"}, {\"mpg\": 10.0, \"cylinders\": 8, \"displacement\": 360.0, \"horsepower\": 215.0, \"weight\": 4615, \"acceleration\": 14.0, \"model_year\": 70, \"origin\": \"usa\", \"name\": \"ford f250\"}, {\"mpg\": 10.0, \"cylinders\": 8, \"displacement\": 307.0, \"horsepower\": 200.0, \"weight\": 4376, \"acceleration\": 15.0, \"model_year\": 70, \"origin\": \"usa\", \"name\": \"chevy c20\"}, {\"mpg\": 11.0, \"cylinders\": 8, \"displacement\": 318.0, \"horsepower\": 210.0, \"weight\": 4382, \"acceleration\": 13.5, \"model_year\": 70, \"origin\": \"usa\", \"name\": \"dodge d200\"}, {\"mpg\": 9.0, \"cylinders\": 8, \"displacement\": 304.0, \"horsepower\": 193.0, \"weight\": 4732, \"acceleration\": 18.5, \"model_year\": 70, \"origin\": \"usa\", \"name\": \"hi 1200d\"}, {\"mpg\": 27.0, \"cylinders\": 4, \"displacement\": 97.0, \"horsepower\": 88.0, \"weight\": 2130, \"acceleration\": 14.5, \"model_year\": 71, \"origin\": \"japan\", \"name\": \"datsun pl510\"}, {\"mpg\": 28.0, \"cylinders\": 4, \"displacement\": 140.0, \"horsepower\": 90.0, \"weight\": 2264, \"acceleration\": 15.5, \"model_year\": 71, \"origin\": \"usa\", \"name\": \"chevrolet vega 2300\"}, {\"mpg\": 25.0, \"cylinders\": 4, \"displacement\": 113.0, \"horsepower\": 95.0, \"weight\": 2228, \"acceleration\": 14.0, \"model_year\": 71, \"origin\": \"japan\", \"name\": \"toyota corona\"}, {\"mpg\": 25.0, \"cylinders\": 4, \"displacement\": 98.0, \"horsepower\": null, \"weight\": 2046, \"acceleration\": 19.0, \"model_year\": 71, \"origin\": \"usa\", \"name\": \"ford pinto\"}, {\"mpg\": 19.0, \"cylinders\": 6, \"displacement\": 232.0, \"horsepower\": 100.0, \"weight\": 2634, \"acceleration\": 13.0, \"model_year\": 71, \"origin\": \"usa\", \"name\": \"amc gremlin\"}, {\"mpg\": 16.0, \"cylinders\": 6, \"displacement\": 225.0, \"horsepower\": 105.0, \"weight\": 3439, \"acceleration\": 15.5, \"model_year\": 71, \"origin\": \"usa\", \"name\": \"plymouth satellite custom\"}, {\"mpg\": 17.0, \"cylinders\": 6, \"displacement\": 250.0, \"horsepower\": 100.0, \"weight\": 3329, \"acceleration\": 15.5, \"model_year\": 71, \"origin\": \"usa\", \"name\": \"chevrolet chevelle malibu\"}, {\"mpg\": 19.0, \"cylinders\": 6, \"displacement\": 250.0, \"horsepower\": 88.0, \"weight\": 3302, \"acceleration\": 15.5, \"model_year\": 71, \"origin\": \"usa\", \"name\": \"ford torino 500\"}, {\"mpg\": 18.0, \"cylinders\": 6, \"displacement\": 232.0, \"horsepower\": 100.0, \"weight\": 3288, \"acceleration\": 15.5, \"model_year\": 71, \"origin\": \"usa\", \"name\": \"amc matador\"}, {\"mpg\": 14.0, \"cylinders\": 8, \"displacement\": 350.0, \"horsepower\": 165.0, \"weight\": 4209, \"acceleration\": 12.0, \"model_year\": 71, \"origin\": \"usa\", \"name\": \"chevrolet impala\"}, {\"mpg\": 14.0, \"cylinders\": 8, \"displacement\": 400.0, \"horsepower\": 175.0, \"weight\": 4464, \"acceleration\": 11.5, \"model_year\": 71, \"origin\": \"usa\", \"name\": \"pontiac catalina brougham\"}, {\"mpg\": 14.0, \"cylinders\": 8, \"displacement\": 351.0, \"horsepower\": 153.0, \"weight\": 4154, \"acceleration\": 13.5, \"model_year\": 71, \"origin\": \"usa\", \"name\": \"ford galaxie 500\"}, {\"mpg\": 14.0, \"cylinders\": 8, \"displacement\": 318.0, \"horsepower\": 150.0, \"weight\": 4096, \"acceleration\": 13.0, \"model_year\": 71, \"origin\": \"usa\", \"name\": \"plymouth fury iii\"}, {\"mpg\": 12.0, \"cylinders\": 8, \"displacement\": 383.0, \"horsepower\": 180.0, \"weight\": 4955, \"acceleration\": 11.5, \"model_year\": 71, \"origin\": \"usa\", \"name\": \"dodge monaco (sw)\"}, {\"mpg\": 13.0, \"cylinders\": 8, \"displacement\": 400.0, \"horsepower\": 170.0, \"weight\": 4746, \"acceleration\": 12.0, \"model_year\": 71, \"origin\": \"usa\", \"name\": \"ford country squire (sw)\"}, {\"mpg\": 13.0, \"cylinders\": 8, \"displacement\": 400.0, \"horsepower\": 175.0, \"weight\": 5140, \"acceleration\": 12.0, \"model_year\": 71, \"origin\": \"usa\", \"name\": \"pontiac safari (sw)\"}, {\"mpg\": 18.0, \"cylinders\": 6, \"displacement\": 258.0, \"horsepower\": 110.0, \"weight\": 2962, \"acceleration\": 13.5, \"model_year\": 71, \"origin\": \"usa\", \"name\": \"amc hornet sportabout (sw)\"}, {\"mpg\": 22.0, \"cylinders\": 4, \"displacement\": 140.0, \"horsepower\": 72.0, \"weight\": 2408, \"acceleration\": 19.0, \"model_year\": 71, \"origin\": \"usa\", \"name\": \"chevrolet vega (sw)\"}, {\"mpg\": 19.0, \"cylinders\": 6, \"displacement\": 250.0, \"horsepower\": 100.0, \"weight\": 3282, \"acceleration\": 15.0, \"model_year\": 71, \"origin\": \"usa\", \"name\": \"pontiac firebird\"}, {\"mpg\": 18.0, \"cylinders\": 6, \"displacement\": 250.0, \"horsepower\": 88.0, \"weight\": 3139, \"acceleration\": 14.5, \"model_year\": 71, \"origin\": \"usa\", \"name\": \"ford mustang\"}, {\"mpg\": 23.0, \"cylinders\": 4, \"displacement\": 122.0, \"horsepower\": 86.0, \"weight\": 2220, \"acceleration\": 14.0, \"model_year\": 71, \"origin\": \"usa\", \"name\": \"mercury capri 2000\"}, {\"mpg\": 28.0, \"cylinders\": 4, \"displacement\": 116.0, \"horsepower\": 90.0, \"weight\": 2123, \"acceleration\": 14.0, \"model_year\": 71, \"origin\": \"europe\", \"name\": \"opel 1900\"}, {\"mpg\": 30.0, \"cylinders\": 4, \"displacement\": 79.0, \"horsepower\": 70.0, \"weight\": 2074, \"acceleration\": 19.5, \"model_year\": 71, \"origin\": \"europe\", \"name\": \"peugeot 304\"}, {\"mpg\": 30.0, \"cylinders\": 4, \"displacement\": 88.0, \"horsepower\": 76.0, \"weight\": 2065, \"acceleration\": 14.5, \"model_year\": 71, \"origin\": \"europe\", \"name\": \"fiat 124b\"}, {\"mpg\": 31.0, \"cylinders\": 4, \"displacement\": 71.0, \"horsepower\": 65.0, \"weight\": 1773, \"acceleration\": 19.0, \"model_year\": 71, \"origin\": \"japan\", \"name\": \"toyota corolla 1200\"}, {\"mpg\": 35.0, \"cylinders\": 4, \"displacement\": 72.0, \"horsepower\": 69.0, \"weight\": 1613, \"acceleration\": 18.0, \"model_year\": 71, \"origin\": \"japan\", \"name\": \"datsun 1200\"}, {\"mpg\": 27.0, \"cylinders\": 4, \"displacement\": 97.0, \"horsepower\": 60.0, \"weight\": 1834, \"acceleration\": 19.0, \"model_year\": 71, \"origin\": \"europe\", \"name\": \"volkswagen model 111\"}, {\"mpg\": 26.0, \"cylinders\": 4, \"displacement\": 91.0, \"horsepower\": 70.0, \"weight\": 1955, \"acceleration\": 20.5, \"model_year\": 71, \"origin\": \"usa\", \"name\": \"plymouth cricket\"}, {\"mpg\": 24.0, \"cylinders\": 4, \"displacement\": 113.0, \"horsepower\": 95.0, \"weight\": 2278, \"acceleration\": 15.5, \"model_year\": 72, \"origin\": \"japan\", \"name\": \"toyota corona hardtop\"}, {\"mpg\": 25.0, \"cylinders\": 4, \"displacement\": 97.5, \"horsepower\": 80.0, \"weight\": 2126, \"acceleration\": 17.0, \"model_year\": 72, \"origin\": \"usa\", \"name\": \"dodge colt hardtop\"}, {\"mpg\": 23.0, \"cylinders\": 4, \"displacement\": 97.0, \"horsepower\": 54.0, \"weight\": 2254, \"acceleration\": 23.5, \"model_year\": 72, \"origin\": \"europe\", \"name\": \"volkswagen type 3\"}, {\"mpg\": 20.0, \"cylinders\": 4, \"displacement\": 140.0, \"horsepower\": 90.0, \"weight\": 2408, \"acceleration\": 19.5, \"model_year\": 72, \"origin\": \"usa\", \"name\": \"chevrolet vega\"}, {\"mpg\": 21.0, \"cylinders\": 4, \"displacement\": 122.0, \"horsepower\": 86.0, \"weight\": 2226, \"acceleration\": 16.5, \"model_year\": 72, \"origin\": \"usa\", \"name\": \"ford pinto runabout\"}, {\"mpg\": 13.0, \"cylinders\": 8, \"displacement\": 350.0, \"horsepower\": 165.0, \"weight\": 4274, \"acceleration\": 12.0, \"model_year\": 72, \"origin\": \"usa\", \"name\": \"chevrolet impala\"}, {\"mpg\": 14.0, \"cylinders\": 8, \"displacement\": 400.0, \"horsepower\": 175.0, \"weight\": 4385, \"acceleration\": 12.0, \"model_year\": 72, \"origin\": \"usa\", \"name\": \"pontiac catalina\"}, {\"mpg\": 15.0, \"cylinders\": 8, \"displacement\": 318.0, \"horsepower\": 150.0, \"weight\": 4135, \"acceleration\": 13.5, \"model_year\": 72, \"origin\": \"usa\", \"name\": \"plymouth fury iii\"}, {\"mpg\": 14.0, \"cylinders\": 8, \"displacement\": 351.0, \"horsepower\": 153.0, \"weight\": 4129, \"acceleration\": 13.0, \"model_year\": 72, \"origin\": \"usa\", \"name\": \"ford galaxie 500\"}, {\"mpg\": 17.0, \"cylinders\": 8, \"displacement\": 304.0, \"horsepower\": 150.0, \"weight\": 3672, \"acceleration\": 11.5, \"model_year\": 72, \"origin\": \"usa\", \"name\": \"amc ambassador sst\"}, {\"mpg\": 11.0, \"cylinders\": 8, \"displacement\": 429.0, \"horsepower\": 208.0, \"weight\": 4633, \"acceleration\": 11.0, \"model_year\": 72, \"origin\": \"usa\", \"name\": \"mercury marquis\"}, {\"mpg\": 13.0, \"cylinders\": 8, \"displacement\": 350.0, \"horsepower\": 155.0, \"weight\": 4502, \"acceleration\": 13.5, \"model_year\": 72, \"origin\": \"usa\", \"name\": \"buick lesabre custom\"}, {\"mpg\": 12.0, \"cylinders\": 8, \"displacement\": 350.0, \"horsepower\": 160.0, \"weight\": 4456, \"acceleration\": 13.5, \"model_year\": 72, \"origin\": \"usa\", \"name\": \"oldsmobile delta 88 royale\"}, {\"mpg\": 13.0, \"cylinders\": 8, \"displacement\": 400.0, \"horsepower\": 190.0, \"weight\": 4422, \"acceleration\": 12.5, \"model_year\": 72, \"origin\": \"usa\", \"name\": \"chrysler newport royal\"}, {\"mpg\": 19.0, \"cylinders\": 3, \"displacement\": 70.0, \"horsepower\": 97.0, \"weight\": 2330, \"acceleration\": 13.5, \"model_year\": 72, \"origin\": \"japan\", \"name\": \"mazda rx2 coupe\"}, {\"mpg\": 15.0, \"cylinders\": 8, \"displacement\": 304.0, \"horsepower\": 150.0, \"weight\": 3892, \"acceleration\": 12.5, \"model_year\": 72, \"origin\": \"usa\", \"name\": \"amc matador (sw)\"}, {\"mpg\": 13.0, \"cylinders\": 8, \"displacement\": 307.0, \"horsepower\": 130.0, \"weight\": 4098, \"acceleration\": 14.0, \"model_year\": 72, \"origin\": \"usa\", \"name\": \"chevrolet chevelle concours (sw)\"}, {\"mpg\": 13.0, \"cylinders\": 8, \"displacement\": 302.0, \"horsepower\": 140.0, \"weight\": 4294, \"acceleration\": 16.0, \"model_year\": 72, \"origin\": \"usa\", \"name\": \"ford gran torino (sw)\"}, {\"mpg\": 14.0, \"cylinders\": 8, \"displacement\": 318.0, \"horsepower\": 150.0, \"weight\": 4077, \"acceleration\": 14.0, \"model_year\": 72, \"origin\": \"usa\", \"name\": \"plymouth satellite custom (sw)\"}, {\"mpg\": 18.0, \"cylinders\": 4, \"displacement\": 121.0, \"horsepower\": 112.0, \"weight\": 2933, \"acceleration\": 14.5, \"model_year\": 72, \"origin\": \"europe\", \"name\": \"volvo 145e (sw)\"}, {\"mpg\": 22.0, \"cylinders\": 4, \"displacement\": 121.0, \"horsepower\": 76.0, \"weight\": 2511, \"acceleration\": 18.0, \"model_year\": 72, \"origin\": \"europe\", \"name\": \"volkswagen 411 (sw)\"}, {\"mpg\": 21.0, \"cylinders\": 4, \"displacement\": 120.0, \"horsepower\": 87.0, \"weight\": 2979, \"acceleration\": 19.5, \"model_year\": 72, \"origin\": \"europe\", \"name\": \"peugeot 504 (sw)\"}, {\"mpg\": 26.0, \"cylinders\": 4, \"displacement\": 96.0, \"horsepower\": 69.0, \"weight\": 2189, \"acceleration\": 18.0, \"model_year\": 72, \"origin\": \"europe\", \"name\": \"renault 12 (sw)\"}, {\"mpg\": 22.0, \"cylinders\": 4, \"displacement\": 122.0, \"horsepower\": 86.0, \"weight\": 2395, \"acceleration\": 16.0, \"model_year\": 72, \"origin\": \"usa\", \"name\": \"ford pinto (sw)\"}, {\"mpg\": 28.0, \"cylinders\": 4, \"displacement\": 97.0, \"horsepower\": 92.0, \"weight\": 2288, \"acceleration\": 17.0, \"model_year\": 72, \"origin\": \"japan\", \"name\": \"datsun 510 (sw)\"}, {\"mpg\": 23.0, \"cylinders\": 4, \"displacement\": 120.0, \"horsepower\": 97.0, \"weight\": 2506, \"acceleration\": 14.5, \"model_year\": 72, \"origin\": \"japan\", \"name\": \"toyouta corona mark ii (sw)\"}, {\"mpg\": 28.0, \"cylinders\": 4, \"displacement\": 98.0, \"horsepower\": 80.0, \"weight\": 2164, \"acceleration\": 15.0, \"model_year\": 72, \"origin\": \"usa\", \"name\": \"dodge colt (sw)\"}, {\"mpg\": 27.0, \"cylinders\": 4, \"displacement\": 97.0, \"horsepower\": 88.0, \"weight\": 2100, \"acceleration\": 16.5, \"model_year\": 72, \"origin\": \"japan\", \"name\": \"toyota corolla 1600 (sw)\"}, {\"mpg\": 13.0, \"cylinders\": 8, \"displacement\": 350.0, \"horsepower\": 175.0, \"weight\": 4100, \"acceleration\": 13.0, \"model_year\": 73, \"origin\": \"usa\", \"name\": \"buick century 350\"}, {\"mpg\": 14.0, \"cylinders\": 8, \"displacement\": 304.0, \"horsepower\": 150.0, \"weight\": 3672, \"acceleration\": 11.5, \"model_year\": 73, \"origin\": \"usa\", \"name\": \"amc matador\"}, {\"mpg\": 13.0, \"cylinders\": 8, \"displacement\": 350.0, \"horsepower\": 145.0, \"weight\": 3988, \"acceleration\": 13.0, \"model_year\": 73, \"origin\": \"usa\", \"name\": \"chevrolet malibu\"}, {\"mpg\": 14.0, \"cylinders\": 8, \"displacement\": 302.0, \"horsepower\": 137.0, \"weight\": 4042, \"acceleration\": 14.5, \"model_year\": 73, \"origin\": \"usa\", \"name\": \"ford gran torino\"}, {\"mpg\": 15.0, \"cylinders\": 8, \"displacement\": 318.0, \"horsepower\": 150.0, \"weight\": 3777, \"acceleration\": 12.5, \"model_year\": 73, \"origin\": \"usa\", \"name\": \"dodge coronet custom\"}, {\"mpg\": 12.0, \"cylinders\": 8, \"displacement\": 429.0, \"horsepower\": 198.0, \"weight\": 4952, \"acceleration\": 11.5, \"model_year\": 73, \"origin\": \"usa\", \"name\": \"mercury marquis brougham\"}, {\"mpg\": 13.0, \"cylinders\": 8, \"displacement\": 400.0, \"horsepower\": 150.0, \"weight\": 4464, \"acceleration\": 12.0, \"model_year\": 73, \"origin\": \"usa\", \"name\": \"chevrolet caprice classic\"}, {\"mpg\": 13.0, \"cylinders\": 8, \"displacement\": 351.0, \"horsepower\": 158.0, \"weight\": 4363, \"acceleration\": 13.0, \"model_year\": 73, \"origin\": \"usa\", \"name\": \"ford ltd\"}, {\"mpg\": 14.0, \"cylinders\": 8, \"displacement\": 318.0, \"horsepower\": 150.0, \"weight\": 4237, \"acceleration\": 14.5, \"model_year\": 73, \"origin\": \"usa\", \"name\": \"plymouth fury gran sedan\"}, {\"mpg\": 13.0, \"cylinders\": 8, \"displacement\": 440.0, \"horsepower\": 215.0, \"weight\": 4735, \"acceleration\": 11.0, \"model_year\": 73, \"origin\": \"usa\", \"name\": \"chrysler new yorker brougham\"}, {\"mpg\": 12.0, \"cylinders\": 8, \"displacement\": 455.0, \"horsepower\": 225.0, \"weight\": 4951, \"acceleration\": 11.0, \"model_year\": 73, \"origin\": \"usa\", \"name\": \"buick electra 225 custom\"}, {\"mpg\": 13.0, \"cylinders\": 8, \"displacement\": 360.0, \"horsepower\": 175.0, \"weight\": 3821, \"acceleration\": 11.0, \"model_year\": 73, \"origin\": \"usa\", \"name\": \"amc ambassador brougham\"}, {\"mpg\": 18.0, \"cylinders\": 6, \"displacement\": 225.0, \"horsepower\": 105.0, \"weight\": 3121, \"acceleration\": 16.5, \"model_year\": 73, \"origin\": \"usa\", \"name\": \"plymouth valiant\"}, {\"mpg\": 16.0, \"cylinders\": 6, \"displacement\": 250.0, \"horsepower\": 100.0, \"weight\": 3278, \"acceleration\": 18.0, \"model_year\": 73, \"origin\": \"usa\", \"name\": \"chevrolet nova custom\"}, {\"mpg\": 18.0, \"cylinders\": 6, \"displacement\": 232.0, \"horsepower\": 100.0, \"weight\": 2945, \"acceleration\": 16.0, \"model_year\": 73, \"origin\": \"usa\", \"name\": \"amc hornet\"}, {\"mpg\": 18.0, \"cylinders\": 6, \"displacement\": 250.0, \"horsepower\": 88.0, \"weight\": 3021, \"acceleration\": 16.5, \"model_year\": 73, \"origin\": \"usa\", \"name\": \"ford maverick\"}, {\"mpg\": 23.0, \"cylinders\": 6, \"displacement\": 198.0, \"horsepower\": 95.0, \"weight\": 2904, \"acceleration\": 16.0, \"model_year\": 73, \"origin\": \"usa\", \"name\": \"plymouth duster\"}, {\"mpg\": 26.0, \"cylinders\": 4, \"displacement\": 97.0, \"horsepower\": 46.0, \"weight\": 1950, \"acceleration\": 21.0, \"model_year\": 73, \"origin\": \"europe\", \"name\": \"volkswagen super beetle\"}, {\"mpg\": 11.0, \"cylinders\": 8, \"displacement\": 400.0, \"horsepower\": 150.0, \"weight\": 4997, \"acceleration\": 14.0, \"model_year\": 73, \"origin\": \"usa\", \"name\": \"chevrolet impala\"}, {\"mpg\": 12.0, \"cylinders\": 8, \"displacement\": 400.0, \"horsepower\": 167.0, \"weight\": 4906, \"acceleration\": 12.5, \"model_year\": 73, \"origin\": \"usa\", \"name\": \"ford country\"}, {\"mpg\": 13.0, \"cylinders\": 8, \"displacement\": 360.0, \"horsepower\": 170.0, \"weight\": 4654, \"acceleration\": 13.0, \"model_year\": 73, \"origin\": \"usa\", \"name\": \"plymouth custom suburb\"}, {\"mpg\": 12.0, \"cylinders\": 8, \"displacement\": 350.0, \"horsepower\": 180.0, \"weight\": 4499, \"acceleration\": 12.5, \"model_year\": 73, \"origin\": \"usa\", \"name\": \"oldsmobile vista cruiser\"}, {\"mpg\": 18.0, \"cylinders\": 6, \"displacement\": 232.0, \"horsepower\": 100.0, \"weight\": 2789, \"acceleration\": 15.0, \"model_year\": 73, \"origin\": \"usa\", \"name\": \"amc gremlin\"}, {\"mpg\": 20.0, \"cylinders\": 4, \"displacement\": 97.0, \"horsepower\": 88.0, \"weight\": 2279, \"acceleration\": 19.0, \"model_year\": 73, \"origin\": \"japan\", \"name\": \"toyota carina\"}, {\"mpg\": 21.0, \"cylinders\": 4, \"displacement\": 140.0, \"horsepower\": 72.0, \"weight\": 2401, \"acceleration\": 19.5, \"model_year\": 73, \"origin\": \"usa\", \"name\": \"chevrolet vega\"}, {\"mpg\": 22.0, \"cylinders\": 4, \"displacement\": 108.0, \"horsepower\": 94.0, \"weight\": 2379, \"acceleration\": 16.5, \"model_year\": 73, \"origin\": \"japan\", \"name\": \"datsun 610\"}, {\"mpg\": 18.0, \"cylinders\": 3, \"displacement\": 70.0, \"horsepower\": 90.0, \"weight\": 2124, \"acceleration\": 13.5, \"model_year\": 73, \"origin\": \"japan\", \"name\": \"maxda rx3\"}, {\"mpg\": 19.0, \"cylinders\": 4, \"displacement\": 122.0, \"horsepower\": 85.0, \"weight\": 2310, \"acceleration\": 18.5, \"model_year\": 73, \"origin\": \"usa\", \"name\": \"ford pinto\"}, {\"mpg\": 21.0, \"cylinders\": 6, \"displacement\": 155.0, \"horsepower\": 107.0, \"weight\": 2472, \"acceleration\": 14.0, \"model_year\": 73, \"origin\": \"usa\", \"name\": \"mercury capri v6\"}, {\"mpg\": 26.0, \"cylinders\": 4, \"displacement\": 98.0, \"horsepower\": 90.0, \"weight\": 2265, \"acceleration\": 15.5, \"model_year\": 73, \"origin\": \"europe\", \"name\": \"fiat 124 sport coupe\"}, {\"mpg\": 15.0, \"cylinders\": 8, \"displacement\": 350.0, \"horsepower\": 145.0, \"weight\": 4082, \"acceleration\": 13.0, \"model_year\": 73, \"origin\": \"usa\", \"name\": \"chevrolet monte carlo s\"}, {\"mpg\": 16.0, \"cylinders\": 8, \"displacement\": 400.0, \"horsepower\": 230.0, \"weight\": 4278, \"acceleration\": 9.5, \"model_year\": 73, \"origin\": \"usa\", \"name\": \"pontiac grand prix\"}, {\"mpg\": 29.0, \"cylinders\": 4, \"displacement\": 68.0, \"horsepower\": 49.0, \"weight\": 1867, \"acceleration\": 19.5, \"model_year\": 73, \"origin\": \"europe\", \"name\": \"fiat 128\"}, {\"mpg\": 24.0, \"cylinders\": 4, \"displacement\": 116.0, \"horsepower\": 75.0, \"weight\": 2158, \"acceleration\": 15.5, \"model_year\": 73, \"origin\": \"europe\", \"name\": \"opel manta\"}, {\"mpg\": 20.0, \"cylinders\": 4, \"displacement\": 114.0, \"horsepower\": 91.0, \"weight\": 2582, \"acceleration\": 14.0, \"model_year\": 73, \"origin\": \"europe\", \"name\": \"audi 100ls\"}, {\"mpg\": 19.0, \"cylinders\": 4, \"displacement\": 121.0, \"horsepower\": 112.0, \"weight\": 2868, \"acceleration\": 15.5, \"model_year\": 73, \"origin\": \"europe\", \"name\": \"volvo 144ea\"}, {\"mpg\": 15.0, \"cylinders\": 8, \"displacement\": 318.0, \"horsepower\": 150.0, \"weight\": 3399, \"acceleration\": 11.0, \"model_year\": 73, \"origin\": \"usa\", \"name\": \"dodge dart custom\"}, {\"mpg\": 24.0, \"cylinders\": 4, \"displacement\": 121.0, \"horsepower\": 110.0, \"weight\": 2660, \"acceleration\": 14.0, \"model_year\": 73, \"origin\": \"europe\", \"name\": \"saab 99le\"}, {\"mpg\": 20.0, \"cylinders\": 6, \"displacement\": 156.0, \"horsepower\": 122.0, \"weight\": 2807, \"acceleration\": 13.5, \"model_year\": 73, \"origin\": \"japan\", \"name\": \"toyota mark ii\"}, {\"mpg\": 11.0, \"cylinders\": 8, \"displacement\": 350.0, \"horsepower\": 180.0, \"weight\": 3664, \"acceleration\": 11.0, \"model_year\": 73, \"origin\": \"usa\", \"name\": \"oldsmobile omega\"}, {\"mpg\": 20.0, \"cylinders\": 6, \"displacement\": 198.0, \"horsepower\": 95.0, \"weight\": 3102, \"acceleration\": 16.5, \"model_year\": 74, \"origin\": \"usa\", \"name\": \"plymouth duster\"}, {\"mpg\": 21.0, \"cylinders\": 6, \"displacement\": 200.0, \"horsepower\": null, \"weight\": 2875, \"acceleration\": 17.0, \"model_year\": 74, \"origin\": \"usa\", \"name\": \"ford maverick\"}, {\"mpg\": 19.0, \"cylinders\": 6, \"displacement\": 232.0, \"horsepower\": 100.0, \"weight\": 2901, \"acceleration\": 16.0, \"model_year\": 74, \"origin\": \"usa\", \"name\": \"amc hornet\"}, {\"mpg\": 15.0, \"cylinders\": 6, \"displacement\": 250.0, \"horsepower\": 100.0, \"weight\": 3336, \"acceleration\": 17.0, \"model_year\": 74, \"origin\": \"usa\", \"name\": \"chevrolet nova\"}, {\"mpg\": 31.0, \"cylinders\": 4, \"displacement\": 79.0, \"horsepower\": 67.0, \"weight\": 1950, \"acceleration\": 19.0, \"model_year\": 74, \"origin\": \"japan\", \"name\": \"datsun b210\"}, {\"mpg\": 26.0, \"cylinders\": 4, \"displacement\": 122.0, \"horsepower\": 80.0, \"weight\": 2451, \"acceleration\": 16.5, \"model_year\": 74, \"origin\": \"usa\", \"name\": \"ford pinto\"}, {\"mpg\": 32.0, \"cylinders\": 4, \"displacement\": 71.0, \"horsepower\": 65.0, \"weight\": 1836, \"acceleration\": 21.0, \"model_year\": 74, \"origin\": \"japan\", \"name\": \"toyota corolla 1200\"}, {\"mpg\": 25.0, \"cylinders\": 4, \"displacement\": 140.0, \"horsepower\": 75.0, \"weight\": 2542, \"acceleration\": 17.0, \"model_year\": 74, \"origin\": \"usa\", \"name\": \"chevrolet vega\"}, {\"mpg\": 16.0, \"cylinders\": 6, \"displacement\": 250.0, \"horsepower\": 100.0, \"weight\": 3781, \"acceleration\": 17.0, \"model_year\": 74, \"origin\": \"usa\", \"name\": \"chevrolet chevelle malibu classic\"}, {\"mpg\": 16.0, \"cylinders\": 6, \"displacement\": 258.0, \"horsepower\": 110.0, \"weight\": 3632, \"acceleration\": 18.0, \"model_year\": 74, \"origin\": \"usa\", \"name\": \"amc matador\"}, {\"mpg\": 18.0, \"cylinders\": 6, \"displacement\": 225.0, \"horsepower\": 105.0, \"weight\": 3613, \"acceleration\": 16.5, \"model_year\": 74, \"origin\": \"usa\", \"name\": \"plymouth satellite sebring\"}, {\"mpg\": 16.0, \"cylinders\": 8, \"displacement\": 302.0, \"horsepower\": 140.0, \"weight\": 4141, \"acceleration\": 14.0, \"model_year\": 74, \"origin\": \"usa\", \"name\": \"ford gran torino\"}, {\"mpg\": 13.0, \"cylinders\": 8, \"displacement\": 350.0, \"horsepower\": 150.0, \"weight\": 4699, \"acceleration\": 14.5, \"model_year\": 74, \"origin\": \"usa\", \"name\": \"buick century luxus (sw)\"}, {\"mpg\": 14.0, \"cylinders\": 8, \"displacement\": 318.0, \"horsepower\": 150.0, \"weight\": 4457, \"acceleration\": 13.5, \"model_year\": 74, \"origin\": \"usa\", \"name\": \"dodge coronet custom (sw)\"}, {\"mpg\": 14.0, \"cylinders\": 8, \"displacement\": 302.0, \"horsepower\": 140.0, \"weight\": 4638, \"acceleration\": 16.0, \"model_year\": 74, \"origin\": \"usa\", \"name\": \"ford gran torino (sw)\"}, {\"mpg\": 14.0, \"cylinders\": 8, \"displacement\": 304.0, \"horsepower\": 150.0, \"weight\": 4257, \"acceleration\": 15.5, \"model_year\": 74, \"origin\": \"usa\", \"name\": \"amc matador (sw)\"}, {\"mpg\": 29.0, \"cylinders\": 4, \"displacement\": 98.0, \"horsepower\": 83.0, \"weight\": 2219, \"acceleration\": 16.5, \"model_year\": 74, \"origin\": \"europe\", \"name\": \"audi fox\"}, {\"mpg\": 26.0, \"cylinders\": 4, \"displacement\": 79.0, \"horsepower\": 67.0, \"weight\": 1963, \"acceleration\": 15.5, \"model_year\": 74, \"origin\": \"europe\", \"name\": \"volkswagen dasher\"}, {\"mpg\": 26.0, \"cylinders\": 4, \"displacement\": 97.0, \"horsepower\": 78.0, \"weight\": 2300, \"acceleration\": 14.5, \"model_year\": 74, \"origin\": \"europe\", \"name\": \"opel manta\"}, {\"mpg\": 31.0, \"cylinders\": 4, \"displacement\": 76.0, \"horsepower\": 52.0, \"weight\": 1649, \"acceleration\": 16.5, \"model_year\": 74, \"origin\": \"japan\", \"name\": \"toyota corona\"}, {\"mpg\": 32.0, \"cylinders\": 4, \"displacement\": 83.0, \"horsepower\": 61.0, \"weight\": 2003, \"acceleration\": 19.0, \"model_year\": 74, \"origin\": \"japan\", \"name\": \"datsun 710\"}, {\"mpg\": 28.0, \"cylinders\": 4, \"displacement\": 90.0, \"horsepower\": 75.0, \"weight\": 2125, \"acceleration\": 14.5, \"model_year\": 74, \"origin\": \"usa\", \"name\": \"dodge colt\"}, {\"mpg\": 24.0, \"cylinders\": 4, \"displacement\": 90.0, \"horsepower\": 75.0, \"weight\": 2108, \"acceleration\": 15.5, \"model_year\": 74, \"origin\": \"europe\", \"name\": \"fiat 128\"}, {\"mpg\": 26.0, \"cylinders\": 4, \"displacement\": 116.0, \"horsepower\": 75.0, \"weight\": 2246, \"acceleration\": 14.0, \"model_year\": 74, \"origin\": \"europe\", \"name\": \"fiat 124 tc\"}, {\"mpg\": 24.0, \"cylinders\": 4, \"displacement\": 120.0, \"horsepower\": 97.0, \"weight\": 2489, \"acceleration\": 15.0, \"model_year\": 74, \"origin\": \"japan\", \"name\": \"honda civic\"}, {\"mpg\": 26.0, \"cylinders\": 4, \"displacement\": 108.0, \"horsepower\": 93.0, \"weight\": 2391, \"acceleration\": 15.5, \"model_year\": 74, \"origin\": \"japan\", \"name\": \"subaru\"}, {\"mpg\": 31.0, \"cylinders\": 4, \"displacement\": 79.0, \"horsepower\": 67.0, \"weight\": 2000, \"acceleration\": 16.0, \"model_year\": 74, \"origin\": \"europe\", \"name\": \"fiat x1.9\"}, {\"mpg\": 19.0, \"cylinders\": 6, \"displacement\": 225.0, \"horsepower\": 95.0, \"weight\": 3264, \"acceleration\": 16.0, \"model_year\": 75, \"origin\": \"usa\", \"name\": \"plymouth valiant custom\"}, {\"mpg\": 18.0, \"cylinders\": 6, \"displacement\": 250.0, \"horsepower\": 105.0, \"weight\": 3459, \"acceleration\": 16.0, \"model_year\": 75, \"origin\": \"usa\", \"name\": \"chevrolet nova\"}, {\"mpg\": 15.0, \"cylinders\": 6, \"displacement\": 250.0, \"horsepower\": 72.0, \"weight\": 3432, \"acceleration\": 21.0, \"model_year\": 75, \"origin\": \"usa\", \"name\": \"mercury monarch\"}, {\"mpg\": 15.0, \"cylinders\": 6, \"displacement\": 250.0, \"horsepower\": 72.0, \"weight\": 3158, \"acceleration\": 19.5, \"model_year\": 75, \"origin\": \"usa\", \"name\": \"ford maverick\"}, {\"mpg\": 16.0, \"cylinders\": 8, \"displacement\": 400.0, \"horsepower\": 170.0, \"weight\": 4668, \"acceleration\": 11.5, \"model_year\": 75, \"origin\": \"usa\", \"name\": \"pontiac catalina\"}, {\"mpg\": 15.0, \"cylinders\": 8, \"displacement\": 350.0, \"horsepower\": 145.0, \"weight\": 4440, \"acceleration\": 14.0, \"model_year\": 75, \"origin\": \"usa\", \"name\": \"chevrolet bel air\"}, {\"mpg\": 16.0, \"cylinders\": 8, \"displacement\": 318.0, \"horsepower\": 150.0, \"weight\": 4498, \"acceleration\": 14.5, \"model_year\": 75, \"origin\": \"usa\", \"name\": \"plymouth grand fury\"}, {\"mpg\": 14.0, \"cylinders\": 8, \"displacement\": 351.0, \"horsepower\": 148.0, \"weight\": 4657, \"acceleration\": 13.5, \"model_year\": 75, \"origin\": \"usa\", \"name\": \"ford ltd\"}, {\"mpg\": 17.0, \"cylinders\": 6, \"displacement\": 231.0, \"horsepower\": 110.0, \"weight\": 3907, \"acceleration\": 21.0, \"model_year\": 75, \"origin\": \"usa\", \"name\": \"buick century\"}, {\"mpg\": 16.0, \"cylinders\": 6, \"displacement\": 250.0, \"horsepower\": 105.0, \"weight\": 3897, \"acceleration\": 18.5, \"model_year\": 75, \"origin\": \"usa\", \"name\": \"chevroelt chevelle malibu\"}, {\"mpg\": 15.0, \"cylinders\": 6, \"displacement\": 258.0, \"horsepower\": 110.0, \"weight\": 3730, \"acceleration\": 19.0, \"model_year\": 75, \"origin\": \"usa\", \"name\": \"amc matador\"}, {\"mpg\": 18.0, \"cylinders\": 6, \"displacement\": 225.0, \"horsepower\": 95.0, \"weight\": 3785, \"acceleration\": 19.0, \"model_year\": 75, \"origin\": \"usa\", \"name\": \"plymouth fury\"}, {\"mpg\": 21.0, \"cylinders\": 6, \"displacement\": 231.0, \"horsepower\": 110.0, \"weight\": 3039, \"acceleration\": 15.0, \"model_year\": 75, \"origin\": \"usa\", \"name\": \"buick skyhawk\"}, {\"mpg\": 20.0, \"cylinders\": 8, \"displacement\": 262.0, \"horsepower\": 110.0, \"weight\": 3221, \"acceleration\": 13.5, \"model_year\": 75, \"origin\": \"usa\", \"name\": \"chevrolet monza 2+2\"}, {\"mpg\": 13.0, \"cylinders\": 8, \"displacement\": 302.0, \"horsepower\": 129.0, \"weight\": 3169, \"acceleration\": 12.0, \"model_year\": 75, \"origin\": \"usa\", \"name\": \"ford mustang ii\"}, {\"mpg\": 29.0, \"cylinders\": 4, \"displacement\": 97.0, \"horsepower\": 75.0, \"weight\": 2171, \"acceleration\": 16.0, \"model_year\": 75, \"origin\": \"japan\", \"name\": \"toyota corolla\"}, {\"mpg\": 23.0, \"cylinders\": 4, \"displacement\": 140.0, \"horsepower\": 83.0, \"weight\": 2639, \"acceleration\": 17.0, \"model_year\": 75, \"origin\": \"usa\", \"name\": \"ford pinto\"}, {\"mpg\": 20.0, \"cylinders\": 6, \"displacement\": 232.0, \"horsepower\": 100.0, \"weight\": 2914, \"acceleration\": 16.0, \"model_year\": 75, \"origin\": \"usa\", \"name\": \"amc gremlin\"}, {\"mpg\": 23.0, \"cylinders\": 4, \"displacement\": 140.0, \"horsepower\": 78.0, \"weight\": 2592, \"acceleration\": 18.5, \"model_year\": 75, \"origin\": \"usa\", \"name\": \"pontiac astro\"}, {\"mpg\": 24.0, \"cylinders\": 4, \"displacement\": 134.0, \"horsepower\": 96.0, \"weight\": 2702, \"acceleration\": 13.5, \"model_year\": 75, \"origin\": \"japan\", \"name\": \"toyota corona\"}, {\"mpg\": 25.0, \"cylinders\": 4, \"displacement\": 90.0, \"horsepower\": 71.0, \"weight\": 2223, \"acceleration\": 16.5, \"model_year\": 75, \"origin\": \"europe\", \"name\": \"volkswagen dasher\"}, {\"mpg\": 24.0, \"cylinders\": 4, \"displacement\": 119.0, \"horsepower\": 97.0, \"weight\": 2545, \"acceleration\": 17.0, \"model_year\": 75, \"origin\": \"japan\", \"name\": \"datsun 710\"}, {\"mpg\": 18.0, \"cylinders\": 6, \"displacement\": 171.0, \"horsepower\": 97.0, \"weight\": 2984, \"acceleration\": 14.5, \"model_year\": 75, \"origin\": \"usa\", \"name\": \"ford pinto\"}, {\"mpg\": 29.0, \"cylinders\": 4, \"displacement\": 90.0, \"horsepower\": 70.0, \"weight\": 1937, \"acceleration\": 14.0, \"model_year\": 75, \"origin\": \"europe\", \"name\": \"volkswagen rabbit\"}, {\"mpg\": 19.0, \"cylinders\": 6, \"displacement\": 232.0, \"horsepower\": 90.0, \"weight\": 3211, \"acceleration\": 17.0, \"model_year\": 75, \"origin\": \"usa\", \"name\": \"amc pacer\"}, {\"mpg\": 23.0, \"cylinders\": 4, \"displacement\": 115.0, \"horsepower\": 95.0, \"weight\": 2694, \"acceleration\": 15.0, \"model_year\": 75, \"origin\": \"europe\", \"name\": \"audi 100ls\"}, {\"mpg\": 23.0, \"cylinders\": 4, \"displacement\": 120.0, \"horsepower\": 88.0, \"weight\": 2957, \"acceleration\": 17.0, \"model_year\": 75, \"origin\": \"europe\", \"name\": \"peugeot 504\"}, {\"mpg\": 22.0, \"cylinders\": 4, \"displacement\": 121.0, \"horsepower\": 98.0, \"weight\": 2945, \"acceleration\": 14.5, \"model_year\": 75, \"origin\": \"europe\", \"name\": \"volvo 244dl\"}, {\"mpg\": 25.0, \"cylinders\": 4, \"displacement\": 121.0, \"horsepower\": 115.0, \"weight\": 2671, \"acceleration\": 13.5, \"model_year\": 75, \"origin\": \"europe\", \"name\": \"saab 99le\"}, {\"mpg\": 33.0, \"cylinders\": 4, \"displacement\": 91.0, \"horsepower\": 53.0, \"weight\": 1795, \"acceleration\": 17.5, \"model_year\": 75, \"origin\": \"japan\", \"name\": \"honda civic cvcc\"}, {\"mpg\": 28.0, \"cylinders\": 4, \"displacement\": 107.0, \"horsepower\": 86.0, \"weight\": 2464, \"acceleration\": 15.5, \"model_year\": 76, \"origin\": \"europe\", \"name\": \"fiat 131\"}, {\"mpg\": 25.0, \"cylinders\": 4, \"displacement\": 116.0, \"horsepower\": 81.0, \"weight\": 2220, \"acceleration\": 16.9, \"model_year\": 76, \"origin\": \"europe\", \"name\": \"opel 1900\"}, {\"mpg\": 25.0, \"cylinders\": 4, \"displacement\": 140.0, \"horsepower\": 92.0, \"weight\": 2572, \"acceleration\": 14.9, \"model_year\": 76, \"origin\": \"usa\", \"name\": \"capri ii\"}, {\"mpg\": 26.0, \"cylinders\": 4, \"displacement\": 98.0, \"horsepower\": 79.0, \"weight\": 2255, \"acceleration\": 17.7, \"model_year\": 76, \"origin\": \"usa\", \"name\": \"dodge colt\"}, {\"mpg\": 27.0, \"cylinders\": 4, \"displacement\": 101.0, \"horsepower\": 83.0, \"weight\": 2202, \"acceleration\": 15.3, \"model_year\": 76, \"origin\": \"europe\", \"name\": \"renault 12tl\"}, {\"mpg\": 17.5, \"cylinders\": 8, \"displacement\": 305.0, \"horsepower\": 140.0, \"weight\": 4215, \"acceleration\": 13.0, \"model_year\": 76, \"origin\": \"usa\", \"name\": \"chevrolet chevelle malibu classic\"}, {\"mpg\": 16.0, \"cylinders\": 8, \"displacement\": 318.0, \"horsepower\": 150.0, \"weight\": 4190, \"acceleration\": 13.0, \"model_year\": 76, \"origin\": \"usa\", \"name\": \"dodge coronet brougham\"}, {\"mpg\": 15.5, \"cylinders\": 8, \"displacement\": 304.0, \"horsepower\": 120.0, \"weight\": 3962, \"acceleration\": 13.9, \"model_year\": 76, \"origin\": \"usa\", \"name\": \"amc matador\"}, {\"mpg\": 14.5, \"cylinders\": 8, \"displacement\": 351.0, \"horsepower\": 152.0, \"weight\": 4215, \"acceleration\": 12.8, \"model_year\": 76, \"origin\": \"usa\", \"name\": \"ford gran torino\"}, {\"mpg\": 22.0, \"cylinders\": 6, \"displacement\": 225.0, \"horsepower\": 100.0, \"weight\": 3233, \"acceleration\": 15.4, \"model_year\": 76, \"origin\": \"usa\", \"name\": \"plymouth valiant\"}, {\"mpg\": 22.0, \"cylinders\": 6, \"displacement\": 250.0, \"horsepower\": 105.0, \"weight\": 3353, \"acceleration\": 14.5, \"model_year\": 76, \"origin\": \"usa\", \"name\": \"chevrolet nova\"}, {\"mpg\": 24.0, \"cylinders\": 6, \"displacement\": 200.0, \"horsepower\": 81.0, \"weight\": 3012, \"acceleration\": 17.6, \"model_year\": 76, \"origin\": \"usa\", \"name\": \"ford maverick\"}, {\"mpg\": 22.5, \"cylinders\": 6, \"displacement\": 232.0, \"horsepower\": 90.0, \"weight\": 3085, \"acceleration\": 17.6, \"model_year\": 76, \"origin\": \"usa\", \"name\": \"amc hornet\"}, {\"mpg\": 29.0, \"cylinders\": 4, \"displacement\": 85.0, \"horsepower\": 52.0, \"weight\": 2035, \"acceleration\": 22.2, \"model_year\": 76, \"origin\": \"usa\", \"name\": \"chevrolet chevette\"}, {\"mpg\": 24.5, \"cylinders\": 4, \"displacement\": 98.0, \"horsepower\": 60.0, \"weight\": 2164, \"acceleration\": 22.1, \"model_year\": 76, \"origin\": \"usa\", \"name\": \"chevrolet woody\"}, {\"mpg\": 29.0, \"cylinders\": 4, \"displacement\": 90.0, \"horsepower\": 70.0, \"weight\": 1937, \"acceleration\": 14.2, \"model_year\": 76, \"origin\": \"europe\", \"name\": \"vw rabbit\"}, {\"mpg\": 33.0, \"cylinders\": 4, \"displacement\": 91.0, \"horsepower\": 53.0, \"weight\": 1795, \"acceleration\": 17.4, \"model_year\": 76, \"origin\": \"japan\", \"name\": \"honda civic\"}, {\"mpg\": 20.0, \"cylinders\": 6, \"displacement\": 225.0, \"horsepower\": 100.0, \"weight\": 3651, \"acceleration\": 17.7, \"model_year\": 76, \"origin\": \"usa\", \"name\": \"dodge aspen se\"}, {\"mpg\": 18.0, \"cylinders\": 6, \"displacement\": 250.0, \"horsepower\": 78.0, \"weight\": 3574, \"acceleration\": 21.0, \"model_year\": 76, \"origin\": \"usa\", \"name\": \"ford granada ghia\"}, {\"mpg\": 18.5, \"cylinders\": 6, \"displacement\": 250.0, \"horsepower\": 110.0, \"weight\": 3645, \"acceleration\": 16.2, \"model_year\": 76, \"origin\": \"usa\", \"name\": \"pontiac ventura sj\"}, {\"mpg\": 17.5, \"cylinders\": 6, \"displacement\": 258.0, \"horsepower\": 95.0, \"weight\": 3193, \"acceleration\": 17.8, \"model_year\": 76, \"origin\": \"usa\", \"name\": \"amc pacer d/l\"}, {\"mpg\": 29.5, \"cylinders\": 4, \"displacement\": 97.0, \"horsepower\": 71.0, \"weight\": 1825, \"acceleration\": 12.2, \"model_year\": 76, \"origin\": \"europe\", \"name\": \"volkswagen rabbit\"}, {\"mpg\": 32.0, \"cylinders\": 4, \"displacement\": 85.0, \"horsepower\": 70.0, \"weight\": 1990, \"acceleration\": 17.0, \"model_year\": 76, \"origin\": \"japan\", \"name\": \"datsun b-210\"}, {\"mpg\": 28.0, \"cylinders\": 4, \"displacement\": 97.0, \"horsepower\": 75.0, \"weight\": 2155, \"acceleration\": 16.4, \"model_year\": 76, \"origin\": \"japan\", \"name\": \"toyota corolla\"}, {\"mpg\": 26.5, \"cylinders\": 4, \"displacement\": 140.0, \"horsepower\": 72.0, \"weight\": 2565, \"acceleration\": 13.6, \"model_year\": 76, \"origin\": \"usa\", \"name\": \"ford pinto\"}, {\"mpg\": 20.0, \"cylinders\": 4, \"displacement\": 130.0, \"horsepower\": 102.0, \"weight\": 3150, \"acceleration\": 15.7, \"model_year\": 76, \"origin\": \"europe\", \"name\": \"volvo 245\"}, {\"mpg\": 13.0, \"cylinders\": 8, \"displacement\": 318.0, \"horsepower\": 150.0, \"weight\": 3940, \"acceleration\": 13.2, \"model_year\": 76, \"origin\": \"usa\", \"name\": \"plymouth volare premier v8\"}, {\"mpg\": 19.0, \"cylinders\": 4, \"displacement\": 120.0, \"horsepower\": 88.0, \"weight\": 3270, \"acceleration\": 21.9, \"model_year\": 76, \"origin\": \"europe\", \"name\": \"peugeot 504\"}, {\"mpg\": 19.0, \"cylinders\": 6, \"displacement\": 156.0, \"horsepower\": 108.0, \"weight\": 2930, \"acceleration\": 15.5, \"model_year\": 76, \"origin\": \"japan\", \"name\": \"toyota mark ii\"}, {\"mpg\": 16.5, \"cylinders\": 6, \"displacement\": 168.0, \"horsepower\": 120.0, \"weight\": 3820, \"acceleration\": 16.7, \"model_year\": 76, \"origin\": \"europe\", \"name\": \"mercedes-benz 280s\"}, {\"mpg\": 16.5, \"cylinders\": 8, \"displacement\": 350.0, \"horsepower\": 180.0, \"weight\": 4380, \"acceleration\": 12.1, \"model_year\": 76, \"origin\": \"usa\", \"name\": \"cadillac seville\"}, {\"mpg\": 13.0, \"cylinders\": 8, \"displacement\": 350.0, \"horsepower\": 145.0, \"weight\": 4055, \"acceleration\": 12.0, \"model_year\": 76, \"origin\": \"usa\", \"name\": \"chevy c10\"}, {\"mpg\": 13.0, \"cylinders\": 8, \"displacement\": 302.0, \"horsepower\": 130.0, \"weight\": 3870, \"acceleration\": 15.0, \"model_year\": 76, \"origin\": \"usa\", \"name\": \"ford f108\"}, {\"mpg\": 13.0, \"cylinders\": 8, \"displacement\": 318.0, \"horsepower\": 150.0, \"weight\": 3755, \"acceleration\": 14.0, \"model_year\": 76, \"origin\": \"usa\", \"name\": \"dodge d100\"}, {\"mpg\": 31.5, \"cylinders\": 4, \"displacement\": 98.0, \"horsepower\": 68.0, \"weight\": 2045, \"acceleration\": 18.5, \"model_year\": 77, \"origin\": \"japan\", \"name\": \"honda accord cvcc\"}, {\"mpg\": 30.0, \"cylinders\": 4, \"displacement\": 111.0, \"horsepower\": 80.0, \"weight\": 2155, \"acceleration\": 14.8, \"model_year\": 77, \"origin\": \"usa\", \"name\": \"buick opel isuzu deluxe\"}, {\"mpg\": 36.0, \"cylinders\": 4, \"displacement\": 79.0, \"horsepower\": 58.0, \"weight\": 1825, \"acceleration\": 18.6, \"model_year\": 77, \"origin\": \"europe\", \"name\": \"renault 5 gtl\"}, {\"mpg\": 25.5, \"cylinders\": 4, \"displacement\": 122.0, \"horsepower\": 96.0, \"weight\": 2300, \"acceleration\": 15.5, \"model_year\": 77, \"origin\": \"usa\", \"name\": \"plymouth arrow gs\"}, {\"mpg\": 33.5, \"cylinders\": 4, \"displacement\": 85.0, \"horsepower\": 70.0, \"weight\": 1945, \"acceleration\": 16.8, \"model_year\": 77, \"origin\": \"japan\", \"name\": \"datsun f-10 hatchback\"}, {\"mpg\": 17.5, \"cylinders\": 8, \"displacement\": 305.0, \"horsepower\": 145.0, \"weight\": 3880, \"acceleration\": 12.5, \"model_year\": 77, \"origin\": \"usa\", \"name\": \"chevrolet caprice classic\"}, {\"mpg\": 17.0, \"cylinders\": 8, \"displacement\": 260.0, \"horsepower\": 110.0, \"weight\": 4060, \"acceleration\": 19.0, \"model_year\": 77, \"origin\": \"usa\", \"name\": \"oldsmobile cutlass supreme\"}, {\"mpg\": 15.5, \"cylinders\": 8, \"displacement\": 318.0, \"horsepower\": 145.0, \"weight\": 4140, \"acceleration\": 13.7, \"model_year\": 77, \"origin\": \"usa\", \"name\": \"dodge monaco brougham\"}, {\"mpg\": 15.0, \"cylinders\": 8, \"displacement\": 302.0, \"horsepower\": 130.0, \"weight\": 4295, \"acceleration\": 14.9, \"model_year\": 77, \"origin\": \"usa\", \"name\": \"mercury cougar brougham\"}, {\"mpg\": 17.5, \"cylinders\": 6, \"displacement\": 250.0, \"horsepower\": 110.0, \"weight\": 3520, \"acceleration\": 16.4, \"model_year\": 77, \"origin\": \"usa\", \"name\": \"chevrolet concours\"}, {\"mpg\": 20.5, \"cylinders\": 6, \"displacement\": 231.0, \"horsepower\": 105.0, \"weight\": 3425, \"acceleration\": 16.9, \"model_year\": 77, \"origin\": \"usa\", \"name\": \"buick skylark\"}, {\"mpg\": 19.0, \"cylinders\": 6, \"displacement\": 225.0, \"horsepower\": 100.0, \"weight\": 3630, \"acceleration\": 17.7, \"model_year\": 77, \"origin\": \"usa\", \"name\": \"plymouth volare custom\"}, {\"mpg\": 18.5, \"cylinders\": 6, \"displacement\": 250.0, \"horsepower\": 98.0, \"weight\": 3525, \"acceleration\": 19.0, \"model_year\": 77, \"origin\": \"usa\", \"name\": \"ford granada\"}, {\"mpg\": 16.0, \"cylinders\": 8, \"displacement\": 400.0, \"horsepower\": 180.0, \"weight\": 4220, \"acceleration\": 11.1, \"model_year\": 77, \"origin\": \"usa\", \"name\": \"pontiac grand prix lj\"}, {\"mpg\": 15.5, \"cylinders\": 8, \"displacement\": 350.0, \"horsepower\": 170.0, \"weight\": 4165, \"acceleration\": 11.4, \"model_year\": 77, \"origin\": \"usa\", \"name\": \"chevrolet monte carlo landau\"}, {\"mpg\": 15.5, \"cylinders\": 8, \"displacement\": 400.0, \"horsepower\": 190.0, \"weight\": 4325, \"acceleration\": 12.2, \"model_year\": 77, \"origin\": \"usa\", \"name\": \"chrysler cordoba\"}, {\"mpg\": 16.0, \"cylinders\": 8, \"displacement\": 351.0, \"horsepower\": 149.0, \"weight\": 4335, \"acceleration\": 14.5, \"model_year\": 77, \"origin\": \"usa\", \"name\": \"ford thunderbird\"}, {\"mpg\": 29.0, \"cylinders\": 4, \"displacement\": 97.0, \"horsepower\": 78.0, \"weight\": 1940, \"acceleration\": 14.5, \"model_year\": 77, \"origin\": \"europe\", \"name\": \"volkswagen rabbit custom\"}, {\"mpg\": 24.5, \"cylinders\": 4, \"displacement\": 151.0, \"horsepower\": 88.0, \"weight\": 2740, \"acceleration\": 16.0, \"model_year\": 77, \"origin\": \"usa\", \"name\": \"pontiac sunbird coupe\"}, {\"mpg\": 26.0, \"cylinders\": 4, \"displacement\": 97.0, \"horsepower\": 75.0, \"weight\": 2265, \"acceleration\": 18.2, \"model_year\": 77, \"origin\": \"japan\", \"name\": \"toyota corolla liftback\"}, {\"mpg\": 25.5, \"cylinders\": 4, \"displacement\": 140.0, \"horsepower\": 89.0, \"weight\": 2755, \"acceleration\": 15.8, \"model_year\": 77, \"origin\": \"usa\", \"name\": \"ford mustang ii 2+2\"}, {\"mpg\": 30.5, \"cylinders\": 4, \"displacement\": 98.0, \"horsepower\": 63.0, \"weight\": 2051, \"acceleration\": 17.0, \"model_year\": 77, \"origin\": \"usa\", \"name\": \"chevrolet chevette\"}, {\"mpg\": 33.5, \"cylinders\": 4, \"displacement\": 98.0, \"horsepower\": 83.0, \"weight\": 2075, \"acceleration\": 15.9, \"model_year\": 77, \"origin\": \"usa\", \"name\": \"dodge colt m/m\"}, {\"mpg\": 30.0, \"cylinders\": 4, \"displacement\": 97.0, \"horsepower\": 67.0, \"weight\": 1985, \"acceleration\": 16.4, \"model_year\": 77, \"origin\": \"japan\", \"name\": \"subaru dl\"}, {\"mpg\": 30.5, \"cylinders\": 4, \"displacement\": 97.0, \"horsepower\": 78.0, \"weight\": 2190, \"acceleration\": 14.1, \"model_year\": 77, \"origin\": \"europe\", \"name\": \"volkswagen dasher\"}, {\"mpg\": 22.0, \"cylinders\": 6, \"displacement\": 146.0, \"horsepower\": 97.0, \"weight\": 2815, \"acceleration\": 14.5, \"model_year\": 77, \"origin\": \"japan\", \"name\": \"datsun 810\"}, {\"mpg\": 21.5, \"cylinders\": 4, \"displacement\": 121.0, \"horsepower\": 110.0, \"weight\": 2600, \"acceleration\": 12.8, \"model_year\": 77, \"origin\": \"europe\", \"name\": \"bmw 320i\"}, {\"mpg\": 21.5, \"cylinders\": 3, \"displacement\": 80.0, \"horsepower\": 110.0, \"weight\": 2720, \"acceleration\": 13.5, \"model_year\": 77, \"origin\": \"japan\", \"name\": \"mazda rx-4\"}, {\"mpg\": 43.1, \"cylinders\": 4, \"displacement\": 90.0, \"horsepower\": 48.0, \"weight\": 1985, \"acceleration\": 21.5, \"model_year\": 78, \"origin\": \"europe\", \"name\": \"volkswagen rabbit custom diesel\"}, {\"mpg\": 36.1, \"cylinders\": 4, \"displacement\": 98.0, \"horsepower\": 66.0, \"weight\": 1800, \"acceleration\": 14.4, \"model_year\": 78, \"origin\": \"usa\", \"name\": \"ford fiesta\"}, {\"mpg\": 32.8, \"cylinders\": 4, \"displacement\": 78.0, \"horsepower\": 52.0, \"weight\": 1985, \"acceleration\": 19.4, \"model_year\": 78, \"origin\": \"japan\", \"name\": \"mazda glc deluxe\"}, {\"mpg\": 39.4, \"cylinders\": 4, \"displacement\": 85.0, \"horsepower\": 70.0, \"weight\": 2070, \"acceleration\": 18.6, \"model_year\": 78, \"origin\": \"japan\", \"name\": \"datsun b210 gx\"}, {\"mpg\": 36.1, \"cylinders\": 4, \"displacement\": 91.0, \"horsepower\": 60.0, \"weight\": 1800, \"acceleration\": 16.4, \"model_year\": 78, \"origin\": \"japan\", \"name\": \"honda civic cvcc\"}, {\"mpg\": 19.9, \"cylinders\": 8, \"displacement\": 260.0, \"horsepower\": 110.0, \"weight\": 3365, \"acceleration\": 15.5, \"model_year\": 78, \"origin\": \"usa\", \"name\": \"oldsmobile cutlass salon brougham\"}, {\"mpg\": 19.4, \"cylinders\": 8, \"displacement\": 318.0, \"horsepower\": 140.0, \"weight\": 3735, \"acceleration\": 13.2, \"model_year\": 78, \"origin\": \"usa\", \"name\": \"dodge diplomat\"}, {\"mpg\": 20.2, \"cylinders\": 8, \"displacement\": 302.0, \"horsepower\": 139.0, \"weight\": 3570, \"acceleration\": 12.8, \"model_year\": 78, \"origin\": \"usa\", \"name\": \"mercury monarch ghia\"}, {\"mpg\": 19.2, \"cylinders\": 6, \"displacement\": 231.0, \"horsepower\": 105.0, \"weight\": 3535, \"acceleration\": 19.2, \"model_year\": 78, \"origin\": \"usa\", \"name\": \"pontiac phoenix lj\"}, {\"mpg\": 20.5, \"cylinders\": 6, \"displacement\": 200.0, \"horsepower\": 95.0, \"weight\": 3155, \"acceleration\": 18.2, \"model_year\": 78, \"origin\": \"usa\", \"name\": \"chevrolet malibu\"}, {\"mpg\": 20.2, \"cylinders\": 6, \"displacement\": 200.0, \"horsepower\": 85.0, \"weight\": 2965, \"acceleration\": 15.8, \"model_year\": 78, \"origin\": \"usa\", \"name\": \"ford fairmont (auto)\"}, {\"mpg\": 25.1, \"cylinders\": 4, \"displacement\": 140.0, \"horsepower\": 88.0, \"weight\": 2720, \"acceleration\": 15.4, \"model_year\": 78, \"origin\": \"usa\", \"name\": \"ford fairmont (man)\"}, {\"mpg\": 20.5, \"cylinders\": 6, \"displacement\": 225.0, \"horsepower\": 100.0, \"weight\": 3430, \"acceleration\": 17.2, \"model_year\": 78, \"origin\": \"usa\", \"name\": \"plymouth volare\"}, {\"mpg\": 19.4, \"cylinders\": 6, \"displacement\": 232.0, \"horsepower\": 90.0, \"weight\": 3210, \"acceleration\": 17.2, \"model_year\": 78, \"origin\": \"usa\", \"name\": \"amc concord\"}, {\"mpg\": 20.6, \"cylinders\": 6, \"displacement\": 231.0, \"horsepower\": 105.0, \"weight\": 3380, \"acceleration\": 15.8, \"model_year\": 78, \"origin\": \"usa\", \"name\": \"buick century special\"}, {\"mpg\": 20.8, \"cylinders\": 6, \"displacement\": 200.0, \"horsepower\": 85.0, \"weight\": 3070, \"acceleration\": 16.7, \"model_year\": 78, \"origin\": \"usa\", \"name\": \"mercury zephyr\"}, {\"mpg\": 18.6, \"cylinders\": 6, \"displacement\": 225.0, \"horsepower\": 110.0, \"weight\": 3620, \"acceleration\": 18.7, \"model_year\": 78, \"origin\": \"usa\", \"name\": \"dodge aspen\"}, {\"mpg\": 18.1, \"cylinders\": 6, \"displacement\": 258.0, \"horsepower\": 120.0, \"weight\": 3410, \"acceleration\": 15.1, \"model_year\": 78, \"origin\": \"usa\", \"name\": \"amc concord d/l\"}, {\"mpg\": 19.2, \"cylinders\": 8, \"displacement\": 305.0, \"horsepower\": 145.0, \"weight\": 3425, \"acceleration\": 13.2, \"model_year\": 78, \"origin\": \"usa\", \"name\": \"chevrolet monte carlo landau\"}, {\"mpg\": 17.7, \"cylinders\": 6, \"displacement\": 231.0, \"horsepower\": 165.0, \"weight\": 3445, \"acceleration\": 13.4, \"model_year\": 78, \"origin\": \"usa\", \"name\": \"buick regal sport coupe (turbo)\"}, {\"mpg\": 18.1, \"cylinders\": 8, \"displacement\": 302.0, \"horsepower\": 139.0, \"weight\": 3205, \"acceleration\": 11.2, \"model_year\": 78, \"origin\": \"usa\", \"name\": \"ford futura\"}, {\"mpg\": 17.5, \"cylinders\": 8, \"displacement\": 318.0, \"horsepower\": 140.0, \"weight\": 4080, \"acceleration\": 13.7, \"model_year\": 78, \"origin\": \"usa\", \"name\": \"dodge magnum xe\"}, {\"mpg\": 30.0, \"cylinders\": 4, \"displacement\": 98.0, \"horsepower\": 68.0, \"weight\": 2155, \"acceleration\": 16.5, \"model_year\": 78, \"origin\": \"usa\", \"name\": \"chevrolet chevette\"}, {\"mpg\": 27.5, \"cylinders\": 4, \"displacement\": 134.0, \"horsepower\": 95.0, \"weight\": 2560, \"acceleration\": 14.2, \"model_year\": 78, \"origin\": \"japan\", \"name\": \"toyota corona\"}, {\"mpg\": 27.2, \"cylinders\": 4, \"displacement\": 119.0, \"horsepower\": 97.0, \"weight\": 2300, \"acceleration\": 14.7, \"model_year\": 78, \"origin\": \"japan\", \"name\": \"datsun 510\"}, {\"mpg\": 30.9, \"cylinders\": 4, \"displacement\": 105.0, \"horsepower\": 75.0, \"weight\": 2230, \"acceleration\": 14.5, \"model_year\": 78, \"origin\": \"usa\", \"name\": \"dodge omni\"}, {\"mpg\": 21.1, \"cylinders\": 4, \"displacement\": 134.0, \"horsepower\": 95.0, \"weight\": 2515, \"acceleration\": 14.8, \"model_year\": 78, \"origin\": \"japan\", \"name\": \"toyota celica gt liftback\"}, {\"mpg\": 23.2, \"cylinders\": 4, \"displacement\": 156.0, \"horsepower\": 105.0, \"weight\": 2745, \"acceleration\": 16.7, \"model_year\": 78, \"origin\": \"usa\", \"name\": \"plymouth sapporo\"}, {\"mpg\": 23.8, \"cylinders\": 4, \"displacement\": 151.0, \"horsepower\": 85.0, \"weight\": 2855, \"acceleration\": 17.6, \"model_year\": 78, \"origin\": \"usa\", \"name\": \"oldsmobile starfire sx\"}, {\"mpg\": 23.9, \"cylinders\": 4, \"displacement\": 119.0, \"horsepower\": 97.0, \"weight\": 2405, \"acceleration\": 14.9, \"model_year\": 78, \"origin\": \"japan\", \"name\": \"datsun 200-sx\"}, {\"mpg\": 20.3, \"cylinders\": 5, \"displacement\": 131.0, \"horsepower\": 103.0, \"weight\": 2830, \"acceleration\": 15.9, \"model_year\": 78, \"origin\": \"europe\", \"name\": \"audi 5000\"}, {\"mpg\": 17.0, \"cylinders\": 6, \"displacement\": 163.0, \"horsepower\": 125.0, \"weight\": 3140, \"acceleration\": 13.6, \"model_year\": 78, \"origin\": \"europe\", \"name\": \"volvo 264gl\"}, {\"mpg\": 21.6, \"cylinders\": 4, \"displacement\": 121.0, \"horsepower\": 115.0, \"weight\": 2795, \"acceleration\": 15.7, \"model_year\": 78, \"origin\": \"europe\", \"name\": \"saab 99gle\"}, {\"mpg\": 16.2, \"cylinders\": 6, \"displacement\": 163.0, \"horsepower\": 133.0, \"weight\": 3410, \"acceleration\": 15.8, \"model_year\": 78, \"origin\": \"europe\", \"name\": \"peugeot 604sl\"}, {\"mpg\": 31.5, \"cylinders\": 4, \"displacement\": 89.0, \"horsepower\": 71.0, \"weight\": 1990, \"acceleration\": 14.9, \"model_year\": 78, \"origin\": \"europe\", \"name\": \"volkswagen scirocco\"}, {\"mpg\": 29.5, \"cylinders\": 4, \"displacement\": 98.0, \"horsepower\": 68.0, \"weight\": 2135, \"acceleration\": 16.6, \"model_year\": 78, \"origin\": \"japan\", \"name\": \"honda accord lx\"}, {\"mpg\": 21.5, \"cylinders\": 6, \"displacement\": 231.0, \"horsepower\": 115.0, \"weight\": 3245, \"acceleration\": 15.4, \"model_year\": 79, \"origin\": \"usa\", \"name\": \"pontiac lemans v6\"}, {\"mpg\": 19.8, \"cylinders\": 6, \"displacement\": 200.0, \"horsepower\": 85.0, \"weight\": 2990, \"acceleration\": 18.2, \"model_year\": 79, \"origin\": \"usa\", \"name\": \"mercury zephyr 6\"}, {\"mpg\": 22.3, \"cylinders\": 4, \"displacement\": 140.0, \"horsepower\": 88.0, \"weight\": 2890, \"acceleration\": 17.3, \"model_year\": 79, \"origin\": \"usa\", \"name\": \"ford fairmont 4\"}, {\"mpg\": 20.2, \"cylinders\": 6, \"displacement\": 232.0, \"horsepower\": 90.0, \"weight\": 3265, \"acceleration\": 18.2, \"model_year\": 79, \"origin\": \"usa\", \"name\": \"amc concord dl 6\"}, {\"mpg\": 20.6, \"cylinders\": 6, \"displacement\": 225.0, \"horsepower\": 110.0, \"weight\": 3360, \"acceleration\": 16.6, \"model_year\": 79, \"origin\": \"usa\", \"name\": \"dodge aspen 6\"}, {\"mpg\": 17.0, \"cylinders\": 8, \"displacement\": 305.0, \"horsepower\": 130.0, \"weight\": 3840, \"acceleration\": 15.4, \"model_year\": 79, \"origin\": \"usa\", \"name\": \"chevrolet caprice classic\"}, {\"mpg\": 17.6, \"cylinders\": 8, \"displacement\": 302.0, \"horsepower\": 129.0, \"weight\": 3725, \"acceleration\": 13.4, \"model_year\": 79, \"origin\": \"usa\", \"name\": \"ford ltd landau\"}, {\"mpg\": 16.5, \"cylinders\": 8, \"displacement\": 351.0, \"horsepower\": 138.0, \"weight\": 3955, \"acceleration\": 13.2, \"model_year\": 79, \"origin\": \"usa\", \"name\": \"mercury grand marquis\"}, {\"mpg\": 18.2, \"cylinders\": 8, \"displacement\": 318.0, \"horsepower\": 135.0, \"weight\": 3830, \"acceleration\": 15.2, \"model_year\": 79, \"origin\": \"usa\", \"name\": \"dodge st. regis\"}, {\"mpg\": 16.9, \"cylinders\": 8, \"displacement\": 350.0, \"horsepower\": 155.0, \"weight\": 4360, \"acceleration\": 14.9, \"model_year\": 79, \"origin\": \"usa\", \"name\": \"buick estate wagon (sw)\"}, {\"mpg\": 15.5, \"cylinders\": 8, \"displacement\": 351.0, \"horsepower\": 142.0, \"weight\": 4054, \"acceleration\": 14.3, \"model_year\": 79, \"origin\": \"usa\", \"name\": \"ford country squire (sw)\"}, {\"mpg\": 19.2, \"cylinders\": 8, \"displacement\": 267.0, \"horsepower\": 125.0, \"weight\": 3605, \"acceleration\": 15.0, \"model_year\": 79, \"origin\": \"usa\", \"name\": \"chevrolet malibu classic (sw)\"}, {\"mpg\": 18.5, \"cylinders\": 8, \"displacement\": 360.0, \"horsepower\": 150.0, \"weight\": 3940, \"acceleration\": 13.0, \"model_year\": 79, \"origin\": \"usa\", \"name\": \"chrysler lebaron town @ country (sw)\"}, {\"mpg\": 31.9, \"cylinders\": 4, \"displacement\": 89.0, \"horsepower\": 71.0, \"weight\": 1925, \"acceleration\": 14.0, \"model_year\": 79, \"origin\": \"europe\", \"name\": \"vw rabbit custom\"}, {\"mpg\": 34.1, \"cylinders\": 4, \"displacement\": 86.0, \"horsepower\": 65.0, \"weight\": 1975, \"acceleration\": 15.2, \"model_year\": 79, \"origin\": \"japan\", \"name\": \"maxda glc deluxe\"}, {\"mpg\": 35.7, \"cylinders\": 4, \"displacement\": 98.0, \"horsepower\": 80.0, \"weight\": 1915, \"acceleration\": 14.4, \"model_year\": 79, \"origin\": \"usa\", \"name\": \"dodge colt hatchback custom\"}, {\"mpg\": 27.4, \"cylinders\": 4, \"displacement\": 121.0, \"horsepower\": 80.0, \"weight\": 2670, \"acceleration\": 15.0, \"model_year\": 79, \"origin\": \"usa\", \"name\": \"amc spirit dl\"}, {\"mpg\": 25.4, \"cylinders\": 5, \"displacement\": 183.0, \"horsepower\": 77.0, \"weight\": 3530, \"acceleration\": 20.1, \"model_year\": 79, \"origin\": \"europe\", \"name\": \"mercedes benz 300d\"}, {\"mpg\": 23.0, \"cylinders\": 8, \"displacement\": 350.0, \"horsepower\": 125.0, \"weight\": 3900, \"acceleration\": 17.4, \"model_year\": 79, \"origin\": \"usa\", \"name\": \"cadillac eldorado\"}, {\"mpg\": 27.2, \"cylinders\": 4, \"displacement\": 141.0, \"horsepower\": 71.0, \"weight\": 3190, \"acceleration\": 24.8, \"model_year\": 79, \"origin\": \"europe\", \"name\": \"peugeot 504\"}, {\"mpg\": 23.9, \"cylinders\": 8, \"displacement\": 260.0, \"horsepower\": 90.0, \"weight\": 3420, \"acceleration\": 22.2, \"model_year\": 79, \"origin\": \"usa\", \"name\": \"oldsmobile cutlass salon brougham\"}, {\"mpg\": 34.2, \"cylinders\": 4, \"displacement\": 105.0, \"horsepower\": 70.0, \"weight\": 2200, \"acceleration\": 13.2, \"model_year\": 79, \"origin\": \"usa\", \"name\": \"plymouth horizon\"}, {\"mpg\": 34.5, \"cylinders\": 4, \"displacement\": 105.0, \"horsepower\": 70.0, \"weight\": 2150, \"acceleration\": 14.9, \"model_year\": 79, \"origin\": \"usa\", \"name\": \"plymouth horizon tc3\"}, {\"mpg\": 31.8, \"cylinders\": 4, \"displacement\": 85.0, \"horsepower\": 65.0, \"weight\": 2020, \"acceleration\": 19.2, \"model_year\": 79, \"origin\": \"japan\", \"name\": \"datsun 210\"}, {\"mpg\": 37.3, \"cylinders\": 4, \"displacement\": 91.0, \"horsepower\": 69.0, \"weight\": 2130, \"acceleration\": 14.7, \"model_year\": 79, \"origin\": \"europe\", \"name\": \"fiat strada custom\"}, {\"mpg\": 28.4, \"cylinders\": 4, \"displacement\": 151.0, \"horsepower\": 90.0, \"weight\": 2670, \"acceleration\": 16.0, \"model_year\": 79, \"origin\": \"usa\", \"name\": \"buick skylark limited\"}, {\"mpg\": 28.8, \"cylinders\": 6, \"displacement\": 173.0, \"horsepower\": 115.0, \"weight\": 2595, \"acceleration\": 11.3, \"model_year\": 79, \"origin\": \"usa\", \"name\": \"chevrolet citation\"}, {\"mpg\": 26.8, \"cylinders\": 6, \"displacement\": 173.0, \"horsepower\": 115.0, \"weight\": 2700, \"acceleration\": 12.9, \"model_year\": 79, \"origin\": \"usa\", \"name\": \"oldsmobile omega brougham\"}, {\"mpg\": 33.5, \"cylinders\": 4, \"displacement\": 151.0, \"horsepower\": 90.0, \"weight\": 2556, \"acceleration\": 13.2, \"model_year\": 79, \"origin\": \"usa\", \"name\": \"pontiac phoenix\"}, {\"mpg\": 41.5, \"cylinders\": 4, \"displacement\": 98.0, \"horsepower\": 76.0, \"weight\": 2144, \"acceleration\": 14.7, \"model_year\": 80, \"origin\": \"europe\", \"name\": \"vw rabbit\"}, {\"mpg\": 38.1, \"cylinders\": 4, \"displacement\": 89.0, \"horsepower\": 60.0, \"weight\": 1968, \"acceleration\": 18.8, \"model_year\": 80, \"origin\": \"japan\", \"name\": \"toyota corolla tercel\"}, {\"mpg\": 32.1, \"cylinders\": 4, \"displacement\": 98.0, \"horsepower\": 70.0, \"weight\": 2120, \"acceleration\": 15.5, \"model_year\": 80, \"origin\": \"usa\", \"name\": \"chevrolet chevette\"}, {\"mpg\": 37.2, \"cylinders\": 4, \"displacement\": 86.0, \"horsepower\": 65.0, \"weight\": 2019, \"acceleration\": 16.4, \"model_year\": 80, \"origin\": \"japan\", \"name\": \"datsun 310\"}, {\"mpg\": 28.0, \"cylinders\": 4, \"displacement\": 151.0, \"horsepower\": 90.0, \"weight\": 2678, \"acceleration\": 16.5, \"model_year\": 80, \"origin\": \"usa\", \"name\": \"chevrolet citation\"}, {\"mpg\": 26.4, \"cylinders\": 4, \"displacement\": 140.0, \"horsepower\": 88.0, \"weight\": 2870, \"acceleration\": 18.1, \"model_year\": 80, \"origin\": \"usa\", \"name\": \"ford fairmont\"}, {\"mpg\": 24.3, \"cylinders\": 4, \"displacement\": 151.0, \"horsepower\": 90.0, \"weight\": 3003, \"acceleration\": 20.1, \"model_year\": 80, \"origin\": \"usa\", \"name\": \"amc concord\"}, {\"mpg\": 19.1, \"cylinders\": 6, \"displacement\": 225.0, \"horsepower\": 90.0, \"weight\": 3381, \"acceleration\": 18.7, \"model_year\": 80, \"origin\": \"usa\", \"name\": \"dodge aspen\"}, {\"mpg\": 34.3, \"cylinders\": 4, \"displacement\": 97.0, \"horsepower\": 78.0, \"weight\": 2188, \"acceleration\": 15.8, \"model_year\": 80, \"origin\": \"europe\", \"name\": \"audi 4000\"}, {\"mpg\": 29.8, \"cylinders\": 4, \"displacement\": 134.0, \"horsepower\": 90.0, \"weight\": 2711, \"acceleration\": 15.5, \"model_year\": 80, \"origin\": \"japan\", \"name\": \"toyota corona liftback\"}, {\"mpg\": 31.3, \"cylinders\": 4, \"displacement\": 120.0, \"horsepower\": 75.0, \"weight\": 2542, \"acceleration\": 17.5, \"model_year\": 80, \"origin\": \"japan\", \"name\": \"mazda 626\"}, {\"mpg\": 37.0, \"cylinders\": 4, \"displacement\": 119.0, \"horsepower\": 92.0, \"weight\": 2434, \"acceleration\": 15.0, \"model_year\": 80, \"origin\": \"japan\", \"name\": \"datsun 510 hatchback\"}, {\"mpg\": 32.2, \"cylinders\": 4, \"displacement\": 108.0, \"horsepower\": 75.0, \"weight\": 2265, \"acceleration\": 15.2, \"model_year\": 80, \"origin\": \"japan\", \"name\": \"toyota corolla\"}, {\"mpg\": 46.6, \"cylinders\": 4, \"displacement\": 86.0, \"horsepower\": 65.0, \"weight\": 2110, \"acceleration\": 17.9, \"model_year\": 80, \"origin\": \"japan\", \"name\": \"mazda glc\"}, {\"mpg\": 27.9, \"cylinders\": 4, \"displacement\": 156.0, \"horsepower\": 105.0, \"weight\": 2800, \"acceleration\": 14.4, \"model_year\": 80, \"origin\": \"usa\", \"name\": \"dodge colt\"}, {\"mpg\": 40.8, \"cylinders\": 4, \"displacement\": 85.0, \"horsepower\": 65.0, \"weight\": 2110, \"acceleration\": 19.2, \"model_year\": 80, \"origin\": \"japan\", \"name\": \"datsun 210\"}, {\"mpg\": 44.3, \"cylinders\": 4, \"displacement\": 90.0, \"horsepower\": 48.0, \"weight\": 2085, \"acceleration\": 21.7, \"model_year\": 80, \"origin\": \"europe\", \"name\": \"vw rabbit c (diesel)\"}, {\"mpg\": 43.4, \"cylinders\": 4, \"displacement\": 90.0, \"horsepower\": 48.0, \"weight\": 2335, \"acceleration\": 23.7, \"model_year\": 80, \"origin\": \"europe\", \"name\": \"vw dasher (diesel)\"}, {\"mpg\": 36.4, \"cylinders\": 5, \"displacement\": 121.0, \"horsepower\": 67.0, \"weight\": 2950, \"acceleration\": 19.9, \"model_year\": 80, \"origin\": \"europe\", \"name\": \"audi 5000s (diesel)\"}, {\"mpg\": 30.0, \"cylinders\": 4, \"displacement\": 146.0, \"horsepower\": 67.0, \"weight\": 3250, \"acceleration\": 21.8, \"model_year\": 80, \"origin\": \"europe\", \"name\": \"mercedes-benz 240d\"}, {\"mpg\": 44.6, \"cylinders\": 4, \"displacement\": 91.0, \"horsepower\": 67.0, \"weight\": 1850, \"acceleration\": 13.8, \"model_year\": 80, \"origin\": \"japan\", \"name\": \"honda civic 1500 gl\"}, {\"mpg\": 40.9, \"cylinders\": 4, \"displacement\": 85.0, \"horsepower\": null, \"weight\": 1835, \"acceleration\": 17.3, \"model_year\": 80, \"origin\": \"europe\", \"name\": \"renault lecar deluxe\"}, {\"mpg\": 33.8, \"cylinders\": 4, \"displacement\": 97.0, \"horsepower\": 67.0, \"weight\": 2145, \"acceleration\": 18.0, \"model_year\": 80, \"origin\": \"japan\", \"name\": \"subaru dl\"}, {\"mpg\": 29.8, \"cylinders\": 4, \"displacement\": 89.0, \"horsepower\": 62.0, \"weight\": 1845, \"acceleration\": 15.3, \"model_year\": 80, \"origin\": \"europe\", \"name\": \"vokswagen rabbit\"}, {\"mpg\": 32.7, \"cylinders\": 6, \"displacement\": 168.0, \"horsepower\": 132.0, \"weight\": 2910, \"acceleration\": 11.4, \"model_year\": 80, \"origin\": \"japan\", \"name\": \"datsun 280-zx\"}, {\"mpg\": 23.7, \"cylinders\": 3, \"displacement\": 70.0, \"horsepower\": 100.0, \"weight\": 2420, \"acceleration\": 12.5, \"model_year\": 80, \"origin\": \"japan\", \"name\": \"mazda rx-7 gs\"}, {\"mpg\": 35.0, \"cylinders\": 4, \"displacement\": 122.0, \"horsepower\": 88.0, \"weight\": 2500, \"acceleration\": 15.1, \"model_year\": 80, \"origin\": \"europe\", \"name\": \"triumph tr7 coupe\"}, {\"mpg\": 23.6, \"cylinders\": 4, \"displacement\": 140.0, \"horsepower\": null, \"weight\": 2905, \"acceleration\": 14.3, \"model_year\": 80, \"origin\": \"usa\", \"name\": \"ford mustang cobra\"}, {\"mpg\": 32.4, \"cylinders\": 4, \"displacement\": 107.0, \"horsepower\": 72.0, \"weight\": 2290, \"acceleration\": 17.0, \"model_year\": 80, \"origin\": \"japan\", \"name\": \"honda accord\"}, {\"mpg\": 27.2, \"cylinders\": 4, \"displacement\": 135.0, \"horsepower\": 84.0, \"weight\": 2490, \"acceleration\": 15.7, \"model_year\": 81, \"origin\": \"usa\", \"name\": \"plymouth reliant\"}, {\"mpg\": 26.6, \"cylinders\": 4, \"displacement\": 151.0, \"horsepower\": 84.0, \"weight\": 2635, \"acceleration\": 16.4, \"model_year\": 81, \"origin\": \"usa\", \"name\": \"buick skylark\"}, {\"mpg\": 25.8, \"cylinders\": 4, \"displacement\": 156.0, \"horsepower\": 92.0, \"weight\": 2620, \"acceleration\": 14.4, \"model_year\": 81, \"origin\": \"usa\", \"name\": \"dodge aries wagon (sw)\"}, {\"mpg\": 23.5, \"cylinders\": 6, \"displacement\": 173.0, \"horsepower\": 110.0, \"weight\": 2725, \"acceleration\": 12.6, \"model_year\": 81, \"origin\": \"usa\", \"name\": \"chevrolet citation\"}, {\"mpg\": 30.0, \"cylinders\": 4, \"displacement\": 135.0, \"horsepower\": 84.0, \"weight\": 2385, \"acceleration\": 12.9, \"model_year\": 81, \"origin\": \"usa\", \"name\": \"plymouth reliant\"}, {\"mpg\": 39.1, \"cylinders\": 4, \"displacement\": 79.0, \"horsepower\": 58.0, \"weight\": 1755, \"acceleration\": 16.9, \"model_year\": 81, \"origin\": \"japan\", \"name\": \"toyota starlet\"}, {\"mpg\": 39.0, \"cylinders\": 4, \"displacement\": 86.0, \"horsepower\": 64.0, \"weight\": 1875, \"acceleration\": 16.4, \"model_year\": 81, \"origin\": \"usa\", \"name\": \"plymouth champ\"}, {\"mpg\": 35.1, \"cylinders\": 4, \"displacement\": 81.0, \"horsepower\": 60.0, \"weight\": 1760, \"acceleration\": 16.1, \"model_year\": 81, \"origin\": \"japan\", \"name\": \"honda civic 1300\"}, {\"mpg\": 32.3, \"cylinders\": 4, \"displacement\": 97.0, \"horsepower\": 67.0, \"weight\": 2065, \"acceleration\": 17.8, \"model_year\": 81, \"origin\": \"japan\", \"name\": \"subaru\"}, {\"mpg\": 37.0, \"cylinders\": 4, \"displacement\": 85.0, \"horsepower\": 65.0, \"weight\": 1975, \"acceleration\": 19.4, \"model_year\": 81, \"origin\": \"japan\", \"name\": \"datsun 210 mpg\"}, {\"mpg\": 37.7, \"cylinders\": 4, \"displacement\": 89.0, \"horsepower\": 62.0, \"weight\": 2050, \"acceleration\": 17.3, \"model_year\": 81, \"origin\": \"japan\", \"name\": \"toyota tercel\"}, {\"mpg\": 34.1, \"cylinders\": 4, \"displacement\": 91.0, \"horsepower\": 68.0, \"weight\": 1985, \"acceleration\": 16.0, \"model_year\": 81, \"origin\": \"japan\", \"name\": \"mazda glc 4\"}, {\"mpg\": 34.7, \"cylinders\": 4, \"displacement\": 105.0, \"horsepower\": 63.0, \"weight\": 2215, \"acceleration\": 14.9, \"model_year\": 81, \"origin\": \"usa\", \"name\": \"plymouth horizon 4\"}, {\"mpg\": 34.4, \"cylinders\": 4, \"displacement\": 98.0, \"horsepower\": 65.0, \"weight\": 2045, \"acceleration\": 16.2, \"model_year\": 81, \"origin\": \"usa\", \"name\": \"ford escort 4w\"}, {\"mpg\": 29.9, \"cylinders\": 4, \"displacement\": 98.0, \"horsepower\": 65.0, \"weight\": 2380, \"acceleration\": 20.7, \"model_year\": 81, \"origin\": \"usa\", \"name\": \"ford escort 2h\"}, {\"mpg\": 33.0, \"cylinders\": 4, \"displacement\": 105.0, \"horsepower\": 74.0, \"weight\": 2190, \"acceleration\": 14.2, \"model_year\": 81, \"origin\": \"europe\", \"name\": \"volkswagen jetta\"}, {\"mpg\": 34.5, \"cylinders\": 4, \"displacement\": 100.0, \"horsepower\": null, \"weight\": 2320, \"acceleration\": 15.8, \"model_year\": 81, \"origin\": \"europe\", \"name\": \"renault 18i\"}, {\"mpg\": 33.7, \"cylinders\": 4, \"displacement\": 107.0, \"horsepower\": 75.0, \"weight\": 2210, \"acceleration\": 14.4, \"model_year\": 81, \"origin\": \"japan\", \"name\": \"honda prelude\"}, {\"mpg\": 32.4, \"cylinders\": 4, \"displacement\": 108.0, \"horsepower\": 75.0, \"weight\": 2350, \"acceleration\": 16.8, \"model_year\": 81, \"origin\": \"japan\", \"name\": \"toyota corolla\"}, {\"mpg\": 32.9, \"cylinders\": 4, \"displacement\": 119.0, \"horsepower\": 100.0, \"weight\": 2615, \"acceleration\": 14.8, \"model_year\": 81, \"origin\": \"japan\", \"name\": \"datsun 200sx\"}, {\"mpg\": 31.6, \"cylinders\": 4, \"displacement\": 120.0, \"horsepower\": 74.0, \"weight\": 2635, \"acceleration\": 18.3, \"model_year\": 81, \"origin\": \"japan\", \"name\": \"mazda 626\"}, {\"mpg\": 28.1, \"cylinders\": 4, \"displacement\": 141.0, \"horsepower\": 80.0, \"weight\": 3230, \"acceleration\": 20.4, \"model_year\": 81, \"origin\": \"europe\", \"name\": \"peugeot 505s turbo diesel\"}, {\"mpg\": 30.7, \"cylinders\": 6, \"displacement\": 145.0, \"horsepower\": 76.0, \"weight\": 3160, \"acceleration\": 19.6, \"model_year\": 81, \"origin\": \"europe\", \"name\": \"volvo diesel\"}, {\"mpg\": 25.4, \"cylinders\": 6, \"displacement\": 168.0, \"horsepower\": 116.0, \"weight\": 2900, \"acceleration\": 12.6, \"model_year\": 81, \"origin\": \"japan\", \"name\": \"toyota cressida\"}, {\"mpg\": 24.2, \"cylinders\": 6, \"displacement\": 146.0, \"horsepower\": 120.0, \"weight\": 2930, \"acceleration\": 13.8, \"model_year\": 81, \"origin\": \"japan\", \"name\": \"datsun 810 maxima\"}, {\"mpg\": 22.4, \"cylinders\": 6, \"displacement\": 231.0, \"horsepower\": 110.0, \"weight\": 3415, \"acceleration\": 15.8, \"model_year\": 81, \"origin\": \"usa\", \"name\": \"buick century\"}, {\"mpg\": 26.6, \"cylinders\": 8, \"displacement\": 350.0, \"horsepower\": 105.0, \"weight\": 3725, \"acceleration\": 19.0, \"model_year\": 81, \"origin\": \"usa\", \"name\": \"oldsmobile cutlass ls\"}, {\"mpg\": 20.2, \"cylinders\": 6, \"displacement\": 200.0, \"horsepower\": 88.0, \"weight\": 3060, \"acceleration\": 17.1, \"model_year\": 81, \"origin\": \"usa\", \"name\": \"ford granada gl\"}, {\"mpg\": 17.6, \"cylinders\": 6, \"displacement\": 225.0, \"horsepower\": 85.0, \"weight\": 3465, \"acceleration\": 16.6, \"model_year\": 81, \"origin\": \"usa\", \"name\": \"chrysler lebaron salon\"}, {\"mpg\": 28.0, \"cylinders\": 4, \"displacement\": 112.0, \"horsepower\": 88.0, \"weight\": 2605, \"acceleration\": 19.6, \"model_year\": 82, \"origin\": \"usa\", \"name\": \"chevrolet cavalier\"}, {\"mpg\": 27.0, \"cylinders\": 4, \"displacement\": 112.0, \"horsepower\": 88.0, \"weight\": 2640, \"acceleration\": 18.6, \"model_year\": 82, \"origin\": \"usa\", \"name\": \"chevrolet cavalier wagon\"}, {\"mpg\": 34.0, \"cylinders\": 4, \"displacement\": 112.0, \"horsepower\": 88.0, \"weight\": 2395, \"acceleration\": 18.0, \"model_year\": 82, \"origin\": \"usa\", \"name\": \"chevrolet cavalier 2-door\"}, {\"mpg\": 31.0, \"cylinders\": 4, \"displacement\": 112.0, \"horsepower\": 85.0, \"weight\": 2575, \"acceleration\": 16.2, \"model_year\": 82, \"origin\": \"usa\", \"name\": \"pontiac j2000 se hatchback\"}, {\"mpg\": 29.0, \"cylinders\": 4, \"displacement\": 135.0, \"horsepower\": 84.0, \"weight\": 2525, \"acceleration\": 16.0, \"model_year\": 82, \"origin\": \"usa\", \"name\": \"dodge aries se\"}, {\"mpg\": 27.0, \"cylinders\": 4, \"displacement\": 151.0, \"horsepower\": 90.0, \"weight\": 2735, \"acceleration\": 18.0, \"model_year\": 82, \"origin\": \"usa\", \"name\": \"pontiac phoenix\"}, {\"mpg\": 24.0, \"cylinders\": 4, \"displacement\": 140.0, \"horsepower\": 92.0, \"weight\": 2865, \"acceleration\": 16.4, \"model_year\": 82, \"origin\": \"usa\", \"name\": \"ford fairmont futura\"}, {\"mpg\": 23.0, \"cylinders\": 4, \"displacement\": 151.0, \"horsepower\": null, \"weight\": 3035, \"acceleration\": 20.5, \"model_year\": 82, \"origin\": \"usa\", \"name\": \"amc concord dl\"}, {\"mpg\": 36.0, \"cylinders\": 4, \"displacement\": 105.0, \"horsepower\": 74.0, \"weight\": 1980, \"acceleration\": 15.3, \"model_year\": 82, \"origin\": \"europe\", \"name\": \"volkswagen rabbit l\"}, {\"mpg\": 37.0, \"cylinders\": 4, \"displacement\": 91.0, \"horsepower\": 68.0, \"weight\": 2025, \"acceleration\": 18.2, \"model_year\": 82, \"origin\": \"japan\", \"name\": \"mazda glc custom l\"}, {\"mpg\": 31.0, \"cylinders\": 4, \"displacement\": 91.0, \"horsepower\": 68.0, \"weight\": 1970, \"acceleration\": 17.6, \"model_year\": 82, \"origin\": \"japan\", \"name\": \"mazda glc custom\"}, {\"mpg\": 38.0, \"cylinders\": 4, \"displacement\": 105.0, \"horsepower\": 63.0, \"weight\": 2125, \"acceleration\": 14.7, \"model_year\": 82, \"origin\": \"usa\", \"name\": \"plymouth horizon miser\"}, {\"mpg\": 36.0, \"cylinders\": 4, \"displacement\": 98.0, \"horsepower\": 70.0, \"weight\": 2125, \"acceleration\": 17.3, \"model_year\": 82, \"origin\": \"usa\", \"name\": \"mercury lynx l\"}, {\"mpg\": 36.0, \"cylinders\": 4, \"displacement\": 120.0, \"horsepower\": 88.0, \"weight\": 2160, \"acceleration\": 14.5, \"model_year\": 82, \"origin\": \"japan\", \"name\": \"nissan stanza xe\"}, {\"mpg\": 36.0, \"cylinders\": 4, \"displacement\": 107.0, \"horsepower\": 75.0, \"weight\": 2205, \"acceleration\": 14.5, \"model_year\": 82, \"origin\": \"japan\", \"name\": \"honda accord\"}, {\"mpg\": 34.0, \"cylinders\": 4, \"displacement\": 108.0, \"horsepower\": 70.0, \"weight\": 2245, \"acceleration\": 16.9, \"model_year\": 82, \"origin\": \"japan\", \"name\": \"toyota corolla\"}, {\"mpg\": 38.0, \"cylinders\": 4, \"displacement\": 91.0, \"horsepower\": 67.0, \"weight\": 1965, \"acceleration\": 15.0, \"model_year\": 82, \"origin\": \"japan\", \"name\": \"honda civic\"}, {\"mpg\": 32.0, \"cylinders\": 4, \"displacement\": 91.0, \"horsepower\": 67.0, \"weight\": 1965, \"acceleration\": 15.7, \"model_year\": 82, \"origin\": \"japan\", \"name\": \"honda civic (auto)\"}, {\"mpg\": 38.0, \"cylinders\": 4, \"displacement\": 91.0, \"horsepower\": 67.0, \"weight\": 1995, \"acceleration\": 16.2, \"model_year\": 82, \"origin\": \"japan\", \"name\": \"datsun 310 gx\"}, {\"mpg\": 25.0, \"cylinders\": 6, \"displacement\": 181.0, \"horsepower\": 110.0, \"weight\": 2945, \"acceleration\": 16.4, \"model_year\": 82, \"origin\": \"usa\", \"name\": \"buick century limited\"}, {\"mpg\": 38.0, \"cylinders\": 6, \"displacement\": 262.0, \"horsepower\": 85.0, \"weight\": 3015, \"acceleration\": 17.0, \"model_year\": 82, \"origin\": \"usa\", \"name\": \"oldsmobile cutlass ciera (diesel)\"}, {\"mpg\": 26.0, \"cylinders\": 4, \"displacement\": 156.0, \"horsepower\": 92.0, \"weight\": 2585, \"acceleration\": 14.5, \"model_year\": 82, \"origin\": \"usa\", \"name\": \"chrysler lebaron medallion\"}, {\"mpg\": 22.0, \"cylinders\": 6, \"displacement\": 232.0, \"horsepower\": 112.0, \"weight\": 2835, \"acceleration\": 14.7, \"model_year\": 82, \"origin\": \"usa\", \"name\": \"ford granada l\"}, {\"mpg\": 32.0, \"cylinders\": 4, \"displacement\": 144.0, \"horsepower\": 96.0, \"weight\": 2665, \"acceleration\": 13.9, \"model_year\": 82, \"origin\": \"japan\", \"name\": \"toyota celica gt\"}, {\"mpg\": 36.0, \"cylinders\": 4, \"displacement\": 135.0, \"horsepower\": 84.0, \"weight\": 2370, \"acceleration\": 13.0, \"model_year\": 82, \"origin\": \"usa\", \"name\": \"dodge charger 2.2\"}, {\"mpg\": 27.0, \"cylinders\": 4, \"displacement\": 151.0, \"horsepower\": 90.0, \"weight\": 2950, \"acceleration\": 17.3, \"model_year\": 82, \"origin\": \"usa\", \"name\": \"chevrolet camaro\"}, {\"mpg\": 27.0, \"cylinders\": 4, \"displacement\": 140.0, \"horsepower\": 86.0, \"weight\": 2790, \"acceleration\": 15.6, \"model_year\": 82, \"origin\": \"usa\", \"name\": \"ford mustang gl\"}, {\"mpg\": 44.0, \"cylinders\": 4, \"displacement\": 97.0, \"horsepower\": 52.0, \"weight\": 2130, \"acceleration\": 24.6, \"model_year\": 82, \"origin\": \"europe\", \"name\": \"vw pickup\"}, {\"mpg\": 32.0, \"cylinders\": 4, \"displacement\": 135.0, \"horsepower\": 84.0, \"weight\": 2295, \"acceleration\": 11.6, \"model_year\": 82, \"origin\": \"usa\", \"name\": \"dodge rampage\"}, {\"mpg\": 28.0, \"cylinders\": 4, \"displacement\": 120.0, \"horsepower\": 79.0, \"weight\": 2625, \"acceleration\": 18.6, \"model_year\": 82, \"origin\": \"usa\", \"name\": \"ford ranger\"}, {\"mpg\": 31.0, \"cylinders\": 4, \"displacement\": 119.0, \"horsepower\": 82.0, \"weight\": 2720, \"acceleration\": 19.4, \"model_year\": 82, \"origin\": \"usa\", \"name\": \"chevy s-10\"}]}}, {\"mode\": \"vega-lite\"});\n",
       "</script>"
      ],
      "text/plain": [
       "alt.Chart(...)"
      ]
     },
     "execution_count": 17,
     "metadata": {},
     "output_type": "execute_result"
    }
   ],
   "source": [
    "alt.Chart(df).mark_bar().encode(\n",
    "    x = \"cylinders:O\",\n",
    "    y = \"median(mpg)\"\n",
    ")"
   ]
  },
  {
   "block_group": "37ee5fa2ccf949a8aa46642f125a9e29",
   "cell_type": "markdown",
   "metadata": {
    "cell_id": "04786ad817084bdfae6832e9094bf03e",
    "deepnote_cell_type": "markdown"
   },
   "source": [
    "* Add a tooltip so we can find the precise median values.\n",
    "\n",
    "For example, if you put your mouse over the 4-cylinders bar, it will report a median value of `28.25`.  That is telling us that the median miles-per-gallon across 4-cylinder cars in the dataset is `28.25`."
   ]
  },
  {
   "block_group": "44135f87f97d40279ac9b09d27657068",
   "cell_type": "code",
   "execution_count": null,
   "metadata": {
    "cell_id": "85cdf4393566452fa0c22cc68b97928b",
    "deepnote_cell_type": "code",
    "deepnote_to_be_reexecuted": false,
    "execution_millis": 214,
    "execution_start": 1697661333775,
    "source_hash": null
   },
   "outputs": [
    {
     "data": {
      "text/html": [
       "\n",
       "<div id=\"altair-viz-9754bfeda10f4ee79c0036d3692862f2\"></div>\n",
       "<script type=\"text/javascript\">\n",
       "  var VEGA_DEBUG = (typeof VEGA_DEBUG == \"undefined\") ? {} : VEGA_DEBUG;\n",
       "  (function(spec, embedOpt){\n",
       "    let outputDiv = document.currentScript.previousElementSibling;\n",
       "    if (outputDiv.id !== \"altair-viz-9754bfeda10f4ee79c0036d3692862f2\") {\n",
       "      outputDiv = document.getElementById(\"altair-viz-9754bfeda10f4ee79c0036d3692862f2\");\n",
       "    }\n",
       "    const paths = {\n",
       "      \"vega\": \"https://cdn.jsdelivr.net/npm//vega@5?noext\",\n",
       "      \"vega-lib\": \"https://cdn.jsdelivr.net/npm//vega-lib?noext\",\n",
       "      \"vega-lite\": \"https://cdn.jsdelivr.net/npm//vega-lite@4.17.0?noext\",\n",
       "      \"vega-embed\": \"https://cdn.jsdelivr.net/npm//vega-embed@6?noext\",\n",
       "    };\n",
       "\n",
       "    function maybeLoadScript(lib, version) {\n",
       "      var key = `${lib.replace(\"-\", \"\")}_version`;\n",
       "      return (VEGA_DEBUG[key] == version) ?\n",
       "        Promise.resolve(paths[lib]) :\n",
       "        new Promise(function(resolve, reject) {\n",
       "          var s = document.createElement('script');\n",
       "          document.getElementsByTagName(\"head\")[0].appendChild(s);\n",
       "          s.async = true;\n",
       "          s.onload = () => {\n",
       "            VEGA_DEBUG[key] = version;\n",
       "            return resolve(paths[lib]);\n",
       "          };\n",
       "          s.onerror = () => reject(`Error loading script: ${paths[lib]}`);\n",
       "          s.src = paths[lib];\n",
       "        });\n",
       "    }\n",
       "\n",
       "    function showError(err) {\n",
       "      outputDiv.innerHTML = `<div class=\"error\" style=\"color:red;\">${err}</div>`;\n",
       "      throw err;\n",
       "    }\n",
       "\n",
       "    function displayChart(vegaEmbed) {\n",
       "      vegaEmbed(outputDiv, spec, embedOpt)\n",
       "        .catch(err => showError(`Javascript Error: ${err.message}<br>This usually means there's a typo in your chart specification. See the javascript console for the full traceback.`));\n",
       "    }\n",
       "\n",
       "    if(typeof define === \"function\" && define.amd) {\n",
       "      requirejs.config({paths});\n",
       "      require([\"vega-embed\"], displayChart, err => showError(`Error loading script: ${err.message}`));\n",
       "    } else {\n",
       "      maybeLoadScript(\"vega\", \"5\")\n",
       "        .then(() => maybeLoadScript(\"vega-lite\", \"4.17.0\"))\n",
       "        .then(() => maybeLoadScript(\"vega-embed\", \"6\"))\n",
       "        .catch(showError)\n",
       "        .then(() => displayChart(vegaEmbed));\n",
       "    }\n",
       "  })({\"config\": {\"view\": {\"continuousWidth\": 400, \"continuousHeight\": 300}}, \"data\": {\"name\": \"data-f1198cc0481ad698d7dc4699e0a3efa7\"}, \"mark\": \"bar\", \"encoding\": {\"tooltip\": [{\"aggregate\": \"median\", \"field\": \"mpg\", \"type\": \"quantitative\"}, {\"field\": \"cylinders\", \"type\": \"quantitative\"}], \"x\": {\"field\": \"cylinders\", \"type\": \"ordinal\"}, \"y\": {\"aggregate\": \"median\", \"field\": \"mpg\", \"type\": \"quantitative\"}}, \"$schema\": \"https://vega.github.io/schema/vega-lite/v4.17.0.json\", \"datasets\": {\"data-f1198cc0481ad698d7dc4699e0a3efa7\": [{\"mpg\": 18.0, \"cylinders\": 8, \"displacement\": 307.0, \"horsepower\": 130.0, \"weight\": 3504, \"acceleration\": 12.0, \"model_year\": 70, \"origin\": \"usa\", \"name\": \"chevrolet chevelle malibu\"}, {\"mpg\": 15.0, \"cylinders\": 8, \"displacement\": 350.0, \"horsepower\": 165.0, \"weight\": 3693, \"acceleration\": 11.5, \"model_year\": 70, \"origin\": \"usa\", \"name\": \"buick skylark 320\"}, {\"mpg\": 18.0, \"cylinders\": 8, \"displacement\": 318.0, \"horsepower\": 150.0, \"weight\": 3436, \"acceleration\": 11.0, \"model_year\": 70, \"origin\": \"usa\", \"name\": \"plymouth satellite\"}, {\"mpg\": 16.0, \"cylinders\": 8, \"displacement\": 304.0, \"horsepower\": 150.0, \"weight\": 3433, \"acceleration\": 12.0, \"model_year\": 70, \"origin\": \"usa\", \"name\": \"amc rebel sst\"}, {\"mpg\": 17.0, \"cylinders\": 8, \"displacement\": 302.0, \"horsepower\": 140.0, \"weight\": 3449, \"acceleration\": 10.5, \"model_year\": 70, \"origin\": \"usa\", \"name\": \"ford torino\"}, {\"mpg\": 15.0, \"cylinders\": 8, \"displacement\": 429.0, \"horsepower\": 198.0, \"weight\": 4341, \"acceleration\": 10.0, \"model_year\": 70, \"origin\": \"usa\", \"name\": \"ford galaxie 500\"}, {\"mpg\": 14.0, \"cylinders\": 8, \"displacement\": 454.0, \"horsepower\": 220.0, \"weight\": 4354, \"acceleration\": 9.0, \"model_year\": 70, \"origin\": \"usa\", \"name\": \"chevrolet impala\"}, {\"mpg\": 14.0, \"cylinders\": 8, \"displacement\": 440.0, \"horsepower\": 215.0, \"weight\": 4312, \"acceleration\": 8.5, \"model_year\": 70, \"origin\": \"usa\", \"name\": \"plymouth fury iii\"}, {\"mpg\": 14.0, \"cylinders\": 8, \"displacement\": 455.0, \"horsepower\": 225.0, \"weight\": 4425, \"acceleration\": 10.0, \"model_year\": 70, \"origin\": \"usa\", \"name\": \"pontiac catalina\"}, {\"mpg\": 15.0, \"cylinders\": 8, \"displacement\": 390.0, \"horsepower\": 190.0, \"weight\": 3850, \"acceleration\": 8.5, \"model_year\": 70, \"origin\": \"usa\", \"name\": \"amc ambassador dpl\"}, {\"mpg\": 15.0, \"cylinders\": 8, \"displacement\": 383.0, \"horsepower\": 170.0, \"weight\": 3563, \"acceleration\": 10.0, \"model_year\": 70, \"origin\": \"usa\", \"name\": \"dodge challenger se\"}, {\"mpg\": 14.0, \"cylinders\": 8, \"displacement\": 340.0, \"horsepower\": 160.0, \"weight\": 3609, \"acceleration\": 8.0, \"model_year\": 70, \"origin\": \"usa\", \"name\": \"plymouth 'cuda 340\"}, {\"mpg\": 15.0, \"cylinders\": 8, \"displacement\": 400.0, \"horsepower\": 150.0, \"weight\": 3761, \"acceleration\": 9.5, \"model_year\": 70, \"origin\": \"usa\", \"name\": \"chevrolet monte carlo\"}, {\"mpg\": 14.0, \"cylinders\": 8, \"displacement\": 455.0, \"horsepower\": 225.0, \"weight\": 3086, \"acceleration\": 10.0, \"model_year\": 70, \"origin\": \"usa\", \"name\": \"buick estate wagon (sw)\"}, {\"mpg\": 24.0, \"cylinders\": 4, \"displacement\": 113.0, \"horsepower\": 95.0, \"weight\": 2372, \"acceleration\": 15.0, \"model_year\": 70, \"origin\": \"japan\", \"name\": \"toyota corona mark ii\"}, {\"mpg\": 22.0, \"cylinders\": 6, \"displacement\": 198.0, \"horsepower\": 95.0, \"weight\": 2833, \"acceleration\": 15.5, \"model_year\": 70, \"origin\": \"usa\", \"name\": \"plymouth duster\"}, {\"mpg\": 18.0, \"cylinders\": 6, \"displacement\": 199.0, \"horsepower\": 97.0, \"weight\": 2774, \"acceleration\": 15.5, \"model_year\": 70, \"origin\": \"usa\", \"name\": \"amc hornet\"}, {\"mpg\": 21.0, \"cylinders\": 6, \"displacement\": 200.0, \"horsepower\": 85.0, \"weight\": 2587, \"acceleration\": 16.0, \"model_year\": 70, \"origin\": \"usa\", \"name\": \"ford maverick\"}, {\"mpg\": 27.0, \"cylinders\": 4, \"displacement\": 97.0, \"horsepower\": 88.0, \"weight\": 2130, \"acceleration\": 14.5, \"model_year\": 70, \"origin\": \"japan\", \"name\": \"datsun pl510\"}, {\"mpg\": 26.0, \"cylinders\": 4, \"displacement\": 97.0, \"horsepower\": 46.0, \"weight\": 1835, \"acceleration\": 20.5, \"model_year\": 70, \"origin\": \"europe\", \"name\": \"volkswagen 1131 deluxe sedan\"}, {\"mpg\": 25.0, \"cylinders\": 4, \"displacement\": 110.0, \"horsepower\": 87.0, \"weight\": 2672, \"acceleration\": 17.5, \"model_year\": 70, \"origin\": \"europe\", \"name\": \"peugeot 504\"}, {\"mpg\": 24.0, \"cylinders\": 4, \"displacement\": 107.0, \"horsepower\": 90.0, \"weight\": 2430, \"acceleration\": 14.5, \"model_year\": 70, \"origin\": \"europe\", \"name\": \"audi 100 ls\"}, {\"mpg\": 25.0, \"cylinders\": 4, \"displacement\": 104.0, \"horsepower\": 95.0, \"weight\": 2375, \"acceleration\": 17.5, \"model_year\": 70, \"origin\": \"europe\", \"name\": \"saab 99e\"}, {\"mpg\": 26.0, \"cylinders\": 4, \"displacement\": 121.0, \"horsepower\": 113.0, \"weight\": 2234, \"acceleration\": 12.5, \"model_year\": 70, \"origin\": \"europe\", \"name\": \"bmw 2002\"}, {\"mpg\": 21.0, \"cylinders\": 6, \"displacement\": 199.0, \"horsepower\": 90.0, \"weight\": 2648, \"acceleration\": 15.0, \"model_year\": 70, \"origin\": \"usa\", \"name\": \"amc gremlin\"}, {\"mpg\": 10.0, \"cylinders\": 8, \"displacement\": 360.0, \"horsepower\": 215.0, \"weight\": 4615, \"acceleration\": 14.0, \"model_year\": 70, \"origin\": \"usa\", \"name\": \"ford f250\"}, {\"mpg\": 10.0, \"cylinders\": 8, \"displacement\": 307.0, \"horsepower\": 200.0, \"weight\": 4376, \"acceleration\": 15.0, \"model_year\": 70, \"origin\": \"usa\", \"name\": \"chevy c20\"}, {\"mpg\": 11.0, \"cylinders\": 8, \"displacement\": 318.0, \"horsepower\": 210.0, \"weight\": 4382, \"acceleration\": 13.5, \"model_year\": 70, \"origin\": \"usa\", \"name\": \"dodge d200\"}, {\"mpg\": 9.0, \"cylinders\": 8, \"displacement\": 304.0, \"horsepower\": 193.0, \"weight\": 4732, \"acceleration\": 18.5, \"model_year\": 70, \"origin\": \"usa\", \"name\": \"hi 1200d\"}, {\"mpg\": 27.0, \"cylinders\": 4, \"displacement\": 97.0, \"horsepower\": 88.0, \"weight\": 2130, \"acceleration\": 14.5, \"model_year\": 71, \"origin\": \"japan\", \"name\": \"datsun pl510\"}, {\"mpg\": 28.0, \"cylinders\": 4, \"displacement\": 140.0, \"horsepower\": 90.0, \"weight\": 2264, \"acceleration\": 15.5, \"model_year\": 71, \"origin\": \"usa\", \"name\": \"chevrolet vega 2300\"}, {\"mpg\": 25.0, \"cylinders\": 4, \"displacement\": 113.0, \"horsepower\": 95.0, \"weight\": 2228, \"acceleration\": 14.0, \"model_year\": 71, \"origin\": \"japan\", \"name\": \"toyota corona\"}, {\"mpg\": 25.0, \"cylinders\": 4, \"displacement\": 98.0, \"horsepower\": null, \"weight\": 2046, \"acceleration\": 19.0, \"model_year\": 71, \"origin\": \"usa\", \"name\": \"ford pinto\"}, {\"mpg\": 19.0, \"cylinders\": 6, \"displacement\": 232.0, \"horsepower\": 100.0, \"weight\": 2634, \"acceleration\": 13.0, \"model_year\": 71, \"origin\": \"usa\", \"name\": \"amc gremlin\"}, {\"mpg\": 16.0, \"cylinders\": 6, \"displacement\": 225.0, \"horsepower\": 105.0, \"weight\": 3439, \"acceleration\": 15.5, \"model_year\": 71, \"origin\": \"usa\", \"name\": \"plymouth satellite custom\"}, {\"mpg\": 17.0, \"cylinders\": 6, \"displacement\": 250.0, \"horsepower\": 100.0, \"weight\": 3329, \"acceleration\": 15.5, \"model_year\": 71, \"origin\": \"usa\", \"name\": \"chevrolet chevelle malibu\"}, {\"mpg\": 19.0, \"cylinders\": 6, \"displacement\": 250.0, \"horsepower\": 88.0, \"weight\": 3302, \"acceleration\": 15.5, \"model_year\": 71, \"origin\": \"usa\", \"name\": \"ford torino 500\"}, {\"mpg\": 18.0, \"cylinders\": 6, \"displacement\": 232.0, \"horsepower\": 100.0, \"weight\": 3288, \"acceleration\": 15.5, \"model_year\": 71, \"origin\": \"usa\", \"name\": \"amc matador\"}, {\"mpg\": 14.0, \"cylinders\": 8, \"displacement\": 350.0, \"horsepower\": 165.0, \"weight\": 4209, \"acceleration\": 12.0, \"model_year\": 71, \"origin\": \"usa\", \"name\": \"chevrolet impala\"}, {\"mpg\": 14.0, \"cylinders\": 8, \"displacement\": 400.0, \"horsepower\": 175.0, \"weight\": 4464, \"acceleration\": 11.5, \"model_year\": 71, \"origin\": \"usa\", \"name\": \"pontiac catalina brougham\"}, {\"mpg\": 14.0, \"cylinders\": 8, \"displacement\": 351.0, \"horsepower\": 153.0, \"weight\": 4154, \"acceleration\": 13.5, \"model_year\": 71, \"origin\": \"usa\", \"name\": \"ford galaxie 500\"}, {\"mpg\": 14.0, \"cylinders\": 8, \"displacement\": 318.0, \"horsepower\": 150.0, \"weight\": 4096, \"acceleration\": 13.0, \"model_year\": 71, \"origin\": \"usa\", \"name\": \"plymouth fury iii\"}, {\"mpg\": 12.0, \"cylinders\": 8, \"displacement\": 383.0, \"horsepower\": 180.0, \"weight\": 4955, \"acceleration\": 11.5, \"model_year\": 71, \"origin\": \"usa\", \"name\": \"dodge monaco (sw)\"}, {\"mpg\": 13.0, \"cylinders\": 8, \"displacement\": 400.0, \"horsepower\": 170.0, \"weight\": 4746, \"acceleration\": 12.0, \"model_year\": 71, \"origin\": \"usa\", \"name\": \"ford country squire (sw)\"}, {\"mpg\": 13.0, \"cylinders\": 8, \"displacement\": 400.0, \"horsepower\": 175.0, \"weight\": 5140, \"acceleration\": 12.0, \"model_year\": 71, \"origin\": \"usa\", \"name\": \"pontiac safari (sw)\"}, {\"mpg\": 18.0, \"cylinders\": 6, \"displacement\": 258.0, \"horsepower\": 110.0, \"weight\": 2962, \"acceleration\": 13.5, \"model_year\": 71, \"origin\": \"usa\", \"name\": \"amc hornet sportabout (sw)\"}, {\"mpg\": 22.0, \"cylinders\": 4, \"displacement\": 140.0, \"horsepower\": 72.0, \"weight\": 2408, \"acceleration\": 19.0, \"model_year\": 71, \"origin\": \"usa\", \"name\": \"chevrolet vega (sw)\"}, {\"mpg\": 19.0, \"cylinders\": 6, \"displacement\": 250.0, \"horsepower\": 100.0, \"weight\": 3282, \"acceleration\": 15.0, \"model_year\": 71, \"origin\": \"usa\", \"name\": \"pontiac firebird\"}, {\"mpg\": 18.0, \"cylinders\": 6, \"displacement\": 250.0, \"horsepower\": 88.0, \"weight\": 3139, \"acceleration\": 14.5, \"model_year\": 71, \"origin\": \"usa\", \"name\": \"ford mustang\"}, {\"mpg\": 23.0, \"cylinders\": 4, \"displacement\": 122.0, \"horsepower\": 86.0, \"weight\": 2220, \"acceleration\": 14.0, \"model_year\": 71, \"origin\": \"usa\", \"name\": \"mercury capri 2000\"}, {\"mpg\": 28.0, \"cylinders\": 4, \"displacement\": 116.0, \"horsepower\": 90.0, \"weight\": 2123, \"acceleration\": 14.0, \"model_year\": 71, \"origin\": \"europe\", \"name\": \"opel 1900\"}, {\"mpg\": 30.0, \"cylinders\": 4, \"displacement\": 79.0, \"horsepower\": 70.0, \"weight\": 2074, \"acceleration\": 19.5, \"model_year\": 71, \"origin\": \"europe\", \"name\": \"peugeot 304\"}, {\"mpg\": 30.0, \"cylinders\": 4, \"displacement\": 88.0, \"horsepower\": 76.0, \"weight\": 2065, \"acceleration\": 14.5, \"model_year\": 71, \"origin\": \"europe\", \"name\": \"fiat 124b\"}, {\"mpg\": 31.0, \"cylinders\": 4, \"displacement\": 71.0, \"horsepower\": 65.0, \"weight\": 1773, \"acceleration\": 19.0, \"model_year\": 71, \"origin\": \"japan\", \"name\": \"toyota corolla 1200\"}, {\"mpg\": 35.0, \"cylinders\": 4, \"displacement\": 72.0, \"horsepower\": 69.0, \"weight\": 1613, \"acceleration\": 18.0, \"model_year\": 71, \"origin\": \"japan\", \"name\": \"datsun 1200\"}, {\"mpg\": 27.0, \"cylinders\": 4, \"displacement\": 97.0, \"horsepower\": 60.0, \"weight\": 1834, \"acceleration\": 19.0, \"model_year\": 71, \"origin\": \"europe\", \"name\": \"volkswagen model 111\"}, {\"mpg\": 26.0, \"cylinders\": 4, \"displacement\": 91.0, \"horsepower\": 70.0, \"weight\": 1955, \"acceleration\": 20.5, \"model_year\": 71, \"origin\": \"usa\", \"name\": \"plymouth cricket\"}, {\"mpg\": 24.0, \"cylinders\": 4, \"displacement\": 113.0, \"horsepower\": 95.0, \"weight\": 2278, \"acceleration\": 15.5, \"model_year\": 72, \"origin\": \"japan\", \"name\": \"toyota corona hardtop\"}, {\"mpg\": 25.0, \"cylinders\": 4, \"displacement\": 97.5, \"horsepower\": 80.0, \"weight\": 2126, \"acceleration\": 17.0, \"model_year\": 72, \"origin\": \"usa\", \"name\": \"dodge colt hardtop\"}, {\"mpg\": 23.0, \"cylinders\": 4, \"displacement\": 97.0, \"horsepower\": 54.0, \"weight\": 2254, \"acceleration\": 23.5, \"model_year\": 72, \"origin\": \"europe\", \"name\": \"volkswagen type 3\"}, {\"mpg\": 20.0, \"cylinders\": 4, \"displacement\": 140.0, \"horsepower\": 90.0, \"weight\": 2408, \"acceleration\": 19.5, \"model_year\": 72, \"origin\": \"usa\", \"name\": \"chevrolet vega\"}, {\"mpg\": 21.0, \"cylinders\": 4, \"displacement\": 122.0, \"horsepower\": 86.0, \"weight\": 2226, \"acceleration\": 16.5, \"model_year\": 72, \"origin\": \"usa\", \"name\": \"ford pinto runabout\"}, {\"mpg\": 13.0, \"cylinders\": 8, \"displacement\": 350.0, \"horsepower\": 165.0, \"weight\": 4274, \"acceleration\": 12.0, \"model_year\": 72, \"origin\": \"usa\", \"name\": \"chevrolet impala\"}, {\"mpg\": 14.0, \"cylinders\": 8, \"displacement\": 400.0, \"horsepower\": 175.0, \"weight\": 4385, \"acceleration\": 12.0, \"model_year\": 72, \"origin\": \"usa\", \"name\": \"pontiac catalina\"}, {\"mpg\": 15.0, \"cylinders\": 8, \"displacement\": 318.0, \"horsepower\": 150.0, \"weight\": 4135, \"acceleration\": 13.5, \"model_year\": 72, \"origin\": \"usa\", \"name\": \"plymouth fury iii\"}, {\"mpg\": 14.0, \"cylinders\": 8, \"displacement\": 351.0, \"horsepower\": 153.0, \"weight\": 4129, \"acceleration\": 13.0, \"model_year\": 72, \"origin\": \"usa\", \"name\": \"ford galaxie 500\"}, {\"mpg\": 17.0, \"cylinders\": 8, \"displacement\": 304.0, \"horsepower\": 150.0, \"weight\": 3672, \"acceleration\": 11.5, \"model_year\": 72, \"origin\": \"usa\", \"name\": \"amc ambassador sst\"}, {\"mpg\": 11.0, \"cylinders\": 8, \"displacement\": 429.0, \"horsepower\": 208.0, \"weight\": 4633, \"acceleration\": 11.0, \"model_year\": 72, \"origin\": \"usa\", \"name\": \"mercury marquis\"}, {\"mpg\": 13.0, \"cylinders\": 8, \"displacement\": 350.0, \"horsepower\": 155.0, \"weight\": 4502, \"acceleration\": 13.5, \"model_year\": 72, \"origin\": \"usa\", \"name\": \"buick lesabre custom\"}, {\"mpg\": 12.0, \"cylinders\": 8, \"displacement\": 350.0, \"horsepower\": 160.0, \"weight\": 4456, \"acceleration\": 13.5, \"model_year\": 72, \"origin\": \"usa\", \"name\": \"oldsmobile delta 88 royale\"}, {\"mpg\": 13.0, \"cylinders\": 8, \"displacement\": 400.0, \"horsepower\": 190.0, \"weight\": 4422, \"acceleration\": 12.5, \"model_year\": 72, \"origin\": \"usa\", \"name\": \"chrysler newport royal\"}, {\"mpg\": 19.0, \"cylinders\": 3, \"displacement\": 70.0, \"horsepower\": 97.0, \"weight\": 2330, \"acceleration\": 13.5, \"model_year\": 72, \"origin\": \"japan\", \"name\": \"mazda rx2 coupe\"}, {\"mpg\": 15.0, \"cylinders\": 8, \"displacement\": 304.0, \"horsepower\": 150.0, \"weight\": 3892, \"acceleration\": 12.5, \"model_year\": 72, \"origin\": \"usa\", \"name\": \"amc matador (sw)\"}, {\"mpg\": 13.0, \"cylinders\": 8, \"displacement\": 307.0, \"horsepower\": 130.0, \"weight\": 4098, \"acceleration\": 14.0, \"model_year\": 72, \"origin\": \"usa\", \"name\": \"chevrolet chevelle concours (sw)\"}, {\"mpg\": 13.0, \"cylinders\": 8, \"displacement\": 302.0, \"horsepower\": 140.0, \"weight\": 4294, \"acceleration\": 16.0, \"model_year\": 72, \"origin\": \"usa\", \"name\": \"ford gran torino (sw)\"}, {\"mpg\": 14.0, \"cylinders\": 8, \"displacement\": 318.0, \"horsepower\": 150.0, \"weight\": 4077, \"acceleration\": 14.0, \"model_year\": 72, \"origin\": \"usa\", \"name\": \"plymouth satellite custom (sw)\"}, {\"mpg\": 18.0, \"cylinders\": 4, \"displacement\": 121.0, \"horsepower\": 112.0, \"weight\": 2933, \"acceleration\": 14.5, \"model_year\": 72, \"origin\": \"europe\", \"name\": \"volvo 145e (sw)\"}, {\"mpg\": 22.0, \"cylinders\": 4, \"displacement\": 121.0, \"horsepower\": 76.0, \"weight\": 2511, \"acceleration\": 18.0, \"model_year\": 72, \"origin\": \"europe\", \"name\": \"volkswagen 411 (sw)\"}, {\"mpg\": 21.0, \"cylinders\": 4, \"displacement\": 120.0, \"horsepower\": 87.0, \"weight\": 2979, \"acceleration\": 19.5, \"model_year\": 72, \"origin\": \"europe\", \"name\": \"peugeot 504 (sw)\"}, {\"mpg\": 26.0, \"cylinders\": 4, \"displacement\": 96.0, \"horsepower\": 69.0, \"weight\": 2189, \"acceleration\": 18.0, \"model_year\": 72, \"origin\": \"europe\", \"name\": \"renault 12 (sw)\"}, {\"mpg\": 22.0, \"cylinders\": 4, \"displacement\": 122.0, \"horsepower\": 86.0, \"weight\": 2395, \"acceleration\": 16.0, \"model_year\": 72, \"origin\": \"usa\", \"name\": \"ford pinto (sw)\"}, {\"mpg\": 28.0, \"cylinders\": 4, \"displacement\": 97.0, \"horsepower\": 92.0, \"weight\": 2288, \"acceleration\": 17.0, \"model_year\": 72, \"origin\": \"japan\", \"name\": \"datsun 510 (sw)\"}, {\"mpg\": 23.0, \"cylinders\": 4, \"displacement\": 120.0, \"horsepower\": 97.0, \"weight\": 2506, \"acceleration\": 14.5, \"model_year\": 72, \"origin\": \"japan\", \"name\": \"toyouta corona mark ii (sw)\"}, {\"mpg\": 28.0, \"cylinders\": 4, \"displacement\": 98.0, \"horsepower\": 80.0, \"weight\": 2164, \"acceleration\": 15.0, \"model_year\": 72, \"origin\": \"usa\", \"name\": \"dodge colt (sw)\"}, {\"mpg\": 27.0, \"cylinders\": 4, \"displacement\": 97.0, \"horsepower\": 88.0, \"weight\": 2100, \"acceleration\": 16.5, \"model_year\": 72, \"origin\": \"japan\", \"name\": \"toyota corolla 1600 (sw)\"}, {\"mpg\": 13.0, \"cylinders\": 8, \"displacement\": 350.0, \"horsepower\": 175.0, \"weight\": 4100, \"acceleration\": 13.0, \"model_year\": 73, \"origin\": \"usa\", \"name\": \"buick century 350\"}, {\"mpg\": 14.0, \"cylinders\": 8, \"displacement\": 304.0, \"horsepower\": 150.0, \"weight\": 3672, \"acceleration\": 11.5, \"model_year\": 73, \"origin\": \"usa\", \"name\": \"amc matador\"}, {\"mpg\": 13.0, \"cylinders\": 8, \"displacement\": 350.0, \"horsepower\": 145.0, \"weight\": 3988, \"acceleration\": 13.0, \"model_year\": 73, \"origin\": \"usa\", \"name\": \"chevrolet malibu\"}, {\"mpg\": 14.0, \"cylinders\": 8, \"displacement\": 302.0, \"horsepower\": 137.0, \"weight\": 4042, \"acceleration\": 14.5, \"model_year\": 73, \"origin\": \"usa\", \"name\": \"ford gran torino\"}, {\"mpg\": 15.0, \"cylinders\": 8, \"displacement\": 318.0, \"horsepower\": 150.0, \"weight\": 3777, \"acceleration\": 12.5, \"model_year\": 73, \"origin\": \"usa\", \"name\": \"dodge coronet custom\"}, {\"mpg\": 12.0, \"cylinders\": 8, \"displacement\": 429.0, \"horsepower\": 198.0, \"weight\": 4952, \"acceleration\": 11.5, \"model_year\": 73, \"origin\": \"usa\", \"name\": \"mercury marquis brougham\"}, {\"mpg\": 13.0, \"cylinders\": 8, \"displacement\": 400.0, \"horsepower\": 150.0, \"weight\": 4464, \"acceleration\": 12.0, \"model_year\": 73, \"origin\": \"usa\", \"name\": \"chevrolet caprice classic\"}, {\"mpg\": 13.0, \"cylinders\": 8, \"displacement\": 351.0, \"horsepower\": 158.0, \"weight\": 4363, \"acceleration\": 13.0, \"model_year\": 73, \"origin\": \"usa\", \"name\": \"ford ltd\"}, {\"mpg\": 14.0, \"cylinders\": 8, \"displacement\": 318.0, \"horsepower\": 150.0, \"weight\": 4237, \"acceleration\": 14.5, \"model_year\": 73, \"origin\": \"usa\", \"name\": \"plymouth fury gran sedan\"}, {\"mpg\": 13.0, \"cylinders\": 8, \"displacement\": 440.0, \"horsepower\": 215.0, \"weight\": 4735, \"acceleration\": 11.0, \"model_year\": 73, \"origin\": \"usa\", \"name\": \"chrysler new yorker brougham\"}, {\"mpg\": 12.0, \"cylinders\": 8, \"displacement\": 455.0, \"horsepower\": 225.0, \"weight\": 4951, \"acceleration\": 11.0, \"model_year\": 73, \"origin\": \"usa\", \"name\": \"buick electra 225 custom\"}, {\"mpg\": 13.0, \"cylinders\": 8, \"displacement\": 360.0, \"horsepower\": 175.0, \"weight\": 3821, \"acceleration\": 11.0, \"model_year\": 73, \"origin\": \"usa\", \"name\": \"amc ambassador brougham\"}, {\"mpg\": 18.0, \"cylinders\": 6, \"displacement\": 225.0, \"horsepower\": 105.0, \"weight\": 3121, \"acceleration\": 16.5, \"model_year\": 73, \"origin\": \"usa\", \"name\": \"plymouth valiant\"}, {\"mpg\": 16.0, \"cylinders\": 6, \"displacement\": 250.0, \"horsepower\": 100.0, \"weight\": 3278, \"acceleration\": 18.0, \"model_year\": 73, \"origin\": \"usa\", \"name\": \"chevrolet nova custom\"}, {\"mpg\": 18.0, \"cylinders\": 6, \"displacement\": 232.0, \"horsepower\": 100.0, \"weight\": 2945, \"acceleration\": 16.0, \"model_year\": 73, \"origin\": \"usa\", \"name\": \"amc hornet\"}, {\"mpg\": 18.0, \"cylinders\": 6, \"displacement\": 250.0, \"horsepower\": 88.0, \"weight\": 3021, \"acceleration\": 16.5, \"model_year\": 73, \"origin\": \"usa\", \"name\": \"ford maverick\"}, {\"mpg\": 23.0, \"cylinders\": 6, \"displacement\": 198.0, \"horsepower\": 95.0, \"weight\": 2904, \"acceleration\": 16.0, \"model_year\": 73, \"origin\": \"usa\", \"name\": \"plymouth duster\"}, {\"mpg\": 26.0, \"cylinders\": 4, \"displacement\": 97.0, \"horsepower\": 46.0, \"weight\": 1950, \"acceleration\": 21.0, \"model_year\": 73, \"origin\": \"europe\", \"name\": \"volkswagen super beetle\"}, {\"mpg\": 11.0, \"cylinders\": 8, \"displacement\": 400.0, \"horsepower\": 150.0, \"weight\": 4997, \"acceleration\": 14.0, \"model_year\": 73, \"origin\": \"usa\", \"name\": \"chevrolet impala\"}, {\"mpg\": 12.0, \"cylinders\": 8, \"displacement\": 400.0, \"horsepower\": 167.0, \"weight\": 4906, \"acceleration\": 12.5, \"model_year\": 73, \"origin\": \"usa\", \"name\": \"ford country\"}, {\"mpg\": 13.0, \"cylinders\": 8, \"displacement\": 360.0, \"horsepower\": 170.0, \"weight\": 4654, \"acceleration\": 13.0, \"model_year\": 73, \"origin\": \"usa\", \"name\": \"plymouth custom suburb\"}, {\"mpg\": 12.0, \"cylinders\": 8, \"displacement\": 350.0, \"horsepower\": 180.0, \"weight\": 4499, \"acceleration\": 12.5, \"model_year\": 73, \"origin\": \"usa\", \"name\": \"oldsmobile vista cruiser\"}, {\"mpg\": 18.0, \"cylinders\": 6, \"displacement\": 232.0, \"horsepower\": 100.0, \"weight\": 2789, \"acceleration\": 15.0, \"model_year\": 73, \"origin\": \"usa\", \"name\": \"amc gremlin\"}, {\"mpg\": 20.0, \"cylinders\": 4, \"displacement\": 97.0, \"horsepower\": 88.0, \"weight\": 2279, \"acceleration\": 19.0, \"model_year\": 73, \"origin\": \"japan\", \"name\": \"toyota carina\"}, {\"mpg\": 21.0, \"cylinders\": 4, \"displacement\": 140.0, \"horsepower\": 72.0, \"weight\": 2401, \"acceleration\": 19.5, \"model_year\": 73, \"origin\": \"usa\", \"name\": \"chevrolet vega\"}, {\"mpg\": 22.0, \"cylinders\": 4, \"displacement\": 108.0, \"horsepower\": 94.0, \"weight\": 2379, \"acceleration\": 16.5, \"model_year\": 73, \"origin\": \"japan\", \"name\": \"datsun 610\"}, {\"mpg\": 18.0, \"cylinders\": 3, \"displacement\": 70.0, \"horsepower\": 90.0, \"weight\": 2124, \"acceleration\": 13.5, \"model_year\": 73, \"origin\": \"japan\", \"name\": \"maxda rx3\"}, {\"mpg\": 19.0, \"cylinders\": 4, \"displacement\": 122.0, \"horsepower\": 85.0, \"weight\": 2310, \"acceleration\": 18.5, \"model_year\": 73, \"origin\": \"usa\", \"name\": \"ford pinto\"}, {\"mpg\": 21.0, \"cylinders\": 6, \"displacement\": 155.0, \"horsepower\": 107.0, \"weight\": 2472, \"acceleration\": 14.0, \"model_year\": 73, \"origin\": \"usa\", \"name\": \"mercury capri v6\"}, {\"mpg\": 26.0, \"cylinders\": 4, \"displacement\": 98.0, \"horsepower\": 90.0, \"weight\": 2265, \"acceleration\": 15.5, \"model_year\": 73, \"origin\": \"europe\", \"name\": \"fiat 124 sport coupe\"}, {\"mpg\": 15.0, \"cylinders\": 8, \"displacement\": 350.0, \"horsepower\": 145.0, \"weight\": 4082, \"acceleration\": 13.0, \"model_year\": 73, \"origin\": \"usa\", \"name\": \"chevrolet monte carlo s\"}, {\"mpg\": 16.0, \"cylinders\": 8, \"displacement\": 400.0, \"horsepower\": 230.0, \"weight\": 4278, \"acceleration\": 9.5, \"model_year\": 73, \"origin\": \"usa\", \"name\": \"pontiac grand prix\"}, {\"mpg\": 29.0, \"cylinders\": 4, \"displacement\": 68.0, \"horsepower\": 49.0, \"weight\": 1867, \"acceleration\": 19.5, \"model_year\": 73, \"origin\": \"europe\", \"name\": \"fiat 128\"}, {\"mpg\": 24.0, \"cylinders\": 4, \"displacement\": 116.0, \"horsepower\": 75.0, \"weight\": 2158, \"acceleration\": 15.5, \"model_year\": 73, \"origin\": \"europe\", \"name\": \"opel manta\"}, {\"mpg\": 20.0, \"cylinders\": 4, \"displacement\": 114.0, \"horsepower\": 91.0, \"weight\": 2582, \"acceleration\": 14.0, \"model_year\": 73, \"origin\": \"europe\", \"name\": \"audi 100ls\"}, {\"mpg\": 19.0, \"cylinders\": 4, \"displacement\": 121.0, \"horsepower\": 112.0, \"weight\": 2868, \"acceleration\": 15.5, \"model_year\": 73, \"origin\": \"europe\", \"name\": \"volvo 144ea\"}, {\"mpg\": 15.0, \"cylinders\": 8, \"displacement\": 318.0, \"horsepower\": 150.0, \"weight\": 3399, \"acceleration\": 11.0, \"model_year\": 73, \"origin\": \"usa\", \"name\": \"dodge dart custom\"}, {\"mpg\": 24.0, \"cylinders\": 4, \"displacement\": 121.0, \"horsepower\": 110.0, \"weight\": 2660, \"acceleration\": 14.0, \"model_year\": 73, \"origin\": \"europe\", \"name\": \"saab 99le\"}, {\"mpg\": 20.0, \"cylinders\": 6, \"displacement\": 156.0, \"horsepower\": 122.0, \"weight\": 2807, \"acceleration\": 13.5, \"model_year\": 73, \"origin\": \"japan\", \"name\": \"toyota mark ii\"}, {\"mpg\": 11.0, \"cylinders\": 8, \"displacement\": 350.0, \"horsepower\": 180.0, \"weight\": 3664, \"acceleration\": 11.0, \"model_year\": 73, \"origin\": \"usa\", \"name\": \"oldsmobile omega\"}, {\"mpg\": 20.0, \"cylinders\": 6, \"displacement\": 198.0, \"horsepower\": 95.0, \"weight\": 3102, \"acceleration\": 16.5, \"model_year\": 74, \"origin\": \"usa\", \"name\": \"plymouth duster\"}, {\"mpg\": 21.0, \"cylinders\": 6, \"displacement\": 200.0, \"horsepower\": null, \"weight\": 2875, \"acceleration\": 17.0, \"model_year\": 74, \"origin\": \"usa\", \"name\": \"ford maverick\"}, {\"mpg\": 19.0, \"cylinders\": 6, \"displacement\": 232.0, \"horsepower\": 100.0, \"weight\": 2901, \"acceleration\": 16.0, \"model_year\": 74, \"origin\": \"usa\", \"name\": \"amc hornet\"}, {\"mpg\": 15.0, \"cylinders\": 6, \"displacement\": 250.0, \"horsepower\": 100.0, \"weight\": 3336, \"acceleration\": 17.0, \"model_year\": 74, \"origin\": \"usa\", \"name\": \"chevrolet nova\"}, {\"mpg\": 31.0, \"cylinders\": 4, \"displacement\": 79.0, \"horsepower\": 67.0, \"weight\": 1950, \"acceleration\": 19.0, \"model_year\": 74, \"origin\": \"japan\", \"name\": \"datsun b210\"}, {\"mpg\": 26.0, \"cylinders\": 4, \"displacement\": 122.0, \"horsepower\": 80.0, \"weight\": 2451, \"acceleration\": 16.5, \"model_year\": 74, \"origin\": \"usa\", \"name\": \"ford pinto\"}, {\"mpg\": 32.0, \"cylinders\": 4, \"displacement\": 71.0, \"horsepower\": 65.0, \"weight\": 1836, \"acceleration\": 21.0, \"model_year\": 74, \"origin\": \"japan\", \"name\": \"toyota corolla 1200\"}, {\"mpg\": 25.0, \"cylinders\": 4, \"displacement\": 140.0, \"horsepower\": 75.0, \"weight\": 2542, \"acceleration\": 17.0, \"model_year\": 74, \"origin\": \"usa\", \"name\": \"chevrolet vega\"}, {\"mpg\": 16.0, \"cylinders\": 6, \"displacement\": 250.0, \"horsepower\": 100.0, \"weight\": 3781, \"acceleration\": 17.0, \"model_year\": 74, \"origin\": \"usa\", \"name\": \"chevrolet chevelle malibu classic\"}, {\"mpg\": 16.0, \"cylinders\": 6, \"displacement\": 258.0, \"horsepower\": 110.0, \"weight\": 3632, \"acceleration\": 18.0, \"model_year\": 74, \"origin\": \"usa\", \"name\": \"amc matador\"}, {\"mpg\": 18.0, \"cylinders\": 6, \"displacement\": 225.0, \"horsepower\": 105.0, \"weight\": 3613, \"acceleration\": 16.5, \"model_year\": 74, \"origin\": \"usa\", \"name\": \"plymouth satellite sebring\"}, {\"mpg\": 16.0, \"cylinders\": 8, \"displacement\": 302.0, \"horsepower\": 140.0, \"weight\": 4141, \"acceleration\": 14.0, \"model_year\": 74, \"origin\": \"usa\", \"name\": \"ford gran torino\"}, {\"mpg\": 13.0, \"cylinders\": 8, \"displacement\": 350.0, \"horsepower\": 150.0, \"weight\": 4699, \"acceleration\": 14.5, \"model_year\": 74, \"origin\": \"usa\", \"name\": \"buick century luxus (sw)\"}, {\"mpg\": 14.0, \"cylinders\": 8, \"displacement\": 318.0, \"horsepower\": 150.0, \"weight\": 4457, \"acceleration\": 13.5, \"model_year\": 74, \"origin\": \"usa\", \"name\": \"dodge coronet custom (sw)\"}, {\"mpg\": 14.0, \"cylinders\": 8, \"displacement\": 302.0, \"horsepower\": 140.0, \"weight\": 4638, \"acceleration\": 16.0, \"model_year\": 74, \"origin\": \"usa\", \"name\": \"ford gran torino (sw)\"}, {\"mpg\": 14.0, \"cylinders\": 8, \"displacement\": 304.0, \"horsepower\": 150.0, \"weight\": 4257, \"acceleration\": 15.5, \"model_year\": 74, \"origin\": \"usa\", \"name\": \"amc matador (sw)\"}, {\"mpg\": 29.0, \"cylinders\": 4, \"displacement\": 98.0, \"horsepower\": 83.0, \"weight\": 2219, \"acceleration\": 16.5, \"model_year\": 74, \"origin\": \"europe\", \"name\": \"audi fox\"}, {\"mpg\": 26.0, \"cylinders\": 4, \"displacement\": 79.0, \"horsepower\": 67.0, \"weight\": 1963, \"acceleration\": 15.5, \"model_year\": 74, \"origin\": \"europe\", \"name\": \"volkswagen dasher\"}, {\"mpg\": 26.0, \"cylinders\": 4, \"displacement\": 97.0, \"horsepower\": 78.0, \"weight\": 2300, \"acceleration\": 14.5, \"model_year\": 74, \"origin\": \"europe\", \"name\": \"opel manta\"}, {\"mpg\": 31.0, \"cylinders\": 4, \"displacement\": 76.0, \"horsepower\": 52.0, \"weight\": 1649, \"acceleration\": 16.5, \"model_year\": 74, \"origin\": \"japan\", \"name\": \"toyota corona\"}, {\"mpg\": 32.0, \"cylinders\": 4, \"displacement\": 83.0, \"horsepower\": 61.0, \"weight\": 2003, \"acceleration\": 19.0, \"model_year\": 74, \"origin\": \"japan\", \"name\": \"datsun 710\"}, {\"mpg\": 28.0, \"cylinders\": 4, \"displacement\": 90.0, \"horsepower\": 75.0, \"weight\": 2125, \"acceleration\": 14.5, \"model_year\": 74, \"origin\": \"usa\", \"name\": \"dodge colt\"}, {\"mpg\": 24.0, \"cylinders\": 4, \"displacement\": 90.0, \"horsepower\": 75.0, \"weight\": 2108, \"acceleration\": 15.5, \"model_year\": 74, \"origin\": \"europe\", \"name\": \"fiat 128\"}, {\"mpg\": 26.0, \"cylinders\": 4, \"displacement\": 116.0, \"horsepower\": 75.0, \"weight\": 2246, \"acceleration\": 14.0, \"model_year\": 74, \"origin\": \"europe\", \"name\": \"fiat 124 tc\"}, {\"mpg\": 24.0, \"cylinders\": 4, \"displacement\": 120.0, \"horsepower\": 97.0, \"weight\": 2489, \"acceleration\": 15.0, \"model_year\": 74, \"origin\": \"japan\", \"name\": \"honda civic\"}, {\"mpg\": 26.0, \"cylinders\": 4, \"displacement\": 108.0, \"horsepower\": 93.0, \"weight\": 2391, \"acceleration\": 15.5, \"model_year\": 74, \"origin\": \"japan\", \"name\": \"subaru\"}, {\"mpg\": 31.0, \"cylinders\": 4, \"displacement\": 79.0, \"horsepower\": 67.0, \"weight\": 2000, \"acceleration\": 16.0, \"model_year\": 74, \"origin\": \"europe\", \"name\": \"fiat x1.9\"}, {\"mpg\": 19.0, \"cylinders\": 6, \"displacement\": 225.0, \"horsepower\": 95.0, \"weight\": 3264, \"acceleration\": 16.0, \"model_year\": 75, \"origin\": \"usa\", \"name\": \"plymouth valiant custom\"}, {\"mpg\": 18.0, \"cylinders\": 6, \"displacement\": 250.0, \"horsepower\": 105.0, \"weight\": 3459, \"acceleration\": 16.0, \"model_year\": 75, \"origin\": \"usa\", \"name\": \"chevrolet nova\"}, {\"mpg\": 15.0, \"cylinders\": 6, \"displacement\": 250.0, \"horsepower\": 72.0, \"weight\": 3432, \"acceleration\": 21.0, \"model_year\": 75, \"origin\": \"usa\", \"name\": \"mercury monarch\"}, {\"mpg\": 15.0, \"cylinders\": 6, \"displacement\": 250.0, \"horsepower\": 72.0, \"weight\": 3158, \"acceleration\": 19.5, \"model_year\": 75, \"origin\": \"usa\", \"name\": \"ford maverick\"}, {\"mpg\": 16.0, \"cylinders\": 8, \"displacement\": 400.0, \"horsepower\": 170.0, \"weight\": 4668, \"acceleration\": 11.5, \"model_year\": 75, \"origin\": \"usa\", \"name\": \"pontiac catalina\"}, {\"mpg\": 15.0, \"cylinders\": 8, \"displacement\": 350.0, \"horsepower\": 145.0, \"weight\": 4440, \"acceleration\": 14.0, \"model_year\": 75, \"origin\": \"usa\", \"name\": \"chevrolet bel air\"}, {\"mpg\": 16.0, \"cylinders\": 8, \"displacement\": 318.0, \"horsepower\": 150.0, \"weight\": 4498, \"acceleration\": 14.5, \"model_year\": 75, \"origin\": \"usa\", \"name\": \"plymouth grand fury\"}, {\"mpg\": 14.0, \"cylinders\": 8, \"displacement\": 351.0, \"horsepower\": 148.0, \"weight\": 4657, \"acceleration\": 13.5, \"model_year\": 75, \"origin\": \"usa\", \"name\": \"ford ltd\"}, {\"mpg\": 17.0, \"cylinders\": 6, \"displacement\": 231.0, \"horsepower\": 110.0, \"weight\": 3907, \"acceleration\": 21.0, \"model_year\": 75, \"origin\": \"usa\", \"name\": \"buick century\"}, {\"mpg\": 16.0, \"cylinders\": 6, \"displacement\": 250.0, \"horsepower\": 105.0, \"weight\": 3897, \"acceleration\": 18.5, \"model_year\": 75, \"origin\": \"usa\", \"name\": \"chevroelt chevelle malibu\"}, {\"mpg\": 15.0, \"cylinders\": 6, \"displacement\": 258.0, \"horsepower\": 110.0, \"weight\": 3730, \"acceleration\": 19.0, \"model_year\": 75, \"origin\": \"usa\", \"name\": \"amc matador\"}, {\"mpg\": 18.0, \"cylinders\": 6, \"displacement\": 225.0, \"horsepower\": 95.0, \"weight\": 3785, \"acceleration\": 19.0, \"model_year\": 75, \"origin\": \"usa\", \"name\": \"plymouth fury\"}, {\"mpg\": 21.0, \"cylinders\": 6, \"displacement\": 231.0, \"horsepower\": 110.0, \"weight\": 3039, \"acceleration\": 15.0, \"model_year\": 75, \"origin\": \"usa\", \"name\": \"buick skyhawk\"}, {\"mpg\": 20.0, \"cylinders\": 8, \"displacement\": 262.0, \"horsepower\": 110.0, \"weight\": 3221, \"acceleration\": 13.5, \"model_year\": 75, \"origin\": \"usa\", \"name\": \"chevrolet monza 2+2\"}, {\"mpg\": 13.0, \"cylinders\": 8, \"displacement\": 302.0, \"horsepower\": 129.0, \"weight\": 3169, \"acceleration\": 12.0, \"model_year\": 75, \"origin\": \"usa\", \"name\": \"ford mustang ii\"}, {\"mpg\": 29.0, \"cylinders\": 4, \"displacement\": 97.0, \"horsepower\": 75.0, \"weight\": 2171, \"acceleration\": 16.0, \"model_year\": 75, \"origin\": \"japan\", \"name\": \"toyota corolla\"}, {\"mpg\": 23.0, \"cylinders\": 4, \"displacement\": 140.0, \"horsepower\": 83.0, \"weight\": 2639, \"acceleration\": 17.0, \"model_year\": 75, \"origin\": \"usa\", \"name\": \"ford pinto\"}, {\"mpg\": 20.0, \"cylinders\": 6, \"displacement\": 232.0, \"horsepower\": 100.0, \"weight\": 2914, \"acceleration\": 16.0, \"model_year\": 75, \"origin\": \"usa\", \"name\": \"amc gremlin\"}, {\"mpg\": 23.0, \"cylinders\": 4, \"displacement\": 140.0, \"horsepower\": 78.0, \"weight\": 2592, \"acceleration\": 18.5, \"model_year\": 75, \"origin\": \"usa\", \"name\": \"pontiac astro\"}, {\"mpg\": 24.0, \"cylinders\": 4, \"displacement\": 134.0, \"horsepower\": 96.0, \"weight\": 2702, \"acceleration\": 13.5, \"model_year\": 75, \"origin\": \"japan\", \"name\": \"toyota corona\"}, {\"mpg\": 25.0, \"cylinders\": 4, \"displacement\": 90.0, \"horsepower\": 71.0, \"weight\": 2223, \"acceleration\": 16.5, \"model_year\": 75, \"origin\": \"europe\", \"name\": \"volkswagen dasher\"}, {\"mpg\": 24.0, \"cylinders\": 4, \"displacement\": 119.0, \"horsepower\": 97.0, \"weight\": 2545, \"acceleration\": 17.0, \"model_year\": 75, \"origin\": \"japan\", \"name\": \"datsun 710\"}, {\"mpg\": 18.0, \"cylinders\": 6, \"displacement\": 171.0, \"horsepower\": 97.0, \"weight\": 2984, \"acceleration\": 14.5, \"model_year\": 75, \"origin\": \"usa\", \"name\": \"ford pinto\"}, {\"mpg\": 29.0, \"cylinders\": 4, \"displacement\": 90.0, \"horsepower\": 70.0, \"weight\": 1937, \"acceleration\": 14.0, \"model_year\": 75, \"origin\": \"europe\", \"name\": \"volkswagen rabbit\"}, {\"mpg\": 19.0, \"cylinders\": 6, \"displacement\": 232.0, \"horsepower\": 90.0, \"weight\": 3211, \"acceleration\": 17.0, \"model_year\": 75, \"origin\": \"usa\", \"name\": \"amc pacer\"}, {\"mpg\": 23.0, \"cylinders\": 4, \"displacement\": 115.0, \"horsepower\": 95.0, \"weight\": 2694, \"acceleration\": 15.0, \"model_year\": 75, \"origin\": \"europe\", \"name\": \"audi 100ls\"}, {\"mpg\": 23.0, \"cylinders\": 4, \"displacement\": 120.0, \"horsepower\": 88.0, \"weight\": 2957, \"acceleration\": 17.0, \"model_year\": 75, \"origin\": \"europe\", \"name\": \"peugeot 504\"}, {\"mpg\": 22.0, \"cylinders\": 4, \"displacement\": 121.0, \"horsepower\": 98.0, \"weight\": 2945, \"acceleration\": 14.5, \"model_year\": 75, \"origin\": \"europe\", \"name\": \"volvo 244dl\"}, {\"mpg\": 25.0, \"cylinders\": 4, \"displacement\": 121.0, \"horsepower\": 115.0, \"weight\": 2671, \"acceleration\": 13.5, \"model_year\": 75, \"origin\": \"europe\", \"name\": \"saab 99le\"}, {\"mpg\": 33.0, \"cylinders\": 4, \"displacement\": 91.0, \"horsepower\": 53.0, \"weight\": 1795, \"acceleration\": 17.5, \"model_year\": 75, \"origin\": \"japan\", \"name\": \"honda civic cvcc\"}, {\"mpg\": 28.0, \"cylinders\": 4, \"displacement\": 107.0, \"horsepower\": 86.0, \"weight\": 2464, \"acceleration\": 15.5, \"model_year\": 76, \"origin\": \"europe\", \"name\": \"fiat 131\"}, {\"mpg\": 25.0, \"cylinders\": 4, \"displacement\": 116.0, \"horsepower\": 81.0, \"weight\": 2220, \"acceleration\": 16.9, \"model_year\": 76, \"origin\": \"europe\", \"name\": \"opel 1900\"}, {\"mpg\": 25.0, \"cylinders\": 4, \"displacement\": 140.0, \"horsepower\": 92.0, \"weight\": 2572, \"acceleration\": 14.9, \"model_year\": 76, \"origin\": \"usa\", \"name\": \"capri ii\"}, {\"mpg\": 26.0, \"cylinders\": 4, \"displacement\": 98.0, \"horsepower\": 79.0, \"weight\": 2255, \"acceleration\": 17.7, \"model_year\": 76, \"origin\": \"usa\", \"name\": \"dodge colt\"}, {\"mpg\": 27.0, \"cylinders\": 4, \"displacement\": 101.0, \"horsepower\": 83.0, \"weight\": 2202, \"acceleration\": 15.3, \"model_year\": 76, \"origin\": \"europe\", \"name\": \"renault 12tl\"}, {\"mpg\": 17.5, \"cylinders\": 8, \"displacement\": 305.0, \"horsepower\": 140.0, \"weight\": 4215, \"acceleration\": 13.0, \"model_year\": 76, \"origin\": \"usa\", \"name\": \"chevrolet chevelle malibu classic\"}, {\"mpg\": 16.0, \"cylinders\": 8, \"displacement\": 318.0, \"horsepower\": 150.0, \"weight\": 4190, \"acceleration\": 13.0, \"model_year\": 76, \"origin\": \"usa\", \"name\": \"dodge coronet brougham\"}, {\"mpg\": 15.5, \"cylinders\": 8, \"displacement\": 304.0, \"horsepower\": 120.0, \"weight\": 3962, \"acceleration\": 13.9, \"model_year\": 76, \"origin\": \"usa\", \"name\": \"amc matador\"}, {\"mpg\": 14.5, \"cylinders\": 8, \"displacement\": 351.0, \"horsepower\": 152.0, \"weight\": 4215, \"acceleration\": 12.8, \"model_year\": 76, \"origin\": \"usa\", \"name\": \"ford gran torino\"}, {\"mpg\": 22.0, \"cylinders\": 6, \"displacement\": 225.0, \"horsepower\": 100.0, \"weight\": 3233, \"acceleration\": 15.4, \"model_year\": 76, \"origin\": \"usa\", \"name\": \"plymouth valiant\"}, {\"mpg\": 22.0, \"cylinders\": 6, \"displacement\": 250.0, \"horsepower\": 105.0, \"weight\": 3353, \"acceleration\": 14.5, \"model_year\": 76, \"origin\": \"usa\", \"name\": \"chevrolet nova\"}, {\"mpg\": 24.0, \"cylinders\": 6, \"displacement\": 200.0, \"horsepower\": 81.0, \"weight\": 3012, \"acceleration\": 17.6, \"model_year\": 76, \"origin\": \"usa\", \"name\": \"ford maverick\"}, {\"mpg\": 22.5, \"cylinders\": 6, \"displacement\": 232.0, \"horsepower\": 90.0, \"weight\": 3085, \"acceleration\": 17.6, \"model_year\": 76, \"origin\": \"usa\", \"name\": \"amc hornet\"}, {\"mpg\": 29.0, \"cylinders\": 4, \"displacement\": 85.0, \"horsepower\": 52.0, \"weight\": 2035, \"acceleration\": 22.2, \"model_year\": 76, \"origin\": \"usa\", \"name\": \"chevrolet chevette\"}, {\"mpg\": 24.5, \"cylinders\": 4, \"displacement\": 98.0, \"horsepower\": 60.0, \"weight\": 2164, \"acceleration\": 22.1, \"model_year\": 76, \"origin\": \"usa\", \"name\": \"chevrolet woody\"}, {\"mpg\": 29.0, \"cylinders\": 4, \"displacement\": 90.0, \"horsepower\": 70.0, \"weight\": 1937, \"acceleration\": 14.2, \"model_year\": 76, \"origin\": \"europe\", \"name\": \"vw rabbit\"}, {\"mpg\": 33.0, \"cylinders\": 4, \"displacement\": 91.0, \"horsepower\": 53.0, \"weight\": 1795, \"acceleration\": 17.4, \"model_year\": 76, \"origin\": \"japan\", \"name\": \"honda civic\"}, {\"mpg\": 20.0, \"cylinders\": 6, \"displacement\": 225.0, \"horsepower\": 100.0, \"weight\": 3651, \"acceleration\": 17.7, \"model_year\": 76, \"origin\": \"usa\", \"name\": \"dodge aspen se\"}, {\"mpg\": 18.0, \"cylinders\": 6, \"displacement\": 250.0, \"horsepower\": 78.0, \"weight\": 3574, \"acceleration\": 21.0, \"model_year\": 76, \"origin\": \"usa\", \"name\": \"ford granada ghia\"}, {\"mpg\": 18.5, \"cylinders\": 6, \"displacement\": 250.0, \"horsepower\": 110.0, \"weight\": 3645, \"acceleration\": 16.2, \"model_year\": 76, \"origin\": \"usa\", \"name\": \"pontiac ventura sj\"}, {\"mpg\": 17.5, \"cylinders\": 6, \"displacement\": 258.0, \"horsepower\": 95.0, \"weight\": 3193, \"acceleration\": 17.8, \"model_year\": 76, \"origin\": \"usa\", \"name\": \"amc pacer d/l\"}, {\"mpg\": 29.5, \"cylinders\": 4, \"displacement\": 97.0, \"horsepower\": 71.0, \"weight\": 1825, \"acceleration\": 12.2, \"model_year\": 76, \"origin\": \"europe\", \"name\": \"volkswagen rabbit\"}, {\"mpg\": 32.0, \"cylinders\": 4, \"displacement\": 85.0, \"horsepower\": 70.0, \"weight\": 1990, \"acceleration\": 17.0, \"model_year\": 76, \"origin\": \"japan\", \"name\": \"datsun b-210\"}, {\"mpg\": 28.0, \"cylinders\": 4, \"displacement\": 97.0, \"horsepower\": 75.0, \"weight\": 2155, \"acceleration\": 16.4, \"model_year\": 76, \"origin\": \"japan\", \"name\": \"toyota corolla\"}, {\"mpg\": 26.5, \"cylinders\": 4, \"displacement\": 140.0, \"horsepower\": 72.0, \"weight\": 2565, \"acceleration\": 13.6, \"model_year\": 76, \"origin\": \"usa\", \"name\": \"ford pinto\"}, {\"mpg\": 20.0, \"cylinders\": 4, \"displacement\": 130.0, \"horsepower\": 102.0, \"weight\": 3150, \"acceleration\": 15.7, \"model_year\": 76, \"origin\": \"europe\", \"name\": \"volvo 245\"}, {\"mpg\": 13.0, \"cylinders\": 8, \"displacement\": 318.0, \"horsepower\": 150.0, \"weight\": 3940, \"acceleration\": 13.2, \"model_year\": 76, \"origin\": \"usa\", \"name\": \"plymouth volare premier v8\"}, {\"mpg\": 19.0, \"cylinders\": 4, \"displacement\": 120.0, \"horsepower\": 88.0, \"weight\": 3270, \"acceleration\": 21.9, \"model_year\": 76, \"origin\": \"europe\", \"name\": \"peugeot 504\"}, {\"mpg\": 19.0, \"cylinders\": 6, \"displacement\": 156.0, \"horsepower\": 108.0, \"weight\": 2930, \"acceleration\": 15.5, \"model_year\": 76, \"origin\": \"japan\", \"name\": \"toyota mark ii\"}, {\"mpg\": 16.5, \"cylinders\": 6, \"displacement\": 168.0, \"horsepower\": 120.0, \"weight\": 3820, \"acceleration\": 16.7, \"model_year\": 76, \"origin\": \"europe\", \"name\": \"mercedes-benz 280s\"}, {\"mpg\": 16.5, \"cylinders\": 8, \"displacement\": 350.0, \"horsepower\": 180.0, \"weight\": 4380, \"acceleration\": 12.1, \"model_year\": 76, \"origin\": \"usa\", \"name\": \"cadillac seville\"}, {\"mpg\": 13.0, \"cylinders\": 8, \"displacement\": 350.0, \"horsepower\": 145.0, \"weight\": 4055, \"acceleration\": 12.0, \"model_year\": 76, \"origin\": \"usa\", \"name\": \"chevy c10\"}, {\"mpg\": 13.0, \"cylinders\": 8, \"displacement\": 302.0, \"horsepower\": 130.0, \"weight\": 3870, \"acceleration\": 15.0, \"model_year\": 76, \"origin\": \"usa\", \"name\": \"ford f108\"}, {\"mpg\": 13.0, \"cylinders\": 8, \"displacement\": 318.0, \"horsepower\": 150.0, \"weight\": 3755, \"acceleration\": 14.0, \"model_year\": 76, \"origin\": \"usa\", \"name\": \"dodge d100\"}, {\"mpg\": 31.5, \"cylinders\": 4, \"displacement\": 98.0, \"horsepower\": 68.0, \"weight\": 2045, \"acceleration\": 18.5, \"model_year\": 77, \"origin\": \"japan\", \"name\": \"honda accord cvcc\"}, {\"mpg\": 30.0, \"cylinders\": 4, \"displacement\": 111.0, \"horsepower\": 80.0, \"weight\": 2155, \"acceleration\": 14.8, \"model_year\": 77, \"origin\": \"usa\", \"name\": \"buick opel isuzu deluxe\"}, {\"mpg\": 36.0, \"cylinders\": 4, \"displacement\": 79.0, \"horsepower\": 58.0, \"weight\": 1825, \"acceleration\": 18.6, \"model_year\": 77, \"origin\": \"europe\", \"name\": \"renault 5 gtl\"}, {\"mpg\": 25.5, \"cylinders\": 4, \"displacement\": 122.0, \"horsepower\": 96.0, \"weight\": 2300, \"acceleration\": 15.5, \"model_year\": 77, \"origin\": \"usa\", \"name\": \"plymouth arrow gs\"}, {\"mpg\": 33.5, \"cylinders\": 4, \"displacement\": 85.0, \"horsepower\": 70.0, \"weight\": 1945, \"acceleration\": 16.8, \"model_year\": 77, \"origin\": \"japan\", \"name\": \"datsun f-10 hatchback\"}, {\"mpg\": 17.5, \"cylinders\": 8, \"displacement\": 305.0, \"horsepower\": 145.0, \"weight\": 3880, \"acceleration\": 12.5, \"model_year\": 77, \"origin\": \"usa\", \"name\": \"chevrolet caprice classic\"}, {\"mpg\": 17.0, \"cylinders\": 8, \"displacement\": 260.0, \"horsepower\": 110.0, \"weight\": 4060, \"acceleration\": 19.0, \"model_year\": 77, \"origin\": \"usa\", \"name\": \"oldsmobile cutlass supreme\"}, {\"mpg\": 15.5, \"cylinders\": 8, \"displacement\": 318.0, \"horsepower\": 145.0, \"weight\": 4140, \"acceleration\": 13.7, \"model_year\": 77, \"origin\": \"usa\", \"name\": \"dodge monaco brougham\"}, {\"mpg\": 15.0, \"cylinders\": 8, \"displacement\": 302.0, \"horsepower\": 130.0, \"weight\": 4295, \"acceleration\": 14.9, \"model_year\": 77, \"origin\": \"usa\", \"name\": \"mercury cougar brougham\"}, {\"mpg\": 17.5, \"cylinders\": 6, \"displacement\": 250.0, \"horsepower\": 110.0, \"weight\": 3520, \"acceleration\": 16.4, \"model_year\": 77, \"origin\": \"usa\", \"name\": \"chevrolet concours\"}, {\"mpg\": 20.5, \"cylinders\": 6, \"displacement\": 231.0, \"horsepower\": 105.0, \"weight\": 3425, \"acceleration\": 16.9, \"model_year\": 77, \"origin\": \"usa\", \"name\": \"buick skylark\"}, {\"mpg\": 19.0, \"cylinders\": 6, \"displacement\": 225.0, \"horsepower\": 100.0, \"weight\": 3630, \"acceleration\": 17.7, \"model_year\": 77, \"origin\": \"usa\", \"name\": \"plymouth volare custom\"}, {\"mpg\": 18.5, \"cylinders\": 6, \"displacement\": 250.0, \"horsepower\": 98.0, \"weight\": 3525, \"acceleration\": 19.0, \"model_year\": 77, \"origin\": \"usa\", \"name\": \"ford granada\"}, {\"mpg\": 16.0, \"cylinders\": 8, \"displacement\": 400.0, \"horsepower\": 180.0, \"weight\": 4220, \"acceleration\": 11.1, \"model_year\": 77, \"origin\": \"usa\", \"name\": \"pontiac grand prix lj\"}, {\"mpg\": 15.5, \"cylinders\": 8, \"displacement\": 350.0, \"horsepower\": 170.0, \"weight\": 4165, \"acceleration\": 11.4, \"model_year\": 77, \"origin\": \"usa\", \"name\": \"chevrolet monte carlo landau\"}, {\"mpg\": 15.5, \"cylinders\": 8, \"displacement\": 400.0, \"horsepower\": 190.0, \"weight\": 4325, \"acceleration\": 12.2, \"model_year\": 77, \"origin\": \"usa\", \"name\": \"chrysler cordoba\"}, {\"mpg\": 16.0, \"cylinders\": 8, \"displacement\": 351.0, \"horsepower\": 149.0, \"weight\": 4335, \"acceleration\": 14.5, \"model_year\": 77, \"origin\": \"usa\", \"name\": \"ford thunderbird\"}, {\"mpg\": 29.0, \"cylinders\": 4, \"displacement\": 97.0, \"horsepower\": 78.0, \"weight\": 1940, \"acceleration\": 14.5, \"model_year\": 77, \"origin\": \"europe\", \"name\": \"volkswagen rabbit custom\"}, {\"mpg\": 24.5, \"cylinders\": 4, \"displacement\": 151.0, \"horsepower\": 88.0, \"weight\": 2740, \"acceleration\": 16.0, \"model_year\": 77, \"origin\": \"usa\", \"name\": \"pontiac sunbird coupe\"}, {\"mpg\": 26.0, \"cylinders\": 4, \"displacement\": 97.0, \"horsepower\": 75.0, \"weight\": 2265, \"acceleration\": 18.2, \"model_year\": 77, \"origin\": \"japan\", \"name\": \"toyota corolla liftback\"}, {\"mpg\": 25.5, \"cylinders\": 4, \"displacement\": 140.0, \"horsepower\": 89.0, \"weight\": 2755, \"acceleration\": 15.8, \"model_year\": 77, \"origin\": \"usa\", \"name\": \"ford mustang ii 2+2\"}, {\"mpg\": 30.5, \"cylinders\": 4, \"displacement\": 98.0, \"horsepower\": 63.0, \"weight\": 2051, \"acceleration\": 17.0, \"model_year\": 77, \"origin\": \"usa\", \"name\": \"chevrolet chevette\"}, {\"mpg\": 33.5, \"cylinders\": 4, \"displacement\": 98.0, \"horsepower\": 83.0, \"weight\": 2075, \"acceleration\": 15.9, \"model_year\": 77, \"origin\": \"usa\", \"name\": \"dodge colt m/m\"}, {\"mpg\": 30.0, \"cylinders\": 4, \"displacement\": 97.0, \"horsepower\": 67.0, \"weight\": 1985, \"acceleration\": 16.4, \"model_year\": 77, \"origin\": \"japan\", \"name\": \"subaru dl\"}, {\"mpg\": 30.5, \"cylinders\": 4, \"displacement\": 97.0, \"horsepower\": 78.0, \"weight\": 2190, \"acceleration\": 14.1, \"model_year\": 77, \"origin\": \"europe\", \"name\": \"volkswagen dasher\"}, {\"mpg\": 22.0, \"cylinders\": 6, \"displacement\": 146.0, \"horsepower\": 97.0, \"weight\": 2815, \"acceleration\": 14.5, \"model_year\": 77, \"origin\": \"japan\", \"name\": \"datsun 810\"}, {\"mpg\": 21.5, \"cylinders\": 4, \"displacement\": 121.0, \"horsepower\": 110.0, \"weight\": 2600, \"acceleration\": 12.8, \"model_year\": 77, \"origin\": \"europe\", \"name\": \"bmw 320i\"}, {\"mpg\": 21.5, \"cylinders\": 3, \"displacement\": 80.0, \"horsepower\": 110.0, \"weight\": 2720, \"acceleration\": 13.5, \"model_year\": 77, \"origin\": \"japan\", \"name\": \"mazda rx-4\"}, {\"mpg\": 43.1, \"cylinders\": 4, \"displacement\": 90.0, \"horsepower\": 48.0, \"weight\": 1985, \"acceleration\": 21.5, \"model_year\": 78, \"origin\": \"europe\", \"name\": \"volkswagen rabbit custom diesel\"}, {\"mpg\": 36.1, \"cylinders\": 4, \"displacement\": 98.0, \"horsepower\": 66.0, \"weight\": 1800, \"acceleration\": 14.4, \"model_year\": 78, \"origin\": \"usa\", \"name\": \"ford fiesta\"}, {\"mpg\": 32.8, \"cylinders\": 4, \"displacement\": 78.0, \"horsepower\": 52.0, \"weight\": 1985, \"acceleration\": 19.4, \"model_year\": 78, \"origin\": \"japan\", \"name\": \"mazda glc deluxe\"}, {\"mpg\": 39.4, \"cylinders\": 4, \"displacement\": 85.0, \"horsepower\": 70.0, \"weight\": 2070, \"acceleration\": 18.6, \"model_year\": 78, \"origin\": \"japan\", \"name\": \"datsun b210 gx\"}, {\"mpg\": 36.1, \"cylinders\": 4, \"displacement\": 91.0, \"horsepower\": 60.0, \"weight\": 1800, \"acceleration\": 16.4, \"model_year\": 78, \"origin\": \"japan\", \"name\": \"honda civic cvcc\"}, {\"mpg\": 19.9, \"cylinders\": 8, \"displacement\": 260.0, \"horsepower\": 110.0, \"weight\": 3365, \"acceleration\": 15.5, \"model_year\": 78, \"origin\": \"usa\", \"name\": \"oldsmobile cutlass salon brougham\"}, {\"mpg\": 19.4, \"cylinders\": 8, \"displacement\": 318.0, \"horsepower\": 140.0, \"weight\": 3735, \"acceleration\": 13.2, \"model_year\": 78, \"origin\": \"usa\", \"name\": \"dodge diplomat\"}, {\"mpg\": 20.2, \"cylinders\": 8, \"displacement\": 302.0, \"horsepower\": 139.0, \"weight\": 3570, \"acceleration\": 12.8, \"model_year\": 78, \"origin\": \"usa\", \"name\": \"mercury monarch ghia\"}, {\"mpg\": 19.2, \"cylinders\": 6, \"displacement\": 231.0, \"horsepower\": 105.0, \"weight\": 3535, \"acceleration\": 19.2, \"model_year\": 78, \"origin\": \"usa\", \"name\": \"pontiac phoenix lj\"}, {\"mpg\": 20.5, \"cylinders\": 6, \"displacement\": 200.0, \"horsepower\": 95.0, \"weight\": 3155, \"acceleration\": 18.2, \"model_year\": 78, \"origin\": \"usa\", \"name\": \"chevrolet malibu\"}, {\"mpg\": 20.2, \"cylinders\": 6, \"displacement\": 200.0, \"horsepower\": 85.0, \"weight\": 2965, \"acceleration\": 15.8, \"model_year\": 78, \"origin\": \"usa\", \"name\": \"ford fairmont (auto)\"}, {\"mpg\": 25.1, \"cylinders\": 4, \"displacement\": 140.0, \"horsepower\": 88.0, \"weight\": 2720, \"acceleration\": 15.4, \"model_year\": 78, \"origin\": \"usa\", \"name\": \"ford fairmont (man)\"}, {\"mpg\": 20.5, \"cylinders\": 6, \"displacement\": 225.0, \"horsepower\": 100.0, \"weight\": 3430, \"acceleration\": 17.2, \"model_year\": 78, \"origin\": \"usa\", \"name\": \"plymouth volare\"}, {\"mpg\": 19.4, \"cylinders\": 6, \"displacement\": 232.0, \"horsepower\": 90.0, \"weight\": 3210, \"acceleration\": 17.2, \"model_year\": 78, \"origin\": \"usa\", \"name\": \"amc concord\"}, {\"mpg\": 20.6, \"cylinders\": 6, \"displacement\": 231.0, \"horsepower\": 105.0, \"weight\": 3380, \"acceleration\": 15.8, \"model_year\": 78, \"origin\": \"usa\", \"name\": \"buick century special\"}, {\"mpg\": 20.8, \"cylinders\": 6, \"displacement\": 200.0, \"horsepower\": 85.0, \"weight\": 3070, \"acceleration\": 16.7, \"model_year\": 78, \"origin\": \"usa\", \"name\": \"mercury zephyr\"}, {\"mpg\": 18.6, \"cylinders\": 6, \"displacement\": 225.0, \"horsepower\": 110.0, \"weight\": 3620, \"acceleration\": 18.7, \"model_year\": 78, \"origin\": \"usa\", \"name\": \"dodge aspen\"}, {\"mpg\": 18.1, \"cylinders\": 6, \"displacement\": 258.0, \"horsepower\": 120.0, \"weight\": 3410, \"acceleration\": 15.1, \"model_year\": 78, \"origin\": \"usa\", \"name\": \"amc concord d/l\"}, {\"mpg\": 19.2, \"cylinders\": 8, \"displacement\": 305.0, \"horsepower\": 145.0, \"weight\": 3425, \"acceleration\": 13.2, \"model_year\": 78, \"origin\": \"usa\", \"name\": \"chevrolet monte carlo landau\"}, {\"mpg\": 17.7, \"cylinders\": 6, \"displacement\": 231.0, \"horsepower\": 165.0, \"weight\": 3445, \"acceleration\": 13.4, \"model_year\": 78, \"origin\": \"usa\", \"name\": \"buick regal sport coupe (turbo)\"}, {\"mpg\": 18.1, \"cylinders\": 8, \"displacement\": 302.0, \"horsepower\": 139.0, \"weight\": 3205, \"acceleration\": 11.2, \"model_year\": 78, \"origin\": \"usa\", \"name\": \"ford futura\"}, {\"mpg\": 17.5, \"cylinders\": 8, \"displacement\": 318.0, \"horsepower\": 140.0, \"weight\": 4080, \"acceleration\": 13.7, \"model_year\": 78, \"origin\": \"usa\", \"name\": \"dodge magnum xe\"}, {\"mpg\": 30.0, \"cylinders\": 4, \"displacement\": 98.0, \"horsepower\": 68.0, \"weight\": 2155, \"acceleration\": 16.5, \"model_year\": 78, \"origin\": \"usa\", \"name\": \"chevrolet chevette\"}, {\"mpg\": 27.5, \"cylinders\": 4, \"displacement\": 134.0, \"horsepower\": 95.0, \"weight\": 2560, \"acceleration\": 14.2, \"model_year\": 78, \"origin\": \"japan\", \"name\": \"toyota corona\"}, {\"mpg\": 27.2, \"cylinders\": 4, \"displacement\": 119.0, \"horsepower\": 97.0, \"weight\": 2300, \"acceleration\": 14.7, \"model_year\": 78, \"origin\": \"japan\", \"name\": \"datsun 510\"}, {\"mpg\": 30.9, \"cylinders\": 4, \"displacement\": 105.0, \"horsepower\": 75.0, \"weight\": 2230, \"acceleration\": 14.5, \"model_year\": 78, \"origin\": \"usa\", \"name\": \"dodge omni\"}, {\"mpg\": 21.1, \"cylinders\": 4, \"displacement\": 134.0, \"horsepower\": 95.0, \"weight\": 2515, \"acceleration\": 14.8, \"model_year\": 78, \"origin\": \"japan\", \"name\": \"toyota celica gt liftback\"}, {\"mpg\": 23.2, \"cylinders\": 4, \"displacement\": 156.0, \"horsepower\": 105.0, \"weight\": 2745, \"acceleration\": 16.7, \"model_year\": 78, \"origin\": \"usa\", \"name\": \"plymouth sapporo\"}, {\"mpg\": 23.8, \"cylinders\": 4, \"displacement\": 151.0, \"horsepower\": 85.0, \"weight\": 2855, \"acceleration\": 17.6, \"model_year\": 78, \"origin\": \"usa\", \"name\": \"oldsmobile starfire sx\"}, {\"mpg\": 23.9, \"cylinders\": 4, \"displacement\": 119.0, \"horsepower\": 97.0, \"weight\": 2405, \"acceleration\": 14.9, \"model_year\": 78, \"origin\": \"japan\", \"name\": \"datsun 200-sx\"}, {\"mpg\": 20.3, \"cylinders\": 5, \"displacement\": 131.0, \"horsepower\": 103.0, \"weight\": 2830, \"acceleration\": 15.9, \"model_year\": 78, \"origin\": \"europe\", \"name\": \"audi 5000\"}, {\"mpg\": 17.0, \"cylinders\": 6, \"displacement\": 163.0, \"horsepower\": 125.0, \"weight\": 3140, \"acceleration\": 13.6, \"model_year\": 78, \"origin\": \"europe\", \"name\": \"volvo 264gl\"}, {\"mpg\": 21.6, \"cylinders\": 4, \"displacement\": 121.0, \"horsepower\": 115.0, \"weight\": 2795, \"acceleration\": 15.7, \"model_year\": 78, \"origin\": \"europe\", \"name\": \"saab 99gle\"}, {\"mpg\": 16.2, \"cylinders\": 6, \"displacement\": 163.0, \"horsepower\": 133.0, \"weight\": 3410, \"acceleration\": 15.8, \"model_year\": 78, \"origin\": \"europe\", \"name\": \"peugeot 604sl\"}, {\"mpg\": 31.5, \"cylinders\": 4, \"displacement\": 89.0, \"horsepower\": 71.0, \"weight\": 1990, \"acceleration\": 14.9, \"model_year\": 78, \"origin\": \"europe\", \"name\": \"volkswagen scirocco\"}, {\"mpg\": 29.5, \"cylinders\": 4, \"displacement\": 98.0, \"horsepower\": 68.0, \"weight\": 2135, \"acceleration\": 16.6, \"model_year\": 78, \"origin\": \"japan\", \"name\": \"honda accord lx\"}, {\"mpg\": 21.5, \"cylinders\": 6, \"displacement\": 231.0, \"horsepower\": 115.0, \"weight\": 3245, \"acceleration\": 15.4, \"model_year\": 79, \"origin\": \"usa\", \"name\": \"pontiac lemans v6\"}, {\"mpg\": 19.8, \"cylinders\": 6, \"displacement\": 200.0, \"horsepower\": 85.0, \"weight\": 2990, \"acceleration\": 18.2, \"model_year\": 79, \"origin\": \"usa\", \"name\": \"mercury zephyr 6\"}, {\"mpg\": 22.3, \"cylinders\": 4, \"displacement\": 140.0, \"horsepower\": 88.0, \"weight\": 2890, \"acceleration\": 17.3, \"model_year\": 79, \"origin\": \"usa\", \"name\": \"ford fairmont 4\"}, {\"mpg\": 20.2, \"cylinders\": 6, \"displacement\": 232.0, \"horsepower\": 90.0, \"weight\": 3265, \"acceleration\": 18.2, \"model_year\": 79, \"origin\": \"usa\", \"name\": \"amc concord dl 6\"}, {\"mpg\": 20.6, \"cylinders\": 6, \"displacement\": 225.0, \"horsepower\": 110.0, \"weight\": 3360, \"acceleration\": 16.6, \"model_year\": 79, \"origin\": \"usa\", \"name\": \"dodge aspen 6\"}, {\"mpg\": 17.0, \"cylinders\": 8, \"displacement\": 305.0, \"horsepower\": 130.0, \"weight\": 3840, \"acceleration\": 15.4, \"model_year\": 79, \"origin\": \"usa\", \"name\": \"chevrolet caprice classic\"}, {\"mpg\": 17.6, \"cylinders\": 8, \"displacement\": 302.0, \"horsepower\": 129.0, \"weight\": 3725, \"acceleration\": 13.4, \"model_year\": 79, \"origin\": \"usa\", \"name\": \"ford ltd landau\"}, {\"mpg\": 16.5, \"cylinders\": 8, \"displacement\": 351.0, \"horsepower\": 138.0, \"weight\": 3955, \"acceleration\": 13.2, \"model_year\": 79, \"origin\": \"usa\", \"name\": \"mercury grand marquis\"}, {\"mpg\": 18.2, \"cylinders\": 8, \"displacement\": 318.0, \"horsepower\": 135.0, \"weight\": 3830, \"acceleration\": 15.2, \"model_year\": 79, \"origin\": \"usa\", \"name\": \"dodge st. regis\"}, {\"mpg\": 16.9, \"cylinders\": 8, \"displacement\": 350.0, \"horsepower\": 155.0, \"weight\": 4360, \"acceleration\": 14.9, \"model_year\": 79, \"origin\": \"usa\", \"name\": \"buick estate wagon (sw)\"}, {\"mpg\": 15.5, \"cylinders\": 8, \"displacement\": 351.0, \"horsepower\": 142.0, \"weight\": 4054, \"acceleration\": 14.3, \"model_year\": 79, \"origin\": \"usa\", \"name\": \"ford country squire (sw)\"}, {\"mpg\": 19.2, \"cylinders\": 8, \"displacement\": 267.0, \"horsepower\": 125.0, \"weight\": 3605, \"acceleration\": 15.0, \"model_year\": 79, \"origin\": \"usa\", \"name\": \"chevrolet malibu classic (sw)\"}, {\"mpg\": 18.5, \"cylinders\": 8, \"displacement\": 360.0, \"horsepower\": 150.0, \"weight\": 3940, \"acceleration\": 13.0, \"model_year\": 79, \"origin\": \"usa\", \"name\": \"chrysler lebaron town @ country (sw)\"}, {\"mpg\": 31.9, \"cylinders\": 4, \"displacement\": 89.0, \"horsepower\": 71.0, \"weight\": 1925, \"acceleration\": 14.0, \"model_year\": 79, \"origin\": \"europe\", \"name\": \"vw rabbit custom\"}, {\"mpg\": 34.1, \"cylinders\": 4, \"displacement\": 86.0, \"horsepower\": 65.0, \"weight\": 1975, \"acceleration\": 15.2, \"model_year\": 79, \"origin\": \"japan\", \"name\": \"maxda glc deluxe\"}, {\"mpg\": 35.7, \"cylinders\": 4, \"displacement\": 98.0, \"horsepower\": 80.0, \"weight\": 1915, \"acceleration\": 14.4, \"model_year\": 79, \"origin\": \"usa\", \"name\": \"dodge colt hatchback custom\"}, {\"mpg\": 27.4, \"cylinders\": 4, \"displacement\": 121.0, \"horsepower\": 80.0, \"weight\": 2670, \"acceleration\": 15.0, \"model_year\": 79, \"origin\": \"usa\", \"name\": \"amc spirit dl\"}, {\"mpg\": 25.4, \"cylinders\": 5, \"displacement\": 183.0, \"horsepower\": 77.0, \"weight\": 3530, \"acceleration\": 20.1, \"model_year\": 79, \"origin\": \"europe\", \"name\": \"mercedes benz 300d\"}, {\"mpg\": 23.0, \"cylinders\": 8, \"displacement\": 350.0, \"horsepower\": 125.0, \"weight\": 3900, \"acceleration\": 17.4, \"model_year\": 79, \"origin\": \"usa\", \"name\": \"cadillac eldorado\"}, {\"mpg\": 27.2, \"cylinders\": 4, \"displacement\": 141.0, \"horsepower\": 71.0, \"weight\": 3190, \"acceleration\": 24.8, \"model_year\": 79, \"origin\": \"europe\", \"name\": \"peugeot 504\"}, {\"mpg\": 23.9, \"cylinders\": 8, \"displacement\": 260.0, \"horsepower\": 90.0, \"weight\": 3420, \"acceleration\": 22.2, \"model_year\": 79, \"origin\": \"usa\", \"name\": \"oldsmobile cutlass salon brougham\"}, {\"mpg\": 34.2, \"cylinders\": 4, \"displacement\": 105.0, \"horsepower\": 70.0, \"weight\": 2200, \"acceleration\": 13.2, \"model_year\": 79, \"origin\": \"usa\", \"name\": \"plymouth horizon\"}, {\"mpg\": 34.5, \"cylinders\": 4, \"displacement\": 105.0, \"horsepower\": 70.0, \"weight\": 2150, \"acceleration\": 14.9, \"model_year\": 79, \"origin\": \"usa\", \"name\": \"plymouth horizon tc3\"}, {\"mpg\": 31.8, \"cylinders\": 4, \"displacement\": 85.0, \"horsepower\": 65.0, \"weight\": 2020, \"acceleration\": 19.2, \"model_year\": 79, \"origin\": \"japan\", \"name\": \"datsun 210\"}, {\"mpg\": 37.3, \"cylinders\": 4, \"displacement\": 91.0, \"horsepower\": 69.0, \"weight\": 2130, \"acceleration\": 14.7, \"model_year\": 79, \"origin\": \"europe\", \"name\": \"fiat strada custom\"}, {\"mpg\": 28.4, \"cylinders\": 4, \"displacement\": 151.0, \"horsepower\": 90.0, \"weight\": 2670, \"acceleration\": 16.0, \"model_year\": 79, \"origin\": \"usa\", \"name\": \"buick skylark limited\"}, {\"mpg\": 28.8, \"cylinders\": 6, \"displacement\": 173.0, \"horsepower\": 115.0, \"weight\": 2595, \"acceleration\": 11.3, \"model_year\": 79, \"origin\": \"usa\", \"name\": \"chevrolet citation\"}, {\"mpg\": 26.8, \"cylinders\": 6, \"displacement\": 173.0, \"horsepower\": 115.0, \"weight\": 2700, \"acceleration\": 12.9, \"model_year\": 79, \"origin\": \"usa\", \"name\": \"oldsmobile omega brougham\"}, {\"mpg\": 33.5, \"cylinders\": 4, \"displacement\": 151.0, \"horsepower\": 90.0, \"weight\": 2556, \"acceleration\": 13.2, \"model_year\": 79, \"origin\": \"usa\", \"name\": \"pontiac phoenix\"}, {\"mpg\": 41.5, \"cylinders\": 4, \"displacement\": 98.0, \"horsepower\": 76.0, \"weight\": 2144, \"acceleration\": 14.7, \"model_year\": 80, \"origin\": \"europe\", \"name\": \"vw rabbit\"}, {\"mpg\": 38.1, \"cylinders\": 4, \"displacement\": 89.0, \"horsepower\": 60.0, \"weight\": 1968, \"acceleration\": 18.8, \"model_year\": 80, \"origin\": \"japan\", \"name\": \"toyota corolla tercel\"}, {\"mpg\": 32.1, \"cylinders\": 4, \"displacement\": 98.0, \"horsepower\": 70.0, \"weight\": 2120, \"acceleration\": 15.5, \"model_year\": 80, \"origin\": \"usa\", \"name\": \"chevrolet chevette\"}, {\"mpg\": 37.2, \"cylinders\": 4, \"displacement\": 86.0, \"horsepower\": 65.0, \"weight\": 2019, \"acceleration\": 16.4, \"model_year\": 80, \"origin\": \"japan\", \"name\": \"datsun 310\"}, {\"mpg\": 28.0, \"cylinders\": 4, \"displacement\": 151.0, \"horsepower\": 90.0, \"weight\": 2678, \"acceleration\": 16.5, \"model_year\": 80, \"origin\": \"usa\", \"name\": \"chevrolet citation\"}, {\"mpg\": 26.4, \"cylinders\": 4, \"displacement\": 140.0, \"horsepower\": 88.0, \"weight\": 2870, \"acceleration\": 18.1, \"model_year\": 80, \"origin\": \"usa\", \"name\": \"ford fairmont\"}, {\"mpg\": 24.3, \"cylinders\": 4, \"displacement\": 151.0, \"horsepower\": 90.0, \"weight\": 3003, \"acceleration\": 20.1, \"model_year\": 80, \"origin\": \"usa\", \"name\": \"amc concord\"}, {\"mpg\": 19.1, \"cylinders\": 6, \"displacement\": 225.0, \"horsepower\": 90.0, \"weight\": 3381, \"acceleration\": 18.7, \"model_year\": 80, \"origin\": \"usa\", \"name\": \"dodge aspen\"}, {\"mpg\": 34.3, \"cylinders\": 4, \"displacement\": 97.0, \"horsepower\": 78.0, \"weight\": 2188, \"acceleration\": 15.8, \"model_year\": 80, \"origin\": \"europe\", \"name\": \"audi 4000\"}, {\"mpg\": 29.8, \"cylinders\": 4, \"displacement\": 134.0, \"horsepower\": 90.0, \"weight\": 2711, \"acceleration\": 15.5, \"model_year\": 80, \"origin\": \"japan\", \"name\": \"toyota corona liftback\"}, {\"mpg\": 31.3, \"cylinders\": 4, \"displacement\": 120.0, \"horsepower\": 75.0, \"weight\": 2542, \"acceleration\": 17.5, \"model_year\": 80, \"origin\": \"japan\", \"name\": \"mazda 626\"}, {\"mpg\": 37.0, \"cylinders\": 4, \"displacement\": 119.0, \"horsepower\": 92.0, \"weight\": 2434, \"acceleration\": 15.0, \"model_year\": 80, \"origin\": \"japan\", \"name\": \"datsun 510 hatchback\"}, {\"mpg\": 32.2, \"cylinders\": 4, \"displacement\": 108.0, \"horsepower\": 75.0, \"weight\": 2265, \"acceleration\": 15.2, \"model_year\": 80, \"origin\": \"japan\", \"name\": \"toyota corolla\"}, {\"mpg\": 46.6, \"cylinders\": 4, \"displacement\": 86.0, \"horsepower\": 65.0, \"weight\": 2110, \"acceleration\": 17.9, \"model_year\": 80, \"origin\": \"japan\", \"name\": \"mazda glc\"}, {\"mpg\": 27.9, \"cylinders\": 4, \"displacement\": 156.0, \"horsepower\": 105.0, \"weight\": 2800, \"acceleration\": 14.4, \"model_year\": 80, \"origin\": \"usa\", \"name\": \"dodge colt\"}, {\"mpg\": 40.8, \"cylinders\": 4, \"displacement\": 85.0, \"horsepower\": 65.0, \"weight\": 2110, \"acceleration\": 19.2, \"model_year\": 80, \"origin\": \"japan\", \"name\": \"datsun 210\"}, {\"mpg\": 44.3, \"cylinders\": 4, \"displacement\": 90.0, \"horsepower\": 48.0, \"weight\": 2085, \"acceleration\": 21.7, \"model_year\": 80, \"origin\": \"europe\", \"name\": \"vw rabbit c (diesel)\"}, {\"mpg\": 43.4, \"cylinders\": 4, \"displacement\": 90.0, \"horsepower\": 48.0, \"weight\": 2335, \"acceleration\": 23.7, \"model_year\": 80, \"origin\": \"europe\", \"name\": \"vw dasher (diesel)\"}, {\"mpg\": 36.4, \"cylinders\": 5, \"displacement\": 121.0, \"horsepower\": 67.0, \"weight\": 2950, \"acceleration\": 19.9, \"model_year\": 80, \"origin\": \"europe\", \"name\": \"audi 5000s (diesel)\"}, {\"mpg\": 30.0, \"cylinders\": 4, \"displacement\": 146.0, \"horsepower\": 67.0, \"weight\": 3250, \"acceleration\": 21.8, \"model_year\": 80, \"origin\": \"europe\", \"name\": \"mercedes-benz 240d\"}, {\"mpg\": 44.6, \"cylinders\": 4, \"displacement\": 91.0, \"horsepower\": 67.0, \"weight\": 1850, \"acceleration\": 13.8, \"model_year\": 80, \"origin\": \"japan\", \"name\": \"honda civic 1500 gl\"}, {\"mpg\": 40.9, \"cylinders\": 4, \"displacement\": 85.0, \"horsepower\": null, \"weight\": 1835, \"acceleration\": 17.3, \"model_year\": 80, \"origin\": \"europe\", \"name\": \"renault lecar deluxe\"}, {\"mpg\": 33.8, \"cylinders\": 4, \"displacement\": 97.0, \"horsepower\": 67.0, \"weight\": 2145, \"acceleration\": 18.0, \"model_year\": 80, \"origin\": \"japan\", \"name\": \"subaru dl\"}, {\"mpg\": 29.8, \"cylinders\": 4, \"displacement\": 89.0, \"horsepower\": 62.0, \"weight\": 1845, \"acceleration\": 15.3, \"model_year\": 80, \"origin\": \"europe\", \"name\": \"vokswagen rabbit\"}, {\"mpg\": 32.7, \"cylinders\": 6, \"displacement\": 168.0, \"horsepower\": 132.0, \"weight\": 2910, \"acceleration\": 11.4, \"model_year\": 80, \"origin\": \"japan\", \"name\": \"datsun 280-zx\"}, {\"mpg\": 23.7, \"cylinders\": 3, \"displacement\": 70.0, \"horsepower\": 100.0, \"weight\": 2420, \"acceleration\": 12.5, \"model_year\": 80, \"origin\": \"japan\", \"name\": \"mazda rx-7 gs\"}, {\"mpg\": 35.0, \"cylinders\": 4, \"displacement\": 122.0, \"horsepower\": 88.0, \"weight\": 2500, \"acceleration\": 15.1, \"model_year\": 80, \"origin\": \"europe\", \"name\": \"triumph tr7 coupe\"}, {\"mpg\": 23.6, \"cylinders\": 4, \"displacement\": 140.0, \"horsepower\": null, \"weight\": 2905, \"acceleration\": 14.3, \"model_year\": 80, \"origin\": \"usa\", \"name\": \"ford mustang cobra\"}, {\"mpg\": 32.4, \"cylinders\": 4, \"displacement\": 107.0, \"horsepower\": 72.0, \"weight\": 2290, \"acceleration\": 17.0, \"model_year\": 80, \"origin\": \"japan\", \"name\": \"honda accord\"}, {\"mpg\": 27.2, \"cylinders\": 4, \"displacement\": 135.0, \"horsepower\": 84.0, \"weight\": 2490, \"acceleration\": 15.7, \"model_year\": 81, \"origin\": \"usa\", \"name\": \"plymouth reliant\"}, {\"mpg\": 26.6, \"cylinders\": 4, \"displacement\": 151.0, \"horsepower\": 84.0, \"weight\": 2635, \"acceleration\": 16.4, \"model_year\": 81, \"origin\": \"usa\", \"name\": \"buick skylark\"}, {\"mpg\": 25.8, \"cylinders\": 4, \"displacement\": 156.0, \"horsepower\": 92.0, \"weight\": 2620, \"acceleration\": 14.4, \"model_year\": 81, \"origin\": \"usa\", \"name\": \"dodge aries wagon (sw)\"}, {\"mpg\": 23.5, \"cylinders\": 6, \"displacement\": 173.0, \"horsepower\": 110.0, \"weight\": 2725, \"acceleration\": 12.6, \"model_year\": 81, \"origin\": \"usa\", \"name\": \"chevrolet citation\"}, {\"mpg\": 30.0, \"cylinders\": 4, \"displacement\": 135.0, \"horsepower\": 84.0, \"weight\": 2385, \"acceleration\": 12.9, \"model_year\": 81, \"origin\": \"usa\", \"name\": \"plymouth reliant\"}, {\"mpg\": 39.1, \"cylinders\": 4, \"displacement\": 79.0, \"horsepower\": 58.0, \"weight\": 1755, \"acceleration\": 16.9, \"model_year\": 81, \"origin\": \"japan\", \"name\": \"toyota starlet\"}, {\"mpg\": 39.0, \"cylinders\": 4, \"displacement\": 86.0, \"horsepower\": 64.0, \"weight\": 1875, \"acceleration\": 16.4, \"model_year\": 81, \"origin\": \"usa\", \"name\": \"plymouth champ\"}, {\"mpg\": 35.1, \"cylinders\": 4, \"displacement\": 81.0, \"horsepower\": 60.0, \"weight\": 1760, \"acceleration\": 16.1, \"model_year\": 81, \"origin\": \"japan\", \"name\": \"honda civic 1300\"}, {\"mpg\": 32.3, \"cylinders\": 4, \"displacement\": 97.0, \"horsepower\": 67.0, \"weight\": 2065, \"acceleration\": 17.8, \"model_year\": 81, \"origin\": \"japan\", \"name\": \"subaru\"}, {\"mpg\": 37.0, \"cylinders\": 4, \"displacement\": 85.0, \"horsepower\": 65.0, \"weight\": 1975, \"acceleration\": 19.4, \"model_year\": 81, \"origin\": \"japan\", \"name\": \"datsun 210 mpg\"}, {\"mpg\": 37.7, \"cylinders\": 4, \"displacement\": 89.0, \"horsepower\": 62.0, \"weight\": 2050, \"acceleration\": 17.3, \"model_year\": 81, \"origin\": \"japan\", \"name\": \"toyota tercel\"}, {\"mpg\": 34.1, \"cylinders\": 4, \"displacement\": 91.0, \"horsepower\": 68.0, \"weight\": 1985, \"acceleration\": 16.0, \"model_year\": 81, \"origin\": \"japan\", \"name\": \"mazda glc 4\"}, {\"mpg\": 34.7, \"cylinders\": 4, \"displacement\": 105.0, \"horsepower\": 63.0, \"weight\": 2215, \"acceleration\": 14.9, \"model_year\": 81, \"origin\": \"usa\", \"name\": \"plymouth horizon 4\"}, {\"mpg\": 34.4, \"cylinders\": 4, \"displacement\": 98.0, \"horsepower\": 65.0, \"weight\": 2045, \"acceleration\": 16.2, \"model_year\": 81, \"origin\": \"usa\", \"name\": \"ford escort 4w\"}, {\"mpg\": 29.9, \"cylinders\": 4, \"displacement\": 98.0, \"horsepower\": 65.0, \"weight\": 2380, \"acceleration\": 20.7, \"model_year\": 81, \"origin\": \"usa\", \"name\": \"ford escort 2h\"}, {\"mpg\": 33.0, \"cylinders\": 4, \"displacement\": 105.0, \"horsepower\": 74.0, \"weight\": 2190, \"acceleration\": 14.2, \"model_year\": 81, \"origin\": \"europe\", \"name\": \"volkswagen jetta\"}, {\"mpg\": 34.5, \"cylinders\": 4, \"displacement\": 100.0, \"horsepower\": null, \"weight\": 2320, \"acceleration\": 15.8, \"model_year\": 81, \"origin\": \"europe\", \"name\": \"renault 18i\"}, {\"mpg\": 33.7, \"cylinders\": 4, \"displacement\": 107.0, \"horsepower\": 75.0, \"weight\": 2210, \"acceleration\": 14.4, \"model_year\": 81, \"origin\": \"japan\", \"name\": \"honda prelude\"}, {\"mpg\": 32.4, \"cylinders\": 4, \"displacement\": 108.0, \"horsepower\": 75.0, \"weight\": 2350, \"acceleration\": 16.8, \"model_year\": 81, \"origin\": \"japan\", \"name\": \"toyota corolla\"}, {\"mpg\": 32.9, \"cylinders\": 4, \"displacement\": 119.0, \"horsepower\": 100.0, \"weight\": 2615, \"acceleration\": 14.8, \"model_year\": 81, \"origin\": \"japan\", \"name\": \"datsun 200sx\"}, {\"mpg\": 31.6, \"cylinders\": 4, \"displacement\": 120.0, \"horsepower\": 74.0, \"weight\": 2635, \"acceleration\": 18.3, \"model_year\": 81, \"origin\": \"japan\", \"name\": \"mazda 626\"}, {\"mpg\": 28.1, \"cylinders\": 4, \"displacement\": 141.0, \"horsepower\": 80.0, \"weight\": 3230, \"acceleration\": 20.4, \"model_year\": 81, \"origin\": \"europe\", \"name\": \"peugeot 505s turbo diesel\"}, {\"mpg\": 30.7, \"cylinders\": 6, \"displacement\": 145.0, \"horsepower\": 76.0, \"weight\": 3160, \"acceleration\": 19.6, \"model_year\": 81, \"origin\": \"europe\", \"name\": \"volvo diesel\"}, {\"mpg\": 25.4, \"cylinders\": 6, \"displacement\": 168.0, \"horsepower\": 116.0, \"weight\": 2900, \"acceleration\": 12.6, \"model_year\": 81, \"origin\": \"japan\", \"name\": \"toyota cressida\"}, {\"mpg\": 24.2, \"cylinders\": 6, \"displacement\": 146.0, \"horsepower\": 120.0, \"weight\": 2930, \"acceleration\": 13.8, \"model_year\": 81, \"origin\": \"japan\", \"name\": \"datsun 810 maxima\"}, {\"mpg\": 22.4, \"cylinders\": 6, \"displacement\": 231.0, \"horsepower\": 110.0, \"weight\": 3415, \"acceleration\": 15.8, \"model_year\": 81, \"origin\": \"usa\", \"name\": \"buick century\"}, {\"mpg\": 26.6, \"cylinders\": 8, \"displacement\": 350.0, \"horsepower\": 105.0, \"weight\": 3725, \"acceleration\": 19.0, \"model_year\": 81, \"origin\": \"usa\", \"name\": \"oldsmobile cutlass ls\"}, {\"mpg\": 20.2, \"cylinders\": 6, \"displacement\": 200.0, \"horsepower\": 88.0, \"weight\": 3060, \"acceleration\": 17.1, \"model_year\": 81, \"origin\": \"usa\", \"name\": \"ford granada gl\"}, {\"mpg\": 17.6, \"cylinders\": 6, \"displacement\": 225.0, \"horsepower\": 85.0, \"weight\": 3465, \"acceleration\": 16.6, \"model_year\": 81, \"origin\": \"usa\", \"name\": \"chrysler lebaron salon\"}, {\"mpg\": 28.0, \"cylinders\": 4, \"displacement\": 112.0, \"horsepower\": 88.0, \"weight\": 2605, \"acceleration\": 19.6, \"model_year\": 82, \"origin\": \"usa\", \"name\": \"chevrolet cavalier\"}, {\"mpg\": 27.0, \"cylinders\": 4, \"displacement\": 112.0, \"horsepower\": 88.0, \"weight\": 2640, \"acceleration\": 18.6, \"model_year\": 82, \"origin\": \"usa\", \"name\": \"chevrolet cavalier wagon\"}, {\"mpg\": 34.0, \"cylinders\": 4, \"displacement\": 112.0, \"horsepower\": 88.0, \"weight\": 2395, \"acceleration\": 18.0, \"model_year\": 82, \"origin\": \"usa\", \"name\": \"chevrolet cavalier 2-door\"}, {\"mpg\": 31.0, \"cylinders\": 4, \"displacement\": 112.0, \"horsepower\": 85.0, \"weight\": 2575, \"acceleration\": 16.2, \"model_year\": 82, \"origin\": \"usa\", \"name\": \"pontiac j2000 se hatchback\"}, {\"mpg\": 29.0, \"cylinders\": 4, \"displacement\": 135.0, \"horsepower\": 84.0, \"weight\": 2525, \"acceleration\": 16.0, \"model_year\": 82, \"origin\": \"usa\", \"name\": \"dodge aries se\"}, {\"mpg\": 27.0, \"cylinders\": 4, \"displacement\": 151.0, \"horsepower\": 90.0, \"weight\": 2735, \"acceleration\": 18.0, \"model_year\": 82, \"origin\": \"usa\", \"name\": \"pontiac phoenix\"}, {\"mpg\": 24.0, \"cylinders\": 4, \"displacement\": 140.0, \"horsepower\": 92.0, \"weight\": 2865, \"acceleration\": 16.4, \"model_year\": 82, \"origin\": \"usa\", \"name\": \"ford fairmont futura\"}, {\"mpg\": 23.0, \"cylinders\": 4, \"displacement\": 151.0, \"horsepower\": null, \"weight\": 3035, \"acceleration\": 20.5, \"model_year\": 82, \"origin\": \"usa\", \"name\": \"amc concord dl\"}, {\"mpg\": 36.0, \"cylinders\": 4, \"displacement\": 105.0, \"horsepower\": 74.0, \"weight\": 1980, \"acceleration\": 15.3, \"model_year\": 82, \"origin\": \"europe\", \"name\": \"volkswagen rabbit l\"}, {\"mpg\": 37.0, \"cylinders\": 4, \"displacement\": 91.0, \"horsepower\": 68.0, \"weight\": 2025, \"acceleration\": 18.2, \"model_year\": 82, \"origin\": \"japan\", \"name\": \"mazda glc custom l\"}, {\"mpg\": 31.0, \"cylinders\": 4, \"displacement\": 91.0, \"horsepower\": 68.0, \"weight\": 1970, \"acceleration\": 17.6, \"model_year\": 82, \"origin\": \"japan\", \"name\": \"mazda glc custom\"}, {\"mpg\": 38.0, \"cylinders\": 4, \"displacement\": 105.0, \"horsepower\": 63.0, \"weight\": 2125, \"acceleration\": 14.7, \"model_year\": 82, \"origin\": \"usa\", \"name\": \"plymouth horizon miser\"}, {\"mpg\": 36.0, \"cylinders\": 4, \"displacement\": 98.0, \"horsepower\": 70.0, \"weight\": 2125, \"acceleration\": 17.3, \"model_year\": 82, \"origin\": \"usa\", \"name\": \"mercury lynx l\"}, {\"mpg\": 36.0, \"cylinders\": 4, \"displacement\": 120.0, \"horsepower\": 88.0, \"weight\": 2160, \"acceleration\": 14.5, \"model_year\": 82, \"origin\": \"japan\", \"name\": \"nissan stanza xe\"}, {\"mpg\": 36.0, \"cylinders\": 4, \"displacement\": 107.0, \"horsepower\": 75.0, \"weight\": 2205, \"acceleration\": 14.5, \"model_year\": 82, \"origin\": \"japan\", \"name\": \"honda accord\"}, {\"mpg\": 34.0, \"cylinders\": 4, \"displacement\": 108.0, \"horsepower\": 70.0, \"weight\": 2245, \"acceleration\": 16.9, \"model_year\": 82, \"origin\": \"japan\", \"name\": \"toyota corolla\"}, {\"mpg\": 38.0, \"cylinders\": 4, \"displacement\": 91.0, \"horsepower\": 67.0, \"weight\": 1965, \"acceleration\": 15.0, \"model_year\": 82, \"origin\": \"japan\", \"name\": \"honda civic\"}, {\"mpg\": 32.0, \"cylinders\": 4, \"displacement\": 91.0, \"horsepower\": 67.0, \"weight\": 1965, \"acceleration\": 15.7, \"model_year\": 82, \"origin\": \"japan\", \"name\": \"honda civic (auto)\"}, {\"mpg\": 38.0, \"cylinders\": 4, \"displacement\": 91.0, \"horsepower\": 67.0, \"weight\": 1995, \"acceleration\": 16.2, \"model_year\": 82, \"origin\": \"japan\", \"name\": \"datsun 310 gx\"}, {\"mpg\": 25.0, \"cylinders\": 6, \"displacement\": 181.0, \"horsepower\": 110.0, \"weight\": 2945, \"acceleration\": 16.4, \"model_year\": 82, \"origin\": \"usa\", \"name\": \"buick century limited\"}, {\"mpg\": 38.0, \"cylinders\": 6, \"displacement\": 262.0, \"horsepower\": 85.0, \"weight\": 3015, \"acceleration\": 17.0, \"model_year\": 82, \"origin\": \"usa\", \"name\": \"oldsmobile cutlass ciera (diesel)\"}, {\"mpg\": 26.0, \"cylinders\": 4, \"displacement\": 156.0, \"horsepower\": 92.0, \"weight\": 2585, \"acceleration\": 14.5, \"model_year\": 82, \"origin\": \"usa\", \"name\": \"chrysler lebaron medallion\"}, {\"mpg\": 22.0, \"cylinders\": 6, \"displacement\": 232.0, \"horsepower\": 112.0, \"weight\": 2835, \"acceleration\": 14.7, \"model_year\": 82, \"origin\": \"usa\", \"name\": \"ford granada l\"}, {\"mpg\": 32.0, \"cylinders\": 4, \"displacement\": 144.0, \"horsepower\": 96.0, \"weight\": 2665, \"acceleration\": 13.9, \"model_year\": 82, \"origin\": \"japan\", \"name\": \"toyota celica gt\"}, {\"mpg\": 36.0, \"cylinders\": 4, \"displacement\": 135.0, \"horsepower\": 84.0, \"weight\": 2370, \"acceleration\": 13.0, \"model_year\": 82, \"origin\": \"usa\", \"name\": \"dodge charger 2.2\"}, {\"mpg\": 27.0, \"cylinders\": 4, \"displacement\": 151.0, \"horsepower\": 90.0, \"weight\": 2950, \"acceleration\": 17.3, \"model_year\": 82, \"origin\": \"usa\", \"name\": \"chevrolet camaro\"}, {\"mpg\": 27.0, \"cylinders\": 4, \"displacement\": 140.0, \"horsepower\": 86.0, \"weight\": 2790, \"acceleration\": 15.6, \"model_year\": 82, \"origin\": \"usa\", \"name\": \"ford mustang gl\"}, {\"mpg\": 44.0, \"cylinders\": 4, \"displacement\": 97.0, \"horsepower\": 52.0, \"weight\": 2130, \"acceleration\": 24.6, \"model_year\": 82, \"origin\": \"europe\", \"name\": \"vw pickup\"}, {\"mpg\": 32.0, \"cylinders\": 4, \"displacement\": 135.0, \"horsepower\": 84.0, \"weight\": 2295, \"acceleration\": 11.6, \"model_year\": 82, \"origin\": \"usa\", \"name\": \"dodge rampage\"}, {\"mpg\": 28.0, \"cylinders\": 4, \"displacement\": 120.0, \"horsepower\": 79.0, \"weight\": 2625, \"acceleration\": 18.6, \"model_year\": 82, \"origin\": \"usa\", \"name\": \"ford ranger\"}, {\"mpg\": 31.0, \"cylinders\": 4, \"displacement\": 119.0, \"horsepower\": 82.0, \"weight\": 2720, \"acceleration\": 19.4, \"model_year\": 82, \"origin\": \"usa\", \"name\": \"chevy s-10\"}]}}, {\"mode\": \"vega-lite\"});\n",
       "</script>"
      ],
      "text/plain": [
       "alt.Chart(...)"
      ]
     },
     "execution_count": 18,
     "metadata": {},
     "output_type": "execute_result"
    }
   ],
   "source": [
    "alt.Chart(df).mark_bar().encode(\n",
    "    x = \"cylinders:O\",\n",
    "    y = \"median(mpg)\",\n",
    "    tooltip = [\"median(mpg)\", \"cylinders\"]\n",
    ")"
   ]
  },
  {
   "block_group": "37e170a3bea54f269e1be47aa7fd00b3",
   "cell_type": "markdown",
   "metadata": {
    "cell_id": "60a528d1a54c41b3bdd9601256268a3f",
    "deepnote_cell_type": "markdown"
   },
   "source": [
    "* Can you find these same median values using `df.groupby`?  Deepnote hides the warning, but use the keyword argument `numeric_only` when computing the median to avoid a Python warning."
   ]
  },
  {
   "block_group": "506b932837f34fb7bb9fa4b691bf3bb2",
   "cell_type": "code",
   "execution_count": null,
   "metadata": {
    "cell_id": "44d5a817567c4466bd2c91e2dd0ceb86",
    "deepnote_cell_type": "code",
    "deepnote_to_be_reexecuted": false,
    "execution_millis": 104,
    "execution_start": 1697661501303,
    "source_hash": null
   },
   "outputs": [
    {
     "data": {
      "application/vnd.deepnote.dataframe.v3+json": {
       "column_count": 6,
       "columns": [
        {
         "dtype": "float64",
         "name": "mpg",
         "stats": {
          "histogram": [
           {
            "bin_end": 15.425,
            "bin_start": 14,
            "count": 1
           },
           {
            "bin_end": 16.85,
            "bin_start": 15.425,
            "count": 0
           },
           {
            "bin_end": 18.275,
            "bin_start": 16.85,
            "count": 0
           },
           {
            "bin_end": 19.7,
            "bin_start": 18.275,
            "count": 1
           },
           {
            "bin_end": 21.125,
            "bin_start": 19.7,
            "count": 1
           },
           {
            "bin_end": 22.55,
            "bin_start": 21.125,
            "count": 0
           },
           {
            "bin_end": 23.975,
            "bin_start": 22.55,
            "count": 0
           },
           {
            "bin_end": 25.4,
            "bin_start": 23.975,
            "count": 0
           },
           {
            "bin_end": 26.825000000000003,
            "bin_start": 25.4,
            "count": 1
           },
           {
            "bin_end": 28.25,
            "bin_start": 26.825000000000003,
            "count": 1
           }
          ],
          "max": "28.25",
          "min": "14.0",
          "nan_count": 0,
          "unique_count": 5
         }
        },
        {
         "dtype": "float64",
         "name": "displacement",
         "stats": {
          "histogram": [
           {
            "bin_end": 98,
            "bin_start": 70,
            "count": 1
           },
           {
            "bin_end": 126,
            "bin_start": 98,
            "count": 1
           },
           {
            "bin_end": 154,
            "bin_start": 126,
            "count": 1
           },
           {
            "bin_end": 182,
            "bin_start": 154,
            "count": 0
           },
           {
            "bin_end": 210,
            "bin_start": 182,
            "count": 0
           },
           {
            "bin_end": 238,
            "bin_start": 210,
            "count": 1
           },
           {
            "bin_end": 266,
            "bin_start": 238,
            "count": 0
           },
           {
            "bin_end": 294,
            "bin_start": 266,
            "count": 0
           },
           {
            "bin_end": 322,
            "bin_start": 294,
            "count": 0
           },
           {
            "bin_end": 350,
            "bin_start": 322,
            "count": 1
           }
          ],
          "max": "350.0",
          "min": "70.0",
          "nan_count": 0,
          "unique_count": 5
         }
        },
        {
         "dtype": "float64",
         "name": "horsepower",
         "stats": {
          "histogram": [
           {
            "bin_end": 84.3,
            "bin_start": 77,
            "count": 2
           },
           {
            "bin_end": 91.6,
            "bin_start": 84.3,
            "count": 0
           },
           {
            "bin_end": 98.9,
            "bin_start": 91.6,
            "count": 1
           },
           {
            "bin_end": 106.2,
            "bin_start": 98.9,
            "count": 1
           },
           {
            "bin_end": 113.5,
            "bin_start": 106.2,
            "count": 0
           },
           {
            "bin_end": 120.8,
            "bin_start": 113.5,
            "count": 0
           },
           {
            "bin_end": 128.1,
            "bin_start": 120.8,
            "count": 0
           },
           {
            "bin_end": 135.4,
            "bin_start": 128.1,
            "count": 0
           },
           {
            "bin_end": 142.7,
            "bin_start": 135.4,
            "count": 0
           },
           {
            "bin_end": 150,
            "bin_start": 142.7,
            "count": 1
           }
          ],
          "max": "150.0",
          "min": "77.0",
          "nan_count": 0,
          "unique_count": 5
         }
        },
        {
         "dtype": "float64",
         "name": "weight",
         "stats": {
          "histogram": [
           {
            "bin_end": 2422.8,
            "bin_start": 2232,
            "count": 2
           },
           {
            "bin_end": 2613.6,
            "bin_start": 2422.8,
            "count": 0
           },
           {
            "bin_end": 2804.4,
            "bin_start": 2613.6,
            "count": 0
           },
           {
            "bin_end": 2995.2,
            "bin_start": 2804.4,
            "count": 1
           },
           {
            "bin_end": 3186,
            "bin_start": 2995.2,
            "count": 0
           },
           {
            "bin_end": 3376.8,
            "bin_start": 3186,
            "count": 1
           },
           {
            "bin_end": 3567.6000000000004,
            "bin_start": 3376.8,
            "count": 0
           },
           {
            "bin_end": 3758.4,
            "bin_start": 3567.6000000000004,
            "count": 0
           },
           {
            "bin_end": 3949.2,
            "bin_start": 3758.4,
            "count": 0
           },
           {
            "bin_end": 4140,
            "bin_start": 3949.2,
            "count": 1
           }
          ],
          "max": "4140.0",
          "min": "2232.0",
          "nan_count": 0,
          "unique_count": 5
         }
        },
        {
         "dtype": "float64",
         "name": "acceleration",
         "stats": {
          "histogram": [
           {
            "bin_end": 13.69,
            "bin_start": 13,
            "count": 2
           },
           {
            "bin_end": 14.379999999999999,
            "bin_start": 13.69,
            "count": 0
           },
           {
            "bin_end": 15.07,
            "bin_start": 14.379999999999999,
            "count": 0
           },
           {
            "bin_end": 15.76,
            "bin_start": 15.07,
            "count": 0
           },
           {
            "bin_end": 16.45,
            "bin_start": 15.76,
            "count": 2
           },
           {
            "bin_end": 17.14,
            "bin_start": 16.45,
            "count": 0
           },
           {
            "bin_end": 17.83,
            "bin_start": 17.14,
            "count": 0
           },
           {
            "bin_end": 18.52,
            "bin_start": 17.83,
            "count": 0
           },
           {
            "bin_end": 19.209999999999997,
            "bin_start": 18.52,
            "count": 0
           },
           {
            "bin_end": 19.9,
            "bin_start": 19.209999999999997,
            "count": 1
           }
          ],
          "max": "19.9",
          "min": "13.0",
          "nan_count": 0,
          "unique_count": 5
         }
        },
        {
         "dtype": "float64",
         "name": "model_year",
         "stats": {
          "histogram": [
           {
            "bin_end": 73.6,
            "bin_start": 73,
            "count": 1
           },
           {
            "bin_end": 74.2,
            "bin_start": 73.6,
            "count": 0
           },
           {
            "bin_end": 74.8,
            "bin_start": 74.2,
            "count": 0
           },
           {
            "bin_end": 75.4,
            "bin_start": 74.8,
            "count": 1
           },
           {
            "bin_end": 76,
            "bin_start": 75.4,
            "count": 0
           },
           {
            "bin_end": 76.6,
            "bin_start": 76,
            "count": 1
           },
           {
            "bin_end": 77.2,
            "bin_start": 76.6,
            "count": 0
           },
           {
            "bin_end": 77.8,
            "bin_start": 77.2,
            "count": 0
           },
           {
            "bin_end": 78.4,
            "bin_start": 77.8,
            "count": 1
           },
           {
            "bin_end": 79,
            "bin_start": 78.4,
            "count": 1
           }
          ],
          "max": "79.0",
          "min": "73.0",
          "nan_count": 0,
          "unique_count": 5
         }
        },
        {
         "dtype": "int64",
         "name": "_deepnote_index_column"
        }
       ],
       "row_count": 5,
       "rows": [
        {
         "_deepnote_index_column": 3,
         "acceleration": 13.5,
         "displacement": 70,
         "horsepower": 98.5,
         "model_year": 75,
         "mpg": 20.25,
         "weight": 2375
        },
        {
         "_deepnote_index_column": 4,
         "acceleration": 16.2,
         "displacement": 105,
         "horsepower": 78,
         "model_year": 78,
         "mpg": 28.25,
         "weight": 2232
        },
        {
         "_deepnote_index_column": 5,
         "acceleration": 19.9,
         "displacement": 131,
         "horsepower": 77,
         "model_year": 79,
         "mpg": 25.4,
         "weight": 2950
        },
        {
         "_deepnote_index_column": 6,
         "acceleration": 16.1,
         "displacement": 228,
         "horsepower": 100,
         "model_year": 76,
         "mpg": 19,
         "weight": 3201.5
        },
        {
         "_deepnote_index_column": 8,
         "acceleration": 13,
         "displacement": 350,
         "horsepower": 150,
         "model_year": 73,
         "mpg": 14,
         "weight": 4140
        }
       ]
      },
      "text/html": [
       "<div>\n",
       "<style scoped>\n",
       "    .dataframe tbody tr th:only-of-type {\n",
       "        vertical-align: middle;\n",
       "    }\n",
       "\n",
       "    .dataframe tbody tr th {\n",
       "        vertical-align: top;\n",
       "    }\n",
       "\n",
       "    .dataframe thead th {\n",
       "        text-align: right;\n",
       "    }\n",
       "</style>\n",
       "<table border=\"1\" class=\"dataframe\">\n",
       "  <thead>\n",
       "    <tr style=\"text-align: right;\">\n",
       "      <th></th>\n",
       "      <th>mpg</th>\n",
       "      <th>displacement</th>\n",
       "      <th>horsepower</th>\n",
       "      <th>weight</th>\n",
       "      <th>acceleration</th>\n",
       "      <th>model_year</th>\n",
       "    </tr>\n",
       "    <tr>\n",
       "      <th>cylinders</th>\n",
       "      <th></th>\n",
       "      <th></th>\n",
       "      <th></th>\n",
       "      <th></th>\n",
       "      <th></th>\n",
       "      <th></th>\n",
       "    </tr>\n",
       "  </thead>\n",
       "  <tbody>\n",
       "    <tr>\n",
       "      <th>3</th>\n",
       "      <td>20.25</td>\n",
       "      <td>70.0</td>\n",
       "      <td>98.5</td>\n",
       "      <td>2375.0</td>\n",
       "      <td>13.5</td>\n",
       "      <td>75.0</td>\n",
       "    </tr>\n",
       "    <tr>\n",
       "      <th>4</th>\n",
       "      <td>28.25</td>\n",
       "      <td>105.0</td>\n",
       "      <td>78.0</td>\n",
       "      <td>2232.0</td>\n",
       "      <td>16.2</td>\n",
       "      <td>78.0</td>\n",
       "    </tr>\n",
       "    <tr>\n",
       "      <th>5</th>\n",
       "      <td>25.40</td>\n",
       "      <td>131.0</td>\n",
       "      <td>77.0</td>\n",
       "      <td>2950.0</td>\n",
       "      <td>19.9</td>\n",
       "      <td>79.0</td>\n",
       "    </tr>\n",
       "    <tr>\n",
       "      <th>6</th>\n",
       "      <td>19.00</td>\n",
       "      <td>228.0</td>\n",
       "      <td>100.0</td>\n",
       "      <td>3201.5</td>\n",
       "      <td>16.1</td>\n",
       "      <td>76.0</td>\n",
       "    </tr>\n",
       "    <tr>\n",
       "      <th>8</th>\n",
       "      <td>14.00</td>\n",
       "      <td>350.0</td>\n",
       "      <td>150.0</td>\n",
       "      <td>4140.0</td>\n",
       "      <td>13.0</td>\n",
       "      <td>73.0</td>\n",
       "    </tr>\n",
       "  </tbody>\n",
       "</table>\n",
       "</div>"
      ],
      "text/plain": [
       "             mpg  displacement  horsepower  weight  acceleration  model_year\n",
       "cylinders                                                                   \n",
       "3          20.25          70.0        98.5  2375.0          13.5        75.0\n",
       "4          28.25         105.0        78.0  2232.0          16.2        78.0\n",
       "5          25.40         131.0        77.0  2950.0          19.9        79.0\n",
       "6          19.00         228.0       100.0  3201.5          16.1        76.0\n",
       "8          14.00         350.0       150.0  4140.0          13.0        73.0"
      ]
     },
     "execution_count": 19,
     "metadata": {},
     "output_type": "execute_result"
    }
   ],
   "source": [
    "df.groupby(\"cylinders\").median()"
   ]
  },
  {
   "block_group": "e9a8600a8b2249a8b408be016cdd9655",
   "cell_type": "code",
   "execution_count": null,
   "metadata": {
    "cell_id": "7e68a1579b9e4178a55a0cf7692b798c",
    "deepnote_cell_type": "code",
    "deepnote_to_be_reexecuted": false,
    "execution_millis": 21,
    "execution_start": 1697661525730,
    "source_hash": null
   },
   "outputs": [
    {
     "data": {
      "text/plain": [
       "cylinders\n",
       "3    20.25\n",
       "4    28.25\n",
       "5    25.40\n",
       "6    19.00\n",
       "8    14.00\n",
       "Name: mpg, dtype: float64"
      ]
     },
     "execution_count": 20,
     "metadata": {},
     "output_type": "execute_result"
    }
   ],
   "source": [
    "df.groupby(\"cylinders\").median()[\"mpg\"]"
   ]
  },
  {
   "block_group": "e423599ee95043a1b7f370e5eaec4a38",
   "cell_type": "markdown",
   "metadata": {
    "cell_id": "006b6a2635d74e69901df634cacd79ef",
    "deepnote_cell_type": "markdown"
   },
   "source": [
    "* Make a \"rectangle chart\" using `mark_rect` with \"model_year\" along the x-axis, with \"cylinders\" along the y-axis, and with the rectangles colored by `\"count()\"`.\n",
    "\n",
    "Note that here `\"count()\"` is something defined by Altair, not one of the columns in `df`.\n",
    "\n",
    "Reading based on the colors, it appears that there are the most cars from the year `82` and with `4` cylinders in this dataset.  The tooltip lets us check that there are `28` such values in the dataset.\n",
    "\n",
    "Here we are storing the chart in the variable `c1` so we can refer to it below."
   ]
  },
  {
   "block_group": "b1d0aa0cae474cf9aa6a89e58421d641",
   "cell_type": "code",
   "execution_count": null,
   "metadata": {
    "cell_id": "f68b6b442a6d4ce1bb6b09a5752c9ec5",
    "deepnote_cell_type": "code",
    "deepnote_to_be_reexecuted": false,
    "execution_millis": 226,
    "execution_start": 1697661873850,
    "source_hash": null
   },
   "outputs": [
    {
     "data": {
      "text/html": [
       "\n",
       "<div id=\"altair-viz-7e1339ec829347d6803ccfec8b7e185a\"></div>\n",
       "<script type=\"text/javascript\">\n",
       "  var VEGA_DEBUG = (typeof VEGA_DEBUG == \"undefined\") ? {} : VEGA_DEBUG;\n",
       "  (function(spec, embedOpt){\n",
       "    let outputDiv = document.currentScript.previousElementSibling;\n",
       "    if (outputDiv.id !== \"altair-viz-7e1339ec829347d6803ccfec8b7e185a\") {\n",
       "      outputDiv = document.getElementById(\"altair-viz-7e1339ec829347d6803ccfec8b7e185a\");\n",
       "    }\n",
       "    const paths = {\n",
       "      \"vega\": \"https://cdn.jsdelivr.net/npm//vega@5?noext\",\n",
       "      \"vega-lib\": \"https://cdn.jsdelivr.net/npm//vega-lib?noext\",\n",
       "      \"vega-lite\": \"https://cdn.jsdelivr.net/npm//vega-lite@4.17.0?noext\",\n",
       "      \"vega-embed\": \"https://cdn.jsdelivr.net/npm//vega-embed@6?noext\",\n",
       "    };\n",
       "\n",
       "    function maybeLoadScript(lib, version) {\n",
       "      var key = `${lib.replace(\"-\", \"\")}_version`;\n",
       "      return (VEGA_DEBUG[key] == version) ?\n",
       "        Promise.resolve(paths[lib]) :\n",
       "        new Promise(function(resolve, reject) {\n",
       "          var s = document.createElement('script');\n",
       "          document.getElementsByTagName(\"head\")[0].appendChild(s);\n",
       "          s.async = true;\n",
       "          s.onload = () => {\n",
       "            VEGA_DEBUG[key] = version;\n",
       "            return resolve(paths[lib]);\n",
       "          };\n",
       "          s.onerror = () => reject(`Error loading script: ${paths[lib]}`);\n",
       "          s.src = paths[lib];\n",
       "        });\n",
       "    }\n",
       "\n",
       "    function showError(err) {\n",
       "      outputDiv.innerHTML = `<div class=\"error\" style=\"color:red;\">${err}</div>`;\n",
       "      throw err;\n",
       "    }\n",
       "\n",
       "    function displayChart(vegaEmbed) {\n",
       "      vegaEmbed(outputDiv, spec, embedOpt)\n",
       "        .catch(err => showError(`Javascript Error: ${err.message}<br>This usually means there's a typo in your chart specification. See the javascript console for the full traceback.`));\n",
       "    }\n",
       "\n",
       "    if(typeof define === \"function\" && define.amd) {\n",
       "      requirejs.config({paths});\n",
       "      require([\"vega-embed\"], displayChart, err => showError(`Error loading script: ${err.message}`));\n",
       "    } else {\n",
       "      maybeLoadScript(\"vega\", \"5\")\n",
       "        .then(() => maybeLoadScript(\"vega-lite\", \"4.17.0\"))\n",
       "        .then(() => maybeLoadScript(\"vega-embed\", \"6\"))\n",
       "        .catch(showError)\n",
       "        .then(() => displayChart(vegaEmbed));\n",
       "    }\n",
       "  })({\"config\": {\"view\": {\"continuousWidth\": 400, \"continuousHeight\": 300}}, \"data\": {\"name\": \"data-f1198cc0481ad698d7dc4699e0a3efa7\"}, \"mark\": \"rect\", \"encoding\": {\"color\": {\"aggregate\": \"count\", \"type\": \"quantitative\"}, \"tooltip\": [{\"aggregate\": \"count\", \"type\": \"quantitative\"}], \"x\": {\"field\": \"model_year\", \"type\": \"ordinal\"}, \"y\": {\"field\": \"cylinders\", \"type\": \"ordinal\"}}, \"$schema\": \"https://vega.github.io/schema/vega-lite/v4.17.0.json\", \"datasets\": {\"data-f1198cc0481ad698d7dc4699e0a3efa7\": [{\"mpg\": 18.0, \"cylinders\": 8, \"displacement\": 307.0, \"horsepower\": 130.0, \"weight\": 3504, \"acceleration\": 12.0, \"model_year\": 70, \"origin\": \"usa\", \"name\": \"chevrolet chevelle malibu\"}, {\"mpg\": 15.0, \"cylinders\": 8, \"displacement\": 350.0, \"horsepower\": 165.0, \"weight\": 3693, \"acceleration\": 11.5, \"model_year\": 70, \"origin\": \"usa\", \"name\": \"buick skylark 320\"}, {\"mpg\": 18.0, \"cylinders\": 8, \"displacement\": 318.0, \"horsepower\": 150.0, \"weight\": 3436, \"acceleration\": 11.0, \"model_year\": 70, \"origin\": \"usa\", \"name\": \"plymouth satellite\"}, {\"mpg\": 16.0, \"cylinders\": 8, \"displacement\": 304.0, \"horsepower\": 150.0, \"weight\": 3433, \"acceleration\": 12.0, \"model_year\": 70, \"origin\": \"usa\", \"name\": \"amc rebel sst\"}, {\"mpg\": 17.0, \"cylinders\": 8, \"displacement\": 302.0, \"horsepower\": 140.0, \"weight\": 3449, \"acceleration\": 10.5, \"model_year\": 70, \"origin\": \"usa\", \"name\": \"ford torino\"}, {\"mpg\": 15.0, \"cylinders\": 8, \"displacement\": 429.0, \"horsepower\": 198.0, \"weight\": 4341, \"acceleration\": 10.0, \"model_year\": 70, \"origin\": \"usa\", \"name\": \"ford galaxie 500\"}, {\"mpg\": 14.0, \"cylinders\": 8, \"displacement\": 454.0, \"horsepower\": 220.0, \"weight\": 4354, \"acceleration\": 9.0, \"model_year\": 70, \"origin\": \"usa\", \"name\": \"chevrolet impala\"}, {\"mpg\": 14.0, \"cylinders\": 8, \"displacement\": 440.0, \"horsepower\": 215.0, \"weight\": 4312, \"acceleration\": 8.5, \"model_year\": 70, \"origin\": \"usa\", \"name\": \"plymouth fury iii\"}, {\"mpg\": 14.0, \"cylinders\": 8, \"displacement\": 455.0, \"horsepower\": 225.0, \"weight\": 4425, \"acceleration\": 10.0, \"model_year\": 70, \"origin\": \"usa\", \"name\": \"pontiac catalina\"}, {\"mpg\": 15.0, \"cylinders\": 8, \"displacement\": 390.0, \"horsepower\": 190.0, \"weight\": 3850, \"acceleration\": 8.5, \"model_year\": 70, \"origin\": \"usa\", \"name\": \"amc ambassador dpl\"}, {\"mpg\": 15.0, \"cylinders\": 8, \"displacement\": 383.0, \"horsepower\": 170.0, \"weight\": 3563, \"acceleration\": 10.0, \"model_year\": 70, \"origin\": \"usa\", \"name\": \"dodge challenger se\"}, {\"mpg\": 14.0, \"cylinders\": 8, \"displacement\": 340.0, \"horsepower\": 160.0, \"weight\": 3609, \"acceleration\": 8.0, \"model_year\": 70, \"origin\": \"usa\", \"name\": \"plymouth 'cuda 340\"}, {\"mpg\": 15.0, \"cylinders\": 8, \"displacement\": 400.0, \"horsepower\": 150.0, \"weight\": 3761, \"acceleration\": 9.5, \"model_year\": 70, \"origin\": \"usa\", \"name\": \"chevrolet monte carlo\"}, {\"mpg\": 14.0, \"cylinders\": 8, \"displacement\": 455.0, \"horsepower\": 225.0, \"weight\": 3086, \"acceleration\": 10.0, \"model_year\": 70, \"origin\": \"usa\", \"name\": \"buick estate wagon (sw)\"}, {\"mpg\": 24.0, \"cylinders\": 4, \"displacement\": 113.0, \"horsepower\": 95.0, \"weight\": 2372, \"acceleration\": 15.0, \"model_year\": 70, \"origin\": \"japan\", \"name\": \"toyota corona mark ii\"}, {\"mpg\": 22.0, \"cylinders\": 6, \"displacement\": 198.0, \"horsepower\": 95.0, \"weight\": 2833, \"acceleration\": 15.5, \"model_year\": 70, \"origin\": \"usa\", \"name\": \"plymouth duster\"}, {\"mpg\": 18.0, \"cylinders\": 6, \"displacement\": 199.0, \"horsepower\": 97.0, \"weight\": 2774, \"acceleration\": 15.5, \"model_year\": 70, \"origin\": \"usa\", \"name\": \"amc hornet\"}, {\"mpg\": 21.0, \"cylinders\": 6, \"displacement\": 200.0, \"horsepower\": 85.0, \"weight\": 2587, \"acceleration\": 16.0, \"model_year\": 70, \"origin\": \"usa\", \"name\": \"ford maverick\"}, {\"mpg\": 27.0, \"cylinders\": 4, \"displacement\": 97.0, \"horsepower\": 88.0, \"weight\": 2130, \"acceleration\": 14.5, \"model_year\": 70, \"origin\": \"japan\", \"name\": \"datsun pl510\"}, {\"mpg\": 26.0, \"cylinders\": 4, \"displacement\": 97.0, \"horsepower\": 46.0, \"weight\": 1835, \"acceleration\": 20.5, \"model_year\": 70, \"origin\": \"europe\", \"name\": \"volkswagen 1131 deluxe sedan\"}, {\"mpg\": 25.0, \"cylinders\": 4, \"displacement\": 110.0, \"horsepower\": 87.0, \"weight\": 2672, \"acceleration\": 17.5, \"model_year\": 70, \"origin\": \"europe\", \"name\": \"peugeot 504\"}, {\"mpg\": 24.0, \"cylinders\": 4, \"displacement\": 107.0, \"horsepower\": 90.0, \"weight\": 2430, \"acceleration\": 14.5, \"model_year\": 70, \"origin\": \"europe\", \"name\": \"audi 100 ls\"}, {\"mpg\": 25.0, \"cylinders\": 4, \"displacement\": 104.0, \"horsepower\": 95.0, \"weight\": 2375, \"acceleration\": 17.5, \"model_year\": 70, \"origin\": \"europe\", \"name\": \"saab 99e\"}, {\"mpg\": 26.0, \"cylinders\": 4, \"displacement\": 121.0, \"horsepower\": 113.0, \"weight\": 2234, \"acceleration\": 12.5, \"model_year\": 70, \"origin\": \"europe\", \"name\": \"bmw 2002\"}, {\"mpg\": 21.0, \"cylinders\": 6, \"displacement\": 199.0, \"horsepower\": 90.0, \"weight\": 2648, \"acceleration\": 15.0, \"model_year\": 70, \"origin\": \"usa\", \"name\": \"amc gremlin\"}, {\"mpg\": 10.0, \"cylinders\": 8, \"displacement\": 360.0, \"horsepower\": 215.0, \"weight\": 4615, \"acceleration\": 14.0, \"model_year\": 70, \"origin\": \"usa\", \"name\": \"ford f250\"}, {\"mpg\": 10.0, \"cylinders\": 8, \"displacement\": 307.0, \"horsepower\": 200.0, \"weight\": 4376, \"acceleration\": 15.0, \"model_year\": 70, \"origin\": \"usa\", \"name\": \"chevy c20\"}, {\"mpg\": 11.0, \"cylinders\": 8, \"displacement\": 318.0, \"horsepower\": 210.0, \"weight\": 4382, \"acceleration\": 13.5, \"model_year\": 70, \"origin\": \"usa\", \"name\": \"dodge d200\"}, {\"mpg\": 9.0, \"cylinders\": 8, \"displacement\": 304.0, \"horsepower\": 193.0, \"weight\": 4732, \"acceleration\": 18.5, \"model_year\": 70, \"origin\": \"usa\", \"name\": \"hi 1200d\"}, {\"mpg\": 27.0, \"cylinders\": 4, \"displacement\": 97.0, \"horsepower\": 88.0, \"weight\": 2130, \"acceleration\": 14.5, \"model_year\": 71, \"origin\": \"japan\", \"name\": \"datsun pl510\"}, {\"mpg\": 28.0, \"cylinders\": 4, \"displacement\": 140.0, \"horsepower\": 90.0, \"weight\": 2264, \"acceleration\": 15.5, \"model_year\": 71, \"origin\": \"usa\", \"name\": \"chevrolet vega 2300\"}, {\"mpg\": 25.0, \"cylinders\": 4, \"displacement\": 113.0, \"horsepower\": 95.0, \"weight\": 2228, \"acceleration\": 14.0, \"model_year\": 71, \"origin\": \"japan\", \"name\": \"toyota corona\"}, {\"mpg\": 25.0, \"cylinders\": 4, \"displacement\": 98.0, \"horsepower\": null, \"weight\": 2046, \"acceleration\": 19.0, \"model_year\": 71, \"origin\": \"usa\", \"name\": \"ford pinto\"}, {\"mpg\": 19.0, \"cylinders\": 6, \"displacement\": 232.0, \"horsepower\": 100.0, \"weight\": 2634, \"acceleration\": 13.0, \"model_year\": 71, \"origin\": \"usa\", \"name\": \"amc gremlin\"}, {\"mpg\": 16.0, \"cylinders\": 6, \"displacement\": 225.0, \"horsepower\": 105.0, \"weight\": 3439, \"acceleration\": 15.5, \"model_year\": 71, \"origin\": \"usa\", \"name\": \"plymouth satellite custom\"}, {\"mpg\": 17.0, \"cylinders\": 6, \"displacement\": 250.0, \"horsepower\": 100.0, \"weight\": 3329, \"acceleration\": 15.5, \"model_year\": 71, \"origin\": \"usa\", \"name\": \"chevrolet chevelle malibu\"}, {\"mpg\": 19.0, \"cylinders\": 6, \"displacement\": 250.0, \"horsepower\": 88.0, \"weight\": 3302, \"acceleration\": 15.5, \"model_year\": 71, \"origin\": \"usa\", \"name\": \"ford torino 500\"}, {\"mpg\": 18.0, \"cylinders\": 6, \"displacement\": 232.0, \"horsepower\": 100.0, \"weight\": 3288, \"acceleration\": 15.5, \"model_year\": 71, \"origin\": \"usa\", \"name\": \"amc matador\"}, {\"mpg\": 14.0, \"cylinders\": 8, \"displacement\": 350.0, \"horsepower\": 165.0, \"weight\": 4209, \"acceleration\": 12.0, \"model_year\": 71, \"origin\": \"usa\", \"name\": \"chevrolet impala\"}, {\"mpg\": 14.0, \"cylinders\": 8, \"displacement\": 400.0, \"horsepower\": 175.0, \"weight\": 4464, \"acceleration\": 11.5, \"model_year\": 71, \"origin\": \"usa\", \"name\": \"pontiac catalina brougham\"}, {\"mpg\": 14.0, \"cylinders\": 8, \"displacement\": 351.0, \"horsepower\": 153.0, \"weight\": 4154, \"acceleration\": 13.5, \"model_year\": 71, \"origin\": \"usa\", \"name\": \"ford galaxie 500\"}, {\"mpg\": 14.0, \"cylinders\": 8, \"displacement\": 318.0, \"horsepower\": 150.0, \"weight\": 4096, \"acceleration\": 13.0, \"model_year\": 71, \"origin\": \"usa\", \"name\": \"plymouth fury iii\"}, {\"mpg\": 12.0, \"cylinders\": 8, \"displacement\": 383.0, \"horsepower\": 180.0, \"weight\": 4955, \"acceleration\": 11.5, \"model_year\": 71, \"origin\": \"usa\", \"name\": \"dodge monaco (sw)\"}, {\"mpg\": 13.0, \"cylinders\": 8, \"displacement\": 400.0, \"horsepower\": 170.0, \"weight\": 4746, \"acceleration\": 12.0, \"model_year\": 71, \"origin\": \"usa\", \"name\": \"ford country squire (sw)\"}, {\"mpg\": 13.0, \"cylinders\": 8, \"displacement\": 400.0, \"horsepower\": 175.0, \"weight\": 5140, \"acceleration\": 12.0, \"model_year\": 71, \"origin\": \"usa\", \"name\": \"pontiac safari (sw)\"}, {\"mpg\": 18.0, \"cylinders\": 6, \"displacement\": 258.0, \"horsepower\": 110.0, \"weight\": 2962, \"acceleration\": 13.5, \"model_year\": 71, \"origin\": \"usa\", \"name\": \"amc hornet sportabout (sw)\"}, {\"mpg\": 22.0, \"cylinders\": 4, \"displacement\": 140.0, \"horsepower\": 72.0, \"weight\": 2408, \"acceleration\": 19.0, \"model_year\": 71, \"origin\": \"usa\", \"name\": \"chevrolet vega (sw)\"}, {\"mpg\": 19.0, \"cylinders\": 6, \"displacement\": 250.0, \"horsepower\": 100.0, \"weight\": 3282, \"acceleration\": 15.0, \"model_year\": 71, \"origin\": \"usa\", \"name\": \"pontiac firebird\"}, {\"mpg\": 18.0, \"cylinders\": 6, \"displacement\": 250.0, \"horsepower\": 88.0, \"weight\": 3139, \"acceleration\": 14.5, \"model_year\": 71, \"origin\": \"usa\", \"name\": \"ford mustang\"}, {\"mpg\": 23.0, \"cylinders\": 4, \"displacement\": 122.0, \"horsepower\": 86.0, \"weight\": 2220, \"acceleration\": 14.0, \"model_year\": 71, \"origin\": \"usa\", \"name\": \"mercury capri 2000\"}, {\"mpg\": 28.0, \"cylinders\": 4, \"displacement\": 116.0, \"horsepower\": 90.0, \"weight\": 2123, \"acceleration\": 14.0, \"model_year\": 71, \"origin\": \"europe\", \"name\": \"opel 1900\"}, {\"mpg\": 30.0, \"cylinders\": 4, \"displacement\": 79.0, \"horsepower\": 70.0, \"weight\": 2074, \"acceleration\": 19.5, \"model_year\": 71, \"origin\": \"europe\", \"name\": \"peugeot 304\"}, {\"mpg\": 30.0, \"cylinders\": 4, \"displacement\": 88.0, \"horsepower\": 76.0, \"weight\": 2065, \"acceleration\": 14.5, \"model_year\": 71, \"origin\": \"europe\", \"name\": \"fiat 124b\"}, {\"mpg\": 31.0, \"cylinders\": 4, \"displacement\": 71.0, \"horsepower\": 65.0, \"weight\": 1773, \"acceleration\": 19.0, \"model_year\": 71, \"origin\": \"japan\", \"name\": \"toyota corolla 1200\"}, {\"mpg\": 35.0, \"cylinders\": 4, \"displacement\": 72.0, \"horsepower\": 69.0, \"weight\": 1613, \"acceleration\": 18.0, \"model_year\": 71, \"origin\": \"japan\", \"name\": \"datsun 1200\"}, {\"mpg\": 27.0, \"cylinders\": 4, \"displacement\": 97.0, \"horsepower\": 60.0, \"weight\": 1834, \"acceleration\": 19.0, \"model_year\": 71, \"origin\": \"europe\", \"name\": \"volkswagen model 111\"}, {\"mpg\": 26.0, \"cylinders\": 4, \"displacement\": 91.0, \"horsepower\": 70.0, \"weight\": 1955, \"acceleration\": 20.5, \"model_year\": 71, \"origin\": \"usa\", \"name\": \"plymouth cricket\"}, {\"mpg\": 24.0, \"cylinders\": 4, \"displacement\": 113.0, \"horsepower\": 95.0, \"weight\": 2278, \"acceleration\": 15.5, \"model_year\": 72, \"origin\": \"japan\", \"name\": \"toyota corona hardtop\"}, {\"mpg\": 25.0, \"cylinders\": 4, \"displacement\": 97.5, \"horsepower\": 80.0, \"weight\": 2126, \"acceleration\": 17.0, \"model_year\": 72, \"origin\": \"usa\", \"name\": \"dodge colt hardtop\"}, {\"mpg\": 23.0, \"cylinders\": 4, \"displacement\": 97.0, \"horsepower\": 54.0, \"weight\": 2254, \"acceleration\": 23.5, \"model_year\": 72, \"origin\": \"europe\", \"name\": \"volkswagen type 3\"}, {\"mpg\": 20.0, \"cylinders\": 4, \"displacement\": 140.0, \"horsepower\": 90.0, \"weight\": 2408, \"acceleration\": 19.5, \"model_year\": 72, \"origin\": \"usa\", \"name\": \"chevrolet vega\"}, {\"mpg\": 21.0, \"cylinders\": 4, \"displacement\": 122.0, \"horsepower\": 86.0, \"weight\": 2226, \"acceleration\": 16.5, \"model_year\": 72, \"origin\": \"usa\", \"name\": \"ford pinto runabout\"}, {\"mpg\": 13.0, \"cylinders\": 8, \"displacement\": 350.0, \"horsepower\": 165.0, \"weight\": 4274, \"acceleration\": 12.0, \"model_year\": 72, \"origin\": \"usa\", \"name\": \"chevrolet impala\"}, {\"mpg\": 14.0, \"cylinders\": 8, \"displacement\": 400.0, \"horsepower\": 175.0, \"weight\": 4385, \"acceleration\": 12.0, \"model_year\": 72, \"origin\": \"usa\", \"name\": \"pontiac catalina\"}, {\"mpg\": 15.0, \"cylinders\": 8, \"displacement\": 318.0, \"horsepower\": 150.0, \"weight\": 4135, \"acceleration\": 13.5, \"model_year\": 72, \"origin\": \"usa\", \"name\": \"plymouth fury iii\"}, {\"mpg\": 14.0, \"cylinders\": 8, \"displacement\": 351.0, \"horsepower\": 153.0, \"weight\": 4129, \"acceleration\": 13.0, \"model_year\": 72, \"origin\": \"usa\", \"name\": \"ford galaxie 500\"}, {\"mpg\": 17.0, \"cylinders\": 8, \"displacement\": 304.0, \"horsepower\": 150.0, \"weight\": 3672, \"acceleration\": 11.5, \"model_year\": 72, \"origin\": \"usa\", \"name\": \"amc ambassador sst\"}, {\"mpg\": 11.0, \"cylinders\": 8, \"displacement\": 429.0, \"horsepower\": 208.0, \"weight\": 4633, \"acceleration\": 11.0, \"model_year\": 72, \"origin\": \"usa\", \"name\": \"mercury marquis\"}, {\"mpg\": 13.0, \"cylinders\": 8, \"displacement\": 350.0, \"horsepower\": 155.0, \"weight\": 4502, \"acceleration\": 13.5, \"model_year\": 72, \"origin\": \"usa\", \"name\": \"buick lesabre custom\"}, {\"mpg\": 12.0, \"cylinders\": 8, \"displacement\": 350.0, \"horsepower\": 160.0, \"weight\": 4456, \"acceleration\": 13.5, \"model_year\": 72, \"origin\": \"usa\", \"name\": \"oldsmobile delta 88 royale\"}, {\"mpg\": 13.0, \"cylinders\": 8, \"displacement\": 400.0, \"horsepower\": 190.0, \"weight\": 4422, \"acceleration\": 12.5, \"model_year\": 72, \"origin\": \"usa\", \"name\": \"chrysler newport royal\"}, {\"mpg\": 19.0, \"cylinders\": 3, \"displacement\": 70.0, \"horsepower\": 97.0, \"weight\": 2330, \"acceleration\": 13.5, \"model_year\": 72, \"origin\": \"japan\", \"name\": \"mazda rx2 coupe\"}, {\"mpg\": 15.0, \"cylinders\": 8, \"displacement\": 304.0, \"horsepower\": 150.0, \"weight\": 3892, \"acceleration\": 12.5, \"model_year\": 72, \"origin\": \"usa\", \"name\": \"amc matador (sw)\"}, {\"mpg\": 13.0, \"cylinders\": 8, \"displacement\": 307.0, \"horsepower\": 130.0, \"weight\": 4098, \"acceleration\": 14.0, \"model_year\": 72, \"origin\": \"usa\", \"name\": \"chevrolet chevelle concours (sw)\"}, {\"mpg\": 13.0, \"cylinders\": 8, \"displacement\": 302.0, \"horsepower\": 140.0, \"weight\": 4294, \"acceleration\": 16.0, \"model_year\": 72, \"origin\": \"usa\", \"name\": \"ford gran torino (sw)\"}, {\"mpg\": 14.0, \"cylinders\": 8, \"displacement\": 318.0, \"horsepower\": 150.0, \"weight\": 4077, \"acceleration\": 14.0, \"model_year\": 72, \"origin\": \"usa\", \"name\": \"plymouth satellite custom (sw)\"}, {\"mpg\": 18.0, \"cylinders\": 4, \"displacement\": 121.0, \"horsepower\": 112.0, \"weight\": 2933, \"acceleration\": 14.5, \"model_year\": 72, \"origin\": \"europe\", \"name\": \"volvo 145e (sw)\"}, {\"mpg\": 22.0, \"cylinders\": 4, \"displacement\": 121.0, \"horsepower\": 76.0, \"weight\": 2511, \"acceleration\": 18.0, \"model_year\": 72, \"origin\": \"europe\", \"name\": \"volkswagen 411 (sw)\"}, {\"mpg\": 21.0, \"cylinders\": 4, \"displacement\": 120.0, \"horsepower\": 87.0, \"weight\": 2979, \"acceleration\": 19.5, \"model_year\": 72, \"origin\": \"europe\", \"name\": \"peugeot 504 (sw)\"}, {\"mpg\": 26.0, \"cylinders\": 4, \"displacement\": 96.0, \"horsepower\": 69.0, \"weight\": 2189, \"acceleration\": 18.0, \"model_year\": 72, \"origin\": \"europe\", \"name\": \"renault 12 (sw)\"}, {\"mpg\": 22.0, \"cylinders\": 4, \"displacement\": 122.0, \"horsepower\": 86.0, \"weight\": 2395, \"acceleration\": 16.0, \"model_year\": 72, \"origin\": \"usa\", \"name\": \"ford pinto (sw)\"}, {\"mpg\": 28.0, \"cylinders\": 4, \"displacement\": 97.0, \"horsepower\": 92.0, \"weight\": 2288, \"acceleration\": 17.0, \"model_year\": 72, \"origin\": \"japan\", \"name\": \"datsun 510 (sw)\"}, {\"mpg\": 23.0, \"cylinders\": 4, \"displacement\": 120.0, \"horsepower\": 97.0, \"weight\": 2506, \"acceleration\": 14.5, \"model_year\": 72, \"origin\": \"japan\", \"name\": \"toyouta corona mark ii (sw)\"}, {\"mpg\": 28.0, \"cylinders\": 4, \"displacement\": 98.0, \"horsepower\": 80.0, \"weight\": 2164, \"acceleration\": 15.0, \"model_year\": 72, \"origin\": \"usa\", \"name\": \"dodge colt (sw)\"}, {\"mpg\": 27.0, \"cylinders\": 4, \"displacement\": 97.0, \"horsepower\": 88.0, \"weight\": 2100, \"acceleration\": 16.5, \"model_year\": 72, \"origin\": \"japan\", \"name\": \"toyota corolla 1600 (sw)\"}, {\"mpg\": 13.0, \"cylinders\": 8, \"displacement\": 350.0, \"horsepower\": 175.0, \"weight\": 4100, \"acceleration\": 13.0, \"model_year\": 73, \"origin\": \"usa\", \"name\": \"buick century 350\"}, {\"mpg\": 14.0, \"cylinders\": 8, \"displacement\": 304.0, \"horsepower\": 150.0, \"weight\": 3672, \"acceleration\": 11.5, \"model_year\": 73, \"origin\": \"usa\", \"name\": \"amc matador\"}, {\"mpg\": 13.0, \"cylinders\": 8, \"displacement\": 350.0, \"horsepower\": 145.0, \"weight\": 3988, \"acceleration\": 13.0, \"model_year\": 73, \"origin\": \"usa\", \"name\": \"chevrolet malibu\"}, {\"mpg\": 14.0, \"cylinders\": 8, \"displacement\": 302.0, \"horsepower\": 137.0, \"weight\": 4042, \"acceleration\": 14.5, \"model_year\": 73, \"origin\": \"usa\", \"name\": \"ford gran torino\"}, {\"mpg\": 15.0, \"cylinders\": 8, \"displacement\": 318.0, \"horsepower\": 150.0, \"weight\": 3777, \"acceleration\": 12.5, \"model_year\": 73, \"origin\": \"usa\", \"name\": \"dodge coronet custom\"}, {\"mpg\": 12.0, \"cylinders\": 8, \"displacement\": 429.0, \"horsepower\": 198.0, \"weight\": 4952, \"acceleration\": 11.5, \"model_year\": 73, \"origin\": \"usa\", \"name\": \"mercury marquis brougham\"}, {\"mpg\": 13.0, \"cylinders\": 8, \"displacement\": 400.0, \"horsepower\": 150.0, \"weight\": 4464, \"acceleration\": 12.0, \"model_year\": 73, \"origin\": \"usa\", \"name\": \"chevrolet caprice classic\"}, {\"mpg\": 13.0, \"cylinders\": 8, \"displacement\": 351.0, \"horsepower\": 158.0, \"weight\": 4363, \"acceleration\": 13.0, \"model_year\": 73, \"origin\": \"usa\", \"name\": \"ford ltd\"}, {\"mpg\": 14.0, \"cylinders\": 8, \"displacement\": 318.0, \"horsepower\": 150.0, \"weight\": 4237, \"acceleration\": 14.5, \"model_year\": 73, \"origin\": \"usa\", \"name\": \"plymouth fury gran sedan\"}, {\"mpg\": 13.0, \"cylinders\": 8, \"displacement\": 440.0, \"horsepower\": 215.0, \"weight\": 4735, \"acceleration\": 11.0, \"model_year\": 73, \"origin\": \"usa\", \"name\": \"chrysler new yorker brougham\"}, {\"mpg\": 12.0, \"cylinders\": 8, \"displacement\": 455.0, \"horsepower\": 225.0, \"weight\": 4951, \"acceleration\": 11.0, \"model_year\": 73, \"origin\": \"usa\", \"name\": \"buick electra 225 custom\"}, {\"mpg\": 13.0, \"cylinders\": 8, \"displacement\": 360.0, \"horsepower\": 175.0, \"weight\": 3821, \"acceleration\": 11.0, \"model_year\": 73, \"origin\": \"usa\", \"name\": \"amc ambassador brougham\"}, {\"mpg\": 18.0, \"cylinders\": 6, \"displacement\": 225.0, \"horsepower\": 105.0, \"weight\": 3121, \"acceleration\": 16.5, \"model_year\": 73, \"origin\": \"usa\", \"name\": \"plymouth valiant\"}, {\"mpg\": 16.0, \"cylinders\": 6, \"displacement\": 250.0, \"horsepower\": 100.0, \"weight\": 3278, \"acceleration\": 18.0, \"model_year\": 73, \"origin\": \"usa\", \"name\": \"chevrolet nova custom\"}, {\"mpg\": 18.0, \"cylinders\": 6, \"displacement\": 232.0, \"horsepower\": 100.0, \"weight\": 2945, \"acceleration\": 16.0, \"model_year\": 73, \"origin\": \"usa\", \"name\": \"amc hornet\"}, {\"mpg\": 18.0, \"cylinders\": 6, \"displacement\": 250.0, \"horsepower\": 88.0, \"weight\": 3021, \"acceleration\": 16.5, \"model_year\": 73, \"origin\": \"usa\", \"name\": \"ford maverick\"}, {\"mpg\": 23.0, \"cylinders\": 6, \"displacement\": 198.0, \"horsepower\": 95.0, \"weight\": 2904, \"acceleration\": 16.0, \"model_year\": 73, \"origin\": \"usa\", \"name\": \"plymouth duster\"}, {\"mpg\": 26.0, \"cylinders\": 4, \"displacement\": 97.0, \"horsepower\": 46.0, \"weight\": 1950, \"acceleration\": 21.0, \"model_year\": 73, \"origin\": \"europe\", \"name\": \"volkswagen super beetle\"}, {\"mpg\": 11.0, \"cylinders\": 8, \"displacement\": 400.0, \"horsepower\": 150.0, \"weight\": 4997, \"acceleration\": 14.0, \"model_year\": 73, \"origin\": \"usa\", \"name\": \"chevrolet impala\"}, {\"mpg\": 12.0, \"cylinders\": 8, \"displacement\": 400.0, \"horsepower\": 167.0, \"weight\": 4906, \"acceleration\": 12.5, \"model_year\": 73, \"origin\": \"usa\", \"name\": \"ford country\"}, {\"mpg\": 13.0, \"cylinders\": 8, \"displacement\": 360.0, \"horsepower\": 170.0, \"weight\": 4654, \"acceleration\": 13.0, \"model_year\": 73, \"origin\": \"usa\", \"name\": \"plymouth custom suburb\"}, {\"mpg\": 12.0, \"cylinders\": 8, \"displacement\": 350.0, \"horsepower\": 180.0, \"weight\": 4499, \"acceleration\": 12.5, \"model_year\": 73, \"origin\": \"usa\", \"name\": \"oldsmobile vista cruiser\"}, {\"mpg\": 18.0, \"cylinders\": 6, \"displacement\": 232.0, \"horsepower\": 100.0, \"weight\": 2789, \"acceleration\": 15.0, \"model_year\": 73, \"origin\": \"usa\", \"name\": \"amc gremlin\"}, {\"mpg\": 20.0, \"cylinders\": 4, \"displacement\": 97.0, \"horsepower\": 88.0, \"weight\": 2279, \"acceleration\": 19.0, \"model_year\": 73, \"origin\": \"japan\", \"name\": \"toyota carina\"}, {\"mpg\": 21.0, \"cylinders\": 4, \"displacement\": 140.0, \"horsepower\": 72.0, \"weight\": 2401, \"acceleration\": 19.5, \"model_year\": 73, \"origin\": \"usa\", \"name\": \"chevrolet vega\"}, {\"mpg\": 22.0, \"cylinders\": 4, \"displacement\": 108.0, \"horsepower\": 94.0, \"weight\": 2379, \"acceleration\": 16.5, \"model_year\": 73, \"origin\": \"japan\", \"name\": \"datsun 610\"}, {\"mpg\": 18.0, \"cylinders\": 3, \"displacement\": 70.0, \"horsepower\": 90.0, \"weight\": 2124, \"acceleration\": 13.5, \"model_year\": 73, \"origin\": \"japan\", \"name\": \"maxda rx3\"}, {\"mpg\": 19.0, \"cylinders\": 4, \"displacement\": 122.0, \"horsepower\": 85.0, \"weight\": 2310, \"acceleration\": 18.5, \"model_year\": 73, \"origin\": \"usa\", \"name\": \"ford pinto\"}, {\"mpg\": 21.0, \"cylinders\": 6, \"displacement\": 155.0, \"horsepower\": 107.0, \"weight\": 2472, \"acceleration\": 14.0, \"model_year\": 73, \"origin\": \"usa\", \"name\": \"mercury capri v6\"}, {\"mpg\": 26.0, \"cylinders\": 4, \"displacement\": 98.0, \"horsepower\": 90.0, \"weight\": 2265, \"acceleration\": 15.5, \"model_year\": 73, \"origin\": \"europe\", \"name\": \"fiat 124 sport coupe\"}, {\"mpg\": 15.0, \"cylinders\": 8, \"displacement\": 350.0, \"horsepower\": 145.0, \"weight\": 4082, \"acceleration\": 13.0, \"model_year\": 73, \"origin\": \"usa\", \"name\": \"chevrolet monte carlo s\"}, {\"mpg\": 16.0, \"cylinders\": 8, \"displacement\": 400.0, \"horsepower\": 230.0, \"weight\": 4278, \"acceleration\": 9.5, \"model_year\": 73, \"origin\": \"usa\", \"name\": \"pontiac grand prix\"}, {\"mpg\": 29.0, \"cylinders\": 4, \"displacement\": 68.0, \"horsepower\": 49.0, \"weight\": 1867, \"acceleration\": 19.5, \"model_year\": 73, \"origin\": \"europe\", \"name\": \"fiat 128\"}, {\"mpg\": 24.0, \"cylinders\": 4, \"displacement\": 116.0, \"horsepower\": 75.0, \"weight\": 2158, \"acceleration\": 15.5, \"model_year\": 73, \"origin\": \"europe\", \"name\": \"opel manta\"}, {\"mpg\": 20.0, \"cylinders\": 4, \"displacement\": 114.0, \"horsepower\": 91.0, \"weight\": 2582, \"acceleration\": 14.0, \"model_year\": 73, \"origin\": \"europe\", \"name\": \"audi 100ls\"}, {\"mpg\": 19.0, \"cylinders\": 4, \"displacement\": 121.0, \"horsepower\": 112.0, \"weight\": 2868, \"acceleration\": 15.5, \"model_year\": 73, \"origin\": \"europe\", \"name\": \"volvo 144ea\"}, {\"mpg\": 15.0, \"cylinders\": 8, \"displacement\": 318.0, \"horsepower\": 150.0, \"weight\": 3399, \"acceleration\": 11.0, \"model_year\": 73, \"origin\": \"usa\", \"name\": \"dodge dart custom\"}, {\"mpg\": 24.0, \"cylinders\": 4, \"displacement\": 121.0, \"horsepower\": 110.0, \"weight\": 2660, \"acceleration\": 14.0, \"model_year\": 73, \"origin\": \"europe\", \"name\": \"saab 99le\"}, {\"mpg\": 20.0, \"cylinders\": 6, \"displacement\": 156.0, \"horsepower\": 122.0, \"weight\": 2807, \"acceleration\": 13.5, \"model_year\": 73, \"origin\": \"japan\", \"name\": \"toyota mark ii\"}, {\"mpg\": 11.0, \"cylinders\": 8, \"displacement\": 350.0, \"horsepower\": 180.0, \"weight\": 3664, \"acceleration\": 11.0, \"model_year\": 73, \"origin\": \"usa\", \"name\": \"oldsmobile omega\"}, {\"mpg\": 20.0, \"cylinders\": 6, \"displacement\": 198.0, \"horsepower\": 95.0, \"weight\": 3102, \"acceleration\": 16.5, \"model_year\": 74, \"origin\": \"usa\", \"name\": \"plymouth duster\"}, {\"mpg\": 21.0, \"cylinders\": 6, \"displacement\": 200.0, \"horsepower\": null, \"weight\": 2875, \"acceleration\": 17.0, \"model_year\": 74, \"origin\": \"usa\", \"name\": \"ford maverick\"}, {\"mpg\": 19.0, \"cylinders\": 6, \"displacement\": 232.0, \"horsepower\": 100.0, \"weight\": 2901, \"acceleration\": 16.0, \"model_year\": 74, \"origin\": \"usa\", \"name\": \"amc hornet\"}, {\"mpg\": 15.0, \"cylinders\": 6, \"displacement\": 250.0, \"horsepower\": 100.0, \"weight\": 3336, \"acceleration\": 17.0, \"model_year\": 74, \"origin\": \"usa\", \"name\": \"chevrolet nova\"}, {\"mpg\": 31.0, \"cylinders\": 4, \"displacement\": 79.0, \"horsepower\": 67.0, \"weight\": 1950, \"acceleration\": 19.0, \"model_year\": 74, \"origin\": \"japan\", \"name\": \"datsun b210\"}, {\"mpg\": 26.0, \"cylinders\": 4, \"displacement\": 122.0, \"horsepower\": 80.0, \"weight\": 2451, \"acceleration\": 16.5, \"model_year\": 74, \"origin\": \"usa\", \"name\": \"ford pinto\"}, {\"mpg\": 32.0, \"cylinders\": 4, \"displacement\": 71.0, \"horsepower\": 65.0, \"weight\": 1836, \"acceleration\": 21.0, \"model_year\": 74, \"origin\": \"japan\", \"name\": \"toyota corolla 1200\"}, {\"mpg\": 25.0, \"cylinders\": 4, \"displacement\": 140.0, \"horsepower\": 75.0, \"weight\": 2542, \"acceleration\": 17.0, \"model_year\": 74, \"origin\": \"usa\", \"name\": \"chevrolet vega\"}, {\"mpg\": 16.0, \"cylinders\": 6, \"displacement\": 250.0, \"horsepower\": 100.0, \"weight\": 3781, \"acceleration\": 17.0, \"model_year\": 74, \"origin\": \"usa\", \"name\": \"chevrolet chevelle malibu classic\"}, {\"mpg\": 16.0, \"cylinders\": 6, \"displacement\": 258.0, \"horsepower\": 110.0, \"weight\": 3632, \"acceleration\": 18.0, \"model_year\": 74, \"origin\": \"usa\", \"name\": \"amc matador\"}, {\"mpg\": 18.0, \"cylinders\": 6, \"displacement\": 225.0, \"horsepower\": 105.0, \"weight\": 3613, \"acceleration\": 16.5, \"model_year\": 74, \"origin\": \"usa\", \"name\": \"plymouth satellite sebring\"}, {\"mpg\": 16.0, \"cylinders\": 8, \"displacement\": 302.0, \"horsepower\": 140.0, \"weight\": 4141, \"acceleration\": 14.0, \"model_year\": 74, \"origin\": \"usa\", \"name\": \"ford gran torino\"}, {\"mpg\": 13.0, \"cylinders\": 8, \"displacement\": 350.0, \"horsepower\": 150.0, \"weight\": 4699, \"acceleration\": 14.5, \"model_year\": 74, \"origin\": \"usa\", \"name\": \"buick century luxus (sw)\"}, {\"mpg\": 14.0, \"cylinders\": 8, \"displacement\": 318.0, \"horsepower\": 150.0, \"weight\": 4457, \"acceleration\": 13.5, \"model_year\": 74, \"origin\": \"usa\", \"name\": \"dodge coronet custom (sw)\"}, {\"mpg\": 14.0, \"cylinders\": 8, \"displacement\": 302.0, \"horsepower\": 140.0, \"weight\": 4638, \"acceleration\": 16.0, \"model_year\": 74, \"origin\": \"usa\", \"name\": \"ford gran torino (sw)\"}, {\"mpg\": 14.0, \"cylinders\": 8, \"displacement\": 304.0, \"horsepower\": 150.0, \"weight\": 4257, \"acceleration\": 15.5, \"model_year\": 74, \"origin\": \"usa\", \"name\": \"amc matador (sw)\"}, {\"mpg\": 29.0, \"cylinders\": 4, \"displacement\": 98.0, \"horsepower\": 83.0, \"weight\": 2219, \"acceleration\": 16.5, \"model_year\": 74, \"origin\": \"europe\", \"name\": \"audi fox\"}, {\"mpg\": 26.0, \"cylinders\": 4, \"displacement\": 79.0, \"horsepower\": 67.0, \"weight\": 1963, \"acceleration\": 15.5, \"model_year\": 74, \"origin\": \"europe\", \"name\": \"volkswagen dasher\"}, {\"mpg\": 26.0, \"cylinders\": 4, \"displacement\": 97.0, \"horsepower\": 78.0, \"weight\": 2300, \"acceleration\": 14.5, \"model_year\": 74, \"origin\": \"europe\", \"name\": \"opel manta\"}, {\"mpg\": 31.0, \"cylinders\": 4, \"displacement\": 76.0, \"horsepower\": 52.0, \"weight\": 1649, \"acceleration\": 16.5, \"model_year\": 74, \"origin\": \"japan\", \"name\": \"toyota corona\"}, {\"mpg\": 32.0, \"cylinders\": 4, \"displacement\": 83.0, \"horsepower\": 61.0, \"weight\": 2003, \"acceleration\": 19.0, \"model_year\": 74, \"origin\": \"japan\", \"name\": \"datsun 710\"}, {\"mpg\": 28.0, \"cylinders\": 4, \"displacement\": 90.0, \"horsepower\": 75.0, \"weight\": 2125, \"acceleration\": 14.5, \"model_year\": 74, \"origin\": \"usa\", \"name\": \"dodge colt\"}, {\"mpg\": 24.0, \"cylinders\": 4, \"displacement\": 90.0, \"horsepower\": 75.0, \"weight\": 2108, \"acceleration\": 15.5, \"model_year\": 74, \"origin\": \"europe\", \"name\": \"fiat 128\"}, {\"mpg\": 26.0, \"cylinders\": 4, \"displacement\": 116.0, \"horsepower\": 75.0, \"weight\": 2246, \"acceleration\": 14.0, \"model_year\": 74, \"origin\": \"europe\", \"name\": \"fiat 124 tc\"}, {\"mpg\": 24.0, \"cylinders\": 4, \"displacement\": 120.0, \"horsepower\": 97.0, \"weight\": 2489, \"acceleration\": 15.0, \"model_year\": 74, \"origin\": \"japan\", \"name\": \"honda civic\"}, {\"mpg\": 26.0, \"cylinders\": 4, \"displacement\": 108.0, \"horsepower\": 93.0, \"weight\": 2391, \"acceleration\": 15.5, \"model_year\": 74, \"origin\": \"japan\", \"name\": \"subaru\"}, {\"mpg\": 31.0, \"cylinders\": 4, \"displacement\": 79.0, \"horsepower\": 67.0, \"weight\": 2000, \"acceleration\": 16.0, \"model_year\": 74, \"origin\": \"europe\", \"name\": \"fiat x1.9\"}, {\"mpg\": 19.0, \"cylinders\": 6, \"displacement\": 225.0, \"horsepower\": 95.0, \"weight\": 3264, \"acceleration\": 16.0, \"model_year\": 75, \"origin\": \"usa\", \"name\": \"plymouth valiant custom\"}, {\"mpg\": 18.0, \"cylinders\": 6, \"displacement\": 250.0, \"horsepower\": 105.0, \"weight\": 3459, \"acceleration\": 16.0, \"model_year\": 75, \"origin\": \"usa\", \"name\": \"chevrolet nova\"}, {\"mpg\": 15.0, \"cylinders\": 6, \"displacement\": 250.0, \"horsepower\": 72.0, \"weight\": 3432, \"acceleration\": 21.0, \"model_year\": 75, \"origin\": \"usa\", \"name\": \"mercury monarch\"}, {\"mpg\": 15.0, \"cylinders\": 6, \"displacement\": 250.0, \"horsepower\": 72.0, \"weight\": 3158, \"acceleration\": 19.5, \"model_year\": 75, \"origin\": \"usa\", \"name\": \"ford maverick\"}, {\"mpg\": 16.0, \"cylinders\": 8, \"displacement\": 400.0, \"horsepower\": 170.0, \"weight\": 4668, \"acceleration\": 11.5, \"model_year\": 75, \"origin\": \"usa\", \"name\": \"pontiac catalina\"}, {\"mpg\": 15.0, \"cylinders\": 8, \"displacement\": 350.0, \"horsepower\": 145.0, \"weight\": 4440, \"acceleration\": 14.0, \"model_year\": 75, \"origin\": \"usa\", \"name\": \"chevrolet bel air\"}, {\"mpg\": 16.0, \"cylinders\": 8, \"displacement\": 318.0, \"horsepower\": 150.0, \"weight\": 4498, \"acceleration\": 14.5, \"model_year\": 75, \"origin\": \"usa\", \"name\": \"plymouth grand fury\"}, {\"mpg\": 14.0, \"cylinders\": 8, \"displacement\": 351.0, \"horsepower\": 148.0, \"weight\": 4657, \"acceleration\": 13.5, \"model_year\": 75, \"origin\": \"usa\", \"name\": \"ford ltd\"}, {\"mpg\": 17.0, \"cylinders\": 6, \"displacement\": 231.0, \"horsepower\": 110.0, \"weight\": 3907, \"acceleration\": 21.0, \"model_year\": 75, \"origin\": \"usa\", \"name\": \"buick century\"}, {\"mpg\": 16.0, \"cylinders\": 6, \"displacement\": 250.0, \"horsepower\": 105.0, \"weight\": 3897, \"acceleration\": 18.5, \"model_year\": 75, \"origin\": \"usa\", \"name\": \"chevroelt chevelle malibu\"}, {\"mpg\": 15.0, \"cylinders\": 6, \"displacement\": 258.0, \"horsepower\": 110.0, \"weight\": 3730, \"acceleration\": 19.0, \"model_year\": 75, \"origin\": \"usa\", \"name\": \"amc matador\"}, {\"mpg\": 18.0, \"cylinders\": 6, \"displacement\": 225.0, \"horsepower\": 95.0, \"weight\": 3785, \"acceleration\": 19.0, \"model_year\": 75, \"origin\": \"usa\", \"name\": \"plymouth fury\"}, {\"mpg\": 21.0, \"cylinders\": 6, \"displacement\": 231.0, \"horsepower\": 110.0, \"weight\": 3039, \"acceleration\": 15.0, \"model_year\": 75, \"origin\": \"usa\", \"name\": \"buick skyhawk\"}, {\"mpg\": 20.0, \"cylinders\": 8, \"displacement\": 262.0, \"horsepower\": 110.0, \"weight\": 3221, \"acceleration\": 13.5, \"model_year\": 75, \"origin\": \"usa\", \"name\": \"chevrolet monza 2+2\"}, {\"mpg\": 13.0, \"cylinders\": 8, \"displacement\": 302.0, \"horsepower\": 129.0, \"weight\": 3169, \"acceleration\": 12.0, \"model_year\": 75, \"origin\": \"usa\", \"name\": \"ford mustang ii\"}, {\"mpg\": 29.0, \"cylinders\": 4, \"displacement\": 97.0, \"horsepower\": 75.0, \"weight\": 2171, \"acceleration\": 16.0, \"model_year\": 75, \"origin\": \"japan\", \"name\": \"toyota corolla\"}, {\"mpg\": 23.0, \"cylinders\": 4, \"displacement\": 140.0, \"horsepower\": 83.0, \"weight\": 2639, \"acceleration\": 17.0, \"model_year\": 75, \"origin\": \"usa\", \"name\": \"ford pinto\"}, {\"mpg\": 20.0, \"cylinders\": 6, \"displacement\": 232.0, \"horsepower\": 100.0, \"weight\": 2914, \"acceleration\": 16.0, \"model_year\": 75, \"origin\": \"usa\", \"name\": \"amc gremlin\"}, {\"mpg\": 23.0, \"cylinders\": 4, \"displacement\": 140.0, \"horsepower\": 78.0, \"weight\": 2592, \"acceleration\": 18.5, \"model_year\": 75, \"origin\": \"usa\", \"name\": \"pontiac astro\"}, {\"mpg\": 24.0, \"cylinders\": 4, \"displacement\": 134.0, \"horsepower\": 96.0, \"weight\": 2702, \"acceleration\": 13.5, \"model_year\": 75, \"origin\": \"japan\", \"name\": \"toyota corona\"}, {\"mpg\": 25.0, \"cylinders\": 4, \"displacement\": 90.0, \"horsepower\": 71.0, \"weight\": 2223, \"acceleration\": 16.5, \"model_year\": 75, \"origin\": \"europe\", \"name\": \"volkswagen dasher\"}, {\"mpg\": 24.0, \"cylinders\": 4, \"displacement\": 119.0, \"horsepower\": 97.0, \"weight\": 2545, \"acceleration\": 17.0, \"model_year\": 75, \"origin\": \"japan\", \"name\": \"datsun 710\"}, {\"mpg\": 18.0, \"cylinders\": 6, \"displacement\": 171.0, \"horsepower\": 97.0, \"weight\": 2984, \"acceleration\": 14.5, \"model_year\": 75, \"origin\": \"usa\", \"name\": \"ford pinto\"}, {\"mpg\": 29.0, \"cylinders\": 4, \"displacement\": 90.0, \"horsepower\": 70.0, \"weight\": 1937, \"acceleration\": 14.0, \"model_year\": 75, \"origin\": \"europe\", \"name\": \"volkswagen rabbit\"}, {\"mpg\": 19.0, \"cylinders\": 6, \"displacement\": 232.0, \"horsepower\": 90.0, \"weight\": 3211, \"acceleration\": 17.0, \"model_year\": 75, \"origin\": \"usa\", \"name\": \"amc pacer\"}, {\"mpg\": 23.0, \"cylinders\": 4, \"displacement\": 115.0, \"horsepower\": 95.0, \"weight\": 2694, \"acceleration\": 15.0, \"model_year\": 75, \"origin\": \"europe\", \"name\": \"audi 100ls\"}, {\"mpg\": 23.0, \"cylinders\": 4, \"displacement\": 120.0, \"horsepower\": 88.0, \"weight\": 2957, \"acceleration\": 17.0, \"model_year\": 75, \"origin\": \"europe\", \"name\": \"peugeot 504\"}, {\"mpg\": 22.0, \"cylinders\": 4, \"displacement\": 121.0, \"horsepower\": 98.0, \"weight\": 2945, \"acceleration\": 14.5, \"model_year\": 75, \"origin\": \"europe\", \"name\": \"volvo 244dl\"}, {\"mpg\": 25.0, \"cylinders\": 4, \"displacement\": 121.0, \"horsepower\": 115.0, \"weight\": 2671, \"acceleration\": 13.5, \"model_year\": 75, \"origin\": \"europe\", \"name\": \"saab 99le\"}, {\"mpg\": 33.0, \"cylinders\": 4, \"displacement\": 91.0, \"horsepower\": 53.0, \"weight\": 1795, \"acceleration\": 17.5, \"model_year\": 75, \"origin\": \"japan\", \"name\": \"honda civic cvcc\"}, {\"mpg\": 28.0, \"cylinders\": 4, \"displacement\": 107.0, \"horsepower\": 86.0, \"weight\": 2464, \"acceleration\": 15.5, \"model_year\": 76, \"origin\": \"europe\", \"name\": \"fiat 131\"}, {\"mpg\": 25.0, \"cylinders\": 4, \"displacement\": 116.0, \"horsepower\": 81.0, \"weight\": 2220, \"acceleration\": 16.9, \"model_year\": 76, \"origin\": \"europe\", \"name\": \"opel 1900\"}, {\"mpg\": 25.0, \"cylinders\": 4, \"displacement\": 140.0, \"horsepower\": 92.0, \"weight\": 2572, \"acceleration\": 14.9, \"model_year\": 76, \"origin\": \"usa\", \"name\": \"capri ii\"}, {\"mpg\": 26.0, \"cylinders\": 4, \"displacement\": 98.0, \"horsepower\": 79.0, \"weight\": 2255, \"acceleration\": 17.7, \"model_year\": 76, \"origin\": \"usa\", \"name\": \"dodge colt\"}, {\"mpg\": 27.0, \"cylinders\": 4, \"displacement\": 101.0, \"horsepower\": 83.0, \"weight\": 2202, \"acceleration\": 15.3, \"model_year\": 76, \"origin\": \"europe\", \"name\": \"renault 12tl\"}, {\"mpg\": 17.5, \"cylinders\": 8, \"displacement\": 305.0, \"horsepower\": 140.0, \"weight\": 4215, \"acceleration\": 13.0, \"model_year\": 76, \"origin\": \"usa\", \"name\": \"chevrolet chevelle malibu classic\"}, {\"mpg\": 16.0, \"cylinders\": 8, \"displacement\": 318.0, \"horsepower\": 150.0, \"weight\": 4190, \"acceleration\": 13.0, \"model_year\": 76, \"origin\": \"usa\", \"name\": \"dodge coronet brougham\"}, {\"mpg\": 15.5, \"cylinders\": 8, \"displacement\": 304.0, \"horsepower\": 120.0, \"weight\": 3962, \"acceleration\": 13.9, \"model_year\": 76, \"origin\": \"usa\", \"name\": \"amc matador\"}, {\"mpg\": 14.5, \"cylinders\": 8, \"displacement\": 351.0, \"horsepower\": 152.0, \"weight\": 4215, \"acceleration\": 12.8, \"model_year\": 76, \"origin\": \"usa\", \"name\": \"ford gran torino\"}, {\"mpg\": 22.0, \"cylinders\": 6, \"displacement\": 225.0, \"horsepower\": 100.0, \"weight\": 3233, \"acceleration\": 15.4, \"model_year\": 76, \"origin\": \"usa\", \"name\": \"plymouth valiant\"}, {\"mpg\": 22.0, \"cylinders\": 6, \"displacement\": 250.0, \"horsepower\": 105.0, \"weight\": 3353, \"acceleration\": 14.5, \"model_year\": 76, \"origin\": \"usa\", \"name\": \"chevrolet nova\"}, {\"mpg\": 24.0, \"cylinders\": 6, \"displacement\": 200.0, \"horsepower\": 81.0, \"weight\": 3012, \"acceleration\": 17.6, \"model_year\": 76, \"origin\": \"usa\", \"name\": \"ford maverick\"}, {\"mpg\": 22.5, \"cylinders\": 6, \"displacement\": 232.0, \"horsepower\": 90.0, \"weight\": 3085, \"acceleration\": 17.6, \"model_year\": 76, \"origin\": \"usa\", \"name\": \"amc hornet\"}, {\"mpg\": 29.0, \"cylinders\": 4, \"displacement\": 85.0, \"horsepower\": 52.0, \"weight\": 2035, \"acceleration\": 22.2, \"model_year\": 76, \"origin\": \"usa\", \"name\": \"chevrolet chevette\"}, {\"mpg\": 24.5, \"cylinders\": 4, \"displacement\": 98.0, \"horsepower\": 60.0, \"weight\": 2164, \"acceleration\": 22.1, \"model_year\": 76, \"origin\": \"usa\", \"name\": \"chevrolet woody\"}, {\"mpg\": 29.0, \"cylinders\": 4, \"displacement\": 90.0, \"horsepower\": 70.0, \"weight\": 1937, \"acceleration\": 14.2, \"model_year\": 76, \"origin\": \"europe\", \"name\": \"vw rabbit\"}, {\"mpg\": 33.0, \"cylinders\": 4, \"displacement\": 91.0, \"horsepower\": 53.0, \"weight\": 1795, \"acceleration\": 17.4, \"model_year\": 76, \"origin\": \"japan\", \"name\": \"honda civic\"}, {\"mpg\": 20.0, \"cylinders\": 6, \"displacement\": 225.0, \"horsepower\": 100.0, \"weight\": 3651, \"acceleration\": 17.7, \"model_year\": 76, \"origin\": \"usa\", \"name\": \"dodge aspen se\"}, {\"mpg\": 18.0, \"cylinders\": 6, \"displacement\": 250.0, \"horsepower\": 78.0, \"weight\": 3574, \"acceleration\": 21.0, \"model_year\": 76, \"origin\": \"usa\", \"name\": \"ford granada ghia\"}, {\"mpg\": 18.5, \"cylinders\": 6, \"displacement\": 250.0, \"horsepower\": 110.0, \"weight\": 3645, \"acceleration\": 16.2, \"model_year\": 76, \"origin\": \"usa\", \"name\": \"pontiac ventura sj\"}, {\"mpg\": 17.5, \"cylinders\": 6, \"displacement\": 258.0, \"horsepower\": 95.0, \"weight\": 3193, \"acceleration\": 17.8, \"model_year\": 76, \"origin\": \"usa\", \"name\": \"amc pacer d/l\"}, {\"mpg\": 29.5, \"cylinders\": 4, \"displacement\": 97.0, \"horsepower\": 71.0, \"weight\": 1825, \"acceleration\": 12.2, \"model_year\": 76, \"origin\": \"europe\", \"name\": \"volkswagen rabbit\"}, {\"mpg\": 32.0, \"cylinders\": 4, \"displacement\": 85.0, \"horsepower\": 70.0, \"weight\": 1990, \"acceleration\": 17.0, \"model_year\": 76, \"origin\": \"japan\", \"name\": \"datsun b-210\"}, {\"mpg\": 28.0, \"cylinders\": 4, \"displacement\": 97.0, \"horsepower\": 75.0, \"weight\": 2155, \"acceleration\": 16.4, \"model_year\": 76, \"origin\": \"japan\", \"name\": \"toyota corolla\"}, {\"mpg\": 26.5, \"cylinders\": 4, \"displacement\": 140.0, \"horsepower\": 72.0, \"weight\": 2565, \"acceleration\": 13.6, \"model_year\": 76, \"origin\": \"usa\", \"name\": \"ford pinto\"}, {\"mpg\": 20.0, \"cylinders\": 4, \"displacement\": 130.0, \"horsepower\": 102.0, \"weight\": 3150, \"acceleration\": 15.7, \"model_year\": 76, \"origin\": \"europe\", \"name\": \"volvo 245\"}, {\"mpg\": 13.0, \"cylinders\": 8, \"displacement\": 318.0, \"horsepower\": 150.0, \"weight\": 3940, \"acceleration\": 13.2, \"model_year\": 76, \"origin\": \"usa\", \"name\": \"plymouth volare premier v8\"}, {\"mpg\": 19.0, \"cylinders\": 4, \"displacement\": 120.0, \"horsepower\": 88.0, \"weight\": 3270, \"acceleration\": 21.9, \"model_year\": 76, \"origin\": \"europe\", \"name\": \"peugeot 504\"}, {\"mpg\": 19.0, \"cylinders\": 6, \"displacement\": 156.0, \"horsepower\": 108.0, \"weight\": 2930, \"acceleration\": 15.5, \"model_year\": 76, \"origin\": \"japan\", \"name\": \"toyota mark ii\"}, {\"mpg\": 16.5, \"cylinders\": 6, \"displacement\": 168.0, \"horsepower\": 120.0, \"weight\": 3820, \"acceleration\": 16.7, \"model_year\": 76, \"origin\": \"europe\", \"name\": \"mercedes-benz 280s\"}, {\"mpg\": 16.5, \"cylinders\": 8, \"displacement\": 350.0, \"horsepower\": 180.0, \"weight\": 4380, \"acceleration\": 12.1, \"model_year\": 76, \"origin\": \"usa\", \"name\": \"cadillac seville\"}, {\"mpg\": 13.0, \"cylinders\": 8, \"displacement\": 350.0, \"horsepower\": 145.0, \"weight\": 4055, \"acceleration\": 12.0, \"model_year\": 76, \"origin\": \"usa\", \"name\": \"chevy c10\"}, {\"mpg\": 13.0, \"cylinders\": 8, \"displacement\": 302.0, \"horsepower\": 130.0, \"weight\": 3870, \"acceleration\": 15.0, \"model_year\": 76, \"origin\": \"usa\", \"name\": \"ford f108\"}, {\"mpg\": 13.0, \"cylinders\": 8, \"displacement\": 318.0, \"horsepower\": 150.0, \"weight\": 3755, \"acceleration\": 14.0, \"model_year\": 76, \"origin\": \"usa\", \"name\": \"dodge d100\"}, {\"mpg\": 31.5, \"cylinders\": 4, \"displacement\": 98.0, \"horsepower\": 68.0, \"weight\": 2045, \"acceleration\": 18.5, \"model_year\": 77, \"origin\": \"japan\", \"name\": \"honda accord cvcc\"}, {\"mpg\": 30.0, \"cylinders\": 4, \"displacement\": 111.0, \"horsepower\": 80.0, \"weight\": 2155, \"acceleration\": 14.8, \"model_year\": 77, \"origin\": \"usa\", \"name\": \"buick opel isuzu deluxe\"}, {\"mpg\": 36.0, \"cylinders\": 4, \"displacement\": 79.0, \"horsepower\": 58.0, \"weight\": 1825, \"acceleration\": 18.6, \"model_year\": 77, \"origin\": \"europe\", \"name\": \"renault 5 gtl\"}, {\"mpg\": 25.5, \"cylinders\": 4, \"displacement\": 122.0, \"horsepower\": 96.0, \"weight\": 2300, \"acceleration\": 15.5, \"model_year\": 77, \"origin\": \"usa\", \"name\": \"plymouth arrow gs\"}, {\"mpg\": 33.5, \"cylinders\": 4, \"displacement\": 85.0, \"horsepower\": 70.0, \"weight\": 1945, \"acceleration\": 16.8, \"model_year\": 77, \"origin\": \"japan\", \"name\": \"datsun f-10 hatchback\"}, {\"mpg\": 17.5, \"cylinders\": 8, \"displacement\": 305.0, \"horsepower\": 145.0, \"weight\": 3880, \"acceleration\": 12.5, \"model_year\": 77, \"origin\": \"usa\", \"name\": \"chevrolet caprice classic\"}, {\"mpg\": 17.0, \"cylinders\": 8, \"displacement\": 260.0, \"horsepower\": 110.0, \"weight\": 4060, \"acceleration\": 19.0, \"model_year\": 77, \"origin\": \"usa\", \"name\": \"oldsmobile cutlass supreme\"}, {\"mpg\": 15.5, \"cylinders\": 8, \"displacement\": 318.0, \"horsepower\": 145.0, \"weight\": 4140, \"acceleration\": 13.7, \"model_year\": 77, \"origin\": \"usa\", \"name\": \"dodge monaco brougham\"}, {\"mpg\": 15.0, \"cylinders\": 8, \"displacement\": 302.0, \"horsepower\": 130.0, \"weight\": 4295, \"acceleration\": 14.9, \"model_year\": 77, \"origin\": \"usa\", \"name\": \"mercury cougar brougham\"}, {\"mpg\": 17.5, \"cylinders\": 6, \"displacement\": 250.0, \"horsepower\": 110.0, \"weight\": 3520, \"acceleration\": 16.4, \"model_year\": 77, \"origin\": \"usa\", \"name\": \"chevrolet concours\"}, {\"mpg\": 20.5, \"cylinders\": 6, \"displacement\": 231.0, \"horsepower\": 105.0, \"weight\": 3425, \"acceleration\": 16.9, \"model_year\": 77, \"origin\": \"usa\", \"name\": \"buick skylark\"}, {\"mpg\": 19.0, \"cylinders\": 6, \"displacement\": 225.0, \"horsepower\": 100.0, \"weight\": 3630, \"acceleration\": 17.7, \"model_year\": 77, \"origin\": \"usa\", \"name\": \"plymouth volare custom\"}, {\"mpg\": 18.5, \"cylinders\": 6, \"displacement\": 250.0, \"horsepower\": 98.0, \"weight\": 3525, \"acceleration\": 19.0, \"model_year\": 77, \"origin\": \"usa\", \"name\": \"ford granada\"}, {\"mpg\": 16.0, \"cylinders\": 8, \"displacement\": 400.0, \"horsepower\": 180.0, \"weight\": 4220, \"acceleration\": 11.1, \"model_year\": 77, \"origin\": \"usa\", \"name\": \"pontiac grand prix lj\"}, {\"mpg\": 15.5, \"cylinders\": 8, \"displacement\": 350.0, \"horsepower\": 170.0, \"weight\": 4165, \"acceleration\": 11.4, \"model_year\": 77, \"origin\": \"usa\", \"name\": \"chevrolet monte carlo landau\"}, {\"mpg\": 15.5, \"cylinders\": 8, \"displacement\": 400.0, \"horsepower\": 190.0, \"weight\": 4325, \"acceleration\": 12.2, \"model_year\": 77, \"origin\": \"usa\", \"name\": \"chrysler cordoba\"}, {\"mpg\": 16.0, \"cylinders\": 8, \"displacement\": 351.0, \"horsepower\": 149.0, \"weight\": 4335, \"acceleration\": 14.5, \"model_year\": 77, \"origin\": \"usa\", \"name\": \"ford thunderbird\"}, {\"mpg\": 29.0, \"cylinders\": 4, \"displacement\": 97.0, \"horsepower\": 78.0, \"weight\": 1940, \"acceleration\": 14.5, \"model_year\": 77, \"origin\": \"europe\", \"name\": \"volkswagen rabbit custom\"}, {\"mpg\": 24.5, \"cylinders\": 4, \"displacement\": 151.0, \"horsepower\": 88.0, \"weight\": 2740, \"acceleration\": 16.0, \"model_year\": 77, \"origin\": \"usa\", \"name\": \"pontiac sunbird coupe\"}, {\"mpg\": 26.0, \"cylinders\": 4, \"displacement\": 97.0, \"horsepower\": 75.0, \"weight\": 2265, \"acceleration\": 18.2, \"model_year\": 77, \"origin\": \"japan\", \"name\": \"toyota corolla liftback\"}, {\"mpg\": 25.5, \"cylinders\": 4, \"displacement\": 140.0, \"horsepower\": 89.0, \"weight\": 2755, \"acceleration\": 15.8, \"model_year\": 77, \"origin\": \"usa\", \"name\": \"ford mustang ii 2+2\"}, {\"mpg\": 30.5, \"cylinders\": 4, \"displacement\": 98.0, \"horsepower\": 63.0, \"weight\": 2051, \"acceleration\": 17.0, \"model_year\": 77, \"origin\": \"usa\", \"name\": \"chevrolet chevette\"}, {\"mpg\": 33.5, \"cylinders\": 4, \"displacement\": 98.0, \"horsepower\": 83.0, \"weight\": 2075, \"acceleration\": 15.9, \"model_year\": 77, \"origin\": \"usa\", \"name\": \"dodge colt m/m\"}, {\"mpg\": 30.0, \"cylinders\": 4, \"displacement\": 97.0, \"horsepower\": 67.0, \"weight\": 1985, \"acceleration\": 16.4, \"model_year\": 77, \"origin\": \"japan\", \"name\": \"subaru dl\"}, {\"mpg\": 30.5, \"cylinders\": 4, \"displacement\": 97.0, \"horsepower\": 78.0, \"weight\": 2190, \"acceleration\": 14.1, \"model_year\": 77, \"origin\": \"europe\", \"name\": \"volkswagen dasher\"}, {\"mpg\": 22.0, \"cylinders\": 6, \"displacement\": 146.0, \"horsepower\": 97.0, \"weight\": 2815, \"acceleration\": 14.5, \"model_year\": 77, \"origin\": \"japan\", \"name\": \"datsun 810\"}, {\"mpg\": 21.5, \"cylinders\": 4, \"displacement\": 121.0, \"horsepower\": 110.0, \"weight\": 2600, \"acceleration\": 12.8, \"model_year\": 77, \"origin\": \"europe\", \"name\": \"bmw 320i\"}, {\"mpg\": 21.5, \"cylinders\": 3, \"displacement\": 80.0, \"horsepower\": 110.0, \"weight\": 2720, \"acceleration\": 13.5, \"model_year\": 77, \"origin\": \"japan\", \"name\": \"mazda rx-4\"}, {\"mpg\": 43.1, \"cylinders\": 4, \"displacement\": 90.0, \"horsepower\": 48.0, \"weight\": 1985, \"acceleration\": 21.5, \"model_year\": 78, \"origin\": \"europe\", \"name\": \"volkswagen rabbit custom diesel\"}, {\"mpg\": 36.1, \"cylinders\": 4, \"displacement\": 98.0, \"horsepower\": 66.0, \"weight\": 1800, \"acceleration\": 14.4, \"model_year\": 78, \"origin\": \"usa\", \"name\": \"ford fiesta\"}, {\"mpg\": 32.8, \"cylinders\": 4, \"displacement\": 78.0, \"horsepower\": 52.0, \"weight\": 1985, \"acceleration\": 19.4, \"model_year\": 78, \"origin\": \"japan\", \"name\": \"mazda glc deluxe\"}, {\"mpg\": 39.4, \"cylinders\": 4, \"displacement\": 85.0, \"horsepower\": 70.0, \"weight\": 2070, \"acceleration\": 18.6, \"model_year\": 78, \"origin\": \"japan\", \"name\": \"datsun b210 gx\"}, {\"mpg\": 36.1, \"cylinders\": 4, \"displacement\": 91.0, \"horsepower\": 60.0, \"weight\": 1800, \"acceleration\": 16.4, \"model_year\": 78, \"origin\": \"japan\", \"name\": \"honda civic cvcc\"}, {\"mpg\": 19.9, \"cylinders\": 8, \"displacement\": 260.0, \"horsepower\": 110.0, \"weight\": 3365, \"acceleration\": 15.5, \"model_year\": 78, \"origin\": \"usa\", \"name\": \"oldsmobile cutlass salon brougham\"}, {\"mpg\": 19.4, \"cylinders\": 8, \"displacement\": 318.0, \"horsepower\": 140.0, \"weight\": 3735, \"acceleration\": 13.2, \"model_year\": 78, \"origin\": \"usa\", \"name\": \"dodge diplomat\"}, {\"mpg\": 20.2, \"cylinders\": 8, \"displacement\": 302.0, \"horsepower\": 139.0, \"weight\": 3570, \"acceleration\": 12.8, \"model_year\": 78, \"origin\": \"usa\", \"name\": \"mercury monarch ghia\"}, {\"mpg\": 19.2, \"cylinders\": 6, \"displacement\": 231.0, \"horsepower\": 105.0, \"weight\": 3535, \"acceleration\": 19.2, \"model_year\": 78, \"origin\": \"usa\", \"name\": \"pontiac phoenix lj\"}, {\"mpg\": 20.5, \"cylinders\": 6, \"displacement\": 200.0, \"horsepower\": 95.0, \"weight\": 3155, \"acceleration\": 18.2, \"model_year\": 78, \"origin\": \"usa\", \"name\": \"chevrolet malibu\"}, {\"mpg\": 20.2, \"cylinders\": 6, \"displacement\": 200.0, \"horsepower\": 85.0, \"weight\": 2965, \"acceleration\": 15.8, \"model_year\": 78, \"origin\": \"usa\", \"name\": \"ford fairmont (auto)\"}, {\"mpg\": 25.1, \"cylinders\": 4, \"displacement\": 140.0, \"horsepower\": 88.0, \"weight\": 2720, \"acceleration\": 15.4, \"model_year\": 78, \"origin\": \"usa\", \"name\": \"ford fairmont (man)\"}, {\"mpg\": 20.5, \"cylinders\": 6, \"displacement\": 225.0, \"horsepower\": 100.0, \"weight\": 3430, \"acceleration\": 17.2, \"model_year\": 78, \"origin\": \"usa\", \"name\": \"plymouth volare\"}, {\"mpg\": 19.4, \"cylinders\": 6, \"displacement\": 232.0, \"horsepower\": 90.0, \"weight\": 3210, \"acceleration\": 17.2, \"model_year\": 78, \"origin\": \"usa\", \"name\": \"amc concord\"}, {\"mpg\": 20.6, \"cylinders\": 6, \"displacement\": 231.0, \"horsepower\": 105.0, \"weight\": 3380, \"acceleration\": 15.8, \"model_year\": 78, \"origin\": \"usa\", \"name\": \"buick century special\"}, {\"mpg\": 20.8, \"cylinders\": 6, \"displacement\": 200.0, \"horsepower\": 85.0, \"weight\": 3070, \"acceleration\": 16.7, \"model_year\": 78, \"origin\": \"usa\", \"name\": \"mercury zephyr\"}, {\"mpg\": 18.6, \"cylinders\": 6, \"displacement\": 225.0, \"horsepower\": 110.0, \"weight\": 3620, \"acceleration\": 18.7, \"model_year\": 78, \"origin\": \"usa\", \"name\": \"dodge aspen\"}, {\"mpg\": 18.1, \"cylinders\": 6, \"displacement\": 258.0, \"horsepower\": 120.0, \"weight\": 3410, \"acceleration\": 15.1, \"model_year\": 78, \"origin\": \"usa\", \"name\": \"amc concord d/l\"}, {\"mpg\": 19.2, \"cylinders\": 8, \"displacement\": 305.0, \"horsepower\": 145.0, \"weight\": 3425, \"acceleration\": 13.2, \"model_year\": 78, \"origin\": \"usa\", \"name\": \"chevrolet monte carlo landau\"}, {\"mpg\": 17.7, \"cylinders\": 6, \"displacement\": 231.0, \"horsepower\": 165.0, \"weight\": 3445, \"acceleration\": 13.4, \"model_year\": 78, \"origin\": \"usa\", \"name\": \"buick regal sport coupe (turbo)\"}, {\"mpg\": 18.1, \"cylinders\": 8, \"displacement\": 302.0, \"horsepower\": 139.0, \"weight\": 3205, \"acceleration\": 11.2, \"model_year\": 78, \"origin\": \"usa\", \"name\": \"ford futura\"}, {\"mpg\": 17.5, \"cylinders\": 8, \"displacement\": 318.0, \"horsepower\": 140.0, \"weight\": 4080, \"acceleration\": 13.7, \"model_year\": 78, \"origin\": \"usa\", \"name\": \"dodge magnum xe\"}, {\"mpg\": 30.0, \"cylinders\": 4, \"displacement\": 98.0, \"horsepower\": 68.0, \"weight\": 2155, \"acceleration\": 16.5, \"model_year\": 78, \"origin\": \"usa\", \"name\": \"chevrolet chevette\"}, {\"mpg\": 27.5, \"cylinders\": 4, \"displacement\": 134.0, \"horsepower\": 95.0, \"weight\": 2560, \"acceleration\": 14.2, \"model_year\": 78, \"origin\": \"japan\", \"name\": \"toyota corona\"}, {\"mpg\": 27.2, \"cylinders\": 4, \"displacement\": 119.0, \"horsepower\": 97.0, \"weight\": 2300, \"acceleration\": 14.7, \"model_year\": 78, \"origin\": \"japan\", \"name\": \"datsun 510\"}, {\"mpg\": 30.9, \"cylinders\": 4, \"displacement\": 105.0, \"horsepower\": 75.0, \"weight\": 2230, \"acceleration\": 14.5, \"model_year\": 78, \"origin\": \"usa\", \"name\": \"dodge omni\"}, {\"mpg\": 21.1, \"cylinders\": 4, \"displacement\": 134.0, \"horsepower\": 95.0, \"weight\": 2515, \"acceleration\": 14.8, \"model_year\": 78, \"origin\": \"japan\", \"name\": \"toyota celica gt liftback\"}, {\"mpg\": 23.2, \"cylinders\": 4, \"displacement\": 156.0, \"horsepower\": 105.0, \"weight\": 2745, \"acceleration\": 16.7, \"model_year\": 78, \"origin\": \"usa\", \"name\": \"plymouth sapporo\"}, {\"mpg\": 23.8, \"cylinders\": 4, \"displacement\": 151.0, \"horsepower\": 85.0, \"weight\": 2855, \"acceleration\": 17.6, \"model_year\": 78, \"origin\": \"usa\", \"name\": \"oldsmobile starfire sx\"}, {\"mpg\": 23.9, \"cylinders\": 4, \"displacement\": 119.0, \"horsepower\": 97.0, \"weight\": 2405, \"acceleration\": 14.9, \"model_year\": 78, \"origin\": \"japan\", \"name\": \"datsun 200-sx\"}, {\"mpg\": 20.3, \"cylinders\": 5, \"displacement\": 131.0, \"horsepower\": 103.0, \"weight\": 2830, \"acceleration\": 15.9, \"model_year\": 78, \"origin\": \"europe\", \"name\": \"audi 5000\"}, {\"mpg\": 17.0, \"cylinders\": 6, \"displacement\": 163.0, \"horsepower\": 125.0, \"weight\": 3140, \"acceleration\": 13.6, \"model_year\": 78, \"origin\": \"europe\", \"name\": \"volvo 264gl\"}, {\"mpg\": 21.6, \"cylinders\": 4, \"displacement\": 121.0, \"horsepower\": 115.0, \"weight\": 2795, \"acceleration\": 15.7, \"model_year\": 78, \"origin\": \"europe\", \"name\": \"saab 99gle\"}, {\"mpg\": 16.2, \"cylinders\": 6, \"displacement\": 163.0, \"horsepower\": 133.0, \"weight\": 3410, \"acceleration\": 15.8, \"model_year\": 78, \"origin\": \"europe\", \"name\": \"peugeot 604sl\"}, {\"mpg\": 31.5, \"cylinders\": 4, \"displacement\": 89.0, \"horsepower\": 71.0, \"weight\": 1990, \"acceleration\": 14.9, \"model_year\": 78, \"origin\": \"europe\", \"name\": \"volkswagen scirocco\"}, {\"mpg\": 29.5, \"cylinders\": 4, \"displacement\": 98.0, \"horsepower\": 68.0, \"weight\": 2135, \"acceleration\": 16.6, \"model_year\": 78, \"origin\": \"japan\", \"name\": \"honda accord lx\"}, {\"mpg\": 21.5, \"cylinders\": 6, \"displacement\": 231.0, \"horsepower\": 115.0, \"weight\": 3245, \"acceleration\": 15.4, \"model_year\": 79, \"origin\": \"usa\", \"name\": \"pontiac lemans v6\"}, {\"mpg\": 19.8, \"cylinders\": 6, \"displacement\": 200.0, \"horsepower\": 85.0, \"weight\": 2990, \"acceleration\": 18.2, \"model_year\": 79, \"origin\": \"usa\", \"name\": \"mercury zephyr 6\"}, {\"mpg\": 22.3, \"cylinders\": 4, \"displacement\": 140.0, \"horsepower\": 88.0, \"weight\": 2890, \"acceleration\": 17.3, \"model_year\": 79, \"origin\": \"usa\", \"name\": \"ford fairmont 4\"}, {\"mpg\": 20.2, \"cylinders\": 6, \"displacement\": 232.0, \"horsepower\": 90.0, \"weight\": 3265, \"acceleration\": 18.2, \"model_year\": 79, \"origin\": \"usa\", \"name\": \"amc concord dl 6\"}, {\"mpg\": 20.6, \"cylinders\": 6, \"displacement\": 225.0, \"horsepower\": 110.0, \"weight\": 3360, \"acceleration\": 16.6, \"model_year\": 79, \"origin\": \"usa\", \"name\": \"dodge aspen 6\"}, {\"mpg\": 17.0, \"cylinders\": 8, \"displacement\": 305.0, \"horsepower\": 130.0, \"weight\": 3840, \"acceleration\": 15.4, \"model_year\": 79, \"origin\": \"usa\", \"name\": \"chevrolet caprice classic\"}, {\"mpg\": 17.6, \"cylinders\": 8, \"displacement\": 302.0, \"horsepower\": 129.0, \"weight\": 3725, \"acceleration\": 13.4, \"model_year\": 79, \"origin\": \"usa\", \"name\": \"ford ltd landau\"}, {\"mpg\": 16.5, \"cylinders\": 8, \"displacement\": 351.0, \"horsepower\": 138.0, \"weight\": 3955, \"acceleration\": 13.2, \"model_year\": 79, \"origin\": \"usa\", \"name\": \"mercury grand marquis\"}, {\"mpg\": 18.2, \"cylinders\": 8, \"displacement\": 318.0, \"horsepower\": 135.0, \"weight\": 3830, \"acceleration\": 15.2, \"model_year\": 79, \"origin\": \"usa\", \"name\": \"dodge st. regis\"}, {\"mpg\": 16.9, \"cylinders\": 8, \"displacement\": 350.0, \"horsepower\": 155.0, \"weight\": 4360, \"acceleration\": 14.9, \"model_year\": 79, \"origin\": \"usa\", \"name\": \"buick estate wagon (sw)\"}, {\"mpg\": 15.5, \"cylinders\": 8, \"displacement\": 351.0, \"horsepower\": 142.0, \"weight\": 4054, \"acceleration\": 14.3, \"model_year\": 79, \"origin\": \"usa\", \"name\": \"ford country squire (sw)\"}, {\"mpg\": 19.2, \"cylinders\": 8, \"displacement\": 267.0, \"horsepower\": 125.0, \"weight\": 3605, \"acceleration\": 15.0, \"model_year\": 79, \"origin\": \"usa\", \"name\": \"chevrolet malibu classic (sw)\"}, {\"mpg\": 18.5, \"cylinders\": 8, \"displacement\": 360.0, \"horsepower\": 150.0, \"weight\": 3940, \"acceleration\": 13.0, \"model_year\": 79, \"origin\": \"usa\", \"name\": \"chrysler lebaron town @ country (sw)\"}, {\"mpg\": 31.9, \"cylinders\": 4, \"displacement\": 89.0, \"horsepower\": 71.0, \"weight\": 1925, \"acceleration\": 14.0, \"model_year\": 79, \"origin\": \"europe\", \"name\": \"vw rabbit custom\"}, {\"mpg\": 34.1, \"cylinders\": 4, \"displacement\": 86.0, \"horsepower\": 65.0, \"weight\": 1975, \"acceleration\": 15.2, \"model_year\": 79, \"origin\": \"japan\", \"name\": \"maxda glc deluxe\"}, {\"mpg\": 35.7, \"cylinders\": 4, \"displacement\": 98.0, \"horsepower\": 80.0, \"weight\": 1915, \"acceleration\": 14.4, \"model_year\": 79, \"origin\": \"usa\", \"name\": \"dodge colt hatchback custom\"}, {\"mpg\": 27.4, \"cylinders\": 4, \"displacement\": 121.0, \"horsepower\": 80.0, \"weight\": 2670, \"acceleration\": 15.0, \"model_year\": 79, \"origin\": \"usa\", \"name\": \"amc spirit dl\"}, {\"mpg\": 25.4, \"cylinders\": 5, \"displacement\": 183.0, \"horsepower\": 77.0, \"weight\": 3530, \"acceleration\": 20.1, \"model_year\": 79, \"origin\": \"europe\", \"name\": \"mercedes benz 300d\"}, {\"mpg\": 23.0, \"cylinders\": 8, \"displacement\": 350.0, \"horsepower\": 125.0, \"weight\": 3900, \"acceleration\": 17.4, \"model_year\": 79, \"origin\": \"usa\", \"name\": \"cadillac eldorado\"}, {\"mpg\": 27.2, \"cylinders\": 4, \"displacement\": 141.0, \"horsepower\": 71.0, \"weight\": 3190, \"acceleration\": 24.8, \"model_year\": 79, \"origin\": \"europe\", \"name\": \"peugeot 504\"}, {\"mpg\": 23.9, \"cylinders\": 8, \"displacement\": 260.0, \"horsepower\": 90.0, \"weight\": 3420, \"acceleration\": 22.2, \"model_year\": 79, \"origin\": \"usa\", \"name\": \"oldsmobile cutlass salon brougham\"}, {\"mpg\": 34.2, \"cylinders\": 4, \"displacement\": 105.0, \"horsepower\": 70.0, \"weight\": 2200, \"acceleration\": 13.2, \"model_year\": 79, \"origin\": \"usa\", \"name\": \"plymouth horizon\"}, {\"mpg\": 34.5, \"cylinders\": 4, \"displacement\": 105.0, \"horsepower\": 70.0, \"weight\": 2150, \"acceleration\": 14.9, \"model_year\": 79, \"origin\": \"usa\", \"name\": \"plymouth horizon tc3\"}, {\"mpg\": 31.8, \"cylinders\": 4, \"displacement\": 85.0, \"horsepower\": 65.0, \"weight\": 2020, \"acceleration\": 19.2, \"model_year\": 79, \"origin\": \"japan\", \"name\": \"datsun 210\"}, {\"mpg\": 37.3, \"cylinders\": 4, \"displacement\": 91.0, \"horsepower\": 69.0, \"weight\": 2130, \"acceleration\": 14.7, \"model_year\": 79, \"origin\": \"europe\", \"name\": \"fiat strada custom\"}, {\"mpg\": 28.4, \"cylinders\": 4, \"displacement\": 151.0, \"horsepower\": 90.0, \"weight\": 2670, \"acceleration\": 16.0, \"model_year\": 79, \"origin\": \"usa\", \"name\": \"buick skylark limited\"}, {\"mpg\": 28.8, \"cylinders\": 6, \"displacement\": 173.0, \"horsepower\": 115.0, \"weight\": 2595, \"acceleration\": 11.3, \"model_year\": 79, \"origin\": \"usa\", \"name\": \"chevrolet citation\"}, {\"mpg\": 26.8, \"cylinders\": 6, \"displacement\": 173.0, \"horsepower\": 115.0, \"weight\": 2700, \"acceleration\": 12.9, \"model_year\": 79, \"origin\": \"usa\", \"name\": \"oldsmobile omega brougham\"}, {\"mpg\": 33.5, \"cylinders\": 4, \"displacement\": 151.0, \"horsepower\": 90.0, \"weight\": 2556, \"acceleration\": 13.2, \"model_year\": 79, \"origin\": \"usa\", \"name\": \"pontiac phoenix\"}, {\"mpg\": 41.5, \"cylinders\": 4, \"displacement\": 98.0, \"horsepower\": 76.0, \"weight\": 2144, \"acceleration\": 14.7, \"model_year\": 80, \"origin\": \"europe\", \"name\": \"vw rabbit\"}, {\"mpg\": 38.1, \"cylinders\": 4, \"displacement\": 89.0, \"horsepower\": 60.0, \"weight\": 1968, \"acceleration\": 18.8, \"model_year\": 80, \"origin\": \"japan\", \"name\": \"toyota corolla tercel\"}, {\"mpg\": 32.1, \"cylinders\": 4, \"displacement\": 98.0, \"horsepower\": 70.0, \"weight\": 2120, \"acceleration\": 15.5, \"model_year\": 80, \"origin\": \"usa\", \"name\": \"chevrolet chevette\"}, {\"mpg\": 37.2, \"cylinders\": 4, \"displacement\": 86.0, \"horsepower\": 65.0, \"weight\": 2019, \"acceleration\": 16.4, \"model_year\": 80, \"origin\": \"japan\", \"name\": \"datsun 310\"}, {\"mpg\": 28.0, \"cylinders\": 4, \"displacement\": 151.0, \"horsepower\": 90.0, \"weight\": 2678, \"acceleration\": 16.5, \"model_year\": 80, \"origin\": \"usa\", \"name\": \"chevrolet citation\"}, {\"mpg\": 26.4, \"cylinders\": 4, \"displacement\": 140.0, \"horsepower\": 88.0, \"weight\": 2870, \"acceleration\": 18.1, \"model_year\": 80, \"origin\": \"usa\", \"name\": \"ford fairmont\"}, {\"mpg\": 24.3, \"cylinders\": 4, \"displacement\": 151.0, \"horsepower\": 90.0, \"weight\": 3003, \"acceleration\": 20.1, \"model_year\": 80, \"origin\": \"usa\", \"name\": \"amc concord\"}, {\"mpg\": 19.1, \"cylinders\": 6, \"displacement\": 225.0, \"horsepower\": 90.0, \"weight\": 3381, \"acceleration\": 18.7, \"model_year\": 80, \"origin\": \"usa\", \"name\": \"dodge aspen\"}, {\"mpg\": 34.3, \"cylinders\": 4, \"displacement\": 97.0, \"horsepower\": 78.0, \"weight\": 2188, \"acceleration\": 15.8, \"model_year\": 80, \"origin\": \"europe\", \"name\": \"audi 4000\"}, {\"mpg\": 29.8, \"cylinders\": 4, \"displacement\": 134.0, \"horsepower\": 90.0, \"weight\": 2711, \"acceleration\": 15.5, \"model_year\": 80, \"origin\": \"japan\", \"name\": \"toyota corona liftback\"}, {\"mpg\": 31.3, \"cylinders\": 4, \"displacement\": 120.0, \"horsepower\": 75.0, \"weight\": 2542, \"acceleration\": 17.5, \"model_year\": 80, \"origin\": \"japan\", \"name\": \"mazda 626\"}, {\"mpg\": 37.0, \"cylinders\": 4, \"displacement\": 119.0, \"horsepower\": 92.0, \"weight\": 2434, \"acceleration\": 15.0, \"model_year\": 80, \"origin\": \"japan\", \"name\": \"datsun 510 hatchback\"}, {\"mpg\": 32.2, \"cylinders\": 4, \"displacement\": 108.0, \"horsepower\": 75.0, \"weight\": 2265, \"acceleration\": 15.2, \"model_year\": 80, \"origin\": \"japan\", \"name\": \"toyota corolla\"}, {\"mpg\": 46.6, \"cylinders\": 4, \"displacement\": 86.0, \"horsepower\": 65.0, \"weight\": 2110, \"acceleration\": 17.9, \"model_year\": 80, \"origin\": \"japan\", \"name\": \"mazda glc\"}, {\"mpg\": 27.9, \"cylinders\": 4, \"displacement\": 156.0, \"horsepower\": 105.0, \"weight\": 2800, \"acceleration\": 14.4, \"model_year\": 80, \"origin\": \"usa\", \"name\": \"dodge colt\"}, {\"mpg\": 40.8, \"cylinders\": 4, \"displacement\": 85.0, \"horsepower\": 65.0, \"weight\": 2110, \"acceleration\": 19.2, \"model_year\": 80, \"origin\": \"japan\", \"name\": \"datsun 210\"}, {\"mpg\": 44.3, \"cylinders\": 4, \"displacement\": 90.0, \"horsepower\": 48.0, \"weight\": 2085, \"acceleration\": 21.7, \"model_year\": 80, \"origin\": \"europe\", \"name\": \"vw rabbit c (diesel)\"}, {\"mpg\": 43.4, \"cylinders\": 4, \"displacement\": 90.0, \"horsepower\": 48.0, \"weight\": 2335, \"acceleration\": 23.7, \"model_year\": 80, \"origin\": \"europe\", \"name\": \"vw dasher (diesel)\"}, {\"mpg\": 36.4, \"cylinders\": 5, \"displacement\": 121.0, \"horsepower\": 67.0, \"weight\": 2950, \"acceleration\": 19.9, \"model_year\": 80, \"origin\": \"europe\", \"name\": \"audi 5000s (diesel)\"}, {\"mpg\": 30.0, \"cylinders\": 4, \"displacement\": 146.0, \"horsepower\": 67.0, \"weight\": 3250, \"acceleration\": 21.8, \"model_year\": 80, \"origin\": \"europe\", \"name\": \"mercedes-benz 240d\"}, {\"mpg\": 44.6, \"cylinders\": 4, \"displacement\": 91.0, \"horsepower\": 67.0, \"weight\": 1850, \"acceleration\": 13.8, \"model_year\": 80, \"origin\": \"japan\", \"name\": \"honda civic 1500 gl\"}, {\"mpg\": 40.9, \"cylinders\": 4, \"displacement\": 85.0, \"horsepower\": null, \"weight\": 1835, \"acceleration\": 17.3, \"model_year\": 80, \"origin\": \"europe\", \"name\": \"renault lecar deluxe\"}, {\"mpg\": 33.8, \"cylinders\": 4, \"displacement\": 97.0, \"horsepower\": 67.0, \"weight\": 2145, \"acceleration\": 18.0, \"model_year\": 80, \"origin\": \"japan\", \"name\": \"subaru dl\"}, {\"mpg\": 29.8, \"cylinders\": 4, \"displacement\": 89.0, \"horsepower\": 62.0, \"weight\": 1845, \"acceleration\": 15.3, \"model_year\": 80, \"origin\": \"europe\", \"name\": \"vokswagen rabbit\"}, {\"mpg\": 32.7, \"cylinders\": 6, \"displacement\": 168.0, \"horsepower\": 132.0, \"weight\": 2910, \"acceleration\": 11.4, \"model_year\": 80, \"origin\": \"japan\", \"name\": \"datsun 280-zx\"}, {\"mpg\": 23.7, \"cylinders\": 3, \"displacement\": 70.0, \"horsepower\": 100.0, \"weight\": 2420, \"acceleration\": 12.5, \"model_year\": 80, \"origin\": \"japan\", \"name\": \"mazda rx-7 gs\"}, {\"mpg\": 35.0, \"cylinders\": 4, \"displacement\": 122.0, \"horsepower\": 88.0, \"weight\": 2500, \"acceleration\": 15.1, \"model_year\": 80, \"origin\": \"europe\", \"name\": \"triumph tr7 coupe\"}, {\"mpg\": 23.6, \"cylinders\": 4, \"displacement\": 140.0, \"horsepower\": null, \"weight\": 2905, \"acceleration\": 14.3, \"model_year\": 80, \"origin\": \"usa\", \"name\": \"ford mustang cobra\"}, {\"mpg\": 32.4, \"cylinders\": 4, \"displacement\": 107.0, \"horsepower\": 72.0, \"weight\": 2290, \"acceleration\": 17.0, \"model_year\": 80, \"origin\": \"japan\", \"name\": \"honda accord\"}, {\"mpg\": 27.2, \"cylinders\": 4, \"displacement\": 135.0, \"horsepower\": 84.0, \"weight\": 2490, \"acceleration\": 15.7, \"model_year\": 81, \"origin\": \"usa\", \"name\": \"plymouth reliant\"}, {\"mpg\": 26.6, \"cylinders\": 4, \"displacement\": 151.0, \"horsepower\": 84.0, \"weight\": 2635, \"acceleration\": 16.4, \"model_year\": 81, \"origin\": \"usa\", \"name\": \"buick skylark\"}, {\"mpg\": 25.8, \"cylinders\": 4, \"displacement\": 156.0, \"horsepower\": 92.0, \"weight\": 2620, \"acceleration\": 14.4, \"model_year\": 81, \"origin\": \"usa\", \"name\": \"dodge aries wagon (sw)\"}, {\"mpg\": 23.5, \"cylinders\": 6, \"displacement\": 173.0, \"horsepower\": 110.0, \"weight\": 2725, \"acceleration\": 12.6, \"model_year\": 81, \"origin\": \"usa\", \"name\": \"chevrolet citation\"}, {\"mpg\": 30.0, \"cylinders\": 4, \"displacement\": 135.0, \"horsepower\": 84.0, \"weight\": 2385, \"acceleration\": 12.9, \"model_year\": 81, \"origin\": \"usa\", \"name\": \"plymouth reliant\"}, {\"mpg\": 39.1, \"cylinders\": 4, \"displacement\": 79.0, \"horsepower\": 58.0, \"weight\": 1755, \"acceleration\": 16.9, \"model_year\": 81, \"origin\": \"japan\", \"name\": \"toyota starlet\"}, {\"mpg\": 39.0, \"cylinders\": 4, \"displacement\": 86.0, \"horsepower\": 64.0, \"weight\": 1875, \"acceleration\": 16.4, \"model_year\": 81, \"origin\": \"usa\", \"name\": \"plymouth champ\"}, {\"mpg\": 35.1, \"cylinders\": 4, \"displacement\": 81.0, \"horsepower\": 60.0, \"weight\": 1760, \"acceleration\": 16.1, \"model_year\": 81, \"origin\": \"japan\", \"name\": \"honda civic 1300\"}, {\"mpg\": 32.3, \"cylinders\": 4, \"displacement\": 97.0, \"horsepower\": 67.0, \"weight\": 2065, \"acceleration\": 17.8, \"model_year\": 81, \"origin\": \"japan\", \"name\": \"subaru\"}, {\"mpg\": 37.0, \"cylinders\": 4, \"displacement\": 85.0, \"horsepower\": 65.0, \"weight\": 1975, \"acceleration\": 19.4, \"model_year\": 81, \"origin\": \"japan\", \"name\": \"datsun 210 mpg\"}, {\"mpg\": 37.7, \"cylinders\": 4, \"displacement\": 89.0, \"horsepower\": 62.0, \"weight\": 2050, \"acceleration\": 17.3, \"model_year\": 81, \"origin\": \"japan\", \"name\": \"toyota tercel\"}, {\"mpg\": 34.1, \"cylinders\": 4, \"displacement\": 91.0, \"horsepower\": 68.0, \"weight\": 1985, \"acceleration\": 16.0, \"model_year\": 81, \"origin\": \"japan\", \"name\": \"mazda glc 4\"}, {\"mpg\": 34.7, \"cylinders\": 4, \"displacement\": 105.0, \"horsepower\": 63.0, \"weight\": 2215, \"acceleration\": 14.9, \"model_year\": 81, \"origin\": \"usa\", \"name\": \"plymouth horizon 4\"}, {\"mpg\": 34.4, \"cylinders\": 4, \"displacement\": 98.0, \"horsepower\": 65.0, \"weight\": 2045, \"acceleration\": 16.2, \"model_year\": 81, \"origin\": \"usa\", \"name\": \"ford escort 4w\"}, {\"mpg\": 29.9, \"cylinders\": 4, \"displacement\": 98.0, \"horsepower\": 65.0, \"weight\": 2380, \"acceleration\": 20.7, \"model_year\": 81, \"origin\": \"usa\", \"name\": \"ford escort 2h\"}, {\"mpg\": 33.0, \"cylinders\": 4, \"displacement\": 105.0, \"horsepower\": 74.0, \"weight\": 2190, \"acceleration\": 14.2, \"model_year\": 81, \"origin\": \"europe\", \"name\": \"volkswagen jetta\"}, {\"mpg\": 34.5, \"cylinders\": 4, \"displacement\": 100.0, \"horsepower\": null, \"weight\": 2320, \"acceleration\": 15.8, \"model_year\": 81, \"origin\": \"europe\", \"name\": \"renault 18i\"}, {\"mpg\": 33.7, \"cylinders\": 4, \"displacement\": 107.0, \"horsepower\": 75.0, \"weight\": 2210, \"acceleration\": 14.4, \"model_year\": 81, \"origin\": \"japan\", \"name\": \"honda prelude\"}, {\"mpg\": 32.4, \"cylinders\": 4, \"displacement\": 108.0, \"horsepower\": 75.0, \"weight\": 2350, \"acceleration\": 16.8, \"model_year\": 81, \"origin\": \"japan\", \"name\": \"toyota corolla\"}, {\"mpg\": 32.9, \"cylinders\": 4, \"displacement\": 119.0, \"horsepower\": 100.0, \"weight\": 2615, \"acceleration\": 14.8, \"model_year\": 81, \"origin\": \"japan\", \"name\": \"datsun 200sx\"}, {\"mpg\": 31.6, \"cylinders\": 4, \"displacement\": 120.0, \"horsepower\": 74.0, \"weight\": 2635, \"acceleration\": 18.3, \"model_year\": 81, \"origin\": \"japan\", \"name\": \"mazda 626\"}, {\"mpg\": 28.1, \"cylinders\": 4, \"displacement\": 141.0, \"horsepower\": 80.0, \"weight\": 3230, \"acceleration\": 20.4, \"model_year\": 81, \"origin\": \"europe\", \"name\": \"peugeot 505s turbo diesel\"}, {\"mpg\": 30.7, \"cylinders\": 6, \"displacement\": 145.0, \"horsepower\": 76.0, \"weight\": 3160, \"acceleration\": 19.6, \"model_year\": 81, \"origin\": \"europe\", \"name\": \"volvo diesel\"}, {\"mpg\": 25.4, \"cylinders\": 6, \"displacement\": 168.0, \"horsepower\": 116.0, \"weight\": 2900, \"acceleration\": 12.6, \"model_year\": 81, \"origin\": \"japan\", \"name\": \"toyota cressida\"}, {\"mpg\": 24.2, \"cylinders\": 6, \"displacement\": 146.0, \"horsepower\": 120.0, \"weight\": 2930, \"acceleration\": 13.8, \"model_year\": 81, \"origin\": \"japan\", \"name\": \"datsun 810 maxima\"}, {\"mpg\": 22.4, \"cylinders\": 6, \"displacement\": 231.0, \"horsepower\": 110.0, \"weight\": 3415, \"acceleration\": 15.8, \"model_year\": 81, \"origin\": \"usa\", \"name\": \"buick century\"}, {\"mpg\": 26.6, \"cylinders\": 8, \"displacement\": 350.0, \"horsepower\": 105.0, \"weight\": 3725, \"acceleration\": 19.0, \"model_year\": 81, \"origin\": \"usa\", \"name\": \"oldsmobile cutlass ls\"}, {\"mpg\": 20.2, \"cylinders\": 6, \"displacement\": 200.0, \"horsepower\": 88.0, \"weight\": 3060, \"acceleration\": 17.1, \"model_year\": 81, \"origin\": \"usa\", \"name\": \"ford granada gl\"}, {\"mpg\": 17.6, \"cylinders\": 6, \"displacement\": 225.0, \"horsepower\": 85.0, \"weight\": 3465, \"acceleration\": 16.6, \"model_year\": 81, \"origin\": \"usa\", \"name\": \"chrysler lebaron salon\"}, {\"mpg\": 28.0, \"cylinders\": 4, \"displacement\": 112.0, \"horsepower\": 88.0, \"weight\": 2605, \"acceleration\": 19.6, \"model_year\": 82, \"origin\": \"usa\", \"name\": \"chevrolet cavalier\"}, {\"mpg\": 27.0, \"cylinders\": 4, \"displacement\": 112.0, \"horsepower\": 88.0, \"weight\": 2640, \"acceleration\": 18.6, \"model_year\": 82, \"origin\": \"usa\", \"name\": \"chevrolet cavalier wagon\"}, {\"mpg\": 34.0, \"cylinders\": 4, \"displacement\": 112.0, \"horsepower\": 88.0, \"weight\": 2395, \"acceleration\": 18.0, \"model_year\": 82, \"origin\": \"usa\", \"name\": \"chevrolet cavalier 2-door\"}, {\"mpg\": 31.0, \"cylinders\": 4, \"displacement\": 112.0, \"horsepower\": 85.0, \"weight\": 2575, \"acceleration\": 16.2, \"model_year\": 82, \"origin\": \"usa\", \"name\": \"pontiac j2000 se hatchback\"}, {\"mpg\": 29.0, \"cylinders\": 4, \"displacement\": 135.0, \"horsepower\": 84.0, \"weight\": 2525, \"acceleration\": 16.0, \"model_year\": 82, \"origin\": \"usa\", \"name\": \"dodge aries se\"}, {\"mpg\": 27.0, \"cylinders\": 4, \"displacement\": 151.0, \"horsepower\": 90.0, \"weight\": 2735, \"acceleration\": 18.0, \"model_year\": 82, \"origin\": \"usa\", \"name\": \"pontiac phoenix\"}, {\"mpg\": 24.0, \"cylinders\": 4, \"displacement\": 140.0, \"horsepower\": 92.0, \"weight\": 2865, \"acceleration\": 16.4, \"model_year\": 82, \"origin\": \"usa\", \"name\": \"ford fairmont futura\"}, {\"mpg\": 23.0, \"cylinders\": 4, \"displacement\": 151.0, \"horsepower\": null, \"weight\": 3035, \"acceleration\": 20.5, \"model_year\": 82, \"origin\": \"usa\", \"name\": \"amc concord dl\"}, {\"mpg\": 36.0, \"cylinders\": 4, \"displacement\": 105.0, \"horsepower\": 74.0, \"weight\": 1980, \"acceleration\": 15.3, \"model_year\": 82, \"origin\": \"europe\", \"name\": \"volkswagen rabbit l\"}, {\"mpg\": 37.0, \"cylinders\": 4, \"displacement\": 91.0, \"horsepower\": 68.0, \"weight\": 2025, \"acceleration\": 18.2, \"model_year\": 82, \"origin\": \"japan\", \"name\": \"mazda glc custom l\"}, {\"mpg\": 31.0, \"cylinders\": 4, \"displacement\": 91.0, \"horsepower\": 68.0, \"weight\": 1970, \"acceleration\": 17.6, \"model_year\": 82, \"origin\": \"japan\", \"name\": \"mazda glc custom\"}, {\"mpg\": 38.0, \"cylinders\": 4, \"displacement\": 105.0, \"horsepower\": 63.0, \"weight\": 2125, \"acceleration\": 14.7, \"model_year\": 82, \"origin\": \"usa\", \"name\": \"plymouth horizon miser\"}, {\"mpg\": 36.0, \"cylinders\": 4, \"displacement\": 98.0, \"horsepower\": 70.0, \"weight\": 2125, \"acceleration\": 17.3, \"model_year\": 82, \"origin\": \"usa\", \"name\": \"mercury lynx l\"}, {\"mpg\": 36.0, \"cylinders\": 4, \"displacement\": 120.0, \"horsepower\": 88.0, \"weight\": 2160, \"acceleration\": 14.5, \"model_year\": 82, \"origin\": \"japan\", \"name\": \"nissan stanza xe\"}, {\"mpg\": 36.0, \"cylinders\": 4, \"displacement\": 107.0, \"horsepower\": 75.0, \"weight\": 2205, \"acceleration\": 14.5, \"model_year\": 82, \"origin\": \"japan\", \"name\": \"honda accord\"}, {\"mpg\": 34.0, \"cylinders\": 4, \"displacement\": 108.0, \"horsepower\": 70.0, \"weight\": 2245, \"acceleration\": 16.9, \"model_year\": 82, \"origin\": \"japan\", \"name\": \"toyota corolla\"}, {\"mpg\": 38.0, \"cylinders\": 4, \"displacement\": 91.0, \"horsepower\": 67.0, \"weight\": 1965, \"acceleration\": 15.0, \"model_year\": 82, \"origin\": \"japan\", \"name\": \"honda civic\"}, {\"mpg\": 32.0, \"cylinders\": 4, \"displacement\": 91.0, \"horsepower\": 67.0, \"weight\": 1965, \"acceleration\": 15.7, \"model_year\": 82, \"origin\": \"japan\", \"name\": \"honda civic (auto)\"}, {\"mpg\": 38.0, \"cylinders\": 4, \"displacement\": 91.0, \"horsepower\": 67.0, \"weight\": 1995, \"acceleration\": 16.2, \"model_year\": 82, \"origin\": \"japan\", \"name\": \"datsun 310 gx\"}, {\"mpg\": 25.0, \"cylinders\": 6, \"displacement\": 181.0, \"horsepower\": 110.0, \"weight\": 2945, \"acceleration\": 16.4, \"model_year\": 82, \"origin\": \"usa\", \"name\": \"buick century limited\"}, {\"mpg\": 38.0, \"cylinders\": 6, \"displacement\": 262.0, \"horsepower\": 85.0, \"weight\": 3015, \"acceleration\": 17.0, \"model_year\": 82, \"origin\": \"usa\", \"name\": \"oldsmobile cutlass ciera (diesel)\"}, {\"mpg\": 26.0, \"cylinders\": 4, \"displacement\": 156.0, \"horsepower\": 92.0, \"weight\": 2585, \"acceleration\": 14.5, \"model_year\": 82, \"origin\": \"usa\", \"name\": \"chrysler lebaron medallion\"}, {\"mpg\": 22.0, \"cylinders\": 6, \"displacement\": 232.0, \"horsepower\": 112.0, \"weight\": 2835, \"acceleration\": 14.7, \"model_year\": 82, \"origin\": \"usa\", \"name\": \"ford granada l\"}, {\"mpg\": 32.0, \"cylinders\": 4, \"displacement\": 144.0, \"horsepower\": 96.0, \"weight\": 2665, \"acceleration\": 13.9, \"model_year\": 82, \"origin\": \"japan\", \"name\": \"toyota celica gt\"}, {\"mpg\": 36.0, \"cylinders\": 4, \"displacement\": 135.0, \"horsepower\": 84.0, \"weight\": 2370, \"acceleration\": 13.0, \"model_year\": 82, \"origin\": \"usa\", \"name\": \"dodge charger 2.2\"}, {\"mpg\": 27.0, \"cylinders\": 4, \"displacement\": 151.0, \"horsepower\": 90.0, \"weight\": 2950, \"acceleration\": 17.3, \"model_year\": 82, \"origin\": \"usa\", \"name\": \"chevrolet camaro\"}, {\"mpg\": 27.0, \"cylinders\": 4, \"displacement\": 140.0, \"horsepower\": 86.0, \"weight\": 2790, \"acceleration\": 15.6, \"model_year\": 82, \"origin\": \"usa\", \"name\": \"ford mustang gl\"}, {\"mpg\": 44.0, \"cylinders\": 4, \"displacement\": 97.0, \"horsepower\": 52.0, \"weight\": 2130, \"acceleration\": 24.6, \"model_year\": 82, \"origin\": \"europe\", \"name\": \"vw pickup\"}, {\"mpg\": 32.0, \"cylinders\": 4, \"displacement\": 135.0, \"horsepower\": 84.0, \"weight\": 2295, \"acceleration\": 11.6, \"model_year\": 82, \"origin\": \"usa\", \"name\": \"dodge rampage\"}, {\"mpg\": 28.0, \"cylinders\": 4, \"displacement\": 120.0, \"horsepower\": 79.0, \"weight\": 2625, \"acceleration\": 18.6, \"model_year\": 82, \"origin\": \"usa\", \"name\": \"ford ranger\"}, {\"mpg\": 31.0, \"cylinders\": 4, \"displacement\": 119.0, \"horsepower\": 82.0, \"weight\": 2720, \"acceleration\": 19.4, \"model_year\": 82, \"origin\": \"usa\", \"name\": \"chevy s-10\"}]}}, {\"mode\": \"vega-lite\"});\n",
       "</script>"
      ],
      "text/plain": [
       "alt.Chart(...)"
      ]
     },
     "execution_count": 23,
     "metadata": {},
     "output_type": "execute_result"
    }
   ],
   "source": [
    "c1 = alt.Chart(df).mark_rect().encode(\n",
    "    x = \"model_year:O\",\n",
    "    y = \"cylinders:O\",\n",
    "    color = \"count()\",\n",
    "    tooltip = [\"count()\"]\n",
    ")\n",
    "c1 "
   ]
  },
  {
   "block_group": "a814c4a466ed407bb39c6959192d747a",
   "cell_type": "markdown",
   "metadata": {
    "cell_id": "e0f6a21b5dc746518f4ead50984bc61b",
    "deepnote_cell_type": "markdown"
   },
   "source": [
    "* Make a \"text chart\" using `mark_text` with the same parameters as above, but remove the `color` encoding, and add a `text` encoding based on `\"count()\"`.\n",
    "\n",
    "By itself, this looks a little strange.  (We are using text for the marks in this case, that is why it is called `mark_text`.)"
   ]
  },
  {
   "block_group": "d0831e126f66425ebe66fca019b0167f",
   "cell_type": "code",
   "execution_count": null,
   "metadata": {
    "cell_id": "e74cee45f1ba42209834d35c30d2c817",
    "deepnote_cell_type": "code",
    "deepnote_to_be_reexecuted": false,
    "execution_millis": 334,
    "execution_start": 1697661968081,
    "source_hash": null
   },
   "outputs": [
    {
     "data": {
      "text/html": [
       "\n",
       "<div id=\"altair-viz-dc9379fe19c941ef86a97a5885029997\"></div>\n",
       "<script type=\"text/javascript\">\n",
       "  var VEGA_DEBUG = (typeof VEGA_DEBUG == \"undefined\") ? {} : VEGA_DEBUG;\n",
       "  (function(spec, embedOpt){\n",
       "    let outputDiv = document.currentScript.previousElementSibling;\n",
       "    if (outputDiv.id !== \"altair-viz-dc9379fe19c941ef86a97a5885029997\") {\n",
       "      outputDiv = document.getElementById(\"altair-viz-dc9379fe19c941ef86a97a5885029997\");\n",
       "    }\n",
       "    const paths = {\n",
       "      \"vega\": \"https://cdn.jsdelivr.net/npm//vega@5?noext\",\n",
       "      \"vega-lib\": \"https://cdn.jsdelivr.net/npm//vega-lib?noext\",\n",
       "      \"vega-lite\": \"https://cdn.jsdelivr.net/npm//vega-lite@4.17.0?noext\",\n",
       "      \"vega-embed\": \"https://cdn.jsdelivr.net/npm//vega-embed@6?noext\",\n",
       "    };\n",
       "\n",
       "    function maybeLoadScript(lib, version) {\n",
       "      var key = `${lib.replace(\"-\", \"\")}_version`;\n",
       "      return (VEGA_DEBUG[key] == version) ?\n",
       "        Promise.resolve(paths[lib]) :\n",
       "        new Promise(function(resolve, reject) {\n",
       "          var s = document.createElement('script');\n",
       "          document.getElementsByTagName(\"head\")[0].appendChild(s);\n",
       "          s.async = true;\n",
       "          s.onload = () => {\n",
       "            VEGA_DEBUG[key] = version;\n",
       "            return resolve(paths[lib]);\n",
       "          };\n",
       "          s.onerror = () => reject(`Error loading script: ${paths[lib]}`);\n",
       "          s.src = paths[lib];\n",
       "        });\n",
       "    }\n",
       "\n",
       "    function showError(err) {\n",
       "      outputDiv.innerHTML = `<div class=\"error\" style=\"color:red;\">${err}</div>`;\n",
       "      throw err;\n",
       "    }\n",
       "\n",
       "    function displayChart(vegaEmbed) {\n",
       "      vegaEmbed(outputDiv, spec, embedOpt)\n",
       "        .catch(err => showError(`Javascript Error: ${err.message}<br>This usually means there's a typo in your chart specification. See the javascript console for the full traceback.`));\n",
       "    }\n",
       "\n",
       "    if(typeof define === \"function\" && define.amd) {\n",
       "      requirejs.config({paths});\n",
       "      require([\"vega-embed\"], displayChart, err => showError(`Error loading script: ${err.message}`));\n",
       "    } else {\n",
       "      maybeLoadScript(\"vega\", \"5\")\n",
       "        .then(() => maybeLoadScript(\"vega-lite\", \"4.17.0\"))\n",
       "        .then(() => maybeLoadScript(\"vega-embed\", \"6\"))\n",
       "        .catch(showError)\n",
       "        .then(() => displayChart(vegaEmbed));\n",
       "    }\n",
       "  })({\"config\": {\"view\": {\"continuousWidth\": 400, \"continuousHeight\": 300}}, \"data\": {\"name\": \"data-f1198cc0481ad698d7dc4699e0a3efa7\"}, \"mark\": \"text\", \"encoding\": {\"text\": {\"aggregate\": \"count\", \"type\": \"quantitative\"}, \"x\": {\"field\": \"model_year\", \"type\": \"ordinal\"}, \"y\": {\"field\": \"cylinders\", \"type\": \"ordinal\"}}, \"$schema\": \"https://vega.github.io/schema/vega-lite/v4.17.0.json\", \"datasets\": {\"data-f1198cc0481ad698d7dc4699e0a3efa7\": [{\"mpg\": 18.0, \"cylinders\": 8, \"displacement\": 307.0, \"horsepower\": 130.0, \"weight\": 3504, \"acceleration\": 12.0, \"model_year\": 70, \"origin\": \"usa\", \"name\": \"chevrolet chevelle malibu\"}, {\"mpg\": 15.0, \"cylinders\": 8, \"displacement\": 350.0, \"horsepower\": 165.0, \"weight\": 3693, \"acceleration\": 11.5, \"model_year\": 70, \"origin\": \"usa\", \"name\": \"buick skylark 320\"}, {\"mpg\": 18.0, \"cylinders\": 8, \"displacement\": 318.0, \"horsepower\": 150.0, \"weight\": 3436, \"acceleration\": 11.0, \"model_year\": 70, \"origin\": \"usa\", \"name\": \"plymouth satellite\"}, {\"mpg\": 16.0, \"cylinders\": 8, \"displacement\": 304.0, \"horsepower\": 150.0, \"weight\": 3433, \"acceleration\": 12.0, \"model_year\": 70, \"origin\": \"usa\", \"name\": \"amc rebel sst\"}, {\"mpg\": 17.0, \"cylinders\": 8, \"displacement\": 302.0, \"horsepower\": 140.0, \"weight\": 3449, \"acceleration\": 10.5, \"model_year\": 70, \"origin\": \"usa\", \"name\": \"ford torino\"}, {\"mpg\": 15.0, \"cylinders\": 8, \"displacement\": 429.0, \"horsepower\": 198.0, \"weight\": 4341, \"acceleration\": 10.0, \"model_year\": 70, \"origin\": \"usa\", \"name\": \"ford galaxie 500\"}, {\"mpg\": 14.0, \"cylinders\": 8, \"displacement\": 454.0, \"horsepower\": 220.0, \"weight\": 4354, \"acceleration\": 9.0, \"model_year\": 70, \"origin\": \"usa\", \"name\": \"chevrolet impala\"}, {\"mpg\": 14.0, \"cylinders\": 8, \"displacement\": 440.0, \"horsepower\": 215.0, \"weight\": 4312, \"acceleration\": 8.5, \"model_year\": 70, \"origin\": \"usa\", \"name\": \"plymouth fury iii\"}, {\"mpg\": 14.0, \"cylinders\": 8, \"displacement\": 455.0, \"horsepower\": 225.0, \"weight\": 4425, \"acceleration\": 10.0, \"model_year\": 70, \"origin\": \"usa\", \"name\": \"pontiac catalina\"}, {\"mpg\": 15.0, \"cylinders\": 8, \"displacement\": 390.0, \"horsepower\": 190.0, \"weight\": 3850, \"acceleration\": 8.5, \"model_year\": 70, \"origin\": \"usa\", \"name\": \"amc ambassador dpl\"}, {\"mpg\": 15.0, \"cylinders\": 8, \"displacement\": 383.0, \"horsepower\": 170.0, \"weight\": 3563, \"acceleration\": 10.0, \"model_year\": 70, \"origin\": \"usa\", \"name\": \"dodge challenger se\"}, {\"mpg\": 14.0, \"cylinders\": 8, \"displacement\": 340.0, \"horsepower\": 160.0, \"weight\": 3609, \"acceleration\": 8.0, \"model_year\": 70, \"origin\": \"usa\", \"name\": \"plymouth 'cuda 340\"}, {\"mpg\": 15.0, \"cylinders\": 8, \"displacement\": 400.0, \"horsepower\": 150.0, \"weight\": 3761, \"acceleration\": 9.5, \"model_year\": 70, \"origin\": \"usa\", \"name\": \"chevrolet monte carlo\"}, {\"mpg\": 14.0, \"cylinders\": 8, \"displacement\": 455.0, \"horsepower\": 225.0, \"weight\": 3086, \"acceleration\": 10.0, \"model_year\": 70, \"origin\": \"usa\", \"name\": \"buick estate wagon (sw)\"}, {\"mpg\": 24.0, \"cylinders\": 4, \"displacement\": 113.0, \"horsepower\": 95.0, \"weight\": 2372, \"acceleration\": 15.0, \"model_year\": 70, \"origin\": \"japan\", \"name\": \"toyota corona mark ii\"}, {\"mpg\": 22.0, \"cylinders\": 6, \"displacement\": 198.0, \"horsepower\": 95.0, \"weight\": 2833, \"acceleration\": 15.5, \"model_year\": 70, \"origin\": \"usa\", \"name\": \"plymouth duster\"}, {\"mpg\": 18.0, \"cylinders\": 6, \"displacement\": 199.0, \"horsepower\": 97.0, \"weight\": 2774, \"acceleration\": 15.5, \"model_year\": 70, \"origin\": \"usa\", \"name\": \"amc hornet\"}, {\"mpg\": 21.0, \"cylinders\": 6, \"displacement\": 200.0, \"horsepower\": 85.0, \"weight\": 2587, \"acceleration\": 16.0, \"model_year\": 70, \"origin\": \"usa\", \"name\": \"ford maverick\"}, {\"mpg\": 27.0, \"cylinders\": 4, \"displacement\": 97.0, \"horsepower\": 88.0, \"weight\": 2130, \"acceleration\": 14.5, \"model_year\": 70, \"origin\": \"japan\", \"name\": \"datsun pl510\"}, {\"mpg\": 26.0, \"cylinders\": 4, \"displacement\": 97.0, \"horsepower\": 46.0, \"weight\": 1835, \"acceleration\": 20.5, \"model_year\": 70, \"origin\": \"europe\", \"name\": \"volkswagen 1131 deluxe sedan\"}, {\"mpg\": 25.0, \"cylinders\": 4, \"displacement\": 110.0, \"horsepower\": 87.0, \"weight\": 2672, \"acceleration\": 17.5, \"model_year\": 70, \"origin\": \"europe\", \"name\": \"peugeot 504\"}, {\"mpg\": 24.0, \"cylinders\": 4, \"displacement\": 107.0, \"horsepower\": 90.0, \"weight\": 2430, \"acceleration\": 14.5, \"model_year\": 70, \"origin\": \"europe\", \"name\": \"audi 100 ls\"}, {\"mpg\": 25.0, \"cylinders\": 4, \"displacement\": 104.0, \"horsepower\": 95.0, \"weight\": 2375, \"acceleration\": 17.5, \"model_year\": 70, \"origin\": \"europe\", \"name\": \"saab 99e\"}, {\"mpg\": 26.0, \"cylinders\": 4, \"displacement\": 121.0, \"horsepower\": 113.0, \"weight\": 2234, \"acceleration\": 12.5, \"model_year\": 70, \"origin\": \"europe\", \"name\": \"bmw 2002\"}, {\"mpg\": 21.0, \"cylinders\": 6, \"displacement\": 199.0, \"horsepower\": 90.0, \"weight\": 2648, \"acceleration\": 15.0, \"model_year\": 70, \"origin\": \"usa\", \"name\": \"amc gremlin\"}, {\"mpg\": 10.0, \"cylinders\": 8, \"displacement\": 360.0, \"horsepower\": 215.0, \"weight\": 4615, \"acceleration\": 14.0, \"model_year\": 70, \"origin\": \"usa\", \"name\": \"ford f250\"}, {\"mpg\": 10.0, \"cylinders\": 8, \"displacement\": 307.0, \"horsepower\": 200.0, \"weight\": 4376, \"acceleration\": 15.0, \"model_year\": 70, \"origin\": \"usa\", \"name\": \"chevy c20\"}, {\"mpg\": 11.0, \"cylinders\": 8, \"displacement\": 318.0, \"horsepower\": 210.0, \"weight\": 4382, \"acceleration\": 13.5, \"model_year\": 70, \"origin\": \"usa\", \"name\": \"dodge d200\"}, {\"mpg\": 9.0, \"cylinders\": 8, \"displacement\": 304.0, \"horsepower\": 193.0, \"weight\": 4732, \"acceleration\": 18.5, \"model_year\": 70, \"origin\": \"usa\", \"name\": \"hi 1200d\"}, {\"mpg\": 27.0, \"cylinders\": 4, \"displacement\": 97.0, \"horsepower\": 88.0, \"weight\": 2130, \"acceleration\": 14.5, \"model_year\": 71, \"origin\": \"japan\", \"name\": \"datsun pl510\"}, {\"mpg\": 28.0, \"cylinders\": 4, \"displacement\": 140.0, \"horsepower\": 90.0, \"weight\": 2264, \"acceleration\": 15.5, \"model_year\": 71, \"origin\": \"usa\", \"name\": \"chevrolet vega 2300\"}, {\"mpg\": 25.0, \"cylinders\": 4, \"displacement\": 113.0, \"horsepower\": 95.0, \"weight\": 2228, \"acceleration\": 14.0, \"model_year\": 71, \"origin\": \"japan\", \"name\": \"toyota corona\"}, {\"mpg\": 25.0, \"cylinders\": 4, \"displacement\": 98.0, \"horsepower\": null, \"weight\": 2046, \"acceleration\": 19.0, \"model_year\": 71, \"origin\": \"usa\", \"name\": \"ford pinto\"}, {\"mpg\": 19.0, \"cylinders\": 6, \"displacement\": 232.0, \"horsepower\": 100.0, \"weight\": 2634, \"acceleration\": 13.0, \"model_year\": 71, \"origin\": \"usa\", \"name\": \"amc gremlin\"}, {\"mpg\": 16.0, \"cylinders\": 6, \"displacement\": 225.0, \"horsepower\": 105.0, \"weight\": 3439, \"acceleration\": 15.5, \"model_year\": 71, \"origin\": \"usa\", \"name\": \"plymouth satellite custom\"}, {\"mpg\": 17.0, \"cylinders\": 6, \"displacement\": 250.0, \"horsepower\": 100.0, \"weight\": 3329, \"acceleration\": 15.5, \"model_year\": 71, \"origin\": \"usa\", \"name\": \"chevrolet chevelle malibu\"}, {\"mpg\": 19.0, \"cylinders\": 6, \"displacement\": 250.0, \"horsepower\": 88.0, \"weight\": 3302, \"acceleration\": 15.5, \"model_year\": 71, \"origin\": \"usa\", \"name\": \"ford torino 500\"}, {\"mpg\": 18.0, \"cylinders\": 6, \"displacement\": 232.0, \"horsepower\": 100.0, \"weight\": 3288, \"acceleration\": 15.5, \"model_year\": 71, \"origin\": \"usa\", \"name\": \"amc matador\"}, {\"mpg\": 14.0, \"cylinders\": 8, \"displacement\": 350.0, \"horsepower\": 165.0, \"weight\": 4209, \"acceleration\": 12.0, \"model_year\": 71, \"origin\": \"usa\", \"name\": \"chevrolet impala\"}, {\"mpg\": 14.0, \"cylinders\": 8, \"displacement\": 400.0, \"horsepower\": 175.0, \"weight\": 4464, \"acceleration\": 11.5, \"model_year\": 71, \"origin\": \"usa\", \"name\": \"pontiac catalina brougham\"}, {\"mpg\": 14.0, \"cylinders\": 8, \"displacement\": 351.0, \"horsepower\": 153.0, \"weight\": 4154, \"acceleration\": 13.5, \"model_year\": 71, \"origin\": \"usa\", \"name\": \"ford galaxie 500\"}, {\"mpg\": 14.0, \"cylinders\": 8, \"displacement\": 318.0, \"horsepower\": 150.0, \"weight\": 4096, \"acceleration\": 13.0, \"model_year\": 71, \"origin\": \"usa\", \"name\": \"plymouth fury iii\"}, {\"mpg\": 12.0, \"cylinders\": 8, \"displacement\": 383.0, \"horsepower\": 180.0, \"weight\": 4955, \"acceleration\": 11.5, \"model_year\": 71, \"origin\": \"usa\", \"name\": \"dodge monaco (sw)\"}, {\"mpg\": 13.0, \"cylinders\": 8, \"displacement\": 400.0, \"horsepower\": 170.0, \"weight\": 4746, \"acceleration\": 12.0, \"model_year\": 71, \"origin\": \"usa\", \"name\": \"ford country squire (sw)\"}, {\"mpg\": 13.0, \"cylinders\": 8, \"displacement\": 400.0, \"horsepower\": 175.0, \"weight\": 5140, \"acceleration\": 12.0, \"model_year\": 71, \"origin\": \"usa\", \"name\": \"pontiac safari (sw)\"}, {\"mpg\": 18.0, \"cylinders\": 6, \"displacement\": 258.0, \"horsepower\": 110.0, \"weight\": 2962, \"acceleration\": 13.5, \"model_year\": 71, \"origin\": \"usa\", \"name\": \"amc hornet sportabout (sw)\"}, {\"mpg\": 22.0, \"cylinders\": 4, \"displacement\": 140.0, \"horsepower\": 72.0, \"weight\": 2408, \"acceleration\": 19.0, \"model_year\": 71, \"origin\": \"usa\", \"name\": \"chevrolet vega (sw)\"}, {\"mpg\": 19.0, \"cylinders\": 6, \"displacement\": 250.0, \"horsepower\": 100.0, \"weight\": 3282, \"acceleration\": 15.0, \"model_year\": 71, \"origin\": \"usa\", \"name\": \"pontiac firebird\"}, {\"mpg\": 18.0, \"cylinders\": 6, \"displacement\": 250.0, \"horsepower\": 88.0, \"weight\": 3139, \"acceleration\": 14.5, \"model_year\": 71, \"origin\": \"usa\", \"name\": \"ford mustang\"}, {\"mpg\": 23.0, \"cylinders\": 4, \"displacement\": 122.0, \"horsepower\": 86.0, \"weight\": 2220, \"acceleration\": 14.0, \"model_year\": 71, \"origin\": \"usa\", \"name\": \"mercury capri 2000\"}, {\"mpg\": 28.0, \"cylinders\": 4, \"displacement\": 116.0, \"horsepower\": 90.0, \"weight\": 2123, \"acceleration\": 14.0, \"model_year\": 71, \"origin\": \"europe\", \"name\": \"opel 1900\"}, {\"mpg\": 30.0, \"cylinders\": 4, \"displacement\": 79.0, \"horsepower\": 70.0, \"weight\": 2074, \"acceleration\": 19.5, \"model_year\": 71, \"origin\": \"europe\", \"name\": \"peugeot 304\"}, {\"mpg\": 30.0, \"cylinders\": 4, \"displacement\": 88.0, \"horsepower\": 76.0, \"weight\": 2065, \"acceleration\": 14.5, \"model_year\": 71, \"origin\": \"europe\", \"name\": \"fiat 124b\"}, {\"mpg\": 31.0, \"cylinders\": 4, \"displacement\": 71.0, \"horsepower\": 65.0, \"weight\": 1773, \"acceleration\": 19.0, \"model_year\": 71, \"origin\": \"japan\", \"name\": \"toyota corolla 1200\"}, {\"mpg\": 35.0, \"cylinders\": 4, \"displacement\": 72.0, \"horsepower\": 69.0, \"weight\": 1613, \"acceleration\": 18.0, \"model_year\": 71, \"origin\": \"japan\", \"name\": \"datsun 1200\"}, {\"mpg\": 27.0, \"cylinders\": 4, \"displacement\": 97.0, \"horsepower\": 60.0, \"weight\": 1834, \"acceleration\": 19.0, \"model_year\": 71, \"origin\": \"europe\", \"name\": \"volkswagen model 111\"}, {\"mpg\": 26.0, \"cylinders\": 4, \"displacement\": 91.0, \"horsepower\": 70.0, \"weight\": 1955, \"acceleration\": 20.5, \"model_year\": 71, \"origin\": \"usa\", \"name\": \"plymouth cricket\"}, {\"mpg\": 24.0, \"cylinders\": 4, \"displacement\": 113.0, \"horsepower\": 95.0, \"weight\": 2278, \"acceleration\": 15.5, \"model_year\": 72, \"origin\": \"japan\", \"name\": \"toyota corona hardtop\"}, {\"mpg\": 25.0, \"cylinders\": 4, \"displacement\": 97.5, \"horsepower\": 80.0, \"weight\": 2126, \"acceleration\": 17.0, \"model_year\": 72, \"origin\": \"usa\", \"name\": \"dodge colt hardtop\"}, {\"mpg\": 23.0, \"cylinders\": 4, \"displacement\": 97.0, \"horsepower\": 54.0, \"weight\": 2254, \"acceleration\": 23.5, \"model_year\": 72, \"origin\": \"europe\", \"name\": \"volkswagen type 3\"}, {\"mpg\": 20.0, \"cylinders\": 4, \"displacement\": 140.0, \"horsepower\": 90.0, \"weight\": 2408, \"acceleration\": 19.5, \"model_year\": 72, \"origin\": \"usa\", \"name\": \"chevrolet vega\"}, {\"mpg\": 21.0, \"cylinders\": 4, \"displacement\": 122.0, \"horsepower\": 86.0, \"weight\": 2226, \"acceleration\": 16.5, \"model_year\": 72, \"origin\": \"usa\", \"name\": \"ford pinto runabout\"}, {\"mpg\": 13.0, \"cylinders\": 8, \"displacement\": 350.0, \"horsepower\": 165.0, \"weight\": 4274, \"acceleration\": 12.0, \"model_year\": 72, \"origin\": \"usa\", \"name\": \"chevrolet impala\"}, {\"mpg\": 14.0, \"cylinders\": 8, \"displacement\": 400.0, \"horsepower\": 175.0, \"weight\": 4385, \"acceleration\": 12.0, \"model_year\": 72, \"origin\": \"usa\", \"name\": \"pontiac catalina\"}, {\"mpg\": 15.0, \"cylinders\": 8, \"displacement\": 318.0, \"horsepower\": 150.0, \"weight\": 4135, \"acceleration\": 13.5, \"model_year\": 72, \"origin\": \"usa\", \"name\": \"plymouth fury iii\"}, {\"mpg\": 14.0, \"cylinders\": 8, \"displacement\": 351.0, \"horsepower\": 153.0, \"weight\": 4129, \"acceleration\": 13.0, \"model_year\": 72, \"origin\": \"usa\", \"name\": \"ford galaxie 500\"}, {\"mpg\": 17.0, \"cylinders\": 8, \"displacement\": 304.0, \"horsepower\": 150.0, \"weight\": 3672, \"acceleration\": 11.5, \"model_year\": 72, \"origin\": \"usa\", \"name\": \"amc ambassador sst\"}, {\"mpg\": 11.0, \"cylinders\": 8, \"displacement\": 429.0, \"horsepower\": 208.0, \"weight\": 4633, \"acceleration\": 11.0, \"model_year\": 72, \"origin\": \"usa\", \"name\": \"mercury marquis\"}, {\"mpg\": 13.0, \"cylinders\": 8, \"displacement\": 350.0, \"horsepower\": 155.0, \"weight\": 4502, \"acceleration\": 13.5, \"model_year\": 72, \"origin\": \"usa\", \"name\": \"buick lesabre custom\"}, {\"mpg\": 12.0, \"cylinders\": 8, \"displacement\": 350.0, \"horsepower\": 160.0, \"weight\": 4456, \"acceleration\": 13.5, \"model_year\": 72, \"origin\": \"usa\", \"name\": \"oldsmobile delta 88 royale\"}, {\"mpg\": 13.0, \"cylinders\": 8, \"displacement\": 400.0, \"horsepower\": 190.0, \"weight\": 4422, \"acceleration\": 12.5, \"model_year\": 72, \"origin\": \"usa\", \"name\": \"chrysler newport royal\"}, {\"mpg\": 19.0, \"cylinders\": 3, \"displacement\": 70.0, \"horsepower\": 97.0, \"weight\": 2330, \"acceleration\": 13.5, \"model_year\": 72, \"origin\": \"japan\", \"name\": \"mazda rx2 coupe\"}, {\"mpg\": 15.0, \"cylinders\": 8, \"displacement\": 304.0, \"horsepower\": 150.0, \"weight\": 3892, \"acceleration\": 12.5, \"model_year\": 72, \"origin\": \"usa\", \"name\": \"amc matador (sw)\"}, {\"mpg\": 13.0, \"cylinders\": 8, \"displacement\": 307.0, \"horsepower\": 130.0, \"weight\": 4098, \"acceleration\": 14.0, \"model_year\": 72, \"origin\": \"usa\", \"name\": \"chevrolet chevelle concours (sw)\"}, {\"mpg\": 13.0, \"cylinders\": 8, \"displacement\": 302.0, \"horsepower\": 140.0, \"weight\": 4294, \"acceleration\": 16.0, \"model_year\": 72, \"origin\": \"usa\", \"name\": \"ford gran torino (sw)\"}, {\"mpg\": 14.0, \"cylinders\": 8, \"displacement\": 318.0, \"horsepower\": 150.0, \"weight\": 4077, \"acceleration\": 14.0, \"model_year\": 72, \"origin\": \"usa\", \"name\": \"plymouth satellite custom (sw)\"}, {\"mpg\": 18.0, \"cylinders\": 4, \"displacement\": 121.0, \"horsepower\": 112.0, \"weight\": 2933, \"acceleration\": 14.5, \"model_year\": 72, \"origin\": \"europe\", \"name\": \"volvo 145e (sw)\"}, {\"mpg\": 22.0, \"cylinders\": 4, \"displacement\": 121.0, \"horsepower\": 76.0, \"weight\": 2511, \"acceleration\": 18.0, \"model_year\": 72, \"origin\": \"europe\", \"name\": \"volkswagen 411 (sw)\"}, {\"mpg\": 21.0, \"cylinders\": 4, \"displacement\": 120.0, \"horsepower\": 87.0, \"weight\": 2979, \"acceleration\": 19.5, \"model_year\": 72, \"origin\": \"europe\", \"name\": \"peugeot 504 (sw)\"}, {\"mpg\": 26.0, \"cylinders\": 4, \"displacement\": 96.0, \"horsepower\": 69.0, \"weight\": 2189, \"acceleration\": 18.0, \"model_year\": 72, \"origin\": \"europe\", \"name\": \"renault 12 (sw)\"}, {\"mpg\": 22.0, \"cylinders\": 4, \"displacement\": 122.0, \"horsepower\": 86.0, \"weight\": 2395, \"acceleration\": 16.0, \"model_year\": 72, \"origin\": \"usa\", \"name\": \"ford pinto (sw)\"}, {\"mpg\": 28.0, \"cylinders\": 4, \"displacement\": 97.0, \"horsepower\": 92.0, \"weight\": 2288, \"acceleration\": 17.0, \"model_year\": 72, \"origin\": \"japan\", \"name\": \"datsun 510 (sw)\"}, {\"mpg\": 23.0, \"cylinders\": 4, \"displacement\": 120.0, \"horsepower\": 97.0, \"weight\": 2506, \"acceleration\": 14.5, \"model_year\": 72, \"origin\": \"japan\", \"name\": \"toyouta corona mark ii (sw)\"}, {\"mpg\": 28.0, \"cylinders\": 4, \"displacement\": 98.0, \"horsepower\": 80.0, \"weight\": 2164, \"acceleration\": 15.0, \"model_year\": 72, \"origin\": \"usa\", \"name\": \"dodge colt (sw)\"}, {\"mpg\": 27.0, \"cylinders\": 4, \"displacement\": 97.0, \"horsepower\": 88.0, \"weight\": 2100, \"acceleration\": 16.5, \"model_year\": 72, \"origin\": \"japan\", \"name\": \"toyota corolla 1600 (sw)\"}, {\"mpg\": 13.0, \"cylinders\": 8, \"displacement\": 350.0, \"horsepower\": 175.0, \"weight\": 4100, \"acceleration\": 13.0, \"model_year\": 73, \"origin\": \"usa\", \"name\": \"buick century 350\"}, {\"mpg\": 14.0, \"cylinders\": 8, \"displacement\": 304.0, \"horsepower\": 150.0, \"weight\": 3672, \"acceleration\": 11.5, \"model_year\": 73, \"origin\": \"usa\", \"name\": \"amc matador\"}, {\"mpg\": 13.0, \"cylinders\": 8, \"displacement\": 350.0, \"horsepower\": 145.0, \"weight\": 3988, \"acceleration\": 13.0, \"model_year\": 73, \"origin\": \"usa\", \"name\": \"chevrolet malibu\"}, {\"mpg\": 14.0, \"cylinders\": 8, \"displacement\": 302.0, \"horsepower\": 137.0, \"weight\": 4042, \"acceleration\": 14.5, \"model_year\": 73, \"origin\": \"usa\", \"name\": \"ford gran torino\"}, {\"mpg\": 15.0, \"cylinders\": 8, \"displacement\": 318.0, \"horsepower\": 150.0, \"weight\": 3777, \"acceleration\": 12.5, \"model_year\": 73, \"origin\": \"usa\", \"name\": \"dodge coronet custom\"}, {\"mpg\": 12.0, \"cylinders\": 8, \"displacement\": 429.0, \"horsepower\": 198.0, \"weight\": 4952, \"acceleration\": 11.5, \"model_year\": 73, \"origin\": \"usa\", \"name\": \"mercury marquis brougham\"}, {\"mpg\": 13.0, \"cylinders\": 8, \"displacement\": 400.0, \"horsepower\": 150.0, \"weight\": 4464, \"acceleration\": 12.0, \"model_year\": 73, \"origin\": \"usa\", \"name\": \"chevrolet caprice classic\"}, {\"mpg\": 13.0, \"cylinders\": 8, \"displacement\": 351.0, \"horsepower\": 158.0, \"weight\": 4363, \"acceleration\": 13.0, \"model_year\": 73, \"origin\": \"usa\", \"name\": \"ford ltd\"}, {\"mpg\": 14.0, \"cylinders\": 8, \"displacement\": 318.0, \"horsepower\": 150.0, \"weight\": 4237, \"acceleration\": 14.5, \"model_year\": 73, \"origin\": \"usa\", \"name\": \"plymouth fury gran sedan\"}, {\"mpg\": 13.0, \"cylinders\": 8, \"displacement\": 440.0, \"horsepower\": 215.0, \"weight\": 4735, \"acceleration\": 11.0, \"model_year\": 73, \"origin\": \"usa\", \"name\": \"chrysler new yorker brougham\"}, {\"mpg\": 12.0, \"cylinders\": 8, \"displacement\": 455.0, \"horsepower\": 225.0, \"weight\": 4951, \"acceleration\": 11.0, \"model_year\": 73, \"origin\": \"usa\", \"name\": \"buick electra 225 custom\"}, {\"mpg\": 13.0, \"cylinders\": 8, \"displacement\": 360.0, \"horsepower\": 175.0, \"weight\": 3821, \"acceleration\": 11.0, \"model_year\": 73, \"origin\": \"usa\", \"name\": \"amc ambassador brougham\"}, {\"mpg\": 18.0, \"cylinders\": 6, \"displacement\": 225.0, \"horsepower\": 105.0, \"weight\": 3121, \"acceleration\": 16.5, \"model_year\": 73, \"origin\": \"usa\", \"name\": \"plymouth valiant\"}, {\"mpg\": 16.0, \"cylinders\": 6, \"displacement\": 250.0, \"horsepower\": 100.0, \"weight\": 3278, \"acceleration\": 18.0, \"model_year\": 73, \"origin\": \"usa\", \"name\": \"chevrolet nova custom\"}, {\"mpg\": 18.0, \"cylinders\": 6, \"displacement\": 232.0, \"horsepower\": 100.0, \"weight\": 2945, \"acceleration\": 16.0, \"model_year\": 73, \"origin\": \"usa\", \"name\": \"amc hornet\"}, {\"mpg\": 18.0, \"cylinders\": 6, \"displacement\": 250.0, \"horsepower\": 88.0, \"weight\": 3021, \"acceleration\": 16.5, \"model_year\": 73, \"origin\": \"usa\", \"name\": \"ford maverick\"}, {\"mpg\": 23.0, \"cylinders\": 6, \"displacement\": 198.0, \"horsepower\": 95.0, \"weight\": 2904, \"acceleration\": 16.0, \"model_year\": 73, \"origin\": \"usa\", \"name\": \"plymouth duster\"}, {\"mpg\": 26.0, \"cylinders\": 4, \"displacement\": 97.0, \"horsepower\": 46.0, \"weight\": 1950, \"acceleration\": 21.0, \"model_year\": 73, \"origin\": \"europe\", \"name\": \"volkswagen super beetle\"}, {\"mpg\": 11.0, \"cylinders\": 8, \"displacement\": 400.0, \"horsepower\": 150.0, \"weight\": 4997, \"acceleration\": 14.0, \"model_year\": 73, \"origin\": \"usa\", \"name\": \"chevrolet impala\"}, {\"mpg\": 12.0, \"cylinders\": 8, \"displacement\": 400.0, \"horsepower\": 167.0, \"weight\": 4906, \"acceleration\": 12.5, \"model_year\": 73, \"origin\": \"usa\", \"name\": \"ford country\"}, {\"mpg\": 13.0, \"cylinders\": 8, \"displacement\": 360.0, \"horsepower\": 170.0, \"weight\": 4654, \"acceleration\": 13.0, \"model_year\": 73, \"origin\": \"usa\", \"name\": \"plymouth custom suburb\"}, {\"mpg\": 12.0, \"cylinders\": 8, \"displacement\": 350.0, \"horsepower\": 180.0, \"weight\": 4499, \"acceleration\": 12.5, \"model_year\": 73, \"origin\": \"usa\", \"name\": \"oldsmobile vista cruiser\"}, {\"mpg\": 18.0, \"cylinders\": 6, \"displacement\": 232.0, \"horsepower\": 100.0, \"weight\": 2789, \"acceleration\": 15.0, \"model_year\": 73, \"origin\": \"usa\", \"name\": \"amc gremlin\"}, {\"mpg\": 20.0, \"cylinders\": 4, \"displacement\": 97.0, \"horsepower\": 88.0, \"weight\": 2279, \"acceleration\": 19.0, \"model_year\": 73, \"origin\": \"japan\", \"name\": \"toyota carina\"}, {\"mpg\": 21.0, \"cylinders\": 4, \"displacement\": 140.0, \"horsepower\": 72.0, \"weight\": 2401, \"acceleration\": 19.5, \"model_year\": 73, \"origin\": \"usa\", \"name\": \"chevrolet vega\"}, {\"mpg\": 22.0, \"cylinders\": 4, \"displacement\": 108.0, \"horsepower\": 94.0, \"weight\": 2379, \"acceleration\": 16.5, \"model_year\": 73, \"origin\": \"japan\", \"name\": \"datsun 610\"}, {\"mpg\": 18.0, \"cylinders\": 3, \"displacement\": 70.0, \"horsepower\": 90.0, \"weight\": 2124, \"acceleration\": 13.5, \"model_year\": 73, \"origin\": \"japan\", \"name\": \"maxda rx3\"}, {\"mpg\": 19.0, \"cylinders\": 4, \"displacement\": 122.0, \"horsepower\": 85.0, \"weight\": 2310, \"acceleration\": 18.5, \"model_year\": 73, \"origin\": \"usa\", \"name\": \"ford pinto\"}, {\"mpg\": 21.0, \"cylinders\": 6, \"displacement\": 155.0, \"horsepower\": 107.0, \"weight\": 2472, \"acceleration\": 14.0, \"model_year\": 73, \"origin\": \"usa\", \"name\": \"mercury capri v6\"}, {\"mpg\": 26.0, \"cylinders\": 4, \"displacement\": 98.0, \"horsepower\": 90.0, \"weight\": 2265, \"acceleration\": 15.5, \"model_year\": 73, \"origin\": \"europe\", \"name\": \"fiat 124 sport coupe\"}, {\"mpg\": 15.0, \"cylinders\": 8, \"displacement\": 350.0, \"horsepower\": 145.0, \"weight\": 4082, \"acceleration\": 13.0, \"model_year\": 73, \"origin\": \"usa\", \"name\": \"chevrolet monte carlo s\"}, {\"mpg\": 16.0, \"cylinders\": 8, \"displacement\": 400.0, \"horsepower\": 230.0, \"weight\": 4278, \"acceleration\": 9.5, \"model_year\": 73, \"origin\": \"usa\", \"name\": \"pontiac grand prix\"}, {\"mpg\": 29.0, \"cylinders\": 4, \"displacement\": 68.0, \"horsepower\": 49.0, \"weight\": 1867, \"acceleration\": 19.5, \"model_year\": 73, \"origin\": \"europe\", \"name\": \"fiat 128\"}, {\"mpg\": 24.0, \"cylinders\": 4, \"displacement\": 116.0, \"horsepower\": 75.0, \"weight\": 2158, \"acceleration\": 15.5, \"model_year\": 73, \"origin\": \"europe\", \"name\": \"opel manta\"}, {\"mpg\": 20.0, \"cylinders\": 4, \"displacement\": 114.0, \"horsepower\": 91.0, \"weight\": 2582, \"acceleration\": 14.0, \"model_year\": 73, \"origin\": \"europe\", \"name\": \"audi 100ls\"}, {\"mpg\": 19.0, \"cylinders\": 4, \"displacement\": 121.0, \"horsepower\": 112.0, \"weight\": 2868, \"acceleration\": 15.5, \"model_year\": 73, \"origin\": \"europe\", \"name\": \"volvo 144ea\"}, {\"mpg\": 15.0, \"cylinders\": 8, \"displacement\": 318.0, \"horsepower\": 150.0, \"weight\": 3399, \"acceleration\": 11.0, \"model_year\": 73, \"origin\": \"usa\", \"name\": \"dodge dart custom\"}, {\"mpg\": 24.0, \"cylinders\": 4, \"displacement\": 121.0, \"horsepower\": 110.0, \"weight\": 2660, \"acceleration\": 14.0, \"model_year\": 73, \"origin\": \"europe\", \"name\": \"saab 99le\"}, {\"mpg\": 20.0, \"cylinders\": 6, \"displacement\": 156.0, \"horsepower\": 122.0, \"weight\": 2807, \"acceleration\": 13.5, \"model_year\": 73, \"origin\": \"japan\", \"name\": \"toyota mark ii\"}, {\"mpg\": 11.0, \"cylinders\": 8, \"displacement\": 350.0, \"horsepower\": 180.0, \"weight\": 3664, \"acceleration\": 11.0, \"model_year\": 73, \"origin\": \"usa\", \"name\": \"oldsmobile omega\"}, {\"mpg\": 20.0, \"cylinders\": 6, \"displacement\": 198.0, \"horsepower\": 95.0, \"weight\": 3102, \"acceleration\": 16.5, \"model_year\": 74, \"origin\": \"usa\", \"name\": \"plymouth duster\"}, {\"mpg\": 21.0, \"cylinders\": 6, \"displacement\": 200.0, \"horsepower\": null, \"weight\": 2875, \"acceleration\": 17.0, \"model_year\": 74, \"origin\": \"usa\", \"name\": \"ford maverick\"}, {\"mpg\": 19.0, \"cylinders\": 6, \"displacement\": 232.0, \"horsepower\": 100.0, \"weight\": 2901, \"acceleration\": 16.0, \"model_year\": 74, \"origin\": \"usa\", \"name\": \"amc hornet\"}, {\"mpg\": 15.0, \"cylinders\": 6, \"displacement\": 250.0, \"horsepower\": 100.0, \"weight\": 3336, \"acceleration\": 17.0, \"model_year\": 74, \"origin\": \"usa\", \"name\": \"chevrolet nova\"}, {\"mpg\": 31.0, \"cylinders\": 4, \"displacement\": 79.0, \"horsepower\": 67.0, \"weight\": 1950, \"acceleration\": 19.0, \"model_year\": 74, \"origin\": \"japan\", \"name\": \"datsun b210\"}, {\"mpg\": 26.0, \"cylinders\": 4, \"displacement\": 122.0, \"horsepower\": 80.0, \"weight\": 2451, \"acceleration\": 16.5, \"model_year\": 74, \"origin\": \"usa\", \"name\": \"ford pinto\"}, {\"mpg\": 32.0, \"cylinders\": 4, \"displacement\": 71.0, \"horsepower\": 65.0, \"weight\": 1836, \"acceleration\": 21.0, \"model_year\": 74, \"origin\": \"japan\", \"name\": \"toyota corolla 1200\"}, {\"mpg\": 25.0, \"cylinders\": 4, \"displacement\": 140.0, \"horsepower\": 75.0, \"weight\": 2542, \"acceleration\": 17.0, \"model_year\": 74, \"origin\": \"usa\", \"name\": \"chevrolet vega\"}, {\"mpg\": 16.0, \"cylinders\": 6, \"displacement\": 250.0, \"horsepower\": 100.0, \"weight\": 3781, \"acceleration\": 17.0, \"model_year\": 74, \"origin\": \"usa\", \"name\": \"chevrolet chevelle malibu classic\"}, {\"mpg\": 16.0, \"cylinders\": 6, \"displacement\": 258.0, \"horsepower\": 110.0, \"weight\": 3632, \"acceleration\": 18.0, \"model_year\": 74, \"origin\": \"usa\", \"name\": \"amc matador\"}, {\"mpg\": 18.0, \"cylinders\": 6, \"displacement\": 225.0, \"horsepower\": 105.0, \"weight\": 3613, \"acceleration\": 16.5, \"model_year\": 74, \"origin\": \"usa\", \"name\": \"plymouth satellite sebring\"}, {\"mpg\": 16.0, \"cylinders\": 8, \"displacement\": 302.0, \"horsepower\": 140.0, \"weight\": 4141, \"acceleration\": 14.0, \"model_year\": 74, \"origin\": \"usa\", \"name\": \"ford gran torino\"}, {\"mpg\": 13.0, \"cylinders\": 8, \"displacement\": 350.0, \"horsepower\": 150.0, \"weight\": 4699, \"acceleration\": 14.5, \"model_year\": 74, \"origin\": \"usa\", \"name\": \"buick century luxus (sw)\"}, {\"mpg\": 14.0, \"cylinders\": 8, \"displacement\": 318.0, \"horsepower\": 150.0, \"weight\": 4457, \"acceleration\": 13.5, \"model_year\": 74, \"origin\": \"usa\", \"name\": \"dodge coronet custom (sw)\"}, {\"mpg\": 14.0, \"cylinders\": 8, \"displacement\": 302.0, \"horsepower\": 140.0, \"weight\": 4638, \"acceleration\": 16.0, \"model_year\": 74, \"origin\": \"usa\", \"name\": \"ford gran torino (sw)\"}, {\"mpg\": 14.0, \"cylinders\": 8, \"displacement\": 304.0, \"horsepower\": 150.0, \"weight\": 4257, \"acceleration\": 15.5, \"model_year\": 74, \"origin\": \"usa\", \"name\": \"amc matador (sw)\"}, {\"mpg\": 29.0, \"cylinders\": 4, \"displacement\": 98.0, \"horsepower\": 83.0, \"weight\": 2219, \"acceleration\": 16.5, \"model_year\": 74, \"origin\": \"europe\", \"name\": \"audi fox\"}, {\"mpg\": 26.0, \"cylinders\": 4, \"displacement\": 79.0, \"horsepower\": 67.0, \"weight\": 1963, \"acceleration\": 15.5, \"model_year\": 74, \"origin\": \"europe\", \"name\": \"volkswagen dasher\"}, {\"mpg\": 26.0, \"cylinders\": 4, \"displacement\": 97.0, \"horsepower\": 78.0, \"weight\": 2300, \"acceleration\": 14.5, \"model_year\": 74, \"origin\": \"europe\", \"name\": \"opel manta\"}, {\"mpg\": 31.0, \"cylinders\": 4, \"displacement\": 76.0, \"horsepower\": 52.0, \"weight\": 1649, \"acceleration\": 16.5, \"model_year\": 74, \"origin\": \"japan\", \"name\": \"toyota corona\"}, {\"mpg\": 32.0, \"cylinders\": 4, \"displacement\": 83.0, \"horsepower\": 61.0, \"weight\": 2003, \"acceleration\": 19.0, \"model_year\": 74, \"origin\": \"japan\", \"name\": \"datsun 710\"}, {\"mpg\": 28.0, \"cylinders\": 4, \"displacement\": 90.0, \"horsepower\": 75.0, \"weight\": 2125, \"acceleration\": 14.5, \"model_year\": 74, \"origin\": \"usa\", \"name\": \"dodge colt\"}, {\"mpg\": 24.0, \"cylinders\": 4, \"displacement\": 90.0, \"horsepower\": 75.0, \"weight\": 2108, \"acceleration\": 15.5, \"model_year\": 74, \"origin\": \"europe\", \"name\": \"fiat 128\"}, {\"mpg\": 26.0, \"cylinders\": 4, \"displacement\": 116.0, \"horsepower\": 75.0, \"weight\": 2246, \"acceleration\": 14.0, \"model_year\": 74, \"origin\": \"europe\", \"name\": \"fiat 124 tc\"}, {\"mpg\": 24.0, \"cylinders\": 4, \"displacement\": 120.0, \"horsepower\": 97.0, \"weight\": 2489, \"acceleration\": 15.0, \"model_year\": 74, \"origin\": \"japan\", \"name\": \"honda civic\"}, {\"mpg\": 26.0, \"cylinders\": 4, \"displacement\": 108.0, \"horsepower\": 93.0, \"weight\": 2391, \"acceleration\": 15.5, \"model_year\": 74, \"origin\": \"japan\", \"name\": \"subaru\"}, {\"mpg\": 31.0, \"cylinders\": 4, \"displacement\": 79.0, \"horsepower\": 67.0, \"weight\": 2000, \"acceleration\": 16.0, \"model_year\": 74, \"origin\": \"europe\", \"name\": \"fiat x1.9\"}, {\"mpg\": 19.0, \"cylinders\": 6, \"displacement\": 225.0, \"horsepower\": 95.0, \"weight\": 3264, \"acceleration\": 16.0, \"model_year\": 75, \"origin\": \"usa\", \"name\": \"plymouth valiant custom\"}, {\"mpg\": 18.0, \"cylinders\": 6, \"displacement\": 250.0, \"horsepower\": 105.0, \"weight\": 3459, \"acceleration\": 16.0, \"model_year\": 75, \"origin\": \"usa\", \"name\": \"chevrolet nova\"}, {\"mpg\": 15.0, \"cylinders\": 6, \"displacement\": 250.0, \"horsepower\": 72.0, \"weight\": 3432, \"acceleration\": 21.0, \"model_year\": 75, \"origin\": \"usa\", \"name\": \"mercury monarch\"}, {\"mpg\": 15.0, \"cylinders\": 6, \"displacement\": 250.0, \"horsepower\": 72.0, \"weight\": 3158, \"acceleration\": 19.5, \"model_year\": 75, \"origin\": \"usa\", \"name\": \"ford maverick\"}, {\"mpg\": 16.0, \"cylinders\": 8, \"displacement\": 400.0, \"horsepower\": 170.0, \"weight\": 4668, \"acceleration\": 11.5, \"model_year\": 75, \"origin\": \"usa\", \"name\": \"pontiac catalina\"}, {\"mpg\": 15.0, \"cylinders\": 8, \"displacement\": 350.0, \"horsepower\": 145.0, \"weight\": 4440, \"acceleration\": 14.0, \"model_year\": 75, \"origin\": \"usa\", \"name\": \"chevrolet bel air\"}, {\"mpg\": 16.0, \"cylinders\": 8, \"displacement\": 318.0, \"horsepower\": 150.0, \"weight\": 4498, \"acceleration\": 14.5, \"model_year\": 75, \"origin\": \"usa\", \"name\": \"plymouth grand fury\"}, {\"mpg\": 14.0, \"cylinders\": 8, \"displacement\": 351.0, \"horsepower\": 148.0, \"weight\": 4657, \"acceleration\": 13.5, \"model_year\": 75, \"origin\": \"usa\", \"name\": \"ford ltd\"}, {\"mpg\": 17.0, \"cylinders\": 6, \"displacement\": 231.0, \"horsepower\": 110.0, \"weight\": 3907, \"acceleration\": 21.0, \"model_year\": 75, \"origin\": \"usa\", \"name\": \"buick century\"}, {\"mpg\": 16.0, \"cylinders\": 6, \"displacement\": 250.0, \"horsepower\": 105.0, \"weight\": 3897, \"acceleration\": 18.5, \"model_year\": 75, \"origin\": \"usa\", \"name\": \"chevroelt chevelle malibu\"}, {\"mpg\": 15.0, \"cylinders\": 6, \"displacement\": 258.0, \"horsepower\": 110.0, \"weight\": 3730, \"acceleration\": 19.0, \"model_year\": 75, \"origin\": \"usa\", \"name\": \"amc matador\"}, {\"mpg\": 18.0, \"cylinders\": 6, \"displacement\": 225.0, \"horsepower\": 95.0, \"weight\": 3785, \"acceleration\": 19.0, \"model_year\": 75, \"origin\": \"usa\", \"name\": \"plymouth fury\"}, {\"mpg\": 21.0, \"cylinders\": 6, \"displacement\": 231.0, \"horsepower\": 110.0, \"weight\": 3039, \"acceleration\": 15.0, \"model_year\": 75, \"origin\": \"usa\", \"name\": \"buick skyhawk\"}, {\"mpg\": 20.0, \"cylinders\": 8, \"displacement\": 262.0, \"horsepower\": 110.0, \"weight\": 3221, \"acceleration\": 13.5, \"model_year\": 75, \"origin\": \"usa\", \"name\": \"chevrolet monza 2+2\"}, {\"mpg\": 13.0, \"cylinders\": 8, \"displacement\": 302.0, \"horsepower\": 129.0, \"weight\": 3169, \"acceleration\": 12.0, \"model_year\": 75, \"origin\": \"usa\", \"name\": \"ford mustang ii\"}, {\"mpg\": 29.0, \"cylinders\": 4, \"displacement\": 97.0, \"horsepower\": 75.0, \"weight\": 2171, \"acceleration\": 16.0, \"model_year\": 75, \"origin\": \"japan\", \"name\": \"toyota corolla\"}, {\"mpg\": 23.0, \"cylinders\": 4, \"displacement\": 140.0, \"horsepower\": 83.0, \"weight\": 2639, \"acceleration\": 17.0, \"model_year\": 75, \"origin\": \"usa\", \"name\": \"ford pinto\"}, {\"mpg\": 20.0, \"cylinders\": 6, \"displacement\": 232.0, \"horsepower\": 100.0, \"weight\": 2914, \"acceleration\": 16.0, \"model_year\": 75, \"origin\": \"usa\", \"name\": \"amc gremlin\"}, {\"mpg\": 23.0, \"cylinders\": 4, \"displacement\": 140.0, \"horsepower\": 78.0, \"weight\": 2592, \"acceleration\": 18.5, \"model_year\": 75, \"origin\": \"usa\", \"name\": \"pontiac astro\"}, {\"mpg\": 24.0, \"cylinders\": 4, \"displacement\": 134.0, \"horsepower\": 96.0, \"weight\": 2702, \"acceleration\": 13.5, \"model_year\": 75, \"origin\": \"japan\", \"name\": \"toyota corona\"}, {\"mpg\": 25.0, \"cylinders\": 4, \"displacement\": 90.0, \"horsepower\": 71.0, \"weight\": 2223, \"acceleration\": 16.5, \"model_year\": 75, \"origin\": \"europe\", \"name\": \"volkswagen dasher\"}, {\"mpg\": 24.0, \"cylinders\": 4, \"displacement\": 119.0, \"horsepower\": 97.0, \"weight\": 2545, \"acceleration\": 17.0, \"model_year\": 75, \"origin\": \"japan\", \"name\": \"datsun 710\"}, {\"mpg\": 18.0, \"cylinders\": 6, \"displacement\": 171.0, \"horsepower\": 97.0, \"weight\": 2984, \"acceleration\": 14.5, \"model_year\": 75, \"origin\": \"usa\", \"name\": \"ford pinto\"}, {\"mpg\": 29.0, \"cylinders\": 4, \"displacement\": 90.0, \"horsepower\": 70.0, \"weight\": 1937, \"acceleration\": 14.0, \"model_year\": 75, \"origin\": \"europe\", \"name\": \"volkswagen rabbit\"}, {\"mpg\": 19.0, \"cylinders\": 6, \"displacement\": 232.0, \"horsepower\": 90.0, \"weight\": 3211, \"acceleration\": 17.0, \"model_year\": 75, \"origin\": \"usa\", \"name\": \"amc pacer\"}, {\"mpg\": 23.0, \"cylinders\": 4, \"displacement\": 115.0, \"horsepower\": 95.0, \"weight\": 2694, \"acceleration\": 15.0, \"model_year\": 75, \"origin\": \"europe\", \"name\": \"audi 100ls\"}, {\"mpg\": 23.0, \"cylinders\": 4, \"displacement\": 120.0, \"horsepower\": 88.0, \"weight\": 2957, \"acceleration\": 17.0, \"model_year\": 75, \"origin\": \"europe\", \"name\": \"peugeot 504\"}, {\"mpg\": 22.0, \"cylinders\": 4, \"displacement\": 121.0, \"horsepower\": 98.0, \"weight\": 2945, \"acceleration\": 14.5, \"model_year\": 75, \"origin\": \"europe\", \"name\": \"volvo 244dl\"}, {\"mpg\": 25.0, \"cylinders\": 4, \"displacement\": 121.0, \"horsepower\": 115.0, \"weight\": 2671, \"acceleration\": 13.5, \"model_year\": 75, \"origin\": \"europe\", \"name\": \"saab 99le\"}, {\"mpg\": 33.0, \"cylinders\": 4, \"displacement\": 91.0, \"horsepower\": 53.0, \"weight\": 1795, \"acceleration\": 17.5, \"model_year\": 75, \"origin\": \"japan\", \"name\": \"honda civic cvcc\"}, {\"mpg\": 28.0, \"cylinders\": 4, \"displacement\": 107.0, \"horsepower\": 86.0, \"weight\": 2464, \"acceleration\": 15.5, \"model_year\": 76, \"origin\": \"europe\", \"name\": \"fiat 131\"}, {\"mpg\": 25.0, \"cylinders\": 4, \"displacement\": 116.0, \"horsepower\": 81.0, \"weight\": 2220, \"acceleration\": 16.9, \"model_year\": 76, \"origin\": \"europe\", \"name\": \"opel 1900\"}, {\"mpg\": 25.0, \"cylinders\": 4, \"displacement\": 140.0, \"horsepower\": 92.0, \"weight\": 2572, \"acceleration\": 14.9, \"model_year\": 76, \"origin\": \"usa\", \"name\": \"capri ii\"}, {\"mpg\": 26.0, \"cylinders\": 4, \"displacement\": 98.0, \"horsepower\": 79.0, \"weight\": 2255, \"acceleration\": 17.7, \"model_year\": 76, \"origin\": \"usa\", \"name\": \"dodge colt\"}, {\"mpg\": 27.0, \"cylinders\": 4, \"displacement\": 101.0, \"horsepower\": 83.0, \"weight\": 2202, \"acceleration\": 15.3, \"model_year\": 76, \"origin\": \"europe\", \"name\": \"renault 12tl\"}, {\"mpg\": 17.5, \"cylinders\": 8, \"displacement\": 305.0, \"horsepower\": 140.0, \"weight\": 4215, \"acceleration\": 13.0, \"model_year\": 76, \"origin\": \"usa\", \"name\": \"chevrolet chevelle malibu classic\"}, {\"mpg\": 16.0, \"cylinders\": 8, \"displacement\": 318.0, \"horsepower\": 150.0, \"weight\": 4190, \"acceleration\": 13.0, \"model_year\": 76, \"origin\": \"usa\", \"name\": \"dodge coronet brougham\"}, {\"mpg\": 15.5, \"cylinders\": 8, \"displacement\": 304.0, \"horsepower\": 120.0, \"weight\": 3962, \"acceleration\": 13.9, \"model_year\": 76, \"origin\": \"usa\", \"name\": \"amc matador\"}, {\"mpg\": 14.5, \"cylinders\": 8, \"displacement\": 351.0, \"horsepower\": 152.0, \"weight\": 4215, \"acceleration\": 12.8, \"model_year\": 76, \"origin\": \"usa\", \"name\": \"ford gran torino\"}, {\"mpg\": 22.0, \"cylinders\": 6, \"displacement\": 225.0, \"horsepower\": 100.0, \"weight\": 3233, \"acceleration\": 15.4, \"model_year\": 76, \"origin\": \"usa\", \"name\": \"plymouth valiant\"}, {\"mpg\": 22.0, \"cylinders\": 6, \"displacement\": 250.0, \"horsepower\": 105.0, \"weight\": 3353, \"acceleration\": 14.5, \"model_year\": 76, \"origin\": \"usa\", \"name\": \"chevrolet nova\"}, {\"mpg\": 24.0, \"cylinders\": 6, \"displacement\": 200.0, \"horsepower\": 81.0, \"weight\": 3012, \"acceleration\": 17.6, \"model_year\": 76, \"origin\": \"usa\", \"name\": \"ford maverick\"}, {\"mpg\": 22.5, \"cylinders\": 6, \"displacement\": 232.0, \"horsepower\": 90.0, \"weight\": 3085, \"acceleration\": 17.6, \"model_year\": 76, \"origin\": \"usa\", \"name\": \"amc hornet\"}, {\"mpg\": 29.0, \"cylinders\": 4, \"displacement\": 85.0, \"horsepower\": 52.0, \"weight\": 2035, \"acceleration\": 22.2, \"model_year\": 76, \"origin\": \"usa\", \"name\": \"chevrolet chevette\"}, {\"mpg\": 24.5, \"cylinders\": 4, \"displacement\": 98.0, \"horsepower\": 60.0, \"weight\": 2164, \"acceleration\": 22.1, \"model_year\": 76, \"origin\": \"usa\", \"name\": \"chevrolet woody\"}, {\"mpg\": 29.0, \"cylinders\": 4, \"displacement\": 90.0, \"horsepower\": 70.0, \"weight\": 1937, \"acceleration\": 14.2, \"model_year\": 76, \"origin\": \"europe\", \"name\": \"vw rabbit\"}, {\"mpg\": 33.0, \"cylinders\": 4, \"displacement\": 91.0, \"horsepower\": 53.0, \"weight\": 1795, \"acceleration\": 17.4, \"model_year\": 76, \"origin\": \"japan\", \"name\": \"honda civic\"}, {\"mpg\": 20.0, \"cylinders\": 6, \"displacement\": 225.0, \"horsepower\": 100.0, \"weight\": 3651, \"acceleration\": 17.7, \"model_year\": 76, \"origin\": \"usa\", \"name\": \"dodge aspen se\"}, {\"mpg\": 18.0, \"cylinders\": 6, \"displacement\": 250.0, \"horsepower\": 78.0, \"weight\": 3574, \"acceleration\": 21.0, \"model_year\": 76, \"origin\": \"usa\", \"name\": \"ford granada ghia\"}, {\"mpg\": 18.5, \"cylinders\": 6, \"displacement\": 250.0, \"horsepower\": 110.0, \"weight\": 3645, \"acceleration\": 16.2, \"model_year\": 76, \"origin\": \"usa\", \"name\": \"pontiac ventura sj\"}, {\"mpg\": 17.5, \"cylinders\": 6, \"displacement\": 258.0, \"horsepower\": 95.0, \"weight\": 3193, \"acceleration\": 17.8, \"model_year\": 76, \"origin\": \"usa\", \"name\": \"amc pacer d/l\"}, {\"mpg\": 29.5, \"cylinders\": 4, \"displacement\": 97.0, \"horsepower\": 71.0, \"weight\": 1825, \"acceleration\": 12.2, \"model_year\": 76, \"origin\": \"europe\", \"name\": \"volkswagen rabbit\"}, {\"mpg\": 32.0, \"cylinders\": 4, \"displacement\": 85.0, \"horsepower\": 70.0, \"weight\": 1990, \"acceleration\": 17.0, \"model_year\": 76, \"origin\": \"japan\", \"name\": \"datsun b-210\"}, {\"mpg\": 28.0, \"cylinders\": 4, \"displacement\": 97.0, \"horsepower\": 75.0, \"weight\": 2155, \"acceleration\": 16.4, \"model_year\": 76, \"origin\": \"japan\", \"name\": \"toyota corolla\"}, {\"mpg\": 26.5, \"cylinders\": 4, \"displacement\": 140.0, \"horsepower\": 72.0, \"weight\": 2565, \"acceleration\": 13.6, \"model_year\": 76, \"origin\": \"usa\", \"name\": \"ford pinto\"}, {\"mpg\": 20.0, \"cylinders\": 4, \"displacement\": 130.0, \"horsepower\": 102.0, \"weight\": 3150, \"acceleration\": 15.7, \"model_year\": 76, \"origin\": \"europe\", \"name\": \"volvo 245\"}, {\"mpg\": 13.0, \"cylinders\": 8, \"displacement\": 318.0, \"horsepower\": 150.0, \"weight\": 3940, \"acceleration\": 13.2, \"model_year\": 76, \"origin\": \"usa\", \"name\": \"plymouth volare premier v8\"}, {\"mpg\": 19.0, \"cylinders\": 4, \"displacement\": 120.0, \"horsepower\": 88.0, \"weight\": 3270, \"acceleration\": 21.9, \"model_year\": 76, \"origin\": \"europe\", \"name\": \"peugeot 504\"}, {\"mpg\": 19.0, \"cylinders\": 6, \"displacement\": 156.0, \"horsepower\": 108.0, \"weight\": 2930, \"acceleration\": 15.5, \"model_year\": 76, \"origin\": \"japan\", \"name\": \"toyota mark ii\"}, {\"mpg\": 16.5, \"cylinders\": 6, \"displacement\": 168.0, \"horsepower\": 120.0, \"weight\": 3820, \"acceleration\": 16.7, \"model_year\": 76, \"origin\": \"europe\", \"name\": \"mercedes-benz 280s\"}, {\"mpg\": 16.5, \"cylinders\": 8, \"displacement\": 350.0, \"horsepower\": 180.0, \"weight\": 4380, \"acceleration\": 12.1, \"model_year\": 76, \"origin\": \"usa\", \"name\": \"cadillac seville\"}, {\"mpg\": 13.0, \"cylinders\": 8, \"displacement\": 350.0, \"horsepower\": 145.0, \"weight\": 4055, \"acceleration\": 12.0, \"model_year\": 76, \"origin\": \"usa\", \"name\": \"chevy c10\"}, {\"mpg\": 13.0, \"cylinders\": 8, \"displacement\": 302.0, \"horsepower\": 130.0, \"weight\": 3870, \"acceleration\": 15.0, \"model_year\": 76, \"origin\": \"usa\", \"name\": \"ford f108\"}, {\"mpg\": 13.0, \"cylinders\": 8, \"displacement\": 318.0, \"horsepower\": 150.0, \"weight\": 3755, \"acceleration\": 14.0, \"model_year\": 76, \"origin\": \"usa\", \"name\": \"dodge d100\"}, {\"mpg\": 31.5, \"cylinders\": 4, \"displacement\": 98.0, \"horsepower\": 68.0, \"weight\": 2045, \"acceleration\": 18.5, \"model_year\": 77, \"origin\": \"japan\", \"name\": \"honda accord cvcc\"}, {\"mpg\": 30.0, \"cylinders\": 4, \"displacement\": 111.0, \"horsepower\": 80.0, \"weight\": 2155, \"acceleration\": 14.8, \"model_year\": 77, \"origin\": \"usa\", \"name\": \"buick opel isuzu deluxe\"}, {\"mpg\": 36.0, \"cylinders\": 4, \"displacement\": 79.0, \"horsepower\": 58.0, \"weight\": 1825, \"acceleration\": 18.6, \"model_year\": 77, \"origin\": \"europe\", \"name\": \"renault 5 gtl\"}, {\"mpg\": 25.5, \"cylinders\": 4, \"displacement\": 122.0, \"horsepower\": 96.0, \"weight\": 2300, \"acceleration\": 15.5, \"model_year\": 77, \"origin\": \"usa\", \"name\": \"plymouth arrow gs\"}, {\"mpg\": 33.5, \"cylinders\": 4, \"displacement\": 85.0, \"horsepower\": 70.0, \"weight\": 1945, \"acceleration\": 16.8, \"model_year\": 77, \"origin\": \"japan\", \"name\": \"datsun f-10 hatchback\"}, {\"mpg\": 17.5, \"cylinders\": 8, \"displacement\": 305.0, \"horsepower\": 145.0, \"weight\": 3880, \"acceleration\": 12.5, \"model_year\": 77, \"origin\": \"usa\", \"name\": \"chevrolet caprice classic\"}, {\"mpg\": 17.0, \"cylinders\": 8, \"displacement\": 260.0, \"horsepower\": 110.0, \"weight\": 4060, \"acceleration\": 19.0, \"model_year\": 77, \"origin\": \"usa\", \"name\": \"oldsmobile cutlass supreme\"}, {\"mpg\": 15.5, \"cylinders\": 8, \"displacement\": 318.0, \"horsepower\": 145.0, \"weight\": 4140, \"acceleration\": 13.7, \"model_year\": 77, \"origin\": \"usa\", \"name\": \"dodge monaco brougham\"}, {\"mpg\": 15.0, \"cylinders\": 8, \"displacement\": 302.0, \"horsepower\": 130.0, \"weight\": 4295, \"acceleration\": 14.9, \"model_year\": 77, \"origin\": \"usa\", \"name\": \"mercury cougar brougham\"}, {\"mpg\": 17.5, \"cylinders\": 6, \"displacement\": 250.0, \"horsepower\": 110.0, \"weight\": 3520, \"acceleration\": 16.4, \"model_year\": 77, \"origin\": \"usa\", \"name\": \"chevrolet concours\"}, {\"mpg\": 20.5, \"cylinders\": 6, \"displacement\": 231.0, \"horsepower\": 105.0, \"weight\": 3425, \"acceleration\": 16.9, \"model_year\": 77, \"origin\": \"usa\", \"name\": \"buick skylark\"}, {\"mpg\": 19.0, \"cylinders\": 6, \"displacement\": 225.0, \"horsepower\": 100.0, \"weight\": 3630, \"acceleration\": 17.7, \"model_year\": 77, \"origin\": \"usa\", \"name\": \"plymouth volare custom\"}, {\"mpg\": 18.5, \"cylinders\": 6, \"displacement\": 250.0, \"horsepower\": 98.0, \"weight\": 3525, \"acceleration\": 19.0, \"model_year\": 77, \"origin\": \"usa\", \"name\": \"ford granada\"}, {\"mpg\": 16.0, \"cylinders\": 8, \"displacement\": 400.0, \"horsepower\": 180.0, \"weight\": 4220, \"acceleration\": 11.1, \"model_year\": 77, \"origin\": \"usa\", \"name\": \"pontiac grand prix lj\"}, {\"mpg\": 15.5, \"cylinders\": 8, \"displacement\": 350.0, \"horsepower\": 170.0, \"weight\": 4165, \"acceleration\": 11.4, \"model_year\": 77, \"origin\": \"usa\", \"name\": \"chevrolet monte carlo landau\"}, {\"mpg\": 15.5, \"cylinders\": 8, \"displacement\": 400.0, \"horsepower\": 190.0, \"weight\": 4325, \"acceleration\": 12.2, \"model_year\": 77, \"origin\": \"usa\", \"name\": \"chrysler cordoba\"}, {\"mpg\": 16.0, \"cylinders\": 8, \"displacement\": 351.0, \"horsepower\": 149.0, \"weight\": 4335, \"acceleration\": 14.5, \"model_year\": 77, \"origin\": \"usa\", \"name\": \"ford thunderbird\"}, {\"mpg\": 29.0, \"cylinders\": 4, \"displacement\": 97.0, \"horsepower\": 78.0, \"weight\": 1940, \"acceleration\": 14.5, \"model_year\": 77, \"origin\": \"europe\", \"name\": \"volkswagen rabbit custom\"}, {\"mpg\": 24.5, \"cylinders\": 4, \"displacement\": 151.0, \"horsepower\": 88.0, \"weight\": 2740, \"acceleration\": 16.0, \"model_year\": 77, \"origin\": \"usa\", \"name\": \"pontiac sunbird coupe\"}, {\"mpg\": 26.0, \"cylinders\": 4, \"displacement\": 97.0, \"horsepower\": 75.0, \"weight\": 2265, \"acceleration\": 18.2, \"model_year\": 77, \"origin\": \"japan\", \"name\": \"toyota corolla liftback\"}, {\"mpg\": 25.5, \"cylinders\": 4, \"displacement\": 140.0, \"horsepower\": 89.0, \"weight\": 2755, \"acceleration\": 15.8, \"model_year\": 77, \"origin\": \"usa\", \"name\": \"ford mustang ii 2+2\"}, {\"mpg\": 30.5, \"cylinders\": 4, \"displacement\": 98.0, \"horsepower\": 63.0, \"weight\": 2051, \"acceleration\": 17.0, \"model_year\": 77, \"origin\": \"usa\", \"name\": \"chevrolet chevette\"}, {\"mpg\": 33.5, \"cylinders\": 4, \"displacement\": 98.0, \"horsepower\": 83.0, \"weight\": 2075, \"acceleration\": 15.9, \"model_year\": 77, \"origin\": \"usa\", \"name\": \"dodge colt m/m\"}, {\"mpg\": 30.0, \"cylinders\": 4, \"displacement\": 97.0, \"horsepower\": 67.0, \"weight\": 1985, \"acceleration\": 16.4, \"model_year\": 77, \"origin\": \"japan\", \"name\": \"subaru dl\"}, {\"mpg\": 30.5, \"cylinders\": 4, \"displacement\": 97.0, \"horsepower\": 78.0, \"weight\": 2190, \"acceleration\": 14.1, \"model_year\": 77, \"origin\": \"europe\", \"name\": \"volkswagen dasher\"}, {\"mpg\": 22.0, \"cylinders\": 6, \"displacement\": 146.0, \"horsepower\": 97.0, \"weight\": 2815, \"acceleration\": 14.5, \"model_year\": 77, \"origin\": \"japan\", \"name\": \"datsun 810\"}, {\"mpg\": 21.5, \"cylinders\": 4, \"displacement\": 121.0, \"horsepower\": 110.0, \"weight\": 2600, \"acceleration\": 12.8, \"model_year\": 77, \"origin\": \"europe\", \"name\": \"bmw 320i\"}, {\"mpg\": 21.5, \"cylinders\": 3, \"displacement\": 80.0, \"horsepower\": 110.0, \"weight\": 2720, \"acceleration\": 13.5, \"model_year\": 77, \"origin\": \"japan\", \"name\": \"mazda rx-4\"}, {\"mpg\": 43.1, \"cylinders\": 4, \"displacement\": 90.0, \"horsepower\": 48.0, \"weight\": 1985, \"acceleration\": 21.5, \"model_year\": 78, \"origin\": \"europe\", \"name\": \"volkswagen rabbit custom diesel\"}, {\"mpg\": 36.1, \"cylinders\": 4, \"displacement\": 98.0, \"horsepower\": 66.0, \"weight\": 1800, \"acceleration\": 14.4, \"model_year\": 78, \"origin\": \"usa\", \"name\": \"ford fiesta\"}, {\"mpg\": 32.8, \"cylinders\": 4, \"displacement\": 78.0, \"horsepower\": 52.0, \"weight\": 1985, \"acceleration\": 19.4, \"model_year\": 78, \"origin\": \"japan\", \"name\": \"mazda glc deluxe\"}, {\"mpg\": 39.4, \"cylinders\": 4, \"displacement\": 85.0, \"horsepower\": 70.0, \"weight\": 2070, \"acceleration\": 18.6, \"model_year\": 78, \"origin\": \"japan\", \"name\": \"datsun b210 gx\"}, {\"mpg\": 36.1, \"cylinders\": 4, \"displacement\": 91.0, \"horsepower\": 60.0, \"weight\": 1800, \"acceleration\": 16.4, \"model_year\": 78, \"origin\": \"japan\", \"name\": \"honda civic cvcc\"}, {\"mpg\": 19.9, \"cylinders\": 8, \"displacement\": 260.0, \"horsepower\": 110.0, \"weight\": 3365, \"acceleration\": 15.5, \"model_year\": 78, \"origin\": \"usa\", \"name\": \"oldsmobile cutlass salon brougham\"}, {\"mpg\": 19.4, \"cylinders\": 8, \"displacement\": 318.0, \"horsepower\": 140.0, \"weight\": 3735, \"acceleration\": 13.2, \"model_year\": 78, \"origin\": \"usa\", \"name\": \"dodge diplomat\"}, {\"mpg\": 20.2, \"cylinders\": 8, \"displacement\": 302.0, \"horsepower\": 139.0, \"weight\": 3570, \"acceleration\": 12.8, \"model_year\": 78, \"origin\": \"usa\", \"name\": \"mercury monarch ghia\"}, {\"mpg\": 19.2, \"cylinders\": 6, \"displacement\": 231.0, \"horsepower\": 105.0, \"weight\": 3535, \"acceleration\": 19.2, \"model_year\": 78, \"origin\": \"usa\", \"name\": \"pontiac phoenix lj\"}, {\"mpg\": 20.5, \"cylinders\": 6, \"displacement\": 200.0, \"horsepower\": 95.0, \"weight\": 3155, \"acceleration\": 18.2, \"model_year\": 78, \"origin\": \"usa\", \"name\": \"chevrolet malibu\"}, {\"mpg\": 20.2, \"cylinders\": 6, \"displacement\": 200.0, \"horsepower\": 85.0, \"weight\": 2965, \"acceleration\": 15.8, \"model_year\": 78, \"origin\": \"usa\", \"name\": \"ford fairmont (auto)\"}, {\"mpg\": 25.1, \"cylinders\": 4, \"displacement\": 140.0, \"horsepower\": 88.0, \"weight\": 2720, \"acceleration\": 15.4, \"model_year\": 78, \"origin\": \"usa\", \"name\": \"ford fairmont (man)\"}, {\"mpg\": 20.5, \"cylinders\": 6, \"displacement\": 225.0, \"horsepower\": 100.0, \"weight\": 3430, \"acceleration\": 17.2, \"model_year\": 78, \"origin\": \"usa\", \"name\": \"plymouth volare\"}, {\"mpg\": 19.4, \"cylinders\": 6, \"displacement\": 232.0, \"horsepower\": 90.0, \"weight\": 3210, \"acceleration\": 17.2, \"model_year\": 78, \"origin\": \"usa\", \"name\": \"amc concord\"}, {\"mpg\": 20.6, \"cylinders\": 6, \"displacement\": 231.0, \"horsepower\": 105.0, \"weight\": 3380, \"acceleration\": 15.8, \"model_year\": 78, \"origin\": \"usa\", \"name\": \"buick century special\"}, {\"mpg\": 20.8, \"cylinders\": 6, \"displacement\": 200.0, \"horsepower\": 85.0, \"weight\": 3070, \"acceleration\": 16.7, \"model_year\": 78, \"origin\": \"usa\", \"name\": \"mercury zephyr\"}, {\"mpg\": 18.6, \"cylinders\": 6, \"displacement\": 225.0, \"horsepower\": 110.0, \"weight\": 3620, \"acceleration\": 18.7, \"model_year\": 78, \"origin\": \"usa\", \"name\": \"dodge aspen\"}, {\"mpg\": 18.1, \"cylinders\": 6, \"displacement\": 258.0, \"horsepower\": 120.0, \"weight\": 3410, \"acceleration\": 15.1, \"model_year\": 78, \"origin\": \"usa\", \"name\": \"amc concord d/l\"}, {\"mpg\": 19.2, \"cylinders\": 8, \"displacement\": 305.0, \"horsepower\": 145.0, \"weight\": 3425, \"acceleration\": 13.2, \"model_year\": 78, \"origin\": \"usa\", \"name\": \"chevrolet monte carlo landau\"}, {\"mpg\": 17.7, \"cylinders\": 6, \"displacement\": 231.0, \"horsepower\": 165.0, \"weight\": 3445, \"acceleration\": 13.4, \"model_year\": 78, \"origin\": \"usa\", \"name\": \"buick regal sport coupe (turbo)\"}, {\"mpg\": 18.1, \"cylinders\": 8, \"displacement\": 302.0, \"horsepower\": 139.0, \"weight\": 3205, \"acceleration\": 11.2, \"model_year\": 78, \"origin\": \"usa\", \"name\": \"ford futura\"}, {\"mpg\": 17.5, \"cylinders\": 8, \"displacement\": 318.0, \"horsepower\": 140.0, \"weight\": 4080, \"acceleration\": 13.7, \"model_year\": 78, \"origin\": \"usa\", \"name\": \"dodge magnum xe\"}, {\"mpg\": 30.0, \"cylinders\": 4, \"displacement\": 98.0, \"horsepower\": 68.0, \"weight\": 2155, \"acceleration\": 16.5, \"model_year\": 78, \"origin\": \"usa\", \"name\": \"chevrolet chevette\"}, {\"mpg\": 27.5, \"cylinders\": 4, \"displacement\": 134.0, \"horsepower\": 95.0, \"weight\": 2560, \"acceleration\": 14.2, \"model_year\": 78, \"origin\": \"japan\", \"name\": \"toyota corona\"}, {\"mpg\": 27.2, \"cylinders\": 4, \"displacement\": 119.0, \"horsepower\": 97.0, \"weight\": 2300, \"acceleration\": 14.7, \"model_year\": 78, \"origin\": \"japan\", \"name\": \"datsun 510\"}, {\"mpg\": 30.9, \"cylinders\": 4, \"displacement\": 105.0, \"horsepower\": 75.0, \"weight\": 2230, \"acceleration\": 14.5, \"model_year\": 78, \"origin\": \"usa\", \"name\": \"dodge omni\"}, {\"mpg\": 21.1, \"cylinders\": 4, \"displacement\": 134.0, \"horsepower\": 95.0, \"weight\": 2515, \"acceleration\": 14.8, \"model_year\": 78, \"origin\": \"japan\", \"name\": \"toyota celica gt liftback\"}, {\"mpg\": 23.2, \"cylinders\": 4, \"displacement\": 156.0, \"horsepower\": 105.0, \"weight\": 2745, \"acceleration\": 16.7, \"model_year\": 78, \"origin\": \"usa\", \"name\": \"plymouth sapporo\"}, {\"mpg\": 23.8, \"cylinders\": 4, \"displacement\": 151.0, \"horsepower\": 85.0, \"weight\": 2855, \"acceleration\": 17.6, \"model_year\": 78, \"origin\": \"usa\", \"name\": \"oldsmobile starfire sx\"}, {\"mpg\": 23.9, \"cylinders\": 4, \"displacement\": 119.0, \"horsepower\": 97.0, \"weight\": 2405, \"acceleration\": 14.9, \"model_year\": 78, \"origin\": \"japan\", \"name\": \"datsun 200-sx\"}, {\"mpg\": 20.3, \"cylinders\": 5, \"displacement\": 131.0, \"horsepower\": 103.0, \"weight\": 2830, \"acceleration\": 15.9, \"model_year\": 78, \"origin\": \"europe\", \"name\": \"audi 5000\"}, {\"mpg\": 17.0, \"cylinders\": 6, \"displacement\": 163.0, \"horsepower\": 125.0, \"weight\": 3140, \"acceleration\": 13.6, \"model_year\": 78, \"origin\": \"europe\", \"name\": \"volvo 264gl\"}, {\"mpg\": 21.6, \"cylinders\": 4, \"displacement\": 121.0, \"horsepower\": 115.0, \"weight\": 2795, \"acceleration\": 15.7, \"model_year\": 78, \"origin\": \"europe\", \"name\": \"saab 99gle\"}, {\"mpg\": 16.2, \"cylinders\": 6, \"displacement\": 163.0, \"horsepower\": 133.0, \"weight\": 3410, \"acceleration\": 15.8, \"model_year\": 78, \"origin\": \"europe\", \"name\": \"peugeot 604sl\"}, {\"mpg\": 31.5, \"cylinders\": 4, \"displacement\": 89.0, \"horsepower\": 71.0, \"weight\": 1990, \"acceleration\": 14.9, \"model_year\": 78, \"origin\": \"europe\", \"name\": \"volkswagen scirocco\"}, {\"mpg\": 29.5, \"cylinders\": 4, \"displacement\": 98.0, \"horsepower\": 68.0, \"weight\": 2135, \"acceleration\": 16.6, \"model_year\": 78, \"origin\": \"japan\", \"name\": \"honda accord lx\"}, {\"mpg\": 21.5, \"cylinders\": 6, \"displacement\": 231.0, \"horsepower\": 115.0, \"weight\": 3245, \"acceleration\": 15.4, \"model_year\": 79, \"origin\": \"usa\", \"name\": \"pontiac lemans v6\"}, {\"mpg\": 19.8, \"cylinders\": 6, \"displacement\": 200.0, \"horsepower\": 85.0, \"weight\": 2990, \"acceleration\": 18.2, \"model_year\": 79, \"origin\": \"usa\", \"name\": \"mercury zephyr 6\"}, {\"mpg\": 22.3, \"cylinders\": 4, \"displacement\": 140.0, \"horsepower\": 88.0, \"weight\": 2890, \"acceleration\": 17.3, \"model_year\": 79, \"origin\": \"usa\", \"name\": \"ford fairmont 4\"}, {\"mpg\": 20.2, \"cylinders\": 6, \"displacement\": 232.0, \"horsepower\": 90.0, \"weight\": 3265, \"acceleration\": 18.2, \"model_year\": 79, \"origin\": \"usa\", \"name\": \"amc concord dl 6\"}, {\"mpg\": 20.6, \"cylinders\": 6, \"displacement\": 225.0, \"horsepower\": 110.0, \"weight\": 3360, \"acceleration\": 16.6, \"model_year\": 79, \"origin\": \"usa\", \"name\": \"dodge aspen 6\"}, {\"mpg\": 17.0, \"cylinders\": 8, \"displacement\": 305.0, \"horsepower\": 130.0, \"weight\": 3840, \"acceleration\": 15.4, \"model_year\": 79, \"origin\": \"usa\", \"name\": \"chevrolet caprice classic\"}, {\"mpg\": 17.6, \"cylinders\": 8, \"displacement\": 302.0, \"horsepower\": 129.0, \"weight\": 3725, \"acceleration\": 13.4, \"model_year\": 79, \"origin\": \"usa\", \"name\": \"ford ltd landau\"}, {\"mpg\": 16.5, \"cylinders\": 8, \"displacement\": 351.0, \"horsepower\": 138.0, \"weight\": 3955, \"acceleration\": 13.2, \"model_year\": 79, \"origin\": \"usa\", \"name\": \"mercury grand marquis\"}, {\"mpg\": 18.2, \"cylinders\": 8, \"displacement\": 318.0, \"horsepower\": 135.0, \"weight\": 3830, \"acceleration\": 15.2, \"model_year\": 79, \"origin\": \"usa\", \"name\": \"dodge st. regis\"}, {\"mpg\": 16.9, \"cylinders\": 8, \"displacement\": 350.0, \"horsepower\": 155.0, \"weight\": 4360, \"acceleration\": 14.9, \"model_year\": 79, \"origin\": \"usa\", \"name\": \"buick estate wagon (sw)\"}, {\"mpg\": 15.5, \"cylinders\": 8, \"displacement\": 351.0, \"horsepower\": 142.0, \"weight\": 4054, \"acceleration\": 14.3, \"model_year\": 79, \"origin\": \"usa\", \"name\": \"ford country squire (sw)\"}, {\"mpg\": 19.2, \"cylinders\": 8, \"displacement\": 267.0, \"horsepower\": 125.0, \"weight\": 3605, \"acceleration\": 15.0, \"model_year\": 79, \"origin\": \"usa\", \"name\": \"chevrolet malibu classic (sw)\"}, {\"mpg\": 18.5, \"cylinders\": 8, \"displacement\": 360.0, \"horsepower\": 150.0, \"weight\": 3940, \"acceleration\": 13.0, \"model_year\": 79, \"origin\": \"usa\", \"name\": \"chrysler lebaron town @ country (sw)\"}, {\"mpg\": 31.9, \"cylinders\": 4, \"displacement\": 89.0, \"horsepower\": 71.0, \"weight\": 1925, \"acceleration\": 14.0, \"model_year\": 79, \"origin\": \"europe\", \"name\": \"vw rabbit custom\"}, {\"mpg\": 34.1, \"cylinders\": 4, \"displacement\": 86.0, \"horsepower\": 65.0, \"weight\": 1975, \"acceleration\": 15.2, \"model_year\": 79, \"origin\": \"japan\", \"name\": \"maxda glc deluxe\"}, {\"mpg\": 35.7, \"cylinders\": 4, \"displacement\": 98.0, \"horsepower\": 80.0, \"weight\": 1915, \"acceleration\": 14.4, \"model_year\": 79, \"origin\": \"usa\", \"name\": \"dodge colt hatchback custom\"}, {\"mpg\": 27.4, \"cylinders\": 4, \"displacement\": 121.0, \"horsepower\": 80.0, \"weight\": 2670, \"acceleration\": 15.0, \"model_year\": 79, \"origin\": \"usa\", \"name\": \"amc spirit dl\"}, {\"mpg\": 25.4, \"cylinders\": 5, \"displacement\": 183.0, \"horsepower\": 77.0, \"weight\": 3530, \"acceleration\": 20.1, \"model_year\": 79, \"origin\": \"europe\", \"name\": \"mercedes benz 300d\"}, {\"mpg\": 23.0, \"cylinders\": 8, \"displacement\": 350.0, \"horsepower\": 125.0, \"weight\": 3900, \"acceleration\": 17.4, \"model_year\": 79, \"origin\": \"usa\", \"name\": \"cadillac eldorado\"}, {\"mpg\": 27.2, \"cylinders\": 4, \"displacement\": 141.0, \"horsepower\": 71.0, \"weight\": 3190, \"acceleration\": 24.8, \"model_year\": 79, \"origin\": \"europe\", \"name\": \"peugeot 504\"}, {\"mpg\": 23.9, \"cylinders\": 8, \"displacement\": 260.0, \"horsepower\": 90.0, \"weight\": 3420, \"acceleration\": 22.2, \"model_year\": 79, \"origin\": \"usa\", \"name\": \"oldsmobile cutlass salon brougham\"}, {\"mpg\": 34.2, \"cylinders\": 4, \"displacement\": 105.0, \"horsepower\": 70.0, \"weight\": 2200, \"acceleration\": 13.2, \"model_year\": 79, \"origin\": \"usa\", \"name\": \"plymouth horizon\"}, {\"mpg\": 34.5, \"cylinders\": 4, \"displacement\": 105.0, \"horsepower\": 70.0, \"weight\": 2150, \"acceleration\": 14.9, \"model_year\": 79, \"origin\": \"usa\", \"name\": \"plymouth horizon tc3\"}, {\"mpg\": 31.8, \"cylinders\": 4, \"displacement\": 85.0, \"horsepower\": 65.0, \"weight\": 2020, \"acceleration\": 19.2, \"model_year\": 79, \"origin\": \"japan\", \"name\": \"datsun 210\"}, {\"mpg\": 37.3, \"cylinders\": 4, \"displacement\": 91.0, \"horsepower\": 69.0, \"weight\": 2130, \"acceleration\": 14.7, \"model_year\": 79, \"origin\": \"europe\", \"name\": \"fiat strada custom\"}, {\"mpg\": 28.4, \"cylinders\": 4, \"displacement\": 151.0, \"horsepower\": 90.0, \"weight\": 2670, \"acceleration\": 16.0, \"model_year\": 79, \"origin\": \"usa\", \"name\": \"buick skylark limited\"}, {\"mpg\": 28.8, \"cylinders\": 6, \"displacement\": 173.0, \"horsepower\": 115.0, \"weight\": 2595, \"acceleration\": 11.3, \"model_year\": 79, \"origin\": \"usa\", \"name\": \"chevrolet citation\"}, {\"mpg\": 26.8, \"cylinders\": 6, \"displacement\": 173.0, \"horsepower\": 115.0, \"weight\": 2700, \"acceleration\": 12.9, \"model_year\": 79, \"origin\": \"usa\", \"name\": \"oldsmobile omega brougham\"}, {\"mpg\": 33.5, \"cylinders\": 4, \"displacement\": 151.0, \"horsepower\": 90.0, \"weight\": 2556, \"acceleration\": 13.2, \"model_year\": 79, \"origin\": \"usa\", \"name\": \"pontiac phoenix\"}, {\"mpg\": 41.5, \"cylinders\": 4, \"displacement\": 98.0, \"horsepower\": 76.0, \"weight\": 2144, \"acceleration\": 14.7, \"model_year\": 80, \"origin\": \"europe\", \"name\": \"vw rabbit\"}, {\"mpg\": 38.1, \"cylinders\": 4, \"displacement\": 89.0, \"horsepower\": 60.0, \"weight\": 1968, \"acceleration\": 18.8, \"model_year\": 80, \"origin\": \"japan\", \"name\": \"toyota corolla tercel\"}, {\"mpg\": 32.1, \"cylinders\": 4, \"displacement\": 98.0, \"horsepower\": 70.0, \"weight\": 2120, \"acceleration\": 15.5, \"model_year\": 80, \"origin\": \"usa\", \"name\": \"chevrolet chevette\"}, {\"mpg\": 37.2, \"cylinders\": 4, \"displacement\": 86.0, \"horsepower\": 65.0, \"weight\": 2019, \"acceleration\": 16.4, \"model_year\": 80, \"origin\": \"japan\", \"name\": \"datsun 310\"}, {\"mpg\": 28.0, \"cylinders\": 4, \"displacement\": 151.0, \"horsepower\": 90.0, \"weight\": 2678, \"acceleration\": 16.5, \"model_year\": 80, \"origin\": \"usa\", \"name\": \"chevrolet citation\"}, {\"mpg\": 26.4, \"cylinders\": 4, \"displacement\": 140.0, \"horsepower\": 88.0, \"weight\": 2870, \"acceleration\": 18.1, \"model_year\": 80, \"origin\": \"usa\", \"name\": \"ford fairmont\"}, {\"mpg\": 24.3, \"cylinders\": 4, \"displacement\": 151.0, \"horsepower\": 90.0, \"weight\": 3003, \"acceleration\": 20.1, \"model_year\": 80, \"origin\": \"usa\", \"name\": \"amc concord\"}, {\"mpg\": 19.1, \"cylinders\": 6, \"displacement\": 225.0, \"horsepower\": 90.0, \"weight\": 3381, \"acceleration\": 18.7, \"model_year\": 80, \"origin\": \"usa\", \"name\": \"dodge aspen\"}, {\"mpg\": 34.3, \"cylinders\": 4, \"displacement\": 97.0, \"horsepower\": 78.0, \"weight\": 2188, \"acceleration\": 15.8, \"model_year\": 80, \"origin\": \"europe\", \"name\": \"audi 4000\"}, {\"mpg\": 29.8, \"cylinders\": 4, \"displacement\": 134.0, \"horsepower\": 90.0, \"weight\": 2711, \"acceleration\": 15.5, \"model_year\": 80, \"origin\": \"japan\", \"name\": \"toyota corona liftback\"}, {\"mpg\": 31.3, \"cylinders\": 4, \"displacement\": 120.0, \"horsepower\": 75.0, \"weight\": 2542, \"acceleration\": 17.5, \"model_year\": 80, \"origin\": \"japan\", \"name\": \"mazda 626\"}, {\"mpg\": 37.0, \"cylinders\": 4, \"displacement\": 119.0, \"horsepower\": 92.0, \"weight\": 2434, \"acceleration\": 15.0, \"model_year\": 80, \"origin\": \"japan\", \"name\": \"datsun 510 hatchback\"}, {\"mpg\": 32.2, \"cylinders\": 4, \"displacement\": 108.0, \"horsepower\": 75.0, \"weight\": 2265, \"acceleration\": 15.2, \"model_year\": 80, \"origin\": \"japan\", \"name\": \"toyota corolla\"}, {\"mpg\": 46.6, \"cylinders\": 4, \"displacement\": 86.0, \"horsepower\": 65.0, \"weight\": 2110, \"acceleration\": 17.9, \"model_year\": 80, \"origin\": \"japan\", \"name\": \"mazda glc\"}, {\"mpg\": 27.9, \"cylinders\": 4, \"displacement\": 156.0, \"horsepower\": 105.0, \"weight\": 2800, \"acceleration\": 14.4, \"model_year\": 80, \"origin\": \"usa\", \"name\": \"dodge colt\"}, {\"mpg\": 40.8, \"cylinders\": 4, \"displacement\": 85.0, \"horsepower\": 65.0, \"weight\": 2110, \"acceleration\": 19.2, \"model_year\": 80, \"origin\": \"japan\", \"name\": \"datsun 210\"}, {\"mpg\": 44.3, \"cylinders\": 4, \"displacement\": 90.0, \"horsepower\": 48.0, \"weight\": 2085, \"acceleration\": 21.7, \"model_year\": 80, \"origin\": \"europe\", \"name\": \"vw rabbit c (diesel)\"}, {\"mpg\": 43.4, \"cylinders\": 4, \"displacement\": 90.0, \"horsepower\": 48.0, \"weight\": 2335, \"acceleration\": 23.7, \"model_year\": 80, \"origin\": \"europe\", \"name\": \"vw dasher (diesel)\"}, {\"mpg\": 36.4, \"cylinders\": 5, \"displacement\": 121.0, \"horsepower\": 67.0, \"weight\": 2950, \"acceleration\": 19.9, \"model_year\": 80, \"origin\": \"europe\", \"name\": \"audi 5000s (diesel)\"}, {\"mpg\": 30.0, \"cylinders\": 4, \"displacement\": 146.0, \"horsepower\": 67.0, \"weight\": 3250, \"acceleration\": 21.8, \"model_year\": 80, \"origin\": \"europe\", \"name\": \"mercedes-benz 240d\"}, {\"mpg\": 44.6, \"cylinders\": 4, \"displacement\": 91.0, \"horsepower\": 67.0, \"weight\": 1850, \"acceleration\": 13.8, \"model_year\": 80, \"origin\": \"japan\", \"name\": \"honda civic 1500 gl\"}, {\"mpg\": 40.9, \"cylinders\": 4, \"displacement\": 85.0, \"horsepower\": null, \"weight\": 1835, \"acceleration\": 17.3, \"model_year\": 80, \"origin\": \"europe\", \"name\": \"renault lecar deluxe\"}, {\"mpg\": 33.8, \"cylinders\": 4, \"displacement\": 97.0, \"horsepower\": 67.0, \"weight\": 2145, \"acceleration\": 18.0, \"model_year\": 80, \"origin\": \"japan\", \"name\": \"subaru dl\"}, {\"mpg\": 29.8, \"cylinders\": 4, \"displacement\": 89.0, \"horsepower\": 62.0, \"weight\": 1845, \"acceleration\": 15.3, \"model_year\": 80, \"origin\": \"europe\", \"name\": \"vokswagen rabbit\"}, {\"mpg\": 32.7, \"cylinders\": 6, \"displacement\": 168.0, \"horsepower\": 132.0, \"weight\": 2910, \"acceleration\": 11.4, \"model_year\": 80, \"origin\": \"japan\", \"name\": \"datsun 280-zx\"}, {\"mpg\": 23.7, \"cylinders\": 3, \"displacement\": 70.0, \"horsepower\": 100.0, \"weight\": 2420, \"acceleration\": 12.5, \"model_year\": 80, \"origin\": \"japan\", \"name\": \"mazda rx-7 gs\"}, {\"mpg\": 35.0, \"cylinders\": 4, \"displacement\": 122.0, \"horsepower\": 88.0, \"weight\": 2500, \"acceleration\": 15.1, \"model_year\": 80, \"origin\": \"europe\", \"name\": \"triumph tr7 coupe\"}, {\"mpg\": 23.6, \"cylinders\": 4, \"displacement\": 140.0, \"horsepower\": null, \"weight\": 2905, \"acceleration\": 14.3, \"model_year\": 80, \"origin\": \"usa\", \"name\": \"ford mustang cobra\"}, {\"mpg\": 32.4, \"cylinders\": 4, \"displacement\": 107.0, \"horsepower\": 72.0, \"weight\": 2290, \"acceleration\": 17.0, \"model_year\": 80, \"origin\": \"japan\", \"name\": \"honda accord\"}, {\"mpg\": 27.2, \"cylinders\": 4, \"displacement\": 135.0, \"horsepower\": 84.0, \"weight\": 2490, \"acceleration\": 15.7, \"model_year\": 81, \"origin\": \"usa\", \"name\": \"plymouth reliant\"}, {\"mpg\": 26.6, \"cylinders\": 4, \"displacement\": 151.0, \"horsepower\": 84.0, \"weight\": 2635, \"acceleration\": 16.4, \"model_year\": 81, \"origin\": \"usa\", \"name\": \"buick skylark\"}, {\"mpg\": 25.8, \"cylinders\": 4, \"displacement\": 156.0, \"horsepower\": 92.0, \"weight\": 2620, \"acceleration\": 14.4, \"model_year\": 81, \"origin\": \"usa\", \"name\": \"dodge aries wagon (sw)\"}, {\"mpg\": 23.5, \"cylinders\": 6, \"displacement\": 173.0, \"horsepower\": 110.0, \"weight\": 2725, \"acceleration\": 12.6, \"model_year\": 81, \"origin\": \"usa\", \"name\": \"chevrolet citation\"}, {\"mpg\": 30.0, \"cylinders\": 4, \"displacement\": 135.0, \"horsepower\": 84.0, \"weight\": 2385, \"acceleration\": 12.9, \"model_year\": 81, \"origin\": \"usa\", \"name\": \"plymouth reliant\"}, {\"mpg\": 39.1, \"cylinders\": 4, \"displacement\": 79.0, \"horsepower\": 58.0, \"weight\": 1755, \"acceleration\": 16.9, \"model_year\": 81, \"origin\": \"japan\", \"name\": \"toyota starlet\"}, {\"mpg\": 39.0, \"cylinders\": 4, \"displacement\": 86.0, \"horsepower\": 64.0, \"weight\": 1875, \"acceleration\": 16.4, \"model_year\": 81, \"origin\": \"usa\", \"name\": \"plymouth champ\"}, {\"mpg\": 35.1, \"cylinders\": 4, \"displacement\": 81.0, \"horsepower\": 60.0, \"weight\": 1760, \"acceleration\": 16.1, \"model_year\": 81, \"origin\": \"japan\", \"name\": \"honda civic 1300\"}, {\"mpg\": 32.3, \"cylinders\": 4, \"displacement\": 97.0, \"horsepower\": 67.0, \"weight\": 2065, \"acceleration\": 17.8, \"model_year\": 81, \"origin\": \"japan\", \"name\": \"subaru\"}, {\"mpg\": 37.0, \"cylinders\": 4, \"displacement\": 85.0, \"horsepower\": 65.0, \"weight\": 1975, \"acceleration\": 19.4, \"model_year\": 81, \"origin\": \"japan\", \"name\": \"datsun 210 mpg\"}, {\"mpg\": 37.7, \"cylinders\": 4, \"displacement\": 89.0, \"horsepower\": 62.0, \"weight\": 2050, \"acceleration\": 17.3, \"model_year\": 81, \"origin\": \"japan\", \"name\": \"toyota tercel\"}, {\"mpg\": 34.1, \"cylinders\": 4, \"displacement\": 91.0, \"horsepower\": 68.0, \"weight\": 1985, \"acceleration\": 16.0, \"model_year\": 81, \"origin\": \"japan\", \"name\": \"mazda glc 4\"}, {\"mpg\": 34.7, \"cylinders\": 4, \"displacement\": 105.0, \"horsepower\": 63.0, \"weight\": 2215, \"acceleration\": 14.9, \"model_year\": 81, \"origin\": \"usa\", \"name\": \"plymouth horizon 4\"}, {\"mpg\": 34.4, \"cylinders\": 4, \"displacement\": 98.0, \"horsepower\": 65.0, \"weight\": 2045, \"acceleration\": 16.2, \"model_year\": 81, \"origin\": \"usa\", \"name\": \"ford escort 4w\"}, {\"mpg\": 29.9, \"cylinders\": 4, \"displacement\": 98.0, \"horsepower\": 65.0, \"weight\": 2380, \"acceleration\": 20.7, \"model_year\": 81, \"origin\": \"usa\", \"name\": \"ford escort 2h\"}, {\"mpg\": 33.0, \"cylinders\": 4, \"displacement\": 105.0, \"horsepower\": 74.0, \"weight\": 2190, \"acceleration\": 14.2, \"model_year\": 81, \"origin\": \"europe\", \"name\": \"volkswagen jetta\"}, {\"mpg\": 34.5, \"cylinders\": 4, \"displacement\": 100.0, \"horsepower\": null, \"weight\": 2320, \"acceleration\": 15.8, \"model_year\": 81, \"origin\": \"europe\", \"name\": \"renault 18i\"}, {\"mpg\": 33.7, \"cylinders\": 4, \"displacement\": 107.0, \"horsepower\": 75.0, \"weight\": 2210, \"acceleration\": 14.4, \"model_year\": 81, \"origin\": \"japan\", \"name\": \"honda prelude\"}, {\"mpg\": 32.4, \"cylinders\": 4, \"displacement\": 108.0, \"horsepower\": 75.0, \"weight\": 2350, \"acceleration\": 16.8, \"model_year\": 81, \"origin\": \"japan\", \"name\": \"toyota corolla\"}, {\"mpg\": 32.9, \"cylinders\": 4, \"displacement\": 119.0, \"horsepower\": 100.0, \"weight\": 2615, \"acceleration\": 14.8, \"model_year\": 81, \"origin\": \"japan\", \"name\": \"datsun 200sx\"}, {\"mpg\": 31.6, \"cylinders\": 4, \"displacement\": 120.0, \"horsepower\": 74.0, \"weight\": 2635, \"acceleration\": 18.3, \"model_year\": 81, \"origin\": \"japan\", \"name\": \"mazda 626\"}, {\"mpg\": 28.1, \"cylinders\": 4, \"displacement\": 141.0, \"horsepower\": 80.0, \"weight\": 3230, \"acceleration\": 20.4, \"model_year\": 81, \"origin\": \"europe\", \"name\": \"peugeot 505s turbo diesel\"}, {\"mpg\": 30.7, \"cylinders\": 6, \"displacement\": 145.0, \"horsepower\": 76.0, \"weight\": 3160, \"acceleration\": 19.6, \"model_year\": 81, \"origin\": \"europe\", \"name\": \"volvo diesel\"}, {\"mpg\": 25.4, \"cylinders\": 6, \"displacement\": 168.0, \"horsepower\": 116.0, \"weight\": 2900, \"acceleration\": 12.6, \"model_year\": 81, \"origin\": \"japan\", \"name\": \"toyota cressida\"}, {\"mpg\": 24.2, \"cylinders\": 6, \"displacement\": 146.0, \"horsepower\": 120.0, \"weight\": 2930, \"acceleration\": 13.8, \"model_year\": 81, \"origin\": \"japan\", \"name\": \"datsun 810 maxima\"}, {\"mpg\": 22.4, \"cylinders\": 6, \"displacement\": 231.0, \"horsepower\": 110.0, \"weight\": 3415, \"acceleration\": 15.8, \"model_year\": 81, \"origin\": \"usa\", \"name\": \"buick century\"}, {\"mpg\": 26.6, \"cylinders\": 8, \"displacement\": 350.0, \"horsepower\": 105.0, \"weight\": 3725, \"acceleration\": 19.0, \"model_year\": 81, \"origin\": \"usa\", \"name\": \"oldsmobile cutlass ls\"}, {\"mpg\": 20.2, \"cylinders\": 6, \"displacement\": 200.0, \"horsepower\": 88.0, \"weight\": 3060, \"acceleration\": 17.1, \"model_year\": 81, \"origin\": \"usa\", \"name\": \"ford granada gl\"}, {\"mpg\": 17.6, \"cylinders\": 6, \"displacement\": 225.0, \"horsepower\": 85.0, \"weight\": 3465, \"acceleration\": 16.6, \"model_year\": 81, \"origin\": \"usa\", \"name\": \"chrysler lebaron salon\"}, {\"mpg\": 28.0, \"cylinders\": 4, \"displacement\": 112.0, \"horsepower\": 88.0, \"weight\": 2605, \"acceleration\": 19.6, \"model_year\": 82, \"origin\": \"usa\", \"name\": \"chevrolet cavalier\"}, {\"mpg\": 27.0, \"cylinders\": 4, \"displacement\": 112.0, \"horsepower\": 88.0, \"weight\": 2640, \"acceleration\": 18.6, \"model_year\": 82, \"origin\": \"usa\", \"name\": \"chevrolet cavalier wagon\"}, {\"mpg\": 34.0, \"cylinders\": 4, \"displacement\": 112.0, \"horsepower\": 88.0, \"weight\": 2395, \"acceleration\": 18.0, \"model_year\": 82, \"origin\": \"usa\", \"name\": \"chevrolet cavalier 2-door\"}, {\"mpg\": 31.0, \"cylinders\": 4, \"displacement\": 112.0, \"horsepower\": 85.0, \"weight\": 2575, \"acceleration\": 16.2, \"model_year\": 82, \"origin\": \"usa\", \"name\": \"pontiac j2000 se hatchback\"}, {\"mpg\": 29.0, \"cylinders\": 4, \"displacement\": 135.0, \"horsepower\": 84.0, \"weight\": 2525, \"acceleration\": 16.0, \"model_year\": 82, \"origin\": \"usa\", \"name\": \"dodge aries se\"}, {\"mpg\": 27.0, \"cylinders\": 4, \"displacement\": 151.0, \"horsepower\": 90.0, \"weight\": 2735, \"acceleration\": 18.0, \"model_year\": 82, \"origin\": \"usa\", \"name\": \"pontiac phoenix\"}, {\"mpg\": 24.0, \"cylinders\": 4, \"displacement\": 140.0, \"horsepower\": 92.0, \"weight\": 2865, \"acceleration\": 16.4, \"model_year\": 82, \"origin\": \"usa\", \"name\": \"ford fairmont futura\"}, {\"mpg\": 23.0, \"cylinders\": 4, \"displacement\": 151.0, \"horsepower\": null, \"weight\": 3035, \"acceleration\": 20.5, \"model_year\": 82, \"origin\": \"usa\", \"name\": \"amc concord dl\"}, {\"mpg\": 36.0, \"cylinders\": 4, \"displacement\": 105.0, \"horsepower\": 74.0, \"weight\": 1980, \"acceleration\": 15.3, \"model_year\": 82, \"origin\": \"europe\", \"name\": \"volkswagen rabbit l\"}, {\"mpg\": 37.0, \"cylinders\": 4, \"displacement\": 91.0, \"horsepower\": 68.0, \"weight\": 2025, \"acceleration\": 18.2, \"model_year\": 82, \"origin\": \"japan\", \"name\": \"mazda glc custom l\"}, {\"mpg\": 31.0, \"cylinders\": 4, \"displacement\": 91.0, \"horsepower\": 68.0, \"weight\": 1970, \"acceleration\": 17.6, \"model_year\": 82, \"origin\": \"japan\", \"name\": \"mazda glc custom\"}, {\"mpg\": 38.0, \"cylinders\": 4, \"displacement\": 105.0, \"horsepower\": 63.0, \"weight\": 2125, \"acceleration\": 14.7, \"model_year\": 82, \"origin\": \"usa\", \"name\": \"plymouth horizon miser\"}, {\"mpg\": 36.0, \"cylinders\": 4, \"displacement\": 98.0, \"horsepower\": 70.0, \"weight\": 2125, \"acceleration\": 17.3, \"model_year\": 82, \"origin\": \"usa\", \"name\": \"mercury lynx l\"}, {\"mpg\": 36.0, \"cylinders\": 4, \"displacement\": 120.0, \"horsepower\": 88.0, \"weight\": 2160, \"acceleration\": 14.5, \"model_year\": 82, \"origin\": \"japan\", \"name\": \"nissan stanza xe\"}, {\"mpg\": 36.0, \"cylinders\": 4, \"displacement\": 107.0, \"horsepower\": 75.0, \"weight\": 2205, \"acceleration\": 14.5, \"model_year\": 82, \"origin\": \"japan\", \"name\": \"honda accord\"}, {\"mpg\": 34.0, \"cylinders\": 4, \"displacement\": 108.0, \"horsepower\": 70.0, \"weight\": 2245, \"acceleration\": 16.9, \"model_year\": 82, \"origin\": \"japan\", \"name\": \"toyota corolla\"}, {\"mpg\": 38.0, \"cylinders\": 4, \"displacement\": 91.0, \"horsepower\": 67.0, \"weight\": 1965, \"acceleration\": 15.0, \"model_year\": 82, \"origin\": \"japan\", \"name\": \"honda civic\"}, {\"mpg\": 32.0, \"cylinders\": 4, \"displacement\": 91.0, \"horsepower\": 67.0, \"weight\": 1965, \"acceleration\": 15.7, \"model_year\": 82, \"origin\": \"japan\", \"name\": \"honda civic (auto)\"}, {\"mpg\": 38.0, \"cylinders\": 4, \"displacement\": 91.0, \"horsepower\": 67.0, \"weight\": 1995, \"acceleration\": 16.2, \"model_year\": 82, \"origin\": \"japan\", \"name\": \"datsun 310 gx\"}, {\"mpg\": 25.0, \"cylinders\": 6, \"displacement\": 181.0, \"horsepower\": 110.0, \"weight\": 2945, \"acceleration\": 16.4, \"model_year\": 82, \"origin\": \"usa\", \"name\": \"buick century limited\"}, {\"mpg\": 38.0, \"cylinders\": 6, \"displacement\": 262.0, \"horsepower\": 85.0, \"weight\": 3015, \"acceleration\": 17.0, \"model_year\": 82, \"origin\": \"usa\", \"name\": \"oldsmobile cutlass ciera (diesel)\"}, {\"mpg\": 26.0, \"cylinders\": 4, \"displacement\": 156.0, \"horsepower\": 92.0, \"weight\": 2585, \"acceleration\": 14.5, \"model_year\": 82, \"origin\": \"usa\", \"name\": \"chrysler lebaron medallion\"}, {\"mpg\": 22.0, \"cylinders\": 6, \"displacement\": 232.0, \"horsepower\": 112.0, \"weight\": 2835, \"acceleration\": 14.7, \"model_year\": 82, \"origin\": \"usa\", \"name\": \"ford granada l\"}, {\"mpg\": 32.0, \"cylinders\": 4, \"displacement\": 144.0, \"horsepower\": 96.0, \"weight\": 2665, \"acceleration\": 13.9, \"model_year\": 82, \"origin\": \"japan\", \"name\": \"toyota celica gt\"}, {\"mpg\": 36.0, \"cylinders\": 4, \"displacement\": 135.0, \"horsepower\": 84.0, \"weight\": 2370, \"acceleration\": 13.0, \"model_year\": 82, \"origin\": \"usa\", \"name\": \"dodge charger 2.2\"}, {\"mpg\": 27.0, \"cylinders\": 4, \"displacement\": 151.0, \"horsepower\": 90.0, \"weight\": 2950, \"acceleration\": 17.3, \"model_year\": 82, \"origin\": \"usa\", \"name\": \"chevrolet camaro\"}, {\"mpg\": 27.0, \"cylinders\": 4, \"displacement\": 140.0, \"horsepower\": 86.0, \"weight\": 2790, \"acceleration\": 15.6, \"model_year\": 82, \"origin\": \"usa\", \"name\": \"ford mustang gl\"}, {\"mpg\": 44.0, \"cylinders\": 4, \"displacement\": 97.0, \"horsepower\": 52.0, \"weight\": 2130, \"acceleration\": 24.6, \"model_year\": 82, \"origin\": \"europe\", \"name\": \"vw pickup\"}, {\"mpg\": 32.0, \"cylinders\": 4, \"displacement\": 135.0, \"horsepower\": 84.0, \"weight\": 2295, \"acceleration\": 11.6, \"model_year\": 82, \"origin\": \"usa\", \"name\": \"dodge rampage\"}, {\"mpg\": 28.0, \"cylinders\": 4, \"displacement\": 120.0, \"horsepower\": 79.0, \"weight\": 2625, \"acceleration\": 18.6, \"model_year\": 82, \"origin\": \"usa\", \"name\": \"ford ranger\"}, {\"mpg\": 31.0, \"cylinders\": 4, \"displacement\": 119.0, \"horsepower\": 82.0, \"weight\": 2720, \"acceleration\": 19.4, \"model_year\": 82, \"origin\": \"usa\", \"name\": \"chevy s-10\"}]}}, {\"mode\": \"vega-lite\"});\n",
       "</script>"
      ],
      "text/plain": [
       "alt.Chart(...)"
      ]
     },
     "execution_count": 25,
     "metadata": {},
     "output_type": "execute_result"
    }
   ],
   "source": [
    "c2 = alt.Chart(df).mark_text().encode(\n",
    "    x = \"model_year:O\",\n",
    "    y = \"cylinders:O\",\n",
    "    text = \"count()\"    \n",
    ")\n",
    "c2"
   ]
  },
  {
   "block_group": "a83784b433e44a50a15d2bcf05977a5e",
   "cell_type": "markdown",
   "metadata": {
    "cell_id": "4821bb0eca974ddfab1f5842fcc62048",
    "deepnote_cell_type": "markdown"
   },
   "source": [
    "* Layer these last two charts together, either using `+` or using `alt.layer`."
   ]
  },
  {
   "block_group": "215aefaa60e44763ab237d7268ee29b8",
   "cell_type": "code",
   "execution_count": null,
   "metadata": {
    "cell_id": "058137b77e3b43c5ab23016dc30b1205",
    "deepnote_cell_type": "code",
    "deepnote_to_be_reexecuted": false,
    "execution_millis": 175,
    "execution_start": 1697662020042,
    "source_hash": null
   },
   "outputs": [
    {
     "data": {
      "text/html": [
       "\n",
       "<div id=\"altair-viz-3796e97e4a9d4b12aad1c5b5251ec415\"></div>\n",
       "<script type=\"text/javascript\">\n",
       "  var VEGA_DEBUG = (typeof VEGA_DEBUG == \"undefined\") ? {} : VEGA_DEBUG;\n",
       "  (function(spec, embedOpt){\n",
       "    let outputDiv = document.currentScript.previousElementSibling;\n",
       "    if (outputDiv.id !== \"altair-viz-3796e97e4a9d4b12aad1c5b5251ec415\") {\n",
       "      outputDiv = document.getElementById(\"altair-viz-3796e97e4a9d4b12aad1c5b5251ec415\");\n",
       "    }\n",
       "    const paths = {\n",
       "      \"vega\": \"https://cdn.jsdelivr.net/npm//vega@5?noext\",\n",
       "      \"vega-lib\": \"https://cdn.jsdelivr.net/npm//vega-lib?noext\",\n",
       "      \"vega-lite\": \"https://cdn.jsdelivr.net/npm//vega-lite@4.17.0?noext\",\n",
       "      \"vega-embed\": \"https://cdn.jsdelivr.net/npm//vega-embed@6?noext\",\n",
       "    };\n",
       "\n",
       "    function maybeLoadScript(lib, version) {\n",
       "      var key = `${lib.replace(\"-\", \"\")}_version`;\n",
       "      return (VEGA_DEBUG[key] == version) ?\n",
       "        Promise.resolve(paths[lib]) :\n",
       "        new Promise(function(resolve, reject) {\n",
       "          var s = document.createElement('script');\n",
       "          document.getElementsByTagName(\"head\")[0].appendChild(s);\n",
       "          s.async = true;\n",
       "          s.onload = () => {\n",
       "            VEGA_DEBUG[key] = version;\n",
       "            return resolve(paths[lib]);\n",
       "          };\n",
       "          s.onerror = () => reject(`Error loading script: ${paths[lib]}`);\n",
       "          s.src = paths[lib];\n",
       "        });\n",
       "    }\n",
       "\n",
       "    function showError(err) {\n",
       "      outputDiv.innerHTML = `<div class=\"error\" style=\"color:red;\">${err}</div>`;\n",
       "      throw err;\n",
       "    }\n",
       "\n",
       "    function displayChart(vegaEmbed) {\n",
       "      vegaEmbed(outputDiv, spec, embedOpt)\n",
       "        .catch(err => showError(`Javascript Error: ${err.message}<br>This usually means there's a typo in your chart specification. See the javascript console for the full traceback.`));\n",
       "    }\n",
       "\n",
       "    if(typeof define === \"function\" && define.amd) {\n",
       "      requirejs.config({paths});\n",
       "      require([\"vega-embed\"], displayChart, err => showError(`Error loading script: ${err.message}`));\n",
       "    } else {\n",
       "      maybeLoadScript(\"vega\", \"5\")\n",
       "        .then(() => maybeLoadScript(\"vega-lite\", \"4.17.0\"))\n",
       "        .then(() => maybeLoadScript(\"vega-embed\", \"6\"))\n",
       "        .catch(showError)\n",
       "        .then(() => displayChart(vegaEmbed));\n",
       "    }\n",
       "  })({\"config\": {\"view\": {\"continuousWidth\": 400, \"continuousHeight\": 300}}, \"layer\": [{\"mark\": \"rect\", \"encoding\": {\"color\": {\"aggregate\": \"count\", \"type\": \"quantitative\"}, \"tooltip\": [{\"aggregate\": \"count\", \"type\": \"quantitative\"}], \"x\": {\"field\": \"model_year\", \"type\": \"ordinal\"}, \"y\": {\"field\": \"cylinders\", \"type\": \"ordinal\"}}}, {\"mark\": \"text\", \"encoding\": {\"text\": {\"aggregate\": \"count\", \"type\": \"quantitative\"}, \"x\": {\"field\": \"model_year\", \"type\": \"ordinal\"}, \"y\": {\"field\": \"cylinders\", \"type\": \"ordinal\"}}}], \"data\": {\"name\": \"data-f1198cc0481ad698d7dc4699e0a3efa7\"}, \"$schema\": \"https://vega.github.io/schema/vega-lite/v4.17.0.json\", \"datasets\": {\"data-f1198cc0481ad698d7dc4699e0a3efa7\": [{\"mpg\": 18.0, \"cylinders\": 8, \"displacement\": 307.0, \"horsepower\": 130.0, \"weight\": 3504, \"acceleration\": 12.0, \"model_year\": 70, \"origin\": \"usa\", \"name\": \"chevrolet chevelle malibu\"}, {\"mpg\": 15.0, \"cylinders\": 8, \"displacement\": 350.0, \"horsepower\": 165.0, \"weight\": 3693, \"acceleration\": 11.5, \"model_year\": 70, \"origin\": \"usa\", \"name\": \"buick skylark 320\"}, {\"mpg\": 18.0, \"cylinders\": 8, \"displacement\": 318.0, \"horsepower\": 150.0, \"weight\": 3436, \"acceleration\": 11.0, \"model_year\": 70, \"origin\": \"usa\", \"name\": \"plymouth satellite\"}, {\"mpg\": 16.0, \"cylinders\": 8, \"displacement\": 304.0, \"horsepower\": 150.0, \"weight\": 3433, \"acceleration\": 12.0, \"model_year\": 70, \"origin\": \"usa\", \"name\": \"amc rebel sst\"}, {\"mpg\": 17.0, \"cylinders\": 8, \"displacement\": 302.0, \"horsepower\": 140.0, \"weight\": 3449, \"acceleration\": 10.5, \"model_year\": 70, \"origin\": \"usa\", \"name\": \"ford torino\"}, {\"mpg\": 15.0, \"cylinders\": 8, \"displacement\": 429.0, \"horsepower\": 198.0, \"weight\": 4341, \"acceleration\": 10.0, \"model_year\": 70, \"origin\": \"usa\", \"name\": \"ford galaxie 500\"}, {\"mpg\": 14.0, \"cylinders\": 8, \"displacement\": 454.0, \"horsepower\": 220.0, \"weight\": 4354, \"acceleration\": 9.0, \"model_year\": 70, \"origin\": \"usa\", \"name\": \"chevrolet impala\"}, {\"mpg\": 14.0, \"cylinders\": 8, \"displacement\": 440.0, \"horsepower\": 215.0, \"weight\": 4312, \"acceleration\": 8.5, \"model_year\": 70, \"origin\": \"usa\", \"name\": \"plymouth fury iii\"}, {\"mpg\": 14.0, \"cylinders\": 8, \"displacement\": 455.0, \"horsepower\": 225.0, \"weight\": 4425, \"acceleration\": 10.0, \"model_year\": 70, \"origin\": \"usa\", \"name\": \"pontiac catalina\"}, {\"mpg\": 15.0, \"cylinders\": 8, \"displacement\": 390.0, \"horsepower\": 190.0, \"weight\": 3850, \"acceleration\": 8.5, \"model_year\": 70, \"origin\": \"usa\", \"name\": \"amc ambassador dpl\"}, {\"mpg\": 15.0, \"cylinders\": 8, \"displacement\": 383.0, \"horsepower\": 170.0, \"weight\": 3563, \"acceleration\": 10.0, \"model_year\": 70, \"origin\": \"usa\", \"name\": \"dodge challenger se\"}, {\"mpg\": 14.0, \"cylinders\": 8, \"displacement\": 340.0, \"horsepower\": 160.0, \"weight\": 3609, \"acceleration\": 8.0, \"model_year\": 70, \"origin\": \"usa\", \"name\": \"plymouth 'cuda 340\"}, {\"mpg\": 15.0, \"cylinders\": 8, \"displacement\": 400.0, \"horsepower\": 150.0, \"weight\": 3761, \"acceleration\": 9.5, \"model_year\": 70, \"origin\": \"usa\", \"name\": \"chevrolet monte carlo\"}, {\"mpg\": 14.0, \"cylinders\": 8, \"displacement\": 455.0, \"horsepower\": 225.0, \"weight\": 3086, \"acceleration\": 10.0, \"model_year\": 70, \"origin\": \"usa\", \"name\": \"buick estate wagon (sw)\"}, {\"mpg\": 24.0, \"cylinders\": 4, \"displacement\": 113.0, \"horsepower\": 95.0, \"weight\": 2372, \"acceleration\": 15.0, \"model_year\": 70, \"origin\": \"japan\", \"name\": \"toyota corona mark ii\"}, {\"mpg\": 22.0, \"cylinders\": 6, \"displacement\": 198.0, \"horsepower\": 95.0, \"weight\": 2833, \"acceleration\": 15.5, \"model_year\": 70, \"origin\": \"usa\", \"name\": \"plymouth duster\"}, {\"mpg\": 18.0, \"cylinders\": 6, \"displacement\": 199.0, \"horsepower\": 97.0, \"weight\": 2774, \"acceleration\": 15.5, \"model_year\": 70, \"origin\": \"usa\", \"name\": \"amc hornet\"}, {\"mpg\": 21.0, \"cylinders\": 6, \"displacement\": 200.0, \"horsepower\": 85.0, \"weight\": 2587, \"acceleration\": 16.0, \"model_year\": 70, \"origin\": \"usa\", \"name\": \"ford maverick\"}, {\"mpg\": 27.0, \"cylinders\": 4, \"displacement\": 97.0, \"horsepower\": 88.0, \"weight\": 2130, \"acceleration\": 14.5, \"model_year\": 70, \"origin\": \"japan\", \"name\": \"datsun pl510\"}, {\"mpg\": 26.0, \"cylinders\": 4, \"displacement\": 97.0, \"horsepower\": 46.0, \"weight\": 1835, \"acceleration\": 20.5, \"model_year\": 70, \"origin\": \"europe\", \"name\": \"volkswagen 1131 deluxe sedan\"}, {\"mpg\": 25.0, \"cylinders\": 4, \"displacement\": 110.0, \"horsepower\": 87.0, \"weight\": 2672, \"acceleration\": 17.5, \"model_year\": 70, \"origin\": \"europe\", \"name\": \"peugeot 504\"}, {\"mpg\": 24.0, \"cylinders\": 4, \"displacement\": 107.0, \"horsepower\": 90.0, \"weight\": 2430, \"acceleration\": 14.5, \"model_year\": 70, \"origin\": \"europe\", \"name\": \"audi 100 ls\"}, {\"mpg\": 25.0, \"cylinders\": 4, \"displacement\": 104.0, \"horsepower\": 95.0, \"weight\": 2375, \"acceleration\": 17.5, \"model_year\": 70, \"origin\": \"europe\", \"name\": \"saab 99e\"}, {\"mpg\": 26.0, \"cylinders\": 4, \"displacement\": 121.0, \"horsepower\": 113.0, \"weight\": 2234, \"acceleration\": 12.5, \"model_year\": 70, \"origin\": \"europe\", \"name\": \"bmw 2002\"}, {\"mpg\": 21.0, \"cylinders\": 6, \"displacement\": 199.0, \"horsepower\": 90.0, \"weight\": 2648, \"acceleration\": 15.0, \"model_year\": 70, \"origin\": \"usa\", \"name\": \"amc gremlin\"}, {\"mpg\": 10.0, \"cylinders\": 8, \"displacement\": 360.0, \"horsepower\": 215.0, \"weight\": 4615, \"acceleration\": 14.0, \"model_year\": 70, \"origin\": \"usa\", \"name\": \"ford f250\"}, {\"mpg\": 10.0, \"cylinders\": 8, \"displacement\": 307.0, \"horsepower\": 200.0, \"weight\": 4376, \"acceleration\": 15.0, \"model_year\": 70, \"origin\": \"usa\", \"name\": \"chevy c20\"}, {\"mpg\": 11.0, \"cylinders\": 8, \"displacement\": 318.0, \"horsepower\": 210.0, \"weight\": 4382, \"acceleration\": 13.5, \"model_year\": 70, \"origin\": \"usa\", \"name\": \"dodge d200\"}, {\"mpg\": 9.0, \"cylinders\": 8, \"displacement\": 304.0, \"horsepower\": 193.0, \"weight\": 4732, \"acceleration\": 18.5, \"model_year\": 70, \"origin\": \"usa\", \"name\": \"hi 1200d\"}, {\"mpg\": 27.0, \"cylinders\": 4, \"displacement\": 97.0, \"horsepower\": 88.0, \"weight\": 2130, \"acceleration\": 14.5, \"model_year\": 71, \"origin\": \"japan\", \"name\": \"datsun pl510\"}, {\"mpg\": 28.0, \"cylinders\": 4, \"displacement\": 140.0, \"horsepower\": 90.0, \"weight\": 2264, \"acceleration\": 15.5, \"model_year\": 71, \"origin\": \"usa\", \"name\": \"chevrolet vega 2300\"}, {\"mpg\": 25.0, \"cylinders\": 4, \"displacement\": 113.0, \"horsepower\": 95.0, \"weight\": 2228, \"acceleration\": 14.0, \"model_year\": 71, \"origin\": \"japan\", \"name\": \"toyota corona\"}, {\"mpg\": 25.0, \"cylinders\": 4, \"displacement\": 98.0, \"horsepower\": null, \"weight\": 2046, \"acceleration\": 19.0, \"model_year\": 71, \"origin\": \"usa\", \"name\": \"ford pinto\"}, {\"mpg\": 19.0, \"cylinders\": 6, \"displacement\": 232.0, \"horsepower\": 100.0, \"weight\": 2634, \"acceleration\": 13.0, \"model_year\": 71, \"origin\": \"usa\", \"name\": \"amc gremlin\"}, {\"mpg\": 16.0, \"cylinders\": 6, \"displacement\": 225.0, \"horsepower\": 105.0, \"weight\": 3439, \"acceleration\": 15.5, \"model_year\": 71, \"origin\": \"usa\", \"name\": \"plymouth satellite custom\"}, {\"mpg\": 17.0, \"cylinders\": 6, \"displacement\": 250.0, \"horsepower\": 100.0, \"weight\": 3329, \"acceleration\": 15.5, \"model_year\": 71, \"origin\": \"usa\", \"name\": \"chevrolet chevelle malibu\"}, {\"mpg\": 19.0, \"cylinders\": 6, \"displacement\": 250.0, \"horsepower\": 88.0, \"weight\": 3302, \"acceleration\": 15.5, \"model_year\": 71, \"origin\": \"usa\", \"name\": \"ford torino 500\"}, {\"mpg\": 18.0, \"cylinders\": 6, \"displacement\": 232.0, \"horsepower\": 100.0, \"weight\": 3288, \"acceleration\": 15.5, \"model_year\": 71, \"origin\": \"usa\", \"name\": \"amc matador\"}, {\"mpg\": 14.0, \"cylinders\": 8, \"displacement\": 350.0, \"horsepower\": 165.0, \"weight\": 4209, \"acceleration\": 12.0, \"model_year\": 71, \"origin\": \"usa\", \"name\": \"chevrolet impala\"}, {\"mpg\": 14.0, \"cylinders\": 8, \"displacement\": 400.0, \"horsepower\": 175.0, \"weight\": 4464, \"acceleration\": 11.5, \"model_year\": 71, \"origin\": \"usa\", \"name\": \"pontiac catalina brougham\"}, {\"mpg\": 14.0, \"cylinders\": 8, \"displacement\": 351.0, \"horsepower\": 153.0, \"weight\": 4154, \"acceleration\": 13.5, \"model_year\": 71, \"origin\": \"usa\", \"name\": \"ford galaxie 500\"}, {\"mpg\": 14.0, \"cylinders\": 8, \"displacement\": 318.0, \"horsepower\": 150.0, \"weight\": 4096, \"acceleration\": 13.0, \"model_year\": 71, \"origin\": \"usa\", \"name\": \"plymouth fury iii\"}, {\"mpg\": 12.0, \"cylinders\": 8, \"displacement\": 383.0, \"horsepower\": 180.0, \"weight\": 4955, \"acceleration\": 11.5, \"model_year\": 71, \"origin\": \"usa\", \"name\": \"dodge monaco (sw)\"}, {\"mpg\": 13.0, \"cylinders\": 8, \"displacement\": 400.0, \"horsepower\": 170.0, \"weight\": 4746, \"acceleration\": 12.0, \"model_year\": 71, \"origin\": \"usa\", \"name\": \"ford country squire (sw)\"}, {\"mpg\": 13.0, \"cylinders\": 8, \"displacement\": 400.0, \"horsepower\": 175.0, \"weight\": 5140, \"acceleration\": 12.0, \"model_year\": 71, \"origin\": \"usa\", \"name\": \"pontiac safari (sw)\"}, {\"mpg\": 18.0, \"cylinders\": 6, \"displacement\": 258.0, \"horsepower\": 110.0, \"weight\": 2962, \"acceleration\": 13.5, \"model_year\": 71, \"origin\": \"usa\", \"name\": \"amc hornet sportabout (sw)\"}, {\"mpg\": 22.0, \"cylinders\": 4, \"displacement\": 140.0, \"horsepower\": 72.0, \"weight\": 2408, \"acceleration\": 19.0, \"model_year\": 71, \"origin\": \"usa\", \"name\": \"chevrolet vega (sw)\"}, {\"mpg\": 19.0, \"cylinders\": 6, \"displacement\": 250.0, \"horsepower\": 100.0, \"weight\": 3282, \"acceleration\": 15.0, \"model_year\": 71, \"origin\": \"usa\", \"name\": \"pontiac firebird\"}, {\"mpg\": 18.0, \"cylinders\": 6, \"displacement\": 250.0, \"horsepower\": 88.0, \"weight\": 3139, \"acceleration\": 14.5, \"model_year\": 71, \"origin\": \"usa\", \"name\": \"ford mustang\"}, {\"mpg\": 23.0, \"cylinders\": 4, \"displacement\": 122.0, \"horsepower\": 86.0, \"weight\": 2220, \"acceleration\": 14.0, \"model_year\": 71, \"origin\": \"usa\", \"name\": \"mercury capri 2000\"}, {\"mpg\": 28.0, \"cylinders\": 4, \"displacement\": 116.0, \"horsepower\": 90.0, \"weight\": 2123, \"acceleration\": 14.0, \"model_year\": 71, \"origin\": \"europe\", \"name\": \"opel 1900\"}, {\"mpg\": 30.0, \"cylinders\": 4, \"displacement\": 79.0, \"horsepower\": 70.0, \"weight\": 2074, \"acceleration\": 19.5, \"model_year\": 71, \"origin\": \"europe\", \"name\": \"peugeot 304\"}, {\"mpg\": 30.0, \"cylinders\": 4, \"displacement\": 88.0, \"horsepower\": 76.0, \"weight\": 2065, \"acceleration\": 14.5, \"model_year\": 71, \"origin\": \"europe\", \"name\": \"fiat 124b\"}, {\"mpg\": 31.0, \"cylinders\": 4, \"displacement\": 71.0, \"horsepower\": 65.0, \"weight\": 1773, \"acceleration\": 19.0, \"model_year\": 71, \"origin\": \"japan\", \"name\": \"toyota corolla 1200\"}, {\"mpg\": 35.0, \"cylinders\": 4, \"displacement\": 72.0, \"horsepower\": 69.0, \"weight\": 1613, \"acceleration\": 18.0, \"model_year\": 71, \"origin\": \"japan\", \"name\": \"datsun 1200\"}, {\"mpg\": 27.0, \"cylinders\": 4, \"displacement\": 97.0, \"horsepower\": 60.0, \"weight\": 1834, \"acceleration\": 19.0, \"model_year\": 71, \"origin\": \"europe\", \"name\": \"volkswagen model 111\"}, {\"mpg\": 26.0, \"cylinders\": 4, \"displacement\": 91.0, \"horsepower\": 70.0, \"weight\": 1955, \"acceleration\": 20.5, \"model_year\": 71, \"origin\": \"usa\", \"name\": \"plymouth cricket\"}, {\"mpg\": 24.0, \"cylinders\": 4, \"displacement\": 113.0, \"horsepower\": 95.0, \"weight\": 2278, \"acceleration\": 15.5, \"model_year\": 72, \"origin\": \"japan\", \"name\": \"toyota corona hardtop\"}, {\"mpg\": 25.0, \"cylinders\": 4, \"displacement\": 97.5, \"horsepower\": 80.0, \"weight\": 2126, \"acceleration\": 17.0, \"model_year\": 72, \"origin\": \"usa\", \"name\": \"dodge colt hardtop\"}, {\"mpg\": 23.0, \"cylinders\": 4, \"displacement\": 97.0, \"horsepower\": 54.0, \"weight\": 2254, \"acceleration\": 23.5, \"model_year\": 72, \"origin\": \"europe\", \"name\": \"volkswagen type 3\"}, {\"mpg\": 20.0, \"cylinders\": 4, \"displacement\": 140.0, \"horsepower\": 90.0, \"weight\": 2408, \"acceleration\": 19.5, \"model_year\": 72, \"origin\": \"usa\", \"name\": \"chevrolet vega\"}, {\"mpg\": 21.0, \"cylinders\": 4, \"displacement\": 122.0, \"horsepower\": 86.0, \"weight\": 2226, \"acceleration\": 16.5, \"model_year\": 72, \"origin\": \"usa\", \"name\": \"ford pinto runabout\"}, {\"mpg\": 13.0, \"cylinders\": 8, \"displacement\": 350.0, \"horsepower\": 165.0, \"weight\": 4274, \"acceleration\": 12.0, \"model_year\": 72, \"origin\": \"usa\", \"name\": \"chevrolet impala\"}, {\"mpg\": 14.0, \"cylinders\": 8, \"displacement\": 400.0, \"horsepower\": 175.0, \"weight\": 4385, \"acceleration\": 12.0, \"model_year\": 72, \"origin\": \"usa\", \"name\": \"pontiac catalina\"}, {\"mpg\": 15.0, \"cylinders\": 8, \"displacement\": 318.0, \"horsepower\": 150.0, \"weight\": 4135, \"acceleration\": 13.5, \"model_year\": 72, \"origin\": \"usa\", \"name\": \"plymouth fury iii\"}, {\"mpg\": 14.0, \"cylinders\": 8, \"displacement\": 351.0, \"horsepower\": 153.0, \"weight\": 4129, \"acceleration\": 13.0, \"model_year\": 72, \"origin\": \"usa\", \"name\": \"ford galaxie 500\"}, {\"mpg\": 17.0, \"cylinders\": 8, \"displacement\": 304.0, \"horsepower\": 150.0, \"weight\": 3672, \"acceleration\": 11.5, \"model_year\": 72, \"origin\": \"usa\", \"name\": \"amc ambassador sst\"}, {\"mpg\": 11.0, \"cylinders\": 8, \"displacement\": 429.0, \"horsepower\": 208.0, \"weight\": 4633, \"acceleration\": 11.0, \"model_year\": 72, \"origin\": \"usa\", \"name\": \"mercury marquis\"}, {\"mpg\": 13.0, \"cylinders\": 8, \"displacement\": 350.0, \"horsepower\": 155.0, \"weight\": 4502, \"acceleration\": 13.5, \"model_year\": 72, \"origin\": \"usa\", \"name\": \"buick lesabre custom\"}, {\"mpg\": 12.0, \"cylinders\": 8, \"displacement\": 350.0, \"horsepower\": 160.0, \"weight\": 4456, \"acceleration\": 13.5, \"model_year\": 72, \"origin\": \"usa\", \"name\": \"oldsmobile delta 88 royale\"}, {\"mpg\": 13.0, \"cylinders\": 8, \"displacement\": 400.0, \"horsepower\": 190.0, \"weight\": 4422, \"acceleration\": 12.5, \"model_year\": 72, \"origin\": \"usa\", \"name\": \"chrysler newport royal\"}, {\"mpg\": 19.0, \"cylinders\": 3, \"displacement\": 70.0, \"horsepower\": 97.0, \"weight\": 2330, \"acceleration\": 13.5, \"model_year\": 72, \"origin\": \"japan\", \"name\": \"mazda rx2 coupe\"}, {\"mpg\": 15.0, \"cylinders\": 8, \"displacement\": 304.0, \"horsepower\": 150.0, \"weight\": 3892, \"acceleration\": 12.5, \"model_year\": 72, \"origin\": \"usa\", \"name\": \"amc matador (sw)\"}, {\"mpg\": 13.0, \"cylinders\": 8, \"displacement\": 307.0, \"horsepower\": 130.0, \"weight\": 4098, \"acceleration\": 14.0, \"model_year\": 72, \"origin\": \"usa\", \"name\": \"chevrolet chevelle concours (sw)\"}, {\"mpg\": 13.0, \"cylinders\": 8, \"displacement\": 302.0, \"horsepower\": 140.0, \"weight\": 4294, \"acceleration\": 16.0, \"model_year\": 72, \"origin\": \"usa\", \"name\": \"ford gran torino (sw)\"}, {\"mpg\": 14.0, \"cylinders\": 8, \"displacement\": 318.0, \"horsepower\": 150.0, \"weight\": 4077, \"acceleration\": 14.0, \"model_year\": 72, \"origin\": \"usa\", \"name\": \"plymouth satellite custom (sw)\"}, {\"mpg\": 18.0, \"cylinders\": 4, \"displacement\": 121.0, \"horsepower\": 112.0, \"weight\": 2933, \"acceleration\": 14.5, \"model_year\": 72, \"origin\": \"europe\", \"name\": \"volvo 145e (sw)\"}, {\"mpg\": 22.0, \"cylinders\": 4, \"displacement\": 121.0, \"horsepower\": 76.0, \"weight\": 2511, \"acceleration\": 18.0, \"model_year\": 72, \"origin\": \"europe\", \"name\": \"volkswagen 411 (sw)\"}, {\"mpg\": 21.0, \"cylinders\": 4, \"displacement\": 120.0, \"horsepower\": 87.0, \"weight\": 2979, \"acceleration\": 19.5, \"model_year\": 72, \"origin\": \"europe\", \"name\": \"peugeot 504 (sw)\"}, {\"mpg\": 26.0, \"cylinders\": 4, \"displacement\": 96.0, \"horsepower\": 69.0, \"weight\": 2189, \"acceleration\": 18.0, \"model_year\": 72, \"origin\": \"europe\", \"name\": \"renault 12 (sw)\"}, {\"mpg\": 22.0, \"cylinders\": 4, \"displacement\": 122.0, \"horsepower\": 86.0, \"weight\": 2395, \"acceleration\": 16.0, \"model_year\": 72, \"origin\": \"usa\", \"name\": \"ford pinto (sw)\"}, {\"mpg\": 28.0, \"cylinders\": 4, \"displacement\": 97.0, \"horsepower\": 92.0, \"weight\": 2288, \"acceleration\": 17.0, \"model_year\": 72, \"origin\": \"japan\", \"name\": \"datsun 510 (sw)\"}, {\"mpg\": 23.0, \"cylinders\": 4, \"displacement\": 120.0, \"horsepower\": 97.0, \"weight\": 2506, \"acceleration\": 14.5, \"model_year\": 72, \"origin\": \"japan\", \"name\": \"toyouta corona mark ii (sw)\"}, {\"mpg\": 28.0, \"cylinders\": 4, \"displacement\": 98.0, \"horsepower\": 80.0, \"weight\": 2164, \"acceleration\": 15.0, \"model_year\": 72, \"origin\": \"usa\", \"name\": \"dodge colt (sw)\"}, {\"mpg\": 27.0, \"cylinders\": 4, \"displacement\": 97.0, \"horsepower\": 88.0, \"weight\": 2100, \"acceleration\": 16.5, \"model_year\": 72, \"origin\": \"japan\", \"name\": \"toyota corolla 1600 (sw)\"}, {\"mpg\": 13.0, \"cylinders\": 8, \"displacement\": 350.0, \"horsepower\": 175.0, \"weight\": 4100, \"acceleration\": 13.0, \"model_year\": 73, \"origin\": \"usa\", \"name\": \"buick century 350\"}, {\"mpg\": 14.0, \"cylinders\": 8, \"displacement\": 304.0, \"horsepower\": 150.0, \"weight\": 3672, \"acceleration\": 11.5, \"model_year\": 73, \"origin\": \"usa\", \"name\": \"amc matador\"}, {\"mpg\": 13.0, \"cylinders\": 8, \"displacement\": 350.0, \"horsepower\": 145.0, \"weight\": 3988, \"acceleration\": 13.0, \"model_year\": 73, \"origin\": \"usa\", \"name\": \"chevrolet malibu\"}, {\"mpg\": 14.0, \"cylinders\": 8, \"displacement\": 302.0, \"horsepower\": 137.0, \"weight\": 4042, \"acceleration\": 14.5, \"model_year\": 73, \"origin\": \"usa\", \"name\": \"ford gran torino\"}, {\"mpg\": 15.0, \"cylinders\": 8, \"displacement\": 318.0, \"horsepower\": 150.0, \"weight\": 3777, \"acceleration\": 12.5, \"model_year\": 73, \"origin\": \"usa\", \"name\": \"dodge coronet custom\"}, {\"mpg\": 12.0, \"cylinders\": 8, \"displacement\": 429.0, \"horsepower\": 198.0, \"weight\": 4952, \"acceleration\": 11.5, \"model_year\": 73, \"origin\": \"usa\", \"name\": \"mercury marquis brougham\"}, {\"mpg\": 13.0, \"cylinders\": 8, \"displacement\": 400.0, \"horsepower\": 150.0, \"weight\": 4464, \"acceleration\": 12.0, \"model_year\": 73, \"origin\": \"usa\", \"name\": \"chevrolet caprice classic\"}, {\"mpg\": 13.0, \"cylinders\": 8, \"displacement\": 351.0, \"horsepower\": 158.0, \"weight\": 4363, \"acceleration\": 13.0, \"model_year\": 73, \"origin\": \"usa\", \"name\": \"ford ltd\"}, {\"mpg\": 14.0, \"cylinders\": 8, \"displacement\": 318.0, \"horsepower\": 150.0, \"weight\": 4237, \"acceleration\": 14.5, \"model_year\": 73, \"origin\": \"usa\", \"name\": \"plymouth fury gran sedan\"}, {\"mpg\": 13.0, \"cylinders\": 8, \"displacement\": 440.0, \"horsepower\": 215.0, \"weight\": 4735, \"acceleration\": 11.0, \"model_year\": 73, \"origin\": \"usa\", \"name\": \"chrysler new yorker brougham\"}, {\"mpg\": 12.0, \"cylinders\": 8, \"displacement\": 455.0, \"horsepower\": 225.0, \"weight\": 4951, \"acceleration\": 11.0, \"model_year\": 73, \"origin\": \"usa\", \"name\": \"buick electra 225 custom\"}, {\"mpg\": 13.0, \"cylinders\": 8, \"displacement\": 360.0, \"horsepower\": 175.0, \"weight\": 3821, \"acceleration\": 11.0, \"model_year\": 73, \"origin\": \"usa\", \"name\": \"amc ambassador brougham\"}, {\"mpg\": 18.0, \"cylinders\": 6, \"displacement\": 225.0, \"horsepower\": 105.0, \"weight\": 3121, \"acceleration\": 16.5, \"model_year\": 73, \"origin\": \"usa\", \"name\": \"plymouth valiant\"}, {\"mpg\": 16.0, \"cylinders\": 6, \"displacement\": 250.0, \"horsepower\": 100.0, \"weight\": 3278, \"acceleration\": 18.0, \"model_year\": 73, \"origin\": \"usa\", \"name\": \"chevrolet nova custom\"}, {\"mpg\": 18.0, \"cylinders\": 6, \"displacement\": 232.0, \"horsepower\": 100.0, \"weight\": 2945, \"acceleration\": 16.0, \"model_year\": 73, \"origin\": \"usa\", \"name\": \"amc hornet\"}, {\"mpg\": 18.0, \"cylinders\": 6, \"displacement\": 250.0, \"horsepower\": 88.0, \"weight\": 3021, \"acceleration\": 16.5, \"model_year\": 73, \"origin\": \"usa\", \"name\": \"ford maverick\"}, {\"mpg\": 23.0, \"cylinders\": 6, \"displacement\": 198.0, \"horsepower\": 95.0, \"weight\": 2904, \"acceleration\": 16.0, \"model_year\": 73, \"origin\": \"usa\", \"name\": \"plymouth duster\"}, {\"mpg\": 26.0, \"cylinders\": 4, \"displacement\": 97.0, \"horsepower\": 46.0, \"weight\": 1950, \"acceleration\": 21.0, \"model_year\": 73, \"origin\": \"europe\", \"name\": \"volkswagen super beetle\"}, {\"mpg\": 11.0, \"cylinders\": 8, \"displacement\": 400.0, \"horsepower\": 150.0, \"weight\": 4997, \"acceleration\": 14.0, \"model_year\": 73, \"origin\": \"usa\", \"name\": \"chevrolet impala\"}, {\"mpg\": 12.0, \"cylinders\": 8, \"displacement\": 400.0, \"horsepower\": 167.0, \"weight\": 4906, \"acceleration\": 12.5, \"model_year\": 73, \"origin\": \"usa\", \"name\": \"ford country\"}, {\"mpg\": 13.0, \"cylinders\": 8, \"displacement\": 360.0, \"horsepower\": 170.0, \"weight\": 4654, \"acceleration\": 13.0, \"model_year\": 73, \"origin\": \"usa\", \"name\": \"plymouth custom suburb\"}, {\"mpg\": 12.0, \"cylinders\": 8, \"displacement\": 350.0, \"horsepower\": 180.0, \"weight\": 4499, \"acceleration\": 12.5, \"model_year\": 73, \"origin\": \"usa\", \"name\": \"oldsmobile vista cruiser\"}, {\"mpg\": 18.0, \"cylinders\": 6, \"displacement\": 232.0, \"horsepower\": 100.0, \"weight\": 2789, \"acceleration\": 15.0, \"model_year\": 73, \"origin\": \"usa\", \"name\": \"amc gremlin\"}, {\"mpg\": 20.0, \"cylinders\": 4, \"displacement\": 97.0, \"horsepower\": 88.0, \"weight\": 2279, \"acceleration\": 19.0, \"model_year\": 73, \"origin\": \"japan\", \"name\": \"toyota carina\"}, {\"mpg\": 21.0, \"cylinders\": 4, \"displacement\": 140.0, \"horsepower\": 72.0, \"weight\": 2401, \"acceleration\": 19.5, \"model_year\": 73, \"origin\": \"usa\", \"name\": \"chevrolet vega\"}, {\"mpg\": 22.0, \"cylinders\": 4, \"displacement\": 108.0, \"horsepower\": 94.0, \"weight\": 2379, \"acceleration\": 16.5, \"model_year\": 73, \"origin\": \"japan\", \"name\": \"datsun 610\"}, {\"mpg\": 18.0, \"cylinders\": 3, \"displacement\": 70.0, \"horsepower\": 90.0, \"weight\": 2124, \"acceleration\": 13.5, \"model_year\": 73, \"origin\": \"japan\", \"name\": \"maxda rx3\"}, {\"mpg\": 19.0, \"cylinders\": 4, \"displacement\": 122.0, \"horsepower\": 85.0, \"weight\": 2310, \"acceleration\": 18.5, \"model_year\": 73, \"origin\": \"usa\", \"name\": \"ford pinto\"}, {\"mpg\": 21.0, \"cylinders\": 6, \"displacement\": 155.0, \"horsepower\": 107.0, \"weight\": 2472, \"acceleration\": 14.0, \"model_year\": 73, \"origin\": \"usa\", \"name\": \"mercury capri v6\"}, {\"mpg\": 26.0, \"cylinders\": 4, \"displacement\": 98.0, \"horsepower\": 90.0, \"weight\": 2265, \"acceleration\": 15.5, \"model_year\": 73, \"origin\": \"europe\", \"name\": \"fiat 124 sport coupe\"}, {\"mpg\": 15.0, \"cylinders\": 8, \"displacement\": 350.0, \"horsepower\": 145.0, \"weight\": 4082, \"acceleration\": 13.0, \"model_year\": 73, \"origin\": \"usa\", \"name\": \"chevrolet monte carlo s\"}, {\"mpg\": 16.0, \"cylinders\": 8, \"displacement\": 400.0, \"horsepower\": 230.0, \"weight\": 4278, \"acceleration\": 9.5, \"model_year\": 73, \"origin\": \"usa\", \"name\": \"pontiac grand prix\"}, {\"mpg\": 29.0, \"cylinders\": 4, \"displacement\": 68.0, \"horsepower\": 49.0, \"weight\": 1867, \"acceleration\": 19.5, \"model_year\": 73, \"origin\": \"europe\", \"name\": \"fiat 128\"}, {\"mpg\": 24.0, \"cylinders\": 4, \"displacement\": 116.0, \"horsepower\": 75.0, \"weight\": 2158, \"acceleration\": 15.5, \"model_year\": 73, \"origin\": \"europe\", \"name\": \"opel manta\"}, {\"mpg\": 20.0, \"cylinders\": 4, \"displacement\": 114.0, \"horsepower\": 91.0, \"weight\": 2582, \"acceleration\": 14.0, \"model_year\": 73, \"origin\": \"europe\", \"name\": \"audi 100ls\"}, {\"mpg\": 19.0, \"cylinders\": 4, \"displacement\": 121.0, \"horsepower\": 112.0, \"weight\": 2868, \"acceleration\": 15.5, \"model_year\": 73, \"origin\": \"europe\", \"name\": \"volvo 144ea\"}, {\"mpg\": 15.0, \"cylinders\": 8, \"displacement\": 318.0, \"horsepower\": 150.0, \"weight\": 3399, \"acceleration\": 11.0, \"model_year\": 73, \"origin\": \"usa\", \"name\": \"dodge dart custom\"}, {\"mpg\": 24.0, \"cylinders\": 4, \"displacement\": 121.0, \"horsepower\": 110.0, \"weight\": 2660, \"acceleration\": 14.0, \"model_year\": 73, \"origin\": \"europe\", \"name\": \"saab 99le\"}, {\"mpg\": 20.0, \"cylinders\": 6, \"displacement\": 156.0, \"horsepower\": 122.0, \"weight\": 2807, \"acceleration\": 13.5, \"model_year\": 73, \"origin\": \"japan\", \"name\": \"toyota mark ii\"}, {\"mpg\": 11.0, \"cylinders\": 8, \"displacement\": 350.0, \"horsepower\": 180.0, \"weight\": 3664, \"acceleration\": 11.0, \"model_year\": 73, \"origin\": \"usa\", \"name\": \"oldsmobile omega\"}, {\"mpg\": 20.0, \"cylinders\": 6, \"displacement\": 198.0, \"horsepower\": 95.0, \"weight\": 3102, \"acceleration\": 16.5, \"model_year\": 74, \"origin\": \"usa\", \"name\": \"plymouth duster\"}, {\"mpg\": 21.0, \"cylinders\": 6, \"displacement\": 200.0, \"horsepower\": null, \"weight\": 2875, \"acceleration\": 17.0, \"model_year\": 74, \"origin\": \"usa\", \"name\": \"ford maverick\"}, {\"mpg\": 19.0, \"cylinders\": 6, \"displacement\": 232.0, \"horsepower\": 100.0, \"weight\": 2901, \"acceleration\": 16.0, \"model_year\": 74, \"origin\": \"usa\", \"name\": \"amc hornet\"}, {\"mpg\": 15.0, \"cylinders\": 6, \"displacement\": 250.0, \"horsepower\": 100.0, \"weight\": 3336, \"acceleration\": 17.0, \"model_year\": 74, \"origin\": \"usa\", \"name\": \"chevrolet nova\"}, {\"mpg\": 31.0, \"cylinders\": 4, \"displacement\": 79.0, \"horsepower\": 67.0, \"weight\": 1950, \"acceleration\": 19.0, \"model_year\": 74, \"origin\": \"japan\", \"name\": \"datsun b210\"}, {\"mpg\": 26.0, \"cylinders\": 4, \"displacement\": 122.0, \"horsepower\": 80.0, \"weight\": 2451, \"acceleration\": 16.5, \"model_year\": 74, \"origin\": \"usa\", \"name\": \"ford pinto\"}, {\"mpg\": 32.0, \"cylinders\": 4, \"displacement\": 71.0, \"horsepower\": 65.0, \"weight\": 1836, \"acceleration\": 21.0, \"model_year\": 74, \"origin\": \"japan\", \"name\": \"toyota corolla 1200\"}, {\"mpg\": 25.0, \"cylinders\": 4, \"displacement\": 140.0, \"horsepower\": 75.0, \"weight\": 2542, \"acceleration\": 17.0, \"model_year\": 74, \"origin\": \"usa\", \"name\": \"chevrolet vega\"}, {\"mpg\": 16.0, \"cylinders\": 6, \"displacement\": 250.0, \"horsepower\": 100.0, \"weight\": 3781, \"acceleration\": 17.0, \"model_year\": 74, \"origin\": \"usa\", \"name\": \"chevrolet chevelle malibu classic\"}, {\"mpg\": 16.0, \"cylinders\": 6, \"displacement\": 258.0, \"horsepower\": 110.0, \"weight\": 3632, \"acceleration\": 18.0, \"model_year\": 74, \"origin\": \"usa\", \"name\": \"amc matador\"}, {\"mpg\": 18.0, \"cylinders\": 6, \"displacement\": 225.0, \"horsepower\": 105.0, \"weight\": 3613, \"acceleration\": 16.5, \"model_year\": 74, \"origin\": \"usa\", \"name\": \"plymouth satellite sebring\"}, {\"mpg\": 16.0, \"cylinders\": 8, \"displacement\": 302.0, \"horsepower\": 140.0, \"weight\": 4141, \"acceleration\": 14.0, \"model_year\": 74, \"origin\": \"usa\", \"name\": \"ford gran torino\"}, {\"mpg\": 13.0, \"cylinders\": 8, \"displacement\": 350.0, \"horsepower\": 150.0, \"weight\": 4699, \"acceleration\": 14.5, \"model_year\": 74, \"origin\": \"usa\", \"name\": \"buick century luxus (sw)\"}, {\"mpg\": 14.0, \"cylinders\": 8, \"displacement\": 318.0, \"horsepower\": 150.0, \"weight\": 4457, \"acceleration\": 13.5, \"model_year\": 74, \"origin\": \"usa\", \"name\": \"dodge coronet custom (sw)\"}, {\"mpg\": 14.0, \"cylinders\": 8, \"displacement\": 302.0, \"horsepower\": 140.0, \"weight\": 4638, \"acceleration\": 16.0, \"model_year\": 74, \"origin\": \"usa\", \"name\": \"ford gran torino (sw)\"}, {\"mpg\": 14.0, \"cylinders\": 8, \"displacement\": 304.0, \"horsepower\": 150.0, \"weight\": 4257, \"acceleration\": 15.5, \"model_year\": 74, \"origin\": \"usa\", \"name\": \"amc matador (sw)\"}, {\"mpg\": 29.0, \"cylinders\": 4, \"displacement\": 98.0, \"horsepower\": 83.0, \"weight\": 2219, \"acceleration\": 16.5, \"model_year\": 74, \"origin\": \"europe\", \"name\": \"audi fox\"}, {\"mpg\": 26.0, \"cylinders\": 4, \"displacement\": 79.0, \"horsepower\": 67.0, \"weight\": 1963, \"acceleration\": 15.5, \"model_year\": 74, \"origin\": \"europe\", \"name\": \"volkswagen dasher\"}, {\"mpg\": 26.0, \"cylinders\": 4, \"displacement\": 97.0, \"horsepower\": 78.0, \"weight\": 2300, \"acceleration\": 14.5, \"model_year\": 74, \"origin\": \"europe\", \"name\": \"opel manta\"}, {\"mpg\": 31.0, \"cylinders\": 4, \"displacement\": 76.0, \"horsepower\": 52.0, \"weight\": 1649, \"acceleration\": 16.5, \"model_year\": 74, \"origin\": \"japan\", \"name\": \"toyota corona\"}, {\"mpg\": 32.0, \"cylinders\": 4, \"displacement\": 83.0, \"horsepower\": 61.0, \"weight\": 2003, \"acceleration\": 19.0, \"model_year\": 74, \"origin\": \"japan\", \"name\": \"datsun 710\"}, {\"mpg\": 28.0, \"cylinders\": 4, \"displacement\": 90.0, \"horsepower\": 75.0, \"weight\": 2125, \"acceleration\": 14.5, \"model_year\": 74, \"origin\": \"usa\", \"name\": \"dodge colt\"}, {\"mpg\": 24.0, \"cylinders\": 4, \"displacement\": 90.0, \"horsepower\": 75.0, \"weight\": 2108, \"acceleration\": 15.5, \"model_year\": 74, \"origin\": \"europe\", \"name\": \"fiat 128\"}, {\"mpg\": 26.0, \"cylinders\": 4, \"displacement\": 116.0, \"horsepower\": 75.0, \"weight\": 2246, \"acceleration\": 14.0, \"model_year\": 74, \"origin\": \"europe\", \"name\": \"fiat 124 tc\"}, {\"mpg\": 24.0, \"cylinders\": 4, \"displacement\": 120.0, \"horsepower\": 97.0, \"weight\": 2489, \"acceleration\": 15.0, \"model_year\": 74, \"origin\": \"japan\", \"name\": \"honda civic\"}, {\"mpg\": 26.0, \"cylinders\": 4, \"displacement\": 108.0, \"horsepower\": 93.0, \"weight\": 2391, \"acceleration\": 15.5, \"model_year\": 74, \"origin\": \"japan\", \"name\": \"subaru\"}, {\"mpg\": 31.0, \"cylinders\": 4, \"displacement\": 79.0, \"horsepower\": 67.0, \"weight\": 2000, \"acceleration\": 16.0, \"model_year\": 74, \"origin\": \"europe\", \"name\": \"fiat x1.9\"}, {\"mpg\": 19.0, \"cylinders\": 6, \"displacement\": 225.0, \"horsepower\": 95.0, \"weight\": 3264, \"acceleration\": 16.0, \"model_year\": 75, \"origin\": \"usa\", \"name\": \"plymouth valiant custom\"}, {\"mpg\": 18.0, \"cylinders\": 6, \"displacement\": 250.0, \"horsepower\": 105.0, \"weight\": 3459, \"acceleration\": 16.0, \"model_year\": 75, \"origin\": \"usa\", \"name\": \"chevrolet nova\"}, {\"mpg\": 15.0, \"cylinders\": 6, \"displacement\": 250.0, \"horsepower\": 72.0, \"weight\": 3432, \"acceleration\": 21.0, \"model_year\": 75, \"origin\": \"usa\", \"name\": \"mercury monarch\"}, {\"mpg\": 15.0, \"cylinders\": 6, \"displacement\": 250.0, \"horsepower\": 72.0, \"weight\": 3158, \"acceleration\": 19.5, \"model_year\": 75, \"origin\": \"usa\", \"name\": \"ford maverick\"}, {\"mpg\": 16.0, \"cylinders\": 8, \"displacement\": 400.0, \"horsepower\": 170.0, \"weight\": 4668, \"acceleration\": 11.5, \"model_year\": 75, \"origin\": \"usa\", \"name\": \"pontiac catalina\"}, {\"mpg\": 15.0, \"cylinders\": 8, \"displacement\": 350.0, \"horsepower\": 145.0, \"weight\": 4440, \"acceleration\": 14.0, \"model_year\": 75, \"origin\": \"usa\", \"name\": \"chevrolet bel air\"}, {\"mpg\": 16.0, \"cylinders\": 8, \"displacement\": 318.0, \"horsepower\": 150.0, \"weight\": 4498, \"acceleration\": 14.5, \"model_year\": 75, \"origin\": \"usa\", \"name\": \"plymouth grand fury\"}, {\"mpg\": 14.0, \"cylinders\": 8, \"displacement\": 351.0, \"horsepower\": 148.0, \"weight\": 4657, \"acceleration\": 13.5, \"model_year\": 75, \"origin\": \"usa\", \"name\": \"ford ltd\"}, {\"mpg\": 17.0, \"cylinders\": 6, \"displacement\": 231.0, \"horsepower\": 110.0, \"weight\": 3907, \"acceleration\": 21.0, \"model_year\": 75, \"origin\": \"usa\", \"name\": \"buick century\"}, {\"mpg\": 16.0, \"cylinders\": 6, \"displacement\": 250.0, \"horsepower\": 105.0, \"weight\": 3897, \"acceleration\": 18.5, \"model_year\": 75, \"origin\": \"usa\", \"name\": \"chevroelt chevelle malibu\"}, {\"mpg\": 15.0, \"cylinders\": 6, \"displacement\": 258.0, \"horsepower\": 110.0, \"weight\": 3730, \"acceleration\": 19.0, \"model_year\": 75, \"origin\": \"usa\", \"name\": \"amc matador\"}, {\"mpg\": 18.0, \"cylinders\": 6, \"displacement\": 225.0, \"horsepower\": 95.0, \"weight\": 3785, \"acceleration\": 19.0, \"model_year\": 75, \"origin\": \"usa\", \"name\": \"plymouth fury\"}, {\"mpg\": 21.0, \"cylinders\": 6, \"displacement\": 231.0, \"horsepower\": 110.0, \"weight\": 3039, \"acceleration\": 15.0, \"model_year\": 75, \"origin\": \"usa\", \"name\": \"buick skyhawk\"}, {\"mpg\": 20.0, \"cylinders\": 8, \"displacement\": 262.0, \"horsepower\": 110.0, \"weight\": 3221, \"acceleration\": 13.5, \"model_year\": 75, \"origin\": \"usa\", \"name\": \"chevrolet monza 2+2\"}, {\"mpg\": 13.0, \"cylinders\": 8, \"displacement\": 302.0, \"horsepower\": 129.0, \"weight\": 3169, \"acceleration\": 12.0, \"model_year\": 75, \"origin\": \"usa\", \"name\": \"ford mustang ii\"}, {\"mpg\": 29.0, \"cylinders\": 4, \"displacement\": 97.0, \"horsepower\": 75.0, \"weight\": 2171, \"acceleration\": 16.0, \"model_year\": 75, \"origin\": \"japan\", \"name\": \"toyota corolla\"}, {\"mpg\": 23.0, \"cylinders\": 4, \"displacement\": 140.0, \"horsepower\": 83.0, \"weight\": 2639, \"acceleration\": 17.0, \"model_year\": 75, \"origin\": \"usa\", \"name\": \"ford pinto\"}, {\"mpg\": 20.0, \"cylinders\": 6, \"displacement\": 232.0, \"horsepower\": 100.0, \"weight\": 2914, \"acceleration\": 16.0, \"model_year\": 75, \"origin\": \"usa\", \"name\": \"amc gremlin\"}, {\"mpg\": 23.0, \"cylinders\": 4, \"displacement\": 140.0, \"horsepower\": 78.0, \"weight\": 2592, \"acceleration\": 18.5, \"model_year\": 75, \"origin\": \"usa\", \"name\": \"pontiac astro\"}, {\"mpg\": 24.0, \"cylinders\": 4, \"displacement\": 134.0, \"horsepower\": 96.0, \"weight\": 2702, \"acceleration\": 13.5, \"model_year\": 75, \"origin\": \"japan\", \"name\": \"toyota corona\"}, {\"mpg\": 25.0, \"cylinders\": 4, \"displacement\": 90.0, \"horsepower\": 71.0, \"weight\": 2223, \"acceleration\": 16.5, \"model_year\": 75, \"origin\": \"europe\", \"name\": \"volkswagen dasher\"}, {\"mpg\": 24.0, \"cylinders\": 4, \"displacement\": 119.0, \"horsepower\": 97.0, \"weight\": 2545, \"acceleration\": 17.0, \"model_year\": 75, \"origin\": \"japan\", \"name\": \"datsun 710\"}, {\"mpg\": 18.0, \"cylinders\": 6, \"displacement\": 171.0, \"horsepower\": 97.0, \"weight\": 2984, \"acceleration\": 14.5, \"model_year\": 75, \"origin\": \"usa\", \"name\": \"ford pinto\"}, {\"mpg\": 29.0, \"cylinders\": 4, \"displacement\": 90.0, \"horsepower\": 70.0, \"weight\": 1937, \"acceleration\": 14.0, \"model_year\": 75, \"origin\": \"europe\", \"name\": \"volkswagen rabbit\"}, {\"mpg\": 19.0, \"cylinders\": 6, \"displacement\": 232.0, \"horsepower\": 90.0, \"weight\": 3211, \"acceleration\": 17.0, \"model_year\": 75, \"origin\": \"usa\", \"name\": \"amc pacer\"}, {\"mpg\": 23.0, \"cylinders\": 4, \"displacement\": 115.0, \"horsepower\": 95.0, \"weight\": 2694, \"acceleration\": 15.0, \"model_year\": 75, \"origin\": \"europe\", \"name\": \"audi 100ls\"}, {\"mpg\": 23.0, \"cylinders\": 4, \"displacement\": 120.0, \"horsepower\": 88.0, \"weight\": 2957, \"acceleration\": 17.0, \"model_year\": 75, \"origin\": \"europe\", \"name\": \"peugeot 504\"}, {\"mpg\": 22.0, \"cylinders\": 4, \"displacement\": 121.0, \"horsepower\": 98.0, \"weight\": 2945, \"acceleration\": 14.5, \"model_year\": 75, \"origin\": \"europe\", \"name\": \"volvo 244dl\"}, {\"mpg\": 25.0, \"cylinders\": 4, \"displacement\": 121.0, \"horsepower\": 115.0, \"weight\": 2671, \"acceleration\": 13.5, \"model_year\": 75, \"origin\": \"europe\", \"name\": \"saab 99le\"}, {\"mpg\": 33.0, \"cylinders\": 4, \"displacement\": 91.0, \"horsepower\": 53.0, \"weight\": 1795, \"acceleration\": 17.5, \"model_year\": 75, \"origin\": \"japan\", \"name\": \"honda civic cvcc\"}, {\"mpg\": 28.0, \"cylinders\": 4, \"displacement\": 107.0, \"horsepower\": 86.0, \"weight\": 2464, \"acceleration\": 15.5, \"model_year\": 76, \"origin\": \"europe\", \"name\": \"fiat 131\"}, {\"mpg\": 25.0, \"cylinders\": 4, \"displacement\": 116.0, \"horsepower\": 81.0, \"weight\": 2220, \"acceleration\": 16.9, \"model_year\": 76, \"origin\": \"europe\", \"name\": \"opel 1900\"}, {\"mpg\": 25.0, \"cylinders\": 4, \"displacement\": 140.0, \"horsepower\": 92.0, \"weight\": 2572, \"acceleration\": 14.9, \"model_year\": 76, \"origin\": \"usa\", \"name\": \"capri ii\"}, {\"mpg\": 26.0, \"cylinders\": 4, \"displacement\": 98.0, \"horsepower\": 79.0, \"weight\": 2255, \"acceleration\": 17.7, \"model_year\": 76, \"origin\": \"usa\", \"name\": \"dodge colt\"}, {\"mpg\": 27.0, \"cylinders\": 4, \"displacement\": 101.0, \"horsepower\": 83.0, \"weight\": 2202, \"acceleration\": 15.3, \"model_year\": 76, \"origin\": \"europe\", \"name\": \"renault 12tl\"}, {\"mpg\": 17.5, \"cylinders\": 8, \"displacement\": 305.0, \"horsepower\": 140.0, \"weight\": 4215, \"acceleration\": 13.0, \"model_year\": 76, \"origin\": \"usa\", \"name\": \"chevrolet chevelle malibu classic\"}, {\"mpg\": 16.0, \"cylinders\": 8, \"displacement\": 318.0, \"horsepower\": 150.0, \"weight\": 4190, \"acceleration\": 13.0, \"model_year\": 76, \"origin\": \"usa\", \"name\": \"dodge coronet brougham\"}, {\"mpg\": 15.5, \"cylinders\": 8, \"displacement\": 304.0, \"horsepower\": 120.0, \"weight\": 3962, \"acceleration\": 13.9, \"model_year\": 76, \"origin\": \"usa\", \"name\": \"amc matador\"}, {\"mpg\": 14.5, \"cylinders\": 8, \"displacement\": 351.0, \"horsepower\": 152.0, \"weight\": 4215, \"acceleration\": 12.8, \"model_year\": 76, \"origin\": \"usa\", \"name\": \"ford gran torino\"}, {\"mpg\": 22.0, \"cylinders\": 6, \"displacement\": 225.0, \"horsepower\": 100.0, \"weight\": 3233, \"acceleration\": 15.4, \"model_year\": 76, \"origin\": \"usa\", \"name\": \"plymouth valiant\"}, {\"mpg\": 22.0, \"cylinders\": 6, \"displacement\": 250.0, \"horsepower\": 105.0, \"weight\": 3353, \"acceleration\": 14.5, \"model_year\": 76, \"origin\": \"usa\", \"name\": \"chevrolet nova\"}, {\"mpg\": 24.0, \"cylinders\": 6, \"displacement\": 200.0, \"horsepower\": 81.0, \"weight\": 3012, \"acceleration\": 17.6, \"model_year\": 76, \"origin\": \"usa\", \"name\": \"ford maverick\"}, {\"mpg\": 22.5, \"cylinders\": 6, \"displacement\": 232.0, \"horsepower\": 90.0, \"weight\": 3085, \"acceleration\": 17.6, \"model_year\": 76, \"origin\": \"usa\", \"name\": \"amc hornet\"}, {\"mpg\": 29.0, \"cylinders\": 4, \"displacement\": 85.0, \"horsepower\": 52.0, \"weight\": 2035, \"acceleration\": 22.2, \"model_year\": 76, \"origin\": \"usa\", \"name\": \"chevrolet chevette\"}, {\"mpg\": 24.5, \"cylinders\": 4, \"displacement\": 98.0, \"horsepower\": 60.0, \"weight\": 2164, \"acceleration\": 22.1, \"model_year\": 76, \"origin\": \"usa\", \"name\": \"chevrolet woody\"}, {\"mpg\": 29.0, \"cylinders\": 4, \"displacement\": 90.0, \"horsepower\": 70.0, \"weight\": 1937, \"acceleration\": 14.2, \"model_year\": 76, \"origin\": \"europe\", \"name\": \"vw rabbit\"}, {\"mpg\": 33.0, \"cylinders\": 4, \"displacement\": 91.0, \"horsepower\": 53.0, \"weight\": 1795, \"acceleration\": 17.4, \"model_year\": 76, \"origin\": \"japan\", \"name\": \"honda civic\"}, {\"mpg\": 20.0, \"cylinders\": 6, \"displacement\": 225.0, \"horsepower\": 100.0, \"weight\": 3651, \"acceleration\": 17.7, \"model_year\": 76, \"origin\": \"usa\", \"name\": \"dodge aspen se\"}, {\"mpg\": 18.0, \"cylinders\": 6, \"displacement\": 250.0, \"horsepower\": 78.0, \"weight\": 3574, \"acceleration\": 21.0, \"model_year\": 76, \"origin\": \"usa\", \"name\": \"ford granada ghia\"}, {\"mpg\": 18.5, \"cylinders\": 6, \"displacement\": 250.0, \"horsepower\": 110.0, \"weight\": 3645, \"acceleration\": 16.2, \"model_year\": 76, \"origin\": \"usa\", \"name\": \"pontiac ventura sj\"}, {\"mpg\": 17.5, \"cylinders\": 6, \"displacement\": 258.0, \"horsepower\": 95.0, \"weight\": 3193, \"acceleration\": 17.8, \"model_year\": 76, \"origin\": \"usa\", \"name\": \"amc pacer d/l\"}, {\"mpg\": 29.5, \"cylinders\": 4, \"displacement\": 97.0, \"horsepower\": 71.0, \"weight\": 1825, \"acceleration\": 12.2, \"model_year\": 76, \"origin\": \"europe\", \"name\": \"volkswagen rabbit\"}, {\"mpg\": 32.0, \"cylinders\": 4, \"displacement\": 85.0, \"horsepower\": 70.0, \"weight\": 1990, \"acceleration\": 17.0, \"model_year\": 76, \"origin\": \"japan\", \"name\": \"datsun b-210\"}, {\"mpg\": 28.0, \"cylinders\": 4, \"displacement\": 97.0, \"horsepower\": 75.0, \"weight\": 2155, \"acceleration\": 16.4, \"model_year\": 76, \"origin\": \"japan\", \"name\": \"toyota corolla\"}, {\"mpg\": 26.5, \"cylinders\": 4, \"displacement\": 140.0, \"horsepower\": 72.0, \"weight\": 2565, \"acceleration\": 13.6, \"model_year\": 76, \"origin\": \"usa\", \"name\": \"ford pinto\"}, {\"mpg\": 20.0, \"cylinders\": 4, \"displacement\": 130.0, \"horsepower\": 102.0, \"weight\": 3150, \"acceleration\": 15.7, \"model_year\": 76, \"origin\": \"europe\", \"name\": \"volvo 245\"}, {\"mpg\": 13.0, \"cylinders\": 8, \"displacement\": 318.0, \"horsepower\": 150.0, \"weight\": 3940, \"acceleration\": 13.2, \"model_year\": 76, \"origin\": \"usa\", \"name\": \"plymouth volare premier v8\"}, {\"mpg\": 19.0, \"cylinders\": 4, \"displacement\": 120.0, \"horsepower\": 88.0, \"weight\": 3270, \"acceleration\": 21.9, \"model_year\": 76, \"origin\": \"europe\", \"name\": \"peugeot 504\"}, {\"mpg\": 19.0, \"cylinders\": 6, \"displacement\": 156.0, \"horsepower\": 108.0, \"weight\": 2930, \"acceleration\": 15.5, \"model_year\": 76, \"origin\": \"japan\", \"name\": \"toyota mark ii\"}, {\"mpg\": 16.5, \"cylinders\": 6, \"displacement\": 168.0, \"horsepower\": 120.0, \"weight\": 3820, \"acceleration\": 16.7, \"model_year\": 76, \"origin\": \"europe\", \"name\": \"mercedes-benz 280s\"}, {\"mpg\": 16.5, \"cylinders\": 8, \"displacement\": 350.0, \"horsepower\": 180.0, \"weight\": 4380, \"acceleration\": 12.1, \"model_year\": 76, \"origin\": \"usa\", \"name\": \"cadillac seville\"}, {\"mpg\": 13.0, \"cylinders\": 8, \"displacement\": 350.0, \"horsepower\": 145.0, \"weight\": 4055, \"acceleration\": 12.0, \"model_year\": 76, \"origin\": \"usa\", \"name\": \"chevy c10\"}, {\"mpg\": 13.0, \"cylinders\": 8, \"displacement\": 302.0, \"horsepower\": 130.0, \"weight\": 3870, \"acceleration\": 15.0, \"model_year\": 76, \"origin\": \"usa\", \"name\": \"ford f108\"}, {\"mpg\": 13.0, \"cylinders\": 8, \"displacement\": 318.0, \"horsepower\": 150.0, \"weight\": 3755, \"acceleration\": 14.0, \"model_year\": 76, \"origin\": \"usa\", \"name\": \"dodge d100\"}, {\"mpg\": 31.5, \"cylinders\": 4, \"displacement\": 98.0, \"horsepower\": 68.0, \"weight\": 2045, \"acceleration\": 18.5, \"model_year\": 77, \"origin\": \"japan\", \"name\": \"honda accord cvcc\"}, {\"mpg\": 30.0, \"cylinders\": 4, \"displacement\": 111.0, \"horsepower\": 80.0, \"weight\": 2155, \"acceleration\": 14.8, \"model_year\": 77, \"origin\": \"usa\", \"name\": \"buick opel isuzu deluxe\"}, {\"mpg\": 36.0, \"cylinders\": 4, \"displacement\": 79.0, \"horsepower\": 58.0, \"weight\": 1825, \"acceleration\": 18.6, \"model_year\": 77, \"origin\": \"europe\", \"name\": \"renault 5 gtl\"}, {\"mpg\": 25.5, \"cylinders\": 4, \"displacement\": 122.0, \"horsepower\": 96.0, \"weight\": 2300, \"acceleration\": 15.5, \"model_year\": 77, \"origin\": \"usa\", \"name\": \"plymouth arrow gs\"}, {\"mpg\": 33.5, \"cylinders\": 4, \"displacement\": 85.0, \"horsepower\": 70.0, \"weight\": 1945, \"acceleration\": 16.8, \"model_year\": 77, \"origin\": \"japan\", \"name\": \"datsun f-10 hatchback\"}, {\"mpg\": 17.5, \"cylinders\": 8, \"displacement\": 305.0, \"horsepower\": 145.0, \"weight\": 3880, \"acceleration\": 12.5, \"model_year\": 77, \"origin\": \"usa\", \"name\": \"chevrolet caprice classic\"}, {\"mpg\": 17.0, \"cylinders\": 8, \"displacement\": 260.0, \"horsepower\": 110.0, \"weight\": 4060, \"acceleration\": 19.0, \"model_year\": 77, \"origin\": \"usa\", \"name\": \"oldsmobile cutlass supreme\"}, {\"mpg\": 15.5, \"cylinders\": 8, \"displacement\": 318.0, \"horsepower\": 145.0, \"weight\": 4140, \"acceleration\": 13.7, \"model_year\": 77, \"origin\": \"usa\", \"name\": \"dodge monaco brougham\"}, {\"mpg\": 15.0, \"cylinders\": 8, \"displacement\": 302.0, \"horsepower\": 130.0, \"weight\": 4295, \"acceleration\": 14.9, \"model_year\": 77, \"origin\": \"usa\", \"name\": \"mercury cougar brougham\"}, {\"mpg\": 17.5, \"cylinders\": 6, \"displacement\": 250.0, \"horsepower\": 110.0, \"weight\": 3520, \"acceleration\": 16.4, \"model_year\": 77, \"origin\": \"usa\", \"name\": \"chevrolet concours\"}, {\"mpg\": 20.5, \"cylinders\": 6, \"displacement\": 231.0, \"horsepower\": 105.0, \"weight\": 3425, \"acceleration\": 16.9, \"model_year\": 77, \"origin\": \"usa\", \"name\": \"buick skylark\"}, {\"mpg\": 19.0, \"cylinders\": 6, \"displacement\": 225.0, \"horsepower\": 100.0, \"weight\": 3630, \"acceleration\": 17.7, \"model_year\": 77, \"origin\": \"usa\", \"name\": \"plymouth volare custom\"}, {\"mpg\": 18.5, \"cylinders\": 6, \"displacement\": 250.0, \"horsepower\": 98.0, \"weight\": 3525, \"acceleration\": 19.0, \"model_year\": 77, \"origin\": \"usa\", \"name\": \"ford granada\"}, {\"mpg\": 16.0, \"cylinders\": 8, \"displacement\": 400.0, \"horsepower\": 180.0, \"weight\": 4220, \"acceleration\": 11.1, \"model_year\": 77, \"origin\": \"usa\", \"name\": \"pontiac grand prix lj\"}, {\"mpg\": 15.5, \"cylinders\": 8, \"displacement\": 350.0, \"horsepower\": 170.0, \"weight\": 4165, \"acceleration\": 11.4, \"model_year\": 77, \"origin\": \"usa\", \"name\": \"chevrolet monte carlo landau\"}, {\"mpg\": 15.5, \"cylinders\": 8, \"displacement\": 400.0, \"horsepower\": 190.0, \"weight\": 4325, \"acceleration\": 12.2, \"model_year\": 77, \"origin\": \"usa\", \"name\": \"chrysler cordoba\"}, {\"mpg\": 16.0, \"cylinders\": 8, \"displacement\": 351.0, \"horsepower\": 149.0, \"weight\": 4335, \"acceleration\": 14.5, \"model_year\": 77, \"origin\": \"usa\", \"name\": \"ford thunderbird\"}, {\"mpg\": 29.0, \"cylinders\": 4, \"displacement\": 97.0, \"horsepower\": 78.0, \"weight\": 1940, \"acceleration\": 14.5, \"model_year\": 77, \"origin\": \"europe\", \"name\": \"volkswagen rabbit custom\"}, {\"mpg\": 24.5, \"cylinders\": 4, \"displacement\": 151.0, \"horsepower\": 88.0, \"weight\": 2740, \"acceleration\": 16.0, \"model_year\": 77, \"origin\": \"usa\", \"name\": \"pontiac sunbird coupe\"}, {\"mpg\": 26.0, \"cylinders\": 4, \"displacement\": 97.0, \"horsepower\": 75.0, \"weight\": 2265, \"acceleration\": 18.2, \"model_year\": 77, \"origin\": \"japan\", \"name\": \"toyota corolla liftback\"}, {\"mpg\": 25.5, \"cylinders\": 4, \"displacement\": 140.0, \"horsepower\": 89.0, \"weight\": 2755, \"acceleration\": 15.8, \"model_year\": 77, \"origin\": \"usa\", \"name\": \"ford mustang ii 2+2\"}, {\"mpg\": 30.5, \"cylinders\": 4, \"displacement\": 98.0, \"horsepower\": 63.0, \"weight\": 2051, \"acceleration\": 17.0, \"model_year\": 77, \"origin\": \"usa\", \"name\": \"chevrolet chevette\"}, {\"mpg\": 33.5, \"cylinders\": 4, \"displacement\": 98.0, \"horsepower\": 83.0, \"weight\": 2075, \"acceleration\": 15.9, \"model_year\": 77, \"origin\": \"usa\", \"name\": \"dodge colt m/m\"}, {\"mpg\": 30.0, \"cylinders\": 4, \"displacement\": 97.0, \"horsepower\": 67.0, \"weight\": 1985, \"acceleration\": 16.4, \"model_year\": 77, \"origin\": \"japan\", \"name\": \"subaru dl\"}, {\"mpg\": 30.5, \"cylinders\": 4, \"displacement\": 97.0, \"horsepower\": 78.0, \"weight\": 2190, \"acceleration\": 14.1, \"model_year\": 77, \"origin\": \"europe\", \"name\": \"volkswagen dasher\"}, {\"mpg\": 22.0, \"cylinders\": 6, \"displacement\": 146.0, \"horsepower\": 97.0, \"weight\": 2815, \"acceleration\": 14.5, \"model_year\": 77, \"origin\": \"japan\", \"name\": \"datsun 810\"}, {\"mpg\": 21.5, \"cylinders\": 4, \"displacement\": 121.0, \"horsepower\": 110.0, \"weight\": 2600, \"acceleration\": 12.8, \"model_year\": 77, \"origin\": \"europe\", \"name\": \"bmw 320i\"}, {\"mpg\": 21.5, \"cylinders\": 3, \"displacement\": 80.0, \"horsepower\": 110.0, \"weight\": 2720, \"acceleration\": 13.5, \"model_year\": 77, \"origin\": \"japan\", \"name\": \"mazda rx-4\"}, {\"mpg\": 43.1, \"cylinders\": 4, \"displacement\": 90.0, \"horsepower\": 48.0, \"weight\": 1985, \"acceleration\": 21.5, \"model_year\": 78, \"origin\": \"europe\", \"name\": \"volkswagen rabbit custom diesel\"}, {\"mpg\": 36.1, \"cylinders\": 4, \"displacement\": 98.0, \"horsepower\": 66.0, \"weight\": 1800, \"acceleration\": 14.4, \"model_year\": 78, \"origin\": \"usa\", \"name\": \"ford fiesta\"}, {\"mpg\": 32.8, \"cylinders\": 4, \"displacement\": 78.0, \"horsepower\": 52.0, \"weight\": 1985, \"acceleration\": 19.4, \"model_year\": 78, \"origin\": \"japan\", \"name\": \"mazda glc deluxe\"}, {\"mpg\": 39.4, \"cylinders\": 4, \"displacement\": 85.0, \"horsepower\": 70.0, \"weight\": 2070, \"acceleration\": 18.6, \"model_year\": 78, \"origin\": \"japan\", \"name\": \"datsun b210 gx\"}, {\"mpg\": 36.1, \"cylinders\": 4, \"displacement\": 91.0, \"horsepower\": 60.0, \"weight\": 1800, \"acceleration\": 16.4, \"model_year\": 78, \"origin\": \"japan\", \"name\": \"honda civic cvcc\"}, {\"mpg\": 19.9, \"cylinders\": 8, \"displacement\": 260.0, \"horsepower\": 110.0, \"weight\": 3365, \"acceleration\": 15.5, \"model_year\": 78, \"origin\": \"usa\", \"name\": \"oldsmobile cutlass salon brougham\"}, {\"mpg\": 19.4, \"cylinders\": 8, \"displacement\": 318.0, \"horsepower\": 140.0, \"weight\": 3735, \"acceleration\": 13.2, \"model_year\": 78, \"origin\": \"usa\", \"name\": \"dodge diplomat\"}, {\"mpg\": 20.2, \"cylinders\": 8, \"displacement\": 302.0, \"horsepower\": 139.0, \"weight\": 3570, \"acceleration\": 12.8, \"model_year\": 78, \"origin\": \"usa\", \"name\": \"mercury monarch ghia\"}, {\"mpg\": 19.2, \"cylinders\": 6, \"displacement\": 231.0, \"horsepower\": 105.0, \"weight\": 3535, \"acceleration\": 19.2, \"model_year\": 78, \"origin\": \"usa\", \"name\": \"pontiac phoenix lj\"}, {\"mpg\": 20.5, \"cylinders\": 6, \"displacement\": 200.0, \"horsepower\": 95.0, \"weight\": 3155, \"acceleration\": 18.2, \"model_year\": 78, \"origin\": \"usa\", \"name\": \"chevrolet malibu\"}, {\"mpg\": 20.2, \"cylinders\": 6, \"displacement\": 200.0, \"horsepower\": 85.0, \"weight\": 2965, \"acceleration\": 15.8, \"model_year\": 78, \"origin\": \"usa\", \"name\": \"ford fairmont (auto)\"}, {\"mpg\": 25.1, \"cylinders\": 4, \"displacement\": 140.0, \"horsepower\": 88.0, \"weight\": 2720, \"acceleration\": 15.4, \"model_year\": 78, \"origin\": \"usa\", \"name\": \"ford fairmont (man)\"}, {\"mpg\": 20.5, \"cylinders\": 6, \"displacement\": 225.0, \"horsepower\": 100.0, \"weight\": 3430, \"acceleration\": 17.2, \"model_year\": 78, \"origin\": \"usa\", \"name\": \"plymouth volare\"}, {\"mpg\": 19.4, \"cylinders\": 6, \"displacement\": 232.0, \"horsepower\": 90.0, \"weight\": 3210, \"acceleration\": 17.2, \"model_year\": 78, \"origin\": \"usa\", \"name\": \"amc concord\"}, {\"mpg\": 20.6, \"cylinders\": 6, \"displacement\": 231.0, \"horsepower\": 105.0, \"weight\": 3380, \"acceleration\": 15.8, \"model_year\": 78, \"origin\": \"usa\", \"name\": \"buick century special\"}, {\"mpg\": 20.8, \"cylinders\": 6, \"displacement\": 200.0, \"horsepower\": 85.0, \"weight\": 3070, \"acceleration\": 16.7, \"model_year\": 78, \"origin\": \"usa\", \"name\": \"mercury zephyr\"}, {\"mpg\": 18.6, \"cylinders\": 6, \"displacement\": 225.0, \"horsepower\": 110.0, \"weight\": 3620, \"acceleration\": 18.7, \"model_year\": 78, \"origin\": \"usa\", \"name\": \"dodge aspen\"}, {\"mpg\": 18.1, \"cylinders\": 6, \"displacement\": 258.0, \"horsepower\": 120.0, \"weight\": 3410, \"acceleration\": 15.1, \"model_year\": 78, \"origin\": \"usa\", \"name\": \"amc concord d/l\"}, {\"mpg\": 19.2, \"cylinders\": 8, \"displacement\": 305.0, \"horsepower\": 145.0, \"weight\": 3425, \"acceleration\": 13.2, \"model_year\": 78, \"origin\": \"usa\", \"name\": \"chevrolet monte carlo landau\"}, {\"mpg\": 17.7, \"cylinders\": 6, \"displacement\": 231.0, \"horsepower\": 165.0, \"weight\": 3445, \"acceleration\": 13.4, \"model_year\": 78, \"origin\": \"usa\", \"name\": \"buick regal sport coupe (turbo)\"}, {\"mpg\": 18.1, \"cylinders\": 8, \"displacement\": 302.0, \"horsepower\": 139.0, \"weight\": 3205, \"acceleration\": 11.2, \"model_year\": 78, \"origin\": \"usa\", \"name\": \"ford futura\"}, {\"mpg\": 17.5, \"cylinders\": 8, \"displacement\": 318.0, \"horsepower\": 140.0, \"weight\": 4080, \"acceleration\": 13.7, \"model_year\": 78, \"origin\": \"usa\", \"name\": \"dodge magnum xe\"}, {\"mpg\": 30.0, \"cylinders\": 4, \"displacement\": 98.0, \"horsepower\": 68.0, \"weight\": 2155, \"acceleration\": 16.5, \"model_year\": 78, \"origin\": \"usa\", \"name\": \"chevrolet chevette\"}, {\"mpg\": 27.5, \"cylinders\": 4, \"displacement\": 134.0, \"horsepower\": 95.0, \"weight\": 2560, \"acceleration\": 14.2, \"model_year\": 78, \"origin\": \"japan\", \"name\": \"toyota corona\"}, {\"mpg\": 27.2, \"cylinders\": 4, \"displacement\": 119.0, \"horsepower\": 97.0, \"weight\": 2300, \"acceleration\": 14.7, \"model_year\": 78, \"origin\": \"japan\", \"name\": \"datsun 510\"}, {\"mpg\": 30.9, \"cylinders\": 4, \"displacement\": 105.0, \"horsepower\": 75.0, \"weight\": 2230, \"acceleration\": 14.5, \"model_year\": 78, \"origin\": \"usa\", \"name\": \"dodge omni\"}, {\"mpg\": 21.1, \"cylinders\": 4, \"displacement\": 134.0, \"horsepower\": 95.0, \"weight\": 2515, \"acceleration\": 14.8, \"model_year\": 78, \"origin\": \"japan\", \"name\": \"toyota celica gt liftback\"}, {\"mpg\": 23.2, \"cylinders\": 4, \"displacement\": 156.0, \"horsepower\": 105.0, \"weight\": 2745, \"acceleration\": 16.7, \"model_year\": 78, \"origin\": \"usa\", \"name\": \"plymouth sapporo\"}, {\"mpg\": 23.8, \"cylinders\": 4, \"displacement\": 151.0, \"horsepower\": 85.0, \"weight\": 2855, \"acceleration\": 17.6, \"model_year\": 78, \"origin\": \"usa\", \"name\": \"oldsmobile starfire sx\"}, {\"mpg\": 23.9, \"cylinders\": 4, \"displacement\": 119.0, \"horsepower\": 97.0, \"weight\": 2405, \"acceleration\": 14.9, \"model_year\": 78, \"origin\": \"japan\", \"name\": \"datsun 200-sx\"}, {\"mpg\": 20.3, \"cylinders\": 5, \"displacement\": 131.0, \"horsepower\": 103.0, \"weight\": 2830, \"acceleration\": 15.9, \"model_year\": 78, \"origin\": \"europe\", \"name\": \"audi 5000\"}, {\"mpg\": 17.0, \"cylinders\": 6, \"displacement\": 163.0, \"horsepower\": 125.0, \"weight\": 3140, \"acceleration\": 13.6, \"model_year\": 78, \"origin\": \"europe\", \"name\": \"volvo 264gl\"}, {\"mpg\": 21.6, \"cylinders\": 4, \"displacement\": 121.0, \"horsepower\": 115.0, \"weight\": 2795, \"acceleration\": 15.7, \"model_year\": 78, \"origin\": \"europe\", \"name\": \"saab 99gle\"}, {\"mpg\": 16.2, \"cylinders\": 6, \"displacement\": 163.0, \"horsepower\": 133.0, \"weight\": 3410, \"acceleration\": 15.8, \"model_year\": 78, \"origin\": \"europe\", \"name\": \"peugeot 604sl\"}, {\"mpg\": 31.5, \"cylinders\": 4, \"displacement\": 89.0, \"horsepower\": 71.0, \"weight\": 1990, \"acceleration\": 14.9, \"model_year\": 78, \"origin\": \"europe\", \"name\": \"volkswagen scirocco\"}, {\"mpg\": 29.5, \"cylinders\": 4, \"displacement\": 98.0, \"horsepower\": 68.0, \"weight\": 2135, \"acceleration\": 16.6, \"model_year\": 78, \"origin\": \"japan\", \"name\": \"honda accord lx\"}, {\"mpg\": 21.5, \"cylinders\": 6, \"displacement\": 231.0, \"horsepower\": 115.0, \"weight\": 3245, \"acceleration\": 15.4, \"model_year\": 79, \"origin\": \"usa\", \"name\": \"pontiac lemans v6\"}, {\"mpg\": 19.8, \"cylinders\": 6, \"displacement\": 200.0, \"horsepower\": 85.0, \"weight\": 2990, \"acceleration\": 18.2, \"model_year\": 79, \"origin\": \"usa\", \"name\": \"mercury zephyr 6\"}, {\"mpg\": 22.3, \"cylinders\": 4, \"displacement\": 140.0, \"horsepower\": 88.0, \"weight\": 2890, \"acceleration\": 17.3, \"model_year\": 79, \"origin\": \"usa\", \"name\": \"ford fairmont 4\"}, {\"mpg\": 20.2, \"cylinders\": 6, \"displacement\": 232.0, \"horsepower\": 90.0, \"weight\": 3265, \"acceleration\": 18.2, \"model_year\": 79, \"origin\": \"usa\", \"name\": \"amc concord dl 6\"}, {\"mpg\": 20.6, \"cylinders\": 6, \"displacement\": 225.0, \"horsepower\": 110.0, \"weight\": 3360, \"acceleration\": 16.6, \"model_year\": 79, \"origin\": \"usa\", \"name\": \"dodge aspen 6\"}, {\"mpg\": 17.0, \"cylinders\": 8, \"displacement\": 305.0, \"horsepower\": 130.0, \"weight\": 3840, \"acceleration\": 15.4, \"model_year\": 79, \"origin\": \"usa\", \"name\": \"chevrolet caprice classic\"}, {\"mpg\": 17.6, \"cylinders\": 8, \"displacement\": 302.0, \"horsepower\": 129.0, \"weight\": 3725, \"acceleration\": 13.4, \"model_year\": 79, \"origin\": \"usa\", \"name\": \"ford ltd landau\"}, {\"mpg\": 16.5, \"cylinders\": 8, \"displacement\": 351.0, \"horsepower\": 138.0, \"weight\": 3955, \"acceleration\": 13.2, \"model_year\": 79, \"origin\": \"usa\", \"name\": \"mercury grand marquis\"}, {\"mpg\": 18.2, \"cylinders\": 8, \"displacement\": 318.0, \"horsepower\": 135.0, \"weight\": 3830, \"acceleration\": 15.2, \"model_year\": 79, \"origin\": \"usa\", \"name\": \"dodge st. regis\"}, {\"mpg\": 16.9, \"cylinders\": 8, \"displacement\": 350.0, \"horsepower\": 155.0, \"weight\": 4360, \"acceleration\": 14.9, \"model_year\": 79, \"origin\": \"usa\", \"name\": \"buick estate wagon (sw)\"}, {\"mpg\": 15.5, \"cylinders\": 8, \"displacement\": 351.0, \"horsepower\": 142.0, \"weight\": 4054, \"acceleration\": 14.3, \"model_year\": 79, \"origin\": \"usa\", \"name\": \"ford country squire (sw)\"}, {\"mpg\": 19.2, \"cylinders\": 8, \"displacement\": 267.0, \"horsepower\": 125.0, \"weight\": 3605, \"acceleration\": 15.0, \"model_year\": 79, \"origin\": \"usa\", \"name\": \"chevrolet malibu classic (sw)\"}, {\"mpg\": 18.5, \"cylinders\": 8, \"displacement\": 360.0, \"horsepower\": 150.0, \"weight\": 3940, \"acceleration\": 13.0, \"model_year\": 79, \"origin\": \"usa\", \"name\": \"chrysler lebaron town @ country (sw)\"}, {\"mpg\": 31.9, \"cylinders\": 4, \"displacement\": 89.0, \"horsepower\": 71.0, \"weight\": 1925, \"acceleration\": 14.0, \"model_year\": 79, \"origin\": \"europe\", \"name\": \"vw rabbit custom\"}, {\"mpg\": 34.1, \"cylinders\": 4, \"displacement\": 86.0, \"horsepower\": 65.0, \"weight\": 1975, \"acceleration\": 15.2, \"model_year\": 79, \"origin\": \"japan\", \"name\": \"maxda glc deluxe\"}, {\"mpg\": 35.7, \"cylinders\": 4, \"displacement\": 98.0, \"horsepower\": 80.0, \"weight\": 1915, \"acceleration\": 14.4, \"model_year\": 79, \"origin\": \"usa\", \"name\": \"dodge colt hatchback custom\"}, {\"mpg\": 27.4, \"cylinders\": 4, \"displacement\": 121.0, \"horsepower\": 80.0, \"weight\": 2670, \"acceleration\": 15.0, \"model_year\": 79, \"origin\": \"usa\", \"name\": \"amc spirit dl\"}, {\"mpg\": 25.4, \"cylinders\": 5, \"displacement\": 183.0, \"horsepower\": 77.0, \"weight\": 3530, \"acceleration\": 20.1, \"model_year\": 79, \"origin\": \"europe\", \"name\": \"mercedes benz 300d\"}, {\"mpg\": 23.0, \"cylinders\": 8, \"displacement\": 350.0, \"horsepower\": 125.0, \"weight\": 3900, \"acceleration\": 17.4, \"model_year\": 79, \"origin\": \"usa\", \"name\": \"cadillac eldorado\"}, {\"mpg\": 27.2, \"cylinders\": 4, \"displacement\": 141.0, \"horsepower\": 71.0, \"weight\": 3190, \"acceleration\": 24.8, \"model_year\": 79, \"origin\": \"europe\", \"name\": \"peugeot 504\"}, {\"mpg\": 23.9, \"cylinders\": 8, \"displacement\": 260.0, \"horsepower\": 90.0, \"weight\": 3420, \"acceleration\": 22.2, \"model_year\": 79, \"origin\": \"usa\", \"name\": \"oldsmobile cutlass salon brougham\"}, {\"mpg\": 34.2, \"cylinders\": 4, \"displacement\": 105.0, \"horsepower\": 70.0, \"weight\": 2200, \"acceleration\": 13.2, \"model_year\": 79, \"origin\": \"usa\", \"name\": \"plymouth horizon\"}, {\"mpg\": 34.5, \"cylinders\": 4, \"displacement\": 105.0, \"horsepower\": 70.0, \"weight\": 2150, \"acceleration\": 14.9, \"model_year\": 79, \"origin\": \"usa\", \"name\": \"plymouth horizon tc3\"}, {\"mpg\": 31.8, \"cylinders\": 4, \"displacement\": 85.0, \"horsepower\": 65.0, \"weight\": 2020, \"acceleration\": 19.2, \"model_year\": 79, \"origin\": \"japan\", \"name\": \"datsun 210\"}, {\"mpg\": 37.3, \"cylinders\": 4, \"displacement\": 91.0, \"horsepower\": 69.0, \"weight\": 2130, \"acceleration\": 14.7, \"model_year\": 79, \"origin\": \"europe\", \"name\": \"fiat strada custom\"}, {\"mpg\": 28.4, \"cylinders\": 4, \"displacement\": 151.0, \"horsepower\": 90.0, \"weight\": 2670, \"acceleration\": 16.0, \"model_year\": 79, \"origin\": \"usa\", \"name\": \"buick skylark limited\"}, {\"mpg\": 28.8, \"cylinders\": 6, \"displacement\": 173.0, \"horsepower\": 115.0, \"weight\": 2595, \"acceleration\": 11.3, \"model_year\": 79, \"origin\": \"usa\", \"name\": \"chevrolet citation\"}, {\"mpg\": 26.8, \"cylinders\": 6, \"displacement\": 173.0, \"horsepower\": 115.0, \"weight\": 2700, \"acceleration\": 12.9, \"model_year\": 79, \"origin\": \"usa\", \"name\": \"oldsmobile omega brougham\"}, {\"mpg\": 33.5, \"cylinders\": 4, \"displacement\": 151.0, \"horsepower\": 90.0, \"weight\": 2556, \"acceleration\": 13.2, \"model_year\": 79, \"origin\": \"usa\", \"name\": \"pontiac phoenix\"}, {\"mpg\": 41.5, \"cylinders\": 4, \"displacement\": 98.0, \"horsepower\": 76.0, \"weight\": 2144, \"acceleration\": 14.7, \"model_year\": 80, \"origin\": \"europe\", \"name\": \"vw rabbit\"}, {\"mpg\": 38.1, \"cylinders\": 4, \"displacement\": 89.0, \"horsepower\": 60.0, \"weight\": 1968, \"acceleration\": 18.8, \"model_year\": 80, \"origin\": \"japan\", \"name\": \"toyota corolla tercel\"}, {\"mpg\": 32.1, \"cylinders\": 4, \"displacement\": 98.0, \"horsepower\": 70.0, \"weight\": 2120, \"acceleration\": 15.5, \"model_year\": 80, \"origin\": \"usa\", \"name\": \"chevrolet chevette\"}, {\"mpg\": 37.2, \"cylinders\": 4, \"displacement\": 86.0, \"horsepower\": 65.0, \"weight\": 2019, \"acceleration\": 16.4, \"model_year\": 80, \"origin\": \"japan\", \"name\": \"datsun 310\"}, {\"mpg\": 28.0, \"cylinders\": 4, \"displacement\": 151.0, \"horsepower\": 90.0, \"weight\": 2678, \"acceleration\": 16.5, \"model_year\": 80, \"origin\": \"usa\", \"name\": \"chevrolet citation\"}, {\"mpg\": 26.4, \"cylinders\": 4, \"displacement\": 140.0, \"horsepower\": 88.0, \"weight\": 2870, \"acceleration\": 18.1, \"model_year\": 80, \"origin\": \"usa\", \"name\": \"ford fairmont\"}, {\"mpg\": 24.3, \"cylinders\": 4, \"displacement\": 151.0, \"horsepower\": 90.0, \"weight\": 3003, \"acceleration\": 20.1, \"model_year\": 80, \"origin\": \"usa\", \"name\": \"amc concord\"}, {\"mpg\": 19.1, \"cylinders\": 6, \"displacement\": 225.0, \"horsepower\": 90.0, \"weight\": 3381, \"acceleration\": 18.7, \"model_year\": 80, \"origin\": \"usa\", \"name\": \"dodge aspen\"}, {\"mpg\": 34.3, \"cylinders\": 4, \"displacement\": 97.0, \"horsepower\": 78.0, \"weight\": 2188, \"acceleration\": 15.8, \"model_year\": 80, \"origin\": \"europe\", \"name\": \"audi 4000\"}, {\"mpg\": 29.8, \"cylinders\": 4, \"displacement\": 134.0, \"horsepower\": 90.0, \"weight\": 2711, \"acceleration\": 15.5, \"model_year\": 80, \"origin\": \"japan\", \"name\": \"toyota corona liftback\"}, {\"mpg\": 31.3, \"cylinders\": 4, \"displacement\": 120.0, \"horsepower\": 75.0, \"weight\": 2542, \"acceleration\": 17.5, \"model_year\": 80, \"origin\": \"japan\", \"name\": \"mazda 626\"}, {\"mpg\": 37.0, \"cylinders\": 4, \"displacement\": 119.0, \"horsepower\": 92.0, \"weight\": 2434, \"acceleration\": 15.0, \"model_year\": 80, \"origin\": \"japan\", \"name\": \"datsun 510 hatchback\"}, {\"mpg\": 32.2, \"cylinders\": 4, \"displacement\": 108.0, \"horsepower\": 75.0, \"weight\": 2265, \"acceleration\": 15.2, \"model_year\": 80, \"origin\": \"japan\", \"name\": \"toyota corolla\"}, {\"mpg\": 46.6, \"cylinders\": 4, \"displacement\": 86.0, \"horsepower\": 65.0, \"weight\": 2110, \"acceleration\": 17.9, \"model_year\": 80, \"origin\": \"japan\", \"name\": \"mazda glc\"}, {\"mpg\": 27.9, \"cylinders\": 4, \"displacement\": 156.0, \"horsepower\": 105.0, \"weight\": 2800, \"acceleration\": 14.4, \"model_year\": 80, \"origin\": \"usa\", \"name\": \"dodge colt\"}, {\"mpg\": 40.8, \"cylinders\": 4, \"displacement\": 85.0, \"horsepower\": 65.0, \"weight\": 2110, \"acceleration\": 19.2, \"model_year\": 80, \"origin\": \"japan\", \"name\": \"datsun 210\"}, {\"mpg\": 44.3, \"cylinders\": 4, \"displacement\": 90.0, \"horsepower\": 48.0, \"weight\": 2085, \"acceleration\": 21.7, \"model_year\": 80, \"origin\": \"europe\", \"name\": \"vw rabbit c (diesel)\"}, {\"mpg\": 43.4, \"cylinders\": 4, \"displacement\": 90.0, \"horsepower\": 48.0, \"weight\": 2335, \"acceleration\": 23.7, \"model_year\": 80, \"origin\": \"europe\", \"name\": \"vw dasher (diesel)\"}, {\"mpg\": 36.4, \"cylinders\": 5, \"displacement\": 121.0, \"horsepower\": 67.0, \"weight\": 2950, \"acceleration\": 19.9, \"model_year\": 80, \"origin\": \"europe\", \"name\": \"audi 5000s (diesel)\"}, {\"mpg\": 30.0, \"cylinders\": 4, \"displacement\": 146.0, \"horsepower\": 67.0, \"weight\": 3250, \"acceleration\": 21.8, \"model_year\": 80, \"origin\": \"europe\", \"name\": \"mercedes-benz 240d\"}, {\"mpg\": 44.6, \"cylinders\": 4, \"displacement\": 91.0, \"horsepower\": 67.0, \"weight\": 1850, \"acceleration\": 13.8, \"model_year\": 80, \"origin\": \"japan\", \"name\": \"honda civic 1500 gl\"}, {\"mpg\": 40.9, \"cylinders\": 4, \"displacement\": 85.0, \"horsepower\": null, \"weight\": 1835, \"acceleration\": 17.3, \"model_year\": 80, \"origin\": \"europe\", \"name\": \"renault lecar deluxe\"}, {\"mpg\": 33.8, \"cylinders\": 4, \"displacement\": 97.0, \"horsepower\": 67.0, \"weight\": 2145, \"acceleration\": 18.0, \"model_year\": 80, \"origin\": \"japan\", \"name\": \"subaru dl\"}, {\"mpg\": 29.8, \"cylinders\": 4, \"displacement\": 89.0, \"horsepower\": 62.0, \"weight\": 1845, \"acceleration\": 15.3, \"model_year\": 80, \"origin\": \"europe\", \"name\": \"vokswagen rabbit\"}, {\"mpg\": 32.7, \"cylinders\": 6, \"displacement\": 168.0, \"horsepower\": 132.0, \"weight\": 2910, \"acceleration\": 11.4, \"model_year\": 80, \"origin\": \"japan\", \"name\": \"datsun 280-zx\"}, {\"mpg\": 23.7, \"cylinders\": 3, \"displacement\": 70.0, \"horsepower\": 100.0, \"weight\": 2420, \"acceleration\": 12.5, \"model_year\": 80, \"origin\": \"japan\", \"name\": \"mazda rx-7 gs\"}, {\"mpg\": 35.0, \"cylinders\": 4, \"displacement\": 122.0, \"horsepower\": 88.0, \"weight\": 2500, \"acceleration\": 15.1, \"model_year\": 80, \"origin\": \"europe\", \"name\": \"triumph tr7 coupe\"}, {\"mpg\": 23.6, \"cylinders\": 4, \"displacement\": 140.0, \"horsepower\": null, \"weight\": 2905, \"acceleration\": 14.3, \"model_year\": 80, \"origin\": \"usa\", \"name\": \"ford mustang cobra\"}, {\"mpg\": 32.4, \"cylinders\": 4, \"displacement\": 107.0, \"horsepower\": 72.0, \"weight\": 2290, \"acceleration\": 17.0, \"model_year\": 80, \"origin\": \"japan\", \"name\": \"honda accord\"}, {\"mpg\": 27.2, \"cylinders\": 4, \"displacement\": 135.0, \"horsepower\": 84.0, \"weight\": 2490, \"acceleration\": 15.7, \"model_year\": 81, \"origin\": \"usa\", \"name\": \"plymouth reliant\"}, {\"mpg\": 26.6, \"cylinders\": 4, \"displacement\": 151.0, \"horsepower\": 84.0, \"weight\": 2635, \"acceleration\": 16.4, \"model_year\": 81, \"origin\": \"usa\", \"name\": \"buick skylark\"}, {\"mpg\": 25.8, \"cylinders\": 4, \"displacement\": 156.0, \"horsepower\": 92.0, \"weight\": 2620, \"acceleration\": 14.4, \"model_year\": 81, \"origin\": \"usa\", \"name\": \"dodge aries wagon (sw)\"}, {\"mpg\": 23.5, \"cylinders\": 6, \"displacement\": 173.0, \"horsepower\": 110.0, \"weight\": 2725, \"acceleration\": 12.6, \"model_year\": 81, \"origin\": \"usa\", \"name\": \"chevrolet citation\"}, {\"mpg\": 30.0, \"cylinders\": 4, \"displacement\": 135.0, \"horsepower\": 84.0, \"weight\": 2385, \"acceleration\": 12.9, \"model_year\": 81, \"origin\": \"usa\", \"name\": \"plymouth reliant\"}, {\"mpg\": 39.1, \"cylinders\": 4, \"displacement\": 79.0, \"horsepower\": 58.0, \"weight\": 1755, \"acceleration\": 16.9, \"model_year\": 81, \"origin\": \"japan\", \"name\": \"toyota starlet\"}, {\"mpg\": 39.0, \"cylinders\": 4, \"displacement\": 86.0, \"horsepower\": 64.0, \"weight\": 1875, \"acceleration\": 16.4, \"model_year\": 81, \"origin\": \"usa\", \"name\": \"plymouth champ\"}, {\"mpg\": 35.1, \"cylinders\": 4, \"displacement\": 81.0, \"horsepower\": 60.0, \"weight\": 1760, \"acceleration\": 16.1, \"model_year\": 81, \"origin\": \"japan\", \"name\": \"honda civic 1300\"}, {\"mpg\": 32.3, \"cylinders\": 4, \"displacement\": 97.0, \"horsepower\": 67.0, \"weight\": 2065, \"acceleration\": 17.8, \"model_year\": 81, \"origin\": \"japan\", \"name\": \"subaru\"}, {\"mpg\": 37.0, \"cylinders\": 4, \"displacement\": 85.0, \"horsepower\": 65.0, \"weight\": 1975, \"acceleration\": 19.4, \"model_year\": 81, \"origin\": \"japan\", \"name\": \"datsun 210 mpg\"}, {\"mpg\": 37.7, \"cylinders\": 4, \"displacement\": 89.0, \"horsepower\": 62.0, \"weight\": 2050, \"acceleration\": 17.3, \"model_year\": 81, \"origin\": \"japan\", \"name\": \"toyota tercel\"}, {\"mpg\": 34.1, \"cylinders\": 4, \"displacement\": 91.0, \"horsepower\": 68.0, \"weight\": 1985, \"acceleration\": 16.0, \"model_year\": 81, \"origin\": \"japan\", \"name\": \"mazda glc 4\"}, {\"mpg\": 34.7, \"cylinders\": 4, \"displacement\": 105.0, \"horsepower\": 63.0, \"weight\": 2215, \"acceleration\": 14.9, \"model_year\": 81, \"origin\": \"usa\", \"name\": \"plymouth horizon 4\"}, {\"mpg\": 34.4, \"cylinders\": 4, \"displacement\": 98.0, \"horsepower\": 65.0, \"weight\": 2045, \"acceleration\": 16.2, \"model_year\": 81, \"origin\": \"usa\", \"name\": \"ford escort 4w\"}, {\"mpg\": 29.9, \"cylinders\": 4, \"displacement\": 98.0, \"horsepower\": 65.0, \"weight\": 2380, \"acceleration\": 20.7, \"model_year\": 81, \"origin\": \"usa\", \"name\": \"ford escort 2h\"}, {\"mpg\": 33.0, \"cylinders\": 4, \"displacement\": 105.0, \"horsepower\": 74.0, \"weight\": 2190, \"acceleration\": 14.2, \"model_year\": 81, \"origin\": \"europe\", \"name\": \"volkswagen jetta\"}, {\"mpg\": 34.5, \"cylinders\": 4, \"displacement\": 100.0, \"horsepower\": null, \"weight\": 2320, \"acceleration\": 15.8, \"model_year\": 81, \"origin\": \"europe\", \"name\": \"renault 18i\"}, {\"mpg\": 33.7, \"cylinders\": 4, \"displacement\": 107.0, \"horsepower\": 75.0, \"weight\": 2210, \"acceleration\": 14.4, \"model_year\": 81, \"origin\": \"japan\", \"name\": \"honda prelude\"}, {\"mpg\": 32.4, \"cylinders\": 4, \"displacement\": 108.0, \"horsepower\": 75.0, \"weight\": 2350, \"acceleration\": 16.8, \"model_year\": 81, \"origin\": \"japan\", \"name\": \"toyota corolla\"}, {\"mpg\": 32.9, \"cylinders\": 4, \"displacement\": 119.0, \"horsepower\": 100.0, \"weight\": 2615, \"acceleration\": 14.8, \"model_year\": 81, \"origin\": \"japan\", \"name\": \"datsun 200sx\"}, {\"mpg\": 31.6, \"cylinders\": 4, \"displacement\": 120.0, \"horsepower\": 74.0, \"weight\": 2635, \"acceleration\": 18.3, \"model_year\": 81, \"origin\": \"japan\", \"name\": \"mazda 626\"}, {\"mpg\": 28.1, \"cylinders\": 4, \"displacement\": 141.0, \"horsepower\": 80.0, \"weight\": 3230, \"acceleration\": 20.4, \"model_year\": 81, \"origin\": \"europe\", \"name\": \"peugeot 505s turbo diesel\"}, {\"mpg\": 30.7, \"cylinders\": 6, \"displacement\": 145.0, \"horsepower\": 76.0, \"weight\": 3160, \"acceleration\": 19.6, \"model_year\": 81, \"origin\": \"europe\", \"name\": \"volvo diesel\"}, {\"mpg\": 25.4, \"cylinders\": 6, \"displacement\": 168.0, \"horsepower\": 116.0, \"weight\": 2900, \"acceleration\": 12.6, \"model_year\": 81, \"origin\": \"japan\", \"name\": \"toyota cressida\"}, {\"mpg\": 24.2, \"cylinders\": 6, \"displacement\": 146.0, \"horsepower\": 120.0, \"weight\": 2930, \"acceleration\": 13.8, \"model_year\": 81, \"origin\": \"japan\", \"name\": \"datsun 810 maxima\"}, {\"mpg\": 22.4, \"cylinders\": 6, \"displacement\": 231.0, \"horsepower\": 110.0, \"weight\": 3415, \"acceleration\": 15.8, \"model_year\": 81, \"origin\": \"usa\", \"name\": \"buick century\"}, {\"mpg\": 26.6, \"cylinders\": 8, \"displacement\": 350.0, \"horsepower\": 105.0, \"weight\": 3725, \"acceleration\": 19.0, \"model_year\": 81, \"origin\": \"usa\", \"name\": \"oldsmobile cutlass ls\"}, {\"mpg\": 20.2, \"cylinders\": 6, \"displacement\": 200.0, \"horsepower\": 88.0, \"weight\": 3060, \"acceleration\": 17.1, \"model_year\": 81, \"origin\": \"usa\", \"name\": \"ford granada gl\"}, {\"mpg\": 17.6, \"cylinders\": 6, \"displacement\": 225.0, \"horsepower\": 85.0, \"weight\": 3465, \"acceleration\": 16.6, \"model_year\": 81, \"origin\": \"usa\", \"name\": \"chrysler lebaron salon\"}, {\"mpg\": 28.0, \"cylinders\": 4, \"displacement\": 112.0, \"horsepower\": 88.0, \"weight\": 2605, \"acceleration\": 19.6, \"model_year\": 82, \"origin\": \"usa\", \"name\": \"chevrolet cavalier\"}, {\"mpg\": 27.0, \"cylinders\": 4, \"displacement\": 112.0, \"horsepower\": 88.0, \"weight\": 2640, \"acceleration\": 18.6, \"model_year\": 82, \"origin\": \"usa\", \"name\": \"chevrolet cavalier wagon\"}, {\"mpg\": 34.0, \"cylinders\": 4, \"displacement\": 112.0, \"horsepower\": 88.0, \"weight\": 2395, \"acceleration\": 18.0, \"model_year\": 82, \"origin\": \"usa\", \"name\": \"chevrolet cavalier 2-door\"}, {\"mpg\": 31.0, \"cylinders\": 4, \"displacement\": 112.0, \"horsepower\": 85.0, \"weight\": 2575, \"acceleration\": 16.2, \"model_year\": 82, \"origin\": \"usa\", \"name\": \"pontiac j2000 se hatchback\"}, {\"mpg\": 29.0, \"cylinders\": 4, \"displacement\": 135.0, \"horsepower\": 84.0, \"weight\": 2525, \"acceleration\": 16.0, \"model_year\": 82, \"origin\": \"usa\", \"name\": \"dodge aries se\"}, {\"mpg\": 27.0, \"cylinders\": 4, \"displacement\": 151.0, \"horsepower\": 90.0, \"weight\": 2735, \"acceleration\": 18.0, \"model_year\": 82, \"origin\": \"usa\", \"name\": \"pontiac phoenix\"}, {\"mpg\": 24.0, \"cylinders\": 4, \"displacement\": 140.0, \"horsepower\": 92.0, \"weight\": 2865, \"acceleration\": 16.4, \"model_year\": 82, \"origin\": \"usa\", \"name\": \"ford fairmont futura\"}, {\"mpg\": 23.0, \"cylinders\": 4, \"displacement\": 151.0, \"horsepower\": null, \"weight\": 3035, \"acceleration\": 20.5, \"model_year\": 82, \"origin\": \"usa\", \"name\": \"amc concord dl\"}, {\"mpg\": 36.0, \"cylinders\": 4, \"displacement\": 105.0, \"horsepower\": 74.0, \"weight\": 1980, \"acceleration\": 15.3, \"model_year\": 82, \"origin\": \"europe\", \"name\": \"volkswagen rabbit l\"}, {\"mpg\": 37.0, \"cylinders\": 4, \"displacement\": 91.0, \"horsepower\": 68.0, \"weight\": 2025, \"acceleration\": 18.2, \"model_year\": 82, \"origin\": \"japan\", \"name\": \"mazda glc custom l\"}, {\"mpg\": 31.0, \"cylinders\": 4, \"displacement\": 91.0, \"horsepower\": 68.0, \"weight\": 1970, \"acceleration\": 17.6, \"model_year\": 82, \"origin\": \"japan\", \"name\": \"mazda glc custom\"}, {\"mpg\": 38.0, \"cylinders\": 4, \"displacement\": 105.0, \"horsepower\": 63.0, \"weight\": 2125, \"acceleration\": 14.7, \"model_year\": 82, \"origin\": \"usa\", \"name\": \"plymouth horizon miser\"}, {\"mpg\": 36.0, \"cylinders\": 4, \"displacement\": 98.0, \"horsepower\": 70.0, \"weight\": 2125, \"acceleration\": 17.3, \"model_year\": 82, \"origin\": \"usa\", \"name\": \"mercury lynx l\"}, {\"mpg\": 36.0, \"cylinders\": 4, \"displacement\": 120.0, \"horsepower\": 88.0, \"weight\": 2160, \"acceleration\": 14.5, \"model_year\": 82, \"origin\": \"japan\", \"name\": \"nissan stanza xe\"}, {\"mpg\": 36.0, \"cylinders\": 4, \"displacement\": 107.0, \"horsepower\": 75.0, \"weight\": 2205, \"acceleration\": 14.5, \"model_year\": 82, \"origin\": \"japan\", \"name\": \"honda accord\"}, {\"mpg\": 34.0, \"cylinders\": 4, \"displacement\": 108.0, \"horsepower\": 70.0, \"weight\": 2245, \"acceleration\": 16.9, \"model_year\": 82, \"origin\": \"japan\", \"name\": \"toyota corolla\"}, {\"mpg\": 38.0, \"cylinders\": 4, \"displacement\": 91.0, \"horsepower\": 67.0, \"weight\": 1965, \"acceleration\": 15.0, \"model_year\": 82, \"origin\": \"japan\", \"name\": \"honda civic\"}, {\"mpg\": 32.0, \"cylinders\": 4, \"displacement\": 91.0, \"horsepower\": 67.0, \"weight\": 1965, \"acceleration\": 15.7, \"model_year\": 82, \"origin\": \"japan\", \"name\": \"honda civic (auto)\"}, {\"mpg\": 38.0, \"cylinders\": 4, \"displacement\": 91.0, \"horsepower\": 67.0, \"weight\": 1995, \"acceleration\": 16.2, \"model_year\": 82, \"origin\": \"japan\", \"name\": \"datsun 310 gx\"}, {\"mpg\": 25.0, \"cylinders\": 6, \"displacement\": 181.0, \"horsepower\": 110.0, \"weight\": 2945, \"acceleration\": 16.4, \"model_year\": 82, \"origin\": \"usa\", \"name\": \"buick century limited\"}, {\"mpg\": 38.0, \"cylinders\": 6, \"displacement\": 262.0, \"horsepower\": 85.0, \"weight\": 3015, \"acceleration\": 17.0, \"model_year\": 82, \"origin\": \"usa\", \"name\": \"oldsmobile cutlass ciera (diesel)\"}, {\"mpg\": 26.0, \"cylinders\": 4, \"displacement\": 156.0, \"horsepower\": 92.0, \"weight\": 2585, \"acceleration\": 14.5, \"model_year\": 82, \"origin\": \"usa\", \"name\": \"chrysler lebaron medallion\"}, {\"mpg\": 22.0, \"cylinders\": 6, \"displacement\": 232.0, \"horsepower\": 112.0, \"weight\": 2835, \"acceleration\": 14.7, \"model_year\": 82, \"origin\": \"usa\", \"name\": \"ford granada l\"}, {\"mpg\": 32.0, \"cylinders\": 4, \"displacement\": 144.0, \"horsepower\": 96.0, \"weight\": 2665, \"acceleration\": 13.9, \"model_year\": 82, \"origin\": \"japan\", \"name\": \"toyota celica gt\"}, {\"mpg\": 36.0, \"cylinders\": 4, \"displacement\": 135.0, \"horsepower\": 84.0, \"weight\": 2370, \"acceleration\": 13.0, \"model_year\": 82, \"origin\": \"usa\", \"name\": \"dodge charger 2.2\"}, {\"mpg\": 27.0, \"cylinders\": 4, \"displacement\": 151.0, \"horsepower\": 90.0, \"weight\": 2950, \"acceleration\": 17.3, \"model_year\": 82, \"origin\": \"usa\", \"name\": \"chevrolet camaro\"}, {\"mpg\": 27.0, \"cylinders\": 4, \"displacement\": 140.0, \"horsepower\": 86.0, \"weight\": 2790, \"acceleration\": 15.6, \"model_year\": 82, \"origin\": \"usa\", \"name\": \"ford mustang gl\"}, {\"mpg\": 44.0, \"cylinders\": 4, \"displacement\": 97.0, \"horsepower\": 52.0, \"weight\": 2130, \"acceleration\": 24.6, \"model_year\": 82, \"origin\": \"europe\", \"name\": \"vw pickup\"}, {\"mpg\": 32.0, \"cylinders\": 4, \"displacement\": 135.0, \"horsepower\": 84.0, \"weight\": 2295, \"acceleration\": 11.6, \"model_year\": 82, \"origin\": \"usa\", \"name\": \"dodge rampage\"}, {\"mpg\": 28.0, \"cylinders\": 4, \"displacement\": 120.0, \"horsepower\": 79.0, \"weight\": 2625, \"acceleration\": 18.6, \"model_year\": 82, \"origin\": \"usa\", \"name\": \"ford ranger\"}, {\"mpg\": 31.0, \"cylinders\": 4, \"displacement\": 119.0, \"horsepower\": 82.0, \"weight\": 2720, \"acceleration\": 19.4, \"model_year\": 82, \"origin\": \"usa\", \"name\": \"chevy s-10\"}]}}, {\"mode\": \"vega-lite\"});\n",
       "</script>"
      ],
      "text/plain": [
       "alt.LayerChart(...)"
      ]
     },
     "execution_count": 26,
     "metadata": {},
     "output_type": "execute_result"
    }
   ],
   "source": [
    "c1 + c2"
   ]
  },
  {
   "block_group": "b223d0de963d48d1b75606cd20684749",
   "cell_type": "markdown",
   "metadata": {
    "cell_id": "72f7027573484d119dbfc36fa2f7916f",
    "deepnote_cell_type": "markdown"
   },
   "source": [
    "The `+` notation in Altair is just shorthand for layering using `alt.layer`.  Here we are getting both charts displayed at once."
   ]
  },
  {
   "block_group": "5dffa764e5c94ffaad635298b72a090c",
   "cell_type": "code",
   "execution_count": null,
   "metadata": {
    "cell_id": "f46b990f4fd643bbaa9d3e6266af3360",
    "deepnote_cell_type": "code",
    "deepnote_to_be_reexecuted": false,
    "execution_millis": 167,
    "execution_start": 1697662076676,
    "source_hash": null
   },
   "outputs": [
    {
     "data": {
      "text/html": [
       "\n",
       "<div id=\"altair-viz-4b117c0b082f4ec09e5c9fbeec0b7804\"></div>\n",
       "<script type=\"text/javascript\">\n",
       "  var VEGA_DEBUG = (typeof VEGA_DEBUG == \"undefined\") ? {} : VEGA_DEBUG;\n",
       "  (function(spec, embedOpt){\n",
       "    let outputDiv = document.currentScript.previousElementSibling;\n",
       "    if (outputDiv.id !== \"altair-viz-4b117c0b082f4ec09e5c9fbeec0b7804\") {\n",
       "      outputDiv = document.getElementById(\"altair-viz-4b117c0b082f4ec09e5c9fbeec0b7804\");\n",
       "    }\n",
       "    const paths = {\n",
       "      \"vega\": \"https://cdn.jsdelivr.net/npm//vega@5?noext\",\n",
       "      \"vega-lib\": \"https://cdn.jsdelivr.net/npm//vega-lib?noext\",\n",
       "      \"vega-lite\": \"https://cdn.jsdelivr.net/npm//vega-lite@4.17.0?noext\",\n",
       "      \"vega-embed\": \"https://cdn.jsdelivr.net/npm//vega-embed@6?noext\",\n",
       "    };\n",
       "\n",
       "    function maybeLoadScript(lib, version) {\n",
       "      var key = `${lib.replace(\"-\", \"\")}_version`;\n",
       "      return (VEGA_DEBUG[key] == version) ?\n",
       "        Promise.resolve(paths[lib]) :\n",
       "        new Promise(function(resolve, reject) {\n",
       "          var s = document.createElement('script');\n",
       "          document.getElementsByTagName(\"head\")[0].appendChild(s);\n",
       "          s.async = true;\n",
       "          s.onload = () => {\n",
       "            VEGA_DEBUG[key] = version;\n",
       "            return resolve(paths[lib]);\n",
       "          };\n",
       "          s.onerror = () => reject(`Error loading script: ${paths[lib]}`);\n",
       "          s.src = paths[lib];\n",
       "        });\n",
       "    }\n",
       "\n",
       "    function showError(err) {\n",
       "      outputDiv.innerHTML = `<div class=\"error\" style=\"color:red;\">${err}</div>`;\n",
       "      throw err;\n",
       "    }\n",
       "\n",
       "    function displayChart(vegaEmbed) {\n",
       "      vegaEmbed(outputDiv, spec, embedOpt)\n",
       "        .catch(err => showError(`Javascript Error: ${err.message}<br>This usually means there's a typo in your chart specification. See the javascript console for the full traceback.`));\n",
       "    }\n",
       "\n",
       "    if(typeof define === \"function\" && define.amd) {\n",
       "      requirejs.config({paths});\n",
       "      require([\"vega-embed\"], displayChart, err => showError(`Error loading script: ${err.message}`));\n",
       "    } else {\n",
       "      maybeLoadScript(\"vega\", \"5\")\n",
       "        .then(() => maybeLoadScript(\"vega-lite\", \"4.17.0\"))\n",
       "        .then(() => maybeLoadScript(\"vega-embed\", \"6\"))\n",
       "        .catch(showError)\n",
       "        .then(() => displayChart(vegaEmbed));\n",
       "    }\n",
       "  })({\"config\": {\"view\": {\"continuousWidth\": 400, \"continuousHeight\": 300}}, \"layer\": [{\"mark\": \"rect\", \"encoding\": {\"color\": {\"aggregate\": \"count\", \"type\": \"quantitative\"}, \"tooltip\": [{\"aggregate\": \"count\", \"type\": \"quantitative\"}], \"x\": {\"field\": \"model_year\", \"type\": \"ordinal\"}, \"y\": {\"field\": \"cylinders\", \"type\": \"ordinal\"}}}, {\"mark\": \"text\", \"encoding\": {\"text\": {\"aggregate\": \"count\", \"type\": \"quantitative\"}, \"x\": {\"field\": \"model_year\", \"type\": \"ordinal\"}, \"y\": {\"field\": \"cylinders\", \"type\": \"ordinal\"}}}], \"data\": {\"name\": \"data-f1198cc0481ad698d7dc4699e0a3efa7\"}, \"$schema\": \"https://vega.github.io/schema/vega-lite/v4.17.0.json\", \"datasets\": {\"data-f1198cc0481ad698d7dc4699e0a3efa7\": [{\"mpg\": 18.0, \"cylinders\": 8, \"displacement\": 307.0, \"horsepower\": 130.0, \"weight\": 3504, \"acceleration\": 12.0, \"model_year\": 70, \"origin\": \"usa\", \"name\": \"chevrolet chevelle malibu\"}, {\"mpg\": 15.0, \"cylinders\": 8, \"displacement\": 350.0, \"horsepower\": 165.0, \"weight\": 3693, \"acceleration\": 11.5, \"model_year\": 70, \"origin\": \"usa\", \"name\": \"buick skylark 320\"}, {\"mpg\": 18.0, \"cylinders\": 8, \"displacement\": 318.0, \"horsepower\": 150.0, \"weight\": 3436, \"acceleration\": 11.0, \"model_year\": 70, \"origin\": \"usa\", \"name\": \"plymouth satellite\"}, {\"mpg\": 16.0, \"cylinders\": 8, \"displacement\": 304.0, \"horsepower\": 150.0, \"weight\": 3433, \"acceleration\": 12.0, \"model_year\": 70, \"origin\": \"usa\", \"name\": \"amc rebel sst\"}, {\"mpg\": 17.0, \"cylinders\": 8, \"displacement\": 302.0, \"horsepower\": 140.0, \"weight\": 3449, \"acceleration\": 10.5, \"model_year\": 70, \"origin\": \"usa\", \"name\": \"ford torino\"}, {\"mpg\": 15.0, \"cylinders\": 8, \"displacement\": 429.0, \"horsepower\": 198.0, \"weight\": 4341, \"acceleration\": 10.0, \"model_year\": 70, \"origin\": \"usa\", \"name\": \"ford galaxie 500\"}, {\"mpg\": 14.0, \"cylinders\": 8, \"displacement\": 454.0, \"horsepower\": 220.0, \"weight\": 4354, \"acceleration\": 9.0, \"model_year\": 70, \"origin\": \"usa\", \"name\": \"chevrolet impala\"}, {\"mpg\": 14.0, \"cylinders\": 8, \"displacement\": 440.0, \"horsepower\": 215.0, \"weight\": 4312, \"acceleration\": 8.5, \"model_year\": 70, \"origin\": \"usa\", \"name\": \"plymouth fury iii\"}, {\"mpg\": 14.0, \"cylinders\": 8, \"displacement\": 455.0, \"horsepower\": 225.0, \"weight\": 4425, \"acceleration\": 10.0, \"model_year\": 70, \"origin\": \"usa\", \"name\": \"pontiac catalina\"}, {\"mpg\": 15.0, \"cylinders\": 8, \"displacement\": 390.0, \"horsepower\": 190.0, \"weight\": 3850, \"acceleration\": 8.5, \"model_year\": 70, \"origin\": \"usa\", \"name\": \"amc ambassador dpl\"}, {\"mpg\": 15.0, \"cylinders\": 8, \"displacement\": 383.0, \"horsepower\": 170.0, \"weight\": 3563, \"acceleration\": 10.0, \"model_year\": 70, \"origin\": \"usa\", \"name\": \"dodge challenger se\"}, {\"mpg\": 14.0, \"cylinders\": 8, \"displacement\": 340.0, \"horsepower\": 160.0, \"weight\": 3609, \"acceleration\": 8.0, \"model_year\": 70, \"origin\": \"usa\", \"name\": \"plymouth 'cuda 340\"}, {\"mpg\": 15.0, \"cylinders\": 8, \"displacement\": 400.0, \"horsepower\": 150.0, \"weight\": 3761, \"acceleration\": 9.5, \"model_year\": 70, \"origin\": \"usa\", \"name\": \"chevrolet monte carlo\"}, {\"mpg\": 14.0, \"cylinders\": 8, \"displacement\": 455.0, \"horsepower\": 225.0, \"weight\": 3086, \"acceleration\": 10.0, \"model_year\": 70, \"origin\": \"usa\", \"name\": \"buick estate wagon (sw)\"}, {\"mpg\": 24.0, \"cylinders\": 4, \"displacement\": 113.0, \"horsepower\": 95.0, \"weight\": 2372, \"acceleration\": 15.0, \"model_year\": 70, \"origin\": \"japan\", \"name\": \"toyota corona mark ii\"}, {\"mpg\": 22.0, \"cylinders\": 6, \"displacement\": 198.0, \"horsepower\": 95.0, \"weight\": 2833, \"acceleration\": 15.5, \"model_year\": 70, \"origin\": \"usa\", \"name\": \"plymouth duster\"}, {\"mpg\": 18.0, \"cylinders\": 6, \"displacement\": 199.0, \"horsepower\": 97.0, \"weight\": 2774, \"acceleration\": 15.5, \"model_year\": 70, \"origin\": \"usa\", \"name\": \"amc hornet\"}, {\"mpg\": 21.0, \"cylinders\": 6, \"displacement\": 200.0, \"horsepower\": 85.0, \"weight\": 2587, \"acceleration\": 16.0, \"model_year\": 70, \"origin\": \"usa\", \"name\": \"ford maverick\"}, {\"mpg\": 27.0, \"cylinders\": 4, \"displacement\": 97.0, \"horsepower\": 88.0, \"weight\": 2130, \"acceleration\": 14.5, \"model_year\": 70, \"origin\": \"japan\", \"name\": \"datsun pl510\"}, {\"mpg\": 26.0, \"cylinders\": 4, \"displacement\": 97.0, \"horsepower\": 46.0, \"weight\": 1835, \"acceleration\": 20.5, \"model_year\": 70, \"origin\": \"europe\", \"name\": \"volkswagen 1131 deluxe sedan\"}, {\"mpg\": 25.0, \"cylinders\": 4, \"displacement\": 110.0, \"horsepower\": 87.0, \"weight\": 2672, \"acceleration\": 17.5, \"model_year\": 70, \"origin\": \"europe\", \"name\": \"peugeot 504\"}, {\"mpg\": 24.0, \"cylinders\": 4, \"displacement\": 107.0, \"horsepower\": 90.0, \"weight\": 2430, \"acceleration\": 14.5, \"model_year\": 70, \"origin\": \"europe\", \"name\": \"audi 100 ls\"}, {\"mpg\": 25.0, \"cylinders\": 4, \"displacement\": 104.0, \"horsepower\": 95.0, \"weight\": 2375, \"acceleration\": 17.5, \"model_year\": 70, \"origin\": \"europe\", \"name\": \"saab 99e\"}, {\"mpg\": 26.0, \"cylinders\": 4, \"displacement\": 121.0, \"horsepower\": 113.0, \"weight\": 2234, \"acceleration\": 12.5, \"model_year\": 70, \"origin\": \"europe\", \"name\": \"bmw 2002\"}, {\"mpg\": 21.0, \"cylinders\": 6, \"displacement\": 199.0, \"horsepower\": 90.0, \"weight\": 2648, \"acceleration\": 15.0, \"model_year\": 70, \"origin\": \"usa\", \"name\": \"amc gremlin\"}, {\"mpg\": 10.0, \"cylinders\": 8, \"displacement\": 360.0, \"horsepower\": 215.0, \"weight\": 4615, \"acceleration\": 14.0, \"model_year\": 70, \"origin\": \"usa\", \"name\": \"ford f250\"}, {\"mpg\": 10.0, \"cylinders\": 8, \"displacement\": 307.0, \"horsepower\": 200.0, \"weight\": 4376, \"acceleration\": 15.0, \"model_year\": 70, \"origin\": \"usa\", \"name\": \"chevy c20\"}, {\"mpg\": 11.0, \"cylinders\": 8, \"displacement\": 318.0, \"horsepower\": 210.0, \"weight\": 4382, \"acceleration\": 13.5, \"model_year\": 70, \"origin\": \"usa\", \"name\": \"dodge d200\"}, {\"mpg\": 9.0, \"cylinders\": 8, \"displacement\": 304.0, \"horsepower\": 193.0, \"weight\": 4732, \"acceleration\": 18.5, \"model_year\": 70, \"origin\": \"usa\", \"name\": \"hi 1200d\"}, {\"mpg\": 27.0, \"cylinders\": 4, \"displacement\": 97.0, \"horsepower\": 88.0, \"weight\": 2130, \"acceleration\": 14.5, \"model_year\": 71, \"origin\": \"japan\", \"name\": \"datsun pl510\"}, {\"mpg\": 28.0, \"cylinders\": 4, \"displacement\": 140.0, \"horsepower\": 90.0, \"weight\": 2264, \"acceleration\": 15.5, \"model_year\": 71, \"origin\": \"usa\", \"name\": \"chevrolet vega 2300\"}, {\"mpg\": 25.0, \"cylinders\": 4, \"displacement\": 113.0, \"horsepower\": 95.0, \"weight\": 2228, \"acceleration\": 14.0, \"model_year\": 71, \"origin\": \"japan\", \"name\": \"toyota corona\"}, {\"mpg\": 25.0, \"cylinders\": 4, \"displacement\": 98.0, \"horsepower\": null, \"weight\": 2046, \"acceleration\": 19.0, \"model_year\": 71, \"origin\": \"usa\", \"name\": \"ford pinto\"}, {\"mpg\": 19.0, \"cylinders\": 6, \"displacement\": 232.0, \"horsepower\": 100.0, \"weight\": 2634, \"acceleration\": 13.0, \"model_year\": 71, \"origin\": \"usa\", \"name\": \"amc gremlin\"}, {\"mpg\": 16.0, \"cylinders\": 6, \"displacement\": 225.0, \"horsepower\": 105.0, \"weight\": 3439, \"acceleration\": 15.5, \"model_year\": 71, \"origin\": \"usa\", \"name\": \"plymouth satellite custom\"}, {\"mpg\": 17.0, \"cylinders\": 6, \"displacement\": 250.0, \"horsepower\": 100.0, \"weight\": 3329, \"acceleration\": 15.5, \"model_year\": 71, \"origin\": \"usa\", \"name\": \"chevrolet chevelle malibu\"}, {\"mpg\": 19.0, \"cylinders\": 6, \"displacement\": 250.0, \"horsepower\": 88.0, \"weight\": 3302, \"acceleration\": 15.5, \"model_year\": 71, \"origin\": \"usa\", \"name\": \"ford torino 500\"}, {\"mpg\": 18.0, \"cylinders\": 6, \"displacement\": 232.0, \"horsepower\": 100.0, \"weight\": 3288, \"acceleration\": 15.5, \"model_year\": 71, \"origin\": \"usa\", \"name\": \"amc matador\"}, {\"mpg\": 14.0, \"cylinders\": 8, \"displacement\": 350.0, \"horsepower\": 165.0, \"weight\": 4209, \"acceleration\": 12.0, \"model_year\": 71, \"origin\": \"usa\", \"name\": \"chevrolet impala\"}, {\"mpg\": 14.0, \"cylinders\": 8, \"displacement\": 400.0, \"horsepower\": 175.0, \"weight\": 4464, \"acceleration\": 11.5, \"model_year\": 71, \"origin\": \"usa\", \"name\": \"pontiac catalina brougham\"}, {\"mpg\": 14.0, \"cylinders\": 8, \"displacement\": 351.0, \"horsepower\": 153.0, \"weight\": 4154, \"acceleration\": 13.5, \"model_year\": 71, \"origin\": \"usa\", \"name\": \"ford galaxie 500\"}, {\"mpg\": 14.0, \"cylinders\": 8, \"displacement\": 318.0, \"horsepower\": 150.0, \"weight\": 4096, \"acceleration\": 13.0, \"model_year\": 71, \"origin\": \"usa\", \"name\": \"plymouth fury iii\"}, {\"mpg\": 12.0, \"cylinders\": 8, \"displacement\": 383.0, \"horsepower\": 180.0, \"weight\": 4955, \"acceleration\": 11.5, \"model_year\": 71, \"origin\": \"usa\", \"name\": \"dodge monaco (sw)\"}, {\"mpg\": 13.0, \"cylinders\": 8, \"displacement\": 400.0, \"horsepower\": 170.0, \"weight\": 4746, \"acceleration\": 12.0, \"model_year\": 71, \"origin\": \"usa\", \"name\": \"ford country squire (sw)\"}, {\"mpg\": 13.0, \"cylinders\": 8, \"displacement\": 400.0, \"horsepower\": 175.0, \"weight\": 5140, \"acceleration\": 12.0, \"model_year\": 71, \"origin\": \"usa\", \"name\": \"pontiac safari (sw)\"}, {\"mpg\": 18.0, \"cylinders\": 6, \"displacement\": 258.0, \"horsepower\": 110.0, \"weight\": 2962, \"acceleration\": 13.5, \"model_year\": 71, \"origin\": \"usa\", \"name\": \"amc hornet sportabout (sw)\"}, {\"mpg\": 22.0, \"cylinders\": 4, \"displacement\": 140.0, \"horsepower\": 72.0, \"weight\": 2408, \"acceleration\": 19.0, \"model_year\": 71, \"origin\": \"usa\", \"name\": \"chevrolet vega (sw)\"}, {\"mpg\": 19.0, \"cylinders\": 6, \"displacement\": 250.0, \"horsepower\": 100.0, \"weight\": 3282, \"acceleration\": 15.0, \"model_year\": 71, \"origin\": \"usa\", \"name\": \"pontiac firebird\"}, {\"mpg\": 18.0, \"cylinders\": 6, \"displacement\": 250.0, \"horsepower\": 88.0, \"weight\": 3139, \"acceleration\": 14.5, \"model_year\": 71, \"origin\": \"usa\", \"name\": \"ford mustang\"}, {\"mpg\": 23.0, \"cylinders\": 4, \"displacement\": 122.0, \"horsepower\": 86.0, \"weight\": 2220, \"acceleration\": 14.0, \"model_year\": 71, \"origin\": \"usa\", \"name\": \"mercury capri 2000\"}, {\"mpg\": 28.0, \"cylinders\": 4, \"displacement\": 116.0, \"horsepower\": 90.0, \"weight\": 2123, \"acceleration\": 14.0, \"model_year\": 71, \"origin\": \"europe\", \"name\": \"opel 1900\"}, {\"mpg\": 30.0, \"cylinders\": 4, \"displacement\": 79.0, \"horsepower\": 70.0, \"weight\": 2074, \"acceleration\": 19.5, \"model_year\": 71, \"origin\": \"europe\", \"name\": \"peugeot 304\"}, {\"mpg\": 30.0, \"cylinders\": 4, \"displacement\": 88.0, \"horsepower\": 76.0, \"weight\": 2065, \"acceleration\": 14.5, \"model_year\": 71, \"origin\": \"europe\", \"name\": \"fiat 124b\"}, {\"mpg\": 31.0, \"cylinders\": 4, \"displacement\": 71.0, \"horsepower\": 65.0, \"weight\": 1773, \"acceleration\": 19.0, \"model_year\": 71, \"origin\": \"japan\", \"name\": \"toyota corolla 1200\"}, {\"mpg\": 35.0, \"cylinders\": 4, \"displacement\": 72.0, \"horsepower\": 69.0, \"weight\": 1613, \"acceleration\": 18.0, \"model_year\": 71, \"origin\": \"japan\", \"name\": \"datsun 1200\"}, {\"mpg\": 27.0, \"cylinders\": 4, \"displacement\": 97.0, \"horsepower\": 60.0, \"weight\": 1834, \"acceleration\": 19.0, \"model_year\": 71, \"origin\": \"europe\", \"name\": \"volkswagen model 111\"}, {\"mpg\": 26.0, \"cylinders\": 4, \"displacement\": 91.0, \"horsepower\": 70.0, \"weight\": 1955, \"acceleration\": 20.5, \"model_year\": 71, \"origin\": \"usa\", \"name\": \"plymouth cricket\"}, {\"mpg\": 24.0, \"cylinders\": 4, \"displacement\": 113.0, \"horsepower\": 95.0, \"weight\": 2278, \"acceleration\": 15.5, \"model_year\": 72, \"origin\": \"japan\", \"name\": \"toyota corona hardtop\"}, {\"mpg\": 25.0, \"cylinders\": 4, \"displacement\": 97.5, \"horsepower\": 80.0, \"weight\": 2126, \"acceleration\": 17.0, \"model_year\": 72, \"origin\": \"usa\", \"name\": \"dodge colt hardtop\"}, {\"mpg\": 23.0, \"cylinders\": 4, \"displacement\": 97.0, \"horsepower\": 54.0, \"weight\": 2254, \"acceleration\": 23.5, \"model_year\": 72, \"origin\": \"europe\", \"name\": \"volkswagen type 3\"}, {\"mpg\": 20.0, \"cylinders\": 4, \"displacement\": 140.0, \"horsepower\": 90.0, \"weight\": 2408, \"acceleration\": 19.5, \"model_year\": 72, \"origin\": \"usa\", \"name\": \"chevrolet vega\"}, {\"mpg\": 21.0, \"cylinders\": 4, \"displacement\": 122.0, \"horsepower\": 86.0, \"weight\": 2226, \"acceleration\": 16.5, \"model_year\": 72, \"origin\": \"usa\", \"name\": \"ford pinto runabout\"}, {\"mpg\": 13.0, \"cylinders\": 8, \"displacement\": 350.0, \"horsepower\": 165.0, \"weight\": 4274, \"acceleration\": 12.0, \"model_year\": 72, \"origin\": \"usa\", \"name\": \"chevrolet impala\"}, {\"mpg\": 14.0, \"cylinders\": 8, \"displacement\": 400.0, \"horsepower\": 175.0, \"weight\": 4385, \"acceleration\": 12.0, \"model_year\": 72, \"origin\": \"usa\", \"name\": \"pontiac catalina\"}, {\"mpg\": 15.0, \"cylinders\": 8, \"displacement\": 318.0, \"horsepower\": 150.0, \"weight\": 4135, \"acceleration\": 13.5, \"model_year\": 72, \"origin\": \"usa\", \"name\": \"plymouth fury iii\"}, {\"mpg\": 14.0, \"cylinders\": 8, \"displacement\": 351.0, \"horsepower\": 153.0, \"weight\": 4129, \"acceleration\": 13.0, \"model_year\": 72, \"origin\": \"usa\", \"name\": \"ford galaxie 500\"}, {\"mpg\": 17.0, \"cylinders\": 8, \"displacement\": 304.0, \"horsepower\": 150.0, \"weight\": 3672, \"acceleration\": 11.5, \"model_year\": 72, \"origin\": \"usa\", \"name\": \"amc ambassador sst\"}, {\"mpg\": 11.0, \"cylinders\": 8, \"displacement\": 429.0, \"horsepower\": 208.0, \"weight\": 4633, \"acceleration\": 11.0, \"model_year\": 72, \"origin\": \"usa\", \"name\": \"mercury marquis\"}, {\"mpg\": 13.0, \"cylinders\": 8, \"displacement\": 350.0, \"horsepower\": 155.0, \"weight\": 4502, \"acceleration\": 13.5, \"model_year\": 72, \"origin\": \"usa\", \"name\": \"buick lesabre custom\"}, {\"mpg\": 12.0, \"cylinders\": 8, \"displacement\": 350.0, \"horsepower\": 160.0, \"weight\": 4456, \"acceleration\": 13.5, \"model_year\": 72, \"origin\": \"usa\", \"name\": \"oldsmobile delta 88 royale\"}, {\"mpg\": 13.0, \"cylinders\": 8, \"displacement\": 400.0, \"horsepower\": 190.0, \"weight\": 4422, \"acceleration\": 12.5, \"model_year\": 72, \"origin\": \"usa\", \"name\": \"chrysler newport royal\"}, {\"mpg\": 19.0, \"cylinders\": 3, \"displacement\": 70.0, \"horsepower\": 97.0, \"weight\": 2330, \"acceleration\": 13.5, \"model_year\": 72, \"origin\": \"japan\", \"name\": \"mazda rx2 coupe\"}, {\"mpg\": 15.0, \"cylinders\": 8, \"displacement\": 304.0, \"horsepower\": 150.0, \"weight\": 3892, \"acceleration\": 12.5, \"model_year\": 72, \"origin\": \"usa\", \"name\": \"amc matador (sw)\"}, {\"mpg\": 13.0, \"cylinders\": 8, \"displacement\": 307.0, \"horsepower\": 130.0, \"weight\": 4098, \"acceleration\": 14.0, \"model_year\": 72, \"origin\": \"usa\", \"name\": \"chevrolet chevelle concours (sw)\"}, {\"mpg\": 13.0, \"cylinders\": 8, \"displacement\": 302.0, \"horsepower\": 140.0, \"weight\": 4294, \"acceleration\": 16.0, \"model_year\": 72, \"origin\": \"usa\", \"name\": \"ford gran torino (sw)\"}, {\"mpg\": 14.0, \"cylinders\": 8, \"displacement\": 318.0, \"horsepower\": 150.0, \"weight\": 4077, \"acceleration\": 14.0, \"model_year\": 72, \"origin\": \"usa\", \"name\": \"plymouth satellite custom (sw)\"}, {\"mpg\": 18.0, \"cylinders\": 4, \"displacement\": 121.0, \"horsepower\": 112.0, \"weight\": 2933, \"acceleration\": 14.5, \"model_year\": 72, \"origin\": \"europe\", \"name\": \"volvo 145e (sw)\"}, {\"mpg\": 22.0, \"cylinders\": 4, \"displacement\": 121.0, \"horsepower\": 76.0, \"weight\": 2511, \"acceleration\": 18.0, \"model_year\": 72, \"origin\": \"europe\", \"name\": \"volkswagen 411 (sw)\"}, {\"mpg\": 21.0, \"cylinders\": 4, \"displacement\": 120.0, \"horsepower\": 87.0, \"weight\": 2979, \"acceleration\": 19.5, \"model_year\": 72, \"origin\": \"europe\", \"name\": \"peugeot 504 (sw)\"}, {\"mpg\": 26.0, \"cylinders\": 4, \"displacement\": 96.0, \"horsepower\": 69.0, \"weight\": 2189, \"acceleration\": 18.0, \"model_year\": 72, \"origin\": \"europe\", \"name\": \"renault 12 (sw)\"}, {\"mpg\": 22.0, \"cylinders\": 4, \"displacement\": 122.0, \"horsepower\": 86.0, \"weight\": 2395, \"acceleration\": 16.0, \"model_year\": 72, \"origin\": \"usa\", \"name\": \"ford pinto (sw)\"}, {\"mpg\": 28.0, \"cylinders\": 4, \"displacement\": 97.0, \"horsepower\": 92.0, \"weight\": 2288, \"acceleration\": 17.0, \"model_year\": 72, \"origin\": \"japan\", \"name\": \"datsun 510 (sw)\"}, {\"mpg\": 23.0, \"cylinders\": 4, \"displacement\": 120.0, \"horsepower\": 97.0, \"weight\": 2506, \"acceleration\": 14.5, \"model_year\": 72, \"origin\": \"japan\", \"name\": \"toyouta corona mark ii (sw)\"}, {\"mpg\": 28.0, \"cylinders\": 4, \"displacement\": 98.0, \"horsepower\": 80.0, \"weight\": 2164, \"acceleration\": 15.0, \"model_year\": 72, \"origin\": \"usa\", \"name\": \"dodge colt (sw)\"}, {\"mpg\": 27.0, \"cylinders\": 4, \"displacement\": 97.0, \"horsepower\": 88.0, \"weight\": 2100, \"acceleration\": 16.5, \"model_year\": 72, \"origin\": \"japan\", \"name\": \"toyota corolla 1600 (sw)\"}, {\"mpg\": 13.0, \"cylinders\": 8, \"displacement\": 350.0, \"horsepower\": 175.0, \"weight\": 4100, \"acceleration\": 13.0, \"model_year\": 73, \"origin\": \"usa\", \"name\": \"buick century 350\"}, {\"mpg\": 14.0, \"cylinders\": 8, \"displacement\": 304.0, \"horsepower\": 150.0, \"weight\": 3672, \"acceleration\": 11.5, \"model_year\": 73, \"origin\": \"usa\", \"name\": \"amc matador\"}, {\"mpg\": 13.0, \"cylinders\": 8, \"displacement\": 350.0, \"horsepower\": 145.0, \"weight\": 3988, \"acceleration\": 13.0, \"model_year\": 73, \"origin\": \"usa\", \"name\": \"chevrolet malibu\"}, {\"mpg\": 14.0, \"cylinders\": 8, \"displacement\": 302.0, \"horsepower\": 137.0, \"weight\": 4042, \"acceleration\": 14.5, \"model_year\": 73, \"origin\": \"usa\", \"name\": \"ford gran torino\"}, {\"mpg\": 15.0, \"cylinders\": 8, \"displacement\": 318.0, \"horsepower\": 150.0, \"weight\": 3777, \"acceleration\": 12.5, \"model_year\": 73, \"origin\": \"usa\", \"name\": \"dodge coronet custom\"}, {\"mpg\": 12.0, \"cylinders\": 8, \"displacement\": 429.0, \"horsepower\": 198.0, \"weight\": 4952, \"acceleration\": 11.5, \"model_year\": 73, \"origin\": \"usa\", \"name\": \"mercury marquis brougham\"}, {\"mpg\": 13.0, \"cylinders\": 8, \"displacement\": 400.0, \"horsepower\": 150.0, \"weight\": 4464, \"acceleration\": 12.0, \"model_year\": 73, \"origin\": \"usa\", \"name\": \"chevrolet caprice classic\"}, {\"mpg\": 13.0, \"cylinders\": 8, \"displacement\": 351.0, \"horsepower\": 158.0, \"weight\": 4363, \"acceleration\": 13.0, \"model_year\": 73, \"origin\": \"usa\", \"name\": \"ford ltd\"}, {\"mpg\": 14.0, \"cylinders\": 8, \"displacement\": 318.0, \"horsepower\": 150.0, \"weight\": 4237, \"acceleration\": 14.5, \"model_year\": 73, \"origin\": \"usa\", \"name\": \"plymouth fury gran sedan\"}, {\"mpg\": 13.0, \"cylinders\": 8, \"displacement\": 440.0, \"horsepower\": 215.0, \"weight\": 4735, \"acceleration\": 11.0, \"model_year\": 73, \"origin\": \"usa\", \"name\": \"chrysler new yorker brougham\"}, {\"mpg\": 12.0, \"cylinders\": 8, \"displacement\": 455.0, \"horsepower\": 225.0, \"weight\": 4951, \"acceleration\": 11.0, \"model_year\": 73, \"origin\": \"usa\", \"name\": \"buick electra 225 custom\"}, {\"mpg\": 13.0, \"cylinders\": 8, \"displacement\": 360.0, \"horsepower\": 175.0, \"weight\": 3821, \"acceleration\": 11.0, \"model_year\": 73, \"origin\": \"usa\", \"name\": \"amc ambassador brougham\"}, {\"mpg\": 18.0, \"cylinders\": 6, \"displacement\": 225.0, \"horsepower\": 105.0, \"weight\": 3121, \"acceleration\": 16.5, \"model_year\": 73, \"origin\": \"usa\", \"name\": \"plymouth valiant\"}, {\"mpg\": 16.0, \"cylinders\": 6, \"displacement\": 250.0, \"horsepower\": 100.0, \"weight\": 3278, \"acceleration\": 18.0, \"model_year\": 73, \"origin\": \"usa\", \"name\": \"chevrolet nova custom\"}, {\"mpg\": 18.0, \"cylinders\": 6, \"displacement\": 232.0, \"horsepower\": 100.0, \"weight\": 2945, \"acceleration\": 16.0, \"model_year\": 73, \"origin\": \"usa\", \"name\": \"amc hornet\"}, {\"mpg\": 18.0, \"cylinders\": 6, \"displacement\": 250.0, \"horsepower\": 88.0, \"weight\": 3021, \"acceleration\": 16.5, \"model_year\": 73, \"origin\": \"usa\", \"name\": \"ford maverick\"}, {\"mpg\": 23.0, \"cylinders\": 6, \"displacement\": 198.0, \"horsepower\": 95.0, \"weight\": 2904, \"acceleration\": 16.0, \"model_year\": 73, \"origin\": \"usa\", \"name\": \"plymouth duster\"}, {\"mpg\": 26.0, \"cylinders\": 4, \"displacement\": 97.0, \"horsepower\": 46.0, \"weight\": 1950, \"acceleration\": 21.0, \"model_year\": 73, \"origin\": \"europe\", \"name\": \"volkswagen super beetle\"}, {\"mpg\": 11.0, \"cylinders\": 8, \"displacement\": 400.0, \"horsepower\": 150.0, \"weight\": 4997, \"acceleration\": 14.0, \"model_year\": 73, \"origin\": \"usa\", \"name\": \"chevrolet impala\"}, {\"mpg\": 12.0, \"cylinders\": 8, \"displacement\": 400.0, \"horsepower\": 167.0, \"weight\": 4906, \"acceleration\": 12.5, \"model_year\": 73, \"origin\": \"usa\", \"name\": \"ford country\"}, {\"mpg\": 13.0, \"cylinders\": 8, \"displacement\": 360.0, \"horsepower\": 170.0, \"weight\": 4654, \"acceleration\": 13.0, \"model_year\": 73, \"origin\": \"usa\", \"name\": \"plymouth custom suburb\"}, {\"mpg\": 12.0, \"cylinders\": 8, \"displacement\": 350.0, \"horsepower\": 180.0, \"weight\": 4499, \"acceleration\": 12.5, \"model_year\": 73, \"origin\": \"usa\", \"name\": \"oldsmobile vista cruiser\"}, {\"mpg\": 18.0, \"cylinders\": 6, \"displacement\": 232.0, \"horsepower\": 100.0, \"weight\": 2789, \"acceleration\": 15.0, \"model_year\": 73, \"origin\": \"usa\", \"name\": \"amc gremlin\"}, {\"mpg\": 20.0, \"cylinders\": 4, \"displacement\": 97.0, \"horsepower\": 88.0, \"weight\": 2279, \"acceleration\": 19.0, \"model_year\": 73, \"origin\": \"japan\", \"name\": \"toyota carina\"}, {\"mpg\": 21.0, \"cylinders\": 4, \"displacement\": 140.0, \"horsepower\": 72.0, \"weight\": 2401, \"acceleration\": 19.5, \"model_year\": 73, \"origin\": \"usa\", \"name\": \"chevrolet vega\"}, {\"mpg\": 22.0, \"cylinders\": 4, \"displacement\": 108.0, \"horsepower\": 94.0, \"weight\": 2379, \"acceleration\": 16.5, \"model_year\": 73, \"origin\": \"japan\", \"name\": \"datsun 610\"}, {\"mpg\": 18.0, \"cylinders\": 3, \"displacement\": 70.0, \"horsepower\": 90.0, \"weight\": 2124, \"acceleration\": 13.5, \"model_year\": 73, \"origin\": \"japan\", \"name\": \"maxda rx3\"}, {\"mpg\": 19.0, \"cylinders\": 4, \"displacement\": 122.0, \"horsepower\": 85.0, \"weight\": 2310, \"acceleration\": 18.5, \"model_year\": 73, \"origin\": \"usa\", \"name\": \"ford pinto\"}, {\"mpg\": 21.0, \"cylinders\": 6, \"displacement\": 155.0, \"horsepower\": 107.0, \"weight\": 2472, \"acceleration\": 14.0, \"model_year\": 73, \"origin\": \"usa\", \"name\": \"mercury capri v6\"}, {\"mpg\": 26.0, \"cylinders\": 4, \"displacement\": 98.0, \"horsepower\": 90.0, \"weight\": 2265, \"acceleration\": 15.5, \"model_year\": 73, \"origin\": \"europe\", \"name\": \"fiat 124 sport coupe\"}, {\"mpg\": 15.0, \"cylinders\": 8, \"displacement\": 350.0, \"horsepower\": 145.0, \"weight\": 4082, \"acceleration\": 13.0, \"model_year\": 73, \"origin\": \"usa\", \"name\": \"chevrolet monte carlo s\"}, {\"mpg\": 16.0, \"cylinders\": 8, \"displacement\": 400.0, \"horsepower\": 230.0, \"weight\": 4278, \"acceleration\": 9.5, \"model_year\": 73, \"origin\": \"usa\", \"name\": \"pontiac grand prix\"}, {\"mpg\": 29.0, \"cylinders\": 4, \"displacement\": 68.0, \"horsepower\": 49.0, \"weight\": 1867, \"acceleration\": 19.5, \"model_year\": 73, \"origin\": \"europe\", \"name\": \"fiat 128\"}, {\"mpg\": 24.0, \"cylinders\": 4, \"displacement\": 116.0, \"horsepower\": 75.0, \"weight\": 2158, \"acceleration\": 15.5, \"model_year\": 73, \"origin\": \"europe\", \"name\": \"opel manta\"}, {\"mpg\": 20.0, \"cylinders\": 4, \"displacement\": 114.0, \"horsepower\": 91.0, \"weight\": 2582, \"acceleration\": 14.0, \"model_year\": 73, \"origin\": \"europe\", \"name\": \"audi 100ls\"}, {\"mpg\": 19.0, \"cylinders\": 4, \"displacement\": 121.0, \"horsepower\": 112.0, \"weight\": 2868, \"acceleration\": 15.5, \"model_year\": 73, \"origin\": \"europe\", \"name\": \"volvo 144ea\"}, {\"mpg\": 15.0, \"cylinders\": 8, \"displacement\": 318.0, \"horsepower\": 150.0, \"weight\": 3399, \"acceleration\": 11.0, \"model_year\": 73, \"origin\": \"usa\", \"name\": \"dodge dart custom\"}, {\"mpg\": 24.0, \"cylinders\": 4, \"displacement\": 121.0, \"horsepower\": 110.0, \"weight\": 2660, \"acceleration\": 14.0, \"model_year\": 73, \"origin\": \"europe\", \"name\": \"saab 99le\"}, {\"mpg\": 20.0, \"cylinders\": 6, \"displacement\": 156.0, \"horsepower\": 122.0, \"weight\": 2807, \"acceleration\": 13.5, \"model_year\": 73, \"origin\": \"japan\", \"name\": \"toyota mark ii\"}, {\"mpg\": 11.0, \"cylinders\": 8, \"displacement\": 350.0, \"horsepower\": 180.0, \"weight\": 3664, \"acceleration\": 11.0, \"model_year\": 73, \"origin\": \"usa\", \"name\": \"oldsmobile omega\"}, {\"mpg\": 20.0, \"cylinders\": 6, \"displacement\": 198.0, \"horsepower\": 95.0, \"weight\": 3102, \"acceleration\": 16.5, \"model_year\": 74, \"origin\": \"usa\", \"name\": \"plymouth duster\"}, {\"mpg\": 21.0, \"cylinders\": 6, \"displacement\": 200.0, \"horsepower\": null, \"weight\": 2875, \"acceleration\": 17.0, \"model_year\": 74, \"origin\": \"usa\", \"name\": \"ford maverick\"}, {\"mpg\": 19.0, \"cylinders\": 6, \"displacement\": 232.0, \"horsepower\": 100.0, \"weight\": 2901, \"acceleration\": 16.0, \"model_year\": 74, \"origin\": \"usa\", \"name\": \"amc hornet\"}, {\"mpg\": 15.0, \"cylinders\": 6, \"displacement\": 250.0, \"horsepower\": 100.0, \"weight\": 3336, \"acceleration\": 17.0, \"model_year\": 74, \"origin\": \"usa\", \"name\": \"chevrolet nova\"}, {\"mpg\": 31.0, \"cylinders\": 4, \"displacement\": 79.0, \"horsepower\": 67.0, \"weight\": 1950, \"acceleration\": 19.0, \"model_year\": 74, \"origin\": \"japan\", \"name\": \"datsun b210\"}, {\"mpg\": 26.0, \"cylinders\": 4, \"displacement\": 122.0, \"horsepower\": 80.0, \"weight\": 2451, \"acceleration\": 16.5, \"model_year\": 74, \"origin\": \"usa\", \"name\": \"ford pinto\"}, {\"mpg\": 32.0, \"cylinders\": 4, \"displacement\": 71.0, \"horsepower\": 65.0, \"weight\": 1836, \"acceleration\": 21.0, \"model_year\": 74, \"origin\": \"japan\", \"name\": \"toyota corolla 1200\"}, {\"mpg\": 25.0, \"cylinders\": 4, \"displacement\": 140.0, \"horsepower\": 75.0, \"weight\": 2542, \"acceleration\": 17.0, \"model_year\": 74, \"origin\": \"usa\", \"name\": \"chevrolet vega\"}, {\"mpg\": 16.0, \"cylinders\": 6, \"displacement\": 250.0, \"horsepower\": 100.0, \"weight\": 3781, \"acceleration\": 17.0, \"model_year\": 74, \"origin\": \"usa\", \"name\": \"chevrolet chevelle malibu classic\"}, {\"mpg\": 16.0, \"cylinders\": 6, \"displacement\": 258.0, \"horsepower\": 110.0, \"weight\": 3632, \"acceleration\": 18.0, \"model_year\": 74, \"origin\": \"usa\", \"name\": \"amc matador\"}, {\"mpg\": 18.0, \"cylinders\": 6, \"displacement\": 225.0, \"horsepower\": 105.0, \"weight\": 3613, \"acceleration\": 16.5, \"model_year\": 74, \"origin\": \"usa\", \"name\": \"plymouth satellite sebring\"}, {\"mpg\": 16.0, \"cylinders\": 8, \"displacement\": 302.0, \"horsepower\": 140.0, \"weight\": 4141, \"acceleration\": 14.0, \"model_year\": 74, \"origin\": \"usa\", \"name\": \"ford gran torino\"}, {\"mpg\": 13.0, \"cylinders\": 8, \"displacement\": 350.0, \"horsepower\": 150.0, \"weight\": 4699, \"acceleration\": 14.5, \"model_year\": 74, \"origin\": \"usa\", \"name\": \"buick century luxus (sw)\"}, {\"mpg\": 14.0, \"cylinders\": 8, \"displacement\": 318.0, \"horsepower\": 150.0, \"weight\": 4457, \"acceleration\": 13.5, \"model_year\": 74, \"origin\": \"usa\", \"name\": \"dodge coronet custom (sw)\"}, {\"mpg\": 14.0, \"cylinders\": 8, \"displacement\": 302.0, \"horsepower\": 140.0, \"weight\": 4638, \"acceleration\": 16.0, \"model_year\": 74, \"origin\": \"usa\", \"name\": \"ford gran torino (sw)\"}, {\"mpg\": 14.0, \"cylinders\": 8, \"displacement\": 304.0, \"horsepower\": 150.0, \"weight\": 4257, \"acceleration\": 15.5, \"model_year\": 74, \"origin\": \"usa\", \"name\": \"amc matador (sw)\"}, {\"mpg\": 29.0, \"cylinders\": 4, \"displacement\": 98.0, \"horsepower\": 83.0, \"weight\": 2219, \"acceleration\": 16.5, \"model_year\": 74, \"origin\": \"europe\", \"name\": \"audi fox\"}, {\"mpg\": 26.0, \"cylinders\": 4, \"displacement\": 79.0, \"horsepower\": 67.0, \"weight\": 1963, \"acceleration\": 15.5, \"model_year\": 74, \"origin\": \"europe\", \"name\": \"volkswagen dasher\"}, {\"mpg\": 26.0, \"cylinders\": 4, \"displacement\": 97.0, \"horsepower\": 78.0, \"weight\": 2300, \"acceleration\": 14.5, \"model_year\": 74, \"origin\": \"europe\", \"name\": \"opel manta\"}, {\"mpg\": 31.0, \"cylinders\": 4, \"displacement\": 76.0, \"horsepower\": 52.0, \"weight\": 1649, \"acceleration\": 16.5, \"model_year\": 74, \"origin\": \"japan\", \"name\": \"toyota corona\"}, {\"mpg\": 32.0, \"cylinders\": 4, \"displacement\": 83.0, \"horsepower\": 61.0, \"weight\": 2003, \"acceleration\": 19.0, \"model_year\": 74, \"origin\": \"japan\", \"name\": \"datsun 710\"}, {\"mpg\": 28.0, \"cylinders\": 4, \"displacement\": 90.0, \"horsepower\": 75.0, \"weight\": 2125, \"acceleration\": 14.5, \"model_year\": 74, \"origin\": \"usa\", \"name\": \"dodge colt\"}, {\"mpg\": 24.0, \"cylinders\": 4, \"displacement\": 90.0, \"horsepower\": 75.0, \"weight\": 2108, \"acceleration\": 15.5, \"model_year\": 74, \"origin\": \"europe\", \"name\": \"fiat 128\"}, {\"mpg\": 26.0, \"cylinders\": 4, \"displacement\": 116.0, \"horsepower\": 75.0, \"weight\": 2246, \"acceleration\": 14.0, \"model_year\": 74, \"origin\": \"europe\", \"name\": \"fiat 124 tc\"}, {\"mpg\": 24.0, \"cylinders\": 4, \"displacement\": 120.0, \"horsepower\": 97.0, \"weight\": 2489, \"acceleration\": 15.0, \"model_year\": 74, \"origin\": \"japan\", \"name\": \"honda civic\"}, {\"mpg\": 26.0, \"cylinders\": 4, \"displacement\": 108.0, \"horsepower\": 93.0, \"weight\": 2391, \"acceleration\": 15.5, \"model_year\": 74, \"origin\": \"japan\", \"name\": \"subaru\"}, {\"mpg\": 31.0, \"cylinders\": 4, \"displacement\": 79.0, \"horsepower\": 67.0, \"weight\": 2000, \"acceleration\": 16.0, \"model_year\": 74, \"origin\": \"europe\", \"name\": \"fiat x1.9\"}, {\"mpg\": 19.0, \"cylinders\": 6, \"displacement\": 225.0, \"horsepower\": 95.0, \"weight\": 3264, \"acceleration\": 16.0, \"model_year\": 75, \"origin\": \"usa\", \"name\": \"plymouth valiant custom\"}, {\"mpg\": 18.0, \"cylinders\": 6, \"displacement\": 250.0, \"horsepower\": 105.0, \"weight\": 3459, \"acceleration\": 16.0, \"model_year\": 75, \"origin\": \"usa\", \"name\": \"chevrolet nova\"}, {\"mpg\": 15.0, \"cylinders\": 6, \"displacement\": 250.0, \"horsepower\": 72.0, \"weight\": 3432, \"acceleration\": 21.0, \"model_year\": 75, \"origin\": \"usa\", \"name\": \"mercury monarch\"}, {\"mpg\": 15.0, \"cylinders\": 6, \"displacement\": 250.0, \"horsepower\": 72.0, \"weight\": 3158, \"acceleration\": 19.5, \"model_year\": 75, \"origin\": \"usa\", \"name\": \"ford maverick\"}, {\"mpg\": 16.0, \"cylinders\": 8, \"displacement\": 400.0, \"horsepower\": 170.0, \"weight\": 4668, \"acceleration\": 11.5, \"model_year\": 75, \"origin\": \"usa\", \"name\": \"pontiac catalina\"}, {\"mpg\": 15.0, \"cylinders\": 8, \"displacement\": 350.0, \"horsepower\": 145.0, \"weight\": 4440, \"acceleration\": 14.0, \"model_year\": 75, \"origin\": \"usa\", \"name\": \"chevrolet bel air\"}, {\"mpg\": 16.0, \"cylinders\": 8, \"displacement\": 318.0, \"horsepower\": 150.0, \"weight\": 4498, \"acceleration\": 14.5, \"model_year\": 75, \"origin\": \"usa\", \"name\": \"plymouth grand fury\"}, {\"mpg\": 14.0, \"cylinders\": 8, \"displacement\": 351.0, \"horsepower\": 148.0, \"weight\": 4657, \"acceleration\": 13.5, \"model_year\": 75, \"origin\": \"usa\", \"name\": \"ford ltd\"}, {\"mpg\": 17.0, \"cylinders\": 6, \"displacement\": 231.0, \"horsepower\": 110.0, \"weight\": 3907, \"acceleration\": 21.0, \"model_year\": 75, \"origin\": \"usa\", \"name\": \"buick century\"}, {\"mpg\": 16.0, \"cylinders\": 6, \"displacement\": 250.0, \"horsepower\": 105.0, \"weight\": 3897, \"acceleration\": 18.5, \"model_year\": 75, \"origin\": \"usa\", \"name\": \"chevroelt chevelle malibu\"}, {\"mpg\": 15.0, \"cylinders\": 6, \"displacement\": 258.0, \"horsepower\": 110.0, \"weight\": 3730, \"acceleration\": 19.0, \"model_year\": 75, \"origin\": \"usa\", \"name\": \"amc matador\"}, {\"mpg\": 18.0, \"cylinders\": 6, \"displacement\": 225.0, \"horsepower\": 95.0, \"weight\": 3785, \"acceleration\": 19.0, \"model_year\": 75, \"origin\": \"usa\", \"name\": \"plymouth fury\"}, {\"mpg\": 21.0, \"cylinders\": 6, \"displacement\": 231.0, \"horsepower\": 110.0, \"weight\": 3039, \"acceleration\": 15.0, \"model_year\": 75, \"origin\": \"usa\", \"name\": \"buick skyhawk\"}, {\"mpg\": 20.0, \"cylinders\": 8, \"displacement\": 262.0, \"horsepower\": 110.0, \"weight\": 3221, \"acceleration\": 13.5, \"model_year\": 75, \"origin\": \"usa\", \"name\": \"chevrolet monza 2+2\"}, {\"mpg\": 13.0, \"cylinders\": 8, \"displacement\": 302.0, \"horsepower\": 129.0, \"weight\": 3169, \"acceleration\": 12.0, \"model_year\": 75, \"origin\": \"usa\", \"name\": \"ford mustang ii\"}, {\"mpg\": 29.0, \"cylinders\": 4, \"displacement\": 97.0, \"horsepower\": 75.0, \"weight\": 2171, \"acceleration\": 16.0, \"model_year\": 75, \"origin\": \"japan\", \"name\": \"toyota corolla\"}, {\"mpg\": 23.0, \"cylinders\": 4, \"displacement\": 140.0, \"horsepower\": 83.0, \"weight\": 2639, \"acceleration\": 17.0, \"model_year\": 75, \"origin\": \"usa\", \"name\": \"ford pinto\"}, {\"mpg\": 20.0, \"cylinders\": 6, \"displacement\": 232.0, \"horsepower\": 100.0, \"weight\": 2914, \"acceleration\": 16.0, \"model_year\": 75, \"origin\": \"usa\", \"name\": \"amc gremlin\"}, {\"mpg\": 23.0, \"cylinders\": 4, \"displacement\": 140.0, \"horsepower\": 78.0, \"weight\": 2592, \"acceleration\": 18.5, \"model_year\": 75, \"origin\": \"usa\", \"name\": \"pontiac astro\"}, {\"mpg\": 24.0, \"cylinders\": 4, \"displacement\": 134.0, \"horsepower\": 96.0, \"weight\": 2702, \"acceleration\": 13.5, \"model_year\": 75, \"origin\": \"japan\", \"name\": \"toyota corona\"}, {\"mpg\": 25.0, \"cylinders\": 4, \"displacement\": 90.0, \"horsepower\": 71.0, \"weight\": 2223, \"acceleration\": 16.5, \"model_year\": 75, \"origin\": \"europe\", \"name\": \"volkswagen dasher\"}, {\"mpg\": 24.0, \"cylinders\": 4, \"displacement\": 119.0, \"horsepower\": 97.0, \"weight\": 2545, \"acceleration\": 17.0, \"model_year\": 75, \"origin\": \"japan\", \"name\": \"datsun 710\"}, {\"mpg\": 18.0, \"cylinders\": 6, \"displacement\": 171.0, \"horsepower\": 97.0, \"weight\": 2984, \"acceleration\": 14.5, \"model_year\": 75, \"origin\": \"usa\", \"name\": \"ford pinto\"}, {\"mpg\": 29.0, \"cylinders\": 4, \"displacement\": 90.0, \"horsepower\": 70.0, \"weight\": 1937, \"acceleration\": 14.0, \"model_year\": 75, \"origin\": \"europe\", \"name\": \"volkswagen rabbit\"}, {\"mpg\": 19.0, \"cylinders\": 6, \"displacement\": 232.0, \"horsepower\": 90.0, \"weight\": 3211, \"acceleration\": 17.0, \"model_year\": 75, \"origin\": \"usa\", \"name\": \"amc pacer\"}, {\"mpg\": 23.0, \"cylinders\": 4, \"displacement\": 115.0, \"horsepower\": 95.0, \"weight\": 2694, \"acceleration\": 15.0, \"model_year\": 75, \"origin\": \"europe\", \"name\": \"audi 100ls\"}, {\"mpg\": 23.0, \"cylinders\": 4, \"displacement\": 120.0, \"horsepower\": 88.0, \"weight\": 2957, \"acceleration\": 17.0, \"model_year\": 75, \"origin\": \"europe\", \"name\": \"peugeot 504\"}, {\"mpg\": 22.0, \"cylinders\": 4, \"displacement\": 121.0, \"horsepower\": 98.0, \"weight\": 2945, \"acceleration\": 14.5, \"model_year\": 75, \"origin\": \"europe\", \"name\": \"volvo 244dl\"}, {\"mpg\": 25.0, \"cylinders\": 4, \"displacement\": 121.0, \"horsepower\": 115.0, \"weight\": 2671, \"acceleration\": 13.5, \"model_year\": 75, \"origin\": \"europe\", \"name\": \"saab 99le\"}, {\"mpg\": 33.0, \"cylinders\": 4, \"displacement\": 91.0, \"horsepower\": 53.0, \"weight\": 1795, \"acceleration\": 17.5, \"model_year\": 75, \"origin\": \"japan\", \"name\": \"honda civic cvcc\"}, {\"mpg\": 28.0, \"cylinders\": 4, \"displacement\": 107.0, \"horsepower\": 86.0, \"weight\": 2464, \"acceleration\": 15.5, \"model_year\": 76, \"origin\": \"europe\", \"name\": \"fiat 131\"}, {\"mpg\": 25.0, \"cylinders\": 4, \"displacement\": 116.0, \"horsepower\": 81.0, \"weight\": 2220, \"acceleration\": 16.9, \"model_year\": 76, \"origin\": \"europe\", \"name\": \"opel 1900\"}, {\"mpg\": 25.0, \"cylinders\": 4, \"displacement\": 140.0, \"horsepower\": 92.0, \"weight\": 2572, \"acceleration\": 14.9, \"model_year\": 76, \"origin\": \"usa\", \"name\": \"capri ii\"}, {\"mpg\": 26.0, \"cylinders\": 4, \"displacement\": 98.0, \"horsepower\": 79.0, \"weight\": 2255, \"acceleration\": 17.7, \"model_year\": 76, \"origin\": \"usa\", \"name\": \"dodge colt\"}, {\"mpg\": 27.0, \"cylinders\": 4, \"displacement\": 101.0, \"horsepower\": 83.0, \"weight\": 2202, \"acceleration\": 15.3, \"model_year\": 76, \"origin\": \"europe\", \"name\": \"renault 12tl\"}, {\"mpg\": 17.5, \"cylinders\": 8, \"displacement\": 305.0, \"horsepower\": 140.0, \"weight\": 4215, \"acceleration\": 13.0, \"model_year\": 76, \"origin\": \"usa\", \"name\": \"chevrolet chevelle malibu classic\"}, {\"mpg\": 16.0, \"cylinders\": 8, \"displacement\": 318.0, \"horsepower\": 150.0, \"weight\": 4190, \"acceleration\": 13.0, \"model_year\": 76, \"origin\": \"usa\", \"name\": \"dodge coronet brougham\"}, {\"mpg\": 15.5, \"cylinders\": 8, \"displacement\": 304.0, \"horsepower\": 120.0, \"weight\": 3962, \"acceleration\": 13.9, \"model_year\": 76, \"origin\": \"usa\", \"name\": \"amc matador\"}, {\"mpg\": 14.5, \"cylinders\": 8, \"displacement\": 351.0, \"horsepower\": 152.0, \"weight\": 4215, \"acceleration\": 12.8, \"model_year\": 76, \"origin\": \"usa\", \"name\": \"ford gran torino\"}, {\"mpg\": 22.0, \"cylinders\": 6, \"displacement\": 225.0, \"horsepower\": 100.0, \"weight\": 3233, \"acceleration\": 15.4, \"model_year\": 76, \"origin\": \"usa\", \"name\": \"plymouth valiant\"}, {\"mpg\": 22.0, \"cylinders\": 6, \"displacement\": 250.0, \"horsepower\": 105.0, \"weight\": 3353, \"acceleration\": 14.5, \"model_year\": 76, \"origin\": \"usa\", \"name\": \"chevrolet nova\"}, {\"mpg\": 24.0, \"cylinders\": 6, \"displacement\": 200.0, \"horsepower\": 81.0, \"weight\": 3012, \"acceleration\": 17.6, \"model_year\": 76, \"origin\": \"usa\", \"name\": \"ford maverick\"}, {\"mpg\": 22.5, \"cylinders\": 6, \"displacement\": 232.0, \"horsepower\": 90.0, \"weight\": 3085, \"acceleration\": 17.6, \"model_year\": 76, \"origin\": \"usa\", \"name\": \"amc hornet\"}, {\"mpg\": 29.0, \"cylinders\": 4, \"displacement\": 85.0, \"horsepower\": 52.0, \"weight\": 2035, \"acceleration\": 22.2, \"model_year\": 76, \"origin\": \"usa\", \"name\": \"chevrolet chevette\"}, {\"mpg\": 24.5, \"cylinders\": 4, \"displacement\": 98.0, \"horsepower\": 60.0, \"weight\": 2164, \"acceleration\": 22.1, \"model_year\": 76, \"origin\": \"usa\", \"name\": \"chevrolet woody\"}, {\"mpg\": 29.0, \"cylinders\": 4, \"displacement\": 90.0, \"horsepower\": 70.0, \"weight\": 1937, \"acceleration\": 14.2, \"model_year\": 76, \"origin\": \"europe\", \"name\": \"vw rabbit\"}, {\"mpg\": 33.0, \"cylinders\": 4, \"displacement\": 91.0, \"horsepower\": 53.0, \"weight\": 1795, \"acceleration\": 17.4, \"model_year\": 76, \"origin\": \"japan\", \"name\": \"honda civic\"}, {\"mpg\": 20.0, \"cylinders\": 6, \"displacement\": 225.0, \"horsepower\": 100.0, \"weight\": 3651, \"acceleration\": 17.7, \"model_year\": 76, \"origin\": \"usa\", \"name\": \"dodge aspen se\"}, {\"mpg\": 18.0, \"cylinders\": 6, \"displacement\": 250.0, \"horsepower\": 78.0, \"weight\": 3574, \"acceleration\": 21.0, \"model_year\": 76, \"origin\": \"usa\", \"name\": \"ford granada ghia\"}, {\"mpg\": 18.5, \"cylinders\": 6, \"displacement\": 250.0, \"horsepower\": 110.0, \"weight\": 3645, \"acceleration\": 16.2, \"model_year\": 76, \"origin\": \"usa\", \"name\": \"pontiac ventura sj\"}, {\"mpg\": 17.5, \"cylinders\": 6, \"displacement\": 258.0, \"horsepower\": 95.0, \"weight\": 3193, \"acceleration\": 17.8, \"model_year\": 76, \"origin\": \"usa\", \"name\": \"amc pacer d/l\"}, {\"mpg\": 29.5, \"cylinders\": 4, \"displacement\": 97.0, \"horsepower\": 71.0, \"weight\": 1825, \"acceleration\": 12.2, \"model_year\": 76, \"origin\": \"europe\", \"name\": \"volkswagen rabbit\"}, {\"mpg\": 32.0, \"cylinders\": 4, \"displacement\": 85.0, \"horsepower\": 70.0, \"weight\": 1990, \"acceleration\": 17.0, \"model_year\": 76, \"origin\": \"japan\", \"name\": \"datsun b-210\"}, {\"mpg\": 28.0, \"cylinders\": 4, \"displacement\": 97.0, \"horsepower\": 75.0, \"weight\": 2155, \"acceleration\": 16.4, \"model_year\": 76, \"origin\": \"japan\", \"name\": \"toyota corolla\"}, {\"mpg\": 26.5, \"cylinders\": 4, \"displacement\": 140.0, \"horsepower\": 72.0, \"weight\": 2565, \"acceleration\": 13.6, \"model_year\": 76, \"origin\": \"usa\", \"name\": \"ford pinto\"}, {\"mpg\": 20.0, \"cylinders\": 4, \"displacement\": 130.0, \"horsepower\": 102.0, \"weight\": 3150, \"acceleration\": 15.7, \"model_year\": 76, \"origin\": \"europe\", \"name\": \"volvo 245\"}, {\"mpg\": 13.0, \"cylinders\": 8, \"displacement\": 318.0, \"horsepower\": 150.0, \"weight\": 3940, \"acceleration\": 13.2, \"model_year\": 76, \"origin\": \"usa\", \"name\": \"plymouth volare premier v8\"}, {\"mpg\": 19.0, \"cylinders\": 4, \"displacement\": 120.0, \"horsepower\": 88.0, \"weight\": 3270, \"acceleration\": 21.9, \"model_year\": 76, \"origin\": \"europe\", \"name\": \"peugeot 504\"}, {\"mpg\": 19.0, \"cylinders\": 6, \"displacement\": 156.0, \"horsepower\": 108.0, \"weight\": 2930, \"acceleration\": 15.5, \"model_year\": 76, \"origin\": \"japan\", \"name\": \"toyota mark ii\"}, {\"mpg\": 16.5, \"cylinders\": 6, \"displacement\": 168.0, \"horsepower\": 120.0, \"weight\": 3820, \"acceleration\": 16.7, \"model_year\": 76, \"origin\": \"europe\", \"name\": \"mercedes-benz 280s\"}, {\"mpg\": 16.5, \"cylinders\": 8, \"displacement\": 350.0, \"horsepower\": 180.0, \"weight\": 4380, \"acceleration\": 12.1, \"model_year\": 76, \"origin\": \"usa\", \"name\": \"cadillac seville\"}, {\"mpg\": 13.0, \"cylinders\": 8, \"displacement\": 350.0, \"horsepower\": 145.0, \"weight\": 4055, \"acceleration\": 12.0, \"model_year\": 76, \"origin\": \"usa\", \"name\": \"chevy c10\"}, {\"mpg\": 13.0, \"cylinders\": 8, \"displacement\": 302.0, \"horsepower\": 130.0, \"weight\": 3870, \"acceleration\": 15.0, \"model_year\": 76, \"origin\": \"usa\", \"name\": \"ford f108\"}, {\"mpg\": 13.0, \"cylinders\": 8, \"displacement\": 318.0, \"horsepower\": 150.0, \"weight\": 3755, \"acceleration\": 14.0, \"model_year\": 76, \"origin\": \"usa\", \"name\": \"dodge d100\"}, {\"mpg\": 31.5, \"cylinders\": 4, \"displacement\": 98.0, \"horsepower\": 68.0, \"weight\": 2045, \"acceleration\": 18.5, \"model_year\": 77, \"origin\": \"japan\", \"name\": \"honda accord cvcc\"}, {\"mpg\": 30.0, \"cylinders\": 4, \"displacement\": 111.0, \"horsepower\": 80.0, \"weight\": 2155, \"acceleration\": 14.8, \"model_year\": 77, \"origin\": \"usa\", \"name\": \"buick opel isuzu deluxe\"}, {\"mpg\": 36.0, \"cylinders\": 4, \"displacement\": 79.0, \"horsepower\": 58.0, \"weight\": 1825, \"acceleration\": 18.6, \"model_year\": 77, \"origin\": \"europe\", \"name\": \"renault 5 gtl\"}, {\"mpg\": 25.5, \"cylinders\": 4, \"displacement\": 122.0, \"horsepower\": 96.0, \"weight\": 2300, \"acceleration\": 15.5, \"model_year\": 77, \"origin\": \"usa\", \"name\": \"plymouth arrow gs\"}, {\"mpg\": 33.5, \"cylinders\": 4, \"displacement\": 85.0, \"horsepower\": 70.0, \"weight\": 1945, \"acceleration\": 16.8, \"model_year\": 77, \"origin\": \"japan\", \"name\": \"datsun f-10 hatchback\"}, {\"mpg\": 17.5, \"cylinders\": 8, \"displacement\": 305.0, \"horsepower\": 145.0, \"weight\": 3880, \"acceleration\": 12.5, \"model_year\": 77, \"origin\": \"usa\", \"name\": \"chevrolet caprice classic\"}, {\"mpg\": 17.0, \"cylinders\": 8, \"displacement\": 260.0, \"horsepower\": 110.0, \"weight\": 4060, \"acceleration\": 19.0, \"model_year\": 77, \"origin\": \"usa\", \"name\": \"oldsmobile cutlass supreme\"}, {\"mpg\": 15.5, \"cylinders\": 8, \"displacement\": 318.0, \"horsepower\": 145.0, \"weight\": 4140, \"acceleration\": 13.7, \"model_year\": 77, \"origin\": \"usa\", \"name\": \"dodge monaco brougham\"}, {\"mpg\": 15.0, \"cylinders\": 8, \"displacement\": 302.0, \"horsepower\": 130.0, \"weight\": 4295, \"acceleration\": 14.9, \"model_year\": 77, \"origin\": \"usa\", \"name\": \"mercury cougar brougham\"}, {\"mpg\": 17.5, \"cylinders\": 6, \"displacement\": 250.0, \"horsepower\": 110.0, \"weight\": 3520, \"acceleration\": 16.4, \"model_year\": 77, \"origin\": \"usa\", \"name\": \"chevrolet concours\"}, {\"mpg\": 20.5, \"cylinders\": 6, \"displacement\": 231.0, \"horsepower\": 105.0, \"weight\": 3425, \"acceleration\": 16.9, \"model_year\": 77, \"origin\": \"usa\", \"name\": \"buick skylark\"}, {\"mpg\": 19.0, \"cylinders\": 6, \"displacement\": 225.0, \"horsepower\": 100.0, \"weight\": 3630, \"acceleration\": 17.7, \"model_year\": 77, \"origin\": \"usa\", \"name\": \"plymouth volare custom\"}, {\"mpg\": 18.5, \"cylinders\": 6, \"displacement\": 250.0, \"horsepower\": 98.0, \"weight\": 3525, \"acceleration\": 19.0, \"model_year\": 77, \"origin\": \"usa\", \"name\": \"ford granada\"}, {\"mpg\": 16.0, \"cylinders\": 8, \"displacement\": 400.0, \"horsepower\": 180.0, \"weight\": 4220, \"acceleration\": 11.1, \"model_year\": 77, \"origin\": \"usa\", \"name\": \"pontiac grand prix lj\"}, {\"mpg\": 15.5, \"cylinders\": 8, \"displacement\": 350.0, \"horsepower\": 170.0, \"weight\": 4165, \"acceleration\": 11.4, \"model_year\": 77, \"origin\": \"usa\", \"name\": \"chevrolet monte carlo landau\"}, {\"mpg\": 15.5, \"cylinders\": 8, \"displacement\": 400.0, \"horsepower\": 190.0, \"weight\": 4325, \"acceleration\": 12.2, \"model_year\": 77, \"origin\": \"usa\", \"name\": \"chrysler cordoba\"}, {\"mpg\": 16.0, \"cylinders\": 8, \"displacement\": 351.0, \"horsepower\": 149.0, \"weight\": 4335, \"acceleration\": 14.5, \"model_year\": 77, \"origin\": \"usa\", \"name\": \"ford thunderbird\"}, {\"mpg\": 29.0, \"cylinders\": 4, \"displacement\": 97.0, \"horsepower\": 78.0, \"weight\": 1940, \"acceleration\": 14.5, \"model_year\": 77, \"origin\": \"europe\", \"name\": \"volkswagen rabbit custom\"}, {\"mpg\": 24.5, \"cylinders\": 4, \"displacement\": 151.0, \"horsepower\": 88.0, \"weight\": 2740, \"acceleration\": 16.0, \"model_year\": 77, \"origin\": \"usa\", \"name\": \"pontiac sunbird coupe\"}, {\"mpg\": 26.0, \"cylinders\": 4, \"displacement\": 97.0, \"horsepower\": 75.0, \"weight\": 2265, \"acceleration\": 18.2, \"model_year\": 77, \"origin\": \"japan\", \"name\": \"toyota corolla liftback\"}, {\"mpg\": 25.5, \"cylinders\": 4, \"displacement\": 140.0, \"horsepower\": 89.0, \"weight\": 2755, \"acceleration\": 15.8, \"model_year\": 77, \"origin\": \"usa\", \"name\": \"ford mustang ii 2+2\"}, {\"mpg\": 30.5, \"cylinders\": 4, \"displacement\": 98.0, \"horsepower\": 63.0, \"weight\": 2051, \"acceleration\": 17.0, \"model_year\": 77, \"origin\": \"usa\", \"name\": \"chevrolet chevette\"}, {\"mpg\": 33.5, \"cylinders\": 4, \"displacement\": 98.0, \"horsepower\": 83.0, \"weight\": 2075, \"acceleration\": 15.9, \"model_year\": 77, \"origin\": \"usa\", \"name\": \"dodge colt m/m\"}, {\"mpg\": 30.0, \"cylinders\": 4, \"displacement\": 97.0, \"horsepower\": 67.0, \"weight\": 1985, \"acceleration\": 16.4, \"model_year\": 77, \"origin\": \"japan\", \"name\": \"subaru dl\"}, {\"mpg\": 30.5, \"cylinders\": 4, \"displacement\": 97.0, \"horsepower\": 78.0, \"weight\": 2190, \"acceleration\": 14.1, \"model_year\": 77, \"origin\": \"europe\", \"name\": \"volkswagen dasher\"}, {\"mpg\": 22.0, \"cylinders\": 6, \"displacement\": 146.0, \"horsepower\": 97.0, \"weight\": 2815, \"acceleration\": 14.5, \"model_year\": 77, \"origin\": \"japan\", \"name\": \"datsun 810\"}, {\"mpg\": 21.5, \"cylinders\": 4, \"displacement\": 121.0, \"horsepower\": 110.0, \"weight\": 2600, \"acceleration\": 12.8, \"model_year\": 77, \"origin\": \"europe\", \"name\": \"bmw 320i\"}, {\"mpg\": 21.5, \"cylinders\": 3, \"displacement\": 80.0, \"horsepower\": 110.0, \"weight\": 2720, \"acceleration\": 13.5, \"model_year\": 77, \"origin\": \"japan\", \"name\": \"mazda rx-4\"}, {\"mpg\": 43.1, \"cylinders\": 4, \"displacement\": 90.0, \"horsepower\": 48.0, \"weight\": 1985, \"acceleration\": 21.5, \"model_year\": 78, \"origin\": \"europe\", \"name\": \"volkswagen rabbit custom diesel\"}, {\"mpg\": 36.1, \"cylinders\": 4, \"displacement\": 98.0, \"horsepower\": 66.0, \"weight\": 1800, \"acceleration\": 14.4, \"model_year\": 78, \"origin\": \"usa\", \"name\": \"ford fiesta\"}, {\"mpg\": 32.8, \"cylinders\": 4, \"displacement\": 78.0, \"horsepower\": 52.0, \"weight\": 1985, \"acceleration\": 19.4, \"model_year\": 78, \"origin\": \"japan\", \"name\": \"mazda glc deluxe\"}, {\"mpg\": 39.4, \"cylinders\": 4, \"displacement\": 85.0, \"horsepower\": 70.0, \"weight\": 2070, \"acceleration\": 18.6, \"model_year\": 78, \"origin\": \"japan\", \"name\": \"datsun b210 gx\"}, {\"mpg\": 36.1, \"cylinders\": 4, \"displacement\": 91.0, \"horsepower\": 60.0, \"weight\": 1800, \"acceleration\": 16.4, \"model_year\": 78, \"origin\": \"japan\", \"name\": \"honda civic cvcc\"}, {\"mpg\": 19.9, \"cylinders\": 8, \"displacement\": 260.0, \"horsepower\": 110.0, \"weight\": 3365, \"acceleration\": 15.5, \"model_year\": 78, \"origin\": \"usa\", \"name\": \"oldsmobile cutlass salon brougham\"}, {\"mpg\": 19.4, \"cylinders\": 8, \"displacement\": 318.0, \"horsepower\": 140.0, \"weight\": 3735, \"acceleration\": 13.2, \"model_year\": 78, \"origin\": \"usa\", \"name\": \"dodge diplomat\"}, {\"mpg\": 20.2, \"cylinders\": 8, \"displacement\": 302.0, \"horsepower\": 139.0, \"weight\": 3570, \"acceleration\": 12.8, \"model_year\": 78, \"origin\": \"usa\", \"name\": \"mercury monarch ghia\"}, {\"mpg\": 19.2, \"cylinders\": 6, \"displacement\": 231.0, \"horsepower\": 105.0, \"weight\": 3535, \"acceleration\": 19.2, \"model_year\": 78, \"origin\": \"usa\", \"name\": \"pontiac phoenix lj\"}, {\"mpg\": 20.5, \"cylinders\": 6, \"displacement\": 200.0, \"horsepower\": 95.0, \"weight\": 3155, \"acceleration\": 18.2, \"model_year\": 78, \"origin\": \"usa\", \"name\": \"chevrolet malibu\"}, {\"mpg\": 20.2, \"cylinders\": 6, \"displacement\": 200.0, \"horsepower\": 85.0, \"weight\": 2965, \"acceleration\": 15.8, \"model_year\": 78, \"origin\": \"usa\", \"name\": \"ford fairmont (auto)\"}, {\"mpg\": 25.1, \"cylinders\": 4, \"displacement\": 140.0, \"horsepower\": 88.0, \"weight\": 2720, \"acceleration\": 15.4, \"model_year\": 78, \"origin\": \"usa\", \"name\": \"ford fairmont (man)\"}, {\"mpg\": 20.5, \"cylinders\": 6, \"displacement\": 225.0, \"horsepower\": 100.0, \"weight\": 3430, \"acceleration\": 17.2, \"model_year\": 78, \"origin\": \"usa\", \"name\": \"plymouth volare\"}, {\"mpg\": 19.4, \"cylinders\": 6, \"displacement\": 232.0, \"horsepower\": 90.0, \"weight\": 3210, \"acceleration\": 17.2, \"model_year\": 78, \"origin\": \"usa\", \"name\": \"amc concord\"}, {\"mpg\": 20.6, \"cylinders\": 6, \"displacement\": 231.0, \"horsepower\": 105.0, \"weight\": 3380, \"acceleration\": 15.8, \"model_year\": 78, \"origin\": \"usa\", \"name\": \"buick century special\"}, {\"mpg\": 20.8, \"cylinders\": 6, \"displacement\": 200.0, \"horsepower\": 85.0, \"weight\": 3070, \"acceleration\": 16.7, \"model_year\": 78, \"origin\": \"usa\", \"name\": \"mercury zephyr\"}, {\"mpg\": 18.6, \"cylinders\": 6, \"displacement\": 225.0, \"horsepower\": 110.0, \"weight\": 3620, \"acceleration\": 18.7, \"model_year\": 78, \"origin\": \"usa\", \"name\": \"dodge aspen\"}, {\"mpg\": 18.1, \"cylinders\": 6, \"displacement\": 258.0, \"horsepower\": 120.0, \"weight\": 3410, \"acceleration\": 15.1, \"model_year\": 78, \"origin\": \"usa\", \"name\": \"amc concord d/l\"}, {\"mpg\": 19.2, \"cylinders\": 8, \"displacement\": 305.0, \"horsepower\": 145.0, \"weight\": 3425, \"acceleration\": 13.2, \"model_year\": 78, \"origin\": \"usa\", \"name\": \"chevrolet monte carlo landau\"}, {\"mpg\": 17.7, \"cylinders\": 6, \"displacement\": 231.0, \"horsepower\": 165.0, \"weight\": 3445, \"acceleration\": 13.4, \"model_year\": 78, \"origin\": \"usa\", \"name\": \"buick regal sport coupe (turbo)\"}, {\"mpg\": 18.1, \"cylinders\": 8, \"displacement\": 302.0, \"horsepower\": 139.0, \"weight\": 3205, \"acceleration\": 11.2, \"model_year\": 78, \"origin\": \"usa\", \"name\": \"ford futura\"}, {\"mpg\": 17.5, \"cylinders\": 8, \"displacement\": 318.0, \"horsepower\": 140.0, \"weight\": 4080, \"acceleration\": 13.7, \"model_year\": 78, \"origin\": \"usa\", \"name\": \"dodge magnum xe\"}, {\"mpg\": 30.0, \"cylinders\": 4, \"displacement\": 98.0, \"horsepower\": 68.0, \"weight\": 2155, \"acceleration\": 16.5, \"model_year\": 78, \"origin\": \"usa\", \"name\": \"chevrolet chevette\"}, {\"mpg\": 27.5, \"cylinders\": 4, \"displacement\": 134.0, \"horsepower\": 95.0, \"weight\": 2560, \"acceleration\": 14.2, \"model_year\": 78, \"origin\": \"japan\", \"name\": \"toyota corona\"}, {\"mpg\": 27.2, \"cylinders\": 4, \"displacement\": 119.0, \"horsepower\": 97.0, \"weight\": 2300, \"acceleration\": 14.7, \"model_year\": 78, \"origin\": \"japan\", \"name\": \"datsun 510\"}, {\"mpg\": 30.9, \"cylinders\": 4, \"displacement\": 105.0, \"horsepower\": 75.0, \"weight\": 2230, \"acceleration\": 14.5, \"model_year\": 78, \"origin\": \"usa\", \"name\": \"dodge omni\"}, {\"mpg\": 21.1, \"cylinders\": 4, \"displacement\": 134.0, \"horsepower\": 95.0, \"weight\": 2515, \"acceleration\": 14.8, \"model_year\": 78, \"origin\": \"japan\", \"name\": \"toyota celica gt liftback\"}, {\"mpg\": 23.2, \"cylinders\": 4, \"displacement\": 156.0, \"horsepower\": 105.0, \"weight\": 2745, \"acceleration\": 16.7, \"model_year\": 78, \"origin\": \"usa\", \"name\": \"plymouth sapporo\"}, {\"mpg\": 23.8, \"cylinders\": 4, \"displacement\": 151.0, \"horsepower\": 85.0, \"weight\": 2855, \"acceleration\": 17.6, \"model_year\": 78, \"origin\": \"usa\", \"name\": \"oldsmobile starfire sx\"}, {\"mpg\": 23.9, \"cylinders\": 4, \"displacement\": 119.0, \"horsepower\": 97.0, \"weight\": 2405, \"acceleration\": 14.9, \"model_year\": 78, \"origin\": \"japan\", \"name\": \"datsun 200-sx\"}, {\"mpg\": 20.3, \"cylinders\": 5, \"displacement\": 131.0, \"horsepower\": 103.0, \"weight\": 2830, \"acceleration\": 15.9, \"model_year\": 78, \"origin\": \"europe\", \"name\": \"audi 5000\"}, {\"mpg\": 17.0, \"cylinders\": 6, \"displacement\": 163.0, \"horsepower\": 125.0, \"weight\": 3140, \"acceleration\": 13.6, \"model_year\": 78, \"origin\": \"europe\", \"name\": \"volvo 264gl\"}, {\"mpg\": 21.6, \"cylinders\": 4, \"displacement\": 121.0, \"horsepower\": 115.0, \"weight\": 2795, \"acceleration\": 15.7, \"model_year\": 78, \"origin\": \"europe\", \"name\": \"saab 99gle\"}, {\"mpg\": 16.2, \"cylinders\": 6, \"displacement\": 163.0, \"horsepower\": 133.0, \"weight\": 3410, \"acceleration\": 15.8, \"model_year\": 78, \"origin\": \"europe\", \"name\": \"peugeot 604sl\"}, {\"mpg\": 31.5, \"cylinders\": 4, \"displacement\": 89.0, \"horsepower\": 71.0, \"weight\": 1990, \"acceleration\": 14.9, \"model_year\": 78, \"origin\": \"europe\", \"name\": \"volkswagen scirocco\"}, {\"mpg\": 29.5, \"cylinders\": 4, \"displacement\": 98.0, \"horsepower\": 68.0, \"weight\": 2135, \"acceleration\": 16.6, \"model_year\": 78, \"origin\": \"japan\", \"name\": \"honda accord lx\"}, {\"mpg\": 21.5, \"cylinders\": 6, \"displacement\": 231.0, \"horsepower\": 115.0, \"weight\": 3245, \"acceleration\": 15.4, \"model_year\": 79, \"origin\": \"usa\", \"name\": \"pontiac lemans v6\"}, {\"mpg\": 19.8, \"cylinders\": 6, \"displacement\": 200.0, \"horsepower\": 85.0, \"weight\": 2990, \"acceleration\": 18.2, \"model_year\": 79, \"origin\": \"usa\", \"name\": \"mercury zephyr 6\"}, {\"mpg\": 22.3, \"cylinders\": 4, \"displacement\": 140.0, \"horsepower\": 88.0, \"weight\": 2890, \"acceleration\": 17.3, \"model_year\": 79, \"origin\": \"usa\", \"name\": \"ford fairmont 4\"}, {\"mpg\": 20.2, \"cylinders\": 6, \"displacement\": 232.0, \"horsepower\": 90.0, \"weight\": 3265, \"acceleration\": 18.2, \"model_year\": 79, \"origin\": \"usa\", \"name\": \"amc concord dl 6\"}, {\"mpg\": 20.6, \"cylinders\": 6, \"displacement\": 225.0, \"horsepower\": 110.0, \"weight\": 3360, \"acceleration\": 16.6, \"model_year\": 79, \"origin\": \"usa\", \"name\": \"dodge aspen 6\"}, {\"mpg\": 17.0, \"cylinders\": 8, \"displacement\": 305.0, \"horsepower\": 130.0, \"weight\": 3840, \"acceleration\": 15.4, \"model_year\": 79, \"origin\": \"usa\", \"name\": \"chevrolet caprice classic\"}, {\"mpg\": 17.6, \"cylinders\": 8, \"displacement\": 302.0, \"horsepower\": 129.0, \"weight\": 3725, \"acceleration\": 13.4, \"model_year\": 79, \"origin\": \"usa\", \"name\": \"ford ltd landau\"}, {\"mpg\": 16.5, \"cylinders\": 8, \"displacement\": 351.0, \"horsepower\": 138.0, \"weight\": 3955, \"acceleration\": 13.2, \"model_year\": 79, \"origin\": \"usa\", \"name\": \"mercury grand marquis\"}, {\"mpg\": 18.2, \"cylinders\": 8, \"displacement\": 318.0, \"horsepower\": 135.0, \"weight\": 3830, \"acceleration\": 15.2, \"model_year\": 79, \"origin\": \"usa\", \"name\": \"dodge st. regis\"}, {\"mpg\": 16.9, \"cylinders\": 8, \"displacement\": 350.0, \"horsepower\": 155.0, \"weight\": 4360, \"acceleration\": 14.9, \"model_year\": 79, \"origin\": \"usa\", \"name\": \"buick estate wagon (sw)\"}, {\"mpg\": 15.5, \"cylinders\": 8, \"displacement\": 351.0, \"horsepower\": 142.0, \"weight\": 4054, \"acceleration\": 14.3, \"model_year\": 79, \"origin\": \"usa\", \"name\": \"ford country squire (sw)\"}, {\"mpg\": 19.2, \"cylinders\": 8, \"displacement\": 267.0, \"horsepower\": 125.0, \"weight\": 3605, \"acceleration\": 15.0, \"model_year\": 79, \"origin\": \"usa\", \"name\": \"chevrolet malibu classic (sw)\"}, {\"mpg\": 18.5, \"cylinders\": 8, \"displacement\": 360.0, \"horsepower\": 150.0, \"weight\": 3940, \"acceleration\": 13.0, \"model_year\": 79, \"origin\": \"usa\", \"name\": \"chrysler lebaron town @ country (sw)\"}, {\"mpg\": 31.9, \"cylinders\": 4, \"displacement\": 89.0, \"horsepower\": 71.0, \"weight\": 1925, \"acceleration\": 14.0, \"model_year\": 79, \"origin\": \"europe\", \"name\": \"vw rabbit custom\"}, {\"mpg\": 34.1, \"cylinders\": 4, \"displacement\": 86.0, \"horsepower\": 65.0, \"weight\": 1975, \"acceleration\": 15.2, \"model_year\": 79, \"origin\": \"japan\", \"name\": \"maxda glc deluxe\"}, {\"mpg\": 35.7, \"cylinders\": 4, \"displacement\": 98.0, \"horsepower\": 80.0, \"weight\": 1915, \"acceleration\": 14.4, \"model_year\": 79, \"origin\": \"usa\", \"name\": \"dodge colt hatchback custom\"}, {\"mpg\": 27.4, \"cylinders\": 4, \"displacement\": 121.0, \"horsepower\": 80.0, \"weight\": 2670, \"acceleration\": 15.0, \"model_year\": 79, \"origin\": \"usa\", \"name\": \"amc spirit dl\"}, {\"mpg\": 25.4, \"cylinders\": 5, \"displacement\": 183.0, \"horsepower\": 77.0, \"weight\": 3530, \"acceleration\": 20.1, \"model_year\": 79, \"origin\": \"europe\", \"name\": \"mercedes benz 300d\"}, {\"mpg\": 23.0, \"cylinders\": 8, \"displacement\": 350.0, \"horsepower\": 125.0, \"weight\": 3900, \"acceleration\": 17.4, \"model_year\": 79, \"origin\": \"usa\", \"name\": \"cadillac eldorado\"}, {\"mpg\": 27.2, \"cylinders\": 4, \"displacement\": 141.0, \"horsepower\": 71.0, \"weight\": 3190, \"acceleration\": 24.8, \"model_year\": 79, \"origin\": \"europe\", \"name\": \"peugeot 504\"}, {\"mpg\": 23.9, \"cylinders\": 8, \"displacement\": 260.0, \"horsepower\": 90.0, \"weight\": 3420, \"acceleration\": 22.2, \"model_year\": 79, \"origin\": \"usa\", \"name\": \"oldsmobile cutlass salon brougham\"}, {\"mpg\": 34.2, \"cylinders\": 4, \"displacement\": 105.0, \"horsepower\": 70.0, \"weight\": 2200, \"acceleration\": 13.2, \"model_year\": 79, \"origin\": \"usa\", \"name\": \"plymouth horizon\"}, {\"mpg\": 34.5, \"cylinders\": 4, \"displacement\": 105.0, \"horsepower\": 70.0, \"weight\": 2150, \"acceleration\": 14.9, \"model_year\": 79, \"origin\": \"usa\", \"name\": \"plymouth horizon tc3\"}, {\"mpg\": 31.8, \"cylinders\": 4, \"displacement\": 85.0, \"horsepower\": 65.0, \"weight\": 2020, \"acceleration\": 19.2, \"model_year\": 79, \"origin\": \"japan\", \"name\": \"datsun 210\"}, {\"mpg\": 37.3, \"cylinders\": 4, \"displacement\": 91.0, \"horsepower\": 69.0, \"weight\": 2130, \"acceleration\": 14.7, \"model_year\": 79, \"origin\": \"europe\", \"name\": \"fiat strada custom\"}, {\"mpg\": 28.4, \"cylinders\": 4, \"displacement\": 151.0, \"horsepower\": 90.0, \"weight\": 2670, \"acceleration\": 16.0, \"model_year\": 79, \"origin\": \"usa\", \"name\": \"buick skylark limited\"}, {\"mpg\": 28.8, \"cylinders\": 6, \"displacement\": 173.0, \"horsepower\": 115.0, \"weight\": 2595, \"acceleration\": 11.3, \"model_year\": 79, \"origin\": \"usa\", \"name\": \"chevrolet citation\"}, {\"mpg\": 26.8, \"cylinders\": 6, \"displacement\": 173.0, \"horsepower\": 115.0, \"weight\": 2700, \"acceleration\": 12.9, \"model_year\": 79, \"origin\": \"usa\", \"name\": \"oldsmobile omega brougham\"}, {\"mpg\": 33.5, \"cylinders\": 4, \"displacement\": 151.0, \"horsepower\": 90.0, \"weight\": 2556, \"acceleration\": 13.2, \"model_year\": 79, \"origin\": \"usa\", \"name\": \"pontiac phoenix\"}, {\"mpg\": 41.5, \"cylinders\": 4, \"displacement\": 98.0, \"horsepower\": 76.0, \"weight\": 2144, \"acceleration\": 14.7, \"model_year\": 80, \"origin\": \"europe\", \"name\": \"vw rabbit\"}, {\"mpg\": 38.1, \"cylinders\": 4, \"displacement\": 89.0, \"horsepower\": 60.0, \"weight\": 1968, \"acceleration\": 18.8, \"model_year\": 80, \"origin\": \"japan\", \"name\": \"toyota corolla tercel\"}, {\"mpg\": 32.1, \"cylinders\": 4, \"displacement\": 98.0, \"horsepower\": 70.0, \"weight\": 2120, \"acceleration\": 15.5, \"model_year\": 80, \"origin\": \"usa\", \"name\": \"chevrolet chevette\"}, {\"mpg\": 37.2, \"cylinders\": 4, \"displacement\": 86.0, \"horsepower\": 65.0, \"weight\": 2019, \"acceleration\": 16.4, \"model_year\": 80, \"origin\": \"japan\", \"name\": \"datsun 310\"}, {\"mpg\": 28.0, \"cylinders\": 4, \"displacement\": 151.0, \"horsepower\": 90.0, \"weight\": 2678, \"acceleration\": 16.5, \"model_year\": 80, \"origin\": \"usa\", \"name\": \"chevrolet citation\"}, {\"mpg\": 26.4, \"cylinders\": 4, \"displacement\": 140.0, \"horsepower\": 88.0, \"weight\": 2870, \"acceleration\": 18.1, \"model_year\": 80, \"origin\": \"usa\", \"name\": \"ford fairmont\"}, {\"mpg\": 24.3, \"cylinders\": 4, \"displacement\": 151.0, \"horsepower\": 90.0, \"weight\": 3003, \"acceleration\": 20.1, \"model_year\": 80, \"origin\": \"usa\", \"name\": \"amc concord\"}, {\"mpg\": 19.1, \"cylinders\": 6, \"displacement\": 225.0, \"horsepower\": 90.0, \"weight\": 3381, \"acceleration\": 18.7, \"model_year\": 80, \"origin\": \"usa\", \"name\": \"dodge aspen\"}, {\"mpg\": 34.3, \"cylinders\": 4, \"displacement\": 97.0, \"horsepower\": 78.0, \"weight\": 2188, \"acceleration\": 15.8, \"model_year\": 80, \"origin\": \"europe\", \"name\": \"audi 4000\"}, {\"mpg\": 29.8, \"cylinders\": 4, \"displacement\": 134.0, \"horsepower\": 90.0, \"weight\": 2711, \"acceleration\": 15.5, \"model_year\": 80, \"origin\": \"japan\", \"name\": \"toyota corona liftback\"}, {\"mpg\": 31.3, \"cylinders\": 4, \"displacement\": 120.0, \"horsepower\": 75.0, \"weight\": 2542, \"acceleration\": 17.5, \"model_year\": 80, \"origin\": \"japan\", \"name\": \"mazda 626\"}, {\"mpg\": 37.0, \"cylinders\": 4, \"displacement\": 119.0, \"horsepower\": 92.0, \"weight\": 2434, \"acceleration\": 15.0, \"model_year\": 80, \"origin\": \"japan\", \"name\": \"datsun 510 hatchback\"}, {\"mpg\": 32.2, \"cylinders\": 4, \"displacement\": 108.0, \"horsepower\": 75.0, \"weight\": 2265, \"acceleration\": 15.2, \"model_year\": 80, \"origin\": \"japan\", \"name\": \"toyota corolla\"}, {\"mpg\": 46.6, \"cylinders\": 4, \"displacement\": 86.0, \"horsepower\": 65.0, \"weight\": 2110, \"acceleration\": 17.9, \"model_year\": 80, \"origin\": \"japan\", \"name\": \"mazda glc\"}, {\"mpg\": 27.9, \"cylinders\": 4, \"displacement\": 156.0, \"horsepower\": 105.0, \"weight\": 2800, \"acceleration\": 14.4, \"model_year\": 80, \"origin\": \"usa\", \"name\": \"dodge colt\"}, {\"mpg\": 40.8, \"cylinders\": 4, \"displacement\": 85.0, \"horsepower\": 65.0, \"weight\": 2110, \"acceleration\": 19.2, \"model_year\": 80, \"origin\": \"japan\", \"name\": \"datsun 210\"}, {\"mpg\": 44.3, \"cylinders\": 4, \"displacement\": 90.0, \"horsepower\": 48.0, \"weight\": 2085, \"acceleration\": 21.7, \"model_year\": 80, \"origin\": \"europe\", \"name\": \"vw rabbit c (diesel)\"}, {\"mpg\": 43.4, \"cylinders\": 4, \"displacement\": 90.0, \"horsepower\": 48.0, \"weight\": 2335, \"acceleration\": 23.7, \"model_year\": 80, \"origin\": \"europe\", \"name\": \"vw dasher (diesel)\"}, {\"mpg\": 36.4, \"cylinders\": 5, \"displacement\": 121.0, \"horsepower\": 67.0, \"weight\": 2950, \"acceleration\": 19.9, \"model_year\": 80, \"origin\": \"europe\", \"name\": \"audi 5000s (diesel)\"}, {\"mpg\": 30.0, \"cylinders\": 4, \"displacement\": 146.0, \"horsepower\": 67.0, \"weight\": 3250, \"acceleration\": 21.8, \"model_year\": 80, \"origin\": \"europe\", \"name\": \"mercedes-benz 240d\"}, {\"mpg\": 44.6, \"cylinders\": 4, \"displacement\": 91.0, \"horsepower\": 67.0, \"weight\": 1850, \"acceleration\": 13.8, \"model_year\": 80, \"origin\": \"japan\", \"name\": \"honda civic 1500 gl\"}, {\"mpg\": 40.9, \"cylinders\": 4, \"displacement\": 85.0, \"horsepower\": null, \"weight\": 1835, \"acceleration\": 17.3, \"model_year\": 80, \"origin\": \"europe\", \"name\": \"renault lecar deluxe\"}, {\"mpg\": 33.8, \"cylinders\": 4, \"displacement\": 97.0, \"horsepower\": 67.0, \"weight\": 2145, \"acceleration\": 18.0, \"model_year\": 80, \"origin\": \"japan\", \"name\": \"subaru dl\"}, {\"mpg\": 29.8, \"cylinders\": 4, \"displacement\": 89.0, \"horsepower\": 62.0, \"weight\": 1845, \"acceleration\": 15.3, \"model_year\": 80, \"origin\": \"europe\", \"name\": \"vokswagen rabbit\"}, {\"mpg\": 32.7, \"cylinders\": 6, \"displacement\": 168.0, \"horsepower\": 132.0, \"weight\": 2910, \"acceleration\": 11.4, \"model_year\": 80, \"origin\": \"japan\", \"name\": \"datsun 280-zx\"}, {\"mpg\": 23.7, \"cylinders\": 3, \"displacement\": 70.0, \"horsepower\": 100.0, \"weight\": 2420, \"acceleration\": 12.5, \"model_year\": 80, \"origin\": \"japan\", \"name\": \"mazda rx-7 gs\"}, {\"mpg\": 35.0, \"cylinders\": 4, \"displacement\": 122.0, \"horsepower\": 88.0, \"weight\": 2500, \"acceleration\": 15.1, \"model_year\": 80, \"origin\": \"europe\", \"name\": \"triumph tr7 coupe\"}, {\"mpg\": 23.6, \"cylinders\": 4, \"displacement\": 140.0, \"horsepower\": null, \"weight\": 2905, \"acceleration\": 14.3, \"model_year\": 80, \"origin\": \"usa\", \"name\": \"ford mustang cobra\"}, {\"mpg\": 32.4, \"cylinders\": 4, \"displacement\": 107.0, \"horsepower\": 72.0, \"weight\": 2290, \"acceleration\": 17.0, \"model_year\": 80, \"origin\": \"japan\", \"name\": \"honda accord\"}, {\"mpg\": 27.2, \"cylinders\": 4, \"displacement\": 135.0, \"horsepower\": 84.0, \"weight\": 2490, \"acceleration\": 15.7, \"model_year\": 81, \"origin\": \"usa\", \"name\": \"plymouth reliant\"}, {\"mpg\": 26.6, \"cylinders\": 4, \"displacement\": 151.0, \"horsepower\": 84.0, \"weight\": 2635, \"acceleration\": 16.4, \"model_year\": 81, \"origin\": \"usa\", \"name\": \"buick skylark\"}, {\"mpg\": 25.8, \"cylinders\": 4, \"displacement\": 156.0, \"horsepower\": 92.0, \"weight\": 2620, \"acceleration\": 14.4, \"model_year\": 81, \"origin\": \"usa\", \"name\": \"dodge aries wagon (sw)\"}, {\"mpg\": 23.5, \"cylinders\": 6, \"displacement\": 173.0, \"horsepower\": 110.0, \"weight\": 2725, \"acceleration\": 12.6, \"model_year\": 81, \"origin\": \"usa\", \"name\": \"chevrolet citation\"}, {\"mpg\": 30.0, \"cylinders\": 4, \"displacement\": 135.0, \"horsepower\": 84.0, \"weight\": 2385, \"acceleration\": 12.9, \"model_year\": 81, \"origin\": \"usa\", \"name\": \"plymouth reliant\"}, {\"mpg\": 39.1, \"cylinders\": 4, \"displacement\": 79.0, \"horsepower\": 58.0, \"weight\": 1755, \"acceleration\": 16.9, \"model_year\": 81, \"origin\": \"japan\", \"name\": \"toyota starlet\"}, {\"mpg\": 39.0, \"cylinders\": 4, \"displacement\": 86.0, \"horsepower\": 64.0, \"weight\": 1875, \"acceleration\": 16.4, \"model_year\": 81, \"origin\": \"usa\", \"name\": \"plymouth champ\"}, {\"mpg\": 35.1, \"cylinders\": 4, \"displacement\": 81.0, \"horsepower\": 60.0, \"weight\": 1760, \"acceleration\": 16.1, \"model_year\": 81, \"origin\": \"japan\", \"name\": \"honda civic 1300\"}, {\"mpg\": 32.3, \"cylinders\": 4, \"displacement\": 97.0, \"horsepower\": 67.0, \"weight\": 2065, \"acceleration\": 17.8, \"model_year\": 81, \"origin\": \"japan\", \"name\": \"subaru\"}, {\"mpg\": 37.0, \"cylinders\": 4, \"displacement\": 85.0, \"horsepower\": 65.0, \"weight\": 1975, \"acceleration\": 19.4, \"model_year\": 81, \"origin\": \"japan\", \"name\": \"datsun 210 mpg\"}, {\"mpg\": 37.7, \"cylinders\": 4, \"displacement\": 89.0, \"horsepower\": 62.0, \"weight\": 2050, \"acceleration\": 17.3, \"model_year\": 81, \"origin\": \"japan\", \"name\": \"toyota tercel\"}, {\"mpg\": 34.1, \"cylinders\": 4, \"displacement\": 91.0, \"horsepower\": 68.0, \"weight\": 1985, \"acceleration\": 16.0, \"model_year\": 81, \"origin\": \"japan\", \"name\": \"mazda glc 4\"}, {\"mpg\": 34.7, \"cylinders\": 4, \"displacement\": 105.0, \"horsepower\": 63.0, \"weight\": 2215, \"acceleration\": 14.9, \"model_year\": 81, \"origin\": \"usa\", \"name\": \"plymouth horizon 4\"}, {\"mpg\": 34.4, \"cylinders\": 4, \"displacement\": 98.0, \"horsepower\": 65.0, \"weight\": 2045, \"acceleration\": 16.2, \"model_year\": 81, \"origin\": \"usa\", \"name\": \"ford escort 4w\"}, {\"mpg\": 29.9, \"cylinders\": 4, \"displacement\": 98.0, \"horsepower\": 65.0, \"weight\": 2380, \"acceleration\": 20.7, \"model_year\": 81, \"origin\": \"usa\", \"name\": \"ford escort 2h\"}, {\"mpg\": 33.0, \"cylinders\": 4, \"displacement\": 105.0, \"horsepower\": 74.0, \"weight\": 2190, \"acceleration\": 14.2, \"model_year\": 81, \"origin\": \"europe\", \"name\": \"volkswagen jetta\"}, {\"mpg\": 34.5, \"cylinders\": 4, \"displacement\": 100.0, \"horsepower\": null, \"weight\": 2320, \"acceleration\": 15.8, \"model_year\": 81, \"origin\": \"europe\", \"name\": \"renault 18i\"}, {\"mpg\": 33.7, \"cylinders\": 4, \"displacement\": 107.0, \"horsepower\": 75.0, \"weight\": 2210, \"acceleration\": 14.4, \"model_year\": 81, \"origin\": \"japan\", \"name\": \"honda prelude\"}, {\"mpg\": 32.4, \"cylinders\": 4, \"displacement\": 108.0, \"horsepower\": 75.0, \"weight\": 2350, \"acceleration\": 16.8, \"model_year\": 81, \"origin\": \"japan\", \"name\": \"toyota corolla\"}, {\"mpg\": 32.9, \"cylinders\": 4, \"displacement\": 119.0, \"horsepower\": 100.0, \"weight\": 2615, \"acceleration\": 14.8, \"model_year\": 81, \"origin\": \"japan\", \"name\": \"datsun 200sx\"}, {\"mpg\": 31.6, \"cylinders\": 4, \"displacement\": 120.0, \"horsepower\": 74.0, \"weight\": 2635, \"acceleration\": 18.3, \"model_year\": 81, \"origin\": \"japan\", \"name\": \"mazda 626\"}, {\"mpg\": 28.1, \"cylinders\": 4, \"displacement\": 141.0, \"horsepower\": 80.0, \"weight\": 3230, \"acceleration\": 20.4, \"model_year\": 81, \"origin\": \"europe\", \"name\": \"peugeot 505s turbo diesel\"}, {\"mpg\": 30.7, \"cylinders\": 6, \"displacement\": 145.0, \"horsepower\": 76.0, \"weight\": 3160, \"acceleration\": 19.6, \"model_year\": 81, \"origin\": \"europe\", \"name\": \"volvo diesel\"}, {\"mpg\": 25.4, \"cylinders\": 6, \"displacement\": 168.0, \"horsepower\": 116.0, \"weight\": 2900, \"acceleration\": 12.6, \"model_year\": 81, \"origin\": \"japan\", \"name\": \"toyota cressida\"}, {\"mpg\": 24.2, \"cylinders\": 6, \"displacement\": 146.0, \"horsepower\": 120.0, \"weight\": 2930, \"acceleration\": 13.8, \"model_year\": 81, \"origin\": \"japan\", \"name\": \"datsun 810 maxima\"}, {\"mpg\": 22.4, \"cylinders\": 6, \"displacement\": 231.0, \"horsepower\": 110.0, \"weight\": 3415, \"acceleration\": 15.8, \"model_year\": 81, \"origin\": \"usa\", \"name\": \"buick century\"}, {\"mpg\": 26.6, \"cylinders\": 8, \"displacement\": 350.0, \"horsepower\": 105.0, \"weight\": 3725, \"acceleration\": 19.0, \"model_year\": 81, \"origin\": \"usa\", \"name\": \"oldsmobile cutlass ls\"}, {\"mpg\": 20.2, \"cylinders\": 6, \"displacement\": 200.0, \"horsepower\": 88.0, \"weight\": 3060, \"acceleration\": 17.1, \"model_year\": 81, \"origin\": \"usa\", \"name\": \"ford granada gl\"}, {\"mpg\": 17.6, \"cylinders\": 6, \"displacement\": 225.0, \"horsepower\": 85.0, \"weight\": 3465, \"acceleration\": 16.6, \"model_year\": 81, \"origin\": \"usa\", \"name\": \"chrysler lebaron salon\"}, {\"mpg\": 28.0, \"cylinders\": 4, \"displacement\": 112.0, \"horsepower\": 88.0, \"weight\": 2605, \"acceleration\": 19.6, \"model_year\": 82, \"origin\": \"usa\", \"name\": \"chevrolet cavalier\"}, {\"mpg\": 27.0, \"cylinders\": 4, \"displacement\": 112.0, \"horsepower\": 88.0, \"weight\": 2640, \"acceleration\": 18.6, \"model_year\": 82, \"origin\": \"usa\", \"name\": \"chevrolet cavalier wagon\"}, {\"mpg\": 34.0, \"cylinders\": 4, \"displacement\": 112.0, \"horsepower\": 88.0, \"weight\": 2395, \"acceleration\": 18.0, \"model_year\": 82, \"origin\": \"usa\", \"name\": \"chevrolet cavalier 2-door\"}, {\"mpg\": 31.0, \"cylinders\": 4, \"displacement\": 112.0, \"horsepower\": 85.0, \"weight\": 2575, \"acceleration\": 16.2, \"model_year\": 82, \"origin\": \"usa\", \"name\": \"pontiac j2000 se hatchback\"}, {\"mpg\": 29.0, \"cylinders\": 4, \"displacement\": 135.0, \"horsepower\": 84.0, \"weight\": 2525, \"acceleration\": 16.0, \"model_year\": 82, \"origin\": \"usa\", \"name\": \"dodge aries se\"}, {\"mpg\": 27.0, \"cylinders\": 4, \"displacement\": 151.0, \"horsepower\": 90.0, \"weight\": 2735, \"acceleration\": 18.0, \"model_year\": 82, \"origin\": \"usa\", \"name\": \"pontiac phoenix\"}, {\"mpg\": 24.0, \"cylinders\": 4, \"displacement\": 140.0, \"horsepower\": 92.0, \"weight\": 2865, \"acceleration\": 16.4, \"model_year\": 82, \"origin\": \"usa\", \"name\": \"ford fairmont futura\"}, {\"mpg\": 23.0, \"cylinders\": 4, \"displacement\": 151.0, \"horsepower\": null, \"weight\": 3035, \"acceleration\": 20.5, \"model_year\": 82, \"origin\": \"usa\", \"name\": \"amc concord dl\"}, {\"mpg\": 36.0, \"cylinders\": 4, \"displacement\": 105.0, \"horsepower\": 74.0, \"weight\": 1980, \"acceleration\": 15.3, \"model_year\": 82, \"origin\": \"europe\", \"name\": \"volkswagen rabbit l\"}, {\"mpg\": 37.0, \"cylinders\": 4, \"displacement\": 91.0, \"horsepower\": 68.0, \"weight\": 2025, \"acceleration\": 18.2, \"model_year\": 82, \"origin\": \"japan\", \"name\": \"mazda glc custom l\"}, {\"mpg\": 31.0, \"cylinders\": 4, \"displacement\": 91.0, \"horsepower\": 68.0, \"weight\": 1970, \"acceleration\": 17.6, \"model_year\": 82, \"origin\": \"japan\", \"name\": \"mazda glc custom\"}, {\"mpg\": 38.0, \"cylinders\": 4, \"displacement\": 105.0, \"horsepower\": 63.0, \"weight\": 2125, \"acceleration\": 14.7, \"model_year\": 82, \"origin\": \"usa\", \"name\": \"plymouth horizon miser\"}, {\"mpg\": 36.0, \"cylinders\": 4, \"displacement\": 98.0, \"horsepower\": 70.0, \"weight\": 2125, \"acceleration\": 17.3, \"model_year\": 82, \"origin\": \"usa\", \"name\": \"mercury lynx l\"}, {\"mpg\": 36.0, \"cylinders\": 4, \"displacement\": 120.0, \"horsepower\": 88.0, \"weight\": 2160, \"acceleration\": 14.5, \"model_year\": 82, \"origin\": \"japan\", \"name\": \"nissan stanza xe\"}, {\"mpg\": 36.0, \"cylinders\": 4, \"displacement\": 107.0, \"horsepower\": 75.0, \"weight\": 2205, \"acceleration\": 14.5, \"model_year\": 82, \"origin\": \"japan\", \"name\": \"honda accord\"}, {\"mpg\": 34.0, \"cylinders\": 4, \"displacement\": 108.0, \"horsepower\": 70.0, \"weight\": 2245, \"acceleration\": 16.9, \"model_year\": 82, \"origin\": \"japan\", \"name\": \"toyota corolla\"}, {\"mpg\": 38.0, \"cylinders\": 4, \"displacement\": 91.0, \"horsepower\": 67.0, \"weight\": 1965, \"acceleration\": 15.0, \"model_year\": 82, \"origin\": \"japan\", \"name\": \"honda civic\"}, {\"mpg\": 32.0, \"cylinders\": 4, \"displacement\": 91.0, \"horsepower\": 67.0, \"weight\": 1965, \"acceleration\": 15.7, \"model_year\": 82, \"origin\": \"japan\", \"name\": \"honda civic (auto)\"}, {\"mpg\": 38.0, \"cylinders\": 4, \"displacement\": 91.0, \"horsepower\": 67.0, \"weight\": 1995, \"acceleration\": 16.2, \"model_year\": 82, \"origin\": \"japan\", \"name\": \"datsun 310 gx\"}, {\"mpg\": 25.0, \"cylinders\": 6, \"displacement\": 181.0, \"horsepower\": 110.0, \"weight\": 2945, \"acceleration\": 16.4, \"model_year\": 82, \"origin\": \"usa\", \"name\": \"buick century limited\"}, {\"mpg\": 38.0, \"cylinders\": 6, \"displacement\": 262.0, \"horsepower\": 85.0, \"weight\": 3015, \"acceleration\": 17.0, \"model_year\": 82, \"origin\": \"usa\", \"name\": \"oldsmobile cutlass ciera (diesel)\"}, {\"mpg\": 26.0, \"cylinders\": 4, \"displacement\": 156.0, \"horsepower\": 92.0, \"weight\": 2585, \"acceleration\": 14.5, \"model_year\": 82, \"origin\": \"usa\", \"name\": \"chrysler lebaron medallion\"}, {\"mpg\": 22.0, \"cylinders\": 6, \"displacement\": 232.0, \"horsepower\": 112.0, \"weight\": 2835, \"acceleration\": 14.7, \"model_year\": 82, \"origin\": \"usa\", \"name\": \"ford granada l\"}, {\"mpg\": 32.0, \"cylinders\": 4, \"displacement\": 144.0, \"horsepower\": 96.0, \"weight\": 2665, \"acceleration\": 13.9, \"model_year\": 82, \"origin\": \"japan\", \"name\": \"toyota celica gt\"}, {\"mpg\": 36.0, \"cylinders\": 4, \"displacement\": 135.0, \"horsepower\": 84.0, \"weight\": 2370, \"acceleration\": 13.0, \"model_year\": 82, \"origin\": \"usa\", \"name\": \"dodge charger 2.2\"}, {\"mpg\": 27.0, \"cylinders\": 4, \"displacement\": 151.0, \"horsepower\": 90.0, \"weight\": 2950, \"acceleration\": 17.3, \"model_year\": 82, \"origin\": \"usa\", \"name\": \"chevrolet camaro\"}, {\"mpg\": 27.0, \"cylinders\": 4, \"displacement\": 140.0, \"horsepower\": 86.0, \"weight\": 2790, \"acceleration\": 15.6, \"model_year\": 82, \"origin\": \"usa\", \"name\": \"ford mustang gl\"}, {\"mpg\": 44.0, \"cylinders\": 4, \"displacement\": 97.0, \"horsepower\": 52.0, \"weight\": 2130, \"acceleration\": 24.6, \"model_year\": 82, \"origin\": \"europe\", \"name\": \"vw pickup\"}, {\"mpg\": 32.0, \"cylinders\": 4, \"displacement\": 135.0, \"horsepower\": 84.0, \"weight\": 2295, \"acceleration\": 11.6, \"model_year\": 82, \"origin\": \"usa\", \"name\": \"dodge rampage\"}, {\"mpg\": 28.0, \"cylinders\": 4, \"displacement\": 120.0, \"horsepower\": 79.0, \"weight\": 2625, \"acceleration\": 18.6, \"model_year\": 82, \"origin\": \"usa\", \"name\": \"ford ranger\"}, {\"mpg\": 31.0, \"cylinders\": 4, \"displacement\": 119.0, \"horsepower\": 82.0, \"weight\": 2720, \"acceleration\": 19.4, \"model_year\": 82, \"origin\": \"usa\", \"name\": \"chevy s-10\"}]}}, {\"mode\": \"vega-lite\"});\n",
       "</script>"
      ],
      "text/plain": [
       "alt.LayerChart(...)"
      ]
     },
     "execution_count": 27,
     "metadata": {},
     "output_type": "execute_result"
    }
   ],
   "source": [
    "alt.layer(c1, c2)"
   ]
  },
  {
   "cell_type": "markdown",
   "metadata": {
    "created_in_deepnote_cell": true,
    "deepnote_cell_type": "markdown"
   },
   "source": [
    "<a style='text-decoration:none;line-height:16px;display:flex;color:#5B5B62;padding:10px;justify-content:end;' href='https://deepnote.com?utm_source=created-in-deepnote-cell&projectId=f85cb9a8-3340-44ff-bb4f-c27b008705b0' target=\"_blank\">\n",
    "<img alt='Created in deepnote.com' style='display:inline;max-height:16px;margin:0px;margin-right:7.5px;' src='data:image/svg+xml;base64,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' > </img>\n",
    "Created in <span style='font-weight:600;margin-left:4px;'>Deepnote</span></a>"
   ]
  }
 ],
 "metadata": {
  "deepnote": {},
  "deepnote_execution_queue": [],
  "deepnote_notebook_id": "356cf8f48c5144aba4edac11a8fc8743",
  "deepnote_persisted_session": {
   "createdAt": "2023-10-18T21:16:34.411Z"
  }
 },
 "nbformat": 4,
 "nbformat_minor": 0
}