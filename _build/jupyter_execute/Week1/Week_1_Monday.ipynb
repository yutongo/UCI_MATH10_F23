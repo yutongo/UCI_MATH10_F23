{
 "cells": [
  {
   "cell_type": "markdown",
   "metadata": {
    "cell_id": "e520e0bbba254c77984d13bc7af13fad",
    "deepnote_cell_type": "markdown",
    "editable": true,
    "slideshow": {
     "slide_type": ""
    },
    "tags": []
   },
   "source": [
    "# Week 1 Monday\n",
    "\n",
    "* The Friday file has been posted and some explanations were added.\n",
    "* HW 1 distributed today.\n",
    "* I’ll have office hours on Mondays 2-3pm RH540R"
   ]
  },
  {
   "cell_type": "markdown",
   "metadata": {
    "cell_id": "6df3cf912d5845a1b60ba82328e2df17",
    "deepnote_cell_type": "markdown"
   },
   "source": [
    "## Boolean arrays and Boolean indexing"
   ]
  },
  {
   "cell_type": "code",
   "execution_count": null,
   "metadata": {
    "cell_id": "516ce4fb53894582bb0b7b2b51e3bf22",
    "deepnote_cell_type": "code",
    "deepnote_to_be_reexecuted": false,
    "execution_millis": 16,
    "execution_start": 1696886721239,
    "source_hash": null
   },
   "outputs": [],
   "source": [
    "import numpy as np"
   ]
  },
  {
   "cell_type": "code",
   "execution_count": null,
   "metadata": {
    "cell_id": "8827091e0e834144bb94a208ad73f927",
    "deepnote_cell_type": "code"
   },
   "outputs": [],
   "source": []
  },
  {
   "cell_type": "code",
   "execution_count": null,
   "metadata": {
    "cell_id": "1d2bf21565ee4e3986e27abe95ca855d",
    "deepnote_cell_type": "code",
    "deepnote_to_be_reexecuted": false,
    "execution_millis": 15,
    "execution_start": 1696886739232,
    "source_hash": null
   },
   "outputs": [],
   "source": [
    "# Instantiate a random number generator object\n",
    "rng = np.random.default_rng()"
   ]
  },
  {
   "cell_type": "code",
   "execution_count": null,
   "metadata": {
    "cell_id": "450992650f5d48f5aea328a9b03e5c1f",
    "deepnote_cell_type": "code",
    "deepnote_to_be_reexecuted": false,
    "editable": true,
    "execution_millis": 97,
    "execution_start": 1696277646650,
    "scrolled": true,
    "slideshow": {
     "slide_type": ""
    },
    "source_hash": null,
    "tags": []
   },
   "outputs": [
    {
     "name": "stdout",
     "output_type": "stream",
     "text": [
      "Help on built-in function default_rng in module numpy.random._generator:\n",
      "\n",
      "default_rng(...)\n",
      "    Construct a new Generator with the default BitGenerator (PCG64).\n",
      "    \n",
      "    Parameters\n",
      "    ----------\n",
      "    seed : {None, int, array_like[ints], SeedSequence, BitGenerator, Generator}, optional\n",
      "        A seed to initialize the `BitGenerator`. If None, then fresh,\n",
      "        unpredictable entropy will be pulled from the OS. If an ``int`` or\n",
      "        ``array_like[ints]`` is passed, then it will be passed to\n",
      "        `SeedSequence` to derive the initial `BitGenerator` state. One may also\n",
      "        pass in a `SeedSequence` instance.\n",
      "        Additionally, when passed a `BitGenerator`, it will be wrapped by\n",
      "        `Generator`. If passed a `Generator`, it will be returned unaltered.\n",
      "    \n",
      "    Returns\n",
      "    -------\n",
      "    Generator\n",
      "        The initialized generator object.\n",
      "    \n",
      "    Notes\n",
      "    -----\n",
      "    If ``seed`` is not a `BitGenerator` or a `Generator`, a new `BitGenerator`\n",
      "    is instantiated. This function does not manage a default global instance.\n",
      "    \n",
      "    Examples\n",
      "    --------\n",
      "    ``default_rng`` is the recommended constructor for the random number class\n",
      "    ``Generator``. Here are several ways we can construct a random \n",
      "    number generator using ``default_rng`` and the ``Generator`` class. \n",
      "    \n",
      "    Here we use ``default_rng`` to generate a random float:\n",
      "    \n",
      "    >>> import numpy as np\n",
      "    >>> rng = np.random.default_rng(12345)\n",
      "    >>> print(rng)\n",
      "    Generator(PCG64)\n",
      "    >>> rfloat = rng.random()\n",
      "    >>> rfloat\n",
      "    0.22733602246716966\n",
      "    >>> type(rfloat)\n",
      "    <class 'float'>\n",
      "     \n",
      "    Here we use ``default_rng`` to generate 3 random integers between 0 \n",
      "    (inclusive) and 10 (exclusive):\n",
      "        \n",
      "    >>> import numpy as np\n",
      "    >>> rng = np.random.default_rng(12345)\n",
      "    >>> rints = rng.integers(low=0, high=10, size=3)\n",
      "    >>> rints\n",
      "    array([6, 2, 7])\n",
      "    >>> type(rints[0])\n",
      "    <class 'numpy.int64'>\n",
      "    \n",
      "    Here we specify a seed so that we have reproducible results:\n",
      "    \n",
      "    >>> import numpy as np\n",
      "    >>> rng = np.random.default_rng(seed=42)\n",
      "    >>> print(rng)\n",
      "    Generator(PCG64)\n",
      "    >>> arr1 = rng.random((3, 3))\n",
      "    >>> arr1\n",
      "    array([[0.77395605, 0.43887844, 0.85859792],\n",
      "           [0.69736803, 0.09417735, 0.97562235],\n",
      "           [0.7611397 , 0.78606431, 0.12811363]])\n",
      "    \n",
      "    If we exit and restart our Python interpreter, we'll see that we\n",
      "    generate the same random numbers again:\n",
      "    \n",
      "    >>> import numpy as np\n",
      "    >>> rng = np.random.default_rng(seed=42)\n",
      "    >>> arr2 = rng.random((3, 3))\n",
      "    >>> arr2\n",
      "    array([[0.77395605, 0.43887844, 0.85859792],\n",
      "           [0.69736803, 0.09417735, 0.97562235],\n",
      "           [0.7611397 , 0.78606431, 0.12811363]])\n",
      "\n"
     ]
    }
   ],
   "source": [
    "help(np.random.default_rng)"
   ]
  },
  {
   "cell_type": "markdown",
   "metadata": {
    "cell_id": "9971626746884ae19bf493d3ef205a46",
    "deepnote_cell_type": "markdown"
   },
   "source": [
    "Here we use `rng` to make a length 10 NumPy array of random integers between 0 (inclusive) and 5 (exclusive)."
   ]
  },
  {
   "cell_type": "code",
   "execution_count": null,
   "metadata": {
    "cell_id": "c59a98a6d45b4314acfec45f9f650244",
    "deepnote_cell_type": "code",
    "deepnote_to_be_reexecuted": false,
    "execution_millis": 31,
    "execution_start": 1696886742410,
    "source_hash": null
   },
   "outputs": [
    {
     "data": {
      "text/plain": [
       "array([4, 4, 1, 3, 2, 4, 4, 4, 3, 3])"
      ]
     },
     "execution_count": 3,
     "metadata": {},
     "output_type": "execute_result"
    }
   ],
   "source": [
    "rng = np.random.default_rng()\n",
    "arr = rng.integers(0,5,size = 10)\n",
    "arr"
   ]
  },
  {
   "cell_type": "code",
   "execution_count": null,
   "metadata": {
    "cell_id": "b24e3a70852e4de396f82597452f77da",
    "deepnote_cell_type": "code",
    "deepnote_to_be_reexecuted": false,
    "execution_millis": 16,
    "execution_start": 1696887332680,
    "source_hash": null
   },
   "outputs": [
    {
     "data": {
      "text/plain": [
       "array([[3, 4, 0],\n",
       "       [2, 0, 1]])"
      ]
     },
     "execution_count": 9,
     "metadata": {},
     "output_type": "execute_result"
    }
   ],
   "source": [
    "arr"
   ]
  },
  {
   "cell_type": "markdown",
   "metadata": {
    "cell_id": "688880e9758841bf8e8e42ad42fc68c4",
    "deepnote_cell_type": "markdown"
   },
   "source": [
    "When we do not specify a seed, we get different results every time."
   ]
  },
  {
   "cell_type": "code",
   "execution_count": null,
   "metadata": {
    "cell_id": "88d8ffe975e24d02a4c77e8a0626fe95",
    "deepnote_cell_type": "code",
    "deepnote_to_be_reexecuted": false,
    "execution_millis": 22,
    "execution_start": 1696278142528,
    "source_hash": null
   },
   "outputs": [
    {
     "data": {
      "text/plain": [
       "array([2, 3, 3, 1, 2, 3, 2, 2, 0, 2])"
      ]
     },
     "execution_count": 13,
     "metadata": {},
     "output_type": "execute_result"
    }
   ],
   "source": [
    "arr = rng.integers(0,5,size = 10)\n",
    "arr"
   ]
  },
  {
   "cell_type": "markdown",
   "metadata": {
    "cell_id": "112425a24ea74be98e50868a0cc60efb",
    "deepnote_cell_type": "markdown"
   },
   "source": [
    "* How can we guarantee consistent (or reproducible) random integers?"
   ]
  },
  {
   "cell_type": "code",
   "execution_count": null,
   "metadata": {
    "cell_id": "0d7a9fae98174eda8f9be70d7ea530b1",
    "deepnote_cell_type": "code",
    "deepnote_to_be_reexecuted": false,
    "execution_millis": 35,
    "execution_start": 1696278074495,
    "source_hash": null
   },
   "outputs": [
    {
     "data": {
      "text/plain": [
       "Generator(PCG64) at 0x7F00F834BBA0"
      ]
     },
     "execution_count": 10,
     "metadata": {},
     "output_type": "execute_result"
    }
   ],
   "source": [
    "# Generator(PCG64) at SOME_MEMORY_ADDRESS\n",
    "rng "
   ]
  },
  {
   "cell_type": "code",
   "execution_count": null,
   "metadata": {
    "cell_id": "a328cd6c36b8411db4b3f463ed4e0801",
    "deepnote_cell_type": "code",
    "deepnote_to_be_reexecuted": false,
    "execution_millis": 25,
    "execution_start": 1696278084093,
    "source_hash": null
   },
   "outputs": [
    {
     "data": {
      "text/plain": [
       "numpy.random._generator.Generator"
      ]
     },
     "execution_count": 11,
     "metadata": {},
     "output_type": "execute_result"
    }
   ],
   "source": [
    "type(rng)"
   ]
  },
  {
   "cell_type": "markdown",
   "metadata": {
    "cell_id": "f960ab147b6c41e08762bd18608e644b",
    "deepnote_cell_type": "markdown"
   },
   "source": [
    "When we use a fixed `seed` keyword argument, we get the same output every time."
   ]
  },
  {
   "cell_type": "code",
   "execution_count": null,
   "metadata": {
    "cell_id": "e90ab3ce01144eac8d8b376c464e0bb9",
    "deepnote_cell_type": "code",
    "deepnote_to_be_reexecuted": false,
    "execution_millis": 49,
    "execution_start": 1696278152554,
    "source_hash": null
   },
   "outputs": [
    {
     "data": {
      "text/plain": [
       "array([3, 3, 3, 4, 4, 2, 1, 4, 4, 1])"
      ]
     },
     "execution_count": 14,
     "metadata": {},
     "output_type": "execute_result"
    }
   ],
   "source": [
    "rng = np.random.default_rng(seed=50)\n",
    "arr = rng.integers(0,5,size = 10)\n",
    "arr"
   ]
  },
  {
   "cell_type": "markdown",
   "metadata": {
    "cell_id": "0d1edba34bc64fea9ea05acb29be6130",
    "deepnote_cell_type": "markdown"
   },
   "source": [
    "If we change to a different `seed`, we get a new output."
   ]
  },
  {
   "cell_type": "code",
   "execution_count": null,
   "metadata": {
    "cell_id": "7d3d29b4de3843dea6323b56e4b43255",
    "deepnote_cell_type": "code",
    "deepnote_to_be_reexecuted": false,
    "execution_millis": 34,
    "execution_start": 1696278257084,
    "source_hash": null
   },
   "outputs": [
    {
     "data": {
      "text/plain": [
       "array([2, 4, 3, 2, 1, 3, 3, 2, 0, 1])"
      ]
     },
     "execution_count": 17,
     "metadata": {},
     "output_type": "execute_result"
    }
   ],
   "source": [
    "rng = np.random.default_rng(seed=110)\n",
    "arr = rng.integers(0,5,size = 10)\n",
    "arr"
   ]
  },
  {
   "cell_type": "code",
   "execution_count": null,
   "metadata": {
    "cell_id": "96810ace3a9c4751a0152acd8aea2212",
    "deepnote_cell_type": "code",
    "deepnote_to_be_reexecuted": false,
    "execution_millis": 17,
    "execution_start": 1696278306820,
    "source_hash": null
   },
   "outputs": [],
   "source": [
    "rng = np.random.default_rng(seed=110)"
   ]
  },
  {
   "cell_type": "code",
   "execution_count": null,
   "metadata": {
    "cell_id": "02215bf5b5e7485c95877de8a173a3b1",
    "deepnote_cell_type": "code",
    "deepnote_to_be_reexecuted": false,
    "execution_millis": 18,
    "execution_start": 1696278319384,
    "source_hash": null
   },
   "outputs": [
    {
     "data": {
      "text/plain": [
       "array([2, 4, 3, 2, 1])"
      ]
     },
     "execution_count": 19,
     "metadata": {},
     "output_type": "execute_result"
    }
   ],
   "source": [
    "arr = rng.integers(0,5,size = 5)\n",
    "arr"
   ]
  },
  {
   "cell_type": "markdown",
   "metadata": {
    "cell_id": "05da19cd26614d83aa70304a14f67d74",
    "deepnote_cell_type": "markdown"
   },
   "source": [
    "If we run the same code again, we will get new integers."
   ]
  },
  {
   "cell_type": "code",
   "execution_count": null,
   "metadata": {
    "cell_id": "3e728df4fa3e4e86bcbb92251e37de0a",
    "deepnote_cell_type": "code",
    "deepnote_to_be_reexecuted": false,
    "execution_millis": 53,
    "execution_start": 1696278332210,
    "source_hash": null
   },
   "outputs": [
    {
     "data": {
      "text/plain": [
       "array([3, 3, 2, 0, 1])"
      ]
     },
     "execution_count": 20,
     "metadata": {},
     "output_type": "execute_result"
    }
   ],
   "source": [
    "arr = rng.integers(0,5,size = 5)\n",
    "arr"
   ]
  },
  {
   "cell_type": "markdown",
   "metadata": {
    "cell_id": "34f927ff79194de698bc783d766322a8",
    "deepnote_cell_type": "markdown"
   },
   "source": [
    "* Make a Boolean array indicating where the array is equal to 2."
   ]
  },
  {
   "cell_type": "markdown",
   "metadata": {
    "cell_id": "6550400675ce434a83e42bc4723dc2fc",
    "deepnote_cell_type": "markdown"
   },
   "source": [
    "To get consistent results, it helps to put all of these lines into the same cell."
   ]
  },
  {
   "cell_type": "code",
   "execution_count": null,
   "metadata": {
    "cell_id": "3ea68c493c4745dfae4554a27558ef50",
    "deepnote_cell_type": "code",
    "deepnote_to_be_reexecuted": false,
    "execution_millis": 19,
    "execution_start": 1696278478712,
    "source_hash": null
   },
   "outputs": [
    {
     "data": {
      "text/plain": [
       "array([2, 4, 3, 2, 1, 3, 3, 2, 0, 1])"
      ]
     },
     "execution_count": 21,
     "metadata": {},
     "output_type": "execute_result"
    }
   ],
   "source": [
    "rng = np.random.default_rng(seed=110)\n",
    "arr = rng.integers(0,5,size = 10)\n",
    "arr"
   ]
  },
  {
   "cell_type": "markdown",
   "metadata": {
    "cell_id": "782cab8478c24a8cbe11ca1be6f6fae5",
    "deepnote_cell_type": "markdown"
   },
   "source": [
    "Be sure you understand how these Boolean values correspond to the values in the array.  Also, notice that we are using two equals signs, not one, to compare for elementwise equality.  (One equals sign is for assignment.)"
   ]
  },
  {
   "cell_type": "code",
   "execution_count": null,
   "metadata": {
    "cell_id": "8476bc6ad7354e3fb31d2cad02d7fef3",
    "deepnote_cell_type": "code",
    "deepnote_to_be_reexecuted": false,
    "execution_millis": 18,
    "execution_start": 1696278498328,
    "source_hash": null
   },
   "outputs": [
    {
     "data": {
      "text/plain": [
       "array([ True, False, False,  True, False, False, False,  True, False,\n",
       "       False])"
      ]
     },
     "execution_count": 22,
     "metadata": {},
     "output_type": "execute_result"
    }
   ],
   "source": [
    "arr == 2"
   ]
  },
  {
   "cell_type": "markdown",
   "metadata": {
    "cell_id": "d43068b574774bfdb537296880d5867e",
    "deepnote_cell_type": "markdown"
   },
   "source": [
    "* Count how many of these entries are equal to 2.\n",
    "\n",
    "Because `True` is treated like `1` and `False` is treated like `0`, we can count the number of `True` values (in this case, that is the number of `2` values in the original array) by using `sum`.\n",
    "\n",
    "Here we use the built-in Python function `sum`."
   ]
  },
  {
   "cell_type": "code",
   "execution_count": null,
   "metadata": {
    "cell_id": "9404cbb8ba934d989f63b4b2501ae02c",
    "deepnote_cell_type": "code",
    "deepnote_to_be_reexecuted": false,
    "execution_millis": 21,
    "execution_start": 1696278632958,
    "source_hash": null
   },
   "outputs": [
    {
     "data": {
      "text/plain": [
       "3"
      ]
     },
     "execution_count": 23,
     "metadata": {},
     "output_type": "execute_result"
    }
   ],
   "source": [
    "# use sum (built-in python function)\n",
    "sum(arr == 2)"
   ]
  },
  {
   "cell_type": "code",
   "execution_count": null,
   "metadata": {
    "cell_id": "cb15c9bbbad041e99a2854e4b824abc3",
    "deepnote_cell_type": "code",
    "deepnote_to_be_reexecuted": false,
    "execution_millis": 21,
    "execution_start": 1696278670956,
    "source_hash": null
   },
   "outputs": [
    {
     "data": {
      "text/plain": [
       "numpy.ndarray"
      ]
     },
     "execution_count": 24,
     "metadata": {},
     "output_type": "execute_result"
    }
   ],
   "source": [
    "type(arr)"
   ]
  },
  {
   "cell_type": "markdown",
   "metadata": {
    "cell_id": "523f2ec459ed4f8b80f0b2260baff062",
    "deepnote_cell_type": "markdown"
   },
   "source": [
    "Here we use the NumPy array method `sum`. "
   ]
  },
  {
   "cell_type": "code",
   "execution_count": null,
   "metadata": {
    "cell_id": "0e4ad4eb82714af589628bf5c44d075c",
    "deepnote_cell_type": "code",
    "deepnote_to_be_reexecuted": false,
    "execution_millis": 27,
    "execution_start": 1696278712196,
    "source_hash": null
   },
   "outputs": [
    {
     "data": {
      "text/plain": [
       "3"
      ]
     },
     "execution_count": 25,
     "metadata": {},
     "output_type": "execute_result"
    }
   ],
   "source": [
    "np.sum(arr == 2)"
   ]
  },
  {
   "cell_type": "code",
   "execution_count": null,
   "metadata": {
    "cell_id": "4d6d08fca30a4f6291f5555a912e7b07",
    "deepnote_cell_type": "code",
    "deepnote_to_be_reexecuted": false,
    "editable": true,
    "execution_millis": 120,
    "execution_start": 1696278737459,
    "scrolled": true,
    "slideshow": {
     "slide_type": ""
    },
    "source_hash": null,
    "tags": []
   },
   "outputs": [
    {
     "name": "stdout",
     "output_type": "stream",
     "text": [
      "Help on function sum in module numpy:\n",
      "\n",
      "sum(a, axis=None, dtype=None, out=None, keepdims=<no value>, initial=<no value>, where=<no value>)\n",
      "    Sum of array elements over a given axis.\n",
      "    \n",
      "    Parameters\n",
      "    ----------\n",
      "    a : array_like\n",
      "        Elements to sum.\n",
      "    axis : None or int or tuple of ints, optional\n",
      "        Axis or axes along which a sum is performed.  The default,\n",
      "        axis=None, will sum all of the elements of the input array.  If\n",
      "        axis is negative it counts from the last to the first axis.\n",
      "    \n",
      "        .. versionadded:: 1.7.0\n",
      "    \n",
      "        If axis is a tuple of ints, a sum is performed on all of the axes\n",
      "        specified in the tuple instead of a single axis or all the axes as\n",
      "        before.\n",
      "    dtype : dtype, optional\n",
      "        The type of the returned array and of the accumulator in which the\n",
      "        elements are summed.  The dtype of `a` is used by default unless `a`\n",
      "        has an integer dtype of less precision than the default platform\n",
      "        integer.  In that case, if `a` is signed then the platform integer\n",
      "        is used while if `a` is unsigned then an unsigned integer of the\n",
      "        same precision as the platform integer is used.\n",
      "    out : ndarray, optional\n",
      "        Alternative output array in which to place the result. It must have\n",
      "        the same shape as the expected output, but the type of the output\n",
      "        values will be cast if necessary.\n",
      "    keepdims : bool, optional\n",
      "        If this is set to True, the axes which are reduced are left\n",
      "        in the result as dimensions with size one. With this option,\n",
      "        the result will broadcast correctly against the input array.\n",
      "    \n",
      "        If the default value is passed, then `keepdims` will not be\n",
      "        passed through to the `sum` method of sub-classes of\n",
      "        `ndarray`, however any non-default value will be.  If the\n",
      "        sub-class' method does not implement `keepdims` any\n",
      "        exceptions will be raised.\n",
      "    initial : scalar, optional\n",
      "        Starting value for the sum. See `~numpy.ufunc.reduce` for details.\n",
      "    \n",
      "        .. versionadded:: 1.15.0\n",
      "    \n",
      "    where : array_like of bool, optional\n",
      "        Elements to include in the sum. See `~numpy.ufunc.reduce` for details.\n",
      "    \n",
      "        .. versionadded:: 1.17.0\n",
      "    \n",
      "    Returns\n",
      "    -------\n",
      "    sum_along_axis : ndarray\n",
      "        An array with the same shape as `a`, with the specified\n",
      "        axis removed.   If `a` is a 0-d array, or if `axis` is None, a scalar\n",
      "        is returned.  If an output array is specified, a reference to\n",
      "        `out` is returned.\n",
      "    \n",
      "    See Also\n",
      "    --------\n",
      "    ndarray.sum : Equivalent method.\n",
      "    \n",
      "    add.reduce : Equivalent functionality of `add`.\n",
      "    \n",
      "    cumsum : Cumulative sum of array elements.\n",
      "    \n",
      "    trapz : Integration of array values using the composite trapezoidal rule.\n",
      "    \n",
      "    mean, average\n",
      "    \n",
      "    Notes\n",
      "    -----\n",
      "    Arithmetic is modular when using integer types, and no error is\n",
      "    raised on overflow.\n",
      "    \n",
      "    The sum of an empty array is the neutral element 0:\n",
      "    \n",
      "    >>> np.sum([])\n",
      "    0.0\n",
      "    \n",
      "    For floating point numbers the numerical precision of sum (and\n",
      "    ``np.add.reduce``) is in general limited by directly adding each number\n",
      "    individually to the result causing rounding errors in every step.\n",
      "    However, often numpy will use a  numerically better approach (partial\n",
      "    pairwise summation) leading to improved precision in many use-cases.\n",
      "    This improved precision is always provided when no ``axis`` is given.\n",
      "    When ``axis`` is given, it will depend on which axis is summed.\n",
      "    Technically, to provide the best speed possible, the improved precision\n",
      "    is only used when the summation is along the fast axis in memory.\n",
      "    Note that the exact precision may vary depending on other parameters.\n",
      "    In contrast to NumPy, Python's ``math.fsum`` function uses a slower but\n",
      "    more precise approach to summation.\n",
      "    Especially when summing a large number of lower precision floating point\n",
      "    numbers, such as ``float32``, numerical errors can become significant.\n",
      "    In such cases it can be advisable to use `dtype=\"float64\"` to use a higher\n",
      "    precision for the output.\n",
      "    \n",
      "    Examples\n",
      "    --------\n",
      "    >>> np.sum([0.5, 1.5])\n",
      "    2.0\n",
      "    >>> np.sum([0.5, 0.7, 0.2, 1.5], dtype=np.int32)\n",
      "    1\n",
      "    >>> np.sum([[0, 1], [0, 5]])\n",
      "    6\n",
      "    >>> np.sum([[0, 1], [0, 5]], axis=0)\n",
      "    array([0, 6])\n",
      "    >>> np.sum([[0, 1], [0, 5]], axis=1)\n",
      "    array([1, 5])\n",
      "    >>> np.sum([[0, 1], [np.nan, 5]], where=[False, True], axis=1)\n",
      "    array([1., 5.])\n",
      "    \n",
      "    If the accumulator is too small, overflow occurs:\n",
      "    \n",
      "    >>> np.ones(128, dtype=np.int8).sum(dtype=np.int8)\n",
      "    -128\n",
      "    \n",
      "    You can also start the sum with a value other than zero:\n",
      "    \n",
      "    >>> np.sum([10], initial=5)\n",
      "    15\n",
      "\n"
     ]
    }
   ],
   "source": [
    "help(np.sum)"
   ]
  },
  {
   "cell_type": "markdown",
   "metadata": {
    "cell_id": "86820bd5bd734df5a3317ccd3ebf989a",
    "deepnote_cell_type": "markdown"
   },
   "source": [
    "Another way to compute the sum of the elements in a NumPy array"
   ]
  },
  {
   "cell_type": "code",
   "execution_count": null,
   "metadata": {
    "cell_id": "b90491a090ac4acc8453b36de71c294e",
    "deepnote_cell_type": "code",
    "deepnote_to_be_reexecuted": false,
    "execution_millis": 84,
    "execution_start": 1696278786761,
    "source_hash": null
   },
   "outputs": [
    {
     "data": {
      "text/plain": [
       "3"
      ]
     },
     "execution_count": 27,
     "metadata": {},
     "output_type": "execute_result"
    }
   ],
   "source": [
    "(arr == 2).sum() "
   ]
  },
  {
   "cell_type": "markdown",
   "metadata": {
    "cell_id": "ce63a8bcadb9461082cc65d8993ddabe",
    "deepnote_cell_type": "markdown"
   },
   "source": [
    "Sometimes it is more elegant to save the intermediate values along the way, rather than copy-pasting.  Here we save the Boolean array with the variable name `ba`. "
   ]
  },
  {
   "cell_type": "code",
   "execution_count": null,
   "metadata": {
    "cell_id": "20057a4da90c4e5f9956d777fd8a5549",
    "deepnote_cell_type": "code",
    "deepnote_to_be_reexecuted": false,
    "execution_millis": 22,
    "execution_start": 1696278897310,
    "source_hash": null
   },
   "outputs": [
    {
     "data": {
      "text/plain": [
       "3"
      ]
     },
     "execution_count": 29,
     "metadata": {},
     "output_type": "execute_result"
    }
   ],
   "source": [
    "ba = (arr == 2) #boolean indexing for entries = 2\n",
    "ba.sum()"
   ]
  },
  {
   "cell_type": "markdown",
   "metadata": {
    "cell_id": "efa43d433a2340668e5a81b13c246cf2",
    "deepnote_cell_type": "markdown"
   },
   "source": [
    "Notice that `ba` really is a NumPy array."
   ]
  },
  {
   "cell_type": "code",
   "execution_count": null,
   "metadata": {
    "cell_id": "f1a44c7638974b9d88aa63cd16620354",
    "deepnote_cell_type": "code",
    "deepnote_to_be_reexecuted": false,
    "execution_millis": 22,
    "execution_start": 1696278947788,
    "source_hash": null
   },
   "outputs": [
    {
     "data": {
      "text/plain": [
       "numpy.ndarray"
      ]
     },
     "execution_count": 30,
     "metadata": {},
     "output_type": "execute_result"
    }
   ],
   "source": [
    "type(ba)"
   ]
  },
  {
   "cell_type": "markdown",
   "metadata": {
    "cell_id": "d1343cf29ff1489bbec4a6e034176cb4",
    "deepnote_cell_type": "markdown"
   },
   "source": [
    "* Make a Boolean array indicating where `arr` is strictly greater than 1 and less than or equal to 3."
   ]
  },
  {
   "cell_type": "markdown",
   "metadata": {
    "cell_id": "db153281f24b49aa9d25cd8b19625e88",
    "deepnote_cell_type": "markdown"
   },
   "source": [
    "Here we check where it's strictly greater than `1`."
   ]
  },
  {
   "cell_type": "code",
   "execution_count": null,
   "metadata": {
    "cell_id": "9dc023dacc2d41b1b7d81876b79c872c",
    "deepnote_cell_type": "code",
    "deepnote_to_be_reexecuted": false,
    "execution_millis": 20,
    "execution_start": 1696279032504,
    "source_hash": null
   },
   "outputs": [
    {
     "data": {
      "text/plain": [
       "array([ True,  True,  True,  True, False,  True,  True,  True, False,\n",
       "       False])"
      ]
     },
     "execution_count": 31,
     "metadata": {},
     "output_type": "execute_result"
    }
   ],
   "source": [
    "arr > 1"
   ]
  },
  {
   "cell_type": "markdown",
   "metadata": {
    "cell_id": "ff5d28f148e940d5a655558255978b99",
    "deepnote_cell_type": "markdown"
   },
   "source": [
    "Here we check where it's less than or equal to `3`."
   ]
  },
  {
   "cell_type": "code",
   "execution_count": null,
   "metadata": {
    "cell_id": "84f7a40cdab648028a13a5a9649ac333",
    "deepnote_cell_type": "code",
    "deepnote_to_be_reexecuted": false,
    "execution_millis": 20,
    "execution_start": 1696279050233,
    "source_hash": null
   },
   "outputs": [
    {
     "data": {
      "text/plain": [
       "array([ True, False,  True,  True,  True,  True,  True,  True,  True,\n",
       "        True])"
      ]
     },
     "execution_count": 32,
     "metadata": {},
     "output_type": "execute_result"
    }
   ],
   "source": [
    "arr <= 3"
   ]
  },
  {
   "cell_type": "markdown",
   "metadata": {
    "cell_id": "b1ff03e72715423f8b08ec7789c94021",
    "deepnote_cell_type": "markdown"
   },
   "source": [
    "We now want to check where both are satisfied.  Python gets confused because we do not have parentheses.  "
   ]
  },
  {
   "cell_type": "code",
   "execution_count": null,
   "metadata": {
    "cell_id": "f3bbfc0a3ffc4b4d88971a0ed43d2365",
    "deepnote_cell_type": "code",
    "deepnote_to_be_reexecuted": false,
    "execution_millis": 57,
    "execution_start": 1696279103754,
    "source_hash": null
   },
   "outputs": [
    {
     "ename": "ValueError",
     "evalue": "The truth value of an array with more than one element is ambiguous. Use a.any() or a.all()",
     "output_type": "error",
     "traceback": [
      "\u001b[0;31m---------------------------------------------------------------------------\u001b[0m",
      "\u001b[0;31mValueError\u001b[0m                                Traceback (most recent call last)",
      "Cell \u001b[0;32mIn [33], line 1\u001b[0m\n\u001b[0;32m----> 1\u001b[0m arr \u001b[38;5;241m>\u001b[39m \u001b[38;5;241m1\u001b[39m \u001b[38;5;241m&\u001b[39m arr \u001b[38;5;241m<\u001b[39m\u001b[38;5;241m=\u001b[39m \u001b[38;5;241m3\u001b[39m\n",
      "\u001b[0;31mValueError\u001b[0m: The truth value of an array with more than one element is ambiguous. Use a.any() or a.all()"
     ]
    }
   ],
   "source": [
    "arr > 1 & arr <= 3"
   ]
  },
  {
   "cell_type": "code",
   "execution_count": null,
   "metadata": {
    "cell_id": "af1c1580310e482ab3241633b4229d8b",
    "deepnote_cell_type": "code",
    "deepnote_to_be_reexecuted": false,
    "execution_millis": 36,
    "execution_start": 1696279345531,
    "source_hash": null
   },
   "outputs": [
    {
     "ename": "ValueError",
     "evalue": "The truth value of an array with more than one element is ambiguous. Use a.any() or a.all()",
     "output_type": "error",
     "traceback": [
      "\u001b[0;31m---------------------------------------------------------------------------\u001b[0m",
      "\u001b[0;31mValueError\u001b[0m                                Traceback (most recent call last)",
      "Cell \u001b[0;32mIn [38], line 1\u001b[0m\n\u001b[0;32m----> 1\u001b[0m (arr \u001b[38;5;241m>\u001b[39m \u001b[38;5;241m1\u001b[39m) \u001b[38;5;129;01mand\u001b[39;00m (arr \u001b[38;5;241m<\u001b[39m\u001b[38;5;241m=\u001b[39m \u001b[38;5;241m3\u001b[39m)\n",
      "\u001b[0;31mValueError\u001b[0m: The truth value of an array with more than one element is ambiguous. Use a.any() or a.all()"
     ]
    }
   ],
   "source": [
    "(arr > 1) and (arr <= 3)"
   ]
  },
  {
   "cell_type": "markdown",
   "metadata": {
    "cell_id": "e7acc10bc47c4a2eba5371e14711d322",
    "deepnote_cell_type": "markdown"
   },
   "source": [
    "* Thanks to Katie finding the [Python Operators](https://www.w3schools.com/python/python_operators.asp). It mentions that for logical operators we can use `and` to return true id both statements are true, such as:"
   ]
  },
  {
   "cell_type": "code",
   "execution_count": null,
   "metadata": {
    "cell_id": "459f30d8000b45689b357dfb740ba1f9",
    "deepnote_cell_type": "code",
    "deepnote_to_be_reexecuted": false,
    "execution_millis": 52,
    "execution_start": 1696304991210,
    "source_hash": null
   },
   "outputs": [
    {
     "data": {
      "text/plain": [
       "True"
      ]
     },
     "execution_count": 2,
     "metadata": {},
     "output_type": "execute_result"
    }
   ],
   "source": [
    "x = 5\n",
    "\n",
    "(x > 3) and (x < 10)"
   ]
  },
  {
   "cell_type": "markdown",
   "metadata": {
    "cell_id": "660a70b9bd9e48aea2cf5ffa505f00bf",
    "deepnote_cell_type": "markdown"
   },
   "source": [
    "* While for bitwise operators, we use `&`, such as:"
   ]
  },
  {
   "cell_type": "code",
   "execution_count": null,
   "metadata": {
    "cell_id": "351bbba2b86143bc9e1363d44fbe8f91",
    "deepnote_cell_type": "code",
    "deepnote_to_be_reexecuted": false,
    "execution_millis": 29,
    "execution_start": 1696279162018,
    "source_hash": null
   },
   "outputs": [
    {
     "data": {
      "text/plain": [
       "array([ True, False,  True,  True, False,  True,  True,  True, False,\n",
       "       False])"
      ]
     },
     "execution_count": 35,
     "metadata": {},
     "output_type": "execute_result"
    }
   ],
   "source": [
    "ba2 = (arr > 1) & (arr <= 3)\n",
    "ba2"
   ]
  },
  {
   "cell_type": "markdown",
   "metadata": {
    "cell_id": "2689c0713dcb423399be3b4128716c37",
    "deepnote_cell_type": "markdown"
   },
   "source": [
    "* Using Boolean indexing, produce the subarray of `arr` containing the values which are strictly greater than 1 and less than or equal to 3."
   ]
  },
  {
   "cell_type": "code",
   "execution_count": null,
   "metadata": {
    "cell_id": "8404bcac91444f4b8c23a76d5c6cec24",
    "deepnote_cell_type": "code",
    "deepnote_to_be_reexecuted": false,
    "execution_millis": 19,
    "execution_start": 1696279282611,
    "source_hash": null
   },
   "outputs": [
    {
     "data": {
      "text/plain": [
       "array([2, 4, 3, 2, 1, 3, 3, 2, 0, 1])"
      ]
     },
     "execution_count": 37,
     "metadata": {},
     "output_type": "execute_result"
    }
   ],
   "source": [
    "arr"
   ]
  },
  {
   "cell_type": "code",
   "execution_count": null,
   "metadata": {
    "cell_id": "0e440c4ef80646968ab5359d88d87b5a",
    "deepnote_cell_type": "code",
    "deepnote_to_be_reexecuted": false,
    "execution_millis": 21,
    "execution_start": 1696279266605,
    "source_hash": null
   },
   "outputs": [
    {
     "data": {
      "text/plain": [
       "array([2, 3, 2, 3, 3, 2])"
      ]
     },
     "execution_count": 36,
     "metadata": {},
     "output_type": "execute_result"
    }
   ],
   "source": [
    "arr[ba2]"
   ]
  },
  {
   "cell_type": "markdown",
   "metadata": {
    "cell_id": "6cfaebcac26445acb7cbba112baca859",
    "deepnote_cell_type": "markdown"
   },
   "source": [
    "* Make a 10x3 NumPy array `arr2` of random integers between 0 (inclusive) and 5 (exclusive).  Here, we will specify the `size` keyword argument using a `tuple` rather than an `int`.  Use `seed=100` so we all have the same values."
   ]
  },
  {
   "cell_type": "code",
   "execution_count": null,
   "metadata": {
    "cell_id": "fa6632f5cb25457c9e39a51492d7306a",
    "deepnote_cell_type": "code",
    "deepnote_to_be_reexecuted": false,
    "execution_millis": 33,
    "execution_start": 1696279502849,
    "source_hash": null
   },
   "outputs": [
    {
     "data": {
      "text/plain": [
       "array([[3, 4, 0],\n",
       "       [2, 0, 1],\n",
       "       [2, 0, 2],\n",
       "       [4, 4, 2],\n",
       "       [2, 3, 4],\n",
       "       [4, 0, 3],\n",
       "       [3, 0, 2],\n",
       "       [4, 3, 1],\n",
       "       [1, 3, 0],\n",
       "       [2, 2, 2]])"
      ]
     },
     "execution_count": 39,
     "metadata": {},
     "output_type": "execute_result"
    }
   ],
   "source": [
    "rng = np.random.default_rng(seed = 100)\n",
    "arr2 = rng.integers(0,5, size = (10,3))\n",
    "arr2"
   ]
  },
  {
   "cell_type": "code",
   "execution_count": null,
   "metadata": {
    "cell_id": "eb58d3bfd3354897b4f187b3417d5b62",
    "deepnote_cell_type": "code",
    "deepnote_to_be_reexecuted": false,
    "execution_millis": 21,
    "execution_start": 1696279570777,
    "source_hash": null
   },
   "outputs": [
    {
     "data": {
      "text/plain": [
       "numpy.ndarray"
      ]
     },
     "execution_count": 41,
     "metadata": {},
     "output_type": "execute_result"
    }
   ],
   "source": [
    "type(arr2)"
   ]
  },
  {
   "cell_type": "code",
   "execution_count": null,
   "metadata": {
    "cell_id": "534c144da58c4896b447ec55ed73d702",
    "deepnote_cell_type": "code",
    "deepnote_to_be_reexecuted": false,
    "execution_millis": 86,
    "execution_start": 1696279554710,
    "source_hash": null
   },
   "outputs": [
    {
     "data": {
      "text/plain": [
       "(10, 3)"
      ]
     },
     "execution_count": 40,
     "metadata": {},
     "output_type": "execute_result"
    }
   ],
   "source": [
    "arr2.shape"
   ]
  },
  {
   "cell_type": "markdown",
   "metadata": {
    "cell_id": "5eb80a5f6d2043689c743ac7bc129a35",
    "deepnote_cell_type": "markdown"
   },
   "source": [
    "* Define a variable `col` that is equal to the 0-th column of `arr2`.\n",
    "\n",
    "(Let's try to consistently start counting at 0 in this class)"
   ]
  },
  {
   "cell_type": "code",
   "execution_count": null,
   "metadata": {
    "cell_id": "18b5851b43a244c084800cfa0f197376",
    "deepnote_cell_type": "code",
    "deepnote_to_be_reexecuted": false,
    "execution_millis": 28,
    "execution_start": 1696279702418,
    "source_hash": null
   },
   "outputs": [
    {
     "data": {
      "text/plain": [
       "array([[3, 4, 0],\n",
       "       [2, 0, 1],\n",
       "       [2, 0, 2],\n",
       "       [4, 4, 2],\n",
       "       [2, 3, 4],\n",
       "       [4, 0, 3],\n",
       "       [3, 0, 2],\n",
       "       [4, 3, 1],\n",
       "       [1, 3, 0],\n",
       "       [2, 2, 2]])"
      ]
     },
     "execution_count": 43,
     "metadata": {},
     "output_type": "execute_result"
    }
   ],
   "source": [
    "arr2"
   ]
  },
  {
   "cell_type": "code",
   "execution_count": null,
   "metadata": {
    "cell_id": "fba0618927c7442e9b0b906c4e69cf97",
    "deepnote_cell_type": "code",
    "deepnote_to_be_reexecuted": false,
    "execution_millis": 18,
    "execution_start": 1696279693929,
    "source_hash": null
   },
   "outputs": [
    {
     "data": {
      "text/plain": [
       "array([3, 2, 2, 4, 2, 4, 3, 4, 1, 2])"
      ]
     },
     "execution_count": 42,
     "metadata": {},
     "output_type": "execute_result"
    }
   ],
   "source": [
    "col = arr2[:,0]\n",
    "col"
   ]
  },
  {
   "cell_type": "code",
   "execution_count": null,
   "metadata": {
    "cell_id": "7165282c920a412ebae88e8c49e4284d",
    "deepnote_cell_type": "code",
    "deepnote_to_be_reexecuted": false,
    "editable": true,
    "execution_millis": 26,
    "execution_start": 1696279792237,
    "slideshow": {
     "slide_type": ""
    },
    "source_hash": null,
    "tags": []
   },
   "outputs": [
    {
     "data": {
      "text/plain": [
       "array([2, 0, 1])"
      ]
     },
     "execution_count": 44,
     "metadata": {},
     "output_type": "execute_result"
    }
   ],
   "source": [
    "# get row 1\n",
    "row1 = arr2[1,:]\n",
    "row1"
   ]
  }
 ],
 "metadata": {
  "deepnote": {},
  "deepnote_execution_queue": [],
  "deepnote_notebook_id": "2cffb509eb154ec4a5393f9efffd864d",
  "deepnote_persisted_session": {
   "createdAt": "2023-10-09T22:01:33.811Z"
  },
  "kernelspec": {
   "display_name": "Python 3 (ipykernel)",
   "language": "python",
   "name": "python3"
  },
  "language_info": {
   "codemirror_mode": {
    "name": "ipython",
    "version": 3
   },
   "file_extension": ".py",
   "mimetype": "text/x-python",
   "name": "python",
   "nbconvert_exporter": "python",
   "pygments_lexer": "ipython3",
   "version": "3.9.18"
  }
 },
 "nbformat": 4,
 "nbformat_minor": 4
}