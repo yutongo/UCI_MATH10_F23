{
 "cells": [
  {
   "block_group": "1fea41d06f5f44398c665c6c499c2bde",
   "cell_type": "markdown",
   "metadata": {
    "cell_id": "9d059ebd42a1454ca56406714ca93823",
    "deepnote_cell_type": "markdown"
   },
   "source": [
    "# Week 1 Wednesday"
   ]
  },
  {
   "block_group": "e9319d0545994c7c80b6ad0ee67d0e2d",
   "cell_type": "markdown",
   "metadata": {
    "cell_id": "404e0595a63b4f67b0b69facc2cb8127",
    "deepnote_cell_type": "markdown"
   },
   "source": [
    "Keyboard Shortcut\n",
    "Add new code block below current one: `⌘ + J` (MAC) `ctrl (+ shift) + J` (WINDOWS & LINUX)"
   ]
  },
  {
   "block_group": "7b425e2045464a21aaf376d3c643bf9b",
   "cell_type": "markdown",
   "metadata": {
    "cell_id": "4e6bb239caab43ce836ef2c523b8502d",
    "deepnote_cell_type": "markdown"
   },
   "source": [
    "* Make a 10x3 NumPy array arr of random integers between 0 (inclusive) and 5 (exclusive).  Here, we will specify the size keyword argument using a tuple rather than an int.  Use seed=100 so we all have the same values."
   ]
  },
  {
   "block_group": "f0667c6da5884bc49d9105882b63cf49",
   "cell_type": "code",
   "execution_count": null,
   "metadata": {
    "cell_id": "63b65daca9c44c368a8cb82e531c88b5",
    "deepnote_cell_type": "code",
    "deepnote_to_be_reexecuted": false,
    "execution_millis": 27,
    "execution_start": 1696449828825,
    "output_cleared": false,
    "source_hash": null
   },
   "outputs": [
    {
     "data": {
      "text/plain": [
       "array([[3, 4, 0],\n",
       "       [2, 0, 1],\n",
       "       [2, 0, 2],\n",
       "       [4, 4, 2],\n",
       "       [2, 3, 4],\n",
       "       [4, 0, 3],\n",
       "       [3, 0, 2],\n",
       "       [4, 3, 1],\n",
       "       [1, 3, 0],\n",
       "       [2, 2, 2]])"
      ]
     },
     "execution_count": 1,
     "metadata": {},
     "output_type": "execute_result"
    }
   ],
   "source": [
    "import numpy as np\n",
    "rng = np.random.default_rng(seed=100)\n",
    "arr = rng.integers(0, 5, size=(10,3))\n",
    "arr"
   ]
  },
  {
   "block_group": "56e79d4289f5407c9b86988cd9e39a20",
   "cell_type": "markdown",
   "metadata": {
    "cell_id": "d8d006ad541b495ea23d327ea2c6de77",
    "deepnote_cell_type": "markdown"
   },
   "source": [
    "* Define a variable col that is equal to the 0-th column of arr"
   ]
  },
  {
   "block_group": "33baf34da9db4f9aa787043f45ed352d",
   "cell_type": "code",
   "execution_count": null,
   "metadata": {
    "cell_id": "04895de660754870b8ceccb9f5313f63",
    "deepnote_cell_type": "code",
    "deepnote_to_be_reexecuted": false,
    "execution_millis": 21,
    "execution_start": 1696449877478,
    "source_hash": null
   },
   "outputs": [
    {
     "data": {
      "text/plain": [
       "array([3, 2, 2, 4, 2, 4, 3, 4, 1, 2])"
      ]
     },
     "execution_count": 2,
     "metadata": {},
     "output_type": "execute_result"
    }
   ],
   "source": [
    "col = arr[:,0]\n",
    "col"
   ]
  },
  {
   "block_group": "c1770b20b7df4075b52db0563b099cc7",
   "cell_type": "markdown",
   "metadata": {
    "cell_id": "444325642bf3486aa95d5d2a7340532a",
    "deepnote_cell_type": "markdown"
   },
   "source": [
    "What if we had used two sets of square brackets, like what we need if we are using lists of lists? Break the following up into pieces. `arr2[:]` is getting the entire array (“every row”), and then [0] is getting the top row."
   ]
  },
  {
   "block_group": "a9f532b5dc0046bcb86ef789b65986e7",
   "cell_type": "code",
   "execution_count": null,
   "metadata": {
    "cell_id": "af61815f75f649c3afe10557309e91a5",
    "deepnote_cell_type": "code",
    "deepnote_to_be_reexecuted": false,
    "execution_millis": 19,
    "execution_start": 1696449930563,
    "source_hash": null
   },
   "outputs": [
    {
     "data": {
      "text/plain": [
       "array([3, 4, 0])"
      ]
     },
     "execution_count": 3,
     "metadata": {},
     "output_type": "execute_result"
    }
   ],
   "source": [
    "arr[:][0] #arr[:] every row"
   ]
  },
  {
   "block_group": "14a1cb18610b484c9024e5eee355f817",
   "cell_type": "code",
   "execution_count": null,
   "metadata": {
    "cell_id": "d671c02a4cc9428ebee5173844aea6af",
    "deepnote_cell_type": "code",
    "deepnote_to_be_reexecuted": false,
    "execution_millis": 23,
    "execution_start": 1696449995882,
    "source_hash": null
   },
   "outputs": [
    {
     "data": {
      "text/plain": [
       "array([2, 0, 2])"
      ]
     },
     "execution_count": 5,
     "metadata": {},
     "output_type": "execute_result"
    }
   ],
   "source": [
    "arr[:][2] #index 2 row"
   ]
  },
  {
   "block_group": "880c2177bf5e494390153e1c42fa8654",
   "cell_type": "code",
   "execution_count": null,
   "metadata": {
    "cell_id": "55ca7af7e33e483b8a24183d559cf60d",
    "deepnote_cell_type": "code",
    "deepnote_to_be_reexecuted": false,
    "execution_millis": 23,
    "execution_start": 1696450080154,
    "source_hash": null
   },
   "outputs": [
    {
     "data": {
      "text/plain": [
       "array([2, 0, 2])"
      ]
     },
     "execution_count": 6,
     "metadata": {},
     "output_type": "execute_result"
    }
   ],
   "source": [
    "arr[2,:]"
   ]
  },
  {
   "block_group": "ab0be335f48c467cb49a4e290610b712",
   "cell_type": "markdown",
   "metadata": {
    "cell_id": "e2c8749795c3441b99f7eb001c9a7f8c",
    "deepnote_cell_type": "markdown"
   },
   "source": [
    "* Create the subarray of arr containing the rows which begin with a 2."
   ]
  },
  {
   "block_group": "3d5281da5afe4cd79f59ff9655108859",
   "cell_type": "markdown",
   "metadata": {
    "cell_id": "9939460bfc8243daa9583978742a3ab5",
    "deepnote_cell_type": "markdown"
   },
   "source": [
    "We can see what number each row starts with by using `col` which we defined above."
   ]
  },
  {
   "block_group": "0467602cd4bb4505b14c756f8123bf68",
   "cell_type": "code",
   "execution_count": null,
   "metadata": {
    "cell_id": "b14e00345b664e69be291395e844d510",
    "deepnote_cell_type": "code",
    "deepnote_to_be_reexecuted": false,
    "execution_millis": 51,
    "execution_start": 1696450202173,
    "source_hash": null
   },
   "outputs": [
    {
     "data": {
      "text/plain": [
       "array([3, 2, 2, 4, 2, 4, 3, 4, 1, 2])"
      ]
     },
     "execution_count": 7,
     "metadata": {},
     "output_type": "execute_result"
    }
   ],
   "source": [
    "col"
   ]
  },
  {
   "block_group": "43386023fb4a4d23aadfa8baae7d3ac7",
   "cell_type": "markdown",
   "metadata": {
    "cell_id": "a9d3773dc0174f01a726139cef5b59cd",
    "deepnote_cell_type": "markdown"
   },
   "source": [
    "Find where `col` is equal to `2`."
   ]
  },
  {
   "block_group": "78dd62dc0087432cb04b10d010a4df42",
   "cell_type": "code",
   "execution_count": null,
   "metadata": {
    "cell_id": "f705ed94fbcb43ae96484363e8e4ae42",
    "deepnote_cell_type": "code",
    "deepnote_to_be_reexecuted": false,
    "execution_millis": 20,
    "execution_start": 1696450226030,
    "source_hash": null
   },
   "outputs": [
    {
     "data": {
      "text/plain": [
       "array([False,  True,  True, False,  True, False, False, False, False,\n",
       "        True])"
      ]
     },
     "execution_count": 8,
     "metadata": {},
     "output_type": "execute_result"
    }
   ],
   "source": [
    "col == 2"
   ]
  },
  {
   "block_group": "31da31fbbb64444998d752c9ba1f406b",
   "cell_type": "markdown",
   "metadata": {
    "cell_id": "63dbac7685ad4b42a33329ed1e1ea8f8",
    "deepnote_cell_type": "markdown"
   },
   "source": [
    " Use Boolean indexing to extract all the rows that begin with `2`."
   ]
  },
  {
   "block_group": "0f3c1ea67fcc4db8b13aec4940c04fd3",
   "cell_type": "code",
   "execution_count": null,
   "metadata": {
    "cell_id": "dfafe8be6aa8435893028b4b985b4004",
    "deepnote_cell_type": "code",
    "deepnote_to_be_reexecuted": false,
    "execution_millis": 21,
    "execution_start": 1696450329068,
    "source_hash": null
   },
   "outputs": [
    {
     "data": {
      "text/plain": [
       "array([[2, 0, 1],\n",
       "       [2, 0, 2],\n",
       "       [2, 3, 4],\n",
       "       [2, 2, 2]])"
      ]
     },
     "execution_count": 10,
     "metadata": {},
     "output_type": "execute_result"
    }
   ],
   "source": [
    "subarr = arr[col == 2,:]\n",
    "subarr"
   ]
  },
  {
   "block_group": "5078c9156c4147308599a8d17575f96d",
   "cell_type": "code",
   "execution_count": null,
   "metadata": {
    "cell_id": "c3584d8d252c4b948635f59f09ad69d5",
    "deepnote_cell_type": "code",
    "deepnote_to_be_reexecuted": false,
    "execution_millis": 17,
    "execution_start": 1696450403949,
    "source_hash": null
   },
   "outputs": [
    {
     "data": {
      "text/plain": [
       "array([[2, 0, 1],\n",
       "       [2, 0, 2],\n",
       "       [2, 3, 4],\n",
       "       [2, 2, 2]])"
      ]
     },
     "execution_count": 11,
     "metadata": {},
     "output_type": "execute_result"
    }
   ],
   "source": [
    "arr[:][col == 2] # arr[:] every row"
   ]
  },
  {
   "block_group": "e08cd0e8a45c45068dd5b10fe21a7b28",
   "cell_type": "code",
   "execution_count": null,
   "metadata": {
    "cell_id": "a087129ae48e43bf9123567f769e012a",
    "deepnote_cell_type": "code",
    "deepnote_to_be_reexecuted": false,
    "execution_millis": 16,
    "execution_start": 1696450465976,
    "source_hash": null
   },
   "outputs": [
    {
     "data": {
      "text/plain": [
       "array([[2, 0, 1],\n",
       "       [2, 0, 2],\n",
       "       [2, 3, 4],\n",
       "       [2, 2, 2]])"
      ]
     },
     "execution_count": 12,
     "metadata": {},
     "output_type": "execute_result"
    }
   ],
   "source": [
    "arr[col == 2]"
   ]
  },
  {
   "block_group": "e409aa9982e2407baa3e96f4afd898bf",
   "cell_type": "markdown",
   "metadata": {
    "cell_id": "dd0138efcf214598ba9a04943220a171",
    "deepnote_cell_type": "markdown"
   },
   "source": [
    "## More complex example of Boolean indexing\n",
    "\n",
    "Define `arr` as above.  We will then create the subarray of `arr` containing the rows which have at least two 2s using the following strategy."
   ]
  },
  {
   "block_group": "078b53ff138345d3a153762408e6cd58",
   "cell_type": "markdown",
   "metadata": {
    "cell_id": "41f7335930bc418d8915221fa0ec931a",
    "deepnote_cell_type": "markdown"
   },
   "source": [
    "* Make a 10x3 Boolean array indicating where `arr` is equal to 2."
   ]
  },
  {
   "block_group": "42eb2d213ff54ae0bb0db6fd4f722da1",
   "cell_type": "code",
   "execution_count": null,
   "metadata": {
    "cell_id": "f2a182e45583441bbecca392b57995ac",
    "deepnote_cell_type": "code",
    "deepnote_to_be_reexecuted": false,
    "execution_millis": 22,
    "execution_start": 1696450667749,
    "source_hash": null
   },
   "outputs": [
    {
     "data": {
      "text/plain": [
       "array([[False, False, False],\n",
       "       [ True, False, False],\n",
       "       [ True, False,  True],\n",
       "       [False, False,  True],\n",
       "       [ True, False, False],\n",
       "       [False, False, False],\n",
       "       [False, False,  True],\n",
       "       [False, False, False],\n",
       "       [False, False, False],\n",
       "       [ True,  True,  True]])"
      ]
     },
     "execution_count": 13,
     "metadata": {},
     "output_type": "execute_result"
    }
   ],
   "source": [
    "arr == 2"
   ]
  },
  {
   "block_group": "8fa174dd5e134d3ab7a9c4ccc5aeff75",
   "cell_type": "code",
   "execution_count": null,
   "metadata": {
    "cell_id": "02aeb39a19194e4ba3f261930cc86b2d",
    "deepnote_cell_type": "code",
    "deepnote_to_be_reexecuted": false,
    "execution_millis": 18,
    "execution_start": 1696450698145,
    "source_hash": null
   },
   "outputs": [
    {
     "data": {
      "text/plain": [
       "(10, 3)"
      ]
     },
     "execution_count": 14,
     "metadata": {},
     "output_type": "execute_result"
    }
   ],
   "source": [
    "(arr == 2).shape"
   ]
  },
  {
   "block_group": "858327be01fa48c6b2d1589614f0d319",
   "cell_type": "markdown",
   "metadata": {
    "cell_id": "899ef036c24549dda3eaaa16c45f5a80",
    "deepnote_cell_type": "markdown"
   },
   "source": [
    "* Use the `sum` method with `axis=1` to find how many 2s there are in each row."
   ]
  },
  {
   "block_group": "9f13e112db1948a1928f7dd2d68af3c3",
   "cell_type": "code",
   "execution_count": null,
   "metadata": {
    "cell_id": "d18c405af3c640418e3e502cd8980993",
    "deepnote_cell_type": "code",
    "deepnote_to_be_reexecuted": false,
    "execution_millis": 125,
    "execution_start": 1696450848220,
    "source_hash": null
   },
   "outputs": [
    {
     "name": "stdout",
     "output_type": "stream",
     "text": [
      "Help on function sum in module numpy:\n",
      "\n",
      "sum(a, axis=None, dtype=None, out=None, keepdims=<no value>, initial=<no value>, where=<no value>)\n",
      "    Sum of array elements over a given axis.\n",
      "    \n",
      "    Parameters\n",
      "    ----------\n",
      "    a : array_like\n",
      "        Elements to sum.\n",
      "    axis : None or int or tuple of ints, optional\n",
      "        Axis or axes along which a sum is performed.  The default,\n",
      "        axis=None, will sum all of the elements of the input array.  If\n",
      "        axis is negative it counts from the last to the first axis.\n",
      "    \n",
      "        .. versionadded:: 1.7.0\n",
      "    \n",
      "        If axis is a tuple of ints, a sum is performed on all of the axes\n",
      "        specified in the tuple instead of a single axis or all the axes as\n",
      "        before.\n",
      "    dtype : dtype, optional\n",
      "        The type of the returned array and of the accumulator in which the\n",
      "        elements are summed.  The dtype of `a` is used by default unless `a`\n",
      "        has an integer dtype of less precision than the default platform\n",
      "        integer.  In that case, if `a` is signed then the platform integer\n",
      "        is used while if `a` is unsigned then an unsigned integer of the\n",
      "        same precision as the platform integer is used.\n",
      "    out : ndarray, optional\n",
      "        Alternative output array in which to place the result. It must have\n",
      "        the same shape as the expected output, but the type of the output\n",
      "        values will be cast if necessary.\n",
      "    keepdims : bool, optional\n",
      "        If this is set to True, the axes which are reduced are left\n",
      "        in the result as dimensions with size one. With this option,\n",
      "        the result will broadcast correctly against the input array.\n",
      "    \n",
      "        If the default value is passed, then `keepdims` will not be\n",
      "        passed through to the `sum` method of sub-classes of\n",
      "        `ndarray`, however any non-default value will be.  If the\n",
      "        sub-class' method does not implement `keepdims` any\n",
      "        exceptions will be raised.\n",
      "    initial : scalar, optional\n",
      "        Starting value for the sum. See `~numpy.ufunc.reduce` for details.\n",
      "    \n",
      "        .. versionadded:: 1.15.0\n",
      "    \n",
      "    where : array_like of bool, optional\n",
      "        Elements to include in the sum. See `~numpy.ufunc.reduce` for details.\n",
      "    \n",
      "        .. versionadded:: 1.17.0\n",
      "    \n",
      "    Returns\n",
      "    -------\n",
      "    sum_along_axis : ndarray\n",
      "        An array with the same shape as `a`, with the specified\n",
      "        axis removed.   If `a` is a 0-d array, or if `axis` is None, a scalar\n",
      "        is returned.  If an output array is specified, a reference to\n",
      "        `out` is returned.\n",
      "    \n",
      "    See Also\n",
      "    --------\n",
      "    ndarray.sum : Equivalent method.\n",
      "    \n",
      "    add.reduce : Equivalent functionality of `add`.\n",
      "    \n",
      "    cumsum : Cumulative sum of array elements.\n",
      "    \n",
      "    trapz : Integration of array values using the composite trapezoidal rule.\n",
      "    \n",
      "    mean, average\n",
      "    \n",
      "    Notes\n",
      "    -----\n",
      "    Arithmetic is modular when using integer types, and no error is\n",
      "    raised on overflow.\n",
      "    \n",
      "    The sum of an empty array is the neutral element 0:\n",
      "    \n",
      "    >>> np.sum([])\n",
      "    0.0\n",
      "    \n",
      "    For floating point numbers the numerical precision of sum (and\n",
      "    ``np.add.reduce``) is in general limited by directly adding each number\n",
      "    individually to the result causing rounding errors in every step.\n",
      "    However, often numpy will use a  numerically better approach (partial\n",
      "    pairwise summation) leading to improved precision in many use-cases.\n",
      "    This improved precision is always provided when no ``axis`` is given.\n",
      "    When ``axis`` is given, it will depend on which axis is summed.\n",
      "    Technically, to provide the best speed possible, the improved precision\n",
      "    is only used when the summation is along the fast axis in memory.\n",
      "    Note that the exact precision may vary depending on other parameters.\n",
      "    In contrast to NumPy, Python's ``math.fsum`` function uses a slower but\n",
      "    more precise approach to summation.\n",
      "    Especially when summing a large number of lower precision floating point\n",
      "    numbers, such as ``float32``, numerical errors can become significant.\n",
      "    In such cases it can be advisable to use `dtype=\"float64\"` to use a higher\n",
      "    precision for the output.\n",
      "    \n",
      "    Examples\n",
      "    --------\n",
      "    >>> np.sum([0.5, 1.5])\n",
      "    2.0\n",
      "    >>> np.sum([0.5, 0.7, 0.2, 1.5], dtype=np.int32)\n",
      "    1\n",
      "    >>> np.sum([[0, 1], [0, 5]])\n",
      "    6\n",
      "    >>> np.sum([[0, 1], [0, 5]], axis=0)\n",
      "    array([0, 6])\n",
      "    >>> np.sum([[0, 1], [0, 5]], axis=1)\n",
      "    array([1, 5])\n",
      "    >>> np.sum([[0, 1], [np.nan, 5]], where=[False, True], axis=1)\n",
      "    array([1., 5.])\n",
      "    \n",
      "    If the accumulator is too small, overflow occurs:\n",
      "    \n",
      "    >>> np.ones(128, dtype=np.int8).sum(dtype=np.int8)\n",
      "    -128\n",
      "    \n",
      "    You can also start the sum with a value other than zero:\n",
      "    \n",
      "    >>> np.sum([10], initial=5)\n",
      "    15\n",
      "\n"
     ]
    }
   ],
   "source": [
    "help(np.sum)"
   ]
  },
  {
   "block_group": "14eb3c4a6abe47ffb6e72e4ee359d145",
   "cell_type": "code",
   "execution_count": null,
   "metadata": {
    "cell_id": "d6197ecdeaee40ef9980474434a5892f",
    "deepnote_cell_type": "code",
    "deepnote_to_be_reexecuted": false,
    "execution_millis": 17,
    "execution_start": 1696451046162,
    "source_hash": null
   },
   "outputs": [
    {
     "data": {
      "text/plain": [
       "array([0, 1, 2, 1, 1, 0, 1, 0, 0, 3])"
      ]
     },
     "execution_count": 16,
     "metadata": {},
     "output_type": "execute_result"
    }
   ],
   "source": [
    "ba = (arr == 2)\n",
    "np.sum(ba, axis = 1) # axis = 1 means taking sum of all elements (cols) in each row"
   ]
  },
  {
   "block_group": "4597e6a6c1b741fbb8e253d57d0c34a6",
   "cell_type": "code",
   "execution_count": null,
   "metadata": {
    "cell_id": "f9ede95e4e8143db86df05b5ddcd8b47",
    "deepnote_cell_type": "code",
    "deepnote_to_be_reexecuted": false,
    "execution_millis": 33,
    "execution_start": 1696451280798,
    "source_hash": null
   },
   "outputs": [
    {
     "data": {
      "text/plain": [
       "array([0, 1, 2, 1, 1, 0, 1, 0, 0, 3])"
      ]
     },
     "execution_count": 19,
     "metadata": {},
     "output_type": "execute_result"
    }
   ],
   "source": [
    "ba.sum(axis = 1)"
   ]
  },
  {
   "block_group": "31a66e6d12084f61aba0aa8b01b9e706",
   "cell_type": "markdown",
   "metadata": {
    "cell_id": "7786a174e61c444eaa9ac9ef150d0bfe",
    "deepnote_cell_type": "markdown"
   },
   "source": [
    "Axis along which a sum is performed. Axis = 0 means taking sum along the row "
   ]
  },
  {
   "block_group": "55487a90a00045b79d27921c5a46b3f0",
   "cell_type": "code",
   "execution_count": null,
   "metadata": {
    "cell_id": "7056fd4c82e54d99b63e479e08b33015",
    "deepnote_cell_type": "code",
    "deepnote_to_be_reexecuted": false,
    "execution_millis": 17,
    "execution_start": 1696451186593,
    "source_hash": null
   },
   "outputs": [
    {
     "data": {
      "text/plain": [
       "array([4, 1, 4])"
      ]
     },
     "execution_count": 17,
     "metadata": {},
     "output_type": "execute_result"
    }
   ],
   "source": [
    "np.sum(ba, axis = 0) "
   ]
  },
  {
   "block_group": "1903f3ed25284fb4a61a2d1c3c3a1a46",
   "cell_type": "code",
   "execution_count": null,
   "metadata": {
    "cell_id": "da97d01c350a4b77b458ea3a4a547474",
    "deepnote_cell_type": "code",
    "deepnote_to_be_reexecuted": false,
    "execution_millis": 866,
    "execution_start": 1696451221283,
    "source_hash": null
   },
   "outputs": [
    {
     "ename": "AxisError",
     "evalue": "axis 2 is out of bounds for array of dimension 2",
     "output_type": "error",
     "traceback": [
      "\u001b[0;31m---------------------------------------------------------------------------\u001b[0m",
      "\u001b[0;31mAxisError\u001b[0m                                 Traceback (most recent call last)",
      "Cell \u001b[0;32mIn [18], line 1\u001b[0m\n\u001b[0;32m----> 1\u001b[0m \u001b[43mnp\u001b[49m\u001b[38;5;241;43m.\u001b[39;49m\u001b[43msum\u001b[49m\u001b[43m(\u001b[49m\u001b[43mba\u001b[49m\u001b[43m,\u001b[49m\u001b[43m \u001b[49m\u001b[43maxis\u001b[49m\u001b[43m \u001b[49m\u001b[38;5;241;43m=\u001b[39;49m\u001b[38;5;241;43m2\u001b[39;49m\u001b[43m)\u001b[49m\n",
      "File \u001b[0;32m<__array_function__ internals>:180\u001b[0m, in \u001b[0;36msum\u001b[0;34m(*args, **kwargs)\u001b[0m\n",
      "File \u001b[0;32m/shared-libs/python3.9/py/lib/python3.9/site-packages/numpy/core/fromnumeric.py:2298\u001b[0m, in \u001b[0;36msum\u001b[0;34m(a, axis, dtype, out, keepdims, initial, where)\u001b[0m\n\u001b[1;32m   2295\u001b[0m         \u001b[38;5;28;01mreturn\u001b[39;00m out\n\u001b[1;32m   2296\u001b[0m     \u001b[38;5;28;01mreturn\u001b[39;00m res\n\u001b[0;32m-> 2298\u001b[0m \u001b[38;5;28;01mreturn\u001b[39;00m \u001b[43m_wrapreduction\u001b[49m\u001b[43m(\u001b[49m\u001b[43ma\u001b[49m\u001b[43m,\u001b[49m\u001b[43m \u001b[49m\u001b[43mnp\u001b[49m\u001b[38;5;241;43m.\u001b[39;49m\u001b[43madd\u001b[49m\u001b[43m,\u001b[49m\u001b[43m \u001b[49m\u001b[38;5;124;43m'\u001b[39;49m\u001b[38;5;124;43msum\u001b[39;49m\u001b[38;5;124;43m'\u001b[39;49m\u001b[43m,\u001b[49m\u001b[43m \u001b[49m\u001b[43maxis\u001b[49m\u001b[43m,\u001b[49m\u001b[43m \u001b[49m\u001b[43mdtype\u001b[49m\u001b[43m,\u001b[49m\u001b[43m \u001b[49m\u001b[43mout\u001b[49m\u001b[43m,\u001b[49m\u001b[43m \u001b[49m\u001b[43mkeepdims\u001b[49m\u001b[38;5;241;43m=\u001b[39;49m\u001b[43mkeepdims\u001b[49m\u001b[43m,\u001b[49m\n\u001b[1;32m   2299\u001b[0m \u001b[43m                      \u001b[49m\u001b[43minitial\u001b[49m\u001b[38;5;241;43m=\u001b[39;49m\u001b[43minitial\u001b[49m\u001b[43m,\u001b[49m\u001b[43m \u001b[49m\u001b[43mwhere\u001b[49m\u001b[38;5;241;43m=\u001b[39;49m\u001b[43mwhere\u001b[49m\u001b[43m)\u001b[49m\n",
      "File \u001b[0;32m/shared-libs/python3.9/py/lib/python3.9/site-packages/numpy/core/fromnumeric.py:86\u001b[0m, in \u001b[0;36m_wrapreduction\u001b[0;34m(obj, ufunc, method, axis, dtype, out, **kwargs)\u001b[0m\n\u001b[1;32m     83\u001b[0m         \u001b[38;5;28;01melse\u001b[39;00m:\n\u001b[1;32m     84\u001b[0m             \u001b[38;5;28;01mreturn\u001b[39;00m reduction(axis\u001b[38;5;241m=\u001b[39maxis, out\u001b[38;5;241m=\u001b[39mout, \u001b[38;5;241m*\u001b[39m\u001b[38;5;241m*\u001b[39mpasskwargs)\n\u001b[0;32m---> 86\u001b[0m \u001b[38;5;28;01mreturn\u001b[39;00m \u001b[43mufunc\u001b[49m\u001b[38;5;241;43m.\u001b[39;49m\u001b[43mreduce\u001b[49m\u001b[43m(\u001b[49m\u001b[43mobj\u001b[49m\u001b[43m,\u001b[49m\u001b[43m \u001b[49m\u001b[43maxis\u001b[49m\u001b[43m,\u001b[49m\u001b[43m \u001b[49m\u001b[43mdtype\u001b[49m\u001b[43m,\u001b[49m\u001b[43m \u001b[49m\u001b[43mout\u001b[49m\u001b[43m,\u001b[49m\u001b[43m \u001b[49m\u001b[38;5;241;43m*\u001b[39;49m\u001b[38;5;241;43m*\u001b[39;49m\u001b[43mpasskwargs\u001b[49m\u001b[43m)\u001b[49m\n",
      "\u001b[0;31mAxisError\u001b[0m: axis 2 is out of bounds for array of dimension 2"
     ]
    }
   ],
   "source": [
    "np.sum(ba, axis =2) # we do not have the third dimension"
   ]
  },
  {
   "block_group": "7e88060334b44d279808e9ce21c7fd33",
   "cell_type": "markdown",
   "metadata": {
    "cell_id": "0c2cf3a7a8c0432dad2633dbf6a6b70a",
    "deepnote_cell_type": "markdown"
   },
   "source": [
    "* Use Boolean indexing to create the subarray of `arr` containing only the rows which have at least two 2s. "
   ]
  },
  {
   "block_group": "b68a5a16d63d41c8a7cdc8f94f9b3d44",
   "cell_type": "code",
   "execution_count": null,
   "metadata": {
    "cell_id": "93f2a8566fff41e4a2aae28bf493f5b6",
    "deepnote_cell_type": "code",
    "deepnote_to_be_reexecuted": false,
    "execution_millis": 67,
    "execution_start": 1696451433372,
    "source_hash": null
   },
   "outputs": [
    {
     "data": {
      "text/plain": [
       "array([False, False,  True, False, False, False, False, False, False,\n",
       "        True])"
      ]
     },
     "execution_count": 20,
     "metadata": {},
     "output_type": "execute_result"
    }
   ],
   "source": [
    "num2 = ba.sum(axis = 1)\n",
    "num2 >= 2"
   ]
  },
  {
   "block_group": "08be1e46b6a8400395dbf2f9c47b4162",
   "cell_type": "code",
   "execution_count": null,
   "metadata": {
    "cell_id": "32b0480fa4a44b14beb3f839961d97b6",
    "deepnote_cell_type": "code",
    "deepnote_to_be_reexecuted": false,
    "execution_millis": 38,
    "execution_start": 1696451462748,
    "source_hash": null
   },
   "outputs": [
    {
     "data": {
      "text/plain": [
       "array([False, False,  True, False, False, False, False, False, False,\n",
       "        True])"
      ]
     },
     "execution_count": 21,
     "metadata": {},
     "output_type": "execute_result"
    }
   ],
   "source": [
    "num2 > 1"
   ]
  },
  {
   "block_group": "e239d8b875ce4812bd9876645593d7db",
   "cell_type": "markdown",
   "metadata": {
    "cell_id": "a762a449138e497e92219b3365815192",
    "deepnote_cell_type": "markdown"
   },
   "source": [
    "Keep the rows corresponding to the True values, that is, we keep the rows that have at least two 2s.\n",
    "\n"
   ]
  },
  {
   "block_group": "84aa2c7c4c09432ea24b670d6d4618c2",
   "cell_type": "code",
   "execution_count": null,
   "metadata": {
    "cell_id": "1913812107374ba0a9d0915534287b78",
    "deepnote_cell_type": "code",
    "deepnote_to_be_reexecuted": false,
    "execution_millis": 20,
    "execution_start": 1696451542964,
    "source_hash": null
   },
   "outputs": [
    {
     "data": {
      "text/plain": [
       "array([[2, 0, 2],\n",
       "       [2, 2, 2]])"
      ]
     },
     "execution_count": 23,
     "metadata": {},
     "output_type": "execute_result"
    }
   ],
   "source": [
    "subar2 = arr[num2 > 1]\n",
    "subar2"
   ]
  },
  {
   "block_group": "c07344ba9bf34a39bc3e0823e4d1f043",
   "cell_type": "code",
   "execution_count": null,
   "metadata": {
    "cell_id": "ef826df942d646e3a05e97b30a7cfd0a",
    "deepnote_cell_type": "code",
    "deepnote_to_be_reexecuted": false,
    "execution_millis": 20,
    "execution_start": 1696451662059,
    "source_hash": null
   },
   "outputs": [
    {
     "data": {
      "text/plain": [
       "array([[3, 4, 0],\n",
       "       [2, 0, 1],\n",
       "       [2, 0, 2],\n",
       "       [4, 4, 2],\n",
       "       [2, 3, 4],\n",
       "       [4, 0, 3],\n",
       "       [3, 0, 2],\n",
       "       [4, 3, 1],\n",
       "       [1, 3, 0],\n",
       "       [2, 2, 2]])"
      ]
     },
     "execution_count": 24,
     "metadata": {},
     "output_type": "execute_result"
    }
   ],
   "source": [
    "arr"
   ]
  },
  {
   "block_group": "3b7feaf709ee427c8415580b668c180c",
   "cell_type": "markdown",
   "metadata": {
    "cell_id": "8cf9c114d1894703812e37820e082028",
    "deepnote_cell_type": "markdown"
   },
   "source": [
    "We’ve seen that we can use Boolean arrays to keep certain rows. We can also use a list of indices. Here we get the row at index 0, 5 and 9."
   ]
  },
  {
   "block_group": "1b4a049cf5834a36bc380ecee0c5046a",
   "cell_type": "code",
   "execution_count": null,
   "metadata": {
    "cell_id": "7f0d2e7f63364fdbab569959bfd1fdfe",
    "deepnote_cell_type": "code",
    "deepnote_to_be_reexecuted": false,
    "execution_millis": 20,
    "execution_start": 1696451733390,
    "source_hash": null
   },
   "outputs": [
    {
     "data": {
      "text/plain": [
       "array([[3, 4, 0],\n",
       "       [4, 0, 3],\n",
       "       [2, 2, 2]])"
      ]
     },
     "execution_count": 25,
     "metadata": {},
     "output_type": "execute_result"
    }
   ],
   "source": [
    "arr[[0, 5, 9]] #arr[[0,5,6],:] #arr[:][[0, 5, 9]]"
   ]
  },
  {
   "block_group": "0fe03782e45545ca839c77bfc114f306",
   "cell_type": "code",
   "execution_count": null,
   "metadata": {
    "cell_id": "e490ca6e2edb4aefa160e659a51237d4",
    "deepnote_cell_type": "code",
    "deepnote_to_be_reexecuted": false,
    "execution_millis": 24,
    "execution_start": 1696451805777,
    "source_hash": null
   },
   "outputs": [
    {
     "data": {
      "text/plain": [
       "array([[3, 4, 0],\n",
       "       [4, 0, 3],\n",
       "       [3, 0, 2]])"
      ]
     },
     "execution_count": 26,
     "metadata": {},
     "output_type": "execute_result"
    }
   ],
   "source": [
    "arr[[0,5,6],:]"
   ]
  },
  {
   "block_group": "6179c56907684b8fbba5b4cfa8c2dc65",
   "cell_type": "code",
   "execution_count": null,
   "metadata": {
    "cell_id": "58565792eccc4193a56b322feddde017",
    "deepnote_cell_type": "code",
    "deepnote_to_be_reexecuted": false,
    "execution_millis": 21,
    "execution_start": 1696451856588,
    "source_hash": null
   },
   "outputs": [
    {
     "ename": "IndexError",
     "evalue": "too many indices for array: array is 2-dimensional, but 3 were indexed",
     "output_type": "error",
     "traceback": [
      "\u001b[0;31m---------------------------------------------------------------------------\u001b[0m",
      "\u001b[0;31mIndexError\u001b[0m                                Traceback (most recent call last)",
      "Cell \u001b[0;32mIn [27], line 1\u001b[0m\n\u001b[0;32m----> 1\u001b[0m \u001b[43marr\u001b[49m\u001b[43m[\u001b[49m\u001b[38;5;241;43m0\u001b[39;49m\u001b[43m,\u001b[49m\u001b[38;5;241;43m5\u001b[39;49m\u001b[43m,\u001b[49m\u001b[38;5;241;43m6\u001b[39;49m\u001b[43m]\u001b[49m\n",
      "\u001b[0;31mIndexError\u001b[0m: too many indices for array: array is 2-dimensional, but 3 were indexed"
     ]
    }
   ],
   "source": [
    "arr[0,5,9]"
   ]
  },
  {
   "block_group": "50f93714a7804d7db244fa5a7f8f37ff",
   "cell_type": "markdown",
   "metadata": {
    "cell_id": "3f4e27667585402b80a76f8742ec87d6",
    "deepnote_cell_type": "markdown"
   },
   "source": [
    "Get the row at index 9 repeated three times."
   ]
  },
  {
   "block_group": "09d7c42ce3904573b62a936afb456dac",
   "cell_type": "code",
   "execution_count": null,
   "metadata": {
    "cell_id": "aab9a00d74a84398a401fb1ac4c272c9",
    "deepnote_cell_type": "code",
    "deepnote_to_be_reexecuted": false,
    "execution_millis": 31,
    "execution_start": 1696451960024,
    "source_hash": null
   },
   "outputs": [
    {
     "data": {
      "text/plain": [
       "array([[2, 2, 2],\n",
       "       [2, 2, 2],\n",
       "       [2, 2, 2]])"
      ]
     },
     "execution_count": 29,
     "metadata": {},
     "output_type": "execute_result"
    }
   ],
   "source": [
    "arr[[9, 9, 9]] # repeat last row three times"
   ]
  },
  {
   "block_group": "290f061eb1f74022b35896f2bcaaf09d",
   "cell_type": "code",
   "execution_count": null,
   "metadata": {
    "cell_id": "2372bdcc23044c19bed69b9eadcec783",
    "deepnote_cell_type": "code",
    "deepnote_to_be_reexecuted": false,
    "execution_millis": 18,
    "execution_start": 1696451983091,
    "source_hash": null
   },
   "outputs": [
    {
     "data": {
      "text/plain": [
       "array([[3, 4, 0],\n",
       "       [2, 0, 1],\n",
       "       [2, 0, 2],\n",
       "       [4, 4, 2],\n",
       "       [2, 3, 4],\n",
       "       [4, 0, 3],\n",
       "       [3, 0, 2],\n",
       "       [4, 3, 1],\n",
       "       [1, 3, 0],\n",
       "       [2, 2, 2]])"
      ]
     },
     "execution_count": 30,
     "metadata": {},
     "output_type": "execute_result"
    }
   ],
   "source": [
    "arr"
   ]
  },
  {
   "block_group": "9f458fa740c54112970d116778652d61",
   "cell_type": "markdown",
   "metadata": {
    "cell_id": "e568adbe786c45d0a58a203b2940a6a7",
    "deepnote_cell_type": "markdown"
   },
   "source": [
    "Why did we use the double square brackets above? The outer square brackets are for indexing. The inner square brackets are for a list. Why do we need the list inside? Here is what happens if we omit the inner square brackets. The 0 gets us to the row at index 0, and the 1 gets to the element at index 1 in that row. (Remember that numbering in Python starts at 0.)"
   ]
  },
  {
   "block_group": "1554ed6a6fef403299c44de018a74b72",
   "cell_type": "code",
   "execution_count": null,
   "metadata": {
    "cell_id": "6a0b2dc248214fd4af4e1ac5bcc19c6b",
    "deepnote_cell_type": "code",
    "deepnote_to_be_reexecuted": false,
    "execution_millis": 48,
    "execution_start": 1696452002023,
    "source_hash": null
   },
   "outputs": [
    {
     "data": {
      "text/plain": [
       "4"
      ]
     },
     "execution_count": 31,
     "metadata": {},
     "output_type": "execute_result"
    }
   ],
   "source": [
    "arr[0,1]"
   ]
  },
  {
   "block_group": "74c316a9c1d446c88d1ab9d19e82e95f",
   "cell_type": "markdown",
   "metadata": {
    "cell_id": "a58a5f34b565461f9f0283eb57374eb4",
    "deepnote_cell_type": "markdown"
   },
   "source": [
    "Get the column at index 0 repeated twice."
   ]
  },
  {
   "block_group": "f6b79e3ff10c44d981dbd51c39c1c134",
   "cell_type": "code",
   "execution_count": null,
   "metadata": {
    "cell_id": "27d30ac01f6c43b1970907d75ec372c7",
    "deepnote_cell_type": "code",
    "deepnote_to_be_reexecuted": false,
    "execution_millis": 43,
    "execution_start": 1696452083158,
    "source_hash": null
   },
   "outputs": [
    {
     "data": {
      "text/plain": [
       "array([[3, 3],\n",
       "       [2, 2],\n",
       "       [2, 2],\n",
       "       [4, 4],\n",
       "       [2, 2],\n",
       "       [4, 4],\n",
       "       [3, 3],\n",
       "       [4, 4],\n",
       "       [1, 1],\n",
       "       [2, 2]])"
      ]
     },
     "execution_count": 32,
     "metadata": {},
     "output_type": "execute_result"
    }
   ],
   "source": [
    "arr[:,[0, 0]]"
   ]
  },
  {
   "block_group": "5455e672708f4869a7eaef0c5819ddf4",
   "cell_type": "code",
   "execution_count": null,
   "metadata": {
    "cell_id": "aeb39f022f0047edb992d642437ee242",
    "deepnote_cell_type": "code",
    "deepnote_to_be_reexecuted": false,
    "execution_millis": 28,
    "execution_start": 1696452209379,
    "source_hash": null
   },
   "outputs": [
    {
     "data": {
      "text/plain": [
       "list"
      ]
     },
     "execution_count": 33,
     "metadata": {},
     "output_type": "execute_result"
    }
   ],
   "source": [
    "type([1,2,3,4,5])"
   ]
  },
  {
   "block_group": "166081052a8244d8a62d8c9ba918f14f",
   "cell_type": "code",
   "execution_count": null,
   "metadata": {
    "cell_id": "36914d49d7b840618ae76b9ba8bddac6",
    "deepnote_cell_type": "code",
    "deepnote_to_be_reexecuted": false,
    "execution_millis": 19,
    "execution_start": 1696452224738,
    "source_hash": null
   },
   "outputs": [
    {
     "data": {
      "text/plain": [
       "numpy.ndarray"
      ]
     },
     "execution_count": 34,
     "metadata": {},
     "output_type": "execute_result"
    }
   ],
   "source": [
    "arrb = np.array([1,2,3,4,5])\n",
    "type(arrb)"
   ]
  },
  {
   "block_group": "f432ae0adc0741c580b1cf5435415b3f",
   "cell_type": "markdown",
   "metadata": {
    "cell_id": "d15b372b9ed9452f8746d5402af65d21",
    "deepnote_cell_type": "markdown"
   },
   "source": [
    "## Another example of the `axis` keyword argument"
   ]
  },
  {
   "block_group": "989061de6ac84fbdb4ed37a403744d84",
   "cell_type": "markdown",
   "metadata": {
    "cell_id": "5db4e80e478f4e2ba27b5be2d76f1d39",
    "deepnote_cell_type": "markdown"
   },
   "source": [
    "* What is the result of evaluating the following?\n",
    "* `arr.max()`\n",
    "* `arr.max(axis=0)` \n",
    "* `arr.max(axis=1)`"
   ]
  },
  {
   "block_group": "92c374d498da4d488038c16248dca9cb",
   "cell_type": "code",
   "execution_count": null,
   "metadata": {
    "cell_id": "74fc8d53bab94294989c705308ab6c83",
    "deepnote_cell_type": "code",
    "deepnote_to_be_reexecuted": false,
    "execution_millis": 158,
    "execution_start": 1696452322993,
    "source_hash": null
   },
   "outputs": [
    {
     "name": "stdout",
     "output_type": "stream",
     "text": [
      "Help on function amax in module numpy:\n",
      "\n",
      "amax(a, axis=None, out=None, keepdims=<no value>, initial=<no value>, where=<no value>)\n",
      "    Return the maximum of an array or maximum along an axis.\n",
      "    \n",
      "    Parameters\n",
      "    ----------\n",
      "    a : array_like\n",
      "        Input data.\n",
      "    axis : None or int or tuple of ints, optional\n",
      "        Axis or axes along which to operate.  By default, flattened input is\n",
      "        used.\n",
      "    \n",
      "        .. versionadded:: 1.7.0\n",
      "    \n",
      "        If this is a tuple of ints, the maximum is selected over multiple axes,\n",
      "        instead of a single axis or all the axes as before.\n",
      "    out : ndarray, optional\n",
      "        Alternative output array in which to place the result.  Must\n",
      "        be of the same shape and buffer length as the expected output.\n",
      "        See :ref:`ufuncs-output-type` for more details.\n",
      "    \n",
      "    keepdims : bool, optional\n",
      "        If this is set to True, the axes which are reduced are left\n",
      "        in the result as dimensions with size one. With this option,\n",
      "        the result will broadcast correctly against the input array.\n",
      "    \n",
      "        If the default value is passed, then `keepdims` will not be\n",
      "        passed through to the `amax` method of sub-classes of\n",
      "        `ndarray`, however any non-default value will be.  If the\n",
      "        sub-class' method does not implement `keepdims` any\n",
      "        exceptions will be raised.\n",
      "    \n",
      "    initial : scalar, optional\n",
      "        The minimum value of an output element. Must be present to allow\n",
      "        computation on empty slice. See `~numpy.ufunc.reduce` for details.\n",
      "    \n",
      "        .. versionadded:: 1.15.0\n",
      "    \n",
      "    where : array_like of bool, optional\n",
      "        Elements to compare for the maximum. See `~numpy.ufunc.reduce`\n",
      "        for details.\n",
      "    \n",
      "        .. versionadded:: 1.17.0\n",
      "    \n",
      "    Returns\n",
      "    -------\n",
      "    amax : ndarray or scalar\n",
      "        Maximum of `a`. If `axis` is None, the result is a scalar value.\n",
      "        If `axis` is given, the result is an array of dimension\n",
      "        ``a.ndim - 1``.\n",
      "    \n",
      "    See Also\n",
      "    --------\n",
      "    amin :\n",
      "        The minimum value of an array along a given axis, propagating any NaNs.\n",
      "    nanmax :\n",
      "        The maximum value of an array along a given axis, ignoring any NaNs.\n",
      "    maximum :\n",
      "        Element-wise maximum of two arrays, propagating any NaNs.\n",
      "    fmax :\n",
      "        Element-wise maximum of two arrays, ignoring any NaNs.\n",
      "    argmax :\n",
      "        Return the indices of the maximum values.\n",
      "    \n",
      "    nanmin, minimum, fmin\n",
      "    \n",
      "    Notes\n",
      "    -----\n",
      "    NaN values are propagated, that is if at least one item is NaN, the\n",
      "    corresponding max value will be NaN as well. To ignore NaN values\n",
      "    (MATLAB behavior), please use nanmax.\n",
      "    \n",
      "    Don't use `amax` for element-wise comparison of 2 arrays; when\n",
      "    ``a.shape[0]`` is 2, ``maximum(a[0], a[1])`` is faster than\n",
      "    ``amax(a, axis=0)``.\n",
      "    \n",
      "    Examples\n",
      "    --------\n",
      "    >>> a = np.arange(4).reshape((2,2))\n",
      "    >>> a\n",
      "    array([[0, 1],\n",
      "           [2, 3]])\n",
      "    >>> np.amax(a)           # Maximum of the flattened array\n",
      "    3\n",
      "    >>> np.amax(a, axis=0)   # Maxima along the first axis\n",
      "    array([2, 3])\n",
      "    >>> np.amax(a, axis=1)   # Maxima along the second axis\n",
      "    array([1, 3])\n",
      "    >>> np.amax(a, where=[False, True], initial=-1, axis=0)\n",
      "    array([-1,  3])\n",
      "    >>> b = np.arange(5, dtype=float)\n",
      "    >>> b[2] = np.NaN\n",
      "    >>> np.amax(b)\n",
      "    nan\n",
      "    >>> np.amax(b, where=~np.isnan(b), initial=-1)\n",
      "    4.0\n",
      "    >>> np.nanmax(b)\n",
      "    4.0\n",
      "    \n",
      "    You can use an initial value to compute the maximum of an empty slice, or\n",
      "    to initialize it to a different value:\n",
      "    \n",
      "    >>> np.amax([[-50], [10]], axis=-1, initial=0)\n",
      "    array([ 0, 10])\n",
      "    \n",
      "    Notice that the initial value is used as one of the elements for which the\n",
      "    maximum is determined, unlike for the default argument Python's max\n",
      "    function, which is only used for empty iterables.\n",
      "    \n",
      "    >>> np.amax([5], initial=6)\n",
      "    6\n",
      "    >>> max([5], default=6)\n",
      "    5\n",
      "\n"
     ]
    }
   ],
   "source": [
    "help(np.max)"
   ]
  },
  {
   "block_group": "f2bfa99c68be4ef2a641a4fb88e31a13",
   "cell_type": "code",
   "execution_count": null,
   "metadata": {
    "cell_id": "4ee6f6623f964b7e981f30e725fb5315",
    "deepnote_cell_type": "code",
    "deepnote_to_be_reexecuted": false,
    "execution_millis": 105,
    "execution_start": 1696452369174,
    "source_hash": null
   },
   "outputs": [
    {
     "data": {
      "text/plain": [
       "array([[3, 4, 0],\n",
       "       [2, 0, 1],\n",
       "       [2, 0, 2],\n",
       "       [4, 4, 2],\n",
       "       [2, 3, 4],\n",
       "       [4, 0, 3],\n",
       "       [3, 0, 2],\n",
       "       [4, 3, 1],\n",
       "       [1, 3, 0],\n",
       "       [2, 2, 2]])"
      ]
     },
     "execution_count": 37,
     "metadata": {},
     "output_type": "execute_result"
    }
   ],
   "source": [
    "arr"
   ]
  },
  {
   "block_group": "e7a610c3eabf48ebadccade5afa90734",
   "cell_type": "markdown",
   "metadata": {
    "cell_id": "2a9507892f844ea981e6cf172c55d7a8",
    "deepnote_cell_type": "markdown"
   },
   "source": [
    "If we use `max()` without any axis argument, it returns the overall maximum in the array. This `max` (like `sum` above) is an example of a method. Methods are types of functions in Python, but they’re functions which are attached to an object. This `max` method and the `sum` method above are attached to NumPy array objects."
   ]
  },
  {
   "block_group": "dd55021b9ea44654bedb56d504ffc185",
   "cell_type": "code",
   "execution_count": null,
   "metadata": {
    "cell_id": "fd320a06fd67466197af7c0387e09566",
    "deepnote_cell_type": "code",
    "deepnote_to_be_reexecuted": false,
    "execution_millis": 33,
    "execution_start": 1696452386795,
    "source_hash": null
   },
   "outputs": [
    {
     "data": {
      "text/plain": [
       "4"
      ]
     },
     "execution_count": 38,
     "metadata": {},
     "output_type": "execute_result"
    }
   ],
   "source": [
    "arr.max()"
   ]
  },
  {
   "block_group": "8c1c727bbf8f437a89a749b47dfc7bda",
   "cell_type": "markdown",
   "metadata": {
    "cell_id": "fd19c8ac9a43462f98dc8534d99595ff",
    "deepnote_cell_type": "markdown"
   },
   "source": [
    "Axis denotes along which to operate. (Why does “rows” correspond to axis=0? For example, when we say 10x3, the 10 refers to rows.)"
   ]
  },
  {
   "block_group": "acf97c142e03449f92612f066f270ee7",
   "cell_type": "code",
   "execution_count": null,
   "metadata": {
    "cell_id": "a4733eafa57a4408b96d2fded082fbc0",
    "deepnote_cell_type": "code",
    "deepnote_to_be_reexecuted": false,
    "execution_millis": 19,
    "execution_start": 1696452442586,
    "source_hash": null
   },
   "outputs": [
    {
     "data": {
      "text/plain": [
       "array([4, 4, 4])"
      ]
     },
     "execution_count": 39,
     "metadata": {},
     "output_type": "execute_result"
    }
   ],
   "source": [
    "arr.max(axis = 0)"
   ]
  },
  {
   "block_group": "e913b7a0f4904a8aabe1c55202545686",
   "cell_type": "code",
   "execution_count": null,
   "metadata": {
    "cell_id": "ca8965b842694cdd8767f31f9b82094f",
    "deepnote_cell_type": "code",
    "deepnote_to_be_reexecuted": false,
    "execution_millis": 45,
    "execution_start": 1696452507859,
    "source_hash": null
   },
   "outputs": [
    {
     "data": {
      "text/plain": [
       "array([4, 2, 2, 4, 4, 4, 3, 4, 3, 2])"
      ]
     },
     "execution_count": 40,
     "metadata": {},
     "output_type": "execute_result"
    }
   ],
   "source": [
    "arr.max(axis = 1)"
   ]
  },
  {
   "block_group": "cfb8009e51fc4b17a17a4682e8e7d90f",
   "cell_type": "markdown",
   "metadata": {
    "cell_id": "d34f94a0511a4949a6077b1bf55d0c13",
    "deepnote_cell_type": "markdown"
   },
   "source": [
    "* In how many rows of `arr` is the maximum entry in that row `2` or less?"
   ]
  },
  {
   "block_group": "b4cace2fe1dd41a3976f190fa644c010",
   "cell_type": "markdown",
   "metadata": {
    "cell_id": "13cea6e4e976472e97c8ecdcfd205a95",
    "deepnote_cell_type": "markdown"
   },
   "source": [
    "Find the maximum in each row and create a Boolean array, indicating if the maximum is less than or equal to 2 or not."
   ]
  },
  {
   "block_group": "f17558970780454581e72e99023be3bc",
   "cell_type": "code",
   "execution_count": null,
   "metadata": {
    "cell_id": "06922598f3e344d684093e5c249bc1c6",
    "deepnote_cell_type": "code",
    "deepnote_to_be_reexecuted": false,
    "execution_millis": 30,
    "execution_start": 1696452577522,
    "source_hash": null
   },
   "outputs": [
    {
     "data": {
      "text/plain": [
       "array([False,  True,  True, False, False, False, False, False, False,\n",
       "        True])"
      ]
     },
     "execution_count": 41,
     "metadata": {},
     "output_type": "execute_result"
    }
   ],
   "source": [
    "maxrow = arr.max(axis = 1)\n",
    "maxrow <= 2"
   ]
  },
  {
   "block_group": "0e31bc3e566a40d5aca8e33a42a7f255",
   "cell_type": "code",
   "execution_count": null,
   "metadata": {
    "cell_id": "2b3bd555bb6a42019f8ed4e5e84138fa",
    "deepnote_cell_type": "code",
    "deepnote_to_be_reexecuted": false,
    "execution_millis": 18,
    "execution_start": 1696452607693,
    "source_hash": null
   },
   "outputs": [
    {
     "data": {
      "text/plain": [
       "3"
      ]
     },
     "execution_count": 42,
     "metadata": {},
     "output_type": "execute_result"
    }
   ],
   "source": [
    "(maxrow <= 2).sum()"
   ]
  },
  {
   "block_group": "e5a4f374650e4b56a0d33725fd658c6f",
   "cell_type": "markdown",
   "metadata": {
    "cell_id": "6643599f66334aaf87842a4c33d1a1a5",
    "deepnote_cell_type": "markdown"
   },
   "source": [
    "## Functions in Python"
   ]
  },
  {
   "block_group": "434d5361035c4b4fa77b8d520ad839d6",
   "cell_type": "markdown",
   "metadata": {
    "cell_id": "a2ad822c628a4fb3ad6e97331df8f416",
    "deepnote_cell_type": "markdown"
   },
   "source": [
    "* Write a function `getsub` which takes two inputs, a NumPy `arr` and an integer `n`, and as output returns the subarray of `arr` containing all rows with at least two entries equal to `n`."
   ]
  },
  {
   "cell_type": "markdown",
   "metadata": {
    "created_in_deepnote_cell": true,
    "deepnote_cell_type": "markdown"
   },
   "source": [
    "<a style='text-decoration:none;line-height:16px;display:flex;color:#5B5B62;padding:10px;justify-content:end;' href='https://deepnote.com?utm_source=created-in-deepnote-cell&projectId=a41cb9d8-191e-4a90-bf1f-79946a8b3fcf' target=\"_blank\">\n",
    "<img alt='Created in deepnote.com' style='display:inline;max-height:16px;margin:0px;margin-right:7.5px;' src='data:image/svg+xml;base64,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' > </img>\n",
    "Created in <span style='font-weight:600;margin-left:4px;'>Deepnote</span></a>"
   ]
  }
 ],
 "metadata": {
  "deepnote": {},
  "deepnote_execution_queue": [],
  "deepnote_notebook_id": "950aa9b4585b40699635e2e49d86f0d4",
  "deepnote_persisted_session": {
   "createdAt": "2023-10-04T21:16:30.817Z"
  },
  "kernelspec": {
   "display_name": "Python 3 (ipykernel)",
   "language": "python",
   "name": "python3"
  },
  "language_info": {
   "codemirror_mode": {
    "name": "ipython",
    "version": 3
   },
   "file_extension": ".py",
   "mimetype": "text/x-python",
   "name": "python",
   "nbconvert_exporter": "python",
   "pygments_lexer": "ipython3",
   "version": "3.9.16"
  }
 },
 "nbformat": 4,
 "nbformat_minor": 0
}