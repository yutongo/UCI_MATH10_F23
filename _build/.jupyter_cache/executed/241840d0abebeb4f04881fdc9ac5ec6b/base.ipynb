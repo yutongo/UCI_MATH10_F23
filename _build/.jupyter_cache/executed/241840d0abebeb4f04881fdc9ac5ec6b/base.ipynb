{
 "cells": [],
 "metadata": {
  "deepnote": {},
  "deepnote_execution_queue": [],
  "deepnote_notebook_id": "f10e80edae7447ed9aa6ee2b1c1a0441",
  "language_info": {
   "codemirror_mode": {
    "name": "ipython",
    "version": 3
   },
   "file_extension": ".py",
   "mimetype": "text/x-python",
   "name": "python",
   "nbconvert_exporter": "python",
   "pygments_lexer": "ipython3",
   "version": "3.9.18"
  }
 },
 "nbformat": 4,
 "nbformat_minor": 0
}